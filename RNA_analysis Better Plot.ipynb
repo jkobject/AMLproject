{
 "cells": [
  {
   "cell_type": "code",
   "execution_count": null,
   "metadata": {},
   "outputs": [],
   "source": [
    "from __future__ import print_function\n",
    "import os.path\n",
    "import dalmatian as dm\n",
    "import pandas as pd\n",
    "import sys\n",
    "sys.path.insert(0, '../ccle_processing/')\n",
    "import CCLE_postp_function as ccle\n",
    "sys.path.insert(0, '../JKBio/')\n",
    "import Datanalytics as da \n",
    "import TerraFunction as terra\n",
    "%load_ext autoreload\n",
    "from Helper import *\n",
    "%autoreload 2\n",
    "#%load_ext rpy2.ipython\n",
    "from taigapy import TaigaClient\n",
    "tc = TaigaClient()\n",
    "from wand.image import Image as WImage\n",
    "import numpy as np\n",
    "from bokeh.plotting import *\n",
    "from bokeh.models import HoverTool\n",
    "output_notebook()\n",
    "import matplotlib.pyplot as plt\n",
    "%matplotlib inline  \n",
    "import seaborn as sns"
   ]
  },
  {
   "cell_type": "code",
   "execution_count": null,
   "metadata": {},
   "outputs": [],
   "source": [
    "# biggest change genes across time point\n",
    "# GSEA\n",
    "counts = pd.read_csv(\"data/expression.MAX_AMLproject.counts.tsv\", sep='\\t')\n",
    "tpm = pd.read_csv(\"data/expression.MAX_AMLproject.tpm.tsv\", sep='\\t')\n",
    "#transcripts = pd.read_csv(\"data/expression.MAX_AMLproject.transcripts.tsv\", sep='\\t')b"
   ]
  },
  {
   "cell_type": "code",
   "execution_count": null,
   "metadata": {},
   "outputs": [],
   "source": [
    "tpm"
   ]
  },
  {
   "cell_type": "code",
   "execution_count": null,
   "metadata": {},
   "outputs": [],
   "source": [
    "# we have a number of non zero similar to nb of prot coding genes\n",
    "np.count_nonzero(counts.values[:,2:])/30"
   ]
  },
  {
   "cell_type": "code",
   "execution_count": 151,
   "metadata": {},
   "outputs": [
    {
     "data": {
      "text/plain": [
       "Index(['gene_id', 'transcript_id(s)', '0h-A-RNA', '0h-B-RNA', '0h-C-RNA',\n",
       "       '1A-24h-RNA', '1A-8h-RNA', '1B-24h-RNA', '1B-8h-RNA', '1C-24h-RNA',\n",
       "       '1C-8h-RNA', '2A-16h-RNA', '2A-24h-RNA', '2A-2h-RNA', '2A-4h-RNA',\n",
       "       '2A-8h-RNA', '2B-16h-RNA', '2B-24h-RNA', '2B-2h-RNA', '2B-4h-RNA',\n",
       "       '2B-8h-RNA', '2C-16h-RNA', '2C-24h-RNA', '2C-2h-RNA', '2C-4h-RNA',\n",
       "       '2C-8h-RNA', '3A-8h-RNA', '3B-8h-RNA', '3C-8h-RNA', '4A-8h-RNA',\n",
       "       '4B-8h-RNA', '4C-8h-RNA'],\n",
       "      dtype='object')"
      ]
     },
     "execution_count": 151,
     "metadata": {},
     "output_type": "execute_result"
    }
   ],
   "source": [
    "counts.columns"
   ]
  },
  {
   "cell_type": "code",
   "execution_count": 4,
   "metadata": {},
   "outputs": [
    {
     "name": "stdout",
     "output_type": "stream",
     "text": [
      "21412\n"
     ]
    },
    {
     "data": {
      "text/plain": [
       "19162"
      ]
     },
     "execution_count": 4,
     "metadata": {},
     "output_type": "execute_result"
    }
   ],
   "source": [
    "filtered = filterProteinCoding(listofgenes = counts['gene_id'].values, idtype = \"ensembl_gene_id\")\n",
    "counts = counts.iloc[filtered]\n",
    "len(filtered)"
   ]
  },
  {
   "cell_type": "code",
   "execution_count": null,
   "metadata": {},
   "outputs": [],
   "source": [
    "toremove = np.argwhere(counts[counts.columns.values[:2]].values.var(0)==0)\n",
    "toremove"
   ]
  },
  {
   "cell_type": "code",
   "execution_count": null,
   "metadata": {},
   "outputs": [],
   "source": [
    "counts.drop(toremove,1)"
   ]
  },
  {
   "cell_type": "code",
   "execution_count": 5,
   "metadata": {},
   "outputs": [],
   "source": [
    "data = counts[counts.columns.values[2:]].values\n",
    "data = np.log2(1+ (1000000 * (data / data.max(0))))"
   ]
  },
  {
   "cell_type": "code",
   "execution_count": 44,
   "metadata": {},
   "outputs": [
    {
     "data": {
      "text/plain": [
       "13713.666666666666"
      ]
     },
     "execution_count": 44,
     "metadata": {},
     "output_type": "execute_result"
    }
   ],
   "source": [
    "np.count_nonzero(counts.values[:,2:])/30"
   ]
  },
  {
   "cell_type": "code",
   "execution_count": null,
   "metadata": {},
   "outputs": [],
   "source": []
  },
  {
   "cell_type": "code",
   "execution_count": 6,
   "metadata": {},
   "outputs": [],
   "source": [
    "DMSO = '1'\n",
    "MS2 = '2'\n",
    "JQ1 = '3'\n",
    "MS2_JQ1 = '4'\n",
    "replicate = '0'"
   ]
  },
  {
   "cell_type": "code",
   "execution_count": 7,
   "metadata": {},
   "outputs": [],
   "source": [
    "replicate = counts[[val for val in counts.columns if replicate == val[0]]].apply(lambda x: np.log2(1+x))\n",
    "DMSO = replicate.join(counts[[val for val in counts.columns if DMSO == val[0]]].apply(lambda x: np.log2(1+x)))\n",
    "MS2 = replicate.join(counts[[val for val in counts.columns if MS2 == val[0]]].apply(lambda x: np.log2(1+x)))\n",
    "JQ1 = replicate.join(counts[[val for val in counts.columns if JQ1 == val[0]]].apply(lambda x: np.log2(1+x)))\n",
    "MS2_JQ1 = replicate.join(counts[[val for val in counts.columns if MS2_JQ1 == val[0]]].apply(lambda x: np.log2(1+x)))"
   ]
  },
  {
   "cell_type": "markdown",
   "metadata": {},
   "source": [
    "## plot the data"
   ]
  },
  {
   "cell_type": "code",
   "execution_count": null,
   "metadata": {},
   "outputs": [],
   "source": [
    "scatter(TSNE(2,40).fit_transform(counts.values[:,2:].apply(np.log1p)), counts.columns[2:], [int(val[0]) for val in counts.columns[2:]])"
   ]
  },
  {
   "cell_type": "markdown",
   "metadata": {},
   "source": [
    "# lets look at the similarity accross replicates\n",
    "\n",
    "we have some outliers, else it seems to make some sense and on average, to be extremelly similar!"
   ]
  },
  {
   "cell_type": "code",
   "execution_count": 8,
   "metadata": {},
   "outputs": [],
   "source": [
    "MS2repA = MS2[[val for val in MS2.columns if 'A' in val[:-4]]]\n",
    "MS2repB = MS2[[val for val in MS2.columns if 'B' in val[:-4]]]\n",
    "MS2repC = MS2[[val for val in MS2.columns if 'C' in val[:-4]]]"
   ]
  },
  {
   "cell_type": "code",
   "execution_count": 9,
   "metadata": {},
   "outputs": [],
   "source": [
    "# reordering\n",
    "MS2repA = MS2repA[MS2repA.columns.values[[0,3,4,5,1,2]]].apply(np.log1p)\n",
    "MS2repB = MS2repB[MS2repB.columns.values[[0,3,4,5,1,2]]].apply(np.log1p)\n",
    "MS2repC = MS2repC[MS2repC.columns.values[[0,3,4,5,1,2]]].apply(np.log1p)"
   ]
  },
  {
   "cell_type": "code",
   "execution_count": 173,
   "metadata": {},
   "outputs": [
    {
     "data": {
      "text/plain": [
       "0h-A-RNA      34740.181406\n",
       "2A-2h-RNA     34941.405320\n",
       "2A-4h-RNA     34767.067267\n",
       "2A-8h-RNA     35555.872959\n",
       "2A-16h-RNA    36190.389925\n",
       "2A-24h-RNA    34887.628869\n",
       "dtype: float64"
      ]
     },
     "execution_count": 173,
     "metadata": {},
     "output_type": "execute_result"
    }
   ],
   "source": [
    "MS2repA.sum(0)"
   ]
  },
  {
   "cell_type": "code",
   "execution_count": 174,
   "metadata": {},
   "outputs": [
    {
     "data": {
      "text/plain": [
       "0h-B-RNA      34989.458301\n",
       "2B-2h-RNA     34895.020454\n",
       "2B-4h-RNA     34650.943992\n",
       "2B-8h-RNA     34208.371221\n",
       "2B-16h-RNA    35918.666016\n",
       "2B-24h-RNA    34782.099347\n",
       "dtype: float64"
      ]
     },
     "execution_count": 174,
     "metadata": {},
     "output_type": "execute_result"
    }
   ],
   "source": [
    "MS2repB.sum(0)"
   ]
  },
  {
   "cell_type": "code",
   "execution_count": 175,
   "metadata": {},
   "outputs": [
    {
     "data": {
      "text/plain": [
       "0h-C-RNA      35119.218768\n",
       "2C-2h-RNA     35068.763691\n",
       "2C-4h-RNA     33860.231894\n",
       "2C-8h-RNA     35207.463093\n",
       "2C-16h-RNA    35386.996931\n",
       "2C-24h-RNA    35140.388331\n",
       "dtype: float64"
      ]
     },
     "execution_count": 175,
     "metadata": {},
     "output_type": "execute_result"
    }
   ],
   "source": [
    "MS2repC.sum(0)"
   ]
  },
  {
   "cell_type": "code",
   "execution_count": 10,
   "metadata": {
    "scrolled": true
   },
   "outputs": [],
   "source": [
    "mostvargenesA = np.argsort(MS2repA.var(1).values)\n",
    "mostvargenesB = np.argsort(MS2repB.var(1).values)\n",
    "mostvargenesC = np.argsort(MS2repC.var(1).values)"
   ]
  },
  {
   "cell_type": "markdown",
   "metadata": {},
   "source": [
    "Do we have a good overlap?\n",
    "- we do only if we first remove the non prot coding genes..."
   ]
  },
  {
   "cell_type": "code",
   "execution_count": 177,
   "metadata": {},
   "outputs": [
    {
     "data": {
      "text/plain": [
       "942"
      ]
     },
     "execution_count": 177,
     "metadata": {},
     "output_type": "execute_result"
    }
   ],
   "source": [
    "commonvar = set(counts.index.values[mostvargenesA[:2000]].tolist()) & set(counts.index.values[mostvargenesB[:2000]].tolist()) & set(counts.index.values[mostvargenesC[:2000]].tolist())\n",
    "len(commonvar)"
   ]
  },
  {
   "cell_type": "markdown",
   "metadata": {},
   "source": [
    "## DESeq"
   ]
  },
  {
   "cell_type": "code",
   "execution_count": null,
   "metadata": {},
   "outputs": [],
   "source": [
    "volcano( tooltips, 'Aging Volcano Plot',\n",
    "                  'Beta Coefficient (log-fold change)', '-log(Q)')"
   ]
  },
  {
   "cell_type": "code",
   "execution_count": null,
   "metadata": {},
   "outputs": [],
   "source": []
  },
  {
   "cell_type": "code",
   "execution_count": 85,
   "metadata": {},
   "outputs": [
    {
     "data": {
      "text/plain": [
       "{8192,\n",
       " 12289,\n",
       " 4099,\n",
       " 12292,\n",
       " 10246,\n",
       " 12296,\n",
       " 8201,\n",
       " 4108,\n",
       " 4112,\n",
       " 4113,\n",
       " 10259,\n",
       " 12317,\n",
       " 8229,\n",
       " 10280,\n",
       " 6184,\n",
       " 4138,\n",
       " 8235,\n",
       " 10283,\n",
       " 10285,\n",
       " 8238,\n",
       " 4139,\n",
       " 12334,\n",
       " 8241,\n",
       " 12338,\n",
       " 12340,\n",
       " 8245,\n",
       " 6202,\n",
       " 10303,\n",
       " 6208,\n",
       " 10305,\n",
       " 10307,\n",
       " 12356,\n",
       " 8267,\n",
       " 8271,\n",
       " 10321,\n",
       " 8276,\n",
       " 4180,\n",
       " 10326,\n",
       " 4182,\n",
       " 6230,\n",
       " 12377,\n",
       " 6231,\n",
       " 12379,\n",
       " 8284,\n",
       " 4187,\n",
       " 12381,\n",
       " 4190,\n",
       " 6233,\n",
       " 12385,\n",
       " 10338,\n",
       " 12387,\n",
       " 10346,\n",
       " 12395,\n",
       " 8300,\n",
       " 8302,\n",
       " 12398,\n",
       " 4206,\n",
       " 8305,\n",
       " 12402,\n",
       " 10356,\n",
       " 12405,\n",
       " 12406,\n",
       " 6262,\n",
       " 10360,\n",
       " 10363,\n",
       " 6269,\n",
       " 12419,\n",
       " 10373,\n",
       " 4230,\n",
       " 8329,\n",
       " 8330,\n",
       " 12427,\n",
       " 6285,\n",
       " 4238,\n",
       " 8335,\n",
       " 12432,\n",
       " 8337,\n",
       " 4241,\n",
       " 6289,\n",
       " 10388,\n",
       " 4254,\n",
       " 8353,\n",
       " 12450,\n",
       " 8355,\n",
       " 6309,\n",
       " 4262,\n",
       " 10407,\n",
       " 12455,\n",
       " 6313,\n",
       " 8367,\n",
       " 6141,\n",
       " 12467,\n",
       " 4275,\n",
       " 12473,\n",
       " 12474,\n",
       " 12475,\n",
       " 12479,\n",
       " 10432,\n",
       " 10433,\n",
       " 10435,\n",
       " 12484,\n",
       " 10444,\n",
       " 12492,\n",
       " 4305,\n",
       " 8404,\n",
       " 12501,\n",
       " 4309,\n",
       " 4313,\n",
       " 8413,\n",
       " 12509,\n",
       " 6369,\n",
       " 12514,\n",
       " 8419,\n",
       " 4324,\n",
       " 6370,\n",
       " 12518,\n",
       " 6372,\n",
       " 12520,\n",
       " 10474,\n",
       " 8428,\n",
       " 12526,\n",
       " 10479,\n",
       " 10481,\n",
       " 8434,\n",
       " 12530,\n",
       " 12534,\n",
       " 6390,\n",
       " 6392,\n",
       " 6393,\n",
       " 6396,\n",
       " 12543,\n",
       " 12545,\n",
       " 6407,\n",
       " 10510,\n",
       " 4368,\n",
       " 12568,\n",
       " 12572,\n",
       " 6428,\n",
       " 12574,\n",
       " 12575,\n",
       " 12576,\n",
       " 8482,\n",
       " 12579,\n",
       " 12581,\n",
       " 12582,\n",
       " 12583,\n",
       " 4391,\n",
       " 10538,\n",
       " 10541,\n",
       " 10542,\n",
       " 12590,\n",
       " 4401,\n",
       " 8503,\n",
       " 8504,\n",
       " 12601,\n",
       " 12602,\n",
       " 12606,\n",
       " 12607,\n",
       " 12608,\n",
       " 12609,\n",
       " 4420,\n",
       " 8517,\n",
       " 12614,\n",
       " 10567,\n",
       " 12616,\n",
       " 6473,\n",
       " 8522,\n",
       " 12620,\n",
       " 12623,\n",
       " 6481,\n",
       " 12630,\n",
       " 8537,\n",
       " 12634,\n",
       " 6489,\n",
       " 8540,\n",
       " 6490,\n",
       " 6491,\n",
       " 8545,\n",
       " 8549,\n",
       " 6503,\n",
       " 6505,\n",
       " 4458,\n",
       " 8555,\n",
       " 12652,\n",
       " 6510,\n",
       " 8561,\n",
       " 12660,\n",
       " 4469,\n",
       " 8566,\n",
       " 10615,\n",
       " 10617,\n",
       " 4474,\n",
       " 6522,\n",
       " 10623,\n",
       " 10624,\n",
       " 12671,\n",
       " 12675,\n",
       " 12677,\n",
       " 12678,\n",
       " 12679,\n",
       " 6533,\n",
       " 12684,\n",
       " 10637,\n",
       " 12685,\n",
       " 8593,\n",
       " 10641,\n",
       " 10642,\n",
       " 12692,\n",
       " 12694,\n",
       " 12695,\n",
       " 12699,\n",
       " 12704,\n",
       " 6561,\n",
       " 12706,\n",
       " 6565,\n",
       " 8616,\n",
       " 10665,\n",
       " 12713,\n",
       " 10670,\n",
       " 8623,\n",
       " 4528,\n",
       " 10673,\n",
       " 8631,\n",
       " 8636,\n",
       " 4542,\n",
       " 6591,\n",
       " 12737,\n",
       " 6593,\n",
       " 12739,\n",
       " 8644,\n",
       " 12740,\n",
       " 4552,\n",
       " 10706,\n",
       " 10708,\n",
       " 12759,\n",
       " 8664,\n",
       " 12761,\n",
       " 12764,\n",
       " 8672,\n",
       " 10722,\n",
       " 6627,\n",
       " 10726,\n",
       " 12776,\n",
       " 8681,\n",
       " 8682,\n",
       " 12778,\n",
       " 6636,\n",
       " 10737,\n",
       " 12785,\n",
       " 12786,\n",
       " 10740,\n",
       " 12787,\n",
       " 12788,\n",
       " 6643,\n",
       " 6647,\n",
       " 10745,\n",
       " 12797,\n",
       " 12798,\n",
       " 4607,\n",
       " 4608,\n",
       " 6653,\n",
       " 8706,\n",
       " 4612,\n",
       " 12806,\n",
       " 12807,\n",
       " 8712,\n",
       " 4614,\n",
       " 4622,\n",
       " 10768,\n",
       " 8722,\n",
       " 8723,\n",
       " 12820,\n",
       " 4629,\n",
       " 12824,\n",
       " 6681,\n",
       " 8731,\n",
       " 10781,\n",
       " 12830,\n",
       " 6695,\n",
       " 6697,\n",
       " 10794,\n",
       " 12842,\n",
       " 12844,\n",
       " 8749,\n",
       " 10798,\n",
       " 12845,\n",
       " 8753,\n",
       " 12850,\n",
       " 12852,\n",
       " 8757,\n",
       " 10806,\n",
       " 4663,\n",
       " 6709,\n",
       " 8761,\n",
       " 12858,\n",
       " 10811,\n",
       " 8764,\n",
       " 12860,\n",
       " 6715,\n",
       " 6717,\n",
       " 6722,\n",
       " 12867,\n",
       " 12869,\n",
       " 10822,\n",
       " 12870,\n",
       " 6726,\n",
       " 6728,\n",
       " 10826,\n",
       " 10827,\n",
       " 6729,\n",
       " 12885,\n",
       " 4694,\n",
       " 8791,\n",
       " 8792,\n",
       " 8793,\n",
       " 12891,\n",
       " 7447,\n",
       " 12893,\n",
       " 10849,\n",
       " 10850,\n",
       " 12899,\n",
       " 12900,\n",
       " 12901,\n",
       " 8809,\n",
       " 10857,\n",
       " 6763,\n",
       " 12908,\n",
       " 6765,\n",
       " 4719,\n",
       " 8819,\n",
       " 12915,\n",
       " 10874,\n",
       " 10875,\n",
       " 6781,\n",
       " 8832,\n",
       " 8833,\n",
       " 4736,\n",
       " 6787,\n",
       " 10884,\n",
       " 8837,\n",
       " 8838,\n",
       " 8839,\n",
       " 10885,\n",
       " 8841,\n",
       " 10888,\n",
       " 12937,\n",
       " 12939,\n",
       " 12940,\n",
       " 10894,\n",
       " 12941,\n",
       " 12942,\n",
       " 12943,\n",
       " 6795,\n",
       " 12947,\n",
       " 12948,\n",
       " 8853,\n",
       " 12949,\n",
       " 10903,\n",
       " 4758,\n",
       " 8857,\n",
       " 10906,\n",
       " 4759,\n",
       " 12955,\n",
       " 12956,\n",
       " 12958,\n",
       " 12959,\n",
       " 10912,\n",
       " 12960,\n",
       " 8866,\n",
       " 10915,\n",
       " 6813,\n",
       " 10917,\n",
       " 6814,\n",
       " 10921,\n",
       " 12969,\n",
       " 12979,\n",
       " 6839,\n",
       " 6840,\n",
       " 4794,\n",
       " 12988,\n",
       " 6845,\n",
       " 10942,\n",
       " 10943,\n",
       " 10944,\n",
       " 10945,\n",
       " 12991,\n",
       " 12993,\n",
       " 6851,\n",
       " 10949,\n",
       " 6852,\n",
       " 4808,\n",
       " 4809,\n",
       " 10954,\n",
       " 13003,\n",
       " 6856,\n",
       " 10957,\n",
       " 13005,\n",
       " 13006,\n",
       " 10960,\n",
       " 13007,\n",
       " 4813,\n",
       " 6864,\n",
       " 13012,\n",
       " 6870,\n",
       " 10968,\n",
       " 4826,\n",
       " 13019,\n",
       " 13022,\n",
       " 6885,\n",
       " 4838,\n",
       " 4842,\n",
       " 6891,\n",
       " 10989,\n",
       " 13037,\n",
       " 13039,\n",
       " 6894,\n",
       " 10995,\n",
       " 10996,\n",
       " 13044,\n",
       " 13045,\n",
       " 13046,\n",
       " 13047,\n",
       " 11001,\n",
       " 13048,\n",
       " 4857,\n",
       " 6899,\n",
       " 13053,\n",
       " 11006,\n",
       " 13054,\n",
       " 13055,\n",
       " 4862,\n",
       " 13058,\n",
       " 13064,\n",
       " 4873,\n",
       " 6920,\n",
       " 6921,\n",
       " 6923,\n",
       " 13071,\n",
       " 13072,\n",
       " 13074,\n",
       " 6930,\n",
       " 6933,\n",
       " 11031,\n",
       " 13079,\n",
       " 11034,\n",
       " 11035,\n",
       " 13082,\n",
       " 13085,\n",
       " 6938,\n",
       " 11040,\n",
       " 13093,\n",
       " 7894,\n",
       " 13095,\n",
       " 13096,\n",
       " 13098,\n",
       " 13103,\n",
       " 11056,\n",
       " 7896,\n",
       " 11058,\n",
       " 6964,\n",
       " 11062,\n",
       " 11063,\n",
       " 6966,\n",
       " 11072,\n",
       " 11078,\n",
       " 13126,\n",
       " 13129,\n",
       " 7902,\n",
       " 11086,\n",
       " 11089,\n",
       " 13140,\n",
       " 11095,\n",
       " 11101,\n",
       " 13149,\n",
       " 7015,\n",
       " 4972,\n",
       " 11117,\n",
       " 4977,\n",
       " 11122,\n",
       " 11123,\n",
       " 13171,\n",
       " 7027,\n",
       " 11126,\n",
       " 13174,\n",
       " 7032,\n",
       " 13177,\n",
       " 7033,\n",
       " 13179,\n",
       " 7034,\n",
       " 13184,\n",
       " 13186,\n",
       " 13188,\n",
       " 7046,\n",
       " 13191,\n",
       " 13192,\n",
       " 5000,\n",
       " 13197,\n",
       " 5009,\n",
       " 13203,\n",
       " 7059,\n",
       " 13208,\n",
       " 7064,\n",
       " 13210,\n",
       " 13211,\n",
       " 5019,\n",
       " 7065,\n",
       " 5022,\n",
       " 7073,\n",
       " 7074,\n",
       " 13221,\n",
       " 5033,\n",
       " 13226,\n",
       " 7083,\n",
       " 13228,\n",
       " 13229,\n",
       " 13230,\n",
       " 13232,\n",
       " 13233,\n",
       " 13234,\n",
       " 13235,\n",
       " 5048,\n",
       " 5051,\n",
       " 11196,\n",
       " 13245,\n",
       " 13247,\n",
       " 13248,\n",
       " 13249,\n",
       " 5057,\n",
       " 13255,\n",
       " 7111,\n",
       " 11209,\n",
       " 5065,\n",
       " 7112,\n",
       " 13268,\n",
       " 13269,\n",
       " 7127,\n",
       " 13277,\n",
       " 7133,\n",
       " 13279,\n",
       " 13287,\n",
       " 13290,\n",
       " 11244,\n",
       " 13294,\n",
       " 14040,\n",
       " 11248,\n",
       " 13298,\n",
       " 11251,\n",
       " 11252,\n",
       " 13302,\n",
       " 5113,\n",
       " 11258,\n",
       " 13306,\n",
       " 13307,\n",
       " 5118,\n",
       " 11263,\n",
       " 13313,\n",
       " 11266,\n",
       " 5122,\n",
       " 13315,\n",
       " 13317,\n",
       " 13318,\n",
       " 7175,\n",
       " 13321,\n",
       " 13324,\n",
       " 13326,\n",
       " 13327,\n",
       " 13329,\n",
       " 9234,\n",
       " 11287,\n",
       " 13336,\n",
       " 13338,\n",
       " 13339,\n",
       " 13340,\n",
       " 13341,\n",
       " 5151,\n",
       " 9248,\n",
       " 5156,\n",
       " 11301,\n",
       " 5158,\n",
       " 9255,\n",
       " 9256,\n",
       " 11303,\n",
       " 11305,\n",
       " 5159,\n",
       " 13357,\n",
       " 13358,\n",
       " 13360,\n",
       " 11313,\n",
       " 13362,\n",
       " 13363,\n",
       " 7217,\n",
       " 5174,\n",
       " 13370,\n",
       " 9275,\n",
       " 11324,\n",
       " 11325,\n",
       " 9278,\n",
       " 5180,\n",
       " 9280,\n",
       " 13373,\n",
       " 13377,\n",
       " 11331,\n",
       " 13379,\n",
       " 9285,\n",
       " 9286,\n",
       " 9287,\n",
       " 5189,\n",
       " 13382,\n",
       " 11338,\n",
       " 13384,\n",
       " 11340,\n",
       " 7244,\n",
       " 11342,\n",
       " 13390,\n",
       " 11344,\n",
       " 11345,\n",
       " 5201,\n",
       " 5204,\n",
       " 7252,\n",
       " 7262,\n",
       " 11359,\n",
       " 11360,\n",
       " 7266,\n",
       " 11367,\n",
       " 13415,\n",
       " 11371,\n",
       " 13422,\n",
       " 5236,\n",
       " 5237,\n",
       " 7286,\n",
       " 5239,\n",
       " 7287,\n",
       " 11385,\n",
       " 11388,\n",
       " 13441,\n",
       " 11395,\n",
       " 5251,\n",
       " 5255,\n",
       " 13450,\n",
       " 11403,\n",
       " 11406,\n",
       " 13456,\n",
       " 7313,\n",
       " 7315,\n",
       " 7316,\n",
       " 7317,\n",
       " 7318,\n",
       " 7319,\n",
       " 11425,\n",
       " 7330,\n",
       " 11427,\n",
       " 5283,\n",
       " 5284,\n",
       " 13477,\n",
       " 11431,\n",
       " 11437,\n",
       " 13485,\n",
       " 5293,\n",
       " 7347,\n",
       " 13492,\n",
       " 5301,\n",
       " 13494,\n",
       " 11447,\n",
       " 7348,\n",
       " 13498,\n",
       " 5307,\n",
       " 5312,\n",
       " 13506,\n",
       " 5314,\n",
       " 11462,\n",
       " 13515,\n",
       " 11468,\n",
       " 7373,\n",
       " 11472,\n",
       " 13520,\n",
       " 7376,\n",
       " 13523,\n",
       " 13525,\n",
       " 7385,\n",
       " 7389,\n",
       " 11488,\n",
       " 7396,\n",
       " 13543,\n",
       " 13545,\n",
       " 5354,\n",
       " 5353,\n",
       " 7406,\n",
       " 13552,\n",
       " 13554,\n",
       " 13557,\n",
       " 11510,\n",
       " 5366,\n",
       " 11512,\n",
       " 11513,\n",
       " 7419,\n",
       " 13564,\n",
       " 13567,\n",
       " 5375,\n",
       " 13571,\n",
       " 13572,\n",
       " 5381,\n",
       " 7432,\n",
       " 13583,\n",
       " 7439,\n",
       " 7440,\n",
       " 13586,\n",
       " 5399,\n",
       " 11544,\n",
       " 5401,\n",
       " 11546,\n",
       " 13594,\n",
       " 5403,\n",
       " 5405,\n",
       " 5406,\n",
       " 5407,\n",
       " 11552,\n",
       " 7460,\n",
       " 13608,\n",
       " 11564,\n",
       " 9517,\n",
       " 13612,\n",
       " 7468,\n",
       " 5426,\n",
       " 5427,\n",
       " 7474,\n",
       " 11574,\n",
       " 11578,\n",
       " 5435,\n",
       " 11580,\n",
       " 13630,\n",
       " 11583,\n",
       " 11584,\n",
       " 11585,\n",
       " 13631,\n",
       " 5440,\n",
       " 5442,\n",
       " 5445,\n",
       " 7493,\n",
       " 5447,\n",
       " 9544,\n",
       " 5450,\n",
       " 11596,\n",
       " 7501,\n",
       " 11601,\n",
       " 13649,\n",
       " 5459,\n",
       " 7505,\n",
       " 13653,\n",
       " 7507,\n",
       " 5463,\n",
       " 7508,\n",
       " 9561,\n",
       " 11610,\n",
       " 11616,\n",
       " 9569,\n",
       " 13665,\n",
       " 5474,\n",
       " 13667,\n",
       " 5478,\n",
       " 13672,\n",
       " 7529,\n",
       " 11626,\n",
       " 13676,\n",
       " 11629,\n",
       " 11630,\n",
       " 13677,\n",
       " 9584,\n",
       " 11632,\n",
       " 11633,\n",
       " 11634,\n",
       " 11636,\n",
       " 13680,\n",
       " 5491,\n",
       " 11639,\n",
       " 5495,\n",
       " 6791,\n",
       " 9595,\n",
       " 5499,\n",
       " 5502,\n",
       " 11647,\n",
       " 9601,\n",
       " 9602,\n",
       " 13698,\n",
       " 13699,\n",
       " 9605,\n",
       " 13700,\n",
       " 5506,\n",
       " 5509,\n",
       " 5511,\n",
       " 13704,\n",
       " 7561,\n",
       " 11664,\n",
       " 5524,\n",
       " 7572,\n",
       " 13719,\n",
       " 13721,\n",
       " 5529,\n",
       " 5531,\n",
       " 7578,\n",
       " 5533,\n",
       " 11679,\n",
       " 9636,\n",
       " 11685,\n",
       " 13733,\n",
       " 13735,\n",
       " 7593,\n",
       " 5546,\n",
       " 9643,\n",
       " 5547,\n",
       " 9646,\n",
       " 9647,\n",
       " 9648,\n",
       " 9652,\n",
       " 11702,\n",
       " 3510,\n",
       " 13750,\n",
       " 5558,\n",
       " 7606,\n",
       " 3517,\n",
       " 6805,\n",
       " 9663,\n",
       " 5567,\n",
       " 3524,\n",
       " 13764,\n",
       " 5572,\n",
       " 9671,\n",
       " 11719,\n",
       " 11721,\n",
       " 5575,\n",
       " 7620,\n",
       " 7622,\n",
       " 9677,\n",
       " 11725,\n",
       " 11727,\n",
       " 11730,\n",
       " 13778,\n",
       " 9684,\n",
       " 9685,\n",
       " 13781,\n",
       " 6809,\n",
       " 5592,\n",
       " 7634,\n",
       " 11738,\n",
       " 13786,\n",
       " 5595,\n",
       " 5594,\n",
       " 7637,\n",
       " 5599,\n",
       " 13793,\n",
       " 5601,\n",
       " 5604,\n",
       " 11749,\n",
       " 13797,\n",
       " 11751,\n",
       " 5605,\n",
       " 13799,\n",
       " 11754,\n",
       " 11755,\n",
       " 13801,\n",
       " 9709,\n",
       " 13803,\n",
       " 13804,\n",
       " 11760,\n",
       " 13807,\n",
       " 5619,\n",
       " 9717,\n",
       " 13814,\n",
       " 11769,\n",
       " 3578,\n",
       " 13817,\n",
       " 11772,\n",
       " 11773,\n",
       " 5627,\n",
       " 5630,\n",
       " 11776,\n",
       " 7678,\n",
       " 7679,\n",
       " 13827,\n",
       " 9732,\n",
       " 5637,\n",
       " 13830,\n",
       " 11786,\n",
       " 7694,\n",
       " 11794,\n",
       " 11795,\n",
       " 3602,\n",
       " 7703,\n",
       " 7711,\n",
       " 5665,\n",
       " 11810,\n",
       " 7713,\n",
       " 9766,\n",
       " 11815,\n",
       " 5671,\n",
       " 7720,\n",
       " 9770,\n",
       " 13866,\n",
       " 5675,\n",
       " 9773,\n",
       " 7723,\n",
       " 13872,\n",
       " 3633,\n",
       " 11828,\n",
       " 9781,\n",
       " 3639,\n",
       " 11833,\n",
       " 11836,\n",
       " 11837,\n",
       " 3645,\n",
       " 9791,\n",
       " 3646,\n",
       " 11840,\n",
       " 3650,\n",
       " 3651,\n",
       " 13885,\n",
       " 3653,\n",
       " 11846,\n",
       " 13888,\n",
       " 3656,\n",
       " 7749,\n",
       " 11850,\n",
       " 13899,\n",
       " 9804,\n",
       " 7757,\n",
       " 13903,\n",
       " 3664,\n",
       " 13905,\n",
       " 13906,\n",
       " 5714,\n",
       " 5713,\n",
       " 11861,\n",
       " 3670,\n",
       " 5718,\n",
       " 5720,\n",
       " 5721,\n",
       " 3674,\n",
       " 11867,\n",
       " 7771,\n",
       " 7773,\n",
       " 5726,\n",
       " 3679,\n",
       " 7775,\n",
       " 5729,\n",
       " 9829,\n",
       " 11879,\n",
       " 13927,\n",
       " 11881,\n",
       " 13930,\n",
       " 9835,\n",
       " 5740,\n",
       " 13933,\n",
       " 9839,\n",
       " 7791,\n",
       " 13937,\n",
       " 11891,\n",
       " 7795,\n",
       " 13941,\n",
       " 11894,\n",
       " 5750,\n",
       " 5751,\n",
       " 3705,\n",
       " 5753,\n",
       " 9851,\n",
       " 11899,\n",
       " 7796,\n",
       " 3711,\n",
       " 11904,\n",
       " 13951,\n",
       " 5759,\n",
       " 7807,\n",
       " 13957,\n",
       " 13963,\n",
       " 3726,\n",
       " 5774,\n",
       " 11921,\n",
       " 9875,\n",
       " 5780,\n",
       " 13973,\n",
       " 9878,\n",
       " 13974,\n",
       " 7829,\n",
       " 7834,\n",
       " 11947,\n",
       " 9902,\n",
       " 13998,\n",
       " 9904,\n",
       " 3761,\n",
       " 3762,\n",
       " 5806,\n",
       " 5812,\n",
       " 7861,\n",
       " 5814,\n",
       " 11959,\n",
       " 7863,\n",
       " 9913,\n",
       " 11962,\n",
       " 9915,\n",
       " 11964,\n",
       " 9918,\n",
       " 14018,\n",
       " ...}"
      ]
     },
     "execution_count": 85,
     "metadata": {},
     "output_type": "execute_result"
    }
   ],
   "source": [
    "commonvar"
   ]
  },
  {
   "cell_type": "code",
   "execution_count": 195,
   "metadata": {},
   "outputs": [
    {
     "data": {
      "text/plain": [
       "3260.4144599092037"
      ]
     },
     "execution_count": 195,
     "metadata": {},
     "output_type": "execute_result"
    }
   ],
   "source": [
    "DMSO.loc[commonvar,'0h-A-RNA'].sum()"
   ]
  },
  {
   "cell_type": "code",
   "execution_count": 207,
   "metadata": {},
   "outputs": [],
   "source": [
    "DMSO = DMSO[DMSO.columns.values[[0,1,2,4,6,8,3,5,7]]]"
   ]
  },
  {
   "cell_type": "code",
   "execution_count": 208,
   "metadata": {},
   "outputs": [
    {
     "data": {
      "text/plain": [
       "<matplotlib.axes._subplots.AxesSubplot at 0x7fd0b3faf438>"
      ]
     },
     "execution_count": 208,
     "metadata": {},
     "output_type": "execute_result"
    },
    {
     "data": {
      "image/png": "[encoded data removed]",
      "text/plain": [
       "<Figure size 432x288 with 2 Axes>"
      ]
     },
     "metadata": {
      "needs_background": "light"
     },
     "output_type": "display_data"
    }
   ],
   "source": [
    "sns.heatmap(DMSO.loc[commonvar].corr(), \n",
    "            xticklabels=DMSO.columns.values,\n",
    "            yticklabels=DMSO.columns.values)"
   ]
  },
  {
   "cell_type": "code",
   "execution_count": 205,
   "metadata": {},
   "outputs": [],
   "source": [
    "MS2 = MS2[MS2.columns.values[[0,1,2,5,10,15,6,11,16,7,12,17,3,8,13,4,9,14]]]"
   ]
  },
  {
   "cell_type": "code",
   "execution_count": 206,
   "metadata": {},
   "outputs": [
    {
     "data": {
      "text/plain": [
       "<matplotlib.axes._subplots.AxesSubplot at 0x7fd0b819a0b8>"
      ]
     },
     "execution_count": 206,
     "metadata": {},
     "output_type": "execute_result"
    },
    {
     "data": {
      "image/png": "[encoded data removed]",
      "text/plain": [
       "<Figure size 432x288 with 2 Axes>"
      ]
     },
     "metadata": {
      "needs_background": "light"
     },
     "output_type": "display_data"
    }
   ],
   "source": [
    "sns.heatmap(MS2.corr(), \n",
    "            xticklabels=MS2.columns.values,\n",
    "            yticklabels=MS2.columns.values)"
   ]
  },
  {
   "cell_type": "code",
   "execution_count": 198,
   "metadata": {},
   "outputs": [
    {
     "data": {
      "text/plain": [
       "<matplotlib.axes._subplots.AxesSubplot at 0x7fd0b836c630>"
      ]
     },
     "execution_count": 198,
     "metadata": {},
     "output_type": "execute_result"
    },
    {
     "data": {
      "image/png": "[encoded data removed]",
      "text/plain": [
       "<Figure size 432x288 with 2 Axes>"
      ]
     },
     "metadata": {
      "needs_background": "light"
     },
     "output_type": "display_data"
    }
   ],
   "source": [
    "sns.heatmap(JQ1.corr(), \n",
    "            xticklabels=JQ1.columns.values,\n",
    "            yticklabels=JQ1.columns.values)"
   ]
  },
  {
   "cell_type": "code",
   "execution_count": 199,
   "metadata": {},
   "outputs": [
    {
     "data": {
      "text/plain": [
       "<matplotlib.axes._subplots.AxesSubplot at 0x7fd0b830e748>"
      ]
     },
     "execution_count": 199,
     "metadata": {},
     "output_type": "execute_result"
    },
    {
     "data": {
      "image/png": "[encoded data removed]",
      "text/plain": [
       "<Figure size 432x288 with 2 Axes>"
      ]
     },
     "metadata": {
      "needs_background": "light"
     },
     "output_type": "display_data"
    }
   ],
   "source": [
    "sns.heatmap(MS2_JQ1.corr(),\n",
    "            xticklabels=MS2_JQ1.columns.values,\n",
    "            yticklabels=MS2_JQ1.columns.values)"
   ]
  },
  {
   "cell_type": "code",
   "execution_count": 11,
   "metadata": {
    "scrolled": false
   },
   "outputs": [
    {
     "data": {
      "text/plain": [
       "['MYC',\n",
       " 'MYB',\n",
       " 'SPI1',\n",
       " 'RUNX1',\n",
       " 'GSE1',\n",
       " 'IRF2BP2',\n",
       " 'FLI1',\n",
       " 'ELF2',\n",
       " 'ZEB2',\n",
       " 'IKAROS',\n",
       " 'GFI1',\n",
       " 'LMO2',\n",
       " 'CEBPA',\n",
       " 'MEF2D',\n",
       " 'MEF2C',\n",
       " 'IRF8',\n",
       " 'MEIS1',\n",
       " 'RUNX2',\n",
       " 'ETV6',\n",
       " 'LDB1',\n",
       " 'RUNX2',\n",
       " 'SP1',\n",
       " 'ZMYND8']"
      ]
     },
     "execution_count": 11,
     "metadata": {},
     "output_type": "execute_result"
    }
   ],
   "source": [
    "ctf=pd.read_csv('CTF.csv',header=None)[0].values.tolist()\n",
    "ctf"
   ]
  },
  {
   "cell_type": "code",
   "execution_count": 10,
   "metadata": {},
   "outputs": [
    {
     "name": "stdout",
     "output_type": "stream",
     "text": [
      "0 could not be parsed... we don't have all genes already\n"
     ]
    }
   ],
   "source": [
    "genenames, notparsed = convertGenes(counts['gene_id'].values)"
   ]
  },
  {
   "cell_type": "code",
   "execution_count": 96,
   "metadata": {},
   "outputs": [],
   "source": [
    "genenames = np.array(genenames)"
   ]
  },
  {
   "cell_type": "code",
   "execution_count": 105,
   "metadata": {},
   "outputs": [
    {
     "data": {
      "text/plain": [
       "array([[18832]])"
      ]
     },
     "execution_count": 105,
     "metadata": {},
     "output_type": "execute_result"
    }
   ],
   "source": [
    "np.argwhere(genenames[mostvargenesA] == ctf[5])"
   ]
  },
  {
   "cell_type": "code",
   "execution_count": 19,
   "metadata": {},
   "outputs": [
    {
     "data": {
      "text/plain": [
       "True"
      ]
     },
     "execution_count": 19,
     "metadata": {},
     "output_type": "execute_result"
    }
   ],
   "source": [
    "ctf[1] in genenames"
   ]
  },
  {
   "cell_type": "code",
   "execution_count": 78,
   "metadata": {},
   "outputs": [],
   "source": [
    "ctfpos = [genenames.index(val) for val in ctf if val in genenames]\n",
    "notctfpos = [i for i, val in enumerate(genenames) if val not in ctf]"
   ]
  },
  {
   "cell_type": "markdown",
   "metadata": {},
   "source": [
    "# Let's look at how they change accross time\n",
    "\n",
    "how core transcription factors change accross time when the cell is with MS2 Condition\n",
    "\n",
    "first line is avg count of CTF and line 2 is avg count of protein coding genes "
   ]
  },
  {
   "cell_type": "code",
   "execution_count": 179,
   "metadata": {
    "scrolled": true
   },
   "outputs": [
    {
     "data": {
      "text/plain": [
       "array([1.81297262, 1.82347382, 1.81437571, 1.85554081, 1.8886541 ,\n",
       "       1.82066741])"
      ]
     },
     "execution_count": 179,
     "metadata": {},
     "output_type": "execute_result"
    }
   ],
   "source": [
    "MS2repA.values.mean(0)"
   ]
  },
  {
   "cell_type": "code",
   "execution_count": 180,
   "metadata": {},
   "outputs": [],
   "source": [
    "ctf_var = MS2repA.values[ctfpos].mean(0)\n",
    "mean_var = MS2repA.values.mean(0)"
   ]
  },
  {
   "cell_type": "code",
   "execution_count": 181,
   "metadata": {},
   "outputs": [
    {
     "data": {
      "text/plain": [
       "<matplotlib.axes._subplots.AxesSubplot at 0x7fd0b8958ba8>"
      ]
     },
     "execution_count": 181,
     "metadata": {},
     "output_type": "execute_result"
    },
    {
     "data": {
      "image/png": "[encoded data removed]",
      "text/plain": [
       "<Figure size 432x288 with 1 Axes>"
      ]
     },
     "metadata": {
      "needs_background": "light"
     },
     "output_type": "display_data"
    }
   ],
   "source": [
    "sns.lineplot(data=[ctf_var, mean_var])"
   ]
  },
  {
   "cell_type": "code",
   "execution_count": 65,
   "metadata": {
    "scrolled": true
   },
   "outputs": [
    {
     "data": {
      "text/plain": [
       "array([408.58532408, 445.09849963, 462.6499118 , 455.72562259,\n",
       "       411.87492433, 504.58639286])"
      ]
     },
     "execution_count": 65,
     "metadata": {},
     "output_type": "execute_result"
    }
   ],
   "source": [
    "MS2repB.values.mean(0)"
   ]
  },
  {
   "cell_type": "code",
   "execution_count": 66,
   "metadata": {},
   "outputs": [],
   "source": [
    "ctf_var = MS2repB.values[ctfpos].mean(0)\n",
    "mean_var = MS2repB.values.mean(0)"
   ]
  },
  {
   "cell_type": "code",
   "execution_count": 182,
   "metadata": {},
   "outputs": [
    {
     "data": {
      "text/plain": [
       "<matplotlib.axes._subplots.AxesSubplot at 0x7fd0b88d20f0>"
      ]
     },
     "execution_count": 182,
     "metadata": {},
     "output_type": "execute_result"
    },
    {
     "data": {
      "image/png": "[encoded data removed]",
      "text/plain": [
       "<Figure size 432x288 with 1 Axes>"
      ]
     },
     "metadata": {
      "needs_background": "light"
     },
     "output_type": "display_data"
    }
   ],
   "source": [
    "sns.lineplot(data=[ctf_var, mean_var])"
   ]
  },
  {
   "cell_type": "markdown",
   "metadata": {},
   "source": [
    "# we can verify per tf \n",
    "\n",
    "but we expect to find the same results"
   ]
  },
  {
   "cell_type": "code",
   "execution_count": 185,
   "metadata": {
    "scrolled": true
   },
   "outputs": [
    {
     "data": {
      "text/plain": [
       "array([1.8327533 , 1.83012022, 1.76705103, 1.83735847, 1.84672774,\n",
       "       1.83385807])"
      ]
     },
     "execution_count": 185,
     "metadata": {},
     "output_type": "execute_result"
    }
   ],
   "source": [
    "MS2repC.values.mean(0)"
   ]
  },
  {
   "cell_type": "code",
   "execution_count": 186,
   "metadata": {},
   "outputs": [],
   "source": [
    "ctf_var = MS2repC.values[ctfpos]\n",
    "mean_var = MS2repC.values[notctfpos].mean(0)"
   ]
  },
  {
   "cell_type": "code",
   "execution_count": 187,
   "metadata": {
    "scrolled": true
   },
   "outputs": [
    {
     "data": {
      "text/plain": [
       "array([[6.3338301 , 5.48736624, 5.24854922, 5.23281838, 5.71508503,\n",
       "        6.13897897],\n",
       "       [5.02519545, 4.38052551, 4.33729074, 4.63792775, 4.78256295,\n",
       "        4.84379331],\n",
       "       [5.93824835, 5.87543622, 5.77200171, 5.76907071, 5.67771225,\n",
       "        5.78302486],\n",
       "       [4.56684507, 4.42268862, 4.50623344, 4.49446206, 4.49880917,\n",
       "        4.64159854],\n",
       "       [4.09167433, 4.0111441 , 3.31527632, 3.62354061, 3.94584455,\n",
       "        4.24749474],\n",
       "       [5.34185567, 5.20235698, 5.30573975, 5.51769383, 5.45903217,\n",
       "        5.45361025],\n",
       "       [3.5295906 , 3.32359614, 3.1565748 , 3.39618484, 3.66227877,\n",
       "        3.73361379],\n",
       "       [2.97705901, 2.93863268, 2.89591194, 3.00716665, 2.91560623,\n",
       "        2.88200351],\n",
       "       [4.7029319 , 4.79818437, 4.95646066, 4.86275381, 4.61798769,\n",
       "        4.55702981],\n",
       "       [4.95229972, 4.54870565, 4.57954464, 4.85491672, 4.90823336,\n",
       "        5.01800805],\n",
       "       [4.64323639, 4.36729364, 4.46866294, 4.65662347, 4.98975208,\n",
       "        5.08115589],\n",
       "       [5.97217979, 5.23335209, 5.14790137, 5.3318005 , 5.66497234,\n",
       "        5.72766175],\n",
       "       [5.0002482 , 4.70808772, 4.32611744, 4.72623671, 4.48187197,\n",
       "        4.84016325],\n",
       "       [3.59566707, 3.59291906, 3.37314078, 3.87618855, 3.64047671,\n",
       "        3.72761928],\n",
       "       [5.49843791, 4.87190948, 4.34146502, 4.60567006, 4.50987001,\n",
       "        4.70925989],\n",
       "       [3.29361217, 3.46448512, 3.46979017, 3.50375397, 3.42881255,\n",
       "        3.33148997],\n",
       "       [2.41502052, 2.52412736, 2.78068089, 2.88926003, 2.86676189,\n",
       "        2.58248698],\n",
       "       [3.26461372, 3.30908209, 3.10279135, 3.44935242, 3.249599  ,\n",
       "        3.08967789],\n",
       "       [3.92355624, 3.74832691, 3.59786006, 3.92038792, 4.0688558 ,\n",
       "        4.07753744],\n",
       "       [2.41502052, 2.52412736, 2.78068089, 2.88926003, 2.86676189,\n",
       "        2.58248698],\n",
       "       [2.96630346, 2.9559514 , 2.60859812, 3.05776766, 3.04452244,\n",
       "        3.09964174],\n",
       "       [2.88200351, 2.46979301, 2.45958884, 2.92154738, 2.92208573,\n",
       "        2.72063732],\n",
       "       [1.83001433, 1.82762289, 1.76461427, 1.83475931, 1.84410147,\n",
       "        1.83115312]])"
      ]
     },
     "execution_count": 187,
     "metadata": {},
     "output_type": "execute_result"
    }
   ],
   "source": [
    "data = np.vstack((ctf_var, mean_var))\n",
    "data"
   ]
  },
  {
   "cell_type": "code",
   "execution_count": 188,
   "metadata": {},
   "outputs": [],
   "source": [
    "filled_markers = ('o', 'v', '^', '<', '>', '8', 's', 'p', '*', 'h', 'H', 'D', 'd', 'P', 'X','a','t','z','0','z')"
   ]
  },
  {
   "cell_type": "code",
   "execution_count": 221,
   "metadata": {},
   "outputs": [
    {
     "data": {
      "text/plain": [
       "<matplotlib.axes._subplots.AxesSubplot at 0x7fd0b92ddd30>"
      ]
     },
     "execution_count": 221,
     "metadata": {},
     "output_type": "execute_result"
    },
    {
     "data": {
      "image/png": "[encoded data removed]",
      "text/plain": [
       "<Figure size 432x288 with 1 Axes>"
      ]
     },
     "metadata": {
      "needs_background": "light"
     },
     "output_type": "display_data"
    }
   ],
   "source": [
    "sns.lineplot(data=data[:6].T)"
   ]
  },
  {
   "cell_type": "code",
   "execution_count": 190,
   "metadata": {},
   "outputs": [
    {
     "data": {
      "text/plain": [
       "<matplotlib.axes._subplots.AxesSubplot at 0x7fd0b863e588>"
      ]
     },
     "execution_count": 190,
     "metadata": {},
     "output_type": "execute_result"
    },
    {
     "data": {
      "image/png": "[encoded data removed]",
      "text/plain": [
       "<Figure size 432x288 with 1 Axes>"
      ]
     },
     "metadata": {
      "needs_background": "light"
     },
     "output_type": "display_data"
    }
   ],
   "source": [
    "sns.lineplot(data=data[6:12].T)"
   ]
  },
  {
   "cell_type": "code",
   "execution_count": 191,
   "metadata": {},
   "outputs": [
    {
     "data": {
      "text/plain": [
       "<matplotlib.axes._subplots.AxesSubplot at 0x7fd0b8567f28>"
      ]
     },
     "execution_count": 191,
     "metadata": {},
     "output_type": "execute_result"
    },
    {
     "data": {
      "image/png": "[encoded data removed]",
      "text/plain": [
       "<Figure size 432x288 with 1 Axes>"
      ]
     },
     "metadata": {
      "needs_background": "light"
     },
     "output_type": "display_data"
    }
   ],
   "source": [
    "sns.lineplot(data=data[12:18].T)"
   ]
  },
  {
   "cell_type": "code",
   "execution_count": null,
   "metadata": {},
   "outputs": [],
   "source": []
  }
 ],
 "metadata": {
  "kernelspec": {
   "display_name": "Python 3",
   "language": "python",
   "name": "python3"
  },
  "language_info": {
   "codemirror_mode": {
    "name": "ipython",
    "version": 3
   },
   "file_extension": ".py",
   "mimetype": "text/x-python",
   "name": "python",
   "nbconvert_exporter": "python",
   "pygments_lexer": "ipython3",
   "version": "3.7.3"
  }
 },
 "nbformat": 4,
 "nbformat_minor": 2
}
