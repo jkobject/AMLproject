{
 "cells": [
  {
   "cell_type": "code",
   "execution_count": 21,
   "metadata": {},
   "outputs": [],
   "source": [
    "import sys\n",
    "sys.path.append('..')\n",
    "from JKBio import Helper as h\n",
    "import os"
   ]
  },
  {
   "cell_type": "code",
   "execution_count": null,
   "metadata": {},
   "outputs": [],
   "source": [
    "! pip3 install git+https://github.com/jkobject/slamdunk.git --upgrade"
   ]
  },
  {
   "cell_type": "code",
   "execution_count": 4,
   "metadata": {},
   "outputs": [
    {
     "name": "stdout",
     "output_type": "stream",
     "text": [
      "3UTRs.bed          \u001b[0m\u001b[01;31mNextGenMap-0.5.2.tar.gz\u001b[0m  ref_genome.fa.fai\r\n",
      "\u001b[01;34mdata\u001b[0m/              ref_genome.fa            ref_genome.fa-ht-13-2.3.ngm\r\n",
      "\u001b[01;34mNextGenMap-0.5.2\u001b[0m/  ref_genome.fa-enc.2.ngm  \u001b[01;34mres\u001b[0m/\r\n"
     ]
    }
   ],
   "source": [
    "ls ../data/slam"
   ]
  },
  {
   "cell_type": "code",
   "execution_count": 16,
   "metadata": {},
   "outputs": [],
   "source": [
    "folder_bams = \"../data/slam/data/\""
   ]
  },
  {
   "cell_type": "code",
   "execution_count": 17,
   "metadata": {
    "scrolled": true
   },
   "outputs": [],
   "source": [
    "bams = ! ls $folder_bams"
   ]
  },
  {
   "cell_type": "code",
   "execution_count": 24,
   "metadata": {},
   "outputs": [
    {
     "name": "stdout",
     "output_type": "stream",
     "text": [
      "('mp802_1.fastq.gz', 'mp802_2.fastq.gz')\n",
      "('mp803_1.fastq.gz', 'mp803_2.fastq.gz')\n",
      "('mp804_1.fastq.gz', 'mp804_2.fastq.gz')\n",
      "('mp805_1.fastq.gz', 'mp805_2.fastq.gz')\n",
      "('mp806_1.fastq.gz', 'mp806_2.fastq.gz')\n",
      "('mp807_1.fastq.gz', 'mp807_2.fastq.gz')\n",
      "('mp808_1.fastq.gz', 'mp808_2.fastq.gz')\n",
      "('mp809_1.fastq.gz', 'mp809_2.fastq.gz')\n",
      "('mp810_1.fastq.gz', 'mp810_2.fastq.gz')\n",
      "('mp811_1.fastq.gz', 'mp811_2.fastq.gz')\n",
      "('mp812_1.fastq.gz', 'mp812_2.fastq.gz')\n",
      "('mp813_1.fastq.gz', 'mp813_2.fastq.gz')\n",
      "('mp814_1.fastq.gz', 'mp814_2.fastq.gz')\n",
      "('mp815_1.fastq.gz', 'mp815_2.fastq.gz')\n",
      "('mp816_1.fastq.gz', 'mp816_2.fastq.gz')\n"
     ]
    }
   ],
   "source": [
    "for val in h.grouped(bams[2:],2):\n",
    "    print(val)\n",
    "    os.system('slamdunk all -r ../data/slam/ref_genome.fa -b ../data/slam/3UTRs.bed \\\n",
    "    -o ../data/slam/res/ -t 8 '+folder_bams+val[0]+' '+ folder_bams+val[1])"
   ]
  },
  {
   "cell_type": "code",
   "execution_count": null,
   "metadata": {},
   "outputs": [],
   "source": []
  }
 ],
 "metadata": {
  "kernelspec": {
   "display_name": "Python 3",
   "language": "python",
   "name": "python3"
  },
  "language_info": {
   "codemirror_mode": {
    "name": "ipython",
    "version": 3
   },
   "file_extension": ".py",
   "mimetype": "text/x-python",
   "name": "python",
   "nbconvert_exporter": "python",
   "pygments_lexer": "ipython3",
   "version": "3.7.6"
  }
 },
 "nbformat": 4,
 "nbformat_minor": 2
}
