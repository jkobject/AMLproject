{
 "cells": [
  {
   "cell_type": "code",
   "execution_count": 1,
   "metadata": {},
   "outputs": [],
   "source": [
    "import os\n",
    "from IPython.display import IFrame\n",
    "import pandas as pd\n",
    "import sys\n",
    "sys.path.insert(0, '../JKBio/')\n",
    "import ChIP_helper as chelp\n",
    "import igv\n",
    "%load_ext autoreload\n",
    "%autoreload 2"
   ]
  },
  {
   "cell_type": "code",
   "execution_count": 4,
   "metadata": {
    "scrolled": true
   },
   "outputs": [
    {
     "name": "stdout",
     "output_type": "stream",
     "text": [
      "Using mount point: /home/jeremie/AMLproject/data/seqs\n",
      "Opening GCS connection...\n",
      "Opening bucket...\n",
      "Mounting file system...\n",
      "File system has been successfully mounted.\n"
     ]
    }
   ],
   "source": [
    "! gcsfuse --only-dir Chip_AML jkobject data/seqs"
   ]
  },
  {
   "cell_type": "code",
   "execution_count": 3,
   "metadata": {},
   "outputs": [],
   "source": [
    "peaks = ! ls data/seqs/results/bwa/narrowPeak/*.narrowPeak"
   ]
  },
  {
   "cell_type": "markdown",
   "metadata": {},
   "source": [
    "## Adding required header file "
   ]
  },
  {
   "cell_type": "code",
   "execution_count": 13,
   "metadata": {},
   "outputs": [],
   "source": [
    "for val in peaks:\n",
    "    #! sed -i.old '1s;^;type=narrowPeak visibility=3;' $val\n",
    "    name = val.split('/')[-1].split('.')[0]\n",
    "    ! sed -i \"1s/.*/track name=\"$name\" description='mac peaks' type=narrowPeak visibility=3 db=hg19/\" $val"
   ]
  },
  {
   "cell_type": "code",
   "execution_count": 2,
   "metadata": {},
   "outputs": [],
   "source": [
    "bams = ! ls data/seqs/results/bwa/*.bam"
   ]
  },
  {
   "cell_type": "markdown",
   "metadata": {},
   "source": [
    "## computing average coverage per bp"
   ]
  },
  {
   "cell_type": "code",
   "execution_count": 6,
   "metadata": {
    "scrolled": true
   },
   "outputs": [],
   "source": [
    "meancov = {}\n",
    "mean_read_length=60\n",
    "effective_genome_size=2.7e9\n",
    "for val in bams:\n",
    "    print(val)\n",
    "    name = val.split('/')[-1].split('.')[0]\n",
    "    count = ! samtools view -c -@ 10 -F 516 $val \n",
    "    meancov[name] = int(count[0])/(effective_genome_size*mean_read_length)"
   ]
  },
  {
   "cell_type": "code",
   "execution_count": 68,
   "metadata": {},
   "outputs": [],
   "source": [
    "replicates = chelp.findReplicates('data/seqs/results/bwa/', namings='-R([0-9])')"
   ]
  },
  {
   "cell_type": "code",
   "execution_count": 13,
   "metadata": {},
   "outputs": [
    {
     "ename": "SyntaxError",
     "evalue": "invalid syntax (<ipython-input-13-8b1e8240fc6d>, line 4)",
     "output_type": "error",
     "traceback": [
      "\u001b[0;36m  File \u001b[0;32m\"<ipython-input-13-8b1e8240fc6d>\"\u001b[0;36m, line \u001b[0;32m4\u001b[0m\n\u001b[0;31m    number = match.groups()[0] if match else continue\u001b[0m\n\u001b[0m                                                    ^\u001b[0m\n\u001b[0;31mSyntaxError\u001b[0m\u001b[0;31m:\u001b[0m invalid syntax\n"
     ]
    }
   ],
   "source": [
    "rep = {}\n",
    "for val in os.listdir('data/seqs/results/bwa/'):\n",
    "    match = re.search('R([0-9])', val)\n",
    "    if match:\n",
    "        number = match.groups()[0] \n",
    "    else: \n",
    "        continue\n",
    "    if number:\n",
    "        name = val.split(sep)[namepos]\n",
    "        if rep.has_key(name):\n",
    "            rep[name].append(val)\n",
    "        else:\n",
    "            rep[name] = val"
   ]
  },
  {
   "cell_type": "code",
   "execution_count": 5,
   "metadata": {
    "scrolled": true
   },
   "outputs": [],
   "source": [
    "import re\n",
    "a = re.search('R([0-9])', os.listdir('data/seqs/results/bwa/')[0])"
   ]
  },
  {
   "cell_type": "code",
   "execution_count": 8,
   "metadata": {
    "scrolled": true
   },
   "outputs": [
    {
     "data": {
      "text/plain": [
       "'1'"
      ]
     },
     "execution_count": 8,
     "metadata": {},
     "output_type": "execute_result"
    }
   ],
   "source": [
    "a.groups()[0]"
   ]
  },
  {
   "cell_type": "code",
   "execution_count": null,
   "metadata": {},
   "outputs": [],
   "source": []
  }
 ],
 "metadata": {
  "kernelspec": {
   "display_name": "Python 3",
   "language": "python",
   "name": "python3"
  },
  "language_info": {
   "codemirror_mode": {
    "name": "ipython",
    "version": 3
   },
   "file_extension": ".py",
   "mimetype": "text/x-python",
   "name": "python",
   "nbconvert_exporter": "python",
   "pygments_lexer": "ipython3",
   "version": "3.7.3"
  }
 },
 "nbformat": 4,
 "nbformat_minor": 2
}
