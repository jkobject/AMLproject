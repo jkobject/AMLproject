{
 "cells": [
  {
   "cell_type": "code",
   "execution_count": 3,
   "metadata": {},
   "outputs": [
    {
     "data": {
      "text/html": [
       "\n",
       "    <div class=\"bk-root\">\n",
       "        <a href=\"https://bokeh.org\" target=\"_blank\" class=\"bk-logo bk-logo-small bk-logo-notebook\"></a>\n",
       "        <span id=\"1001\">Loading BokehJS ...</span>\n",
       "    </div>"
      ]
     },
     "metadata": {},
     "output_type": "display_data"
    },
    {
     "data": {
      "application/javascript": [
       "\n",
       "(function(root) {\n",
       "  function now() {\n",
       "    return new Date();\n",
       "  }\n",
       "\n",
       "  var force = true;\n",
       "\n",
       "  if (typeof root._bokeh_onload_callbacks === \"undefined\" || force === true) {\n",
       "    root._bokeh_onload_callbacks = [];\n",
       "    root._bokeh_is_loading = undefined;\n",
       "  }\n",
       "\n",
       "  var JS_MIME_TYPE = 'application/javascript';\n",
       "  var HTML_MIME_TYPE = 'text/html';\n",
       "  var EXEC_MIME_TYPE = 'application/vnd.bokehjs_exec.v0+json';\n",
       "  var CLASS_NAME = 'output_bokeh rendered_html';\n",
       "\n",
       "  /**\n",
       "   * Render data to the DOM node\n",
       "   */\n",
       "  function render(props, node) {\n",
       "    var script = document.createElement(\"script\");\n",
       "    node.appendChild(script);\n",
       "  }\n",
       "\n",
       "  /**\n",
       "   * Handle when an output is cleared or removed\n",
       "   */\n",
       "  function handleClearOutput(event, handle) {\n",
       "    var cell = handle.cell;\n",
       "\n",
       "    var id = cell.output_area._bokeh_element_id;\n",
       "    var server_id = cell.output_area._bokeh_server_id;\n",
       "    // Clean up Bokeh references\n",
       "    if (id != null && id in Bokeh.index) {\n",
       "      Bokeh.index[id].model.document.clear();\n",
       "      delete Bokeh.index[id];\n",
       "    }\n",
       "\n",
       "    if (server_id !== undefined) {\n",
       "      // Clean up Bokeh references\n",
       "      var cmd = \"from bokeh.io.state import curstate; print(curstate().uuid_to_server['\" + server_id + \"'].get_sessions()[0].document.roots[0]._id)\";\n",
       "      cell.notebook.kernel.execute(cmd, {\n",
       "        iopub: {\n",
       "          output: function(msg) {\n",
       "            var id = msg.content.text.trim();\n",
       "            if (id in Bokeh.index) {\n",
       "              Bokeh.index[id].model.document.clear();\n",
       "              delete Bokeh.index[id];\n",
       "            }\n",
       "          }\n",
       "        }\n",
       "      });\n",
       "      // Destroy server and session\n",
       "      var cmd = \"import bokeh.io.notebook as ion; ion.destroy_server('\" + server_id + \"')\";\n",
       "      cell.notebook.kernel.execute(cmd);\n",
       "    }\n",
       "  }\n",
       "\n",
       "  /**\n",
       "   * Handle when a new output is added\n",
       "   */\n",
       "  function handleAddOutput(event, handle) {\n",
       "    var output_area = handle.output_area;\n",
       "    var output = handle.output;\n",
       "\n",
       "    // limit handleAddOutput to display_data with EXEC_MIME_TYPE content only\n",
       "    if ((output.output_type != \"display_data\") || (!output.data.hasOwnProperty(EXEC_MIME_TYPE))) {\n",
       "      return\n",
       "    }\n",
       "\n",
       "    var toinsert = output_area.element.find(\".\" + CLASS_NAME.split(' ')[0]);\n",
       "\n",
       "    if (output.metadata[EXEC_MIME_TYPE][\"id\"] !== undefined) {\n",
       "      toinsert[toinsert.length - 1].firstChild.textContent = output.data[JS_MIME_TYPE];\n",
       "      // store reference to embed id on output_area\n",
       "      output_area._bokeh_element_id = output.metadata[EXEC_MIME_TYPE][\"id\"];\n",
       "    }\n",
       "    if (output.metadata[EXEC_MIME_TYPE][\"server_id\"] !== undefined) {\n",
       "      var bk_div = document.createElement(\"div\");\n",
       "      bk_div.innerHTML = output.data[HTML_MIME_TYPE];\n",
       "      var script_attrs = bk_div.children[0].attributes;\n",
       "      for (var i = 0; i < script_attrs.length; i++) {\n",
       "        toinsert[toinsert.length - 1].firstChild.setAttribute(script_attrs[i].name, script_attrs[i].value);\n",
       "        toinsert[toinsert.length - 1].firstChild.textContent = bk_div.children[0].textContent\n",
       "      }\n",
       "      // store reference to server id on output_area\n",
       "      output_area._bokeh_server_id = output.metadata[EXEC_MIME_TYPE][\"server_id\"];\n",
       "    }\n",
       "  }\n",
       "\n",
       "  function register_renderer(events, OutputArea) {\n",
       "\n",
       "    function append_mime(data, metadata, element) {\n",
       "      // create a DOM node to render to\n",
       "      var toinsert = this.create_output_subarea(\n",
       "        metadata,\n",
       "        CLASS_NAME,\n",
       "        EXEC_MIME_TYPE\n",
       "      );\n",
       "      this.keyboard_manager.register_events(toinsert);\n",
       "      // Render to node\n",
       "      var props = {data: data, metadata: metadata[EXEC_MIME_TYPE]};\n",
       "      render(props, toinsert[toinsert.length - 1]);\n",
       "      element.append(toinsert);\n",
       "      return toinsert\n",
       "    }\n",
       "\n",
       "    /* Handle when an output is cleared or removed */\n",
       "    events.on('clear_output.CodeCell', handleClearOutput);\n",
       "    events.on('delete.Cell', handleClearOutput);\n",
       "\n",
       "    /* Handle when a new output is added */\n",
       "    events.on('output_added.OutputArea', handleAddOutput);\n",
       "\n",
       "    /**\n",
       "     * Register the mime type and append_mime function with output_area\n",
       "     */\n",
       "    OutputArea.prototype.register_mime_type(EXEC_MIME_TYPE, append_mime, {\n",
       "      /* Is output safe? */\n",
       "      safe: true,\n",
       "      /* Index of renderer in `output_area.display_order` */\n",
       "      index: 0\n",
       "    });\n",
       "  }\n",
       "\n",
       "  // register the mime type if in Jupyter Notebook environment and previously unregistered\n",
       "  if (root.Jupyter !== undefined) {\n",
       "    var events = require('base/js/events');\n",
       "    var OutputArea = require('notebook/js/outputarea').OutputArea;\n",
       "\n",
       "    if (OutputArea.prototype.mime_types().indexOf(EXEC_MIME_TYPE) == -1) {\n",
       "      register_renderer(events, OutputArea);\n",
       "    }\n",
       "  }\n",
       "\n",
       "  \n",
       "  if (typeof (root._bokeh_timeout) === \"undefined\" || force === true) {\n",
       "    root._bokeh_timeout = Date.now() + 5000;\n",
       "    root._bokeh_failed_load = false;\n",
       "  }\n",
       "\n",
       "  var NB_LOAD_WARNING = {'data': {'text/html':\n",
       "     \"<div style='background-color: #fdd'>\\n\"+\n",
       "     \"<p>\\n\"+\n",
       "     \"BokehJS does not appear to have successfully loaded. If loading BokehJS from CDN, this \\n\"+\n",
       "     \"may be due to a slow or bad network connection. Possible fixes:\\n\"+\n",
       "     \"</p>\\n\"+\n",
       "     \"<ul>\\n\"+\n",
       "     \"<li>re-rerun `output_notebook()` to attempt to load from CDN again, or</li>\\n\"+\n",
       "     \"<li>use INLINE resources instead, as so:</li>\\n\"+\n",
       "     \"</ul>\\n\"+\n",
       "     \"<code>\\n\"+\n",
       "     \"from bokeh.resources import INLINE\\n\"+\n",
       "     \"output_notebook(resources=INLINE)\\n\"+\n",
       "     \"</code>\\n\"+\n",
       "     \"</div>\"}};\n",
       "\n",
       "  function display_loaded() {\n",
       "    var el = document.getElementById(\"1001\");\n",
       "    if (el != null) {\n",
       "      el.textContent = \"BokehJS is loading...\";\n",
       "    }\n",
       "    if (root.Bokeh !== undefined) {\n",
       "      if (el != null) {\n",
       "        el.textContent = \"BokehJS \" + root.Bokeh.version + \" successfully loaded.\";\n",
       "      }\n",
       "    } else if (Date.now() < root._bokeh_timeout) {\n",
       "      setTimeout(display_loaded, 100)\n",
       "    }\n",
       "  }\n",
       "\n",
       "\n",
       "  function run_callbacks() {\n",
       "    try {\n",
       "      root._bokeh_onload_callbacks.forEach(function(callback) {\n",
       "        if (callback != null)\n",
       "          callback();\n",
       "      });\n",
       "    } finally {\n",
       "      delete root._bokeh_onload_callbacks\n",
       "    }\n",
       "    console.debug(\"Bokeh: all callbacks have finished\");\n",
       "  }\n",
       "\n",
       "  function load_libs(css_urls, js_urls, callback) {\n",
       "    if (css_urls == null) css_urls = [];\n",
       "    if (js_urls == null) js_urls = [];\n",
       "\n",
       "    root._bokeh_onload_callbacks.push(callback);\n",
       "    if (root._bokeh_is_loading > 0) {\n",
       "      console.debug(\"Bokeh: BokehJS is being loaded, scheduling callback at\", now());\n",
       "      return null;\n",
       "    }\n",
       "    if (js_urls == null || js_urls.length === 0) {\n",
       "      run_callbacks();\n",
       "      return null;\n",
       "    }\n",
       "    console.debug(\"Bokeh: BokehJS not loaded, scheduling load and callback at\", now());\n",
       "    root._bokeh_is_loading = css_urls.length + js_urls.length;\n",
       "\n",
       "    function on_load() {\n",
       "      root._bokeh_is_loading--;\n",
       "      if (root._bokeh_is_loading === 0) {\n",
       "        console.debug(\"Bokeh: all BokehJS libraries/stylesheets loaded\");\n",
       "        run_callbacks()\n",
       "      }\n",
       "    }\n",
       "\n",
       "    function on_error() {\n",
       "      console.error(\"failed to load \" + url);\n",
       "    }\n",
       "\n",
       "    for (var i = 0; i < css_urls.length; i++) {\n",
       "      var url = css_urls[i];\n",
       "      const element = document.createElement(\"link\");\n",
       "      element.onload = on_load;\n",
       "      element.onerror = on_error;\n",
       "      element.rel = \"stylesheet\";\n",
       "      element.type = \"text/css\";\n",
       "      element.href = url;\n",
       "      console.debug(\"Bokeh: injecting link tag for BokehJS stylesheet: \", url);\n",
       "      document.body.appendChild(element);\n",
       "    }\n",
       "\n",
       "    const hashes = {\"https://cdn.bokeh.org/bokeh/release/bokeh-2.0.2.min.js\": \"ufR9RFnRs6lniiaFvtJziE0YeidtAgBRH6ux2oUItHw5WTvE1zuk9uzhUU/FJXDp\", \"https://cdn.bokeh.org/bokeh/release/bokeh-widgets-2.0.2.min.js\": \"8QM/PGWBT+IssZuRcDcjzwIh1mkOmJSoNMmyYDZbCfXJg3Ap1lEvdVgFuSAwhb/J\", \"https://cdn.bokeh.org/bokeh/release/bokeh-tables-2.0.2.min.js\": \"Jm8cH3Rg0P6UeZhVY5cLy1WzKajUT9KImCY+76hEqrcJt59/d8GPvFHjCkYgnSIn\", \"https://cdn.bokeh.org/bokeh/release/bokeh-gl-2.0.2.min.js\": \"Ozhzj+SI7ywm74aOI/UajcWz+C0NjsPunEVyVIrxzYkB+jA+2tUw8x5xJCbVtK5I\"};\n",
       "\n",
       "    for (var i = 0; i < js_urls.length; i++) {\n",
       "      var url = js_urls[i];\n",
       "      var element = document.createElement('script');\n",
       "      element.onload = on_load;\n",
       "      element.onerror = on_error;\n",
       "      element.async = false;\n",
       "      element.src = url;\n",
       "      if (url in hashes) {\n",
       "        element.crossOrigin = \"anonymous\";\n",
       "        element.integrity = \"sha384-\" + hashes[url];\n",
       "      }\n",
       "      console.debug(\"Bokeh: injecting script tag for BokehJS library: \", url);\n",
       "      document.head.appendChild(element);\n",
       "    }\n",
       "  };\n",
       "\n",
       "  function inject_raw_css(css) {\n",
       "    const element = document.createElement(\"style\");\n",
       "    element.appendChild(document.createTextNode(css));\n",
       "    document.body.appendChild(element);\n",
       "  }\n",
       "\n",
       "  \n",
       "  var js_urls = [\"https://cdn.bokeh.org/bokeh/release/bokeh-2.0.2.min.js\", \"https://cdn.bokeh.org/bokeh/release/bokeh-widgets-2.0.2.min.js\", \"https://cdn.bokeh.org/bokeh/release/bokeh-tables-2.0.2.min.js\", \"https://cdn.bokeh.org/bokeh/release/bokeh-gl-2.0.2.min.js\"];\n",
       "  var css_urls = [];\n",
       "  \n",
       "\n",
       "  var inline_js = [\n",
       "    function(Bokeh) {\n",
       "      Bokeh.set_log_level(\"info\");\n",
       "    },\n",
       "    function(Bokeh) {\n",
       "    \n",
       "    \n",
       "    }\n",
       "  ];\n",
       "\n",
       "  function run_inline_js() {\n",
       "    \n",
       "    if (root.Bokeh !== undefined || force === true) {\n",
       "      \n",
       "    for (var i = 0; i < inline_js.length; i++) {\n",
       "      inline_js[i].call(root, root.Bokeh);\n",
       "    }\n",
       "    if (force === true) {\n",
       "        display_loaded();\n",
       "      }} else if (Date.now() < root._bokeh_timeout) {\n",
       "      setTimeout(run_inline_js, 100);\n",
       "    } else if (!root._bokeh_failed_load) {\n",
       "      console.log(\"Bokeh: BokehJS failed to load within specified timeout.\");\n",
       "      root._bokeh_failed_load = true;\n",
       "    } else if (force !== true) {\n",
       "      var cell = $(document.getElementById(\"1001\")).parents('.cell').data().cell;\n",
       "      cell.output_area.append_execute_result(NB_LOAD_WARNING)\n",
       "    }\n",
       "\n",
       "  }\n",
       "\n",
       "  if (root._bokeh_is_loading === 0) {\n",
       "    console.debug(\"Bokeh: BokehJS loaded, going straight to plotting\");\n",
       "    run_inline_js();\n",
       "  } else {\n",
       "    load_libs(css_urls, js_urls, function() {\n",
       "      console.debug(\"Bokeh: BokehJS plotting callback run at\", now());\n",
       "      run_inline_js();\n",
       "    });\n",
       "  }\n",
       "}(window));"
      ],
      "application/vnd.bokehjs_load.v0+json": "\n(function(root) {\n  function now() {\n    return new Date();\n  }\n\n  var force = true;\n\n  if (typeof root._bokeh_onload_callbacks === \"undefined\" || force === true) {\n    root._bokeh_onload_callbacks = [];\n    root._bokeh_is_loading = undefined;\n  }\n\n  \n\n  \n  if (typeof (root._bokeh_timeout) === \"undefined\" || force === true) {\n    root._bokeh_timeout = Date.now() + 5000;\n    root._bokeh_failed_load = false;\n  }\n\n  var NB_LOAD_WARNING = {'data': {'text/html':\n     \"<div style='background-color: #fdd'>\\n\"+\n     \"<p>\\n\"+\n     \"BokehJS does not appear to have successfully loaded. If loading BokehJS from CDN, this \\n\"+\n     \"may be due to a slow or bad network connection. Possible fixes:\\n\"+\n     \"</p>\\n\"+\n     \"<ul>\\n\"+\n     \"<li>re-rerun `output_notebook()` to attempt to load from CDN again, or</li>\\n\"+\n     \"<li>use INLINE resources instead, as so:</li>\\n\"+\n     \"</ul>\\n\"+\n     \"<code>\\n\"+\n     \"from bokeh.resources import INLINE\\n\"+\n     \"output_notebook(resources=INLINE)\\n\"+\n     \"</code>\\n\"+\n     \"</div>\"}};\n\n  function display_loaded() {\n    var el = document.getElementById(\"1001\");\n    if (el != null) {\n      el.textContent = \"BokehJS is loading...\";\n    }\n    if (root.Bokeh !== undefined) {\n      if (el != null) {\n        el.textContent = \"BokehJS \" + root.Bokeh.version + \" successfully loaded.\";\n      }\n    } else if (Date.now() < root._bokeh_timeout) {\n      setTimeout(display_loaded, 100)\n    }\n  }\n\n\n  function run_callbacks() {\n    try {\n      root._bokeh_onload_callbacks.forEach(function(callback) {\n        if (callback != null)\n          callback();\n      });\n    } finally {\n      delete root._bokeh_onload_callbacks\n    }\n    console.debug(\"Bokeh: all callbacks have finished\");\n  }\n\n  function load_libs(css_urls, js_urls, callback) {\n    if (css_urls == null) css_urls = [];\n    if (js_urls == null) js_urls = [];\n\n    root._bokeh_onload_callbacks.push(callback);\n    if (root._bokeh_is_loading > 0) {\n      console.debug(\"Bokeh: BokehJS is being loaded, scheduling callback at\", now());\n      return null;\n    }\n    if (js_urls == null || js_urls.length === 0) {\n      run_callbacks();\n      return null;\n    }\n    console.debug(\"Bokeh: BokehJS not loaded, scheduling load and callback at\", now());\n    root._bokeh_is_loading = css_urls.length + js_urls.length;\n\n    function on_load() {\n      root._bokeh_is_loading--;\n      if (root._bokeh_is_loading === 0) {\n        console.debug(\"Bokeh: all BokehJS libraries/stylesheets loaded\");\n        run_callbacks()\n      }\n    }\n\n    function on_error() {\n      console.error(\"failed to load \" + url);\n    }\n\n    for (var i = 0; i < css_urls.length; i++) {\n      var url = css_urls[i];\n      const element = document.createElement(\"link\");\n      element.onload = on_load;\n      element.onerror = on_error;\n      element.rel = \"stylesheet\";\n      element.type = \"text/css\";\n      element.href = url;\n      console.debug(\"Bokeh: injecting link tag for BokehJS stylesheet: \", url);\n      document.body.appendChild(element);\n    }\n\n    const hashes = {\"https://cdn.bokeh.org/bokeh/release/bokeh-2.0.2.min.js\": \"ufR9RFnRs6lniiaFvtJziE0YeidtAgBRH6ux2oUItHw5WTvE1zuk9uzhUU/FJXDp\", \"https://cdn.bokeh.org/bokeh/release/bokeh-widgets-2.0.2.min.js\": \"8QM/PGWBT+IssZuRcDcjzwIh1mkOmJSoNMmyYDZbCfXJg3Ap1lEvdVgFuSAwhb/J\", \"https://cdn.bokeh.org/bokeh/release/bokeh-tables-2.0.2.min.js\": \"Jm8cH3Rg0P6UeZhVY5cLy1WzKajUT9KImCY+76hEqrcJt59/d8GPvFHjCkYgnSIn\", \"https://cdn.bokeh.org/bokeh/release/bokeh-gl-2.0.2.min.js\": \"Ozhzj+SI7ywm74aOI/UajcWz+C0NjsPunEVyVIrxzYkB+jA+2tUw8x5xJCbVtK5I\"};\n\n    for (var i = 0; i < js_urls.length; i++) {\n      var url = js_urls[i];\n      var element = document.createElement('script');\n      element.onload = on_load;\n      element.onerror = on_error;\n      element.async = false;\n      element.src = url;\n      if (url in hashes) {\n        element.crossOrigin = \"anonymous\";\n        element.integrity = \"sha384-\" + hashes[url];\n      }\n      console.debug(\"Bokeh: injecting script tag for BokehJS library: \", url);\n      document.head.appendChild(element);\n    }\n  };\n\n  function inject_raw_css(css) {\n    const element = document.createElement(\"style\");\n    element.appendChild(document.createTextNode(css));\n    document.body.appendChild(element);\n  }\n\n  \n  var js_urls = [\"https://cdn.bokeh.org/bokeh/release/bokeh-2.0.2.min.js\", \"https://cdn.bokeh.org/bokeh/release/bokeh-widgets-2.0.2.min.js\", \"https://cdn.bokeh.org/bokeh/release/bokeh-tables-2.0.2.min.js\", \"https://cdn.bokeh.org/bokeh/release/bokeh-gl-2.0.2.min.js\"];\n  var css_urls = [];\n  \n\n  var inline_js = [\n    function(Bokeh) {\n      Bokeh.set_log_level(\"info\");\n    },\n    function(Bokeh) {\n    \n    \n    }\n  ];\n\n  function run_inline_js() {\n    \n    if (root.Bokeh !== undefined || force === true) {\n      \n    for (var i = 0; i < inline_js.length; i++) {\n      inline_js[i].call(root, root.Bokeh);\n    }\n    if (force === true) {\n        display_loaded();\n      }} else if (Date.now() < root._bokeh_timeout) {\n      setTimeout(run_inline_js, 100);\n    } else if (!root._bokeh_failed_load) {\n      console.log(\"Bokeh: BokehJS failed to load within specified timeout.\");\n      root._bokeh_failed_load = true;\n    } else if (force !== true) {\n      var cell = $(document.getElementById(\"1001\")).parents('.cell').data().cell;\n      cell.output_area.append_execute_result(NB_LOAD_WARNING)\n    }\n\n  }\n\n  if (root._bokeh_is_loading === 0) {\n    console.debug(\"Bokeh: BokehJS loaded, going straight to plotting\");\n    run_inline_js();\n  } else {\n    load_libs(css_urls, js_urls, function() {\n      console.debug(\"Bokeh: BokehJS plotting callback run at\", now());\n      run_inline_js();\n    });\n  }\n}(window));"
     },
     "metadata": {},
     "output_type": "display_data"
    }
   ],
   "source": [
    "import os\n",
    "import pandas as pd\n",
    "import sys\n",
    "sys.path.insert(0, '../..')\n",
    "import numpy as np\n",
    "import itertools\n",
    "\n",
    "from JKBio import Helper as helper\n",
    "\n",
    "from bokeh.plotting import *\n",
    "from IPython.display import IFrame\n",
    "import igv\n",
    "\n",
    "from sklearn.manifold import MDS, TSNE\n",
    "from sklearn.decomposition import PCA\n",
    "from sklearn.preprocessing import scale\n",
    "from sklearn.cluster import AgglomerativeClustering\n",
    "from sklearn.mixture import GaussianMixture\n",
    "\n",
    "output_notebook()\n",
    "%load_ext autoreload\n",
    "%autoreload 2"
   ]
  },
  {
   "cell_type": "code",
   "execution_count": null,
   "metadata": {},
   "outputs": [],
   "source": [
    "! gcsfuse --only-dir Chip/fastqs/ amlproject ../data/seqs"
   ]
  },
  {
   "cell_type": "code",
   "execution_count": null,
   "metadata": {},
   "outputs": [],
   "source": [
    "!fusermount -u ../data/seqs"
   ]
  },
  {
   "cell_type": "code",
   "execution_count": null,
   "metadata": {},
   "outputs": [],
   "source": [
    "! ls ../data/seqs/GEO"
   ]
  },
  {
   "cell_type": "markdown",
   "metadata": {},
   "source": [
    "## finding all the relevant files for chipseq processing"
   ]
  },
  {
   "cell_type": "code",
   "execution_count": null,
   "metadata": {},
   "outputs": [],
   "source": [
    "a = !gsutil ls gs://amlproject/Chip"
   ]
  },
  {
   "cell_type": "code",
   "execution_count": null,
   "metadata": {},
   "outputs": [],
   "source": [
    "a"
   ]
  },
  {
   "cell_type": "code",
   "execution_count": null,
   "metadata": {},
   "outputs": [],
   "source": [
    "rename1 = {\n",
    "'gs://amlproject/Chip/fastqs/20180709_1_MP5773_S1.fastq.gz': 'gs://amlproject/Chip/fastqs/mp631.fastq.gz',\n",
    " 'gs://amlproject/Chip/fastqs/20180709_3_MP5773_S3.fastq.gz': 'gs://amlproject/Chip/fastqs/mp633.fastq.gz',\n",
    " 'gs://amlproject/Chip/fastqs/20180709_5_MP5773_S5.fastq.gz': 'gs://amlproject/Chip/fastqs/mp635.fastq.gz',\n",
    " 'gs://amlproject/Chip/fastqs/20180709_6_MP5773_S6.fastq.gz': 'gs://amlproject/Chip/fastqs/mp636.fastq.gz',\n",
    " 'gs://amlproject/Chip/fastqs/20190718_MP-11_MP7213-2of2_S4_R1_001.fastq.gz': 'gs://amlproject/Chip/fastqs/mp748.fastq.gz',\n",
    " 'gs://amlproject/Chip/fastqs/20190718_MP-13_MP7213-2of2_S5_R1_001.fastq.gz': 'gs://amlproject/Chip/fastqs/mp750.fastq.gz',\n",
    " 'gs://amlproject/Chip/fastqs/20190718_MP-14_MP7213-2of2_S6_R1_001.fastq.gz': 'gs://amlproject/Chip/fastqs/mp751.fastq.gz',\n",
    " 'gs://amlproject/Chip/fastqs/20190718_MP-2_MP7213-1of2_S2_R1_001.fastq.gz': 'gs://amlproject/Chip/fastqs/mp739.fastq.gz',\n",
    " 'gs://amlproject/Chip/fastqs/20190718_MP-4_MP7213-1of2_S4_R1_001.fastq.gz': 'gs://amlproject/Chip/fastqs/mp741.fastq.gz',\n",
    " 'gs://amlproject/Chip/fastqs/20190718_MP-5_MP7213-1of2_S5_R1_001.fastq.gz': 'gs://amlproject/Chip/fastqs/mp742.fastq.gz',\n",
    " 'gs://amlproject/Chip/fastqs/20190718_MP-6_MP7213-1of2_S6_R1_001.fastq.gz': 'gs://amlproject/Chip/fastqs/mp743.fastq.gz',\n",
    " 'gs://amlproject/Chip/fastqs/20190718_MP-8_MP7213-2of2_S1_R1_001.fastq.gz': 'gs://amlproject/Chip/fastqs/mp745.fastq.gz',\n",
    " 'gs://amlproject/Chip/fastqs/20190826_10_MB7326-2of2_S5.fastq.gz': 'gs://amlproject/Chip/fastqs/mp761.fastq.gz',\n",
    " 'gs://amlproject/Chip/fastqs/20190826_11_MB7326-2of2_S6.fastq.gz': 'gs://amlproject/Chip/fastqs/mp762.fastq.gz',\n",
    " 'gs://amlproject/Chip/fastqs/20190826_9_MB7326-2of2_S4.fastq.gz': 'gs://amlproject/Chip/fastqs/mp760.fastq.gz',\n",
    " 'gs://amlproject/Chip/fastqs/D0-INPUT.fastq.gz': 'gs://amlproject/Chip/fastqs/mp8.fastq.gz',\n",
    " 'gs://amlproject/Chip/fastqs/D9-INPUT.fastq.gz': 'gs://amlproject/Chip/fastqs/mp14.fastq.gz',\n",
    " 'gs://amlproject/Chip/fastqs/D9_CEBPA_m.fastq.gz': 'gs://amlproject/Chip/fastqs/mp27.fastq.gz',\n",
    " 'gs://amlproject/Chip/fastqs/D9_INPUT.fastq.gz': 'gs://amlproject/Chip/fastqs/mp35.fastq.gz',\n",
    " 'gs://amlproject/Chip/fastqs/MP29.fastq.gz': 'gs://amlproject/Chip/fastqs/mp4.fastq.gz',\n",
    " 'gs://amlproject/Chip/fastqs/MP30.fastq.gz': 'gs://amlproject/Chip/fastqs/mp5.fastq.gz',\n",
    " 'gs://amlproject/Chip/fastqs/MP31.fastq.gz': 'gs://amlproject/Chip/fastqs/mp6.fastq.gz',\n",
    " 'gs://amlproject/Chip/fastqs/OCI_AML2-INPUT.fastq.gz': 'gs://amlproject/Chip/fastqs/mp24.fastq.gz',\n",
    " 'gs://amlproject/Chip/fastqs/OCI_AML2_CEBPA_m.fastq.gz': 'gs://amlproject/Chip/fastqs/mp41.fastq.gz',\n",
    " 'gs://amlproject/Chip/fastqs/OCI_AML2_INPUT.fastq.gz': 'gs://amlproject/Chip/fastqs/mp33.fastq.gz',\n",
    " 'gs://amlproject/Chip/fastqs/Sample_10-D8-SP1.fastq.gz': 'gs://amlproject/Chip/fastqs/mp156.fastq.gz',\n",
    " 'gs://amlproject/Chip/fastqs/Sample_12-MV411-SPI1.fastq.gz': 'gs://amlproject/Chip/fastqs/mp115.fastq.gz',\n",
    " 'gs://amlproject/Chip/fastqs/Sample_15-MV411-SP1.fastq.gz': 'gs://amlproject/Chip/fastqs/mp118.fastq.gz',\n",
    " 'gs://amlproject/Chip/fastqs/Sample_18-D8-MED1.fastq.gz': 'gs://amlproject/Chip/fastqs/mp160.fastq.gz',\n",
    " 'gs://amlproject/Chip/fastqs/Sample_19-M6-CEBPA.fastq.gz': 'gs://amlproject/Chip/fastqs/mp122.fastq.gz',\n",
    " 'gs://amlproject/Chip/fastqs/Sample_20-M6-RUNX1.fastq.gz': 'gs://amlproject/Chip/fastqs/mp123.fastq.gz',\n",
    " 'gs://amlproject/Chip/fastqs/Sample_21-M6-MYB.fastq.gz': 'gs://amlproject/Chip/fastqs/mp124.fastq.gz',\n",
    " 'gs://amlproject/Chip/fastqs/Sample_22-M6-ETV6.fastq.gz': 'gs://amlproject/Chip/fastqs/mp125.fastq.gz',\n",
    " 'gs://amlproject/Chip/fastqs/Sample_24-M6-SPI1.fastq.gz': 'gs://amlproject/Chip/fastqs/mp171.fastq.gz',\n",
    " 'gs://amlproject/Chip/fastqs/Sample_25-M6-SP1.fastq.gz': 'gs://amlproject/Chip/fastqs/mp127.fastq.gz',\n",
    " 'gs://amlproject/Chip/fastqs/Sample_26-M6-MED1.fastq.gz': 'gs://amlproject/Chip/fastqs/mp128.fastq.gz',\n",
    " 'gs://amlproject/Chip/fastqs/Sample_27-MV411-RUNX1.fastq.gz': 'gs://amlproject/Chip/fastqs/mp129.fastq.gz',\n",
    " 'gs://amlproject/Chip/fastqs/Sample_27-OCIAML2-SPI1.fastq.gz': 'gs://amlproject/Chip/fastqs/mp168.fastq.gz',\n",
    " 'gs://amlproject/Chip/fastqs/Sample_31.M6.INPUT.fastq.gz': 'gs://amlproject/Chip/fastqs/mp98.fastq.gz',\n",
    " 'gs://amlproject/Chip/fastqs/Sample_41-M6-IGG.fastq.gz': 'gs://amlproject/Chip/fastqs/mp143.fastq.gz',\n",
    " 'gs://amlproject/Chip/fastqs/Sample_6-M6-CEBPA.fastq.gz': 'gs://amlproject/Chip/fastqs/mp109.fastq.gz',\n",
    " 'gs://amlproject/Chip/fastqs/Sample_7-D8-CEBPA.fastq.gz': 'gs://amlproject/Chip/fastqs/mp153.fastq.gz',\n",
    " 'gs://amlproject/Chip/fastqs/Sample_8-D8-SPI1.fastq.gz': 'gs://amlproject/Chip/fastqs/mp154.fastq.gz',\n",
    " 'gs://amlproject/Chip/fastqs/Sample_9-D8-MYB.fastq.gz': 'gs://amlproject/Chip/fastqs/mp155.fastq.gz'\n",
    "}"
   ]
  },
  {
   "cell_type": "markdown",
   "metadata": {},
   "source": [
    "## looking for duplicates"
   ]
  },
  {
   "cell_type": "code",
   "execution_count": null,
   "metadata": {},
   "outputs": [],
   "source": [
    "import re\n",
    "mps=[]\n",
    "for i in a:\n",
    "    res = re.search('mp(\\d+)', i)\n",
    "    if res is not None:\n",
    "        mps.append(res.group(0))"
   ]
  },
  {
   "cell_type": "code",
   "execution_count": null,
   "metadata": {},
   "outputs": [],
   "source": [
    "mps.sort()"
   ]
  },
  {
   "cell_type": "code",
   "execution_count": null,
   "metadata": {},
   "outputs": [],
   "source": [
    "mps"
   ]
  },
  {
   "cell_type": "code",
   "execution_count": null,
   "metadata": {},
   "outputs": [],
   "source": [
    "duplicates=[ 'gs://amlproject/Chip/fastqs/Sample_mp582-MV411-MEIS1-r1.fastq.gz',\n",
    "'gs://amlproject/Chip/fastqs/Sample_mp587-MV411-IKZF1-r1.fastq.gz',\n",
    ",\n",
    "'gs://amlproject/Chip/fastqs/mp88-MV411-H3K27ac-r2.fastq.gz']"
   ]
  },
  {
   "cell_type": "code",
   "execution_count": null,
   "metadata": {},
   "outputs": [],
   "source": [
    "for val in duplicates:\n",
    "    os.system('gsutil rm '+val)"
   ]
  },
  {
   "cell_type": "code",
   "execution_count": null,
   "metadata": {},
   "outputs": [],
   "source": [
    "paired_end_tomove= ['gs://amlproject/Chip/fastqs/mp304-D9-PU1-r2_S1_R2.fastq.gz',\n",
    " 'gs://amlproject/Chip/fastqs/mp305-SKNO1-PU1-r1_S2_R2.fastq.gz',\n",
    " 'gs://amlproject/Chip/fastqs/mp320-MV411-ZEB2-r1_R2.fastq.gz',\n",
    " 'gs://amlproject/Chip/fastqs/mp319-MV411-FLI1-r1_R2.fastq.gz',\n",
    " 'gs://amlproject/Chip/fastqs/mp308-SKNO1-RUNX1-RUNX1T1-r1_S5_R2.fastq.gz',\n",
    " 'gs://amlproject/Chip/fastqs/mp300-MV411-RUNX1-r3_R2.fastq.gz',\n",
    " 'gs://amlproject/Chip/fastqs/mp321-MV411-GFI1-r4_R2.fastq.gz',\n",
    " 'gs://amlproject/Chip/fastqs/mp324-MV411-MEF2D-r1_R2.fastq.gz',\n",
    " 'gs://amlproject/Chip/fastqs/mp299-MV411-CEBPA-r3_S7_R2.fastq.gz'\n",
    " 'gs://amlproject/Chip/fastqs/mp325-MV411-SP1-r2_R2.fastq.gz']"
   ]
  },
  {
   "cell_type": "code",
   "execution_count": null,
   "metadata": {},
   "outputs": [],
   "source": [
    "for val in paired_end_tomove:\n",
    "    os.system('gsutil mv '+val+' gs://amlproject/Chip/fastqs/paired_end/')"
   ]
  },
  {
   "cell_type": "markdown",
   "metadata": {},
   "source": [
    "## renamings"
   ]
  },
  {
   "cell_type": "code",
   "execution_count": null,
   "metadata": {},
   "outputs": [],
   "source": [
    "for k, val in rename1.items():\n",
    "    os.system('gsutil mv '+k+' '+val)"
   ]
  },
  {
   "cell_type": "code",
   "execution_count": null,
   "metadata": {},
   "outputs": [],
   "source": [
    "## IT SHOULD NOT CAUSE ANY PROBLEM TO CP R2 SINCE IT DOES NOT EXIST \n",
    "#(will throw an error and skip)\n",
    "import re\n",
    "import time\n",
    "mps=[]\n",
    "for i in a:\n",
    "    res = re.search('mp(\\d+)', i)\n",
    "    if res is not None:\n",
    "        print('gsutil mv '+i+' gs://amlproject/Chip/fastqs/'+res.group(0)+'.fastq.gz')\n",
    "        time.sleep(2)\n",
    "        os.system('gsutil mv '+i+' gs://amlproject/Chip/fastqs/'+res.group(0)+'.fastq.gz')"
   ]
  },
  {
   "cell_type": "code",
   "execution_count": null,
   "metadata": {},
   "outputs": [],
   "source": [
    "!gsutil ls gs://amlproject/Chip/fastqs/"
   ]
  },
  {
   "cell_type": "code",
   "execution_count": null,
   "metadata": {},
   "outputs": [],
   "source": [
    "# EXCEPT these two... TO RETRIEVE\n",
    "gs://amlproject/Chip/fastqs/mp300-MV411-RUNX1-r3_R2.fastq.gz\n",
    "gs://amlproject/Chip/fastqs/mp300-MV411-RUNX1-r3_R1.fastq.gz"
   ]
  },
  {
   "cell_type": "code",
   "execution_count": null,
   "metadata": {},
   "outputs": [],
   "source": [
    "stored = !gsutil ls -a gs://amlproject/Chip/fastqs/mp300-MV411-RUNX1-r3_R2.fastq.gz\n",
    "stored=stored[0]\n",
    "! gsutil cp $stored gs://amlproject/Chip/fastqs/mp300-MV411-RUNX1-r3_R2.fastq.gz"
   ]
  },
  {
   "cell_type": "code",
   "execution_count": null,
   "metadata": {},
   "outputs": [],
   "source": [
    "a"
   ]
  },
  {
   "cell_type": "code",
   "execution_count": null,
   "metadata": {},
   "outputs": [],
   "source": [
    "#continuing\n",
    "a[85]"
   ]
  },
  {
   "cell_type": "code",
   "execution_count": null,
   "metadata": {},
   "outputs": [],
   "source": [
    "import re\n",
    "import time\n",
    "mps=[]\n",
    "for i in a[86:]:\n",
    "    res = re.search('mp(\\d+)', i)\n",
    "    if res is not None:\n",
    "        print('gsutil mv '+i+' gs://amlproject/Chip/fastqs/'+res.group(0)+'.fastq.gz')\n",
    "        time.sleep(2)\n",
    "        os.system('gsutil mv '+i+' gs://amlproject/Chip/fastqs/'+res.group(0)+'.fastq.gz')"
   ]
  },
  {
   "cell_type": "markdown",
   "metadata": {},
   "source": [
    "## adding metadata"
   ]
  },
  {
   "cell_type": "code",
   "execution_count": null,
   "metadata": {},
   "outputs": [],
   "source": [
    "from gsheets import Sheets\n",
    "sheets = Sheets.from_files('~/.client_secret.json', '~/.storage.json')"
   ]
  },
  {
   "cell_type": "code",
   "execution_count": null,
   "metadata": {},
   "outputs": [],
   "source": [
    "url=\"https://docs.google.com/spreadsheets/d/14onj_lD6WrjSEsE5dWJid6lGdJ81O6qpcetP5_Z0FxQ\"\n",
    "gsheets = sheets.get(url).sheets[1].to_frame()"
   ]
  },
  {
   "cell_type": "code",
   "execution_count": null,
   "metadata": {},
   "outputs": [],
   "source": [
    "gsheets"
   ]
  },
  {
   "cell_type": "code",
   "execution_count": null,
   "metadata": {},
   "outputs": [],
   "source": [
    "gsheets = gsheets.set_index('Unique sample ID')"
   ]
  },
  {
   "cell_type": "code",
   "execution_count": null,
   "metadata": {},
   "outputs": [],
   "source": [
    "a = !gsutil -m ls gs://amlproject/Chip/fastqs/\n",
    "a"
   ]
  },
  {
   "cell_type": "code",
   "execution_count": null,
   "metadata": {},
   "outputs": [],
   "source": [
    "data = pd.DataFrame({'fastq_1':a[:-1]}, index=[i.split('/')[-1].split('.')[0] for i in a[:-1]])"
   ]
  },
  {
   "cell_type": "code",
   "execution_count": null,
   "metadata": {},
   "outputs": [],
   "source": [
    "data[['quality','Protein','Replicate No','Cell line ID']] = gsheets[\n",
    "    ['quality','Protein','Replicate No','Cell line ID']]"
   ]
  },
  {
   "cell_type": "code",
   "execution_count": null,
   "metadata": {},
   "outputs": [],
   "source": [
    "data['fastq_2']= np.NaN"
   ]
  },
  {
   "cell_type": "code",
   "execution_count": null,
   "metadata": {},
   "outputs": [],
   "source": [
    "data = data.rename(columns={'Protein': 'antibody','Cell line ID': 'group','Replicate No': 'replicate'})"
   ]
  },
  {
   "cell_type": "code",
   "execution_count": null,
   "metadata": {},
   "outputs": [],
   "source": [
    "data.loc[data[data.antibody.isin(['INPUT','IGG'])].index,'group'] = \\\n",
    "data[data.antibody.isin(['INPUT','IGG'])].antibody +'_'+\\\n",
    "data[data.antibody.isin(['INPUT','IGG'])].group"
   ]
  },
  {
   "cell_type": "code",
   "execution_count": null,
   "metadata": {},
   "outputs": [],
   "source": [
    "data.loc[data[~data.antibody.isin(['INPUT','IGG'])].index,'control'] = \\\n",
    "'INPUT_'+\\\n",
    "data[~data.antibody.isin(['INPUT','IGG'])].group"
   ]
  },
  {
   "cell_type": "code",
   "execution_count": null,
   "metadata": {},
   "outputs": [],
   "source": [
    "data"
   ]
  },
  {
   "cell_type": "code",
   "execution_count": null,
   "metadata": {},
   "outputs": [],
   "source": [
    "set(data.control)-set(data.group)"
   ]
  },
  {
   "cell_type": "code",
   "execution_count": null,
   "metadata": {},
   "outputs": [],
   "source": [
    "withoutinput = [\"HEL\",\n",
    "                \"SHI1\",\n",
    "                \"EOL1\",\n",
    "                \"F36P\"]"
   ]
  },
  {
   "cell_type": "code",
   "execution_count": null,
   "metadata": {},
   "outputs": [],
   "source": [
    "# requesting them and downloading them..."
   ]
  },
  {
   "cell_type": "code",
   "execution_count": null,
   "metadata": {},
   "outputs": [],
   "source": [
    "rename = {'gs://amlproject/Chip/fastqs/1_MP5835-1of4_S1_R1_001.fastq.gz':\"gs://amlproject/Chip/fastqs/mp643.fastq.gz\",\n",
    " 'gs://amlproject/Chip/fastqs/Sample_17-HL60-INPUT.fastq.gz':\"gs://amlproject/Chip/fastqs/mp120.fastq.gz\",\n",
    " 'gs://amlproject/Chip/fastqs/Sample_33.U937.INPUT.fastq.gz':\"gs://amlproject/Chip/fastqs/mp100.fastq.gz\",\n",
    " 'gs://amlproject/Chip/fastqs/Sample_34.NOMO1.INPUT.fastq.gz':\"gs://amlproject/Chip/fastqs/mp101.fastq.gz\",\n",
    " 'gs://amlproject/Chip/fastqs/Sample_35.UT7.INPUT.fastq.gz':\"gs://amlproject/Chip/fastqs/mp102.fastq.gz\",\n",
    " 'gs://amlproject/Chip/fastqs/Sample_mp309-KG1-INPUT-r1.fastq.gz':\"gs://amlproject/Chip/fastqs/mp309.fastq.gz\",\n",
    " 'gs://amlproject/Chip/fastqs/Sample_mp310-Kasumi1-INPUT-r1.fastq.gz':\"gs://amlproject/Chip/fastqs/mp310.fastq.gz\",\n",
    " 'gs://amlproject/Chip/fastqs/Sample_mp311-MOLM13-INPUT-r1.fastq.gz':\"gs://amlproject/Chip/fastqs/mp311.fastq.gz\",\n",
    " 'gs://amlproject/Chip/fastqs/Sample_mp312-NB4-INPUT-r1.fastq.gz':\"gs://amlproject/Chip/fastqs/mp312.fastq.gz\",\n",
    " 'gs://amlproject/Chip/fastqs/Sample_mp313-TF1-INPUT-r1.fastq.gz':\"gs://amlproject/Chip/fastqs/mp313.fastq.gz\",\n",
    " 'gs://amlproject/Chip/fastqs/Sample_mp314-OCIAML3-INPUT-r1.fastq.gz':\"gs://amlproject/Chip/fastqs/mp314.fastq.gz\",\n",
    " 'gs://amlproject/Chip/fastqs/Sample_mp315-MONOMAC3-INPUT-r1.fastq.gz':\"gs://amlproject/Chip/fastqs/mp315.fastq.gz\",\n",
    " 'gs://amlproject/Chip/fastqs/Sample_mp326-DFAM71927V3-INPUT-r1_R1.fastq.gz':\"gs://amlproject/Chip/fastqs/mp326.fastq.gz\",\n",
    " 'gs://amlproject/Chip/fastqs/mp609-MONOMAC1-INPUT-r1_S4.fastq.gz': 'gs://amlproject/Chip/fastqs/mp609.fastq.gz',\n",
    " 'gs://amlproject/Chip/fastqs/mp610-HEL9217-INPUT-r1_S5.fastq.gz': 'gs://amlproject/Chip/fastqs/mp610.fastq.gz',\n",
    " 'gs://amlproject/Chip/fastqs/mp611-P31FUJ-INPUT-r1_S6.fastq.gz': 'gs://amlproject/Chip/fastqs/mp611.fastq.gz',\n",
    " 'gs://amlproject/Chip/fastqs/mp612-PLB985-INPUT-r1_S7.fastq.gz': 'gs://amlproject/Chip/fastqs/mp612.fastq.gz',\n",
    "          \n",
    " 'gs://amlproject/Chip/fastqs/1_MP5835-1of4_S1_R2_001.fastq.gz':\"gs://amlproject/Chip/fastqs/paired_end/mp643-1_MP5835-1of4_S1_R2_001.fastq.gz\",          \n",
    "'gs://amlproject/Chip/fastqs/Sample_mp326-DFAM71927V3-INPUT-r1_R2.fastq.gz':\"gs://amlproject/Chip/fastqs/paired_end/mp326-DFAM71927V3-INPUT-r1_R2.fastq.gz\"}"
   ]
  },
  {
   "cell_type": "code",
   "execution_count": null,
   "metadata": {},
   "outputs": [],
   "source": [
    "for k,v in rename.items():\n",
    "    ! gsutil mv $k $v"
   ]
  },
  {
   "cell_type": "code",
   "execution_count": null,
   "metadata": {},
   "outputs": [],
   "source": [
    "data = data.drop(data[data.group.isin(withoutinput)].index)"
   ]
  },
  {
   "cell_type": "code",
   "execution_count": null,
   "metadata": {},
   "outputs": [],
   "source": [
    "data.loc[data[~data.antibody.isin(['INPUT','IGG'])].index,'group'] = \\\n",
    "data[~data.antibody.isin(['INPUT','IGG'])].group + '_' + \\\n",
    "data[~data.antibody.isin(['INPUT','IGG'])].replicate.astype(str)"
   ]
  },
  {
   "cell_type": "code",
   "execution_count": null,
   "metadata": {},
   "outputs": [],
   "source": [
    "data[data.antibody.isin(['INPUT','IGG'])].antibody = np.nan"
   ]
  },
  {
   "cell_type": "code",
   "execution_count": null,
   "metadata": {},
   "outputs": [],
   "source": [
    "data['replicate']=1"
   ]
  },
  {
   "cell_type": "code",
   "execution_count": null,
   "metadata": {},
   "outputs": [],
   "source": [
    "data"
   ]
  },
  {
   "cell_type": "code",
   "execution_count": null,
   "metadata": {},
   "outputs": [],
   "source": [
    "data[data.columns[[4,3,0,5,2,6]]].to_csv('../nextflow/design.csv', index=False)"
   ]
  },
  {
   "cell_type": "code",
   "execution_count": null,
   "metadata": {},
   "outputs": [],
   "source": [
    "! export GOOGLE_APPLICATION_CREDENTIALS=~/jkobject-b6f1adaffcb8.json\n",
    "! export NXF_MODE=google\n",
    "! nextflow info"
   ]
  },
  {
   "cell_type": "code",
   "execution_count": null,
   "metadata": {},
   "outputs": [],
   "source": [
    "! nextflow cloud create 'jkcluster' -c 40"
   ]
  },
  {
   "cell_type": "code",
   "execution_count": null,
   "metadata": {},
   "outputs": [],
   "source": [
    "! nextflow run nf-core/chipseq -c \"../nextflow/nextflow.config\" \\\n",
    "--singleEnd \\\n",
    "--seq_center 'DFCI' \\\n",
    "--email 'amlproject@gmail.com' \\\n",
    "--bucket-dir 'gs://amlproject/Chip_AML/nextflow/CHIPprocess_2/' \\\n",
    "--keyfile '~/amlproject-b6f1adaffcb8.json' \\\n",
    "--projectname 'amlproject' \\\n",
    "--zone 'us-east1-b' \\\n",
    "--skipDiffAnalysis \\\n",
    "--narrowPeak \\\n",
    "--design \"../nextflow/design.csv\" \\\n",
    "--genome \"GRCh38\" \\\n",
    "--profile 'gcp' \\\n",
    "--resume \\\n",
    "--skipPreseq \\\n",
    "--max_cpus 8"
   ]
  },
  {
   "cell_type": "code",
   "execution_count": null,
   "metadata": {},
   "outputs": [],
   "source": [
    "! nextflow cloud shutdown jkcluster"
   ]
  },
  {
   "cell_type": "code",
   "execution_count": null,
   "metadata": {},
   "outputs": [],
   "source": [
    "gsheets[gsheets['Cell line ID'].isin([\n",
    "    \"MOLM13\",\n",
    "\"MONOMAC1\",\n",
    "\"MONOMAC6\",\n",
    "\"NB4\",\n",
    "\"UT7\",\n",
    "\"KG1\",\n",
    "\"U937\",\n",
    "\"P31FUJ\",\n",
    "\"HL60\",\n",
    "\"PLB985\",\n",
    "\"OCIAML3\",\n",
    "\"HEL9217\",\n",
    "\"Kasumi1\",\n",
    "\"NOMO1\",\n",
    "\"TF1\",\n",
    "\"SHI1\",\n",
    "\"DFAM71927V3\",\n",
    "\"EOL1\",\n",
    "\"F36P\"\n",
    "])][gsheets.Protein=='INPUT'].index"
   ]
  },
  {
   "cell_type": "markdown",
   "metadata": {},
   "source": [
    "### need to use juicer\n",
    "https://github.com/aidenlab/juicer/wiki/Data-Extraction\n",
    "\n",
    "https://github.com/aidenlab/straw/wiki/Python\n",
    "\n",
    "https://github.com/aidenlab/juicer/wiki/Data\n",
    "\n",
    "https://github.com/aidenlab/juicer"
   ]
  },
  {
   "cell_type": "code",
   "execution_count": null,
   "metadata": {},
   "outputs": [],
   "source": [
    "! pip install hic-straw"
   ]
  },
  {
   "cell_type": "code",
   "execution_count": null,
   "metadata": {},
   "outputs": [],
   "source": [
    "import straw"
   ]
  },
  {
   "cell_type": "code",
   "execution_count": null,
   "metadata": {},
   "outputs": [],
   "source": [
    "result = straw.straw('KR', \n",
    "                     '../../data/'+project+'/MV411_H3K27ac_all_rep_duplicate_removed_allValidPairs.hic',\n",
    "                     'X', 'X', 'BP', 5000)"
   ]
  },
  {
   "cell_type": "code",
   "execution_count": null,
   "metadata": {},
   "outputs": [],
   "source": [
    "len(result[1])"
   ]
  },
  {
   "cell_type": "code",
   "execution_count": null,
   "metadata": {},
   "outputs": [],
   "source": [
    "! ls ../../data/$project"
   ]
  },
  {
   "cell_type": "code",
   "execution_count": null,
   "metadata": {},
   "outputs": [],
   "source": []
  }
 ],
 "metadata": {
  "kernelspec": {
   "display_name": "Python 3",
   "language": "python",
   "name": "python3"
  },
  "language_info": {
   "codemirror_mode": {
    "name": "ipython",
    "version": 3
   },
   "file_extension": ".py",
   "mimetype": "text/x-python",
   "name": "python",
   "nbconvert_exporter": "python",
   "pygments_lexer": "ipython3",
   "version": "3.8.3rc1"
  },
  "latex_envs": {
   "LaTeX_envs_menu_present": true,
   "autoclose": false,
   "autocomplete": true,
   "bibliofile": "biblio.bib",
   "cite_by": "apalike",
   "current_citInitial": 1,
   "eqLabelWithNumbers": true,
   "eqNumInitial": 1,
   "hotkeys": {
    "equation": "Ctrl-E",
    "itemize": "Ctrl-I"
   },
   "labels_anchors": false,
   "latex_user_defs": false,
   "report_style_numbering": false,
   "user_envs_cfg": false
  },
  "toc": {
   "base_numbering": 1,
   "nav_menu": {},
   "number_sections": false,
   "sideBar": false,
   "skip_h1_title": false,
   "title_cell": "Table of Contents",
   "title_sidebar": "Contents",
   "toc_cell": false,
   "toc_position": {},
   "toc_section_display": false,
   "toc_window_display": false
  },
  "varInspector": {
   "cols": {
    "lenName": 16,
    "lenType": 16,
    "lenVar": 40
   },
   "kernels_config": {
    "python": {
     "delete_cmd_postfix": "",
     "delete_cmd_prefix": "del ",
     "library": "var_list.py",
     "varRefreshCmd": "print(var_dic_list())"
    },
    "r": {
     "delete_cmd_postfix": ") ",
     "delete_cmd_prefix": "rm(",
     "library": "var_list.r",
     "varRefreshCmd": "cat(var_dic_list()) "
    }
   },
   "types_to_exclude": [
    "module",
    "function",
    "builtin_function_or_method",
    "instance",
    "_Feature"
   ],
   "window_display": false
  }
 },
 "nbformat": 4,
 "nbformat_minor": 2
}
