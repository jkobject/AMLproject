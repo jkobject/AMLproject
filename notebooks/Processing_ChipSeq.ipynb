{
 "cells": [
  {
   "cell_type": "code",
   "execution_count": null,
   "metadata": {},
   "outputs": [],
   "source": [
    "import os\n",
    "import pandas as pd\n",
    "import sys\n",
    "sys.path.insert(0, '../JKBio/')\n",
    "import numpy as np\n",
    "import itertools\n",
    "\n",
    "import Helper as helper\n",
    "\n",
    "from bokeh.plotting import *\n",
    "from IPython.display import IFrame\n",
    "import igv\n",
    "\n",
    "from sklearn.manifold import MDS, TSNE\n",
    "from sklearn.decomposition import PCA\n",
    "from sklearn.preprocessing import scale\n",
    "from sklearn.cluster import AgglomerativeClustering\n",
    "from sklearn.mixture import GaussianMixture\n",
    "\n",
    "output_notebook()\n",
    "%load_ext autoreload\n",
    "%autoreload 2"
   ]
  },
  {
   "cell_type": "code",
   "execution_count": null,
   "metadata": {},
   "outputs": [],
   "source": [
    "! gcsfuse --only-dir Chip/fastqs/ amlproject ../data/seqs"
   ]
  },
  {
   "cell_type": "code",
   "execution_count": null,
   "metadata": {},
   "outputs": [],
   "source": [
    "!fusermount -u ../data/seqs"
   ]
  },
  {
   "cell_type": "code",
   "execution_count": null,
   "metadata": {},
   "outputs": [],
   "source": [
    "! ls ../data/seqs/GEO"
   ]
  },
  {
   "cell_type": "markdown",
   "metadata": {},
   "source": [
    "## finding all the relevant files for chipseq processing"
   ]
  },
  {
   "cell_type": "code",
   "execution_count": null,
   "metadata": {},
   "outputs": [],
   "source": [
    "a = !gsutil ls gs://amlproject/Chip"
   ]
  },
  {
   "cell_type": "code",
   "execution_count": null,
   "metadata": {},
   "outputs": [],
   "source": [
    "a"
   ]
  },
  {
   "cell_type": "code",
   "execution_count": null,
   "metadata": {},
   "outputs": [],
   "source": [
    "rename1 = {\n",
    "'gs://amlproject/Chip/fastqs/20180709_1_MP5773_S1.fastq.gz': 'gs://amlproject/Chip/fastqs/mp631.fastq.gz',\n",
    " 'gs://amlproject/Chip/fastqs/20180709_3_MP5773_S3.fastq.gz': 'gs://amlproject/Chip/fastqs/mp633.fastq.gz',\n",
    " 'gs://amlproject/Chip/fastqs/20180709_5_MP5773_S5.fastq.gz': 'gs://amlproject/Chip/fastqs/mp635.fastq.gz',\n",
    " 'gs://amlproject/Chip/fastqs/20180709_6_MP5773_S6.fastq.gz': 'gs://amlproject/Chip/fastqs/mp636.fastq.gz',\n",
    " 'gs://amlproject/Chip/fastqs/20190718_MP-11_MP7213-2of2_S4_R1_001.fastq.gz': 'gs://amlproject/Chip/fastqs/mp748.fastq.gz',\n",
    " 'gs://amlproject/Chip/fastqs/20190718_MP-13_MP7213-2of2_S5_R1_001.fastq.gz': 'gs://amlproject/Chip/fastqs/mp750.fastq.gz',\n",
    " 'gs://amlproject/Chip/fastqs/20190718_MP-14_MP7213-2of2_S6_R1_001.fastq.gz': 'gs://amlproject/Chip/fastqs/mp751.fastq.gz',\n",
    " 'gs://amlproject/Chip/fastqs/20190718_MP-2_MP7213-1of2_S2_R1_001.fastq.gz': 'gs://amlproject/Chip/fastqs/mp739.fastq.gz',\n",
    " 'gs://amlproject/Chip/fastqs/20190718_MP-4_MP7213-1of2_S4_R1_001.fastq.gz': 'gs://amlproject/Chip/fastqs/mp741.fastq.gz',\n",
    " 'gs://amlproject/Chip/fastqs/20190718_MP-5_MP7213-1of2_S5_R1_001.fastq.gz': 'gs://amlproject/Chip/fastqs/mp742.fastq.gz',\n",
    " 'gs://amlproject/Chip/fastqs/20190718_MP-6_MP7213-1of2_S6_R1_001.fastq.gz': 'gs://amlproject/Chip/fastqs/mp743.fastq.gz',\n",
    " 'gs://amlproject/Chip/fastqs/20190718_MP-8_MP7213-2of2_S1_R1_001.fastq.gz': 'gs://amlproject/Chip/fastqs/mp745.fastq.gz',\n",
    " 'gs://amlproject/Chip/fastqs/20190826_10_MB7326-2of2_S5.fastq.gz': 'gs://amlproject/Chip/fastqs/mp761.fastq.gz',\n",
    " 'gs://amlproject/Chip/fastqs/20190826_11_MB7326-2of2_S6.fastq.gz': 'gs://amlproject/Chip/fastqs/mp762.fastq.gz',\n",
    " 'gs://amlproject/Chip/fastqs/20190826_9_MB7326-2of2_S4.fastq.gz': 'gs://amlproject/Chip/fastqs/mp760.fastq.gz',\n",
    " 'gs://amlproject/Chip/fastqs/D0-INPUT.fastq.gz': 'gs://amlproject/Chip/fastqs/mp8.fastq.gz',\n",
    " 'gs://amlproject/Chip/fastqs/D9-INPUT.fastq.gz': 'gs://amlproject/Chip/fastqs/mp14.fastq.gz',\n",
    " 'gs://amlproject/Chip/fastqs/D9_CEBPA_m.fastq.gz': 'gs://amlproject/Chip/fastqs/mp27.fastq.gz',\n",
    " 'gs://amlproject/Chip/fastqs/D9_INPUT.fastq.gz': 'gs://amlproject/Chip/fastqs/mp35.fastq.gz',\n",
    " 'gs://amlproject/Chip/fastqs/MP29.fastq.gz': 'gs://amlproject/Chip/fastqs/mp4.fastq.gz',\n",
    " 'gs://amlproject/Chip/fastqs/MP30.fastq.gz': 'gs://amlproject/Chip/fastqs/mp5.fastq.gz',\n",
    " 'gs://amlproject/Chip/fastqs/MP31.fastq.gz': 'gs://amlproject/Chip/fastqs/mp6.fastq.gz',\n",
    " 'gs://amlproject/Chip/fastqs/OCI_AML2-INPUT.fastq.gz': 'gs://amlproject/Chip/fastqs/mp24.fastq.gz',\n",
    " 'gs://amlproject/Chip/fastqs/OCI_AML2_CEBPA_m.fastq.gz': 'gs://amlproject/Chip/fastqs/mp41.fastq.gz',\n",
    " 'gs://amlproject/Chip/fastqs/OCI_AML2_INPUT.fastq.gz': 'gs://amlproject/Chip/fastqs/mp33.fastq.gz',\n",
    " 'gs://amlproject/Chip/fastqs/Sample_10-D8-SP1.fastq.gz': 'gs://amlproject/Chip/fastqs/mp156.fastq.gz',\n",
    " 'gs://amlproject/Chip/fastqs/Sample_12-MV411-SPI1.fastq.gz': 'gs://amlproject/Chip/fastqs/mp115.fastq.gz',\n",
    " 'gs://amlproject/Chip/fastqs/Sample_15-MV411-SP1.fastq.gz': 'gs://amlproject/Chip/fastqs/mp118.fastq.gz',\n",
    " 'gs://amlproject/Chip/fastqs/Sample_18-D8-MED1.fastq.gz': 'gs://amlproject/Chip/fastqs/mp160.fastq.gz',\n",
    " 'gs://amlproject/Chip/fastqs/Sample_19-M6-CEBPA.fastq.gz': 'gs://amlproject/Chip/fastqs/mp122.fastq.gz',\n",
    " 'gs://amlproject/Chip/fastqs/Sample_20-M6-RUNX1.fastq.gz': 'gs://amlproject/Chip/fastqs/mp123.fastq.gz',\n",
    " 'gs://amlproject/Chip/fastqs/Sample_21-M6-MYB.fastq.gz': 'gs://amlproject/Chip/fastqs/mp124.fastq.gz',\n",
    " 'gs://amlproject/Chip/fastqs/Sample_22-M6-ETV6.fastq.gz': 'gs://amlproject/Chip/fastqs/mp125.fastq.gz',\n",
    " 'gs://amlproject/Chip/fastqs/Sample_24-M6-SPI1.fastq.gz': 'gs://amlproject/Chip/fastqs/mp171.fastq.gz',\n",
    " 'gs://amlproject/Chip/fastqs/Sample_25-M6-SP1.fastq.gz': 'gs://amlproject/Chip/fastqs/mp127.fastq.gz',\n",
    " 'gs://amlproject/Chip/fastqs/Sample_26-M6-MED1.fastq.gz': 'gs://amlproject/Chip/fastqs/mp128.fastq.gz',\n",
    " 'gs://amlproject/Chip/fastqs/Sample_27-MV411-RUNX1.fastq.gz': 'gs://amlproject/Chip/fastqs/mp129.fastq.gz',\n",
    " 'gs://amlproject/Chip/fastqs/Sample_27-OCIAML2-SPI1.fastq.gz': 'gs://amlproject/Chip/fastqs/mp168.fastq.gz',\n",
    " 'gs://amlproject/Chip/fastqs/Sample_31.M6.INPUT.fastq.gz': 'gs://amlproject/Chip/fastqs/mp98.fastq.gz',\n",
    " 'gs://amlproject/Chip/fastqs/Sample_41-M6-IGG.fastq.gz': 'gs://amlproject/Chip/fastqs/mp143.fastq.gz',\n",
    " 'gs://amlproject/Chip/fastqs/Sample_6-M6-CEBPA.fastq.gz': 'gs://amlproject/Chip/fastqs/mp109.fastq.gz',\n",
    " 'gs://amlproject/Chip/fastqs/Sample_7-D8-CEBPA.fastq.gz': 'gs://amlproject/Chip/fastqs/mp153.fastq.gz',\n",
    " 'gs://amlproject/Chip/fastqs/Sample_8-D8-SPI1.fastq.gz': 'gs://amlproject/Chip/fastqs/mp154.fastq.gz',\n",
    " 'gs://amlproject/Chip/fastqs/Sample_9-D8-MYB.fastq.gz': 'gs://amlproject/Chip/fastqs/mp155.fastq.gz'\n",
    "}"
   ]
  },
  {
   "cell_type": "markdown",
   "metadata": {},
   "source": [
    "## looking for duplicates"
   ]
  },
  {
   "cell_type": "code",
   "execution_count": null,
   "metadata": {},
   "outputs": [],
   "source": [
    "import re\n",
    "mps=[]\n",
    "for i in a:\n",
    "    res = re.search('mp(\\d+)', i)\n",
    "    if res is not None:\n",
    "        mps.append(res.group(0))"
   ]
  },
  {
   "cell_type": "code",
   "execution_count": null,
   "metadata": {},
   "outputs": [],
   "source": [
    "mps.sort()"
   ]
  },
  {
   "cell_type": "code",
   "execution_count": null,
   "metadata": {},
   "outputs": [],
   "source": [
    "mps"
   ]
  },
  {
   "cell_type": "code",
   "execution_count": null,
   "metadata": {},
   "outputs": [],
   "source": [
    "duplicates=[ 'gs://amlproject/Chip/fastqs/Sample_mp582-MV411-MEIS1-r1.fastq.gz',\n",
    "'gs://amlproject/Chip/fastqs/Sample_mp587-MV411-IKZF1-r1.fastq.gz',\n",
    ",\n",
    "'gs://amlproject/Chip/fastqs/mp88-MV411-H3K27ac-r2.fastq.gz']"
   ]
  },
  {
   "cell_type": "code",
   "execution_count": null,
   "metadata": {},
   "outputs": [],
   "source": [
    "for val in duplicates:\n",
    "    os.system('gsutil rm '+val)"
   ]
  },
  {
   "cell_type": "code",
   "execution_count": null,
   "metadata": {},
   "outputs": [],
   "source": [
    "paired_end_tomove= ['gs://amlproject/Chip/fastqs/mp304-D9-PU1-r2_S1_R2.fastq.gz',\n",
    " 'gs://amlproject/Chip/fastqs/mp305-SKNO1-PU1-r1_S2_R2.fastq.gz',\n",
    " 'gs://amlproject/Chip/fastqs/mp320-MV411-ZEB2-r1_R2.fastq.gz',\n",
    " 'gs://amlproject/Chip/fastqs/mp319-MV411-FLI1-r1_R2.fastq.gz',\n",
    " 'gs://amlproject/Chip/fastqs/mp308-SKNO1-RUNX1-RUNX1T1-r1_S5_R2.fastq.gz',\n",
    " 'gs://amlproject/Chip/fastqs/mp300-MV411-RUNX1-r3_R2.fastq.gz',\n",
    " 'gs://amlproject/Chip/fastqs/mp321-MV411-GFI1-r4_R2.fastq.gz',\n",
    " 'gs://amlproject/Chip/fastqs/mp324-MV411-MEF2D-r1_R2.fastq.gz',\n",
    " 'gs://amlproject/Chip/fastqs/mp299-MV411-CEBPA-r3_S7_R2.fastq.gz'\n",
    " 'gs://amlproject/Chip/fastqs/mp325-MV411-SP1-r2_R2.fastq.gz']"
   ]
  },
  {
   "cell_type": "code",
   "execution_count": null,
   "metadata": {},
   "outputs": [],
   "source": [
    "for val in paired_end_tomove:\n",
    "    os.system('gsutil mv '+val+' gs://amlproject/Chip/fastqs/paired_end/')"
   ]
  },
  {
   "cell_type": "markdown",
   "metadata": {},
   "source": [
    "## renamings"
   ]
  },
  {
   "cell_type": "code",
   "execution_count": null,
   "metadata": {},
   "outputs": [],
   "source": [
    "for k, val in rename1.items():\n",
    "    os.system('gsutil mv '+k+' '+val)"
   ]
  },
  {
   "cell_type": "code",
   "execution_count": null,
   "metadata": {},
   "outputs": [],
   "source": [
    "## IT SHOULD NOT CAUSE ANY PROBLEM TO CP R2 SINCE IT DOES NOT EXIST \n",
    "#(will throw an error and skip)\n",
    "import re\n",
    "import time\n",
    "mps=[]\n",
    "for i in a:\n",
    "    res = re.search('mp(\\d+)', i)\n",
    "    if res is not None:\n",
    "        print('gsutil mv '+i+' gs://amlproject/Chip/fastqs/'+res.group(0)+'.fastq.gz')\n",
    "        time.sleep(2)\n",
    "        os.system('gsutil mv '+i+' gs://amlproject/Chip/fastqs/'+res.group(0)+'.fastq.gz')"
   ]
  },
  {
   "cell_type": "code",
   "execution_count": null,
   "metadata": {},
   "outputs": [],
   "source": [
    "!gsutil ls gs://amlproject/Chip/fastqs/"
   ]
  },
  {
   "cell_type": "code",
   "execution_count": null,
   "metadata": {},
   "outputs": [],
   "source": [
    "# EXCEPT these two... TO RETRIEVE\n",
    "gs://amlproject/Chip/fastqs/mp300-MV411-RUNX1-r3_R2.fastq.gz\n",
    "gs://amlproject/Chip/fastqs/mp300-MV411-RUNX1-r3_R1.fastq.gz"
   ]
  },
  {
   "cell_type": "code",
   "execution_count": null,
   "metadata": {},
   "outputs": [],
   "source": [
    "stored = !gsutil ls -a gs://amlproject/Chip/fastqs/mp300-MV411-RUNX1-r3_R2.fastq.gz\n",
    "stored=stored[0]\n",
    "! gsutil cp $stored gs://amlproject/Chip/fastqs/mp300-MV411-RUNX1-r3_R2.fastq.gz"
   ]
  },
  {
   "cell_type": "code",
   "execution_count": null,
   "metadata": {},
   "outputs": [],
   "source": [
    "a"
   ]
  },
  {
   "cell_type": "code",
   "execution_count": null,
   "metadata": {},
   "outputs": [],
   "source": [
    "#continuing\n",
    "a[85]"
   ]
  },
  {
   "cell_type": "code",
   "execution_count": null,
   "metadata": {},
   "outputs": [],
   "source": [
    "import re\n",
    "import time\n",
    "mps=[]\n",
    "for i in a[86:]:\n",
    "    res = re.search('mp(\\d+)', i)\n",
    "    if res is not None:\n",
    "        print('gsutil mv '+i+' gs://amlproject/Chip/fastqs/'+res.group(0)+'.fastq.gz')\n",
    "        time.sleep(2)\n",
    "        os.system('gsutil mv '+i+' gs://amlproject/Chip/fastqs/'+res.group(0)+'.fastq.gz')"
   ]
  },
  {
   "cell_type": "markdown",
   "metadata": {},
   "source": [
    "## adding metadata"
   ]
  },
  {
   "cell_type": "code",
   "execution_count": null,
   "metadata": {},
   "outputs": [],
   "source": [
    "from gsheets import Sheets\n",
    "sheets = Sheets.from_files('~/.client_secret.json', '~/.storage.json')"
   ]
  },
  {
   "cell_type": "code",
   "execution_count": null,
   "metadata": {},
   "outputs": [],
   "source": [
    "url=\"https://docs.google.com/spreadsheets/d/14onj_lD6WrjSEsE5dWJid6lGdJ81O6qpcetP5_Z0FxQ\"\n",
    "gsheets = sheets.get(url).sheets[1].to_frame()"
   ]
  },
  {
   "cell_type": "code",
   "execution_count": null,
   "metadata": {},
   "outputs": [],
   "source": [
    "gsheets"
   ]
  },
  {
   "cell_type": "code",
   "execution_count": null,
   "metadata": {},
   "outputs": [],
   "source": [
    "gsheets = gsheets.set_index('Unique sample ID')"
   ]
  },
  {
   "cell_type": "code",
   "execution_count": null,
   "metadata": {},
   "outputs": [],
   "source": [
    "a = !gsutil -m ls gs://amlproject/Chip/fastqs/\n",
    "a"
   ]
  },
  {
   "cell_type": "code",
   "execution_count": null,
   "metadata": {},
   "outputs": [],
   "source": [
    "data = pd.DataFrame({'fastq_1':a[:-1]}, index=[i.split('/')[-1].split('.')[0] for i in a[:-1]])"
   ]
  },
  {
   "cell_type": "code",
   "execution_count": null,
   "metadata": {},
   "outputs": [],
   "source": [
    "data[['quality','Protein','Replicate No','Cell line ID']] = gsheets[\n",
    "    ['quality','Protein','Replicate No','Cell line ID']]"
   ]
  },
  {
   "cell_type": "code",
   "execution_count": null,
   "metadata": {},
   "outputs": [],
   "source": [
    "data['fastq_2']= np.NaN"
   ]
  },
  {
   "cell_type": "code",
   "execution_count": null,
   "metadata": {},
   "outputs": [],
   "source": [
    "data = data.rename(columns={'Protein': 'antibody','Cell line ID': 'group','Replicate No': 'replicate'})"
   ]
  },
  {
   "cell_type": "code",
   "execution_count": null,
   "metadata": {},
   "outputs": [],
   "source": [
    "data.loc[data[data.antibody.isin(['INPUT','IGG'])].index,'group'] = \\\n",
    "data[data.antibody.isin(['INPUT','IGG'])].antibody +'_'+\\\n",
    "data[data.antibody.isin(['INPUT','IGG'])].group"
   ]
  },
  {
   "cell_type": "code",
   "execution_count": null,
   "metadata": {},
   "outputs": [],
   "source": [
    "data.loc[data[~data.antibody.isin(['INPUT','IGG'])].index,'control'] = \\\n",
    "'INPUT_'+\\\n",
    "data[~data.antibody.isin(['INPUT','IGG'])].group"
   ]
  },
  {
   "cell_type": "code",
   "execution_count": null,
   "metadata": {},
   "outputs": [],
   "source": [
    "data"
   ]
  },
  {
   "cell_type": "code",
   "execution_count": null,
   "metadata": {},
   "outputs": [],
   "source": [
    "set(data.control)-set(data.group)"
   ]
  },
  {
   "cell_type": "code",
   "execution_count": null,
   "metadata": {},
   "outputs": [],
   "source": [
    "withoutinput = [\"HEL\",\n",
    "                \"SHI1\",\n",
    "                \"EOL1\",\n",
    "                \"F36P\"]"
   ]
  },
  {
   "cell_type": "code",
   "execution_count": null,
   "metadata": {},
   "outputs": [],
   "source": [
    "# requesting them and downloading them..."
   ]
  },
  {
   "cell_type": "code",
   "execution_count": null,
   "metadata": {},
   "outputs": [],
   "source": [
    "rename = {'gs://amlproject/Chip/fastqs/1_MP5835-1of4_S1_R1_001.fastq.gz':\"gs://amlproject/Chip/fastqs/mp643.fastq.gz\",\n",
    " 'gs://amlproject/Chip/fastqs/Sample_17-HL60-INPUT.fastq.gz':\"gs://amlproject/Chip/fastqs/mp120.fastq.gz\",\n",
    " 'gs://amlproject/Chip/fastqs/Sample_33.U937.INPUT.fastq.gz':\"gs://amlproject/Chip/fastqs/mp100.fastq.gz\",\n",
    " 'gs://amlproject/Chip/fastqs/Sample_34.NOMO1.INPUT.fastq.gz':\"gs://amlproject/Chip/fastqs/mp101.fastq.gz\",\n",
    " 'gs://amlproject/Chip/fastqs/Sample_35.UT7.INPUT.fastq.gz':\"gs://amlproject/Chip/fastqs/mp102.fastq.gz\",\n",
    " 'gs://amlproject/Chip/fastqs/Sample_mp309-KG1-INPUT-r1.fastq.gz':\"gs://amlproject/Chip/fastqs/mp309.fastq.gz\",\n",
    " 'gs://amlproject/Chip/fastqs/Sample_mp310-Kasumi1-INPUT-r1.fastq.gz':\"gs://amlproject/Chip/fastqs/mp310.fastq.gz\",\n",
    " 'gs://amlproject/Chip/fastqs/Sample_mp311-MOLM13-INPUT-r1.fastq.gz':\"gs://amlproject/Chip/fastqs/mp311.fastq.gz\",\n",
    " 'gs://amlproject/Chip/fastqs/Sample_mp312-NB4-INPUT-r1.fastq.gz':\"gs://amlproject/Chip/fastqs/mp312.fastq.gz\",\n",
    " 'gs://amlproject/Chip/fastqs/Sample_mp313-TF1-INPUT-r1.fastq.gz':\"gs://amlproject/Chip/fastqs/mp313.fastq.gz\",\n",
    " 'gs://amlproject/Chip/fastqs/Sample_mp314-OCIAML3-INPUT-r1.fastq.gz':\"gs://amlproject/Chip/fastqs/mp314.fastq.gz\",\n",
    " 'gs://amlproject/Chip/fastqs/Sample_mp315-MONOMAC3-INPUT-r1.fastq.gz':\"gs://amlproject/Chip/fastqs/mp315.fastq.gz\",\n",
    " 'gs://amlproject/Chip/fastqs/Sample_mp326-DFAM71927V3-INPUT-r1_R1.fastq.gz':\"gs://amlproject/Chip/fastqs/mp326.fastq.gz\",\n",
    " 'gs://amlproject/Chip/fastqs/mp609-MONOMAC1-INPUT-r1_S4.fastq.gz': 'gs://amlproject/Chip/fastqs/mp609.fastq.gz',\n",
    " 'gs://amlproject/Chip/fastqs/mp610-HEL9217-INPUT-r1_S5.fastq.gz': 'gs://amlproject/Chip/fastqs/mp610.fastq.gz',\n",
    " 'gs://amlproject/Chip/fastqs/mp611-P31FUJ-INPUT-r1_S6.fastq.gz': 'gs://amlproject/Chip/fastqs/mp611.fastq.gz',\n",
    " 'gs://amlproject/Chip/fastqs/mp612-PLB985-INPUT-r1_S7.fastq.gz': 'gs://amlproject/Chip/fastqs/mp612.fastq.gz',\n",
    "          \n",
    " 'gs://amlproject/Chip/fastqs/1_MP5835-1of4_S1_R2_001.fastq.gz':\"gs://amlproject/Chip/fastqs/paired_end/mp643-1_MP5835-1of4_S1_R2_001.fastq.gz\",          \n",
    "'gs://amlproject/Chip/fastqs/Sample_mp326-DFAM71927V3-INPUT-r1_R2.fastq.gz':\"gs://amlproject/Chip/fastqs/paired_end/mp326-DFAM71927V3-INPUT-r1_R2.fastq.gz\"}"
   ]
  },
  {
   "cell_type": "code",
   "execution_count": null,
   "metadata": {},
   "outputs": [],
   "source": [
    "for k,v in rename.items():\n",
    "    ! gsutil mv $k $v"
   ]
  },
  {
   "cell_type": "code",
   "execution_count": null,
   "metadata": {},
   "outputs": [],
   "source": [
    "data = data.drop(data[data.group.isin(withoutinput)].index)"
   ]
  },
  {
   "cell_type": "code",
   "execution_count": null,
   "metadata": {},
   "outputs": [],
   "source": [
    "data.loc[data[~data.antibody.isin(['INPUT','IGG'])].index,'group'] = \\\n",
    "data[~data.antibody.isin(['INPUT','IGG'])].group + '_' + \\\n",
    "data[~data.antibody.isin(['INPUT','IGG'])].replicate.astype(str)"
   ]
  },
  {
   "cell_type": "code",
   "execution_count": null,
   "metadata": {},
   "outputs": [],
   "source": [
    "data[data.antibody.isin(['INPUT','IGG'])].antibody = np.nan"
   ]
  },
  {
   "cell_type": "code",
   "execution_count": null,
   "metadata": {},
   "outputs": [],
   "source": [
    "data['replicate']=1"
   ]
  },
  {
   "cell_type": "code",
   "execution_count": null,
   "metadata": {},
   "outputs": [],
   "source": [
    "data"
   ]
  },
  {
   "cell_type": "code",
   "execution_count": null,
   "metadata": {},
   "outputs": [],
   "source": [
    "data[data.columns[[4,3,0,5,2,6]]].to_csv('../nextflow/design.csv', index=False)"
   ]
  },
  {
   "cell_type": "code",
   "execution_count": null,
   "metadata": {},
   "outputs": [],
   "source": [
    "! export GOOGLE_APPLICATION_CREDENTIALS=~/jkobject-b6f1adaffcb8.json\n",
    "! export NXF_MODE=google\n",
    "! nextflow info"
   ]
  },
  {
   "cell_type": "code",
   "execution_count": null,
   "metadata": {},
   "outputs": [],
   "source": [
    "! nextflow cloud create 'jkcluster' -c 40"
   ]
  },
  {
   "cell_type": "code",
   "execution_count": null,
   "metadata": {},
   "outputs": [],
   "source": [
    "! nextflow run nf-core/chipseq -c \"../nextflow/nextflow.config\" \\\n",
    "--singleEnd \\\n",
    "--seq_center 'DFCI' \\\n",
    "--email 'amlproject@gmail.com' \\\n",
    "--bucket-dir 'gs://amlproject/Chip_AML/nextflow/CHIPprocess_2/' \\\n",
    "--keyfile '~/amlproject-b6f1adaffcb8.json' \\\n",
    "--projectname 'amlproject' \\\n",
    "--zone 'us-east1-b' \\\n",
    "--skipDiffAnalysis \\\n",
    "--narrowPeak \\\n",
    "--design \"../nextflow/design.csv\" \\\n",
    "--genome \"GRCh38\" \\\n",
    "--profile 'gcp' \\\n",
    "--resume \\\n",
    "--skipPreseq \\\n",
    "--max_cpus 8"
   ]
  },
  {
   "cell_type": "code",
   "execution_count": null,
   "metadata": {},
   "outputs": [],
   "source": [
    "! nextflow cloud shutdown jkcluster"
   ]
  },
  {
   "cell_type": "code",
   "execution_count": null,
   "metadata": {},
   "outputs": [],
   "source": [
    "gsheets[gsheets['Cell line ID'].isin([\n",
    "    \"MOLM13\",\n",
    "\"MONOMAC1\",\n",
    "\"MONOMAC6\",\n",
    "\"NB4\",\n",
    "\"UT7\",\n",
    "\"KG1\",\n",
    "\"U937\",\n",
    "\"P31FUJ\",\n",
    "\"HL60\",\n",
    "\"PLB985\",\n",
    "\"OCIAML3\",\n",
    "\"HEL9217\",\n",
    "\"Kasumi1\",\n",
    "\"NOMO1\",\n",
    "\"TF1\",\n",
    "\"SHI1\",\n",
    "\"DFAM71927V3\",\n",
    "\"EOL1\",\n",
    "\"F36P\"\n",
    "])][gsheets.Protein=='INPUT'].index"
   ]
  },
  {
   "cell_type": "markdown",
   "metadata": {},
   "source": [
    "### need to use juicer\n",
    "https://github.com/aidenlab/juicer/wiki/Data-Extraction\n",
    "\n",
    "https://github.com/aidenlab/straw/wiki/Python\n",
    "\n",
    "https://github.com/aidenlab/juicer/wiki/Data\n",
    "\n",
    "https://github.com/aidenlab/juicer"
   ]
  },
  {
   "cell_type": "code",
   "execution_count": null,
   "metadata": {},
   "outputs": [],
   "source": [
    "! pip install hic-straw"
   ]
  },
  {
   "cell_type": "code",
   "execution_count": null,
   "metadata": {},
   "outputs": [],
   "source": [
    "import straw"
   ]
  },
  {
   "cell_type": "code",
   "execution_count": null,
   "metadata": {},
   "outputs": [],
   "source": [
    "result = straw.straw('KR', \n",
    "                     '../../data/'+project+'/MV411_H3K27ac_all_rep_duplicate_removed_allValidPairs.hic',\n",
    "                     'X', 'X', 'BP', 5000)"
   ]
  },
  {
   "cell_type": "code",
   "execution_count": null,
   "metadata": {},
   "outputs": [],
   "source": [
    "len(result[1])"
   ]
  },
  {
   "cell_type": "code",
   "execution_count": null,
   "metadata": {},
   "outputs": [],
   "source": [
    "! ls ../../data/$project"
   ]
  },
  {
   "cell_type": "code",
   "execution_count": null,
   "metadata": {},
   "outputs": [],
   "source": []
  }
 ],
 "metadata": {
  "kernelspec": {
   "display_name": "Python 3",
   "language": "python",
   "name": "python3"
  },
  "language_info": {
   "codemirror_mode": {
    "name": "ipython",
    "version": 3
   },
   "file_extension": ".py",
   "mimetype": "text/x-python",
   "name": "python",
   "nbconvert_exporter": "python",
   "pygments_lexer": "ipython3",
   "version": "3.6.7"
  },
  "latex_envs": {
   "LaTeX_envs_menu_present": true,
   "autoclose": false,
   "autocomplete": true,
   "bibliofile": "biblio.bib",
   "cite_by": "apalike",
   "current_citInitial": 1,
   "eqLabelWithNumbers": true,
   "eqNumInitial": 1,
   "hotkeys": {
    "equation": "Ctrl-E",
    "itemize": "Ctrl-I"
   },
   "labels_anchors": false,
   "latex_user_defs": false,
   "report_style_numbering": false,
   "user_envs_cfg": false
  },
  "toc": {
   "base_numbering": 1,
   "nav_menu": {},
   "number_sections": false,
   "sideBar": false,
   "skip_h1_title": false,
   "title_cell": "Table of Contents",
   "title_sidebar": "Contents",
   "toc_cell": false,
   "toc_position": {},
   "toc_section_display": false,
   "toc_window_display": false
  },
  "varInspector": {
   "cols": {
    "lenName": 16,
    "lenType": 16,
    "lenVar": 40
   },
   "kernels_config": {
    "python": {
     "delete_cmd_postfix": "",
     "delete_cmd_prefix": "del ",
     "library": "var_list.py",
     "varRefreshCmd": "print(var_dic_list())"
    },
    "r": {
     "delete_cmd_postfix": ") ",
     "delete_cmd_prefix": "rm(",
     "library": "var_list.r",
     "varRefreshCmd": "cat(var_dic_list()) "
    }
   },
   "types_to_exclude": [
    "module",
    "function",
    "builtin_function_or_method",
    "instance",
    "_Feature"
   ],
   "window_display": false
  }
 },
 "nbformat": 4,
 "nbformat_minor": 2
}
