{
 "cells": [
  {
   "cell_type": "markdown",
   "metadata": {},
   "source": [
    "# Slamseq iBet spikeIn Max P paper"
   ]
  },
  {
   "cell_type": "code",
   "execution_count": null,
   "metadata": {},
   "outputs": [],
   "source": [
    "from __future__ import print_function\n",
    "import os.path\n",
    "import pandas as pd\n",
    "import sys\n",
    "sys.path.insert(0, '../../')\n",
    "import seaborn as sns\n",
    "import numpy as np\n",
    "\n",
    "from JKBio.Helper import *\n",
    "from JKBio.helper import pyDESeq2\n",
    "\n",
    "from bokeh.plotting import *\n",
    "from bokeh.models import HoverTool\n",
    "import matplotlib.pyplot as plt\n",
    "\n",
    "from sklearn.neighbors import KNeighborsClassifier\n",
    "from sklearn.manifold import MDS, TSNE\n",
    "from sklearn.decomposition import PCA\n",
    "from sklearn.preprocessing import scale\n",
    "#from umap import UMAP\n",
    "\n",
    "output_notebook()\n",
    "%load_ext autoreload\n",
    "%matplotlib inline\n",
    "%autoreload 2\n",
    "%load_ext rpy2.ipython"
   ]
  },
  {
   "cell_type": "markdown",
   "metadata": {},
   "source": [
    "downloading their data"
   ]
  },
  {
   "cell_type": "markdown",
   "metadata": {},
   "source": [
    "## downloading the data"
   ]
  },
  {
   "cell_type": "code",
   "execution_count": null,
   "metadata": {},
   "outputs": [],
   "source": [
    "version=\"vAll\"\n",
    "project=\"slamseqMax\"\n",
    "location= '../data/'+project+\"/\""
   ]
  },
  {
   "cell_type": "code",
   "execution_count": null,
   "metadata": {},
   "outputs": [],
   "source": [
    "mkdir ../$location"
   ]
  },
  {
   "cell_type": "code",
   "execution_count": null,
   "metadata": {},
   "outputs": [],
   "source": [
    "!gsutil ls gs://transfer-amlproject/200827_MP8179_fastq/"
   ]
  },
  {
   "cell_type": "code",
   "execution_count": null,
   "metadata": {},
   "outputs": [],
   "source": [
    "! gsutil -m cp gs://transfer-amlproject/slamseq_inhibitor_spikeins/*MP8179*.fastq.gz ../../data/$project/fastqs/"
   ]
  },
  {
   "cell_type": "code",
   "execution_count": null,
   "metadata": {},
   "outputs": [],
   "source": [
    "ls ../../data/$project/fastqs"
   ]
  },
  {
   "cell_type": "markdown",
   "metadata": {},
   "source": [
    "## Running slamdunk"
   ]
  },
  {
   "cell_type": "code",
   "execution_count": null,
   "metadata": {},
   "outputs": [],
   "source": [
    "#if need to download the data from sra\n",
    "! mkdir ../../data/slam/MYCpaper && cd ../../data/slam/MYCpaper && fastq_dump SRR5806781 && fastq_dump SRR5806783 && fastq_dump SRR5806785 &&\n",
    "fastq_dump SRR5806780 && fastq_dump SRR5806782 && fastq_dump SRR5806784 && cd -"
   ]
  },
  {
   "cell_type": "code",
   "execution_count": null,
   "metadata": {},
   "outputs": [],
   "source": [
    "folder_bams = \"../../data/\"+project+'/fastqs'\n",
    "bams = ! ls $folder_bams/*\n",
    "bams"
   ]
  },
  {
   "cell_type": "code",
   "execution_count": null,
   "metadata": {},
   "outputs": [],
   "source": [
    "rename = {\n",
    "\"20200707_1_MP8000_S65\": \"mr193-MV411-MYBi_30m-r1\",\n",
    "\"20200707_2_MP8000_S66\": \"mr194-MV411-MYBi_30m-r2\",\n",
    "\"20200707_3_MP8000_S67\": \"mr195-MV411-MYBi_30m-r3\",\n",
    "\"20200707_4_MP8000_S68\": \"mr196-MV411-MYBi_30m-r4\",\n",
    "\"20200707_5_MP8000_S69\": \"mr197-MV411-PBS_30m-r1\",\n",
    "\"20200707_6_MP8000_S70\": \"mr198-MV411-PBS_30m-r2\",\n",
    "\"20200707_7_MP8000_S71\": \"mr199-MV411-PBS_30m-r3\",\n",
    "\"20200707_8_MP8000_S72\": \"mr200-MV411-PBS_30m-r4\",\n",
    "\"20200707_9_MP8000_S73\": \"mr201-MV411-MYBi_6h-r1\",\n",
    "\"20200707_10_MP8000_S74\": \"mr202-MV411-MYBi_6h-r2\",\n",
    "\"20200707_11_MP8000_S75\": \"mr203-MV411-MYBi_6h-r3\",\n",
    "\"20200707_12_MP8000_S76\": \"mr204-MV411-MYBi_6h-r4\",\n",
    "\"20200707_13_MP8000_S77\": \"mr205-MV411-PBS_6h-r1\",\n",
    "\"20200707_14_MP8000_S78\": \"mr206-MV411-PBS_6h-r2\",\n",
    "\"20200707_15_MP8000_S79\": \"mr207-MV411-PBS_6h-r3\",\n",
    "\"20200703_16_MP800_S103\": \"mr208-MV411-MS2-r1\",\n",
    "\"20200703_17_MP800_S104\": \"mr209-MV411-MS2-r2\",\n",
    "\"20200703_18_MP800_S105\": \"mr210-MV411-MS2-r3\",\n",
    "\"20200703_19_MP800_S106\": \"mr211-MV411-JQ1-r1\",\n",
    "\"20200703_20_MP800_S107\": \"mr212-MV411-JQ1-r2\",\n",
    "\"20200703_21_MP800_S108\": \"mr213-MV411-JQ1-r3\",\n",
    "\"20200703_22_MP800_S109\": \"mr214-MV411-MS2_JQ1-r1\",\n",
    "\"20200703_23_MP800_S110\": \"mr215-MV411-MS2_JQ1-r2\",\n",
    "\"20200703_24_MP800_S111\": \"mr216-MV411-MS2_JQ1-r3\",\n",
    "\"20200703_25_MP800_S112\": \"mr217-MV411-DMSO-r1\",\n",
    "\"20200703_26_MP800_S113\": \"mr218-MV411-DMSO-r2\",\n",
    "\"20200703_27_MP800_S114\": \"mr219-MV411-DMSO-r3\",\n",
    "\"20200827_1_MP8179_S160\": \"mr252-MV411_MEF2D-DMSO_2h-r1\",\n",
    "\"20200827_2_MP8179_S161\": \"mr253-MV411_MEF2D-DMSO_2h-r2\",\n",
    "\"20200827_3_MP8179_S162\": \"mr254-MV411_MEF2D-DMSO_2h-r3\",\n",
    "\"20200827_4_MP8179_S163\": \"mr255-MV411_MEF2D-DMSO_2h-r4\",\n",
    "\"20200827_5_MP8179_S164\": \"mr256-MV411_MEF2D-VHL_2h-r1\",\n",
    "\"20200827_6_MP8179_S165\": \"mr257-MV411_MEF2D-VHL_2h-r2\",\n",
    "\"20200827_7_MP8179_S166\": \"mr258-MV411_MEF2D-VHL_2h-r3\",\n",
    "\"20200827_8_MP8179_S167\": \"mr259-MV411_MEF2D-VHL_2h-r4\",\n",
    "\"20200827_9_MP8179_S168\": \"mr260-MV411_MEF2D-DMSO_24h-r1\",\n",
    "\"20200827_10_MP8179_S169\": \"mr261-MV411_MEF2D-DMSO_24h-r2\",\n",
    "\"20200827_11_MP8179_S170\": \"mr262-MV411_MEF2D-DMSO_24h-r3\",\n",
    "\"20200827_12_MP8179_S171\": \"mr263-MV411_MEF2D-DMSO_24h-r4\",\n",
    "\"20200827_13_MP8179_S172\": \"mr264-MV411_MEF2D-VHL_24h-r1\",\n",
    "\"20200827_14_MP8179_S173\": \"mr265-MV411_MEF2D-VHL_24h-r2\",\n",
    "\"20200827_15_MP8179_S174\": \"mr266-MV411_MEF2D-VHL_24h-r3\",\n",
    "\"20200827_16_MP8179_S175\": \"mr267-MV411_MEF2D-VHL_24h-r4\",\n",
    "\"20200827_17_MP8179_S176\": \"mr268-MV411-PBS_24h-r1\",\n",
    "\"20200827_18_MP8179_S177\": \"mr269-MV411-PBS_24h-r2\",\n",
    "\"20200827_19_MP8179_S178\": \"mr270-MV411-PBS_24h-r3\",\n",
    "\"20200827_20_MP8179_S179\": \"mr271-MV411-PBS_24h-r4\",\n",
    "\"20200827_21_MP8179_S180\": \"mr272-MV411-MYBi_24h-r1\",\n",
    "\"20200827_23_MP8179_S181\": \"mr273-MV411-MYBi_24h-r2\",\n",
    "\"20200827_24_MP8179_S182\": \"mr274-MV411-MYBi_24h-r3\",\n",
    "}"
   ]
  },
  {
   "cell_type": "code",
   "execution_count": null,
   "metadata": {},
   "outputs": [],
   "source": [
    "for val in bams:\n",
    "    ren  = val\n",
    "    for old, new in rename.items():\n",
    "        ren = ren.replace(old, new)\n",
    "    if ren !=val:\n",
    "        ! mv $val $ren"
   ]
  },
  {
   "cell_type": "code",
   "execution_count": null,
   "metadata": {},
   "outputs": [],
   "source": [
    "folder=\"../../data/\"+project\n",
    "folder_bams = folder+'/fastqs/'\n",
    "bams = ! ls $folder_bams/*.fastq.gz\n",
    "bams"
   ]
  },
  {
   "cell_type": "code",
   "execution_count": null,
   "metadata": {},
   "outputs": [],
   "source": [
    "! pip3 install git+https://github.com/jkobject/slamdunk.git --upgrade\n",
    "# please also install trimgalore and cutadapt"
   ]
  },
  {
   "cell_type": "code",
   "execution_count": null,
   "metadata": {},
   "outputs": [],
   "source": [
    "parrun(['../../TrimGalore-0.6.5/trim_galore --paired --cores 4 --retain_unpaired -stringency 3 --illumina '+val1+ ' '+val2+' -o '+folder_bams for val1,val2 in grouped(bams,2)],2)"
   ]
  },
  {
   "cell_type": "code",
   "execution_count": null,
   "metadata": {},
   "outputs": [],
   "source": [
    "rm fastqs/*.fastq.gz"
   ]
  },
  {
   "cell_type": "code",
   "execution_count": null,
   "metadata": {},
   "outputs": [],
   "source": [
    "ls -al ../../data/$project/fastqs"
   ]
  },
  {
   "cell_type": "code",
   "execution_count": null,
   "metadata": {},
   "outputs": [],
   "source": [
    "# using an ERCC ref genome (you can just append ERCC fasta to the hg38 fasta)\n",
    "refgenome=\"../../data/ref/Homo_sapiens_assembly38_ERCC92.fasta\""
   ]
  },
  {
   "cell_type": "code",
   "execution_count": null,
   "metadata": {},
   "outputs": [],
   "source": [
    "bams"
   ]
  },
  {
   "cell_type": "code",
   "execution_count": null,
   "metadata": {},
   "outputs": [],
   "source": [
    "# we are doing it paired end\n",
    "parrun(['slamdunk all -r '+refgenome+' -b ../data/Muhar_Slamseq/GSE100708_hg38_refseq_062016_ensemblv84_3UTR.bed \\\n",
    "    -o ../../data/'+project+'/res/ -t 8 -c 2 -N '+val1.split('/')[-1].split('_R')[0]+' '+val1.replace('.fastq.gz','_val_1.fq.gz')+\" \"+val2.replace('.fastq.gz','_val_2.fq.gz') for val1,val2 in grouped(bams[4:],2)], 2)"
   ]
  },
  {
   "cell_type": "code",
   "execution_count": null,
   "metadata": {},
   "outputs": [],
   "source": [
    "ls ../../data/$project/res/count/*.tsv"
   ]
  },
  {
   "cell_type": "markdown",
   "metadata": {},
   "source": [
    "## we first need to recreate out RNA matrix from slamdunk's tcount files"
   ]
  },
  {
   "cell_type": "code",
   "execution_count": null,
   "metadata": {},
   "outputs": [],
   "source": [
    "!gsutil -m cp -r ../../data/$project/* gs://amlproject/RNA/slamseq_iBet_max/"
   ]
  },
  {
   "cell_type": "markdown",
   "metadata": {},
   "source": [
    "### Getting counts over ERCC genome"
   ]
  },
  {
   "cell_type": "code",
   "execution_count": null,
   "metadata": {},
   "outputs": [],
   "source": [
    "counts = {}\n",
    "folder = \"../../data/slamseqMax/res/filter\"\n",
    "files = ! ls $folder/ERCC*\n",
    "files = [file.split('/')[-1] for file in files if file.endswith(\".bam\")]"
   ]
  },
  {
   "cell_type": "code",
   "execution_count": null,
   "metadata": {},
   "outputs": [],
   "source": [
    "parrun([\"samtools view -hb \"+folder+\"/\"+f+\" ERCC-00002 ERCC-00003 ERCC-00004 ERCC-00009 ERCC-00012 ERCC-00013 ERCC-00014 ERCC-00016 ERCC-00017 ERCC-00019 ERCC-00022 ERCC-00024 ERCC-00025 ERCC-00028 ERCC-00031 ERCC-00033 ERCC-00034 ERCC-00035 ERCC-00039 ERCC-00040 ERCC-00041 ERCC-00042 ERCC-00043 ERCC-00044 ERCC-00046 ERCC-00048 ERCC-00051 ERCC-00053 ERCC-00054 ERCC-00057 ERCC-00058 ERCC-00059 ERCC-00060 ERCC-00061 ERCC-00062 ERCC-00067 ERCC-00069 ERCC-00071 ERCC-00073 ERCC-00074 ERCC-00075 ERCC-00076 ERCC-00077 ERCC-00078 ERCC-00079 ERCC-00081 ERCC-00083 ERCC-00084 ERCC-00085 ERCC-00086 ERCC-00092 ERCC-00095 ERCC-00096 ERCC-00097 ERCC-00098 ERCC-00099 ERCC-00104 ERCC-00108 ERCC-00109 ERCC-00111 ERCC-00112 ERCC-00113 ERCC-00116 ERCC-00117 ERCC-00120 ERCC-00123 ERCC-00126 ERCC-00130 ERCC-00131 ERCC-00134 ERCC-00136 ERCC-00137 ERCC-00138 ERCC-00142 ERCC-00143 ERCC-00144 ERCC-00145 ERCC-00147 ERCC-00148 ERCC-00150 ERCC-00154 ERCC-00156 ERCC-00157 ERCC-00158 ERCC-00160 ERCC-00162 ERCC-00163 ERCC-00164 ERCC-00165 ERCC-00168 ERCC-00170 ERCC-00171 > \"+folder+\"/ERCC_\"+f for f in files],cores=10)"
   ]
  },
  {
   "cell_type": "code",
   "execution_count": null,
   "metadata": {},
   "outputs": [],
   "source": [
    "parrun([\"bedtools genomecov -ibam \"+folder+\"/ERCC_\"+f+\" > \"+folder+\"/\"+f+\".bed\" for f in files],cores=10)"
   ]
  },
  {
   "cell_type": "code",
   "execution_count": null,
   "metadata": {},
   "outputs": [],
   "source": [
    "files"
   ]
  },
  {
   "cell_type": "code",
   "execution_count": null,
   "metadata": {},
   "outputs": [],
   "source": [
    "ERCC = [\"ERCC-00002\", \"ERCC-00003\", \"ERCC-00004\", \"ERCC-00009\", \"ERCC-00012\", \"ERCC-00013\", \"ERCC-00014\", \"ERCC-00016\", \"ERCC-00017\", \"ERCC-00019\", \"ERCC-00022\", \"ERCC-00024\", \"ERCC-00025\", \"ERCC-00028\", \"ERCC-00031\", \"ERCC-00033\", \"ERCC-00034\", \"ERCC-00035\", \"ERCC-00039\", \"ERCC-00040\", \"ERCC-00041\", \"ERCC-00042\", \"ERCC-00043\", \"ERCC-00044\", \"ERCC-00046\", \"ERCC-00048\", \"ERCC-00051\", \"ERCC-00053\", \"ERCC-00054\", \"ERCC-00057\", \"ERCC-00058\", \"ERCC-00059\", \"ERCC-00060\", \"ERCC-00061\", \"ERCC-00062\", \"ERCC-00067\", \"ERCC-00069\", \"ERCC-00071\", \"ERCC-00073\", \"ERCC-00074\", \"ERCC-00075\", \"ERCC-00076\", \"ERCC-00077\", \"ERCC-00078\", \"ERCC-00079\", \"ERCC-00081\", \"ERCC-00083\", \"ERCC-00084\", \"ERCC-00085\", \"ERCC-00086\", \"ERCC-00092\", \"ERCC-00095\", \"ERCC-00096\", \"ERCC-00097\", \"ERCC-00098\", \"ERCC-00099\", \"ERCC-00104\", \"ERCC-00108\", \"ERCC-00109\", \"ERCC-00111\", \"ERCC-00112\", \"ERCC-00113\", \"ERCC-00116\", \"ERCC-00117\", \"ERCC-00120\", \"ERCC-00123\", \"ERCC-00126\", \"ERCC-00130\", \"ERCC-00131\", \"ERCC-00134\", \"ERCC-00136\", \"ERCC-00137\", \"ERCC-00138\", \"ERCC-00142\", \"ERCC-00143\", \"ERCC-00144\", \"ERCC-00145\", \"ERCC-00147\", \"ERCC-00148\", \"ERCC-00150\", \"ERCC-00154\", \"ERCC-00156\", \"ERCC-00157\", \"ERCC-00158\", \"ERCC-00160\", \"ERCC-00162\", \"ERCC-00163\", \"ERCC-00164\", \"ERCC-00165\", \"ERCC-00168\", \"ERCC-00170\", \"ERCC-00171\"]\n",
    "res  = {i:[] for i in files}\n",
    "for val in files:\n",
    "    cov = pd.read_csv(folder+\"/\"+val,sep=\"\\t\",header=None)\n",
    "    for i in ERCC:\n",
    "        res[val].append(cov[cov[0]==i][1].mean())\n",
    "df = pd.DataFrame(data=res,index=ERCC)"
   ]
  },
  {
   "cell_type": "code",
   "execution_count": null,
   "metadata": {},
   "outputs": [],
   "source": [
    "totalcounts = ! for unkn in $(ls ../../data/slamseqMax/res/filter/mr*.bam); do samtools view -c -F 260 $unkn; done"
   ]
  },
  {
   "cell_type": "code",
   "execution_count": null,
   "metadata": {},
   "outputs": [],
   "source": [
    "totalcounts= [\n",
    "52834953,\n",
    "48661773,\n",
    "99303819,\n",
    "45979870,\n",
    "71673717,\n",
    "90428614,\n",
    "51950460,\n",
    "75989518,\n",
    "41520582,\n",
    "44914503,\n",
    "34919910,\n",
    "34840133,\n",
    "44955360,\n",
    "50106552,\n",
    "47137700,\n",
    "148549270,\n",
    "103180767,\n",
    "160756237,\n",
    "128740743,\n",
    "109673222,\n",
    "130928802,\n",
    "147257131,\n",
    "149990181,\n",
    "155634820,\n",
    "116426167,\n",
    "124950994,\n",
    "86078120,\n",
    "87120807,\n",
    "83131772,\n",
    "169547340,\n",
    "162737874,\n",
    "60636179,\n",
    "101791667,\n",
    "149282005,\n",
    "130879596,\n",
    "204252217,\n",
    "74266908,\n",
    "124166412,\n",
    "109829880,\n",
    "79024803,\n",
    "126029299,\n",
    "93542923,\n",
    "107586723,\n",
    "85905103,\n",
    "31694204,\n",
    "128780021,\n",
    "37635249,\n",
    "36638284,\n",
    "75047033,\n",
    "83424257]"
   ]
  },
  {
   "cell_type": "code",
   "execution_count": null,
   "metadata": {},
   "outputs": [],
   "source": [
    "res = 10000*df.mean()/totalcounts"
   ]
  },
  {
   "cell_type": "code",
   "execution_count": null,
   "metadata": {},
   "outputs": [],
   "source": [
    "res"
   ]
  },
  {
   "cell_type": "code",
   "execution_count": null,
   "metadata": {},
   "outputs": [],
   "source": [
    "r = {'MYBi_30m': [0.5543739168045854, 0.1654583646526328], #r at v1\n",
    " 'PBS_30m': [0.2600444176284328, 0.02279444794903803],\n",
    " 'MYBi_6h': [0.5005330862395866, 0.04428975746477769],\n",
    " 'PBS_6h': [0.23903615815004206, 0.060942601783761284],\n",
    " 'MS2': [0.14512165615335024, 0.054750165018263075],\n",
    " 'JQ1': [0.10594775516310602, 0.025098518494594674],\n",
    " 'MS2_JQ1': [0.20200435554076682, 0.0493267432253527],\n",
    " 'DMSO': [0.14632946312395476, 0.011039982545173618]}"
   ]
  },
  {
   "cell_type": "code",
   "execution_count": null,
   "metadata": {},
   "outputs": [],
   "source": [
    "prev=0\n",
    "r={}\n",
    "for val in [4,4,4,3,3,3,3,3,4,4,4,4,4,3]:\n",
    "    r[res.keys()[prev].split('-')[2]]=[np.mean(res[prev:prev+val]), np.var(res[prev:prev+val])**(1/2)]\n",
    "    prev+=val"
   ]
  },
  {
   "cell_type": "code",
   "execution_count": null,
   "metadata": {},
   "outputs": [],
   "source": [
    "r = {'MYBi_30m': [0.5543739168045854, 0.1654583646526328], #r at v1\n",
    " 'PBS_30m': [0.2600444176284328, 0.02279444794903803],\n",
    " 'MYBi_6h': [0.5005330862395866, 0.04428975746477769],\n",
    " 'PBS_6h': [0.23903615815004206, 0.060942601783761284],\n",
    " 'MS2': [0.14512165615335024, 0.054750165018263075],\n",
    " 'JQ1': [0.10594775516310602, 0.025098518494594674],\n",
    " 'MS2_JQ1': [0.20200435554076682, 0.0493267432253527],\n",
    " 'DMSO': [0.14632946312395476, 0.011039982545173618]}"
   ]
  },
  {
   "cell_type": "code",
   "execution_count": null,
   "metadata": {},
   "outputs": [],
   "source": [
    "r = {'DMSO_2h': [0.2243153232470735, 0.02204177171648129],\n",
    " 'VHL_2h': [0.23495725535742493, 0.012366178880134462],\n",
    " 'DMSO_24h': [0.14047889898493598, 0.0068663572605201255],\n",
    " 'VHL_24h': [0.1960673739532328, 0.04013998428238451],\n",
    " 'PBS_24h': [0.23538398133738964, 0.06424715552832781],\n",
    " 'MYBi_24h': [1.0041758119681277, 0.13391993501133953]}"
   ]
  },
  {
   "cell_type": "code",
   "execution_count": null,
   "metadata": {},
   "outputs": [],
   "source": [
    "d= pd.DataFrame(data=r.values(),index=r.keys(), columns=['ERCC pseudo-counts','var'])\n",
    "d['Experiments']=d.index\n",
    "sns.barplot(\"Experiments\",\"ERCC pseudo-counts\",data=d,ci=None,)\n",
    "plt.errorbar(x=range(0,len(d)),y=d['ERCC pseudo-counts'],\n",
    "            yerr=d['var'], fmt='none', c= 'r')\n",
    "plt.xticks(rotation=60,ha='right')\n",
    "plt.savefig('../results/'+project+\"/plots/\"+version+\"_scaling_fact_with_conf.pdf\")"
   ]
  },
  {
   "cell_type": "code",
   "execution_count": null,
   "metadata": {},
   "outputs": [],
   "source": [
    "location= '../../data/'+project+'/res/count/'\n",
    "mincount_toremove=5\n",
    "minvar_toremove=0"
   ]
  },
  {
   "cell_type": "code",
   "execution_count": null,
   "metadata": {},
   "outputs": [],
   "source": [
    "readcounts, tccounts = readFromSlamdunk(loc=location,minvar_toremove=minvar_toremove, mincount_toremove=mincount_toremove)"
   ]
  },
  {
   "cell_type": "code",
   "execution_count": null,
   "metadata": {},
   "outputs": [],
   "source": [
    "#feel like subsetting?\n",
    "readcounts = readcounts[readcounts.columns[:27]]\n",
    "tccounts = tccounts[tccounts.columns[:27]]"
   ]
  },
  {
   "cell_type": "markdown",
   "metadata": {},
   "source": [
    "## SLAM-seq\n",
    "All SLAM-seq assays were performed at 60-70% confluency for adherent cells or\n",
    "60% of the maximum cell density counted on a hemocytometer for suspension cells. 5-7h\n",
    "prior to each assay, growth medium was aspirated and replaced. Unless stated otherwise,\n",
    "cells were pre-treated with indicated small molecule inhibitors or 100µM IAA for 30 min\n",
    "to pre-establish full target inhibition or degradation. Newly synthesized RNA was labeled\n",
    "for indicated time spans (45 min or 60 min) at a final concentration of 100µM 4-\n",
    "thiouridine (4sU, Carbosynth). Adherent cells were harvested by direct snap-freezing of\n",
    "plates on dry ice. Suspension cells were spun down and immediately snap-frozen. RNA\n",
    "extraction was performed using the RNeasy Plus Mini Kit (Qiagen). \n",
    "\n",
    "Total RNA was subjected to alkylation by iodoacetamide (Sigma, 10mM) for 15 min and RNA was repurified by ethanol precipitation. 500ng alkylated RNA were used as input for generating\n",
    "3’-end mRNA sequencing libraries using a commercially available kit (QuantSeq 3′\n",
    "mRNA-Seq Library Prep Kit FWD for Illumina and PCR Add-on Kit for Illumina,\n",
    "Lexogen). Deep sequencing was performed using HiSeq1500 and HiSeq2500 platforms\n",
    "(Illumina)."
   ]
  },
  {
   "cell_type": "markdown",
   "metadata": {},
   "source": [
    "0.06724463\n",
    "0.04916348\n",
    "0.03728357\n",
    "0.05075007\n",
    "0.03331248\n",
    "0.0346662\n",
    "0.03265504 \n",
    "0.04416262\n",
    "0.05574821\n",
    "0.05845953\n",
    "0.05531433\n",
    "0.06175393\n",
    "0.03181749 \n",
    "0.02940226 \n",
    "0.0306263\n",
    "0.04004278"
   ]
  },
  {
   "cell_type": "code",
   "execution_count": null,
   "metadata": {},
   "outputs": [],
   "source": [
    "mkdir ../results/$project"
   ]
  },
  {
   "cell_type": "code",
   "execution_count": null,
   "metadata": {},
   "outputs": [],
   "source": [
    "col = tccounts.columns.tolist()\n",
    "col.sort()\n",
    "tccounts = tccounts[col]"
   ]
  },
  {
   "cell_type": "code",
   "execution_count": null,
   "metadata": {},
   "outputs": [],
   "source": [
    "col = readcounts.columns.tolist()\n",
    "col.sort()\n",
    "readcounts = readcounts[col]"
   ]
  },
  {
   "cell_type": "code",
   "execution_count": null,
   "metadata": {},
   "outputs": [],
   "source": [
    "readcounts"
   ]
  },
  {
   "cell_type": "code",
   "execution_count": null,
   "metadata": {},
   "outputs": [],
   "source": []
  },
  {
   "cell_type": "code",
   "execution_count": null,
   "metadata": {},
   "outputs": [],
   "source": [
    "readcounts"
   ]
  },
  {
   "cell_type": "code",
   "execution_count": null,
   "metadata": {},
   "outputs": [],
   "source": [
    "#what is the average of highly transcribed genes \n",
    "a = tccounts[readcounts.sum(1)>30] / readcounts[readcounts.sum(1)>30]\n",
    "a = a.fillna(0)\n",
    "a = a.max(1).tolist()\n",
    "a.sort()\n",
    "sns.kdeplot(a)"
   ]
  },
  {
   "cell_type": "code",
   "execution_count": null,
   "metadata": {},
   "outputs": [],
   "source": [
    "np.median(a)"
   ]
  },
  {
   "cell_type": "code",
   "execution_count": null,
   "metadata": {},
   "outputs": [],
   "source": [
    "readcounts.to_csv('../results/'+project+'/'+version+'_'+str(minvar_toremove)+'_'+str(mincount_toremove)+'_readcounts.csv',index=False)\n",
    "tccounts.to_csv('../results/'+project+'/'+version+'_'+str(minvar_toremove)+'_'+str(mincount_toremove)+'_tccounts.csv',index=False)"
   ]
  },
  {
   "cell_type": "code",
   "execution_count": null,
   "metadata": {},
   "outputs": [],
   "source": [
    "readcounts = pd.read_csv('../results/'+project+'/'+version+'_'+str(minvar_toremove)+'_'+str(mincount_toremove)+'_readcounts.csv')\n",
    "tccounts = pd.read_csv('../results/'+project+'/'+version+'_'+str(minvar_toremove)+'_'+str(mincount_toremove)+'_tccounts.csv')"
   ]
  },
  {
   "cell_type": "markdown",
   "metadata": {},
   "source": [
    "### make more dataframes"
   ]
  },
  {
   "cell_type": "code",
   "execution_count": null,
   "metadata": {},
   "outputs": [],
   "source": [
    "mtccounts = pd.DataFrame()\n",
    "mreadcounts = pd.DataFrame()\n",
    "for i in set([i.split('-')[2] for i in tccounts.columns]):\n",
    "    mtccounts[i] = tccounts[[v for v in tccounts.columns if i in v]].mean(1)\n",
    "    mreadcounts[i] = readcounts[[v for v in readcounts.columns if i in v]].mean(1)"
   ]
  },
  {
   "cell_type": "code",
   "execution_count": null,
   "metadata": {},
   "outputs": [],
   "source": [
    "mtccounts.to_csv(\"../results/\"+project+'/'+version+'_'+str(minvar_toremove)+'_'+str(mincount_toremove)+\"_mean_tccounts.csv\")\n",
    "mreadcounts.to_csv(\"../results/\"+project+'/'+version+'_'+str(minvar_toremove)+'_'+str(mincount_toremove)+\"_mean_readcounts.csv\")"
   ]
  },
  {
   "cell_type": "code",
   "execution_count": null,
   "metadata": {},
   "outputs": [],
   "source": [
    "mtccounts = pd.DataFrame()\n",
    "mreadcounts = pd.DataFrame()\n",
    "for i in set([i.split('-')[2] for i in tccounts.columns]):\n",
    "    mtccounts[i] = tccounts[[v for v in tccounts.columns if i in v]].median(1)\n",
    "    mreadcounts[i] = readcounts[[v for v in readcounts.columns if i in v]].median(1)"
   ]
  },
  {
   "cell_type": "code",
   "execution_count": null,
   "metadata": {},
   "outputs": [],
   "source": [
    "mtccounts.to_csv(\"../results/\"+project+'/'+version+'_'+str(minvar_toremove)+'_'+str(mincount_toremove)+\"_median_tccounts.csv\")\n",
    "mreadcounts.to_csv(\"../results/\"+project+'/'+version+'_'+str(minvar_toremove)+'_'+str(mincount_toremove)+\"_median_readcounts.csv\")"
   ]
  },
  {
   "cell_type": "code",
   "execution_count": null,
   "metadata": {},
   "outputs": [],
   "source": [
    "(tccounts/readcounts).fillna(0).to_csv(\"../results/\"+project+'/'+version+'_'+str(minvar_toremove)+'_'+str(mincount_toremove)+\"_tccounts_per_readcounts.csv\")"
   ]
  },
  {
   "cell_type": "markdown",
   "metadata": {},
   "source": [
    "# lets look at the similarity accross replicates\n",
    "\n",
    "we have some outliers, else it seems to make some sense and on average, to be extremelly similar!"
   ]
  },
  {
   "cell_type": "code",
   "execution_count": null,
   "metadata": {},
   "outputs": [],
   "source": [
    "tccounts.columns = [i.replace('-','.') for i in tccounts.columns]\n",
    "readcounts.columns = [i.replace('-','.') for i in readcounts.columns]"
   ]
  },
  {
   "cell_type": "code",
   "execution_count": null,
   "metadata": {},
   "outputs": [],
   "source": [
    "mkdir ../results/$project/plots/"
   ]
  },
  {
   "cell_type": "code",
   "execution_count": null,
   "metadata": {},
   "outputs": [],
   "source": [
    "tccounts"
   ]
  },
  {
   "cell_type": "code",
   "execution_count": null,
   "metadata": {},
   "outputs": [],
   "source": [
    "(tccounts.loc[\"MYC\"]/tccounts.mean(0)) /(readcounts.loc[\"MYC\"]/readcounts.mean(0))"
   ]
  },
  {
   "cell_type": "code",
   "execution_count": null,
   "metadata": {},
   "outputs": [],
   "source": [
    "%matplotlib inline\n",
    "sns.heatmap(tccounts.corr(), \n",
    "            xticklabels=tccounts.columns,\n",
    "            yticklabels=tccounts.columns)\n",
    "plt.savefig('../results/'+project+'/plots/'+version+'_similarity_replicates_sorted_readcounts.pdf')"
   ]
  },
  {
   "cell_type": "code",
   "execution_count": null,
   "metadata": {},
   "outputs": [],
   "source": [
    "%matplotlib inline\n",
    "sns.heatmap(readcounts.corr(), \n",
    "            xticklabels=readcounts.columns,\n",
    "            yticklabels=readcounts.columns)\n",
    "plt.savefig('../results/'+project+'/plots/'+version+'_similarity_replicates.pdf')"
   ]
  },
  {
   "cell_type": "code",
   "execution_count": null,
   "metadata": {},
   "outputs": [],
   "source": [
    "%matplotlib inline\n",
    "sns.heatmap(readcounts[readcounts.columns[:16]].corr(), \n",
    "            xticklabels=readcounts.columns[:16],\n",
    "            yticklabels=readcounts.columns[:16])\n",
    "plt.savefig('../results/'+project+'/plots/'+version+'_similarity_replicates_MYBi.pdf')"
   ]
  },
  {
   "cell_type": "markdown",
   "metadata": {},
   "source": [
    "The change with DMSO (PBS) 30m vs 6h is as striking to as the change with MYBi highlighting the impact of batches"
   ]
  },
  {
   "cell_type": "markdown",
   "metadata": {},
   "source": [
    "### A quick detour to look for clustering"
   ]
  },
  {
   "cell_type": "markdown",
   "metadata": {},
   "source": [
    "## Getting the Core TF information"
   ]
  },
  {
   "cell_type": "code",
   "execution_count": null,
   "metadata": {},
   "outputs": [],
   "source": [
    "ctf=pd.read_csv('../data/CTF.csv',header=None)[0].values.tolist()\n",
    "ctf"
   ]
  },
  {
   "cell_type": "code",
   "execution_count": null,
   "metadata": {},
   "outputs": [],
   "source": [
    "set(ctf) & set(tccounts.index)"
   ]
  },
  {
   "cell_type": "code",
   "execution_count": null,
   "metadata": {},
   "outputs": [],
   "source": [
    "ctfpos = [val for val in tccounts.index if val in ctf]\n",
    "notctfpos = [val for val in tccounts.index if val not in ctf]"
   ]
  },
  {
   "cell_type": "code",
   "execution_count": null,
   "metadata": {},
   "outputs": [],
   "source": [
    "ctfpos.extend(['EGR1','SERTAD1'])"
   ]
  },
  {
   "cell_type": "markdown",
   "metadata": {},
   "source": [
    "We find a CTF not in the dataset"
   ]
  },
  {
   "cell_type": "markdown",
   "metadata": {},
   "source": [
    "# Let's look at how they change accross time\n",
    "\n",
    "how core transcription factors change accross time when the cell is with JQ1 conditions\n",
    "\n",
    "we are looking at the difference between production of each CTF compared to the average RNA production with JQ1 and without JQ1"
   ]
  },
  {
   "cell_type": "markdown",
   "metadata": {},
   "source": [
    "## DESEQ ANALYSIS"
   ]
  },
  {
   "cell_type": "code",
   "execution_count": null,
   "metadata": {},
   "outputs": [],
   "source": [
    "readcounts[\"genes\"] = readcounts.index\n",
    "readcounts = readcounts.reset_index(drop=True)\n",
    "tccounts[\"genes\"] = tccounts.index\n",
    "tccounts = tccounts.reset_index(drop=True)"
   ]
  },
  {
   "cell_type": "code",
   "execution_count": null,
   "metadata": {},
   "outputs": [],
   "source": [
    "tccountsMEF2D= tccounts[tccounts.columns[-24:-8]]\n",
    "designMEF2D2 = pd.DataFrame(index= [i.replace('-','.') for i in tccountsMEF2D.columns], \n",
    "                      columns=['DMSO','VHL'], \n",
    "                      data=np.array([[1,1,1,1,0,0,0,0,0,0,0,0,0,0,0,0],\n",
    "                                     [0,0,0,0,1,1,1,1,0,0,0,0,0,0,0,0]],dtype=bool).T)\n",
    "designMEF2D24 = pd.DataFrame(index=[i.replace('-','.') for i in tccountsMEF2D.columns], \n",
    "                      columns=['DMSO','VHL'], \n",
    "                      data=np.array([[0,0,0,0,0,0,0,0,1,1,1,1,0,0,0,0],\n",
    "                                     [0,0,0,0,0,0,0,0,0,0,0,0,1,1,1,1]],dtype=bool).T)"
   ]
  },
  {
   "cell_type": "code",
   "execution_count": null,
   "metadata": {},
   "outputs": [],
   "source": [
    "### MYbi\n",
    "tccountsMybi= tccounts[list(tccounts.columns[:15])+list(tccounts.columns[-8:-1])]\n",
    "designMybi30 = pd.DataFrame(index= [i.replace('-','.') for i in tccountsMybi.columns], \n",
    "                      columns=['VHL','DMSO'], \n",
    "                      data=np.array([[1,1,1,1,0,0,0,0,0,0,0,0,0,0,0,0,0,0,0,0,0,0],\n",
    "                                     [0,0,0,0,1,1,1,1,0,0,0,0,0,0,0,0,0,0,0,0,0,0]],dtype=bool).T)\n",
    "designMybi6 = pd.DataFrame(index=[i.replace('-','.') for i in tccountsMybi.columns], \n",
    "                      columns=['VHL','DMSO'], \n",
    "                      data=np.array([[0,0,0,0,0,0,0,0,1,1,1,1,0,0,0,0,0,0,0,0,0,0],\n",
    "                                     [0,0,0,0,0,0,0,0,0,0,0,0,1,1,1,0,0,0,0,0,0,0]],dtype=bool).T)\n",
    "designMybi24 = pd.DataFrame(index=[i.replace('-','.') for i in tccountsMybi.columns], \n",
    "                      columns=['DMSO','VHL'], \n",
    "                      data=np.array([[0,0,0,0,0,0,0,0,0,0,0,0,0,0,0,1,1,1,1,0,0,0],\n",
    "                                     [0,0,0,0,0,0,0,0,0,0,0,0,0,0,0,0,0,0,0,1,1,1]],dtype=bool).T)"
   ]
  },
  {
   "cell_type": "code",
   "execution_count": null,
   "metadata": {},
   "outputs": [],
   "source": [
    "### MYCi\n",
    "tccountsMyci= tccounts[tccounts.columns[15:-24]]\n",
    "designMS2 = pd.DataFrame(index=[i.replace('-','.') for i in tccountsMyci.columns], \n",
    "                      columns=['VHL','DMSO'], \n",
    "                      data=np.array([[1,1,1,0,0,0,0,0,0,0,0,0],\n",
    "                                     [0,0,0,0,0,0,0,0,0,1,1,1]],dtype=bool).T)\n",
    "designJQ1 = pd.DataFrame(index=[i.replace('-','.') for i in tccountsMyci.columns], \n",
    "                      columns=['VHL','DMSO'], \n",
    "                      data=np.array([[0,0,0,1,1,1,0,0,0,0,0,0],\n",
    "                                     [0,0,0,0,0,0,0,0,0,1,1,1]],dtype=bool).T)\n",
    "designMS2_JQ1 = pd.DataFrame(index=[i.replace('-','.') for i in tccountsMyci.columns], \n",
    "                      columns=['VHL','DMSO'], \n",
    "                      data=np.array([[0,0,0,0,0,0,1,1,1,0,0,0],\n",
    "                                     [0,0,0,0,0,0,0,0,0,1,1,1]],dtype=bool).T)"
   ]
  },
  {
   "cell_type": "markdown",
   "metadata": {},
   "source": [
    "### Differential gene expression analysis, PCA and GO-term enrichment\n",
    "\n",
    "For gene-level analysis, raw reads mapped to different UTR annotations of the same gene were summed up by Entrez Gene ID. Pilot studies of K562 cells with kinase inhibitors were performed as single experiments. \n",
    "\n",
    "Analysis of differential gene expression was restricted to genes with ≥ 10 reads in at least one condition for 50bp sequencing runs (flavopiridol and DMSO) or ≥ 20 reads in at least one condition for 100bp sequencing runs (mk2206, trametinib, nilotinib, trametinib + mk2206 and DMSO). For estimating differential expression, a pseudo-count of 1 raw read was added to all genes.\n",
    "\n",
    "#### All other SLAM-seq experiments were performed in triplicates and analyzed as follows. \n",
    "Differential gene expression calling was performed on raw read counts with ≥ 2 T>C conversions using DESeq2 (version 1.14.1) with default settings, and with size factors estimated on corresponding total mRNA reads for global normalization.\n",
    "\n",
    "Downstream analysis was restricted to genes passing all internal filters for FDR estimation by DESeq2. Principal component analysis was performed after variance\n",
    "stabilizing transformation on the 500 most variable genes across all conditions of a given\n",
    "experiment. GO-term enrichment analysis was performed on genes significantly and strongly downregulated (FDR ≤ 0.1, log2FC ≤ -1) in SLAM-seq upon IAA-treatment in K562MYC-AID + Tir1 by the PANTHER Overrepresentation Test (Fisher's Exact with FDR multiple test correction, release 20171205, http://pantherdb.org) on GO Ontology database Released 2017-12-27."
   ]
  },
  {
   "cell_type": "code",
   "execution_count": null,
   "metadata": {},
   "outputs": [],
   "source": [
    "scaling=\"ERCCsamplewise\""
   ]
  },
  {
   "cell_type": "markdown",
   "metadata": {},
   "source": [
    "### MYCi"
   ]
  },
  {
   "cell_type": "code",
   "execution_count": null,
   "metadata": {},
   "outputs": [],
   "source": [
    "tccountsMyci= tccounts[list(tccountsMyci.columns)+['genes']]\n",
    "MS2 = [1,1,1,0,0,0,0,0,0,1,1,1]\n",
    "deseqMS2 = pyDESeq2.pyDESeq2(count_matrix=tccountsMyci[tccountsMyci.columns[np.array(MS2+[1],np.bool)]], design_matrix=designMS2[np.array(MS2,np.bool)],\n",
    "                         design_formula=\"~DMSO - VHL\",\n",
    "                         gene_column=\"genes\")\n",
    "JQ1 = [0,0,0,1,1,1,0,0,0,1,1,1]\n",
    "deseqJQ1 = pyDESeq2.pyDESeq2(count_matrix=tccountsMyci[tccountsMyci.columns[np.array(JQ1+[1],np.bool)]],\n",
    "                         design_matrix=designJQ1[np.array(JQ1,np.bool)],\n",
    "                         design_formula=\"~DMSO - VHL\",\n",
    "                         gene_column=\"genes\")\n",
    "MS2_JQ1 = [0,0,0,0,0,0,1,1,1,1,1,1]\n",
    "deseqMS2_JQ1 = pyDESeq2.pyDESeq2(count_matrix=tccountsMyci[tccountsMyci.columns[np.array(MS2_JQ1+[1],np.bool)]],                     design_matrix=designMS2_JQ1[np.array(MS2_JQ1,np.bool)],\n",
    "                         design_formula=\"~DMSO - VHL\",\n",
    "                         gene_column=\"genes\")"
   ]
  },
  {
   "cell_type": "markdown",
   "metadata": {},
   "source": [
    "### Mybi"
   ]
  },
  {
   "cell_type": "code",
   "execution_count": null,
   "metadata": {},
   "outputs": [],
   "source": [
    "tccountsMybi= tccounts[list(tccountsMybi.columns)+['genes']]\n",
    "Mybi30 = [1,1,1,1,1,1,1,1,0,0,0,0,0,0,0,0,0,0,0,0,0,0]\n",
    "deseqMybi30 = pyDESeq2.pyDESeq2(count_matrix = tccountsMybi[tccountsMybi.columns[np.array(Mybi30+[1],np.bool)]],\n",
    "                         design_matrix=designMybi30[np.array(Mybi30,np.bool)],\n",
    "                         design_formula=\"~DMSO - VHL\",\n",
    "                         gene_column=\"genes\")\n",
    "Mybi6 = [0,0,0,0,0,0,0,0,1,1,1,1,1,1,1,0,0,0,0,0,0,0]\n",
    "deseqMybi6 = pyDESeq2.pyDESeq2(count_matrix = tccountsMybi[tccountsMybi.columns[np.array(Mybi6+[1],np.bool)]],\n",
    "                         design_matrix=designMybi6[np.array(Mybi6,np.bool)],\n",
    "                         design_formula=\"~DMSO - VHL\",\n",
    "                         gene_column=\"genes\")\n",
    "Mybi24 = [0,0,0,0,0,0,0,0,0,0,0,0,0,0,0,1,1,1,1,1,1,1]\n",
    "deseqMybi24 = pyDESeq2.pyDESeq2(count_matrix=tccountsMybi[tccountsMybi.columns[np.array(Mybi24+[1],np.bool)]], design_matrix=designMybi24[np.array(Mybi24,np.bool)],\n",
    "                         design_formula=\"~DMSO - VHL\",\n",
    "                         gene_column=\"genes\")"
   ]
  },
  {
   "cell_type": "markdown",
   "metadata": {},
   "source": [
    "### MEF2D"
   ]
  },
  {
   "cell_type": "code",
   "execution_count": null,
   "metadata": {},
   "outputs": [],
   "source": [
    "MEF2D2 = [1,1,1,1,1,1,1,1,0,0,0,0,0,0,0,0]\n",
    "tccountsMEF2D= tccounts[list(tccountsMEF2D.columns)+['genes']]\n",
    "deseqMEF2D2 = pyDESeq2.pyDESeq2(count_matrix = tccountsMEF2D[tccountsMEF2D.columns[np.array(MEF2D2+[1],np.bool)]],\n",
    "                         design_matrix=designMEF2D2[np.array(MEF2D2,np.bool)],\n",
    "                         design_formula=\"~DMSO - VHL\",\n",
    "                         gene_column=\"genes\")\n",
    "MEF2D24 = [0,0,0,0,0,0,0,0,1,1,1,1,1,1,1,1]\n",
    "deseqMEF2D24 = pyDESeq2.pyDESeq2(count_matrix = tccountsMEF2D[tccountsMEF2D.columns[np.array(MEF2D24+[1],np.bool)]],\n",
    "                         design_matrix=designMEF2D24[np.array(MEF2D24,np.bool)],\n",
    "                         design_formula=\"~DMSO - VHL\",\n",
    "                         gene_column=\"genes\")"
   ]
  },
  {
   "cell_type": "markdown",
   "metadata": {},
   "source": [
    "## estimating size factors"
   ]
  },
  {
   "cell_type": "markdown",
   "metadata": {},
   "source": [
    "#### MYCi"
   ]
  },
  {
   "cell_type": "code",
   "execution_count": null,
   "metadata": {},
   "outputs": [],
   "source": [
    "readcountsMyci.columns"
   ]
  },
  {
   "cell_type": "code",
   "execution_count": null,
   "metadata": {},
   "outputs": [],
   "source": [
    "deseqMS2.run_estimate_size_factors(geoMeans = np.exp(np.mean(np.log(\n",
    "    readcounts[tccountsMyci.columns[np.array([1,1,1,0,0,0,0,0,0,0,0,0,0], np.bool)]].values+1), 1)))\n",
    "deseqJQ1.run_estimate_size_factors(geoMeans = np.exp(np.mean(np.log(\n",
    "    readcounts[tccountsMyci.columns[np.array([0,0,0,1,1,1,0,0,0,0,0,0,0], np.bool)]].values+1), 1)))\n",
    "deseqMS2_JQ1.run_estimate_size_factors(geoMeans = np.exp(np.mean(np.log(\n",
    "    readcounts[tccountsMyci.columns[np.array([0,0,0,0,0,0,1,1,1,0,0,0,0], np.bool)]].values+1), 1)))"
   ]
  },
  {
   "cell_type": "markdown",
   "metadata": {},
   "source": [
    "#### MYBi"
   ]
  },
  {
   "cell_type": "code",
   "execution_count": null,
   "metadata": {},
   "outputs": [],
   "source": [
    "deseqMybi30.run_estimate_size_factors(geoMeans = np.exp(np.mean(np.log(readcounts[tccountsMybi.columns[np.array([1,1,1,1,0,0,0,0,0,0,0,0,0,0,0,0,0,0,0,0,0,0,0],np.bool)]].values+1),1)))\n",
    "deseqMybi6.run_estimate_size_factors(geoMeans = np.exp(np.mean(np.log(readcounts[tccountsMybi.columns[np.array([0,0,0,0,0,0,0,0,1,1,1,1,0,0,0,0,0,0,0,0,0,0,0],np.bool)]].values+1),1)))\n",
    "deseqMybi24.run_estimate_size_factors(geoMeans = np.exp(np.mean(np.log(readcounts[tccountsMybi.columns[np.array([0,0,0,0,0,0,0,0,0,0,0,0,0,0,0,0,0,0,0,1,1,1,0], np.bool)]].values+1), 1)))"
   ]
  },
  {
   "cell_type": "markdown",
   "metadata": {},
   "source": [
    "#### MEF2D"
   ]
  },
  {
   "cell_type": "code",
   "execution_count": null,
   "metadata": {},
   "outputs": [],
   "source": [
    "deseqMEF2D2.run_estimate_size_factors(geoMeans = np.exp(np.mean(np.log(readcounts[tccountsMEF2D.columns[\n",
    "        np.array([0,0,0,0,1,1,1,1,0,0,0,0,0,0,0,0,0],np.bool)]].values+1),1)))\n",
    "deseqMEF2D24.run_estimate_size_factors(geoMeans = np.exp(np.mean(np.log(readcounts[tccountsMEF2D.columns[\n",
    "        np.array([0,0,0,0,0,0,0,0,0,0,0,0,1,1,1,1,0],np.bool)]].values+1),1)))"
   ]
  },
  {
   "cell_type": "markdown",
   "metadata": {},
   "source": [
    "## other size factor estimations"
   ]
  },
  {
   "cell_type": "code",
   "execution_count": null,
   "metadata": {},
   "outputs": [],
   "source": [
    "# from https://www.cell.com/trends/genetics/pdf/S0168-9525(13)00089-9.pdf FFROM THOUSANDS OF SAMPLES\n",
    "housekeeping1 = [\"C1orf43\", \"CHMP2A\", \"EMC7\", \"GPI\", \"PSMB2\", \"PSMB4\", \"RAB7A\", \"REEP5\", \"SNRPD3\", \"VCP\", \"VPS29\"]\n",
    "\n",
    "#https://www.ncbi.nlm.nih.gov/pmc/articles/PMC4760967/ FOR CANCER CELL LINES\n",
    "housekeeping2 = ['18S rRNA',\n",
    "'ACTB',\n",
    "'B2M',\n",
    "'G6PD',\n",
    "'GAPDH',\n",
    "'GUSB',\n",
    "'HMBS',\n",
    "'HPRT1',\n",
    "'PGK1',\n",
    "'PPIA',\n",
    "'RPL13a',\n",
    "'SDHA',\n",
    "'TBP',\n",
    "'TUBB',\n",
    "'YWHAZ']"
   ]
  },
  {
   "cell_type": "code",
   "execution_count": null,
   "metadata": {},
   "outputs": [],
   "source": [
    "housekeeping = readcounts.genes.isin(housekeeping2)"
   ]
  },
  {
   "cell_type": "code",
   "execution_count": null,
   "metadata": {},
   "outputs": [],
   "source": [
    "readcountsMybi= readcounts[readcounts.columns[16:-1]]\n",
    "np.exp(np.mean(np.log(\n",
    "    readcountsMybi[readcountsMybi.columns[np.array([1,1,1,1,0,0,0], np.bool)]].values+1), 1))"
   ]
  },
  {
   "cell_type": "code",
   "execution_count": null,
   "metadata": {},
   "outputs": [],
   "source": [
    "readcountsMybi= readcounts[readcounts.columns[16:-1]]\n",
    "\n",
    "deseqMybi.run_estimate_size_factors(geoMeans = np.exp(np.mean(np.log(\n",
    "    readcountsMybi[readcountsMybi.columns[np.array([1,1,1,1,0,0,0], np.bool)]].values+1), 1)), controlGenes=housekeeping)"
   ]
  },
  {
   "cell_type": "code",
   "execution_count": null,
   "metadata": {},
   "outputs": [],
   "source": [
    "readcountsMEF2D= readcounts[readcounts.columns[:16]]\n",
    "\n",
    "deseqMEF2D2.run_estimate_size_factors(geoMeans = np.exp(np.mean(np.log(readcountsMEF2D[readcountsMEF2D.columns[\n",
    "        np.array([1,1,1,1,0,0,0,0,0,0,0,0,0,0,0,0],np.bool)]].values+1),1)), controlGenes=housekeeping)\n",
    "deseqMEF2D24.run_estimate_size_factors(geoMeans = np.exp(np.mean(np.log(readcountsMEF2D[readcountsMEF2D.columns[\n",
    "        np.array([0,0,0,0,0,0,0,0,1,1,1,1,0,0,0,0],np.bool)]].values+1),1)), controlGenes=housekeeping)"
   ]
  },
  {
   "cell_type": "markdown",
   "metadata": {},
   "source": [
    "## Modifying size factors"
   ]
  },
  {
   "cell_type": "code",
   "execution_count": null,
   "metadata": {},
   "outputs": [],
   "source": [
    "r"
   ]
  },
  {
   "cell_type": "code",
   "execution_count": null,
   "metadata": {},
   "outputs": [],
   "source": [
    "#### MYCi"
   ]
  },
  {
   "cell_type": "code",
   "execution_count": null,
   "metadata": {},
   "outputs": [],
   "source": [
    "sizeFact = deseqJQ1.getSizeFactors()"
   ]
  },
  {
   "cell_type": "code",
   "execution_count": null,
   "metadata": {},
   "outputs": [],
   "source": [
    "sizeFact"
   ]
  },
  {
   "cell_type": "code",
   "execution_count": null,
   "metadata": {},
   "outputs": [],
   "source": [
    "sizeFact[:3] = sizeFact[:3]* (res[[i for i in res.index if '-JQ1-' in i]].values/res[[i for i in res.index if '-DMSO-' in i]].values.mean())"
   ]
  },
  {
   "cell_type": "code",
   "execution_count": null,
   "metadata": {},
   "outputs": [],
   "source": [
    "sizeFact"
   ]
  },
  {
   "cell_type": "code",
   "execution_count": null,
   "metadata": {},
   "outputs": [],
   "source": [
    "deseqJQ1.setSizeFactors(sizeFact)"
   ]
  },
  {
   "cell_type": "code",
   "execution_count": null,
   "metadata": {},
   "outputs": [],
   "source": [
    "sizeFact = deseqMS2_JQ1.getSizeFactors()"
   ]
  },
  {
   "cell_type": "code",
   "execution_count": null,
   "metadata": {},
   "outputs": [],
   "source": [
    "sizeFact"
   ]
  },
  {
   "cell_type": "code",
   "execution_count": null,
   "metadata": {},
   "outputs": [],
   "source": [
    "sizeFact[:3] = sizeFact[:3]*(res[[i for i in res.index if '-MS2_JQ1-' in i]].values/res[[i for i in res.index if '-DMSO-' in i]].values.mean())"
   ]
  },
  {
   "cell_type": "code",
   "execution_count": null,
   "metadata": {},
   "outputs": [],
   "source": [
    "sizeFact"
   ]
  },
  {
   "cell_type": "code",
   "execution_count": null,
   "metadata": {},
   "outputs": [],
   "source": [
    "deseqMS2_JQ1.setSizeFactors(sizeFact)"
   ]
  },
  {
   "cell_type": "code",
   "execution_count": null,
   "metadata": {},
   "outputs": [],
   "source": [
    "#### MYBi"
   ]
  },
  {
   "cell_type": "code",
   "execution_count": null,
   "metadata": {},
   "outputs": [],
   "source": [
    "sizeFact = deseqMybi30.getSizeFactors()"
   ]
  },
  {
   "cell_type": "code",
   "execution_count": null,
   "metadata": {},
   "outputs": [],
   "source": [
    "sizeFact[:4] = sizeFact[:4]*(res[[i for i in res.index if '-MYBi_30m-' in i]].values/res[[i for i in res.index if '-PBS_30m-' in i]].values.mean())"
   ]
  },
  {
   "cell_type": "code",
   "execution_count": null,
   "metadata": {},
   "outputs": [],
   "source": [
    "deseqMybi30.setSizeFactors(sizeFact)"
   ]
  },
  {
   "cell_type": "code",
   "execution_count": null,
   "metadata": {},
   "outputs": [],
   "source": [
    "sizeFact = deseqMybi6.getSizeFactors()"
   ]
  },
  {
   "cell_type": "code",
   "execution_count": null,
   "metadata": {},
   "outputs": [],
   "source": [
    "sizeFact[:4] = sizeFact[:4]*(res[[i for i in res.index if '-MYBi_6h-' in i]].values/res[[i for i in res.index if '-PBS_6h-' in i]].values.mean())"
   ]
  },
  {
   "cell_type": "code",
   "execution_count": null,
   "metadata": {},
   "outputs": [],
   "source": [
    "deseqMybi6.setSizeFactors(sizeFact)"
   ]
  },
  {
   "cell_type": "code",
   "execution_count": null,
   "metadata": {},
   "outputs": [],
   "source": [
    "sizeFact = deseqMybi24.getSizeFactors()"
   ]
  },
  {
   "cell_type": "code",
   "execution_count": null,
   "metadata": {},
   "outputs": [],
   "source": [
    "sizeFact"
   ]
  },
  {
   "cell_type": "code",
   "execution_count": null,
   "metadata": {},
   "outputs": [],
   "source": [
    "sizeFact[4:] = sizeFact[4:]*(res[[i for i in res.index if '-MYBi_24h-' in i]].values/res[[i for i in res.index if '-PBS_24h-' in i]].values.mean())"
   ]
  },
  {
   "cell_type": "code",
   "execution_count": null,
   "metadata": {},
   "outputs": [],
   "source": [
    "deseqMybi24.setSizeFactors(sizeFact)"
   ]
  },
  {
   "cell_type": "code",
   "execution_count": null,
   "metadata": {},
   "outputs": [],
   "source": [
    "#### MEF2D"
   ]
  },
  {
   "cell_type": "code",
   "execution_count": null,
   "metadata": {},
   "outputs": [],
   "source": [
    "sizeFact = deseqMEF2D24.getSizeFactors()"
   ]
  },
  {
   "cell_type": "code",
   "execution_count": null,
   "metadata": {},
   "outputs": [],
   "source": [
    "sizeFact[4:] = sizeFact[4:]*(res[[i for i in res.index if '-VHL_24h-' in i]].values/res[[i for i in res.index if '-DMSO_24h-' in i]].values.mean())"
   ]
  },
  {
   "cell_type": "code",
   "execution_count": null,
   "metadata": {},
   "outputs": [],
   "source": [
    "deseqMEF2D24.setSizeFactors(sizeFact)"
   ]
  },
  {
   "cell_type": "markdown",
   "metadata": {},
   "source": [
    "## running it"
   ]
  },
  {
   "cell_type": "code",
   "execution_count": null,
   "metadata": {},
   "outputs": [],
   "source": [
    "deseqMybi24.run_deseq()\n",
    "deseqMybi24.get_deseq_result()\n",
    "resMybi24 = deseqMybi24.deseq_result\n",
    "resMybi24.pvalue = np.nan_to_num(np.array(resMybi24.pvalue), 1)\n",
    "resMybi24.log2FoldChange = np.nan_to_num(np.array(resMybi24.log2FoldChange), 0)\n",
    "resMybi24.log2FoldChange = -resMybi24.log2FoldChange\n",
    "resMybi24[\"gene_id\"] = resMybi24.genes"
   ]
  },
  {
   "cell_type": "code",
   "execution_count": null,
   "metadata": {},
   "outputs": [],
   "source": [
    "deseqMEF2D2.run_deseq()\n",
    "deseqMEF2D24.run_deseq()\n",
    "deseqMEF2D2.get_deseq_result()\n",
    "deseqMEF2D24.get_deseq_result()\n",
    "resMEF2D2 = deseqMEF2D2.deseq_result\n",
    "resMEF2D24 = deseqMEF2D24.deseq_result\n",
    "resMEF2D2.pvalue = np.nan_to_num(np.array(resMEF2D2.pvalue), 1)\n",
    "resMEF2D2.log2FoldChange = np.nan_to_num(np.array(resMEF2D2.log2FoldChange), 0)\n",
    "resMEF2D24.pvalue = np.nan_to_num(np.array(resMEF2D24.pvalue), 1)\n",
    "resMEF2D24.log2FoldChange = np.nan_to_num(np.array(resMEF2D24.log2FoldChange), 0)\n",
    "resMEF2D24.log2FoldChange = -resMEF2D24.log2FoldChange\n",
    "resMEF2D2.log2FoldChange = -resMEF2D2.log2FoldChange\n",
    "resMEF2D2[\"gene_id\"] = resMEF2D2.genes\n",
    "resMEF2D24[\"gene_id\"] = resMEF2D24.genes"
   ]
  },
  {
   "cell_type": "code",
   "execution_count": null,
   "metadata": {},
   "outputs": [],
   "source": [
    "deseqMS2.run_deseq()\n",
    "deseqJQ1.run_deseq()\n",
    "deseqMS2_JQ1.run_deseq()\n",
    "deseqMS2.get_deseq_result()\n",
    "deseqJQ1.get_deseq_result()\n",
    "deseqMS2_JQ1.get_deseq_result()\n",
    "resMS2 = deseqMS2.deseq_result\n",
    "resJQ1 = deseqJQ1.deseq_result\n",
    "resMS2_JQ1 = deseqMS2_JQ1.deseq_result\n",
    "resMS2.pvalue = np.nan_to_num(np.array(resMS2.pvalue), 1)\n",
    "resMS2.log2FoldChange = np.nan_to_num(np.array(resMS2.log2FoldChange), 0)\n",
    "resJQ1.pvalue = np.nan_to_num(np.array(resJQ1.pvalue), 1)\n",
    "resJQ1.log2FoldChange = np.nan_to_num(np.array(resJQ1.log2FoldChange), 0)\n",
    "resMS2_JQ1.pvalue = np.nan_to_num(np.array(resMS2_JQ1.pvalue), 1)\n",
    "resMS2_JQ1.log2FoldChange = np.nan_to_num(np.array(resMS2_JQ1.log2FoldChange), 0)\n",
    "resMS2.log2FoldChange = -resMS2.log2FoldChange\n",
    "resJQ1.log2FoldChange = -resJQ1.log2FoldChange\n",
    "resMS2_JQ1.log2FoldChange = -resMS2_JQ1.log2FoldChange\n",
    "resMS2[\"gene_id\"] = resMS2.genes\n",
    "resJQ1[\"gene_id\"] = resJQ1.genes\n",
    "resMS2_JQ1[\"gene_id\"] = resMS2_JQ1.genes"
   ]
  },
  {
   "cell_type": "code",
   "execution_count": null,
   "metadata": {},
   "outputs": [],
   "source": [
    "deseqMybi30.run_deseq()\n",
    "deseqMybi6.run_deseq()\n",
    "deseqMybi30.get_deseq_result()\n",
    "deseqMybi6.get_deseq_result()\n",
    "resMybi30 = deseqMybi30.deseq_result\n",
    "resMybi6 = deseqMybi6.deseq_result\n",
    "resMybi30.pvalue = np.nan_to_num(np.array(resMybi30.pvalue), 1)\n",
    "resMybi30.log2FoldChange = np.nan_to_num(np.array(resMybi30.log2FoldChange), 0)\n",
    "resMybi6.pvalue = np.nan_to_num(np.array(resMybi6.pvalue), 1)\n",
    "resMybi6.log2FoldChange = np.nan_to_num(np.array(resMybi6.log2FoldChange), 0)\n",
    "resMybi6.log2FoldChange = -resMybi6.log2FoldChange\n",
    "resMybi30.log2FoldChange = -resMybi30.log2FoldChange\n",
    "resMybi30[\"gene_id\"] = resMybi30.genes\n",
    "resMybi6[\"gene_id\"] = resMybi6.genes"
   ]
  },
  {
   "cell_type": "markdown",
   "metadata": {},
   "source": [
    "## PLOTS"
   ]
  },
  {
   "cell_type": "markdown",
   "metadata": {},
   "source": [
    "### whisker's plots"
   ]
  },
  {
   "cell_type": "code",
   "execution_count": null,
   "metadata": {},
   "outputs": [],
   "source": [
    "%matplotlib inline"
   ]
  },
  {
   "cell_type": "code",
   "execution_count": null,
   "metadata": {},
   "outputs": [],
   "source": [
    "res = resMybi30[resMybi30.baseMean>10]\n",
    "res.baseMean= np.log2(1+res.baseMean)\n",
    "res[\"type\"] = ['ctf' if i else \"other\" for i in  res.genes.isin(ctf)]"
   ]
  },
  {
   "cell_type": "code",
   "execution_count": null,
   "metadata": {},
   "outputs": [],
   "source": [
    "ax = sns.boxplot(data=res,x='type',y='log2FoldChange').set_title(\"Mybi at 30mn foldChange\")\n",
    "ax.figure.savefig('../results/'+project+\"/plots/\"+version+\"_\"+scaling+\"_whiskersMybi_30mn_logfch.pdf\")"
   ]
  },
  {
   "cell_type": "code",
   "execution_count": null,
   "metadata": {},
   "outputs": [],
   "source": [
    "ax =sns.boxplot(data=res,x='type',y='baseMean')\n",
    "ax.set_title(\"Mybi 30mn baseMean\")\n",
    "ax.figure.savefig('../results/'+project+\"/plots/\"+version+\"_\"+scaling+\"_whiskers_Mybi_30mn_baseMean.pdf\")"
   ]
  },
  {
   "cell_type": "code",
   "execution_count": null,
   "metadata": {},
   "outputs": [],
   "source": [
    "res = resMybi6[resMybi6.baseMean>10]\n",
    "res.baseMean= np.log2(1+res.baseMean)\n",
    "res[\"type\"] = ['ctf' if i else \"other\" for i in  res.genes.isin(ctf)]"
   ]
  },
  {
   "cell_type": "code",
   "execution_count": null,
   "metadata": {},
   "outputs": [],
   "source": [
    "ax= sns.boxplot(data=res,x='type',y='log2FoldChange')\n",
    "ax.set_title(\"Mybi at 6h foldchange\")\n",
    "ax.figure.savefig('../results/'+project+\"/plots/\"+version+\"_\"+scaling+\"_whiskers_Mybi_6h_logfch.pdf\")"
   ]
  },
  {
   "cell_type": "code",
   "execution_count": null,
   "metadata": {},
   "outputs": [],
   "source": [
    "ax = sns.boxplot(data=res,x='type',y='baseMean')\n",
    "ax.set_title(\"Mybi at 6h baseMean\")\n",
    "ax.figure.savefig('../results/'+project+\"/plots/\"+version+\"_\"+scaling+\"_whiskers_Mybi_6h_baseMean.pdf\")"
   ]
  },
  {
   "cell_type": "code",
   "execution_count": null,
   "metadata": {},
   "outputs": [],
   "source": [
    "res = resMybi[resMybi.baseMean>10]\n",
    "res.baseMean= np.log2(1+res.baseMean)\n",
    "res[\"type\"] = ['ctf' if i else \"other\" for i in  res.genes.isin(ctf)]"
   ]
  },
  {
   "cell_type": "code",
   "execution_count": null,
   "metadata": {},
   "outputs": [],
   "source": [
    "ax= sns.boxplot(data=res,x='type',y='log2FoldChange')\n",
    "ax.set_title(\"Mybi at 24h foldchange\")\n",
    "ax.figure.savefig('../results/'+project+\"/plots/\"+version+\"_\"+scaling+\"_whiskers_Mybi_24h_logfch.pdf\")"
   ]
  },
  {
   "cell_type": "code",
   "execution_count": null,
   "metadata": {},
   "outputs": [],
   "source": [
    "ax = sns.boxplot(data=res,x='type',y='baseMean')\n",
    "ax.set_title(\"Mybi at 24h baseMean\")\n",
    "ax.figure.savefig('../results/'+project+\"/plots/\"+version+\"_\"+scaling+\"_whiskers_Mybi_24h_baseMean.pdf\")"
   ]
  },
  {
   "cell_type": "markdown",
   "metadata": {},
   "source": [
    "#### MEF2D"
   ]
  },
  {
   "cell_type": "code",
   "execution_count": null,
   "metadata": {},
   "outputs": [],
   "source": [
    "res = resMEF2D2[resMEF2D2.baseMean>10]\n",
    "res.baseMean= np.log2(1+res.baseMean)\n",
    "res[\"type\"] = ['ctf' if i else \"other\" for i in  res.genes.isin(ctf)]"
   ]
  },
  {
   "cell_type": "code",
   "execution_count": null,
   "metadata": {},
   "outputs": [],
   "source": [
    "ax= sns.boxplot(data=res,x='type',y='log2FoldChange')\n",
    "ax.set_title(\"MEF2D at 2h foldchange\")\n",
    "ax.figure.savefig('../results/'+project+\"/plots/\"+version+\"_\"+scaling+\"_whiskers_MEF2D_2h_logfch.pdf\")"
   ]
  },
  {
   "cell_type": "code",
   "execution_count": null,
   "metadata": {},
   "outputs": [],
   "source": [
    "ax = sns.boxplot(data=res,x='type',y='baseMean')\n",
    "ax.set_title(\"MEF2D at 2h baseMean\")\n",
    "ax.figure.savefig('../results/'+project+\"/plots/\"+version+\"_\"+scaling+\"_whiskers_MEF2D_2h_baseMean.pdf\")"
   ]
  },
  {
   "cell_type": "code",
   "execution_count": null,
   "metadata": {},
   "outputs": [],
   "source": [
    "res = resMEF2D24[resMEF2D24.baseMean>10]\n",
    "res.baseMean= np.log2(1+res.baseMean)\n",
    "res[\"type\"] = ['ctf' if i else \"other\" for i in  res.genes.isin(ctf)]"
   ]
  },
  {
   "cell_type": "code",
   "execution_count": null,
   "metadata": {},
   "outputs": [],
   "source": [
    "ax= sns.boxplot(data=res,x='type',y='log2FoldChange')\n",
    "ax.set_title(\"MEF2D at 24h foldchange\")\n",
    "ax.figure.savefig('../results/'+project+\"/plots/\"+version+\"_\"+scaling+\"_whiskers_MEF2D_24h_logfch.pdf\")"
   ]
  },
  {
   "cell_type": "code",
   "execution_count": null,
   "metadata": {},
   "outputs": [],
   "source": [
    "ax = sns.boxplot(data=res,x='type',y='baseMean')\n",
    "ax.set_title(\"MEF2D at 24h baseMean\")\n",
    "ax.figure.savefig('../results/'+project+\"/plots/\"+version+\"_\"+scaling+\"_whiskers_MEF2D_24h_baseMean.pdf\")"
   ]
  },
  {
   "cell_type": "markdown",
   "metadata": {},
   "source": [
    "#### Myci"
   ]
  },
  {
   "cell_type": "code",
   "execution_count": null,
   "metadata": {},
   "outputs": [],
   "source": [
    "res = resJQ1[resJQ1.baseMean>10]\n",
    "res.baseMean= np.log2(1+res.baseMean)\n",
    "res[\"type\"] = ['ctf' if i else \"other\" for i in  res.genes.isin(ctf)]"
   ]
  },
  {
   "cell_type": "code",
   "execution_count": null,
   "metadata": {},
   "outputs": [],
   "source": [
    "ax = sns.boxplot(data=res,x='type',y='log2FoldChange')\n",
    "ax.set_title(\"JQ1 foldchange\")\n",
    "ax.figure.savefig('../results/'+project+\"/plots/\"+version+\"_\"+scaling+\"_whiskers_JQ1_logfch.pdf\")"
   ]
  },
  {
   "cell_type": "code",
   "execution_count": null,
   "metadata": {},
   "outputs": [],
   "source": [
    "ax =sns.boxplot(data=res,x='type',y='baseMean')\n",
    "ax.set_title(\"JQ1 base\")\n",
    "ax.figure.savefig('../results/'+project+\"/plots/\"+version+\"_\"+scaling+\"_whiskers_JQ1_baseMean.pdf\")"
   ]
  },
  {
   "cell_type": "code",
   "execution_count": null,
   "metadata": {},
   "outputs": [],
   "source": [
    "res = resMS2[resMS2.baseMean>10]\n",
    "res.baseMean= np.log2(1+res.baseMean)\n",
    "res[\"type\"] = ['ctf' if i else \"other\" for i in  res.genes.isin(ctf)]"
   ]
  },
  {
   "cell_type": "code",
   "execution_count": null,
   "metadata": {},
   "outputs": [],
   "source": [
    "ax =sns.boxplot(data=res,x='type',y='log2FoldChange')\n",
    "ax.set_title(\"MS2 foldChange\")\n",
    "ax.figure.savefig('../results/'+project+\"/plots/\"+version+\"_\"+scaling+\"_whiskers_MS2_logfch.pdf\")"
   ]
  },
  {
   "cell_type": "code",
   "execution_count": null,
   "metadata": {},
   "outputs": [],
   "source": [
    "ax = sns.boxplot(data=res,x='type',y='baseMean')\n",
    "ax.set_title(\"MS2 Base\")\n",
    "ax.figure.savefig('../results/'+project+\"/plots/\"+version+\"_\"+scaling+\"_whiskers_MS2_baseMean.pdf\")"
   ]
  },
  {
   "cell_type": "code",
   "execution_count": null,
   "metadata": {},
   "outputs": [],
   "source": [
    "res = resMS2_JQ1[resMS2_JQ1.baseMean>10]\n",
    "res.baseMean= np.log2(1+res.baseMean)\n",
    "res[\"type\"] = ['ctf' if i else \"other\" for i in  res.genes.isin(ctf)]"
   ]
  },
  {
   "cell_type": "code",
   "execution_count": null,
   "metadata": {},
   "outputs": [],
   "source": [
    "ax = sns.boxplot(data=res,x='type',y='log2FoldChange')\n",
    "ax.set_title(\"MS2+JQ1 foldChange\")\n",
    "ax.figure.savefig('../results/'+project+\"/plots/\"+version+\"_\"+scaling+\"_whiskers_MS2_JQ1_logfch.pdf\")"
   ]
  },
  {
   "cell_type": "code",
   "execution_count": null,
   "metadata": {},
   "outputs": [],
   "source": [
    "ax = sns.boxplot(data=res,x='type',y='baseMean')\n",
    "ax.set_title(\"MS2+JQ1 Base\")\n",
    "ax.figure.savefig('../results/'+project+\"/plots/\"+version+\"_\"+scaling+\"_whiskers_MS2_JQ1_baseMean.pdf\")"
   ]
  },
  {
   "cell_type": "markdown",
   "metadata": {},
   "source": [
    "## Scatter plot comparison"
   ]
  },
  {
   "cell_type": "code",
   "execution_count": null,
   "metadata": {},
   "outputs": [],
   "source": [
    "mix = pd.DataFrame()\n",
    "mix[\"gene_id\"] = resMybi30[\"gene_id\"]\n",
    "mix['Mybi 30mn'] = resMybi30.log2FoldChange\n",
    "mix['Mybi 6h'] = resMybi6.log2FoldChange"
   ]
  },
  {
   "cell_type": "code",
   "execution_count": null,
   "metadata": {},
   "outputs": [],
   "source": [
    "scatter(mix[['Mybi 30mn','Mybi 6h']].values[:12000], \n",
    "               mix['gene_id'].values.tolist()[:12000], radi= 0.06, alpha=0.3,\n",
    "              colors = [0 if i in ctf else 1 for i in mix['gene_id'].values.tolist()[:12000]],\n",
    "       xname=\"Mybi 30mn\",\n",
    "    yname=\"Mybi 6h\",\n",
    "       folder='../results/'+project+\"/plots/\"+version+\"_\"+scaling+\"_\",\n",
    "       title='Mybi 30mn vs 6h differences in logFoldChange')"
   ]
  },
  {
   "cell_type": "markdown",
   "metadata": {},
   "source": [
    "## Regular volcanos"
   ]
  },
  {
   "cell_type": "code",
   "execution_count": null,
   "metadata": {},
   "outputs": [],
   "source": [
    "resMS2.to_csv(\"../results/\"+project+\"/\"+version+'_'+scaling+\"_\"+str(minvar_toremove)+'_'+str(mincount_toremove)+'_MS2_deseq.csv')\n",
    "resJQ1.to_csv(\"../results/\"+project+\"/\"+version+'_'+scaling+\"_\"+str(minvar_toremove)+'_'+str(mincount_toremove)+'_JQ1_deseq.csv')\n",
    "resMS2_JQ1.to_csv(\"../results/\"+project+\"/\"+version+'_'+scaling+\"_\"+str(minvar_toremove)+'_'+str(mincount_toremove)+'_MS2_JQ1_deseq.csv')"
   ]
  },
  {
   "cell_type": "code",
   "execution_count": null,
   "metadata": {},
   "outputs": [],
   "source": [
    "resMybi30.to_csv(\"../results/\"+project+\"/\"+version+'_'+scaling+'_'+str(minvar_toremove)+'_'+str(mincount_toremove)+'_Mybi_30um_deseq.csv')\n",
    "resMybi6.to_csv(\"../results/\"+project+\"/\"+version+'_'+scaling+'_'+str(minvar_toremove)+'_'+str(mincount_toremove)+'_Mybi_6h_deseq.csv')"
   ]
  },
  {
   "cell_type": "code",
   "execution_count": null,
   "metadata": {},
   "outputs": [],
   "source": [
    "resMybi24.to_csv(\"../results/\"+project+\"/\"+version+'_'+scaling+'_'+str(minvar_toremove)+'_'+str(mincount_toremove)+'_Mybi_24h_deseq.csv')"
   ]
  },
  {
   "cell_type": "code",
   "execution_count": null,
   "metadata": {},
   "outputs": [],
   "source": [
    "resMEF2D2.to_csv(\"../results/\"+project+\"/\"+version+'_'+scaling+'_'+str(minvar_toremove)+'_'+str(mincount_toremove)+'_MEF2D_2h_deseq.csv')\n",
    "resMEF2D24.to_csv(\"../results/\"+project+\"/\"+version+'_'+scaling+'_'+str(minvar_toremove)+'_'+str(mincount_toremove)+'_MEF2D_24h_deseq.csv')"
   ]
  },
  {
   "cell_type": "markdown",
   "metadata": {},
   "source": [
    "we can conclude that we get similar results to the slamseq myc paper although it seems that our values are a bit skewed toward higher expression than what is on the slamseq paper. It mightt be explained by the pseudo count of 1 that I did not set. Because I think it would highly bias the DESeq algorithm."
   ]
  },
  {
   "cell_type": "code",
   "execution_count": null,
   "metadata": {},
   "outputs": [],
   "source": [
    "show(volcano(resMS2,tohighlight=ctf, searchbox=True, title='DESeq results of MV411 under MS2 in volcano plot', folder='../results/'+project+'/plots/'+version+'_'+scaling+\"_\"+str(minvar_toremove)+'_'+str(mincount_toremove)))\n",
    "show(volcano(resJQ1,tohighlight=ctf, searchbox=True, title='DESeq results of MV411 under JQ1 in volcano plot', folder='../results/'+project+'/plots/'+version+'_'+scaling+\"_\"+str(minvar_toremove)+'_'+str(mincount_toremove)))\n",
    "show(volcano(resMS2_JQ1,tohighlight=ctf, searchbox=True, title='DESeq results of MV411 under MS2 and JQ1 in volcano plot', folder='../results/'+project+'/plots/'+version+'_'+scaling+\"_\"+str(minvar_toremove)+'_'+str(mincount_toremove)))"
   ]
  },
  {
   "cell_type": "markdown",
   "metadata": {},
   "source": [
    "### Mybi"
   ]
  },
  {
   "cell_type": "code",
   "execution_count": null,
   "metadata": {},
   "outputs": [],
   "source": [
    "show(volcano(resMybi30,tohighlight=ctf, searchbox=True, title=\"Mybi at 30mn\", folder='../results/'+project+'/plots/'+version+'_'+scaling+\"_\"+str(minvar_toremove)+'_'+str(mincount_toremove)))"
   ]
  },
  {
   "cell_type": "code",
   "execution_count": null,
   "metadata": {},
   "outputs": [],
   "source": [
    "show(volcano(resMybi6,tohighlight=ctf, searchbox=True, title=\"Mybi at 6h\", folder='../results/'+project+'/plots/'+version+'_'+scaling+\"_\"+str(minvar_toremove)+'_'+str(mincount_toremove),maxvalue=50))"
   ]
  },
  {
   "cell_type": "code",
   "execution_count": null,
   "metadata": {},
   "outputs": [],
   "source": [
    "show(volcano(resMybi24,tohighlight=ctf, searchbox=True, title=\"Mybi at 24h\", folder='../results/'+project+'/plots/'+version+'_'+scaling+\"_\"+str(minvar_toremove)+'_'+str(mincount_toremove),maxvalue=50))"
   ]
  },
  {
   "cell_type": "markdown",
   "metadata": {},
   "source": [
    "### MEF2D"
   ]
  },
  {
   "cell_type": "code",
   "execution_count": null,
   "metadata": {},
   "outputs": [],
   "source": [
    "show(volcano(resMEF2D2,tohighlight=ctf, searchbox=True, title=\"MEF2D at 2h\", folder='../results/'+project+'/plots/'+version+'_'+scaling+\"_\"+str(minvar_toremove)+'_'+str(mincount_toremove),maxvalue=50))\n",
    "show(volcano(resMEF2D24,tohighlight=ctf, searchbox=True, title=\"MEF2D at 24h\", folder='../results/'+project+'/plots/'+version+'_'+scaling+\"_\"+str(minvar_toremove)+'_'+str(mincount_toremove),maxvalue=50))"
   ]
  },
  {
   "cell_type": "markdown",
   "metadata": {},
   "source": [
    "### Readcounts version"
   ]
  },
  {
   "cell_type": "code",
   "execution_count": null,
   "metadata": {},
   "outputs": [],
   "source": [
    "%store res\n",
    "\n",
    "%store tccounts\n",
    "%store readcounts\n",
    "\n",
    "%store tccountsMyci\n",
    "%store tccountsMybi\n",
    "%store tccountsMEF2D\n",
    "\n",
    "%store designMS2\n",
    "%store designJQ1\n",
    "%store designMS2_JQ1\n",
    "\n",
    "%store designMybi30\n",
    "%store designMybi6\n",
    "%store designMybi24\n",
    "\n",
    "%store designMEF2D2\n",
    "%store designMEF2D24\n",
    "\n",
    "%store ctf\n",
    "\n",
    "%store resMEF2D24\n",
    "%store resMEF2D2\n",
    "\n",
    "%store resMybi30\n",
    "%store resMybi6\n",
    "%store resMybi24"
   ]
  },
  {
   "cell_type": "code",
   "execution_count": null,
   "metadata": {},
   "outputs": [],
   "source": []
  }
 ],
 "metadata": {
  "kernelspec": {
   "display_name": "Python 3",
   "language": "python",
   "name": "python3"
  },
  "language_info": {
   "codemirror_mode": {
    "name": "ipython",
    "version": 3
   },
   "file_extension": ".py",
   "mimetype": "text/x-python",
   "name": "python",
   "nbconvert_exporter": "python",
   "pygments_lexer": "ipython3",
   "version": "3.8.3rc1"
  },
  "latex_envs": {
   "LaTeX_envs_menu_present": true,
   "autoclose": false,
   "autocomplete": true,
   "bibliofile": "biblio.bib",
   "cite_by": "apalike",
   "current_citInitial": 1,
   "eqLabelWithNumbers": true,
   "eqNumInitial": 1,
   "hotkeys": {
    "equation": "Ctrl-E",
    "itemize": "Ctrl-I"
   },
   "labels_anchors": false,
   "latex_user_defs": false,
   "report_style_numbering": false,
   "user_envs_cfg": false
  },
  "toc": {
   "base_numbering": 1,
   "nav_menu": {},
   "number_sections": false,
   "sideBar": true,
   "skip_h1_title": false,
   "title_cell": "Table of Contents",
   "title_sidebar": "Contents",
   "toc_cell": false,
   "toc_position": {
    "height": "calc(100% - 180px)",
    "left": "10px",
    "top": "150px",
    "width": "230.4px"
   },
   "toc_section_display": true,
   "toc_window_display": true
  },
  "varInspector": {
   "cols": {
    "lenName": 16,
    "lenType": 16,
    "lenVar": 40
   },
   "kernels_config": {
    "python": {
     "delete_cmd_postfix": "",
     "delete_cmd_prefix": "del ",
     "library": "var_list.py",
     "varRefreshCmd": "print(var_dic_list())"
    },
    "r": {
     "delete_cmd_postfix": ") ",
     "delete_cmd_prefix": "rm(",
     "library": "var_list.r",
     "varRefreshCmd": "cat(var_dic_list()) "
    }
   },
   "types_to_exclude": [
    "module",
    "function",
    "builtin_function_or_method",
    "instance",
    "_Feature"
   ],
   "window_display": false
  }
 },
 "nbformat": 4,
 "nbformat_minor": 2
}
