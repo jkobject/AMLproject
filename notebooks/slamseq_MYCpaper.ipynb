{
 "cells": [
  {
   "cell_type": "code",
   "execution_count": 10,
   "metadata": {},
   "outputs": [
    {
     "name": "stdout",
     "output_type": "stream",
     "text": [
      "The autoreload extension is already loaded. To reload it, use:\n",
      "  %reload_ext autoreload\n",
      "The rpy2.ipython extension is already loaded. To reload it, use:\n",
      "  %reload_ext rpy2.ipython\n"
     ]
    },
    {
     "data": {
      "text/html": [
       "\n",
       "    <div class=\"bk-root\">\n",
       "        <a href=\"https://bokeh.org\" target=\"_blank\" class=\"bk-logo bk-logo-small bk-logo-notebook\"></a>\n",
       "        <span id=\"1004\">Loading BokehJS ...</span>\n",
       "    </div>"
      ]
     },
     "metadata": {},
     "output_type": "display_data"
    },
    {
     "data": {
      "application/javascript": [
       "\n",
       "(function(root) {\n",
       "  function now() {\n",
       "    return new Date();\n",
       "  }\n",
       "\n",
       "  var force = true;\n",
       "\n",
       "  if (typeof root._bokeh_onload_callbacks === \"undefined\" || force === true) {\n",
       "    root._bokeh_onload_callbacks = [];\n",
       "    root._bokeh_is_loading = undefined;\n",
       "  }\n",
       "\n",
       "  var JS_MIME_TYPE = 'application/javascript';\n",
       "  var HTML_MIME_TYPE = 'text/html';\n",
       "  var EXEC_MIME_TYPE = 'application/vnd.bokehjs_exec.v0+json';\n",
       "  var CLASS_NAME = 'output_bokeh rendered_html';\n",
       "\n",
       "  /**\n",
       "   * Render data to the DOM node\n",
       "   */\n",
       "  function render(props, node) {\n",
       "    var script = document.createElement(\"script\");\n",
       "    node.appendChild(script);\n",
       "  }\n",
       "\n",
       "  /**\n",
       "   * Handle when an output is cleared or removed\n",
       "   */\n",
       "  function handleClearOutput(event, handle) {\n",
       "    var cell = handle.cell;\n",
       "\n",
       "    var id = cell.output_area._bokeh_element_id;\n",
       "    var server_id = cell.output_area._bokeh_server_id;\n",
       "    // Clean up Bokeh references\n",
       "    if (id != null && id in Bokeh.index) {\n",
       "      Bokeh.index[id].model.document.clear();\n",
       "      delete Bokeh.index[id];\n",
       "    }\n",
       "\n",
       "    if (server_id !== undefined) {\n",
       "      // Clean up Bokeh references\n",
       "      var cmd = \"from bokeh.io.state import curstate; print(curstate().uuid_to_server['\" + server_id + \"'].get_sessions()[0].document.roots[0]._id)\";\n",
       "      cell.notebook.kernel.execute(cmd, {\n",
       "        iopub: {\n",
       "          output: function(msg) {\n",
       "            var id = msg.content.text.trim();\n",
       "            if (id in Bokeh.index) {\n",
       "              Bokeh.index[id].model.document.clear();\n",
       "              delete Bokeh.index[id];\n",
       "            }\n",
       "          }\n",
       "        }\n",
       "      });\n",
       "      // Destroy server and session\n",
       "      var cmd = \"import bokeh.io.notebook as ion; ion.destroy_server('\" + server_id + \"')\";\n",
       "      cell.notebook.kernel.execute(cmd);\n",
       "    }\n",
       "  }\n",
       "\n",
       "  /**\n",
       "   * Handle when a new output is added\n",
       "   */\n",
       "  function handleAddOutput(event, handle) {\n",
       "    var output_area = handle.output_area;\n",
       "    var output = handle.output;\n",
       "\n",
       "    // limit handleAddOutput to display_data with EXEC_MIME_TYPE content only\n",
       "    if ((output.output_type != \"display_data\") || (!output.data.hasOwnProperty(EXEC_MIME_TYPE))) {\n",
       "      return\n",
       "    }\n",
       "\n",
       "    var toinsert = output_area.element.find(\".\" + CLASS_NAME.split(' ')[0]);\n",
       "\n",
       "    if (output.metadata[EXEC_MIME_TYPE][\"id\"] !== undefined) {\n",
       "      toinsert[toinsert.length - 1].firstChild.textContent = output.data[JS_MIME_TYPE];\n",
       "      // store reference to embed id on output_area\n",
       "      output_area._bokeh_element_id = output.metadata[EXEC_MIME_TYPE][\"id\"];\n",
       "    }\n",
       "    if (output.metadata[EXEC_MIME_TYPE][\"server_id\"] !== undefined) {\n",
       "      var bk_div = document.createElement(\"div\");\n",
       "      bk_div.innerHTML = output.data[HTML_MIME_TYPE];\n",
       "      var script_attrs = bk_div.children[0].attributes;\n",
       "      for (var i = 0; i < script_attrs.length; i++) {\n",
       "        toinsert[toinsert.length - 1].firstChild.setAttribute(script_attrs[i].name, script_attrs[i].value);\n",
       "      }\n",
       "      // store reference to server id on output_area\n",
       "      output_area._bokeh_server_id = output.metadata[EXEC_MIME_TYPE][\"server_id\"];\n",
       "    }\n",
       "  }\n",
       "\n",
       "  function register_renderer(events, OutputArea) {\n",
       "\n",
       "    function append_mime(data, metadata, element) {\n",
       "      // create a DOM node to render to\n",
       "      var toinsert = this.create_output_subarea(\n",
       "        metadata,\n",
       "        CLASS_NAME,\n",
       "        EXEC_MIME_TYPE\n",
       "      );\n",
       "      this.keyboard_manager.register_events(toinsert);\n",
       "      // Render to node\n",
       "      var props = {data: data, metadata: metadata[EXEC_MIME_TYPE]};\n",
       "      render(props, toinsert[toinsert.length - 1]);\n",
       "      element.append(toinsert);\n",
       "      return toinsert\n",
       "    }\n",
       "\n",
       "    /* Handle when an output is cleared or removed */\n",
       "    events.on('clear_output.CodeCell', handleClearOutput);\n",
       "    events.on('delete.Cell', handleClearOutput);\n",
       "\n",
       "    /* Handle when a new output is added */\n",
       "    events.on('output_added.OutputArea', handleAddOutput);\n",
       "\n",
       "    /**\n",
       "     * Register the mime type and append_mime function with output_area\n",
       "     */\n",
       "    OutputArea.prototype.register_mime_type(EXEC_MIME_TYPE, append_mime, {\n",
       "      /* Is output safe? */\n",
       "      safe: true,\n",
       "      /* Index of renderer in `output_area.display_order` */\n",
       "      index: 0\n",
       "    });\n",
       "  }\n",
       "\n",
       "  // register the mime type if in Jupyter Notebook environment and previously unregistered\n",
       "  if (root.Jupyter !== undefined) {\n",
       "    var events = require('base/js/events');\n",
       "    var OutputArea = require('notebook/js/outputarea').OutputArea;\n",
       "\n",
       "    if (OutputArea.prototype.mime_types().indexOf(EXEC_MIME_TYPE) == -1) {\n",
       "      register_renderer(events, OutputArea);\n",
       "    }\n",
       "  }\n",
       "\n",
       "  \n",
       "  if (typeof (root._bokeh_timeout) === \"undefined\" || force === true) {\n",
       "    root._bokeh_timeout = Date.now() + 5000;\n",
       "    root._bokeh_failed_load = false;\n",
       "  }\n",
       "\n",
       "  var NB_LOAD_WARNING = {'data': {'text/html':\n",
       "     \"<div style='background-color: #fdd'>\\n\"+\n",
       "     \"<p>\\n\"+\n",
       "     \"BokehJS does not appear to have successfully loaded. If loading BokehJS from CDN, this \\n\"+\n",
       "     \"may be due to a slow or bad network connection. Possible fixes:\\n\"+\n",
       "     \"</p>\\n\"+\n",
       "     \"<ul>\\n\"+\n",
       "     \"<li>re-rerun `output_notebook()` to attempt to load from CDN again, or</li>\\n\"+\n",
       "     \"<li>use INLINE resources instead, as so:</li>\\n\"+\n",
       "     \"</ul>\\n\"+\n",
       "     \"<code>\\n\"+\n",
       "     \"from bokeh.resources import INLINE\\n\"+\n",
       "     \"output_notebook(resources=INLINE)\\n\"+\n",
       "     \"</code>\\n\"+\n",
       "     \"</div>\"}};\n",
       "\n",
       "  function display_loaded() {\n",
       "    var el = document.getElementById(\"1004\");\n",
       "    if (el != null) {\n",
       "      el.textContent = \"BokehJS is loading...\";\n",
       "    }\n",
       "    if (root.Bokeh !== undefined) {\n",
       "      if (el != null) {\n",
       "        el.textContent = \"BokehJS \" + root.Bokeh.version + \" successfully loaded.\";\n",
       "      }\n",
       "    } else if (Date.now() < root._bokeh_timeout) {\n",
       "      setTimeout(display_loaded, 100)\n",
       "    }\n",
       "  }\n",
       "\n",
       "\n",
       "  function run_callbacks() {\n",
       "    try {\n",
       "      root._bokeh_onload_callbacks.forEach(function(callback) {\n",
       "        if (callback != null)\n",
       "          callback();\n",
       "      });\n",
       "    } finally {\n",
       "      delete root._bokeh_onload_callbacks\n",
       "    }\n",
       "    console.debug(\"Bokeh: all callbacks have finished\");\n",
       "  }\n",
       "\n",
       "  function load_libs(css_urls, js_urls, callback) {\n",
       "    if (css_urls == null) css_urls = [];\n",
       "    if (js_urls == null) js_urls = [];\n",
       "\n",
       "    root._bokeh_onload_callbacks.push(callback);\n",
       "    if (root._bokeh_is_loading > 0) {\n",
       "      console.debug(\"Bokeh: BokehJS is being loaded, scheduling callback at\", now());\n",
       "      return null;\n",
       "    }\n",
       "    if (js_urls == null || js_urls.length === 0) {\n",
       "      run_callbacks();\n",
       "      return null;\n",
       "    }\n",
       "    console.debug(\"Bokeh: BokehJS not loaded, scheduling load and callback at\", now());\n",
       "    root._bokeh_is_loading = css_urls.length + js_urls.length;\n",
       "\n",
       "    function on_load() {\n",
       "      root._bokeh_is_loading--;\n",
       "      if (root._bokeh_is_loading === 0) {\n",
       "        console.debug(\"Bokeh: all BokehJS libraries/stylesheets loaded\");\n",
       "        run_callbacks()\n",
       "      }\n",
       "    }\n",
       "\n",
       "    function on_error() {\n",
       "      console.error(\"failed to load \" + url);\n",
       "    }\n",
       "\n",
       "    for (var i = 0; i < css_urls.length; i++) {\n",
       "      var url = css_urls[i];\n",
       "      const element = document.createElement(\"link\");\n",
       "      element.onload = on_load;\n",
       "      element.onerror = on_error;\n",
       "      element.rel = \"stylesheet\";\n",
       "      element.type = \"text/css\";\n",
       "      element.href = url;\n",
       "      console.debug(\"Bokeh: injecting link tag for BokehJS stylesheet: \", url);\n",
       "      document.body.appendChild(element);\n",
       "    }\n",
       "\n",
       "    for (var i = 0; i < js_urls.length; i++) {\n",
       "      var url = js_urls[i];\n",
       "      var element = document.createElement('script');\n",
       "      element.onload = on_load;\n",
       "      element.onerror = on_error;\n",
       "      element.async = false;\n",
       "      element.src = url;\n",
       "      console.debug(\"Bokeh: injecting script tag for BokehJS library: \", url);\n",
       "      document.head.appendChild(element);\n",
       "    }\n",
       "  };var element = document.getElementById(\"1004\");\n",
       "  if (element == null) {\n",
       "    console.error(\"Bokeh: ERROR: autoload.js configured with elementid '1004' but no matching script tag was found. \")\n",
       "    return false;\n",
       "  }\n",
       "\n",
       "  function inject_raw_css(css) {\n",
       "    const element = document.createElement(\"style\");\n",
       "    element.appendChild(document.createTextNode(css));\n",
       "    document.body.appendChild(element);\n",
       "  }\n",
       "\n",
       "  \n",
       "  var js_urls = [\"https://cdn.pydata.org/bokeh/release/bokeh-1.4.0.min.js\", \"https://cdn.pydata.org/bokeh/release/bokeh-widgets-1.4.0.min.js\", \"https://cdn.pydata.org/bokeh/release/bokeh-tables-1.4.0.min.js\", \"https://cdn.pydata.org/bokeh/release/bokeh-gl-1.4.0.min.js\"];\n",
       "  var css_urls = [];\n",
       "  \n",
       "\n",
       "  var inline_js = [\n",
       "    function(Bokeh) {\n",
       "      Bokeh.set_log_level(\"info\");\n",
       "    },\n",
       "    function(Bokeh) {\n",
       "    \n",
       "    \n",
       "    }\n",
       "  ];\n",
       "\n",
       "  function run_inline_js() {\n",
       "    \n",
       "    if (root.Bokeh !== undefined || force === true) {\n",
       "      \n",
       "    for (var i = 0; i < inline_js.length; i++) {\n",
       "      inline_js[i].call(root, root.Bokeh);\n",
       "    }\n",
       "    if (force === true) {\n",
       "        display_loaded();\n",
       "      }} else if (Date.now() < root._bokeh_timeout) {\n",
       "      setTimeout(run_inline_js, 100);\n",
       "    } else if (!root._bokeh_failed_load) {\n",
       "      console.log(\"Bokeh: BokehJS failed to load within specified timeout.\");\n",
       "      root._bokeh_failed_load = true;\n",
       "    } else if (force !== true) {\n",
       "      var cell = $(document.getElementById(\"1004\")).parents('.cell').data().cell;\n",
       "      cell.output_area.append_execute_result(NB_LOAD_WARNING)\n",
       "    }\n",
       "\n",
       "  }\n",
       "\n",
       "  if (root._bokeh_is_loading === 0) {\n",
       "    console.debug(\"Bokeh: BokehJS loaded, going straight to plotting\");\n",
       "    run_inline_js();\n",
       "  } else {\n",
       "    load_libs(css_urls, js_urls, function() {\n",
       "      console.debug(\"Bokeh: BokehJS plotting callback run at\", now());\n",
       "      run_inline_js();\n",
       "    });\n",
       "  }\n",
       "}(window));"
      ],
      "application/vnd.bokehjs_load.v0+json": "\n(function(root) {\n  function now() {\n    return new Date();\n  }\n\n  var force = true;\n\n  if (typeof root._bokeh_onload_callbacks === \"undefined\" || force === true) {\n    root._bokeh_onload_callbacks = [];\n    root._bokeh_is_loading = undefined;\n  }\n\n  \n\n  \n  if (typeof (root._bokeh_timeout) === \"undefined\" || force === true) {\n    root._bokeh_timeout = Date.now() + 5000;\n    root._bokeh_failed_load = false;\n  }\n\n  var NB_LOAD_WARNING = {'data': {'text/html':\n     \"<div style='background-color: #fdd'>\\n\"+\n     \"<p>\\n\"+\n     \"BokehJS does not appear to have successfully loaded. If loading BokehJS from CDN, this \\n\"+\n     \"may be due to a slow or bad network connection. Possible fixes:\\n\"+\n     \"</p>\\n\"+\n     \"<ul>\\n\"+\n     \"<li>re-rerun `output_notebook()` to attempt to load from CDN again, or</li>\\n\"+\n     \"<li>use INLINE resources instead, as so:</li>\\n\"+\n     \"</ul>\\n\"+\n     \"<code>\\n\"+\n     \"from bokeh.resources import INLINE\\n\"+\n     \"output_notebook(resources=INLINE)\\n\"+\n     \"</code>\\n\"+\n     \"</div>\"}};\n\n  function display_loaded() {\n    var el = document.getElementById(\"1004\");\n    if (el != null) {\n      el.textContent = \"BokehJS is loading...\";\n    }\n    if (root.Bokeh !== undefined) {\n      if (el != null) {\n        el.textContent = \"BokehJS \" + root.Bokeh.version + \" successfully loaded.\";\n      }\n    } else if (Date.now() < root._bokeh_timeout) {\n      setTimeout(display_loaded, 100)\n    }\n  }\n\n\n  function run_callbacks() {\n    try {\n      root._bokeh_onload_callbacks.forEach(function(callback) {\n        if (callback != null)\n          callback();\n      });\n    } finally {\n      delete root._bokeh_onload_callbacks\n    }\n    console.debug(\"Bokeh: all callbacks have finished\");\n  }\n\n  function load_libs(css_urls, js_urls, callback) {\n    if (css_urls == null) css_urls = [];\n    if (js_urls == null) js_urls = [];\n\n    root._bokeh_onload_callbacks.push(callback);\n    if (root._bokeh_is_loading > 0) {\n      console.debug(\"Bokeh: BokehJS is being loaded, scheduling callback at\", now());\n      return null;\n    }\n    if (js_urls == null || js_urls.length === 0) {\n      run_callbacks();\n      return null;\n    }\n    console.debug(\"Bokeh: BokehJS not loaded, scheduling load and callback at\", now());\n    root._bokeh_is_loading = css_urls.length + js_urls.length;\n\n    function on_load() {\n      root._bokeh_is_loading--;\n      if (root._bokeh_is_loading === 0) {\n        console.debug(\"Bokeh: all BokehJS libraries/stylesheets loaded\");\n        run_callbacks()\n      }\n    }\n\n    function on_error() {\n      console.error(\"failed to load \" + url);\n    }\n\n    for (var i = 0; i < css_urls.length; i++) {\n      var url = css_urls[i];\n      const element = document.createElement(\"link\");\n      element.onload = on_load;\n      element.onerror = on_error;\n      element.rel = \"stylesheet\";\n      element.type = \"text/css\";\n      element.href = url;\n      console.debug(\"Bokeh: injecting link tag for BokehJS stylesheet: \", url);\n      document.body.appendChild(element);\n    }\n\n    for (var i = 0; i < js_urls.length; i++) {\n      var url = js_urls[i];\n      var element = document.createElement('script');\n      element.onload = on_load;\n      element.onerror = on_error;\n      element.async = false;\n      element.src = url;\n      console.debug(\"Bokeh: injecting script tag for BokehJS library: \", url);\n      document.head.appendChild(element);\n    }\n  };var element = document.getElementById(\"1004\");\n  if (element == null) {\n    console.error(\"Bokeh: ERROR: autoload.js configured with elementid '1004' but no matching script tag was found. \")\n    return false;\n  }\n\n  function inject_raw_css(css) {\n    const element = document.createElement(\"style\");\n    element.appendChild(document.createTextNode(css));\n    document.body.appendChild(element);\n  }\n\n  \n  var js_urls = [\"https://cdn.pydata.org/bokeh/release/bokeh-1.4.0.min.js\", \"https://cdn.pydata.org/bokeh/release/bokeh-widgets-1.4.0.min.js\", \"https://cdn.pydata.org/bokeh/release/bokeh-tables-1.4.0.min.js\", \"https://cdn.pydata.org/bokeh/release/bokeh-gl-1.4.0.min.js\"];\n  var css_urls = [];\n  \n\n  var inline_js = [\n    function(Bokeh) {\n      Bokeh.set_log_level(\"info\");\n    },\n    function(Bokeh) {\n    \n    \n    }\n  ];\n\n  function run_inline_js() {\n    \n    if (root.Bokeh !== undefined || force === true) {\n      \n    for (var i = 0; i < inline_js.length; i++) {\n      inline_js[i].call(root, root.Bokeh);\n    }\n    if (force === true) {\n        display_loaded();\n      }} else if (Date.now() < root._bokeh_timeout) {\n      setTimeout(run_inline_js, 100);\n    } else if (!root._bokeh_failed_load) {\n      console.log(\"Bokeh: BokehJS failed to load within specified timeout.\");\n      root._bokeh_failed_load = true;\n    } else if (force !== true) {\n      var cell = $(document.getElementById(\"1004\")).parents('.cell').data().cell;\n      cell.output_area.append_execute_result(NB_LOAD_WARNING)\n    }\n\n  }\n\n  if (root._bokeh_is_loading === 0) {\n    console.debug(\"Bokeh: BokehJS loaded, going straight to plotting\");\n    run_inline_js();\n  } else {\n    load_libs(css_urls, js_urls, function() {\n      console.debug(\"Bokeh: BokehJS plotting callback run at\", now());\n      run_inline_js();\n    });\n  }\n}(window));"
     },
     "metadata": {},
     "output_type": "display_data"
    }
   ],
   "source": [
    "from __future__ import print_function\n",
    "import os.path\n",
    "import pandas as pd\n",
    "import sys\n",
    "sys.path.insert(0, '../..')\n",
    "%load_ext autoreload\n",
    "from JKBio import Helper as h\n",
    "%autoreload 2\n",
    "%load_ext rpy2.ipython\n",
    "import numpy as np\n",
    "from bokeh.plotting import *\n",
    "from bokeh.models import HoverTool\n",
    "output_notebook()\n",
    "import matplotlib.pyplot as plt\n",
    "%matplotlib inline\n",
    "import seaborn as sns\n",
    "from JKBio.helper import pyDESeq2 as pyDESeq2\n",
    "from sklearn.neighbors import KNeighborsClassifier\n",
    "from sklearn.manifold import MDS, TSNE\n",
    "from sklearn.decomposition import PCA\n",
    "from sklearn.preprocessing import scale\n",
    "#from umap import UMAP"
   ]
  },
  {
   "cell_type": "code",
   "execution_count": null,
   "metadata": {},
   "outputs": [],
   "source": [
    "! mkdir ../../data/slam/MYCpaper && cd ../../data/slam/MYCpaper && fastq_dump SRR5806781 && fastq_dump SRR5806783 && fastq_dump SRR5806785 &&\n",
    "fastq_dump SRR5806780 && fastq_dump SRR5806782 && fastq_dump SRR5806784 && cd -"
   ]
  },
  {
   "cell_type": "code",
   "execution_count": 355,
   "metadata": {},
   "outputs": [
    {
     "name": "stdout",
     "output_type": "stream",
     "text": [
      "\u001b[0m\u001b[01;34mresMYCv3\u001b[0m/           SRR5806781_1.fastq  SRR5806783_1.fastq  SRR5806785_1.fastq\r\n",
      "SRR5806780_1.fastq  SRR5806782_1.fastq  SRR5806784_1.fastq\r\n"
     ]
    }
   ],
   "source": [
    "ls ../../data/slam/MYCpaper"
   ]
  },
  {
   "cell_type": "code",
   "execution_count": 357,
   "metadata": {},
   "outputs": [],
   "source": [
    "folder_bams = \"../../data/slam/MYCpaper/\"\n",
    "bams = ! ls $folder_bams\n",
    "bams"
   ]
  },
  {
   "cell_type": "code",
   "execution_count": 390,
   "metadata": {},
   "outputs": [
    {
     "name": "stdout",
     "output_type": "stream",
     "text": [
      "Collecting git+https://github.com/jkobject/slamdunk.git\n",
      "  Cloning https://github.com/jkobject/slamdunk.git to /tmp/pip-req-build-efih3o71\n",
      "Requirement already satisfied, skipping upgrade: joblib>=0.9.4 in /home/jeremie/.local/lib/python3.7/site-packages (from slamdunk==0.4.0) (0.14.1)\n",
      "Requirement already satisfied, skipping upgrade: pybedtools>=0.6.4 in /home/jeremie/.local/lib/python3.7/site-packages (from slamdunk==0.4.0) (0.8.1)\n",
      "Requirement already satisfied, skipping upgrade: intervaltree>=2.1.0 in /home/jeremie/.local/lib/python3.7/site-packages (from slamdunk==0.4.0) (3.0.2)\n",
      "Requirement already satisfied, skipping upgrade: pandas>=0.13.1 in /home/jeremie/.local/lib/python3.7/site-packages (from slamdunk==0.4.0) (0.25.3)\n",
      "Requirement already satisfied, skipping upgrade: biopython>=1.63 in /home/jeremie/.local/lib/python3.7/site-packages (from slamdunk==0.4.0) (1.76)\n",
      "Requirement already satisfied, skipping upgrade: pysam>=0.8.3 in /home/jeremie/.local/lib/python3.7/site-packages (from slamdunk==0.4.0) (0.15.3)\n",
      "Requirement already satisfied, skipping upgrade: Cython>=0.20.1 in /home/jeremie/.local/lib/python3.7/site-packages (from slamdunk==0.4.0) (0.29.14)\n",
      "Requirement already satisfied, skipping upgrade: six in /usr/lib/python3/dist-packages (from pybedtools>=0.6.4->slamdunk==0.4.0) (1.10.0)\n",
      "Requirement already satisfied, skipping upgrade: sortedcontainers<3.0,>=2.0 in /home/jeremie/.local/lib/python3.7/site-packages (from intervaltree>=2.1.0->slamdunk==0.4.0) (2.1.0)\n",
      "Requirement already satisfied, skipping upgrade: numpy>=1.13.3 in /home/jeremie/.local/lib/python3.7/site-packages (from pandas>=0.13.1->slamdunk==0.4.0) (1.18.1)\n",
      "Requirement already satisfied, skipping upgrade: python-dateutil>=2.6.1 in /home/jeremie/.local/lib/python3.7/site-packages (from pandas>=0.13.1->slamdunk==0.4.0) (2.8.1)\n",
      "Requirement already satisfied, skipping upgrade: pytz>=2017.2 in /home/jeremie/.local/lib/python3.7/site-packages (from pandas>=0.13.1->slamdunk==0.4.0) (2019.3)\n",
      "Building wheels for collected packages: slamdunk\n",
      "  Running setup.py bdist_wheel for slamdunk ... \u001b[?25ldone\n",
      "\u001b[?25h  Stored in directory: /tmp/pip-ephem-wheel-cache-fhh0yj8w/wheels/4c/b2/9c/e1153807b1571f6f12ee9761dcf5229ceee161c5c575b631fd\n",
      "Successfully built slamdunk\n",
      "Installing collected packages: slamdunk\n",
      "  Found existing installation: slamdunk 0.4.0\n",
      "    Uninstalling slamdunk-0.4.0:\n",
      "      Successfully uninstalled slamdunk-0.4.0\n",
      "Successfully installed slamdunk-0.4.0\n"
     ]
    }
   ],
   "source": [
    "! pip3 install git+https://github.com/jkobject/slamdunk.git --upgrade"
   ]
  },
  {
   "cell_type": "code",
   "execution_count": 366,
   "metadata": {
    "scrolled": true
   },
   "outputs": [
    {
     "name": "stdout",
     "output_type": "stream",
     "text": [
      "SRR5806781_1.fastq\n",
      "SRR5806782_1.fastq\n",
      "SRR5806783_1.fastq\n",
      "SRR5806784_1.fastq\n",
      "SRR5806785_1.fastq\n"
     ]
    }
   ],
   "source": [
    "for val in bams[1:]:\n",
    "    print(val)\n",
    "    os.system('../../TrimGalore-0.6.5/trim_galore -stringency 3 \\\n",
    "    --illumina '+folder_bams+val + ' -o '+folder_bams) "
   ]
  },
  {
   "cell_type": "code",
   "execution_count": 371,
   "metadata": {},
   "outputs": [
    {
     "name": "stdout",
     "output_type": "stream",
     "text": [
      "total 8\r\n",
      "drwxr-xr-x 2 jeremie jeremie 4096 Feb 13 15:24 \u001b[0m\u001b[01;34m.\u001b[0m/\r\n",
      "drwxr-xr-x 6 jeremie jeremie 4096 Feb 13 15:24 \u001b[01;34m..\u001b[0m/\r\n"
     ]
    }
   ],
   "source": [
    "ls -al ../../data/slam/res/count"
   ]
  },
  {
   "cell_type": "code",
   "execution_count": 368,
   "metadata": {},
   "outputs": [
    {
     "name": "stdout",
     "output_type": "stream",
     "text": [
      "SRR5806781_1.fastq\n",
      "SRR5806782_1.fastq\n",
      "SRR5806783_1.fastq\n",
      "SRR5806784_1.fastq\n",
      "SRR5806785_1.fastq\n"
     ]
    }
   ],
   "source": [
    "for val in bams[1:]:\n",
    "    print(val)\n",
    "    os.system('slamdunk all -r ../../data/slam/ref_genome.fa -b ../../data/slam/GSE100708_hg38_refseq_062016_ensemblv84_3UTR.bed \\\n",
    "    -o ../../data/slam/res/ -t 8 -c 2 '+folder_bams+val.split('.')[0]+'_trimmed.fq')"
   ]
  },
  {
   "cell_type": "code",
   "execution_count": 373,
   "metadata": {},
   "outputs": [
    {
     "name": "stdout",
     "output_type": "stream",
     "text": [
      "total 5351016\r\n",
      "drwxr-xr-x 2 jeremie jeremie       4096 Feb 13 17:51 \u001b[0m\u001b[01;34m.\u001b[0m/\r\n",
      "drwxr-xr-x 6 jeremie jeremie       4096 Feb 13 15:24 \u001b[01;34m..\u001b[0m/\r\n",
      "-rw-r--r-- 1 jeremie jeremie  867853110 Feb 13 15:12 SRR5806781_1_trimmed_slamdunk_mapped_filtered.bam\r\n",
      "-rw-r--r-- 1 jeremie jeremie    4061152 Feb 13 15:13 SRR5806781_1_trimmed_slamdunk_mapped_filtered.bam.bai\r\n",
      "-rw-r--r-- 1 jeremie jeremie        190 Feb 13 15:13 SRR5806781_1_trimmed_slamdunk_mapped_filtered.log\r\n",
      "-rw-r--r-- 1 jeremie jeremie 1376536652 Feb 13 15:54 SRR5806782_1_trimmed_slamdunk_mapped_filtered.bam\r\n",
      "-rw-r--r-- 1 jeremie jeremie    4206424 Feb 13 15:55 SRR5806782_1_trimmed_slamdunk_mapped_filtered.bam.bai\r\n",
      "-rw-r--r-- 1 jeremie jeremie        190 Feb 13 15:55 SRR5806782_1_trimmed_slamdunk_mapped_filtered.log\r\n",
      "-rw-r--r-- 1 jeremie jeremie  881266957 Feb 13 16:31 SRR5806783_1_trimmed_slamdunk_mapped_filtered.bam\r\n",
      "-rw-r--r-- 1 jeremie jeremie    4045448 Feb 13 16:31 SRR5806783_1_trimmed_slamdunk_mapped_filtered.bam.bai\r\n",
      "-rw-r--r-- 1 jeremie jeremie        190 Feb 13 16:31 SRR5806783_1_trimmed_slamdunk_mapped_filtered.log\r\n",
      "-rw-r--r-- 1 jeremie jeremie 1288393684 Feb 13 17:13 SRR5806784_1_trimmed_slamdunk_mapped_filtered.bam\r\n",
      "-rw-r--r-- 1 jeremie jeremie    4091432 Feb 13 17:14 SRR5806784_1_trimmed_slamdunk_mapped_filtered.bam.bai\r\n",
      "-rw-r--r-- 1 jeremie jeremie        190 Feb 13 17:14 SRR5806784_1_trimmed_slamdunk_mapped_filtered.log\r\n",
      "-rw-r--r-- 1 jeremie jeremie 1044855105 Feb 13 17:50 SRR5806785_1_trimmed_slamdunk_mapped_filtered.bam\r\n",
      "-rw-r--r-- 1 jeremie jeremie    4060144 Feb 13 17:51 SRR5806785_1_trimmed_slamdunk_mapped_filtered.bam.bai\r\n",
      "-rw-r--r-- 1 jeremie jeremie        190 Feb 13 17:51 SRR5806785_1_trimmed_slamdunk_mapped_filtered.log\r\n"
     ]
    }
   ],
   "source": [
    "ls -al ../../data/slam/res/filter"
   ]
  },
  {
   "cell_type": "code",
   "execution_count": 391,
   "metadata": {
    "scrolled": true
   },
   "outputs": [
    {
     "name": "stdout",
     "output_type": "stream",
     "text": [
      "SRR5806781_1.fastq\n",
      "SRR5806782_1.fastq\n",
      "SRR5806783_1.fastq\n",
      "SRR5806784_1.fastq\n",
      "SRR5806785_1.fastq\n"
     ]
    }
   ],
   "source": [
    "for val in bams[1:]:\n",
    "    print(val)\n",
    "    os.system('slamdunk count -r ../../data/slam/ref_genome.fa \\\n",
    "    -b ../../data/slam/GSE100708_hg38_refseq_062016_ensemblv84_3UTR.bed \\\n",
    "    -o ../../data/slam/res/count/ -t 8 -c 2 -s ../../data/slam/res/snp \\\n",
    "    ../../data/slam/res/filter/'+ val.split('.')[0]+\"_trimmed_slamdunk_mapped_filtered.bam\")"
   ]
  },
  {
   "cell_type": "markdown",
   "metadata": {},
   "source": [
    "# we first need to recreate out RNA matrix from slamdunk's tcount files"
   ]
  },
  {
   "cell_type": "code",
   "execution_count": 414,
   "metadata": {},
   "outputs": [],
   "source": [
    "location= '../../data/slam/resMYCpaper/count/*.tsv' # ../data/slamseq_data/"
   ]
  },
  {
   "cell_type": "code",
   "execution_count": 415,
   "metadata": {
    "scrolled": true
   },
   "outputs": [
    {
     "data": {
      "text/plain": [
       "['../../data/slam/resMYCpaper/count/SRR5806780_1_trimmed_slamdunk_mapped_filtered_tcount.tsv',\n",
       " '../../data/slam/resMYCpaper/count/SRR5806781_1_trimmed_slamdunk_mapped_filtered_tcount.tsv',\n",
       " '../../data/slam/resMYCpaper/count/SRR5806782_1_trimmed_slamdunk_mapped_filtered_tcount.tsv',\n",
       " '../../data/slam/resMYCpaper/count/SRR5806783_1_trimmed_slamdunk_mapped_filtered_tcount.tsv',\n",
       " '../../data/slam/resMYCpaper/count/SRR5806784_1_trimmed_slamdunk_mapped_filtered_tcount.tsv',\n",
       " '../../data/slam/resMYCpaper/count/SRR5806785_1_trimmed_slamdunk_mapped_filtered_tcount.tsv']"
      ]
     },
     "execution_count": 415,
     "metadata": {},
     "output_type": "execute_result"
    }
   ],
   "source": [
    "files = ! ls $location\n",
    "files"
   ]
  },
  {
   "cell_type": "code",
   "execution_count": 420,
   "metadata": {},
   "outputs": [],
   "source": [
    "data={}\n",
    "for file in files:\n",
    "    data[file.split('/')[-1].split('_')[0]]= pd.read_csv(file, sep='\\t', comment='#',header=0)"
   ]
  },
  {
   "cell_type": "code",
   "execution_count": 421,
   "metadata": {},
   "outputs": [
    {
     "data": {
      "text/plain": [
       "['../../data/slam/resMYCpaper/count/SRR5806780_1_trimmed_slamdunk_mapped_filtered_tcount.tsv',\n",
       " '../../data/slam/resMYCpaper/count/SRR5806781_1_trimmed_slamdunk_mapped_filtered_tcount.tsv',\n",
       " '../../data/slam/resMYCpaper/count/SRR5806782_1_trimmed_slamdunk_mapped_filtered_tcount.tsv',\n",
       " '../../data/slam/resMYCpaper/count/SRR5806783_1_trimmed_slamdunk_mapped_filtered_tcount.tsv',\n",
       " '../../data/slam/resMYCpaper/count/SRR5806784_1_trimmed_slamdunk_mapped_filtered_tcount.tsv',\n",
       " '../../data/slam/resMYCpaper/count/SRR5806785_1_trimmed_slamdunk_mapped_filtered_tcount.tsv']"
      ]
     },
     "execution_count": 421,
     "metadata": {},
     "output_type": "execute_result"
    }
   ],
   "source": [
    "files"
   ]
  },
  {
   "cell_type": "code",
   "execution_count": 422,
   "metadata": {},
   "outputs": [],
   "source": [
    "prev = -2\n",
    "for k,val in data.items():\n",
    "    if len(set(val.Name)) != prev and prev!=-2: \n",
    "        raise ValueError('we do not have the same number of genes in each file')\n",
    "    prev = len(set(val.Name))"
   ]
  },
  {
   "cell_type": "markdown",
   "metadata": {},
   "source": [
    "![](images/conversionrates.png)"
   ]
  },
  {
   "cell_type": "code",
   "execution_count": 423,
   "metadata": {},
   "outputs": [
    {
     "data": {
      "text/plain": [
       "dict_keys(['SRR5806780', 'SRR5806781', 'SRR5806782', 'SRR5806783', 'SRR5806784', 'SRR5806785'])"
      ]
     },
     "execution_count": 423,
     "metadata": {},
     "output_type": "execute_result"
    }
   ],
   "source": [
    "data.keys()"
   ]
  },
  {
   "cell_type": "code",
   "execution_count": 424,
   "metadata": {
    "scrolled": true
   },
   "outputs": [
    {
     "data": {
      "text/html": [
       "<div>\n",
       "<style scoped>\n",
       "    .dataframe tbody tr th:only-of-type {\n",
       "        vertical-align: middle;\n",
       "    }\n",
       "\n",
       "    .dataframe tbody tr th {\n",
       "        vertical-align: top;\n",
       "    }\n",
       "\n",
       "    .dataframe thead th {\n",
       "        text-align: right;\n",
       "    }\n",
       "</style>\n",
       "<table border=\"1\" class=\"dataframe\">\n",
       "  <thead>\n",
       "    <tr style=\"text-align: right;\">\n",
       "      <th></th>\n",
       "      <th>Chromosome</th>\n",
       "      <th>Start</th>\n",
       "      <th>End</th>\n",
       "      <th>Name</th>\n",
       "      <th>Length</th>\n",
       "      <th>Strand</th>\n",
       "      <th>ConversionRate</th>\n",
       "      <th>ReadsCPM</th>\n",
       "      <th>Tcontent</th>\n",
       "      <th>CoverageOnTs</th>\n",
       "      <th>ConversionsOnTs</th>\n",
       "      <th>ReadCount</th>\n",
       "      <th>TcReadCount</th>\n",
       "      <th>multimapCount</th>\n",
       "      <th>ConversionRateLower</th>\n",
       "      <th>ConversionRateUpper</th>\n",
       "    </tr>\n",
       "  </thead>\n",
       "  <tbody>\n",
       "    <tr>\n",
       "      <th>0</th>\n",
       "      <td>chr22</td>\n",
       "      <td>29442122</td>\n",
       "      <td>29442455</td>\n",
       "      <td>5988</td>\n",
       "      <td>333</td>\n",
       "      <td>+</td>\n",
       "      <td>0.000000</td>\n",
       "      <td>0.000000</td>\n",
       "      <td>112</td>\n",
       "      <td>0</td>\n",
       "      <td>0</td>\n",
       "      <td>0</td>\n",
       "      <td>0</td>\n",
       "      <td>0</td>\n",
       "      <td>-1.0</td>\n",
       "      <td>-1.0</td>\n",
       "    </tr>\n",
       "    <tr>\n",
       "      <th>1</th>\n",
       "      <td>chr19</td>\n",
       "      <td>13961529</td>\n",
       "      <td>13962694</td>\n",
       "      <td>5989</td>\n",
       "      <td>1165</td>\n",
       "      <td>-</td>\n",
       "      <td>0.010501</td>\n",
       "      <td>16.985281</td>\n",
       "      <td>242</td>\n",
       "      <td>13713</td>\n",
       "      <td>144</td>\n",
       "      <td>547</td>\n",
       "      <td>50</td>\n",
       "      <td>0</td>\n",
       "      <td>-1.0</td>\n",
       "      <td>-1.0</td>\n",
       "    </tr>\n",
       "    <tr>\n",
       "      <th>2</th>\n",
       "      <td>chr12</td>\n",
       "      <td>109448654</td>\n",
       "      <td>109451813</td>\n",
       "      <td>83892</td>\n",
       "      <td>3159</td>\n",
       "      <td>-</td>\n",
       "      <td>0.009883</td>\n",
       "      <td>31.082754</td>\n",
       "      <td>921</td>\n",
       "      <td>25396</td>\n",
       "      <td>251</td>\n",
       "      <td>1001</td>\n",
       "      <td>83</td>\n",
       "      <td>0</td>\n",
       "      <td>-1.0</td>\n",
       "      <td>-1.0</td>\n",
       "    </tr>\n",
       "    <tr>\n",
       "      <th>3</th>\n",
       "      <td>chr12</td>\n",
       "      <td>109456117</td>\n",
       "      <td>109456313</td>\n",
       "      <td>83892</td>\n",
       "      <td>196</td>\n",
       "      <td>-</td>\n",
       "      <td>0.000000</td>\n",
       "      <td>0.000000</td>\n",
       "      <td>57</td>\n",
       "      <td>0</td>\n",
       "      <td>0</td>\n",
       "      <td>0</td>\n",
       "      <td>0</td>\n",
       "      <td>0</td>\n",
       "      <td>-1.0</td>\n",
       "      <td>-1.0</td>\n",
       "    </tr>\n",
       "    <tr>\n",
       "      <th>4</th>\n",
       "      <td>chr12</td>\n",
       "      <td>109457629</td>\n",
       "      <td>109457682</td>\n",
       "      <td>83892</td>\n",
       "      <td>53</td>\n",
       "      <td>-</td>\n",
       "      <td>0.000000</td>\n",
       "      <td>0.000000</td>\n",
       "      <td>10</td>\n",
       "      <td>0</td>\n",
       "      <td>0</td>\n",
       "      <td>0</td>\n",
       "      <td>0</td>\n",
       "      <td>0</td>\n",
       "      <td>-1.0</td>\n",
       "      <td>-1.0</td>\n",
       "    </tr>\n",
       "    <tr>\n",
       "      <th>...</th>\n",
       "      <td>...</td>\n",
       "      <td>...</td>\n",
       "      <td>...</td>\n",
       "      <td>...</td>\n",
       "      <td>...</td>\n",
       "      <td>...</td>\n",
       "      <td>...</td>\n",
       "      <td>...</td>\n",
       "      <td>...</td>\n",
       "      <td>...</td>\n",
       "      <td>...</td>\n",
       "      <td>...</td>\n",
       "      <td>...</td>\n",
       "      <td>...</td>\n",
       "      <td>...</td>\n",
       "      <td>...</td>\n",
       "    </tr>\n",
       "    <tr>\n",
       "      <th>58131</th>\n",
       "      <td>chr1</td>\n",
       "      <td>46691873</td>\n",
       "      <td>46692098</td>\n",
       "      <td>100130197</td>\n",
       "      <td>225</td>\n",
       "      <td>+</td>\n",
       "      <td>0.000000</td>\n",
       "      <td>0.000000</td>\n",
       "      <td>61</td>\n",
       "      <td>0</td>\n",
       "      <td>0</td>\n",
       "      <td>0</td>\n",
       "      <td>0</td>\n",
       "      <td>0</td>\n",
       "      <td>-1.0</td>\n",
       "      <td>-1.0</td>\n",
       "    </tr>\n",
       "    <tr>\n",
       "      <th>58132</th>\n",
       "      <td>chr2</td>\n",
       "      <td>101151659</td>\n",
       "      <td>101152759</td>\n",
       "      <td>100506286</td>\n",
       "      <td>1100</td>\n",
       "      <td>+</td>\n",
       "      <td>0.080000</td>\n",
       "      <td>0.062103</td>\n",
       "      <td>191</td>\n",
       "      <td>25</td>\n",
       "      <td>2</td>\n",
       "      <td>2</td>\n",
       "      <td>1</td>\n",
       "      <td>0</td>\n",
       "      <td>-1.0</td>\n",
       "      <td>-1.0</td>\n",
       "    </tr>\n",
       "    <tr>\n",
       "      <th>58133</th>\n",
       "      <td>chr2</td>\n",
       "      <td>101154034</td>\n",
       "      <td>101155412</td>\n",
       "      <td>100506286</td>\n",
       "      <td>1378</td>\n",
       "      <td>+</td>\n",
       "      <td>0.000000</td>\n",
       "      <td>0.186310</td>\n",
       "      <td>337</td>\n",
       "      <td>98</td>\n",
       "      <td>0</td>\n",
       "      <td>6</td>\n",
       "      <td>0</td>\n",
       "      <td>0</td>\n",
       "      <td>-1.0</td>\n",
       "      <td>-1.0</td>\n",
       "    </tr>\n",
       "    <tr>\n",
       "      <th>58134</th>\n",
       "      <td>chrX</td>\n",
       "      <td>106639813</td>\n",
       "      <td>106639896</td>\n",
       "      <td>100616144</td>\n",
       "      <td>83</td>\n",
       "      <td>+</td>\n",
       "      <td>0.000000</td>\n",
       "      <td>0.000000</td>\n",
       "      <td>25</td>\n",
       "      <td>0</td>\n",
       "      <td>0</td>\n",
       "      <td>0</td>\n",
       "      <td>0</td>\n",
       "      <td>0</td>\n",
       "      <td>-1.0</td>\n",
       "      <td>-1.0</td>\n",
       "    </tr>\n",
       "    <tr>\n",
       "      <th>58135</th>\n",
       "      <td>chr1</td>\n",
       "      <td>52940313</td>\n",
       "      <td>52940413</td>\n",
       "      <td>100616145</td>\n",
       "      <td>100</td>\n",
       "      <td>+</td>\n",
       "      <td>0.000000</td>\n",
       "      <td>0.000000</td>\n",
       "      <td>24</td>\n",
       "      <td>0</td>\n",
       "      <td>0</td>\n",
       "      <td>0</td>\n",
       "      <td>0</td>\n",
       "      <td>0</td>\n",
       "      <td>-1.0</td>\n",
       "      <td>-1.0</td>\n",
       "    </tr>\n",
       "  </tbody>\n",
       "</table>\n",
       "<p>58136 rows × 16 columns</p>\n",
       "</div>"
      ],
      "text/plain": [
       "      Chromosome      Start        End       Name  Length Strand  \\\n",
       "0          chr22   29442122   29442455       5988     333      +   \n",
       "1          chr19   13961529   13962694       5989    1165      -   \n",
       "2          chr12  109448654  109451813      83892    3159      -   \n",
       "3          chr12  109456117  109456313      83892     196      -   \n",
       "4          chr12  109457629  109457682      83892      53      -   \n",
       "...          ...        ...        ...        ...     ...    ...   \n",
       "58131       chr1   46691873   46692098  100130197     225      +   \n",
       "58132       chr2  101151659  101152759  100506286    1100      +   \n",
       "58133       chr2  101154034  101155412  100506286    1378      +   \n",
       "58134       chrX  106639813  106639896  100616144      83      +   \n",
       "58135       chr1   52940313   52940413  100616145     100      +   \n",
       "\n",
       "       ConversionRate   ReadsCPM  Tcontent  CoverageOnTs  ConversionsOnTs  \\\n",
       "0            0.000000   0.000000       112             0                0   \n",
       "1            0.010501  16.985281       242         13713              144   \n",
       "2            0.009883  31.082754       921         25396              251   \n",
       "3            0.000000   0.000000        57             0                0   \n",
       "4            0.000000   0.000000        10             0                0   \n",
       "...               ...        ...       ...           ...              ...   \n",
       "58131        0.000000   0.000000        61             0                0   \n",
       "58132        0.080000   0.062103       191            25                2   \n",
       "58133        0.000000   0.186310       337            98                0   \n",
       "58134        0.000000   0.000000        25             0                0   \n",
       "58135        0.000000   0.000000        24             0                0   \n",
       "\n",
       "       ReadCount  TcReadCount  multimapCount  ConversionRateLower  \\\n",
       "0              0            0              0                 -1.0   \n",
       "1            547           50              0                 -1.0   \n",
       "2           1001           83              0                 -1.0   \n",
       "3              0            0              0                 -1.0   \n",
       "4              0            0              0                 -1.0   \n",
       "...          ...          ...            ...                  ...   \n",
       "58131          0            0              0                 -1.0   \n",
       "58132          2            1              0                 -1.0   \n",
       "58133          6            0              0                 -1.0   \n",
       "58134          0            0              0                 -1.0   \n",
       "58135          0            0              0                 -1.0   \n",
       "\n",
       "       ConversionRateUpper  \n",
       "0                     -1.0  \n",
       "1                     -1.0  \n",
       "2                     -1.0  \n",
       "3                     -1.0  \n",
       "4                     -1.0  \n",
       "...                    ...  \n",
       "58131                 -1.0  \n",
       "58132                 -1.0  \n",
       "58133                 -1.0  \n",
       "58134                 -1.0  \n",
       "58135                 -1.0  \n",
       "\n",
       "[58136 rows x 16 columns]"
      ]
     },
     "execution_count": 424,
     "metadata": {},
     "output_type": "execute_result"
    }
   ],
   "source": [
    "val"
   ]
  },
  {
   "cell_type": "code",
   "execution_count": 425,
   "metadata": {},
   "outputs": [],
   "source": [
    "flag_var= 100\n",
    "\n",
    "readcounts = {i:[0]*len(data) for i in val.Name.unique()}\n",
    "tccounts = {i:[0]*len(data) for i in val.Name.unique()}"
   ]
  },
  {
   "cell_type": "code",
   "execution_count": 426,
   "metadata": {},
   "outputs": [
    {
     "name": "stdout",
     "output_type": "stream",
     "text": [
      "3122 2071\n",
      "[2111, 9] [19, 1]\n",
      "2459 1601\n",
      "[1631, 10] [30, 0]\n",
      "4196 2887\n",
      "[2798, 10] [66, 0]\n",
      "1363 918\n",
      "[1440, 8] [5, 0]\n",
      "2425 1605\n",
      "[2573, 6] [14, 0]\n",
      "1504 1016\n",
      "[1849, 6] [14, 0]\n"
     ]
    }
   ],
   "source": [
    "for n, (_,val) in enumerate(data.items()):\n",
    "    val = val.sort_values(by=\"Name\")\n",
    "    j  = 0\n",
    "    #print('              ',end='\\r')\n",
    "    readcount = [val.iloc[0].ReadCount]\n",
    "    tccount = [val.iloc[0].TcReadCount]\n",
    "    prevname = val.iloc[0].Name\n",
    "    for _, v in val.iloc[1:].iterrows():\n",
    "        if v.Name==4609:\n",
    "            print(v.ReadCount,v.TcReadCount)\n",
    "            print(readcount,tccount)\n",
    "        if v.Name == prevname:\n",
    "            readcount.append(v.ReadCount)\n",
    "            tccount.append(v.TcReadCount)\n",
    "        else:\n",
    "            readcounts[prevname][n] = np.sum(readcount)\n",
    "            tccounts[prevname][n] = np.sum(tccount)\n",
    "            #if np.var(readcount) > flag_var:\n",
    "            #    print(\"pb with \"+str(v.Name))\n",
    "            prevname=v.Name\n",
    "            j+=1\n",
    "            #print(j,end='\\r')\n",
    "            readcount = [v.ReadCount]\n",
    "            tccount = [v.TcReadCount]\n",
    "            \n",
    "files = [*data]"
   ]
  },
  {
   "cell_type": "code",
   "execution_count": 427,
   "metadata": {},
   "outputs": [
    {
     "data": {
      "text/plain": [
       "35944            1\n",
       "14222            2\n",
       "42459            3\n",
       "42460            3\n",
       "42452            3\n",
       "           ...    \n",
       "33888    107282092\n",
       "8628     107303344\n",
       "7168     107397392\n",
       "43745    107399301\n",
       "43744    107399303\n",
       "Name: Name, Length: 58136, dtype: int64"
      ]
     },
     "execution_count": 427,
     "metadata": {},
     "output_type": "execute_result"
    }
   ],
   "source": [
    "val.Name"
   ]
  },
  {
   "cell_type": "code",
   "execution_count": 428,
   "metadata": {},
   "outputs": [
    {
     "data": {
      "text/plain": [
       "['SRR5806780',\n",
       " 'SRR5806781',\n",
       " 'SRR5806782',\n",
       " 'SRR5806783',\n",
       " 'SRR5806784',\n",
       " 'SRR5806785']"
      ]
     },
     "execution_count": 428,
     "metadata": {},
     "output_type": "execute_result"
    }
   ],
   "source": [
    "files"
   ]
  },
  {
   "cell_type": "code",
   "execution_count": 429,
   "metadata": {},
   "outputs": [
    {
     "data": {
      "text/plain": [
       "[3122, 2459, 4196, 1363, 2425, 1504]"
      ]
     },
     "execution_count": 429,
     "metadata": {},
     "output_type": "execute_result"
    }
   ],
   "source": [
    "readcounts[4609]"
   ]
  },
  {
   "cell_type": "code",
   "execution_count": 430,
   "metadata": {},
   "outputs": [],
   "source": [
    "readcounts = pd.DataFrame(data=readcounts,columns=val.Name.unique(),index=data.keys()).T\n",
    "tccounts = pd.DataFrame(data=tccounts,columns=val.Name.unique(),index=data.keys()).T"
   ]
  },
  {
   "cell_type": "code",
   "execution_count": 279,
   "metadata": {},
   "outputs": [
    {
     "data": {
      "text/plain": [
       "MV4-11_1uM_JQ1_rep-1_exp-2      97\n",
       "MV4-11_1uM_JQ1_rep-2_exp-2     158\n",
       "MV4-11_1uM_JQ1_rep-3_exp-2     114\n",
       "MV4-11_5uM_JQ1_rep-1_exp-2      70\n",
       "MV4-11_5uM_JQ1_rep-2_exp-2      69\n",
       "MV4-11_5uM_JQ1_rep-3_exp-2      64\n",
       "MV4-11_DMSO_rep-1_exp-2        497\n",
       "MV4-11_DMSO_rep-1             3134\n",
       "MV4-11_DMSO_rep-2_exp-2        304\n",
       "MV4-11_DMSO_rep-2             2470\n",
       "MV4-11_DMSO_rep-3_exp-2        672\n",
       "MV4-11_DMSO_rep-3             4212\n",
       "MV4-11_JQ1_rep-1              1371\n",
       "MV4-11_JQ1_rep-2              2439\n",
       "MV4-11_JQ1_rep-3              1510\n",
       "Name: 4609, dtype: int64"
      ]
     },
     "execution_count": 279,
     "metadata": {},
     "output_type": "execute_result"
    }
   ],
   "source": [
    "readcounts.loc[4609]"
   ]
  },
  {
   "cell_type": "code",
   "execution_count": 431,
   "metadata": {},
   "outputs": [
    {
     "name": "stdout",
     "output_type": "stream",
     "text": [
      "you need access to taiga for this (https://pypi.org/project/taigapy/)\n",
      "1118 could not be parsed... we don't have all genes already\n"
     ]
    }
   ],
   "source": [
    "names, _ = h.convertGenes(readcounts.index.tolist(), from_idtype=\"entrez_id\", to_idtype=\"symbol\")\n",
    "readcounts.index = names"
   ]
  },
  {
   "cell_type": "code",
   "execution_count": 432,
   "metadata": {},
   "outputs": [
    {
     "name": "stdout",
     "output_type": "stream",
     "text": [
      "you need access to taiga for this (https://pypi.org/project/taigapy/)\n",
      "1118 could not be parsed... we don't have all genes already\n"
     ]
    }
   ],
   "source": [
    "names, _ = h.convertGenes(tccounts.index.tolist(), from_idtype=\"entrez_id\", to_idtype=\"symbol\")\n",
    "tccounts.index = names"
   ]
  },
  {
   "cell_type": "code",
   "execution_count": 433,
   "metadata": {},
   "outputs": [],
   "source": [
    "todrop=np.argwhere(tccounts.values.max(1)>0).ravel()\n",
    "tccounts = tccounts.iloc[todrop]\n",
    "readcounts = readcounts.iloc[todrop]"
   ]
  },
  {
   "cell_type": "code",
   "execution_count": 434,
   "metadata": {},
   "outputs": [],
   "source": [
    "todrop=np.argwhere(readcounts.values.max(1)>=10).ravel()\n",
    "tccounts = tccounts.iloc[todrop]\n",
    "readcounts = readcounts.iloc[todrop]"
   ]
  },
  {
   "cell_type": "code",
   "execution_count": 435,
   "metadata": {},
   "outputs": [
    {
     "data": {
      "text/html": [
       "<div>\n",
       "<style scoped>\n",
       "    .dataframe tbody tr th:only-of-type {\n",
       "        vertical-align: middle;\n",
       "    }\n",
       "\n",
       "    .dataframe tbody tr th {\n",
       "        vertical-align: top;\n",
       "    }\n",
       "\n",
       "    .dataframe thead th {\n",
       "        text-align: right;\n",
       "    }\n",
       "</style>\n",
       "<table border=\"1\" class=\"dataframe\">\n",
       "  <thead>\n",
       "    <tr style=\"text-align: right;\">\n",
       "      <th></th>\n",
       "      <th>SRR5806780</th>\n",
       "      <th>SRR5806781</th>\n",
       "      <th>SRR5806782</th>\n",
       "      <th>SRR5806783</th>\n",
       "      <th>SRR5806784</th>\n",
       "      <th>SRR5806785</th>\n",
       "    </tr>\n",
       "  </thead>\n",
       "  <tbody>\n",
       "    <tr>\n",
       "      <th>NAT1</th>\n",
       "      <td>138</td>\n",
       "      <td>117</td>\n",
       "      <td>180</td>\n",
       "      <td>121</td>\n",
       "      <td>260</td>\n",
       "      <td>141</td>\n",
       "    </tr>\n",
       "    <tr>\n",
       "      <th>AAMP</th>\n",
       "      <td>92</td>\n",
       "      <td>91</td>\n",
       "      <td>143</td>\n",
       "      <td>59</td>\n",
       "      <td>153</td>\n",
       "      <td>96</td>\n",
       "    </tr>\n",
       "    <tr>\n",
       "      <th>AARS1</th>\n",
       "      <td>46</td>\n",
       "      <td>46</td>\n",
       "      <td>68</td>\n",
       "      <td>27</td>\n",
       "      <td>31</td>\n",
       "      <td>37</td>\n",
       "    </tr>\n",
       "    <tr>\n",
       "      <th>ABAT</th>\n",
       "      <td>3</td>\n",
       "      <td>2</td>\n",
       "      <td>8</td>\n",
       "      <td>2</td>\n",
       "      <td>6</td>\n",
       "      <td>3</td>\n",
       "    </tr>\n",
       "    <tr>\n",
       "      <th>ABCA1</th>\n",
       "      <td>9</td>\n",
       "      <td>9</td>\n",
       "      <td>24</td>\n",
       "      <td>3</td>\n",
       "      <td>7</td>\n",
       "      <td>8</td>\n",
       "    </tr>\n",
       "    <tr>\n",
       "      <th>...</th>\n",
       "      <td>...</td>\n",
       "      <td>...</td>\n",
       "      <td>...</td>\n",
       "      <td>...</td>\n",
       "      <td>...</td>\n",
       "      <td>...</td>\n",
       "    </tr>\n",
       "    <tr>\n",
       "      <th>106865373</th>\n",
       "      <td>0</td>\n",
       "      <td>1</td>\n",
       "      <td>1</td>\n",
       "      <td>0</td>\n",
       "      <td>0</td>\n",
       "      <td>0</td>\n",
       "    </tr>\n",
       "    <tr>\n",
       "      <th>107080638</th>\n",
       "      <td>1</td>\n",
       "      <td>6</td>\n",
       "      <td>8</td>\n",
       "      <td>2</td>\n",
       "      <td>18</td>\n",
       "      <td>5</td>\n",
       "    </tr>\n",
       "    <tr>\n",
       "      <th>107080644</th>\n",
       "      <td>0</td>\n",
       "      <td>0</td>\n",
       "      <td>0</td>\n",
       "      <td>0</td>\n",
       "      <td>1</td>\n",
       "      <td>1</td>\n",
       "    </tr>\n",
       "    <tr>\n",
       "      <th>107303344</th>\n",
       "      <td>23</td>\n",
       "      <td>8</td>\n",
       "      <td>11</td>\n",
       "      <td>3</td>\n",
       "      <td>16</td>\n",
       "      <td>11</td>\n",
       "    </tr>\n",
       "    <tr>\n",
       "      <th>SCARNA18B</th>\n",
       "      <td>7</td>\n",
       "      <td>12</td>\n",
       "      <td>20</td>\n",
       "      <td>12</td>\n",
       "      <td>12</td>\n",
       "      <td>10</td>\n",
       "    </tr>\n",
       "  </tbody>\n",
       "</table>\n",
       "<p>12576 rows × 6 columns</p>\n",
       "</div>"
      ],
      "text/plain": [
       "           SRR5806780  SRR5806781  SRR5806782  SRR5806783  SRR5806784  \\\n",
       "NAT1              138         117         180         121         260   \n",
       "AAMP               92          91         143          59         153   \n",
       "AARS1              46          46          68          27          31   \n",
       "ABAT                3           2           8           2           6   \n",
       "ABCA1               9           9          24           3           7   \n",
       "...               ...         ...         ...         ...         ...   \n",
       "106865373           0           1           1           0           0   \n",
       "107080638           1           6           8           2          18   \n",
       "107080644           0           0           0           0           1   \n",
       "107303344          23           8          11           3          16   \n",
       "SCARNA18B           7          12          20          12          12   \n",
       "\n",
       "           SRR5806785  \n",
       "NAT1              141  \n",
       "AAMP               96  \n",
       "AARS1              37  \n",
       "ABAT                3  \n",
       "ABCA1               8  \n",
       "...               ...  \n",
       "106865373           0  \n",
       "107080638           5  \n",
       "107080644           1  \n",
       "107303344          11  \n",
       "SCARNA18B          10  \n",
       "\n",
       "[12576 rows x 6 columns]"
      ]
     },
     "execution_count": 435,
     "metadata": {},
     "output_type": "execute_result"
    }
   ],
   "source": [
    "tccounts"
   ]
  },
  {
   "cell_type": "code",
   "execution_count": 285,
   "metadata": {},
   "outputs": [],
   "source": [
    "tccounts = tccounts.apply(lambda x: x+1)"
   ]
  },
  {
   "cell_type": "code",
   "execution_count": 167,
   "metadata": {},
   "outputs": [],
   "source": [
    "readcounts[readcounts.columns[:-1]] = readcounts[readcounts.columns[:-1]].apply(lambda x: x+1)"
   ]
  },
  {
   "cell_type": "markdown",
   "metadata": {},
   "source": [
    "## SLAM-seq\n",
    "All SLAM-seq assays were performed at 60-70% confluency for adherent cells or\n",
    "60% of the maximum cell density counted on a hemocytometer for suspension cells. 5-7h\n",
    "prior to each assay, growth medium was aspirated and replaced. Unless stated otherwise,\n",
    "cells were pre-treated with indicated small molecule inhibitors or 100µM IAA for 30 min\n",
    "to pre-establish full target inhibition or degradation. Newly synthesized RNA was labeled\n",
    "for indicated time spans (45 min or 60 min) at a final concentration of 100µM 4-\n",
    "thiouridine (4sU, Carbosynth). Adherent cells were harvested by direct snap-freezing of\n",
    "plates on dry ice. Suspension cells were spun down and immediately snap-frozen. RNA\n",
    "extraction was performed using the RNeasy Plus Mini Kit (Qiagen). \n",
    "\n",
    "Total RNA was subjected to alkylation by iodoacetamide (Sigma, 10mM) for 15 min and RNA was repurified by ethanol precipitation. 500ng alkylated RNA were used as input for generating\n",
    "3’-end mRNA sequencing libraries using a commercially available kit (QuantSeq 3′\n",
    "mRNA-Seq Library Prep Kit FWD for Illumina and PCR Add-on Kit for Illumina,\n",
    "Lexogen). Deep sequencing was performed using HiSeq1500 and HiSeq2500 platforms\n",
    "(Illumina)."
   ]
  },
  {
   "cell_type": "code",
   "execution_count": null,
   "metadata": {},
   "outputs": [],
   "source": [
    "tccounts"
   ]
  },
  {
   "cell_type": "markdown",
   "metadata": {},
   "source": [
    "# lets look at the similarity accross replicates\n",
    "\n",
    "we have some outliers, else it seems to make some sense and on average, to be extremelly similar!"
   ]
  },
  {
   "cell_type": "code",
   "execution_count": 286,
   "metadata": {},
   "outputs": [
    {
     "data": {
      "text/plain": [
       "Index(['MV4-11_1uM_JQ1_rep-1_exp-2', 'MV4-11_1uM_JQ1_rep-2_exp-2',\n",
       "       'MV4-11_1uM_JQ1_rep-3_exp-2', 'MV4-11_5uM_JQ1_rep-1_exp-2',\n",
       "       'MV4-11_5uM_JQ1_rep-2_exp-2', 'MV4-11_5uM_JQ1_rep-3_exp-2',\n",
       "       'MV4-11_DMSO_rep-1_exp-2', 'MV4-11_DMSO_rep-1',\n",
       "       'MV4-11_DMSO_rep-2_exp-2', 'MV4-11_DMSO_rep-2',\n",
       "       'MV4-11_DMSO_rep-3_exp-2', 'MV4-11_DMSO_rep-3', 'MV4-11_JQ1_rep-1',\n",
       "       'MV4-11_JQ1_rep-2', 'MV4-11_JQ1_rep-3'],\n",
       "      dtype='object')"
      ]
     },
     "execution_count": 286,
     "metadata": {},
     "output_type": "execute_result"
    }
   ],
   "source": [
    "tccounts.columns"
   ]
  },
  {
   "cell_type": "code",
   "execution_count": 287,
   "metadata": {},
   "outputs": [],
   "source": [
    "sorting = [0,1,2,3,4,5,6,8,10,7,9,11,12,13,14]"
   ]
  },
  {
   "cell_type": "code",
   "execution_count": 288,
   "metadata": {},
   "outputs": [
    {
     "data": {
      "text/plain": [
       "Index(['MV4-11_1uM_JQ1_rep-1_exp-2', 'MV4-11_1uM_JQ1_rep-2_exp-2',\n",
       "       'MV4-11_1uM_JQ1_rep-3_exp-2', 'MV4-11_5uM_JQ1_rep-1_exp-2',\n",
       "       'MV4-11_5uM_JQ1_rep-2_exp-2', 'MV4-11_5uM_JQ1_rep-3_exp-2',\n",
       "       'MV4-11_DMSO_rep-1_exp-2', 'MV4-11_DMSO_rep-2_exp-2',\n",
       "       'MV4-11_DMSO_rep-3_exp-2', 'MV4-11_DMSO_rep-1', 'MV4-11_DMSO_rep-2',\n",
       "       'MV4-11_DMSO_rep-3', 'MV4-11_JQ1_rep-1', 'MV4-11_JQ1_rep-2',\n",
       "       'MV4-11_JQ1_rep-3'],\n",
       "      dtype='object')"
      ]
     },
     "execution_count": 288,
     "metadata": {},
     "output_type": "execute_result"
    }
   ],
   "source": [
    "tccounts.columns[sorting]"
   ]
  },
  {
   "cell_type": "code",
   "execution_count": 289,
   "metadata": {},
   "outputs": [],
   "source": [
    "tccounts = tccounts[tccounts.columns[sorting]]"
   ]
  },
  {
   "cell_type": "code",
   "execution_count": 436,
   "metadata": {},
   "outputs": [
    {
     "data": {
      "text/plain": [
       "<matplotlib.axes._subplots.AxesSubplot at 0x7f1129694110>"
      ]
     },
     "execution_count": 436,
     "metadata": {},
     "output_type": "execute_result"
    },
    {
     "data": {
      "image/png": "[encoded data removed]",
      "text/plain": [
       "<Figure size 432x288 with 2 Axes>"
      ]
     },
     "metadata": {
      "needs_background": "light"
     },
     "output_type": "display_data"
    }
   ],
   "source": [
    "%matplotlib inline\n",
    "sns.heatmap(tccounts.corr(), \n",
    "            xticklabels=tccounts.columns.values,\n",
    "            yticklabels=tccounts.columns.values)"
   ]
  },
  {
   "cell_type": "code",
   "execution_count": 291,
   "metadata": {},
   "outputs": [],
   "source": [
    "readcounts = readcounts[readcounts.columns[sorting]]"
   ]
  },
  {
   "cell_type": "code",
   "execution_count": 437,
   "metadata": {},
   "outputs": [
    {
     "data": {
      "text/plain": [
       "<matplotlib.axes._subplots.AxesSubplot at 0x7f10fbbc3f50>"
      ]
     },
     "execution_count": 437,
     "metadata": {},
     "output_type": "execute_result"
    },
    {
     "data": {
      "image/png": "[encoded data removed]",
      "text/plain": [
       "<Figure size 432x288 with 2 Axes>"
      ]
     },
     "metadata": {
      "needs_background": "light"
     },
     "output_type": "display_data"
    }
   ],
   "source": [
    "%matplotlib inline\n",
    "sns.heatmap(readcounts.corr(), \n",
    "            xticklabels=readcounts.columns.values,\n",
    "            yticklabels=readcounts.columns.values)"
   ]
  },
  {
   "cell_type": "markdown",
   "metadata": {},
   "source": [
    "read the paper for MV411 QC steps."
   ]
  },
  {
   "cell_type": "markdown",
   "metadata": {},
   "source": [
    "### A quick detour to look for clustering"
   ]
  },
  {
   "cell_type": "markdown",
   "metadata": {},
   "source": [
    "## Getting the Core TF information"
   ]
  },
  {
   "cell_type": "code",
   "execution_count": 438,
   "metadata": {},
   "outputs": [
    {
     "data": {
      "text/plain": [
       "['MYC',\n",
       " 'MYB',\n",
       " 'SPI1',\n",
       " 'RUNX1',\n",
       " 'GSE1',\n",
       " 'IRF2BP2',\n",
       " 'FLI1',\n",
       " 'ELF2',\n",
       " 'ZEB2',\n",
       " 'IKAROS',\n",
       " 'GFI1',\n",
       " 'LMO2',\n",
       " 'CEBPA',\n",
       " 'MEF2D',\n",
       " 'MEF2C',\n",
       " 'IRF8',\n",
       " 'MEIS1',\n",
       " 'RUNX2',\n",
       " 'ETV6',\n",
       " 'LDB1',\n",
       " 'RUNX2',\n",
       " 'SP1',\n",
       " 'ZMYND8']"
      ]
     },
     "execution_count": 438,
     "metadata": {},
     "output_type": "execute_result"
    }
   ],
   "source": [
    "ctf=pd.read_csv('../data/CTF.csv',header=None)[0].values.tolist()\n",
    "ctf"
   ]
  },
  {
   "cell_type": "code",
   "execution_count": 439,
   "metadata": {},
   "outputs": [
    {
     "data": {
      "text/plain": [
       "{'CEBPA',\n",
       " 'ELF2',\n",
       " 'ETV6',\n",
       " 'FLI1',\n",
       " 'GFI1',\n",
       " 'GSE1',\n",
       " 'IRF2BP2',\n",
       " 'IRF8',\n",
       " 'LDB1',\n",
       " 'LMO2',\n",
       " 'MEF2C',\n",
       " 'MEF2D',\n",
       " 'MEIS1',\n",
       " 'MYB',\n",
       " 'MYC',\n",
       " 'RUNX1',\n",
       " 'RUNX2',\n",
       " 'SP1',\n",
       " 'SPI1',\n",
       " 'ZEB2',\n",
       " 'ZMYND8'}"
      ]
     },
     "execution_count": 439,
     "metadata": {},
     "output_type": "execute_result"
    }
   ],
   "source": [
    "set(ctf) & set(tccounts.index)"
   ]
  },
  {
   "cell_type": "code",
   "execution_count": 440,
   "metadata": {},
   "outputs": [],
   "source": [
    "ctfpos = [val for val in tccounts.index if val in ctf]\n",
    "notctfpos = [val for val in tccounts.index if val not in ctf]"
   ]
  },
  {
   "cell_type": "code",
   "execution_count": 441,
   "metadata": {},
   "outputs": [],
   "source": [
    "ctfpos.extend(['EGR1','SERTAD1'])"
   ]
  },
  {
   "cell_type": "markdown",
   "metadata": {},
   "source": [
    "We find a CTF not in the dataset"
   ]
  },
  {
   "cell_type": "markdown",
   "metadata": {},
   "source": [
    "# Let's look at how they change accross time\n",
    "\n",
    "how core transcription factors change accross time when the cell is with JQ1 conditions\n",
    "\n",
    "we are looking at the difference between production of each CTF compared to the average RNA production with JQ1 and without JQ1"
   ]
  },
  {
   "cell_type": "markdown",
   "metadata": {},
   "source": [
    "## DESEQ ANALYSIS"
   ]
  },
  {
   "cell_type": "code",
   "execution_count": 442,
   "metadata": {},
   "outputs": [],
   "source": [
    "readcounts[\"genes\"] = readcounts.index\n",
    "readcounts = readcounts.reset_index(drop=True)\n",
    "tccounts[\"genes\"] = tccounts.index\n",
    "tccounts = tccounts.reset_index(drop=True)"
   ]
  },
  {
   "cell_type": "code",
   "execution_count": 294,
   "metadata": {},
   "outputs": [
    {
     "data": {
      "text/plain": [
       "MV4-11_1uM_JQ1_rep-1_exp-2        1\n",
       "MV4-11_1uM_JQ1_rep-2_exp-2        1\n",
       "MV4-11_1uM_JQ1_rep-3_exp-2        3\n",
       "MV4-11_5uM_JQ1_rep-1_exp-2        3\n",
       "MV4-11_5uM_JQ1_rep-2_exp-2        1\n",
       "MV4-11_5uM_JQ1_rep-3_exp-2        1\n",
       "MV4-11_DMSO_rep-1_exp-2           1\n",
       "MV4-11_DMSO_rep-2_exp-2           1\n",
       "MV4-11_DMSO_rep-3_exp-2           3\n",
       "MV4-11_DMSO_rep-1                 4\n",
       "MV4-11_DMSO_rep-2                 6\n",
       "MV4-11_DMSO_rep-3                 3\n",
       "MV4-11_JQ1_rep-1                  1\n",
       "MV4-11_JQ1_rep-2                  2\n",
       "MV4-11_JQ1_rep-3                  2\n",
       "genes                         APBA2\n",
       "Name: 140, dtype: object"
      ]
     },
     "execution_count": 294,
     "metadata": {},
     "output_type": "execute_result"
    }
   ],
   "source": [
    "tccounts.iloc[140]"
   ]
  },
  {
   "cell_type": "code",
   "execution_count": 295,
   "metadata": {},
   "outputs": [
    {
     "data": {
      "text/plain": [
       "Index(['MV4-11_1uM_JQ1_rep-1_exp-2', 'MV4-11_1uM_JQ1_rep-2_exp-2',\n",
       "       'MV4-11_1uM_JQ1_rep-3_exp-2', 'MV4-11_5uM_JQ1_rep-1_exp-2',\n",
       "       'MV4-11_5uM_JQ1_rep-2_exp-2', 'MV4-11_5uM_JQ1_rep-3_exp-2',\n",
       "       'MV4-11_DMSO_rep-1_exp-2', 'MV4-11_DMSO_rep-2_exp-2',\n",
       "       'MV4-11_DMSO_rep-3_exp-2', 'MV4-11_DMSO_rep-1', 'MV4-11_DMSO_rep-2',\n",
       "       'MV4-11_DMSO_rep-3', 'MV4-11_JQ1_rep-1', 'MV4-11_JQ1_rep-2',\n",
       "       'MV4-11_JQ1_rep-3', 'genes'],\n",
       "      dtype='object')"
      ]
     },
     "execution_count": 295,
     "metadata": {},
     "output_type": "execute_result"
    }
   ],
   "source": [
    "tccounts.columns"
   ]
  },
  {
   "cell_type": "code",
   "execution_count": 443,
   "metadata": {},
   "outputs": [],
   "source": [
    "design = pd.DataFrame(index=[i.replace('-','.') for i in tccounts.columns.values[:-1]], \n",
    "                      columns=['DMSO','JQ1'], \n",
    "                      data=np.array([[1,1,1,0,0,0],\n",
    "                                     [0,0,0,1,1,1]],dtype=bool).T)"
   ]
  },
  {
   "cell_type": "markdown",
   "metadata": {},
   "source": [
    "### Differential gene expression analysis, PCA and GO-term enrichment\n",
    "\n",
    "For gene-level analysis, raw reads mapped to different UTR annotations of the same gene were summed up by Entrez Gene ID. Pilot studies of K562 cells with kinase inhibitors were performed as single experiments. \n",
    "\n",
    "Analysis of differential gene expression was restricted to genes with ≥ 10 reads in at least one condition for 50bp sequencing runs (flavopiridol and DMSO) or ≥ 20 reads in at least one condition for 100bp sequencing runs (mk2206, trametinib, nilotinib, trametinib + mk2206 and DMSO). For estimating differential expression, a pseudo-count of 1 raw read was added to all genes.\n",
    "\n",
    "#### All other SLAM-seq experiments were performed in triplicates and analyzed as follows. \n",
    "Differential gene expression calling was performed on raw read counts with ≥ 2 T>C conversions using DESeq2 (version 1.14.1) with default settings, and with size factors estimated on corresponding total mRNA reads for global normalization.\n",
    "\n",
    "Downstream analysis was restricted to genes passing all internal filters for FDR estimation by DESeq2. Principal component analysis was performed after variance\n",
    "stabilizing transformation on the 500 most variable genes across all conditions of a given\n",
    "experiment. GO-term enrichment analysis was performed on genes significantly and strongly downregulated (FDR ≤ 0.1, log2FC ≤ -1) in SLAM-seq upon IAA-treatment in K562MYC-AID + Tir1 by the PANTHER Overrepresentation Test (Fisher's Exact with FDR multiple test correction, release 20171205, http://pantherdb.org) on GO Ontology database Released 2017-12-27."
   ]
  },
  {
   "cell_type": "code",
   "execution_count": 444,
   "metadata": {},
   "outputs": [
    {
     "data": {
      "text/html": [
       "<div>\n",
       "<style scoped>\n",
       "    .dataframe tbody tr th:only-of-type {\n",
       "        vertical-align: middle;\n",
       "    }\n",
       "\n",
       "    .dataframe tbody tr th {\n",
       "        vertical-align: top;\n",
       "    }\n",
       "\n",
       "    .dataframe thead th {\n",
       "        text-align: right;\n",
       "    }\n",
       "</style>\n",
       "<table border=\"1\" class=\"dataframe\">\n",
       "  <thead>\n",
       "    <tr style=\"text-align: right;\">\n",
       "      <th></th>\n",
       "      <th>DMSO</th>\n",
       "      <th>JQ1</th>\n",
       "    </tr>\n",
       "  </thead>\n",
       "  <tbody>\n",
       "    <tr>\n",
       "      <th>SRR5806780</th>\n",
       "      <td>True</td>\n",
       "      <td>False</td>\n",
       "    </tr>\n",
       "    <tr>\n",
       "      <th>SRR5806781</th>\n",
       "      <td>True</td>\n",
       "      <td>False</td>\n",
       "    </tr>\n",
       "    <tr>\n",
       "      <th>SRR5806782</th>\n",
       "      <td>True</td>\n",
       "      <td>False</td>\n",
       "    </tr>\n",
       "    <tr>\n",
       "      <th>SRR5806783</th>\n",
       "      <td>False</td>\n",
       "      <td>True</td>\n",
       "    </tr>\n",
       "    <tr>\n",
       "      <th>SRR5806784</th>\n",
       "      <td>False</td>\n",
       "      <td>True</td>\n",
       "    </tr>\n",
       "    <tr>\n",
       "      <th>SRR5806785</th>\n",
       "      <td>False</td>\n",
       "      <td>True</td>\n",
       "    </tr>\n",
       "  </tbody>\n",
       "</table>\n",
       "</div>"
      ],
      "text/plain": [
       "             DMSO    JQ1\n",
       "SRR5806780   True  False\n",
       "SRR5806781   True  False\n",
       "SRR5806782   True  False\n",
       "SRR5806783  False   True\n",
       "SRR5806784  False   True\n",
       "SRR5806785  False   True"
      ]
     },
     "execution_count": 444,
     "metadata": {},
     "output_type": "execute_result"
    }
   ],
   "source": [
    "design"
   ]
  },
  {
   "cell_type": "code",
   "execution_count": 445,
   "metadata": {},
   "outputs": [],
   "source": [
    "tccounts.columns = [i.replace('-','.') for i in tccounts.columns]"
   ]
  },
  {
   "cell_type": "code",
   "execution_count": 446,
   "metadata": {},
   "outputs": [
    {
     "data": {
      "text/html": [
       "<div>\n",
       "<style scoped>\n",
       "    .dataframe tbody tr th:only-of-type {\n",
       "        vertical-align: middle;\n",
       "    }\n",
       "\n",
       "    .dataframe tbody tr th {\n",
       "        vertical-align: top;\n",
       "    }\n",
       "\n",
       "    .dataframe thead th {\n",
       "        text-align: right;\n",
       "    }\n",
       "</style>\n",
       "<table border=\"1\" class=\"dataframe\">\n",
       "  <thead>\n",
       "    <tr style=\"text-align: right;\">\n",
       "      <th></th>\n",
       "      <th>SRR5806780</th>\n",
       "      <th>SRR5806781</th>\n",
       "      <th>SRR5806782</th>\n",
       "      <th>SRR5806783</th>\n",
       "      <th>SRR5806784</th>\n",
       "      <th>SRR5806785</th>\n",
       "      <th>genes</th>\n",
       "    </tr>\n",
       "  </thead>\n",
       "  <tbody>\n",
       "    <tr>\n",
       "      <th>1689</th>\n",
       "      <td>2071</td>\n",
       "      <td>1601</td>\n",
       "      <td>2887</td>\n",
       "      <td>918</td>\n",
       "      <td>1605</td>\n",
       "      <td>1016</td>\n",
       "      <td>MYC</td>\n",
       "    </tr>\n",
       "  </tbody>\n",
       "</table>\n",
       "</div>"
      ],
      "text/plain": [
       "      SRR5806780  SRR5806781  SRR5806782  SRR5806783  SRR5806784  SRR5806785  \\\n",
       "1689        2071        1601        2887         918        1605        1016   \n",
       "\n",
       "     genes  \n",
       "1689   MYC  "
      ]
     },
     "execution_count": 446,
     "metadata": {},
     "output_type": "execute_result"
    }
   ],
   "source": [
    "tccounts[tccounts.genes=='MYC']"
   ]
  },
  {
   "cell_type": "code",
   "execution_count": 447,
   "metadata": {
    "scrolled": true
   },
   "outputs": [
    {
     "name": "stdout",
     "output_type": "stream",
     "text": [
      "3.2.6\n"
     ]
    }
   ],
   "source": [
    "deseq = pyDESeq2.pyDESeq2(count_matrix=tccounts[tccounts.columns[np.array([1,1,1,1,1,1,1],np.bool)]],\n",
    "                         design_matrix=design[np.array([1,1,1,1,1,1],np.bool)],\n",
    "                         design_formula=\"~DMSO - JQ1\",\n",
    "                         gene_column=\"genes\")"
   ]
  },
  {
   "cell_type": "code",
   "execution_count": 448,
   "metadata": {},
   "outputs": [
    {
     "data": {
      "text/plain": [
       "array([ 554.27123118, 4190.65940299, 2812.89507383, ...,    7.33327055,\n",
       "        512.80634665,   19.20870683])"
      ]
     },
     "execution_count": 448,
     "metadata": {},
     "output_type": "execute_result"
    }
   ],
   "source": [
    "np.exp(np.mean(np.log(readcounts[readcounts.columns[np.array([1,1,1,1,1,1,0],np.bool)]].values+1), 1))"
   ]
  },
  {
   "cell_type": "code",
   "execution_count": 451,
   "metadata": {
    "scrolled": true
   },
   "outputs": [],
   "source": [
    "deseq.run_estimate_size_factors(geoMeans = np.exp(np.mean(np.log(\n",
    "    readcounts[readcounts.columns[np.array([0,0,0,1,1,1,0],np.bool)]].values+1), 1)))"
   ]
  },
  {
   "cell_type": "code",
   "execution_count": 452,
   "metadata": {
    "scrolled": true
   },
   "outputs": [
    {
     "name": "stderr",
     "output_type": "stream",
     "text": [
      "R[write to console]: using pre-existing size factors\n",
      "\n",
      "R[write to console]: estimating dispersions\n",
      "\n",
      "R[write to console]: gene-wise dispersion estimates\n",
      "\n",
      "R[write to console]: mean-dispersion relationship\n",
      "\n",
      "R[write to console]: final dispersion estimates\n",
      "\n",
      "R[write to console]: fitting model and testing\n",
      "\n"
     ]
    }
   ],
   "source": [
    "deseq.run_deseq()"
   ]
  },
  {
   "cell_type": "code",
   "execution_count": 453,
   "metadata": {},
   "outputs": [],
   "source": [
    "deseq.get_deseq_result()"
   ]
  },
  {
   "cell_type": "code",
   "execution_count": 454,
   "metadata": {},
   "outputs": [],
   "source": [
    "JQ1res = deseq.deseq_result"
   ]
  },
  {
   "cell_type": "code",
   "execution_count": 455,
   "metadata": {},
   "outputs": [],
   "source": [
    "JQ1res.pvalue = np.nan_to_num(np.array(JQ1res.pvalue), 1)\n",
    "JQ1res.log2FoldChange = np.nan_to_num(np.array(JQ1res.log2FoldChange), 0)"
   ]
  },
  {
   "cell_type": "code",
   "execution_count": 456,
   "metadata": {
    "scrolled": true
   },
   "outputs": [
    {
     "data": {
      "text/html": [
       "<div>\n",
       "<style scoped>\n",
       "    .dataframe tbody tr th:only-of-type {\n",
       "        vertical-align: middle;\n",
       "    }\n",
       "\n",
       "    .dataframe tbody tr th {\n",
       "        vertical-align: top;\n",
       "    }\n",
       "\n",
       "    .dataframe thead th {\n",
       "        text-align: right;\n",
       "    }\n",
       "</style>\n",
       "<table border=\"1\" class=\"dataframe\">\n",
       "  <thead>\n",
       "    <tr style=\"text-align: right;\">\n",
       "      <th></th>\n",
       "      <th>baseMean</th>\n",
       "      <th>log2FoldChange</th>\n",
       "      <th>lfcSE</th>\n",
       "      <th>stat</th>\n",
       "      <th>pvalue</th>\n",
       "      <th>padj</th>\n",
       "      <th>genes</th>\n",
       "    </tr>\n",
       "  </thead>\n",
       "  <tbody>\n",
       "    <tr>\n",
       "      <th>1689</th>\n",
       "      <td>1612.012609</td>\n",
       "      <td>0.714222</td>\n",
       "      <td>0.091909</td>\n",
       "      <td>7.771007</td>\n",
       "      <td>7.786461e-15</td>\n",
       "      <td>2.220295e-12</td>\n",
       "      <td>MYC</td>\n",
       "    </tr>\n",
       "  </tbody>\n",
       "</table>\n",
       "</div>"
      ],
      "text/plain": [
       "         baseMean  log2FoldChange     lfcSE      stat        pvalue  \\\n",
       "1689  1612.012609        0.714222  0.091909  7.771007  7.786461e-15   \n",
       "\n",
       "              padj genes  \n",
       "1689  2.220295e-12   MYC  "
      ]
     },
     "execution_count": 456,
     "metadata": {},
     "output_type": "execute_result"
    }
   ],
   "source": [
    "JQ1res[JQ1res.genes=='MYC']"
   ]
  },
  {
   "cell_type": "code",
   "execution_count": null,
   "metadata": {},
   "outputs": [],
   "source": [
    "JQ1res.to_csv(\"data/jq1.mv411.csv\")"
   ]
  },
  {
   "cell_type": "code",
   "execution_count": 457,
   "metadata": {},
   "outputs": [],
   "source": [
    "JQ1res.log2FoldChange = -JQ1res.log2FoldChange"
   ]
  },
  {
   "cell_type": "code",
   "execution_count": 458,
   "metadata": {},
   "outputs": [],
   "source": [
    "JQ1res[\"gene_id\"] = JQ1res.genes"
   ]
  },
  {
   "cell_type": "code",
   "execution_count": 459,
   "metadata": {},
   "outputs": [
    {
     "data": {
      "text/html": [
       "<div>\n",
       "<style scoped>\n",
       "    .dataframe tbody tr th:only-of-type {\n",
       "        vertical-align: middle;\n",
       "    }\n",
       "\n",
       "    .dataframe tbody tr th {\n",
       "        vertical-align: top;\n",
       "    }\n",
       "\n",
       "    .dataframe thead th {\n",
       "        text-align: right;\n",
       "    }\n",
       "</style>\n",
       "<table border=\"1\" class=\"dataframe\">\n",
       "  <thead>\n",
       "    <tr style=\"text-align: right;\">\n",
       "      <th></th>\n",
       "      <th>baseMean</th>\n",
       "      <th>log2FoldChange</th>\n",
       "      <th>lfcSE</th>\n",
       "      <th>stat</th>\n",
       "      <th>pvalue</th>\n",
       "      <th>padj</th>\n",
       "      <th>genes</th>\n",
       "      <th>gene_id</th>\n",
       "    </tr>\n",
       "  </thead>\n",
       "  <tbody>\n",
       "    <tr>\n",
       "      <th>1213</th>\n",
       "      <td>520.380296</td>\n",
       "      <td>-0.718132</td>\n",
       "      <td>0.101307</td>\n",
       "      <td>7.088693</td>\n",
       "      <td>1.353845e-12</td>\n",
       "      <td>3.065662e-10</td>\n",
       "      <td>HNRNPA1</td>\n",
       "      <td>HNRNPA1</td>\n",
       "    </tr>\n",
       "  </tbody>\n",
       "</table>\n",
       "</div>"
      ],
      "text/plain": [
       "        baseMean  log2FoldChange     lfcSE      stat        pvalue  \\\n",
       "1213  520.380296       -0.718132  0.101307  7.088693  1.353845e-12   \n",
       "\n",
       "              padj    genes  gene_id  \n",
       "1213  3.065662e-10  HNRNPA1  HNRNPA1  "
      ]
     },
     "execution_count": 459,
     "metadata": {},
     "output_type": "execute_result"
    }
   ],
   "source": [
    "JQ1res[JQ1res.gene_id=='HNRNPA1']"
   ]
  },
  {
   "cell_type": "code",
   "execution_count": 461,
   "metadata": {
    "scrolled": false
   },
   "outputs": [
    {
     "data": {
      "text/html": [
       "\n",
       "\n",
       "\n",
       "\n",
       "\n",
       "\n",
       "  <div class=\"bk-root\" id=\"06bb12e1-7a0c-47e7-92d3-178e336e4973\" data-root-id=\"2094\"></div>\n"
      ]
     },
     "metadata": {},
     "output_type": "display_data"
    },
    {
     "data": {
      "application/javascript": [
       "(function(root) {\n",
       "  function embed_document(root) {\n",
       "    \n",
       "  var docs_json = {\"47df7a69-300f-4f94-ace9-4d834accf2ca\":{\"roots\":{\"references\":[{\"attributes\":{\"children\":[{\"id\":\"2092\",\"type\":\"TextInput\"},{\"id\":\"2038\",\"subtype\":\"Figure\",\"type\":\"Plot\"}]},\"id\":\"2094\",\"type\":\"Column\"},{\"attributes\":{},\"id\":\"2176\",\"type\":\"UnionRenderers\"},{\"attributes\":{\"dimension\":1,\"grid_line_color\":\"white\",\"ticker\":{\"id\":\"2055\",\"type\":\"BasicTicker\"}},\"id\":\"2058\",\"type\":\"Grid\"},{\"attributes\":{},\"id\":\"2173\",\"type\":\"UnionRenderers\"},{\"attributes\":{\"grid_line_color\":\"white\",\"ticker\":{\"id\":\"2050\",\"type\":\"BasicTicker\"}},\"id\":\"2053\",\"type\":\"Grid\"},{\"attributes\":{\"args\":{\"source\":{\"id\":\"2073\",\"type\":\"ColumnDataSource\"}},\"code\":\"\\n      var data = source.data\\n      var value = cb_obj.value\\n      var gene_id = data.gene_id\\n      var a = -1\\n      for (i=0; i < gene_id.length; i++) {\\n          if ( gene_id[i]===value ) { a=i; console.log(i); data.size[i]=7; data.alpha[i]=1; data.color[i]='#fc8d59' }\\n      }\\n      source.data = data\\n      console.log(source)\\n      console.log(cb_obj)\\n      source.change.emit()\\n      console.log(source)\\n      \"},\"id\":\"2093\",\"type\":\"CustomJS\"},{\"attributes\":{\"axis_label\":\"log-fold change\",\"formatter\":{\"id\":\"2171\",\"type\":\"BasicTickFormatter\"},\"ticker\":{\"id\":\"2050\",\"type\":\"BasicTicker\"}},\"id\":\"2049\",\"type\":\"LinearAxis\"},{\"attributes\":{\"axis_label\":\"-log(Q)\",\"formatter\":{\"id\":\"2169\",\"type\":\"BasicTickFormatter\"},\"ticker\":{\"id\":\"2055\",\"type\":\"BasicTicker\"}},\"id\":\"2054\",\"type\":\"LinearAxis\"},{\"attributes\":{},\"id\":\"2047\",\"type\":\"LinearScale\"},{\"attributes\":{\"source\":{\"id\":\"2080\",\"type\":\"ColumnDataSource\"}},\"id\":\"2086\",\"type\":\"CDSView\"},{\"attributes\":{},\"id\":\"2171\",\"type\":\"BasicTickFormatter\"},{\"attributes\":{\"data_source\":{\"id\":\"2081\",\"type\":\"ColumnDataSource\"},\"glyph\":{\"id\":\"2088\",\"type\":\"Circle\"},\"hover_glyph\":null,\"muted_glyph\":null,\"name\":\"outlines\",\"nonselection_glyph\":{\"id\":\"2089\",\"type\":\"Circle\"},\"selection_glyph\":null,\"view\":{\"id\":\"2091\",\"type\":\"CDSView\"}},\"id\":\"2090\",\"type\":\"GlyphRenderer\"},{\"attributes\":{\"callback\":null,\"data\":{\"alpha\":{\"__ndarray__\":\"MzMzMzMz4z8zMzMzMzPjPzMzMzMzM+M/MzMzMzMz4z8zMzMzMzPjPzMzMzMzM+M/MzMzMzMz4z8zMzMzMzPjPzMzMzMzM+M/\",\"dtype\":\"float64\",\"shape\":[9]},\"baseMean\":{\"__ndarray__\":\"oWpK1ZmxgkBUEDCZ/o+gQLZ2ypxCwGdAr68ejpBxe0AloWbkKUuTQJhDE4WZIHpAAP1p6QwwmUD9l7ahaO2hQAhDOOvwCGxA\",\"dtype\":\"float64\",\"shape\":[9]},\"color\":[\"#fc8d59\",\"#fc8d59\",\"#fc8d59\",\"#fc8d59\",\"#fc8d59\",\"#fc8d59\",\"#fc8d59\",\"#fc8d59\",\"#fc8d59\"],\"gene_id\":[\"RUNX2\",\"CEBPA\",\"ELF2\",\"ETV6\",\"GFI1\",\"LMO2\",\"MYC\",\"ZEB2\",\"GSE1\"],\"genes\":[\"RUNX2\",\"CEBPA\",\"ELF2\",\"ETV6\",\"GFI1\",\"LMO2\",\"MYC\",\"ZEB2\",\"GSE1\"],\"index\":[\"371\",\"460\",\"816\",\"875\",\"1024\",\"1492\",\"1689\",\"4138\",\"5273\"],\"lfcSE\":{\"__ndarray__\":\"cDcMCumpuz/XIuV6msmzP3EDMNL7U8M/cF6AobD1vT9qAtuNkHK6Pz2I/Imtrrw/1jFtmlKHtz/sydjoBxCzPx/bfP/UQMQ/\",\"dtype\":\"float64\",\"shape\":[9]},\"log2FoldChange\":{\"__ndarray__\":\"5teGUa5z4L9zK0nOL3/Ov7h24hJMEtq/S0uX9X8a2j+0PfmPztDJvzHyOHi7dsu/YR0rCuna5r8DZR7iBU3EPyrO3JKhHtu/\",\"dtype\":\"float64\",\"shape\":[9]},\"padj\":{\"__ndarray__\":\"TDfUM3oAIz+ZUAYlhA2mP38/l8CLRbk/Su43OdMLkD+AnhiDewnUP1YvpXtO/NQ/QYXe3aiHgz3OI7v1KXjPPw5lSQ0kBLo/\",\"dtype\":\"float64\",\"shape\":[9]},\"pvalue\":{\"__ndarray__\":\"yG4+6HltwD4Xepuv0NFgP3TZN9NUl3w/Vc/zjRIeQD/y4wbcMBGqPyS7V6T5aKw/cT2SzpaIAT3lY8//zPygP6ecAGnUVH4/\",\"dtype\":\"float64\",\"shape\":[9]},\"size\":[7,7,7,7,7,7,7,7,7],\"stat\":{\"__ndarray__\":\"9MRYsNwHE0BNl3ig0agIQEnlGRwQlQVA2sH96ZThC8AxOAZBSDz/Pz21js74o/4/Lj5w2oIVH0DS8GVVEAoBwPaLHsunbAVA\",\"dtype\":\"float64\",\"shape\":[9]},\"transformed_q\":{\"__ndarray__\":\"V80pBBzVFkC7a4ESJ4AFQFSWOU3APwFAhEHy8Rh3CkATuEy32bD0P8mu7XS/F/Q/by0MRaI3LEA3H2Mjj6r3P2yHZssyCwFA\",\"dtype\":\"float64\",\"shape\":[9]}},\"selected\":{\"id\":\"2177\",\"type\":\"Selection\"},\"selection_policy\":{\"id\":\"2178\",\"type\":\"UnionRenderers\"}},\"id\":\"2081\",\"type\":\"ColumnDataSource\"},{\"attributes\":{\"bottom_units\":\"screen\",\"fill_alpha\":{\"value\":0.5},\"fill_color\":{\"value\":\"lightgrey\"},\"left_units\":\"screen\",\"level\":\"overlay\",\"line_alpha\":{\"value\":1.0},\"line_color\":{\"value\":\"black\"},\"line_dash\":[4,4],\"line_width\":{\"value\":2},\"render_mode\":\"css\",\"right_units\":\"screen\",\"top_units\":\"screen\"},\"id\":\"2174\",\"type\":\"BoxAnnotation\"},{\"attributes\":{\"callback\":null,\"data\":{\"alpha\":{\"__ndarray__\":\"MzMzMzMz4z8zMzMzMzPjPzMzMzMzM+M/MzMzMzMz4z8zMzMzMzPjPzMzMzMzM+M/MzMzMzMz4z8zMzMzMzPjPzMzMzMzM+M/\",\"dtype\":\"float64\",\"shape\":[9]},\"baseMean\":{\"__ndarray__\":\"oWpK1ZmxgkBUEDCZ/o+gQLZ2ypxCwGdAr68ejpBxe0AloWbkKUuTQJhDE4WZIHpAAP1p6QwwmUD9l7ahaO2hQAhDOOvwCGxA\",\"dtype\":\"float64\",\"shape\":[9]},\"color\":[\"#fc8d59\",\"#fc8d59\",\"#fc8d59\",\"#fc8d59\",\"#fc8d59\",\"#fc8d59\",\"#fc8d59\",\"#fc8d59\",\"#fc8d59\"],\"gene_id\":[\"RUNX2\",\"CEBPA\",\"ELF2\",\"ETV6\",\"GFI1\",\"LMO2\",\"MYC\",\"ZEB2\",\"GSE1\"],\"genes\":[\"RUNX2\",\"CEBPA\",\"ELF2\",\"ETV6\",\"GFI1\",\"LMO2\",\"MYC\",\"ZEB2\",\"GSE1\"],\"index\":[\"371\",\"460\",\"816\",\"875\",\"1024\",\"1492\",\"1689\",\"4138\",\"5273\"],\"lfcSE\":{\"__ndarray__\":\"cDcMCumpuz/XIuV6msmzP3EDMNL7U8M/cF6AobD1vT9qAtuNkHK6Pz2I/Imtrrw/1jFtmlKHtz/sydjoBxCzPx/bfP/UQMQ/\",\"dtype\":\"float64\",\"shape\":[9]},\"log2FoldChange\":{\"__ndarray__\":\"5teGUa5z4L9zK0nOL3/Ov7h24hJMEtq/S0uX9X8a2j+0PfmPztDJvzHyOHi7dsu/YR0rCuna5r8DZR7iBU3EPyrO3JKhHtu/\",\"dtype\":\"float64\",\"shape\":[9]},\"padj\":{\"__ndarray__\":\"TDfUM3oAIz+ZUAYlhA2mP38/l8CLRbk/Su43OdMLkD+AnhiDewnUP1YvpXtO/NQ/QYXe3aiHgz3OI7v1KXjPPw5lSQ0kBLo/\",\"dtype\":\"float64\",\"shape\":[9]},\"pvalue\":{\"__ndarray__\":\"yG4+6HltwD4Xepuv0NFgP3TZN9NUl3w/Vc/zjRIeQD/y4wbcMBGqPyS7V6T5aKw/cT2SzpaIAT3lY8//zPygP6ecAGnUVH4/\",\"dtype\":\"float64\",\"shape\":[9]},\"size\":[7,7,7,7,7,7,7,7,7],\"stat\":{\"__ndarray__\":\"9MRYsNwHE0BNl3ig0agIQEnlGRwQlQVA2sH96ZThC8AxOAZBSDz/Pz21js74o/4/Lj5w2oIVH0DS8GVVEAoBwPaLHsunbAVA\",\"dtype\":\"float64\",\"shape\":[9]},\"transformed_q\":{\"__ndarray__\":\"V80pBBzVFkC7a4ESJ4AFQFSWOU3APwFAhEHy8Rh3CkATuEy32bD0P8mu7XS/F/Q/by0MRaI3LEA3H2Mjj6r3P2yHZssyCwFA\",\"dtype\":\"float64\",\"shape\":[9]}},\"selected\":{\"id\":\"2175\",\"type\":\"Selection\"},\"selection_policy\":{\"id\":\"2176\",\"type\":\"UnionRenderers\"}},\"id\":\"2080\",\"type\":\"ColumnDataSource\"},{\"attributes\":{\"fill_alpha\":{\"value\":0.1},\"fill_color\":{\"value\":\"#1f77b4\"},\"line_alpha\":{\"value\":0.1},\"line_color\":{\"value\":\"#1f77b4\"},\"size\":{\"field\":\"size\",\"units\":\"screen\"},\"x\":{\"field\":\"log2FoldChange\"},\"y\":{\"field\":\"transformed_q\"}},\"id\":\"2084\",\"type\":\"Circle\"},{\"attributes\":{},\"id\":\"2178\",\"type\":\"UnionRenderers\"},{\"attributes\":{\"callback\":null},\"id\":\"2041\",\"type\":\"DataRange1d\"},{\"attributes\":{},\"id\":\"2063\",\"type\":\"ResetTool\"},{\"attributes\":{\"fill_alpha\":{\"field\":\"alpha\"},\"fill_color\":{\"field\":\"color\"},\"line_alpha\":{\"field\":\"alpha\"},\"line_color\":{\"field\":\"color\"},\"size\":{\"field\":\"size\",\"units\":\"screen\"},\"x\":{\"field\":\"log2FoldChange\"},\"y\":{\"field\":\"transformed_q\"}},\"id\":\"2076\",\"type\":\"Circle\"},{\"attributes\":{\"fill_alpha\":{\"value\":0.1},\"fill_color\":{\"value\":\"#1f77b4\"},\"line_alpha\":{\"value\":0.1},\"line_color\":{\"value\":\"#1f77b4\"},\"size\":{\"units\":\"screen\",\"value\":7},\"x\":{\"field\":\"log2FoldChange\"},\"y\":{\"field\":\"transformed_q\"}},\"id\":\"2089\",\"type\":\"Circle\"},{\"attributes\":{\"fill_alpha\":{\"field\":\"alpha\"},\"fill_color\":{\"field\":\"color\"},\"line_alpha\":{\"field\":\"alpha\"},\"line_color\":{\"field\":\"color\"},\"size\":{\"field\":\"size\",\"units\":\"screen\"},\"x\":{\"field\":\"log2FoldChange\"},\"y\":{\"field\":\"transformed_q\"}},\"id\":\"2083\",\"type\":\"Circle\"},{\"attributes\":{\"text\":\"volcano plot\"},\"id\":\"2039\",\"type\":\"Title\"},{\"attributes\":{},\"id\":\"2172\",\"type\":\"Selection\"},{\"attributes\":{\"fill_alpha\":{\"value\":0.1},\"fill_color\":{\"value\":\"#1f77b4\"},\"line_alpha\":{\"value\":0.1},\"line_color\":{\"value\":\"#1f77b4\"},\"size\":{\"field\":\"size\",\"units\":\"screen\"},\"x\":{\"field\":\"log2FoldChange\"},\"y\":{\"field\":\"transformed_q\"}},\"id\":\"2077\",\"type\":\"Circle\"},{\"attributes\":{\"data_source\":{\"id\":\"2080\",\"type\":\"ColumnDataSource\"},\"glyph\":{\"id\":\"2083\",\"type\":\"Circle\"},\"hover_glyph\":null,\"muted_glyph\":null,\"name\":\"circles\",\"nonselection_glyph\":{\"id\":\"2084\",\"type\":\"Circle\"},\"selection_glyph\":null,\"view\":{\"id\":\"2086\",\"type\":\"CDSView\"}},\"id\":\"2085\",\"type\":\"GlyphRenderer\"},{\"attributes\":{\"overlay\":{\"id\":\"2174\",\"type\":\"BoxAnnotation\"}},\"id\":\"2061\",\"type\":\"BoxZoomTool\"},{\"attributes\":{},\"id\":\"2177\",\"type\":\"Selection\"},{\"attributes\":{},\"id\":\"2055\",\"type\":\"BasicTicker\"},{\"attributes\":{},\"id\":\"2059\",\"type\":\"PanTool\"},{\"attributes\":{},\"id\":\"2050\",\"type\":\"BasicTicker\"},{\"attributes\":{},\"id\":\"2060\",\"type\":\"WheelZoomTool\"},{\"attributes\":{\"callback\":null,\"data\":{\"alpha\":{\"__ndarray__\":\"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\",\"dtype\":\"float64\",\"shape\":[2182]},\"baseMean\":{\"__ndarray__\":\"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\",\"dtype\":\"float64\",\"shape\":[2182]},\"color\":[\"#1a9641\",\"#1a9641\",\"#1a9641\",\"#1a9641\",\"#1a9641\",\"#1a9641\",\"#1a9641\",\"#1a9641\",\"#1a9641\",\"#1a9641\",\"#1a9641\",\"#1a9641\",\"#1a9641\",\"#1a9641\",\"#1a9641\",\"#1a9641\",\"#1a9641\",\"#1a9641\",\"#1a9641\",\"#1a9641\",\"#1a9641\",\"#1a9641\",\"#1a9641\",\"#1a9641\",\"#1a9641\",\"#1a9641\",\"#1a9641\",\"#1a9641\",\"#1a9641\",\"#1a9641\",\"#1a9641\",\"#1a9641\",\"#1a9641\",\"#1a9641\",\"#1a9641\",\"#1a9641\",\"#1a9641\",\"#1a9641\",\"#1a9641\",\"#1a9641\",\"#1a9641\",\"#1a9641\",\"#1a9641\",\"#1a9641\",\"#1a9641\",\"#1a9641\",\"#1a9641\",\"#1a9641\",\"#1a9641\",\"#1a9641\",\"#1a9641\",\"#1a9641\",\"#1a9641\",\"#1a9641\",\"#1a9641\",\"#1a9641\",\"#1a9641\",\"#1a9641\",\"#1a9641\",\"#1a9641\",\"#1a9641\",\"#1a9641\",\"#1a9641\",\"#1a9641\",\"#1a9641\",\"#1a9641\",\"#1a9641\",\"#1a9641\",\"#1a9641\",\"#1a9641\",\"#1a9641\",\"#1a9641\",\"#1a9641\",\"#1a9641\",\"#1a9641\",\"#1a9641\",\"#1a9641\",\"#1a9641\",\"#1a9641\",\"#1a9641\",\"#1a9641\",\"#1a9641\",\"#1a9641\",\"#1a9641\",\"#1a9641\",\"#1a9641\",\"#1a9641\",\"#1a9641\",\"#1a9641\",\"#1a9641\",\"#1a9641\",\"#1a9641\",\"#1a9641\",\"#1a9641\",\"#1a9641\",\"#1a9641\",\"#1a9641\",\"#1a9641\",\"#1a9641\",\"#1a9641\",\"#1a9641\",\"#1a9641\",\"#1a9641\",\"#1a9641\",\"#1a9641\",\"#1a9641\",\"#1a9641\",\"#1a9641\",\"#1a9641\",\"#1a9641\",\"#1a9641\",\"#1a9641\",\"#1a9641\",\"#1a9641\",\"#1a9641\",\"#1a9641\",\"#1a9641\",\"#1a9641\",\"#1a9641\",\"#1a9641\",\"#1a9641\",\"#1a9641\",\"#1a9641\",\"#1a9641\",\"#1a9641\",\"#1a9641\",\"#1a9641\",\"#1a9641\",\"#1a9641\",\"#1a9641\",\"#1a9641\",\"#1a9641\",\"#1a9641\",\"#1a9641\",\"#1a9641\",\"#1a9641\",\"#1a9641\",\"#1a9641\",\"#1a9641\",\"#1a9641\",\"#1a9641\",\"#1a9641\",\"#1a9641\",\"#1a9641\",\"#1a9641\",\"#1a9641\",\"#1a9641\",\"#1a9641\",\"#1a9641\",\"#1a9641\",\"#1a9641\",\"#1a9641\",\"#1a9641\",\"#1a9641\",\"#1a9641\",\"#1a9641\",\"#1a9641\",\"#1a9641\",\"#1a9641\",\"#1a9641\",\"#1a9641\",\"#1a9641\",\"#1a9641\",\"#1a9641\",\"#1a9641\",\"#1a9641\",\"#1a9641\",\"#1a9641\",\"#1a9641\",\"#1a9641\",\"#1a9641\",\"#1a9641\",\"#1a9641\",\"#1a9641\",\"#1a9641\",\"#1a9641\",\"#1a9641\",\"#1a9641\",\"#1a9641\",\"#1a9641\",\"#1a9641\",\"#1a9641\",\"#1a9641\",\"#1a9641\",\"#1a9641\",\"#1a9641\",\"#1a9641\",\"#1a9641\",\"#1a9641\",\"#1a9641\",\"#1a9641\",\"#1a9641\",\"#1a9641\",\"#1a9641\",\"#1a9641\",\"#1a9641\",\"#1a9641\",\"#1a9641\",\"#1a9641\",\"#1a9641\",\"#1a9641\",\"#1a9641\",\"#1a9641\",\"#1a9641\",\"#1a9641\",\"#1a9641\",\"#1a9641\",\"#1a9641\",\"#1a9641\",\"#1a9641\",\"#1a9641\",\"#1a9641\",\"#1a9641\",\"#1a9641\",\"#1a9641\",\"#1a9641\",\"#1a9641\",\"#1a9641\",\"#1a9641\",\"#1a9641\",\"#1a9641\",\"#1a9641\",\"#1a9641\",\"#1a9641\",\"#1a9641\",\"#1a9641\",\"#1a9641\",\"#1a9641\",\"#1a9641\",\"#1a9641\",\"#1a9641\",\"#1a9641\",\"#1a9641\",\"#1a9641\",\"#1a9641\",\"#1a9641\",\"#1a9641\",\"#1a9641\",\"#1a9641\",\"#1a9641\",\"#1a9641\",\"#1a9641\",\"#1a9641\",\"#1a9641\",\"#1a9641\",\"#1a9641\",\"#1a9641\",\"#1a9641\",\"#1a9641\",\"#1a9641\",\"#1a9641\",\"#1a9641\",\"#1a9641\",\"#1a9641\",\"#1a9641\",\"#1a9641\",\"#1a9641\",\"#1a9641\",\"#1a9641\",\"#1a9641\",\"#1a9641\",\"#1a9641\",\"#1a9641\",\"#1a9641\",\"#1a9641\",\"#1a9641\",\"#1a9641\",\"#1a9641\",\"#1a9641\",\"#1a9641\",\"#1a9641\",\"#1a9641\",\"#1a9641\",\"#1a9641\",\"#1a9641\",\"#1a9641\",\"#1a9641\",\"#1a9641\",\"#1a9641\",\"#1a9641\",\"#1a9641\",\"#1a9641\",\"#1a9641\",\"#1a9641\",\"#1a9641\",\"#1a9641\",\"#1a9641\",\"#1a9641\",\"#1a9641\",\"#1a9641\",\"#1a9641\",\"#1a9641\",\"#1a9641\",\"#1a9641\",\"#1a9641\",\"#1a9641\",\"#1a9641\",\"#1a9641\",\"#1a9641\",\"#1a9641\",\"#1a9641\",\"#1a9641\",\"#1a9641\",\"#1a9641\",\"#1a9641\",\"#1a9641\",\"#1a9641\",\"#1a9641\",\"#1a9641\",\"#1a9641\",\"#1a9641\",\"#1a9641\",\"#1a9641\",\"#1a9641\",\"#1a9641\",\"#1a9641\",\"#1a9641\",\"#1a9641\",\"#1a9641\",\"#1a9641\",\"#1a9641\",\"#1a9641\",\"#1a9641\",\"#1a9641\",\"#1a9641\",\"#1a9641\",\"#1a9641\",\"#1a9641\",\"#1a9641\",\"#1a9641\",\"#1a9641\",\"#1a9641\",\"#1a9641\",\"#1a9641\",\"#1a9641\",\"#1a9641\",\"#1a9641\",\"#1a9641\",\"#1a9641\",\"#1a9641\",\"#1a9641\",\"#1a9641\",\"#1a9641\",\"#1a9641\",\"#1a9641\",\"#1a9641\",\"#1a9641\",\"#1a9641\",\"#1a9641\",\"#1a9641\",\"#1a9641\",\"#1a9641\",\"#1a9641\",\"#1a9641\",\"#1a9641\",\"#1a9641\",\"#1a9641\",\"#1a9641\",\"#1a9641\",\"#1a9641\",\"#1a9641\",\"#1a9641\",\"#1a9641\",\"#1a9641\",\"#1a9641\",\"#1a9641\",\"#1a9641\",\"#1a9641\",\"#1a9641\",\"#1a9641\",\"#1a9641\",\"#1a9641\",\"#1a9641\",\"#1a9641\",\"#1a9641\",\"#1a9641\",\"#1a9641\",\"#1a9641\",\"#1a9641\",\"#1a9641\",\"#1a9641\",\"#1a9641\",\"#1a9641\",\"#1a9641\",\"#1a9641\",\"#1a9641\",\"#1a9641\",\"#1a9641\",\"#1a9641\",\"#1a9641\",\"#1a9641\",\"#1a9641\",\"#1a9641\",\"#1a9641\",\"#1a9641\",\"#1a9641\",\"#1a9641\",\"#1a9641\",\"#1a9641\",\"#1a9641\",\"#1a9641\",\"#1a9641\",\"#1a9641\",\"#1a9641\",\"#1a9641\",\"#1a9641\",\"#1a9641\",\"#1a9641\",\"#1a9641\",\"#1a9641\",\"#1a9641\",\"#1a9641\",\"#1a9641\",\"#1a9641\",\"#1a9641\",\"#1a9641\",\"#1a9641\",\"#1a9641\",\"#1a9641\",\"#1a9641\",\"#1a9641\",\"#1a9641\",\"#1a9641\",\"#1a9641\",\"#1a9641\",\"#1a9641\",\"#1a9641\",\"#1a9641\",\"#1a9641\",\"#1a9641\",\"#1a9641\",\"#1a9641\",\"#1a9641\",\"#1a9641\",\"#1a9641\",\"#1a9641\",\"#1a9641\",\"#1a9641\",\"#1a9641\",\"#1a9641\",\"#1a9641\",\"#1a9641\",\"#1a9641\",\"#1a9641\",\"#1a9641\",\"#1a9641\",\"#1a9641\",\"#1a9641\",\"#1a9641\",\"#1a9641\",\"#1a9641\",\"#1a9641\",\"#1a9641\",\"#1a9641\",\"#1a9641\",\"#1a9641\",\"#1a9641\",\"#1a9641\",\"#1a9641\",\"#1a9641\",\"#1a9641\",\"#1a9641\",\"#1a9641\",\"#1a9641\",\"#1a9641\",\"#1a9641\",\"#1a9641\",\"#1a9641\",\"#1a9641\",\"#1a9641\",\"#1a9641\",\"#1a9641\",\"#1a9641\",\"#1a9641\",\"#1a9641\",\"#1a9641\",\"#1a9641\",\"#1a9641\",\"#1a9641\",\"#1a9641\",\"#1a9641\",\"#1a9641\",\"#1a9641\",\"#1a9641\",\"#1a9641\",\"#1a9641\",\"#1a9641\",\"#1a9641\",\"#1a9641\",\"#1a9641\",\"#1a9641\",\"#1a9641\",\"#1a9641\",\"#1a9641\",\"#1a9641\",\"#1a9641\",\"#1a9641\",\"#1a9641\",\"#1a9641\",\"#1a9641\",\"#1a9641\",\"#1a9641\",\"#1a9641\",\"#1a9641\",\"#1a9641\",\"#1a9641\",\"#1a9641\",\"#1a9641\",\"#1a9641\",\"#1a9641\",\"#1a9641\",\"#1a9641\",\"#1a9641\",\"#1a9641\",\"#1a9641\",\"#1a9641\",\"#1a9641\",\"#1a9641\",\"#1a9641\",\"#1a9641\",\"#1a9641\",\"#1a9641\",\"#1a9641\",\"#1a9641\",\"#1a9641\",\"#1a9641\",\"#1a9641\",\"#1a9641\",\"#1a9641\",\"#1a9641\",\"#1a9641\",\"#1a9641\",\"#1a9641\",\"#1a9641\",\"#1a9641\",\"#1a9641\",\"#1a9641\",\"#1a9641\",\"#1a9641\",\"#1a9641\",\"#1a9641\",\"#1a9641\",\"#1a9641\",\"#1a9641\",\"#1a9641\",\"#1a9641\",\"#1a9641\",\"#1a9641\",\"#1a9641\",\"#1a9641\",\"#1a9641\",\"#1a9641\",\"#1a9641\",\"#1a9641\",\"#1a9641\",\"#1a9641\",\"#1a9641\",\"#1a9641\",\"#1a9641\",\"#1a9641\",\"#1a9641\",\"#1a9641\",\"#1a9641\",\"#1a9641\",\"#1a9641\",\"#1a9641\",\"#1a9641\",\"#1a9641\",\"#1a9641\",\"#1a9641\",\"#1a9641\",\"#1a9641\",\"#1a9641\",\"#1a9641\",\"#1a9641\",\"#1a9641\",\"#1a9641\",\"#1a9641\",\"#1a9641\",\"#1a9641\",\"#1a9641\",\"#1a9641\",\"#1a9641\",\"#1a9641\",\"#1a9641\",\"#1a9641\",\"#1a9641\",\"#1a9641\",\"#1a9641\",\"#1a9641\",\"#1a9641\",\"#1a9641\",\"#1a9641\",\"#1a9641\",\"#1a9641\",\"#1a9641\",\"#1a9641\",\"#1a9641\",\"#1a9641\",\"#1a9641\",\"#1a9641\",\"#1a9641\",\"#1a9641\",\"#1a9641\",\"#1a9641\",\"#1a9641\",\"#1a9641\",\"#1a9641\",\"#1a9641\",\"#1a9641\",\"#1a9641\",\"#1a9641\",\"#1a9641\",\"#1a9641\",\"#1a9641\",\"#1a9641\",\"#1a9641\",\"#1a9641\",\"#1a9641\",\"#1a9641\",\"#1a9641\",\"#1a9641\",\"#1a9641\",\"#1a9641\",\"#1a9641\",\"#1a9641\",\"#1a9641\",\"#1a9641\",\"#1a9641\",\"#1a9641\",\"#1a9641\",\"#1a9641\",\"#1a9641\",\"#1a9641\",\"#1a9641\",\"#1a9641\",\"#1a9641\",\"#1a9641\",\"#1a9641\",\"#1a9641\",\"#1a9641\",\"#1a9641\",\"#1a9641\",\"#1a9641\",\"#1a9641\",\"#1a9641\",\"#1a9641\",\"#1a9641\",\"#1a9641\",\"#1a9641\",\"#1a9641\",\"#1a9641\",\"#1a9641\",\"#1a9641\",\"#1a9641\",\"#1a9641\",\"#1a9641\",\"#1a9641\",\"#1a9641\",\"#1a9641\",\"#1a9641\",\"#1a9641\",\"#1a9641\",\"#1a9641\",\"#1a9641\",\"#1a9641\",\"#1a9641\",\"#1a9641\",\"#1a9641\",\"#1a9641\",\"#1a9641\",\"#1a9641\",\"#1a9641\",\"#1a9641\",\"#1a9641\",\"#1a9641\",\"#1a9641\",\"#1a9641\",\"#1a9641\",\"#1a9641\",\"#1a9641\",\"#1a9641\",\"#1a9641\",\"#1a9641\",\"#1a9641\",\"#1a9641\",\"#1a9641\",\"#1a9641\",\"#1a9641\",\"#1a9641\",\"#1a9641\",\"#1a9641\",\"#1a9641\",\"#1a9641\",\"#1a9641\",\"#1a9641\",\"#1a9641\",\"#1a9641\",\"#1a9641\",\"#1a9641\",\"#1a9641\",\"#1a9641\",\"#1a9641\",\"#1a9641\",\"#1a9641\",\"#1a9641\",\"#1a9641\",\"#1a9641\",\"#1a9641\",\"#1a9641\",\"#1a9641\",\"#1a9641\",\"#1a9641\",\"#1a9641\",\"#1a9641\",\"#1a9641\",\"#1a9641\",\"#1a9641\",\"#1a9641\",\"#1a9641\",\"#1a9641\",\"#1a9641\",\"#1a9641\",\"#1a9641\",\"#1a9641\",\"#1a9641\",\"#1a9641\",\"#1a9641\",\"#1a9641\",\"#1a9641\",\"#1a9641\",\"#1a9641\",\"#1a9641\",\"#1a9641\",\"#1a9641\",\"#1a9641\",\"#1a9641\",\"#1a9641\",\"#1a9641\",\"#1a9641\",\"#1a9641\",\"#1a9641\",\"#1a9641\",\"#1a9641\",\"#1a9641\",\"#1a9641\",\"#1a9641\",\"#1a9641\",\"#1a9641\",\"#1a9641\",\"#1a9641\",\"#1a9641\",\"#1a9641\",\"#1a9641\",\"#1a9641\",\"#1a9641\",\"#1a9641\",\"#1a9641\",\"#1a9641\",\"#1a9641\",\"#1a9641\",\"#1a9641\",\"#1a9641\",\"#1a9641\",\"#1a9641\",\"#1a9641\",\"#1a9641\",\"#1a9641\",\"#1a9641\",\"#1a9641\",\"#1a9641\",\"#1a9641\",\"#1a9641\",\"#1a9641\",\"#1a9641\",\"#1a9641\",\"#1a9641\",\"#1a9641\",\"#1a9641\",\"#1a9641\",\"#1a9641\",\"#1a9641\",\"#1a9641\",\"#1a9641\",\"#1a9641\",\"#1a9641\",\"#1a9641\",\"#1a9641\",\"#1a9641\",\"#1a9641\",\"#1a9641\",\"#1a9641\",\"#1a9641\",\"#1a9641\",\"#1a9641\",\"#1a9641\",\"#1a9641\",\"#1a9641\",\"#1a9641\",\"#1a9641\",\"#1a9641\",\"#1a9641\",\"#1a9641\",\"#1a9641\",\"#1a9641\",\"#1a9641\",\"#1a9641\",\"#1a9641\",\"#1a9641\",\"#1a9641\",\"#1a9641\",\"#1a9641\",\"#1a9641\",\"#1a9641\",\"#1a9641\",\"#1a9641\",\"#1a9641\",\"#1a9641\",\"#1a9641\",\"#1a9641\",\"#1a9641\",\"#1a9641\",\"#1a9641\",\"#1a9641\",\"#1a9641\",\"#1a9641\",\"#1a9641\",\"#1a9641\",\"#1a9641\",\"#1a9641\",\"#1a9641\",\"#1a9641\",\"#1a9641\",\"#1a9641\",\"#1a9641\",\"#1a9641\",\"#1a9641\",\"#1a9641\",\"#1a9641\",\"#1a9641\",\"#1a9641\",\"#1a9641\",\"#1a9641\",\"#1a9641\",\"#1a9641\",\"#1a9641\",\"#1a9641\",\"#1a9641\",\"#1a9641\",\"#1a9641\",\"#1a9641\",\"#1a9641\",\"#1a9641\",\"#1a9641\",\"#1a9641\",\"#1a9641\",\"#1a9641\",\"#1a9641\",\"#1a9641\",\"#1a9641\",\"#1a9641\",\"#1a9641\",\"#1a9641\",\"#1a9641\",\"#1a9641\",\"#1a9641\",\"#1a9641\",\"#1a9641\",\"#1a9641\",\"#1a9641\",\"#1a9641\",\"#1a9641\",\"#1a9641\",\"#1a9641\",\"#1a9641\",\"#1a9641\",\"#1a9641\",\"#1a9641\",\"#1a9641\",\"#1a9641\",\"#1a9641\",\"#1a9641\",\"#1a9641\",\"#1a9641\",\"#1a9641\",\"#1a9641\",\"#1a9641\",\"#1a9641\",\"#1a9641\",\"#1a9641\",\"#1a9641\",\"#1a9641\",\"#1a9641\",\"#1a9641\",\"#1a9641\",\"#1a9641\",\"#1a9641\",\"#1a9641\",\"#1a9641\",\"#1a9641\",\"#1a9641\",\"#1a9641\",\"#1a9641\",\"#1a9641\",\"#1a9641\",\"#1a9641\",\"#1a9641\",\"#1a9641\",\"#1a9641\",\"#1a9641\",\"#1a9641\",\"#1a9641\",\"#1a9641\",\"#1a9641\",\"#1a9641\",\"#1a9641\",\"#1a9641\",\"#1a9641\",\"#1a9641\",\"#1a9641\",\"#1a9641\",\"#1a9641\",\"#1a9641\",\"#1a9641\",\"#1a9641\",\"#1a9641\",\"#1a9641\",\"#1a9641\",\"#1a9641\",\"#1a9641\",\"#1a9641\",\"#1a9641\",\"#1a9641\",\"#1a9641\",\"#1a9641\",\"#1a9641\",\"#1a9641\",\"#1a9641\",\"#1a9641\",\"#1a9641\",\"#1a9641\",\"#1a9641\",\"#1a9641\",\"#1a9641\",\"#1a9641\",\"#1a9641\",\"#1a9641\",\"#1a9641\",\"#1a9641\",\"#1a9641\",\"#1a9641\",\"#1a9641\",\"#1a9641\",\"#1a9641\",\"#1a9641\",\"#1a9641\",\"#1a9641\",\"#1a9641\",\"#1a9641\",\"#1a9641\",\"#1a9641\",\"#1a9641\",\"#1a9641\",\"#1a9641\",\"#1a9641\",\"#1a9641\",\"#1a9641\",\"#1a9641\",\"#1a9641\",\"#1a9641\",\"#1a9641\",\"#1a9641\",\"#1a9641\",\"#1a9641\",\"#1a9641\",\"#1a9641\",\"#1a9641\",\"#1a9641\",\"#1a9641\",\"#1a9641\",\"#1a9641\",\"#1a9641\",\"#1a9641\",\"#1a9641\",\"#1a9641\",\"#1a9641\",\"#1a9641\",\"#1a9641\",\"#1a9641\",\"#1a9641\",\"#1a9641\",\"#1a9641\",\"#1a9641\",\"#1a9641\",\"#1a9641\",\"#1a9641\",\"#1a9641\",\"#1a9641\",\"#1a9641\",\"#1a9641\",\"#1a9641\",\"#1a9641\",\"#1a9641\",\"#1a9641\",\"#1a9641\",\"#1a9641\",\"#1a9641\",\"#1a9641\",\"#1a9641\",\"#1a9641\",\"#1a9641\",\"#1a9641\",\"#1a9641\",\"#1a9641\",\"#1a9641\",\"#1a9641\",\"#1a9641\",\"#1a9641\",\"#1a9641\",\"#1a9641\",\"#1a9641\",\"#1a9641\",\"#1a9641\",\"#1a9641\",\"#1a9641\",\"#1a9641\",\"#1a9641\",\"#1a9641\",\"#1a9641\",\"#1a9641\",\"#1a9641\",\"#1a9641\",\"#1a9641\",\"#1a9641\",\"#1a9641\",\"#1a9641\",\"#1a9641\",\"#1a9641\",\"#1a9641\",\"#1a9641\",\"#1a9641\",\"#1a9641\",\"#1a9641\",\"#1a9641\",\"#1a9641\",\"#1a9641\",\"#1a9641\",\"#1a9641\",\"#1a9641\",\"#1a9641\",\"#1a9641\",\"#1a9641\",\"#1a9641\",\"#1a9641\",\"#1a9641\",\"#1a9641\",\"#1a9641\",\"#1a9641\",\"#1a9641\",\"#1a9641\",\"#1a9641\",\"#1a9641\",\"#1a9641\",\"#1a9641\",\"#1a9641\",\"#1a9641\",\"#1a9641\",\"#1a9641\",\"#1a9641\",\"#1a9641\",\"#1a9641\",\"#1a9641\",\"#1a9641\",\"#1a9641\",\"#1a9641\",\"#1a9641\",\"#1a9641\",\"#1a9641\",\"#1a9641\",\"#1a9641\",\"#1a9641\",\"#1a9641\",\"#1a9641\",\"#1a9641\",\"#1a9641\",\"#1a9641\",\"#1a9641\",\"#1a9641\",\"#1a9641\",\"#1a9641\",\"#1a9641\",\"#1a9641\",\"#1a9641\",\"#1a9641\",\"#1a9641\",\"#1a9641\",\"#1a9641\",\"#1a9641\",\"#1a9641\",\"#1a9641\",\"#1a9641\",\"#1a9641\",\"#1a9641\",\"#1a9641\",\"#1a9641\",\"#1a9641\",\"#1a9641\",\"#1a9641\",\"#1a9641\",\"#1a9641\",\"#1a9641\",\"#1a9641\",\"#1a9641\",\"#1a9641\",\"#1a9641\",\"#1a9641\",\"#1a9641\",\"#1a9641\",\"#1a9641\",\"#1a9641\",\"#1a9641\",\"#1a9641\",\"#1a9641\",\"#1a9641\",\"#1a9641\",\"#1a9641\",\"#1a9641\",\"#1a9641\",\"#1a9641\",\"#1a9641\",\"#1a9641\",\"#1a9641\",\"#1a9641\",\"#1a9641\",\"#1a9641\",\"#1a9641\",\"#1a9641\",\"#1a9641\",\"#1a9641\",\"#1a9641\",\"#1a9641\",\"#1a9641\",\"#1a9641\",\"#1a9641\",\"#1a9641\",\"#1a9641\",\"#1a9641\",\"#1a9641\",\"#1a9641\",\"#1a9641\",\"#1a9641\",\"#1a9641\",\"#1a9641\",\"#1a9641\",\"#1a9641\",\"#1a9641\",\"#1a9641\",\"#1a9641\",\"#1a9641\",\"#1a9641\",\"#1a9641\",\"#1a9641\",\"#1a9641\",\"#1a9641\",\"#1a9641\",\"#1a9641\",\"#1a9641\",\"#1a9641\",\"#1a9641\",\"#1a9641\",\"#1a9641\",\"#1a9641\",\"#1a9641\",\"#1a9641\",\"#1a9641\",\"#1a9641\",\"#1a9641\",\"#1a9641\",\"#1a9641\",\"#1a9641\",\"#1a9641\",\"#1a9641\",\"#1a9641\",\"#1a9641\",\"#1a9641\",\"#1a9641\",\"#1a9641\",\"#1a9641\",\"#1a9641\",\"#1a9641\",\"#1a9641\",\"#1a9641\",\"#1a9641\",\"#1a9641\",\"#1a9641\",\"#1a9641\",\"#1a9641\",\"#1a9641\",\"#1a9641\",\"#1a9641\",\"#1a9641\",\"#1a9641\",\"#1a9641\",\"#1a9641\",\"#1a9641\",\"#1a9641\",\"#1a9641\",\"#1a9641\",\"#1a9641\",\"#1a9641\",\"#1a9641\",\"#1a9641\",\"#1a9641\",\"#1a9641\",\"#1a9641\",\"#1a9641\",\"#1a9641\",\"#1a9641\",\"#1a9641\",\"#1a9641\",\"#1a9641\",\"#1a9641\",\"#1a9641\",\"#1a9641\",\"#1a9641\",\"#1a9641\",\"#1a9641\",\"#1a9641\",\"#1a9641\",\"#1a9641\",\"#1a9641\",\"#1a9641\",\"#1a9641\",\"#1a9641\",\"#1a9641\",\"#1a9641\",\"#1a9641\",\"#1a9641\",\"#1a9641\",\"#1a9641\",\"#1a9641\",\"#1a9641\",\"#1a9641\",\"#1a9641\",\"#1a9641\",\"#1a9641\",\"#1a9641\",\"#1a9641\",\"#1a9641\",\"#1a9641\",\"#1a9641\",\"#1a9641\",\"#1a9641\",\"#1a9641\",\"#1a9641\",\"#1a9641\",\"#1a9641\",\"#1a9641\",\"#1a9641\",\"#1a9641\",\"#1a9641\",\"#1a9641\",\"#1a9641\",\"#1a9641\",\"#1a9641\",\"#1a9641\",\"#1a9641\",\"#1a9641\",\"#1a9641\",\"#1a9641\",\"#1a9641\",\"#1a9641\",\"#1a9641\",\"#1a9641\",\"#1a9641\",\"#1a9641\",\"#1a9641\",\"#1a9641\",\"#1a9641\",\"#1a9641\",\"#1a9641\",\"#1a9641\",\"#1a9641\",\"#1a9641\",\"#1a9641\",\"#1a9641\",\"#1a9641\",\"#1a9641\",\"#1a9641\",\"#1a9641\",\"#1a9641\",\"#1a9641\",\"#1a9641\",\"#1a9641\",\"#1a9641\",\"#1a9641\",\"#1a9641\",\"#1a9641\",\"#1a9641\",\"#1a9641\",\"#1a9641\",\"#1a9641\",\"#1a9641\",\"#1a9641\",\"#1a9641\",\"#1a9641\",\"#1a9641\",\"#1a9641\",\"#1a9641\",\"#1a9641\",\"#1a9641\",\"#1a9641\",\"#1a9641\",\"#1a9641\",\"#1a9641\",\"#1a9641\",\"#1a9641\",\"#1a9641\",\"#1a9641\",\"#1a9641\",\"#1a9641\",\"#1a9641\",\"#1a9641\",\"#1a9641\",\"#1a9641\",\"#1a9641\",\"#1a9641\",\"#1a9641\",\"#1a9641\",\"#1a9641\",\"#1a9641\",\"#1a9641\",\"#1a9641\",\"#1a9641\",\"#1a9641\",\"#1a9641\",\"#1a9641\",\"#1a9641\",\"#1a9641\",\"#1a9641\",\"#1a9641\",\"#1a9641\",\"#1a9641\",\"#1a9641\",\"#1a9641\",\"#1a9641\",\"#1a9641\",\"#1a9641\",\"#1a9641\",\"#1a9641\",\"#1a9641\",\"#1a9641\",\"#1a9641\",\"#1a9641\",\"#1a9641\",\"#1a9641\",\"#1a9641\",\"#1a9641\",\"#1a9641\",\"#1a9641\",\"#1a9641\",\"#1a9641\",\"#1a9641\",\"#1a9641\",\"#1a9641\",\"#1a9641\",\"#1a9641\",\"#1a9641\",\"#1a9641\",\"#1a9641\",\"#1a9641\",\"#1a9641\",\"#1a9641\",\"#1a9641\",\"#1a9641\",\"#1a9641\",\"#1a9641\",\"#1a9641\",\"#1a9641\",\"#1a9641\",\"#1a9641\",\"#1a9641\",\"#1a9641\",\"#1a9641\",\"#1a9641\",\"#1a9641\",\"#1a9641\",\"#1a9641\",\"#1a9641\",\"#1a9641\",\"#1a9641\",\"#1a9641\",\"#1a9641\",\"#1a9641\",\"#1a9641\",\"#1a9641\",\"#1a9641\",\"#1a9641\",\"#1a9641\",\"#1a9641\",\"#1a9641\",\"#1a9641\",\"#1a9641\",\"#1a9641\",\"#1a9641\",\"#1a9641\",\"#1a9641\",\"#1a9641\",\"#1a9641\",\"#1a9641\",\"#1a9641\",\"#1a9641\",\"#1a9641\",\"#1a9641\",\"#1a9641\",\"#1a9641\",\"#1a9641\",\"#1a9641\",\"#1a9641\",\"#1a9641\",\"#1a9641\",\"#1a9641\",\"#1a9641\",\"#1a9641\",\"#1a9641\",\"#1a9641\",\"#1a9641\",\"#1a9641\",\"#1a9641\",\"#1a9641\",\"#1a9641\",\"#1a9641\",\"#1a9641\",\"#1a9641\",\"#1a9641\",\"#1a9641\",\"#1a9641\",\"#1a9641\",\"#1a9641\",\"#1a9641\",\"#1a9641\",\"#1a9641\",\"#1a9641\",\"#1a9641\",\"#1a9641\",\"#1a9641\",\"#1a9641\",\"#1a9641\",\"#1a9641\",\"#1a9641\",\"#1a9641\",\"#1a9641\",\"#1a9641\",\"#1a9641\",\"#1a9641\",\"#1a9641\",\"#1a9641\",\"#1a9641\",\"#1a9641\",\"#1a9641\",\"#1a9641\",\"#1a9641\",\"#1a9641\",\"#1a9641\",\"#1a9641\",\"#1a9641\",\"#1a9641\",\"#1a9641\",\"#1a9641\",\"#1a9641\",\"#1a9641\",\"#1a9641\",\"#1a9641\",\"#1a9641\",\"#1a9641\",\"#1a9641\",\"#1a9641\",\"#1a9641\",\"#1a9641\",\"#1a9641\",\"#1a9641\",\"#1a9641\",\"#1a9641\",\"#1a9641\",\"#1a9641\",\"#1a9641\",\"#1a9641\",\"#1a9641\",\"#1a9641\",\"#1a9641\",\"#1a9641\",\"#1a9641\",\"#1a9641\",\"#1a9641\",\"#1a9641\",\"#1a9641\",\"#1a9641\",\"#1a9641\",\"#1a9641\",\"#1a9641\",\"#1a9641\",\"#1a9641\",\"#1a9641\",\"#1a9641\",\"#1a9641\",\"#1a9641\",\"#1a9641\",\"#1a9641\",\"#1a9641\",\"#1a9641\",\"#1a9641\",\"#1a9641\",\"#1a9641\",\"#1a9641\",\"#1a9641\",\"#1a9641\",\"#1a9641\",\"#1a9641\",\"#1a9641\",\"#1a9641\",\"#1a9641\",\"#1a9641\",\"#1a9641\",\"#1a9641\",\"#1a9641\",\"#1a9641\",\"#1a9641\",\"#1a9641\",\"#1a9641\",\"#1a9641\",\"#1a9641\",\"#1a9641\",\"#1a9641\",\"#1a9641\",\"#1a9641\",\"#1a9641\",\"#1a9641\",\"#1a9641\",\"#1a9641\",\"#1a9641\",\"#1a9641\",\"#1a9641\",\"#1a9641\",\"#1a9641\",\"#1a9641\",\"#1a9641\",\"#1a9641\",\"#1a9641\",\"#1a9641\",\"#1a9641\",\"#1a9641\",\"#1a9641\",\"#1a9641\",\"#1a9641\",\"#1a9641\",\"#1a9641\",\"#1a9641\",\"#1a9641\",\"#1a9641\",\"#1a9641\",\"#1a9641\",\"#1a9641\",\"#1a9641\",\"#1a9641\",\"#1a9641\",\"#1a9641\",\"#1a9641\",\"#1a9641\",\"#1a9641\",\"#1a9641\",\"#1a9641\",\"#1a9641\",\"#1a9641\",\"#1a9641\",\"#1a9641\",\"#1a9641\",\"#1a9641\",\"#1a9641\",\"#1a9641\",\"#1a9641\",\"#1a9641\",\"#1a9641\",\"#1a9641\",\"#1a9641\",\"#1a9641\",\"#1a9641\",\"#1a9641\",\"#1a9641\",\"#1a9641\",\"#1a9641\",\"#1a9641\",\"#1a9641\",\"#1a9641\",\"#1a9641\",\"#1a9641\",\"#1a9641\",\"#1a9641\",\"#1a9641\",\"#1a9641\",\"#1a9641\",\"#1a9641\",\"#1a9641\",\"#1a9641\",\"#1a9641\",\"#1a9641\",\"#1a9641\",\"#1a9641\",\"#1a9641\",\"#1a9641\",\"#1a9641\",\"#1a9641\",\"#1a9641\",\"#1a9641\",\"#1a9641\",\"#1a9641\",\"#1a9641\",\"#1a9641\",\"#1a9641\",\"#1a9641\",\"#1a9641\",\"#1a9641\",\"#1a9641\",\"#1a9641\",\"#1a9641\",\"#1a9641\",\"#1a9641\",\"#1a9641\",\"#1a9641\",\"#1a9641\",\"#1a9641\",\"#1a9641\",\"#1a9641\",\"#1a9641\",\"#1a9641\",\"#1a9641\",\"#1a9641\",\"#1a9641\",\"#1a9641\",\"#1a9641\",\"#1a9641\",\"#1a9641\",\"#1a9641\",\"#1a9641\",\"#1a9641\",\"#1a9641\",\"#1a9641\",\"#1a9641\",\"#1a9641\",\"#1a9641\",\"#1a9641\",\"#1a9641\",\"#1a9641\",\"#1a9641\",\"#1a9641\",\"#1a9641\",\"#1a9641\",\"#1a9641\",\"#1a9641\",\"#1a9641\",\"#1a9641\",\"#1a9641\",\"#1a9641\",\"#1a9641\",\"#1a9641\",\"#1a9641\",\"#1a9641\",\"#1a9641\",\"#1a9641\",\"#1a9641\",\"#1a9641\",\"#1a9641\",\"#1a9641\",\"#1a9641\",\"#1a9641\",\"#1a9641\",\"#1a9641\",\"#1a9641\",\"#1a9641\",\"#1a9641\",\"#1a9641\",\"#1a9641\",\"#1a9641\",\"#1a9641\",\"#1a9641\",\"#1a9641\",\"#1a9641\",\"#1a9641\",\"#1a9641\",\"#1a9641\",\"#1a9641\",\"#1a9641\",\"#1a9641\",\"#1a9641\",\"#1a9641\",\"#1a9641\",\"#1a9641\",\"#1a9641\",\"#1a9641\",\"#1a9641\",\"#1a9641\",\"#1a9641\",\"#1a9641\",\"#1a9641\",\"#1a9641\",\"#1a9641\",\"#1a9641\",\"#1a9641\",\"#1a9641\",\"#1a9641\",\"#1a9641\",\"#1a9641\",\"#1a9641\",\"#1a9641\",\"#1a9641\",\"#1a9641\",\"#1a9641\",\"#1a9641\",\"#1a9641\",\"#1a9641\",\"#1a9641\",\"#1a9641\",\"#1a9641\",\"#1a9641\",\"#1a9641\",\"#1a9641\",\"#1a9641\",\"#1a9641\",\"#1a9641\",\"#1a9641\",\"#1a9641\",\"#1a9641\",\"#1a9641\",\"#1a9641\",\"#1a9641\",\"#1a9641\",\"#1a9641\",\"#1a9641\",\"#1a9641\",\"#1a9641\",\"#1a9641\",\"#1a9641\",\"#1a9641\",\"#1a9641\",\"#1a9641\",\"#1a9641\",\"#1a9641\",\"#1a9641\",\"#1a9641\",\"#1a9641\",\"#1a9641\",\"#1a9641\",\"#1a9641\",\"#1a9641\",\"#1a9641\",\"#1a9641\",\"#1a9641\",\"#1a9641\",\"#1a9641\",\"#1a9641\",\"#1a9641\",\"#1a9641\",\"#1a9641\",\"#1a9641\",\"#1a9641\",\"#1a9641\",\"#1a9641\",\"#1a9641\",\"#1a9641\",\"#1a9641\",\"#1a9641\",\"#1a9641\",\"#1a9641\",\"#1a9641\",\"#1a9641\",\"#1a9641\",\"#1a9641\",\"#1a9641\",\"#1a9641\",\"#1a9641\",\"#1a9641\",\"#1a9641\",\"#1a9641\",\"#1a9641\",\"#1a9641\",\"#1a9641\",\"#1a9641\",\"#1a9641\",\"#1a9641\",\"#1a9641\",\"#1a9641\",\"#1a9641\",\"#1a9641\",\"#1a9641\",\"#1a9641\",\"#1a9641\",\"#1a9641\",\"#1a9641\",\"#1a9641\",\"#1a9641\",\"#1a9641\",\"#1a9641\",\"#1a9641\",\"#1a9641\",\"#1a9641\",\"#1a9641\",\"#1a9641\",\"#1a9641\",\"#1a9641\",\"#1a9641\",\"#1a9641\",\"#1a9641\",\"#1a9641\",\"#1a9641\",\"#1a9641\",\"#1a9641\",\"#1a9641\",\"#1a9641\",\"#1a9641\",\"#1a9641\",\"#1a9641\",\"#1a9641\",\"#1a9641\",\"#1a9641\",\"#1a9641\",\"#1a9641\",\"#1a9641\",\"#1a9641\",\"#1a9641\",\"#1a9641\",\"#1a9641\",\"#1a9641\",\"#1a9641\",\"#1a9641\",\"#1a9641\",\"#1a9641\",\"#1a9641\",\"#1a9641\",\"#1a9641\",\"#1a9641\",\"#1a9641\",\"#1a9641\",\"#1a9641\",\"#1a9641\",\"#1a9641\",\"#1a9641\",\"#1a9641\",\"#1a9641\",\"#1a9641\",\"#1a9641\",\"#1a9641\",\"#1a9641\",\"#1a9641\",\"#1a9641\",\"#1a9641\",\"#1a9641\",\"#1a9641\",\"#1a9641\",\"#1a9641\",\"#1a9641\",\"#1a9641\",\"#1a9641\",\"#1a9641\",\"#1a9641\",\"#1a9641\",\"#1a9641\",\"#1a9641\",\"#1a9641\",\"#1a9641\",\"#1a9641\",\"#1a9641\",\"#1a9641\",\"#1a9641\",\"#1a9641\",\"#1a9641\",\"#1a9641\",\"#1a9641\",\"#1a9641\",\"#1a9641\",\"#1a9641\",\"#1a9641\",\"#1a9641\",\"#1a9641\",\"#1a9641\",\"#1a9641\",\"#1a9641\",\"#1a9641\",\"#1a9641\",\"#1a9641\",\"#1a9641\",\"#1a9641\",\"#1a9641\",\"#1a9641\",\"#1a9641\",\"#1a9641\",\"#1a9641\",\"#1a9641\",\"#1a9641\",\"#1a9641\",\"#1a9641\",\"#1a9641\",\"#1a9641\",\"#1a9641\",\"#1a9641\",\"#1a9641\",\"#1a9641\",\"#1a9641\",\"#1a9641\",\"#1a9641\",\"#1a9641\",\"#1a9641\",\"#1a9641\",\"#1a9641\",\"#1a9641\",\"#1a9641\",\"#1a9641\",\"#1a9641\",\"#1a9641\",\"#1a9641\",\"#1a9641\",\"#1a9641\",\"#1a9641\",\"#1a9641\",\"#1a9641\",\"#1a9641\",\"#1a9641\",\"#1a9641\",\"#1a9641\",\"#1a9641\",\"#1a9641\",\"#1a9641\",\"#1a9641\",\"#1a9641\",\"#1a9641\",\"#1a9641\",\"#1a9641\",\"#1a9641\",\"#1a9641\",\"#1a9641\",\"#1a9641\",\"#1a9641\",\"#1a9641\",\"#1a9641\",\"#1a9641\",\"#1a9641\",\"#1a9641\",\"#1a9641\",\"#1a9641\",\"#1a9641\",\"#1a9641\",\"#1a9641\",\"#1a9641\",\"#1a9641\",\"#1a9641\",\"#1a9641\",\"#1a9641\",\"#1a9641\",\"#1a9641\",\"#1a9641\",\"#1a9641\",\"#1a9641\",\"#1a9641\",\"#1a9641\",\"#1a9641\",\"#1a9641\",\"#1a9641\",\"#1a9641\",\"#1a9641\",\"#1a9641\",\"#1a9641\",\"#1a9641\",\"#1a9641\",\"#1a9641\",\"#1a9641\",\"#1a9641\",\"#1a9641\",\"#1a9641\",\"#1a9641\",\"#1a9641\",\"#1a9641\",\"#1a9641\",\"#1a9641\",\"#1a9641\",\"#1a9641\",\"#1a9641\",\"#1a9641\",\"#1a9641\",\"#1a9641\",\"#1a9641\",\"#1a9641\",\"#1a9641\",\"#1a9641\",\"#1a9641\",\"#1a9641\",\"#1a9641\",\"#1a9641\",\"#1a9641\",\"#1a9641\",\"#1a9641\",\"#1a9641\",\"#1a9641\",\"#1a9641\",\"#1a9641\",\"#1a9641\",\"#1a9641\",\"#1a9641\",\"#1a9641\",\"#1a9641\",\"#1a9641\",\"#1a9641\",\"#1a9641\",\"#1a9641\",\"#1a9641\",\"#1a9641\",\"#1a9641\",\"#1a9641\",\"#1a9641\",\"#1a9641\",\"#1a9641\",\"#1a9641\",\"#1a9641\",\"#1a9641\",\"#1a9641\",\"#1a9641\",\"#1a9641\",\"#1a9641\",\"#1a9641\",\"#1a9641\",\"#1a9641\",\"#1a9641\",\"#1a9641\",\"#1a9641\",\"#1a9641\",\"#1a9641\",\"#1a9641\",\"#1a9641\",\"#1a9641\",\"#1a9641\",\"#1a9641\",\"#1a9641\",\"#1a9641\",\"#1a9641\",\"#1a9641\",\"#1a9641\",\"#1a9641\",\"#1a9641\",\"#1a9641\",\"#1a9641\",\"#1a9641\",\"#1a9641\",\"#1a9641\",\"#1a9641\",\"#1a9641\",\"#1a9641\",\"#1a9641\",\"#1a9641\",\"#1a9641\",\"#1a9641\",\"#1a9641\",\"#1a9641\",\"#1a9641\",\"#1a9641\",\"#1a9641\",\"#1a9641\",\"#1a9641\",\"#1a9641\",\"#1a9641\",\"#1a9641\",\"#1a9641\",\"#1a9641\",\"#1a9641\",\"#1a9641\",\"#1a9641\",\"#1a9641\",\"#1a9641\",\"#1a9641\",\"#1a9641\",\"#1a9641\",\"#1a9641\",\"#1a9641\",\"#1a9641\",\"#1a9641\",\"#1a9641\",\"#1a9641\",\"#1a9641\",\"#1a9641\",\"#1a9641\",\"#1a9641\",\"#1a9641\",\"#1a9641\",\"#1a9641\",\"#1a9641\",\"#1a9641\",\"#1a9641\",\"#1a9641\",\"#1a9641\",\"#1a9641\",\"#1a9641\",\"#1a9641\",\"#1a9641\",\"#1a9641\",\"#1a9641\",\"#1a9641\",\"#1a9641\",\"#1a9641\",\"#1a9641\",\"#1a9641\",\"#1a9641\",\"#1a9641\",\"#1a9641\",\"#1a9641\",\"#1a9641\",\"#1a9641\",\"#1a9641\",\"#1a9641\",\"#1a9641\",\"#1a9641\",\"#1a9641\",\"#1a9641\",\"#1a9641\",\"#1a9641\",\"#1a9641\",\"#1a9641\",\"#1a9641\",\"#1a9641\",\"#1a9641\",\"#1a9641\",\"#1a9641\",\"#1a9641\",\"#1a9641\",\"#1a9641\",\"#1a9641\",\"#1a9641\",\"#1a9641\",\"#1a9641\",\"#1a9641\",\"#1a9641\",\"#1a9641\",\"#1a9641\",\"#1a9641\",\"#1a9641\",\"#1a9641\",\"#1a9641\",\"#1a9641\",\"#1a9641\",\"#1a9641\",\"#1a9641\",\"#1a9641\",\"#1a9641\",\"#1a9641\",\"#1a9641\",\"#1a9641\",\"#1a9641\",\"#1a9641\",\"#1a9641\",\"#1a9641\",\"#1a9641\",\"#1a9641\",\"#1a9641\",\"#1a9641\",\"#1a9641\",\"#1a9641\",\"#1a9641\",\"#1a9641\",\"#1a9641\",\"#1a9641\",\"#1a9641\",\"#1a9641\",\"#1a9641\",\"#1a9641\",\"#1a9641\",\"#1a9641\",\"#1a9641\",\"#1a9641\",\"#1a9641\",\"#1a9641\",\"#1a9641\",\"#1a9641\",\"#1a9641\",\"#1a9641\",\"#1a9641\",\"#1a9641\",\"#1a9641\"],\"gene_id\":[\"NAT1\",\"AARS1\",\"ACADSB\",\"ACADVL\",\"ACOX1\",\"ACPP\",\"ACTB\",\"ACTG1\",\"ACTN4\",\"ACTN1\",\"ACVR2B\",\"ACY1\",\"ADA\",\"ADAM8\",\"ADCY3\",\"ADCY7\",\"ADD2\",\"ADK\",\"ADORA2B\",\"ADRB2\",\"GRK2\",\"ADSS2\",\"TLE5\",\"AGER\",\"JAG1\",\"AGT\",\"AHR\",\"AIF1\",\"CRYBG1\",\"ALDH9A1\",\"ALOX12\",\"ALOX5AP\",\"AMD1\",\"AMPD2\",\"AMPD3\",\"SLC25A5\",\"ANXA6\",\"ANXA7\",\"ANXA11\",\"APBB1\",\"APC\",\"APEX1\",\"XIAP\",\"APLP2\",\"APOC2\",\"FAS\",\"ARF1\",\"ARF4\",\"ARF6\",\"RHOH\",\"ARNT\",\"ARRB2\",\"ASGR2\",\"ATF4\",\"ATIC\",\"ATP1B3\",\"ATP2A2\",\"ATP2B4\",\"ATP5MC1\",\"ATP6V1B2\",\"ATP6V0C\",\"ATP6V0A1\",\"ATRX\",\"B2M\",\"BCL2\",\"BCL3\",\"BCL6\",\"BCL7A\",\"PRDM1\",\"BLM\",\"BMP2\",\"POLR3D\",\"ZFP36L1\",\"ZFP36L2\",\"BTG1\",\"BUB1\",\"BUB1B\",\"BYSL\",\"TSPO\",\"LDLRAD4\",\"CFAP410\",\"CAD\",\"CALM1\",\"CALR\",\"CAMLG\",\"CAPN2\",\"CASP3\",\"CBFA2T3\",\"RUNX3\",\"CCND2\",\"CCNF\",\"CCNG1\",\"CD1D\",\"MS4A3\",\"CD36\",\"CD37\",\"CD44\",\"CD48\",\"CD53\",\"CD151\",\"CDK1\",\"CDK2\",\"CDK4\",\"CDK6\",\"CDX2\",\"CEBPD\",\"CFL1\",\"RCBTB2\",\"RCC1\",\"CHD2\",\"CHD3\",\"FOXN3\",\"CHI3L1\",\"CHKA\",\"CHML\",\"CHRNB1\",\"CKB\",\"CIRBP\",\"ERCC8\",\"CKS2\",\"CLCN2\",\"CLCN4\",\"CLK1\",\"CLK2\",\"TPP1\",\"CLN3\",\"CLN5\",\"CCR1\",\"CCR6\",\"ACKR2\",\"COL9A3\",\"COX6A1\",\"CPOX\",\"CPT1A\",\"CREM\",\"CRKL\",\"CSF1R\",\"CSNK1G2\",\"CSPG4\",\"CST3\",\"CSTA\",\"CSTB\",\"CSTF3\",\"CTBP2\",\"CTNNB1\",\"CTSG\",\"CTSO\",\"CUX1\",\"CX3CR1\",\"CYLD\",\"CYP1B1\",\"CYP51A1\",\"DAG1\",\"DARS1\",\"DBI\",\"GADD45A\",\"DDOST\",\"DDX3X\",\"DDX6\",\"DDX10\",\"DHX15\",\"CFD\",\"DGUOK\",\"SEPTIN1\",\"DKC1\",\"DLD\",\"DLX1\",\"DNA2\",\"DYNC1LI2\",\"DNMT3A\",\"DOCK2\",\"DPH2\",\"RCAN1\",\"SLC26A2\",\"DTNA\",\"DUSP2\",\"DUSP3\",\"DUSP4\",\"E2F2\",\"E2F3\",\"E2F5\",\"GPR183\",\"S1PR3\",\"EEF2\",\"EGR1\",\"EIF4A1\",\"EIF4EBP1\",\"EIF4EBP2\",\"EIF4G2\",\"EIF5\",\"SERPINB1\",\"ELAVL1\",\"ELK3\",\"ELK4\",\"EMP2\",\"ENG\",\"ERCC4\",\"ETS1\",\"ETS2\",\"ETV5\",\"EVI2A\",\"EVI2B\",\"EXT1\",\"F3\",\"ACSL3\",\"PTK2B\",\"FARSA\",\"FCGR2A\",\"FGR\",\"FKBP3\",\"FKBP4\",\"FOXD2\",\"FOS\",\"FOSB\",\"FOSL2\",\"FRG1\",\"FTH1\",\"FTL\",\"FUT4\",\"FZD2\",\"SLC37A4\",\"GALNS\",\"GALNT1\",\"GALNT3\",\"GANC\",\"GART\",\"GATA2\",\"GBP2\",\"GBP3\",\"GCNT1\",\"GLB1\",\"GLE1\",\"GLS\",\"GLRX\",\"GLUL\",\"GNA12\",\"GNA15\",\"GNAI1\",\"GNAQ\",\"CXCR3\",\"GPR18\",\"LPAR4\",\"MKNK2\",\"NR3C1\",\"GSK3B\",\"GSN\",\"GSPT1\",\"GTF2A1\",\"GTF2B\",\"GTF2E1\",\"GTF2F2\",\"GYPC\",\"GYS1\",\"H1-0\",\"H1-2\",\"H2AX\",\"H2AZ1\",\"H2BC5\",\"H3-3B\",\"HADH\",\"HAL\",\"HCCS\",\"HCFC1\",\"HCK\",\"HDGF\",\"UBE2K\",\"HINT1\",\"HLA-E\",\"HMGB2\",\"HMGCR\",\"HMGA1\",\"HMMR\",\"HMOX2\",\"FOXA1\",\"HNRNPA1\",\"HNRNPC\",\"HNRNPD\",\"HNRNPH2\",\"HOXA9\",\"HOXA10\",\"DNAJA1\",\"HSPA1A\",\"HSPA1B\",\"HSPA1L\",\"HSPA5\",\"HSPA8\",\"HSP90AA1\",\"HSP90AB1\",\"DNAJB1\",\"NDST1\",\"FOXN2\",\"HTR7\",\"ICAM1\",\"ICAM3\",\"MRPL58\",\"ID2\",\"IDH1\",\"IDI1\",\"IDS\",\"SP110\",\"IFNGR2\",\"IFRD1\",\"IGF1\",\"IGFBP7\",\"IGLL1\",\"IL1RAP\",\"IL1RN\",\"IL2RA\",\"IL4R\",\"IL6R\",\"IL7R\",\"CXCL8\",\"CXCR2\",\"CXCR2P1\",\"IL10RB\",\"IL12RB1\",\"IL15RA\",\"IMPA1\",\"IMPDH1\",\"ING1\",\"INHBA\",\"INPP1\",\"INPPL1\",\"INSR\",\"IRAK1\",\"IRF2\",\"IRF4\",\"IRF5\",\"ITGA4\",\"ITGA7\",\"ITGAL\",\"ITGB7\",\"ITPA\",\"ITPR1\",\"JARID2\",\"JUNB\",\"KCNA3\",\"KCNJ2\",\"KCNN4\",\"KCNQ3\",\"KIF5B\",\"KIT\",\"KPNB1\",\"KPNA2\",\"TNPO1\",\"AFF3\",\"LAMC1\",\"LAMP2\",\"LCP1\",\"LCP2\",\"LFNG\",\"LGALS1\",\"LGALS9\",\"LIG1\",\"LLGL1\",\"PRICKLE3\",\"VWA5A\",\"LRP3\",\"LTBR\",\"LTK\",\"LY9\",\"CD180\",\"LYZ\",\"MXD1\",\"SMAD3\",\"SMAD4\",\"MAZ\",\"MBP\",\"MCL1\",\"MCM3\",\"MCM4\",\"MCM7\",\"MDH1\",\"MDM4\",\"MEF2A\",\"MAP3K4\",\"MFAP1\",\"MELTF\",\"MFNG\",\"MGAT3\",\"MGAT5\",\"MIF\",\"KMT2A\",\"MMP2\",\"ALDH6A1\",\"MNDA\",\"MPZ\",\"MSN\",\"MSX2\",\"MT1E\",\"MT1F\",\"MT1G\",\"MT1M\",\"MT1X\",\"MT2A\",\"MTF1\",\"MTIF2\",\"MTM1\",\"MVK\",\"MXI1\",\"MYBPH\",\"GADD45B\",\"MYL6\",\"MYO7A\",\"MYO10\",\"NCF2\",\"NCF4\",\"NDUFA2\",\"NDUFA5\",\"NDUFA8\",\"NDUFB8\",\"NDUFV1\",\"NEDD4\",\"NEO1\",\"NEU1\",\"NFATC2\",\"NFIA\",\"NFE2\",\"NFIC\",\"NME1\",\"NME4\",\"NOP2\",\"NONO\",\"NPC1\",\"NVL\",\"OAS2\",\"OAT\",\"OAZ1\",\"OGDH\",\"OMG\",\"OSM\",\"P2RX7\",\"P2RY2\",\"PAFAH1B1\",\"PBX2\",\"PBX3\",\"PCDHGC3\",\"PCNA\",\"PCYT1A\",\"PDE4D\",\"PDE1B\",\"PDHB\",\"PECAM1\",\"PEX10\",\"PFKP\",\"SLC25A3\",\"SERPINB8\",\"PIM1\",\"PIK3R1\",\"PITPNA\",\"PLA2G4A\",\"PLAU\",\"PLCB2\",\"PLEC\",\"PLP2\",\"PMM1\",\"PMM2\",\"UBL3\",\"POLB\",\"POLH\",\"POLR2A\",\"POLR2B\",\"POLR2C\",\"POLR2L\",\"POU2F1\",\"POU2F2\",\"PPARA\",\"PPM1G\",\"PPP1R10\",\"PPP2CA\",\"PPP2CB\",\"PPP2R5A\",\"PPP2R5C\",\"PPP3CA\",\"PRCC\",\"SRGN\",\"PRKACB\",\"PKIB\",\"PRKAR1A\",\"PRKCA\",\"PRKCB\",\"PRKCE\",\"MAPK7\",\"DNAJC3\",\"PRPSAP2\",\"PSKH1\",\"PSMA6\",\"PSMB5\",\"PSMB8\",\"PSMD3\",\"PTAFR\",\"PTBP1\",\"PTEN\",\"PTGER4\",\"PTMA\",\"PTPN1\",\"PTPN3\",\"PTPN12\",\"PTPRE\",\"PTPRO\",\"ABCD4\",\"PYCR1\",\"RAB1A\",\"RAB2A\",\"RAB5A\",\"RAB5B\",\"RAB6A\",\"RAB27A\",\"RABGGTB\",\"RABIF\",\"RAB5C\",\"RAC3\",\"RAD21\",\"RAD52\",\"RAF1\",\"RALA\",\"RANBP2\",\"RAP1A\",\"RAP1B\",\"RAP2B\",\"RARA\",\"RARG\",\"RB1\",\"RBM3\",\"RCN2\",\"RECQL\",\"DPF2\",\"TRIM27\",\"RFX3\",\"RFX5\",\"RFXAP\",\"RGS2\",\"RGS16\",\"RLF\",\"RNASE2\",\"RNASE3\",\"RNASE6\",\"BRD2\",\"RNH1\",\"ROCK1\",\"RPL4\",\"RPL15\",\"RPL27A\",\"RPL29\",\"RPL31\",\"RPL37\",\"RPL38\",\"RPL41\",\"RPLP0\",\"RPLP1\",\"RPLP2\",\"RPS4X\",\"RPS6\",\"RPS10\",\"RPS12\",\"RPS13\",\"RPS20\",\"RPS21\",\"RPS24\",\"RRM2\",\"RXRA\",\"S100A6\",\"S100A8\",\"S100A9\",\"S100A11\",\"VPS52\",\"SAT1\",\"SC5D\",\"ATXN1\",\"CLEC11A\",\"CCL2\",\"CXCL5\",\"SDC2\",\"SDCBP\",\"SDF2\",\"SDHD\",\"SEL1L\",\"SELPLG\",\"SETMAR\",\"SRSF1\",\"TRA2B\",\"SCG5\",\"SH3BP2\",\"FBXW4\",\"SHOX2\",\"SIAH2\",\"ST3GAL1\",\"ST3GAL4\",\"SKI\",\"SKIL\",\"SKP1\",\"SLA\",\"SLC1A4\",\"SLC2A3\",\"SLC2A5\",\"SLC7A1\",\"SLC20A2\",\"SMARCA4\",\"SMARCC2\",\"SNAPC3\",\"FSCN1\",\"SNRPB\",\"SNRPB2\",\"SNRPD3\",\"SNRPE\",\"SOD1\",\"CAPN15\",\"UAP1\",\"SPAST\",\"SPOCK1\",\"SRC\",\"SRF\",\"SRP54\",\"SRPK1\",\"TRIM21\",\"STAR\",\"STAT1\",\"STAT6\",\"STAU1\",\"STIM1\",\"STK3\",\"AURKC\",\"STX1A\",\"SUPT4H1\",\"SURF1\",\"SURF4\",\"SVIL\",\"VAMP1\",\"SYK\",\"TAF9\",\"TAF12\",\"MAP3K7\",\"TARBP1\",\"TBCA\",\"TCF4\",\"TCF3\",\"GCFC2\",\"DYNLT1\",\"TERF2\",\"TESK1\",\"TFAM\",\"TFAP4\",\"TFCP2\",\"NR2F2\",\"TFRC\",\"TGFBR2\",\"TGIF1\",\"THBD\",\"TIAL1\",\"TIMP3\",\"TK1\",\"TLR1\",\"TLR2\",\"TLR4\",\"TMSB4X\",\"TNFAIP2\",\"TNFAIP3\",\"TNFRSF1B\",\"TOP1\",\"TOP2A\",\"TP53BP1\",\"TPD52L2\",\"TPM4\",\"TPR\",\"TPT1\",\"HSP90B1\",\"HSP90B2P\",\"TRIP6\",\"TSNAX\",\"TSPYL1\",\"TST\",\"TSTA3\",\"TTC4\",\"TUBB2A\",\"UBB\",\"UBC\",\"UBE2A\",\"UBE2B\",\"UBE2G2\",\"UBE2V2\",\"UCK2\",\"UQCRB\",\"UQCRC1\",\"UVRAG\",\"VLDLR\",\"WARS1\",\"LAT2\",\"CORO2A\",\"NSD2\",\"XBP1\",\"YWHAH\",\"SF1\",\"ZFP36\",\"ZNF18\",\"ZKSCAN1\",\"ZNF124\",\"ZNF131\",\"ZNF136\",\"ZNF143\",\"TRIM25\",\"ZNF185\",\"ZNF200\",\"ZNF207\",\"ZFAND5\",\"ZNF217\",\"CXCR4\",\"IFRD2\",\"MANF\",\"USP7\",\"SLBP\",\"ST8SIA4\",\"HSD17B8\",\"LST1\",\"MAFK\",\"MTERF1\",\"KAT6A\",\"BRD3\",\"STAM\",\"MLLT10\",\"SHOC2\",\"CUL5\",\"PABPN1\",\"GPR68\",\"SLC7A5\",\"AKAP1\",\"ELL\",\"CLPP\",\"NRIP1\",\"UBL4A\",\"TMEM187\",\"LAGE3\",\"FZD7\",\"H2BC21\",\"H3C4\",\"H3C8\",\"H4C3\",\"UTF1\",\"NSMAF\",\"OFD1\",\"PPM1D\",\"PPFIA4\",\"PPFIA1\",\"PEX3\",\"PARG\",\"KCNAB2\",\"IFITM1\",\"DGKD\",\"YBX3\",\"CBX4\",\"LMO4\",\"CGGBP1\",\"MAPKAPK5\",\"BHLHE40\",\"MADD\",\"RRP1\",\"MKNK1\",\"KHSRP\",\"KLF7\",\"PSMG1\",\"JRK\",\"UNC5C\",\"RNASET2\",\"PCDHGB4\",\"PTCH2\",\"NCOA1\",\"DYNLL1\",\"VAMP8\",\"STX16\",\"STX10\",\"SNX4\",\"RNMT\",\"TNFSF13\",\"TNFSF9\",\"PABPC4\",\"RAB11A\",\"TNFRSF10D\",\"TRIM24\",\"CD84\",\"GGH\",\"CFLAR\",\"SYNJ2\",\"SQSTM1\",\"FUBP1\",\"SLC5A6\",\"DDX18\",\"BUD31\",\"CCNA1\",\"CPNE1\",\"FUBP3\",\"H1-10\",\"WASL\",\"PLOD3\",\"ATP6V0E1\",\"F2RL3\",\"MPZL1\",\"DOK2\",\"SLC7A7\",\"TBX19\",\"MTA1\",\"SLC16A6\",\"PDLIM1\",\"CNOT9\",\"CCNE2\",\"ATG12\",\"FIBP\",\"MAP3K13\",\"DDX21\",\"ZMYM3\",\"MTA2\",\"PTTG1\",\"STK17A\",\"NREP\",\"PTER\",\"TGM5\",\"B4GALT5\",\"SNAP29\",\"PPIG\",\"RAB33A\",\"KL\",\"NMT2\",\"ZNF264\",\"KCNK6\",\"MED26\",\"ITM2B\",\"GGPS1\",\"HOMER3\",\"RASAL2\",\"AKAP7\",\"IL27RA\",\"THEMIS2\",\"MED20\",\"ONECUT2\",\"CHST10\",\"SLC4A7\",\"LITAF\",\"EEF1E1\",\"BAG4\",\"BAG3\",\"EI24\",\"MRPL33\",\"MACROH2A1\",\"MINPP1\",\"H6PD\",\"GTF2IRD1\",\"APOBEC3B\",\"PRDX6\",\"WTAP\",\"IER2\",\"CYTIP\",\"PDIA4\",\"NFE2L3\",\"RNF14\",\"NUP155\",\"SEC24C\",\"ARHGEF10\",\"IKBKE\",\"CTR9\",\"PPM1F\",\"ZNF516\",\"IPO13\",\"SLC25A44\",\"PHF14\",\"FAM53B\",\"DEPDC5\",\"EMC2\",\"PUM1\",\"PCDHGA8\",\"HERPUD1\",\"SECISBP2L\",\"SETD1A\",\"HDAC4\",\"ZFYVE16\",\"PCLAF\",\"RASSF2\",\"EIF4A3\",\"ATG13\",\"MRPL19\",\"TSC22D2\",\"TRIM14\",\"SETDB1\",\"ZBTB39\",\"AP5Z1\",\"FAM20B\",\"KBTBD11\",\"ARHGAP25\",\"RBM8A\",\"USP3\",\"MED13\",\"NUP153\",\"DOP1B\",\"REC8\",\"HNRNPDL\",\"PTBP3\",\"DGCR2\",\"CASP8AP2\",\"ZBTB33\",\"HDAC5\",\"BCL2L11\",\"SH2D3C\",\"RANBP9\",\"SMC4\",\"IL18BP\",\"ARPC3\",\"TSPAN3\",\"RAD50\",\"PREB\",\"FEM1B\",\"ARL4C\",\"FRY\",\"TOB1\",\"G3BP1\",\"TRIM28\",\"ATP6AP2\",\"WASF2\",\"DHRS9\",\"SORBS3\",\"RBM5\",\"LHFPL2\",\"TXNDC9\",\"TSHZ1\",\"ALG3\",\"MPHOSPH6\",\"TRIM13\",\"EIF1\",\"PLIN3\",\"MFSD10\",\"RIDA\",\"STAM2\",\"ABCC4\",\"CDK2AP2\",\"AKAP8\",\"CWC27\",\"SAP18\",\"LILRB2\",\"SF3A1\",\"RTN3\",\"IKZF1\",\"RXYLT1\",\"ABCA10\",\"WARS2\",\"TUBA1B\",\"TUBB3\",\"TUBB4B\",\"ST3GAL6\",\"RBM14\",\"EMG1\",\"TIMM17A\",\"N4BP2L2\",\"FAM3C\",\"BAIAP2\",\"CLEC10A\",\"NXF1\",\"LRRC41\",\"SYNCRIP\",\"ENOX2\",\"CARM1\",\"NCOA2\",\"SEMA4D\",\"APPBP2\",\"MYBBP1A\",\"IPO8\",\"IPO7\",\"ANP32B\",\"ARL6IP5\",\"SPTLC1\",\"CCT4\",\"NPC2\",\"IFITM2\",\"CDC42EP3\",\"PAIP1\",\"PAICS\",\"HEXIM1\",\"TRIM16\",\"TXNIP\",\"RGS14\",\"IGF2BP1\",\"IGF2BP2\",\"SPINT2\",\"TNFSF13B\",\"B3GNT2\",\"CCT6B\",\"FAM189B\",\"PTGES3\",\"RFPL3S\",\"TOB2\",\"ZMYND11\",\"ZNF234\",\"WDR4\",\"ZNF460\",\"ZNF268\",\"MTHFD2\",\"CYSLTR1\",\"SEPTIN9\",\"ENTR1\",\"HSPH1\",\"FRS2\",\"FAM114A2\",\"TUBGCP2\",\"HPSE\",\"PGRMC1\",\"USP19\",\"FGL2\",\"RAB10\",\"MTMR11\",\"SUGT1\",\"FASTK\",\"EHD1\",\"C11orf58\",\"CBX1\",\"TOMM34\",\"PNRC1\",\"KCNQ1OT1\",\"SLC27A5\",\"SLC27A3\",\"LILRB4\",\"GLIPR1\",\"SNRNP27\",\"LILRA2\",\"RAB31\",\"STON1\",\"SLC35D2\",\"CPSF6\",\"WWP1\",\"DUSP14\",\"TOPBP1\",\"DNAJB4\",\"SPACA9\",\"HNRNPUL1\",\"BTN3A2\",\"BTN3A1\",\"PTP4A3\",\"PTENP1\",\"IRAK3\",\"AKAP2\",\"RNF24\",\"CHP1\",\"DUSP12\",\"B4GALT7\",\"CD300A\",\"PARK7\",\"STK38\",\"PHB2\",\"U2AF2\",\"MGLL\",\"GABARAPL2\",\"RNF44\",\"RAB11FIP2\",\"DOLK\",\"FNDC3A\",\"ATG14\",\"R3HDM2\",\"ZNF510\",\"SEC31A\",\"INPP5F\",\"FOXJ3\",\"BAHD1\",\"DENND3\",\"RUFY3\",\"WDR47\",\"RALY\",\"ELL2\",\"NINL\",\"RAB21\",\"STK38L\",\"SPEN\",\"KIF21B\",\"ZNF609\",\"TBC1D9B\",\"GGA2\",\"MYCBP2\",\"PPRC1\",\"ERC1\",\"EXPH5\",\"ARHGAP26\",\"ZBTB43\",\"RAP1GAP2\",\"SPART\",\"TNRC6B\",\"TOGARAM1\",\"HIC2\",\"PLXND1\",\"KDM6B\",\"EPB41L3\",\"GRAMD4\",\"CIC\",\"WDR43\",\"NUP205\",\"RTF1\",\"ZCCHC14\",\"SEPTIN8\",\"RGL1\",\"MESD\",\"RCOR1\",\"KANK1\",\"ARL6IP1\",\"ZC3H4\",\"RRS1\",\"NBEAL2\",\"DTX4\",\"RHOBTB2\",\"ANKRD28\",\"SCFD1\",\"ADGRL3\",\"MGRN1\",\"ATMIN\",\"SIN3B\",\"KIAA0930\",\"SASH1\",\"TTC28\",\"JADE2\",\"DNAJC16\",\"SYNE1\",\"UFL1\",\"ECPAS\",\"ADNP\",\"FBXO46\",\"COTL1\",\"SIRT4\",\"SIRT1\",\"COMMD3\",\"NCS1\",\"TDRD7\",\"GRIP1\",\"RYBP\",\"SLC44A1\",\"SF3B1\",\"ABCB10\",\"CBX6\",\"SEC11A\",\"PES1\",\"SCRIB\",\"MORC3\",\"ARHGAP45\",\"PIK3R5\",\"TMEM50A\",\"DDX58\",\"PDSS1\",\"PATZ1\",\"KCNE5\",\"LRRC6\",\"PPP1R15A\",\"SLC7A11\",\"CADM1\",\"TMEM245\",\"MAFF\",\"BRD1\",\"BCL2L13\",\"LAMP5\",\"CLDN15\",\"TBC1D22A\",\"ZNF324\",\"TNFAIP8\",\"ARIH1\",\"TMEM184B\",\"ASF1A\",\"ANAPC13\",\"ZNF345\",\"PRKD2\",\"INTS7\",\"NDUFAF3\",\"ADGRA2\",\"NUDT13\",\"TIPARP\",\"AAR2\",\"TSKU\",\"REXO2\",\"TKFC\",\"UPF2\",\"LRP10\",\"PCDHGA12\",\"PLEKHG3\",\"GLCE\",\"PPP1R16B\",\"AUTS2\",\"TANC2\",\"FGFR1OP2\",\"KIFBP\",\"PHF19\",\"INTS1\",\"FBXW2\",\"PTPN22\",\"FBXL3\",\"FBXO10\",\"FBXO5\",\"FBXO3\",\"TINF2\",\"SACS\",\"PTPN18\",\"PPP1R14B\",\"CNNM4\",\"DAZAP1\",\"BSCL2\",\"GPR160\",\"SND1\",\"PPA2\",\"FOXP1\",\"BBC3\",\"CYTH4\",\"SNX5\",\"CIDEB\",\"ZNF777\",\"PRELID1\",\"SERP1\",\"TNFRSF21\",\"SESN1\",\"MMADHC\",\"RND1\",\"APEX2\",\"RBMX\",\"HTATSF1\",\"RRP7A\",\"RABGEF1\",\"TMEM97\",\"TMEM121B\",\"DEXI\",\"AAMDC\",\"TMEM14A\",\"SLC43A3\",\"C16orf72\",\"TMEM230\",\"UBE2T\",\"CFAP20\",\"NXT1\",\"MYLIP\",\"UHRF1\",\"BLNK\",\"REPIN1\",\"GRHL1\",\"UBN1\",\"EEF2K\",\"HILPDA\",\"GPR132\",\"SERTAD1\",\"CDIP1\",\"UBQLN2\",\"LMCD1\",\"TNPO2\",\"SH3KBP1\",\"ZNRD1\",\"SOCS7\",\"CDR2L\",\"TAX1BP3\",\"CHST11\",\"PNPLA8\",\"ARHGEF3\",\"ASAP1\",\"HP1BP3\",\"STMN3\",\"HEBP1\",\"IMPG2\",\"ISOC1\",\"GLRX2\",\"DESI2\",\"ZNF593\",\"ZBTB7B\",\"TXNDC11\",\"CALHM2\",\"RPS27L\",\"GAL\",\"KLHL5\",\"ADIPOR1\",\"UTP18\",\"SH3GLB1\",\"SAR1B\",\"CHCHD2\",\"MRTO4\",\"JPT1\",\"VPS28\",\"TUBE1\",\"NUSAP1\",\"ZNF219\",\"PHF20\",\"VRK3\",\"MTRES1\",\"MRPL51\",\"ZNF571\",\"DNAJC27\",\"IER5\",\"C1RL\",\"CD320\",\"TIMMDC1\",\"FAM53C\",\"KRCC1\",\"PLAC8\",\"TNFRSF12A\",\"NGRN\",\"TAOK3\",\"POMP\",\"MRPS17\",\"UCHL5\",\"NIP7\",\"TRAPPC4\",\"PRKAG2\",\"SUCO\",\"PCYOX1\",\"NOP16\",\"NELFCD\",\"HIKESHI\",\"TRMT112\",\"TMEM138\",\"GSKIP\",\"ANAPC11\",\"TRMO\",\"PHF7\",\"VTA1\",\"NT5DC3\",\"GDE1\",\"AZIN1\",\"PCF11\",\"TRMT6\",\"GET4\",\"KLF13\",\"CCZ1\",\"OTUD6B\",\"TMBIM4\",\"NUB1\",\"SARAF\",\"SUFU\",\"LSM7\",\"SELENOT\",\"WBP11\",\"BCL11A\",\"RAB24\",\"SETD4\",\"C21orf91\",\"DCUN1D1\",\"NANS\",\"CYCS\",\"ERRFI1\",\"KCNK10\",\"TREM1\",\"GPR85\",\"TERF2IP\",\"DNAJC10\",\"SH3TC1\",\"KCTD5\",\"MIOS\",\"ZFAND6\",\"MIEF1\",\"PRMT7\",\"EXOSC4\",\"APBB1IP\",\"ANKRD16\",\"WDR5B\",\"DDX49\",\"LZTFL1\",\"PDP1\",\"XAF1\",\"RNF111\",\"BORCS6\",\"ZNF586\",\"KLHL28\",\"DCAF16\",\"ZCCHC2\",\"BCOR\",\"RETSAT\",\"ALKBH5\",\"INO80D\",\"SPDL1\",\"SEMA4C\",\"TMEM260\",\"CHTF8\",\"CHCHD3\",\"RNF125\",\"SDHAF2\",\"TIPIN\",\"TMEM70\",\"MCUB\",\"PTCD3\",\"ARGLU1\",\"GPATCH1\",\"GPATCH2\",\"UBR7\",\"CEP55\",\"PRMT6\",\"DZANK1\",\"RESF1\",\"RPRD1A\",\"EXD2\",\"USP40\",\"SLC38A7\",\"TYW1\",\"TMEM39A\",\"ADI1\",\"PHF10\",\"ZNF654\",\"KLHL26\",\"BRIX1\",\"RNLS\",\"COPRS\",\"SLC22A15\",\"LGR4\",\"AP1AR\",\"NDUFAF7\",\"PARL\",\"ETNK1\",\"ELAC1\",\"DHTKD1\",\"PIP4P2\",\"MAML3\",\"VEZT\",\"TENT5A\",\"ZNF280C\",\"DOCK10\",\"THUMPD1\",\"PNRC2\",\"LYAR\",\"NLRP2\",\"INTS8\",\"ZNF692\",\"PRPF40A\",\"CDC37L1\",\"NPLOC4\",\"GPATCH2L\",\"PPP4R3A\",\"SCYL2\",\"FRMD4A\",\"IARS2\",\"ASF1B\",\"N4BP2\",\"FAM222B\",\"ZFP64\",\"CHFR\",\"CNDP2\",\"INTS9\",\"LMBRD1\",\"LRIF1\",\"DDX28\",\"CACNA2D3\",\"DCP1A\",\"TRERF1\",\"FOXJ2\",\"PAG1\",\"SELENOS\",\"CAND1\",\"EAPP\",\"CENPN\",\"ARHGAP15\",\"BEX1\",\"GPRC5C\",\"ZNF395\",\"BCAP29\",\"KLHL7\",\"NXF3\",\"PCDHGC5\",\"PCDHGC4\",\"PCDHGB7\",\"PCDHGB6\",\"PCDHGB5\",\"PCDHGB3\",\"PCDHGB2\",\"PCDHGB1\",\"PCDHGA11\",\"PCDHGA10\",\"PCDHGA9\",\"PCDHGA7\",\"PCDHGA6\",\"PCDHGA5\",\"PCDHGA4\",\"PCDHGA3\",\"PCDHGA2\",\"PCDHGA1\",\"TEX15\",\"ANKH\",\"MOSPD1\",\"MTFR1L\",\"MEPCE\",\"DIABLO\",\"TWNK\",\"SLC2A4RG\",\"ZC3HAV1\",\"EMC7\",\"C15orf39\",\"SPIRE1\",\"STARD7\",\"DHX33\",\"NCLN\",\"PMEPA1\",\"HMCES\",\"STOX2\",\"PRDM8\",\"POGLUT1\",\"RSRP1\",\"DDX24\",\"ENTPD7\",\"PITHD1\",\"PARP11\",\"PDSS2\",\"INTS12\",\"SMIM8\",\"PELI1\",\"DOLPP1\",\"KIAA1191\",\"SLC39A10\",\"DANCR\",\"KAT14\",\"PPM1H\",\"ERMN\",\"ZNF512B\",\"USP31\",\"PRR12\",\"CRACD\",\"ESYT2\",\"AHRR\",\"ARID1B\",\"HEG1\",\"RPTOR\",\"TBC1D14\",\"PDP2\",\"NCEH1\",\"ARRDC3\",\"CFAP97\",\"WDFY1\",\"HOMEZ\",\"SLAIN2\",\"POGK\",\"EPB41L5\",\"VAT1L\",\"TNRC6C\",\"USP37\",\"METTL14\",\"NCOA5\",\"TRIB3\",\"ANKRA2\",\"CTDSP1\",\"MS4A7\",\"TP53INP2\",\"RHOU\",\"PRUNE1\",\"SELENOK\",\"SINHCAF\",\"SNX6\",\"SCPEP1\",\"SENP2\",\"KLHL12\",\"SLC25A19\",\"EXOC4\",\"TGIF2\",\"APOBEC3G\",\"ELAC2\",\"SPCS3\",\"PROK2\",\"ZFAND3\",\"SLC17A9\",\"CLSPN\",\"PRDM15\",\"FIGNL1\",\"LHPP\",\"GOLPH3\",\"SAMSN1\",\"RTP4\",\"MAGEF1\",\"VSIR\",\"RRAGC\",\"NOD2\",\"LIN7B\",\"XYLT2\",\"CARD9\",\"HERPUD2\",\"MS4A6A\",\"PDLIM2\",\"TENT4B\",\"ZSCAN31\",\"XPO4\",\"NFKBIZ\",\"IKZF4\",\"ZMAT3\",\"GMCL2\",\"KLHL25\",\"SUSD1\",\"DCLRE1C\",\"GIGYF1\",\"NUCKS1\",\"MFSD1\",\"SMYD3\",\"TNS3\",\"ILRUN\",\"C11orf1\",\"FNDC3B\",\"MICAL1\",\"CERK\",\"CRTC3\",\"ARV1\",\"FBXL17\",\"MARCHF7\",\"RASAL3\",\"STAG3L4\",\"MRPL34\",\"VPS33A\",\"NOL6\",\"UPF3A\",\"RSRC2\",\"SPATS2\",\"ZSWIM4\",\"ZNF649\",\"MPPE1\",\"PYCR3\",\"C8orf33\",\"BRD9\",\"MRPS34\",\"OTUB2\",\"PCYOX1L\",\"PRR14\",\"LRFN4\",\"MIS12\",\"DBNDD1\",\"GGCT\",\"KXD1\",\"ZFYVE21\",\"KCTD15\",\"PRRG4\",\"TMEM223\",\"TMEM109\",\"DCTPP1\",\"CCDC86\",\"WDR77\",\"CHAC1\",\"PHF23\",\"CHCHD7\",\"PLEKHF1\",\"IRX3\",\"ZNF557\",\"PAGR1\",\"GCC1\",\"TCTN1\",\"ADIPOR2\",\"FAM118B\",\"OCEL1\",\"PPP1R3B\",\"SAP30L\",\"QTRT2\",\"COLGALT1\",\"IPO4\",\"AAGAB\",\"PALB2\",\"SLC25A22\",\"SNIP1\",\"MCTP1\",\"C12orf49\",\"SHCBP1\",\"AGMAT\",\"NHEJ1\",\"ZBTB3\",\"ZNF669\",\"TCTN2\",\"CBLL1\",\"LPCAT1\",\"L2HGDH\",\"JADE1\",\"SCD5\",\"PLEKHH3\",\"RPF1\",\"SIKE1\",\"UXS1\",\"SLC66A2\",\"ZC3H12A\",\"ASRGL1\",\"TEDC2\",\"PROSER1\",\"PIGZ\",\"WDCP\",\"TRABD\",\"FLAD1\",\"KLHL15\",\"EPC1\",\"CPEB4\",\"CCDC68\",\"PUS1\",\"WDR82\",\"TRAF3IP3\",\"AKNA\",\"THUMPD2\",\"INTS5\",\"DDHD1\",\"APOL6\",\"APOL4\",\"SETD7\",\"SYNC\",\"ITFG1\",\"SLC38A1\",\"FAM49A\",\"NDEL1\",\"CSRNP2\",\"TXNDC5\",\"ANKRD13C\",\"APOLD1\",\"FIP1L1\",\"FAM83D\",\"ANP32E\",\"TRMT1L\",\"MAP1LC3B\",\"CCNL2\",\"VMP1\",\"C6orf62\",\"ISCA1\",\"DOCK8\",\"RNF146\",\"ABHD17A\",\"CABLES2\",\"RAB33B\",\"EMC6\",\"DNAL1\",\"GUCD1\",\"PARP9\",\"SESN2\",\"RPS6KL1\",\"RHNO1\",\"CRISPLD2\",\"MARVELD1\",\"ATAD3B\",\"RSPH3\",\"TTTY14\",\"RAB34\",\"TM2D2\",\"CDCA7\",\"KCTD10\",\"STK40\",\"RASSF4\",\"EIF2A\",\"SLC4A11\",\"B3GNT5\",\"KATNAL1\",\"MAGT1\",\"HDHD2\",\"CEP78\",\"TOMM40L\",\"RNASEH2C\",\"POLR1B\",\"USP48\",\"ZNF541\",\"LRRC8C\",\"MAF1\",\"RHBDD1\",\"MRI1\",\"FYTTD1\",\"POLR3GL\",\"NOA1\",\"COQ5\",\"EIF1AD\",\"WDR83\",\"LLPH\",\"MIEN1\",\"CCDC77\",\"CMSS1\",\"HVCN1\",\"MCRIP2\",\"MSANTD4\",\"LZTS2\",\"SYVN1\",\"L3MBTL3\",\"LCOR\",\"FAM120B\",\"TUBB6\",\"KRBA1\",\"ZNF469\",\"USP38\",\"GLYR1\",\"FAM126A\",\"CARD6\",\"HINT2\",\"FAM220A\",\"GPAT3\",\"HPDL\",\"ZNF503\",\"PARP10\",\"RPUSD4\",\"FBH1\",\"TMTC4\",\"ZNF341\",\"FAM136A\",\"ZNF587\",\"FAM222A\",\"ALG10\",\"RAB2B\",\"C8orf76\",\"ZNRF1\",\"PWWP3A\",\"TIGD5\",\"RELT\",\"ATG4D\",\"MFSD5\",\"MIR22HG\",\"JMJD1C-AS1\",\"SMIM3\",\"SNHG12\",\"H2BC12\",\"LGALS12\",\"DGCR6L\",\"ALG2\",\"SLC22A16\",\"TNKS1BP1\",\"DIXDC1\",\"PNPT1\",\"ANKRD13A\",\"TRIM4\",\"LMLN\",\"FGD3\",\"KLHL6\",\"SIGLEC12\",\"RHOT2\",\"MIDN\",\"SYS1\",\"TP53I13\",\"SAMD1\",\"MED30\",\"BMF\",\"LYRM7\",\"PYGO2\",\"ZNF697\",\"TRIM41\",\"DERL3\",\"ANKRD40\",\"ANKRD44\",\"NEXN\",\"ARRDC4\",\"CCNQ\",\"SLC25A51\",\"SNX29\",\"UBTD2\",\"MEX3A\",\"METTL18\",\"SLC38A5\",\"REEP6\",\"IMP4\",\"B3GNT7\",\"COQ10A\",\"HAUS8\",\"MVB12A\",\"MMGT1\",\"ARMC6\",\"ZNF670\",\"CACNA2D4\",\"ZNF101\",\"SNORD38A\",\"H2AZ2\",\"CEP41\",\"TGS1\",\"MYL12B\",\"GTF3C6\",\"SNX18\",\"CFAP36\",\"MED8\",\"CHST14\",\"CASC4\",\"PIK3IP1\",\"DTX2\",\"SLC2A13\",\"NLRP3\",\"MIR155HG\",\"BTBD9\",\"PWWP2A\",\"OSBPL1A\",\"C1QTNF3\",\"FBXO32\",\"VASN\",\"ZNF618\",\"CGAS\",\"GBP4\",\"ARL11\",\"RNF166\",\"OSR2\",\"LYSMD3\",\"FAM122A\",\"ZNF837\",\"OLIG1\",\"EXOSC6\",\"SFXN2\",\"ANAPC16\",\"SFXN4\",\"SLC15A4\",\"FGD4\",\"SPPL3\",\"MTFMT\",\"TARS3\",\"WHAMM\",\"CMTM3\",\"PAQR4\",\"TMEM170A\",\"CYB5D1\",\"TTC39C\",\"ANKLE1\",\"IFFO2\",\"RNF19B\",\"OCSTAMP\",\"C22orf39\",\"NUP35\",\"FAM168B\",\"AP1S3\",\"TTC32\",\"CCDC58\",\"METTL6\",\"FAM241A\",\"CPEB2\",\"EMB\",\"LSM11\",\"PM20D2\",\"CCDC26\",\"FAM92A\",\"VPS37A\",\"SPIN4\",\"ASB7\",\"MYL6B\",\"SAMD10\",\"SIRPA\",\"DCANP1\",\"LDLRAD3\",\"SESN3\",\"SPTY2D1\",\"PRICKLE1\",\"C12orf60\",\"FBXL14\",\"LACC1\",\"C15orf61\",\"CMTM4\",\"TEPSIN\",\"TMC8\",\"TRIM16L\",\"C18orf25\",\"ILF3-DT\",\"TPM3P9\",\"ZNF524\",\"FAM98C\",\"ZNF558\",\"C19orf25\",\"ZNF569\",\"C1orf74\",\"AIFM3\",\"YDJC\",\"HSCB\",\"CCDC117\",\"DUSP18\",\"TTL\",\"CKAP2L\",\"ARL6IP6\",\"METTL21A\",\"CCNYL1\",\"TTC14\",\"LRRC34\",\"CCDC50\",\"FAM53A\",\"TMEM167A\",\"ARSK\",\"SNRNP48\",\"VKORC1L1\",\"KCTD7\",\"ZNF425\",\"PRAG1\",\"CDCA2\",\"RDH10\",\"ANKRD46\",\"LINC00599\",\"ERICH1\",\"DOCK8-AS1\",\"RHOXF1\",\"NKAPP1\",\"CXorf38\",\"CLECL1\",\"ALDH1L2\",\"GPR180\",\"TMEM229B\",\"ZNF550\",\"ZNF564\",\"ZNF114\",\"EID2\",\"TOR1AIP2\",\"UBXN2A\",\"ZNF92\",\"PWWP2B\",\"COMMD6\",\"ASXL1\",\"DSTNP2\",\"SPTSSA\",\"POLR3H\",\"HIGD2A\",\"AGO3\",\"METTL15\",\"MPZL3\",\"MCEMP1\",\"ZNF627\",\"U2AF1L4\",\"TMEM17\",\"FBXO45\",\"CENPV\",\"PLD6\",\"ARHGAP27\",\"SLC39A11\",\"TRIM65\",\"TMEM154\",\"SMIM14\",\"GAPT\",\"C9orf72\",\"INTS6L\",\"HIPK1\",\"DIPK2A\",\"SLC36A1\",\"ZCCHC24\",\"ZNF25\",\"MRPL21\",\"MPEG1\",\"PATL1\",\"DLEU7\",\"TIGD3\",\"MARCHF8\",\"HNRNPA3\",\"ADCY10P1\",\"FGD2\",\"SMIM29\",\"ZBTB9\",\"HOXA11-AS\",\"CCZ1B\",\"RSBN1L\",\"LNX2\",\"ZNRF2\",\"C21orf91-OT1\",\"ZBTB38\",\"EBF3\",\"CERS6\",\"YTHDF3\",\"EHBP1L1\",\"FBXO33\",\"LRRC57\",\"RPS2P32\",\"ARHGAP30\",\"SGMS1\",\"TIPRL\",\"PGBD2\",\"SELENOH\",\"BLOC1S2\",\"SBF2-AS1\",\"MUC19\",\"GXYLT1\",\"LINC00641\",\"LINC00926\",283970,\"NDUFAF8\",\"EMC10\",\"SIGLEC17P\",\"ZNF561-AS1\",\"LINC01226\",\"CYB561D1\",\"C20orf197\",\"RABL3\",\"TCAIM\",\"FAM200B\",\"C5orf51\",\"INHBA-AS1\",\"SNHG15\",\"LINC00996\",\"LSMEM1\",\"NSMCE2\",\"TRIQK\",\"C9orf47\",\"TUSC1\",286437,\"SNAI3\",\"RAB7B\",\"CCDC137\",\"MSL1\",\"ZNF546\",\"ZNF678\",\"ZC3H12D\",\"FAM221A\",\"ZKSCAN2\",\"FAM71F2\",\"SOWAHD\",348738,\"WDR53\",\"RFLNB\",\"ZNF710\",\"MIGA1\",\"FAM89A\",\"NRROS\",\"ERCC6L2\",\"ZC3H6\",\"MALAT1\",\"PSMA3-AS1\",\"AMIGO3\",\"C6orf120\",\"C11orf96\",\"C12orf75\",\"TMEM233\",\"SCIMP\",\"C1orf53\",\"TMEM81\",\"COA6\",\"MAFA\",\"MEX3D\",\"FAM102A\",\"LINC00938\",\"FOXN3-AS1\",\"CHCHD10\",\"SNX30\",\"C7orf61\",\"CUEDC1\",\"TNFSF12-TNFSF13\",\"PIM3\",\"SHISA8\",\"THUMPD3-AS1\",\"PALM2AKAP2\",\"IGIP\",\"CISD2\",\"EID3\",\"TIFAB\",\"LOH12CR2\",\"MIR4435-2HG\",\"C8orf58\",\"SNORA33\",\"SNORA27\",\"ZNF674\",\"ZNF876P\",\"INSYN2A\",643977,644936,\"PPP1R3G\",\"CASTOR1\",\"SNORA25\",\"SSR4P1\",\"D2HGDH\",728485,728554,\"CDK11A\",\"AGAP5\",\"CCR2\",\"TMEM242\",\"LINC02447\",\"CSKMT\",\"RELL1\",\"SNHG8\",\"MIR29B2CHG\",\"LINC00476\",\"ATP6V1FNB\",100130872,\"ANKRD63\",100133315,\"NDUFB2-AS1\",\"TEN1\",100287896,\"NBPF20\",\"ZNF587B\",\"TMED7-TICAM2\",\"MICOS10P1\",\"CCDC180\",\"SH3BP5-AS1\",\"APTR\",\"SMG1P7\",\"GVQW3\",100506585,\"PXN-AS1\",100506730,\"GIHCG\",\"PSMD6-AS2\",\"KCNQ5-IT1\",\"LCT-AS1\",\"ABHD14A-ACY1\",\"BLOC1S5-TXNDC5\",\"BCL2L2-PABPN1\",\"RPL36A-HNRNPH2\",\"ZNF816-ZNF321P\",\"P2RX5-TAX1BP3\",100534589,\"MIR4647\",\"MIR4751\",\"PARTICL\",\"HOXC-AS3\",\"APOBEC3A_B\",\"LINC02724\",\"MMP24OS\",101927402,101927751,\"C5orf66-AS1\",101928143,\"PIGBOS1\",\"LAMP5-AS1\",\"LINC01970\",101929523,\"AK6\",\"MIR7705\",\"CCR5AS\",103611081,105370203,105373656,105375218],\"genes\":[\"NAT1\",\"AARS1\",\"ACADSB\",\"ACADVL\",\"ACOX1\",\"ACPP\",\"ACTB\",\"ACTG1\",\"ACTN4\",\"ACTN1\",\"ACVR2B\",\"ACY1\",\"ADA\",\"ADAM8\",\"ADCY3\",\"ADCY7\",\"ADD2\",\"ADK\",\"ADORA2B\",\"ADRB2\",\"GRK2\",\"ADSS2\",\"TLE5\",\"AGER\",\"JAG1\",\"AGT\",\"AHR\",\"AIF1\",\"CRYBG1\",\"ALDH9A1\",\"ALOX12\",\"ALOX5AP\",\"AMD1\",\"AMPD2\",\"AMPD3\",\"SLC25A5\",\"ANXA6\",\"ANXA7\",\"ANXA11\",\"APBB1\",\"APC\",\"APEX1\",\"XIAP\",\"APLP2\",\"APOC2\",\"FAS\",\"ARF1\",\"ARF4\",\"ARF6\",\"RHOH\",\"ARNT\",\"ARRB2\",\"ASGR2\",\"ATF4\",\"ATIC\",\"ATP1B3\",\"ATP2A2\",\"ATP2B4\",\"ATP5MC1\",\"ATP6V1B2\",\"ATP6V0C\",\"ATP6V0A1\",\"ATRX\",\"B2M\",\"BCL2\",\"BCL3\",\"BCL6\",\"BCL7A\",\"PRDM1\",\"BLM\",\"BMP2\",\"POLR3D\",\"ZFP36L1\",\"ZFP36L2\",\"BTG1\",\"BUB1\",\"BUB1B\",\"BYSL\",\"TSPO\",\"LDLRAD4\",\"CFAP410\",\"CAD\",\"CALM1\",\"CALR\",\"CAMLG\",\"CAPN2\",\"CASP3\",\"CBFA2T3\",\"RUNX3\",\"CCND2\",\"CCNF\",\"CCNG1\",\"CD1D\",\"MS4A3\",\"CD36\",\"CD37\",\"CD44\",\"CD48\",\"CD53\",\"CD151\",\"CDK1\",\"CDK2\",\"CDK4\",\"CDK6\",\"CDX2\",\"CEBPD\",\"CFL1\",\"RCBTB2\",\"RCC1\",\"CHD2\",\"CHD3\",\"FOXN3\",\"CHI3L1\",\"CHKA\",\"CHML\",\"CHRNB1\",\"CKB\",\"CIRBP\",\"ERCC8\",\"CKS2\",\"CLCN2\",\"CLCN4\",\"CLK1\",\"CLK2\",\"TPP1\",\"CLN3\",\"CLN5\",\"CCR1\",\"CCR6\",\"ACKR2\",\"COL9A3\",\"COX6A1\",\"CPOX\",\"CPT1A\",\"CREM\",\"CRKL\",\"CSF1R\",\"CSNK1G2\",\"CSPG4\",\"CST3\",\"CSTA\",\"CSTB\",\"CSTF3\",\"CTBP2\",\"CTNNB1\",\"CTSG\",\"CTSO\",\"CUX1\",\"CX3CR1\",\"CYLD\",\"CYP1B1\",\"CYP51A1\",\"DAG1\",\"DARS1\",\"DBI\",\"GADD45A\",\"DDOST\",\"DDX3X\",\"DDX6\",\"DDX10\",\"DHX15\",\"CFD\",\"DGUOK\",\"SEPTIN1\",\"DKC1\",\"DLD\",\"DLX1\",\"DNA2\",\"DYNC1LI2\",\"DNMT3A\",\"DOCK2\",\"DPH2\",\"RCAN1\",\"SLC26A2\",\"DTNA\",\"DUSP2\",\"DUSP3\",\"DUSP4\",\"E2F2\",\"E2F3\",\"E2F5\",\"GPR183\",\"S1PR3\",\"EEF2\",\"EGR1\",\"EIF4A1\",\"EIF4EBP1\",\"EIF4EBP2\",\"EIF4G2\",\"EIF5\",\"SERPINB1\",\"ELAVL1\",\"ELK3\",\"ELK4\",\"EMP2\",\"ENG\",\"ERCC4\",\"ETS1\",\"ETS2\",\"ETV5\",\"EVI2A\",\"EVI2B\",\"EXT1\",\"F3\",\"ACSL3\",\"PTK2B\",\"FARSA\",\"FCGR2A\",\"FGR\",\"FKBP3\",\"FKBP4\",\"FOXD2\",\"FOS\",\"FOSB\",\"FOSL2\",\"FRG1\",\"FTH1\",\"FTL\",\"FUT4\",\"FZD2\",\"SLC37A4\",\"GALNS\",\"GALNT1\",\"GALNT3\",\"GANC\",\"GART\",\"GATA2\",\"GBP2\",\"GBP3\",\"GCNT1\",\"GLB1\",\"GLE1\",\"GLS\",\"GLRX\",\"GLUL\",\"GNA12\",\"GNA15\",\"GNAI1\",\"GNAQ\",\"CXCR3\",\"GPR18\",\"LPAR4\",\"MKNK2\",\"NR3C1\",\"GSK3B\",\"GSN\",\"GSPT1\",\"GTF2A1\",\"GTF2B\",\"GTF2E1\",\"GTF2F2\",\"GYPC\",\"GYS1\",\"H1-0\",\"H1-2\",\"H2AX\",\"H2AZ1\",\"H2BC5\",\"H3-3B\",\"HADH\",\"HAL\",\"HCCS\",\"HCFC1\",\"HCK\",\"HDGF\",\"UBE2K\",\"HINT1\",\"HLA-E\",\"HMGB2\",\"HMGCR\",\"HMGA1\",\"HMMR\",\"HMOX2\",\"FOXA1\",\"HNRNPA1\",\"HNRNPC\",\"HNRNPD\",\"HNRNPH2\",\"HOXA9\",\"HOXA10\",\"DNAJA1\",\"HSPA1A\",\"HSPA1B\",\"HSPA1L\",\"HSPA5\",\"HSPA8\",\"HSP90AA1\",\"HSP90AB1\",\"DNAJB1\",\"NDST1\",\"FOXN2\",\"HTR7\",\"ICAM1\",\"ICAM3\",\"MRPL58\",\"ID2\",\"IDH1\",\"IDI1\",\"IDS\",\"SP110\",\"IFNGR2\",\"IFRD1\",\"IGF1\",\"IGFBP7\",\"IGLL1\",\"IL1RAP\",\"IL1RN\",\"IL2RA\",\"IL4R\",\"IL6R\",\"IL7R\",\"CXCL8\",\"CXCR2\",\"CXCR2P1\",\"IL10RB\",\"IL12RB1\",\"IL15RA\",\"IMPA1\",\"IMPDH1\",\"ING1\",\"INHBA\",\"INPP1\",\"INPPL1\",\"INSR\",\"IRAK1\",\"IRF2\",\"IRF4\",\"IRF5\",\"ITGA4\",\"ITGA7\",\"ITGAL\",\"ITGB7\",\"ITPA\",\"ITPR1\",\"JARID2\",\"JUNB\",\"KCNA3\",\"KCNJ2\",\"KCNN4\",\"KCNQ3\",\"KIF5B\",\"KIT\",\"KPNB1\",\"KPNA2\",\"TNPO1\",\"AFF3\",\"LAMC1\",\"LAMP2\",\"LCP1\",\"LCP2\",\"LFNG\",\"LGALS1\",\"LGALS9\",\"LIG1\",\"LLGL1\",\"PRICKLE3\",\"VWA5A\",\"LRP3\",\"LTBR\",\"LTK\",\"LY9\",\"CD180\",\"LYZ\",\"MXD1\",\"SMAD3\",\"SMAD4\",\"MAZ\",\"MBP\",\"MCL1\",\"MCM3\",\"MCM4\",\"MCM7\",\"MDH1\",\"MDM4\",\"MEF2A\",\"MAP3K4\",\"MFAP1\",\"MELTF\",\"MFNG\",\"MGAT3\",\"MGAT5\",\"MIF\",\"KMT2A\",\"MMP2\",\"ALDH6A1\",\"MNDA\",\"MPZ\",\"MSN\",\"MSX2\",\"MT1E\",\"MT1F\",\"MT1G\",\"MT1M\",\"MT1X\",\"MT2A\",\"MTF1\",\"MTIF2\",\"MTM1\",\"MVK\",\"MXI1\",\"MYBPH\",\"GADD45B\",\"MYL6\",\"MYO7A\",\"MYO10\",\"NCF2\",\"NCF4\",\"NDUFA2\",\"NDUFA5\",\"NDUFA8\",\"NDUFB8\",\"NDUFV1\",\"NEDD4\",\"NEO1\",\"NEU1\",\"NFATC2\",\"NFIA\",\"NFE2\",\"NFIC\",\"NME1\",\"NME4\",\"NOP2\",\"NONO\",\"NPC1\",\"NVL\",\"OAS2\",\"OAT\",\"OAZ1\",\"OGDH\",\"OMG\",\"OSM\",\"P2RX7\",\"P2RY2\",\"PAFAH1B1\",\"PBX2\",\"PBX3\",\"PCDHGC3\",\"PCNA\",\"PCYT1A\",\"PDE4D\",\"PDE1B\",\"PDHB\",\"PECAM1\",\"PEX10\",\"PFKP\",\"SLC25A3\",\"SERPINB8\",\"PIM1\",\"PIK3R1\",\"PITPNA\",\"PLA2G4A\",\"PLAU\",\"PLCB2\",\"PLEC\",\"PLP2\",\"PMM1\",\"PMM2\",\"UBL3\",\"POLB\",\"POLH\",\"POLR2A\",\"POLR2B\",\"POLR2C\",\"POLR2L\",\"POU2F1\",\"POU2F2\",\"PPARA\",\"PPM1G\",\"PPP1R10\",\"PPP2CA\",\"PPP2CB\",\"PPP2R5A\",\"PPP2R5C\",\"PPP3CA\",\"PRCC\",\"SRGN\",\"PRKACB\",\"PKIB\",\"PRKAR1A\",\"PRKCA\",\"PRKCB\",\"PRKCE\",\"MAPK7\",\"DNAJC3\",\"PRPSAP2\",\"PSKH1\",\"PSMA6\",\"PSMB5\",\"PSMB8\",\"PSMD3\",\"PTAFR\",\"PTBP1\",\"PTEN\",\"PTGER4\",\"PTMA\",\"PTPN1\",\"PTPN3\",\"PTPN12\",\"PTPRE\",\"PTPRO\",\"ABCD4\",\"PYCR1\",\"RAB1A\",\"RAB2A\",\"RAB5A\",\"RAB5B\",\"RAB6A\",\"RAB27A\",\"RABGGTB\",\"RABIF\",\"RAB5C\",\"RAC3\",\"RAD21\",\"RAD52\",\"RAF1\",\"RALA\",\"RANBP2\",\"RAP1A\",\"RAP1B\",\"RAP2B\",\"RARA\",\"RARG\",\"RB1\",\"RBM3\",\"RCN2\",\"RECQL\",\"DPF2\",\"TRIM27\",\"RFX3\",\"RFX5\",\"RFXAP\",\"RGS2\",\"RGS16\",\"RLF\",\"RNASE2\",\"RNASE3\",\"RNASE6\",\"BRD2\",\"RNH1\",\"ROCK1\",\"RPL4\",\"RPL15\",\"RPL27A\",\"RPL29\",\"RPL31\",\"RPL37\",\"RPL38\",\"RPL41\",\"RPLP0\",\"RPLP1\",\"RPLP2\",\"RPS4X\",\"RPS6\",\"RPS10\",\"RPS12\",\"RPS13\",\"RPS20\",\"RPS21\",\"RPS24\",\"RRM2\",\"RXRA\",\"S100A6\",\"S100A8\",\"S100A9\",\"S100A11\",\"VPS52\",\"SAT1\",\"SC5D\",\"ATXN1\",\"CLEC11A\",\"CCL2\",\"CXCL5\",\"SDC2\",\"SDCBP\",\"SDF2\",\"SDHD\",\"SEL1L\",\"SELPLG\",\"SETMAR\",\"SRSF1\",\"TRA2B\",\"SCG5\",\"SH3BP2\",\"FBXW4\",\"SHOX2\",\"SIAH2\",\"ST3GAL1\",\"ST3GAL4\",\"SKI\",\"SKIL\",\"SKP1\",\"SLA\",\"SLC1A4\",\"SLC2A3\",\"SLC2A5\",\"SLC7A1\",\"SLC20A2\",\"SMARCA4\",\"SMARCC2\",\"SNAPC3\",\"FSCN1\",\"SNRPB\",\"SNRPB2\",\"SNRPD3\",\"SNRPE\",\"SOD1\",\"CAPN15\",\"UAP1\",\"SPAST\",\"SPOCK1\",\"SRC\",\"SRF\",\"SRP54\",\"SRPK1\",\"TRIM21\",\"STAR\",\"STAT1\",\"STAT6\",\"STAU1\",\"STIM1\",\"STK3\",\"AURKC\",\"STX1A\",\"SUPT4H1\",\"SURF1\",\"SURF4\",\"SVIL\",\"VAMP1\",\"SYK\",\"TAF9\",\"TAF12\",\"MAP3K7\",\"TARBP1\",\"TBCA\",\"TCF4\",\"TCF3\",\"GCFC2\",\"DYNLT1\",\"TERF2\",\"TESK1\",\"TFAM\",\"TFAP4\",\"TFCP2\",\"NR2F2\",\"TFRC\",\"TGFBR2\",\"TGIF1\",\"THBD\",\"TIAL1\",\"TIMP3\",\"TK1\",\"TLR1\",\"TLR2\",\"TLR4\",\"TMSB4X\",\"TNFAIP2\",\"TNFAIP3\",\"TNFRSF1B\",\"TOP1\",\"TOP2A\",\"TP53BP1\",\"TPD52L2\",\"TPM4\",\"TPR\",\"TPT1\",\"HSP90B1\",\"HSP90B2P\",\"TRIP6\",\"TSNAX\",\"TSPYL1\",\"TST\",\"TSTA3\",\"TTC4\",\"TUBB2A\",\"UBB\",\"UBC\",\"UBE2A\",\"UBE2B\",\"UBE2G2\",\"UBE2V2\",\"UCK2\",\"UQCRB\",\"UQCRC1\",\"UVRAG\",\"VLDLR\",\"WARS1\",\"LAT2\",\"CORO2A\",\"NSD2\",\"XBP1\",\"YWHAH\",\"SF1\",\"ZFP36\",\"ZNF18\",\"ZKSCAN1\",\"ZNF124\",\"ZNF131\",\"ZNF136\",\"ZNF143\",\"TRIM25\",\"ZNF185\",\"ZNF200\",\"ZNF207\",\"ZFAND5\",\"ZNF217\",\"CXCR4\",\"IFRD2\",\"MANF\",\"USP7\",\"SLBP\",\"ST8SIA4\",\"HSD17B8\",\"LST1\",\"MAFK\",\"MTERF1\",\"KAT6A\",\"BRD3\",\"STAM\",\"MLLT10\",\"SHOC2\",\"CUL5\",\"PABPN1\",\"GPR68\",\"SLC7A5\",\"AKAP1\",\"ELL\",\"CLPP\",\"NRIP1\",\"UBL4A\",\"TMEM187\",\"LAGE3\",\"FZD7\",\"H2BC21\",\"H3C4\",\"H3C8\",\"H4C3\",\"UTF1\",\"NSMAF\",\"OFD1\",\"PPM1D\",\"PPFIA4\",\"PPFIA1\",\"PEX3\",\"PARG\",\"KCNAB2\",\"IFITM1\",\"DGKD\",\"YBX3\",\"CBX4\",\"LMO4\",\"CGGBP1\",\"MAPKAPK5\",\"BHLHE40\",\"MADD\",\"RRP1\",\"MKNK1\",\"KHSRP\",\"KLF7\",\"PSMG1\",\"JRK\",\"UNC5C\",\"RNASET2\",\"PCDHGB4\",\"PTCH2\",\"NCOA1\",\"DYNLL1\",\"VAMP8\",\"STX16\",\"STX10\",\"SNX4\",\"RNMT\",\"TNFSF13\",\"TNFSF9\",\"PABPC4\",\"RAB11A\",\"TNFRSF10D\",\"TRIM24\",\"CD84\",\"GGH\",\"CFLAR\",\"SYNJ2\",\"SQSTM1\",\"FUBP1\",\"SLC5A6\",\"DDX18\",\"BUD31\",\"CCNA1\",\"CPNE1\",\"FUBP3\",\"H1-10\",\"WASL\",\"PLOD3\",\"ATP6V0E1\",\"F2RL3\",\"MPZL1\",\"DOK2\",\"SLC7A7\",\"TBX19\",\"MTA1\",\"SLC16A6\",\"PDLIM1\",\"CNOT9\",\"CCNE2\",\"ATG12\",\"FIBP\",\"MAP3K13\",\"DDX21\",\"ZMYM3\",\"MTA2\",\"PTTG1\",\"STK17A\",\"NREP\",\"PTER\",\"TGM5\",\"B4GALT5\",\"SNAP29\",\"PPIG\",\"RAB33A\",\"KL\",\"NMT2\",\"ZNF264\",\"KCNK6\",\"MED26\",\"ITM2B\",\"GGPS1\",\"HOMER3\",\"RASAL2\",\"AKAP7\",\"IL27RA\",\"THEMIS2\",\"MED20\",\"ONECUT2\",\"CHST10\",\"SLC4A7\",\"LITAF\",\"EEF1E1\",\"BAG4\",\"BAG3\",\"EI24\",\"MRPL33\",\"MACROH2A1\",\"MINPP1\",\"H6PD\",\"GTF2IRD1\",\"APOBEC3B\",\"PRDX6\",\"WTAP\",\"IER2\",\"CYTIP\",\"PDIA4\",\"NFE2L3\",\"RNF14\",\"NUP155\",\"SEC24C\",\"ARHGEF10\",\"IKBKE\",\"CTR9\",\"PPM1F\",\"ZNF516\",\"IPO13\",\"SLC25A44\",\"PHF14\",\"FAM53B\",\"DEPDC5\",\"EMC2\",\"PUM1\",\"PCDHGA8\",\"HERPUD1\",\"SECISBP2L\",\"SETD1A\",\"HDAC4\",\"ZFYVE16\",\"PCLAF\",\"RASSF2\",\"EIF4A3\",\"ATG13\",\"MRPL19\",\"TSC22D2\",\"TRIM14\",\"SETDB1\",\"ZBTB39\",\"AP5Z1\",\"FAM20B\",\"KBTBD11\",\"ARHGAP25\",\"RBM8A\",\"USP3\",\"MED13\",\"NUP153\",\"DOP1B\",\"REC8\",\"HNRNPDL\",\"PTBP3\",\"DGCR2\",\"CASP8AP2\",\"ZBTB33\",\"HDAC5\",\"BCL2L11\",\"SH2D3C\",\"RANBP9\",\"SMC4\",\"IL18BP\",\"ARPC3\",\"TSPAN3\",\"RAD50\",\"PREB\",\"FEM1B\",\"ARL4C\",\"FRY\",\"TOB1\",\"G3BP1\",\"TRIM28\",\"ATP6AP2\",\"WASF2\",\"DHRS9\",\"SORBS3\",\"RBM5\",\"LHFPL2\",\"TXNDC9\",\"TSHZ1\",\"ALG3\",\"MPHOSPH6\",\"TRIM13\",\"EIF1\",\"PLIN3\",\"MFSD10\",\"RIDA\",\"STAM2\",\"ABCC4\",\"CDK2AP2\",\"AKAP8\",\"CWC27\",\"SAP18\",\"LILRB2\",\"SF3A1\",\"RTN3\",\"IKZF1\",\"RXYLT1\",\"ABCA10\",\"WARS2\",\"TUBA1B\",\"TUBB3\",\"TUBB4B\",\"ST3GAL6\",\"RBM14\",\"EMG1\",\"TIMM17A\",\"N4BP2L2\",\"FAM3C\",\"BAIAP2\",\"CLEC10A\",\"NXF1\",\"LRRC41\",\"SYNCRIP\",\"ENOX2\",\"CARM1\",\"NCOA2\",\"SEMA4D\",\"APPBP2\",\"MYBBP1A\",\"IPO8\",\"IPO7\",\"ANP32B\",\"ARL6IP5\",\"SPTLC1\",\"CCT4\",\"NPC2\",\"IFITM2\",\"CDC42EP3\",\"PAIP1\",\"PAICS\",\"HEXIM1\",\"TRIM16\",\"TXNIP\",\"RGS14\",\"IGF2BP1\",\"IGF2BP2\",\"SPINT2\",\"TNFSF13B\",\"B3GNT2\",\"CCT6B\",\"FAM189B\",\"PTGES3\",\"RFPL3S\",\"TOB2\",\"ZMYND11\",\"ZNF234\",\"WDR4\",\"ZNF460\",\"ZNF268\",\"MTHFD2\",\"CYSLTR1\",\"SEPTIN9\",\"ENTR1\",\"HSPH1\",\"FRS2\",\"FAM114A2\",\"TUBGCP2\",\"HPSE\",\"PGRMC1\",\"USP19\",\"FGL2\",\"RAB10\",\"MTMR11\",\"SUGT1\",\"FASTK\",\"EHD1\",\"C11orf58\",\"CBX1\",\"TOMM34\",\"PNRC1\",\"KCNQ1OT1\",\"SLC27A5\",\"SLC27A3\",\"LILRB4\",\"GLIPR1\",\"SNRNP27\",\"LILRA2\",\"RAB31\",\"STON1\",\"SLC35D2\",\"CPSF6\",\"WWP1\",\"DUSP14\",\"TOPBP1\",\"DNAJB4\",\"SPACA9\",\"HNRNPUL1\",\"BTN3A2\",\"BTN3A1\",\"PTP4A3\",\"PTENP1\",\"IRAK3\",\"AKAP2\",\"RNF24\",\"CHP1\",\"DUSP12\",\"B4GALT7\",\"CD300A\",\"PARK7\",\"STK38\",\"PHB2\",\"U2AF2\",\"MGLL\",\"GABARAPL2\",\"RNF44\",\"RAB11FIP2\",\"DOLK\",\"FNDC3A\",\"ATG14\",\"R3HDM2\",\"ZNF510\",\"SEC31A\",\"INPP5F\",\"FOXJ3\",\"BAHD1\",\"DENND3\",\"RUFY3\",\"WDR47\",\"RALY\",\"ELL2\",\"NINL\",\"RAB21\",\"STK38L\",\"SPEN\",\"KIF21B\",\"ZNF609\",\"TBC1D9B\",\"GGA2\",\"MYCBP2\",\"PPRC1\",\"ERC1\",\"EXPH5\",\"ARHGAP26\",\"ZBTB43\",\"RAP1GAP2\",\"SPART\",\"TNRC6B\",\"TOGARAM1\",\"HIC2\",\"PLXND1\",\"KDM6B\",\"EPB41L3\",\"GRAMD4\",\"CIC\",\"WDR43\",\"NUP205\",\"RTF1\",\"ZCCHC14\",\"SEPTIN8\",\"RGL1\",\"MESD\",\"RCOR1\",\"KANK1\",\"ARL6IP1\",\"ZC3H4\",\"RRS1\",\"NBEAL2\",\"DTX4\",\"RHOBTB2\",\"ANKRD28\",\"SCFD1\",\"ADGRL3\",\"MGRN1\",\"ATMIN\",\"SIN3B\",\"KIAA0930\",\"SASH1\",\"TTC28\",\"JADE2\",\"DNAJC16\",\"SYNE1\",\"UFL1\",\"ECPAS\",\"ADNP\",\"FBXO46\",\"COTL1\",\"SIRT4\",\"SIRT1\",\"COMMD3\",\"NCS1\",\"TDRD7\",\"GRIP1\",\"RYBP\",\"SLC44A1\",\"SF3B1\",\"ABCB10\",\"CBX6\",\"SEC11A\",\"PES1\",\"SCRIB\",\"MORC3\",\"ARHGAP45\",\"PIK3R5\",\"TMEM50A\",\"DDX58\",\"PDSS1\",\"PATZ1\",\"KCNE5\",\"LRRC6\",\"PPP1R15A\",\"SLC7A11\",\"CADM1\",\"TMEM245\",\"MAFF\",\"BRD1\",\"BCL2L13\",\"LAMP5\",\"CLDN15\",\"TBC1D22A\",\"ZNF324\",\"TNFAIP8\",\"ARIH1\",\"TMEM184B\",\"ASF1A\",\"ANAPC13\",\"ZNF345\",\"PRKD2\",\"INTS7\",\"NDUFAF3\",\"ADGRA2\",\"NUDT13\",\"TIPARP\",\"AAR2\",\"TSKU\",\"REXO2\",\"TKFC\",\"UPF2\",\"LRP10\",\"PCDHGA12\",\"PLEKHG3\",\"GLCE\",\"PPP1R16B\",\"AUTS2\",\"TANC2\",\"FGFR1OP2\",\"KIFBP\",\"PHF19\",\"INTS1\",\"FBXW2\",\"PTPN22\",\"FBXL3\",\"FBXO10\",\"FBXO5\",\"FBXO3\",\"TINF2\",\"SACS\",\"PTPN18\",\"PPP1R14B\",\"CNNM4\",\"DAZAP1\",\"BSCL2\",\"GPR160\",\"SND1\",\"PPA2\",\"FOXP1\",\"BBC3\",\"CYTH4\",\"SNX5\",\"CIDEB\",\"ZNF777\",\"PRELID1\",\"SERP1\",\"TNFRSF21\",\"SESN1\",\"MMADHC\",\"RND1\",\"APEX2\",\"RBMX\",\"HTATSF1\",\"RRP7A\",\"RABGEF1\",\"TMEM97\",\"TMEM121B\",\"DEXI\",\"AAMDC\",\"TMEM14A\",\"SLC43A3\",\"C16orf72\",\"TMEM230\",\"UBE2T\",\"CFAP20\",\"NXT1\",\"MYLIP\",\"UHRF1\",\"BLNK\",\"REPIN1\",\"GRHL1\",\"UBN1\",\"EEF2K\",\"HILPDA\",\"GPR132\",\"SERTAD1\",\"CDIP1\",\"UBQLN2\",\"LMCD1\",\"TNPO2\",\"SH3KBP1\",\"ZNRD1\",\"SOCS7\",\"CDR2L\",\"TAX1BP3\",\"CHST11\",\"PNPLA8\",\"ARHGEF3\",\"ASAP1\",\"HP1BP3\",\"STMN3\",\"HEBP1\",\"IMPG2\",\"ISOC1\",\"GLRX2\",\"DESI2\",\"ZNF593\",\"ZBTB7B\",\"TXNDC11\",\"CALHM2\",\"RPS27L\",\"GAL\",\"KLHL5\",\"ADIPOR1\",\"UTP18\",\"SH3GLB1\",\"SAR1B\",\"CHCHD2\",\"MRTO4\",\"JPT1\",\"VPS28\",\"TUBE1\",\"NUSAP1\",\"ZNF219\",\"PHF20\",\"VRK3\",\"MTRES1\",\"MRPL51\",\"ZNF571\",\"DNAJC27\",\"IER5\",\"C1RL\",\"CD320\",\"TIMMDC1\",\"FAM53C\",\"KRCC1\",\"PLAC8\",\"TNFRSF12A\",\"NGRN\",\"TAOK3\",\"POMP\",\"MRPS17\",\"UCHL5\",\"NIP7\",\"TRAPPC4\",\"PRKAG2\",\"SUCO\",\"PCYOX1\",\"NOP16\",\"NELFCD\",\"HIKESHI\",\"TRMT112\",\"TMEM138\",\"GSKIP\",\"ANAPC11\",\"TRMO\",\"PHF7\",\"VTA1\",\"NT5DC3\",\"GDE1\",\"AZIN1\",\"PCF11\",\"TRMT6\",\"GET4\",\"KLF13\",\"CCZ1\",\"OTUD6B\",\"TMBIM4\",\"NUB1\",\"SARAF\",\"SUFU\",\"LSM7\",\"SELENOT\",\"WBP11\",\"BCL11A\",\"RAB24\",\"SETD4\",\"C21orf91\",\"DCUN1D1\",\"NANS\",\"CYCS\",\"ERRFI1\",\"KCNK10\",\"TREM1\",\"GPR85\",\"TERF2IP\",\"DNAJC10\",\"SH3TC1\",\"KCTD5\",\"MIOS\",\"ZFAND6\",\"MIEF1\",\"PRMT7\",\"EXOSC4\",\"APBB1IP\",\"ANKRD16\",\"WDR5B\",\"DDX49\",\"LZTFL1\",\"PDP1\",\"XAF1\",\"RNF111\",\"BORCS6\",\"ZNF586\",\"KLHL28\",\"DCAF16\",\"ZCCHC2\",\"BCOR\",\"RETSAT\",\"ALKBH5\",\"INO80D\",\"SPDL1\",\"SEMA4C\",\"TMEM260\",\"CHTF8\",\"CHCHD3\",\"RNF125\",\"SDHAF2\",\"TIPIN\",\"TMEM70\",\"MCUB\",\"PTCD3\",\"ARGLU1\",\"GPATCH1\",\"GPATCH2\",\"UBR7\",\"CEP55\",\"PRMT6\",\"DZANK1\",\"RESF1\",\"RPRD1A\",\"EXD2\",\"USP40\",\"SLC38A7\",\"TYW1\",\"TMEM39A\",\"ADI1\",\"PHF10\",\"ZNF654\",\"KLHL26\",\"BRIX1\",\"RNLS\",\"COPRS\",\"SLC22A15\",\"LGR4\",\"AP1AR\",\"NDUFAF7\",\"PARL\",\"ETNK1\",\"ELAC1\",\"DHTKD1\",\"PIP4P2\",\"MAML3\",\"VEZT\",\"TENT5A\",\"ZNF280C\",\"DOCK10\",\"THUMPD1\",\"PNRC2\",\"LYAR\",\"NLRP2\",\"INTS8\",\"ZNF692\",\"PRPF40A\",\"CDC37L1\",\"NPLOC4\",\"GPATCH2L\",\"PPP4R3A\",\"SCYL2\",\"FRMD4A\",\"IARS2\",\"ASF1B\",\"N4BP2\",\"FAM222B\",\"ZFP64\",\"CHFR\",\"CNDP2\",\"INTS9\",\"LMBRD1\",\"LRIF1\",\"DDX28\",\"CACNA2D3\",\"DCP1A\",\"TRERF1\",\"FOXJ2\",\"PAG1\",\"SELENOS\",\"CAND1\",\"EAPP\",\"CENPN\",\"ARHGAP15\",\"BEX1\",\"GPRC5C\",\"ZNF395\",\"BCAP29\",\"KLHL7\",\"NXF3\",\"PCDHGC5\",\"PCDHGC4\",\"PCDHGB7\",\"PCDHGB6\",\"PCDHGB5\",\"PCDHGB3\",\"PCDHGB2\",\"PCDHGB1\",\"PCDHGA11\",\"PCDHGA10\",\"PCDHGA9\",\"PCDHGA7\",\"PCDHGA6\",\"PCDHGA5\",\"PCDHGA4\",\"PCDHGA3\",\"PCDHGA2\",\"PCDHGA1\",\"TEX15\",\"ANKH\",\"MOSPD1\",\"MTFR1L\",\"MEPCE\",\"DIABLO\",\"TWNK\",\"SLC2A4RG\",\"ZC3HAV1\",\"EMC7\",\"C15orf39\",\"SPIRE1\",\"STARD7\",\"DHX33\",\"NCLN\",\"PMEPA1\",\"HMCES\",\"STOX2\",\"PRDM8\",\"POGLUT1\",\"RSRP1\",\"DDX24\",\"ENTPD7\",\"PITHD1\",\"PARP11\",\"PDSS2\",\"INTS12\",\"SMIM8\",\"PELI1\",\"DOLPP1\",\"KIAA1191\",\"SLC39A10\",\"DANCR\",\"KAT14\",\"PPM1H\",\"ERMN\",\"ZNF512B\",\"USP31\",\"PRR12\",\"CRACD\",\"ESYT2\",\"AHRR\",\"ARID1B\",\"HEG1\",\"RPTOR\",\"TBC1D14\",\"PDP2\",\"NCEH1\",\"ARRDC3\",\"CFAP97\",\"WDFY1\",\"HOMEZ\",\"SLAIN2\",\"POGK\",\"EPB41L5\",\"VAT1L\",\"TNRC6C\",\"USP37\",\"METTL14\",\"NCOA5\",\"TRIB3\",\"ANKRA2\",\"CTDSP1\",\"MS4A7\",\"TP53INP2\",\"RHOU\",\"PRUNE1\",\"SELENOK\",\"SINHCAF\",\"SNX6\",\"SCPEP1\",\"SENP2\",\"KLHL12\",\"SLC25A19\",\"EXOC4\",\"TGIF2\",\"APOBEC3G\",\"ELAC2\",\"SPCS3\",\"PROK2\",\"ZFAND3\",\"SLC17A9\",\"CLSPN\",\"PRDM15\",\"FIGNL1\",\"LHPP\",\"GOLPH3\",\"SAMSN1\",\"RTP4\",\"MAGEF1\",\"VSIR\",\"RRAGC\",\"NOD2\",\"LIN7B\",\"XYLT2\",\"CARD9\",\"HERPUD2\",\"MS4A6A\",\"PDLIM2\",\"TENT4B\",\"ZSCAN31\",\"XPO4\",\"NFKBIZ\",\"IKZF4\",\"ZMAT3\",\"GMCL2\",\"KLHL25\",\"SUSD1\",\"DCLRE1C\",\"GIGYF1\",\"NUCKS1\",\"MFSD1\",\"SMYD3\",\"TNS3\",\"ILRUN\",\"C11orf1\",\"FNDC3B\",\"MICAL1\",\"CERK\",\"CRTC3\",\"ARV1\",\"FBXL17\",\"MARCHF7\",\"RASAL3\",\"STAG3L4\",\"MRPL34\",\"VPS33A\",\"NOL6\",\"UPF3A\",\"RSRC2\",\"SPATS2\",\"ZSWIM4\",\"ZNF649\",\"MPPE1\",\"PYCR3\",\"C8orf33\",\"BRD9\",\"MRPS34\",\"OTUB2\",\"PCYOX1L\",\"PRR14\",\"LRFN4\",\"MIS12\",\"DBNDD1\",\"GGCT\",\"KXD1\",\"ZFYVE21\",\"KCTD15\",\"PRRG4\",\"TMEM223\",\"TMEM109\",\"DCTPP1\",\"CCDC86\",\"WDR77\",\"CHAC1\",\"PHF23\",\"CHCHD7\",\"PLEKHF1\",\"IRX3\",\"ZNF557\",\"PAGR1\",\"GCC1\",\"TCTN1\",\"ADIPOR2\",\"FAM118B\",\"OCEL1\",\"PPP1R3B\",\"SAP30L\",\"QTRT2\",\"COLGALT1\",\"IPO4\",\"AAGAB\",\"PALB2\",\"SLC25A22\",\"SNIP1\",\"MCTP1\",\"C12orf49\",\"SHCBP1\",\"AGMAT\",\"NHEJ1\",\"ZBTB3\",\"ZNF669\",\"TCTN2\",\"CBLL1\",\"LPCAT1\",\"L2HGDH\",\"JADE1\",\"SCD5\",\"PLEKHH3\",\"RPF1\",\"SIKE1\",\"UXS1\",\"SLC66A2\",\"ZC3H12A\",\"ASRGL1\",\"TEDC2\",\"PROSER1\",\"PIGZ\",\"WDCP\",\"TRABD\",\"FLAD1\",\"KLHL15\",\"EPC1\",\"CPEB4\",\"CCDC68\",\"PUS1\",\"WDR82\",\"TRAF3IP3\",\"AKNA\",\"THUMPD2\",\"INTS5\",\"DDHD1\",\"APOL6\",\"APOL4\",\"SETD7\",\"SYNC\",\"ITFG1\",\"SLC38A1\",\"FAM49A\",\"NDEL1\",\"CSRNP2\",\"TXNDC5\",\"ANKRD13C\",\"APOLD1\",\"FIP1L1\",\"FAM83D\",\"ANP32E\",\"TRMT1L\",\"MAP1LC3B\",\"CCNL2\",\"VMP1\",\"C6orf62\",\"ISCA1\",\"DOCK8\",\"RNF146\",\"ABHD17A\",\"CABLES2\",\"RAB33B\",\"EMC6\",\"DNAL1\",\"GUCD1\",\"PARP9\",\"SESN2\",\"RPS6KL1\",\"RHNO1\",\"CRISPLD2\",\"MARVELD1\",\"ATAD3B\",\"RSPH3\",\"TTTY14\",\"RAB34\",\"TM2D2\",\"CDCA7\",\"KCTD10\",\"STK40\",\"RASSF4\",\"EIF2A\",\"SLC4A11\",\"B3GNT5\",\"KATNAL1\",\"MAGT1\",\"HDHD2\",\"CEP78\",\"TOMM40L\",\"RNASEH2C\",\"POLR1B\",\"USP48\",\"ZNF541\",\"LRRC8C\",\"MAF1\",\"RHBDD1\",\"MRI1\",\"FYTTD1\",\"POLR3GL\",\"NOA1\",\"COQ5\",\"EIF1AD\",\"WDR83\",\"LLPH\",\"MIEN1\",\"CCDC77\",\"CMSS1\",\"HVCN1\",\"MCRIP2\",\"MSANTD4\",\"LZTS2\",\"SYVN1\",\"L3MBTL3\",\"LCOR\",\"FAM120B\",\"TUBB6\",\"KRBA1\",\"ZNF469\",\"USP38\",\"GLYR1\",\"FAM126A\",\"CARD6\",\"HINT2\",\"FAM220A\",\"GPAT3\",\"HPDL\",\"ZNF503\",\"PARP10\",\"RPUSD4\",\"FBH1\",\"TMTC4\",\"ZNF341\",\"FAM136A\",\"ZNF587\",\"FAM222A\",\"ALG10\",\"RAB2B\",\"C8orf76\",\"ZNRF1\",\"PWWP3A\",\"TIGD5\",\"RELT\",\"ATG4D\",\"MFSD5\",\"MIR22HG\",\"JMJD1C-AS1\",\"SMIM3\",\"SNHG12\",\"H2BC12\",\"LGALS12\",\"DGCR6L\",\"ALG2\",\"SLC22A16\",\"TNKS1BP1\",\"DIXDC1\",\"PNPT1\",\"ANKRD13A\",\"TRIM4\",\"LMLN\",\"FGD3\",\"KLHL6\",\"SIGLEC12\",\"RHOT2\",\"MIDN\",\"SYS1\",\"TP53I13\",\"SAMD1\",\"MED30\",\"BMF\",\"LYRM7\",\"PYGO2\",\"ZNF697\",\"TRIM41\",\"DERL3\",\"ANKRD40\",\"ANKRD44\",\"NEXN\",\"ARRDC4\",\"CCNQ\",\"SLC25A51\",\"SNX29\",\"UBTD2\",\"MEX3A\",\"METTL18\",\"SLC38A5\",\"REEP6\",\"IMP4\",\"B3GNT7\",\"COQ10A\",\"HAUS8\",\"MVB12A\",\"MMGT1\",\"ARMC6\",\"ZNF670\",\"CACNA2D4\",\"ZNF101\",\"SNORD38A\",\"H2AZ2\",\"CEP41\",\"TGS1\",\"MYL12B\",\"GTF3C6\",\"SNX18\",\"CFAP36\",\"MED8\",\"CHST14\",\"CASC4\",\"PIK3IP1\",\"DTX2\",\"SLC2A13\",\"NLRP3\",\"MIR155HG\",\"BTBD9\",\"PWWP2A\",\"OSBPL1A\",\"C1QTNF3\",\"FBXO32\",\"VASN\",\"ZNF618\",\"CGAS\",\"GBP4\",\"ARL11\",\"RNF166\",\"OSR2\",\"LYSMD3\",\"FAM122A\",\"ZNF837\",\"OLIG1\",\"EXOSC6\",\"SFXN2\",\"ANAPC16\",\"SFXN4\",\"SLC15A4\",\"FGD4\",\"SPPL3\",\"MTFMT\",\"TARS3\",\"WHAMM\",\"CMTM3\",\"PAQR4\",\"TMEM170A\",\"CYB5D1\",\"TTC39C\",\"ANKLE1\",\"IFFO2\",\"RNF19B\",\"OCSTAMP\",\"C22orf39\",\"NUP35\",\"FAM168B\",\"AP1S3\",\"TTC32\",\"CCDC58\",\"METTL6\",\"FAM241A\",\"CPEB2\",\"EMB\",\"LSM11\",\"PM20D2\",\"CCDC26\",\"FAM92A\",\"VPS37A\",\"SPIN4\",\"ASB7\",\"MYL6B\",\"SAMD10\",\"SIRPA\",\"DCANP1\",\"LDLRAD3\",\"SESN3\",\"SPTY2D1\",\"PRICKLE1\",\"C12orf60\",\"FBXL14\",\"LACC1\",\"C15orf61\",\"CMTM4\",\"TEPSIN\",\"TMC8\",\"TRIM16L\",\"C18orf25\",\"ILF3-DT\",\"TPM3P9\",\"ZNF524\",\"FAM98C\",\"ZNF558\",\"C19orf25\",\"ZNF569\",\"C1orf74\",\"AIFM3\",\"YDJC\",\"HSCB\",\"CCDC117\",\"DUSP18\",\"TTL\",\"CKAP2L\",\"ARL6IP6\",\"METTL21A\",\"CCNYL1\",\"TTC14\",\"LRRC34\",\"CCDC50\",\"FAM53A\",\"TMEM167A\",\"ARSK\",\"SNRNP48\",\"VKORC1L1\",\"KCTD7\",\"ZNF425\",\"PRAG1\",\"CDCA2\",\"RDH10\",\"ANKRD46\",\"LINC00599\",\"ERICH1\",\"DOCK8-AS1\",\"RHOXF1\",\"NKAPP1\",\"CXorf38\",\"CLECL1\",\"ALDH1L2\",\"GPR180\",\"TMEM229B\",\"ZNF550\",\"ZNF564\",\"ZNF114\",\"EID2\",\"TOR1AIP2\",\"UBXN2A\",\"ZNF92\",\"PWWP2B\",\"COMMD6\",\"ASXL1\",\"DSTNP2\",\"SPTSSA\",\"POLR3H\",\"HIGD2A\",\"AGO3\",\"METTL15\",\"MPZL3\",\"MCEMP1\",\"ZNF627\",\"U2AF1L4\",\"TMEM17\",\"FBXO45\",\"CENPV\",\"PLD6\",\"ARHGAP27\",\"SLC39A11\",\"TRIM65\",\"TMEM154\",\"SMIM14\",\"GAPT\",\"C9orf72\",\"INTS6L\",\"HIPK1\",\"DIPK2A\",\"SLC36A1\",\"ZCCHC24\",\"ZNF25\",\"MRPL21\",\"MPEG1\",\"PATL1\",\"DLEU7\",\"TIGD3\",\"MARCHF8\",\"HNRNPA3\",\"ADCY10P1\",\"FGD2\",\"SMIM29\",\"ZBTB9\",\"HOXA11-AS\",\"CCZ1B\",\"RSBN1L\",\"LNX2\",\"ZNRF2\",\"C21orf91-OT1\",\"ZBTB38\",\"EBF3\",\"CERS6\",\"YTHDF3\",\"EHBP1L1\",\"FBXO33\",\"LRRC57\",\"RPS2P32\",\"ARHGAP30\",\"SGMS1\",\"TIPRL\",\"PGBD2\",\"SELENOH\",\"BLOC1S2\",\"SBF2-AS1\",\"MUC19\",\"GXYLT1\",\"LINC00641\",\"LINC00926\",283970,\"NDUFAF8\",\"EMC10\",\"SIGLEC17P\",\"ZNF561-AS1\",\"LINC01226\",\"CYB561D1\",\"C20orf197\",\"RABL3\",\"TCAIM\",\"FAM200B\",\"C5orf51\",\"INHBA-AS1\",\"SNHG15\",\"LINC00996\",\"LSMEM1\",\"NSMCE2\",\"TRIQK\",\"C9orf47\",\"TUSC1\",286437,\"SNAI3\",\"RAB7B\",\"CCDC137\",\"MSL1\",\"ZNF546\",\"ZNF678\",\"ZC3H12D\",\"FAM221A\",\"ZKSCAN2\",\"FAM71F2\",\"SOWAHD\",348738,\"WDR53\",\"RFLNB\",\"ZNF710\",\"MIGA1\",\"FAM89A\",\"NRROS\",\"ERCC6L2\",\"ZC3H6\",\"MALAT1\",\"PSMA3-AS1\",\"AMIGO3\",\"C6orf120\",\"C11orf96\",\"C12orf75\",\"TMEM233\",\"SCIMP\",\"C1orf53\",\"TMEM81\",\"COA6\",\"MAFA\",\"MEX3D\",\"FAM102A\",\"LINC00938\",\"FOXN3-AS1\",\"CHCHD10\",\"SNX30\",\"C7orf61\",\"CUEDC1\",\"TNFSF12-TNFSF13\",\"PIM3\",\"SHISA8\",\"THUMPD3-AS1\",\"PALM2AKAP2\",\"IGIP\",\"CISD2\",\"EID3\",\"TIFAB\",\"LOH12CR2\",\"MIR4435-2HG\",\"C8orf58\",\"SNORA33\",\"SNORA27\",\"ZNF674\",\"ZNF876P\",\"INSYN2A\",643977,644936,\"PPP1R3G\",\"CASTOR1\",\"SNORA25\",\"SSR4P1\",\"D2HGDH\",728485,728554,\"CDK11A\",\"AGAP5\",\"CCR2\",\"TMEM242\",\"LINC02447\",\"CSKMT\",\"RELL1\",\"SNHG8\",\"MIR29B2CHG\",\"LINC00476\",\"ATP6V1FNB\",100130872,\"ANKRD63\",100133315,\"NDUFB2-AS1\",\"TEN1\",100287896,\"NBPF20\",\"ZNF587B\",\"TMED7-TICAM2\",\"MICOS10P1\",\"CCDC180\",\"SH3BP5-AS1\",\"APTR\",\"SMG1P7\",\"GVQW3\",100506585,\"PXN-AS1\",100506730,\"GIHCG\",\"PSMD6-AS2\",\"KCNQ5-IT1\",\"LCT-AS1\",\"ABHD14A-ACY1\",\"BLOC1S5-TXNDC5\",\"BCL2L2-PABPN1\",\"RPL36A-HNRNPH2\",\"ZNF816-ZNF321P\",\"P2RX5-TAX1BP3\",100534589,\"MIR4647\",\"MIR4751\",\"PARTICL\",\"HOXC-AS3\",\"APOBEC3A_B\",\"LINC02724\",\"MMP24OS\",101927402,101927751,\"C5orf66-AS1\",101928143,\"PIGBOS1\",\"LAMP5-AS1\",\"LINC01970\",101929523,\"AK6\",\"MIR7705\",\"CCR5AS\",103611081,105370203,105373656,105375218],\"index\":[\"0\",\"2\",\"16\",\"17\",\"23\",\"26\",\"28\",\"29\",\"30\",\"32\",\"36\",\"38\",\"41\",\"42\",\"47\",\"49\",\"52\",\"56\",\"59\",\"65\",\"66\",\"69\",\"75\",\"78\",\"80\",\"81\",\"83\",\"84\",\"85\",\"99\",\"105\",\"106\",\"108\",\"111\",\"112\",\"118\",\"123\",\"124\",\"125\",\"132\",\"134\",\"136\",\"138\",\"141\",\"144\",\"147\",\"155\",\"157\",\"160\",\"171\",\"175\",\"178\",\"187\",\"196\",\"197\",\"205\",\"206\",\"211\",\"218\",\"224\",\"225\",\"230\",\"235\",\"241\",\"258\",\"261\",\"262\",\"263\",\"273\",\"275\",\"281\",\"284\",\"295\",\"296\",\"304\",\"306\",\"307\",\"308\",\"309\",\"325\",\"327\",\"337\",\"338\",\"341\",\"346\",\"351\",\"362\",\"373\",\"374\",\"386\",\"389\",\"390\",\"396\",\"400\",\"405\",\"408\",\"413\",\"415\",\"416\",\"427\",\"429\",\"441\",\"443\",\"445\",\"459\",\"462\",\"474\",\"477\",\"478\",\"480\",\"481\",\"484\",\"486\",\"487\",\"490\",\"493\",\"495\",\"496\",\"500\",\"502\",\"507\",\"509\",\"516\",\"517\",\"519\",\"520\",\"521\",\"527\",\"529\",\"530\",\"543\",\"555\",\"568\",\"570\",\"579\",\"582\",\"591\",\"598\",\"604\",\"607\",\"608\",\"609\",\"612\",\"615\",\"620\",\"626\",\"630\",\"633\",\"634\",\"640\",\"642\",\"646\",\"650\",\"656\",\"658\",\"669\",\"671\",\"674\",\"676\",\"680\",\"682\",\"684\",\"690\",\"700\",\"701\",\"703\",\"708\",\"716\",\"722\",\"726\",\"729\",\"734\",\"745\",\"747\",\"748\",\"752\",\"753\",\"754\",\"765\",\"766\",\"768\",\"771\",\"778\",\"786\",\"795\",\"802\",\"806\",\"807\",\"809\",\"810\",\"813\",\"814\",\"819\",\"820\",\"824\",\"829\",\"855\",\"869\",\"870\",\"874\",\"876\",\"877\",\"879\",\"887\",\"898\",\"901\",\"906\",\"917\",\"931\",\"937\",\"938\",\"941\",\"957\",\"958\",\"959\",\"964\",\"966\",\"967\",\"971\",\"977\",\"980\",\"993\",\"994\",\"996\",\"999\",\"1002\",\"1006\",\"1011\",\"1012\",\"1019\",\"1036\",\"1039\",\"1043\",\"1044\",\"1046\",\"1051\",\"1052\",\"1053\",\"1056\",\"1081\",\"1082\",\"1084\",\"1090\",\"1103\",\"1108\",\"1109\",\"1110\",\"1118\",\"1120\",\"1121\",\"1124\",\"1139\",\"1140\",\"1141\",\"1142\",\"1144\",\"1145\",\"1146\",\"1148\",\"1153\",\"1154\",\"1156\",\"1157\",\"1158\",\"1164\",\"1174\",\"1175\",\"1191\",\"1198\",\"1203\",\"1205\",\"1206\",\"1208\",\"1211\",\"1213\",\"1216\",\"1217\",\"1220\",\"1227\",\"1228\",\"1257\",\"1258\",\"1259\",\"1260\",\"1263\",\"1265\",\"1268\",\"1269\",\"1272\",\"1275\",\"1276\",\"1277\",\"1281\",\"1283\",\"1286\",\"1288\",\"1291\",\"1296\",\"1297\",\"1302\",\"1307\",\"1308\",\"1310\",\"1315\",\"1318\",\"1322\",\"1323\",\"1324\",\"1327\",\"1328\",\"1330\",\"1331\",\"1332\",\"1333\",\"1335\",\"1337\",\"1339\",\"1346\",\"1348\",\"1351\",\"1353\",\"1354\",\"1359\",\"1361\",\"1364\",\"1368\",\"1370\",\"1371\",\"1376\",\"1378\",\"1380\",\"1389\",\"1392\",\"1396\",\"1404\",\"1406\",\"1411\",\"1416\",\"1420\",\"1423\",\"1427\",\"1430\",\"1439\",\"1440\",\"1444\",\"1452\",\"1457\",\"1459\",\"1465\",\"1466\",\"1472\",\"1473\",\"1476\",\"1477\",\"1488\",\"1493\",\"1496\",\"1501\",\"1509\",\"1511\",\"1513\",\"1514\",\"1518\",\"1523\",\"1526\",\"1527\",\"1551\",\"1554\",\"1557\",\"1559\",\"1560\",\"1563\",\"1567\",\"1571\",\"1576\",\"1585\",\"1591\",\"1593\",\"1594\",\"1597\",\"1598\",\"1607\",\"1616\",\"1623\",\"1629\",\"1631\",\"1643\",\"1651\",\"1654\",\"1655\",\"1656\",\"1657\",\"1659\",\"1661\",\"1662\",\"1665\",\"1669\",\"1670\",\"1680\",\"1683\",\"1688\",\"1692\",\"1696\",\"1701\",\"1704\",\"1723\",\"1724\",\"1729\",\"1732\",\"1735\",\"1746\",\"1754\",\"1762\",\"1771\",\"1772\",\"1776\",\"1777\",\"1779\",\"1782\",\"1806\",\"1809\",\"1812\",\"1813\",\"1824\",\"1844\",\"1846\",\"1847\",\"1849\",\"1854\",\"1856\",\"1867\",\"1876\",\"1878\",\"1887\",\"1899\",\"1900\",\"1907\",\"1912\",\"1920\",\"1924\",\"1929\",\"1932\",\"1938\",\"1947\",\"1963\",\"1974\",\"1985\",\"1997\",\"2000\",\"2007\",\"2014\",\"2018\",\"2020\",\"2028\",\"2033\",\"2043\",\"2044\",\"2054\",\"2057\",\"2063\",\"2064\",\"2065\",\"2066\",\"2075\",\"2079\",\"2080\",\"2084\",\"2094\",\"2104\",\"2105\",\"2106\",\"2112\",\"2114\",\"2117\",\"2125\",\"2128\",\"2137\",\"2138\",\"2140\",\"2144\",\"2145\",\"2147\",\"2158\",\"2170\",\"2181\",\"2189\",\"2195\",\"2201\",\"2204\",\"2215\",\"2228\",\"2229\",\"2231\",\"2234\",\"2242\",\"2245\",\"2247\",\"2253\",\"2257\",\"2261\",\"2273\",\"2278\",\"2286\",\"2287\",\"2292\",\"2293\",\"2294\",\"2296\",\"2299\",\"2300\",\"2301\",\"2304\",\"2307\",\"2315\",\"2316\",\"2317\",\"2322\",\"2324\",\"2325\",\"2329\",\"2330\",\"2331\",\"2337\",\"2347\",\"2352\",\"2355\",\"2360\",\"2369\",\"2372\",\"2373\",\"2374\",\"2375\",\"2378\",\"2382\",\"2384\",\"2385\",\"2387\",\"2391\",\"2395\",\"2401\",\"2411\",\"2422\",\"2435\",\"2437\",\"2438\",\"2443\",\"2445\",\"2447\",\"2449\",\"2450\",\"2451\",\"2459\",\"2462\",\"2471\",\"2473\",\"2474\",\"2482\",\"2483\",\"2485\",\"2496\",\"2502\",\"2508\",\"2509\",\"2510\",\"2512\",\"2516\",\"2522\",\"2526\",\"2527\",\"2531\",\"2536\",\"2541\",\"2542\",\"2544\",\"2545\",\"2549\",\"2554\",\"2555\",\"2560\",\"2562\",\"2570\",\"2574\",\"2578\",\"2583\",\"2587\",\"2589\",\"2591\",\"2593\",\"2599\",\"2600\",\"2602\",\"2604\",\"2607\",\"2610\",\"2612\",\"2621\",\"2633\",\"2641\",\"2644\",\"2658\",\"2660\",\"2664\",\"2665\",\"2669\",\"2670\",\"2679\",\"2681\",\"2695\",\"2696\",\"2702\",\"2706\",\"2711\",\"2716\",\"2719\",\"2722\",\"2736\",\"2737\",\"2742\",\"2743\",\"2745\",\"2747\",\"2753\",\"2755\",\"2766\",\"2770\",\"2772\",\"2776\",\"2777\",\"2780\",\"2797\",\"2800\",\"2802\",\"2808\",\"2813\",\"2825\",\"2827\",\"2831\",\"2844\",\"2854\",\"2856\",\"2857\",\"2859\",\"2860\",\"2861\",\"2866\",\"2871\",\"2873\",\"2876\",\"2883\",\"2887\",\"2888\",\"2896\",\"2897\",\"2898\",\"2905\",\"2909\",\"2910\",\"2912\",\"2916\",\"2917\",\"2921\",\"2925\",\"2929\",\"2932\",\"2933\",\"2936\",\"2941\",\"2944\",\"2950\",\"2951\",\"2954\",\"2955\",\"2959\",\"2964\",\"2981\",\"2982\",\"2985\",\"2986\",\"2993\",\"2999\",\"3014\",\"3021\",\"3022\",\"3033\",\"3051\",\"3056\",\"3061\",\"3062\",\"3065\",\"3073\",\"3089\",\"3091\",\"3092\",\"3108\",\"3121\",\"3139\",\"3141\",\"3145\",\"3149\",\"3152\",\"3165\",\"3172\",\"3174\",\"3176\",\"3177\",\"3204\",\"3207\",\"3210\",\"3211\",\"3213\",\"3214\",\"3224\",\"3226\",\"3230\",\"3232\",\"3237\",\"3238\",\"3240\",\"3241\",\"3246\",\"3250\",\"3260\",\"3262\",\"3266\",\"3269\",\"3271\",\"3274\",\"3278\",\"3295\",\"3296\",\"3297\",\"3316\",\"3328\",\"3329\",\"3331\",\"3335\",\"3358\",\"3361\",\"3384\",\"3389\",\"3392\",\"3394\",\"3398\",\"3399\",\"3403\",\"3405\",\"3410\",\"3412\",\"3414\",\"3420\",\"3422\",\"3425\",\"3426\",\"3438\",\"3439\",\"3440\",\"3441\",\"3452\",\"3457\",\"3459\",\"3461\",\"3463\",\"3467\",\"3469\",\"3471\",\"3476\",\"3490\",\"3492\",\"3494\",\"3514\",\"3520\",\"3527\",\"3529\",\"3533\",\"3536\",\"3548\",\"3559\",\"3573\",\"3577\",\"3578\",\"3595\",\"3599\",\"3601\",\"3605\",\"3606\",\"3615\",\"3619\",\"3620\",\"3638\",\"3643\",\"3645\",\"3646\",\"3649\",\"3652\",\"3657\",\"3670\",\"3678\",\"3692\",\"3700\",\"3704\",\"3707\",\"3708\",\"3715\",\"3720\",\"3731\",\"3739\",\"3746\",\"3752\",\"3762\",\"3768\",\"3783\",\"3807\",\"3808\",\"3821\",\"3822\",\"3825\",\"3832\",\"3834\",\"3836\",\"3850\",\"3865\",\"3866\",\"3871\",\"3875\",\"3880\",\"3881\",\"3884\",\"3886\",\"3887\",\"3890\",\"3893\",\"3894\",\"3896\",\"3903\",\"3909\",\"3913\",\"3920\",\"3921\",\"3927\",\"3936\",\"3938\",\"3942\",\"3943\",\"3946\",\"3954\",\"3960\",\"3961\",\"3962\",\"3963\",\"3965\",\"3966\",\"3967\",\"3978\",\"3979\",\"3984\",\"3986\",\"3990\",\"3991\",\"4001\",\"4010\",\"4011\",\"4015\",\"4016\",\"4017\",\"4029\",\"4033\",\"4040\",\"4041\",\"4053\",\"4063\",\"4078\",\"4082\",\"4085\",\"4086\",\"4089\",\"4090\",\"4112\",\"4126\",\"4133\",\"4161\",\"4170\",\"4190\",\"4196\",\"4199\",\"4213\",\"4214\",\"4224\",\"4229\",\"4230\",\"4234\",\"4236\",\"4238\",\"4242\",\"4243\",\"4244\",\"4252\",\"4256\",\"4260\",\"4273\",\"4275\",\"4277\",\"4289\",\"4304\",\"4308\",\"4315\",\"4317\",\"4319\",\"4322\",\"4327\",\"4336\",\"4338\",\"4344\",\"4345\",\"4348\",\"4353\",\"4356\",\"4360\",\"4361\",\"4365\",\"4367\",\"4368\",\"4373\",\"4377\",\"4379\",\"4388\",\"4389\",\"4405\",\"4409\",\"4410\",\"4414\",\"4417\",\"4425\",\"4426\",\"4430\",\"4432\",\"4445\",\"4449\",\"4454\",\"4463\",\"4464\",\"4471\",\"4474\",\"4475\",\"4486\",\"4504\",\"4507\",\"4510\",\"4511\",\"4514\",\"4522\",\"4525\",\"4542\",\"4547\",\"4550\",\"4553\",\"4555\",\"4556\",\"4558\",\"4560\",\"4561\",\"4570\",\"4571\",\"4580\",\"4585\",\"4592\",\"4602\",\"4604\",\"4606\",\"4617\",\"4619\",\"4620\",\"4627\",\"4637\",\"4639\",\"4644\",\"4648\",\"4649\",\"4654\",\"4668\",\"4670\",\"4675\",\"4678\",\"4687\",\"4693\",\"4706\",\"4710\",\"4716\",\"4720\",\"4724\",\"4725\",\"4726\",\"4728\",\"4729\",\"4732\",\"4733\",\"4738\",\"4741\",\"4743\",\"4748\",\"4750\",\"4756\",\"4760\",\"4764\",\"4770\",\"4776\",\"4784\",\"4793\",\"4797\",\"4804\",\"4806\",\"4810\",\"4829\",\"4836\",\"4838\",\"4841\",\"4843\",\"4847\",\"4854\",\"4855\",\"4859\",\"4863\",\"4866\",\"4870\",\"4878\",\"4879\",\"4882\",\"4885\",\"4889\",\"4899\",\"4900\",\"4923\",\"4948\",\"4956\",\"4960\",\"4972\",\"4983\",\"4985\",\"4997\",\"5000\",\"5001\",\"5009\",\"5010\",\"5017\",\"5021\",\"5023\",\"5046\",\"5048\",\"5050\",\"5062\",\"5063\",\"5064\",\"5067\",\"5069\",\"5070\",\"5078\",\"5082\",\"5085\",\"5088\",\"5096\",\"5097\",\"5114\",\"5129\",\"5142\",\"5143\",\"5144\",\"5162\",\"5172\",\"5173\",\"5174\",\"5186\",\"5190\",\"5191\",\"5192\",\"5195\",\"5202\",\"5205\",\"5207\",\"5208\",\"5210\",\"5213\",\"5218\",\"5223\",\"5224\",\"5234\",\"5235\",\"5239\",\"5244\",\"5246\",\"5252\",\"5254\",\"5257\",\"5260\",\"5262\",\"5264\",\"5277\",\"5282\",\"5283\",\"5287\",\"5289\",\"5290\",\"5304\",\"5314\",\"5333\",\"5341\",\"5343\",\"5351\",\"5354\",\"5364\",\"5366\",\"5371\",\"5373\",\"5375\",\"5396\",\"5409\",\"5410\",\"5418\",\"5421\",\"5423\",\"5425\",\"5426\",\"5427\",\"5432\",\"5433\",\"5434\",\"5440\",\"5442\",\"5443\",\"5449\",\"5458\",\"5461\",\"5476\",\"5478\",\"5487\",\"5494\",\"5516\",\"5517\",\"5521\",\"5528\",\"5540\",\"5545\",\"5549\",\"5555\",\"5564\",\"5568\",\"5574\",\"5577\",\"5579\",\"5585\",\"5589\",\"5593\",\"5605\",\"5613\",\"5615\",\"5621\",\"5629\",\"5633\",\"5634\",\"5641\",\"5654\",\"5669\",\"5694\",\"5695\",\"5703\",\"5707\",\"5710\",\"5714\",\"5721\",\"5729\",\"5730\",\"5732\",\"5734\",\"5737\",\"5744\",\"5746\",\"5769\",\"5775\",\"5776\",\"5785\",\"5797\",\"5799\",\"5800\",\"5804\",\"5821\",\"5825\",\"5827\",\"5830\",\"5831\",\"5841\",\"5843\",\"5846\",\"5859\",\"5864\",\"5907\",\"5924\",\"5926\",\"5935\",\"5947\",\"5950\",\"5952\",\"5954\",\"5959\",\"5964\",\"5972\",\"5979\",\"5981\",\"5986\",\"5993\",\"5998\",\"6003\",\"6008\",\"6012\",\"6013\",\"6015\",\"6027\",\"6037\",\"6048\",\"6054\",\"6067\",\"6069\",\"6071\",\"6091\",\"6105\",\"6107\",\"6112\",\"6118\",\"6119\",\"6133\",\"6134\",\"6137\",\"6153\",\"6163\",\"6170\",\"6179\",\"6186\",\"6191\",\"6199\",\"6202\",\"6205\",\"6212\",\"6215\",\"6218\",\"6219\",\"6229\",\"6236\",\"6237\",\"6240\",\"6242\",\"6252\",\"6254\",\"6256\",\"6273\",\"6279\",\"6286\",\"6290\",\"6291\",\"6298\",\"6300\",\"6301\",\"6317\",\"6319\",\"6323\",\"6325\",\"6329\",\"6353\",\"6363\",\"6370\",\"6371\",\"6373\",\"6382\",\"6398\",\"6402\",\"6407\",\"6408\",\"6419\",\"6425\",\"6436\",\"6437\",\"6438\",\"6439\",\"6448\",\"6452\",\"6456\",\"6459\",\"6460\",\"6470\",\"6472\",\"6478\",\"6487\",\"6489\",\"6491\",\"6497\",\"6503\",\"6508\",\"6513\",\"6520\",\"6531\",\"6535\",\"6537\",\"6539\",\"6549\",\"6551\",\"6553\",\"6555\",\"6556\",\"6557\",\"6568\",\"6577\",\"6580\",\"6581\",\"6592\",\"6594\",\"6599\",\"6600\",\"6604\",\"6610\",\"6625\",\"6627\",\"6630\",\"6632\",\"6642\",\"6649\",\"6675\",\"6695\",\"6709\",\"6716\",\"6717\",\"6718\",\"6719\",\"6720\",\"6721\",\"6723\",\"6724\",\"6729\",\"6732\",\"6736\",\"6740\",\"6754\",\"6755\",\"6757\",\"6769\",\"6779\",\"6782\",\"6785\",\"6802\",\"6803\",\"6809\",\"6831\",\"6839\",\"6848\",\"6851\",\"6863\",\"6868\",\"6905\",\"6906\",\"6909\",\"6913\",\"6916\",\"6917\",\"6928\",\"6929\",\"6933\",\"6937\",\"6942\",\"6955\",\"6960\",\"6971\",\"6974\",\"7008\",\"7023\",\"7046\",\"7051\",\"7057\",\"7086\",\"7100\",\"7104\",\"7118\",\"7126\",\"7127\",\"7142\",\"7149\",\"7153\",\"7164\",\"7165\",\"7167\",\"7176\",\"7181\",\"7190\",\"7193\",\"7209\",\"7227\",\"7230\",\"7236\",\"7246\",\"7251\",\"7252\",\"7253\",\"7261\",\"7263\",\"7265\",\"7266\",\"7282\",\"7288\",\"7291\",\"7298\",\"7301\",\"7307\",\"7318\",\"7324\",\"7325\",\"7326\",\"7329\",\"7333\",\"7335\",\"7337\",\"7340\",\"7345\",\"7352\",\"7359\",\"7379\",\"7382\",\"7384\",\"7387\",\"7394\",\"7398\",\"7405\",\"7430\",\"7433\",\"7435\",\"7439\",\"7440\",\"7442\",\"7443\",\"7450\",\"7453\",\"7456\",\"7459\",\"7460\",\"7463\",\"7477\",\"7488\",\"7490\",\"7517\",\"7519\",\"7520\",\"7528\",\"7529\",\"7530\",\"7531\",\"7532\",\"7533\",\"7534\",\"7535\",\"7536\",\"7537\",\"7538\",\"7539\",\"7540\",\"7541\",\"7542\",\"7543\",\"7544\",\"7545\",\"7547\",\"7550\",\"7551\",\"7552\",\"7558\",\"7575\",\"7580\",\"7594\",\"7595\",\"7600\",\"7615\",\"7617\",\"7618\",\"7624\",\"7629\",\"7635\",\"7638\",\"7656\",\"7657\",\"7660\",\"7682\",\"7691\",\"7694\",\"7696\",\"7697\",\"7703\",\"7705\",\"7724\",\"7729\",\"7734\",\"7738\",\"7740\",\"7763\",\"7764\",\"7792\",\"7799\",\"7801\",\"7805\",\"7806\",\"7807\",\"7809\",\"7811\",\"7812\",\"7813\",\"7825\",\"7828\",\"7837\",\"7840\",\"7846\",\"7859\",\"7861\",\"7864\",\"7871\",\"7887\",\"7903\",\"7911\",\"7913\",\"7916\",\"7934\",\"7936\",\"7939\",\"7940\",\"7957\",\"7959\",\"7960\",\"7963\",\"7974\",\"7982\",\"7983\",\"7990\",\"8000\",\"8001\",\"8004\",\"8012\",\"8014\",\"8015\",\"8020\",\"8029\",\"8031\",\"8040\",\"8045\",\"8063\",\"8081\",\"8082\",\"8083\",\"8088\",\"8092\",\"8097\",\"8100\",\"8101\",\"8104\",\"8107\",\"8108\",\"8110\",\"8112\",\"8120\",\"8132\",\"8134\",\"8135\",\"8136\",\"8139\",\"8146\",\"8147\",\"8153\",\"8156\",\"8158\",\"8164\",\"8170\",\"8171\",\"8185\",\"8192\",\"8198\",\"8202\",\"8206\",\"8215\",\"8218\",\"8220\",\"8222\",\"8223\",\"8226\",\"8238\",\"8242\",\"8246\",\"8269\",\"8272\",\"8286\",\"8299\",\"8300\",\"8306\",\"8307\",\"8312\",\"8313\",\"8315\",\"8316\",\"8318\",\"8320\",\"8323\",\"8333\",\"8344\",\"8345\",\"8347\",\"8351\",\"8355\",\"8359\",\"8364\",\"8377\",\"8378\",\"8381\",\"8385\",\"8387\",\"8394\",\"8397\",\"8399\",\"8401\",\"8409\",\"8422\",\"8425\",\"8430\",\"8449\",\"8451\",\"8463\",\"8467\",\"8484\",\"8485\",\"8487\",\"8499\",\"8522\",\"8540\",\"8542\",\"8554\",\"8555\",\"8562\",\"8569\",\"8578\",\"8580\",\"8589\",\"8597\",\"8602\",\"8609\",\"8624\",\"8625\",\"8633\",\"8637\",\"8641\",\"8650\",\"8680\",\"8690\",\"8693\",\"8701\",\"8741\",\"8744\",\"8746\",\"8747\",\"8748\",\"8749\",\"8760\",\"8773\",\"8791\",\"8808\",\"8809\",\"8811\",\"8813\",\"8816\",\"8817\",\"8820\",\"8821\",\"8824\",\"8827\",\"8837\",\"8844\",\"8861\",\"8866\",\"8870\",\"8871\",\"8873\",\"8885\",\"8888\",\"8890\",\"8897\",\"8905\",\"8906\",\"8907\",\"8912\",\"8913\",\"8920\",\"8922\",\"8923\",\"8933\",\"8935\",\"8936\",\"8937\",\"8938\",\"8939\",\"8942\",\"8952\",\"8967\",\"8968\",\"8984\",\"8985\",\"8995\",\"9006\",\"9018\",\"9019\",\"9022\",\"9023\",\"9028\",\"9033\",\"9047\",\"9049\",\"9051\",\"9052\",\"9055\",\"9056\",\"9059\",\"9062\",\"9066\",\"9068\",\"9073\",\"9081\",\"9084\",\"9088\",\"9091\",\"9111\",\"9114\",\"9121\",\"9129\",\"9140\",\"9142\",\"9149\",\"9151\",\"9153\",\"9156\",\"9159\",\"9171\",\"9179\",\"9180\",\"9190\",\"9195\",\"9200\",\"9201\",\"9219\",\"9220\",\"9227\",\"9229\",\"9245\",\"9249\",\"9250\",\"9255\",\"9256\",\"9261\",\"9290\",\"9293\",\"9294\",\"9297\",\"9301\",\"9305\",\"9307\",\"9311\",\"9336\",\"9340\",\"9355\",\"9360\",\"9369\",\"9373\",\"9380\",\"9385\",\"9390\",\"9391\",\"9397\",\"9398\",\"9401\",\"9410\",\"9411\",\"9414\",\"9416\",\"9423\",\"9429\",\"9438\",\"9440\",\"9441\",\"9446\",\"9459\",\"9460\",\"9462\",\"9467\",\"9468\",\"9471\",\"9486\",\"9498\",\"9500\",\"9510\",\"9512\",\"9514\",\"9517\",\"9526\",\"9530\",\"9531\",\"9539\",\"9545\",\"9553\",\"9561\",\"9571\",\"9574\",\"9581\",\"9593\",\"9603\",\"9615\",\"9616\",\"9640\",\"9644\",\"9655\",\"9663\",\"9688\",\"9692\",\"9693\",\"9694\",\"9702\",\"9713\",\"9715\",\"9738\",\"9743\",\"9744\",\"9752\",\"9753\",\"9762\",\"9763\",\"9765\",\"9766\",\"9767\",\"9771\",\"9788\",\"9798\",\"9800\",\"9802\",\"9805\",\"9806\",\"9812\",\"9813\",\"9826\",\"9827\",\"9838\",\"9839\",\"9855\",\"9858\",\"9863\",\"9866\",\"9867\",\"9872\",\"9888\",\"9890\",\"9896\",\"9898\",\"9906\",\"9907\",\"9908\",\"9922\",\"9935\",\"9941\",\"9943\",\"9945\",\"9954\",\"9962\",\"9964\",\"9996\",\"10007\",\"10013\",\"10014\",\"10024\",\"10031\",\"10035\",\"10060\",\"10061\",\"10064\",\"10069\",\"10073\",\"10082\",\"10088\",\"10114\",\"10146\",\"10152\",\"10160\",\"10179\",\"10185\",\"10191\",\"10204\",\"10207\",\"10209\",\"10221\",\"10231\",\"10240\",\"10242\",\"10248\",\"10258\",\"10273\",\"10281\",\"10283\",\"10284\",\"10311\",\"10314\",\"10316\",\"10324\",\"10337\",\"10340\",\"10352\",\"10357\",\"10365\",\"10368\",\"10378\",\"10379\",\"10382\",\"10397\",\"10404\",\"10411\",\"10425\",\"10426\",\"10429\",\"10439\",\"10441\",\"10442\",\"10452\",\"10458\",\"10461\",\"10465\",\"10467\",\"10497\",\"10498\",\"10499\",\"10500\",\"10501\",\"10506\",\"10507\",\"10523\",\"10524\",\"10525\",\"10537\",\"10543\",\"10553\",\"10564\",\"10571\",\"10576\",\"10581\",\"10589\",\"10591\",\"10593\",\"10599\",\"10600\",\"10602\",\"10603\",\"10606\",\"10610\",\"10614\",\"10628\",\"10629\",\"10632\",\"10639\",\"10641\",\"10645\",\"10646\",\"10666\",\"10671\",\"10673\",\"10676\",\"10681\",\"10692\",\"10709\",\"10721\",\"10726\",\"10732\",\"10734\",\"10738\",\"10740\",\"10743\",\"10744\",\"10749\",\"10750\",\"10775\",\"10776\",\"10780\",\"10800\",\"10807\",\"10810\",\"10812\",\"10813\",\"10818\",\"10820\",\"10832\",\"10834\",\"10841\",\"10850\",\"10859\",\"10863\",\"10866\",\"10869\",\"10875\",\"10880\",\"10889\",\"10891\",\"10892\",\"10898\",\"10903\",\"10908\",\"10910\",\"10929\",\"10931\",\"10933\",\"10935\",\"10944\",\"10951\",\"10955\",\"10961\",\"10968\",\"10975\",\"10990\",\"10998\",\"11000\",\"11002\",\"11011\",\"11013\",\"11032\",\"11050\",\"11057\",\"11069\",\"11076\",\"11080\",\"11083\",\"11089\",\"11092\",\"11114\",\"11115\",\"11124\",\"11128\",\"11143\",\"11161\",\"11175\",\"11176\",\"11178\",\"11190\",\"11192\",\"11197\",\"11215\",\"11218\",\"11232\",\"11238\",\"11246\",\"11247\",\"11251\",\"11253\",\"11255\",\"11262\",\"11266\",\"11269\",\"11272\",\"11288\",\"11291\",\"11307\",\"11310\",\"11314\",\"11323\",\"11336\",\"11339\",\"11351\",\"11368\",\"11372\",\"11384\",\"11386\",\"11404\",\"11417\",\"11432\",\"11435\",\"11442\",\"11449\",\"11456\",\"11461\",\"11462\",\"11464\",\"11471\",\"11479\",\"11482\",\"11483\",\"11492\",\"11509\",\"11510\",\"11511\",\"11534\",\"11550\",\"11551\",\"11562\",\"11564\",\"11582\",\"11605\",\"11612\",\"11620\",\"11631\",\"11641\",\"11671\",\"11673\",\"11698\",\"11702\",\"11705\",\"11706\",\"11712\",\"11715\",\"11716\",\"11717\",\"11733\",\"11738\",\"11741\",\"11748\",\"11753\",\"11774\",\"11787\",\"11809\",\"11815\",\"11854\",\"11883\",\"11886\",\"11892\",\"11896\",\"11901\",\"11919\",\"11923\",\"11928\",\"11949\",\"11951\",\"11953\",\"11964\",\"11982\",\"11984\",\"12008\",\"12011\",\"12023\",\"12040\",\"12042\",\"12043\",\"12070\",\"12072\",\"12092\",\"12100\",\"12116\",\"12120\",\"12140\",\"12146\",\"12157\",\"12162\",\"12182\",\"12187\",\"12196\",\"12201\",\"12211\",\"12221\",\"12241\",\"12252\",\"12261\",\"12278\",\"12279\",\"12285\",\"12309\",\"12312\",\"12320\",\"12323\",\"12325\",\"12354\",\"12358\",\"12362\",\"12377\",\"12395\",\"12411\",\"12417\",\"12429\",\"12439\",\"12456\",\"12459\",\"12460\",\"12481\",\"12495\",\"12510\",\"12526\",\"12535\",\"12541\",\"12544\"],\"lfcSE\":{\"__ndarray__\":\"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\",\"dtype\":\"float64\",\"shape\":[2182]},\"log2FoldChange\":{\"__ndarray__\":\"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\",\"dtype\":\"float64\",\"shape\":[2182]},\"padj\":{\"__ndarray__\":\"nAzbnOMRyj+rF/rof/jWP8IPeaPJ48o/C5eZSY0UxD/ryna41e7UP6HeO818IXs/6627YxC0zz+3G6ThUtT6PToTgWfRacg/SD0rQY29wT8NSNPlZJnZP6IHAAAAAPB/do4db+Ct1z/k0xfMSprFP9NJl51vNdk/LsQwAroFlj+iBwAAAADwf2CZCPtI4NE/GqG51kz7sj++86hA/fL3Pn8sPv7/QcQ/h68y32IAwj+iBwAAAADwf6IHAAAAAPB/ogcAAAAA8H+iBwAAAADwf1JEC1QU+tc/zp+3bMnOmj7E9TyavmCkP8F9eZhKX9E/ogcAAAAA8H8JcRoxs/GSPw1ZmqDPBc0/eVbfVr5udj+iBwAAAADwf4rl/xxO+sk/y8nZvNJK1z8afQz54C7TP/LP7feiS9s/ogcAAAAA8H9u7OjzpcLWP1aOKbcgd7A/TR1Miokt0T/LFAQZHzbTP3xlMhtOh5M/ogcAAAAA8H937dTuf6rXP9zaU+32jrs/sv9ICudF2T9aCpYrDC++P0jn7CE339U/66EyhLPqyj+iBwAAAADwfw8erAreXsk/6s+I+yiFyj+/njVKDRK3P2qGkIhAzNQ/e8GuvRojzD+kQ9cumELZPzM5t2XANLY/pwQCC8DQpT+iBwAAAADwf/jHDG1hJNc/yoI5BxOqnz+G9537FwjaP80PSiyvttc/ddw/zjH3vD9tZESLurzYP51XvGOjMjg+buzo86XC1j+iBwAAAADwf80PSiyvttc/oSd3MjUnjD0Vk9hD0LaTP3hUgtp2K0A9Wp//deLF0z8eta38sEOjP0SigKiOy7Y/ew1hdZUj0D/XhSiNeWvaP6IHAAAAAPB/ZrFToLo0lD/wHy8AgmT1PShnIklVJ8U/l2KAWBG21T/lDjcn/cfPP8zXsY+EiqM/VtXVb7NKjj8DoseTh+SRP1bqm7e4Msw/bt04LzZtrz9MX7KG3WCjP6IHAAAAAPB/PUEBDmYIwj/Y1MwNgzXOP6IHAAAAAPB/GhWRU/T3Uz+iBwAAAADwf/oo+57SSbg/ogcAAAAA8H84mlw8lP3SP5hdEBurNds/UYWs/XkdxT9oe7cwVnbRP6IHAAAAAPB/sUF/Witj1j8lwhDhLGbQP9zeiWY6Y9s/MW4UZcr+tz9DQyLpQQbQP6IHAAAAAPB/cbFNpdH5sD+iBwAAAADwf+S9do1tp9k/WMGJaA3lGD91vQjCbKnbP6IHAAAAAPB/cYGKMbVH0D+iBwAAAADwf4SF7xQsKIk/ogcAAAAA8H+XpD6L123MP62hic3ARsQ/S/2kjyUrwj/yz+33okvbP6IHAAAAAPB/auvQmcNmyj9Sf6zMV8scPa6YenRBM14/ogcAAAAA8H+iBwAAAADwf9Eg95IFP7Q/bVrusGZTxz8eta38sEOjP3vBrr0aI8w/XSfONpZZoT+iBwAAAADwf8aKbydJMdg/ogcAAAAA8H+vpgecTDZsP9vbeAc8sdA/kFAWbIz41z/XhSiNeWvaP+ZANrlApNM/DergDQ54xT9VnNqYaA6oPZjL7J5/ldI/KpbgRqPNNz+iBwAAAADwf9dHY+GjINI/haFztZXqcT/aEXM0FrWZP3P31qnz80o/zzyfCDSy2j8dvzESNBvWP/eJWIErQdA/a4roaxzL2z+Gc4URo5fEPyNADdbvBMA/FdzrAGQitD8IsUDCyibRP+eQ0R0o4YE/jHOLV0DDzT+iBwAAAADwf0r28DwDuYI/ejlbkCmE1z9K+orz02kAPx2/MRI0G9Y/brarIMt42D+iBwAAAADwf5qCyowTYdI/8TzFeVwi0D+vpgecTDZsP7h/TrDibNY/zD/H9tWA1j8636iZRASzPwE27sRmtgA/ogcAAAAA8H/DL1Fj+ibBP4QRgldw+tc/ogcAAAAA8H9GGD3Bm1XcPEkqMl8eY8A/htFiNbe8fT+TlgiC9marPXErnvFNOMc/PJW05Tal0z8zWcYRyH/IP2HS4zqu4aQ/5L12jW2n2T+tOw+3Et3TP97lAJ6LZcI/KnK1nAix0D8kYUoRAm/bP59Vuc0wUoE/ogcAAAAA8H8PhxDELZfQP6IHAAAAAPB/JmhkUtpaDz6g1zwdneqlP7iP+2IBiNI/yrTvzpvtoT+iBwAAAADwfwvGOY9yFPA+8s/t96JL2z/DL1Fj+ibBPx2/MRI0G9Y/ogcAAAAA8H+iBwAAAADwf38sPv7/QcQ/Kv44iv7e2j8s88565EOqPya5Ms3Y59c/ogcAAAAA8H8B0WPg0urJP0vatx59AUU/ahjAfRFFwz/myYCYKbymPkBkII9CxwY7OJpcPJT90j+iBwAAAADwf1PwcfnFP9Q/db0Iwmyp2z+iBwAAAADwf6bdn/t6BNA/PouSsYFLvj+iBwAAAADwf6IHAAAAAPB/ogcAAAAA8H8mURmj5wi7PzGR3XZ5Rdg/0NeryIWYxj/evgykcxfXPyplz5oN3cQ/g+tFrKCkzj8vTVknUv/aP5CD3IigH74/ogcAAAAA8H/ryna41e7UP6IHAAAAAPB/ogcAAAAA8H+iBwAAAADwf5nJg7YJj8I7O/Vdbp2QND+GJy/OXPyYP14YoFY9y8I/mJCWXpVa2D/8KDT1rAt7P3mGjz1co4o/TdauMWYevT96OVuQKYTXP6IHAAAAAPB/ogcAAAAA8H+iBwAAAADwf6IHAAAAAPB/IpFEFb94pT/uslhUEeeyPqIHAAAAAPB/TUU6EGC7Vz1u3zT2aRbSP6IHAAAAAPB/7aFB61BNtz8lMGIOZfW+P1qf/3XixdM/fz+XwItFuT9slaXPuFbYPz1X6QB5CcA/kBegyjisxT/MTHS8XehZP8MvUWP6JsE/0SD3kgU/tD+/ItZkV5jWP43m/Xf+1dU/ogcAAAAA8H9A+PpYKxH1PYlFyv7y88g/O+4E9o4Ftz93Wuk3pH3QP43NjUL1zaM/YpTn6YQO0T4fciu6PVRAP/9srXHkWHo+LVeG6H4s5T6iBwAAAADwf9dIzAGV3y0/E0ttNCXzHD/t0V6GdQOVPtsBpte3KpU/Wgr5dmLJFj6iBwAAAADwf24xFM91RzU/ogcAAAAA8H+iBwAAAADwf6IHAAAAAPB/9ZSYTA601D+zf0dVOy6LP/hyvpaN51M/1yRicjYYYj9LYPH+7ErBP6IHAAAAAPB/rJfdAywT0j96GoXEsuTOP6IHAAAAAPB/ogcAAAAA8H+iBwAAAADwf5z5aIh/Cdg/a2SbZ1zKej+iBwAAAADwf4zXnCWheck/1hMyFx0frD8XtK+sTVVBPCBGDEGpIeA+fMxeMksKzz+iBwAAAADwf70EWfwv3Nc/ogcAAAAA8H+iBwAAAADwfyWt+xYy6sA/QJpm0sqyzD/YfKCxGFGKPyaGCFpBPDc/rA0K6tLl2T8N6uANDnjFP+S9do1tp9k/cb6/RUFNxj9m4StUtSOgP52y5lli1dA/4Q5vTQS3Nj/4ljcZVi+jP6IHAAAAAPB/fqa8K2HnQj+iBwAAAADwf6FRMI8dRcw/MZHddnlF2D+qrDjSl+GjP1Ktz7pWhL0/Bsvmm4BwsT9zejVjHVTYP/8V+paOvHY/ogcAAAAA8H8GzGf+TrHVP27dOC82ba8/v7ZHrQ95tD/vGGr/71HJP7L/SArnRdk/pO8FTTWIyj+iBwAAAADwf0SigKiOy7Y/jU/R6GHpyD/c3olmOmPbP7L/SArnRdk/nAzbnOMRyj+LAjxFzTbUP0d3AYIqe9s/zD/H9tWA1j+jFH+WbIfXP6IHAAAAAPB/ogcAAAAA8H+K5f8cTvrJP6IHAAAAAPB/ogcAAAAA8H/Kv7kHPgF+P1AGrOf2ghI5CFfY/9oZmj8j/aZhvnLCP8elhH116LI/aWxpdf+Awz/uyNDFm57ZPzv1XW6dkDQ/g3nWIWStzD9yed6LwrnSPzexvb7YCqs/RKKAqI7Ltj/C9Nx35oSbP8aKbydJMdg/cYGKMbVH0D8lx7ccEXfPP6IHAAAAAPB/qMYVzssElT+iBwAAAADwf0GD/6VPtMs/zQjBgbu8yz8NpLQjb1DPP6IHAAAAAPB/zD/H9tWA1j+iBwAAAADwf6IHAAAAAPB/cs3vTXSkyD/HpYR9deiyPzsET5WBIfY7moLKjBNh0j+WiQBhyOJwPaIHAAAAAPB/yjAiIWlzqj5DztN/aK/sOAQOjr2uEsw/JGFKEQJv2z/Wmoj3XlbHP7AJ4Go8m9Y/FMpFYQBAiz98ZTIbToeTPylUif1mD7w/GnyvGmuK0z+iBwAAAADwfxp8rxpritM/ogcAAAAA8H82Vk6fCArEP155YWw+lNc/LkServ1d1j9WL6V7TvzUP66SVdQPXNY/ogcAAAAA8H+iBwAAAADwf6IHAAAAAPB/iwcTcLPa2j+Ki4clFlrXP6IHAAAAAPB/W3oc1UGPej/fpEAqY9jMP8MvUWP6JsE/Beyx4lKo1T/2a05E8vbXP+VW+dF9+sk/aHu3MFZ20T/ryna41e7UP6IHAAAAAPB/3BfeIYHRVz9juUiJ2HtiPy4c+2xplrw/ogcAAAAA8H8ZxrWIHieVP6IHAAAAAPB/uLs+lxSfaT8sZqIDzaytP3o5W5AphNc/7gxq8qlypj/DL1Fj+ibBP6tvIxwJDnw/ogcAAAAA8H8u+PFTmxjUP6IHAAAAAPB/OfSzhcVK1j9u16BNDBR7P6IHAAAAAPB/LPPOeuRDqj8sREEbrIM+P0BZmhOmI7A/5241sEwwmT8gpKH0iLy/P1LUu8028Nk/OfSzhcVK1j/45RnvBKWlP6IHAAAAAPB/ggridYubvD+pZ7Dag1a3P6IHAAAAAPB/BnEdqWE5uT+XLuVBp6LQP+tY1TGp5rE/XQWwRB4M1D/mshs5mDlhPMMvUWP6JsE/OeXjARfByD8srkpdeSHNPwceG6Eo/tM/+OUZ7wSlpT8T3LDx3RbYP8pUIEgCZtU/CAXW+SMaJD632FgDCeu4P6sX+uh/+NY/Jrkyzdjn1z/BfXmYSl/RP+AFEoAGG4Q/wX15mEpf0T+XVfMPbFZpOwluPShdaNA/2c14stwuMT913D/OMfe8PwbMZ/5OsdU/s0bb22rPzj+Fyos1I5rGP6sX+uh/+NY/1wqaeRMg0T+CMlq3Md7XPyteGK1SfcY/jeb9d/7V1T/ND0osr7bXPzW4jSoPZ78/bVrusGZTxz+iBwAAAADwfyXkz1RaOpU/3iSuFZtVtT/U1AtErR4OP/rhm6uPpm4/2gldeClltz+iBwAAAADwf0jn7CE339U/fW5L3EN2gD+iBwAAAADwfyxuodOhrNg/4pS3FofZ0T/ND0osr7bXP2B49T6Podk/KVSJ/WYPvD8muTLN2OfXP/scPgpBz78/OO165p6sJj/ZWsxn+lDLP9LBb27sA7o/e8GuvRojzD+iBwAAAADwf+S6Q+twMMg/ogcAAAAA8H/ND0osr7bXP1oKlisML74/gdjzyhP51T9xgYoxtUfQPwOix5OH5JE/V7Q/yxRqgD8dvzESNBvWP6IHAAAAAPB/wWybBOTd2z+fsDGt67ecPxe1WrrWkcY/Ycl2Tw2Ovj877gT2jgW3PyWt+xYy6sA/Vuqbt7gyzD+/ItZkV5jWPxqhudZM+7I/20dhlIGteD4+OuBsoIVrPzGR3XZ5Rdg/BelejqYrkD+iBwAAAADwf3gvebbti5U/jzsYPbndpD+6ZmjQcyGpP73x1hOvicM/fW+jhngd2D/bfbwi+h+wP9h2r6DWTdI/EiIdM1am1T8ZIqDceK3EP9eFKI15a9o/yVV2hfS72z8h8CwAydLXP8aKbydJMdg/gXl8Y3LUJz/DDaiKFYbMP95wqNgrC8w/+TTO9RJWsj+dVvZb2qzRP4OSqD0Cjcg/s2gWiLWPyj+9BFn8L9zXP6dJzjFMebM/5dqBJRAU2j/73irOAAnaPjv1XW6dkDQ/7xhq/+9RyT/OFSy0f5cAP6IHAAAAAPB/M8F9KEeTyj+iBwAAAADwfyxuodOhrNg/MpF91Ucz1D/6KPue0km4P1bV1W+zSo4/ogcAAAAA8H+iBwAAAADwf03LuCBnTOU+W0Hje7+ADj72EgxAiD3RP9Y43kFiC9M/3G/xIoEu0T8V2sdpd141P0KNget74dE/FQlq+ULyxz+wkVeddsLZPqIHAAAAAPB/xtWkJsIHwz/Aq297vRPVPwLRBQGsW7s/mJTdf1fQxT8XO1J/foqrP8LF6bEjurM/FlThzKYNuD/m1bxyAjvXP/iFEq0/93g/nPOiTygYsD1ChdPf7UzXPz2wkOKXANk/ogcAAAAA8H8oZyJJVSfFP0kqMl8eY8A/iwcTcLPa2j8D+kAO2HewPyy4abJOL8E/ogcAAAAA8H9kVUr7cSS2P8dlKaM63M4/3YsSwpVG1T9qLvmF2kbSP/jlGe8EpaU/IGGQ+t5ImT96OVuQKYTXP103u8/QnMY/ogcAAAAA8H+iBwAAAADwf/ZrTkTy9tc/sSde7Iz/0T8bR0gTENnYP6sX+uh/+NY/ogcAAAAA8H+QUBZsjPjXP05HsIAvQqY/Vo4ptyB3sD8lf/ZDh43bP7AURISb1dM/ogcAAAAA8H+iBwAAAADwf8F9eZhKX9E/5tW8cgI71z9ZuOAKszvFP4sHE3Cz2to/85dQEpSg0T/DL1Fj+ibBPz4jcqYttc8/j0XWr/sFTz/zl1ASlKDRP5w4uYi47tk/vTbaVpDv0T95ho89XKOKPzPaUL54OLg/s39caij80T9nJXNm1TO2P4BO4uT7Ltc/jeb9d/7V1T9akkNgrx68P9YTMhcdH6w/QoXT3+1M1z+iBwAAAADwf43AGG7BZaA/l2KAWBG21T/e5QCei2XCP4Js+7XI+447Hz3UKpxw2z+iBwAAAADwfwrVtEaiLIY/DergDQ54xT92RMAaSOhUP6IHAAAAAPB/l5I0TJaK+D7m1bxyAjvXPz464GyghWs/+c2y6BG5vz+zf1xqKPzRPx4LUltXStI/ogcAAAAA8H/yz+33okvbP/G3m+0zlMM/xWC2iaQatD9tF5JN93FiP5zXxrkKmdM/1r7ec7nxxz/2pDWVFk65P2B49T6Podk/EW6tCtrc0z/doQfgt1GxP6IHAAAAAPB/3pZ1k1JJ2D+iBwAAAADwf/om8T5yIxU+6/iBp3lS7D43iM70PfjQP9ckYnI2GGI/TaKGlWILyj/OFSy0f5cAP3sKpFlwbc0/fz+XwItFuT+iBwAAAADwf2HS4zqu4aQ/C+SLsjEw2D/Aq297vRPVPwlh1AQsp7g/ogcAAAAA8H83iM70PfjQPyZRGaPnCLs/rA0K6tLl2T/qz4j7KIXKP63c2w3sMp0/bt04LzZtrz9YwYloDeUYP8emfjsXtcs/6UDP09SE2T8++OEL6EjaPx891CqccNs/n0wnx2DDjj/7NCbTYPfFPyzzznrkQ6o/MrtRPqui2z/2a05E8vbXP3O6gSeDR9k/faKKJp8RTz4CW8li8EvFP+vAgY7IhMs/moLKjBNh0j/xXG3iHEXkPmTRBCrIF9k/ogcAAAAA8H+pWi0uEuXDP00dTIqJLdE/xX1eHaMJ2j838+Tn4e7DP8MvUWP6JsE/sv4ShhS2yj9M2VCb+e3NP5qCyowTYdI/kFAWbIz41z/lpjDoMpy5P6IHAAAAAPB/Md7On1v+2D/DzlwfcfHDP750bNWj08o/RqXLcRO4az/QgG31iYJmP7VcZVGA5qw/1hMyFx0frD9I3FgWCv7VP9FOB0Kdhns/ogcAAAAA8H+iBwAAAADwf6IHAAAAAPB/okBCBwnmOzyiBwAAAADwf7N/R1U7Los/EmDxngbfrz+0aoL4PaqwP6IHAAAAAPB/iBZJFHxl0j93XO4iSjLDP9kOmDGGbtU/Uq3PulaEvT+xHa3aMrHAP/nNsugRub8/C5Z4aO7o2D9uax6Hl6GFP0XNc1AzrWM/srCjGyrPej/BfXmYSl/RP84VLLR/lwA/db0Iwmyp2z+iBwAAAADwf2RPScsectM/OhOBZ9FpyD+B2PPKE/nVP/Ub6cSEjsU/kq2TkeVEuz+agsqME2HSPxyXjHH8ntk/wy9RY/omwT+iBwAAAADwf7qD9QsSdtQ/x4ig9dabxDuQ6Ugx8DzMP5ingYc+z9c/ogcAAAAA8H/lMgMqaIbaP9eFKI15a9o/U7nerKXwwz9RzJ0w52yfPyNADdbvBMA/KJriDwoqyD+QkpnKgSfGP27s6POlwtY/ogcAAAAA8H9yzDcyyaTIP75RP7DjYq8//6euxANuxz+QKTKRJlOSP2v1nNC2csU/KYo3y4Vxwj8Hj87s9iu0P1qf/3XixdM/uXjlP5wVwj99uyaOZQHHP9u84Fs6QKY/KOpueaLKHD+ZsIa/JgzJP6IHAAAAAPB/ejlbkCmE1z+kftcuHiiZP/tOlnueV5c/NvrSNbwpsD+iBwAAAADwf6IHAAAAAPB/YmC02d+i2j+iBwAAAADwfyfc/Lkvd4Y/gJP7nlUs2T+zf1xqKPzRP9VU9/eEhbI/ogcAAAAA8H+iBwAAAADwf2HS4zqu4aQ/ZuzlDXqmmT+sl90DLBPSP+utu2MQtM8/2hFzNBa1mT+drVj5aivCP9vbeAc8sdA/vMhjpl+KpD42VTgzAByJP0wC5nb6Ork/y8nZvNJK1z8OEoceDM3QP6IHAAAAAPB/ogcAAAAA8H8h8CwAydLXP/DrYQrMxNs/f4HkzOWrmj/SS88vWbbIP0v9pI8lK8I/32Xj4QZrzD+QUBZsjPjXP6IHAAAAAPB/ogcAAAAA8H/Jgd70Ql7bP3oahcSy5M4/4P9XRrvNqT7zl1ASlKDRP7Zlsf+llsY/ddYSVN7f2j/l9RrTQXbVP7L/SArnRdk/SciIDVVz0j/Aq297vRPVP/woNPWsC3s/lrexyWOnSj8uxDACugWWP6IHAAAAAPB/fEwkLdQL1j8IR+w45e3KP/G8IYmpD6w/vZzWbpHurz/G6T9lPprCP7ZvEOTs7rE/wy9RY/omwT/7q+au0GOwPxuBvmx8btY/PD1NBXrxzD8xkd12eUXYP4wy02iis7Y/ogcAAAAA8H8W2fjyvga4P6IHAAAAAPB/NlU4MwAciT+iBwAAAADwf3vBrr0aI8w/ogcAAAAA8H8EJ6B9HpG0P8V9Xh2jCdo/ZE9Jyx5y0z91gxmBmKWgP8MvUWP6JsE/wvTcd+aEmz8q/jiK/t7aPyZT+NxEg9Q/Xgd0JPtLjD9an/914sXTP/0Q6WeXKZg/HRDrT4/GlT/A+hX2oya9P90bRnqD2NY/iwcTcLPa2j82VTgzAByJPxPdsxtDfqo/nFFFA4PJyT/XhSiNeWvaP1D0V2lu39E/KVSJ/WYPvD8mU/fIfZSYP8OTBhAjXdU/9GC2YbNRwz972D6tS9jZP2PV4iQCdNU/AcoqaipurT8I716BrlzSP6IHAAAAAPB/qMiy+/dozD9/LD7+/0HEP/rvJmbm75Q/tmWx/6WWxj/+HrTbLZjHPdeFKI15a9o/Hz3UKpxw2z95wMUY9eZlPxkioNx4rcQ/iqlM+qiXyj+iBwAAAADwfwZxHalhObk/5fUa00F21T8qC6bsSQ/VP6f3Ul4BI8Y/kQE6mTRA0D9MxmztEkxyPBpOitQIsaA/8tc5nLyASj/lpjDoMpy5P7rFefc7eMc/HcDhY+ejqz8sTbo6CHGzP6IHAAAAAPB/ogcAAAAA8H/sN/jL69LXPxgxFogeFLQ/nAzbnOMRyj82+tI1vCmwP4qkTuO0XdI/neVXG179wj+K5f8cTvrJP3WFJKKZFkc/mnQQRaHfuD9kVUr7cSS2PzO5cgOGa7U/tqVjf3vy2D8IR+w45e3KP8+DfqtbHpI/Qg3Wkimj0T+a9TRkATvLPwmZFaoQJsw/ogcAAAAA8H8xqWb+ZE+fPxwOceMGVdc+moLKjBNh0j9Xbl3oTIXCP6IHAAAAAPB/iuX/HE76yT/MHQNGsrRwP6IHAAAAAPB/v6qt3GGOwj6iBwAAAADwf7N/XGoo/NE/adqQxXWXyT8PhxDELZfQP96WdZNSSdg/rf0jN76rxj9PcRuGdvumP6IHAAAAAPB/KmDsNzbyqz+RfbtCgZ2/PzLM0/kFa2o/R2WXnPxy0j8JIN2TSYXKP8emfjsXtcs/92FsavKPuz/fZePhBmvMP0ruNznTC5A/PCW3yZ0JyT+Kq6EyABW3P1D0V2lu39E/hUR5yaGW2T/45RnvBKWlP/tA+YN2D8s//uyhvbl5zj/WEzIXHR+sPxCwooS0RrY7bvA1WoK12z9kiiE3lTecP6YEnntv79Q7JTBiDmX1vj9Aq6FfTXs/Ouny+RptG9o/1HP6PoV+wT+fTXKS/H/CP+s3n+GIKds/dBbrT1Npyz/b23gHPLHQP6IHAAAAAPB/wKtve70T1T+jTKUDu9HOP6IHAAAAAPB/5MfIwaoYgz+N2n4BorYKP6IHAAAAAPB/5L12jW2n2T9EnTHxcjbRPw8s617rhdQ/8s/t96JL2z+sdZ8jquGXP92hB+C3UbE/k1hf3sCOzj8vMnH/xdxLP8i2lm10t8Q/jU/R6GHpyD99UtVWTbrZP6IHAAAAAPB/tn57R6x0yT/Yo12N5wTRP6Q+fvD+kJA/7YyApKpRxj8jQA3W7wTAPxp9DPngLtM/xX1eHaMJ2j9tc3ADmz7DP8MvUWP6JsE/7adYMD/XtT8NSNPlZJnZP8FMuOfwTR0/UsqLKJevZz+iBwAAAADwf6IHAAAAAPB/2gldeClltz+WaGX0WxG+P1YvpXtO/NQ/pyJYd0SkCz/ruydfUjvQP6IHAAAAAPB/ogcAAAAA8H8ctdlSxVbQPwXaVdD5SdA/NvrSNbwpsD+MMtNoorO2P9YTMhcdH6w/ogcAAAAA8H8UkD9BdOvKP6IHAAAAAPB/ogcAAAAA8H8OZUkNJAS6P6IHAAAAAPB/3nYUL1aY0D/wc7W4+/rCPn2kOtsXqlM/D+5RB1pDlj/BfXmYSl/RP9VqRcbgT8U/ogcAAAAA8H9dW7ShV220P6IHAAAAAPB/+ij7ntJJuD8OZUkNJAS6P/+nrsQDbsc/3G/xIoEu0T8ThCSRI83bPxp8rxpritM/5L12jW2n2T+gxgUblGfNP/WUmEwOtNQ/xX1eHaMJ2j8rXhitUn3GP0tlnoc1/8w/ka8XrDmO2z9Xbl3oTIXCPxik1TxH/tc/D9Z9hMQHgT+iBwAAAADwf8EVI+/m2ZM/CEfsOOXtyj+sl90DLBPSP6IHAAAAAPB/Bsxn/k6x1T/RY6DnTlfaP7iP+2IBiNI/MZHddnlF2D+OWTAy3JvRP5ingYc+z9c/+ij7ntJJuD88JbfJnQnJP5qCyowTYdI/IfAsAMnS1z+iBwAAAADwf2c5DWHaJLk/wy9RY/omwT/kvXaNbafZP9QyFPrfwbE/1hMyFx0frD9IAKs+dyjUP+yLKD7QY9A/ogcAAAAA8H+agsqME2HSP6PBf0H3QdI/KKrjuObuyj+gmvMOIPbaP8w/x/bVgNY/oLiw85KS0T86E4Fn0WnIP2ThguMd/7w/ogcAAAAA8H9gh+Ih0dajP2RVSvtxJLY/tnUlTU0Q1D96GoXEsuTOPx6adVY1XEo/gjJatzHe1z8xkd12eUXYP6IHAAAAAPB/8ZqpX/835DzBfXmYSl/RP+fV0RbYra4/wFAbMWZI1j8t6h83/gDbP8emfjsXtcs/GGdqmwPRsj+WueGsZyaUP4psRECsFmA/v7ZHrQ95tD+nIzBVnd68P4N51iFkrcw/PUY/Us0X1T+iBwAAAADwf8MvUWP6JsE/PznB1ofKvz9lFxwXrBzSPz85wdaHyr8/5L12jW2n2T+iBwAAAADwf+THyMGqGIM/xX1eHaMJ2j8HDS6Q0ya2P+BghOCTGbs/9223DbvuwT5p2pDFdZfJPxFocZp+A5I/29IUOGQj2j8NSNPlZJnZPwXaVdD5SdA/oTncIUHf2j8t6h83/gDbP6IHAAAAAPB/r/9hYKgNsz9/P5fAi0W5Px7jb1ytC9Q/S+ZYdxWf2T+iBwAAAADwf+7I0MWbntk/pEPXLphC2T/i9YB98sOSP6IHAAAAAPB/OnpPjJ80oT8gwmO5B42IP6IHAAAAAPB/x2Upozrczj/DL1Fj+ibBP4Tlt0pk0dY/SACrPnco1D8N6uANDnjFP8D6FfajJr0/hLVa0D1azz8xkd12eUXYP9eFKI15a9o/RHCucNU/2j9+k58v8x/AP6as96GZLNA/NPvrpPjlwT9EnTHxcjbRP38/l8CLRbk/Hut9ER5rsD+aSgoFPazYPzK7UT6rots/ogcAAAAA8H/0NEisSD64PzGR3XZ5Rdg/ogcAAAAA8H+iBwAAAADwf6IHAAAAAPB/zG5i201jxz+iBwAAAADwf8MvUWP6JsE/wE6uvwUQRT/e5QCei2XCP3N6NWMdVNg/ogcAAAAA8H96OVuQKYTXPxmVTefInr8/wy9RY/omwT8eta38sEOjP6IHAAAAAPB/bJWlz7hW2D+iBwAAAADwfx+tiU/yO7w/aMFcaUyG0z+BgpyLsUHDP0S+2kOuOc0/db0Iwmyp2z9cZzH/jLrMP4sHE3Cz2to/SD0rQY29wT8Pq4ewfrmFP/XGYrGodKo/UWHhYQ8t2z/C1bEeajaIP3vBrr0aI8w/zOp8/l82xz968Y7NUNeTP94nnV7DS5w/wUy45/BNHT/BfXmYSl/RP+S9do1tp9k/14UojXlr2j+ckU8TxdTIP5+lJ4h++bA/ogcAAAAA8H8oqhQqiuu5P8aKbydJMdg/nsTdv1OcVT/zk+KuNWnVP3da6TekfdA/R7XmIE5+0T+V7Lrp3u7IP/iXVGpGgrs/Vlyw12iwkT/2yiV7gWZBP26UVjquKMA/ogcAAAAA8H+iBwAAAADwfwT2uKshF8M/3LabwiZtQD+2ZbH/pZbGPz9B+tOCl8g/V25d6EyFwj/vU0nWRaGzP8sphtGM4Nk/vQRZ/C/c1z+iBwAAAADwfxhnapsD0bI/ogcAAAAA8H/l9RrTQXbVP+S9do1tp9k/r4WmIu2Mwj9EooCojsu2P/LlocgKA9U60w1f9t/71z+SaSAGda7RP+vKdrjV7tQ/BelejqYrkD8JmRWqECbMP3ire2FLvNY/S/2kjyUrwj+iBwAAAADwfygAyOjHdsI/FZPYQ9C2kz8l+ZlAeLyMPzFYSasXm8I/6P/zQUuXuT/kyb+9JtTQP6IHAAAAAPB/VXEt3UCY1j+iBwAAAADwf+2MgKSqUcY/B60fveBfzj+QmSd0XHm3P81H/BoXG8U/ogcAAAAA8H8srkpdeSHNP6IHAAAAAPB/xqgxXnbsuT/f1QLMh/GjP6IHAAAAAPB/9ZSYTA601D9an/914sXTP5NYX97Ajs4/8s/t96JL2z9B5f6VZZvUP8w/x/bVgNY/mW4xvoZ/xj9M9AW1xXnYP0IW0/gYBNY/qxf66H/41j+iBwAAAADwf4sHE3Cz2to/aHu3MFZ20T/GqDFeduy5P/5YLysUnds/ogcAAAAA8H+agsqME2HSP1ExJLrGo+49ogcAAAAA8H91vQjCbKnbP0KNget74dE/QlPCW1nUsj6osMbWSwXXPhf+mX3JbEI/ogcAAAAA8H9j1eIkAnTVP0kqMl8eY8A/uiiWfHFo1T91vQjCbKnbP5qCyowTYdI/G0dIExDZ2D8kKryaGpnFPw3q4A0OeMU/2rCVD8yFxz/72M6AdyK+P3rxjs1Q15M/ahjAfRFFwz8P67vai0nWP/Q0SKxIPrg/6s+I+yiFyj/ZzXiy3C4xP6PBf0H3QdI/zbEtPtFP2z+iBwAAAADwfyNADdbvBMA/E4QkkSPN2z9MccqgW4DOP1duXehMhcI/+q5U1U7q1z8KBFDVM/rZPwHRY+DS6sk/DergDQ54xT8KYI5UDk7OP5yRTxPF1Mg/8OeSIpoN1T/cb/EigS7RP6Q+fvD+kJA/IwCSsA3HyD9rVOLLwFutP99to42z0LY/CeaPMNxbyj8nEDRh3povO2h7tzBWdtE/+9jOgHcivj88lbTlNqXTP0J/8QOOH9A/CFfY/9oZmj8gpKH0iLy/P6IHAAAAAPB/ejlbkCmE1z+iBwAAAADwf6IHAAAAAPB/3r4MpHMX1z/MP8f21YDWP6IHAAAAAPB/4YRXvZUFpj/FfV4downaP2IoYIK1pco/rJfdAywT0j+LBxNws9raP8Crb3u9E9U/NlZOnwgKxD+iBwAAAADwf4IyWrcx3tc/TAHiVOU40D/BfXmYSl/RP/89JuS2vro/l+h0/eLg2j8cBY5383DZP01m76w548M/xX1eHaMJ2j+uoxTdM+7XPtkQqXw6+9Q/hOW3SmTR1j/rrbtjELTPP6mE3wWBiq4/PCW3yZ0JyT8eta38sEOjP0IW0/gYBNY/tmWx/6WWxj//KNp7iovRP5LUehPR/iw/V25d6EyFwj+CCuJ1i5u8P5hdEBurNds/3iSuFZtVtT9Tud6spfDDP6IHAAAAAPB/VxGFDJed2D+Yp4GHPs/XPw6kptZ9j9k/H8yKVn7m1z9075+empDSP0SdMfFyNtE/6627YxC0zz+iBwAAAADwf7BRYaZx+dA/bDCngM9UmT+iBwAAAADwf6IHAAAAAPB/ogcAAAAA8H/FfV4downaP9eFKI15a9o/OhOBZ9FpyD8xWEmrF5vCP9NgFu7v4Ms/Yebm1Rk51T8oZyJJVSfFP6IHAAAAAPB/5L12jW2n2T9MAeJU5TjQP/G3m+0zlMM/KmDsNzbyqz+iBwAAAADwf1Bc86pIzsg/14UojXlr2j/aCV14KWW3PwMPs6rSANU/xX1eHaMJ2j/yz+33okvbPwmXzU2zUNk/f0g1eiFKQD5u7OjzpcLWP2DIrxlzEVA/N5+smli5wD/qad3rUBOyP1REoKDBj7w/ogcAAAAA8H/kvXaNbafZP6IHAAAAAPB/Hz3UKpxw2z/ImBW6YVSfPyVAvJoU/tI/ddYSVN7f2j/XR2PhoyDSP7L/SArnRdk/ogcAAAAA8H+8ZvxKwDXMP0ZELo5ONNE+Y9XiJAJ01T9IxycGuxPCP4YQCQeQrdk/uoP1CxJ21D+ZUAYlhA2mPy0Snuq619M/PiNypi21zz9kiiE3lTecP0gAqz53KNQ/bXNwA5s+wz97wa69GiPMP4sHE3Cz2to/MZHddnlF2D9Xbl3oTIXCP97lAJ6LZcI/hOW3SmTR1j96GoXEsuTOP0quDJuwRME/+OUZ7wSlpT/mshs5mDlhPKIHAAAAAPB/O+4E9o4Ftz++dGzVo9PKP1p70u7huqI/ogcAAAAA8H/DL1Fj+ibBP8MvUWP6JsE/wy9RY/omwT/DL1Fj+ibBP8MvUWP6JsE/wy9RY/omwT/DL1Fj+ibBP8MvUWP6JsE/wy9RY/omwT/DL1Fj+ibBP8MvUWP6JsE/wy9RY/omwT/DL1Fj+ibBP8MvUWP6JsE/wy9RY/omwT/DL1Fj+ibBP8MvUWP6JsE/wy9RY/omwT+iBwAAAADwf6IHAAAAAPB/nq+gtGhrzD/YIc9x/QDZP+3GMxHfm8I/DqSm1n2P2T/HZSmjOtzOP97lAJ6LZcI/HrWt/LBDoz9lAYcWxpfaP3W9CMJsqds/XjMGsqSa2z+NWiP71++9PwfWce5uZLY/iwcTcLPa2j/qz4j7KIXKP9qwlQ/Mhcc/7SwiAutY2z95hY7eY3XBP7alY3978tg/LQ+B/gsvZz459LOFxUrWP5lQBiWEDaY/ZE9Jyx5y0z8TYuvhRafTP1SUUXOiztM/MrtRPqui2z+iBwAAAADwf9j8AxuanI4/NAq9puHdzT83iM70PfjQP91LRVEJsqM/ZuErVLUjoD8afK8aa4rTP6IHAAAAAPB/ogcAAAAA8H+iBwAAAADwfxbHSJbcM7k/FT/bbQDW1T+iBwAAAADwf6EXyl1RdcY/6P/zQUuXuT94cCaLogO8P5F9u0KBnb8/ogcAAAAA8H/NCMGBu7zLPx+xihYNW4g/fNkQID+2sz8ceBjcFduXP7BRYaZx+dA/6627YxC0zz+iBwAAAADwfyNADdbvBMA/xX1eHaMJ2j+iBwAAAADwf6IHAAAAAPB/fz+XwItFuT/kvXaNbafZP0Hl/pVlm9Q/wy9RY/omwT+M15wloXnJP9Eg95IFP7Q/WfJFJIrm0j/rwIGOyITLP6IHAAAAAPB/rqMU3TPu1z5Mm2Ifj9fUP+S9do1tp9k/ZwGVmjUOwj9giATRy0i+PzA+uPJ/2tM/1oEHaRzx2T9H5WWRErmzPzm6liEOyb8/bpRWOq4owD/5zbLoEbm/P103u8/QnMY/iwcTcLPa2j9JKjJfHmPAP38/l8CLRbk/2NTMDYM1zj8jQA3W7wTAP2k/Hz5udcI/q8sAd27cwD/bWYi4rM7bP6IHAAAAAPB/IyD4RcjGzD+iBwAAAADwf6IHAAAAAPB/jV3cTpyd0T91vQjCbKnbP27dOC82ba8/v738KxEBgD+iBwAAAADwf6sX+uh/+NY/ogcAAAAA8H/hAmAwsQi1P20Y+5OwHX8+8mWjijllxz+4mK5af0diP3W9CMJsqds/PEi2c4wM2j/ryna41e7UP9kOmDGGbtU/buzo86XC1j+iBwAAAADwf6IHAAAAAPB/4YRXvZUFpj9eGKBWPcvCP1Bc86pIzsg/BelejqYrkD9u7OjzpcLWPzoTgWfRacg/NvrSNbwpsD/k0xfMSprFP6HXHJpxW80/R3cBgip72z+iBwAAAADwf3qhH7Qgk9s/DJwcfZp81D+jSJAL3VHXP7fIlO+pLM4/wKtve70T1T+iBwAAAADwf6IHAAAAAPB/KXcI33YSzD+iBwAAAADwf/VLLCJjVsQ/ogcAAAAA8H9Fg0FwANN0P6IHAAAAAPB/ddYSVN7f2j+iBwAAAADwf5BQFmyM+Nc/ogcAAAAA8H8dsCXm466lP7uy6rqh6bQ/9PHopvpQ2z+iBwAAAADwf6IHAAAAAPB/DIGFTyYa1j/7HD4KQc+/P9YTMhcdH6w/ogcAAAAA8H+FccVVYQXaP6e6wMaCeNQ/CZfNTbNQ2T/XhSiNeWvaP+7I0MWbntk/wy9RY/omwT8jIPhFyMbMP8MvUWP6JsE/MZHddnlF2D8xkd12eUXYPxbHSJbcM7k/PouSsYFLvj9z67JbXXxcP+vKdrjV7tQ/W2eXyGl+1j+jJmLqirGMP4sHE3Cz2to/HNAoBWb/lz8q1j+YvsrXP9F5RNZPJJw/eCEvaf41uj/1SywiY1bEP6IHAAAAAPB/Vo4ptyB3sD9an5KRJdfZP0aly3ETuGs/iwcTcLPa2j9iYLTZ36LaP1qf/3XixdM/cYGKMbVH0D/DL1Fj+ibBPyHwLADJ0tc/6N/OuYVCxz91vQjCbKnbP6IHAAAAAPB/sD8CZIW60z+cF45gR8PaP6IHAAAAAPB/ogcAAAAA8H9tZESLurzYP6wNCurS5dk/ogcAAAAA8H/siQSrc4zSP6IHAAAAAPB/ogcAAAAA8H9/P5fAi0W5P97lAJ6LZcI/tnUlTU0Q1D9ppTz9F9C1PziaXDyU/dI/ogcAAAAA8H+iBwAAAADwf+7I0MWbntk/ogcAAAAA8H8yP2QM4wHVPzPaUL54OLg/moLKjBNh0j9yJNkz9I7ZP5F9u0KBnb8//xX6lo68dj+iBwAAAADwfzeIzvQ9+NA/C5eZSY0UxD+NwBhuwWWgP6x1nyOq4Zc/Gn0M+eAu0z/bWYi4rM7bP7BRYaZx+dA/R2WXnPxy0j8YweCYEHHVP2wwp4DPVJk/ogcAAAAA8H9WUeAyDmO+P/Rlv2oevqs/VXEt3UCY1j8K8bHNSDzCPzfZVB8/rxU/OfSzhcVK1j9PhvsvQMLUP39INXohSkA+QoXT3+1M1z//p67EA27HP3bGQ4cfPLI/N7G9vtgKqz8mU/fIfZSYP4ZzhRGjl8Q/db0Iwmyp2z9tU08qWuq7PxhBBznU+NQ/sSde7Iz/0T/SAvku+l5HP6IHAAAAAPB/uB/Ez0p4zz9p2pDFdZfJP/VLLCJjVsQ/ogcAAAAA8H/kvXaNbafZP6IHAAAAAPB/qrcGsBnYUz6iBwAAAADwf/pXRFjUcdg/ogcAAAAA8H/ryna41e7UP6IHAAAAAPB/ogcAAAAA8H+iBwAAAADwf6cEAgvA0KU/WbjgCrM7xT/OXJWUi+DJP2PV4iQCdNU/6TaZ38lSxD+iBwAAAADwf2yVpc+4Vtg/ogcAAAAA8H9gBXjfQpy+P+X1GtNBdtU/8uZ6g2XE2z93Wuk3pH3QP6IHAAAAAPB/vQRZ/C/c1z9HteYgTn7RP7rFefc7eMc/BeZD8L4ZzT+iBwAAAADwfx61rfywQ6M/MOovwn0W1D8bOpKfkyivP8F9eZhKX9E/uym+PR5poj9Src+6VoS9P8V9Xh2jCdo/Npwp77Fx0D9an5KRJdfZP6IHAAAAAPB/Bjbeg8FR0z/OiWs4dtjEPz85wdaHyr8/a7+Wla910z8R91r1ZeuIP5w4uYi47tk/PbCQ4pcA2T96f31YqIi7P0d3AYIqe9s/8Jw1Law7tz97dDTWscHVPxe1WrrWkcY/x6WEfXXosj+iBwAAAADwf8V9Xh2jCdo/tgW48irZzD+xHa3aMrHAP3u/lh9LXcQ/3aEH4LdRsT8pVIn9Zg+8P+4ey7sqV7M/ogcAAAAA8H/4hRKtP/d4P3da6TekfdA/ogcAAAAA8H8tWTkEUcTaPylUif1mD7w/RF82TIFixz+iBwAAAADwf+bqZnb15J8/D+Uyl5cNuz/gn4wUJSJBP6IHAAAAAPB/ddYSVN7f2j/skng1UjDRP+fV0RbYra4/32k4O7fd1j/XR2PhoyDSPy4iqHI7n9Y/QYP/pU+0yz+HGBSPtwSlP6IHAAAAAPB/ogcAAAAA8H9uax6Hl6GFP8V9Xh2jCdo/HA5x4wZV1z6iBwAAAADwf6IHAAAAAPB/YdLjOq7hpD+iBwAAAADwf6IHAAAAAPB/ogcAAAAA8H91vQjCbKnbPxF8QXHlh9c/OHQ9P0zPdz+iBwAAAADwf6IHAAAAAPB/gjJatzHe1z8jAJKwDcfIPwfeP84s4NQ/NvrSNbwpsD97wa69GiPMP+MQQ+e4INU/s2gWiLWPyj/BfXmYSl/RP1LYjdfynS4/DCKF2ZPc1D8iCJkB5bzAP6Gq9dCIObM/TAHiVOU40D+iBwAAAADwfz85wdaHyr8/68p2uNXu1D+iBwAAAADwfzHKofq8bLw/UFzzqkjOyD+iBwAAAADwf7oolnxxaNU/rbxWKesw2T/8UtPWyYBXP2jBXGlMhtM/ogcAAAAA8H+iBwAAAADwf6XxJ/+cSc0/a/kc53MtUTyiBwAAAADwf3LMNzLJpMg/ogcAAAAA8H+rbyMcCQ58P4sHE3Cz2to/kFAWbIz41z+maRKIicPSPxp8rxpritM/ogcAAAAA8H+TRLzp4WGyP6TUG0SaVMM/+ij7ntJJuD/WEzIXHR+sPwhH7Djl7co/B4/O7PYrtD+iBwAAAADwf+rPiPsohco/PCW3yZ0JyT913D/OMfe8P6IHAAAAAPB/QUshkblc2j+iBwAAAADwf8V9Xh2jCdo/lSO6ToGS5D7uyxDAKvbYPzeIzvQ9+NA/N7G9vtgKqz+iBwAAAADwf1VxLd1AmNY/ogcAAAAA8H8h8CwAydLXP2GqoqqqEdA/ogcAAAAA8H9obCQbmueTPz2oMtxfYsI/db0Iwmyp2z8jQA3W7wTAP487GD253aQ/ogcAAAAA8H+iBwAAAADwf5rsSee4aL8/ogcAAAAA8H8dSH9u37yrP26UVjquKMA/LsQwAroFlj+iBwAAAADwf6E2REOCidQ/ogcAAAAA8H80gQQpZ9+6P99pODu33dY/N4jO9D340D9DjvlHIPPUP2n5nWP7yMk/ogcAAAAA8H8SBmksx5XAP2f9/PDfttE/ogcAAAAA8H+zf1xqKPzRP6IHAAAAAPB/CiRfT+bv1z/vu+C497bMP8MvUWP6JsE/pwQCC8DQpT/l9RrTQXbVP64fUl0yHNg/ZQ/5xkvF1j85QLycTWfCPzfZVB8/rxU/s8IsQnlw3T7XIqSQ+OmdP2JgtNnfoto/ogcAAAAA8H+409SriGPMP6sX+uh/+NY/SMWUvbahnj+bB2rmfKHZP6IHAAAAAPB/H7GKFg1biD9LU9yOFxaNP0DIJc+/7Xw/XSfONpZZoT9Xbl3oTIXCPzsXpYdnqq8/x2Upozrczj+iBwAAAADwf6IHAAAAAPB/Vo4ptyB3sD/FfV4downaP27s6POlwtY/ucGBWXfy1z+iBwAAAADwf6IHAAAAAPB/41rA2Gsp1j8+I3KmLbXPP6IHAAAAAPB/myiP1Xk8sj+iBwAAAADwfxp8rxpritM/HYuskt8vxj89Rj9SzRfVP7TSnTHHotI/ogcAAAAA8H+k1VCUWqSzP6IHAAAAAPB/wRUj7+bZkz+dsuZZYtXQP+hrZyp1G9k/6N/OuYVCxz9xK57xTTjHPxDWoanvQFM/zNEEBBBlrT+sl90DLBPSP6IHAAAAAPB/hOW3SmTR1j+iBwAAAADwfypg7Dc28qs/ogcAAAAA8H98LKDnoMLVPxp8rxpritM/ogcAAAAA8H+iBwAAAADwfxe1WrrWkcY/I7zewf79VD/c3olmOmPbPyWt+xYy6sA/p+TBR/BNIj9Xbl3oTIXCP10FsEQeDNQ/ogcAAAAA8H913D/OMfe8Px/MilZ+5tc/f3CS/QwawD+iBwAAAADwf0jn7CE339U/ogcAAAAA8H9SKNA+o2LTP1Bc86pIzsg/DuOyYNEnzT9ChdPf7UzXP80FRpA3c0U/sBREhJvV0z/I7Cc7Dl2BPwdkgyTK/sY/uiiWfHFo1T9S8HApXhCvP6IHAAAAAPB/rFcbmkAQ0D+2Duhl4HDbPya5Ms3Y59c/ogcAAAAA8H+Yp4GHPs/XP6IHAAAAAPB/ogcAAAAA8H+MbLSCa46mP6IHAAAAAPB/ogcAAAAA8H/YNH2wFh3FP1qf/3XixdM/pKBwtwZGMD//p67EA27HP0tg8f7sSsE/zdHwKEgp1D+hFh4l0ZPHP0AzWIpD2dg/ogcAAAAA8H8eta38sEOjP6IHAAAAAPB/bWREi7q82D9u8DVagrXbPx891CqccNs/CWHUBCynuD/zdpVlzIjIP6wNCurS5dk/x+Fmu9nYAj5qioTOIp/bP6IHAAAAAPB/UJ4kg2Vvnz91vQjCbKnbPxUJavlC8sc/ogcAAAAA8H+iBwAAAADwf3d3XsFSrZI/7eoXLe3O2z+iBwAAAADwf0gAqz53KNQ/4HGLvmeb2j82+tI1vCmwP9vbeAc8sdA/ogcAAAAA8H+iBwAAAADwf2JgtNnfoto/yOwnOw5dgT88v6WW/p7WP6IHAAAAAPB/zhxJcfokUj/Aq297vRPVP6IHAAAAAPB/qFvE1hQcIj9J4oI+VGGmPw3q4A0OeMU/D+u72otJ1j/DiYml7M3WP0e15iBOftE/ogcAAAAA8H+iBwAAAADwfyCXmvIQvIw/7sjQxZue2T+/njVKDRK3P6IHAAAAAPB/hOW3SmTR1j/JVXaF9LvbP6IHAAAAAPB/ogcAAAAA8H+iBwAAAADwf1qgsQ9tI9c/zIn1w/c7dj9yJNkz9I7ZP7Zlsf+llsY/6s+I+yiFyj9i/b+SKx3WP6IHAAAAAPB/zD/H9tWA1j+iBwAAAADwf6IHAAAAAPB/GnyvGmuK0z/CuPXzfsrYP6IHAAAAAPB/OsVsc08H1z+iBwAAAADwf6LgEs95v88/ogcAAAAA8H/uyNDFm57ZP7BRYaZx+dA/ogcAAAAA8H+y/0gK50XZPyFoN3YL/bI/ogcAAAAA8H+phN8FgYquP6IHAAAAAPB/UevDlOCUxj+iBwAAAADwf8V9Xh2jCdo/ej5ooc7MpT7yz+33okvbP3wsoOegwtU/xX1eHaMJ2j9U78t0/PQwP8Rf7CbfwNE/ogcAAAAA8H/ahRrWUqfRPlqf/3XixdM/ogcAAAAA8H8afK8aa4rTP6IHAAAAAPB/ogcAAAAA8H+U1grxCfYXP6IHAAAAAPB/ogcAAAAA8H+iBwAAAADwf1qVKfE1Adg/ogcAAAAA8H+M8ycs0lSuP9DaN0W9toQ/SSStOfLA1T+iBwAAAADwf+rPiPsohco/QZNRS8p3kT+iBwAAAADwf6IHAAAAAPB/U7nerKXwwz8haDd2C/2yP6IHAAAAAPB/dfz0yqyT2z/wc7W4+/rCPqIHAAAAAPB/Hmpce0kM1j+iBwAAAADwf3ErnvFNOMc/ogcAAAAA8H90QiERnLV8P+eQ0R0o4YE/ogcAAAAA8H+iBwAAAADwf6IHAAAAAPB/ogcAAAAA8H+iBwAAAADwf6IHAAAAAPB/ogcAAAAA8H+iBwAAAADwf6IHAAAAAPB/ogcAAAAA8H+iBwAAAADwf6IHAAAAAPB/ogcAAAAA8H8/cEqk9/jYP6IHAAAAAPB/ogcAAAAA8H+4jqaIGJ4uOSZT+NxEg9Q/ogcAAAAA8H88nS464Qu0PxGUTUuTAtI/tnUlTU0Q1D+iBwAAAADwf4mRnc/8dtQ/ogcAAAAA8H+iBwAAAADwf6IHAAAAAPB/ogcAAAAA8H+iBwAAAADwf6IHAAAAAPB/ogcAAAAA8H+iBwAAAADwf76gkX3HR14/ogcAAAAA8H+iBwAAAADwf6IHAAAAAPB/ogcAAAAA8H/VakXG4E/FP6IHAAAAAPB/ogcAAAAA8H+iBwAAAADwf6IHAAAAAPB/sgyvQLbn1T8GamHqceHQP6IHAAAAAPB/ogcAAAAA8H+iBwAAAADwf6IHAAAAAPB/3N6JZjpj2z/lpjDoMpy5Pzj/lQWq+88/ogcAAAAA8H8oZyJJVSfFP7UFJN+GFaE/ogcAAAAA8H+iBwAAAADwf4bF315GEdQ/ogcAAAAA8H8IR+w45e3KP6IHAAAAAPB/GDEWiB4UtD/DL1Fj+ibBP6IHAAAAAPB/PouSsYFLvj+iBwAAAADwf80sydILRqc/YjK4wMleyD+iBwAAAADwf8Crb3u9E9U/1A2oycHi1D9riuhrHMvbP6IHAAAAAPB/ogcAAAAA8H+iBwAAAADwf6IHAAAAAPB/ogcAAAAA8H8=\",\"dtype\":\"float64\",\"shape\":[2182]},\"pvalue\":{\"__ndarray__\":\"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\",\"dtype\":\"float64\",\"shape\":[2182]},\"size\":[7,7,7,7,7,7,7,7,7,7,7,7,7,7,7,7,7,7,7,7,7,7,7,7,7,7,7,7,7,7,7,7,7,7,7,7,7,7,7,7,7,7,7,7,7,7,7,7,7,7,7,7,7,7,7,7,7,7,7,7,7,7,7,7,7,7,7,7,7,7,7,7,7,7,7,7,7,7,7,7,7,7,7,7,7,7,7,7,7,7,7,7,7,7,7,7,7,7,7,7,7,7,7,7,7,7,7,7,7,7,7,7,7,7,7,7,7,7,7,7,7,7,7,7,7,7,7,7,7,7,7,7,7,7,7,7,7,7,7,7,7,7,7,7,7,7,7,7,7,7,7,7,7,7,7,7,7,7,7,7,7,7,7,7,7,7,7,7,7,7,7,7,7,7,7,7,7,7,7,7,7,7,7,7,7,7,7,7,7,7,7,7,7,7,7,7,7,7,7,7,7,7,7,7,7,7,7,7,7,7,7,7,7,7,7,7,7,7,7,7,7,7,7,7,7,7,7,7,7,7,7,7,7,7,7,7,7,7,7,7,7,7,7,7,7,7,7,7,7,7,7,7,7,7,7,7,7,7,7,7,7,7,7,7,7,7,7,7,7,7,7,7,7,7,7,7,7,7,7,7,7,7,7,7,7,7,7,7,7,7,7,7,7,7,7,7,7,7,7,7,7,7,7,7,7,7,7,7,7,7,7,7,7,7,7,7,7,7,7,7,7,7,7,7,7,7,7,7,7,7,7,7,7,7,7,7,7,7,7,7,7,7,7,7,7,7,7,7,7,7,7,7,7,7,7,7,7,7,7,7,7,7,7,7,7,7,7,7,7,7,7,7,7,7,7,7,7,7,7,7,7,7,7,7,7,7,7,7,7,7,7,7,7,7,7,7,7,7,7,7,7,7,7,7,7,7,7,7,7,7,7,7,7,7,7,7,7,7,7,7,7,7,7,7,7,7,7,7,7,7,7,7,7,7,7,7,7,7,7,7,7,7,7,7,7,7,7,7,7,7,7,7,7,7,7,7,7,7,7,7,7,7,7,7,7,7,7,7,7,7,7,7,7,7,7,7,7,7,7,7,7,7,7,7,7,7,7,7,7,7,7,7,7,7,7,7,7,7,7,7,7,7,7,7,7,7,7,7,7,7,7,7,7,7,7,7,7,7,7,7,7,7,7,7,7,7,7,7,7,7,7,7,7,7,7,7,7,7,7,7,7,7,7,7,7,7,7,7,7,7,7,7,7,7,7,7,7,7,7,7,7,7,7,7,7,7,7,7,7,7,7,7,7,7,7,7,7,7,7,7,7,7,7,7,7,7,7,7,7,7,7,7,7,7,7,7,7,7,7,7,7,7,7,7,7,7,7,7,7,7,7,7,7,7,7,7,7,7,7,7,7,7,7,7,7,7,7,7,7,7,7,7,7,7,7,7,7,7,7,7,7,7,7,7,7,7,7,7,7,7,7,7,7,7,7,7,7,7,7,7,7,7,7,7,7,7,7,7,7,7,7,7,7,7,7,7,7,7,7,7,7,7,7,7,7,7,7,7,7,7,7,7,7,7,7,7,7,7,7,7,7,7,7,7,7,7,7,7,7,7,7,7,7,7,7,7,7,7,7,7,7,7,7,7,7,7,7,7,7,7,7,7,7,7,7,7,7,7,7,7,7,7,7,7,7,7,7,7,7,7,7,7,7,7,7,7,7,7,7,7,7,7,7,7,7,7,7,7,7,7,7,7,7,7,7,7,7,7,7,7,7,7,7,7,7,7,7,7,7,7,7,7,7,7,7,7,7,7,7,7,7,7,7,7,7,7,7,7,7,7,7,7,7,7,7,7,7,7,7,7,7,7,7,7,7,7,7,7,7,7,7,7,7,7,7,7,7,7,7,7,7,7,7,7,7,7,7,7,7,7,7,7,7,7,7,7,7,7,7,7,7,7,7,7,7,7,7,7,7,7,7,7,7,7,7,7,7,7,7,7,7,7,7,7,7,7,7,7,7,7,7,7,7,7,7,7,7,7,7,7,7,7,7,7,7,7,7,7,7,7,7,7,7,7,7,7,7,7,7,7,7,7,7,7,7,7,7,7,7,7,7,7,7,7,7,7,7,7,7,7,7,7,7,7,7,7,7,7,7,7,7,7,7,7,7,7,7,7,7,7,7,7,7,7,7,7,7,7,7,7,7,7,7,7,7,7,7,7,7,7,7,7,7,7,7,7,7,7,7,7,7,7,7,7,7,7,7,7,7,7,7,7,7,7,7,7,7,7,7,7,7,7,7,7,7,7,7,7,7,7,7,7,7,7,7,7,7,7,7,7,7,7,7,7,7,7,7,7,7,7,7,7,7,7,7,7,7,7,7,7,7,7,7,7,7,7,7,7,7,7,7,7,7,7,7,7,7,7,7,7,7,7,7,7,7,7,7,7,7,7,7,7,7,7,7,7,7,7,7,7,7,7,7,7,7,7,7,7,7,7,7,7,7,7,7,7,7,7,7,7,7,7,7,7,7,7,7,7,7,7,7,7,7,7,7,7,7,7,7,7,7,7,7,7,7,7,7,7,7,7,7,7,7,7,7,7,7,7,7,7,7,7,7,7,7,7,7,7,7,7,7,7,7,7,7,7,7,7,7,7,7,7,7,7,7,7,7,7,7,7,7,7,7,7,7,7,7,7,7,7,7,7,7,7,7,7,7,7,7,7,7,7,7,7,7,7,7,7,7,7,7,7,7,7,7,7,7,7,7,7,7,7,7,7,7,7,7,7,7,7,7,7,7,7,7,7,7,7,7,7,7,7,7,7,7,7,7,7,7,7,7,7,7,7,7,7,7,7,7,7,7,7,7,7,7,7,7,7,7,7,7,7,7,7,7,7,7,7,7,7,7,7,7,7,7,7,7,7,7,7,7,7,7,7,7,7,7,7,7,7,7,7,7,7,7,7,7,7,7,7,7,7,7,7,7,7,7,7,7,7,7,7,7,7,7,7,7,7,7,7,7,7,7,7,7,7,7,7,7,7,7,7,7,7,7,7,7,7,7,7,7,7,7,7,7,7,7,7,7,7,7,7,7,7,7,7,7,7,7,7,7,7,7,7,7,7,7,7,7,7,7,7,7,7,7,7,7,7,7,7,7,7,7,7,7,7,7,7,7,7,7,7,7,7,7,7,7,7,7,7,7,7,7,7,7,7,7,7,7,7,7,7,7,7,7,7,7,7,7,7,7,7,7,7,7,7,7,7,7,7,7,7,7,7,7,7,7,7,7,7,7,7,7,7,7,7,7,7,7,7,7,7,7,7,7,7,7,7,7,7,7,7,7,7,7,7,7,7,7,7,7,7,7,7,7,7,7,7,7,7,7,7,7,7,7,7,7,7,7,7,7,7,7,7,7,7,7,7,7,7,7,7,7,7,7,7,7,7,7,7,7,7,7,7,7,7,7,7,7,7,7,7,7,7,7,7,7,7,7,7,7,7,7,7,7,7,7,7,7,7,7,7,7,7,7,7,7,7,7,7,7,7,7,7,7,7,7,7,7,7,7,7,7,7,7,7,7,7,7,7,7,7,7,7,7,7,7,7,7,7,7,7,7,7,7,7,7,7,7,7,7,7,7,7,7,7,7,7,7,7,7,7,7,7,7,7,7,7,7,7,7,7,7,7,7,7,7,7,7,7,7,7,7,7,7,7,7,7,7,7,7,7,7,7,7,7,7,7,7,7,7,7,7,7,7,7,7,7,7,7,7,7,7,7,7,7,7,7,7,7,7,7,7,7,7,7,7,7,7,7,7,7,7,7,7,7,7,7,7,7,7,7,7,7,7,7,7,7,7,7,7,7,7,7,7,7,7,7,7,7,7,7,7,7,7,7,7,7,7,7,7,7,7,7,7,7,7,7,7,7,7,7,7,7,7,7,7,7,7,7,7,7,7,7,7,7,7,7,7,7,7,7,7,7,7,7,7,7,7,7,7,7,7,7,7,7,7,7,7,7,7,7,7,7,7,7,7,7,7,7,7,7,7,7,7,7,7,7,7,7,7,7,7,7,7,7,7,7,7,7,7,7,7,7,7,7,7,7,7,7,7,7,7,7,7,7,7,7,7,7,7,7,7,7,7,7,7,7,7,7,7,7,7,7,7,7,7,7,7,7,7,7,7,7,7,7,7,7,7,7,7,7,7,7,7,7,7,7,7,7,7,7,7,7,7,7,7,7,7,7,7,7,7,7,7,7,7,7,7,7,7,7,7,7,7,7,7,7,7,7,7,7,7,7,7,7,7,7,7,7,7,7,7,7,7,7,7,7,7,7,7,7,7,7,7,7,7,7,7,7,7,7,7,7,7,7,7,7,7,7,7,7,7,7,7,7,7,7,7,7,7,7,7,7,7,7,7,7,7,7,7,7,7,7,7,7,7,7,7,7,7,7,7,7,7,7,7,7,7,7,7,7,7,7,7,7,7,7,7,7,7,7,7,7,7,7,7,7,7,7,7,7,7,7,7,7,7,7,7,7,7,7,7,7,7,7,7,7,7,7,7,7,7,7,7,7,7,7,7,7,7,7,7,7,7,7,7,7,7,7,7,7,7,7,7,7,7,7,7,7,7,7,7,7,7,7,7,7,7,7,7,7,7,7,7,7,7,7,7,7,7,7,7,7,7,7,7,7,7,7,7,7,7,7,7,7,7,7,7,7,7,7,7,7,7,7,7,7,7,7,7,7,7,7,7,7,7,7,7,7,7,7,7,7,7,7,7,7,7,7,7,7,7,7,7,7,7,7,7,7,7,7,7,7,7,7,7,7,7,7,7,7,7,7,7,7,7,7,7,7,7,7,7,7,7,7,7,7,7,7,7,7,7,7,7,7,7,7,7,7,7,7,7,7,7,7,7,7,7,7,7,7,7,7,7,7,7,7,7,7,7,7],\"stat\":{\"__ndarray__\":\"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\",\"dtype\":\"float64\",\"shape\":[2182]},\"transformed_q\":{\"__ndarray__\":\"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\",\"dtype\":\"float64\",\"shape\":[2182]}},\"selected\":{\"id\":\"2172\",\"type\":\"Selection\"},\"selection_policy\":{\"id\":\"2173\",\"type\":\"UnionRenderers\"}},\"id\":\"2073\",\"type\":\"ColumnDataSource\"},{\"attributes\":{\"background_fill_alpha\":{\"value\":0.5},\"background_fill_color\":{\"value\":\"#DFDFE5\"},\"below\":[{\"id\":\"2049\",\"type\":\"LinearAxis\"}],\"center\":[{\"id\":\"2053\",\"type\":\"Grid\"},{\"id\":\"2058\",\"type\":\"Grid\"}],\"left\":[{\"id\":\"2054\",\"type\":\"LinearAxis\"}],\"plot_height\":450,\"plot_width\":650,\"renderers\":[{\"id\":\"2078\",\"type\":\"GlyphRenderer\"},{\"id\":\"2085\",\"type\":\"GlyphRenderer\"},{\"id\":\"2090\",\"type\":\"GlyphRenderer\"}],\"title\":{\"id\":\"2039\",\"type\":\"Title\"},\"toolbar\":{\"id\":\"2065\",\"type\":\"Toolbar\"},\"x_range\":{\"id\":\"2041\",\"type\":\"DataRange1d\"},\"x_scale\":{\"id\":\"2045\",\"type\":\"LinearScale\"},\"y_range\":{\"id\":\"2043\",\"type\":\"DataRange1d\"},\"y_scale\":{\"id\":\"2047\",\"type\":\"LinearScale\"}},\"id\":\"2038\",\"subtype\":\"Figure\",\"type\":\"Plot\"},{\"attributes\":{},\"id\":\"2062\",\"type\":\"SaveTool\"},{\"attributes\":{\"source\":{\"id\":\"2073\",\"type\":\"ColumnDataSource\"}},\"id\":\"2079\",\"type\":\"CDSView\"},{\"attributes\":{\"callback\":null,\"names\":[\"circles\"],\"tooltips\":[[\"gene\",\"@gene_id\"]]},\"id\":\"2037\",\"type\":\"HoverTool\"},{\"attributes\":{\"data_source\":{\"id\":\"2073\",\"type\":\"ColumnDataSource\"},\"glyph\":{\"id\":\"2076\",\"type\":\"Circle\"},\"hover_glyph\":null,\"muted_glyph\":null,\"name\":\"circles\",\"nonselection_glyph\":{\"id\":\"2077\",\"type\":\"Circle\"},\"selection_glyph\":null,\"view\":{\"id\":\"2079\",\"type\":\"CDSView\"}},\"id\":\"2078\",\"type\":\"GlyphRenderer\"},{\"attributes\":{},\"id\":\"2064\",\"type\":\"HelpTool\"},{\"attributes\":{},\"id\":\"2175\",\"type\":\"Selection\"},{\"attributes\":{\"callback\":null},\"id\":\"2043\",\"type\":\"DataRange1d\"},{\"attributes\":{\"callback\":null,\"js_property_callbacks\":{\"change:value\":[{\"id\":\"2093\",\"type\":\"CustomJS\"}]},\"title\":\"text\",\"value\":\"gene\"},\"id\":\"2092\",\"type\":\"TextInput\"},{\"attributes\":{},\"id\":\"2045\",\"type\":\"LinearScale\"},{\"attributes\":{\"fill_color\":{\"value\":null},\"size\":{\"units\":\"screen\",\"value\":7},\"x\":{\"field\":\"log2FoldChange\"},\"y\":{\"field\":\"transformed_q\"}},\"id\":\"2088\",\"type\":\"Circle\"},{\"attributes\":{\"source\":{\"id\":\"2081\",\"type\":\"ColumnDataSource\"}},\"id\":\"2091\",\"type\":\"CDSView\"},{\"attributes\":{\"active_drag\":\"auto\",\"active_inspect\":\"auto\",\"active_multi\":null,\"active_scroll\":\"auto\",\"active_tap\":\"auto\",\"tools\":[{\"id\":\"2059\",\"type\":\"PanTool\"},{\"id\":\"2060\",\"type\":\"WheelZoomTool\"},{\"id\":\"2061\",\"type\":\"BoxZoomTool\"},{\"id\":\"2062\",\"type\":\"SaveTool\"},{\"id\":\"2063\",\"type\":\"ResetTool\"},{\"id\":\"2064\",\"type\":\"HelpTool\"},{\"id\":\"2037\",\"type\":\"HoverTool\"}]},\"id\":\"2065\",\"type\":\"Toolbar\"},{\"attributes\":{},\"id\":\"2169\",\"type\":\"BasicTickFormatter\"}],\"root_ids\":[\"2094\"]},\"title\":\"Bokeh Application\",\"version\":\"1.4.0\"}};\n",
       "  var render_items = [{\"docid\":\"47df7a69-300f-4f94-ace9-4d834accf2ca\",\"roots\":{\"2094\":\"06bb12e1-7a0c-47e7-92d3-178e336e4973\"}}];\n",
       "  root.Bokeh.embed.embed_items_notebook(docs_json, render_items);\n",
       "\n",
       "  }\n",
       "  if (root.Bokeh !== undefined) {\n",
       "    embed_document(root);\n",
       "  } else {\n",
       "    var attempts = 0;\n",
       "    var timer = setInterval(function(root) {\n",
       "      if (root.Bokeh !== undefined) {\n",
       "        clearInterval(timer);\n",
       "        embed_document(root);\n",
       "      } else {\n",
       "        attempts++;\n",
       "        if (attempts > 100) {\n",
       "          clearInterval(timer);\n",
       "          console.log(\"Bokeh: ERROR: Unable to run BokehJS code because BokehJS library is missing\");\n",
       "        }\n",
       "      }\n",
       "    }, 10, root)\n",
       "  }\n",
       "})(window);"
      ],
      "application/vnd.bokehjs_exec.v0+json": ""
     },
     "metadata": {
      "application/vnd.bokehjs_exec.v0+json": {
       "id": "2094"
      }
     },
     "output_type": "display_data"
    }
   ],
   "source": [
    "show(h.volcano(JQ1res,tohighlight=ctf, searchbox=True))"
   ]
  },
  {
   "cell_type": "markdown",
   "metadata": {},
   "source": [
    "we can conclude that we get similar results to the slamseq myc paper although it seems that our values are a bit skewed toward higher expression than what is on the slamseq paper. It mightt be explained by the pseudo count of 1 that I did not set. Because I think it would highly bias the DESeq algorithm."
   ]
  },
  {
   "cell_type": "code",
   "execution_count": null,
   "metadata": {},
   "outputs": [],
   "source": []
  }
 ],
 "metadata": {
  "kernelspec": {
   "display_name": "Python 3",
   "language": "python",
   "name": "python3"
  },
  "language_info": {
   "codemirror_mode": {
    "name": "ipython",
    "version": 3
   },
   "file_extension": ".py",
   "mimetype": "text/x-python",
   "name": "python",
   "nbconvert_exporter": "python",
   "pygments_lexer": "ipython3",
   "version": "3.7.6"
  },
  "latex_envs": {
   "LaTeX_envs_menu_present": true,
   "autoclose": false,
   "autocomplete": true,
   "bibliofile": "biblio.bib",
   "cite_by": "apalike",
   "current_citInitial": 1,
   "eqLabelWithNumbers": true,
   "eqNumInitial": 1,
   "hotkeys": {
    "equation": "Ctrl-E",
    "itemize": "Ctrl-I"
   },
   "labels_anchors": false,
   "latex_user_defs": false,
   "report_style_numbering": false,
   "user_envs_cfg": false
  },
  "toc": {
   "base_numbering": 1,
   "nav_menu": {},
   "number_sections": false,
   "sideBar": false,
   "skip_h1_title": false,
   "title_cell": "Table of Contents",
   "title_sidebar": "Contents",
   "toc_cell": false,
   "toc_position": {},
   "toc_section_display": false,
   "toc_window_display": false
  },
  "varInspector": {
   "cols": {
    "lenName": 16,
    "lenType": 16,
    "lenVar": 40
   },
   "kernels_config": {
    "python": {
     "delete_cmd_postfix": "",
     "delete_cmd_prefix": "del ",
     "library": "var_list.py",
     "varRefreshCmd": "print(var_dic_list())"
    },
    "r": {
     "delete_cmd_postfix": ") ",
     "delete_cmd_prefix": "rm(",
     "library": "var_list.r",
     "varRefreshCmd": "cat(var_dic_list()) "
    }
   },
   "types_to_exclude": [
    "module",
    "function",
    "builtin_function_or_method",
    "instance",
    "_Feature"
   ],
   "window_display": false
  }
 },
 "nbformat": 4,
 "nbformat_minor": 2
}
