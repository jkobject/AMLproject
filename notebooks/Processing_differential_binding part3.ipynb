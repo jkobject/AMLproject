{
 "cells": [
  {
   "cell_type": "code",
   "execution_count": 36,
   "metadata": {},
   "outputs": [
    {
     "data": {
      "text/html": [
       "\n",
       "    <div class=\"bk-root\">\n",
       "        <a href=\"https://bokeh.org\" target=\"_blank\" class=\"bk-logo bk-logo-small bk-logo-notebook\"></a>\n",
       "        <span id=\"1003\">Loading BokehJS ...</span>\n",
       "    </div>"
      ]
     },
     "metadata": {},
     "output_type": "display_data"
    },
    {
     "data": {
      "application/javascript": [
       "\n",
       "(function(root) {\n",
       "  function now() {\n",
       "    return new Date();\n",
       "  }\n",
       "\n",
       "  var force = true;\n",
       "\n",
       "  if (typeof root._bokeh_onload_callbacks === \"undefined\" || force === true) {\n",
       "    root._bokeh_onload_callbacks = [];\n",
       "    root._bokeh_is_loading = undefined;\n",
       "  }\n",
       "\n",
       "  var JS_MIME_TYPE = 'application/javascript';\n",
       "  var HTML_MIME_TYPE = 'text/html';\n",
       "  var EXEC_MIME_TYPE = 'application/vnd.bokehjs_exec.v0+json';\n",
       "  var CLASS_NAME = 'output_bokeh rendered_html';\n",
       "\n",
       "  /**\n",
       "   * Render data to the DOM node\n",
       "   */\n",
       "  function render(props, node) {\n",
       "    var script = document.createElement(\"script\");\n",
       "    node.appendChild(script);\n",
       "  }\n",
       "\n",
       "  /**\n",
       "   * Handle when an output is cleared or removed\n",
       "   */\n",
       "  function handleClearOutput(event, handle) {\n",
       "    var cell = handle.cell;\n",
       "\n",
       "    var id = cell.output_area._bokeh_element_id;\n",
       "    var server_id = cell.output_area._bokeh_server_id;\n",
       "    // Clean up Bokeh references\n",
       "    if (id != null && id in Bokeh.index) {\n",
       "      Bokeh.index[id].model.document.clear();\n",
       "      delete Bokeh.index[id];\n",
       "    }\n",
       "\n",
       "    if (server_id !== undefined) {\n",
       "      // Clean up Bokeh references\n",
       "      var cmd = \"from bokeh.io.state import curstate; print(curstate().uuid_to_server['\" + server_id + \"'].get_sessions()[0].document.roots[0]._id)\";\n",
       "      cell.notebook.kernel.execute(cmd, {\n",
       "        iopub: {\n",
       "          output: function(msg) {\n",
       "            var id = msg.content.text.trim();\n",
       "            if (id in Bokeh.index) {\n",
       "              Bokeh.index[id].model.document.clear();\n",
       "              delete Bokeh.index[id];\n",
       "            }\n",
       "          }\n",
       "        }\n",
       "      });\n",
       "      // Destroy server and session\n",
       "      var cmd = \"import bokeh.io.notebook as ion; ion.destroy_server('\" + server_id + \"')\";\n",
       "      cell.notebook.kernel.execute(cmd);\n",
       "    }\n",
       "  }\n",
       "\n",
       "  /**\n",
       "   * Handle when a new output is added\n",
       "   */\n",
       "  function handleAddOutput(event, handle) {\n",
       "    var output_area = handle.output_area;\n",
       "    var output = handle.output;\n",
       "\n",
       "    // limit handleAddOutput to display_data with EXEC_MIME_TYPE content only\n",
       "    if ((output.output_type != \"display_data\") || (!output.data.hasOwnProperty(EXEC_MIME_TYPE))) {\n",
       "      return\n",
       "    }\n",
       "\n",
       "    var toinsert = output_area.element.find(\".\" + CLASS_NAME.split(' ')[0]);\n",
       "\n",
       "    if (output.metadata[EXEC_MIME_TYPE][\"id\"] !== undefined) {\n",
       "      toinsert[toinsert.length - 1].firstChild.textContent = output.data[JS_MIME_TYPE];\n",
       "      // store reference to embed id on output_area\n",
       "      output_area._bokeh_element_id = output.metadata[EXEC_MIME_TYPE][\"id\"];\n",
       "    }\n",
       "    if (output.metadata[EXEC_MIME_TYPE][\"server_id\"] !== undefined) {\n",
       "      var bk_div = document.createElement(\"div\");\n",
       "      bk_div.innerHTML = output.data[HTML_MIME_TYPE];\n",
       "      var script_attrs = bk_div.children[0].attributes;\n",
       "      for (var i = 0; i < script_attrs.length; i++) {\n",
       "        toinsert[toinsert.length - 1].firstChild.setAttribute(script_attrs[i].name, script_attrs[i].value);\n",
       "        toinsert[toinsert.length - 1].firstChild.textContent = bk_div.children[0].textContent\n",
       "      }\n",
       "      // store reference to server id on output_area\n",
       "      output_area._bokeh_server_id = output.metadata[EXEC_MIME_TYPE][\"server_id\"];\n",
       "    }\n",
       "  }\n",
       "\n",
       "  function register_renderer(events, OutputArea) {\n",
       "\n",
       "    function append_mime(data, metadata, element) {\n",
       "      // create a DOM node to render to\n",
       "      var toinsert = this.create_output_subarea(\n",
       "        metadata,\n",
       "        CLASS_NAME,\n",
       "        EXEC_MIME_TYPE\n",
       "      );\n",
       "      this.keyboard_manager.register_events(toinsert);\n",
       "      // Render to node\n",
       "      var props = {data: data, metadata: metadata[EXEC_MIME_TYPE]};\n",
       "      render(props, toinsert[toinsert.length - 1]);\n",
       "      element.append(toinsert);\n",
       "      return toinsert\n",
       "    }\n",
       "\n",
       "    /* Handle when an output is cleared or removed */\n",
       "    events.on('clear_output.CodeCell', handleClearOutput);\n",
       "    events.on('delete.Cell', handleClearOutput);\n",
       "\n",
       "    /* Handle when a new output is added */\n",
       "    events.on('output_added.OutputArea', handleAddOutput);\n",
       "\n",
       "    /**\n",
       "     * Register the mime type and append_mime function with output_area\n",
       "     */\n",
       "    OutputArea.prototype.register_mime_type(EXEC_MIME_TYPE, append_mime, {\n",
       "      /* Is output safe? */\n",
       "      safe: true,\n",
       "      /* Index of renderer in `output_area.display_order` */\n",
       "      index: 0\n",
       "    });\n",
       "  }\n",
       "\n",
       "  // register the mime type if in Jupyter Notebook environment and previously unregistered\n",
       "  if (root.Jupyter !== undefined) {\n",
       "    var events = require('base/js/events');\n",
       "    var OutputArea = require('notebook/js/outputarea').OutputArea;\n",
       "\n",
       "    if (OutputArea.prototype.mime_types().indexOf(EXEC_MIME_TYPE) == -1) {\n",
       "      register_renderer(events, OutputArea);\n",
       "    }\n",
       "  }\n",
       "\n",
       "  \n",
       "  if (typeof (root._bokeh_timeout) === \"undefined\" || force === true) {\n",
       "    root._bokeh_timeout = Date.now() + 5000;\n",
       "    root._bokeh_failed_load = false;\n",
       "  }\n",
       "\n",
       "  var NB_LOAD_WARNING = {'data': {'text/html':\n",
       "     \"<div style='background-color: #fdd'>\\n\"+\n",
       "     \"<p>\\n\"+\n",
       "     \"BokehJS does not appear to have successfully loaded. If loading BokehJS from CDN, this \\n\"+\n",
       "     \"may be due to a slow or bad network connection. Possible fixes:\\n\"+\n",
       "     \"</p>\\n\"+\n",
       "     \"<ul>\\n\"+\n",
       "     \"<li>re-rerun `output_notebook()` to attempt to load from CDN again, or</li>\\n\"+\n",
       "     \"<li>use INLINE resources instead, as so:</li>\\n\"+\n",
       "     \"</ul>\\n\"+\n",
       "     \"<code>\\n\"+\n",
       "     \"from bokeh.resources import INLINE\\n\"+\n",
       "     \"output_notebook(resources=INLINE)\\n\"+\n",
       "     \"</code>\\n\"+\n",
       "     \"</div>\"}};\n",
       "\n",
       "  function display_loaded() {\n",
       "    var el = document.getElementById(\"1003\");\n",
       "    if (el != null) {\n",
       "      el.textContent = \"BokehJS is loading...\";\n",
       "    }\n",
       "    if (root.Bokeh !== undefined) {\n",
       "      if (el != null) {\n",
       "        el.textContent = \"BokehJS \" + root.Bokeh.version + \" successfully loaded.\";\n",
       "      }\n",
       "    } else if (Date.now() < root._bokeh_timeout) {\n",
       "      setTimeout(display_loaded, 100)\n",
       "    }\n",
       "  }\n",
       "\n",
       "\n",
       "  function run_callbacks() {\n",
       "    try {\n",
       "      root._bokeh_onload_callbacks.forEach(function(callback) {\n",
       "        if (callback != null)\n",
       "          callback();\n",
       "      });\n",
       "    } finally {\n",
       "      delete root._bokeh_onload_callbacks\n",
       "    }\n",
       "    console.debug(\"Bokeh: all callbacks have finished\");\n",
       "  }\n",
       "\n",
       "  function load_libs(css_urls, js_urls, callback) {\n",
       "    if (css_urls == null) css_urls = [];\n",
       "    if (js_urls == null) js_urls = [];\n",
       "\n",
       "    root._bokeh_onload_callbacks.push(callback);\n",
       "    if (root._bokeh_is_loading > 0) {\n",
       "      console.debug(\"Bokeh: BokehJS is being loaded, scheduling callback at\", now());\n",
       "      return null;\n",
       "    }\n",
       "    if (js_urls == null || js_urls.length === 0) {\n",
       "      run_callbacks();\n",
       "      return null;\n",
       "    }\n",
       "    console.debug(\"Bokeh: BokehJS not loaded, scheduling load and callback at\", now());\n",
       "    root._bokeh_is_loading = css_urls.length + js_urls.length;\n",
       "\n",
       "    function on_load() {\n",
       "      root._bokeh_is_loading--;\n",
       "      if (root._bokeh_is_loading === 0) {\n",
       "        console.debug(\"Bokeh: all BokehJS libraries/stylesheets loaded\");\n",
       "        run_callbacks()\n",
       "      }\n",
       "    }\n",
       "\n",
       "    function on_error() {\n",
       "      console.error(\"failed to load \" + url);\n",
       "    }\n",
       "\n",
       "    for (var i = 0; i < css_urls.length; i++) {\n",
       "      var url = css_urls[i];\n",
       "      const element = document.createElement(\"link\");\n",
       "      element.onload = on_load;\n",
       "      element.onerror = on_error;\n",
       "      element.rel = \"stylesheet\";\n",
       "      element.type = \"text/css\";\n",
       "      element.href = url;\n",
       "      console.debug(\"Bokeh: injecting link tag for BokehJS stylesheet: \", url);\n",
       "      document.body.appendChild(element);\n",
       "    }\n",
       "\n",
       "    const hashes = {\"https://cdn.bokeh.org/bokeh/release/bokeh-2.0.2.min.js\": \"ufR9RFnRs6lniiaFvtJziE0YeidtAgBRH6ux2oUItHw5WTvE1zuk9uzhUU/FJXDp\", \"https://cdn.bokeh.org/bokeh/release/bokeh-widgets-2.0.2.min.js\": \"8QM/PGWBT+IssZuRcDcjzwIh1mkOmJSoNMmyYDZbCfXJg3Ap1lEvdVgFuSAwhb/J\", \"https://cdn.bokeh.org/bokeh/release/bokeh-tables-2.0.2.min.js\": \"Jm8cH3Rg0P6UeZhVY5cLy1WzKajUT9KImCY+76hEqrcJt59/d8GPvFHjCkYgnSIn\", \"https://cdn.bokeh.org/bokeh/release/bokeh-gl-2.0.2.min.js\": \"Ozhzj+SI7ywm74aOI/UajcWz+C0NjsPunEVyVIrxzYkB+jA+2tUw8x5xJCbVtK5I\"};\n",
       "\n",
       "    for (var i = 0; i < js_urls.length; i++) {\n",
       "      var url = js_urls[i];\n",
       "      var element = document.createElement('script');\n",
       "      element.onload = on_load;\n",
       "      element.onerror = on_error;\n",
       "      element.async = false;\n",
       "      element.src = url;\n",
       "      if (url in hashes) {\n",
       "        element.crossOrigin = \"anonymous\";\n",
       "        element.integrity = \"sha384-\" + hashes[url];\n",
       "      }\n",
       "      console.debug(\"Bokeh: injecting script tag for BokehJS library: \", url);\n",
       "      document.head.appendChild(element);\n",
       "    }\n",
       "  };\n",
       "\n",
       "  function inject_raw_css(css) {\n",
       "    const element = document.createElement(\"style\");\n",
       "    element.appendChild(document.createTextNode(css));\n",
       "    document.body.appendChild(element);\n",
       "  }\n",
       "\n",
       "  \n",
       "  var js_urls = [\"https://cdn.bokeh.org/bokeh/release/bokeh-2.0.2.min.js\", \"https://cdn.bokeh.org/bokeh/release/bokeh-widgets-2.0.2.min.js\", \"https://cdn.bokeh.org/bokeh/release/bokeh-tables-2.0.2.min.js\", \"https://cdn.bokeh.org/bokeh/release/bokeh-gl-2.0.2.min.js\"];\n",
       "  var css_urls = [];\n",
       "  \n",
       "\n",
       "  var inline_js = [\n",
       "    function(Bokeh) {\n",
       "      Bokeh.set_log_level(\"info\");\n",
       "    },\n",
       "    function(Bokeh) {\n",
       "    \n",
       "    \n",
       "    }\n",
       "  ];\n",
       "\n",
       "  function run_inline_js() {\n",
       "    \n",
       "    if (root.Bokeh !== undefined || force === true) {\n",
       "      \n",
       "    for (var i = 0; i < inline_js.length; i++) {\n",
       "      inline_js[i].call(root, root.Bokeh);\n",
       "    }\n",
       "    if (force === true) {\n",
       "        display_loaded();\n",
       "      }} else if (Date.now() < root._bokeh_timeout) {\n",
       "      setTimeout(run_inline_js, 100);\n",
       "    } else if (!root._bokeh_failed_load) {\n",
       "      console.log(\"Bokeh: BokehJS failed to load within specified timeout.\");\n",
       "      root._bokeh_failed_load = true;\n",
       "    } else if (force !== true) {\n",
       "      var cell = $(document.getElementById(\"1003\")).parents('.cell').data().cell;\n",
       "      cell.output_area.append_execute_result(NB_LOAD_WARNING)\n",
       "    }\n",
       "\n",
       "  }\n",
       "\n",
       "  if (root._bokeh_is_loading === 0) {\n",
       "    console.debug(\"Bokeh: BokehJS loaded, going straight to plotting\");\n",
       "    run_inline_js();\n",
       "  } else {\n",
       "    load_libs(css_urls, js_urls, function() {\n",
       "      console.debug(\"Bokeh: BokehJS plotting callback run at\", now());\n",
       "      run_inline_js();\n",
       "    });\n",
       "  }\n",
       "}(window));"
      ],
      "application/vnd.bokehjs_load.v0+json": "\n(function(root) {\n  function now() {\n    return new Date();\n  }\n\n  var force = true;\n\n  if (typeof root._bokeh_onload_callbacks === \"undefined\" || force === true) {\n    root._bokeh_onload_callbacks = [];\n    root._bokeh_is_loading = undefined;\n  }\n\n  \n\n  \n  if (typeof (root._bokeh_timeout) === \"undefined\" || force === true) {\n    root._bokeh_timeout = Date.now() + 5000;\n    root._bokeh_failed_load = false;\n  }\n\n  var NB_LOAD_WARNING = {'data': {'text/html':\n     \"<div style='background-color: #fdd'>\\n\"+\n     \"<p>\\n\"+\n     \"BokehJS does not appear to have successfully loaded. If loading BokehJS from CDN, this \\n\"+\n     \"may be due to a slow or bad network connection. Possible fixes:\\n\"+\n     \"</p>\\n\"+\n     \"<ul>\\n\"+\n     \"<li>re-rerun `output_notebook()` to attempt to load from CDN again, or</li>\\n\"+\n     \"<li>use INLINE resources instead, as so:</li>\\n\"+\n     \"</ul>\\n\"+\n     \"<code>\\n\"+\n     \"from bokeh.resources import INLINE\\n\"+\n     \"output_notebook(resources=INLINE)\\n\"+\n     \"</code>\\n\"+\n     \"</div>\"}};\n\n  function display_loaded() {\n    var el = document.getElementById(\"1003\");\n    if (el != null) {\n      el.textContent = \"BokehJS is loading...\";\n    }\n    if (root.Bokeh !== undefined) {\n      if (el != null) {\n        el.textContent = \"BokehJS \" + root.Bokeh.version + \" successfully loaded.\";\n      }\n    } else if (Date.now() < root._bokeh_timeout) {\n      setTimeout(display_loaded, 100)\n    }\n  }\n\n\n  function run_callbacks() {\n    try {\n      root._bokeh_onload_callbacks.forEach(function(callback) {\n        if (callback != null)\n          callback();\n      });\n    } finally {\n      delete root._bokeh_onload_callbacks\n    }\n    console.debug(\"Bokeh: all callbacks have finished\");\n  }\n\n  function load_libs(css_urls, js_urls, callback) {\n    if (css_urls == null) css_urls = [];\n    if (js_urls == null) js_urls = [];\n\n    root._bokeh_onload_callbacks.push(callback);\n    if (root._bokeh_is_loading > 0) {\n      console.debug(\"Bokeh: BokehJS is being loaded, scheduling callback at\", now());\n      return null;\n    }\n    if (js_urls == null || js_urls.length === 0) {\n      run_callbacks();\n      return null;\n    }\n    console.debug(\"Bokeh: BokehJS not loaded, scheduling load and callback at\", now());\n    root._bokeh_is_loading = css_urls.length + js_urls.length;\n\n    function on_load() {\n      root._bokeh_is_loading--;\n      if (root._bokeh_is_loading === 0) {\n        console.debug(\"Bokeh: all BokehJS libraries/stylesheets loaded\");\n        run_callbacks()\n      }\n    }\n\n    function on_error() {\n      console.error(\"failed to load \" + url);\n    }\n\n    for (var i = 0; i < css_urls.length; i++) {\n      var url = css_urls[i];\n      const element = document.createElement(\"link\");\n      element.onload = on_load;\n      element.onerror = on_error;\n      element.rel = \"stylesheet\";\n      element.type = \"text/css\";\n      element.href = url;\n      console.debug(\"Bokeh: injecting link tag for BokehJS stylesheet: \", url);\n      document.body.appendChild(element);\n    }\n\n    const hashes = {\"https://cdn.bokeh.org/bokeh/release/bokeh-2.0.2.min.js\": \"ufR9RFnRs6lniiaFvtJziE0YeidtAgBRH6ux2oUItHw5WTvE1zuk9uzhUU/FJXDp\", \"https://cdn.bokeh.org/bokeh/release/bokeh-widgets-2.0.2.min.js\": \"8QM/PGWBT+IssZuRcDcjzwIh1mkOmJSoNMmyYDZbCfXJg3Ap1lEvdVgFuSAwhb/J\", \"https://cdn.bokeh.org/bokeh/release/bokeh-tables-2.0.2.min.js\": \"Jm8cH3Rg0P6UeZhVY5cLy1WzKajUT9KImCY+76hEqrcJt59/d8GPvFHjCkYgnSIn\", \"https://cdn.bokeh.org/bokeh/release/bokeh-gl-2.0.2.min.js\": \"Ozhzj+SI7ywm74aOI/UajcWz+C0NjsPunEVyVIrxzYkB+jA+2tUw8x5xJCbVtK5I\"};\n\n    for (var i = 0; i < js_urls.length; i++) {\n      var url = js_urls[i];\n      var element = document.createElement('script');\n      element.onload = on_load;\n      element.onerror = on_error;\n      element.async = false;\n      element.src = url;\n      if (url in hashes) {\n        element.crossOrigin = \"anonymous\";\n        element.integrity = \"sha384-\" + hashes[url];\n      }\n      console.debug(\"Bokeh: injecting script tag for BokehJS library: \", url);\n      document.head.appendChild(element);\n    }\n  };\n\n  function inject_raw_css(css) {\n    const element = document.createElement(\"style\");\n    element.appendChild(document.createTextNode(css));\n    document.body.appendChild(element);\n  }\n\n  \n  var js_urls = [\"https://cdn.bokeh.org/bokeh/release/bokeh-2.0.2.min.js\", \"https://cdn.bokeh.org/bokeh/release/bokeh-widgets-2.0.2.min.js\", \"https://cdn.bokeh.org/bokeh/release/bokeh-tables-2.0.2.min.js\", \"https://cdn.bokeh.org/bokeh/release/bokeh-gl-2.0.2.min.js\"];\n  var css_urls = [];\n  \n\n  var inline_js = [\n    function(Bokeh) {\n      Bokeh.set_log_level(\"info\");\n    },\n    function(Bokeh) {\n    \n    \n    }\n  ];\n\n  function run_inline_js() {\n    \n    if (root.Bokeh !== undefined || force === true) {\n      \n    for (var i = 0; i < inline_js.length; i++) {\n      inline_js[i].call(root, root.Bokeh);\n    }\n    if (force === true) {\n        display_loaded();\n      }} else if (Date.now() < root._bokeh_timeout) {\n      setTimeout(run_inline_js, 100);\n    } else if (!root._bokeh_failed_load) {\n      console.log(\"Bokeh: BokehJS failed to load within specified timeout.\");\n      root._bokeh_failed_load = true;\n    } else if (force !== true) {\n      var cell = $(document.getElementById(\"1003\")).parents('.cell').data().cell;\n      cell.output_area.append_execute_result(NB_LOAD_WARNING)\n    }\n\n  }\n\n  if (root._bokeh_is_loading === 0) {\n    console.debug(\"Bokeh: BokehJS loaded, going straight to plotting\");\n    run_inline_js();\n  } else {\n    load_libs(css_urls, js_urls, function() {\n      console.debug(\"Bokeh: BokehJS plotting callback run at\", now());\n      run_inline_js();\n    });\n  }\n}(window));"
     },
     "metadata": {},
     "output_type": "display_data"
    },
    {
     "name": "stdout",
     "output_type": "stream",
     "text": [
      "The autoreload extension is already loaded. To reload it, use:\n",
      "  %reload_ext autoreload\n"
     ]
    }
   ],
   "source": [
    "import os\n",
    "import pandas as pd\n",
    "import sys\n",
    "import numpy as np\n",
    "import sys\n",
    "sys.path.insert(0, '../..')\n",
    "import itertools\n",
    "\n",
    "from genepy.utils import helper as h\n",
    "from genepy.epigenetics import chipseq as chip\n",
    "\n",
    "import dalmatian as dm\n",
    "import pyBigWig\n",
    "\n",
    "from bokeh.plotting import *\n",
    "from IPython.display import IFrame\n",
    "import igv\n",
    "from biomart import BiomartServer\n",
    "import io\n",
    "\n",
    "from sklearn.manifold import MDS, TSNE\n",
    "from sklearn.decomposition import PCA\n",
    "from sklearn.preprocessing import scale\n",
    "from sklearn.cluster import AgglomerativeClustering\n",
    "from sklearn.mixture import GaussianMixture\n",
    "\n",
    "output_notebook()\n",
    "%load_ext autoreload\n",
    "%autoreload 2"
   ]
  },
  {
   "cell_type": "code",
   "execution_count": null,
   "metadata": {},
   "outputs": [],
   "source": [
    "from gsheets import Sheets\n",
    "sheets = Sheets.from_files('~/.client_secret.json', '~/.storage.json')\n",
    "url=\"https://docs.google.com/spreadsheets/d/1yFLjYB1McU530JnLgL0QIMAKIkVl3kl0_LCHje2gk8U\"\n",
    "gsheet = sheets.get(url).sheets[2].to_frame()"
   ]
  },
  {
   "cell_type": "code",
   "execution_count": null,
   "metadata": {},
   "outputs": [],
   "source": [
    "gsheet"
   ]
  },
  {
   "cell_type": "markdown",
   "metadata": {},
   "source": [
    "## v10"
   ]
  },
  {
   "cell_type": "code",
   "execution_count": 37,
   "metadata": {},
   "outputs": [],
   "source": [
    "project=\"MEF2CMEF2D_knockout_v1\"\n",
    "loc1= \"201222_MP8548_fastq\"\n",
    "loc2= \"201204_MP8489_fastq\""
   ]
  },
  {
   "cell_type": "code",
   "execution_count": null,
   "metadata": {},
   "outputs": [],
   "source": [
    "fastq2 = ! gsutil ls gs://transfer-amlproject/$loc2/\n",
    "fastq2"
   ]
  },
  {
   "cell_type": "code",
   "execution_count": null,
   "metadata": {
    "scrolled": true
   },
   "outputs": [],
   "source": [
    "fastq1 = ! gsutil ls gs://transfer-amlproject/$loc1/\n",
    "fastq1"
   ]
  },
  {
   "cell_type": "code",
   "execution_count": null,
   "metadata": {},
   "outputs": [],
   "source": [
    "mkdir ../data/$project/ && mkdir ../data/$project/qc/"
   ]
  },
  {
   "cell_type": "code",
   "execution_count": null,
   "metadata": {
    "scrolled": true
   },
   "outputs": [],
   "source": [
    "!gsutil -m cp gs://transfer-amlproject/$loc1/multiqc_report.html ../data/$project/qc/\n",
    "!gsutil -m cp -r gs://transfer-amlproject/$loc1/Reports/ ../data/$project/qc/\n",
    "!gsutil -m cp -r gs://transfer-amlproject/$loc1/multiqc_data/ ../data/$project/qc/\n",
    "    \n",
    "!gsutil -m cp gs://transfer-amlproject/$loc2/multiqc_report.html ../data/$project/qc2/\n",
    "!gsutil -m cp -r gs://transfer-amlproject/$loc2/Reports/ ../data/$project/qc2/\n",
    "!gsutil -m cp -r gs://transfer-amlproject/$loc2/multiqc_data/ ../data/$project/qc2/"
   ]
  },
  {
   "cell_type": "code",
   "execution_count": null,
   "metadata": {
    "scrolled": true
   },
   "outputs": [],
   "source": [
    "! gsutil -m cp gs://transfer-amlproject/$loc1/*  gs://transfer-amlproject/$project/\n",
    "! gsutil -m cp gs://transfer-amlproject/$loc2/*  gs://transfer-amlproject/$project/"
   ]
  },
  {
   "cell_type": "markdown",
   "metadata": {},
   "source": [
    "### analysis"
   ]
  },
  {
   "cell_type": "code",
   "execution_count": null,
   "metadata": {},
   "outputs": [],
   "source": [
    "rename = {\n",
    "\"20201222_FLAG_DMSO_2h_MP8548_S1\": \"mp931-MV411_MEF2D_NT_SC_63_DMSO-FLAG_MEF2D-r5\",\n",
    "\"20201222_FLAG_VHL_2h_MP8548_S6\": \"mp932-MV411_MEF2D_NT_SC_63_VHL_2h-FLAG_MEF2D-r5\",\n",
    "\"20201222_MED1_DMSO_2h_MP8548_S3\": \"mp933-MV411_MEF2D_NT_SC_63_DMSO-MED1-r3\",\n",
    "\"20201222_MED1_VHL_2h_MP8548_S8\": \"mp934-MV411_MEF2D_NT_SC_63_VHL_2h-MED1-r3\",\n",
    "\"20201222_MEF2C_DMSO_2h_MP8548_S5\": \"mp935-MV411_MEF2D_NT_SC_63_DMSO-MEF2C-r3\",\n",
    "\"20201222_MEF2C_VHL_2h_MP8548_S10\": \"mp936-MV411_MEF2D_NT_SC_63_VHL_2h-MEF2C-r3\",\n",
    "\"20201222_MYC_DMSO_2h_MP8548_S2\": \"mp937-MV411_MEF2D_NT_SC_63_DMSO-MYC-r3\",\n",
    "\"20201222_MYC_VHL_2h_MP8548_S7\": \"mp938-MV411_MEF2D_NT_SC_63_VHL_2h-MYC-r3\",\n",
    "\"20201222_POL_II_DMSO_2h_MP8548_S4\": \"mp939-MV411_MEF2D_NT_SC_63_DMSO-POLII_total-r3\",\n",
    "\"20201222_POL_II_VHL_2h_MP8548_S9\": \"mp940-MV411_MEF2D_NT_SC_63_VHL_2h-POLII_total-r3\",\n",
    "\"20201204_DMSO_FLAG_MEF2D_degron_2h_MP8489_S47\": \"mp941-MV411_MEF2D_NT_SC_63_DMSO-FLAG_MEF2D-r6\",\n",
    "\"20201204_DMSO_MED1_MEF2D_degron_2h_MP8489_S49\": \"mp942-MV411_MEF2D_NT_SC_63_DMSO-MED1-r4\",\n",
    "\"20201204_DMSO_MEF2C_MEF2D_degron_2h_MP8489_S51\": \"mp943-MV411_MEF2D_NT_SC_63_DMSO-MEF2C-r4\",\n",
    "\"20201204_DMSO_MYC_MEF2D_degron_2h_MP8489_S48\": \"mp944-MV411_MEF2D_NT_SC_63_DMSO-MYC-r4\",\n",
    "\"20201204_DMSO_POL_II_MEF2D_degron_2h_MP8489_S50\": \"mp945-MV411_MEF2D_NT_SC_63_DMSO-POLII_total-r4\",\n",
    "\"20201204_VHL_FLAG_MEF2D_degron_2h_MP8489_S52\": \"mp946-MV411_MEF2D_NT_SC_63_VHL_2h-FLAG_MEF2D-r6\",\n",
    "\"20201204_VHL_MED1_MEF2D_degron_2h_1_MP8489_S54\": \"mp947-MV411_MEF2D_NT_SC_63_VHL_2h-MED1-r4\",\n",
    "\"20201204_VHL_MED1_MEF2D_degron_2h_2_MP8489_S56\": \"mp948-MV411_MEF2D_NT_SC_63_VHL_2h-MEF2C-r4\",\n",
    "\"20201204_VHL_MYC_MEF2D_degron_2h_MP8489_S53\": \"mp949-MV411_MEF2D_NT_SC_63_VHL_2h-MYC-r4\",\n",
    "\"20201204_VHL_POL_II_MEF2D_degron_2h_MP8489_S55\": \"mp950-MV411_MEF2D_NT_SC_63_VHL_2h-POLII_total-r4\",}"
   ]
  },
  {
   "cell_type": "code",
   "execution_count": null,
   "metadata": {
    "scrolled": true
   },
   "outputs": [],
   "source": [
    "for val in fastq1+fastq2:\n",
    "    rep = val\n",
    "    for k,v in rename.items():\n",
    "        rep = rep.replace(k,v)\n",
    "    rep = rep.replace('transfer-amlproject/'+loc1+'/',\"amlproject/Chip/\"+project+'/fastqs/').replace('transfer-amlproject/' + loc2 + '/', \"amlproject/Chip/\"+project+'/fastqs/')\n",
    "    !gsutil cp $val $rep"
   ]
  },
  {
   "cell_type": "code",
   "execution_count": null,
   "metadata": {
    "scrolled": true
   },
   "outputs": [],
   "source": [
    "! gsutil rm gs://amlproject/Chip/chipseq_MEF2C_2h_degraded/fastqs/multiqc_report.html"
   ]
  },
  {
   "cell_type": "code",
   "execution_count": null,
   "metadata": {
    "scrolled": true
   },
   "outputs": [],
   "source": [
    "fastq = ! gsutil ls gs://amlproject/Chip/$project/fastqs/\n",
    "fastq"
   ]
  },
  {
   "cell_type": "code",
   "execution_count": null,
   "metadata": {},
   "outputs": [],
   "source": [
    "df = {\n",
    "\"fastq_1\": [],\n",
    "\"fastq_2\": [],\n",
    "\"antibody\": [],\n",
    "\"group\": [],\n",
    "\"replicate\": [],\n",
    "\"control\": []\n",
    "}\n",
    "for val in h.grouped(fastq,2):\n",
    "    row = gsheet[gsheet.id==val[0].split('/')[-1].split('-')[0]]\n",
    "    df['group'].append(\"MV4\"+row['name'].values[0].split('-r')[0].split('-MV4')[1])\n",
    "    df['replicate'].append(df['group'].count(df['group'][-1]))\n",
    "    df['fastq_1'].append(val[0])\n",
    "    df['fastq_2'].append(val[1])\n",
    "    df['antibody'].append(row['protein'].values[0])\n",
    "    df['control'].append(\"INPUT\")\n",
    "df['group'].append('INPUT')\n",
    "df['replicate'].append(1)\n",
    "df['fastq_1'].append('gs://amlproject/Chip/IRF2BP2_degraded_rep3/fastqs/mp845-MV411-INPUT-r2_R1.fastq.gz')\n",
    "df['fastq_2'].append('gs://amlproject/Chip/IRF2BP2_degraded_rep3/fastqs/mp845-MV411-INPUT-r2_R2.fastq.gz')\n",
    "df['antibody'].append(\"\")\n",
    "df['control'].append(\"\")\n",
    "df = pd.DataFrame(df)\n",
    "df"
   ]
  },
  {
   "cell_type": "code",
   "execution_count": null,
   "metadata": {},
   "outputs": [],
   "source": [
    "df[df.columns[[3,4,0,1,2,5]]].to_csv('../nextflow/'+project+'_design.csv',index=False)"
   ]
  },
  {
   "cell_type": "code",
   "execution_count": null,
   "metadata": {},
   "outputs": [],
   "source": [
    "project"
   ]
  },
  {
   "cell_type": "markdown",
   "metadata": {},
   "source": [
    "### about\n",
    "\n",
    "0. you need to have a google project set up with a billing account\n",
    "1. you need to activte your APIs this way: https://cloud.google.com/life-sciences/docs/tutorials/nextflow?hl=fr\n",
    "2. nextflow needs to be installed with this installation command `export NXF_MODE=google && curl https://get.nextflow.io | bash`"
   ]
  },
  {
   "cell_type": "code",
   "execution_count": null,
   "metadata": {},
   "outputs": [],
   "source": [
    "! cd ../../ && ./nextflow log ## to get access to the previous runs"
   ]
  },
  {
   "cell_type": "code",
   "execution_count": null,
   "metadata": {},
   "outputs": [],
   "source": [
    "#process chips \n",
    "! cd ../../ && ./nextflow run jkobject/chipseq --paired_end --seq_center 'DFCI' --email 'jkobject@gmail.com' --input AMLproject/nextflow/chipseq_MEF2C_2h_degraded_design.csv --genome GRCh38 --max_cpus 16 --skip_diff_analysis -profile jkcloud -w gs://workamlproject/MEF2C2hres --spiking --outdir gs://workamlproject/MEF2C2h --tracedir AMLproject/nextflow/MEF2Cdegraded2h/"
   ]
  },
  {
   "cell_type": "code",
   "execution_count": null,
   "metadata": {},
   "outputs": [],
   "source": [
    "! gsutil -m cp -r gs://workamlproject/MEF2C2h/* gs://amlproject/Chip/$project/"
   ]
  },
  {
   "cell_type": "code",
   "execution_count": null,
   "metadata": {},
   "outputs": [],
   "source": [
    "! gsutil cat gs://amlproject/Chip/$project/droso_aligned/counts/*\n",
    "! gsutil ls gs://amlproject/Chip/$project/droso_aligned/counts/"
   ]
  },
  {
   "cell_type": "code",
   "execution_count": null,
   "metadata": {},
   "outputs": [],
   "source": [
    "project"
   ]
  },
  {
   "cell_type": "code",
   "execution_count": null,
   "metadata": {},
   "outputs": [],
   "source": [
    "# now use the total counts in gs://amlproject/Chip/chipseq_MF2C_degraded_v2/multiqc/broadPeak/multiqc_report.html\n",
    "# https://console.cloud.google.com/storage/browser/amlproject/Chip/chipseq_MF2C_degraded_v2/multiqc/broadPeak/multiqc_report.html"
   ]
  },
  {
   "cell_type": "code",
   "execution_count": null,
   "metadata": {},
   "outputs": [],
   "source": [
    "h.createFoldersFor('../../data/'+project+'/bwa/mergedLibrary/')\n",
    "!gsutil -m cp gs://amlproject/Chip/$project/bwa/mergedLibrary/*.ba* ../../data/$project/bwa/mergedLibrary/\n",
    "! gsutil -m cp -r gs://amlproject/Chip/$project/bwa/mergedLibrary/bigwig/ ../../data/$project/bwa/mergedLibrary/\n",
    "! gsutil  -m cp -r gs://amlproject/Chip/$project/bwa/mergedLibrary/macs/ ../../data/$project/bwa/mergedLibrary/"
   ]
  },
  {
   "cell_type": "markdown",
   "metadata": {},
   "source": [
    "computing scales from the excel sheet"
   ]
  },
  {
   "cell_type": "code",
   "execution_count": null,
   "metadata": {},
   "outputs": [],
   "source": [
    "scales = [\n",
    "1.00,\n",
    "1.00,\n",
    "1.00,\n",
    "0.70,\n",
    "1.00,\n",
    "0.10,\n",
    "0.38,\n",
    "1.00,\n",
    "0.92,\n",
    "1.00,\n",
    "    \n",
    "0.26,\n",
    "0.83,\n",
    "0.12,\n",
    "1.00,\n",
    "0.39,\n",
    "1.00,\n",
    "1.00,\n",
    "0.40,\n",
    "1.00,\n",
    "0.03,\n",
    "         ]"
   ]
  },
  {
   "cell_type": "code",
   "execution_count": null,
   "metadata": {
    "scrolled": true
   },
   "outputs": [],
   "source": [
    "bams = ! ls ../../data/$project/bwa/mergedLibrary/*.bam\n",
    "bams"
   ]
  },
  {
   "cell_type": "markdown",
   "metadata": {},
   "source": [
    "### on scalled data"
   ]
  },
  {
   "cell_type": "code",
   "execution_count": null,
   "metadata": {},
   "outputs": [],
   "source": [
    "! mkdir ../../data/$project/diffPeaks/ && ! mkdir ../../data/$project/diffData/"
   ]
  },
  {
   "cell_type": "code",
   "execution_count": 115,
   "metadata": {},
   "outputs": [
    {
     "data": {
      "text/plain": [
       "['../../data/MEF2CMEF2D_knockout_v1/bwa/mergedLibrary/bigwig/INPUT_R1.bigWig',\n",
       " '../../data/MEF2CMEF2D_knockout_v1/bwa/mergedLibrary/bigwig/MV411_RNP_AAVS1-H3K27AC_R1.bigWig',\n",
       " '../../data/MEF2CMEF2D_knockout_v1/bwa/mergedLibrary/bigwig/MV411_RNP_AAVS1-H3K27AC_R2.bigWig',\n",
       " '../../data/MEF2CMEF2D_knockout_v1/bwa/mergedLibrary/bigwig/MV411_RNP_MEF2C-H3K27AC_R1.bigWig',\n",
       " '../../data/MEF2CMEF2D_knockout_v1/bwa/mergedLibrary/bigwig/MV411_RNP_MEF2C-H3K27AC_R2.bigWig',\n",
       " '../../data/MEF2CMEF2D_knockout_v1/bwa/mergedLibrary/bigwig/MV411_RNP_MEF2C_MEF2D-H3K27AC_R1.bigWig',\n",
       " '../../data/MEF2CMEF2D_knockout_v1/bwa/mergedLibrary/bigwig/MV411_RNP_MEF2C_MEF2D-H3K27AC_R2.bigWig',\n",
       " '../../data/MEF2CMEF2D_knockout_v1/bwa/mergedLibrary/bigwig/MV411_RNP_MEF2D-H3K27AC_R1.bigWig',\n",
       " '../../data/MEF2CMEF2D_knockout_v1/bwa/mergedLibrary/bigwig/MV411_RNP_MEF2D-H3K27AC_R2.bigWig']"
      ]
     },
     "execution_count": 115,
     "metadata": {},
     "output_type": "execute_result"
    }
   ],
   "source": [
    "wigs = ! ls ../../data/$project/bwa/mergedLibrary/bigwig/*.bigWig\n",
    "wigs"
   ]
  },
  {
   "cell_type": "code",
   "execution_count": null,
   "metadata": {
    "scrolled": true
   },
   "outputs": [],
   "source": [
    "# diffPeak on scaled data (full reprocessing)\n",
    "for i in range(int(len(bams)/2)):\n",
    "    if i < 0:\n",
    "        continue\n",
    "    bam1 = bams[1+i]\n",
    "    bam2 = bams[11+i]\n",
    "    print(bam1,bam2)\n",
    "    print(chip.fullDiffPeak(bam1,bam2, control1=bams[0], scaling=[scales[i], scales[i+10]], directory = \"../../data/\"+project+\"/diffData/\", res_directory = \"../../data/\"+project+\"/diffPeaks/\",pairedend=True))"
   ]
  },
  {
   "cell_type": "code",
   "execution_count": null,
   "metadata": {},
   "outputs": [],
   "source": [
    "initscales = ! cat ../../data/$project/bwa/mergedLibrary/bigwig/scale/*.txt\n",
    "initscales"
   ]
  },
  {
   "cell_type": "code",
   "execution_count": null,
   "metadata": {},
   "outputs": [],
   "source": [
    "rescales = [val*float(initscales[1+i]) for i, val in enumerate(scales)]\n",
    "rescales"
   ]
  },
  {
   "cell_type": "code",
   "execution_count": null,
   "metadata": {},
   "outputs": [],
   "source": [
    "chip.bigWigFrom(bams[1:], \n",
    "                genome='GRCh38',scaling=rescales,\n",
    "               numthreads=8)"
   ]
  },
  {
   "cell_type": "code",
   "execution_count": null,
   "metadata": {},
   "outputs": [],
   "source": [
    "!mkdir ../../data/$project/recalib_bigwig/"
   ]
  },
  {
   "cell_type": "code",
   "execution_count": null,
   "metadata": {
    "scrolled": false
   },
   "outputs": [],
   "source": [
    "!mv bigwig/* ../../data/$project/recalib_bigwig/"
   ]
  },
  {
   "cell_type": "code",
   "execution_count": null,
   "metadata": {
    "scrolled": true
   },
   "outputs": [],
   "source": [
    "! gsutil -m cp -r ../../data/$project/recalib_bigwig gs://amlproject/Chip/$project/"
   ]
  },
  {
   "cell_type": "code",
   "execution_count": null,
   "metadata": {
    "scrolled": true
   },
   "outputs": [],
   "source": [
    "os.popen('for i in $(ls ../../data/'+project+'/diffPeaks/*.bed); \\\n",
    "            do echo $(wc -l $i); \\\n",
    "            done').read().split('\\n')"
   ]
  },
  {
   "cell_type": "code",
   "execution_count": 119,
   "metadata": {
    "scrolled": true
   },
   "outputs": [
    {
     "data": {
      "text/plain": [
       "['../../data/MEF2CMEF2D_knockout_v1/recalib_bigwig/MV411_RNP_AAVS1-H3K27AC_R1.bigWig',\n",
       " '../../data/MEF2CMEF2D_knockout_v1/recalib_bigwig/MV411_RNP_AAVS1-H3K27AC_R2.bigWig',\n",
       " '../../data/MEF2CMEF2D_knockout_v1/recalib_bigwig/MV411_RNP_MEF2C-H3K27AC_R1.bw',\n",
       " '../../data/MEF2CMEF2D_knockout_v1/recalib_bigwig/MV411_RNP_MEF2C-H3K27AC_R2.bw',\n",
       " '../../data/MEF2CMEF2D_knockout_v1/recalib_bigwig/MV411_RNP_MEF2C_MEF2D-H3K27AC_R1.bw',\n",
       " '../../data/MEF2CMEF2D_knockout_v1/recalib_bigwig/MV411_RNP_MEF2C_MEF2D-H3K27AC_R2.bw',\n",
       " '../../data/MEF2CMEF2D_knockout_v1/recalib_bigwig/MV411_RNP_MEF2D-H3K27AC_R1.bw',\n",
       " '../../data/MEF2CMEF2D_knockout_v1/recalib_bigwig/MV411_RNP_MEF2D-H3K27AC_R2.bw']"
      ]
     },
     "execution_count": 119,
     "metadata": {},
     "output_type": "execute_result"
    }
   ],
   "source": [
    "bw = ! ls ../../data/$project/recalib_bigwig/*\n",
    "bw"
   ]
  },
  {
   "cell_type": "code",
   "execution_count": null,
   "metadata": {},
   "outputs": [],
   "source": [
    "!mkdir ../results/$project/\n",
    "!mkdir ../results/$project/plots\n",
    "!mkdir ../results/$project/plots/heatmaps/"
   ]
  },
  {
   "cell_type": "code",
   "execution_count": 38,
   "metadata": {},
   "outputs": [],
   "source": [
    "h.createFoldersFor(\"../../data/\"+project+\"/bwa/mergedLibrary/macs/broadPeak/\")"
   ]
  },
  {
   "cell_type": "code",
   "execution_count": 39,
   "metadata": {},
   "outputs": [
    {
     "name": "stdout",
     "output_type": "stream",
     "text": [
      "Copying gs://amlproject/Chip/MEF2CMEF2D_knockout_v1/bwa/mergedLibrary/macs/broadPeak/MV411_RNP_AAVS1-H3K27AC_R1_peaks.broadPeak...\n",
      "Copying gs://amlproject/Chip/MEF2CMEF2D_knockout_v1/bwa/mergedLibrary/macs/broadPeak/MV411_RNP_MEF2C-H3K27AC_R1_peaks.broadPeak...\n",
      "Copying gs://amlproject/Chip/MEF2CMEF2D_knockout_v1/bwa/mergedLibrary/macs/broadPeak/MV411_RNP_AAVS1-H3K27AC_R2_peaks.broadPeak...\n",
      "Copying gs://amlproject/Chip/MEF2CMEF2D_knockout_v1/bwa/mergedLibrary/macs/broadPeak/MV411_RNP_MEF2C_MEF2D-H3K27AC_R1_peaks.broadPeak...\n",
      "Copying gs://amlproject/Chip/MEF2CMEF2D_knockout_v1/bwa/mergedLibrary/macs/broadPeak/MV411_RNP_MEF2C-H3K27AC_R2_peaks.broadPeak...\n",
      "Copying gs://amlproject/Chip/MEF2CMEF2D_knockout_v1/bwa/mergedLibrary/macs/broadPeak/MV411_RNP_MEF2D-H3K27AC_R1_peaks.broadPeak...\n",
      "Copying gs://amlproject/Chip/MEF2CMEF2D_knockout_v1/bwa/mergedLibrary/macs/broadPeak/MV411_RNP_MEF2C_MEF2D-H3K27AC_R2_peaks.broadPeak...\n",
      "Copying gs://amlproject/Chip/MEF2CMEF2D_knockout_v1/bwa/mergedLibrary/macs/broadPeak/MV411_RNP_MEF2D-H3K27AC_R2_peaks.broadPeak...\n",
      "/ [8/8 files][ 34.5 MiB/ 34.5 MiB] 100% Done                                    \n",
      "Operation completed over 8 objects/34.5 MiB.                                     \n"
     ]
    }
   ],
   "source": [
    "! gsutil -m cp gs://amlproject/Chip/$project/bwa/mergedLibrary/macs/broadPeak/*.broadPeak ../../data/$project/bwa/mergedLibrary/macs/broadPeak/"
   ]
  },
  {
   "cell_type": "code",
   "execution_count": 121,
   "metadata": {
    "scrolled": false
   },
   "outputs": [
    {
     "data": {
      "text/plain": [
       "['../../data/MEF2CMEF2D_knockout_v1/bwa/mergedLibrary/macs/broadPeak/MV411_RNP_AAVS1-H3K27AC_R1_peaks.broadPeak',\n",
       " '../../data/MEF2CMEF2D_knockout_v1/bwa/mergedLibrary/macs/broadPeak/MV411_RNP_AAVS1-H3K27AC_R2_peaks.broadPeak',\n",
       " '../../data/MEF2CMEF2D_knockout_v1/bwa/mergedLibrary/macs/broadPeak/MV411_RNP_MEF2C-H3K27AC_R1_peaks.broadPeak',\n",
       " '../../data/MEF2CMEF2D_knockout_v1/bwa/mergedLibrary/macs/broadPeak/MV411_RNP_MEF2C-H3K27AC_R2_peaks.broadPeak',\n",
       " '../../data/MEF2CMEF2D_knockout_v1/bwa/mergedLibrary/macs/broadPeak/MV411_RNP_MEF2C_MEF2D-H3K27AC_R1_peaks.broadPeak',\n",
       " '../../data/MEF2CMEF2D_knockout_v1/bwa/mergedLibrary/macs/broadPeak/MV411_RNP_MEF2C_MEF2D-H3K27AC_R2_peaks.broadPeak',\n",
       " '../../data/MEF2CMEF2D_knockout_v1/bwa/mergedLibrary/macs/broadPeak/MV411_RNP_MEF2D-H3K27AC_R1_peaks.broadPeak',\n",
       " '../../data/MEF2CMEF2D_knockout_v1/bwa/mergedLibrary/macs/broadPeak/MV411_RNP_MEF2D-H3K27AC_R2_peaks.broadPeak']"
      ]
     },
     "execution_count": 121,
     "metadata": {},
     "output_type": "execute_result"
    }
   ],
   "source": [
    "peaks = ! ls ../../data/$project/bwa/mergedLibrary/macs/broadPeak/*.broadPeak\n",
    "peaks"
   ]
  },
  {
   "cell_type": "code",
   "execution_count": 120,
   "metadata": {},
   "outputs": [],
   "source": [
    "names = [\"AAVS1\", \"AAVS1_V2\", \"MEF2C\", \"MEF2C_V2\", \"MEF2C_MEF2D\", \"MEF2C_MEF2D_V2\", \"MEF2D\", \"MEF2D_V2\"]"
   ]
  },
  {
   "cell_type": "markdown",
   "metadata": {},
   "source": [
    "#### merging peaks VHL/DMSO"
   ]
  },
  {
   "cell_type": "code",
   "execution_count": 139,
   "metadata": {},
   "outputs": [
    {
     "name": "stdout",
     "output_type": "stream",
     "text": [
      "MEF2C\n",
      "0.16110404228247038465\r"
     ]
    },
    {
     "ename": "KeyboardInterrupt",
     "evalue": "",
     "output_type": "error",
     "traceback": [
      "\u001b[0;31m----------------------------------------------------------\u001b[0m",
      "\u001b[0;31mKeyboardInterrupt\u001b[0m        Traceback (most recent call last)",
      "\u001b[0;32m<ipython-input-139-523ed8086717>\u001b[0m in \u001b[0;36m<module>\u001b[0;34m\u001b[0m\n\u001b[1;32m      6\u001b[0m     \u001b[0mdmso\u001b[0m \u001b[0;34m=\u001b[0m \u001b[0mpeaks\u001b[0m\u001b[0;34m[\u001b[0m\u001b[0mi\u001b[0m\u001b[0;34m%\u001b[0m\u001b[0;36m2\u001b[0m\u001b[0;34m]\u001b[0m\u001b[0;34m\u001b[0m\u001b[0;34m\u001b[0m\u001b[0m\n\u001b[1;32m      7\u001b[0m     \u001b[0mvhl\u001b[0m \u001b[0;34m=\u001b[0m \u001b[0mpeaks\u001b[0m\u001b[0;34m[\u001b[0m\u001b[0mi\u001b[0m\u001b[0;34m+\u001b[0m\u001b[0;36m2\u001b[0m\u001b[0;34m]\u001b[0m\u001b[0;34m\u001b[0m\u001b[0;34m\u001b[0m\u001b[0m\n\u001b[0;32m----> 8\u001b[0;31m     \u001b[0mchip\u001b[0m\u001b[0;34m.\u001b[0m\u001b[0msimpleMergePeaks\u001b[0m\u001b[0;34m(\u001b[0m\u001b[0mpd\u001b[0m\u001b[0;34m.\u001b[0m\u001b[0mconcat\u001b[0m\u001b[0;34m(\u001b[0m\u001b[0;34m[\u001b[0m\u001b[0mchip\u001b[0m\u001b[0;34m.\u001b[0m\u001b[0mloadPeaks\u001b[0m\u001b[0;34m(\u001b[0m\u001b[0mdmso\u001b[0m\u001b[0;34m)\u001b[0m\u001b[0;34m,\u001b[0m \u001b[0mchip\u001b[0m\u001b[0;34m.\u001b[0m\u001b[0mloadPeaks\u001b[0m\u001b[0;34m(\u001b[0m\u001b[0mvhl\u001b[0m\u001b[0;34m)\u001b[0m\u001b[0;34m]\u001b[0m\u001b[0;34m)\u001b[0m\u001b[0;34m)\u001b[0m\u001b[0;34m.\u001b[0m\u001b[0mto_csv\u001b[0m\u001b[0;34m(\u001b[0m\u001b[0;34m'../../data/'\u001b[0m \u001b[0;34m+\u001b[0m \u001b[0mproject\u001b[0m \u001b[0;34m+\u001b[0m \u001b[0;34m'/'\u001b[0m \u001b[0;34m+\u001b[0m \u001b[0mval\u001b[0m \u001b[0;34m+\u001b[0m \u001b[0;34m'_genomewide_merged.bed'\u001b[0m\u001b[0;34m,\u001b[0m \u001b[0msep\u001b[0m\u001b[0;34m=\u001b[0m\u001b[0;34m'\\t'\u001b[0m\u001b[0;34m,\u001b[0m \u001b[0mheader\u001b[0m\u001b[0;34m=\u001b[0m\u001b[0;32mFalse\u001b[0m\u001b[0;34m,\u001b[0m \u001b[0mindex\u001b[0m\u001b[0;34m=\u001b[0m\u001b[0;32mFalse\u001b[0m\u001b[0;34m)\u001b[0m\u001b[0;34m\u001b[0m\u001b[0;34m\u001b[0m\u001b[0m\n\u001b[0m\u001b[1;32m      9\u001b[0m     \u001b[0mmpeaks\u001b[0m\u001b[0;34m.\u001b[0m\u001b[0mappend\u001b[0m\u001b[0;34m(\u001b[0m\u001b[0;34m'../../data/'\u001b[0m\u001b[0;34m+\u001b[0m\u001b[0mproject\u001b[0m\u001b[0;34m+\u001b[0m\u001b[0;34m'/'\u001b[0m\u001b[0;34m+\u001b[0m\u001b[0mval\u001b[0m\u001b[0;34m+\u001b[0m\u001b[0;34m'_genomewide_merged.bed'\u001b[0m\u001b[0;34m)\u001b[0m\u001b[0;34m\u001b[0m\u001b[0;34m\u001b[0m\u001b[0m\n",
      "\u001b[0;32m~/genepy/epigenetics/chipseq.py\u001b[0m in \u001b[0;36msimpleMergePeaks\u001b[0;34m(peaks, window, totpeaknumber, maxp, mergedFold)\u001b[0m\n\u001b[1;32m    409\u001b[0m         \u001b[0mtfmerged\u001b[0m\u001b[0;34m[\u001b[0m\u001b[0mpeaks\u001b[0m\u001b[0;34m.\u001b[0m\u001b[0miloc\u001b[0m\u001b[0;34m[\u001b[0m\u001b[0;36m0\u001b[0m\u001b[0;34m]\u001b[0m\u001b[0;34m[\u001b[0m\u001b[0;34m'name'\u001b[0m\u001b[0;34m]\u001b[0m\u001b[0;34m]\u001b[0m\u001b[0;34m[\u001b[0m\u001b[0;34m-\u001b[0m\u001b[0;36m1\u001b[0m\u001b[0;34m]\u001b[0m \u001b[0;34m=\u001b[0m \u001b[0mpeaks\u001b[0m\u001b[0;34m.\u001b[0m\u001b[0miloc\u001b[0m\u001b[0;34m[\u001b[0m\u001b[0;36m0\u001b[0m\u001b[0;34m]\u001b[0m\u001b[0;34m.\u001b[0m\u001b[0mget\u001b[0m\u001b[0;34m(\u001b[0m\u001b[0;34m'foldchange'\u001b[0m\u001b[0;34m,\u001b[0m \u001b[0;36m1\u001b[0m\u001b[0;34m)\u001b[0m\u001b[0;34m\u001b[0m\u001b[0;34m\u001b[0m\u001b[0m\n\u001b[1;32m    410\u001b[0m         \u001b[0;32mfor\u001b[0m \u001b[0mi\u001b[0m\u001b[0;34m,\u001b[0m \u001b[0;34m(\u001b[0m\u001b[0mpos\u001b[0m\u001b[0;34m,\u001b[0m \u001b[0mpeak\u001b[0m\u001b[0;34m)\u001b[0m \u001b[0;32min\u001b[0m \u001b[0menumerate\u001b[0m\u001b[0;34m(\u001b[0m\u001b[0mpeaks\u001b[0m\u001b[0;34m.\u001b[0m\u001b[0miloc\u001b[0m\u001b[0;34m[\u001b[0m\u001b[0;36m1\u001b[0m\u001b[0;34m:\u001b[0m\u001b[0;34m]\u001b[0m\u001b[0;34m.\u001b[0m\u001b[0miterrows\u001b[0m\u001b[0;34m(\u001b[0m\u001b[0;34m)\u001b[0m\u001b[0;34m)\u001b[0m\u001b[0;34m:\u001b[0m\u001b[0;34m\u001b[0m\u001b[0;34m\u001b[0m\u001b[0m\n\u001b[0;32m--> 411\u001b[0;31m                 \u001b[0mprint\u001b[0m\u001b[0;34m(\u001b[0m\u001b[0mstr\u001b[0m\u001b[0;34m(\u001b[0m\u001b[0mi\u001b[0m \u001b[0;34m/\u001b[0m \u001b[0mlen\u001b[0m\u001b[0;34m(\u001b[0m\u001b[0mpeaks\u001b[0m\u001b[0;34m)\u001b[0m\u001b[0;34m)\u001b[0m\u001b[0;34m,\u001b[0m \u001b[0mend\u001b[0m\u001b[0;34m=\u001b[0m\u001b[0;34m\"\\r\"\u001b[0m\u001b[0;34m)\u001b[0m\u001b[0;34m\u001b[0m\u001b[0;34m\u001b[0m\u001b[0m\n\u001b[0m\u001b[1;32m    412\u001b[0m                 \u001b[0;32mif\u001b[0m \u001b[0mprev_end\u001b[0m \u001b[0;34m+\u001b[0m \u001b[0mwindow\u001b[0m \u001b[0;34m>\u001b[0m \u001b[0mpeak\u001b[0m\u001b[0;34m[\u001b[0m\u001b[0;34m'start'\u001b[0m\u001b[0;34m]\u001b[0m \u001b[0;32mand\u001b[0m \u001b[0mprev_chrom\u001b[0m \u001b[0;34m==\u001b[0m \u001b[0mpeak\u001b[0m\u001b[0;34m[\u001b[0m\u001b[0;34m'chrom'\u001b[0m\u001b[0;34m]\u001b[0m\u001b[0;34m:\u001b[0m\u001b[0;34m\u001b[0m\u001b[0;34m\u001b[0m\u001b[0m\n\u001b[1;32m    413\u001b[0m                         \u001b[0;31m# can be merged\u001b[0m\u001b[0;34m\u001b[0m\u001b[0;34m\u001b[0m\u001b[0;34m\u001b[0m\u001b[0m\n",
      "\u001b[0;32m~/.local/lib/python3.8/site-packages/ipykernel/iostream.py\u001b[0m in \u001b[0;36mwrite\u001b[0;34m(self, string)\u001b[0m\n\u001b[1;32m    398\u001b[0m                 \u001b[0mstring\u001b[0m \u001b[0;34m=\u001b[0m \u001b[0mstring\u001b[0m\u001b[0;34m.\u001b[0m\u001b[0mdecode\u001b[0m\u001b[0;34m(\u001b[0m\u001b[0mself\u001b[0m\u001b[0;34m.\u001b[0m\u001b[0mencoding\u001b[0m\u001b[0;34m,\u001b[0m \u001b[0;34m'replace'\u001b[0m\u001b[0;34m)\u001b[0m\u001b[0;34m\u001b[0m\u001b[0;34m\u001b[0m\u001b[0m\n\u001b[1;32m    399\u001b[0m \u001b[0;34m\u001b[0m\u001b[0m\n\u001b[0;32m--> 400\u001b[0;31m             \u001b[0mis_child\u001b[0m \u001b[0;34m=\u001b[0m \u001b[0;34m(\u001b[0m\u001b[0;32mnot\u001b[0m \u001b[0mself\u001b[0m\u001b[0;34m.\u001b[0m\u001b[0m_is_master_process\u001b[0m\u001b[0;34m(\u001b[0m\u001b[0;34m)\u001b[0m\u001b[0;34m)\u001b[0m\u001b[0;34m\u001b[0m\u001b[0;34m\u001b[0m\u001b[0m\n\u001b[0m\u001b[1;32m    401\u001b[0m             \u001b[0;31m# only touch the buffer in the IO thread to avoid races\u001b[0m\u001b[0;34m\u001b[0m\u001b[0;34m\u001b[0m\u001b[0;34m\u001b[0m\u001b[0m\n\u001b[1;32m    402\u001b[0m             \u001b[0mself\u001b[0m\u001b[0;34m.\u001b[0m\u001b[0mpub_thread\u001b[0m\u001b[0;34m.\u001b[0m\u001b[0mschedule\u001b[0m\u001b[0;34m(\u001b[0m\u001b[0;32mlambda\u001b[0m \u001b[0;34m:\u001b[0m \u001b[0mself\u001b[0m\u001b[0;34m.\u001b[0m\u001b[0m_buffer\u001b[0m\u001b[0;34m.\u001b[0m\u001b[0mwrite\u001b[0m\u001b[0;34m(\u001b[0m\u001b[0mstring\u001b[0m\u001b[0;34m)\u001b[0m\u001b[0;34m)\u001b[0m\u001b[0;34m\u001b[0m\u001b[0;34m\u001b[0m\u001b[0m\n",
      "\u001b[0;32m~/.local/lib/python3.8/site-packages/ipykernel/iostream.py\u001b[0m in \u001b[0;36m_is_master_process\u001b[0;34m(self)\u001b[0m\n\u001b[1;32m    308\u001b[0m \u001b[0;34m\u001b[0m\u001b[0m\n\u001b[1;32m    309\u001b[0m     \u001b[0;32mdef\u001b[0m \u001b[0m_is_master_process\u001b[0m\u001b[0;34m(\u001b[0m\u001b[0mself\u001b[0m\u001b[0;34m)\u001b[0m\u001b[0;34m:\u001b[0m\u001b[0;34m\u001b[0m\u001b[0;34m\u001b[0m\u001b[0m\n\u001b[0;32m--> 310\u001b[0;31m         \u001b[0;32mreturn\u001b[0m \u001b[0mos\u001b[0m\u001b[0;34m.\u001b[0m\u001b[0mgetpid\u001b[0m\u001b[0;34m(\u001b[0m\u001b[0;34m)\u001b[0m \u001b[0;34m==\u001b[0m \u001b[0mself\u001b[0m\u001b[0;34m.\u001b[0m\u001b[0m_master_pid\u001b[0m\u001b[0;34m\u001b[0m\u001b[0;34m\u001b[0m\u001b[0m\n\u001b[0m\u001b[1;32m    311\u001b[0m \u001b[0;34m\u001b[0m\u001b[0m\n\u001b[1;32m    312\u001b[0m     \u001b[0;32mdef\u001b[0m \u001b[0mset_parent\u001b[0m\u001b[0;34m(\u001b[0m\u001b[0mself\u001b[0m\u001b[0;34m,\u001b[0m \u001b[0mparent\u001b[0m\u001b[0;34m)\u001b[0m\u001b[0;34m:\u001b[0m\u001b[0;34m\u001b[0m\u001b[0;34m\u001b[0m\u001b[0m\n",
      "\u001b[0;31mKeyboardInterrupt\u001b[0m: "
     ]
    }
   ],
   "source": [
    "mpeaks = []\n",
    "for i, val in enumerate(names[2:]):\n",
    "    if i>2:\n",
    "        continue\n",
    "    print(val)\n",
    "    dmso = peaks[i%2]\n",
    "    vhl = peaks[i+2]\n",
    "    chip.simpleMergePeaks(pd.concat([chip.loadPeaks(dmso), chip.loadPeaks(vhl)])).to_csv('../../data/' + project + '/' + val + '_genomewide_merged.bed', sep='\\t', header=False, index=False)\n",
    "    mpeaks.append('../../data/'+project+'/'+val+'_genomewide_merged.bed')"
   ]
  },
  {
   "cell_type": "markdown",
   "metadata": {},
   "source": [
    "#### GENOME WIDE comparison"
   ]
  },
  {
   "cell_type": "code",
   "execution_count": 122,
   "metadata": {},
   "outputs": [],
   "source": [
    "dmsoname=\"\"\n",
    "condname=\"_ko\""
   ]
  },
  {
   "cell_type": "code",
   "execution_count": 140,
   "metadata": {},
   "outputs": [],
   "source": [
    "mpeaks = ! ls ../../data/$project/*_genomewide_merged.bed"
   ]
  },
  {
   "cell_type": "code",
   "execution_count": 141,
   "metadata": {
    "scrolled": true
   },
   "outputs": [
    {
     "data": {
      "text/plain": [
       "['../../data/MEF2CMEF2D_knockout_v1/bwa/mergedLibrary/macs/broadPeak/MV411_RNP_AAVS1-H3K27AC_R1_peaks.broadPeak',\n",
       " '../../data/MEF2CMEF2D_knockout_v1/bwa/mergedLibrary/macs/broadPeak/MV411_RNP_AAVS1-H3K27AC_R2_peaks.broadPeak',\n",
       " '../../data/MEF2CMEF2D_knockout_v1/MEF2C_genomewide_merged.bed',\n",
       " '../../data/MEF2CMEF2D_knockout_v1/MEF2C_MEF2D_genomewide_merged.bed',\n",
       " '../../data/MEF2CMEF2D_knockout_v1/MEF2C_MEF2D_V2_genomewide_merged.bed',\n",
       " '../../data/MEF2CMEF2D_knockout_v1/MEF2C_V2_genomewide_merged.bed',\n",
       " '../../data/MEF2CMEF2D_knockout_v1/MEF2D_genomewide_merged.bed',\n",
       " '../../data/MEF2CMEF2D_knockout_v1/MEF2D_V2_genomewide_merged.bed']"
      ]
     },
     "execution_count": 141,
     "metadata": {},
     "output_type": "execute_result"
    }
   ],
   "source": [
    "mpeaks = peaks[:2]+mpeaks\n",
    "mpeaks"
   ]
  },
  {
   "cell_type": "code",
   "execution_count": null,
   "metadata": {},
   "outputs": [],
   "source": [
    "vmax = [1,1,2,1.2,2,2.2,2.2,1.2,2.7,3.5,3.5,3,3]"
   ]
  },
  {
   "cell_type": "code",
   "execution_count": null,
   "metadata": {},
   "outputs": [],
   "source": []
  },
  {
   "cell_type": "code",
   "execution_count": null,
   "metadata": {},
   "outputs": [],
   "source": []
  },
  {
   "cell_type": "code",
   "execution_count": 150,
   "metadata": {},
   "outputs": [
    {
     "data": {
      "text/plain": [
       "6"
      ]
     },
     "execution_count": 150,
     "metadata": {},
     "output_type": "execute_result"
    }
   ],
   "source": [
    "i"
   ]
  },
  {
   "cell_type": "code",
   "execution_count": 151,
   "metadata": {
    "scrolled": true
   },
   "outputs": [
    {
     "name": "stdout",
     "output_type": "stream",
     "text": [
      "MEF2C_MEF2D_V2_ko\n",
      "CompletedProcess(args='computeMatrix reference-point -S ../../data/MEF2CMEF2D_knockout_v1/recalib_bigwig/MV411_RNP_MEF2C_MEF2D-H3K27AC_R2.bw  --referencePoint center --regionsFileName ../../data/MEF2CMEF2D_knockout_v1/MEF2C_V2_genomewide_merged.bed  --missingDataAsZero --outFileName ../../data/MEF2CMEF2D_knockout_v1/MEF2C_MEF2D_V2_ko_mat.gz --upstream 3000 --downstream 3000 --numberOfProcessors 8 && plotHeatmap --matrixFile ../../data/MEF2CMEF2D_knockout_v1/MEF2C_MEF2D_V2_ko_mat.gz --outFileName ../../data/MEF2CMEF2D_knockout_v1/MEF2C_MEF2D_V2_ko_mat.pdf --refPointLabel center -max 1 --legendLocation lower-left --regionsLabel Macs2_Peaks --plotTitle MEF2C_MEF2D_V2_ko', returncode=0, stdout=b'', stderr=b'')\n",
      "MEF2D_ko\n",
      "CompletedProcess(args='computeMatrix reference-point -S ../../data/MEF2CMEF2D_knockout_v1/recalib_bigwig/MV411_RNP_MEF2D-H3K27AC_R1.bw  --referencePoint center --regionsFileName ../../data/MEF2CMEF2D_knockout_v1/MEF2D_genomewide_merged.bed  --missingDataAsZero --outFileName ../../data/MEF2CMEF2D_knockout_v1/MEF2D_ko_mat.gz --upstream 3000 --downstream 3000 --numberOfProcessors 8 && plotHeatmap --matrixFile ../../data/MEF2CMEF2D_knockout_v1/MEF2D_ko_mat.gz --outFileName ../../data/MEF2CMEF2D_knockout_v1/MEF2D_ko_mat.pdf --refPointLabel center -max 1 --legendLocation lower-left --regionsLabel Macs2_Peaks --plotTitle MEF2D_ko', returncode=0, stdout=b'', stderr=b'')\n",
      "MEF2D_V2_ko\n",
      "CompletedProcess(args='computeMatrix reference-point -S ../../data/MEF2CMEF2D_knockout_v1/recalib_bigwig/MV411_RNP_MEF2D-H3K27AC_R2.bw  --referencePoint center --regionsFileName ../../data/MEF2CMEF2D_knockout_v1/MEF2D_V2_genomewide_merged.bed  --missingDataAsZero --outFileName ../../data/MEF2CMEF2D_knockout_v1/MEF2D_V2_ko_mat.gz --upstream 3000 --downstream 3000 --numberOfProcessors 8 && plotHeatmap --matrixFile ../../data/MEF2CMEF2D_knockout_v1/MEF2D_V2_ko_mat.gz --outFileName ../../data/MEF2CMEF2D_knockout_v1/MEF2D_V2_ko_mat.pdf --refPointLabel center -max 1 --legendLocation lower-left --regionsLabel Macs2_Peaks --plotTitle MEF2D_V2_ko', returncode=0, stdout=b'', stderr=b'')\n"
     ]
    }
   ],
   "source": [
    "for i, val in enumerate(bw):\n",
    "    if i < 5:\n",
    "        continue\n",
    "    name = names[i]+condname if i>2 else names[i]+dmsoname\n",
    "    print(name)\n",
    "    chip.getPeaksAt(mpeaks[i], bigwigs = val, bigwignames= name, peaknames=['Macs2_Peaks'], window=3000, folder=\"\", title=name, numthreads=8, refpoint=\"center\", name='../../data/'+project+'/'+name+'_mat.pdf', withDeeptools=True, torecompute=True, legendLoc=\"lower-left\", vmax=1)"
   ]
  },
  {
   "cell_type": "markdown",
   "metadata": {},
   "source": [
    "#### making overlapping profiles"
   ]
  },
  {
   "cell_type": "code",
   "execution_count": null,
   "metadata": {},
   "outputs": [],
   "source": [
    "for i, val in enumerate(names):\n",
    "    if i <0:\n",
    "        continue\n",
    "    val1 = '../../data/'+project+'/' + val + dmsoname+'_mat.gz'\n",
    "    val2 = '../../data/'+project+'/' + val + condname+'_mat.gz'\n",
    "    \n",
    "    print(val)\n",
    "    chip.makeProfiles(matx=[val1,val2], matnames=['DMSO','VHL'], title=val, refpoint=\"center\", name='../../data/'+project+'/'+val+'_combined_mat.pdf', legendLoc=\"lower-left\")"
   ]
  },
  {
   "cell_type": "code",
   "execution_count": null,
   "metadata": {
    "scrolled": true
   },
   "outputs": [],
   "source": [
    "cond1peak = ! ls ../../data/$project/diffPeaks/*cond1.bed\n",
    "cond2peak = ! ls ../../data/$project/diffPeaks/*cond2.bed\n",
    "commonpeak = ! ls ../../data/$project/diffPeaks/*common.bed\n",
    "cond1peak"
   ]
  },
  {
   "cell_type": "code",
   "execution_count": null,
   "metadata": {
    "scrolled": true
   },
   "outputs": [],
   "source": [
    "for i in range(int(len(bw)/2)):\n",
    "    if i <0:\n",
    "        continue\n",
    "    name1 = bw[i]\n",
    "    name2 = bw[i+len(names)]\n",
    "    peak = [cond1peak[i], commonpeak[i], cond2peak[i]]\n",
    "   # for val in peak:\n",
    "      #  chip.dropWeirdChromosomes(val)\n",
    "    name = names[i]\n",
    "    print(name1,name2)\n",
    "    chip.getPeaksAt(peak, [name1, name2], bigwignames=['DMSO', 'VHL'], peaknames=['DMSO_peaks', 'common', 'VHL_peaks'], window=3000, folder=\"\", title=name, numthreads=8, refpoint=\"center\", name='../../data/'+project+'/diffPeaks/'+name+'_mat.pdf', withDeeptools=True, torecompute=False)"
   ]
  },
  {
   "cell_type": "code",
   "execution_count": null,
   "metadata": {},
   "outputs": [],
   "source": [
    "! mkdir ../results/$project/plots/scaled/diffPeaks/\n",
    "! cp ../../data/$project/diffPeaks/*.pdf ../results/$project/plots/scaled/diffPeaks/"
   ]
  },
  {
   "cell_type": "markdown",
   "metadata": {},
   "source": [
    "#### making average"
   ]
  },
  {
   "cell_type": "code",
   "execution_count": 94,
   "metadata": {},
   "outputs": [],
   "source": [
    "from genepy.epigenetics import plot as chiplot"
   ]
  },
  {
   "cell_type": "code",
   "execution_count": 91,
   "metadata": {},
   "outputs": [],
   "source": [
    "names = [\"AAVS1\", \"MEF2C\", \"MEF2C_MEF2D\", \"MEF2D\"]"
   ]
  },
  {
   "cell_type": "code",
   "execution_count": 104,
   "metadata": {},
   "outputs": [
    {
     "data": {
      "image/png": "[encoded data removed]",
      "text/plain": [
       "<Figure size 432x288 with 1 Axes>"
      ]
     },
     "metadata": {
      "needs_background": "light"
     },
     "output_type": "display_data"
    },
    {
     "data": {
      "image/png": "[encoded data removed]",
      "text/plain": [
       "<Figure size 432x288 with 1 Axes>"
      ]
     },
     "metadata": {
      "needs_background": "light"
     },
     "output_type": "display_data"
    },
    {
     "data": {
      "image/png": "[encoded data removed]",
      "text/plain": [
       "<Figure size 432x288 with 1 Axes>"
      ]
     },
     "metadata": {
      "needs_background": "light"
     },
     "output_type": "display_data"
    },
    {
     "data": {
      "image/png": "[encoded data removed]",
      "text/plain": [
       "<Figure size 432x288 with 1 Axes>"
      ]
     },
     "metadata": {
      "needs_background": "light"
     },
     "output_type": "display_data"
    },
    {
     "data": {
      "image/png": "[encoded data removed]",
      "text/plain": [
       "<Figure size 432x288 with 1 Axes>"
      ]
     },
     "metadata": {
      "needs_background": "light"
     },
     "output_type": "display_data"
    },
    {
     "data": {
      "image/png": "[encoded data removed]",
      "text/plain": [
       "<Figure size 432x288 with 1 Axes>"
      ]
     },
     "metadata": {
      "needs_background": "light"
     },
     "output_type": "display_data"
    },
    {
     "data": {
      "image/png": "[encoded data removed]",
      "text/plain": [
       "<Figure size 432x288 with 1 Axes>"
      ]
     },
     "metadata": {
      "needs_background": "light"
     },
     "output_type": "display_data"
    },
    {
     "data": {
      "image/png": "[encoded data removed]",
      "text/plain": [
       "<Figure size 432x288 with 1 Axes>"
      ]
     },
     "metadata": {
      "needs_background": "light"
     },
     "output_type": "display_data"
    }
   ],
   "source": [
    "for i, val in enumerate(names):\n",
    "    if i <0:\n",
    "        continue\n",
    "    val1 = '../../data/'+project+'/' + val +'_ko_mat.gz'\n",
    "    val2 = '../../data/'+project+'/' + val +'_V2_ko_mat.gz'\n",
    "    _ = chiplot.plotAverageOfSamples([val1, val2], folder=\"../../data/\"+project+\"/\"+val)"
   ]
  },
  {
   "cell_type": "code",
   "execution_count": 152,
   "metadata": {},
   "outputs": [],
   "source": [
    "h.createFoldersFor('../results/'+project+'/plots/scaled/heatmaps/')\n",
    "! cp ../../data/$project/*.pdf ../results/$project/plots/scaled/heatmaps/"
   ]
  },
  {
   "cell_type": "markdown",
   "metadata": {},
   "source": [
    "#### Looking at TSS"
   ]
  },
  {
   "cell_type": "code",
   "execution_count": null,
   "metadata": {},
   "outputs": [],
   "source": [
    "IRF8targets = h.fileToList('../results/slamseqMax/IRF8targets.txt')"
   ]
  },
  {
   "cell_type": "code",
   "execution_count": null,
   "metadata": {},
   "outputs": [],
   "source": [
    "ls ../../data/chipseq_IRF8_degraded/recalib_bigwig/*"
   ]
  },
  {
   "cell_type": "code",
   "execution_count": null,
   "metadata": {},
   "outputs": [],
   "source": [
    "peaksVHL = pd.read_csv('../../data/chipseq_IRF8_degraded/diffPeaks/MV411_IRF8_NT_DMSO-POLII_total_R1_treat_pileup_vs_MV411_IRF8_NT_VHL-POLII_total_R1_treat_pileup_c3.0_cond2.bed', sep='\\t',header=None, skiprows=1, names=['chrom','start','end','name','score'])\n",
    "peaksVHL['chrom']= [i[3:] for i in peaksVHL['chrom']]\n",
    "peaksVHL[['start','end']] = peaksVHL[['start','end']].astype(int)"
   ]
  },
  {
   "cell_type": "code",
   "execution_count": null,
   "metadata": {},
   "outputs": [],
   "source": [
    "peaksDMSO = pd.read_csv('../../data/chipseq_IRF8_degraded/diffPeaks/MV411_IRF8_NT_DMSO-POLII_total_R1_treat_pileup_vs_MV411_IRF8_NT_VHL-POLII_total_R1_treat_pileup_c3.0_cond1.bed', sep='\\t', header=None, skiprows=1, names=['chrom','start','end','name','score'])\n",
    "peaksDMSO['chrom']= [i[3:] for i in peaksDMSO['chrom']]\n",
    "peaksDMSO[['start','end']] = peaksDMSO[['start','end']].astype(int)"
   ]
  },
  {
   "cell_type": "code",
   "execution_count": null,
   "metadata": {},
   "outputs": [],
   "source": [
    "peakcommon = pd.read_csv('../../data/chipseq_IRF8_degraded/diffPeaks/MV411_IRF8_NT_DMSO-POLII_total_R1_treat_pileup_vs_MV411_IRF8_NT_VHL-POLII_total_R1_treat_pileup_c3.0_common.bed', sep='\\t',header=None, skiprows=1, names=['chrom','start','end','name','score'])\n",
    "peakcommon['chrom']= [i[3:] for i in peakcommon['chrom']]\n",
    "peakcommon[['start','end']] = peakcommon[['start','end']].astype(int)"
   ]
  },
  {
   "cell_type": "code",
   "execution_count": null,
   "metadata": {},
   "outputs": [],
   "source": [
    "ensembltss['Chromosome/scaffold name'] = ensembltss['Chromosome/scaffold name'].astype(str)\n",
    "ensembltss = ensembltss[ensembltss['Chromosome/scaffold name'].isin(['1', '10', '11', '12', '13', '14', '15', '16', '17', '18', '19', '2', '20', '21', '22', '3', '4', '5', '6', '7', '8', '9','X','Y'])]\n",
    "ensembltss = ensembltss.drop_duplicates('Gene start (bp)')\n",
    "ensembltss = ensembltss.reset_index(drop=True)\n",
    "ensembltss = ensembltss.astype(str)\n",
    "ensembltss['loci'] = ensembltss['Transcription start site (TSS)'].astype(int)\n",
    "ensembltss['chrom'] = ensembltss['Chromosome/scaffold name']\n",
    "ensembltss = ensembltss.sort_values(by=['chrom','loci']).reset_index(drop=True)"
   ]
  },
  {
   "cell_type": "code",
   "execution_count": null,
   "metadata": {},
   "outputs": [],
   "source": [
    "chip.substractPeaksTo(peaksDMSO, ensembltss).to_csv('../../data/'+project+'/diffPeaks/polII_DMSO_TSSonly.bed',sep='\\t',index=None,header=False)\n",
    "chip.substractPeaksTo(peakcommon, ensembltss).to_csv('../../data/'+project+'/diffPeaks/polII_common_TSSonly.bed',sep='\\t',index=None,header=False)\n",
    "chip.substractPeaksTo(peaksVHL, ensembltss).to_csv('../../data/'+project+'/diffPeaks/polII_VHL_TSSonly.bed',sep='\\t',index=None,header=False)"
   ]
  },
  {
   "cell_type": "code",
   "execution_count": null,
   "metadata": {},
   "outputs": [],
   "source": [
    "chip.getPeaksAt(['../../data/'+project+'/diffPeaks/polII_DMSO_TSSonly.bed', '../../data/'+project+'/diffPeaks/polII_common_TSSonly.bed', '../../data/'+project+'/diffPeaks/polII_VHL_TSSonly.bed'],\n",
    "                bigwigs = ['../../data/chipseq_IRF8_degraded/recalib_bigwig/MV411_IRF8_NT_DMSO-POLII_total_R1.bw', '../../data/chipseq_IRF8_degraded/recalib_bigwig/MV411_IRF8_NT_VHL-POLII_total_R1.bw'], \n",
    "                bigwignames= ['IRF8_DMSO', 'IRF8_VHL'], \n",
    "                peaknames=['DMSO','common','VHL'], window=3000, folder=\"\", title='polII_with_IRF8_degron', numthreads=4, \n",
    "                refpoint=\"center\", \n",
    "                name='../../data/'+project+'/diffPeaks/polII_with_IRF8_degron_mat.pdf', \n",
    "                withDeeptools=True, torecompute=True, legendLoc=\"lower-left\")"
   ]
  },
  {
   "cell_type": "code",
   "execution_count": null,
   "metadata": {},
   "outputs": [],
   "source": [
    "IRF8tss = ensembltss[ensembltss['Gene name'].isin(IRF8targets)].reset_index(drop=True)"
   ]
  },
  {
   "cell_type": "code",
   "execution_count": null,
   "metadata": {},
   "outputs": [],
   "source": [
    "a = ! wc -l ../../data/$project/diffPeaks/polII_DMSO_TSSonly.bed "
   ]
  },
  {
   "cell_type": "code",
   "execution_count": null,
   "metadata": {},
   "outputs": [],
   "source": [
    "int(a[0].split(' ')[0])/len(peaksDMSO), len(peaksDMSO)"
   ]
  },
  {
   "cell_type": "code",
   "execution_count": null,
   "metadata": {
    "scrolled": true
   },
   "outputs": [],
   "source": [
    "len(chip.substractPeaksTo(peaksDMSO, IRF8tss))/int(a[0].split(' ')[0])"
   ]
  },
  {
   "cell_type": "code",
   "execution_count": null,
   "metadata": {},
   "outputs": [],
   "source": [
    "a = ! wc -l ../../data/$project/diffPeaks/polII_common_TSSonly.bed "
   ]
  },
  {
   "cell_type": "code",
   "execution_count": null,
   "metadata": {},
   "outputs": [],
   "source": [
    "int(a[0].split(' ')[0])/ len(peakcommon),  len(peakcommon)"
   ]
  },
  {
   "cell_type": "code",
   "execution_count": null,
   "metadata": {},
   "outputs": [],
   "source": [
    "len(chip.substractPeaksTo(peakcommon, IRF8tss))/int(a[0].split(' ')[0])"
   ]
  },
  {
   "cell_type": "code",
   "execution_count": null,
   "metadata": {},
   "outputs": [],
   "source": [
    "a = ! wc -l ../../data/$project/diffPeaks/polII_VHL_TSSonly.bed "
   ]
  },
  {
   "cell_type": "code",
   "execution_count": null,
   "metadata": {},
   "outputs": [],
   "source": [
    "len(peaksVHL)"
   ]
  },
  {
   "cell_type": "code",
   "execution_count": null,
   "metadata": {},
   "outputs": [],
   "source": [
    "int(a[0].split(' ')[0])/len(peaksVHL),  len(peaksVHL)"
   ]
  },
  {
   "cell_type": "code",
   "execution_count": null,
   "metadata": {
    "scrolled": true
   },
   "outputs": [],
   "source": [
    "len(chip.substractPeaksTo(peaksVHL, IRF8tss))/int(a[0].split(' ')[0])"
   ]
  },
  {
   "cell_type": "markdown",
   "metadata": {},
   "source": [
    "### on unscalled data"
   ]
  },
  {
   "cell_type": "code",
   "execution_count": null,
   "metadata": {},
   "outputs": [],
   "source": [
    "! mkdir ../../data/$project/diffPeaks_unscaled"
   ]
  },
  {
   "cell_type": "code",
   "execution_count": null,
   "metadata": {},
   "outputs": [],
   "source": [
    "#on unscalled data \n",
    "for i in range(int(len(bams)/2)):\n",
    "    if i < 0:\n",
    "        continue\n",
    "    name1 = bams[1+i]\n",
    "    name2 = bams[1+len(names)+i]\n",
    "    print(name1,name2)\n",
    "    chip.fullDiffPeak(name1,name2, control1='../../data/'+project+'/bwa/mergedLibrary/INPUT_R1.mLb.clN.sorted.bam', directory = \"../../data/\"+project+\"/diffData_unscaled/\", res_directory = \"../../data/\"+project+\"/diffPeaks_unscaled/\",pairedend=False)"
   ]
  },
  {
   "cell_type": "code",
   "execution_count": null,
   "metadata": {},
   "outputs": [],
   "source": [
    "bw = ! ls ../../data/$project/bwa/mergedLibrary/bigwig/*.bigWig\n",
    "bw"
   ]
  },
  {
   "cell_type": "code",
   "execution_count": null,
   "metadata": {},
   "outputs": [],
   "source": [
    "cond1peak = ! ls ../../data/$project/diffPeaks_unscaled/*cond1.bed\n",
    "cond2peak = ! ls ../../data/$project/diffPeaks_unscaled/*cond2.bed\n",
    "commonpeak = ! ls ../../data/$project/diffPeaks_unscaled/*common.bed\n",
    "commonpeak"
   ]
  },
  {
   "cell_type": "code",
   "execution_count": null,
   "metadata": {
    "scrolled": true
   },
   "outputs": [],
   "source": [
    "for i in range(int((len(bw)-1)/2)):\n",
    "    name1 = bw[1+i]\n",
    "    name2 = bw[1+len(names)+i]\n",
    "    peak = [cond1peak[i], commonpeak[i], cond2peak[i]]\n",
    "    #for val in peak:\n",
    "     #   chip.dropWeirdChromosomes(val)\n",
    "    name = names[i]\n",
    "    print(name1,name2)\n",
    "    chip.getPeaksAt(peak, [name1, name2], bigwignames=['DMSO', 'VHL'], peaknames=['DMSO_peaks', 'common', 'VHL_peaks'], window=3000, folder=\"\", title=name, numthreads=8, torecompute=True, refpoint='center', name='../../data/'+project+'/diffPeaks_unscaled/'+name+'_mat.pdf', withDeeptools=True)"
   ]
  },
  {
   "cell_type": "code",
   "execution_count": null,
   "metadata": {},
   "outputs": [],
   "source": [
    "h.createFoldersFor('../results/'+project+'/plots/unscaled/diffPeaks/')\n",
    "! cp ../../data/$project/diffPeaks_unscaled/*.pdf ../results/$project/plots/unscaled/diffPeaks/\n",
    "\n",
    "! gsutil -m cp gs://amlproject/Chip/$project/bwa/mergedLibrary/deepTools/**.pdf ../results/$project/plots/"
   ]
  },
  {
   "cell_type": "code",
   "execution_count": null,
   "metadata": {},
   "outputs": [],
   "source": [
    "! gsutil -m cp -r ../../data/$project/diffPeaks gs://amlproject/Chip/$project/\n",
    "! gsutil -m cp -r ../../data/$project/diffData gs://amlproject/Chip/$project/\n",
    "! gsutil -m cp -r ../../data/$project/diffPeaks_unscaled gs://amlproject/Chip/$project/\n",
    "! gsutil -m cp -r ../../data/$project/diffData_unscaled gs://amlproject/Chip/$project/\n",
    "! gsutil -m cp -r ../../data/$project/peakplot gs://amlproject/Chip/$project/"
   ]
  },
  {
   "cell_type": "code",
   "execution_count": 33,
   "metadata": {},
   "outputs": [
    {
     "name": "stdout",
     "output_type": "stream",
     "text": [
      "Copying gs://amlproject/Chip/knockouts_v1/diffPeaks/AAVS1_mat.gz...\n",
      "Copying gs://amlproject/Chip/knockouts_v1/diffPeaks/AAVS1_v2_mat.gz...\n",
      "Copying gs://amlproject/Chip/knockouts_v1/diffPeaks/AAVS1_mat.pdf...\n",
      "Copying gs://amlproject/Chip/knockouts_v1/diffPeaks/AAVS1_v2_mat.pdf...         \n",
      "Copying gs://amlproject/Chip/knockouts_v1/diffPeaks/IRF8_mat.pdf...             \n",
      "Copying gs://amlproject/Chip/knockouts_v1/diffPeaks/IRF8_mat.gz...\n",
      "Copying gs://amlproject/Chip/knockouts_v1/diffPeaks/IRF8_v2_mat.gz...\n",
      "Copying gs://amlproject/Chip/knockouts_v1/diffPeaks/IRF8_v2_mat.pdf...          \n",
      "Copying gs://amlproject/Chip/knockouts_v1/diffPeaks/MEF2D_v2_mat.gz...          \n",
      "Copying gs://amlproject/Chip/knockouts_v1/diffPeaks/MEF2D_mat.pdf...\n",
      "Copying gs://amlproject/Chip/knockouts_v1/diffPeaks/MEF2D_v2_mat.pdf...\n",
      "Copying gs://amlproject/Chip/knockouts_v1/diffPeaks/MV411_RNP_AAVS1-H3K27AC_R1_treat_pileup_vs_MV411_RNP_IRF8-H3K27AC_R1_treat_pileup_c3.0_common.bed...\n",
      "Copying gs://amlproject/Chip/knockouts_v1/diffPeaks/MV411_RNP_AAVS1-H3K27AC_R1_treat_pileup_vs_MV411_RNP_MEF2D-H3K27AC_R1_treat_pileup_c3.0_common.bed...\n",
      "Copying gs://amlproject/Chip/knockouts_v1/diffPeaks/MV411_RNP_AAVS1-H3K27AC_R1_treat_pileup_vs_MV411_RNP_MEF2D-H3K27AC_R1_treat_pileup_c3.0_cond1.bed...\n",
      "Copying gs://amlproject/Chip/knockouts_v1/diffPeaks/MV411_RNP_AAVS1-H3K27AC_R1_treat_pileup_vs_MV411_RNP_MEF2D-H3K27AC_R1_treat_pileup_c3.0_cond2.bed...\n",
      "Copying gs://amlproject/Chip/knockouts_v1/diffPeaks/MV411_RNP_AAVS1-H3K27AC_R1_treat_pileup_vs_MV411_RNP_MYB-H3K27AC_R1_treat_pileup_c3.0_cond2.bed...\n",
      "Copying gs://amlproject/Chip/knockouts_v1/diffPeaks/MV411_RNP_AAVS1-H3K27AC_R1_treat_pileup_vs_MV411_RNP_IRF8-H3K27AC_R1_treat_pileup_c3.0_cond2.bed...\n",
      "Copying gs://amlproject/Chip/knockouts_v1/diffPeaks/MV411_RNP_AAVS1-H3K27AC_R1_treat_pileup_vs_MV411_RNP_MYB-H3K27AC_R1_treat_pileup_c3.0_cond1.bed...\n",
      "Copying gs://amlproject/Chip/knockouts_v1/diffPeaks/MV411_RNP_AAVS1-H3K27AC_R1_treat_pileup_vs_MV411_RNP_RUNX1-H3K27AC_R1_treat_pileup_c3.0_common.bed...\n",
      "Copying gs://amlproject/Chip/knockouts_v1/diffPeaks/MV411_RNP_AAVS1-H3K27AC_R1_treat_pileup_vs_MV411_RNP_RUNX1-H3K27AC_R1_treat_pileup_c3.0_cond1.bed...\n",
      "Copying gs://amlproject/Chip/knockouts_v1/diffPeaks/MEF2D_mat.gz...             \n",
      "Copying gs://amlproject/Chip/knockouts_v1/diffPeaks/MV411_RNP_AAVS1-H3K27AC_R1_treat_pileup_vs_MV411_RNP_IRF8-H3K27AC_R1_treat_pileup_c3.0_cond1.bed...\n",
      "Copying gs://amlproject/Chip/knockouts_v1/diffPeaks/MV411_RNP_AAVS1-H3K27AC_R1_treat_pileup_vs_MV411_RNP_RUNX1-H3K27AC_R1_treat_pileup_c3.0_cond2.bed...\n",
      "Copying gs://amlproject/Chip/knockouts_v1/diffPeaks/MV411_RNP_AAVS1-H3K27AC_R1_treat_pileup_vs_MV411_RNP_MYB-H3K27AC_R1_treat_pileup_c3.0_common.bed...\n",
      "Copying gs://amlproject/Chip/knockouts_v1/diffPeaks/MV411_RNP_AAVS1-H3K27AC_R1_treat_pileup_vs_MV411_RNP_RUNX1_RUNX2-H3K27AC_R1_treat_pileup_c3.0_common.bed...\n",
      "Copying gs://amlproject/Chip/knockouts_v1/diffPeaks/MV411_RNP_AAVS1-H3K27AC_R1_treat_pileup_vs_MV411_RNP_RUNX1_RUNX2-H3K27AC_R1_treat_pileup_c3.0_cond1.bed...\n",
      "Copying gs://amlproject/Chip/knockouts_v1/diffPeaks/MV411_RNP_AAVS1-H3K27AC_R1_treat_pileup_vs_MV411_RNP_RUNX2-H3K27AC_R1_treat_pileup_c3.0_common.bed...\n",
      "Copying gs://amlproject/Chip/knockouts_v1/diffPeaks/MV411_RNP_AAVS1-H3K27AC_R1_treat_pileup_vs_MV411_RNP_RUNX1_RUNX2-H3K27AC_R1_treat_pileup_c3.0_cond2.bed...\n",
      "Copying gs://amlproject/Chip/knockouts_v1/diffPeaks/MV411_RNP_AAVS1-H3K27AC_R1_treat_pileup_vs_MV411_RNP_RUNX2-H3K27AC_R1_treat_pileup_c3.0_cond1.bed...\n",
      "Copying gs://amlproject/Chip/knockouts_v1/diffPeaks/MV411_RNP_AAVS1-H3K27AC_R1_treat_pileup_vs_MV411_RNP_SPI1-H3K27AC_R1_treat_pileup_c3.0_common.bed...\n",
      "Copying gs://amlproject/Chip/knockouts_v1/diffPeaks/MV411_RNP_AAVS1-H3K27AC_R1_treat_pileup_vs_MV411_RNP_RUNX2-H3K27AC_R1_treat_pileup_c3.0_cond2.bed...\n",
      "Copying gs://amlproject/Chip/knockouts_v1/diffPeaks/MV411_RNP_AAVS1-H3K27AC_R1_treat_pileup_vs_MV411_RNP_SPI1-H3K27AC_R1_treat_pileup_c3.0_cond1.bed...\n",
      "Copying gs://amlproject/Chip/knockouts_v1/diffPeaks/MV411_RNP_AAVS1-H3K27AC_R1_treat_pileup_vs_MV411_RNP_SPI1-H3K27AC_R1_treat_pileup_c3.0_cond2.bed...\n",
      "Copying gs://amlproject/Chip/knockouts_v1/diffPeaks/MV411_RNP_AAVS1-H3K27AC_R2_treat_pileup_vs_MV411_RNP_IRF8-H3K27AC_R2_treat_pileup_c3.0_common.bed...\n",
      "Copying gs://amlproject/Chip/knockouts_v1/diffPeaks/MV411_RNP_AAVS1-H3K27AC_R2_treat_pileup_vs_MV411_RNP_IRF8-H3K27AC_R2_treat_pileup_c3.0_cond1.bed...\n",
      "Copying gs://amlproject/Chip/knockouts_v1/diffPeaks/MV411_RNP_AAVS1-H3K27AC_R2_treat_pileup_vs_MV411_RNP_IRF8-H3K27AC_R2_treat_pileup_c3.0_cond2.bed...\n",
      "Copying gs://amlproject/Chip/knockouts_v1/diffPeaks/MV411_RNP_AAVS1-H3K27AC_R2_treat_pileup_vs_MV411_RNP_MEF2D-H3K27AC_R2_treat_pileup_c3.0_common.bed...\n",
      "Copying gs://amlproject/Chip/knockouts_v1/diffPeaks/MV411_RNP_AAVS1-H3K27AC_R2_treat_pileup_vs_MV411_RNP_MEF2D-H3K27AC_R2_treat_pileup_c3.0_cond1.bed...\n",
      "Copying gs://amlproject/Chip/knockouts_v1/diffPeaks/MV411_RNP_AAVS1-H3K27AC_R2_treat_pileup_vs_MV411_RNP_MYB-H3K27AC_R2_treat_pileup_c3.0_common.bed...\n",
      "Copying gs://amlproject/Chip/knockouts_v1/diffPeaks/MV411_RNP_AAVS1-H3K27AC_R2_treat_pileup_vs_MV411_RNP_MEF2D-H3K27AC_R2_treat_pileup_c3.0_cond2.bed...\n",
      "Copying gs://amlproject/Chip/knockouts_v1/diffPeaks/MV411_RNP_AAVS1-H3K27AC_R2_treat_pileup_vs_MV411_RNP_MYB-H3K27AC_R2_treat_pileup_c3.0_cond1.bed...\n",
      "Copying gs://amlproject/Chip/knockouts_v1/diffPeaks/MV411_RNP_AAVS1-H3K27AC_R2_treat_pileup_vs_MV411_RNP_MYB-H3K27AC_R2_treat_pileup_c3.0_cond2.bed...\n",
      "Copying gs://amlproject/Chip/knockouts_v1/diffPeaks/MV411_RNP_AAVS1-H3K27AC_R2_treat_pileup_vs_MV411_RNP_RUNX1-H3K27AC_R2_treat_pileup_c3.0_common.bed...\n",
      "Copying gs://amlproject/Chip/knockouts_v1/diffPeaks/MV411_RNP_AAVS1-H3K27AC_R2_treat_pileup_vs_MV411_RNP_RUNX1-H3K27AC_R2_treat_pileup_c3.0_cond1.bed...\n",
      "Copying gs://amlproject/Chip/knockouts_v1/diffPeaks/MV411_RNP_AAVS1-H3K27AC_R2_treat_pileup_vs_MV411_RNP_RUNX1-H3K27AC_R2_treat_pileup_c3.0_cond2.bed...\n",
      "Copying gs://amlproject/Chip/knockouts_v1/diffPeaks/MV411_RNP_AAVS1-H3K27AC_R2_treat_pileup_vs_MV411_RNP_RUNX1_RUNX2-H3K27AC_R2_treat_pileup_c3.0_common.bed...\n",
      "Copying gs://amlproject/Chip/knockouts_v1/diffPeaks/MV411_RNP_AAVS1-H3K27AC_R2_treat_pileup_vs_MV411_RNP_RUNX1_RUNX2-H3K27AC_R2_treat_pileup_c3.0_cond1.bed...\n",
      "Copying gs://amlproject/Chip/knockouts_v1/diffPeaks/MV411_RNP_AAVS1-H3K27AC_R2_treat_pileup_vs_MV411_RNP_RUNX1_RUNX2-H3K27AC_R2_treat_pileup_c3.0_cond2.bed...\n",
      "Copying gs://amlproject/Chip/knockouts_v1/diffPeaks/MV411_RNP_AAVS1-H3K27AC_R2_treat_pileup_vs_MV411_RNP_RUNX2-H3K27AC_R2_treat_pileup_c3.0_common.bed...\n",
      "Copying gs://amlproject/Chip/knockouts_v1/diffPeaks/MV411_RNP_AAVS1-H3K27AC_R2_treat_pileup_vs_MV411_RNP_RUNX2-H3K27AC_R2_treat_pileup_c3.0_cond1.bed...\n",
      "Copying gs://amlproject/Chip/knockouts_v1/diffPeaks/MV411_RNP_AAVS1-H3K27AC_R2_treat_pileup_vs_MV411_RNP_RUNX2-H3K27AC_R2_treat_pileup_c3.0_cond2.bed...\n",
      "Copying gs://amlproject/Chip/knockouts_v1/diffPeaks/MV411_RNP_AAVS1-H3K27AC_R2_treat_pileup_vs_MV411_RNP_SPI1-H3K27AC_R2_treat_pileup_c3.0_common.bed...\n",
      "Copying gs://amlproject/Chip/knockouts_v1/diffPeaks/MV411_RNP_AAVS1-H3K27AC_R2_treat_pileup_vs_MV411_RNP_SPI1-H3K27AC_R2_treat_pileup_c3.0_cond2.bed...\n",
      "Copying gs://amlproject/Chip/knockouts_v1/diffPeaks/MYB_mat.pdf...\n",
      "Copying gs://amlproject/Chip/knockouts_v1/diffPeaks/MV411_RNP_AAVS1-H3K27AC_R2_treat_pileup_vs_MV411_RNP_SPI1-H3K27AC_R2_treat_pileup_c3.0_cond1.bed...\n",
      "Copying gs://amlproject/Chip/knockouts_v1/diffPeaks/MYB_v2_mat.gz...            \n",
      "Copying gs://amlproject/Chip/knockouts_v1/diffPeaks/MYB_v2_mat.pdf...           \n",
      "Copying gs://amlproject/Chip/knockouts_v1/diffPeaks/RUNX1_RUNX2_mat.gz...\n",
      "Copying gs://amlproject/Chip/knockouts_v1/diffPeaks/RUNX1_RUNX2_mat.pdf...      \n",
      "Copying gs://amlproject/Chip/knockouts_v1/diffPeaks/MYB_mat.gz...               \n",
      "Copying gs://amlproject/Chip/knockouts_v1/diffPeaks/RUNX1_RUNX2_v2_mat.gz...    \n",
      "Copying gs://amlproject/Chip/knockouts_v1/diffPeaks/RUNX1_mat.pdf...            \n",
      "Copying gs://amlproject/Chip/knockouts_v1/diffPeaks/RUNX1_mat.gz...\n",
      "Copying gs://amlproject/Chip/knockouts_v1/diffPeaks/RUNX2_mat.pdf...            \n",
      "Copying gs://amlproject/Chip/knockouts_v1/diffPeaks/SPI1_mat.gz...\n",
      "Copying gs://amlproject/Chip/knockouts_v1/diffPeaks/RUNX1_v2_mat.gz...\n",
      "Copying gs://amlproject/Chip/knockouts_v1/diffPeaks/RUNX1_v2_mat.pdf...\n",
      "Copying gs://amlproject/Chip/knockouts_v1/diffPeaks/RUNX1_RUNX2_v2_mat.pdf...\n",
      "Copying gs://amlproject/Chip/knockouts_v1/diffPeaks/SPI1_v2_mat.pdf...\n",
      "Copying gs://amlproject/Chip/knockouts_v1/diffPeaks/SPI1_v2_mat.gz...           \n",
      "Copying gs://amlproject/Chip/knockouts_v1/diffPeaks/RUNX2_mat.gz...\n",
      "Copying gs://amlproject/Chip/knockouts_v1/diffPeaks/RUNX2_v2_mat.pdf...         \n",
      "Copying gs://amlproject/Chip/knockouts_v1/diffPeaks/RUNX2_v2_mat.gz...          \n"
     ]
    },
    {
     "name": "stdout",
     "output_type": "stream",
     "text": [
      "- [73/73 files][  1.8 GiB/  1.8 GiB] 100% Done                                  \n",
      "Operation completed over 73 objects/1.8 GiB.                                     \n",
      "Copying gs://amlproject/Chip/knockouts_v1/diffData/MV411_RNP_AAVS1-H3K27AC_R1_control_lambda.bdg...\n",
      "Copying gs://amlproject/Chip/knockouts_v1/diffData/MV411_RNP_AAVS1-H3K27AC_R1_peaks.narrowPeak...\n",
      "Copying gs://amlproject/Chip/knockouts_v1/diffData/MV411_RNP_AAVS1-H3K27AC_R1_peaks.xls...\n",
      "Copying gs://amlproject/Chip/knockouts_v1/diffData/MV411_RNP_AAVS1-H3K27AC_R1_summits.bed...\n",
      "Copying gs://amlproject/Chip/knockouts_v1/diffData/MV411_RNP_AAVS1-H3K27AC_R1_treat_pileup.bdg...\n",
      "Copying gs://amlproject/Chip/knockouts_v1/diffData/MV411_RNP_AAVS1-H3K27AC_R2_control_lambda.bdg...\n",
      "Copying gs://amlproject/Chip/knockouts_v1/diffData/MV411_RNP_AAVS1-H3K27AC_R2_peaks.narrowPeak...\n",
      "Copying gs://amlproject/Chip/knockouts_v1/diffData/MV411_RNP_AAVS1-H3K27AC_R2_peaks.xls...\n",
      "Copying gs://amlproject/Chip/knockouts_v1/diffData/MV411_RNP_AAVS1-H3K27AC_R2_summits.bed...\n",
      "Copying gs://amlproject/Chip/knockouts_v1/diffData/MV411_RNP_AAVS1-H3K27AC_R2_treat_pileup.bdg...\n",
      "Copying gs://amlproject/Chip/knockouts_v1/diffData/MV411_RNP_IRF8-H3K27AC_R1_control_lambda.bdg...\n",
      "Copying gs://amlproject/Chip/knockouts_v1/diffData/MV411_RNP_IRF8-H3K27AC_R1_peaks.narrowPeak...\n",
      "Copying gs://amlproject/Chip/knockouts_v1/diffData/MV411_RNP_IRF8-H3K27AC_R1_peaks.xls...\n",
      "Copying gs://amlproject/Chip/knockouts_v1/diffData/MV411_RNP_IRF8-H3K27AC_R1_summits.bed...\n",
      "Copying gs://amlproject/Chip/knockouts_v1/diffData/MV411_RNP_IRF8-H3K27AC_R1_treat_pileup.bdg...\n",
      "Copying gs://amlproject/Chip/knockouts_v1/diffData/MV411_RNP_IRF8-H3K27AC_R2_control_lambda.bdg...\n",
      "Copying gs://amlproject/Chip/knockouts_v1/diffData/MV411_RNP_IRF8-H3K27AC_R2_peaks.narrowPeak...\n",
      "Copying gs://amlproject/Chip/knockouts_v1/diffData/MV411_RNP_IRF8-H3K27AC_R2_peaks.xls...\n",
      "Copying gs://amlproject/Chip/knockouts_v1/diffData/MV411_RNP_IRF8-H3K27AC_R2_summits.bed...\n",
      "Copying gs://amlproject/Chip/knockouts_v1/diffData/MV411_RNP_IRF8-H3K27AC_R2_treat_pileup.bdg...\n",
      "Copying gs://amlproject/Chip/knockouts_v1/diffData/MV411_RNP_MEF2D-H3K27AC_R1_control_lambda.bdg...\n",
      "Copying gs://amlproject/Chip/knockouts_v1/diffData/MV411_RNP_MEF2D-H3K27AC_R1_peaks.narrowPeak...\n",
      "Copying gs://amlproject/Chip/knockouts_v1/diffData/MV411_RNP_MEF2D-H3K27AC_R1_peaks.xls...\n",
      "Copying gs://amlproject/Chip/knockouts_v1/diffData/MV411_RNP_MEF2D-H3K27AC_R1_summits.bed...\n",
      "Copying gs://amlproject/Chip/knockouts_v1/diffData/MV411_RNP_MEF2D-H3K27AC_R1_treat_pileup.bdg...\n",
      "Copying gs://amlproject/Chip/knockouts_v1/diffData/MV411_RNP_MEF2D-H3K27AC_R2_control_lambda.bdg...\n",
      "Copying gs://amlproject/Chip/knockouts_v1/diffData/MV411_RNP_MEF2D-H3K27AC_R2_peaks.narrowPeak...\n",
      "Copying gs://amlproject/Chip/knockouts_v1/diffData/MV411_RNP_MEF2D-H3K27AC_R2_peaks.xls...\n",
      "Copying gs://amlproject/Chip/knockouts_v1/diffData/MV411_RNP_MEF2D-H3K27AC_R2_summits.bed...\n",
      "Copying gs://amlproject/Chip/knockouts_v1/diffData/MV411_RNP_MEF2D-H3K27AC_R2_treat_pileup.bdg...\n",
      "Copying gs://amlproject/Chip/knockouts_v1/diffData/MV411_RNP_MYB-H3K27AC_R1_control_lambda.bdg...\n",
      "Copying gs://amlproject/Chip/knockouts_v1/diffData/MV411_RNP_MYB-H3K27AC_R1_peaks.narrowPeak...\n",
      "Copying gs://amlproject/Chip/knockouts_v1/diffData/MV411_RNP_MYB-H3K27AC_R1_peaks.xls...\n",
      "Copying gs://amlproject/Chip/knockouts_v1/diffData/MV411_RNP_MYB-H3K27AC_R1_summits.bed...\n",
      "Copying gs://amlproject/Chip/knockouts_v1/diffData/MV411_RNP_MYB-H3K27AC_R1_treat_pileup.bdg...\n",
      "Copying gs://amlproject/Chip/knockouts_v1/diffData/MV411_RNP_MYB-H3K27AC_R2_control_lambda.bdg...\n",
      "Copying gs://amlproject/Chip/knockouts_v1/diffData/MV411_RNP_MYB-H3K27AC_R2_peaks.narrowPeak...\n",
      "Copying gs://amlproject/Chip/knockouts_v1/diffData/MV411_RNP_MYB-H3K27AC_R2_treat_pileup.bdg...\n",
      "Copying gs://amlproject/Chip/knockouts_v1/diffData/MV411_RNP_MYB-H3K27AC_R2_summits.bed...\n",
      "Copying gs://amlproject/Chip/knockouts_v1/diffData/MV411_RNP_MYB-H3K27AC_R2_peaks.xls...\n",
      "Copying gs://amlproject/Chip/knockouts_v1/diffData/MV411_RNP_RUNX1-H3K27AC_R1_control_lambda.bdg...\n",
      "Copying gs://amlproject/Chip/knockouts_v1/diffData/MV411_RNP_RUNX1-H3K27AC_R1_peaks.narrowPeak...\n",
      "Copying gs://amlproject/Chip/knockouts_v1/diffData/MV411_RNP_RUNX1-H3K27AC_R1_peaks.xls...\n",
      "Copying gs://amlproject/Chip/knockouts_v1/diffData/MV411_RNP_RUNX1-H3K27AC_R1_treat_pileup.bdg...\n",
      "Copying gs://amlproject/Chip/knockouts_v1/diffData/MV411_RNP_RUNX1-H3K27AC_R1_summits.bed...\n",
      "Copying gs://amlproject/Chip/knockouts_v1/diffData/MV411_RNP_RUNX1-H3K27AC_R2_peaks.narrowPeak...\n",
      "Copying gs://amlproject/Chip/knockouts_v1/diffData/MV411_RNP_RUNX1-H3K27AC_R2_control_lambda.bdg...\n",
      "Copying gs://amlproject/Chip/knockouts_v1/diffData/MV411_RNP_RUNX1-H3K27AC_R2_peaks.xls...\n",
      "Copying gs://amlproject/Chip/knockouts_v1/diffData/MV411_RNP_RUNX1-H3K27AC_R2_summits.bed...\n",
      "Copying gs://amlproject/Chip/knockouts_v1/diffData/MV411_RNP_RUNX1-H3K27AC_R2_treat_pileup.bdg...\n",
      "Copying gs://amlproject/Chip/knockouts_v1/diffData/MV411_RNP_RUNX1_RUNX2-H3K27AC_R1_control_lambda.bdg...\n",
      "Copying gs://amlproject/Chip/knockouts_v1/diffData/MV411_RNP_RUNX1_RUNX2-H3K27AC_R1_peaks.narrowPeak...\n",
      "Copying gs://amlproject/Chip/knockouts_v1/diffData/MV411_RNP_RUNX2-H3K27AC_R2_control_lambda.bdg...\n",
      "Copying gs://amlproject/Chip/knockouts_v1/diffData/MV411_RNP_RUNX1_RUNX2-H3K27AC_R1_summits.bed...\n",
      "Copying gs://amlproject/Chip/knockouts_v1/diffData/MV411_RNP_RUNX1_RUNX2-H3K27AC_R1_peaks.xls...\n",
      "Copying gs://amlproject/Chip/knockouts_v1/diffData/MV411_RNP_RUNX2-H3K27AC_R2_peaks.narrowPeak...\n",
      "Copying gs://amlproject/Chip/knockouts_v1/diffData/MV411_RNP_RUNX1_RUNX2-H3K27AC_R1_treat_pileup.bdg...\n",
      "Copying gs://amlproject/Chip/knockouts_v1/diffData/MV411_RNP_RUNX2-H3K27AC_R2_peaks.xls...\n",
      "Copying gs://amlproject/Chip/knockouts_v1/diffData/MV411_RNP_RUNX1_RUNX2-H3K27AC_R2_control_lambda.bdg...\n",
      "Copying gs://amlproject/Chip/knockouts_v1/diffData/MV411_RNP_RUNX1_RUNX2-H3K27AC_R2_peaks.narrowPeak...\n",
      "Copying gs://amlproject/Chip/knockouts_v1/diffData/MV411_RNP_RUNX1_RUNX2-H3K27AC_R2_peaks.xls...\n",
      "Copying gs://amlproject/Chip/knockouts_v1/diffData/MV411_RNP_RUNX1_RUNX2-H3K27AC_R2_summits.bed...\n",
      "Copying gs://amlproject/Chip/knockouts_v1/diffData/MV411_RNP_RUNX2-H3K27AC_R1_control_lambda.bdg...\n",
      "Copying gs://amlproject/Chip/knockouts_v1/diffData/MV411_RNP_RUNX2-H3K27AC_R2_treat_pileup.bdg...\n",
      "Copying gs://amlproject/Chip/knockouts_v1/diffData/MV411_RNP_SPI1-H3K27AC_R1_treat_pileup.bdg...\n",
      "Copying gs://amlproject/Chip/knockouts_v1/diffData/MV411_RNP_RUNX2-H3K27AC_R1_peaks.narrowPeak...\n",
      "Copying gs://amlproject/Chip/knockouts_v1/diffData/MV411_RNP_RUNX2-H3K27AC_R1_peaks.xls...\n",
      "Copying gs://amlproject/Chip/knockouts_v1/diffData/MV411_RNP_RUNX1_RUNX2-H3K27AC_R2_treat_pileup.bdg...\n",
      "Copying gs://amlproject/Chip/knockouts_v1/diffData/MV411_RNP_SPI1-H3K27AC_R2_control_lambda.bdg...\n",
      "Copying gs://amlproject/Chip/knockouts_v1/diffData/MV411_RNP_SPI1-H3K27AC_R2_peaks.narrowPeak...\n",
      "Copying gs://amlproject/Chip/knockouts_v1/diffData/MV411_RNP_RUNX2-H3K27AC_R1_summits.bed...\n",
      "Copying gs://amlproject/Chip/knockouts_v1/diffData/MV411_RNP_RUNX2-H3K27AC_R1_treat_pileup.bdg...\n",
      "Copying gs://amlproject/Chip/knockouts_v1/diffData/MV411_RNP_SPI1-H3K27AC_R2_peaks.xls...\n",
      "Copying gs://amlproject/Chip/knockouts_v1/diffData/MV411_RNP_RUNX2-H3K27AC_R2_summits.bed...\n",
      "Copying gs://amlproject/Chip/knockouts_v1/diffData/MV411_RNP_SPI1-H3K27AC_R1_control_lambda.bdg...\n",
      "Copying gs://amlproject/Chip/knockouts_v1/diffData/MV411_RNP_SPI1-H3K27AC_R1_peaks.narrowPeak...\n",
      "Copying gs://amlproject/Chip/knockouts_v1/diffData/MV411_RNP_SPI1-H3K27AC_R1_peaks.xls...\n",
      "Copying gs://amlproject/Chip/knockouts_v1/diffData/MV411_RNP_SPI1-H3K27AC_R1_summits.bed...\n",
      "Copying gs://amlproject/Chip/knockouts_v1/diffData/MV411_RNP_SPI1-H3K27AC_R2_summits.bed...\n",
      "Copying gs://amlproject/Chip/knockouts_v1/diffData/MV411_RNP_SPI1-H3K27AC_R2_treat_pileup.bdg...\n",
      "[Errno 28] No space left on deviceB]  44% Done 235.4 MiB/s ETA 00:04:35         \n",
      "[Errno 28] No space left on device\n",
      "[Errno 28] No space left on device\n",
      "[Errno 28] No space left on device\n",
      "[Errno 28] No space left on device\n",
      "[Errno 28] No space left on device\n",
      "[Errno 28] No space left on device\n",
      "[Errno 28] No space left on device\n",
      "[Errno 28] No space left on device\n",
      "[Errno 28] No space left on device\n",
      "[Errno 28] No space left on device\n",
      "[Errno 28] No space left on device\n",
      "[Errno 28] No space left on device\n",
      "[Errno 28] No space left on device\n",
      "[Errno 28] No space left on device\n",
      "[Errno 28] No space left on device\n",
      "[Errno 28] No space left on device\n",
      "[Errno 28] No space left on device\n",
      "[Errno 28] No space left on device\n",
      "[Errno 28] No space left on device\n",
      "[Errno 28] No space left on device\n",
      "[Errno 28] No space left on device\n",
      "[Errno 28] No space left on device\n",
      "[Errno 28] No space left on device\n",
      "[Errno 28] No space left on device\n",
      "[Errno 28] No space left on device\n",
      "[Errno 28] No space left on device\n",
      "[Errno 28] No space left on device\n",
      "[Errno 28] No space left on device\n",
      "[Errno 28] No space left on device\n",
      "[Errno 28] No space left on device\n",
      "[Errno 28] No space left on device\n",
      "[Errno 28] No space left on device\n",
      "[Errno 28] No space left on device\n",
      "[Errno 28] No space left on device\n",
      "[Errno 28] No space left on device\n",
      "[Errno 28] No space left on device\n",
      "[Errno 28] No space left on device\n",
      "[Errno 28] No space left on device\n",
      "[Errno 28] No space left on device\n",
      "[Errno 28] No space left on device\n",
      "[Errno 28] No space left on device\n",
      "[Errno 28] No space left on device\n",
      "[Errno 28] No space left on device\n",
      "[Errno 28] No space left on device\n",
      "[Errno 28] No space left on device\n",
      "[Errno 28] No space left on device\n",
      "[Errno 28] No space left on device\n",
      "[Errno 28] No space left on device\n",
      "[Errno 28] No space left on device\n",
      "[Errno 28] No space left on device\n",
      "[Errno 28] No space left on device\n"
     ]
    },
    {
     "name": "stdout",
     "output_type": "stream",
     "text": [
      "[Errno 28] No space left on device\n",
      "[Errno 28] No space left on device\n",
      "[Errno 28] No space left on device\n",
      "[Errno 28] No space left on device\n",
      "[Errno 28] No space left on device\n",
      "[Errno 28] No space left on device\n",
      "[Errno 28] No space left on device\n",
      "[Errno 28] No space left on device\n",
      "[Errno 28] No space left on device\n",
      "[Errno 28] No space left on device\n",
      "[Errno 28] No space left on device\n",
      "[Errno 28] No space left on device\n",
      "[Errno 28] No space left on device\n",
      "[Errno 28] No space left on device\n",
      "[Errno 28] No space left on device\n",
      "[Errno 28] No space left on device\n",
      "[Errno 28] No space left on device\n",
      "[Errno 28] No space left on device\n",
      "[Errno 28] No space left on device\n",
      "[Errno 28] No space left on device\n",
      "[Errno 28] No space left on device\n",
      "[Errno 28] No space left on device\n",
      "[Errno 28] No space left on device\n",
      "[Errno 28] No space left on device\n",
      "[Errno 28] No space left on device\n",
      "[Errno 28] No space left on device\n",
      "[Errno 28] No space left on device\n",
      "CommandException: Some components of ../../data/knockouts_v1/diffData/MV411_RNP_RUNX1-H3K27AC_R2_treat_pileup.bdg were not downloaded successfully. Please retry this download.\n",
      "CommandException: Some components of ../../data/knockouts_v1/diffData/MV411_RNP_RUNX1_RUNX2-H3K27AC_R2_control_lambda.bdg were not downloaded successfully. Please retry this download.\n",
      "CommandException: Some components of ../../data/knockouts_v1/diffData/MV411_RNP_MYB-H3K27AC_R2_control_lambda.bdg were not downloaded successfully. Please retry this download.\n",
      "CommandException: Some components of ../../data/knockouts_v1/diffData/MV411_RNP_SPI1-H3K27AC_R2_control_lambda.bdg were not downloaded successfully. Please retry this download.\n",
      "CommandException: Some components of ../../data/knockouts_v1/diffData/MV411_RNP_SPI1-H3K27AC_R1_treat_pileup.bdg were not downloaded successfully. Please retry this download.\n",
      "CommandException: Some components of ../../data/knockouts_v1/diffData/MV411_RNP_RUNX2-H3K27AC_R2_control_lambda.bdg were not downloaded successfully. Please retry this download.\n",
      "CommandException: Some components of ../../data/knockouts_v1/diffData/MV411_RNP_MEF2D-H3K27AC_R1_control_lambda.bdg were not downloaded successfully. Please retry this download.\n",
      "CommandException: Some components of ../../data/knockouts_v1/diffData/MV411_RNP_AAVS1-H3K27AC_R2_control_lambda.bdg were not downloaded successfully. Please retry this download.\n",
      "CommandException: Some components of ../../data/knockouts_v1/diffData/MV411_RNP_RUNX1-H3K27AC_R1_control_lambda.bdg were not downloaded successfully. Please retry this download.\n",
      "CommandException: Some components of ../../data/knockouts_v1/diffData/MV411_RNP_MYB-H3K27AC_R1_control_lambda.bdg were not downloaded successfully. Please retry this download.\n",
      "CommandException: Some components of ../../data/knockouts_v1/diffData/MV411_RNP_RUNX1_RUNX2-H3K27AC_R1_control_lambda.bdg were not downloaded successfully. Please retry this download.\n",
      "CommandException: Some components of ../../data/knockouts_v1/diffData/MV411_RNP_RUNX1-H3K27AC_R1_treat_pileup.bdg were not downloaded successfully. Please retry this download.\n",
      "CommandException: Some components of ../../data/knockouts_v1/diffData/MV411_RNP_IRF8-H3K27AC_R1_control_lambda.bdg were not downloaded successfully. Please retry this download.\n",
      "CommandException: Some components of ../../data/knockouts_v1/diffData/MV411_RNP_MEF2D-H3K27AC_R2_control_lambda.bdg were not downloaded successfully. Please retry this download.\n",
      "CommandException: Some components of ../../data/knockouts_v1/diffData/MV411_RNP_IRF8-H3K27AC_R2_control_lambda.bdg were not downloaded successfully. Please retry this download.\n",
      "CommandException: Some components of ../../data/knockouts_v1/diffData/MV411_RNP_RUNX1-H3K27AC_R2_control_lambda.bdg were not downloaded successfully. Please retry this download.\n",
      "CommandException: Some components of ../../data/knockouts_v1/diffData/MV411_RNP_RUNX2-H3K27AC_R2_treat_pileup.bdg were not downloaded successfully. Please retry this download.\n",
      "CommandException: Some components of ../../data/knockouts_v1/diffData/MV411_RNP_SPI1-H3K27AC_R1_control_lambda.bdg were not downloaded successfully. Please retry this download.\n",
      "CommandException: Some components of ../../data/knockouts_v1/diffData/MV411_RNP_RUNX2-H3K27AC_R1_control_lambda.bdg were not downloaded successfully. Please retry this download.\n",
      "CommandException: Some components of ../../data/knockouts_v1/diffData/MV411_RNP_AAVS1-H3K27AC_R1_control_lambda.bdg were not downloaded successfully. Please retry this download.\n",
      "CommandException: Some components of ../../data/knockouts_v1/diffData/MV411_RNP_MEF2D-H3K27AC_R2_treat_pileup.bdg were not downloaded successfully. Please retry this download.\n",
      "CommandException: 21 files/objects could not be transferred.\n",
      "CommandException: No URLs matched: gs://amlproject/Chip/knockouts_v1/diffPeaks_unscaled\n",
      "CommandException: 1 file/object could not be transferred.\n",
      "CommandException: No URLs matched: gs://amlproject/Chip/knockouts_v1/diffData_unscaled\n",
      "CommandException: 1 file/object could not be transferred.\n",
      "CommandException: No URLs matched: gs://amlproject/Chip/knockouts_v1/peakplot\n",
      "CommandException: 1 file/object could not be transferred.\n"
     ]
    }
   ],
   "source": [
    "! gsutil -m cp -r gs://amlproject/Chip/$project/diffPeaks ../../data/$project/\n",
    "! gsutil -m cp -r gs://amlproject/Chip/$project/diffData ../../data/$project/\n",
    "! gsutil -m cp -r gs://amlproject/Chip/$project/diffPeaks_unscaled ../../data/$project/\n",
    "! gsutil -m cp -r gs://amlproject/Chip/$project/diffData_unscaled ../../data/$project/\n",
    "! gsutil -m cp -r gs://amlproject/Chip/$project/peakplot ../../data/$project/"
   ]
  },
  {
   "cell_type": "code",
   "execution_count": null,
   "metadata": {},
   "outputs": [],
   "source": []
  }
 ],
 "metadata": {
  "kernelspec": {
   "display_name": "Python 3",
   "language": "python",
   "name": "python3"
  },
  "language_info": {
   "codemirror_mode": {
    "name": "ipython",
    "version": 3
   },
   "file_extension": ".py",
   "mimetype": "text/x-python",
   "name": "python",
   "nbconvert_exporter": "python",
   "pygments_lexer": "ipython3",
   "version": "3.8.3"
  },
  "latex_envs": {
   "LaTeX_envs_menu_present": true,
   "autoclose": false,
   "autocomplete": true,
   "bibliofile": "biblio.bib",
   "cite_by": "apalike",
   "current_citInitial": 1,
   "eqLabelWithNumbers": true,
   "eqNumInitial": 1,
   "hotkeys": {
    "equation": "Ctrl-E",
    "itemize": "Ctrl-I"
   },
   "labels_anchors": false,
   "latex_user_defs": false,
   "report_style_numbering": false,
   "user_envs_cfg": false
  },
  "toc": {
   "base_numbering": 1,
   "nav_menu": {},
   "number_sections": false,
   "sideBar": true,
   "skip_h1_title": false,
   "title_cell": "Table of Contents",
   "title_sidebar": "Contents",
   "toc_cell": false,
   "toc_position": {
    "height": "257.4px",
    "left": "127px",
    "top": "111.6px",
    "width": "165px"
   },
   "toc_section_display": true,
   "toc_window_display": true
  },
  "varInspector": {
   "cols": {
    "lenName": 16,
    "lenType": 16,
    "lenVar": 40
   },
   "kernels_config": {
    "python": {
     "delete_cmd_postfix": "",
     "delete_cmd_prefix": "del ",
     "library": "var_list.py",
     "varRefreshCmd": "print(var_dic_list())"
    },
    "r": {
     "delete_cmd_postfix": ") ",
     "delete_cmd_prefix": "rm(",
     "library": "var_list.r",
     "varRefreshCmd": "cat(var_dic_list()) "
    }
   },
   "types_to_exclude": [
    "module",
    "function",
    "builtin_function_or_method",
    "instance",
    "_Feature"
   ],
   "window_display": false
  }
 },
 "nbformat": 4,
 "nbformat_minor": 2
}
