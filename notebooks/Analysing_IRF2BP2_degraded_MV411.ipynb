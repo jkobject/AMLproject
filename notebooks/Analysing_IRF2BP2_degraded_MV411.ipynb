{
 "cells": [
  {
   "cell_type": "markdown",
   "metadata": {},
   "source": [
    "# IRF2BP2 CHIPS"
   ]
  },
  {
   "cell_type": "code",
   "execution_count": null,
   "metadata": {},
   "outputs": [],
   "source": [
    "import os\n",
    "from IPython.display import IFrame\n",
    "import pandas as pd\n",
    "import sys\n",
    "sys.path.append('../..')\n",
    "from JKBio.epigenetics import ChIP_helper as chip\n",
    "from JKBio import Helper as helper\n",
    "import igv\n",
    "import numpy as np\n",
    "import pyBigWig\n",
    "import itertools\n",
    "from sklearn.cluster import AgglomerativeClustering\n",
    "from sklearn.mixture import GaussianMixture\n",
    "from bokeh.plotting import *\n",
    "from sklearn.manifold import MDS, TSNE\n",
    "from sklearn.decomposition import PCA\n",
    "from sklearn.preprocessing import scale\n",
    "output_notebook()\n",
    "%load_ext autoreload\n",
    "%autoreload 2"
   ]
  },
  {
   "cell_type": "code",
   "execution_count": null,
   "metadata": {},
   "outputs": [],
   "source": [
    "bfolder = '../../data/recalib_bigwig_rep1/'\n",
    "folder = '../../data/diffBinding_rep1/diffPeaks/'"
   ]
  },
  {
   "cell_type": "code",
   "execution_count": null,
   "metadata": {},
   "outputs": [],
   "source": [
    "# Can we find a correlation between each MED1 replicate"
   ]
  },
  {
   "cell_type": "code",
   "execution_count": null,
   "metadata": {},
   "outputs": [],
   "source": [
    "ls ../../data/diffBinding_rep1/diffPeaks/MV411_IRF2BP2_DMSO_MED1*"
   ]
  },
  {
   "cell_type": "code",
   "execution_count": null,
   "metadata": {},
   "outputs": [],
   "source": [
    "ls ../../data/diffBinding_rep2/diffPeaks/mp796*"
   ]
  },
  {
   "cell_type": "code",
   "execution_count": null,
   "metadata": {},
   "outputs": [],
   "source": [
    "ls ../../data/IRF2BP2_degraded_3/diffPeaks/mp835*"
   ]
  },
  {
   "cell_type": "code",
   "execution_count": null,
   "metadata": {},
   "outputs": [],
   "source": [
    "diff1 = pd.DataFrame()\n",
    "for val in os.popen('ls ../../data/diffBinding_rep1/diffPeaks/MV411_IRF2BP2_DMSO_MED1*').read().split('\\n')[:-1]:\n",
    "    a = pd.read_csv(val, sep='\\t', header=0, names=['chr','start','end','name','val']).sort_values(by=['val'])\n",
    "    diff1 = diff1.append(a).reset_index(drop=True)"
   ]
  },
  {
   "cell_type": "code",
   "execution_count": null,
   "metadata": {},
   "outputs": [],
   "source": [
    "diff2 = pd.DataFrame()\n",
    "for val in os.popen('ls ../../data/diffBinding_rep2/diffPeaks/mp796*').read().split('\\n')[:-1]:\n",
    "    a = pd.read_csv(val, sep='\\t', header=0, names=['chr','start','end','name','val']).sort_values(by=['val'])\n",
    "    diff2 = diff2.append(a).reset_index(drop=True)"
   ]
  },
  {
   "cell_type": "code",
   "execution_count": null,
   "metadata": {},
   "outputs": [],
   "source": [
    "diff3 = pd.DataFrame()\n",
    "for val in os.popen('ls ../../data/IRF2BP2_degraded_3/diffPeaks/mp835*').read().split('\\n')[:-1]:\n",
    "    a = pd.read_csv(val, sep='\\t', header=0, names=['chr','start','end','name','val']).sort_values(by=['val'])\n",
    "    diff3 = diff3.append(a).reset_index(drop=True)"
   ]
  },
  {
   "cell_type": "code",
   "execution_count": null,
   "metadata": {},
   "outputs": [],
   "source": [
    "diff3['type'] = [val.split('_')[-2] for val in diff3.name.tolist()]\n",
    "diff2['type'] = [val.split('_')[-2] for val in diff2.name.tolist()]\n",
    "diff1['type'] = [val.split('_')[-2] for val in diff1.name.tolist()]"
   ]
  },
  {
   "cell_type": "code",
   "execution_count": null,
   "metadata": {},
   "outputs": [],
   "source": [
    "diff1"
   ]
  },
  {
   "cell_type": "code",
   "execution_count": null,
   "metadata": {},
   "outputs": [],
   "source": [
    "len(pd.read_csv('../../data/diffBinding_rep1/diffPeaks/MV411_IRF2BP2_DMSO_MED1_R1_vs_MV411_IRF2BP2_VHL_MED1_R1_c3.0_cond2.bed', sep='\\t', header=0, names=['chr','start','end','name','val']).sort_values(by=['val']))"
   ]
  },
  {
   "cell_type": "code",
   "execution_count": null,
   "metadata": {},
   "outputs": [],
   "source": [
    "diff2"
   ]
  },
  {
   "cell_type": "code",
   "execution_count": null,
   "metadata": {},
   "outputs": [],
   "source": [
    "len(pd.read_csv('../../data/diffBinding_rep2/diffPeaks/mp796_R1_vs_mp804_R1_c3.0_cond1.bed', sep='\\t', header=0, names=['chr','start','end','name','val']).sort_values(by=['val']))"
   ]
  },
  {
   "cell_type": "code",
   "execution_count": null,
   "metadata": {},
   "outputs": [],
   "source": [
    "len(pd.read_csv('../../data/diffBinding_rep2/diffPeaks/mp796_R1_vs_mp804_R1_c3.0_common.bed', sep='\\t', header=0, names=['chr','start','end','name','val']).sort_values(by=['val']))"
   ]
  },
  {
   "cell_type": "code",
   "execution_count": null,
   "metadata": {},
   "outputs": [],
   "source": [
    "diff3"
   ]
  },
  {
   "cell_type": "code",
   "execution_count": null,
   "metadata": {},
   "outputs": [],
   "source": [
    "from pybedtools import BedTool\n",
    "cm= \"../../data/diffBinding_rep1/diffPeaks/MV411_IRF2BP2_DMSO_MED1_R1_vs_MV411_IRF2BP2_VHL_MED1_R1_c3.0_common.bed\"\n",
    "cd1=\"../../data/diffBinding_rep1/diffPeaks/MV411_IRF2BP2_DMSO_MED1_R1_vs_MV411_IRF2BP2_VHL_MED1_R1_c3.0_cond1.bed\"\n",
    "cd2=\"../../data/diffBinding_rep1/diffPeaks/MV411_IRF2BP2_DMSO_MED1_R1_vs_MV411_IRF2BP2_VHL_MED1_R1_c3.0_cond2.bed\"\n",
    "merged1 = BedTool(cm).cat(BedTool(cd1), postmerge=False).cat(BedTool(cd2), postmerge=False)\n",
    "\n",
    "cm=\"../../data/IRF2BP2_degraded_3/diffPeaks/mp835-MV411_IRF2BP_DMSO_6h-MED1-r3_R1_vs_mp842-MV411_IRF2BP_VHL_6h-MED1-r3_R1_c3.0_common.bed\"\n",
    "cd1=\"../../data/IRF2BP2_degraded_3/diffPeaks/mp835-MV411_IRF2BP_DMSO_6h-MED1-r3_R1_vs_mp842-MV411_IRF2BP_VHL_6h-MED1-r3_R1_c3.0_cond1.bed\"\n",
    "cd2=\"../../data/IRF2BP2_degraded_3/diffPeaks/mp835-MV411_IRF2BP_DMSO_6h-MED1-r3_R1_vs_mp842-MV411_IRF2BP_VHL_6h-MED1-r3_R1_c3.0_cond2.bed\"\n",
    "merged3 = BedTool(cm).cat(BedTool(cd1), postmerge=False).cat(BedTool(cd2), postmerge=False)"
   ]
  },
  {
   "cell_type": "code",
   "execution_count": null,
   "metadata": {},
   "outputs": [],
   "source": [
    "len(merged1)"
   ]
  },
  {
   "cell_type": "code",
   "execution_count": null,
   "metadata": {},
   "outputs": [],
   "source": [
    "len(merged3)"
   ]
  },
  {
   "cell_type": "code",
   "execution_count": null,
   "metadata": {},
   "outputs": [],
   "source": [
    "df = merged3.intersect(merged1,wa=True,wb=True).to_dataframe(names=['chrA','startA','endA','nameA','valA','chrB','startB','endB','nameB','valB'])\n",
    "df"
   ]
  },
  {
   "cell_type": "code",
   "execution_count": null,
   "metadata": {},
   "outputs": [],
   "source": [
    "df['typeA'] = [i.split('_')[-2] for i in df['nameA']]"
   ]
  },
  {
   "cell_type": "code",
   "execution_count": null,
   "metadata": {},
   "outputs": [],
   "source": [
    "df['typeB'] = [i.split('_')[-2] for i in df['nameB']]"
   ]
  },
  {
   "cell_type": "code",
   "execution_count": null,
   "metadata": {},
   "outputs": [],
   "source": [
    "df"
   ]
  },
  {
   "cell_type": "code",
   "execution_count": null,
   "metadata": {},
   "outputs": [],
   "source": [
    "df[df.typeA=='common'][df.typeB=='common']"
   ]
  },
  {
   "cell_type": "code",
   "execution_count": null,
   "metadata": {},
   "outputs": [],
   "source": [
    "i=0\n",
    "p_valA=0\n",
    "p_valB=0\n",
    "p_valC=0\n",
    "p_valD=0\n",
    "p_valE=0\n",
    "sA=0\n",
    "sB=0\n",
    "sC=0\n",
    "sD=0\n",
    "sE=0\n",
    "for k, val in df.iterrows():\n",
    "    if (val.typeA == 'cond2' and val.typeB==\"cond1\") or (val.typeA==\"cond1\" and val.typeB==\"cond2\"):\n",
    "        i+=1\n",
    "    if val.typeA == 'common' and val.typeB in [\"cond1\",\"cond2\"]:\n",
    "        p_valA += val.valA \n",
    "        sA+=1\n",
    "        p_valD += val.valB\n",
    "        sD+=1\n",
    "    if (val.typeA == 'cond2' and val.typeB==\"cond2\") or (val.typeA==\"cond1\" and val.typeB==\"cond1\"):\n",
    "        p_valE += val.valA\n",
    "        sE+=1\n",
    "    if val.typeB == 'common' and val.typeA in [\"cond1\",\"cond2\"]:\n",
    "        p_valB += val.valB \n",
    "        sB+=1\n",
    "totpvalA = df[df.typeA=='common'][df.typeB=='common'].valA.mean()\n",
    "totpvalB = df[df.typeA=='common'][df.typeB=='common'].valB.mean()"
   ]
  },
  {
   "cell_type": "markdown",
   "metadata": {},
   "source": [
    "We can see that we don't have much opposing results (1%),\n",
    "\n",
    "We also have that there is a decrease of 10% of how likely an enhancer bound by MED1 is to be common between the two condition in replicate3 if it was not a common gene in replicate1 compared to the global average. It is 25% lower when they are considered common in both replicate.\n",
    "\n",
    "It tends to show that there is a difference at the level of the experiment but we still see some correlation (maybe do some plot)\n",
    "It is mainly due to the spike In control which had much less variable ratio in rep3. It is a clear bias of experiment 3 to have very low difference between its spikeIns. We can see that someone tried to compensate for the high variance in MED1 rep2. It was not a good idea as it bias the entire experiment"
   ]
  },
  {
   "cell_type": "code",
   "execution_count": null,
   "metadata": {},
   "outputs": [],
   "source": [
    "import numpy as np"
   ]
  },
  {
   "cell_type": "code",
   "execution_count": null,
   "metadata": {},
   "outputs": [],
   "source": [
    "p_valD/sD"
   ]
  },
  {
   "cell_type": "code",
   "execution_count": null,
   "metadata": {},
   "outputs": [],
   "source": [
    "p_valC/sC"
   ]
  },
  {
   "cell_type": "code",
   "execution_count": null,
   "metadata": {},
   "outputs": [],
   "source": [
    "p_valB/sB"
   ]
  },
  {
   "cell_type": "code",
   "execution_count": null,
   "metadata": {},
   "outputs": [],
   "source": [
    "print(' We have a percentage of opposing results of: '+ str(i/len(df))+'\\n\\n We have a decrease of '+ str((1-((p_valA/sA)/totpvalA))*100) +' of how likely an enhancer bound by MED1 is to be common between the two condition in replicate3 if it was not a common gene in replicate1 compared to the global average, for a total number of ' +str(sA)+' and a variance of '+str(np.var(p_valA))+'.\\n\\n Similarly,  It is '+ str((1-((p_valB/sB)/totpvalB))*100) +' lower when they are considered common in both replicate (with'+str(sB)+' replicates). \\n\\n This value is of '+str(p_valC/sC)+' when considering all common replicates with total number of '+str(sC)+' datapoints.\\n\\n Finally There is an increase in accuracy of '+str((((p_valD/sD)/(p_valE/sE))-1)*100)+' in confidence of overbound peaks in rep1 when these peaks are not overbound in rep3 vs when they are in both')"
   ]
  },
  {
   "cell_type": "markdown",
   "metadata": {},
   "source": [
    "let's try to make a plot (how things correlate)"
   ]
  },
  {
   "cell_type": "code",
   "execution_count": null,
   "metadata": {},
   "outputs": [],
   "source": [
    "import seaborn as sns\n",
    "sns.lmplot(data=df[df.typeA=='cond1'][df.typeB=='cond1'],x='valA',y='valB')\n",
    "sns.lmplot(data=df[df.typeA=='common'][df.typeB=='cond1'],x='valA',y='valB')\n",
    "sns.lmplot(data=df[df.typeA=='common'][df.typeB=='common'],x='valA',y='valB')\n",
    "sns.lmplot(data=df[df.typeA=='cond2'][df.typeB=='common'],x='valA',y='valB')"
   ]
  },
  {
   "cell_type": "markdown",
   "metadata": {},
   "source": [
    "As expected, plots are definitely unconclusives.."
   ]
  },
  {
   "cell_type": "markdown",
   "metadata": {},
   "source": [
    "# Making profiles plot"
   ]
  },
  {
   "cell_type": "code",
   "execution_count": null,
   "metadata": {},
   "outputs": [],
   "source": [
    "! ls -alh $folder"
   ]
  },
  {
   "cell_type": "code",
   "execution_count": null,
   "metadata": {},
   "outputs": [],
   "source": [
    "peaks = ! ls $folder"
   ]
  },
  {
   "cell_type": "code",
   "execution_count": null,
   "metadata": {},
   "outputs": [],
   "source": [
    "bigwig = ! ls $bfolder\n",
    "num = 8"
   ]
  },
  {
   "cell_type": "code",
   "execution_count": null,
   "metadata": {},
   "outputs": [],
   "source": [
    "bigwig"
   ]
  },
  {
   "cell_type": "code",
   "execution_count": null,
   "metadata": {},
   "outputs": [],
   "source": [
    "bigwig=[(bfolder+bigwig[i],bfolder+bigwig[i+num]) for i in range(num)]"
   ]
  },
  {
   "cell_type": "code",
   "execution_count": null,
   "metadata": {},
   "outputs": [],
   "source": [
    "bigwig"
   ]
  },
  {
   "cell_type": "code",
   "execution_count": null,
   "metadata": {},
   "outputs": [],
   "source": [
    "peaks = [p for p in helper.grouped([folder+p for p in peaks],3)]"
   ]
  },
  {
   "cell_type": "code",
   "execution_count": null,
   "metadata": {},
   "outputs": [],
   "source": [
    "! mkdir temp"
   ]
  },
  {
   "cell_type": "code",
   "execution_count": null,
   "metadata": {},
   "outputs": [],
   "source": [
    "cov = {}\n",
    "fig = {}\n",
    "for i,peak in enumerate(peaks):\n",
    "    p = pd.read_csv(peak[1],sep='\\t',skiprows=1,header=None,\n",
    "            names=['chrom','start','end','name','foldchange']).sort_values(by='foldchange',ascending=False).iloc[:500]\n",
    "    p2 =pd.read_csv(peak[0],sep='\\t',skiprows=1,header=None,\n",
    "            names=['chrom','start','end','name','foldchange']).iloc[:500]\n",
    "    p = p.append(p2)\n",
    "    p2 =pd.read_csv(peak[2],sep='\\t',skiprows=1,header=None,\n",
    "            names=['chrom','start','end','name','foldchange']).sort_values(by='foldchange',ascending=True).iloc[-500:]\n",
    "    p = p.append(p2)\n",
    "    \n",
    "    cov.update(chip.computePeaksAt(p,bigwig[i], window=1000, numpeaks=1500, numthreads=8,\n",
    "                   width=5, length=10, name='temp/peaksat'+str(i)+'.png', sort=False)[0])"
   ]
  },
  {
   "cell_type": "code",
   "execution_count": null,
   "metadata": {},
   "outputs": [],
   "source": [
    "for k,i in cov.items():\n",
    "    print(k, i.max())"
   ]
  },
  {
   "cell_type": "code",
   "execution_count": null,
   "metadata": {},
   "outputs": [],
   "source": [
    "pd.read_csv(peak[1],sep='\\t')"
   ]
  },
  {
   "cell_type": "code",
   "execution_count": null,
   "metadata": {},
   "outputs": [],
   "source": []
  }
 ],
 "metadata": {
  "kernelspec": {
   "display_name": "Python 3",
   "language": "python",
   "name": "python3"
  },
  "language_info": {
   "codemirror_mode": {
    "name": "ipython",
    "version": 3
   },
   "file_extension": ".py",
   "mimetype": "text/x-python",
   "name": "python",
   "nbconvert_exporter": "python",
   "pygments_lexer": "ipython3",
   "version": "3.7.6"
  },
  "toc": {
   "base_numbering": 1,
   "nav_menu": {},
   "number_sections": true,
   "sideBar": true,
   "skip_h1_title": false,
   "title_cell": "Table of Contents",
   "title_sidebar": "Contents",
   "toc_cell": false,
   "toc_position": {},
   "toc_section_display": true,
   "toc_window_display": false
  }
 },
 "nbformat": 4,
 "nbformat_minor": 2
}
