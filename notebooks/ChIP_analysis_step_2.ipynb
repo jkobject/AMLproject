{
 "cells": [
  {
   "cell_type": "markdown",
   "metadata": {
    "slideshow": {
     "slide_type": "slide"
    }
   },
   "source": [
    "# ChIP AML PiPeline V2"
   ]
  },
  {
   "cell_type": "code",
   "execution_count": 4,
   "metadata": {
    "slideshow": {
     "slide_type": "fragment"
    }
   },
   "outputs": [
    {
     "data": {
      "text/html": [
       "\n",
       "    <div class=\"bk-root\">\n",
       "        <a href=\"https://bokeh.org\" target=\"_blank\" class=\"bk-logo bk-logo-small bk-logo-notebook\"></a>\n",
       "        <span id=\"1001\">Loading BokehJS ...</span>\n",
       "    </div>"
      ]
     },
     "metadata": {},
     "output_type": "display_data"
    },
    {
     "data": {
      "application/javascript": [
       "\n",
       "(function(root) {\n",
       "  function now() {\n",
       "    return new Date();\n",
       "  }\n",
       "\n",
       "  var force = true;\n",
       "\n",
       "  if (typeof root._bokeh_onload_callbacks === \"undefined\" || force === true) {\n",
       "    root._bokeh_onload_callbacks = [];\n",
       "    root._bokeh_is_loading = undefined;\n",
       "  }\n",
       "\n",
       "  var JS_MIME_TYPE = 'application/javascript';\n",
       "  var HTML_MIME_TYPE = 'text/html';\n",
       "  var EXEC_MIME_TYPE = 'application/vnd.bokehjs_exec.v0+json';\n",
       "  var CLASS_NAME = 'output_bokeh rendered_html';\n",
       "\n",
       "  /**\n",
       "   * Render data to the DOM node\n",
       "   */\n",
       "  function render(props, node) {\n",
       "    var script = document.createElement(\"script\");\n",
       "    node.appendChild(script);\n",
       "  }\n",
       "\n",
       "  /**\n",
       "   * Handle when an output is cleared or removed\n",
       "   */\n",
       "  function handleClearOutput(event, handle) {\n",
       "    var cell = handle.cell;\n",
       "\n",
       "    var id = cell.output_area._bokeh_element_id;\n",
       "    var server_id = cell.output_area._bokeh_server_id;\n",
       "    // Clean up Bokeh references\n",
       "    if (id != null && id in Bokeh.index) {\n",
       "      Bokeh.index[id].model.document.clear();\n",
       "      delete Bokeh.index[id];\n",
       "    }\n",
       "\n",
       "    if (server_id !== undefined) {\n",
       "      // Clean up Bokeh references\n",
       "      var cmd = \"from bokeh.io.state import curstate; print(curstate().uuid_to_server['\" + server_id + \"'].get_sessions()[0].document.roots[0]._id)\";\n",
       "      cell.notebook.kernel.execute(cmd, {\n",
       "        iopub: {\n",
       "          output: function(msg) {\n",
       "            var id = msg.content.text.trim();\n",
       "            if (id in Bokeh.index) {\n",
       "              Bokeh.index[id].model.document.clear();\n",
       "              delete Bokeh.index[id];\n",
       "            }\n",
       "          }\n",
       "        }\n",
       "      });\n",
       "      // Destroy server and session\n",
       "      var cmd = \"import bokeh.io.notebook as ion; ion.destroy_server('\" + server_id + \"')\";\n",
       "      cell.notebook.kernel.execute(cmd);\n",
       "    }\n",
       "  }\n",
       "\n",
       "  /**\n",
       "   * Handle when a new output is added\n",
       "   */\n",
       "  function handleAddOutput(event, handle) {\n",
       "    var output_area = handle.output_area;\n",
       "    var output = handle.output;\n",
       "\n",
       "    // limit handleAddOutput to display_data with EXEC_MIME_TYPE content only\n",
       "    if ((output.output_type != \"display_data\") || (!output.data.hasOwnProperty(EXEC_MIME_TYPE))) {\n",
       "      return\n",
       "    }\n",
       "\n",
       "    var toinsert = output_area.element.find(\".\" + CLASS_NAME.split(' ')[0]);\n",
       "\n",
       "    if (output.metadata[EXEC_MIME_TYPE][\"id\"] !== undefined) {\n",
       "      toinsert[toinsert.length - 1].firstChild.textContent = output.data[JS_MIME_TYPE];\n",
       "      // store reference to embed id on output_area\n",
       "      output_area._bokeh_element_id = output.metadata[EXEC_MIME_TYPE][\"id\"];\n",
       "    }\n",
       "    if (output.metadata[EXEC_MIME_TYPE][\"server_id\"] !== undefined) {\n",
       "      var bk_div = document.createElement(\"div\");\n",
       "      bk_div.innerHTML = output.data[HTML_MIME_TYPE];\n",
       "      var script_attrs = bk_div.children[0].attributes;\n",
       "      for (var i = 0; i < script_attrs.length; i++) {\n",
       "        toinsert[toinsert.length - 1].firstChild.setAttribute(script_attrs[i].name, script_attrs[i].value);\n",
       "      }\n",
       "      // store reference to server id on output_area\n",
       "      output_area._bokeh_server_id = output.metadata[EXEC_MIME_TYPE][\"server_id\"];\n",
       "    }\n",
       "  }\n",
       "\n",
       "  function register_renderer(events, OutputArea) {\n",
       "\n",
       "    function append_mime(data, metadata, element) {\n",
       "      // create a DOM node to render to\n",
       "      var toinsert = this.create_output_subarea(\n",
       "        metadata,\n",
       "        CLASS_NAME,\n",
       "        EXEC_MIME_TYPE\n",
       "      );\n",
       "      this.keyboard_manager.register_events(toinsert);\n",
       "      // Render to node\n",
       "      var props = {data: data, metadata: metadata[EXEC_MIME_TYPE]};\n",
       "      render(props, toinsert[toinsert.length - 1]);\n",
       "      element.append(toinsert);\n",
       "      return toinsert\n",
       "    }\n",
       "\n",
       "    /* Handle when an output is cleared or removed */\n",
       "    events.on('clear_output.CodeCell', handleClearOutput);\n",
       "    events.on('delete.Cell', handleClearOutput);\n",
       "\n",
       "    /* Handle when a new output is added */\n",
       "    events.on('output_added.OutputArea', handleAddOutput);\n",
       "\n",
       "    /**\n",
       "     * Register the mime type and append_mime function with output_area\n",
       "     */\n",
       "    OutputArea.prototype.register_mime_type(EXEC_MIME_TYPE, append_mime, {\n",
       "      /* Is output safe? */\n",
       "      safe: true,\n",
       "      /* Index of renderer in `output_area.display_order` */\n",
       "      index: 0\n",
       "    });\n",
       "  }\n",
       "\n",
       "  // register the mime type if in Jupyter Notebook environment and previously unregistered\n",
       "  if (root.Jupyter !== undefined) {\n",
       "    var events = require('base/js/events');\n",
       "    var OutputArea = require('notebook/js/outputarea').OutputArea;\n",
       "\n",
       "    if (OutputArea.prototype.mime_types().indexOf(EXEC_MIME_TYPE) == -1) {\n",
       "      register_renderer(events, OutputArea);\n",
       "    }\n",
       "  }\n",
       "\n",
       "  \n",
       "  if (typeof (root._bokeh_timeout) === \"undefined\" || force === true) {\n",
       "    root._bokeh_timeout = Date.now() + 5000;\n",
       "    root._bokeh_failed_load = false;\n",
       "  }\n",
       "\n",
       "  var NB_LOAD_WARNING = {'data': {'text/html':\n",
       "     \"<div style='background-color: #fdd'>\\n\"+\n",
       "     \"<p>\\n\"+\n",
       "     \"BokehJS does not appear to have successfully loaded. If loading BokehJS from CDN, this \\n\"+\n",
       "     \"may be due to a slow or bad network connection. Possible fixes:\\n\"+\n",
       "     \"</p>\\n\"+\n",
       "     \"<ul>\\n\"+\n",
       "     \"<li>re-rerun `output_notebook()` to attempt to load from CDN again, or</li>\\n\"+\n",
       "     \"<li>use INLINE resources instead, as so:</li>\\n\"+\n",
       "     \"</ul>\\n\"+\n",
       "     \"<code>\\n\"+\n",
       "     \"from bokeh.resources import INLINE\\n\"+\n",
       "     \"output_notebook(resources=INLINE)\\n\"+\n",
       "     \"</code>\\n\"+\n",
       "     \"</div>\"}};\n",
       "\n",
       "  function display_loaded() {\n",
       "    var el = document.getElementById(\"1001\");\n",
       "    if (el != null) {\n",
       "      el.textContent = \"BokehJS is loading...\";\n",
       "    }\n",
       "    if (root.Bokeh !== undefined) {\n",
       "      if (el != null) {\n",
       "        el.textContent = \"BokehJS \" + root.Bokeh.version + \" successfully loaded.\";\n",
       "      }\n",
       "    } else if (Date.now() < root._bokeh_timeout) {\n",
       "      setTimeout(display_loaded, 100)\n",
       "    }\n",
       "  }\n",
       "\n",
       "\n",
       "  function run_callbacks() {\n",
       "    try {\n",
       "      root._bokeh_onload_callbacks.forEach(function(callback) {\n",
       "        if (callback != null)\n",
       "          callback();\n",
       "      });\n",
       "    } finally {\n",
       "      delete root._bokeh_onload_callbacks\n",
       "    }\n",
       "    console.debug(\"Bokeh: all callbacks have finished\");\n",
       "  }\n",
       "\n",
       "  function load_libs(css_urls, js_urls, callback) {\n",
       "    if (css_urls == null) css_urls = [];\n",
       "    if (js_urls == null) js_urls = [];\n",
       "\n",
       "    root._bokeh_onload_callbacks.push(callback);\n",
       "    if (root._bokeh_is_loading > 0) {\n",
       "      console.debug(\"Bokeh: BokehJS is being loaded, scheduling callback at\", now());\n",
       "      return null;\n",
       "    }\n",
       "    if (js_urls == null || js_urls.length === 0) {\n",
       "      run_callbacks();\n",
       "      return null;\n",
       "    }\n",
       "    console.debug(\"Bokeh: BokehJS not loaded, scheduling load and callback at\", now());\n",
       "    root._bokeh_is_loading = css_urls.length + js_urls.length;\n",
       "\n",
       "    function on_load() {\n",
       "      root._bokeh_is_loading--;\n",
       "      if (root._bokeh_is_loading === 0) {\n",
       "        console.debug(\"Bokeh: all BokehJS libraries/stylesheets loaded\");\n",
       "        run_callbacks()\n",
       "      }\n",
       "    }\n",
       "\n",
       "    function on_error() {\n",
       "      console.error(\"failed to load \" + url);\n",
       "    }\n",
       "\n",
       "    for (var i = 0; i < css_urls.length; i++) {\n",
       "      var url = css_urls[i];\n",
       "      const element = document.createElement(\"link\");\n",
       "      element.onload = on_load;\n",
       "      element.onerror = on_error;\n",
       "      element.rel = \"stylesheet\";\n",
       "      element.type = \"text/css\";\n",
       "      element.href = url;\n",
       "      console.debug(\"Bokeh: injecting link tag for BokehJS stylesheet: \", url);\n",
       "      document.body.appendChild(element);\n",
       "    }\n",
       "\n",
       "    for (var i = 0; i < js_urls.length; i++) {\n",
       "      var url = js_urls[i];\n",
       "      var element = document.createElement('script');\n",
       "      element.onload = on_load;\n",
       "      element.onerror = on_error;\n",
       "      element.async = false;\n",
       "      element.src = url;\n",
       "      console.debug(\"Bokeh: injecting script tag for BokehJS library: \", url);\n",
       "      document.head.appendChild(element);\n",
       "    }\n",
       "  };var element = document.getElementById(\"1001\");\n",
       "  if (element == null) {\n",
       "    console.error(\"Bokeh: ERROR: autoload.js configured with elementid '1001' but no matching script tag was found. \")\n",
       "    return false;\n",
       "  }\n",
       "\n",
       "  function inject_raw_css(css) {\n",
       "    const element = document.createElement(\"style\");\n",
       "    element.appendChild(document.createTextNode(css));\n",
       "    document.body.appendChild(element);\n",
       "  }\n",
       "\n",
       "  \n",
       "  var js_urls = [\"https://cdn.pydata.org/bokeh/release/bokeh-1.4.0.min.js\", \"https://cdn.pydata.org/bokeh/release/bokeh-widgets-1.4.0.min.js\", \"https://cdn.pydata.org/bokeh/release/bokeh-tables-1.4.0.min.js\", \"https://cdn.pydata.org/bokeh/release/bokeh-gl-1.4.0.min.js\"];\n",
       "  var css_urls = [];\n",
       "  \n",
       "\n",
       "  var inline_js = [\n",
       "    function(Bokeh) {\n",
       "      Bokeh.set_log_level(\"info\");\n",
       "    },\n",
       "    function(Bokeh) {\n",
       "    \n",
       "    \n",
       "    }\n",
       "  ];\n",
       "\n",
       "  function run_inline_js() {\n",
       "    \n",
       "    if (root.Bokeh !== undefined || force === true) {\n",
       "      \n",
       "    for (var i = 0; i < inline_js.length; i++) {\n",
       "      inline_js[i].call(root, root.Bokeh);\n",
       "    }\n",
       "    if (force === true) {\n",
       "        display_loaded();\n",
       "      }} else if (Date.now() < root._bokeh_timeout) {\n",
       "      setTimeout(run_inline_js, 100);\n",
       "    } else if (!root._bokeh_failed_load) {\n",
       "      console.log(\"Bokeh: BokehJS failed to load within specified timeout.\");\n",
       "      root._bokeh_failed_load = true;\n",
       "    } else if (force !== true) {\n",
       "      var cell = $(document.getElementById(\"1001\")).parents('.cell').data().cell;\n",
       "      cell.output_area.append_execute_result(NB_LOAD_WARNING)\n",
       "    }\n",
       "\n",
       "  }\n",
       "\n",
       "  if (root._bokeh_is_loading === 0) {\n",
       "    console.debug(\"Bokeh: BokehJS loaded, going straight to plotting\");\n",
       "    run_inline_js();\n",
       "  } else {\n",
       "    load_libs(css_urls, js_urls, function() {\n",
       "      console.debug(\"Bokeh: BokehJS plotting callback run at\", now());\n",
       "      run_inline_js();\n",
       "    });\n",
       "  }\n",
       "}(window));"
      ],
      "application/vnd.bokehjs_load.v0+json": "\n(function(root) {\n  function now() {\n    return new Date();\n  }\n\n  var force = true;\n\n  if (typeof root._bokeh_onload_callbacks === \"undefined\" || force === true) {\n    root._bokeh_onload_callbacks = [];\n    root._bokeh_is_loading = undefined;\n  }\n\n  \n\n  \n  if (typeof (root._bokeh_timeout) === \"undefined\" || force === true) {\n    root._bokeh_timeout = Date.now() + 5000;\n    root._bokeh_failed_load = false;\n  }\n\n  var NB_LOAD_WARNING = {'data': {'text/html':\n     \"<div style='background-color: #fdd'>\\n\"+\n     \"<p>\\n\"+\n     \"BokehJS does not appear to have successfully loaded. If loading BokehJS from CDN, this \\n\"+\n     \"may be due to a slow or bad network connection. Possible fixes:\\n\"+\n     \"</p>\\n\"+\n     \"<ul>\\n\"+\n     \"<li>re-rerun `output_notebook()` to attempt to load from CDN again, or</li>\\n\"+\n     \"<li>use INLINE resources instead, as so:</li>\\n\"+\n     \"</ul>\\n\"+\n     \"<code>\\n\"+\n     \"from bokeh.resources import INLINE\\n\"+\n     \"output_notebook(resources=INLINE)\\n\"+\n     \"</code>\\n\"+\n     \"</div>\"}};\n\n  function display_loaded() {\n    var el = document.getElementById(\"1001\");\n    if (el != null) {\n      el.textContent = \"BokehJS is loading...\";\n    }\n    if (root.Bokeh !== undefined) {\n      if (el != null) {\n        el.textContent = \"BokehJS \" + root.Bokeh.version + \" successfully loaded.\";\n      }\n    } else if (Date.now() < root._bokeh_timeout) {\n      setTimeout(display_loaded, 100)\n    }\n  }\n\n\n  function run_callbacks() {\n    try {\n      root._bokeh_onload_callbacks.forEach(function(callback) {\n        if (callback != null)\n          callback();\n      });\n    } finally {\n      delete root._bokeh_onload_callbacks\n    }\n    console.debug(\"Bokeh: all callbacks have finished\");\n  }\n\n  function load_libs(css_urls, js_urls, callback) {\n    if (css_urls == null) css_urls = [];\n    if (js_urls == null) js_urls = [];\n\n    root._bokeh_onload_callbacks.push(callback);\n    if (root._bokeh_is_loading > 0) {\n      console.debug(\"Bokeh: BokehJS is being loaded, scheduling callback at\", now());\n      return null;\n    }\n    if (js_urls == null || js_urls.length === 0) {\n      run_callbacks();\n      return null;\n    }\n    console.debug(\"Bokeh: BokehJS not loaded, scheduling load and callback at\", now());\n    root._bokeh_is_loading = css_urls.length + js_urls.length;\n\n    function on_load() {\n      root._bokeh_is_loading--;\n      if (root._bokeh_is_loading === 0) {\n        console.debug(\"Bokeh: all BokehJS libraries/stylesheets loaded\");\n        run_callbacks()\n      }\n    }\n\n    function on_error() {\n      console.error(\"failed to load \" + url);\n    }\n\n    for (var i = 0; i < css_urls.length; i++) {\n      var url = css_urls[i];\n      const element = document.createElement(\"link\");\n      element.onload = on_load;\n      element.onerror = on_error;\n      element.rel = \"stylesheet\";\n      element.type = \"text/css\";\n      element.href = url;\n      console.debug(\"Bokeh: injecting link tag for BokehJS stylesheet: \", url);\n      document.body.appendChild(element);\n    }\n\n    for (var i = 0; i < js_urls.length; i++) {\n      var url = js_urls[i];\n      var element = document.createElement('script');\n      element.onload = on_load;\n      element.onerror = on_error;\n      element.async = false;\n      element.src = url;\n      console.debug(\"Bokeh: injecting script tag for BokehJS library: \", url);\n      document.head.appendChild(element);\n    }\n  };var element = document.getElementById(\"1001\");\n  if (element == null) {\n    console.error(\"Bokeh: ERROR: autoload.js configured with elementid '1001' but no matching script tag was found. \")\n    return false;\n  }\n\n  function inject_raw_css(css) {\n    const element = document.createElement(\"style\");\n    element.appendChild(document.createTextNode(css));\n    document.body.appendChild(element);\n  }\n\n  \n  var js_urls = [\"https://cdn.pydata.org/bokeh/release/bokeh-1.4.0.min.js\", \"https://cdn.pydata.org/bokeh/release/bokeh-widgets-1.4.0.min.js\", \"https://cdn.pydata.org/bokeh/release/bokeh-tables-1.4.0.min.js\", \"https://cdn.pydata.org/bokeh/release/bokeh-gl-1.4.0.min.js\"];\n  var css_urls = [];\n  \n\n  var inline_js = [\n    function(Bokeh) {\n      Bokeh.set_log_level(\"info\");\n    },\n    function(Bokeh) {\n    \n    \n    }\n  ];\n\n  function run_inline_js() {\n    \n    if (root.Bokeh !== undefined || force === true) {\n      \n    for (var i = 0; i < inline_js.length; i++) {\n      inline_js[i].call(root, root.Bokeh);\n    }\n    if (force === true) {\n        display_loaded();\n      }} else if (Date.now() < root._bokeh_timeout) {\n      setTimeout(run_inline_js, 100);\n    } else if (!root._bokeh_failed_load) {\n      console.log(\"Bokeh: BokehJS failed to load within specified timeout.\");\n      root._bokeh_failed_load = true;\n    } else if (force !== true) {\n      var cell = $(document.getElementById(\"1001\")).parents('.cell').data().cell;\n      cell.output_area.append_execute_result(NB_LOAD_WARNING)\n    }\n\n  }\n\n  if (root._bokeh_is_loading === 0) {\n    console.debug(\"Bokeh: BokehJS loaded, going straight to plotting\");\n    run_inline_js();\n  } else {\n    load_libs(css_urls, js_urls, function() {\n      console.debug(\"Bokeh: BokehJS plotting callback run at\", now());\n      run_inline_js();\n    });\n  }\n}(window));"
     },
     "metadata": {},
     "output_type": "display_data"
    }
   ],
   "source": [
    "import os\n",
    "from IPython.display import IFrame\n",
    "import pandas as pd\n",
    "import sys\n",
    "sys.path.insert(0, '../..')\n",
    "from JKBio.epigenetics import ChIP_helper as chiphelper\n",
    "from JKBio import Helper as helper\n",
    "import igv\n",
    "import numpy as np\n",
    "import pyBigWig\n",
    "import itertools\n",
    "from sklearn.cluster import AgglomerativeClustering\n",
    "from sklearn.mixture import GaussianMixture\n",
    "from bokeh.plotting import *\n",
    "from sklearn.manifold import MDS, TSNE\n",
    "from sklearn.decomposition import PCA\n",
    "from sklearn.preprocessing import scale\n",
    "output_notebook()\n",
    "%load_ext autoreload\n",
    "%autoreload 2"
   ]
  },
  {
   "cell_type": "markdown",
   "metadata": {
    "slideshow": {
     "slide_type": "skip"
    }
   },
   "source": [
    "## adding the data bucket to path"
   ]
  },
  {
   "cell_type": "code",
   "execution_count": null,
   "metadata": {
    "slideshow": {
     "slide_type": "skip"
    }
   },
   "outputs": [],
   "source": [
    "! gcsfuse --only-dir Chip_AML jkobject data/seqs"
   ]
  },
  {
   "cell_type": "markdown",
   "metadata": {
    "slideshow": {
     "slide_type": "slide"
    }
   },
   "source": [
    "## doing nextflow analysis"
   ]
  },
  {
   "cell_type": "code",
   "execution_count": null,
   "metadata": {
    "slideshow": {
     "slide_type": "subslide"
    }
   },
   "outputs": [],
   "source": [
    "singleend, pairedend = chiphelper.extractPairedSingleEndFrom('data/seqs')"
   ]
  },
  {
   "cell_type": "markdown",
   "metadata": {
    "slideshow": {
     "slide_type": "slide"
    }
   },
   "source": [
    "## Pipeline\n",
    "\n",
    "![](images/gcpjup.png)\n",
    "\n",
    "\n",
    "- Raw read QC (FastQC)\n",
    "- Adapter trimming (Trim Galore!)\n",
    "- Alignment (BWA)\n",
    "- Mark duplicates (picard)\n",
    "- Merge alignments from multiple libraries of the same sample (picard)\n",
    "- Re-mark duplicates (picard)\n",
    "- Filtering to remove: blacklisted regions, duplicates, primary alignments,unmapped,multiple locations, containing >  4 mismatches, insert size > 2kb, map to different chromosomes \n",
    "- Alignment-level QC and estimation of library complexity (picard, Preseq)\n",
    "- Create normalised bigWig files scaled to 1 million mapped reads (BEDTools, bedGraphToBigWig)\n",
    "- Generate gene-body meta-profile from bigWig files (deepTools)\n",
    "- Calculate genome-wide IP enrichment relative to control (deepTools)\n",
    "- Calculate strand cross-correlation peak and ChIP-seq quality measures including NSC and RSC (phantompeakqualtools)\n",
    "- Call broad/narrow peaks (MACS2)\n",
    "- Annotate peaks relative to gene features (HOMER)\n",
    "- Create consensus peakset across all samples and create tabular file to aid in the filtering of the data (BEDTools)\n",
    "- Count reads in consensus peaks (featureCounts)\n",
    "\n",
    "![](images/nfcore.png)\n"
   ]
  },
  {
   "cell_type": "code",
   "execution_count": null,
   "metadata": {},
   "outputs": [],
   "source": [
    "! nextflow cloud create 'JKcluster' -c 4"
   ]
  },
  {
   "cell_type": "code",
   "execution_count": null,
   "metadata": {
    "slideshow": {
     "slide_type": "fragment"
    }
   },
   "outputs": [],
   "source": [
    "! nextflow cloud create jkcluster -c \"nextflow/nextflow.config\" 40 && \\\n",
    "nextflow nf-core/chipseq -c \"nextflow/nextflow.config\" \\\n",
    "--singleEnd \\\n",
    "--seq_center 'DFCI' \\\n",
    "--email 'jkobject@gmail.com' \\\n",
    "--bucket-dir 'gs://jkobject/Chip_AML/nextflow/CHIPprocess_2/' \\\n",
    "--keyfile '~/jkobject-b6f1adaffcb8.json' \\\n",
    "--projectname 'jkobject' \\\n",
    "--zone 'us-east1-b' \\\n",
    "--skipDiffAnalysis \\\n",
    "--narrowPeak \\\n",
    "--design \"nextflow/design.csv\" \\ \n",
    "--genome 'GRCh38' \\\n",
    "--profile gcp \\\n",
    "--resume \\\n",
    "--skipPreseq \\\n",
    "--max_cpus 8 && \\\n",
    "nextflow cloud shutdown jkclustert"
   ]
  },
  {
   "cell_type": "markdown",
   "metadata": {
    "slideshow": {
     "slide_type": "slide"
    }
   },
   "source": [
    "## displayingPeaks"
   ]
  },
  {
   "cell_type": "code",
   "execution_count": null,
   "metadata": {},
   "outputs": [],
   "source": [
    "!gsutil -m cp -r gs://amlproject/Chip/results/bwa/mergedLibrary/macs/narrowPeak/ ../data"
   ]
  },
  {
   "cell_type": "code",
   "execution_count": null,
   "metadata": {},
   "outputs": [],
   "source": [
    "!gsutil -m cp -r gs://amlproject/Chip/results/bwa/mergedLibrary/bigwig/ ../../data"
   ]
  },
  {
   "cell_type": "code",
   "execution_count": null,
   "metadata": {},
   "outputs": [],
   "source": [
    "!cp ../../data/narrowPeak/*MV411*.narrowPeak ../../data/MV4narrow"
   ]
  },
  {
   "cell_type": "code",
   "execution_count": 10,
   "metadata": {},
   "outputs": [
    {
     "data": {
      "text/plain": [
       "['MV411_1_106_R1_peaks.narrowPeak',\n",
       " 'MV411_1_115_R1_peaks.narrowPeak',\n",
       " 'MV411_1_117_R1_peaks.narrowPeak',\n",
       " 'MV411_1_118_R1_peaks.narrowPeak',\n",
       " 'MV411_1_137_R1_peaks.narrowPeak',\n",
       " 'MV411_1_138_R1_peaks.narrowPeak',\n",
       " 'MV411_1_293_R1_peaks.narrowPeak',\n",
       " 'MV411_1_319_R1_peaks.narrowPeak',\n",
       " 'MV411_1_320_R1_peaks.narrowPeak',\n",
       " 'MV411_1_324_R1_peaks.narrowPeak',\n",
       " 'MV411_1_357_R1_peaks.narrowPeak',\n",
       " 'MV411_1_359_R1_peaks.narrowPeak',\n",
       " 'MV411_1_430_R1_peaks.narrowPeak',\n",
       " 'MV411_1_433_R1_peaks.narrowPeak',\n",
       " 'MV411_1_565_R1_peaks.narrowPeak',\n",
       " 'MV411_1_570_R1_peaks.narrowPeak',\n",
       " 'MV411_1_577_R1_peaks.narrowPeak',\n",
       " 'MV411_1_581_R1_peaks.narrowPeak',\n",
       " 'MV411_1_582_R1_peaks.narrowPeak',\n",
       " 'MV411_1_583_R1_peaks.narrowPeak',\n",
       " 'MV411_1_587_R1_peaks.narrowPeak',\n",
       " 'MV411_1_590_R1_peaks.narrowPeak',\n",
       " 'MV411_1_601_R1_peaks.narrowPeak',\n",
       " 'MV411_1_639_R1_peaks.narrowPeak',\n",
       " 'MV411_1_640_R1_peaks.narrowPeak',\n",
       " 'MV411_1_650_R1_peaks.narrowPeak',\n",
       " 'MV411_1_70_R1_peaks.narrowPeak',\n",
       " 'MV411_1_71_R1_peaks.narrowPeak',\n",
       " 'MV411_1_72_R1_peaks.narrowPeak',\n",
       " 'MV411_1_767_R1_peaks.narrowPeak',\n",
       " 'MV411_1_771_R1_peaks.narrowPeak',\n",
       " 'MV411_1_773_R1_peaks.narrowPeak',\n",
       " 'MV411_1_89_R1_peaks.narrowPeak',\n",
       " 'MV411_2_112_R1_peaks.narrowPeak',\n",
       " 'MV411_2_116_R1_peaks.narrowPeak',\n",
       " 'MV411_2_129_R1_peaks.narrowPeak',\n",
       " 'MV411_2_301_R1_peaks.narrowPeak',\n",
       " 'MV411_2_325_R1_peaks.narrowPeak',\n",
       " 'MV411_2_358_R1_peaks.narrowPeak',\n",
       " 'MV411_2_427_R1_peaks.narrowPeak',\n",
       " 'MV411_2_429_R1_peaks.narrowPeak',\n",
       " 'MV411_2_431_R1_peaks.narrowPeak',\n",
       " 'MV411_2_435_R1_peaks.narrowPeak',\n",
       " 'MV411_2_584_R1_peaks.narrowPeak',\n",
       " 'MV411_2_604_R1_peaks.narrowPeak',\n",
       " 'MV411_2_614_R1_peaks.narrowPeak',\n",
       " 'MV411_2_768_R1_peaks.narrowPeak',\n",
       " 'MV411_2_770_R1_peaks.narrowPeak',\n",
       " 'MV411_2_772_R1_peaks.narrowPeak',\n",
       " 'MV411_2_774_R1_peaks.narrowPeak',\n",
       " 'MV411_2_88_R1_peaks.narrowPeak',\n",
       " 'MV411_3_136_R1_peaks.narrowPeak',\n",
       " 'MV411_3_299_R1_peaks.narrowPeak',\n",
       " 'MV411_3_300_R1_peaks.narrowPeak',\n",
       " 'MV411_3_425_R1_peaks.narrowPeak',\n",
       " 'MV411_3_426_R1_peaks.narrowPeak',\n",
       " 'MV411_3_428_R1_peaks.narrowPeak',\n",
       " 'MV411_3_568_R1_peaks.narrowPeak',\n",
       " 'MV411_3_575_R1_peaks.narrowPeak',\n",
       " 'MV411_3_585_R1_peaks.narrowPeak',\n",
       " 'MV411_3_607_R1_peaks.narrowPeak',\n",
       " 'MV411_3_623_R1_peaks.narrowPeak',\n",
       " 'MV411_4_321_R1_peaks.narrowPeak',\n",
       " 'MV411_4_424_R1_peaks.narrowPeak',\n",
       " 'MV411_4_569_R1_peaks.narrowPeak',\n",
       " 'MV411_4_627_R1_peaks.narrowPeak',\n",
       " 'MV411_4_717_R1_peaks.narrowPeak',\n",
       " 'MV411_5_589_R1_peaks.narrowPeak',\n",
       " 'MV411_6_763_R1_peaks.narrowPeak',\n",
       " 'MV411_7_714_R1_peaks.narrowPeak',\n",
       " 'MV411_7_764_R1_peaks.narrowPeak',\n",
       " 'MV411_8_715_R1_peaks.narrowPeak',\n",
       " 'MV411_8_765_R1_peaks.narrowPeak',\n",
       " 'MV411_9_716_R1_peaks.narrowPeak',\n",
       " 'MV411_9_718_R1_peaks.narrowPeak']"
      ]
     },
     "execution_count": 10,
     "metadata": {},
     "output_type": "execute_result"
    }
   ],
   "source": [
    "peaks = !ls ../../data/MV4narrow\n",
    "peaks"
   ]
  },
  {
   "cell_type": "code",
   "execution_count": 17,
   "metadata": {},
   "outputs": [],
   "source": [
    "bindings = chiphelper.loadNarrowPeaks('../../data/MV4narrow/', isMacs=False,skiprows=1)"
   ]
  },
  {
   "cell_type": "code",
   "execution_count": 6,
   "metadata": {
    "slideshow": {
     "slide_type": "slide"
    }
   },
   "outputs": [],
   "source": [
    "SEgenes = pd.read_csv('../data/SEgenes.csv')\n",
    "CTF = pd.read_csv('../data/CTF.csv', header=None)[0].tolist()"
   ]
  },
  {
   "cell_type": "code",
   "execution_count": 7,
   "metadata": {},
   "outputs": [
    {
     "data": {
      "text/plain": [
       "['MYC',\n",
       " 'MYB',\n",
       " 'SPI1',\n",
       " 'RUNX1',\n",
       " 'GSE1',\n",
       " 'IRF2BP2',\n",
       " 'FLI1',\n",
       " 'ELF2',\n",
       " 'ZEB2',\n",
       " 'IKAROS',\n",
       " 'GFI1',\n",
       " 'LMO2',\n",
       " 'CEBPA',\n",
       " 'MEF2D',\n",
       " 'MEF2C',\n",
       " 'IRF8',\n",
       " 'MEIS1',\n",
       " 'RUNX2',\n",
       " 'ETV6',\n",
       " 'LDB1',\n",
       " 'RUNX2',\n",
       " 'SP1',\n",
       " 'ZMYND8',\n",
       " 'GATA2',\n",
       " 'IKZF1',\n",
       " 'LYL1',\n",
       " 'PU1',\n",
       " 'SMC1']"
      ]
     },
     "execution_count": 7,
     "metadata": {},
     "output_type": "execute_result"
    }
   ],
   "source": [
    "CTF.extend(['GATA2','IKZF1','LYL1' ,'PU1','SMC1'])\n",
    "CTF"
   ]
  },
  {
   "cell_type": "code",
   "execution_count": 8,
   "metadata": {
    "scrolled": true
   },
   "outputs": [
    {
     "data": {
      "text/html": [
       "<div>\n",
       "<style scoped>\n",
       "    .dataframe tbody tr th:only-of-type {\n",
       "        vertical-align: middle;\n",
       "    }\n",
       "\n",
       "    .dataframe tbody tr th {\n",
       "        vertical-align: top;\n",
       "    }\n",
       "\n",
       "    .dataframe thead th {\n",
       "        text-align: right;\n",
       "    }\n",
       "</style>\n",
       "<table border=\"1\" class=\"dataframe\">\n",
       "  <thead>\n",
       "    <tr style=\"text-align: right;\">\n",
       "      <th></th>\n",
       "      <th>id</th>\n",
       "      <th>cell line</th>\n",
       "      <th>replicate</th>\n",
       "      <th>quality</th>\n",
       "      <th>protein</th>\n",
       "      <th>matching input name</th>\n",
       "      <th>processed</th>\n",
       "      <th>name</th>\n",
       "      <th>bigwig</th>\n",
       "      <th>compensated wigs</th>\n",
       "      <th>...</th>\n",
       "      <th>diffPeaks</th>\n",
       "      <th>individual QC</th>\n",
       "      <th>FLAGTOCOMP</th>\n",
       "      <th>total reads</th>\n",
       "      <th>mapped reads (hg38)</th>\n",
       "      <th>unique mapped reads (hg38)</th>\n",
       "      <th>multiple mapped reads (hg38)</th>\n",
       "      <th>mapped read (droso)</th>\n",
       "      <th>unique mapped reads(droso)</th>\n",
       "      <th>scaling factor</th>\n",
       "    </tr>\n",
       "  </thead>\n",
       "  <tbody>\n",
       "    <tr>\n",
       "      <th>0</th>\n",
       "      <td>mp100</td>\n",
       "      <td>U937</td>\n",
       "      <td>1</td>\n",
       "      <td>NaN</td>\n",
       "      <td>INPUT</td>\n",
       "      <td>NaN</td>\n",
       "      <td>Y</td>\n",
       "      <td>NaN</td>\n",
       "      <td>NaN</td>\n",
       "      <td>NaN</td>\n",
       "      <td>...</td>\n",
       "      <td>NaN</td>\n",
       "      <td>NaN</td>\n",
       "      <td>NaN</td>\n",
       "      <td>NaN</td>\n",
       "      <td>NaN</td>\n",
       "      <td>NaN</td>\n",
       "      <td>NaN</td>\n",
       "      <td>NaN</td>\n",
       "      <td>NaN</td>\n",
       "      <td>NaN</td>\n",
       "    </tr>\n",
       "    <tr>\n",
       "      <th>1</th>\n",
       "      <td>mp101</td>\n",
       "      <td>NOMO1</td>\n",
       "      <td>1</td>\n",
       "      <td>NaN</td>\n",
       "      <td>INPUT</td>\n",
       "      <td>NaN</td>\n",
       "      <td>Y</td>\n",
       "      <td>NaN</td>\n",
       "      <td>NaN</td>\n",
       "      <td>NaN</td>\n",
       "      <td>...</td>\n",
       "      <td>NaN</td>\n",
       "      <td>NaN</td>\n",
       "      <td>NaN</td>\n",
       "      <td>NaN</td>\n",
       "      <td>NaN</td>\n",
       "      <td>NaN</td>\n",
       "      <td>NaN</td>\n",
       "      <td>NaN</td>\n",
       "      <td>NaN</td>\n",
       "      <td>NaN</td>\n",
       "    </tr>\n",
       "    <tr>\n",
       "      <th>2</th>\n",
       "      <td>mp102</td>\n",
       "      <td>UT7</td>\n",
       "      <td>1</td>\n",
       "      <td>NaN</td>\n",
       "      <td>INPUT</td>\n",
       "      <td>NaN</td>\n",
       "      <td>Y</td>\n",
       "      <td>NaN</td>\n",
       "      <td>NaN</td>\n",
       "      <td>NaN</td>\n",
       "      <td>...</td>\n",
       "      <td>NaN</td>\n",
       "      <td>NaN</td>\n",
       "      <td>NaN</td>\n",
       "      <td>NaN</td>\n",
       "      <td>NaN</td>\n",
       "      <td>NaN</td>\n",
       "      <td>NaN</td>\n",
       "      <td>NaN</td>\n",
       "      <td>NaN</td>\n",
       "      <td>NaN</td>\n",
       "    </tr>\n",
       "    <tr>\n",
       "      <th>3</th>\n",
       "      <td>mp106</td>\n",
       "      <td>MV411</td>\n",
       "      <td>1</td>\n",
       "      <td>x</td>\n",
       "      <td>MYB</td>\n",
       "      <td>INPUT_MV411</td>\n",
       "      <td>Y</td>\n",
       "      <td>NaN</td>\n",
       "      <td>NaN</td>\n",
       "      <td>NaN</td>\n",
       "      <td>...</td>\n",
       "      <td>NaN</td>\n",
       "      <td>NaN</td>\n",
       "      <td>NaN</td>\n",
       "      <td>NaN</td>\n",
       "      <td>NaN</td>\n",
       "      <td>NaN</td>\n",
       "      <td>NaN</td>\n",
       "      <td>NaN</td>\n",
       "      <td>NaN</td>\n",
       "      <td>NaN</td>\n",
       "    </tr>\n",
       "    <tr>\n",
       "      <th>4</th>\n",
       "      <td>mp109</td>\n",
       "      <td>M6</td>\n",
       "      <td>1</td>\n",
       "      <td>x</td>\n",
       "      <td>CEBPA</td>\n",
       "      <td>INPUT_M6</td>\n",
       "      <td>Y</td>\n",
       "      <td>NaN</td>\n",
       "      <td>NaN</td>\n",
       "      <td>NaN</td>\n",
       "      <td>...</td>\n",
       "      <td>NaN</td>\n",
       "      <td>NaN</td>\n",
       "      <td>NaN</td>\n",
       "      <td>NaN</td>\n",
       "      <td>NaN</td>\n",
       "      <td>NaN</td>\n",
       "      <td>NaN</td>\n",
       "      <td>NaN</td>\n",
       "      <td>NaN</td>\n",
       "      <td>NaN</td>\n",
       "    </tr>\n",
       "    <tr>\n",
       "      <th>...</th>\n",
       "      <td>...</td>\n",
       "      <td>...</td>\n",
       "      <td>...</td>\n",
       "      <td>...</td>\n",
       "      <td>...</td>\n",
       "      <td>...</td>\n",
       "      <td>...</td>\n",
       "      <td>...</td>\n",
       "      <td>...</td>\n",
       "      <td>...</td>\n",
       "      <td>...</td>\n",
       "      <td>...</td>\n",
       "      <td>...</td>\n",
       "      <td>...</td>\n",
       "      <td>...</td>\n",
       "      <td>...</td>\n",
       "      <td>...</td>\n",
       "      <td>...</td>\n",
       "      <td>...</td>\n",
       "      <td>...</td>\n",
       "      <td>...</td>\n",
       "    </tr>\n",
       "    <tr>\n",
       "      <th>254</th>\n",
       "      <td>mp826</td>\n",
       "      <td>MV411_IRF2BP2_VHL_6h</td>\n",
       "      <td>2</td>\n",
       "      <td>NaN</td>\n",
       "      <td>H3K4me1</td>\n",
       "      <td>NaN</td>\n",
       "      <td>NaN</td>\n",
       "      <td>NaN</td>\n",
       "      <td>NaN</td>\n",
       "      <td>NaN</td>\n",
       "      <td>...</td>\n",
       "      <td>NaN</td>\n",
       "      <td>NaN</td>\n",
       "      <td>NaN</td>\n",
       "      <td>NaN</td>\n",
       "      <td>NaN</td>\n",
       "      <td>NaN</td>\n",
       "      <td>NaN</td>\n",
       "      <td>NaN</td>\n",
       "      <td>174092.0</td>\n",
       "      <td>0.936120</td>\n",
       "    </tr>\n",
       "    <tr>\n",
       "      <th>255</th>\n",
       "      <td>mp827</td>\n",
       "      <td>MV411_IRF2BP2_VHL_6h</td>\n",
       "      <td>1</td>\n",
       "      <td>NaN</td>\n",
       "      <td>H3K4me3</td>\n",
       "      <td>NaN</td>\n",
       "      <td>NaN</td>\n",
       "      <td>NaN</td>\n",
       "      <td>NaN</td>\n",
       "      <td>NaN</td>\n",
       "      <td>...</td>\n",
       "      <td>NaN</td>\n",
       "      <td>NaN</td>\n",
       "      <td>NaN</td>\n",
       "      <td>NaN</td>\n",
       "      <td>NaN</td>\n",
       "      <td>NaN</td>\n",
       "      <td>NaN</td>\n",
       "      <td>NaN</td>\n",
       "      <td>187078.0</td>\n",
       "      <td>0.618929</td>\n",
       "    </tr>\n",
       "    <tr>\n",
       "      <th>256</th>\n",
       "      <td>mp828</td>\n",
       "      <td>MV411_IRF2BP2_VHL_6h</td>\n",
       "      <td>2</td>\n",
       "      <td>NaN</td>\n",
       "      <td>H3K4me3</td>\n",
       "      <td>NaN</td>\n",
       "      <td>NaN</td>\n",
       "      <td>NaN</td>\n",
       "      <td>NaN</td>\n",
       "      <td>NaN</td>\n",
       "      <td>...</td>\n",
       "      <td>NaN</td>\n",
       "      <td>NaN</td>\n",
       "      <td>NaN</td>\n",
       "      <td>NaN</td>\n",
       "      <td>NaN</td>\n",
       "      <td>NaN</td>\n",
       "      <td>NaN</td>\n",
       "      <td>NaN</td>\n",
       "      <td>495924.0</td>\n",
       "      <td>0.270745</td>\n",
       "    </tr>\n",
       "    <tr>\n",
       "      <th>257</th>\n",
       "      <td>mp829</td>\n",
       "      <td>MV411_IRF2BP2_VHL_6h</td>\n",
       "      <td>1</td>\n",
       "      <td>NaN</td>\n",
       "      <td>H3K79me2</td>\n",
       "      <td>NaN</td>\n",
       "      <td>NaN</td>\n",
       "      <td>NaN</td>\n",
       "      <td>NaN</td>\n",
       "      <td>NaN</td>\n",
       "      <td>...</td>\n",
       "      <td>NaN</td>\n",
       "      <td>NaN</td>\n",
       "      <td>NaN</td>\n",
       "      <td>NaN</td>\n",
       "      <td>NaN</td>\n",
       "      <td>NaN</td>\n",
       "      <td>NaN</td>\n",
       "      <td>NaN</td>\n",
       "      <td>225315.0</td>\n",
       "      <td>0.762888</td>\n",
       "    </tr>\n",
       "    <tr>\n",
       "      <th>258</th>\n",
       "      <td>mp830</td>\n",
       "      <td>MV411_IRF2BP2_VHL_6h</td>\n",
       "      <td>2</td>\n",
       "      <td>NaN</td>\n",
       "      <td>H3K79me2</td>\n",
       "      <td>NaN</td>\n",
       "      <td>NaN</td>\n",
       "      <td>NaN</td>\n",
       "      <td>NaN</td>\n",
       "      <td>NaN</td>\n",
       "      <td>...</td>\n",
       "      <td>NaN</td>\n",
       "      <td>NaN</td>\n",
       "      <td>NaN</td>\n",
       "      <td>NaN</td>\n",
       "      <td>NaN</td>\n",
       "      <td>NaN</td>\n",
       "      <td>NaN</td>\n",
       "      <td>NaN</td>\n",
       "      <td>199911.0</td>\n",
       "      <td>0.942269</td>\n",
       "    </tr>\n",
       "  </tbody>\n",
       "</table>\n",
       "<p>259 rows × 22 columns</p>\n",
       "</div>"
      ],
      "text/plain": [
       "        id             cell line  replicate quality   protein  \\\n",
       "0    mp100                  U937          1     NaN     INPUT   \n",
       "1    mp101                 NOMO1          1     NaN     INPUT   \n",
       "2    mp102                   UT7          1     NaN     INPUT   \n",
       "3    mp106                 MV411          1       x       MYB   \n",
       "4    mp109                    M6          1       x     CEBPA   \n",
       "..     ...                   ...        ...     ...       ...   \n",
       "254  mp826  MV411_IRF2BP2_VHL_6h          2     NaN   H3K4me1   \n",
       "255  mp827  MV411_IRF2BP2_VHL_6h          1     NaN   H3K4me3   \n",
       "256  mp828  MV411_IRF2BP2_VHL_6h          2     NaN   H3K4me3   \n",
       "257  mp829  MV411_IRF2BP2_VHL_6h          1     NaN  H3K79me2   \n",
       "258  mp830  MV411_IRF2BP2_VHL_6h          2     NaN  H3K79me2   \n",
       "\n",
       "    matching input name processed name bigwig  compensated wigs  ...  \\\n",
       "0                   NaN         Y  NaN    NaN               NaN  ...   \n",
       "1                   NaN         Y  NaN    NaN               NaN  ...   \n",
       "2                   NaN         Y  NaN    NaN               NaN  ...   \n",
       "3           INPUT_MV411         Y  NaN    NaN               NaN  ...   \n",
       "4              INPUT_M6         Y  NaN    NaN               NaN  ...   \n",
       "..                  ...       ...  ...    ...               ...  ...   \n",
       "254                 NaN       NaN  NaN    NaN               NaN  ...   \n",
       "255                 NaN       NaN  NaN    NaN               NaN  ...   \n",
       "256                 NaN       NaN  NaN    NaN               NaN  ...   \n",
       "257                 NaN       NaN  NaN    NaN               NaN  ...   \n",
       "258                 NaN       NaN  NaN    NaN               NaN  ...   \n",
       "\n",
       "     diffPeaks individual QC  FLAGTOCOMP total reads  mapped reads (hg38)  \\\n",
       "0          NaN           NaN         NaN         NaN                  NaN   \n",
       "1          NaN           NaN         NaN         NaN                  NaN   \n",
       "2          NaN           NaN         NaN         NaN                  NaN   \n",
       "3          NaN           NaN         NaN         NaN                  NaN   \n",
       "4          NaN           NaN         NaN         NaN                  NaN   \n",
       "..         ...           ...         ...         ...                  ...   \n",
       "254        NaN           NaN         NaN         NaN                  NaN   \n",
       "255        NaN           NaN         NaN         NaN                  NaN   \n",
       "256        NaN           NaN         NaN         NaN                  NaN   \n",
       "257        NaN           NaN         NaN         NaN                  NaN   \n",
       "258        NaN           NaN         NaN         NaN                  NaN   \n",
       "\n",
       "     unique mapped reads (hg38) multiple mapped reads (hg38)  \\\n",
       "0                           NaN                          NaN   \n",
       "1                           NaN                          NaN   \n",
       "2                           NaN                          NaN   \n",
       "3                           NaN                          NaN   \n",
       "4                           NaN                          NaN   \n",
       "..                          ...                          ...   \n",
       "254                         NaN                          NaN   \n",
       "255                         NaN                          NaN   \n",
       "256                         NaN                          NaN   \n",
       "257                         NaN                          NaN   \n",
       "258                         NaN                          NaN   \n",
       "\n",
       "     mapped read (droso)  unique mapped reads(droso)  scaling factor  \n",
       "0                    NaN                         NaN             NaN  \n",
       "1                    NaN                         NaN             NaN  \n",
       "2                    NaN                         NaN             NaN  \n",
       "3                    NaN                         NaN             NaN  \n",
       "4                    NaN                         NaN             NaN  \n",
       "..                   ...                         ...             ...  \n",
       "254                  NaN                    174092.0        0.936120  \n",
       "255                  NaN                    187078.0        0.618929  \n",
       "256                  NaN                    495924.0        0.270745  \n",
       "257                  NaN                    225315.0        0.762888  \n",
       "258                  NaN                    199911.0        0.942269  \n",
       "\n",
       "[259 rows x 22 columns]"
      ]
     },
     "execution_count": 8,
     "metadata": {},
     "output_type": "execute_result"
    }
   ],
   "source": [
    "from gsheets import Sheets\n",
    "sheets = Sheets.from_files('~/.client_secret.json', '~/.storage.json')\n",
    "url=\"https://docs.google.com/spreadsheets/d/1yFLjYB1McU530JnLgL0QIMAKIkVl3kl0_LCHje2gk8U\"\n",
    "gsheet = sheets.get(url).sheets[2].to_frame()\n",
    "gsheet"
   ]
  },
  {
   "cell_type": "code",
   "execution_count": 11,
   "metadata": {},
   "outputs": [],
   "source": [
    "rename= {}\n",
    "for peak in peaks:\n",
    "    val = gsheet[gsheet.id=='mp'+peak.split('_R1')[0][-3:].split('_')[-1]]\n",
    "    rename[peak]= val.protein.values[0]+\"_\"+str(val.replicate.values[0])"
   ]
  },
  {
   "cell_type": "code",
   "execution_count": 12,
   "metadata": {},
   "outputs": [
    {
     "data": {
      "text/plain": [
       "{'MV411_1_106_R1_peaks.narrowPeak': 'MYB_1',\n",
       " 'MV411_1_115_R1_peaks.narrowPeak': 'PU1_1',\n",
       " 'MV411_1_117_R1_peaks.narrowPeak': 'POLII_1',\n",
       " 'MV411_1_118_R1_peaks.narrowPeak': 'SP1_1',\n",
       " 'MV411_1_137_R1_peaks.narrowPeak': 'H3K4me3_1',\n",
       " 'MV411_1_138_R1_peaks.narrowPeak': 'H3K36me3_1',\n",
       " 'MV411_1_293_R1_peaks.narrowPeak': 'H3K79me2_1',\n",
       " 'MV411_1_319_R1_peaks.narrowPeak': 'FLI1_1',\n",
       " 'MV411_1_320_R1_peaks.narrowPeak': 'ZEB2_1',\n",
       " 'MV411_1_324_R1_peaks.narrowPeak': 'MEF2D_1',\n",
       " 'MV411_1_357_R1_peaks.narrowPeak': 'ZMYND8_1',\n",
       " 'MV411_1_359_R1_peaks.narrowPeak': 'LMO2_1',\n",
       " 'MV411_1_430_R1_peaks.narrowPeak': 'IRF2BP2_1',\n",
       " 'MV411_1_433_R1_peaks.narrowPeak': 'GSE1_1',\n",
       " 'MV411_1_565_R1_peaks.narrowPeak': 'CDK13_1',\n",
       " 'MV411_1_570_R1_peaks.narrowPeak': 'CTCF_1',\n",
       " 'MV411_1_577_R1_peaks.narrowPeak': 'SMC1_1',\n",
       " 'MV411_1_581_R1_peaks.narrowPeak': 'MEF2C_1',\n",
       " 'MV411_1_582_R1_peaks.narrowPeak': 'MEIS1_1',\n",
       " 'MV411_1_583_R1_peaks.narrowPeak': 'ELF2_1',\n",
       " 'MV411_1_587_R1_peaks.narrowPeak': 'IKZF1_1',\n",
       " 'MV411_1_590_R1_peaks.narrowPeak': 'GATA2_1',\n",
       " 'MV411_1_601_R1_peaks.narrowPeak': 'RUNX2_1',\n",
       " 'MV411_1_639_R1_peaks.narrowPeak': 'MAX_1',\n",
       " 'MV411_1_640_R1_peaks.narrowPeak': 'LYL1_1',\n",
       " 'MV411_1_650_R1_peaks.narrowPeak': 'LDB1_1',\n",
       " 'MV411_1_70_R1_peaks.narrowPeak': 'H3K27ac_2',\n",
       " 'MV411_1_71_R1_peaks.narrowPeak': 'H3K27me3_1',\n",
       " 'MV411_1_72_R1_peaks.narrowPeak': 'CEBPA_3',\n",
       " 'MV411_1_767_R1_peaks.narrowPeak': 'FOXP1_1',\n",
       " 'MV411_1_771_R1_peaks.narrowPeak': 'JUND_1',\n",
       " 'MV411_1_773_R1_peaks.narrowPeak': 'HOXA9_1',\n",
       " 'MV411_1_89_R1_peaks.narrowPeak': 'H3K36me3_2',\n",
       " 'MV411_2_112_R1_peaks.narrowPeak': 'CEBPA_1',\n",
       " 'MV411_2_116_R1_peaks.narrowPeak': 'MYB_2',\n",
       " 'MV411_2_129_R1_peaks.narrowPeak': 'RUNX1_1',\n",
       " 'MV411_2_301_R1_peaks.narrowPeak': 'PU1_2',\n",
       " 'MV411_2_325_R1_peaks.narrowPeak': 'SP1_2',\n",
       " 'MV411_2_358_R1_peaks.narrowPeak': 'ZMYND8_2',\n",
       " 'MV411_2_427_R1_peaks.narrowPeak': 'LMO2_2',\n",
       " 'MV411_2_429_R1_peaks.narrowPeak': 'IRF8_1',\n",
       " 'MV411_2_431_R1_peaks.narrowPeak': 'IRF2BP2_2',\n",
       " 'MV411_2_435_R1_peaks.narrowPeak': 'MED1_1',\n",
       " 'MV411_2_584_R1_peaks.narrowPeak': 'MYC_1',\n",
       " 'MV411_2_604_R1_peaks.narrowPeak': 'IKZF1_2',\n",
       " 'MV411_2_614_R1_peaks.narrowPeak': 'MEF2C_2',\n",
       " 'MV411_2_768_R1_peaks.narrowPeak': 'FOXP1_2',\n",
       " 'MV411_2_770_R1_peaks.narrowPeak': 'MYBL2_1',\n",
       " 'MV411_2_772_R1_peaks.narrowPeak': 'JUND_2',\n",
       " 'MV411_2_774_R1_peaks.narrowPeak': 'HOXA9_2',\n",
       " 'MV411_2_88_R1_peaks.narrowPeak': 'H3K27ac_3',\n",
       " 'MV411_3_136_R1_peaks.narrowPeak': 'H3K27ac_1',\n",
       " 'MV411_3_299_R1_peaks.narrowPeak': 'CEBPA_2',\n",
       " 'MV411_3_300_R1_peaks.narrowPeak': 'RUNX1_2',\n",
       " 'MV411_3_425_R1_peaks.narrowPeak': 'ETV6_1',\n",
       " 'MV411_3_426_R1_peaks.narrowPeak': 'SP1_3',\n",
       " 'MV411_3_428_R1_peaks.narrowPeak': 'PU1_3',\n",
       " 'MV411_3_568_R1_peaks.narrowPeak': 'ZEB2_2',\n",
       " 'MV411_3_575_R1_peaks.narrowPeak': 'IRF2BP2_3',\n",
       " 'MV411_3_585_R1_peaks.narrowPeak': 'MYC_2',\n",
       " 'MV411_3_607_R1_peaks.narrowPeak': 'ELF2_2',\n",
       " 'MV411_3_623_R1_peaks.narrowPeak': 'MEF2D_2',\n",
       " 'MV411_4_321_R1_peaks.narrowPeak': 'GFI1_1',\n",
       " 'MV411_4_424_R1_peaks.narrowPeak': 'RUNX1_3',\n",
       " 'MV411_4_569_R1_peaks.narrowPeak': 'ETV6_2',\n",
       " 'MV411_4_627_R1_peaks.narrowPeak': 'MEF2C_3',\n",
       " 'MV411_4_717_R1_peaks.narrowPeak': 'GATA2_2',\n",
       " 'MV411_5_589_R1_peaks.narrowPeak': 'ETV6_3',\n",
       " 'MV411_6_763_R1_peaks.narrowPeak': 'RUNX2_2',\n",
       " 'MV411_7_714_R1_peaks.narrowPeak': 'ZEB2_3',\n",
       " 'MV411_7_764_R1_peaks.narrowPeak': 'RUNX2_3',\n",
       " 'MV411_8_715_R1_peaks.narrowPeak': 'ZEB2_4',\n",
       " 'MV411_8_765_R1_peaks.narrowPeak': 'RUNX2_4',\n",
       " 'MV411_9_716_R1_peaks.narrowPeak': 'GSE1_2',\n",
       " 'MV411_9_718_R1_peaks.narrowPeak': 'IRF2BP2_4'}"
      ]
     },
     "execution_count": 12,
     "metadata": {},
     "output_type": "execute_result"
    }
   ],
   "source": [
    "rename"
   ]
  },
  {
   "cell_type": "code",
   "execution_count": 21,
   "metadata": {},
   "outputs": [
    {
     "data": {
      "text/html": [
       "<div>\n",
       "<style scoped>\n",
       "    .dataframe tbody tr th:only-of-type {\n",
       "        vertical-align: middle;\n",
       "    }\n",
       "\n",
       "    .dataframe tbody tr th {\n",
       "        vertical-align: top;\n",
       "    }\n",
       "\n",
       "    .dataframe thead th {\n",
       "        text-align: right;\n",
       "    }\n",
       "</style>\n",
       "<table border=\"1\" class=\"dataframe\">\n",
       "  <thead>\n",
       "    <tr style=\"text-align: right;\">\n",
       "      <th></th>\n",
       "      <th>chrom</th>\n",
       "      <th>start</th>\n",
       "      <th>end</th>\n",
       "      <th>peak_number</th>\n",
       "      <th>foldchange</th>\n",
       "      <th>-log10pvalue</th>\n",
       "      <th>-log10qvalue</th>\n",
       "      <th>relative_summit_pos</th>\n",
       "      <th>name</th>\n",
       "    </tr>\n",
       "  </thead>\n",
       "  <tbody>\n",
       "    <tr>\n",
       "      <th>0</th>\n",
       "      <td>chr1</td>\n",
       "      <td>180641</td>\n",
       "      <td>181032</td>\n",
       "      <td>MV411_4_424_R1_peak_2</td>\n",
       "      <td>7.57681</td>\n",
       "      <td>21.00140</td>\n",
       "      <td>17.79250</td>\n",
       "      <td>251</td>\n",
       "      <td>RUNX1_3</td>\n",
       "    </tr>\n",
       "    <tr>\n",
       "      <th>0</th>\n",
       "      <td>chr1</td>\n",
       "      <td>180669</td>\n",
       "      <td>180923</td>\n",
       "      <td>MV411_1_577_R1_peak_2</td>\n",
       "      <td>3.99161</td>\n",
       "      <td>7.15845</td>\n",
       "      <td>4.70907</td>\n",
       "      <td>144</td>\n",
       "      <td>SMC1_1</td>\n",
       "    </tr>\n",
       "    <tr>\n",
       "      <th>0</th>\n",
       "      <td>chr1</td>\n",
       "      <td>180672</td>\n",
       "      <td>181037</td>\n",
       "      <td>MV411_8_765_R1_peak_2</td>\n",
       "      <td>3.98533</td>\n",
       "      <td>10.65083</td>\n",
       "      <td>8.45294</td>\n",
       "      <td>115</td>\n",
       "      <td>RUNX2_4</td>\n",
       "    </tr>\n",
       "    <tr>\n",
       "      <th>0</th>\n",
       "      <td>chr1</td>\n",
       "      <td>180760</td>\n",
       "      <td>181047</td>\n",
       "      <td>MV411_2_614_R1_peak_2</td>\n",
       "      <td>4.84395</td>\n",
       "      <td>10.76925</td>\n",
       "      <td>6.83359</td>\n",
       "      <td>134</td>\n",
       "      <td>MEF2C_2</td>\n",
       "    </tr>\n",
       "    <tr>\n",
       "      <th>0</th>\n",
       "      <td>chr1</td>\n",
       "      <td>180872</td>\n",
       "      <td>181052</td>\n",
       "      <td>MV411_2_88_R1_peak_2</td>\n",
       "      <td>4.34336</td>\n",
       "      <td>7.55241</td>\n",
       "      <td>5.11415</td>\n",
       "      <td>29</td>\n",
       "      <td>H3K27ac_3</td>\n",
       "    </tr>\n",
       "    <tr>\n",
       "      <th>...</th>\n",
       "      <td>...</td>\n",
       "      <td>...</td>\n",
       "      <td>...</td>\n",
       "      <td>...</td>\n",
       "      <td>...</td>\n",
       "      <td>...</td>\n",
       "      <td>...</td>\n",
       "      <td>...</td>\n",
       "      <td>...</td>\n",
       "    </tr>\n",
       "    <tr>\n",
       "      <th>26814</th>\n",
       "      <td>chrY</td>\n",
       "      <td>56858556</td>\n",
       "      <td>56858723</td>\n",
       "      <td>MV411_2_112_R1_peak_26816</td>\n",
       "      <td>4.44683</td>\n",
       "      <td>10.80341</td>\n",
       "      <td>7.72958</td>\n",
       "      <td>122</td>\n",
       "      <td>CEBPA_1</td>\n",
       "    </tr>\n",
       "    <tr>\n",
       "      <th>193741</th>\n",
       "      <td>chrY</td>\n",
       "      <td>56859773</td>\n",
       "      <td>56859965</td>\n",
       "      <td>MV411_3_299_R1_peak_193743</td>\n",
       "      <td>3.21570</td>\n",
       "      <td>8.50020</td>\n",
       "      <td>6.46514</td>\n",
       "      <td>96</td>\n",
       "      <td>CEBPA_2</td>\n",
       "    </tr>\n",
       "    <tr>\n",
       "      <th>66894</th>\n",
       "      <td>chrY</td>\n",
       "      <td>56876514</td>\n",
       "      <td>56876695</td>\n",
       "      <td>MV411_2_429_R1_peak_66896</td>\n",
       "      <td>4.82272</td>\n",
       "      <td>7.79657</td>\n",
       "      <td>5.37607</td>\n",
       "      <td>56</td>\n",
       "      <td>IRF8_1</td>\n",
       "    </tr>\n",
       "    <tr>\n",
       "      <th>117299</th>\n",
       "      <td>chrY</td>\n",
       "      <td>56876539</td>\n",
       "      <td>56876697</td>\n",
       "      <td>MV411_3_428_R1_peak_117301</td>\n",
       "      <td>5.07913</td>\n",
       "      <td>7.33086</td>\n",
       "      <td>5.12118</td>\n",
       "      <td>25</td>\n",
       "      <td>PU1_3</td>\n",
       "    </tr>\n",
       "    <tr>\n",
       "      <th>46795</th>\n",
       "      <td>chrY</td>\n",
       "      <td>56878587</td>\n",
       "      <td>56878844</td>\n",
       "      <td>MV411_1_767_R1_peak_46797</td>\n",
       "      <td>4.21133</td>\n",
       "      <td>9.22911</td>\n",
       "      <td>6.77967</td>\n",
       "      <td>81</td>\n",
       "      <td>FOXP1_1</td>\n",
       "    </tr>\n",
       "  </tbody>\n",
       "</table>\n",
       "<p>2258644 rows × 9 columns</p>\n",
       "</div>"
      ],
      "text/plain": [
       "       chrom     start       end                 peak_number  foldchange  \\\n",
       "0       chr1    180641    181032       MV411_4_424_R1_peak_2     7.57681   \n",
       "0       chr1    180669    180923       MV411_1_577_R1_peak_2     3.99161   \n",
       "0       chr1    180672    181037       MV411_8_765_R1_peak_2     3.98533   \n",
       "0       chr1    180760    181047       MV411_2_614_R1_peak_2     4.84395   \n",
       "0       chr1    180872    181052        MV411_2_88_R1_peak_2     4.34336   \n",
       "...      ...       ...       ...                         ...         ...   \n",
       "26814   chrY  56858556  56858723   MV411_2_112_R1_peak_26816     4.44683   \n",
       "193741  chrY  56859773  56859965  MV411_3_299_R1_peak_193743     3.21570   \n",
       "66894   chrY  56876514  56876695   MV411_2_429_R1_peak_66896     4.82272   \n",
       "117299  chrY  56876539  56876697  MV411_3_428_R1_peak_117301     5.07913   \n",
       "46795   chrY  56878587  56878844   MV411_1_767_R1_peak_46797     4.21133   \n",
       "\n",
       "        -log10pvalue  -log10qvalue  relative_summit_pos       name  \n",
       "0           21.00140      17.79250                  251    RUNX1_3  \n",
       "0            7.15845       4.70907                  144     SMC1_1  \n",
       "0           10.65083       8.45294                  115    RUNX2_4  \n",
       "0           10.76925       6.83359                  134    MEF2C_2  \n",
       "0            7.55241       5.11415                   29  H3K27ac_3  \n",
       "...              ...           ...                  ...        ...  \n",
       "26814       10.80341       7.72958                  122    CEBPA_1  \n",
       "193741       8.50020       6.46514                   96    CEBPA_2  \n",
       "66894        7.79657       5.37607                   56     IRF8_1  \n",
       "117299       7.33086       5.12118                   25      PU1_3  \n",
       "46795        9.22911       6.77967                   81    FOXP1_1  \n",
       "\n",
       "[2258644 rows x 9 columns]"
      ]
     },
     "execution_count": 21,
     "metadata": {},
     "output_type": "execute_result"
    }
   ],
   "source": [
    "bindings"
   ]
  },
  {
   "cell_type": "code",
   "execution_count": 20,
   "metadata": {},
   "outputs": [],
   "source": [
    "bindings['name'] = [rename[i+'.narrowPeak'] for i in bindings['name']]"
   ]
  },
  {
   "cell_type": "code",
   "execution_count": 22,
   "metadata": {},
   "outputs": [],
   "source": [
    "bindings.to_csv('../temp/bindings.bed',sep='\\t',index=False,header=False)"
   ]
  },
  {
   "cell_type": "code",
   "execution_count": 15,
   "metadata": {},
   "outputs": [],
   "source": [
    "bindings= pd.read_csv('../temp/bindings.bed',sep='\\t',header=None, \n",
    "                      names=[\"chrom\",\"start\",\"end\",\"foldchange\",\"-log10pvalue\",\"-log10qvalue\",\"relative_summit_pos\",\"name\"])"
   ]
  },
  {
   "cell_type": "code",
   "execution_count": 26,
   "metadata": {},
   "outputs": [
    {
     "name": "stdout",
     "output_type": "stream",
     "text": [
      "IGG_MV411_R1.mLb.clN.bigWig    MV411_2_431_R1.mLb.clN.bigWig\r\n",
      "INPUT_MV411_R1.mLb.clN.bigWig  MV411_2_435_R1.mLb.clN.bigWig\r\n",
      "MV411_1_106_R1.mLb.clN.bigWig  MV411_2_584_R1.mLb.clN.bigWig\r\n",
      "MV411_1_115_R1.mLb.clN.bigWig  MV411_2_604_R1.mLb.clN.bigWig\r\n",
      "MV411_1_117_R1.mLb.clN.bigWig  MV411_2_614_R1.mLb.clN.bigWig\r\n",
      "MV411_1_118_R1.mLb.clN.bigWig  MV411_2_768_R1.mLb.clN.bigWig\r\n",
      "MV411_1_137_R1.mLb.clN.bigWig  MV411_2_770_R1.mLb.clN.bigWig\r\n",
      "MV411_1_138_R1.mLb.clN.bigWig  MV411_2_772_R1.mLb.clN.bigWig\r\n",
      "MV411_1_293_R1.mLb.clN.bigWig  MV411_2_774_R1.mLb.clN.bigWig\r\n",
      "MV411_1_319_R1.mLb.clN.bigWig  MV411_2_88_R1.mLb.clN.bigWig\r\n",
      "MV411_1_320_R1.mLb.clN.bigWig  MV411_3_136_R1.mLb.clN.bigWig\r\n",
      "MV411_1_324_R1.mLb.clN.bigWig  MV411_3_299_R1.mLb.clN.bigWig\r\n",
      "MV411_1_357_R1.mLb.clN.bigWig  MV411_3_300_R1.mLb.clN.bigWig\r\n",
      "MV411_1_359_R1.mLb.clN.bigWig  MV411_3_425_R1.mLb.clN.bigWig\r\n",
      "MV411_1_430_R1.mLb.clN.bigWig  MV411_3_426_R1.mLb.clN.bigWig\r\n",
      "MV411_1_433_R1.mLb.clN.bigWig  MV411_3_428_R1.mLb.clN.bigWig\r\n",
      "MV411_1_565_R1.mLb.clN.bigWig  MV411_3_568_R1.mLb.clN.bigWig\r\n",
      "MV411_1_570_R1.mLb.clN.bigWig  MV411_3_575_R1.mLb.clN.bigWig\r\n",
      "MV411_1_577_R1.mLb.clN.bigWig  MV411_3_585_R1.mLb.clN.bigWig\r\n",
      "MV411_1_581_R1.mLb.clN.bigWig  MV411_3_607_R1.mLb.clN.bigWig\r\n",
      "MV411_1_582_R1.mLb.clN.bigWig  MV411_3_623_R1.mLb.clN.bigWig\r\n",
      "MV411_1_583_R1.mLb.clN.bigWig  MV411_4_321_R1.mLb.clN.bigWig\r\n",
      "MV411_1_587_R1.mLb.clN.bigWig  MV411_4_424_R1.mLb.clN.bigWig\r\n",
      "MV411_1_590_R1.mLb.clN.bigWig  MV411_4_569_R1.mLb.clN.bigWig\r\n",
      "MV411_1_601_R1.mLb.clN.bigWig  MV411_4_627_R1.mLb.clN.bigWig\r\n",
      "MV411_1_639_R1.mLb.clN.bigWig  MV411_4_717_R1.mLb.clN.bigWig\r\n",
      "MV411_1_640_R1.mLb.clN.bigWig  MV411_5_589_R1.mLb.clN.bigWig\r\n",
      "MV411_1_650_R1.mLb.clN.bigWig  MV411_6_763_R1.mLb.clN.bigWig\r\n",
      "MV411_1_70_R1.mLb.clN.bigWig   MV411_7_714_R1.mLb.clN.bigWig\r\n",
      "MV411_1_71_R1.mLb.clN.bigWig   MV411_7_764_R1.mLb.clN.bigWig\r\n",
      "MV411_1_72_R1.mLb.clN.bigWig   MV411_8_715_R1.mLb.clN.bigWig\r\n",
      "MV411_1_767_R1.mLb.clN.bigWig  MV411_8_765_R1.mLb.clN.bigWig\r\n",
      "MV411_1_771_R1.mLb.clN.bigWig  MV411_9_716_R1.mLb.clN.bigWig\r\n",
      "MV411_1_773_R1.mLb.clN.bigWig  MV411_9_718_R1.mLb.clN.bigWig\r\n",
      "MV411_1_89_R1.mLb.clN.bigWig   MV411-DMSO_1_183_R1.mLb.clN.bigWig\r\n",
      "MV411_2_112_R1.mLb.clN.bigWig  MV411_DMSO_8h_1_690_R1.mLb.clN.bigWig\r\n",
      "MV411_2_116_R1.mLb.clN.bigWig  MV411-DMSO-8h_1_728_R1.mLb.clN.bigWig\r\n",
      "MV411_2_129_R1.mLb.clN.bigWig  MV411_DMSO_8h_2_702_R1.mLb.clN.bigWig\r\n",
      "MV411_2_301_R1.mLb.clN.bigWig  MV411-DMSO-8h_2_724_R1.mLb.clN.bigWig\r\n",
      "MV411_2_325_R1.mLb.clN.bigWig  MV411-DMSO-8h_2_734_R1.mLb.clN.bigWig\r\n",
      "MV411_2_358_R1.mLb.clN.bigWig  MV411-IRF2BP2-CT-GFP-8_1_762_R1.mLb.clN.bigWig\r\n",
      "MV411_2_427_R1.mLb.clN.bigWig  MV411-MEF2D-NT-SC-63_1_760_R1.mLb.clN.bigWig\r\n",
      "MV411_2_429_R1.mLb.clN.bigWig  MV411-PU1-NT-SC-1_1_761_R1.mLb.clN.bigWig\r\n"
     ]
    }
   ],
   "source": [
    "ls ../../data/bigwig"
   ]
  },
  {
   "cell_type": "code",
   "execution_count": null,
   "metadata": {
    "slideshow": {
     "slide_type": "slide"
    }
   },
   "outputs": [],
   "source": [
    "%matplotlib inline\n",
    "peakstoplot, figure = chiphelper.computePeaksAt(\n",
    "    bindings[bindings.name=='MYC_1'],\n",
    "    bigwigs=[\n",
    "    \"MYC_R1.mLb.clN.bigWig\",\n",
    "    \"MYC_R2.mLb.clN.bigWig\",\n",
    "    \"CEBPA_R1.mLb.clN.bigWig\",\n",
    "    \"CEBPA_R2.mLb.clN.bigWig\",\n",
    "], folder='data/bigwig/', window=600,numpeaks=2000, width=10,length=10)"
   ]
  },
  {
   "cell_type": "code",
   "execution_count": null,
   "metadata": {},
   "outputs": [],
   "source": [
    "%matplotlib inline\n",
    "peakstoplot, figure = chiphelper.computePeaksAt(\n",
    "    bindings[bindings.name=='CEBPA_R1'],\n",
    "    bigwigs=[\n",
    "    \"MYC_R1.mLb.clN.bigWig\",\n",
    "    \"MYC_R2.mLb.clN.bigWig\",\n",
    "    \"CEBPA_R1.mLb.clN.bigWig\",\n",
    "    \"CEBPA_R2.mLb.clN.bigWig\",\n",
    "], folder='data/bigwig/', window=600,numpeaks=8000, width=10,length=10)"
   ]
  },
  {
   "cell_type": "code",
   "execution_count": null,
   "metadata": {},
   "outputs": [],
   "source": [
    "%matplotlib inline\n",
    "peakstoplot, figure = chiphelper.computePeaksAt(\n",
    "    bindings[bindings.name=='CEBPA_R2'],\n",
    "    bigwigs=[\n",
    "    \"MYC_R1.mLb.clN.bigWig\",\n",
    "    \"MYC_R2.mLb.clN.bigWig\",\n",
    "    \"CEBPA_R1.mLb.clN.bigWig\",\n",
    "    \"CEBPA_R2.mLb.clN.bigWig\",\n",
    "], folder='data/bigwig/', window=600,numpeaks=10000, width=10,length=10)"
   ]
  },
  {
   "cell_type": "markdown",
   "metadata": {
    "slideshow": {
     "slide_type": "slide"
    }
   },
   "source": [
    "## Marking each TF with a different quality score"
   ]
  },
  {
   "cell_type": "markdown",
   "metadata": {
    "slideshow": {
     "slide_type": "subslide"
    }
   },
   "source": [
    "## merging duplicates"
   ]
  },
  {
   "cell_type": "code",
   "execution_count": null,
   "metadata": {
    "slideshow": {
     "slide_type": "subslide"
    }
   },
   "outputs": [],
   "source": [
    "replicates = chiphelper.findReplicates(folder='data/seqs/results/bwa/', sep='_', namings='_R([0-9])',namepos=0)"
   ]
  },
  {
   "cell_type": "markdown",
   "metadata": {
    "slideshow": {
     "slide_type": "slide"
    }
   },
   "source": [
    "# we do a visual inspection of the features and and look at QCs"
   ]
  },
  {
   "cell_type": "markdown",
   "metadata": {
    "slideshow": {
     "slide_type": "subslide"
    }
   },
   "source": [
    "### [igv tracks](https://igv.org/app/?sessionURL=blob:3Z3rU9rcFsb_lU6.vO.Zg0EIcvGbolinYB0vp5czHSeEGFIhscmOaJ3.790hwMbzsrZZ9rTJIx.YAfIk62HxY7Mfcnk0IvfajdzAcY3dR8MfGbvG2Kt1jIoR2FP5nPE2mdrBm7.7Z92x1aqmr_1Lvnhtx8K.POuniwtxG.9Wq7FljhJ7Ip93bswk3nLlIls1057a38PAnsWmE06rvndnDqPQHvlBLHyRCNcMI6_quUE4deNq7H6bb2J.Z843IjfmByP3_o9sTN77coPOgwiHdjD6jdtMN7EvN2GKe2H8qBiT0EliY_e_hj2ZGF8qhojkVtInHg3xcJs2QkqTeZ8qRhiN3MjYlRtvdVrNjlWzGu1m3arttNx_W9tt2bvw_NYPgnQhESXuj8qjkUQTuRIvNfL1Jhx.dR1R7Y7926u9Qb8auXEyEXF1OLOrUzfy3FHfH0Z29FAd.t7M96q9_nHt6qxmTvtD05mcmPLpD773pDdBMpmsSttefX5IpRNOQrmkEXnDv7cr25Vaq51.suyJ6G5.Zez63lgYu5ZcuZ2I8NyxJ3ILqcGKMZOFhLNeEjjCDwMpnrp2IEV3fuwP_YkvHj7Ml5CvbNXk85PQW.ivZUvlCv7nLZMfcX_iPuchDpPIcS.yBqWCFI0wmtqyTCN76.QziwZmD9LKY1U5qzWBHUXh7NS1b5YNubqVD2JTvUC3pLZqyV9T28mEf_1KH.pP.7B4H__RCCdMAqHpRI43fpNL7VufLZmq1NtvB0Eo7HlRFWNq35.FM8nXzrZ0IeXCjdJ1zRF0xlE4DWMJrFxSkusaX36doKMej6D6ql2kEogg0kNxBC1KYhBkARKkcYlG0PHJ6eUFB6HGql.0FIgh2sQfhmhjdwaHvfoBpzs7q.7QUqDu0CaK.4pb1sT4jmsCfsfpbKJ9yZ1esn4ltFbtooRACFEWigMoq4iBTzr3QsOHNokGz_kpC56amhJRSiB6KAvF0ZNVxJmiqkkPDj60SzR8Ph_u11n8qAkRKQUCiPRQHEGLkjgIqUkPDkIam2gMdQ_3T_dYEKl5EK0Foog2URxGy5o4HCFOhHQ.QUGq5wdJzYVoLR5IG0wUDlKdAxLilEjnEw6ki26PNSB1FEeUFAkjykOBFGUlMSBKP_J4ENE20Rg6GJy_v2qPr95a7.ot.f5z_sdTIUOetQCRlcdOcZD9szoOb4hBRD7HqOgN9j6ysFPZxHNrAESOslI8blllHNQQA4vn3UJi9pLhTcUXz64CDbQSD2wvG9UQM40cdtFYO.z3WDl7XSUbpBSILdJDcUwtSuKwhBhraGxiMpQ_HayrVIOUwjFUqmxwURJnf0rEVENjE46hi_80OeOQpaIMUorEEOWhQIaykjgMISYVGpuYDOUfhyyVS5BSOIbKNQ5lJXEYQowgNDYxGbLyM6QyB1IKx9AGD0UzZHEYQswWNDbhDi_bu9hjhQqWChVoLdIRZqSJAg8xW9TE4QgxV9D5BAWJ8YtOJQu0Fg.kUv2mW9bEAKmBGC7ofMKBdH7IOhqjodIFUoqEEeWhQIqykjgQIaYLGpuYDOUfixoqXSClcAyVayTKSuIwhJguaGyiMfSCnRoaKmB4JfszlHNXhhftxdBATBpe1w4Mx0dHLJxU1EApkU7DQVgoDqOsIg5CiCED7RIOn3efe7ypkYoYaC0SQqSJAiFa1MTAaAcxYtD5BAUp__xoR2UMtBYPpFLNkJY1cUBCjBl0PuFAOuvV909Z_x_tqKhBp0aCSWOjQJxWVXGAQswc9E5hkWKMTip20KkRkSrXCLWqioMUYuygdwqLVP5dhXbWogeNGhGpUu0wpKriIAUZQ2idwiLVyI_UWhihUSMitcFGCZBqcE7fChlJaJ0CItXmTKSaa5kEJcWCabOHQklKS.JgBBlI0DbRGOoP3rPCiKYKI0gpEEOkh.IYWpTEYQgxg9DYxGQof_rQVOkDKYVjqFS5w6IkDkOIoYPGJhxDn_qsP2qbKm4gpUgMUR4KZCgricMQYsqgsYnGEPPEXU0VL7yCE3aV70Rd7BN0tRAjhddzYq7B4QHvijAqTiClUJdVIjwUeVWleUkchBDjBI1NPIZ69S4LIpUn0Fqwi5NtNlHsxcnSmjgcIUYKOp.gIOUPFVpPr_K3WYsHUqlihWVNHJBQL_NH.QQFKf.ODC2VLNBaPJBKtRPDsiYOSIjhgs4nHkjH57z50Vq.QGqhQKJMFAlSVhPnwpmQKYPGJxxIn_Y5GLXXYgZCiQQRYaFAhOYVcQCCzBhIl5D45J8XtdcCBkKJhk.55kTzijj4QEYLpEs8fFj5XHstViCUUPiULpubV8TBBzJQIF1C4sMYfdbCBEKJhk_JRh9mHteGjBFIl2j4nL7vHx.zxh8VItBaIIRoE8VBtKyJgVEHMUTQ.UQD6ezy5CMrjeuoGIHWAoFEmygOpGVNHJAQwwSdT0SQWEdAdFSgQGvBQCrbMRDLmjggIcYKOp9oIJ0PurwBSSULpBQII9JDcRQtSuJAhBguaGyiMfT5cJ91JFFHxQukFIgh0kNxDC1K4jCEmDBobMIxNPh0csA6LryjMgaNGIkj2kWBJC2LYrBUSz80eDDpnKLilH9Qqm2rqEGjBuTpt41My.mAex27394cydbF6.uJ3Ot5OyuLXo6FuE3bGVvmKJHlC9u5MZN4y7VjsVUz7an9PQzsWWw64bTqe3dmGHmmXIP8ZMTVsVfryLZfp1sx4zAS7sgU98L0vj9p6e_aiCmG_sa.bMlPTeROwzt7uNYW9UWQ3vRtokxt6tH_Ba4vP34C)"
   ]
  },
  {
   "cell_type": "markdown",
   "metadata": {
    "slideshow": {
     "slide_type": "subslide"
    }
   },
   "source": [
    "### [multiQC](http://35.184.213.1:8888/view/data/results/multiqc/multiqc_report.html)"
   ]
  },
  {
   "cell_type": "markdown",
   "metadata": {
    "slideshow": {
     "slide_type": "slide"
    }
   },
   "source": [
    "### process: \n",
    "\n",
    "look at all t with a very low frip score as noted by encode. \n",
    "\n",
    "look at all peaks tracks together and see for location of intense co binding. \n",
    "\n",
    "- if we can discern peaks and if, for some reasons, some good peaks are not called by macs. \n",
    "- if looks good and we can see a lot of peaks. \n",
    "- if a lot of noise but seems consistent with replicates. \n",
    "- if just seems to have very few peaks.\n",
    "\n",
    "Validate still but flag as potentially bad.\n",
    "\n",
    "Else remove."
   ]
  },
  {
   "cell_type": "markdown",
   "metadata": {
    "slideshow": {
     "slide_type": "slide"
    }
   },
   "source": [
    "### results:"
   ]
  },
  {
   "cell_type": "code",
   "execution_count": null,
   "metadata": {
    "slideshow": {
     "slide_type": "subslide"
    }
   },
   "outputs": [],
   "source": [
    "toremove=['ETV6_R3'\n",
    "'ELF2_R2'\n",
    "'MEF2D_R1'\n",
    "'RUNX2_R1'\n",
    "'IKZF1_R2']\n",
    "\n",
    "bad=[\n",
    "\"LMO2_R1\",\n",
    "\"LMO2_R2\",\n",
    "\"IRF2BP2_R2\",\n",
    "\"IRF2BP2_R4\",\n",
    "\"MEF2C_R1\",\n",
    "\"MEF2C_R2\",\n",
    "\"MEF2C_R3\",\n",
    "\"MEF2D_R2\",\n",
    "\"MEF2D_R3\",\n",
    "\"ZMYND8_R2\",\n",
    "\"GATA2_R1\",\n",
    "\"GSE1_R1\",\n",
    "\"GSE1_R2\",\n",
    "\"ZEB2_R1\",\n",
    "\"ZEB2_R1\",\n",
    "\"GFI1_R1\",\n",
    "\"POL2\",\n",
    "\"IRF2BP2_R3\"]"
   ]
  },
  {
   "cell_type": "code",
   "execution_count": null,
   "metadata": {},
   "outputs": [],
   "source": [
    "bindings['name']= [i[:-6] for i in bindings['name']]\n",
    "bindings['tf'] = [i.split('_')[0] for i in bindings['name']]\n",
    "bindings=bindings[~bindings.name.isin(toremove)]"
   ]
  },
  {
   "cell_type": "code",
   "execution_count": null,
   "metadata": {},
   "outputs": [],
   "source": [
    "bindings"
   ]
  },
  {
   "cell_type": "code",
   "execution_count": null,
   "metadata": {},
   "outputs": [],
   "source": [
    "replicates"
   ]
  },
  {
   "cell_type": "markdown",
   "metadata": {
    "slideshow": {
     "slide_type": "slide"
    }
   },
   "source": [
    "### Merge\n",
    "\n",
    "**If A U B  > ½ A and #A = #B** *we merge peaks and flag for bam merge\n",
    "\n",
    "**If 0 < A U B  < ½ A and #A >> #B**  *we keep only A and flag for bam merge\n",
    "\n",
    "- Not so good of an overlap. \n",
    "- Most of the time, one will have much more peak than the other\n",
    "\n",
    "all is about choosing values of:\n",
    "- how much is enough overlap, \n",
    "- how much read is enough to say we found an uncalled peak...\n"
   ]
  },
  {
   "cell_type": "code",
   "execution_count": null,
   "metadata": {
    "slideshow": {
     "slide_type": "slide"
    }
   },
   "outputs": [],
   "source": [
    "%matplotlib inline\n",
    "mergedpeak, tomergebam, remove = chiphelper.mergeReplicatePeaks(bindings,\n",
    "                            replicates,'data/bigwig/',markedasbad=bad,\n",
    "                            window=200, mincov=4, doPlot=True, cov={}, use='max',\n",
    "                            MINOVERLAP=0.5, SIZECUTOFF=0.7, mergewindow=50)"
   ]
  },
  {
   "cell_type": "code",
   "execution_count": null,
   "metadata": {},
   "outputs": [],
   "source": [
    "ELF2\n",
    "GATA2\n",
    "IKZF1\n",
    "ZEB2"
   ]
  },
  {
   "cell_type": "code",
   "execution_count": null,
   "metadata": {},
   "outputs": [],
   "source": [
    "tomergebam = [['CEBPA_R2', 'CEBPA_R1'],\n",
    " ['IRF2BP2_R4', 'IRF2BP2_R1'],\n",
    " ['IRF2BP2_R4', 'IRF2BP2_R2'],\n",
    " ['IRF2BP2_R4', 'IRF2BP2_R3'],\n",
    " ['LMO2_R1', 'LMO2_R2'],\n",
    " ['MEF2C_R1', 'MEF2C_R2'],\n",
    " ['MEF2C_R1', 'MEF2C_R3'],\n",
    " ['MYB_R1', 'MYB_R2'],\n",
    " ['MYC_R1', 'MYC_R2'],\n",
    " ['ZMYND8_R1', 'ZMYND8_R2']]"
   ]
  },
  {
   "cell_type": "code",
   "execution_count": null,
   "metadata": {
    "slideshow": {
     "slide_type": "subslide"
    }
   },
   "outputs": [],
   "source": [
    "remove = ['DMSO','CTCF','ETV6','GSE1']"
   ]
  },
  {
   "cell_type": "code",
   "execution_count": null,
   "metadata": {},
   "outputs": [],
   "source": [
    "mergedpeak = pd.concat([peaks for _, peaks in mergedpeak.items()]).drop(['tf','size'],1)"
   ]
  },
  {
   "cell_type": "code",
   "execution_count": null,
   "metadata": {},
   "outputs": [],
   "source": [
    "mergedpeak.drop(['tf','size'],1).to_csv('temp/merged.csv')"
   ]
  },
  {
   "cell_type": "code",
   "execution_count": null,
   "metadata": {},
   "outputs": [],
   "source": [
    "mergedpeak.name = [i.split('_')[0] for i in mergedpeak.name]"
   ]
  },
  {
   "cell_type": "markdown",
   "metadata": {},
   "source": [
    "## show replicates overlap"
   ]
  },
  {
   "cell_type": "markdown",
   "metadata": {},
   "source": [
    "### sorting and removing samples"
   ]
  },
  {
   "cell_type": "code",
   "execution_count": null,
   "metadata": {},
   "outputs": [],
   "source": [
    "bigwigs=os.listdir('data/bigwig/')\n",
    "for val in bigwigs:\n",
    "    for v in remove + toremove + ['scale','POLII','IGG','CTCF','INPUT']:\n",
    "        if v in val:\n",
    "            bigwigs.remove(val)\n",
    "            break\n",
    "bigwigs = ['data/bigwig/'+ i for i in bigwigs]"
   ]
  },
  {
   "cell_type": "code",
   "execution_count": null,
   "metadata": {},
   "outputs": [],
   "source": [
    "merged = chiphelper.simpleMergedPeaks(mergedpeak[~mergedpeak.name.isin(\n",
    "    toremove+remove+['scale','POLII','IGG','CTCF','INPUT'])], window=200)"
   ]
  },
  {
   "cell_type": "code",
   "execution_count": null,
   "metadata": {},
   "outputs": [],
   "source": [
    "merged.to_csv('temp/merged.csv')"
   ]
  },
  {
   "cell_type": "code",
   "execution_count": null,
   "metadata": {},
   "outputs": [],
   "source": [
    "merged = pd.read_csv('temp/merged.csv').drop('Unnamed: 0',1)"
   ]
  },
  {
   "cell_type": "code",
   "execution_count": null,
   "metadata": {},
   "outputs": [],
   "source": [
    "bigwigs"
   ]
  },
  {
   "cell_type": "markdown",
   "metadata": {
    "slideshow": {
     "slide_type": "slide"
    }
   },
   "source": [
    "## Co Binding Matrix\n",
    "\n",
    "Look at AUC for all ChIPs over all peaks of all ChIPs"
   ]
  },
  {
   "cell_type": "code",
   "execution_count": null,
   "metadata": {},
   "outputs": [],
   "source": [
    "merged[merged.columns[8:]].sum(0)"
   ]
  },
  {
   "cell_type": "code",
   "execution_count": null,
   "metadata": {},
   "outputs": [],
   "source": [
    "i = merged[merged.columns[8:]].sum(1)\n",
    "i.max(),i.mean(),i.min()"
   ]
  },
  {
   "cell_type": "code",
   "execution_count": null,
   "metadata": {
    "slideshow": {
     "slide_type": "subslide"
    }
   },
   "outputs": [],
   "source": [
    "cor = chiphelper.createCorrMatrix(merged, bigwigs, window=10)"
   ]
  },
  {
   "cell_type": "code",
   "execution_count": null,
   "metadata": {},
   "outputs": [],
   "source": [
    "np.save('temp/corr.npy', cor)"
   ]
  },
  {
   "cell_type": "code",
   "execution_count": null,
   "metadata": {},
   "outputs": [],
   "source": [
    "cor = np.load('temp/corr.npy')"
   ]
  },
  {
   "cell_type": "code",
   "execution_count": null,
   "metadata": {},
   "outputs": [],
   "source": [
    "cor.mean(0).min()"
   ]
  },
  {
   "cell_type": "code",
   "execution_count": null,
   "metadata": {},
   "outputs": [],
   "source": [
    "cor.shape"
   ]
  },
  {
   "cell_type": "markdown",
   "metadata": {},
   "source": [
    "## dropping weird samples: IKZF1_R1, GATA2_R2, IRF2BP2_R4"
   ]
  },
  {
   "cell_type": "code",
   "execution_count": null,
   "metadata": {},
   "outputs": [],
   "source": [
    "weird = [29,20,16]\n",
    "cor  = np.delete(cor, weird, 0)\n",
    "bigwigs = [a for i,a in enumerate(bigwigs) if i not in weird]"
   ]
  },
  {
   "cell_type": "code",
   "execution_count": null,
   "metadata": {},
   "outputs": [],
   "source": [
    "PCS=30\n",
    "TOTVAR=50000"
   ]
  },
  {
   "cell_type": "code",
   "execution_count": null,
   "metadata": {},
   "outputs": [],
   "source": [
    "cor = np.log2(1+cor)\n",
    "a = cor.var(0).argsort()\n",
    "subcor = cor[:,a[-TOTVAR:]]"
   ]
  },
  {
   "cell_type": "code",
   "execution_count": null,
   "metadata": {},
   "outputs": [],
   "source": [
    "subcor.shape"
   ]
  },
  {
   "cell_type": "code",
   "execution_count": null,
   "metadata": {},
   "outputs": [],
   "source": [
    "subcor = PCA(PCS).fit_transform(subcor)"
   ]
  },
  {
   "cell_type": "code",
   "execution_count": null,
   "metadata": {
    "slideshow": {
     "slide_type": "subslide"
    }
   },
   "outputs": [],
   "source": [
    "%matplotlib inline\n",
    "cmaps = ['Greys', 'Purples', 'Blues', 'Greens', 'Oranges', 'Reds',\n",
    "         'YlOrBr', 'YlOrRd', 'OrRd', 'PuRd', 'RdPu', 'BuPu',\n",
    "         'GnBu', 'PuBu', 'YlGnBu', 'PuBuGn', 'BuGn', 'YlGn']\n",
    "import seaborn as sns\n",
    "from matplotlib import pyplot \n",
    "fig, ax = pyplot.subplots(figsize=(20,15))\n",
    "sns.heatmap(ax=ax, data=subcor,xticklabels=False, cmap=cmaps[-4],\n",
    "            yticklabels=[i.split('.')[-4].split('/')[-1] for i in bigwigs],\n",
    "            cbar_kws={\"orientation\": \"horizontal\"},\n",
    "            vmax=0.7).set_title('PCs of each binding profile over conscensus peakset')\n",
    "#fig.savefig(\"temp/co_occupancy_matrix.png\")"
   ]
  },
  {
   "cell_type": "code",
   "execution_count": null,
   "metadata": {},
   "outputs": [],
   "source": [
    "fig.savefig('PCs_binding_peakset.png')"
   ]
  },
  {
   "cell_type": "code",
   "execution_count": null,
   "metadata": {
    "slideshow": {
     "slide_type": "slide"
    }
   },
   "outputs": [],
   "source": [
    "model = AgglomerativeClustering(n_clusters=5,linkage=\"average\", \n",
    "                                affinity=\"cosine\", compute_full_tree=True)\n",
    "labels = model.fit_predict(subcor)\n",
    "ii = itertools.count(cor.shape[0])\n",
    "tree = [{'node_id': next(ii), 'left': x[0], 'right':x[1]} for x in model.children_]"
   ]
  },
  {
   "cell_type": "code",
   "execution_count": null,
   "metadata": {},
   "outputs": [],
   "source": [
    "labels"
   ]
  },
  {
   "cell_type": "markdown",
   "metadata": {
    "slideshow": {
     "slide_type": "slide"
    }
   },
   "source": [
    "## clustering\n",
    "\n",
    "I have tried gaussian mixtures and Agglomerative clustering algorithm. Only the second can create a hierarchical clustering.\n",
    "\n",
    "It seems that gaussian mixture makes more sense given the data we have, for now, is more \"homogeneous\". \n",
    "\n",
    "**I am still not so happy with the clustering.** It can be because of the how much importance, outlier values and the high number of noisy values from locations with no peaks.\n",
    "\n",
    "We can use similar methods to RNAseq to improve this (clamping values, log transform, first round of PCA..)\n"
   ]
  },
  {
   "cell_type": "code",
   "execution_count": null,
   "metadata": {
    "slideshow": {
     "slide_type": "subslide"
    }
   },
   "outputs": [],
   "source": [
    "labels = GaussianMixture(n_components=2, covariance_type='diag').fit_predict(subcor)"
   ]
  },
  {
   "cell_type": "code",
   "execution_count": null,
   "metadata": {
    "slideshow": {
     "slide_type": "slide"
    }
   },
   "outputs": [],
   "source": [
    "names = np.array([i.split('.')[-4].split('/')[-1] for i in bigwigs])\n",
    "sort = labels.argsort()\n",
    "p = helper.plotCorrelationMatrix(data=cor[sort],\n",
    "                            names=names[sort],\n",
    "                            colors=labels[sort],\n",
    "                            title=\"correlation between TF occupancy\",\n",
    "                            interactive=True)"
   ]
  },
  {
   "cell_type": "code",
   "execution_count": null,
   "metadata": {},
   "outputs": [],
   "source": [
    "show(p)"
   ]
  },
  {
   "cell_type": "code",
   "execution_count": null,
   "metadata": {},
   "outputs": [],
   "source": [
    "p = helper.scatter(TSNE(2,5).fit_transform(subcor),labels=names, colors=labels)"
   ]
  },
  {
   "cell_type": "code",
   "execution_count": null,
   "metadata": {},
   "outputs": [],
   "source": [
    "show(p)"
   ]
  },
  {
   "cell_type": "markdown",
   "metadata": {
    "slideshow": {
     "slide_type": "slide"
    }
   },
   "source": [
    "# Next steps"
   ]
  },
  {
   "cell_type": "markdown",
   "metadata": {
    "slideshow": {
     "slide_type": "subslide"
    }
   },
   "source": [
    "## annotatePeaks"
   ]
  },
  {
   "cell_type": "markdown",
   "metadata": {
    "slideshow": {
     "slide_type": "subslide"
    }
   },
   "source": [
    "### based on closest expressed gene"
   ]
  },
  {
   "cell_type": "code",
   "execution_count": null,
   "metadata": {},
   "outputs": [],
   "source": []
  },
  {
   "cell_type": "markdown",
   "metadata": {
    "slideshow": {
     "slide_type": "subslide"
    }
   },
   "source": [
    "### based on the ABC model\n",
    "\n",
    "![](images/ABCtitle.png)\n",
    "\n",
    "They tested a new model based on and validated by CRISPRi-FlowFISH which is basically able to find enhancer mapping to genes. \n",
    "They used it to compute their model's Accuracy and found a 70% accuracy compared to less than 50% for closest expressed gene. \n",
    "\n",
    "Way to integrate our HiC data (need ATAC-seq like data as well, but openly available) \n",
    "\n",
    "\n",
    "![](images/ABCmodel.png)"
   ]
  },
  {
   "cell_type": "code",
   "execution_count": null,
   "metadata": {},
   "outputs": [],
   "source": [
    "Helper.scatter(TSNE(2,5).fit_transform(data.T), labels=zones.columns[11:],colors=labels)"
   ]
  },
  {
   "cell_type": "markdown",
   "metadata": {
    "slideshow": {
     "slide_type": "slide"
    }
   },
   "source": [
    "## Compute the CRC and merge with gene assignement\n",
    "\n",
    "~1500 lines of code. Seems to be a slightly updated version from the code I used the first time which was from their originial CRC paper. \n",
    "\n",
    "There is not a lot of documentation but it was just updated last week and might continue like that\n",
    "\n",
    "![](images/CRCpres.png)"
   ]
  },
  {
   "cell_type": "markdown",
   "metadata": {
    "slideshow": {
     "slide_type": "slide"
    }
   },
   "source": [
    "## find set of TFs that explain the most cobindings "
   ]
  },
  {
   "cell_type": "markdown",
   "metadata": {
    "slideshow": {
     "slide_type": "slide"
    }
   },
   "source": [
    "## relate to gene depencies"
   ]
  },
  {
   "cell_type": "markdown",
   "metadata": {
    "slideshow": {
     "slide_type": "slide"
    }
   },
   "source": [
    "## what else?"
   ]
  },
  {
   "cell_type": "markdown",
   "metadata": {},
   "source": []
  },
  {
   "cell_type": "markdown",
   "metadata": {
    "slideshow": {
     "slide_type": "slide"
    }
   },
   "source": [
    "### Compare data with other labs (H3K27, HiC..)\n",
    "\n",
    "we need to redo everything for similar normal cell type, getting TFs based on the CRC (find it with CRCmapper or on litterature)"
   ]
  }
 ],
 "metadata": {
  "celltoolbar": "Diaporama",
  "kernelspec": {
   "display_name": "Python 3",
   "language": "python",
   "name": "python3"
  },
  "language_info": {
   "codemirror_mode": {
    "name": "ipython",
    "version": 3
   },
   "file_extension": ".py",
   "mimetype": "text/x-python",
   "name": "python",
   "nbconvert_exporter": "python",
   "pygments_lexer": "ipython3",
   "version": "3.7.6"
  },
  "latex_envs": {
   "LaTeX_envs_menu_present": true,
   "autoclose": false,
   "autocomplete": true,
   "bibliofile": "biblio.bib",
   "cite_by": "apalike",
   "current_citInitial": 1,
   "eqLabelWithNumbers": true,
   "eqNumInitial": 1,
   "hotkeys": {
    "equation": "Ctrl-E",
    "itemize": "Ctrl-I"
   },
   "labels_anchors": false,
   "latex_user_defs": false,
   "report_style_numbering": false,
   "user_envs_cfg": false
  },
  "toc": {
   "base_numbering": 1,
   "nav_menu": {},
   "number_sections": false,
   "sideBar": false,
   "skip_h1_title": false,
   "title_cell": "Table of Contents",
   "title_sidebar": "Contents",
   "toc_cell": false,
   "toc_position": {},
   "toc_section_display": false,
   "toc_window_display": false
  },
  "varInspector": {
   "cols": {
    "lenName": 16,
    "lenType": 16,
    "lenVar": 40
   },
   "kernels_config": {
    "python": {
     "delete_cmd_postfix": "",
     "delete_cmd_prefix": "del ",
     "library": "var_list.py",
     "varRefreshCmd": "print(var_dic_list())"
    },
    "r": {
     "delete_cmd_postfix": ") ",
     "delete_cmd_prefix": "rm(",
     "library": "var_list.r",
     "varRefreshCmd": "cat(var_dic_list()) "
    }
   },
   "types_to_exclude": [
    "module",
    "function",
    "builtin_function_or_method",
    "instance",
    "_Feature"
   ],
   "window_display": false
  }
 },
 "nbformat": 4,
 "nbformat_minor": 2
}
