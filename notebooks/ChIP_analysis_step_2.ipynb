{
 "cells": [
  {
   "cell_type": "markdown",
   "metadata": {
    "slideshow": {
     "slide_type": "slide"
    }
   },
   "source": [
    "# ChIP AML PiPeline v2"
   ]
  },
  {
   "cell_type": "code",
   "execution_count": null,
   "metadata": {
    "slideshow": {
     "slide_type": "fragment"
    }
   },
   "outputs": [],
   "source": [
    "import os\n",
    "from IPython.display import IFrame\n",
    "import pandas as pd\n",
    "import sys\n",
    "sys.path.insert(0, '../..')\n",
    "from JKBio.epigenetics import ChIP_helper as chiphelper\n",
    "from JKBio import Helper as helper\n",
    "import igv\n",
    "import numpy as np\n",
    "import pyBigWig\n",
    "import itertools\n",
    "import seaborn as sns\n",
    "from scipy import stats\n",
    "from matplotlib import cm\n",
    "from scipy.cluster.hierarchy import linkage, leaves_list\n",
    "from matplotlib import pyplot as plt\n",
    "from sklearn.cluster import AgglomerativeClustering\n",
    "from sklearn.mixture import GaussianMixture\n",
    "from bokeh.plotting import *\n",
    "from sklearn.manifold import MDS, TSNE\n",
    "from sklearn.decomposition import PCA\n",
    "from sklearn.preprocessing import scale\n",
    "from pybedtools import BedTool\n",
    "output_notebook()\n",
    "%load_ext autoreload\n",
    "%autoreload 2"
   ]
  },
  {
   "cell_type": "markdown",
   "metadata": {
    "slideshow": {
     "slide_type": "skip"
    }
   },
   "source": [
    "## adding the data bucket to path"
   ]
  },
  {
   "cell_type": "code",
   "execution_count": null,
   "metadata": {
    "slideshow": {
     "slide_type": "skip"
    }
   },
   "outputs": [],
   "source": [
    "! gcsfuse --only-dir Chip_AML jkobject data/seqs"
   ]
  },
  {
   "cell_type": "markdown",
   "metadata": {
    "slideshow": {
     "slide_type": "slide"
    }
   },
   "source": [
    "## doing nextflow analysis"
   ]
  },
  {
   "cell_type": "code",
   "execution_count": null,
   "metadata": {
    "slideshow": {
     "slide_type": "subslide"
    }
   },
   "outputs": [],
   "source": [
    "singleend, pairedend = chiphelper.extractPairedSingleEndFrom('data/seqs')"
   ]
  },
  {
   "cell_type": "markdown",
   "metadata": {
    "slideshow": {
     "slide_type": "slide"
    }
   },
   "source": [
    "## Pipeline\n",
    "\n",
    "![](images/gcpjup.png)\n",
    "\n",
    "\n",
    "- Raw read QC (FastQC)\n",
    "- Adapter trimming (Trim Galore!)\n",
    "- Alignment (BWA)\n",
    "- Mark duplicates (picard)\n",
    "- Merge alignments from multiple libraries of the same sample (picard)\n",
    "- Re-mark duplicates (picard)\n",
    "- Filtering to remove: blacklisted regions, duplicates, primary alignments,unmapped,multiple locations, containing >  4 mismatches, insert size > 2kb, map to different chromosomes \n",
    "- Alignment-level QC and estimation of library complexity (picard, Preseq)\n",
    "- Create normalised bigWig files scaled to 1 million mapped reads (BEDTools, bedGraphToBigWig)\n",
    "- Generate gene-body meta-profile from bigWig files (deepTools)\n",
    "- Calculate genome-wide IP enrichment relative to control (deepTools)\n",
    "- Calculate strand cross-correlation peak and ChIP-seq quality measures including NSC and RSC (phantompeakqualtools)\n",
    "- Call broad/narrow peaks (MACS2)\n",
    "- Annotate peaks relative to gene features (HOMER)\n",
    "- Create consensus peakset across all samples and create tabular file to aid in the filtering of the data (BEDTools)\n",
    "- Count reads in consensus peaks (featureCounts)\n",
    "\n",
    "![](images/nfcore.png)\n"
   ]
  },
  {
   "cell_type": "code",
   "execution_count": null,
   "metadata": {},
   "outputs": [],
   "source": [
    "! nextflow cloud create 'JKcluster' -c 4"
   ]
  },
  {
   "cell_type": "code",
   "execution_count": null,
   "metadata": {
    "slideshow": {
     "slide_type": "fragment"
    }
   },
   "outputs": [],
   "source": [
    "! nextflow cloud create jkcluster -c \"nextflow/nextflow.config\" 40 && \\\n",
    "nextflow nf-core/chipseq -c \"nextflow/nextflow.config\" \\\n",
    "--singleEnd \\\n",
    "--seq_center 'DFCI' \\\n",
    "--email 'jkobject@gmail.com' \\\n",
    "--bucket-dir 'gs://jkobject/Chip_AML/nextflow/CHIPprocess_2/' \\\n",
    "--keyfile '~/jkobject-b6f1adaffcb8.json' \\\n",
    "--projectname 'jkobject' \\\n",
    "--zone 'us-east1-b' \\\n",
    "--skipDiffAnalysis \\\n",
    "--narrowPeak \\\n",
    "--design \"nextflow/design.csv\" \\ \n",
    "--genome 'GRCh38' \\\n",
    "--profile gcp \\\n",
    "--resume \\\n",
    "--skipPreseq \\\n",
    "--max_cpus 8 && \\\n",
    "nextflow cloud shutdown jkclustert"
   ]
  },
  {
   "cell_type": "markdown",
   "metadata": {
    "slideshow": {
     "slide_type": "slide"
    }
   },
   "source": [
    "## displayingPeaks"
   ]
  },
  {
   "cell_type": "code",
   "execution_count": null,
   "metadata": {},
   "outputs": [],
   "source": [
    "!gsutil -m cp -r gs://amlproject/Chip/results/bwa/mergedLibrary/macs/narrowPeak/ ../data"
   ]
  },
  {
   "cell_type": "code",
   "execution_count": null,
   "metadata": {},
   "outputs": [],
   "source": [
    "!gsutil -m cp -r gs://amlproject/Chip/results/bwa/mergedLibrary/bigwig/ ../../data"
   ]
  },
  {
   "cell_type": "code",
   "execution_count": null,
   "metadata": {},
   "outputs": [],
   "source": [
    "!cp ../../data/narrowPeak/*MV411*.narrowPeak ../../data/MV4narrow"
   ]
  },
  {
   "cell_type": "code",
   "execution_count": null,
   "metadata": {},
   "outputs": [],
   "source": [
    "! mkdir ../../data/BroadPeaks/MV411 && mv ../../data/BroadPeaks/MV411_* ../../data/BroadPeaks/MV411/"
   ]
  },
  {
   "cell_type": "code",
   "execution_count": null,
   "metadata": {},
   "outputs": [],
   "source": [
    "bindings = chiphelper.loadPeaks('../../data/MV4narrow/', isMacs=False,skiprows=0)"
   ]
  },
  {
   "cell_type": "code",
   "execution_count": null,
   "metadata": {},
   "outputs": [],
   "source": [
    "broadbindings = chiphelper.loadPeaks('../../data/BroadPeaks/MV411/', isMacs=False,skiprows=0)"
   ]
  },
  {
   "cell_type": "code",
   "execution_count": null,
   "metadata": {
    "slideshow": {
     "slide_type": "slide"
    }
   },
   "outputs": [],
   "source": [
    "SEgenes = pd.read_csv('../data/SEgenes.csv')\n",
    "CTF = pd.read_csv('../data/CTF.csv', header=None)[0].tolist()"
   ]
  },
  {
   "cell_type": "code",
   "execution_count": null,
   "metadata": {},
   "outputs": [],
   "source": [
    "CTF.extend(['GATA2','IKZF1','LYL1' ,'PU1','SMC1'])\n",
    "CTF"
   ]
  },
  {
   "cell_type": "code",
   "execution_count": null,
   "metadata": {},
   "outputs": [],
   "source": [
    "CTF = list(set(CTF))"
   ]
  },
  {
   "cell_type": "code",
   "execution_count": null,
   "metadata": {},
   "outputs": [],
   "source": [
    "peaks = !ls ../../data/MV4narrow/*.narrowPeak\n",
    "broadpeaks = ! ls ../../data/BroadPeaks/MV411/*.broadPeak\n",
    "peaks = set([i.split('/')[-1].split('.')[0] for i in broadpeaks]) | set([i.split('/')[-1].split('.')[0] for i in peaks])"
   ]
  },
  {
   "cell_type": "code",
   "execution_count": null,
   "metadata": {},
   "outputs": [],
   "source": [
    "peaks"
   ]
  },
  {
   "cell_type": "code",
   "execution_count": null,
   "metadata": {},
   "outputs": [],
   "source": [
    "set(bindings['name'])"
   ]
  },
  {
   "cell_type": "code",
   "execution_count": null,
   "metadata": {},
   "outputs": [],
   "source": [
    "bindings"
   ]
  },
  {
   "cell_type": "code",
   "execution_count": null,
   "metadata": {},
   "outputs": [],
   "source": [
    "broadbindings"
   ]
  },
  {
   "cell_type": "code",
   "execution_count": null,
   "metadata": {},
   "outputs": [],
   "source": [
    "bindings = bindings[~bindings.name.isin(set(broadbindings.name))]"
   ]
  },
  {
   "cell_type": "code",
   "execution_count": null,
   "metadata": {},
   "outputs": [],
   "source": [
    "bindings = bindings.append(broadbindings)"
   ]
  },
  {
   "cell_type": "code",
   "execution_count": null,
   "metadata": {},
   "outputs": [],
   "source": [
    "len(bindings)"
   ]
  },
  {
   "cell_type": "code",
   "execution_count": null,
   "metadata": {},
   "outputs": [],
   "source": [
    "bindings['replicate']= [i.split('-')[-1][-1] for i in bindings['name']]\n",
    "bindings['tf'] = [i.split('-')[2] for i in bindings['name']]"
   ]
  },
  {
   "cell_type": "code",
   "execution_count": null,
   "metadata": {},
   "outputs": [],
   "source": [
    "bindings['peak_number'] = ['_'.join([i.split('_')[2],i.split('_')[5]]) for i in bindings['peak_number']]"
   ]
  },
  {
   "cell_type": "code",
   "execution_count": null,
   "metadata": {},
   "outputs": [],
   "source": [
    "bindings"
   ]
  },
  {
   "cell_type": "code",
   "execution_count": null,
   "metadata": {},
   "outputs": [],
   "source": [
    "bindings.to_csv('../temp/bindings.bed',sep='\\t',index=False)"
   ]
  },
  {
   "cell_type": "code",
   "execution_count": null,
   "metadata": {},
   "outputs": [],
   "source": [
    "bindings= pd.read_csv('../temp/bindings.bed',sep='\\t',header=None, index_col=None,\n",
    "                     names=[\"-log10pvalue\",\"-log10qvalue\", \"chrom\", \"end\", \"foldchange\", \"name\", \"peak_number\", \"relative_summit_pos\", \"start\", \"replicate\",\"tf\"])"
   ]
  },
  {
   "cell_type": "code",
   "execution_count": null,
   "metadata": {},
   "outputs": [],
   "source": [
    "%matplotlib inline\n",
    "## TODO: compute matrix plot for each accross TSS"
   ]
  },
  {
   "cell_type": "markdown",
   "metadata": {
    "slideshow": {
     "slide_type": "slide"
    }
   },
   "source": [
    "## Marking each TF with a different quality score"
   ]
  },
  {
   "cell_type": "markdown",
   "metadata": {
    "slideshow": {
     "slide_type": "subslide"
    }
   },
   "source": [
    "## merging duplicates"
   ]
  },
  {
   "cell_type": "code",
   "execution_count": null,
   "metadata": {},
   "outputs": [],
   "source": [
    "bindings"
   ]
  },
  {
   "cell_type": "code",
   "execution_count": null,
   "metadata": {
    "slideshow": {
     "slide_type": "subslide"
    }
   },
   "outputs": [],
   "source": [
    "replicates = chiphelper.findReplicates(folder='data/seqs/results/bwa/', sep='_', namings='_R([0-9])',namepos=0)"
   ]
  },
  {
   "cell_type": "markdown",
   "metadata": {
    "slideshow": {
     "slide_type": "slide"
    }
   },
   "source": [
    "# we do a visual inspection of the features and and look at QCs"
   ]
  },
  {
   "cell_type": "markdown",
   "metadata": {
    "slideshow": {
     "slide_type": "subslide"
    }
   },
   "source": [
    "### [igv tracks](https://igv.org/app/?sessionURL=blob:3Z3rU9rcFsb_lU6.vO.Zg0EIcvGbolinYB0vp5czHSeEGFIhscmOaJ3.790hwMbzsrZZ9rTJIx.YAfIk62HxY7Mfcnk0IvfajdzAcY3dR8MfGbvG2Kt1jIoR2FP5nPE2mdrBm7.7Z92x1aqmr_1Lvnhtx8K.POuniwtxG.9Wq7FljhJ7Ip93bswk3nLlIls1057a38PAnsWmE06rvndnDqPQHvlBLHyRCNcMI6_quUE4deNq7H6bb2J.Z843IjfmByP3_o9sTN77coPOgwiHdjD6jdtMN7EvN2GKe2H8qBiT0EliY_e_hj2ZGF8qhojkVtInHg3xcJs2QkqTeZ8qRhiN3MjYlRtvdVrNjlWzGu1m3arttNx_W9tt2bvw_NYPgnQhESXuj8qjkUQTuRIvNfL1Jhx.dR1R7Y7926u9Qb8auXEyEXF1OLOrUzfy3FHfH0Z29FAd.t7M96q9_nHt6qxmTvtD05mcmPLpD773pDdBMpmsSttefX5IpRNOQrmkEXnDv7cr25Vaq51.suyJ6G5.Zez63lgYu5ZcuZ2I8NyxJ3ILqcGKMZOFhLNeEjjCDwMpnrp2IEV3fuwP_YkvHj7Ml5CvbNXk85PQW.ivZUvlCv7nLZMfcX_iPuchDpPIcS.yBqWCFI0wmtqyTCN76.QziwZmD9LKY1U5qzWBHUXh7NS1b5YNubqVD2JTvUC3pLZqyV9T28mEf_1KH.pP.7B4H__RCCdMAqHpRI43fpNL7VufLZmq1NtvB0Eo7HlRFWNq35.FM8nXzrZ0IeXCjdJ1zRF0xlE4DWMJrFxSkusaX36doKMej6D6ql2kEogg0kNxBC1KYhBkARKkcYlG0PHJ6eUFB6HGql.0FIgh2sQfhmhjdwaHvfoBpzs7q.7QUqDu0CaK.4pb1sT4jmsCfsfpbKJ9yZ1esn4ltFbtooRACFEWigMoq4iBTzr3QsOHNokGz_kpC56amhJRSiB6KAvF0ZNVxJmiqkkPDj60SzR8Ph_u11n8qAkRKQUCiPRQHEGLkjgIqUkPDkIam2gMdQ_3T_dYEKl5EK0Foog2URxGy5o4HCFOhHQ.QUGq5wdJzYVoLR5IG0wUDlKdAxLilEjnEw6ki26PNSB1FEeUFAkjykOBFGUlMSBKP_J4ENE20Rg6GJy_v2qPr95a7.ot.f5z_sdTIUOetQCRlcdOcZD9szoOb4hBRD7HqOgN9j6ysFPZxHNrAESOslI8blllHNQQA4vn3UJi9pLhTcUXz64CDbQSD2wvG9UQM40cdtFYO.z3WDl7XSUbpBSILdJDcUwtSuKwhBhraGxiMpQ_HayrVIOUwjFUqmxwURJnf0rEVENjE46hi_80OeOQpaIMUorEEOWhQIaykjgMISYVGpuYDOUfhyyVS5BSOIbKNQ5lJXEYQowgNDYxGbLyM6QyB1IKx9AGD0UzZHEYQswWNDbhDi_bu9hjhQqWChVoLdIRZqSJAg8xW9TE4QgxV9D5BAWJ8YtOJQu0Fg.kUv2mW9bEAKmBGC7ofMKBdH7IOhqjodIFUoqEEeWhQIqykjgQIaYLGpuYDOUfixoqXSClcAyVayTKSuIwhJguaGyiMfSCnRoaKmB4JfszlHNXhhftxdBATBpe1w4Mx0dHLJxU1EApkU7DQVgoDqOsIg5CiCED7RIOn3efe7ypkYoYaC0SQqSJAiFa1MTAaAcxYtD5BAUp__xoR2UMtBYPpFLNkJY1cUBCjBl0PuFAOuvV909Z_x_tqKhBp0aCSWOjQJxWVXGAQswc9E5hkWKMTip20KkRkSrXCLWqioMUYuygdwqLVP5dhXbWogeNGhGpUu0wpKriIAUZQ2idwiLVyI_UWhihUSMitcFGCZBqcE7fChlJaJ0CItXmTKSaa5kEJcWCabOHQklKS.JgBBlI0DbRGOoP3rPCiKYKI0gpEEOkh.IYWpTEYQgxg9DYxGQof_rQVOkDKYVjqFS5w6IkDkOIoYPGJhxDn_qsP2qbKm4gpUgMUR4KZCgricMQYsqgsYnGEPPEXU0VL7yCE3aV70Rd7BN0tRAjhddzYq7B4QHvijAqTiClUJdVIjwUeVWleUkchBDjBI1NPIZ69S4LIpUn0Fqwi5NtNlHsxcnSmjgcIUYKOp.gIOUPFVpPr_K3WYsHUqlihWVNHJBQL_NH.QQFKf.ODC2VLNBaPJBKtRPDsiYOSIjhgs4nHkjH57z50Vq.QGqhQKJMFAlSVhPnwpmQKYPGJxxIn_Y5GLXXYgZCiQQRYaFAhOYVcQCCzBhIl5D45J8XtdcCBkKJhk.55kTzijj4QEYLpEs8fFj5XHstViCUUPiULpubV8TBBzJQIF1C4sMYfdbCBEKJhk_JRh9mHteGjBFIl2j4nL7vHx.zxh8VItBaIIRoE8VBtKyJgVEHMUTQ.UQD6ezy5CMrjeuoGIHWAoFEmygOpGVNHJAQwwSdT0SQWEdAdFSgQGvBQCrbMRDLmjggIcYKOp9oIJ0PurwBSSULpBQII9JDcRQtSuJAhBguaGyiMfT5cJ91JFFHxQukFIgh0kNxDC1K4jCEmDBobMIxNPh0csA6LryjMgaNGIkj2kWBJC2LYrBUSz80eDDpnKLilH9Qqm2rqEGjBuTpt41My.mAex27394cydbF6.uJ3Ot5OyuLXo6FuE3bGVvmKJHlC9u5MZN4y7VjsVUz7an9PQzsWWw64bTqe3dmGHmmXIP8ZMTVsVfryLZfp1sx4zAS7sgU98L0vj9p6e_aiCmG_sa.bMlPTeROwzt7uNYW9UWQ3vRtokxt6tH_Ba4vP34C)"
   ]
  },
  {
   "cell_type": "markdown",
   "metadata": {
    "slideshow": {
     "slide_type": "subslide"
    }
   },
   "source": [
    "### [multiQC](http://35.184.213.1:8888/view/data/results/multiqc/multiqc_report.html)"
   ]
  },
  {
   "cell_type": "markdown",
   "metadata": {
    "slideshow": {
     "slide_type": "slide"
    }
   },
   "source": [
    "### process: \n",
    "\n",
    "look at all t with a very low frip score as noted by encode. \n",
    "\n",
    "look at all peaks tracks together and see for location of intense co binding. \n",
    "\n",
    "- if we can discern peaks and if, for some reasons, some good peaks are not called by macs. \n",
    "- if looks good and we can see a lot of peaks. \n",
    "- if a lot of noise but seems consistent with replicates. \n",
    "- if just seems to have very few peaks.\n",
    "\n",
    "Validate still but flag as potentially bad.\n",
    "\n",
    "Else remove."
   ]
  },
  {
   "cell_type": "markdown",
   "metadata": {
    "slideshow": {
     "slide_type": "slide"
    }
   },
   "source": [
    "### results:"
   ]
  },
  {
   "cell_type": "code",
   "execution_count": null,
   "metadata": {
    "slideshow": {
     "slide_type": "subslide"
    }
   },
   "outputs": [],
   "source": [
    "bad=[\n",
    "\"mp168\",\n",
    "\"mp129\",\n",
    "\"mp128\",\n",
    "\"mp773\",\n",
    "\"mp774\",\n",
    "\"mp575\",\n",
    "\"mp614\",\n",
    "\"mp714\",\n",
    "\"mp433\",\n",
    "\"mp156\",\n",
    "\"mp650\",\n",
    "\"mp604\",\n",
    "\"mp27\",\n",
    "\"mp627\",\n",
    "\"mp117\",\n",
    "\"mp771\",\n",
    "\"mp118\",\n",
    "\"mp431\",\n",
    "\"mp430\",\n",
    "\"mp324\",\n",
    "\"mp565\",\n",
    "\"mp569\",\n",
    "\"mp125\",\n",
    "\"mp627\",\n",
    "\"mp568\",\n",
    "\"mp427\",\n",
    "\"mp124\",\n",
    "\"mp716\",\n",
    "\"mp581\",\n",
    "\"mp589\",\n",
    "\"mp321\",\n",
    "\"mp601\",\n",
    "\"mp745\",\n",
    "\"mp772\",\n",
    "\"mp770\",\n",
    "\"mp590\",\n",
    "\"mp623\",\n",
    "\"mp718\"]"
   ]
  },
  {
   "cell_type": "markdown",
   "metadata": {
    "slideshow": {
     "slide_type": "slide"
    }
   },
   "source": [
    "### Merge\n",
    "\n",
    "**If A U B  > ½ A and #A = #B** *we merge peaks and flag for bam merge\n",
    "\n",
    "**If 0 < A U B  < ½ A and #A >> #B**  *we keep only A and flag for bam merge\n",
    "\n",
    "- Not so good of an overlap. \n",
    "- Most of the time, one will have much more peak than the other\n",
    "\n",
    "all is about choosing values of:\n",
    "- how much is enough overlap, \n",
    "- how much read is enough to say we found an uncalled peak...\n"
   ]
  },
  {
   "cell_type": "code",
   "execution_count": null,
   "metadata": {},
   "outputs": [],
   "source": [
    "from gsheets import Sheets\n",
    "sheets = Sheets.from_files('~/.client_secret.json', '~/.storage.json')\n",
    "url=\"https://docs.google.com/spreadsheets/d/1yFLjYB1McU530JnLgL0QIMAKIkVl3kl0_LCHje2gk8U\"\n",
    "gsheet = sheets.get(url).sheets[2].to_frame()\n",
    "gsheet"
   ]
  },
  {
   "cell_type": "code",
   "execution_count": null,
   "metadata": {},
   "outputs": [],
   "source": [
    "bw = ! ls ../../data/bigwig\n",
    "bw"
   ]
  },
  {
   "cell_type": "code",
   "execution_count": null,
   "metadata": {},
   "outputs": [],
   "source": [
    "len(set(bindings.name))"
   ]
  },
  {
   "cell_type": "code",
   "execution_count": null,
   "metadata": {},
   "outputs": [],
   "source": [
    "len(bw)"
   ]
  },
  {
   "cell_type": "code",
   "execution_count": null,
   "metadata": {},
   "outputs": [],
   "source": [
    "# ONE off\n",
    "for i in bw[2:]:\n",
    "    a = gsheet[gsheet.id=='mp'+i.split('_')[2]].name.values[0]\n",
    "    i = '../../data/bigwig/'+i\n",
    "    a = '../../data/bigwig/'+a+'.mLb.clN.bigWig'\n",
    "    ! mv $i $a\n",
    "    print(a)"
   ]
  },
  {
   "cell_type": "code",
   "execution_count": null,
   "metadata": {},
   "outputs": [],
   "source": [
    "set(bindings.name)"
   ]
  },
  {
   "cell_type": "code",
   "execution_count": null,
   "metadata": {
    "slideshow": {
     "slide_type": "slide"
    }
   },
   "outputs": [],
   "source": [
    "%matplotlib inline\n",
    "mergedpeak, tomergebam, remove = chiphelper.mergeReplicatePeaks(bindings,'../../data/bigwig/',markedasbad=bad, window=150, mincov=4, doPlot=True, minKL=10, cov={}, use='poisson', MINOVERLAP=0.25, mergewindow=10,lookeverywhere=True, only='',saveloc='../results/cobinding/')"
   ]
  },
  {
   "cell_type": "code",
   "execution_count": null,
   "metadata": {},
   "outputs": [],
   "source": [
    "tomergebam"
   ]
  },
  {
   "cell_type": "code",
   "execution_count": null,
   "metadata": {},
   "outputs": [],
   "source": [
    "mergedpeak = mergedpeak[mergedpeak.columns[[2,9,3,5,6,4,0,1,7,10]]]"
   ]
  },
  {
   "cell_type": "code",
   "execution_count": null,
   "metadata": {},
   "outputs": [],
   "source": [
    "mergedpeak.to_csv('../temp/merged_replicates.csv')"
   ]
  },
  {
   "cell_type": "code",
   "execution_count": null,
   "metadata": {},
   "outputs": [],
   "source": [
    "mergedpeak = pd.read_csv('../temp/merged_replicates.csv', index_col=0)"
   ]
  },
  {
   "cell_type": "markdown",
   "metadata": {},
   "source": [
    "## show replicates overlap"
   ]
  },
  {
   "cell_type": "markdown",
   "metadata": {},
   "source": [
    "### sorting and removing samples"
   ]
  },
  {
   "cell_type": "code",
   "execution_count": null,
   "metadata": {},
   "outputs": [],
   "source": [
    "bigwigs=os.listdir('../../data/bigwig/')\n",
    "for val in bigwigs:\n",
    "    for v in remove + toremove + ['scale','POLII','IGG','CTCF','INPUT']:\n",
    "        if v in val:\n",
    "            bigwigs.remove(val)\n",
    "            break\n",
    "bigwigs = ['data/bigwig/'+ i for i in bigwigs]"
   ]
  },
  {
   "cell_type": "code",
   "execution_count": null,
   "metadata": {},
   "outputs": [],
   "source": [
    "set(mergedpeak.tf)"
   ]
  },
  {
   "cell_type": "code",
   "execution_count": null,
   "metadata": {},
   "outputs": [],
   "source": [
    "mergedpeak.foldchange.min()"
   ]
  },
  {
   "cell_type": "code",
   "execution_count": null,
   "metadata": {},
   "outputs": [],
   "source": [
    "mergedpeak['name']=mergedpeak.tf"
   ]
  },
  {
   "cell_type": "code",
   "execution_count": null,
   "metadata": {},
   "outputs": [],
   "source": [
    "## Removing bad ChIP protein\n",
    "mergedpeak = mergedpeak[~mergedpeak['name'].isin(['CDK13','GSE1'])]"
   ]
  },
  {
   "cell_type": "code",
   "execution_count": null,
   "metadata": {},
   "outputs": [],
   "source": [
    "merged = chiphelper.simpleMergedPeaks(mergedpeak[~mergedpeak.tf.isin(['MED1','SMC1','CTCF','POLII','IRF2BP2_FLAG','IRF2BP2', 'H3K27ac', 'H3K27me3', 'H3K4me3', 'H3K79me2',])], window=10)"
   ]
  },
  {
   "cell_type": "code",
   "execution_count": null,
   "metadata": {},
   "outputs": [],
   "source": [
    "len(merged)"
   ]
  },
  {
   "cell_type": "code",
   "execution_count": null,
   "metadata": {},
   "outputs": [],
   "source": [
    "len(mergedpeak)"
   ]
  },
  {
   "cell_type": "code",
   "execution_count": null,
   "metadata": {},
   "outputs": [],
   "source": [
    "merged"
   ]
  },
  {
   "cell_type": "code",
   "execution_count": null,
   "metadata": {},
   "outputs": [],
   "source": [
    "merged = merged.replace(np.nan,0)"
   ]
  },
  {
   "cell_type": "code",
   "execution_count": null,
   "metadata": {},
   "outputs": [],
   "source": [
    "merged.to_csv('../temp/merged.bed', sep='\\t',index=None)"
   ]
  },
  {
   "cell_type": "code",
   "execution_count": null,
   "metadata": {},
   "outputs": [],
   "source": [
    "merged = pd.read_csv('../temp/merged.bed', sep='\\t')"
   ]
  },
  {
   "cell_type": "code",
   "execution_count": null,
   "metadata": {},
   "outputs": [],
   "source": [
    "np.unique(merged[merged.columns[8:]].astype(bool).sum(1).values, return_counts=True)"
   ]
  },
  {
   "cell_type": "code",
   "execution_count": null,
   "metadata": {},
   "outputs": [],
   "source": [
    "fig = sns.pairplot(merged[merged.columns[8:]], corner=True, diag_kind=\"kde\", kind=\"reg\", plot_kws ={\"scatter_kws\":{\"alpha\":.05}})\n",
    "fig.savefig('../results/cobinding/pairplot_experiments.pdf')\n",
    "plt.show()\n",
    "counts,val = np.unique(merged[merged.columns[8:]].astype(bool).sum(1).values, return_counts=True)\n",
    "fig = sns.barplot(data=pd.DataFrame(val index=counts,columns=['counts']).T).set_yscale(\"log\")\n",
    "fig.savefig('../results/cobinding/pairplot_experiments.pdf')\n",
    "plt.show()\n",
    "i = merged[merged.columns[8:]].astype(bool).sum(1)\n",
    "print(i.max(),i.mean(),i.min())"
   ]
  },
  {
   "cell_type": "code",
   "execution_count": null,
   "metadata": {},
   "outputs": [],
   "source": [
    "bindings"
   ]
  },
  {
   "cell_type": "code",
   "execution_count": null,
   "metadata": {},
   "outputs": [],
   "source": [
    "sns.clustermap(np.corrcoef(stats.zscore(merged[merged.columns[8:]].values.T, axis=1)), figsize=(20, 20), xticklabels=merged.columns[8:], yticklabels=merged.columns[8:]).ax_col_dendrogram.set_visible(False)"
   ]
  },
  {
   "cell_type": "code",
   "execution_count": null,
   "metadata": {},
   "outputs": [],
   "source": [
    "merged[merged.columns[:8]].to_csv('../temp/conscensus.bed',sep='\\t',index=None, columns=None)"
   ]
  },
  {
   "cell_type": "code",
   "execution_count": null,
   "metadata": {},
   "outputs": [],
   "source": [
    "cor = np.log2(1+cor)\n",
    "a = cor.var(0).argsort()\n",
    "subcor = cor[:,a[-TOTVAR:]]"
   ]
  },
  {
   "cell_type": "code",
   "execution_count": null,
   "metadata": {},
   "outputs": [],
   "source": [
    "subcor.shape"
   ]
  },
  {
   "cell_type": "code",
   "execution_count": null,
   "metadata": {},
   "outputs": [],
   "source": [
    "subcor = PCA(PCS).fit_transform(subcor)"
   ]
  },
  {
   "cell_type": "code",
   "execution_count": null,
   "metadata": {
    "slideshow": {
     "slide_type": "subslide"
    }
   },
   "outputs": [],
   "source": [
    "%matplotlib inline\n",
    "cmaps = ['Greys', 'Purples', 'Blues', 'Greens', 'Oranges', 'Reds',\n",
    "         'YlOrBr', 'YlOrRd', 'OrRd', 'PuRd', 'RdPu', 'BuPu',\n",
    "         'GnBu', 'PuBu', 'YlGnBu', 'PuBuGn', 'BuGn', 'YlGn']\n",
    "import seaborn as sns\n",
    "from matplotlib import pyplot \n",
    "fig, ax = pyplot.subplots(figsize=(20,15))\n",
    "sns.heatmap(ax=ax, data=subcor,xticklabels=False, cmap=cmaps[-4],\n",
    "            yticklabels=[i.split('.')[-4].split('/')[-1] for i in bigwigs],\n",
    "            cbar_kws={\"orientation\": \"horizontal\"},\n",
    "            vmax=0.7).set_title('PCs of each binding profile over conscensus peakset')\n",
    "#fig.savefig(\"temp/co_occupancy_matrix.png\")"
   ]
  },
  {
   "cell_type": "code",
   "execution_count": null,
   "metadata": {},
   "outputs": [],
   "source": [
    "fig.savefig('PCs_binding_peakset.png')"
   ]
  },
  {
   "cell_type": "markdown",
   "metadata": {
    "slideshow": {
     "slide_type": "slide"
    }
   },
   "source": [
    "## clustering\n",
    "\n",
    "I have tried gaussian mixtures and Agglomerative clustering algorithm. Only the second can create a hierarchical clustering.\n",
    "\n",
    "It seems that gaussian mixture makes more sense given the data we have, for now, is more \"homogeneous\". \n",
    "\n",
    "**I am still not so happy with the clustering.** It can be because of the how much importance, outlier values and the high number of noisy values from locations with no peaks.\n",
    "\n",
    "We can use similar methods to RNAseq to improve this (clamping values, log transform, first round of PCA..)\n"
   ]
  },
  {
   "cell_type": "code",
   "execution_count": null,
   "metadata": {
    "slideshow": {
     "slide_type": "subslide"
    }
   },
   "outputs": [],
   "source": [
    "labels = GaussianMixture(n_components=2, covariance_type='diag').fit_predict(subcor)"
   ]
  },
  {
   "cell_type": "code",
   "execution_count": null,
   "metadata": {
    "slideshow": {
     "slide_type": "slide"
    }
   },
   "outputs": [],
   "source": [
    "names = np.array([i.split('.')[-4].split('/')[-1] for i in bigwigs])\n",
    "sort = labels.argsort()\n",
    "p = helper.plotCorrelationMatrix(data=cor[sort],\n",
    "                            names=names[sort],\n",
    "                            colors=labels[sort],\n",
    "                            title=\"correlation between TF occupancy\",\n",
    "                            interactive=True)"
   ]
  },
  {
   "cell_type": "code",
   "execution_count": null,
   "metadata": {},
   "outputs": [],
   "source": [
    "show(p)"
   ]
  },
  {
   "cell_type": "code",
   "execution_count": null,
   "metadata": {},
   "outputs": [],
   "source": [
    "p = helper.scatter(TSNE(2,5).fit_transform(subcor),labels=names, colors=labels)"
   ]
  },
  {
   "cell_type": "code",
   "execution_count": null,
   "metadata": {},
   "outputs": [],
   "source": [
    "show(p)"
   ]
  },
  {
   "cell_type": "code",
   "execution_count": null,
   "metadata": {},
   "outputs": [],
   "source": [
    "sns.clustermap(subcor)"
   ]
  },
  {
   "cell_type": "markdown",
   "metadata": {
    "slideshow": {
     "slide_type": "subslide"
    }
   },
   "source": [
    "## annotatePeaks"
   ]
  },
  {
   "cell_type": "code",
   "execution_count": null,
   "metadata": {},
   "outputs": [],
   "source": [
    "additional = {}\n",
    "additional['activation'] = chiphelper.simpleMergedPeaks(mergedpeak[mergedpeak.tf.isin([\"H3K27ac\",'H3K79me2','H3K36me3','H3K4me3'])], window=10, mergedFold=\"max\")\n",
    "additional['repression'] = mergedpeak[mergedpeak.tf=='H3K27me3']\n",
    "additional['IRF2BP2'] = mergedpeak[mergedpeak.tf=='IRF2BP2_FLAG']\n",
    "additional['MED1'] = mergedpeak[mergedpeak.tf=='MED1']\n",
    "additional['SMC1'] = mergedpeak[mergedpeak.tf=='SMC1']\n",
    "additional['CTCF'] = mergedpeak[mergedpeak.tf=='CTCF']\n",
    "additional['POLII'] = mergedpeak[mergedpeak.tf=='POLII']"
   ]
  },
  {
   "cell_type": "code",
   "execution_count": null,
   "metadata": {},
   "outputs": [],
   "source": [
    "for key, val in additional.items():\n",
    "    merged[key] = chiphelper.putInConscensus(merged[merged.columns[:8]],val)\n",
    "merged = merged.replace(np.nan,0)"
   ]
  },
  {
   "cell_type": "code",
   "execution_count": null,
   "metadata": {},
   "outputs": [],
   "source": [
    "merged = merged.replace(np.nan,0)"
   ]
  },
  {
   "cell_type": "code",
   "execution_count": null,
   "metadata": {},
   "outputs": [],
   "source": [
    "merged.to_csv('../temp/merged.bed', sep='\\t',index=None)"
   ]
  },
  {
   "cell_type": "code",
   "execution_count": null,
   "metadata": {},
   "outputs": [],
   "source": [
    "merged = pd.read_csv('../temp/merged.bed', sep='\\t')"
   ]
  },
  {
   "cell_type": "markdown",
   "metadata": {
    "slideshow": {
     "slide_type": "slide"
    }
   },
   "source": [
    "# Co Binding Matrix\n",
    "\n",
    "Look at AUC for all ChIPs over all peaks of all ChIPs"
   ]
  },
  {
   "cell_type": "code",
   "execution_count": null,
   "metadata": {},
   "outputs": [],
   "source": [
    "rand = np.random.choice(merged.index,5000)\n",
    "viridis = cm.get_cmap('viridis', 256)\n",
    "data = merged[merged.columns[-7:]]\n",
    "for val in data.columns:\n",
    "    data[val] =stats.zscore(np.log2(1+data[val]))\n",
    "data = (((data -data.min(0))/ (data.max(0)))*256).astype(int)\n",
    "data = data.loc[rand]\n",
    "for val in data.columns:\n",
    "    a = [viridis(v) for v in data[val]]\n",
    "    data[val] = a"
   ]
  },
  {
   "cell_type": "code",
   "execution_count": null,
   "metadata": {},
   "outputs": [],
   "source": [
    "fig = sns.clustermap(np.log2(1.01+merged[merged.columns[8:-7]].loc[rand].T),col_cluster=False, z_score=0, vmin=0,vmax=3, col_colors = data, figsize=(30,20),xticklabels=False)\n",
    "fig.ax_col_dendrogram.set_visible(False)\n",
    "fig.savefig('../temp/clustermap_cobinding_scaled_marks.pdf')\n",
    "plt.show()"
   ]
  },
  {
   "cell_type": "code",
   "execution_count": null,
   "metadata": {},
   "outputs": [],
   "source": [
    "fig = sns.clustermap(np.log2(1.01+merged[merged.columns[8:-7]].loc[rand].T), vmin=0,vmax=3,figsize=(30,20),z_score=0,col_colors=data, xticklabels=False)\n",
    "fig.ax_col_dendrogram.set_visible(False)\n",
    "fig.savefig('../temp/clustermap_cobinding_scaled_marks.pdf')\n",
    "plt.show()"
   ]
  },
  {
   "cell_type": "code",
   "execution_count": null,
   "metadata": {},
   "outputs": [],
   "source": []
  },
  {
   "cell_type": "code",
   "execution_count": null,
   "metadata": {},
   "outputs": [],
   "source": [
    "correlation, overlap = chiphelper.computeOverlapCorrelation(merged, norm=True)"
   ]
  },
  {
   "cell_type": "code",
   "execution_count": null,
   "metadata": {},
   "outputs": [],
   "source": [
    "data = pd.DataFrame(data=overlap,index=merged.columns[8:], columns=merged.columns[8:])\n",
    "link = linkage(data.iloc[:-7]) # D being the measurement\n",
    "col = data[-7:]\n",
    "col = col[[co for co in col.columns if co not in col.index.tolist()]]\n",
    "for val in col.columns:\n",
    "    a = [viridis(v) for v in col[val]]\n",
    "    col[val] = a\n",
    "fig = sns.clustermap(data.iloc[:-7][data.columns[np.concatenate((leaves_list(link),[26,27,28,29,30,31,32]))]], row_linkage=link, col_colors=col.T, col_cluster=False)\n",
    "fig.ax_col_dendrogram.set_visible(False)\n",
    "fig.savefig('../results/cobinding/overlap.pdf')\n",
    "plt.show()"
   ]
  },
  {
   "cell_type": "code",
   "execution_count": null,
   "metadata": {},
   "outputs": [],
   "source": [
    "pd.concat([merged[merged.columns[8:]].astype(bool).sum(0),\n",
    "           merged[merged.columns[8:]].max(),\n",
    "           merged[merged.columns[8:]].replace(0, np.NaN).mean(),\n",
    "          merged[merged.columns[8:]].replace(0, np.NaN).var()],axis=1).rename(columns={0:'sum',1:'max',2:'mean',3:'std'})"
   ]
  },
  {
   "cell_type": "code",
   "execution_count": null,
   "metadata": {},
   "outputs": [],
   "source": [
    "data = pd.DataFrame(data=correlation,index=merged.columns[8:], columns=merged.columns[8:])\n",
    "link = linkage(data.iloc[:-7]) # D being the measurement\n",
    "col = data.iloc[-7:]\n",
    "col = col[[co for co in col.columns if co not in col.index.tolist()]]\n",
    "for val in col.columns:\n",
    "    a = [viridis(v) for v in col[val]]\n",
    "    col[val] = a\n",
    "fig = sns.clustermap(data.iloc[:-7][data.columns[np.concatenate((leaves_list(link),[26,27,28,29,30,31,32]))]], row_linkage=link, col_colors=col.T, col_cluster=False)\n",
    "fig.ax_col_dendrogram.set_visible(False)\n",
    "fig.savefig(\"../results/cobinding/correlation_onoverlap.pdf\")\n",
    "plt.show()"
   ]
  },
  {
   "cell_type": "code",
   "execution_count": null,
   "metadata": {},
   "outputs": [],
   "source": [
    "chiphelper.filterOnEnrichment(,toremove=[\"\"])"
   ]
  },
  {
   "cell_type": "markdown",
   "metadata": {
    "slideshow": {
     "slide_type": "-"
    }
   },
   "source": [
    "## TODO\n",
    "\n",
    "### plots during merge\n",
    "\n",
    "- plot a histogram (bincount) of the signal for each peaks:\n",
    "    - peaks in A, B\n",
    "    - unique peaks in A, B\n",
    "    - peaks in merged version (avg)\n",
    "    - scatter plot matrix of signal correlation between 1to1 for all\n",
    "- print average size in unique vs overlap peaks\n",
    "- ratios of unique peaks to total peaks for each TF\n",
    "\n",
    "### plots after merge\n",
    "\n",
    "- create a correlation plot on 1to1 overlap only.\n",
    "- histogram of number of peaks per amount of TF cobound\n",
    "- create a correlation matrix only on A's peakset\n",
    "- create a normalized overlap matrix (given the number of peaks and total peakset, what is the expected overlap and how far away are we from it) z-score norm\n",
    "- create a clustermap over peaks\n",
    "\n",
    "\n",
    "\n",
    "### improving merge\n",
    "\n",
    "- analyse only when peak is supported by two replicates\n",
    "- remove GSE1 and CDK13 from cobinding matrix\n",
    "- do quantile normalization over the signals (after setting up the zeroes)\n",
    "- removing bad chips:\n",
    "    - look, when badchip only does not correlate with anything else..\n",
    "- do log2+1 transform\n",
    "\n",
    "  \n",
    "### peak enrichment\n",
    "- use chromHMM\n",
    "    - use the Chipseq data we have (RNApol2, CTCF...)\n",
    "- filter weird enrichments (not in H3k27ac? in H4me3..)\n",
    "- make super enhancer enrichment from superenhancer matrix\n",
    "- merge the clusters and display enrichment of each (in TF and other marks)\n",
    "\n",
    "\n",
    "### Next step:\n",
    "\n",
    "- do cobinding based on gene targeted from ABC-model and merge the same way as before (mean value); merge enrichments as well\n",
    "- look at data targetting CRC members\n",
    "- look for enrichment at the gene level (from gene annotations)\n",
    "- compute/refine binding patterns\n",
    "    - use MEME\n",
    "    - use DeepBind\n",
    "- look for difference in binding patterns to the litterature (db of binding patterns)\n",
    "- look for predictability of RNP expression change based on bound genes\n",
    "    - do we see genes with opposite effects? \n",
    "    - can it be explained by the set of co-bound TFs?\n",
    "- do dependency/expression prediction from all gene level features\n",
    "    - look for most explanatory regressors\n",
    "- repeat the process across all samples with H3K27ac+RNAseq data we have.\n",
    "    - call mutations from H3k27ac data\n",
    "    - MEME analysis of likely bound TFs, except if TF is not expressed\n",
    "    - compute enrichments\n",
    "    - from same gene assignements, as found on the general consensus peak set, can we find good dependency/expression prediction\n",
    "- does location\n",
    "    \n",
    "### questions:\n",
    "\n",
    "- how did andrew defined significant peaks?"
   ]
  },
  {
   "cell_type": "markdown",
   "metadata": {
    "slideshow": {
     "slide_type": "subslide"
    }
   },
   "source": [
    "### based on closest expressed gene"
   ]
  },
  {
   "cell_type": "code",
   "execution_count": null,
   "metadata": {},
   "outputs": [],
   "source": []
  },
  {
   "cell_type": "markdown",
   "metadata": {
    "slideshow": {
     "slide_type": "subslide"
    }
   },
   "source": [
    "### based on the ABC model\n",
    "\n",
    "![](images/ABCtitle.png)\n",
    "\n",
    "They tested a new model based on and validated by CRISPRi-FlowFISH which is basically able to find enhancer mapping to genes. \n",
    "They used it to compute their model's Accuracy and found a 70% accuracy compared to less than 50% for closest expressed gene. \n",
    "\n",
    "Way to integrate our HiC data (need ATAC-seq like data as well, but openly available) \n",
    "\n",
    "\n",
    "![](images/ABCmodel.png)"
   ]
  },
  {
   "cell_type": "code",
   "execution_count": null,
   "metadata": {},
   "outputs": [],
   "source": [
    "Helper.scatter(TSNE(2,5).fit_transform(data.T), labels=zones.columns[11:],colors=labels)"
   ]
  },
  {
   "cell_type": "markdown",
   "metadata": {
    "slideshow": {
     "slide_type": "slide"
    }
   },
   "source": [
    "## Compute the CRC and merge with gene assignement\n",
    "\n",
    "~1500 lines of code. Seems to be a slightly updated version from the code I used the first time which was from their originial CRC paper. \n",
    "\n",
    "There is not a lot of documentation but it was just updated last week and might continue like that\n",
    "\n",
    "![](images/CRCpres.png)"
   ]
  },
  {
   "cell_type": "markdown",
   "metadata": {
    "slideshow": {
     "slide_type": "slide"
    }
   },
   "source": [
    "## find set of TFs that explain the most cobindings "
   ]
  },
  {
   "cell_type": "markdown",
   "metadata": {
    "slideshow": {
     "slide_type": "slide"
    }
   },
   "source": [
    "## relate to gene depencies"
   ]
  },
  {
   "cell_type": "markdown",
   "metadata": {
    "slideshow": {
     "slide_type": "slide"
    }
   },
   "source": [
    "## what else?"
   ]
  },
  {
   "cell_type": "markdown",
   "metadata": {},
   "source": []
  },
  {
   "cell_type": "markdown",
   "metadata": {
    "slideshow": {
     "slide_type": "slide"
    }
   },
   "source": [
    "### Compare data with other labs (H3K27, HiC..)\n",
    "\n",
    "we need to redo everything for similar normal cell type, getting TFs based on the CRC (find it with CRCmapper or on litterature)"
   ]
  }
 ],
 "metadata": {
  "celltoolbar": "Diaporama",
  "kernelspec": {
   "display_name": "Python 3",
   "language": "python",
   "name": "python3"
  },
  "language_info": {
   "codemirror_mode": {
    "name": "ipython",
    "version": 3
   },
   "file_extension": ".py",
   "mimetype": "text/x-python",
   "name": "python",
   "nbconvert_exporter": "python",
   "pygments_lexer": "ipython3",
   "version": "3.8.3rc1"
  },
  "latex_envs": {
   "LaTeX_envs_menu_present": true,
   "autoclose": false,
   "autocomplete": true,
   "bibliofile": "biblio.bib",
   "cite_by": "apalike",
   "current_citInitial": 1,
   "eqLabelWithNumbers": true,
   "eqNumInitial": 1,
   "hotkeys": {
    "equation": "Ctrl-E",
    "itemize": "Ctrl-I"
   },
   "labels_anchors": false,
   "latex_user_defs": false,
   "report_style_numbering": false,
   "user_envs_cfg": false
  },
  "toc": {
   "base_numbering": 1,
   "nav_menu": {},
   "number_sections": false,
   "sideBar": true,
   "skip_h1_title": false,
   "title_cell": "Table of Contents",
   "title_sidebar": "Contents",
   "toc_cell": false,
   "toc_position": {
    "height": "372px",
    "left": "78px",
    "top": "111.6px",
    "width": "229.4px"
   },
   "toc_section_display": true,
   "toc_window_display": true
  },
  "varInspector": {
   "cols": {
    "lenName": 16,
    "lenType": 16,
    "lenVar": 40
   },
   "kernels_config": {
    "python": {
     "delete_cmd_postfix": "",
     "delete_cmd_prefix": "del ",
     "library": "var_list.py",
     "varRefreshCmd": "print(var_dic_list())"
    },
    "r": {
     "delete_cmd_postfix": ") ",
     "delete_cmd_prefix": "rm(",
     "library": "var_list.r",
     "varRefreshCmd": "cat(var_dic_list()) "
    }
   },
   "types_to_exclude": [
    "module",
    "function",
    "builtin_function_or_method",
    "instance",
    "_Feature"
   ],
   "window_display": false
  }
 },
 "nbformat": 4,
 "nbformat_minor": 2
}
