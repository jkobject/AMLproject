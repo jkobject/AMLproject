{
 "cells": [
  {
   "cell_type": "code",
   "execution_count": null,
   "metadata": {},
   "outputs": [],
   "source": [
    "import os\n",
    "import pandas as pd\n",
    "import sys\n",
    "import numpy as np\n",
    "import sys\n",
    "sys.path.insert(0, '../..')\n",
    "import itertools\n",
    "\n",
    "from JKBio import TerraFunction as terra\n",
    "from ccle_processing.src.CCLE_postp_function import *\n",
    "from JKBio import Helper as h\n",
    "from JKBio.epigenetics import ChIP_helper as chip\n",
    "\n",
    "import dalmatian as dm\n",
    "import pyBigWig\n",
    "\n",
    "from bokeh.plotting import *\n",
    "from IPython.display import IFrame\n",
    "import igv\n",
    "\n",
    "from sklearn.manifold import MDS, TSNE\n",
    "from sklearn.decomposition import PCA\n",
    "from sklearn.preprocessing import scale\n",
    "from sklearn.cluster import AgglomerativeClustering\n",
    "from sklearn.mixture import GaussianMixture\n",
    "\n",
    "output_notebook()\n",
    "%load_ext autoreload\n",
    "%autoreload 2"
   ]
  },
  {
   "cell_type": "markdown",
   "metadata": {},
   "source": [
    "# ChIP"
   ]
  },
  {
   "cell_type": "code",
   "execution_count": null,
   "metadata": {},
   "outputs": [],
   "source": [
    "project=\"IRF2BP2_degron_ChIP\""
   ]
  },
  {
   "cell_type": "code",
   "execution_count": null,
   "metadata": {},
   "outputs": [],
   "source": [
    "!gsutil ls gs://amlproject/Chip/"
   ]
  },
  {
   "cell_type": "code",
   "execution_count": null,
   "metadata": {},
   "outputs": [],
   "source": [
    "# install bwa\n",
    "! mkdir ../../ref\n",
    "! curl ftp://ftp.ncbi.nlm.nih.gov/genomes/all/GCF/000/001/215/GCF_000001215.4_Release_6_plus_ISO1_MT/GCF_000001215.4_Release_6_plus_ISO1_MT_genomic.fna.gz -o ../../ref/reference_droso.fna.gz\n",
    "! gunzip ref/reference_droso.fna.gz\n",
    "! bwa index -a bwtsw ../../ref/reference_droso.fna"
   ]
  },
  {
   "cell_type": "markdown",
   "metadata": {},
   "source": [
    "## V1"
   ]
  },
  {
   "cell_type": "markdown",
   "metadata": {},
   "source": [
    "### analysis"
   ]
  },
  {
   "cell_type": "code",
   "execution_count": null,
   "metadata": {},
   "outputs": [],
   "source": [
    "rename1 = {\n",
    " 'gs://transfer-amlproject/20191211_10_MP7613_S8_R1_001.fastq.gz':\"gs://amlproject/Chip/IRF2BP2_degraded_rep1/fastqs/mp779-MV411_IRF2BP2_DMSO_6h-FLAG_IRF2BP2-r1_1.fastq.gz\",\n",
    " 'gs://transfer-amlproject/20191211_10_MP7613_S8_R2_001.fastq.gz':\"gs://amlproject/Chip/IRF2BP2_degraded_rep1/fastqs/mp779-MV411_IRF2BP2_DMSO_6h-FLAG_IRF2BP2-r1_2.fastq.gz\",\n",
    " 'gs://transfer-amlproject/20191211_11_MP7613_S9_R1_001.fastq.gz':\"gs://amlproject/Chip/IRF2BP2_degraded_rep1/fastqs/mp780-MV411_IRF2BP2_DMSO_6h-MED1-r1_1.fastq.gz\",\n",
    " 'gs://transfer-amlproject/20191211_11_MP7613_S9_R2_001.fastq.gz':\"gs://amlproject/Chip/IRF2BP2_degraded_rep1/fastqs/mp780-MV411_IRF2BP2_DMSO_6h-MED1-r1_2.fastq.gz\",\n",
    " 'gs://transfer-amlproject/20191211_12_MP7613_S10_R1_001.fastq.gz':\"gs://amlproject/Chip/IRF2BP2_degraded_rep1/fastqs/mp781-MV411_IRF2BP2_DMSO_6h-POLII_total-r1_1.fastq.gz\",\n",
    " 'gs://transfer-amlproject/20191211_12_MP7613_S10_R2_001.fastq.gz':\"gs://amlproject/Chip/IRF2BP2_degraded_rep1/fastqs/mp781-MV411_IRF2BP2_DMSO_6h-POLII_total-r1_2.fastq.gz\",\n",
    " 'gs://transfer-amlproject/20191211_13_MP7613_S11_R1_001.fastq.gz':\"gs://amlproject/Chip/IRF2BP2_degraded_rep1/fastqs/mp782-MV411_IRF2BP2_DMSO_6h-POLII_S2-r1_1.fastq.gz\",\n",
    " 'gs://transfer-amlproject/20191211_13_MP7613_S11_R2_001.fastq.gz':\"gs://amlproject/Chip/IRF2BP2_degraded_rep1/fastqs/mp782-MV411_IRF2BP2_DMSO_6h-POLII_S2-r1_2.fastq.gz\",\n",
    " 'gs://transfer-amlproject/20191211_14_MP7613_S12_R1_001.fastq.gz':\"gs://amlproject/Chip/IRF2BP2_degraded_rep1/fastqs/mp783-MV411_IRF2BP2_DMSO_6h-POLII_S5-r1_1.fastq.gz\",\n",
    " 'gs://transfer-amlproject/20191211_14_MP7613_S12_R2_001.fastq.gz':\"gs://amlproject/Chip/IRF2BP2_degraded_rep1/fastqs/mp783-MV411_IRF2BP2_DMSO_6h-POLII_S5-r1_2.fastq.gz\",\n",
    " 'gs://transfer-amlproject/20191211_15_MP7613_S13_R1_001.fastq.gz':\"gs://amlproject/Chip/IRF2BP2_degraded_rep1/fastqs/mp784-MV411_IRF2BP2_DMSO_6h-MYC-r1_1.fastq.gz\",\n",
    " 'gs://transfer-amlproject/20191211_15_MP7613_S13_R2_001.fastq.gz':\"gs://amlproject/Chip/IRF2BP2_degraded_rep1/fastqs/mp784-MV411_IRF2BP2_DMSO_6h-MYC-r1_2.fastq.gz\",\n",
    " 'gs://transfer-amlproject/20191211_16_MP7613_S14_R1_001.fastq.gz':\"gs://amlproject/Chip/IRF2BP2_degraded_rep1/fastqs/mp785-MV411_IRF2BP2_DMSO_6h-MYB-r1_1.fastq.gz\",\n",
    " 'gs://transfer-amlproject/20191211_16_MP7613_S14_R2_001.fastq.gz':\"gs://amlproject/Chip/IRF2BP2_degraded_rep1/fastqs/mp785-MV411_IRF2BP2_DMSO_6h-MYB-r1_2.fastq.gz\",\n",
    " 'gs://transfer-amlproject/20191211_1_MP7613_S1_R1_001.fastq.gz':\"gs://amlproject/Chip/IRF2BP2_degraded_rep1/fastqs/mp786-MV411_IRF2BP2_DMSO_6h-SPI1-r1_1.fastq.gz\",\n",
    " 'gs://transfer-amlproject/20191211_1_MP7613_S1_R2_001.fastq.gz':\"gs://amlproject/Chip/IRF2BP2_degraded_rep1/fastqs/mp786-MV411_IRF2BP2_DMSO_6h-SPI1-r1_2.fastq.gz\",\n",
    " 'gs://transfer-amlproject/20191211_2_MP7613_S2_R1_001.fastq.gz':\"gs://amlproject/Chip/IRF2BP2_degraded_rep1/fastqs/mp787-MV411_IRF2BP_VHL_6h-FLAG_IRF2BP2-r1_1.fastq.gz\",\n",
    " 'gs://transfer-amlproject/20191211_2_MP7613_S2_R2_001.fastq.gz':\"gs://amlproject/Chip/IRF2BP2_degraded_rep1/fastqs/mp787-MV411_IRF2BP_VHL_6h-FLAG_IRF2BP2-r1_2.fastq.gz\",\n",
    " 'gs://transfer-amlproject/20191211_3_MP7613_S3_R1_001.fastq.gz':\"gs://amlproject/Chip/IRF2BP2_degraded_rep1/fastqs/mp788-MV411_IRF2BP_VHL_6h-MED1-r1_1.fastq.gz\",\n",
    " 'gs://transfer-amlproject/20191211_3_MP7613_S3_R2_001.fastq.gz':\"gs://amlproject/Chip/IRF2BP2_degraded_rep1/fastqs/mp788-MV411_IRF2BP_VHL_6h-MED1-r1_2.fastq.gz\",\n",
    " 'gs://transfer-amlproject/20191211_4_MP7613_S4_R1_001.fastq.gz':\"gs://amlproject/Chip/IRF2BP2_degraded_rep1/fastqs/mp789-MV411_IRF2BP_VHL_6h-POLII_total-r1_1.fastq.gz\",\n",
    " 'gs://transfer-amlproject/20191211_4_MP7613_S4_R2_001.fastq.gz':\"gs://amlproject/Chip/IRF2BP2_degraded_rep1/fastqs/mp789-MV411_IRF2BP_VHL_6h-POLII_total-r1_2.fastq.gz\",\n",
    " 'gs://transfer-amlproject/20191211_5R_MP7613_S15_R1_001.fastq.gz':\"gs://amlproject/Chip/IRF2BP2_degraded_rep1/fastqs/mp790-MV411_IRF2BP_VHL_6h-POLII_S2-r1_1.fastq.gz\",\n",
    " 'gs://transfer-amlproject/20191211_5R_MP7613_S15_R2_001.fastq.gz':\"gs://amlproject/Chip/IRF2BP2_degraded_rep1/fastqs/mp790-MV411_IRF2BP_VHL_6h-POLII_S2-r1_2.fastq.gz\",\n",
    " 'gs://transfer-amlproject/20191211_6R_MP7613_S16_R1_001.fastq.gz':\"gs://amlproject/Chip/IRF2BP2_degraded_rep1/fastqs/mp791-MV411_IRF2BP_VHL_6h-POLII_S5-r1_1.fastq.gz\",\n",
    " 'gs://transfer-amlproject/20191211_6R_MP7613_S16_R2_001.fastq.gz':\"gs://amlproject/Chip/IRF2BP2_degraded_rep1/fastqs/mp791-MV411_IRF2BP_VHL_6h-POLII_S5-r1_2.fastq.gz\",\n",
    " 'gs://transfer-amlproject/20191211_7_MP7613_S5_R1_001.fastq.gz':\"gs://amlproject/Chip/IRF2BP2_degraded_rep1/fastqs/mp792-MV411_IRF2BP_VHL_6h-MYC-r1_1.fastq.gz\",\n",
    " 'gs://transfer-amlproject/20191211_7_MP7613_S5_R2_001.fastq.gz':\"gs://amlproject/Chip/IRF2BP2_degraded_rep1/fastqs/mp792-MV411_IRF2BP_VHL_6h-MYC-r1_2.fastq.gz\",\n",
    " 'gs://transfer-amlproject/20191211_8_MP7613_S6_R1_001.fastq.gz':\"gs://amlproject/Chip/IRF2BP2_degraded_rep1/fastqs/mp793-MV411_IRF2BP_VHL_6h-MYB-r1_1.fastq.gz\",\n",
    " 'gs://transfer-amlproject/20191211_8_MP7613_S6_R2_001.fastq.gz':\"gs://amlproject/Chip/IRF2BP2_degraded_rep1/fastqs/mp793-MV411_IRF2BP_VHL_6h-MYB-r1_2.fastq.gz\",\n",
    " 'gs://transfer-amlproject/20191211_9_MP7613_S7_R1_001.fastq.gz':\"gs://amlproject/Chip/IRF2BP2_degraded_rep1/fastqs/mp794-MV411_IRF2BP_VHL_6h-SPI1-r1_1.fastq.gz\",\n",
    " 'gs://transfer-amlproject/20191211_9_MP7613_S7_R2_001.fastq.gz':\"gs://amlproject/Chip/IRF2BP2_degraded_rep1/fastqs/mp794-MV411_IRF2BP_VHL_6h-SPI1-r1_2.fastq.gz\"}"
   ]
  },
  {
   "cell_type": "code",
   "execution_count": null,
   "metadata": {},
   "outputs": [],
   "source": [
    "for k, val in rename1.items():\n",
    "    os.system('gsutil mv '+k+' '+val)"
   ]
  },
  {
   "cell_type": "code",
   "execution_count": null,
   "metadata": {},
   "outputs": [],
   "source": [
    "! gsutil -m cp -r gs://amlproject/Chip/IRF2BP2_degraded_rep1 ../../data/\n",
    "inputfastq=\"gs://amlproject/Chip/fastqs/mp99-MV411-INPUT-r1.fastq.gz\"\n",
    "! gsutil cp $inputfastq ../../data/IRF2BP2_degraded_rep1/fastqs/\n",
    "a = ! ls ../../data/IRF2BP2_degraded_rep1/fastqs/"
   ]
  },
  {
   "cell_type": "code",
   "execution_count": null,
   "metadata": {},
   "outputs": [],
   "source": [
    "from gsheets import Sheets\n",
    "sheets = Sheets.from_files('~/.client_secret.json', '~/.storage.json')\n",
    "url=\"https://docs.google.com/spreadsheets/d/1yFLjYB1McU530JnLgL0QIMAKIkVl3kl0_LCHje2gk8U\"\n",
    "gsheet = sheets.get(url).sheets[2].to_frame()"
   ]
  },
  {
   "cell_type": "code",
   "execution_count": null,
   "metadata": {},
   "outputs": [],
   "source": [
    "gsheet"
   ]
  },
  {
   "cell_type": "code",
   "execution_count": null,
   "metadata": {},
   "outputs": [],
   "source": [
    "df = {\n",
    "\"fastq1\": [],\n",
    "\"fastq2\": [],\n",
    "\"antibody\": [],\n",
    "\"group\": [],\n",
    "\"replicate\": [],\n",
    "\"control\": []\n",
    "}\n",
    "for val in helper.grouped(a[:-1],2):\n",
    "    row = gsheet[gsheet.id==val[0].split('/')[-1].split('_')[0]]\n",
    "    df['group'].append((row.id.values[0] + '_'+ row.name_replicate.values[0] +\"_\"+row.protein.values[0]))\n",
    "    df['replicate'].append(1)\n",
    "    df['fastq1'].append(val[0])\n",
    "    #df['fastq2'].append(val[1])\n",
    "    df['antibody'].append(row.protein.values[0])\n",
    "    df['control'].append(\"INPUT\")\n",
    "df['group'].append('INPUT')\n",
    "df['replicate'].append(1)\n",
    "df['fastq1'].append(a[-1])\n",
    "#df['fastq2'].append(val[1])\n",
    "df['antibody'].append(\"INPUT\")\n",
    "df['control'].append(\"INPUT\")\n",
    "df = pd.DataFrame(df)"
   ]
  },
  {
   "cell_type": "code",
   "execution_count": null,
   "metadata": {},
   "outputs": [],
   "source": [
    "df[df.columns[[3,4,0,1,2,5]]].to_csv('../nextflow/design_IRF2BP2_degraded_rep1.csv')"
   ]
  },
  {
   "cell_type": "code",
   "execution_count": null,
   "metadata": {},
   "outputs": [],
   "source": [
    "#process chips\n",
    "! sudo ./nextflow run nf-core/chipseq --single_end --seq_center 'DFCI' --email 'jkobject@gmail.com' --narrow_peak --input ../nextflow/design_IRF2BP2_degraded_rep1.csv --genome GRCh38 --skip_preseq --max_cpus 24 -profile docker -w work"
   ]
  },
  {
   "cell_type": "code",
   "execution_count": null,
   "metadata": {},
   "outputs": [],
   "source": [
    "#!gsutil cp results/* ../../data/IRF2BP2_degraded_rep1/ && sudo rm -r results && sudo rm -r work"
   ]
  },
  {
   "cell_type": "code",
   "execution_count": null,
   "metadata": {},
   "outputs": [],
   "source": [
    "# get scaling values\n",
    "mappedreads, umappedreads_norm, mapped = chip.getSpikeInControlScales(refgenome=\"../../ref/reference_droso.fna\",FastQfolder='../../data/IRF2BP2_degraded_rep1/fastqs/',pairedEnd=True, cores=8)\n",
    "mappedreads, umappedreads_norm, mapped"
   ]
  },
  {
   "cell_type": "markdown",
   "metadata": {},
   "source": [
    "computing scales from the excel sheet"
   ]
  },
  {
   "cell_type": "code",
   "execution_count": null,
   "metadata": {},
   "outputs": [],
   "source": [
    "scales = [[562285,1496707],\n",
    "[1686168,7198567],\n",
    "[3642441,2612624],\n",
    "[3992589,3474812],\n",
    "[3347901,3829477],\n",
    "[6181136,989703],\n",
    "[7523840,4173047],\n",
    "[922482,1195857]]"
   ]
  },
  {
   "cell_type": "code",
   "execution_count": null,
   "metadata": {},
   "outputs": [],
   "source": [
    "scales = [[1.0, 0.3756814126], #IRF2BP2\n",
    "[1.0, 0.2342366196], #MED1\n",
    "[0.5546432407, 1.0], #MYB\n",
    "[0.1601166841, 1.0], #MYC\n",
    "[0.870315477, 1.0], #POL2S2\n",
    "[1.0, 0.8742449687], #POL2S5\n",
    "[0.7172728398, 1.0], #POL2TOT\n",
    "[1.0, 0.7713982525]] #SPI1"
   ]
  },
  {
   "cell_type": "markdown",
   "metadata": {},
   "source": [
    "### on scalled data\n"
   ]
  },
  {
   "cell_type": "code",
   "execution_count": null,
   "metadata": {},
   "outputs": [],
   "source": [
    "bams = !ls ../../data/IRF2BP2_degraded_rep1/diffData/*treat_pileup.bdg\n",
    "bams = ['_'.join(i.split('/')[-1].split('_')[:-2]) for i in bams]\n",
    "bams"
   ]
  },
  {
   "cell_type": "code",
   "execution_count": null,
   "metadata": {},
   "outputs": [],
   "source": [
    "# diffPeak on scalled data\n",
    "sizes = [220, 191, 211, 204, 285, 222, 228, 194]\n",
    "for i in range(int(len(bams)/2)):\n",
    "    name1 = bams[i]\n",
    "    name2 = bams[i+8]\n",
    "    print(name1,name2)\n",
    "    print(chip.diffPeak(name1,name2, directory= \"../../data/IRF2BP2_degraded_rep1/diffData/\", res_directory='../../data/IRF2BP2_degraded_rep1/diffPeaks/', scaling1=scales[i][1], scaling2=scales[i][0], size=size[i]))"
   ]
  },
  {
   "cell_type": "code",
   "execution_count": null,
   "metadata": {},
   "outputs": [],
   "source": [
    "# diffPeak on scalled data\n",
    "for i in range(int(len(bams[1:])/2)-1):\n",
    "    name1 = bams[1+i]\n",
    "    name2 = bams[9+i]\n",
    "    chip.fullDiffPeak(name1,name2, bams[0], scaling = scales[i],compute_size=True)"
   ]
  },
  {
   "cell_type": "code",
   "execution_count": null,
   "metadata": {},
   "outputs": [],
   "source": [
    "scales = [1.0,\n",
    "1.0,\n",
    "0.5546432407,\n",
    "0.1601166841,\n",
    "0.870315477,\n",
    "1.0,\n",
    "0.7172728398,\n",
    "1.0,\n",
    "0.3756814126,\n",
    "0.2342366196,\n",
    "1.0,\n",
    "1.0,\n",
    "1.0,\n",
    "0.8742449687,\n",
    "1.0,\n",
    "0.7713982525]"
   ]
  },
  {
   "cell_type": "code",
   "execution_count": null,
   "metadata": {},
   "outputs": [],
   "source": [
    "chip.bigWigFrom(bams[1:], genome='GRCh38',scaling=scales)"
   ]
  },
  {
   "cell_type": "code",
   "execution_count": null,
   "metadata": {},
   "outputs": [],
   "source": [
    "! mv ../../data/recalib_bigwig_rep1/* ../../data/IRF2BP2_degraded_rep1/recalib_bigwig/\n",
    "bw = ! ls ../../data/IRF2BP2_degraded_rep1/recalib_bigwig/*.bw\n",
    "bw"
   ]
  },
  {
   "cell_type": "code",
   "execution_count": null,
   "metadata": {},
   "outputs": [],
   "source": [
    "cond1peak = ! ls ../../data/IRF2BP2_degraded_rep1/diffPeaks/*cond1.bed\n",
    "cond2peak = ! ls ../../data/IRF2BP2_degraded_rep1/diffPeaks/*cond2.bed\n",
    "commonpeak = ! ls ../../data/IRF2BP2_degraded_rep1/diffPeaks/*common.bed\n",
    "commonpeak"
   ]
  },
  {
   "cell_type": "code",
   "execution_count": null,
   "metadata": {},
   "outputs": [],
   "source": [
    "names = [\"FLAG_IRF2BP2\",\"MED1\",\"MYB\",\"MYC\",\"POLII_S2\",\"POLII_S5\",\"POLII_total\",\"SPI1\"]"
   ]
  },
  {
   "cell_type": "code",
   "execution_count": null,
   "metadata": {},
   "outputs": [],
   "source": [
    "for i in range(int(len(bw)/2)):\n",
    "    if i<0:\n",
    "        continue\n",
    "    name1 = bw[i]\n",
    "    name2 = bw[8+i]\n",
    "    peak = [cond1peak[i], commonpeak[i], cond2peak[i]]\n",
    "    for val in peak:\n",
    "        chip.dropWeirdChromosomes(val)\n",
    "    name = names[i]\n",
    "    print(name1,name2)\n",
    "    chip.getPeaksAt(peak, [name1, name2], bigwignames=['DMSO', 'VHL'], peaknames=['DMSO_peaks', 'common', 'VHL_peaks'], window=3000, refpoint='center', folder=\"\", title=name, numthreads=7, torecompute=True, name='../../data/IRF2BP2_degraded_rep1/diffPeaks/'+name+'_mat.pdf', withDeeptools=True)"
   ]
  },
  {
   "cell_type": "code",
   "execution_count": null,
   "metadata": {},
   "outputs": [],
   "source": [
    "peaks = ! ls ../../data/IRF2BP2_degraded_rep1/bwa/mergedLibrary/macs/narrowPeak/*.narrowPeak\n",
    "peaks"
   ]
  },
  {
   "cell_type": "code",
   "execution_count": null,
   "metadata": {},
   "outputs": [],
   "source": [
    "names = [\"FLAG_IRF2BP2\",\"MED1\",\"MYB\",\"MYC\",\"POLII_S2\",\"POLII_S5\",\"POLII_total\",\"SPI1\"]\n",
    "names.extend([i+'_VHL' for i in names])\n",
    "names"
   ]
  },
  {
   "cell_type": "code",
   "execution_count": null,
   "metadata": {},
   "outputs": [],
   "source": [
    "for i in range(len(bw)):\n",
    "    chip.getPeaksAt(peaks[i], bw[i], window=3000, folder=\"\", title=names[i], numthreads=7, torecompute=True, onlyProfile=True, refpoint='center', name='../../data/IRF2BP2_degraded_rep1/diffPeaks/'+names[i]+'_mat_profile.pdf', withDeeptools=True)\n",
    "    chip.getPeaksAt(peaks[i], bw[i], window=3000, folder=\"\", title=names[i], numthreads=7, torecompute=True, refpoint='center',onlyProfile=True,name='../../data/IRF2BP2_degraded_rep1/diffPeaks/'+names[i]+'_mat_profile_clust3.pdf', withDeeptools=True, cluster=3)"
   ]
  },
  {
   "cell_type": "markdown",
   "metadata": {},
   "source": [
    "### on unscalled data"
   ]
  },
  {
   "cell_type": "code",
   "execution_count": null,
   "metadata": {},
   "outputs": [],
   "source": [
    "bams = !ls ../../data/IRF2BP2_degraded_rep1/bwa/mergedLibrary/mp*.bam\n",
    "bams"
   ]
  },
  {
   "cell_type": "code",
   "execution_count": null,
   "metadata": {},
   "outputs": [],
   "source": [
    "! mkdir ../../data/IRF2BP2_degraded_rep1/diffPeaks_unscaled"
   ]
  },
  {
   "cell_type": "code",
   "execution_count": null,
   "metadata": {},
   "outputs": [],
   "source": [
    "bams= list(bams)"
   ]
  },
  {
   "cell_type": "code",
   "execution_count": null,
   "metadata": {},
   "outputs": [],
   "source": [
    "bams"
   ]
  },
  {
   "cell_type": "code",
   "execution_count": null,
   "metadata": {},
   "outputs": [],
   "source": [
    "size"
   ]
  },
  {
   "cell_type": "code",
   "execution_count": null,
   "metadata": {},
   "outputs": [],
   "source": [
    "# on unscalled data \n",
    "for i in range(int((len(bams)-1)/2)-1):\n",
    "    if i < 0:\n",
    "        continue\n",
    "    name1 = bams[1+i]\n",
    "    name2 = bams[9+i]\n",
    "    chip.fullDiffPeak(name1,name2, control1=bams[0], size=size[i], compute_size=False, directory = \"../../data/IRF2BP2_degraded_rep1/diffData_unscaled/\", res_directory = \"../../data/IRF2BP2_degraded_rep1/diffPeaks_unscaled/\",pairedend=False)"
   ]
  },
  {
   "cell_type": "code",
   "execution_count": null,
   "metadata": {},
   "outputs": [],
   "source": [
    "bw = ! ls ../../data/IRF2BP2_degraded_rep1/bwa/mergedLibrary/bigwig/*.bigWig"
   ]
  },
  {
   "cell_type": "code",
   "execution_count": null,
   "metadata": {},
   "outputs": [],
   "source": [
    "commonpeak = ! ls ../../data/IRF2BP2_degraded_rep1/diffPeaks_unscaled/*common.bed\n",
    "cond1peak = ! ls ../../data/IRF2BP2_degraded_rep1/diffPeaks_unscaled/*cond1.bed\n",
    "cond2peak = ! ls ../../data/IRF2BP2_degraded_rep1/diffPeaks_unscaled/*cond2.bed\n",
    "cond2peak"
   ]
  },
  {
   "cell_type": "code",
   "execution_count": null,
   "metadata": {},
   "outputs": [],
   "source": [
    "names = [\"FLAG_IRF2BP2\",\"MED1\",\"POLII_total\",\"POLII_S2\",\"POLII_S5\",\"MYC\",\"MYB\",\"SPI1\"]"
   ]
  },
  {
   "cell_type": "code",
   "execution_count": null,
   "metadata": {},
   "outputs": [],
   "source": [
    "for i in range(int(len(bw[1:])/2)-1):\n",
    "    name1 = bw[1+i]\n",
    "    name2 = bw[9+i]\n",
    "    peak = [cond1peak[i], commonpeak[i], cond2peak[i]]\n",
    "    for val in peak:\n",
    "        chip.dropWeirdChromosomes(val)\n",
    "    name = names[i]\n",
    "    chip.getPeaksAt(peak, [name1, name2], bigwignames=['DMSO', 'VHL'], peaknames=['DMSO_peaks', 'common', 'VHL_peaks'], window=3000, title=name, numthreads=7, refpoint='center', folder=\"../../data/IRF2BP2_degraded_rep1/bwa/mergedLibrary/bigwig/\", torecompute=True, name='../../data/IRF2BP2_degraded_rep1/diffPeaks_unscaled/'+name+'_mat.pdf', withDeeptools=True)"
   ]
  },
  {
   "cell_type": "code",
   "execution_count": null,
   "metadata": {},
   "outputs": [],
   "source": [
    "! gsutil -m cp -r ../../data/IRF2BP2_degraded_rep1 gs://amlproject/Chip/\n",
    "# rm -r ../../data/IRF2BP2_degraded_rep1"
   ]
  },
  {
   "cell_type": "markdown",
   "metadata": {},
   "source": [
    "## v2"
   ]
  },
  {
   "cell_type": "code",
   "execution_count": null,
   "metadata": {},
   "outputs": [],
   "source": [
    "# mkdir ../../data/IRF2BP2_degraded_rep2/ && mkdir ../../data/IRF2BP2_degraded_rep2/fastqs && gsutil -m cp \"gs://transfer-amlproject/20191219_MP7659*\" ../../data/IRF2BP2_degraded_rep2/fastqs/"
   ]
  },
  {
   "cell_type": "markdown",
   "metadata": {},
   "source": [
    "### analysis"
   ]
  },
  {
   "cell_type": "code",
   "execution_count": null,
   "metadata": {},
   "outputs": [],
   "source": [
    "rename = {\n",
    "\"20191219_MP7659_1_S1_R1_001.fastq.gz\":\"mp795-MV411_IRF2BP2_DMSO_6h-FLAG_IRF2BP2-r2_R1.fastq.gz\",\n",
    "\"20191219_MP7659_1_S1_R2_001.fastq.gz\":\"mp795-MV411_IRF2BP2_DMSO_6h-FLAG_IRF2BP2-r2_R2.fastq.gz\",\n",
    "\"20191219_MP7659_2_S2_R1_001.fastq.gz\":\"mp796-MV411_IRF2BP2_DMSO_6h-MED1-r2_R1.fastq.gz\",\n",
    "\"20191219_MP7659_2_S2_R2_001.fastq.gz\":\"mp796-MV411_IRF2BP2_DMSO_6h-MED1-r2_R2.fastq.gz\",\n",
    "\"20191219_MP7659_3_S3_R1_001.fastq.gz\":\"mp797-MV411_IRF2BP2_DMSO_6h-POLII_total-r2_R1.fastq.gz\",\n",
    "\"20191219_MP7659_3_S3_R2_001.fastq.gz\":\"mp797-MV411_IRF2BP2_DMSO_6h-POLII_total-r2_R2.fastq.gz\",\n",
    "\"20191219_MP7659_4_S4_R1_001.fastq.gz\":\"mp798-MV411_IRF2BP2_DMSO_6h-POLII_S2-r2_R1.fastq.gz\",\n",
    "\"20191219_MP7659_4_S4_R2_001.fastq.gz\":\"mp798-MV411_IRF2BP2_DMSO_6h-POLII_S2-r2_R2.fastq.gz\",\n",
    "\"20191219_MP7659_5_S5_R1_001.fastq.gz\":\"mp799-MV411_IRF2BP2_DMSO_6h-POLII_S5-r2_R1.fastq.gz\",\n",
    "\"20191219_MP7659_5_S5_R2_001.fastq.gz\":\"mp799-MV411_IRF2BP2_DMSO_6h-POLII_S5-r2_R2.fastq.gz\",\n",
    "\"20191219_MP7659_6_S6_R1_001.fastq.gz\":\"mp800-MV411_IRF2BP2_DMSO_6h-MYC-r2_R1.fastq.gz\",\n",
    "\"20191219_MP7659_6_S6_R2_001.fastq.gz\":\"mp800-MV411_IRF2BP2_DMSO_6h-MYC-r2_R2.fastq.gz\",\n",
    "\"20191219_MP7659_7_S7_R1_001.fastq.gz\":\"mp801-MV411_IRF2BP2_DMSO_6h-MYB-r2_R1.fastq.gz\",\n",
    "\"20191219_MP7659_7_S7_R2_001.fastq.gz\":\"mp801-MV411_IRF2BP2_DMSO_6h-MYB-r2_R2.fastq.gz\",\n",
    "\"20191219_MP7659_8_S8_R1_001.fastq.gz\":\"mp802-MV411_IRF2BP2_DMSO_6h-SPI1-r2_R1.fastq.gz\",\n",
    "\"20191219_MP7659_8_S8_R2_001.fastq.gz\":\"mp802-MV411_IRF2BP2_DMSO_6h-SPI1-r2_R2.fastq.gz\",\n",
    "\"20191219_MP7659_9_S9_R1_001.fastq.gz\":\"mp803-MV411_IRF2BP_VHL_6h-FLAG_IRF2BP2-r2_R1.fastq.gz\",\n",
    "\"20191219_MP7659_9_S9_R2_001.fastq.gz\":\"mp803-MV411_IRF2BP_VHL_6h-FLAG_IRF2BP2-r2_R2.fastq.gz\",\n",
    "\"20191219_MP7659_10_S10_R1_001.fastq.gz\":\"mp804-MV411_IRF2BP_VHL_6h-MED1-r2_R1.fastq.gz\",\n",
    "\"20191219_MP7659_10_S10_R2_001.fastq.gz\":\"mp804-MV411_IRF2BP_VHL_6h-MED1-r2_R2.fastq.gz\",\n",
    "\"20191219_MP7659_11_S11_R1_001.fastq.gz\":\"mp805-MV411_IRF2BP_VHL_6h-POLII_total-r2_R1.fastq.gz\",\n",
    "\"20191219_MP7659_11_S11_R2_001.fastq.gz\":\"mp805-MV411_IRF2BP_VHL_6h-POLII_total-r2_R2.fastq.gz\",\n",
    "\"20191219_MP7659_12_S12_R1_001.fastq.gz\":\"mp806-MV411_IRF2BP_VHL_6h-POLII_S2-r2_R1.fastq.gz\",\n",
    "\"20191219_MP7659_12_S12_R2_001.fastq.gz\":\"mp806-MV411_IRF2BP_VHL_6h-POLII_S2-r2_R2.fastq.gz\",\n",
    "\"20191219_MP7659_13_S13_R1_001.fastq.gz\":\"mp807-MV411_IRF2BP_VHL_6h-POLII_S5-r2_R1.fastq.gz\",\n",
    "\"20191219_MP7659_13_S13_R2_001.fastq.gz\":\"mp807-MV411_IRF2BP_VHL_6h-POLII_S5-r2_R2.fastq.gz\",\n",
    "\"20191219_MP7659_14_S14_R1_001.fastq.gz\":\"mp808-MV411_IRF2BP_VHL_6h-MYC-r2_R1.fastq.gz\",\n",
    "\"20191219_MP7659_14_S14_R2_001.fastq.gz\":\"mp808-MV411_IRF2BP_VHL_6h-MYC-r2_R2.fastq.gz\",\n",
    "\"20191219_MP7659_15_S15_R1_001.fastq.gz\":\"mp809-MV411_IRF2BP_VHL_6h-MYB-r2_R1.fastq.gz\",\n",
    "\"20191219_MP7659_15_S15_R2_001.fastq.gz\":\"mp809-MV411_IRF2BP_VHL_6h-MYB-r2_R2.fastq.gz\",\n",
    "\"20191219_MP7659_16_S16_R1_001.fastq.gz\":\"mp810-MV411_IRF2BP_VHL_6h-SPI1-r2_R1.fastq.gz\",\n",
    "\"20191219_MP7659_16_S16_R2_001.fastq.gz\":\"mp810-MV411_IRF2BP_VHL_6h-SPI1-r2_R2.fastq.gz\"\n",
    "}"
   ]
  },
  {
   "cell_type": "code",
   "execution_count": null,
   "metadata": {},
   "outputs": [],
   "source": [
    "for k,v in rename.items():\n",
    "    ! mv ../../data/IRF2BP2_degraded_rep2/fastqs/$k ../../data/IRF2BP2_degraded_rep2/fastqs/$v\n"
   ]
  },
  {
   "cell_type": "code",
   "execution_count": null,
   "metadata": {},
   "outputs": [],
   "source": [
    "inputfastq=\"gs://amlproject/Chip/fastqs/mp99-MV411-INPUT-r1.fastq.gz\"\n",
    "! gsutil cp $inputfastq ../../data/IRF2BP2_degraded_rep2/fastqs\n",
    "a = ! ls ../../data/IRF2BP2_degraded_rep2/fastqs"
   ]
  },
  {
   "cell_type": "code",
   "execution_count": null,
   "metadata": {},
   "outputs": [],
   "source": [
    "from gsheets import Sheets\n",
    "sheets = Sheets.from_files('~/.client_secret.json', '~/.storage.json')\n",
    "url=\"https://docs.google.com/spreadsheets/d/1yFLjYB1McU530JnLgL0QIMAKIkVl3kl0_LCHje2gk8U\"\n",
    "gsheet = sheets.get(url).sheets[2].to_frame()"
   ]
  },
  {
   "cell_type": "code",
   "execution_count": null,
   "metadata": {},
   "outputs": [],
   "source": [
    "df = {\n",
    "\"fastq1\": [],\n",
    "\"fastq2\": [],\n",
    "\"antibody\": [],\n",
    "\"group\": [],\n",
    "\"replicate\": [],\n",
    "\"control\": []\n",
    "}\n",
    "for val in helper.grouped(a[:-1],2):\n",
    "    row = gsheet[gsheet.id==val[0].split('/')[-1].split('_')[0]]\n",
    "    df['group'].append((row.id.values[0] + '_'+ row.name_replicate.values[0] +\"_\"+row.protein.values[0]))\n",
    "    df['replicate'].append(1)\n",
    "    df['fastq1'].append(val[0])\n",
    "    #df['fastq2'].append(val[1])\n",
    "    df['antibody'].append(row.protein.values[0])\n",
    "    df['control'].append(\"INPUT\")\n",
    "df['group'].append('INPUT')\n",
    "df['replicate'].append(1)\n",
    "df['fastq1'].append(a[-1])\n",
    "#df['fastq2'].append(val[1])\n",
    "df['antibody'].append(\"INPUT\")\n",
    "df['control'].append(\"INPUT\")\n",
    "df = pd.DataFrame(df)"
   ]
  },
  {
   "cell_type": "code",
   "execution_count": null,
   "metadata": {},
   "outputs": [],
   "source": [
    "df[df.columns[[3,4,0,1,2,5]]].to_csv('../nextflow/IRF2BP2_degraded_rep2_design.csv')"
   ]
  },
  {
   "cell_type": "code",
   "execution_count": null,
   "metadata": {},
   "outputs": [],
   "source": [
    "#process chips\n",
    "! sudo ./nextflow run nf-core/chipseq --single_end --seq_center 'DFCI' --email 'jkobject@gmail.com' --narrow_peak --input ../nextflow/IRF2BP2_degraded_rep2_design.csv --genome GRCh38 --skip_preseq --max_cpus 24 -profile docker -w work"
   ]
  },
  {
   "cell_type": "code",
   "execution_count": null,
   "metadata": {},
   "outputs": [],
   "source": [
    "#!gsutil cp results/* ../../data/IRF2BP2_degraded_rep2/ && sudo rm -r work && sudo rm -r results"
   ]
  },
  {
   "cell_type": "code",
   "execution_count": null,
   "metadata": {},
   "outputs": [],
   "source": [
    "# get scaling values\n",
    "mappedreads, umappedreads_norm, mapped = chip.getSpikeInControlScales(refgenome=\"../../ref/reference_droso.fna\",FastQfolder='../../data/IRF2BP2_degraded_rep2/fastqs/',pairedEnd=True, cores=8)\n",
    "mappedreads, umappedreads_norm, mapped"
   ]
  },
  {
   "cell_type": "markdown",
   "metadata": {},
   "source": [
    "computing scales from the excel sheet"
   ]
  },
  {
   "cell_type": "code",
   "execution_count": null,
   "metadata": {},
   "outputs": [],
   "source": [
    "scales = [[508878,637972],\n",
    "[1929129,11595],\n",
    "[669536,429562],\n",
    "[1272730,810802],\n",
    "[743859,893304],\n",
    "[312888,1154119],\n",
    "[1086031,880901],\n",
    "[850181,1019640]]"
   ]
  },
  {
   "cell_type": "code",
   "execution_count": null,
   "metadata": {},
   "outputs": [],
   "source": [
    "scales = [[1.0, 0.7976494266],\n",
    "[0.006010484524, 1.0],\n",
    "[0.6415816327, 1.0],\n",
    "[0.6370573492, 1.0],\n",
    "[1.0, 0.8327053276],\n",
    "[1.0, 0.2711054926],\n",
    "[0.8111195721, 1.0],\n",
    "[1.0, 0.8338050685]]"
   ]
  },
  {
   "cell_type": "markdown",
   "metadata": {},
   "source": [
    "### on scalled data"
   ]
  },
  {
   "cell_type": "code",
   "execution_count": null,
   "metadata": {},
   "outputs": [],
   "source": [
    "# on scaled data\n",
    "bams = ! ls ../../IRF2BP2_degraded_rep2/bwa/mergedLibrary/*.bam\n",
    "for i in range(int(len(bams[1:])/2)-1):\n",
    "    name1 = bams[1+val]\n",
    "    name2 = bams[9+val]\n",
    "    chip.fullDiffPeak(name1,name2,control1='../../data/IRF2BP2_degraded_rep2/bwa/mergedLibrary/INPUT_R1.mLb.clN.sorted.bam', directory = \"../../data/IRF2BP2_degraded_rep2/diffData_unscaled/\", res_directory = \"../../data/IRF2BP2_degraded_rep2/diffPeaks_unscaled/\", scaling = scales[val][::-1])"
   ]
  },
  {
   "cell_type": "code",
   "execution_count": null,
   "metadata": {},
   "outputs": [],
   "source": [
    "bams = ! ls ../../data/IRF2BP2_degraded_rep2/bwa/mergedLibrary/*.bam\n",
    "bams = [i.split('/')[-1].split('.')[0] for i in bams]\n",
    "bams"
   ]
  },
  {
   "cell_type": "code",
   "execution_count": null,
   "metadata": {},
   "outputs": [],
   "source": [
    "# diffPeak on scalled data\n",
    "sizes = [220, 191, 228, 285, 222, 204, 211, 194]\n",
    "for i in range(int(len(bams[1:])/2)-1):\n",
    "    name1 = bams[1+i]\n",
    "    name2 = bams[9+i]\n",
    "    chip.diffPeak(name1,name2, directory= \"../../data/IRF2BP2_degraded_rep2/diffData/\", res_directory='../../data/IRF2BP2_degraded_rep2/diffPeaks/', scaling1=scales[i][1], scaling2=scales[i][0], size=size[i])"
   ]
  },
  {
   "cell_type": "code",
   "execution_count": null,
   "metadata": {},
   "outputs": [],
   "source": [
    "scales = [1.0,\n",
    "0.006010484524,\n",
    "0.6415816327,\n",
    "0.6370573492,\n",
    "1.0,\n",
    "1.0,\n",
    "0.8111195721,\n",
    "1.0,\n",
    "0.7976494266,\n",
    "1.0,\n",
    "1.0,\n",
    "1.0,\n",
    "0.8327053276,\n",
    "0.2711054926,\n",
    "1.0,\n",
    "0.8338050685]"
   ]
  },
  {
   "cell_type": "code",
   "execution_count": null,
   "metadata": {},
   "outputs": [],
   "source": [
    "chip.bigWigFrom(bams[1:],genome='GRCh38',scaling=scales)"
   ]
  },
  {
   "cell_type": "code",
   "execution_count": null,
   "metadata": {},
   "outputs": [],
   "source": [
    "! mv ../../data/recalib_bigwig_rep2/* ../../data/IRF2BP2_degraded_rep2/recalib_bigwig/\n",
    "bw = ! ls ../../data/IRF2BP2_degraded_rep2/recalib_bigwig/*.bw\n",
    "bw"
   ]
  },
  {
   "cell_type": "code",
   "execution_count": null,
   "metadata": {},
   "outputs": [],
   "source": [
    "cond1peak = ! ls ../../data/IRF2BP2_degraded_rep2/diffPeaks/*cond1.bed\n",
    "cond2peak = ! ls ../../data/IRF2BP2_degraded_rep2/diffPeaks/*cond2.bed\n",
    "commonpeak = ! ls ../../data/IRF2BP2_degraded_rep2/diffPeaks/*common.bed\n",
    "commonpeak"
   ]
  },
  {
   "cell_type": "code",
   "execution_count": null,
   "metadata": {},
   "outputs": [],
   "source": [
    "names = [\"FLAG_IRF2BP2\",\"MED1\",\"POLII_total\",\"POLII_S2\",\"POLII_S5\",\"MYC\",\"MYB\",\"SPI1\"]"
   ]
  },
  {
   "cell_type": "code",
   "execution_count": null,
   "metadata": {},
   "outputs": [],
   "source": [
    "for i in range(int(len(bw)/2)):\n",
    "    name1 = bw[i]\n",
    "    name2 = bw[8+i]\n",
    "    peak = [cond1peak[i], commonpeak[i], cond2peak[i]]\n",
    "    for val in peak:\n",
    "        chip.dropWeirdChromosomes(val)\n",
    "    name = names[i]\n",
    "    chip.getPeaksAt(peak, [name1, name2], bigwignames=['DMSO', 'VHL'], peaknames=['DMSO_peaks', 'common', 'VHL_peaks'], window=3000, folder=\"\", title=name, numthreads=20, name='../../data/IRF2BP2_degraded_rep2/diffPeaks/'+name+'_mat.pdf', refpoint='center', withDeeptools=True, torecompute= True,)"
   ]
  },
  {
   "cell_type": "code",
   "execution_count": null,
   "metadata": {},
   "outputs": [],
   "source": [
    "peaks = ! ls ../../data/IRF2BP2_degraded_rep2/bwa/mergedLibrary/macs/narrowPeak/*.narrowPeak\n",
    "peaks"
   ]
  },
  {
   "cell_type": "code",
   "execution_count": null,
   "metadata": {},
   "outputs": [],
   "source": [
    "names = [\"FLAG_IRF2BP2\",\"MED1\",\"POLII_total\",\"POLII_S2\",\"POLII_S5\",\"MYC\",\"MYB\",\"SPI1\"]\n",
    "names.extend([i+'_VHL' for i in names])\n",
    "names"
   ]
  },
  {
   "cell_type": "code",
   "execution_count": null,
   "metadata": {},
   "outputs": [],
   "source": [
    "bw"
   ]
  },
  {
   "cell_type": "code",
   "execution_count": null,
   "metadata": {},
   "outputs": [],
   "source": [
    "for i in range(len(bw)-1):\n",
    "    chip.getPeaksAt(peaks[i], bw[1+i], window=3000, folder=\"\", title=names[i], numthreads=7, torecompute=True, onlyProfile=True, name='../../data/IRF2BP2_degraded_rep2/diffPeaks/'+names[i]+'_mat_profile.pdf', refpoint='center', withDeeptools=True)\n",
    "    chip.getPeaksAt(peaks[i], bw[1+i], window=3000, folder=\"\", title=names[i], numthreads=7, torecompute=True, refpoint='center', onlyProfile=True, name='../../data/IRF2BP2_degraded_rep2/diffPeaks/'+names[i]+'_mat_profile_clust3.pdf', withDeeptools=True, cluster=3)"
   ]
  },
  {
   "cell_type": "markdown",
   "metadata": {},
   "source": [
    "### unscalled"
   ]
  },
  {
   "cell_type": "code",
   "execution_count": null,
   "metadata": {},
   "outputs": [],
   "source": [
    "bams = !ls ../../data/IRF2BP2_degraded_rep2/bwa/mergedLibrary/mp*.bam\n",
    "bams"
   ]
  },
  {
   "cell_type": "code",
   "execution_count": null,
   "metadata": {},
   "outputs": [],
   "source": [
    "!mkdir  ../../data/IRF2BP2_degraded_rep2/diffPeaks_unscaled\n",
    "bw = ! ../../data/IRF2BP2_degraded_rep2/bwa/mergedLibrary/bigwig/*.bigWig"
   ]
  },
  {
   "cell_type": "code",
   "execution_count": null,
   "metadata": {},
   "outputs": [],
   "source": [
    "# on unscalled data \n",
    "for i in range(int(len(bams)/2)):\n",
    "    if i <0:\n",
    "        continue\n",
    "    name1 = bams[i]\n",
    "    name2 = bams[8+i]\n",
    "    chip.fullDiffPeak(name1,name2, control1='../../data/results3/bwa/mergedLibrary/INPUT_R1.mLb.clN.sorted.bam', directory = \"../../data/IRF2BP2_degraded_rep2/diffData_unscaled/\", res_directory = \"../../data/IRF2BP2_degraded_rep2/diffPeaks_unscaled/\", pairedend=False)"
   ]
  },
  {
   "cell_type": "code",
   "execution_count": null,
   "metadata": {},
   "outputs": [],
   "source": [
    "commonpeak = ! ls ../../data/IRF2BP2_degraded_rep2/diffPeaks_unscaled/*common.bed\n",
    "cond1peak = ! ls ../../data/IRF2BP2_degraded_rep2/diffPeaks_unscaled/*cond1.bed\n",
    "cond2peak = ! ls ../../data/IRF2BP2_degraded_rep2/diffPeaks_unscaled/*cond2.bed\n",
    "cond2peak"
   ]
  },
  {
   "cell_type": "code",
   "execution_count": null,
   "metadata": {},
   "outputs": [],
   "source": [
    "names = [\"FLAG_IRF2BP2\",\"MED1\",\"POLII_total\",\"POLII_S2\",\"POLII_S5\",\"MYC\",\"MYB\",\"SPI1\"]"
   ]
  },
  {
   "cell_type": "code",
   "execution_count": null,
   "metadata": {},
   "outputs": [],
   "source": [
    "for i in range(int(len(bw[1:])/2)):\n",
    "    name1 = bw[1+i]\n",
    "    name2 = bw[9+i]\n",
    "    peak = [cond1peak[i], commonpeak[i], cond2peak[i]]\n",
    "    for val in peak:\n",
    "        chip.dropWeirdChromosomes(val)\n",
    "    name = names[i]\n",
    "    chip.getPeaksAt(peak, [name1, name2], bigwignames=['DMSO', 'VHL'], peaknames=['DMSO_peaks', 'common', 'VHL_peaks'], window=3000, title=name, numthreads=7, torecompute=True, refpoint='center', folder=\"\", name='../../data/IRF2BP2_degraded_rep2/diffPeaks_unscaled/'+name+'_mat.pdf', withDeeptools=True)"
   ]
  },
  {
   "cell_type": "code",
   "execution_count": null,
   "metadata": {},
   "outputs": [],
   "source": [
    "! gsutil -m cp -r \"../../data/IRF2BP2_degraded_rep2\" gs://amlproject/Chip/"
   ]
  },
  {
   "cell_type": "markdown",
   "metadata": {},
   "source": [
    "## v3"
   ]
  },
  {
   "cell_type": "code",
   "execution_count": null,
   "metadata": {},
   "outputs": [],
   "source": [
    "! gsutil mv gs://transfer-amlproject/*MP7781*  gs://transfer-amlproject/IRF2BP2_v3/"
   ]
  },
  {
   "cell_type": "markdown",
   "metadata": {},
   "source": [
    "### analysis"
   ]
  },
  {
   "cell_type": "code",
   "execution_count": null,
   "metadata": {},
   "outputs": [],
   "source": [
    "! mkdir ../../data/IRF2BP2_degraded_rep3 && mkdir ../../data/IRF2BP2_degraded_rep3/fastqs && gsutil -m cp gs://transfer-amlproject/IRF2BP2_v3/* ../../data/IRF2BP2_degraded_rep3/fastqs/"
   ]
  },
  {
   "cell_type": "code",
   "execution_count": null,
   "metadata": {},
   "outputs": [],
   "source": [
    "rename = {\n",
    "\"20200203_1_MP7781_S67_R1_001.fastq.gz\":\"mp831-MV411_IRF2BP_DMSO_6h-CDK8-r1_R1.fastq.gz\",\n",
    "\"20200203_1_MP7781_S67_R2_001.fastq.gz\":\"mp831-MV411_IRF2BP_DMSO_6h-CDK8-r1_R2.fastq.gz\",\n",
    "\"20200203_2_MP7781_S68_R1_001.fastq.gz\":\"mp832-MV411_IRF2BP_DMSO_6h-BRD4-r1_R1.fastq.gz\",\n",
    "\"20200203_2_MP7781_S68_R2_001.fastq.gz\":\"mp832-MV411_IRF2BP_DMSO_6h-BRD4-r1_R2.fastq.gz\",\n",
    "\"20200203_3_MP7781_S69_R1_001.fastq.gz\":\"mp833-MV411_IRF2BP_DMSO_6h-IRF8-r1_R1.fastq.gz\",\n",
    "\"20200203_3_MP7781_S69_R2_001.fastq.gz\":\"mp833-MV411_IRF2BP_DMSO_6h-IRF8-r1_R2.fastq.gz\",\n",
    "\"20200203_4_MP7781_S70_R1_001.fastq.gz\":\"mp834-MV411_IRF2BP_DMSO_6h-SMC1-r1_R1.fastq.gz\",\n",
    "\"20200203_4_MP7781_S70_R2_001.fastq.gz\":\"mp834-MV411_IRF2BP_DMSO_6h-SMC1-r1_R2.fastq.gz\",\n",
    "\"20200203_5_MP7781_S71_R2_001.fastq.gz\":\"mp835-MV411_IRF2BP_DMSO_6h-MED1-r3_R2.fastq.gz\",\n",
    "\"20200203_5_MP7781_S71_R1_001.fastq.gz\":\"mp835-MV411_IRF2BP_DMSO_6h-MED1-r3_R1.fastq.gz\",\n",
    "\"20200203_6_MP7781_S72_R1_001.fastq.gz\":\"mp836-MV411_IRF2BP_DMSO_6h-ZEB2-r1_R1.fastq.gz\",\n",
    "\"20200203_6_MP7781_S72_R2_001.fastq.gz\":\"mp836-MV411_IRF2BP_DMSO_6h-ZEB2-r1_R2.fastq.gz\",\n",
    "\"20200203_7_MP7781_S73_R1_001.fastq.gz\":\"mp837-MV411_IRF2BP_DMSO_6h-CEBPA-r1_R1.fastq.gz\",\n",
    "\"20200203_7_MP7781_S73_R2_001.fastq.gz\":\"mp837-MV411_IRF2BP_DMSO_6h-CEBPA-r1_R2.fastq.gz\",\n",
    "\"20200203_8_MP7781_S74_R1_001.fastq.gz\":\"mp838-MV411_IRF2BP_VHL_6h-CDK8-r1_R1.fastq.gz\",\n",
    "\"20200203_8_MP7781_S74_R2_001.fastq.gz\":\"mp838-MV411_IRF2BP_VHL_6h-CDK8-r1_R2.fastq.gz\",\n",
    "\"20200203_9_MP7781_S75_R1_001.fastq.gz\":\"mp839-MV411_IRF2BP_VHL_6h-BRD4-r1_R1.fastq.gz\",\n",
    "\"20200203_9_MP7781_S75_R2_001.fastq.gz\":\"mp839-MV411_IRF2BP_VHL_6h-BRD4-r1_R2.fastq.gz\",\n",
    "\"20200203_10_MP7781_S76_R2_001.fastq.gz\":\"mp840-MV411_IRF2BP_VHL_6h-IRF8-r1_R2.fastq.gz\",\n",
    "\"20200203_10_MP7781_S76_R1_001.fastq.gz\":\"mp840-MV411_IRF2BP_VHL_6h-IRF8-r1_R1.fastq.gz\",\n",
    "\"20200203_11_MP7781_S77_R1_001.fastq.gz\":\"mp841-MV411_IRF2BP_VHL_6h-SMC1-r1_R1.fastq.gz\",\n",
    "\"20200203_11_MP7781_S77_R2_001.fastq.gz\":\"mp841-MV411_IRF2BP_VHL_6h-SMC1-r1_R2.fastq.gz\",\n",
    "\"20200203_12_MP7781_S78_R1_001.fastq.gz\":\"mp842-MV411_IRF2BP_VHL_6h-MED1-r3_R1.fastq.gz\",\n",
    "\"20200203_12_MP7781_S78_R2_001.fastq.gz\":\"mp842-MV411_IRF2BP_VHL_6h-MED1-r3_R2.fastq.gz\",\n",
    "\"20200203_13_MP7781_S79_R1_001.fastq.gz\":\"mp843-MV411_IRF2BP_VHL_6h-ZEB2-r1_R1.fastq.gz\",\n",
    "\"20200203_13_MP7781_S79_R2_001.fastq.gz\":\"mp843-MV411_IRF2BP_VHL_6h-ZEB2-r1_R2.fastq.gz\",\n",
    "\"20200203_14_MP7781_S80_R2_001.fastq.gz\":\"mp844-MV411_IRF2BP_VHL_6h-CEBPA-r1_R2.fastq.gz\",\n",
    "\"20200203_14_MP7781_S80_R1_001.fastq.gz\":\"mp844-MV411_IRF2BP_VHL_6h-CEBPA-r1_R1.fastq.gz\",\n",
    "\"20200203_Input_MP7781_S81_R1_001.fastq.gz\":\"mp845-MV411_IRF2BP2_-INPUT-r1_R1.fastq.gz\",\n",
    "\"20200203_Input_MP7781_S81_R2_001.fastq.gz\":\"mp845-MV411_IRF2BP2_-INPUT-r1_R2.fastq.gz\"\n",
    "}"
   ]
  },
  {
   "cell_type": "code",
   "execution_count": null,
   "metadata": {},
   "outputs": [],
   "source": [
    "for k,v in rename.items():\n",
    "    ! mv ../../data/IRF2BP2_degraded_rep3/fastqs/$k ../../data/IRF2BP2_degraded_rep3/fastqs/$v"
   ]
  },
  {
   "cell_type": "code",
   "execution_count": null,
   "metadata": {},
   "outputs": [],
   "source": [
    "from gsheets import Sheets\n",
    "sheets = Sheets.from_files('~/.client_secret.json', '~/.storage.json')\n",
    "url=\"https://docs.google.com/spreadsheets/d/1yFLjYB1McU530JnLgL0QIMAKIkVl3kl0_LCHje2gk8U\"\n",
    "gsheet = sheets.get(url).sheets[2].to_frame()"
   ]
  },
  {
   "cell_type": "code",
   "execution_count": null,
   "metadata": {},
   "outputs": [],
   "source": [
    "a = ! ls ../../data/IRF2BP2_degraded_rep3/fastqs"
   ]
  },
  {
   "cell_type": "code",
   "execution_count": null,
   "metadata": {},
   "outputs": [],
   "source": [
    "gsheet"
   ]
  },
  {
   "cell_type": "code",
   "execution_count": null,
   "metadata": {},
   "outputs": [],
   "source": [
    "df = {\n",
    "\"fastq_1\": [],\n",
    "\"fastq_2\": [],\n",
    "\"antibody\": [],\n",
    "\"group\": [],\n",
    "\"replicate\": [],\n",
    "\"control\": []\n",
    "}\n",
    "for val in helper.grouped(a[:-2],2):\n",
    "    row = gsheet[gsheet.id==val[0].split('/')[-1].split('-')[0]]\n",
    "    df['group'].append(row['name'].values[0])\n",
    "    df['replicate'].append(1)\n",
    "    df['fastq_1'].append(val[0])\n",
    "    df['fastq_2'].append(val[1])\n",
    "    df['antibody'].append(row['protein'].values[0])\n",
    "    df['control'].append(\"INPUT\")\n",
    "df['group'].append('INPUT')\n",
    "df['replicate'].append(1)\n",
    "df['fastq_1'].append(a[-2])\n",
    "df['fastq_2'].append(a[-1])\n",
    "df['antibody'].append(\"\")\n",
    "df['control'].append(\"\")\n",
    "df = pd.DataFrame(df)"
   ]
  },
  {
   "cell_type": "code",
   "execution_count": null,
   "metadata": {},
   "outputs": [],
   "source": [
    "df"
   ]
  },
  {
   "cell_type": "code",
   "execution_count": null,
   "metadata": {},
   "outputs": [],
   "source": [
    "df[df.columns[[3,4,0,1,2,5]]].to_csv('../nextflow/IRF2BP2_degraded_rep3_design.csv',index=False)"
   ]
  },
  {
   "cell_type": "code",
   "execution_count": null,
   "metadata": {},
   "outputs": [],
   "source": [
    "#process chips\n",
    "! sudo ../nextflow run nf-core/chipseq --paired_end --seq_center 'DFCI' --email \\\n",
    "'jkobject@gmail.com' --narrow_peak --input ../nextflow/../../data/IRF2BP2_degraded_rep3_design.csv --genome GRCh38 --skip_preseq \\\n",
    "--max_cpus 24 -profile docker -w work"
   ]
  },
  {
   "cell_type": "code",
   "execution_count": null,
   "metadata": {},
   "outputs": [],
   "source": [
    "ls"
   ]
  },
  {
   "cell_type": "code",
   "execution_count": null,
   "metadata": {},
   "outputs": [],
   "source": [
    "!cp -r results/* ../../data/IRF2BP2_degraded_rep3/ && sudo rm -r work && sudo rm -r results"
   ]
  },
  {
   "cell_type": "code",
   "execution_count": null,
   "metadata": {},
   "outputs": [],
   "source": [
    "ls ../TrimGalore-0.6.5/trim_galore"
   ]
  },
  {
   "cell_type": "code",
   "execution_count": null,
   "metadata": {},
   "outputs": [],
   "source": [
    "# get scaling values\n",
    "mappedreads, umappedreads_norm = chip.getSpikeInControlScales(refgenome=\"../../ref/reference_droso.fna\",\n",
    "                                                                      fastQfolder='../../data/IRF2BP2_degraded_rep3/fastqs',\n",
    "                                                                      pairedEnd=True, cores=8,\n",
    "                                                                      tofilter=False,\n",
    "                                                                      totrim=False,\n",
    "                                                                      tomap=False,\n",
    "                                                                      pathtotrim_galore=\"../TrimGalore-0.6.5/trim_galore\")\n",
    "mappedreads, umappedreads_norm"
   ]
  },
  {
   "cell_type": "markdown",
   "metadata": {},
   "source": [
    "computing scales from the excel sheet"
   ]
  },
  {
   "cell_type": "code",
   "execution_count": null,
   "metadata": {},
   "outputs": [],
   "source": [
    "scales = [[536923,632558],\n",
    "[601370,681405],\n",
    "[2402198,1676203],\n",
    "[417892,216192],\n",
    "[1544590,1350802],\n",
    "[1174994,1376726],\n",
    "[289635,240366]]"
   ]
  },
  {
   "cell_type": "code",
   "execution_count": null,
   "metadata": {},
   "outputs": [],
   "source": [
    "scales= [[1.0, 0.8488122828],\n",
    "[1.0, 0.8825441551],\n",
    "[0.6977788675, 1.0],\n",
    "[0.5173394083, 1.0],\n",
    "[0.8745375796, 1.0],\n",
    "[1.0, 0.8534697536],\n",
    "[0.8298927961, 1.0]]"
   ]
  },
  {
   "cell_type": "code",
   "execution_count": null,
   "metadata": {},
   "outputs": [],
   "source": [
    "bams = ! ls ../../data/IRF2BP2_degraded_rep3/bwa/mergedLibrary/*.bam #../../data/results3/bwa/mergedLibrary/*.bam\n",
    "bams"
   ]
  },
  {
   "cell_type": "code",
   "execution_count": null,
   "metadata": {},
   "outputs": [],
   "source": [
    "bams[7]"
   ]
  },
  {
   "cell_type": "code",
   "execution_count": null,
   "metadata": {},
   "outputs": [],
   "source": [
    "bams = [bam1.split('/')[-1].split('.')[0] for bam1 in bams]"
   ]
  },
  {
   "cell_type": "markdown",
   "metadata": {},
   "source": [
    "### on scalled data"
   ]
  },
  {
   "cell_type": "code",
   "execution_count": null,
   "metadata": {},
   "outputs": [],
   "source": [
    "# diffPeak on scaled data\n",
    "size=[206, 218, 189, 194, 217, 217, 176]\n",
    "for i in range(int(len(bams)/2)):\n",
    "    if i<0:\n",
    "        continue\n",
    "    name1 = bams[i]\n",
    "    name2 = bams[7+i]\n",
    "    print(name1,name2)\n",
    "    chip.diffPeak(name1, name2, directory= \"../../data/IRF2BP2_degraded_rep3/diffData/\", res_directory='../../data/IRF2BP2_degraded_rep3/diffPeaks/', scaling1=scales[i][1], scaling2=scales[i][0], size=size[i])"
   ]
  },
  {
   "cell_type": "code",
   "execution_count": null,
   "metadata": {},
   "outputs": [],
   "source": [
    "os.popen('for i in $(ls ../../data/IRF2BP2_degraded_rep3/diffPeaks/*.bed); \\\n",
    "            do echo $(wc -l $i); \\\n",
    "            done').read().split('\\n')"
   ]
  },
  {
   "cell_type": "code",
   "execution_count": null,
   "metadata": {},
   "outputs": [],
   "source": [
    "# diffPeak on scaled data\n",
    "for i in range(int(len(bams)/2)):\n",
    "    if i <0:\n",
    "        continue\n",
    "    name1 = bams[i]\n",
    "    name2 = bams[7+i]\n",
    "    print(name1,name2)\n",
    "    chip.fullDiffPeak(name1,name2, control1='../../data/IRF2BP2_degraded_rep3/INPUT_R1.mLb.clN.sorted.bam', directory = \"../../data/IRF2BP2_degraded_rep3/diffData/\", res_directory = \"../../data/IRF2BP2_degraded_rep3/diffPeaks/\", isTF=True, compute_size=True, pairedend=False)"
   ]
  },
  {
   "cell_type": "code",
   "execution_count": null,
   "metadata": {},
   "outputs": [],
   "source": [
    "scales = [1.0,\n",
    "1.0,\n",
    "0.6977788675,\n",
    "0.5173394083,\n",
    "0.8745375796,\n",
    "1.0,\n",
    "0.8298927961,\n",
    "0.8488122828,\n",
    "0.8825441551,\n",
    "1.0,\n",
    "1.0,\n",
    "1.0,\n",
    "0.8534697536,\n",
    "1.0]"
   ]
  },
  {
   "cell_type": "code",
   "execution_count": null,
   "metadata": {},
   "outputs": [],
   "source": [
    "bams"
   ]
  },
  {
   "cell_type": "code",
   "execution_count": null,
   "metadata": {},
   "outputs": [],
   "source": [
    "chip.bigWigFrom(bams[1:], \n",
    "                genome='GRCh38',scaling=scales,\n",
    "               numthreads=8)"
   ]
  },
  {
   "cell_type": "code",
   "execution_count": null,
   "metadata": {},
   "outputs": [],
   "source": [
    "! mv diffPeaks ../../data/IRF2BP2_degraded_rep3\n",
    "! mv diffData ../../data/IRF2BP2_degraded_rep3"
   ]
  },
  {
   "cell_type": "code",
   "execution_count": null,
   "metadata": {},
   "outputs": [],
   "source": [
    "!mv bigwig ../../data/recalib_bigwig_3 "
   ]
  },
  {
   "cell_type": "code",
   "execution_count": null,
   "metadata": {},
   "outputs": [],
   "source": [
    "os.popen('for i in $(ls ../../data/IRF2BP2_degraded_rep3/diffPeaks); \\\n",
    "            do echo $(wc -l \"../../data/IRF2BP2_degraded_rep3/diffPeaks/\"$i); \\\n",
    "            done').read().split('\\n')"
   ]
  },
  {
   "cell_type": "code",
   "execution_count": null,
   "metadata": {},
   "outputs": [],
   "source": [
    "bw = ! ls ../../data/recalib_bigwig_3/*.bw\n",
    "bw"
   ]
  },
  {
   "cell_type": "code",
   "execution_count": null,
   "metadata": {},
   "outputs": [],
   "source": [
    "cond1peak = ! ls ../../data/IRF2BP2_degraded_rep3/diffPeaks/*cond1.bed\n",
    "cond2peak = ! ls ../../data/IRF2BP2_degraded_rep3/diffPeaks/*cond2.bed\n",
    "commonpeak = ! ls ../../data/IRF2BP2_degraded_rep3/diffPeaks/*common.bed\n",
    "cond1peak"
   ]
  },
  {
   "cell_type": "code",
   "execution_count": null,
   "metadata": {},
   "outputs": [],
   "source": [
    "names = [\"CDK8\",\"BRD4\",\"IRF8\",\"SMC1\",\"MED1\",\"ZEB2\",\"CEBPA\"]"
   ]
  },
  {
   "cell_type": "code",
   "execution_count": null,
   "metadata": {},
   "outputs": [],
   "source": [
    "for i in range(int(len(bw)/2)):\n",
    "    if i<0:\n",
    "        continue\n",
    "    name1 = bw[i]\n",
    "    name2 = bw[7+i]\n",
    "    peak = [cond1peak[i], commonpeak[i], cond2peak[i]]\n",
    "    #for val in peak:\n",
    "        #chip.dropWeirdChromosomes(val)\n",
    "    name = names[i]\n",
    "    chip.getPeaksAt(peak, [name1, name2], bigwignames=['DMSO', 'VHL'], refpoint='center', peaknames=['DMSO_peaks', 'common', 'VHL_peaks'], window=3000, folder=\"\", title=name, numthreads=14, name='../../data/IRF2BP2_degraded_rep3/diffPeaks/'+name+'_mat.pdf', withDeeptools=True, torecompute=True)"
   ]
  },
  {
   "cell_type": "code",
   "execution_count": null,
   "metadata": {},
   "outputs": [],
   "source": [
    "names = [\"CDK8\",\"BRD4\",\"IRF8\",\"SMC1\",\"MED1\",\"ZEB2\",\"CEBPA\"]\n",
    "names.extend([i+'_VHL' for i in names])\n",
    "names"
   ]
  },
  {
   "cell_type": "code",
   "execution_count": null,
   "metadata": {},
   "outputs": [],
   "source": [
    "peaks = ! ls ../../data/IRF2BP2_degraded_rep3/bwa/mergedLibrary/macs/narrowPeak/*.narrowPeak\n",
    "peaks"
   ]
  },
  {
   "cell_type": "code",
   "execution_count": null,
   "metadata": {},
   "outputs": [],
   "source": [
    "for i in range(len(bw)):\n",
    "    chip.getPeaksAt(peaks[i], bw[i], window=3000, folder=\"\", title=names[i], numthreads=7, torecompute=True, onlyProfile=True, refpoint='center', name='../../data/IRF2BP2_degraded_rep3/diffPeaks/'+names[i]+'_mat_profile.pdf', withDeeptools=True)\n",
    "    chip.getPeaksAt(peaks[i], bw[i], window=3000, folder=\"\", title=names[i], numthreads=7, torecompute=True, refpoint='center', onlyProfile=True,name='../../data/IRF2BP2_degraded_rep3/diffPeaks/'+names[i]+'_mat_profile_clust3.pdf', withDeeptools=True, cluster=3)"
   ]
  },
  {
   "cell_type": "markdown",
   "metadata": {},
   "source": [
    "### on unscalled data"
   ]
  },
  {
   "cell_type": "code",
   "execution_count": null,
   "metadata": {},
   "outputs": [],
   "source": [
    "bams = !ls ../../data/IRF2BP2_degraded_rep3/bwa/mergedLibrary/mp*.bam\n",
    "bams"
   ]
  },
  {
   "cell_type": "code",
   "execution_count": null,
   "metadata": {},
   "outputs": [],
   "source": [
    "! mkdir ../../data/IRF2BP2_degraded_rep3/diffPeaks_unscaled"
   ]
  },
  {
   "cell_type": "code",
   "execution_count": null,
   "metadata": {},
   "outputs": [],
   "source": [
    "#on unscalled data \n",
    "for i in range(int(len(bams)/2)):\n",
    "    if i < 0:\n",
    "        continue\n",
    "    name1 = bams[i]\n",
    "    name2 = bams[7+i]\n",
    "    print(name1,name2)\n",
    "    chip.fullDiffPeak(name1,name2, control1='../../data/results3/bwa/mergedLibrary/INPUT_R1.mLb.clN.sorted.bam', directory = \"../../data/IRF2BP2_degraded_rep3/diffData_unscaled/\", res_directory = \"../../data/IRF2BP2_degraded_rep3/diffPeaks_unscaled/\",pairedend=False)"
   ]
  },
  {
   "cell_type": "code",
   "execution_count": null,
   "metadata": {},
   "outputs": [],
   "source": [
    "bw = ! ls ../../data/IRF2BP2_degraded_rep3/bwa/mergedLibrary/bigwig/*.bigWig\n",
    "bw"
   ]
  },
  {
   "cell_type": "code",
   "execution_count": null,
   "metadata": {},
   "outputs": [],
   "source": [
    "cond1peak = ! ls ../../data/IRF2BP2_degraded_rep3/diffPeaks_unscaled/*cond1.bed\n",
    "cond2peak = ! ls ../../data/IRF2BP2_degraded_rep3/diffPeaks_unscaled/*cond2.bed\n",
    "commonpeak = ! ls ../../data/IRF2BP2_degraded_rep3/diffPeaks_unscaled/*common.bed\n",
    "cond1peak"
   ]
  },
  {
   "cell_type": "code",
   "execution_count": null,
   "metadata": {},
   "outputs": [],
   "source": [
    "names = [\"CDK8\",\"BRD4\",\"IRF8\",\"SMC1\",\"MED1\",\"ZEB2\",\"CEBPA\"]"
   ]
  },
  {
   "cell_type": "code",
   "execution_count": null,
   "metadata": {},
   "outputs": [],
   "source": [
    "for i in range(int((len(bw)-1)/2)):\n",
    "    if i <0:\n",
    "        continue\n",
    "    name1 = bw[1+i]\n",
    "    name2 = bw[8+i]\n",
    "    peak = [cond1peak[i], commonpeak[i], cond2peak[i]]\n",
    "    #for val in peak:\n",
    "        #chip.dropWeirdChromosomes(val)\n",
    "    name = names[i]\n",
    "    print(name1,name2)\n",
    "    chip.getPeaksAt(peak, [name1, name2], bigwignames=['DMSO', 'VHL'], peaknames=['DMSO_peaks', 'common', 'VHL_peaks'], window=3000, folder=\"\", title=name, numthreads=14, torecompute=True, refpoint=\"center\", name='../../data/IRF2BP2_degraded_rep3/diffPeaks_unscaled/'+name+'_mat.pdf', withDeeptools=True)"
   ]
  },
  {
   "cell_type": "code",
   "execution_count": null,
   "metadata": {},
   "outputs": [],
   "source": [
    "! gsutil -m cp -r \"../../data/IRF2BP2_degraded_rep3/\" gs://amlproject/Chip/"
   ]
  },
  {
   "cell_type": "markdown",
   "metadata": {},
   "source": [
    "## histones V1&2"
   ]
  },
  {
   "cell_type": "code",
   "execution_count": null,
   "metadata": {},
   "outputs": [],
   "source": [
    "bamfolder=\"../../data/IRF2BP2_degraded_histones/fastqs/\""
   ]
  },
  {
   "cell_type": "code",
   "execution_count": null,
   "metadata": {},
   "outputs": [],
   "source": [
    "! mkdir ../../data/IRF2BP2_degraded_histones && mkdir ../../data/IRF2BP2_degraded_histones/fastqs && gsutil cp \"gs://transfer-amlproject/*.fastq.gz\" $bamfolder"
   ]
  },
  {
   "cell_type": "code",
   "execution_count": null,
   "metadata": {},
   "outputs": [],
   "source": [
    "! gsutil -m cp gs://transfer-amlproject/*MP7693* gs://transfer-amlproject/IRF2BP2_hist/ && gsutil -m rm gs://transfer-amlproject/*MP7693*"
   ]
  },
  {
   "cell_type": "markdown",
   "metadata": {},
   "source": [
    "\n",
    "### analysis"
   ]
  },
  {
   "cell_type": "code",
   "execution_count": null,
   "metadata": {},
   "outputs": [],
   "source": [
    "rename = {\n",
    "    \"20200103_1_MP7693_S6_R1_001.fastq.gz\":\"mp811-MV411_IRF2BP2_DMSO_6h-H3K27ac-r1_R1.fastq.gz\",\n",
    "    \"20200103_1_MP7693_S6_R2_001.fastq.gz\":\"mp811-MV411_IRF2BP2_DMSO_6h-H3K27ac-r1.fastq.gz\",\n",
    "    \"20200103_2_MP7693_S7_R1_001.fastq.gz\":\"mp812-MV411_IRF2BP2_DMSO_6h-H3K27ac-r2_R1.fastq.gz\",\n",
    "    \"20200103_2_MP7693_S7_R2_001.fastq.gz\":\"mp812-MV411_IRF2BP2_DMSO_6h-H3K27ac-r2.fastq.gz\",\n",
    "    \"20200103_3_MP7693_S8_R1_001.fastq.gz\":\"mp813-MV411_IRF2BP2_DMSO_6h-H3K27me3-r1_R1.fastq.gz\",\n",
    "    \"20200103_3_MP7693_S8_R2_001.fastq.gz\":\"mp813-MV411_IRF2BP2_DMSO_6h-H3K27me3-r1.fastq.gz\",\n",
    "    \"20200103_4_MP7693_S9_R1_001.fastq.gz\":\"mp814-MV411_IRF2BP2_DMSO_6h-H3K27me3-r2_R1.fastq.gz\",\n",
    "    \"20200103_4_MP7693_S9_R2_001.fastq.gz\":\"mp814-MV411_IRF2BP2_DMSO_6h-H3K27me3-r2.fastq.gz\",\n",
    "    \"20200103_5_MP7693_S10_R1_001.fastq.gz\":\"mp815-MV411_IRF2BP2_DMSO_6h-H3K4me1-r1_R1.fastq.gz\",\n",
    "    \"20200103_5_MP7693_S10_R2_001.fastq.gz\":\"mp815-MV411_IRF2BP2_DMSO_6h-H3K4me1-r1.fastq.gz\",\n",
    "    \"20200103_6_MP7693_S11_R1_001.fastq.gz\":\"mp816-MV411_IRF2BP2_DMSO_6h-H3K4me1-r2_R1.fastq.gz\",\n",
    "    \"20200103_6_MP7693_S11_R2_001.fastq.gz\":\"mp816-MV411_IRF2BP2_DMSO_6h-H3K4me1-r2.fastq.gz\",\n",
    "    \"20200103_7_MP7693_S12_R1_001.fastq.gz\":\"mp817-MV411_IRF2BP2_DMSO_6h-H3K4me3-r1_R1.fastq.gz\",\n",
    "    \"20200103_7_MP7693_S12_R2_001.fastq.gz\":\"mp817-MV411_IRF2BP2_DMSO_6h-H3K4me3-r1.fastq.gz\",\n",
    "    \"20200103_8_MP7693_S13_R1_001.fastq.gz\":\"mp818-MV411_IRF2BP2_DMSO_6h-H3K4me3-r2_R1.fastq.gz\",\n",
    "    \"20200103_8_MP7693_S13_R2_001.fastq.gz\":\"mp818-MV411_IRF2BP2_DMSO_6h-H3K4me3-r2.fastq.gz\",\n",
    "    \"20200103_9_MP7693_S14_R1_001.fastq.gz\":\"mp819-MV411_IRF2BP2_DMSO_6h-H3K79me2-r1_R1.fastq.gz\",\n",
    "    \"20200103_9_MP7693_S14_R2_001.fastq.gz\":\"mp819-MV411_IRF2BP2_DMSO_6h-H3K79me2-r1.fastq.gz\",\n",
    "    \"20200103_10_MP7693_S15_R1_001.fastq.gz\":\"mp820-MV411_IRF2BP2_DMSO_6h-H3K79me2-r2_R1.fastq.gz\",\n",
    "    \"20200103_10_MP7693_S15_R2_001.fastq.gz\":\"mp820-MV411_IRF2BP2_DMSO_6h-H3K79me2-r2.fastq.gz\",\n",
    "    \"20200103_11_MP7693_S16_R1_001.fastq.gz\":\"mp821-MV411_IRF2BP2_VHL_6h-H3K27ac-r1_R1.fastq.gz\",\n",
    "    \"20200103_11_MP7693_S16_R2_001.fastq.gz\":\"mp821-MV411_IRF2BP2_VHL_6h-H3K27ac-r1.fastq.gz\",\n",
    "    \"20200103_12_MP7693_S17_R1_001.fastq.gz\":\"mp822-MV411_IRF2BP2_VHL_6h-H3K27ac-r2_R1.fastq.gz\",\n",
    "    \"20200103_12_MP7693_S17_R2_001.fastq.gz\":\"mp822-MV411_IRF2BP2_VHL_6h-H3K27ac-r2.fastq.gz\",\n",
    "    \"20200103_13_MP7693_S18_R1_001.fastq.gz\":\"mp823-MV411_IRF2BP2_VHL_6h-H3K27me3-r1_R1.fastq.gz\",\n",
    "    \"20200103_13_MP7693_S18_R2_001.fastq.gz\":\"mp823-MV411_IRF2BP2_VHL_6h-H3K27me3-r1.fastq.gz\",\n",
    "    \"20200103_14_MP7693_S19_R1_001.fastq.gz\":\"mp824-MV411_IRF2BP2_VHL_6h-H3K27me3-r2_R1.fastq.gz\",\n",
    "    \"20200103_14_MP7693_S19_R2_001.fastq.gz\":\"mp824-MV411_IRF2BP2_VHL_6h-H3K27me3-r2.fastq.gz\",\n",
    "    \"20200103_15_MP7693_S20_R1_001.fastq.gz\":\"mp825-MV411_IRF2BP2_VHL_6h-H3K4me1-r1_R1.fastq.gz\",\n",
    "    \"20200103_15_MP7693_S20_R2_001.fastq.gz\":\"mp825-MV411_IRF2BP2_VHL_6h-H3K4me1-r1.fastq.gz\",\n",
    "    \"20200103_16_MP7693_S21_R1_001.fastq.gz\":\"mp826-MV411_IRF2BP2_VHL_6h-H3K4me1-r2_R1.fastq.gz\",\n",
    "    \"20200103_16_MP7693_S21_R2_001.fastq.gz\":\"mp826-MV411_IRF2BP2_VHL_6h-H3K4me1-r2.fastq.gz\",\n",
    "    \"20200103_17_MP7693_S22_R1_001.fastq.gz\":\"mp827-MV411_IRF2BP2_VHL_6h-H3K4me3-r1_R1.fastq.gz\",\n",
    "    \"20200103_17_MP7693_S22_R2_001.fastq.gz\":\"mp827-MV411_IRF2BP2_VHL_6h-H3K4me3-r1.fastq.gz\",\n",
    "    \"20200103_18_MP7693_S23_R1_001.fastq.gz\":\"mp828-MV411_IRF2BP2_VHL_6h-H3K4me3-r2_R1.fastq.gz\",\n",
    "    \"20200103_18_MP7693_S23_R2_001.fastq.gz\":\"mp828-MV411_IRF2BP2_VHL_6h-H3K4me3-r2.fastq.gz\",\n",
    "    \"20200103_19_MP7693_S24_R1_001.fastq.gz\":\"mp829-MV411_IRF2BP2_VHL_6h-H3K79me2-r1_R1.fastq.gz\",\n",
    "    \"20200103_19_MP7693_S24_R2_001.fastq.gz\":\"mp829-MV411_IRF2BP2_VHL_6h-H3K79me2-r1.fastq.gz\",\n",
    "    \"20200103_20_MP7693_S25_R1_001.fastq.gz\":\"mp830-MV411_IRF2BP2_VHL_6h-H3K79me2-r2_R1.fastq.gz\",\n",
    "    \"20200103_20_MP7693_S25_R2_001.fastq.gz\":\"mp830-MV411_IRF2BP2_VHL_6h-H3K79me2-r2.fastq.gz\"\n",
    "}"
   ]
  },
  {
   "cell_type": "code",
   "execution_count": null,
   "metadata": {},
   "outputs": [],
   "source": [
    "! gsutil -m cp gs://transfer-amlproject/IRF2BP2_hist/* ../../data/IRF2BP2_degraded_histones/fastqs/"
   ]
  },
  {
   "cell_type": "code",
   "execution_count": null,
   "metadata": {},
   "outputs": [],
   "source": [
    "for k,v in rename.items():\n",
    "    ! mv $bamfolder$k $bamfolder$v"
   ]
  },
  {
   "cell_type": "code",
   "execution_count": null,
   "metadata": {},
   "outputs": [],
   "source": [
    "inputfastq=\"gs://amlproject/Chip/fastqs/mp99-MV411-INPUT-r1.fastq.gz\"\n",
    "! gsutil cp $inputfastq $bamfolder"
   ]
  },
  {
   "cell_type": "code",
   "execution_count": null,
   "metadata": {},
   "outputs": [],
   "source": [
    "a = ! ls $bamfolder"
   ]
  },
  {
   "cell_type": "code",
   "execution_count": null,
   "metadata": {},
   "outputs": [],
   "source": [
    "from gsheets import Sheets\n",
    "sheets = Sheets.from_files('~/.client_secret.json', '~/.storage.json')\n",
    "url=\"https://docs.google.com/spreadsheets/d/1yFLjYB1McU530JnLgL0QIMAKIkVl3kl0_LCHje2gk8U\"\n",
    "gsheet = sheets.get(url).sheets[2].to_frame()"
   ]
  },
  {
   "cell_type": "code",
   "execution_count": null,
   "metadata": {},
   "outputs": [],
   "source": [
    "df = {\n",
    "\"fastq1\": [],\n",
    "\"fastq2\": [],\n",
    "\"antibody\": [],\n",
    "\"group\": [],\n",
    "\"replicate\": [],\n",
    "\"control\": []\n",
    "}\n",
    "for val in helper.grouped(a[:-1],2):\n",
    "    row = gsheet[gsheet.id==val[0].split('/')[-1].split('_')[0]]\n",
    "    df['group'].append((row.id.values[0] + '_'+ row.name_replicate.values[0] +\"_\"+row.protein.values[0]))\n",
    "    df['replicate'].append(1)\n",
    "    df['fastq1'].append(val[0])\n",
    "    #df['fastq2'].append(val[1])\n",
    "    df['antibody'].append(row.protein.values[0])\n",
    "    df['control'].append(\"INPUT\")\n",
    "df['group'].append('INPUT')\n",
    "df['replicate'].append(1)\n",
    "df['fastq1'].append(a[-1])\n",
    "#df['fastq2'].append(val[1])\n",
    "df['antibody'].append(\"INPUT\")\n",
    "df['control'].append(\"INPUT\")\n",
    "df = pd.DataFrame(df)"
   ]
  },
  {
   "cell_type": "code",
   "execution_count": null,
   "metadata": {},
   "outputs": [],
   "source": [
    "df[df.columns[[3,4,0,1,2,5]]].to_csv('../nextflow/IRF2BP2_degraded_histones_design.csv')"
   ]
  },
  {
   "cell_type": "code",
   "execution_count": null,
   "metadata": {},
   "outputs": [],
   "source": [
    "#process chips\n",
    " ! sudo ./nextflow run nf-core/chipseq --single_end --seq_center 'DFCI' --email 'jkobject@gmail.com' --narrow_peak --input ../nextflow/IRF2BP2_degraded_histones_design.csv --genome GRCh38 --skip_preseq --max_cpus 24 -profile docker -w work"
   ]
  },
  {
   "cell_type": "code",
   "execution_count": null,
   "metadata": {},
   "outputs": [],
   "source": [
    "! mv results/* ../../data/IRF2BP2_degraded_histones/"
   ]
  },
  {
   "cell_type": "code",
   "execution_count": null,
   "metadata": {},
   "outputs": [],
   "source": [
    "bams = ! ls ../../data/IRF2BP2_degraded_hist/bwa/mergedLibrary/*.bam\n",
    "bams = [i.split('/')[-1].split('.')[0] for i in bams]\n",
    "bams"
   ]
  },
  {
   "cell_type": "code",
   "execution_count": null,
   "metadata": {},
   "outputs": [],
   "source": [
    "scales = [[191079,278272],\n",
    "[274625,494562],\n",
    "[1094016,2067804],\n",
    "[1328914,969565],\n",
    "[237779,132422],\n",
    "[162971,174092],\n",
    "[115788,187078],\n",
    "[134269,495924],\n",
    "[171890,225315],\n",
    "[188370,199911]]"
   ]
  },
  {
   "cell_type": "code",
   "execution_count": null,
   "metadata": {},
   "outputs": [],
   "source": [
    "scales = [[1.0,0.6866626897],\n",
    "[1.0,0.5552893267],\n",
    "[1.0,0.5290714207],\n",
    "[0.7295919826,1.0],\n",
    "[0.5569120906,1.0],\n",
    "[1.0,0.9361199825],\n",
    "[1.0,0.6189290029],\n",
    "[1.0,0.2707451142],\n",
    "[1.0,0.762887513],\n",
    "[1.0,0.9422693098]]"
   ]
  },
  {
   "cell_type": "markdown",
   "metadata": {},
   "source": [
    "### on scalled data"
   ]
  },
  {
   "cell_type": "code",
   "execution_count": null,
   "metadata": {},
   "outputs": [],
   "source": [
    "# diffPeak on scaled data\n",
    "size=[206, 213, 47, 272, 229, 235, 190, 196, 287, 288]\n",
    "for i in range(int(len(bams)/2)):\n",
    "    name1 = bams[1+i]\n",
    "    name2 = bams[11+i]\n",
    "    print(name1,name2)\n",
    "    chip.diffPeak(name1, name2, directory= \"../../data/IRF2BP2_degraded_hist/diffData/\", res_directory='../../data/IRF2BP2_degraded_hist/diffPeaks/', scaling1=scales[i][1], scaling2=scales[i][0], size=size[i])"
   ]
  },
  {
   "cell_type": "code",
   "execution_count": null,
   "metadata": {},
   "outputs": [],
   "source": [
    "# diffPeak on scaled data\n",
    "for i in range(int(len(bams)/2)):\n",
    "    name1 = bams[1+i]\n",
    "    name2 = bams[11+i]\n",
    "    print(name1,name2)\n",
    "    chip.fullDiffPeak(name1,name2, bams[0], scaling = scales[i], directory='../../data/IRF2BP2_degraded_hist/diffData/',\n",
    "res_directory=\"../../data/IRF2BP2_degraded_hist/diffPeaks/\", isTF=False, compute_size=True, pairedend=False)"
   ]
  },
  {
   "cell_type": "code",
   "execution_count": null,
   "metadata": {},
   "outputs": [],
   "source": [
    "scales = [1.0,\n",
    "1.0,\n",
    "1.0,\n",
    "0.7295919826,\n",
    "0.5569120906,\n",
    "1.0,\n",
    "1.0,\n",
    "1.0,\n",
    "1.0,\n",
    "1.0,\n",
    "0.6866626897,\n",
    "0.5552893267,\n",
    "0.5290714207,\n",
    "1.0,\n",
    "1.0,\n",
    "0.9361199825,\n",
    "0.6189290029,\n",
    "0.2707451142,\n",
    "0.762887513,\n",
    "0.9422693098,]"
   ]
  },
  {
   "cell_type": "code",
   "execution_count": null,
   "metadata": {},
   "outputs": [],
   "source": [
    "chip.bigWigFrom(bams[1:],genome='GRCh38',scaling=scales)"
   ]
  },
  {
   "cell_type": "code",
   "execution_count": null,
   "metadata": {},
   "outputs": [],
   "source": [
    "! mv ../../recalib_bigwig_hist/* ../../data/IRF2BP2_degraded_histones/recalib_bigwig/\n",
    "bw = ! ls ../../data/IRF2BP2_degraded_histones/recalib_bigwig/*.bw\n",
    "bw"
   ]
  },
  {
   "cell_type": "code",
   "execution_count": null,
   "metadata": {},
   "outputs": [],
   "source": [
    "! rm ../../data/IRF2BP2_degraded_hist/diffData/mp*_R1*"
   ]
  },
  {
   "cell_type": "code",
   "execution_count": null,
   "metadata": {},
   "outputs": [],
   "source": [
    "cond1peak = ! ls ../../data/IRF2BP2_degraded_hist/diffPeaks/*cond1.bed\n",
    "cond2peak = ! ls ../../data/IRF2BP2_degraded_hist/diffPeaks/*cond2.bed\n",
    "commonpeak = ! ls ../../data/IRF2BP2_degraded_hist/diffPeaks/*common.bed\n",
    "cond1peak"
   ]
  },
  {
   "cell_type": "code",
   "execution_count": null,
   "metadata": {},
   "outputs": [],
   "source": [
    "names = [\"H3K27ac\", \"H3K27ac_v2\",\"H3K27me3\",\"H3K27me3_v2\",\"H3K4me1\",\"H3K4me1_v2\", \"H3K4me3\", \"H3K4me3_v2\", \"H3K79me2\", \"H3K79me2_v2\"]"
   ]
  },
  {
   "cell_type": "code",
   "execution_count": null,
   "metadata": {},
   "outputs": [],
   "source": [
    "for i in range(int(len(bw)/2)):\n",
    "    if i < 0 : \n",
    "        continue\n",
    "    print(i)\n",
    "    name1 = bw[i]\n",
    "    name2 = bw[10+i]\n",
    "    peak = [cond1peak[i], commonpeak[i], cond2peak[i]]\n",
    "    #for val in peak:\n",
    "        #chip.dropWeirdChromosomes(val)\n",
    "    name = names[i]\n",
    "    print(name1,name2)\n",
    "    chip.getPeaksAt(peak, [name1, name2], torecompute= True, bigwignames=['DMSO', 'VHL'], peaknames=['DMSO_peaks', 'common', 'VHL_peaks'], window=3000, folder=\"\", title=name, numthreads=7, refpoint='center', name='../../data/IRF2BP2_degraded_hist/diffPeaks/'+name+'_mat.pdf', withDeeptools=True)"
   ]
  },
  {
   "cell_type": "code",
   "execution_count": null,
   "metadata": {},
   "outputs": [],
   "source": [
    "names = [\"H3K27ac\", \"H3K27ac_v2\",\"H3K27me3\",\"H3K27me3_v2\",\"H3K4me1\",\"H3K4me1_v2\", \"H3K4me3\", \"H3K4me3_v2\", \"H3K79me2\", \"H3K79me2_v2\"]\n",
    "names.extend([i+'_VHL' for i in names])\n",
    "names"
   ]
  },
  {
   "cell_type": "code",
   "execution_count": null,
   "metadata": {},
   "outputs": [],
   "source": [
    "peaks = ! ls ../../data/IRF2BP2_degraded_histones/bwa/mergedLibrary/macs/broadPeak/*.broadPeak \n",
    "peaks"
   ]
  },
  {
   "cell_type": "code",
   "execution_count": null,
   "metadata": {},
   "outputs": [],
   "source": [
    "for i in range(len(bw)):\n",
    "    chip.getPeaksAt(peaks[i], bw[i], window=3000, folder=\"\", title=names[i], numthreads=7, torecompute=True, onlyProfile=True, refpoint='center', name='../../data/IRF2BP2_degraded_hist/diffPeaks/'+names[i]+'_mat_profile.pdf', withDeeptools=True)\n",
    "    chip.getPeaksAt(peaks[i], bw[i], window=3000, folder=\"\", title=names[i], numthreads=7, torecompute=True, refpoint='center', onlyProfile=True,name='../../data/IRF2BP2_degraded_hist/diffPeaks/'+names[i]+'_mat_profile_clust3.pdf', withDeeptools=True, cluster=3)"
   ]
  },
  {
   "cell_type": "markdown",
   "metadata": {},
   "source": [
    "### on unscalled data"
   ]
  },
  {
   "cell_type": "code",
   "execution_count": null,
   "metadata": {},
   "outputs": [],
   "source": [
    "bams = !ls ../../data/IRF2BP2_degraded_hist/bwa/mergedLibrary/mp*.bam\n",
    "bams"
   ]
  },
  {
   "cell_type": "code",
   "execution_count": null,
   "metadata": {},
   "outputs": [],
   "source": [
    "bw = ! ls ../../data/IRF2BP2_degraded_histones/bwa/mergedLibrary/bigwig/*.bigWig\n",
    "bw"
   ]
  },
  {
   "cell_type": "code",
   "execution_count": null,
   "metadata": {},
   "outputs": [],
   "source": [
    "# on unscalled data \n",
    "for i in range(int((len(bams)-1)/2)):\n",
    "    name1 = bams[1+i]\n",
    "    name2 = bams[11+i]\n",
    "    chip.fullDiffPeak(name1,name2, control1='../../data/IRF2BP2_degraded_hist/INPUT_R1.mLb.clN.sorted.bam', directory = \"../../data/IRF2BP2_degraded_hist/diffData_unscaled/\", res_directory = \"../../data/IRF2BP2_degraded_hist/diffPeaks_unscaled/\",isTF=False, compute_size=True, pairedend=False)"
   ]
  },
  {
   "cell_type": "code",
   "execution_count": null,
   "metadata": {},
   "outputs": [],
   "source": [
    "cond1peak = ! ls ../../data/IRF2BP2_degraded_hist/diffPeaks_unscaled/*cond1.bed\n",
    "cond2peak = ! ls ../../data/IRF2BP2_degraded_hist/diffPeaks_unscaled/*cond2.bed\n",
    "commonpeak = ! ls ../../data/IRF2BP2_degraded_hist/diffPeaks_unscaled/*common.bed\n",
    "cond2peak"
   ]
  },
  {
   "cell_type": "code",
   "execution_count": null,
   "metadata": {},
   "outputs": [],
   "source": [
    "names = [\"H3K27ac\", \"H3K27ac_v2\",\"H3K27me3\",\"H3K27me3_v2\",\"H3K4me1\",\"H3K4me1_v2\", \"H3K4me3\", \"H3K4me3_v2\", \"H3K79me2\", \"H3K79me2_v2\"]"
   ]
  },
  {
   "cell_type": "code",
   "execution_count": null,
   "metadata": {},
   "outputs": [],
   "source": [
    "for i in range(int(len(bw)/2)):\n",
    "    if i < 0:\n",
    "        continue\n",
    "    name1 = bw[1+i]\n",
    "    name2 = bw[11+i]\n",
    "    peak = [cond1peak[i], commonpeak[i], cond2peak[i]]\n",
    "    #for val in peak:\n",
    "        #chip.dropWeirdChromosomes(val)\n",
    "    name = names[i]\n",
    "    print(name1,name2)\n",
    "    chip.getPeaksAt(peak, [name1, name2], bigwignames=['DMSO', 'VHL'], peaknames=['DMSO_peaks', 'common', 'VHL_peaks'], window=3000, folder=\"\", title=name, numthreads=10, refpoint='center', name='../../data/IRF2BP2_degraded_hist/diffPeaks_unscaled/'+name+'_mat.pdf', withDeeptools=True, torecompute=True)"
   ]
  },
  {
   "cell_type": "code",
   "execution_count": null,
   "metadata": {},
   "outputs": [],
   "source": [
    "! gsutil -m cp -r \"../../data/IRF2BP2_degraded_hist/\" gs://amlproject/Chip/"
   ]
  },
  {
   "cell_type": "code",
   "execution_count": null,
   "metadata": {},
   "outputs": [],
   "source": [
    "## on local\n",
    "! scp runningchip2.us-east1-b.aml-chipseq-rnaseq-259419:\"~/data/IRF2BP2_degraded_rep3/diffPeaks_unscaled/*.pdf\" unscaled/v3/\n",
    "! scp runningchip2.us-east1-b.aml-chipseq-rnaseq-259419:\"~/data/IRF2BP2_degraded_rep3/diffPeaks/*.pdf\" scaled/v3/\n",
    "! scp runningchip2.us-east1-b.aml-chipseq-rnaseq-259419:\"~/data/IRF2BP2_degraded_rep1/diffPeaks_unscaled/*.pdf\" unscaled/v3/\n",
    "! scp runningchip2.us-east1-b.aml-chipseq-rnaseq-259419:\"~/data/IRF2BP2_degraded_rep1/diffPeaks/*.pdf\" scaled/v1/\n",
    "! scp runningchip2.us-east1-b.aml-chipseq-rnaseq-259419:\"~/data/IRF2BP2_degraded_hist/diffPeaks_unscaled/*.pdf\" unscaled/v1/\n",
    "! scp runningchip2.us-east1-b.aml-chipseq-rnaseq-259419:\"~/data/IRF2BP2_degraded_hist/diffPeaks/*.pdf\" unscaled/v1/\n",
    "! scp runningchip2.us-east1-b.aml-chipseq-rnaseq-259419:\"~/data/IRF2BP2_degraded_rep2/diffPeaks_unscaled/*.pdf\" unscaled/v2/\n",
    "! scp runningchip2.us-east1-b.aml-chipseq-rnaseq-259419:\"~/data/IRF2BP2_degraded_rep2/diffPeaks/*.pdf\" scaled/v2/"
   ]
  },
  {
   "cell_type": "markdown",
   "metadata": {},
   "source": [
    "## v4"
   ]
  },
  {
   "cell_type": "code",
   "execution_count": null,
   "metadata": {},
   "outputs": [],
   "source": [
    "! gsutil -m mv gs://transfer-amlproject/*MP7868*  gs://transfer-amlproject/IRF2BP2_v4/"
   ]
  },
  {
   "cell_type": "markdown",
   "metadata": {},
   "source": [
    "### analysis"
   ]
  },
  {
   "cell_type": "code",
   "execution_count": null,
   "metadata": {},
   "outputs": [],
   "source": [
    "! mkdir ../../data/IRF2BP2_degraded_rep4 && mkdir ../../data/IRF2BP2_degraded_rep4/fastqs && gsutil -m cp gs://transfer-amlproject/IRF2BP2_v4/* ../../data/IRF2BP2_degraded_rep4/fastqs"
   ]
  },
  {
   "cell_type": "code",
   "execution_count": null,
   "metadata": {},
   "outputs": [],
   "source": [
    "a = ! ls ../../data/IRF2BP2_degraded_rep4/fastqs\n",
    "a"
   ]
  },
  {
   "cell_type": "code",
   "execution_count": null,
   "metadata": {},
   "outputs": [],
   "source": [
    "rename = {\n",
    "\"20200302_1_MP7868_S51_R1_001.fastq.gz\":\"mp846-MV411_IRF2BP_DMSO_6h-MED1-r4_R1.fastq.gz\", \n",
    "\"20200302_1_MP7868_S51_R2_001.fastq.gz\":\"mp846-MV411_IRF2BP_DMSO_6h-MED1-r4_R2.fastq.gz\", \n",
    "\"20200302_2_MP7868_S52_R1_001.fastq.gz\":\"mp847-MV411_IRF2BP_DMSO_6h-MED1-r5_R1.fastq.gz\", \n",
    "\"20200302_2_MP7868_S52_R2_001.fastq.gz\":\"mp847-MV411_IRF2BP_DMSO_6h-MED1-r5_R2.fastq.gz\", \n",
    "\"20200302_3_MP7868_S53_R1_001.fastq.gz\":\"mp848-MV411_IRF2BP_DMSO_6h-FLAG_IRF2BP2-r3_R1.fastq.gz\", \n",
    "\"20200302_3_MP7868_S53_R2_001.fastq.gz\":\"mp848-MV411_IRF2BP_DMSO_6h-FLAG_IRF2BP2-r3_R2.fastq.gz\",\n",
    "\"20200302_4_MP7868_S54_R1_001.fastq.gz\":\"mp849-MV411_IRF2BP_DMSO_6h-POLII_total-r3_R1.fastq.gz\",\n",
    "\"20200302_4_MP7868_S54_R2_001.fastq.gz\":\"mp849-MV411_IRF2BP_DMSO_6h-POLII_total-r3_R2.fastq.gz\",\n",
    "\"20200302_5_MP7868_S55_R1_001.fastq.gz\":\"mp850-MV411_IRF2BP_DMSO_6h-POLII_S2-r3_R1.fastq.gz\",\n",
    "\"20200302_5_MP7868_S55_R2_001.fastq.gz\":\"mp850-MV411_IRF2BP_DMSO_6h-POLII_S2-r3_R2.fastq.gz\",\n",
    "\"20200302_6_MP7868_S56_R1_001.fastq.gz\":\"mp851-MV411_IRF2BP_DMSO_6h-POLII_S5-r3_R1.fastq.gz\",\n",
    "\"20200302_6_MP7868_S56_R2_001.fastq.gz\":\"mp851-MV411_IRF2BP_DMSO_6h-POLII_S5-r3_R2.fastq.gz\",\n",
    "\"20200302_7_MP7868_S57_R1_001.fastq.gz\":\"mp852-MV411_IRF2BP_VHL_6h-MED1-r4_R1.fastq.gz\",\n",
    "\"20200302_7_MP7868_S57_R2_001.fastq.gz\":\"mp852-MV411_IRF2BP_VHL_6h-MED1-r4_R2.fastq.gz\",\n",
    "\"20200302_8_MP7868_S58_R1_001.fastq.gz\":\"mp853-MV411_IRF2BP_VHL_6h-MED1-r5_R1.fastq.gz\",\n",
    "\"20200302_8_MP7868_S58_R2_001.fastq.gz\":\"mp853-MV411_IRF2BP_VHL_6h-MED1-r5_R2.fastq.gz\",\n",
    "\"20200302_9_MP7868_S59_R1_001.fastq.gz\":\"mp854-MV411_IRF2BP_VHL_6h-FLAG_IRF2BP2-r3_R1.fastq.gz\",\n",
    "\"20200302_9_MP7868_S59_R2_001.fastq.gz\":\"mp854-MV411_IRF2BP_VHL_6h-FLAG_IRF2BP2-r3_R2.fastq.gz\", \n",
    "\"20200302_10_MP7868_S60_R1_001.fastq.gz\":\"mp855-MV411_IRF2BP_VHL_6h-POLII_total-r3_R1.fastq.gz\",\n",
    "\"20200302_10_MP7868_S60_R2_001.fastq.gz\":\"mp855-MV411_IRF2BP_VHL_6h-POLII_total-r3_R2.fastq.gz\",\n",
    "\"20200302_11_MP7868_S61_R1_001.fastq.gz\":\"mp856-MV411_IRF2BP_VHL_6h-POLII_S2-r3_R1.fastq.gz\",\n",
    "\"20200302_11_MP7868_S61_R2_001.fastq.gz\":\"mp856-MV411_IRF2BP_VHL_6h-POLII_S2-r3_R2.fastq.gz\",\n",
    "\"20200302_12_MP7868_S62_R1_001.fastq.gz\":\"mp857-MV411_IRF2BP_VHL_6h-POLII_S5-r3_R1.fastq.gz\",\n",
    "\"20200302_12_MP7868_S62_R2_001.fastq.gz\":\"mp857-MV411_IRF2BP_VHL_6h-POLII_S5-r3_R2.fastq.gz\"\n",
    "}"
   ]
  },
  {
   "cell_type": "code",
   "execution_count": null,
   "metadata": {},
   "outputs": [],
   "source": [
    "for k,v in rename.items():\n",
    "    ! mv ../../data/IRF2BP2_degraded_rep4/fastqs/$k ../../data/IRF2BP2_degraded_rep4/fastqs/$v"
   ]
  },
  {
   "cell_type": "code",
   "execution_count": null,
   "metadata": {},
   "outputs": [],
   "source": [
    "from gsheets import Sheets\n",
    "sheets = Sheets.from_files('~/.client_secret.json', '~/.storage.json')\n",
    "url=\"https://docs.google.com/spreadsheets/d/1yFLjYB1McU530JnLgL0QIMAKIkVl3kl0_LCHje2gk8U\"\n",
    "gsheet = sheets.get(url).sheets[2].to_frame()"
   ]
  },
  {
   "cell_type": "code",
   "execution_count": null,
   "metadata": {},
   "outputs": [],
   "source": [
    "gsheet"
   ]
  },
  {
   "cell_type": "code",
   "execution_count": null,
   "metadata": {},
   "outputs": [],
   "source": [
    "df = {\n",
    "\"fastq_1\": [],\n",
    "\"fastq_2\": [],\n",
    "\"antibody\": [],\n",
    "\"group\": [],\n",
    "\"replicate\": [],\n",
    "\"control\": []\n",
    "}\n",
    "for val in h.grouped(a,2):\n",
    "    row = gsheet[gsheet.id==val[0].split('/')[-1].split('-')[0]]\n",
    "    df['group'].append(row['name'].values[0])\n",
    "    df['replicate'].append(1)\n",
    "    df['fastq_1'].append(val[0])\n",
    "    df['fastq_2'].append(val[1])\n",
    "    df['antibody'].append(row['protein'].values[0])\n",
    "    df['control'].append(\"INPUT\")\n",
    "df['group'].append('INPUT')\n",
    "df['replicate'].append(1)\n",
    "df['fastq_1'].append('IRF2BP2_degraded_rep3/mp845-MV411_IRF2BP2_-INPUT-r1_R1.fastq.gz')\n",
    "df['fastq_2'].append('IRF2BP2_degraded_rep3/mp845-MV411_IRF2BP2_-INPUT-r1_R2.fastq.gz')\n",
    "df['antibody'].append(\"\")\n",
    "df['control'].append(\"\")\n",
    "df = pd.DataFrame(df)"
   ]
  },
  {
   "cell_type": "code",
   "execution_count": null,
   "metadata": {},
   "outputs": [],
   "source": [
    "df"
   ]
  },
  {
   "cell_type": "code",
   "execution_count": null,
   "metadata": {},
   "outputs": [],
   "source": [
    "df[df.columns[[3,4,0,1,2,5]]].to_csv('../nextflow/IRF2BP2_degraded_rep4_design.csv',index=False)"
   ]
  },
  {
   "cell_type": "code",
   "execution_count": null,
   "metadata": {},
   "outputs": [],
   "source": [
    "#process chips\n",
    "! sudo ../nextflow run nf-core/chipseq --paired_end --seq_center 'DFCI' --email \\\n",
    "'jkobject@gmail.com' --narrow_peak --input ../nextflow/IRF2BP2_degraded_rep4_design.csv --genome GRCh38 --skip_preseq \\\n",
    "--max_cpus 24 -profile docker -w work"
   ]
  },
  {
   "cell_type": "code",
   "execution_count": null,
   "metadata": {},
   "outputs": [],
   "source": [
    "!cp -r results/* ../../data/IRF2BP2_degraded_rep4/ && sudo rm -r work && sudo rm -r results"
   ]
  },
  {
   "cell_type": "code",
   "execution_count": null,
   "metadata": {},
   "outputs": [],
   "source": [
    "ls ../../TrimGalore-0.6.5/trim_galore"
   ]
  },
  {
   "cell_type": "code",
   "execution_count": null,
   "metadata": {},
   "outputs": [],
   "source": [
    "# get scaling values\n",
    "mappedreads, umappedreads_norm = chip.getSpikeInControlScales(refgenome=\"../../data/ref/reference_droso.fna\",\n",
    "fastQfolder='../../data/IRF2BP2_degraded_rep4/fastqs/',\n",
    "pairedEnd=True, cores=12,\n",
    "tofilter=True,\n",
    "totrim=False,\n",
    "tomap=True,\n",
    "results=\"../../data/IRF2BP2_degraded_rep4/\",\n",
    "pathtotrim_galore=\"../../TrimGalore-0.6.5/trim_galore\")\n",
    "mappedreads, umappedreads_norm"
   ]
  },
  {
   "cell_type": "markdown",
   "metadata": {},
   "source": [
    "computing scales from the excel sheet"
   ]
  },
  {
   "cell_type": "code",
   "execution_count": null,
   "metadata": {},
   "outputs": [],
   "source": [
    "bams = ! ls ../../data/IRF2BP2_degraded_rep4/bwa/mergedLibrary/*.bam\n",
    "bams"
   ]
  },
  {
   "cell_type": "code",
   "execution_count": null,
   "metadata": {},
   "outputs": [],
   "source": [
    "bams[6]"
   ]
  },
  {
   "cell_type": "markdown",
   "metadata": {},
   "source": [
    "### on scalled data"
   ]
  },
  {
   "cell_type": "code",
   "execution_count": null,
   "metadata": {},
   "outputs": [],
   "source": [
    "bams = [bam1.split('/')[-1].split('.')[0] for bam1 in bams]"
   ]
  },
  {
   "cell_type": "code",
   "execution_count": null,
   "metadata": {},
   "outputs": [],
   "source": [
    "# diffPeak on scaled data\n",
    "size=[ 208, 214, 207, 234, 296, 231]\n",
    "for i in range(int(len(bams)/2)-1):\n",
    "    name1 = bams[1+i]\n",
    "    name2 = bams[7+i]\n",
    "    print(name1,name2)\n",
    "    chip.diffPeak(name1, name2, directory= \"../../data/IRF2BP2_degraded_rep4/diffData/\", res_directory='../../data/IRF2BP2_degraded_rep4/diffPeaks/', scaling1=scales[i][1], scaling2=scales[i][0], size=size[i])"
   ]
  },
  {
   "cell_type": "code",
   "execution_count": null,
   "metadata": {},
   "outputs": [],
   "source": [
    "# diffPeak on scaled data\n",
    "for i in range(int(len(bams[1:])/2)):\n",
    "    name1 = bams[1+i]\n",
    "    name2 = bams[7+i]\n",
    "    chip.fullDiffPeak(name1,name2, control1='../../data/IRF2BP2_degraded_rep3/bwa/mergedLibrary/mp845-MV411_IRF2BP2-INPUT-r1.mLb.clN.sorted.bam', directory = \"../../data/IRF2BP2_degraded_rep4/diffData/\", res_directory = \"../../data/IRF2BP2_degraded_rep4/diffPeaks/\",pairedend=False)"
   ]
  },
  {
   "cell_type": "code",
   "execution_count": null,
   "metadata": {},
   "outputs": [],
   "source": [
    "scales = [1.0,\n",
    "1.0,\n",
    "1.0,\n",
    "1.0,\n",
    "1.0,\n",
    "0.626304048,\n",
    "0.2628507876,\n",
    "0.9021192519,\n",
    "0.1869653476,\n",
    "0.5500321887,\n",
    "0.6046056203,\n",
    "1.0]"
   ]
  },
  {
   "cell_type": "code",
   "execution_count": null,
   "metadata": {},
   "outputs": [],
   "source": [
    "bams"
   ]
  },
  {
   "cell_type": "code",
   "execution_count": null,
   "metadata": {},
   "outputs": [],
   "source": [
    "chip.bigWigFrom(bams[1:], \n",
    "                genome='GRCh38',scaling=scales,\n",
    "               numthreads=8)"
   ]
  },
  {
   "cell_type": "code",
   "execution_count": null,
   "metadata": {},
   "outputs": [],
   "source": [
    "!mv bigwig ../../data/IRF2BP2_degraded_rep4/recalib_bigwig/"
   ]
  },
  {
   "cell_type": "code",
   "execution_count": null,
   "metadata": {},
   "outputs": [],
   "source": [
    "os.popen('for i in $(ls ../../data/IRF2BP2_degraded_rep4/diffPeaks/*.bed); \\\n",
    "            do echo $(wc -l $i); \\\n",
    "            done').read().split('\\n')"
   ]
  },
  {
   "cell_type": "code",
   "execution_count": null,
   "metadata": {},
   "outputs": [],
   "source": [
    "bw = ! ls ../../data/IRF2BP2_degraded_rep4/recalib_bigwig/*.bw\n",
    "bw"
   ]
  },
  {
   "cell_type": "code",
   "execution_count": null,
   "metadata": {},
   "outputs": [],
   "source": [
    "cond1peak = ! ls ../../data/IRF2BP2_degraded_rep4/diffPeaks/*cond1.bed\n",
    "cond2peak = ! ls ../../data/IRF2BP2_degraded_rep4/diffPeaks/*cond2.bed\n",
    "commonpeak = ! ls ../../data/IRF2BP2_degraded_rep4/diffPeaks/*common.bed\n",
    "cond1peak"
   ]
  },
  {
   "cell_type": "code",
   "execution_count": null,
   "metadata": {},
   "outputs": [],
   "source": [
    "names = [\"MED1\",\"MED1_v2\",\"FLAG_IRF2BP2\",\"POLII_total\",\"POLII_S2\",\"POLII_S5\"]"
   ]
  },
  {
   "cell_type": "code",
   "execution_count": null,
   "metadata": {},
   "outputs": [],
   "source": [
    "for i in range(int(len(bw)/2)):\n",
    "    if i <0:\n",
    "        continue\n",
    "    name1 = bw[i]\n",
    "    name2 = bw[i+6]\n",
    "    peak = [cond1peak[i], commonpeak[i], cond2peak[i]]\n",
    "   # for val in peak:\n",
    "      #  chip.dropWeirdChromosomes(val)\n",
    "    name = names[i]\n",
    "    print(name1,name2)\n",
    "    chip.getPeaksAt(peak, [name1, name2], bigwignames=['DMSO', 'VHL'], peaknames=['DMSO_peaks', 'common', 'VHL_peaks'], window=3000, folder=\"\", title=name, numthreads=7, refpoint=\"center\", name='../../data/IRF2BP2_degraded_rep4/diffPeaks/'+name+'_mat.pdf', withDeeptools=True, torecompute=True)"
   ]
  },
  {
   "cell_type": "code",
   "execution_count": null,
   "metadata": {},
   "outputs": [],
   "source": [
    "peaks = ! ls ../../data/results4/bwa/mergedLibrary/macs/narrowPeak/*.narrowPeak\n",
    "peaks"
   ]
  },
  {
   "cell_type": "code",
   "execution_count": null,
   "metadata": {},
   "outputs": [],
   "source": [
    "names = [\"MED1\",\"MED1_v2\",\"FLAG_IRF2BP2\",\"POLII_total\",\"POLII_S2\",\"POLII_S5\"]\n",
    "names.extend([i+'_VHL' for i in names])\n",
    "names"
   ]
  },
  {
   "cell_type": "code",
   "execution_count": null,
   "metadata": {},
   "outputs": [],
   "source": [
    "for i in range(len(bw)):\n",
    "    chip.getPeaksAt(peaks[i], bw[i], window=3000, folder=\"\", title=names[i], numthreads=7, torecompute=True, onlyProfile=True, name='../../data/IRF2BP2_degraded_rep4/diffPeaks/'+names[i]+'_mat_profile.pdf', withDeeptools=True, refpoint=\"center\")\n",
    "    chip.getPeaksAt(peaks[i], bw[i], window=3000, folder=\"\", title=names[i], numthreads=7, torecompute=True, onlyProfile=True,name='../../data/IRF2BP2_degraded_rep4/diffPeaks/'+names[i]+'_mat_profile_clust3.pdf', withDeeptools=True, cluster=3, refpoint=\"center\")"
   ]
  },
  {
   "cell_type": "markdown",
   "metadata": {},
   "source": [
    "### on unscalled data"
   ]
  },
  {
   "cell_type": "code",
   "execution_count": null,
   "metadata": {},
   "outputs": [],
   "source": [
    "bams = !ls ../../data/results4/bwa/mergedLibrary/mp*.bam\n",
    "bams"
   ]
  },
  {
   "cell_type": "code",
   "execution_count": null,
   "metadata": {},
   "outputs": [],
   "source": [
    "! mkdir ../../data/IRF2BP2_degraded_rep4/diffPeaks_unscaled"
   ]
  },
  {
   "cell_type": "code",
   "execution_count": null,
   "metadata": {},
   "outputs": [],
   "source": [
    "#on unscalled data \n",
    "for i in range(int(len(bams)/2)):\n",
    "    if i < 5:\n",
    "        continue\n",
    "    name1 = bams[i]\n",
    "    name2 = bams[6+i]\n",
    "    print(name1,name2)\n",
    "    chip.fullDiffPeak(name1,name2, control1='../../data/results4/bwa/mergedLibrary/INPUT_R1.mLb.clN.sorted.bam', directory = \"../../data/IRF2BP2_degraded_rep4/diffData_unscaled/\", res_directory = \"../../data/IRF2BP2_degraded_rep4/diffPeaks_unscaled/\",pairedend=False)"
   ]
  },
  {
   "cell_type": "code",
   "execution_count": null,
   "metadata": {},
   "outputs": [],
   "source": [
    "bw = ! ls ../../data/results4/bwa/mergedLibrary/bigwig/*.bigWig\n",
    "bw"
   ]
  },
  {
   "cell_type": "code",
   "execution_count": null,
   "metadata": {},
   "outputs": [],
   "source": [
    "cond1peak = ! ls ../../data/IRF2BP2_degraded_rep4/diffPeaks_unscaled/*cond1.bed\n",
    "cond2peak = ! ls ../../data/IRF2BP2_degraded_rep4/diffPeaks_unscaled/*cond2.bed\n",
    "commonpeak = ! ls ../../data/IRF2BP2_degraded_rep4/diffPeaks_unscaled/*common.bed\n",
    "commonpeak"
   ]
  },
  {
   "cell_type": "code",
   "execution_count": null,
   "metadata": {},
   "outputs": [],
   "source": [
    "names = [\"MED1\",\"MED1_v2\",\"FLAG_IRF2BP2\",\"POLII_total\",\"POLII_S2\",\"POLII_S5\"]"
   ]
  },
  {
   "cell_type": "code",
   "execution_count": null,
   "metadata": {},
   "outputs": [],
   "source": [
    "for i in range(int((len(bw)-1)/2)):\n",
    "    name1 = bw[1+i]\n",
    "    name2 = bw[7+i]\n",
    "    peak = [cond1peak[i], commonpeak[i], cond2peak[i]]\n",
    "    #for val in peak:\n",
    "     #   chip.dropWeirdChromosomes(val)\n",
    "    name = names[i]\n",
    "    print(name1,name2)\n",
    "    chip.getPeaksAt(peak, [name1, name2], bigwignames=['DMSO', 'VHL'], peaknames=['DMSO_peaks', 'common', 'VHL_peaks'], window=3000, folder=\"\", title=name, numthreads=7, torecompute=True, refpoint='center', name='../../data/IRF2BP2_degraded_rep4/diffPeaks_unscaled/'+name+'_mat.pdf', withDeeptools=True)"
   ]
  },
  {
   "cell_type": "code",
   "execution_count": null,
   "metadata": {},
   "outputs": [],
   "source": [
    "! gsutil -m cp -r \"../../data/IRF2BP2_degraded_rep4\" gs://amlproject/Chip/"
   ]
  },
  {
   "cell_type": "markdown",
   "metadata": {},
   "source": [
    "## Copying data"
   ]
  },
  {
   "cell_type": "code",
   "execution_count": null,
   "metadata": {},
   "outputs": [],
   "source": [
    "mkdir ../results/$project/diffPeaks_unscaled/"
   ]
  },
  {
   "cell_type": "code",
   "execution_count": null,
   "metadata": {},
   "outputs": [],
   "source": [
    "! cp ../../data/*/diffPeaks_unscaled/*.bed ../results/$project/diffPeaks_unscaled/"
   ]
  },
  {
   "cell_type": "code",
   "execution_count": null,
   "metadata": {},
   "outputs": [],
   "source": [
    "mkdir ../results/$project/diffPeaks_scaled/"
   ]
  },
  {
   "cell_type": "code",
   "execution_count": null,
   "metadata": {},
   "outputs": [],
   "source": [
    "! cp ../../data/*/diffPeaks/*.bed ../results/$project/diffPeaks_scaled/"
   ]
  },
  {
   "cell_type": "markdown",
   "metadata": {},
   "source": [
    "## v5"
   ]
  },
  {
   "cell_type": "code",
   "execution_count": null,
   "metadata": {},
   "outputs": [],
   "source": [
    "project=\"additional_degraded_v1\""
   ]
  },
  {
   "cell_type": "code",
   "execution_count": null,
   "metadata": {},
   "outputs": [],
   "source": [
    "! gsutil ls gs://transfer-amlproject/200723_MP8095_fastq/"
   ]
  },
  {
   "cell_type": "code",
   "execution_count": null,
   "metadata": {},
   "outputs": [],
   "source": [
    "mkdir ../data/$project/qc/"
   ]
  },
  {
   "cell_type": "code",
   "execution_count": null,
   "metadata": {},
   "outputs": [],
   "source": [
    "!gsutil -m cp gs://transfer-amlproject/200723_MP8095_fastq/multiqc_report.html ../data/$project/qc/\n",
    "!gsutil -m cp -r gs://transfer-amlproject/200723_MP8095_fastq/Reports/ ../data/$project/qc/\n",
    "!gsutil -m cp -r gs://transfer-amlproject/200723_MP8095_fastq/multiqc_data/ ../data/$project/qc/"
   ]
  },
  {
   "cell_type": "code",
   "execution_count": null,
   "metadata": {},
   "outputs": [],
   "source": [
    "! gsutil -m cp gs://transfer-amlproject/200723_MP8095_fastq/*  gs://transfer-amlproject/$project/"
   ]
  },
  {
   "cell_type": "markdown",
   "metadata": {},
   "source": [
    "### analysis"
   ]
  },
  {
   "cell_type": "code",
   "execution_count": null,
   "metadata": {},
   "outputs": [],
   "source": [
    "! mkdir ../../data/$project && mkdir ../../data/$project/fastqs && gsutil -m cp gs://transfer-amlproject/$project/* ../../data/$project/fastqs"
   ]
  },
  {
   "cell_type": "code",
   "execution_count": null,
   "metadata": {},
   "outputs": [],
   "source": [
    "! rm ../../data/$project/fastqs/multiqc_report.html"
   ]
  },
  {
   "cell_type": "code",
   "execution_count": null,
   "metadata": {},
   "outputs": [],
   "source": [
    "a = ! ls ../../data/$project/fastqs\n",
    "a"
   ]
  },
  {
   "cell_type": "code",
   "execution_count": null,
   "metadata": {},
   "outputs": [],
   "source": [
    "rename = {\n",
    "\"20200723_1_MP8095_S211\": \"mp858-MV411_RNP_AAVS1-H3K27AC-r1\",\n",
    "\"20200723_2_MP8095_S212\": \"mp859-MV411_RNP_AAVS1-H3K27AC-r2\",\n",
    "\"20200723_3_MP8095_S213\": \"mp860-MV411_RNP_RUNX1-H3K27AC-r1\",\n",
    "\"20200723_4_MP8095_S214\": \"mp861-MV411_RNP_RUNX1-H3K27AC-r2\",\n",
    "\"20200723_5_MP8095_S215\": \"mp862-MV411_RNP_RUNX2-H3K27AC-r1\",\n",
    "\"20200723_6_MP8095_S216\": \"mp863-MV411_RNP_RUNX2-H3K27AC-r2\",\n",
    "\"20200723_7_MP8095_S217\": \"mp864-MV411_RNP_RUNX1_RUNX2-H3K27AC-r1\",\n",
    "\"20200723_8_MP8095_S218\": \"mp865-MV411_RNP_RUNX1_RUNX2-H3K27AC-r2\",\n",
    "\"20200723_9_MP8095_S219\": \"mp866-MV411_RNP_MEF2D-H3K27AC-r1\",\n",
    "\"20200723_10_MP8095_S220\": \"mp867-MV411_RNP_MEF2D-H3K27AC-r2\",\n",
    "\"20200723_11_MP8095_S221\": \"mp868-MV411_RNP_IRF8-H3K27AC-r1\",\n",
    "\"20200723_12_MP8095_S222\": \"mp869-MV411_RNP_IRF8-H3K27AC-r2\",\n",
    "\"20200723_13_MP8095_S223\": \"mp870-MV411_RNP_MYB-H3K27AC-r1\",\n",
    "\"20200723_14_MP8095_S224\": \"mp871-MV411_RNP_MYB-H3K27AC-r2\",\n",
    "\"20200723_15_MP8095_S225\": \"mp872-MV411_RNP_SPI1-H3K27AC-r1\",\n",
    "\"20200723_16_MP8095_S226\": \"mp873-MV411_RNP_SPI1-H3K27AC-r2\",\n",
    "\"20200723_1S_MP8095_S209\": \"mp874-MV411_MEF2D_NT_SC_63-FLAG_MEF2D-r2\",\n",
    "\"20200723_2S_MP8095_S210\": \"mp875-MV411_MEF2C_NT-FLAG_MEF2C-r1\"}"
   ]
  },
  {
   "cell_type": "code",
   "execution_count": null,
   "metadata": {},
   "outputs": [],
   "source": [
    "for val in a:\n",
    "    rep = val\n",
    "    for k,v in rename.items():\n",
    "        rep = rep.replace(k,v)\n",
    "    !mv ../../data/$project/fastqs/$val ../../data/$project/fastqs/$rep"
   ]
  },
  {
   "cell_type": "code",
   "execution_count": null,
   "metadata": {},
   "outputs": [],
   "source": [
    "from gsheets import Sheets\n",
    "sheets = Sheets.from_files('~/.client_secret.json', '~/.storage.json')\n",
    "url=\"https://docs.google.com/spreadsheets/d/1yFLjYB1McU530JnLgL0QIMAKIkVl3kl0_LCHje2gk8U\"\n",
    "gsheet = sheets.get(url).sheets[2].to_frame()"
   ]
  },
  {
   "cell_type": "code",
   "execution_count": null,
   "metadata": {},
   "outputs": [],
   "source": [
    "gsheet"
   ]
  },
  {
   "cell_type": "code",
   "execution_count": null,
   "metadata": {},
   "outputs": [],
   "source": [
    "a = ! ls ../../data/$project/fastqs\n",
    "a"
   ]
  },
  {
   "cell_type": "code",
   "execution_count": null,
   "metadata": {},
   "outputs": [],
   "source": [
    "for val in a[-4:]:\n",
    "    !gsutil cp ../../data/$project/fastqs/$val gs://amlproject/Chip/fastqs/\n",
    "    !rm ../../data/$project/fastqs/$val"
   ]
  },
  {
   "cell_type": "code",
   "execution_count": null,
   "metadata": {},
   "outputs": [],
   "source": [
    "gcp.patternRN({'mp845-MV411_IRF2BP2_-INPUT-r1':'mp845-MV411-INPUT-r2'},'gs://amlproject/Chip/',wildcards=['**','.*'], test=False)"
   ]
  },
  {
   "cell_type": "code",
   "execution_count": null,
   "metadata": {},
   "outputs": [],
   "source": [
    "df = {\n",
    "\"fastq_1\": [],\n",
    "\"fastq_2\": [],\n",
    "\"antibody\": [],\n",
    "\"group\": [],\n",
    "\"replicate\": [],\n",
    "\"control\": []\n",
    "}\n",
    "for val in h.grouped(a[:-4],2):\n",
    "    row = gsheet[gsheet.id==val[0].split('/')[-1].split('-')[0]]\n",
    "    df['group'].append(\"MV4\"+row['name'].values[0].split('-r')[0].split('-MV4')[1])\n",
    "    df['replicate'].append(row['name'].values[0].split('-r')[1])\n",
    "    df['fastq_1'].append(project+\"/fastqs/\"+val[0])\n",
    "    df['fastq_2'].append(project+\"/fastqs/\"+val[1])\n",
    "    df['antibody'].append(row['protein'].values[0])\n",
    "    df['control'].append(\"INPUT\")\n",
    "df['group'].append('INPUT')\n",
    "df['replicate'].append(1)\n",
    "df['fastq_1'].append('ref/mp845-MV411-INPUT-r2_R1.fastq.gz')\n",
    "df['fastq_2'].append('ref/mp845-MV411-INPUT-r2_R2.fastq.gz')\n",
    "df['antibody'].append(\"\")\n",
    "df['control'].append(\"\")\n",
    "df = pd.DataFrame(df)"
   ]
  },
  {
   "cell_type": "code",
   "execution_count": null,
   "metadata": {},
   "outputs": [],
   "source": [
    "df"
   ]
  },
  {
   "cell_type": "code",
   "execution_count": null,
   "metadata": {},
   "outputs": [],
   "source": [
    "df[df.columns[[3,4,0,1,2,5]]].to_csv('../nextflow/additional_degraded_v1_design.csv',index=False)"
   ]
  },
  {
   "cell_type": "code",
   "execution_count": null,
   "metadata": {},
   "outputs": [],
   "source": [
    "! cd ../../data/ && sudo ../nextflow log ## to get access to the previous runs"
   ]
  },
  {
   "cell_type": "code",
   "execution_count": null,
   "metadata": {},
   "outputs": [],
   "source": [
    "#process chips\n",
    "! cd ../../data/ && sudo ../nextflow run nf-core/chipseq --paired_end --seq_center 'DFCI' --email 'jkobject@gmail.com' --input ../AMLproject/nextflow/additional_degraded_v1_design.csv --genome GRCh38 --skip_preseq --max_cpus 16 -profile docker -w work -resume exotic_bartik"
   ]
  },
  {
   "cell_type": "code",
   "execution_count": null,
   "metadata": {},
   "outputs": [],
   "source": [
    "!cp -r ../../data/results/* ../../data/$project/ && sudo rm -r ../data/results && sudo rm -r ..data/work"
   ]
  },
  {
   "cell_type": "code",
   "execution_count": null,
   "metadata": {},
   "outputs": [],
   "source": [
    "# get scaling values\n",
    "norm, mapped = h.getSpikeInControlScales(refgenome=\"../../data/ref/reference_droso.fna\",\n",
    "fastQfolder='../../data/'+project+'/fastqs/',\n",
    "pairedEnd=True, cores=12,\n",
    "tofilter=True,\n",
    "totrim=True,\n",
    "tomap=True,\n",
    "results=\"../../data/\"+project+\"/\",\n",
    "pathtotrim_galore=\"../../TrimGalore-0.6.5/trim_galore\")\n",
    "norm, mapped"
   ]
  },
  {
   "cell_type": "markdown",
   "metadata": {},
   "source": [
    "computing scales from the excel sheet"
   ]
  },
  {
   "cell_type": "code",
   "execution_count": null,
   "metadata": {},
   "outputs": [],
   "source": [
    "scales = [0.3011826465, # 'MV411_RNP_IRF8-H3K27AC_R1',\n",
    "0.4865371752, # 'MV411_RNP_IRF8-H3K27AC_R2',\n",
    "0.5670857556, # 'MV411_RNP_MEF2D-H3K27AC_R1',\n",
    "0.7349663619, # 'MV411_RNP_MEF2D-H3K27AC_R2',\n",
    "0.7548163023, # 'MV411_RNP_MYB-H3K27AC_R1',\n",
    "0.5976325206, # 'MV411_RNP_MYB-H3K27AC_R2',\n",
    "1.400750948, # 'MV411_RNP_RUNX1-H3K27AC_R1',\n",
    "0.849637265, # 'MV411_RNP_RUNX1-H3K27AC_R2',\n",
    "0.7539535476, # 'MV411_RNP_RUNX1_RUNX2-H3K27AC_R1',\n",
    "0.6905692051, # 'MV411_RNP_RUNX1_RUNX2-H3K27AC_R2',\n",
    "1.50505384, # 'MV411_RNP_RUNX2-H3K27AC_R1',\n",
    "0.8442345485, # 'MV411_RNP_RUNX2-H3K27AC_R2',\n",
    "0.5019100631, # 'MV411_RNP_SPI1-H3K27AC_R1',\n",
    "0.8688220473, # 'MV411_RNP_SPI1-H3K27AC_R2'\n",
    "         ]"
   ]
  },
  {
   "cell_type": "code",
   "execution_count": null,
   "metadata": {},
   "outputs": [],
   "source": [
    "bams = ! ls ../../data/$project/bwa/mergedLibrary/*.bam\n",
    "bams"
   ]
  },
  {
   "cell_type": "code",
   "execution_count": null,
   "metadata": {},
   "outputs": [],
   "source": [
    "bams[6]"
   ]
  },
  {
   "cell_type": "markdown",
   "metadata": {},
   "source": [
    "### on scalled data"
   ]
  },
  {
   "cell_type": "code",
   "execution_count": null,
   "metadata": {},
   "outputs": [],
   "source": [
    "! mkdir ../../data/$project/diffPeaks/ && ! mkdir ../../data/$project/diffData/"
   ]
  },
  {
   "cell_type": "code",
   "execution_count": null,
   "metadata": {},
   "outputs": [],
   "source": [
    "! mkdir ../../data/$project/droso_aligned"
   ]
  },
  {
   "cell_type": "code",
   "execution_count": null,
   "metadata": {},
   "outputs": [],
   "source": [
    "! mv ../../data/$project/mp* ../../data/$project/droso_aligned"
   ]
  },
  {
   "cell_type": "code",
   "execution_count": null,
   "metadata": {},
   "outputs": [],
   "source": [
    "wigs = ! ls ../../data/$project/bwa/mergedLibrary/bigwig/*.bigWig"
   ]
  },
  {
   "cell_type": "code",
   "execution_count": null,
   "metadata": {},
   "outputs": [],
   "source": [
    "ls ../../data/$project/bwa/mergedLibrary/bigwig/"
   ]
  },
  {
   "cell_type": "code",
   "execution_count": null,
   "metadata": {},
   "outputs": [],
   "source": [
    "! gsutil -m cp -r ../../data/$project/bwa/mergedLibrary/bigwig/ gs://amlproject/Chip/$project/bwa/mergedLibrary/\n",
    "! gsutil -m cp -r ../../data/$project/droso_aligned gs://amlproject/Chip/$project/\n",
    "! gsutil -m cp -r ../../data/$project/recalib_bigwig gs://amlproject/Chip/$project/"
   ]
  },
  {
   "cell_type": "code",
   "execution_count": null,
   "metadata": {},
   "outputs": [],
   "source": [
    "for val in wigs:\n",
    "    bedg = val[:-6]+'bdg'\n",
    "    ! bigWigToBedGraph $val $bedg"
   ]
  },
  {
   "cell_type": "code",
   "execution_count": null,
   "metadata": {},
   "outputs": [],
   "source": [
    "bdg=! ls ../../data/additional_degraded_v1/bwa/mergedLibrary/bigwig/*.bdg\n",
    "bdg"
   ]
  },
  {
   "cell_type": "code",
   "execution_count": null,
   "metadata": {},
   "outputs": [],
   "source": [
    "# diffPeak on scaled data \n",
    "size= 240\n",
    "for i in range(int(len(bdg)-3)):\n",
    "    name1 = bdg[1+i%2]\n",
    "    name2 = bdg[3+i]\n",
    "    print(name1,name2)\n",
    "    print(chip.diffPeak(name1, name2, control1=bdg[0], control2=bdg[0], res_directory=\"../../data/\"+project+\"/diffPeaks/\", scaling1=1, scaling2=scales[i], size=size))"
   ]
  },
  {
   "cell_type": "code",
   "execution_count": null,
   "metadata": {},
   "outputs": [],
   "source": [
    "bams"
   ]
  },
  {
   "cell_type": "code",
   "execution_count": null,
   "metadata": {},
   "outputs": [],
   "source": [
    "bams[10]"
   ]
  },
  {
   "cell_type": "code",
   "execution_count": null,
   "metadata": {},
   "outputs": [],
   "source": [
    "# diffPeak on scaled data (full reprocessing)\n",
    "size= 240\n",
    "for i in range(len(bams)-3):\n",
    "    if i < 8:\n",
    "        continue\n",
    "    bam1 = bams[1+i%2]\n",
    "    bam2 = bams[3+i]\n",
    "    print(bam1,bam2)\n",
    "    print(chip.fullDiffPeak(bam1,bam2, control1=bams[0], compute_size=False, size=size, scaling=[scales[i],1], directory = \"../../data/\"+project+\"/diffData/\", res_directory = \"../../data/\"+project+\"/diffPeaks/\",pairedend=True))"
   ]
  },
  {
   "cell_type": "code",
   "execution_count": null,
   "metadata": {},
   "outputs": [],
   "source": [
    "initscales = ! cat ../../data/$project/bwa/mergedLibrary/bigwig/scale/*.txt"
   ]
  },
  {
   "cell_type": "code",
   "execution_count": null,
   "metadata": {},
   "outputs": [],
   "source": [
    "scales = [val*float(initscales[3+i]) for i, val in enumerate(scales)]"
   ]
  },
  {
   "cell_type": "code",
   "execution_count": null,
   "metadata": {},
   "outputs": [],
   "source": [
    "scales"
   ]
  },
  {
   "cell_type": "code",
   "execution_count": null,
   "metadata": {},
   "outputs": [],
   "source": [
    "chip.bigWigFrom(bams[3:], \n",
    "                genome='GRCh38',scaling=scales,\n",
    "               numthreads=8)"
   ]
  },
  {
   "cell_type": "code",
   "execution_count": null,
   "metadata": {},
   "outputs": [],
   "source": [
    "ls ../../data/$project/recalib_bigwig/"
   ]
  },
  {
   "cell_type": "code",
   "execution_count": null,
   "metadata": {},
   "outputs": [],
   "source": [
    "!mv bigwig/* ../../data/$project/recalib_bigwig/"
   ]
  },
  {
   "cell_type": "code",
   "execution_count": null,
   "metadata": {},
   "outputs": [],
   "source": [
    "!cp ../../data/$project/bwa/mergedLibrary/bigwig/MV411_RNP_AAVS1-*.bigWig ../../data/$project/recalib_bigwig/"
   ]
  },
  {
   "cell_type": "code",
   "execution_count": null,
   "metadata": {},
   "outputs": [],
   "source": [
    "os.popen('for i in $(ls ../../data/'+project+'/diffPeaks/*.bed); \\\n",
    "            do echo $(wc -l $i); \\\n",
    "            done').read().split('\\n')"
   ]
  },
  {
   "cell_type": "code",
   "execution_count": null,
   "metadata": {},
   "outputs": [],
   "source": [
    "bw = ! ls ../../data/additional_degraded_v1/recalib_bigwig/*\n",
    "bw"
   ]
  },
  {
   "cell_type": "code",
   "execution_count": null,
   "metadata": {},
   "outputs": [],
   "source": [
    "!mkdir ../results/$project/\n",
    "!mkdir ../results/$project/plots\n",
    "!mkdir ../results/$project/plots/heatmaps/"
   ]
  },
  {
   "cell_type": "code",
   "execution_count": null,
   "metadata": {},
   "outputs": [],
   "source": [
    "# GENOME WIDE comparison"
   ]
  },
  {
   "cell_type": "code",
   "execution_count": null,
   "metadata": {},
   "outputs": [],
   "source": [
    "peaks = ! ls ../../data/$project/bwa/mergedLibrary/macs/broadPeak/*.broadPeak"
   ]
  },
  {
   "cell_type": "code",
   "execution_count": null,
   "metadata": {},
   "outputs": [],
   "source": [
    "names = [\"AAVS1\", \"AAVS1_v2\", \"IRF8\",\"IRF8_v2\",\"MEF2D\",\"MEF2D_v2\",\"MYB\",\"MYB_v2\",\"RUNX1\",\"RUNX1_v2\",\"RUNX1_RUNX2\",\"RUNX1_RUNX2_v2\",\"RUNX2\",\"RUNX2_v2\", \"SPI1\",\"SPI1_v2\"]"
   ]
  },
  {
   "cell_type": "code",
   "execution_count": null,
   "metadata": {},
   "outputs": [],
   "source": [
    "for i, val in enumerate(bw):\n",
    "    if i <2:\n",
    "        continue\n",
    "    name = names[i]\n",
    "    print(name)\n",
    "    chip.getPeaksAt(peaks[0], bigwigs = [val,bw[0]], bigwignames= [name,\"AAVS1\"],peaknames=['Macs2_Peaks'], window=3000, folder=\"\", title=name+\"_vs_AAVS1\", numthreads=8, refpoint=\"center\", name='../../data/'+project+'/'+name+'_mat.pdf', withDeeptools=True, torecompute=True, vmax=4, legendLoc=\"lower-left\")"
   ]
  },
  {
   "cell_type": "code",
   "execution_count": null,
   "metadata": {},
   "outputs": [],
   "source": [
    "! cp ../../data/additional_degraded_v1/*.pdf ../results/$project/plots/scaled/heatmaps/"
   ]
  },
  {
   "cell_type": "code",
   "execution_count": null,
   "metadata": {},
   "outputs": [],
   "source": [
    "cond1peak = ! ls ../../data/$project/diffPeaks/*cond1.bed\n",
    "cond2peak = ! ls ../../data/$project/diffPeaks/*cond2.bed\n",
    "commonpeak = ! ls ../../data/$project/diffPeaks/*common.bed\n",
    "cond1peak"
   ]
  },
  {
   "cell_type": "code",
   "execution_count": null,
   "metadata": {},
   "outputs": [],
   "source": [
    "names = [\"IRF8\", \"MEF2D\", \"MYB\",\"RUNX1\",\"RUNX1_RUNX2\",\"RUNX2\", \"SPI1\", \"IRF8_v2\", \"MEF2D_v2\", \"MYB_v2\", \"RUNX1_v2\", \"RUNX1_RUNX2_v2\", \"RUNX2_v2\", \"SPI1_v2\"]"
   ]
  },
  {
   "cell_type": "code",
   "execution_count": null,
   "metadata": {},
   "outputs": [],
   "source": [
    "bw"
   ]
  },
  {
   "cell_type": "code",
   "execution_count": null,
   "metadata": {},
   "outputs": [],
   "source": [
    "bw[(6*2)+3]"
   ]
  },
  {
   "cell_type": "code",
   "execution_count": null,
   "metadata": {},
   "outputs": [],
   "source": [
    "int(len(bw[2:])/2)"
   ]
  },
  {
   "cell_type": "code",
   "execution_count": null,
   "metadata": {},
   "outputs": [],
   "source": [
    "bw[round(7/6)]"
   ]
  },
  {
   "cell_type": "code",
   "execution_count": null,
   "metadata": {},
   "outputs": [],
   "source": [
    "for i in range(int(len(bw[2:]))):\n",
    "    if i <8:\n",
    "        continue\n",
    "    cl = len(bw[2:])\n",
    "    name1 = bw[round(i/(cl-1))]\n",
    "    name2 = bw[((i%int(cl/2))*2)+2+round(i/(cl-1))]\n",
    "    peak = [cond1peak[i], commonpeak[i], cond2peak[i]]\n",
    "   # for val in peak:\n",
    "      #  chip.dropWeirdChromosomes(val)\n",
    "    name = names[i]\n",
    "    print(name1,name2)\n",
    "    chip.getPeaksAt(peak, [name1, name2], bigwignames=['DMSO', 'VHL'], peaknames=['DMSO_peaks', 'common', 'VHL_peaks'], window=3000, folder=\"\", title=name, numthreads=7, refpoint=\"center\", name='../../data/'+project+'/diffPeaks/'+name+'_mat.pdf', withDeeptools=True, torecompute=False)"
   ]
  },
  {
   "cell_type": "code",
   "execution_count": null,
   "metadata": {},
   "outputs": [],
   "source": [
    "! mkdir ../results/additional_degraded_v1/plots/scaled/diffPeaks/\n",
    "! cp ../../data/additional_degraded_v1/diffPeaks/*.pdf ../results/additional_degraded_v1/plots/scaled/diffPeaks/"
   ]
  },
  {
   "cell_type": "markdown",
   "metadata": {},
   "source": [
    "### on unscalled data"
   ]
  },
  {
   "cell_type": "code",
   "execution_count": null,
   "metadata": {},
   "outputs": [],
   "source": [
    "bams = !ls ../../data/$project/bwa/mergedLibrary/mp*.bam\n",
    "bams"
   ]
  },
  {
   "cell_type": "code",
   "execution_count": null,
   "metadata": {},
   "outputs": [],
   "source": [
    "! mkdir ../../data/$project/diffPeaks_unscaled"
   ]
  },
  {
   "cell_type": "code",
   "execution_count": null,
   "metadata": {},
   "outputs": [],
   "source": [
    "#on unscalled data \n",
    "for i in range(int(len(bams)/2)):\n",
    "    if i < 5:\n",
    "        continue\n",
    "    name1 = bams[i]\n",
    "    name2 = bams[6+i]\n",
    "    print(name1,name2)\n",
    "    chip.fullDiffPeak(name1,name2, control1='../../data/'+project+'/bwa/mergedLibrary/INPUT_R1.mLb.clN.sorted.bam', directory = \"../../data/\"+project+\"/diffData_unscaled/\", res_directory = \"../../data/\"+project+\"/diffPeaks_unscaled/\",pairedend=False)"
   ]
  },
  {
   "cell_type": "code",
   "execution_count": null,
   "metadata": {},
   "outputs": [],
   "source": [
    "bw = ! ls ../../data/$project/bwa/mergedLibrary/bigwig/*.bigWig\n",
    "bw"
   ]
  },
  {
   "cell_type": "code",
   "execution_count": null,
   "metadata": {},
   "outputs": [],
   "source": [
    "cond1peak = ! ls ../../data/$project/diffPeaks_unscaled/*cond1.bed\n",
    "cond2peak = ! ls ../../data/$project/diffPeaks_unscaled/*cond2.bed\n",
    "commonpeak = ! ls ../../data/$project/diffPeaks_unscaled/*common.bed\n",
    "commonpeak"
   ]
  },
  {
   "cell_type": "code",
   "execution_count": null,
   "metadata": {},
   "outputs": [],
   "source": [
    "names = [\"MED1\",\"MED1_v2\",\"FLAG_IRF2BP2\",\"POLII_total\",\"POLII_S2\",\"POLII_S5\"]"
   ]
  },
  {
   "cell_type": "code",
   "execution_count": null,
   "metadata": {},
   "outputs": [],
   "source": [
    "for i in range(int((len(bw)-1)/2)):\n",
    "    name1 = bw[1+i]\n",
    "    name2 = bw[7+i]\n",
    "    peak = [cond1peak[i], commonpeak[i], cond2peak[i]]\n",
    "    #for val in peak:\n",
    "     #   chip.dropWeirdChromosomes(val)\n",
    "    name = names[i]\n",
    "    print(name1,name2)\n",
    "    chip.getPeaksAt(peak, [name1, name2], bigwignames=['DMSO', 'VHL'], peaknames=['DMSO_peaks', 'common', 'VHL_peaks'], window=3000, folder=\"\", title=name, numthreads=7, torecompute=True, refpoint='center', name='../../data/'+project+'/diffPeaks_unscaled/'+name+'_mat.pdf', withDeeptools=True)"
   ]
  },
  {
   "cell_type": "code",
   "execution_count": null,
   "metadata": {},
   "outputs": [],
   "source": [
    "! gsutil -m cp -r \"../../data/additional_degraded_v1\" gs://amlproject/Chip/"
   ]
  },
  {
   "cell_type": "code",
   "execution_count": null,
   "metadata": {},
   "outputs": [],
   "source": [
    "! cp ../../$project/*_mat.pdf ../results/$project/unscaled/\n",
    "! cp ../../$project/*_mat.pdf ../results/$project/scaled/\n",
    "\n",
    "! cp ../../$project/*_mat.pdf ../results/$project/unscaled/\n",
    "! cp ../../$project/*_mat.pdf ../results/$project/unscaled/\n",
    "\n",
    "! cp -r ../data/$project/bwa/mergedLibrary/deepTools/plot/* ../results/$project/plots"
   ]
  },
  {
   "cell_type": "markdown",
   "metadata": {},
   "source": [
    "## v6"
   ]
  },
  {
   "cell_type": "code",
   "execution_count": null,
   "metadata": {},
   "outputs": [],
   "source": [
    "project=\"chipseq_MEF2D_degraded\""
   ]
  },
  {
   "cell_type": "code",
   "execution_count": null,
   "metadata": {},
   "outputs": [],
   "source": [
    "! gsutil ls gs://transfer-amlproject/201001_MP8262_fastq/"
   ]
  },
  {
   "cell_type": "code",
   "execution_count": null,
   "metadata": {},
   "outputs": [],
   "source": [
    "mkdir ../data/$project/ && mkdir ../data/$project/qc/"
   ]
  },
  {
   "cell_type": "code",
   "execution_count": null,
   "metadata": {},
   "outputs": [],
   "source": [
    "!gsutil -m cp gs://transfer-amlproject/201001_MP8262_fastq/multiqc_report.html ../data/$project/qc/\n",
    "!gsutil -m cp -r gs://transfer-amlproject/201001_MP8262_fastq/Reports/ ../data/$project/qc/\n",
    "!gsutil -m cp -r gs://transfer-amlproject/201001_MP8262_fastq/multiqc_data/ ../data/$project/qc/"
   ]
  },
  {
   "cell_type": "code",
   "execution_count": null,
   "metadata": {},
   "outputs": [],
   "source": [
    "! gsutil -m cp gs://transfer-amlproject/201001_MP8262_fastq/*  gs://transfer-amlproject/$project/"
   ]
  },
  {
   "cell_type": "markdown",
   "metadata": {},
   "source": [
    "### analysis"
   ]
  },
  {
   "cell_type": "code",
   "execution_count": null,
   "metadata": {},
   "outputs": [],
   "source": [
    "! mkdir ../../data/$project && mkdir ../../data/$project/fastqs && gsutil -m cp gs://transfer-amlproject/$project/* ../../data/$project/fastqs"
   ]
  },
  {
   "cell_type": "code",
   "execution_count": null,
   "metadata": {},
   "outputs": [],
   "source": [
    "! rm ../../data/$project/fastqs/multiqc_report.html"
   ]
  },
  {
   "cell_type": "code",
   "execution_count": null,
   "metadata": {},
   "outputs": [],
   "source": [
    "a = ! ls ../../data/$project/fastqs\n",
    "a"
   ]
  },
  {
   "cell_type": "code",
   "execution_count": null,
   "metadata": {},
   "outputs": [],
   "source": [
    "rename = {\n",
    "\"20201001_FLAG_DMSO_MP8262_S93\": \"mp881-MV411_MEF2D_NT_SC_63_DMSO-FLAG_MEF2D-r3\",\n",
    "\"20201001_FLAG_VHL_MP8262_S99\": \"mp882-MV411_MEF2D_NT_SC_63_VHL-FLAG_MEF2D-r1\",\n",
    "\"20201001_IRF8_DMSO_MP8262_S88\": \"mp883-MV411_MEF2D_NT_SC_63_DMSO-IFR8-r1\",\n",
    "\"20201001_IRF8_VHL_MP8262_S94\": \"mp884-MV411_MEF2D_NT_SC_63_VHL-IFR8-r1\",\n",
    "\"20201001_MED1_DMSO_MP8262_S91\": \"mp885-MV411_MEF2D_NT_SC_63_DMSO-MED1-r1\",\n",
    "\"20201001_MED1_VHL_MP8262_S97\": \"mp886-MV411_MEF2D_NT_SC_63_VHL-MED1-r1\",\n",
    "\"20201001_MEF2C_DMSO_MP8262_S90\": \"mp887-MV411_MEF2D_NT_SC_63_DMSO-MEF2C-r1\",\n",
    "\"20201001_MEF2C_VHL_MP8262_S96\": \"mp888-MV411_MEF2D_NT_SC_63_VHL-MEF2C-r1\",\n",
    "\"20201001_MYC_DMSO_MP8262_S89\": \"mp889-MV411_MEF2D_NT_SC_63_DMSO-MYC-r1\",\n",
    "\"20201001_MYC_VHL_MP8262_S95\": \"mp890-MV411_MEF2D_NT_SC_63_VHL-MYC-r1\",\n",
    "\"20201001_POL_II_Total_DMSO_MP8262_S92\": \"mp891-MV411_MEF2D_NT_SC_63_DMSO-POLII-r1\",\n",
    "\"20201001_POL_II_Total_VHL_MP8262_S98\": \"mp892-MV411_MEF2D_NT_SC_63_VHL-POLII-r1\",}"
   ]
  },
  {
   "cell_type": "code",
   "execution_count": null,
   "metadata": {},
   "outputs": [],
   "source": [
    "for val in a:\n",
    "    rep = val\n",
    "    for k,v in rename.items():\n",
    "        rep = rep.replace(k,v)\n",
    "    !mv ../../data/$project/fastqs/$val ../../data/$project/fastqs/$rep"
   ]
  },
  {
   "cell_type": "code",
   "execution_count": null,
   "metadata": {},
   "outputs": [],
   "source": [
    "from gsheets import Sheets\n",
    "sheets = Sheets.from_files('~/.client_secret.json', '~/.storage.json')\n",
    "url=\"https://docs.google.com/spreadsheets/d/1yFLjYB1McU530JnLgL0QIMAKIkVl3kl0_LCHje2gk8U\"\n",
    "gsheet = sheets.get(url).sheets[2].to_frame()"
   ]
  },
  {
   "cell_type": "code",
   "execution_count": null,
   "metadata": {},
   "outputs": [],
   "source": [
    "gsheet"
   ]
  },
  {
   "cell_type": "code",
   "execution_count": null,
   "metadata": {},
   "outputs": [],
   "source": [
    "a = ! ls ../../data/$project/fastqs\n",
    "a"
   ]
  },
  {
   "cell_type": "code",
   "execution_count": null,
   "metadata": {},
   "outputs": [],
   "source": [
    "df = {\n",
    "\"fastq_1\": [],\n",
    "\"fastq_2\": [],\n",
    "\"antibody\": [],\n",
    "\"group\": [],\n",
    "\"replicate\": [],\n",
    "\"control\": []\n",
    "}\n",
    "for val in h.grouped(a,2):\n",
    "    row = gsheet[gsheet.id==val[0].split('/')[-1].split('-')[0]]\n",
    "    df['group'].append(\"MV4\"+row['name'].values[0].split('-r')[0].split('-MV4')[1])\n",
    "    df['replicate'].append(row['name'].values[0].split('-r')[1])\n",
    "    df['fastq_1'].append(project+\"/fastqs/\"+val[0])\n",
    "    df['fastq_2'].append(project+\"/fastqs/\"+val[1])\n",
    "    df['antibody'].append(row['protein'].values[0])\n",
    "    df['control'].append(\"INPUT\")\n",
    "df['group'].append('INPUT')\n",
    "df['replicate'].append(1)\n",
    "df['fastq_1'].append('ref/mp845-MV411-INPUT-r2_R1.fastq.gz')\n",
    "df['fastq_2'].append('ref/mp845-MV411-INPUT-r2_R2.fastq.gz')\n",
    "df['antibody'].append(\"\")\n",
    "df['control'].append(\"\")\n",
    "df = pd.DataFrame(df)"
   ]
  },
  {
   "cell_type": "code",
   "execution_count": null,
   "metadata": {},
   "outputs": [],
   "source": [
    "df.loc[0].tolist()"
   ]
  },
  {
   "cell_type": "code",
   "execution_count": null,
   "metadata": {},
   "outputs": [],
   "source": [
    "cat ../nextflow/chipseq_MEF2D_degraded_design.csv"
   ]
  },
  {
   "cell_type": "code",
   "execution_count": null,
   "metadata": {},
   "outputs": [],
   "source": [
    "df[df.columns[[3,4,0,1,2,5]]].to_csv('../nextflow/'+project+'_design.csv',index=False)"
   ]
  },
  {
   "cell_type": "code",
   "execution_count": null,
   "metadata": {},
   "outputs": [],
   "source": [
    "! cd ../../data/ && sudo ../nextflow log ## to get access to the previous runs"
   ]
  },
  {
   "cell_type": "code",
   "execution_count": null,
   "metadata": {},
   "outputs": [],
   "source": [
    "#process chips\n",
    "! cd ../../data/ && sudo ../nextflow run nf-core/chipseq --paired_end --seq_center 'DFCI' --email 'jkobject@gmail.com' --input ../AMLproject/nextflow/$project_design.csv --genome GRCh38 --skip_preseq --max_cpus 16 -profile docker -w work -resume exotic_bartik"
   ]
  },
  {
   "cell_type": "code",
   "execution_count": null,
   "metadata": {},
   "outputs": [],
   "source": [
    "! sudo mv ../../data/results/* ../../data/$project/ && sudo rm -r ..data/work"
   ]
  },
  {
   "cell_type": "code",
   "execution_count": null,
   "metadata": {},
   "outputs": [],
   "source": [
    "ls ../../TrimGalore-0.6.5/trim_galore"
   ]
  },
  {
   "cell_type": "code",
   "execution_count": null,
   "metadata": {},
   "outputs": [],
   "source": [
    "# get scaling values\n",
    "norm, mapped = h.getSpikeInControlScales(refgenome=\"../../data/ref/reference_droso.fna\",\n",
    "fastQfolder='../../data/'+project+'/fastqs/',\n",
    "pairedEnd=True, cores=12,\n",
    "tofilter=True,\n",
    "totrim=True,\n",
    "tomap=True,\n",
    "results=\"../../data/\"+project+\"/\",\n",
    "pathtotrim_galore=\"../../TrimGalore-0.6.5/trim_galore\")\n",
    "norm, mapped"
   ]
  },
  {
   "cell_type": "code",
   "execution_count": null,
   "metadata": {},
   "outputs": [],
   "source": [
    "mapped"
   ]
  },
  {
   "cell_type": "markdown",
   "metadata": {},
   "source": [
    "computing scales from the excel sheet"
   ]
  },
  {
   "cell_type": "code",
   "execution_count": null,
   "metadata": {},
   "outputs": [],
   "source": [
    "scales = [1.0,\n",
    "1.0,\n",
    "0.9644136372,\n",
    "0.9068238696,\n",
    "1.0,\n",
    "1.0,\n",
    "0.3954022974,\n",
    "0.8368988329,\n",
    "1.0,\n",
    "1.0,\n",
    "0.5551449949,\n",
    "0.844680746]"
   ]
  },
  {
   "cell_type": "code",
   "execution_count": null,
   "metadata": {},
   "outputs": [],
   "source": [
    "bams = ! ls ../../data/$project/bwa/mergedLibrary/*.bam\n",
    "bams"
   ]
  },
  {
   "cell_type": "code",
   "execution_count": null,
   "metadata": {},
   "outputs": [],
   "source": [
    "bams[6]"
   ]
  },
  {
   "cell_type": "markdown",
   "metadata": {},
   "source": [
    "### on scalled data"
   ]
  },
  {
   "cell_type": "code",
   "execution_count": null,
   "metadata": {},
   "outputs": [],
   "source": [
    "! mkdir ../../data/$project/diffPeaks/ && ! mkdir ../../data/$project/diffData/"
   ]
  },
  {
   "cell_type": "code",
   "execution_count": null,
   "metadata": {},
   "outputs": [],
   "source": [
    "! mkdir ../../data/$project/droso_aligned"
   ]
  },
  {
   "cell_type": "code",
   "execution_count": null,
   "metadata": {},
   "outputs": [],
   "source": [
    "! mv ../../data/$project/mp* ../../data/$project/droso_aligned"
   ]
  },
  {
   "cell_type": "code",
   "execution_count": null,
   "metadata": {},
   "outputs": [],
   "source": [
    "wigs = ! ls ../../data/$project/bwa/mergedLibrary/bigwig/*.bigWig"
   ]
  },
  {
   "cell_type": "code",
   "execution_count": null,
   "metadata": {},
   "outputs": [],
   "source": [
    "initscales = ! cat ../../data/$project/bwa/mergedLibrary/bigwig/scale/*.txt"
   ]
  },
  {
   "cell_type": "code",
   "execution_count": null,
   "metadata": {},
   "outputs": [],
   "source": [
    "! ls ../../data/$project/bwa/mergedLibrary/bigwig/scale/*.txt"
   ]
  },
  {
   "cell_type": "code",
   "execution_count": null,
   "metadata": {},
   "outputs": [],
   "source": [
    "rescales = [val*float(initscales[1+i]) for i, val in enumerate(scales)]"
   ]
  },
  {
   "cell_type": "code",
   "execution_count": null,
   "metadata": {},
   "outputs": [],
   "source": [
    "rescales"
   ]
  },
  {
   "cell_type": "code",
   "execution_count": null,
   "metadata": {},
   "outputs": [],
   "source": [
    "chip.bigWigFrom(bams[1:], \n",
    "                genome='GRCh38',scaling=rescales,\n",
    "               numthreads=12)"
   ]
  },
  {
   "cell_type": "code",
   "execution_count": null,
   "metadata": {},
   "outputs": [],
   "source": [
    "!mkdir ../../data/$project/recalib_bigwig/ && mv bigwig/* ../../data/$project/recalib_bigwig/"
   ]
  },
  {
   "cell_type": "code",
   "execution_count": null,
   "metadata": {},
   "outputs": [],
   "source": [
    "mv bigwig/* ../../data/$project/recalib_bigwig/"
   ]
  },
  {
   "cell_type": "code",
   "execution_count": null,
   "metadata": {},
   "outputs": [],
   "source": [
    "#! gsutil -m cp -r ../../data/$project/droso_aligned gs://amlproject/Chip/$project/\n",
    "! gsutil -m cp -r ../../data/$project/recalib_bigwig gs://amlproject/Chip/$project/"
   ]
  },
  {
   "cell_type": "code",
   "execution_count": null,
   "metadata": {},
   "outputs": [],
   "source": [
    "rm -r ../../data/$project/droso_aligned/"
   ]
  },
  {
   "cell_type": "code",
   "execution_count": null,
   "metadata": {},
   "outputs": [],
   "source": [
    "# diffPeak on scaled data \n",
    "for i in range(int((len(bams)-1)/2)):\n",
    "    if i==4:\n",
    "        continue\n",
    "    name1 = bams[i+1]\n",
    "    name2 = bams[i+7]\n",
    "    print('\\n')\n",
    "    print(name1,name2)\n",
    "    print(chip.fullDiffPeak(name1, name2, control1=bams[0], res_directory=\"../../data/\"+project+\"/diffPeaks/\", scaling=[scales[i],scales[i+6]], directory=\"../../data/\"+project+'/diffData/'))"
   ]
  },
  {
   "cell_type": "code",
   "execution_count": null,
   "metadata": {},
   "outputs": [],
   "source": [
    "os.popen('for i in $(ls ../../data/'+project+'/diffPeaks/*.bed); \\\n",
    "            do echo $(wc -l $i); \\\n",
    "            done').read().split('\\n')"
   ]
  },
  {
   "cell_type": "code",
   "execution_count": null,
   "metadata": {},
   "outputs": [],
   "source": [
    "bw = ! ls ../../data/$project/recalib_bigwig/*\n",
    "bw"
   ]
  },
  {
   "cell_type": "code",
   "execution_count": null,
   "metadata": {},
   "outputs": [],
   "source": [
    "!mkdir ../results/$project/\n",
    "!mkdir ../results/$project/plots\n",
    "!mkdir ../results/$project/plots/heatmaps/"
   ]
  },
  {
   "cell_type": "code",
   "execution_count": null,
   "metadata": {},
   "outputs": [],
   "source": [
    "# GENOME WIDE comparison"
   ]
  },
  {
   "cell_type": "code",
   "execution_count": null,
   "metadata": {},
   "outputs": [],
   "source": [
    "peaks = ! ls ../../data/$project/bwa/mergedLibrary/macs/broadPeak/*.broadPeak"
   ]
  },
  {
   "cell_type": "code",
   "execution_count": null,
   "metadata": {},
   "outputs": [],
   "source": [
    "names = [\"DMSO_FLAG_MEF2D\",\n",
    "\"DMSO_IFR8\",\n",
    "\"DMSO_MED1\",\n",
    "\"DMSO_MEF2C\",\n",
    "\"DMSO_MYC\",\n",
    "\"DMSO_POLII\",\n",
    "\"VHL_FLAG_MEF2D\",\n",
    "\"VHL_IFR8\",\n",
    "\"VHL_MED1\",\n",
    "\"VHL_MEF2C\",\n",
    "\"VHL_MYC\",\n",
    "\"VHL_POLII\"]"
   ]
  },
  {
   "cell_type": "code",
   "execution_count": null,
   "metadata": {},
   "outputs": [],
   "source": [
    "! mkdir ../../data/$project/peakplot/"
   ]
  },
  {
   "cell_type": "code",
   "execution_count": null,
   "metadata": {},
   "outputs": [],
   "source": [
    "for i, val in enumerate(bw):\n",
    "    if i <0:\n",
    "        continue\n",
    "    name = names[i]\n",
    "    print(name)\n",
    "    chip.getPeaksAt(peaks[i], bigwigs = val, bigwignames= name, peaknames=['Macs2_Peaks'], window=3000, folder=\"\", title=name, numthreads=8, refpoint=\"center\", name='../../data/'+project+'/peakplot/'+name+'_mat.pdf', withDeeptools=True, torecompute=True, vmax=2.5, legendLoc=\"lower-left\")"
   ]
  },
  {
   "cell_type": "code",
   "execution_count": null,
   "metadata": {},
   "outputs": [],
   "source": [
    "rm ../../data/chipseq_MEF2D_degraded/diffPeaks/MV411_MEF2D_NT_SC_63_DMSO-FLAG_MEF2D_R1_treat_pileup_vs_MV411_MEF2D_NT_SC_63_VHL-POLII_R1_tre*"
   ]
  },
  {
   "cell_type": "code",
   "execution_count": null,
   "metadata": {},
   "outputs": [],
   "source": [
    "cond1peak = ! ls ../../data/$project/diffPeaks/*cond1.bed\n",
    "cond2peak = ! ls ../../data/$project/diffPeaks/*cond2.bed\n",
    "commonpeak = ! ls ../../data/$project/diffPeaks/*common.bed\n",
    "cond1peak"
   ]
  },
  {
   "cell_type": "code",
   "execution_count": null,
   "metadata": {},
   "outputs": [],
   "source": [
    "names = [\"FLAG_MEF2D\",\n",
    "\"IFR8\",\n",
    "\"MED1\",\n",
    "\"MEF2C\",\n",
    "\"MYC\",\n",
    "\"POLII\"]"
   ]
  },
  {
   "cell_type": "code",
   "execution_count": null,
   "metadata": {},
   "outputs": [],
   "source": [
    "for i in range(int(len(bw)/2)):\n",
    "    if i <0:\n",
    "        continue\n",
    "    cl = len(bw)\n",
    "    name1 = bw[i]\n",
    "    name2 = bw[i+6]\n",
    "    peak = [cond1peak[i], commonpeak[i], cond2peak[i]]\n",
    "   # for val in peak:\n",
    "      #  chip.dropWeirdChromosomes(val)\n",
    "    name = names[i]\n",
    "    print(name1,name2)\n",
    "    chip.getPeaksAt(peak, [name1, name2], bigwignames=['DMSO', 'VHL'], peaknames=['DMSO_peaks', 'common', 'VHL_peaks'], window=3000, folder=\"\", title=name, numthreads=7, refpoint=\"center\", name='../../data/'+project+'/diffPeaks/'+name+'_mat.pdf', withDeeptools=True, torecompute=True)"
   ]
  },
  {
   "cell_type": "code",
   "execution_count": null,
   "metadata": {},
   "outputs": [],
   "source": [
    "#h.createFoldersFor('../results/'+project+'/plots/scaled/diffPeaks/')\n",
    "! cp ../../data/$project/diffPeaks/*.pdf ../results/$project/plots/scaled/diffPeaks/"
   ]
  },
  {
   "cell_type": "code",
   "execution_count": null,
   "metadata": {},
   "outputs": [],
   "source": [
    "!cp ../../data/$project/peakplot/*_mat.pdf ../results/$project/plots/scaled/"
   ]
  },
  {
   "cell_type": "markdown",
   "metadata": {},
   "source": [
    "### on unscalled data"
   ]
  },
  {
   "cell_type": "code",
   "execution_count": null,
   "metadata": {},
   "outputs": [],
   "source": [
    "bams = !ls ../../data/$project/bwa/mergedLibrary/mp*.bam\n",
    "bams"
   ]
  },
  {
   "cell_type": "code",
   "execution_count": null,
   "metadata": {},
   "outputs": [],
   "source": [
    "! mkdir ../../data/$project/diffPeaks_unscaled"
   ]
  },
  {
   "cell_type": "code",
   "execution_count": null,
   "metadata": {},
   "outputs": [],
   "source": [
    "bams"
   ]
  },
  {
   "cell_type": "code",
   "execution_count": null,
   "metadata": {},
   "outputs": [],
   "source": [
    "#on unscalled data \n",
    "for i in range(int(len(bams[1:])/2)):\n",
    "    if i < 0:\n",
    "        continue\n",
    "    name1 = bams[1+i]\n",
    "    name2 = bams[7+i]\n",
    "    print(name1,name2)\n",
    "    chip.fullDiffPeak(name1,name2, control1='../../data/'+project+'/bwa/mergedLibrary/INPUT_R1.mLb.clN.sorted.bam', directory = \"../../data/\"+project+\"/diffData_unscaled/\", res_directory = \"../../data/\"+project+\"/diffPeaks_unscaled/\",pairedend=False)"
   ]
  },
  {
   "cell_type": "code",
   "execution_count": null,
   "metadata": {},
   "outputs": [],
   "source": [
    "bw = ! ls ../../data/$project/bwa/mergedLibrary/bigwig/*.bigWig\n",
    "bw"
   ]
  },
  {
   "cell_type": "code",
   "execution_count": null,
   "metadata": {},
   "outputs": [],
   "source": [
    "cond1peak = ! ls ../../data/$project/diffPeaks_unscaled/*cond1.bed\n",
    "cond2peak = ! ls ../../data/$project/diffPeaks_unscaled/*cond2.bed\n",
    "commonpeak = ! ls ../../data/$project/diffPeaks_unscaled/*common.bed\n",
    "commonpeak"
   ]
  },
  {
   "cell_type": "code",
   "execution_count": null,
   "metadata": {},
   "outputs": [],
   "source": [
    "names = [\"FLAG_MEF2D\",\n",
    "\"IFR8\",\n",
    "\"MED1\",\n",
    "\"MEF2C\",\n",
    "\"MYC\",\n",
    "\"POLII\"]"
   ]
  },
  {
   "cell_type": "code",
   "execution_count": null,
   "metadata": {},
   "outputs": [],
   "source": [
    "for i in range(int(len(bw)/2)):\n",
    "    name1 = bw[i]\n",
    "    name2 = bw[6+i]\n",
    "    peak = [cond1peak[i], commonpeak[i], cond2peak[i]]\n",
    "    #for val in peak:\n",
    "     #   chip.dropWeirdChromosomes(val)\n",
    "    name = names[i]\n",
    "    print(name1,name2)\n",
    "    chip.getPeaksAt(peak, [name1, name2], bigwignames=['DMSO', 'VHL'], peaknames=['DMSO_peaks', 'common', 'VHL_peaks'], window=3000, folder=\"\", title=name, numthreads=7, torecompute=True, refpoint='center', name='../../data/'+project+'/diffPeaks_unscaled/'+name+'_mat.pdf', withDeeptools=True)"
   ]
  },
  {
   "cell_type": "code",
   "execution_count": null,
   "metadata": {},
   "outputs": [],
   "source": [
    "h.createFoldersFor('../results/'+project+'/plots/unscaled/diffPeaks/')\n",
    "! cp ../../data/$project/diffPeaks_unscaled/*.pdf ../results/$project/plots/unscaled/diffPeaks/\n",
    "\n",
    "! gsutil -m cp gs://amlproject/Chip/$project/bwa/mergedLibrary/deepTools/**.pdf ../results/$project/plots/"
   ]
  },
  {
   "cell_type": "code",
   "execution_count": null,
   "metadata": {},
   "outputs": [],
   "source": [
    "! gsutil -m cp -r ../../data/$project/diffPeaks gs://amlproject/Chip/$project/\n",
    "! gsutil -m cp -r ../../data/$project/diffData gs://amlproject/Chip/$project/\n",
    "! gsutil -m cp -r ../../data/$project/diffPeaks_unscaled gs://amlproject/Chip/$project/\n",
    "! gsutil -m cp -r ../../data/$project/diffData_unscaled gs://amlproject/Chip/$project/\n",
    "! gsutil -m cp -r ../../data/$project/peakplot gs://amlproject/Chip/$project/"
   ]
  },
  {
   "cell_type": "markdown",
   "metadata": {},
   "source": [
    "## v7"
   ]
  },
  {
   "cell_type": "code",
   "execution_count": null,
   "metadata": {},
   "outputs": [],
   "source": [
    "project=\"chipseq_MEF2CMEF2D_degraded\""
   ]
  },
  {
   "cell_type": "code",
   "execution_count": null,
   "metadata": {},
   "outputs": [],
   "source": [
    "! gsutil ls gs://transfer-amlproject/200924_MP8230_fastq/"
   ]
  },
  {
   "cell_type": "code",
   "execution_count": null,
   "metadata": {},
   "outputs": [],
   "source": [
    "mkdir ../data/$project/ && mkdir ../data/$project/qc/"
   ]
  },
  {
   "cell_type": "code",
   "execution_count": null,
   "metadata": {},
   "outputs": [],
   "source": [
    "!gsutil -m cp gs://transfer-amlproject/200924_MP8230_fastq/multiqc_report.html ../data/$project/qc/\n",
    "!gsutil -m cp -r gs://transfer-amlproject/200924_MP8230_fastq/Reports/ ../data/$project/qc/\n",
    "!gsutil -m cp -r gs://transfer-amlproject/200924_MP8230_fastq/multiqc_data/ ../data/$project/qc/"
   ]
  },
  {
   "cell_type": "code",
   "execution_count": null,
   "metadata": {},
   "outputs": [],
   "source": [
    "! gsutil -m cp gs://transfer-amlproject/200924_MP8230_fastq/*  gs://transfer-amlproject/$project/"
   ]
  },
  {
   "cell_type": "markdown",
   "metadata": {},
   "source": [
    "### analysis"
   ]
  },
  {
   "cell_type": "code",
   "execution_count": null,
   "metadata": {},
   "outputs": [],
   "source": [
    "! mkdir ../../data/$project && mkdir ../../data/$project/fastqs && gsutil -m cp gs://transfer-amlproject/$project/* ../../data/$project/fastqs"
   ]
  },
  {
   "cell_type": "code",
   "execution_count": null,
   "metadata": {},
   "outputs": [],
   "source": [
    "! rm ../../data/$project/fastqs/multiqc_report.html"
   ]
  },
  {
   "cell_type": "code",
   "execution_count": null,
   "metadata": {},
   "outputs": [],
   "source": [
    "a = ! ls ../../data/$project/fastqs\n",
    "a"
   ]
  },
  {
   "cell_type": "code",
   "execution_count": null,
   "metadata": {},
   "outputs": [],
   "source": [
    "rename = {\n",
    "\"20200924_MP1_MP8230_S113\": \"mp893-MV411_RNP_AAVS1-H3K27AC-r3\",\n",
    "\"20200924_MP2_MP8230_S114\": \"mp894-MV411_RNP_AAVS1-H3K27AC-r4\",\n",
    "\"20200924_MP3_MP8230_S115\": \"mp895-MV411_RNP_MEF2C-H3K27AC-r1\",\n",
    "\"20200924_MP4_MP8230_S116\": \"mp896-MV411_RNP_MEF2C-H3K27AC-r2\",\n",
    "\"20200924_MP5_MP8230_S117\": \"mp897-MV411_RNP_MEF2D-H3K27AC-r3\",\n",
    "\"20200924_MP6_MP8230_S118\": \"mp898-MV411_RNP_MEF2D-H3K27AC-r4\",\n",
    "\"20200924_MP7_MP8230_S119\": \"mp899-MV411_RNP_MEF2C_MEF2D-H3K27AC-r1\",\n",
    "\"20200924_MP8_MP8230_S120\": \"mp900-MV411_RNP_MEF2C_MEF2D-H3K27AC-r2\",}"
   ]
  },
  {
   "cell_type": "code",
   "execution_count": null,
   "metadata": {},
   "outputs": [],
   "source": [
    "for val in a:\n",
    "    rep = val\n",
    "    for k,v in rename.items():\n",
    "        rep = rep.replace(k,v)\n",
    "    !mv ../../data/$project/fastqs/$val ../../data/$project/fastqs/$rep"
   ]
  },
  {
   "cell_type": "code",
   "execution_count": null,
   "metadata": {},
   "outputs": [],
   "source": [
    "from gsheets import Sheets\n",
    "sheets = Sheets.from_files('~/.client_secret.json', '~/.storage.json')\n",
    "url=\"https://docs.google.com/spreadsheets/d/1yFLjYB1McU530JnLgL0QIMAKIkVl3kl0_LCHje2gk8U\"\n",
    "gsheet = sheets.get(url).sheets[2].to_frame()"
   ]
  },
  {
   "cell_type": "code",
   "execution_count": null,
   "metadata": {},
   "outputs": [],
   "source": [
    "gsheet"
   ]
  },
  {
   "cell_type": "code",
   "execution_count": null,
   "metadata": {},
   "outputs": [],
   "source": [
    "a = ! ls ../../data/$project/fastqs\n",
    "a"
   ]
  },
  {
   "cell_type": "code",
   "execution_count": null,
   "metadata": {},
   "outputs": [],
   "source": [
    "df = {\n",
    "\"fastq_1\": [],\n",
    "\"fastq_2\": [],\n",
    "\"antibody\": [],\n",
    "\"group\": [],\n",
    "\"replicate\": [],\n",
    "\"control\": []\n",
    "}\n",
    "for val in h.grouped(a,2):\n",
    "    row = gsheet[gsheet.id==val[0].split('/')[-1].split('-')[0]]\n",
    "    df['group'].append(\"MV4\"+row['name'].values[0].split('-r')[0].split('-MV4')[1])\n",
    "    df['replicate'].append(row['name'].values[0].split('-r')[1])\n",
    "    df['fastq_1'].append(project+\"/fastqs/\"+val[0])\n",
    "    df['fastq_2'].append(project+\"/fastqs/\"+val[1])\n",
    "    df['antibody'].append(row['protein'].values[0])\n",
    "    df['control'].append(\"INPUT\")\n",
    "df['group'].append('INPUT')\n",
    "df['replicate'].append(1)\n",
    "df['fastq_1'].append('ref/mp845-MV411-INPUT-r2_R1.fastq.gz')\n",
    "df['fastq_2'].append('ref/mp845-MV411-INPUT-r2_R2.fastq.gz')\n",
    "df['antibody'].append(\"\")\n",
    "df['control'].append(\"\")\n",
    "df = pd.DataFrame(df)"
   ]
  },
  {
   "cell_type": "code",
   "execution_count": null,
   "metadata": {},
   "outputs": [],
   "source": [
    "df"
   ]
  },
  {
   "cell_type": "code",
   "execution_count": null,
   "metadata": {},
   "outputs": [],
   "source": [
    "df[df.columns[[3,4,0,1,2,5]]].to_csv('../nextflow/'+project+'_design.csv',index=False)"
   ]
  },
  {
   "cell_type": "code",
   "execution_count": null,
   "metadata": {},
   "outputs": [],
   "source": [
    "! cd ../../data/ && sudo ../nextflow log ## to get access to the previous runs"
   ]
  },
  {
   "cell_type": "code",
   "execution_count": null,
   "metadata": {},
   "outputs": [],
   "source": [
    "#process chips\n",
    "! cd ../../data/ && sudo ../nextflow run nf-core/chipseq --paired_end --seq_center 'DFCI' --email 'jkobject@gmail.com' --input ../AMLproject/nextflow/$project_design.csv --genome GRCh38 --skip_preseq --max_cpus 16 -profile docker -w work -resume exotic_bartik"
   ]
  },
  {
   "cell_type": "code",
   "execution_count": null,
   "metadata": {},
   "outputs": [],
   "source": [
    "! gsutil -m cp -r gs://workamlproject/MEF2CMEF2D/output/* gs://amlproject/Chip/chipseq_MEF2CMEF2D_degraded/"
   ]
  },
  {
   "cell_type": "code",
   "execution_count": null,
   "metadata": {},
   "outputs": [],
   "source": [
    "# get scaling values\n",
    "norm, mapped = h.getSpikeInControlScales(refgenome=\"../../data/ref/reference_droso.fna\",\n",
    "fastQfolder='../../data/'+project+'/fastqs/',\n",
    "pairedEnd=True, cores=12,\n",
    "tofilter=True,\n",
    "totrim=True,\n",
    "tomap=True,\n",
    "results=\"../../data/\"+project+\"/\",\n",
    "pathtotrim_galore=\"../../TrimGalore-0.6.5/trim_galore\")\n",
    "norm, mapped"
   ]
  },
  {
   "cell_type": "markdown",
   "metadata": {},
   "source": [
    "computing scales from the excel sheet"
   ]
  },
  {
   "cell_type": "code",
   "execution_count": null,
   "metadata": {},
   "outputs": [],
   "source": [
    "scales = [1.00,\n",
    "1.00,\n",
    "0.98,\n",
    "1.08,\n",
    "0.74,\n",
    "0.99,\n",
    "1.13,\n",
    "0.94]"
   ]
  },
  {
   "cell_type": "code",
   "execution_count": null,
   "metadata": {},
   "outputs": [],
   "source": [
    "#! mkdir ../../data/$project/bwa \n",
    "#!mkdir ../../data/$project/bwa/mergedLibrary\n",
    "#!gsutil cp gs://amlproject/Chip/$project/bwa/mergedLibrary/*.ba* ../../data/$project/bwa/mergedLibrary/\n",
    "#! gsutil -m cp -r gs://amlproject/Chip/$project/bwa/mergedLibrary/bigwig/ ../../data/$project/bwa/mergedLibrary/\n",
    "! gsutil  -m cp -r gs://amlproject/Chip/$project/bwa/mergedLibrary/macs/ ../../data/$project/bwa/mergedLibrary/"
   ]
  },
  {
   "cell_type": "code",
   "execution_count": null,
   "metadata": {},
   "outputs": [],
   "source": [
    "bams = ! ls ../../data/$project/bwa/mergedLibrary/*.bam\n",
    "bams"
   ]
  },
  {
   "cell_type": "markdown",
   "metadata": {},
   "source": [
    "### on scalled data"
   ]
  },
  {
   "cell_type": "code",
   "execution_count": null,
   "metadata": {},
   "outputs": [],
   "source": [
    "! mkdir ../../data/$project/diffPeaks/\n",
    "! mkdir ../../data/$project/diffData/\n",
    "! mkdir ../../data/$project/droso_aligned\n",
    "! mv ../../data/$project/mp* ../../data/$project/droso_aligned"
   ]
  },
  {
   "cell_type": "code",
   "execution_count": null,
   "metadata": {},
   "outputs": [],
   "source": [
    "wigs = ! ls ../../data/$project/bwa/mergedLibrary/bigwig/*.bigWig\n",
    "wigs"
   ]
  },
  {
   "cell_type": "code",
   "execution_count": null,
   "metadata": {},
   "outputs": [],
   "source": [
    "# diffPeak on scaled data (full reprocessing)\n",
    "for i in range(len(bams[3:])):\n",
    "    if i < 3:\n",
    "        continue\n",
    "    bam1 = bams[1+(i%2)]\n",
    "    bam2 = bams[3+i]\n",
    "    print(bam1,bam2)\n",
    "    print(chip.fullDiffPeak(bam1,bam2, control1=bams[0], scaling=[1.0, scales[2+i]], directory = \"../../data/\"+project+\"/diffData/\", res_directory = \"../../data/\"+project+\"/diffPeaks/\",pairedend=True))"
   ]
  },
  {
   "cell_type": "code",
   "execution_count": null,
   "metadata": {},
   "outputs": [],
   "source": [
    "initscales = ! cat ../../data/$project/bwa/mergedLibrary/bigwig/scale/*.txt\n",
    "initscales"
   ]
  },
  {
   "cell_type": "code",
   "execution_count": null,
   "metadata": {},
   "outputs": [],
   "source": [
    "rescales = [val*float(initscales[1+i]) for i, val in enumerate(scales)]\n",
    "rescales"
   ]
  },
  {
   "cell_type": "code",
   "execution_count": null,
   "metadata": {},
   "outputs": [],
   "source": [
    "chip.bigWigFrom(bams[3:], \n",
    "                genome='GRCh38',scaling=rescales[2:],\n",
    "               numthreads=8)"
   ]
  },
  {
   "cell_type": "code",
   "execution_count": null,
   "metadata": {},
   "outputs": [],
   "source": [
    "!mkdir ../../data/$project/recalib_bigwig/ \n",
    "!mv bigwig/* ../../data/$project/recalib_bigwig/\n",
    "!cp ../../data/$project/bwa/mergedLibrary/bigwig/*AAVS1*.bigWig ../../data/$project/recalib_bigwig/"
   ]
  },
  {
   "cell_type": "code",
   "execution_count": null,
   "metadata": {},
   "outputs": [],
   "source": [
    "os.popen('for i in $(ls ../../data/'+project+'/diffPeaks/*.bed); \\\n",
    "            do echo $(wc -l $i); \\\n",
    "            done').read().split('\\n')"
   ]
  },
  {
   "cell_type": "code",
   "execution_count": null,
   "metadata": {},
   "outputs": [],
   "source": [
    "bw = ! ls ../../data/additional_degraded_v1/recalib_bigwig/*\n",
    "bw"
   ]
  },
  {
   "cell_type": "code",
   "execution_count": null,
   "metadata": {},
   "outputs": [],
   "source": [
    "! gsutil -m cp -r ../../data/$project/droso_aligned gs://amlproject/Chip/$project/\n",
    "! gsutil -m cp -r ../../data/$project/recalib_bigwig gs://amlproject/Chip/$project/"
   ]
  },
  {
   "cell_type": "code",
   "execution_count": null,
   "metadata": {},
   "outputs": [],
   "source": [
    "!mkdir ../results/$project/\n",
    "!mkdir ../results/$project/plots\n",
    "!mkdir ../results/$project/plots/heatmaps/"
   ]
  },
  {
   "cell_type": "code",
   "execution_count": null,
   "metadata": {},
   "outputs": [],
   "source": [
    "# GENOME WIDE comparison"
   ]
  },
  {
   "cell_type": "code",
   "execution_count": null,
   "metadata": {},
   "outputs": [],
   "source": [
    "peaks = ! ls ../../data/$project/bwa/mergedLibrary/macs/broadPeak/*.broadPeak"
   ]
  },
  {
   "cell_type": "code",
   "execution_count": null,
   "metadata": {},
   "outputs": [],
   "source": [
    "names = [\"AAVS1\", \"AAVS1_v2\", \"MEF2C\",\"MEF2C_v2\",\"MEF2C-MEF2D\",\"MEF2C-MEF2D_v2\", \"MEF2D\",\"MEF2D_v2\"]"
   ]
  },
  {
   "cell_type": "code",
   "execution_count": null,
   "metadata": {},
   "outputs": [],
   "source": [
    "for i, val in enumerate(bw):\n",
    "    if i <0:\n",
    "        continue\n",
    "    name = names[i]\n",
    "    print(name)\n",
    "    chip.getPeaksAt(peaks[i], bigwigs = val, bigwignames= name, peaknames=['Macs2_Peaks'], window=3000, folder=\"\", title=name, numthreads=8, refpoint=\"center\", name='../../data/'+project+'/peakplot/'+name+'_mat.pdf', withDeeptools=True, torecompute=True, vmax=2.5, legendLoc=\"lower-left\")"
   ]
  },
  {
   "cell_type": "code",
   "execution_count": null,
   "metadata": {},
   "outputs": [],
   "source": [
    "h.createFoldersFor('../results/'+project+'/plots/scaled/heatmaps/')\n",
    "! cp ../../data/$project/*.pdf ../results/$project/plots/scaled/heatmaps/"
   ]
  },
  {
   "cell_type": "code",
   "execution_count": null,
   "metadata": {},
   "outputs": [],
   "source": [
    "cond1peak = ! ls ../../data/$project/diffPeaks/*cond1.bed\n",
    "cond2peak = ! ls ../../data/$project/diffPeaks/*cond2.bed\n",
    "commonpeak = ! ls ../../data/$project/diffPeaks/*common.bed\n",
    "cond1peak"
   ]
  },
  {
   "cell_type": "code",
   "execution_count": null,
   "metadata": {},
   "outputs": [],
   "source": [
    "for i in range(int(len(bw[2:]))):\n",
    "    if i <1:\n",
    "        continue\n",
    "    name1 = bw[i%2]\n",
    "    name2 = bw[i+2]\n",
    "    a = int(i/2)+3 if i%2 else int(i/2)\n",
    "    peak = [cond1peak[a], commonpeak[a], cond2peak[a]]\n",
    "   # for val in peak:\n",
    "      #  chip.dropWeirdChromosomes(val)\n",
    "    name = names[i+2]\n",
    "    print(name,name1,name2,a)\n",
    "    chip.getPeaksAt(peak, [name1, name2], bigwignames=['DMSO', 'VHL'], peaknames=['DMSO_peaks', 'common', 'VHL_peaks'], window=3000, folder=\"\", title=name, numthreads=7, refpoint=\"center\", name='../../data/'+project+'/diffPeaks/'+name+'_mat.pdf', withDeeptools=True, torecompute=False)"
   ]
  },
  {
   "cell_type": "code",
   "execution_count": null,
   "metadata": {},
   "outputs": [],
   "source": [
    "! mkdir ../results/additional_degraded_v1/plots/scaled/diffPeaks/\n",
    "! cp ../../data/additional_degraded_v1/diffPeaks/*.pdf ../results/additional_degraded_v1/plots/scaled/diffPeaks/"
   ]
  },
  {
   "cell_type": "markdown",
   "metadata": {},
   "source": [
    "### on unscalled data"
   ]
  },
  {
   "cell_type": "code",
   "execution_count": null,
   "metadata": {},
   "outputs": [],
   "source": [
    "bams = !ls ../../data/$project/bwa/mergedLibrary/mp*.bam\n",
    "bams"
   ]
  },
  {
   "cell_type": "code",
   "execution_count": null,
   "metadata": {},
   "outputs": [],
   "source": [
    "! mkdir ../../data/$project/diffPeaks_unscaled"
   ]
  },
  {
   "cell_type": "code",
   "execution_count": null,
   "metadata": {},
   "outputs": [],
   "source": [
    "#on unscalled data \n",
    "for i in range(int(len(bams[3:]))):\n",
    "    if i < 4:\n",
    "        continue\n",
    "    name1 = bams[1+i%2]\n",
    "    name2 = bams[3+i]\n",
    "    print(name1,name2)\n",
    "    chip.fullDiffPeak(name1,name2, control1='../../data/'+project+'/bwa/mergedLibrary/INPUT_R1.mLb.clN.sorted.bam', directory = \"../../data/\"+project+\"/diffData_unscaled/\", res_directory = \"../../data/\"+project+\"/diffPeaks_unscaled/\",pairedend=False)"
   ]
  },
  {
   "cell_type": "code",
   "execution_count": null,
   "metadata": {},
   "outputs": [],
   "source": [
    "bw = ! ls ../../data/$project/bwa/mergedLibrary/bigwig/*.bigWig\n",
    "bw"
   ]
  },
  {
   "cell_type": "code",
   "execution_count": null,
   "metadata": {},
   "outputs": [],
   "source": [
    "cond1peak = ! ls ../../data/$project/diffPeaks_unscaled/*cond1.bed\n",
    "cond2peak = ! ls ../../data/$project/diffPeaks_unscaled/*cond2.bed\n",
    "commonpeak = ! ls ../../data/$project/diffPeaks_unscaled/*common.bed\n",
    "commonpeak"
   ]
  },
  {
   "cell_type": "code",
   "execution_count": null,
   "metadata": {},
   "outputs": [],
   "source": [
    "for i in range(int(len(bw[2:]))):\n",
    "    name1 = bw[i%2]\n",
    "    name2 = bw[2+i]\n",
    "    a = int(i/2)+3 if i%2 else int(i/2)\n",
    "    peak = [cond1peak[a], commonpeak[a], cond2peak[a]]\n",
    "    #for val in peak:\n",
    "     #   chip.dropWeirdChromosomes(val)\n",
    "    name = names[i+2]\n",
    "    print(name1,name2)\n",
    "    chip.getPeaksAt(peak, [name1, name2], bigwignames=['DMSO', 'VHL'], peaknames=['DMSO_peaks', 'common', 'VHL_peaks'], window=3000, folder=\"\", title=name, numthreads=7, torecompute=True, refpoint='center', name='../../data/'+project+'/diffPeaks_unscaled/'+name+'_mat.pdf', withDeeptools=True)"
   ]
  },
  {
   "cell_type": "code",
   "execution_count": null,
   "metadata": {},
   "outputs": [],
   "source": [
    "h.createFoldersFor('../results/'+project+'/plots/unscaled/diffPeaks/')\n",
    "! cp ../../data/$project/diffPeaks_unscaled/*.pdf ../results/$project/plots/unscaled/diffPeaks/\n",
    "\n",
    "! gsutil -m cp gs://amlproject/Chip/$project/bwa/mergedLibrary/deepTools/**.pdf ../results/$project/plots/"
   ]
  },
  {
   "cell_type": "code",
   "execution_count": null,
   "metadata": {},
   "outputs": [],
   "source": [
    "! gsutil -m cp -r ../../data/$project/diffPeaks gs://amlproject/Chip/$project/\n",
    "! gsutil -m cp -r ../../data/$project/diffData gs://amlproject/Chip/$project/\n",
    "! gsutil -m cp -r ../../data/$project/diffPeaks_unscaled gs://amlproject/Chip/$project/\n",
    "! gsutil -m cp -r ../../data/$project/diffData_unscaled gs://amlproject/Chip/$project/\n",
    "! gsutil -m cp -r ../../data/$project/peakplot gs://amlproject/Chip/$project/"
   ]
  },
  {
   "cell_type": "markdown",
   "metadata": {},
   "source": [
    "## v8"
   ]
  },
  {
   "cell_type": "code",
   "execution_count": null,
   "metadata": {},
   "outputs": [],
   "source": [
    "project=\"chipseq_IRF8_degraded\""
   ]
  },
  {
   "cell_type": "code",
   "execution_count": null,
   "metadata": {},
   "outputs": [],
   "source": [
    "fastq = ! gsutil ls gs://transfer-amlproject/201023_MP8292_fastq/\n",
    "fastq"
   ]
  },
  {
   "cell_type": "code",
   "execution_count": null,
   "metadata": {},
   "outputs": [],
   "source": [
    "mkdir ../data/$project/ && mkdir ../data/$project/qc/"
   ]
  },
  {
   "cell_type": "code",
   "execution_count": null,
   "metadata": {},
   "outputs": [],
   "source": [
    "!gsutil -m cp gs://transfer-amlproject/201023_MP8292_fastq/multiqc_report.html ../data/$project/qc/\n",
    "!gsutil -m cp -r gs://transfer-amlproject/201023_MP8292_fastq/Reports/ ../data/$project/qc/\n",
    "!gsutil -m cp -r gs://transfer-amlproject/201023_MP8292_fastq/multiqc_data/ ../data/$project/qc/"
   ]
  },
  {
   "cell_type": "code",
   "execution_count": null,
   "metadata": {},
   "outputs": [],
   "source": [
    "! gsutil -m cp gs://transfer-amlproject/201023_MP8292_fastq/*  gs://transfer-amlproject/$project/"
   ]
  },
  {
   "cell_type": "markdown",
   "metadata": {},
   "source": [
    "### analysis"
   ]
  },
  {
   "cell_type": "code",
   "execution_count": null,
   "metadata": {},
   "outputs": [],
   "source": [
    "rename = {\n",
    "\"20201023_IRF8_DMSO_MP8292_S119\": \"mp901-MV411_IRF8_NT_DMSO-IRF8-r1\",\n",
    "\"20201023_IRF8_VHL_MP8292_S125\": \"mp902-MV411_IRF8_NT_VHL-IRF8-r1\",\n",
    "\"20201023_MED1_DMSO_MP8292_S122\": \"mp903-MV411_IRF8_NT_DMSO-MED1-r1\",\n",
    "\"20201023_MED1_VHL_MP8292_S128\": \"mp904-MV411_IRF8_NT_VHL-MED1-r1\",\n",
    "\"20201023_MEF2C_DMSO_MP8292_S121\": \"mp905-MV411_IRF8_NT_DMSO-MEF2C-r1\",\n",
    "\"20201023_MEF2C_VHL_MP8292_S127\": \"mp906-MV411_IRF8_NT_VHL-MEF2C-r1\",\n",
    "\"20201023_MEF2D_DMSO_MP8292_S120\": \"mp907-MV411_IRF8_NT_DMSO-MEF2D-r1\",\n",
    "\"20201023_MEF2D_VHL_MP8292_S126\": \"mp908-MV411_IRF8_NT_VHL-MEF2D-r1\",\n",
    "\"20201023_MYC_DMSO_MP8292_S123\": \"mp909-MV411_IRF8_NT_DMSO-MYC-r1\",\n",
    "\"20201023_MYC_VHL_MP8292_S129\": \"mp910-MV411_IRF8_NT_VHL-MYC-r1\",\n",
    "\"20201023_POL_II_total_DMSO_MP8292_S124\": \"mp911-MV411_IRF8_NT_DMSO-POLII_total-r1\",\n",
    "\"20201023_POL_II_total_VHL_MP8292_S130\": \"mp912-MV411_IRF8_NT_VHL-POLII_total-r1\",}"
   ]
  },
  {
   "cell_type": "code",
   "execution_count": null,
   "metadata": {},
   "outputs": [],
   "source": [
    "for val in fastq:\n",
    "    rep = val\n",
    "    for k,v in rename.items():\n",
    "        rep = rep.replace(k,v)\n",
    "    rep = rep.replace('transfer-amlproject/201023_MP8292_fastq/',\"amlproject/Chip/\"+project+'/fastqs')\n",
    "    !gsutil cp $val $rep"
   ]
  },
  {
   "cell_type": "code",
   "execution_count": null,
   "metadata": {},
   "outputs": [],
   "source": [
    "from gsheets import Sheets\n",
    "sheets = Sheets.from_files('~/.client_secret.json', '~/.storage.json')\n",
    "url=\"https://docs.google.com/spreadsheets/d/1yFLjYB1McU530JnLgL0QIMAKIkVl3kl0_LCHje2gk8U\"\n",
    "gsheet = sheets.get(url).sheets[2].to_frame()"
   ]
  },
  {
   "cell_type": "code",
   "execution_count": null,
   "metadata": {},
   "outputs": [],
   "source": [
    "fastq = ! gsutil ls gs://amlproject/Chip/$project/fastqs/\n",
    "fastq"
   ]
  },
  {
   "cell_type": "code",
   "execution_count": null,
   "metadata": {},
   "outputs": [],
   "source": [
    "df = {\n",
    "\"fastq_1\": [],\n",
    "\"fastq_2\": [],\n",
    "\"antibody\": [],\n",
    "\"group\": [],\n",
    "\"replicate\": [],\n",
    "\"control\": []\n",
    "}\n",
    "for val in h.grouped(fastq,2):\n",
    "    row = gsheet[gsheet.id==val[0].split('/')[-1].split('-')[0]]\n",
    "    df['group'].append(\"MV4\"+row['name'].values[0].split('-r')[0].split('-MV4')[1])\n",
    "    df['replicate'].append(row['name'].values[0].split('-r')[1])\n",
    "    df['fastq_1'].append(val[0])\n",
    "    df['fastq_2'].append(val[1])\n",
    "    df['antibody'].append(row['protein'].values[0])\n",
    "    df['control'].append(\"INPUT\")\n",
    "df['group'].append('INPUT')\n",
    "df['replicate'].append(1)\n",
    "df['fastq_1'].append('gs://amlproject/Chip/IRF2BP2_degraded_rep3/fastqs/mp845-MV411-INPUT-r2_R1.fastq.gz')\n",
    "df['fastq_2'].append('gs://amlproject/Chip/IRF2BP2_degraded_rep3/fastqs/mp845-MV411-INPUT-r2_R2.fastq.gz')\n",
    "df['antibody'].append(\"\")\n",
    "df['control'].append(\"\")\n",
    "df = pd.DataFrame(df)"
   ]
  },
  {
   "cell_type": "code",
   "execution_count": null,
   "metadata": {},
   "outputs": [],
   "source": [
    "df"
   ]
  },
  {
   "cell_type": "code",
   "execution_count": null,
   "metadata": {},
   "outputs": [],
   "source": [
    "df[df.columns[[3,4,0,1,2,5]]].to_csv('../nextflow/'+project+'_design.csv',index=False)"
   ]
  },
  {
   "cell_type": "markdown",
   "metadata": {},
   "source": [
    "### about\n",
    "\n",
    "0. you need to have a google project set up with a billing account\n",
    "1. you need to activte your APIs this way: https://cloud.google.com/life-sciences/docs/tutorials/nextflow?hl=fr\n",
    "2. nextflow needs to be installed with this installation command `export NXF_MODE=google && curl https://get.nextflow.io | bash`"
   ]
  },
  {
   "cell_type": "code",
   "execution_count": null,
   "metadata": {},
   "outputs": [],
   "source": [
    "! cd ../../nextflow log ## to get access to the previous runs"
   ]
  },
  {
   "cell_type": "code",
   "execution_count": null,
   "metadata": {},
   "outputs": [],
   "source": [
    "#process chips \n",
    "! ../../nextflow run jkobject/chipseq \\\n",
    "    --paired_end \\\n",
    "    --seq_center 'DFCI' \\\n",
    "    --email 'jkobject@gmail.com' \\\n",
    "    --input ../nextflow/chipseq_IRF8_degraded_design.csv \\\n",
    "    --genome GRCh38 \\\n",
    "    --max_cpus 16 \\\n",
    "    -profile jkcloud \\ #my profile for the cloud (to edit for your account)\n",
    "    -w gs://workamlproject/IRF8res \\ #where the withinput will be stored\n",
    "    --spiking \\ #I have spiking using drosophilia genome (default)\n",
    "    --outdir gs://workamlproject/IRF8 \\ #specify aa bucket+folderr where the results will be\n",
    "    --tracedir ../nextflow/IRF8info/ \\ #you need to specify a local place for that"
   ]
  },
  {
   "cell_type": "code",
   "execution_count": null,
   "metadata": {},
   "outputs": [],
   "source": [
    "h.createFoldersFor('../../data/'+project+'/bwa/mergedLibrary/')\n",
    "!gsutil -m cp gs://amlproject/Chip/$project/bwa/mergedLibrary/*.ba* ../../data/$project/bwa/mergedLibrary/\n",
    "! gsutil -m cp -r gs://amlproject/Chip/$project/bwa/mergedLibrary/bigwig/ ../../data/$project/bwa/mergedLibrary/\n",
    "! gsutil  -m cp -r gs://amlproject/Chip/$project/bwa/mergedLibrary/macs/ ../../data/$project/bwa/mergedLibrary/"
   ]
  },
  {
   "cell_type": "markdown",
   "metadata": {},
   "source": [
    "computing scales from the excel sheet"
   ]
  },
  {
   "cell_type": "code",
   "execution_count": null,
   "metadata": {},
   "outputs": [],
   "source": [
    "scales = [\n",
    "        1.00,\n",
    "        0.79,\n",
    "        0.59,\n",
    "        1.00,\n",
    "        0.77,\n",
    "        1.00,\n",
    "        1.00,\n",
    "        0.72,\n",
    "        0.91,\n",
    "        1.00,\n",
    "        1.00,\n",
    "        0.23,\n",
    "         ]"
   ]
  },
  {
   "cell_type": "code",
   "execution_count": null,
   "metadata": {},
   "outputs": [],
   "source": [
    "bams = ! ls ../../data/$project/bwa/mergedLibrary/*.bam\n",
    "bams"
   ]
  },
  {
   "cell_type": "markdown",
   "metadata": {},
   "source": [
    "### on scalled data"
   ]
  },
  {
   "cell_type": "code",
   "execution_count": null,
   "metadata": {},
   "outputs": [],
   "source": [
    "! mkdir ../../data/$project/diffPeaks/ && ! mkdir ../../data/$project/diffData/"
   ]
  },
  {
   "cell_type": "code",
   "execution_count": null,
   "metadata": {},
   "outputs": [],
   "source": [
    "wigs = ! ls ../../data/$project/bwa/mergedLibrary/bigwig/*.bigWig\n",
    "wigs"
   ]
  },
  {
   "cell_type": "code",
   "execution_count": null,
   "metadata": {},
   "outputs": [],
   "source": [
    "# diffPeak on scaled data (full reprocessing)\n",
    "for i in range(int(len(bams)/2)):\n",
    "    if i < 0:\n",
    "        continue\n",
    "    bam1 = bams[1+i]\n",
    "    bam2 = bams[7+i]\n",
    "    print(bam1,bam2)\n",
    "    print(chip.fullDiffPeak(bam1,bam2, control1=bams[0], scaling=[scales[(i*2)], scales[(i*2)+1]], directory = \"../../data/\"+project+\"/diffData/\", res_directory = \"../../data/\"+project+\"/diffPeaks/\",pairedend=True))"
   ]
  },
  {
   "cell_type": "code",
   "execution_count": null,
   "metadata": {},
   "outputs": [],
   "source": [
    "initscales = ! cat ../../data/$project/bwa/mergedLibrary/bigwig/scale/*.txt\n",
    "initscales"
   ]
  },
  {
   "cell_type": "code",
   "execution_count": null,
   "metadata": {},
   "outputs": [],
   "source": [
    "rescales = [val*float(initscales[1+i]) for i, val in enumerate(scales)]\n",
    "rescales"
   ]
  },
  {
   "cell_type": "code",
   "execution_count": null,
   "metadata": {},
   "outputs": [],
   "source": [
    "chip.bigWigFrom(bams[1:], \n",
    "                genome='GRCh38',scaling=rescales,\n",
    "               numthreads=8)"
   ]
  },
  {
   "cell_type": "code",
<<<<<<< HEAD
   "execution_count": 264,
   "metadata": {},
   "outputs": [],
   "source": [
    "!mkdir ../../data/$project/recalib_bigwig/"
   ]
  },
  {
   "cell_type": "code",
   "execution_count": 265,
   "metadata": {
    "scrolled": false
   },
   "outputs": [],
=======
   "execution_count": null,
   "metadata": {},
   "outputs": [],
>>>>>>> 27d8a8078989e54dae8677a98f941149c164f9e4
   "source": [
    "!mv bigwig/* ../../data/$project/recalib_bigwig/"
   ]
  },
  {
   "cell_type": "code",
   "execution_count": null,
   "metadata": {},
   "outputs": [],
   "source": [
    "os.popen('for i in $(ls ../../data/'+project+'/diffPeaks/*.bed); \\\n",
    "            do echo $(wc -l $i); \\\n",
    "            done').read().split('\\n')"
   ]
  },
  {
   "cell_type": "code",
<<<<<<< HEAD
   "execution_count": 266,
   "metadata": {
    "scrolled": true
   },
   "outputs": [
    {
     "data": {
      "text/plain": [
       "['../../data/chipseq_IRF8_degraded/recalib_bigwig/MV411_IRF8_NT_DMSO-IRF8_R1.bw',\n",
       " '../../data/chipseq_IRF8_degraded/recalib_bigwig/MV411_IRF8_NT_DMSO-MED1_R1.bw',\n",
       " '../../data/chipseq_IRF8_degraded/recalib_bigwig/MV411_IRF8_NT_DMSO-MEF2C_R1.bw',\n",
       " '../../data/chipseq_IRF8_degraded/recalib_bigwig/MV411_IRF8_NT_DMSO-MEF2D_R1.bw',\n",
       " '../../data/chipseq_IRF8_degraded/recalib_bigwig/MV411_IRF8_NT_DMSO-MYC_R1.bw',\n",
       " '../../data/chipseq_IRF8_degraded/recalib_bigwig/MV411_IRF8_NT_DMSO-POLII_total_R1.bw',\n",
       " '../../data/chipseq_IRF8_degraded/recalib_bigwig/MV411_IRF8_NT_VHL-IRF8_R1.bw',\n",
       " '../../data/chipseq_IRF8_degraded/recalib_bigwig/MV411_IRF8_NT_VHL-MED1_R1.bw',\n",
       " '../../data/chipseq_IRF8_degraded/recalib_bigwig/MV411_IRF8_NT_VHL-MEF2C_R1.bw',\n",
       " '../../data/chipseq_IRF8_degraded/recalib_bigwig/MV411_IRF8_NT_VHL-MEF2D_R1.bw',\n",
       " '../../data/chipseq_IRF8_degraded/recalib_bigwig/MV411_IRF8_NT_VHL-MYC_R1.bw',\n",
       " '../../data/chipseq_IRF8_degraded/recalib_bigwig/MV411_IRF8_NT_VHL-POLII_total_R1.bw']"
      ]
     },
     "execution_count": 266,
     "metadata": {},
     "output_type": "execute_result"
    }
   ],
=======
   "execution_count": null,
   "metadata": {},
   "outputs": [],
>>>>>>> 27d8a8078989e54dae8677a98f941149c164f9e4
   "source": [
    "bw = ! ls ../../data/$project/recalib_bigwig/*\n",
    "bw"
   ]
  },
  {
   "cell_type": "code",
   "execution_count": null,
   "metadata": {},
   "outputs": [],
   "source": [
    "!mkdir ../results/$project/\n",
    "!mkdir ../results/$project/plots\n",
    "!mkdir ../results/$project/plots/heatmaps/"
   ]
  },
  {
   "cell_type": "code",
   "execution_count": null,
   "metadata": {},
   "outputs": [],
   "source": [
    "# GENOME WIDE comparison"
   ]
  },
  {
   "cell_type": "code",
   "execution_count": null,
   "metadata": {},
   "outputs": [],
   "source": [
    "peaks = ! ls ../../data/$project/bwa/mergedLibrary/macs/broadPeak/*.broadPeak"
   ]
  },
  {
   "cell_type": "code",
   "execution_count": 268,
   "metadata": {},
   "outputs": [],
   "source": [
    "names = [\"IRF8\",\"MED1\",\"MEF2C\",\"MEF2D\",\"MYC\",\"POLII_total\"]"
   ]
  },
  {
   "cell_type": "code",
<<<<<<< HEAD
   "execution_count": 270,
   "metadata": {
    "scrolled": true
   },
   "outputs": [
    {
     "name": "stdout",
     "output_type": "stream",
     "text": [
      "MED1_DMSO\n",
      "CompletedProcess(args='computeMatrix reference-point -S ../../data/chipseq_IRF8_degraded/recalib_bigwig/MV411_IRF8_NT_DMSO-MED1_R1.bw  --referencePoint center --regionsFileName ../../data/chipseq_IRF8_degraded/bwa/mergedLibrary/macs/broadPeak/MV411_IRF8_NT_DMSO-MED1_R1_peaks.broadPeak --missingDataAsZero --outFileName ../../data/chipseq_IRF8_degraded/MED1_DMSO_mat.gz --upstream 3000 --downstream 3000 --numberOfProcessors 8 && plotHeatmap --matrixFile ../../data/chipseq_IRF8_degraded/MED1_DMSO_mat.gz --outFileName ../../data/chipseq_IRF8_degraded/MED1_DMSO_mat.pdf --refPointLabel center --legendLocation lower-left --regionsLabel Macs2_Peaks --plotTitle MED1_DMSO', returncode=0, stdout=b'', stderr=b'')\n",
      "MEF2C_DMSO\n",
      "CompletedProcess(args='computeMatrix reference-point -S ../../data/chipseq_IRF8_degraded/recalib_bigwig/MV411_IRF8_NT_DMSO-MEF2C_R1.bw  --referencePoint center --regionsFileName ../../data/chipseq_IRF8_degraded/bwa/mergedLibrary/macs/broadPeak/MV411_IRF8_NT_DMSO-MEF2C_R1_peaks.broadPeak --missingDataAsZero --outFileName ../../data/chipseq_IRF8_degraded/MEF2C_DMSO_mat.gz --upstream 3000 --downstream 3000 --numberOfProcessors 8 && plotHeatmap --matrixFile ../../data/chipseq_IRF8_degraded/MEF2C_DMSO_mat.gz --outFileName ../../data/chipseq_IRF8_degraded/MEF2C_DMSO_mat.pdf --refPointLabel center --legendLocation lower-left --regionsLabel Macs2_Peaks --plotTitle MEF2C_DMSO', returncode=0, stdout=b'', stderr=b'')\n",
      "MEF2D_DMSO\n",
      "CompletedProcess(args='computeMatrix reference-point -S ../../data/chipseq_IRF8_degraded/recalib_bigwig/MV411_IRF8_NT_DMSO-MEF2D_R1.bw  --referencePoint center --regionsFileName ../../data/chipseq_IRF8_degraded/bwa/mergedLibrary/macs/broadPeak/MV411_IRF8_NT_DMSO-MEF2D_R1_peaks.broadPeak --missingDataAsZero --outFileName ../../data/chipseq_IRF8_degraded/MEF2D_DMSO_mat.gz --upstream 3000 --downstream 3000 --numberOfProcessors 8 && plotHeatmap --matrixFile ../../data/chipseq_IRF8_degraded/MEF2D_DMSO_mat.gz --outFileName ../../data/chipseq_IRF8_degraded/MEF2D_DMSO_mat.pdf --refPointLabel center --legendLocation lower-left --regionsLabel Macs2_Peaks --plotTitle MEF2D_DMSO', returncode=0, stdout=b'', stderr=b'')\n",
      "MYC_DMSO\n",
      "CompletedProcess(args='computeMatrix reference-point -S ../../data/chipseq_IRF8_degraded/recalib_bigwig/MV411_IRF8_NT_DMSO-MYC_R1.bw  --referencePoint center --regionsFileName ../../data/chipseq_IRF8_degraded/bwa/mergedLibrary/macs/broadPeak/MV411_IRF8_NT_DMSO-MYC_R1_peaks.broadPeak --missingDataAsZero --outFileName ../../data/chipseq_IRF8_degraded/MYC_DMSO_mat.gz --upstream 3000 --downstream 3000 --numberOfProcessors 8 && plotHeatmap --matrixFile ../../data/chipseq_IRF8_degraded/MYC_DMSO_mat.gz --outFileName ../../data/chipseq_IRF8_degraded/MYC_DMSO_mat.pdf --refPointLabel center --legendLocation lower-left --regionsLabel Macs2_Peaks --plotTitle MYC_DMSO', returncode=0, stdout=b'', stderr=b'')\n",
      "POLII_total_DMSO\n",
      "CompletedProcess(args='computeMatrix reference-point -S ../../data/chipseq_IRF8_degraded/recalib_bigwig/MV411_IRF8_NT_DMSO-POLII_total_R1.bw  --referencePoint center --regionsFileName ../../data/chipseq_IRF8_degraded/bwa/mergedLibrary/macs/broadPeak/MV411_IRF8_NT_DMSO-POLII_total_R1_peaks.broadPeak --missingDataAsZero --outFileName ../../data/chipseq_IRF8_degraded/POLII_total_DMSO_mat.gz --upstream 3000 --downstream 3000 --numberOfProcessors 8 && plotHeatmap --matrixFile ../../data/chipseq_IRF8_degraded/POLII_total_DMSO_mat.gz --outFileName ../../data/chipseq_IRF8_degraded/POLII_total_DMSO_mat.pdf --refPointLabel center --legendLocation lower-left --regionsLabel Macs2_Peaks --plotTitle POLII_total_DMSO', returncode=0, stdout=b'', stderr=b'')\n",
      "IRF8_wIRF8ko\n",
      "CompletedProcess(args='computeMatrix reference-point -S ../../data/chipseq_IRF8_degraded/recalib_bigwig/MV411_IRF8_NT_VHL-IRF8_R1.bw  --referencePoint center --regionsFileName ../../data/chipseq_IRF8_degraded/bwa/mergedLibrary/macs/broadPeak/MV411_IRF8_NT_VHL-IRF8_R1_peaks.broadPeak --missingDataAsZero --outFileName ../../data/chipseq_IRF8_degraded/IRF8_wIRF8ko_mat.gz --upstream 3000 --downstream 3000 --numberOfProcessors 8 && plotHeatmap --matrixFile ../../data/chipseq_IRF8_degraded/IRF8_wIRF8ko_mat.gz --outFileName ../../data/chipseq_IRF8_degraded/IRF8_wIRF8ko_mat.pdf --refPointLabel center --legendLocation lower-left --regionsLabel Macs2_Peaks --plotTitle IRF8_wIRF8ko', returncode=0, stdout=b'', stderr=b'')\n",
      "MED1_wIRF8ko\n",
      "CompletedProcess(args='computeMatrix reference-point -S ../../data/chipseq_IRF8_degraded/recalib_bigwig/MV411_IRF8_NT_VHL-MED1_R1.bw  --referencePoint center --regionsFileName ../../data/chipseq_IRF8_degraded/bwa/mergedLibrary/macs/broadPeak/MV411_IRF8_NT_VHL-MED1_R1_peaks.broadPeak --missingDataAsZero --outFileName ../../data/chipseq_IRF8_degraded/MED1_wIRF8ko_mat.gz --upstream 3000 --downstream 3000 --numberOfProcessors 8 && plotHeatmap --matrixFile ../../data/chipseq_IRF8_degraded/MED1_wIRF8ko_mat.gz --outFileName ../../data/chipseq_IRF8_degraded/MED1_wIRF8ko_mat.pdf --refPointLabel center --legendLocation lower-left --regionsLabel Macs2_Peaks --plotTitle MED1_wIRF8ko', returncode=0, stdout=b'', stderr=b'')\n",
      "MEF2C_wIRF8ko\n",
      "CompletedProcess(args='computeMatrix reference-point -S ../../data/chipseq_IRF8_degraded/recalib_bigwig/MV411_IRF8_NT_VHL-MEF2C_R1.bw  --referencePoint center --regionsFileName ../../data/chipseq_IRF8_degraded/bwa/mergedLibrary/macs/broadPeak/MV411_IRF8_NT_VHL-MEF2C_R1_peaks.broadPeak --missingDataAsZero --outFileName ../../data/chipseq_IRF8_degraded/MEF2C_wIRF8ko_mat.gz --upstream 3000 --downstream 3000 --numberOfProcessors 8 && plotHeatmap --matrixFile ../../data/chipseq_IRF8_degraded/MEF2C_wIRF8ko_mat.gz --outFileName ../../data/chipseq_IRF8_degraded/MEF2C_wIRF8ko_mat.pdf --refPointLabel center --legendLocation lower-left --regionsLabel Macs2_Peaks --plotTitle MEF2C_wIRF8ko', returncode=0, stdout=b'', stderr=b'')\n",
      "MEF2D_wIRF8ko\n",
      "CompletedProcess(args='computeMatrix reference-point -S ../../data/chipseq_IRF8_degraded/recalib_bigwig/MV411_IRF8_NT_VHL-MEF2D_R1.bw  --referencePoint center --regionsFileName ../../data/chipseq_IRF8_degraded/bwa/mergedLibrary/macs/broadPeak/MV411_IRF8_NT_VHL-MEF2D_R1_peaks.broadPeak --missingDataAsZero --outFileName ../../data/chipseq_IRF8_degraded/MEF2D_wIRF8ko_mat.gz --upstream 3000 --downstream 3000 --numberOfProcessors 8 && plotHeatmap --matrixFile ../../data/chipseq_IRF8_degraded/MEF2D_wIRF8ko_mat.gz --outFileName ../../data/chipseq_IRF8_degraded/MEF2D_wIRF8ko_mat.pdf --refPointLabel center --legendLocation lower-left --regionsLabel Macs2_Peaks --plotTitle MEF2D_wIRF8ko', returncode=0, stdout=b'', stderr=b'')\n",
      "MYC_wIRF8ko\n",
      "CompletedProcess(args='computeMatrix reference-point -S ../../data/chipseq_IRF8_degraded/recalib_bigwig/MV411_IRF8_NT_VHL-MYC_R1.bw  --referencePoint center --regionsFileName ../../data/chipseq_IRF8_degraded/bwa/mergedLibrary/macs/broadPeak/MV411_IRF8_NT_VHL-MYC_R1_peaks.broadPeak --missingDataAsZero --outFileName ../../data/chipseq_IRF8_degraded/MYC_wIRF8ko_mat.gz --upstream 3000 --downstream 3000 --numberOfProcessors 8 && plotHeatmap --matrixFile ../../data/chipseq_IRF8_degraded/MYC_wIRF8ko_mat.gz --outFileName ../../data/chipseq_IRF8_degraded/MYC_wIRF8ko_mat.pdf --refPointLabel center --legendLocation lower-left --regionsLabel Macs2_Peaks --plotTitle MYC_wIRF8ko', returncode=0, stdout=b'', stderr=b'')\n",
      "POLII_total_wIRF8ko\n",
      "CompletedProcess(args='computeMatrix reference-point -S ../../data/chipseq_IRF8_degraded/recalib_bigwig/MV411_IRF8_NT_VHL-POLII_total_R1.bw  --referencePoint center --regionsFileName ../../data/chipseq_IRF8_degraded/bwa/mergedLibrary/macs/broadPeak/MV411_IRF8_NT_VHL-POLII_total_R1_peaks.broadPeak --missingDataAsZero --outFileName ../../data/chipseq_IRF8_degraded/POLII_total_wIRF8ko_mat.gz --upstream 3000 --downstream 3000 --numberOfProcessors 8 && plotHeatmap --matrixFile ../../data/chipseq_IRF8_degraded/POLII_total_wIRF8ko_mat.gz --outFileName ../../data/chipseq_IRF8_degraded/POLII_total_wIRF8ko_mat.pdf --refPointLabel center --legendLocation lower-left --regionsLabel Macs2_Peaks --plotTitle POLII_total_wIRF8ko', returncode=0, stdout=b'', stderr=b'')\n"
     ]
    }
   ],
=======
   "execution_count": null,
   "metadata": {},
   "outputs": [],
>>>>>>> 27d8a8078989e54dae8677a98f941149c164f9e4
   "source": [
    "for i, val in enumerate(bw):\n",
    "    if i <1:\n",
    "        continue\n",
    "    name = names[i-6]+'_wIRF8ko' if i//6 else names[i]+'_DMSO'\n",
    "    print(name)\n",
    "    chip.getPeaksAt(peaks[i], bigwigs = val, bigwignames= name, peaknames=['Macs2_Peaks'], window=3000, folder=\"\", title=name, numthreads=8, refpoint=\"center\", name='../../data/'+project+'/'+name+'_mat.pdf', withDeeptools=True, torecompute=True, legendLoc=\"lower-left\")"
   ]
  },
  {
   "cell_type": "code",
   "execution_count": 271,
   "metadata": {},
   "outputs": [],
   "source": [
    "h.createFoldersFor('../results/'+project+'/plots/scaled/heatmaps/')\n",
    "! cp ../../data/$project/*.pdf ../results/$project/plots/scaled/heatmaps/"
   ]
  },
  {
   "cell_type": "code",
<<<<<<< HEAD
   "execution_count": 272,
   "metadata": {
    "scrolled": true
   },
   "outputs": [
    {
     "data": {
      "text/plain": [
       "['../../data/chipseq_IRF8_degraded/diffPeaks/MV411_IRF8_NT_DMSO-IRF8_R1_treat_pileup_vs_MV411_IRF8_NT_VHL-IRF8_R1_treat_pileup_c3.0_cond1.bed',\n",
       " '../../data/chipseq_IRF8_degraded/diffPeaks/MV411_IRF8_NT_DMSO-MED1_R1_treat_pileup_vs_MV411_IRF8_NT_VHL-MED1_R1_treat_pileup_c3.0_cond1.bed',\n",
       " '../../data/chipseq_IRF8_degraded/diffPeaks/MV411_IRF8_NT_DMSO-MEF2C_R1_treat_pileup_vs_MV411_IRF8_NT_VHL-MEF2C_R1_treat_pileup_c3.0_cond1.bed',\n",
       " '../../data/chipseq_IRF8_degraded/diffPeaks/MV411_IRF8_NT_DMSO-MEF2D_R1_treat_pileup_vs_MV411_IRF8_NT_VHL-MEF2D_R1_treat_pileup_c3.0_cond1.bed',\n",
       " '../../data/chipseq_IRF8_degraded/diffPeaks/MV411_IRF8_NT_DMSO-MYC_R1_treat_pileup_vs_MV411_IRF8_NT_VHL-MYC_R1_treat_pileup_c3.0_cond1.bed',\n",
       " '../../data/chipseq_IRF8_degraded/diffPeaks/MV411_IRF8_NT_DMSO-POLII_total_R1_treat_pileup_vs_MV411_IRF8_NT_VHL-POLII_total_R1_treat_pileup_c3.0_cond1.bed']"
      ]
     },
     "execution_count": 272,
     "metadata": {},
     "output_type": "execute_result"
    }
   ],
=======
   "execution_count": null,
   "metadata": {},
   "outputs": [],
>>>>>>> 27d8a8078989e54dae8677a98f941149c164f9e4
   "source": [
    "cond1peak = ! ls ../../data/$project/diffPeaks/*cond1.bed\n",
    "cond2peak = ! ls ../../data/$project/diffPeaks/*cond2.bed\n",
    "commonpeak = ! ls ../../data/$project/diffPeaks/*common.bed\n",
    "cond1peak"
   ]
  },
  {
   "cell_type": "code",
<<<<<<< HEAD
   "execution_count": 273,
   "metadata": {
    "scrolled": true
   },
   "outputs": [
    {
     "name": "stdout",
     "output_type": "stream",
     "text": [
      "../../data/chipseq_IRF8_degraded/recalib_bigwig/MV411_IRF8_NT_DMSO-IRF8_R1.bw ../../data/chipseq_IRF8_degraded/recalib_bigwig/MV411_IRF8_NT_VHL-IRF8_R1.bw\n",
      "CompletedProcess(args='computeMatrix reference-point -S ../../data/chipseq_IRF8_degraded/recalib_bigwig/MV411_IRF8_NT_DMSO-IRF8_R1.bw ../../data/chipseq_IRF8_degraded/recalib_bigwig/MV411_IRF8_NT_VHL-IRF8_R1.bw  --referencePoint center --regionsFileName ../../data/chipseq_IRF8_degraded/diffPeaks/MV411_IRF8_NT_DMSO-IRF8_R1_treat_pileup_vs_MV411_IRF8_NT_VHL-IRF8_R1_treat_pileup_c3.0_cond1.bed ../../data/chipseq_IRF8_degraded/diffPeaks/MV411_IRF8_NT_DMSO-IRF8_R1_treat_pileup_vs_MV411_IRF8_NT_VHL-IRF8_R1_treat_pileup_c3.0_common.bed ../../data/chipseq_IRF8_degraded/diffPeaks/MV411_IRF8_NT_DMSO-IRF8_R1_treat_pileup_vs_MV411_IRF8_NT_VHL-IRF8_R1_treat_pileup_c3.0_cond2.bed --missingDataAsZero --outFileName ../../data/chipseq_IRF8_degraded/diffPeaks/IRF8_mat.gz --upstream 3000 --downstream 3000 --numberOfProcessors 8 && plotHeatmap --matrixFile ../../data/chipseq_IRF8_degraded/diffPeaks/IRF8_mat.gz --outFileName ../../data/chipseq_IRF8_degraded/diffPeaks/IRF8_mat.pdf --refPointLabel center --regionsLabel DMSO_peaks common VHL_peaks --plotTitle IRF8', returncode=0, stdout=b'', stderr=b'')\n",
      "../../data/chipseq_IRF8_degraded/recalib_bigwig/MV411_IRF8_NT_DMSO-MED1_R1.bw ../../data/chipseq_IRF8_degraded/recalib_bigwig/MV411_IRF8_NT_VHL-MED1_R1.bw\n",
      "CompletedProcess(args='computeMatrix reference-point -S ../../data/chipseq_IRF8_degraded/recalib_bigwig/MV411_IRF8_NT_DMSO-MED1_R1.bw ../../data/chipseq_IRF8_degraded/recalib_bigwig/MV411_IRF8_NT_VHL-MED1_R1.bw  --referencePoint center --regionsFileName ../../data/chipseq_IRF8_degraded/diffPeaks/MV411_IRF8_NT_DMSO-MED1_R1_treat_pileup_vs_MV411_IRF8_NT_VHL-MED1_R1_treat_pileup_c3.0_cond1.bed ../../data/chipseq_IRF8_degraded/diffPeaks/MV411_IRF8_NT_DMSO-MED1_R1_treat_pileup_vs_MV411_IRF8_NT_VHL-MED1_R1_treat_pileup_c3.0_common.bed ../../data/chipseq_IRF8_degraded/diffPeaks/MV411_IRF8_NT_DMSO-MED1_R1_treat_pileup_vs_MV411_IRF8_NT_VHL-MED1_R1_treat_pileup_c3.0_cond2.bed --missingDataAsZero --outFileName ../../data/chipseq_IRF8_degraded/diffPeaks/MED1_mat.gz --upstream 3000 --downstream 3000 --numberOfProcessors 8 && plotHeatmap --matrixFile ../../data/chipseq_IRF8_degraded/diffPeaks/MED1_mat.gz --outFileName ../../data/chipseq_IRF8_degraded/diffPeaks/MED1_mat.pdf --refPointLabel center --regionsLabel DMSO_peaks common VHL_peaks --plotTitle MED1', returncode=0, stdout=b'', stderr=b'')\n",
      "../../data/chipseq_IRF8_degraded/recalib_bigwig/MV411_IRF8_NT_DMSO-MEF2C_R1.bw ../../data/chipseq_IRF8_degraded/recalib_bigwig/MV411_IRF8_NT_VHL-MEF2C_R1.bw\n",
      "CompletedProcess(args='computeMatrix reference-point -S ../../data/chipseq_IRF8_degraded/recalib_bigwig/MV411_IRF8_NT_DMSO-MEF2C_R1.bw ../../data/chipseq_IRF8_degraded/recalib_bigwig/MV411_IRF8_NT_VHL-MEF2C_R1.bw  --referencePoint center --regionsFileName ../../data/chipseq_IRF8_degraded/diffPeaks/MV411_IRF8_NT_DMSO-MEF2C_R1_treat_pileup_vs_MV411_IRF8_NT_VHL-MEF2C_R1_treat_pileup_c3.0_cond1.bed ../../data/chipseq_IRF8_degraded/diffPeaks/MV411_IRF8_NT_DMSO-MEF2C_R1_treat_pileup_vs_MV411_IRF8_NT_VHL-MEF2C_R1_treat_pileup_c3.0_common.bed ../../data/chipseq_IRF8_degraded/diffPeaks/MV411_IRF8_NT_DMSO-MEF2C_R1_treat_pileup_vs_MV411_IRF8_NT_VHL-MEF2C_R1_treat_pileup_c3.0_cond2.bed --missingDataAsZero --outFileName ../../data/chipseq_IRF8_degraded/diffPeaks/MEF2C_mat.gz --upstream 3000 --downstream 3000 --numberOfProcessors 8 && plotHeatmap --matrixFile ../../data/chipseq_IRF8_degraded/diffPeaks/MEF2C_mat.gz --outFileName ../../data/chipseq_IRF8_degraded/diffPeaks/MEF2C_mat.pdf --refPointLabel center --regionsLabel DMSO_peaks common VHL_peaks --plotTitle MEF2C', returncode=0, stdout=b'', stderr=b'')\n",
      "../../data/chipseq_IRF8_degraded/recalib_bigwig/MV411_IRF8_NT_DMSO-MEF2D_R1.bw ../../data/chipseq_IRF8_degraded/recalib_bigwig/MV411_IRF8_NT_VHL-MEF2D_R1.bw\n",
      "CompletedProcess(args='computeMatrix reference-point -S ../../data/chipseq_IRF8_degraded/recalib_bigwig/MV411_IRF8_NT_DMSO-MEF2D_R1.bw ../../data/chipseq_IRF8_degraded/recalib_bigwig/MV411_IRF8_NT_VHL-MEF2D_R1.bw  --referencePoint center --regionsFileName ../../data/chipseq_IRF8_degraded/diffPeaks/MV411_IRF8_NT_DMSO-MEF2D_R1_treat_pileup_vs_MV411_IRF8_NT_VHL-MEF2D_R1_treat_pileup_c3.0_cond1.bed ../../data/chipseq_IRF8_degraded/diffPeaks/MV411_IRF8_NT_DMSO-MEF2D_R1_treat_pileup_vs_MV411_IRF8_NT_VHL-MEF2D_R1_treat_pileup_c3.0_common.bed --missingDataAsZero --outFileName ../../data/chipseq_IRF8_degraded/diffPeaks/MEF2D_mat.gz --upstream 3000 --downstream 3000 --numberOfProcessors 8 && plotHeatmap --matrixFile ../../data/chipseq_IRF8_degraded/diffPeaks/MEF2D_mat.gz --outFileName ../../data/chipseq_IRF8_degraded/diffPeaks/MEF2D_mat.pdf --refPointLabel center --regionsLabel DMSO_peaks common --plotTitle MEF2D', returncode=0, stdout=b'', stderr=b'')\n",
      "../../data/chipseq_IRF8_degraded/recalib_bigwig/MV411_IRF8_NT_DMSO-MYC_R1.bw ../../data/chipseq_IRF8_degraded/recalib_bigwig/MV411_IRF8_NT_VHL-MYC_R1.bw\n",
      "CompletedProcess(args='computeMatrix reference-point -S ../../data/chipseq_IRF8_degraded/recalib_bigwig/MV411_IRF8_NT_DMSO-MYC_R1.bw ../../data/chipseq_IRF8_degraded/recalib_bigwig/MV411_IRF8_NT_VHL-MYC_R1.bw  --referencePoint center --regionsFileName ../../data/chipseq_IRF8_degraded/diffPeaks/MV411_IRF8_NT_DMSO-MYC_R1_treat_pileup_vs_MV411_IRF8_NT_VHL-MYC_R1_treat_pileup_c3.0_cond1.bed ../../data/chipseq_IRF8_degraded/diffPeaks/MV411_IRF8_NT_DMSO-MYC_R1_treat_pileup_vs_MV411_IRF8_NT_VHL-MYC_R1_treat_pileup_c3.0_common.bed ../../data/chipseq_IRF8_degraded/diffPeaks/MV411_IRF8_NT_DMSO-MYC_R1_treat_pileup_vs_MV411_IRF8_NT_VHL-MYC_R1_treat_pileup_c3.0_cond2.bed --missingDataAsZero --outFileName ../../data/chipseq_IRF8_degraded/diffPeaks/MYC_mat.gz --upstream 3000 --downstream 3000 --numberOfProcessors 8 && plotHeatmap --matrixFile ../../data/chipseq_IRF8_degraded/diffPeaks/MYC_mat.gz --outFileName ../../data/chipseq_IRF8_degraded/diffPeaks/MYC_mat.pdf --refPointLabel center --regionsLabel DMSO_peaks common VHL_peaks --plotTitle MYC', returncode=0, stdout=b'', stderr=b'')\n",
      "../../data/chipseq_IRF8_degraded/recalib_bigwig/MV411_IRF8_NT_DMSO-POLII_total_R1.bw ../../data/chipseq_IRF8_degraded/recalib_bigwig/MV411_IRF8_NT_VHL-POLII_total_R1.bw\n",
      "CompletedProcess(args='computeMatrix reference-point -S ../../data/chipseq_IRF8_degraded/recalib_bigwig/MV411_IRF8_NT_DMSO-POLII_total_R1.bw ../../data/chipseq_IRF8_degraded/recalib_bigwig/MV411_IRF8_NT_VHL-POLII_total_R1.bw  --referencePoint center --regionsFileName ../../data/chipseq_IRF8_degraded/diffPeaks/MV411_IRF8_NT_DMSO-POLII_total_R1_treat_pileup_vs_MV411_IRF8_NT_VHL-POLII_total_R1_treat_pileup_c3.0_cond1.bed ../../data/chipseq_IRF8_degraded/diffPeaks/MV411_IRF8_NT_DMSO-POLII_total_R1_treat_pileup_vs_MV411_IRF8_NT_VHL-POLII_total_R1_treat_pileup_c3.0_common.bed --missingDataAsZero --outFileName ../../data/chipseq_IRF8_degraded/diffPeaks/POLII_total_mat.gz --upstream 3000 --downstream 3000 --numberOfProcessors 8 && plotHeatmap --matrixFile ../../data/chipseq_IRF8_degraded/diffPeaks/POLII_total_mat.gz --outFileName ../../data/chipseq_IRF8_degraded/diffPeaks/POLII_total_mat.pdf --refPointLabel center --regionsLabel DMSO_peaks common --plotTitle POLII_total', returncode=0, stdout=b'', stderr=b\"WARNING: Group 'MV411_IRF8_NT_DMSO-POLII_total_R1_treat_pileup_vs_MV411_IRF8_NT_VHL-POLII_total_R1_treat_pileup_c3.0_common.bed' is too small for plotting, you might want to remove it. There will likely be an error message from matplotlib regarding this below.\\n\")\n"
     ]
    }
   ],
=======
   "execution_count": null,
   "metadata": {},
   "outputs": [],
   "source": [
    "names = [\"IRF8\", \"MEF2D\", \"MYB\",\"RUNX1\",\"RUNX1_RUNX2\",\"RUNX2\", \"SPI1\", \"IRF8_v2\", \"MEF2D_v2\", \"MYB_v2\", \"RUNX1_v2\", \"RUNX1_RUNX2_v2\", \"RUNX2_v2\", \"SPI1_v2\"]"
   ]
  },
  {
   "cell_type": "code",
   "execution_count": null,
   "metadata": {},
   "outputs": [],
   "source": [
    "bw"
   ]
  },
  {
   "cell_type": "code",
   "execution_count": null,
   "metadata": {},
   "outputs": [],
   "source": [
    "bw[(6*2)+3]"
   ]
  },
  {
   "cell_type": "code",
   "execution_count": null,
   "metadata": {},
   "outputs": [],
   "source": [
    "int(len(bw[2:])/2)"
   ]
  },
  {
   "cell_type": "code",
   "execution_count": null,
   "metadata": {},
   "outputs": [],
   "source": [
    "bw[round(7/6)]"
   ]
  },
  {
   "cell_type": "code",
   "execution_count": null,
   "metadata": {},
   "outputs": [],
>>>>>>> 27d8a8078989e54dae8677a98f941149c164f9e4
   "source": [
    "for i in range(int(len(bw)/2)):\n",
    "    if i <0:\n",
    "        continue\n",
    "    name1 = bw[i]\n",
    "    name2 = bw[i+6]\n",
    "    peak = [cond1peak[i], commonpeak[i], cond2peak[i]]\n",
    "   # for val in peak:\n",
    "      #  chip.dropWeirdChromosomes(val)\n",
    "    name = names[i]\n",
    "    print(name1,name2)\n",
    "    chip.getPeaksAt(peak, [name1, name2], bigwignames=['DMSO', 'VHL'], peaknames=['DMSO_peaks', 'common', 'VHL_peaks'], window=3000, folder=\"\", title=name, numthreads=8, refpoint=\"center\", name='../../data/'+project+'/diffPeaks/'+name+'_mat.pdf', withDeeptools=True, torecompute=False)"
   ]
  },
  {
   "cell_type": "code",
   "execution_count": 274,
   "metadata": {},
   "outputs": [],
   "source": [
    "! mkdir ../results/$project/plots/scaled/diffPeaks/\n",
    "! cp ../../data/$project/diffPeaks/*.pdf ../results/$project/plots/scaled/diffPeaks/"
   ]
  },
  {
   "cell_type": "markdown",
   "metadata": {},
   "source": [
    "### on unscalled data"
   ]
  },
  {
   "cell_type": "code",
   "execution_count": 275,
   "metadata": {},
   "outputs": [],
   "source": [
    "! mkdir ../../data/$project/diffPeaks_unscaled"
   ]
  },
  {
   "cell_type": "code",
   "execution_count": 276,
   "metadata": {},
   "outputs": [
    {
     "name": "stdout",
     "output_type": "stream",
     "text": [
      "../../data/chipseq_IRF8_degraded/bwa/mergedLibrary/INPUT_R1.mLb.clN.sorted.bam ../../data/chipseq_IRF8_degraded/bwa/mergedLibrary/MV411_IRF8_NT_DMSO-POLII_total_R1.mLb.clN.sorted.bam\n",
      "doing diff from ../../data/chipseq_IRF8_degraded/bwa/mergedLibrary/INPUT_R1.mLb.clN.sorted.bam and ../../data/chipseq_IRF8_degraded/bwa/mergedLibrary/MV411_IRF8_NT_DMSO-POLII_total_R1.mLb.clN.sorted.bam\n",
      "computing the fragment avg size\n",
      "183\n",
      "computing the scaling values\n",
      "b'INFO  @ Thu, 05 Nov 2020 19:18:41: \\n# Command line: callpeak -B -t ../../data/chipseq_IRF8_degraded/bwa/mergedLibrary/INPUT_R1.mLb.clN.sorted.bam -c ../../data/chipseq_IRF8_degraded/bwa/mergedLibrary/INPUT_R1.mLb.clN.sorted.bam --nomodel --extsize 183 -n INPUT_R1 --outdir ../../data/chipseq_IRF8_degraded/diffData_unscaled/ -f BAM\\n# ARGUMENTS LIST:\\n# name = INPUT_R1\\n# format = BAM\\n# ChIP-seq file = [\\'../../data/chipseq_IRF8_degraded/bwa/mergedLibrary/INPUT_R1.mLb.clN.sorted.bam\\']\\n# control file = [\\'../../data/chipseq_IRF8_degraded/bwa/mergedLibrary/INPUT_R1.mLb.clN.sorted.bam\\']\\n# effective genome size = 2.70e+09\\n# band width = 300\\n# model fold = [5, 50]\\n# qvalue cutoff = 5.00e-02\\n# The maximum gap between significant sites is assigned as the read length/tag size.\\n# The minimum length of peaks is assigned as the predicted fragment length \"d\".\\n# Larger dataset will be scaled towards smaller dataset.\\n# Range for calculating regional lambda is: 1000 bps and 10000 bps\\n# Broad region calling is off\\n# Paired-End mode is off\\n \\nINFO  @ Thu, 05 Nov 2020 19:18:41: #1 read tag files... \\nINFO  @ Thu, 05 Nov 2020 19:18:41: #1 read treatment tags... \\nINFO  @ Thu, 05 Nov 2020 19:18:45:  1000000 \\nINFO  @ Thu, 05 Nov 2020 19:18:48:  2000000 \\nINFO  @ Thu, 05 Nov 2020 19:18:52:  3000000 \\nINFO  @ Thu, 05 Nov 2020 19:18:55:  4000000 \\nINFO  @ Thu, 05 Nov 2020 19:18:59:  5000000 \\nINFO  @ Thu, 05 Nov 2020 19:19:03:  6000000 \\nINFO  @ Thu, 05 Nov 2020 19:19:06:  7000000 \\nINFO  @ Thu, 05 Nov 2020 19:19:10:  8000000 \\nINFO  @ Thu, 05 Nov 2020 19:19:13:  9000000 \\nINFO  @ Thu, 05 Nov 2020 19:19:17:  10000000 \\nINFO  @ Thu, 05 Nov 2020 19:19:20:  11000000 \\nINFO  @ Thu, 05 Nov 2020 19:19:24:  12000000 \\nINFO  @ Thu, 05 Nov 2020 19:19:28:  13000000 \\nINFO  @ Thu, 05 Nov 2020 19:19:31:  14000000 \\nINFO  @ Thu, 05 Nov 2020 19:19:35:  15000000 \\nINFO  @ Thu, 05 Nov 2020 19:19:38:  16000000 \\nINFO  @ Thu, 05 Nov 2020 19:19:42:  17000000 \\nINFO  @ Thu, 05 Nov 2020 19:19:46:  18000000 \\nINFO  @ Thu, 05 Nov 2020 19:19:49:  19000000 \\nINFO  @ Thu, 05 Nov 2020 19:19:53:  20000000 \\nINFO  @ Thu, 05 Nov 2020 19:19:56:  21000000 \\nINFO  @ Thu, 05 Nov 2020 19:20:00:  22000000 \\nINFO  @ Thu, 05 Nov 2020 19:20:04:  23000000 \\nINFO  @ Thu, 05 Nov 2020 19:20:07:  24000000 \\nINFO  @ Thu, 05 Nov 2020 19:20:11:  25000000 \\nINFO  @ Thu, 05 Nov 2020 19:20:15:  26000000 \\nINFO  @ Thu, 05 Nov 2020 19:20:18:  27000000 \\nINFO  @ Thu, 05 Nov 2020 19:20:22:  28000000 \\nINFO  @ Thu, 05 Nov 2020 19:20:25:  29000000 \\nINFO  @ Thu, 05 Nov 2020 19:20:29:  30000000 \\nINFO  @ Thu, 05 Nov 2020 19:20:33:  31000000 \\nINFO  @ Thu, 05 Nov 2020 19:20:37:  32000000 \\nINFO  @ Thu, 05 Nov 2020 19:20:40:  33000000 \\nINFO  @ Thu, 05 Nov 2020 19:20:44:  34000000 \\nINFO  @ Thu, 05 Nov 2020 19:20:47:  35000000 \\nINFO  @ Thu, 05 Nov 2020 19:20:51:  36000000 \\nINFO  @ Thu, 05 Nov 2020 19:20:55:  37000000 \\nINFO  @ Thu, 05 Nov 2020 19:20:58:  38000000 \\nINFO  @ Thu, 05 Nov 2020 19:21:02:  39000000 \\nINFO  @ Thu, 05 Nov 2020 19:21:05:  40000000 \\nINFO  @ Thu, 05 Nov 2020 19:21:09:  41000000 \\nINFO  @ Thu, 05 Nov 2020 19:21:13:  42000000 \\nINFO  @ Thu, 05 Nov 2020 19:21:16:  43000000 \\nINFO  @ Thu, 05 Nov 2020 19:21:20:  44000000 \\nINFO  @ Thu, 05 Nov 2020 19:21:24:  45000000 \\nINFO  @ Thu, 05 Nov 2020 19:21:27:  46000000 \\nINFO  @ Thu, 05 Nov 2020 19:21:31:  47000000 \\nINFO  @ Thu, 05 Nov 2020 19:21:34:  48000000 \\nINFO  @ Thu, 05 Nov 2020 19:21:38:  49000000 \\nINFO  @ Thu, 05 Nov 2020 19:21:41:  50000000 \\nINFO  @ Thu, 05 Nov 2020 19:21:45:  51000000 \\nINFO  @ Thu, 05 Nov 2020 19:21:49:  52000000 \\nINFO  @ Thu, 05 Nov 2020 19:21:52:  53000000 \\nINFO  @ Thu, 05 Nov 2020 19:21:56:  54000000 \\nINFO  @ Thu, 05 Nov 2020 19:22:00:  55000000 \\nINFO  @ Thu, 05 Nov 2020 19:22:04:  56000000 \\nINFO  @ Thu, 05 Nov 2020 19:22:08:  57000000 \\nINFO  @ Thu, 05 Nov 2020 19:22:12:  58000000 \\nINFO  @ Thu, 05 Nov 2020 19:22:15:  59000000 \\nINFO  @ Thu, 05 Nov 2020 19:22:19:  60000000 \\nINFO  @ Thu, 05 Nov 2020 19:22:23:  61000000 \\nINFO  @ Thu, 05 Nov 2020 19:22:26:  62000000 \\nINFO  @ Thu, 05 Nov 2020 19:22:30:  63000000 \\nINFO  @ Thu, 05 Nov 2020 19:22:33:  64000000 \\nINFO  @ Thu, 05 Nov 2020 19:22:37:  65000000 \\nINFO  @ Thu, 05 Nov 2020 19:22:41:  66000000 \\nINFO  @ Thu, 05 Nov 2020 19:22:43: 66660890 reads have been read. \\nINFO  @ Thu, 05 Nov 2020 19:22:44: #1.2 read input tags... \\nINFO  @ Thu, 05 Nov 2020 19:22:47:  1000000 \\nINFO  @ Thu, 05 Nov 2020 19:22:51:  2000000 \\nINFO  @ Thu, 05 Nov 2020 19:22:55:  3000000 \\nINFO  @ Thu, 05 Nov 2020 19:22:58:  4000000 \\nINFO  @ Thu, 05 Nov 2020 19:23:02:  5000000 \\nINFO  @ Thu, 05 Nov 2020 19:23:05:  6000000 \\nINFO  @ Thu, 05 Nov 2020 19:23:09:  7000000 \\nINFO  @ Thu, 05 Nov 2020 19:23:12:  8000000 \\nINFO  @ Thu, 05 Nov 2020 19:23:16:  9000000 \\nINFO  @ Thu, 05 Nov 2020 19:23:20:  10000000 \\nINFO  @ Thu, 05 Nov 2020 19:23:23:  11000000 \\nINFO  @ Thu, 05 Nov 2020 19:23:27:  12000000 \\nINFO  @ Thu, 05 Nov 2020 19:23:30:  13000000 \\nINFO  @ Thu, 05 Nov 2020 19:23:34:  14000000 \\nINFO  @ Thu, 05 Nov 2020 19:23:37:  15000000 \\nINFO  @ Thu, 05 Nov 2020 19:23:41:  16000000 \\nINFO  @ Thu, 05 Nov 2020 19:23:45:  17000000 \\nINFO  @ Thu, 05 Nov 2020 19:23:48:  18000000 \\nINFO  @ Thu, 05 Nov 2020 19:23:52:  19000000 \\nINFO  @ Thu, 05 Nov 2020 19:23:55:  20000000 \\nINFO  @ Thu, 05 Nov 2020 19:23:59:  21000000 \\nINFO  @ Thu, 05 Nov 2020 19:24:02:  22000000 \\nINFO  @ Thu, 05 Nov 2020 19:24:06:  23000000 \\nINFO  @ Thu, 05 Nov 2020 19:24:10:  24000000 \\nINFO  @ Thu, 05 Nov 2020 19:24:13:  25000000 \\nINFO  @ Thu, 05 Nov 2020 19:24:17:  26000000 \\nINFO  @ Thu, 05 Nov 2020 19:24:21:  27000000 \\nINFO  @ Thu, 05 Nov 2020 19:24:24:  28000000 \\nINFO  @ Thu, 05 Nov 2020 19:24:28:  29000000 \\nINFO  @ Thu, 05 Nov 2020 19:24:31:  30000000 \\nINFO  @ Thu, 05 Nov 2020 19:24:35:  31000000 \\nINFO  @ Thu, 05 Nov 2020 19:24:38:  32000000 \\nINFO  @ Thu, 05 Nov 2020 19:24:42:  33000000 \\nINFO  @ Thu, 05 Nov 2020 19:24:46:  34000000 \\nINFO  @ Thu, 05 Nov 2020 19:24:49:  35000000 \\nINFO  @ Thu, 05 Nov 2020 19:24:53:  36000000 \\nINFO  @ Thu, 05 Nov 2020 19:24:56:  37000000 \\nINFO  @ Thu, 05 Nov 2020 19:25:00:  38000000 \\nINFO  @ Thu, 05 Nov 2020 19:25:03:  39000000 \\nINFO  @ Thu, 05 Nov 2020 19:25:07:  40000000 \\nINFO  @ Thu, 05 Nov 2020 19:25:11:  41000000 \\nINFO  @ Thu, 05 Nov 2020 19:25:14:  42000000 \\nINFO  @ Thu, 05 Nov 2020 19:25:18:  43000000 \\nINFO  @ Thu, 05 Nov 2020 19:25:21:  44000000 \\nINFO  @ Thu, 05 Nov 2020 19:25:25:  45000000 \\nINFO  @ Thu, 05 Nov 2020 19:25:29:  46000000 \\nINFO  @ Thu, 05 Nov 2020 19:25:32:  47000000 \\nINFO  @ Thu, 05 Nov 2020 19:25:36:  48000000 \\nINFO  @ Thu, 05 Nov 2020 19:25:39:  49000000 \\nINFO  @ Thu, 05 Nov 2020 19:25:43:  50000000 \\nINFO  @ Thu, 05 Nov 2020 19:25:46:  51000000 \\nINFO  @ Thu, 05 Nov 2020 19:25:50:  52000000 \\nINFO  @ Thu, 05 Nov 2020 19:25:54:  53000000 \\nINFO  @ Thu, 05 Nov 2020 19:25:57:  54000000 \\nINFO  @ Thu, 05 Nov 2020 19:26:01:  55000000 \\nINFO  @ Thu, 05 Nov 2020 19:26:04:  56000000 \\nINFO  @ Thu, 05 Nov 2020 19:26:09:  57000000 \\nINFO  @ Thu, 05 Nov 2020 19:26:13:  58000000 \\nINFO  @ Thu, 05 Nov 2020 19:26:16:  59000000 \\nINFO  @ Thu, 05 Nov 2020 19:26:20:  60000000 \\nINFO  @ Thu, 05 Nov 2020 19:26:24:  61000000 \\nINFO  @ Thu, 05 Nov 2020 19:26:27:  62000000 \\nINFO  @ Thu, 05 Nov 2020 19:26:31:  63000000 \\nINFO  @ Thu, 05 Nov 2020 19:26:35:  64000000 \\nINFO  @ Thu, 05 Nov 2020 19:26:38:  65000000 \\nINFO  @ Thu, 05 Nov 2020 19:26:42:  66000000 \\nINFO  @ Thu, 05 Nov 2020 19:26:44: 66660890 reads have been read. \\nINFO  @ Thu, 05 Nov 2020 19:26:45: #1 tag size is determined as 49 bps \\nINFO  @ Thu, 05 Nov 2020 19:26:45: #1 tag size = 49.0 \\nINFO  @ Thu, 05 Nov 2020 19:26:45: #1  total tags in treatment: 66660890 \\nINFO  @ Thu, 05 Nov 2020 19:26:45: #1 user defined the maximum tags... \\nINFO  @ Thu, 05 Nov 2020 19:26:45: #1 filter out redundant tags at the same location and the same strand by allowing at most 1 tag(s) \\nINFO  @ Thu, 05 Nov 2020 19:26:46: #1  tags after filtering in treatment: 65725426 \\nINFO  @ Thu, 05 Nov 2020 19:26:46: #1  Redundant rate of treatment: 0.01 \\nINFO  @ Thu, 05 Nov 2020 19:26:46: #1  total tags in control: 66660890 \\nINFO  @ Thu, 05 Nov 2020 19:26:46: #1 user defined the maximum tags... \\nINFO  @ Thu, 05 Nov 2020 19:26:46: #1 filter out redundant tags at the same location and the same strand by allowing at most 1 tag(s) \\nINFO  @ Thu, 05 Nov 2020 19:26:46: #1  tags after filtering in control: 65725426 \\nINFO  @ Thu, 05 Nov 2020 19:26:46: #1  Redundant rate of control: 0.01 \\nINFO  @ Thu, 05 Nov 2020 19:26:46: #1 finished! \\nINFO  @ Thu, 05 Nov 2020 19:26:46: #2 Build Peak Model... \\nINFO  @ Thu, 05 Nov 2020 19:26:46: #2 Skipped... \\nINFO  @ Thu, 05 Nov 2020 19:26:46: #2 Use 183 as fragment length \\nINFO  @ Thu, 05 Nov 2020 19:26:46: #3 Call peaks... \\nINFO  @ Thu, 05 Nov 2020 19:26:46: #3 Pre-compute pvalue-qvalue table... \\nINFO  @ Thu, 05 Nov 2020 19:32:33: #3 In the peak calling step, the following will be performed simultaneously: \\nINFO  @ Thu, 05 Nov 2020 19:32:33: #3   Write bedGraph files for treatment pileup (after scaling if necessary)... INPUT_R1_treat_pileup.bdg \\nINFO  @ Thu, 05 Nov 2020 19:32:33: #3   Write bedGraph files for control lambda (after scaling if necessary)... INPUT_R1_control_lambda.bdg \\nINFO  @ Thu, 05 Nov 2020 19:32:33: #3   Pileup will be based on sequencing depth in treatment. \\nINFO  @ Thu, 05 Nov 2020 19:32:33: #3 Call peaks for each chromosome... \\nINFO  @ Thu, 05 Nov 2020 19:37:32: #4 Write output xls file... ../../data/chipseq_IRF8_degraded/diffData_unscaled/INPUT_R1_peaks.xls \\nINFO  @ Thu, 05 Nov 2020 19:37:32: #4 Write peak in narrowPeak format file... ../../data/chipseq_IRF8_degraded/diffData_unscaled/INPUT_R1_peaks.narrowPeak \\nINFO  @ Thu, 05 Nov 2020 19:37:32: #4 Write summits bed file... ../../data/chipseq_IRF8_degraded/diffData_unscaled/INPUT_R1_summits.bed \\nINFO  @ Thu, 05 Nov 2020 19:37:32: Done! \\n'\n"
     ]
    },
    {
     "name": "stdout",
     "output_type": "stream",
     "text": [
      "b'INFO  @ Thu, 05 Nov 2020 19:37:33: \\n# Command line: callpeak -B -t ../../data/chipseq_IRF8_degraded/bwa/mergedLibrary/MV411_IRF8_NT_DMSO-POLII_total_R1.mLb.clN.sorted.bam -c ../../data/chipseq_IRF8_degraded/bwa/mergedLibrary/INPUT_R1.mLb.clN.sorted.bam --nomodel --extsize 183 -n MV411_IRF8_NT_DMSO-POLII_total_R1 --outdir ../../data/chipseq_IRF8_degraded/diffData_unscaled/ -f BAM\\n# ARGUMENTS LIST:\\n# name = MV411_IRF8_NT_DMSO-POLII_total_R1\\n# format = BAM\\n# ChIP-seq file = [\\'../../data/chipseq_IRF8_degraded/bwa/mergedLibrary/MV411_IRF8_NT_DMSO-POLII_total_R1.mLb.clN.sorted.bam\\']\\n# control file = [\\'../../data/chipseq_IRF8_degraded/bwa/mergedLibrary/INPUT_R1.mLb.clN.sorted.bam\\']\\n# effective genome size = 2.70e+09\\n# band width = 300\\n# model fold = [5, 50]\\n# qvalue cutoff = 5.00e-02\\n# The maximum gap between significant sites is assigned as the read length/tag size.\\n# The minimum length of peaks is assigned as the predicted fragment length \"d\".\\n# Larger dataset will be scaled towards smaller dataset.\\n# Range for calculating regional lambda is: 1000 bps and 10000 bps\\n# Broad region calling is off\\n# Paired-End mode is off\\n \\nINFO  @ Thu, 05 Nov 2020 19:37:33: #1 read tag files... \\nINFO  @ Thu, 05 Nov 2020 19:37:33: #1 read treatment tags... \\nINFO  @ Thu, 05 Nov 2020 19:37:38:  1000000 \\nINFO  @ Thu, 05 Nov 2020 19:37:42:  2000000 \\nINFO  @ Thu, 05 Nov 2020 19:37:47:  3000000 \\nINFO  @ Thu, 05 Nov 2020 19:37:52:  4000000 \\nINFO  @ Thu, 05 Nov 2020 19:37:57:  5000000 \\nINFO  @ Thu, 05 Nov 2020 19:38:02:  6000000 \\nINFO  @ Thu, 05 Nov 2020 19:38:07:  7000000 \\nINFO  @ Thu, 05 Nov 2020 19:38:11:  8000000 \\nINFO  @ Thu, 05 Nov 2020 19:38:16:  9000000 \\nINFO  @ Thu, 05 Nov 2020 19:38:22:  10000000 \\nINFO  @ Thu, 05 Nov 2020 19:38:27:  11000000 \\nINFO  @ Thu, 05 Nov 2020 19:38:31:  12000000 \\nINFO  @ Thu, 05 Nov 2020 19:38:36:  13000000 \\nINFO  @ Thu, 05 Nov 2020 19:38:41:  14000000 \\nINFO  @ Thu, 05 Nov 2020 19:38:46:  15000000 \\nINFO  @ Thu, 05 Nov 2020 19:38:50:  16000000 \\nINFO  @ Thu, 05 Nov 2020 19:38:55:  17000000 \\nINFO  @ Thu, 05 Nov 2020 19:39:00:  18000000 \\nINFO  @ Thu, 05 Nov 2020 19:39:04:  19000000 \\nINFO  @ Thu, 05 Nov 2020 19:39:05: 19119331 reads have been read. \\nINFO  @ Thu, 05 Nov 2020 19:39:05: #1.2 read input tags... \\nINFO  @ Thu, 05 Nov 2020 19:39:09:  1000000 \\nINFO  @ Thu, 05 Nov 2020 19:39:13:  2000000 \\nINFO  @ Thu, 05 Nov 2020 19:39:16:  3000000 \\nINFO  @ Thu, 05 Nov 2020 19:39:20:  4000000 \\nINFO  @ Thu, 05 Nov 2020 19:39:24:  5000000 \\nINFO  @ Thu, 05 Nov 2020 19:39:27:  6000000 \\nINFO  @ Thu, 05 Nov 2020 19:39:31:  7000000 \\nINFO  @ Thu, 05 Nov 2020 19:39:35:  8000000 \\nINFO  @ Thu, 05 Nov 2020 19:39:38:  9000000 \\nINFO  @ Thu, 05 Nov 2020 19:39:42:  10000000 \\nINFO  @ Thu, 05 Nov 2020 19:39:46:  11000000 \\nINFO  @ Thu, 05 Nov 2020 19:39:49:  12000000 \\nINFO  @ Thu, 05 Nov 2020 19:39:53:  13000000 \\nINFO  @ Thu, 05 Nov 2020 19:39:56:  14000000 \\nINFO  @ Thu, 05 Nov 2020 19:40:00:  15000000 \\nINFO  @ Thu, 05 Nov 2020 19:40:04:  16000000 \\nINFO  @ Thu, 05 Nov 2020 19:40:07:  17000000 \\nINFO  @ Thu, 05 Nov 2020 19:40:11:  18000000 \\nINFO  @ Thu, 05 Nov 2020 19:40:15:  19000000 \\nINFO  @ Thu, 05 Nov 2020 19:40:18:  20000000 \\nINFO  @ Thu, 05 Nov 2020 19:40:22:  21000000 \\nINFO  @ Thu, 05 Nov 2020 19:40:26:  22000000 \\nINFO  @ Thu, 05 Nov 2020 19:40:29:  23000000 \\nINFO  @ Thu, 05 Nov 2020 19:40:33:  24000000 \\nINFO  @ Thu, 05 Nov 2020 19:40:37:  25000000 \\nINFO  @ Thu, 05 Nov 2020 19:40:41:  26000000 \\nINFO  @ Thu, 05 Nov 2020 19:40:44:  27000000 \\nINFO  @ Thu, 05 Nov 2020 19:40:48:  28000000 \\nINFO  @ Thu, 05 Nov 2020 19:40:52:  29000000 \\nINFO  @ Thu, 05 Nov 2020 19:40:55:  30000000 \\nINFO  @ Thu, 05 Nov 2020 19:40:59:  31000000 \\nINFO  @ Thu, 05 Nov 2020 19:41:03:  32000000 \\nINFO  @ Thu, 05 Nov 2020 19:41:06:  33000000 \\nINFO  @ Thu, 05 Nov 2020 19:41:10:  34000000 \\nINFO  @ Thu, 05 Nov 2020 19:41:14:  35000000 \\nINFO  @ Thu, 05 Nov 2020 19:41:17:  36000000 \\nINFO  @ Thu, 05 Nov 2020 19:41:21:  37000000 \\nINFO  @ Thu, 05 Nov 2020 19:41:24:  38000000 \\nINFO  @ Thu, 05 Nov 2020 19:41:28:  39000000 \\nINFO  @ Thu, 05 Nov 2020 19:41:32:  40000000 \\nINFO  @ Thu, 05 Nov 2020 19:41:35:  41000000 \\nINFO  @ Thu, 05 Nov 2020 19:41:39:  42000000 \\nINFO  @ Thu, 05 Nov 2020 19:41:43:  43000000 \\nINFO  @ Thu, 05 Nov 2020 19:41:46:  44000000 \\nINFO  @ Thu, 05 Nov 2020 19:41:50:  45000000 \\nINFO  @ Thu, 05 Nov 2020 19:41:54:  46000000 \\nINFO  @ Thu, 05 Nov 2020 19:41:57:  47000000 \\nINFO  @ Thu, 05 Nov 2020 19:42:01:  48000000 \\nINFO  @ Thu, 05 Nov 2020 19:42:05:  49000000 \\nINFO  @ Thu, 05 Nov 2020 19:42:08:  50000000 \\nINFO  @ Thu, 05 Nov 2020 19:42:12:  51000000 \\nINFO  @ Thu, 05 Nov 2020 19:42:16:  52000000 \\nINFO  @ Thu, 05 Nov 2020 19:42:20:  53000000 \\nINFO  @ Thu, 05 Nov 2020 19:42:24:  54000000 \\nINFO  @ Thu, 05 Nov 2020 19:42:28:  55000000 \\nINFO  @ Thu, 05 Nov 2020 19:42:32:  56000000 \\nINFO  @ Thu, 05 Nov 2020 19:42:35:  57000000 \\nINFO  @ Thu, 05 Nov 2020 19:42:39:  58000000 \\nINFO  @ Thu, 05 Nov 2020 19:42:43:  59000000 \\nINFO  @ Thu, 05 Nov 2020 19:42:47:  60000000 \\nINFO  @ Thu, 05 Nov 2020 19:42:51:  61000000 \\nINFO  @ Thu, 05 Nov 2020 19:42:54:  62000000 \\nINFO  @ Thu, 05 Nov 2020 19:42:58:  63000000 \\nINFO  @ Thu, 05 Nov 2020 19:43:02:  64000000 \\nINFO  @ Thu, 05 Nov 2020 19:43:05:  65000000 \\nINFO  @ Thu, 05 Nov 2020 19:43:09:  66000000 \\nINFO  @ Thu, 05 Nov 2020 19:43:12: 66660890 reads have been read. \\nINFO  @ Thu, 05 Nov 2020 19:43:12: #1 tag size is determined as 90 bps \\nINFO  @ Thu, 05 Nov 2020 19:43:12: #1 tag size = 90.0 \\nINFO  @ Thu, 05 Nov 2020 19:43:12: #1  total tags in treatment: 19119331 \\nINFO  @ Thu, 05 Nov 2020 19:43:12: #1 user defined the maximum tags... \\nINFO  @ Thu, 05 Nov 2020 19:43:12: #1 filter out redundant tags at the same location and the same strand by allowing at most 1 tag(s) \\nINFO  @ Thu, 05 Nov 2020 19:43:12: #1  tags after filtering in treatment: 18826876 \\nINFO  @ Thu, 05 Nov 2020 19:43:12: #1  Redundant rate of treatment: 0.02 \\nINFO  @ Thu, 05 Nov 2020 19:43:12: #1  total tags in control: 66660890 \\nINFO  @ Thu, 05 Nov 2020 19:43:12: #1 user defined the maximum tags... \\nINFO  @ Thu, 05 Nov 2020 19:43:12: #1 filter out redundant tags at the same location and the same strand by allowing at most 1 tag(s) \\nINFO  @ Thu, 05 Nov 2020 19:43:13: #1  tags after filtering in control: 65725426 \\nINFO  @ Thu, 05 Nov 2020 19:43:13: #1  Redundant rate of control: 0.01 \\nINFO  @ Thu, 05 Nov 2020 19:43:13: #1 finished! \\nINFO  @ Thu, 05 Nov 2020 19:43:13: #2 Build Peak Model... \\nINFO  @ Thu, 05 Nov 2020 19:43:13: #2 Skipped... \\nINFO  @ Thu, 05 Nov 2020 19:43:13: #2 Use 183 as fragment length \\nINFO  @ Thu, 05 Nov 2020 19:43:13: #3 Call peaks... \\nINFO  @ Thu, 05 Nov 2020 19:43:13: #3 Pre-compute pvalue-qvalue table... \\nINFO  @ Thu, 05 Nov 2020 19:47:59: #3 In the peak calling step, the following will be performed simultaneously: \\nINFO  @ Thu, 05 Nov 2020 19:47:59: #3   Write bedGraph files for treatment pileup (after scaling if necessary)... MV411_IRF8_NT_DMSO-POLII_total_R1_treat_pileup.bdg \\nINFO  @ Thu, 05 Nov 2020 19:47:59: #3   Write bedGraph files for control lambda (after scaling if necessary)... MV411_IRF8_NT_DMSO-POLII_total_R1_control_lambda.bdg \\nINFO  @ Thu, 05 Nov 2020 19:47:59: #3   Pileup will be based on sequencing depth in treatment. \\nINFO  @ Thu, 05 Nov 2020 19:47:59: #3 Call peaks for each chromosome... \\nINFO  @ Thu, 05 Nov 2020 19:51:31: #4 Write output xls file... ../../data/chipseq_IRF8_degraded/diffData_unscaled/MV411_IRF8_NT_DMSO-POLII_total_R1_peaks.xls \\nINFO  @ Thu, 05 Nov 2020 19:51:31: #4 Write peak in narrowPeak format file... ../../data/chipseq_IRF8_degraded/diffData_unscaled/MV411_IRF8_NT_DMSO-POLII_total_R1_peaks.narrowPeak \\nINFO  @ Thu, 05 Nov 2020 19:51:31: #4 Write summits bed file... ../../data/chipseq_IRF8_degraded/diffData_unscaled/MV411_IRF8_NT_DMSO-POLII_total_R1_summits.bed \\nINFO  @ Thu, 05 Nov 2020 19:51:31: Done! \\n'\n",
      "65725426 18826876\n",
      "doing differential peak binding\n",
      "../../data/chipseq_IRF8_degraded/bwa/mergedLibrary/MV411_IRF8_NT_DMSO-IRF8_R1.mLb.clN.sorted.bam ../../data/chipseq_IRF8_degraded/bwa/mergedLibrary/MV411_IRF8_NT_VHL-IRF8_R1.mLb.clN.sorted.bam\n",
      "doing diff from ../../data/chipseq_IRF8_degraded/bwa/mergedLibrary/MV411_IRF8_NT_DMSO-IRF8_R1.mLb.clN.sorted.bam and ../../data/chipseq_IRF8_degraded/bwa/mergedLibrary/MV411_IRF8_NT_VHL-IRF8_R1.mLb.clN.sorted.bam\n",
      "computing the fragment avg size\n"
     ]
    },
    {
     "name": "stdout",
     "output_type": "stream",
     "text": [
      "200\n",
      "computing the scaling values\n",
      "b'INFO  @ Thu, 05 Nov 2020 20:06:14: \\n# Command line: callpeak -B -t ../../data/chipseq_IRF8_degraded/bwa/mergedLibrary/MV411_IRF8_NT_DMSO-IRF8_R1.mLb.clN.sorted.bam -c ../../data/chipseq_IRF8_degraded/bwa/mergedLibrary/INPUT_R1.mLb.clN.sorted.bam --nomodel --extsize 200 -n MV411_IRF8_NT_DMSO-IRF8_R1 --outdir ../../data/chipseq_IRF8_degraded/diffData_unscaled/ -f BAM\\n# ARGUMENTS LIST:\\n# name = MV411_IRF8_NT_DMSO-IRF8_R1\\n# format = BAM\\n# ChIP-seq file = [\\'../../data/chipseq_IRF8_degraded/bwa/mergedLibrary/MV411_IRF8_NT_DMSO-IRF8_R1.mLb.clN.sorted.bam\\']\\n# control file = [\\'../../data/chipseq_IRF8_degraded/bwa/mergedLibrary/INPUT_R1.mLb.clN.sorted.bam\\']\\n# effective genome size = 2.70e+09\\n# band width = 300\\n# model fold = [5, 50]\\n# qvalue cutoff = 5.00e-02\\n# The maximum gap between significant sites is assigned as the read length/tag size.\\n# The minimum length of peaks is assigned as the predicted fragment length \"d\".\\n# Larger dataset will be scaled towards smaller dataset.\\n# Range for calculating regional lambda is: 1000 bps and 10000 bps\\n# Broad region calling is off\\n# Paired-End mode is off\\n \\nINFO  @ Thu, 05 Nov 2020 20:06:14: #1 read tag files... \\nINFO  @ Thu, 05 Nov 2020 20:06:14: #1 read treatment tags... \\nINFO  @ Thu, 05 Nov 2020 20:06:19:  1000000 \\nINFO  @ Thu, 05 Nov 2020 20:06:23:  2000000 \\nINFO  @ Thu, 05 Nov 2020 20:06:28:  3000000 \\nINFO  @ Thu, 05 Nov 2020 20:06:34:  4000000 \\nINFO  @ Thu, 05 Nov 2020 20:06:38:  5000000 \\nINFO  @ Thu, 05 Nov 2020 20:06:43:  6000000 \\nINFO  @ Thu, 05 Nov 2020 20:06:47:  7000000 \\nINFO  @ Thu, 05 Nov 2020 20:06:52:  8000000 \\nINFO  @ Thu, 05 Nov 2020 20:06:56:  9000000 \\nINFO  @ Thu, 05 Nov 2020 20:07:01:  10000000 \\nINFO  @ Thu, 05 Nov 2020 20:07:06:  11000000 \\nINFO  @ Thu, 05 Nov 2020 20:07:10:  12000000 \\nINFO  @ Thu, 05 Nov 2020 20:07:15:  13000000 \\nINFO  @ Thu, 05 Nov 2020 20:07:19:  14000000 \\nINFO  @ Thu, 05 Nov 2020 20:07:24:  15000000 \\nINFO  @ Thu, 05 Nov 2020 20:07:28:  16000000 \\nINFO  @ Thu, 05 Nov 2020 20:07:29: 16213604 reads have been read. \\nINFO  @ Thu, 05 Nov 2020 20:07:29: #1.2 read input tags... \\nINFO  @ Thu, 05 Nov 2020 20:07:33:  1000000 \\nINFO  @ Thu, 05 Nov 2020 20:07:37:  2000000 \\nINFO  @ Thu, 05 Nov 2020 20:07:41:  3000000 \\nINFO  @ Thu, 05 Nov 2020 20:07:44:  4000000 \\nINFO  @ Thu, 05 Nov 2020 20:07:48:  5000000 \\nINFO  @ Thu, 05 Nov 2020 20:07:52:  6000000 \\nINFO  @ Thu, 05 Nov 2020 20:07:55:  7000000 \\nINFO  @ Thu, 05 Nov 2020 20:07:59:  8000000 \\nINFO  @ Thu, 05 Nov 2020 20:08:03:  9000000 \\nINFO  @ Thu, 05 Nov 2020 20:08:06:  10000000 \\nINFO  @ Thu, 05 Nov 2020 20:08:10:  11000000 \\nINFO  @ Thu, 05 Nov 2020 20:08:14:  12000000 \\nINFO  @ Thu, 05 Nov 2020 20:08:18:  13000000 \\nINFO  @ Thu, 05 Nov 2020 20:08:21:  14000000 \\nINFO  @ Thu, 05 Nov 2020 20:08:25:  15000000 \\nINFO  @ Thu, 05 Nov 2020 20:08:28:  16000000 \\nINFO  @ Thu, 05 Nov 2020 20:08:32:  17000000 \\nINFO  @ Thu, 05 Nov 2020 20:08:36:  18000000 \\nINFO  @ Thu, 05 Nov 2020 20:08:40:  19000000 \\nINFO  @ Thu, 05 Nov 2020 20:08:43:  20000000 \\nINFO  @ Thu, 05 Nov 2020 20:08:47:  21000000 \\nINFO  @ Thu, 05 Nov 2020 20:08:51:  22000000 \\nINFO  @ Thu, 05 Nov 2020 20:08:55:  23000000 \\nINFO  @ Thu, 05 Nov 2020 20:08:58:  24000000 \\nINFO  @ Thu, 05 Nov 2020 20:09:02:  25000000 \\nINFO  @ Thu, 05 Nov 2020 20:09:06:  26000000 \\nINFO  @ Thu, 05 Nov 2020 20:09:09:  27000000 \\nINFO  @ Thu, 05 Nov 2020 20:09:13:  28000000 \\nINFO  @ Thu, 05 Nov 2020 20:09:16:  29000000 \\nINFO  @ Thu, 05 Nov 2020 20:09:20:  30000000 \\nINFO  @ Thu, 05 Nov 2020 20:09:24:  31000000 \\nINFO  @ Thu, 05 Nov 2020 20:09:28:  32000000 \\nINFO  @ Thu, 05 Nov 2020 20:09:31:  33000000 \\nINFO  @ Thu, 05 Nov 2020 20:09:35:  34000000 \\nINFO  @ Thu, 05 Nov 2020 20:09:39:  35000000 \\nINFO  @ Thu, 05 Nov 2020 20:09:42:  36000000 \\nINFO  @ Thu, 05 Nov 2020 20:09:46:  37000000 \\nINFO  @ Thu, 05 Nov 2020 20:09:49:  38000000 \\nINFO  @ Thu, 05 Nov 2020 20:09:53:  39000000 \\nINFO  @ Thu, 05 Nov 2020 20:09:57:  40000000 \\nINFO  @ Thu, 05 Nov 2020 20:10:00:  41000000 \\nINFO  @ Thu, 05 Nov 2020 20:10:04:  42000000 \\nINFO  @ Thu, 05 Nov 2020 20:10:08:  43000000 \\nINFO  @ Thu, 05 Nov 2020 20:10:11:  44000000 \\nINFO  @ Thu, 05 Nov 2020 20:10:15:  45000000 \\nINFO  @ Thu, 05 Nov 2020 20:10:19:  46000000 \\nINFO  @ Thu, 05 Nov 2020 20:10:22:  47000000 \\nINFO  @ Thu, 05 Nov 2020 20:10:26:  48000000 \\nINFO  @ Thu, 05 Nov 2020 20:10:30:  49000000 \\nINFO  @ Thu, 05 Nov 2020 20:10:33:  50000000 \\nINFO  @ Thu, 05 Nov 2020 20:10:38:  51000000 \\nINFO  @ Thu, 05 Nov 2020 20:10:42:  52000000 \\nINFO  @ Thu, 05 Nov 2020 20:10:46:  53000000 \\nINFO  @ Thu, 05 Nov 2020 20:10:49:  54000000 \\nINFO  @ Thu, 05 Nov 2020 20:10:53:  55000000 \\nINFO  @ Thu, 05 Nov 2020 20:10:57:  56000000 \\nINFO  @ Thu, 05 Nov 2020 20:11:00:  57000000 \\nINFO  @ Thu, 05 Nov 2020 20:11:04:  58000000 \\nINFO  @ Thu, 05 Nov 2020 20:11:08:  59000000 \\nINFO  @ Thu, 05 Nov 2020 20:11:12:  60000000 \\nINFO  @ Thu, 05 Nov 2020 20:11:15:  61000000 \\nINFO  @ Thu, 05 Nov 2020 20:11:19:  62000000 \\nINFO  @ Thu, 05 Nov 2020 20:11:23:  63000000 \\nINFO  @ Thu, 05 Nov 2020 20:11:27:  64000000 \\nINFO  @ Thu, 05 Nov 2020 20:11:30:  65000000 \\nINFO  @ Thu, 05 Nov 2020 20:11:34:  66000000 \\nINFO  @ Thu, 05 Nov 2020 20:11:37: 66660890 reads have been read. \\nINFO  @ Thu, 05 Nov 2020 20:11:37: #1 tag size is determined as 88 bps \\nINFO  @ Thu, 05 Nov 2020 20:11:37: #1 tag size = 88.0 \\nINFO  @ Thu, 05 Nov 2020 20:11:37: #1  total tags in treatment: 16213604 \\nINFO  @ Thu, 05 Nov 2020 20:11:37: #1 user defined the maximum tags... \\nINFO  @ Thu, 05 Nov 2020 20:11:37: #1 filter out redundant tags at the same location and the same strand by allowing at most 1 tag(s) \\nINFO  @ Thu, 05 Nov 2020 20:11:37: #1  tags after filtering in treatment: 15127980 \\nINFO  @ Thu, 05 Nov 2020 20:11:37: #1  Redundant rate of treatment: 0.07 \\nINFO  @ Thu, 05 Nov 2020 20:11:37: #1  total tags in control: 66660890 \\nINFO  @ Thu, 05 Nov 2020 20:11:37: #1 user defined the maximum tags... \\nINFO  @ Thu, 05 Nov 2020 20:11:37: #1 filter out redundant tags at the same location and the same strand by allowing at most 1 tag(s) \\nINFO  @ Thu, 05 Nov 2020 20:11:38: #1  tags after filtering in control: 65725426 \\nINFO  @ Thu, 05 Nov 2020 20:11:38: #1  Redundant rate of control: 0.01 \\nINFO  @ Thu, 05 Nov 2020 20:11:38: #1 finished! \\nINFO  @ Thu, 05 Nov 2020 20:11:38: #2 Build Peak Model... \\nINFO  @ Thu, 05 Nov 2020 20:11:38: #2 Skipped... \\nINFO  @ Thu, 05 Nov 2020 20:11:38: #2 Use 200 as fragment length \\nINFO  @ Thu, 05 Nov 2020 20:11:38: #3 Call peaks... \\nINFO  @ Thu, 05 Nov 2020 20:11:38: #3 Pre-compute pvalue-qvalue table... \\nINFO  @ Thu, 05 Nov 2020 20:16:04: #3 In the peak calling step, the following will be performed simultaneously: \\nINFO  @ Thu, 05 Nov 2020 20:16:04: #3   Write bedGraph files for treatment pileup (after scaling if necessary)... MV411_IRF8_NT_DMSO-IRF8_R1_treat_pileup.bdg \\nINFO  @ Thu, 05 Nov 2020 20:16:04: #3   Write bedGraph files for control lambda (after scaling if necessary)... MV411_IRF8_NT_DMSO-IRF8_R1_control_lambda.bdg \\nINFO  @ Thu, 05 Nov 2020 20:16:04: #3   Pileup will be based on sequencing depth in treatment. \\nINFO  @ Thu, 05 Nov 2020 20:16:04: #3 Call peaks for each chromosome... \\nINFO  @ Thu, 05 Nov 2020 20:19:39: #4 Write output xls file... ../../data/chipseq_IRF8_degraded/diffData_unscaled/MV411_IRF8_NT_DMSO-IRF8_R1_peaks.xls \\nINFO  @ Thu, 05 Nov 2020 20:19:40: #4 Write peak in narrowPeak format file... ../../data/chipseq_IRF8_degraded/diffData_unscaled/MV411_IRF8_NT_DMSO-IRF8_R1_peaks.narrowPeak \\nINFO  @ Thu, 05 Nov 2020 20:19:40: #4 Write summits bed file... ../../data/chipseq_IRF8_degraded/diffData_unscaled/MV411_IRF8_NT_DMSO-IRF8_R1_summits.bed \\nINFO  @ Thu, 05 Nov 2020 20:19:40: Done! \\n'\n",
      "b'INFO  @ Thu, 05 Nov 2020 20:19:40: \\n# Command line: callpeak -B -t ../../data/chipseq_IRF8_degraded/bwa/mergedLibrary/MV411_IRF8_NT_VHL-IRF8_R1.mLb.clN.sorted.bam -c ../../data/chipseq_IRF8_degraded/bwa/mergedLibrary/INPUT_R1.mLb.clN.sorted.bam --nomodel --extsize 200 -n MV411_IRF8_NT_VHL-IRF8_R1 --outdir ../../data/chipseq_IRF8_degraded/diffData_unscaled/ -f BAM\\n# ARGUMENTS LIST:\\n# name = MV411_IRF8_NT_VHL-IRF8_R1\\n# format = BAM\\n# ChIP-seq file = [\\'../../data/chipseq_IRF8_degraded/bwa/mergedLibrary/MV411_IRF8_NT_VHL-IRF8_R1.mLb.clN.sorted.bam\\']\\n# control file = [\\'../../data/chipseq_IRF8_degraded/bwa/mergedLibrary/INPUT_R1.mLb.clN.sorted.bam\\']\\n# effective genome size = 2.70e+09\\n# band width = 300\\n# model fold = [5, 50]\\n# qvalue cutoff = 5.00e-02\\n# The maximum gap between significant sites is assigned as the read length/tag size.\\n# The minimum length of peaks is assigned as the predicted fragment length \"d\".\\n# Larger dataset will be scaled towards smaller dataset.\\n# Range for calculating regional lambda is: 1000 bps and 10000 bps\\n# Broad region calling is off\\n# Paired-End mode is off\\n \\nINFO  @ Thu, 05 Nov 2020 20:19:40: #1 read tag files... \\nINFO  @ Thu, 05 Nov 2020 20:19:40: #1 read treatment tags... \\nINFO  @ Thu, 05 Nov 2020 20:19:45:  1000000 \\nINFO  @ Thu, 05 Nov 2020 20:19:50:  2000000 \\nINFO  @ Thu, 05 Nov 2020 20:19:55:  3000000 \\nINFO  @ Thu, 05 Nov 2020 20:19:59:  4000000 \\nINFO  @ Thu, 05 Nov 2020 20:20:04:  5000000 \\nINFO  @ Thu, 05 Nov 2020 20:20:09:  6000000 \\nINFO  @ Thu, 05 Nov 2020 20:20:14:  7000000 \\nINFO  @ Thu, 05 Nov 2020 20:20:19:  8000000 \\nINFO  @ Thu, 05 Nov 2020 20:20:23:  9000000 \\nINFO  @ Thu, 05 Nov 2020 20:20:28:  10000000 \\nINFO  @ Thu, 05 Nov 2020 20:20:33:  11000000 \\nINFO  @ Thu, 05 Nov 2020 20:20:38:  12000000 \\nINFO  @ Thu, 05 Nov 2020 20:20:43:  13000000 \\nINFO  @ Thu, 05 Nov 2020 20:20:47:  14000000 \\nINFO  @ Thu, 05 Nov 2020 20:20:52:  15000000 \\nINFO  @ Thu, 05 Nov 2020 20:20:56: 15766460 reads have been read. \\nINFO  @ Thu, 05 Nov 2020 20:20:56: #1.2 read input tags... \\nINFO  @ Thu, 05 Nov 2020 20:21:00:  1000000 \\nINFO  @ Thu, 05 Nov 2020 20:21:03:  2000000 \\nINFO  @ Thu, 05 Nov 2020 20:21:07:  3000000 \\nINFO  @ Thu, 05 Nov 2020 20:21:11:  4000000 \\nINFO  @ Thu, 05 Nov 2020 20:21:14:  5000000 \\nINFO  @ Thu, 05 Nov 2020 20:21:18:  6000000 \\nINFO  @ Thu, 05 Nov 2020 20:21:21:  7000000 \\nINFO  @ Thu, 05 Nov 2020 20:21:25:  8000000 \\nINFO  @ Thu, 05 Nov 2020 20:21:29:  9000000 \\nINFO  @ Thu, 05 Nov 2020 20:21:32:  10000000 \\nINFO  @ Thu, 05 Nov 2020 20:21:36:  11000000 \\nINFO  @ Thu, 05 Nov 2020 20:21:40:  12000000 \\nINFO  @ Thu, 05 Nov 2020 20:21:43:  13000000 \\nINFO  @ Thu, 05 Nov 2020 20:21:47:  14000000 \\nINFO  @ Thu, 05 Nov 2020 20:21:51:  15000000 \\nINFO  @ Thu, 05 Nov 2020 20:21:54:  16000000 \\nINFO  @ Thu, 05 Nov 2020 20:21:58:  17000000 \\nINFO  @ Thu, 05 Nov 2020 20:22:01:  18000000 \\nINFO  @ Thu, 05 Nov 2020 20:22:05:  19000000 \\nINFO  @ Thu, 05 Nov 2020 20:22:09:  20000000 \\nINFO  @ Thu, 05 Nov 2020 20:22:12:  21000000 \\nINFO  @ Thu, 05 Nov 2020 20:22:16:  22000000 \\nINFO  @ Thu, 05 Nov 2020 20:22:19:  23000000 \\nINFO  @ Thu, 05 Nov 2020 20:22:23:  24000000 \\nINFO  @ Thu, 05 Nov 2020 20:22:27:  25000000 \\nINFO  @ Thu, 05 Nov 2020 20:22:30:  26000000 \\nINFO  @ Thu, 05 Nov 2020 20:22:34:  27000000 \\nINFO  @ Thu, 05 Nov 2020 20:22:37:  28000000 \\nINFO  @ Thu, 05 Nov 2020 20:22:41:  29000000 \\nINFO  @ Thu, 05 Nov 2020 20:22:45:  30000000 \\nINFO  @ Thu, 05 Nov 2020 20:22:49:  31000000 \\nINFO  @ Thu, 05 Nov 2020 20:22:54:  32000000 \\nINFO  @ Thu, 05 Nov 2020 20:22:58:  33000000 \\nINFO  @ Thu, 05 Nov 2020 20:23:01:  34000000 \\nINFO  @ Thu, 05 Nov 2020 20:23:05:  35000000 \\nINFO  @ Thu, 05 Nov 2020 20:23:08:  36000000 \\nINFO  @ Thu, 05 Nov 2020 20:23:12:  37000000 \\nINFO  @ Thu, 05 Nov 2020 20:23:15:  38000000 \\nINFO  @ Thu, 05 Nov 2020 20:23:19:  39000000 \\nINFO  @ Thu, 05 Nov 2020 20:23:23:  40000000 \\nINFO  @ Thu, 05 Nov 2020 20:23:26:  41000000 \\nINFO  @ Thu, 05 Nov 2020 20:23:30:  42000000 \\nINFO  @ Thu, 05 Nov 2020 20:23:34:  43000000 \\nINFO  @ Thu, 05 Nov 2020 20:23:37:  44000000 \\nINFO  @ Thu, 05 Nov 2020 20:23:41:  45000000 \\nINFO  @ Thu, 05 Nov 2020 20:23:45:  46000000 \\nINFO  @ Thu, 05 Nov 2020 20:23:49:  47000000 \\nINFO  @ Thu, 05 Nov 2020 20:23:52:  48000000 \\nINFO  @ Thu, 05 Nov 2020 20:23:56:  49000000 \\nINFO  @ Thu, 05 Nov 2020 20:23:59:  50000000 \\nINFO  @ Thu, 05 Nov 2020 20:24:03:  51000000 \\nINFO  @ Thu, 05 Nov 2020 20:24:07:  52000000 \\nINFO  @ Thu, 05 Nov 2020 20:24:11:  53000000 \\nINFO  @ Thu, 05 Nov 2020 20:24:14:  54000000 \\nINFO  @ Thu, 05 Nov 2020 20:24:18:  55000000 \\nINFO  @ Thu, 05 Nov 2020 20:24:22:  56000000 \\nINFO  @ Thu, 05 Nov 2020 20:24:25:  57000000 \\nINFO  @ Thu, 05 Nov 2020 20:24:29:  58000000 \\nINFO  @ Thu, 05 Nov 2020 20:24:33:  59000000 \\nINFO  @ Thu, 05 Nov 2020 20:24:36:  60000000 \\nINFO  @ Thu, 05 Nov 2020 20:24:40:  61000000 \\nINFO  @ Thu, 05 Nov 2020 20:24:44:  62000000 \\nINFO  @ Thu, 05 Nov 2020 20:24:47:  63000000 \\nINFO  @ Thu, 05 Nov 2020 20:24:51:  64000000 \\nINFO  @ Thu, 05 Nov 2020 20:24:54:  65000000 \\nINFO  @ Thu, 05 Nov 2020 20:24:58:  66000000 \\nINFO  @ Thu, 05 Nov 2020 20:25:01: 66660890 reads have been read. \\nINFO  @ Thu, 05 Nov 2020 20:25:01: #1 tag size is determined as 91 bps \\nINFO  @ Thu, 05 Nov 2020 20:25:01: #1 tag size = 91.0 \\nINFO  @ Thu, 05 Nov 2020 20:25:01: #1  total tags in treatment: 15766460 \\nINFO  @ Thu, 05 Nov 2020 20:25:01: #1 user defined the maximum tags... \\nINFO  @ Thu, 05 Nov 2020 20:25:01: #1 filter out redundant tags at the same location and the same strand by allowing at most 1 tag(s) \\nINFO  @ Thu, 05 Nov 2020 20:25:01: #1  tags after filtering in treatment: 15467624 \\nINFO  @ Thu, 05 Nov 2020 20:25:01: #1  Redundant rate of treatment: 0.02 \\nINFO  @ Thu, 05 Nov 2020 20:25:01: #1  total tags in control: 66660890 \\nINFO  @ Thu, 05 Nov 2020 20:25:01: #1 user defined the maximum tags... \\nINFO  @ Thu, 05 Nov 2020 20:25:01: #1 filter out redundant tags at the same location and the same strand by allowing at most 1 tag(s) \\nINFO  @ Thu, 05 Nov 2020 20:25:02: #1  tags after filtering in control: 65725426 \\nINFO  @ Thu, 05 Nov 2020 20:25:02: #1  Redundant rate of control: 0.01 \\nINFO  @ Thu, 05 Nov 2020 20:25:02: #1 finished! \\nINFO  @ Thu, 05 Nov 2020 20:25:02: #2 Build Peak Model... \\nINFO  @ Thu, 05 Nov 2020 20:25:02: #2 Skipped... \\nINFO  @ Thu, 05 Nov 2020 20:25:02: #2 Use 200 as fragment length \\nINFO  @ Thu, 05 Nov 2020 20:25:02: #3 Call peaks... \\nINFO  @ Thu, 05 Nov 2020 20:25:02: #3 Pre-compute pvalue-qvalue table... \\nINFO  @ Thu, 05 Nov 2020 20:29:45: #3 In the peak calling step, the following will be performed simultaneously: \\nINFO  @ Thu, 05 Nov 2020 20:29:45: #3   Write bedGraph files for treatment pileup (after scaling if necessary)... MV411_IRF8_NT_VHL-IRF8_R1_treat_pileup.bdg \\nINFO  @ Thu, 05 Nov 2020 20:29:45: #3   Write bedGraph files for control lambda (after scaling if necessary)... MV411_IRF8_NT_VHL-IRF8_R1_control_lambda.bdg \\nINFO  @ Thu, 05 Nov 2020 20:29:45: #3   Pileup will be based on sequencing depth in treatment. \\nINFO  @ Thu, 05 Nov 2020 20:29:45: #3 Call peaks for each chromosome... \\nINFO  @ Thu, 05 Nov 2020 20:33:10: #4 Write output xls file... ../../data/chipseq_IRF8_degraded/diffData_unscaled/MV411_IRF8_NT_VHL-IRF8_R1_peaks.xls \\nINFO  @ Thu, 05 Nov 2020 20:33:10: #4 Write peak in narrowPeak format file... ../../data/chipseq_IRF8_degraded/diffData_unscaled/MV411_IRF8_NT_VHL-IRF8_R1_peaks.narrowPeak \\nINFO  @ Thu, 05 Nov 2020 20:33:10: #4 Write summits bed file... ../../data/chipseq_IRF8_degraded/diffData_unscaled/MV411_IRF8_NT_VHL-IRF8_R1_summits.bed \\nINFO  @ Thu, 05 Nov 2020 20:33:10: Done! \\n'\n",
      "15127980 15467624\n",
      "doing differential peak binding\n"
     ]
    },
    {
     "name": "stdout",
     "output_type": "stream",
     "text": [
      "../../data/chipseq_IRF8_degraded/bwa/mergedLibrary/MV411_IRF8_NT_DMSO-MED1_R1.mLb.clN.sorted.bam ../../data/chipseq_IRF8_degraded/bwa/mergedLibrary/MV411_IRF8_NT_VHL-MED1_R1.mLb.clN.sorted.bam\n",
      "doing diff from ../../data/chipseq_IRF8_degraded/bwa/mergedLibrary/MV411_IRF8_NT_DMSO-MED1_R1.mLb.clN.sorted.bam and ../../data/chipseq_IRF8_degraded/bwa/mergedLibrary/MV411_IRF8_NT_VHL-MED1_R1.mLb.clN.sorted.bam\n",
      "computing the fragment avg size\n",
      "212\n",
      "computing the scaling values\n",
      "b'INFO  @ Thu, 05 Nov 2020 20:44:32: \\n# Command line: callpeak -B -t ../../data/chipseq_IRF8_degraded/bwa/mergedLibrary/MV411_IRF8_NT_DMSO-MED1_R1.mLb.clN.sorted.bam -c ../../data/chipseq_IRF8_degraded/bwa/mergedLibrary/INPUT_R1.mLb.clN.sorted.bam --nomodel --extsize 212 -n MV411_IRF8_NT_DMSO-MED1_R1 --outdir ../../data/chipseq_IRF8_degraded/diffData_unscaled/ -f BAM\\n# ARGUMENTS LIST:\\n# name = MV411_IRF8_NT_DMSO-MED1_R1\\n# format = BAM\\n# ChIP-seq file = [\\'../../data/chipseq_IRF8_degraded/bwa/mergedLibrary/MV411_IRF8_NT_DMSO-MED1_R1.mLb.clN.sorted.bam\\']\\n# control file = [\\'../../data/chipseq_IRF8_degraded/bwa/mergedLibrary/INPUT_R1.mLb.clN.sorted.bam\\']\\n# effective genome size = 2.70e+09\\n# band width = 300\\n# model fold = [5, 50]\\n# qvalue cutoff = 5.00e-02\\n# The maximum gap between significant sites is assigned as the read length/tag size.\\n# The minimum length of peaks is assigned as the predicted fragment length \"d\".\\n# Larger dataset will be scaled towards smaller dataset.\\n# Range for calculating regional lambda is: 1000 bps and 10000 bps\\n# Broad region calling is off\\n# Paired-End mode is off\\n \\nINFO  @ Thu, 05 Nov 2020 20:44:32: #1 read tag files... \\nINFO  @ Thu, 05 Nov 2020 20:44:32: #1 read treatment tags... \\nINFO  @ Thu, 05 Nov 2020 20:44:36:  1000000 \\nINFO  @ Thu, 05 Nov 2020 20:44:41:  2000000 \\nINFO  @ Thu, 05 Nov 2020 20:44:45:  3000000 \\nINFO  @ Thu, 05 Nov 2020 20:44:50:  4000000 \\nINFO  @ Thu, 05 Nov 2020 20:44:55:  5000000 \\nINFO  @ Thu, 05 Nov 2020 20:44:59:  6000000 \\nINFO  @ Thu, 05 Nov 2020 20:45:04:  7000000 \\nINFO  @ Thu, 05 Nov 2020 20:45:09:  8000000 \\nINFO  @ Thu, 05 Nov 2020 20:45:13:  9000000 \\nINFO  @ Thu, 05 Nov 2020 20:45:18:  10000000 \\nINFO  @ Thu, 05 Nov 2020 20:45:22:  11000000 \\nINFO  @ Thu, 05 Nov 2020 20:45:27:  12000000 \\nINFO  @ Thu, 05 Nov 2020 20:45:32:  13000000 \\nINFO  @ Thu, 05 Nov 2020 20:45:36:  14000000 \\nINFO  @ Thu, 05 Nov 2020 20:45:41:  15000000 \\nINFO  @ Thu, 05 Nov 2020 20:45:46:  16000000 \\nINFO  @ Thu, 05 Nov 2020 20:45:51:  17000000 \\nINFO  @ Thu, 05 Nov 2020 20:45:55:  18000000 \\nINFO  @ Thu, 05 Nov 2020 20:46:00:  19000000 \\nINFO  @ Thu, 05 Nov 2020 20:46:04:  20000000 \\nINFO  @ Thu, 05 Nov 2020 20:46:08: 20739878 reads have been read. \\nINFO  @ Thu, 05 Nov 2020 20:46:08: #1.2 read input tags... \\nINFO  @ Thu, 05 Nov 2020 20:46:12:  1000000 \\nINFO  @ Thu, 05 Nov 2020 20:46:16:  2000000 \\nINFO  @ Thu, 05 Nov 2020 20:46:19:  3000000 \\nINFO  @ Thu, 05 Nov 2020 20:46:23:  4000000 \\nINFO  @ Thu, 05 Nov 2020 20:46:27:  5000000 \\nINFO  @ Thu, 05 Nov 2020 20:46:30:  6000000 \\nINFO  @ Thu, 05 Nov 2020 20:46:34:  7000000 \\nINFO  @ Thu, 05 Nov 2020 20:46:38:  8000000 \\nINFO  @ Thu, 05 Nov 2020 20:46:41:  9000000 \\nINFO  @ Thu, 05 Nov 2020 20:46:45:  10000000 \\nINFO  @ Thu, 05 Nov 2020 20:46:49:  11000000 \\nINFO  @ Thu, 05 Nov 2020 20:46:52:  12000000 \\nINFO  @ Thu, 05 Nov 2020 20:46:56:  13000000 \\nINFO  @ Thu, 05 Nov 2020 20:46:59:  14000000 \\nINFO  @ Thu, 05 Nov 2020 20:47:03:  15000000 \\nINFO  @ Thu, 05 Nov 2020 20:47:07:  16000000 \\nINFO  @ Thu, 05 Nov 2020 20:47:10:  17000000 \\nINFO  @ Thu, 05 Nov 2020 20:47:14:  18000000 \\nINFO  @ Thu, 05 Nov 2020 20:47:18:  19000000 \\nINFO  @ Thu, 05 Nov 2020 20:47:21:  20000000 \\nINFO  @ Thu, 05 Nov 2020 20:47:25:  21000000 \\nINFO  @ Thu, 05 Nov 2020 20:47:29:  22000000 \\nINFO  @ Thu, 05 Nov 2020 20:47:32:  23000000 \\nINFO  @ Thu, 05 Nov 2020 20:47:36:  24000000 \\nINFO  @ Thu, 05 Nov 2020 20:47:40:  25000000 \\nINFO  @ Thu, 05 Nov 2020 20:47:43:  26000000 \\nINFO  @ Thu, 05 Nov 2020 20:47:47:  27000000 \\nINFO  @ Thu, 05 Nov 2020 20:47:50:  28000000 \\nINFO  @ Thu, 05 Nov 2020 20:47:54:  29000000 \\nINFO  @ Thu, 05 Nov 2020 20:47:58:  30000000 \\nINFO  @ Thu, 05 Nov 2020 20:48:01:  31000000 \\nINFO  @ Thu, 05 Nov 2020 20:48:05:  32000000 \\nINFO  @ Thu, 05 Nov 2020 20:48:08:  33000000 \\nINFO  @ Thu, 05 Nov 2020 20:48:12:  34000000 \\nINFO  @ Thu, 05 Nov 2020 20:48:15:  35000000 \\nINFO  @ Thu, 05 Nov 2020 20:48:19:  36000000 \\nINFO  @ Thu, 05 Nov 2020 20:48:23:  37000000 \\nINFO  @ Thu, 05 Nov 2020 20:48:26:  38000000 \\nINFO  @ Thu, 05 Nov 2020 20:48:30:  39000000 \\nINFO  @ Thu, 05 Nov 2020 20:48:33:  40000000 \\nINFO  @ Thu, 05 Nov 2020 20:48:37:  41000000 \\nINFO  @ Thu, 05 Nov 2020 20:48:41:  42000000 \\nINFO  @ Thu, 05 Nov 2020 20:48:44:  43000000 \\nINFO  @ Thu, 05 Nov 2020 20:48:49:  44000000 \\nINFO  @ Thu, 05 Nov 2020 20:48:53:  45000000 \\nINFO  @ Thu, 05 Nov 2020 20:48:57:  46000000 \\nINFO  @ Thu, 05 Nov 2020 20:49:00:  47000000 \\nINFO  @ Thu, 05 Nov 2020 20:49:04:  48000000 \\nINFO  @ Thu, 05 Nov 2020 20:49:07:  49000000 \\nINFO  @ Thu, 05 Nov 2020 20:49:11:  50000000 \\nINFO  @ Thu, 05 Nov 2020 20:49:15:  51000000 \\nINFO  @ Thu, 05 Nov 2020 20:49:19:  52000000 \\nINFO  @ Thu, 05 Nov 2020 20:49:22:  53000000 \\nINFO  @ Thu, 05 Nov 2020 20:49:26:  54000000 \\nINFO  @ Thu, 05 Nov 2020 20:49:30:  55000000 \\nINFO  @ Thu, 05 Nov 2020 20:49:33:  56000000 \\nINFO  @ Thu, 05 Nov 2020 20:49:37:  57000000 \\nINFO  @ Thu, 05 Nov 2020 20:49:41:  58000000 \\nINFO  @ Thu, 05 Nov 2020 20:49:44:  59000000 \\nINFO  @ Thu, 05 Nov 2020 20:49:48:  60000000 \\nINFO  @ Thu, 05 Nov 2020 20:49:52:  61000000 \\nINFO  @ Thu, 05 Nov 2020 20:49:55:  62000000 \\nINFO  @ Thu, 05 Nov 2020 20:49:59:  63000000 \\nINFO  @ Thu, 05 Nov 2020 20:50:02:  64000000 \\nINFO  @ Thu, 05 Nov 2020 20:50:06:  65000000 \\nINFO  @ Thu, 05 Nov 2020 20:50:10:  66000000 \\nINFO  @ Thu, 05 Nov 2020 20:50:12: 66660890 reads have been read. \\nINFO  @ Thu, 05 Nov 2020 20:50:13: #1 tag size is determined as 96 bps \\nINFO  @ Thu, 05 Nov 2020 20:50:13: #1 tag size = 96.0 \\nINFO  @ Thu, 05 Nov 2020 20:50:13: #1  total tags in treatment: 20739878 \\nINFO  @ Thu, 05 Nov 2020 20:50:13: #1 user defined the maximum tags... \\nINFO  @ Thu, 05 Nov 2020 20:50:13: #1 filter out redundant tags at the same location and the same strand by allowing at most 1 tag(s) \\nINFO  @ Thu, 05 Nov 2020 20:50:13: #1  tags after filtering in treatment: 20554431 \\nINFO  @ Thu, 05 Nov 2020 20:50:13: #1  Redundant rate of treatment: 0.01 \\nINFO  @ Thu, 05 Nov 2020 20:50:13: #1  total tags in control: 66660890 \\nINFO  @ Thu, 05 Nov 2020 20:50:13: #1 user defined the maximum tags... \\nINFO  @ Thu, 05 Nov 2020 20:50:13: #1 filter out redundant tags at the same location and the same strand by allowing at most 1 tag(s) \\nINFO  @ Thu, 05 Nov 2020 20:50:14: #1  tags after filtering in control: 65725426 \\nINFO  @ Thu, 05 Nov 2020 20:50:14: #1  Redundant rate of control: 0.01 \\nINFO  @ Thu, 05 Nov 2020 20:50:14: #1 finished! \\nINFO  @ Thu, 05 Nov 2020 20:50:14: #2 Build Peak Model... \\nINFO  @ Thu, 05 Nov 2020 20:50:14: #2 Skipped... \\nINFO  @ Thu, 05 Nov 2020 20:50:14: #2 Use 212 as fragment length \\nINFO  @ Thu, 05 Nov 2020 20:50:14: #3 Call peaks... \\nINFO  @ Thu, 05 Nov 2020 20:50:14: #3 Pre-compute pvalue-qvalue table... \\nINFO  @ Thu, 05 Nov 2020 20:54:44: #3 In the peak calling step, the following will be performed simultaneously: \\nINFO  @ Thu, 05 Nov 2020 20:54:44: #3   Write bedGraph files for treatment pileup (after scaling if necessary)... MV411_IRF8_NT_DMSO-MED1_R1_treat_pileup.bdg \\nINFO  @ Thu, 05 Nov 2020 20:54:44: #3   Write bedGraph files for control lambda (after scaling if necessary)... MV411_IRF8_NT_DMSO-MED1_R1_control_lambda.bdg \\nINFO  @ Thu, 05 Nov 2020 20:54:44: #3   Pileup will be based on sequencing depth in treatment. \\nINFO  @ Thu, 05 Nov 2020 20:54:44: #3 Call peaks for each chromosome... \\nINFO  @ Thu, 05 Nov 2020 20:58:12: #4 Write output xls file... ../../data/chipseq_IRF8_degraded/diffData_unscaled/MV411_IRF8_NT_DMSO-MED1_R1_peaks.xls \\nINFO  @ Thu, 05 Nov 2020 20:58:12: #4 Write peak in narrowPeak format file... ../../data/chipseq_IRF8_degraded/diffData_unscaled/MV411_IRF8_NT_DMSO-MED1_R1_peaks.narrowPeak \\nINFO  @ Thu, 05 Nov 2020 20:58:13: #4 Write summits bed file... ../../data/chipseq_IRF8_degraded/diffData_unscaled/MV411_IRF8_NT_DMSO-MED1_R1_summits.bed \\nINFO  @ Thu, 05 Nov 2020 20:58:13: Done! \\n'\n"
     ]
    },
    {
     "name": "stdout",
     "output_type": "stream",
     "text": [
      "b'INFO  @ Thu, 05 Nov 2020 20:58:13: \\n# Command line: callpeak -B -t ../../data/chipseq_IRF8_degraded/bwa/mergedLibrary/MV411_IRF8_NT_VHL-MED1_R1.mLb.clN.sorted.bam -c ../../data/chipseq_IRF8_degraded/bwa/mergedLibrary/INPUT_R1.mLb.clN.sorted.bam --nomodel --extsize 212 -n MV411_IRF8_NT_VHL-MED1_R1 --outdir ../../data/chipseq_IRF8_degraded/diffData_unscaled/ -f BAM\\n# ARGUMENTS LIST:\\n# name = MV411_IRF8_NT_VHL-MED1_R1\\n# format = BAM\\n# ChIP-seq file = [\\'../../data/chipseq_IRF8_degraded/bwa/mergedLibrary/MV411_IRF8_NT_VHL-MED1_R1.mLb.clN.sorted.bam\\']\\n# control file = [\\'../../data/chipseq_IRF8_degraded/bwa/mergedLibrary/INPUT_R1.mLb.clN.sorted.bam\\']\\n# effective genome size = 2.70e+09\\n# band width = 300\\n# model fold = [5, 50]\\n# qvalue cutoff = 5.00e-02\\n# The maximum gap between significant sites is assigned as the read length/tag size.\\n# The minimum length of peaks is assigned as the predicted fragment length \"d\".\\n# Larger dataset will be scaled towards smaller dataset.\\n# Range for calculating regional lambda is: 1000 bps and 10000 bps\\n# Broad region calling is off\\n# Paired-End mode is off\\n \\nINFO  @ Thu, 05 Nov 2020 20:58:13: #1 read tag files... \\nINFO  @ Thu, 05 Nov 2020 20:58:13: #1 read treatment tags... \\nINFO  @ Thu, 05 Nov 2020 20:58:18:  1000000 \\nINFO  @ Thu, 05 Nov 2020 20:58:25:  2000000 \\nINFO  @ Thu, 05 Nov 2020 20:58:29:  3000000 \\nINFO  @ Thu, 05 Nov 2020 20:58:34:  4000000 \\nINFO  @ Thu, 05 Nov 2020 20:58:38:  5000000 \\nINFO  @ Thu, 05 Nov 2020 20:58:43:  6000000 \\nINFO  @ Thu, 05 Nov 2020 20:58:49:  7000000 \\nINFO  @ Thu, 05 Nov 2020 20:58:54:  8000000 \\nINFO  @ Thu, 05 Nov 2020 20:58:58:  9000000 \\nINFO  @ Thu, 05 Nov 2020 20:59:03:  10000000 \\nINFO  @ Thu, 05 Nov 2020 20:59:08:  11000000 \\nINFO  @ Thu, 05 Nov 2020 20:59:13:  12000000 \\nINFO  @ Thu, 05 Nov 2020 20:59:17:  13000000 \\nINFO  @ Thu, 05 Nov 2020 20:59:22:  14000000 \\nINFO  @ Thu, 05 Nov 2020 20:59:26:  15000000 \\nINFO  @ Thu, 05 Nov 2020 20:59:31:  16000000 \\nINFO  @ Thu, 05 Nov 2020 20:59:36:  17000000 \\nINFO  @ Thu, 05 Nov 2020 20:59:40:  18000000 \\nINFO  @ Thu, 05 Nov 2020 20:59:45:  19000000 \\nINFO  @ Thu, 05 Nov 2020 20:59:50:  20000000 \\nINFO  @ Thu, 05 Nov 2020 20:59:54:  21000000 \\nINFO  @ Thu, 05 Nov 2020 20:59:59:  22000000 \\nINFO  @ Thu, 05 Nov 2020 21:00:04:  23000000 \\nINFO  @ Thu, 05 Nov 2020 21:00:08:  24000000 \\nINFO  @ Thu, 05 Nov 2020 21:00:11: 24566660 reads have been read. \\nINFO  @ Thu, 05 Nov 2020 21:00:11: #1.2 read input tags... \\nINFO  @ Thu, 05 Nov 2020 21:00:15:  1000000 \\nINFO  @ Thu, 05 Nov 2020 21:00:19:  2000000 \\nINFO  @ Thu, 05 Nov 2020 21:00:22:  3000000 \\nINFO  @ Thu, 05 Nov 2020 21:00:26:  4000000 \\nINFO  @ Thu, 05 Nov 2020 21:00:30:  5000000 \\nINFO  @ Thu, 05 Nov 2020 21:00:33:  6000000 \\nINFO  @ Thu, 05 Nov 2020 21:00:37:  7000000 \\nINFO  @ Thu, 05 Nov 2020 21:00:41:  8000000 \\nINFO  @ Thu, 05 Nov 2020 21:00:44:  9000000 \\nINFO  @ Thu, 05 Nov 2020 21:00:48:  10000000 \\nINFO  @ Thu, 05 Nov 2020 21:00:52:  11000000 \\nINFO  @ Thu, 05 Nov 2020 21:00:55:  12000000 \\nINFO  @ Thu, 05 Nov 2020 21:00:59:  13000000 \\nINFO  @ Thu, 05 Nov 2020 21:01:03:  14000000 \\nINFO  @ Thu, 05 Nov 2020 21:01:06:  15000000 \\nINFO  @ Thu, 05 Nov 2020 21:01:10:  16000000 \\nINFO  @ Thu, 05 Nov 2020 21:01:14:  17000000 \\nINFO  @ Thu, 05 Nov 2020 21:01:17:  18000000 \\nINFO  @ Thu, 05 Nov 2020 21:01:21:  19000000 \\nINFO  @ Thu, 05 Nov 2020 21:01:24:  20000000 \\nINFO  @ Thu, 05 Nov 2020 21:01:28:  21000000 \\nINFO  @ Thu, 05 Nov 2020 21:01:32:  22000000 \\nINFO  @ Thu, 05 Nov 2020 21:01:35:  23000000 \\nINFO  @ Thu, 05 Nov 2020 21:01:39:  24000000 \\nINFO  @ Thu, 05 Nov 2020 21:01:43:  25000000 \\nINFO  @ Thu, 05 Nov 2020 21:01:46:  26000000 \\nINFO  @ Thu, 05 Nov 2020 21:01:50:  27000000 \\nINFO  @ Thu, 05 Nov 2020 21:01:54:  28000000 \\nINFO  @ Thu, 05 Nov 2020 21:01:57:  29000000 \\nINFO  @ Thu, 05 Nov 2020 21:02:01:  30000000 \\nINFO  @ Thu, 05 Nov 2020 21:02:04:  31000000 \\nINFO  @ Thu, 05 Nov 2020 21:02:08:  32000000 \\nINFO  @ Thu, 05 Nov 2020 21:02:12:  33000000 \\nINFO  @ Thu, 05 Nov 2020 21:02:15:  34000000 \\nINFO  @ Thu, 05 Nov 2020 21:02:19:  35000000 \\nINFO  @ Thu, 05 Nov 2020 21:02:22:  36000000 \\nINFO  @ Thu, 05 Nov 2020 21:02:26:  37000000 \\nINFO  @ Thu, 05 Nov 2020 21:02:30:  38000000 \\nINFO  @ Thu, 05 Nov 2020 21:02:34:  39000000 \\nINFO  @ Thu, 05 Nov 2020 21:02:38:  40000000 \\nINFO  @ Thu, 05 Nov 2020 21:02:41:  41000000 \\nINFO  @ Thu, 05 Nov 2020 21:02:45:  42000000 \\nINFO  @ Thu, 05 Nov 2020 21:02:49:  43000000 \\nINFO  @ Thu, 05 Nov 2020 21:02:52:  44000000 \\nINFO  @ Thu, 05 Nov 2020 21:02:56:  45000000 \\nINFO  @ Thu, 05 Nov 2020 21:03:00:  46000000 \\nINFO  @ Thu, 05 Nov 2020 21:03:04:  47000000 \\nINFO  @ Thu, 05 Nov 2020 21:03:07:  48000000 \\nINFO  @ Thu, 05 Nov 2020 21:03:11:  49000000 \\nINFO  @ Thu, 05 Nov 2020 21:03:15:  50000000 \\nINFO  @ Thu, 05 Nov 2020 21:03:18:  51000000 \\nINFO  @ Thu, 05 Nov 2020 21:03:22:  52000000 \\nINFO  @ Thu, 05 Nov 2020 21:03:26:  53000000 \\nINFO  @ Thu, 05 Nov 2020 21:03:29:  54000000 \\nINFO  @ Thu, 05 Nov 2020 21:03:33:  55000000 \\nINFO  @ Thu, 05 Nov 2020 21:03:37:  56000000 \\nINFO  @ Thu, 05 Nov 2020 21:03:40:  57000000 \\nINFO  @ Thu, 05 Nov 2020 21:03:44:  58000000 \\nINFO  @ Thu, 05 Nov 2020 21:03:47:  59000000 \\nINFO  @ Thu, 05 Nov 2020 21:03:51:  60000000 \\nINFO  @ Thu, 05 Nov 2020 21:03:55:  61000000 \\nINFO  @ Thu, 05 Nov 2020 21:03:58:  62000000 \\nINFO  @ Thu, 05 Nov 2020 21:04:02:  63000000 \\nINFO  @ Thu, 05 Nov 2020 21:04:06:  64000000 \\nINFO  @ Thu, 05 Nov 2020 21:04:09:  65000000 \\nINFO  @ Thu, 05 Nov 2020 21:04:13:  66000000 \\nINFO  @ Thu, 05 Nov 2020 21:04:15: 66660890 reads have been read. \\nINFO  @ Thu, 05 Nov 2020 21:04:16: #1 tag size is determined as 89 bps \\nINFO  @ Thu, 05 Nov 2020 21:04:16: #1 tag size = 89.0 \\nINFO  @ Thu, 05 Nov 2020 21:04:16: #1  total tags in treatment: 24566660 \\nINFO  @ Thu, 05 Nov 2020 21:04:16: #1 user defined the maximum tags... \\nINFO  @ Thu, 05 Nov 2020 21:04:16: #1 filter out redundant tags at the same location and the same strand by allowing at most 1 tag(s) \\nINFO  @ Thu, 05 Nov 2020 21:04:16: #1  tags after filtering in treatment: 24342695 \\nINFO  @ Thu, 05 Nov 2020 21:04:16: #1  Redundant rate of treatment: 0.01 \\nINFO  @ Thu, 05 Nov 2020 21:04:16: #1  total tags in control: 66660890 \\nINFO  @ Thu, 05 Nov 2020 21:04:16: #1 user defined the maximum tags... \\nINFO  @ Thu, 05 Nov 2020 21:04:16: #1 filter out redundant tags at the same location and the same strand by allowing at most 1 tag(s) \\nINFO  @ Thu, 05 Nov 2020 21:04:16: #1  tags after filtering in control: 65725426 \\nINFO  @ Thu, 05 Nov 2020 21:04:16: #1  Redundant rate of control: 0.01 \\nINFO  @ Thu, 05 Nov 2020 21:04:16: #1 finished! \\nINFO  @ Thu, 05 Nov 2020 21:04:16: #2 Build Peak Model... \\nINFO  @ Thu, 05 Nov 2020 21:04:16: #2 Skipped... \\nINFO  @ Thu, 05 Nov 2020 21:04:16: #2 Use 212 as fragment length \\nINFO  @ Thu, 05 Nov 2020 21:04:16: #3 Call peaks... \\nINFO  @ Thu, 05 Nov 2020 21:04:16: #3 Pre-compute pvalue-qvalue table... \\nINFO  @ Thu, 05 Nov 2020 21:09:01: #3 In the peak calling step, the following will be performed simultaneously: \\nINFO  @ Thu, 05 Nov 2020 21:09:01: #3   Write bedGraph files for treatment pileup (after scaling if necessary)... MV411_IRF8_NT_VHL-MED1_R1_treat_pileup.bdg \\nINFO  @ Thu, 05 Nov 2020 21:09:01: #3   Write bedGraph files for control lambda (after scaling if necessary)... MV411_IRF8_NT_VHL-MED1_R1_control_lambda.bdg \\nINFO  @ Thu, 05 Nov 2020 21:09:01: #3   Pileup will be based on sequencing depth in treatment. \\nINFO  @ Thu, 05 Nov 2020 21:09:01: #3 Call peaks for each chromosome... \\nINFO  @ Thu, 05 Nov 2020 21:12:46: #4 Write output xls file... ../../data/chipseq_IRF8_degraded/diffData_unscaled/MV411_IRF8_NT_VHL-MED1_R1_peaks.xls \\nINFO  @ Thu, 05 Nov 2020 21:12:46: #4 Write peak in narrowPeak format file... ../../data/chipseq_IRF8_degraded/diffData_unscaled/MV411_IRF8_NT_VHL-MED1_R1_peaks.narrowPeak \\nINFO  @ Thu, 05 Nov 2020 21:12:46: #4 Write summits bed file... ../../data/chipseq_IRF8_degraded/diffData_unscaled/MV411_IRF8_NT_VHL-MED1_R1_summits.bed \\nINFO  @ Thu, 05 Nov 2020 21:12:46: Done! \\n'\n",
      "20554431 24342695\n",
      "doing differential peak binding\n"
     ]
    },
    {
     "name": "stdout",
     "output_type": "stream",
     "text": [
      "../../data/chipseq_IRF8_degraded/bwa/mergedLibrary/MV411_IRF8_NT_DMSO-MEF2C_R1.mLb.clN.sorted.bam ../../data/chipseq_IRF8_degraded/bwa/mergedLibrary/MV411_IRF8_NT_VHL-MEF2C_R1.mLb.clN.sorted.bam\n",
      "doing diff from ../../data/chipseq_IRF8_degraded/bwa/mergedLibrary/MV411_IRF8_NT_DMSO-MEF2C_R1.mLb.clN.sorted.bam and ../../data/chipseq_IRF8_degraded/bwa/mergedLibrary/MV411_IRF8_NT_VHL-MEF2C_R1.mLb.clN.sorted.bam\n",
      "computing the fragment avg size\n",
      "204\n",
      "computing the scaling values\n",
      "b'INFO  @ Thu, 05 Nov 2020 21:24:16: \\n# Command line: callpeak -B -t ../../data/chipseq_IRF8_degraded/bwa/mergedLibrary/MV411_IRF8_NT_DMSO-MEF2C_R1.mLb.clN.sorted.bam -c ../../data/chipseq_IRF8_degraded/bwa/mergedLibrary/INPUT_R1.mLb.clN.sorted.bam --nomodel --extsize 204 -n MV411_IRF8_NT_DMSO-MEF2C_R1 --outdir ../../data/chipseq_IRF8_degraded/diffData_unscaled/ -f BAM\\n# ARGUMENTS LIST:\\n# name = MV411_IRF8_NT_DMSO-MEF2C_R1\\n# format = BAM\\n# ChIP-seq file = [\\'../../data/chipseq_IRF8_degraded/bwa/mergedLibrary/MV411_IRF8_NT_DMSO-MEF2C_R1.mLb.clN.sorted.bam\\']\\n# control file = [\\'../../data/chipseq_IRF8_degraded/bwa/mergedLibrary/INPUT_R1.mLb.clN.sorted.bam\\']\\n# effective genome size = 2.70e+09\\n# band width = 300\\n# model fold = [5, 50]\\n# qvalue cutoff = 5.00e-02\\n# The maximum gap between significant sites is assigned as the read length/tag size.\\n# The minimum length of peaks is assigned as the predicted fragment length \"d\".\\n# Larger dataset will be scaled towards smaller dataset.\\n# Range for calculating regional lambda is: 1000 bps and 10000 bps\\n# Broad region calling is off\\n# Paired-End mode is off\\n \\nINFO  @ Thu, 05 Nov 2020 21:24:16: #1 read tag files... \\nINFO  @ Thu, 05 Nov 2020 21:24:16: #1 read treatment tags... \\nINFO  @ Thu, 05 Nov 2020 21:24:21:  1000000 \\nINFO  @ Thu, 05 Nov 2020 21:24:25:  2000000 \\nINFO  @ Thu, 05 Nov 2020 21:24:30:  3000000 \\nINFO  @ Thu, 05 Nov 2020 21:24:35:  4000000 \\nINFO  @ Thu, 05 Nov 2020 21:24:39:  5000000 \\nINFO  @ Thu, 05 Nov 2020 21:24:44:  6000000 \\nINFO  @ Thu, 05 Nov 2020 21:24:49:  7000000 \\nINFO  @ Thu, 05 Nov 2020 21:24:53:  8000000 \\nINFO  @ Thu, 05 Nov 2020 21:24:58:  9000000 \\nINFO  @ Thu, 05 Nov 2020 21:25:02:  10000000 \\nINFO  @ Thu, 05 Nov 2020 21:25:07:  11000000 \\nINFO  @ Thu, 05 Nov 2020 21:25:12:  12000000 \\nINFO  @ Thu, 05 Nov 2020 21:25:16:  13000000 \\nINFO  @ Thu, 05 Nov 2020 21:25:21:  14000000 \\nINFO  @ Thu, 05 Nov 2020 21:25:26:  15000000 \\nINFO  @ Thu, 05 Nov 2020 21:25:30:  16000000 \\nINFO  @ Thu, 05 Nov 2020 21:25:35:  17000000 \\nINFO  @ Thu, 05 Nov 2020 21:25:38: 17547907 reads have been read. \\nINFO  @ Thu, 05 Nov 2020 21:25:38: #1.2 read input tags... \\nINFO  @ Thu, 05 Nov 2020 21:25:41:  1000000 \\nINFO  @ Thu, 05 Nov 2020 21:25:45:  2000000 \\nINFO  @ Thu, 05 Nov 2020 21:25:49:  3000000 \\nINFO  @ Thu, 05 Nov 2020 21:25:53:  4000000 \\nINFO  @ Thu, 05 Nov 2020 21:25:56:  5000000 \\nINFO  @ Thu, 05 Nov 2020 21:26:00:  6000000 \\nINFO  @ Thu, 05 Nov 2020 21:26:04:  7000000 \\nINFO  @ Thu, 05 Nov 2020 21:26:07:  8000000 \\nINFO  @ Thu, 05 Nov 2020 21:26:11:  9000000 \\nINFO  @ Thu, 05 Nov 2020 21:26:14:  10000000 \\nINFO  @ Thu, 05 Nov 2020 21:26:18:  11000000 \\nINFO  @ Thu, 05 Nov 2020 21:26:22:  12000000 \\nINFO  @ Thu, 05 Nov 2020 21:26:26:  13000000 \\nINFO  @ Thu, 05 Nov 2020 21:26:29:  14000000 \\nINFO  @ Thu, 05 Nov 2020 21:26:33:  15000000 \\nINFO  @ Thu, 05 Nov 2020 21:26:37:  16000000 \\nINFO  @ Thu, 05 Nov 2020 21:26:40:  17000000 \\nINFO  @ Thu, 05 Nov 2020 21:26:44:  18000000 \\nINFO  @ Thu, 05 Nov 2020 21:26:47:  19000000 \\nINFO  @ Thu, 05 Nov 2020 21:26:51:  20000000 \\nINFO  @ Thu, 05 Nov 2020 21:26:55:  21000000 \\nINFO  @ Thu, 05 Nov 2020 21:26:58:  22000000 \\nINFO  @ Thu, 05 Nov 2020 21:27:02:  23000000 \\nINFO  @ Thu, 05 Nov 2020 21:27:06:  24000000 \\nINFO  @ Thu, 05 Nov 2020 21:27:09:  25000000 \\nINFO  @ Thu, 05 Nov 2020 21:27:13:  26000000 \\nINFO  @ Thu, 05 Nov 2020 21:27:16:  27000000 \\nINFO  @ Thu, 05 Nov 2020 21:27:20:  28000000 \\nINFO  @ Thu, 05 Nov 2020 21:27:24:  29000000 \\nINFO  @ Thu, 05 Nov 2020 21:27:27:  30000000 \\nINFO  @ Thu, 05 Nov 2020 21:27:31:  31000000 \\nINFO  @ Thu, 05 Nov 2020 21:27:35:  32000000 \\nINFO  @ Thu, 05 Nov 2020 21:27:39:  33000000 \\nINFO  @ Thu, 05 Nov 2020 21:27:42:  34000000 \\nINFO  @ Thu, 05 Nov 2020 21:27:46:  35000000 \\nINFO  @ Thu, 05 Nov 2020 21:27:49:  36000000 \\nINFO  @ Thu, 05 Nov 2020 21:27:53:  37000000 \\nINFO  @ Thu, 05 Nov 2020 21:27:56:  38000000 \\nINFO  @ Thu, 05 Nov 2020 21:28:00:  39000000 \\nINFO  @ Thu, 05 Nov 2020 21:28:04:  40000000 \\nINFO  @ Thu, 05 Nov 2020 21:28:07:  41000000 \\nINFO  @ Thu, 05 Nov 2020 21:28:11:  42000000 \\nINFO  @ Thu, 05 Nov 2020 21:28:15:  43000000 \\nINFO  @ Thu, 05 Nov 2020 21:28:18:  44000000 \\nINFO  @ Thu, 05 Nov 2020 21:28:22:  45000000 \\nINFO  @ Thu, 05 Nov 2020 21:28:25:  46000000 \\nINFO  @ Thu, 05 Nov 2020 21:28:29:  47000000 \\nINFO  @ Thu, 05 Nov 2020 21:28:32:  48000000 \\nINFO  @ Thu, 05 Nov 2020 21:28:36:  49000000 \\nINFO  @ Thu, 05 Nov 2020 21:28:39:  50000000 \\nINFO  @ Thu, 05 Nov 2020 21:28:43:  51000000 \\nINFO  @ Thu, 05 Nov 2020 21:28:47:  52000000 \\nINFO  @ Thu, 05 Nov 2020 21:28:51:  53000000 \\nINFO  @ Thu, 05 Nov 2020 21:28:54:  54000000 \\nINFO  @ Thu, 05 Nov 2020 21:28:58:  55000000 \\nINFO  @ Thu, 05 Nov 2020 21:29:01:  56000000 \\nINFO  @ Thu, 05 Nov 2020 21:29:05:  57000000 \\nINFO  @ Thu, 05 Nov 2020 21:29:09:  58000000 \\nINFO  @ Thu, 05 Nov 2020 21:29:12:  59000000 \\nINFO  @ Thu, 05 Nov 2020 21:29:16:  60000000 \\nINFO  @ Thu, 05 Nov 2020 21:29:19:  61000000 \\nINFO  @ Thu, 05 Nov 2020 21:29:23:  62000000 \\nINFO  @ Thu, 05 Nov 2020 21:29:27:  63000000 \\nINFO  @ Thu, 05 Nov 2020 21:29:30:  64000000 \\nINFO  @ Thu, 05 Nov 2020 21:29:34:  65000000 \\nINFO  @ Thu, 05 Nov 2020 21:29:38:  66000000 \\nINFO  @ Thu, 05 Nov 2020 21:29:40: 66660890 reads have been read. \\nINFO  @ Thu, 05 Nov 2020 21:29:41: #1 tag size is determined as 90 bps \\nINFO  @ Thu, 05 Nov 2020 21:29:41: #1 tag size = 90.0 \\nINFO  @ Thu, 05 Nov 2020 21:29:41: #1  total tags in treatment: 17547907 \\nINFO  @ Thu, 05 Nov 2020 21:29:41: #1 user defined the maximum tags... \\nINFO  @ Thu, 05 Nov 2020 21:29:41: #1 filter out redundant tags at the same location and the same strand by allowing at most 1 tag(s) \\nINFO  @ Thu, 05 Nov 2020 21:29:41: #1  tags after filtering in treatment: 17352317 \\nINFO  @ Thu, 05 Nov 2020 21:29:41: #1  Redundant rate of treatment: 0.01 \\nINFO  @ Thu, 05 Nov 2020 21:29:41: #1  total tags in control: 66660890 \\nINFO  @ Thu, 05 Nov 2020 21:29:41: #1 user defined the maximum tags... \\nINFO  @ Thu, 05 Nov 2020 21:29:41: #1 filter out redundant tags at the same location and the same strand by allowing at most 1 tag(s) \\nINFO  @ Thu, 05 Nov 2020 21:29:41: #1  tags after filtering in control: 65725426 \\nINFO  @ Thu, 05 Nov 2020 21:29:41: #1  Redundant rate of control: 0.01 \\nINFO  @ Thu, 05 Nov 2020 21:29:41: #1 finished! \\nINFO  @ Thu, 05 Nov 2020 21:29:41: #2 Build Peak Model... \\nINFO  @ Thu, 05 Nov 2020 21:29:41: #2 Skipped... \\nINFO  @ Thu, 05 Nov 2020 21:29:41: #2 Use 204 as fragment length \\nINFO  @ Thu, 05 Nov 2020 21:29:41: #3 Call peaks... \\nINFO  @ Thu, 05 Nov 2020 21:29:41: #3 Pre-compute pvalue-qvalue table... \\nINFO  @ Thu, 05 Nov 2020 21:34:18: #3 In the peak calling step, the following will be performed simultaneously: \\nINFO  @ Thu, 05 Nov 2020 21:34:18: #3   Write bedGraph files for treatment pileup (after scaling if necessary)... MV411_IRF8_NT_DMSO-MEF2C_R1_treat_pileup.bdg \\nINFO  @ Thu, 05 Nov 2020 21:34:18: #3   Write bedGraph files for control lambda (after scaling if necessary)... MV411_IRF8_NT_DMSO-MEF2C_R1_control_lambda.bdg \\nINFO  @ Thu, 05 Nov 2020 21:34:18: #3   Pileup will be based on sequencing depth in treatment. \\nINFO  @ Thu, 05 Nov 2020 21:34:18: #3 Call peaks for each chromosome... \\nINFO  @ Thu, 05 Nov 2020 21:37:56: #4 Write output xls file... ../../data/chipseq_IRF8_degraded/diffData_unscaled/MV411_IRF8_NT_DMSO-MEF2C_R1_peaks.xls \\nINFO  @ Thu, 05 Nov 2020 21:37:56: #4 Write peak in narrowPeak format file... ../../data/chipseq_IRF8_degraded/diffData_unscaled/MV411_IRF8_NT_DMSO-MEF2C_R1_peaks.narrowPeak \\nINFO  @ Thu, 05 Nov 2020 21:37:56: #4 Write summits bed file... ../../data/chipseq_IRF8_degraded/diffData_unscaled/MV411_IRF8_NT_DMSO-MEF2C_R1_summits.bed \\nINFO  @ Thu, 05 Nov 2020 21:37:56: Done! \\n'\n"
     ]
    },
    {
     "name": "stdout",
     "output_type": "stream",
     "text": [
      "b'INFO  @ Thu, 05 Nov 2020 21:37:57: \\n# Command line: callpeak -B -t ../../data/chipseq_IRF8_degraded/bwa/mergedLibrary/MV411_IRF8_NT_VHL-MEF2C_R1.mLb.clN.sorted.bam -c ../../data/chipseq_IRF8_degraded/bwa/mergedLibrary/INPUT_R1.mLb.clN.sorted.bam --nomodel --extsize 204 -n MV411_IRF8_NT_VHL-MEF2C_R1 --outdir ../../data/chipseq_IRF8_degraded/diffData_unscaled/ -f BAM\\n# ARGUMENTS LIST:\\n# name = MV411_IRF8_NT_VHL-MEF2C_R1\\n# format = BAM\\n# ChIP-seq file = [\\'../../data/chipseq_IRF8_degraded/bwa/mergedLibrary/MV411_IRF8_NT_VHL-MEF2C_R1.mLb.clN.sorted.bam\\']\\n# control file = [\\'../../data/chipseq_IRF8_degraded/bwa/mergedLibrary/INPUT_R1.mLb.clN.sorted.bam\\']\\n# effective genome size = 2.70e+09\\n# band width = 300\\n# model fold = [5, 50]\\n# qvalue cutoff = 5.00e-02\\n# The maximum gap between significant sites is assigned as the read length/tag size.\\n# The minimum length of peaks is assigned as the predicted fragment length \"d\".\\n# Larger dataset will be scaled towards smaller dataset.\\n# Range for calculating regional lambda is: 1000 bps and 10000 bps\\n# Broad region calling is off\\n# Paired-End mode is off\\n \\nINFO  @ Thu, 05 Nov 2020 21:37:57: #1 read tag files... \\nINFO  @ Thu, 05 Nov 2020 21:37:57: #1 read treatment tags... \\nINFO  @ Thu, 05 Nov 2020 21:38:04:  1000000 \\nINFO  @ Thu, 05 Nov 2020 21:38:09:  2000000 \\nINFO  @ Thu, 05 Nov 2020 21:38:14:  3000000 \\nINFO  @ Thu, 05 Nov 2020 21:38:19:  4000000 \\nINFO  @ Thu, 05 Nov 2020 21:38:23:  5000000 \\nINFO  @ Thu, 05 Nov 2020 21:38:28:  6000000 \\nINFO  @ Thu, 05 Nov 2020 21:38:33:  7000000 \\nINFO  @ Thu, 05 Nov 2020 21:38:38:  8000000 \\nINFO  @ Thu, 05 Nov 2020 21:38:43:  9000000 \\nINFO  @ Thu, 05 Nov 2020 21:38:47:  10000000 \\nINFO  @ Thu, 05 Nov 2020 21:38:52:  11000000 \\nINFO  @ Thu, 05 Nov 2020 21:38:57:  12000000 \\nINFO  @ Thu, 05 Nov 2020 21:39:02:  13000000 \\nINFO  @ Thu, 05 Nov 2020 21:39:07:  14000000 \\nINFO  @ Thu, 05 Nov 2020 21:39:11:  15000000 \\nINFO  @ Thu, 05 Nov 2020 21:39:16:  16000000 \\nINFO  @ Thu, 05 Nov 2020 21:39:21:  17000000 \\nINFO  @ Thu, 05 Nov 2020 21:39:23: 17440748 reads have been read. \\nINFO  @ Thu, 05 Nov 2020 21:39:24: #1.2 read input tags... \\nINFO  @ Thu, 05 Nov 2020 21:39:27:  1000000 \\nINFO  @ Thu, 05 Nov 2020 21:39:31:  2000000 \\nINFO  @ Thu, 05 Nov 2020 21:39:35:  3000000 \\nINFO  @ Thu, 05 Nov 2020 21:39:39:  4000000 \\nINFO  @ Thu, 05 Nov 2020 21:39:43:  5000000 \\nINFO  @ Thu, 05 Nov 2020 21:39:46:  6000000 \\nINFO  @ Thu, 05 Nov 2020 21:39:50:  7000000 \\nINFO  @ Thu, 05 Nov 2020 21:39:54:  8000000 \\nINFO  @ Thu, 05 Nov 2020 21:39:58:  9000000 \\nINFO  @ Thu, 05 Nov 2020 21:40:01:  10000000 \\nINFO  @ Thu, 05 Nov 2020 21:40:05:  11000000 \\nINFO  @ Thu, 05 Nov 2020 21:40:09:  12000000 \\nINFO  @ Thu, 05 Nov 2020 21:40:12:  13000000 \\nINFO  @ Thu, 05 Nov 2020 21:40:16:  14000000 \\nINFO  @ Thu, 05 Nov 2020 21:40:20:  15000000 \\nINFO  @ Thu, 05 Nov 2020 21:40:24:  16000000 \\nINFO  @ Thu, 05 Nov 2020 21:40:27:  17000000 \\nINFO  @ Thu, 05 Nov 2020 21:40:31:  18000000 \\nINFO  @ Thu, 05 Nov 2020 21:40:35:  19000000 \\nINFO  @ Thu, 05 Nov 2020 21:40:39:  20000000 \\nINFO  @ Thu, 05 Nov 2020 21:40:43:  21000000 \\nINFO  @ Thu, 05 Nov 2020 21:40:47:  22000000 \\nINFO  @ Thu, 05 Nov 2020 21:40:50:  23000000 \\nINFO  @ Thu, 05 Nov 2020 21:40:54:  24000000 \\nINFO  @ Thu, 05 Nov 2020 21:40:58:  25000000 \\nINFO  @ Thu, 05 Nov 2020 21:41:01:  26000000 \\nINFO  @ Thu, 05 Nov 2020 21:41:05:  27000000 \\nINFO  @ Thu, 05 Nov 2020 21:41:09:  28000000 \\nINFO  @ Thu, 05 Nov 2020 21:41:13:  29000000 \\nINFO  @ Thu, 05 Nov 2020 21:41:16:  30000000 \\nINFO  @ Thu, 05 Nov 2020 21:41:20:  31000000 \\nINFO  @ Thu, 05 Nov 2020 21:41:24:  32000000 \\nINFO  @ Thu, 05 Nov 2020 21:41:28:  33000000 \\nINFO  @ Thu, 05 Nov 2020 21:41:31:  34000000 \\nINFO  @ Thu, 05 Nov 2020 21:41:35:  35000000 \\nINFO  @ Thu, 05 Nov 2020 21:41:39:  36000000 \\nINFO  @ Thu, 05 Nov 2020 21:41:42:  37000000 \\nINFO  @ Thu, 05 Nov 2020 21:41:46:  38000000 \\nINFO  @ Thu, 05 Nov 2020 21:41:50:  39000000 \\nINFO  @ Thu, 05 Nov 2020 21:41:54:  40000000 \\nINFO  @ Thu, 05 Nov 2020 21:41:57:  41000000 \\nINFO  @ Thu, 05 Nov 2020 21:42:01:  42000000 \\nINFO  @ Thu, 05 Nov 2020 21:42:05:  43000000 \\nINFO  @ Thu, 05 Nov 2020 21:42:09:  44000000 \\nINFO  @ Thu, 05 Nov 2020 21:42:12:  45000000 \\nINFO  @ Thu, 05 Nov 2020 21:42:16:  46000000 \\nINFO  @ Thu, 05 Nov 2020 21:42:20:  47000000 \\nINFO  @ Thu, 05 Nov 2020 21:42:23:  48000000 \\nINFO  @ Thu, 05 Nov 2020 21:42:27:  49000000 \\nINFO  @ Thu, 05 Nov 2020 21:42:31:  50000000 \\nINFO  @ Thu, 05 Nov 2020 21:42:35:  51000000 \\nINFO  @ Thu, 05 Nov 2020 21:42:38:  52000000 \\nINFO  @ Thu, 05 Nov 2020 21:42:42:  53000000 \\nINFO  @ Thu, 05 Nov 2020 21:42:46:  54000000 \\nINFO  @ Thu, 05 Nov 2020 21:42:50:  55000000 \\nINFO  @ Thu, 05 Nov 2020 21:42:54:  56000000 \\nINFO  @ Thu, 05 Nov 2020 21:42:58:  57000000 \\nINFO  @ Thu, 05 Nov 2020 21:43:01:  58000000 \\nINFO  @ Thu, 05 Nov 2020 21:43:05:  59000000 \\nINFO  @ Thu, 05 Nov 2020 21:43:09:  60000000 \\nINFO  @ Thu, 05 Nov 2020 21:43:13:  61000000 \\nINFO  @ Thu, 05 Nov 2020 21:43:16:  62000000 \\nINFO  @ Thu, 05 Nov 2020 21:43:20:  63000000 \\nINFO  @ Thu, 05 Nov 2020 21:43:24:  64000000 \\nINFO  @ Thu, 05 Nov 2020 21:43:28:  65000000 \\nINFO  @ Thu, 05 Nov 2020 21:43:31:  66000000 \\nINFO  @ Thu, 05 Nov 2020 21:43:34: 66660890 reads have been read. \\nINFO  @ Thu, 05 Nov 2020 21:43:35: #1 tag size is determined as 87 bps \\nINFO  @ Thu, 05 Nov 2020 21:43:35: #1 tag size = 87.0 \\nINFO  @ Thu, 05 Nov 2020 21:43:35: #1  total tags in treatment: 17440748 \\nINFO  @ Thu, 05 Nov 2020 21:43:35: #1 user defined the maximum tags... \\nINFO  @ Thu, 05 Nov 2020 21:43:35: #1 filter out redundant tags at the same location and the same strand by allowing at most 1 tag(s) \\nINFO  @ Thu, 05 Nov 2020 21:43:35: #1  tags after filtering in treatment: 17238865 \\nINFO  @ Thu, 05 Nov 2020 21:43:35: #1  Redundant rate of treatment: 0.01 \\nINFO  @ Thu, 05 Nov 2020 21:43:35: #1  total tags in control: 66660890 \\nINFO  @ Thu, 05 Nov 2020 21:43:35: #1 user defined the maximum tags... \\nINFO  @ Thu, 05 Nov 2020 21:43:35: #1 filter out redundant tags at the same location and the same strand by allowing at most 1 tag(s) \\nINFO  @ Thu, 05 Nov 2020 21:43:35: #1  tags after filtering in control: 65725426 \\nINFO  @ Thu, 05 Nov 2020 21:43:35: #1  Redundant rate of control: 0.01 \\nINFO  @ Thu, 05 Nov 2020 21:43:35: #1 finished! \\nINFO  @ Thu, 05 Nov 2020 21:43:35: #2 Build Peak Model... \\nINFO  @ Thu, 05 Nov 2020 21:43:35: #2 Skipped... \\nINFO  @ Thu, 05 Nov 2020 21:43:35: #2 Use 204 as fragment length \\nINFO  @ Thu, 05 Nov 2020 21:43:35: #3 Call peaks... \\nINFO  @ Thu, 05 Nov 2020 21:43:35: #3 Pre-compute pvalue-qvalue table... \\nINFO  @ Thu, 05 Nov 2020 21:48:15: #3 In the peak calling step, the following will be performed simultaneously: \\nINFO  @ Thu, 05 Nov 2020 21:48:15: #3   Write bedGraph files for treatment pileup (after scaling if necessary)... MV411_IRF8_NT_VHL-MEF2C_R1_treat_pileup.bdg \\nINFO  @ Thu, 05 Nov 2020 21:48:15: #3   Write bedGraph files for control lambda (after scaling if necessary)... MV411_IRF8_NT_VHL-MEF2C_R1_control_lambda.bdg \\nINFO  @ Thu, 05 Nov 2020 21:48:15: #3   Pileup will be based on sequencing depth in treatment. \\nINFO  @ Thu, 05 Nov 2020 21:48:15: #3 Call peaks for each chromosome... \\nINFO  @ Thu, 05 Nov 2020 21:51:39: #4 Write output xls file... ../../data/chipseq_IRF8_degraded/diffData_unscaled/MV411_IRF8_NT_VHL-MEF2C_R1_peaks.xls \\nINFO  @ Thu, 05 Nov 2020 21:51:39: #4 Write peak in narrowPeak format file... ../../data/chipseq_IRF8_degraded/diffData_unscaled/MV411_IRF8_NT_VHL-MEF2C_R1_peaks.narrowPeak \\nINFO  @ Thu, 05 Nov 2020 21:51:39: #4 Write summits bed file... ../../data/chipseq_IRF8_degraded/diffData_unscaled/MV411_IRF8_NT_VHL-MEF2C_R1_summits.bed \\nINFO  @ Thu, 05 Nov 2020 21:51:39: Done! \\n'\n",
      "17352317 17238865\n",
      "doing differential peak binding\n",
      "../../data/chipseq_IRF8_degraded/bwa/mergedLibrary/MV411_IRF8_NT_DMSO-MEF2D_R1.mLb.clN.sorted.bam ../../data/chipseq_IRF8_degraded/bwa/mergedLibrary/MV411_IRF8_NT_VHL-MEF2D_R1.mLb.clN.sorted.bam\n",
      "doing diff from ../../data/chipseq_IRF8_degraded/bwa/mergedLibrary/MV411_IRF8_NT_DMSO-MEF2D_R1.mLb.clN.sorted.bam and ../../data/chipseq_IRF8_degraded/bwa/mergedLibrary/MV411_IRF8_NT_VHL-MEF2D_R1.mLb.clN.sorted.bam\n",
      "computing the fragment avg size\n"
     ]
    },
    {
     "name": "stdout",
     "output_type": "stream",
     "text": [
      "184\n",
      "computing the scaling values\n",
      "b'INFO  @ Thu, 05 Nov 2020 22:02:35: \\n# Command line: callpeak -B -t ../../data/chipseq_IRF8_degraded/bwa/mergedLibrary/MV411_IRF8_NT_DMSO-MEF2D_R1.mLb.clN.sorted.bam -c ../../data/chipseq_IRF8_degraded/bwa/mergedLibrary/INPUT_R1.mLb.clN.sorted.bam --nomodel --extsize 184 -n MV411_IRF8_NT_DMSO-MEF2D_R1 --outdir ../../data/chipseq_IRF8_degraded/diffData_unscaled/ -f BAM\\n# ARGUMENTS LIST:\\n# name = MV411_IRF8_NT_DMSO-MEF2D_R1\\n# format = BAM\\n# ChIP-seq file = [\\'../../data/chipseq_IRF8_degraded/bwa/mergedLibrary/MV411_IRF8_NT_DMSO-MEF2D_R1.mLb.clN.sorted.bam\\']\\n# control file = [\\'../../data/chipseq_IRF8_degraded/bwa/mergedLibrary/INPUT_R1.mLb.clN.sorted.bam\\']\\n# effective genome size = 2.70e+09\\n# band width = 300\\n# model fold = [5, 50]\\n# qvalue cutoff = 5.00e-02\\n# The maximum gap between significant sites is assigned as the read length/tag size.\\n# The minimum length of peaks is assigned as the predicted fragment length \"d\".\\n# Larger dataset will be scaled towards smaller dataset.\\n# Range for calculating regional lambda is: 1000 bps and 10000 bps\\n# Broad region calling is off\\n# Paired-End mode is off\\n \\nINFO  @ Thu, 05 Nov 2020 22:02:35: #1 read tag files... \\nINFO  @ Thu, 05 Nov 2020 22:02:35: #1 read treatment tags... \\nINFO  @ Thu, 05 Nov 2020 22:02:39:  1000000 \\nINFO  @ Thu, 05 Nov 2020 22:02:44:  2000000 \\nINFO  @ Thu, 05 Nov 2020 22:02:49:  3000000 \\nINFO  @ Thu, 05 Nov 2020 22:02:53:  4000000 \\nINFO  @ Thu, 05 Nov 2020 22:02:58:  5000000 \\nINFO  @ Thu, 05 Nov 2020 22:03:03:  6000000 \\nINFO  @ Thu, 05 Nov 2020 22:03:07:  7000000 \\nINFO  @ Thu, 05 Nov 2020 22:03:12:  8000000 \\nINFO  @ Thu, 05 Nov 2020 22:03:16:  9000000 \\nINFO  @ Thu, 05 Nov 2020 22:03:21:  10000000 \\nINFO  @ Thu, 05 Nov 2020 22:03:26:  11000000 \\nINFO  @ Thu, 05 Nov 2020 22:03:31:  12000000 \\nINFO  @ Thu, 05 Nov 2020 22:03:35:  13000000 \\nINFO  @ Thu, 05 Nov 2020 22:03:40:  14000000 \\nINFO  @ Thu, 05 Nov 2020 22:03:45:  15000000 \\nINFO  @ Thu, 05 Nov 2020 22:03:49:  16000000 \\nINFO  @ Thu, 05 Nov 2020 22:03:54:  17000000 \\nINFO  @ Thu, 05 Nov 2020 22:03:59:  18000000 \\nINFO  @ Thu, 05 Nov 2020 22:03:59: 18046674 reads have been read. \\nINFO  @ Thu, 05 Nov 2020 22:03:59: #1.2 read input tags... \\nINFO  @ Thu, 05 Nov 2020 22:04:03:  1000000 \\nINFO  @ Thu, 05 Nov 2020 22:04:06:  2000000 \\nINFO  @ Thu, 05 Nov 2020 22:04:10:  3000000 \\nINFO  @ Thu, 05 Nov 2020 22:04:14:  4000000 \\nINFO  @ Thu, 05 Nov 2020 22:04:17:  5000000 \\nINFO  @ Thu, 05 Nov 2020 22:04:21:  6000000 \\nINFO  @ Thu, 05 Nov 2020 22:04:24:  7000000 \\nINFO  @ Thu, 05 Nov 2020 22:04:28:  8000000 \\nINFO  @ Thu, 05 Nov 2020 22:04:32:  9000000 \\nINFO  @ Thu, 05 Nov 2020 22:04:35:  10000000 \\nINFO  @ Thu, 05 Nov 2020 22:04:39:  11000000 \\nINFO  @ Thu, 05 Nov 2020 22:04:42:  12000000 \\nINFO  @ Thu, 05 Nov 2020 22:04:46:  13000000 \\nINFO  @ Thu, 05 Nov 2020 22:04:50:  14000000 \\nINFO  @ Thu, 05 Nov 2020 22:04:53:  15000000 \\nINFO  @ Thu, 05 Nov 2020 22:04:57:  16000000 \\nINFO  @ Thu, 05 Nov 2020 22:05:00:  17000000 \\nINFO  @ Thu, 05 Nov 2020 22:05:04:  18000000 \\nINFO  @ Thu, 05 Nov 2020 22:05:08:  19000000 \\nINFO  @ Thu, 05 Nov 2020 22:05:11:  20000000 \\nINFO  @ Thu, 05 Nov 2020 22:05:15:  21000000 \\nINFO  @ Thu, 05 Nov 2020 22:05:18:  22000000 \\nINFO  @ Thu, 05 Nov 2020 22:05:22:  23000000 \\nINFO  @ Thu, 05 Nov 2020 22:05:25:  24000000 \\nINFO  @ Thu, 05 Nov 2020 22:05:29:  25000000 \\nINFO  @ Thu, 05 Nov 2020 22:05:33:  26000000 \\nINFO  @ Thu, 05 Nov 2020 22:05:36:  27000000 \\nINFO  @ Thu, 05 Nov 2020 22:05:40:  28000000 \\nINFO  @ Thu, 05 Nov 2020 22:05:43:  29000000 \\nINFO  @ Thu, 05 Nov 2020 22:05:47:  30000000 \\nINFO  @ Thu, 05 Nov 2020 22:05:50:  31000000 \\nINFO  @ Thu, 05 Nov 2020 22:05:54:  32000000 \\nINFO  @ Thu, 05 Nov 2020 22:05:58:  33000000 \\nINFO  @ Thu, 05 Nov 2020 22:06:01:  34000000 \\nINFO  @ Thu, 05 Nov 2020 22:06:05:  35000000 \\nINFO  @ Thu, 05 Nov 2020 22:06:08:  36000000 \\nINFO  @ Thu, 05 Nov 2020 22:06:12:  37000000 \\nINFO  @ Thu, 05 Nov 2020 22:06:15:  38000000 \\nINFO  @ Thu, 05 Nov 2020 22:06:19:  39000000 \\nINFO  @ Thu, 05 Nov 2020 22:06:23:  40000000 \\nINFO  @ Thu, 05 Nov 2020 22:06:26:  41000000 \\nINFO  @ Thu, 05 Nov 2020 22:06:30:  42000000 \\nINFO  @ Thu, 05 Nov 2020 22:06:33:  43000000 \\nINFO  @ Thu, 05 Nov 2020 22:06:37:  44000000 \\nINFO  @ Thu, 05 Nov 2020 22:06:40:  45000000 \\nINFO  @ Thu, 05 Nov 2020 22:06:44:  46000000 \\nINFO  @ Thu, 05 Nov 2020 22:06:48:  47000000 \\nINFO  @ Thu, 05 Nov 2020 22:06:51:  48000000 \\nINFO  @ Thu, 05 Nov 2020 22:06:55:  49000000 \\nINFO  @ Thu, 05 Nov 2020 22:06:58:  50000000 \\nINFO  @ Thu, 05 Nov 2020 22:07:02:  51000000 \\nINFO  @ Thu, 05 Nov 2020 22:07:06:  52000000 \\nINFO  @ Thu, 05 Nov 2020 22:07:09:  53000000 \\nINFO  @ Thu, 05 Nov 2020 22:07:13:  54000000 \\nINFO  @ Thu, 05 Nov 2020 22:07:17:  55000000 \\nINFO  @ Thu, 05 Nov 2020 22:07:20:  56000000 \\nINFO  @ Thu, 05 Nov 2020 22:07:24:  57000000 \\nINFO  @ Thu, 05 Nov 2020 22:07:28:  58000000 \\nINFO  @ Thu, 05 Nov 2020 22:07:31:  59000000 \\nINFO  @ Thu, 05 Nov 2020 22:07:35:  60000000 \\nINFO  @ Thu, 05 Nov 2020 22:07:38:  61000000 \\nINFO  @ Thu, 05 Nov 2020 22:07:43:  62000000 \\nINFO  @ Thu, 05 Nov 2020 22:07:46:  63000000 \\nINFO  @ Thu, 05 Nov 2020 22:07:50:  64000000 \\nINFO  @ Thu, 05 Nov 2020 22:07:54:  65000000 \\nINFO  @ Thu, 05 Nov 2020 22:07:57:  66000000 \\nINFO  @ Thu, 05 Nov 2020 22:08:00: 66660890 reads have been read. \\nINFO  @ Thu, 05 Nov 2020 22:08:01: #1 tag size is determined as 95 bps \\nINFO  @ Thu, 05 Nov 2020 22:08:01: #1 tag size = 95.0 \\nINFO  @ Thu, 05 Nov 2020 22:08:01: #1  total tags in treatment: 18046674 \\nINFO  @ Thu, 05 Nov 2020 22:08:01: #1 user defined the maximum tags... \\nINFO  @ Thu, 05 Nov 2020 22:08:01: #1 filter out redundant tags at the same location and the same strand by allowing at most 1 tag(s) \\nINFO  @ Thu, 05 Nov 2020 22:08:01: #1  tags after filtering in treatment: 17887183 \\nINFO  @ Thu, 05 Nov 2020 22:08:01: #1  Redundant rate of treatment: 0.01 \\nINFO  @ Thu, 05 Nov 2020 22:08:01: #1  total tags in control: 66660890 \\nINFO  @ Thu, 05 Nov 2020 22:08:01: #1 user defined the maximum tags... \\nINFO  @ Thu, 05 Nov 2020 22:08:01: #1 filter out redundant tags at the same location and the same strand by allowing at most 1 tag(s) \\nINFO  @ Thu, 05 Nov 2020 22:08:01: #1  tags after filtering in control: 65725426 \\nINFO  @ Thu, 05 Nov 2020 22:08:01: #1  Redundant rate of control: 0.01 \\nINFO  @ Thu, 05 Nov 2020 22:08:01: #1 finished! \\nINFO  @ Thu, 05 Nov 2020 22:08:01: #2 Build Peak Model... \\nINFO  @ Thu, 05 Nov 2020 22:08:01: #2 Skipped... \\nINFO  @ Thu, 05 Nov 2020 22:08:01: #2 Use 184 as fragment length \\nINFO  @ Thu, 05 Nov 2020 22:08:01: #3 Call peaks... \\nINFO  @ Thu, 05 Nov 2020 22:08:01: #3 Pre-compute pvalue-qvalue table... \\nINFO  @ Thu, 05 Nov 2020 22:12:34: #3 In the peak calling step, the following will be performed simultaneously: \\nINFO  @ Thu, 05 Nov 2020 22:12:34: #3   Write bedGraph files for treatment pileup (after scaling if necessary)... MV411_IRF8_NT_DMSO-MEF2D_R1_treat_pileup.bdg \\nINFO  @ Thu, 05 Nov 2020 22:12:34: #3   Write bedGraph files for control lambda (after scaling if necessary)... MV411_IRF8_NT_DMSO-MEF2D_R1_control_lambda.bdg \\nINFO  @ Thu, 05 Nov 2020 22:12:34: #3   Pileup will be based on sequencing depth in treatment. \\nINFO  @ Thu, 05 Nov 2020 22:12:34: #3 Call peaks for each chromosome... \\nINFO  @ Thu, 05 Nov 2020 22:16:09: #4 Write output xls file... ../../data/chipseq_IRF8_degraded/diffData_unscaled/MV411_IRF8_NT_DMSO-MEF2D_R1_peaks.xls \\nINFO  @ Thu, 05 Nov 2020 22:16:09: #4 Write peak in narrowPeak format file... ../../data/chipseq_IRF8_degraded/diffData_unscaled/MV411_IRF8_NT_DMSO-MEF2D_R1_peaks.narrowPeak \\nINFO  @ Thu, 05 Nov 2020 22:16:09: #4 Write summits bed file... ../../data/chipseq_IRF8_degraded/diffData_unscaled/MV411_IRF8_NT_DMSO-MEF2D_R1_summits.bed \\nINFO  @ Thu, 05 Nov 2020 22:16:09: Done! \\n'\n",
      "b'INFO  @ Thu, 05 Nov 2020 22:16:10: \\n# Command line: callpeak -B -t ../../data/chipseq_IRF8_degraded/bwa/mergedLibrary/MV411_IRF8_NT_VHL-MEF2D_R1.mLb.clN.sorted.bam -c ../../data/chipseq_IRF8_degraded/bwa/mergedLibrary/INPUT_R1.mLb.clN.sorted.bam --nomodel --extsize 184 -n MV411_IRF8_NT_VHL-MEF2D_R1 --outdir ../../data/chipseq_IRF8_degraded/diffData_unscaled/ -f BAM\\n# ARGUMENTS LIST:\\n# name = MV411_IRF8_NT_VHL-MEF2D_R1\\n# format = BAM\\n# ChIP-seq file = [\\'../../data/chipseq_IRF8_degraded/bwa/mergedLibrary/MV411_IRF8_NT_VHL-MEF2D_R1.mLb.clN.sorted.bam\\']\\n# control file = [\\'../../data/chipseq_IRF8_degraded/bwa/mergedLibrary/INPUT_R1.mLb.clN.sorted.bam\\']\\n# effective genome size = 2.70e+09\\n# band width = 300\\n# model fold = [5, 50]\\n# qvalue cutoff = 5.00e-02\\n# The maximum gap between significant sites is assigned as the read length/tag size.\\n# The minimum length of peaks is assigned as the predicted fragment length \"d\".\\n# Larger dataset will be scaled towards smaller dataset.\\n# Range for calculating regional lambda is: 1000 bps and 10000 bps\\n# Broad region calling is off\\n# Paired-End mode is off\\n \\nINFO  @ Thu, 05 Nov 2020 22:16:10: #1 read tag files... \\nINFO  @ Thu, 05 Nov 2020 22:16:10: #1 read treatment tags... \\nINFO  @ Thu, 05 Nov 2020 22:16:17:  1000000 \\nINFO  @ Thu, 05 Nov 2020 22:16:22:  2000000 \\nINFO  @ Thu, 05 Nov 2020 22:16:26:  3000000 \\nINFO  @ Thu, 05 Nov 2020 22:16:32:  4000000 \\nINFO  @ Thu, 05 Nov 2020 22:16:37:  5000000 \\nINFO  @ Thu, 05 Nov 2020 22:16:41:  6000000 \\nINFO  @ Thu, 05 Nov 2020 22:16:46:  7000000 \\nINFO  @ Thu, 05 Nov 2020 22:16:51:  8000000 \\nINFO  @ Thu, 05 Nov 2020 22:16:56:  9000000 \\nINFO  @ Thu, 05 Nov 2020 22:17:00:  10000000 \\nINFO  @ Thu, 05 Nov 2020 22:17:05:  11000000 \\nINFO  @ Thu, 05 Nov 2020 22:17:10:  12000000 \\nINFO  @ Thu, 05 Nov 2020 22:17:15:  13000000 \\nINFO  @ Thu, 05 Nov 2020 22:17:20:  14000000 \\nINFO  @ Thu, 05 Nov 2020 22:17:24:  15000000 \\nINFO  @ Thu, 05 Nov 2020 22:17:29: 15923184 reads have been read. \\nINFO  @ Thu, 05 Nov 2020 22:17:29: #1.2 read input tags... \\nINFO  @ Thu, 05 Nov 2020 22:17:33:  1000000 \\nINFO  @ Thu, 05 Nov 2020 22:17:37:  2000000 \\nINFO  @ Thu, 05 Nov 2020 22:17:40:  3000000 \\nINFO  @ Thu, 05 Nov 2020 22:17:44:  4000000 \\nINFO  @ Thu, 05 Nov 2020 22:17:48:  5000000 \\nINFO  @ Thu, 05 Nov 2020 22:17:51:  6000000 \\nINFO  @ Thu, 05 Nov 2020 22:17:55:  7000000 \\nINFO  @ Thu, 05 Nov 2020 22:17:59:  8000000 \\nINFO  @ Thu, 05 Nov 2020 22:18:02:  9000000 \\nINFO  @ Thu, 05 Nov 2020 22:18:06:  10000000 \\nINFO  @ Thu, 05 Nov 2020 22:18:10:  11000000 \\nINFO  @ Thu, 05 Nov 2020 22:18:14:  12000000 \\nINFO  @ Thu, 05 Nov 2020 22:18:17:  13000000 \\nINFO  @ Thu, 05 Nov 2020 22:18:21:  14000000 \\nINFO  @ Thu, 05 Nov 2020 22:18:25:  15000000 \\nINFO  @ Thu, 05 Nov 2020 22:18:28:  16000000 \\nINFO  @ Thu, 05 Nov 2020 22:18:32:  17000000 \\nINFO  @ Thu, 05 Nov 2020 22:18:36:  18000000 \\nINFO  @ Thu, 05 Nov 2020 22:18:39:  19000000 \\nINFO  @ Thu, 05 Nov 2020 22:18:43:  20000000 \\nINFO  @ Thu, 05 Nov 2020 22:18:47:  21000000 \\nINFO  @ Thu, 05 Nov 2020 22:18:51:  22000000 \\nINFO  @ Thu, 05 Nov 2020 22:18:54:  23000000 \\nINFO  @ Thu, 05 Nov 2020 22:18:58:  24000000 \\nINFO  @ Thu, 05 Nov 2020 22:19:02:  25000000 \\nINFO  @ Thu, 05 Nov 2020 22:19:05:  26000000 \\nINFO  @ Thu, 05 Nov 2020 22:19:09:  27000000 \\nINFO  @ Thu, 05 Nov 2020 22:19:13:  28000000 \\nINFO  @ Thu, 05 Nov 2020 22:19:17:  29000000 \\nINFO  @ Thu, 05 Nov 2020 22:19:20:  30000000 \\nINFO  @ Thu, 05 Nov 2020 22:19:24:  31000000 \\nINFO  @ Thu, 05 Nov 2020 22:19:28:  32000000 \\nINFO  @ Thu, 05 Nov 2020 22:19:32:  33000000 \\nINFO  @ Thu, 05 Nov 2020 22:19:35:  34000000 \\nINFO  @ Thu, 05 Nov 2020 22:19:39:  35000000 \\nINFO  @ Thu, 05 Nov 2020 22:19:43:  36000000 \\nINFO  @ Thu, 05 Nov 2020 22:19:46:  37000000 \\nINFO  @ Thu, 05 Nov 2020 22:19:50:  38000000 \\nINFO  @ Thu, 05 Nov 2020 22:19:54:  39000000 \\nINFO  @ Thu, 05 Nov 2020 22:19:57:  40000000 \\nINFO  @ Thu, 05 Nov 2020 22:20:01:  41000000 \\nINFO  @ Thu, 05 Nov 2020 22:20:05:  42000000 \\nINFO  @ Thu, 05 Nov 2020 22:20:09:  43000000 \\nINFO  @ Thu, 05 Nov 2020 22:20:12:  44000000 \\nINFO  @ Thu, 05 Nov 2020 22:20:16:  45000000 \\nINFO  @ Thu, 05 Nov 2020 22:20:20:  46000000 \\nINFO  @ Thu, 05 Nov 2020 22:20:23:  47000000 \\nINFO  @ Thu, 05 Nov 2020 22:20:27:  48000000 \\nINFO  @ Thu, 05 Nov 2020 22:20:31:  49000000 \\nINFO  @ Thu, 05 Nov 2020 22:20:35:  50000000 \\nINFO  @ Thu, 05 Nov 2020 22:20:38:  51000000 \\nINFO  @ Thu, 05 Nov 2020 22:20:42:  52000000 \\nINFO  @ Thu, 05 Nov 2020 22:20:46:  53000000 \\nINFO  @ Thu, 05 Nov 2020 22:20:50:  54000000 \\nINFO  @ Thu, 05 Nov 2020 22:20:54:  55000000 \\nINFO  @ Thu, 05 Nov 2020 22:20:57:  56000000 \\nINFO  @ Thu, 05 Nov 2020 22:21:01:  57000000 \\nINFO  @ Thu, 05 Nov 2020 22:21:05:  58000000 \\nINFO  @ Thu, 05 Nov 2020 22:21:09:  59000000 \\nINFO  @ Thu, 05 Nov 2020 22:21:12:  60000000 \\nINFO  @ Thu, 05 Nov 2020 22:21:16:  61000000 \\nINFO  @ Thu, 05 Nov 2020 22:21:20:  62000000 \\nINFO  @ Thu, 05 Nov 2020 22:21:24:  63000000 \\nINFO  @ Thu, 05 Nov 2020 22:21:27:  64000000 \\nINFO  @ Thu, 05 Nov 2020 22:21:31:  65000000 \\nINFO  @ Thu, 05 Nov 2020 22:21:35:  66000000 \\nINFO  @ Thu, 05 Nov 2020 22:21:38: 66660890 reads have been read. \\nINFO  @ Thu, 05 Nov 2020 22:21:38: #1 tag size is determined as 90 bps \\nINFO  @ Thu, 05 Nov 2020 22:21:38: #1 tag size = 90.0 \\nINFO  @ Thu, 05 Nov 2020 22:21:38: #1  total tags in treatment: 15923184 \\nINFO  @ Thu, 05 Nov 2020 22:21:38: #1 user defined the maximum tags... \\nINFO  @ Thu, 05 Nov 2020 22:21:38: #1 filter out redundant tags at the same location and the same strand by allowing at most 1 tag(s) \\nINFO  @ Thu, 05 Nov 2020 22:21:38: #1  tags after filtering in treatment: 15800645 \\nINFO  @ Thu, 05 Nov 2020 22:21:38: #1  Redundant rate of treatment: 0.01 \\nINFO  @ Thu, 05 Nov 2020 22:21:38: #1  total tags in control: 66660890 \\nINFO  @ Thu, 05 Nov 2020 22:21:38: #1 user defined the maximum tags... \\nINFO  @ Thu, 05 Nov 2020 22:21:38: #1 filter out redundant tags at the same location and the same strand by allowing at most 1 tag(s) \\nINFO  @ Thu, 05 Nov 2020 22:21:39: #1  tags after filtering in control: 65725426 \\nINFO  @ Thu, 05 Nov 2020 22:21:39: #1  Redundant rate of control: 0.01 \\nINFO  @ Thu, 05 Nov 2020 22:21:39: #1 finished! \\nINFO  @ Thu, 05 Nov 2020 22:21:39: #2 Build Peak Model... \\nINFO  @ Thu, 05 Nov 2020 22:21:39: #2 Skipped... \\nINFO  @ Thu, 05 Nov 2020 22:21:39: #2 Use 184 as fragment length \\nINFO  @ Thu, 05 Nov 2020 22:21:39: #3 Call peaks... \\nINFO  @ Thu, 05 Nov 2020 22:21:39: #3 Pre-compute pvalue-qvalue table... \\nINFO  @ Thu, 05 Nov 2020 22:26:12: #3 In the peak calling step, the following will be performed simultaneously: \\nINFO  @ Thu, 05 Nov 2020 22:26:12: #3   Write bedGraph files for treatment pileup (after scaling if necessary)... MV411_IRF8_NT_VHL-MEF2D_R1_treat_pileup.bdg \\nINFO  @ Thu, 05 Nov 2020 22:26:12: #3   Write bedGraph files for control lambda (after scaling if necessary)... MV411_IRF8_NT_VHL-MEF2D_R1_control_lambda.bdg \\nINFO  @ Thu, 05 Nov 2020 22:26:12: #3   Pileup will be based on sequencing depth in treatment. \\nINFO  @ Thu, 05 Nov 2020 22:26:12: #3 Call peaks for each chromosome... \\nINFO  @ Thu, 05 Nov 2020 22:29:43: #4 Write output xls file... ../../data/chipseq_IRF8_degraded/diffData_unscaled/MV411_IRF8_NT_VHL-MEF2D_R1_peaks.xls \\nINFO  @ Thu, 05 Nov 2020 22:29:43: #4 Write peak in narrowPeak format file... ../../data/chipseq_IRF8_degraded/diffData_unscaled/MV411_IRF8_NT_VHL-MEF2D_R1_peaks.narrowPeak \\nINFO  @ Thu, 05 Nov 2020 22:29:43: #4 Write summits bed file... ../../data/chipseq_IRF8_degraded/diffData_unscaled/MV411_IRF8_NT_VHL-MEF2D_R1_summits.bed \\nINFO  @ Thu, 05 Nov 2020 22:29:43: Done! \\n'\n",
      "17887183 15800645\n",
      "doing differential peak binding\n"
     ]
    },
    {
     "name": "stdout",
     "output_type": "stream",
     "text": [
      "../../data/chipseq_IRF8_degraded/bwa/mergedLibrary/MV411_IRF8_NT_DMSO-MYC_R1.mLb.clN.sorted.bam ../../data/chipseq_IRF8_degraded/bwa/mergedLibrary/MV411_IRF8_NT_VHL-MYC_R1.mLb.clN.sorted.bam\n",
      "doing diff from ../../data/chipseq_IRF8_degraded/bwa/mergedLibrary/MV411_IRF8_NT_DMSO-MYC_R1.mLb.clN.sorted.bam and ../../data/chipseq_IRF8_degraded/bwa/mergedLibrary/MV411_IRF8_NT_VHL-MYC_R1.mLb.clN.sorted.bam\n",
      "computing the fragment avg size\n",
      "205\n",
      "computing the scaling values\n",
      "b'INFO  @ Thu, 05 Nov 2020 22:40:36: \\n# Command line: callpeak -B -t ../../data/chipseq_IRF8_degraded/bwa/mergedLibrary/MV411_IRF8_NT_DMSO-MYC_R1.mLb.clN.sorted.bam -c ../../data/chipseq_IRF8_degraded/bwa/mergedLibrary/INPUT_R1.mLb.clN.sorted.bam --nomodel --extsize 205 -n MV411_IRF8_NT_DMSO-MYC_R1 --outdir ../../data/chipseq_IRF8_degraded/diffData_unscaled/ -f BAM\\n# ARGUMENTS LIST:\\n# name = MV411_IRF8_NT_DMSO-MYC_R1\\n# format = BAM\\n# ChIP-seq file = [\\'../../data/chipseq_IRF8_degraded/bwa/mergedLibrary/MV411_IRF8_NT_DMSO-MYC_R1.mLb.clN.sorted.bam\\']\\n# control file = [\\'../../data/chipseq_IRF8_degraded/bwa/mergedLibrary/INPUT_R1.mLb.clN.sorted.bam\\']\\n# effective genome size = 2.70e+09\\n# band width = 300\\n# model fold = [5, 50]\\n# qvalue cutoff = 5.00e-02\\n# The maximum gap between significant sites is assigned as the read length/tag size.\\n# The minimum length of peaks is assigned as the predicted fragment length \"d\".\\n# Larger dataset will be scaled towards smaller dataset.\\n# Range for calculating regional lambda is: 1000 bps and 10000 bps\\n# Broad region calling is off\\n# Paired-End mode is off\\n \\nINFO  @ Thu, 05 Nov 2020 22:40:36: #1 read tag files... \\nINFO  @ Thu, 05 Nov 2020 22:40:36: #1 read treatment tags... \\nINFO  @ Thu, 05 Nov 2020 22:40:41:  1000000 \\nINFO  @ Thu, 05 Nov 2020 22:40:45:  2000000 \\nINFO  @ Thu, 05 Nov 2020 22:40:50:  3000000 \\nINFO  @ Thu, 05 Nov 2020 22:40:54:  4000000 \\nINFO  @ Thu, 05 Nov 2020 22:40:59:  5000000 \\nINFO  @ Thu, 05 Nov 2020 22:41:03:  6000000 \\nINFO  @ Thu, 05 Nov 2020 22:41:08:  7000000 \\nINFO  @ Thu, 05 Nov 2020 22:41:12:  8000000 \\nINFO  @ Thu, 05 Nov 2020 22:41:17:  9000000 \\nINFO  @ Thu, 05 Nov 2020 22:41:21:  10000000 \\nINFO  @ Thu, 05 Nov 2020 22:41:26:  11000000 \\nINFO  @ Thu, 05 Nov 2020 22:41:30:  12000000 \\nINFO  @ Thu, 05 Nov 2020 22:41:35:  13000000 \\nINFO  @ Thu, 05 Nov 2020 22:41:39:  14000000 \\nINFO  @ Thu, 05 Nov 2020 22:41:44:  15000000 \\nINFO  @ Thu, 05 Nov 2020 22:41:48:  16000000 \\nINFO  @ Thu, 05 Nov 2020 22:41:53:  17000000 \\nINFO  @ Thu, 05 Nov 2020 22:41:57:  18000000 \\nINFO  @ Thu, 05 Nov 2020 22:42:02:  19000000 \\nINFO  @ Thu, 05 Nov 2020 22:42:06:  20000000 \\nINFO  @ Thu, 05 Nov 2020 22:42:09: 20590560 reads have been read. \\nINFO  @ Thu, 05 Nov 2020 22:42:09: #1.2 read input tags... \\nINFO  @ Thu, 05 Nov 2020 22:42:13:  1000000 \\nINFO  @ Thu, 05 Nov 2020 22:42:16:  2000000 \\nINFO  @ Thu, 05 Nov 2020 22:42:20:  3000000 \\nINFO  @ Thu, 05 Nov 2020 22:42:24:  4000000 \\nINFO  @ Thu, 05 Nov 2020 22:42:27:  5000000 \\nINFO  @ Thu, 05 Nov 2020 22:42:31:  6000000 \\nINFO  @ Thu, 05 Nov 2020 22:42:34:  7000000 \\nINFO  @ Thu, 05 Nov 2020 22:42:38:  8000000 \\nINFO  @ Thu, 05 Nov 2020 22:42:41:  9000000 \\nINFO  @ Thu, 05 Nov 2020 22:42:45:  10000000 \\nINFO  @ Thu, 05 Nov 2020 22:42:48:  11000000 \\nINFO  @ Thu, 05 Nov 2020 22:42:52:  12000000 \\nINFO  @ Thu, 05 Nov 2020 22:42:55:  13000000 \\nINFO  @ Thu, 05 Nov 2020 22:42:59:  14000000 \\nINFO  @ Thu, 05 Nov 2020 22:43:02:  15000000 \\nINFO  @ Thu, 05 Nov 2020 22:43:06:  16000000 \\nINFO  @ Thu, 05 Nov 2020 22:43:09:  17000000 \\nINFO  @ Thu, 05 Nov 2020 22:43:13:  18000000 \\nINFO  @ Thu, 05 Nov 2020 22:43:16:  19000000 \\nINFO  @ Thu, 05 Nov 2020 22:43:20:  20000000 \\nINFO  @ Thu, 05 Nov 2020 22:43:23:  21000000 \\nINFO  @ Thu, 05 Nov 2020 22:43:27:  22000000 \\nINFO  @ Thu, 05 Nov 2020 22:43:31:  23000000 \\nINFO  @ Thu, 05 Nov 2020 22:43:34:  24000000 \\nINFO  @ Thu, 05 Nov 2020 22:43:38:  25000000 \\nINFO  @ Thu, 05 Nov 2020 22:43:41:  26000000 \\nINFO  @ Thu, 05 Nov 2020 22:43:45:  27000000 \\nINFO  @ Thu, 05 Nov 2020 22:43:48:  28000000 \\nINFO  @ Thu, 05 Nov 2020 22:43:52:  29000000 \\nINFO  @ Thu, 05 Nov 2020 22:43:56:  30000000 \\nINFO  @ Thu, 05 Nov 2020 22:44:00:  31000000 \\nINFO  @ Thu, 05 Nov 2020 22:44:04:  32000000 \\nINFO  @ Thu, 05 Nov 2020 22:44:07:  33000000 \\nINFO  @ Thu, 05 Nov 2020 22:44:11:  34000000 \\nINFO  @ Thu, 05 Nov 2020 22:44:14:  35000000 \\nINFO  @ Thu, 05 Nov 2020 22:44:18:  36000000 \\nINFO  @ Thu, 05 Nov 2020 22:44:21:  37000000 \\nINFO  @ Thu, 05 Nov 2020 22:44:25:  38000000 \\nINFO  @ Thu, 05 Nov 2020 22:44:28:  39000000 \\nINFO  @ Thu, 05 Nov 2020 22:44:32:  40000000 \\nINFO  @ Thu, 05 Nov 2020 22:44:35:  41000000 \\nINFO  @ Thu, 05 Nov 2020 22:44:39:  42000000 \\nINFO  @ Thu, 05 Nov 2020 22:44:43:  43000000 \\nINFO  @ Thu, 05 Nov 2020 22:44:46:  44000000 \\nINFO  @ Thu, 05 Nov 2020 22:44:50:  45000000 \\nINFO  @ Thu, 05 Nov 2020 22:44:53:  46000000 \\nINFO  @ Thu, 05 Nov 2020 22:44:57:  47000000 \\nINFO  @ Thu, 05 Nov 2020 22:45:00:  48000000 \\nINFO  @ Thu, 05 Nov 2020 22:45:04:  49000000 \\nINFO  @ Thu, 05 Nov 2020 22:45:08:  50000000 \\nINFO  @ Thu, 05 Nov 2020 22:45:12:  51000000 \\nINFO  @ Thu, 05 Nov 2020 22:45:16:  52000000 \\nINFO  @ Thu, 05 Nov 2020 22:45:19:  53000000 \\nINFO  @ Thu, 05 Nov 2020 22:45:23:  54000000 \\nINFO  @ Thu, 05 Nov 2020 22:45:26:  55000000 \\nINFO  @ Thu, 05 Nov 2020 22:45:30:  56000000 \\nINFO  @ Thu, 05 Nov 2020 22:45:34:  57000000 \\nINFO  @ Thu, 05 Nov 2020 22:45:37:  58000000 \\nINFO  @ Thu, 05 Nov 2020 22:45:41:  59000000 \\nINFO  @ Thu, 05 Nov 2020 22:45:45:  60000000 \\nINFO  @ Thu, 05 Nov 2020 22:45:48:  61000000 \\nINFO  @ Thu, 05 Nov 2020 22:45:52:  62000000 \\nINFO  @ Thu, 05 Nov 2020 22:45:55:  63000000 \\nINFO  @ Thu, 05 Nov 2020 22:45:59:  64000000 \\nINFO  @ Thu, 05 Nov 2020 22:46:03:  65000000 \\nINFO  @ Thu, 05 Nov 2020 22:46:06:  66000000 \\nINFO  @ Thu, 05 Nov 2020 22:46:09: 66660890 reads have been read. \\nINFO  @ Thu, 05 Nov 2020 22:46:10: #1 tag size is determined as 94 bps \\nINFO  @ Thu, 05 Nov 2020 22:46:10: #1 tag size = 94.0 \\nINFO  @ Thu, 05 Nov 2020 22:46:10: #1  total tags in treatment: 20590560 \\nINFO  @ Thu, 05 Nov 2020 22:46:10: #1 user defined the maximum tags... \\nINFO  @ Thu, 05 Nov 2020 22:46:10: #1 filter out redundant tags at the same location and the same strand by allowing at most 1 tag(s) \\nINFO  @ Thu, 05 Nov 2020 22:46:10: #1  tags after filtering in treatment: 20358654 \\nINFO  @ Thu, 05 Nov 2020 22:46:10: #1  Redundant rate of treatment: 0.01 \\nINFO  @ Thu, 05 Nov 2020 22:46:10: #1  total tags in control: 66660890 \\nINFO  @ Thu, 05 Nov 2020 22:46:10: #1 user defined the maximum tags... \\nINFO  @ Thu, 05 Nov 2020 22:46:10: #1 filter out redundant tags at the same location and the same strand by allowing at most 1 tag(s) \\nINFO  @ Thu, 05 Nov 2020 22:46:10: #1  tags after filtering in control: 65725426 \\nINFO  @ Thu, 05 Nov 2020 22:46:10: #1  Redundant rate of control: 0.01 \\nINFO  @ Thu, 05 Nov 2020 22:46:10: #1 finished! \\nINFO  @ Thu, 05 Nov 2020 22:46:10: #2 Build Peak Model... \\nINFO  @ Thu, 05 Nov 2020 22:46:10: #2 Skipped... \\nINFO  @ Thu, 05 Nov 2020 22:46:10: #2 Use 205 as fragment length \\nINFO  @ Thu, 05 Nov 2020 22:46:10: #3 Call peaks... \\nINFO  @ Thu, 05 Nov 2020 22:46:10: #3 Pre-compute pvalue-qvalue table... \\nINFO  @ Thu, 05 Nov 2020 22:50:49: #3 In the peak calling step, the following will be performed simultaneously: \\nINFO  @ Thu, 05 Nov 2020 22:50:49: #3   Write bedGraph files for treatment pileup (after scaling if necessary)... MV411_IRF8_NT_DMSO-MYC_R1_treat_pileup.bdg \\nINFO  @ Thu, 05 Nov 2020 22:50:49: #3   Write bedGraph files for control lambda (after scaling if necessary)... MV411_IRF8_NT_DMSO-MYC_R1_control_lambda.bdg \\nINFO  @ Thu, 05 Nov 2020 22:50:49: #3   Pileup will be based on sequencing depth in treatment. \\nINFO  @ Thu, 05 Nov 2020 22:50:49: #3 Call peaks for each chromosome... \\nINFO  @ Thu, 05 Nov 2020 22:54:33: #4 Write output xls file... ../../data/chipseq_IRF8_degraded/diffData_unscaled/MV411_IRF8_NT_DMSO-MYC_R1_peaks.xls \\nINFO  @ Thu, 05 Nov 2020 22:54:33: #4 Write peak in narrowPeak format file... ../../data/chipseq_IRF8_degraded/diffData_unscaled/MV411_IRF8_NT_DMSO-MYC_R1_peaks.narrowPeak \\nINFO  @ Thu, 05 Nov 2020 22:54:33: #4 Write summits bed file... ../../data/chipseq_IRF8_degraded/diffData_unscaled/MV411_IRF8_NT_DMSO-MYC_R1_summits.bed \\nINFO  @ Thu, 05 Nov 2020 22:54:33: Done! \\n'\n"
     ]
    },
    {
     "name": "stdout",
     "output_type": "stream",
     "text": [
      "b'INFO  @ Thu, 05 Nov 2020 22:54:33: \\n# Command line: callpeak -B -t ../../data/chipseq_IRF8_degraded/bwa/mergedLibrary/MV411_IRF8_NT_VHL-MYC_R1.mLb.clN.sorted.bam -c ../../data/chipseq_IRF8_degraded/bwa/mergedLibrary/INPUT_R1.mLb.clN.sorted.bam --nomodel --extsize 205 -n MV411_IRF8_NT_VHL-MYC_R1 --outdir ../../data/chipseq_IRF8_degraded/diffData_unscaled/ -f BAM\\n# ARGUMENTS LIST:\\n# name = MV411_IRF8_NT_VHL-MYC_R1\\n# format = BAM\\n# ChIP-seq file = [\\'../../data/chipseq_IRF8_degraded/bwa/mergedLibrary/MV411_IRF8_NT_VHL-MYC_R1.mLb.clN.sorted.bam\\']\\n# control file = [\\'../../data/chipseq_IRF8_degraded/bwa/mergedLibrary/INPUT_R1.mLb.clN.sorted.bam\\']\\n# effective genome size = 2.70e+09\\n# band width = 300\\n# model fold = [5, 50]\\n# qvalue cutoff = 5.00e-02\\n# The maximum gap between significant sites is assigned as the read length/tag size.\\n# The minimum length of peaks is assigned as the predicted fragment length \"d\".\\n# Larger dataset will be scaled towards smaller dataset.\\n# Range for calculating regional lambda is: 1000 bps and 10000 bps\\n# Broad region calling is off\\n# Paired-End mode is off\\n \\nINFO  @ Thu, 05 Nov 2020 22:54:33: #1 read tag files... \\nINFO  @ Thu, 05 Nov 2020 22:54:33: #1 read treatment tags... \\nINFO  @ Thu, 05 Nov 2020 22:54:40:  1000000 \\nINFO  @ Thu, 05 Nov 2020 22:54:45:  2000000 \\nINFO  @ Thu, 05 Nov 2020 22:54:49:  3000000 \\nINFO  @ Thu, 05 Nov 2020 22:54:54:  4000000 \\nINFO  @ Thu, 05 Nov 2020 22:54:59:  5000000 \\nINFO  @ Thu, 05 Nov 2020 22:55:03:  6000000 \\nINFO  @ Thu, 05 Nov 2020 22:55:08:  7000000 \\nINFO  @ Thu, 05 Nov 2020 22:55:13:  8000000 \\nINFO  @ Thu, 05 Nov 2020 22:55:17:  9000000 \\nINFO  @ Thu, 05 Nov 2020 22:55:22:  10000000 \\nINFO  @ Thu, 05 Nov 2020 22:55:26:  11000000 \\nINFO  @ Thu, 05 Nov 2020 22:55:31:  12000000 \\nINFO  @ Thu, 05 Nov 2020 22:55:36:  13000000 \\nINFO  @ Thu, 05 Nov 2020 22:55:40:  14000000 \\nINFO  @ Thu, 05 Nov 2020 22:55:45:  15000000 \\nINFO  @ Thu, 05 Nov 2020 22:55:50:  16000000 \\nINFO  @ Thu, 05 Nov 2020 22:55:54:  17000000 \\nINFO  @ Thu, 05 Nov 2020 22:55:59:  18000000 \\nINFO  @ Thu, 05 Nov 2020 22:56:02: 18592701 reads have been read. \\nINFO  @ Thu, 05 Nov 2020 22:56:02: #1.2 read input tags... \\nINFO  @ Thu, 05 Nov 2020 22:56:05:  1000000 \\nINFO  @ Thu, 05 Nov 2020 22:56:09:  2000000 \\nINFO  @ Thu, 05 Nov 2020 22:56:13:  3000000 \\nINFO  @ Thu, 05 Nov 2020 22:56:16:  4000000 \\nINFO  @ Thu, 05 Nov 2020 22:56:20:  5000000 \\nINFO  @ Thu, 05 Nov 2020 22:56:23:  6000000 \\nINFO  @ Thu, 05 Nov 2020 22:56:27:  7000000 \\nINFO  @ Thu, 05 Nov 2020 22:56:31:  8000000 \\nINFO  @ Thu, 05 Nov 2020 22:56:34:  9000000 \\nINFO  @ Thu, 05 Nov 2020 22:56:38:  10000000 \\nINFO  @ Thu, 05 Nov 2020 22:56:42:  11000000 \\nINFO  @ Thu, 05 Nov 2020 22:56:45:  12000000 \\nINFO  @ Thu, 05 Nov 2020 22:56:49:  13000000 \\nINFO  @ Thu, 05 Nov 2020 22:56:53:  14000000 \\nINFO  @ Thu, 05 Nov 2020 22:56:56:  15000000 \\nINFO  @ Thu, 05 Nov 2020 22:57:00:  16000000 \\nINFO  @ Thu, 05 Nov 2020 22:57:03:  17000000 \\nINFO  @ Thu, 05 Nov 2020 22:57:07:  18000000 \\nINFO  @ Thu, 05 Nov 2020 22:57:10:  19000000 \\nINFO  @ Thu, 05 Nov 2020 22:57:14:  20000000 \\nINFO  @ Thu, 05 Nov 2020 22:57:18:  21000000 \\nINFO  @ Thu, 05 Nov 2020 22:57:21:  22000000 \\nINFO  @ Thu, 05 Nov 2020 22:57:25:  23000000 \\nINFO  @ Thu, 05 Nov 2020 22:57:29:  24000000 \\nINFO  @ Thu, 05 Nov 2020 22:57:32:  25000000 \\nINFO  @ Thu, 05 Nov 2020 22:57:36:  26000000 \\nINFO  @ Thu, 05 Nov 2020 22:57:40:  27000000 \\nINFO  @ Thu, 05 Nov 2020 22:57:43:  28000000 \\nINFO  @ Thu, 05 Nov 2020 22:57:47:  29000000 \\nINFO  @ Thu, 05 Nov 2020 22:57:50:  30000000 \\nINFO  @ Thu, 05 Nov 2020 22:57:54:  31000000 \\nINFO  @ Thu, 05 Nov 2020 22:57:58:  32000000 \\nINFO  @ Thu, 05 Nov 2020 22:58:01:  33000000 \\nINFO  @ Thu, 05 Nov 2020 22:58:05:  34000000 \\nINFO  @ Thu, 05 Nov 2020 22:58:08:  35000000 \\nINFO  @ Thu, 05 Nov 2020 22:58:12:  36000000 \\nINFO  @ Thu, 05 Nov 2020 22:58:15:  37000000 \\nINFO  @ Thu, 05 Nov 2020 22:58:19:  38000000 \\nINFO  @ Thu, 05 Nov 2020 22:58:22:  39000000 \\nINFO  @ Thu, 05 Nov 2020 22:58:26:  40000000 \\nINFO  @ Thu, 05 Nov 2020 22:58:29:  41000000 \\nINFO  @ Thu, 05 Nov 2020 22:58:33:  42000000 \\nINFO  @ Thu, 05 Nov 2020 22:58:36:  43000000 \\nINFO  @ Thu, 05 Nov 2020 22:58:40:  44000000 \\nINFO  @ Thu, 05 Nov 2020 22:58:44:  45000000 \\nINFO  @ Thu, 05 Nov 2020 22:58:47:  46000000 \\nINFO  @ Thu, 05 Nov 2020 22:58:51:  47000000 \\nINFO  @ Thu, 05 Nov 2020 22:58:55:  48000000 \\nINFO  @ Thu, 05 Nov 2020 22:58:58:  49000000 \\nINFO  @ Thu, 05 Nov 2020 22:59:02:  50000000 \\nINFO  @ Thu, 05 Nov 2020 22:59:05:  51000000 \\nINFO  @ Thu, 05 Nov 2020 22:59:09:  52000000 \\nINFO  @ Thu, 05 Nov 2020 22:59:13:  53000000 \\nINFO  @ Thu, 05 Nov 2020 22:59:16:  54000000 \\nINFO  @ Thu, 05 Nov 2020 22:59:20:  55000000 \\nINFO  @ Thu, 05 Nov 2020 22:59:24:  56000000 \\nINFO  @ Thu, 05 Nov 2020 22:59:27:  57000000 \\nINFO  @ Thu, 05 Nov 2020 22:59:31:  58000000 \\nINFO  @ Thu, 05 Nov 2020 22:59:34:  59000000 \\nINFO  @ Thu, 05 Nov 2020 22:59:38:  60000000 \\nINFO  @ Thu, 05 Nov 2020 22:59:42:  61000000 \\nINFO  @ Thu, 05 Nov 2020 22:59:45:  62000000 \\nINFO  @ Thu, 05 Nov 2020 22:59:49:  63000000 \\nINFO  @ Thu, 05 Nov 2020 22:59:53:  64000000 \\nINFO  @ Thu, 05 Nov 2020 22:59:56:  65000000 \\nINFO  @ Thu, 05 Nov 2020 23:00:00:  66000000 \\nINFO  @ Thu, 05 Nov 2020 23:00:02: 66660890 reads have been read. \\nINFO  @ Thu, 05 Nov 2020 23:00:03: #1 tag size is determined as 94 bps \\nINFO  @ Thu, 05 Nov 2020 23:00:03: #1 tag size = 94.0 \\nINFO  @ Thu, 05 Nov 2020 23:00:03: #1  total tags in treatment: 18592701 \\nINFO  @ Thu, 05 Nov 2020 23:00:03: #1 user defined the maximum tags... \\nINFO  @ Thu, 05 Nov 2020 23:00:03: #1 filter out redundant tags at the same location and the same strand by allowing at most 1 tag(s) \\nINFO  @ Thu, 05 Nov 2020 23:00:03: #1  tags after filtering in treatment: 18406437 \\nINFO  @ Thu, 05 Nov 2020 23:00:03: #1  Redundant rate of treatment: 0.01 \\nINFO  @ Thu, 05 Nov 2020 23:00:03: #1  total tags in control: 66660890 \\nINFO  @ Thu, 05 Nov 2020 23:00:03: #1 user defined the maximum tags... \\nINFO  @ Thu, 05 Nov 2020 23:00:03: #1 filter out redundant tags at the same location and the same strand by allowing at most 1 tag(s) \\nINFO  @ Thu, 05 Nov 2020 23:00:03: #1  tags after filtering in control: 65725426 \\nINFO  @ Thu, 05 Nov 2020 23:00:03: #1  Redundant rate of control: 0.01 \\nINFO  @ Thu, 05 Nov 2020 23:00:03: #1 finished! \\nINFO  @ Thu, 05 Nov 2020 23:00:03: #2 Build Peak Model... \\nINFO  @ Thu, 05 Nov 2020 23:00:03: #2 Skipped... \\nINFO  @ Thu, 05 Nov 2020 23:00:03: #2 Use 205 as fragment length \\nINFO  @ Thu, 05 Nov 2020 23:00:03: #3 Call peaks... \\nINFO  @ Thu, 05 Nov 2020 23:00:03: #3 Pre-compute pvalue-qvalue table... \\nINFO  @ Thu, 05 Nov 2020 23:04:35: #3 In the peak calling step, the following will be performed simultaneously: \\nINFO  @ Thu, 05 Nov 2020 23:04:35: #3   Write bedGraph files for treatment pileup (after scaling if necessary)... MV411_IRF8_NT_VHL-MYC_R1_treat_pileup.bdg \\nINFO  @ Thu, 05 Nov 2020 23:04:35: #3   Write bedGraph files for control lambda (after scaling if necessary)... MV411_IRF8_NT_VHL-MYC_R1_control_lambda.bdg \\nINFO  @ Thu, 05 Nov 2020 23:04:35: #3   Pileup will be based on sequencing depth in treatment. \\nINFO  @ Thu, 05 Nov 2020 23:04:35: #3 Call peaks for each chromosome... \\nINFO  @ Thu, 05 Nov 2020 23:08:14: #4 Write output xls file... ../../data/chipseq_IRF8_degraded/diffData_unscaled/MV411_IRF8_NT_VHL-MYC_R1_peaks.xls \\nINFO  @ Thu, 05 Nov 2020 23:08:14: #4 Write peak in narrowPeak format file... ../../data/chipseq_IRF8_degraded/diffData_unscaled/MV411_IRF8_NT_VHL-MYC_R1_peaks.narrowPeak \\nINFO  @ Thu, 05 Nov 2020 23:08:14: #4 Write summits bed file... ../../data/chipseq_IRF8_degraded/diffData_unscaled/MV411_IRF8_NT_VHL-MYC_R1_summits.bed \\nINFO  @ Thu, 05 Nov 2020 23:08:14: Done! \\n'\n",
      "20358654 18406437\n",
      "doing differential peak binding\n"
     ]
    }
   ],
   "source": [
    "#on unscalled data \n",
    "for i in range(int(len(bams)/2)):\n",
    "    if i < 0:\n",
    "        continue\n",
    "    name1 = bams[i]\n",
    "    name2 = bams[6+i]\n",
    "    print(name1,name2)\n",
    "    chip.fullDiffPeak(name1,name2, control1='../../data/'+project+'/bwa/mergedLibrary/INPUT_R1.mLb.clN.sorted.bam', directory = \"../../data/\"+project+\"/diffData_unscaled/\", res_directory = \"../../data/\"+project+\"/diffPeaks_unscaled/\",pairedend=False)"
   ]
  },
  {
   "cell_type": "code",
   "execution_count": 277,
   "metadata": {},
   "outputs": [
    {
     "data": {
      "text/plain": [
       "['../../data/chipseq_IRF8_degraded/bwa/mergedLibrary/bigwig/INPUT_R1.bigWig',\n",
       " '../../data/chipseq_IRF8_degraded/bwa/mergedLibrary/bigwig/MV411_IRF8_NT_DMSO-IRF8_R1.bigWig',\n",
       " '../../data/chipseq_IRF8_degraded/bwa/mergedLibrary/bigwig/MV411_IRF8_NT_DMSO-MED1_R1.bigWig',\n",
       " '../../data/chipseq_IRF8_degraded/bwa/mergedLibrary/bigwig/MV411_IRF8_NT_DMSO-MEF2C_R1.bigWig',\n",
       " '../../data/chipseq_IRF8_degraded/bwa/mergedLibrary/bigwig/MV411_IRF8_NT_DMSO-MEF2D_R1.bigWig',\n",
       " '../../data/chipseq_IRF8_degraded/bwa/mergedLibrary/bigwig/MV411_IRF8_NT_DMSO-MYC_R1.bigWig',\n",
       " '../../data/chipseq_IRF8_degraded/bwa/mergedLibrary/bigwig/MV411_IRF8_NT_DMSO-POLII_total_R1.bigWig',\n",
       " '../../data/chipseq_IRF8_degraded/bwa/mergedLibrary/bigwig/MV411_IRF8_NT_VHL-IRF8_R1.bigWig',\n",
       " '../../data/chipseq_IRF8_degraded/bwa/mergedLibrary/bigwig/MV411_IRF8_NT_VHL-MED1_R1.bigWig',\n",
       " '../../data/chipseq_IRF8_degraded/bwa/mergedLibrary/bigwig/MV411_IRF8_NT_VHL-MEF2C_R1.bigWig',\n",
       " '../../data/chipseq_IRF8_degraded/bwa/mergedLibrary/bigwig/MV411_IRF8_NT_VHL-MEF2D_R1.bigWig',\n",
       " '../../data/chipseq_IRF8_degraded/bwa/mergedLibrary/bigwig/MV411_IRF8_NT_VHL-MYC_R1.bigWig',\n",
       " '../../data/chipseq_IRF8_degraded/bwa/mergedLibrary/bigwig/MV411_IRF8_NT_VHL-POLII_total_R1.bigWig']"
      ]
     },
     "execution_count": 277,
     "metadata": {},
     "output_type": "execute_result"
    }
   ],
   "source": [
    "bw = ! ls ../../data/$project/bwa/mergedLibrary/bigwig/*.bigWig\n",
    "bw"
   ]
  },
  {
   "cell_type": "code",
   "execution_count": 278,
   "metadata": {},
   "outputs": [
    {
     "data": {
      "text/plain": [
       "['../../data/chipseq_IRF8_degraded/diffPeaks_unscaled/INPUT_R1_treat_pileup_vs_MV411_IRF8_NT_DMSO-POLII_total_R1_treat_pileup_c3.0_common.bed',\n",
       " '../../data/chipseq_IRF8_degraded/diffPeaks_unscaled/MV411_IRF8_NT_DMSO-IRF8_R1_treat_pileup_vs_MV411_IRF8_NT_VHL-IRF8_R1_treat_pileup_c3.0_common.bed',\n",
       " '../../data/chipseq_IRF8_degraded/diffPeaks_unscaled/MV411_IRF8_NT_DMSO-MED1_R1_treat_pileup_vs_MV411_IRF8_NT_VHL-MED1_R1_treat_pileup_c3.0_common.bed',\n",
       " '../../data/chipseq_IRF8_degraded/diffPeaks_unscaled/MV411_IRF8_NT_DMSO-MEF2C_R1_treat_pileup_vs_MV411_IRF8_NT_VHL-MEF2C_R1_treat_pileup_c3.0_common.bed',\n",
       " '../../data/chipseq_IRF8_degraded/diffPeaks_unscaled/MV411_IRF8_NT_DMSO-MEF2D_R1_treat_pileup_vs_MV411_IRF8_NT_VHL-MEF2D_R1_treat_pileup_c3.0_common.bed',\n",
       " '../../data/chipseq_IRF8_degraded/diffPeaks_unscaled/MV411_IRF8_NT_DMSO-MYC_R1_treat_pileup_vs_MV411_IRF8_NT_VHL-MYC_R1_treat_pileup_c3.0_common.bed']"
      ]
     },
     "execution_count": 278,
     "metadata": {},
     "output_type": "execute_result"
    }
   ],
   "source": [
    "cond1peak = ! ls ../../data/$project/diffPeaks_unscaled/*cond1.bed\n",
    "cond2peak = ! ls ../../data/$project/diffPeaks_unscaled/*cond2.bed\n",
    "commonpeak = ! ls ../../data/$project/diffPeaks_unscaled/*common.bed\n",
    "commonpeak"
   ]
  },
  {
   "cell_type": "code",
   "execution_count": 279,
   "metadata": {
    "scrolled": true
   },
   "outputs": [
    {
     "name": "stdout",
     "output_type": "stream",
     "text": [
      "../../data/chipseq_IRF8_degraded/bwa/mergedLibrary/bigwig/INPUT_R1.bigWig ../../data/chipseq_IRF8_degraded/bwa/mergedLibrary/bigwig/MV411_IRF8_NT_DMSO-POLII_total_R1.bigWig\n",
      "CompletedProcess(args='computeMatrix reference-point -S ../../data/chipseq_IRF8_degraded/bwa/mergedLibrary/bigwig/INPUT_R1.bigWig ../../data/chipseq_IRF8_degraded/bwa/mergedLibrary/bigwig/MV411_IRF8_NT_DMSO-POLII_total_R1.bigWig  --referencePoint center --regionsFileName ../../data/chipseq_IRF8_degraded/diffPeaks_unscaled/INPUT_R1_treat_pileup_vs_MV411_IRF8_NT_DMSO-POLII_total_R1_treat_pileup_c3.0_cond2.bed --missingDataAsZero --outFileName ../../data/chipseq_IRF8_degraded/diffPeaks_unscaled/IRF8_mat.gz --upstream 3000 --downstream 3000 --numberOfProcessors 8 && plotHeatmap --matrixFile ../../data/chipseq_IRF8_degraded/diffPeaks_unscaled/IRF8_mat.gz --outFileName ../../data/chipseq_IRF8_degraded/diffPeaks_unscaled/IRF8_mat.pdf --refPointLabel center --regionsLabel VHL_peaks --plotTitle IRF8', returncode=0, stdout=b'', stderr=b'\\nThe following chromosome names did not match between the bigwig files\\nchromosome\\tlength\\nchrUn_KI270340v1\\t      1428\\nchrUn_KI270381v1\\t      1930\\nchrUn_KI270393v1\\t      1308\\nchrUn_KI270335v1\\t      1048\\nchrUn_KI270424v1\\t      2140\\nchrUn_KI270394v1\\t       970\\nchrUn_KI270373v1\\t      1451\\nchrUn_KI270752v1\\t     27745\\n         chrEBV\\t    171823\\nchrUn_KI270374v1\\t      2656\\n')\n",
      "../../data/chipseq_IRF8_degraded/bwa/mergedLibrary/bigwig/MV411_IRF8_NT_DMSO-IRF8_R1.bigWig ../../data/chipseq_IRF8_degraded/bwa/mergedLibrary/bigwig/MV411_IRF8_NT_VHL-IRF8_R1.bigWig\n",
      "CompletedProcess(args='computeMatrix reference-point -S ../../data/chipseq_IRF8_degraded/bwa/mergedLibrary/bigwig/MV411_IRF8_NT_DMSO-IRF8_R1.bigWig ../../data/chipseq_IRF8_degraded/bwa/mergedLibrary/bigwig/MV411_IRF8_NT_VHL-IRF8_R1.bigWig  --referencePoint center --regionsFileName ../../data/chipseq_IRF8_degraded/diffPeaks_unscaled/MV411_IRF8_NT_DMSO-IRF8_R1_treat_pileup_vs_MV411_IRF8_NT_VHL-IRF8_R1_treat_pileup_c3.0_cond1.bed ../../data/chipseq_IRF8_degraded/diffPeaks_unscaled/MV411_IRF8_NT_DMSO-IRF8_R1_treat_pileup_vs_MV411_IRF8_NT_VHL-IRF8_R1_treat_pileup_c3.0_common.bed ../../data/chipseq_IRF8_degraded/diffPeaks_unscaled/MV411_IRF8_NT_DMSO-IRF8_R1_treat_pileup_vs_MV411_IRF8_NT_VHL-IRF8_R1_treat_pileup_c3.0_cond2.bed --missingDataAsZero --outFileName ../../data/chipseq_IRF8_degraded/diffPeaks_unscaled/MED1_mat.gz --upstream 3000 --downstream 3000 --numberOfProcessors 8 && plotHeatmap --matrixFile ../../data/chipseq_IRF8_degraded/diffPeaks_unscaled/MED1_mat.gz --outFileName ../../data/chipseq_IRF8_degraded/diffPeaks_unscaled/MED1_mat.pdf --refPointLabel center --regionsLabel DMSO_peaks common VHL_peaks --plotTitle MED1', returncode=0, stdout=b'', stderr=b'\\nThe following chromosome names did not match between the bigwig files\\nchromosome\\tlength\\nchrUn_KI270390v1\\t      2387\\nchrUn_KI270385v1\\t       990\\nchrUn_KI270329v1\\t      1040\\nchrUn_KI270392v1\\t       971\\nchrUn_KI270381v1\\t      1930\\nchrUn_KI270539v1\\t       993\\nchrUn_KI270411v1\\t      2646\\nchrUn_KI270371v1\\t      2805\\nchrUn_KI270374v1\\t      2656\\nchrUn_KI270394v1\\t       970\\nchrUn_KI270414v1\\t      2489\\n')\n",
      "../../data/chipseq_IRF8_degraded/bwa/mergedLibrary/bigwig/MV411_IRF8_NT_DMSO-MED1_R1.bigWig ../../data/chipseq_IRF8_degraded/bwa/mergedLibrary/bigwig/MV411_IRF8_NT_VHL-MED1_R1.bigWig\n",
      "CompletedProcess(args='computeMatrix reference-point -S ../../data/chipseq_IRF8_degraded/bwa/mergedLibrary/bigwig/MV411_IRF8_NT_DMSO-MED1_R1.bigWig ../../data/chipseq_IRF8_degraded/bwa/mergedLibrary/bigwig/MV411_IRF8_NT_VHL-MED1_R1.bigWig  --referencePoint center --regionsFileName ../../data/chipseq_IRF8_degraded/diffPeaks_unscaled/MV411_IRF8_NT_DMSO-MED1_R1_treat_pileup_vs_MV411_IRF8_NT_VHL-MED1_R1_treat_pileup_c3.0_cond1.bed ../../data/chipseq_IRF8_degraded/diffPeaks_unscaled/MV411_IRF8_NT_DMSO-MED1_R1_treat_pileup_vs_MV411_IRF8_NT_VHL-MED1_R1_treat_pileup_c3.0_common.bed ../../data/chipseq_IRF8_degraded/diffPeaks_unscaled/MV411_IRF8_NT_DMSO-MED1_R1_treat_pileup_vs_MV411_IRF8_NT_VHL-MED1_R1_treat_pileup_c3.0_cond2.bed --missingDataAsZero --outFileName ../../data/chipseq_IRF8_degraded/diffPeaks_unscaled/MEF2C_mat.gz --upstream 3000 --downstream 3000 --numberOfProcessors 8 && plotHeatmap --matrixFile ../../data/chipseq_IRF8_degraded/diffPeaks_unscaled/MEF2C_mat.gz --outFileName ../../data/chipseq_IRF8_degraded/diffPeaks_unscaled/MEF2C_mat.pdf --refPointLabel center --regionsLabel DMSO_peaks common VHL_peaks --plotTitle MEF2C', returncode=0, stdout=b'', stderr=b\"\\nThe following chromosome names did not match between the bigwig files\\nchromosome\\tlength\\nchrUn_KI270386v1\\t      1788\\nchrUn_KI270340v1\\t      1428\\nchrUn_KI270387v1\\t      1537\\nchrUn_KI270425v1\\t      1884\\nchrUn_KI270539v1\\t       993\\nchrUn_KI270394v1\\t       970\\nchrUn_KI270414v1\\t      2489\\nchrUn_KI270374v1\\t      2656\\nOne of the groups defined in the bed file is too small.\\nGroups that are too small can't be plotted. \\nWARNING: Group 'MV411_IRF8_NT_DMSO-MED1_R1_treat_pileup_vs_MV411_IRF8_NT_VHL-MED1_R1_treat_pileup_c3.0_cond2.bed' is too small for plotting, you might want to remove it. There will likely be an error message from matplotlib regarding this below.\\n\")\n",
      "../../data/chipseq_IRF8_degraded/bwa/mergedLibrary/bigwig/MV411_IRF8_NT_DMSO-MEF2C_R1.bigWig ../../data/chipseq_IRF8_degraded/bwa/mergedLibrary/bigwig/MV411_IRF8_NT_VHL-MEF2C_R1.bigWig\n",
      "CompletedProcess(args='computeMatrix reference-point -S ../../data/chipseq_IRF8_degraded/bwa/mergedLibrary/bigwig/MV411_IRF8_NT_DMSO-MEF2C_R1.bigWig ../../data/chipseq_IRF8_degraded/bwa/mergedLibrary/bigwig/MV411_IRF8_NT_VHL-MEF2C_R1.bigWig  --referencePoint center --regionsFileName ../../data/chipseq_IRF8_degraded/diffPeaks_unscaled/MV411_IRF8_NT_DMSO-MEF2C_R1_treat_pileup_vs_MV411_IRF8_NT_VHL-MEF2C_R1_treat_pileup_c3.0_cond1.bed ../../data/chipseq_IRF8_degraded/diffPeaks_unscaled/MV411_IRF8_NT_DMSO-MEF2C_R1_treat_pileup_vs_MV411_IRF8_NT_VHL-MEF2C_R1_treat_pileup_c3.0_common.bed ../../data/chipseq_IRF8_degraded/diffPeaks_unscaled/MV411_IRF8_NT_DMSO-MEF2C_R1_treat_pileup_vs_MV411_IRF8_NT_VHL-MEF2C_R1_treat_pileup_c3.0_cond2.bed --missingDataAsZero --outFileName ../../data/chipseq_IRF8_degraded/diffPeaks_unscaled/MEF2D_mat.gz --upstream 3000 --downstream 3000 --numberOfProcessors 8 && plotHeatmap --matrixFile ../../data/chipseq_IRF8_degraded/diffPeaks_unscaled/MEF2D_mat.gz --outFileName ../../data/chipseq_IRF8_degraded/diffPeaks_unscaled/MEF2D_mat.pdf --refPointLabel center --regionsLabel DMSO_peaks common VHL_peaks --plotTitle MEF2D', returncode=0, stdout=b'', stderr=b'\\nThe following chromosome names did not match between the bigwig files\\nchromosome\\tlength\\nchrUn_KI270381v1\\t      1930\\n         chrEBV\\t    171823\\nchrUn_KI270371v1\\t      2805\\nchrUn_KI270312v1\\t       998\\nchrUn_KI270425v1\\t      1884\\nchrUn_KI270334v1\\t      1368\\nchrUn_KI270539v1\\t       993\\n')\n",
      "../../data/chipseq_IRF8_degraded/bwa/mergedLibrary/bigwig/MV411_IRF8_NT_DMSO-MEF2D_R1.bigWig ../../data/chipseq_IRF8_degraded/bwa/mergedLibrary/bigwig/MV411_IRF8_NT_VHL-MEF2D_R1.bigWig\n",
      "CompletedProcess(args='computeMatrix reference-point -S ../../data/chipseq_IRF8_degraded/bwa/mergedLibrary/bigwig/MV411_IRF8_NT_DMSO-MEF2D_R1.bigWig ../../data/chipseq_IRF8_degraded/bwa/mergedLibrary/bigwig/MV411_IRF8_NT_VHL-MEF2D_R1.bigWig  --referencePoint center --regionsFileName ../../data/chipseq_IRF8_degraded/diffPeaks_unscaled/MV411_IRF8_NT_DMSO-MEF2D_R1_treat_pileup_vs_MV411_IRF8_NT_VHL-MEF2D_R1_treat_pileup_c3.0_common.bed --missingDataAsZero --outFileName ../../data/chipseq_IRF8_degraded/diffPeaks_unscaled/MYC_mat.gz --upstream 3000 --downstream 3000 --numberOfProcessors 8 && plotHeatmap --matrixFile ../../data/chipseq_IRF8_degraded/diffPeaks_unscaled/MYC_mat.gz --outFileName ../../data/chipseq_IRF8_degraded/diffPeaks_unscaled/MYC_mat.pdf --refPointLabel center --regionsLabel common --plotTitle MYC', returncode=0, stdout=b'', stderr=b'\\nThe following chromosome names did not match between the bigwig files\\nchromosome\\tlength\\nchrUn_KI270579v1\\t     31033\\nchrUn_KI270388v1\\t      1216\\nchrUn_KI270374v1\\t      2656\\nchrUn_KI270334v1\\t      1368\\nchrUn_KI270335v1\\t      1048\\nchrUn_KI270329v1\\t      1040\\nchrUn_KI270414v1\\t      2489\\nchrUn_KI270387v1\\t      1537\\nchrUn_KI270383v1\\t      1750\\nchrUn_KI270371v1\\t      2805\\nchrUn_KI270390v1\\t      2387\\n')\n",
      "../../data/chipseq_IRF8_degraded/bwa/mergedLibrary/bigwig/MV411_IRF8_NT_DMSO-MYC_R1.bigWig ../../data/chipseq_IRF8_degraded/bwa/mergedLibrary/bigwig/MV411_IRF8_NT_VHL-MYC_R1.bigWig\n"
     ]
    },
    {
     "name": "stdout",
     "output_type": "stream",
     "text": [
      "CompletedProcess(args='computeMatrix reference-point -S ../../data/chipseq_IRF8_degraded/bwa/mergedLibrary/bigwig/MV411_IRF8_NT_DMSO-MYC_R1.bigWig ../../data/chipseq_IRF8_degraded/bwa/mergedLibrary/bigwig/MV411_IRF8_NT_VHL-MYC_R1.bigWig  --referencePoint center --regionsFileName ../../data/chipseq_IRF8_degraded/diffPeaks_unscaled/MV411_IRF8_NT_DMSO-MYC_R1_treat_pileup_vs_MV411_IRF8_NT_VHL-MYC_R1_treat_pileup_c3.0_cond1.bed ../../data/chipseq_IRF8_degraded/diffPeaks_unscaled/MV411_IRF8_NT_DMSO-MYC_R1_treat_pileup_vs_MV411_IRF8_NT_VHL-MYC_R1_treat_pileup_c3.0_common.bed ../../data/chipseq_IRF8_degraded/diffPeaks_unscaled/MV411_IRF8_NT_DMSO-MYC_R1_treat_pileup_vs_MV411_IRF8_NT_VHL-MYC_R1_treat_pileup_c3.0_cond2.bed --missingDataAsZero --outFileName ../../data/chipseq_IRF8_degraded/diffPeaks_unscaled/POLII_total_mat.gz --upstream 3000 --downstream 3000 --numberOfProcessors 8 && plotHeatmap --matrixFile ../../data/chipseq_IRF8_degraded/diffPeaks_unscaled/POLII_total_mat.gz --outFileName ../../data/chipseq_IRF8_degraded/diffPeaks_unscaled/POLII_total_mat.pdf --refPointLabel center --regionsLabel DMSO_peaks common VHL_peaks --plotTitle POLII_total', returncode=0, stdout=b'', stderr=b'\\nThe following chromosome names did not match between the bigwig files\\nchromosome\\tlength\\nchrUn_KI270381v1\\t      1930\\nchrUn_KI270329v1\\t      1040\\nchrUn_KI270335v1\\t      1048\\nchrUn_KI270334v1\\t      1368\\nchrUn_KI270414v1\\t      2489\\nchrUn_KI270394v1\\t       970\\nchrUn_KI270388v1\\t      1216\\nchrUn_KI270387v1\\t      1537\\nchrUn_KI270412v1\\t      1179\\n')\n"
     ]
    }
   ],
   "source": [
    "for i in range(int((len(bw)-1)/2)):\n",
    "    name1 = bw[i]\n",
    "    name2 = bw[6+i]\n",
    "    peak = [cond1peak[i], commonpeak[i], cond2peak[i]]\n",
    "    #for val in peak:\n",
    "     #   chip.dropWeirdChromosomes(val)\n",
    "    name = names[i]\n",
    "    print(name1,name2)\n",
    "    chip.getPeaksAt(peak, [name1, name2], bigwignames=['DMSO', 'VHL'], peaknames=['DMSO_peaks', 'common', 'VHL_peaks'], window=3000, folder=\"\", title=name, numthreads=8, torecompute=True, refpoint='center', name='../../data/'+project+'/diffPeaks_unscaled/'+name+'_mat.pdf', withDeeptools=True)"
   ]
  },
  {
   "cell_type": "code",
   "execution_count": 280,
   "metadata": {},
   "outputs": [
    {
     "name": "stdout",
     "output_type": "stream",
     "text": [
      "Copying gs://amlproject/Chip/chipseq_IRF8_degraded/bwa/mergedLibrary/deepTools/plotFingerprint/MV411_IRF8_NT_DMSO-IRF8_R1.plotFingerprint.pdf...\n",
      "Copying gs://amlproject/Chip/chipseq_IRF8_degraded/bwa/mergedLibrary/deepTools/plotFingerprint/MV411_IRF8_NT_DMSO-MED1_R1.plotFingerprint.pdf...\n",
      "Copying gs://amlproject/Chip/chipseq_IRF8_degraded/bwa/mergedLibrary/deepTools/plotFingerprint/MV411_IRF8_NT_DMSO-MEF2C_R1.plotFingerprint.pdf...\n",
      "Copying gs://amlproject/Chip/chipseq_IRF8_degraded/bwa/mergedLibrary/deepTools/plotFingerprint/MV411_IRF8_NT_DMSO-MEF2D_R1.plotFingerprint.pdf...\n",
      "Copying gs://amlproject/Chip/chipseq_IRF8_degraded/bwa/mergedLibrary/deepTools/plotFingerprint/MV411_IRF8_NT_DMSO-MYC_R1.plotFingerprint.pdf...\n",
      "Copying gs://amlproject/Chip/chipseq_IRF8_degraded/bwa/mergedLibrary/deepTools/plotFingerprint/MV411_IRF8_NT_DMSO-POLII_total_R1.plotFingerprint.pdf...\n",
      "Copying gs://amlproject/Chip/chipseq_IRF8_degraded/bwa/mergedLibrary/deepTools/plotFingerprint/MV411_IRF8_NT_VHL-IRF8_R1.plotFingerprint.pdf...\n",
      "Copying gs://amlproject/Chip/chipseq_IRF8_degraded/bwa/mergedLibrary/deepTools/plotFingerprint/MV411_IRF8_NT_VHL-MED1_R1.plotFingerprint.pdf...\n",
      "Copying gs://amlproject/Chip/chipseq_IRF8_degraded/bwa/mergedLibrary/deepTools/plotFingerprint/MV411_IRF8_NT_VHL-MEF2C_R1.plotFingerprint.pdf...\n",
      "Copying gs://amlproject/Chip/chipseq_IRF8_degraded/bwa/mergedLibrary/deepTools/plotFingerprint/MV411_IRF8_NT_VHL-MEF2D_R1.plotFingerprint.pdf...\n",
      "Copying gs://amlproject/Chip/chipseq_IRF8_degraded/bwa/mergedLibrary/deepTools/plotFingerprint/MV411_IRF8_NT_VHL-MYC_R1.plotFingerprint.pdf...\n",
      "Copying gs://amlproject/Chip/chipseq_IRF8_degraded/bwa/mergedLibrary/deepTools/plotFingerprint/MV411_IRF8_NT_VHL-POLII_total_R1.plotFingerprint.pdf...\n",
      "Copying gs://amlproject/Chip/chipseq_IRF8_degraded/bwa/mergedLibrary/deepTools/plotProfile/INPUT_R1.plotHeatmap.pdf...\n",
      "Copying gs://amlproject/Chip/chipseq_IRF8_degraded/bwa/mergedLibrary/deepTools/plotProfile/INPUT_R1.plotProfile.pdf...\n",
      "Copying gs://amlproject/Chip/chipseq_IRF8_degraded/bwa/mergedLibrary/deepTools/plotProfile/MV411_IRF8_NT_DMSO-IRF8_R1.plotHeatmap.pdf...\n",
      "Copying gs://amlproject/Chip/chipseq_IRF8_degraded/bwa/mergedLibrary/deepTools/plotProfile/MV411_IRF8_NT_DMSO-IRF8_R1.plotProfile.pdf...\n",
      "Copying gs://amlproject/Chip/chipseq_IRF8_degraded/bwa/mergedLibrary/deepTools/plotProfile/MV411_IRF8_NT_DMSO-MED1_R1.plotHeatmap.pdf...\n",
      "Copying gs://amlproject/Chip/chipseq_IRF8_degraded/bwa/mergedLibrary/deepTools/plotProfile/MV411_IRF8_NT_DMSO-MED1_R1.plotProfile.pdf...\n",
      "Copying gs://amlproject/Chip/chipseq_IRF8_degraded/bwa/mergedLibrary/deepTools/plotProfile/MV411_IRF8_NT_DMSO-MEF2C_R1.plotHeatmap.pdf...\n",
      "Copying gs://amlproject/Chip/chipseq_IRF8_degraded/bwa/mergedLibrary/deepTools/plotProfile/MV411_IRF8_NT_DMSO-MEF2C_R1.plotProfile.pdf...\n",
      "Copying gs://amlproject/Chip/chipseq_IRF8_degraded/bwa/mergedLibrary/deepTools/plotProfile/MV411_IRF8_NT_DMSO-MEF2D_R1.plotHeatmap.pdf...\n",
      "Copying gs://amlproject/Chip/chipseq_IRF8_degraded/bwa/mergedLibrary/deepTools/plotProfile/MV411_IRF8_NT_DMSO-MEF2D_R1.plotProfile.pdf...\n",
      "Copying gs://amlproject/Chip/chipseq_IRF8_degraded/bwa/mergedLibrary/deepTools/plotProfile/MV411_IRF8_NT_DMSO-MYC_R1.plotHeatmap.pdf...\n",
      "Copying gs://amlproject/Chip/chipseq_IRF8_degraded/bwa/mergedLibrary/deepTools/plotProfile/MV411_IRF8_NT_DMSO-MYC_R1.plotProfile.pdf...\n",
      "Copying gs://amlproject/Chip/chipseq_IRF8_degraded/bwa/mergedLibrary/deepTools/plotProfile/MV411_IRF8_NT_DMSO-POLII_total_R1.plotHeatmap.pdf...\n",
      "Copying gs://amlproject/Chip/chipseq_IRF8_degraded/bwa/mergedLibrary/deepTools/plotProfile/MV411_IRF8_NT_DMSO-POLII_total_R1.plotProfile.pdf...\n",
      "Copying gs://amlproject/Chip/chipseq_IRF8_degraded/bwa/mergedLibrary/deepTools/plotProfile/MV411_IRF8_NT_VHL-IRF8_R1.plotProfile.pdf...\n",
      "Copying gs://amlproject/Chip/chipseq_IRF8_degraded/bwa/mergedLibrary/deepTools/plotProfile/MV411_IRF8_NT_VHL-IRF8_R1.plotHeatmap.pdf...\n",
      "Copying gs://amlproject/Chip/chipseq_IRF8_degraded/bwa/mergedLibrary/deepTools/plotProfile/MV411_IRF8_NT_VHL-MEF2C_R1.plotHeatmap.pdf...\n",
      "Copying gs://amlproject/Chip/chipseq_IRF8_degraded/bwa/mergedLibrary/deepTools/plotProfile/MV411_IRF8_NT_VHL-MED1_R1.plotProfile.pdf...\n",
      "Copying gs://amlproject/Chip/chipseq_IRF8_degraded/bwa/mergedLibrary/deepTools/plotProfile/MV411_IRF8_NT_VHL-MEF2C_R1.plotProfile.pdf...\n",
      "Copying gs://amlproject/Chip/chipseq_IRF8_degraded/bwa/mergedLibrary/deepTools/plotProfile/MV411_IRF8_NT_VHL-MED1_R1.plotHeatmap.pdf...\n",
      "Copying gs://amlproject/Chip/chipseq_IRF8_degraded/bwa/mergedLibrary/deepTools/plotProfile/MV411_IRF8_NT_VHL-MEF2D_R1.plotHeatmap.pdf...\n",
      "Copying gs://amlproject/Chip/chipseq_IRF8_degraded/bwa/mergedLibrary/deepTools/plotProfile/MV411_IRF8_NT_VHL-MEF2D_R1.plotProfile.pdf...\n",
      "Copying gs://amlproject/Chip/chipseq_IRF8_degraded/bwa/mergedLibrary/deepTools/plotProfile/MV411_IRF8_NT_VHL-MYC_R1.plotHeatmap.pdf...\n",
      "Copying gs://amlproject/Chip/chipseq_IRF8_degraded/bwa/mergedLibrary/deepTools/plotProfile/MV411_IRF8_NT_VHL-POLII_total_R1.plotHeatmap.pdf...\n",
      "Copying gs://amlproject/Chip/chipseq_IRF8_degraded/bwa/mergedLibrary/deepTools/plotProfile/MV411_IRF8_NT_VHL-MYC_R1.plotProfile.pdf...\n",
      "Copying gs://amlproject/Chip/chipseq_IRF8_degraded/bwa/mergedLibrary/deepTools/plotProfile/MV411_IRF8_NT_VHL-POLII_total_R1.plotProfile.pdf...\n",
      "- [38/38 files][ 14.5 MiB/ 14.5 MiB] 100% Done                                  \n",
      "Operation completed over 38 objects/14.5 MiB.                                    \n"
     ]
    }
   ],
   "source": [
    "h.createFoldersFor('../results/'+project+'/plots/unscaled/diffPeaks/')\n",
    "! cp ../../data/$project/diffPeaks_unscaled/*.pdf ../results/$project/plots/unscaled/diffPeaks/\n",
    "\n",
    "! gsutil -m cp gs://amlproject/Chip/$project/bwa/mergedLibrary/deepTools/**.pdf ../results/$project/plots/"
   ]
  },
  {
   "cell_type": "code",
   "execution_count": null,
   "metadata": {},
   "outputs": [
    {
     "name": "stdout",
     "output_type": "stream",
     "text": [
      "Copying file://../../data/chipseq_IRF8_degraded/diffPeaks/MV411_IRF8_NT_DMSO-MEF2D_R1_treat_pileup_vs_MV411_IRF8_NT_VHL-MEF2D_R1_treat_pileup_c3.0_cond1.bed [Content-Type=application/octet-stream]...\n",
      "Copying file://../../data/chipseq_IRF8_degraded/diffPeaks/MV411_IRF8_NT_DMSO-MEF2C_R1_treat_pileup_vs_MV411_IRF8_NT_VHL-MEF2C_R1_treat_pileup_c3.0_cond2.bed [Content-Type=application/octet-stream]...\n",
      "Copying file://../../data/chipseq_IRF8_degraded/diffPeaks/MED1_mat.gz [Content-Type=application/octet-stream]...\n",
      "Copying file://../../data/chipseq_IRF8_degraded/diffPeaks/IRF8_mat.pdf [Content-Type=application/pdf]...\n",
      "Copying file://../../data/chipseq_IRF8_degraded/diffPeaks/MV411_IRF8_NT_DMSO-POLII_total_R1_treat_pileup_vs_MV411_IRF8_NT_VHL-POLII_total_R1_treat_pileup_c3.0_cond2.bed [Content-Type=application/octet-stream]...\n",
      "Copying file://../../data/chipseq_IRF8_degraded/diffPeaks/MV411_IRF8_NT_DMSO-IRF8_R1_treat_pileup_vs_MV411_IRF8_NT_VHL-IRF8_R1_treat_pileup_c3.0_common.bed [Content-Type=application/octet-stream]...\n",
      "Copying file://../../data/chipseq_IRF8_degraded/diffPeaks/MV411_IRF8_NT_DMSO-MYC_R1_treat_pileup_vs_MV411_IRF8_NT_VHL-MYC_R1_treat_pileup_c3.0_common.bed [Content-Type=application/octet-stream]...\n",
      "Copying file://../../data/chipseq_IRF8_degraded/diffPeaks/MEF2C_mat.pdf [Content-Type=application/pdf]...\n",
      "Copying file://../../data/chipseq_IRF8_degraded/diffPeaks/MV411_IRF8_NT_DMSO-MED1_R1_treat_pileup_vs_MV411_IRF8_NT_VHL-MED1_R1_treat_pileup_c3.0_cond1.bed [Content-Type=application/octet-stream]...\n",
      "Copying file://../../data/chipseq_IRF8_degraded/diffPeaks/MV411_IRF8_NT_DMSO-MEF2D_R1_treat_pileup_vs_MV411_IRF8_NT_VHL-MEF2D_R1_treat_pileup_c3.0_cond2.bed [Content-Type=application/octet-stream]...\n",
      "Copying file://../../data/chipseq_IRF8_degraded/diffPeaks/MV411_IRF8_NT_DMSO-MYC_R1_treat_pileup_vs_MV411_IRF8_NT_VHL-MYC_R1_treat_pileup_c3.0_cond2.bed [Content-Type=application/octet-stream]...\n",
      "Copying file://../../data/chipseq_IRF8_degraded/diffPeaks/MV411_IRF8_NT_DMSO-IRF8_R1_treat_pileup_vs_MV411_IRF8_NT_VHL-IRF8_R1_treat_pileup_c3.0_cond1.bed [Content-Type=application/octet-stream]...\n",
      "Copying file://../../data/chipseq_IRF8_degraded/diffPeaks/MV411_IRF8_NT_DMSO-IRF8_R1_treat_pileup_vs_MV411_IRF8_NT_VHL-IRF8_R1_treat_pileup_c3.0_cond2.bed [Content-Type=application/octet-stream]...\n",
      "Copying file://../../data/chipseq_IRF8_degraded/diffPeaks/MV411_IRF8_NT_DMSO-MED1_R1_treat_pileup_vs_MV411_IRF8_NT_VHL-MED1_R1_treat_pileup_c3.0_cond2.bed [Content-Type=application/octet-stream]...\n",
      "Copying file://../../data/chipseq_IRF8_degraded/diffPeaks/MEF2C_mat.gz [Content-Type=application/octet-stream]...\n",
      "Copying file://../../data/chipseq_IRF8_degraded/diffPeaks/POLII_total_mat.pdf [Content-Type=application/pdf]...\n",
      "Copying file://../../data/chipseq_IRF8_degraded/diffPeaks/MEF2D_mat.gz [Content-Type=application/octet-stream]...\n",
      "Copying file://../../data/chipseq_IRF8_degraded/diffPeaks/MV411_IRF8_NT_DMSO-MEF2D_R1_treat_pileup_vs_MV411_IRF8_NT_VHL-MEF2D_R1_treat_pileup_c3.0_common.bed [Content-Type=application/octet-stream]...\n",
      "Copying file://../../data/chipseq_IRF8_degraded/diffPeaks/IRF8_mat.gz [Content-Type=application/octet-stream]...\n",
      "Copying file://../../data/chipseq_IRF8_degraded/diffPeaks/MV411_IRF8_NT_DMSO-MEF2C_R1_treat_pileup_vs_MV411_IRF8_NT_VHL-MEF2C_R1_treat_pileup_c3.0_cond1.bed [Content-Type=application/octet-stream]...\n",
      "Copying file://../../data/chipseq_IRF8_degraded/diffPeaks/POLII_total_mat.gz [Content-Type=application/octet-stream]...\n",
      "Copying file://../../data/chipseq_IRF8_degraded/diffPeaks/MV411_IRF8_NT_DMSO-MED1_R1_treat_pileup_vs_MV411_IRF8_NT_VHL-MED1_R1_treat_pileup_c3.0_common.bed [Content-Type=application/octet-stream]...\n",
      "Copying file://../../data/chipseq_IRF8_degraded/diffPeaks/MV411_IRF8_NT_DMSO-MYC_R1_treat_pileup_vs_MV411_IRF8_NT_VHL-MYC_R1_treat_pileup_c3.0_cond1.bed [Content-Type=application/octet-stream]...\n",
      "Copying file://../../data/chipseq_IRF8_degraded/diffPeaks/MED1_mat.pdf [Content-Type=application/pdf]...\n",
      "Copying file://../../data/chipseq_IRF8_degraded/diffPeaks/MV411_IRF8_NT_DMSO-POLII_total_R1_treat_pileup_vs_MV411_IRF8_NT_VHL-POLII_total_R1_treat_pileup_c3.0_common.bed [Content-Type=application/octet-stream]...\n",
      "Copying file://../../data/chipseq_IRF8_degraded/diffPeaks/MV411_IRF8_NT_DMSO-POLII_total_R1_treat_pileup_vs_MV411_IRF8_NT_VHL-POLII_total_R1_treat_pileup_c3.0_cond1.bed [Content-Type=application/octet-stream]...\n",
      "Copying file://../../data/chipseq_IRF8_degraded/diffPeaks/MYC_mat.gz [Content-Type=application/octet-stream]...\n",
      "Copying file://../../data/chipseq_IRF8_degraded/diffPeaks/MEF2D_mat.pdf [Content-Type=application/pdf]...\n",
      "Copying file://../../data/chipseq_IRF8_degraded/diffPeaks/MV411_IRF8_NT_DMSO-MEF2C_R1_treat_pileup_vs_MV411_IRF8_NT_VHL-MEF2C_R1_treat_pileup_c3.0_common.bed [Content-Type=application/octet-stream]...\n",
      "Copying file://../../data/chipseq_IRF8_degraded/diffPeaks/MYC_mat.pdf [Content-Type=application/pdf]...\n",
      "\\ [30/30 files][ 90.4 MiB/ 90.4 MiB] 100% Done                                  \n",
      "Operation completed over 30 objects/90.4 MiB.                                    \n",
      "Copying file://../../data/chipseq_IRF8_degraded/diffData/MV411_IRF8_NT_VHL-MED1_R1_control_lambda.bdg [Content-Type=application/octet-stream]...\n",
      "Copying file://../../data/chipseq_IRF8_degraded/diffData/MV411_IRF8_NT_DMSO-MED1_R1_treat_pileup.bdg [Content-Type=application/octet-stream]...\n",
      "==> NOTE: You are uploading one or more large file(s), which would run\n",
      "significantly faster if you enable parallel composite uploads. This\n",
      "feature can be enabled by editing the\n",
      "\"parallel_composite_upload_threshold\" value in your .boto\n",
      "configuration file. However, note that if you do this large files will\n",
      "be uploaded as `composite objects\n",
      "<https://cloud.google.com/storage/docs/composite-objects>`_,which\n",
      "means that any user who downloads such objects will need to have a\n",
      "compiled crcmod installed (see \"gsutil help crcmod\"). This is because\n",
      "without a compiled crcmod, computing checksums on composite objects is\n",
      "so slow that gsutil disables downloads of composite objects.\n",
      "\n",
      "Copying file://../../data/chipseq_IRF8_degraded/diffData/MV411_IRF8_NT_VHL-MEF2D_R1_control_lambda.bdg [Content-Type=application/octet-stream]...\n",
      "Copying file://../../data/chipseq_IRF8_degraded/diffData/MV411_IRF8_NT_VHL-MEF2C_R1_summits.bed [Content-Type=application/octet-stream]...\n",
      "Copying file://../../data/chipseq_IRF8_degraded/diffData/MV411_IRF8_NT_VHL-MYC_R1_control_lambda.bdg [Content-Type=application/octet-stream]...\n",
      "Copying file://../../data/chipseq_IRF8_degraded/diffData/MV411_IRF8_NT_DMSO-MED1_R1_peaks.xls [Content-Type=application/vnd.ms-excel]...\n",
      "Copying file://../../data/chipseq_IRF8_degraded/diffData/MV411_IRF8_NT_VHL-MED1_R1_summits.bed [Content-Type=application/octet-stream]...\n",
      "Copying file://../../data/chipseq_IRF8_degraded/diffData/MV411_IRF8_NT_VHL-IRF8_R1_peaks.narrowPeak [Content-Type=application/octet-stream]...\n",
      "Copying file://../../data/chipseq_IRF8_degraded/diffData/MV411_IRF8_NT_VHL-POLII_total_R1_summits.bed [Content-Type=application/octet-stream]...\n",
      "Copying file://../../data/chipseq_IRF8_degraded/diffData/MV411_IRF8_NT_VHL-MED1_R1_peaks.narrowPeak [Content-Type=application/octet-stream]...\n",
      "Copying file://../../data/chipseq_IRF8_degraded/diffData/MV411_IRF8_NT_DMSO-MEF2C_R1_peaks.narrowPeak [Content-Type=application/octet-stream]...\n",
      "Copying file://../../data/chipseq_IRF8_degraded/diffData/MV411_IRF8_NT_DMSO-MEF2C_R1_peaks.xls [Content-Type=application/vnd.ms-excel]...\n",
      "Copying file://../../data/chipseq_IRF8_degraded/diffData/MV411_IRF8_NT_DMSO-MEF2D_R1_peaks.xls [Content-Type=application/vnd.ms-excel]...\n",
      "Copying file://../../data/chipseq_IRF8_degraded/diffData/MV411_IRF8_NT_DMSO-MEF2C_R1_treat_pileup.bdg [Content-Type=application/octet-stream]...\n",
      "Copying file://../../data/chipseq_IRF8_degraded/diffData/MV411_IRF8_NT_DMSO-MED1_R1_peaks.narrowPeak [Content-Type=application/octet-stream]...\n",
      "Copying file://../../data/chipseq_IRF8_degraded/diffData/MV411_IRF8_NT_VHL-MEF2D_R1_peaks.narrowPeak [Content-Type=application/octet-stream]...\n",
      "Copying file://../../data/chipseq_IRF8_degraded/diffData/MV411_IRF8_NT_VHL-IRF8_R1_treat_pileup.bdg [Content-Type=application/octet-stream]...\n",
      "Copying file://../../data/chipseq_IRF8_degraded/diffData/MV411_IRF8_NT_VHL-MED1_R1_peaks.xls [Content-Type=application/vnd.ms-excel]...\n",
      "Copying file://../../data/chipseq_IRF8_degraded/diffData/MV411_IRF8_NT_DMSO-MEF2D_R1_summits.bed [Content-Type=application/octet-stream]...\n",
      "Copying file://../../data/chipseq_IRF8_degraded/diffData/MV411_IRF8_NT_VHL-POLII_total_R1_peaks.narrowPeak [Content-Type=application/octet-stream]...\n",
      "Copying file://../../data/chipseq_IRF8_degraded/diffData/MV411_IRF8_NT_DMSO-IRF8_R1_treat_pileup.bdg [Content-Type=application/octet-stream]...\n",
      "Copying file://../../data/chipseq_IRF8_degraded/diffData/MV411_IRF8_NT_VHL-MYC_R1_peaks.narrowPeak [Content-Type=application/octet-stream]...\n"
     ]
    },
    {
     "name": "stdout",
     "output_type": "stream",
     "text": [
      "Copying file://../../data/chipseq_IRF8_degraded/diffData/MV411_IRF8_NT_VHL-MYC_R1_treat_pileup.bdg [Content-Type=application/octet-stream]...\n",
      "Copying file://../../data/chipseq_IRF8_degraded/diffData/MV411_IRF8_NT_DMSO-MEF2D_R1_control_lambda.bdg [Content-Type=application/octet-stream]...\n",
      "Copying file://../../data/chipseq_IRF8_degraded/diffData/MV411_IRF8_NT_DMSO-IRF8_R1_summits.bed [Content-Type=application/octet-stream]...\n",
      "Copying file://../../data/chipseq_IRF8_degraded/diffData/MV411_IRF8_NT_VHL-POLII_total_R1_peaks.xls [Content-Type=application/vnd.ms-excel]...\n",
      "Copying file://../../data/chipseq_IRF8_degraded/diffData/MV411_IRF8_NT_VHL-MEF2C_R1_control_lambda.bdg [Content-Type=application/octet-stream]...\n",
      "Copying file://../../data/chipseq_IRF8_degraded/diffData/MV411_IRF8_NT_DMSO-POLII_total_R1_peaks.xls [Content-Type=application/vnd.ms-excel]...\n",
      "Copying file://../../data/chipseq_IRF8_degraded/diffData/MV411_IRF8_NT_VHL-MEF2D_R1_peaks.xls [Content-Type=application/vnd.ms-excel]...\n",
      "Copying file://../../data/chipseq_IRF8_degraded/diffData/MV411_IRF8_NT_VHL-POLII_total_R1_treat_pileup.bdg [Content-Type=application/octet-stream]...\n",
      "Copying file://../../data/chipseq_IRF8_degraded/diffData/MV411_IRF8_NT_VHL-POLII_total_R1_control_lambda.bdg [Content-Type=application/octet-stream]...\n",
      "Copying file://../../data/chipseq_IRF8_degraded/diffData/MV411_IRF8_NT_DMSO-MEF2D_R1_treat_pileup.bdg [Content-Type=application/octet-stream]...\n",
      "Copying file://../../data/chipseq_IRF8_degraded/diffData/MV411_IRF8_NT_VHL-MEF2D_R1_summits.bed [Content-Type=application/octet-stream]...\n",
      "Copying file://../../data/chipseq_IRF8_degraded/diffData/MV411_IRF8_NT_DMSO-MYC_R1_treat_pileup.bdg [Content-Type=application/octet-stream]...\n",
      "Copying file://../../data/chipseq_IRF8_degraded/diffData/MV411_IRF8_NT_VHL-MYC_R1_peaks.xls [Content-Type=application/vnd.ms-excel]...\n",
      "Copying file://../../data/chipseq_IRF8_degraded/diffData/MV411_IRF8_NT_DMSO-MEF2C_R1_control_lambda.bdg [Content-Type=application/octet-stream]...\n",
      "Copying file://../../data/chipseq_IRF8_degraded/diffData/MV411_IRF8_NT_VHL-MYC_R1_summits.bed [Content-Type=application/octet-stream]...\n",
      "Copying file://../../data/chipseq_IRF8_degraded/diffData/MV411_IRF8_NT_DMSO-POLII_total_R1_control_lambda.bdg [Content-Type=application/octet-stream]...\n",
      "Copying file://../../data/chipseq_IRF8_degraded/diffData/MV411_IRF8_NT_VHL-MEF2D_R1_treat_pileup.bdg [Content-Type=application/octet-stream]...\n",
      "Copying file://../../data/chipseq_IRF8_degraded/diffData/MV411_IRF8_NT_VHL-MED1_R1_treat_pileup.bdg [Content-Type=application/octet-stream]...\n",
      "Copying file://../../data/chipseq_IRF8_degraded/diffData/MV411_IRF8_NT_DMSO-MED1_R1_summits.bed [Content-Type=application/octet-stream]...\n",
      "Copying file://../../data/chipseq_IRF8_degraded/diffData/MV411_IRF8_NT_DMSO-MEF2C_R1_summits.bed [Content-Type=application/octet-stream]...\n",
      "Copying file://../../data/chipseq_IRF8_degraded/diffData/MV411_IRF8_NT_DMSO-POLII_total_R1_treat_pileup.bdg [Content-Type=application/octet-stream]...\n",
      "Copying file://../../data/chipseq_IRF8_degraded/diffData/MV411_IRF8_NT_DMSO-POLII_total_R1_summits.bed [Content-Type=application/octet-stream]...\n",
      "Copying file://../../data/chipseq_IRF8_degraded/diffData/MV411_IRF8_NT_DMSO-POLII_total_R1_peaks.narrowPeak [Content-Type=application/octet-stream]...\n",
      "Copying file://../../data/chipseq_IRF8_degraded/diffData/MV411_IRF8_NT_DMSO-IRF8_R1_peaks.narrowPeak [Content-Type=application/octet-stream]...\n",
      "Copying file://../../data/chipseq_IRF8_degraded/diffData/MV411_IRF8_NT_DMSO-MYC_R1_control_lambda.bdg [Content-Type=application/octet-stream]...\n",
      "Copying file://../../data/chipseq_IRF8_degraded/diffData/MV411_IRF8_NT_VHL-IRF8_R1_summits.bed [Content-Type=application/octet-stream]...\n",
      "Copying file://../../data/chipseq_IRF8_degraded/diffData/MV411_IRF8_NT_DMSO-MYC_R1_peaks.narrowPeak [Content-Type=application/octet-stream]...\n",
      "Copying file://../../data/chipseq_IRF8_degraded/diffData/MV411_IRF8_NT_VHL-MEF2C_R1_peaks.xls [Content-Type=application/vnd.ms-excel]...\n",
      "Copying file://../../data/chipseq_IRF8_degraded/diffData/MV411_IRF8_NT_VHL-MEF2C_R1_peaks.narrowPeak [Content-Type=application/octet-stream]...\n",
      "Copying file://../../data/chipseq_IRF8_degraded/diffData/MV411_IRF8_NT_DMSO-MED1_R1_control_lambda.bdg [Content-Type=application/octet-stream]...\n",
      "Copying file://../../data/chipseq_IRF8_degraded/diffData/MV411_IRF8_NT_VHL-MEF2C_R1_treat_pileup.bdg [Content-Type=application/octet-stream]...\n",
      "Copying file://../../data/chipseq_IRF8_degraded/diffData/MV411_IRF8_NT_VHL-IRF8_R1_peaks.xls [Content-Type=application/vnd.ms-excel]...\n",
      "Copying file://../../data/chipseq_IRF8_degraded/diffData/MV411_IRF8_NT_DMSO-MEF2D_R1_peaks.narrowPeak [Content-Type=application/octet-stream]...\n",
      "Copying file://../../data/chipseq_IRF8_degraded/diffData/MV411_IRF8_NT_DMSO-IRF8_R1_control_lambda.bdg [Content-Type=application/octet-stream]...\n",
      "Copying file://../../data/chipseq_IRF8_degraded/diffData/MV411_IRF8_NT_VHL-IRF8_R1_control_lambda.bdg [Content-Type=application/octet-stream]...\n",
      "Copying file://../../data/chipseq_IRF8_degraded/diffData/MV411_IRF8_NT_DMSO-IRF8_R1_peaks.xls [Content-Type=application/vnd.ms-excel]...\n",
      "Copying file://../../data/chipseq_IRF8_degraded/diffData/MV411_IRF8_NT_DMSO-MYC_R1_peaks.xls [Content-Type=application/vnd.ms-excel]...\n",
      "Copying file://../../data/chipseq_IRF8_degraded/diffData/MV411_IRF8_NT_DMSO-MYC_R1_summits.bed [Content-Type=application/octet-stream]...\n",
      "\\ [60/60 files][ 84.3 GiB/ 84.3 GiB] 100% Done 128.5 MiB/s ETA 00:00:00         \n",
      "Operation completed over 60 objects/84.3 GiB.                                    \n",
      "Copying file://../../data/chipseq_IRF8_degraded/diffPeaks_unscaled/INPUT_R1_treat_pileup_vs_MV411_IRF8_NT_DMSO-POLII_total_R1_treat_pileup_c3.0_cond1.bed [Content-Type=application/octet-stream]...\n",
      "Copying file://../../data/chipseq_IRF8_degraded/diffPeaks_unscaled/MV411_IRF8_NT_DMSO-MEF2D_R1_treat_pileup_vs_MV411_IRF8_NT_VHL-MEF2D_R1_treat_pileup_c3.0_cond1.bed [Content-Type=application/octet-stream]...\n",
      "Copying file://../../data/chipseq_IRF8_degraded/diffPeaks_unscaled/MV411_IRF8_NT_DMSO-MYC_R1_treat_pileup_vs_MV411_IRF8_NT_VHL-MYC_R1_treat_pileup_c3.0_common.bed [Content-Type=application/octet-stream]...\n",
      "Copying file://../../data/chipseq_IRF8_degraded/diffPeaks_unscaled/MV411_IRF8_NT_DMSO-MED1_R1_treat_pileup_vs_MV411_IRF8_NT_VHL-MED1_R1_treat_pileup_c3.0_cond1.bed [Content-Type=application/octet-stream]...\n",
      "Copying file://../../data/chipseq_IRF8_degraded/diffPeaks_unscaled/MV411_IRF8_NT_DMSO-MYC_R1_treat_pileup_vs_MV411_IRF8_NT_VHL-MYC_R1_treat_pileup_c3.0_cond2.bed [Content-Type=application/octet-stream]...\n",
      "Copying file://../../data/chipseq_IRF8_degraded/diffPeaks_unscaled/MV411_IRF8_NT_DMSO-MEF2D_R1_treat_pileup_vs_MV411_IRF8_NT_VHL-MEF2D_R1_treat_pileup_c3.0_cond2.bed [Content-Type=application/octet-stream]...\n",
      "Copying file://../../data/chipseq_IRF8_degraded/diffPeaks_unscaled/MEF2C_mat.pdf [Content-Type=application/pdf]...\n",
      "Copying file://../../data/chipseq_IRF8_degraded/diffPeaks_unscaled/MV411_IRF8_NT_DMSO-MEF2C_R1_treat_pileup_vs_MV411_IRF8_NT_VHL-MEF2C_R1_treat_pileup_c3.0_cond2.bed [Content-Type=application/octet-stream]...\n",
      "Copying file://../../data/chipseq_IRF8_degraded/diffPeaks_unscaled/MV411_IRF8_NT_DMSO-MED1_R1_treat_pileup_vs_MV411_IRF8_NT_VHL-MED1_R1_treat_pileup_c3.0_cond2.bed [Content-Type=application/octet-stream]...\n",
      "Copying file://../../data/chipseq_IRF8_degraded/diffPeaks_unscaled/MED1_mat.gz [Content-Type=application/octet-stream]...\n",
      "Copying file://../../data/chipseq_IRF8_degraded/diffPeaks_unscaled/MEF2C_mat.gz [Content-Type=application/octet-stream]...\n",
      "Copying file://../../data/chipseq_IRF8_degraded/diffPeaks_unscaled/MV411_IRF8_NT_DMSO-IRF8_R1_treat_pileup_vs_MV411_IRF8_NT_VHL-IRF8_R1_treat_pileup_c3.0_common.bed [Content-Type=application/octet-stream]...\n",
      "Copying file://../../data/chipseq_IRF8_degraded/diffPeaks_unscaled/IRF8_mat.pdf [Content-Type=application/pdf]...\n",
      "Copying file://../../data/chipseq_IRF8_degraded/diffPeaks_unscaled/MV411_IRF8_NT_DMSO-IRF8_R1_treat_pileup_vs_MV411_IRF8_NT_VHL-IRF8_R1_treat_pileup_c3.0_cond1.bed [Content-Type=application/octet-stream]...\n",
      "Copying file://../../data/chipseq_IRF8_degraded/diffPeaks_unscaled/MV411_IRF8_NT_DMSO-IRF8_R1_treat_pileup_vs_MV411_IRF8_NT_VHL-IRF8_R1_treat_pileup_c3.0_cond2.bed [Content-Type=application/octet-stream]...\n"
     ]
    },
    {
     "name": "stdout",
     "output_type": "stream",
     "text": [
      "Copying file://../../data/chipseq_IRF8_degraded/diffPeaks_unscaled/MEF2D_mat.gz [Content-Type=application/octet-stream]...\n",
      "Copying file://../../data/chipseq_IRF8_degraded/diffPeaks_unscaled/MV411_IRF8_NT_DMSO-MEF2C_R1_treat_pileup_vs_MV411_IRF8_NT_VHL-MEF2C_R1_treat_pileup_c3.0_cond1.bed [Content-Type=application/octet-stream]...\n",
      "Copying file://../../data/chipseq_IRF8_degraded/diffPeaks_unscaled/MV411_IRF8_NT_DMSO-MED1_R1_treat_pileup_vs_MV411_IRF8_NT_VHL-MED1_R1_treat_pileup_c3.0_common.bed [Content-Type=application/octet-stream]...\n",
      "Copying file://../../data/chipseq_IRF8_degraded/diffPeaks_unscaled/POLII_total_mat.gz [Content-Type=application/octet-stream]...\n",
      "Copying file://../../data/chipseq_IRF8_degraded/diffPeaks_unscaled/MV411_IRF8_NT_DMSO-MYC_R1_treat_pileup_vs_MV411_IRF8_NT_VHL-MYC_R1_treat_pileup_c3.0_cond1.bed [Content-Type=application/octet-stream]...\n",
      "Copying file://../../data/chipseq_IRF8_degraded/diffPeaks_unscaled/IRF8_mat.gz [Content-Type=application/octet-stream]...\n",
      "Copying file://../../data/chipseq_IRF8_degraded/diffPeaks_unscaled/MV411_IRF8_NT_DMSO-MEF2D_R1_treat_pileup_vs_MV411_IRF8_NT_VHL-MEF2D_R1_treat_pileup_c3.0_common.bed [Content-Type=application/octet-stream]...\n",
      "Copying file://../../data/chipseq_IRF8_degraded/diffPeaks_unscaled/MED1_mat.pdf [Content-Type=application/pdf]...\n",
      "Copying file://../../data/chipseq_IRF8_degraded/diffPeaks_unscaled/MYC_mat.gz [Content-Type=application/octet-stream]...\n",
      "Copying file://../../data/chipseq_IRF8_degraded/diffPeaks_unscaled/POLII_total_mat.pdf [Content-Type=application/pdf]...\n",
      "Copying file://../../data/chipseq_IRF8_degraded/diffPeaks_unscaled/INPUT_R1_treat_pileup_vs_MV411_IRF8_NT_DMSO-POLII_total_R1_treat_pileup_c3.0_cond2.bed [Content-Type=application/octet-stream]...\n",
      "Copying file://../../data/chipseq_IRF8_degraded/diffPeaks_unscaled/MEF2D_mat.pdf [Content-Type=application/pdf]...\n",
      "Copying file://../../data/chipseq_IRF8_degraded/diffPeaks_unscaled/MV411_IRF8_NT_DMSO-MEF2C_R1_treat_pileup_vs_MV411_IRF8_NT_VHL-MEF2C_R1_treat_pileup_c3.0_common.bed [Content-Type=application/octet-stream]...\n",
      "Copying file://../../data/chipseq_IRF8_degraded/diffPeaks_unscaled/MYC_mat.pdf [Content-Type=application/pdf]...\n",
      "Copying file://../../data/chipseq_IRF8_degraded/diffPeaks_unscaled/INPUT_R1_treat_pileup_vs_MV411_IRF8_NT_DMSO-POLII_total_R1_treat_pileup_c3.0_common.bed [Content-Type=application/octet-stream]...\n",
      "\\ [30/30 files][132.9 MiB/132.9 MiB] 100% Done                                  \n",
      "Operation completed over 30 objects/132.9 MiB.                                   \n",
      "Copying file://../../data/chipseq_IRF8_degraded/diffData_unscaled/INPUT_R1_peaks.xls [Content-Type=application/vnd.ms-excel]...\n",
      "Copying file://../../data/chipseq_IRF8_degraded/diffData_unscaled/MV411_IRF8_NT_VHL-MED1_R1_control_lambda.bdg [Content-Type=application/octet-stream]...\n",
      "Copying file://../../data/chipseq_IRF8_degraded/diffData_unscaled/MV411_IRF8_NT_DMSO-MED1_R1_treat_pileup.bdg [Content-Type=application/octet-stream]...\n",
      "Copying file://../../data/chipseq_IRF8_degraded/diffData_unscaled/MV411_IRF8_NT_VHL-MEF2D_R1_control_lambda.bdg [Content-Type=application/octet-stream]...\n",
      "==> NOTE: You are uploading one or more large file(s), which would run\n",
      "significantly faster if you enable parallel composite uploads. This\n",
      "feature can be enabled by editing the\n",
      "\"parallel_composite_upload_threshold\" value in your .boto\n",
      "configuration file. However, note that if you do this large files will\n",
      "be uploaded as `composite objects\n",
      "<https://cloud.google.com/storage/docs/composite-objects>`_,which\n",
      "means that any user who downloads such objects will need to have a\n",
      "compiled crcmod installed (see \"gsutil help crcmod\"). This is because\n",
      "without a compiled crcmod, computing checksums on composite objects is\n",
      "so slow that gsutil disables downloads of composite objects.\n",
      "\n",
      "Copying file://../../data/chipseq_IRF8_degraded/diffData_unscaled/MV411_IRF8_NT_VHL-MEF2C_R1_summits.bed [Content-Type=application/octet-stream]...\n",
      "Copying file://../../data/chipseq_IRF8_degraded/diffData_unscaled/MV411_IRF8_NT_VHL-MYC_R1_control_lambda.bdg [Content-Type=application/octet-stream]...\n",
      "Copying file://../../data/chipseq_IRF8_degraded/diffData_unscaled/MV411_IRF8_NT_DMSO-MED1_R1_peaks.xls [Content-Type=application/vnd.ms-excel]...\n",
      "Copying file://../../data/chipseq_IRF8_degraded/diffData_unscaled/MV411_IRF8_NT_VHL-MED1_R1_summits.bed [Content-Type=application/octet-stream]...\n",
      "Copying file://../../data/chipseq_IRF8_degraded/diffData_unscaled/MV411_IRF8_NT_VHL-IRF8_R1_peaks.narrowPeak [Content-Type=application/octet-stream]...\n",
      "Copying file://../../data/chipseq_IRF8_degraded/diffData_unscaled/INPUT_R1_treat_pileup.bdg [Content-Type=application/octet-stream]...\n",
      "Copying file://../../data/chipseq_IRF8_degraded/diffData_unscaled/MV411_IRF8_NT_VHL-MED1_R1_peaks.narrowPeak [Content-Type=application/octet-stream]...\n",
      "Copying file://../../data/chipseq_IRF8_degraded/diffData_unscaled/MV411_IRF8_NT_DMSO-MEF2C_R1_peaks.narrowPeak [Content-Type=application/octet-stream]...\n",
      "Copying file://../../data/chipseq_IRF8_degraded/diffData_unscaled/MV411_IRF8_NT_DMSO-MEF2C_R1_peaks.xls [Content-Type=application/vnd.ms-excel]...\n",
      "Copying file://../../data/chipseq_IRF8_degraded/diffData_unscaled/MV411_IRF8_NT_DMSO-MED1_R1_peaks.narrowPeak [Content-Type=application/octet-stream]...\n",
      "Copying file://../../data/chipseq_IRF8_degraded/diffData_unscaled/MV411_IRF8_NT_DMSO-MEF2C_R1_treat_pileup.bdg [Content-Type=application/octet-stream]...\n",
      "Copying file://../../data/chipseq_IRF8_degraded/diffData_unscaled/MV411_IRF8_NT_VHL-MYC_R1_treat_pileup.bdg [Content-Type=application/octet-stream]...\n",
      "Copying file://../../data/chipseq_IRF8_degraded/diffData_unscaled/MV411_IRF8_NT_VHL-MEF2D_R1_peaks.narrowPeak [Content-Type=application/octet-stream]...\n",
      "Copying file://../../data/chipseq_IRF8_degraded/diffData_unscaled/MV411_IRF8_NT_DMSO-MEF2D_R1_peaks.xls [Content-Type=application/vnd.ms-excel]...\n",
      "Copying file://../../data/chipseq_IRF8_degraded/diffData_unscaled/MV411_IRF8_NT_VHL-MYC_R1_peaks.narrowPeak [Content-Type=application/octet-stream]...\n",
      "Copying file://../../data/chipseq_IRF8_degraded/diffData_unscaled/MV411_IRF8_NT_DMSO-IRF8_R1_summits.bed [Content-Type=application/octet-stream]...\n",
      "Copying file://../../data/chipseq_IRF8_degraded/diffData_unscaled/MV411_IRF8_NT_DMSO-MEF2D_R1_control_lambda.bdg [Content-Type=application/octet-stream]...\n",
      "Copying file://../../data/chipseq_IRF8_degraded/diffData_unscaled/MV411_IRF8_NT_VHL-IRF8_R1_treat_pileup.bdg [Content-Type=application/octet-stream]...\n",
      "Copying file://../../data/chipseq_IRF8_degraded/diffData_unscaled/MV411_IRF8_NT_VHL-MED1_R1_peaks.xls [Content-Type=application/vnd.ms-excel]...\n",
      "Copying file://../../data/chipseq_IRF8_degraded/diffData_unscaled/MV411_IRF8_NT_VHL-MEF2D_R1_peaks.xls [Content-Type=application/vnd.ms-excel]...\n",
      "Copying file://../../data/chipseq_IRF8_degraded/diffData_unscaled/INPUT_R1_peaks.narrowPeak [Content-Type=application/octet-stream]...\n",
      "Copying file://../../data/chipseq_IRF8_degraded/diffData_unscaled/MV411_IRF8_NT_DMSO-POLII_total_R1_summits.bed [Content-Type=application/octet-stream]...\n",
      "Copying file://../../data/chipseq_IRF8_degraded/diffData_unscaled/MV411_IRF8_NT_DMSO-MEF2D_R1_summits.bed [Content-Type=application/octet-stream]...\n",
      "Copying file://../../data/chipseq_IRF8_degraded/diffData_unscaled/INPUT_R1_summits.bed [Content-Type=application/octet-stream]...\n",
      "Copying file://../../data/chipseq_IRF8_degraded/diffData_unscaled/MV411_IRF8_NT_DMSO-IRF8_R1_treat_pileup.bdg [Content-Type=application/octet-stream]...\n",
      "Copying file://../../data/chipseq_IRF8_degraded/diffData_unscaled/MV411_IRF8_NT_VHL-MEF2C_R1_control_lambda.bdg [Content-Type=application/octet-stream]...\n",
      "Copying file://../../data/chipseq_IRF8_degraded/diffData_unscaled/MV411_IRF8_NT_DMSO-MEF2D_R1_treat_pileup.bdg [Content-Type=application/octet-stream]...\n",
      "Copying file://../../data/chipseq_IRF8_degraded/diffData_unscaled/MV411_IRF8_NT_DMSO-MEF2C_R1_summits.bed [Content-Type=application/octet-stream]...\n",
      "Copying file://../../data/chipseq_IRF8_degraded/diffData_unscaled/MV411_IRF8_NT_DMSO-POLII_total_R1_peaks.xls [Content-Type=application/vnd.ms-excel]...\n",
      "Copying file://../../data/chipseq_IRF8_degraded/diffData_unscaled/MV411_IRF8_NT_VHL-MEF2D_R1_summits.bed [Content-Type=application/octet-stream]...\n",
      "Copying file://../../data/chipseq_IRF8_degraded/diffData_unscaled/MV411_IRF8_NT_VHL-MED1_R1_treat_pileup.bdg [Content-Type=application/octet-stream]...\n",
      "Copying file://../../data/chipseq_IRF8_degraded/diffData_unscaled/MV411_IRF8_NT_DMSO-MED1_R1_summits.bed [Content-Type=application/octet-stream]...\n",
      "Copying file://../../data/chipseq_IRF8_degraded/diffData_unscaled/MV411_IRF8_NT_VHL-MYC_R1_peaks.xls [Content-Type=application/vnd.ms-excel]...\n",
      "Copying file://../../data/chipseq_IRF8_degraded/diffData_unscaled/MV411_IRF8_NT_VHL-MYC_R1_summits.bed [Content-Type=application/octet-stream]...\n",
      "Copying file://../../data/chipseq_IRF8_degraded/diffData_unscaled/MV411_IRF8_NT_DMSO-MYC_R1_treat_pileup.bdg [Content-Type=application/octet-stream]...\n",
      "Copying file://../../data/chipseq_IRF8_degraded/diffData_unscaled/MV411_IRF8_NT_DMSO-POLII_total_R1_treat_pileup.bdg [Content-Type=application/octet-stream]...\n",
      "Copying file://../../data/chipseq_IRF8_degraded/diffData_unscaled/MV411_IRF8_NT_DMSO-MEF2C_R1_control_lambda.bdg [Content-Type=application/octet-stream]...\n"
     ]
    },
    {
     "name": "stdout",
     "output_type": "stream",
     "text": [
      "Copying file://../../data/chipseq_IRF8_degraded/diffData_unscaled/MV411_IRF8_NT_DMSO-POLII_total_R1_control_lambda.bdg [Content-Type=application/octet-stream]...\n",
      "Copying file://../../data/chipseq_IRF8_degraded/diffData_unscaled/MV411_IRF8_NT_DMSO-POLII_total_R1_peaks.narrowPeak [Content-Type=application/octet-stream]...\n",
      "Copying file://../../data/chipseq_IRF8_degraded/diffData_unscaled/MV411_IRF8_NT_VHL-MEF2C_R1_peaks.xls [Content-Type=application/vnd.ms-excel]...\n",
      "Copying file://../../data/chipseq_IRF8_degraded/diffData_unscaled/MV411_IRF8_NT_DMSO-MYC_R1_peaks.narrowPeak [Content-Type=application/octet-stream]...\n",
      "Copying file://../../data/chipseq_IRF8_degraded/diffData_unscaled/MV411_IRF8_NT_DMSO-MYC_R1_summits.bed [Content-Type=application/octet-stream]...\n",
      "Copying file://../../data/chipseq_IRF8_degraded/diffData_unscaled/MV411_IRF8_NT_VHL-IRF8_R1_summits.bed [Content-Type=application/octet-stream]...\n",
      "Copying file://../../data/chipseq_IRF8_degraded/diffData_unscaled/MV411_IRF8_NT_VHL-MEF2C_R1_peaks.narrowPeak [Content-Type=application/octet-stream]...\n",
      "Copying file://../../data/chipseq_IRF8_degraded/diffData_unscaled/MV411_IRF8_NT_DMSO-MYC_R1_control_lambda.bdg [Content-Type=application/octet-stream]...\n",
      "Copying file://../../data/chipseq_IRF8_degraded/diffData_unscaled/MV411_IRF8_NT_DMSO-MED1_R1_control_lambda.bdg [Content-Type=application/octet-stream]...\n",
      "Copying file://../../data/chipseq_IRF8_degraded/diffData_unscaled/MV411_IRF8_NT_VHL-MEF2D_R1_treat_pileup.bdg [Content-Type=application/octet-stream]...\n",
      "Copying file://../../data/chipseq_IRF8_degraded/diffData_unscaled/MV411_IRF8_NT_VHL-MEF2C_R1_treat_pileup.bdg [Content-Type=application/octet-stream]...\n",
      "Copying file://../../data/chipseq_IRF8_degraded/diffData_unscaled/MV411_IRF8_NT_VHL-IRF8_R1_peaks.xls [Content-Type=application/vnd.ms-excel]...\n",
      "Copying file://../../data/chipseq_IRF8_degraded/diffData_unscaled/MV411_IRF8_NT_DMSO-MEF2D_R1_peaks.narrowPeak [Content-Type=application/octet-stream]...\n",
      "Copying file://../../data/chipseq_IRF8_degraded/diffData_unscaled/MV411_IRF8_NT_DMSO-IRF8_R1_peaks.narrowPeak [Content-Type=application/octet-stream]...\n",
      "Copying file://../../data/chipseq_IRF8_degraded/diffData_unscaled/MV411_IRF8_NT_DMSO-MYC_R1_peaks.xls [Content-Type=application/vnd.ms-excel]...\n",
      "Copying file://../../data/chipseq_IRF8_degraded/diffData_unscaled/MV411_IRF8_NT_VHL-IRF8_R1_control_lambda.bdg [Content-Type=application/octet-stream]...\n",
      "Copying file://../../data/chipseq_IRF8_degraded/diffData_unscaled/INPUT_R1_control_lambda.bdg [Content-Type=application/octet-stream]...\n",
      "Copying file://../../data/chipseq_IRF8_degraded/diffData_unscaled/MV411_IRF8_NT_DMSO-IRF8_R1_peaks.xls [Content-Type=application/vnd.ms-excel]...\n",
      "Copying file://../../data/chipseq_IRF8_degraded/diffData_unscaled/MV411_IRF8_NT_DMSO-IRF8_R1_control_lambda.bdg [Content-Type=application/octet-stream]...\n",
      "\\ [36/60 files][  4.8 GiB/ 57.3 GiB]   8% Done                                  \r"
     ]
    }
   ],
   "source": [
    "! gsutil -m cp -r ../../data/$project/diffPeaks gs://amlproject/Chip/$project/\n",
    "! gsutil -m cp -r ../../data/$project/diffData gs://amlproject/Chip/$project/\n",
    "! gsutil -m cp -r ../../data/$project/diffPeaks_unscaled gs://amlproject/Chip/$project/\n",
    "! gsutil -m cp -r ../../data/$project/diffData_unscaled gs://amlproject/Chip/$project/\n",
    "! gsutil -m cp -r ../../data/$project/peakplot gs://amlproject/Chip/$project/"
   ]
  },
  {
   "cell_type": "code",
   "execution_count": null,
   "metadata": {},
   "outputs": [],
   "source": []
  }
 ],
 "metadata": {
  "kernelspec": {
   "display_name": "Python 3",
   "language": "python",
   "name": "python3"
  },
  "language_info": {
   "codemirror_mode": {
    "name": "ipython",
    "version": 3
   },
   "file_extension": ".py",
   "mimetype": "text/x-python",
   "name": "python",
   "nbconvert_exporter": "python",
   "pygments_lexer": "ipython3",
   "version": "3.8.3rc1"
  },
  "latex_envs": {
   "LaTeX_envs_menu_present": true,
   "autoclose": false,
   "autocomplete": true,
   "bibliofile": "biblio.bib",
   "cite_by": "apalike",
   "current_citInitial": 1,
   "eqLabelWithNumbers": true,
   "eqNumInitial": 1,
   "hotkeys": {
    "equation": "Ctrl-E",
    "itemize": "Ctrl-I"
   },
   "labels_anchors": false,
   "latex_user_defs": false,
   "report_style_numbering": false,
   "user_envs_cfg": false
  },
  "toc": {
   "base_numbering": 1,
   "nav_menu": {},
   "number_sections": false,
   "sideBar": true,
   "skip_h1_title": false,
   "title_cell": "Table of Contents",
   "title_sidebar": "Contents",
   "toc_cell": false,
   "toc_position": {
    "height": "257.4px",
    "left": "127px",
    "top": "111.6px",
    "width": "165px"
   },
   "toc_section_display": true,
   "toc_window_display": true
  },
  "varInspector": {
   "cols": {
    "lenName": 16,
    "lenType": 16,
    "lenVar": 40
   },
   "kernels_config": {
    "python": {
     "delete_cmd_postfix": "",
     "delete_cmd_prefix": "del ",
     "library": "var_list.py",
     "varRefreshCmd": "print(var_dic_list())"
    },
    "r": {
     "delete_cmd_postfix": ") ",
     "delete_cmd_prefix": "rm(",
     "library": "var_list.r",
     "varRefreshCmd": "cat(var_dic_list()) "
    }
   },
   "types_to_exclude": [
    "module",
    "function",
    "builtin_function_or_method",
    "instance",
    "_Feature"
   ],
   "window_display": false
  }
 },
 "nbformat": 4,
 "nbformat_minor": 2
}
