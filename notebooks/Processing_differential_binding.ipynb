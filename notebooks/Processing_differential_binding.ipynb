{
 "cells": [
  {
   "cell_type": "code",
   "execution_count": null,
   "metadata": {},
   "outputs": [],
   "source": [
    "import os\n",
    "import pandas as pd\n",
    "import sys\n",
    "import numpy as np\n",
    "import sys\n",
    "sys.path.insert(0, '../..')\n",
    "import itertools\n",
    "\n",
    "from JKBio import TerraFunction as terra\n",
    "from ccle_processing.src.CCLE_postp_function import *\n",
    "from JKBio import Helper as h\n",
    "from JKBio.epigenetics import ChIP_helper as chip\n",
    "\n",
    "import dalmatian as dm\n",
    "import pyBigWig\n",
    "\n",
    "from bokeh.plotting import *\n",
    "from IPython.display import IFrame\n",
    "import igv\n",
    "\n",
    "from sklearn.manifold import MDS, TSNE\n",
    "from sklearn.decomposition import PCA\n",
    "from sklearn.preprocessing import scale\n",
    "from sklearn.cluster import AgglomerativeClustering\n",
    "from sklearn.mixture import GaussianMixture\n",
    "\n",
    "output_notebook()\n",
    "%load_ext autoreload\n",
    "%autoreload 2"
   ]
  },
  {
   "cell_type": "markdown",
   "metadata": {},
   "source": [
    "# ChIP"
   ]
  },
  {
   "cell_type": "code",
   "execution_count": null,
   "metadata": {},
   "outputs": [],
   "source": [
    "project=\"IRF2BP2_degron_ChIP\""
   ]
  },
  {
   "cell_type": "code",
   "execution_count": null,
   "metadata": {},
   "outputs": [],
   "source": [
    "!gsutil ls gs://amlproject/Chip/"
   ]
  },
  {
   "cell_type": "code",
   "execution_count": null,
   "metadata": {},
   "outputs": [],
   "source": [
    "# install bwa\n",
    "! mkdir ../../ref\n",
    "! curl ftp://ftp.ncbi.nlm.nih.gov/genomes/all/GCF/000/001/215/GCF_000001215.4_Release_6_plus_ISO1_MT/GCF_000001215.4_Release_6_plus_ISO1_MT_genomic.fna.gz -o ../../ref/reference_droso.fna.gz\n",
    "! gunzip ref/reference_droso.fna.gz\n",
    "! bwa index -a bwtsw ../../ref/reference_droso.fna"
   ]
  },
  {
   "cell_type": "markdown",
   "metadata": {},
   "source": [
    "## V1"
   ]
  },
  {
   "cell_type": "markdown",
   "metadata": {},
   "source": [
    "### analysis"
   ]
  },
  {
   "cell_type": "code",
   "execution_count": null,
   "metadata": {},
   "outputs": [],
   "source": [
    "rename1 = {\n",
    " 'gs://transfer-amlproject/20191211_10_MP7613_S8_R1_001.fastq.gz':\"gs://amlproject/Chip/IRF2BP2_degraded_rep1/fastqs/mp779-MV411_IRF2BP2_DMSO_6h-FLAG_IRF2BP2-r1_1.fastq.gz\",\n",
    " 'gs://transfer-amlproject/20191211_10_MP7613_S8_R2_001.fastq.gz':\"gs://amlproject/Chip/IRF2BP2_degraded_rep1/fastqs/mp779-MV411_IRF2BP2_DMSO_6h-FLAG_IRF2BP2-r1_2.fastq.gz\",\n",
    " 'gs://transfer-amlproject/20191211_11_MP7613_S9_R1_001.fastq.gz':\"gs://amlproject/Chip/IRF2BP2_degraded_rep1/fastqs/mp780-MV411_IRF2BP2_DMSO_6h-MED1-r1_1.fastq.gz\",\n",
    " 'gs://transfer-amlproject/20191211_11_MP7613_S9_R2_001.fastq.gz':\"gs://amlproject/Chip/IRF2BP2_degraded_rep1/fastqs/mp780-MV411_IRF2BP2_DMSO_6h-MED1-r1_2.fastq.gz\",\n",
    " 'gs://transfer-amlproject/20191211_12_MP7613_S10_R1_001.fastq.gz':\"gs://amlproject/Chip/IRF2BP2_degraded_rep1/fastqs/mp781-MV411_IRF2BP2_DMSO_6h-POLII_total-r1_1.fastq.gz\",\n",
    " 'gs://transfer-amlproject/20191211_12_MP7613_S10_R2_001.fastq.gz':\"gs://amlproject/Chip/IRF2BP2_degraded_rep1/fastqs/mp781-MV411_IRF2BP2_DMSO_6h-POLII_total-r1_2.fastq.gz\",\n",
    " 'gs://transfer-amlproject/20191211_13_MP7613_S11_R1_001.fastq.gz':\"gs://amlproject/Chip/IRF2BP2_degraded_rep1/fastqs/mp782-MV411_IRF2BP2_DMSO_6h-POLII_S2-r1_1.fastq.gz\",\n",
    " 'gs://transfer-amlproject/20191211_13_MP7613_S11_R2_001.fastq.gz':\"gs://amlproject/Chip/IRF2BP2_degraded_rep1/fastqs/mp782-MV411_IRF2BP2_DMSO_6h-POLII_S2-r1_2.fastq.gz\",\n",
    " 'gs://transfer-amlproject/20191211_14_MP7613_S12_R1_001.fastq.gz':\"gs://amlproject/Chip/IRF2BP2_degraded_rep1/fastqs/mp783-MV411_IRF2BP2_DMSO_6h-POLII_S5-r1_1.fastq.gz\",\n",
    " 'gs://transfer-amlproject/20191211_14_MP7613_S12_R2_001.fastq.gz':\"gs://amlproject/Chip/IRF2BP2_degraded_rep1/fastqs/mp783-MV411_IRF2BP2_DMSO_6h-POLII_S5-r1_2.fastq.gz\",\n",
    " 'gs://transfer-amlproject/20191211_15_MP7613_S13_R1_001.fastq.gz':\"gs://amlproject/Chip/IRF2BP2_degraded_rep1/fastqs/mp784-MV411_IRF2BP2_DMSO_6h-MYC-r1_1.fastq.gz\",\n",
    " 'gs://transfer-amlproject/20191211_15_MP7613_S13_R2_001.fastq.gz':\"gs://amlproject/Chip/IRF2BP2_degraded_rep1/fastqs/mp784-MV411_IRF2BP2_DMSO_6h-MYC-r1_2.fastq.gz\",\n",
    " 'gs://transfer-amlproject/20191211_16_MP7613_S14_R1_001.fastq.gz':\"gs://amlproject/Chip/IRF2BP2_degraded_rep1/fastqs/mp785-MV411_IRF2BP2_DMSO_6h-MYB-r1_1.fastq.gz\",\n",
    " 'gs://transfer-amlproject/20191211_16_MP7613_S14_R2_001.fastq.gz':\"gs://amlproject/Chip/IRF2BP2_degraded_rep1/fastqs/mp785-MV411_IRF2BP2_DMSO_6h-MYB-r1_2.fastq.gz\",\n",
    " 'gs://transfer-amlproject/20191211_1_MP7613_S1_R1_001.fastq.gz':\"gs://amlproject/Chip/IRF2BP2_degraded_rep1/fastqs/mp786-MV411_IRF2BP2_DMSO_6h-SPI1-r1_1.fastq.gz\",\n",
    " 'gs://transfer-amlproject/20191211_1_MP7613_S1_R2_001.fastq.gz':\"gs://amlproject/Chip/IRF2BP2_degraded_rep1/fastqs/mp786-MV411_IRF2BP2_DMSO_6h-SPI1-r1_2.fastq.gz\",\n",
    " 'gs://transfer-amlproject/20191211_2_MP7613_S2_R1_001.fastq.gz':\"gs://amlproject/Chip/IRF2BP2_degraded_rep1/fastqs/mp787-MV411_IRF2BP_VHL_6h-FLAG_IRF2BP2-r1_1.fastq.gz\",\n",
    " 'gs://transfer-amlproject/20191211_2_MP7613_S2_R2_001.fastq.gz':\"gs://amlproject/Chip/IRF2BP2_degraded_rep1/fastqs/mp787-MV411_IRF2BP_VHL_6h-FLAG_IRF2BP2-r1_2.fastq.gz\",\n",
    " 'gs://transfer-amlproject/20191211_3_MP7613_S3_R1_001.fastq.gz':\"gs://amlproject/Chip/IRF2BP2_degraded_rep1/fastqs/mp788-MV411_IRF2BP_VHL_6h-MED1-r1_1.fastq.gz\",\n",
    " 'gs://transfer-amlproject/20191211_3_MP7613_S3_R2_001.fastq.gz':\"gs://amlproject/Chip/IRF2BP2_degraded_rep1/fastqs/mp788-MV411_IRF2BP_VHL_6h-MED1-r1_2.fastq.gz\",\n",
    " 'gs://transfer-amlproject/20191211_4_MP7613_S4_R1_001.fastq.gz':\"gs://amlproject/Chip/IRF2BP2_degraded_rep1/fastqs/mp789-MV411_IRF2BP_VHL_6h-POLII_total-r1_1.fastq.gz\",\n",
    " 'gs://transfer-amlproject/20191211_4_MP7613_S4_R2_001.fastq.gz':\"gs://amlproject/Chip/IRF2BP2_degraded_rep1/fastqs/mp789-MV411_IRF2BP_VHL_6h-POLII_total-r1_2.fastq.gz\",\n",
    " 'gs://transfer-amlproject/20191211_5R_MP7613_S15_R1_001.fastq.gz':\"gs://amlproject/Chip/IRF2BP2_degraded_rep1/fastqs/mp790-MV411_IRF2BP_VHL_6h-POLII_S2-r1_1.fastq.gz\",\n",
    " 'gs://transfer-amlproject/20191211_5R_MP7613_S15_R2_001.fastq.gz':\"gs://amlproject/Chip/IRF2BP2_degraded_rep1/fastqs/mp790-MV411_IRF2BP_VHL_6h-POLII_S2-r1_2.fastq.gz\",\n",
    " 'gs://transfer-amlproject/20191211_6R_MP7613_S16_R1_001.fastq.gz':\"gs://amlproject/Chip/IRF2BP2_degraded_rep1/fastqs/mp791-MV411_IRF2BP_VHL_6h-POLII_S5-r1_1.fastq.gz\",\n",
    " 'gs://transfer-amlproject/20191211_6R_MP7613_S16_R2_001.fastq.gz':\"gs://amlproject/Chip/IRF2BP2_degraded_rep1/fastqs/mp791-MV411_IRF2BP_VHL_6h-POLII_S5-r1_2.fastq.gz\",\n",
    " 'gs://transfer-amlproject/20191211_7_MP7613_S5_R1_001.fastq.gz':\"gs://amlproject/Chip/IRF2BP2_degraded_rep1/fastqs/mp792-MV411_IRF2BP_VHL_6h-MYC-r1_1.fastq.gz\",\n",
    " 'gs://transfer-amlproject/20191211_7_MP7613_S5_R2_001.fastq.gz':\"gs://amlproject/Chip/IRF2BP2_degraded_rep1/fastqs/mp792-MV411_IRF2BP_VHL_6h-MYC-r1_2.fastq.gz\",\n",
    " 'gs://transfer-amlproject/20191211_8_MP7613_S6_R1_001.fastq.gz':\"gs://amlproject/Chip/IRF2BP2_degraded_rep1/fastqs/mp793-MV411_IRF2BP_VHL_6h-MYB-r1_1.fastq.gz\",\n",
    " 'gs://transfer-amlproject/20191211_8_MP7613_S6_R2_001.fastq.gz':\"gs://amlproject/Chip/IRF2BP2_degraded_rep1/fastqs/mp793-MV411_IRF2BP_VHL_6h-MYB-r1_2.fastq.gz\",\n",
    " 'gs://transfer-amlproject/20191211_9_MP7613_S7_R1_001.fastq.gz':\"gs://amlproject/Chip/IRF2BP2_degraded_rep1/fastqs/mp794-MV411_IRF2BP_VHL_6h-SPI1-r1_1.fastq.gz\",\n",
    " 'gs://transfer-amlproject/20191211_9_MP7613_S7_R2_001.fastq.gz':\"gs://amlproject/Chip/IRF2BP2_degraded_rep1/fastqs/mp794-MV411_IRF2BP_VHL_6h-SPI1-r1_2.fastq.gz\"}"
   ]
  },
  {
   "cell_type": "code",
   "execution_count": null,
   "metadata": {},
   "outputs": [],
   "source": [
    "for k, val in rename1.items():\n",
    "    os.system('gsutil mv '+k+' '+val)"
   ]
  },
  {
   "cell_type": "code",
   "execution_count": null,
   "metadata": {},
   "outputs": [],
   "source": [
    "! gsutil -m cp -r gs://amlproject/Chip/IRF2BP2_degraded_rep1 ../../data/\n",
    "inputfastq=\"gs://amlproject/Chip/fastqs/mp99-MV411-INPUT-r1.fastq.gz\"\n",
    "! gsutil cp $inputfastq ../../data/IRF2BP2_degraded_rep1/fastqs/\n",
    "a = ! ls ../../data/IRF2BP2_degraded_rep1/fastqs/"
   ]
  },
  {
   "cell_type": "code",
   "execution_count": null,
   "metadata": {},
   "outputs": [],
   "source": [
    "from gsheets import Sheets\n",
    "sheets = Sheets.from_files('~/.client_secret.json', '~/.storage.json')\n",
    "url=\"https://docs.google.com/spreadsheets/d/1yFLjYB1McU530JnLgL0QIMAKIkVl3kl0_LCHje2gk8U\"\n",
    "gsheet = sheets.get(url).sheets[2].to_frame()"
   ]
  },
  {
   "cell_type": "code",
   "execution_count": null,
   "metadata": {},
   "outputs": [],
   "source": [
    "gsheet"
   ]
  },
  {
   "cell_type": "code",
   "execution_count": null,
   "metadata": {},
   "outputs": [],
   "source": [
    "df = {\n",
    "\"fastq1\": [],\n",
    "\"fastq2\": [],\n",
    "\"antibody\": [],\n",
    "\"group\": [],\n",
    "\"replicate\": [],\n",
    "\"control\": []\n",
    "}\n",
    "for val in helper.grouped(a[:-1],2):\n",
    "    row = gsheet[gsheet.id==val[0].split('/')[-1].split('_')[0]]\n",
    "    df['group'].append((row.id.values[0] + '_'+ row.name_replicate.values[0] +\"_\"+row.protein.values[0]))\n",
    "    df['replicate'].append(1)\n",
    "    df['fastq1'].append(val[0])\n",
    "    #df['fastq2'].append(val[1])\n",
    "    df['antibody'].append(row.protein.values[0])\n",
    "    df['control'].append(\"INPUT\")\n",
    "df['group'].append('INPUT')\n",
    "df['replicate'].append(1)\n",
    "df['fastq1'].append(a[-1])\n",
    "#df['fastq2'].append(val[1])\n",
    "df['antibody'].append(\"INPUT\")\n",
    "df['control'].append(\"INPUT\")\n",
    "df = pd.DataFrame(df)"
   ]
  },
  {
   "cell_type": "code",
   "execution_count": null,
   "metadata": {},
   "outputs": [],
   "source": [
    "df[df.columns[[3,4,0,1,2,5]]].to_csv('../nextflow/design_IRF2BP2_degraded_rep1.csv')"
   ]
  },
  {
   "cell_type": "code",
   "execution_count": null,
   "metadata": {},
   "outputs": [],
   "source": [
    "#process chips\n",
    "! sudo ./nextflow run nf-core/chipseq --single_end --seq_center 'DFCI' --email 'jkobject@gmail.com' --narrow_peak --input ../nextflow/design_IRF2BP2_degraded_rep1.csv --genome GRCh38 --skip_preseq --max_cpus 24 -profile docker -w work"
   ]
  },
  {
   "cell_type": "code",
   "execution_count": null,
   "metadata": {},
   "outputs": [],
   "source": [
    "#!gsutil cp results/* ../../data/IRF2BP2_degraded_rep1/ && sudo rm -r results && sudo rm -r work"
   ]
  },
  {
   "cell_type": "code",
   "execution_count": null,
   "metadata": {},
   "outputs": [],
   "source": [
    "# get scaling values\n",
    "mappedreads, umappedreads_norm, mapped = chip.getSpikeInControlScales(refgenome=\"../../ref/reference_droso.fna\",FastQfolder='../../data/IRF2BP2_degraded_rep1/fastqs/',pairedEnd=True, cores=8)\n",
    "mappedreads, umappedreads_norm, mapped"
   ]
  },
  {
   "cell_type": "markdown",
   "metadata": {},
   "source": [
    "computing scales from the excel sheet"
   ]
  },
  {
   "cell_type": "code",
   "execution_count": null,
   "metadata": {},
   "outputs": [],
   "source": [
    "scales = [[562285,1496707],\n",
    "[1686168,7198567],\n",
    "[3642441,2612624],\n",
    "[3992589,3474812],\n",
    "[3347901,3829477],\n",
    "[6181136,989703],\n",
    "[7523840,4173047],\n",
    "[922482,1195857]]"
   ]
  },
  {
   "cell_type": "code",
   "execution_count": null,
   "metadata": {},
   "outputs": [],
   "source": [
    "scales = [[1.0, 0.3756814126], #IRF2BP2\n",
    "[1.0, 0.2342366196], #MED1\n",
    "[0.5546432407, 1.0], #MYB\n",
    "[0.1601166841, 1.0], #MYC\n",
    "[0.870315477, 1.0], #POL2S2\n",
    "[1.0, 0.8742449687], #POL2S5\n",
    "[0.7172728398, 1.0], #POL2TOT\n",
    "[1.0, 0.7713982525]] #SPI1"
   ]
  },
  {
   "cell_type": "markdown",
   "metadata": {},
   "source": [
    "### on scalled data\n"
   ]
  },
  {
   "cell_type": "code",
   "execution_count": null,
   "metadata": {},
   "outputs": [],
   "source": [
    "bams = !ls ../../data/IRF2BP2_degraded_rep1/diffData/*treat_pileup.bdg\n",
    "bams = ['_'.join(i.split('/')[-1].split('_')[:-2]) for i in bams]\n",
    "bams"
   ]
  },
  {
   "cell_type": "code",
   "execution_count": null,
   "metadata": {},
   "outputs": [],
   "source": [
    "# diffPeak on scalled data\n",
    "sizes = [220, 191, 211, 204, 285, 222, 228, 194]\n",
    "for i in range(int(len(bams)/2)):\n",
    "    name1 = bams[i]\n",
    "    name2 = bams[i+8]\n",
    "    print(name1,name2)\n",
    "    print(chip.diffPeak(name1,name2, directory= \"../../data/IRF2BP2_degraded_rep1/diffData/\", res_directory='../../data/IRF2BP2_degraded_rep1/diffPeaks/', scaling1=scales[i][1], scaling2=scales[i][0], size=size[i]))"
   ]
  },
  {
   "cell_type": "code",
   "execution_count": null,
   "metadata": {},
   "outputs": [],
   "source": [
    "# diffPeak on scalled data\n",
    "for i in range(int(len(bams[1:])/2)-1):\n",
    "    name1 = bams[1+i]\n",
    "    name2 = bams[9+i]\n",
    "    chip.fullDiffPeak(name1,name2, bams[0], scaling = scales[i],compute_size=True)"
   ]
  },
  {
   "cell_type": "code",
   "execution_count": null,
   "metadata": {},
   "outputs": [],
   "source": [
    "scales = [1.0,\n",
    "1.0,\n",
    "0.5546432407,\n",
    "0.1601166841,\n",
    "0.870315477,\n",
    "1.0,\n",
    "0.7172728398,\n",
    "1.0,\n",
    "0.3756814126,\n",
    "0.2342366196,\n",
    "1.0,\n",
    "1.0,\n",
    "1.0,\n",
    "0.8742449687,\n",
    "1.0,\n",
    "0.7713982525]"
   ]
  },
  {
   "cell_type": "code",
   "execution_count": null,
   "metadata": {},
   "outputs": [],
   "source": [
    "chip.bigWigFrom(bams[1:], genome='GRCh38',scaling=scales)"
   ]
  },
  {
   "cell_type": "code",
   "execution_count": null,
   "metadata": {},
   "outputs": [],
   "source": [
    "! mv ../../data/recalib_bigwig_rep1/* ../../data/IRF2BP2_degraded_rep1/recalib_bigwig/\n",
    "bw = ! ls ../../data/IRF2BP2_degraded_rep1/recalib_bigwig/*.bw\n",
    "bw"
   ]
  },
  {
   "cell_type": "code",
   "execution_count": null,
   "metadata": {},
   "outputs": [],
   "source": [
    "cond1peak = ! ls ../../data/IRF2BP2_degraded_rep1/diffPeaks/*cond1.bed\n",
    "cond2peak = ! ls ../../data/IRF2BP2_degraded_rep1/diffPeaks/*cond2.bed\n",
    "commonpeak = ! ls ../../data/IRF2BP2_degraded_rep1/diffPeaks/*common.bed\n",
    "commonpeak"
   ]
  },
  {
   "cell_type": "code",
   "execution_count": null,
   "metadata": {},
   "outputs": [],
   "source": [
    "names = [\"FLAG_IRF2BP2\",\"MED1\",\"MYB\",\"MYC\",\"POLII_S2\",\"POLII_S5\",\"POLII_total\",\"SPI1\"]"
   ]
  },
  {
   "cell_type": "code",
   "execution_count": null,
   "metadata": {},
   "outputs": [],
   "source": [
    "for i in range(int(len(bw)/2)):\n",
    "    if i<0:\n",
    "        continue\n",
    "    name1 = bw[i]\n",
    "    name2 = bw[8+i]\n",
    "    peak = [cond1peak[i], commonpeak[i], cond2peak[i]]\n",
    "    for val in peak:\n",
    "        chip.dropWeirdChromosomes(val)\n",
    "    name = names[i]\n",
    "    print(name1,name2)\n",
    "    chip.getPeaksAt(peak, [name1, name2], bigwignames=['DMSO', 'VHL'], peaknames=['DMSO_peaks', 'common', 'VHL_peaks'], window=3000, refpoint='center', folder=\"\", title=name, numthreads=7, torecompute=True, name='../../data/IRF2BP2_degraded_rep1/diffPeaks/'+name+'_mat.pdf', withDeeptools=True)"
   ]
  },
  {
   "cell_type": "code",
   "execution_count": null,
   "metadata": {},
   "outputs": [],
   "source": [
    "peaks = ! ls ../../data/IRF2BP2_degraded_rep1/bwa/mergedLibrary/macs/narrowPeak/*.narrowPeak\n",
    "peaks"
   ]
  },
  {
   "cell_type": "code",
   "execution_count": null,
   "metadata": {},
   "outputs": [],
   "source": [
    "names = [\"FLAG_IRF2BP2\",\"MED1\",\"MYB\",\"MYC\",\"POLII_S2\",\"POLII_S5\",\"POLII_total\",\"SPI1\"]\n",
    "names.extend([i+'_VHL' for i in names])\n",
    "names"
   ]
  },
  {
   "cell_type": "code",
   "execution_count": null,
   "metadata": {},
   "outputs": [],
   "source": [
    "for i in range(len(bw)):\n",
    "    chip.getPeaksAt(peaks[i], bw[i], window=3000, folder=\"\", title=names[i], numthreads=7, torecompute=True, onlyProfile=True, refpoint='center', name='../../data/IRF2BP2_degraded_rep1/diffPeaks/'+names[i]+'_mat_profile.pdf', withDeeptools=True)\n",
    "    chip.getPeaksAt(peaks[i], bw[i], window=3000, folder=\"\", title=names[i], numthreads=7, torecompute=True, refpoint='center',onlyProfile=True,name='../../data/IRF2BP2_degraded_rep1/diffPeaks/'+names[i]+'_mat_profile_clust3.pdf', withDeeptools=True, cluster=3)"
   ]
  },
  {
   "cell_type": "markdown",
   "metadata": {},
   "source": [
    "### on unscalled data"
   ]
  },
  {
   "cell_type": "code",
   "execution_count": null,
   "metadata": {},
   "outputs": [],
   "source": [
    "bams = !ls ../../data/IRF2BP2_degraded_rep1/bwa/mergedLibrary/mp*.bam\n",
    "bams"
   ]
  },
  {
   "cell_type": "code",
   "execution_count": null,
   "metadata": {},
   "outputs": [],
   "source": [
    "! mkdir ../../data/IRF2BP2_degraded_rep1/diffPeaks_unscaled"
   ]
  },
  {
   "cell_type": "code",
   "execution_count": null,
   "metadata": {},
   "outputs": [],
   "source": [
    "bams= list(bams)"
   ]
  },
  {
   "cell_type": "code",
   "execution_count": null,
   "metadata": {},
   "outputs": [],
   "source": [
    "bams"
   ]
  },
  {
   "cell_type": "code",
   "execution_count": null,
   "metadata": {},
   "outputs": [],
   "source": [
    "size"
   ]
  },
  {
   "cell_type": "code",
   "execution_count": null,
   "metadata": {},
   "outputs": [],
   "source": [
    "# on unscalled data \n",
    "for i in range(int((len(bams)-1)/2)-1):\n",
    "    if i < 0:\n",
    "        continue\n",
    "    name1 = bams[1+i]\n",
    "    name2 = bams[9+i]\n",
    "    chip.fullDiffPeak(name1,name2, control1=bams[0], size=size[i], compute_size=False, directory = \"../../data/IRF2BP2_degraded_rep1/diffData_unscaled/\", res_directory = \"../../data/IRF2BP2_degraded_rep1/diffPeaks_unscaled/\",pairedend=False)"
   ]
  },
  {
   "cell_type": "code",
   "execution_count": null,
   "metadata": {},
   "outputs": [],
   "source": [
    "bw = ! ls ../../data/IRF2BP2_degraded_rep1/bwa/mergedLibrary/bigwig/*.bigWig"
   ]
  },
  {
   "cell_type": "code",
   "execution_count": null,
   "metadata": {},
   "outputs": [],
   "source": [
    "commonpeak = ! ls ../../data/IRF2BP2_degraded_rep1/diffPeaks_unscaled/*common.bed\n",
    "cond1peak = ! ls ../../data/IRF2BP2_degraded_rep1/diffPeaks_unscaled/*cond1.bed\n",
    "cond2peak = ! ls ../../data/IRF2BP2_degraded_rep1/diffPeaks_unscaled/*cond2.bed\n",
    "cond2peak"
   ]
  },
  {
   "cell_type": "code",
   "execution_count": null,
   "metadata": {},
   "outputs": [],
   "source": [
    "names = [\"FLAG_IRF2BP2\",\"MED1\",\"POLII_total\",\"POLII_S2\",\"POLII_S5\",\"MYC\",\"MYB\",\"SPI1\"]"
   ]
  },
  {
   "cell_type": "code",
   "execution_count": null,
   "metadata": {},
   "outputs": [],
   "source": [
    "for i in range(int(len(bw[1:])/2)-1):\n",
    "    name1 = bw[1+i]\n",
    "    name2 = bw[9+i]\n",
    "    peak = [cond1peak[i], commonpeak[i], cond2peak[i]]\n",
    "    for val in peak:\n",
    "        chip.dropWeirdChromosomes(val)\n",
    "    name = names[i]\n",
    "    chip.getPeaksAt(peak, [name1, name2], bigwignames=['DMSO', 'VHL'], peaknames=['DMSO_peaks', 'common', 'VHL_peaks'], window=3000, title=name, numthreads=7, refpoint='center', folder=\"../../data/IRF2BP2_degraded_rep1/bwa/mergedLibrary/bigwig/\", torecompute=True, name='../../data/IRF2BP2_degraded_rep1/diffPeaks_unscaled/'+name+'_mat.pdf', withDeeptools=True)"
   ]
  },
  {
   "cell_type": "code",
   "execution_count": null,
   "metadata": {},
   "outputs": [],
   "source": [
    "! gsutil -m cp -r ../../data/IRF2BP2_degraded_rep1 gs://amlproject/Chip/\n",
    "# rm -r ../../data/IRF2BP2_degraded_rep1"
   ]
  },
  {
   "cell_type": "markdown",
   "metadata": {},
   "source": [
    "## v2"
   ]
  },
  {
   "cell_type": "code",
   "execution_count": null,
   "metadata": {},
   "outputs": [],
   "source": [
    "# mkdir ../../data/IRF2BP2_degraded_rep2/ && mkdir ../../data/IRF2BP2_degraded_rep2/fastqs && gsutil -m cp \"gs://transfer-amlproject/20191219_MP7659*\" ../../data/IRF2BP2_degraded_rep2/fastqs/"
   ]
  },
  {
   "cell_type": "markdown",
   "metadata": {},
   "source": [
    "### analysis"
   ]
  },
  {
   "cell_type": "code",
   "execution_count": null,
   "metadata": {},
   "outputs": [],
   "source": [
    "rename = {\n",
    "\"20191219_MP7659_1_S1_R1_001.fastq.gz\":\"mp795-MV411_IRF2BP2_DMSO_6h-FLAG_IRF2BP2-r2_R1.fastq.gz\",\n",
    "\"20191219_MP7659_1_S1_R2_001.fastq.gz\":\"mp795-MV411_IRF2BP2_DMSO_6h-FLAG_IRF2BP2-r2_R2.fastq.gz\",\n",
    "\"20191219_MP7659_2_S2_R1_001.fastq.gz\":\"mp796-MV411_IRF2BP2_DMSO_6h-MED1-r2_R1.fastq.gz\",\n",
    "\"20191219_MP7659_2_S2_R2_001.fastq.gz\":\"mp796-MV411_IRF2BP2_DMSO_6h-MED1-r2_R2.fastq.gz\",\n",
    "\"20191219_MP7659_3_S3_R1_001.fastq.gz\":\"mp797-MV411_IRF2BP2_DMSO_6h-POLII_total-r2_R1.fastq.gz\",\n",
    "\"20191219_MP7659_3_S3_R2_001.fastq.gz\":\"mp797-MV411_IRF2BP2_DMSO_6h-POLII_total-r2_R2.fastq.gz\",\n",
    "\"20191219_MP7659_4_S4_R1_001.fastq.gz\":\"mp798-MV411_IRF2BP2_DMSO_6h-POLII_S2-r2_R1.fastq.gz\",\n",
    "\"20191219_MP7659_4_S4_R2_001.fastq.gz\":\"mp798-MV411_IRF2BP2_DMSO_6h-POLII_S2-r2_R2.fastq.gz\",\n",
    "\"20191219_MP7659_5_S5_R1_001.fastq.gz\":\"mp799-MV411_IRF2BP2_DMSO_6h-POLII_S5-r2_R1.fastq.gz\",\n",
    "\"20191219_MP7659_5_S5_R2_001.fastq.gz\":\"mp799-MV411_IRF2BP2_DMSO_6h-POLII_S5-r2_R2.fastq.gz\",\n",
    "\"20191219_MP7659_6_S6_R1_001.fastq.gz\":\"mp800-MV411_IRF2BP2_DMSO_6h-MYC-r2_R1.fastq.gz\",\n",
    "\"20191219_MP7659_6_S6_R2_001.fastq.gz\":\"mp800-MV411_IRF2BP2_DMSO_6h-MYC-r2_R2.fastq.gz\",\n",
    "\"20191219_MP7659_7_S7_R1_001.fastq.gz\":\"mp801-MV411_IRF2BP2_DMSO_6h-MYB-r2_R1.fastq.gz\",\n",
    "\"20191219_MP7659_7_S7_R2_001.fastq.gz\":\"mp801-MV411_IRF2BP2_DMSO_6h-MYB-r2_R2.fastq.gz\",\n",
    "\"20191219_MP7659_8_S8_R1_001.fastq.gz\":\"mp802-MV411_IRF2BP2_DMSO_6h-SPI1-r2_R1.fastq.gz\",\n",
    "\"20191219_MP7659_8_S8_R2_001.fastq.gz\":\"mp802-MV411_IRF2BP2_DMSO_6h-SPI1-r2_R2.fastq.gz\",\n",
    "\"20191219_MP7659_9_S9_R1_001.fastq.gz\":\"mp803-MV411_IRF2BP_VHL_6h-FLAG_IRF2BP2-r2_R1.fastq.gz\",\n",
    "\"20191219_MP7659_9_S9_R2_001.fastq.gz\":\"mp803-MV411_IRF2BP_VHL_6h-FLAG_IRF2BP2-r2_R2.fastq.gz\",\n",
    "\"20191219_MP7659_10_S10_R1_001.fastq.gz\":\"mp804-MV411_IRF2BP_VHL_6h-MED1-r2_R1.fastq.gz\",\n",
    "\"20191219_MP7659_10_S10_R2_001.fastq.gz\":\"mp804-MV411_IRF2BP_VHL_6h-MED1-r2_R2.fastq.gz\",\n",
    "\"20191219_MP7659_11_S11_R1_001.fastq.gz\":\"mp805-MV411_IRF2BP_VHL_6h-POLII_total-r2_R1.fastq.gz\",\n",
    "\"20191219_MP7659_11_S11_R2_001.fastq.gz\":\"mp805-MV411_IRF2BP_VHL_6h-POLII_total-r2_R2.fastq.gz\",\n",
    "\"20191219_MP7659_12_S12_R1_001.fastq.gz\":\"mp806-MV411_IRF2BP_VHL_6h-POLII_S2-r2_R1.fastq.gz\",\n",
    "\"20191219_MP7659_12_S12_R2_001.fastq.gz\":\"mp806-MV411_IRF2BP_VHL_6h-POLII_S2-r2_R2.fastq.gz\",\n",
    "\"20191219_MP7659_13_S13_R1_001.fastq.gz\":\"mp807-MV411_IRF2BP_VHL_6h-POLII_S5-r2_R1.fastq.gz\",\n",
    "\"20191219_MP7659_13_S13_R2_001.fastq.gz\":\"mp807-MV411_IRF2BP_VHL_6h-POLII_S5-r2_R2.fastq.gz\",\n",
    "\"20191219_MP7659_14_S14_R1_001.fastq.gz\":\"mp808-MV411_IRF2BP_VHL_6h-MYC-r2_R1.fastq.gz\",\n",
    "\"20191219_MP7659_14_S14_R2_001.fastq.gz\":\"mp808-MV411_IRF2BP_VHL_6h-MYC-r2_R2.fastq.gz\",\n",
    "\"20191219_MP7659_15_S15_R1_001.fastq.gz\":\"mp809-MV411_IRF2BP_VHL_6h-MYB-r2_R1.fastq.gz\",\n",
    "\"20191219_MP7659_15_S15_R2_001.fastq.gz\":\"mp809-MV411_IRF2BP_VHL_6h-MYB-r2_R2.fastq.gz\",\n",
    "\"20191219_MP7659_16_S16_R1_001.fastq.gz\":\"mp810-MV411_IRF2BP_VHL_6h-SPI1-r2_R1.fastq.gz\",\n",
    "\"20191219_MP7659_16_S16_R2_001.fastq.gz\":\"mp810-MV411_IRF2BP_VHL_6h-SPI1-r2_R2.fastq.gz\"\n",
    "}"
   ]
  },
  {
   "cell_type": "code",
   "execution_count": null,
   "metadata": {},
   "outputs": [],
   "source": [
    "for k,v in rename.items():\n",
    "    ! mv ../../data/IRF2BP2_degraded_rep2/fastqs/$k ../../data/IRF2BP2_degraded_rep2/fastqs/$v\n"
   ]
  },
  {
   "cell_type": "code",
   "execution_count": null,
   "metadata": {},
   "outputs": [],
   "source": [
    "inputfastq=\"gs://amlproject/Chip/fastqs/mp99-MV411-INPUT-r1.fastq.gz\"\n",
    "! gsutil cp $inputfastq ../../data/IRF2BP2_degraded_rep2/fastqs\n",
    "a = ! ls ../../data/IRF2BP2_degraded_rep2/fastqs"
   ]
  },
  {
   "cell_type": "code",
   "execution_count": null,
   "metadata": {},
   "outputs": [],
   "source": [
    "from gsheets import Sheets\n",
    "sheets = Sheets.from_files('~/.client_secret.json', '~/.storage.json')\n",
    "url=\"https://docs.google.com/spreadsheets/d/1yFLjYB1McU530JnLgL0QIMAKIkVl3kl0_LCHje2gk8U\"\n",
    "gsheet = sheets.get(url).sheets[2].to_frame()"
   ]
  },
  {
   "cell_type": "code",
   "execution_count": null,
   "metadata": {},
   "outputs": [],
   "source": [
    "df = {\n",
    "\"fastq1\": [],\n",
    "\"fastq2\": [],\n",
    "\"antibody\": [],\n",
    "\"group\": [],\n",
    "\"replicate\": [],\n",
    "\"control\": []\n",
    "}\n",
    "for val in helper.grouped(a[:-1],2):\n",
    "    row = gsheet[gsheet.id==val[0].split('/')[-1].split('_')[0]]\n",
    "    df['group'].append((row.id.values[0] + '_'+ row.name_replicate.values[0] +\"_\"+row.protein.values[0]))\n",
    "    df['replicate'].append(1)\n",
    "    df['fastq1'].append(val[0])\n",
    "    #df['fastq2'].append(val[1])\n",
    "    df['antibody'].append(row.protein.values[0])\n",
    "    df['control'].append(\"INPUT\")\n",
    "df['group'].append('INPUT')\n",
    "df['replicate'].append(1)\n",
    "df['fastq1'].append(a[-1])\n",
    "#df['fastq2'].append(val[1])\n",
    "df['antibody'].append(\"INPUT\")\n",
    "df['control'].append(\"INPUT\")\n",
    "df = pd.DataFrame(df)"
   ]
  },
  {
   "cell_type": "code",
   "execution_count": null,
   "metadata": {},
   "outputs": [],
   "source": [
    "df[df.columns[[3,4,0,1,2,5]]].to_csv('../nextflow/IRF2BP2_degraded_rep2_design.csv')"
   ]
  },
  {
   "cell_type": "code",
   "execution_count": null,
   "metadata": {},
   "outputs": [],
   "source": [
    "#process chips\n",
    "! sudo ./nextflow run nf-core/chipseq --single_end --seq_center 'DFCI' --email 'jkobject@gmail.com' --narrow_peak --input ../nextflow/IRF2BP2_degraded_rep2_design.csv --genome GRCh38 --skip_preseq --max_cpus 24 -profile docker -w work"
   ]
  },
  {
   "cell_type": "code",
   "execution_count": null,
   "metadata": {},
   "outputs": [],
   "source": [
    "#!gsutil cp results/* ../../data/IRF2BP2_degraded_rep2/ && sudo rm -r work && sudo rm -r results"
   ]
  },
  {
   "cell_type": "code",
   "execution_count": null,
   "metadata": {},
   "outputs": [],
   "source": [
    "# get scaling values\n",
    "mappedreads, umappedreads_norm, mapped = chip.getSpikeInControlScales(refgenome=\"../../ref/reference_droso.fna\",FastQfolder='../../data/IRF2BP2_degraded_rep2/fastqs/',pairedEnd=True, cores=8)\n",
    "mappedreads, umappedreads_norm, mapped"
   ]
  },
  {
   "cell_type": "markdown",
   "metadata": {},
   "source": [
    "computing scales from the excel sheet"
   ]
  },
  {
   "cell_type": "code",
   "execution_count": null,
   "metadata": {},
   "outputs": [],
   "source": [
    "scales = [[508878,637972],\n",
    "[1929129,11595],\n",
    "[669536,429562],\n",
    "[1272730,810802],\n",
    "[743859,893304],\n",
    "[312888,1154119],\n",
    "[1086031,880901],\n",
    "[850181,1019640]]"
   ]
  },
  {
   "cell_type": "code",
   "execution_count": null,
   "metadata": {},
   "outputs": [],
   "source": [
    "scales = [[1.0, 0.7976494266],\n",
    "[0.006010484524, 1.0],\n",
    "[0.6415816327, 1.0],\n",
    "[0.6370573492, 1.0],\n",
    "[1.0, 0.8327053276],\n",
    "[1.0, 0.2711054926],\n",
    "[0.8111195721, 1.0],\n",
    "[1.0, 0.8338050685]]"
   ]
  },
  {
   "cell_type": "markdown",
   "metadata": {},
   "source": [
    "### on scalled data"
   ]
  },
  {
   "cell_type": "code",
   "execution_count": null,
   "metadata": {},
   "outputs": [],
   "source": [
    "# on scaled data\n",
    "bams = ! ls ../../IRF2BP2_degraded_rep2/bwa/mergedLibrary/*.bam\n",
    "for i in range(int(len(bams[1:])/2)-1):\n",
    "    name1 = bams[1+val]\n",
    "    name2 = bams[9+val]\n",
    "    chip.fullDiffPeak(name1,name2,control1='../../data/IRF2BP2_degraded_rep2/bwa/mergedLibrary/INPUT_R1.mLb.clN.sorted.bam', directory = \"../../data/IRF2BP2_degraded_rep2/diffData_unscaled/\", res_directory = \"../../data/IRF2BP2_degraded_rep2/diffPeaks_unscaled/\", scaling = scales[val][::-1])"
   ]
  },
  {
   "cell_type": "code",
   "execution_count": null,
   "metadata": {},
   "outputs": [],
   "source": [
    "bams = ! ls ../../data/IRF2BP2_degraded_rep2/bwa/mergedLibrary/*.bam\n",
    "bams = [i.split('/')[-1].split('.')[0] for i in bams]\n",
    "bams"
   ]
  },
  {
   "cell_type": "code",
   "execution_count": null,
   "metadata": {},
   "outputs": [],
   "source": [
    "# diffPeak on scalled data\n",
    "sizes = [220, 191, 228, 285, 222, 204, 211, 194]\n",
    "for i in range(int(len(bams[1:])/2)-1):\n",
    "    name1 = bams[1+i]\n",
    "    name2 = bams[9+i]\n",
    "    chip.diffPeak(name1,name2, directory= \"../../data/IRF2BP2_degraded_rep2/diffData/\", res_directory='../../data/IRF2BP2_degraded_rep2/diffPeaks/', scaling1=scales[i][1], scaling2=scales[i][0], size=size[i])"
   ]
  },
  {
   "cell_type": "code",
   "execution_count": null,
   "metadata": {},
   "outputs": [],
   "source": [
    "scales = [1.0,\n",
    "0.006010484524,\n",
    "0.6415816327,\n",
    "0.6370573492,\n",
    "1.0,\n",
    "1.0,\n",
    "0.8111195721,\n",
    "1.0,\n",
    "0.7976494266,\n",
    "1.0,\n",
    "1.0,\n",
    "1.0,\n",
    "0.8327053276,\n",
    "0.2711054926,\n",
    "1.0,\n",
    "0.8338050685]"
   ]
  },
  {
   "cell_type": "code",
   "execution_count": null,
   "metadata": {},
   "outputs": [],
   "source": [
    "chip.bigWigFrom(bams[1:],genome='GRCh38',scaling=scales)"
   ]
  },
  {
   "cell_type": "code",
   "execution_count": null,
   "metadata": {},
   "outputs": [],
   "source": [
    "! mv ../../data/recalib_bigwig_rep2/* ../../data/IRF2BP2_degraded_rep2/recalib_bigwig/\n",
    "bw = ! ls ../../data/IRF2BP2_degraded_rep2/recalib_bigwig/*.bw\n",
    "bw"
   ]
  },
  {
   "cell_type": "code",
   "execution_count": null,
   "metadata": {},
   "outputs": [],
   "source": [
    "cond1peak = ! ls ../../data/IRF2BP2_degraded_rep2/diffPeaks/*cond1.bed\n",
    "cond2peak = ! ls ../../data/IRF2BP2_degraded_rep2/diffPeaks/*cond2.bed\n",
    "commonpeak = ! ls ../../data/IRF2BP2_degraded_rep2/diffPeaks/*common.bed\n",
    "commonpeak"
   ]
  },
  {
   "cell_type": "code",
   "execution_count": null,
   "metadata": {},
   "outputs": [],
   "source": [
    "names = [\"FLAG_IRF2BP2\",\"MED1\",\"POLII_total\",\"POLII_S2\",\"POLII_S5\",\"MYC\",\"MYB\",\"SPI1\"]"
   ]
  },
  {
   "cell_type": "code",
   "execution_count": null,
   "metadata": {},
   "outputs": [],
   "source": [
    "for i in range(int(len(bw)/2)):\n",
    "    name1 = bw[i]\n",
    "    name2 = bw[8+i]\n",
    "    peak = [cond1peak[i], commonpeak[i], cond2peak[i]]\n",
    "    for val in peak:\n",
    "        chip.dropWeirdChromosomes(val)\n",
    "    name = names[i]\n",
    "    chip.getPeaksAt(peak, [name1, name2], bigwignames=['DMSO', 'VHL'], peaknames=['DMSO_peaks', 'common', 'VHL_peaks'], window=3000, folder=\"\", title=name, numthreads=20, name='../../data/IRF2BP2_degraded_rep2/diffPeaks/'+name+'_mat.pdf', refpoint='center', withDeeptools=True, torecompute= True,)"
   ]
  },
  {
   "cell_type": "code",
   "execution_count": null,
   "metadata": {},
   "outputs": [],
   "source": [
    "peaks = ! ls ../../data/IRF2BP2_degraded_rep2/bwa/mergedLibrary/macs/narrowPeak/*.narrowPeak\n",
    "peaks"
   ]
  },
  {
   "cell_type": "code",
   "execution_count": null,
   "metadata": {},
   "outputs": [],
   "source": [
    "names = [\"FLAG_IRF2BP2\",\"MED1\",\"POLII_total\",\"POLII_S2\",\"POLII_S5\",\"MYC\",\"MYB\",\"SPI1\"]\n",
    "names.extend([i+'_VHL' for i in names])\n",
    "names"
   ]
  },
  {
   "cell_type": "code",
   "execution_count": null,
   "metadata": {},
   "outputs": [],
   "source": [
    "bw"
   ]
  },
  {
   "cell_type": "code",
   "execution_count": null,
   "metadata": {},
   "outputs": [],
   "source": [
    "for i in range(len(bw)-1):\n",
    "    chip.getPeaksAt(peaks[i], bw[1+i], window=3000, folder=\"\", title=names[i], numthreads=7, torecompute=True, onlyProfile=True, name='../../data/IRF2BP2_degraded_rep2/diffPeaks/'+names[i]+'_mat_profile.pdf', refpoint='center', withDeeptools=True)\n",
    "    chip.getPeaksAt(peaks[i], bw[1+i], window=3000, folder=\"\", title=names[i], numthreads=7, torecompute=True, refpoint='center', onlyProfile=True, name='../../data/IRF2BP2_degraded_rep2/diffPeaks/'+names[i]+'_mat_profile_clust3.pdf', withDeeptools=True, cluster=3)"
   ]
  },
  {
   "cell_type": "markdown",
   "metadata": {},
   "source": [
    "### unscalled"
   ]
  },
  {
   "cell_type": "code",
   "execution_count": null,
   "metadata": {},
   "outputs": [],
   "source": [
    "bams = !ls ../../data/IRF2BP2_degraded_rep2/bwa/mergedLibrary/mp*.bam\n",
    "bams"
   ]
  },
  {
   "cell_type": "code",
   "execution_count": null,
   "metadata": {},
   "outputs": [],
   "source": [
    "!mkdir  ../../data/IRF2BP2_degraded_rep2/diffPeaks_unscaled\n",
    "bw = ! ../../data/IRF2BP2_degraded_rep2/bwa/mergedLibrary/bigwig/*.bigWig"
   ]
  },
  {
   "cell_type": "code",
   "execution_count": null,
   "metadata": {},
   "outputs": [],
   "source": [
    "# on unscalled data \n",
    "for i in range(int(len(bams)/2)):\n",
    "    if i <0:\n",
    "        continue\n",
    "    name1 = bams[i]\n",
    "    name2 = bams[8+i]\n",
    "    chip.fullDiffPeak(name1,name2, control1='../../data/results3/bwa/mergedLibrary/INPUT_R1.mLb.clN.sorted.bam', directory = \"../../data/IRF2BP2_degraded_rep2/diffData_unscaled/\", res_directory = \"../../data/IRF2BP2_degraded_rep2/diffPeaks_unscaled/\", pairedend=False)"
   ]
  },
  {
   "cell_type": "code",
   "execution_count": null,
   "metadata": {},
   "outputs": [],
   "source": [
    "commonpeak = ! ls ../../data/IRF2BP2_degraded_rep2/diffPeaks_unscaled/*common.bed\n",
    "cond1peak = ! ls ../../data/IRF2BP2_degraded_rep2/diffPeaks_unscaled/*cond1.bed\n",
    "cond2peak = ! ls ../../data/IRF2BP2_degraded_rep2/diffPeaks_unscaled/*cond2.bed\n",
    "cond2peak"
   ]
  },
  {
   "cell_type": "code",
   "execution_count": null,
   "metadata": {},
   "outputs": [],
   "source": [
    "names = [\"FLAG_IRF2BP2\",\"MED1\",\"POLII_total\",\"POLII_S2\",\"POLII_S5\",\"MYC\",\"MYB\",\"SPI1\"]"
   ]
  },
  {
   "cell_type": "code",
   "execution_count": null,
   "metadata": {},
   "outputs": [],
   "source": [
    "for i in range(int(len(bw[1:])/2)):\n",
    "    name1 = bw[1+i]\n",
    "    name2 = bw[9+i]\n",
    "    peak = [cond1peak[i], commonpeak[i], cond2peak[i]]\n",
    "    for val in peak:\n",
    "        chip.dropWeirdChromosomes(val)\n",
    "    name = names[i]\n",
    "    chip.getPeaksAt(peak, [name1, name2], bigwignames=['DMSO', 'VHL'], peaknames=['DMSO_peaks', 'common', 'VHL_peaks'], window=3000, title=name, numthreads=7, torecompute=True, refpoint='center', folder=\"\", name='../../data/IRF2BP2_degraded_rep2/diffPeaks_unscaled/'+name+'_mat.pdf', withDeeptools=True)"
   ]
  },
  {
   "cell_type": "code",
   "execution_count": null,
   "metadata": {},
   "outputs": [],
   "source": [
    "! gsutil -m cp -r \"../../data/IRF2BP2_degraded_rep2\" gs://amlproject/Chip/"
   ]
  },
  {
   "cell_type": "markdown",
   "metadata": {},
   "source": [
    "## v3"
   ]
  },
  {
   "cell_type": "code",
   "execution_count": null,
   "metadata": {},
   "outputs": [],
   "source": [
    "! gsutil mv gs://transfer-amlproject/*MP7781*  gs://transfer-amlproject/IRF2BP2_v3/"
   ]
  },
  {
   "cell_type": "markdown",
   "metadata": {},
   "source": [
    "### analysis"
   ]
  },
  {
   "cell_type": "code",
   "execution_count": null,
   "metadata": {},
   "outputs": [],
   "source": [
    "! mkdir ../../data/IRF2BP2_degraded_rep3 && mkdir ../../data/IRF2BP2_degraded_rep3/fastqs && gsutil -m cp gs://transfer-amlproject/IRF2BP2_v3/* ../../data/IRF2BP2_degraded_rep3/fastqs/"
   ]
  },
  {
   "cell_type": "code",
   "execution_count": null,
   "metadata": {},
   "outputs": [],
   "source": [
    "rename = {\n",
    "\"20200203_1_MP7781_S67_R1_001.fastq.gz\":\"mp831-MV411_IRF2BP_DMSO_6h-CDK8-r1_R1.fastq.gz\",\n",
    "\"20200203_1_MP7781_S67_R2_001.fastq.gz\":\"mp831-MV411_IRF2BP_DMSO_6h-CDK8-r1_R2.fastq.gz\",\n",
    "\"20200203_2_MP7781_S68_R1_001.fastq.gz\":\"mp832-MV411_IRF2BP_DMSO_6h-BRD4-r1_R1.fastq.gz\",\n",
    "\"20200203_2_MP7781_S68_R2_001.fastq.gz\":\"mp832-MV411_IRF2BP_DMSO_6h-BRD4-r1_R2.fastq.gz\",\n",
    "\"20200203_3_MP7781_S69_R1_001.fastq.gz\":\"mp833-MV411_IRF2BP_DMSO_6h-IRF8-r1_R1.fastq.gz\",\n",
    "\"20200203_3_MP7781_S69_R2_001.fastq.gz\":\"mp833-MV411_IRF2BP_DMSO_6h-IRF8-r1_R2.fastq.gz\",\n",
    "\"20200203_4_MP7781_S70_R1_001.fastq.gz\":\"mp834-MV411_IRF2BP_DMSO_6h-SMC1-r1_R1.fastq.gz\",\n",
    "\"20200203_4_MP7781_S70_R2_001.fastq.gz\":\"mp834-MV411_IRF2BP_DMSO_6h-SMC1-r1_R2.fastq.gz\",\n",
    "\"20200203_5_MP7781_S71_R2_001.fastq.gz\":\"mp835-MV411_IRF2BP_DMSO_6h-MED1-r3_R2.fastq.gz\",\n",
    "\"20200203_5_MP7781_S71_R1_001.fastq.gz\":\"mp835-MV411_IRF2BP_DMSO_6h-MED1-r3_R1.fastq.gz\",\n",
    "\"20200203_6_MP7781_S72_R1_001.fastq.gz\":\"mp836-MV411_IRF2BP_DMSO_6h-ZEB2-r1_R1.fastq.gz\",\n",
    "\"20200203_6_MP7781_S72_R2_001.fastq.gz\":\"mp836-MV411_IRF2BP_DMSO_6h-ZEB2-r1_R2.fastq.gz\",\n",
    "\"20200203_7_MP7781_S73_R1_001.fastq.gz\":\"mp837-MV411_IRF2BP_DMSO_6h-CEBPA-r1_R1.fastq.gz\",\n",
    "\"20200203_7_MP7781_S73_R2_001.fastq.gz\":\"mp837-MV411_IRF2BP_DMSO_6h-CEBPA-r1_R2.fastq.gz\",\n",
    "\"20200203_8_MP7781_S74_R1_001.fastq.gz\":\"mp838-MV411_IRF2BP_VHL_6h-CDK8-r1_R1.fastq.gz\",\n",
    "\"20200203_8_MP7781_S74_R2_001.fastq.gz\":\"mp838-MV411_IRF2BP_VHL_6h-CDK8-r1_R2.fastq.gz\",\n",
    "\"20200203_9_MP7781_S75_R1_001.fastq.gz\":\"mp839-MV411_IRF2BP_VHL_6h-BRD4-r1_R1.fastq.gz\",\n",
    "\"20200203_9_MP7781_S75_R2_001.fastq.gz\":\"mp839-MV411_IRF2BP_VHL_6h-BRD4-r1_R2.fastq.gz\",\n",
    "\"20200203_10_MP7781_S76_R2_001.fastq.gz\":\"mp840-MV411_IRF2BP_VHL_6h-IRF8-r1_R2.fastq.gz\",\n",
    "\"20200203_10_MP7781_S76_R1_001.fastq.gz\":\"mp840-MV411_IRF2BP_VHL_6h-IRF8-r1_R1.fastq.gz\",\n",
    "\"20200203_11_MP7781_S77_R1_001.fastq.gz\":\"mp841-MV411_IRF2BP_VHL_6h-SMC1-r1_R1.fastq.gz\",\n",
    "\"20200203_11_MP7781_S77_R2_001.fastq.gz\":\"mp841-MV411_IRF2BP_VHL_6h-SMC1-r1_R2.fastq.gz\",\n",
    "\"20200203_12_MP7781_S78_R1_001.fastq.gz\":\"mp842-MV411_IRF2BP_VHL_6h-MED1-r3_R1.fastq.gz\",\n",
    "\"20200203_12_MP7781_S78_R2_001.fastq.gz\":\"mp842-MV411_IRF2BP_VHL_6h-MED1-r3_R2.fastq.gz\",\n",
    "\"20200203_13_MP7781_S79_R1_001.fastq.gz\":\"mp843-MV411_IRF2BP_VHL_6h-ZEB2-r1_R1.fastq.gz\",\n",
    "\"20200203_13_MP7781_S79_R2_001.fastq.gz\":\"mp843-MV411_IRF2BP_VHL_6h-ZEB2-r1_R2.fastq.gz\",\n",
    "\"20200203_14_MP7781_S80_R2_001.fastq.gz\":\"mp844-MV411_IRF2BP_VHL_6h-CEBPA-r1_R2.fastq.gz\",\n",
    "\"20200203_14_MP7781_S80_R1_001.fastq.gz\":\"mp844-MV411_IRF2BP_VHL_6h-CEBPA-r1_R1.fastq.gz\",\n",
    "\"20200203_Input_MP7781_S81_R1_001.fastq.gz\":\"mp845-MV411_IRF2BP2_-INPUT-r1_R1.fastq.gz\",\n",
    "\"20200203_Input_MP7781_S81_R2_001.fastq.gz\":\"mp845-MV411_IRF2BP2_-INPUT-r1_R2.fastq.gz\"\n",
    "}"
   ]
  },
  {
   "cell_type": "code",
   "execution_count": null,
   "metadata": {},
   "outputs": [],
   "source": [
    "for k,v in rename.items():\n",
    "    ! mv ../../data/IRF2BP2_degraded_rep3/fastqs/$k ../../data/IRF2BP2_degraded_rep3/fastqs/$v"
   ]
  },
  {
   "cell_type": "code",
   "execution_count": null,
   "metadata": {},
   "outputs": [],
   "source": [
    "from gsheets import Sheets\n",
    "sheets = Sheets.from_files('~/.client_secret.json', '~/.storage.json')\n",
    "url=\"https://docs.google.com/spreadsheets/d/1yFLjYB1McU530JnLgL0QIMAKIkVl3kl0_LCHje2gk8U\"\n",
    "gsheet = sheets.get(url).sheets[2].to_frame()"
   ]
  },
  {
   "cell_type": "code",
   "execution_count": null,
   "metadata": {},
   "outputs": [],
   "source": [
    "a = ! ls ../../data/IRF2BP2_degraded_rep3/fastqs"
   ]
  },
  {
   "cell_type": "code",
   "execution_count": null,
   "metadata": {},
   "outputs": [],
   "source": [
    "gsheet"
   ]
  },
  {
   "cell_type": "code",
   "execution_count": null,
   "metadata": {},
   "outputs": [],
   "source": [
    "df = {\n",
    "\"fastq_1\": [],\n",
    "\"fastq_2\": [],\n",
    "\"antibody\": [],\n",
    "\"group\": [],\n",
    "\"replicate\": [],\n",
    "\"control\": []\n",
    "}\n",
    "for val in helper.grouped(a[:-2],2):\n",
    "    row = gsheet[gsheet.id==val[0].split('/')[-1].split('-')[0]]\n",
    "    df['group'].append(row['name'].values[0])\n",
    "    df['replicate'].append(1)\n",
    "    df['fastq_1'].append(val[0])\n",
    "    df['fastq_2'].append(val[1])\n",
    "    df['antibody'].append(row['protein'].values[0])\n",
    "    df['control'].append(\"INPUT\")\n",
    "df['group'].append('INPUT')\n",
    "df['replicate'].append(1)\n",
    "df['fastq_1'].append(a[-2])\n",
    "df['fastq_2'].append(a[-1])\n",
    "df['antibody'].append(\"\")\n",
    "df['control'].append(\"\")\n",
    "df = pd.DataFrame(df)"
   ]
  },
  {
   "cell_type": "code",
   "execution_count": null,
   "metadata": {},
   "outputs": [],
   "source": [
    "df"
   ]
  },
  {
   "cell_type": "code",
   "execution_count": null,
   "metadata": {},
   "outputs": [],
   "source": [
    "df[df.columns[[3,4,0,1,2,5]]].to_csv('../nextflow/IRF2BP2_degraded_rep3_design.csv',index=False)"
   ]
  },
  {
   "cell_type": "code",
   "execution_count": null,
   "metadata": {},
   "outputs": [],
   "source": [
    "#process chips\n",
    "! sudo ../nextflow run nf-core/chipseq --paired_end --seq_center 'DFCI' --email \\\n",
    "'jkobject@gmail.com' --narrow_peak --input ../nextflow/../../data/IRF2BP2_degraded_rep3_design.csv --genome GRCh38 --skip_preseq \\\n",
    "--max_cpus 24 -profile docker -w work"
   ]
  },
  {
   "cell_type": "code",
   "execution_count": null,
   "metadata": {},
   "outputs": [],
   "source": [
    "ls"
   ]
  },
  {
   "cell_type": "code",
   "execution_count": null,
   "metadata": {},
   "outputs": [],
   "source": [
    "!cp -r results/* ../../data/IRF2BP2_degraded_rep3/ && sudo rm -r work && sudo rm -r results"
   ]
  },
  {
   "cell_type": "code",
   "execution_count": null,
   "metadata": {},
   "outputs": [],
   "source": [
    "ls ../TrimGalore-0.6.5/trim_galore"
   ]
  },
  {
   "cell_type": "code",
   "execution_count": null,
   "metadata": {},
   "outputs": [],
   "source": [
    "# get scaling values\n",
    "mappedreads, umappedreads_norm = chip.getSpikeInControlScales(refgenome=\"../../ref/reference_droso.fna\",\n",
    "                                                                      fastQfolder='../../data/IRF2BP2_degraded_rep3/fastqs',\n",
    "                                                                      pairedEnd=True, cores=8,\n",
    "                                                                      tofilter=False,\n",
    "                                                                      totrim=False,\n",
    "                                                                      tomap=False,\n",
    "                                                                      pathtotrim_galore=\"../TrimGalore-0.6.5/trim_galore\")\n",
    "mappedreads, umappedreads_norm"
   ]
  },
  {
   "cell_type": "markdown",
   "metadata": {},
   "source": [
    "computing scales from the excel sheet"
   ]
  },
  {
   "cell_type": "code",
   "execution_count": null,
   "metadata": {},
   "outputs": [],
   "source": [
    "scales = [[536923,632558],\n",
    "[601370,681405],\n",
    "[2402198,1676203],\n",
    "[417892,216192],\n",
    "[1544590,1350802],\n",
    "[1174994,1376726],\n",
    "[289635,240366]]"
   ]
  },
  {
   "cell_type": "code",
   "execution_count": null,
   "metadata": {},
   "outputs": [],
   "source": [
    "scales= [[1.0, 0.8488122828],\n",
    "[1.0, 0.8825441551],\n",
    "[0.6977788675, 1.0],\n",
    "[0.5173394083, 1.0],\n",
    "[0.8745375796, 1.0],\n",
    "[1.0, 0.8534697536],\n",
    "[0.8298927961, 1.0]]"
   ]
  },
  {
   "cell_type": "code",
   "execution_count": null,
   "metadata": {},
   "outputs": [],
   "source": [
    "bams = ! ls ../../data/IRF2BP2_degraded_rep3/bwa/mergedLibrary/*.bam #../../data/results3/bwa/mergedLibrary/*.bam\n",
    "bams"
   ]
  },
  {
   "cell_type": "code",
   "execution_count": null,
   "metadata": {},
   "outputs": [],
   "source": [
    "bams[7]"
   ]
  },
  {
   "cell_type": "code",
   "execution_count": null,
   "metadata": {},
   "outputs": [],
   "source": [
    "bams = [bam1.split('/')[-1].split('.')[0] for bam1 in bams]"
   ]
  },
  {
   "cell_type": "markdown",
   "metadata": {},
   "source": [
    "### on scalled data"
   ]
  },
  {
   "cell_type": "code",
   "execution_count": null,
   "metadata": {},
   "outputs": [],
   "source": [
    "# diffPeak on scaled data\n",
    "size=[206, 218, 189, 194, 217, 217, 176]\n",
    "for i in range(int(len(bams)/2)):\n",
    "    if i<0:\n",
    "        continue\n",
    "    name1 = bams[i]\n",
    "    name2 = bams[7+i]\n",
    "    print(name1,name2)\n",
    "    chip.diffPeak(name1, name2, directory= \"../../data/IRF2BP2_degraded_rep3/diffData/\", res_directory='../../data/IRF2BP2_degraded_rep3/diffPeaks/', scaling1=scales[i][1], scaling2=scales[i][0], size=size[i])"
   ]
  },
  {
   "cell_type": "code",
   "execution_count": null,
   "metadata": {},
   "outputs": [],
   "source": [
    "os.popen('for i in $(ls ../../data/IRF2BP2_degraded_rep3/diffPeaks/*.bed); \\\n",
    "            do echo $(wc -l $i); \\\n",
    "            done').read().split('\\n')"
   ]
  },
  {
   "cell_type": "code",
   "execution_count": null,
   "metadata": {},
   "outputs": [],
   "source": [
    "# diffPeak on scaled data\n",
    "for i in range(int(len(bams)/2)):\n",
    "    if i <0:\n",
    "        continue\n",
    "    name1 = bams[i]\n",
    "    name2 = bams[7+i]\n",
    "    print(name1,name2)\n",
    "    chip.fullDiffPeak(name1,name2, control1='../../data/IRF2BP2_degraded_rep3/INPUT_R1.mLb.clN.sorted.bam', directory = \"../../data/IRF2BP2_degraded_rep3/diffData/\", res_directory = \"../../data/IRF2BP2_degraded_rep3/diffPeaks/\", isTF=True, compute_size=True, pairedend=False)"
   ]
  },
  {
   "cell_type": "code",
   "execution_count": null,
   "metadata": {},
   "outputs": [],
   "source": [
    "scales = [1.0,\n",
    "1.0,\n",
    "0.6977788675,\n",
    "0.5173394083,\n",
    "0.8745375796,\n",
    "1.0,\n",
    "0.8298927961,\n",
    "0.8488122828,\n",
    "0.8825441551,\n",
    "1.0,\n",
    "1.0,\n",
    "1.0,\n",
    "0.8534697536,\n",
    "1.0]"
   ]
  },
  {
   "cell_type": "code",
   "execution_count": null,
   "metadata": {},
   "outputs": [],
   "source": [
    "bams"
   ]
  },
  {
   "cell_type": "code",
   "execution_count": null,
   "metadata": {},
   "outputs": [],
   "source": [
    "chip.bigWigFrom(bams[1:], \n",
    "                genome='GRCh38',scaling=scales,\n",
    "               numthreads=8)"
   ]
  },
  {
   "cell_type": "code",
   "execution_count": null,
   "metadata": {},
   "outputs": [],
   "source": [
    "! mv diffPeaks ../../data/IRF2BP2_degraded_rep3\n",
    "! mv diffData ../../data/IRF2BP2_degraded_rep3"
   ]
  },
  {
   "cell_type": "code",
   "execution_count": null,
   "metadata": {},
   "outputs": [],
   "source": [
    "!mv bigwig ../../data/recalib_bigwig_3 "
   ]
  },
  {
   "cell_type": "code",
   "execution_count": null,
   "metadata": {},
   "outputs": [],
   "source": [
    "os.popen('for i in $(ls ../../data/IRF2BP2_degraded_rep3/diffPeaks); \\\n",
    "            do echo $(wc -l \"../../data/IRF2BP2_degraded_rep3/diffPeaks/\"$i); \\\n",
    "            done').read().split('\\n')"
   ]
  },
  {
   "cell_type": "code",
   "execution_count": null,
   "metadata": {},
   "outputs": [],
   "source": [
    "bw = ! ls ../../data/recalib_bigwig_3/*.bw\n",
    "bw"
   ]
  },
  {
   "cell_type": "code",
   "execution_count": null,
   "metadata": {},
   "outputs": [],
   "source": [
    "cond1peak = ! ls ../../data/IRF2BP2_degraded_rep3/diffPeaks/*cond1.bed\n",
    "cond2peak = ! ls ../../data/IRF2BP2_degraded_rep3/diffPeaks/*cond2.bed\n",
    "commonpeak = ! ls ../../data/IRF2BP2_degraded_rep3/diffPeaks/*common.bed\n",
    "cond1peak"
   ]
  },
  {
   "cell_type": "code",
   "execution_count": null,
   "metadata": {},
   "outputs": [],
   "source": [
    "names = [\"CDK8\",\"BRD4\",\"IRF8\",\"SMC1\",\"MED1\",\"ZEB2\",\"CEBPA\"]"
   ]
  },
  {
   "cell_type": "code",
   "execution_count": null,
   "metadata": {},
   "outputs": [],
   "source": [
    "for i in range(int(len(bw)/2)):\n",
    "    if i<0:\n",
    "        continue\n",
    "    name1 = bw[i]\n",
    "    name2 = bw[7+i]\n",
    "    peak = [cond1peak[i], commonpeak[i], cond2peak[i]]\n",
    "    #for val in peak:\n",
    "        #chip.dropWeirdChromosomes(val)\n",
    "    name = names[i]\n",
    "    chip.getPeaksAt(peak, [name1, name2], bigwignames=['DMSO', 'VHL'], refpoint='center', peaknames=['DMSO_peaks', 'common', 'VHL_peaks'], window=3000, folder=\"\", title=name, numthreads=14, name='../../data/IRF2BP2_degraded_rep3/diffPeaks/'+name+'_mat.pdf', withDeeptools=True, torecompute=True)"
   ]
  },
  {
   "cell_type": "code",
   "execution_count": null,
   "metadata": {},
   "outputs": [],
   "source": [
    "names = [\"CDK8\",\"BRD4\",\"IRF8\",\"SMC1\",\"MED1\",\"ZEB2\",\"CEBPA\"]\n",
    "names.extend([i+'_VHL' for i in names])\n",
    "names"
   ]
  },
  {
   "cell_type": "code",
   "execution_count": null,
   "metadata": {},
   "outputs": [],
   "source": [
    "peaks = ! ls ../../data/IRF2BP2_degraded_rep3/bwa/mergedLibrary/macs/narrowPeak/*.narrowPeak\n",
    "peaks"
   ]
  },
  {
   "cell_type": "code",
   "execution_count": null,
   "metadata": {},
   "outputs": [],
   "source": [
    "for i in range(len(bw)):\n",
    "    chip.getPeaksAt(peaks[i], bw[i], window=3000, folder=\"\", title=names[i], numthreads=7, torecompute=True, onlyProfile=True, refpoint='center', name='../../data/IRF2BP2_degraded_rep3/diffPeaks/'+names[i]+'_mat_profile.pdf', withDeeptools=True)\n",
    "    chip.getPeaksAt(peaks[i], bw[i], window=3000, folder=\"\", title=names[i], numthreads=7, torecompute=True, refpoint='center', onlyProfile=True,name='../../data/IRF2BP2_degraded_rep3/diffPeaks/'+names[i]+'_mat_profile_clust3.pdf', withDeeptools=True, cluster=3)"
   ]
  },
  {
   "cell_type": "markdown",
   "metadata": {},
   "source": [
    "### on unscalled data"
   ]
  },
  {
   "cell_type": "code",
   "execution_count": null,
   "metadata": {},
   "outputs": [],
   "source": [
    "bams = !ls ../../data/IRF2BP2_degraded_rep3/bwa/mergedLibrary/mp*.bam\n",
    "bams"
   ]
  },
  {
   "cell_type": "code",
   "execution_count": null,
   "metadata": {},
   "outputs": [],
   "source": [
    "! mkdir ../../data/IRF2BP2_degraded_rep3/diffPeaks_unscaled"
   ]
  },
  {
   "cell_type": "code",
   "execution_count": null,
   "metadata": {},
   "outputs": [],
   "source": [
    "#on unscalled data \n",
    "for i in range(int(len(bams)/2)):\n",
    "    if i < 0:\n",
    "        continue\n",
    "    name1 = bams[i]\n",
    "    name2 = bams[7+i]\n",
    "    print(name1,name2)\n",
    "    chip.fullDiffPeak(name1,name2, control1='../../data/results3/bwa/mergedLibrary/INPUT_R1.mLb.clN.sorted.bam', directory = \"../../data/IRF2BP2_degraded_rep3/diffData_unscaled/\", res_directory = \"../../data/IRF2BP2_degraded_rep3/diffPeaks_unscaled/\",pairedend=False)"
   ]
  },
  {
   "cell_type": "code",
   "execution_count": null,
   "metadata": {},
   "outputs": [],
   "source": [
    "bw = ! ls ../../data/IRF2BP2_degraded_rep3/bwa/mergedLibrary/bigwig/*.bigWig\n",
    "bw"
   ]
  },
  {
   "cell_type": "code",
   "execution_count": null,
   "metadata": {},
   "outputs": [],
   "source": [
    "cond1peak = ! ls ../../data/IRF2BP2_degraded_rep3/diffPeaks_unscaled/*cond1.bed\n",
    "cond2peak = ! ls ../../data/IRF2BP2_degraded_rep3/diffPeaks_unscaled/*cond2.bed\n",
    "commonpeak = ! ls ../../data/IRF2BP2_degraded_rep3/diffPeaks_unscaled/*common.bed\n",
    "cond1peak"
   ]
  },
  {
   "cell_type": "code",
   "execution_count": null,
   "metadata": {},
   "outputs": [],
   "source": [
    "names = [\"CDK8\",\"BRD4\",\"IRF8\",\"SMC1\",\"MED1\",\"ZEB2\",\"CEBPA\"]"
   ]
  },
  {
   "cell_type": "code",
   "execution_count": null,
   "metadata": {},
   "outputs": [],
   "source": [
    "for i in range(int((len(bw)-1)/2)):\n",
    "    if i <0:\n",
    "        continue\n",
    "    name1 = bw[1+i]\n",
    "    name2 = bw[8+i]\n",
    "    peak = [cond1peak[i], commonpeak[i], cond2peak[i]]\n",
    "    #for val in peak:\n",
    "        #chip.dropWeirdChromosomes(val)\n",
    "    name = names[i]\n",
    "    print(name1,name2)\n",
    "    chip.getPeaksAt(peak, [name1, name2], bigwignames=['DMSO', 'VHL'], peaknames=['DMSO_peaks', 'common', 'VHL_peaks'], window=3000, folder=\"\", title=name, numthreads=14, torecompute=True, refpoint=\"center\", name='../../data/IRF2BP2_degraded_rep3/diffPeaks_unscaled/'+name+'_mat.pdf', withDeeptools=True)"
   ]
  },
  {
   "cell_type": "code",
   "execution_count": null,
   "metadata": {},
   "outputs": [],
   "source": [
    "! gsutil -m cp -r \"../../data/IRF2BP2_degraded_rep3/\" gs://amlproject/Chip/"
   ]
  },
  {
   "cell_type": "markdown",
   "metadata": {},
   "source": [
    "## histones V1&2"
   ]
  },
  {
   "cell_type": "code",
   "execution_count": null,
   "metadata": {},
   "outputs": [],
   "source": [
    "bamfolder=\"../../data/IRF2BP2_degraded_histones/fastqs/\""
   ]
  },
  {
   "cell_type": "code",
   "execution_count": null,
   "metadata": {},
   "outputs": [],
   "source": [
    "! mkdir ../../data/IRF2BP2_degraded_histones && mkdir ../../data/IRF2BP2_degraded_histones/fastqs && gsutil cp \"gs://transfer-amlproject/*.fastq.gz\" $bamfolder"
   ]
  },
  {
   "cell_type": "code",
   "execution_count": null,
   "metadata": {},
   "outputs": [],
   "source": [
    "! gsutil -m cp gs://transfer-amlproject/*MP7693* gs://transfer-amlproject/IRF2BP2_hist/ && gsutil -m rm gs://transfer-amlproject/*MP7693*"
   ]
  },
  {
   "cell_type": "markdown",
   "metadata": {},
   "source": [
    "\n",
    "### analysis"
   ]
  },
  {
   "cell_type": "code",
   "execution_count": null,
   "metadata": {},
   "outputs": [],
   "source": [
    "rename = {\n",
    "    \"20200103_1_MP7693_S6_R1_001.fastq.gz\":\"mp811-MV411_IRF2BP2_DMSO_6h-H3K27ac-r1_R1.fastq.gz\",\n",
    "    \"20200103_1_MP7693_S6_R2_001.fastq.gz\":\"mp811-MV411_IRF2BP2_DMSO_6h-H3K27ac-r1.fastq.gz\",\n",
    "    \"20200103_2_MP7693_S7_R1_001.fastq.gz\":\"mp812-MV411_IRF2BP2_DMSO_6h-H3K27ac-r2_R1.fastq.gz\",\n",
    "    \"20200103_2_MP7693_S7_R2_001.fastq.gz\":\"mp812-MV411_IRF2BP2_DMSO_6h-H3K27ac-r2.fastq.gz\",\n",
    "    \"20200103_3_MP7693_S8_R1_001.fastq.gz\":\"mp813-MV411_IRF2BP2_DMSO_6h-H3K27me3-r1_R1.fastq.gz\",\n",
    "    \"20200103_3_MP7693_S8_R2_001.fastq.gz\":\"mp813-MV411_IRF2BP2_DMSO_6h-H3K27me3-r1.fastq.gz\",\n",
    "    \"20200103_4_MP7693_S9_R1_001.fastq.gz\":\"mp814-MV411_IRF2BP2_DMSO_6h-H3K27me3-r2_R1.fastq.gz\",\n",
    "    \"20200103_4_MP7693_S9_R2_001.fastq.gz\":\"mp814-MV411_IRF2BP2_DMSO_6h-H3K27me3-r2.fastq.gz\",\n",
    "    \"20200103_5_MP7693_S10_R1_001.fastq.gz\":\"mp815-MV411_IRF2BP2_DMSO_6h-H3K4me1-r1_R1.fastq.gz\",\n",
    "    \"20200103_5_MP7693_S10_R2_001.fastq.gz\":\"mp815-MV411_IRF2BP2_DMSO_6h-H3K4me1-r1.fastq.gz\",\n",
    "    \"20200103_6_MP7693_S11_R1_001.fastq.gz\":\"mp816-MV411_IRF2BP2_DMSO_6h-H3K4me1-r2_R1.fastq.gz\",\n",
    "    \"20200103_6_MP7693_S11_R2_001.fastq.gz\":\"mp816-MV411_IRF2BP2_DMSO_6h-H3K4me1-r2.fastq.gz\",\n",
    "    \"20200103_7_MP7693_S12_R1_001.fastq.gz\":\"mp817-MV411_IRF2BP2_DMSO_6h-H3K4me3-r1_R1.fastq.gz\",\n",
    "    \"20200103_7_MP7693_S12_R2_001.fastq.gz\":\"mp817-MV411_IRF2BP2_DMSO_6h-H3K4me3-r1.fastq.gz\",\n",
    "    \"20200103_8_MP7693_S13_R1_001.fastq.gz\":\"mp818-MV411_IRF2BP2_DMSO_6h-H3K4me3-r2_R1.fastq.gz\",\n",
    "    \"20200103_8_MP7693_S13_R2_001.fastq.gz\":\"mp818-MV411_IRF2BP2_DMSO_6h-H3K4me3-r2.fastq.gz\",\n",
    "    \"20200103_9_MP7693_S14_R1_001.fastq.gz\":\"mp819-MV411_IRF2BP2_DMSO_6h-H3K79me2-r1_R1.fastq.gz\",\n",
    "    \"20200103_9_MP7693_S14_R2_001.fastq.gz\":\"mp819-MV411_IRF2BP2_DMSO_6h-H3K79me2-r1.fastq.gz\",\n",
    "    \"20200103_10_MP7693_S15_R1_001.fastq.gz\":\"mp820-MV411_IRF2BP2_DMSO_6h-H3K79me2-r2_R1.fastq.gz\",\n",
    "    \"20200103_10_MP7693_S15_R2_001.fastq.gz\":\"mp820-MV411_IRF2BP2_DMSO_6h-H3K79me2-r2.fastq.gz\",\n",
    "    \"20200103_11_MP7693_S16_R1_001.fastq.gz\":\"mp821-MV411_IRF2BP2_VHL_6h-H3K27ac-r1_R1.fastq.gz\",\n",
    "    \"20200103_11_MP7693_S16_R2_001.fastq.gz\":\"mp821-MV411_IRF2BP2_VHL_6h-H3K27ac-r1.fastq.gz\",\n",
    "    \"20200103_12_MP7693_S17_R1_001.fastq.gz\":\"mp822-MV411_IRF2BP2_VHL_6h-H3K27ac-r2_R1.fastq.gz\",\n",
    "    \"20200103_12_MP7693_S17_R2_001.fastq.gz\":\"mp822-MV411_IRF2BP2_VHL_6h-H3K27ac-r2.fastq.gz\",\n",
    "    \"20200103_13_MP7693_S18_R1_001.fastq.gz\":\"mp823-MV411_IRF2BP2_VHL_6h-H3K27me3-r1_R1.fastq.gz\",\n",
    "    \"20200103_13_MP7693_S18_R2_001.fastq.gz\":\"mp823-MV411_IRF2BP2_VHL_6h-H3K27me3-r1.fastq.gz\",\n",
    "    \"20200103_14_MP7693_S19_R1_001.fastq.gz\":\"mp824-MV411_IRF2BP2_VHL_6h-H3K27me3-r2_R1.fastq.gz\",\n",
    "    \"20200103_14_MP7693_S19_R2_001.fastq.gz\":\"mp824-MV411_IRF2BP2_VHL_6h-H3K27me3-r2.fastq.gz\",\n",
    "    \"20200103_15_MP7693_S20_R1_001.fastq.gz\":\"mp825-MV411_IRF2BP2_VHL_6h-H3K4me1-r1_R1.fastq.gz\",\n",
    "    \"20200103_15_MP7693_S20_R2_001.fastq.gz\":\"mp825-MV411_IRF2BP2_VHL_6h-H3K4me1-r1.fastq.gz\",\n",
    "    \"20200103_16_MP7693_S21_R1_001.fastq.gz\":\"mp826-MV411_IRF2BP2_VHL_6h-H3K4me1-r2_R1.fastq.gz\",\n",
    "    \"20200103_16_MP7693_S21_R2_001.fastq.gz\":\"mp826-MV411_IRF2BP2_VHL_6h-H3K4me1-r2.fastq.gz\",\n",
    "    \"20200103_17_MP7693_S22_R1_001.fastq.gz\":\"mp827-MV411_IRF2BP2_VHL_6h-H3K4me3-r1_R1.fastq.gz\",\n",
    "    \"20200103_17_MP7693_S22_R2_001.fastq.gz\":\"mp827-MV411_IRF2BP2_VHL_6h-H3K4me3-r1.fastq.gz\",\n",
    "    \"20200103_18_MP7693_S23_R1_001.fastq.gz\":\"mp828-MV411_IRF2BP2_VHL_6h-H3K4me3-r2_R1.fastq.gz\",\n",
    "    \"20200103_18_MP7693_S23_R2_001.fastq.gz\":\"mp828-MV411_IRF2BP2_VHL_6h-H3K4me3-r2.fastq.gz\",\n",
    "    \"20200103_19_MP7693_S24_R1_001.fastq.gz\":\"mp829-MV411_IRF2BP2_VHL_6h-H3K79me2-r1_R1.fastq.gz\",\n",
    "    \"20200103_19_MP7693_S24_R2_001.fastq.gz\":\"mp829-MV411_IRF2BP2_VHL_6h-H3K79me2-r1.fastq.gz\",\n",
    "    \"20200103_20_MP7693_S25_R1_001.fastq.gz\":\"mp830-MV411_IRF2BP2_VHL_6h-H3K79me2-r2_R1.fastq.gz\",\n",
    "    \"20200103_20_MP7693_S25_R2_001.fastq.gz\":\"mp830-MV411_IRF2BP2_VHL_6h-H3K79me2-r2.fastq.gz\"\n",
    "}"
   ]
  },
  {
   "cell_type": "code",
   "execution_count": null,
   "metadata": {},
   "outputs": [],
   "source": [
    "! gsutil -m cp gs://transfer-amlproject/IRF2BP2_hist/* ../../data/IRF2BP2_degraded_histones/fastqs/"
   ]
  },
  {
   "cell_type": "code",
   "execution_count": null,
   "metadata": {},
   "outputs": [],
   "source": [
    "for k,v in rename.items():\n",
    "    ! mv $bamfolder$k $bamfolder$v"
   ]
  },
  {
   "cell_type": "code",
   "execution_count": null,
   "metadata": {},
   "outputs": [],
   "source": [
    "inputfastq=\"gs://amlproject/Chip/fastqs/mp99-MV411-INPUT-r1.fastq.gz\"\n",
    "! gsutil cp $inputfastq $bamfolder"
   ]
  },
  {
   "cell_type": "code",
   "execution_count": null,
   "metadata": {},
   "outputs": [],
   "source": [
    "a = ! ls $bamfolder"
   ]
  },
  {
   "cell_type": "code",
   "execution_count": null,
   "metadata": {},
   "outputs": [],
   "source": [
    "from gsheets import Sheets\n",
    "sheets = Sheets.from_files('~/.client_secret.json', '~/.storage.json')\n",
    "url=\"https://docs.google.com/spreadsheets/d/1yFLjYB1McU530JnLgL0QIMAKIkVl3kl0_LCHje2gk8U\"\n",
    "gsheet = sheets.get(url).sheets[2].to_frame()"
   ]
  },
  {
   "cell_type": "code",
   "execution_count": null,
   "metadata": {},
   "outputs": [],
   "source": [
    "df = {\n",
    "\"fastq1\": [],\n",
    "\"fastq2\": [],\n",
    "\"antibody\": [],\n",
    "\"group\": [],\n",
    "\"replicate\": [],\n",
    "\"control\": []\n",
    "}\n",
    "for val in helper.grouped(a[:-1],2):\n",
    "    row = gsheet[gsheet.id==val[0].split('/')[-1].split('_')[0]]\n",
    "    df['group'].append((row.id.values[0] + '_'+ row.name_replicate.values[0] +\"_\"+row.protein.values[0]))\n",
    "    df['replicate'].append(1)\n",
    "    df['fastq1'].append(val[0])\n",
    "    #df['fastq2'].append(val[1])\n",
    "    df['antibody'].append(row.protein.values[0])\n",
    "    df['control'].append(\"INPUT\")\n",
    "df['group'].append('INPUT')\n",
    "df['replicate'].append(1)\n",
    "df['fastq1'].append(a[-1])\n",
    "#df['fastq2'].append(val[1])\n",
    "df['antibody'].append(\"INPUT\")\n",
    "df['control'].append(\"INPUT\")\n",
    "df = pd.DataFrame(df)"
   ]
  },
  {
   "cell_type": "code",
   "execution_count": null,
   "metadata": {},
   "outputs": [],
   "source": [
    "df[df.columns[[3,4,0,1,2,5]]].to_csv('../nextflow/IRF2BP2_degraded_histones_design.csv')"
   ]
  },
  {
   "cell_type": "code",
   "execution_count": null,
   "metadata": {},
   "outputs": [],
   "source": [
    "#process chips\n",
    " ! sudo ./nextflow run nf-core/chipseq --single_end --seq_center 'DFCI' --email 'jkobject@gmail.com' --narrow_peak --input ../nextflow/IRF2BP2_degraded_histones_design.csv --genome GRCh38 --skip_preseq --max_cpus 24 -profile docker -w work"
   ]
  },
  {
   "cell_type": "code",
   "execution_count": null,
   "metadata": {},
   "outputs": [],
   "source": [
    "! mv results/* ../../data/IRF2BP2_degraded_histones/"
   ]
  },
  {
   "cell_type": "code",
   "execution_count": null,
   "metadata": {},
   "outputs": [],
   "source": [
    "bams = ! ls ../../data/IRF2BP2_degraded_hist/bwa/mergedLibrary/*.bam\n",
    "bams = [i.split('/')[-1].split('.')[0] for i in bams]\n",
    "bams"
   ]
  },
  {
   "cell_type": "code",
   "execution_count": null,
   "metadata": {},
   "outputs": [],
   "source": [
    "scales = [[191079,278272],\n",
    "[274625,494562],\n",
    "[1094016,2067804],\n",
    "[1328914,969565],\n",
    "[237779,132422],\n",
    "[162971,174092],\n",
    "[115788,187078],\n",
    "[134269,495924],\n",
    "[171890,225315],\n",
    "[188370,199911]]"
   ]
  },
  {
   "cell_type": "code",
   "execution_count": null,
   "metadata": {},
   "outputs": [],
   "source": [
    "scales = [[1.0,0.6866626897],\n",
    "[1.0,0.5552893267],\n",
    "[1.0,0.5290714207],\n",
    "[0.7295919826,1.0],\n",
    "[0.5569120906,1.0],\n",
    "[1.0,0.9361199825],\n",
    "[1.0,0.6189290029],\n",
    "[1.0,0.2707451142],\n",
    "[1.0,0.762887513],\n",
    "[1.0,0.9422693098]]"
   ]
  },
  {
   "cell_type": "markdown",
   "metadata": {},
   "source": [
    "### on scalled data"
   ]
  },
  {
   "cell_type": "code",
   "execution_count": null,
   "metadata": {},
   "outputs": [],
   "source": [
    "# diffPeak on scaled data\n",
    "size=[206, 213, 47, 272, 229, 235, 190, 196, 287, 288]\n",
    "for i in range(int(len(bams)/2)):\n",
    "    name1 = bams[1+i]\n",
    "    name2 = bams[11+i]\n",
    "    print(name1,name2)\n",
    "    chip.diffPeak(name1, name2, directory= \"../../data/IRF2BP2_degraded_hist/diffData/\", res_directory='../../data/IRF2BP2_degraded_hist/diffPeaks/', scaling1=scales[i][1], scaling2=scales[i][0], size=size[i])"
   ]
  },
  {
   "cell_type": "code",
   "execution_count": null,
   "metadata": {},
   "outputs": [],
   "source": [
    "# diffPeak on scaled data\n",
    "for i in range(int(len(bams)/2)):\n",
    "    name1 = bams[1+i]\n",
    "    name2 = bams[11+i]\n",
    "    print(name1,name2)\n",
    "    chip.fullDiffPeak(name1,name2, bams[0], scaling = scales[i], directory='../../data/IRF2BP2_degraded_hist/diffData/',\n",
    "res_directory=\"../../data/IRF2BP2_degraded_hist/diffPeaks/\", isTF=False, compute_size=True, pairedend=False)"
   ]
  },
  {
   "cell_type": "code",
   "execution_count": null,
   "metadata": {},
   "outputs": [],
   "source": [
    "scales = [1.0,\n",
    "1.0,\n",
    "1.0,\n",
    "0.7295919826,\n",
    "0.5569120906,\n",
    "1.0,\n",
    "1.0,\n",
    "1.0,\n",
    "1.0,\n",
    "1.0,\n",
    "0.6866626897,\n",
    "0.5552893267,\n",
    "0.5290714207,\n",
    "1.0,\n",
    "1.0,\n",
    "0.9361199825,\n",
    "0.6189290029,\n",
    "0.2707451142,\n",
    "0.762887513,\n",
    "0.9422693098,]"
   ]
  },
  {
   "cell_type": "code",
   "execution_count": null,
   "metadata": {},
   "outputs": [],
   "source": [
    "chip.bigWigFrom(bams[1:],genome='GRCh38',scaling=scales)"
   ]
  },
  {
   "cell_type": "code",
   "execution_count": null,
   "metadata": {},
   "outputs": [],
   "source": [
    "! mv ../../recalib_bigwig_hist/* ../../data/IRF2BP2_degraded_histones/recalib_bigwig/\n",
    "bw = ! ls ../../data/IRF2BP2_degraded_histones/recalib_bigwig/*.bw\n",
    "bw"
   ]
  },
  {
   "cell_type": "code",
   "execution_count": null,
   "metadata": {},
   "outputs": [],
   "source": [
    "! rm ../../data/IRF2BP2_degraded_hist/diffData/mp*_R1*"
   ]
  },
  {
   "cell_type": "code",
   "execution_count": null,
   "metadata": {},
   "outputs": [],
   "source": [
    "cond1peak = ! ls ../../data/IRF2BP2_degraded_hist/diffPeaks/*cond1.bed\n",
    "cond2peak = ! ls ../../data/IRF2BP2_degraded_hist/diffPeaks/*cond2.bed\n",
    "commonpeak = ! ls ../../data/IRF2BP2_degraded_hist/diffPeaks/*common.bed\n",
    "cond1peak"
   ]
  },
  {
   "cell_type": "code",
   "execution_count": null,
   "metadata": {},
   "outputs": [],
   "source": [
    "names = [\"H3K27ac\", \"H3K27ac_v2\",\"H3K27me3\",\"H3K27me3_v2\",\"H3K4me1\",\"H3K4me1_v2\", \"H3K4me3\", \"H3K4me3_v2\", \"H3K79me2\", \"H3K79me2_v2\"]"
   ]
  },
  {
   "cell_type": "code",
   "execution_count": null,
   "metadata": {},
   "outputs": [],
   "source": [
    "for i in range(int(len(bw)/2)):\n",
    "    if i < 0 : \n",
    "        continue\n",
    "    print(i)\n",
    "    name1 = bw[i]\n",
    "    name2 = bw[10+i]\n",
    "    peak = [cond1peak[i], commonpeak[i], cond2peak[i]]\n",
    "    #for val in peak:\n",
    "        #chip.dropWeirdChromosomes(val)\n",
    "    name = names[i]\n",
    "    print(name1,name2)\n",
    "    chip.getPeaksAt(peak, [name1, name2], torecompute= True, bigwignames=['DMSO', 'VHL'], peaknames=['DMSO_peaks', 'common', 'VHL_peaks'], window=3000, folder=\"\", title=name, numthreads=7, refpoint='center', name='../../data/IRF2BP2_degraded_hist/diffPeaks/'+name+'_mat.pdf', withDeeptools=True)"
   ]
  },
  {
   "cell_type": "code",
   "execution_count": null,
   "metadata": {},
   "outputs": [],
   "source": [
    "names = [\"H3K27ac\", \"H3K27ac_v2\",\"H3K27me3\",\"H3K27me3_v2\",\"H3K4me1\",\"H3K4me1_v2\", \"H3K4me3\", \"H3K4me3_v2\", \"H3K79me2\", \"H3K79me2_v2\"]\n",
    "names.extend([i+'_VHL' for i in names])\n",
    "names"
   ]
  },
  {
   "cell_type": "code",
   "execution_count": null,
   "metadata": {},
   "outputs": [],
   "source": [
    "peaks = ! ls ../../data/IRF2BP2_degraded_histones/bwa/mergedLibrary/macs/broadPeak/*.broadPeak \n",
    "peaks"
   ]
  },
  {
   "cell_type": "code",
   "execution_count": null,
   "metadata": {},
   "outputs": [],
   "source": [
    "for i in range(len(bw)):\n",
    "    chip.getPeaksAt(peaks[i], bw[i], window=3000, folder=\"\", title=names[i], numthreads=7, torecompute=True, onlyProfile=True, refpoint='center', name='../../data/IRF2BP2_degraded_hist/diffPeaks/'+names[i]+'_mat_profile.pdf', withDeeptools=True)\n",
    "    chip.getPeaksAt(peaks[i], bw[i], window=3000, folder=\"\", title=names[i], numthreads=7, torecompute=True, refpoint='center', onlyProfile=True,name='../../data/IRF2BP2_degraded_hist/diffPeaks/'+names[i]+'_mat_profile_clust3.pdf', withDeeptools=True, cluster=3)"
   ]
  },
  {
   "cell_type": "markdown",
   "metadata": {},
   "source": [
    "### on unscalled data"
   ]
  },
  {
   "cell_type": "code",
   "execution_count": null,
   "metadata": {},
   "outputs": [],
   "source": [
    "bams = !ls ../../data/IRF2BP2_degraded_hist/bwa/mergedLibrary/mp*.bam\n",
    "bams"
   ]
  },
  {
   "cell_type": "code",
   "execution_count": null,
   "metadata": {},
   "outputs": [],
   "source": [
    "bw = ! ls ../../data/IRF2BP2_degraded_histones/bwa/mergedLibrary/bigwig/*.bigWig\n",
    "bw"
   ]
  },
  {
   "cell_type": "code",
   "execution_count": null,
   "metadata": {},
   "outputs": [],
   "source": [
    "# on unscalled data \n",
    "for i in range(int((len(bams)-1)/2)):\n",
    "    name1 = bams[1+i]\n",
    "    name2 = bams[11+i]\n",
    "    chip.fullDiffPeak(name1,name2, control1='../../data/IRF2BP2_degraded_hist/INPUT_R1.mLb.clN.sorted.bam', directory = \"../../data/IRF2BP2_degraded_hist/diffData_unscaled/\", res_directory = \"../../data/IRF2BP2_degraded_hist/diffPeaks_unscaled/\",isTF=False, compute_size=True, pairedend=False)"
   ]
  },
  {
   "cell_type": "code",
   "execution_count": null,
   "metadata": {},
   "outputs": [],
   "source": [
    "cond1peak = ! ls ../../data/IRF2BP2_degraded_hist/diffPeaks_unscaled/*cond1.bed\n",
    "cond2peak = ! ls ../../data/IRF2BP2_degraded_hist/diffPeaks_unscaled/*cond2.bed\n",
    "commonpeak = ! ls ../../data/IRF2BP2_degraded_hist/diffPeaks_unscaled/*common.bed\n",
    "cond2peak"
   ]
  },
  {
   "cell_type": "code",
   "execution_count": null,
   "metadata": {},
   "outputs": [],
   "source": [
    "names = [\"H3K27ac\", \"H3K27ac_v2\",\"H3K27me3\",\"H3K27me3_v2\",\"H3K4me1\",\"H3K4me1_v2\", \"H3K4me3\", \"H3K4me3_v2\", \"H3K79me2\", \"H3K79me2_v2\"]"
   ]
  },
  {
   "cell_type": "code",
   "execution_count": null,
   "metadata": {},
   "outputs": [],
   "source": [
    "for i in range(int(len(bw)/2)):\n",
    "    if i < 0:\n",
    "        continue\n",
    "    name1 = bw[1+i]\n",
    "    name2 = bw[11+i]\n",
    "    peak = [cond1peak[i], commonpeak[i], cond2peak[i]]\n",
    "    #for val in peak:\n",
    "        #chip.dropWeirdChromosomes(val)\n",
    "    name = names[i]\n",
    "    print(name1,name2)\n",
    "    chip.getPeaksAt(peak, [name1, name2], bigwignames=['DMSO', 'VHL'], peaknames=['DMSO_peaks', 'common', 'VHL_peaks'], window=3000, folder=\"\", title=name, numthreads=10, refpoint='center', name='../../data/IRF2BP2_degraded_hist/diffPeaks_unscaled/'+name+'_mat.pdf', withDeeptools=True, torecompute=True)"
   ]
  },
  {
   "cell_type": "code",
   "execution_count": null,
   "metadata": {},
   "outputs": [],
   "source": [
    "! gsutil -m cp -r \"../../data/IRF2BP2_degraded_hist/\" gs://amlproject/Chip/"
   ]
  },
  {
   "cell_type": "code",
   "execution_count": null,
   "metadata": {},
   "outputs": [],
   "source": [
    "## on local\n",
    "! scp runningchip2.us-east1-b.aml-chipseq-rnaseq-259419:\"~/data/IRF2BP2_degraded_rep3/diffPeaks_unscaled/*.pdf\" unscaled/v3/\n",
    "! scp runningchip2.us-east1-b.aml-chipseq-rnaseq-259419:\"~/data/IRF2BP2_degraded_rep3/diffPeaks/*.pdf\" scaled/v3/\n",
    "! scp runningchip2.us-east1-b.aml-chipseq-rnaseq-259419:\"~/data/IRF2BP2_degraded_rep1/diffPeaks_unscaled/*.pdf\" unscaled/v3/\n",
    "! scp runningchip2.us-east1-b.aml-chipseq-rnaseq-259419:\"~/data/IRF2BP2_degraded_rep1/diffPeaks/*.pdf\" scaled/v1/\n",
    "! scp runningchip2.us-east1-b.aml-chipseq-rnaseq-259419:\"~/data/IRF2BP2_degraded_hist/diffPeaks_unscaled/*.pdf\" unscaled/v1/\n",
    "! scp runningchip2.us-east1-b.aml-chipseq-rnaseq-259419:\"~/data/IRF2BP2_degraded_hist/diffPeaks/*.pdf\" unscaled/v1/\n",
    "! scp runningchip2.us-east1-b.aml-chipseq-rnaseq-259419:\"~/data/IRF2BP2_degraded_rep2/diffPeaks_unscaled/*.pdf\" unscaled/v2/\n",
    "! scp runningchip2.us-east1-b.aml-chipseq-rnaseq-259419:\"~/data/IRF2BP2_degraded_rep2/diffPeaks/*.pdf\" scaled/v2/"
   ]
  },
  {
   "cell_type": "markdown",
   "metadata": {},
   "source": [
    "## v4"
   ]
  },
  {
   "cell_type": "code",
   "execution_count": null,
   "metadata": {},
   "outputs": [],
   "source": [
    "! gsutil -m mv gs://transfer-amlproject/*MP7868*  gs://transfer-amlproject/IRF2BP2_v4/"
   ]
  },
  {
   "cell_type": "markdown",
   "metadata": {},
   "source": [
    "### analysis"
   ]
  },
  {
   "cell_type": "code",
   "execution_count": null,
   "metadata": {},
   "outputs": [],
   "source": [
    "! mkdir ../../data/IRF2BP2_degraded_rep4 && mkdir ../../data/IRF2BP2_degraded_rep4/fastqs && gsutil -m cp gs://transfer-amlproject/IRF2BP2_v4/* ../../data/IRF2BP2_degraded_rep4/fastqs"
   ]
  },
  {
   "cell_type": "code",
   "execution_count": null,
   "metadata": {},
   "outputs": [],
   "source": [
    "a = ! ls ../../data/IRF2BP2_degraded_rep4/fastqs\n",
    "a"
   ]
  },
  {
   "cell_type": "code",
   "execution_count": null,
   "metadata": {},
   "outputs": [],
   "source": [
    "rename = {\n",
    "\"20200302_1_MP7868_S51_R1_001.fastq.gz\":\"mp846-MV411_IRF2BP_DMSO_6h-MED1-r4_R1.fastq.gz\", \n",
    "\"20200302_1_MP7868_S51_R2_001.fastq.gz\":\"mp846-MV411_IRF2BP_DMSO_6h-MED1-r4_R2.fastq.gz\", \n",
    "\"20200302_2_MP7868_S52_R1_001.fastq.gz\":\"mp847-MV411_IRF2BP_DMSO_6h-MED1-r5_R1.fastq.gz\", \n",
    "\"20200302_2_MP7868_S52_R2_001.fastq.gz\":\"mp847-MV411_IRF2BP_DMSO_6h-MED1-r5_R2.fastq.gz\", \n",
    "\"20200302_3_MP7868_S53_R1_001.fastq.gz\":\"mp848-MV411_IRF2BP_DMSO_6h-FLAG_IRF2BP2-r3_R1.fastq.gz\", \n",
    "\"20200302_3_MP7868_S53_R2_001.fastq.gz\":\"mp848-MV411_IRF2BP_DMSO_6h-FLAG_IRF2BP2-r3_R2.fastq.gz\",\n",
    "\"20200302_4_MP7868_S54_R1_001.fastq.gz\":\"mp849-MV411_IRF2BP_DMSO_6h-POLII_total-r3_R1.fastq.gz\",\n",
    "\"20200302_4_MP7868_S54_R2_001.fastq.gz\":\"mp849-MV411_IRF2BP_DMSO_6h-POLII_total-r3_R2.fastq.gz\",\n",
    "\"20200302_5_MP7868_S55_R1_001.fastq.gz\":\"mp850-MV411_IRF2BP_DMSO_6h-POLII_S2-r3_R1.fastq.gz\",\n",
    "\"20200302_5_MP7868_S55_R2_001.fastq.gz\":\"mp850-MV411_IRF2BP_DMSO_6h-POLII_S2-r3_R2.fastq.gz\",\n",
    "\"20200302_6_MP7868_S56_R1_001.fastq.gz\":\"mp851-MV411_IRF2BP_DMSO_6h-POLII_S5-r3_R1.fastq.gz\",\n",
    "\"20200302_6_MP7868_S56_R2_001.fastq.gz\":\"mp851-MV411_IRF2BP_DMSO_6h-POLII_S5-r3_R2.fastq.gz\",\n",
    "\"20200302_7_MP7868_S57_R1_001.fastq.gz\":\"mp852-MV411_IRF2BP_VHL_6h-MED1-r4_R1.fastq.gz\",\n",
    "\"20200302_7_MP7868_S57_R2_001.fastq.gz\":\"mp852-MV411_IRF2BP_VHL_6h-MED1-r4_R2.fastq.gz\",\n",
    "\"20200302_8_MP7868_S58_R1_001.fastq.gz\":\"mp853-MV411_IRF2BP_VHL_6h-MED1-r5_R1.fastq.gz\",\n",
    "\"20200302_8_MP7868_S58_R2_001.fastq.gz\":\"mp853-MV411_IRF2BP_VHL_6h-MED1-r5_R2.fastq.gz\",\n",
    "\"20200302_9_MP7868_S59_R1_001.fastq.gz\":\"mp854-MV411_IRF2BP_VHL_6h-FLAG_IRF2BP2-r3_R1.fastq.gz\",\n",
    "\"20200302_9_MP7868_S59_R2_001.fastq.gz\":\"mp854-MV411_IRF2BP_VHL_6h-FLAG_IRF2BP2-r3_R2.fastq.gz\", \n",
    "\"20200302_10_MP7868_S60_R1_001.fastq.gz\":\"mp855-MV411_IRF2BP_VHL_6h-POLII_total-r3_R1.fastq.gz\",\n",
    "\"20200302_10_MP7868_S60_R2_001.fastq.gz\":\"mp855-MV411_IRF2BP_VHL_6h-POLII_total-r3_R2.fastq.gz\",\n",
    "\"20200302_11_MP7868_S61_R1_001.fastq.gz\":\"mp856-MV411_IRF2BP_VHL_6h-POLII_S2-r3_R1.fastq.gz\",\n",
    "\"20200302_11_MP7868_S61_R2_001.fastq.gz\":\"mp856-MV411_IRF2BP_VHL_6h-POLII_S2-r3_R2.fastq.gz\",\n",
    "\"20200302_12_MP7868_S62_R1_001.fastq.gz\":\"mp857-MV411_IRF2BP_VHL_6h-POLII_S5-r3_R1.fastq.gz\",\n",
    "\"20200302_12_MP7868_S62_R2_001.fastq.gz\":\"mp857-MV411_IRF2BP_VHL_6h-POLII_S5-r3_R2.fastq.gz\"\n",
    "}"
   ]
  },
  {
   "cell_type": "code",
   "execution_count": null,
   "metadata": {},
   "outputs": [],
   "source": [
    "for k,v in rename.items():\n",
    "    ! mv ../../data/IRF2BP2_degraded_rep4/fastqs/$k ../../data/IRF2BP2_degraded_rep4/fastqs/$v"
   ]
  },
  {
   "cell_type": "code",
   "execution_count": null,
   "metadata": {},
   "outputs": [],
   "source": [
    "from gsheets import Sheets\n",
    "sheets = Sheets.from_files('~/.client_secret.json', '~/.storage.json')\n",
    "url=\"https://docs.google.com/spreadsheets/d/1yFLjYB1McU530JnLgL0QIMAKIkVl3kl0_LCHje2gk8U\"\n",
    "gsheet = sheets.get(url).sheets[2].to_frame()"
   ]
  },
  {
   "cell_type": "code",
   "execution_count": null,
   "metadata": {},
   "outputs": [],
   "source": [
    "gsheet"
   ]
  },
  {
   "cell_type": "code",
   "execution_count": null,
   "metadata": {},
   "outputs": [],
   "source": [
    "df = {\n",
    "\"fastq_1\": [],\n",
    "\"fastq_2\": [],\n",
    "\"antibody\": [],\n",
    "\"group\": [],\n",
    "\"replicate\": [],\n",
    "\"control\": []\n",
    "}\n",
    "for val in h.grouped(a,2):\n",
    "    row = gsheet[gsheet.id==val[0].split('/')[-1].split('-')[0]]\n",
    "    df['group'].append(row['name'].values[0])\n",
    "    df['replicate'].append(1)\n",
    "    df['fastq_1'].append(val[0])\n",
    "    df['fastq_2'].append(val[1])\n",
    "    df['antibody'].append(row['protein'].values[0])\n",
    "    df['control'].append(\"INPUT\")\n",
    "df['group'].append('INPUT')\n",
    "df['replicate'].append(1)\n",
    "df['fastq_1'].append('IRF2BP2_degraded_rep3/mp845-MV411_IRF2BP2_-INPUT-r1_R1.fastq.gz')\n",
    "df['fastq_2'].append('IRF2BP2_degraded_rep3/mp845-MV411_IRF2BP2_-INPUT-r1_R2.fastq.gz')\n",
    "df['antibody'].append(\"\")\n",
    "df['control'].append(\"\")\n",
    "df = pd.DataFrame(df)"
   ]
  },
  {
   "cell_type": "code",
   "execution_count": null,
   "metadata": {},
   "outputs": [],
   "source": [
    "df"
   ]
  },
  {
   "cell_type": "code",
   "execution_count": null,
   "metadata": {},
   "outputs": [],
   "source": [
    "df[df.columns[[3,4,0,1,2,5]]].to_csv('../nextflow/IRF2BP2_degraded_rep4_design.csv',index=False)"
   ]
  },
  {
   "cell_type": "code",
   "execution_count": null,
   "metadata": {},
   "outputs": [],
   "source": [
    "#process chips\n",
    "! sudo ../nextflow run nf-core/chipseq --paired_end --seq_center 'DFCI' --email \\\n",
    "'jkobject@gmail.com' --narrow_peak --input ../nextflow/IRF2BP2_degraded_rep4_design.csv --genome GRCh38 --skip_preseq \\\n",
    "--max_cpus 24 -profile docker -w work"
   ]
  },
  {
   "cell_type": "code",
   "execution_count": null,
   "metadata": {},
   "outputs": [],
   "source": [
    "!cp -r results/* ../../data/IRF2BP2_degraded_rep4/ && sudo rm -r work && sudo rm -r results"
   ]
  },
  {
   "cell_type": "code",
   "execution_count": null,
   "metadata": {},
   "outputs": [],
   "source": [
    "ls ../../TrimGalore-0.6.5/trim_galore"
   ]
  },
  {
   "cell_type": "code",
   "execution_count": null,
   "metadata": {},
   "outputs": [],
   "source": [
    "# get scaling values\n",
    "mappedreads, umappedreads_norm = chip.getSpikeInControlScales(refgenome=\"../../data/ref/reference_droso.fna\",\n",
    "fastQfolder='../../data/IRF2BP2_degraded_rep4/fastqs/',\n",
    "pairedEnd=True, cores=12,\n",
    "tofilter=True,\n",
    "totrim=False,\n",
    "tomap=True,\n",
    "results=\"../../data/IRF2BP2_degraded_rep4/\",\n",
    "pathtotrim_galore=\"../../TrimGalore-0.6.5/trim_galore\")\n",
    "mappedreads, umappedreads_norm"
   ]
  },
  {
   "cell_type": "markdown",
   "metadata": {},
   "source": [
    "computing scales from the excel sheet"
   ]
  },
  {
   "cell_type": "code",
   "execution_count": null,
   "metadata": {},
   "outputs": [],
   "source": [
    "bams = ! ls ../../data/IRF2BP2_degraded_rep4/bwa/mergedLibrary/*.bam\n",
    "bams"
   ]
  },
  {
   "cell_type": "code",
   "execution_count": null,
   "metadata": {},
   "outputs": [],
   "source": [
    "bams[6]"
   ]
  },
  {
   "cell_type": "markdown",
   "metadata": {},
   "source": [
    "### on scalled data"
   ]
  },
  {
   "cell_type": "code",
   "execution_count": null,
   "metadata": {},
   "outputs": [],
   "source": [
    "bams = [bam1.split('/')[-1].split('.')[0] for bam1 in bams]"
   ]
  },
  {
   "cell_type": "code",
   "execution_count": null,
   "metadata": {},
   "outputs": [],
   "source": [
    "# diffPeak on scaled data\n",
    "size=[ 208, 214, 207, 234, 296, 231]\n",
    "for i in range(int(len(bams)/2)-1):\n",
    "    name1 = bams[1+i]\n",
    "    name2 = bams[7+i]\n",
    "    print(name1,name2)\n",
    "    chip.diffPeak(name1, name2, directory= \"../../data/IRF2BP2_degraded_rep4/diffData/\", res_directory='../../data/IRF2BP2_degraded_rep4/diffPeaks/', scaling1=scales[i][1], scaling2=scales[i][0], size=size[i])"
   ]
  },
  {
   "cell_type": "code",
   "execution_count": null,
   "metadata": {},
   "outputs": [],
   "source": [
    "# diffPeak on scaled data\n",
    "for i in range(int(len(bams[1:])/2)):\n",
    "    name1 = bams[1+i]\n",
    "    name2 = bams[7+i]\n",
    "    chip.fullDiffPeak(name1,name2, control1='../../data/IRF2BP2_degraded_rep3/bwa/mergedLibrary/mp845-MV411_IRF2BP2-INPUT-r1.mLb.clN.sorted.bam', directory = \"../../data/IRF2BP2_degraded_rep4/diffData/\", res_directory = \"../../data/IRF2BP2_degraded_rep4/diffPeaks/\",pairedend=False)"
   ]
  },
  {
   "cell_type": "code",
   "execution_count": null,
   "metadata": {},
   "outputs": [],
   "source": [
    "scales = [1.0,\n",
    "1.0,\n",
    "1.0,\n",
    "1.0,\n",
    "1.0,\n",
    "0.626304048,\n",
    "0.2628507876,\n",
    "0.9021192519,\n",
    "0.1869653476,\n",
    "0.5500321887,\n",
    "0.6046056203,\n",
    "1.0]"
   ]
  },
  {
   "cell_type": "code",
   "execution_count": null,
   "metadata": {},
   "outputs": [],
   "source": [
    "bams"
   ]
  },
  {
   "cell_type": "code",
   "execution_count": null,
   "metadata": {},
   "outputs": [],
   "source": [
    "chip.bigWigFrom(bams[1:], \n",
    "                genome='GRCh38',scaling=scales,\n",
    "               numthreads=8)"
   ]
  },
  {
   "cell_type": "code",
   "execution_count": null,
   "metadata": {},
   "outputs": [],
   "source": [
    "!mv bigwig ../../data/IRF2BP2_degraded_rep4/recalib_bigwig/"
   ]
  },
  {
   "cell_type": "code",
   "execution_count": null,
   "metadata": {},
   "outputs": [],
   "source": [
    "os.popen('for i in $(ls ../../data/IRF2BP2_degraded_rep4/diffPeaks/*.bed); \\\n",
    "            do echo $(wc -l $i); \\\n",
    "            done').read().split('\\n')"
   ]
  },
  {
   "cell_type": "code",
   "execution_count": null,
   "metadata": {},
   "outputs": [],
   "source": [
    "bw = ! ls ../../data/IRF2BP2_degraded_rep4/recalib_bigwig/*.bw\n",
    "bw"
   ]
  },
  {
   "cell_type": "code",
   "execution_count": null,
   "metadata": {},
   "outputs": [],
   "source": [
    "cond1peak = ! ls ../../data/IRF2BP2_degraded_rep4/diffPeaks/*cond1.bed\n",
    "cond2peak = ! ls ../../data/IRF2BP2_degraded_rep4/diffPeaks/*cond2.bed\n",
    "commonpeak = ! ls ../../data/IRF2BP2_degraded_rep4/diffPeaks/*common.bed\n",
    "cond1peak"
   ]
  },
  {
   "cell_type": "code",
   "execution_count": null,
   "metadata": {},
   "outputs": [],
   "source": [
    "names = [\"MED1\",\"MED1_v2\",\"FLAG_IRF2BP2\",\"POLII_total\",\"POLII_S2\",\"POLII_S5\"]"
   ]
  },
  {
   "cell_type": "code",
   "execution_count": null,
   "metadata": {},
   "outputs": [],
   "source": [
    "for i in range(int(len(bw)/2)):\n",
    "    if i <0:\n",
    "        continue\n",
    "    name1 = bw[i]\n",
    "    name2 = bw[i+6]\n",
    "    peak = [cond1peak[i], commonpeak[i], cond2peak[i]]\n",
    "   # for val in peak:\n",
    "      #  chip.dropWeirdChromosomes(val)\n",
    "    name = names[i]\n",
    "    print(name1,name2)\n",
    "    chip.getPeaksAt(peak, [name1, name2], bigwignames=['DMSO', 'VHL'], peaknames=['DMSO_peaks', 'common', 'VHL_peaks'], window=3000, folder=\"\", title=name, numthreads=7, refpoint=\"center\", name='../../data/IRF2BP2_degraded_rep4/diffPeaks/'+name+'_mat.pdf', withDeeptools=True, torecompute=True)"
   ]
  },
  {
   "cell_type": "code",
   "execution_count": null,
   "metadata": {},
   "outputs": [],
   "source": [
    "peaks = ! ls ../../data/results4/bwa/mergedLibrary/macs/narrowPeak/*.narrowPeak\n",
    "peaks"
   ]
  },
  {
   "cell_type": "code",
   "execution_count": null,
   "metadata": {},
   "outputs": [],
   "source": [
    "names = [\"MED1\",\"MED1_v2\",\"FLAG_IRF2BP2\",\"POLII_total\",\"POLII_S2\",\"POLII_S5\"]\n",
    "names.extend([i+'_VHL' for i in names])\n",
    "names"
   ]
  },
  {
   "cell_type": "code",
   "execution_count": null,
   "metadata": {},
   "outputs": [],
   "source": [
    "for i in range(len(bw)):\n",
    "    chip.getPeaksAt(peaks[i], bw[i], window=3000, folder=\"\", title=names[i], numthreads=7, torecompute=True, onlyProfile=True, name='../../data/IRF2BP2_degraded_rep4/diffPeaks/'+names[i]+'_mat_profile.pdf', withDeeptools=True, refpoint=\"center\")\n",
    "    chip.getPeaksAt(peaks[i], bw[i], window=3000, folder=\"\", title=names[i], numthreads=7, torecompute=True, onlyProfile=True,name='../../data/IRF2BP2_degraded_rep4/diffPeaks/'+names[i]+'_mat_profile_clust3.pdf', withDeeptools=True, cluster=3, refpoint=\"center\")"
   ]
  },
  {
   "cell_type": "markdown",
   "metadata": {},
   "source": [
    "### on unscalled data"
   ]
  },
  {
   "cell_type": "code",
   "execution_count": null,
   "metadata": {},
   "outputs": [],
   "source": [
    "bams = !ls ../../data/results4/bwa/mergedLibrary/mp*.bam\n",
    "bams"
   ]
  },
  {
   "cell_type": "code",
   "execution_count": null,
   "metadata": {},
   "outputs": [],
   "source": [
    "! mkdir ../../data/IRF2BP2_degraded_rep4/diffPeaks_unscaled"
   ]
  },
  {
   "cell_type": "code",
   "execution_count": null,
   "metadata": {},
   "outputs": [],
   "source": [
    "#on unscalled data \n",
    "for i in range(int(len(bams)/2)):\n",
    "    if i < 5:\n",
    "        continue\n",
    "    name1 = bams[i]\n",
    "    name2 = bams[6+i]\n",
    "    print(name1,name2)\n",
    "    chip.fullDiffPeak(name1,name2, control1='../../data/results4/bwa/mergedLibrary/INPUT_R1.mLb.clN.sorted.bam', directory = \"../../data/IRF2BP2_degraded_rep4/diffData_unscaled/\", res_directory = \"../../data/IRF2BP2_degraded_rep4/diffPeaks_unscaled/\",pairedend=False)"
   ]
  },
  {
   "cell_type": "code",
   "execution_count": null,
   "metadata": {},
   "outputs": [],
   "source": [
    "bw = ! ls ../../data/results4/bwa/mergedLibrary/bigwig/*.bigWig\n",
    "bw"
   ]
  },
  {
   "cell_type": "code",
   "execution_count": null,
   "metadata": {},
   "outputs": [],
   "source": [
    "cond1peak = ! ls ../../data/IRF2BP2_degraded_rep4/diffPeaks_unscaled/*cond1.bed\n",
    "cond2peak = ! ls ../../data/IRF2BP2_degraded_rep4/diffPeaks_unscaled/*cond2.bed\n",
    "commonpeak = ! ls ../../data/IRF2BP2_degraded_rep4/diffPeaks_unscaled/*common.bed\n",
    "commonpeak"
   ]
  },
  {
   "cell_type": "code",
   "execution_count": null,
   "metadata": {},
   "outputs": [],
   "source": [
    "names = [\"MED1\",\"MED1_v2\",\"FLAG_IRF2BP2\",\"POLII_total\",\"POLII_S2\",\"POLII_S5\"]"
   ]
  },
  {
   "cell_type": "code",
   "execution_count": null,
   "metadata": {},
   "outputs": [],
   "source": [
    "for i in range(int((len(bw)-1)/2)):\n",
    "    name1 = bw[1+i]\n",
    "    name2 = bw[7+i]\n",
    "    peak = [cond1peak[i], commonpeak[i], cond2peak[i]]\n",
    "    #for val in peak:\n",
    "     #   chip.dropWeirdChromosomes(val)\n",
    "    name = names[i]\n",
    "    print(name1,name2)\n",
    "    chip.getPeaksAt(peak, [name1, name2], bigwignames=['DMSO', 'VHL'], peaknames=['DMSO_peaks', 'common', 'VHL_peaks'], window=3000, folder=\"\", title=name, numthreads=7, torecompute=True, refpoint='center', name='../../data/IRF2BP2_degraded_rep4/diffPeaks_unscaled/'+name+'_mat.pdf', withDeeptools=True)"
   ]
  },
  {
   "cell_type": "code",
   "execution_count": null,
   "metadata": {},
   "outputs": [],
   "source": [
    "! gsutil -m cp -r \"../../data/IRF2BP2_degraded_rep4\" gs://amlproject/Chip/"
   ]
  },
  {
   "cell_type": "markdown",
   "metadata": {},
   "source": [
    "## Copying data"
   ]
  },
  {
   "cell_type": "code",
   "execution_count": null,
   "metadata": {},
   "outputs": [],
   "source": [
    "mkdir ../results/$project/diffPeaks_unscaled/"
   ]
  },
  {
   "cell_type": "code",
   "execution_count": null,
   "metadata": {},
   "outputs": [],
   "source": [
    "! cp ../../data/*/diffPeaks_unscaled/*.bed ../results/$project/diffPeaks_unscaled/"
   ]
  },
  {
   "cell_type": "code",
   "execution_count": null,
   "metadata": {},
   "outputs": [],
   "source": [
    "mkdir ../results/$project/diffPeaks_scaled/"
   ]
  },
  {
   "cell_type": "code",
   "execution_count": null,
   "metadata": {},
   "outputs": [],
   "source": [
    "! cp ../../data/*/diffPeaks/*.bed ../results/$project/diffPeaks_scaled/"
   ]
  },
  {
   "cell_type": "markdown",
   "metadata": {},
   "source": [
    "## v5"
   ]
  },
  {
   "cell_type": "code",
   "execution_count": null,
   "metadata": {},
   "outputs": [],
   "source": [
    "project=\"additional_degraded_v1\""
   ]
  },
  {
   "cell_type": "code",
   "execution_count": null,
   "metadata": {},
   "outputs": [],
   "source": [
    "! gsutil ls gs://transfer-amlproject/200723_MP8095_fastq/"
   ]
  },
  {
   "cell_type": "code",
   "execution_count": null,
   "metadata": {},
   "outputs": [],
   "source": [
    "mkdir ../data/$project/qc/"
   ]
  },
  {
   "cell_type": "code",
   "execution_count": null,
   "metadata": {},
   "outputs": [],
   "source": [
    "!gsutil -m cp gs://transfer-amlproject/200723_MP8095_fastq/multiqc_report.html ../data/$project/qc/\n",
    "!gsutil -m cp -r gs://transfer-amlproject/200723_MP8095_fastq/Reports/ ../data/$project/qc/\n",
    "!gsutil -m cp -r gs://transfer-amlproject/200723_MP8095_fastq/multiqc_data/ ../data/$project/qc/"
   ]
  },
  {
   "cell_type": "code",
   "execution_count": null,
   "metadata": {},
   "outputs": [],
   "source": [
    "! gsutil -m cp gs://transfer-amlproject/200723_MP8095_fastq/*  gs://transfer-amlproject/$project/"
   ]
  },
  {
   "cell_type": "markdown",
   "metadata": {},
   "source": [
    "### analysis"
   ]
  },
  {
   "cell_type": "code",
   "execution_count": null,
   "metadata": {},
   "outputs": [],
   "source": [
    "! mkdir ../../data/$project && mkdir ../../data/$project/fastqs && gsutil -m cp gs://transfer-amlproject/$project/* ../../data/$project/fastqs"
   ]
  },
  {
   "cell_type": "code",
   "execution_count": null,
   "metadata": {},
   "outputs": [],
   "source": [
    "! rm ../../data/$project/fastqs/multiqc_report.html"
   ]
  },
  {
   "cell_type": "code",
   "execution_count": null,
   "metadata": {},
   "outputs": [],
   "source": [
    "a = ! ls ../../data/$project/fastqs\n",
    "a"
   ]
  },
  {
   "cell_type": "code",
   "execution_count": null,
   "metadata": {},
   "outputs": [],
   "source": [
    "rename = {\n",
    "\"20200723_1_MP8095_S211\": \"mp858-MV411_RNP_AAVS1-H3K27AC-r1\",\n",
    "\"20200723_2_MP8095_S212\": \"mp859-MV411_RNP_AAVS1-H3K27AC-r2\",\n",
    "\"20200723_3_MP8095_S213\": \"mp860-MV411_RNP_RUNX1-H3K27AC-r1\",\n",
    "\"20200723_4_MP8095_S214\": \"mp861-MV411_RNP_RUNX1-H3K27AC-r2\",\n",
    "\"20200723_5_MP8095_S215\": \"mp862-MV411_RNP_RUNX2-H3K27AC-r1\",\n",
    "\"20200723_6_MP8095_S216\": \"mp863-MV411_RNP_RUNX2-H3K27AC-r2\",\n",
    "\"20200723_7_MP8095_S217\": \"mp864-MV411_RNP_RUNX1_RUNX2-H3K27AC-r1\",\n",
    "\"20200723_8_MP8095_S218\": \"mp865-MV411_RNP_RUNX1_RUNX2-H3K27AC-r2\",\n",
    "\"20200723_9_MP8095_S219\": \"mp866-MV411_RNP_MEF2D-H3K27AC-r1\",\n",
    "\"20200723_10_MP8095_S220\": \"mp867-MV411_RNP_MEF2D-H3K27AC-r2\",\n",
    "\"20200723_11_MP8095_S221\": \"mp868-MV411_RNP_IRF8-H3K27AC-r1\",\n",
    "\"20200723_12_MP8095_S222\": \"mp869-MV411_RNP_IRF8-H3K27AC-r2\",\n",
    "\"20200723_13_MP8095_S223\": \"mp870-MV411_RNP_MYB-H3K27AC-r1\",\n",
    "\"20200723_14_MP8095_S224\": \"mp871-MV411_RNP_MYB-H3K27AC-r2\",\n",
    "\"20200723_15_MP8095_S225\": \"mp872-MV411_RNP_SPI1-H3K27AC-r1\",\n",
    "\"20200723_16_MP8095_S226\": \"mp873-MV411_RNP_SPI1-H3K27AC-r2\",\n",
    "\"20200723_1S_MP8095_S209\": \"mp874-MV411_MEF2D_NT_SC_63-FLAG_MEF2D-r2\",\n",
    "\"20200723_2S_MP8095_S210\": \"mp875-MV411_MEF2C_NT-FLAG_MEF2C-r1\"}"
   ]
  },
  {
   "cell_type": "code",
   "execution_count": null,
   "metadata": {},
   "outputs": [],
   "source": [
    "for val in a:\n",
    "    rep = val\n",
    "    for k,v in rename.items():\n",
    "        rep = rep.replace(k,v)\n",
    "    !mv ../../data/$project/fastqs/$val ../../data/$project/fastqs/$rep"
   ]
  },
  {
   "cell_type": "code",
   "execution_count": null,
   "metadata": {},
   "outputs": [],
   "source": [
    "from gsheets import Sheets\n",
    "sheets = Sheets.from_files('~/.client_secret.json', '~/.storage.json')\n",
    "url=\"https://docs.google.com/spreadsheets/d/1yFLjYB1McU530JnLgL0QIMAKIkVl3kl0_LCHje2gk8U\"\n",
    "gsheet = sheets.get(url).sheets[2].to_frame()"
   ]
  },
  {
   "cell_type": "code",
   "execution_count": null,
   "metadata": {},
   "outputs": [],
   "source": [
    "gsheet"
   ]
  },
  {
   "cell_type": "code",
   "execution_count": null,
   "metadata": {},
   "outputs": [],
   "source": [
    "a = ! ls ../../data/$project/fastqs\n",
    "a"
   ]
  },
  {
   "cell_type": "code",
   "execution_count": null,
   "metadata": {},
   "outputs": [],
   "source": [
    "for val in a[-4:]:\n",
    "    !gsutil cp ../../data/$project/fastqs/$val gs://amlproject/Chip/fastqs/\n",
    "    !rm ../../data/$project/fastqs/$val"
   ]
  },
  {
   "cell_type": "code",
   "execution_count": null,
   "metadata": {},
   "outputs": [],
   "source": [
    "gcp.patternRN({'mp845-MV411_IRF2BP2_-INPUT-r1':'mp845-MV411-INPUT-r2'},'gs://amlproject/Chip/',wildcards=['**','.*'], test=False)"
   ]
  },
  {
   "cell_type": "code",
   "execution_count": null,
   "metadata": {},
   "outputs": [],
   "source": [
    "df = {\n",
    "\"fastq_1\": [],\n",
    "\"fastq_2\": [],\n",
    "\"antibody\": [],\n",
    "\"group\": [],\n",
    "\"replicate\": [],\n",
    "\"control\": []\n",
    "}\n",
    "for val in h.grouped(a[:-4],2):\n",
    "    row = gsheet[gsheet.id==val[0].split('/')[-1].split('-')[0]]\n",
    "    df['group'].append(\"MV4\"+row['name'].values[0].split('-r')[0].split('-MV4')[1])\n",
    "    df['replicate'].append(row['name'].values[0].split('-r')[1])\n",
    "    df['fastq_1'].append(project+\"/fastqs/\"+val[0])\n",
    "    df['fastq_2'].append(project+\"/fastqs/\"+val[1])\n",
    "    df['antibody'].append(row['protein'].values[0])\n",
    "    df['control'].append(\"INPUT\")\n",
    "df['group'].append('INPUT')\n",
    "df['replicate'].append(1)\n",
    "df['fastq_1'].append('ref/mp845-MV411-INPUT-r2_R1.fastq.gz')\n",
    "df['fastq_2'].append('ref/mp845-MV411-INPUT-r2_R2.fastq.gz')\n",
    "df['antibody'].append(\"\")\n",
    "df['control'].append(\"\")\n",
    "df = pd.DataFrame(df)"
   ]
  },
  {
   "cell_type": "code",
   "execution_count": null,
   "metadata": {},
   "outputs": [],
   "source": [
    "df"
   ]
  },
  {
   "cell_type": "code",
   "execution_count": null,
   "metadata": {},
   "outputs": [],
   "source": [
    "df[df.columns[[3,4,0,1,2,5]]].to_csv('../nextflow/additional_degraded_v1_design.csv',index=False)"
   ]
  },
  {
   "cell_type": "code",
   "execution_count": null,
   "metadata": {},
   "outputs": [],
   "source": [
    "! cd ../../data/ && sudo ../nextflow log ## to get access to the previous runs"
   ]
  },
  {
   "cell_type": "code",
   "execution_count": null,
   "metadata": {},
   "outputs": [],
   "source": [
    "#process chips\n",
    "! cd ../../data/ && sudo ../nextflow run nf-core/chipseq --paired_end --seq_center 'DFCI' --email 'jkobject@gmail.com' --input ../AMLproject/nextflow/additional_degraded_v1_design.csv --genome GRCh38 --skip_preseq --max_cpus 16 -profile docker -w work -resume exotic_bartik"
   ]
  },
  {
   "cell_type": "code",
   "execution_count": null,
   "metadata": {},
   "outputs": [],
   "source": [
    "!cp -r ../../data/results/* ../../data/$project/ && sudo rm -r ../data/results && sudo rm -r ..data/work"
   ]
  },
  {
   "cell_type": "code",
   "execution_count": null,
   "metadata": {},
   "outputs": [],
   "source": [
    "ls ../../TrimGalore-0.6.5/trim_galore"
   ]
  },
  {
   "cell_type": "code",
   "execution_count": null,
   "metadata": {},
   "outputs": [],
   "source": [
    "# get scaling values\n",
    "norm, mapped = h.getSpikeInControlScales(refgenome=\"../../data/ref/reference_droso.fna\",\n",
    "fastQfolder='../../data/'+project+'/fastqs/',\n",
    "pairedEnd=True, cores=12,\n",
    "tofilter=True,\n",
    "totrim=True,\n",
    "tomap=True,\n",
    "results=\"../../data/\"+project+\"/\",\n",
    "pathtotrim_galore=\"../../TrimGalore-0.6.5/trim_galore\")\n",
    "norm, mapped"
   ]
  },
  {
   "cell_type": "markdown",
   "metadata": {},
   "source": [
    "computing scales from the excel sheet"
   ]
  },
  {
   "cell_type": "code",
   "execution_count": null,
   "metadata": {},
   "outputs": [],
   "source": [
    "scales = [0.3011826465, # 'MV411_RNP_IRF8-H3K27AC_R1',\n",
    "0.4865371752, # 'MV411_RNP_IRF8-H3K27AC_R2',\n",
    "0.5670857556, # 'MV411_RNP_MEF2D-H3K27AC_R1',\n",
    "0.7349663619, # 'MV411_RNP_MEF2D-H3K27AC_R2',\n",
    "0.7548163023, # 'MV411_RNP_MYB-H3K27AC_R1',\n",
    "0.5976325206, # 'MV411_RNP_MYB-H3K27AC_R2',\n",
    "1.400750948, # 'MV411_RNP_RUNX1-H3K27AC_R1',\n",
    "0.849637265, # 'MV411_RNP_RUNX1-H3K27AC_R2',\n",
    "0.7539535476, # 'MV411_RNP_RUNX1_RUNX2-H3K27AC_R1',\n",
    "0.6905692051, # 'MV411_RNP_RUNX1_RUNX2-H3K27AC_R2',\n",
    "1.50505384, # 'MV411_RNP_RUNX2-H3K27AC_R1',\n",
    "0.8442345485, # 'MV411_RNP_RUNX2-H3K27AC_R2',\n",
    "0.5019100631, # 'MV411_RNP_SPI1-H3K27AC_R1',\n",
    "0.8688220473, # 'MV411_RNP_SPI1-H3K27AC_R2'\n",
    "         ]"
   ]
  },
  {
   "cell_type": "code",
   "execution_count": null,
   "metadata": {},
   "outputs": [],
   "source": [
    "bams = ! ls ../../data/$project/bwa/mergedLibrary/*.bam\n",
    "bams"
   ]
  },
  {
   "cell_type": "code",
   "execution_count": null,
   "metadata": {},
   "outputs": [],
   "source": [
    "bams[6]"
   ]
  },
  {
   "cell_type": "markdown",
   "metadata": {},
   "source": [
    "### on scalled data"
   ]
  },
  {
   "cell_type": "code",
   "execution_count": null,
   "metadata": {},
   "outputs": [],
   "source": [
    "! mkdir ../../data/$project/diffPeaks/ && ! mkdir ../../data/$project/diffData/"
   ]
  },
  {
   "cell_type": "code",
   "execution_count": null,
   "metadata": {},
   "outputs": [],
   "source": [
    "! mkdir ../../data/$project/droso_aligned"
   ]
  },
  {
   "cell_type": "code",
   "execution_count": null,
   "metadata": {},
   "outputs": [],
   "source": [
    "! mv ../../data/$project/mp* ../../data/$project/droso_aligned"
   ]
  },
  {
   "cell_type": "code",
   "execution_count": null,
   "metadata": {},
   "outputs": [],
   "source": [
    "wigs = ! ls ../../data/$project/bwa/mergedLibrary/bigwig/*.bigWig"
   ]
  },
  {
   "cell_type": "code",
   "execution_count": null,
   "metadata": {},
   "outputs": [],
   "source": [
    "ls ../../data/$project/bwa/mergedLibrary/bigwig/"
   ]
  },
  {
   "cell_type": "code",
   "execution_count": null,
   "metadata": {},
   "outputs": [],
   "source": [
    "! gsutil -m cp -r ../../data/$project/bwa/mergedLibrary/bigwig/ gs://amlproject/Chip/$project/bwa/mergedLibrary/\n",
    "! gsutil -m cp -r ../../data/$project/droso_aligned gs://amlproject/Chip/$project/\n",
    "! gsutil -m cp -r ../../data/$project/recalib_bigwig gs://amlproject/Chip/$project/"
   ]
  },
  {
   "cell_type": "code",
   "execution_count": null,
   "metadata": {},
   "outputs": [],
   "source": [
    "for val in wigs:\n",
    "    bedg = val[:-6]+'bdg'\n",
    "    ! bigWigToBedGraph $val $bedg"
   ]
  },
  {
   "cell_type": "code",
   "execution_count": null,
   "metadata": {},
   "outputs": [],
   "source": [
    "bdg=! ls ../../data/additional_degraded_v1/bwa/mergedLibrary/bigwig/*.bdg\n",
    "bdg"
   ]
  },
  {
   "cell_type": "code",
   "execution_count": null,
   "metadata": {},
   "outputs": [],
   "source": [
    "# diffPeak on scaled data \n",
    "size= 240\n",
    "for i in range(int(len(bdg)-3)):\n",
    "    name1 = bdg[1+i%2]\n",
    "    name2 = bdg[3+i]\n",
    "    print(name1,name2)\n",
    "    print(chip.diffPeak(name1, name2, control1=bdg[0], control2=bdg[0], res_directory=\"../../data/\"+project+\"/diffPeaks/\", scaling1=1, scaling2=scales[i], size=size))"
   ]
  },
  {
   "cell_type": "code",
   "execution_count": null,
   "metadata": {},
   "outputs": [],
   "source": [
    "bams"
   ]
  },
  {
   "cell_type": "code",
   "execution_count": null,
   "metadata": {},
   "outputs": [],
   "source": [
    "bams[10]"
   ]
  },
  {
   "cell_type": "code",
   "execution_count": null,
   "metadata": {},
   "outputs": [],
   "source": [
    "# diffPeak on scaled data (full reprocessing)\n",
    "size= 240\n",
    "for i in range(len(bams)-3):\n",
    "    if i < 8:\n",
    "        continue\n",
    "    bam1 = bams[1+i%2]\n",
    "    bam2 = bams[3+i]\n",
    "    print(bam1,bam2)\n",
    "    print(chip.fullDiffPeak(bam1,bam2, control1=bams[0], compute_size=False, size=size, scaling=[scales[i],1], directory = \"../../data/\"+project+\"/diffData/\", res_directory = \"../../data/\"+project+\"/diffPeaks/\",pairedend=True))"
   ]
  },
  {
   "cell_type": "code",
   "execution_count": null,
   "metadata": {},
   "outputs": [],
   "source": [
    "initscales = ! cat ../../data/$project/bwa/mergedLibrary/bigwig/scale/*.txt"
   ]
  },
  {
   "cell_type": "code",
   "execution_count": null,
   "metadata": {},
   "outputs": [],
   "source": [
    "scales = [val*float(initscales[3+i]) for i, val in enumerate(scales)]"
   ]
  },
  {
   "cell_type": "code",
   "execution_count": null,
   "metadata": {},
   "outputs": [],
   "source": [
    "scales"
   ]
  },
  {
   "cell_type": "code",
   "execution_count": null,
   "metadata": {},
   "outputs": [],
   "source": [
    "chip.bigWigFrom(bams[3:], \n",
    "                genome='GRCh38',scaling=scales,\n",
    "               numthreads=8)"
   ]
  },
  {
   "cell_type": "code",
   "execution_count": null,
   "metadata": {},
   "outputs": [],
   "source": [
    "ls ../../data/$project/recalib_bigwig/"
   ]
  },
  {
   "cell_type": "code",
   "execution_count": null,
   "metadata": {},
   "outputs": [],
   "source": [
    "!mv bigwig/* ../../data/$project/recalib_bigwig/"
   ]
  },
  {
   "cell_type": "code",
   "execution_count": null,
   "metadata": {},
   "outputs": [],
   "source": [
    "!cp ../../data/$project/bwa/mergedLibrary/bigwig/MV411_RNP_AAVS1-*.bigWig ../../data/$project/recalib_bigwig/"
   ]
  },
  {
   "cell_type": "code",
   "execution_count": null,
   "metadata": {},
   "outputs": [],
   "source": [
    "os.popen('for i in $(ls ../../data/'+project+'/diffPeaks/*.bed); \\\n",
    "            do echo $(wc -l $i); \\\n",
    "            done').read().split('\\n')"
   ]
  },
  {
   "cell_type": "code",
   "execution_count": null,
   "metadata": {},
   "outputs": [],
   "source": [
    "bw = ! ls ../../data/additional_degraded_v1/recalib_bigwig/*\n",
    "bw"
   ]
  },
  {
   "cell_type": "code",
   "execution_count": null,
   "metadata": {},
   "outputs": [],
   "source": [
    "# GENOME WIDE only"
   ]
  },
  {
   "cell_type": "code",
   "execution_count": null,
   "metadata": {},
   "outputs": [],
   "source": [
    "peaks = ! ls ../../data/$project/bwa/mergedLibrary/macs/broadPeak/*.broadPeak"
   ]
  },
  {
   "cell_type": "code",
   "execution_count": null,
   "metadata": {},
   "outputs": [],
   "source": [
    "names = [\"AAVS1\", \"AAVS1_v2\", \"IRF8\",\"IRF8_v2\",\"MEF2D\",\"MEF2D_v2\",\"MYB\",\"MYB_v2\",\"RUNX1\",\"RUNX1_v2\",\"RUNX1_RUNX2\",\"RUNX1_RUNX2_v2\",\"RUNX2\",\"RUNX2_v2\", \"SPI1\",\"SPI1_v2\"]"
   ]
  },
  {
   "cell_type": "code",
   "execution_count": null,
   "metadata": {},
   "outputs": [],
   "source": [
    "for i, val in enumerate(bw):\n",
    "    if i <0:\n",
    "        continue\n",
    "    name = names[i]\n",
    "    print(name)\n",
    "    chip.getPeaksAt(peaks[i], val, peaknames=['Macs2_Peaks'], window=3000, folder=\"\", title=name, numthreads=8, refpoint=\"center\", name='../../data/'+project+'/diffData/'+name+'_mat.pdf', withDeeptools=True, torecompute=True)"
   ]
  },
  {
   "cell_type": "code",
   "execution_count": null,
   "metadata": {},
   "outputs": [],
   "source": [
    "!mkdir ../results/$project/\n",
    "!mkdir ../results/$project/plots"
   ]
  },
  {
   "cell_type": "code",
   "execution_count": null,
   "metadata": {},
   "outputs": [],
   "source": [
    "! cp ../../data/additional_degraded_v1/*.pdf ../results/$project/plots/"
   ]
  },
  {
   "cell_type": "code",
   "execution_count": null,
   "metadata": {},
   "outputs": [],
   "source": [
    "cond1peak = ! ls ../../data/$project/diffPeaks/*cond1.bed\n",
    "cond2peak = ! ls ../../data/$project/diffPeaks/*cond2.bed\n",
    "commonpeak = ! ls ../../data/$project/diffPeaks/*common.bed\n",
    "cond1peak"
   ]
  },
  {
   "cell_type": "code",
   "execution_count": null,
   "metadata": {},
   "outputs": [],
   "source": [
    "names = [\"IRF8\", \"MEF2D\", \"MYB\",\"RUNX1\",\"RUNX1_RUNX2\",\"RUNX2\", \"SPI1\", \"MEF2D_v2\", \"IRF8_v2\", \"MYB_v2\", \"RUNX1_v2\", \"SPI1_v2\", \"RUNX2_v2\",\"RUNX1_RUNX2_v2\"]"
   ]
  },
  {
   "cell_type": "code",
   "execution_count": null,
   "metadata": {},
   "outputs": [],
   "source": [
    "bw"
   ]
  },
  {
   "cell_type": "code",
   "execution_count": null,
   "metadata": {},
   "outputs": [],
   "source": [
    "for i in range(int(len(bw)/2)):\n",
    "    if i <0:\n",
    "        continue\n",
    "    name1 = bw[i%2]\n",
    "    name2 = bw[i+2]\n",
    "    peak = [cond1peak[i], commonpeak[i], cond2peak[i]]\n",
    "   # for val in peak:\n",
    "      #  chip.dropWeirdChromosomes(val)\n",
    "    name = names[i]\n",
    "    print(name1,name2)\n",
    "    chip.getPeaksAt(peak, [name1, name2], bigwignames=['DMSO', 'VHL'], peaknames=['DMSO_peaks', 'common', 'VHL_peaks'], window=3000, folder=\"\", title=name, numthreads=7, refpoint=\"center\", name='../../data/'+project+'/diffPeaks/'+name+'_mat.pdf', withDeeptools=True, torecompute=True)"
   ]
  },
  {
   "cell_type": "code",
   "execution_count": null,
   "metadata": {},
   "outputs": [],
   "source": [
    "peaks = ! ls ../../data/$project/bwa/mergedLibrary/macs/broadPeak/*.broadPeak\n",
    "peaks"
   ]
  },
  {
   "cell_type": "code",
   "execution_count": null,
   "metadata": {},
   "outputs": [],
   "source": [
    "names = [\"IRF8\",\"MEF2D\",\"MYB\",\"RUNX1\",\"RUNX1_RUNX2\",\"RUNX2\",\"SPI1\"]\n",
    "names.extend([i+'_r2' for i in names])\n",
    "names.sort()\n",
    "names"
   ]
  },
  {
   "cell_type": "code",
   "execution_count": null,
   "metadata": {},
   "outputs": [],
   "source": [
    "for i in range(len(bw)):\n",
    "    chip.getPeaksAt(peaks[i], bw[i], window=3000, folder=\"\", title=names[i], numthreads=8, torecompute=True, onlyProfile=False, name='../../data/'+project+'/diffPeaks/'+names[i]+'_mat_profile.pdf', withDeeptools=True, refpoint=\"center\")\n",
    "    chip.getPeaksAt(peaks[i], bw[i], window=3000, folder=\"\", title=names[i], numthreads=8, torecompute=True, onlyProfile=True,name='../../data/'+project+'/diffPeaks/'+names[i]+'_mat_profile_clust3.pdf', withDeeptools=True, cluster=3, refpoint=\"center\")"
   ]
  },
  {
   "cell_type": "code",
   "execution_count": null,
   "metadata": {},
   "outputs": [],
   "source": [
    "! ls ../../data/additional_degraded_v1/diffPeaks"
   ]
  },
  {
   "cell_type": "markdown",
   "metadata": {},
   "source": [
    "### on unscalled data"
   ]
  },
  {
   "cell_type": "code",
   "execution_count": null,
   "metadata": {},
   "outputs": [],
   "source": [
    "bams = !ls ../../data/$project/bwa/mergedLibrary/mp*.bam\n",
    "bams"
   ]
  },
  {
   "cell_type": "code",
   "execution_count": null,
   "metadata": {},
   "outputs": [],
   "source": [
    "! mkdir ../../data/$project/diffPeaks_unscaled"
   ]
  },
  {
   "cell_type": "code",
   "execution_count": null,
   "metadata": {},
   "outputs": [],
   "source": [
    "#on unscalled data \n",
    "for i in range(int(len(bams)/2)):\n",
    "    if i < 5:\n",
    "        continue\n",
    "    name1 = bams[i]\n",
    "    name2 = bams[6+i]\n",
    "    print(name1,name2)\n",
    "    chip.fullDiffPeak(name1,name2, control1='../../data/'+project+'/bwa/mergedLibrary/INPUT_R1.mLb.clN.sorted.bam', directory = \"../../data/\"+project+\"/diffData_unscaled/\", res_directory = \"../../data/\"+project+\"/diffPeaks_unscaled/\",pairedend=False)"
   ]
  },
  {
   "cell_type": "code",
   "execution_count": null,
   "metadata": {},
   "outputs": [],
   "source": [
    "bw = ! ls ../../data/$project/bwa/mergedLibrary/bigwig/*.bigWig\n",
    "bw"
   ]
  },
  {
   "cell_type": "code",
   "execution_count": null,
   "metadata": {},
   "outputs": [],
   "source": [
    "cond1peak = ! ls ../../data/$project/diffPeaks_unscaled/*cond1.bed\n",
    "cond2peak = ! ls ../../data/$project/diffPeaks_unscaled/*cond2.bed\n",
    "commonpeak = ! ls ../../data/$project/diffPeaks_unscaled/*common.bed\n",
    "commonpeak"
   ]
  },
  {
   "cell_type": "code",
   "execution_count": null,
   "metadata": {},
   "outputs": [],
   "source": [
    "names = [\"MED1\",\"MED1_v2\",\"FLAG_IRF2BP2\",\"POLII_total\",\"POLII_S2\",\"POLII_S5\"]"
   ]
  },
  {
   "cell_type": "code",
   "execution_count": null,
   "metadata": {},
   "outputs": [],
   "source": [
    "for i in range(int((len(bw)-1)/2)):\n",
    "    name1 = bw[1+i]\n",
    "    name2 = bw[7+i]\n",
    "    peak = [cond1peak[i], commonpeak[i], cond2peak[i]]\n",
    "    #for val in peak:\n",
    "     #   chip.dropWeirdChromosomes(val)\n",
    "    name = names[i]\n",
    "    print(name1,name2)\n",
    "    chip.getPeaksAt(peak, [name1, name2], bigwignames=['DMSO', 'VHL'], peaknames=['DMSO_peaks', 'common', 'VHL_peaks'], window=3000, folder=\"\", title=name, numthreads=7, torecompute=True, refpoint='center', name='../../data/'+project+'/diffPeaks_unscaled/'+name+'_mat.pdf', withDeeptools=True)"
   ]
  },
  {
   "cell_type": "code",
   "execution_count": null,
   "metadata": {},
   "outputs": [],
   "source": [
    "! gsutil -m cp -r \"../../data/additional_degraded_v1\" gs://amlproject/Chip/"
   ]
  },
  {
   "cell_type": "code",
   "execution_count": null,
   "metadata": {},
   "outputs": [],
   "source": [
    "! cp ../../$project/*_mat.pdf ../results/$project/unscaled/\n",
    "! cp ../../$project/*_mat.pdf ../results/$project/scaled/\n",
    "\n",
    "! cp ../../$project/*_mat.pdf ../results/$project/unscaled/\n",
    "! cp ../../$project/*_mat.pdf ../results/$project/unscaled/\n",
    "\n",
    "! cp -r ../data/$project/bwa/mergedLibrary/deepTools/plot/* ../results/$project/plots"
   ]
  }
 ],
 "metadata": {
  "kernelspec": {
   "display_name": "Python 3",
   "language": "python",
   "name": "python3"
  },
  "language_info": {
   "codemirror_mode": {
    "name": "ipython",
    "version": 3
   },
   "file_extension": ".py",
   "mimetype": "text/x-python",
   "name": "python",
   "nbconvert_exporter": "python",
   "pygments_lexer": "ipython3",
   "version": "3.8.3rc1"
  },
  "latex_envs": {
   "LaTeX_envs_menu_present": true,
   "autoclose": false,
   "autocomplete": true,
   "bibliofile": "biblio.bib",
   "cite_by": "apalike",
   "current_citInitial": 1,
   "eqLabelWithNumbers": true,
   "eqNumInitial": 1,
   "hotkeys": {
    "equation": "Ctrl-E",
    "itemize": "Ctrl-I"
   },
   "labels_anchors": false,
   "latex_user_defs": false,
   "report_style_numbering": false,
   "user_envs_cfg": false
  },
  "toc": {
   "base_numbering": 1,
   "nav_menu": {},
   "number_sections": false,
   "sideBar": true,
   "skip_h1_title": false,
   "title_cell": "Table of Contents",
   "title_sidebar": "Contents",
   "toc_cell": false,
   "toc_position": {
    "height": "257.4px",
    "left": "127px",
    "top": "111.6px",
    "width": "165px"
   },
   "toc_section_display": true,
   "toc_window_display": true
  },
  "varInspector": {
   "cols": {
    "lenName": 16,
    "lenType": 16,
    "lenVar": 40
   },
   "kernels_config": {
    "python": {
     "delete_cmd_postfix": "",
     "delete_cmd_prefix": "del ",
     "library": "var_list.py",
     "varRefreshCmd": "print(var_dic_list())"
    },
    "r": {
     "delete_cmd_postfix": ") ",
     "delete_cmd_prefix": "rm(",
     "library": "var_list.r",
     "varRefreshCmd": "cat(var_dic_list()) "
    }
   },
   "types_to_exclude": [
    "module",
    "function",
    "builtin_function_or_method",
    "instance",
    "_Feature"
   ],
   "window_display": false
  }
 },
 "nbformat": 4,
 "nbformat_minor": 2
}
