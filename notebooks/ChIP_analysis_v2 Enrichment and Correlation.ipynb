{
 "cells": [
  {
   "cell_type": "markdown",
   "metadata": {
    "slideshow": {
     "slide_type": "slide"
    }
   },
   "source": [
    "# ChIP AML PiPeline v2"
   ]
  },
  {
   "cell_type": "code",
   "execution_count": null,
   "metadata": {
    "slideshow": {
     "slide_type": "fragment"
    }
   },
   "outputs": [],
   "source": [
    "import os\n",
    "import pandas as pd\n",
    "import sys\n",
    "sys.path.insert(0, '../..')\n",
    "import itertools\n",
    "from scipy import stats\n",
    "import numpy as np\n",
    "\n",
    "from JKBio.epigenetics import ChIP_helper as chiphelper\n",
    "from JKBio import Helper as helper\n",
    "import igv\n",
    "import SimpSOM as sps\n",
    "from scipy import stats\n",
    "\n",
    "import seaborn as sns\n",
    "from matplotlib import cm\n",
    "from matplotlib import pyplot as plt\n",
    "from IPython.display import IFrame\n",
    "import seaborn as sns\n",
    "from bokeh.plotting import *\n",
    "import igv\n",
    "\n",
    "import numba\n",
    "from numba import jit\n",
    "\n",
    "from scipy.cluster.hierarchy import linkage, leaves_list\n",
    "from sklearn.cluster import AgglomerativeClustering, DBSCAN, KMeans, OPTICS\n",
    "from sklearn.mixture import GaussianMixture\n",
    "from sklearn.manifold import MDS, TSNE\n",
    "from sklearn.decomposition import PCA\n",
    "from sklearn.preprocessing import scale\n",
    "from IPython.display import IFrame\n",
    "\n",
    "from pybedtools import BedTool\n",
    "import pyBigWig\n",
    "\n",
    "output_notebook()\n",
    "%load_ext autoreload\n",
    "%autoreload 2"
   ]
  },
  {
   "cell_type": "code",
   "execution_count": null,
   "metadata": {},
   "outputs": [],
   "source": [
    "project=\"Cobinding_ChIP\"\n",
    "version=\"v2\"\n",
    "merging_version=\"remove_single\"\n",
    "window=\"150\""
   ]
  },
  {
   "cell_type": "code",
   "execution_count": null,
   "metadata": {},
   "outputs": [],
   "source": [
    "%store -r merged\n",
    "%store -r promoters\n",
    "#ATAC\n",
    "%store -r a \n",
    "%store -r chrombed\n",
    "%store -r mergedpeak\n",
    "%store -r endata\n",
    "%store -r l"
   ]
  },
  {
   "cell_type": "markdown",
   "metadata": {},
   "source": [
    "## Correlation with Annotations"
   ]
  },
  {
   "cell_type": "code",
   "execution_count": null,
   "metadata": {},
   "outputs": [],
   "source": [
    "data = pd.DataFrame(np.corrcoef(stats.zscore(0.01+merged[merged.columns[8:]].T)), columns=merged.columns[8:], index = merged.columns[8:])\n",
    "link = linkage(data[:-endata])\n",
    "col = data.iloc[-endata:-states]\n",
    "col = col[[co for co in col.columns if co not in col.index.tolist()]]\n",
    "rdb = cm.get_cmap('RdBu_r', 256)\n",
    "for val in col.columns:\n",
    "    a = [rdb(128+int(v*128)) for v in col[val]]\n",
    "    col[val] = a"
   ]
  },
  {
   "cell_type": "code",
   "execution_count": null,
   "metadata": {},
   "outputs": [],
   "source": [
    "len(data.columns), len(link)+len(range(24,46))"
   ]
  },
  {
   "cell_type": "code",
   "execution_count": null,
   "metadata": {},
   "outputs": [],
   "source": [
    "#correlation_withannotation\n",
    "fig = sns.clustermap(data.iloc[:-endata][data.columns[np.concatenate((leaves_list(link),range(24,38)))]], vmin=-1,vmax=1, col_colors=col.T, figsize=(20,20), cmap='RdBu_r', row_linkage=link, col_cluster=False, colors_ratio=0.015)\n",
    "fig.ax_col_dendrogram.set_visible(False)\n",
    "fig.fig.suptitle(\"correlation_withannotation\")\n",
    "fig.savefig('../results/'+project+'/plots/'+version+'_'+merging_version+'_'+window+'_correlation_with_annotation.pdf')\n",
    "plt.show()"
   ]
  },
  {
   "cell_type": "markdown",
   "metadata": {},
   "source": [
    "## Looking at peak overlap \n",
    "\n",
    "How many of peak in A (column) overlaps with peak in B (rows)\n",
    "\n",
    "in other words:\n",
    "\n",
    "what is the percentage of B's peaks that are overlaped by A's peaks "
   ]
  },
  {
   "cell_type": "code",
   "execution_count": null,
   "metadata": {},
   "outputs": [],
   "source": [
    "overlap, correlation, enrichment = chiphelper.pairwiseOverlap(merged, norm=True)"
   ]
  },
  {
   "cell_type": "code",
   "execution_count": null,
   "metadata": {},
   "outputs": [],
   "source": [
    "overlap.to_csv('../results/'+project+'/'+version+'_'+merging_version+'_'+window+'pairwise_overlap.csv')\n",
    "correlation.to_csv('../results/'+project+'/'+version+'_'+merging_version+'_'+window+'pairwise_correlation_on_overlap.csv')\n",
    "enrichment.to_csv('../results/'+project+'/'+version+'_'+merging_version+'_'+window+'pairwise_enrichment_on_overlap.csv')"
   ]
  },
  {
   "cell_type": "code",
   "execution_count": null,
   "metadata": {},
   "outputs": [],
   "source": [
    "data = pd.DataFrame(data=overlap,index=merged.columns[8:], columns=merged.columns[8:])\n",
    "link = linkage(data.iloc[:-endata-states]) # D being the measurement\n",
    "col = data[-endata-states+1:]\n",
    "col = col[[co for co in col.columns if co not in col.index.tolist()]]\n",
    "for val in col.columns:\n",
    "    a = [viridis(v) for v in col[val]]\n",
    "    col[val] = a"
   ]
  },
  {
   "cell_type": "code",
   "execution_count": null,
   "metadata": {},
   "outputs": [],
   "source": [
    "len(data.columns),len(link), len(range(24,46))"
   ]
  },
  {
   "cell_type": "code",
   "execution_count": null,
   "metadata": {},
   "outputs": [],
   "source": [
    "fig = sns.clustermap(data.iloc[:-endata-states+1][data.columns[np.concatenate((leaves_list(link),range(24,46)))]], row_linkage=link, col_colors=col.T, col_cluster=False,figsize=(20,20), colors_ratio=0.012)\n",
    "fig.ax_col_dendrogram.set_visible(False)\n",
    "fig.fig.suptitle(\"pairwise_overlap_clustermap\")\n",
    "fig.savefig('../results/'+project+'/plots/'+version+'_'+merging_version+'_'+window+'pairwise_overlap_clustermap.pdf')\n",
    "plt.show()"
   ]
  },
  {
   "cell_type": "markdown",
   "metadata": {},
   "source": [
    "## data on the experiments"
   ]
  },
  {
   "cell_type": "markdown",
   "metadata": {},
   "source": [
    "## Correlation only on overlaps \n",
    "\n",
    "on the overlaps given above"
   ]
  },
  {
   "cell_type": "code",
   "execution_count": null,
   "metadata": {},
   "outputs": [],
   "source": [
    "data = pd.DataFrame(data=correlation,index=merged.columns[8:], columns=merged.columns[8:])\n",
    "link = linkage(data.iloc[:-endata-states+1]) # D being the measurement\n",
    "col = data.iloc[-endata-states+1:]\n",
    "col = col[[co for co in col.columns if co not in col.index.tolist()]]\n",
    "for val in col.columns:\n",
    "    a = [rdb(128+int(v*128)) for v in col[val]]\n",
    "    col[val] = a"
   ]
  },
  {
   "cell_type": "code",
   "execution_count": null,
   "metadata": {},
   "outputs": [],
   "source": [
    "fig = sns.clustermap(data.iloc[:-endata-states+1][data.columns[np.concatenate((leaves_list(link),range(24,46)))]], row_linkage=link, col_colors=col.T, col_cluster=False, colors_ratio=0.012, figsize=(20,20), vmin=-1, vmax=1, cmap='RdBu_r')\n",
    "fig.ax_col_dendrogram.set_visible(False)\n",
    "fig.savefig('../results/'+project+'/plots/'+version+'_'+merging_version+'_'+window+'_correlation_onoverlap.pdf')\n",
    "plt.show()"
   ]
  },
  {
   "cell_type": "markdown",
   "metadata": {},
   "source": [
    "## Enrichment"
   ]
  },
  {
   "cell_type": "code",
   "execution_count": null,
   "metadata": {},
   "outputs": [],
   "source": [
    "merged[merged.state_5==True]"
   ]
  },
  {
   "cell_type": "code",
   "execution_count": null,
   "metadata": {},
   "outputs": [],
   "source": [
    "fig = sns.clustermap(enrichment,figsize=(12,12), vmin=-5,vmax=5, cmap='RdBu_r')\n",
    "fig.ax_col_dendrogram.set_visible(False)\n",
    "fig.savefig('../results/'+project+'/plots/'+version+'_'+merging_version+'_'+window+'_enrichment_clustermap_all_to_all.pdf')\n",
    "plt.show()"
   ]
  },
  {
   "cell_type": "markdown",
   "metadata": {
    "slideshow": {
     "slide_type": "slide"
    }
   },
   "source": [
    "## clustering\n",
    "\n",
    "I have tried gaussian mixtures and Agglomerative clustering algorithm. Only the second can create a hierarchical clustering.\n",
    "\n",
    "It seems that gaussian mixture makes more sense given the data we have, for now, is more \"homogeneous\". \n",
    "\n",
    "**I am still not so happy with the clustering.** It can be because of the how much importance, outlier values and the high number of noisy values from locations with no peaks.\n",
    "\n",
    "We can use similar methods to RNAseq to improve this (clamping values, log transform, first round of PCA..)\n"
   ]
  },
  {
   "cell_type": "markdown",
   "metadata": {},
   "source": [
    "### using DBSCAN"
   ]
  },
  {
   "cell_type": "code",
   "execution_count": null,
   "metadata": {},
   "outputs": [],
   "source": [
    "cols = list(merged.columns[8:-endata-states+1])\n",
    "data = merged[cols].values"
   ]
  },
  {
   "cell_type": "code",
   "execution_count": null,
   "metadata": {},
   "outputs": [],
   "source": [
    "len(merged)"
   ]
  },
  {
   "cell_type": "code",
   "execution_count": null,
   "metadata": {},
   "outputs": [],
   "source": [
    "rand = np.random.choice(range(len(data)),8000)"
   ]
  },
  {
   "cell_type": "code",
   "execution_count": null,
   "metadata": {},
   "outputs": [],
   "source": [
    "data = ((data-data.min())/data.max(0))"
   ]
  },
  {
   "cell_type": "code",
   "execution_count": null,
   "metadata": {},
   "outputs": [],
   "source": [
    "#print(merged.columns[8:-4])\n",
    "# https://scikit-learn.org/stable/modules/generated/sklearn.cluster.OPTICS.html#sklearn.cluster.OPTICS\n",
    "min_samples=50\n",
    "normtype=\"scaled\"\n",
    "groups = OPTICS(min_samples=min_samples,n_jobs=8).fit_predict(data[rand])\n",
    "print(groups.max())\n",
    "np.save('../data/'+project+'/'+version+'_'+merging_version+'_'+window+'_'+normtype+'_groups.npy',groups)"
   ]
  },
  {
   "cell_type": "code",
   "execution_count": null,
   "metadata": {},
   "outputs": [],
   "source": [
    "groups = np.load('../data/'+project+'/'+version+'_'+merging_version+'_'+window+'_'+normtype+'_groups.npy')"
   ]
  },
  {
   "cell_type": "code",
   "execution_count": null,
   "metadata": {},
   "outputs": [],
   "source": [
    "rand=5000\n",
    "rand = np.random.choice(range(len(groups)),rand)"
   ]
  },
  {
   "cell_type": "code",
   "execution_count": null,
   "metadata": {},
   "outputs": [],
   "source": [
    "subgroups = groups[rand]\n",
    "print(subgroups.max())\n",
    "sorting = np.argsort(subgroups)\n",
    "print(len(set(subgroups)))\n",
    "viridis = cm.get_cmap('gist_rainbow', len(set(groups)))\n",
    "colors = [viridis(i) for i in subgroups[sorting]]\n",
    "\n",
    "viridis = cm.get_cmap('viridis', 256)\n",
    "data = merged[merged.columns[-11:]]\n",
    "for val in data.columns[:-4]:\n",
    "    data[val] =stats.zscore(np.log2(1+data[val]))\n",
    "data = data.iloc[rand].iloc[sorting]\n",
    "for val in data.columns:\n",
    "    a = [viridis(v) for v in data[val]]\n",
    "    data[val] = a\n",
    "data[\"clusters\"]  = colors"
   ]
  },
  {
   "cell_type": "code",
   "execution_count": null,
   "metadata": {},
   "outputs": [],
   "source": [
    "fig = sns.clustermap(np.log2(1.01+merged[cols].iloc[rand].iloc[sorting].T), vmin=0,vmax=3,figsize=(20,15),z_score=0, colors_ratio=0.018, col_cluster=False, col_colors=data, xticklabels=False)\n",
    "fig.ax_col_dendrogram.set_visible(False)\n",
    "fig.fig.suptitle(\"sorted clustermap of cobindings clustered with OPTICS\")\n",
    "fig.savefig('../results/'+project+'/plots/'+version+'_'+merging_version+'_'+window+'clustermap_cobinding_optics_minsamp_'+str(min_samples)+'_clustered.pdf')\n",
    "plt.show()\n"
   ]
  },
  {
   "cell_type": "markdown",
   "metadata": {},
   "source": [
    "### using KMeans"
   ]
  },
  {
   "cell_type": "code",
   "execution_count": null,
   "metadata": {},
   "outputs": [],
   "source": [
    "cols = list(merged.columns[8:-endata])\n",
    "data = stats.zscore(merged[cols].values)"
   ]
  },
  {
   "cell_type": "code",
   "execution_count": null,
   "metadata": {},
   "outputs": [],
   "source": [
    "cols = list(merged.columns[8:-endata])\n",
    "data= merged[cols].values\n",
    "data = (data-data.min())/data.max()"
   ]
  },
  {
   "cell_type": "code",
   "execution_count": null,
   "metadata": {},
   "outputs": [],
   "source": [
    "#https://scikit-learn.org/stable/modules/generated/sklearn.cluster.KMeans.html#sklearn.cluster.KMeans\n",
    "n_clust=20\n",
    "kmean = KMeans(n_clusters=n_clust,n_jobs=8)\n",
    "groups = kmean.fit_predict(data)\n",
    "centroid = kmean.cluster_centers_"
   ]
  },
  {
   "cell_type": "code",
   "execution_count": null,
   "metadata": {},
   "outputs": [],
   "source": [
    "fig, ax = plt.subplots(figsize=(10,10)) \n",
    "df = pd.DataFrame(centroid,columns=cols).T\n",
    "df = df/df.max()\n",
    "\n",
    "fig = sns.heatmap(df,ax=ax, vmax=1)\n",
    "fig.figure.savefig('../results/'+project+'/plots/'+version+'_'+merging_version+'_'+window+'_kmeans_'+str(n_clust)+'_centroids.pdf')"
   ]
  },
  {
   "cell_type": "code",
   "execution_count": null,
   "metadata": {},
   "outputs": [],
   "source": [
    "merged.columns[-21:-7]"
   ]
  },
  {
   "cell_type": "code",
   "execution_count": null,
   "metadata": {},
   "outputs": [],
   "source": [
    "subgroups = groups[rand]\n",
    "sorting = np.argsort(subgroups)\n",
    "viridis = cm.get_cmap('gist_rainbow', len(set(groups)))\n",
    "colors = [viridis(i) for i in subgroups[sorting]]\n",
    "\n",
    "viridis = cm.get_cmap('viridis', 256)\n",
    "data = merged[merged.columns[-21:]]\n",
    "for val in data.columns[:-8]:\n",
    "    data[val] =stats.zscore(np.log2(1+data[val]))\n",
    "data = data.iloc[rand].iloc[sorting]\n",
    "for val in data.columns:\n",
    "    a = [viridis(v*256) for v in data[val]]\n",
    "    data[val] = a\n",
    "data[\"clusters\"]  = colors"
   ]
  },
  {
   "cell_type": "code",
   "execution_count": null,
   "metadata": {},
   "outputs": [],
   "source": [
    "fig = sns.clustermap(np.log2(1.01+merged[cols].iloc[rand].iloc[sorting].T), vmin=0,vmax=3,figsize=(20,15),z_score=0, colors_ratio=0.018, col_cluster=False,col_colors=data, xticklabels=False)\n",
    "fig.ax_col_dendrogram.set_visible(False)\n",
    "fig.fig.suptitle(\"sorted clustermap of cobindings clustered with Kmeans\")\n",
    "fig.savefig('../results/'+project+'/plots/'+version+'_'+merging_version+'_'+window+'_kmeans_'+str(n_clust)+'_clustermap_cobinding.pdf')\n",
    "plt.show()"
   ]
  },
  {
   "cell_type": "code",
   "execution_count": null,
   "metadata": {},
   "outputs": [],
   "source": [
    "set(groups)"
   ]
  },
  {
   "cell_type": "markdown",
   "metadata": {},
   "source": [
    "#### Enrichment"
   ]
  },
  {
   "cell_type": "code",
   "execution_count": null,
   "metadata": {},
   "outputs": [],
   "source": [
    "enr, _ = chiphelper.enrichment(remerged,groups=groups)"
   ]
  },
  {
   "cell_type": "code",
   "execution_count": null,
   "metadata": {},
   "outputs": [],
   "source": [
    "enr = enr.replace(-np.inf, -13.7)"
   ]
  },
  {
   "cell_type": "code",
   "execution_count": null,
   "metadata": {},
   "outputs": [],
   "source": [
    "ig = sns.clustermap(enr.T[24:],figsize=(12,12), vmax=5, vmin=-5, cmap='RdBu_r')\n",
    "fig.savefig('../results/'+project+'/plots/'+version+'_'+merging_version+'_'+window+'_kmeans_'+str(n_clust)+'enrichment_on_cluster_metasubset.pdf')\n",
    "plt.show()"
   ]
  },
  {
   "cell_type": "code",
   "execution_count": null,
   "metadata": {},
   "outputs": [],
   "source": [
    "fig = sns.clustermap(enr.T,figsize=(12,12), vmax=7, vmin=-7, cmap='RdBu_r')\n",
    "fig.savefig('../results/'+project+'/plots/'+version+'_'+merging_version+'_'+window+'_kmeans_'+str(n_clust)+'enrichment_on_cluster.pdf')\n",
    "plt.show()"
   ]
  },
  {
   "cell_type": "markdown",
   "metadata": {},
   "source": [
    "## Plot TSNE density map"
   ]
  },
  {
   "cell_type": "code",
   "execution_count": null,
   "metadata": {},
   "outputs": [],
   "source": [
    "cols = list(merged.columns[8:-21])\n",
    "scaled_data = stats.zscore(merged[cols].values)\n",
    "cols"
   ]
  },
  {
   "cell_type": "code",
   "execution_count": null,
   "metadata": {},
   "outputs": [],
   "source": [
    "cols = list(merged.columns[8:-21])\n",
    "data= merged[cols].values\n",
    "scaled_data = (data - data.min(0))/data.max(0)"
   ]
  },
  {
   "cell_type": "code",
   "execution_count": null,
   "metadata": {},
   "outputs": [],
   "source": [
    "rand = np.random.choice(merged.index,30000)"
   ]
  },
  {
   "cell_type": "code",
   "execution_count": null,
   "metadata": {},
   "outputs": [],
   "source": [
    "red_data = TSNE(2,10,verbose=10,n_iter=1500).fit_transform(scaled_data)\n",
    "np.save('../results/'+project+'/'+version+'_'+merging_version+'_'+window+'red_data.npy',red_data)"
   ]
  },
  {
   "cell_type": "code",
   "execution_count": null,
   "metadata": {},
   "outputs": [],
   "source": [
    "# Let's look at the data. the density map of the distribution of all pseudo enhancer over their tf binding profile\n",
    "_, ax = plt.subplots(figsize=(10,10))\n",
    "fig = sns.kdeplot(red_data[:,0], red_data[:,1], shade=True, ax=ax)\n",
    "fig.savefig('../results/'+project+'/plots/'+version+'_'+merging_version+'_'+window+'_density_TSNE.pdf')"
   ]
  },
  {
   "cell_type": "code",
   "execution_count": null,
   "metadata": {},
   "outputs": [],
   "source": [
    "# now let's look at it from anothe rploting method. we can see many many islands\n",
    "helper.bigScatter(red_data,binsize=0.2,showpoint=False,precomputed=False, logscale=True, title='density plot of enhancers in TF cobinding space with TSNE', folder='../results/'+project+'/plots/'+version+'_'+merging_version+'_'+window+\"_\")"
   ]
  },
  {
   "cell_type": "code",
   "execution_count": null,
   "metadata": {},
   "outputs": [],
   "source": [
    "## TODO: color by dependencies/pathways/expression.. after ABC model,"
   ]
  },
  {
   "cell_type": "markdown",
   "metadata": {},
   "source": [
    "## Using SOMs"
   ]
  },
  {
   "cell_type": "code",
   "execution_count": null,
   "metadata": {},
   "outputs": [],
   "source": [
    "cols"
   ]
  },
  {
   "cell_type": "code",
   "execution_count": null,
   "metadata": {},
   "outputs": [],
   "source": [
    "#Import the library\n",
    "size = 20\n",
    "#Build a network 20x20 with a weights format taken from the raw_data and activate Periodic Boundary Conditions. \n",
    "net = sps.somNet(size,size, data, PBC=True)\n",
    "\n",
    "#Train the network for 10000 epochs and with initial learning rate of 0.01. \n",
    "net.train(0.01, 10000)\n",
    "\n",
    "#Save the weights to file\n",
    "net.save('../results/'+project+'/'+version+'_'+merging_version+'_'+window+'_cobinding_SOMweights_'+str(size))"
   ]
  },
  {
   "cell_type": "code",
   "execution_count": null,
   "metadata": {},
   "outputs": [],
   "source": [
    "net = sps.somNet(0,0, data, loadFile='../results/'+project+'/'+version+'_'+merging_version+'_'+window+'_cobinding_SOMweights_'+str(size), PBC=True)"
   ]
  },
  {
   "cell_type": "code",
   "execution_count": null,
   "metadata": {},
   "outputs": [],
   "source": [
    "pathplot = \"../results/\"+project+'/plots/'+version+'_'+merging_version+'_'+window+\"_somNets/\"\n",
    "! mkdir $pathplot"
   ]
  },
  {
   "cell_type": "code",
   "execution_count": null,
   "metadata": {},
   "outputs": [],
   "source": [
    "#Print a map of the network nodes and colour them according to the first feature (column number 0) of the dataset\n",
    "#and then according to the distance between each node and its neighbours.\n",
    "for col in range(data.shape[1]):\n",
    "    net.nodes_graph(colnum=col, printout=True, show=True, path=\"../results/\"+project+'/plots/'+version+'_'+merging_version+'_'+window+\"_somNets/\", colname=cols[col])"
   ]
  },
  {
   "cell_type": "code",
   "execution_count": null,
   "metadata": {},
   "outputs": [],
   "source": [
    "diffs = net.diff_graph(show=False, returns=True)\n",
    "plt.savefig('../results/'+project+'/plots/'+version+'_'+merging_version+'_'+window+'_cobinding_SOM_'+str(size)+'.pdf')"
   ]
  },
  {
   "cell_type": "code",
   "execution_count": null,
   "metadata": {},
   "outputs": [],
   "source": [
    "somnodes = {'r':[],'q':[],'c':diffs,'features':[]} \n",
    "for i, node in enumerate(net.nodeList):\n",
    "    somnodes['q'].append(node.pos[0]+(i%size)*0.535+(i//size)*0.055)\n",
    "    somnodes['r'].append(-node.pos[1]-(i%size)*0.2)\n",
    "    somnodes['features'].append([cols[i] for i in np.argsort(node.weights) if abs(node.weights[i])>0.4])\n",
    "somnodes=pd.DataFrame(somnodes)"
   ]
  },
  {
   "cell_type": "code",
   "execution_count": null,
   "metadata": {},
   "outputs": [],
   "source": [
    "for i, v in somnodes.iterrows():\n",
    "    tot=\"\"\n",
    "    for e, j in enumerate(v.features):\n",
    "        if e%5==4:\n",
    "            tot+='\\n'\n",
    "        tot += \" \"+str(j)\n",
    "    somnodes.loc[i, 'features'] = tot"
   ]
  },
  {
   "cell_type": "code",
   "execution_count": null,
   "metadata": {},
   "outputs": [],
   "source": [
    "#interactive SOM with features with highest importance to the nodes, displayed when hovering\n",
    "helper.bigScatter(somnodes,precomputed=True, features=True,binsize=1, title='Cobinding SOM cluster of '+str(size), folder='../results/'+project+'/plots/'+version+'_'+merging_version+'_'+window)"
   ]
  },
  {
   "cell_type": "code",
   "execution_count": null,
   "metadata": {},
   "outputs": [],
   "source": [
    "#Cluster the datapoints according to the Quality Threshold algorithm.\n",
    "clusts = net.cluster(data, type='KMeans')"
   ]
  },
  {
   "cell_type": "code",
   "execution_count": null,
   "metadata": {},
   "outputs": [],
   "source": [
    "sorting  = []\n",
    "for i in clusts:\n",
    "    sorting.extend(i)\n",
    "sorting = np.array(sorting)"
   ]
  },
  {
   "cell_type": "code",
   "execution_count": null,
   "metadata": {},
   "outputs": [],
   "source": [
    "rand = np.random.choice(merged.index,8000)\n",
    "rand = np.sort(rand)"
   ]
  },
  {
   "cell_type": "code",
   "execution_count": null,
   "metadata": {},
   "outputs": [],
   "source": [
    "viridis = cm.get_cmap('gist_rainbow', len(clusts))\n",
    "colors=[]\n",
    "for i, clust in enumerate(clusts):\n",
    "    colors.extend([viridis(i)]*len(clust))\n",
    "colors = np.array(colors)\n",
    "viridis = cm.get_cmap('viridis', 256)\n",
    "data = merged[merged.columns[-21:]]\n",
    "for val in data.columns[:-8]:\n",
    "    data[val] =stats.zscore(np.log2(1+data[val]))\n",
    "data = data.iloc[sorting[rand]]\n",
    "for val in data.columns:\n",
    "    a = [viridis(v*256) for v in data[val]]\n",
    "    data[val] = a\n",
    "data[\"clusters\"]  = [tuple(i) for i in colors[rand]]"
   ]
  },
  {
   "cell_type": "code",
   "execution_count": null,
   "metadata": {},
   "outputs": [],
   "source": [
    "#sorted clustermap of cobindings clustered with SOM\n",
    "fig = sns.clustermap(np.log2(1.01+merged[cols].iloc[sorting[rand]].T), vmin=0,vmax=3,figsize=(20,15),z_score=0, colors_ratio=0.018, col_cluster=False,col_colors=data, xticklabels=False)\n",
    "fig.ax_col_dendrogram.set_visible(False)\n",
    "fig.fig.suptitle(\"sorted clustermap of cobindings clustered with SOM\")\n",
    "fig.savefig('../results/'+project+'/plots/'+version+'_'+merging_version+'_'+window+'_SOM_'+str(n_clust)+'_clustermap_cobinding.pdf')\n",
    "plt.show()"
   ]
  },
  {
   "cell_type": "code",
   "execution_count": null,
   "metadata": {},
   "outputs": [],
   "source": [
    "len(clusts)"
   ]
  },
  {
   "cell_type": "code",
   "execution_count": null,
   "metadata": {},
   "outputs": [],
   "source": [
    "groups = []\n",
    "for i, val in enumerate(clusts):\n",
    "    groups.extend([i]*len(val))"
   ]
  },
  {
   "cell_type": "code",
   "execution_count": null,
   "metadata": {},
   "outputs": [],
   "source": [
    "#let's look at the enrichment over SOM clusters\n",
    "groups = []\n",
    "for i, val in enumerate(clusts):\n",
    "    groups.extend([i]*len(val))\n",
    "enr, _ = chiphelper.enrichment(merged[merged.columns[:-states]],groups=np.array(groups))\n",
    "enr = enr.replace(-np.inf, -13.7)\n",
    "ig = sns.clustermap(enr.T[24:],figsize=(12,12), vmax=4, vmin=-4, cmap='RdBu_r')\n",
    "fig.savefig('../results/'+project+'/plots/'+version+'_'+merging_version+'_'+window+'_kmeans_'+str(n_clust)+'enrichment_on_SOMcluster_metasubset.pdf')\n",
    "plt.show()"
   ]
  }
 ],
 "metadata": {
  "celltoolbar": "Diaporama",
  "kernelspec": {
   "display_name": "Python 3",
   "language": "python",
   "name": "python3"
  },
  "language_info": {
   "codemirror_mode": {
    "name": "ipython",
    "version": 3
   },
   "file_extension": ".py",
   "mimetype": "text/x-python",
   "name": "python",
   "nbconvert_exporter": "python",
   "pygments_lexer": "ipython3",
   "version": "3.8.3rc1"
  },
  "latex_envs": {
   "LaTeX_envs_menu_present": true,
   "autoclose": false,
   "autocomplete": true,
   "bibliofile": "biblio.bib",
   "cite_by": "apalike",
   "current_citInitial": 1,
   "eqLabelWithNumbers": true,
   "eqNumInitial": 1,
   "hotkeys": {
    "equation": "Ctrl-E",
    "itemize": "Ctrl-I"
   },
   "labels_anchors": false,
   "latex_user_defs": false,
   "report_style_numbering": false,
   "user_envs_cfg": false
  },
  "toc": {
   "base_numbering": 1,
   "nav_menu": {},
   "number_sections": false,
   "sideBar": true,
   "skip_h1_title": false,
   "title_cell": "Table of Contents",
   "title_sidebar": "Contents",
   "toc_cell": false,
   "toc_position": {
    "height": "372px",
    "left": "78px",
    "top": "111.6px",
    "width": "173px"
   },
   "toc_section_display": true,
   "toc_window_display": true
  },
  "varInspector": {
   "cols": {
    "lenName": 16,
    "lenType": 16,
    "lenVar": 40
   },
   "kernels_config": {
    "python": {
     "delete_cmd_postfix": "",
     "delete_cmd_prefix": "del ",
     "library": "var_list.py",
     "varRefreshCmd": "print(var_dic_list())"
    },
    "r": {
     "delete_cmd_postfix": ") ",
     "delete_cmd_prefix": "rm(",
     "library": "var_list.r",
     "varRefreshCmd": "cat(var_dic_list()) "
    }
   },
   "types_to_exclude": [
    "module",
    "function",
    "builtin_function_or_method",
    "instance",
    "_Feature"
   ],
   "window_display": false
  }
 },
 "nbformat": 4,
 "nbformat_minor": 2
}
