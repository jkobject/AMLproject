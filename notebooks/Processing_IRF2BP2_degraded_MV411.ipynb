{
 "cells": [
  {
   "cell_type": "code",
   "execution_count": null,
   "metadata": {},
   "outputs": [],
   "source": [
    "import os\n",
    "from IPython.display import IFrame\n",
    "import pandas as pd\n",
    "import sys\n",
    "sys.path.append('..')\n",
    "from JKBio.epigenetics import ChIP_helper as chiphelper\n",
    "from JKBio import Helper as helper\n",
    "import igv\n",
    "import numpy as np\n",
    "import pyBigWig\n",
    "import itertools\n",
    "from sklearn.cluster import AgglomerativeClustering\n",
    "from sklearn.mixture import GaussianMixture\n",
    "from bokeh.plotting import *\n",
    "from sklearn.manifold import MDS, TSNE\n",
    "from sklearn.decomposition import PCA\n",
    "from sklearn.preprocessing import scale\n",
    "output_notebook()\n",
    "%load_ext autoreload\n",
    "%autoreload 2"
   ]
  },
  {
   "cell_type": "markdown",
   "metadata": {},
   "source": [
    "# ChIP"
   ]
  },
  {
   "cell_type": "code",
   "execution_count": null,
   "metadata": {},
   "outputs": [],
   "source": [
    "!gsutil ls gs://amlproject/Chip_AML/Chip/"
   ]
  },
  {
   "cell_type": "code",
   "execution_count": null,
   "metadata": {},
   "outputs": [],
   "source": [
    "a = !gsutil ls gs://amlproject/Chip_AML/Chip/IRF2BP2/"
   ]
  },
  {
   "cell_type": "code",
   "execution_count": null,
   "metadata": {},
   "outputs": [],
   "source": [
    "rename1 = {\n",
    " 'gs://transfer-amlproject/20191211_10_MP7613_S8_R1_001.fastq.gz':\"gs://amlproject/Chip_AML/IRF2BP2/IRF2BP2/mp910_1.fastq.gz\",\n",
    " 'gs://transfer-amlproject/20191211_10_MP7613_S8_R2_001.fastq.gz':\"gs://amlproject/Chip_AML/IRF2BP2/IRF2BP2/mp910_2.fastq.gz\",\n",
    " 'gs://transfer-amlproject/20191211_11_MP7613_S9_R1_001.fastq.gz':\"gs://amlproject/Chip_AML/IRF2BP2/IRF2BP2/mp911_1.fastq.gz\",\n",
    " 'gs://transfer-amlproject/20191211_11_MP7613_S9_R2_001.fastq.gz':\"gs://amlproject/Chip_AML/IRF2BP2/IRF2BP2/mp911_2.fastq.gz\",\n",
    " 'gs://transfer-amlproject/20191211_12_MP7613_S10_R1_001.fastq.gz':\"gs://amlproject/Chip_AML/IRF2BP2/IRF2BP2/mp912_1.fastq.gz\",\n",
    " 'gs://transfer-amlproject/20191211_12_MP7613_S10_R2_001.fastq.gz':\"gs://amlproject/Chip_AML/IRF2BP2/IRF2BP2/mp912_2.fastq.gz\",\n",
    " 'gs://transfer-amlproject/20191211_13_MP7613_S11_R1_001.fastq.gz':\"gs://amlproject/Chip_AML/IRF2BP2/IRF2BP2/mp913_1.fastq.gz\",\n",
    " 'gs://transfer-amlproject/20191211_13_MP7613_S11_R2_001.fastq.gz':\"gs://amlproject/Chip_AML/IRF2BP2/IRF2BP2/mp913_2.fastq.gz\",\n",
    " 'gs://transfer-amlproject/20191211_14_MP7613_S12_R1_001.fastq.gz':\"gs://amlproject/Chip_AML/IRF2BP2/IRF2BP2/mp914_1.fastq.gz\",\n",
    " 'gs://transfer-amlproject/20191211_14_MP7613_S12_R2_001.fastq.gz':\"gs://amlproject/Chip_AML/IRF2BP2/IRF2BP2/mp914_2.fastq.gz\",\n",
    " 'gs://transfer-amlproject/20191211_15_MP7613_S13_R1_001.fastq.gz':\"gs://amlproject/Chip_AML/IRF2BP2/IRF2BP2/mp915_1.fastq.gz\",\n",
    " 'gs://transfer-amlproject/20191211_15_MP7613_S13_R2_001.fastq.gz':\"gs://amlproject/Chip_AML/IRF2BP2/IRF2BP2/mp915_2.fastq.gz\",\n",
    " 'gs://transfer-amlproject/20191211_16_MP7613_S14_R1_001.fastq.gz':\"gs://amlproject/Chip_AML/IRF2BP2/IRF2BP2/mp916_1.fastq.gz\",\n",
    " 'gs://transfer-amlproject/20191211_16_MP7613_S14_R2_001.fastq.gz':\"gs://amlproject/Chip_AML/IRF2BP2/IRF2BP2/mp916_2.fastq.gz\",\n",
    " 'gs://transfer-amlproject/20191211_1_MP7613_S1_R1_001.fastq.gz':\"gs://amlproject/Chip_AML/IRF2BP2/IRF2BP2/mp901_1.fastq.gz\",\n",
    " 'gs://transfer-amlproject/20191211_1_MP7613_S1_R2_001.fastq.gz':\"gs://amlproject/Chip_AML/IRF2BP2/IRF2BP2/mp901_2.fastq.gz\",\n",
    " 'gs://transfer-amlproject/20191211_2_MP7613_S2_R1_001.fastq.gz':\"gs://amlproject/Chip_AML/IRF2BP2/IRF2BP2/mp902_1.fastq.gz\",\n",
    " 'gs://transfer-amlproject/20191211_2_MP7613_S2_R2_001.fastq.gz':\"gs://amlproject/Chip_AML/IRF2BP2/IRF2BP2/mp902_2.fastq.gz\",\n",
    " 'gs://transfer-amlproject/20191211_3_MP7613_S3_R1_001.fastq.gz':\"gs://amlproject/Chip_AML/IRF2BP2/IRF2BP2/mp903_1.fastq.gz\",\n",
    " 'gs://transfer-amlproject/20191211_3_MP7613_S3_R2_001.fastq.gz':\"gs://amlproject/Chip_AML/IRF2BP2/IRF2BP2/mp903_2.fastq.gz\",\n",
    " 'gs://transfer-amlproject/20191211_4_MP7613_S4_R1_001.fastq.gz':\"gs://amlproject/Chip_AML/IRF2BP2/IRF2BP2/mp904_1.fastq.gz\",\n",
    " 'gs://transfer-amlproject/20191211_4_MP7613_S4_R2_001.fastq.gz':\"gs://amlproject/Chip_AML/IRF2BP2/IRF2BP2/mp904_2.fastq.gz\",\n",
    " 'gs://transfer-amlproject/20191211_5R_MP7613_S15_R1_001.fastq.gz':\"gs://amlproject/Chip_AML/IRF2BP2/IRF2BP2/mp905_1.fastq.gz\",\n",
    " 'gs://transfer-amlproject/20191211_5R_MP7613_S15_R2_001.fastq.gz':\"gs://amlproject/Chip_AML/IRF2BP2/IRF2BP2/mp905_2.fastq.gz\",\n",
    " 'gs://transfer-amlproject/20191211_6R_MP7613_S16_R1_001.fastq.gz':\"gs://amlproject/Chip_AML/IRF2BP2/IRF2BP2/mp906_1.fastq.gz\",\n",
    " 'gs://transfer-amlproject/20191211_6R_MP7613_S16_R2_001.fastq.gz':\"gs://amlproject/Chip_AML/IRF2BP2/IRF2BP2/mp906_2.fastq.gz\",\n",
    " 'gs://transfer-amlproject/20191211_7_MP7613_S5_R1_001.fastq.gz':\"gs://amlproject/Chip_AML/IRF2BP2/IRF2BP2/mp907_1.fastq.gz\",\n",
    " 'gs://transfer-amlproject/20191211_7_MP7613_S5_R2_001.fastq.gz':\"gs://amlproject/Chip_AML/IRF2BP2/IRF2BP2/mp907_2.fastq.gz\",\n",
    " 'gs://transfer-amlproject/20191211_8_MP7613_S6_R1_001.fastq.gz':\"gs://amlproject/Chip_AML/IRF2BP2/IRF2BP2/mp908_1.fastq.gz\",\n",
    " 'gs://transfer-amlproject/20191211_8_MP7613_S6_R2_001.fastq.gz':\"gs://amlproject/Chip_AML/IRF2BP2/IRF2BP2/mp908_2.fastq.gz\",\n",
    " 'gs://transfer-amlproject/20191211_9_MP7613_S7_R1_001.fastq.gz':\"gs://amlproject/Chip_AML/IRF2BP2/IRF2BP2/mp909_1.fastq.gz\",\n",
    " 'gs://transfer-amlproject/20191211_9_MP7613_S7_R2_001.fastq.gz':\"gs://amlproject/Chip_AML/IRF2BP2/IRF2BP2/mp909_2.fastq.gz\"}"
   ]
  },
  {
   "cell_type": "code",
   "execution_count": null,
   "metadata": {},
   "outputs": [],
   "source": [
    "for k, val in rename1.items():\n",
    "    os.system('gsutil mv '+k+' '+val)"
   ]
  },
  {
   "cell_type": "code",
   "execution_count": null,
   "metadata": {},
   "outputs": [],
   "source": [
    "! mkdir bams && gsutil -m cp \"gs://amlproject/Chip_AML/IRF2BP2/IRF2BP2/*\" bams"
   ]
  },
  {
   "cell_type": "code",
   "execution_count": null,
   "metadata": {},
   "outputs": [],
   "source": [
    "inputfastq=\"gs://amlproject/Chip_AML/Chip/mp99.fastq.gz\"\n",
    "! gsutil cp $inputfastq bams\n",
    "a = ! ls bams"
   ]
  },
  {
   "cell_type": "code",
   "execution_count": null,
   "metadata": {},
   "outputs": [],
   "source": [
    "from gsheets import Sheets\n",
    "sheets = Sheets.from_files('~/.client_secret.json', '~/.storage.json')\n",
    "url=\"https://docs.google.com/spreadsheets/d/1yFLjYB1McU530JnLgL0QIMAKIkVl3kl0_LCHje2gk8U\"\n",
    "gsheet = sheets.get(url).sheets[2].to_frame()"
   ]
  },
  {
   "cell_type": "code",
   "execution_count": null,
   "metadata": {},
   "outputs": [],
   "source": [
    "gsheet"
   ]
  },
  {
   "cell_type": "code",
   "execution_count": null,
   "metadata": {},
   "outputs": [],
   "source": [
    "df = {\n",
    "\"fastq1\": [],\n",
    "\"fastq2\": [],\n",
    "\"antibody\": [],\n",
    "\"group\": [],\n",
    "\"replicate\": [],\n",
    "\"control\": []\n",
    "}\n",
    "for val in helper.grouped(a[:-1],2):\n",
    "    row = gsheet[gsheet.id==val[0].split('/')[-1].split('_')[0]]\n",
    "    df['group'].append((row.id.values[0] + '_'+ row.name_replicate.values[0] +\"_\"+row.protein.values[0]))\n",
    "    df['replicate'].append(1)\n",
    "    df['fastq1'].append(val[0])\n",
    "    #df['fastq2'].append(val[1])\n",
    "    df['antibody'].append(row.protein.values[0])\n",
    "    df['control'].append(\"INPUT\")\n",
    "df['group'].append('INPUT')\n",
    "df['replicate'].append(1)\n",
    "df['fastq1'].append(a[-1])\n",
    "#df['fastq2'].append(val[1])\n",
    "df['antibody'].append(\"INPUT\")\n",
    "df['control'].append(\"INPUT\")\n",
    "df = pd.DataFrame(df)"
   ]
  },
  {
   "cell_type": "code",
   "execution_count": null,
   "metadata": {},
   "outputs": [],
   "source": [
    "df[df.columns[[3,4,0,1,2,5]]].to_csv('design.csv')"
   ]
  },
  {
   "cell_type": "code",
   "execution_count": null,
   "metadata": {},
   "outputs": [],
   "source": [
    "#process chips\n",
    "! sudo ./nextflow run nf-core/chipseq --single_end --seq_center 'DFCI' --email 'jkobject@gmail.com' --narrow_peak --input design.csv --genome GRCh38 --skip_preseq --max_cpus 24 -profile docker -w work"
   ]
  },
  {
   "cell_type": "code",
   "execution_count": null,
   "metadata": {},
   "outputs": [],
   "source": [
    "#!gsutil cp results gs://amlproject/Chip_AML/Chip/IRF2BP2/ && mv results results1 && sudo rm -r work"
   ]
  },
  {
   "cell_type": "code",
   "execution_count": null,
   "metadata": {},
   "outputs": [],
   "source": [
    "# install bwa\n",
    "! mkdir ref\n",
    "! curl ftp://ftp.ncbi.nlm.nih.gov/genomes/all/GCF/000/001/215/GCF_000001215.4_Release_6_plus_ISO1_MT/GCF_000001215.4_Release_6_plus_ISO1_MT_genomic.fna.gz -o ref/reference_droso.fna.gz\n",
    "! gunzip ref/reference_droso.fna.gz\n",
    "! bwa index -a bwtsw ref/reference_droso.fna"
   ]
  },
  {
   "cell_type": "code",
   "execution_count": null,
   "metadata": {},
   "outputs": [],
   "source": [
    "# get scaling values\n",
    "mappedreads, umappedreads_norm, mapped = chip.getSpikeInControlScales(refgenome=\"ref/reference_droso.fna\",FastQfolder='bams',pairedEnd=True, cores=8)\n",
    "mappedreads, umappedreads_norm, mapped"
   ]
  },
  {
   "cell_type": "markdown",
   "metadata": {},
   "source": [
    "computing scales from the excel sheet"
   ]
  },
  {
   "cell_type": "code",
   "execution_count": null,
   "metadata": {},
   "outputs": [],
   "source": [
    "scales = [1.0, 0.3756814126],\n",
    "[1.0, 0.2342366196],\n",
    "[0.5546432407, 1.0],\n",
    "[0.1601166841, 1.0],\n",
    "[0.870315477, 1.0],\n",
    "[1.0, 0.8742449687],\n",
    "[0.7172728398, 1.0],\n",
    "[1.0, 0.7713982525]"
   ]
  },
  {
   "cell_type": "code",
   "execution_count": null,
   "metadata": {},
   "outputs": [],
   "source": [
    "# diffPeak & \n",
    "bams = !ls results1/bwa/mergedLibrary/*.bam\n",
    "for i in range(int(len(bams[1:])/2)-1):\n",
    "    name1 = bams[1+val]\n",
    "    name2 = bams[9+val]\n",
    "    chip.fullDiffPeak(name1,name2, bams[0], scaling = scales[val])"
   ]
  },
  {
   "cell_type": "code",
   "execution_count": null,
   "metadata": {},
   "outputs": [],
   "source": [
    "scales = [1.0,\n",
    "1.0,\n",
    "0.5546432407,\n",
    "0.1601166841,\n",
    "0.870315477,\n",
    "1.0,\n",
    "0.7172728398,\n",
    "1.0,\n",
    "0.3756814126,\n",
    "0.2342366196,\n",
    "1.0,\n",
    "1.0,\n",
    "1.0,\n",
    "0.8742449687,\n",
    "1.0,\n",
    "0.7713982525]"
   ]
  },
  {
   "cell_type": "code",
   "execution_count": null,
   "metadata": {},
   "outputs": [],
   "source": [
    "chip.bigWigFrom(bams[1:],genome='GRCh38',scaling=scales)"
   ]
  },
  {
   "cell_type": "code",
   "execution_count": null,
   "metadata": {},
   "outputs": [],
   "source": [
    "! gsutil -m cp -r \"diffPeaks\" gs://amlproject/Chip/IRF2BP2/ &&\\\n",
    "    gsutil -m cp -r \"diffData\" gs://amlproject/Chip/IRF2BP2/ &&\\\n",
    "        gsutil -m cp -r \"bigwigs\" gs://amlproject/Chip/IRF2BP2/"
   ]
  },
  {
   "cell_type": "markdown",
   "metadata": {},
   "source": [
    "## v2"
   ]
  },
  {
   "cell_type": "code",
   "execution_count": null,
   "metadata": {},
   "outputs": [],
   "source": [
    "#! rm -r bams && mkdir bams && gsutil -m cp \"gs://transfer-amlproject/20191219_MP7659*\" bams/"
   ]
  },
  {
   "cell_type": "code",
   "execution_count": null,
   "metadata": {},
   "outputs": [],
   "source": [
    "rename = {\n",
    "\"20191219_MP7659_1_S1_R1_001.fastq.gz\":\"mp795_R1.fastq.gz\",\n",
    "\"20191219_MP7659_1_S1_R2_001.fastq.gz\":\"mp795_R2.fastq.gz\",\n",
    "\"20191219_MP7659_2_S2_R1_001.fastq.gz\":\"mp796_R1.fastq.gz\",\n",
    "\"20191219_MP7659_2_S2_R2_001.fastq.gz\":\"mp796_R2.fastq.gz\",\n",
    "\"20191219_MP7659_3_S3_R1_001.fastq.gz\":\"mp797_R1.fastq.gz\",\n",
    "\"20191219_MP7659_3_S3_R2_001.fastq.gz\":\"mp797_R2.fastq.gz\",\n",
    "\"20191219_MP7659_4_S4_R1_001.fastq.gz\":\"mp798_R1.fastq.gz\",\n",
    "\"20191219_MP7659_4_S4_R2_001.fastq.gz\":\"mp798_R2.fastq.gz\",\n",
    "\"20191219_MP7659_5_S5_R1_001.fastq.gz\":\"mp799_R1.fastq.gz\",\n",
    "\"20191219_MP7659_5_S5_R2_001.fastq.gz\":\"mp799_R2.fastq.gz\",\n",
    "\"20191219_MP7659_6_S6_R1_001.fastq.gz\":\"mp800_R1.fastq.gz\",\n",
    "\"20191219_MP7659_6_S6_R2_001.fastq.gz\":\"mp800_R2.fastq.gz\",\n",
    "\"20191219_MP7659_7_S7_R1_001.fastq.gz\":\"mp801_R1.fastq.gz\",\n",
    "\"20191219_MP7659_7_S7_R2_001.fastq.gz\":\"mp801_R2.fastq.gz\",\n",
    "\"20191219_MP7659_8_S8_R1_001.fastq.gz\":\"mp802_R1.fastq.gz\",\n",
    "\"20191219_MP7659_8_S8_R2_001.fastq.gz\":\"mp802_R2.fastq.gz\",\n",
    "\"20191219_MP7659_9_S9_R1_001.fastq.gz\":\"mp803_R1.fastq.gz\",\n",
    "\"20191219_MP7659_9_S9_R2_001.fastq.gz\":\"mp803_R2.fastq.gz\",\n",
    "\"20191219_MP7659_10_S10_R1_001.fastq.gz\":\"mp804_R1.fastq.gz\",\n",
    "\"20191219_MP7659_10_S10_R2_001.fastq.gz\":\"mp804_R2.fastq.gz\",\n",
    "\"20191219_MP7659_11_S11_R1_001.fastq.gz\":\"mp805_R1.fastq.gz\",\n",
    "\"20191219_MP7659_11_S11_R2_001.fastq.gz\":\"mp805_R2.fastq.gz\",\n",
    "\"20191219_MP7659_12_S12_R1_001.fastq.gz\":\"mp806_R1.fastq.gz\",\n",
    "\"20191219_MP7659_12_S12_R2_001.fastq.gz\":\"mp806_R2.fastq.gz\",\n",
    "\"20191219_MP7659_13_S13_R1_001.fastq.gz\":\"mp807_R1.fastq.gz\",\n",
    "\"20191219_MP7659_13_S13_R2_001.fastq.gz\":\"mp807_R2.fastq.gz\",\n",
    "\"20191219_MP7659_14_S14_R1_001.fastq.gz\":\"mp808_R1.fastq.gz\",\n",
    "\"20191219_MP7659_14_S14_R2_001.fastq.gz\":\"mp808_R2.fastq.gz\",\n",
    "\"20191219_MP7659_15_S15_R1_001.fastq.gz\":\"mp809_R1.fastq.gz\",\n",
    "\"20191219_MP7659_15_S15_R2_001.fastq.gz\":\"mp809_R2.fastq.gz\",\n",
    "\"20191219_MP7659_16_S16_R1_001.fastq.gz\":\"mp810_R1.fastq.gz\",\n",
    "\"20191219_MP7659_16_S16_R2_001.fastq.gz\":\"mp810_R2.fastq.gz\"\n",
    "}"
   ]
  },
  {
   "cell_type": "code",
   "execution_count": null,
   "metadata": {},
   "outputs": [],
   "source": [
    "for k,v in rename.items():\n",
    "    ! mv $k $v\n",
    "! gsutil -m cp 'bams/*' gs://amlproject/Chip_AML/IRF2BP2/results_rep2/    "
   ]
  },
  {
   "cell_type": "code",
   "execution_count": null,
   "metadata": {},
   "outputs": [],
   "source": [
    "! gsutil ls gs://amlproject/Chip_AML/IRF2BP2/"
   ]
  },
  {
   "cell_type": "code",
   "execution_count": null,
   "metadata": {},
   "outputs": [],
   "source": [
    "inputfastq=\"gs://amlproject/Chip_AML/Chip/mp99.fastq.gz\"\n",
    "! gsutil cp $inputfastq bams\n",
    "a = ! ls bams"
   ]
  },
  {
   "cell_type": "code",
   "execution_count": null,
   "metadata": {},
   "outputs": [],
   "source": [
    "from gsheets import Sheets\n",
    "sheets = Sheets.from_files('~/.client_secret.json', '~/.storage.json')\n",
    "url=\"https://docs.google.com/spreadsheets/d/1yFLjYB1McU530JnLgL0QIMAKIkVl3kl0_LCHje2gk8U\"\n",
    "gsheet = sheets.get(url).sheets[2].to_frame()"
   ]
  },
  {
   "cell_type": "code",
   "execution_count": null,
   "metadata": {},
   "outputs": [],
   "source": [
    "df = {\n",
    "\"fastq1\": [],\n",
    "\"fastq2\": [],\n",
    "\"antibody\": [],\n",
    "\"group\": [],\n",
    "\"replicate\": [],\n",
    "\"control\": []\n",
    "}\n",
    "for val in helper.grouped(a[:-1],2):\n",
    "    row = gsheet[gsheet.id==val[0].split('/')[-1].split('_')[0]]\n",
    "    df['group'].append((row.id.values[0] + '_'+ row.name_replicate.values[0] +\"_\"+row.protein.values[0]))\n",
    "    df['replicate'].append(1)\n",
    "    df['fastq1'].append(val[0])\n",
    "    #df['fastq2'].append(val[1])\n",
    "    df['antibody'].append(row.protein.values[0])\n",
    "    df['control'].append(\"INPUT\")\n",
    "df['group'].append('INPUT')\n",
    "df['replicate'].append(1)\n",
    "df['fastq1'].append(a[-1])\n",
    "#df['fastq2'].append(val[1])\n",
    "df['antibody'].append(\"INPUT\")\n",
    "df['control'].append(\"INPUT\")\n",
    "df = pd.DataFrame(df)"
   ]
  },
  {
   "cell_type": "code",
   "execution_count": null,
   "metadata": {},
   "outputs": [],
   "source": [
    "df[df.columns[[3,4,0,1,2,5]]].to_csv('design.csv')"
   ]
  },
  {
   "cell_type": "code",
   "execution_count": null,
   "metadata": {},
   "outputs": [],
   "source": [
    "#process chips\n",
    "! sudo ./nextflow run nf-core/chipseq --single_end --seq_center 'DFCI' --email 'jkobject@gmail.com' --narrow_peak --input design.csv --genome GRCh38 --skip_preseq --max_cpus 24 -profile docker -w work"
   ]
  },
  {
   "cell_type": "code",
   "execution_count": null,
   "metadata": {},
   "outputs": [],
   "source": [
    "#!gsutil cp results gs://amlproject/Chip_AML/IRF2BP2/ && sudo rm -r work && mv results results2"
   ]
  },
  {
   "cell_type": "code",
   "execution_count": null,
   "metadata": {},
   "outputs": [],
   "source": [
    "# get scaling values\n",
    "mappedreads, umappedreads_norm, mapped = chip.getSpikeInControlScales(refgenome=\"ref/reference_droso.fna\",FastQfolder='bams',pairedEnd=True, cores=8)\n",
    "mappedreads, umappedreads_norm, mapped"
   ]
  },
  {
   "cell_type": "markdown",
   "metadata": {},
   "source": [
    "computing scales from the excel sheet"
   ]
  },
  {
   "cell_type": "code",
   "execution_count": null,
   "metadata": {},
   "outputs": [],
   "source": [
    "scales = [1.0,0.7976494266],\n",
    "[0.0060104845,1.0],\n",
    "[0.6415816327,1.0],\n",
    "[0.6370573492,1.0],\n",
    "[1.0,0.8327053276],\n",
    "[1.0,0.2711054926],\n",
    "[0.8111195721,1.0],\n",
    "[1.0,0.8338050685],"
   ]
  },
  {
   "cell_type": "code",
   "execution_count": null,
   "metadata": {},
   "outputs": [],
   "source": [
    "# diffPeak & \n",
    "bams = ! ls results2/bwa/mergedLibrary/*.bam\n",
    "for i in range(int(len(bams[1:])/2)-1):\n",
    "    name1 = bams[1+val]\n",
    "    name2 = bams[9+val]\n",
    "    chip.fullDiffPeak(name1,name2, bams[0], scaling = scales[val])"
   ]
  },
  {
   "cell_type": "code",
   "execution_count": null,
   "metadata": {},
   "outputs": [],
   "source": [
    "scales = [1.0,\n",
    "0.006010484524,\n",
    "0.6415816327,\n",
    "0.6370573492,\n",
    "1.0,\n",
    "1.0,\n",
    "0.8111195721,\n",
    "1.0,\n",
    "0.7976494266,\n",
    "1.0,\n",
    "1.0,\n",
    "1.0,\n",
    "0.8327053276,\n",
    "0.2711054926,\n",
    "1.0,\n",
    "0.8338050685]"
   ]
  },
  {
   "cell_type": "code",
   "execution_count": null,
   "metadata": {},
   "outputs": [],
   "source": [
    "chip.bigWigFrom(bams[1:],genome='GRCh38',scaling=scales)"
   ]
  },
  {
   "cell_type": "code",
   "execution_count": null,
   "metadata": {},
   "outputs": [],
   "source": [
    "! gsutil -m cp -r \"diffPeaks\" gs://amlproject/Chip_AML/IRF2BP2/ &&\\\n",
    "    gsutil -m cp -r \"diffData\" gs://amlproject/Chip_AML/IRF2BP2/ &&\\\n",
    "        gsutil -m cp \"bigwigs/mp*\" gs://amlproject/Chip_AML/IRF2BP2/bigwigs"
   ]
  },
  {
   "cell_type": "markdown",
   "metadata": {},
   "source": [
    "### V3"
   ]
  },
  {
   "cell_type": "code",
   "execution_count": null,
   "metadata": {},
   "outputs": [],
   "source": [
    "bamfolder=\"histone_bams/\""
   ]
  },
  {
   "cell_type": "code",
   "execution_count": null,
   "metadata": {},
   "outputs": [],
   "source": [
    "! mkdir histone_bams && gsutil cp \"gs://transfer-amlproject/*.fastq.gz\" $bamfolder"
   ]
  },
  {
   "cell_type": "code",
   "execution_count": null,
   "metadata": {},
   "outputs": [],
   "source": [
    "rename = {\n",
    "    \"20200103_1_MP7693_S6_R1_001.fastq.gz\":\"mp811_R1.fastq.gz\",\n",
    "    \"20200103_1_MP7693_S6_R2_001.fastq.gz\":\"mp811_R2.fastq.gz\",\n",
    "    \"20200103_2_MP7693_S7_R1_001.fastq.gz\":\"mp812_R1.fastq.gz\",\n",
    "    \"20200103_2_MP7693_S7_R2_001.fastq.gz\":\"mp812_R2.fastq.gz\",\n",
    "    \"20200103_3_MP7693_S8_R1_001.fastq.gz\":\"mp813_R1.fastq.gz\",\n",
    "    \"20200103_3_MP7693_S8_R2_001.fastq.gz\":\"mp813_R2.fastq.gz\",\n",
    "    \"20200103_4_MP7693_S9_R1_001.fastq.gz\":\"mp814_R1.fastq.gz\",\n",
    "    \"20200103_4_MP7693_S9_R2_001.fastq.gz\":\"mp814_R2.fastq.gz\",\n",
    "    \"20200103_5_MP7693_S10_R1_001.fastq.gz\":\"mp815_R1.fastq.gz\",\n",
    "    \"20200103_5_MP7693_S10_R2_001.fastq.gz\":\"mp815_R2.fastq.gz\",\n",
    "    \"20200103_6_MP7693_S11_R1_001.fastq.gz\":\"mp816_R1.fastq.gz\",\n",
    "    \"20200103_6_MP7693_S11_R2_001.fastq.gz\":\"mp816_R2.fastq.gz\",\n",
    "    \"20200103_7_MP7693_S12_R1_001.fastq.gz\":\"mp817_R1.fastq.gz\",\n",
    "    \"20200103_7_MP7693_S12_R2_001.fastq.gz\":\"mp817_R2.fastq.gz\",\n",
    "    \"20200103_8_MP7693_S13_R1_001.fastq.gz\":\"mp818_R1.fastq.gz\",\n",
    "    \"20200103_8_MP7693_S13_R2_001.fastq.gz\":\"mp818_R2.fastq.gz\",\n",
    "    \"20200103_9_MP7693_S14_R1_001.fastq.gz\":\"mp819_R1.fastq.gz\",\n",
    "    \"20200103_9_MP7693_S14_R2_001.fastq.gz\":\"mp819_R2.fastq.gz\",\n",
    "    \"20200103_10_MP7693_S15_R1_001.fastq.gz\":\"mp820_R1.fastq.gz\",\n",
    "    \"20200103_10_MP7693_S15_R2_001.fastq.gz\":\"mp820_R2.fastq.gz\",\n",
    "    \"20200103_11_MP7693_S16_R1_001.fastq.gz\":\"mp821_R1.fastq.gz\",\n",
    "    \"20200103_11_MP7693_S16_R2_001.fastq.gz\":\"mp821_R2.fastq.gz\",\n",
    "    \"20200103_12_MP7693_S17_R1_001.fastq.gz\":\"mp822_R1.fastq.gz\",\n",
    "    \"20200103_12_MP7693_S17_R2_001.fastq.gz\":\"mp822_R2.fastq.gz\",\n",
    "    \"20200103_13_MP7693_S18_R1_001.fastq.gz\":\"mp823_R1.fastq.gz\",\n",
    "    \"20200103_13_MP7693_S18_R2_001.fastq.gz\":\"mp823_R2.fastq.gz\",\n",
    "    \"20200103_14_MP7693_S19_R1_001.fastq.gz\":\"mp824_R1.fastq.gz\",\n",
    "    \"20200103_14_MP7693_S19_R2_001.fastq.gz\":\"mp824_R2.fastq.gz\",\n",
    "    \"20200103_15_MP7693_S20_R1_001.fastq.gz\":\"mp825_R1.fastq.gz\",\n",
    "    \"20200103_15_MP7693_S20_R2_001.fastq.gz\":\"mp825_R2.fastq.gz\",\n",
    "    \"20200103_16_MP7693_S21_R1_001.fastq.gz\":\"mp826_R1.fastq.gz\",\n",
    "    \"20200103_16_MP7693_S21_R2_001.fastq.gz\":\"mp826_R2.fastq.gz\",\n",
    "    \"20200103_17_MP7693_S22_R1_001.fastq.gz\":\"mp827_R1.fastq.gz\",\n",
    "    \"20200103_17_MP7693_S22_R2_001.fastq.gz\":\"mp827_R2.fastq.gz\",\n",
    "    \"20200103_18_MP7693_S23_R1_001.fastq.gz\":\"mp828_R1.fastq.gz\",\n",
    "    \"20200103_18_MP7693_S23_R2_001.fastq.gz\":\"mp828_R2.fastq.gz\",\n",
    "    \"20200103_19_MP7693_S24_R1_001.fastq.gz\":\"mp829_R1.fastq.gz\",\n",
    "    \"20200103_19_MP7693_S24_R2_001.fastq.gz\":\"mp829_R2.fastq.gz\",\n",
    "    \"20200103_20_MP7693_S25_R1_001.fastq.gz\":\"mp830_R1.fastq.gz\",\n",
    "    \"20200103_20_MP7693_S25_R2_001.fastq.gz\":\"mp830_R2.fastq.gz\"\n",
    "}"
   ]
  },
  {
   "cell_type": "code",
   "execution_count": null,
   "metadata": {},
   "outputs": [],
   "source": [
    "for k,v in rename.items():\n",
    "    ! mv $bamfolder$k $bamfolder$v"
   ]
  },
  {
   "cell_type": "code",
   "execution_count": null,
   "metadata": {},
   "outputs": [],
   "source": [
    "inputfastq=\"gs://amlproject/Chip_AML/Chip/mp99.fastq.gz\"\n",
    "! gsutil cp $inputfastq $bamfolder"
   ]
  },
  {
   "cell_type": "code",
   "execution_count": null,
   "metadata": {},
   "outputs": [],
   "source": [
    "a = ! ls $bamfolder"
   ]
  },
  {
   "cell_type": "code",
   "execution_count": null,
   "metadata": {},
   "outputs": [],
   "source": [
    "from gsheets import Sheets\n",
    "sheets = Sheets.from_files('~/.client_secret.json', '~/.storage.json')\n",
    "url=\"https://docs.google.com/spreadsheets/d/1yFLjYB1McU530JnLgL0QIMAKIkVl3kl0_LCHje2gk8U\"\n",
    "gsheet = sheets.get(url).sheets[2].to_frame()"
   ]
  },
  {
   "cell_type": "code",
   "execution_count": null,
   "metadata": {},
   "outputs": [],
   "source": [
    "df = {\n",
    "\"fastq1\": [],\n",
    "\"fastq2\": [],\n",
    "\"antibody\": [],\n",
    "\"group\": [],\n",
    "\"replicate\": [],\n",
    "\"control\": []\n",
    "}\n",
    "for val in helper.grouped(a[:-1],2):\n",
    "    row = gsheet[gsheet.id==val[0].split('/')[-1].split('_')[0]]\n",
    "    df['group'].append((row.id.values[0] + '_'+ row.name_replicate.values[0] +\"_\"+row.protein.values[0]))\n",
    "    df['replicate'].append(1)\n",
    "    df['fastq1'].append(val[0])\n",
    "    #df['fastq2'].append(val[1])\n",
    "    df['antibody'].append(row.protein.values[0])\n",
    "    df['control'].append(\"INPUT\")\n",
    "df['group'].append('INPUT')\n",
    "df['replicate'].append(1)\n",
    "df['fastq1'].append(a[-1])\n",
    "#df['fastq2'].append(val[1])\n",
    "df['antibody'].append(\"INPUT\")\n",
    "df['control'].append(\"INPUT\")\n",
    "df = pd.DataFrame(df)"
   ]
  },
  {
   "cell_type": "code",
   "execution_count": null,
   "metadata": {},
   "outputs": [],
   "source": [
    "df[df.columns[[3,4,0,1,2,5]]].to_csv('design.csv')"
   ]
  },
  {
   "cell_type": "code",
   "execution_count": null,
   "metadata": {},
   "outputs": [],
   "source": [
    "#process chips\n",
    " ! sudo ./nextflow run nf-core/chipseq --single_end --seq_center 'DFCI' --email 'jkobject@gmail.com' --narrow_peak --input design.csv --genome GRCh38 --skip_preseq --max_cpus 24 -profile docker -w work"
   ]
  },
  {
   "cell_type": "code",
   "execution_count": null,
   "metadata": {},
   "outputs": [],
   "source": [
    "! gsutil -m cp -r results gs://amlproject/Chip_AML/IRF2BP2/histone_results/\n",
    "! gsutil -m cp $bamfolder'/*' gs://amlproject/Chip_AML/IRF2BP2/histone_results/\n",
    "! mv results results_hist"
   ]
  },
  {
   "cell_type": "code",
   "execution_count": null,
   "metadata": {},
   "outputs": [],
   "source": [
    "scales = [[1.0,0.6866626897],\n",
    "[1.0,0.5552893267],\n",
    "[1.0,0.5290714207],\n",
    "[0.7295919826,1.0],\n",
    "[0.5569120906,1.0],\n",
    "[1.0,0.9361199825],\n",
    "[1.0,0.6189290029],\n",
    "[1.0,0.2707451142],\n",
    "[1.0,0.762887513],\n",
    "[1.0,0.9422693098]]"
   ]
  },
  {
   "cell_type": "code",
   "execution_count": null,
   "metadata": {},
   "outputs": [],
   "source": [
    "# diffPeak & \n",
    "bams = ! ls results_hist/bwa/mergedLibrary/mp*.bam\n",
    "for i in range(int(len(bams[1:])/2)-1):\n",
    "    name1 = bams[1+val]\n",
    "    name2 = bams[9+val]\n",
    "    chip.fullDiffPeak(name1,name2, bams[0], scaling = scales[val])"
   ]
  },
  {
   "cell_type": "code",
   "execution_count": null,
   "metadata": {},
   "outputs": [],
   "source": [
    "scales = [1.0,\n",
    "1.0,\n",
    "1.0,\n",
    "0.7295919826,\n",
    "0.5569120906,\n",
    "1.0,\n",
    "1.0,\n",
    "1.0,\n",
    "1.0,\n",
    "1.0,\n",
    "0.6866626897,\n",
    "0.5552893267,\n",
    "0.5290714207,\n",
    "1.0,\n",
    "1.0,\n",
    "0.9361199825,\n",
    "0.6189290029,\n",
    "0.2707451142,\n",
    "0.762887513,\n",
    "0.9422693098,]"
   ]
  },
  {
   "cell_type": "code",
   "execution_count": null,
   "metadata": {},
   "outputs": [],
   "source": [
    "chip.bigWigFrom(bams[1:],genome='GRCh38',scaling=scales)"
   ]
  },
  {
   "cell_type": "code",
   "execution_count": null,
   "metadata": {},
   "outputs": [],
   "source": [
    "! gsutil -m cp -r \"diffPeaks\" gs://amlproject/Chip_AML/IRF2BP2/ &&\\\n",
    "    gsutil -m cp -r \"diffData\" gs://amlproject/Chip_AML/IRF2BP2/ &&\\\n",
    "        gsutil -m cp \"bigwigs/mp*\" gs://amlproject/Chip_AML/IRF2BP2/bigwigs"
   ]
  },
  {
   "cell_type": "markdown",
   "metadata": {},
   "source": [
    "## RNA"
   ]
  },
  {
   "cell_type": "code",
   "execution_count": null,
   "metadata": {},
   "outputs": [],
   "source": [
    "a = !gsutil ls gs://amlproject/slamseq/IRF2BP2/"
   ]
  },
  {
   "cell_type": "code",
   "execution_count": null,
   "metadata": {},
   "outputs": [],
   "source": [
    "rename1 = {\n",
    "'gs://amlproject/slamseq/IRF2BP2/20191212_10_MP7623_S30_R1_001.fastq.gz':'gs://amlproject/slamseq/IRF2BP2/mp810_1.fastq.gz',\n",
    "'gs://amlproject/slamseq/IRF2BP2/20191212_10_MP7623_S30_R2_001.fastq.gz':'gs://amlproject/slamseq/IRF2BP2/mp810_2.fastq.gz',\n",
    "'gs://amlproject/slamseq/IRF2BP2/20191212_11_MP7623_S31_R1_001.fastq.gz':'gs://amlproject/slamseq/IRF2BP2/mp811_1.fastq.gz',\n",
    "'gs://amlproject/slamseq/IRF2BP2/20191212_11_MP7623_S31_R2_001.fastq.gz':'gs://amlproject/slamseq/IRF2BP2/mp811_2.fastq.gz',\n",
    "'gs://amlproject/slamseq/IRF2BP2/20191212_12_MP7623_S32_R1_001.fastq.gz':'gs://amlproject/slamseq/IRF2BP2/mp812_1.fastq.gz',\n",
    "'gs://amlproject/slamseq/IRF2BP2/20191212_12_MP7623_S32_R2_001.fastq.gz':'gs://amlproject/slamseq/IRF2BP2/mp812_2.fastq.gz',\n",
    "'gs://amlproject/slamseq/IRF2BP2/20191212_13_MP7623_S33_R1_001.fastq.gz':'gs://amlproject/slamseq/IRF2BP2/mp813_1.fastq.gz',\n",
    "'gs://amlproject/slamseq/IRF2BP2/20191212_13_MP7623_S33_R2_001.fastq.gz':'gs://amlproject/slamseq/IRF2BP2/mp813_2.fastq.gz',\n",
    "'gs://amlproject/slamseq/IRF2BP2/20191212_14_MP7623_S34_R1_001.fastq.gz':'gs://amlproject/slamseq/IRF2BP2/mp814_1.fastq.gz',\n",
    "'gs://amlproject/slamseq/IRF2BP2/20191212_14_MP7623_S34_R2_001.fastq.gz':'gs://amlproject/slamseq/IRF2BP2/mp814_2.fastq.gz',\n",
    "'gs://amlproject/slamseq/IRF2BP2/20191212_15_MP7623_S35_R1_001.fastq.gz':'gs://amlproject/slamseq/IRF2BP2/mp815_1.fastq.gz',\n",
    "'gs://amlproject/slamseq/IRF2BP2/20191212_15_MP7623_S35_R2_001.fastq.gz':'gs://amlproject/slamseq/IRF2BP2/mp815_2.fastq.gz',\n",
    "'gs://amlproject/slamseq/IRF2BP2/20191212_16_MP7623_S36_R1_001.fastq.gz':'gs://amlproject/slamseq/IRF2BP2/mp816_1.fastq.gz',\n",
    "'gs://amlproject/slamseq/IRF2BP2/20191212_16_MP7623_S36_R2_001.fastq.gz':'gs://amlproject/slamseq/IRF2BP2/mp816_2.fastq.gz',\n",
    "'gs://amlproject/slamseq/IRF2BP2/20191212_1_MP7623_S21_R1_001.fastq.gz':'gs://amlproject/slamseq/IRF2BP2/mp801_1.fastq.gz',\n",
    "'gs://amlproject/slamseq/IRF2BP2/20191212_1_MP7623_S21_R2_001.fastq.gz':'gs://amlproject/slamseq/IRF2BP2/mp801_2.fastq.gz',\n",
    "'gs://amlproject/slamseq/IRF2BP2/20191212_2_MP7623_S22_R1_001.fastq.gz':'gs://amlproject/slamseq/IRF2BP2/mp802_1.fastq.gz',\n",
    "'gs://amlproject/slamseq/IRF2BP2/20191212_2_MP7623_S22_R2_001.fastq.gz':'gs://amlproject/slamseq/IRF2BP2/mp802_2.fastq.gz',\n",
    "'gs://amlproject/slamseq/IRF2BP2/20191212_3_MP7623_S23_R1_001.fastq.gz':'gs://amlproject/slamseq/IRF2BP2/mp803_1.fastq.gz',\n",
    "'gs://amlproject/slamseq/IRF2BP2/20191212_3_MP7623_S23_R2_001.fastq.gz':'gs://amlproject/slamseq/IRF2BP2/mp803_2.fastq.gz',\n",
    "'gs://amlproject/slamseq/IRF2BP2/20191212_4_MP7623_S24_R1_001.fastq.gz':'gs://amlproject/slamseq/IRF2BP2/mp804_1.fastq.gz',\n",
    "'gs://amlproject/slamseq/IRF2BP2/20191212_4_MP7623_S24_R2_001.fastq.gz':'gs://amlproject/slamseq/IRF2BP2/mp804_2.fastq.gz',\n",
    "'gs://amlproject/slamseq/IRF2BP2/20191212_5_MP7623_S25_R1_001.fastq.gz':'gs://amlproject/slamseq/IRF2BP2/mp805_1.fastq.gz',\n",
    "'gs://amlproject/slamseq/IRF2BP2/20191212_5_MP7623_S25_R2_001.fastq.gz':'gs://amlproject/slamseq/IRF2BP2/mp805_2.fastq.gz',\n",
    "'gs://amlproject/slamseq/IRF2BP2/20191212_6_MP7623_S26_R1_001.fastq.gz':'gs://amlproject/slamseq/IRF2BP2/mp806_1.fastq.gz',\n",
    "'gs://amlproject/slamseq/IRF2BP2/20191212_6_MP7623_S26_R2_001.fastq.gz':'gs://amlproject/slamseq/IRF2BP2/mp806_2.fastq.gz',\n",
    "'gs://amlproject/slamseq/IRF2BP2/20191212_7_MP7623_S27_R1_001.fastq.gz':'gs://amlproject/slamseq/IRF2BP2/mp807_1.fastq.gz',\n",
    "'gs://amlproject/slamseq/IRF2BP2/20191212_7_MP7623_S27_R2_001.fastq.gz':'gs://amlproject/slamseq/IRF2BP2/mp807_2.fastq.gz',\n",
    "'gs://amlproject/slamseq/IRF2BP2/20191212_8_MP7623_S28_R1_001.fastq.gz':'gs://amlproject/slamseq/IRF2BP2/mp808_1.fastq.gz',\n",
    "'gs://amlproject/slamseq/IRF2BP2/20191212_8_MP7623_S28_R2_001.fastq.gz':'gs://amlproject/slamseq/IRF2BP2/mp808_2.fastq.gz',\n",
    "'gs://amlproject/slamseq/IRF2BP2/20191212_9_MP7623_S29_R1_001.fastq.gz':'gs://amlproject/slamseq/IRF2BP2/mp809_1.fastq.gz',\n",
    "'gs://amlproject/slamseq/IRF2BP2/20191212_9_MP7623_S29_R2_001.fastq.gz':'gs://amlproject/slamseq/IRF2BP2/mp809_2.fastq.gz'}"
   ]
  },
  {
   "cell_type": "code",
   "execution_count": null,
   "metadata": {},
   "outputs": [],
   "source": [
    "for k, val in rename1.items():\n",
    "    os.system('gsutil mv '+k+' '+val)"
   ]
  },
  {
   "cell_type": "code",
   "execution_count": null,
   "metadata": {},
   "outputs": [],
   "source": [
    "a"
   ]
  },
  {
   "cell_type": "code",
   "execution_count": null,
   "metadata": {},
   "outputs": [],
   "source": [
    "import TerraFunction as terra"
   ]
  },
  {
   "cell_type": "code",
   "execution_count": null,
   "metadata": {},
   "outputs": [],
   "source": [
    "terra.list_blobs_with_prefix(\"amlproject\",\"slamseq/IRF2BP2/\")"
   ]
  },
  {
   "cell_type": "code",
   "execution_count": null,
   "metadata": {},
   "outputs": [],
   "source": [
    "terra.uploadFromFolder(\"amlproject\", \"slamseq/IRF2BP2/\", workspace=\"broad-firecloud-ccle/hg38_RNAseq\", \n",
    "                       fformat=\"fastq12\", source=\"maximP\",samplesetname=\"slamseq_IRF2BP2\")"
   ]
  },
  {
   "cell_type": "code",
   "execution_count": null,
   "metadata": {},
   "outputs": [],
   "source": [
    "import sys\n",
    "sys.path.insert(0, '../ccle_processing/')\n",
    "from src.CCLE_postp_function import *\n",
    "sys.path.insert(0, '../JKBio/')\n",
    "import Datanalytics as da \n",
    "import TerraFunction as terra\n",
    "from Helper import *\n",
    "import dalmatian as dm"
   ]
  },
  {
   "cell_type": "code",
   "execution_count": null,
   "metadata": {},
   "outputs": [],
   "source": [
    "samplesetname = 'slamseq_IRF2BP2'\n",
    "refworkspace=\"broad-firecloud-ccle/hg38_RNAseq\"\n",
    "refwm = dm.WorkspaceManager(refworkspace)"
   ]
  },
  {
   "cell_type": "code",
   "execution_count": null,
   "metadata": {},
   "outputs": [],
   "source": [
    "submission_id = refwm.create_submission(\"slamdunk\", samplesetname,'sample_set',expression='this.samples')\n",
    "terra.waitForSubmission(refworkspace, submission_id)"
   ]
  },
  {
   "cell_type": "code",
   "execution_count": null,
   "metadata": {},
   "outputs": [],
   "source": [
    "submission_id1 = refwm.create_submission(\"rsem_v1-0_BETA_cfg\", samplesetname,'sample_set',expression='this.samples')\n",
    "terra.waitForSubmission(refworkspace, submission_id1)"
   ]
  }
 ],
 "metadata": {
  "kernelspec": {
   "display_name": "Python 3",
   "language": "python",
   "name": "python3"
  },
  "language_info": {
   "codemirror_mode": {
    "name": "ipython",
    "version": 3
   },
   "file_extension": ".py",
   "mimetype": "text/x-python",
   "name": "python",
   "nbconvert_exporter": "python",
   "pygments_lexer": "ipython3",
   "version": "3.7.6"
  },
  "latex_envs": {
   "LaTeX_envs_menu_present": true,
   "autoclose": false,
   "autocomplete": true,
   "bibliofile": "biblio.bib",
   "cite_by": "apalike",
   "current_citInitial": 1,
   "eqLabelWithNumbers": true,
   "eqNumInitial": 1,
   "hotkeys": {
    "equation": "Ctrl-E",
    "itemize": "Ctrl-I"
   },
   "labels_anchors": false,
   "latex_user_defs": false,
   "report_style_numbering": false,
   "user_envs_cfg": false
  },
  "toc": {
   "base_numbering": 1,
   "nav_menu": {},
   "number_sections": false,
   "sideBar": false,
   "skip_h1_title": false,
   "title_cell": "Table of Contents",
   "title_sidebar": "Contents",
   "toc_cell": false,
   "toc_position": {},
   "toc_section_display": false,
   "toc_window_display": false
  },
  "varInspector": {
   "cols": {
    "lenName": 16,
    "lenType": 16,
    "lenVar": 40
   },
   "kernels_config": {
    "python": {
     "delete_cmd_postfix": "",
     "delete_cmd_prefix": "del ",
     "library": "var_list.py",
     "varRefreshCmd": "print(var_dic_list())"
    },
    "r": {
     "delete_cmd_postfix": ") ",
     "delete_cmd_prefix": "rm(",
     "library": "var_list.r",
     "varRefreshCmd": "cat(var_dic_list()) "
    }
   },
   "types_to_exclude": [
    "module",
    "function",
    "builtin_function_or_method",
    "instance",
    "_Feature"
   ],
   "window_display": false
  }
 },
 "nbformat": 4,
 "nbformat_minor": 2
}
