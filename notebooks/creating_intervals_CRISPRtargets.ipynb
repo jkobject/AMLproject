{
 "cells": [
  {
   "cell_type": "code",
   "execution_count": null,
   "metadata": {},
   "outputs": [],
   "source": [
    "import pysam\n",
    "import pandas as pd\n",
    "import numpy as np\n",
    "import sys\n",
    "sys.path.insert(0, '../JKBio/')\n",
    "import epigenetics.ChIP_helper as chiphelper\n",
    "import Helper as helper\n",
    "from pybedtools import BedTool\n",
    "%load_ext autoreload\n",
    "%autoreload 2"
   ]
  },
  {
   "cell_type": "code",
   "execution_count": null,
   "metadata": {},
   "outputs": [],
   "source": [
    "project=\"enhancerCRISPrI\"\n",
    "version = \"v3\""
   ]
  },
  {
   "cell_type": "code",
   "execution_count": null,
   "metadata": {},
   "outputs": [],
   "source": [
    "mor3tf = pd.read_csv('../data/'+project+'/CRIPSR_guides/MV411_3ormore_TF_cobinding.csv',header=None,skiprows=1, names=['chrom','start','end'])\n",
    "mor3tf['name'] = '3PTF'"
   ]
  },
  {
   "cell_type": "code",
   "execution_count": null,
   "metadata": {},
   "outputs": [],
   "source": [
    "h3peaks = pd.read_csv('../data/'+project+'/CRIPSR_guides/MV411_H3k27ac_peaks.csv',header=None,skiprows=1,names=['chrom','start','end'])\n",
    "h3peaks['name']='H3K27AC'"
   ]
  },
  {
   "cell_type": "code",
   "execution_count": null,
   "metadata": {},
   "outputs": [],
   "source": [
    "merged = chiphelper.simpleMergedPeaks(pd.concat([mor3tf,h3peaks]))"
   ]
  },
  {
   "cell_type": "code",
   "execution_count": null,
   "metadata": {},
   "outputs": [],
   "source": [
    "tads = pd.read_csv('../data/'+project+'/CRIPSR_guides/MV411_TAD_for_dcas9_target_TF.csv',skiprows=2, names=['name','chrom','start','end','size'])\n",
    "tads = tads[tads.columns[[1,2,3,0]]]"
   ]
  },
  {
   "cell_type": "code",
   "execution_count": null,
   "metadata": {},
   "outputs": [],
   "source": [
    "tads = pd.read_csv('../results/'+project+'/'+version+'_tadsv2.bed', sep='\\t')"
   ]
  },
  {
   "cell_type": "code",
   "execution_count": null,
   "metadata": {},
   "outputs": [],
   "source": [
    "peaks = pd.read_csv('..data/'+project+'/CRIPSR_guides/MV411_peaks.csv',header=None,skiprows=1,names=['chrom','start','end'])\n",
    "peaks['name']='AllPeaks'"
   ]
  },
  {
   "cell_type": "code",
   "execution_count": null,
   "metadata": {},
   "outputs": [],
   "source": [
    "merged[merged.columns[[0,1,2]]].to_csv('..data/'+project+'/'+version+'_merged.bed',sep='\\t',index=False)\n",
    "merged = BedTool('..data/'+project+'/'+version+'_merged.bed')"
   ]
  },
  {
   "cell_type": "code",
   "execution_count": null,
   "metadata": {},
   "outputs": [],
   "source": [
    "merged.head()"
   ]
  },
  {
   "cell_type": "code",
   "execution_count": null,
   "metadata": {},
   "outputs": [],
   "source": [
    "tads.to_csv('../results/'+project+'/'+version+'_tads.bed',sep='\\t',index=False)\n",
    "tads = BedTool('../results/'+project+'/'+version+'_tads.bed')"
   ]
  },
  {
   "cell_type": "code",
   "execution_count": null,
   "metadata": {},
   "outputs": [],
   "source": [
    "tads.head()"
   ]
  },
  {
   "cell_type": "code",
   "execution_count": null,
   "metadata": {},
   "outputs": [],
   "source": [
    "peaks.to_csv('../results/'+project+'/'+version+'_peaks.bed',sep='\\t',index=False)\n",
    "peaks = BedTool('../results/'+project+'/'+version+'_peaks.bed')"
   ]
  },
  {
   "cell_type": "code",
   "execution_count": null,
   "metadata": {},
   "outputs": [],
   "source": [
    "positive = tads.intersect(merged)\n",
    "positive.saveas('../results/'+project+'/'+version+'_positive.bed')"
   ]
  },
  {
   "cell_type": "code",
   "execution_count": null,
   "metadata": {},
   "outputs": [],
   "source": [
    "positive.head()"
   ]
  },
  {
   "cell_type": "code",
   "execution_count": null,
   "metadata": {},
   "outputs": [],
   "source": [
    "sizes = pd.read_csv('../data/genome_size.tsv',sep='\\t',header=None,names=['chrom','size'])"
   ]
  },
  {
   "cell_type": "code",
   "execution_count": null,
   "metadata": {},
   "outputs": [],
   "source": [
    "sizes['end']=sizes['size']\n",
    "sizes['start'] = 0"
   ]
  },
  {
   "cell_type": "code",
   "execution_count": null,
   "metadata": {},
   "outputs": [],
   "source": [
    "sizes['chrom'] = ['chr'+i for i in sizes['chrom']]"
   ]
  },
  {
   "cell_type": "code",
   "execution_count": null,
   "metadata": {},
   "outputs": [],
   "source": [
    "sizes = sizes[sizes.columns[[0,-1,-2]]]"
   ]
  },
  {
   "cell_type": "code",
   "execution_count": null,
   "metadata": {},
   "outputs": [],
   "source": [
    "sizes.to_csv('../results/'+project+'/'+version+'_sizes.bed',sep='\\t',index=False)\n",
    "siz = BedTool('sizes.bed')"
   ]
  },
  {
   "cell_type": "code",
   "execution_count": null,
   "metadata": {},
   "outputs": [],
   "source": [
    "dfh3peaks = pd.read_csv('../data/'+project+'/CRIPSR_guides/MV411_H3k27ac_peaks.csv',header=None,skiprows=1,names=['chrom','start','end'])\n",
    "dfh3peaks['name']='H3K27AC'"
   ]
  },
  {
   "cell_type": "code",
   "execution_count": null,
   "metadata": {},
   "outputs": [],
   "source": [
    "dfpeaks = pd.read_csv('../data/'+project+'/CRIPSR_guides/MV411_peaks.csv',header=None,skiprows=1,names=['chrom','start','end'])\n",
    "dfpeaks['name']='AllPeaks'"
   ]
  },
  {
   "cell_type": "code",
   "execution_count": null,
   "metadata": {},
   "outputs": [],
   "source": [
    "omerged = chiphelper.simpleMergedPeaks(pd.concat([dfpeaks,dfh3peaks]))\n",
    "omerged.chrom = [i[3:] for i in omerged.chrom]"
   ]
  },
  {
   "cell_type": "code",
   "execution_count": null,
   "metadata": {},
   "outputs": [],
   "source": [
    "omerged['chrom'] = ['chr'+i for i in omerged['chrom']]"
   ]
  },
  {
   "cell_type": "code",
   "execution_count": null,
   "metadata": {},
   "outputs": [],
   "source": [
    "omerged[omerged.columns[:3]].to_csv('../results/'+project+'/'+version+'_notneg.bed',sep='\\t',index=False)\n",
    "not_neg = BedTool('../results/'+project+'/'+version+'_notneg.bed')"
   ]
  },
  {
   "cell_type": "code",
   "execution_count": null,
   "metadata": {},
   "outputs": [],
   "source": [
    "negative = siz.subtract(not_neg)"
   ]
  },
  {
   "cell_type": "code",
   "execution_count": null,
   "metadata": {},
   "outputs": [],
   "source": [
    "negative=tads.intersect(negative)"
   ]
  },
  {
   "cell_type": "code",
   "execution_count": null,
   "metadata": {},
   "outputs": [],
   "source": [
    "negative.head()"
   ]
  },
  {
   "cell_type": "code",
   "execution_count": null,
   "metadata": {},
   "outputs": [],
   "source": [
    "negative.saveas('../results/'+project+'/'+version+'_negative.bed')"
   ]
  },
  {
   "cell_type": "code",
   "execution_count": null,
   "metadata": {},
   "outputs": [],
   "source": []
  }
 ],
 "metadata": {
  "kernelspec": {
   "display_name": "Python 3",
   "language": "python",
   "name": "python3"
  },
  "language_info": {
   "codemirror_mode": {
    "name": "ipython",
    "version": 3
   },
   "file_extension": ".py",
   "mimetype": "text/x-python",
   "name": "python",
   "nbconvert_exporter": "python",
   "pygments_lexer": "ipython3",
   "version": "3.6.7"
  },
  "latex_envs": {
   "LaTeX_envs_menu_present": true,
   "autoclose": false,
   "autocomplete": true,
   "bibliofile": "biblio.bib",
   "cite_by": "apalike",
   "current_citInitial": 1,
   "eqLabelWithNumbers": true,
   "eqNumInitial": 1,
   "hotkeys": {
    "equation": "Ctrl-E",
    "itemize": "Ctrl-I"
   },
   "labels_anchors": false,
   "latex_user_defs": false,
   "report_style_numbering": false,
   "user_envs_cfg": false
  },
  "toc": {
   "base_numbering": 1,
   "nav_menu": {},
   "number_sections": true,
   "sideBar": true,
   "skip_h1_title": false,
   "title_cell": "Table of Contents",
   "title_sidebar": "Contents",
   "toc_cell": false,
   "toc_position": {},
   "toc_section_display": true,
   "toc_window_display": false
  },
  "varInspector": {
   "cols": {
    "lenName": 16,
    "lenType": 16,
    "lenVar": 40
   },
   "kernels_config": {
    "python": {
     "delete_cmd_postfix": "",
     "delete_cmd_prefix": "del ",
     "library": "var_list.py",
     "varRefreshCmd": "print(var_dic_list())"
    },
    "r": {
     "delete_cmd_postfix": ") ",
     "delete_cmd_prefix": "rm(",
     "library": "var_list.r",
     "varRefreshCmd": "cat(var_dic_list()) "
    }
   },
   "types_to_exclude": [
    "module",
    "function",
    "builtin_function_or_method",
    "instance",
    "_Feature"
   ],
   "window_display": false
  }
 },
 "nbformat": 4,
 "nbformat_minor": 2
}
