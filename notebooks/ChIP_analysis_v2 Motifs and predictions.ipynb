{
 "cells": [
  {
   "cell_type": "markdown",
   "metadata": {
    "slideshow": {
     "slide_type": "slide"
    }
   },
   "source": [
    "# ChIP AML PiPeline v2"
   ]
  },
  {
   "cell_type": "code",
   "execution_count": null,
   "metadata": {
    "slideshow": {
     "slide_type": "fragment"
    }
   },
   "outputs": [],
   "source": [
    "import os\n",
    "import pandas as pd\n",
    "import sys\n",
    "sys.path.insert(0, '../..')\n",
    "import itertools\n",
    "from scipy import stats\n",
    "import numpy as np\n",
    "\n",
    "from JKBio.epigenetics import ChIP_helper as chiphelper\n",
    "from JKBio import Helper as helper\n",
    "import igv\n",
    "import SimpSOM as sps\n",
    "from scipy import stats\n",
    "\n",
    "import seaborn as sns\n",
    "from matplotlib import cm\n",
    "from matplotlib import pyplot as plt\n",
    "from IPython.display import IFrame\n",
    "import seaborn as sns\n",
    "from bokeh.plotting import *\n",
    "import igv\n",
    "\n",
    "import numba\n",
    "from numba import jit\n",
    "\n",
    "from scipy.cluster.hierarchy import linkage, leaves_list\n",
    "from sklearn.cluster import AgglomerativeClustering, DBSCAN, KMeans, OPTICS\n",
    "from sklearn.mixture import GaussianMixture\n",
    "from sklearn.manifold import MDS, TSNE\n",
    "from sklearn.decomposition import PCA\n",
    "from sklearn.preprocessing import scale\n",
    "from IPython.display import IFrame\n",
    "\n",
    "from pybedtools import BedTool\n",
    "import pyBigWig\n",
    "\n",
    "output_notebook()\n",
    "%load_ext autoreload\n",
    "%autoreload 2"
   ]
  },
  {
   "cell_type": "code",
   "execution_count": null,
   "metadata": {},
   "outputs": [],
   "source": [
    "project=\"Cobinding_ChIP\"\n",
    "version=\"v2\"\n",
    "merging_version=\"remove_single\"\n",
    "window=\"150\""
   ]
  },
  {
   "cell_type": "code",
   "execution_count": null,
   "metadata": {},
   "outputs": [],
   "source": [
    "%store -r merged\n",
    "%store -r promoters\n",
    "#ATAC\n",
    "%store -r a \n",
    "%store -r chrombed\n",
    "%store -r mergedpeak\n",
    "%store -r endata\n",
    "%store -r l"
   ]
  },
  {
   "cell_type": "markdown",
   "metadata": {},
   "source": [
    "## Doing Motif analysis"
   ]
  },
  {
   "cell_type": "code",
   "execution_count": null,
   "metadata": {},
   "outputs": [],
   "source": [
    "! mkdir ../../data/MEME"
   ]
  },
  {
   "cell_type": "code",
   "execution_count": null,
   "metadata": {},
   "outputs": [],
   "source": [
    "## computing motif across the open region of the genome of MV411 from ATACseq with MEME.mast\n",
    "! bedtools getfasta -fi ../../data/ref/Homo_sapiens_assembly38.fasta -bed ../data/$project/ATACseq/ATAC_MV411.mRp.clN_peaks.broadPeak | fold -w 500 > ../../data/MEME/ATAC.fasta\n",
    "! mkdir ../../data/MEME/ATAC/\n",
    "#! export PATH=$HOME/meme/bin:$HOME/meme/libexec/meme-5.1.1:$PATH && mast --oc ../../data/MEME/ATAC/ --remcorr ../../motif_databases/HUMAN/HOCOMOCOv11_full_HUMAN_mono_meme_format.meme ../../data/MEME/ATAC.fasta\n",
    "#! export PATH=$HOME/meme/bin:$HOME/meme/libexec/meme-5.1.1:$PATH && mcast --oc ../../data/MEME/ATAC/ --max-gap 80 ../../motif_databases/HUMAN/HOCOMOCOv11_full_HUMAN_mono_meme_format.meme ../../data/MEME/ATAC.fasta\n",
    "#! export PATH=$HOME/meme/bin:$HOME/meme/libexec/meme-5.1.1:$PATH && fimo --oc ../../data/MEME/ATAC/ ../../motif_databases/HUMAN/HOCOMOCOv11_full_HUMAN_mono_meme_format.meme ../../data/MEME/ATAC.fasta\n",
    "# ! gff2bed < ../../data/MEME/ATAC/fimo.gff > ../../data/MEME/ATAC/fimo.gff.bed"
   ]
  },
  {
   "cell_type": "code",
   "execution_count": null,
   "metadata": {},
   "outputs": [],
   "source": [
    "merged['strand'] = '.'\n",
    "merged[merged.columns[[0,1,2,3,4,-1]]].to_csv('../results/'+project+\"/\"+version+'_'+merging_version+'_'+window+'_ merged_true.bed',index=False, header=False sep='\\t')"
   ]
  },
  {
   "cell_type": "code",
   "execution_count": null,
   "metadata": {},
   "outputs": [],
   "source": [
    "## What are the motifs enriched for each cluster groups in the conscensus peak set? \n",
    "! bedtools getfasta -fi ../../data/ref/Homo_sapiens_assembly38.fasta -bed ../results/$project/$version_$merging_version_$window_merged_true.bed | fold -w 500 > ../../data/MEME/merged$version_$merging_version_$window.fasta\n",
    "#! mkdir ../../data/MEME/merged/\n",
    "! export PATH=$HOME/meme/bin:$HOME/meme/libexec/meme-5.1.1:$PATH && mast --oc ../../data/MEME/merged/ --remcorr ../../motif_databases/HUMAN/HOCOMOCOv11_full_HUMAN_mono_meme_format.meme ../../data/MEME/merged.fasta\n",
    "! export PATH=$HOME/meme/bin:$HOME/meme/libexec/meme-5.1.1:$PATH && fimo --oc ../../data/MEME/merged/ ../../motif_databases/HUMAN/HOCOMOCOv11_full_HUMAN_mono_meme_format.meme ../../data/MEME/merged.fasta\n",
    "! gff2bed < ../../data/MEME/merged/fimo.gff > ../../data/MEME/merged/fimo.gff.bed"
   ]
  },
  {
   "cell_type": "code",
   "execution_count": null,
   "metadata": {},
   "outputs": [],
   "source": [
    "cols = ['ZEB2',\n",
    " 'MYBL2',\n",
    " 'ZMYND8',\n",
    " 'IKZF1',\n",
    " 'SP1',\n",
    " 'RUNX1',\n",
    " 'PU1_FLAG',\n",
    " 'LDB1',\n",
    " 'IRF8',\n",
    " 'JUND',\n",
    " 'MEF2C',\n",
    " 'BRD4',\n",
    " 'CDK8',\n",
    " 'CDK13',\n",
    " 'GATA2',\n",
    " 'GFI1',\n",
    " 'CEBPA',\n",
    " 'CEBPB',\n",
    " 'KMT2A',\n",
    " 'AFF4',\n",
    " \"AFF1\",\n",
    " 'MYC',\n",
    " 'LMO2',\n",
    " 'RUNX2',\n",
    " 'FOXP1',\n",
    " 'MYB',\n",
    " 'ETV6',\n",
    " 'MAX',\n",
    " 'MEIS1',\n",
    " 'FLI1',\n",
    " 'LYL1',\n",
    " 'MEF2D_FLAG',\n",
    " 'ELF2']\n",
    "rename = {'MEF2D_FLAG':'MEF2D','MYBL2':'MYBB',\"PU1\":'SPI1','PU1_FLAG':'SPI1'}\n",
    "# TODO: find ZEB2, ZMYND8, LMO2, LDB1, CDK13 motifs\n",
    "\n",
    "for k, val in rename.items():\n",
    "     if k in cols:\n",
    "        cols.remove(k)\n",
    "        cols.append(val)"
   ]
  },
  {
   "cell_type": "code",
   "execution_count": null,
   "metadata": {},
   "outputs": [],
   "source": [
    "## What are the motifs of our CRC members in ATACseq but not in our matrix\n",
    "merged_motif = pd.read_csv('../../data/MEME/merged/fimo.gff.bed', sep='\\t',skiprows=0,index_col=None, names=['pos',\"fimo\", \"nucleotide_motif\",\"relStart\",\"relEnd\",\"pval\",\"strand\",\".\",\"data\"])\n",
    "\n",
    "merged_motif['tf']=[i[5:].split('_HUMAN')[0] for i in merged_motif.data]\n",
    "merged_motif = merged_motif[merged_motif.tf.isin(cols)]\n",
    "merged_motif['chr'] = [i.split(':')[0][3:] for i in merged_motif.index]\n",
    "merged_motif['start'] = [i.split(':')[1].split('-')[0] for i in merged_motif.index]\n",
    "merged_motif['end'] = [i.split(':')[1].split('-')[1] for i in merged_motif.index]"
   ]
  },
  {
   "cell_type": "code",
   "execution_count": null,
   "metadata": {},
   "outputs": [],
   "source": [
    "merged_motif['end'] = [i.split(':')[1].split('-')[1] for i in merged_motif.index]"
   ]
  },
  {
   "cell_type": "code",
   "execution_count": null,
   "metadata": {},
   "outputs": [],
   "source": [
    "merged_motif"
   ]
  },
  {
   "cell_type": "code",
   "execution_count": null,
   "metadata": {},
   "outputs": [],
   "source": [
    "## what enrichment do we have in each group? what enrichment do we have for each ChipSeq?"
   ]
  },
  {
   "cell_type": "code",
   "execution_count": null,
   "metadata": {},
   "outputs": [],
   "source": [
    "## computing predicted motif for each TF from Chip data MEME-Chip"
   ]
  },
  {
   "cell_type": "code",
   "execution_count": null,
   "metadata": {},
   "outputs": [],
   "source": [
    "## comparing with the litterature using MEME.tomtom"
   ]
  },
  {
   "cell_type": "code",
   "execution_count": null,
   "metadata": {},
   "outputs": [],
   "source": [
    "### loading motifs from "
   ]
  },
  {
   "cell_type": "code",
   "execution_count": null,
   "metadata": {},
   "outputs": [],
   "source": []
  },
  {
   "cell_type": "markdown",
   "metadata": {},
   "source": [
    "## Assigning genes"
   ]
  },
  {
   "cell_type": "markdown",
   "metadata": {
    "slideshow": {
     "slide_type": "subslide"
    }
   },
   "source": [
    "### based on closest expressed gene"
   ]
  },
  {
   "cell_type": "code",
   "execution_count": null,
   "metadata": {},
   "outputs": [],
   "source": [
    "chiphelper.AssignToClosestExpressed()"
   ]
  },
  {
   "cell_type": "code",
   "execution_count": null,
   "metadata": {},
   "outputs": [],
   "source": [
    "### recompute cobinding based on this."
   ]
  },
  {
   "cell_type": "code",
   "execution_count": null,
   "metadata": {},
   "outputs": [],
   "source": [
    "## redo the plots. do we get better plots?/correlations?..."
   ]
  },
  {
   "cell_type": "markdown",
   "metadata": {
    "slideshow": {
     "slide_type": "subslide"
    }
   },
   "source": [
    "### based on the ABC model\n",
    "\n",
    "![](images/ABCtitle.png)\n",
    "\n",
    "They tested a new model based on and validated by CRISPRi-FlowFISH which is basically able to find enhancer mapping to genes. \n",
    "They used it to compute their model's Accuracy and found a 70% accuracy compared to less than 50% for closest expressed gene. \n",
    "\n",
    "Way to integrate our HiC data (need ATAC-seq like data as well, but openly available) \n",
    "\n",
    "\n",
    "![](images/ABCmodel.png)"
   ]
  },
  {
   "cell_type": "code",
   "execution_count": null,
   "metadata": {},
   "outputs": [],
   "source": [
    "Helper.scatter(TSNE(2,5).fit_transform(data.T), labels=zones.columns[11:],colors=labels)"
   ]
  },
  {
   "cell_type": "code",
   "execution_count": null,
   "metadata": {},
   "outputs": [],
   "source": [
    "### recompute cobinding based on this."
   ]
  },
  {
   "cell_type": "code",
   "execution_count": null,
   "metadata": {},
   "outputs": [],
   "source": [
    "### redo the plots. do we get better looking plots?"
   ]
  },
  {
   "cell_type": "code",
   "execution_count": null,
   "metadata": {},
   "outputs": [],
   "source": [
    "### compare presence of CTCF and transcription of linked RNA"
   ]
  },
  {
   "cell_type": "markdown",
   "metadata": {
    "slideshow": {
     "slide_type": "slide"
    }
   },
   "source": [
    "## Predict"
   ]
  },
  {
   "cell_type": "code",
   "execution_count": null,
   "metadata": {},
   "outputs": [],
   "source": [
    "## enrichment at the gene set level"
   ]
  },
  {
   "cell_type": "code",
   "execution_count": null,
   "metadata": {},
   "outputs": [],
   "source": [
    "## are our cobinding clusters enriched in some sets of genes / CRC? "
   ]
  },
  {
   "cell_type": "code",
   "execution_count": null,
   "metadata": {},
   "outputs": [],
   "source": [
    "## make a linear model to with marks and cobinding data + motifs and TFs+cobinding motifs + expression of cobound proteins + expression , can we predict expression/dependenccy?"
   ]
  },
  {
   "cell_type": "code",
   "execution_count": null,
   "metadata": {},
   "outputs": [],
   "source": [
    "## can we predict better for some set of genes / CRCs?"
   ]
  },
  {
   "cell_type": "code",
   "execution_count": null,
   "metadata": {},
   "outputs": [],
   "source": [
    "## do the same on closest expressed gene"
   ]
  },
  {
   "cell_type": "code",
   "execution_count": null,
   "metadata": {},
   "outputs": [],
   "source": [
    "## do this prediction on each enhancer.what is the best predicting enhancer? do that correlate with ABC model data?"
   ]
  },
  {
   "cell_type": "code",
   "execution_count": null,
   "metadata": {},
   "outputs": [],
   "source": [
    "## do we get, for some gene, better single enhancer prediction?"
   ]
  },
  {
   "cell_type": "code",
   "execution_count": null,
   "metadata": {},
   "outputs": [],
   "source": [
    "## what are the gene sets enriched in each clusters?? (based on TF cobinding or based on TF cobinding + )"
   ]
  },
  {
   "cell_type": "markdown",
   "metadata": {},
   "source": [
    "## RNP data"
   ]
  },
  {
   "cell_type": "code",
   "execution_count": null,
   "metadata": {},
   "outputs": [],
   "source": [
    "## can we predict RNP data (setting this TF to zero and lookingg at expected RNA change)\n",
    "## do we see genes with opposite effects? "
   ]
  },
  {
   "cell_type": "code",
   "execution_count": null,
   "metadata": {},
   "outputs": [],
   "source": [
    "## if we add RNP data, can we increase our model's prediction? (we have expression change and we set all RNPed-TF values to 0) "
   ]
  },
  {
   "cell_type": "code",
   "execution_count": null,
   "metadata": {},
   "outputs": [],
   "source": [
    "### to predict remaining X% RNA expression\n",
    "### to predict remaining X TFs RNP\n",
    "### to predict regular RNA expression"
   ]
  },
  {
   "cell_type": "code",
   "execution_count": null,
   "metadata": {},
   "outputs": [],
   "source": [
    "## same thing with filtering base on motif presence (actual DNA binding)\n",
    "## same thing with closest expressed gene"
   ]
  },
  {
   "cell_type": "code",
   "execution_count": null,
   "metadata": {},
   "outputs": [],
   "source": [
    "## Do on all cell lines"
   ]
  },
  {
   "cell_type": "code",
   "execution_count": null,
   "metadata": {},
   "outputs": [],
   "source": [
    "## repeat the process across all samples with H3K27ac+RNAseq data we have."
   ]
  },
  {
   "cell_type": "code",
   "execution_count": null,
   "metadata": {},
   "outputs": [],
   "source": [
    "## call mutations from H3k27ac data"
   ]
  },
  {
   "cell_type": "code",
   "execution_count": null,
   "metadata": {},
   "outputs": [],
   "source": [
    "## MEME analysis of likely bound TFs, except if TF is not expressed"
   ]
  },
  {
   "cell_type": "code",
   "execution_count": null,
   "metadata": {},
   "outputs": [],
   "source": [
    "## compute enrichments"
   ]
  },
  {
   "cell_type": "code",
   "execution_count": null,
   "metadata": {},
   "outputs": [],
   "source": [
    "## from same gene assignements, as found on the general consensus peak set, can we find good dependency/expression prediction"
   ]
  },
  {
   "cell_type": "markdown",
   "metadata": {
    "slideshow": {
     "slide_type": "slide"
    }
   },
   "source": [
    "### Compare data with other labs (H3K27, HiC..)\n",
    "\n",
    "we need to redo everything for similar normal cell type, getting TFs based on the CRC (find it with CRCmapper or on litterature)"
   ]
  }
 ],
 "metadata": {
  "celltoolbar": "Diaporama",
  "kernelspec": {
   "display_name": "Python 3",
   "language": "python",
   "name": "python3"
  },
  "language_info": {
   "codemirror_mode": {
    "name": "ipython",
    "version": 3
   },
   "file_extension": ".py",
   "mimetype": "text/x-python",
   "name": "python",
   "nbconvert_exporter": "python",
   "pygments_lexer": "ipython3",
   "version": "3.8.3rc1"
  },
  "latex_envs": {
   "LaTeX_envs_menu_present": true,
   "autoclose": false,
   "autocomplete": true,
   "bibliofile": "biblio.bib",
   "cite_by": "apalike",
   "current_citInitial": 1,
   "eqLabelWithNumbers": true,
   "eqNumInitial": 1,
   "hotkeys": {
    "equation": "Ctrl-E",
    "itemize": "Ctrl-I"
   },
   "labels_anchors": false,
   "latex_user_defs": false,
   "report_style_numbering": false,
   "user_envs_cfg": false
  },
  "toc": {
   "base_numbering": 1,
   "nav_menu": {},
   "number_sections": false,
   "sideBar": true,
   "skip_h1_title": false,
   "title_cell": "Table of Contents",
   "title_sidebar": "Contents",
   "toc_cell": false,
   "toc_position": {
    "height": "372px",
    "left": "78px",
    "top": "111.6px",
    "width": "173px"
   },
   "toc_section_display": true,
   "toc_window_display": true
  },
  "varInspector": {
   "cols": {
    "lenName": 16,
    "lenType": 16,
    "lenVar": 40
   },
   "kernels_config": {
    "python": {
     "delete_cmd_postfix": "",
     "delete_cmd_prefix": "del ",
     "library": "var_list.py",
     "varRefreshCmd": "print(var_dic_list())"
    },
    "r": {
     "delete_cmd_postfix": ") ",
     "delete_cmd_prefix": "rm(",
     "library": "var_list.r",
     "varRefreshCmd": "cat(var_dic_list()) "
    }
   },
   "types_to_exclude": [
    "module",
    "function",
    "builtin_function_or_method",
    "instance",
    "_Feature"
   ],
   "window_display": false
  }
 },
 "nbformat": 4,
 "nbformat_minor": 2
}
