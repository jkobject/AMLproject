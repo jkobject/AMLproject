{
 "cells": [
  {
   "cell_type": "code",
   "execution_count": null,
   "metadata": {},
   "outputs": [],
   "source": [
    "from __future__ import print_function\n",
    "import os.path\n",
    "import pandas as pd\n",
    "import sys\n",
    "sys.path.insert(0, '../..')\n",
    "%load_ext autoreload\n",
    "from JKBio import Helper as h\n",
    "%autoreload 2\n",
    "%load_ext rpy2.ipython\n",
    "import numpy as np\n",
    "from bokeh.plotting import *\n",
    "from bokeh.models import HoverTool\n",
    "output_notebook()\n",
    "import matplotlib.pyplot as plt\n",
    "%matplotlib inline\n",
    "import seaborn as sns\n",
    "from JKBio.helper import pyDESeq2 as pyDESeq2\n",
    "from sklearn.neighbors import KNeighborsClassifier\n",
    "from sklearn.manifold import MDS, TSNE\n",
    "from sklearn.decomposition import PCA\n",
    "from sklearn.preprocessing import scale\n",
    "#from umap import UMAP"
   ]
  },
  {
   "cell_type": "code",
   "execution_count": null,
   "metadata": {},
   "outputs": [],
   "source": [
    "! mkdir ../../data/slam/MYCpaper && cd ../../data/slam/MYCpaper && fastq_dump SRR5806781 && fastq_dump SRR5806783 && fastq_dump SRR5806785 &&\n",
    "fastq_dump SRR5806780 && fastq_dump SRR5806782 && fastq_dump SRR5806784 && cd -"
   ]
  },
  {
   "cell_type": "code",
   "execution_count": null,
   "metadata": {},
   "outputs": [],
   "source": [
    "ls ../../data/slam/MYCpaper"
   ]
  },
  {
   "cell_type": "code",
   "execution_count": null,
   "metadata": {},
   "outputs": [],
   "source": [
    "folder_bams = \"../../data/slam/MYCpaper/\"\n",
    "bams = ! ls $folder_bams\n",
    "bams"
   ]
  },
  {
   "cell_type": "code",
   "execution_count": null,
   "metadata": {},
   "outputs": [],
   "source": [
    "! pip3 install git+https://github.com/jkobject/slamdunk.git --upgrade"
   ]
  },
  {
   "cell_type": "code",
   "execution_count": null,
   "metadata": {},
   "outputs": [],
   "source": [
    "for val in bams[1:]:\n",
    "    print(val)\n",
    "    os.system('../../TrimGalore-0.6.5/trim_galore -stringency 3 \\\n",
    "    --illumina '+folder_bams+val + ' -o '+folder_bams) "
   ]
  },
  {
   "cell_type": "code",
   "execution_count": null,
   "metadata": {},
   "outputs": [],
   "source": [
    "ls -al ../../data/slam/res/count"
   ]
  },
  {
   "cell_type": "code",
   "execution_count": null,
   "metadata": {},
   "outputs": [],
   "source": [
    "for val in bams[1:]:\n",
    "    print(val)\n",
    "    os.system('slamdunk all -r ../../data/slam/ref_genome.fa -b ../../data/slam/GSE100708_hg38_refseq_062016_ensemblv84_3UTR.bed \\\n",
    "    -o ../../data/slam/res/ -t 8 -c 2 '+folder_bams+val.split('.')[0]+'_trimmed.fq')"
   ]
  },
  {
   "cell_type": "code",
   "execution_count": null,
   "metadata": {},
   "outputs": [],
   "source": [
    "ls -al ../../data/slam/res/filter"
   ]
  },
  {
   "cell_type": "code",
   "execution_count": null,
   "metadata": {},
   "outputs": [],
   "source": [
    "for val in bams[1:]:\n",
    "    print(val)\n",
    "    os.system('slamdunk count -r ../../data/slam/ref_genome.fa \\\n",
    "    -b ../../data/slam/GSE100708_hg38_refseq_062016_ensemblv84_3UTR.bed \\\n",
    "    -o ../../data/slam/res/count/ -t 8 -c 2 -s ../../data/slam/res/snp \\\n",
    "    ../../data/slam/res/filter/'+ val.split('.')[0]+\"_trimmed_slamdunk_mapped_filtered.bam\")"
   ]
  },
  {
   "cell_type": "markdown",
   "metadata": {},
   "source": [
    "# we first need to recreate out RNA matrix from slamdunk's tcount files"
   ]
  },
  {
   "cell_type": "code",
   "execution_count": null,
   "metadata": {},
   "outputs": [],
   "source": [
    "#location= '../../data/slam/resMYCpaper/count/*.tsv' # ../data/slamseq_data/\n",
    "location= '../data/MOLM13_slamseq_mycpaper/*.tsv'"
   ]
  },
  {
   "cell_type": "code",
   "execution_count": null,
   "metadata": {},
   "outputs": [],
   "source": [
    "files = ! ls $location\n",
    "files"
   ]
  },
  {
   "cell_type": "code",
   "execution_count": null,
   "metadata": {},
   "outputs": [],
   "source": [
    "data={}\n",
    "for file in files:\n",
    "    data[file.split('/')[-1].split('_')[0]]= pd.read_csv(file, sep='\\t', comment='#',header=0)"
   ]
  },
  {
   "cell_type": "code",
   "execution_count": null,
   "metadata": {},
   "outputs": [],
   "source": [
    "prev = -2\n",
    "for k,val in data.items():\n",
    "    if len(set(val.Name)) != prev and prev!=-2: \n",
    "        raise ValueError('we do not have the same number of genes in each file')\n",
    "    prev = len(set(val.Name))"
   ]
  },
  {
   "cell_type": "markdown",
   "metadata": {},
   "source": [
    "![](images/conversionrates.png)"
   ]
  },
  {
   "cell_type": "code",
   "execution_count": null,
   "metadata": {},
   "outputs": [],
   "source": [
    "data.keys()"
   ]
  },
  {
   "cell_type": "code",
   "execution_count": null,
   "metadata": {},
   "outputs": [],
   "source": [
    "val"
   ]
  },
  {
   "cell_type": "code",
   "execution_count": null,
   "metadata": {},
   "outputs": [],
   "source": [
    "flag_var= 100\n",
    "\n",
    "readcounts = {i:[0]*len(data) for i in val.Name.unique()}\n",
    "tccounts = {i:[0]*len(data) for i in val.Name.unique()}"
   ]
  },
  {
   "cell_type": "code",
   "execution_count": null,
   "metadata": {},
   "outputs": [],
   "source": [
    "for n, (_,val) in enumerate(data.items()):\n",
    "    val = val.sort_values(by=\"Name\")\n",
    "    j  = 0\n",
    "    #print('              ',end='\\r')\n",
    "    readcount = [val.iloc[0].ReadCount]\n",
    "    tccount = [val.iloc[0].TcReadCount]\n",
    "    prevname = val.iloc[0].Name\n",
    "    for _, v in val.iloc[1:].iterrows():\n",
    "        if v.Name==4609:\n",
    "            print(v.ReadCount,v.TcReadCount)\n",
    "            print(readcount,tccount)\n",
    "        if v.Name == prevname:\n",
    "            readcount.append(v.ReadCount)\n",
    "            tccount.append(v.TcReadCount)\n",
    "        else:\n",
    "            readcounts[prevname][n] = np.sum(readcount)\n",
    "            tccounts[prevname][n] = np.sum(tccount)\n",
    "            #if np.var(readcount) > flag_var:\n",
    "            #    print(\"pb with \"+str(v.Name))\n",
    "            prevname=v.Name\n",
    "            j+=1\n",
    "            #print(j,end='\\r')\n",
    "            readcount = [v.ReadCount]\n",
    "            tccount = [v.TcReadCount]\n",
    "            \n",
    "files = [*data]"
   ]
  },
  {
   "cell_type": "code",
   "execution_count": null,
   "metadata": {},
   "outputs": [],
   "source": [
    "val.Name"
   ]
  },
  {
   "cell_type": "code",
   "execution_count": null,
   "metadata": {},
   "outputs": [],
   "source": [
    "files"
   ]
  },
  {
   "cell_type": "code",
   "execution_count": null,
   "metadata": {},
   "outputs": [],
   "source": [
    "readcounts[4609]"
   ]
  },
  {
   "cell_type": "code",
   "execution_count": null,
   "metadata": {},
   "outputs": [],
   "source": [
    "readcounts = pd.DataFrame(data=readcounts,columns=val.Name.unique(),index=data.keys()).T\n",
    "tccounts = pd.DataFrame(data=tccounts,columns=val.Name.unique(),index=data.keys()).T"
   ]
  },
  {
   "cell_type": "code",
   "execution_count": null,
   "metadata": {},
   "outputs": [],
   "source": [
    "readcounts.loc[4609]"
   ]
  },
  {
   "cell_type": "code",
   "execution_count": null,
   "metadata": {},
   "outputs": [],
   "source": [
    "names, _ = h.convertGenes(readcounts.index.tolist(), from_idtype=\"entrez_id\", to_idtype=\"symbol\")\n",
    "readcounts.index = names"
   ]
  },
  {
   "cell_type": "code",
   "execution_count": null,
   "metadata": {},
   "outputs": [],
   "source": [
    "names, _ = h.convertGenes(tccounts.index.tolist(), from_idtype=\"entrez_id\", to_idtype=\"symbol\")\n",
    "tccounts.index = names"
   ]
  },
  {
   "cell_type": "code",
   "execution_count": null,
   "metadata": {},
   "outputs": [],
   "source": [
    "todrop=np.argwhere(tccounts.values.max(1)>0).ravel()\n",
    "tccounts = tccounts.iloc[todrop]\n",
    "readcounts = readcounts.iloc[todrop]"
   ]
  },
  {
   "cell_type": "code",
   "execution_count": null,
   "metadata": {},
   "outputs": [],
   "source": [
    "todrop=np.argwhere(readcounts.values.max(1)>=10).ravel()\n",
    "tccounts = tccounts.iloc[todrop]\n",
    "readcounts = readcounts.iloc[todrop]"
   ]
  },
  {
   "cell_type": "code",
   "execution_count": null,
   "metadata": {},
   "outputs": [],
   "source": [
    "rename = {\"GSM2691882\": \"MOLM-13_DMSO_rep-1_exp-2\",\n",
    "\"GSM2691883\": \"MOLM-13_DMSO_rep-2_exp-2\",\n",
    "\"GSM2691884\": \"MOLM-13_DMSO_rep-3_exp-2\",\n",
    "\"GSM2691885\": \"MOLM-13_JQ1_rep-1_exp-2\",\n",
    "\"GSM2691886\": \"MOLM-13_JQ1_rep-2_exp-2\",\n",
    "\"GSM2691887\": \"MOLM-13_JQ1_rep-3_exp-2\",\n",
    "\"GSM2691888\": \"MOLM-13_6nM_NVP-2_rep-1_exp-2\",\n",
    "\"GSM2691889\": \"MOLM-13_6nM_NVP-2_rep-2_exp-2\",\n",
    "\"GSM2691890\": \"MOLM-13_6nM_NVP-2_rep-3_exp-2\",\n",
    "\"GSM2691891\": \"MOLM-13_60nM_NVP-2_rep-1_exp-2\",\n",
    "\"GSM2691892\": \"MOLM-13_60nM_NVP-2_rep-2_exp-2\",\n",
    "\"GSM2691893\": \"MOLM-13_JQ1+6nM_NVP-2_rep-1_exp-2\",\n",
    "\"GSM2691894\": \"MOLM-13_JQ1+6nM_NVP-2_rep-2_exp-2\",\n",
    "\"GSM2691895\": \"MOLM-13_JQ1+6nM_NVP-2_rep-3_exp-2\"}"
   ]
  },
  {
   "cell_type": "code",
   "execution_count": null,
   "metadata": {},
   "outputs": [],
   "source": [
    "tccounts = tccounts.rename(columns=rename)\n",
    "readcounts = readcounts.rename(columns=rename)"
   ]
  },
  {
   "cell_type": "code",
   "execution_count": null,
   "metadata": {},
   "outputs": [],
   "source": [
    "tccounts = tccounts.apply(lambda x: x+1)"
   ]
  },
  {
   "cell_type": "markdown",
   "metadata": {},
   "source": [
    "## SLAM-seq\n",
    "All SLAM-seq assays were performed at 60-70% confluency for adherent cells or\n",
    "60% of the maximum cell density counted on a hemocytometer for suspension cells. 5-7h\n",
    "prior to each assay, growth medium was aspirated and replaced. Unless stated otherwise,\n",
    "cells were pre-treated with indicated small molecule inhibitors or 100µM IAA for 30 min\n",
    "to pre-establish full target inhibition or degradation. Newly synthesized RNA was labeled\n",
    "for indicated time spans (45 min or 60 min) at a final concentration of 100µM 4-\n",
    "thiouridine (4sU, Carbosynth). Adherent cells were harvested by direct snap-freezing of\n",
    "plates on dry ice. Suspension cells were spun down and immediately snap-frozen. RNA\n",
    "extraction was performed using the RNeasy Plus Mini Kit (Qiagen). \n",
    "\n",
    "Total RNA was subjected to alkylation by iodoacetamide (Sigma, 10mM) for 15 min and RNA was repurified by ethanol precipitation. 500ng alkylated RNA were used as input for generating\n",
    "3’-end mRNA sequencing libraries using a commercially available kit (QuantSeq 3′\n",
    "mRNA-Seq Library Prep Kit FWD for Illumina and PCR Add-on Kit for Illumina,\n",
    "Lexogen). Deep sequencing was performed using HiSeq1500 and HiSeq2500 platforms\n",
    "(Illumina)."
   ]
  },
  {
   "cell_type": "code",
   "execution_count": null,
   "metadata": {},
   "outputs": [],
   "source": [
    "tccounts"
   ]
  },
  {
   "cell_type": "markdown",
   "metadata": {},
   "source": [
    "# lets look at the similarity accross replicates\n",
    "\n",
    "we have some outliers, else it seems to make some sense and on average, to be extremelly similar!"
   ]
  },
  {
   "cell_type": "code",
   "execution_count": null,
   "metadata": {},
   "outputs": [],
   "source": [
    "tccounts.columns"
   ]
  },
  {
   "cell_type": "code",
   "execution_count": null,
   "metadata": {},
   "outputs": [],
   "source": [
    "sorting = [0,1,2,3,4,5,6,8,10,7,9,11,12,13,14]"
   ]
  },
  {
   "cell_type": "code",
   "execution_count": null,
   "metadata": {},
   "outputs": [],
   "source": [
    "tccounts.columns[sorting]"
   ]
  },
  {
   "cell_type": "code",
   "execution_count": null,
   "metadata": {},
   "outputs": [],
   "source": [
    "tccounts = tccounts[tccounts.columns[sorting]]"
   ]
  },
  {
   "cell_type": "code",
   "execution_count": null,
   "metadata": {},
   "outputs": [],
   "source": [
    "%matplotlib inline\n",
    "sns.heatmap(tccounts.corr(), \n",
    "            xticklabels=tccounts.columns.values,\n",
    "            yticklabels=tccounts.columns.values)"
   ]
  },
  {
   "cell_type": "code",
   "execution_count": null,
   "metadata": {},
   "outputs": [],
   "source": [
    "readcounts = readcounts[readcounts.columns[sorting]]"
   ]
  },
  {
   "cell_type": "code",
   "execution_count": null,
   "metadata": {},
   "outputs": [],
   "source": [
    "%matplotlib inline\n",
    "sns.heatmap(readcounts.corr(), \n",
    "            xticklabels=readcounts.columns.values,\n",
    "            yticklabels=readcounts.columns.values)"
   ]
  },
  {
   "cell_type": "markdown",
   "metadata": {},
   "source": [
    "we can see that for MOLM13 there is a stronger batch effect than condition effect"
   ]
  },
  {
   "cell_type": "markdown",
   "metadata": {},
   "source": [
    "### A quick detour to look for clustering"
   ]
  },
  {
   "cell_type": "markdown",
   "metadata": {},
   "source": [
    "## Getting the Core TF information"
   ]
  },
  {
   "cell_type": "code",
   "execution_count": null,
   "metadata": {},
   "outputs": [],
   "source": [
    "ctf=pd.read_csv('../data/CTF.csv',header=None)[0].values.tolist()\n",
    "ctf"
   ]
  },
  {
   "cell_type": "code",
   "execution_count": null,
   "metadata": {},
   "outputs": [],
   "source": [
    "set(ctf) & set(tccounts.genes)"
   ]
  },
  {
   "cell_type": "markdown",
   "metadata": {},
   "source": [
    "## saving median mean and values"
   ]
  },
  {
   "cell_type": "code",
   "execution_count": null,
   "metadata": {},
   "outputs": [],
   "source": [
    "!mkdir ../results/MYCpaper_vMOLM13/"
   ]
  },
  {
   "cell_type": "code",
   "execution_count": null,
   "metadata": {},
   "outputs": [],
   "source": [
    "readcounts.to_csv('../results/MYCpaper_vMOLM13/readcounts.csv')\n",
    "tccounts.to_csv('../results/MYCpaper_vMOLM13/tccounts.csv')"
   ]
  },
  {
   "cell_type": "code",
   "execution_count": null,
   "metadata": {},
   "outputs": [],
   "source": [
    "cols = list(set([i.split('_rep')[0] for i in tccounts.columns]))\n",
    "cols"
   ]
  },
  {
   "cell_type": "code",
   "execution_count": null,
   "metadata": {},
   "outputs": [],
   "source": [
    "meantc = pd.DataFrame()\n",
    "for val in cols:\n",
    "    meantc[val] = tccounts[[i for i in tccounts.columns if val in i]].mean(1)\n",
    "meanread = pd.DataFrame()\n",
    "for val in cols:\n",
    "    meanread[val] = readcounts[[i for i in readcounts.columns if val in i]].mean(1)\n",
    "medread = pd.DataFrame()\n",
    "for val in cols:\n",
    "    medread[val] = readcounts[[i for i in readcounts.columns if val in i]].median(1)\n",
    "medtc = pd.DataFrame()\n",
    "for val in cols:\n",
    "    medtc[val] = tccounts[[i for i in tccounts.columns if val in i]].median(1)"
   ]
  },
  {
   "cell_type": "code",
   "execution_count": null,
   "metadata": {},
   "outputs": [],
   "source": [
    "medtc.to_csv('../results/MYCpaper_vMOLM13/medtc.csv')\n",
    "meantc.to_csv('../results/MYCpaper_vMOLM13/meantc.csv')\n",
    "medread.to_csv('../results/MYCpaper_vMOLM13/medread.csv')\n",
    "meanread.to_csv('../results/MYCpaper_vMOLM13/meanread.csv')"
   ]
  },
  {
   "cell_type": "markdown",
   "metadata": {},
   "source": [
    "# Let's look at how they change accross time\n",
    "\n",
    "how core transcription factors change accross time when the cell is with JQ1 conditions\n",
    "\n",
    "we are looking at the difference between production of each CTF compared to the average RNA production with JQ1 and without JQ1"
   ]
  },
  {
   "cell_type": "markdown",
   "metadata": {},
   "source": [
    "## DESEQ ANALYSIS"
   ]
  },
  {
   "cell_type": "code",
   "execution_count": null,
   "metadata": {},
   "outputs": [],
   "source": [
    "readcounts[\"genes\"] = readcounts.index\n",
    "readcounts = readcounts.reset_index(drop=True)\n",
    "tccounts[\"genes\"] = tccounts.index\n",
    "tccounts = tccounts.reset_index(drop=True)"
   ]
  },
  {
   "cell_type": "code",
   "execution_count": null,
   "metadata": {},
   "outputs": [],
   "source": [
    "tccounts.iloc[140]"
   ]
  },
  {
   "cell_type": "code",
   "execution_count": null,
   "metadata": {},
   "outputs": [],
   "source": [
    "tccounts.columns.tolist()"
   ]
  },
  {
   "cell_type": "code",
   "execution_count": null,
   "metadata": {},
   "outputs": [],
   "source": [
    "tccounts.columns = [i.replace('-','.') for i in tccounts.columns]"
   ]
  },
  {
   "cell_type": "code",
   "execution_count": null,
   "metadata": {},
   "outputs": [],
   "source": [
    "len(tccounts.columns)"
   ]
  },
  {
   "cell_type": "code",
   "execution_count": null,
   "metadata": {},
   "outputs": [],
   "source": [
    "design1 = pd.DataFrame(index=[i.replace('-','.') for i in tccounts.columns.values[:-1]], \n",
    "                      columns=['DMSO','JQ1'], \n",
    "                      data=np.array([[1,1,1,0,0,0,0,0,0,0,0,0,0,0],\n",
    "                                     [0,0,0,1,1,1,0,0,0,0,0,0,0,0]],dtype=bool).T)\n",
    "design2 = pd.DataFrame(index=[i.replace('-','.') for i in tccounts.columns.values[:-1]], \n",
    "                      columns=['DMSO','NVP2low'], \n",
    "                      data=np.array([[1,1,1,0,0,0,0,0,0,0,0,0,0,0],\n",
    "                                     [0,0,0,0,0,0,1,1,1,0,0,0,0,0]],dtype=bool).T)\n",
    "design3 = pd.DataFrame(index=[i.replace('-','.') for i in tccounts.columns.values[:-1]], \n",
    "                      columns=['DMSO','NVP2high'], \n",
    "                      data=np.array([[1,1,1,0,0,0,0,0,0,0,0,0,0,0],\n",
    "                                     [0,0,0,0,0,0,0,0,0,1,1,0,0,0]],dtype=bool).T)\n",
    "design4 = pd.DataFrame(index=[i.replace('-','.') for i in tccounts.columns.values[:-1]], \n",
    "                      columns=['DMSO','NVP2lowJQ1'], \n",
    "                      data=np.array([[1,1,1,0,0,0,0,0,0,0,0,0,0,0],\n",
    "                                     [0,0,0,0,0,0,0,0,0,0,0,1,1,1]],dtype=bool).T)"
   ]
  },
  {
   "cell_type": "markdown",
   "metadata": {},
   "source": [
    "### Differential gene expression analysis, PCA and GO-term enrichment\n",
    "\n",
    "For gene-level analysis, raw reads mapped to different UTR annotations of the same gene were summed up by Entrez Gene ID. Pilot studies of K562 cells with kinase inhibitors were performed as single experiments. \n",
    "\n",
    "Analysis of differential gene expression was restricted to genes with ≥ 10 reads in at least one condition for 50bp sequencing runs (flavopiridol and DMSO) or ≥ 20 reads in at least one condition for 100bp sequencing runs (mk2206, trametinib, nilotinib, trametinib + mk2206 and DMSO). For estimating differential expression, a pseudo-count of 1 raw read was added to all genes.\n",
    "\n",
    "#### All other SLAM-seq experiments were performed in triplicates and analyzed as follows. \n",
    "Differential gene expression calling was performed on raw read counts with ≥ 2 T>C conversions using DESeq2 (version 1.14.1) with default settings, and with size factors estimated on corresponding total mRNA reads for global normalization.\n",
    "\n",
    "Downstream analysis was restricted to genes passing all internal filters for FDR estimation by DESeq2. Principal component analysis was performed after variance\n",
    "stabilizing transformation on the 500 most variable genes across all conditions of a given\n",
    "experiment. GO-term enrichment analysis was performed on genes significantly and strongly downregulated (FDR ≤ 0.1, log2FC ≤ -1) in SLAM-seq upon IAA-treatment in K562MYC-AID + Tir1 by the PANTHER Overrepresentation Test (Fisher's Exact with FDR multiple test correction, release 20171205, http://pantherdb.org) on GO Ontology database Released 2017-12-27."
   ]
  },
  {
   "cell_type": "code",
   "execution_count": null,
   "metadata": {},
   "outputs": [],
   "source": [
    "design4"
   ]
  },
  {
   "cell_type": "code",
   "execution_count": null,
   "metadata": {},
   "outputs": [],
   "source": [
    "tccounts[tccounts.genes=='MYC']"
   ]
  },
  {
   "cell_type": "code",
   "execution_count": null,
   "metadata": {},
   "outputs": [],
   "source": [
    "deseq1 = pyDESeq2.pyDESeq2(count_matrix = tccounts[tccounts.columns[np.array([1,1,1,1,1,1,0,0,0,0,0,0,0,0,1],np.bool)]],\n",
    "                         design_matrix=design1[np.array([1,1,1,1,1,1,0,0,0,0,0,0,0,0],np.bool)],\n",
    "                         design_formula=\"~DMSO - JQ1\",\n",
    "                         gene_column=\"genes\")\n",
    "deseq2 = pyDESeq2.pyDESeq2(count_matrix = tccounts[tccounts.columns[np.array([1,1,1,0,0,0,1,1,1,0,0,0,0,0,1],np.bool)]],\n",
    "                         design_matrix=design2[np.array([1,1,1,0,0,0,1,1,1,0,0,0,0,0],np.bool)],\n",
    "                         design_formula=\"~DMSO - NVP2low\",\n",
    "                         gene_column=\"genes\")\n",
    "deseq3 = pyDESeq2.pyDESeq2(count_matrix = tccounts[tccounts.columns[np.array([1,1,1,0,0,0,0,0,0,1,1,0,0,0,1],np.bool)]],\n",
    "                         design_matrix=design3[np.array([1,1,1,0,0,0,0,0,0,1,1,0,0,0],np.bool)],\n",
    "                         design_formula=\"~DMSO - NVP2high\",\n",
    "                         gene_column=\"genes\")\n",
    "deseq4 = pyDESeq2.pyDESeq2(count_matrix = tccounts[tccounts.columns[np.array([1,1,1,0,0,0,0,0,0,0,0,1,1,1,1],np.bool)]],\n",
    "                         design_matrix=design4[np.array([1,1,1,0,0,0,0,0,0,0,0,1,1,1],np.bool)],\n",
    "                         design_formula=\"~DMSO - NVP2lowJQ1\",\n",
    "                         gene_column=\"genes\")"
   ]
  },
  {
   "cell_type": "code",
   "execution_count": null,
   "metadata": {},
   "outputs": [],
   "source": [
    "np.exp(np.mean(np.log(readcounts[readcounts.columns[np.array([1,1,1,1,1,1,0],np.bool)]].values+1), 1))"
   ]
  },
  {
   "cell_type": "code",
   "execution_count": null,
   "metadata": {},
   "outputs": [],
   "source": [
    "deseq1.run_estimate_size_factors(geoMeans = np.exp(np.mean(np.log(\n",
    "    readcounts[readcounts.columns[np.array([0,0,0,1,1,1,0,0,0,0,0,0,0,0,0], np.bool)]].values+1), 1)))\n",
    "deseq2.run_estimate_size_factors(geoMeans = np.exp(np.mean(np.log(\n",
    "    readcounts[readcounts.columns[np.array([0,0,0,0,0,0,1,1,1,0,0,0,0,0,0], np.bool)]].values+1), 1)))\n",
    "deseq3.run_estimate_size_factors(geoMeans = np.exp(np.mean(np.log(\n",
    "    readcounts[readcounts.columns[np.array([0,0,0,0,0,0,0,0,0,1,1,0,0,0,0], np.bool)]].values+1), 1)))\n",
    "deseq4.run_estimate_size_factors(geoMeans = np.exp(np.mean(np.log(\n",
    "    readcounts[readcounts.columns[np.array([0,0,0,0,0,0,0,0,0,0,0,1,1,1,0], np.bool)]].values+1), 1)))"
   ]
  },
  {
   "cell_type": "code",
   "execution_count": null,
   "metadata": {},
   "outputs": [],
   "source": [
    "deseq1.run_deseq()\n",
    "deseq2.run_deseq()\n",
    "deseq3.run_deseq()\n",
    "deseq4.run_deseq()"
   ]
  },
  {
   "cell_type": "code",
   "execution_count": null,
   "metadata": {},
   "outputs": [],
   "source": [
    "deseq1.get_deseq_result()\n",
    "deseq2.get_deseq_result()\n",
    "deseq3.get_deseq_result()\n",
    "deseq4.get_deseq_result()"
   ]
  },
  {
   "cell_type": "code",
   "execution_count": null,
   "metadata": {},
   "outputs": [],
   "source": [
    "res1 = deseq1.deseq_result\n",
    "res2 = deseq2.deseq_result\n",
    "res3 = deseq3.deseq_result\n",
    "res4 = deseq4.deseq_result"
   ]
  },
  {
   "cell_type": "code",
   "execution_count": null,
   "metadata": {},
   "outputs": [],
   "source": [
    "res1.pvalue = np.nan_to_num(np.array(res1.pvalue), 1)\n",
    "res1.log2FoldChange = np.nan_to_num(np.array(res1.log2FoldChange), 0)\n",
    "res2.pvalue = np.nan_to_num(np.array(res2.pvalue), 1)\n",
    "res2.log2FoldChange = np.nan_to_num(np.array(res2.log2FoldChange), 0)\n",
    "res3.pvalue = np.nan_to_num(np.array(res3.pvalue), 1)\n",
    "res3.log2FoldChange = np.nan_to_num(np.array(res3.log2FoldChange), 0)\n",
    "res4.pvalue = np.nan_to_num(np.array(res4.pvalue), 1)\n",
    "res4.log2FoldChange = np.nan_to_num(np.array(res4.log2FoldChange), 0)"
   ]
  },
  {
   "cell_type": "code",
   "execution_count": null,
   "metadata": {},
   "outputs": [],
   "source": [
    "res1[res1.genes=='MYC']"
   ]
  },
  {
   "cell_type": "code",
   "execution_count": null,
   "metadata": {},
   "outputs": [],
   "source": [
    "res1.log2FoldChange = -res1.log2FoldChange\n",
    "res2.log2FoldChange = -res2.log2FoldChange\n",
    "res3.log2FoldChange = -res3.log2FoldChange\n",
    "res4.log2FoldChange = -res4.log2FoldChange"
   ]
  },
  {
   "cell_type": "code",
   "execution_count": null,
   "metadata": {},
   "outputs": [],
   "source": [
    "res1[\"gene_id\"] = res1.genes\n",
    "res2[\"gene_id\"] = res2.genes\n",
    "res3[\"gene_id\"] = res3.genes\n",
    "res4[\"gene_id\"] = res4.genes"
   ]
  },
  {
   "cell_type": "markdown",
   "metadata": {},
   "source": [
    "# PLOTS"
   ]
  },
  {
   "cell_type": "markdown",
   "metadata": {},
   "source": [
    "## Whiker plot"
   ]
  },
  {
   "cell_type": "code",
   "execution_count": null,
   "metadata": {},
   "outputs": [],
   "source": [
    "res = res1[res1.baseMean>10]\n",
    "res.baseMean= np.log2(1+res.baseMean)\n",
    "res[\"type\"] = ['ctf' if i else \"other\" for i in  res.genes.isin(ctf)]\n",
    "sns.boxplot(data=res,x='type',y='log2FoldChange').set_title(\"JQ1\")"
   ]
  },
  {
   "cell_type": "code",
   "execution_count": null,
   "metadata": {},
   "outputs": [],
   "source": [
    "sns.boxplot(data=res,x='type',y='baseMean').set_title(\"JQ1\")"
   ]
  },
  {
   "cell_type": "code",
   "execution_count": null,
   "metadata": {},
   "outputs": [],
   "source": [
    "res = res2[res2.baseMean>10]\n",
    "res.baseMean= np.log2(1+res.baseMean)\n",
    "res[\"type\"] = ['ctf' if i else \"other\" for i in  res.genes.isin(ctf)]\n",
    "sns.boxplot(data=res,x='type',y='log2FoldChange').set_title(\"NVP2low\")"
   ]
  },
  {
   "cell_type": "code",
   "execution_count": null,
   "metadata": {},
   "outputs": [],
   "source": [
    "sns.boxplot(data=res,x='type',y='baseMean').set_title(\"NVP2low\")"
   ]
  },
  {
   "cell_type": "code",
   "execution_count": null,
   "metadata": {},
   "outputs": [],
   "source": [
    "res = res3[res3.baseMean>10]\n",
    "res.baseMean= np.log2(1+res.baseMean)\n",
    "res[\"type\"] = ['ctf' if i else \"other\" for i in  res.genes.isin(ctf)]\n",
    "sns.boxplot(data=res,x='type',y='log2FoldChange').set_title(\"NVP2high\")"
   ]
  },
  {
   "cell_type": "code",
   "execution_count": null,
   "metadata": {},
   "outputs": [],
   "source": [
    "sns.boxplot(data=res,x='type',y='baseMean').set_title(\"NVP2high\")"
   ]
  },
  {
   "cell_type": "code",
   "execution_count": null,
   "metadata": {},
   "outputs": [],
   "source": [
    "res = res4[res4.baseMean>10]\n",
    "res.baseMean= np.log2(1+res.baseMean)\n",
    "res[\"type\"] = ['ctf' if i else \"other\" for i in  res.genes.isin(ctf)]\n",
    "sns.boxplot(data=res,x='type',y='log2FoldChange').set_title(\"NVP2low+JQ1\")"
   ]
  },
  {
   "cell_type": "code",
   "execution_count": null,
   "metadata": {},
   "outputs": [],
   "source": [
    "sns.boxplot(data=res,x='type',y='baseMean').set_title(\"NVP2low+JQ1\")"
   ]
  },
  {
   "cell_type": "markdown",
   "metadata": {},
   "source": [
    "## Volcano Plot"
   ]
  },
  {
   "cell_type": "code",
   "execution_count": null,
   "metadata": {},
   "outputs": [],
   "source": [
    "show(h.volcano(res1,tohighlight=ctf, searchbox=True, title=\"JQ1\"))\n",
    "show(h.volcano(res2,tohighlight=ctf, searchbox=True, title=\"NVP2low\"))\n",
    "show(h.volcano(res3,tohighlight=ctf, searchbox=True, title=\"NVP2hgih\"))\n",
    "show(h.volcano(res4,tohighlight=ctf, searchbox=True, title=\"NVP2low+JQ1\"))"
   ]
  },
  {
   "cell_type": "markdown",
   "metadata": {},
   "source": [
    "we can conclude that we get similar results to the slamseq myc paper although it seems that our values are a bit skewed toward higher expression than what is on the slamseq paper. It mightt be explained by the pseudo count of 1 that I did not set. Because I think it would highly bias the DESeq algorithm."
   ]
  },
  {
   "cell_type": "code",
   "execution_count": null,
   "metadata": {},
   "outputs": [],
   "source": [
    "res1.to_csv(\"../results/MYCpaper_vMOLM13/jq1.csv\")\n",
    "res2.to_csv(\"../results/MYCpaper_vMOLM13/nvp2low.csv\")\n",
    "res3.to_csv(\"../results/MYCpaper_vMOLM13/nvp2high.csv\")\n",
    "res4.to_csv(\"../results/MYCpaper_vMOLM13/jq1&nvp2hlow.csv\")"
   ]
  },
  {
   "cell_type": "code",
   "execution_count": null,
   "metadata": {},
   "outputs": [],
   "source": []
  }
 ],
 "metadata": {
  "kernelspec": {
   "display_name": "Python 3",
   "language": "python",
   "name": "python3"
  },
  "language_info": {
   "codemirror_mode": {
    "name": "ipython",
    "version": 3
   },
   "file_extension": ".py",
   "mimetype": "text/x-python",
   "name": "python",
   "nbconvert_exporter": "python",
   "pygments_lexer": "ipython3",
   "version": "3.7.6"
  },
  "latex_envs": {
   "LaTeX_envs_menu_present": true,
   "autoclose": false,
   "autocomplete": true,
   "bibliofile": "biblio.bib",
   "cite_by": "apalike",
   "current_citInitial": 1,
   "eqLabelWithNumbers": true,
   "eqNumInitial": 1,
   "hotkeys": {
    "equation": "Ctrl-E",
    "itemize": "Ctrl-I"
   },
   "labels_anchors": false,
   "latex_user_defs": false,
   "report_style_numbering": false,
   "user_envs_cfg": false
  },
  "toc": {
   "base_numbering": 1,
   "nav_menu": {},
   "number_sections": false,
   "sideBar": true,
   "skip_h1_title": false,
   "title_cell": "Table of Contents",
   "title_sidebar": "Contents",
   "toc_cell": false,
   "toc_position": {
    "height": "calc(100% - 180px)",
    "left": "10px",
    "top": "150px",
    "width": "212px"
   },
   "toc_section_display": true,
   "toc_window_display": true
  },
  "varInspector": {
   "cols": {
    "lenName": 16,
    "lenType": 16,
    "lenVar": 40
   },
   "kernels_config": {
    "python": {
     "delete_cmd_postfix": "",
     "delete_cmd_prefix": "del ",
     "library": "var_list.py",
     "varRefreshCmd": "print(var_dic_list())"
    },
    "r": {
     "delete_cmd_postfix": ") ",
     "delete_cmd_prefix": "rm(",
     "library": "var_list.r",
     "varRefreshCmd": "cat(var_dic_list()) "
    }
   },
   "types_to_exclude": [
    "module",
    "function",
    "builtin_function_or_method",
    "instance",
    "_Feature"
   ],
   "window_display": false
  }
 },
 "nbformat": 4,
 "nbformat_minor": 2
}
