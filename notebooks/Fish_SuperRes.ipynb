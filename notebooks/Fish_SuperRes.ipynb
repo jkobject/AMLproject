{
 "cells": [
  {
   "cell_type": "code",
   "execution_count": 327,
   "metadata": {
    "scrolled": false
   },
   "outputs": [
    {
     "name": "stdout",
     "output_type": "stream",
     "text": [
      "The autoreload extension is already loaded. To reload it, use:\n",
      "  %reload_ext autoreload\n",
      "The rpy2.ipython extension is already loaded. To reload it, use:\n",
      "  %reload_ext rpy2.ipython\n"
     ]
    }
   ],
   "source": [
    "import pandas as pd\n",
    "from scipy.stats import binom_test, fisher_exact\n",
    "from genepy.utils import helper as h \n",
    "from genepy.imaging import fish\n",
    "from collections import Counter\n",
    "import matplotlib.pyplot as plt\n",
    "import seaborn as sns\n",
    "from scipy.stats import fisher_exact, chi2_contingency, ttest_ind\n",
    "from scipy.spatial import distance_matrix\n",
    "import numpy as np\n",
    "\n",
    "%load_ext autoreload\n",
    "%autoreload 2\n",
    "%load_ext rpy2.ipython"
   ]
  },
  {
   "cell_type": "markdown",
   "metadata": {},
   "source": [
    "## Processing the data"
   ]
  },
  {
   "cell_type": "code",
   "execution_count": 3,
   "metadata": {},
   "outputs": [],
   "source": [
    "project='FishSuperResColoc'\n",
    "version='v2'"
   ]
  },
  {
   "cell_type": "code",
   "execution_count": 4,
   "metadata": {},
   "outputs": [],
   "source": [
    "rename = {\n",
    "\"Text Between Delimiters\":\"subset\",\n",
    "\"Folder Short\":\"folder_short\",\n",
    "\"Folder Path\":\"folder\",\n",
    "\"Source.Name\":\"name\",\n",
    "\"ImageDocumentName::Image Name\":\"image\",\n",
    "\"ParentID::ID of the parent!!I\":\"parent_id\",\n",
    "\"ID::ID!!I\":\"id\",\n",
    "\"RegionsCount::Count!!I\": \"count\",\n",
    "\"ImageSceneName::Image Scene Name \":\"scene\",\n",
    "\"Area1::Area Unscaled!!R\":\"area_u\",\n",
    "\"Area::Area!!R\": \"area\",\n",
    "\"CenterX1::Center X Unscaled!!R\":\"x\",\n",
    "\"CenterY1::Center Y Unscaled!!R\":\"y\",\n",
    "\"ImageScaleX::Image Scale X!!R\":\"scale_x\",\n",
    "\"ImageScaleY::Image Scale Y!!R\":\"scale_y\",\n",
    "\"ImageIndexZ::Image Index Z!!I\":\"z\",\n",
    "'Classes 5 RegionsCount ::Classes 5 Count!!I':\"count_red\",\n",
    "'Classes 9 RegionsCount ::Classes 9 Count!!I':\"count_green\",\n",
    "\"ClassColorName::Region Class Color Name\": \"class\",\n",
    "\"IntensityMaximum_TV1-T1-SR::Intensity Maximum of channel 'TV1-T1-SR'!!R\":\"max_red\",\n",
    "\"IntensityMaximum_TV2-T1-SR::Intensity Maximum of channel 'TV2-T1-SR'!!R\":\"max_tv2_t1\",\n",
    "\"IntensityMaximum_TV2-T2-SR::Intensity Maximum of channel 'TV2-T2-SR'!!R\":\"max_green\",\n",
    "\"IntensityMaximum_TV2-T3-SR::Intensity Maximum of channel 'TV2-T3-SR'!!R\":\"max_dapi\",\n",
    "\"IntensityMean_TV1-T1-SR::Intensity Mean Value of channel 'TV1-T1-SR'!!R\":\"mean_red\",\n",
    "\"IntensityMean_TV2-T1-SR::Intensity Mean Value of channel 'TV2-T1-SR'!!R\":\"mean_tv2_t1\",\n",
    "\"IntensityMean_TV2-T2-SR::Intensity Mean Value of channel 'TV2-T2-SR'!!R\":\"mean_green\",\n",
    "\"IntensityMean_TV2-T3-SR::Intensity Mean Value of channel 'TV2-T3-SR'!!R\":\"mean_dapi\",\n",
    "\"IntensityMinimum_TV1-T1-SR::Intensity Minimum of channel 'TV1-T1-SR'!!R\":\"min_red\",\n",
    "\"IntensityMinimum_TV2-T1-SR::Intensity Minimum of channel 'TV2-T1-SR'!!R\":\"min_tv2_t1\",\n",
    "\"IntensityMinimum_TV2-T2-SR::Intensity Minimum of channel 'TV2-T2-SR'!!R\":\"min_green\",\n",
    "\"IntensityMinimum_TV2-T3-SR::Intensity Minimum of channel 'TV2-T3-SR'!!R\":\"min_dapi\",\n",
    "\"IntensitySum0_TV1-T1-SR::Intensity Pixel Count of channel 'TV1-T1-SR'!!R\":\"pixsum_red\",\n",
    "\"IntensitySum0_TV2-T1-SR::Intensity Pixel Count of channel 'TV2-T1-SR'!!R\":\"pixsum_tv2_t1\",\n",
    "\"IntensitySum0_TV2-T2-SR::Intensity Pixel Count of channel 'TV2-T2-SR'!!R\":\"pixsum_green\",\n",
    "\"IntensitySum0_TV2-T3-SR::Intensity Pixel Count of channel 'TV2-T3-SR'!!R\":\"pixsum_dapi\",\n",
    "\"IntensityRange_TV1-T1-SR::Intensity Range of channel 'TV1-T1-SR'!!R\":\"range_red\",\n",
    "\"IntensityRange_TV2-T1-SR::Intensity Range of channel 'TV2-T1-SR'!!R\":\"range_tv2_t1\",\n",
    "\"IntensityRange_TV2-T2-SR::Intensity Range of channel 'TV2-T2-SR'!!R\":\"range_green\",\n",
    "\"IntensityRange_TV2-T3-SR::Intensity Range of channel 'TV2-T3-SR'!!R\":\"range_dapi\",\n",
    "\"IntensityStd_TV1-T1-SR::Intensity Standard Deviation of channel 'TV1-T1-SR'!!R\":\"std_red\",\n",
    "\"IntensityStd_TV2-T1-SR::Intensity Standard Deviation of channel 'TV2-T1-SR'!!R\":\"std_tv2_t1\",\n",
    "\"IntensityStd_TV2-T2-SR::Intensity Standard Deviation of channel 'TV2-T2-SR'!!R\":\"std_green\",\n",
    "\"IntensityStd_TV2-T3-SR::Intensity Standard Deviation of channel 'TV2-T3-SR'!!R\":\"std_dapi\",\n",
    "\"IntensitySum1_TV1-T1-SR::Intensity Sum of channel 'TV1-T1-SR'!!R\":\"sum_red\",\n",
    "\"IntensitySum1_TV2-T1-SR::Intensity Sum of channel 'TV2-T1-SR'!!R\":\"sum_tv2_t1\",\n",
    "\"IntensitySum1_TV2-T2-SR::Intensity Sum of channel 'TV2-T2-SR'!!R\":\"sum_green\",\n",
    "\"IntensitySum1_TV2-T3-SR::Intensity Sum of channel 'TV2-T3-SR'!!R\":\"sum_dapi\",\n",
    "\"IntensitySum2_TV1-T1-SR::Intensity Sum Squares of channel 'TV1-T1-SR'!!R\":\"sum2_red\",\n",
    "\"IntensitySum2_TV2-T1-SR::Intensity Sum Squares of channel 'TV2-T1-SR'!!R\":\"sum2_tv2_t1\",\n",
    "\"IntensitySum2_TV2-T2-SR::Intensity Sum Squares of channel 'TV2-T2-SR'!!R\":\"sum2_green\",\n",
    "\"IntensitySum2_TV2-T3-SR::Intensity Sum Squares of channel 'TV2-T3-SR'!!R\":\"sum2_dapi\",\n",
    "\"Unnamed: 27\":\"unknown\"\n",
    "}"
   ]
  },
  {
   "cell_type": "code",
   "execution_count": 80,
   "metadata": {},
   "outputs": [
    {
     "data": {
      "text/html": [
       "<div>\n",
       "<style scoped>\n",
       "    .dataframe tbody tr th:only-of-type {\n",
       "        vertical-align: middle;\n",
       "    }\n",
       "\n",
       "    .dataframe tbody tr th {\n",
       "        vertical-align: top;\n",
       "    }\n",
       "\n",
       "    .dataframe thead th {\n",
       "        text-align: right;\n",
       "    }\n",
       "</style>\n",
       "<table border=\"1\" class=\"dataframe\">\n",
       "  <thead>\n",
       "    <tr style=\"text-align: right;\">\n",
       "      <th></th>\n",
       "      <th>subset</th>\n",
       "      <th>folder_short</th>\n",
       "      <th>folder</th>\n",
       "      <th>name</th>\n",
       "      <th>image</th>\n",
       "      <th>parent_id</th>\n",
       "      <th>id</th>\n",
       "      <th>scene</th>\n",
       "      <th>area</th>\n",
       "      <th>x</th>\n",
       "      <th>...</th>\n",
       "      <th>sum_1</th>\n",
       "      <th>sum_2</th>\n",
       "      <th>range_1</th>\n",
       "      <th>range_2</th>\n",
       "      <th>std_1</th>\n",
       "      <th>std_2</th>\n",
       "      <th>sum1_1</th>\n",
       "      <th>sum1_2</th>\n",
       "      <th>sum2_1</th>\n",
       "      <th>sum2_2</th>\n",
       "    </tr>\n",
       "  </thead>\n",
       "  <tbody>\n",
       "    <tr>\n",
       "      <th>0</th>\n",
       "      <td>Subset10</td>\n",
       "      <td>AAVS1_CRISPR_MED1\\AAVS1_CRISPR_MED1 Image7\\</td>\n",
       "      <td>C:\\Users\\M232498\\Desktop\\Ju\\GDrive\\IF FISH fin...</td>\n",
       "      <td>Image 7_Subset10_Out_Maximum intensity project...</td>\n",
       "      <td>NaN</td>\n",
       "      <td>NaN</td>\n",
       "      <td>NaN</td>\n",
       "      <td>NaN</td>\n",
       "      <td>pixel²</td>\n",
       "      <td>pixel</td>\n",
       "      <td>...</td>\n",
       "      <td>pixel²</td>\n",
       "      <td>pixel²</td>\n",
       "      <td>Unknown</td>\n",
       "      <td>Unknown</td>\n",
       "      <td>Unknown</td>\n",
       "      <td>Unknown</td>\n",
       "      <td>Unknown</td>\n",
       "      <td>Unknown</td>\n",
       "      <td>Unknown²</td>\n",
       "      <td>Unknown²</td>\n",
       "    </tr>\n",
       "    <tr>\n",
       "      <th>1</th>\n",
       "      <td>Subset10</td>\n",
       "      <td>AAVS1_CRISPR_MED1\\AAVS1_CRISPR_MED1 Image7\\</td>\n",
       "      <td>C:\\Users\\M232498\\Desktop\\Ju\\GDrive\\IF FISH fin...</td>\n",
       "      <td>Image 7_Subset10_Out_Maximum intensity project...</td>\n",
       "      <td>Image 7_Subset10_Out_Maximum intensity project...</td>\n",
       "      <td>14.0</td>\n",
       "      <td>15.0</td>\n",
       "      <td>NaN</td>\n",
       "      <td>7</td>\n",
       "      <td>368.64285714286</td>\n",
       "      <td>...</td>\n",
       "      <td>7</td>\n",
       "      <td>7</td>\n",
       "      <td>1661</td>\n",
       "      <td>4080</td>\n",
       "      <td>547.72403548468</td>\n",
       "      <td>1510.241245314</td>\n",
       "      <td>49094</td>\n",
       "      <td>164490</td>\n",
       "      <td>346117272</td>\n",
       "      <td>3878964986</td>\n",
       "    </tr>\n",
       "    <tr>\n",
       "      <th>2</th>\n",
       "      <td>Subset10</td>\n",
       "      <td>AAVS1_CRISPR_MED1\\AAVS1_CRISPR_MED1 Image7\\</td>\n",
       "      <td>C:\\Users\\M232498\\Desktop\\Ju\\GDrive\\IF FISH fin...</td>\n",
       "      <td>Image 7_Subset10_Out_Maximum intensity project...</td>\n",
       "      <td>Image 7_Subset10_Out_Maximum intensity project...</td>\n",
       "      <td>14.0</td>\n",
       "      <td>16.0</td>\n",
       "      <td>NaN</td>\n",
       "      <td>28</td>\n",
       "      <td>396.21428571429</td>\n",
       "      <td>...</td>\n",
       "      <td>28</td>\n",
       "      <td>28</td>\n",
       "      <td>8089</td>\n",
       "      <td>13818</td>\n",
       "      <td>2760.2006509669</td>\n",
       "      <td>3701.1435641623</td>\n",
       "      <td>123989</td>\n",
       "      <td>523204</td>\n",
       "      <td>754750539</td>\n",
       "      <td>10146373720</td>\n",
       "    </tr>\n",
       "    <tr>\n",
       "      <th>3</th>\n",
       "      <td>Subset10</td>\n",
       "      <td>AAVS1_CRISPR_MED1\\AAVS1_CRISPR_MED1 Image7\\</td>\n",
       "      <td>C:\\Users\\M232498\\Desktop\\Ju\\GDrive\\IF FISH fin...</td>\n",
       "      <td>Image 7_Subset10_Out_Maximum intensity project...</td>\n",
       "      <td>Image 7_Subset10_Out_Maximum intensity project...</td>\n",
       "      <td>14.0</td>\n",
       "      <td>17.0</td>\n",
       "      <td>NaN</td>\n",
       "      <td>13</td>\n",
       "      <td>426.88461538462</td>\n",
       "      <td>...</td>\n",
       "      <td>13</td>\n",
       "      <td>13</td>\n",
       "      <td>4583</td>\n",
       "      <td>6576</td>\n",
       "      <td>1313.3590522016</td>\n",
       "      <td>2101.7813019022</td>\n",
       "      <td>108303</td>\n",
       "      <td>285907</td>\n",
       "      <td>922971237</td>\n",
       "      <td>6340918481</td>\n",
       "    </tr>\n",
       "    <tr>\n",
       "      <th>4</th>\n",
       "      <td>Subset10</td>\n",
       "      <td>AAVS1_CRISPR_MED1\\AAVS1_CRISPR_MED1 Image7\\</td>\n",
       "      <td>C:\\Users\\M232498\\Desktop\\Ju\\GDrive\\IF FISH fin...</td>\n",
       "      <td>Image 7_Subset10_Out_Maximum intensity project...</td>\n",
       "      <td>Image 7_Subset10_Out_Maximum intensity project...</td>\n",
       "      <td>14.0</td>\n",
       "      <td>18.0</td>\n",
       "      <td>NaN</td>\n",
       "      <td>29</td>\n",
       "      <td>340.74137931035</td>\n",
       "      <td>...</td>\n",
       "      <td>29</td>\n",
       "      <td>29</td>\n",
       "      <td>3515</td>\n",
       "      <td>12083</td>\n",
       "      <td>1077.0374837392</td>\n",
       "      <td>3107.8328355138</td>\n",
       "      <td>196046</td>\n",
       "      <td>460225</td>\n",
       "      <td>1357791794</td>\n",
       "      <td>7574132899</td>\n",
       "    </tr>\n",
       "    <tr>\n",
       "      <th>...</th>\n",
       "      <td>...</td>\n",
       "      <td>...</td>\n",
       "      <td>...</td>\n",
       "      <td>...</td>\n",
       "      <td>...</td>\n",
       "      <td>...</td>\n",
       "      <td>...</td>\n",
       "      <td>...</td>\n",
       "      <td>...</td>\n",
       "      <td>...</td>\n",
       "      <td>...</td>\n",
       "      <td>...</td>\n",
       "      <td>...</td>\n",
       "      <td>...</td>\n",
       "      <td>...</td>\n",
       "      <td>...</td>\n",
       "      <td>...</td>\n",
       "      <td>...</td>\n",
       "      <td>...</td>\n",
       "      <td>...</td>\n",
       "      <td>...</td>\n",
       "    </tr>\n",
       "    <tr>\n",
       "      <th>117757</th>\n",
       "      <td>Subset9</td>\n",
       "      <td>IF FISH final\\Runx2_excel\\</td>\n",
       "      <td>C:\\Users\\M232498\\Desktop\\Ju\\GDrive\\IF FISH fin...</td>\n",
       "      <td>Runx2_488_MYC_FISH_SIM-Orthogonal Projection-0...</td>\n",
       "      <td>Runx2_488_MYC_FISH_SIM-Orthogonal Projection-0...</td>\n",
       "      <td>1.0</td>\n",
       "      <td>23.0</td>\n",
       "      <td>NaN</td>\n",
       "      <td>55230</td>\n",
       "      <td>1146.4196089082</td>\n",
       "      <td>...</td>\n",
       "      <td>NaN</td>\n",
       "      <td>NaN</td>\n",
       "      <td>NaN</td>\n",
       "      <td>NaN</td>\n",
       "      <td>NaN</td>\n",
       "      <td>NaN</td>\n",
       "      <td>NaN</td>\n",
       "      <td>NaN</td>\n",
       "      <td>NaN</td>\n",
       "      <td>NaN</td>\n",
       "    </tr>\n",
       "    <tr>\n",
       "      <th>117758</th>\n",
       "      <td>Subset9</td>\n",
       "      <td>IF FISH final\\Runx2_excel\\</td>\n",
       "      <td>C:\\Users\\M232498\\Desktop\\Ju\\GDrive\\IF FISH fin...</td>\n",
       "      <td>Runx2_488_MYC_FISH_SIM-Orthogonal Projection-0...</td>\n",
       "      <td>Runx2_488_MYC_FISH_SIM-Orthogonal Projection-0...</td>\n",
       "      <td>1.0</td>\n",
       "      <td>24.0</td>\n",
       "      <td>NaN</td>\n",
       "      <td>60384</td>\n",
       "      <td>1546.5754835718</td>\n",
       "      <td>...</td>\n",
       "      <td>NaN</td>\n",
       "      <td>NaN</td>\n",
       "      <td>NaN</td>\n",
       "      <td>NaN</td>\n",
       "      <td>NaN</td>\n",
       "      <td>NaN</td>\n",
       "      <td>NaN</td>\n",
       "      <td>NaN</td>\n",
       "      <td>NaN</td>\n",
       "      <td>NaN</td>\n",
       "    </tr>\n",
       "    <tr>\n",
       "      <th>117759</th>\n",
       "      <td>Subset9</td>\n",
       "      <td>IF FISH final\\Runx2_excel\\</td>\n",
       "      <td>C:\\Users\\M232498\\Desktop\\Ju\\GDrive\\IF FISH fin...</td>\n",
       "      <td>Runx2_488_MYC_FISH_SIM-Orthogonal Projection-0...</td>\n",
       "      <td>Runx2_488_MYC_FISH_SIM-Orthogonal Projection-0...</td>\n",
       "      <td>1.0</td>\n",
       "      <td>25.0</td>\n",
       "      <td>NaN</td>\n",
       "      <td>48042</td>\n",
       "      <td>2480.9880521211</td>\n",
       "      <td>...</td>\n",
       "      <td>NaN</td>\n",
       "      <td>NaN</td>\n",
       "      <td>NaN</td>\n",
       "      <td>NaN</td>\n",
       "      <td>NaN</td>\n",
       "      <td>NaN</td>\n",
       "      <td>NaN</td>\n",
       "      <td>NaN</td>\n",
       "      <td>NaN</td>\n",
       "      <td>NaN</td>\n",
       "    </tr>\n",
       "    <tr>\n",
       "      <th>117760</th>\n",
       "      <td>Subset9</td>\n",
       "      <td>IF FISH final\\Runx2_excel\\</td>\n",
       "      <td>C:\\Users\\M232498\\Desktop\\Ju\\GDrive\\IF FISH fin...</td>\n",
       "      <td>Runx2_488_MYC_FISH_SIM-Orthogonal Projection-0...</td>\n",
       "      <td>Runx2_488_MYC_FISH_SIM-Orthogonal Projection-0...</td>\n",
       "      <td>1.0</td>\n",
       "      <td>26.0</td>\n",
       "      <td>NaN</td>\n",
       "      <td>70306</td>\n",
       "      <td>1932.6927004808</td>\n",
       "      <td>...</td>\n",
       "      <td>NaN</td>\n",
       "      <td>NaN</td>\n",
       "      <td>NaN</td>\n",
       "      <td>NaN</td>\n",
       "      <td>NaN</td>\n",
       "      <td>NaN</td>\n",
       "      <td>NaN</td>\n",
       "      <td>NaN</td>\n",
       "      <td>NaN</td>\n",
       "      <td>NaN</td>\n",
       "    </tr>\n",
       "    <tr>\n",
       "      <th>117761</th>\n",
       "      <td>Subset9</td>\n",
       "      <td>IF FISH final\\Runx2_excel\\</td>\n",
       "      <td>C:\\Users\\M232498\\Desktop\\Ju\\GDrive\\IF FISH fin...</td>\n",
       "      <td>Runx2_488_MYC_FISH_SIM-Orthogonal Projection-0...</td>\n",
       "      <td>Runx2_488_MYC_FISH_SIM-Orthogonal Projection-0...</td>\n",
       "      <td>1.0</td>\n",
       "      <td>27.0</td>\n",
       "      <td>NaN</td>\n",
       "      <td>68115</td>\n",
       "      <td>129.92614695735</td>\n",
       "      <td>...</td>\n",
       "      <td>NaN</td>\n",
       "      <td>NaN</td>\n",
       "      <td>NaN</td>\n",
       "      <td>NaN</td>\n",
       "      <td>NaN</td>\n",
       "      <td>NaN</td>\n",
       "      <td>NaN</td>\n",
       "      <td>NaN</td>\n",
       "      <td>NaN</td>\n",
       "      <td>NaN</td>\n",
       "    </tr>\n",
       "  </tbody>\n",
       "</table>\n",
       "<p>117762 rows × 27 columns</p>\n",
       "</div>"
      ],
      "text/plain": [
       "          subset                                 folder_short  \\\n",
       "0       Subset10  AAVS1_CRISPR_MED1\\AAVS1_CRISPR_MED1 Image7\\   \n",
       "1       Subset10  AAVS1_CRISPR_MED1\\AAVS1_CRISPR_MED1 Image7\\   \n",
       "2       Subset10  AAVS1_CRISPR_MED1\\AAVS1_CRISPR_MED1 Image7\\   \n",
       "3       Subset10  AAVS1_CRISPR_MED1\\AAVS1_CRISPR_MED1 Image7\\   \n",
       "4       Subset10  AAVS1_CRISPR_MED1\\AAVS1_CRISPR_MED1 Image7\\   \n",
       "...          ...                                          ...   \n",
       "117757   Subset9                   IF FISH final\\Runx2_excel\\   \n",
       "117758   Subset9                   IF FISH final\\Runx2_excel\\   \n",
       "117759   Subset9                   IF FISH final\\Runx2_excel\\   \n",
       "117760   Subset9                   IF FISH final\\Runx2_excel\\   \n",
       "117761   Subset9                   IF FISH final\\Runx2_excel\\   \n",
       "\n",
       "                                                   folder  \\\n",
       "0       C:\\Users\\M232498\\Desktop\\Ju\\GDrive\\IF FISH fin...   \n",
       "1       C:\\Users\\M232498\\Desktop\\Ju\\GDrive\\IF FISH fin...   \n",
       "2       C:\\Users\\M232498\\Desktop\\Ju\\GDrive\\IF FISH fin...   \n",
       "3       C:\\Users\\M232498\\Desktop\\Ju\\GDrive\\IF FISH fin...   \n",
       "4       C:\\Users\\M232498\\Desktop\\Ju\\GDrive\\IF FISH fin...   \n",
       "...                                                   ...   \n",
       "117757  C:\\Users\\M232498\\Desktop\\Ju\\GDrive\\IF FISH fin...   \n",
       "117758  C:\\Users\\M232498\\Desktop\\Ju\\GDrive\\IF FISH fin...   \n",
       "117759  C:\\Users\\M232498\\Desktop\\Ju\\GDrive\\IF FISH fin...   \n",
       "117760  C:\\Users\\M232498\\Desktop\\Ju\\GDrive\\IF FISH fin...   \n",
       "117761  C:\\Users\\M232498\\Desktop\\Ju\\GDrive\\IF FISH fin...   \n",
       "\n",
       "                                                     name  \\\n",
       "0       Image 7_Subset10_Out_Maximum intensity project...   \n",
       "1       Image 7_Subset10_Out_Maximum intensity project...   \n",
       "2       Image 7_Subset10_Out_Maximum intensity project...   \n",
       "3       Image 7_Subset10_Out_Maximum intensity project...   \n",
       "4       Image 7_Subset10_Out_Maximum intensity project...   \n",
       "...                                                   ...   \n",
       "117757  Runx2_488_MYC_FISH_SIM-Orthogonal Projection-0...   \n",
       "117758  Runx2_488_MYC_FISH_SIM-Orthogonal Projection-0...   \n",
       "117759  Runx2_488_MYC_FISH_SIM-Orthogonal Projection-0...   \n",
       "117760  Runx2_488_MYC_FISH_SIM-Orthogonal Projection-0...   \n",
       "117761  Runx2_488_MYC_FISH_SIM-Orthogonal Projection-0...   \n",
       "\n",
       "                                                    image  parent_id    id  \\\n",
       "0                                                     NaN        NaN   NaN   \n",
       "1       Image 7_Subset10_Out_Maximum intensity project...       14.0  15.0   \n",
       "2       Image 7_Subset10_Out_Maximum intensity project...       14.0  16.0   \n",
       "3       Image 7_Subset10_Out_Maximum intensity project...       14.0  17.0   \n",
       "4       Image 7_Subset10_Out_Maximum intensity project...       14.0  18.0   \n",
       "...                                                   ...        ...   ...   \n",
       "117757  Runx2_488_MYC_FISH_SIM-Orthogonal Projection-0...        1.0  23.0   \n",
       "117758  Runx2_488_MYC_FISH_SIM-Orthogonal Projection-0...        1.0  24.0   \n",
       "117759  Runx2_488_MYC_FISH_SIM-Orthogonal Projection-0...        1.0  25.0   \n",
       "117760  Runx2_488_MYC_FISH_SIM-Orthogonal Projection-0...        1.0  26.0   \n",
       "117761  Runx2_488_MYC_FISH_SIM-Orthogonal Projection-0...        1.0  27.0   \n",
       "\n",
       "        scene    area                x  ...   sum_1   sum_2  range_1  range_2  \\\n",
       "0         NaN  pixel²            pixel  ...  pixel²  pixel²  Unknown  Unknown   \n",
       "1         NaN       7  368.64285714286  ...       7       7     1661     4080   \n",
       "2         NaN      28  396.21428571429  ...      28      28     8089    13818   \n",
       "3         NaN      13  426.88461538462  ...      13      13     4583     6576   \n",
       "4         NaN      29  340.74137931035  ...      29      29     3515    12083   \n",
       "...       ...     ...              ...  ...     ...     ...      ...      ...   \n",
       "117757    NaN   55230  1146.4196089082  ...     NaN     NaN      NaN      NaN   \n",
       "117758    NaN   60384  1546.5754835718  ...     NaN     NaN      NaN      NaN   \n",
       "117759    NaN   48042  2480.9880521211  ...     NaN     NaN      NaN      NaN   \n",
       "117760    NaN   70306  1932.6927004808  ...     NaN     NaN      NaN      NaN   \n",
       "117761    NaN   68115  129.92614695735  ...     NaN     NaN      NaN      NaN   \n",
       "\n",
       "                  std_1            std_2   sum1_1   sum1_2      sum2_1  \\\n",
       "0               Unknown          Unknown  Unknown  Unknown    Unknown²   \n",
       "1       547.72403548468   1510.241245314    49094   164490   346117272   \n",
       "2       2760.2006509669  3701.1435641623   123989   523204   754750539   \n",
       "3       1313.3590522016  2101.7813019022   108303   285907   922971237   \n",
       "4       1077.0374837392  3107.8328355138   196046   460225  1357791794   \n",
       "...                 ...              ...      ...      ...         ...   \n",
       "117757              NaN              NaN      NaN      NaN         NaN   \n",
       "117758              NaN              NaN      NaN      NaN         NaN   \n",
       "117759              NaN              NaN      NaN      NaN         NaN   \n",
       "117760              NaN              NaN      NaN      NaN         NaN   \n",
       "117761              NaN              NaN      NaN      NaN         NaN   \n",
       "\n",
       "             sum2_2  \n",
       "0          Unknown²  \n",
       "1        3878964986  \n",
       "2       10146373720  \n",
       "3        6340918481  \n",
       "4        7574132899  \n",
       "...             ...  \n",
       "117757          NaN  \n",
       "117758          NaN  \n",
       "117759          NaN  \n",
       "117760          NaN  \n",
       "117761          NaN  \n",
       "\n",
       "[117762 rows x 27 columns]"
      ]
     },
     "execution_count": 80,
     "metadata": {},
     "output_type": "execute_result"
    }
   ],
   "source": [
    "data = pd.read_csv('../data/'+project+'/data_query_files/querry.csv').rename(columns=rename)\n",
    "data"
   ]
  },
  {
   "cell_type": "code",
   "execution_count": 87,
   "metadata": {},
   "outputs": [
    {
     "data": {
      "text/plain": [
       "Index(['subset', 'folder_short', 'folder', 'name', 'image', 'parent_id', 'id',\n",
       "       'scene', 'area', 'x', 'y', 'max_1', 'max_2', 'mean_1', 'mean_2',\n",
       "       'min_1', 'min_2', 'sum_1', 'sum_2', 'range_1', 'range_2', 'std_1',\n",
       "       'std_2', 'sum1_1', 'sum1_2', 'sum2_1', 'sum2_2'],\n",
       "      dtype='object')"
      ]
     },
     "execution_count": 87,
     "metadata": {},
     "output_type": "execute_result"
    }
   ],
   "source": [
    "data.columns"
   ]
  },
  {
   "cell_type": "code",
   "execution_count": 5,
   "metadata": {},
   "outputs": [
    {
     "name": "stdout",
     "output_type": "stream",
     "text": [
      "\u001b[7m<U+FEFF>\u001b[mText Between Delimiters,Folder Short,Folder Path,Source.Name,ImageDocumentName::Image Name,ParentID::ID of the parent!!I,ID::ID!!I,ImageSceneName::Image Scene Name ,Area1::Area Unscaled!!R,CenterX1::Center X Unscaled!!R,CenterY1::Center Y Unscaled!!R,IntensityMaximum_TV1-T1-SR::Intensity Maximum of channel 'TV1-T1-SR'!!R,IntensityMaximum_TV2-T1-SR::Intensity Maximum of channel 'TV2-T1-SR'!!R,IntensityMean_TV1-T1-SR::Intensity Mean Value of channel 'TV1-T1-SR'!!R,IntensityMean_TV2-T1-SR::Intensity Mean Value of channel 'TV2-T1-SR'!!R,IntensityMinimum_TV1-T1-SR::Intensity Minimum of channel 'TV1-T1-SR'!!R,IntensityMinimum_TV2-T1-SR::Intensity Minimum of channel 'TV2-T1-SR'!!R,IntensitySum0_TV1-T1-SR::Intensity Pixel Count of channel 'TV1-T1-SR'!!R,IntensitySum0_TV2-T1-SR::Intensity Pixel Count of channel 'TV2-T1-SR'!!R,IntensityRange_TV1-T1-SR::Intensity Range of channel 'TV1-T1-SR'!!R,IntensityRange_TV2-T1-SR::Intensity Range of channel 'TV2-T1-SR'!!R,IntensityStd_TV1-T1-SR::Intensity Standard Deviation of channel 'TV1-T1-SR'!!R,IntensityStd_TV2-T1-SR::Intensity Standard Deviation of channel 'TV2-T1-SR'!!R,IntensitySum1_TV1-T1-SR::Intensity Sum of channel 'TV1-T1-SR'!!R,IntensitySum1_TV2-T1-SR::Intensity Sum of channel 'TV2-T1-SR'!!R,IntensitySum2_TV1-T1-SR::Intensity Sum Squares of channel 'TV1-T1-SR'!!R,IntensitySum2_TV2-T1-SR::Intensity Sum Squares of channel 'TV2-T1-SR'!!R\n",
      "Subset10,AAVS1_CRISPR_MED1\\AAVS1_CRISPR_MED1 Image7\\,C:\\Users\\M232498\\Desktop\\Ju\\GDrive\\IF FISH final\\AAVS1_CRISPR_MED1\\AAVS1_CRISPR_MED1 Image7\\,Image 7_Subset10_Out_Maximum intensity projection__ Green Dots.csv,,,,,pixel²,pixel,pixel,Unknown,Unknown,Unknown,Unknown,Unknown,Unknown,pixel²,pixel²,Unknown,Unknown,Unknown,Unknown,Unknown,Unknown,Unknown²,Unknown²\n",
      "\u001b[K:\u001b[K"
     ]
    }
   ],
   "source": [
    "cat ../data/$project/data_query_files/querry.csv | less"
   ]
  },
  {
   "cell_type": "code",
   "execution_count": null,
   "metadata": {},
   "outputs": [],
   "source": [
    "data.iloc[0].tolist()"
   ]
  },
  {
   "cell_type": "code",
   "execution_count": null,
   "metadata": {},
   "outputs": [],
   "source": [
    "set(data.folder_short)"
   ]
  },
  {
   "cell_type": "code",
   "execution_count": null,
   "metadata": {},
   "outputs": [],
   "source": [
    "cond = {'AAVS1_CRISPR_MED1\\\\AAVS1_CRISPR_MED1 Image7\\\\':'AAVS1',\n",
    " 'IF FISH final\\\\AAVS1_CRISPR_MEF2D\\\\':'AAVS1',\n",
    " 'IF FISH final\\\\IRF2BP2_excel\\\\':'',\n",
    " 'IF FISH final\\\\MEF2C_excel\\\\':'',\n",
    " 'IF FISH final\\\\MEF2D_CRISPR_MED1\\\\':'MEF2D',\n",
    " 'IF FISH final\\\\MEF2D_CRISPR_MEF2D\\\\':'MEF2D',\n",
    " 'IF FISH final\\\\Runx2_excel\\\\':''}"
   ]
  },
  {
   "cell_type": "code",
   "execution_count": null,
   "metadata": {},
   "outputs": [],
   "source": [
    "prot = {'AAVS1_CRISPR_MED1\\\\AAVS1_CRISPR_MED1 Image7\\\\':'MED1',\n",
    " 'IF FISH final\\\\AAVS1_CRISPR_MEF2D\\\\':'MEF2D',\n",
    " 'IF FISH final\\\\IRF2BP2_excel\\\\':'IRF2BP2',\n",
    " 'IF FISH final\\\\MEF2C_excel\\\\':'MEF2C',\n",
    " 'IF FISH final\\\\MEF2D_CRISPR_MED1\\\\':'MED1',\n",
    " 'IF FISH final\\\\MEF2D_CRISPR_MEF2D\\\\':'MEF2D',\n",
    " 'IF FISH final\\\\Runx2_excel\\\\':'RUNX2'}"
   ]
  },
  {
   "cell_type": "code",
   "execution_count": null,
   "metadata": {},
   "outputs": [],
   "source": [
    "data = data[~data.name.str.contains('Classes')]"
   ]
  },
  {
   "cell_type": "code",
   "execution_count": null,
   "metadata": {},
   "outputs": [],
   "source": [
    "data['condition'] = [cond[i] for i in data.folder_short]"
   ]
  },
  {
   "cell_type": "code",
   "execution_count": null,
   "metadata": {},
   "outputs": [],
   "source": [
    "data['protein'] = [prot[i] for i in data.folder_short]"
   ]
  },
  {
   "cell_type": "code",
   "execution_count": null,
   "metadata": {},
   "outputs": [],
   "source": [
    "data['type'] = [i.split('.')[0].split('_')[-1] for i in data.name]"
   ]
  },
  {
   "cell_type": "code",
   "execution_count": null,
   "metadata": {},
   "outputs": [],
   "source": [
    "data['name'] = [cond[i]+'_'+prot[i] for i in data.folder_short]"
   ]
  },
  {
   "cell_type": "code",
   "execution_count": null,
   "metadata": {},
   "outputs": [],
   "source": [
    "set(data.type)"
   ]
  },
  {
   "cell_type": "code",
   "execution_count": null,
   "metadata": {},
   "outputs": [],
   "source": [
    "data = data[~data.id.isna()]"
   ]
  },
  {
   "cell_type": "code",
   "execution_count": null,
   "metadata": {},
   "outputs": [],
   "source": [
    "set(data.subset)"
   ]
  },
  {
   "cell_type": "code",
   "execution_count": null,
   "metadata": {},
   "outputs": [],
   "source": [
    "data = data.drop(columns=['scene','image','folder','folder_short'])"
   ]
  },
  {
   "cell_type": "code",
   "execution_count": null,
   "metadata": {},
   "outputs": [],
   "source": [
    "data['subset'] = [i.split('Subset')[-1] for i in data.subset]"
   ]
  },
  {
   "cell_type": "code",
   "execution_count": null,
   "metadata": {},
   "outputs": [],
   "source": [
    "for val in ['area','x','y','max_1','max_2','mean_1','mean_2','min_1','min_2','range_1','range_2','std_1','std_2','sum_1','sum_2','sum1_1','sum1_2','sum2_1','sum2_2']:\n",
    "    data[val]= data[val].astype(float)"
   ]
  },
  {
   "cell_type": "code",
   "execution_count": null,
   "metadata": {},
   "outputs": [],
   "source": [
    "for val in ['subset','parent_id','id']:\n",
    "    data[val] = data[val].astype('int')"
   ]
  },
  {
   "cell_type": "code",
   "execution_count": null,
   "metadata": {},
   "outputs": [],
   "source": [
    "len(data.id)"
   ]
  },
  {
   "cell_type": "markdown",
   "metadata": {},
   "source": [
    "# results"
   ]
  },
  {
   "cell_type": "markdown",
   "metadata": {},
   "source": [
    "## why we are not doing a monte carlo but just a hypthesis testing on a binomial\n",
    "\n",
    "monte carlo would be useful in our case if we did not know the expected distribution.\n",
    "given a way to generate our distribution (which specific parameters can be learnt from the data) we might be able to express what would be the null hypothesis by estimating this unknown distribution. it is useful for when we don't know the exact distribution or when it is too complex to analytically solve.  \n",
    "\n",
    "However in our case we can approximate the distribution well enough by a binomial. It is true that given that the dna will not have the same density everywhere on the nucleus, that the dots will have themselves variable intensity and size, which might express or not a multiplicity of points, the distribution is not a binomial. \n",
    "\n",
    "But you said yourself that for all purposes we could simplify these hypothesis. \n",
    "\n",
    "I also don't think that we have enough data points to correctly estimate the monte carlo parameters. \n",
    "\n",
    "A binomial is thus enough for this analysis\n",
    "\n",
    "### having specificities in the data needing to be modelled:\n",
    "\n",
    "I found that the data has specific bias that still need to be taken in account while not needing to change the statistics:\n",
    "\n",
    "the avg size of a MYC dot is 350 whereas the one of a MYC green is 45"
   ]
  },
  {
   "cell_type": "code",
   "execution_count": null,
   "metadata": {},
   "outputs": [],
   "source": [
    "def desc(data):\n",
    "    return data.sum()/data.mean(),len(data)\n",
    "# for each group\n",
    "res = {}\n",
    "for val in set(data.name):\n",
    "    print('\\n',val)\n",
    "    group = data[data.name==val]\n",
    "    space = group[group.type=='Nucleus'].area.sum()\n",
    "    totsize = group[group.type==' Green Dots'].area.sum()\n",
    "                 \n",
    "    coloc,s_coloc = desc(group[group.type=='MYC  Green'].area)\n",
    "    outside,s_outside = desc(group[group.type=='MYC'].area)\n",
    "    print('data: \\n  - total nucleuses size: '+str(int(space))+'\\n  - total Green dot size: '+str(int(totsize))+'\\n  - counts for coloc: '+str(int(s_coloc))+'\\n  - counts for not coloc: '+str(int(s_outside))) \n",
    "    p_in = totsize/space\n",
    "    isin = coloc/(outside+coloc)\n",
    "    res[val] = [s_coloc,s_outside]\n",
    "    print('proba: (null, obs)',p_in,isin)\n",
    "    print('nb of datapoints: ',s_coloc+s_outside)\n",
    "    print('p_value: ',binom_test([s_coloc,s_outside],p=p_in))"
   ]
  },
  {
   "cell_type": "markdown",
   "metadata": {},
   "source": [
    "from this analysis it seems clear that the colocalization happens less than 50% of the time in any condition but that we have colocalization with MYC for all analyzed proteins compared to random chance, given the data extracted by the algorithm and the assumption we made."
   ]
  },
  {
   "cell_type": "code",
   "execution_count": null,
   "metadata": {},
   "outputs": [],
   "source": [
    "fisher_exact([res['AAVS1_MED1'], res['MEF2D_MED1']])"
   ]
  },
  {
   "cell_type": "code",
   "execution_count": null,
   "metadata": {},
   "outputs": [],
   "source": [
    "fisher_exact([res['AAVS1_MEF2D'], res['MEF2D_MEF2D']])"
   ]
  },
  {
   "cell_type": "markdown",
   "metadata": {},
   "source": [
    "we thus have much 1.7 times more colocalization of MEF2D when MEF2D is degraded vs when it is not and 2 times less colocalization of MED1 but p_val of .1"
   ]
  },
  {
   "cell_type": "markdown",
   "metadata": {},
   "source": [
    "# running new version"
   ]
  },
  {
   "cell_type": "markdown",
   "metadata": {},
   "source": [
    "## Loading"
   ]
  },
  {
   "cell_type": "code",
   "execution_count": 4,
   "metadata": {},
   "outputs": [],
   "source": [
    "project='FishSuperResColoc'\n",
    "version='v3'"
   ]
  },
  {
   "cell_type": "code",
   "execution_count": 531,
   "metadata": {},
   "outputs": [],
   "source": [
    "csvs = ! ls ../data/$project/Yaser3/*/*.csv\n",
    "res = pd.DataFrame()\n",
    "for val in csvs:\n",
    "    v = pd.read_csv(val,).drop(index=0)\n",
    "    v['filename'] = '-'.join(val.split('/')[-2].split('-')[2:])\n",
    "    res = res.append(v)\n",
    "res = res.rename(columns=rename)\n",
    "res.parent_id = res.parent_id.astype(int)\n",
    "res.id = res.id.astype(int)\n",
    "res.area = res.area.astype(float)\n",
    "res = res.reset_index(drop=True)"
   ]
  },
  {
   "cell_type": "code",
   "execution_count": 532,
   "metadata": {},
   "outputs": [],
   "source": [
    "zsize = 85 "
   ]
  },
  {
   "cell_type": "markdown",
   "metadata": {},
   "source": [
    "## labelling"
   ]
  },
  {
   "cell_type": "code",
   "execution_count": 533,
   "metadata": {},
   "outputs": [
    {
     "data": {
      "text/plain": [
       "{'MED1-MYC_MEF2D-DMSO-G1',\n",
       " 'MED1-MYC_MEF2D-VHL-G1',\n",
       " 'MEF2D-MYC_MEF2D-DMSO-G1',\n",
       " 'MEF2D-MYC_MEF2D-VHL-G1'}"
      ]
     },
     "execution_count": 533,
     "metadata": {},
     "output_type": "execute_result"
    }
   ],
   "source": [
    "values =  ['area', 'x', 'y', \"z\", \"scale_x\", \"scale_y\", \"count_red\", \"count_green\", \"max_red\", \"max_green\", \"max_dapi\", \"mean_red\", \"mean_green\", \"mean_dapi\", \"min_red\", \"min_green\", \"min_dapi\", \"pixsum_red\", \"pixsum_green\", \"pixsum_dapi\", \"range_red\", \"range_green\", \"range_dapi\", \"std_red\", \"std_green\", \"std_dapi\", \"sum_red\", \"sum_green\", \"sum_dapi\", \"sum2_red\", \"sum2_green\", \"sum2_dapi\"]\n",
    "res[values] = pd.concat([res[i].astype(str).str.replace('  ','0').replace(' ','0').replace('', '0').replace('None',\"0\").astype(float) for i in values], axis=1)\n",
    "res['x']= res['x']*res[\"scale_x\"]\n",
    "res['y']= res['y']*res[\"scale_y\"]\n",
    "res[\"z\"]= res['z']*zsize\n",
    "res = res.drop(columns=['area_u',\"scale_x\",'scale_y'])\n",
    "set(res['filename'])"
   ]
  },
  {
   "cell_type": "code",
   "execution_count": 534,
   "metadata": {
    "scrolled": true
   },
   "outputs": [
    {
     "data": {
      "text/plain": [
       "{'Image 11_Out_Channel Alignment_P1-1.czi',\n",
       " 'Image 11_Out_Channel Alignment_P1-1_2.czi',\n",
       " 'Image 11_Out_Channel Alignment_P1-2.czi',\n",
       " 'Image 11_Out_Channel Alignment_P1-2_2.czi',\n",
       " 'Image 11_Out_Channel Alignment_P2-1.czi',\n",
       " 'Image 11_Out_Channel Alignment_P2-1_2.czi',\n",
       " 'Image 11_Out_Channel Alignment_P2-1_3.czi',\n",
       " 'Image 11_Out_Channel Alignment_P2-2.czi',\n",
       " 'Image 11_Out_Channel Alignment_P2-2_2.czi',\n",
       " 'Image 11_Out_Channel Alignment_P2-3_Subset.czi',\n",
       " 'Image 11_Out_Channel Alignment_P3.czi',\n",
       " 'Image 11_Out_Channel Alignment_P3_1.czi',\n",
       " 'Image 11_Out_Channel Alignment_P4-1.czi',\n",
       " 'Image 11_Out_Channel Alignment_P4-2-2.czi',\n",
       " 'Image 11_Out_Channel Alignment_P4-2-2_2.czi',\n",
       " 'Image 11_Out_Channel Alignment_P4-2.czi',\n",
       " 'Image 11_Out_Channel Alignment_P4-2_1.czi',\n",
       " 'Image 11_Out_Channel Alignment_P4-2_2.czi',\n",
       " 'Image 11_Out_Channel Alignment_P4-2_3.czi',\n",
       " 'Image 11_Out_Channel Alignment_P5.czi',\n",
       " 'Image 11_Out_Channel Alignment_P5_2.czi',\n",
       " 'Image 11_Out_Channel Alignment_P6-1.czi',\n",
       " 'Image 11_Out_Channel Alignment_P6-1_2.czi',\n",
       " 'Image 11_Out_Channel Alignment_P6-2.czi',\n",
       " 'Image 11_Out_Channel Alignment_P6-3.czi',\n",
       " 'Image 11_Out_Channel Alignment_P6-3_2.czi',\n",
       " 'Image 11_Out_Channel Alignment_P7-1.czi',\n",
       " 'Image 13_SIM_Channel Alignment_P1-1.czi',\n",
       " 'Image 13_SIM_Channel Alignment_P1-2.czi',\n",
       " 'Image 13_SIM_Channel Alignment_P1-2_2.czi',\n",
       " 'Image 13_SIM_Channel Alignment_P1-3.czi',\n",
       " 'Image 13_SIM_Channel Alignment_P1-3_2.czi',\n",
       " 'Image 13_SIM_Channel Alignment_P2-1.czi',\n",
       " 'Image 13_SIM_Channel Alignment_P2-1_2.czi',\n",
       " 'Image 13_SIM_Channel Alignment_P2-2.czi',\n",
       " 'Image 13_SIM_Channel Alignment_P2-2_2.czi',\n",
       " 'Image 13_SIM_Channel Alignment_P2-4.czi',\n",
       " 'Image 13_SIM_Channel Alignment_P2-5_Subset.czi',\n",
       " 'Image 13_SIM_Channel Alignment_P3-1.czi',\n",
       " 'Image 13_SIM_Channel Alignment_P3-1_2.czi',\n",
       " 'Image 13_SIM_Channel Alignment_P3-3.czi',\n",
       " 'Image 13_SIM_Channel Alignment_P3-3_2.czi',\n",
       " 'Image 13_SIM_Channel Alignment_P3-4.czi',\n",
       " 'Image 13_SIM_Channel Alignment_P3-4_2.czi',\n",
       " 'Image 13_SIM_Channel Alignment_P3-5.czi',\n",
       " 'Image 13_SIM_Channel Alignment_P3-5_2.czi',\n",
       " 'Image 13_SIM_Channel Alignment_P4-1.czi',\n",
       " 'Image 13_SIM_Channel Alignment_P4-2.czi',\n",
       " 'Image 13_SIM_Channel Alignment_P4-2_2.czi',\n",
       " 'Image 13_SIM_Channel Alignment_P4-3.czi',\n",
       " 'Image 13_SIM_Channel Alignment_P4-3_2.czi',\n",
       " 'Image 13_SIM_Channel Alignment_P5-1_1Subset.czi',\n",
       " 'Image 13_SIM_Channel Alignment_P5-1_Subset.czi',\n",
       " 'Image 1_P1-1.czi',\n",
       " 'Image 1_P1-1_2.czi',\n",
       " 'Image 1_P1-2.czi',\n",
       " 'Image 1_P1-2_2.czi',\n",
       " 'Image 4_P1-1.czi',\n",
       " 'Image 4_P3-1.czi',\n",
       " 'Image 4_P3-1_2.czi',\n",
       " 'Image 4_P3-2.czi',\n",
       " 'Image 4_P3-2_1.czi',\n",
       " 'Image 4_P4-1.czi',\n",
       " 'Image 4_P4-2.czi',\n",
       " 'Image 4_P4-2_2.czi',\n",
       " 'Image 4_P5-1.czi',\n",
       " 'Image 4_P5-2.czi',\n",
       " 'Image 4_P5-2_2.czi',\n",
       " 'Image 4_P5-3.czi',\n",
       " 'Image 4_P5-3_2.czi',\n",
       " 'Image 4_P5-4.czi',\n",
       " 'Image 4_P6-1.czi',\n",
       " 'Image 4_P6-1_1.czi',\n",
       " 'Image 4_P6-2.czi',\n",
       " 'Image 4_P6-3.czi',\n",
       " 'Image 4_P6-4.czi',\n",
       " 'Image 4_P7-1.czi',\n",
       " 'Image 4_P7-2.czi',\n",
       " 'Image 4_P9-1.czi',\n",
       " 'Image 5_P1-1.czi',\n",
       " 'Image 5_P1-1_1.czi',\n",
       " 'Image 5_P1-1_2.czi',\n",
       " 'Image 5_P1-2.czi',\n",
       " 'Image 5_P1-2_1.czi',\n",
       " 'Image 5_P1-3.czi',\n",
       " 'Image 5_P1-4.czi',\n",
       " 'Image 5_P1-4_1.czi',\n",
       " 'Image 5_P1-5.czi',\n",
       " 'Image 5_P2-1.czi',\n",
       " 'Image 5_P2-1_1.czi',\n",
       " 'Image 5_P2-1_2.czi',\n",
       " 'Image 5_P2-2.czi',\n",
       " 'Image 5_P2-2_1.czi',\n",
       " 'Image 5_P2-3.czi',\n",
       " 'Image 5_P2-4.czi',\n",
       " 'Image 5_P3-1.czi',\n",
       " 'Image 5_P3-2.czi',\n",
       " 'Image 5_P3-3.czi',\n",
       " 'Image 5_P4-1.czi',\n",
       " 'Image 5_P4-2.czi',\n",
       " 'Image 5_P4-2_1.czi',\n",
       " 'Image 5_P4-3_1.czi',\n",
       " 'Image 5_P5-1.czi',\n",
       " 'Image 5_P5-1_1.czi'}"
      ]
     },
     "execution_count": 534,
     "metadata": {},
     "output_type": "execute_result"
    }
   ],
   "source": [
    "set(res['image'])"
   ]
  },
  {
   "cell_type": "code",
   "execution_count": 535,
   "metadata": {
    "scrolled": false
   },
   "outputs": [
    {
     "name": "stderr",
     "output_type": "stream",
     "text": [
      "<ipython-input-535-f6b99e8e6f64>:1: FutureWarning: The default value of regex will change from True to False in a future version.\n",
      "  imageinfo = res['image'].str.replace('Subset.czi', '').str.replace('.czi', '').str.replace('Image ', '').str.replace('_SIM_Channel Alignment_P', \"--\").str.replace('_Out_Channel Alignment_P',\"--\").str.replace('_P', '--')\n"
     ]
    },
    {
     "data": {
      "text/plain": [
       "{'MED1-MYC_MEF2D', 'MEF2D-MYC_MEF2D'}"
      ]
     },
     "execution_count": 535,
     "metadata": {},
     "output_type": "execute_result"
    }
   ],
   "source": [
    "imageinfo = res['image'].str.replace('Subset.czi', '').str.replace('.czi', '').str.replace('Image ', '').str.replace('_SIM_Channel Alignment_P', \"--\").str.replace('_Out_Channel Alignment_P',\"--\").str.replace('_P', '--')\n",
    "res['group'] = res['filename'] + \"--\" + imageinfo\n",
    "# todo redo\n",
    "res['exp'] = ['-'.join(i.split('-')[:2]) for i in res.filename]\n",
    "res['treat'] = [i.split('-')[-2] for i in res.filename]\n",
    "res['image'] = [i.split('--')[0] for i in imageinfo]\n",
    "res['part'] = [i.split('--')[-1] for i in imageinfo]\n",
    "set(res.exp)"
   ]
  },
  {
   "cell_type": "code",
   "execution_count": 536,
   "metadata": {},
   "outputs": [
    {
     "data": {
      "text/plain": [
       "count_red       0.491960\n",
       "count_green    14.221591\n",
       "dtype: float64"
      ]
     },
     "execution_count": 536,
     "metadata": {},
     "output_type": "execute_result"
    }
   ],
   "source": [
    "res['class'] = res['class'].replace({'Orange':\"dapi\", 'Fuchsia': \"green\", \"Yellow\": 'red'})\n",
    "res = res.drop(index=res[res['class'].isna()].index)\n",
    "\n",
    "vals=['parent_id',\"id\",\"area\",\"x\",'y',\"z\",\"count_red\",\"count_green\"]\n",
    "res[vals] = res[vals].astype(int)\n",
    "cells = res[res[\"parent_id\"]==1]\n",
    "dots = res[res[\"parent_id\"]!=1]\n",
    "cells[['count_red','count_green']].mean()"
   ]
  },
  {
   "cell_type": "code",
   "execution_count": 537,
   "metadata": {
    "scrolled": false
   },
   "outputs": [
    {
     "data": {
      "text/plain": [
       "(9328, 137248, 143)"
      ]
     },
     "execution_count": 537,
     "metadata": {},
     "output_type": "execute_result"
    }
   ],
   "source": [
    "len(cells),len(dots), res['id'].max()"
   ]
  },
  {
   "cell_type": "markdown",
   "metadata": {},
   "source": [
    "## colocallizing"
   ]
  },
  {
   "cell_type": "code",
   "execution_count": 538,
   "metadata": {
    "scrolled": true
   },
   "outputs": [
    {
     "name": "stdout",
     "output_type": "stream",
     "text": [
      "MEF2D-MYC_MEF2D-VHL-G1--5--5-1\n",
      "MEF2D-MYC_MEF2D-VHL-G1--5--3-1\n"
     ]
    },
    {
     "name": "stderr",
     "output_type": "stream",
     "text": [
      "/home/jeremie/genepy/genepy/imaging/fish.py:17: SettingWithCopyWarning: \n",
      "A value is trying to be set on a copy of a slice from a DataFrame.\n",
      "Try using .loc[row_indexer,col_indexer] = value instead\n",
      "\n",
      "See the caveats in the documentation: https://pandas.pydata.org/pandas-docs/stable/user_guide/indexing.html#returning-a-view-versus-a-copy\n",
      "  gdot[mergedidcol]=None\n",
      "/opt/conda/lib/python3.8/site-packages/pandas/core/indexing.py:1720: SettingWithCopyWarning: \n",
      "A value is trying to be set on a copy of a slice from a DataFrame.\n",
      "Try using .loc[row_indexer,col_indexer] = value instead\n",
      "\n",
      "See the caveats in the documentation: https://pandas.pydata.org/pandas-docs/stable/user_guide/indexing.html#returning-a-view-versus-a-copy\n",
      "  self._setitem_single_column(loc, value, pi)\n"
     ]
    },
    {
     "name": "stdout",
     "output_type": "stream",
     "text": [
      "MED1-MYC_MEF2D-VHL-G1--11--2-2\n",
      "MEF2D-MYC_MEF2D-VHL-G1--5--1-1_2\n",
      "MED1-MYC_MEF2D-DMSO-G1--13--4-3_2\n",
      "MED1-MYC_MEF2D-VHL-G1--11--3\n",
      "MEF2D-MYC_MEF2D-DMSO-G1--4--3-1\n",
      "MED1-MYC_MEF2D-VHL-G1--11--6-3_2\n",
      "MED1-MYC_MEF2D-DMSO-G1--13--3-3\n",
      "MEF2D-MYC_MEF2D-DMSO-G1--4--3-2_1\n",
      "MEF2D-MYC_MEF2D-VHL-G1--5--1-1\n",
      "MED1-MYC_MEF2D-DMSO-G1--13--4-3\n",
      "MEF2D-MYC_MEF2D-VHL-G1--5--2-3\n",
      "MEF2D-MYC_MEF2D-VHL-G1--5--4-1\n",
      "MED1-MYC_MEF2D-VHL-G1--11--4-2-2_2\n",
      "MED1-MYC_MEF2D-DMSO-G1--13--2-1\n",
      "MEF2D-MYC_MEF2D-VHL-G1--5--4-3_1\n",
      "MED1-MYC_MEF2D-VHL-G1--11--4-2_2\n",
      "MED1-MYC_MEF2D-DMSO-G1--13--5-1_1\n",
      "MEF2D-MYC_MEF2D-VHL-G1--5--4-2\n",
      "MEF2D-MYC_MEF2D-VHL-G1--5--2-4\n",
      "MEF2D-MYC_MEF2D-DMSO-G1--4--7-1\n",
      "MEF2D-MYC_MEF2D-DMSO-G1--4--4-1\n",
      "MED1-MYC_MEF2D-DMSO-G1--13--2-2\n",
      "MEF2D-MYC_MEF2D-DMSO-G1--1--1-1_2\n",
      "MED1-MYC_MEF2D-VHL-G1--11--3_1\n",
      "MEF2D-MYC_MEF2D-DMSO-G1--4--3-1_2\n",
      "MED1-MYC_MEF2D-VHL-G1--11--2-2_2\n",
      "MED1-MYC_MEF2D-VHL-G1--11--4-2-2\n",
      "MEF2D-MYC_MEF2D-DMSO-G1--4--5-1\n",
      "MEF2D-MYC_MEF2D-DMSO-G1--1--1-2\n",
      "MEF2D-MYC_MEF2D-DMSO-G1--4--9-1\n",
      "MED1-MYC_MEF2D-DMSO-G1--13--3-5_2\n",
      "MED1-MYC_MEF2D-DMSO-G1--13--4-2_2\n",
      "MED1-MYC_MEF2D-VHL-G1--11--4-2_3\n",
      "MED1-MYC_MEF2D-DMSO-G1--13--3-1_2\n",
      "MEF2D-MYC_MEF2D-DMSO-G1--4--5-3\n",
      "MEF2D-MYC_MEF2D-VHL-G1--5--1-2\n",
      "MEF2D-MYC_MEF2D-VHL-G1--5--4-2_1\n",
      "MED1-MYC_MEF2D-DMSO-G1--13--2-1_2\n",
      "MED1-MYC_MEF2D-VHL-G1--11--6-3\n",
      "MEF2D-MYC_MEF2D-DMSO-G1--1--1-2_2\n",
      "MEF2D-MYC_MEF2D-VHL-G1--5--5-1_1\n",
      "MED1-MYC_MEF2D-DMSO-G1--13--5-1_\n",
      "MEF2D-MYC_MEF2D-VHL-G1--5--2-1\n",
      "MED1-MYC_MEF2D-DMSO-G1--13--2-5_\n",
      "MED1-MYC_MEF2D-DMSO-G1--13--1-3_2\n",
      "MEF2D-MYC_MEF2D-VHL-G1--5--2-2\n",
      "MED1-MYC_MEF2D-DMSO-G1--13--2-4\n",
      "MED1-MYC_MEF2D-VHL-G1--11--6-2\n",
      "MED1-MYC_MEF2D-VHL-G1--11--2-1\n",
      "MED1-MYC_MEF2D-DMSO-G1--13--2-2_2\n",
      "MEF2D-MYC_MEF2D-VHL-G1--5--2-1_2\n",
      "MED1-MYC_MEF2D-VHL-G1--11--1-1_2\n",
      "MED1-MYC_MEF2D-DMSO-G1--13--1-2_2\n",
      "MEF2D-MYC_MEF2D-DMSO-G1--4--5-2\n",
      "MED1-MYC_MEF2D-DMSO-G1--13--4-2\n",
      "MEF2D-MYC_MEF2D-VHL-G1--5--1-3\n",
      "MED1-MYC_MEF2D-DMSO-G1--13--3-1\n",
      "MED1-MYC_MEF2D-VHL-G1--11--5_2\n",
      "MEF2D-MYC_MEF2D-DMSO-G1--4--3-2\n",
      "MED1-MYC_MEF2D-VHL-G1--11--2-1_3\n",
      "MED1-MYC_MEF2D-DMSO-G1--13--4-1\n",
      "MEF2D-MYC_MEF2D-VHL-G1--5--1-4\n",
      "MEF2D-MYC_MEF2D-DMSO-G1--4--5-4\n",
      "MED1-MYC_MEF2D-VHL-G1--11--5\n",
      "MEF2D-MYC_MEF2D-VHL-G1--5--3-3\n",
      "MED1-MYC_MEF2D-VHL-G1--11--7-1\n",
      "MEF2D-MYC_MEF2D-DMSO-G1--4--6-2\n",
      "MED1-MYC_MEF2D-VHL-G1--11--4-2_1\n",
      "MED1-MYC_MEF2D-VHL-G1--11--1-1\n",
      "MED1-MYC_MEF2D-VHL-G1--11--6-1\n",
      "MED1-MYC_MEF2D-VHL-G1--11--6-1_2\n",
      "MED1-MYC_MEF2D-VHL-G1--11--4-2\n",
      "MED1-MYC_MEF2D-VHL-G1--11--1-2\n",
      "MEF2D-MYC_MEF2D-DMSO-G1--1--1-1\n",
      "MEF2D-MYC_MEF2D-DMSO-G1--4--6-1\n",
      "MEF2D-MYC_MEF2D-DMSO-G1--4--1-1\n",
      "MEF2D-MYC_MEF2D-VHL-G1--5--1-4_1\n",
      "MED1-MYC_MEF2D-DMSO-G1--13--1-3\n",
      "MEF2D-MYC_MEF2D-VHL-G1--5--3-2\n",
      "MEF2D-MYC_MEF2D-VHL-G1--5--1-1_1\n",
      "MEF2D-MYC_MEF2D-DMSO-G1--4--6-4\n",
      "MED1-MYC_MEF2D-DMSO-G1--13--1-2\n",
      "MEF2D-MYC_MEF2D-DMSO-G1--4--4-2\n",
      "MED1-MYC_MEF2D-VHL-G1--11--2-3_\n",
      "MEF2D-MYC_MEF2D-DMSO-G1--4--6-3\n",
      "MEF2D-MYC_MEF2D-DMSO-G1--4--7-2\n",
      "MED1-MYC_MEF2D-DMSO-G1--13--3-5\n",
      "MEF2D-MYC_MEF2D-VHL-G1--5--1-2_1\n",
      "MED1-MYC_MEF2D-VHL-G1--11--2-1_2\n",
      "MEF2D-MYC_MEF2D-VHL-G1--5--2-2_1\n",
      "MEF2D-MYC_MEF2D-DMSO-G1--4--4-2_2\n",
      "MED1-MYC_MEF2D-DMSO-G1--13--3-3_2\n",
      "MEF2D-MYC_MEF2D-VHL-G1--5--2-1_1\n",
      "MED1-MYC_MEF2D-VHL-G1--11--4-1\n",
      "MED1-MYC_MEF2D-DMSO-G1--13--1-1\n",
      "MEF2D-MYC_MEF2D-DMSO-G1--4--5-2_2\n",
      "MEF2D-MYC_MEF2D-DMSO-G1--4--5-3_2\n",
      "MED1-MYC_MEF2D-DMSO-G1--13--3-4\n",
      "MEF2D-MYC_MEF2D-VHL-G1--5--1-5\n",
      "MED1-MYC_MEF2D-VHL-G1--11--1-2_2\n",
      "MED1-MYC_MEF2D-DMSO-G1--13--3-4_2\n",
      "MEF2D-MYC_MEF2D-DMSO-G1--4--6-1_1\n"
     ]
    }
   ],
   "source": [
    "mdots = fish.colocalize(dots, distance_scale=1.2)"
   ]
  },
  {
   "cell_type": "code",
   "execution_count": 539,
   "metadata": {
    "scrolled": true
   },
   "outputs": [
    {
     "data": {
      "text/plain": [
       "<matplotlib.axes._subplots.AxesSubplot at 0x7f5c77159220>"
      ]
     },
     "execution_count": 539,
     "metadata": {},
     "output_type": "execute_result"
    },
    {
     "data": {
      "image/png": "[encoded data removed]",
      "text/plain": [
       "<Figure size 432x288 with 1 Axes>"
      ]
     },
     "metadata": {
      "needs_background": "light"
     },
     "output_type": "display_data"
    }
   ],
   "source": [
    "sns.scatterplot(data=mdots[(mdots.group==\"MED1-MYC_MEF2D-VHL-G1--11--1-2_2\") & (mdots.x> 6000) & abs(mdots.x<6800) & (mdots.y>6000) & (mdots.y<6900)], x=\"x\", y=\"y\", hue=\"m_id\")"
   ]
  },
  {
   "cell_type": "markdown",
   "metadata": {},
   "source": [
    "## aggregating"
   ]
  },
  {
   "cell_type": "code",
   "execution_count": 540,
   "metadata": {},
   "outputs": [
    {
     "data": {
      "text/plain": [
       "'mean'"
      ]
     },
     "execution_count": 540,
     "metadata": {},
     "output_type": "execute_result"
    }
   ],
   "source": [
    "mdots = mdots.drop(columns=[\"parent_id\", \"id\", 'count_red', 'count_green', \"filename\"])\n",
    "grouping = {i: \"mean\" for i in mdots.columns}\n",
    "grouping.update({\n",
    "    \"image\": \"first\",\n",
    "    \"z\": [\"mean\", \"min\", \"max\"],\n",
    "    'area': [\"sum\", \"min\", \"max\"],\n",
    "    \"class\": \"unique\",\n",
    "    \"group\" : \"first\",\n",
    "    \"exp\" : \"first\",\n",
    "    \"treat\" : \"first\",\n",
    "    \"part\" : \"first\",\n",
    "    \"mean_red\" : [\"mean\", \"var\"],\n",
    "    \"mean_green\" : [\"mean\", \"var\"],\n",
    "    \"mean_dapi\" :[\"mean\", \"var\"],\n",
    "    \"pixsum_red\" : \"sum\",\n",
    "    \"pixsum_green\" : \"sum\",\n",
    "    \"pixsum_dapi\" : \"sum\",\n",
    "    \"sum_red\" : \"sum\",\n",
    "    \"sum_green\" : \"sum\",\n",
    "    \"sum_dapi\" : \"sum\",\n",
    "})\n",
    "grouping.pop('m_id')"
   ]
  },
  {
   "cell_type": "code",
   "execution_count": 541,
   "metadata": {},
   "outputs": [],
   "source": [
    "# merge into a same sample\n",
    "groups = mdots.groupby(\"m_id\")\n",
    "counts = groups['image'].count()\n",
    "mmdots = groups.agg(grouping)\n",
    "mmdots['counts'] = counts\n",
    "mmdots = mmdots[mmdots['counts']>1]\n",
    "mmdots.columns = [i[0] if \"first\" in i[1] else '_'.join(i) for i in mmdots.columns]\n",
    "#rename colors\n",
    "mmdots['class'] = [i[0] if len(i)==1 else \"cobinding\" for i in mmdots[\"class_unique\"]]\n",
    "mmdots = mmdots.drop(columns=\"class_unique\")\n",
    "mdots = mmdots"
   ]
  },
  {
   "cell_type": "code",
   "execution_count": 542,
   "metadata": {
    "scrolled": true
   },
   "outputs": [
    {
     "name": "stdout",
     "output_type": "stream",
     "text": [
      "MEF2D-MYC_MEF2D-VHL-G1--5--5-1\n",
      "MEF2D-MYC_MEF2D-VHL-G1--5--3-1\n",
      "MED1-MYC_MEF2D-VHL-G1--11--2-2\n"
     ]
    },
    {
     "name": "stderr",
     "output_type": "stream",
     "text": [
      "/home/jeremie/genepy/genepy/imaging/fish.py:17: SettingWithCopyWarning: \n",
      "A value is trying to be set on a copy of a slice from a DataFrame.\n",
      "Try using .loc[row_indexer,col_indexer] = value instead\n",
      "\n",
      "See the caveats in the documentation: https://pandas.pydata.org/pandas-docs/stable/user_guide/indexing.html#returning-a-view-versus-a-copy\n",
      "  gdot[mergedidcol]=None\n",
      "/opt/conda/lib/python3.8/site-packages/pandas/core/indexing.py:1720: SettingWithCopyWarning: \n",
      "A value is trying to be set on a copy of a slice from a DataFrame.\n",
      "Try using .loc[row_indexer,col_indexer] = value instead\n",
      "\n",
      "See the caveats in the documentation: https://pandas.pydata.org/pandas-docs/stable/user_guide/indexing.html#returning-a-view-versus-a-copy\n",
      "  self._setitem_single_column(loc, value, pi)\n"
     ]
    },
    {
     "name": "stdout",
     "output_type": "stream",
     "text": [
      "MEF2D-MYC_MEF2D-VHL-G1--5--1-1_2\n",
      "MED1-MYC_MEF2D-DMSO-G1--13--4-3_2\n",
      "MED1-MYC_MEF2D-VHL-G1--11--3\n",
      "MEF2D-MYC_MEF2D-DMSO-G1--4--3-1\n",
      "MED1-MYC_MEF2D-VHL-G1--11--6-3_2\n",
      "MED1-MYC_MEF2D-DMSO-G1--13--3-3\n",
      "MEF2D-MYC_MEF2D-DMSO-G1--4--3-2_1\n",
      "MEF2D-MYC_MEF2D-VHL-G1--5--1-1\n",
      "MED1-MYC_MEF2D-DMSO-G1--13--4-3\n",
      "MEF2D-MYC_MEF2D-VHL-G1--5--2-3\n",
      "MEF2D-MYC_MEF2D-VHL-G1--5--4-1\n",
      "MED1-MYC_MEF2D-VHL-G1--11--4-2-2_2\n",
      "MED1-MYC_MEF2D-DMSO-G1--13--2-1\n",
      "MEF2D-MYC_MEF2D-VHL-G1--5--4-3_1\n",
      "MED1-MYC_MEF2D-VHL-G1--11--4-2_2\n",
      "MED1-MYC_MEF2D-DMSO-G1--13--5-1_1\n",
      "MEF2D-MYC_MEF2D-VHL-G1--5--4-2\n",
      "MEF2D-MYC_MEF2D-VHL-G1--5--2-4\n",
      "MEF2D-MYC_MEF2D-DMSO-G1--4--4-1\n",
      "MED1-MYC_MEF2D-DMSO-G1--13--2-2\n",
      "MEF2D-MYC_MEF2D-DMSO-G1--1--1-1_2\n",
      "MED1-MYC_MEF2D-VHL-G1--11--3_1\n",
      "MEF2D-MYC_MEF2D-DMSO-G1--4--3-1_2\n",
      "MED1-MYC_MEF2D-VHL-G1--11--2-2_2\n",
      "MED1-MYC_MEF2D-VHL-G1--11--4-2-2\n",
      "MEF2D-MYC_MEF2D-DMSO-G1--4--5-1\n",
      "MEF2D-MYC_MEF2D-DMSO-G1--1--1-2\n",
      "MEF2D-MYC_MEF2D-DMSO-G1--4--9-1\n",
      "MED1-MYC_MEF2D-DMSO-G1--13--3-5_2\n",
      "MED1-MYC_MEF2D-DMSO-G1--13--4-2_2\n",
      "MED1-MYC_MEF2D-VHL-G1--11--4-2_3\n",
      "MED1-MYC_MEF2D-DMSO-G1--13--3-1_2\n",
      "MEF2D-MYC_MEF2D-DMSO-G1--4--5-3\n",
      "MEF2D-MYC_MEF2D-VHL-G1--5--1-2\n",
      "MEF2D-MYC_MEF2D-VHL-G1--5--4-2_1\n",
      "MED1-MYC_MEF2D-DMSO-G1--13--2-1_2\n",
      "MED1-MYC_MEF2D-VHL-G1--11--6-3\n",
      "MEF2D-MYC_MEF2D-DMSO-G1--1--1-2_2\n",
      "MEF2D-MYC_MEF2D-VHL-G1--5--5-1_1\n",
      "MED1-MYC_MEF2D-DMSO-G1--13--5-1_\n",
      "MEF2D-MYC_MEF2D-VHL-G1--5--2-1\n",
      "MED1-MYC_MEF2D-DMSO-G1--13--2-5_\n",
      "MED1-MYC_MEF2D-DMSO-G1--13--1-3_2\n",
      "MEF2D-MYC_MEF2D-VHL-G1--5--2-2\n",
      "MED1-MYC_MEF2D-DMSO-G1--13--2-4\n",
      "MED1-MYC_MEF2D-VHL-G1--11--6-2\n",
      "MED1-MYC_MEF2D-VHL-G1--11--2-1\n",
      "MED1-MYC_MEF2D-DMSO-G1--13--2-2_2\n",
      "MED1-MYC_MEF2D-VHL-G1--11--1-1_2\n",
      "MED1-MYC_MEF2D-DMSO-G1--13--1-2_2\n",
      "MEF2D-MYC_MEF2D-DMSO-G1--4--5-2\n",
      "MED1-MYC_MEF2D-DMSO-G1--13--4-2\n",
      "MEF2D-MYC_MEF2D-VHL-G1--5--1-3\n",
      "MED1-MYC_MEF2D-DMSO-G1--13--3-1\n",
      "MED1-MYC_MEF2D-VHL-G1--11--5_2\n",
      "MEF2D-MYC_MEF2D-DMSO-G1--4--3-2\n",
      "MED1-MYC_MEF2D-VHL-G1--11--2-1_3\n",
      "MED1-MYC_MEF2D-DMSO-G1--13--4-1\n",
      "MEF2D-MYC_MEF2D-DMSO-G1--4--5-4\n",
      "MED1-MYC_MEF2D-VHL-G1--11--5\n",
      "MEF2D-MYC_MEF2D-VHL-G1--5--3-3\n",
      "MED1-MYC_MEF2D-VHL-G1--11--7-1\n",
      "MEF2D-MYC_MEF2D-DMSO-G1--4--6-2\n",
      "MED1-MYC_MEF2D-VHL-G1--11--4-2_1\n",
      "MED1-MYC_MEF2D-VHL-G1--11--6-1\n",
      "MED1-MYC_MEF2D-VHL-G1--11--6-1_2\n",
      "MED1-MYC_MEF2D-VHL-G1--11--4-2\n",
      "MED1-MYC_MEF2D-VHL-G1--11--1-2\n",
      "MEF2D-MYC_MEF2D-DMSO-G1--1--1-1\n",
      "MEF2D-MYC_MEF2D-DMSO-G1--4--6-1\n",
      "MEF2D-MYC_MEF2D-DMSO-G1--4--1-1\n",
      "MEF2D-MYC_MEF2D-VHL-G1--5--1-4_1\n",
      "MED1-MYC_MEF2D-DMSO-G1--13--1-3\n",
      "MEF2D-MYC_MEF2D-VHL-G1--5--3-2\n",
      "MEF2D-MYC_MEF2D-VHL-G1--5--1-1_1\n",
      "MEF2D-MYC_MEF2D-DMSO-G1--4--6-4\n",
      "MED1-MYC_MEF2D-DMSO-G1--13--1-2\n",
      "MEF2D-MYC_MEF2D-DMSO-G1--4--4-2\n",
      "MED1-MYC_MEF2D-VHL-G1--11--2-3_\n",
      "MEF2D-MYC_MEF2D-DMSO-G1--4--6-3\n",
      "MEF2D-MYC_MEF2D-DMSO-G1--4--7-2\n",
      "MED1-MYC_MEF2D-DMSO-G1--13--3-5\n",
      "MEF2D-MYC_MEF2D-VHL-G1--5--1-2_1\n",
      "MED1-MYC_MEF2D-VHL-G1--11--2-1_2\n",
      "MEF2D-MYC_MEF2D-VHL-G1--5--2-2_1\n",
      "MEF2D-MYC_MEF2D-DMSO-G1--4--4-2_2\n",
      "MED1-MYC_MEF2D-DMSO-G1--13--3-3_2\n",
      "MEF2D-MYC_MEF2D-VHL-G1--5--2-1_1\n",
      "MED1-MYC_MEF2D-VHL-G1--11--4-1\n",
      "MED1-MYC_MEF2D-DMSO-G1--13--1-1\n",
      "MEF2D-MYC_MEF2D-DMSO-G1--4--5-2_2\n",
      "MEF2D-MYC_MEF2D-DMSO-G1--4--5-3_2\n",
      "MED1-MYC_MEF2D-DMSO-G1--13--3-4\n",
      "MEF2D-MYC_MEF2D-VHL-G1--5--1-5\n",
      "MED1-MYC_MEF2D-VHL-G1--11--1-2_2\n",
      "MED1-MYC_MEF2D-DMSO-G1--13--3-4_2\n",
      "MEF2D-MYC_MEF2D-DMSO-G1--4--6-1_1\n"
     ]
    },
    {
     "ename": "KeyError",
     "evalue": "\"['class_unique'] not found in axis\"",
     "output_type": "error",
     "traceback": [
      "\u001b[0;31m---------------------------------------------------------------------------\u001b[0m",
      "\u001b[0;31mKeyError\u001b[0m                                  Traceback (most recent call last)",
      "\u001b[0;32m<ipython-input-542-b4dc8724ef83>\u001b[0m in \u001b[0;36m<module>\u001b[0;34m\u001b[0m\n\u001b[1;32m     32\u001b[0m \u001b[0mmred\u001b[0m\u001b[0;34m.\u001b[0m\u001b[0mcolumns\u001b[0m \u001b[0;34m=\u001b[0m \u001b[0;34m[\u001b[0m\u001b[0mi\u001b[0m\u001b[0;34m[\u001b[0m\u001b[0;36m0\u001b[0m\u001b[0;34m]\u001b[0m \u001b[0;32mif\u001b[0m \u001b[0;34m\"first\"\u001b[0m \u001b[0;32min\u001b[0m \u001b[0mi\u001b[0m\u001b[0;34m[\u001b[0m\u001b[0;36m1\u001b[0m\u001b[0;34m]\u001b[0m \u001b[0;32melse\u001b[0m \u001b[0;34m'_'\u001b[0m\u001b[0;34m.\u001b[0m\u001b[0mjoin\u001b[0m\u001b[0;34m(\u001b[0m\u001b[0mi\u001b[0m\u001b[0;34m)\u001b[0m \u001b[0;32mfor\u001b[0m \u001b[0mi\u001b[0m \u001b[0;32min\u001b[0m \u001b[0mmred\u001b[0m\u001b[0;34m.\u001b[0m\u001b[0mcolumns\u001b[0m\u001b[0;34m]\u001b[0m\u001b[0;34m\u001b[0m\u001b[0;34m\u001b[0m\u001b[0m\n\u001b[1;32m     33\u001b[0m \u001b[0;31m#rename mred\u001b[0m\u001b[0;34m\u001b[0m\u001b[0;34m\u001b[0m\u001b[0;34m\u001b[0m\u001b[0m\n\u001b[0;32m---> 34\u001b[0;31m \u001b[0mmred\u001b[0m \u001b[0;34m=\u001b[0m \u001b[0mmred\u001b[0m\u001b[0;34m.\u001b[0m\u001b[0mdrop\u001b[0m\u001b[0;34m(\u001b[0m\u001b[0mcolumns\u001b[0m\u001b[0;34m=\u001b[0m\u001b[0;34m\"class_unique\"\u001b[0m\u001b[0;34m)\u001b[0m\u001b[0;34m\u001b[0m\u001b[0;34m\u001b[0m\u001b[0m\n\u001b[0m",
      "\u001b[0;32m/opt/conda/lib/python3.8/site-packages/pandas/core/frame.py\u001b[0m in \u001b[0;36mdrop\u001b[0;34m(self, labels, axis, index, columns, level, inplace, errors)\u001b[0m\n\u001b[1;32m   4303\u001b[0m                 \u001b[0mweight\u001b[0m  \u001b[0;36m1.0\u001b[0m     \u001b[0;36m0.8\u001b[0m\u001b[0;34m\u001b[0m\u001b[0;34m\u001b[0m\u001b[0m\n\u001b[1;32m   4304\u001b[0m         \"\"\"\n\u001b[0;32m-> 4305\u001b[0;31m         return super().drop(\n\u001b[0m\u001b[1;32m   4306\u001b[0m             \u001b[0mlabels\u001b[0m\u001b[0;34m=\u001b[0m\u001b[0mlabels\u001b[0m\u001b[0;34m,\u001b[0m\u001b[0;34m\u001b[0m\u001b[0;34m\u001b[0m\u001b[0m\n\u001b[1;32m   4307\u001b[0m             \u001b[0maxis\u001b[0m\u001b[0;34m=\u001b[0m\u001b[0maxis\u001b[0m\u001b[0;34m,\u001b[0m\u001b[0;34m\u001b[0m\u001b[0;34m\u001b[0m\u001b[0m\n",
      "\u001b[0;32m/opt/conda/lib/python3.8/site-packages/pandas/core/generic.py\u001b[0m in \u001b[0;36mdrop\u001b[0;34m(self, labels, axis, index, columns, level, inplace, errors)\u001b[0m\n\u001b[1;32m   4150\u001b[0m         \u001b[0;32mfor\u001b[0m \u001b[0maxis\u001b[0m\u001b[0;34m,\u001b[0m \u001b[0mlabels\u001b[0m \u001b[0;32min\u001b[0m \u001b[0maxes\u001b[0m\u001b[0;34m.\u001b[0m\u001b[0mitems\u001b[0m\u001b[0;34m(\u001b[0m\u001b[0;34m)\u001b[0m\u001b[0;34m:\u001b[0m\u001b[0;34m\u001b[0m\u001b[0;34m\u001b[0m\u001b[0m\n\u001b[1;32m   4151\u001b[0m             \u001b[0;32mif\u001b[0m \u001b[0mlabels\u001b[0m \u001b[0;32mis\u001b[0m \u001b[0;32mnot\u001b[0m \u001b[0;32mNone\u001b[0m\u001b[0;34m:\u001b[0m\u001b[0;34m\u001b[0m\u001b[0;34m\u001b[0m\u001b[0m\n\u001b[0;32m-> 4152\u001b[0;31m                 \u001b[0mobj\u001b[0m \u001b[0;34m=\u001b[0m \u001b[0mobj\u001b[0m\u001b[0;34m.\u001b[0m\u001b[0m_drop_axis\u001b[0m\u001b[0;34m(\u001b[0m\u001b[0mlabels\u001b[0m\u001b[0;34m,\u001b[0m \u001b[0maxis\u001b[0m\u001b[0;34m,\u001b[0m \u001b[0mlevel\u001b[0m\u001b[0;34m=\u001b[0m\u001b[0mlevel\u001b[0m\u001b[0;34m,\u001b[0m \u001b[0merrors\u001b[0m\u001b[0;34m=\u001b[0m\u001b[0merrors\u001b[0m\u001b[0;34m)\u001b[0m\u001b[0;34m\u001b[0m\u001b[0;34m\u001b[0m\u001b[0m\n\u001b[0m\u001b[1;32m   4153\u001b[0m \u001b[0;34m\u001b[0m\u001b[0m\n\u001b[1;32m   4154\u001b[0m         \u001b[0;32mif\u001b[0m \u001b[0minplace\u001b[0m\u001b[0;34m:\u001b[0m\u001b[0;34m\u001b[0m\u001b[0;34m\u001b[0m\u001b[0m\n",
      "\u001b[0;32m/opt/conda/lib/python3.8/site-packages/pandas/core/generic.py\u001b[0m in \u001b[0;36m_drop_axis\u001b[0;34m(self, labels, axis, level, errors)\u001b[0m\n\u001b[1;32m   4185\u001b[0m                 \u001b[0mnew_axis\u001b[0m \u001b[0;34m=\u001b[0m \u001b[0maxis\u001b[0m\u001b[0;34m.\u001b[0m\u001b[0mdrop\u001b[0m\u001b[0;34m(\u001b[0m\u001b[0mlabels\u001b[0m\u001b[0;34m,\u001b[0m \u001b[0mlevel\u001b[0m\u001b[0;34m=\u001b[0m\u001b[0mlevel\u001b[0m\u001b[0;34m,\u001b[0m \u001b[0merrors\u001b[0m\u001b[0;34m=\u001b[0m\u001b[0merrors\u001b[0m\u001b[0;34m)\u001b[0m\u001b[0;34m\u001b[0m\u001b[0;34m\u001b[0m\u001b[0m\n\u001b[1;32m   4186\u001b[0m             \u001b[0;32melse\u001b[0m\u001b[0;34m:\u001b[0m\u001b[0;34m\u001b[0m\u001b[0;34m\u001b[0m\u001b[0m\n\u001b[0;32m-> 4187\u001b[0;31m                 \u001b[0mnew_axis\u001b[0m \u001b[0;34m=\u001b[0m \u001b[0maxis\u001b[0m\u001b[0;34m.\u001b[0m\u001b[0mdrop\u001b[0m\u001b[0;34m(\u001b[0m\u001b[0mlabels\u001b[0m\u001b[0;34m,\u001b[0m \u001b[0merrors\u001b[0m\u001b[0;34m=\u001b[0m\u001b[0merrors\u001b[0m\u001b[0;34m)\u001b[0m\u001b[0;34m\u001b[0m\u001b[0;34m\u001b[0m\u001b[0m\n\u001b[0m\u001b[1;32m   4188\u001b[0m             \u001b[0mresult\u001b[0m \u001b[0;34m=\u001b[0m \u001b[0mself\u001b[0m\u001b[0;34m.\u001b[0m\u001b[0mreindex\u001b[0m\u001b[0;34m(\u001b[0m\u001b[0;34m**\u001b[0m\u001b[0;34m{\u001b[0m\u001b[0maxis_name\u001b[0m\u001b[0;34m:\u001b[0m \u001b[0mnew_axis\u001b[0m\u001b[0;34m}\u001b[0m\u001b[0;34m)\u001b[0m\u001b[0;34m\u001b[0m\u001b[0;34m\u001b[0m\u001b[0m\n\u001b[1;32m   4189\u001b[0m \u001b[0;34m\u001b[0m\u001b[0m\n",
      "\u001b[0;32m/opt/conda/lib/python3.8/site-packages/pandas/core/indexes/base.py\u001b[0m in \u001b[0;36mdrop\u001b[0;34m(self, labels, errors)\u001b[0m\n\u001b[1;32m   5589\u001b[0m         \u001b[0;32mif\u001b[0m \u001b[0mmask\u001b[0m\u001b[0;34m.\u001b[0m\u001b[0many\u001b[0m\u001b[0;34m(\u001b[0m\u001b[0;34m)\u001b[0m\u001b[0;34m:\u001b[0m\u001b[0;34m\u001b[0m\u001b[0;34m\u001b[0m\u001b[0m\n\u001b[1;32m   5590\u001b[0m             \u001b[0;32mif\u001b[0m \u001b[0merrors\u001b[0m \u001b[0;34m!=\u001b[0m \u001b[0;34m\"ignore\"\u001b[0m\u001b[0;34m:\u001b[0m\u001b[0;34m\u001b[0m\u001b[0;34m\u001b[0m\u001b[0m\n\u001b[0;32m-> 5591\u001b[0;31m                 \u001b[0;32mraise\u001b[0m \u001b[0mKeyError\u001b[0m\u001b[0;34m(\u001b[0m\u001b[0;34mf\"{labels[mask]} not found in axis\"\u001b[0m\u001b[0;34m)\u001b[0m\u001b[0;34m\u001b[0m\u001b[0;34m\u001b[0m\u001b[0m\n\u001b[0m\u001b[1;32m   5592\u001b[0m             \u001b[0mindexer\u001b[0m \u001b[0;34m=\u001b[0m \u001b[0mindexer\u001b[0m\u001b[0;34m[\u001b[0m\u001b[0;34m~\u001b[0m\u001b[0mmask\u001b[0m\u001b[0;34m]\u001b[0m\u001b[0;34m\u001b[0m\u001b[0;34m\u001b[0m\u001b[0m\n\u001b[1;32m   5593\u001b[0m         \u001b[0;32mreturn\u001b[0m \u001b[0mself\u001b[0m\u001b[0;34m.\u001b[0m\u001b[0mdelete\u001b[0m\u001b[0;34m(\u001b[0m\u001b[0mindexer\u001b[0m\u001b[0;34m)\u001b[0m\u001b[0;34m\u001b[0m\u001b[0;34m\u001b[0m\u001b[0m\n",
      "\u001b[0;31mKeyError\u001b[0m: \"['class_unique'] not found in axis\""
     ]
    }
   ],
   "source": [
    "mred = fish.colocalize(dots[dots['class']=='red'], distance_scale=1.2)\n",
    "\n",
    "mred = mred.drop(columns=[\"parent_id\", \"id\", 'count_red', 'count_green', \"filename\"])\n",
    "grouping = {i: \"mean\" for i in mred.columns}\n",
    "grouping.update({\n",
    "    \"image\": \"first\",\n",
    "    \"z\": [\"mean\", \"min\", \"max\"],\n",
    "    'area': [\"sum\", \"min\", \"max\"],\n",
    "    \"class\": \"first\",\n",
    "    \"group\" : \"first\",\n",
    "    \"exp\" : \"first\",\n",
    "    \"treat\" : \"first\",\n",
    "    \"part\" : \"first\",\n",
    "    \"mean_red\" : [\"mean\", \"var\"],\n",
    "    \"mean_green\" : [\"mean\", \"var\"],\n",
    "    \"mean_dapi\" :[\"mean\", \"var\"],\n",
    "    \"pixsum_red\" : \"sum\",\n",
    "    \"pixsum_green\" : \"sum\",\n",
    "    \"pixsum_dapi\" : \"sum\",\n",
    "    \"sum_red\" : \"sum\",\n",
    "    \"sum_green\" : \"sum\",\n",
    "    \"sum_dapi\" : \"sum\",\n",
    "})\n",
    "grouping.pop('m_id')\n",
    "\n",
    "# merge into a same sample\n",
    "groups = mred.groupby(\"m_id\")\n",
    "counts = groups['image'].count()\n",
    "mred = groups.agg(grouping)\n",
    "mred['counts'] = counts\n",
    "mred = mred[mred['counts']>1]\n",
    "mred.columns = [i[0] if \"first\" in i[1] else '_'.join(i) for i in mred.columns]\n",
    "#rename mred\n",
    "mred = mred.drop(columns=\"class_unique\")"
   ]
  },
  {
   "cell_type": "code",
   "execution_count": null,
   "metadata": {},
   "outputs": [],
   "source": [
    "#todo: tocode\n",
    "def aggregate(data, todrop, groupby, countcol, default_agg, optional_agg, mincount):\n",
    "    cells = cells.drop(columns=[\"max_red\", \"max_green\", \"max_dapi\", \"mean_red\", \"mean_green\", \"mean_dapi\", \"min_red\", \"min_green\", \"min_dapi\", \"pixsum_red\", \"pixsum_green\", \"pixsum_dapi\", \"range_red\", \"range_green\", \"range_dapi\", \"std_red\", \"std_green\", \"std_dapi\", \"sum_red\", \"sum_green\", \"sum_dapi\", \"sum2_red\", \"sum2_green\", \"sum2_dapi\", \"parent_id\", \"id\", \"filename\"])\n",
    "\n",
    "    grouping = {i: \"first\" for i in cells.columns}\n",
    "    grouping.update({\n",
    "        \"area\": [\"sum\",\"min\",\"max\"],\n",
    "        \"x\": \"mean\",\n",
    "        \"y\": \"mean\",\n",
    "        \"z\": [\"max\", \"min\"],\n",
    "        \"count_red\": \"sum\",\n",
    "        \"count_green\": \"sum\",\n",
    "    })\n",
    "    groups = cells.groupby('group')\n",
    "    counts = groups['image'].count()\n",
    "    mcells = groups.agg(grouping)\n",
    "    mcells['counts'] = counts\n",
    "    mcells = mcells[mcells['counts']>1]\n",
    "    mcells.columns = [i[0] if \"first\" in i[1] else '_'.join(i) for i in mcells.columns]"
   ]
  },
  {
   "cell_type": "code",
   "execution_count": 547,
   "metadata": {},
   "outputs": [],
   "source": [
    "cells = cells.drop(columns=[\"max_red\", \"max_green\", \"max_dapi\", \"mean_red\", \"mean_green\", \"mean_dapi\", \"min_red\", \"min_green\", \"min_dapi\", \"pixsum_red\", \"pixsum_green\", \"pixsum_dapi\", \"range_red\", \"range_green\", \"range_dapi\", \"std_red\", \"std_green\", \"std_dapi\", \"sum_red\", \"sum_green\", \"sum_dapi\", \"sum2_red\", \"sum2_green\", \"sum2_dapi\", \"parent_id\", \"id\"])\n",
    "\n",
    "grouping = {i: \"first\" for i in cells.columns}\n",
    "grouping.update({\n",
    "    \"area\": [\"sum\",\"min\",\"max\"],\n",
    "    \"x\": \"mean\",\n",
    "    \"y\": \"mean\",\n",
    "    \"z\": [\"max\", \"min\"],\n",
    "    \"count_red\": \"sum\",\n",
    "    \"count_green\": \"sum\",\n",
    "})\n",
    "groups = cells.groupby('group')\n",
    "counts = groups['image'].count()\n",
    "mcells = groups.agg(grouping)\n",
    "mcells['counts'] = counts\n",
    "mcells = mcells[mcells['counts']>1]\n",
    "mcells.columns = [i[0] if \"first\" in i[1] else '_'.join(i) for i in mcells.columns]"
   ]
  },
  {
   "cell_type": "markdown",
   "metadata": {},
   "source": [
    "## compute differences (number/surface/max/min/mean) across cells"
   ]
  },
  {
   "cell_type": "markdown",
   "metadata": {},
   "source": [
    "### text"
   ]
  },
  {
   "cell_type": "code",
   "execution_count": 554,
   "metadata": {},
   "outputs": [
    {
     "name": "stdout",
     "output_type": "stream",
     "text": [
      "\n",
      "______________________________\n",
      "MEF2D-MYC_MEF2D\n",
      "mean_red_mean\n",
      "\n",
      "\n",
      "DMSO\n",
      "                  mean          var\n",
      "obs_cob    4660.493879  2422.369420\n",
      "obs_green   777.476722   626.104495\n",
      "obs_red    4966.885209  1692.117184\n",
      "\n",
      "\n",
      "VHL\n",
      "                  mean          var\n",
      "obs_cob    1961.582006          NaN\n",
      "obs_green   209.067414   155.774133\n",
      "obs_red    3394.720670  1737.125377\n",
      "\n",
      "change (VHL/DMSO)\n",
      "obs_cob      0.420896\n",
      "obs_green    0.268905\n",
      "obs_red      0.683471\n",
      "Name: mean, dtype: float64\n",
      "mean_green_mean\n",
      "\n",
      "\n",
      "DMSO\n",
      "                  mean          var\n",
      "obs_cob    1906.983049  1083.982120\n",
      "obs_green  2425.551183   867.814683\n",
      "obs_red     264.301220   213.872788\n",
      "\n",
      "\n",
      "VHL\n",
      "                  mean         var\n",
      "obs_cob     312.162210         NaN\n",
      "obs_green  1803.546091  697.961291\n",
      "obs_red      43.301159   71.623501\n",
      "\n",
      "change (VHL/DMSO)\n",
      "obs_cob      0.163694\n",
      "obs_green    0.743561\n",
      "obs_red      0.163833\n",
      "Name: mean, dtype: float64\n",
      "area_sum\n",
      "\n",
      "\n",
      "DMSO\n",
      "                   mean           var\n",
      "obs_cob    2.124848e+06  1.305772e+06\n",
      "obs_green  2.290610e+05  2.464421e+05\n",
      "obs_red    1.696157e+06  1.363476e+06\n",
      "\n",
      "\n",
      "VHL\n",
      "                   mean           var\n",
      "obs_cob    4.399600e+05           NaN\n",
      "obs_green  2.005150e+05  2.500476e+05\n",
      "obs_red    1.528882e+06  1.055194e+06\n",
      "\n",
      "change (VHL/DMSO)\n",
      "obs_cob      0.207055\n",
      "obs_green    0.875378\n",
      "obs_red      0.901380\n",
      "Name: mean, dtype: float64\n",
      "\n",
      "______________________________\n",
      "MED1-MYC_MEF2D\n",
      "mean_red_mean\n",
      "\n",
      "\n",
      "DMSO\n",
      "                  mean          var\n",
      "obs_cob    2969.483936  2220.298060\n",
      "obs_green   922.151343   697.091473\n",
      "obs_red    3199.799332  2587.583747\n",
      "\n",
      "\n",
      "VHL\n",
      "                  mean          var\n",
      "obs_cob    2387.935750  2273.966305\n",
      "obs_green   141.909665   155.903655\n",
      "obs_red    1536.749347   775.165366\n",
      "\n",
      "change (VHL/DMSO)\n",
      "obs_cob      0.804159\n",
      "obs_green    0.153890\n",
      "obs_red      0.480264\n",
      "Name: mean, dtype: float64\n",
      "mean_green_mean\n",
      "\n",
      "\n",
      "DMSO\n",
      "                  mean         var\n",
      "obs_cob    1285.906540  527.145732\n",
      "obs_green  1620.013106  531.404289\n",
      "obs_red     144.327917  152.237533\n",
      "\n",
      "\n",
      "VHL\n",
      "                  mean         var\n",
      "obs_cob     836.749311  397.695974\n",
      "obs_green  1154.770176  473.208979\n",
      "obs_red     130.175484  195.448553\n",
      "\n",
      "change (VHL/DMSO)\n",
      "obs_cob      0.650708\n",
      "obs_green    0.712815\n",
      "obs_red      0.901943\n",
      "Name: mean, dtype: float64\n",
      "area_sum\n",
      "\n",
      "\n",
      "DMSO\n",
      "                    mean            var\n",
      "obs_cob    831385.375000  942257.985881\n",
      "obs_green  267010.978483  284805.245037\n",
      "obs_red    451744.982456  816277.011750\n",
      "\n",
      "\n",
      "VHL\n",
      "                   mean           var\n",
      "obs_cob    1.712811e+06  1.230251e+06\n",
      "obs_green  2.467980e+05  2.174253e+05\n",
      "obs_red    4.827942e+05  7.657958e+05\n",
      "\n",
      "change (VHL/DMSO)\n",
      "obs_cob      2.060189\n",
      "obs_green    0.924299\n",
      "obs_red      1.068732\n",
      "Name: mean, dtype: float64\n"
     ]
    }
   ],
   "source": [
    "# compute difference in signal strength between cells &  between conditions across cells\n",
    "strength = {}\n",
    "for k in set(mdots.exp):\n",
    "    print('\\n______________________________')\n",
    "    print(k)\n",
    "    for val in ['mean_red_mean', 'mean_green_mean','area_sum']:\n",
    "        print(val)\n",
    "        a = []\n",
    "        for e in ['DMSO', 'VHL']:\n",
    "            print('\\n')\n",
    "            print(e)\n",
    "            d = mdots[(mdots.exp==k)&(mdots.treat==e)]\n",
    "            e = pd.DataFrame([\n",
    "                [d[d['class']==\"cobinding\"][val].mean(), d[d['class']==\"cobinding\"][val].var()**(1/2)],\n",
    "                [d[d['class']==\"green\"][val].mean(), d[d['class']==\"green\"][val].var()**(1/2)],\n",
    "                [d[d['class']==\"red\"][val].mean(), d[d['class']==\"red\"][val].var()**(1/2)]\n",
    "            ], columns=['mean','var'], index=[\"obs_cob\", \"obs_green\", \"obs_red\"])\n",
    "            print(e)\n",
    "            a.append(e)\n",
    "        strength[k] = e\n",
    "        print(\"\\nchange (VHL/DMSO)\\n\"+str(a[1]['mean']/a[0]['mean']))"
   ]
  },
  {
   "cell_type": "code",
   "execution_count": 523,
   "metadata": {
    "scrolled": true
   },
   "outputs": [
    {
     "name": "stdout",
     "output_type": "stream",
     "text": [
      "MEF2D-MYC_MEF2D\n",
      "______________________________\n",
      "\n",
      "DMSO\n",
      "\n",
      "count greens per cell:\n",
      "153.125 203.75502294422094\n",
      "green\n",
      "\n",
      "signal in green:\n",
      "699785.9804081633 1119997.176347565\n",
      "\n",
      "signal in red:\n",
      "508531.2261904762 696341.5150794553\n",
      "\n",
      "signal in cobinding:\n",
      "2655027.25 1899235.2691343133\n",
      "\n",
      "\n",
      "\n",
      "red\n",
      "\n",
      "signal in green:\n",
      "159329.8794557823 189088.3905848718\n",
      "\n",
      "signal in red:\n",
      "11560141.57142857 12719436.09100039\n",
      "\n",
      "signal in cobinding:\n",
      "11455330.5 7559336.670799975\n",
      "\n",
      "\n",
      "\n",
      "size\n",
      "\n",
      "signal in green:\n",
      "229061.0367346939 246408.53504549613\n",
      "\n",
      "signal in red:\n",
      "1725996.511904762 1391974.1254675002\n",
      "\n",
      "signal in cobinding:\n",
      "2124848.0 1130831.3363926117\n",
      "\n",
      "\n",
      "\n",
      "____________\n",
      "\n",
      "VHL\n",
      "\n",
      "count greens per cell:\n",
      "5.16 7.12561576286569\n",
      "green\n",
      "\n",
      "signal in green:\n",
      "529085.9612403101 1213496.4267912656\n",
      "\n",
      "signal in red:\n",
      "60091.48684210526 73767.78789008922\n",
      "\n",
      "signal in cobinding:\n",
      "93959.0 0.0\n",
      "\n",
      "\n",
      "\n",
      "red\n",
      "\n",
      "signal in green:\n",
      "43003.20930232558 68404.8296278381\n",
      "\n",
      "signal in red:\n",
      "7130052.447368421 7846655.397740748\n",
      "\n",
      "signal in cobinding:\n",
      "887090.0 0.0\n",
      "\n",
      "\n",
      "\n",
      "size\n",
      "\n",
      "signal in green:\n",
      "200515.0465116279 249076.53984494327\n",
      "\n",
      "signal in red:\n",
      "1528881.9342105263 1048229.1324528733\n",
      "\n",
      "signal in cobinding:\n",
      "439960.0 0.0\n",
      "\n",
      "\n",
      "\n",
      "____________\n",
      "\n",
      "MED1-MYC_MEF2D\n",
      "______________________________\n",
      "\n",
      "DMSO\n",
      "\n",
      "count greens per cell:\n",
      "316.38461538461536 86.21175938131238\n",
      "green\n",
      "\n",
      "signal in green:\n",
      "562057.052759543 840082.4976909771\n",
      "\n",
      "signal in red:\n",
      "109317.65789473684 303173.29851385154\n",
      "\n",
      "signal in cobinding:\n",
      "983188.125 1044106.1455036777\n",
      "\n",
      "\n",
      "\n",
      "red\n",
      "\n",
      "signal in green:\n",
      "293002.4035983467 463363.55462031794\n",
      "\n",
      "signal in red:\n",
      "3261910.98245614 8513827.390269868\n",
      "\n",
      "signal in cobinding:\n",
      "4174068.625 8145362.589224266\n",
      "\n",
      "\n",
      "\n",
      "size\n",
      "\n",
      "signal in green:\n",
      "267010.9784828592 284787.9332270166\n",
      "\n",
      "signal in red:\n",
      "451744.98245614034 812688.963558932\n",
      "\n",
      "signal in cobinding:\n",
      "831385.375 927418.3500224478\n",
      "\n",
      "\n",
      "\n",
      "____________\n",
      "\n",
      "VHL\n",
      "\n",
      "count greens per cell:\n",
      "314.962962962963 155.94668639835942\n",
      "green\n",
      "\n",
      "signal in green:\n",
      "364240.47836312326 513729.18645123893\n",
      "\n",
      "signal in red:\n",
      "67138.09146341463 158767.45171268322\n",
      "\n",
      "signal in cobinding:\n",
      "1097998.794117647 849634.360374293\n",
      "\n",
      "\n",
      "\n",
      "red\n",
      "\n",
      "signal in green:\n",
      "36181.95519755409 50332.99726464254\n",
      "\n",
      "signal in red:\n",
      "1226818.1463414633 2719969.570584945\n",
      "\n",
      "signal in cobinding:\n",
      "6230581.294117647 8468802.14453934\n",
      "\n",
      "\n",
      "\n",
      "size\n",
      "\n",
      "signal in green:\n",
      "246797.99905926624 217412.53216756714\n",
      "\n",
      "signal in red:\n",
      "482794.15853658534 763457.5142654644\n",
      "\n",
      "signal in cobinding:\n",
      "1712810.6764705882 1212024.193159398\n",
      "\n",
      "\n",
      "\n",
      "____________\n",
      "\n"
     ]
    }
   ],
   "source": [
    "# compute difference in number/surface/max/min/mean(val) of green /red across cells and cobindings\n",
    "data = {}\n",
    "typ = [(\"sum_green_sum\", \"green\"), ('sum_red_sum', \"red\"), (\"area_sum\", \"size\")]\n",
    "for k in set(mdots.exp):\n",
    "    a = []\n",
    "    print(k)\n",
    "    print('______________________________\\n')\n",
    "    at = pd.DataFrame()\n",
    "    \n",
    "    for t in ['DMSO', 'VHL']:\n",
    "        print(t)\n",
    "        d = mdots[(mdots.exp==k)&(mdots.treat==t)]\n",
    "        \n",
    "        a = pd.DataFrame()\n",
    "        b = pd.DataFrame()\n",
    "        print(\"\\ncount greens per cell:\")\n",
    "        e = [len(d[(d[\"group\"]==cell)&(d['class']==\"green\")]) for cell in set(d.group)]\n",
    "        print(min(e))\n",
    "        print(np.mean(e), np.sqrt(np.var(e)))\n",
    "        \n",
    "        b[\"color\"] = ['on green']*len(e)\n",
    "        b['signal'] = e\n",
    "        a = a.append(b)\n",
    "        \n",
    "        b = pd.DataFrame()\n",
    "        e = [len(d[(d[\"group\"]==cell)&(d['class']==\"red\")]) for cell in set(d.group)]\n",
    "        b[\"color\"] = ['on red']*len(e)\n",
    "        b['signal'] = e\n",
    "        a = a.append(b)\n",
    "        \n",
    "        b = pd.DataFrame()\n",
    "        e = [len(d[(d[\"group\"]==cell)&(d['class']==\"cobinding\")]) for cell in set(d.group)]\n",
    "        b[\"color\"] = ['on coloc']*len(e)\n",
    "        b['signal'] = e\n",
    "        a = a.append(b)\n",
    "        \n",
    "        a['type'] = \"counts\"\n",
    "        a['cond'] = t\n",
    "        at = at.append(a)\n",
    "        \n",
    "        for (col,name) in typ:\n",
    "            print(name)\n",
    "            a = pd.DataFrame()\n",
    "            print('\\nsignal in green:')\n",
    "            e = d[d['class']==\"green\"][col].tolist()\n",
    "            print(np.mean(e), np.sqrt(np.var(e)))\n",
    "            b = pd.DataFrame()\n",
    "            b['signal'] = e\n",
    "            b['color'] = \"on green\"\n",
    "            a = a.append(b)\n",
    "            \n",
    "            print('\\nsignal in red:')\n",
    "            e = d[d['class']==\"red\"][col].tolist()\n",
    "            print(np.mean(e), np.sqrt(np.var(e)))\n",
    "            \n",
    "            b = pd.DataFrame()\n",
    "            b['signal'] =  e\n",
    "            b['color'] = \"on red\"\n",
    "            a = a.append(b)\n",
    "\n",
    "            print('\\nsignal in cobinding:')\n",
    "            e = d[d['class']==\"cobinding\"][col].tolist()\n",
    "            print(np.mean(e), np.sqrt(np.var(e)))\n",
    "            \n",
    "            b = pd.DataFrame()\n",
    "            b['signal'] = e\n",
    "            b['color'] = \"on coloc\"           \n",
    "            print('\\n\\n')\n",
    "            a = a.append(b)\n",
    "            a['type']=name\n",
    "            a['cond'] = t\n",
    "            at = at.append(a)\n",
    "        print('____________\\n')\n",
    "    data[k] = at.reset_index(drop=True)"
   ]
  },
  {
   "cell_type": "code",
   "execution_count": null,
   "metadata": {},
   "outputs": [],
   "source": [
    "mdots"
   ]
  },
  {
   "cell_type": "code",
   "execution_count": 524,
   "metadata": {},
   "outputs": [
    {
     "name": "stderr",
     "output_type": "stream",
     "text": [
      "/opt/conda/lib/python3.8/site-packages/numpy/core/fromnumeric.py:3702: RuntimeWarning: Degrees of freedom <= 0 for slice\n",
      "  return _methods._var(a, axis=axis, dtype=dtype, out=out, ddof=ddof,\n",
      "/opt/conda/lib/python3.8/site-packages/numpy/core/_methods.py:253: RuntimeWarning: invalid value encountered in double_scalars\n",
      "  ret = ret.dtype.type(ret / rcount)\n"
     ]
    }
   ],
   "source": [
    "# adding chi2\n",
    "for k,val in data.items():\n",
    "    for i in set(val['type']):\n",
    "        e = \" |\"\n",
    "        for u in set(val['color']):\n",
    "            a = val[(val['type'] == i) & (val['color'] == u) & (val['cond'] == \"DMSO\")][\"signal\"].tolist()\n",
    "            b = val[(val['type'] == i) & (val['color'] == u) & (val['cond'] == \"VHL\")][\"signal\"].tolist()\n",
    "            r = ttest_ind(a, b, equal_var=False)\n",
    "            e+= u + \": (\"f\"{r[0]:.1f}, \"f\"{r[1]:.1e}), \"\n",
    "        val.loc[val[val['type'] == i].index, 'type'] = i + e +\"|\"\n",
    "    data[k] = val"
   ]
  },
  {
   "cell_type": "markdown",
   "metadata": {},
   "source": [
    "### plots"
   ]
  },
  {
   "cell_type": "code",
   "execution_count": 454,
   "metadata": {},
   "outputs": [
    {
     "ename": "KeyError",
     "evalue": "'id_752'",
     "output_type": "error",
     "traceback": [
      "\u001b[0;31m---------------------------------------------------------------------------\u001b[0m",
      "\u001b[0;31mKeyError\u001b[0m                                  Traceback (most recent call last)",
      "\u001b[0;32m<ipython-input-454-8337c18ed1ee>\u001b[0m in \u001b[0;36m<module>\u001b[0;34m\u001b[0m\n\u001b[0;32m----> 1\u001b[0;31m \u001b[0mdata\u001b[0m\u001b[0;34m[\u001b[0m\u001b[0mk\u001b[0m\u001b[0;34m]\u001b[0m\u001b[0;34m\u001b[0m\u001b[0;34m\u001b[0m\u001b[0m\n\u001b[0m",
      "\u001b[0;31mKeyError\u001b[0m: 'id_752'"
     ]
    }
   ],
   "source": [
    "data[k]"
   ]
  },
  {
   "cell_type": "code",
   "execution_count": 525,
   "metadata": {},
   "outputs": [],
   "source": [
    "a = data['MEF2D-MYC_MEF2D']"
   ]
  },
  {
   "cell_type": "code",
   "execution_count": 526,
   "metadata": {},
   "outputs": [],
   "source": [
    "a = a[a.type==a.type[0]]"
   ]
  },
  {
   "cell_type": "code",
   "execution_count": 505,
   "metadata": {},
   "outputs": [
    {
     "data": {
      "text/plain": [
       "Ttest_indResult(statistic=3.0090906547182805, pvalue=0.003537621308505588)"
      ]
     },
     "execution_count": 505,
     "metadata": {},
     "output_type": "execute_result"
    }
   ],
   "source": [
    "ttest_ind(a[a.cond==\"DMSO\"][\"signal\"].tolist(), a[a.cond==\"VHL\"][\"signal\"].tolist(), equal_var=False)"
   ]
  },
  {
   "cell_type": "code",
   "execution_count": 527,
   "metadata": {},
   "outputs": [
    {
     "data": {
      "text/plain": [
       "signal    2.746667\n",
       "dtype: float64"
      ]
     },
     "execution_count": 527,
     "metadata": {},
     "output_type": "execute_result"
    }
   ],
   "source": [
    "a[a.cond==\"VHL\"].mean()"
   ]
  },
  {
   "cell_type": "code",
   "execution_count": 528,
   "metadata": {},
   "outputs": [
    {
     "data": {
      "text/html": [
       "<div>\n",
       "<style scoped>\n",
       "    .dataframe tbody tr th:only-of-type {\n",
       "        vertical-align: middle;\n",
       "    }\n",
       "\n",
       "    .dataframe tbody tr th {\n",
       "        vertical-align: top;\n",
       "    }\n",
       "\n",
       "    .dataframe thead th {\n",
       "        text-align: right;\n",
       "    }\n",
       "</style>\n",
       "<table border=\"1\" class=\"dataframe\">\n",
       "  <thead>\n",
       "    <tr style=\"text-align: right;\">\n",
       "      <th></th>\n",
       "      <th>color</th>\n",
       "      <th>signal</th>\n",
       "      <th>type</th>\n",
       "      <th>cond</th>\n",
       "    </tr>\n",
       "  </thead>\n",
       "  <tbody>\n",
       "    <tr>\n",
       "      <th>0</th>\n",
       "      <td>on green</td>\n",
       "      <td>181.0</td>\n",
       "      <td>counts |on green: (3.5, 2.0e-03), on coloc: (1...</td>\n",
       "      <td>DMSO</td>\n",
       "    </tr>\n",
       "    <tr>\n",
       "      <th>1</th>\n",
       "      <td>on green</td>\n",
       "      <td>84.0</td>\n",
       "      <td>counts |on green: (3.5, 2.0e-03), on coloc: (1...</td>\n",
       "      <td>DMSO</td>\n",
       "    </tr>\n",
       "    <tr>\n",
       "      <th>2</th>\n",
       "      <td>on green</td>\n",
       "      <td>38.0</td>\n",
       "      <td>counts |on green: (3.5, 2.0e-03), on coloc: (1...</td>\n",
       "      <td>DMSO</td>\n",
       "    </tr>\n",
       "    <tr>\n",
       "      <th>3</th>\n",
       "      <td>on green</td>\n",
       "      <td>52.0</td>\n",
       "      <td>counts |on green: (3.5, 2.0e-03), on coloc: (1...</td>\n",
       "      <td>DMSO</td>\n",
       "    </tr>\n",
       "    <tr>\n",
       "      <th>4</th>\n",
       "      <td>on green</td>\n",
       "      <td>191.0</td>\n",
       "      <td>counts |on green: (3.5, 2.0e-03), on coloc: (1...</td>\n",
       "      <td>DMSO</td>\n",
       "    </tr>\n",
       "    <tr>\n",
       "      <th>...</th>\n",
       "      <td>...</td>\n",
       "      <td>...</td>\n",
       "      <td>...</td>\n",
       "      <td>...</td>\n",
       "    </tr>\n",
       "    <tr>\n",
       "      <th>67</th>\n",
       "      <td>on coloc</td>\n",
       "      <td>0.0</td>\n",
       "      <td>counts |on green: (3.5, 2.0e-03), on coloc: (1...</td>\n",
       "      <td>DMSO</td>\n",
       "    </tr>\n",
       "    <tr>\n",
       "      <th>68</th>\n",
       "      <td>on coloc</td>\n",
       "      <td>0.0</td>\n",
       "      <td>counts |on green: (3.5, 2.0e-03), on coloc: (1...</td>\n",
       "      <td>DMSO</td>\n",
       "    </tr>\n",
       "    <tr>\n",
       "      <th>69</th>\n",
       "      <td>on coloc</td>\n",
       "      <td>0.0</td>\n",
       "      <td>counts |on green: (3.5, 2.0e-03), on coloc: (1...</td>\n",
       "      <td>DMSO</td>\n",
       "    </tr>\n",
       "    <tr>\n",
       "      <th>70</th>\n",
       "      <td>on coloc</td>\n",
       "      <td>0.0</td>\n",
       "      <td>counts |on green: (3.5, 2.0e-03), on coloc: (1...</td>\n",
       "      <td>DMSO</td>\n",
       "    </tr>\n",
       "    <tr>\n",
       "      <th>71</th>\n",
       "      <td>on coloc</td>\n",
       "      <td>0.0</td>\n",
       "      <td>counts |on green: (3.5, 2.0e-03), on coloc: (1...</td>\n",
       "      <td>DMSO</td>\n",
       "    </tr>\n",
       "  </tbody>\n",
       "</table>\n",
       "<p>72 rows × 4 columns</p>\n",
       "</div>"
      ],
      "text/plain": [
       "       color  signal                                               type  cond\n",
       "0   on green   181.0  counts |on green: (3.5, 2.0e-03), on coloc: (1...  DMSO\n",
       "1   on green    84.0  counts |on green: (3.5, 2.0e-03), on coloc: (1...  DMSO\n",
       "2   on green    38.0  counts |on green: (3.5, 2.0e-03), on coloc: (1...  DMSO\n",
       "3   on green    52.0  counts |on green: (3.5, 2.0e-03), on coloc: (1...  DMSO\n",
       "4   on green   191.0  counts |on green: (3.5, 2.0e-03), on coloc: (1...  DMSO\n",
       "..       ...     ...                                                ...   ...\n",
       "67  on coloc     0.0  counts |on green: (3.5, 2.0e-03), on coloc: (1...  DMSO\n",
       "68  on coloc     0.0  counts |on green: (3.5, 2.0e-03), on coloc: (1...  DMSO\n",
       "69  on coloc     0.0  counts |on green: (3.5, 2.0e-03), on coloc: (1...  DMSO\n",
       "70  on coloc     0.0  counts |on green: (3.5, 2.0e-03), on coloc: (1...  DMSO\n",
       "71  on coloc     0.0  counts |on green: (3.5, 2.0e-03), on coloc: (1...  DMSO\n",
       "\n",
       "[72 rows x 4 columns]"
      ]
     },
     "execution_count": 528,
     "metadata": {},
     "output_type": "execute_result"
    }
   ],
   "source": [
    "a[a.cond==\"DMSO\"]"
   ]
  },
  {
   "cell_type": "code",
   "execution_count": 397,
   "metadata": {
    "scrolled": false
   },
   "outputs": [
    {
     "data": {
      "image/png": "[encoded data removed]",
      "text/plain": [
       "<Figure size 2082.38x504 with 4 Axes>"
      ]
     },
     "metadata": {
      "needs_background": "light"
     },
     "output_type": "display_data"
    },
    {
     "data": {
      "image/png": "[encoded data removed]",
      "text/plain": [
       "<Figure size 2082.38x504 with 4 Axes>"
      ]
     },
     "metadata": {
      "needs_background": "light"
     },
     "output_type": "display_data"
    }
   ],
   "source": [
    "for k, val in data.items():\n",
    "    g = sns.catplot(kind=\"violin\", x=\"color\", y=\"signal\", hue=\"cond\", col=\"type\", data=val, palette=\"muted\", sharey=False, height=7)\n",
    "    g.fig.subplots_adjust(top=0.86)\n",
    "    g.fig.suptitle(k)\n",
    "    plt.yscale('log')\n",
    "    plt.show()"
   ]
  },
  {
   "cell_type": "markdown",
   "metadata": {},
   "source": [
    "## likelyhood of coloc compared to expectation for each experiment &  between conditions"
   ]
  },
  {
   "cell_type": "markdown",
   "metadata": {},
   "source": [
    "### text"
   ]
  },
  {
   "cell_type": "code",
   "execution_count": 482,
   "metadata": {},
   "outputs": [
    {
     "name": "stdout",
     "output_type": "stream",
     "text": [
      "______________________________\n",
      "MEF2D-MYC_MEF2D\n",
      "DMSO: 11.155006619243961\n",
      "VHL: 69.59702876046195\n",
      "change: 6.239084487892392\n",
      "______________________________\n",
      "MED1-MYC_MEF2D\n",
      "DMSO: 11.148494708949418\n",
      "VHL: 11.967238129710655\n",
      "change: 1.0734398178530768\n"
     ]
    }
   ],
   "source": [
    "# compute dot likelyhood of coloc compared to expectation for each experiment &  between conditions\n",
    "enrichment = {}\n",
    "\n",
    "for k in set(mdots.exp):\n",
    "    count = []\n",
    "    fisher = []\n",
    "    print('______________________________')\n",
    "    print(k)\n",
    "    for e in ['DMSO', 'VHL']:\n",
    "        d = mdots[(mdots.exp==k)&(mdots.treat==e)]\n",
    "        try:\n",
    "            obs_cob = len(d[d['class']==\"cobinding\"])/(len(d[d['class']==\"red\"])+len(d[d['class']==\"cobinding\"]))\n",
    "        except ZeroDivisionError:\n",
    "            print('no red dot')\n",
    "            continue\n",
    "        obs_green = d[d['class']==\"green\"].area_sum.sum()\n",
    "        pred_cob = obs_green / mcells[(mcells.exp==k)&(mcells.treat==e)].area_sum.sum()\n",
    "        #print(obs_cob, obs_green, pred_cob)\n",
    "        count.append(obs_cob/pred_cob)\n",
    "        print(e+\": \"+str(obs_cob/pred_cob))\n",
    "        a = pred_cob*len(d[d['class']!=\"green\"])\n",
    "        b = obs_cob*len(d[d['class']!=\"green\"])\n",
    "        f = fisher_exact(np.array([[b, len(d[d['class']!=\"green\"]) - b], [a, len(d[d['class']!=\"green\"])- a]], dtype=int))\n",
    "        if f[0] is np.inf:\n",
    "            f = (obs_cob/pred_cob, f[1])\n",
    "        fisher.append(f)\n",
    "    enrichment[k] = fisher\n",
    "    print(\"change: \"+str(count[1]/count[0]))"
   ]
  },
  {
   "cell_type": "code",
   "execution_count": 216,
   "metadata": {
    "scrolled": false
   },
   "outputs": [
    {
     "data": {
      "text/plain": [
       "{'MEF2D-MYC_MEF2D': [(11.104428275651795, 0.1211241624393013), (nan, 1.0)],\n",
       " 'MED1-MYC_MEF2D': [(19.20940170940171, 2.777973890917427e-08),\n",
       "  (18.846625766871167, 2.0359317498429956e-08)]}"
      ]
     },
     "execution_count": 216,
     "metadata": {},
     "output_type": "execute_result"
    }
   ],
   "source": [
    "enrichment"
   ]
  },
  {
   "cell_type": "markdown",
   "metadata": {},
   "source": [
    "### plot"
   ]
  },
  {
   "cell_type": "code",
   "execution_count": 483,
   "metadata": {},
   "outputs": [
    {
     "data": {
      "text/plain": [
       "([0, 1, 2, 3], <a list of 4 Text major ticklabel objects>)"
      ]
     },
     "execution_count": 483,
     "metadata": {},
     "output_type": "execute_result"
    },
    {
     "data": {
      "image/png": "[encoded data removed]",
      "text/plain": [
       "<Figure size 432x288 with 1 Axes>"
      ]
     },
     "metadata": {
      "needs_background": "light"
     },
     "output_type": "display_data"
    }
   ],
   "source": [
    "x=[]\n",
    "y=[]\n",
    "e=[]\n",
    "for k, val in enrichment.items():\n",
    "    x.append(k+'\\nDMSO')\n",
    "    y.append(val[0][0])\n",
    "    e.append(val[0][1])\n",
    "    x.append(k+'\\nVHL')\n",
    "    y.append(val[1][0])\n",
    "    e.append(val[1][1])\n",
    "plt.errorbar(x, y, e, linestyle='None', marker='.')\n",
    "plt.xticks(rotation = 7) # Rotates X-Axis Ticks by 45-degrees"
   ]
  },
  {
   "cell_type": "markdown",
   "metadata": {},
   "source": [
    "## plot of averaged binned signal by distance from focis"
   ]
  },
  {
   "cell_type": "code",
   "execution_count": 476,
   "metadata": {},
   "outputs": [
    {
     "name": "stdout",
     "output_type": "stream",
     "text": [
      "MEF2D-MYC_MEF2D DMSO\n",
      "MEF2D-MYC_MEF2D VHL\n",
      "MED1-MYC_MEF2D DMSO\n",
      "MED1-MYC_MEF2D VHL\n"
     ]
    }
   ],
   "source": [
    "# make a plot of averaged binned signal strength by distance from locis\n",
    "dists= {}\n",
    "newdists = {}\n",
    "for val in set(mdots.exp):\n",
    "    for e in ['DMSO', 'VHL']:\n",
    "        d = dots[(dots.exp==val)&(dots.treat==e)]\n",
    "        dist = np.array([])\n",
    "        weight = np.array([])\n",
    "        newdist = pd.DataFrame()\n",
    "        m = mred[(mred.exp==val)&(mred.treat==e)]\n",
    "        print(val, e)\n",
    "        for k, v in m.iterrows():\n",
    "            #dist = np.append(dist, distance_matrix(d[d['class']==\"green\"][['x', \"y\", \"z\"]].values, np.array([v[['x_mean', \"y_mean\", \"z_mean\"]]])).T[0].astype(float))\n",
    "            #weight = np.append(weight, d[d['class'] != \"red\"][\"sum_green\"])\n",
    "            \n",
    "            a = d[d['class']==\"green\"][['x',\"y\",\"z\"]] - v[['x_mean', \"y_mean\", \"z_mean\"]].values\n",
    "            a[\"sum_green\"] =  d[d['class']==\"green\"][\"sum_green\"]\n",
    "            newdist = newdist.append(a)\n",
    "        newdists[val+e] = newdist\n",
    "        #dists[val+e] = [dist, weight]"
   ]
  },
  {
   "cell_type": "code",
   "execution_count": 487,
   "metadata": {},
   "outputs": [
    {
     "data": {
      "text/html": [
       "<div>\n",
       "<style scoped>\n",
       "    .dataframe tbody tr th:only-of-type {\n",
       "        vertical-align: middle;\n",
       "    }\n",
       "\n",
       "    .dataframe tbody tr th {\n",
       "        vertical-align: top;\n",
       "    }\n",
       "\n",
       "    .dataframe thead th {\n",
       "        text-align: right;\n",
       "    }\n",
       "</style>\n",
       "<table border=\"1\" class=\"dataframe\">\n",
       "  <thead>\n",
       "    <tr style=\"text-align: right;\">\n",
       "      <th></th>\n",
       "      <th>image</th>\n",
       "      <th>parent_id</th>\n",
       "      <th>id</th>\n",
       "      <th>area</th>\n",
       "      <th>x</th>\n",
       "      <th>y</th>\n",
       "      <th>z</th>\n",
       "      <th>class</th>\n",
       "      <th>count_red</th>\n",
       "      <th>count_green</th>\n",
       "      <th>...</th>\n",
       "      <th>sum_green</th>\n",
       "      <th>sum_dapi</th>\n",
       "      <th>sum2_red</th>\n",
       "      <th>sum2_green</th>\n",
       "      <th>sum2_dapi</th>\n",
       "      <th>filename</th>\n",
       "      <th>group</th>\n",
       "      <th>exp</th>\n",
       "      <th>treat</th>\n",
       "      <th>part</th>\n",
       "    </tr>\n",
       "  </thead>\n",
       "  <tbody>\n",
       "    <tr>\n",
       "      <th>142803</th>\n",
       "      <td>5</td>\n",
       "      <td>4</td>\n",
       "      <td>5</td>\n",
       "      <td>20577</td>\n",
       "      <td>6768</td>\n",
       "      <td>6942</td>\n",
       "      <td>255</td>\n",
       "      <td>green</td>\n",
       "      <td>0</td>\n",
       "      <td>0</td>\n",
       "      <td>...</td>\n",
       "      <td>25828.0</td>\n",
       "      <td>94313.0</td>\n",
       "      <td>5.770340e+05</td>\n",
       "      <td>3.278296e+07</td>\n",
       "      <td>4.921380e+08</td>\n",
       "      <td>MEF2D-MYC_MEF2D-VHL-G1</td>\n",
       "      <td>MEF2D-MYC_MEF2D-VHL-G1--5--1-1_1</td>\n",
       "      <td>MEF2D-MYC_MEF2D</td>\n",
       "      <td>VHL</td>\n",
       "      <td>1-1_1</td>\n",
       "    </tr>\n",
       "    <tr>\n",
       "      <th>142806</th>\n",
       "      <td>5</td>\n",
       "      <td>4</td>\n",
       "      <td>5</td>\n",
       "      <td>71530</td>\n",
       "      <td>6723</td>\n",
       "      <td>6925</td>\n",
       "      <td>425</td>\n",
       "      <td>green</td>\n",
       "      <td>0</td>\n",
       "      <td>0</td>\n",
       "      <td>...</td>\n",
       "      <td>138807.0</td>\n",
       "      <td>182073.0</td>\n",
       "      <td>6.116180e+06</td>\n",
       "      <td>3.238597e+08</td>\n",
       "      <td>7.876232e+08</td>\n",
       "      <td>MEF2D-MYC_MEF2D-VHL-G1</td>\n",
       "      <td>MEF2D-MYC_MEF2D-VHL-G1--5--1-1_1</td>\n",
       "      <td>MEF2D-MYC_MEF2D</td>\n",
       "      <td>VHL</td>\n",
       "      <td>1-1_1</td>\n",
       "    </tr>\n",
       "    <tr>\n",
       "      <th>142808</th>\n",
       "      <td>5</td>\n",
       "      <td>4</td>\n",
       "      <td>5</td>\n",
       "      <td>74470</td>\n",
       "      <td>6703</td>\n",
       "      <td>6909</td>\n",
       "      <td>510</td>\n",
       "      <td>green</td>\n",
       "      <td>0</td>\n",
       "      <td>0</td>\n",
       "      <td>...</td>\n",
       "      <td>196238.0</td>\n",
       "      <td>187121.0</td>\n",
       "      <td>6.185692e+06</td>\n",
       "      <td>6.359862e+08</td>\n",
       "      <td>8.496735e+08</td>\n",
       "      <td>MEF2D-MYC_MEF2D-VHL-G1</td>\n",
       "      <td>MEF2D-MYC_MEF2D-VHL-G1--5--1-1_1</td>\n",
       "      <td>MEF2D-MYC_MEF2D</td>\n",
       "      <td>VHL</td>\n",
       "      <td>1-1_1</td>\n",
       "    </tr>\n",
       "    <tr>\n",
       "      <th>142810</th>\n",
       "      <td>5</td>\n",
       "      <td>4</td>\n",
       "      <td>5</td>\n",
       "      <td>85249</td>\n",
       "      <td>6697</td>\n",
       "      <td>6914</td>\n",
       "      <td>595</td>\n",
       "      <td>green</td>\n",
       "      <td>0</td>\n",
       "      <td>0</td>\n",
       "      <td>...</td>\n",
       "      <td>261602.0</td>\n",
       "      <td>197686.0</td>\n",
       "      <td>6.665970e+06</td>\n",
       "      <td>1.078096e+09</td>\n",
       "      <td>8.766448e+08</td>\n",
       "      <td>MEF2D-MYC_MEF2D-VHL-G1</td>\n",
       "      <td>MEF2D-MYC_MEF2D-VHL-G1--5--1-1_1</td>\n",
       "      <td>MEF2D-MYC_MEF2D</td>\n",
       "      <td>VHL</td>\n",
       "      <td>1-1_1</td>\n",
       "    </tr>\n",
       "    <tr>\n",
       "      <th>142811</th>\n",
       "      <td>5</td>\n",
       "      <td>4</td>\n",
       "      <td>6</td>\n",
       "      <td>57812</td>\n",
       "      <td>10995</td>\n",
       "      <td>8182</td>\n",
       "      <td>595</td>\n",
       "      <td>green</td>\n",
       "      <td>0</td>\n",
       "      <td>0</td>\n",
       "      <td>...</td>\n",
       "      <td>138691.0</td>\n",
       "      <td>92057.0</td>\n",
       "      <td>2.543220e+05</td>\n",
       "      <td>3.898541e+08</td>\n",
       "      <td>4.247283e+08</td>\n",
       "      <td>MEF2D-MYC_MEF2D-VHL-G1</td>\n",
       "      <td>MEF2D-MYC_MEF2D-VHL-G1--5--1-1_1</td>\n",
       "      <td>MEF2D-MYC_MEF2D</td>\n",
       "      <td>VHL</td>\n",
       "      <td>1-1_1</td>\n",
       "    </tr>\n",
       "    <tr>\n",
       "      <th>...</th>\n",
       "      <td>...</td>\n",
       "      <td>...</td>\n",
       "      <td>...</td>\n",
       "      <td>...</td>\n",
       "      <td>...</td>\n",
       "      <td>...</td>\n",
       "      <td>...</td>\n",
       "      <td>...</td>\n",
       "      <td>...</td>\n",
       "      <td>...</td>\n",
       "      <td>...</td>\n",
       "      <td>...</td>\n",
       "      <td>...</td>\n",
       "      <td>...</td>\n",
       "      <td>...</td>\n",
       "      <td>...</td>\n",
       "      <td>...</td>\n",
       "      <td>...</td>\n",
       "      <td>...</td>\n",
       "      <td>...</td>\n",
       "      <td>...</td>\n",
       "    </tr>\n",
       "    <tr>\n",
       "      <th>146541</th>\n",
       "      <td>5</td>\n",
       "      <td>3</td>\n",
       "      <td>5</td>\n",
       "      <td>97007</td>\n",
       "      <td>8871</td>\n",
       "      <td>5246</td>\n",
       "      <td>4165</td>\n",
       "      <td>red</td>\n",
       "      <td>0</td>\n",
       "      <td>0</td>\n",
       "      <td>...</td>\n",
       "      <td>10658.0</td>\n",
       "      <td>758323.0</td>\n",
       "      <td>1.575857e+09</td>\n",
       "      <td>2.140166e+06</td>\n",
       "      <td>6.326532e+09</td>\n",
       "      <td>MEF2D-MYC_MEF2D-VHL-G1</td>\n",
       "      <td>MEF2D-MYC_MEF2D-VHL-G1--5--5-1</td>\n",
       "      <td>MEF2D-MYC_MEF2D</td>\n",
       "      <td>VHL</td>\n",
       "      <td>5-1</td>\n",
       "    </tr>\n",
       "    <tr>\n",
       "      <th>146543</th>\n",
       "      <td>5</td>\n",
       "      <td>3</td>\n",
       "      <td>4</td>\n",
       "      <td>151880</td>\n",
       "      <td>3366</td>\n",
       "      <td>5018</td>\n",
       "      <td>4250</td>\n",
       "      <td>red</td>\n",
       "      <td>0</td>\n",
       "      <td>0</td>\n",
       "      <td>...</td>\n",
       "      <td>12734.0</td>\n",
       "      <td>864877.0</td>\n",
       "      <td>2.226853e+09</td>\n",
       "      <td>2.323508e+06</td>\n",
       "      <td>5.750569e+09</td>\n",
       "      <td>MEF2D-MYC_MEF2D-VHL-G1</td>\n",
       "      <td>MEF2D-MYC_MEF2D-VHL-G1--5--5-1</td>\n",
       "      <td>MEF2D-MYC_MEF2D</td>\n",
       "      <td>VHL</td>\n",
       "      <td>5-1</td>\n",
       "    </tr>\n",
       "    <tr>\n",
       "      <th>146545</th>\n",
       "      <td>5</td>\n",
       "      <td>3</td>\n",
       "      <td>4</td>\n",
       "      <td>126403</td>\n",
       "      <td>3368</td>\n",
       "      <td>5040</td>\n",
       "      <td>4335</td>\n",
       "      <td>red</td>\n",
       "      <td>0</td>\n",
       "      <td>0</td>\n",
       "      <td>...</td>\n",
       "      <td>11763.0</td>\n",
       "      <td>737902.0</td>\n",
       "      <td>1.433492e+09</td>\n",
       "      <td>2.620575e+06</td>\n",
       "      <td>4.903407e+09</td>\n",
       "      <td>MEF2D-MYC_MEF2D-VHL-G1</td>\n",
       "      <td>MEF2D-MYC_MEF2D-VHL-G1--5--5-1</td>\n",
       "      <td>MEF2D-MYC_MEF2D</td>\n",
       "      <td>VHL</td>\n",
       "      <td>5-1</td>\n",
       "    </tr>\n",
       "    <tr>\n",
       "      <th>146547</th>\n",
       "      <td>5</td>\n",
       "      <td>3</td>\n",
       "      <td>4</td>\n",
       "      <td>97987</td>\n",
       "      <td>3376</td>\n",
       "      <td>5087</td>\n",
       "      <td>4420</td>\n",
       "      <td>red</td>\n",
       "      <td>0</td>\n",
       "      <td>0</td>\n",
       "      <td>...</td>\n",
       "      <td>5565.0</td>\n",
       "      <td>459092.0</td>\n",
       "      <td>7.547584e+08</td>\n",
       "      <td>9.062890e+05</td>\n",
       "      <td>2.542371e+09</td>\n",
       "      <td>MEF2D-MYC_MEF2D-VHL-G1</td>\n",
       "      <td>MEF2D-MYC_MEF2D-VHL-G1--5--5-1</td>\n",
       "      <td>MEF2D-MYC_MEF2D</td>\n",
       "      <td>VHL</td>\n",
       "      <td>5-1</td>\n",
       "    </tr>\n",
       "    <tr>\n",
       "      <th>146549</th>\n",
       "      <td>5</td>\n",
       "      <td>3</td>\n",
       "      <td>4</td>\n",
       "      <td>27436</td>\n",
       "      <td>3398</td>\n",
       "      <td>5056</td>\n",
       "      <td>4505</td>\n",
       "      <td>red</td>\n",
       "      <td>0</td>\n",
       "      <td>0</td>\n",
       "      <td>...</td>\n",
       "      <td>1500.0</td>\n",
       "      <td>96619.0</td>\n",
       "      <td>2.095126e+08</td>\n",
       "      <td>1.090580e+05</td>\n",
       "      <td>4.786435e+08</td>\n",
       "      <td>MEF2D-MYC_MEF2D-VHL-G1</td>\n",
       "      <td>MEF2D-MYC_MEF2D-VHL-G1--5--5-1</td>\n",
       "      <td>MEF2D-MYC_MEF2D</td>\n",
       "      <td>VHL</td>\n",
       "      <td>5-1</td>\n",
       "    </tr>\n",
       "  </tbody>\n",
       "</table>\n",
       "<p>1630 rows × 39 columns</p>\n",
       "</div>"
      ],
      "text/plain": [
       "       image  parent_id  id    area      x     y     z  class  count_red  \\\n",
       "142803     5          4   5   20577   6768  6942   255  green          0   \n",
       "142806     5          4   5   71530   6723  6925   425  green          0   \n",
       "142808     5          4   5   74470   6703  6909   510  green          0   \n",
       "142810     5          4   5   85249   6697  6914   595  green          0   \n",
       "142811     5          4   6   57812  10995  8182   595  green          0   \n",
       "...      ...        ...  ..     ...    ...   ...   ...    ...        ...   \n",
       "146541     5          3   5   97007   8871  5246  4165    red          0   \n",
       "146543     5          3   4  151880   3366  5018  4250    red          0   \n",
       "146545     5          3   4  126403   3368  5040  4335    red          0   \n",
       "146547     5          3   4   97987   3376  5087  4420    red          0   \n",
       "146549     5          3   4   27436   3398  5056  4505    red          0   \n",
       "\n",
       "        count_green  ...  sum_green  sum_dapi      sum2_red    sum2_green  \\\n",
       "142803            0  ...    25828.0   94313.0  5.770340e+05  3.278296e+07   \n",
       "142806            0  ...   138807.0  182073.0  6.116180e+06  3.238597e+08   \n",
       "142808            0  ...   196238.0  187121.0  6.185692e+06  6.359862e+08   \n",
       "142810            0  ...   261602.0  197686.0  6.665970e+06  1.078096e+09   \n",
       "142811            0  ...   138691.0   92057.0  2.543220e+05  3.898541e+08   \n",
       "...             ...  ...        ...       ...           ...           ...   \n",
       "146541            0  ...    10658.0  758323.0  1.575857e+09  2.140166e+06   \n",
       "146543            0  ...    12734.0  864877.0  2.226853e+09  2.323508e+06   \n",
       "146545            0  ...    11763.0  737902.0  1.433492e+09  2.620575e+06   \n",
       "146547            0  ...     5565.0  459092.0  7.547584e+08  9.062890e+05   \n",
       "146549            0  ...     1500.0   96619.0  2.095126e+08  1.090580e+05   \n",
       "\n",
       "           sum2_dapi                filename  \\\n",
       "142803  4.921380e+08  MEF2D-MYC_MEF2D-VHL-G1   \n",
       "142806  7.876232e+08  MEF2D-MYC_MEF2D-VHL-G1   \n",
       "142808  8.496735e+08  MEF2D-MYC_MEF2D-VHL-G1   \n",
       "142810  8.766448e+08  MEF2D-MYC_MEF2D-VHL-G1   \n",
       "142811  4.247283e+08  MEF2D-MYC_MEF2D-VHL-G1   \n",
       "...              ...                     ...   \n",
       "146541  6.326532e+09  MEF2D-MYC_MEF2D-VHL-G1   \n",
       "146543  5.750569e+09  MEF2D-MYC_MEF2D-VHL-G1   \n",
       "146545  4.903407e+09  MEF2D-MYC_MEF2D-VHL-G1   \n",
       "146547  2.542371e+09  MEF2D-MYC_MEF2D-VHL-G1   \n",
       "146549  4.786435e+08  MEF2D-MYC_MEF2D-VHL-G1   \n",
       "\n",
       "                                   group              exp  treat   part  \n",
       "142803  MEF2D-MYC_MEF2D-VHL-G1--5--1-1_1  MEF2D-MYC_MEF2D    VHL  1-1_1  \n",
       "142806  MEF2D-MYC_MEF2D-VHL-G1--5--1-1_1  MEF2D-MYC_MEF2D    VHL  1-1_1  \n",
       "142808  MEF2D-MYC_MEF2D-VHL-G1--5--1-1_1  MEF2D-MYC_MEF2D    VHL  1-1_1  \n",
       "142810  MEF2D-MYC_MEF2D-VHL-G1--5--1-1_1  MEF2D-MYC_MEF2D    VHL  1-1_1  \n",
       "142811  MEF2D-MYC_MEF2D-VHL-G1--5--1-1_1  MEF2D-MYC_MEF2D    VHL  1-1_1  \n",
       "...                                  ...              ...    ...    ...  \n",
       "146541    MEF2D-MYC_MEF2D-VHL-G1--5--5-1  MEF2D-MYC_MEF2D    VHL    5-1  \n",
       "146543    MEF2D-MYC_MEF2D-VHL-G1--5--5-1  MEF2D-MYC_MEF2D    VHL    5-1  \n",
       "146545    MEF2D-MYC_MEF2D-VHL-G1--5--5-1  MEF2D-MYC_MEF2D    VHL    5-1  \n",
       "146547    MEF2D-MYC_MEF2D-VHL-G1--5--5-1  MEF2D-MYC_MEF2D    VHL    5-1  \n",
       "146549    MEF2D-MYC_MEF2D-VHL-G1--5--5-1  MEF2D-MYC_MEF2D    VHL    5-1  \n",
       "\n",
       "[1630 rows x 39 columns]"
      ]
     },
     "execution_count": 487,
     "metadata": {},
     "output_type": "execute_result"
    }
   ],
   "source": [
    "dots[(dots.exp==\"MEF2D-MYC_MEF2D\")&(dots.treat==\"VHL\")]"
   ]
  },
  {
   "cell_type": "code",
   "execution_count": 464,
   "metadata": {},
   "outputs": [
    {
     "data": {
      "text/plain": [
       "array([5651.00185232, 5622.80451618, 2622.64703561, ..., 7447.61665946,\n",
       "       7527.98051646, 7603.38037693])"
      ]
     },
     "execution_count": 464,
     "metadata": {},
     "output_type": "execute_result"
    }
   ],
   "source": [
    "dist"
   ]
  },
  {
   "cell_type": "code",
   "execution_count": 475,
   "metadata": {},
   "outputs": [
    {
     "data": {
      "text/plain": [
       "array([140.143861  , 111.81231633,  55.83969024, 170.15660554,\n",
       "       120.90663036, 117.97511412, 170.31143442, 140.47414244,\n",
       "       143.16967599, 178.34793157, 144.69285477, 118.9689969 ,\n",
       "       168.99571973, 147.75021055, 138.86192983, 152.29697597,\n",
       "       154.09380981, 169.09166093,  97.72478014, 144.56060382,\n",
       "       128.48330313, 106.10016446, 132.44282555, 179.45700412,\n",
       "       165.62639295, 127.61369012, 146.94473079, 132.53469148,\n",
       "       110.01868528, 152.76925229, 150.59886222, 155.44266539,\n",
       "       141.09940645, 138.06680448, 147.67207759, 145.307751  ,\n",
       "       144.04378192,  82.65960991,  86.93643911, 147.84207039,\n",
       "       160.13395781, 134.62498513,  76.1329098 , 113.79882396,\n",
       "        65.48450164, 109.57441895, 163.54386274, 146.08891984,\n",
       "       166.99494753, 129.53884553, 127.05436828,  33.01724411,\n",
       "        86.82550213, 170.4366974 , 170.09934445, 177.0239748 ,\n",
       "       168.55641617, 144.86272813, 177.33473997, 178.01303499,\n",
       "       137.98203945])"
      ]
     },
     "execution_count": 475,
     "metadata": {},
     "output_type": "execute_result"
    }
   ],
   "source": [
    "v[0][v[0]<180]"
   ]
  },
  {
   "cell_type": "code",
   "execution_count": 469,
   "metadata": {},
   "outputs": [],
   "source": [
    "v = dists['MEF2D-MYC_MEF2DDMSO']"
   ]
  },
  {
   "cell_type": "code",
   "execution_count": 456,
   "metadata": {},
   "outputs": [
    {
     "data": {
      "image/png": "[encoded data removed]",
      "text/plain": [
       "<Figure size 432x288 with 1 Axes>"
      ]
     },
     "metadata": {
      "needs_background": "light"
     },
     "output_type": "display_data"
    },
    {
     "data": {
      "image/png": "[encoded data removed]",
      "text/plain": [
       "<Figure size 432x288 with 1 Axes>"
      ]
     },
     "metadata": {
      "needs_background": "light"
     },
     "output_type": "display_data"
    },
    {
     "data": {
      "image/png": "[encoded data removed]",
      "text/plain": [
       "<Figure size 432x288 with 1 Axes>"
      ]
     },
     "metadata": {
      "needs_background": "light"
     },
     "output_type": "display_data"
    },
    {
     "data": {
      "image/png": "[encoded data removed]",
      "text/plain": [
       "<Figure size 432x288 with 1 Axes>"
      ]
     },
     "metadata": {
      "needs_background": "light"
     },
     "output_type": "display_data"
    }
   ],
   "source": [
    "size=600\n",
    "defa = 40\n",
    "for k, v in dists.items():\n",
    "    plt.title(k)\n",
    "    sns.histplot(x=v[0][v[0]<size], weights=v[1][v[0]<size]/((4*3.14*(defa+v[0][v[0]<size]))**2), kde=True, bins=100, fill=True)\n",
    "    plt.show()"
   ]
  },
  {
   "cell_type": "code",
   "execution_count": 480,
   "metadata": {},
   "outputs": [
    {
     "data": {
      "text/html": [
       "<div>\n",
       "<style scoped>\n",
       "    .dataframe tbody tr th:only-of-type {\n",
       "        vertical-align: middle;\n",
       "    }\n",
       "\n",
       "    .dataframe tbody tr th {\n",
       "        vertical-align: top;\n",
       "    }\n",
       "\n",
       "    .dataframe thead th {\n",
       "        text-align: right;\n",
       "    }\n",
       "</style>\n",
       "<table border=\"1\" class=\"dataframe\">\n",
       "  <thead>\n",
       "    <tr style=\"text-align: right;\">\n",
       "      <th></th>\n",
       "      <th>x</th>\n",
       "      <th>y</th>\n",
       "      <th>z</th>\n",
       "      <th>sum_green</th>\n",
       "    </tr>\n",
       "  </thead>\n",
       "  <tbody>\n",
       "    <tr>\n",
       "      <th>82435</th>\n",
       "      <td>1203.923077</td>\n",
       "      <td>5303.153846</td>\n",
       "      <td>-1536.538462</td>\n",
       "      <td>17240.0</td>\n",
       "    </tr>\n",
       "    <tr>\n",
       "      <th>82437</th>\n",
       "      <td>1216.923077</td>\n",
       "      <td>5294.153846</td>\n",
       "      <td>-1451.538462</td>\n",
       "      <td>23502.0</td>\n",
       "    </tr>\n",
       "    <tr>\n",
       "      <th>82439</th>\n",
       "      <td>540.923077</td>\n",
       "      <td>2172.153846</td>\n",
       "      <td>-1366.538462</td>\n",
       "      <td>9186.0</td>\n",
       "    </tr>\n",
       "    <tr>\n",
       "      <th>82440</th>\n",
       "      <td>1193.923077</td>\n",
       "      <td>5307.153846</td>\n",
       "      <td>-1366.538462</td>\n",
       "      <td>15249.0</td>\n",
       "    </tr>\n",
       "    <tr>\n",
       "      <th>82442</th>\n",
       "      <td>517.923077</td>\n",
       "      <td>2191.153846</td>\n",
       "      <td>-1281.538462</td>\n",
       "      <td>10382.0</td>\n",
       "    </tr>\n",
       "    <tr>\n",
       "      <th>...</th>\n",
       "      <td>...</td>\n",
       "      <td>...</td>\n",
       "      <td>...</td>\n",
       "      <td>...</td>\n",
       "    </tr>\n",
       "    <tr>\n",
       "      <th>142790</th>\n",
       "      <td>2989.875</td>\n",
       "      <td>1426.625</td>\n",
       "      <td>6502.5</td>\n",
       "      <td>17929.0</td>\n",
       "    </tr>\n",
       "    <tr>\n",
       "      <th>142792</th>\n",
       "      <td>2984.875</td>\n",
       "      <td>1415.625</td>\n",
       "      <td>6587.5</td>\n",
       "      <td>20308.0</td>\n",
       "    </tr>\n",
       "    <tr>\n",
       "      <th>142794</th>\n",
       "      <td>2984.875</td>\n",
       "      <td>1426.625</td>\n",
       "      <td>6672.5</td>\n",
       "      <td>18061.0</td>\n",
       "    </tr>\n",
       "    <tr>\n",
       "      <th>142796</th>\n",
       "      <td>3008.875</td>\n",
       "      <td>1397.625</td>\n",
       "      <td>6757.5</td>\n",
       "      <td>12699.0</td>\n",
       "    </tr>\n",
       "    <tr>\n",
       "      <th>142798</th>\n",
       "      <td>2998.875</td>\n",
       "      <td>1413.625</td>\n",
       "      <td>6842.5</td>\n",
       "      <td>13663.0</td>\n",
       "    </tr>\n",
       "  </tbody>\n",
       "</table>\n",
       "<p>9790806 rows × 4 columns</p>\n",
       "</div>"
      ],
      "text/plain": [
       "                  x            y            z  sum_green\n",
       "82435   1203.923077  5303.153846 -1536.538462    17240.0\n",
       "82437   1216.923077  5294.153846 -1451.538462    23502.0\n",
       "82439    540.923077  2172.153846 -1366.538462     9186.0\n",
       "82440   1193.923077  5307.153846 -1366.538462    15249.0\n",
       "82442    517.923077  2191.153846 -1281.538462    10382.0\n",
       "...             ...          ...          ...        ...\n",
       "142790     2989.875     1426.625       6502.5    17929.0\n",
       "142792     2984.875     1415.625       6587.5    20308.0\n",
       "142794     2984.875     1426.625       6672.5    18061.0\n",
       "142796     3008.875     1397.625       6757.5    12699.0\n",
       "142798     2998.875     1413.625       6842.5    13663.0\n",
       "\n",
       "[9790806 rows x 4 columns]"
      ]
     },
     "execution_count": 480,
     "metadata": {},
     "output_type": "execute_result"
    }
   ],
   "source": [
    "v"
   ]
  },
  {
   "cell_type": "code",
   "execution_count": 481,
   "metadata": {},
   "outputs": [
    {
     "data": {
      "image/png": "[encoded data removed]",
      "text/plain": [
       "<Figure size 432x432 with 3 Axes>"
      ]
     },
     "metadata": {
      "needs_background": "light"
     },
     "output_type": "display_data"
    },
    {
     "data": {
      "image/png": "[encoded data removed]",
      "text/plain": [
       "<Figure size 432x432 with 3 Axes>"
      ]
     },
     "metadata": {
      "needs_background": "light"
     },
     "output_type": "display_data"
    },
    {
     "data": {
      "image/png": "[encoded data removed]",
      "text/plain": [
       "<Figure size 432x432 with 3 Axes>"
      ]
     },
     "metadata": {
      "needs_background": "light"
     },
     "output_type": "display_data"
    },
    {
     "data": {
      "image/png": "[encoded data removed]",
      "text/plain": [
       "<Figure size 432x432 with 3 Axes>"
      ]
     },
     "metadata": {
      "needs_background": "light"
     },
     "output_type": "display_data"
    }
   ],
   "source": [
    "size=1000\n",
    "bins=50\n",
    "s = 20\n",
    "for k, v in newdists.items():\n",
    "    p = sns.jointplot(data=v[(abs(v.x)<size) & (abs(v.y)<size) & (abs(v.z)<size)], x=\"x\", y=\"y\",  kind=\"hist\", weights=v[(abs(v.x)<size) & (abs(v.y)<size)& (abs(v.z)<size)].sum_green, bins=bins, marginal_kws=dict(bins=bins), palette=\"viridis\", color=\"green\", kde=True)\n",
    "    # gridsize=50, kind=\"hex\", marginal_kws=dict(bins=50))\n",
    "    # hue=\"sum_green_sum\")\n",
    "    x_values = [0]#, 2, 3, 4]\n",
    "    y_values = [0]#, 0, 0, 0]\n",
    "    p.ax_joint.plot(x_values, y_values, 'o', ms=s, markerfacecolor=\"None\",\n",
    "         markeredgecolor='red', markeredgewidth=1)\n",
    "    p.fig.suptitle(k)\n",
    "    plt.show()"
   ]
  },
  {
   "cell_type": "code",
   "execution_count": null,
   "metadata": {},
   "outputs": [],
   "source": [
    "# apply plot to old data from juliana    "
   ]
  },
  {
   "cell_type": "code",
   "execution_count": null,
   "metadata": {},
   "outputs": [],
   "source": [
    "# make a nice fake plot\n",
    "sns.plot()"
   ]
  }
 ],
 "metadata": {
  "kernelspec": {
   "display_name": "Python 3",
   "language": "python",
   "name": "python3"
  },
  "language_info": {
   "codemirror_mode": {
    "name": "ipython",
    "version": 3
   },
   "file_extension": ".py",
   "mimetype": "text/x-python",
   "name": "python",
   "nbconvert_exporter": "python",
   "pygments_lexer": "ipython3",
   "version": "3.8.3"
  },
  "latex_envs": {
   "LaTeX_envs_menu_present": true,
   "autoclose": false,
   "autocomplete": true,
   "bibliofile": "biblio.bib",
   "cite_by": "apalike",
   "current_citInitial": 1,
   "eqLabelWithNumbers": true,
   "eqNumInitial": 1,
   "hotkeys": {
    "equation": "Ctrl-E",
    "itemize": "Ctrl-I"
   },
   "labels_anchors": false,
   "latex_user_defs": false,
   "report_style_numbering": false,
   "user_envs_cfg": false
  },
  "toc": {
   "base_numbering": 1,
   "nav_menu": {},
   "number_sections": false,
   "sideBar": true,
   "skip_h1_title": false,
   "title_cell": "Table of Contents",
   "title_sidebar": "Contents",
   "toc_cell": false,
   "toc_position": {
    "height": "calc(100% - 180px)",
    "left": "10px",
    "top": "150px",
    "width": "212px"
   },
   "toc_section_display": true,
   "toc_window_display": true
  },
  "varInspector": {
   "cols": {
    "lenName": 16,
    "lenType": 16,
    "lenVar": 40
   },
   "kernels_config": {
    "python": {
     "delete_cmd_postfix": "",
     "delete_cmd_prefix": "del ",
     "library": "var_list.py",
     "varRefreshCmd": "print(var_dic_list())"
    },
    "r": {
     "delete_cmd_postfix": ") ",
     "delete_cmd_prefix": "rm(",
     "library": "var_list.r",
     "varRefreshCmd": "cat(var_dic_list()) "
    }
   },
   "types_to_exclude": [
    "module",
    "function",
    "builtin_function_or_method",
    "instance",
    "_Feature"
   ],
   "window_display": false
  }
 },
 "nbformat": 4,
 "nbformat_minor": 2
}
