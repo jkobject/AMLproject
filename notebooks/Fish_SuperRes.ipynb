{
 "cells": [
  {
   "cell_type": "code",
   "execution_count": 570,
   "metadata": {
    "scrolled": false
   },
   "outputs": [
    {
     "name": "stdout",
     "output_type": "stream",
     "text": [
      "The autoreload extension is already loaded. To reload it, use:\n",
      "  %reload_ext autoreload\n",
      "The rpy2.ipython extension is already loaded. To reload it, use:\n",
      "  %reload_ext rpy2.ipython\n"
     ]
    }
   ],
   "source": [
    "import pandas as pd\n",
    "from scipy.stats import binom_test, fisher_exact\n",
    "from genepy.utils import helper as h \n",
    "\n",
    "from collections import Counter\n",
    "import matplotlib.pyplot as plt\n",
    "import seaborn as sns\n",
    "\n",
    "%load_ext autoreload\n",
    "%autoreload 2\n",
    "%load_ext rpy2.ipython"
   ]
  },
  {
   "cell_type": "markdown",
   "metadata": {},
   "source": [
    "## Processing the data"
   ]
  },
  {
   "cell_type": "code",
   "execution_count": 4,
   "metadata": {},
   "outputs": [],
   "source": [
    "project='FishSuperResColoc'\n",
    "version='v2'"
   ]
  },
  {
   "cell_type": "code",
   "execution_count": 609,
   "metadata": {},
   "outputs": [],
   "source": [
    "rename = {\n",
    "\"Text Between Delimiters\":\"subset\",\n",
    "\"Folder Short\":\"folder_short\",\n",
    "\"Folder Path\":\"folder\",\n",
    "\"Source.Name\":\"name\",\n",
    "\"ImageDocumentName::Image Name\":\"image\",\n",
    "\"ParentID::ID of the parent!!I\":\"parent_id\",\n",
    "\"ID::ID!!I\":\"id\",\n",
    "\"RegionsCount::Count!!I\": \"count\",\n",
    "\"ImageSceneName::Image Scene Name \":\"scene\",\n",
    "\"Area1::Area Unscaled!!R\":\"area_u\",\n",
    "\"Area::Area!!R\": \"area\",\n",
    "\"CenterX1::Center X Unscaled!!R\":\"x\",\n",
    "\"CenterY1::Center Y Unscaled!!R\":\"y\",\n",
    "\"ImageScaleX::Image Scale X!!R\":\"scale_x\",\n",
    "\"ImageScaleY::Image Scale Y!!R\":\"scale_y\",\n",
    "\"ImageIndexZ::Image Index Z!!I\":\"z\",\n",
    "'Classes 5 RegionsCount ::Classes 5 Count!!I':\"count_red\",\n",
    "'Classes 9 RegionsCount ::Classes 9 Count!!I':\"count_green\",\n",
    "\"ClassColorName::Region Class Color Name\": \"class\",\n",
    "\"IntensityMaximum_TV1-T1-SR::Intensity Maximum of channel 'TV1-T1-SR'!!R\":\"max_red\",\n",
    "\"IntensityMaximum_TV2-T1-SR::Intensity Maximum of channel 'TV2-T1-SR'!!R\":\"max_tv2_t1\",\n",
    "\"IntensityMaximum_TV2-T2-SR::Intensity Maximum of channel 'TV2-T2-SR'!!R\":\"max_green\",\n",
    "\"IntensityMaximum_TV2-T3-SR::Intensity Maximum of channel 'TV2-T3-SR'!!R\":\"max_dapi\",\n",
    "\"IntensityMean_TV1-T1-SR::Intensity Mean Value of channel 'TV1-T1-SR'!!R\":\"mean_red\",\n",
    "\"IntensityMean_TV2-T1-SR::Intensity Mean Value of channel 'TV2-T1-SR'!!R\":\"mean_tv2_t1\",\n",
    "\"IntensityMean_TV2-T2-SR::Intensity Mean Value of channel 'TV2-T2-SR'!!R\":\"mean_green\",\n",
    "\"IntensityMean_TV2-T3-SR::Intensity Mean Value of channel 'TV2-T3-SR'!!R\":\"mean_dapi\",\n",
    "\"IntensityMinimum_TV1-T1-SR::Intensity Minimum of channel 'TV1-T1-SR'!!R\":\"min_red\",\n",
    "\"IntensityMinimum_TV2-T1-SR::Intensity Minimum of channel 'TV2-T1-SR'!!R\":\"min_tv2_t1\",\n",
    "\"IntensityMinimum_TV2-T2-SR::Intensity Minimum of channel 'TV2-T2-SR'!!R\":\"min_green\",\n",
    "\"IntensityMinimum_TV2-T3-SR::Intensity Minimum of channel 'TV2-T3-SR'!!R\":\"min_dapi\",\n",
    "\"IntensitySum0_TV1-T1-SR::Intensity Pixel Count of channel 'TV1-T1-SR'!!R\":\"pixsum_red\",\n",
    "\"IntensitySum0_TV2-T1-SR::Intensity Pixel Count of channel 'TV2-T1-SR'!!R\":\"pixsum_tv2_t1\",\n",
    "\"IntensitySum0_TV2-T2-SR::Intensity Pixel Count of channel 'TV2-T2-SR'!!R\":\"pixsum_green\",\n",
    "\"IntensitySum0_TV2-T3-SR::Intensity Pixel Count of channel 'TV2-T3-SR'!!R\":\"pixsum_dapi\",\n",
    "\"IntensityRange_TV1-T1-SR::Intensity Range of channel 'TV1-T1-SR'!!R\":\"range_red\",\n",
    "\"IntensityRange_TV2-T1-SR::Intensity Range of channel 'TV2-T1-SR'!!R\":\"range_tv2_t1\",\n",
    "\"IntensityRange_TV2-T2-SR::Intensity Range of channel 'TV2-T2-SR'!!R\":\"range_green\",\n",
    "\"IntensityRange_TV2-T3-SR::Intensity Range of channel 'TV2-T3-SR'!!R\":\"range_dapi\",\n",
    "\"IntensityStd_TV1-T1-SR::Intensity Standard Deviation of channel 'TV1-T1-SR'!!R\":\"std_red\",\n",
    "\"IntensityStd_TV2-T1-SR::Intensity Standard Deviation of channel 'TV2-T1-SR'!!R\":\"std_tv2_t1\",\n",
    "\"IntensityStd_TV2-T2-SR::Intensity Standard Deviation of channel 'TV2-T2-SR'!!R\":\"std_green\",\n",
    "\"IntensityStd_TV2-T3-SR::Intensity Standard Deviation of channel 'TV2-T3-SR'!!R\":\"std_dapi\",\n",
    "\"IntensitySum1_TV1-T1-SR::Intensity Sum of channel 'TV1-T1-SR'!!R\":\"sum_red\",\n",
    "\"IntensitySum1_TV2-T1-SR::Intensity Sum of channel 'TV2-T1-SR'!!R\":\"sum_tv2_t1\",\n",
    "\"IntensitySum1_TV2-T2-SR::Intensity Sum of channel 'TV2-T2-SR'!!R\":\"sum_green\",\n",
    "\"IntensitySum1_TV2-T3-SR::Intensity Sum of channel 'TV2-T3-SR'!!R\":\"sum_dapi\",\n",
    "\"IntensitySum2_TV1-T1-SR::Intensity Sum Squares of channel 'TV1-T1-SR'!!R\":\"sum2_red\",\n",
    "\"IntensitySum2_TV2-T1-SR::Intensity Sum Squares of channel 'TV2-T1-SR'!!R\":\"sum2_tv2_t1\",\n",
    "\"IntensitySum2_TV2-T2-SR::Intensity Sum Squares of channel 'TV2-T2-SR'!!R\":\"sum2_green\",\n",
    "\"IntensitySum2_TV2-T3-SR::Intensity Sum Squares of channel 'TV2-T3-SR'!!R\":\"sum2_dapi\",\n",
    "\"Unnamed: 27\":\"unknown\"\n",
    "}"
   ]
  },
  {
   "cell_type": "code",
   "execution_count": 80,
   "metadata": {},
   "outputs": [
    {
     "data": {
      "text/html": [
       "<div>\n",
       "<style scoped>\n",
       "    .dataframe tbody tr th:only-of-type {\n",
       "        vertical-align: middle;\n",
       "    }\n",
       "\n",
       "    .dataframe tbody tr th {\n",
       "        vertical-align: top;\n",
       "    }\n",
       "\n",
       "    .dataframe thead th {\n",
       "        text-align: right;\n",
       "    }\n",
       "</style>\n",
       "<table border=\"1\" class=\"dataframe\">\n",
       "  <thead>\n",
       "    <tr style=\"text-align: right;\">\n",
       "      <th></th>\n",
       "      <th>subset</th>\n",
       "      <th>folder_short</th>\n",
       "      <th>folder</th>\n",
       "      <th>name</th>\n",
       "      <th>image</th>\n",
       "      <th>parent_id</th>\n",
       "      <th>id</th>\n",
       "      <th>scene</th>\n",
       "      <th>area</th>\n",
       "      <th>x</th>\n",
       "      <th>...</th>\n",
       "      <th>sum_1</th>\n",
       "      <th>sum_2</th>\n",
       "      <th>range_1</th>\n",
       "      <th>range_2</th>\n",
       "      <th>std_1</th>\n",
       "      <th>std_2</th>\n",
       "      <th>sum1_1</th>\n",
       "      <th>sum1_2</th>\n",
       "      <th>sum2_1</th>\n",
       "      <th>sum2_2</th>\n",
       "    </tr>\n",
       "  </thead>\n",
       "  <tbody>\n",
       "    <tr>\n",
       "      <th>0</th>\n",
       "      <td>Subset10</td>\n",
       "      <td>AAVS1_CRISPR_MED1\\AAVS1_CRISPR_MED1 Image7\\</td>\n",
       "      <td>C:\\Users\\M232498\\Desktop\\Ju\\GDrive\\IF FISH fin...</td>\n",
       "      <td>Image 7_Subset10_Out_Maximum intensity project...</td>\n",
       "      <td>NaN</td>\n",
       "      <td>NaN</td>\n",
       "      <td>NaN</td>\n",
       "      <td>NaN</td>\n",
       "      <td>pixel²</td>\n",
       "      <td>pixel</td>\n",
       "      <td>...</td>\n",
       "      <td>pixel²</td>\n",
       "      <td>pixel²</td>\n",
       "      <td>Unknown</td>\n",
       "      <td>Unknown</td>\n",
       "      <td>Unknown</td>\n",
       "      <td>Unknown</td>\n",
       "      <td>Unknown</td>\n",
       "      <td>Unknown</td>\n",
       "      <td>Unknown²</td>\n",
       "      <td>Unknown²</td>\n",
       "    </tr>\n",
       "    <tr>\n",
       "      <th>1</th>\n",
       "      <td>Subset10</td>\n",
       "      <td>AAVS1_CRISPR_MED1\\AAVS1_CRISPR_MED1 Image7\\</td>\n",
       "      <td>C:\\Users\\M232498\\Desktop\\Ju\\GDrive\\IF FISH fin...</td>\n",
       "      <td>Image 7_Subset10_Out_Maximum intensity project...</td>\n",
       "      <td>Image 7_Subset10_Out_Maximum intensity project...</td>\n",
       "      <td>14.0</td>\n",
       "      <td>15.0</td>\n",
       "      <td>NaN</td>\n",
       "      <td>7</td>\n",
       "      <td>368.64285714286</td>\n",
       "      <td>...</td>\n",
       "      <td>7</td>\n",
       "      <td>7</td>\n",
       "      <td>1661</td>\n",
       "      <td>4080</td>\n",
       "      <td>547.72403548468</td>\n",
       "      <td>1510.241245314</td>\n",
       "      <td>49094</td>\n",
       "      <td>164490</td>\n",
       "      <td>346117272</td>\n",
       "      <td>3878964986</td>\n",
       "    </tr>\n",
       "    <tr>\n",
       "      <th>2</th>\n",
       "      <td>Subset10</td>\n",
       "      <td>AAVS1_CRISPR_MED1\\AAVS1_CRISPR_MED1 Image7\\</td>\n",
       "      <td>C:\\Users\\M232498\\Desktop\\Ju\\GDrive\\IF FISH fin...</td>\n",
       "      <td>Image 7_Subset10_Out_Maximum intensity project...</td>\n",
       "      <td>Image 7_Subset10_Out_Maximum intensity project...</td>\n",
       "      <td>14.0</td>\n",
       "      <td>16.0</td>\n",
       "      <td>NaN</td>\n",
       "      <td>28</td>\n",
       "      <td>396.21428571429</td>\n",
       "      <td>...</td>\n",
       "      <td>28</td>\n",
       "      <td>28</td>\n",
       "      <td>8089</td>\n",
       "      <td>13818</td>\n",
       "      <td>2760.2006509669</td>\n",
       "      <td>3701.1435641623</td>\n",
       "      <td>123989</td>\n",
       "      <td>523204</td>\n",
       "      <td>754750539</td>\n",
       "      <td>10146373720</td>\n",
       "    </tr>\n",
       "    <tr>\n",
       "      <th>3</th>\n",
       "      <td>Subset10</td>\n",
       "      <td>AAVS1_CRISPR_MED1\\AAVS1_CRISPR_MED1 Image7\\</td>\n",
       "      <td>C:\\Users\\M232498\\Desktop\\Ju\\GDrive\\IF FISH fin...</td>\n",
       "      <td>Image 7_Subset10_Out_Maximum intensity project...</td>\n",
       "      <td>Image 7_Subset10_Out_Maximum intensity project...</td>\n",
       "      <td>14.0</td>\n",
       "      <td>17.0</td>\n",
       "      <td>NaN</td>\n",
       "      <td>13</td>\n",
       "      <td>426.88461538462</td>\n",
       "      <td>...</td>\n",
       "      <td>13</td>\n",
       "      <td>13</td>\n",
       "      <td>4583</td>\n",
       "      <td>6576</td>\n",
       "      <td>1313.3590522016</td>\n",
       "      <td>2101.7813019022</td>\n",
       "      <td>108303</td>\n",
       "      <td>285907</td>\n",
       "      <td>922971237</td>\n",
       "      <td>6340918481</td>\n",
       "    </tr>\n",
       "    <tr>\n",
       "      <th>4</th>\n",
       "      <td>Subset10</td>\n",
       "      <td>AAVS1_CRISPR_MED1\\AAVS1_CRISPR_MED1 Image7\\</td>\n",
       "      <td>C:\\Users\\M232498\\Desktop\\Ju\\GDrive\\IF FISH fin...</td>\n",
       "      <td>Image 7_Subset10_Out_Maximum intensity project...</td>\n",
       "      <td>Image 7_Subset10_Out_Maximum intensity project...</td>\n",
       "      <td>14.0</td>\n",
       "      <td>18.0</td>\n",
       "      <td>NaN</td>\n",
       "      <td>29</td>\n",
       "      <td>340.74137931035</td>\n",
       "      <td>...</td>\n",
       "      <td>29</td>\n",
       "      <td>29</td>\n",
       "      <td>3515</td>\n",
       "      <td>12083</td>\n",
       "      <td>1077.0374837392</td>\n",
       "      <td>3107.8328355138</td>\n",
       "      <td>196046</td>\n",
       "      <td>460225</td>\n",
       "      <td>1357791794</td>\n",
       "      <td>7574132899</td>\n",
       "    </tr>\n",
       "    <tr>\n",
       "      <th>...</th>\n",
       "      <td>...</td>\n",
       "      <td>...</td>\n",
       "      <td>...</td>\n",
       "      <td>...</td>\n",
       "      <td>...</td>\n",
       "      <td>...</td>\n",
       "      <td>...</td>\n",
       "      <td>...</td>\n",
       "      <td>...</td>\n",
       "      <td>...</td>\n",
       "      <td>...</td>\n",
       "      <td>...</td>\n",
       "      <td>...</td>\n",
       "      <td>...</td>\n",
       "      <td>...</td>\n",
       "      <td>...</td>\n",
       "      <td>...</td>\n",
       "      <td>...</td>\n",
       "      <td>...</td>\n",
       "      <td>...</td>\n",
       "      <td>...</td>\n",
       "    </tr>\n",
       "    <tr>\n",
       "      <th>117757</th>\n",
       "      <td>Subset9</td>\n",
       "      <td>IF FISH final\\Runx2_excel\\</td>\n",
       "      <td>C:\\Users\\M232498\\Desktop\\Ju\\GDrive\\IF FISH fin...</td>\n",
       "      <td>Runx2_488_MYC_FISH_SIM-Orthogonal Projection-0...</td>\n",
       "      <td>Runx2_488_MYC_FISH_SIM-Orthogonal Projection-0...</td>\n",
       "      <td>1.0</td>\n",
       "      <td>23.0</td>\n",
       "      <td>NaN</td>\n",
       "      <td>55230</td>\n",
       "      <td>1146.4196089082</td>\n",
       "      <td>...</td>\n",
       "      <td>NaN</td>\n",
       "      <td>NaN</td>\n",
       "      <td>NaN</td>\n",
       "      <td>NaN</td>\n",
       "      <td>NaN</td>\n",
       "      <td>NaN</td>\n",
       "      <td>NaN</td>\n",
       "      <td>NaN</td>\n",
       "      <td>NaN</td>\n",
       "      <td>NaN</td>\n",
       "    </tr>\n",
       "    <tr>\n",
       "      <th>117758</th>\n",
       "      <td>Subset9</td>\n",
       "      <td>IF FISH final\\Runx2_excel\\</td>\n",
       "      <td>C:\\Users\\M232498\\Desktop\\Ju\\GDrive\\IF FISH fin...</td>\n",
       "      <td>Runx2_488_MYC_FISH_SIM-Orthogonal Projection-0...</td>\n",
       "      <td>Runx2_488_MYC_FISH_SIM-Orthogonal Projection-0...</td>\n",
       "      <td>1.0</td>\n",
       "      <td>24.0</td>\n",
       "      <td>NaN</td>\n",
       "      <td>60384</td>\n",
       "      <td>1546.5754835718</td>\n",
       "      <td>...</td>\n",
       "      <td>NaN</td>\n",
       "      <td>NaN</td>\n",
       "      <td>NaN</td>\n",
       "      <td>NaN</td>\n",
       "      <td>NaN</td>\n",
       "      <td>NaN</td>\n",
       "      <td>NaN</td>\n",
       "      <td>NaN</td>\n",
       "      <td>NaN</td>\n",
       "      <td>NaN</td>\n",
       "    </tr>\n",
       "    <tr>\n",
       "      <th>117759</th>\n",
       "      <td>Subset9</td>\n",
       "      <td>IF FISH final\\Runx2_excel\\</td>\n",
       "      <td>C:\\Users\\M232498\\Desktop\\Ju\\GDrive\\IF FISH fin...</td>\n",
       "      <td>Runx2_488_MYC_FISH_SIM-Orthogonal Projection-0...</td>\n",
       "      <td>Runx2_488_MYC_FISH_SIM-Orthogonal Projection-0...</td>\n",
       "      <td>1.0</td>\n",
       "      <td>25.0</td>\n",
       "      <td>NaN</td>\n",
       "      <td>48042</td>\n",
       "      <td>2480.9880521211</td>\n",
       "      <td>...</td>\n",
       "      <td>NaN</td>\n",
       "      <td>NaN</td>\n",
       "      <td>NaN</td>\n",
       "      <td>NaN</td>\n",
       "      <td>NaN</td>\n",
       "      <td>NaN</td>\n",
       "      <td>NaN</td>\n",
       "      <td>NaN</td>\n",
       "      <td>NaN</td>\n",
       "      <td>NaN</td>\n",
       "    </tr>\n",
       "    <tr>\n",
       "      <th>117760</th>\n",
       "      <td>Subset9</td>\n",
       "      <td>IF FISH final\\Runx2_excel\\</td>\n",
       "      <td>C:\\Users\\M232498\\Desktop\\Ju\\GDrive\\IF FISH fin...</td>\n",
       "      <td>Runx2_488_MYC_FISH_SIM-Orthogonal Projection-0...</td>\n",
       "      <td>Runx2_488_MYC_FISH_SIM-Orthogonal Projection-0...</td>\n",
       "      <td>1.0</td>\n",
       "      <td>26.0</td>\n",
       "      <td>NaN</td>\n",
       "      <td>70306</td>\n",
       "      <td>1932.6927004808</td>\n",
       "      <td>...</td>\n",
       "      <td>NaN</td>\n",
       "      <td>NaN</td>\n",
       "      <td>NaN</td>\n",
       "      <td>NaN</td>\n",
       "      <td>NaN</td>\n",
       "      <td>NaN</td>\n",
       "      <td>NaN</td>\n",
       "      <td>NaN</td>\n",
       "      <td>NaN</td>\n",
       "      <td>NaN</td>\n",
       "    </tr>\n",
       "    <tr>\n",
       "      <th>117761</th>\n",
       "      <td>Subset9</td>\n",
       "      <td>IF FISH final\\Runx2_excel\\</td>\n",
       "      <td>C:\\Users\\M232498\\Desktop\\Ju\\GDrive\\IF FISH fin...</td>\n",
       "      <td>Runx2_488_MYC_FISH_SIM-Orthogonal Projection-0...</td>\n",
       "      <td>Runx2_488_MYC_FISH_SIM-Orthogonal Projection-0...</td>\n",
       "      <td>1.0</td>\n",
       "      <td>27.0</td>\n",
       "      <td>NaN</td>\n",
       "      <td>68115</td>\n",
       "      <td>129.92614695735</td>\n",
       "      <td>...</td>\n",
       "      <td>NaN</td>\n",
       "      <td>NaN</td>\n",
       "      <td>NaN</td>\n",
       "      <td>NaN</td>\n",
       "      <td>NaN</td>\n",
       "      <td>NaN</td>\n",
       "      <td>NaN</td>\n",
       "      <td>NaN</td>\n",
       "      <td>NaN</td>\n",
       "      <td>NaN</td>\n",
       "    </tr>\n",
       "  </tbody>\n",
       "</table>\n",
       "<p>117762 rows × 27 columns</p>\n",
       "</div>"
      ],
      "text/plain": [
       "          subset                                 folder_short  \\\n",
       "0       Subset10  AAVS1_CRISPR_MED1\\AAVS1_CRISPR_MED1 Image7\\   \n",
       "1       Subset10  AAVS1_CRISPR_MED1\\AAVS1_CRISPR_MED1 Image7\\   \n",
       "2       Subset10  AAVS1_CRISPR_MED1\\AAVS1_CRISPR_MED1 Image7\\   \n",
       "3       Subset10  AAVS1_CRISPR_MED1\\AAVS1_CRISPR_MED1 Image7\\   \n",
       "4       Subset10  AAVS1_CRISPR_MED1\\AAVS1_CRISPR_MED1 Image7\\   \n",
       "...          ...                                          ...   \n",
       "117757   Subset9                   IF FISH final\\Runx2_excel\\   \n",
       "117758   Subset9                   IF FISH final\\Runx2_excel\\   \n",
       "117759   Subset9                   IF FISH final\\Runx2_excel\\   \n",
       "117760   Subset9                   IF FISH final\\Runx2_excel\\   \n",
       "117761   Subset9                   IF FISH final\\Runx2_excel\\   \n",
       "\n",
       "                                                   folder  \\\n",
       "0       C:\\Users\\M232498\\Desktop\\Ju\\GDrive\\IF FISH fin...   \n",
       "1       C:\\Users\\M232498\\Desktop\\Ju\\GDrive\\IF FISH fin...   \n",
       "2       C:\\Users\\M232498\\Desktop\\Ju\\GDrive\\IF FISH fin...   \n",
       "3       C:\\Users\\M232498\\Desktop\\Ju\\GDrive\\IF FISH fin...   \n",
       "4       C:\\Users\\M232498\\Desktop\\Ju\\GDrive\\IF FISH fin...   \n",
       "...                                                   ...   \n",
       "117757  C:\\Users\\M232498\\Desktop\\Ju\\GDrive\\IF FISH fin...   \n",
       "117758  C:\\Users\\M232498\\Desktop\\Ju\\GDrive\\IF FISH fin...   \n",
       "117759  C:\\Users\\M232498\\Desktop\\Ju\\GDrive\\IF FISH fin...   \n",
       "117760  C:\\Users\\M232498\\Desktop\\Ju\\GDrive\\IF FISH fin...   \n",
       "117761  C:\\Users\\M232498\\Desktop\\Ju\\GDrive\\IF FISH fin...   \n",
       "\n",
       "                                                     name  \\\n",
       "0       Image 7_Subset10_Out_Maximum intensity project...   \n",
       "1       Image 7_Subset10_Out_Maximum intensity project...   \n",
       "2       Image 7_Subset10_Out_Maximum intensity project...   \n",
       "3       Image 7_Subset10_Out_Maximum intensity project...   \n",
       "4       Image 7_Subset10_Out_Maximum intensity project...   \n",
       "...                                                   ...   \n",
       "117757  Runx2_488_MYC_FISH_SIM-Orthogonal Projection-0...   \n",
       "117758  Runx2_488_MYC_FISH_SIM-Orthogonal Projection-0...   \n",
       "117759  Runx2_488_MYC_FISH_SIM-Orthogonal Projection-0...   \n",
       "117760  Runx2_488_MYC_FISH_SIM-Orthogonal Projection-0...   \n",
       "117761  Runx2_488_MYC_FISH_SIM-Orthogonal Projection-0...   \n",
       "\n",
       "                                                    image  parent_id    id  \\\n",
       "0                                                     NaN        NaN   NaN   \n",
       "1       Image 7_Subset10_Out_Maximum intensity project...       14.0  15.0   \n",
       "2       Image 7_Subset10_Out_Maximum intensity project...       14.0  16.0   \n",
       "3       Image 7_Subset10_Out_Maximum intensity project...       14.0  17.0   \n",
       "4       Image 7_Subset10_Out_Maximum intensity project...       14.0  18.0   \n",
       "...                                                   ...        ...   ...   \n",
       "117757  Runx2_488_MYC_FISH_SIM-Orthogonal Projection-0...        1.0  23.0   \n",
       "117758  Runx2_488_MYC_FISH_SIM-Orthogonal Projection-0...        1.0  24.0   \n",
       "117759  Runx2_488_MYC_FISH_SIM-Orthogonal Projection-0...        1.0  25.0   \n",
       "117760  Runx2_488_MYC_FISH_SIM-Orthogonal Projection-0...        1.0  26.0   \n",
       "117761  Runx2_488_MYC_FISH_SIM-Orthogonal Projection-0...        1.0  27.0   \n",
       "\n",
       "        scene    area                x  ...   sum_1   sum_2  range_1  range_2  \\\n",
       "0         NaN  pixel²            pixel  ...  pixel²  pixel²  Unknown  Unknown   \n",
       "1         NaN       7  368.64285714286  ...       7       7     1661     4080   \n",
       "2         NaN      28  396.21428571429  ...      28      28     8089    13818   \n",
       "3         NaN      13  426.88461538462  ...      13      13     4583     6576   \n",
       "4         NaN      29  340.74137931035  ...      29      29     3515    12083   \n",
       "...       ...     ...              ...  ...     ...     ...      ...      ...   \n",
       "117757    NaN   55230  1146.4196089082  ...     NaN     NaN      NaN      NaN   \n",
       "117758    NaN   60384  1546.5754835718  ...     NaN     NaN      NaN      NaN   \n",
       "117759    NaN   48042  2480.9880521211  ...     NaN     NaN      NaN      NaN   \n",
       "117760    NaN   70306  1932.6927004808  ...     NaN     NaN      NaN      NaN   \n",
       "117761    NaN   68115  129.92614695735  ...     NaN     NaN      NaN      NaN   \n",
       "\n",
       "                  std_1            std_2   sum1_1   sum1_2      sum2_1  \\\n",
       "0               Unknown          Unknown  Unknown  Unknown    Unknown²   \n",
       "1       547.72403548468   1510.241245314    49094   164490   346117272   \n",
       "2       2760.2006509669  3701.1435641623   123989   523204   754750539   \n",
       "3       1313.3590522016  2101.7813019022   108303   285907   922971237   \n",
       "4       1077.0374837392  3107.8328355138   196046   460225  1357791794   \n",
       "...                 ...              ...      ...      ...         ...   \n",
       "117757              NaN              NaN      NaN      NaN         NaN   \n",
       "117758              NaN              NaN      NaN      NaN         NaN   \n",
       "117759              NaN              NaN      NaN      NaN         NaN   \n",
       "117760              NaN              NaN      NaN      NaN         NaN   \n",
       "117761              NaN              NaN      NaN      NaN         NaN   \n",
       "\n",
       "             sum2_2  \n",
       "0          Unknown²  \n",
       "1        3878964986  \n",
       "2       10146373720  \n",
       "3        6340918481  \n",
       "4        7574132899  \n",
       "...             ...  \n",
       "117757          NaN  \n",
       "117758          NaN  \n",
       "117759          NaN  \n",
       "117760          NaN  \n",
       "117761          NaN  \n",
       "\n",
       "[117762 rows x 27 columns]"
      ]
     },
     "execution_count": 80,
     "metadata": {},
     "output_type": "execute_result"
    }
   ],
   "source": [
    "data = pd.read_csv('../data/'+project+'/data_query_files/querry.csv').rename(columns=rename)\n",
    "data"
   ]
  },
  {
   "cell_type": "code",
   "execution_count": 87,
   "metadata": {},
   "outputs": [
    {
     "data": {
      "text/plain": [
       "Index(['subset', 'folder_short', 'folder', 'name', 'image', 'parent_id', 'id',\n",
       "       'scene', 'area', 'x', 'y', 'max_1', 'max_2', 'mean_1', 'mean_2',\n",
       "       'min_1', 'min_2', 'sum_1', 'sum_2', 'range_1', 'range_2', 'std_1',\n",
       "       'std_2', 'sum1_1', 'sum1_2', 'sum2_1', 'sum2_2'],\n",
       "      dtype='object')"
      ]
     },
     "execution_count": 87,
     "metadata": {},
     "output_type": "execute_result"
    }
   ],
   "source": [
    "data.columns"
   ]
  },
  {
   "cell_type": "code",
   "execution_count": 5,
   "metadata": {},
   "outputs": [
    {
     "name": "stdout",
     "output_type": "stream",
     "text": [
      "\u001b[7m<U+FEFF>\u001b[mText Between Delimiters,Folder Short,Folder Path,Source.Name,ImageDocumentName::Image Name,ParentID::ID of the parent!!I,ID::ID!!I,ImageSceneName::Image Scene Name ,Area1::Area Unscaled!!R,CenterX1::Center X Unscaled!!R,CenterY1::Center Y Unscaled!!R,IntensityMaximum_TV1-T1-SR::Intensity Maximum of channel 'TV1-T1-SR'!!R,IntensityMaximum_TV2-T1-SR::Intensity Maximum of channel 'TV2-T1-SR'!!R,IntensityMean_TV1-T1-SR::Intensity Mean Value of channel 'TV1-T1-SR'!!R,IntensityMean_TV2-T1-SR::Intensity Mean Value of channel 'TV2-T1-SR'!!R,IntensityMinimum_TV1-T1-SR::Intensity Minimum of channel 'TV1-T1-SR'!!R,IntensityMinimum_TV2-T1-SR::Intensity Minimum of channel 'TV2-T1-SR'!!R,IntensitySum0_TV1-T1-SR::Intensity Pixel Count of channel 'TV1-T1-SR'!!R,IntensitySum0_TV2-T1-SR::Intensity Pixel Count of channel 'TV2-T1-SR'!!R,IntensityRange_TV1-T1-SR::Intensity Range of channel 'TV1-T1-SR'!!R,IntensityRange_TV2-T1-SR::Intensity Range of channel 'TV2-T1-SR'!!R,IntensityStd_TV1-T1-SR::Intensity Standard Deviation of channel 'TV1-T1-SR'!!R,IntensityStd_TV2-T1-SR::Intensity Standard Deviation of channel 'TV2-T1-SR'!!R,IntensitySum1_TV1-T1-SR::Intensity Sum of channel 'TV1-T1-SR'!!R,IntensitySum1_TV2-T1-SR::Intensity Sum of channel 'TV2-T1-SR'!!R,IntensitySum2_TV1-T1-SR::Intensity Sum Squares of channel 'TV1-T1-SR'!!R,IntensitySum2_TV2-T1-SR::Intensity Sum Squares of channel 'TV2-T1-SR'!!R\n",
      "Subset10,AAVS1_CRISPR_MED1\\AAVS1_CRISPR_MED1 Image7\\,C:\\Users\\M232498\\Desktop\\Ju\\GDrive\\IF FISH final\\AAVS1_CRISPR_MED1\\AAVS1_CRISPR_MED1 Image7\\,Image 7_Subset10_Out_Maximum intensity projection__ Green Dots.csv,,,,,pixel²,pixel,pixel,Unknown,Unknown,Unknown,Unknown,Unknown,Unknown,pixel²,pixel²,Unknown,Unknown,Unknown,Unknown,Unknown,Unknown,Unknown²,Unknown²\n",
      "\u001b[K:\u001b[K"
     ]
    }
   ],
   "source": [
    "cat ../data/$project/data_query_files/querry.csv | less"
   ]
  },
  {
   "cell_type": "code",
   "execution_count": null,
   "metadata": {},
   "outputs": [],
   "source": [
    "data.iloc[0].tolist()"
   ]
  },
  {
   "cell_type": "code",
   "execution_count": null,
   "metadata": {},
   "outputs": [],
   "source": [
    "set(data.folder_short)"
   ]
  },
  {
   "cell_type": "code",
   "execution_count": null,
   "metadata": {},
   "outputs": [],
   "source": [
    "cond = {'AAVS1_CRISPR_MED1\\\\AAVS1_CRISPR_MED1 Image7\\\\':'AAVS1',\n",
    " 'IF FISH final\\\\AAVS1_CRISPR_MEF2D\\\\':'AAVS1',\n",
    " 'IF FISH final\\\\IRF2BP2_excel\\\\':'',\n",
    " 'IF FISH final\\\\MEF2C_excel\\\\':'',\n",
    " 'IF FISH final\\\\MEF2D_CRISPR_MED1\\\\':'MEF2D',\n",
    " 'IF FISH final\\\\MEF2D_CRISPR_MEF2D\\\\':'MEF2D',\n",
    " 'IF FISH final\\\\Runx2_excel\\\\':''}"
   ]
  },
  {
   "cell_type": "code",
   "execution_count": null,
   "metadata": {},
   "outputs": [],
   "source": [
    "prot = {'AAVS1_CRISPR_MED1\\\\AAVS1_CRISPR_MED1 Image7\\\\':'MED1',\n",
    " 'IF FISH final\\\\AAVS1_CRISPR_MEF2D\\\\':'MEF2D',\n",
    " 'IF FISH final\\\\IRF2BP2_excel\\\\':'IRF2BP2',\n",
    " 'IF FISH final\\\\MEF2C_excel\\\\':'MEF2C',\n",
    " 'IF FISH final\\\\MEF2D_CRISPR_MED1\\\\':'MED1',\n",
    " 'IF FISH final\\\\MEF2D_CRISPR_MEF2D\\\\':'MEF2D',\n",
    " 'IF FISH final\\\\Runx2_excel\\\\':'RUNX2'}"
   ]
  },
  {
   "cell_type": "code",
   "execution_count": null,
   "metadata": {},
   "outputs": [],
   "source": [
    "data = data[~data.name.str.contains('Classes')]"
   ]
  },
  {
   "cell_type": "code",
   "execution_count": null,
   "metadata": {},
   "outputs": [],
   "source": [
    "data['condition'] = [cond[i] for i in data.folder_short]"
   ]
  },
  {
   "cell_type": "code",
   "execution_count": null,
   "metadata": {},
   "outputs": [],
   "source": [
    "data['protein'] = [prot[i] for i in data.folder_short]"
   ]
  },
  {
   "cell_type": "code",
   "execution_count": null,
   "metadata": {},
   "outputs": [],
   "source": [
    "data['type'] = [i.split('.')[0].split('_')[-1] for i in data.name]"
   ]
  },
  {
   "cell_type": "code",
   "execution_count": null,
   "metadata": {},
   "outputs": [],
   "source": [
    "data['name'] = [cond[i]+'_'+prot[i] for i in data.folder_short]"
   ]
  },
  {
   "cell_type": "code",
   "execution_count": null,
   "metadata": {},
   "outputs": [],
   "source": [
    "set(data.type)"
   ]
  },
  {
   "cell_type": "code",
   "execution_count": null,
   "metadata": {},
   "outputs": [],
   "source": [
    "data = data[~data.id.isna()]"
   ]
  },
  {
   "cell_type": "code",
   "execution_count": null,
   "metadata": {},
   "outputs": [],
   "source": [
    "set(data.subset)"
   ]
  },
  {
   "cell_type": "code",
   "execution_count": null,
   "metadata": {},
   "outputs": [],
   "source": [
    "data = data.drop(columns=['scene','image','folder','folder_short'])"
   ]
  },
  {
   "cell_type": "code",
   "execution_count": null,
   "metadata": {},
   "outputs": [],
   "source": [
    "data['subset'] = [i.split('Subset')[-1] for i in data.subset]"
   ]
  },
  {
   "cell_type": "code",
   "execution_count": null,
   "metadata": {},
   "outputs": [],
   "source": [
    "for val in ['area','x','y','max_1','max_2','mean_1','mean_2','min_1','min_2','range_1','range_2','std_1','std_2','sum_1','sum_2','sum1_1','sum1_2','sum2_1','sum2_2']:\n",
    "    data[val]= data[val].astype(float)"
   ]
  },
  {
   "cell_type": "code",
   "execution_count": null,
   "metadata": {},
   "outputs": [],
   "source": [
    "for val in ['subset','parent_id','id']:\n",
    "    data[val] = data[val].astype('int')"
   ]
  },
  {
   "cell_type": "code",
   "execution_count": null,
   "metadata": {},
   "outputs": [],
   "source": [
    "len(data.id)"
   ]
  },
  {
   "cell_type": "markdown",
   "metadata": {},
   "source": [
    "# results"
   ]
  },
  {
   "cell_type": "markdown",
   "metadata": {},
   "source": [
    "## why we are not doing a monte carlo but just a hypthesis testing on a binomial\n",
    "\n",
    "monte carlo would be useful in our case if we did not know the expected distribution.\n",
    "given a way to generate our distribution (which specific parameters can be learnt from the data) we might be able to express what would be the null hypothesis by estimating this unknown distribution. it is useful for when we don't know the exact distribution or when it is too complex to analytically solve.  \n",
    "\n",
    "However in our case we can approximate the distribution well enough by a binomial. It is true that given that the dna will not have the same density everywhere on the nucleus, that the dots will have themselves variable intensity and size, which might express or not a multiplicity of points, the distribution is not a binomial. \n",
    "\n",
    "But you said yourself that for all purposes we could simplify these hypothesis. \n",
    "\n",
    "I also don't think that we have enough data points to correctly estimate the monte carlo parameters. \n",
    "\n",
    "A binomial is thus enough for this analysis\n",
    "\n",
    "### having specificities in the data needing to be modelled:\n",
    "\n",
    "I found that the data has specific bias that still need to be taken in account while not needing to change the statistics:\n",
    "\n",
    "the avg size of a MYC dot is 350 whereas the one of a MYC green is 45"
   ]
  },
  {
   "cell_type": "code",
   "execution_count": null,
   "metadata": {},
   "outputs": [],
   "source": [
    "def desc(data):\n",
    "    return data.sum()/data.mean(),len(data)\n",
    "# for each group\n",
    "res = {}\n",
    "for val in set(data.name):\n",
    "    print('\\n',val)\n",
    "    group = data[data.name==val]\n",
    "    space = group[group.type=='Nucleus'].area.sum()\n",
    "    totsize = group[group.type==' Green Dots'].area.sum()\n",
    "                 \n",
    "    coloc,s_coloc = desc(group[group.type=='MYC  Green'].area)\n",
    "    outside,s_outside = desc(group[group.type=='MYC'].area)\n",
    "    print('data: \\n  - total nucleuses size: '+str(int(space))+'\\n  - total Green dot size: '+str(int(totsize))+'\\n  - counts for coloc: '+str(int(s_coloc))+'\\n  - counts for not coloc: '+str(int(s_outside))) \n",
    "    p_in = totsize/space\n",
    "    isin = coloc/(outside+coloc)\n",
    "    res[val] = [s_coloc,s_outside]\n",
    "    print('proba: (null, obs)',p_in,isin)\n",
    "    print('nb of datapoints: ',s_coloc+s_outside)\n",
    "    print('p_value: ',binom_test([s_coloc,s_outside],p=p_in))"
   ]
  },
  {
   "cell_type": "markdown",
   "metadata": {},
   "source": [
    "from this analysis it seems clear that the colocalization happens less than 50% of the time in any condition but that we have colocalization with MYC for all analyzed proteins compared to random chance, given the data extracted by the algorithm and the assumption we made."
   ]
  },
  {
   "cell_type": "code",
   "execution_count": null,
   "metadata": {},
   "outputs": [],
   "source": [
    "fisher_exact([res['AAVS1_MED1'], res['MEF2D_MED1']])"
   ]
  },
  {
   "cell_type": "code",
   "execution_count": null,
   "metadata": {},
   "outputs": [],
   "source": [
    "fisher_exact([res['AAVS1_MEF2D'], res['MEF2D_MEF2D']])"
   ]
  },
  {
   "cell_type": "markdown",
   "metadata": {},
   "source": [
    "we thus have much 1.7 times more colocalization of MEF2D when MEF2D is degraded vs when it is not and 2 times less colocalization of MED1 but p_val of .1"
   ]
  },
  {
   "cell_type": "markdown",
   "metadata": {},
   "source": [
    "## running new version"
   ]
  },
  {
   "cell_type": "code",
   "execution_count": null,
   "metadata": {
    "scrolled": false
   },
   "outputs": [],
   "source": [
    "TODO: compare intensities & areas between conditions"
   ]
  },
  {
   "cell_type": "code",
   "execution_count": 12,
   "metadata": {},
   "outputs": [],
   "source": [
    "project='FishSuperResColoc'\n",
    "version='v2'"
   ]
  },
  {
   "cell_type": "code",
   "execution_count": 667,
   "metadata": {},
   "outputs": [
    {
     "name": "stderr",
     "output_type": "stream",
     "text": [
      "/home/jeremie/.local/lib/python3.8/site-packages/IPython/core/interactiveshell.py:3062: DtypeWarning: Columns (3,4,5,6,8,9,11,12) have mixed types.Specify dtype option on import or set low_memory=False.\n",
      "  has_raised = await self.run_ast_nodes(code_ast.body, cell_name,\n",
      "/home/jeremie/.local/lib/python3.8/site-packages/IPython/core/interactiveshell.py:3062: DtypeWarning: Columns (3,4,5,6,8,9) have mixed types.Specify dtype option on import or set low_memory=False.\n",
      "  has_raised = await self.run_ast_nodes(code_ast.body, cell_name,\n"
     ]
    }
   ],
   "source": [
    "csvs = ! ls ../data/$project/Yaser_analysis/Tables*/*/*.csv\n",
    "res = pd.DataFrame()\n",
    "for val in csvs:\n",
    "    v = pd.read_csv(val,).drop(index=0)\n",
    "    v['filename'] = '-'.join(val.split('/')[-3].split('-')[1:])+\"-w\"+val.split('/')[-2].split('-')[-2]\n",
    "    res = res.append(v)\n",
    "res = res.rename(columns=rename)\n",
    "res.parent_id = res.parent_id.astype(int)\n",
    "res.id = res.id.astype(int)\n",
    "res.area = res.area.astype(float)\n",
    "res = res.reset_index(drop=True)"
   ]
  },
  {
   "cell_type": "code",
   "execution_count": 668,
   "metadata": {},
   "outputs": [],
   "source": [
    "\n",
    "res[\"zsize\"] = "
   ]
  },
  {
   "cell_type": "code",
   "execution_count": 669,
   "metadata": {},
   "outputs": [
    {
     "data": {
      "text/plain": [
       "{'MED1-MYC_MEF2D-DMSOvsVHL',\n",
       " 'MEF2C-MYC_MEF2D-DMSOvsVHL',\n",
       " 'MEF2D-MEF2C_DMSOvsVHL'}"
      ]
     },
     "execution_count": 669,
     "metadata": {},
     "output_type": "execute_result"
    }
   ],
   "source": [
    "values =  ['area', 'x', 'y', \"z\", \"scale_x\", \"scale_y\", \"count_red\", \"count_green\", \"max_red\", \"max_green\", \"max_dapi\", \"mean_red\", \"mean_green\", \"mean_dapi\", \"min_red\", \"min_green\", \"min_dapi\", \"pixsum_red\", \"pixsum_green\", \"pixsum_dapi\", \"range_red\", \"range_green\", \"range_dapi\", \"std_red\", \"std_green\", \"std_dapi\", \"sum_red\", \"sum_green\", \"sum_dapi\", \"sum2_red\", \"sum2_green\", \"sum2_dapi\"]\n",
    "res[values] = pd.concat([res[i].astype(str).str.replace('  ','0').replace(' ','0').replace('', '0').replace('None',\"0\").astype(float) for i in values], axis=1)\n",
    "res['x']= res['x']*res[\"scale_x\"]\n",
    "res['y']= res['y']*res[\"scale_y\"]\n",
    "res = res.drop(columns=['area_u',\"scale_x\",'scale_y'])\n",
    "set(['-'.join(i.split('/')[-3].split('-')[1:]) for i in csvs])"
   ]
  },
  {
   "cell_type": "markdown",
   "metadata": {},
   "source": [
    "TV2-T3: Dapi\n",
    "\n",
    "TV1-T1: red\n",
    "\n",
    "TV2-T2: green"
   ]
  },
  {
   "cell_type": "code",
   "execution_count": 670,
   "metadata": {
    "scrolled": false
   },
   "outputs": [
    {
     "name": "stderr",
     "output_type": "stream",
     "text": [
      "<ipython-input-670-15ff780eabc4>:1: FutureWarning: The default value of regex will change from True to False in a future version.\n",
      "  res[\"new_id\"]= res['filename'] + \"--\" + res['image'].str.replace('.czi','').str.replace('Image ','').str.replace('Channel Alignment_P',\"\")+\"--\"+res['id'].astype(str)+\"--\"+res['parent_id'].astype(str)\n"
     ]
    }
   ],
   "source": [
    "res[\"new_id\"]= res['filename'] + \"--\" + res['image'].str.replace('.czi','').str.replace('Image ','').str.replace('Channel Alignment_P',\"\")+\"--\"+res['id'].astype(str)+\"--\"+res['parent_id'].astype(str)\n",
    "## todo redo\n",
    "res['group'] = res['filename'] + \"--\" + res['image'].str.replace('.czi','').str.replace('Image ','').str.replace('Channel Alignment_P',\"\")\n",
    "# todo redo\n",
    "res['parent_id'] = [i.split('--')[-1] for i in res.new_id]\n",
    "res['exp'] = [i.split('--')[0].split('-w')[0] for i in res.new_id]\n",
    "res['treat'] = [i.split('--')[0].split('-w')[1] for i in res.new_id]\n",
    "res['image'] = [i.split('--')[-1].split('_')[0] for i in res.group]\n",
    "res['part'] = [i.split('_')[-1] for i in res.group]\n",
    "res['id'] = [i.split('--')[-2] for i in res.new_id]\n",
    "set(res.exp)"
   ]
  },
  {
   "cell_type": "code",
   "execution_count": 673,
   "metadata": {},
   "outputs": [],
   "source": [
    "res['class'] = res['class'].replace({'Orange':\"dapi\", 'Fuchsia': \"green\", \"White\": 'red'})\n",
    "res = res.drop(index=res[res['class'].isna()].index)\n",
    "\n",
    "vals=['parent_id',\"id\",\"area\",\"x\",'y',\"z\",\"count_red\",\"count_green\"]\n",
    "res[vals] = res[vals].astype(int)"
   ]
  },
  {
   "cell_type": "code",
   "execution_count": 677,
   "metadata": {
    "scrolled": true
   },
   "outputs": [
    {
     "data": {
      "text/plain": [
       "count_red      0.028077\n",
       "count_green    0.056730\n",
       "dtype: float64"
      ]
     },
     "execution_count": 677,
     "metadata": {},
     "output_type": "execute_result"
    }
   ],
   "source": [
    "cells = res[res[\"parent_id\"]==1]\n",
    "dots = res[res[\"parent_id\"]!=1]\n",
    "cells[['count_red','count_green']].mean()"
   ]
  },
  {
   "cell_type": "code",
   "execution_count": 702,
   "metadata": {},
   "outputs": [
    {
     "data": {
      "text/plain": [
       "2475"
      ]
     },
     "execution_count": 702,
     "metadata": {},
     "output_type": "execute_result"
    }
   ],
   "source": [
    "len(cells),clen(dots), res['id'].max()"
   ]
  },
  {
   "cell_type": "code",
   "execution_count": 690,
   "metadata": {},
   "outputs": [
    {
     "data": {
      "text/plain": [
       "5938"
      ]
     },
     "execution_count": 690,
     "metadata": {},
     "output_type": "execute_result"
    }
   ],
   "source": [
    "len(cells[cells.group==\"MEF2C-MYC_MEF2D-DMSOvsVHL-wDMSO--12_Out_1-1\"][['x','y']])"
   ]
  },
  {
   "cell_type": "code",
   "execution_count": 533,
   "metadata": {},
   "outputs": [
    {
     "ename": "ValueError",
     "evalue": "('multiple of the same id', 0.0, 'VHL_MEF2D-MYC-wVHL--5_SIM_1-4', Counter({7: 25, 8: 11, 9: 11, 10: 7, 11: 3, 12: 1}))",
     "output_type": "error",
     "traceback": [
      "\u001b[0;31m----------------------------------------------------------\u001b[0m",
      "\u001b[0;31mValueError\u001b[0m               Traceback (most recent call last)",
      "\u001b[0;32m<ipython-input-533-f95887d1dded>\u001b[0m in \u001b[0;36m<module>\u001b[0;34m\u001b[0m\n\u001b[1;32m     13\u001b[0m             \u001b[0mzdots\u001b[0m \u001b[0;34m=\u001b[0m \u001b[0mgdots\u001b[0m\u001b[0;34m[\u001b[0m\u001b[0;34m(\u001b[0m\u001b[0mgdots\u001b[0m\u001b[0;34m.\u001b[0m\u001b[0mz\u001b[0m\u001b[0;34m==\u001b[0m\u001b[0mz\u001b[0m\u001b[0;34m)\u001b[0m \u001b[0;34m&\u001b[0m \u001b[0mgdots\u001b[0m\u001b[0;34m[\u001b[0m\u001b[0mc\u001b[0m\u001b[0;34m]\u001b[0m\u001b[0;34m]\u001b[0m\u001b[0;34m\u001b[0m\u001b[0;34m\u001b[0m\u001b[0m\n\u001b[1;32m     14\u001b[0m             \u001b[0;32mif\u001b[0m \u001b[0mlen\u001b[0m\u001b[0;34m(\u001b[0m\u001b[0mset\u001b[0m\u001b[0;34m(\u001b[0m\u001b[0mCounter\u001b[0m\u001b[0;34m(\u001b[0m\u001b[0mzdots\u001b[0m\u001b[0;34m.\u001b[0m\u001b[0mid\u001b[0m\u001b[0;34m)\u001b[0m\u001b[0;34m.\u001b[0m\u001b[0mvalues\u001b[0m\u001b[0;34m(\u001b[0m\u001b[0;34m)\u001b[0m\u001b[0;34m)\u001b[0m\u001b[0;34m)\u001b[0m \u001b[0;34m>\u001b[0m \u001b[0;36m2\u001b[0m\u001b[0;34m:\u001b[0m\u001b[0;34m\u001b[0m\u001b[0;34m\u001b[0m\u001b[0m\n\u001b[0;32m---> 15\u001b[0;31m                 \u001b[0;32mraise\u001b[0m \u001b[0mValueError\u001b[0m\u001b[0;34m(\u001b[0m\u001b[0;34m'multiple of the same id'\u001b[0m\u001b[0;34m,\u001b[0m \u001b[0mz\u001b[0m\u001b[0;34m,\u001b[0m \u001b[0mgroup\u001b[0m\u001b[0;34m,\u001b[0m \u001b[0mCounter\u001b[0m\u001b[0;34m(\u001b[0m\u001b[0mzdots\u001b[0m\u001b[0;34m.\u001b[0m\u001b[0mid\u001b[0m\u001b[0;34m)\u001b[0m\u001b[0;34m)\u001b[0m\u001b[0;34m\u001b[0m\u001b[0;34m\u001b[0m\u001b[0m\n\u001b[0m\u001b[1;32m     16\u001b[0m \u001b[0;34m\u001b[0m\u001b[0m\n\u001b[1;32m     17\u001b[0m             \u001b[0;32mif\u001b[0m \u001b[0mprevzdots\u001b[0m\u001b[0;34m:\u001b[0m\u001b[0;34m\u001b[0m\u001b[0;34m\u001b[0m\u001b[0m\n",
      "\u001b[0;31mValueError\u001b[0m: ('multiple of the same id', 0.0, 'VHL_MEF2D-MYC-wVHL--5_SIM_1-4', Counter({7: 25, 8: 11, 9: 11, 10: 7, 11: 3, 12: 1}))"
     ]
    }
   ],
   "source": [
    "# do the same for dots\n",
    "maxid = 0\n",
    "for group in set(res.group):\n",
    "    \n",
    "    # merging cells\n",
    "    gdots = dots[(dots.group==group)]\n",
    "    cid = list(set(gdots.id.astype(int)))\n",
    "    \n",
    "    # unique ids\n",
    "    for c in ['likely_green', \"likely_red\"]:\n",
    "        prevzdots = False\n",
    "        for z in set(gdots.z):\n",
    "            zdots = gdots[(gdots.z==z) & gdots[c]]\n",
    "            if len(set(Counter(zdots.id).values())) > 2:\n",
    "                raise ValueError('multiple of the same id', z, group, Counter(zdots.id))\n",
    "            \n",
    "            if prevzdots:\n",
    "                smaller = np.array([np.sqrt(np.sum((zdots[['x','y']].values - np.array(val))**2, 1)) for val in prevzdots[['x','y']].values])\n",
    "                rad = np.sqrt(zdots.area/3.14)/pixsize\n",
    "\n",
    "                smallerloc = np.argmin(smaller, 0)\n",
    "                prevdotsloc = np.argwhere(smaller[smallerloc]<rad*2)\n",
    "                newdotsloc = np.argwhere(smaller[smallerloc]>=rad*2)\n",
    "                \n",
    "                # we reassign right ids:\n",
    "                dots.loc[zdots.iloc[prevdotsloc].index, 'id'] = prevzdots.iloc[smallerloc].id.tolist()\n",
    "                \n",
    "                #we create new ids:\n",
    "                dots.loc[zdots.iloc[newdotsloc].index, 'id'] = range(maxid, len(newdotsloc) + maxid)\n",
    "                maxid += len(newdotsloc) \n",
    "            else:\n",
    "                prevzdots = zdots.copy()\n",
    "                maxid = max(zdots.id) if maxid==0 else len(zdots.id) + maxid"
   ]
  },
  {
   "cell_type": "code",
   "execution_count": 130,
   "metadata": {},
   "outputs": [],
   "source": [
    "#removing known noise from samples with a nucleus in only one zstack\n",
    "ind = []\n",
    "for i in zmerged[(zmerged[\"parent_id\"]=='1') & (zmerged.zsize<8)][['group','id']].values:\n",
    "    ind += zmerged[(zmerged.group==i[0])&(zmerged.parent_id==i[1])].index.tolist()\n",
    "ind += zmerged[(zmerged[\"parent_id\"]=='1') & (zmerged.zsize < 8)].index.tolist()\n",
    "dropped = zmerged.loc[ind]\n",
    "zmerged = zmerged.drop(index=ind).reset_index(drop=True)\n",
    "dropped"
   ]
  },
  {
   "cell_type": "markdown",
   "metadata": {},
   "source": [
    "MEF2C red / MEF2D green for MEF2C-MEF2D experiment (no FISH!) else MYC red"
   ]
  },
  {
   "cell_type": "code",
   "execution_count": 125,
   "metadata": {},
   "outputs": [
    {
     "name": "stdout",
     "output_type": "stream",
     "text": [
      "______________________\n",
      "VHL_MEF2C-MEF2D\n",
      "nucleus in DMSO/VHL\n",
      "16 10\n",
      "foldchange in VHL:\n",
      " red        green\n",
      "[0.43515092 0.91307459]\n",
      "______________________\n",
      "VHL_MEF2C-MYC\n",
      "nucleus in DMSO/VHL\n",
      "18 9\n",
      "foldchange in VHL:\n",
      " red        green\n",
      "[0.7254902  3.53481719]\n",
      "______________________\n",
      "VHL_MED1-MYC\n",
      "nucleus in DMSO/VHL\n",
      "12 14\n",
      "foldchange in VHL:\n",
      " red        green\n",
      "[0.64207186 2.12667387]\n",
      "______________________\n",
      "VHL_MEF2D-MYC\n",
      "nucleus in DMSO/VHL\n",
      "11 18\n",
      "foldchange in VHL:\n",
      " red        green\n",
      "[1.2310391  0.86521216]\n"
     ]
    }
   ],
   "source": [
    "# aggregate\n",
    "for val in set(cells.exp): \n",
    "    print('______________________')\n",
    "    print(val)\n",
    "    print(\"nucleus in DMSO/VHL\")\n",
    "    dmso = len(cells[(cells['exp']==val) & (cells['treat']==\"DMSO\")])\n",
    "    vhl = len(cells[(cells['exp']==val) & (cells['treat']==\"VHL\")])\n",
    "    print(dmso, vhl)\n",
    "    print(\"foldchange in VHL:\")\n",
    "    print(' red        green')\n",
    "    print(((cells[(cells['exp']==val) & (cells['treat']==\"DMSO\")][['count_red','count_green']].sum()/dmso)/(cells[(cells['exp']==val) & (cells['treat']==\"VHL\")][['count_red','count_green']].sum()/vhl)).values)"
   ]
  },
  {
   "cell_type": "markdown",
   "metadata": {},
   "source": [
    "- width of z? -> 85nm\n",
    "- size of pixel in nm?\n",
    "\n",
    "- what is color of dot? 1-2 weeks for Yaser to remake the files. <-- might be needed because nothing was saved.. (important to save for reproducibility)\n",
    "\n",
    "- are ids kept track of across zstack? -> yes for cells, no for dots\n",
    "\n",
    "- same ID on same image subpart? <-- no"
   ]
  },
  {
   "cell_type": "code",
   "execution_count": 383,
   "metadata": {},
   "outputs": [
    {
     "name": "stdout",
     "output_type": "stream",
     "text": [
      "______________________\n",
      "VHL_MEF2C-MEF2D\n",
      "nucleus in DMSO/VHL\n",
      "19 11\n",
      "foldchange in VHL:\n",
      " red        green\n",
      "[0.34464651 0.67483767]\n",
      "foldchange in overlap of red by green in VHL vs DMSO\n",
      "0.990\n",
      "foldchange in intensity of red and green in VHL vs DMSO\n",
      "red      green\n",
      "0.832    0.874\n",
      "foldchange in intensity of green in red (vhl vs dmso)\n",
      "0.856\n",
      "______________________\n",
      "VHL_MEF2C-MYC\n",
      "nucleus in DMSO/VHL\n",
      "18 10\n",
      "foldchange in VHL:\n",
      " red        green\n",
      "[0.78431373 3.17386831]\n",
      "foldchange in overlap of red by green in VHL vs DMSO\n",
      "1.731\n",
      "foldchange in intensity of red and green in VHL vs DMSO\n",
      "red      green\n",
      "0.604    3.357\n",
      "foldchange in intensity of green in red (vhl vs dmso)\n",
      "3.327\n",
      "______________________\n",
      "VHL_MED1-MYC\n",
      "nucleus in DMSO/VHL\n",
      "15 14\n",
      "foldchange in VHL:\n",
      " red        green\n",
      "[0.50376569 1.77796452]\n",
      "foldchange in overlap of red by green in VHL vs DMSO\n",
      "1.509\n",
      "foldchange in intensity of red and green in VHL vs DMSO\n",
      "red      green\n",
      "0.540    1.081\n",
      "foldchange in intensity of green in red (vhl vs dmso)\n",
      "1.153\n",
      "______________________\n",
      "VHL_MEF2D-MYC\n",
      "nucleus in DMSO/VHL\n",
      "12 21\n",
      "foldchange in VHL:\n",
      " red        green\n",
      "[1.90506329 1.16447368]\n",
      "foldchange in overlap of red by green in VHL vs DMSO\n"
     ]
    },
    {
     "ename": "ZeroDivisionError",
     "evalue": "float division by zero",
     "output_type": "error",
     "traceback": [
      "\u001b[0;31m----------------------------------------------------------\u001b[0m",
      "\u001b[0;31mZeroDivisionError\u001b[0m        Traceback (most recent call last)",
      "\u001b[0;32m<ipython-input-383-721110773d0f>\u001b[0m in \u001b[0;36m<module>\u001b[0;34m\u001b[0m\n\u001b[1;32m     10\u001b[0m     \u001b[0mprint\u001b[0m\u001b[0;34m(\u001b[0m\u001b[0;34m(\u001b[0m\u001b[0;34m(\u001b[0m\u001b[0mcells\u001b[0m\u001b[0;34m[\u001b[0m\u001b[0;34m(\u001b[0m\u001b[0mcells\u001b[0m\u001b[0;34m[\u001b[0m\u001b[0;34m'exp'\u001b[0m\u001b[0;34m]\u001b[0m\u001b[0;34m==\u001b[0m\u001b[0mval\u001b[0m\u001b[0;34m)\u001b[0m \u001b[0;34m&\u001b[0m \u001b[0;34m(\u001b[0m\u001b[0mcells\u001b[0m\u001b[0;34m[\u001b[0m\u001b[0;34m'treat'\u001b[0m\u001b[0;34m]\u001b[0m\u001b[0;34m==\u001b[0m\u001b[0;34m\"DMSO\"\u001b[0m\u001b[0;34m)\u001b[0m\u001b[0;34m]\u001b[0m\u001b[0;34m[\u001b[0m\u001b[0;34m[\u001b[0m\u001b[0;34m'count_red'\u001b[0m\u001b[0;34m,\u001b[0m\u001b[0;34m'count_green'\u001b[0m\u001b[0;34m]\u001b[0m\u001b[0;34m]\u001b[0m\u001b[0;34m.\u001b[0m\u001b[0msum\u001b[0m\u001b[0;34m(\u001b[0m\u001b[0;34m)\u001b[0m\u001b[0;34m/\u001b[0m\u001b[0mdmso\u001b[0m\u001b[0;34m)\u001b[0m\u001b[0;34m/\u001b[0m\u001b[0;34m(\u001b[0m\u001b[0mcells\u001b[0m\u001b[0;34m[\u001b[0m\u001b[0;34m(\u001b[0m\u001b[0mcells\u001b[0m\u001b[0;34m[\u001b[0m\u001b[0;34m'exp'\u001b[0m\u001b[0;34m]\u001b[0m\u001b[0;34m==\u001b[0m\u001b[0mval\u001b[0m\u001b[0;34m)\u001b[0m \u001b[0;34m&\u001b[0m \u001b[0;34m(\u001b[0m\u001b[0mcells\u001b[0m\u001b[0;34m[\u001b[0m\u001b[0;34m'treat'\u001b[0m\u001b[0;34m]\u001b[0m\u001b[0;34m==\u001b[0m\u001b[0;34m\"VHL\"\u001b[0m\u001b[0;34m)\u001b[0m\u001b[0;34m]\u001b[0m\u001b[0;34m[\u001b[0m\u001b[0;34m[\u001b[0m\u001b[0;34m'count_red'\u001b[0m\u001b[0;34m,\u001b[0m\u001b[0;34m'count_green'\u001b[0m\u001b[0;34m]\u001b[0m\u001b[0;34m]\u001b[0m\u001b[0;34m.\u001b[0m\u001b[0msum\u001b[0m\u001b[0;34m(\u001b[0m\u001b[0;34m)\u001b[0m\u001b[0;34m/\u001b[0m\u001b[0mvhl\u001b[0m\u001b[0;34m)\u001b[0m\u001b[0;34m)\u001b[0m\u001b[0;34m.\u001b[0m\u001b[0mvalues\u001b[0m\u001b[0;34m)\u001b[0m\u001b[0;34m\u001b[0m\u001b[0;34m\u001b[0m\u001b[0m\n\u001b[1;32m     11\u001b[0m     \u001b[0mprint\u001b[0m\u001b[0;34m(\u001b[0m\u001b[0;34m\"foldchange in overlap of red by green in VHL vs DMSO\"\u001b[0m\u001b[0;34m)\u001b[0m\u001b[0;34m\u001b[0m\u001b[0;34m\u001b[0m\u001b[0m\n\u001b[0;32m---> 12\u001b[0;31m     \u001b[0mprint\u001b[0m\u001b[0;34m(\u001b[0m\u001b[0;34m\"%.3f\"\u001b[0m \u001b[0;34m%\u001b[0m \u001b[0;34m(\u001b[0m\u001b[0;34m(\u001b[0m\u001b[0mlen\u001b[0m\u001b[0;34m(\u001b[0m\u001b[0mdots\u001b[0m\u001b[0;34m[\u001b[0m\u001b[0;34m(\u001b[0m\u001b[0mdots\u001b[0m\u001b[0;34m.\u001b[0m\u001b[0mexp\u001b[0m\u001b[0;34m==\u001b[0m\u001b[0mval\u001b[0m\u001b[0;34m)\u001b[0m \u001b[0;34m&\u001b[0m \u001b[0;34m(\u001b[0m\u001b[0mdots\u001b[0m\u001b[0;34m[\u001b[0m\u001b[0;34m'treat'\u001b[0m\u001b[0;34m]\u001b[0m\u001b[0;34m==\u001b[0m\u001b[0;34m\"DMSO\"\u001b[0m\u001b[0;34m)\u001b[0m \u001b[0;34m&\u001b[0m \u001b[0mdots\u001b[0m\u001b[0;34m.\u001b[0m\u001b[0mlikely_green\u001b[0m \u001b[0;34m&\u001b[0m \u001b[0mdots\u001b[0m\u001b[0;34m.\u001b[0m\u001b[0mlikely_red\u001b[0m\u001b[0;34m]\u001b[0m\u001b[0;34m)\u001b[0m \u001b[0;34m/\u001b[0m \u001b[0mlen\u001b[0m\u001b[0;34m(\u001b[0m\u001b[0mdots\u001b[0m\u001b[0;34m[\u001b[0m\u001b[0;34m(\u001b[0m\u001b[0mdots\u001b[0m\u001b[0;34m.\u001b[0m\u001b[0mexp\u001b[0m\u001b[0;34m==\u001b[0m\u001b[0mval\u001b[0m\u001b[0;34m)\u001b[0m \u001b[0;34m&\u001b[0m \u001b[0;34m(\u001b[0m\u001b[0mdots\u001b[0m\u001b[0;34m[\u001b[0m\u001b[0;34m'treat'\u001b[0m\u001b[0;34m]\u001b[0m\u001b[0;34m==\u001b[0m\u001b[0;34m\"DMSO\"\u001b[0m\u001b[0;34m)\u001b[0m \u001b[0;34m&\u001b[0m \u001b[0mdots\u001b[0m\u001b[0;34m.\u001b[0m\u001b[0mlikely_red\u001b[0m\u001b[0;34m]\u001b[0m\u001b[0;34m)\u001b[0m\u001b[0;34m)\u001b[0m\u001b[0;34m/\u001b[0m\u001b[0;34m(\u001b[0m\u001b[0mlen\u001b[0m\u001b[0;34m(\u001b[0m\u001b[0mdots\u001b[0m\u001b[0;34m[\u001b[0m\u001b[0;34m(\u001b[0m\u001b[0mdots\u001b[0m\u001b[0;34m.\u001b[0m\u001b[0mexp\u001b[0m\u001b[0;34m==\u001b[0m\u001b[0mval\u001b[0m\u001b[0;34m)\u001b[0m \u001b[0;34m&\u001b[0m \u001b[0;34m(\u001b[0m\u001b[0mdots\u001b[0m\u001b[0;34m[\u001b[0m\u001b[0;34m'treat'\u001b[0m\u001b[0;34m]\u001b[0m\u001b[0;34m==\u001b[0m\u001b[0;34m\"VHL\"\u001b[0m\u001b[0;34m)\u001b[0m \u001b[0;34m&\u001b[0m \u001b[0mdots\u001b[0m\u001b[0;34m.\u001b[0m\u001b[0mlikely_green\u001b[0m \u001b[0;34m&\u001b[0m \u001b[0mdots\u001b[0m\u001b[0;34m.\u001b[0m\u001b[0mlikely_red\u001b[0m\u001b[0;34m]\u001b[0m\u001b[0;34m)\u001b[0m \u001b[0;34m/\u001b[0m \u001b[0mlen\u001b[0m\u001b[0;34m(\u001b[0m\u001b[0mdots\u001b[0m\u001b[0;34m[\u001b[0m\u001b[0;34m(\u001b[0m\u001b[0mdots\u001b[0m\u001b[0;34m.\u001b[0m\u001b[0mexp\u001b[0m\u001b[0;34m==\u001b[0m\u001b[0mval\u001b[0m\u001b[0;34m)\u001b[0m \u001b[0;34m&\u001b[0m \u001b[0;34m(\u001b[0m\u001b[0mdots\u001b[0m\u001b[0;34m[\u001b[0m\u001b[0;34m'treat'\u001b[0m\u001b[0;34m]\u001b[0m\u001b[0;34m==\u001b[0m\u001b[0;34m\"VHL\"\u001b[0m\u001b[0;34m)\u001b[0m \u001b[0;34m&\u001b[0m \u001b[0mdots\u001b[0m\u001b[0;34m.\u001b[0m\u001b[0mlikely_red\u001b[0m\u001b[0;34m]\u001b[0m\u001b[0;34m)\u001b[0m\u001b[0;34m)\u001b[0m\u001b[0;34m)\u001b[0m\u001b[0;34m)\u001b[0m\u001b[0;34m\u001b[0m\u001b[0;34m\u001b[0m\u001b[0m\n\u001b[0m\u001b[1;32m     13\u001b[0m     \u001b[0mprint\u001b[0m\u001b[0;34m(\u001b[0m\u001b[0;34m\"foldchange in intensity of red and green in VHL vs DMSO\"\u001b[0m\u001b[0;34m)\u001b[0m\u001b[0;34m\u001b[0m\u001b[0;34m\u001b[0m\u001b[0m\n\u001b[1;32m     14\u001b[0m     \u001b[0mprint\u001b[0m\u001b[0;34m(\u001b[0m\u001b[0;34m\"red      green\"\u001b[0m\u001b[0;34m)\u001b[0m\u001b[0;34m\u001b[0m\u001b[0;34m\u001b[0m\u001b[0m\n",
      "\u001b[0;31mZeroDivisionError\u001b[0m: float division by zero"
     ]
    }
   ],
   "source": [
    "for val in set(cells.exp): \n",
    "    print('______________________')\n",
    "    print(val)\n",
    "    print(\"nucleus in DMSO/VHL\")\n",
    "    dmso = len(cells[(cells['exp']==val) & (cells['treat']==\"DMSO\")])\n",
    "    vhl = len(cells[(cells['exp']==val) & (cells['treat']==\"VHL\")])\n",
    "    print(dmso, vhl)\n",
    "    print(\"foldchange in VHL:\")\n",
    "    print(' red        green')\n",
    "    print(((cells[(cells['exp']==val) & (cells['treat']==\"DMSO\")][['count_red','count_green']].sum()/dmso)/(cells[(cells['exp']==val) & (cells['treat']==\"VHL\")][['count_red','count_green']].sum()/vhl)).values)\n",
    "    print(\"foldchange in overlap of red by green in VHL vs DMSO\")\n",
    "    print(\"%.3f\" % ((len(dots[(dots.exp==val) & (dots['treat']==\"DMSO\") & dots.likely_green & dots.likely_red]) / len(dots[(dots.exp==val) & (dots['treat']==\"DMSO\") & dots.likely_red]))/(len(dots[(dots.exp==val) & (dots['treat']==\"VHL\") & dots.likely_green & dots.likely_red]) / len(dots[(dots.exp==val) & (dots['treat']==\"VHL\") & dots.likely_red]))))\n",
    "    print(\"foldchange in intensity of red and green in VHL vs DMSO\")\n",
    "    print(\"red      green\")\n",
    "    print(\"%.3f    %.3f\" % ((dots[(dots.exp==val) & (dots['treat']==\"DMSO\") & dots.likely_red].mean_red.mean() / dots[(dots.exp==val) & (dots['treat']==\"VHL\") & dots.likely_red].mean_red.mean()), (dots[(dots.exp==val) & (dots['treat']==\"DMSO\") & dots.likely_green].mean_green.mean() / dots[(dots.exp==val) & (dots['treat']==\"VHL\") & dots.likely_green].mean_green.mean())))\n",
    "    print(\"foldchange in intensity of green in red (vhl vs dmso)\")\n",
    "    print(\"%.3f\" % (dots[(dots.exp==val) & (dots['treat']==\"DMSO\") & dots.likely_red & dots.likely_green].mean_green.mean() / dots[(dots.exp==val) & (dots['treat']==\"VHL\") & dots.likely_red & dots.likely_green].mean_green.mean()))"
   ]
  },
  {
   "cell_type": "code",
   "execution_count": null,
   "metadata": {},
   "outputs": [],
   "source": []
  }
 ],
 "metadata": {
  "kernelspec": {
   "display_name": "Python 3",
   "language": "python",
   "name": "python3"
  },
  "language_info": {
   "codemirror_mode": {
    "name": "ipython",
    "version": 3
   },
   "file_extension": ".py",
   "mimetype": "text/x-python",
   "name": "python",
   "nbconvert_exporter": "python",
   "pygments_lexer": "ipython3",
   "version": "3.8.3"
  },
  "latex_envs": {
   "LaTeX_envs_menu_present": true,
   "autoclose": false,
   "autocomplete": true,
   "bibliofile": "biblio.bib",
   "cite_by": "apalike",
   "current_citInitial": 1,
   "eqLabelWithNumbers": true,
   "eqNumInitial": 1,
   "hotkeys": {
    "equation": "Ctrl-E",
    "itemize": "Ctrl-I"
   },
   "labels_anchors": false,
   "latex_user_defs": false,
   "report_style_numbering": false,
   "user_envs_cfg": false
  },
  "toc": {
   "base_numbering": 1,
   "nav_menu": {},
   "number_sections": false,
   "sideBar": false,
   "skip_h1_title": false,
   "title_cell": "Table of Contents",
   "title_sidebar": "Contents",
   "toc_cell": false,
   "toc_position": {},
   "toc_section_display": false,
   "toc_window_display": false
  },
  "varInspector": {
   "cols": {
    "lenName": 16,
    "lenType": 16,
    "lenVar": 40
   },
   "kernels_config": {
    "python": {
     "delete_cmd_postfix": "",
     "delete_cmd_prefix": "del ",
     "library": "var_list.py",
     "varRefreshCmd": "print(var_dic_list())"
    },
    "r": {
     "delete_cmd_postfix": ") ",
     "delete_cmd_prefix": "rm(",
     "library": "var_list.r",
     "varRefreshCmd": "cat(var_dic_list()) "
    }
   },
   "types_to_exclude": [
    "module",
    "function",
    "builtin_function_or_method",
    "instance",
    "_Feature"
   ],
   "window_display": false
  }
 },
 "nbformat": 4,
 "nbformat_minor": 2
}
