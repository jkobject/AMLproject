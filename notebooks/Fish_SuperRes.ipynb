{
 "cells": [
  {
   "cell_type": "code",
   "execution_count": null,
   "metadata": {},
   "outputs": [],
   "source": [
    "import pandas as pd\n",
    "from scipy.stats import binom_test, fisher_exact"
   ]
  },
  {
   "cell_type": "markdown",
   "metadata": {},
   "source": [
    "## Processing the data"
   ]
  },
  {
   "cell_type": "code",
   "execution_count": null,
   "metadata": {},
   "outputs": [],
   "source": [
    "project='FishSuperResColoc'\n",
    "version='v1'"
   ]
  },
  {
   "cell_type": "code",
   "execution_count": null,
   "metadata": {},
   "outputs": [],
   "source": [
    "rename = {\n",
    "\"Text Between Delimiters\":\"subset\",\n",
    "\"Folder Short\":\"folder_short\",\n",
    "\"Folder Path\":\"folder\",\n",
    "\"Source.Name\":\"name\",\n",
    "\"ImageDocumentName::Image Name\":\"image\",\n",
    "\"ParentID::ID of the parent!!I\":\"parent_id\",\n",
    "\"ID::ID!!I\":\"id\",\n",
    "\"ImageSceneName::Image Scene Name \":\"scene\",\n",
    "\"Area1::Area Unscaled!!R\":\"area\",\n",
    "\"CenterX1::Center X Unscaled!!R\":\"x\",\n",
    "\"CenterY1::Center Y Unscaled!!R\":\"y\",\n",
    "\"IntensityMaximum_TV1-T1-SR::Intensity Maximum of channel 'TV1-T1-SR'!!R\":\"max_1\",\n",
    "\"IntensityMaximum_TV2-T1-SR::Intensity Maximum of channel 'TV2-T1-SR'!!R\":\"max_2\",\n",
    "\"IntensityMean_TV1-T1-SR::Intensity Mean Value of channel 'TV1-T1-SR'!!R\":\"mean_1\",\n",
    "\"IntensityMean_TV2-T1-SR::Intensity Mean Value of channel 'TV2-T1-SR'!!R\":\"mean_2\",\n",
    "\"IntensityMinimum_TV1-T1-SR::Intensity Minimum of channel 'TV1-T1-SR'!!R\":\"min_1\",\n",
    "\"IntensityMinimum_TV2-T1-SR::Intensity Minimum of channel 'TV2-T1-SR'!!R\":\"min_2\",\n",
    "\"IntensitySum0_TV1-T1-SR::Intensity Pixel Count of channel 'TV1-T1-SR'!!R\":\"sum_1\",\n",
    "\"IntensitySum0_TV2-T1-SR::Intensity Pixel Count of channel 'TV2-T1-SR'!!R\":\"sum_2\",\n",
    "\"IntensityRange_TV1-T1-SR::Intensity Range of channel 'TV1-T1-SR'!!R\":\"range_1\",\n",
    "\"IntensityRange_TV2-T1-SR::Intensity Range of channel 'TV2-T1-SR'!!R\":\"range_2\",\n",
    "\"IntensityStd_TV1-T1-SR::Intensity Standard Deviation of channel 'TV1-T1-SR'!!R\":\"std_1\",\n",
    "\"IntensityStd_TV2-T1-SR::Intensity Standard Deviation of channel 'TV2-T1-SR'!!R\":\"std_2\",\n",
    "\"IntensitySum1_TV1-T1-SR::Intensity Sum of channel 'TV1-T1-SR'!!R\":\"sum1_1\",\n",
    "\"IntensitySum1_TV2-T1-SR::Intensity Sum of channel 'TV2-T1-SR'!!R\":\"sum1_2\",\n",
    "\"IntensitySum2_TV1-T1-SR::Intensity Sum Squares of channel 'TV1-T1-SR'!!R\":\"sum2_1\",\n",
    "\"IntensitySum2_TV2-T1-SR::Intensity Sum Squares of channel 'TV2-T1-SR'!!R\":\"sum2_2\",\n",
    "\"Unnamed: 27\":\"unknown\"\n",
    "}"
   ]
  },
  {
   "cell_type": "code",
   "execution_count": null,
   "metadata": {},
   "outputs": [],
   "source": [
    "data = pd.read_csv('../data/'+project+'/data_query_files/querry.csv').rename(columns=rename)\n",
    "data"
   ]
  },
  {
   "cell_type": "code",
   "execution_count": null,
   "metadata": {},
   "outputs": [],
   "source": [
    "data.iloc[0].tolist()"
   ]
  },
  {
   "cell_type": "code",
   "execution_count": null,
   "metadata": {},
   "outputs": [],
   "source": [
    "set(data.folder_short)"
   ]
  },
  {
   "cell_type": "code",
   "execution_count": null,
   "metadata": {},
   "outputs": [],
   "source": [
    "cond = {'AAVS1_CRISPR_MED1\\\\AAVS1_CRISPR_MED1 Image7\\\\':'AAVS1',\n",
    " 'IF FISH final\\\\AAVS1_CRISPR_MEF2D\\\\':'AAVS1',\n",
    " 'IF FISH final\\\\IRF2BP2_excel\\\\':'',\n",
    " 'IF FISH final\\\\MEF2C_excel\\\\':'',\n",
    " 'IF FISH final\\\\MEF2D_CRISPR_MED1\\\\':'MEF2D',\n",
    " 'IF FISH final\\\\MEF2D_CRISPR_MEF2D\\\\':'MEF2D',\n",
    " 'IF FISH final\\\\Runx2_excel\\\\':''}"
   ]
  },
  {
   "cell_type": "code",
   "execution_count": null,
   "metadata": {},
   "outputs": [],
   "source": [
    "prot = {'AAVS1_CRISPR_MED1\\\\AAVS1_CRISPR_MED1 Image7\\\\':'MED1',\n",
    " 'IF FISH final\\\\AAVS1_CRISPR_MEF2D\\\\':'MEF2D',\n",
    " 'IF FISH final\\\\IRF2BP2_excel\\\\':'IRF2BP2',\n",
    " 'IF FISH final\\\\MEF2C_excel\\\\':'MEF2C',\n",
    " 'IF FISH final\\\\MEF2D_CRISPR_MED1\\\\':'MED1',\n",
    " 'IF FISH final\\\\MEF2D_CRISPR_MEF2D\\\\':'MEF2D',\n",
    " 'IF FISH final\\\\Runx2_excel\\\\':'RUNX2'}"
   ]
  },
  {
   "cell_type": "code",
   "execution_count": null,
   "metadata": {},
   "outputs": [],
   "source": [
    "data = data[~data.name.str.contains('Classes')]"
   ]
  },
  {
   "cell_type": "code",
   "execution_count": null,
   "metadata": {},
   "outputs": [],
   "source": [
    "data['condition'] = [cond[i] for i in data.folder_short]"
   ]
  },
  {
   "cell_type": "code",
   "execution_count": null,
   "metadata": {},
   "outputs": [],
   "source": [
    "data['protein'] = [prot[i] for i in data.folder_short]"
   ]
  },
  {
   "cell_type": "code",
   "execution_count": null,
   "metadata": {},
   "outputs": [],
   "source": [
    "data['type'] = [i.split('.')[0].split('_')[-1] for i in data.name]"
   ]
  },
  {
   "cell_type": "code",
   "execution_count": null,
   "metadata": {},
   "outputs": [],
   "source": [
    "data['name'] = [cond[i]+'_'+prot[i] for i in data.folder_short]"
   ]
  },
  {
   "cell_type": "code",
   "execution_count": null,
   "metadata": {},
   "outputs": [],
   "source": [
    "set(data.type)"
   ]
  },
  {
   "cell_type": "code",
   "execution_count": null,
   "metadata": {},
   "outputs": [],
   "source": [
    "data = data[~data.id.isna()]"
   ]
  },
  {
   "cell_type": "code",
   "execution_count": null,
   "metadata": {},
   "outputs": [],
   "source": [
    "set(data.subset)"
   ]
  },
  {
   "cell_type": "code",
   "execution_count": null,
   "metadata": {},
   "outputs": [],
   "source": [
    "data = data.drop(columns=['scene','image','folder','folder_short'])"
   ]
  },
  {
   "cell_type": "code",
   "execution_count": null,
   "metadata": {},
   "outputs": [],
   "source": [
    "data['subset'] = [i.split('Subset')[-1] for i in data.subset]"
   ]
  },
  {
   "cell_type": "code",
   "execution_count": null,
   "metadata": {},
   "outputs": [],
   "source": [
    "for val in ['area','x','y','max_1','max_2','mean_1','mean_2','min_1','min_2','range_1','range_2','std_1','std_2','sum_1','sum_2','sum1_1','sum1_2','sum2_1','sum2_2']:\n",
    "    data[val]= data[val].astype(float)"
   ]
  },
  {
   "cell_type": "code",
   "execution_count": null,
   "metadata": {},
   "outputs": [],
   "source": [
    "for val in ['subset','parent_id','id']:\n",
    "    data[val] = data[val].astype('int')"
   ]
  },
  {
   "cell_type": "code",
   "execution_count": null,
   "metadata": {},
   "outputs": [],
   "source": [
    "len(data.id)"
   ]
  },
  {
   "cell_type": "markdown",
   "metadata": {},
   "source": [
    "# results"
   ]
  },
  {
   "cell_type": "markdown",
   "metadata": {},
   "source": [
    "## why we are not doing a monte carlo but just a hypthesis testing on a binomial\n",
    "\n",
    "monte carlo would be useful in our case if we did not know the expected distribution.\n",
    "given a way to generate our distribution (which specific parameters can be learnt from the data) we might be able to express what would be the null hypothesis by estimating this unknown distribution. it is useful for when we don't know the exact distribution or when it is too complex to analytically solve.  \n",
    "\n",
    "However in our case we can approximate the distribution well enough by a binomial. It is true that given that the dna will not have the same density everywhere on the nucleus, that the dots will have themselves variable intensity and size, which might express or not a multiplicity of points, the distribution is not a binomial. \n",
    "\n",
    "But you said yourself that for all purposes we could simplify these hypothesis. \n",
    "\n",
    "I also don't think that we have enough data points to correctly estimate the monte carlo parameters. \n",
    "\n",
    "A binomial is thus enough for this analysis\n",
    "\n",
    "### having specificities in the data needing to be modelled:\n",
    "\n",
    "I found that the data has specific bias that still need to be taken in account while not needing to change the statistics:\n",
    "\n",
    "the avg size of a MYC dot is 350 whereas the one of a MYC green is 45"
   ]
  },
  {
   "cell_type": "code",
   "execution_count": null,
   "metadata": {},
   "outputs": [],
   "source": [
    "def desc(data):\n",
    "    return data.sum()/data.mean(),len(data)\n",
    "# for each group\n",
    "res = {}\n",
    "for val in set(data.name):\n",
    "    print('\\n',val)\n",
    "    group = data[data.name==val]\n",
    "    space = group[group.type=='Nucleus'].area.sum()\n",
    "    totsize = group[group.type==' Green Dots'].area.sum()\n",
    "                 \n",
    "    coloc,s_coloc = desc(group[group.type=='MYC  Green'].area)\n",
    "    outside,s_outside = desc(group[group.type=='MYC'].area)\n",
    "    print('data: \\n  - total nucleuses size: '+str(int(space))+'\\n  - total Green dot size: '+str(int(totsize))+'\\n  - counts for coloc: '+str(int(s_coloc))+'\\n  - counts for not coloc: '+str(int(s_outside))) \n",
    "    p_in = totsize/space\n",
    "    isin = coloc/(outside+coloc)\n",
    "    res[val] = [s_coloc,s_outside]\n",
    "    print('proba: (null, obs)',p_in,isin)\n",
    "    print('nb of datapoints: ',s_coloc+s_outside)\n",
    "    print('p_value: ',binom_test([s_coloc,s_outside],p=p_in))"
   ]
  },
  {
   "cell_type": "markdown",
   "metadata": {},
   "source": [
    "from this analysis it seems clear that the colocalization happens less than 50% of the time in any condition but that we have colocalization with MYC for all analyzed proteins compared to random chance, given the data extracted by the algorithm and the assumption we made."
   ]
  },
  {
   "cell_type": "code",
   "execution_count": null,
   "metadata": {},
   "outputs": [],
   "source": [
    "fisher_exact([res['AAVS1_MED1'], res['MEF2D_MED1']])"
   ]
  },
  {
   "cell_type": "code",
   "execution_count": null,
   "metadata": {},
   "outputs": [],
   "source": [
    "fisher_exact([res['AAVS1_MEF2D'], res['MEF2D_MEF2D']])"
   ]
  },
  {
   "cell_type": "markdown",
   "metadata": {},
   "source": [
    "we thus have much 1.7 times more colocalization of MEF2D when MEF2D is degraded vs when it is not and 2 times less colocalization of MED1 but p_val of .1"
   ]
  }
 ],
 "metadata": {
  "kernelspec": {
   "display_name": "Python 3",
   "language": "python",
   "name": "python3"
  },
  "language_info": {
   "codemirror_mode": {
    "name": "ipython",
    "version": 3
   },
   "file_extension": ".py",
   "mimetype": "text/x-python",
   "name": "python",
   "nbconvert_exporter": "python",
   "pygments_lexer": "ipython3",
   "version": "3.6.7"
  },
  "latex_envs": {
   "LaTeX_envs_menu_present": true,
   "autoclose": false,
   "autocomplete": true,
   "bibliofile": "biblio.bib",
   "cite_by": "apalike",
   "current_citInitial": 1,
   "eqLabelWithNumbers": true,
   "eqNumInitial": 1,
   "hotkeys": {
    "equation": "Ctrl-E",
    "itemize": "Ctrl-I"
   },
   "labels_anchors": false,
   "latex_user_defs": false,
   "report_style_numbering": false,
   "user_envs_cfg": false
  },
  "toc": {
   "base_numbering": 1,
   "nav_menu": {},
   "number_sections": false,
   "sideBar": false,
   "skip_h1_title": false,
   "title_cell": "Table of Contents",
   "title_sidebar": "Contents",
   "toc_cell": false,
   "toc_position": {},
   "toc_section_display": false,
   "toc_window_display": false
  },
  "varInspector": {
   "cols": {
    "lenName": 16,
    "lenType": 16,
    "lenVar": 40
   },
   "kernels_config": {
    "python": {
     "delete_cmd_postfix": "",
     "delete_cmd_prefix": "del ",
     "library": "var_list.py",
     "varRefreshCmd": "print(var_dic_list())"
    },
    "r": {
     "delete_cmd_postfix": ") ",
     "delete_cmd_prefix": "rm(",
     "library": "var_list.r",
     "varRefreshCmd": "cat(var_dic_list()) "
    }
   },
   "types_to_exclude": [
    "module",
    "function",
    "builtin_function_or_method",
    "instance",
    "_Feature"
   ],
   "window_display": false
  }
 },
 "nbformat": 4,
 "nbformat_minor": 2
}
