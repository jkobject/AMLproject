{
 "cells": [
  {
   "cell_type": "code",
   "execution_count": 2,
   "metadata": {
    "scrolled": true
   },
   "outputs": [
    {
     "data": {
      "text/html": [
       "\n",
       "    <div class=\"bk-root\">\n",
       "        <a href=\"https://bokeh.org\" target=\"_blank\" class=\"bk-logo bk-logo-small bk-logo-notebook\"></a>\n",
       "        <span id=\"1001\">Loading BokehJS ...</span>\n",
       "    </div>"
      ]
     },
     "metadata": {},
     "output_type": "display_data"
    },
    {
     "data": {
      "application/javascript": [
       "\n",
       "(function(root) {\n",
       "  function now() {\n",
       "    return new Date();\n",
       "  }\n",
       "\n",
       "  var force = true;\n",
       "\n",
       "  if (typeof root._bokeh_onload_callbacks === \"undefined\" || force === true) {\n",
       "    root._bokeh_onload_callbacks = [];\n",
       "    root._bokeh_is_loading = undefined;\n",
       "  }\n",
       "\n",
       "  var JS_MIME_TYPE = 'application/javascript';\n",
       "  var HTML_MIME_TYPE = 'text/html';\n",
       "  var EXEC_MIME_TYPE = 'application/vnd.bokehjs_exec.v0+json';\n",
       "  var CLASS_NAME = 'output_bokeh rendered_html';\n",
       "\n",
       "  /**\n",
       "   * Render data to the DOM node\n",
       "   */\n",
       "  function render(props, node) {\n",
       "    var script = document.createElement(\"script\");\n",
       "    node.appendChild(script);\n",
       "  }\n",
       "\n",
       "  /**\n",
       "   * Handle when an output is cleared or removed\n",
       "   */\n",
       "  function handleClearOutput(event, handle) {\n",
       "    var cell = handle.cell;\n",
       "\n",
       "    var id = cell.output_area._bokeh_element_id;\n",
       "    var server_id = cell.output_area._bokeh_server_id;\n",
       "    // Clean up Bokeh references\n",
       "    if (id != null && id in Bokeh.index) {\n",
       "      Bokeh.index[id].model.document.clear();\n",
       "      delete Bokeh.index[id];\n",
       "    }\n",
       "\n",
       "    if (server_id !== undefined) {\n",
       "      // Clean up Bokeh references\n",
       "      var cmd = \"from bokeh.io.state import curstate; print(curstate().uuid_to_server['\" + server_id + \"'].get_sessions()[0].document.roots[0]._id)\";\n",
       "      cell.notebook.kernel.execute(cmd, {\n",
       "        iopub: {\n",
       "          output: function(msg) {\n",
       "            var id = msg.content.text.trim();\n",
       "            if (id in Bokeh.index) {\n",
       "              Bokeh.index[id].model.document.clear();\n",
       "              delete Bokeh.index[id];\n",
       "            }\n",
       "          }\n",
       "        }\n",
       "      });\n",
       "      // Destroy server and session\n",
       "      var cmd = \"import bokeh.io.notebook as ion; ion.destroy_server('\" + server_id + \"')\";\n",
       "      cell.notebook.kernel.execute(cmd);\n",
       "    }\n",
       "  }\n",
       "\n",
       "  /**\n",
       "   * Handle when a new output is added\n",
       "   */\n",
       "  function handleAddOutput(event, handle) {\n",
       "    var output_area = handle.output_area;\n",
       "    var output = handle.output;\n",
       "\n",
       "    // limit handleAddOutput to display_data with EXEC_MIME_TYPE content only\n",
       "    if ((output.output_type != \"display_data\") || (!output.data.hasOwnProperty(EXEC_MIME_TYPE))) {\n",
       "      return\n",
       "    }\n",
       "\n",
       "    var toinsert = output_area.element.find(\".\" + CLASS_NAME.split(' ')[0]);\n",
       "\n",
       "    if (output.metadata[EXEC_MIME_TYPE][\"id\"] !== undefined) {\n",
       "      toinsert[toinsert.length - 1].firstChild.textContent = output.data[JS_MIME_TYPE];\n",
       "      // store reference to embed id on output_area\n",
       "      output_area._bokeh_element_id = output.metadata[EXEC_MIME_TYPE][\"id\"];\n",
       "    }\n",
       "    if (output.metadata[EXEC_MIME_TYPE][\"server_id\"] !== undefined) {\n",
       "      var bk_div = document.createElement(\"div\");\n",
       "      bk_div.innerHTML = output.data[HTML_MIME_TYPE];\n",
       "      var script_attrs = bk_div.children[0].attributes;\n",
       "      for (var i = 0; i < script_attrs.length; i++) {\n",
       "        toinsert[toinsert.length - 1].firstChild.setAttribute(script_attrs[i].name, script_attrs[i].value);\n",
       "      }\n",
       "      // store reference to server id on output_area\n",
       "      output_area._bokeh_server_id = output.metadata[EXEC_MIME_TYPE][\"server_id\"];\n",
       "    }\n",
       "  }\n",
       "\n",
       "  function register_renderer(events, OutputArea) {\n",
       "\n",
       "    function append_mime(data, metadata, element) {\n",
       "      // create a DOM node to render to\n",
       "      var toinsert = this.create_output_subarea(\n",
       "        metadata,\n",
       "        CLASS_NAME,\n",
       "        EXEC_MIME_TYPE\n",
       "      );\n",
       "      this.keyboard_manager.register_events(toinsert);\n",
       "      // Render to node\n",
       "      var props = {data: data, metadata: metadata[EXEC_MIME_TYPE]};\n",
       "      render(props, toinsert[toinsert.length - 1]);\n",
       "      element.append(toinsert);\n",
       "      return toinsert\n",
       "    }\n",
       "\n",
       "    /* Handle when an output is cleared or removed */\n",
       "    events.on('clear_output.CodeCell', handleClearOutput);\n",
       "    events.on('delete.Cell', handleClearOutput);\n",
       "\n",
       "    /* Handle when a new output is added */\n",
       "    events.on('output_added.OutputArea', handleAddOutput);\n",
       "\n",
       "    /**\n",
       "     * Register the mime type and append_mime function with output_area\n",
       "     */\n",
       "    OutputArea.prototype.register_mime_type(EXEC_MIME_TYPE, append_mime, {\n",
       "      /* Is output safe? */\n",
       "      safe: true,\n",
       "      /* Index of renderer in `output_area.display_order` */\n",
       "      index: 0\n",
       "    });\n",
       "  }\n",
       "\n",
       "  // register the mime type if in Jupyter Notebook environment and previously unregistered\n",
       "  if (root.Jupyter !== undefined) {\n",
       "    var events = require('base/js/events');\n",
       "    var OutputArea = require('notebook/js/outputarea').OutputArea;\n",
       "\n",
       "    if (OutputArea.prototype.mime_types().indexOf(EXEC_MIME_TYPE) == -1) {\n",
       "      register_renderer(events, OutputArea);\n",
       "    }\n",
       "  }\n",
       "\n",
       "  \n",
       "  if (typeof (root._bokeh_timeout) === \"undefined\" || force === true) {\n",
       "    root._bokeh_timeout = Date.now() + 5000;\n",
       "    root._bokeh_failed_load = false;\n",
       "  }\n",
       "\n",
       "  var NB_LOAD_WARNING = {'data': {'text/html':\n",
       "     \"<div style='background-color: #fdd'>\\n\"+\n",
       "     \"<p>\\n\"+\n",
       "     \"BokehJS does not appear to have successfully loaded. If loading BokehJS from CDN, this \\n\"+\n",
       "     \"may be due to a slow or bad network connection. Possible fixes:\\n\"+\n",
       "     \"</p>\\n\"+\n",
       "     \"<ul>\\n\"+\n",
       "     \"<li>re-rerun `output_notebook()` to attempt to load from CDN again, or</li>\\n\"+\n",
       "     \"<li>use INLINE resources instead, as so:</li>\\n\"+\n",
       "     \"</ul>\\n\"+\n",
       "     \"<code>\\n\"+\n",
       "     \"from bokeh.resources import INLINE\\n\"+\n",
       "     \"output_notebook(resources=INLINE)\\n\"+\n",
       "     \"</code>\\n\"+\n",
       "     \"</div>\"}};\n",
       "\n",
       "  function display_loaded() {\n",
       "    var el = document.getElementById(\"1001\");\n",
       "    if (el != null) {\n",
       "      el.textContent = \"BokehJS is loading...\";\n",
       "    }\n",
       "    if (root.Bokeh !== undefined) {\n",
       "      if (el != null) {\n",
       "        el.textContent = \"BokehJS \" + root.Bokeh.version + \" successfully loaded.\";\n",
       "      }\n",
       "    } else if (Date.now() < root._bokeh_timeout) {\n",
       "      setTimeout(display_loaded, 100)\n",
       "    }\n",
       "  }\n",
       "\n",
       "\n",
       "  function run_callbacks() {\n",
       "    try {\n",
       "      root._bokeh_onload_callbacks.forEach(function(callback) {\n",
       "        if (callback != null)\n",
       "          callback();\n",
       "      });\n",
       "    } finally {\n",
       "      delete root._bokeh_onload_callbacks\n",
       "    }\n",
       "    console.debug(\"Bokeh: all callbacks have finished\");\n",
       "  }\n",
       "\n",
       "  function load_libs(css_urls, js_urls, callback) {\n",
       "    if (css_urls == null) css_urls = [];\n",
       "    if (js_urls == null) js_urls = [];\n",
       "\n",
       "    root._bokeh_onload_callbacks.push(callback);\n",
       "    if (root._bokeh_is_loading > 0) {\n",
       "      console.debug(\"Bokeh: BokehJS is being loaded, scheduling callback at\", now());\n",
       "      return null;\n",
       "    }\n",
       "    if (js_urls == null || js_urls.length === 0) {\n",
       "      run_callbacks();\n",
       "      return null;\n",
       "    }\n",
       "    console.debug(\"Bokeh: BokehJS not loaded, scheduling load and callback at\", now());\n",
       "    root._bokeh_is_loading = css_urls.length + js_urls.length;\n",
       "\n",
       "    function on_load() {\n",
       "      root._bokeh_is_loading--;\n",
       "      if (root._bokeh_is_loading === 0) {\n",
       "        console.debug(\"Bokeh: all BokehJS libraries/stylesheets loaded\");\n",
       "        run_callbacks()\n",
       "      }\n",
       "    }\n",
       "\n",
       "    function on_error() {\n",
       "      console.error(\"failed to load \" + url);\n",
       "    }\n",
       "\n",
       "    for (var i = 0; i < css_urls.length; i++) {\n",
       "      var url = css_urls[i];\n",
       "      const element = document.createElement(\"link\");\n",
       "      element.onload = on_load;\n",
       "      element.onerror = on_error;\n",
       "      element.rel = \"stylesheet\";\n",
       "      element.type = \"text/css\";\n",
       "      element.href = url;\n",
       "      console.debug(\"Bokeh: injecting link tag for BokehJS stylesheet: \", url);\n",
       "      document.body.appendChild(element);\n",
       "    }\n",
       "\n",
       "    for (var i = 0; i < js_urls.length; i++) {\n",
       "      var url = js_urls[i];\n",
       "      var element = document.createElement('script');\n",
       "      element.onload = on_load;\n",
       "      element.onerror = on_error;\n",
       "      element.async = false;\n",
       "      element.src = url;\n",
       "      console.debug(\"Bokeh: injecting script tag for BokehJS library: \", url);\n",
       "      document.head.appendChild(element);\n",
       "    }\n",
       "  };var element = document.getElementById(\"1001\");\n",
       "  if (element == null) {\n",
       "    console.error(\"Bokeh: ERROR: autoload.js configured with elementid '1001' but no matching script tag was found. \")\n",
       "    return false;\n",
       "  }\n",
       "\n",
       "  function inject_raw_css(css) {\n",
       "    const element = document.createElement(\"style\");\n",
       "    element.appendChild(document.createTextNode(css));\n",
       "    document.body.appendChild(element);\n",
       "  }\n",
       "\n",
       "  \n",
       "  var js_urls = [\"https://cdn.pydata.org/bokeh/release/bokeh-1.4.0.min.js\", \"https://cdn.pydata.org/bokeh/release/bokeh-widgets-1.4.0.min.js\", \"https://cdn.pydata.org/bokeh/release/bokeh-tables-1.4.0.min.js\", \"https://cdn.pydata.org/bokeh/release/bokeh-gl-1.4.0.min.js\"];\n",
       "  var css_urls = [];\n",
       "  \n",
       "\n",
       "  var inline_js = [\n",
       "    function(Bokeh) {\n",
       "      Bokeh.set_log_level(\"info\");\n",
       "    },\n",
       "    function(Bokeh) {\n",
       "    \n",
       "    \n",
       "    }\n",
       "  ];\n",
       "\n",
       "  function run_inline_js() {\n",
       "    \n",
       "    if (root.Bokeh !== undefined || force === true) {\n",
       "      \n",
       "    for (var i = 0; i < inline_js.length; i++) {\n",
       "      inline_js[i].call(root, root.Bokeh);\n",
       "    }\n",
       "    if (force === true) {\n",
       "        display_loaded();\n",
       "      }} else if (Date.now() < root._bokeh_timeout) {\n",
       "      setTimeout(run_inline_js, 100);\n",
       "    } else if (!root._bokeh_failed_load) {\n",
       "      console.log(\"Bokeh: BokehJS failed to load within specified timeout.\");\n",
       "      root._bokeh_failed_load = true;\n",
       "    } else if (force !== true) {\n",
       "      var cell = $(document.getElementById(\"1001\")).parents('.cell').data().cell;\n",
       "      cell.output_area.append_execute_result(NB_LOAD_WARNING)\n",
       "    }\n",
       "\n",
       "  }\n",
       "\n",
       "  if (root._bokeh_is_loading === 0) {\n",
       "    console.debug(\"Bokeh: BokehJS loaded, going straight to plotting\");\n",
       "    run_inline_js();\n",
       "  } else {\n",
       "    load_libs(css_urls, js_urls, function() {\n",
       "      console.debug(\"Bokeh: BokehJS plotting callback run at\", now());\n",
       "      run_inline_js();\n",
       "    });\n",
       "  }\n",
       "}(window));"
      ],
      "application/vnd.bokehjs_load.v0+json": "\n(function(root) {\n  function now() {\n    return new Date();\n  }\n\n  var force = true;\n\n  if (typeof root._bokeh_onload_callbacks === \"undefined\" || force === true) {\n    root._bokeh_onload_callbacks = [];\n    root._bokeh_is_loading = undefined;\n  }\n\n  \n\n  \n  if (typeof (root._bokeh_timeout) === \"undefined\" || force === true) {\n    root._bokeh_timeout = Date.now() + 5000;\n    root._bokeh_failed_load = false;\n  }\n\n  var NB_LOAD_WARNING = {'data': {'text/html':\n     \"<div style='background-color: #fdd'>\\n\"+\n     \"<p>\\n\"+\n     \"BokehJS does not appear to have successfully loaded. If loading BokehJS from CDN, this \\n\"+\n     \"may be due to a slow or bad network connection. Possible fixes:\\n\"+\n     \"</p>\\n\"+\n     \"<ul>\\n\"+\n     \"<li>re-rerun `output_notebook()` to attempt to load from CDN again, or</li>\\n\"+\n     \"<li>use INLINE resources instead, as so:</li>\\n\"+\n     \"</ul>\\n\"+\n     \"<code>\\n\"+\n     \"from bokeh.resources import INLINE\\n\"+\n     \"output_notebook(resources=INLINE)\\n\"+\n     \"</code>\\n\"+\n     \"</div>\"}};\n\n  function display_loaded() {\n    var el = document.getElementById(\"1001\");\n    if (el != null) {\n      el.textContent = \"BokehJS is loading...\";\n    }\n    if (root.Bokeh !== undefined) {\n      if (el != null) {\n        el.textContent = \"BokehJS \" + root.Bokeh.version + \" successfully loaded.\";\n      }\n    } else if (Date.now() < root._bokeh_timeout) {\n      setTimeout(display_loaded, 100)\n    }\n  }\n\n\n  function run_callbacks() {\n    try {\n      root._bokeh_onload_callbacks.forEach(function(callback) {\n        if (callback != null)\n          callback();\n      });\n    } finally {\n      delete root._bokeh_onload_callbacks\n    }\n    console.debug(\"Bokeh: all callbacks have finished\");\n  }\n\n  function load_libs(css_urls, js_urls, callback) {\n    if (css_urls == null) css_urls = [];\n    if (js_urls == null) js_urls = [];\n\n    root._bokeh_onload_callbacks.push(callback);\n    if (root._bokeh_is_loading > 0) {\n      console.debug(\"Bokeh: BokehJS is being loaded, scheduling callback at\", now());\n      return null;\n    }\n    if (js_urls == null || js_urls.length === 0) {\n      run_callbacks();\n      return null;\n    }\n    console.debug(\"Bokeh: BokehJS not loaded, scheduling load and callback at\", now());\n    root._bokeh_is_loading = css_urls.length + js_urls.length;\n\n    function on_load() {\n      root._bokeh_is_loading--;\n      if (root._bokeh_is_loading === 0) {\n        console.debug(\"Bokeh: all BokehJS libraries/stylesheets loaded\");\n        run_callbacks()\n      }\n    }\n\n    function on_error() {\n      console.error(\"failed to load \" + url);\n    }\n\n    for (var i = 0; i < css_urls.length; i++) {\n      var url = css_urls[i];\n      const element = document.createElement(\"link\");\n      element.onload = on_load;\n      element.onerror = on_error;\n      element.rel = \"stylesheet\";\n      element.type = \"text/css\";\n      element.href = url;\n      console.debug(\"Bokeh: injecting link tag for BokehJS stylesheet: \", url);\n      document.body.appendChild(element);\n    }\n\n    for (var i = 0; i < js_urls.length; i++) {\n      var url = js_urls[i];\n      var element = document.createElement('script');\n      element.onload = on_load;\n      element.onerror = on_error;\n      element.async = false;\n      element.src = url;\n      console.debug(\"Bokeh: injecting script tag for BokehJS library: \", url);\n      document.head.appendChild(element);\n    }\n  };var element = document.getElementById(\"1001\");\n  if (element == null) {\n    console.error(\"Bokeh: ERROR: autoload.js configured with elementid '1001' but no matching script tag was found. \")\n    return false;\n  }\n\n  function inject_raw_css(css) {\n    const element = document.createElement(\"style\");\n    element.appendChild(document.createTextNode(css));\n    document.body.appendChild(element);\n  }\n\n  \n  var js_urls = [\"https://cdn.pydata.org/bokeh/release/bokeh-1.4.0.min.js\", \"https://cdn.pydata.org/bokeh/release/bokeh-widgets-1.4.0.min.js\", \"https://cdn.pydata.org/bokeh/release/bokeh-tables-1.4.0.min.js\", \"https://cdn.pydata.org/bokeh/release/bokeh-gl-1.4.0.min.js\"];\n  var css_urls = [];\n  \n\n  var inline_js = [\n    function(Bokeh) {\n      Bokeh.set_log_level(\"info\");\n    },\n    function(Bokeh) {\n    \n    \n    }\n  ];\n\n  function run_inline_js() {\n    \n    if (root.Bokeh !== undefined || force === true) {\n      \n    for (var i = 0; i < inline_js.length; i++) {\n      inline_js[i].call(root, root.Bokeh);\n    }\n    if (force === true) {\n        display_loaded();\n      }} else if (Date.now() < root._bokeh_timeout) {\n      setTimeout(run_inline_js, 100);\n    } else if (!root._bokeh_failed_load) {\n      console.log(\"Bokeh: BokehJS failed to load within specified timeout.\");\n      root._bokeh_failed_load = true;\n    } else if (force !== true) {\n      var cell = $(document.getElementById(\"1001\")).parents('.cell').data().cell;\n      cell.output_area.append_execute_result(NB_LOAD_WARNING)\n    }\n\n  }\n\n  if (root._bokeh_is_loading === 0) {\n    console.debug(\"Bokeh: BokehJS loaded, going straight to plotting\");\n    run_inline_js();\n  } else {\n    load_libs(css_urls, js_urls, function() {\n      console.debug(\"Bokeh: BokehJS plotting callback run at\", now());\n      run_inline_js();\n    });\n  }\n}(window));"
     },
     "metadata": {},
     "output_type": "display_data"
    }
   ],
   "source": [
    "from __future__ import print_function\n",
    "import os.path\n",
    "import pandas as pd\n",
    "import sys\n",
    "sys.path.insert(0, '../../')\n",
    "%load_ext autoreload\n",
    "from JKBio.Helper import *\n",
    "%autoreload 2\n",
    "%load_ext rpy2.ipython\n",
    "import numpy as np\n",
    "from bokeh.plotting import *\n",
    "from bokeh.models import HoverTool\n",
    "output_notebook()\n",
    "import matplotlib.pyplot as plt\n",
    "%matplotlib inline\n",
    "import seaborn as sns\n",
    "from JKBio.helper import pyDESeq2\n",
    "from sklearn.neighbors import KNeighborsClassifier\n",
    "from sklearn.manifold import MDS, TSNE\n",
    "from sklearn.decomposition import PCA\n",
    "from sklearn.preprocessing import scale\n",
    "#from umap import UMAP"
   ]
  },
  {
   "cell_type": "markdown",
   "metadata": {},
   "source": [
    "downloading their data"
   ]
  },
  {
   "cell_type": "markdown",
   "metadata": {},
   "source": [
    "# we first need to recreate out RNA matrix from slamdunk's tcount files"
   ]
  },
  {
   "cell_type": "code",
   "execution_count": 9,
   "metadata": {
    "scrolled": true
   },
   "outputs": [
    {
     "name": "stdout",
     "output_type": "stream",
     "text": [
      "mr74-MV411_IRF2BP2-DMSO_2h-r1_1_val_1.fq_slamdunk_mapped_filtered_tcount.log\r\n",
      "mr74-MV411_IRF2BP2-DMSO_2h-r1_1_val_1.fq_slamdunk_mapped_filtered_tcount_mins.bedgraph\r\n",
      "mr74-MV411_IRF2BP2-DMSO_2h-r1_1_val_1.fq_slamdunk_mapped_filtered_tcount_plus.bedgraph\r\n",
      "mr74-MV411_IRF2BP2-DMSO_2h-r1_1_val_1.fq_slamdunk_mapped_filtered_tcount.tsv\r\n",
      "mr75-MV411_IRF2BP2-DMSO_2h-r2_1_val_1.fq_slamdunk_mapped_filtered_tcount.log\r\n",
      "mr75-MV411_IRF2BP2-DMSO_2h-r2_1_val_1.fq_slamdunk_mapped_filtered_tcount_mins.bedgraph\r\n",
      "mr75-MV411_IRF2BP2-DMSO_2h-r2_1_val_1.fq_slamdunk_mapped_filtered_tcount_plus.bedgraph\r\n",
      "mr75-MV411_IRF2BP2-DMSO_2h-r2_1_val_1.fq_slamdunk_mapped_filtered_tcount.tsv\r\n",
      "mr76-MV411_IRF2BP2-DMSO_2h-r3_1_val_1.fq_slamdunk_mapped_filtered_tcount.log\r\n",
      "mr76-MV411_IRF2BP2-DMSO_2h-r3_1_val_1.fq_slamdunk_mapped_filtered_tcount_mins.bedgraph\r\n",
      "mr76-MV411_IRF2BP2-DMSO_2h-r3_1_val_1.fq_slamdunk_mapped_filtered_tcount_plus.bedgraph\r\n",
      "mr76-MV411_IRF2BP2-DMSO_2h-r3_1_val_1.fq_slamdunk_mapped_filtered_tcount.tsv\r\n",
      "mr77-MV411_IRF2BP2-DMSO_2h-r4_1_val_1.fq_slamdunk_mapped_filtered_tcount.log\r\n",
      "mr77-MV411_IRF2BP2-DMSO_2h-r4_1_val_1.fq_slamdunk_mapped_filtered_tcount_mins.bedgraph\r\n",
      "mr77-MV411_IRF2BP2-DMSO_2h-r4_1_val_1.fq_slamdunk_mapped_filtered_tcount_plus.bedgraph\r\n",
      "mr77-MV411_IRF2BP2-DMSO_2h-r4_1_val_1.fq_slamdunk_mapped_filtered_tcount.tsv\r\n",
      "mr78-MV411_IRF2BP2-DMSO_6h-r1_1_val_1.fq_slamdunk_mapped_filtered_tcount.log\r\n",
      "mr78-MV411_IRF2BP2-DMSO_6h-r1_1_val_1.fq_slamdunk_mapped_filtered_tcount_mins.bedgraph\r\n",
      "mr78-MV411_IRF2BP2-DMSO_6h-r1_1_val_1.fq_slamdunk_mapped_filtered_tcount_plus.bedgraph\r\n",
      "mr78-MV411_IRF2BP2-DMSO_6h-r1_1_val_1.fq_slamdunk_mapped_filtered_tcount.tsv\r\n",
      "mr79-MV411_IRF2BP2-DMSO_6h-r2_1_val_1.fq_slamdunk_mapped_filtered_tcount.log\r\n",
      "mr79-MV411_IRF2BP2-DMSO_6h-r2_1_val_1.fq_slamdunk_mapped_filtered_tcount_mins.bedgraph\r\n",
      "mr79-MV411_IRF2BP2-DMSO_6h-r2_1_val_1.fq_slamdunk_mapped_filtered_tcount_plus.bedgraph\r\n",
      "mr79-MV411_IRF2BP2-DMSO_6h-r2_1_val_1.fq_slamdunk_mapped_filtered_tcount.tsv\r\n",
      "mr80-MV411_IRF2BP2-DMSO_6h-r3_1_val_1.fq_slamdunk_mapped_filtered_tcount.log\r\n",
      "mr80-MV411_IRF2BP2-DMSO_6h-r3_1_val_1.fq_slamdunk_mapped_filtered_tcount_mins.bedgraph\r\n",
      "mr80-MV411_IRF2BP2-DMSO_6h-r3_1_val_1.fq_slamdunk_mapped_filtered_tcount_plus.bedgraph\r\n",
      "mr80-MV411_IRF2BP2-DMSO_6h-r3_1_val_1.fq_slamdunk_mapped_filtered_tcount.tsv\r\n",
      "mr81-MV411_IRF2BP2-DMSO_6h-r4_1_val_1.fq_slamdunk_mapped_filtered_tcount.log\r\n",
      "mr81-MV411_IRF2BP2-DMSO_6h-r4_1_val_1.fq_slamdunk_mapped_filtered_tcount_mins.bedgraph\r\n",
      "mr81-MV411_IRF2BP2-DMSO_6h-r4_1_val_1.fq_slamdunk_mapped_filtered_tcount_plus.bedgraph\r\n",
      "mr81-MV411_IRF2BP2-DMSO_6h-r4_1_val_1.fq_slamdunk_mapped_filtered_tcount.tsv\r\n",
      "mr82-MV411_IRF2BP2-VHL_2h-r1_1_val_1.fq_slamdunk_mapped_filtered_tcount.log\r\n",
      "mr82-MV411_IRF2BP2-VHL_2h-r1_1_val_1.fq_slamdunk_mapped_filtered_tcount_mins.bedgraph\r\n",
      "mr82-MV411_IRF2BP2-VHL_2h-r1_1_val_1.fq_slamdunk_mapped_filtered_tcount_plus.bedgraph\r\n",
      "mr82-MV411_IRF2BP2-VHL_2h-r1_1_val_1.fq_slamdunk_mapped_filtered_tcount.tsv\r\n",
      "mr83-MV411_IRF2BP2-VHL_2h-r2_1_val_1.fq_slamdunk_mapped_filtered_tcount.log\r\n",
      "mr83-MV411_IRF2BP2-VHL_2h-r2_1_val_1.fq_slamdunk_mapped_filtered_tcount_mins.bedgraph\r\n",
      "mr83-MV411_IRF2BP2-VHL_2h-r2_1_val_1.fq_slamdunk_mapped_filtered_tcount_plus.bedgraph\r\n",
      "mr83-MV411_IRF2BP2-VHL_2h-r2_1_val_1.fq_slamdunk_mapped_filtered_tcount.tsv\r\n",
      "mr84-MV411_IRF2BP2-VHL_2h-r3_1_val_1.fq_slamdunk_mapped_filtered_tcount.log\r\n",
      "mr84-MV411_IRF2BP2-VHL_2h-r3_1_val_1.fq_slamdunk_mapped_filtered_tcount_mins.bedgraph\r\n",
      "mr84-MV411_IRF2BP2-VHL_2h-r3_1_val_1.fq_slamdunk_mapped_filtered_tcount_plus.bedgraph\r\n",
      "mr84-MV411_IRF2BP2-VHL_2h-r3_1_val_1.fq_slamdunk_mapped_filtered_tcount.tsv\r\n",
      "mr85-MV411_IRF2BP2-VHL_2h-r4_1_val_1.fq_slamdunk_mapped_filtered_tcount.log\r\n",
      "mr85-MV411_IRF2BP2-VHL_2h-r4_1_val_1.fq_slamdunk_mapped_filtered_tcount_mins.bedgraph\r\n",
      "mr85-MV411_IRF2BP2-VHL_2h-r4_1_val_1.fq_slamdunk_mapped_filtered_tcount_plus.bedgraph\r\n",
      "mr85-MV411_IRF2BP2-VHL_2h-r4_1_val_1.fq_slamdunk_mapped_filtered_tcount.tsv\r\n",
      "mr86-MV411_IRF2BP2-VHL_6h-r1_1_val_1.fq_slamdunk_mapped_filtered_tcount.log\r\n",
      "mr86-MV411_IRF2BP2-VHL_6h-r1_1_val_1.fq_slamdunk_mapped_filtered_tcount_mins.bedgraph\r\n",
      "mr86-MV411_IRF2BP2-VHL_6h-r1_1_val_1.fq_slamdunk_mapped_filtered_tcount_plus.bedgraph\r\n",
      "mr86-MV411_IRF2BP2-VHL_6h-r1_1_val_1.fq_slamdunk_mapped_filtered_tcount.tsv\r\n",
      "mr87-MV411_IRF2BP2-VHL_6h-r2_1_val_1.fq_slamdunk_mapped_filtered_tcount.log\r\n",
      "mr87-MV411_IRF2BP2-VHL_6h-r2_1_val_1.fq_slamdunk_mapped_filtered_tcount_mins.bedgraph\r\n",
      "mr87-MV411_IRF2BP2-VHL_6h-r2_1_val_1.fq_slamdunk_mapped_filtered_tcount_plus.bedgraph\r\n",
      "mr87-MV411_IRF2BP2-VHL_6h-r2_1_val_1.fq_slamdunk_mapped_filtered_tcount.tsv\r\n",
      "mr88-MV411_IRF2BP2-VHL_6h-r3_1_val_1.fq_slamdunk_mapped_filtered_tcount.log\r\n",
      "mr88-MV411_IRF2BP2-VHL_6h-r3_1_val_1.fq_slamdunk_mapped_filtered_tcount_mins.bedgraph\r\n",
      "mr88-MV411_IRF2BP2-VHL_6h-r3_1_val_1.fq_slamdunk_mapped_filtered_tcount_plus.bedgraph\r\n",
      "mr88-MV411_IRF2BP2-VHL_6h-r3_1_val_1.fq_slamdunk_mapped_filtered_tcount.tsv\r\n",
      "mr89-MV411_IRF2BP2-VHL_6h-r4_1_val_1.fq_slamdunk_mapped_filtered_tcount.log\r\n",
      "mr89-MV411_IRF2BP2-VHL_6h-r4_1_val_1.fq_slamdunk_mapped_filtered_tcount_mins.bedgraph\r\n",
      "mr89-MV411_IRF2BP2-VHL_6h-r4_1_val_1.fq_slamdunk_mapped_filtered_tcount_plus.bedgraph\r\n",
      "mr89-MV411_IRF2BP2-VHL_6h-r4_1_val_1.fq_slamdunk_mapped_filtered_tcount.tsv\r\n"
     ]
    }
   ],
   "source": [
    "ls ../../data/slam/resIRF2BP2/count"
   ]
  },
  {
   "cell_type": "code",
   "execution_count": 35,
   "metadata": {},
   "outputs": [],
   "source": [
    "location= '../../data/slam/IRF2BP2degraded_v1/count/'"
   ]
  },
  {
   "cell_type": "code",
   "execution_count": 36,
   "metadata": {
    "scrolled": true
   },
   "outputs": [
    {
     "data": {
      "text/plain": [
       "['../../data/slam/IRF2BP2degraded_v1/count/mr74-MV411_IRF2BP2-DMSO_2h-r1_1_val_1.fq_slamdunk_mapped_filtered_tcount.tsv',\n",
       " '../../data/slam/IRF2BP2degraded_v1/count/mr75-MV411_IRF2BP2-DMSO_2h-r2_1_val_1.fq_slamdunk_mapped_filtered_tcount.tsv',\n",
       " '../../data/slam/IRF2BP2degraded_v1/count/mr76-MV411_IRF2BP2-DMSO_2h-r3_1_val_1.fq_slamdunk_mapped_filtered_tcount.tsv',\n",
       " '../../data/slam/IRF2BP2degraded_v1/count/mr77-MV411_IRF2BP2-DMSO_2h-r4_1_val_1.fq_slamdunk_mapped_filtered_tcount.tsv',\n",
       " '../../data/slam/IRF2BP2degraded_v1/count/mr78-MV411_IRF2BP2-DMSO_6h-r1_1_val_1.fq_slamdunk_mapped_filtered_tcount.tsv',\n",
       " '../../data/slam/IRF2BP2degraded_v1/count/mr79-MV411_IRF2BP2-DMSO_6h-r2_1_val_1.fq_slamdunk_mapped_filtered_tcount.tsv',\n",
       " '../../data/slam/IRF2BP2degraded_v1/count/mr80-MV411_IRF2BP2-DMSO_6h-r3_1_val_1.fq_slamdunk_mapped_filtered_tcount.tsv',\n",
       " '../../data/slam/IRF2BP2degraded_v1/count/mr81-MV411_IRF2BP2-DMSO_6h-r4_1_val_1.fq_slamdunk_mapped_filtered_tcount.tsv',\n",
       " '../../data/slam/IRF2BP2degraded_v1/count/mr82-MV411_IRF2BP2-VHL_2h-r1_1_val_1.fq_slamdunk_mapped_filtered_tcount.tsv',\n",
       " '../../data/slam/IRF2BP2degraded_v1/count/mr83-MV411_IRF2BP2-VHL_2h-r2_1_val_1.fq_slamdunk_mapped_filtered_tcount.tsv',\n",
       " '../../data/slam/IRF2BP2degraded_v1/count/mr84-MV411_IRF2BP2-VHL_2h-r3_1_val_1.fq_slamdunk_mapped_filtered_tcount.tsv',\n",
       " '../../data/slam/IRF2BP2degraded_v1/count/mr85-MV411_IRF2BP2-VHL_2h-r4_1_val_1.fq_slamdunk_mapped_filtered_tcount.tsv',\n",
       " '../../data/slam/IRF2BP2degraded_v1/count/mr86-MV411_IRF2BP2-VHL_6h-r1_1_val_1.fq_slamdunk_mapped_filtered_tcount.tsv',\n",
       " '../../data/slam/IRF2BP2degraded_v1/count/mr87-MV411_IRF2BP2-VHL_6h-r2_1_val_1.fq_slamdunk_mapped_filtered_tcount.tsv',\n",
       " '../../data/slam/IRF2BP2degraded_v1/count/mr88-MV411_IRF2BP2-VHL_6h-r3_1_val_1.fq_slamdunk_mapped_filtered_tcount.tsv',\n",
       " '../../data/slam/IRF2BP2degraded_v1/count/mr89-MV411_IRF2BP2-VHL_6h-r4_1_val_1.fq_slamdunk_mapped_filtered_tcount.tsv']"
      ]
     },
     "execution_count": 36,
     "metadata": {},
     "output_type": "execute_result"
    }
   ],
   "source": [
    "files = ! ls $location*.tsv\n",
    "files"
   ]
  },
  {
   "cell_type": "code",
   "execution_count": 37,
   "metadata": {},
   "outputs": [],
   "source": [
    "data={}\n",
    "for file in files:\n",
    "    data[file.split('.')[-3].split('/')[-1]]= pd.read_csv(file, sep='\\t', comment='#',header=0)"
   ]
  },
  {
   "cell_type": "code",
   "execution_count": 38,
   "metadata": {},
   "outputs": [],
   "source": [
    "prev = -2\n",
    "for k,val in data.items():\n",
    "    if len(set(val.Name)) != prev and prev!=-2: \n",
    "        raise ValueError('we do not have the same number of genes in each file')\n",
    "    prev = len(set(val.Name))"
   ]
  },
  {
   "cell_type": "markdown",
   "metadata": {},
   "source": [
    "![](images/conversionrates.png)"
   ]
  },
  {
   "cell_type": "code",
   "execution_count": 39,
   "metadata": {},
   "outputs": [
    {
     "data": {
      "text/plain": [
       "dict_keys(['mr74-MV411_IRF2BP2-DMSO_2h-r1_1_val_1', 'mr75-MV411_IRF2BP2-DMSO_2h-r2_1_val_1', 'mr76-MV411_IRF2BP2-DMSO_2h-r3_1_val_1', 'mr77-MV411_IRF2BP2-DMSO_2h-r4_1_val_1', 'mr78-MV411_IRF2BP2-DMSO_6h-r1_1_val_1', 'mr79-MV411_IRF2BP2-DMSO_6h-r2_1_val_1', 'mr80-MV411_IRF2BP2-DMSO_6h-r3_1_val_1', 'mr81-MV411_IRF2BP2-DMSO_6h-r4_1_val_1', 'mr82-MV411_IRF2BP2-VHL_2h-r1_1_val_1', 'mr83-MV411_IRF2BP2-VHL_2h-r2_1_val_1', 'mr84-MV411_IRF2BP2-VHL_2h-r3_1_val_1', 'mr85-MV411_IRF2BP2-VHL_2h-r4_1_val_1', 'mr86-MV411_IRF2BP2-VHL_6h-r1_1_val_1', 'mr87-MV411_IRF2BP2-VHL_6h-r2_1_val_1', 'mr88-MV411_IRF2BP2-VHL_6h-r3_1_val_1', 'mr89-MV411_IRF2BP2-VHL_6h-r4_1_val_1'])"
      ]
     },
     "execution_count": 39,
     "metadata": {},
     "output_type": "execute_result"
    }
   ],
   "source": [
    "data.keys()"
   ]
  },
  {
   "cell_type": "code",
   "execution_count": 40,
   "metadata": {},
   "outputs": [
    {
     "data": {
      "text/html": [
       "<div>\n",
       "<style scoped>\n",
       "    .dataframe tbody tr th:only-of-type {\n",
       "        vertical-align: middle;\n",
       "    }\n",
       "\n",
       "    .dataframe tbody tr th {\n",
       "        vertical-align: top;\n",
       "    }\n",
       "\n",
       "    .dataframe thead th {\n",
       "        text-align: right;\n",
       "    }\n",
       "</style>\n",
       "<table border=\"1\" class=\"dataframe\">\n",
       "  <thead>\n",
       "    <tr style=\"text-align: right;\">\n",
       "      <th></th>\n",
       "      <th>Chromosome</th>\n",
       "      <th>Start</th>\n",
       "      <th>End</th>\n",
       "      <th>Name</th>\n",
       "      <th>Length</th>\n",
       "      <th>Strand</th>\n",
       "      <th>ConversionRate</th>\n",
       "      <th>ReadsCPM</th>\n",
       "      <th>Tcontent</th>\n",
       "      <th>CoverageOnTs</th>\n",
       "      <th>ConversionsOnTs</th>\n",
       "      <th>ReadCount</th>\n",
       "      <th>TcReadCount</th>\n",
       "      <th>multimapCount</th>\n",
       "      <th>ConversionRateLower</th>\n",
       "      <th>ConversionRateUpper</th>\n",
       "    </tr>\n",
       "  </thead>\n",
       "  <tbody>\n",
       "    <tr>\n",
       "      <th>0</th>\n",
       "      <td>chr22</td>\n",
       "      <td>29442122</td>\n",
       "      <td>29442455</td>\n",
       "      <td>5988</td>\n",
       "      <td>333</td>\n",
       "      <td>+</td>\n",
       "      <td>0.000000</td>\n",
       "      <td>0.000000</td>\n",
       "      <td>112</td>\n",
       "      <td>0</td>\n",
       "      <td>0</td>\n",
       "      <td>0</td>\n",
       "      <td>0</td>\n",
       "      <td>0</td>\n",
       "      <td>-1.0</td>\n",
       "      <td>-1.0</td>\n",
       "    </tr>\n",
       "    <tr>\n",
       "      <th>1</th>\n",
       "      <td>chr19</td>\n",
       "      <td>13961529</td>\n",
       "      <td>13962694</td>\n",
       "      <td>5989</td>\n",
       "      <td>1165</td>\n",
       "      <td>-</td>\n",
       "      <td>0.000000</td>\n",
       "      <td>1.469883</td>\n",
       "      <td>242</td>\n",
       "      <td>807</td>\n",
       "      <td>0</td>\n",
       "      <td>80</td>\n",
       "      <td>0</td>\n",
       "      <td>0</td>\n",
       "      <td>-1.0</td>\n",
       "      <td>-1.0</td>\n",
       "    </tr>\n",
       "    <tr>\n",
       "      <th>2</th>\n",
       "      <td>chr12</td>\n",
       "      <td>109448654</td>\n",
       "      <td>109451813</td>\n",
       "      <td>83892</td>\n",
       "      <td>3159</td>\n",
       "      <td>-</td>\n",
       "      <td>0.000245</td>\n",
       "      <td>13.633161</td>\n",
       "      <td>921</td>\n",
       "      <td>8175</td>\n",
       "      <td>2</td>\n",
       "      <td>742</td>\n",
       "      <td>1</td>\n",
       "      <td>0</td>\n",
       "      <td>-1.0</td>\n",
       "      <td>-1.0</td>\n",
       "    </tr>\n",
       "    <tr>\n",
       "      <th>3</th>\n",
       "      <td>chr12</td>\n",
       "      <td>109456117</td>\n",
       "      <td>109456313</td>\n",
       "      <td>83892</td>\n",
       "      <td>196</td>\n",
       "      <td>-</td>\n",
       "      <td>0.000000</td>\n",
       "      <td>1.157533</td>\n",
       "      <td>57</td>\n",
       "      <td>655</td>\n",
       "      <td>0</td>\n",
       "      <td>63</td>\n",
       "      <td>0</td>\n",
       "      <td>0</td>\n",
       "      <td>-1.0</td>\n",
       "      <td>-1.0</td>\n",
       "    </tr>\n",
       "    <tr>\n",
       "      <th>4</th>\n",
       "      <td>chr12</td>\n",
       "      <td>109457629</td>\n",
       "      <td>109457682</td>\n",
       "      <td>83892</td>\n",
       "      <td>53</td>\n",
       "      <td>-</td>\n",
       "      <td>0.000000</td>\n",
       "      <td>0.753315</td>\n",
       "      <td>10</td>\n",
       "      <td>216</td>\n",
       "      <td>0</td>\n",
       "      <td>41</td>\n",
       "      <td>0</td>\n",
       "      <td>0</td>\n",
       "      <td>-1.0</td>\n",
       "      <td>-1.0</td>\n",
       "    </tr>\n",
       "    <tr>\n",
       "      <th>...</th>\n",
       "      <td>...</td>\n",
       "      <td>...</td>\n",
       "      <td>...</td>\n",
       "      <td>...</td>\n",
       "      <td>...</td>\n",
       "      <td>...</td>\n",
       "      <td>...</td>\n",
       "      <td>...</td>\n",
       "      <td>...</td>\n",
       "      <td>...</td>\n",
       "      <td>...</td>\n",
       "      <td>...</td>\n",
       "      <td>...</td>\n",
       "      <td>...</td>\n",
       "      <td>...</td>\n",
       "      <td>...</td>\n",
       "    </tr>\n",
       "    <tr>\n",
       "      <th>58131</th>\n",
       "      <td>chr1</td>\n",
       "      <td>46691873</td>\n",
       "      <td>46692098</td>\n",
       "      <td>100130197</td>\n",
       "      <td>225</td>\n",
       "      <td>+</td>\n",
       "      <td>0.000000</td>\n",
       "      <td>1.157533</td>\n",
       "      <td>61</td>\n",
       "      <td>520</td>\n",
       "      <td>0</td>\n",
       "      <td>63</td>\n",
       "      <td>0</td>\n",
       "      <td>0</td>\n",
       "      <td>-1.0</td>\n",
       "      <td>-1.0</td>\n",
       "    </tr>\n",
       "    <tr>\n",
       "      <th>58132</th>\n",
       "      <td>chr2</td>\n",
       "      <td>101151659</td>\n",
       "      <td>101152759</td>\n",
       "      <td>100506286</td>\n",
       "      <td>1100</td>\n",
       "      <td>+</td>\n",
       "      <td>0.000000</td>\n",
       "      <td>0.036747</td>\n",
       "      <td>191</td>\n",
       "      <td>14</td>\n",
       "      <td>0</td>\n",
       "      <td>2</td>\n",
       "      <td>0</td>\n",
       "      <td>0</td>\n",
       "      <td>-1.0</td>\n",
       "      <td>-1.0</td>\n",
       "    </tr>\n",
       "    <tr>\n",
       "      <th>58133</th>\n",
       "      <td>chr2</td>\n",
       "      <td>101154034</td>\n",
       "      <td>101155412</td>\n",
       "      <td>100506286</td>\n",
       "      <td>1378</td>\n",
       "      <td>+</td>\n",
       "      <td>0.000000</td>\n",
       "      <td>0.055121</td>\n",
       "      <td>337</td>\n",
       "      <td>26</td>\n",
       "      <td>0</td>\n",
       "      <td>3</td>\n",
       "      <td>0</td>\n",
       "      <td>0</td>\n",
       "      <td>-1.0</td>\n",
       "      <td>-1.0</td>\n",
       "    </tr>\n",
       "    <tr>\n",
       "      <th>58134</th>\n",
       "      <td>chrX</td>\n",
       "      <td>106639813</td>\n",
       "      <td>106639896</td>\n",
       "      <td>100616144</td>\n",
       "      <td>83</td>\n",
       "      <td>+</td>\n",
       "      <td>0.000000</td>\n",
       "      <td>0.000000</td>\n",
       "      <td>25</td>\n",
       "      <td>0</td>\n",
       "      <td>0</td>\n",
       "      <td>0</td>\n",
       "      <td>0</td>\n",
       "      <td>0</td>\n",
       "      <td>-1.0</td>\n",
       "      <td>-1.0</td>\n",
       "    </tr>\n",
       "    <tr>\n",
       "      <th>58135</th>\n",
       "      <td>chr1</td>\n",
       "      <td>52940313</td>\n",
       "      <td>52940413</td>\n",
       "      <td>100616145</td>\n",
       "      <td>100</td>\n",
       "      <td>+</td>\n",
       "      <td>0.000000</td>\n",
       "      <td>0.000000</td>\n",
       "      <td>24</td>\n",
       "      <td>0</td>\n",
       "      <td>0</td>\n",
       "      <td>0</td>\n",
       "      <td>0</td>\n",
       "      <td>0</td>\n",
       "      <td>-1.0</td>\n",
       "      <td>-1.0</td>\n",
       "    </tr>\n",
       "  </tbody>\n",
       "</table>\n",
       "<p>58136 rows × 16 columns</p>\n",
       "</div>"
      ],
      "text/plain": [
       "      Chromosome      Start        End       Name  Length Strand  \\\n",
       "0          chr22   29442122   29442455       5988     333      +   \n",
       "1          chr19   13961529   13962694       5989    1165      -   \n",
       "2          chr12  109448654  109451813      83892    3159      -   \n",
       "3          chr12  109456117  109456313      83892     196      -   \n",
       "4          chr12  109457629  109457682      83892      53      -   \n",
       "...          ...        ...        ...        ...     ...    ...   \n",
       "58131       chr1   46691873   46692098  100130197     225      +   \n",
       "58132       chr2  101151659  101152759  100506286    1100      +   \n",
       "58133       chr2  101154034  101155412  100506286    1378      +   \n",
       "58134       chrX  106639813  106639896  100616144      83      +   \n",
       "58135       chr1   52940313   52940413  100616145     100      +   \n",
       "\n",
       "       ConversionRate   ReadsCPM  Tcontent  CoverageOnTs  ConversionsOnTs  \\\n",
       "0            0.000000   0.000000       112             0                0   \n",
       "1            0.000000   1.469883       242           807                0   \n",
       "2            0.000245  13.633161       921          8175                2   \n",
       "3            0.000000   1.157533        57           655                0   \n",
       "4            0.000000   0.753315        10           216                0   \n",
       "...               ...        ...       ...           ...              ...   \n",
       "58131        0.000000   1.157533        61           520                0   \n",
       "58132        0.000000   0.036747       191            14                0   \n",
       "58133        0.000000   0.055121       337            26                0   \n",
       "58134        0.000000   0.000000        25             0                0   \n",
       "58135        0.000000   0.000000        24             0                0   \n",
       "\n",
       "       ReadCount  TcReadCount  multimapCount  ConversionRateLower  \\\n",
       "0              0            0              0                 -1.0   \n",
       "1             80            0              0                 -1.0   \n",
       "2            742            1              0                 -1.0   \n",
       "3             63            0              0                 -1.0   \n",
       "4             41            0              0                 -1.0   \n",
       "...          ...          ...            ...                  ...   \n",
       "58131         63            0              0                 -1.0   \n",
       "58132          2            0              0                 -1.0   \n",
       "58133          3            0              0                 -1.0   \n",
       "58134          0            0              0                 -1.0   \n",
       "58135          0            0              0                 -1.0   \n",
       "\n",
       "       ConversionRateUpper  \n",
       "0                     -1.0  \n",
       "1                     -1.0  \n",
       "2                     -1.0  \n",
       "3                     -1.0  \n",
       "4                     -1.0  \n",
       "...                    ...  \n",
       "58131                 -1.0  \n",
       "58132                 -1.0  \n",
       "58133                 -1.0  \n",
       "58134                 -1.0  \n",
       "58135                 -1.0  \n",
       "\n",
       "[58136 rows x 16 columns]"
      ]
     },
     "execution_count": 40,
     "metadata": {},
     "output_type": "execute_result"
    }
   ],
   "source": [
    "val"
   ]
  },
  {
   "cell_type": "code",
   "execution_count": 41,
   "metadata": {},
   "outputs": [],
   "source": [
    "flag_var= 100\n",
    "\n",
    "readcounts = {i:[0]*len(data) for i in val.Name.unique()}\n",
    "tccounts = {i:[0]*len(data) for i in val.Name.unique()}"
   ]
  },
  {
   "cell_type": "code",
   "execution_count": 42,
   "metadata": {},
   "outputs": [
    {
     "name": "stdout",
     "output_type": "stream",
     "text": [
      "962 7\n",
      "[167, 41] [0, 0]\n",
      "858 2\n",
      "[303, 81] [0, 0]\n",
      "261 0\n",
      "[244, 1] [0, 0]\n",
      "1157 1\n",
      "[376, 67] [0, 0]\n",
      "1195 7\n",
      "[226, 58] [0, 0]\n",
      "1858 3\n",
      "[614, 146] [0, 0]\n",
      "1827 10\n",
      "[426, 105] [0, 0]\n",
      "1673 2\n",
      "[456, 155] [0, 0]\n",
      "2012 3\n",
      "[298, 74] [0, 0]\n",
      "1823 4\n",
      "[377, 127] [0, 0]\n",
      "1360 7\n",
      "[193, 24] [0, 0]\n",
      "1777 7\n",
      "[415, 82] [0, 0]\n",
      "1467 0\n",
      "[238, 53] [0, 0]\n",
      "1161 3\n",
      "[359, 85] [0, 0]\n",
      "1221 4\n",
      "[252, 65] [0, 0]\n",
      "853 4\n",
      "[407, 36] [0, 0]\n"
     ]
    }
   ],
   "source": [
    "for n, (_,val) in enumerate(data.items()):\n",
    "    val = val.sort_values(by=\"Name\")\n",
    "    j  = 0\n",
    "    #print('              ',end='\\r')\n",
    "    readcount = [val.iloc[0].ReadCount]\n",
    "    tccount = [val.iloc[0].TcReadCount]\n",
    "    prevname = val.iloc[0].Name\n",
    "    for _, v in val.iloc[1:].iterrows():\n",
    "        if v.Name==4609:\n",
    "            print(v.ReadCount,v.TcReadCount)\n",
    "            print(readcount,tccount)\n",
    "        if v.Name == prevname:\n",
    "            readcount.append(v.ReadCount)\n",
    "            tccount.append(v.TcReadCount)\n",
    "        else:\n",
    "            readcounts[prevname][n] = np.sum(readcount)\n",
    "            tccounts[prevname][n] = np.sum(tccount)\n",
    "            #if np.var(readcount) > flag_var:\n",
    "            #    print(\"pb with \"+str(v.Name))\n",
    "            prevname=v.Name\n",
    "            j+=1\n",
    "            #print(j,end='\\r')\n",
    "            readcount = [v.ReadCount]\n",
    "            tccount = [v.TcReadCount]\n",
    "            \n",
    "files = [*data]"
   ]
  },
  {
   "cell_type": "code",
   "execution_count": 43,
   "metadata": {},
   "outputs": [
    {
     "data": {
      "text/plain": [
       "35944            1\n",
       "14222            2\n",
       "42459            3\n",
       "42460            3\n",
       "42452            3\n",
       "           ...    \n",
       "33888    107282092\n",
       "8628     107303344\n",
       "7168     107397392\n",
       "43745    107399301\n",
       "43744    107399303\n",
       "Name: Name, Length: 58136, dtype: int64"
      ]
     },
     "execution_count": 43,
     "metadata": {},
     "output_type": "execute_result"
    }
   ],
   "source": [
    "val.Name"
   ]
  },
  {
   "cell_type": "code",
   "execution_count": 44,
   "metadata": {},
   "outputs": [],
   "source": [
    "readcounts = pd.DataFrame(data=readcounts,columns=val.Name.unique(),index=data.keys()).T\n",
    "tccounts = pd.DataFrame(data=tccounts,columns=val.Name.unique(),index=data.keys()).T"
   ]
  },
  {
   "cell_type": "code",
   "execution_count": 45,
   "metadata": {},
   "outputs": [
    {
     "name": "stdout",
     "output_type": "stream",
     "text": [
      "you need access to taiga for this (https://pypi.org/project/taigapy/)\n",
      "1118 could not be parsed... we don't have all genes already\n"
     ]
    }
   ],
   "source": [
    "names, _ = convertGenes(readcounts.index.tolist(), from_idtype=\"entrez_id\", to_idtype=\"symbol\")\n",
    "readcounts.index = names"
   ]
  },
  {
   "cell_type": "code",
   "execution_count": 46,
   "metadata": {},
   "outputs": [
    {
     "name": "stdout",
     "output_type": "stream",
     "text": [
      "you need access to taiga for this (https://pypi.org/project/taigapy/)\n",
      "1118 could not be parsed... we don't have all genes already\n"
     ]
    }
   ],
   "source": [
    "names, _ = convertGenes(tccounts.index.tolist(), from_idtype=\"entrez_id\", to_idtype=\"symbol\")\n",
    "tccounts.index = names"
   ]
  },
  {
   "cell_type": "code",
   "execution_count": 47,
   "metadata": {},
   "outputs": [],
   "source": [
    "todrop=np.argwhere(tccounts.values.max(1)>=2).ravel()\n",
    "tccounts = tccounts.iloc[todrop]\n",
    "readcounts = readcounts.iloc[todrop]"
   ]
  },
  {
   "cell_type": "code",
   "execution_count": 48,
   "metadata": {},
   "outputs": [],
   "source": [
    "todrop=np.argwhere(readcounts.values.max(1)>=10).ravel()\n",
    "tccounts = tccounts.iloc[todrop]\n",
    "readcounts = readcounts.iloc[todrop]"
   ]
  },
  {
   "cell_type": "code",
   "execution_count": 27,
   "metadata": {},
   "outputs": [
    {
     "data": {
      "text/plain": [
       "4262"
      ]
     },
     "execution_count": 27,
     "metadata": {},
     "output_type": "execute_result"
    }
   ],
   "source": [
    "len(readcounts)"
   ]
  },
  {
   "cell_type": "markdown",
   "metadata": {},
   "source": [
    "## SLAM-seq\n",
    "All SLAM-seq assays were performed at 60-70% confluency for adherent cells or\n",
    "60% of the maximum cell density counted on a hemocytometer for suspension cells. 5-7h\n",
    "prior to each assay, growth medium was aspirated and replaced. Unless stated otherwise,\n",
    "cells were pre-treated with indicated small molecule inhibitors or 100µM IAA for 30 min\n",
    "to pre-establish full target inhibition or degradation. Newly synthesized RNA was labeled\n",
    "for indicated time spans (45 min or 60 min) at a final concentration of 100µM 4-\n",
    "thiouridine (4sU, Carbosynth). Adherent cells were harvested by direct snap-freezing of\n",
    "plates on dry ice. Suspension cells were spun down and immediately snap-frozen. RNA\n",
    "extraction was performed using the RNeasy Plus Mini Kit (Qiagen). \n",
    "\n",
    "Total RNA was subjected to alkylation by iodoacetamide (Sigma, 10mM) for 15 min and RNA was repurified by ethanol precipitation. 500ng alkylated RNA were used as input for generating\n",
    "3’-end mRNA sequencing libraries using a commercially available kit (QuantSeq 3′\n",
    "mRNA-Seq Library Prep Kit FWD for Illumina and PCR Add-on Kit for Illumina,\n",
    "Lexogen). Deep sequencing was performed using HiSeq1500 and HiSeq2500 platforms\n",
    "(Illumina)."
   ]
  },
  {
   "cell_type": "markdown",
   "metadata": {},
   "source": [
    "0.06724463\n",
    "0.04916348\n",
    "0.03728357\n",
    "0.05075007\n",
    "0.03331248\n",
    "0.0346662\n",
    "0.03265504 \n",
    "0.04416262\n",
    "0.05574821\n",
    "0.05845953\n",
    "0.05531433\n",
    "0.06175393\n",
    "0.03181749 \n",
    "0.02940226 \n",
    "0.0306263\n",
    "0.04004278"
   ]
  },
  {
   "cell_type": "code",
   "execution_count": 49,
   "metadata": {},
   "outputs": [
    {
     "data": {
      "text/html": [
       "<div>\n",
       "<style scoped>\n",
       "    .dataframe tbody tr th:only-of-type {\n",
       "        vertical-align: middle;\n",
       "    }\n",
       "\n",
       "    .dataframe tbody tr th {\n",
       "        vertical-align: top;\n",
       "    }\n",
       "\n",
       "    .dataframe thead th {\n",
       "        text-align: right;\n",
       "    }\n",
       "</style>\n",
       "<table border=\"1\" class=\"dataframe\">\n",
       "  <thead>\n",
       "    <tr style=\"text-align: right;\">\n",
       "      <th></th>\n",
       "      <th>mr74-MV411_IRF2BP2-DMSO_2h-r1_1_val_1</th>\n",
       "      <th>mr75-MV411_IRF2BP2-DMSO_2h-r2_1_val_1</th>\n",
       "      <th>mr76-MV411_IRF2BP2-DMSO_2h-r3_1_val_1</th>\n",
       "      <th>mr77-MV411_IRF2BP2-DMSO_2h-r4_1_val_1</th>\n",
       "      <th>mr78-MV411_IRF2BP2-DMSO_6h-r1_1_val_1</th>\n",
       "      <th>mr79-MV411_IRF2BP2-DMSO_6h-r2_1_val_1</th>\n",
       "      <th>mr80-MV411_IRF2BP2-DMSO_6h-r3_1_val_1</th>\n",
       "      <th>mr81-MV411_IRF2BP2-DMSO_6h-r4_1_val_1</th>\n",
       "      <th>mr82-MV411_IRF2BP2-VHL_2h-r1_1_val_1</th>\n",
       "      <th>mr83-MV411_IRF2BP2-VHL_2h-r2_1_val_1</th>\n",
       "      <th>mr84-MV411_IRF2BP2-VHL_2h-r3_1_val_1</th>\n",
       "      <th>mr85-MV411_IRF2BP2-VHL_2h-r4_1_val_1</th>\n",
       "      <th>mr86-MV411_IRF2BP2-VHL_6h-r1_1_val_1</th>\n",
       "      <th>mr87-MV411_IRF2BP2-VHL_6h-r2_1_val_1</th>\n",
       "      <th>mr88-MV411_IRF2BP2-VHL_6h-r3_1_val_1</th>\n",
       "      <th>mr89-MV411_IRF2BP2-VHL_6h-r4_1_val_1</th>\n",
       "    </tr>\n",
       "  </thead>\n",
       "  <tbody>\n",
       "    <tr>\n",
       "      <th>ABL1</th>\n",
       "      <td>1</td>\n",
       "      <td>1</td>\n",
       "      <td>0</td>\n",
       "      <td>0</td>\n",
       "      <td>0</td>\n",
       "      <td>0</td>\n",
       "      <td>0</td>\n",
       "      <td>1</td>\n",
       "      <td>1</td>\n",
       "      <td>2</td>\n",
       "      <td>0</td>\n",
       "      <td>0</td>\n",
       "      <td>0</td>\n",
       "      <td>0</td>\n",
       "      <td>0</td>\n",
       "      <td>0</td>\n",
       "    </tr>\n",
       "    <tr>\n",
       "      <th>ABR</th>\n",
       "      <td>3</td>\n",
       "      <td>2</td>\n",
       "      <td>4</td>\n",
       "      <td>1</td>\n",
       "      <td>0</td>\n",
       "      <td>2</td>\n",
       "      <td>2</td>\n",
       "      <td>3</td>\n",
       "      <td>9</td>\n",
       "      <td>3</td>\n",
       "      <td>1</td>\n",
       "      <td>3</td>\n",
       "      <td>0</td>\n",
       "      <td>0</td>\n",
       "      <td>1</td>\n",
       "      <td>1</td>\n",
       "    </tr>\n",
       "    <tr>\n",
       "      <th>ACAT2</th>\n",
       "      <td>0</td>\n",
       "      <td>0</td>\n",
       "      <td>0</td>\n",
       "      <td>0</td>\n",
       "      <td>0</td>\n",
       "      <td>0</td>\n",
       "      <td>0</td>\n",
       "      <td>0</td>\n",
       "      <td>2</td>\n",
       "      <td>0</td>\n",
       "      <td>0</td>\n",
       "      <td>0</td>\n",
       "      <td>0</td>\n",
       "      <td>0</td>\n",
       "      <td>0</td>\n",
       "      <td>0</td>\n",
       "    </tr>\n",
       "    <tr>\n",
       "      <th>ACLY</th>\n",
       "      <td>3</td>\n",
       "      <td>0</td>\n",
       "      <td>0</td>\n",
       "      <td>0</td>\n",
       "      <td>0</td>\n",
       "      <td>1</td>\n",
       "      <td>0</td>\n",
       "      <td>2</td>\n",
       "      <td>0</td>\n",
       "      <td>2</td>\n",
       "      <td>0</td>\n",
       "      <td>0</td>\n",
       "      <td>0</td>\n",
       "      <td>1</td>\n",
       "      <td>0</td>\n",
       "      <td>0</td>\n",
       "    </tr>\n",
       "    <tr>\n",
       "      <th>ACTB</th>\n",
       "      <td>0</td>\n",
       "      <td>1</td>\n",
       "      <td>0</td>\n",
       "      <td>9</td>\n",
       "      <td>0</td>\n",
       "      <td>6</td>\n",
       "      <td>1</td>\n",
       "      <td>4</td>\n",
       "      <td>6</td>\n",
       "      <td>7</td>\n",
       "      <td>3</td>\n",
       "      <td>13</td>\n",
       "      <td>1</td>\n",
       "      <td>7</td>\n",
       "      <td>2</td>\n",
       "      <td>9</td>\n",
       "    </tr>\n",
       "    <tr>\n",
       "      <th>...</th>\n",
       "      <td>...</td>\n",
       "      <td>...</td>\n",
       "      <td>...</td>\n",
       "      <td>...</td>\n",
       "      <td>...</td>\n",
       "      <td>...</td>\n",
       "      <td>...</td>\n",
       "      <td>...</td>\n",
       "      <td>...</td>\n",
       "      <td>...</td>\n",
       "      <td>...</td>\n",
       "      <td>...</td>\n",
       "      <td>...</td>\n",
       "      <td>...</td>\n",
       "      <td>...</td>\n",
       "      <td>...</td>\n",
       "    </tr>\n",
       "    <tr>\n",
       "      <th>105369438</th>\n",
       "      <td>0</td>\n",
       "      <td>1</td>\n",
       "      <td>0</td>\n",
       "      <td>0</td>\n",
       "      <td>2</td>\n",
       "      <td>1</td>\n",
       "      <td>0</td>\n",
       "      <td>0</td>\n",
       "      <td>0</td>\n",
       "      <td>0</td>\n",
       "      <td>0</td>\n",
       "      <td>2</td>\n",
       "      <td>0</td>\n",
       "      <td>1</td>\n",
       "      <td>1</td>\n",
       "      <td>1</td>\n",
       "    </tr>\n",
       "    <tr>\n",
       "      <th>SNORA103</th>\n",
       "      <td>0</td>\n",
       "      <td>0</td>\n",
       "      <td>0</td>\n",
       "      <td>0</td>\n",
       "      <td>0</td>\n",
       "      <td>0</td>\n",
       "      <td>0</td>\n",
       "      <td>0</td>\n",
       "      <td>0</td>\n",
       "      <td>0</td>\n",
       "      <td>0</td>\n",
       "      <td>2</td>\n",
       "      <td>0</td>\n",
       "      <td>0</td>\n",
       "      <td>0</td>\n",
       "      <td>0</td>\n",
       "    </tr>\n",
       "    <tr>\n",
       "      <th>SNORD141A</th>\n",
       "      <td>0</td>\n",
       "      <td>0</td>\n",
       "      <td>0</td>\n",
       "      <td>0</td>\n",
       "      <td>0</td>\n",
       "      <td>0</td>\n",
       "      <td>0</td>\n",
       "      <td>0</td>\n",
       "      <td>0</td>\n",
       "      <td>2</td>\n",
       "      <td>0</td>\n",
       "      <td>0</td>\n",
       "      <td>0</td>\n",
       "      <td>0</td>\n",
       "      <td>0</td>\n",
       "      <td>0</td>\n",
       "    </tr>\n",
       "    <tr>\n",
       "      <th>SNORD141B</th>\n",
       "      <td>0</td>\n",
       "      <td>0</td>\n",
       "      <td>0</td>\n",
       "      <td>0</td>\n",
       "      <td>0</td>\n",
       "      <td>0</td>\n",
       "      <td>0</td>\n",
       "      <td>0</td>\n",
       "      <td>0</td>\n",
       "      <td>2</td>\n",
       "      <td>0</td>\n",
       "      <td>0</td>\n",
       "      <td>0</td>\n",
       "      <td>0</td>\n",
       "      <td>0</td>\n",
       "      <td>0</td>\n",
       "    </tr>\n",
       "    <tr>\n",
       "      <th>LINC00680</th>\n",
       "      <td>0</td>\n",
       "      <td>0</td>\n",
       "      <td>0</td>\n",
       "      <td>0</td>\n",
       "      <td>0</td>\n",
       "      <td>0</td>\n",
       "      <td>0</td>\n",
       "      <td>2</td>\n",
       "      <td>0</td>\n",
       "      <td>0</td>\n",
       "      <td>0</td>\n",
       "      <td>0</td>\n",
       "      <td>0</td>\n",
       "      <td>0</td>\n",
       "      <td>0</td>\n",
       "      <td>0</td>\n",
       "    </tr>\n",
       "  </tbody>\n",
       "</table>\n",
       "<p>4262 rows × 16 columns</p>\n",
       "</div>"
      ],
      "text/plain": [
       "           mr74-MV411_IRF2BP2-DMSO_2h-r1_1_val_1  \\\n",
       "ABL1                                           1   \n",
       "ABR                                            3   \n",
       "ACAT2                                          0   \n",
       "ACLY                                           3   \n",
       "ACTB                                           0   \n",
       "...                                          ...   \n",
       "105369438                                      0   \n",
       "SNORA103                                       0   \n",
       "SNORD141A                                      0   \n",
       "SNORD141B                                      0   \n",
       "LINC00680                                      0   \n",
       "\n",
       "           mr75-MV411_IRF2BP2-DMSO_2h-r2_1_val_1  \\\n",
       "ABL1                                           1   \n",
       "ABR                                            2   \n",
       "ACAT2                                          0   \n",
       "ACLY                                           0   \n",
       "ACTB                                           1   \n",
       "...                                          ...   \n",
       "105369438                                      1   \n",
       "SNORA103                                       0   \n",
       "SNORD141A                                      0   \n",
       "SNORD141B                                      0   \n",
       "LINC00680                                      0   \n",
       "\n",
       "           mr76-MV411_IRF2BP2-DMSO_2h-r3_1_val_1  \\\n",
       "ABL1                                           0   \n",
       "ABR                                            4   \n",
       "ACAT2                                          0   \n",
       "ACLY                                           0   \n",
       "ACTB                                           0   \n",
       "...                                          ...   \n",
       "105369438                                      0   \n",
       "SNORA103                                       0   \n",
       "SNORD141A                                      0   \n",
       "SNORD141B                                      0   \n",
       "LINC00680                                      0   \n",
       "\n",
       "           mr77-MV411_IRF2BP2-DMSO_2h-r4_1_val_1  \\\n",
       "ABL1                                           0   \n",
       "ABR                                            1   \n",
       "ACAT2                                          0   \n",
       "ACLY                                           0   \n",
       "ACTB                                           9   \n",
       "...                                          ...   \n",
       "105369438                                      0   \n",
       "SNORA103                                       0   \n",
       "SNORD141A                                      0   \n",
       "SNORD141B                                      0   \n",
       "LINC00680                                      0   \n",
       "\n",
       "           mr78-MV411_IRF2BP2-DMSO_6h-r1_1_val_1  \\\n",
       "ABL1                                           0   \n",
       "ABR                                            0   \n",
       "ACAT2                                          0   \n",
       "ACLY                                           0   \n",
       "ACTB                                           0   \n",
       "...                                          ...   \n",
       "105369438                                      2   \n",
       "SNORA103                                       0   \n",
       "SNORD141A                                      0   \n",
       "SNORD141B                                      0   \n",
       "LINC00680                                      0   \n",
       "\n",
       "           mr79-MV411_IRF2BP2-DMSO_6h-r2_1_val_1  \\\n",
       "ABL1                                           0   \n",
       "ABR                                            2   \n",
       "ACAT2                                          0   \n",
       "ACLY                                           1   \n",
       "ACTB                                           6   \n",
       "...                                          ...   \n",
       "105369438                                      1   \n",
       "SNORA103                                       0   \n",
       "SNORD141A                                      0   \n",
       "SNORD141B                                      0   \n",
       "LINC00680                                      0   \n",
       "\n",
       "           mr80-MV411_IRF2BP2-DMSO_6h-r3_1_val_1  \\\n",
       "ABL1                                           0   \n",
       "ABR                                            2   \n",
       "ACAT2                                          0   \n",
       "ACLY                                           0   \n",
       "ACTB                                           1   \n",
       "...                                          ...   \n",
       "105369438                                      0   \n",
       "SNORA103                                       0   \n",
       "SNORD141A                                      0   \n",
       "SNORD141B                                      0   \n",
       "LINC00680                                      0   \n",
       "\n",
       "           mr81-MV411_IRF2BP2-DMSO_6h-r4_1_val_1  \\\n",
       "ABL1                                           1   \n",
       "ABR                                            3   \n",
       "ACAT2                                          0   \n",
       "ACLY                                           2   \n",
       "ACTB                                           4   \n",
       "...                                          ...   \n",
       "105369438                                      0   \n",
       "SNORA103                                       0   \n",
       "SNORD141A                                      0   \n",
       "SNORD141B                                      0   \n",
       "LINC00680                                      2   \n",
       "\n",
       "           mr82-MV411_IRF2BP2-VHL_2h-r1_1_val_1  \\\n",
       "ABL1                                          1   \n",
       "ABR                                           9   \n",
       "ACAT2                                         2   \n",
       "ACLY                                          0   \n",
       "ACTB                                          6   \n",
       "...                                         ...   \n",
       "105369438                                     0   \n",
       "SNORA103                                      0   \n",
       "SNORD141A                                     0   \n",
       "SNORD141B                                     0   \n",
       "LINC00680                                     0   \n",
       "\n",
       "           mr83-MV411_IRF2BP2-VHL_2h-r2_1_val_1  \\\n",
       "ABL1                                          2   \n",
       "ABR                                           3   \n",
       "ACAT2                                         0   \n",
       "ACLY                                          2   \n",
       "ACTB                                          7   \n",
       "...                                         ...   \n",
       "105369438                                     0   \n",
       "SNORA103                                      0   \n",
       "SNORD141A                                     2   \n",
       "SNORD141B                                     2   \n",
       "LINC00680                                     0   \n",
       "\n",
       "           mr84-MV411_IRF2BP2-VHL_2h-r3_1_val_1  \\\n",
       "ABL1                                          0   \n",
       "ABR                                           1   \n",
       "ACAT2                                         0   \n",
       "ACLY                                          0   \n",
       "ACTB                                          3   \n",
       "...                                         ...   \n",
       "105369438                                     0   \n",
       "SNORA103                                      0   \n",
       "SNORD141A                                     0   \n",
       "SNORD141B                                     0   \n",
       "LINC00680                                     0   \n",
       "\n",
       "           mr85-MV411_IRF2BP2-VHL_2h-r4_1_val_1  \\\n",
       "ABL1                                          0   \n",
       "ABR                                           3   \n",
       "ACAT2                                         0   \n",
       "ACLY                                          0   \n",
       "ACTB                                         13   \n",
       "...                                         ...   \n",
       "105369438                                     2   \n",
       "SNORA103                                      2   \n",
       "SNORD141A                                     0   \n",
       "SNORD141B                                     0   \n",
       "LINC00680                                     0   \n",
       "\n",
       "           mr86-MV411_IRF2BP2-VHL_6h-r1_1_val_1  \\\n",
       "ABL1                                          0   \n",
       "ABR                                           0   \n",
       "ACAT2                                         0   \n",
       "ACLY                                          0   \n",
       "ACTB                                          1   \n",
       "...                                         ...   \n",
       "105369438                                     0   \n",
       "SNORA103                                      0   \n",
       "SNORD141A                                     0   \n",
       "SNORD141B                                     0   \n",
       "LINC00680                                     0   \n",
       "\n",
       "           mr87-MV411_IRF2BP2-VHL_6h-r2_1_val_1  \\\n",
       "ABL1                                          0   \n",
       "ABR                                           0   \n",
       "ACAT2                                         0   \n",
       "ACLY                                          1   \n",
       "ACTB                                          7   \n",
       "...                                         ...   \n",
       "105369438                                     1   \n",
       "SNORA103                                      0   \n",
       "SNORD141A                                     0   \n",
       "SNORD141B                                     0   \n",
       "LINC00680                                     0   \n",
       "\n",
       "           mr88-MV411_IRF2BP2-VHL_6h-r3_1_val_1  \\\n",
       "ABL1                                          0   \n",
       "ABR                                           1   \n",
       "ACAT2                                         0   \n",
       "ACLY                                          0   \n",
       "ACTB                                          2   \n",
       "...                                         ...   \n",
       "105369438                                     1   \n",
       "SNORA103                                      0   \n",
       "SNORD141A                                     0   \n",
       "SNORD141B                                     0   \n",
       "LINC00680                                     0   \n",
       "\n",
       "           mr89-MV411_IRF2BP2-VHL_6h-r4_1_val_1  \n",
       "ABL1                                          0  \n",
       "ABR                                           1  \n",
       "ACAT2                                         0  \n",
       "ACLY                                          0  \n",
       "ACTB                                          9  \n",
       "...                                         ...  \n",
       "105369438                                     1  \n",
       "SNORA103                                      0  \n",
       "SNORD141A                                     0  \n",
       "SNORD141B                                     0  \n",
       "LINC00680                                     0  \n",
       "\n",
       "[4262 rows x 16 columns]"
      ]
     },
     "execution_count": 49,
     "metadata": {},
     "output_type": "execute_result"
    }
   ],
   "source": [
    "tccounts"
   ]
  },
  {
   "cell_type": "code",
   "execution_count": 135,
   "metadata": {},
   "outputs": [],
   "source": [
    "pd.DataFrame(tccounts.values[:,:-1].astype(float)/readcounts.mean().values*100, columns=tccounts.columns[:-1], index=tccounts['genes']).to_csv('ratio')"
   ]
  },
  {
   "cell_type": "code",
   "execution_count": 152,
   "metadata": {},
   "outputs": [
    {
     "data": {
      "text/plain": [
       "array([0.06724463, 0.04916348, 0.03728357, 0.05075007, 0.03331248,\n",
       "       0.0346662 , 0.03265504, 0.04416262, 0.05574821, 0.05845953,\n",
       "       0.05531433, 0.06175393, 0.03181749, 0.02940226, 0.0306263 ,\n",
       "       0.04004278])"
      ]
     },
     "execution_count": 152,
     "metadata": {},
     "output_type": "execute_result"
    }
   ],
   "source": [
    "(tccounts.values[:,:-1].astype(float)/(1+readcounts.values[:,:-1].astype(float))).mean(0)"
   ]
  },
  {
   "cell_type": "code",
   "execution_count": 146,
   "metadata": {},
   "outputs": [
    {
     "data": {
      "text/plain": [
       "mr74-MV411_IRF2BP2-DMSO_2h-r1    4.900631\n",
       "mr75-MV411_IRF2BP2-DMSO_2h-r2    3.369334\n",
       "mr76-MV411_IRF2BP2-DMSO_2h-r3    2.658658\n",
       "mr77-MV411_IRF2BP2-DMSO_2h-r4    3.251876\n",
       "mr78-MV411_IRF2BP2-DMSO_6h-r1    2.336209\n",
       "mr79-MV411_IRF2BP2-DMSO_6h-r2    2.420170\n",
       "mr80-MV411_IRF2BP2-DMSO_6h-r3    2.241392\n",
       "mr81-MV411_IRF2BP2-DMSO_6h-r4    2.990919\n",
       "mr82-MV411_IRF2BP2-VHL_2h-r1     3.714161\n",
       "mr83-MV411_IRF2BP2-VHL_2h-r2     3.839315\n",
       "mr84-MV411_IRF2BP2-VHL_2h-r3     3.808982\n",
       "mr85-MV411_IRF2BP2-VHL_2h-r4     3.796861\n",
       "mr86-MV411_IRF2BP2-VHL_6h-r1     2.214244\n",
       "mr87-MV411_IRF2BP2-VHL_6h-r2     2.068752\n",
       "mr88-MV411_IRF2BP2-VHL_6h-r3     2.123984\n",
       "mr89-MV411_IRF2BP2-VHL_6h-r4     2.583305\n",
       "dtype: float64"
      ]
     },
     "execution_count": 146,
     "metadata": {},
     "output_type": "execute_result"
    }
   ],
   "source": [
    "ratio.mean()"
   ]
  },
  {
   "cell_type": "code",
   "execution_count": 197,
   "metadata": {},
   "outputs": [
    {
     "name": "stdout",
     "output_type": "stream",
     "text": [
      "\u001b[0m\u001b[01;34mdata\u001b[0m/       \u001b[01;34mGSEA_\u001b[0m/           \u001b[01;34mnextflow\u001b[0m/   pipeline.md  requirements.txt  \u001b[01;34mtemp\u001b[0m/\r\n",
      "\u001b[01;34mdocuments\u001b[0m/  \u001b[01;34mhtml_notebooks\u001b[0m/  \u001b[01;34mnotebooks\u001b[0m/  README.md    \u001b[01;34mresults\u001b[0m/\r\n"
     ]
    }
   ],
   "source": [
    "ls .."
   ]
  },
  {
   "cell_type": "code",
   "execution_count": 50,
   "metadata": {
    "scrolled": true
   },
   "outputs": [
    {
     "data": {
      "text/plain": [
       "mr74-MV411_IRF2BP2-DMSO_2h-r1_1_val_1    0.463397\n",
       "mr75-MV411_IRF2BP2-DMSO_2h-r2_1_val_1    0.360394\n",
       "mr76-MV411_IRF2BP2-DMSO_2h-r3_1_val_1    0.368372\n",
       "mr77-MV411_IRF2BP2-DMSO_2h-r4_1_val_1    0.494838\n",
       "mr78-MV411_IRF2BP2-DMSO_6h-r1_1_val_1    0.348897\n",
       "mr79-MV411_IRF2BP2-DMSO_6h-r2_1_val_1    0.669639\n",
       "mr80-MV411_IRF2BP2-DMSO_6h-r3_1_val_1    0.475598\n",
       "mr81-MV411_IRF2BP2-DMSO_6h-r4_1_val_1    0.650399\n",
       "mr82-MV411_IRF2BP2-VHL_2h-r1_1_val_1     0.984514\n",
       "mr83-MV411_IRF2BP2-VHL_2h-r2_1_val_1     1.084467\n",
       "mr84-MV411_IRF2BP2-VHL_2h-r3_1_val_1     0.754341\n",
       "mr85-MV411_IRF2BP2-VHL_2h-r4_1_val_1     1.183247\n",
       "mr86-MV411_IRF2BP2-VHL_6h-r1_1_val_1     0.460347\n",
       "mr87-MV411_IRF2BP2-VHL_6h-r2_1_val_1     0.398405\n",
       "mr88-MV411_IRF2BP2-VHL_6h-r3_1_val_1     0.447443\n",
       "mr89-MV411_IRF2BP2-VHL_6h-r4_1_val_1     0.714219\n",
       "dtype: float64"
      ]
     },
     "execution_count": 50,
     "metadata": {},
     "output_type": "execute_result"
    }
   ],
   "source": [
    "tccounts.mean()"
   ]
  },
  {
   "cell_type": "code",
   "execution_count": 192,
   "metadata": {},
   "outputs": [],
   "source": [
    "readcounts.to_csv('readcounts.csv',index=False)"
   ]
  },
  {
   "cell_type": "markdown",
   "metadata": {},
   "source": [
    "# lets look at the similarity accross replicates\n",
    "\n",
    "we have some outliers, else it seems to make some sense and on average, to be extremelly similar!"
   ]
  },
  {
   "cell_type": "code",
   "execution_count": null,
   "metadata": {
    "scrolled": true
   },
   "outputs": [],
   "source": [
    "counts.loc['MYC']"
   ]
  },
  {
   "cell_type": "code",
   "execution_count": 52,
   "metadata": {},
   "outputs": [
    {
     "data": {
      "text/plain": [
       "<matplotlib.axes._subplots.AxesSubplot at 0x7f090ee579d0>"
      ]
     },
     "execution_count": 52,
     "metadata": {},
     "output_type": "execute_result"
    },
    {
     "data": {
      "image/png": "[encoded data removed]",
      "text/plain": [
       "<Figure size 432x288 with 2 Axes>"
      ]
     },
     "metadata": {
      "needs_background": "light"
     },
     "output_type": "display_data"
    }
   ],
   "source": [
    "%matplotlib inline\n",
    "sort = [0,8,10,4,6,14,12,1,11,9,5,7,13,3,15,2]\n",
    "sns.heatmap(tccounts[tccounts.columns[sort]].corr(), \n",
    "            xticklabels=tccounts.columns[sort].values,\n",
    "            yticklabels=tccounts.columns[sort].values)"
   ]
  },
  {
   "cell_type": "code",
   "execution_count": 53,
   "metadata": {},
   "outputs": [
    {
     "data": {
      "text/plain": [
       "<matplotlib.axes._subplots.AxesSubplot at 0x7f0999081410>"
      ]
     },
     "execution_count": 53,
     "metadata": {},
     "output_type": "execute_result"
    },
    {
     "data": {
      "image/png": "[encoded data removed]",
      "text/plain": [
       "<Figure size 432x288 with 2 Axes>"
      ]
     },
     "metadata": {
      "needs_background": "light"
     },
     "output_type": "display_data"
    }
   ],
   "source": [
    "%matplotlib inline\n",
    "sns.heatmap(readcounts.corr(), \n",
    "            xticklabels=readcounts.columns,\n",
    "            yticklabels=readcounts.columns)"
   ]
  },
  {
   "cell_type": "code",
   "execution_count": 54,
   "metadata": {},
   "outputs": [
    {
     "data": {
      "text/plain": [
       "<matplotlib.axes._subplots.AxesSubplot at 0x7f099927f790>"
      ]
     },
     "execution_count": 54,
     "metadata": {},
     "output_type": "execute_result"
    },
    {
     "data": {
      "image/png": "[encoded data removed]",
      "text/plain": [
       "<Figure size 432x288 with 2 Axes>"
      ]
     },
     "metadata": {
      "needs_background": "light"
     },
     "output_type": "display_data"
    }
   ],
   "source": [
    "%matplotlib inline\n",
    "sort = [0,8,10,4,12,6,14,1,9,5,13,7,11,15,3,2]\n",
    "sns.heatmap(readcounts[readcounts.columns[sort]].corr(), \n",
    "            xticklabels=readcounts.columns.values[sort],\n",
    "            yticklabels=readcounts.columns.values[sort])"
   ]
  },
  {
   "cell_type": "markdown",
   "metadata": {},
   "source": [
    "read the paper for MV411 QC steps."
   ]
  },
  {
   "cell_type": "markdown",
   "metadata": {},
   "source": [
    "### A quick detour to look for clustering"
   ]
  },
  {
   "cell_type": "markdown",
   "metadata": {},
   "source": [
    "## Getting the Core TF information"
   ]
  },
  {
   "cell_type": "code",
   "execution_count": 290,
   "metadata": {},
   "outputs": [
    {
     "name": "stdout",
     "output_type": "stream",
     "text": [
      "/home/jeremie/AMLproject\n"
     ]
    }
   ],
   "source": [
    "cd ../../../AMLproject/notebooks"
   ]
  },
  {
   "cell_type": "code",
   "execution_count": 295,
   "metadata": {},
   "outputs": [
    {
     "data": {
      "text/plain": [
       "['MYC',\n",
       " 'MYB',\n",
       " 'SPI1',\n",
       " 'RUNX1',\n",
       " 'GSE1',\n",
       " 'IRF2BP2',\n",
       " 'FLI1',\n",
       " 'ELF2',\n",
       " 'ZEB2',\n",
       " 'IKAROS',\n",
       " 'GFI1',\n",
       " 'LMO2',\n",
       " 'CEBPA',\n",
       " 'MEF2D',\n",
       " 'MEF2C',\n",
       " 'IRF8',\n",
       " 'MEIS1',\n",
       " 'RUNX2',\n",
       " 'ETV6',\n",
       " 'LDB1',\n",
       " 'RUNX2',\n",
       " 'SP1',\n",
       " 'ZMYND8']"
      ]
     },
     "execution_count": 295,
     "metadata": {},
     "output_type": "execute_result"
    }
   ],
   "source": [
    "ctf=pd.read_csv('../data/CTF.csv',header=None)[0].values.tolist()\n",
    "ctf"
   ]
  },
  {
   "cell_type": "code",
   "execution_count": 296,
   "metadata": {},
   "outputs": [
    {
     "data": {
      "text/plain": [
       "set()"
      ]
     },
     "execution_count": 296,
     "metadata": {},
     "output_type": "execute_result"
    }
   ],
   "source": [
    "set(ctf) & set(tccounts.index)"
   ]
  },
  {
   "cell_type": "code",
   "execution_count": 72,
   "metadata": {},
   "outputs": [],
   "source": [
    "ctfpos = [val for val in tccounts.index if val in ctf]\n",
    "notctfpos = [val for val in tccounts.index if val not in ctf]"
   ]
  },
  {
   "cell_type": "code",
   "execution_count": null,
   "metadata": {},
   "outputs": [],
   "source": [
    "ctfpos.extend(['EGR1','SERTAD1'])"
   ]
  },
  {
   "cell_type": "markdown",
   "metadata": {},
   "source": [
    "We find a CTF not in the dataset"
   ]
  },
  {
   "cell_type": "markdown",
   "metadata": {},
   "source": [
    "# Let's look at how they change accross time\n",
    "\n",
    "how core transcription factors change accross time when the cell is with JQ1 conditions\n",
    "\n",
    "we are looking at the difference between production of each CTF compared to the average RNA production with JQ1 and without JQ1"
   ]
  },
  {
   "cell_type": "markdown",
   "metadata": {},
   "source": [
    "## DESEQ ANALYSIS"
   ]
  },
  {
   "cell_type": "code",
   "execution_count": 73,
   "metadata": {},
   "outputs": [],
   "source": [
    "readcounts[\"genes\"] = readcounts.index\n",
    "readcounts = readcounts.reset_index(drop=True)\n",
    "tccounts[\"genes\"] = tccounts.index\n",
    "tccounts = tccounts.reset_index(drop=True)"
   ]
  },
  {
   "cell_type": "code",
   "execution_count": 74,
   "metadata": {},
   "outputs": [
    {
     "data": {
      "text/plain": [
       "mr74-MV411_IRF2BP2-DMSO_2h-r1         12\n",
       "mr75-MV411_IRF2BP2-DMSO_2h-r2         35\n",
       "mr76-MV411_IRF2BP2-DMSO_2h-r3          0\n",
       "mr77-MV411_IRF2BP2-DMSO_2h-r4          6\n",
       "mr78-MV411_IRF2BP2-DMSO_6h-r1         16\n",
       "mr79-MV411_IRF2BP2-DMSO_6h-r2         30\n",
       "mr80-MV411_IRF2BP2-DMSO_6h-r3         28\n",
       "mr81-MV411_IRF2BP2-DMSO_6h-r4         61\n",
       "mr82-MV411_IRF2BP2-VHL_2h-r1          37\n",
       "mr83-MV411_IRF2BP2-VHL_2h-r2          28\n",
       "mr84-MV411_IRF2BP2-VHL_2h-r3          33\n",
       "mr85-MV411_IRF2BP2-VHL_2h-r4          72\n",
       "mr86-MV411_IRF2BP2-VHL_6h-r1           5\n",
       "mr87-MV411_IRF2BP2-VHL_6h-r2          16\n",
       "mr88-MV411_IRF2BP2-VHL_6h-r3          12\n",
       "mr89-MV411_IRF2BP2-VHL_6h-r4           8\n",
       "genes                            DNAJC11\n",
       "Name: 140, dtype: object"
      ]
     },
     "execution_count": 74,
     "metadata": {},
     "output_type": "execute_result"
    }
   ],
   "source": [
    "tccounts.iloc[140]"
   ]
  },
  {
   "cell_type": "code",
   "execution_count": 147,
   "metadata": {},
   "outputs": [
    {
     "data": {
      "text/plain": [
       "Index(['mr74-MV411_IRF2BP2-DMSO_2h-r1', 'mr75-MV411_IRF2BP2-DMSO_2h-r2',\n",
       "       'mr76-MV411_IRF2BP2-DMSO_2h-r3', 'mr77-MV411_IRF2BP2-DMSO_2h-r4',\n",
       "       'mr78-MV411_IRF2BP2-DMSO_6h-r1', 'mr79-MV411_IRF2BP2-DMSO_6h-r2',\n",
       "       'mr80-MV411_IRF2BP2-DMSO_6h-r3', 'mr81-MV411_IRF2BP2-DMSO_6h-r4',\n",
       "       'mr82-MV411_IRF2BP2-VHL_2h-r1', 'mr83-MV411_IRF2BP2-VHL_2h-r2',\n",
       "       'mr84-MV411_IRF2BP2-VHL_2h-r3', 'mr85-MV411_IRF2BP2-VHL_2h-r4',\n",
       "       'mr86-MV411_IRF2BP2-VHL_6h-r1', 'mr87-MV411_IRF2BP2-VHL_6h-r2',\n",
       "       'mr88-MV411_IRF2BP2-VHL_6h-r3', 'mr89-MV411_IRF2BP2-VHL_6h-r4',\n",
       "       'genes'],\n",
       "      dtype='object')"
      ]
     },
     "execution_count": 147,
     "metadata": {},
     "output_type": "execute_result"
    }
   ],
   "source": [
    "tccounts.columns"
   ]
  },
  {
   "cell_type": "code",
   "execution_count": 258,
   "metadata": {
    "scrolled": true
   },
   "outputs": [],
   "source": [
    "design = pd.DataFrame(index=[i.replace('-','.') for i in tccounts.columns.values[:-1]], \n",
    "                      columns=['VHL','DMSO'], \n",
    "                      data=np.array([[1,0,0,0,0,0,0,0,1,1,1,0,0,0,0,0],\n",
    "                                     [0,0,0,0,1,1,1,0,0,0,0,0,0,1,0,0]],dtype=bool).T)"
   ]
  },
  {
   "cell_type": "code",
   "execution_count": 257,
   "metadata": {},
   "outputs": [],
   "source": [
    "design_reg = pd.DataFrame(index=[i.replace('-','.') for i in tccounts.columns.values[:-1]], \n",
    "                      columns=['DMSO','VHL'], \n",
    "                      data=np.array([[0,0,0,0,1,1,1,1,0,0,0,0,0,0,0,0],\n",
    "                                     [0,0,0,0,0,0,0,0,0,0,0,0,1,1,1,1]],dtype=bool).T)"
   ]
  },
  {
   "cell_type": "code",
   "execution_count": 209,
   "metadata": {},
   "outputs": [],
   "source": [
    "designoto = pd.DataFrame(index=[i.replace('-','.') for i in tccounts.columns.values[:-1]], \n",
    "                      columns=['DMSO','VHL'], \n",
    "                      data=np.array([[1,0,0,0,0,0,0,0,0,0,1,0,0,0,0,0],\n",
    "                                     [0,0,0,0,0,0,0,0,0,0,0,0,0,1,1,0]],dtype=bool).T)"
   ]
  },
  {
   "cell_type": "markdown",
   "metadata": {},
   "source": [
    "### Differential gene expression analysis, PCA and GO-term enrichment\n",
    "\n",
    "For gene-level analysis, raw reads mapped to different UTR annotations of the same gene were summed up by Entrez Gene ID. Pilot studies of K562 cells with kinase inhibitors were performed as single experiments. \n",
    "\n",
    "Analysis of differential gene expression was restricted to genes with ≥ 10 reads in at least one condition for 50bp sequencing runs (flavopiridol and DMSO) or ≥ 20 reads in at least one condition for 100bp sequencing runs (mk2206, trametinib, nilotinib, trametinib + mk2206 and DMSO). For estimating differential expression, a pseudo-count of 1 raw read was added to all genes.\n",
    "\n",
    "#### All other SLAM-seq experiments were performed in triplicates and analyzed as follows. \n",
    "Differential gene expression calling was performed on raw read counts with ≥ 2 T>C conversions using DESeq2 (version 1.14.1) with default settings, and with size factors estimated on corresponding total mRNA reads for global normalization.\n",
    "\n",
    "Downstream analysis was restricted to genes passing all internal filters for FDR estimation by DESeq2. Principal component analysis was performed after variance\n",
    "stabilizing transformation on the 500 most variable genes across all conditions of a given\n",
    "experiment. GO-term enrichment analysis was performed on genes significantly and strongly downregulated (FDR ≤ 0.1, log2FC ≤ -1) in SLAM-seq upon IAA-treatment in K562MYC-AID + Tir1 by the PANTHER Overrepresentation Test (Fisher's Exact with FDR multiple test correction, release 20171205, http://pantherdb.org) on GO Ontology database Released 2017-12-27."
   ]
  },
  {
   "cell_type": "code",
   "execution_count": 259,
   "metadata": {
    "scrolled": true
   },
   "outputs": [
    {
     "data": {
      "text/html": [
       "<div>\n",
       "<style scoped>\n",
       "    .dataframe tbody tr th:only-of-type {\n",
       "        vertical-align: middle;\n",
       "    }\n",
       "\n",
       "    .dataframe tbody tr th {\n",
       "        vertical-align: top;\n",
       "    }\n",
       "\n",
       "    .dataframe thead th {\n",
       "        text-align: right;\n",
       "    }\n",
       "</style>\n",
       "<table border=\"1\" class=\"dataframe\">\n",
       "  <thead>\n",
       "    <tr style=\"text-align: right;\">\n",
       "      <th></th>\n",
       "      <th>VHL</th>\n",
       "      <th>DMSO</th>\n",
       "    </tr>\n",
       "  </thead>\n",
       "  <tbody>\n",
       "    <tr>\n",
       "      <th>mr74.MV411_IRF2BP2.DMSO_2h.r1</th>\n",
       "      <td>True</td>\n",
       "      <td>False</td>\n",
       "    </tr>\n",
       "    <tr>\n",
       "      <th>mr75.MV411_IRF2BP2.DMSO_2h.r2</th>\n",
       "      <td>False</td>\n",
       "      <td>False</td>\n",
       "    </tr>\n",
       "    <tr>\n",
       "      <th>mr76.MV411_IRF2BP2.DMSO_2h.r3</th>\n",
       "      <td>False</td>\n",
       "      <td>False</td>\n",
       "    </tr>\n",
       "    <tr>\n",
       "      <th>mr77.MV411_IRF2BP2.DMSO_2h.r4</th>\n",
       "      <td>False</td>\n",
       "      <td>False</td>\n",
       "    </tr>\n",
       "    <tr>\n",
       "      <th>mr78.MV411_IRF2BP2.DMSO_6h.r1</th>\n",
       "      <td>False</td>\n",
       "      <td>True</td>\n",
       "    </tr>\n",
       "    <tr>\n",
       "      <th>mr79.MV411_IRF2BP2.DMSO_6h.r2</th>\n",
       "      <td>False</td>\n",
       "      <td>True</td>\n",
       "    </tr>\n",
       "    <tr>\n",
       "      <th>mr80.MV411_IRF2BP2.DMSO_6h.r3</th>\n",
       "      <td>False</td>\n",
       "      <td>True</td>\n",
       "    </tr>\n",
       "    <tr>\n",
       "      <th>mr81.MV411_IRF2BP2.DMSO_6h.r4</th>\n",
       "      <td>False</td>\n",
       "      <td>False</td>\n",
       "    </tr>\n",
       "    <tr>\n",
       "      <th>mr82.MV411_IRF2BP2.VHL_2h.r1</th>\n",
       "      <td>True</td>\n",
       "      <td>False</td>\n",
       "    </tr>\n",
       "    <tr>\n",
       "      <th>mr83.MV411_IRF2BP2.VHL_2h.r2</th>\n",
       "      <td>True</td>\n",
       "      <td>False</td>\n",
       "    </tr>\n",
       "    <tr>\n",
       "      <th>mr84.MV411_IRF2BP2.VHL_2h.r3</th>\n",
       "      <td>True</td>\n",
       "      <td>False</td>\n",
       "    </tr>\n",
       "    <tr>\n",
       "      <th>mr85.MV411_IRF2BP2.VHL_2h.r4</th>\n",
       "      <td>False</td>\n",
       "      <td>False</td>\n",
       "    </tr>\n",
       "    <tr>\n",
       "      <th>mr86.MV411_IRF2BP2.VHL_6h.r1</th>\n",
       "      <td>False</td>\n",
       "      <td>False</td>\n",
       "    </tr>\n",
       "    <tr>\n",
       "      <th>mr87.MV411_IRF2BP2.VHL_6h.r2</th>\n",
       "      <td>False</td>\n",
       "      <td>True</td>\n",
       "    </tr>\n",
       "    <tr>\n",
       "      <th>mr88.MV411_IRF2BP2.VHL_6h.r3</th>\n",
       "      <td>False</td>\n",
       "      <td>False</td>\n",
       "    </tr>\n",
       "    <tr>\n",
       "      <th>mr89.MV411_IRF2BP2.VHL_6h.r4</th>\n",
       "      <td>False</td>\n",
       "      <td>False</td>\n",
       "    </tr>\n",
       "  </tbody>\n",
       "</table>\n",
       "</div>"
      ],
      "text/plain": [
       "                                 VHL   DMSO\n",
       "mr74.MV411_IRF2BP2.DMSO_2h.r1   True  False\n",
       "mr75.MV411_IRF2BP2.DMSO_2h.r2  False  False\n",
       "mr76.MV411_IRF2BP2.DMSO_2h.r3  False  False\n",
       "mr77.MV411_IRF2BP2.DMSO_2h.r4  False  False\n",
       "mr78.MV411_IRF2BP2.DMSO_6h.r1  False   True\n",
       "mr79.MV411_IRF2BP2.DMSO_6h.r2  False   True\n",
       "mr80.MV411_IRF2BP2.DMSO_6h.r3  False   True\n",
       "mr81.MV411_IRF2BP2.DMSO_6h.r4  False  False\n",
       "mr82.MV411_IRF2BP2.VHL_2h.r1    True  False\n",
       "mr83.MV411_IRF2BP2.VHL_2h.r2    True  False\n",
       "mr84.MV411_IRF2BP2.VHL_2h.r3    True  False\n",
       "mr85.MV411_IRF2BP2.VHL_2h.r4   False  False\n",
       "mr86.MV411_IRF2BP2.VHL_6h.r1   False  False\n",
       "mr87.MV411_IRF2BP2.VHL_6h.r2   False   True\n",
       "mr88.MV411_IRF2BP2.VHL_6h.r3   False  False\n",
       "mr89.MV411_IRF2BP2.VHL_6h.r4   False  False"
      ]
     },
     "execution_count": 259,
     "metadata": {},
     "output_type": "execute_result"
    }
   ],
   "source": [
    "design"
   ]
  },
  {
   "cell_type": "code",
   "execution_count": 260,
   "metadata": {},
   "outputs": [],
   "source": [
    "tccounts.columns = [i.replace('-','.') for i in tccounts.columns]"
   ]
  },
  {
   "cell_type": "code",
   "execution_count": 261,
   "metadata": {},
   "outputs": [
    {
     "data": {
      "text/html": [
       "<div>\n",
       "<style scoped>\n",
       "    .dataframe tbody tr th:only-of-type {\n",
       "        vertical-align: middle;\n",
       "    }\n",
       "\n",
       "    .dataframe tbody tr th {\n",
       "        vertical-align: top;\n",
       "    }\n",
       "\n",
       "    .dataframe thead th {\n",
       "        text-align: right;\n",
       "    }\n",
       "</style>\n",
       "<table border=\"1\" class=\"dataframe\">\n",
       "  <thead>\n",
       "    <tr style=\"text-align: right;\">\n",
       "      <th></th>\n",
       "      <th>mr74.MV411_IRF2BP2.DMSO_2h.r1</th>\n",
       "      <th>mr75.MV411_IRF2BP2.DMSO_2h.r2</th>\n",
       "      <th>mr76.MV411_IRF2BP2.DMSO_2h.r3</th>\n",
       "      <th>mr77.MV411_IRF2BP2.DMSO_2h.r4</th>\n",
       "      <th>mr78.MV411_IRF2BP2.DMSO_6h.r1</th>\n",
       "      <th>mr79.MV411_IRF2BP2.DMSO_6h.r2</th>\n",
       "      <th>mr80.MV411_IRF2BP2.DMSO_6h.r3</th>\n",
       "      <th>mr81.MV411_IRF2BP2.DMSO_6h.r4</th>\n",
       "      <th>mr82.MV411_IRF2BP2.VHL_2h.r1</th>\n",
       "      <th>mr83.MV411_IRF2BP2.VHL_2h.r2</th>\n",
       "      <th>mr84.MV411_IRF2BP2.VHL_2h.r3</th>\n",
       "      <th>mr85.MV411_IRF2BP2.VHL_2h.r4</th>\n",
       "      <th>mr86.MV411_IRF2BP2.VHL_6h.r1</th>\n",
       "      <th>mr87.MV411_IRF2BP2.VHL_6h.r2</th>\n",
       "      <th>mr88.MV411_IRF2BP2.VHL_6h.r3</th>\n",
       "      <th>mr89.MV411_IRF2BP2.VHL_6h.r4</th>\n",
       "      <th>genes</th>\n",
       "    </tr>\n",
       "  </thead>\n",
       "  <tbody>\n",
       "    <tr>\n",
       "      <th>5388</th>\n",
       "      <td>1303</td>\n",
       "      <td>908</td>\n",
       "      <td>148</td>\n",
       "      <td>1349</td>\n",
       "      <td>839</td>\n",
       "      <td>1444</td>\n",
       "      <td>1489</td>\n",
       "      <td>1709</td>\n",
       "      <td>2186</td>\n",
       "      <td>2270</td>\n",
       "      <td>1654</td>\n",
       "      <td>2438</td>\n",
       "      <td>1137</td>\n",
       "      <td>752</td>\n",
       "      <td>970</td>\n",
       "      <td>784</td>\n",
       "      <td>MYC</td>\n",
       "    </tr>\n",
       "  </tbody>\n",
       "</table>\n",
       "</div>"
      ],
      "text/plain": [
       "      mr74.MV411_IRF2BP2.DMSO_2h.r1  mr75.MV411_IRF2BP2.DMSO_2h.r2  \\\n",
       "5388                           1303                            908   \n",
       "\n",
       "      mr76.MV411_IRF2BP2.DMSO_2h.r3  mr77.MV411_IRF2BP2.DMSO_2h.r4  \\\n",
       "5388                            148                           1349   \n",
       "\n",
       "      mr78.MV411_IRF2BP2.DMSO_6h.r1  mr79.MV411_IRF2BP2.DMSO_6h.r2  \\\n",
       "5388                            839                           1444   \n",
       "\n",
       "      mr80.MV411_IRF2BP2.DMSO_6h.r3  mr81.MV411_IRF2BP2.DMSO_6h.r4  \\\n",
       "5388                           1489                           1709   \n",
       "\n",
       "      mr82.MV411_IRF2BP2.VHL_2h.r1  mr83.MV411_IRF2BP2.VHL_2h.r2  \\\n",
       "5388                          2186                          2270   \n",
       "\n",
       "      mr84.MV411_IRF2BP2.VHL_2h.r3  mr85.MV411_IRF2BP2.VHL_2h.r4  \\\n",
       "5388                          1654                          2438   \n",
       "\n",
       "      mr86.MV411_IRF2BP2.VHL_6h.r1  mr87.MV411_IRF2BP2.VHL_6h.r2  \\\n",
       "5388                          1137                           752   \n",
       "\n",
       "      mr88.MV411_IRF2BP2.VHL_6h.r3  mr89.MV411_IRF2BP2.VHL_6h.r4 genes  \n",
       "5388                           970                           784   MYC  "
      ]
     },
     "execution_count": 261,
     "metadata": {},
     "output_type": "execute_result"
    }
   ],
   "source": [
    "tccounts[tccounts.genes=='MYC']"
   ]
  },
  {
   "cell_type": "code",
   "execution_count": 262,
   "metadata": {},
   "outputs": [
    {
     "name": "stdout",
     "output_type": "stream",
     "text": [
      "3.2.6\n"
     ]
    }
   ],
   "source": [
    "deseq = pyDESeq2.pyDESeq2(count_matrix=tccounts[tccounts.columns[np.array([1,0,0,0,1,1,1,0,1,1,1,0,0,1,0,0,1],np.bool)]],\n",
    "                         design_matrix=design[np.array([1,0,0,0,1,1,1,0,1,1,1,0,0,1,0,0],np.bool)],\n",
    "                         design_formula=\"~DMSO - VHL\",\n",
    "                         gene_column=\"genes\")"
   ]
  },
  {
   "cell_type": "code",
   "execution_count": 222,
   "metadata": {},
   "outputs": [
    {
     "name": "stdout",
     "output_type": "stream",
     "text": [
      "3.2.6\n"
     ]
    }
   ],
   "source": [
    "deseq = pyDESeq2.pyDESeq2(count_matrix=tccounts[tccounts.columns[np.array([0,0,0,0,1,1,1,1,0,0,0,0,1,1,1,1,1],np.bool)]],\n",
    "                         design_matrix=design_reg[np.array([0,0,0,0,1,1,1,1,0,0,0,0,1,1,1,1],np.bool)],\n",
    "                         design_formula=\"~DMSO - VHL\",\n",
    "                         gene_column=\"genes\")"
   ]
  },
  {
   "cell_type": "code",
   "execution_count": 210,
   "metadata": {},
   "outputs": [
    {
     "name": "stdout",
     "output_type": "stream",
     "text": [
      "3.2.6\n"
     ]
    }
   ],
   "source": [
    "deseq = pyDESeq2.pyDESeq2(count_matrix=tccounts[tccounts.columns[np.array([1,0,0,0,0,0,0,0,0,0,1,0,0,1,1,0,1],np.bool)]],\n",
    "                         design_matrix=designoto[np.array([1,0,0,0,0,0,0,0,0,0,1,0,0,1,1,0],np.bool)],\n",
    "                         design_formula=\"~DMSO - VHL\",\n",
    "                         gene_column=\"genes\")"
   ]
  },
  {
   "cell_type": "code",
   "execution_count": 200,
   "metadata": {
    "scrolled": true
   },
   "outputs": [
    {
     "data": {
      "text/plain": [
       "array([ 149.31510305,  269.33250825,  690.84296334, ..., 2190.49994294,\n",
       "          4.89897949,  235.8262072 ])"
      ]
     },
     "execution_count": 200,
     "metadata": {},
     "output_type": "execute_result"
    }
   ],
   "source": [
    "np.exp(np.mean(np.log(readcounts[readcounts.columns[np.array(\n",
    "    [1,0,0,0,0,0,0,0,0,0,0,0,0,1,0,0,0],np.bool)]].values+1), 1))"
   ]
  },
  {
   "cell_type": "code",
   "execution_count": 263,
   "metadata": {},
   "outputs": [],
   "source": [
    "deseq.run_estimate_size_factors(geoMeans = np.exp(np.mean(np.log(\n",
    "    readcounts[readcounts.columns[\n",
    "        np.array([1,0,0,0,1,1,1,0,1,1,1,0,0,1,0,0,0],np.bool)]].values+1), 1)))"
   ]
  },
  {
   "cell_type": "code",
   "execution_count": 223,
   "metadata": {},
   "outputs": [],
   "source": [
    "deseq.run_estimate_size_factors(geoMeans = np.exp(np.mean(np.log(\n",
    "    readcounts[readcounts.columns[\n",
    "        np.array([0,0,0,0,1,1,1,1,0,0,0,0,1,1,1,1,0],np.bool)]].values+1), 1)))"
   ]
  },
  {
   "cell_type": "code",
   "execution_count": 211,
   "metadata": {},
   "outputs": [],
   "source": [
    "deseq.run_estimate_size_factors(geoMeans = np.exp(np.mean(np.log(\n",
    "    readcounts[readcounts.columns[\n",
    "        np.array([1,0,0,0,0,0,0,0,0,0,1,0,0,1,1,0,0],np.bool)]].values+1), 1)))"
   ]
  },
  {
   "cell_type": "code",
   "execution_count": 264,
   "metadata": {
    "scrolled": true
   },
   "outputs": [
    {
     "name": "stderr",
     "output_type": "stream",
     "text": [
      "R[write to console]: using pre-existing size factors\n",
      "\n",
      "R[write to console]: estimating dispersions\n",
      "\n",
      "R[write to console]: gene-wise dispersion estimates\n",
      "\n",
      "R[write to console]: mean-dispersion relationship\n",
      "\n",
      "R[write to console]: final dispersion estimates\n",
      "\n",
      "R[write to console]: fitting model and testing\n",
      "\n"
     ]
    }
   ],
   "source": [
    "deseq.run_deseq()"
   ]
  },
  {
   "cell_type": "code",
   "execution_count": 265,
   "metadata": {},
   "outputs": [],
   "source": [
    "deseq.get_deseq_result()"
   ]
  },
  {
   "cell_type": "code",
   "execution_count": 266,
   "metadata": {},
   "outputs": [],
   "source": [
    "JQ1res = deseq.deseq_result"
   ]
  },
  {
   "cell_type": "code",
   "execution_count": 267,
   "metadata": {},
   "outputs": [],
   "source": [
    "JQ1res.pvalue = np.nan_to_num(np.array(JQ1res.pvalue), 1)\n",
    "JQ1res.log2FoldChange = np.nan_to_num(np.array(JQ1res.log2FoldChange), 0)"
   ]
  },
  {
   "cell_type": "code",
   "execution_count": 268,
   "metadata": {},
   "outputs": [
    {
     "data": {
      "text/html": [
       "<div>\n",
       "<style scoped>\n",
       "    .dataframe tbody tr th:only-of-type {\n",
       "        vertical-align: middle;\n",
       "    }\n",
       "\n",
       "    .dataframe tbody tr th {\n",
       "        vertical-align: top;\n",
       "    }\n",
       "\n",
       "    .dataframe thead th {\n",
       "        text-align: right;\n",
       "    }\n",
       "</style>\n",
       "<table border=\"1\" class=\"dataframe\">\n",
       "  <thead>\n",
       "    <tr style=\"text-align: right;\">\n",
       "      <th></th>\n",
       "      <th>baseMean</th>\n",
       "      <th>log2FoldChange</th>\n",
       "      <th>lfcSE</th>\n",
       "      <th>stat</th>\n",
       "      <th>pvalue</th>\n",
       "      <th>padj</th>\n",
       "      <th>genes</th>\n",
       "    </tr>\n",
       "  </thead>\n",
       "  <tbody>\n",
       "    <tr>\n",
       "      <th>5388</th>\n",
       "      <td>1407.651552</td>\n",
       "      <td>-0.115961</td>\n",
       "      <td>0.182388</td>\n",
       "      <td>-0.635793</td>\n",
       "      <td>0.524912</td>\n",
       "      <td>0.852845</td>\n",
       "      <td>MYC</td>\n",
       "    </tr>\n",
       "  </tbody>\n",
       "</table>\n",
       "</div>"
      ],
      "text/plain": [
       "         baseMean  log2FoldChange     lfcSE      stat    pvalue      padj  \\\n",
       "5388  1407.651552       -0.115961  0.182388 -0.635793  0.524912  0.852845   \n",
       "\n",
       "     genes  \n",
       "5388   MYC  "
      ]
     },
     "execution_count": 268,
     "metadata": {},
     "output_type": "execute_result"
    }
   ],
   "source": [
    "JQ1res[JQ1res.genes=='MYC']"
   ]
  },
  {
   "cell_type": "code",
   "execution_count": null,
   "metadata": {},
   "outputs": [],
   "source": [
    "JQ1res.to_csv(\"data/jq1.mv411.csv\")"
   ]
  },
  {
   "cell_type": "code",
   "execution_count": 269,
   "metadata": {},
   "outputs": [],
   "source": [
    "JQ1res.log2FoldChange = -JQ1res.log2FoldChange"
   ]
  },
  {
   "cell_type": "code",
   "execution_count": 270,
   "metadata": {},
   "outputs": [],
   "source": [
    "JQ1res[\"gene_id\"] = JQ1res.genes"
   ]
  },
  {
   "cell_type": "code",
   "execution_count": 244,
   "metadata": {},
   "outputs": [
    {
     "data": {
      "text/html": [
       "<div>\n",
       "<style scoped>\n",
       "    .dataframe tbody tr th:only-of-type {\n",
       "        vertical-align: middle;\n",
       "    }\n",
       "\n",
       "    .dataframe tbody tr th {\n",
       "        vertical-align: top;\n",
       "    }\n",
       "\n",
       "    .dataframe thead th {\n",
       "        text-align: right;\n",
       "    }\n",
       "</style>\n",
       "<table border=\"1\" class=\"dataframe\">\n",
       "  <thead>\n",
       "    <tr style=\"text-align: right;\">\n",
       "      <th></th>\n",
       "      <th>baseMean</th>\n",
       "      <th>log2FoldChange</th>\n",
       "      <th>lfcSE</th>\n",
       "      <th>stat</th>\n",
       "      <th>pvalue</th>\n",
       "      <th>padj</th>\n",
       "      <th>genes</th>\n",
       "      <th>gene_id</th>\n",
       "    </tr>\n",
       "  </thead>\n",
       "  <tbody>\n",
       "    <tr>\n",
       "      <th>5170</th>\n",
       "      <td>395.420935</td>\n",
       "      <td>-0.299414</td>\n",
       "      <td>0.166121</td>\n",
       "      <td>1.802386</td>\n",
       "      <td>0.071485</td>\n",
       "      <td>0.449651</td>\n",
       "      <td>HNRNPA1</td>\n",
       "      <td>HNRNPA1</td>\n",
       "    </tr>\n",
       "  </tbody>\n",
       "</table>\n",
       "</div>"
      ],
      "text/plain": [
       "        baseMean  log2FoldChange     lfcSE      stat    pvalue      padj  \\\n",
       "5170  395.420935       -0.299414  0.166121  1.802386  0.071485  0.449651   \n",
       "\n",
       "        genes  gene_id  \n",
       "5170  HNRNPA1  HNRNPA1  "
      ]
     },
     "execution_count": 244,
     "metadata": {},
     "output_type": "execute_result"
    }
   ],
   "source": [
    "JQ1res[JQ1res.gene_id=='HNRNPA1']"
   ]
  },
  {
   "cell_type": "code",
   "execution_count": 271,
   "metadata": {},
   "outputs": [
    {
     "data": {
      "text/html": [
       "\n",
       "\n",
       "\n",
       "\n",
       "\n",
       "\n",
       "  <div class=\"bk-root\" id=\"4bffd8bd-e239-4b25-a8d4-5720e30c6d43\" data-root-id=\"1891\"></div>\n"
      ]
     },
     "metadata": {},
     "output_type": "display_data"
    },
    {
     "data": {
      "application/javascript": [
       "(function(root) {\n",
       "  function embed_document(root) {\n",
       "    \n",
       "  var docs_json = {\"b25313cd-a832-4578-ae77-80349d2dc482\":{\"roots\":{\"references\":[{\"attributes\":{\"children\":[{\"id\":\"1889\",\"type\":\"TextInput\"},{\"id\":\"1835\",\"subtype\":\"Figure\",\"type\":\"Plot\"}]},\"id\":\"1891\",\"type\":\"Column\"},{\"attributes\":{\"callback\":null,\"js_property_callbacks\":{\"change:value\":[{\"id\":\"1890\",\"type\":\"CustomJS\"}]},\"title\":\"text\",\"value\":\"gene\"},\"id\":\"1889\",\"type\":\"TextInput\"},{\"attributes\":{\"fill_alpha\":{\"value\":0.1},\"fill_color\":{\"value\":\"#1f77b4\"},\"line_alpha\":{\"value\":0.1},\"line_color\":{\"value\":\"#1f77b4\"},\"size\":{\"field\":\"size\",\"units\":\"screen\"},\"x\":{\"field\":\"log2FoldChange\"},\"y\":{\"field\":\"transformed_q\"}},\"id\":\"1881\",\"type\":\"Circle\"},{\"attributes\":{\"fill_alpha\":{\"field\":\"alpha\"},\"fill_color\":{\"field\":\"color\"},\"line_alpha\":{\"field\":\"alpha\"},\"line_color\":{\"field\":\"color\"},\"size\":{\"field\":\"size\",\"units\":\"screen\"},\"x\":{\"field\":\"log2FoldChange\"},\"y\":{\"field\":\"transformed_q\"}},\"id\":\"1880\",\"type\":\"Circle\"},{\"attributes\":{\"data_source\":{\"id\":\"1877\",\"type\":\"ColumnDataSource\"},\"glyph\":{\"id\":\"1880\",\"type\":\"Circle\"},\"hover_glyph\":null,\"muted_glyph\":null,\"name\":\"circles\",\"nonselection_glyph\":{\"id\":\"1881\",\"type\":\"Circle\"},\"selection_glyph\":null,\"view\":{\"id\":\"1883\",\"type\":\"CDSView\"}},\"id\":\"1882\",\"type\":\"GlyphRenderer\"},{\"attributes\":{},\"id\":\"1852\",\"type\":\"BasicTicker\"},{\"attributes\":{\"callback\":null,\"data\":{\"alpha\":{\"__ndarray__\":\"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\",\"dtype\":\"float64\",\"shape\":[1655]},\"baseMean\":{\"__ndarray__\":\"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\",\"dtype\":\"float64\",\"shape\":[1655]},\"color\":[\"#1a9641\",\"#1a9641\",\"#1a9641\",\"#1a9641\",\"#1a9641\",\"#1a9641\",\"#1a9641\",\"#1a9641\",\"#1a9641\",\"#1a9641\",\"#1a9641\",\"#1a9641\",\"#1a9641\",\"#1a9641\",\"#1a9641\",\"#1a9641\",\"#1a9641\",\"#1a9641\",\"#1a9641\",\"#1a9641\",\"#1a9641\",\"#1a9641\",\"#1a9641\",\"#1a9641\",\"#1a9641\",\"#1a9641\",\"#1a9641\",\"#1a9641\",\"#1a9641\",\"#1a9641\",\"#1a9641\",\"#1a9641\",\"#1a9641\",\"#1a9641\",\"#1a9641\",\"#1a9641\",\"#1a9641\",\"#1a9641\",\"#1a9641\",\"#1a9641\",\"#1a9641\",\"#1a9641\",\"#1a9641\",\"#1a9641\",\"#1a9641\",\"#1a9641\",\"#1a9641\",\"#1a9641\",\"#1a9641\",\"#1a9641\",\"#1a9641\",\"#1a9641\",\"#1a9641\",\"#1a9641\",\"#1a9641\",\"#1a9641\",\"#1a9641\",\"#1a9641\",\"#1a9641\",\"#1a9641\",\"#1a9641\",\"#1a9641\",\"#1a9641\",\"#1a9641\",\"#1a9641\",\"#1a9641\",\"#1a9641\",\"#1a9641\",\"#1a9641\",\"#1a9641\",\"#1a9641\",\"#1a9641\",\"#1a9641\",\"#1a9641\",\"#1a9641\",\"#1a9641\",\"#1a9641\",\"#1a9641\",\"#1a9641\",\"#1a9641\",\"#1a9641\",\"#1a9641\",\"#1a9641\",\"#1a9641\",\"#1a9641\",\"#1a9641\",\"#1a9641\",\"#1a9641\",\"#1a9641\",\"#1a9641\",\"#1a9641\",\"#1a9641\",\"#1a9641\",\"#1a9641\",\"#1a9641\",\"#1a9641\",\"#1a9641\",\"#1a9641\",\"#1a9641\",\"#1a9641\",\"#1a9641\",\"#1a9641\",\"#1a9641\",\"#1a9641\",\"#1a9641\",\"#1a9641\",\"#1a9641\",\"#1a9641\",\"#1a9641\",\"#1a9641\",\"#1a9641\",\"#1a9641\",\"#1a9641\",\"#1a9641\",\"#1a9641\",\"#1a9641\",\"#1a9641\",\"#1a9641\",\"#1a9641\",\"#1a9641\",\"#1a9641\",\"#1a9641\",\"#1a9641\",\"#1a9641\",\"#1a9641\",\"#1a9641\",\"#1a9641\",\"#1a9641\",\"#1a9641\",\"#1a9641\",\"#1a9641\",\"#1a9641\",\"#1a9641\",\"#1a9641\",\"#1a9641\",\"#1a9641\",\"#1a9641\",\"#1a9641\",\"#1a9641\",\"#1a9641\",\"#1a9641\",\"#1a9641\",\"#1a9641\",\"#1a9641\",\"#1a9641\",\"#1a9641\",\"#1a9641\",\"#1a9641\",\"#1a9641\",\"#1a9641\",\"#1a9641\",\"#1a9641\",\"#1a9641\",\"#1a9641\",\"#1a9641\",\"#1a9641\",\"#1a9641\",\"#1a9641\",\"#1a9641\",\"#1a9641\",\"#1a9641\",\"#1a9641\",\"#1a9641\",\"#1a9641\",\"#1a9641\",\"#1a9641\",\"#1a9641\",\"#1a9641\",\"#1a9641\",\"#1a9641\",\"#1a9641\",\"#1a9641\",\"#1a9641\",\"#1a9641\",\"#1a9641\",\"#1a9641\",\"#1a9641\",\"#1a9641\",\"#1a9641\",\"#1a9641\",\"#1a9641\",\"#1a9641\",\"#1a9641\",\"#1a9641\",\"#1a9641\",\"#1a9641\",\"#1a9641\",\"#1a9641\",\"#1a9641\",\"#1a9641\",\"#1a9641\",\"#1a9641\",\"#1a9641\",\"#1a9641\",\"#1a9641\",\"#1a9641\",\"#1a9641\",\"#1a9641\",\"#1a9641\",\"#1a9641\",\"#1a9641\",\"#1a9641\",\"#1a9641\",\"#1a9641\",\"#1a9641\",\"#1a9641\",\"#1a9641\",\"#1a9641\",\"#1a9641\",\"#1a9641\",\"#1a9641\",\"#1a9641\",\"#1a9641\",\"#1a9641\",\"#1a9641\",\"#1a9641\",\"#1a9641\",\"#1a9641\",\"#1a9641\",\"#1a9641\",\"#1a9641\",\"#1a9641\",\"#1a9641\",\"#1a9641\",\"#1a9641\",\"#1a9641\",\"#1a9641\",\"#1a9641\",\"#1a9641\",\"#1a9641\",\"#1a9641\",\"#1a9641\",\"#1a9641\",\"#1a9641\",\"#1a9641\",\"#1a9641\",\"#1a9641\",\"#1a9641\",\"#1a9641\",\"#1a9641\",\"#1a9641\",\"#1a9641\",\"#1a9641\",\"#1a9641\",\"#1a9641\",\"#1a9641\",\"#1a9641\",\"#1a9641\",\"#1a9641\",\"#1a9641\",\"#1a9641\",\"#1a9641\",\"#1a9641\",\"#1a9641\",\"#1a9641\",\"#1a9641\",\"#1a9641\",\"#1a9641\",\"#1a9641\",\"#1a9641\",\"#1a9641\",\"#1a9641\",\"#1a9641\",\"#1a9641\",\"#1a9641\",\"#1a9641\",\"#1a9641\",\"#1a9641\",\"#1a9641\",\"#1a9641\",\"#1a9641\",\"#1a9641\",\"#1a9641\",\"#1a9641\",\"#1a9641\",\"#1a9641\",\"#1a9641\",\"#1a9641\",\"#1a9641\",\"#1a9641\",\"#1a9641\",\"#1a9641\",\"#1a9641\",\"#1a9641\",\"#1a9641\",\"#1a9641\",\"#1a9641\",\"#1a9641\",\"#1a9641\",\"#1a9641\",\"#1a9641\",\"#1a9641\",\"#1a9641\",\"#1a9641\",\"#1a9641\",\"#1a9641\",\"#1a9641\",\"#1a9641\",\"#1a9641\",\"#1a9641\",\"#1a9641\",\"#1a9641\",\"#1a9641\",\"#1a9641\",\"#1a9641\",\"#1a9641\",\"#1a9641\",\"#1a9641\",\"#1a9641\",\"#1a9641\",\"#1a9641\",\"#1a9641\",\"#1a9641\",\"#1a9641\",\"#1a9641\",\"#1a9641\",\"#1a9641\",\"#1a9641\",\"#1a9641\",\"#1a9641\",\"#1a9641\",\"#1a9641\",\"#1a9641\",\"#1a9641\",\"#1a9641\",\"#1a9641\",\"#1a9641\",\"#1a9641\",\"#1a9641\",\"#1a9641\",\"#1a9641\",\"#1a9641\",\"#1a9641\",\"#1a9641\",\"#1a9641\",\"#1a9641\",\"#1a9641\",\"#1a9641\",\"#1a9641\",\"#1a9641\",\"#1a9641\",\"#1a9641\",\"#1a9641\",\"#1a9641\",\"#1a9641\",\"#1a9641\",\"#1a9641\",\"#1a9641\",\"#1a9641\",\"#1a9641\",\"#1a9641\",\"#1a9641\",\"#1a9641\",\"#1a9641\",\"#1a9641\",\"#1a9641\",\"#1a9641\",\"#1a9641\",\"#1a9641\",\"#1a9641\",\"#1a9641\",\"#1a9641\",\"#1a9641\",\"#1a9641\",\"#1a9641\",\"#1a9641\",\"#1a9641\",\"#1a9641\",\"#1a9641\",\"#1a9641\",\"#1a9641\",\"#1a9641\",\"#1a9641\",\"#1a9641\",\"#1a9641\",\"#1a9641\",\"#1a9641\",\"#1a9641\",\"#1a9641\",\"#1a9641\",\"#1a9641\",\"#1a9641\",\"#1a9641\",\"#1a9641\",\"#1a9641\",\"#1a9641\",\"#1a9641\",\"#1a9641\",\"#1a9641\",\"#1a9641\",\"#1a9641\",\"#1a9641\",\"#1a9641\",\"#1a9641\",\"#1a9641\",\"#1a9641\",\"#1a9641\",\"#1a9641\",\"#1a9641\",\"#1a9641\",\"#1a9641\",\"#1a9641\",\"#1a9641\",\"#1a9641\",\"#1a9641\",\"#1a9641\",\"#1a9641\",\"#1a9641\",\"#1a9641\",\"#1a9641\",\"#1a9641\",\"#1a9641\",\"#1a9641\",\"#1a9641\",\"#1a9641\",\"#1a9641\",\"#1a9641\",\"#1a9641\",\"#1a9641\",\"#1a9641\",\"#1a9641\",\"#1a9641\",\"#1a9641\",\"#1a9641\",\"#1a9641\",\"#1a9641\",\"#1a9641\",\"#1a9641\",\"#1a9641\",\"#1a9641\",\"#1a9641\",\"#1a9641\",\"#1a9641\",\"#1a9641\",\"#1a9641\",\"#1a9641\",\"#1a9641\",\"#1a9641\",\"#1a9641\",\"#1a9641\",\"#1a9641\",\"#1a9641\",\"#1a9641\",\"#1a9641\",\"#1a9641\",\"#1a9641\",\"#1a9641\",\"#1a9641\",\"#1a9641\",\"#1a9641\",\"#1a9641\",\"#1a9641\",\"#1a9641\",\"#1a9641\",\"#1a9641\",\"#1a9641\",\"#1a9641\",\"#1a9641\",\"#1a9641\",\"#1a9641\",\"#1a9641\",\"#1a9641\",\"#1a9641\",\"#1a9641\",\"#1a9641\",\"#1a9641\",\"#1a9641\",\"#1a9641\",\"#1a9641\",\"#1a9641\",\"#1a9641\",\"#1a9641\",\"#1a9641\",\"#1a9641\",\"#1a9641\",\"#1a9641\",\"#1a9641\",\"#1a9641\",\"#1a9641\",\"#1a9641\",\"#1a9641\",\"#1a9641\",\"#1a9641\",\"#1a9641\",\"#1a9641\",\"#1a9641\",\"#1a9641\",\"#1a9641\",\"#1a9641\",\"#1a9641\",\"#1a9641\",\"#1a9641\",\"#1a9641\",\"#1a9641\",\"#1a9641\",\"#1a9641\",\"#1a9641\",\"#1a9641\",\"#1a9641\",\"#1a9641\",\"#1a9641\",\"#1a9641\",\"#1a9641\",\"#1a9641\",\"#1a9641\",\"#1a9641\",\"#1a9641\",\"#1a9641\",\"#1a9641\",\"#1a9641\",\"#1a9641\",\"#1a9641\",\"#1a9641\",\"#1a9641\",\"#1a9641\",\"#1a9641\",\"#1a9641\",\"#1a9641\",\"#1a9641\",\"#1a9641\",\"#1a9641\",\"#1a9641\",\"#1a9641\",\"#1a9641\",\"#1a9641\",\"#1a9641\",\"#1a9641\",\"#1a9641\",\"#1a9641\",\"#1a9641\",\"#1a9641\",\"#1a9641\",\"#1a9641\",\"#1a9641\",\"#1a9641\",\"#1a9641\",\"#1a9641\",\"#1a9641\",\"#1a9641\",\"#1a9641\",\"#1a9641\",\"#1a9641\",\"#1a9641\",\"#1a9641\",\"#1a9641\",\"#1a9641\",\"#1a9641\",\"#1a9641\",\"#1a9641\",\"#1a9641\",\"#1a9641\",\"#1a9641\",\"#1a9641\",\"#1a9641\",\"#1a9641\",\"#1a9641\",\"#1a9641\",\"#1a9641\",\"#1a9641\",\"#1a9641\",\"#1a9641\",\"#1a9641\",\"#1a9641\",\"#1a9641\",\"#1a9641\",\"#1a9641\",\"#1a9641\",\"#1a9641\",\"#1a9641\",\"#1a9641\",\"#1a9641\",\"#1a9641\",\"#1a9641\",\"#1a9641\",\"#1a9641\",\"#1a9641\",\"#1a9641\",\"#1a9641\",\"#1a9641\",\"#1a9641\",\"#1a9641\",\"#1a9641\",\"#1a9641\",\"#1a9641\",\"#1a9641\",\"#1a9641\",\"#1a9641\",\"#1a9641\",\"#1a9641\",\"#1a9641\",\"#1a9641\",\"#1a9641\",\"#1a9641\",\"#1a9641\",\"#1a9641\",\"#1a9641\",\"#1a9641\",\"#1a9641\",\"#1a9641\",\"#1a9641\",\"#1a9641\",\"#1a9641\",\"#1a9641\",\"#1a9641\",\"#1a9641\",\"#1a9641\",\"#1a9641\",\"#1a9641\",\"#1a9641\",\"#1a9641\",\"#1a9641\",\"#1a9641\",\"#1a9641\",\"#1a9641\",\"#1a9641\",\"#1a9641\",\"#1a9641\",\"#1a9641\",\"#1a9641\",\"#1a9641\",\"#1a9641\",\"#1a9641\",\"#1a9641\",\"#1a9641\",\"#1a9641\",\"#1a9641\",\"#1a9641\",\"#1a9641\",\"#1a9641\",\"#1a9641\",\"#1a9641\",\"#1a9641\",\"#1a9641\",\"#1a9641\",\"#1a9641\",\"#1a9641\",\"#1a9641\",\"#1a9641\",\"#1a9641\",\"#1a9641\",\"#1a9641\",\"#1a9641\",\"#1a9641\",\"#1a9641\",\"#1a9641\",\"#1a9641\",\"#1a9641\",\"#1a9641\",\"#1a9641\",\"#1a9641\",\"#1a9641\",\"#1a9641\",\"#1a9641\",\"#1a9641\",\"#1a9641\",\"#1a9641\",\"#1a9641\",\"#1a9641\",\"#1a9641\",\"#1a9641\",\"#1a9641\",\"#1a9641\",\"#1a9641\",\"#1a9641\",\"#1a9641\",\"#1a9641\",\"#1a9641\",\"#1a9641\",\"#1a9641\",\"#1a9641\",\"#1a9641\",\"#1a9641\",\"#1a9641\",\"#1a9641\",\"#1a9641\",\"#1a9641\",\"#1a9641\",\"#1a9641\",\"#1a9641\",\"#1a9641\",\"#1a9641\",\"#1a9641\",\"#1a9641\",\"#1a9641\",\"#1a9641\",\"#1a9641\",\"#1a9641\",\"#1a9641\",\"#1a9641\",\"#1a9641\",\"#1a9641\",\"#1a9641\",\"#1a9641\",\"#1a9641\",\"#1a9641\",\"#1a9641\",\"#1a9641\",\"#1a9641\",\"#1a9641\",\"#1a9641\",\"#1a9641\",\"#1a9641\",\"#1a9641\",\"#1a9641\",\"#1a9641\",\"#1a9641\",\"#1a9641\",\"#1a9641\",\"#1a9641\",\"#1a9641\",\"#1a9641\",\"#1a9641\",\"#1a9641\",\"#1a9641\",\"#1a9641\",\"#1a9641\",\"#1a9641\",\"#1a9641\",\"#1a9641\",\"#1a9641\",\"#1a9641\",\"#1a9641\",\"#1a9641\",\"#1a9641\",\"#1a9641\",\"#1a9641\",\"#1a9641\",\"#1a9641\",\"#1a9641\",\"#1a9641\",\"#1a9641\",\"#1a9641\",\"#1a9641\",\"#1a9641\",\"#1a9641\",\"#1a9641\",\"#1a9641\",\"#1a9641\",\"#1a9641\",\"#1a9641\",\"#1a9641\",\"#1a9641\",\"#1a9641\",\"#1a9641\",\"#1a9641\",\"#1a9641\",\"#1a9641\",\"#1a9641\",\"#1a9641\",\"#1a9641\",\"#1a9641\",\"#1a9641\",\"#1a9641\",\"#1a9641\",\"#1a9641\",\"#1a9641\",\"#1a9641\",\"#1a9641\",\"#1a9641\",\"#1a9641\",\"#1a9641\",\"#1a9641\",\"#1a9641\",\"#1a9641\",\"#1a9641\",\"#1a9641\",\"#1a9641\",\"#1a9641\",\"#1a9641\",\"#1a9641\",\"#1a9641\",\"#1a9641\",\"#1a9641\",\"#1a9641\",\"#1a9641\",\"#1a9641\",\"#1a9641\",\"#1a9641\",\"#1a9641\",\"#1a9641\",\"#1a9641\",\"#1a9641\",\"#1a9641\",\"#1a9641\",\"#1a9641\",\"#1a9641\",\"#1a9641\",\"#1a9641\",\"#1a9641\",\"#1a9641\",\"#1a9641\",\"#1a9641\",\"#1a9641\",\"#1a9641\",\"#1a9641\",\"#1a9641\",\"#1a9641\",\"#1a9641\",\"#1a9641\",\"#1a9641\",\"#1a9641\",\"#1a9641\",\"#1a9641\",\"#1a9641\",\"#1a9641\",\"#1a9641\",\"#1a9641\",\"#1a9641\",\"#1a9641\",\"#1a9641\",\"#1a9641\",\"#1a9641\",\"#1a9641\",\"#1a9641\",\"#1a9641\",\"#1a9641\",\"#1a9641\",\"#1a9641\",\"#1a9641\",\"#1a9641\",\"#1a9641\",\"#1a9641\",\"#1a9641\",\"#1a9641\",\"#1a9641\",\"#1a9641\",\"#1a9641\",\"#1a9641\",\"#1a9641\",\"#1a9641\",\"#1a9641\",\"#1a9641\",\"#1a9641\",\"#1a9641\",\"#1a9641\",\"#1a9641\",\"#1a9641\",\"#1a9641\",\"#1a9641\",\"#1a9641\",\"#1a9641\",\"#1a9641\",\"#1a9641\",\"#1a9641\",\"#1a9641\",\"#1a9641\",\"#1a9641\",\"#1a9641\",\"#1a9641\",\"#1a9641\",\"#1a9641\",\"#1a9641\",\"#1a9641\",\"#1a9641\",\"#1a9641\",\"#1a9641\",\"#1a9641\",\"#1a9641\",\"#1a9641\",\"#1a9641\",\"#1a9641\",\"#1a9641\",\"#1a9641\",\"#1a9641\",\"#1a9641\",\"#1a9641\",\"#1a9641\",\"#1a9641\",\"#1a9641\",\"#1a9641\",\"#1a9641\",\"#1a9641\",\"#1a9641\",\"#1a9641\",\"#1a9641\",\"#1a9641\",\"#1a9641\",\"#1a9641\",\"#1a9641\",\"#1a9641\",\"#1a9641\",\"#1a9641\",\"#1a9641\",\"#1a9641\",\"#1a9641\",\"#1a9641\",\"#1a9641\",\"#1a9641\",\"#1a9641\",\"#1a9641\",\"#1a9641\",\"#1a9641\",\"#1a9641\",\"#1a9641\",\"#1a9641\",\"#1a9641\",\"#1a9641\",\"#1a9641\",\"#1a9641\",\"#1a9641\",\"#1a9641\",\"#1a9641\",\"#1a9641\",\"#1a9641\",\"#1a9641\",\"#1a9641\",\"#1a9641\",\"#1a9641\",\"#1a9641\",\"#1a9641\",\"#1a9641\",\"#1a9641\",\"#1a9641\",\"#1a9641\",\"#1a9641\",\"#1a9641\",\"#1a9641\",\"#1a9641\",\"#1a9641\",\"#1a9641\",\"#1a9641\",\"#1a9641\",\"#1a9641\",\"#1a9641\",\"#1a9641\",\"#1a9641\",\"#1a9641\",\"#1a9641\",\"#1a9641\",\"#1a9641\",\"#1a9641\",\"#1a9641\",\"#1a9641\",\"#1a9641\",\"#1a9641\",\"#1a9641\",\"#1a9641\",\"#1a9641\",\"#1a9641\",\"#1a9641\",\"#1a9641\",\"#1a9641\",\"#1a9641\",\"#1a9641\",\"#1a9641\",\"#1a9641\",\"#1a9641\",\"#1a9641\",\"#1a9641\",\"#1a9641\",\"#1a9641\",\"#1a9641\",\"#1a9641\",\"#1a9641\",\"#1a9641\",\"#1a9641\",\"#1a9641\",\"#1a9641\",\"#1a9641\",\"#1a9641\",\"#1a9641\",\"#1a9641\",\"#1a9641\",\"#1a9641\",\"#1a9641\",\"#1a9641\",\"#1a9641\",\"#1a9641\",\"#1a9641\",\"#1a9641\",\"#1a9641\",\"#1a9641\",\"#1a9641\",\"#1a9641\",\"#1a9641\",\"#1a9641\",\"#1a9641\",\"#1a9641\",\"#1a9641\",\"#1a9641\",\"#1a9641\",\"#1a9641\",\"#1a9641\",\"#1a9641\",\"#1a9641\",\"#1a9641\",\"#1a9641\",\"#1a9641\",\"#1a9641\",\"#1a9641\",\"#1a9641\",\"#1a9641\",\"#1a9641\",\"#1a9641\",\"#1a9641\",\"#1a9641\",\"#1a9641\",\"#1a9641\",\"#1a9641\",\"#1a9641\",\"#1a9641\",\"#1a9641\",\"#1a9641\",\"#1a9641\",\"#1a9641\",\"#1a9641\",\"#1a9641\",\"#1a9641\",\"#1a9641\",\"#1a9641\",\"#1a9641\",\"#1a9641\",\"#1a9641\",\"#1a9641\",\"#1a9641\",\"#1a9641\",\"#1a9641\",\"#1a9641\",\"#1a9641\",\"#1a9641\",\"#1a9641\",\"#1a9641\",\"#1a9641\",\"#1a9641\",\"#1a9641\",\"#1a9641\",\"#1a9641\",\"#1a9641\",\"#1a9641\",\"#1a9641\",\"#1a9641\",\"#1a9641\",\"#1a9641\",\"#1a9641\",\"#1a9641\",\"#1a9641\",\"#1a9641\",\"#1a9641\",\"#1a9641\",\"#1a9641\",\"#1a9641\",\"#1a9641\",\"#1a9641\",\"#1a9641\",\"#1a9641\",\"#1a9641\",\"#1a9641\",\"#1a9641\",\"#1a9641\",\"#1a9641\",\"#1a9641\",\"#1a9641\",\"#1a9641\",\"#1a9641\",\"#1a9641\",\"#1a9641\",\"#1a9641\",\"#1a9641\",\"#1a9641\",\"#1a9641\",\"#1a9641\",\"#1a9641\",\"#1a9641\",\"#1a9641\",\"#1a9641\",\"#1a9641\",\"#1a9641\",\"#1a9641\",\"#1a9641\",\"#1a9641\",\"#1a9641\",\"#1a9641\",\"#1a9641\",\"#1a9641\",\"#1a9641\",\"#1a9641\",\"#1a9641\",\"#1a9641\",\"#1a9641\",\"#1a9641\",\"#1a9641\",\"#1a9641\",\"#1a9641\",\"#1a9641\",\"#1a9641\",\"#1a9641\",\"#1a9641\",\"#1a9641\",\"#1a9641\",\"#1a9641\",\"#1a9641\",\"#1a9641\",\"#1a9641\",\"#1a9641\",\"#1a9641\",\"#1a9641\",\"#1a9641\",\"#1a9641\",\"#1a9641\",\"#1a9641\",\"#1a9641\",\"#1a9641\",\"#1a9641\",\"#1a9641\",\"#1a9641\",\"#1a9641\",\"#1a9641\",\"#1a9641\",\"#1a9641\",\"#1a9641\",\"#1a9641\",\"#1a9641\",\"#1a9641\",\"#1a9641\",\"#1a9641\",\"#1a9641\",\"#1a9641\",\"#1a9641\",\"#1a9641\",\"#1a9641\",\"#1a9641\",\"#1a9641\",\"#1a9641\",\"#1a9641\",\"#1a9641\",\"#1a9641\",\"#1a9641\",\"#1a9641\",\"#1a9641\",\"#1a9641\",\"#1a9641\",\"#1a9641\",\"#1a9641\",\"#1a9641\",\"#1a9641\",\"#1a9641\",\"#1a9641\",\"#1a9641\",\"#1a9641\",\"#1a9641\",\"#1a9641\",\"#1a9641\",\"#1a9641\",\"#1a9641\",\"#1a9641\",\"#1a9641\",\"#1a9641\",\"#1a9641\",\"#1a9641\",\"#1a9641\",\"#1a9641\",\"#1a9641\",\"#1a9641\",\"#1a9641\",\"#1a9641\",\"#1a9641\",\"#1a9641\",\"#1a9641\",\"#1a9641\",\"#1a9641\",\"#1a9641\",\"#1a9641\",\"#1a9641\",\"#1a9641\",\"#1a9641\",\"#1a9641\",\"#1a9641\",\"#1a9641\",\"#1a9641\",\"#1a9641\",\"#1a9641\",\"#1a9641\",\"#1a9641\",\"#1a9641\",\"#1a9641\",\"#1a9641\",\"#1a9641\",\"#1a9641\",\"#1a9641\",\"#1a9641\",\"#1a9641\",\"#1a9641\",\"#1a9641\",\"#1a9641\",\"#1a9641\",\"#1a9641\",\"#1a9641\",\"#1a9641\",\"#1a9641\",\"#1a9641\",\"#1a9641\",\"#1a9641\",\"#1a9641\",\"#1a9641\",\"#1a9641\",\"#1a9641\",\"#1a9641\",\"#1a9641\",\"#1a9641\",\"#1a9641\",\"#1a9641\",\"#1a9641\",\"#1a9641\",\"#1a9641\",\"#1a9641\",\"#1a9641\",\"#1a9641\",\"#1a9641\",\"#1a9641\",\"#1a9641\",\"#1a9641\",\"#1a9641\",\"#1a9641\",\"#1a9641\",\"#1a9641\",\"#1a9641\",\"#1a9641\",\"#1a9641\",\"#1a9641\",\"#1a9641\",\"#1a9641\",\"#1a9641\",\"#1a9641\",\"#1a9641\",\"#1a9641\",\"#1a9641\",\"#1a9641\",\"#1a9641\",\"#1a9641\",\"#1a9641\",\"#1a9641\",\"#1a9641\",\"#1a9641\",\"#1a9641\",\"#1a9641\",\"#1a9641\",\"#1a9641\",\"#1a9641\",\"#1a9641\",\"#1a9641\",\"#1a9641\",\"#1a9641\",\"#1a9641\",\"#1a9641\",\"#1a9641\",\"#1a9641\",\"#1a9641\",\"#1a9641\",\"#1a9641\",\"#1a9641\",\"#1a9641\",\"#1a9641\",\"#1a9641\",\"#1a9641\",\"#1a9641\",\"#1a9641\",\"#1a9641\",\"#1a9641\",\"#1a9641\",\"#1a9641\",\"#1a9641\",\"#1a9641\",\"#1a9641\",\"#1a9641\",\"#1a9641\",\"#1a9641\",\"#1a9641\",\"#1a9641\",\"#1a9641\",\"#1a9641\",\"#1a9641\",\"#1a9641\",\"#1a9641\",\"#1a9641\",\"#1a9641\",\"#1a9641\",\"#1a9641\",\"#1a9641\",\"#1a9641\",\"#1a9641\",\"#1a9641\",\"#1a9641\",\"#1a9641\",\"#1a9641\",\"#1a9641\",\"#1a9641\",\"#1a9641\",\"#1a9641\",\"#1a9641\",\"#1a9641\",\"#1a9641\",\"#1a9641\",\"#1a9641\",\"#1a9641\",\"#1a9641\",\"#1a9641\",\"#1a9641\",\"#1a9641\",\"#1a9641\",\"#1a9641\",\"#1a9641\",\"#1a9641\",\"#1a9641\",\"#1a9641\",\"#1a9641\",\"#1a9641\",\"#1a9641\",\"#1a9641\",\"#1a9641\",\"#1a9641\",\"#1a9641\",\"#1a9641\",\"#1a9641\",\"#1a9641\",\"#1a9641\",\"#1a9641\",\"#1a9641\",\"#1a9641\",\"#1a9641\",\"#1a9641\",\"#1a9641\",\"#1a9641\",\"#1a9641\",\"#1a9641\",\"#1a9641\",\"#1a9641\",\"#1a9641\",\"#1a9641\",\"#1a9641\",\"#1a9641\",\"#1a9641\",\"#1a9641\",\"#1a9641\",\"#1a9641\",\"#1a9641\",\"#1a9641\",\"#1a9641\",\"#1a9641\",\"#1a9641\",\"#1a9641\",\"#1a9641\",\"#1a9641\",\"#1a9641\",\"#1a9641\",\"#1a9641\",\"#1a9641\",\"#1a9641\",\"#1a9641\",\"#1a9641\",\"#1a9641\",\"#1a9641\",\"#1a9641\",\"#1a9641\",\"#1a9641\",\"#1a9641\",\"#1a9641\",\"#1a9641\",\"#1a9641\",\"#1a9641\",\"#1a9641\",\"#1a9641\",\"#1a9641\",\"#1a9641\",\"#1a9641\",\"#1a9641\",\"#1a9641\",\"#1a9641\",\"#1a9641\",\"#1a9641\",\"#1a9641\",\"#1a9641\",\"#1a9641\",\"#1a9641\",\"#1a9641\",\"#1a9641\",\"#1a9641\",\"#1a9641\",\"#1a9641\",\"#1a9641\",\"#1a9641\",\"#1a9641\",\"#1a9641\",\"#1a9641\",\"#1a9641\",\"#1a9641\",\"#1a9641\",\"#1a9641\",\"#1a9641\",\"#1a9641\",\"#1a9641\",\"#1a9641\",\"#1a9641\",\"#1a9641\",\"#1a9641\",\"#1a9641\",\"#1a9641\",\"#1a9641\",\"#1a9641\",\"#1a9641\",\"#1a9641\",\"#1a9641\",\"#1a9641\",\"#1a9641\",\"#1a9641\",\"#1a9641\",\"#1a9641\",\"#1a9641\",\"#1a9641\",\"#1a9641\",\"#1a9641\",\"#1a9641\",\"#1a9641\",\"#1a9641\",\"#1a9641\",\"#1a9641\",\"#1a9641\",\"#1a9641\",\"#1a9641\",\"#1a9641\",\"#1a9641\",\"#1a9641\",\"#1a9641\",\"#1a9641\",\"#1a9641\",\"#1a9641\",\"#1a9641\",\"#1a9641\",\"#1a9641\",\"#1a9641\",\"#1a9641\",\"#1a9641\",\"#1a9641\",\"#1a9641\",\"#1a9641\",\"#1a9641\",\"#1a9641\",\"#1a9641\",\"#1a9641\",\"#1a9641\",\"#1a9641\",\"#1a9641\",\"#1a9641\",\"#1a9641\",\"#1a9641\",\"#1a9641\",\"#1a9641\",\"#1a9641\",\"#1a9641\",\"#1a9641\",\"#1a9641\",\"#1a9641\",\"#1a9641\",\"#1a9641\",\"#1a9641\",\"#1a9641\",\"#1a9641\",\"#1a9641\",\"#1a9641\",\"#1a9641\",\"#1a9641\",\"#1a9641\",\"#1a9641\",\"#1a9641\",\"#1a9641\",\"#1a9641\",\"#1a9641\",\"#1a9641\",\"#1a9641\",\"#1a9641\",\"#1a9641\",\"#1a9641\",\"#1a9641\",\"#1a9641\",\"#1a9641\",\"#1a9641\",\"#1a9641\",\"#1a9641\",\"#1a9641\",\"#1a9641\",\"#1a9641\",\"#1a9641\",\"#1a9641\",\"#1a9641\",\"#1a9641\",\"#1a9641\",\"#1a9641\",\"#1a9641\",\"#1a9641\",\"#1a9641\",\"#1a9641\",\"#1a9641\",\"#1a9641\",\"#1a9641\",\"#1a9641\",\"#1a9641\",\"#1a9641\",\"#1a9641\",\"#1a9641\",\"#1a9641\",\"#1a9641\",\"#1a9641\",\"#1a9641\",\"#1a9641\",\"#1a9641\",\"#1a9641\",\"#1a9641\",\"#1a9641\",\"#1a9641\",\"#1a9641\",\"#1a9641\",\"#1a9641\",\"#1a9641\",\"#1a9641\",\"#1a9641\",\"#1a9641\",\"#1a9641\",\"#1a9641\",\"#1a9641\",\"#1a9641\",\"#1a9641\",\"#1a9641\",\"#1a9641\",\"#1a9641\",\"#1a9641\",\"#1a9641\",\"#1a9641\",\"#1a9641\",\"#1a9641\",\"#1a9641\",\"#1a9641\",\"#1a9641\",\"#1a9641\",\"#1a9641\",\"#1a9641\",\"#1a9641\",\"#1a9641\",\"#1a9641\",\"#1a9641\",\"#1a9641\",\"#1a9641\",\"#1a9641\",\"#1a9641\",\"#1a9641\",\"#1a9641\",\"#1a9641\",\"#1a9641\",\"#1a9641\",\"#1a9641\",\"#1a9641\",\"#1a9641\",\"#1a9641\",\"#1a9641\",\"#1a9641\",\"#1a9641\",\"#1a9641\",\"#1a9641\",\"#1a9641\",\"#1a9641\",\"#1a9641\",\"#1a9641\",\"#1a9641\",\"#1a9641\",\"#1a9641\",\"#1a9641\",\"#1a9641\",\"#1a9641\",\"#1a9641\",\"#1a9641\",\"#1a9641\",\"#1a9641\",\"#1a9641\",\"#1a9641\",\"#1a9641\",\"#1a9641\",\"#1a9641\",\"#1a9641\",\"#1a9641\",\"#1a9641\",\"#1a9641\",\"#1a9641\",\"#1a9641\",\"#1a9641\",\"#1a9641\",\"#1a9641\",\"#1a9641\",\"#1a9641\",\"#1a9641\",\"#1a9641\",\"#1a9641\",\"#1a9641\",\"#1a9641\",\"#1a9641\",\"#1a9641\",\"#1a9641\",\"#1a9641\",\"#1a9641\",\"#1a9641\",\"#1a9641\",\"#1a9641\",\"#1a9641\",\"#1a9641\",\"#1a9641\",\"#1a9641\",\"#1a9641\",\"#1a9641\",\"#1a9641\",\"#1a9641\",\"#1a9641\",\"#1a9641\",\"#1a9641\",\"#1a9641\",\"#1a9641\",\"#1a9641\",\"#1a9641\",\"#1a9641\",\"#1a9641\",\"#1a9641\",\"#1a9641\",\"#1a9641\",\"#1a9641\",\"#1a9641\",\"#1a9641\",\"#1a9641\",\"#1a9641\",\"#1a9641\",\"#1a9641\",\"#1a9641\",\"#1a9641\",\"#1a9641\",\"#1a9641\",\"#1a9641\",\"#1a9641\",\"#1a9641\",\"#1a9641\",\"#1a9641\",\"#1a9641\",\"#1a9641\",\"#1a9641\",\"#1a9641\",\"#1a9641\",\"#1a9641\",\"#1a9641\",\"#1a9641\",\"#1a9641\",\"#1a9641\",\"#1a9641\",\"#1a9641\",\"#1a9641\",\"#1a9641\",\"#1a9641\",\"#1a9641\",\"#1a9641\",\"#1a9641\",\"#1a9641\",\"#1a9641\"],\"gene_id\":[\"CYP51A1\",\"DVL2\",\"MCUB\",\"PRKAR2B\",\"TSPOAP1\",\"KMT2E\",\"ZNF195\",\"REX1BD\",\"FARP2\",\"GGCT\",\"DBF4\",\"ARSD\",\"ENSG00000007237\",\"JARID2\",\"CELSR3\",\"NFIX\",\"IL32\",\"RHOBTB2\",\"MASP2\",\"ZNF200\",\"CD4\",\"FYN\",\"HIVEP2\",\"ELOA\",\"LYPLA2\",\"PTBP1\",\"ANLN\",\"CEP68\",\"UBR7\",\"RNF14\",\"DNASE1L1\",\"ZMYND11\",\"IGF1\",\"CXorf56\",\"CD74\",\"RUNX3\",\"OSBPL5\",\"GRAMD1B\",\"ALAS1\",\"DEF6\",\"GCLM\",\"HSF2\",\"NR1H3\",\"RNASET2\",\"POU2F2\",\"SNX1\",\"HMGB3\",\"CENPQ\",\"ARID4A\",\"ALG1\",\"ZCCHC8\",\"GAB2\",\"APBA2\",\"ZZZ3\",\"SLC18A1\",\"STAU2\",\"RAB27B\",\"PSMA4\",\"ADAM28\",\"HSPA5\",\"CTPS2\",\"ZNF800\",\"RCN1\",\"LIMA1\",\"SLC4A8\",\"COL23A1\",\"CYBA\",\"MSMO1\",\"USE1\",\"ARID4B\",\"OPN3\",\"FAM168A\",\"GALC\",\"EIF2AK2\",\"KMT2C\",\"MRPL43\",\"TRAF1\",\"RC3H2\",\"DCBLD2\",\"PRDM1\",\"FLYWCH1\",\"MXD1\",\"CDK17\",\"WNK1\",\"QSER1\",\"MRPS35\",\"MRPS24\",\"WAPL\",\"VMP1\",\"SPHK2\",\"RPL18\",\"ADCK1\",\"RNF4\",\"HIPK2\",\"TNPO3\",\"TMEM161A\",\"CTSA\",\"CNN2\",\"FAR2\",\"GNAI3\",\"WDR18\",\"MCM10\",\"PDIA5\",\"NDUFB4\",\"SPEN\",\"MAP2K4\",\"SLK\",\"SEC61A2\",\"FAM107B\",\"MTHFD2\",\"CD84\",\"ZFAT\",\"KLF6\",\"METTL22\",\"IDH3G\",\"CBFB\",\"MEF2A\",\"TTC7A\",\"SIRT2\",\"MAST4\",\"NUCKS1\",\"CLEC2D\",\"GNB5\",\"HDHD5\",\"DGCR2\",\"WIPI1\",\"MAP4K4\",\"MGAT4A\",\"WDR1\",\"ARHGAP10\",\"VASH1\",\"SREBF1\",\"AFF4\",\"CHFR\",\"TRNT1\",\"ACADVL\",\"DERL2\",\"AP1M1\",\"CLCN4\",\"SMARCE1\",\"FRY\",\"HACD3\",\"IPCEF1\",\"TXK\",\"GRAMD4\",\"RASAL2\",\"FNDC3B\",\"ACTB\",\"PLD1\",\"RAB7A\",\"MCM6\",\"KLHL20\",\"SLC46A1\",\"PAG1\",\"USP33\",\"SIRT6\",\"N4BP2\",\"SYNJ2\",\"TNRC6C\",\"TOLLIP\",\"UBE2D4\",\"SLC1A3\",\"RFX3\",\"SESN1\",\"PUM3\",\"CNOT4\",\"PSEN1\",\"HSP90AA1\",\"UBA5\",\"PHLPP1\",\"FYB1\",\"CCNT2\",\"NFE2L1\",\"GSK3B\",\"BCKDHB\",\"KAT6A\",\"TUT7\",\"PLOD1\",\"GSTP1\",\"CD82\",\"WDR47\",\"SLC25A24\",\"AKR1B1\",\"DNAJA1\",\"ZW10\",\"FTL\",\"NLK\",\"OGFOD1\",\"ADD1\",\"RTRAF\",\"KLHL42\",\"DDX18\",\"DOCK9\",\"FKBP1A\",\"SNX5\",\"P2RX7\",\"KDM2B\",\"RPLP0\",\"PEBP1\",\"ARHGAP4\",\"ICAM1\",\"LYZ\",\"PDCD7\",\"ZNF268\",\"AARS1\",\"TNRC6A\",\"WDR7\",\"TXNL1\",\"ITGA6\",\"PSME1\",\"G2E3\",\"GEMIN2\",\"TRPM7\",\"SNAP23\",\"TBX15\",\"EZR\",\"MYL6\",\"MFSD11\",\"TGFB2\",\"GPATCH2\",\"CDC45\",\"COMT\",\"CDC6\",\"ARCN1\",\"NUP188\",\"WAC\",\"SH3GLB1\",\"CDC7\",\"NRP1\",\"CIRBP\",\"HNRNPM\",\"MARCHF2\",\"MTAP\",\"GADD45B\",\"BCL2L13\",\"SNRPD3\",\"SLC35E4\",\"HPS4\",\"DDX17\",\"TCF20\",\"TOMM22\",\"XBP1\",\"SUN2\",\"RHBDD3\",\"PACSIN2\",\"TTLL12\",\"RBFOX2\",\"NCF4\",\"UPK3A\",\"FAM118A\",\"KCTD17\",\"BRD1\",\"HDAC10\",\"CTSG\",\"VCPKMT\",\"GNPNAT1\",\"DDHD1\",\"PSMA3\",\"TIMM9\",\"GSTZ1\",\"ITPK1\",\"DHRS7\",\"PPM1A\",\"MTHFD1\",\"GSKIP\",\"DCAF11\",\"PSMA6\",\"EMC9\",\"GMPR2\",\"PLTP\",\"NINL\",\"CSTF1\",\"DIDO1\",\"ARFGAP1\",\"RASSF2\",\"TM9SF4\",\"PAK5\",\"IDH3B\",\"RPRD1B\",\"PPP1R16B\",\"SMCHD1\",\"ATP11C\",\"SCML2\",\"TIMP1\",\"RBM3\",\"FNDC3A\",\"STK24\",\"DGKH\",\"TSC22D1\",\"POLR2C\",\"SLC7A6\",\"PLA2G15\",\"MON1B\",\"CMC2\",\"NPRL3\",\"COTL1\",\"HAGHL\",\"UBE2I\",\"CAPN15\",\"RBL2\",\"RNF40\",\"CTSH\",\"DMXL2\",\"EIF3J\",\"BLOC1S6\",\"MYEF2\",\"CSPP1\",\"CPQ\",\"NIPAL2\",\"IKBKB\",\"STK3\",\"EMC2\",\"ARMC1\",\"NCALD\",\"TSTA3\",\"ERI1\",\"GSR\",\"UBXN8\",\"ARHGEF10\",\"KCTD9\",\"ASAH1\",\"MAN2B1\",\"NUCB1\",\"MAP4K1\",\"HNRNPL\",\"LYL1\",\"STX10\",\"KIR3DX1\",\"ILVBL\",\"RPS16\",\"POLR2I\",\"PLIN3\",\"TMEM205\",\"RAB3A\",\"DDX49\",\"ATP13A1\",\"ZNF85\",\"CDK6\",\"ZC3HAV1\",\"H2AZ2\",\"LMBR1\",\"LFNG\",\"HIBADH\",\"GRB10\",\"ABHD11\",\"PLEKHA8\",\"PDAP1\",\"ZKSCAN1\",\"TAF6\",\"LSM5\",\"ANKMY2\",\"MRPL32\",\"GCK\",\"CLIP2\",\"TGFBR1\",\"SUSD1\",\"KANK1\",\"TESK1\",\"FUBP3\",\"ABCA2\",\"DVL1\",\"PHYH\",\"RAB11FIP2\",\"SFXN3\",\"EDRF1\",\"MTPAP\",\"MAP3K8\",\"ZMIZ1\",\"NUFIP2\",\"MTMR4\",\"KPNB1\",\"RPS6KB1\",\"MED13\",\"PFN1\",\"CYTH1\",\"LGALS3BP\",\"NAGLU\",\"LRRC59\",\"DUSP3\",\"RANGRF\",\"SLC9A3R1\",\"NAT9\",\"TNFAIP1\",\"IFT20\",\"PMP22\",\"UNC119\",\"RAB34\",\"TMEM33\",\"SLAIN2\",\"UBE2D3\",\"CPZ\",\"MFSD10\",\"KLHL5\",\"NCAPG\",\"HTATIP2\",\"ZBTB16\",\"HSPA8\",\"LPXN\",\"ATG2A\",\"CCND1\",\"RNF141\",\"DDX6\",\"PDHX\",\"C11orf21\",\"CHKA\",\"CAPRIN2\",\"CSRNP2\",\"BIN2\",\"GPN3\",\"SH2B3\",\"OGFOD2\",\"EIF2B1\",\"VDR\",\"ING4\",\"LPCAT3\",\"LDHB\",\"PRKAB1\",\"C2CD5\",\"RIC8B\",\"BTN3A3\",\"SMIM8\",\"MCM9\",\"SERINC1\",\"NCOA7\",\"PPARD\",\"KCTD20\",\"STK38\",\"MRPL18\",\"RNF8\",\"ZNF451\",\"E2F3\",\"CRYBG1\",\"ACOT13\",\"TFEB\",\"SRF\",\"VEGFA\",\"TTK\",\"HMGCS1\",\"DAP\",\"MRPS30\",\"MRPS27\",\"TMCO6\",\"HMGCR\",\"THBS4\",\"CNOT6\",\"DROSHA\",\"TARS1\",\"PDE4D\",\"PPP2CA\",\"RARS1\",\"SMAD5\",\"EHHADH\",\"BCL6\",\"OGG1\",\"UBE3A\",\"SLC25A36\",\"RNF7\",\"GNAI2\",\"TFG\",\"UMPS\",\"SNX4\",\"ABTB1\",\"HEMK1\",\"COMMD2\",\"ABCC5\",\"SSR3\",\"STEAP3\",\"EPB41L5\",\"CENPA\",\"CYTIP\",\"ACVR1\",\"GTF3C2\",\"NDUFS7\",\"AUP1\",\"FN1\",\"STAT1\",\"TXNDC9\",\"ST3GAL5\",\"KDM3A\",\"PPP1R7\",\"STRN\",\"ORC4\",\"RND3\",\"ATF2\",\"AAK1\",\"SUMO1\",\"MSH6\",\"FARSB\",\"ALMS1\",\"ICMT\",\"PHF13\",\"AMPD2\",\"SRSF4\",\"S100PBP\",\"RNF19B\",\"GADD45A\",\"RO60\",\"UCHL5\",\"BCAS2\",\"TMEM9\",\"MAP7D1\",\"BMP8B\",\"SIPA1L2\",\"KMO\",\"CTBS\",\"GBP3\",\"GPR89A\",\"CDK18\",\"CD46\",\"EBNA1BP2\",\"AKR1A1\",\"PIK3R3\",\"DR1\",\"NEK2\",\"RPS6KA1\",\"DHDDS\",\"RCN2\",\"RPS25\",\"FASTKD2\",\"PHF3\",\"FBXO30\",\"CCN2\",\"EEF2KMT\",\"SATB2\",\"SENP5\",\"SET\",\"NEK6\",\"PPP6C\",\"MAPKAP1\",\"VPS4B\",\"FCF1\",\"ACYP1\",\"NPC2\",\"IRF2BPL\",\"FLVCR2\",\"RBM25\",\"EIF2B2\",\"DNMT3A\",\"ATL2\",\"IFIT3\",\"WDR11\",\"KCNIP2\",\"GNA13\",\"PANK3\",\"MTHFD1L\",\"CCDC170\",\"CXorf21\",\"CENPL\",\"TCP1\",\"ELF1\",\"KBTBD7\",\"EGR1\",\"TARDBP\",\"COIL\",\"FAM117A\",\"TMEM131L\",\"PYROXD1\",\"TRMT1L\",\"SEC22A\",\"NAA50\",\"DESI2\",\"ZMYM2\",\"ZCCHC17\",\"ZSCAN20\",\"LRIF1\",\"CXCR4\",\"RPL21\",\"FYTTD1\",\"KIAA1191\",\"LY9\",\"LRRC39\",\"FAM126A\",\"INHBA\",\"EGR2\",\"CIT\",\"HVCN1\",\"CCDC91\",\"ACOT9\",\"DDX39A\",\"PFDN5\",\"NR4A1\",\"EEF1AKMT3\",\"KBTBD4\",\"NDUFAF4\",\"MORF4L2\",\"BAZ2B\",\"GPR83\",\"CKS2\",\"PREX1\",\"NCOA3\",\"SRSF6\",\"RAB22A\",\"FASTKD3\",\"PEPD\",\"BTN2A2\",\"AARS2\",\"GLO1\",\"RREB1\",\"NUP153\",\"LRRFIP1\",\"MT2A\",\"SLC25A35\",\"MRPS7\",\"INSIG2\",\"CCDC93\",\"MED1\",\"C3\",\"GPR108\",\"TNFSF14\",\"FOSB\",\"SNRPD2\",\"VASP\",\"RBCK1\",\"MKKS\",\"LAMP5\",\"SNRPB2\",\"ID1\",\"PLAGL2\",\"MMP24OS\",\"AGO3\",\"CAPNS1\",\"NR1D1\",\"SBDS\",\"DLGAP5\",\"WDR60\",\"NUP214\",\"SLC10A3\",\"BEST3\",\"RAB3IP\",\"FGFRL1\",\"SIN3B\",\"KLF2\",\"AAMP\",\"PTPN12\",\"POR\",\"ZNF780B\",\"PAICS\",\"YWHAH\",\"TPST2\",\"C22orf23\",\"APOBEC3A\",\"SPECC1\",\"CALU\",\"CCDC32\",\"INO80\",\"SUMF2\",\"E2F8\",\"PIMREG\",\"RPAIN\",\"MPDU1\",\"KRI1\",\"ILF3\",\"AJUBA\",\"REEP5\",\"ITFG1\",\"CHRNA10\",\"SGO1\",\"PRKCSH\",\"BST2\",\"COLGALT1\",\"PGPEP1\",\"JUND\",\"ZNF557\",\"UBAC1\",\"OSBPL2\",\"POMT1\",\"UBE2M\",\"YIPF2\",\"ATG4D\",\"ATP5IF1\",\"ZNF317\",\"EIF3G\",\"ZNF426\",\"DKC1\",\"MPP1\",\"C12orf65\",\"HABP4\",\"UBA1\",\"LATS1\",\"ACSS2\",\"COX4I1\",\"EMC8\",\"RLIM\",\"ABCB7\",\"TUBG1\",\"UBE2D2\",\"C1orf159\",\"THOC6\",\"BARX1\",\"CHSY1\",\"CC2D1A\",\"NUP210\",\"ARFIP2\",\"PTPRE\",\"MYBBP1A\",\"UBE2G1\",\"TMEM128\",\"ANKRD17\",\"UTP3\",\"WBP2\",\"FLOT2\",\"NXT1\",\"DCAF8\",\"DPH2\",\"XPO4\",\"CHI3L1\",\"FAM104A\",\"BTBD2\",\"HSPBP1\",\"FOPNL\",\"SLC2A11\",\"GIMAP6\",\"ATP13A3\",\"KRAS\",\"DGLUCY\",\"CTIF\",\"TMEM106C\",\"KIDINS220\",\"FST\",\"NARS1\",\"DDB2\",\"TUT4\",\"DTNA\",\"GGACT\",\"UBAC2\",\"ETS1\",\"APC\",\"P2RX4\",\"DMTF1\",\"SRPK2\",\"CEP162\",\"SYNCRIP\",\"SNX14\",\"CAPRIN1\",\"ITGA7\",\"TROAP\",\"TFCP2\",\"HNRNPA1\",\"USP15\",\"MDM2\",\"FBXL8\",\"URB2\",\"TAF5L\",\"STX6\",\"RC3H1\",\"USP37\",\"REV1\",\"MRPS9\",\"SCYL2\",\"APPL2\",\"CKAP2\",\"RCBTB1\",\"PHF11\",\"LMO7\",\"ITM2B\",\"LCP1\",\"KDELR2\",\"VEZF1\",\"TEX2\",\"DCAF7\",\"LIMD2\",\"ACTL6A\",\"MRPL47\",\"ERMN\",\"SKIL\",\"HLX\",\"STAM\",\"YME1L1\",\"NIPSNAP3A\",\"LRRC8A\",\"ST6GALNAC4\",\"TLR4\",\"ZNF189\",\"ARPC5L\",\"IL11RA\",\"TLN1\",\"PIM1\",\"HMGA1\",\"IER3\",\"SYTL2\",\"CREBZF\",\"RNF121\",\"TGS1\",\"NEK1\",\"RDX\",\"CASP1\",\"MAPKBP1\",\"RPLP1\",\"ZNF280D\",\"BCAR3\",\"CYP1B1\",\"ATRAID\",\"LRPPRC\",\"DNA2\",\"BARD1\",\"NAB1\",\"ITPRID2\",\"INTS14\",\"ZGRF1\",\"HNRNPD\",\"NUP54\",\"G3BP2\",\"PPA2\",\"HADH\",\"PARVG\",\"GABARAPL1\",\"YARS2\",\"NDUFA9\",\"ANP32D\",\"GLIPR1\",\"PHLDA1\",\"TMTC3\",\"SNRPF\",\"NUP58\",\"SLC7A1\",\"BRCA2\",\"RB1\",\"GPR65\",\"WARS1\",\"WDR20\",\"NIPA2\",\"TCF12\",\"SERF2\",\"CDAN1\",\"MAN2C1\",\"USP3\",\"NTRK3\",\"UNC45A\",\"DHX38\",\"ZCCHC14\",\"RPS2\",\"PDPK1\",\"GID4\",\"KSR1\",\"PCTP\",\"SCRN2\",\"RHBDL3\",\"G6PC3\",\"SS18\",\"GNAL\",\"ARHGDIA\",\"SLC16A3\",\"FN3KRP\",\"RPTOR\",\"SMAD4\",\"FBXO15\",\"SLC39A3\",\"SCYL1\",\"DOP1B\",\"AKT1\",\"CARM1\",\"RPS11\",\"SLC2A5\",\"WDTC1\",\"SERBP1\",\"MOB3C\",\"LMO4\",\"MTF2\",\"C1orf162\",\"POGK\",\"POU2F1\",\"COP1\",\"UFC1\",\"PPOX\",\"PRCC\",\"RRNAD1\",\"RGS16\",\"MINDY1\",\"POGZ\",\"GABPB2\",\"DTL\",\"DUSP10\",\"TP53BP2\",\"CREB3L4\",\"GATAD2B\",\"RIT1\",\"LYST\",\"NVL\",\"SDE2\",\"SOX13\",\"CHAC2\",\"ASXL2\",\"SNRPG\",\"SLC20A1\",\"AFF3\",\"AMMECR1L\",\"LNPK\",\"HSPD1\",\"METTL21A\",\"RAB5A\",\"CTDSP1\",\"GASK1A\",\"TMF1\",\"ATG3\",\"CENPC\",\"PLAC8\",\"KLHL8\",\"TIFA\",\"RPL37\",\"SKP2\",\"LHFPL2\",\"TNFAIP8\",\"ARHGAP26\",\"DDX46\",\"ZMAT2\",\"NFKBIE\",\"ARHGAP18\",\"DYNLT1\",\"WTAP\",\"PURB\",\"SLC12A9\",\"GIGYF1\",\"LUC7L2\",\"SNX12\",\"CHMP7\",\"MRPS28\",\"RPL7\",\"AK3\",\"UHRF2\",\"PLIN2\",\"HAUS6\",\"C9orf72\",\"ALAD\",\"ST8SIA6\",\"MTG1\",\"ITPRIP\",\"ADM\",\"CELF1\",\"PAK1\",\"RPS3\",\"NPAT\",\"HYOU1\",\"TMEM138\",\"CHEK1\",\"SIDT2\",\"TAGLN\",\"NUDT22\",\"PPP4C\",\"EEF1AKMT1\",\"CD226\",\"CCT5\",\"PIP4K2A\",\"SLC7A11\",\"UEVLD\",\"UBE3B\",\"GXYLT1\",\"TMEM18\",\"UPF2\",\"FRMD4A\",\"ADAM8\",\"MFSD6\",\"PABPC3\",\"BEND6\",\"TIAL1\",\"FAM168B\",\"PTPN14\",\"GEMIN6\",\"C18orf25\",\"ZNF773\",\"ZNF256\",\"ZFP36L2\",\"SREK1IP1\",\"AHCTF1\",\"PTPRR\",\"LPCAT1\",\"UBP1\",\"GTF2E1\",\"CEBPG\",\"SREK1\",\"TBCEL\",\"RETREG1\",\"PITPNC1\",\"LONRF1\",\"CCSAP\",\"OXNAD1\",\"USP43\",\"ANKRD40\",\"DKK2\",\"PTPRN2\",\"ZFYVE27\",\"GPR78\",\"USP25\",\"DBI\",\"SLC16A1\",\"HEATR3\",\"NUP205\",\"KDM8\",\"TMEM237\",\"RASA2\",\"PSD3\",\"DRAM2\",\"N6AMT1\",\"SCAF4\",\"MTERF3\",\"EEF1A1\",\"UBE2L6\",\"ZFAND3\",\"AIFM1\",\"FBXO32\",\"VPS8\",\"CACNA2D3\",\"TSC22D3\",\"PANK4\",\"SKI\",\"WIPI2\",\"MRPL17\",\"UBXN11\",\"EYA3\",\"SPATA2\",\"FAM86C1\",\"ZC3H18\",\"ZFAND2B\",\"GDPD5\",\"PPP1R15B\",\"ELK4\",\"NPM2\",\"CCAR2\",\"RAPGEF6\",\"MIS18A\",\"IFNGR2\",\"CSRP1\",\"PSMB4\",\"ZFYVE28\",\"CCDC117\",\"BSDC1\",\"ANKLE1\",\"AGPAT3\",\"RALGDS\",\"DIP2A\",\"PRMT2\",\"ZNF714\",\"TAOK1\",\"JAML\",\"VPS11\",\"CRTC2\",\"SLC25A44\",\"VPS28\",\"YDJC\",\"ZNF382\",\"ACOX1\",\"ASB16\",\"RACGAP1\",\"LARP4\",\"TREML1\",\"TNFSF13\",\"SENP3\",\"TEDC2\",\"TTC9C\",\"COA7\",\"FAAP20\",\"GBP4\",\"EXTL2\",\"ARPC5\",\"NCSTN\",\"OLFML2B\",\"FLVCR1\",\"CAPN2\",\"MAIP1\",\"ARL5A\",\"TMOD4\",\"CDC42EP3\",\"TGFA\",\"PAQR3\",\"SLC22A15\",\"EIF4E3\",\"LRRC58\",\"TMEM169\",\"SUCLG1\",\"IFI16\",\"PPM1L\",\"SPICE1\",\"ATXN7\",\"CCNL1\",\"RPL9\",\"RPP14\",\"MTHFD2L\",\"TCF23\",\"PLB1\",\"ZNF148\",\"PBRM1\",\"SLBP\",\"LRPAP1\",\"PIGX\",\"METAP1\",\"CCDC51\",\"SPRY1\",\"DUSP7\",\"MOCS2\",\"NDUFAF2\",\"STARD4\",\"CASP3\",\"CFAP97\",\"EBF1\",\"NSA2\",\"UQCRQ\",\"CITED2\",\"DCBLD1\",\"TMEM200A\",\"DAGLB\",\"RPS14\",\"GPR85\",\"MIOS\",\"USP49\",\"SLC4A2\",\"TMUB1\",\"DCAF13\",\"ABCA1\",\"LETM2\",\"TMEM71\",\"HGSNAT\",\"CYBB\",\"MID1IP1\",\"HDX\",\"NOL6\",\"SUGT1\",\"SLC16A9\",\"SKA3\",\"DDIAS\",\"ABRAXAS2\",\"BORCS5\",\"PIP4P1\",\"FRAT1\",\"CPSF2\",\"CEP57\",\"BRD7\",\"NOLC1\",\"APBB1\",\"ILK\",\"TPP1\",\"ATP9B\",\"HSP90B1\",\"CASC4\",\"SAAL1\",\"ANKDD1A\",\"TERF2IP\",\"VPS39\",\"PIP4K2C\",\"TSC22D4\",\"ENSG00000166928\",\"NUDT21\",\"SNRPD1\",\"CRK\",\"STIM1\",\"ZNF668\",\"TPM4\",\"GPX4\",\"RAB4B\",\"LENG8\",\"ZNF146\",\"SPINT2\",\"UBXN6\",\"HDGFL2\",\"ZNF558\",\"CDK2AP2\",\"PRDX2\",\"ZNF232\",\"TMC8\",\"TMEM68\",\"FAM234A\",\"BSCL2\",\"SLC3A2\",\"CCDC88B\",\"PBK\",\"NUDT16L1\",\"SETD5\",\"MAPK1IP1L\",\"RBPJ\",\"PXK\",\"ING5\",\"RHOH\",\"SNRNP48\",\"AXIN2\",\"IL7R\",\"ZBTB49\",\"FEM1B\",\"MECP2\",\"HSPBAP1\",\"NSMCE1\",\"CCDC126\",\"CD2BP2\",\"ADRB2\",\"CRADD\",\"PTK2\",\"RNASE6\",\"PLEKHA2\",\"BUB1\",\"SPNS1\",\"CNBP\",\"DCXR\",\"UGP2\",\"ROBO1\",\"WNT10B\",\"TOR1AIP2\",\"GUSB\",\"MAP3K2\",\"YWHAG\",\"SIMC1\",\"USP38\",\"ADPRM\",\"NFRKB\",\"FOS\",\"SLC30A1\",\"HSPA4\",\"ZNF16\",\"RNF34\",\"TRABD\",\"KBTBD2\",\"KIAA0232\",\"TMEM43\",\"RPS9\",\"DNAJC24\",\"XKR6\",\"C11orf24\",\"JUNB\",\"ESCO2\",\"POLR1C\",\"LRRC8C\",\"RSL1D1\",\"CLSTN1\",\"CXXC5\",\"BPTF\",\"RGS19\",\"GPHN\",\"RASGRP4\",\"BCL2\",\"ZNF570\",\"RRM2\",\"JMJD1C\",\"ZNF554\",\"QARS1\",\"SMN1\",\"FRMD3\",\"SNTB1\",\"TEFM\",\"MRPL13\",\"MALT1\",\"CEBPB\",\"AZU1\",\"ZNF131\",\"CERS6\",\"IL17D\",\"PPP1CA\",\"RND1\",\"SLFN11\",\"CFL1\",\"TMCC1\",\"CBWD1\",\"DCP2\",\"SP3\",\"RNASEH2C\",\"PHF8\",\"TADA2B\",\"TRMT112\",\"ESRRA\",\"PARP14\",\"GOLGB1\",\"TNKS\",\"ZBTB21\",\"STOX2\",\"GMPPB\",\"CSPG4\",\"LRFN4\",\"TOMM20\",\"ZNF791\",\"CEP19\",\"FBXO45\",\"GNG5\",\"TLR1\",\"PRPF8\",\"ATP2A2\",\"SLC26A9\",\"PELI3\",\"AKIRIN1\",\"MSL2\",\"BRSK2\",\"RESF1\",\"BRMS1\",\"THAP6\",\"PDE12\",\"FBXW8\",\"ATR\",\"FAM131A\",\"PCCA\",\"MED16\",\"CCNE2\",\"EIF1AD\",\"KCNE3\",\"ERCC4\",\"CCDC85B\",\"TMEM70\",\"CTDNEP1\",\"ZNF613\",\"NUPR1\",\"SLC35A4\",\"IP6K1\",\"CSTF3\",\"YES1\",\"SMIM19\",\"CRLF3\",\"KCMF1\",\"SLCO3A1\",\"WDR25\",\"GNG7\",\"B3GNT5\",\"RMDN1\",\"BDNF\",\"BASP1\",\"METRNL\",\"FAM91A1\",\"PNMA1\",\"SMCR8\",\"ACER2\",\"ZBTB34\",\"MAN1B1\",\"ATOX1\",\"IL17RA\",\"THAP5\",\"CD151\",\"FAM20C\",\"ZNF619\",\"GRB2\",\"BOLA1\",\"ZNF114\",\"LCORL\",\"SH2B1\",\"POGLUT3\",\"GALNT11\",\"WDR6\",\"GEN1\",\"NSUN3\",\"KCTD12\",\"THBD\",\"CYBC1\",\"ZBTB7A\",\"FBXO34\",\"RRS1\",\"FUCA1\",\"ZNF664\",\"CALR\",\"HLA-DQB1\",\"EGR3\",\"APOBEC3B\",\"R3HDM2\",\"TSHZ1\",\"SOCS4\",\"RCC1\",\"TIGD2\",\"ZNF609\",\"MCFD2\",\"ENSG00000180448\",\"PCGF5\",\"PITPNB\",\"METTL23\",\"HIGD1A\",\"EHMT1\",\"PJA1\",\"POLR2A\",\"FRAT2\",\"ZNF322\",\"LRRC75A\",\"RAP2B\",\"SGSH\",\"MEX3D\",\"AMIGO1\",\"RNF41\",\"C5orf24\",\"TDRKH\",\"ERCC6L2\",\"ATP6AP2\",\"UBE2E2\",\"SYNM\",\"DCAF4L1\",\"CAPN12\",\"MXRA7\",\"SATB1\",\"SKA2\",\"HOXB4\",\"NGRN\",\"RPS17\",\"C16orf72\",\"C11orf54\",\"SPATA13\",\"CADM1\",\"MCEMP1\",\"SLC8A1\",\"CEP57L1\",\"PTTG1IP\",\"TMEM121B\",\"ZNF623\",\"KIAA2026\",\"CCDC159\",\"ASB7\",\"TENT5C\",\"ZNF530\",\"LIN9\",\"ACTG1\",\"LRTOMT\",\"SCFD2\",\"TSPYL2\",\"HDDC3\",\"ZFP1\",\"LPAR5\",\"SEPTIN9\",\"ATL3\",\"APOO\",\"BTBD6\",\"WT1\",\"BRI3BP\",\"SEMA4B\",\"ANKS1B\",\"FAM43A\",\"PRSS57\",\"ZNF445\",\"ATP6V0A2\",\"TEDC1\",\"PARPBP\",\"SV2B\",\"P4HB\",\"MOSMO\",\"YTHDF3\",\"IKZF1\",\"PCYT2\",\"EVI2B\",\"ZNF566\",\"ZNF284\",\"CD300LF\",\"POLR1D\",\"EDARADD\",\"KDM4D\",\"ZNF197\",\"INSIG1\",\"ZNF396\",\"ARAP1\",\"PRG2\",\"ZFP91\",\"CCDC73\",\"BCR\",\"MAPT\",\"TMEM216\",\"MITF\",\"GCNT1\",\"USP7\",\"TET3\",\"SAMD11\",\"FANCM\",\"ZFP69B\",\"FAM122A\",\"LDLRAD2\",\"ARL4C\",\"AGRN\",\"NHS\",\"LAMTOR4\",\"ZNF383\",\"ZNF559\",\"FAM92A\",\"BLOC1S5\",\"INSC\",\"UROS\",\"RBM34\",\"SKOR1\",\"RPL14\",\"MSL1\",\"FAM120AOS\",\"ZNF33A\",\"FAM53B\",\"C8orf76\",\"BLOC1S2\",\"IL1RAP\",\"ZNF699\",\"HLA-DRB1\",\"ACADSB\",\"ZNF766\",\"SRGAP3\",\"ZNF107\",\"ZNF140\",\"PRTN3\",\"TSC22D2\",\"SIAH1\",\"SULT1A1\",\"PRPF40A\",\"FAM72A\",\"XRCC2\",\"ZNF846\",\"ZKSCAN5\",\"HSH2D\",\"TRPV1\",\"ZNF431\",\"VKORC1L1\",\"GM2A\",\"STRN3\",\"PPTC7\",\"ARHGEF12\",\"NOP9\",\"ZNF138\",\"ZNF100\",\"ZNF398\",\"ZSCAN25\",\"ZSCAN26\",\"MAFG\",\"KIAA1671\",\"SRC\",\"LRRC8B\",\"GTF2E2\",\"BLM\",\"PELI1\",\"MRPL21\",\"ZNF675\",\"GSTK1\",\"PDGFA\",\"RPF2\",\"PHF2\",\"PSAP\",\"EME2\",\"KLHDC1\",\"ZNF780A\",\"ZNF461\",\"SLC9A8\",\"MPZL1\",\"MBP\",\"IRAK4\",\"ZNF273\",\"ZKSCAN8\",\"ZNF26\",\"TXNRD1\",\"ZNF583\",\"ZNF480\",\"GPN1\",\"NUDT16\",\"TLK1\",\"ZNF534\",\"NCOA6\",\"SMURF1\",\"PNP\",\"FOXJ3\",\"MAP3K3\",\"DCLRE1A\",\"L3MBTL3\",\"KIFBP\",\"SGMS1\",\"COX20\",\"LIME1\",\"MAFB\",\"MACO1\",\"HLA-DRA\",\"SNHG32\",\"HSPA1B\",\"BAG6\",\"ZNF814\",\"MICB\",\"HLA-C\",\"PPP1R10\",\"HLA-E\",\"ZNF616\",\"DCTN1\",\"SARNP\",\"SMN2\",\"OLIG2\",\"JPT2\",\"HCG27\",\"ANKRD28\",\"TRGC1\",\"ZNF611\",\"ZNF254\",\"ARHGAP19\",\"HAUS7\",\"GPC2\",\"STIMATE\",\"CLIC1\",\"DNASE1\",\"TAX1BP3\",\"NAXD\",\"GANC\",\"TTLL3\",\"REPIN1\",\"MRPL23\",\"ENSG00000214265\",\"HNRNPUL2\",\"PHB2\",\"PEX26\",\"IFI30\",\"FNIP1\",\"ZNF579\",\"VAMP2\",\"PPP3R1\",\"TRIM16\",\"UBA52\",\"FAM185A\",\"HLA-DPA1\",\"TAPBP\",\"H2BC15\",\"HLA-B\",\"HNRNPUL2-BSCL2\",\"PPP1R3E\",\"ARHGEF38\",\"RBM14\",\"ALKBH6\",\"GET4\",\"COX19\",\"RPL36A\",\"ATP5PO\",\"ARFGAP3\",\"C22orf39\",\"EIF6\",\"TICAM2\",\"ETV5\",\"H2AJ\",\"BCKDHA\",\"CHCHD10\",\"TMED7-TICAM2\",\"ZNF550\",\"CCDC71L\",\"ZNF260\",\"SIGLEC12\",\"EEF1G\",\"ENSG00000254893\",\"ENSG00000254979\",\"PIGY\",\"MSH5-SAPCD1\",\"NEDD8-MDP1\",\"ENSG00000255730\",\"COA8\",\"MTRNR2L1\",\"NHLRC4\",\"P2RX5-TAX1BP3\",\"ENSG00000258864\",\"TUBB3\",\"THTPA\",\"TMEM256-PLSCR3\",\"ENSG00000265118\",\"FSBP\",\"BAHCC1\",\"NCOA4\",\"ENSG00000267022\",\"ZNF224\",\"ENSG00000267699\",\"ZNF559-ZNF177\",\"ENSG00000270299\",\"URGCP-MRPS24\",\"SRXN1\",\"MILR1\",\"ENSG00000273154\",\"SNURF\",\"NOL12\",\"INO80B-WBP1\",\"NPHP3-ACAD11\",\"ZNF280B\",\"SIK1B\",\"UHRF1\",\"CCL4L2\",\"TADA2A\",\"ENSG00000276418\",\"ENSG00000276612\",\"ZNF8\",\"GATD3B\",\"ENSG00000283228\"],\"genes\":[\"CYP51A1\",\"DVL2\",\"MCUB\",\"PRKAR2B\",\"TSPOAP1\",\"KMT2E\",\"ZNF195\",\"REX1BD\",\"FARP2\",\"GGCT\",\"DBF4\",\"ARSD\",\"ENSG00000007237\",\"JARID2\",\"CELSR3\",\"NFIX\",\"IL32\",\"RHOBTB2\",\"MASP2\",\"ZNF200\",\"CD4\",\"FYN\",\"HIVEP2\",\"ELOA\",\"LYPLA2\",\"PTBP1\",\"ANLN\",\"CEP68\",\"UBR7\",\"RNF14\",\"DNASE1L1\",\"ZMYND11\",\"IGF1\",\"CXorf56\",\"CD74\",\"RUNX3\",\"OSBPL5\",\"GRAMD1B\",\"ALAS1\",\"DEF6\",\"GCLM\",\"HSF2\",\"NR1H3\",\"RNASET2\",\"POU2F2\",\"SNX1\",\"HMGB3\",\"CENPQ\",\"ARID4A\",\"ALG1\",\"ZCCHC8\",\"GAB2\",\"APBA2\",\"ZZZ3\",\"SLC18A1\",\"STAU2\",\"RAB27B\",\"PSMA4\",\"ADAM28\",\"HSPA5\",\"CTPS2\",\"ZNF800\",\"RCN1\",\"LIMA1\",\"SLC4A8\",\"COL23A1\",\"CYBA\",\"MSMO1\",\"USE1\",\"ARID4B\",\"OPN3\",\"FAM168A\",\"GALC\",\"EIF2AK2\",\"KMT2C\",\"MRPL43\",\"TRAF1\",\"RC3H2\",\"DCBLD2\",\"PRDM1\",\"FLYWCH1\",\"MXD1\",\"CDK17\",\"WNK1\",\"QSER1\",\"MRPS35\",\"MRPS24\",\"WAPL\",\"VMP1\",\"SPHK2\",\"RPL18\",\"ADCK1\",\"RNF4\",\"HIPK2\",\"TNPO3\",\"TMEM161A\",\"CTSA\",\"CNN2\",\"FAR2\",\"GNAI3\",\"WDR18\",\"MCM10\",\"PDIA5\",\"NDUFB4\",\"SPEN\",\"MAP2K4\",\"SLK\",\"SEC61A2\",\"FAM107B\",\"MTHFD2\",\"CD84\",\"ZFAT\",\"KLF6\",\"METTL22\",\"IDH3G\",\"CBFB\",\"MEF2A\",\"TTC7A\",\"SIRT2\",\"MAST4\",\"NUCKS1\",\"CLEC2D\",\"GNB5\",\"HDHD5\",\"DGCR2\",\"WIPI1\",\"MAP4K4\",\"MGAT4A\",\"WDR1\",\"ARHGAP10\",\"VASH1\",\"SREBF1\",\"AFF4\",\"CHFR\",\"TRNT1\",\"ACADVL\",\"DERL2\",\"AP1M1\",\"CLCN4\",\"SMARCE1\",\"FRY\",\"HACD3\",\"IPCEF1\",\"TXK\",\"GRAMD4\",\"RASAL2\",\"FNDC3B\",\"ACTB\",\"PLD1\",\"RAB7A\",\"MCM6\",\"KLHL20\",\"SLC46A1\",\"PAG1\",\"USP33\",\"SIRT6\",\"N4BP2\",\"SYNJ2\",\"TNRC6C\",\"TOLLIP\",\"UBE2D4\",\"SLC1A3\",\"RFX3\",\"SESN1\",\"PUM3\",\"CNOT4\",\"PSEN1\",\"HSP90AA1\",\"UBA5\",\"PHLPP1\",\"FYB1\",\"CCNT2\",\"NFE2L1\",\"GSK3B\",\"BCKDHB\",\"KAT6A\",\"TUT7\",\"PLOD1\",\"GSTP1\",\"CD82\",\"WDR47\",\"SLC25A24\",\"AKR1B1\",\"DNAJA1\",\"ZW10\",\"FTL\",\"NLK\",\"OGFOD1\",\"ADD1\",\"RTRAF\",\"KLHL42\",\"DDX18\",\"DOCK9\",\"FKBP1A\",\"SNX5\",\"P2RX7\",\"KDM2B\",\"RPLP0\",\"PEBP1\",\"ARHGAP4\",\"ICAM1\",\"LYZ\",\"PDCD7\",\"ZNF268\",\"AARS1\",\"TNRC6A\",\"WDR7\",\"TXNL1\",\"ITGA6\",\"PSME1\",\"G2E3\",\"GEMIN2\",\"TRPM7\",\"SNAP23\",\"TBX15\",\"EZR\",\"MYL6\",\"MFSD11\",\"TGFB2\",\"GPATCH2\",\"CDC45\",\"COMT\",\"CDC6\",\"ARCN1\",\"NUP188\",\"WAC\",\"SH3GLB1\",\"CDC7\",\"NRP1\",\"CIRBP\",\"HNRNPM\",\"MARCHF2\",\"MTAP\",\"GADD45B\",\"BCL2L13\",\"SNRPD3\",\"SLC35E4\",\"HPS4\",\"DDX17\",\"TCF20\",\"TOMM22\",\"XBP1\",\"SUN2\",\"RHBDD3\",\"PACSIN2\",\"TTLL12\",\"RBFOX2\",\"NCF4\",\"UPK3A\",\"FAM118A\",\"KCTD17\",\"BRD1\",\"HDAC10\",\"CTSG\",\"VCPKMT\",\"GNPNAT1\",\"DDHD1\",\"PSMA3\",\"TIMM9\",\"GSTZ1\",\"ITPK1\",\"DHRS7\",\"PPM1A\",\"MTHFD1\",\"GSKIP\",\"DCAF11\",\"PSMA6\",\"EMC9\",\"GMPR2\",\"PLTP\",\"NINL\",\"CSTF1\",\"DIDO1\",\"ARFGAP1\",\"RASSF2\",\"TM9SF4\",\"PAK5\",\"IDH3B\",\"RPRD1B\",\"PPP1R16B\",\"SMCHD1\",\"ATP11C\",\"SCML2\",\"TIMP1\",\"RBM3\",\"FNDC3A\",\"STK24\",\"DGKH\",\"TSC22D1\",\"POLR2C\",\"SLC7A6\",\"PLA2G15\",\"MON1B\",\"CMC2\",\"NPRL3\",\"COTL1\",\"HAGHL\",\"UBE2I\",\"CAPN15\",\"RBL2\",\"RNF40\",\"CTSH\",\"DMXL2\",\"EIF3J\",\"BLOC1S6\",\"MYEF2\",\"CSPP1\",\"CPQ\",\"NIPAL2\",\"IKBKB\",\"STK3\",\"EMC2\",\"ARMC1\",\"NCALD\",\"TSTA3\",\"ERI1\",\"GSR\",\"UBXN8\",\"ARHGEF10\",\"KCTD9\",\"ASAH1\",\"MAN2B1\",\"NUCB1\",\"MAP4K1\",\"HNRNPL\",\"LYL1\",\"STX10\",\"KIR3DX1\",\"ILVBL\",\"RPS16\",\"POLR2I\",\"PLIN3\",\"TMEM205\",\"RAB3A\",\"DDX49\",\"ATP13A1\",\"ZNF85\",\"CDK6\",\"ZC3HAV1\",\"H2AZ2\",\"LMBR1\",\"LFNG\",\"HIBADH\",\"GRB10\",\"ABHD11\",\"PLEKHA8\",\"PDAP1\",\"ZKSCAN1\",\"TAF6\",\"LSM5\",\"ANKMY2\",\"MRPL32\",\"GCK\",\"CLIP2\",\"TGFBR1\",\"SUSD1\",\"KANK1\",\"TESK1\",\"FUBP3\",\"ABCA2\",\"DVL1\",\"PHYH\",\"RAB11FIP2\",\"SFXN3\",\"EDRF1\",\"MTPAP\",\"MAP3K8\",\"ZMIZ1\",\"NUFIP2\",\"MTMR4\",\"KPNB1\",\"RPS6KB1\",\"MED13\",\"PFN1\",\"CYTH1\",\"LGALS3BP\",\"NAGLU\",\"LRRC59\",\"DUSP3\",\"RANGRF\",\"SLC9A3R1\",\"NAT9\",\"TNFAIP1\",\"IFT20\",\"PMP22\",\"UNC119\",\"RAB34\",\"TMEM33\",\"SLAIN2\",\"UBE2D3\",\"CPZ\",\"MFSD10\",\"KLHL5\",\"NCAPG\",\"HTATIP2\",\"ZBTB16\",\"HSPA8\",\"LPXN\",\"ATG2A\",\"CCND1\",\"RNF141\",\"DDX6\",\"PDHX\",\"C11orf21\",\"CHKA\",\"CAPRIN2\",\"CSRNP2\",\"BIN2\",\"GPN3\",\"SH2B3\",\"OGFOD2\",\"EIF2B1\",\"VDR\",\"ING4\",\"LPCAT3\",\"LDHB\",\"PRKAB1\",\"C2CD5\",\"RIC8B\",\"BTN3A3\",\"SMIM8\",\"MCM9\",\"SERINC1\",\"NCOA7\",\"PPARD\",\"KCTD20\",\"STK38\",\"MRPL18\",\"RNF8\",\"ZNF451\",\"E2F3\",\"CRYBG1\",\"ACOT13\",\"TFEB\",\"SRF\",\"VEGFA\",\"TTK\",\"HMGCS1\",\"DAP\",\"MRPS30\",\"MRPS27\",\"TMCO6\",\"HMGCR\",\"THBS4\",\"CNOT6\",\"DROSHA\",\"TARS1\",\"PDE4D\",\"PPP2CA\",\"RARS1\",\"SMAD5\",\"EHHADH\",\"BCL6\",\"OGG1\",\"UBE3A\",\"SLC25A36\",\"RNF7\",\"GNAI2\",\"TFG\",\"UMPS\",\"SNX4\",\"ABTB1\",\"HEMK1\",\"COMMD2\",\"ABCC5\",\"SSR3\",\"STEAP3\",\"EPB41L5\",\"CENPA\",\"CYTIP\",\"ACVR1\",\"GTF3C2\",\"NDUFS7\",\"AUP1\",\"FN1\",\"STAT1\",\"TXNDC9\",\"ST3GAL5\",\"KDM3A\",\"PPP1R7\",\"STRN\",\"ORC4\",\"RND3\",\"ATF2\",\"AAK1\",\"SUMO1\",\"MSH6\",\"FARSB\",\"ALMS1\",\"ICMT\",\"PHF13\",\"AMPD2\",\"SRSF4\",\"S100PBP\",\"RNF19B\",\"GADD45A\",\"RO60\",\"UCHL5\",\"BCAS2\",\"TMEM9\",\"MAP7D1\",\"BMP8B\",\"SIPA1L2\",\"KMO\",\"CTBS\",\"GBP3\",\"GPR89A\",\"CDK18\",\"CD46\",\"EBNA1BP2\",\"AKR1A1\",\"PIK3R3\",\"DR1\",\"NEK2\",\"RPS6KA1\",\"DHDDS\",\"RCN2\",\"RPS25\",\"FASTKD2\",\"PHF3\",\"FBXO30\",\"CCN2\",\"EEF2KMT\",\"SATB2\",\"SENP5\",\"SET\",\"NEK6\",\"PPP6C\",\"MAPKAP1\",\"VPS4B\",\"FCF1\",\"ACYP1\",\"NPC2\",\"IRF2BPL\",\"FLVCR2\",\"RBM25\",\"EIF2B2\",\"DNMT3A\",\"ATL2\",\"IFIT3\",\"WDR11\",\"KCNIP2\",\"GNA13\",\"PANK3\",\"MTHFD1L\",\"CCDC170\",\"CXorf21\",\"CENPL\",\"TCP1\",\"ELF1\",\"KBTBD7\",\"EGR1\",\"TARDBP\",\"COIL\",\"FAM117A\",\"TMEM131L\",\"PYROXD1\",\"TRMT1L\",\"SEC22A\",\"NAA50\",\"DESI2\",\"ZMYM2\",\"ZCCHC17\",\"ZSCAN20\",\"LRIF1\",\"CXCR4\",\"RPL21\",\"FYTTD1\",\"KIAA1191\",\"LY9\",\"LRRC39\",\"FAM126A\",\"INHBA\",\"EGR2\",\"CIT\",\"HVCN1\",\"CCDC91\",\"ACOT9\",\"DDX39A\",\"PFDN5\",\"NR4A1\",\"EEF1AKMT3\",\"KBTBD4\",\"NDUFAF4\",\"MORF4L2\",\"BAZ2B\",\"GPR83\",\"CKS2\",\"PREX1\",\"NCOA3\",\"SRSF6\",\"RAB22A\",\"FASTKD3\",\"PEPD\",\"BTN2A2\",\"AARS2\",\"GLO1\",\"RREB1\",\"NUP153\",\"LRRFIP1\",\"MT2A\",\"SLC25A35\",\"MRPS7\",\"INSIG2\",\"CCDC93\",\"MED1\",\"C3\",\"GPR108\",\"TNFSF14\",\"FOSB\",\"SNRPD2\",\"VASP\",\"RBCK1\",\"MKKS\",\"LAMP5\",\"SNRPB2\",\"ID1\",\"PLAGL2\",\"MMP24OS\",\"AGO3\",\"CAPNS1\",\"NR1D1\",\"SBDS\",\"DLGAP5\",\"WDR60\",\"NUP214\",\"SLC10A3\",\"BEST3\",\"RAB3IP\",\"FGFRL1\",\"SIN3B\",\"KLF2\",\"AAMP\",\"PTPN12\",\"POR\",\"ZNF780B\",\"PAICS\",\"YWHAH\",\"TPST2\",\"C22orf23\",\"APOBEC3A\",\"SPECC1\",\"CALU\",\"CCDC32\",\"INO80\",\"SUMF2\",\"E2F8\",\"PIMREG\",\"RPAIN\",\"MPDU1\",\"KRI1\",\"ILF3\",\"AJUBA\",\"REEP5\",\"ITFG1\",\"CHRNA10\",\"SGO1\",\"PRKCSH\",\"BST2\",\"COLGALT1\",\"PGPEP1\",\"JUND\",\"ZNF557\",\"UBAC1\",\"OSBPL2\",\"POMT1\",\"UBE2M\",\"YIPF2\",\"ATG4D\",\"ATP5IF1\",\"ZNF317\",\"EIF3G\",\"ZNF426\",\"DKC1\",\"MPP1\",\"C12orf65\",\"HABP4\",\"UBA1\",\"LATS1\",\"ACSS2\",\"COX4I1\",\"EMC8\",\"RLIM\",\"ABCB7\",\"TUBG1\",\"UBE2D2\",\"C1orf159\",\"THOC6\",\"BARX1\",\"CHSY1\",\"CC2D1A\",\"NUP210\",\"ARFIP2\",\"PTPRE\",\"MYBBP1A\",\"UBE2G1\",\"TMEM128\",\"ANKRD17\",\"UTP3\",\"WBP2\",\"FLOT2\",\"NXT1\",\"DCAF8\",\"DPH2\",\"XPO4\",\"CHI3L1\",\"FAM104A\",\"BTBD2\",\"HSPBP1\",\"FOPNL\",\"SLC2A11\",\"GIMAP6\",\"ATP13A3\",\"KRAS\",\"DGLUCY\",\"CTIF\",\"TMEM106C\",\"KIDINS220\",\"FST\",\"NARS1\",\"DDB2\",\"TUT4\",\"DTNA\",\"GGACT\",\"UBAC2\",\"ETS1\",\"APC\",\"P2RX4\",\"DMTF1\",\"SRPK2\",\"CEP162\",\"SYNCRIP\",\"SNX14\",\"CAPRIN1\",\"ITGA7\",\"TROAP\",\"TFCP2\",\"HNRNPA1\",\"USP15\",\"MDM2\",\"FBXL8\",\"URB2\",\"TAF5L\",\"STX6\",\"RC3H1\",\"USP37\",\"REV1\",\"MRPS9\",\"SCYL2\",\"APPL2\",\"CKAP2\",\"RCBTB1\",\"PHF11\",\"LMO7\",\"ITM2B\",\"LCP1\",\"KDELR2\",\"VEZF1\",\"TEX2\",\"DCAF7\",\"LIMD2\",\"ACTL6A\",\"MRPL47\",\"ERMN\",\"SKIL\",\"HLX\",\"STAM\",\"YME1L1\",\"NIPSNAP3A\",\"LRRC8A\",\"ST6GALNAC4\",\"TLR4\",\"ZNF189\",\"ARPC5L\",\"IL11RA\",\"TLN1\",\"PIM1\",\"HMGA1\",\"IER3\",\"SYTL2\",\"CREBZF\",\"RNF121\",\"TGS1\",\"NEK1\",\"RDX\",\"CASP1\",\"MAPKBP1\",\"RPLP1\",\"ZNF280D\",\"BCAR3\",\"CYP1B1\",\"ATRAID\",\"LRPPRC\",\"DNA2\",\"BARD1\",\"NAB1\",\"ITPRID2\",\"INTS14\",\"ZGRF1\",\"HNRNPD\",\"NUP54\",\"G3BP2\",\"PPA2\",\"HADH\",\"PARVG\",\"GABARAPL1\",\"YARS2\",\"NDUFA9\",\"ANP32D\",\"GLIPR1\",\"PHLDA1\",\"TMTC3\",\"SNRPF\",\"NUP58\",\"SLC7A1\",\"BRCA2\",\"RB1\",\"GPR65\",\"WARS1\",\"WDR20\",\"NIPA2\",\"TCF12\",\"SERF2\",\"CDAN1\",\"MAN2C1\",\"USP3\",\"NTRK3\",\"UNC45A\",\"DHX38\",\"ZCCHC14\",\"RPS2\",\"PDPK1\",\"GID4\",\"KSR1\",\"PCTP\",\"SCRN2\",\"RHBDL3\",\"G6PC3\",\"SS18\",\"GNAL\",\"ARHGDIA\",\"SLC16A3\",\"FN3KRP\",\"RPTOR\",\"SMAD4\",\"FBXO15\",\"SLC39A3\",\"SCYL1\",\"DOP1B\",\"AKT1\",\"CARM1\",\"RPS11\",\"SLC2A5\",\"WDTC1\",\"SERBP1\",\"MOB3C\",\"LMO4\",\"MTF2\",\"C1orf162\",\"POGK\",\"POU2F1\",\"COP1\",\"UFC1\",\"PPOX\",\"PRCC\",\"RRNAD1\",\"RGS16\",\"MINDY1\",\"POGZ\",\"GABPB2\",\"DTL\",\"DUSP10\",\"TP53BP2\",\"CREB3L4\",\"GATAD2B\",\"RIT1\",\"LYST\",\"NVL\",\"SDE2\",\"SOX13\",\"CHAC2\",\"ASXL2\",\"SNRPG\",\"SLC20A1\",\"AFF3\",\"AMMECR1L\",\"LNPK\",\"HSPD1\",\"METTL21A\",\"RAB5A\",\"CTDSP1\",\"GASK1A\",\"TMF1\",\"ATG3\",\"CENPC\",\"PLAC8\",\"KLHL8\",\"TIFA\",\"RPL37\",\"SKP2\",\"LHFPL2\",\"TNFAIP8\",\"ARHGAP26\",\"DDX46\",\"ZMAT2\",\"NFKBIE\",\"ARHGAP18\",\"DYNLT1\",\"WTAP\",\"PURB\",\"SLC12A9\",\"GIGYF1\",\"LUC7L2\",\"SNX12\",\"CHMP7\",\"MRPS28\",\"RPL7\",\"AK3\",\"UHRF2\",\"PLIN2\",\"HAUS6\",\"C9orf72\",\"ALAD\",\"ST8SIA6\",\"MTG1\",\"ITPRIP\",\"ADM\",\"CELF1\",\"PAK1\",\"RPS3\",\"NPAT\",\"HYOU1\",\"TMEM138\",\"CHEK1\",\"SIDT2\",\"TAGLN\",\"NUDT22\",\"PPP4C\",\"EEF1AKMT1\",\"CD226\",\"CCT5\",\"PIP4K2A\",\"SLC7A11\",\"UEVLD\",\"UBE3B\",\"GXYLT1\",\"TMEM18\",\"UPF2\",\"FRMD4A\",\"ADAM8\",\"MFSD6\",\"PABPC3\",\"BEND6\",\"TIAL1\",\"FAM168B\",\"PTPN14\",\"GEMIN6\",\"C18orf25\",\"ZNF773\",\"ZNF256\",\"ZFP36L2\",\"SREK1IP1\",\"AHCTF1\",\"PTPRR\",\"LPCAT1\",\"UBP1\",\"GTF2E1\",\"CEBPG\",\"SREK1\",\"TBCEL\",\"RETREG1\",\"PITPNC1\",\"LONRF1\",\"CCSAP\",\"OXNAD1\",\"USP43\",\"ANKRD40\",\"DKK2\",\"PTPRN2\",\"ZFYVE27\",\"GPR78\",\"USP25\",\"DBI\",\"SLC16A1\",\"HEATR3\",\"NUP205\",\"KDM8\",\"TMEM237\",\"RASA2\",\"PSD3\",\"DRAM2\",\"N6AMT1\",\"SCAF4\",\"MTERF3\",\"EEF1A1\",\"UBE2L6\",\"ZFAND3\",\"AIFM1\",\"FBXO32\",\"VPS8\",\"CACNA2D3\",\"TSC22D3\",\"PANK4\",\"SKI\",\"WIPI2\",\"MRPL17\",\"UBXN11\",\"EYA3\",\"SPATA2\",\"FAM86C1\",\"ZC3H18\",\"ZFAND2B\",\"GDPD5\",\"PPP1R15B\",\"ELK4\",\"NPM2\",\"CCAR2\",\"RAPGEF6\",\"MIS18A\",\"IFNGR2\",\"CSRP1\",\"PSMB4\",\"ZFYVE28\",\"CCDC117\",\"BSDC1\",\"ANKLE1\",\"AGPAT3\",\"RALGDS\",\"DIP2A\",\"PRMT2\",\"ZNF714\",\"TAOK1\",\"JAML\",\"VPS11\",\"CRTC2\",\"SLC25A44\",\"VPS28\",\"YDJC\",\"ZNF382\",\"ACOX1\",\"ASB16\",\"RACGAP1\",\"LARP4\",\"TREML1\",\"TNFSF13\",\"SENP3\",\"TEDC2\",\"TTC9C\",\"COA7\",\"FAAP20\",\"GBP4\",\"EXTL2\",\"ARPC5\",\"NCSTN\",\"OLFML2B\",\"FLVCR1\",\"CAPN2\",\"MAIP1\",\"ARL5A\",\"TMOD4\",\"CDC42EP3\",\"TGFA\",\"PAQR3\",\"SLC22A15\",\"EIF4E3\",\"LRRC58\",\"TMEM169\",\"SUCLG1\",\"IFI16\",\"PPM1L\",\"SPICE1\",\"ATXN7\",\"CCNL1\",\"RPL9\",\"RPP14\",\"MTHFD2L\",\"TCF23\",\"PLB1\",\"ZNF148\",\"PBRM1\",\"SLBP\",\"LRPAP1\",\"PIGX\",\"METAP1\",\"CCDC51\",\"SPRY1\",\"DUSP7\",\"MOCS2\",\"NDUFAF2\",\"STARD4\",\"CASP3\",\"CFAP97\",\"EBF1\",\"NSA2\",\"UQCRQ\",\"CITED2\",\"DCBLD1\",\"TMEM200A\",\"DAGLB\",\"RPS14\",\"GPR85\",\"MIOS\",\"USP49\",\"SLC4A2\",\"TMUB1\",\"DCAF13\",\"ABCA1\",\"LETM2\",\"TMEM71\",\"HGSNAT\",\"CYBB\",\"MID1IP1\",\"HDX\",\"NOL6\",\"SUGT1\",\"SLC16A9\",\"SKA3\",\"DDIAS\",\"ABRAXAS2\",\"BORCS5\",\"PIP4P1\",\"FRAT1\",\"CPSF2\",\"CEP57\",\"BRD7\",\"NOLC1\",\"APBB1\",\"ILK\",\"TPP1\",\"ATP9B\",\"HSP90B1\",\"CASC4\",\"SAAL1\",\"ANKDD1A\",\"TERF2IP\",\"VPS39\",\"PIP4K2C\",\"TSC22D4\",\"ENSG00000166928\",\"NUDT21\",\"SNRPD1\",\"CRK\",\"STIM1\",\"ZNF668\",\"TPM4\",\"GPX4\",\"RAB4B\",\"LENG8\",\"ZNF146\",\"SPINT2\",\"UBXN6\",\"HDGFL2\",\"ZNF558\",\"CDK2AP2\",\"PRDX2\",\"ZNF232\",\"TMC8\",\"TMEM68\",\"FAM234A\",\"BSCL2\",\"SLC3A2\",\"CCDC88B\",\"PBK\",\"NUDT16L1\",\"SETD5\",\"MAPK1IP1L\",\"RBPJ\",\"PXK\",\"ING5\",\"RHOH\",\"SNRNP48\",\"AXIN2\",\"IL7R\",\"ZBTB49\",\"FEM1B\",\"MECP2\",\"HSPBAP1\",\"NSMCE1\",\"CCDC126\",\"CD2BP2\",\"ADRB2\",\"CRADD\",\"PTK2\",\"RNASE6\",\"PLEKHA2\",\"BUB1\",\"SPNS1\",\"CNBP\",\"DCXR\",\"UGP2\",\"ROBO1\",\"WNT10B\",\"TOR1AIP2\",\"GUSB\",\"MAP3K2\",\"YWHAG\",\"SIMC1\",\"USP38\",\"ADPRM\",\"NFRKB\",\"FOS\",\"SLC30A1\",\"HSPA4\",\"ZNF16\",\"RNF34\",\"TRABD\",\"KBTBD2\",\"KIAA0232\",\"TMEM43\",\"RPS9\",\"DNAJC24\",\"XKR6\",\"C11orf24\",\"JUNB\",\"ESCO2\",\"POLR1C\",\"LRRC8C\",\"RSL1D1\",\"CLSTN1\",\"CXXC5\",\"BPTF\",\"RGS19\",\"GPHN\",\"RASGRP4\",\"BCL2\",\"ZNF570\",\"RRM2\",\"JMJD1C\",\"ZNF554\",\"QARS1\",\"SMN1\",\"FRMD3\",\"SNTB1\",\"TEFM\",\"MRPL13\",\"MALT1\",\"CEBPB\",\"AZU1\",\"ZNF131\",\"CERS6\",\"IL17D\",\"PPP1CA\",\"RND1\",\"SLFN11\",\"CFL1\",\"TMCC1\",\"CBWD1\",\"DCP2\",\"SP3\",\"RNASEH2C\",\"PHF8\",\"TADA2B\",\"TRMT112\",\"ESRRA\",\"PARP14\",\"GOLGB1\",\"TNKS\",\"ZBTB21\",\"STOX2\",\"GMPPB\",\"CSPG4\",\"LRFN4\",\"TOMM20\",\"ZNF791\",\"CEP19\",\"FBXO45\",\"GNG5\",\"TLR1\",\"PRPF8\",\"ATP2A2\",\"SLC26A9\",\"PELI3\",\"AKIRIN1\",\"MSL2\",\"BRSK2\",\"RESF1\",\"BRMS1\",\"THAP6\",\"PDE12\",\"FBXW8\",\"ATR\",\"FAM131A\",\"PCCA\",\"MED16\",\"CCNE2\",\"EIF1AD\",\"KCNE3\",\"ERCC4\",\"CCDC85B\",\"TMEM70\",\"CTDNEP1\",\"ZNF613\",\"NUPR1\",\"SLC35A4\",\"IP6K1\",\"CSTF3\",\"YES1\",\"SMIM19\",\"CRLF3\",\"KCMF1\",\"SLCO3A1\",\"WDR25\",\"GNG7\",\"B3GNT5\",\"RMDN1\",\"BDNF\",\"BASP1\",\"METRNL\",\"FAM91A1\",\"PNMA1\",\"SMCR8\",\"ACER2\",\"ZBTB34\",\"MAN1B1\",\"ATOX1\",\"IL17RA\",\"THAP5\",\"CD151\",\"FAM20C\",\"ZNF619\",\"GRB2\",\"BOLA1\",\"ZNF114\",\"LCORL\",\"SH2B1\",\"POGLUT3\",\"GALNT11\",\"WDR6\",\"GEN1\",\"NSUN3\",\"KCTD12\",\"THBD\",\"CYBC1\",\"ZBTB7A\",\"FBXO34\",\"RRS1\",\"FUCA1\",\"ZNF664\",\"CALR\",\"HLA-DQB1\",\"EGR3\",\"APOBEC3B\",\"R3HDM2\",\"TSHZ1\",\"SOCS4\",\"RCC1\",\"TIGD2\",\"ZNF609\",\"MCFD2\",\"ENSG00000180448\",\"PCGF5\",\"PITPNB\",\"METTL23\",\"HIGD1A\",\"EHMT1\",\"PJA1\",\"POLR2A\",\"FRAT2\",\"ZNF322\",\"LRRC75A\",\"RAP2B\",\"SGSH\",\"MEX3D\",\"AMIGO1\",\"RNF41\",\"C5orf24\",\"TDRKH\",\"ERCC6L2\",\"ATP6AP2\",\"UBE2E2\",\"SYNM\",\"DCAF4L1\",\"CAPN12\",\"MXRA7\",\"SATB1\",\"SKA2\",\"HOXB4\",\"NGRN\",\"RPS17\",\"C16orf72\",\"C11orf54\",\"SPATA13\",\"CADM1\",\"MCEMP1\",\"SLC8A1\",\"CEP57L1\",\"PTTG1IP\",\"TMEM121B\",\"ZNF623\",\"KIAA2026\",\"CCDC159\",\"ASB7\",\"TENT5C\",\"ZNF530\",\"LIN9\",\"ACTG1\",\"LRTOMT\",\"SCFD2\",\"TSPYL2\",\"HDDC3\",\"ZFP1\",\"LPAR5\",\"SEPTIN9\",\"ATL3\",\"APOO\",\"BTBD6\",\"WT1\",\"BRI3BP\",\"SEMA4B\",\"ANKS1B\",\"FAM43A\",\"PRSS57\",\"ZNF445\",\"ATP6V0A2\",\"TEDC1\",\"PARPBP\",\"SV2B\",\"P4HB\",\"MOSMO\",\"YTHDF3\",\"IKZF1\",\"PCYT2\",\"EVI2B\",\"ZNF566\",\"ZNF284\",\"CD300LF\",\"POLR1D\",\"EDARADD\",\"KDM4D\",\"ZNF197\",\"INSIG1\",\"ZNF396\",\"ARAP1\",\"PRG2\",\"ZFP91\",\"CCDC73\",\"BCR\",\"MAPT\",\"TMEM216\",\"MITF\",\"GCNT1\",\"USP7\",\"TET3\",\"SAMD11\",\"FANCM\",\"ZFP69B\",\"FAM122A\",\"LDLRAD2\",\"ARL4C\",\"AGRN\",\"NHS\",\"LAMTOR4\",\"ZNF383\",\"ZNF559\",\"FAM92A\",\"BLOC1S5\",\"INSC\",\"UROS\",\"RBM34\",\"SKOR1\",\"RPL14\",\"MSL1\",\"FAM120AOS\",\"ZNF33A\",\"FAM53B\",\"C8orf76\",\"BLOC1S2\",\"IL1RAP\",\"ZNF699\",\"HLA-DRB1\",\"ACADSB\",\"ZNF766\",\"SRGAP3\",\"ZNF107\",\"ZNF140\",\"PRTN3\",\"TSC22D2\",\"SIAH1\",\"SULT1A1\",\"PRPF40A\",\"FAM72A\",\"XRCC2\",\"ZNF846\",\"ZKSCAN5\",\"HSH2D\",\"TRPV1\",\"ZNF431\",\"VKORC1L1\",\"GM2A\",\"STRN3\",\"PPTC7\",\"ARHGEF12\",\"NOP9\",\"ZNF138\",\"ZNF100\",\"ZNF398\",\"ZSCAN25\",\"ZSCAN26\",\"MAFG\",\"KIAA1671\",\"SRC\",\"LRRC8B\",\"GTF2E2\",\"BLM\",\"PELI1\",\"MRPL21\",\"ZNF675\",\"GSTK1\",\"PDGFA\",\"RPF2\",\"PHF2\",\"PSAP\",\"EME2\",\"KLHDC1\",\"ZNF780A\",\"ZNF461\",\"SLC9A8\",\"MPZL1\",\"MBP\",\"IRAK4\",\"ZNF273\",\"ZKSCAN8\",\"ZNF26\",\"TXNRD1\",\"ZNF583\",\"ZNF480\",\"GPN1\",\"NUDT16\",\"TLK1\",\"ZNF534\",\"NCOA6\",\"SMURF1\",\"PNP\",\"FOXJ3\",\"MAP3K3\",\"DCLRE1A\",\"L3MBTL3\",\"KIFBP\",\"SGMS1\",\"COX20\",\"LIME1\",\"MAFB\",\"MACO1\",\"HLA-DRA\",\"SNHG32\",\"HSPA1B\",\"BAG6\",\"ZNF814\",\"MICB\",\"HLA-C\",\"PPP1R10\",\"HLA-E\",\"ZNF616\",\"DCTN1\",\"SARNP\",\"SMN2\",\"OLIG2\",\"JPT2\",\"HCG27\",\"ANKRD28\",\"TRGC1\",\"ZNF611\",\"ZNF254\",\"ARHGAP19\",\"HAUS7\",\"GPC2\",\"STIMATE\",\"CLIC1\",\"DNASE1\",\"TAX1BP3\",\"NAXD\",\"GANC\",\"TTLL3\",\"REPIN1\",\"MRPL23\",\"ENSG00000214265\",\"HNRNPUL2\",\"PHB2\",\"PEX26\",\"IFI30\",\"FNIP1\",\"ZNF579\",\"VAMP2\",\"PPP3R1\",\"TRIM16\",\"UBA52\",\"FAM185A\",\"HLA-DPA1\",\"TAPBP\",\"H2BC15\",\"HLA-B\",\"HNRNPUL2-BSCL2\",\"PPP1R3E\",\"ARHGEF38\",\"RBM14\",\"ALKBH6\",\"GET4\",\"COX19\",\"RPL36A\",\"ATP5PO\",\"ARFGAP3\",\"C22orf39\",\"EIF6\",\"TICAM2\",\"ETV5\",\"H2AJ\",\"BCKDHA\",\"CHCHD10\",\"TMED7-TICAM2\",\"ZNF550\",\"CCDC71L\",\"ZNF260\",\"SIGLEC12\",\"EEF1G\",\"ENSG00000254893\",\"ENSG00000254979\",\"PIGY\",\"MSH5-SAPCD1\",\"NEDD8-MDP1\",\"ENSG00000255730\",\"COA8\",\"MTRNR2L1\",\"NHLRC4\",\"P2RX5-TAX1BP3\",\"ENSG00000258864\",\"TUBB3\",\"THTPA\",\"TMEM256-PLSCR3\",\"ENSG00000265118\",\"FSBP\",\"BAHCC1\",\"NCOA4\",\"ENSG00000267022\",\"ZNF224\",\"ENSG00000267699\",\"ZNF559-ZNF177\",\"ENSG00000270299\",\"URGCP-MRPS24\",\"SRXN1\",\"MILR1\",\"ENSG00000273154\",\"SNURF\",\"NOL12\",\"INO80B-WBP1\",\"NPHP3-ACAD11\",\"ZNF280B\",\"SIK1B\",\"UHRF1\",\"CCL4L2\",\"TADA2A\",\"ENSG00000276418\",\"ENSG00000276612\",\"ZNF8\",\"GATD3B\",\"ENSG00000283228\"],\"index\":[\"12\",\"50\",\"54\",\"67\",\"70\",\"75\",\"78\",\"87\",\"104\",\"105\",\"106\",\"116\",\"126\",\"145\",\"154\",\"159\",\"162\",\"165\",\"173\",\"198\",\"199\",\"204\",\"205\",\"206\",\"207\",\"221\",\"227\",\"232\",\"244\",\"256\",\"257\",\"273\",\"282\",\"287\",\"292\",\"299\",\"303\",\"313\",\"318\",\"326\",\"328\",\"333\",\"335\",\"344\",\"357\",\"359\",\"366\",\"373\",\"376\",\"380\",\"381\",\"387\",\"391\",\"411\",\"412\",\"437\",\"443\",\"444\",\"454\",\"465\",\"471\",\"493\",\"509\",\"518\",\"520\",\"522\",\"529\",\"537\",\"542\",\"552\",\"553\",\"560\",\"562\",\"570\",\"572\",\"574\",\"579\",\"580\",\"583\",\"586\",\"605\",\"612\",\"613\",\"619\",\"626\",\"633\",\"640\",\"642\",\"643\",\"648\",\"649\",\"659\",\"661\",\"672\",\"673\",\"676\",\"678\",\"683\",\"687\",\"698\",\"703\",\"706\",\"712\",\"714\",\"715\",\"718\",\"720\",\"722\",\"725\",\"729\",\"742\",\"757\",\"765\",\"775\",\"784\",\"788\",\"797\",\"811\",\"818\",\"822\",\"825\",\"831\",\"838\",\"840\",\"854\",\"860\",\"880\",\"881\",\"883\",\"885\",\"888\",\"915\",\"916\",\"923\",\"926\",\"927\",\"932\",\"936\",\"948\",\"951\",\"961\",\"980\",\"981\",\"988\",\"998\",\"1003\",\"1008\",\"1013\",\"1014\",\"1018\",\"1026\",\"1034\",\"1035\",\"1041\",\"1059\",\"1067\",\"1084\",\"1087\",\"1097\",\"1104\",\"1105\",\"1108\",\"1132\",\"1137\",\"1139\",\"1141\",\"1142\",\"1146\",\"1160\",\"1171\",\"1174\",\"1180\",\"1188\",\"1189\",\"1197\",\"1198\",\"1199\",\"1203\",\"1231\",\"1246\",\"1255\",\"1257\",\"1261\",\"1277\",\"1298\",\"1304\",\"1307\",\"1316\",\"1319\",\"1322\",\"1325\",\"1340\",\"1347\",\"1357\",\"1368\",\"1371\",\"1379\",\"1383\",\"1387\",\"1408\",\"1424\",\"1427\",\"1430\",\"1436\",\"1444\",\"1447\",\"1458\",\"1459\",\"1461\",\"1477\",\"1485\",\"1490\",\"1492\",\"1496\",\"1497\",\"1500\",\"1501\",\"1507\",\"1509\",\"1510\",\"1512\",\"1513\",\"1520\",\"1530\",\"1534\",\"1545\",\"1568\",\"1569\",\"1574\",\"1588\",\"1591\",\"1592\",\"1597\",\"1602\",\"1616\",\"1630\",\"1636\",\"1649\",\"1669\",\"1671\",\"1674\",\"1675\",\"1684\",\"1688\",\"1689\",\"1703\",\"1708\",\"1727\",\"1730\",\"1731\",\"1732\",\"1748\",\"1751\",\"1757\",\"1763\",\"1770\",\"1771\",\"1777\",\"1779\",\"1780\",\"1791\",\"1792\",\"1793\",\"1804\",\"1808\",\"1829\",\"1830\",\"1832\",\"1838\",\"1841\",\"1849\",\"1865\",\"1879\",\"1882\",\"1892\",\"1902\",\"1907\",\"1911\",\"1917\",\"1923\",\"1937\",\"1969\",\"1984\",\"2001\",\"2007\",\"2017\",\"2021\",\"2032\",\"2036\",\"2061\",\"2077\",\"2078\",\"2081\",\"2082\",\"2085\",\"2091\",\"2104\",\"2111\",\"2114\",\"2128\",\"2143\",\"2154\",\"2169\",\"2171\",\"2176\",\"2177\",\"2179\",\"2188\",\"2195\",\"2196\",\"2199\",\"2203\",\"2206\",\"2210\",\"2214\",\"2219\",\"2225\",\"2227\",\"2230\",\"2233\",\"2234\",\"2236\",\"2238\",\"2240\",\"2242\",\"2263\",\"2266\",\"2276\",\"2295\",\"2303\",\"2316\",\"2331\",\"2361\",\"2378\",\"2385\",\"2397\",\"2400\",\"2407\",\"2425\",\"2430\",\"2433\",\"2437\",\"2443\",\"2445\",\"2446\",\"2448\",\"2457\",\"2460\",\"2464\",\"2474\",\"2490\",\"2497\",\"2505\",\"2510\",\"2523\",\"2527\",\"2538\",\"2540\",\"2541\",\"2551\",\"2557\",\"2561\",\"2564\",\"2589\",\"2604\",\"2606\",\"2610\",\"2623\",\"2631\",\"2641\",\"2646\",\"2649\",\"2658\",\"2660\",\"2683\",\"2685\",\"2693\",\"2702\",\"2709\",\"2716\",\"2721\",\"2722\",\"2724\",\"2725\",\"2728\",\"2729\",\"2732\",\"2735\",\"2737\",\"2745\",\"2759\",\"2767\",\"2771\",\"2772\",\"2774\",\"2777\",\"2783\",\"2788\",\"2790\",\"2804\",\"2814\",\"2821\",\"2826\",\"2839\",\"2847\",\"2861\",\"2866\",\"2868\",\"2887\",\"2891\",\"2900\",\"2907\",\"2911\",\"2932\",\"2943\",\"2947\",\"2948\",\"2953\",\"2958\",\"2961\",\"2970\",\"2975\",\"2978\",\"2982\",\"2989\",\"2993\",\"2994\",\"2997\",\"2999\",\"3008\",\"3014\",\"3021\",\"3022\",\"3046\",\"3055\",\"3064\",\"3066\",\"3080\",\"3081\",\"3085\",\"3087\",\"3091\",\"3093\",\"3102\",\"3103\",\"3109\",\"3116\",\"3118\",\"3127\",\"3136\",\"3141\",\"3154\",\"3161\",\"3167\",\"3170\",\"3173\",\"3174\",\"3188\",\"3189\",\"3204\",\"3206\",\"3211\",\"3218\",\"3223\",\"3227\",\"3233\",\"3259\",\"3260\",\"3268\",\"3269\",\"3270\",\"3273\",\"3290\",\"3294\",\"3306\",\"3307\",\"3320\",\"3323\",\"3328\",\"3343\",\"3354\",\"3373\",\"3375\",\"3376\",\"3378\",\"3384\",\"3387\",\"3391\",\"3392\",\"3409\",\"3413\",\"3416\",\"3417\",\"3426\",\"3427\",\"3454\",\"3457\",\"3458\",\"3459\",\"3473\",\"3475\",\"3487\",\"3489\",\"3491\",\"3503\",\"3509\",\"3510\",\"3511\",\"3517\",\"3522\",\"3530\",\"3532\",\"3538\",\"3559\",\"3560\",\"3561\",\"3575\",\"3583\",\"3589\",\"3602\",\"3604\",\"3612\",\"3630\",\"3642\",\"3649\",\"3659\",\"3666\",\"3668\",\"3672\",\"3679\",\"3686\",\"3691\",\"3693\",\"3695\",\"3701\",\"3705\",\"3709\",\"3715\",\"3718\",\"3730\",\"3742\",\"3744\",\"3747\",\"3751\",\"3758\",\"3760\",\"3762\",\"3767\",\"3771\",\"3790\",\"3793\",\"3802\",\"3824\",\"3831\",\"3836\",\"3838\",\"3844\",\"3850\",\"3851\",\"3855\",\"3858\",\"3863\",\"3865\",\"3877\",\"3879\",\"3884\",\"3889\",\"3894\",\"3899\",\"3902\",\"3914\",\"3929\",\"3931\",\"3953\",\"3960\",\"3963\",\"3972\",\"3974\",\"3976\",\"3994\",\"3997\",\"4007\",\"4008\",\"4015\",\"4017\",\"4024\",\"4037\",\"4040\",\"4051\",\"4054\",\"4063\",\"4068\",\"4079\",\"4080\",\"4098\",\"4112\",\"4125\",\"4128\",\"4134\",\"4138\",\"4148\",\"4172\",\"4173\",\"4192\",\"4194\",\"4203\",\"4207\",\"4210\",\"4211\",\"4212\",\"4214\",\"4217\",\"4228\",\"4238\",\"4240\",\"4241\",\"4257\",\"4264\",\"4265\",\"4270\",\"4282\",\"4292\",\"4304\",\"4322\",\"4330\",\"4333\",\"4334\",\"4353\",\"4354\",\"4361\",\"4370\",\"4373\",\"4390\",\"4399\",\"4400\",\"4408\",\"4413\",\"4421\",\"4429\",\"4436\",\"4437\",\"4440\",\"4454\",\"4478\",\"4479\",\"4495\",\"4500\",\"4502\",\"4503\",\"4511\",\"4515\",\"4516\",\"4527\",\"4541\",\"4542\",\"4551\",\"4553\",\"4576\",\"4589\",\"4592\",\"4616\",\"4619\",\"4621\",\"4623\",\"4636\",\"4641\",\"4646\",\"4649\",\"4650\",\"4659\",\"4664\",\"4666\",\"4670\",\"4672\",\"4674\",\"4678\",\"4683\",\"4685\",\"4688\",\"4696\",\"4702\",\"4703\",\"4715\",\"4716\",\"4732\",\"4743\",\"4746\",\"4750\",\"4752\",\"4773\",\"4788\",\"4796\",\"4800\",\"4812\",\"4819\",\"4822\",\"4825\",\"4833\",\"4834\",\"4836\",\"4852\",\"4863\",\"4870\",\"4875\",\"4894\",\"4904\",\"4920\",\"4923\",\"4926\",\"4933\",\"4938\",\"4940\",\"4948\",\"4950\",\"4971\",\"4978\",\"5018\",\"5021\",\"5030\",\"5035\",\"5052\",\"5065\",\"5070\",\"5081\",\"5084\",\"5092\",\"5095\",\"5119\",\"5122\",\"5131\",\"5135\",\"5136\",\"5137\",\"5150\",\"5156\",\"5163\",\"5165\",\"5170\",\"5189\",\"5192\",\"5197\",\"5203\",\"5208\",\"5210\",\"5220\",\"5228\",\"5237\",\"5242\",\"5248\",\"5251\",\"5261\",\"5266\",\"5268\",\"5270\",\"5271\",\"5275\",\"5284\",\"5307\",\"5309\",\"5310\",\"5311\",\"5315\",\"5317\",\"5320\",\"5322\",\"5324\",\"5338\",\"5340\",\"5342\",\"5343\",\"5355\",\"5363\",\"5364\",\"5384\",\"5394\",\"5398\",\"5416\",\"5431\",\"5434\",\"5456\",\"5458\",\"5461\",\"5465\",\"5467\",\"5473\",\"5477\",\"5485\",\"5494\",\"5506\",\"5510\",\"5529\",\"5538\",\"5540\",\"5564\",\"5566\",\"5572\",\"5580\",\"5598\",\"5607\",\"5610\",\"5622\",\"5624\",\"5630\",\"5635\",\"5646\",\"5651\",\"5654\",\"5665\",\"5673\",\"5677\",\"5678\",\"5682\",\"5683\",\"5697\",\"5700\",\"5711\",\"5727\",\"5755\",\"5760\",\"5761\",\"5762\",\"5766\",\"5768\",\"5778\",\"5791\",\"5798\",\"5811\",\"5814\",\"5835\",\"5848\",\"5854\",\"5856\",\"5864\",\"5865\",\"5872\",\"5880\",\"5882\",\"5884\",\"5888\",\"5893\",\"5911\",\"5913\",\"5920\",\"5922\",\"5934\",\"5936\",\"5950\",\"5973\",\"5976\",\"5978\",\"5991\",\"5997\",\"6004\",\"6020\",\"6024\",\"6031\",\"6032\",\"6033\",\"6038\",\"6045\",\"6052\",\"6054\",\"6056\",\"6057\",\"6065\",\"6066\",\"6073\",\"6093\",\"6098\",\"6102\",\"6103\",\"6110\",\"6111\",\"6122\",\"6126\",\"6128\",\"6136\",\"6142\",\"6143\",\"6158\",\"6172\",\"6176\",\"6178\",\"6196\",\"6200\",\"6204\",\"6208\",\"6215\",\"6217\",\"6232\",\"6234\",\"6244\",\"6255\",\"6265\",\"6291\",\"6294\",\"6297\",\"6303\",\"6321\",\"6322\",\"6326\",\"6339\",\"6344\",\"6345\",\"6362\",\"6378\",\"6388\",\"6393\",\"6397\",\"6408\",\"6418\",\"6419\",\"6431\",\"6450\",\"6476\",\"6490\",\"6493\",\"6507\",\"6508\",\"6510\",\"6511\",\"6514\",\"6533\",\"6567\",\"6586\",\"6592\",\"6597\",\"6613\",\"6621\",\"6622\",\"6625\",\"6632\",\"6636\",\"6647\",\"6651\",\"6653\",\"6664\",\"6673\",\"6692\",\"6701\",\"6705\",\"6712\",\"6722\",\"6728\",\"6733\",\"6740\",\"6750\",\"6758\",\"6762\",\"6777\",\"6782\",\"6798\",\"6806\",\"6807\",\"6815\",\"6816\",\"6820\",\"6831\",\"6847\",\"6849\",\"6858\",\"6888\",\"6909\",\"6912\",\"6923\",\"6930\",\"6935\",\"6944\",\"6949\",\"6966\",\"6973\",\"6976\",\"6986\",\"6989\",\"7014\",\"7021\",\"7025\",\"7029\",\"7033\",\"7045\",\"7047\",\"7052\",\"7058\",\"7059\",\"7060\",\"7069\",\"7075\",\"7078\",\"7092\",\"7101\",\"7116\",\"7119\",\"7126\",\"7136\",\"7142\",\"7148\",\"7151\",\"7157\",\"7164\",\"7174\",\"7213\",\"7219\",\"7249\",\"7254\",\"7255\",\"7261\",\"7263\",\"7271\",\"7295\",\"7296\",\"7300\",\"7301\",\"7302\",\"7304\",\"7310\",\"7322\",\"7331\",\"7333\",\"7335\",\"7343\",\"7348\",\"7370\",\"7395\",\"7403\",\"7419\",\"7426\",\"7442\",\"7451\",\"7458\",\"7460\",\"7466\",\"7480\",\"7485\",\"7495\",\"7501\",\"7508\",\"7522\",\"7544\",\"7553\",\"7558\",\"7569\",\"7576\",\"7577\",\"7584\",\"7590\",\"7591\",\"7601\",\"7617\",\"7630\",\"7658\",\"7676\",\"7680\",\"7683\",\"7691\",\"7693\",\"7696\",\"7717\",\"7729\",\"7731\",\"7759\",\"7765\",\"7770\",\"7776\",\"7793\",\"7796\",\"7798\",\"7802\",\"7826\",\"7829\",\"7833\",\"7839\",\"7845\",\"7850\",\"7853\",\"7855\",\"7867\",\"7874\",\"7877\",\"7889\",\"7915\",\"7919\",\"7920\",\"7924\",\"7933\",\"7943\",\"7946\",\"7958\",\"7985\",\"7988\",\"7992\",\"8008\",\"8012\",\"8015\",\"8019\",\"8025\",\"8029\",\"8031\",\"8033\",\"8037\",\"8043\",\"8046\",\"8056\",\"8057\",\"8082\",\"8084\",\"8094\",\"8113\",\"8115\",\"8118\",\"8120\",\"8128\",\"8130\",\"8139\",\"8141\",\"8161\",\"8165\",\"8169\",\"8171\",\"8194\",\"8209\",\"8219\",\"8230\",\"8240\",\"8256\",\"8271\",\"8282\",\"8300\",\"8304\",\"8306\",\"8312\",\"8352\",\"8363\",\"8369\",\"8380\",\"8383\",\"8389\",\"8395\",\"8401\",\"8404\",\"8416\",\"8423\",\"8441\",\"8457\",\"8464\",\"8469\",\"8471\",\"8496\",\"8503\",\"8507\",\"8510\",\"8516\",\"8517\",\"8542\",\"8544\",\"8547\",\"8548\",\"8556\",\"8558\",\"8561\",\"8578\",\"8580\",\"8595\",\"8596\",\"8602\",\"8605\",\"8610\",\"8612\",\"8632\",\"8648\",\"8653\",\"8672\",\"8680\",\"8686\",\"8710\",\"8733\",\"8740\",\"8744\",\"8756\",\"8757\",\"8759\",\"8773\",\"8781\",\"8786\",\"8790\",\"8797\",\"8817\",\"8818\",\"8825\",\"8830\",\"8838\",\"8842\",\"8846\",\"8850\",\"8854\",\"8861\",\"8871\",\"8876\",\"8884\",\"8886\",\"8904\",\"8907\",\"8912\",\"8936\",\"8939\",\"8941\",\"8943\",\"8958\",\"8962\",\"8964\",\"8966\",\"8975\",\"8980\",\"8985\",\"9010\",\"9023\",\"9035\",\"9041\",\"9042\",\"9055\",\"9056\",\"9063\",\"9067\",\"9070\",\"9077\",\"9079\",\"9086\",\"9090\",\"9109\",\"9112\",\"9116\",\"9120\",\"9127\",\"9128\",\"9130\",\"9131\",\"9132\",\"9134\",\"9135\",\"9140\",\"9144\",\"9166\",\"9172\",\"9180\",\"9188\",\"9195\",\"9196\",\"9200\",\"9202\",\"9209\",\"9217\",\"9221\",\"9227\",\"9237\",\"9243\",\"9248\",\"9260\",\"9265\",\"9267\",\"9269\",\"9291\",\"9294\",\"9304\",\"9312\",\"9326\",\"9341\",\"9343\",\"9344\",\"9350\",\"9361\",\"9373\",\"9382\",\"9383\",\"9387\",\"9389\",\"9397\",\"9401\",\"9405\",\"9413\",\"9417\",\"9433\",\"9439\",\"9454\",\"9457\",\"9463\",\"9470\",\"9479\",\"9495\",\"9507\",\"9508\",\"9509\",\"9525\",\"9542\",\"9544\",\"9549\",\"9550\",\"9552\",\"9553\",\"9565\",\"9574\",\"9578\",\"9585\",\"9587\",\"9591\",\"9595\",\"9597\",\"9602\",\"9608\",\"9611\",\"9612\",\"9618\",\"9629\",\"9638\",\"9644\",\"9654\",\"9676\",\"9687\",\"9691\",\"9695\",\"9697\",\"9708\",\"9710\",\"9729\",\"9734\",\"9736\",\"9738\",\"9741\",\"9746\",\"9747\",\"9748\",\"9771\",\"9772\",\"9776\",\"9790\",\"9793\",\"9797\",\"9807\",\"9818\",\"9819\",\"9820\",\"9830\",\"9835\",\"9856\",\"9868\",\"9878\",\"9880\",\"9893\",\"9904\",\"9907\",\"9911\",\"9913\",\"9925\",\"9949\",\"9961\",\"9962\",\"9963\",\"9967\",\"9971\",\"9974\",\"9976\",\"9977\",\"9985\",\"9989\",\"9992\",\"10005\",\"10014\",\"10020\",\"10037\",\"10040\",\"10052\",\"10055\",\"10056\",\"10061\",\"10074\",\"10081\",\"10087\",\"10094\",\"10101\",\"10104\",\"10105\",\"10110\",\"10119\",\"10124\",\"10129\",\"10135\",\"10137\",\"10148\",\"10156\",\"10160\",\"10161\",\"10165\",\"10167\",\"10171\",\"10176\",\"10193\",\"10218\",\"10232\",\"10243\",\"10248\",\"10251\",\"10282\",\"10283\",\"10287\",\"10295\",\"10305\",\"10309\",\"10313\",\"10321\",\"10330\",\"10338\",\"10340\",\"10350\",\"10360\",\"10363\",\"10381\",\"10382\",\"10396\",\"10404\",\"10414\",\"10424\",\"10427\",\"10441\",\"10442\",\"10447\",\"10466\",\"10468\",\"10471\",\"10483\",\"10488\",\"10493\",\"10511\",\"10516\",\"10517\",\"10531\",\"10533\",\"10535\",\"10540\",\"10541\",\"10554\",\"10566\",\"10571\",\"10581\",\"10596\",\"10599\",\"10606\",\"10625\",\"10628\",\"10633\",\"10635\",\"10647\",\"10657\",\"10658\",\"10663\",\"10674\",\"10680\",\"10683\",\"10688\",\"10692\",\"10714\",\"10720\",\"10724\",\"10733\",\"10735\",\"10740\",\"10763\",\"10775\",\"10780\",\"10783\",\"10785\",\"10789\",\"10793\",\"10802\",\"10809\",\"10810\",\"10816\",\"10838\",\"10843\",\"10847\",\"10858\",\"10862\",\"10863\",\"10873\",\"10877\",\"10882\",\"10889\",\"10897\",\"10898\",\"10902\",\"10905\",\"10909\",\"10917\",\"10924\",\"10934\",\"10939\",\"10950\",\"10953\",\"10955\",\"10956\",\"10962\",\"10963\",\"10965\",\"10972\",\"10977\",\"10992\",\"10996\",\"11002\",\"11004\",\"11009\",\"11017\",\"11020\",\"11024\",\"11053\",\"11055\",\"11061\",\"11062\",\"11065\",\"11068\",\"11069\",\"11093\",\"11095\",\"11098\",\"11105\",\"11152\",\"11163\",\"11168\",\"11170\",\"11173\",\"11185\",\"11194\",\"11195\",\"11204\",\"11206\",\"11229\",\"11244\",\"11246\",\"11282\",\"11289\",\"11297\",\"11300\",\"11304\",\"11311\",\"11321\",\"11330\",\"11340\",\"11355\",\"11372\",\"11373\",\"11387\",\"11393\",\"11394\",\"11398\",\"11403\",\"11408\",\"11411\",\"11425\",\"11461\",\"11473\",\"11493\",\"11496\",\"11499\",\"11506\",\"11519\",\"11527\",\"11535\",\"11557\",\"11558\",\"11560\",\"11567\",\"11587\",\"11600\",\"11609\",\"11612\",\"11614\",\"11615\",\"11616\",\"11617\",\"11631\",\"11644\",\"11652\",\"11656\",\"11672\",\"11674\",\"11678\",\"11683\",\"11685\",\"11696\",\"11702\",\"11706\",\"11764\",\"11767\",\"11780\",\"11790\",\"11791\",\"11799\",\"11806\",\"11817\",\"11818\",\"11827\",\"11835\",\"11851\",\"11862\",\"11873\",\"11874\",\"11876\",\"11896\",\"11919\",\"11929\",\"11936\",\"11965\",\"11976\",\"11981\",\"11987\",\"12007\",\"12017\",\"12024\",\"12029\",\"12032\",\"12038\",\"12042\",\"12054\",\"12059\",\"12067\",\"12088\",\"12100\",\"12114\",\"12141\",\"12143\",\"12158\",\"12199\",\"12225\",\"12233\",\"12237\",\"12242\",\"12248\",\"12275\",\"12276\",\"12315\",\"12322\",\"12324\",\"12332\",\"12337\",\"12370\",\"12371\",\"12387\",\"12389\",\"12400\",\"12403\",\"12419\",\"12421\",\"12423\",\"12425\",\"12427\",\"12430\",\"12451\",\"12467\",\"12490\"],\"lfcSE\":{\"__ndarray__\":\"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\",\"dtype\":\"float64\",\"shape\":[1655]},\"log2FoldChange\":{\"__ndarray__\":\"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\",\"dtype\":\"float64\",\"shape\":[1655]},\"padj\":{\"__ndarray__\":\"hB/Cy+eo3D+iBwAAAADwf6IHAAAAAPB/ogcAAAAA8H879W/oKSXdPyCS43bVTNc/4m6rByyR3j8V1nF9+R/JP6IHAAAAAPB/6IR6iilQ1z83xYmrTPPeP6IHAAAAAPB/P4SsMcxl0D+VQ/wbwbLHP6IHAAAAAPB/pwPUpQAgwz+iBwAAAADwf3VskKKUO9A/ogcAAAAA8H8brZuz+G3dP4yNHsGvS8E/ogcAAAAA8H+iBwAAAADwf5zzjlkz9tw/ogcAAAAA8H+98MEiyOyiP4dqGG6vN94/ogcAAAAA8H9JvjpO9VfYP1cqymE6Ddo/ogcAAAAA8H+MYcawP4PTP06yyNipPtw/ogcAAAAA8H+pI01YCpeUPzev7tr6ga0//1qw9Jy92z/qxwwEnSLTP6IHAAAAAPB/BXh5ip4KxT9uyEesymenP0MxHkZ3udM/ogcAAAAA8H+wgpQh3wncPxqZ3LHZZdE/oRE6Otb1wD+jKHY2Yt3cP6IHAAAAAPB/AbqLwSpj1T+iBwAAAADwf7qJBgNdnt8/2ypEQ6pk3j+iBwAAAADwfy9xG43Pcds/rAwvXzWm3T8eHpuefA7eP6IHAAAAAPB/Bm2ZlFdM3j+iBwAAAADwfxNgmMQYQ7s/ogcAAAAA8H9XdeOvuvfUPzVxEDC6990/q8GLbG4trD+iBwAAAADwf6IHAAAAAPB/Oq0slQbV0T/YyZXGKaW2PyV6ZwA18rU/WXnpAdiC0j/AYaYrW0F6P9QbNYIeUNw/E9VPBw9BzT+MYcawP4PTPyFcFiKV/dg/h2oYbq833j+iBwAAAADwf8KeMxD1O3o/ogcAAAAA8H8F3H0pyiLaP6IHAAAAAPB/tlAa2fNvsD9ofd5pPWjIP9mhJaT2Msw/UbiEZxU5tz8T1U8HD0HNP6IHAAAAAPB/VyrKYToN2j/9jBQG2UzAP6IHAAAAAPB/uokGA12e3z+iBwAAAADwf2bnovCRYd4/b2yA7VoO3j9glQ+viNneP6IHAAAAAPB/ogcAAAAA8H92ERQnjGm0P+AUDYEv8sw/h9DZY2am3T+iBwAAAADwf46QSkbS8NU//bVgZWssyD+EH8LL56jcPwXcfSnKIto/w9Waj9eI0j+iBwAAAADwfzqtLJUG1dE/0NERWmEBvz+QFdSOC0bEP6IHAAAAAPB/Lh8maTELtT/INjVu0OiLPzc0Ffk82M8/ogcAAAAA8H9CJr2xO9vGP4xhxrA/g9M/qGzHaon6wT+iBwAAAADwf6IHAAAAAPB/wcnCKJ662T99/hfwR0HaP6IHAAAAAPB/ogcAAAAA8H+EH8LL56jcP6IHAAAAAPB/75irH2IX3z8eHpuefA7ePyOyR37mGc8/ogcAAAAA8H+iBwAAAADwf6IHAAAAAPB/RH7/wqc83j8cq6tROKDaP2mkWmTtUtw/6KVusnCjzj8ProWcxJDRP1emVKbHEr8/ogcAAAAA8H8PYSzUFqPdP0bz9YXQ2tQ/GnFhaWM71z+xuwOJkavVP6IHAAAAAPB/xbv6jRQswT9ZeekB2ILSP9jJlcYppbY/tOdRcr4duD+iBwAAAADwfzev7tr6ga0/VBGwiOPw1T+XV5lxRsLaP6IHAAAAAPB/v5R6euDluT8rP5wfkgbfPxYBir4xe5o/zf/d/7uJ0D/9Rz9ZZkvfPzv1b+gpJd0/l1eZcUbC2j+iBwAAAADwf6IHAAAAAPB/ogcAAAAA8H+iBwAAAADwf6IHAAAAAPB//GbPYlJv3T+Yuawa053QPw+uhZzEkNE/Bdx9Kcoi2j+9/a0Y94XcPzev7tr6ga0/v3pvs5Nm3z+MYcawP4PTP4QfwsvnqNw/ogcAAAAA8H9vbIDtWg7eP6IHAAAAAPB/ogcAAAAA8H+h4Z5rMq3JP283KGRz0cQ/xyGo6L1h2j+6iQYDXZ7fP6IHAAAAAPB/VJxZjFjw3j8sLtKCH0/cP9H0Fa3ahMo/L3Ebjc9x2z88x2P0BbDZPxPVTwcPQc0/Tt/ALxOi3j95Ini6ah3OPy9xG43Pcds/ogcAAAAA8H+7uhIgWRHbP+jbaQN/O9Y/ogcAAAAA8H+fvsOMGKDUPzv1b+gpJd0/5PNLdjFx3j+6iQYDXZ7fP6IHAAAAAPB/O/Vv6Ckl3T932sTRA0HUPzv1b+gpJd0/ogcAAAAA8H8TYJjEGEO7Py3uzvojINA/KoXF8+C12T+iBwAAAADwf6IHAAAAAPB/jGHGsD+D0z+cnnhRUo3fP7CClCHfCdw/70eO16am0T+iBwAAAADwf/1HP1lmS98/oJgp3TqAoT+iBwAAAADwf6IHAAAAAPB/Ym1HjLVP0D+iBwAAAADwfy9xG43Pcds/ogcAAAAA8H8lgtUQsq/RP6IHAAAAAPB/VyrKYToN2j+wgpQh3wncP0fhhLnjRto/vLFcnjj0yT9yhJ9fcQG1P67P9S9e4qY/ogcAAAAA8H99z3fxoZ3GP3KEn19xAbU/r8J7PUIiwT/eUjLl9v7QP6IHAAAAAPB/Mj1iznK0zD88FzM5fLDcP4QfwsvnqNw/nJ54UVKN3z/fO8CzlT2ZP5yeeFFSjd8/ogcAAAAA8H83r+7a+oGtP4dqGG6vN94/ogcAAAAA8H/nsaxwE+zTP6IHAAAAAPB/sRMff3E33D+iBwAAAADwf+jbaQN/O9Y/ZOilBexuwD+iBwAAAADwf7qJBgNdnt8/KoXF8+C12T+iBwAAAADwf272MjGKuNo/4m6rByyR3j+iBwAAAADwf7qJBgNdnt8/ogcAAAAA8H+oHLxkfjq3P6IHAAAAAPB/UNwRzrqpnD+32fGIaWS9P8bCOh2bedw/ogcAAAAA8H9vbIDtWg7eP6IHAAAAAPB/ogcAAAAA8H8qhcXz4LXZP8bCOh2bedw/PBczOXyw3D9+MVr7OqzGPw2n9jL7Z94/ogcAAAAA8H82A3PBUwzEP3Ku4A5nWdE/L3RXIG3i0T+dJjO/E8fcP07RxuiTBs0/ogcAAAAA8H8HykRZkXPGPxY+8q2M97s/bLX+EUED2z+QFdSOC0bEP6IHAAAAAPB/ogcAAAAA8H+obMdqifrBPxpxYWljO9c/ogcAAAAA8H+7uhIgWRHbP7G41SdmWtY/MAcaVyat0z9p/N78ExDLP6IHAAAAAPB/5PNLdjFx3j+L2g6GKS/FP6IHAAAAAPB/O5++S7xY3z+iBwAAAADwf88jqMF8Y9Y/Kz+cH5IG3z86l3/iLKyyP/9asPScvds/ogcAAAAA8H+iBwAAAADwf6IHAAAAAPB/N6/u2vqBrT+obMdqifrBP6IHAAAAAPB/E9VPBw9BzT/NXTXlL7GSP5hEXqaUCtA/sIKUId8J3D/o22kDfzvWP/9asPScvds/ogcAAAAA8H88JWzYNpzTP5WQHg8oddU/ogcAAAAA8H9570DAvFvSP6IHAAAAAPB/rCtpNGQ03j+iBwAAAADwf6IHAAAAAPB/ogcAAAAA8H+iBwAAAADwf0N/IXs7ZcA/ogcAAAAA8H+DxRR3wrTTP6IHAAAAAPB/ogcAAAAA8H8dorrWQ465P6IHAAAAAPB/QK6wuDM61D94zS2nsoXUP0MxHkZ3udM/TrLI2Kk+3D/Im+0tWh/FP8bCOh2bedw/ogcAAAAA8H9ZeekB2ILSPziCLkkpQJw/ogcAAAAA8H81cRAwuvfdP8bCOh2bedw/f1OBjzaEoz9c0eoBSRK5P6IHAAAAAPB/hB/Cy+eo3D+iBwAAAADwf6IHAAAAAPB/BokZfQEqgT+iBwAAAADwf739rRj3hdw/ogcAAAAA8H+iBwAAAADwf7KqzxECOM8/ogcAAAAA8H+iBwAAAADwf2bnovCRYd4/oZPnVFHQ1T85FmVTQRHeP6IHAAAAAPB/ogcAAAAA8H/mkpSDv8HRP/UHqQOX5Kg/Mj1iznK0zD8vcRuNz3HbPw9hLNQWo90/nPOOWTP23D+nxSaAVpjRP6IHAAAAAPB/d9rE0QNB1D+iBwAAAADwf5zzjlkz9tw/Zuei8JFh3j+iBwAAAADwf5zzjlkz9tw/7SqOimHJ2z+iBwAAAADwf6IHAAAAAPB/ekTqT9+Cjz+iBwAAAADwfxPVTwcPQc0/MAcaVyat0z91bJCilDvQP/1HP1lmS98/ogcAAAAA8H+tiK3h163KP6IHAAAAAPB/57GscBPs0z9N1RZGNErKP6IHAAAAAPB/9QepA5fkqD+c845ZM/bcP6IHAAAAAPB/ogcAAAAA8H+iBwAAAADwf04vOxcNS8o/wUQwwVCG2z+iBwAAAADwfwctoza22tQ/ogcAAAAA8H+iBwAAAADwf6IHAAAAAPB/b2yA7VoO3j8yPWLOcrTMP8oKsWqUpKY/b9qkYFDylj9Q3BHOuqmcP5zzjlkz9tw/ogcAAAAA8H9O3zPNugTWPxD4afEalNE/ogcAAAAA8H9XKsphOg3aP6IHAAAAAPB/kb+j2mlSzD+m6Wmvt9HRP4yBlRSV49w/eDxyBwIduT/l5mpXMbPVPzwXMzl8sNw/ogcAAAAA8H8rP5wfkgbfPzAHGlcmrdM/BokZfQEqgT8T1U8HD0HNP6IHAAAAAPB/Lh8maTELtT+iBwAAAADwf3VskKKUO9A/PKcs7aJ4xz+iBwAAAADwf6WPJsLipdk/ORZlU0ER3j+iBwAAAADwfywu0oIfT9w/ogcAAAAA8H/9zgJ0I2mXP6IHAAAAAPB/iwg3UxXz3T8lwsdtTvK6P2TopQXsbsA/hESsIE5vwD8vcRuNz3HbP5TE9cLzOds/N2BtZ9CX3T+iBwAAAADwf6IHAAAAAPB/ogcAAAAA8H+HahhurzfePzmzZ7xJzt0/h2oYbq833j+c845ZM/bcP8bCOh2bedw/fW9tWZsktT/5kF+9jI7UP6IHAAAAAPB/ogcAAAAA8H/oZOEgX5e0Pys/nB+SBt8/EeHW1kTI2j+iBwAAAADwf6IHAAAAAPB/L3Ebjc9x2z8GbZmUV0zeP6IHAAAAAPB/Mj1iznK0zD+iBwAAAADwf4YMUro069Q/ogcAAAAA8H+8D5tA+nugP4K1IRVKqMc/ogcAAAAA8H+lUCHtegfdP8PVmo/XiNI/L3Ebjc9x2z/Gwjodm3ncP6IHAAAAAPB/GnFhaWM71z/s3s8DObi7PzwlbNg2nNM/WXnpAdiC0j+iBwAAAADwf6IHAAAAAPB/Wk0kd68/yT+c845ZM/bcP6cD1KUAIMM/57GscBPs0z+iBwAAAADwfywu0oIfT9w/rCtpNGQ03j/FL6v7zKvUPzkWZVNBEd4/ogcAAAAA8H8WAYq+MXuaP4sIN1MV890/ogcAAAAA8H+iBwAAAADwf6IHAAAAAPB/CYuhagPM2D+iBwAAAADwf6IHAAAAAPB/ogcAAAAA8H9Ah01331nRP6IHAAAAAPB/ogcAAAAA8H+JFYwf/V/aP8uJfOLl3tw/ogcAAAAA8H9blw83Y7/TP91Ib0ytW98/nPOOWTP23D/KEY3AOMrbP6IHAAAAAPB/6/dL9YJt0T8F3H0pyiLaP6IHAAAAAPB/ogcAAAAA8H8eHpuefA7ePzreoURWgLg/U6CI7eUu2T/QWKADYMypPxyrq1E4oNo/hB/Cy+eo3D8F3H0pyiLaP8hvDnNsdto/ogcAAAAA8H+iBwAAAADwf6IHAAAAAPB/LC7Sgh9P3D+obMdqifrBP6IHAAAAAPB/PBczOXyw3D9XrKnlBsHHP6IHAAAAAPB/ogcAAAAA8H+iBwAAAADwf+zezwM5uLs/e32QA85R0T+iBwAAAADwf6IHAAAAAPB/Mj1iznK0zD+iBwAAAADwf08XLVSRcNg/sIKUId8J3D+iBwAAAADwfyeR1H0snzg5zhfRh2tjyj+iBwAAAADwf4dqGG6vN94/ogcAAAAA8H8psbJRWdXAP6IHAAAAAPB/ogcAAAAA8H+MYcawP4PTP8oKsWqUpKY/2ypEQ6pk3j/zj2Fg9ivEP6IHAAAAAPB/sbjVJ2Za1j+uz/UvXuKmP6IHAAAAAPB/nPOOWTP23D+EH8LL56jcP6IHAAAAAPB/ogcAAAAA8H+MYcawP4PTPx8IhAw7rHI/ogcAAAAA8H9OssjYqT7cPxpxYWljO9c/uokGA12e3z+iBwAAAADwf6CYKd06gKE/h2oYbq833j+iBwAAAADwf0dsPoGrdtA/5gF+jDCs1T+iBwAAAADwfyBkuZ7AUc0/Fx12X7tNwz+iBwAAAADwfxqZ3LHZZdE/dFvLlWhj2D+GL55gbdTdP7CClCHfCdw/dWyQopQ70D879W/oKSXdPzwlbNg2nNM/ogcAAAAA8H+iBwAAAADwf3KEn19xAbU/lqLZFk9+wz8lwsdtTvK6Pxcddl+7TcM/ogcAAAAA8H+iBwAAAADwfywu0oIfT9w/ogcAAAAA8H/qon16j3XdPys/nB+SBt8/ogcAAAAA8H+iBwAAAADwfwKt6fBP9Jo+coSfX3EBtT9NgEjmm83VPzAHGlcmrdM/ogcAAAAA8H+iBwAAAADwf84X0YdrY8o/xsI6HZt53D+iBwAAAADwf3faxNEDQdQ/k/geLJDn2z/ST891mx/MPy4fJmkxC7U/ogcAAAAA8H/8Zs9iUm/dP6IHAAAAAPB/ogcAAAAA8H/nsaxwE+zTP6IHAAAAAPB/ogcAAAAA8H+iBwAAAADwf4ROGzffQtg/0xdMHI2H0z+iBwAAAADwf/3OAnQjaZc/q7qeunC73j8F3H0pyiLaPyOyR37mGc8/eM0tp7KF1D+VAs6QRuIYP7qJBgNdnt8/ogcAAAAA8H+iBwAAAADwf4BqD/aGL9Y/5gF+jDCs1T/vR47XpqbRPzkWZVNBEd4/w4tczayckz+vwns9QiLBP6IHAAAAAPB/FdZxffkfyT8sLtKCH0/cP8XYXVqjVNM/3zb9ryRI2T+iBwAAAADwf02ASOabzdU/ogcAAAAA8H+iBwAAAADwfzI9Ys5ytMw/cga4KHIQxz+iBwAAAADwf2y1/hFBA9s/LC7Sgh9P3D8sLtKCH0/cP7fZ8YhpZL0/ogcAAAAA8H+iBwAAAADwf4lOi4zItaI/ogcAAAAA8H+EH8LL56jcP8GWCAew4tU/MAcaVyat0z9Nk8vGJn7XP/+qmJCeod0/eM0tp7KF1D/Gwjodm3ncP6IHAAAAAPB/nPOOWTP23D+iBwAAAADwf6IHAAAAAPB/pY8mwuKl2T+iBwAAAADwf52Ds0g9sMQ/70eO16am0T91bJCilDvQP6IHAAAAAPB/ogcAAAAA8H/Di1zNrJyTP6IHAAAAAPB/ogcAAAAA8H+iBwAAAADwf1cqymE6Ddo/ogcAAAAA8H/9Rz9ZZkvfP5yeeFFSjd8/AlLiSSQ02z+Nsb0FwIzOPxutm7P4bd0/ogcAAAAA8H8F3H0pyiLaP6IHAAAAAPB/Ym5QatB3zT81giOZdSnUP6IHAAAAAPB/uokGA12e3z9ZeekB2ILSP1OgiO3lLtk/vf2tGPeF3D+9/a0Y94XcP4RErCBOb8A/ogcAAAAA8H+MYcawP4PTP6IHAAAAAPB/ogcAAAAA8H8yPWLOcrTMPyaXh1z0g9U/Q38heztlwD+iBwAAAADwf6IHAAAAAPB/sIKUId8J3D8eHpuefA7eP+TzS3Yxcd4/ogcAAAAA8H+iBwAAAADwfwEgZocyUtE/ogcAAAAA8H+iBwAAAADwfzkWZVNBEd4/E9VPBw9BzT/qefG/AIzMP6vBi2xuLaw/q8GLbG4trD+iBwAAAADwf4xhxrA/g9M/ogcAAAAA8H+EH8LL56jcP4BqD/aGL9Y/RvP1hdDa1D8rP5wfkgbfP50mM78Tx9w/bPL64oj92j88FzM5fLDcP6IHAAAAAPB/dWyQopQ70D+7uhIgWRHbP7qJBgNdnt8/hB/Cy+eo3D+6CBpJlMTbP4dqGG6vN94/nmGQtsos3z8GbZmUV0zeP6vBi2xuLaw/0k/PdZsfzD+iBwAAAADwf4jrKHQjp8o/ogcAAAAA8H83xYmrTPPeP6kjTVgKl5Q/b2yA7VoO3j+nxSaAVpjRP9H0Fa3ahMo/EllAW6oK1T/ev6Iq/xvUP6F8ea9RNcE/ogcAAAAA8H+iBwAAAADwf9DREVphAb8/ogcAAAAA8H+iBwAAAADwf++Yqx9iF98/ogcAAAAA8H/qxwwEnSLTP6IHAAAAAPB/oThV/TCR0D9Efv/CpzzeP4QfwsvnqNw/ogcAAAAA8H+iBwAAAADwf4xhxrA/g9M/z3pQUdME2D8l0ZJ/NE1ZP6IHAAAAAPB/Tt/ALxOi3j+Yuawa053QP3Ku4A5nWdE/B54i+iy2oz8vdFcgbeLRP6IHAAAAAPB/ogcAAAAA8H+iBwAAAADwf5dXmXFGwto/ogcAAAAA8H/4tRzzRNC8P6IHAAAAAPB/CYuhagPM2D+iBwAAAADwfy9xG43Pcds/G8qcRKs7pT/antLubxvZPw9hLNQWo90/OIIuSSlAnD+EH8LL56jcPzdgbWfQl90/1Bs1gh5Q3D8lemcANfK1P6IHAAAAAPB/cga4KHIQxz8wBxpXJq3TP1l56QHYgtI/ogcAAAAA8H+iBwAAAADwf9DREVphAb8/a0/a8Mov1j+iBwAAAADwf6IHAAAAAPB/nPOOWTP23D9+MVr7OqzGP8NxkaR+bL0/0NERWmEBvz+iBwAAAADwf8bCOh2bedw/cq7gDmdZ0T/ibqsHLJHePzAHGlcmrdM/bnAeNXRG2T9ArrC4MzrUP6IHAAAAAPB//Uc/WWZL3z+iBwAAAADwf6IHAAAAAPB/Bm2ZlFdM3j9/CGCVOzDOP7J4A4B1TZ8//Uc/WWZL3z+iBwAAAADwf9GNRmLB490/iU6LjMi1oj+iBwAAAADwf6IHAAAAAPB/ogcAAAAA8H9bo+haVXnJP6IHAAAAAPB//afn87hk3D85FmVTQRHeP5GkQ0CnbcU//Uc/WWZL3z+gH44PoSzOP6IHAAAAAPB/N8WJq0zz3j+iBwAAAADwf6IHAAAAAPB/tinJu8HX0j+obMdqifrBP34xWvs6rMY/ogcAAAAA8H+iBwAAAADwf6TyvlAYItE/GnFhaWM71z/8Zs9iUm/dP7qJBgNdnt8/ogcAAAAA8H/N/93/u4nQP4RtdEqKvtg/E9pwGX0ozj+iBwAAAADwf6IHAAAAAPB/oqjmyXhqwT+iBwAAAADwf5dXmXFGwto/ogcAAAAA8H9yruAOZ1nRP6IHAAAAAPB/koXWe3QfuD9+iIoCA/PEP0ixJlsDg8s/ogcAAAAA8H+mZ3y04CyYP+wAvh60kK0/r8JZdZ2Z3D+iBwAAAADwf8rBdytEIsw/ogcAAAAA8H+iBwAAAADwf/9asPScvds/ogcAAAAA8H/wMR0PNmXfP3O6VEob0Mg/YBrbQgWHqj863qFEVoC4P6fFJoBWmNE/q8GLbG4trD97C2rKIwjDP5zzjlkz9tw/ogcAAAAA8H+QFdSOC0bEPys/nB+SBt8/sIKUId8J3D+aoOimJB7eP8PVmo/XiNI/2TdzlBv/3D9yruAOZ1nRP0G4MeUJvdc/lBbunC7eRD8yPWLOcrTMP7G7A4mRq9U/TpAg+k9tuz+wgpQh3wncP8hvDnNsdto/ogcAAAAA8H+iBwAAAADwf3Ku4A5nWdE/nmGQtsos3z+iBwAAAADwfys/nB+SBt8/7N7PAzm4uz9O0cbokwbNP+wbgiG7ENE/ogcAAAAA8H+iBwAAAADwf87h9ZbPm9M/D2Es1Baj3T+iBwAAAADwf9MXTByNh9M/O/Vv6Ckl3T+iBwAAAADwf6IHAAAAAPB/ogcAAAAA8H+obMdqifrBP6IHAAAAAPB/Zuei8JFh3j+EH8LL56jcP0iIlf1ZR9A/LC7Sgh9P3D/1B6kDl+SoP5++w4wYoNQ/XNHqAUkSuT+iBwAAAADwf6IHAAAAAPB/ogcAAAAA8H/vmKsfYhffP6IHAAAAAPB/ogcAAAAA8H8TLM729c2+PwXcfSnKIto/3TPD+fBbgT+hfHmvUTXBP6F8ea9RNcE/GnFhaWM71z83YG1n0JfdP4dqGG6vN94/ogcAAAAA8H+iBwAAAADwf6IHAAAAAPB/GnFhaWM71z+iBwAAAADwf2CVD6+I2d4/8zIjzaIV2j+dk5AqQq+vP8hvDnNsdto/6NtpA3871j9JvjpO9VfYPywu0oIfT9w/nSYzvxPH3D9glQ+viNneP/1HP1lmS98/ogcAAAAA8H+fCWDNSzbYP8bCOh2bedw/mWUESARnpz8HLaM2ttrUP1CTRC/srts/Bm2ZlFdM3j+iBwAAAADwf6IHAAAAAPB/j+UtCeuL3D97fZADzlHRP6IHAAAAAPB/ogcAAAAA8H9wB49U8d7AP6IHAAAAAPB/ogcAAAAA8H/5kF+9jI7UP6IHAAAAAPB/ygqxapSkpj89mIewT9y/Pzv1b+gpJd0/ogcAAAAA8H8GbZmUV0zeP6IHAAAAAPB/Lh8maTELtT88FzM5fLDcP6IHAAAAAPB/ogcAAAAA8H+iBwAAAADwf6IHAAAAAPB/ogcAAAAA8H+dJjO/E8fcP6IHAAAAAPB/hB/Cy+eo3D/k80t2MXHeP6IHAAAAAPB/W/FQGz4Txz9yruAOZ1nRP06yyNipPtw/ogcAAAAA8H/dM8P58FuBPydo/MLppcE/c7pUShvQyD+iBwAAAADwfyovXws1W8g/Mj1iznK0zD+iBwAAAADwfwD5N0w8YNU/rDpMYm6J0D+iBwAAAADwf272MjGKuNo/2MmVximltj+iBwAAAADwf41YYDwp85w/e32QA85R0T+iBwAAAADwf3faxNEDQdQ/OIIuSSlAnD+iBwAAAADwf6IHAAAAAPB/PKcs7aJ4xz+dJjO/E8fcP5zzjlkz9tw/IVwWIpX92D8eHpuefA7eP6IHAAAAAPB/ogcAAAAA8H+wgpQh3wncP6T1Co20L7Y/ogcAAAAA8H+iBwAAAADwf1WtKx5Bs90/N/7ea4g93z8acWFpYzvXP3faxNEDQdQ/ogcAAAAA8H9aojKuNzPfP6IHAAAAAPB/hESsIE5vwD+xuNUnZlrWP6IHAAAAAPB/nPOOWTP23D9m56LwkWHeP6IHAAAAAPB/nPOOWTP23D8ProWcxJDRP6IHAAAAAPB/ogcAAAAA8H+ZMOsdjkrUP4YvnmBt1N0/ogcAAAAA8H+iBwAAAADwf5++w4wYoNQ/LC7Sgh9P3D+iBwAAAADwf1qiMq43M98/ogcAAAAA8H8nyPiZzICxP6IHAAAAAPB/sIKUId8J3D+EH8LL56jcP6IHAAAAAPB/LqQpO8r/0j+iBwAAAADwf4QfwsvnqNw/ogcAAAAA8H+MjR7Br0vBP6IHAAAAAPB/iRgcQ7mdrj8PYSzUFqPdP6IHAAAAAPB/L3Ebjc9x2z+iBwAAAADwf6IHAAAAAPB/ogcAAAAA8H/Gwjodm3ncPzv1b+gpJd0/xsI6HZt53D8cq6tROKDaP8Uvq/vMq9Q/GsYV2rX8yT+iBwAAAADwf6IHAAAAAPB/zyOowXxj1j+rwYtsbi2sP6IHAAAAAPB/ff4X8EdB2j+c845ZM/bcPwWu0Gl0Grk/ogcAAAAA8H88FzM5fLDcP04OneS6Fds/h2oYbq833j+iBwAAAADwf6IHAAAAAPB/D2Es1Baj3T+XV5lxRsLaPzAHGlcmrdM/ogcAAAAA8H+dJjO/E8fcP6IHAAAAAPB/ogcAAAAA8H8vcRuNz3HbP2TopQXsbsA/ogcAAAAA8H+iBwAAAADwf+iEeoopUNc/ogcAAAAA8H9HbD6Bq3bQP6IHAAAAAPB/L3Ebjc9x2z+iBwAAAADwf6IHAAAAAPB/7N7PAzm4uz86rSyVBtXRP5zzjlkz9tw/ogcAAAAA8H/bKkRDqmTeP6IHAAAAAPB/WXnpAdiC0j+EH8LL56jcP6IHAAAAAPB/nPOOWTP23D+iBwAAAADwf6IHAAAAAPB/rDndsryIoz+iBwAAAADwf4QfwsvnqNw/LCUVB2nB1D+iBwAAAADwf6IHAAAAAPB/b04kz82NwT+iBwAAAADwfzdwZyTUfNY/ogcAAAAA8H+iBwAAAADwfzSzwlKeTdY/lMT1wvM52z/C2cuN2HcFP5++w4wYoNQ/ogcAAAAA8H/OttWwNkPNP5t8JTqARs4/ogcAAAAA8H/k80t2MXHeP0ImvbE728Y/ogcAAAAA8H8WAYq+MXuaP4dqGG6vN94/Kz+cH5IG3z+iBwAAAADwf6IHAAAAAPB/ogcAAAAA8H+iBwAAAADwf8bCOh2bedw/ogcAAAAA8H+iBwAAAADwf+3+1wfmq6o/ogcAAAAA8H/eufsc/0XQP6Y7nUuEhMw/h2oYbq833j8GTdZQpYvOP2t3TTSQTc0/FgGKvjF7mj8/hKwxzGXQP7KG0xrIetE/ogcAAAAA8H+iBwAAAADwfymskJx2iPk+ogcAAAAA8H8acWFpYzvXP4kYHEO5na4/ogcAAAAA8H+iBwAAAADwf6IHAAAAAPB/nwlgzUs22D/zWF+HoRTAP6IHAAAAAPB/PfDXuIdrwT+iBwAAAADwf27To7vkMLY/ogcAAAAA8H+iBwAAAADwfxutm7P4bd0/ogcAAAAA8H/t/tcH5quqP6IHAAAAAPB/ogcAAAAA8H9vTiTPzY3BPxyrq1E4oNo/EllAW6oK1T8EV51nHeWgPwZtmZRXTN4/XLVJ1nil2T+iBwAAAADwf6IHAAAAAPB/sqMq4Wp6tj8vcRuNz3HbP5i5rBrTndA/O/Vv6Ckl3T/PelBR0wTYPwXcfSnKIto/AB7g12Y10z+XV5lxRsLaPziCLkkpQJw/pDOc1hzrrz+iBwAAAADwf6IHAAAAAPB/ogcAAAAA8H+/em+zk2bfP5xk2PDQINg/LC7Sgh9P3D8acWFpYzvXPy9xG43Pcds/Kz+cH5IG3z85FmVTQRHeP8W7+o0ULME/Bdx9Kcoi2j+iBwAAAADwf6IHAAAAAPB/qGzHaon6wT+iBwAAAADwf7CvN+R9DdE/h2oYbq833j+iBwAAAADwf8FoVyHnw9g/ogcAAAAA8H+iBwAAAADwfzWCI5l1KdQ/dWyQopQ70D+Aag/2hi/WP9DREVphAb8/jglEae7t7D6EH8LL56jcPys/nB+SBt8/Kz+cH5IG3z+iBwAAAADwf/UHqQOX5Kg/ogcAAAAA8H+nxSaAVpjRPxHh1tZEyNo/vf2tGPeF3D+iBwAAAADwf5dXmXFGwto/Zuei8JFh3j8t7s76IyDQP6IHAAAAAPB/ASBmhzJS0T+HahhurzfeP6IHAAAAAPB/p8UmgFaY0T/R9BWt2oTKP4xhxrA/g9M/kBXUjgtGxD8yPWLOcrTMP6IHAAAAAPB/ogcAAAAA8H+iBwAAAADwf29sgO1aDt4/Q38heztlwD+iBwAAAADwf5dXmXFGwto/zf/d/7uJ0D+iBwAAAADwf6IHAAAAAPB/G62bs/ht3T+iBwAAAADwf6w4aV0tjt8/AfEDf3sw0j90OdugxfrbP6IHAAAAAPB/WqIyrjcz3z898Ne4h2vBP4dqGG6vN94/Mj1iznK0zD+iBwAAAADwf/21YGVrLMg/rDndsryIoz+iBwAAAADwf796b7OTZt8/9bvwLgUZoD/O2Bb4orPfPy4fJmkxC7U/ogcAAAAA8H+iBwAAAADwf6HiVQ/Vpt0/Mj1iznK0zD+iBwAAAADwf6IHAAAAAPB/MAcaVyat0z+9/a0Y94XcP4sIN1MV890/zf/d/7uJ0D+iBwAAAADwf6IHAAAAAPB/LC7Sgh9P3D+EH8LL56jcP6IHAAAAAPB/ogcAAAAA8H9v2qRgUPKWP6IHAAAAAPB/ogcAAAAA8H8EazzFW/LZPwkTPxwq7ck/SSXipkm12T9BuDHlCb3XP/efGTVd3dQ/ogcAAAAA8H+xuNUnZlrWP6IHAAAAAPB/ogcAAAAA8H+EH8LL56jcPwXcfSnKIto/LC7Sgh9P3D+iBwAAAADwf2bnovCRYd4/53IX1u+mzT+iBwAAAADwf6IHAAAAAPB/2TdzlBv/3D+iBwAAAADwf7yxXJ449Mk/NLPCUp5N1j8eHpuefA7eP5AV1I4LRsQ/ogcAAAAA8H+iBwAAAADwf+64sQ6k3LQ/sIKUId8J3D/s3s8DObi7P41YYDwp85w/ST6+leqE3T+iBwAAAADwfyFcFiKV/dg/6scMBJ0i0z+iBwAAAADwf+wpXBd+l9k+ogcAAAAA8H+iBwAAAADwf2tP2vDKL9Y/cq7gDmdZ0T+XV5lxRsLaP6IHAAAAAPB/Lh8maTELtT+dg7NIPbDEP3jNLaeyhdQ/ogcAAAAA8H/nsaxwE+zTPxpxYWljO9c/ogcAAAAA8H9ZeekB2ILSP6IHAAAAAPB/ogcAAAAA8H99/hfwR0HaP2QiOkqk7cI/ogcAAAAA8H/qefG/AIzMP6IHAAAAAPB/ogcAAAAA8H+iBwAAAADwf+0qjophyds/0xdMHI2H0z+iBwAAAADwfwAe4NdmNdM/Zuei8JFh3j+iBwAAAADwf6IHAAAAAPB/ogcAAAAA8H+iBwAAAADwf6IHAAAAAPB/RvP1hdDa1D+6CBpJlMTbP6IHAAAAAPB/gP2pvHmJ3T9DfyF7O2XAP4xhxrA/g9M/ogcAAAAA8H+MYcawP4PTP/UHqQOX5Kg/ogcAAAAA8H+iBwAAAADwf/9asPScvds/KoXF8+C12T/O4fWWz5vTP9H0Fa3ahMo/cq7gDmdZ0T+iBwAAAADwf5zzjlkz9tw/D2Es1Baj3T+iBwAAAADwf3Rby5VoY9g/FgGKvjF7mj/D1ZqP14jSP6IHAAAAAPB/ogcAAAAA8H+iBwAAAADwf0N/IXs7ZcA/ogcAAAAA8H94MUL6ugPSP4sIN1MV890/ogcAAAAA8H+iBwAAAADwf3jNLaeyhdQ/XioZRsXFyD+iBwAAAADwf6IHAAAAAPB/YZyzOig10z+iBwAAAADwf9H0Fa3ahMo/ogcAAAAA8H+iBwAAAADwf13Rq/O4bNs/ogcAAAAA8H+MYcawP4PTPxpxYWljO9c/8zIjzaIV2j+nxSaAVpjRP6IHAAAAAPB/Fx12X7tNwz//WrD0nL3bP6IHAAAAAPB/7SqOimHJ2z84gi5JKUCcP+3+1wfmq6o/ogcAAAAA8H+iBwAAAADwfxpxYWljO9c/ogcAAAAA8H+iBwAAAADwf91Ib0ytW98/WXnpAdiC0j+iBwAAAADwf6IHAAAAAPB/ogcAAAAA8H/Gwjodm3ncP6IHAAAAAPB/Hh6bnnwO3j+XV5lxRsLaPywu0oIfT9w/N6/u2vqBrT+iBwAAAADwf6IHAAAAAPB/ogcAAAAA8H+iBwAAAADwf6kjTVgKl5Q/9bvwLgUZoD+iBwAAAADwf6IHAAAAAPB/K6YCGuht2T9QYEPusEnTP6hsx2qJ+sE/eM0tp7KF1D+iBwAAAADwf6IHAAAAAPB/Qbgx5Qm91z+iBwAAAADwf3kieLpqHc4/7N7PAzm4uz8vcRuNz3HbP5X6561uc7o/R+8PDaaw3j+iBwAAAADwfy3uzvojINA/NDlAOWKykz+iBwAAAADwf+60TKuqc9Q/ogcAAAAA8H9ODp3kuhXbP6IHAAAAAPB//c4CdCNplz9XKsphOg3aP2bnovCRYd4/ToTN4YNb0j88FzM5fLDcP6IHAAAAAPB/d0rGzY461j+iBwAAAADwf67cejgIX9U/ogcAAAAA8H+sDC9fNabdP+F/9rXwNbc/ogcAAAAA8H/bHuV7xfq6P8bCOh2bedw/Bm2ZlFdM3j9u9jIxirjaP4dqGG6vN94/l1eZcUbC2j+nA9SlACDDP42xvQXAjM4/Lh8maTELtT+QFdSOC0bEP+jbaQN/O9Y/hB/Cy+eo3D/1B6kDl+SoP6IHAAAAAPB/jGHGsD+D0z9vTiTPzY3BP6IHAAAAAPB/LC7Sgh9P3D+iBwAAAADwf4QfwsvnqNw/4m6rByyR3j8GbZmUV0zeP4q4QzLRHMo+yG8Oc2x22j88FzM5fLDcP6IHAAAAAPB/ogcAAAAA8H+iBwAAAADwfyKvB+jXU9c/Ot6hRFaAuD91VA+hkS3aP4QfwsvnqNw/WXnpAdiC0j8WP2tuaXzZP+Juqwcskd4/rbevKwIp1z+c845ZM/bcP+zezwM5uLs/ogcAAAAA8H9etlGi4te1P+0qjophyds/ogcAAAAA8H8rP5wfkgbfPzAHGlcmrdM/ogcAAAAA8H9CJr2xO9vGP2y1/hFBA9s/70eO16am0T+iBwAAAADwf6IHAAAAAPB/ogcAAAAA8H/EtTy1dVq/P6IHAAAAAPB/gGoP9oYv1j+iBwAAAADwf6IHAAAAAPB/l1eZcUbC2j/Q3XmRaHCWP6IHAAAAAPB/ogcAAAAA8H+iBwAAAADwf6IHAAAAAPB/E9VPBw9BzT8CKZmhuh1sPxPVTwcPQc0/Hh6bnnwO3j/AYaYrW0F6P6IHAAAAAPB//YwUBtlMwD+iBwAAAADwf6IHAAAAAPB/b04kz82NwT+iBwAAAADwfxPacBl9KM4/E9VPBw9BzT+GL55gbdTdPzv1b+gpJd0/Oq0slQbV0T+iBwAAAADwf6IHAAAAAPB/l1eZcUbC2j8wBxpXJq3TP6IHAAAAAPB/ogcAAAAA8H8PYSzUFqPdP7oIGkmUxNs/ogcAAAAA8H8R4dbWRMjaP6IHAAAAAPB/ogcAAAAA8H8rP5wfkgbfPw9hLNQWo90/d9rE0QNB1D8GbZmUV0zeP80GtN59HdA/ogcAAAAA8H8HLaM2ttrUP4ROGzffQtg/ogcAAAAA8H8M7j2mS2BIP6IHAAAAAPB/ogcAAAAA8H91bJCilDvQP6IHAAAAAPB/O5yK/2fWOj+iBwAAAADwf7CClCHfCdw/ogcAAAAA8H8XHXZfu03DP6IHAAAAAPB/nPOOWTP23D+kXAaxjhrfP6IHAAAAAPB/d9rE0QNB1D+iBwAAAADwf7YpybvB19I/GORgsEpF1T+iBwAAAADwf6IHAAAAAPB/ogcAAAAA8H+iBwAAAADwf6IHAAAAAPB/ogcAAAAA8H8wBxpXJq3TP/8ugpsE/9g/7+p8HrDImT+iBwAAAADwf6IHAAAAAPB/ogcAAAAA8H9LkAF3e46yP6IHAAAAAPB/GnFhaWM71z+iBwAAAADwf6IHAAAAAPB/uokGA12e3z/1xSeXzXirP6IHAAAAAPB/cq7gDmdZ0T/tKo6KYcnbP6IHAAAAAPB/ogcAAAAA8H9mP3K+4GzcP+q8VNYrLdg/sIKUId8J3D8WAYq+MXuaPy3uzvojINA/ogcAAAAA8H879W/oKSXdP6IHAAAAAPB/ogcAAAAA8H/TpuUssUvTP6IHAAAAAPB/p8UmgFaY0T+iBwAAAADwf6IHAAAAAPB/ogcAAAAA8H+iBwAAAADwf7CvN+R9DdE/ogcAAAAA8H86l3/iLKyyP6IHAAAAAPB/sngDgHVNnz+iBwAAAADwf8k94h7sgdM/ogcAAAAA8H+iBwAAAADwf1l56QHYgtI/ogcAAAAA8H8vcRuNz3HbPw==\",\"dtype\":\"float64\",\"shape\":[1655]},\"pvalue\":{\"__ndarray__\":\"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\",\"dtype\":\"float64\",\"shape\":[1655]},\"size\":[7,7,7,7,7,7,7,7,7,7,7,7,7,7,7,7,7,7,7,7,7,7,7,7,7,7,7,7,7,7,7,7,7,7,7,7,7,7,7,7,7,7,7,7,7,7,7,7,7,7,7,7,7,7,7,7,7,7,7,7,7,7,7,7,7,7,7,7,7,7,7,7,7,7,7,7,7,7,7,7,7,7,7,7,7,7,7,7,7,7,7,7,7,7,7,7,7,7,7,7,7,7,7,7,7,7,7,7,7,7,7,7,7,7,7,7,7,7,7,7,7,7,7,7,7,7,7,7,7,7,7,7,7,7,7,7,7,7,7,7,7,7,7,7,7,7,7,7,7,7,7,7,7,7,7,7,7,7,7,7,7,7,7,7,7,7,7,7,7,7,7,7,7,7,7,7,7,7,7,7,7,7,7,7,7,7,7,7,7,7,7,7,7,7,7,7,7,7,7,7,7,7,7,7,7,7,7,7,7,7,7,7,7,7,7,7,7,7,7,7,7,7,7,7,7,7,7,7,7,7,7,7,7,7,7,7,7,7,7,7,7,7,7,7,7,7,7,7,7,7,7,7,7,7,7,7,7,7,7,7,7,7,7,7,7,7,7,7,7,7,7,7,7,7,7,7,7,7,7,7,7,7,7,7,7,7,7,7,7,7,7,7,7,7,7,7,7,7,7,7,7,7,7,7,7,7,7,7,7,7,7,7,7,7,7,7,7,7,7,7,7,7,7,7,7,7,7,7,7,7,7,7,7,7,7,7,7,7,7,7,7,7,7,7,7,7,7,7,7,7,7,7,7,7,7,7,7,7,7,7,7,7,7,7,7,7,7,7,7,7,7,7,7,7,7,7,7,7,7,7,7,7,7,7,7,7,7,7,7,7,7,7,7,7,7,7,7,7,7,7,7,7,7,7,7,7,7,7,7,7,7,7,7,7,7,7,7,7,7,7,7,7,7,7,7,7,7,7,7,7,7,7,7,7,7,7,7,7,7,7,7,7,7,7,7,7,7,7,7,7,7,7,7,7,7,7,7,7,7,7,7,7,7,7,7,7,7,7,7,7,7,7,7,7,7,7,7,7,7,7,7,7,7,7,7,7,7,7,7,7,7,7,7,7,7,7,7,7,7,7,7,7,7,7,7,7,7,7,7,7,7,7,7,7,7,7,7,7,7,7,7,7,7,7,7,7,7,7,7,7,7,7,7,7,7,7,7,7,7,7,7,7,7,7,7,7,7,7,7,7,7,7,7,7,7,7,7,7,7,7,7,7,7,7,7,7,7,7,7,7,7,7,7,7,7,7,7,7,7,7,7,7,7,7,7,7,7,7,7,7,7,7,7,7,7,7,7,7,7,7,7,7,7,7,7,7,7,7,7,7,7,7,7,7,7,7,7,7,7,7,7,7,7,7,7,7,7,7,7,7,7,7,7,7,7,7,7,7,7,7,7,7,7,7,7,7,7,7,7,7,7,7,7,7,7,7,7,7,7,7,7,7,7,7,7,7,7,7,7,7,7,7,7,7,7,7,7,7,7,7,7,7,7,7,7,7,7,7,7,7,7,7,7,7,7,7,7,7,7,7,7,7,7,7,7,7,7,7,7,7,7,7,7,7,7,7,7,7,7,7,7,7,7,7,7,7,7,7,7,7,7,7,7,7,7,7,7,7,7,7,7,7,7,7,7,7,7,7,7,7,7,7,7,7,7,7,7,7,7,7,7,7,7,7,7,7,7,7,7,7,7,7,7,7,7,7,7,7,7,7,7,7,7,7,7,7,7,7,7,7,7,7,7,7,7,7,7,7,7,7,7,7,7,7,7,7,7,7,7,7,7,7,7,7,7,7,7,7,7,7,7,7,7,7,7,7,7,7,7,7,7,7,7,7,7,7,7,7,7,7,7,7,7,7,7,7,7,7,7,7,7,7,7,7,7,7,7,7,7,7,7,7,7,7,7,7,7,7,7,7,7,7,7,7,7,7,7,7,7,7,7,7,7,7,7,7,7,7,7,7,7,7,7,7,7,7,7,7,7,7,7,7,7,7,7,7,7,7,7,7,7,7,7,7,7,7,7,7,7,7,7,7,7,7,7,7,7,7,7,7,7,7,7,7,7,7,7,7,7,7,7,7,7,7,7,7,7,7,7,7,7,7,7,7,7,7,7,7,7,7,7,7,7,7,7,7,7,7,7,7,7,7,7,7,7,7,7,7,7,7,7,7,7,7,7,7,7,7,7,7,7,7,7,7,7,7,7,7,7,7,7,7,7,7,7,7,7,7,7,7,7,7,7,7,7,7,7,7,7,7,7,7,7,7,7,7,7,7,7,7,7,7,7,7,7,7,7,7,7,7,7,7,7,7,7,7,7,7,7,7,7,7,7,7,7,7,7,7,7,7,7,7,7,7,7,7,7,7,7,7,7,7,7,7,7,7,7,7,7,7,7,7,7,7,7,7,7,7,7,7,7,7,7,7,7,7,7,7,7,7,7,7,7,7,7,7,7,7,7,7,7,7,7,7,7,7,7,7,7,7,7,7,7,7,7,7,7,7,7,7,7,7,7,7,7,7,7,7,7,7,7,7,7,7,7,7,7,7,7,7,7,7,7,7,7,7,7,7,7,7,7,7,7,7,7,7,7,7,7,7,7,7,7,7,7,7,7,7,7,7,7,7,7,7,7,7,7,7,7,7,7,7,7,7,7,7,7,7,7,7,7,7,7,7,7,7,7,7,7,7,7,7,7,7,7,7,7,7,7,7,7,7,7,7,7,7,7,7,7,7,7,7,7,7,7,7,7,7,7,7,7,7,7,7,7,7,7,7,7,7,7,7,7,7,7,7,7,7,7,7,7,7,7,7,7,7,7,7,7,7,7,7,7,7,7,7,7,7,7,7,7,7,7,7,7,7,7,7,7,7,7,7,7,7,7,7,7,7,7,7,7,7,7,7,7,7,7,7,7,7,7,7,7,7,7,7,7,7,7,7,7,7,7,7,7,7,7,7,7,7,7,7,7,7,7,7,7,7,7,7,7,7,7,7,7,7,7,7,7,7,7,7,7,7,7,7,7,7,7,7,7,7,7,7,7,7,7,7,7,7,7,7,7,7,7,7,7,7,7,7,7,7,7,7,7,7,7,7,7,7,7,7,7,7,7,7,7,7,7,7,7,7,7,7,7,7,7,7,7,7,7,7,7,7,7,7,7,7,7,7,7,7,7,7,7,7,7,7,7,7,7,7,7,7,7,7,7,7,7,7,7,7,7,7,7,7,7,7,7,7,7,7,7,7,7,7,7,7,7,7,7,7,7,7,7,7,7,7,7,7,7,7,7,7,7,7,7,7,7,7,7,7,7,7,7,7,7,7,7,7,7,7,7,7,7,7,7,7,7,7,7,7,7,7,7,7,7,7,7,7,7,7,7,7,7,7,7,7,7,7,7,7,7,7,7,7,7,7,7,7,7,7,7,7,7,7,7,7,7,7,7,7,7,7,7,7,7,7,7,7,7,7,7,7,7,7,7,7,7,7,7,7,7,7,7,7,7,7,7,7,7,7,7,7,7,7,7,7,7,7,7,7,7,7,7,7,7,7,7,7,7,7,7,7,7,7,7,7,7,7,7,7,7,7,7,7,7,7,7,7,7,7,7,7,7,7,7,7,7,7,7,7,7,7,7,7,7,7,7,7,7,7,7,7,7,7,7,7,7,7,7,7,7,7,7,7,7,7,7,7,7,7,7,7,7],\"stat\":{\"__ndarray__\":\"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\",\"dtype\":\"float64\",\"shape\":[1655]},\"transformed_q\":{\"__ndarray__\":\"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\",\"dtype\":\"float64\",\"shape\":[1655]}},\"selected\":{\"id\":\"1957\",\"type\":\"Selection\"},\"selection_policy\":{\"id\":\"1958\",\"type\":\"UnionRenderers\"}},\"id\":\"1870\",\"type\":\"ColumnDataSource\"},{\"attributes\":{},\"id\":\"1958\",\"type\":\"UnionRenderers\"},{\"attributes\":{\"callback\":null},\"id\":\"1840\",\"type\":\"DataRange1d\"},{\"attributes\":{\"dimension\":1,\"grid_line_color\":\"white\",\"ticker\":{\"id\":\"1852\",\"type\":\"BasicTicker\"}},\"id\":\"1855\",\"type\":\"Grid\"},{\"attributes\":{\"fill_alpha\":{\"value\":0.1},\"fill_color\":{\"value\":\"#1f77b4\"},\"line_alpha\":{\"value\":0.1},\"line_color\":{\"value\":\"#1f77b4\"},\"size\":{\"units\":\"screen\",\"value\":7},\"x\":{\"field\":\"log2FoldChange\"},\"y\":{\"field\":\"transformed_q\"}},\"id\":\"1886\",\"type\":\"Circle\"},{\"attributes\":{\"axis_label\":\"-log(Q)\",\"formatter\":{\"id\":\"1956\",\"type\":\"BasicTickFormatter\"},\"ticker\":{\"id\":\"1852\",\"type\":\"BasicTicker\"}},\"id\":\"1851\",\"type\":\"LinearAxis\"},{\"attributes\":{\"source\":{\"id\":\"1870\",\"type\":\"ColumnDataSource\"}},\"id\":\"1876\",\"type\":\"CDSView\"},{\"attributes\":{\"source\":{\"id\":\"1877\",\"type\":\"ColumnDataSource\"}},\"id\":\"1883\",\"type\":\"CDSView\"},{\"attributes\":{},\"id\":\"1956\",\"type\":\"BasicTickFormatter\"},{\"attributes\":{\"source\":{\"id\":\"1878\",\"type\":\"ColumnDataSource\"}},\"id\":\"1888\",\"type\":\"CDSView\"},{\"attributes\":{\"args\":{\"source\":{\"id\":\"1870\",\"type\":\"ColumnDataSource\"}},\"code\":\"\\n      var data = source.data\\n      var value = cb_obj.value\\n      var gene_id = data.gene_id\\n      var a = -1\\n      for (i=0; i < gene_id.length; i++) {\\n          if ( gene_id[i]===value ) { a=i; console.log(i); data.size[i]=7; data.alpha[i]=1; data.color[i]='#fc8d59' }\\n      }\\n      source.data = data\\n      console.log(source)\\n      console.log(cb_obj)\\n      source.select.emit(a)\\n      source.change.emit()\\n      console.log(source)\\n      \"},\"id\":\"1890\",\"type\":\"CustomJS\"},{\"attributes\":{\"callback\":null,\"data\":{\"alpha\":{\"__ndarray__\":\"MzMzMzMz4z8zMzMzMzPjPzMzMzMzM+M/MzMzMzMz4z8zMzMzMzPjPzMzMzMzM+M/MzMzMzMz4z8zMzMzMzPjPw==\",\"dtype\":\"float64\",\"shape\":[8]},\"baseMean\":{\"__ndarray__\":\"v44eEMLXYUC5qa34wYuZQF+PJsaPW21AXUgC3efScUC4LMp9o3KEQPQ1319Tz5VAVNo/Pgq+lUACzPwekmurQA==\",\"dtype\":\"float64\",\"shape\":[8]},\"color\":[\"#fc8d59\",\"#fc8d59\",\"#fc8d59\",\"#fc8d59\",\"#fc8d59\",\"#fc8d59\",\"#fc8d59\",\"#fc8d59\"],\"gene_id\":[\"ELF2\",\"RUNX2\",\"GSE1\",\"MEIS1\",\"RUNX1\",\"GFI1\",\"IRF2BP2\",\"ZEB2\"],\"genes\":[\"ELF2\",\"RUNX2\",\"GSE1\",\"MEIS1\",\"RUNX1\",\"GFI1\",\"IRF2BP2\",\"ZEB2\"],\"index\":[\"2746\",\"4137\",\"4704\",\"6180\",\"7354\",\"7678\",\"8622\",\"8801\"],\"lfcSE\":{\"__ndarray__\":\"ael90CPa0T++KxCLEofFP+0lTH6s68c/SM6RpMr5zz+fYYGZujPGP4QHY7xtesM/4s/G0619yD9IZm+wEVTEPw==\",\"dtype\":\"float64\",\"shape\":[8]},\"log2FoldChange\":{\"__ndarray__\":\"eN4eVcVi7T+YMAUsFZXiP/tzP60XrOA/avlOV1wM4r/y3r/F12bgP3aN4qUczNi/4fid3W525D8SSzcjv4DWPw==\",\"dtype\":\"float64\",\"shape\":[8]},\"padj\":{\"__ndarray__\":\"q8GLbG4trD9FT8V270ulPx2Uc4Z9X8E/WXnpAdiC0j8YzqOxRSK7P2c7fbWyN8o/AWtn2N9Yqj+MYcawP4PTPw==\",\"dtype\":\"float64\",\"shape\":[8]},\"pvalue\":{\"__ndarray__\":\"KYneDFBKUD9XR7LS8C5CP34nD61JunU/S0Tso1qJmD/G75KgUp1pPyA9Qr9dToY/awrqi4g/Sz/bXbz3GHqbPw==\",\"dtype\":\"float64\",\"shape\":[8]},\"size\":[7,7,7,7,7,7,7,7],\"stat\":{\"__ndarray__\":\"As3tpE1WCsBg1MoOOZ8LwKV9wuetTQbAKcu1bt0PAkDvzUmp0qMHwNxIA+OGXgRAFR/GYZG8CsBJxQnTJbYBwA==\",\"dtype\":\"float64\",\"shape\":[8]},\"transformed_q\":{\"__ndarray__\":\"nZuGJhoFCEB+s4Mn1AsKQByE7tfoMwJAfik+aIPt+T8shDvECgoEQOf90hMQaP8/GIDfAhKkCEBgiHiJLCT5Pw==\",\"dtype\":\"float64\",\"shape\":[8]}},\"selected\":{\"id\":\"1960\",\"type\":\"Selection\"},\"selection_policy\":{\"id\":\"1961\",\"type\":\"UnionRenderers\"}},\"id\":\"1877\",\"type\":\"ColumnDataSource\"},{\"attributes\":{\"active_drag\":\"auto\",\"active_inspect\":\"auto\",\"active_multi\":null,\"active_scroll\":\"auto\",\"active_tap\":\"auto\",\"tools\":[{\"id\":\"1856\",\"type\":\"PanTool\"},{\"id\":\"1857\",\"type\":\"WheelZoomTool\"},{\"id\":\"1858\",\"type\":\"BoxZoomTool\"},{\"id\":\"1859\",\"type\":\"SaveTool\"},{\"id\":\"1860\",\"type\":\"ResetTool\"},{\"id\":\"1861\",\"type\":\"HelpTool\"},{\"id\":\"1834\",\"type\":\"HoverTool\"}]},\"id\":\"1862\",\"type\":\"Toolbar\"},{\"attributes\":{\"callback\":null,\"data\":{\"alpha\":{\"__ndarray__\":\"MzMzMzMz4z8zMzMzMzPjPzMzMzMzM+M/MzMzMzMz4z8zMzMzMzPjPzMzMzMzM+M/MzMzMzMz4z8zMzMzMzPjPw==\",\"dtype\":\"float64\",\"shape\":[8]},\"baseMean\":{\"__ndarray__\":\"v44eEMLXYUC5qa34wYuZQF+PJsaPW21AXUgC3efScUC4LMp9o3KEQPQ1319Tz5VAVNo/Pgq+lUACzPwekmurQA==\",\"dtype\":\"float64\",\"shape\":[8]},\"color\":[\"#fc8d59\",\"#fc8d59\",\"#fc8d59\",\"#fc8d59\",\"#fc8d59\",\"#fc8d59\",\"#fc8d59\",\"#fc8d59\"],\"gene_id\":[\"ELF2\",\"RUNX2\",\"GSE1\",\"MEIS1\",\"RUNX1\",\"GFI1\",\"IRF2BP2\",\"ZEB2\"],\"genes\":[\"ELF2\",\"RUNX2\",\"GSE1\",\"MEIS1\",\"RUNX1\",\"GFI1\",\"IRF2BP2\",\"ZEB2\"],\"index\":[\"2746\",\"4137\",\"4704\",\"6180\",\"7354\",\"7678\",\"8622\",\"8801\"],\"lfcSE\":{\"__ndarray__\":\"ael90CPa0T++KxCLEofFP+0lTH6s68c/SM6RpMr5zz+fYYGZujPGP4QHY7xtesM/4s/G0619yD9IZm+wEVTEPw==\",\"dtype\":\"float64\",\"shape\":[8]},\"log2FoldChange\":{\"__ndarray__\":\"eN4eVcVi7T+YMAUsFZXiP/tzP60XrOA/avlOV1wM4r/y3r/F12bgP3aN4qUczNi/4fid3W525D8SSzcjv4DWPw==\",\"dtype\":\"float64\",\"shape\":[8]},\"padj\":{\"__ndarray__\":\"q8GLbG4trD9FT8V270ulPx2Uc4Z9X8E/WXnpAdiC0j8YzqOxRSK7P2c7fbWyN8o/AWtn2N9Yqj+MYcawP4PTPw==\",\"dtype\":\"float64\",\"shape\":[8]},\"pvalue\":{\"__ndarray__\":\"KYneDFBKUD9XR7LS8C5CP34nD61JunU/S0Tso1qJmD/G75KgUp1pPyA9Qr9dToY/awrqi4g/Sz/bXbz3GHqbPw==\",\"dtype\":\"float64\",\"shape\":[8]},\"size\":[7,7,7,7,7,7,7,7],\"stat\":{\"__ndarray__\":\"As3tpE1WCsBg1MoOOZ8LwKV9wuetTQbAKcu1bt0PAkDvzUmp0qMHwNxIA+OGXgRAFR/GYZG8CsBJxQnTJbYBwA==\",\"dtype\":\"float64\",\"shape\":[8]},\"transformed_q\":{\"__ndarray__\":\"nZuGJhoFCEB+s4Mn1AsKQByE7tfoMwJAfik+aIPt+T8shDvECgoEQOf90hMQaP8/GIDfAhKkCEBgiHiJLCT5Pw==\",\"dtype\":\"float64\",\"shape\":[8]}},\"selected\":{\"id\":\"1962\",\"type\":\"Selection\"},\"selection_policy\":{\"id\":\"1963\",\"type\":\"UnionRenderers\"}},\"id\":\"1878\",\"type\":\"ColumnDataSource\"},{\"attributes\":{},\"id\":\"1957\",\"type\":\"Selection\"},{\"attributes\":{},\"id\":\"1856\",\"type\":\"PanTool\"},{\"attributes\":{},\"id\":\"1954\",\"type\":\"BasicTickFormatter\"},{\"attributes\":{},\"id\":\"1962\",\"type\":\"Selection\"},{\"attributes\":{\"data_source\":{\"id\":\"1870\",\"type\":\"ColumnDataSource\"},\"glyph\":{\"id\":\"1873\",\"type\":\"Circle\"},\"hover_glyph\":null,\"muted_glyph\":null,\"name\":\"circles\",\"nonselection_glyph\":{\"id\":\"1874\",\"type\":\"Circle\"},\"selection_glyph\":null,\"view\":{\"id\":\"1876\",\"type\":\"CDSView\"}},\"id\":\"1875\",\"type\":\"GlyphRenderer\"},{\"attributes\":{},\"id\":\"1857\",\"type\":\"WheelZoomTool\"},{\"attributes\":{\"callback\":null,\"names\":[\"circles\"],\"tooltips\":[[\"gene\",\"@gene_id\"]]},\"id\":\"1834\",\"type\":\"HoverTool\"},{\"attributes\":{\"overlay\":{\"id\":\"1959\",\"type\":\"BoxAnnotation\"}},\"id\":\"1858\",\"type\":\"BoxZoomTool\"},{\"attributes\":{},\"id\":\"1963\",\"type\":\"UnionRenderers\"},{\"attributes\":{\"data_source\":{\"id\":\"1878\",\"type\":\"ColumnDataSource\"},\"glyph\":{\"id\":\"1885\",\"type\":\"Circle\"},\"hover_glyph\":null,\"muted_glyph\":null,\"name\":\"outlines\",\"nonselection_glyph\":{\"id\":\"1886\",\"type\":\"Circle\"},\"selection_glyph\":null,\"view\":{\"id\":\"1888\",\"type\":\"CDSView\"}},\"id\":\"1887\",\"type\":\"GlyphRenderer\"},{\"attributes\":{},\"id\":\"1859\",\"type\":\"SaveTool\"},{\"attributes\":{\"fill_alpha\":{\"field\":\"alpha\"},\"fill_color\":{\"field\":\"color\"},\"line_alpha\":{\"field\":\"alpha\"},\"line_color\":{\"field\":\"color\"},\"size\":{\"field\":\"size\",\"units\":\"screen\"},\"x\":{\"field\":\"log2FoldChange\"},\"y\":{\"field\":\"transformed_q\"}},\"id\":\"1873\",\"type\":\"Circle\"},{\"attributes\":{},\"id\":\"1842\",\"type\":\"LinearScale\"},{\"attributes\":{},\"id\":\"1860\",\"type\":\"ResetTool\"},{\"attributes\":{\"background_fill_alpha\":{\"value\":0.5},\"background_fill_color\":{\"value\":\"#DFDFE5\"},\"below\":[{\"id\":\"1846\",\"type\":\"LinearAxis\"}],\"center\":[{\"id\":\"1850\",\"type\":\"Grid\"},{\"id\":\"1855\",\"type\":\"Grid\"}],\"left\":[{\"id\":\"1851\",\"type\":\"LinearAxis\"}],\"plot_height\":450,\"plot_width\":650,\"renderers\":[{\"id\":\"1875\",\"type\":\"GlyphRenderer\"},{\"id\":\"1882\",\"type\":\"GlyphRenderer\"},{\"id\":\"1887\",\"type\":\"GlyphRenderer\"}],\"title\":{\"id\":\"1836\",\"type\":\"Title\"},\"toolbar\":{\"id\":\"1862\",\"type\":\"Toolbar\"},\"x_range\":{\"id\":\"1838\",\"type\":\"DataRange1d\"},\"x_scale\":{\"id\":\"1842\",\"type\":\"LinearScale\"},\"y_range\":{\"id\":\"1840\",\"type\":\"DataRange1d\"},\"y_scale\":{\"id\":\"1844\",\"type\":\"LinearScale\"}},\"id\":\"1835\",\"subtype\":\"Figure\",\"type\":\"Plot\"},{\"attributes\":{\"text\":\"volcano plot\"},\"id\":\"1836\",\"type\":\"Title\"},{\"attributes\":{},\"id\":\"1844\",\"type\":\"LinearScale\"},{\"attributes\":{},\"id\":\"1960\",\"type\":\"Selection\"},{\"attributes\":{\"callback\":null},\"id\":\"1838\",\"type\":\"DataRange1d\"},{\"attributes\":{},\"id\":\"1861\",\"type\":\"HelpTool\"},{\"attributes\":{\"fill_color\":{\"value\":null},\"size\":{\"units\":\"screen\",\"value\":7},\"x\":{\"field\":\"log2FoldChange\"},\"y\":{\"field\":\"transformed_q\"}},\"id\":\"1885\",\"type\":\"Circle\"},{\"attributes\":{\"bottom_units\":\"screen\",\"fill_alpha\":{\"value\":0.5},\"fill_color\":{\"value\":\"lightgrey\"},\"left_units\":\"screen\",\"level\":\"overlay\",\"line_alpha\":{\"value\":1.0},\"line_color\":{\"value\":\"black\"},\"line_dash\":[4,4],\"line_width\":{\"value\":2},\"render_mode\":\"css\",\"right_units\":\"screen\",\"top_units\":\"screen\"},\"id\":\"1959\",\"type\":\"BoxAnnotation\"},{\"attributes\":{\"grid_line_color\":\"white\",\"ticker\":{\"id\":\"1847\",\"type\":\"BasicTicker\"}},\"id\":\"1850\",\"type\":\"Grid\"},{\"attributes\":{\"fill_alpha\":{\"value\":0.1},\"fill_color\":{\"value\":\"#1f77b4\"},\"line_alpha\":{\"value\":0.1},\"line_color\":{\"value\":\"#1f77b4\"},\"size\":{\"field\":\"size\",\"units\":\"screen\"},\"x\":{\"field\":\"log2FoldChange\"},\"y\":{\"field\":\"transformed_q\"}},\"id\":\"1874\",\"type\":\"Circle\"},{\"attributes\":{\"axis_label\":\"log-fold change\",\"formatter\":{\"id\":\"1954\",\"type\":\"BasicTickFormatter\"},\"ticker\":{\"id\":\"1847\",\"type\":\"BasicTicker\"}},\"id\":\"1846\",\"type\":\"LinearAxis\"},{\"attributes\":{},\"id\":\"1847\",\"type\":\"BasicTicker\"},{\"attributes\":{},\"id\":\"1961\",\"type\":\"UnionRenderers\"}],\"root_ids\":[\"1891\"]},\"title\":\"Bokeh Application\",\"version\":\"1.4.0\"}};\n",
       "  var render_items = [{\"docid\":\"b25313cd-a832-4578-ae77-80349d2dc482\",\"roots\":{\"1891\":\"4bffd8bd-e239-4b25-a8d4-5720e30c6d43\"}}];\n",
       "  root.Bokeh.embed.embed_items_notebook(docs_json, render_items);\n",
       "\n",
       "  }\n",
       "  if (root.Bokeh !== undefined) {\n",
       "    embed_document(root);\n",
       "  } else {\n",
       "    var attempts = 0;\n",
       "    var timer = setInterval(function(root) {\n",
       "      if (root.Bokeh !== undefined) {\n",
       "        clearInterval(timer);\n",
       "        embed_document(root);\n",
       "      } else {\n",
       "        attempts++;\n",
       "        if (attempts > 100) {\n",
       "          clearInterval(timer);\n",
       "          console.log(\"Bokeh: ERROR: Unable to run BokehJS code because BokehJS library is missing\");\n",
       "        }\n",
       "      }\n",
       "    }, 10, root)\n",
       "  }\n",
       "})(window);"
      ],
      "application/vnd.bokehjs_exec.v0+json": ""
     },
     "metadata": {
      "application/vnd.bokehjs_exec.v0+json": {
       "id": "1891"
      }
     },
     "output_type": "display_data"
    }
   ],
   "source": [
    "show(volcano(JQ1res,tohighlight=ctf, searchbox=True))"
   ]
  },
  {
   "cell_type": "markdown",
   "metadata": {},
   "source": [
    "we can conclude that we get similar results to the slamseq myc paper although it seems that our values are a bit skewed toward higher expression than what is on the slamseq paper. It mightt be explained by the pseudo count of 1 that I did not set. Because I think it would highly bias the DESeq algorithm."
   ]
  },
  {
   "cell_type": "code",
   "execution_count": null,
   "metadata": {},
   "outputs": [],
   "source": []
  }
 ],
 "metadata": {
  "kernelspec": {
   "display_name": "Python 3",
   "language": "python",
   "name": "python3"
  },
  "language_info": {
   "codemirror_mode": {
    "name": "ipython",
    "version": 3
   },
   "file_extension": ".py",
   "mimetype": "text/x-python",
   "name": "python",
   "nbconvert_exporter": "python",
   "pygments_lexer": "ipython3",
   "version": "3.7.6"
  },
  "latex_envs": {
   "LaTeX_envs_menu_present": true,
   "autoclose": false,
   "autocomplete": true,
   "bibliofile": "biblio.bib",
   "cite_by": "apalike",
   "current_citInitial": 1,
   "eqLabelWithNumbers": true,
   "eqNumInitial": 1,
   "hotkeys": {
    "equation": "Ctrl-E",
    "itemize": "Ctrl-I"
   },
   "labels_anchors": false,
   "latex_user_defs": false,
   "report_style_numbering": false,
   "user_envs_cfg": false
  },
  "toc": {
   "base_numbering": 1,
   "nav_menu": {},
   "number_sections": false,
   "sideBar": false,
   "skip_h1_title": false,
   "title_cell": "Table of Contents",
   "title_sidebar": "Contents",
   "toc_cell": false,
   "toc_position": {},
   "toc_section_display": false,
   "toc_window_display": false
  },
  "varInspector": {
   "cols": {
    "lenName": 16,
    "lenType": 16,
    "lenVar": 40
   },
   "kernels_config": {
    "python": {
     "delete_cmd_postfix": "",
     "delete_cmd_prefix": "del ",
     "library": "var_list.py",
     "varRefreshCmd": "print(var_dic_list())"
    },
    "r": {
     "delete_cmd_postfix": ") ",
     "delete_cmd_prefix": "rm(",
     "library": "var_list.r",
     "varRefreshCmd": "cat(var_dic_list()) "
    }
   },
   "types_to_exclude": [
    "module",
    "function",
    "builtin_function_or_method",
    "instance",
    "_Feature"
   ],
   "window_display": false
  }
 },
 "nbformat": 4,
 "nbformat_minor": 2
}
