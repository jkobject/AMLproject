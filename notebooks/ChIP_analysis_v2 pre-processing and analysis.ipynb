{
 "cells": [
  {
   "cell_type": "markdown",
   "metadata": {
    "slideshow": {
     "slide_type": "slide"
    }
   },
   "source": [
    "# Cobinding PiPeline: pre processing & analysis"
   ]
  },
  {
   "cell_type": "code",
   "execution_count": 7,
   "metadata": {
    "slideshow": {
     "slide_type": "fragment"
    }
   },
   "outputs": [
    {
     "data": {
      "text/html": [
       "\n",
       "    <div class=\"bk-root\">\n",
       "        <a href=\"https://bokeh.org\" target=\"_blank\" class=\"bk-logo bk-logo-small bk-logo-notebook\"></a>\n",
       "        <span id=\"1001\">Loading BokehJS ...</span>\n",
       "    </div>"
      ]
     },
     "metadata": {},
     "output_type": "display_data"
    },
    {
     "data": {
      "application/javascript": [
       "\n",
       "(function(root) {\n",
       "  function now() {\n",
       "    return new Date();\n",
       "  }\n",
       "\n",
       "  var force = true;\n",
       "\n",
       "  if (typeof root._bokeh_onload_callbacks === \"undefined\" || force === true) {\n",
       "    root._bokeh_onload_callbacks = [];\n",
       "    root._bokeh_is_loading = undefined;\n",
       "  }\n",
       "\n",
       "  var JS_MIME_TYPE = 'application/javascript';\n",
       "  var HTML_MIME_TYPE = 'text/html';\n",
       "  var EXEC_MIME_TYPE = 'application/vnd.bokehjs_exec.v0+json';\n",
       "  var CLASS_NAME = 'output_bokeh rendered_html';\n",
       "\n",
       "  /**\n",
       "   * Render data to the DOM node\n",
       "   */\n",
       "  function render(props, node) {\n",
       "    var script = document.createElement(\"script\");\n",
       "    node.appendChild(script);\n",
       "  }\n",
       "\n",
       "  /**\n",
       "   * Handle when an output is cleared or removed\n",
       "   */\n",
       "  function handleClearOutput(event, handle) {\n",
       "    var cell = handle.cell;\n",
       "\n",
       "    var id = cell.output_area._bokeh_element_id;\n",
       "    var server_id = cell.output_area._bokeh_server_id;\n",
       "    // Clean up Bokeh references\n",
       "    if (id != null && id in Bokeh.index) {\n",
       "      Bokeh.index[id].model.document.clear();\n",
       "      delete Bokeh.index[id];\n",
       "    }\n",
       "\n",
       "    if (server_id !== undefined) {\n",
       "      // Clean up Bokeh references\n",
       "      var cmd = \"from bokeh.io.state import curstate; print(curstate().uuid_to_server['\" + server_id + \"'].get_sessions()[0].document.roots[0]._id)\";\n",
       "      cell.notebook.kernel.execute(cmd, {\n",
       "        iopub: {\n",
       "          output: function(msg) {\n",
       "            var id = msg.content.text.trim();\n",
       "            if (id in Bokeh.index) {\n",
       "              Bokeh.index[id].model.document.clear();\n",
       "              delete Bokeh.index[id];\n",
       "            }\n",
       "          }\n",
       "        }\n",
       "      });\n",
       "      // Destroy server and session\n",
       "      var cmd = \"import bokeh.io.notebook as ion; ion.destroy_server('\" + server_id + \"')\";\n",
       "      cell.notebook.kernel.execute(cmd);\n",
       "    }\n",
       "  }\n",
       "\n",
       "  /**\n",
       "   * Handle when a new output is added\n",
       "   */\n",
       "  function handleAddOutput(event, handle) {\n",
       "    var output_area = handle.output_area;\n",
       "    var output = handle.output;\n",
       "\n",
       "    // limit handleAddOutput to display_data with EXEC_MIME_TYPE content only\n",
       "    if ((output.output_type != \"display_data\") || (!output.data.hasOwnProperty(EXEC_MIME_TYPE))) {\n",
       "      return\n",
       "    }\n",
       "\n",
       "    var toinsert = output_area.element.find(\".\" + CLASS_NAME.split(' ')[0]);\n",
       "\n",
       "    if (output.metadata[EXEC_MIME_TYPE][\"id\"] !== undefined) {\n",
       "      toinsert[toinsert.length - 1].firstChild.textContent = output.data[JS_MIME_TYPE];\n",
       "      // store reference to embed id on output_area\n",
       "      output_area._bokeh_element_id = output.metadata[EXEC_MIME_TYPE][\"id\"];\n",
       "    }\n",
       "    if (output.metadata[EXEC_MIME_TYPE][\"server_id\"] !== undefined) {\n",
       "      var bk_div = document.createElement(\"div\");\n",
       "      bk_div.innerHTML = output.data[HTML_MIME_TYPE];\n",
       "      var script_attrs = bk_div.children[0].attributes;\n",
       "      for (var i = 0; i < script_attrs.length; i++) {\n",
       "        toinsert[toinsert.length - 1].firstChild.setAttribute(script_attrs[i].name, script_attrs[i].value);\n",
       "        toinsert[toinsert.length - 1].firstChild.textContent = bk_div.children[0].textContent\n",
       "      }\n",
       "      // store reference to server id on output_area\n",
       "      output_area._bokeh_server_id = output.metadata[EXEC_MIME_TYPE][\"server_id\"];\n",
       "    }\n",
       "  }\n",
       "\n",
       "  function register_renderer(events, OutputArea) {\n",
       "\n",
       "    function append_mime(data, metadata, element) {\n",
       "      // create a DOM node to render to\n",
       "      var toinsert = this.create_output_subarea(\n",
       "        metadata,\n",
       "        CLASS_NAME,\n",
       "        EXEC_MIME_TYPE\n",
       "      );\n",
       "      this.keyboard_manager.register_events(toinsert);\n",
       "      // Render to node\n",
       "      var props = {data: data, metadata: metadata[EXEC_MIME_TYPE]};\n",
       "      render(props, toinsert[toinsert.length - 1]);\n",
       "      element.append(toinsert);\n",
       "      return toinsert\n",
       "    }\n",
       "\n",
       "    /* Handle when an output is cleared or removed */\n",
       "    events.on('clear_output.CodeCell', handleClearOutput);\n",
       "    events.on('delete.Cell', handleClearOutput);\n",
       "\n",
       "    /* Handle when a new output is added */\n",
       "    events.on('output_added.OutputArea', handleAddOutput);\n",
       "\n",
       "    /**\n",
       "     * Register the mime type and append_mime function with output_area\n",
       "     */\n",
       "    OutputArea.prototype.register_mime_type(EXEC_MIME_TYPE, append_mime, {\n",
       "      /* Is output safe? */\n",
       "      safe: true,\n",
       "      /* Index of renderer in `output_area.display_order` */\n",
       "      index: 0\n",
       "    });\n",
       "  }\n",
       "\n",
       "  // register the mime type if in Jupyter Notebook environment and previously unregistered\n",
       "  if (root.Jupyter !== undefined) {\n",
       "    var events = require('base/js/events');\n",
       "    var OutputArea = require('notebook/js/outputarea').OutputArea;\n",
       "\n",
       "    if (OutputArea.prototype.mime_types().indexOf(EXEC_MIME_TYPE) == -1) {\n",
       "      register_renderer(events, OutputArea);\n",
       "    }\n",
       "  }\n",
       "\n",
       "  \n",
       "  if (typeof (root._bokeh_timeout) === \"undefined\" || force === true) {\n",
       "    root._bokeh_timeout = Date.now() + 5000;\n",
       "    root._bokeh_failed_load = false;\n",
       "  }\n",
       "\n",
       "  var NB_LOAD_WARNING = {'data': {'text/html':\n",
       "     \"<div style='background-color: #fdd'>\\n\"+\n",
       "     \"<p>\\n\"+\n",
       "     \"BokehJS does not appear to have successfully loaded. If loading BokehJS from CDN, this \\n\"+\n",
       "     \"may be due to a slow or bad network connection. Possible fixes:\\n\"+\n",
       "     \"</p>\\n\"+\n",
       "     \"<ul>\\n\"+\n",
       "     \"<li>re-rerun `output_notebook()` to attempt to load from CDN again, or</li>\\n\"+\n",
       "     \"<li>use INLINE resources instead, as so:</li>\\n\"+\n",
       "     \"</ul>\\n\"+\n",
       "     \"<code>\\n\"+\n",
       "     \"from bokeh.resources import INLINE\\n\"+\n",
       "     \"output_notebook(resources=INLINE)\\n\"+\n",
       "     \"</code>\\n\"+\n",
       "     \"</div>\"}};\n",
       "\n",
       "  function display_loaded() {\n",
       "    var el = document.getElementById(\"1001\");\n",
       "    if (el != null) {\n",
       "      el.textContent = \"BokehJS is loading...\";\n",
       "    }\n",
       "    if (root.Bokeh !== undefined) {\n",
       "      if (el != null) {\n",
       "        el.textContent = \"BokehJS \" + root.Bokeh.version + \" successfully loaded.\";\n",
       "      }\n",
       "    } else if (Date.now() < root._bokeh_timeout) {\n",
       "      setTimeout(display_loaded, 100)\n",
       "    }\n",
       "  }\n",
       "\n",
       "\n",
       "  function run_callbacks() {\n",
       "    try {\n",
       "      root._bokeh_onload_callbacks.forEach(function(callback) {\n",
       "        if (callback != null)\n",
       "          callback();\n",
       "      });\n",
       "    } finally {\n",
       "      delete root._bokeh_onload_callbacks\n",
       "    }\n",
       "    console.debug(\"Bokeh: all callbacks have finished\");\n",
       "  }\n",
       "\n",
       "  function load_libs(css_urls, js_urls, callback) {\n",
       "    if (css_urls == null) css_urls = [];\n",
       "    if (js_urls == null) js_urls = [];\n",
       "\n",
       "    root._bokeh_onload_callbacks.push(callback);\n",
       "    if (root._bokeh_is_loading > 0) {\n",
       "      console.debug(\"Bokeh: BokehJS is being loaded, scheduling callback at\", now());\n",
       "      return null;\n",
       "    }\n",
       "    if (js_urls == null || js_urls.length === 0) {\n",
       "      run_callbacks();\n",
       "      return null;\n",
       "    }\n",
       "    console.debug(\"Bokeh: BokehJS not loaded, scheduling load and callback at\", now());\n",
       "    root._bokeh_is_loading = css_urls.length + js_urls.length;\n",
       "\n",
       "    function on_load() {\n",
       "      root._bokeh_is_loading--;\n",
       "      if (root._bokeh_is_loading === 0) {\n",
       "        console.debug(\"Bokeh: all BokehJS libraries/stylesheets loaded\");\n",
       "        run_callbacks()\n",
       "      }\n",
       "    }\n",
       "\n",
       "    function on_error() {\n",
       "      console.error(\"failed to load \" + url);\n",
       "    }\n",
       "\n",
       "    for (var i = 0; i < css_urls.length; i++) {\n",
       "      var url = css_urls[i];\n",
       "      const element = document.createElement(\"link\");\n",
       "      element.onload = on_load;\n",
       "      element.onerror = on_error;\n",
       "      element.rel = \"stylesheet\";\n",
       "      element.type = \"text/css\";\n",
       "      element.href = url;\n",
       "      console.debug(\"Bokeh: injecting link tag for BokehJS stylesheet: \", url);\n",
       "      document.body.appendChild(element);\n",
       "    }\n",
       "\n",
       "    const hashes = {\"https://cdn.bokeh.org/bokeh/release/bokeh-2.0.2.min.js\": \"ufR9RFnRs6lniiaFvtJziE0YeidtAgBRH6ux2oUItHw5WTvE1zuk9uzhUU/FJXDp\", \"https://cdn.bokeh.org/bokeh/release/bokeh-widgets-2.0.2.min.js\": \"8QM/PGWBT+IssZuRcDcjzwIh1mkOmJSoNMmyYDZbCfXJg3Ap1lEvdVgFuSAwhb/J\", \"https://cdn.bokeh.org/bokeh/release/bokeh-tables-2.0.2.min.js\": \"Jm8cH3Rg0P6UeZhVY5cLy1WzKajUT9KImCY+76hEqrcJt59/d8GPvFHjCkYgnSIn\", \"https://cdn.bokeh.org/bokeh/release/bokeh-gl-2.0.2.min.js\": \"Ozhzj+SI7ywm74aOI/UajcWz+C0NjsPunEVyVIrxzYkB+jA+2tUw8x5xJCbVtK5I\"};\n",
       "\n",
       "    for (var i = 0; i < js_urls.length; i++) {\n",
       "      var url = js_urls[i];\n",
       "      var element = document.createElement('script');\n",
       "      element.onload = on_load;\n",
       "      element.onerror = on_error;\n",
       "      element.async = false;\n",
       "      element.src = url;\n",
       "      if (url in hashes) {\n",
       "        element.crossOrigin = \"anonymous\";\n",
       "        element.integrity = \"sha384-\" + hashes[url];\n",
       "      }\n",
       "      console.debug(\"Bokeh: injecting script tag for BokehJS library: \", url);\n",
       "      document.head.appendChild(element);\n",
       "    }\n",
       "  };\n",
       "\n",
       "  function inject_raw_css(css) {\n",
       "    const element = document.createElement(\"style\");\n",
       "    element.appendChild(document.createTextNode(css));\n",
       "    document.body.appendChild(element);\n",
       "  }\n",
       "\n",
       "  \n",
       "  var js_urls = [\"https://cdn.bokeh.org/bokeh/release/bokeh-2.0.2.min.js\", \"https://cdn.bokeh.org/bokeh/release/bokeh-widgets-2.0.2.min.js\", \"https://cdn.bokeh.org/bokeh/release/bokeh-tables-2.0.2.min.js\", \"https://cdn.bokeh.org/bokeh/release/bokeh-gl-2.0.2.min.js\"];\n",
       "  var css_urls = [];\n",
       "  \n",
       "\n",
       "  var inline_js = [\n",
       "    function(Bokeh) {\n",
       "      Bokeh.set_log_level(\"info\");\n",
       "    },\n",
       "    function(Bokeh) {\n",
       "    \n",
       "    \n",
       "    }\n",
       "  ];\n",
       "\n",
       "  function run_inline_js() {\n",
       "    \n",
       "    if (root.Bokeh !== undefined || force === true) {\n",
       "      \n",
       "    for (var i = 0; i < inline_js.length; i++) {\n",
       "      inline_js[i].call(root, root.Bokeh);\n",
       "    }\n",
       "    if (force === true) {\n",
       "        display_loaded();\n",
       "      }} else if (Date.now() < root._bokeh_timeout) {\n",
       "      setTimeout(run_inline_js, 100);\n",
       "    } else if (!root._bokeh_failed_load) {\n",
       "      console.log(\"Bokeh: BokehJS failed to load within specified timeout.\");\n",
       "      root._bokeh_failed_load = true;\n",
       "    } else if (force !== true) {\n",
       "      var cell = $(document.getElementById(\"1001\")).parents('.cell').data().cell;\n",
       "      cell.output_area.append_execute_result(NB_LOAD_WARNING)\n",
       "    }\n",
       "\n",
       "  }\n",
       "\n",
       "  if (root._bokeh_is_loading === 0) {\n",
       "    console.debug(\"Bokeh: BokehJS loaded, going straight to plotting\");\n",
       "    run_inline_js();\n",
       "  } else {\n",
       "    load_libs(css_urls, js_urls, function() {\n",
       "      console.debug(\"Bokeh: BokehJS plotting callback run at\", now());\n",
       "      run_inline_js();\n",
       "    });\n",
       "  }\n",
       "}(window));"
      ],
      "application/vnd.bokehjs_load.v0+json": "\n(function(root) {\n  function now() {\n    return new Date();\n  }\n\n  var force = true;\n\n  if (typeof root._bokeh_onload_callbacks === \"undefined\" || force === true) {\n    root._bokeh_onload_callbacks = [];\n    root._bokeh_is_loading = undefined;\n  }\n\n  \n\n  \n  if (typeof (root._bokeh_timeout) === \"undefined\" || force === true) {\n    root._bokeh_timeout = Date.now() + 5000;\n    root._bokeh_failed_load = false;\n  }\n\n  var NB_LOAD_WARNING = {'data': {'text/html':\n     \"<div style='background-color: #fdd'>\\n\"+\n     \"<p>\\n\"+\n     \"BokehJS does not appear to have successfully loaded. If loading BokehJS from CDN, this \\n\"+\n     \"may be due to a slow or bad network connection. Possible fixes:\\n\"+\n     \"</p>\\n\"+\n     \"<ul>\\n\"+\n     \"<li>re-rerun `output_notebook()` to attempt to load from CDN again, or</li>\\n\"+\n     \"<li>use INLINE resources instead, as so:</li>\\n\"+\n     \"</ul>\\n\"+\n     \"<code>\\n\"+\n     \"from bokeh.resources import INLINE\\n\"+\n     \"output_notebook(resources=INLINE)\\n\"+\n     \"</code>\\n\"+\n     \"</div>\"}};\n\n  function display_loaded() {\n    var el = document.getElementById(\"1001\");\n    if (el != null) {\n      el.textContent = \"BokehJS is loading...\";\n    }\n    if (root.Bokeh !== undefined) {\n      if (el != null) {\n        el.textContent = \"BokehJS \" + root.Bokeh.version + \" successfully loaded.\";\n      }\n    } else if (Date.now() < root._bokeh_timeout) {\n      setTimeout(display_loaded, 100)\n    }\n  }\n\n\n  function run_callbacks() {\n    try {\n      root._bokeh_onload_callbacks.forEach(function(callback) {\n        if (callback != null)\n          callback();\n      });\n    } finally {\n      delete root._bokeh_onload_callbacks\n    }\n    console.debug(\"Bokeh: all callbacks have finished\");\n  }\n\n  function load_libs(css_urls, js_urls, callback) {\n    if (css_urls == null) css_urls = [];\n    if (js_urls == null) js_urls = [];\n\n    root._bokeh_onload_callbacks.push(callback);\n    if (root._bokeh_is_loading > 0) {\n      console.debug(\"Bokeh: BokehJS is being loaded, scheduling callback at\", now());\n      return null;\n    }\n    if (js_urls == null || js_urls.length === 0) {\n      run_callbacks();\n      return null;\n    }\n    console.debug(\"Bokeh: BokehJS not loaded, scheduling load and callback at\", now());\n    root._bokeh_is_loading = css_urls.length + js_urls.length;\n\n    function on_load() {\n      root._bokeh_is_loading--;\n      if (root._bokeh_is_loading === 0) {\n        console.debug(\"Bokeh: all BokehJS libraries/stylesheets loaded\");\n        run_callbacks()\n      }\n    }\n\n    function on_error() {\n      console.error(\"failed to load \" + url);\n    }\n\n    for (var i = 0; i < css_urls.length; i++) {\n      var url = css_urls[i];\n      const element = document.createElement(\"link\");\n      element.onload = on_load;\n      element.onerror = on_error;\n      element.rel = \"stylesheet\";\n      element.type = \"text/css\";\n      element.href = url;\n      console.debug(\"Bokeh: injecting link tag for BokehJS stylesheet: \", url);\n      document.body.appendChild(element);\n    }\n\n    const hashes = {\"https://cdn.bokeh.org/bokeh/release/bokeh-2.0.2.min.js\": \"ufR9RFnRs6lniiaFvtJziE0YeidtAgBRH6ux2oUItHw5WTvE1zuk9uzhUU/FJXDp\", \"https://cdn.bokeh.org/bokeh/release/bokeh-widgets-2.0.2.min.js\": \"8QM/PGWBT+IssZuRcDcjzwIh1mkOmJSoNMmyYDZbCfXJg3Ap1lEvdVgFuSAwhb/J\", \"https://cdn.bokeh.org/bokeh/release/bokeh-tables-2.0.2.min.js\": \"Jm8cH3Rg0P6UeZhVY5cLy1WzKajUT9KImCY+76hEqrcJt59/d8GPvFHjCkYgnSIn\", \"https://cdn.bokeh.org/bokeh/release/bokeh-gl-2.0.2.min.js\": \"Ozhzj+SI7ywm74aOI/UajcWz+C0NjsPunEVyVIrxzYkB+jA+2tUw8x5xJCbVtK5I\"};\n\n    for (var i = 0; i < js_urls.length; i++) {\n      var url = js_urls[i];\n      var element = document.createElement('script');\n      element.onload = on_load;\n      element.onerror = on_error;\n      element.async = false;\n      element.src = url;\n      if (url in hashes) {\n        element.crossOrigin = \"anonymous\";\n        element.integrity = \"sha384-\" + hashes[url];\n      }\n      console.debug(\"Bokeh: injecting script tag for BokehJS library: \", url);\n      document.head.appendChild(element);\n    }\n  };\n\n  function inject_raw_css(css) {\n    const element = document.createElement(\"style\");\n    element.appendChild(document.createTextNode(css));\n    document.body.appendChild(element);\n  }\n\n  \n  var js_urls = [\"https://cdn.bokeh.org/bokeh/release/bokeh-2.0.2.min.js\", \"https://cdn.bokeh.org/bokeh/release/bokeh-widgets-2.0.2.min.js\", \"https://cdn.bokeh.org/bokeh/release/bokeh-tables-2.0.2.min.js\", \"https://cdn.bokeh.org/bokeh/release/bokeh-gl-2.0.2.min.js\"];\n  var css_urls = [];\n  \n\n  var inline_js = [\n    function(Bokeh) {\n      Bokeh.set_log_level(\"info\");\n    },\n    function(Bokeh) {\n    \n    \n    }\n  ];\n\n  function run_inline_js() {\n    \n    if (root.Bokeh !== undefined || force === true) {\n      \n    for (var i = 0; i < inline_js.length; i++) {\n      inline_js[i].call(root, root.Bokeh);\n    }\n    if (force === true) {\n        display_loaded();\n      }} else if (Date.now() < root._bokeh_timeout) {\n      setTimeout(run_inline_js, 100);\n    } else if (!root._bokeh_failed_load) {\n      console.log(\"Bokeh: BokehJS failed to load within specified timeout.\");\n      root._bokeh_failed_load = true;\n    } else if (force !== true) {\n      var cell = $(document.getElementById(\"1001\")).parents('.cell').data().cell;\n      cell.output_area.append_execute_result(NB_LOAD_WARNING)\n    }\n\n  }\n\n  if (root._bokeh_is_loading === 0) {\n    console.debug(\"Bokeh: BokehJS loaded, going straight to plotting\");\n    run_inline_js();\n  } else {\n    load_libs(css_urls, js_urls, function() {\n      console.debug(\"Bokeh: BokehJS plotting callback run at\", now());\n      run_inline_js();\n    });\n  }\n}(window));"
     },
     "metadata": {},
     "output_type": "display_data"
    }
   ],
   "source": [
    "import os\n",
    "import pandas as pd\n",
    "import sys\n",
    "sys.path.insert(0, '../..')\n",
    "import itertools\n",
    "from scipy import stats\n",
    "import numpy as np\n",
    "\n",
    "from JKBio.epigenetics import ChIP_helper as chiphelper\n",
    "from JKBio import Helper as helper\n",
    "import igv\n",
    "import SimpSOM as sps\n",
    "from scipy import stats\n",
    "\n",
    "import seaborn as sns\n",
    "from matplotlib import cm\n",
    "from matplotlib import pyplot as plt\n",
    "from IPython.display import IFrame\n",
    "import seaborn as sns\n",
    "from bokeh.plotting import *\n",
    "import igv\n",
    "\n",
    "import numba\n",
    "from numba import jit\n",
    "\n",
    "from scipy.cluster.hierarchy import linkage, leaves_list\n",
    "from sklearn.cluster import AgglomerativeClustering, DBSCAN, KMeans, OPTICS\n",
    "from sklearn.mixture import GaussianMixture\n",
    "from sklearn.manifold import MDS, TSNE\n",
    "from sklearn.decomposition import PCA\n",
    "from sklearn.preprocessing import scale\n",
    "from IPython.display import IFrame\n",
    "\n",
    "from pybedtools import BedTool\n",
    "import pyBigWig\n",
    "\n",
    "output_notebook()\n",
    "%load_ext autoreload\n",
    "%autoreload 2"
   ]
  },
  {
   "cell_type": "code",
   "execution_count": 35,
   "metadata": {},
   "outputs": [],
   "source": [
    "project=\"Cobinding_ChIP\"\n",
    "version=\"v3\""
   ]
  },
  {
   "cell_type": "markdown",
   "metadata": {
    "slideshow": {
     "slide_type": "slide"
    }
   },
   "source": [
    "## processing using Nextflow"
   ]
  },
  {
   "cell_type": "code",
   "execution_count": 72,
   "metadata": {
    "scrolled": true,
    "slideshow": {
     "slide_type": "subslide"
    }
   },
   "outputs": [
    {
     "data": {
      "text/plain": [
       "['gs://amlproject/Chip/fastqs/paired_end/mp300-MV411-RUNX1-r2_R1.fastq.gz',\n",
       " 'gs://amlproject/Chip/fastqs/paired_end/mp300-MV411-RUNX1-r2_R2.fastq.gz',\n",
       " 'gs://amlproject/Chip/fastqs/paired_end/mp301-MV411-PU1-r2_R1.fastq.gz',\n",
       " 'gs://amlproject/Chip/fastqs/paired_end/mp301-MV411-PU1-r2_R2.fastq.gz',\n",
       " 'gs://amlproject/Chip/fastqs/paired_end/mp319-MV411-FLI1-r1_R1.fastq.gz',\n",
       " 'gs://amlproject/Chip/fastqs/paired_end/mp319-MV411-FLI1-r1_R2.fastq.gz',\n",
       " 'gs://amlproject/Chip/fastqs/paired_end/mp320-MV411-ZEB2-r1_R1.fastq.gz',\n",
       " 'gs://amlproject/Chip/fastqs/paired_end/mp320-MV411-ZEB2-r1_R2.fastq.gz',\n",
       " 'gs://amlproject/Chip/fastqs/paired_end/mp321-MV411-GFI1-r1_R1.fastq.gz',\n",
       " 'gs://amlproject/Chip/fastqs/paired_end/mp321-MV411-GFI1-r1_R2.fastq.gz',\n",
       " 'gs://amlproject/Chip/fastqs/paired_end/mp324-MV411-MEF2D-r1_R1.fastq.gz',\n",
       " 'gs://amlproject/Chip/fastqs/paired_end/mp324-MV411-MEF2D-r1_R2.fastq.gz',\n",
       " 'gs://amlproject/Chip/fastqs/paired_end/mp325-MV411-SP1-r2_R1.fastq.gz',\n",
       " 'gs://amlproject/Chip/fastqs/paired_end/mp325-MV411-SP1-r2_R2.fastq.gz',\n",
       " 'gs://amlproject/Chip/fastqs/paired_end/mp845-MV411-INPUT-r2_R1.fastq.gz',\n",
       " 'gs://amlproject/Chip/fastqs/paired_end/mp845-MV411-INPUT-r2_R2.fastq.gz',\n",
       " 'gs://amlproject/Chip/fastqs/paired_end/mp874-MV411_MEF2D_NT_SC_63-FLAG_MEF2D-r2_R1_001.fastq.gz',\n",
       " 'gs://amlproject/Chip/fastqs/paired_end/mp874-MV411_MEF2D_NT_SC_63-FLAG_MEF2D-r2_R2_001.fastq.gz',\n",
       " 'gs://amlproject/Chip/fastqs/paired_end/mp875-MV411_MEF2C_NT-FLAG_MEF2C-r1_R1_001.fastq.gz',\n",
       " 'gs://amlproject/Chip/fastqs/paired_end/mp875-MV411_MEF2C_NT-FLAG_MEF2C-r1_R2_001.fastq.gz',\n",
       " 'gs://amlproject/Chip/fastqs/paired_end/mp876-MV411-ZFP281-r1_R1_001.fastq.gz',\n",
       " 'gs://amlproject/Chip/fastqs/paired_end/mp876-MV411-ZFP281-r1_R2_001.fastq.gz',\n",
       " 'gs://amlproject/Chip/fastqs/paired_end/mp877-MV411-PLAGL2-r1_R1_001.fastq.gz',\n",
       " 'gs://amlproject/Chip/fastqs/paired_end/mp877-MV411-PLAGL2-r1_R2_001.fastq.gz',\n",
       " 'gs://amlproject/Chip/fastqs/paired_end/mp878-MV411-HEX-r1_R1_001.fastq.gz',\n",
       " 'gs://amlproject/Chip/fastqs/paired_end/mp878-MV411-HEX-r1_R2_001.fastq.gz',\n",
       " 'gs://amlproject/Chip/fastqs/paired_end/mp879-MV411-FOSL2-r1_R1_001.fastq.gz',\n",
       " 'gs://amlproject/Chip/fastqs/paired_end/mp879-MV411-FOSL2-r1_R2_001.fastq.gz',\n",
       " 'gs://amlproject/Chip/fastqs/paired_end/mp880-MV411-RARA-r1_R1_001.fastq.gz',\n",
       " 'gs://amlproject/Chip/fastqs/paired_end/mp880-MV411-RARA-r1_R2_001.fastq.gz',\n",
       " 'gs://amlproject/Chip/fastqs/paired_end/mp913-MV411-TFP4-r1_R1_001.fastq.gz',\n",
       " 'gs://amlproject/Chip/fastqs/paired_end/mp913-MV411-TFP4-r1_R2_001.fastq.gz',\n",
       " 'gs://amlproject/Chip/fastqs/paired_end/mp914-MV411-RXRA-r1_R1_001.fastq.gz',\n",
       " 'gs://amlproject/Chip/fastqs/paired_end/mp914-MV411-RXRA-r1_R2_001.fastq.gz',\n",
       " 'gs://amlproject/Chip/fastqs/paired_end/mp915-MV411_MEF2C_NT-MEF2C-r2_R1_001.fastq.gz',\n",
       " 'gs://amlproject/Chip/fastqs/paired_end/mp915-MV411_MEF2C_NT-MEF2C-r2_R2_001.fastq.gz']"
      ]
     },
     "execution_count": 72,
     "metadata": {},
     "output_type": "execute_result"
    }
   ],
   "source": [
    "fastq = ! gsutil ls gs://amlproject/Chip/fastqs/paired_end/*MV411* # all other cell lines don't have the right INPUT\n",
    "fastq"
   ]
  },
  {
   "cell_type": "code",
   "execution_count": 56,
   "metadata": {},
   "outputs": [],
   "source": [
    "from gsheets import Sheets\n",
    "# Here you might not need this line, otherwise you need to generate your json files from \n",
    "# https://pygsheets.readthedocs.io/en/stable/authorization.html\n",
    "sheets = Sheets.from_files('~/.client_secret.json', '~/.storage.json')\n",
    "url=\"https://docs.google.com/spreadsheets/d/1yFLjYB1McU530JnLgL0QIMAKIkVl3kl0_LCHje2gk8U\"\n",
    "gsheet = sheets.get(url).sheets[2].to_frame()"
   ]
  },
  {
   "cell_type": "code",
   "execution_count": null,
   "metadata": {},
   "outputs": [],
   "source": [
    "## TODO: add paired end input to fastqs/paired_end\n",
    "# separate narrow to broad peak files\n",
    "# merge the results\n",
    "#"
   ]
  },
  {
   "cell_type": "code",
   "execution_count": 76,
   "metadata": {},
   "outputs": [],
   "source": [
    "df = {\n",
    "\"fastq_1\": [],\n",
    "\"fastq_2\": [],\n",
    "\"antibody\": [],\n",
    "\"group\": [],\n",
    "\"replicate\": [],\n",
    "\"control\": []\n",
    "}\n",
    "for val in helper.grouped(fastq,2):\n",
    "    row = gsheet[gsheet.id==val[0].split('/')[-1].split('-')[0]]\n",
    "    df['group'].append(row['name'].values[0].split('-r')[0])\n",
    "    df['replicate'].append(df['antibody'].count(row['protein'].values[0])+1)\n",
    "    df['fastq_1'].append(val[0])\n",
    "    df['fastq_2'].append(val[1])\n",
    "    if row['matching input name'].values[0] is not None:\n",
    "        df['antibody'].append(row['protein'].values[0])\n",
    "        cont = gsheet[gsheet.id==row['matching input name'].values[0]]\n",
    "        df['control'].append(cont['name'].values[0].split('-r')[0])\n",
    "    else:\n",
    "        df['antibody'].append(\"\")\n",
    "        df['control'].append(\"\")\n",
    "df = pd.DataFrame(df)\n",
    "df[df.columns[[3,4,0,1,2,5]]].to_csv('../nextflow/'+project+'_paired_end_design.csv',index=False)"
   ]
  },
  {
   "cell_type": "code",
   "execution_count": 70,
   "metadata": {
    "scrolled": true
   },
   "outputs": [
    {
     "data": {
      "text/plain": [
       "['gs://amlproject/Chip/fastqs/db28-MV411-H3K18-r1.fastq.gz',\n",
       " 'gs://amlproject/Chip/fastqs/db29-MV411-AFF4-r1.fastq.gz',\n",
       " 'gs://amlproject/Chip/fastqs/db30-MV411-CDK9-r1.fastq.gz',\n",
       " 'gs://amlproject/Chip/fastqs/db31-MV411-PSER2-r1.fastq.gz',\n",
       " 'gs://amlproject/Chip/fastqs/db32-MV411-INPUT-r1.fastq.gz',\n",
       " 'gs://amlproject/Chip/fastqs/db33-MV411-INPUT-r2.fastq.gz',\n",
       " 'gs://amlproject/Chip/fastqs/db34-MV411-CEBPB-r1.fastq.gz',\n",
       " 'gs://amlproject/Chip/fastqs/db35-MV411-INPUT-r3.fastq.gz',\n",
       " 'gs://amlproject/Chip/fastqs/db36-MV411-INPUT-r4.fastq.gz',\n",
       " 'gs://amlproject/Chip/fastqs/db37-MV411-WDR5_429A-r1.fastq.gz',\n",
       " 'gs://amlproject/Chip/fastqs/db38-MV411-WDR5_429A-r2.fastq.gz',\n",
       " 'gs://amlproject/Chip/fastqs/db39-MV411-WDR5_429A-r3.fastq.gz',\n",
       " 'gs://amlproject/Chip/fastqs/db40-MV411-WDR5_D9E1-r1.fastq.gz',\n",
       " 'gs://amlproject/Chip/fastqs/db41-MV411-WDR5_D9E1-r2.fastq.gz',\n",
       " 'gs://amlproject/Chip/fastqs/db42-MV411-WDR5_D9E1-r3.fastq.gz',\n",
       " 'gs://amlproject/Chip/fastqs/db43-MV411-IGG-r1.fastq.gz',\n",
       " 'gs://amlproject/Chip/fastqs/db44-MV411-IGG-r2.fastq.gz',\n",
       " 'gs://amlproject/Chip/fastqs/db45-MV411-IGG-r3.fastq.gz',\n",
       " 'gs://amlproject/Chip/fastqs/db46-MV411-BRD4-r1.fastq.gz',\n",
       " 'gs://amlproject/Chip/fastqs/db47-MV411-BRD4-r2.fastq.gz',\n",
       " 'gs://amlproject/Chip/fastqs/db48-MV411-INPUT-r5.fastq.gz',\n",
       " 'gs://amlproject/Chip/fastqs/db49-MV411-INPUT-r6.fastq.gz',\n",
       " 'gs://amlproject/Chip/fastqs/db50-MV411-AFF1_AF4-r1.fastq.gz',\n",
       " 'gs://amlproject/Chip/fastqs/db51-MV411-H3K36me2-r1.fastq.gz',\n",
       " 'gs://amlproject/Chip/fastqs/db52-MV411-INPUT-r7.fastq.gz',\n",
       " 'gs://amlproject/Chip/fastqs/db53-MV411-H3K9ac-r1.fastq.gz',\n",
       " 'gs://amlproject/Chip/fastqs/db54-MV411-INPUT-r8.fastq.gz',\n",
       " 'gs://amlproject/Chip/fastqs/db55-MV411-RUNX1-r1.fastq.gz',\n",
       " 'gs://amlproject/Chip/fastqs/db56-MV411-MLL_KTM2A-r1.fastq.gz',\n",
       " 'gs://amlproject/Chip/fastqs/mp100-U937-INPUT-r1.fastq.gz',\n",
       " 'gs://amlproject/Chip/fastqs/mp101-NOMO1-INPUT-r1.fastq.gz',\n",
       " 'gs://amlproject/Chip/fastqs/mp102-UT7-INPUT-r1.fastq.gz',\n",
       " 'gs://amlproject/Chip/fastqs/mp106-MV411-MYB-r1.fastq.gz',\n",
       " 'gs://amlproject/Chip/fastqs/mp109-M6-CEBPA-r1.fastq.gz',\n",
       " 'gs://amlproject/Chip/fastqs/mp112-MV411-CEBPA-r1.fastq.gz',\n",
       " 'gs://amlproject/Chip/fastqs/mp115-MV411-PU1-r1.fastq.gz',\n",
       " 'gs://amlproject/Chip/fastqs/mp116-MV411-MYB-r2.fastq.gz',\n",
       " 'gs://amlproject/Chip/fastqs/mp117-MV411-POLII-r1.fastq.gz',\n",
       " 'gs://amlproject/Chip/fastqs/mp118-MV411-SP1-r1.fastq.gz',\n",
       " 'gs://amlproject/Chip/fastqs/mp120-HL60-INPUT-r1.fastq.gz',\n",
       " 'gs://amlproject/Chip/fastqs/mp121-UCSDAML1-INPUT-r1.fastq.gz',\n",
       " 'gs://amlproject/Chip/fastqs/mp122-M6-CEBPA-r2.fastq.gz',\n",
       " 'gs://amlproject/Chip/fastqs/mp123-M6-RUNX1-r1.fastq.gz',\n",
       " 'gs://amlproject/Chip/fastqs/mp124-M6-MYB-r1.fastq.gz',\n",
       " 'gs://amlproject/Chip/fastqs/mp125-M6-ETV6-r1.fastq.gz',\n",
       " 'gs://amlproject/Chip/fastqs/mp127-M6-SP1-r1.fastq.gz',\n",
       " 'gs://amlproject/Chip/fastqs/mp128-M6-MED1-r1.fastq.gz',\n",
       " 'gs://amlproject/Chip/fastqs/mp129-MV411-RUNX1-r1.fastq.gz',\n",
       " 'gs://amlproject/Chip/fastqs/mp134-MV411-IGG-r1.fastq.gz',\n",
       " 'gs://amlproject/Chip/fastqs/mp136-MV411-H3K27ac-r1.fastq.gz',\n",
       " 'gs://amlproject/Chip/fastqs/mp137-MV411-H3K4me1-r1.fastq.gz',\n",
       " 'gs://amlproject/Chip/fastqs/mp138-MV411-H3K4me3-r1.fastq.gz',\n",
       " 'gs://amlproject/Chip/fastqs/mp14-D9-INPUT-r1.fastq.gz',\n",
       " 'gs://amlproject/Chip/fastqs/mp14-D9-INPUT-r13.fastq.gz',\n",
       " 'gs://amlproject/Chip/fastqs/mp153-D9-CEBPA-r1.fastq.gz',\n",
       " 'gs://amlproject/Chip/fastqs/mp154-D9-PU1-r1.fastq.gz',\n",
       " 'gs://amlproject/Chip/fastqs/mp155-D9-MYB-r1.fastq.gz',\n",
       " 'gs://amlproject/Chip/fastqs/mp156-D9-SP1-r1.fastq.gz',\n",
       " 'gs://amlproject/Chip/fastqs/mp157-D9-H3K27ac-r1.fastq.gz',\n",
       " 'gs://amlproject/Chip/fastqs/mp160-D9-MED1-r1.fastq.gz',\n",
       " 'gs://amlproject/Chip/fastqs/mp168-OCIAML2-PU1-r1.fastq.gz',\n",
       " 'gs://amlproject/Chip/fastqs/mp171-M6-PU1-r1.fastq.gz',\n",
       " 'gs://amlproject/Chip/fastqs/mp183-MV411_DMSO-H3K27ac-r1.fastq.gz',\n",
       " 'gs://amlproject/Chip/fastqs/mp186-NOMO1-H3K27ac-r1.fastq.gz',\n",
       " 'gs://amlproject/Chip/fastqs/mp187-UT7-H3K27ac-r1.fastq.gz',\n",
       " 'gs://amlproject/Chip/fastqs/mp188-UCSDAML1-H3K27ac-r1.fastq.gz',\n",
       " 'gs://amlproject/Chip/fastqs/mp193-NB4-H3K27ac-r1.fastq.gz',\n",
       " 'gs://amlproject/Chip/fastqs/mp194-TF1-H3K27ac-r1.fastq.gz',\n",
       " 'gs://amlproject/Chip/fastqs/mp195-OCIAML3-H3K27ac-r1.fastq.gz',\n",
       " 'gs://amlproject/Chip/fastqs/mp196-MONOMAC6-H3K27ac-r1.fastq.gz',\n",
       " 'gs://amlproject/Chip/fastqs/mp197-SKNO1-H3K27ac-r1.fastq.gz',\n",
       " 'gs://amlproject/Chip/fastqs/mp2-D9-H3K27ac-r2.fastq.gz',\n",
       " 'gs://amlproject/Chip/fastqs/mp203-NB4-H3K27ac-r2.fastq.gz',\n",
       " 'gs://amlproject/Chip/fastqs/mp204-TF1-H3K27ac-r2.fastq.gz',\n",
       " 'gs://amlproject/Chip/fastqs/mp205-OCIAML3-H3K27ac-r2.fastq.gz',\n",
       " 'gs://amlproject/Chip/fastqs/mp206-MONOMAC6-H3K27ac-r2.fastq.gz',\n",
       " 'gs://amlproject/Chip/fastqs/mp207-KG1-H3K27ac-r1.fastq.gz',\n",
       " 'gs://amlproject/Chip/fastqs/mp213-U937-H3K27ac-r1.fastq.gz',\n",
       " 'gs://amlproject/Chip/fastqs/mp214-UT7-H3K27ac-r2.fastq.gz',\n",
       " 'gs://amlproject/Chip/fastqs/mp216-SKNO1-H3K27ac-r2.fastq.gz',\n",
       " 'gs://amlproject/Chip/fastqs/mp217-HEL-H3K27ac-r1.fastq.gz',\n",
       " 'gs://amlproject/Chip/fastqs/mp218-HEL-H3K27ac-r2.fastq.gz',\n",
       " 'gs://amlproject/Chip/fastqs/mp230-SKNO1-MYB-r1.fastq.gz',\n",
       " 'gs://amlproject/Chip/fastqs/mp231-SKNO1-CEBPA-r1.fastq.gz',\n",
       " 'gs://amlproject/Chip/fastqs/mp232-SKNO1-ETV6-r1.fastq.gz',\n",
       " 'gs://amlproject/Chip/fastqs/mp233-SKNO1-RUNX1-r1.fastq.gz',\n",
       " 'gs://amlproject/Chip/fastqs/mp24-OCIAML2-INPUT-r1.fastq.gz',\n",
       " 'gs://amlproject/Chip/fastqs/mp27-D9-CEBPA-r2.fastq.gz',\n",
       " 'gs://amlproject/Chip/fastqs/mp293-MV411-H3K79me2-r1.fastq.gz',\n",
       " 'gs://amlproject/Chip/fastqs/mp299-MV411-CEBPA-r2.fastq.gz',\n",
       " 'gs://amlproject/Chip/fastqs/mp302-M6-MYB-r2.fastq.gz',\n",
       " 'gs://amlproject/Chip/fastqs/mp304-D9-PU1-r2.fastq.gz',\n",
       " 'gs://amlproject/Chip/fastqs/mp305-SKNO1-PU1-r1.fastq.gz',\n",
       " 'gs://amlproject/Chip/fastqs/mp308-SKNO1-RUNX1_RUNX1T1-r1.fastq.gz',\n",
       " 'gs://amlproject/Chip/fastqs/mp309-KG1-INPUT-r1.fastq.gz',\n",
       " 'gs://amlproject/Chip/fastqs/mp310-Kasumi1-INPUT-r1.fastq.gz',\n",
       " 'gs://amlproject/Chip/fastqs/mp311-MOLM13-INPUT-r1.fastq.gz',\n",
       " 'gs://amlproject/Chip/fastqs/mp312-NB4-INPUT-r1.fastq.gz',\n",
       " 'gs://amlproject/Chip/fastqs/mp313-TF1-INPUT-r1.fastq.gz',\n",
       " 'gs://amlproject/Chip/fastqs/mp314-OCIAML3-INPUT-r1.fastq.gz',\n",
       " 'gs://amlproject/Chip/fastqs/mp315-MONOMAC6-INPUT-r1.fastq.gz',\n",
       " 'gs://amlproject/Chip/fastqs/mp316-SKNO1-INPUT-r1.fastq.gz',\n",
       " 'gs://amlproject/Chip/fastqs/mp326-DFAM71927V3-INPUT-r1.fastq.gz',\n",
       " 'gs://amlproject/Chip/fastqs/mp33-OCIAML2-INPUT-r2.fastq.gz',\n",
       " 'gs://amlproject/Chip/fastqs/mp35-D9-INPUT-r2.fastq.gz',\n",
       " 'gs://amlproject/Chip/fastqs/mp351-D0-H3K27ac-r1.fastq.gz',\n",
       " 'gs://amlproject/Chip/fastqs/mp352-D0-H3K27ac-r2.fastq.gz',\n",
       " 'gs://amlproject/Chip/fastqs/mp353-D9-H3K27ac-r3.fastq.gz',\n",
       " 'gs://amlproject/Chip/fastqs/mp354-D9-H3K27ac-r4.fastq.gz',\n",
       " 'gs://amlproject/Chip/fastqs/mp355-M6-H3K27ac-r1.fastq.gz',\n",
       " 'gs://amlproject/Chip/fastqs/mp356-M6-H3K27ac-r2.fastq.gz',\n",
       " 'gs://amlproject/Chip/fastqs/mp357-MV411-ZMYND8-r1.fastq.gz',\n",
       " 'gs://amlproject/Chip/fastqs/mp358-MV411-ZMYND8-r2.fastq.gz',\n",
       " 'gs://amlproject/Chip/fastqs/mp359-MV411-LMO2-r1.fastq.gz',\n",
       " 'gs://amlproject/Chip/fastqs/mp4-D9-IGG-r1.fastq.gz',\n",
       " 'gs://amlproject/Chip/fastqs/mp41-OCIAML2-CEBPA-r1.fastq.gz',\n",
       " 'gs://amlproject/Chip/fastqs/mp424-MV411-RUNX1-r3.fastq.gz',\n",
       " 'gs://amlproject/Chip/fastqs/mp425-MV411-ETV6-r1.fastq.gz',\n",
       " 'gs://amlproject/Chip/fastqs/mp426-MV411-SP1-r3.fastq.gz',\n",
       " 'gs://amlproject/Chip/fastqs/mp427-MV411-LMO2-r2.fastq.gz',\n",
       " 'gs://amlproject/Chip/fastqs/mp428-MV411-PU1-r3.fastq.gz',\n",
       " 'gs://amlproject/Chip/fastqs/mp429-MV411-IRF8-r1.fastq.gz',\n",
       " 'gs://amlproject/Chip/fastqs/mp430-MV411-IRF2BP2-r1.fastq.gz',\n",
       " 'gs://amlproject/Chip/fastqs/mp431-MV411-IRF2BP2-r2.fastq.gz',\n",
       " 'gs://amlproject/Chip/fastqs/mp433-MV411-GSE1-r1.fastq.gz',\n",
       " 'gs://amlproject/Chip/fastqs/mp435-MV411-MED1-r1.fastq.gz',\n",
       " 'gs://amlproject/Chip/fastqs/mp45-OCIAML2-H3K27ac-r1.fastq.gz',\n",
       " 'gs://amlproject/Chip/fastqs/mp48-MOLM13-H3K27ac-r1.fastq.gz',\n",
       " 'gs://amlproject/Chip/fastqs/mp5-D9-INPUT-r3.fastq.gz',\n",
       " 'gs://amlproject/Chip/fastqs/mp50-OCIAML2-H3K27ac-r2.fastq.gz',\n",
       " 'gs://amlproject/Chip/fastqs/mp53-HL60-H3K27ac-r1.fastq.gz',\n",
       " 'gs://amlproject/Chip/fastqs/mp56-Kasumi1-H3K27ac-r1.fastq.gz',\n",
       " 'gs://amlproject/Chip/fastqs/mp565-MV411-CDK13-r1.fastq.gz',\n",
       " 'gs://amlproject/Chip/fastqs/mp568-MV411-ZEB2-r2.fastq.gz',\n",
       " 'gs://amlproject/Chip/fastqs/mp569-MV411-ETV6-r2.fastq.gz',\n",
       " 'gs://amlproject/Chip/fastqs/mp570-MV411-CTCF-r1.fastq.gz',\n",
       " 'gs://amlproject/Chip/fastqs/mp575-MV411-IRF2BP2-r3.fastq.gz',\n",
       " 'gs://amlproject/Chip/fastqs/mp577-MV411-SMC1-r1.fastq.gz',\n",
       " 'gs://amlproject/Chip/fastqs/mp58-KG1-H3K27ac-r2.fastq.gz',\n",
       " 'gs://amlproject/Chip/fastqs/mp581-MV411-MEF2C-r1.fastq.gz',\n",
       " 'gs://amlproject/Chip/fastqs/mp582-MV411-MEIS1-r1.fastq.gz',\n",
       " 'gs://amlproject/Chip/fastqs/mp583-MV411-ELF2-r1.fastq.gz',\n",
       " 'gs://amlproject/Chip/fastqs/mp584-MV411-MYC-r1.fastq.gz',\n",
       " 'gs://amlproject/Chip/fastqs/mp585-MV411-MYC-r2.fastq.gz',\n",
       " 'gs://amlproject/Chip/fastqs/mp587-MV411-IKZF1-r1.fastq.gz',\n",
       " 'gs://amlproject/Chip/fastqs/mp589-MV411-ETV6-r3.fastq.gz',\n",
       " 'gs://amlproject/Chip/fastqs/mp590-MV411-GATA2-r1.fastq.gz',\n",
       " 'gs://amlproject/Chip/fastqs/mp591-MONOMAC1-H3K27ac-r1.fastq.gz',\n",
       " 'gs://amlproject/Chip/fastqs/mp592-MONOMAC1-H3K27ac-r2.fastq.gz',\n",
       " 'gs://amlproject/Chip/fastqs/mp593-HEL9217-H3K27ac-r1.fastq.gz',\n",
       " 'gs://amlproject/Chip/fastqs/mp594-HEL9217-H3K27ac-r2.fastq.gz',\n",
       " 'gs://amlproject/Chip/fastqs/mp597-PLB985-H3K27ac-r1.fastq.gz',\n",
       " 'gs://amlproject/Chip/fastqs/mp598-PLB985-H3K27ac-r2.fastq.gz',\n",
       " 'gs://amlproject/Chip/fastqs/mp6-D0-INPUT-r1.fastq.gz',\n",
       " 'gs://amlproject/Chip/fastqs/mp601-MV411-RUNX2-r1.fastq.gz',\n",
       " 'gs://amlproject/Chip/fastqs/mp604-MV411-IKZF1-r2.fastq.gz',\n",
       " 'gs://amlproject/Chip/fastqs/mp607-MV411-ELF2-r2.fastq.gz',\n",
       " 'gs://amlproject/Chip/fastqs/mp609-MONOMAC1-INPUT-r1.fastq.gz',\n",
       " 'gs://amlproject/Chip/fastqs/mp610-HEL9217-INPUT-r1.fastq.gz',\n",
       " 'gs://amlproject/Chip/fastqs/mp611-P31FUJ-INPUT-r1.fastq.gz',\n",
       " 'gs://amlproject/Chip/fastqs/mp612-PLB985-INPUT-r1.fastq.gz',\n",
       " 'gs://amlproject/Chip/fastqs/mp614-MV411-MEF2C-r2.fastq.gz',\n",
       " 'gs://amlproject/Chip/fastqs/mp623-MV411-MEF2D-r2.fastq.gz',\n",
       " 'gs://amlproject/Chip/fastqs/mp627-MV411-MEF2C-r3.fastq.gz',\n",
       " 'gs://amlproject/Chip/fastqs/mp631-SKNO1-PU1-r2.fastq.gz',\n",
       " 'gs://amlproject/Chip/fastqs/mp633-SKNO1-FLI1-r1.fastq.gz',\n",
       " 'gs://amlproject/Chip/fastqs/mp635-SKNO1-ERG-r1.fastq.gz',\n",
       " 'gs://amlproject/Chip/fastqs/mp636-SKNO1-MYC-r1.fastq.gz',\n",
       " 'gs://amlproject/Chip/fastqs/mp637-SKNO1-ERG-r2.fastq.gz',\n",
       " 'gs://amlproject/Chip/fastqs/mp638-SKNO1-MAX-r1.fastq.gz',\n",
       " 'gs://amlproject/Chip/fastqs/mp639-MV411-MAX-r1.fastq.gz',\n",
       " 'gs://amlproject/Chip/fastqs/mp640-MV411-LYL1-r1.fastq.gz',\n",
       " 'gs://amlproject/Chip/fastqs/mp643-DFAM71927V3-INPUT-r2.fastq.gz',\n",
       " 'gs://amlproject/Chip/fastqs/mp650-MV411-LDB1-r1.fastq.gz',\n",
       " 'gs://amlproject/Chip/fastqs/mp67-OCIAML2-H3K27ac-r3.fastq.gz',\n",
       " 'gs://amlproject/Chip/fastqs/mp690-MV411_DMSO-MAX-r1.fastq.gz',\n",
       " 'gs://amlproject/Chip/fastqs/mp7-D0-EZH2-r1.fastq.gz',\n",
       " 'gs://amlproject/Chip/fastqs/mp70-MV411-H3K27ac-r2.fastq.gz',\n",
       " 'gs://amlproject/Chip/fastqs/mp702-MV411_DMSO-H3K27ac-r1.fastq.gz',\n",
       " 'gs://amlproject/Chip/fastqs/mp71-MV411-H3K27me3-r1.fastq.gz',\n",
       " 'gs://amlproject/Chip/fastqs/mp714-MV411-ZEB2-r3.fastq.gz',\n",
       " 'gs://amlproject/Chip/fastqs/mp715-MV411-ZEB2-r4.fastq.gz',\n",
       " 'gs://amlproject/Chip/fastqs/mp716-MV411-GSE1-r2.fastq.gz',\n",
       " 'gs://amlproject/Chip/fastqs/mp717-MV411-GATA2-r2.fastq.gz',\n",
       " 'gs://amlproject/Chip/fastqs/mp718-MV411-IRF2BP2-r4.fastq.gz',\n",
       " 'gs://amlproject/Chip/fastqs/mp72-MV411-CEBPA-r3.fastq.gz',\n",
       " 'gs://amlproject/Chip/fastqs/mp724-MV411_DMSO-MYC-r1.fastq.gz',\n",
       " 'gs://amlproject/Chip/fastqs/mp728-MV411_DMSO-CEBPA-r1.fastq.gz',\n",
       " 'gs://amlproject/Chip/fastqs/mp73-U937-H3K27ac-r2.fastq.gz',\n",
       " 'gs://amlproject/Chip/fastqs/mp734-MV411_DMSO-H3K27ac-r1.fastq.gz',\n",
       " 'gs://amlproject/Chip/fastqs/mp739-DFAM71927V3-RUNX1-r1.fastq.gz',\n",
       " 'gs://amlproject/Chip/fastqs/mp741-DFAM71927V3-MYB-r1.fastq.gz',\n",
       " 'gs://amlproject/Chip/fastqs/mp742-DFAM71927V3-MYC-r1.fastq.gz',\n",
       " 'gs://amlproject/Chip/fastqs/mp743-DFAM71927V3-SP1-r1.fastq.gz',\n",
       " 'gs://amlproject/Chip/fastqs/mp745-DFAM71927V3-GFI1-r1.fastq.gz',\n",
       " 'gs://amlproject/Chip/fastqs/mp748-DFAM71927V3-ELF2-r1.fastq.gz',\n",
       " 'gs://amlproject/Chip/fastqs/mp750-DFAM71927V3-GATA2-r1.fastq.gz',\n",
       " 'gs://amlproject/Chip/fastqs/mp751-DFAM71927V3-FLI1-r1.fastq.gz',\n",
       " 'gs://amlproject/Chip/fastqs/mp752-SHI1-H3K27ac-r1.fastq.gz',\n",
       " 'gs://amlproject/Chip/fastqs/mp754-EOL1-H3K27ac-r1.fastq.gz',\n",
       " 'gs://amlproject/Chip/fastqs/mp755-EOL1-H3K27ac-r2.fastq.gz',\n",
       " 'gs://amlproject/Chip/fastqs/mp756-F36P-H3K27ac-r1.fastq.gz',\n",
       " 'gs://amlproject/Chip/fastqs/mp757-F36P-H3K27ac-r2.fastq.gz',\n",
       " 'gs://amlproject/Chip/fastqs/mp758-SHI1-H3K27ac-r2.fastq.gz',\n",
       " 'gs://amlproject/Chip/fastqs/mp759-SHI1-H3K27ac-r3.fastq.gz',\n",
       " 'gs://amlproject/Chip/fastqs/mp760-MV411_MEF2D_NT_SC_63-FLAG-r1.fastq.gz',\n",
       " 'gs://amlproject/Chip/fastqs/mp761-MV411_PU1_NT_SC_1-FLAG-r1.fastq.gz',\n",
       " 'gs://amlproject/Chip/fastqs/mp762-MV411_IRF2BP2_CT_GFP_8-FLAG-r1.fastq.gz',\n",
       " 'gs://amlproject/Chip/fastqs/mp763-MV411-RUNX2-r2.fastq.gz',\n",
       " 'gs://amlproject/Chip/fastqs/mp764-MV411-RUNX2-r3.fastq.gz',\n",
       " 'gs://amlproject/Chip/fastqs/mp765-MV411-RUNX2-r4.fastq.gz',\n",
       " 'gs://amlproject/Chip/fastqs/mp767-MV411-FOXP1-r1.fastq.gz',\n",
       " 'gs://amlproject/Chip/fastqs/mp768-MV411-FOXP1-r2.fastq.gz',\n",
       " 'gs://amlproject/Chip/fastqs/mp77-HL60-H3K27ac-r2.fastq.gz',\n",
       " 'gs://amlproject/Chip/fastqs/mp770-MV411-MYBL2-r1.fastq.gz',\n",
       " 'gs://amlproject/Chip/fastqs/mp771-MV411-JUND-r1.fastq.gz',\n",
       " 'gs://amlproject/Chip/fastqs/mp772-MV411-JUND-r2.fastq.gz',\n",
       " 'gs://amlproject/Chip/fastqs/mp773-MV411-HOXA9-r1.fastq.gz',\n",
       " 'gs://amlproject/Chip/fastqs/mp774-MV411-HOXA9-r2.fastq.gz',\n",
       " 'gs://amlproject/Chip/fastqs/mp776-P31FUJ-H3K27ac-r1.fastq.gz',\n",
       " 'gs://amlproject/Chip/fastqs/mp777-MONOMAC1-H3K27ac-r3.fastq.gz',\n",
       " 'gs://amlproject/Chip/fastqs/mp778-MONOMAC1-H3K27ac-r4.fastq.gz',\n",
       " 'gs://amlproject/Chip/fastqs/mp8-D0-INPUT-r2.fastq.gz',\n",
       " 'gs://amlproject/Chip/fastqs/mp88-MV411-H3K27ac-r3.fastq.gz',\n",
       " 'gs://amlproject/Chip/fastqs/mp89-MV411-H3K36me3-r1.fastq.gz',\n",
       " 'gs://amlproject/Chip/fastqs/mp90-U937-H3K27ac-r3.fastq.gz',\n",
       " 'gs://amlproject/Chip/fastqs/mp92-NOMO1-H3K27ac-r2.fastq.gz',\n",
       " 'gs://amlproject/Chip/fastqs/mp98-M6-INPUT-r1.fastq.gz',\n",
       " 'gs://amlproject/Chip/fastqs/mp99-MV411-INPUT-r1.fastq.gz']"
      ]
     },
     "execution_count": 70,
     "metadata": {},
     "output_type": "execute_result"
    }
   ],
   "source": [
    "fastq = ! gsutil ls gs://amlproject/Chip/fastqs/*.gz\n",
    "fastq"
   ]
  },
  {
   "cell_type": "code",
   "execution_count": 59,
   "metadata": {},
   "outputs": [],
   "source": [
    "df = {\n",
    "\"fastq_1\": [],\n",
    "\"fastq_2\": [],\n",
    "\"antibody\": [],\n",
    "\"group\": [],\n",
    "\"replicate\": [],\n",
    "\"control\": []\n",
    "}\n",
    "for val in fastq:\n",
    "    row = gsheet[gsheet.id==val.split('/')[-1].split('-')[0]]\n",
    "    df['group'].append(row['name'].values[0].split('-r')[0])\n",
    "    df['replicate'].append(row['name'].values[0].split('-r')[1])\n",
    "    df['fastq_1'].append(val)\n",
    "    df['fastq_2'].append(\"\")\n",
    "    if row['matching input name'].values[0] is not None and row['matching input name'].values[0] is not np.nan:\n",
    "        df['antibody'].append(row['protein'].values[0])\n",
    "        cont = gsheet[gsheet.id==row['matching input name'].values[0]]\n",
    "        df['control'].append(cont['name'].values[0].split('-r')[0])\n",
    "    else:\n",
    "        df['antibody'].append(\"\")\n",
    "        df['control'].append(\"\")\n",
    "df = pd.DataFrame(df)\n",
    "df[df.columns[[3,4,0,1,2,5]]].to_csv('../nextflow/'+project+'_single_end_design.csv',index=False)"
   ]
  },
  {
   "cell_type": "markdown",
   "metadata": {
    "slideshow": {
     "slide_type": "slide"
    }
   },
   "source": [
    "## Pipeline\n",
    "\n",
    "![](images/gcpjup.png)\n",
    "\n",
    "\n",
    "- Raw read QC (FastQC)\n",
    "- Adapter trimming (Trim Galore!)\n",
    "- Alignment (BWA)\n",
    "- Mark duplicates (picard)\n",
    "- Merge alignments from multiple libraries of the same sample (picard)\n",
    "- Re-mark duplicates (picard)\n",
    "- Filtering to remove: blacklisted regions, duplicates, primary alignments,unmapped,multiple locations, containing >  4 mismatches, insert size > 2kb, map to different chromosomes \n",
    "- Alignment-level QC and estimation of library complexity (picard, Preseq)\n",
    "- Create normalised bigWig files scaled to 1 million mapped reads (BEDTools, bedGraphToBigWig)\n",
    "- Generate gene-body meta-profile from bigWig files (deepTools)\n",
    "- Calculate genome-wide IP enrichment relative to control (deepTools)\n",
    "- Calculate strand cross-correlation peak and ChIP-seq quality measures including NSC and RSC (phantompeakqualtools)\n",
    "- Call broad/narrow peaks (MACS2)\n",
    "- Annotate peaks relative to gene features (HOMER)\n",
    "- Create consensus peakset across all samples and create tabular file to aid in the filtering of the data (BEDTools)\n",
    "- Count reads in consensus peaks (featureCounts)\n",
    "\n",
    "![](images/nfcore.png)\n"
   ]
  },
  {
   "cell_type": "markdown",
   "metadata": {},
   "source": [
    "## about\n",
    "0. you need to have a google project set up with a billing account\n",
    "1. you need to activte your APIs this way: https://cloud.google.com/life-sciences/docs/tutorials/nextflow?hl=fr\n",
    "2. nextflow needs to be installed with this installation command `export NXF_MODE=google && curl https://get.nextflow.io | bash`"
   ]
  },
  {
   "cell_type": "code",
   "execution_count": null,
   "metadata": {},
   "outputs": [],
   "source": [
    "-profile #my profile for the cloud (to edit for your account)\n",
    "-w #where the withinput will be stored\n",
    "--outdir #specify aa bucket+folderr where the results will be\n",
    "--tracedir #you need to specify a local place for that\n",
    "--custom_local_config custom_local.config #yoour custtom config"
   ]
  },
  {
   "cell_type": "code",
   "execution_count": 66,
   "metadata": {
    "slideshow": {
     "slide_type": "fragment"
    }
   },
   "outputs": [
    {
     "name": "stdout",
     "output_type": "stream",
     "text": [
      ".nextflow/history.lock (Permission denied)\r\n"
     ]
    }
   ],
   "source": [
    "#process chips \n",
    "! ../../nextflow run jkobject/chipseq --paired_end --seq_center 'multiple' --email 'jkobject@gmail.com' --input ../nextflow/$project_paired_end_design.csv --genome 'GRCh38' --max_cpus 16 -profile 'jkcloud' -w gs://workamlproject/cobindingp --outdir gs://workamlproject/cobindingpres --tracedir ../nextflow/cobindingp/ --narrow_peak"
   ]
  },
  {
   "cell_type": "code",
   "execution_count": null,
   "metadata": {},
   "outputs": [],
   "source": [
    "#calling narrow peak proteins in single end\n",
    "! ../../nextflow run jkobject/chipseq --paired_end --seq_center 'multiple' --email 'jkobject@gmail.com' --input ../nextflow/$project_single_end_design.csv --genome 'GRCh38' --max_cpus 16 -profile 'jkcloud' -w gs://workamlproject/cobindings --outdir gs://workamlproject/cobindingsres --tracedir ../nextflow/cobindings/ --narrow_peak"
   ]
  },
  {
   "cell_type": "code",
   "execution_count": null,
   "metadata": {},
   "outputs": [],
   "source": [
    "#calling broad peak proteins in single end\n",
    "! ../../nextflow run jkobject/chipseq --paired_end --seq_center 'multiple' --email 'jkobject@gmail.com' --input ../nextflow/$project_single_end_broad_design.csv --genome 'GRCh38' --max_cpus 16 -profile 'jkcloud' -w gs://workamlproject/cobindingsb --outdir gs://workamlproject/cobindingsbres --tracedir ../nextflow/cobindingsb/"
   ]
  },
  {
   "cell_type": "markdown",
   "metadata": {
    "slideshow": {
     "slide_type": "slide"
    }
   },
   "source": [
    "## Gathering data\n",
    "\n",
    "we are using a folder outside our repository as there is too many huge files."
   ]
  },
  {
   "cell_type": "code",
   "execution_count": null,
   "metadata": {},
   "outputs": [],
   "source": [
    "mkdir ../../data/$project/\n",
    "!gsutil -m cp -r gs://amlproject/Chip/results/bwa/mergedLibrary/macs/narrowPeak/ ../../data/$project/\n",
    "!gsutil -m cp -r gs://amlproject/Chip/results/bwa/mergedLibrary/bigwig/ ../../data/$project/"
   ]
  },
  {
   "cell_type": "code",
   "execution_count": null,
   "metadata": {},
   "outputs": [],
   "source": [
    "!cp ../data/$project/narrowPeak/*MV411*.narrowPeak ../data/$project/MV4narrow"
   ]
  },
  {
   "cell_type": "code",
   "execution_count": null,
   "metadata": {},
   "outputs": [],
   "source": [
    "! mkdir ../../data/BroadPeaks/MV411 && !gsutil -m cp -r gs://amlproject/Chip/results/bwa/mergedLibrary/macs/BroadPeaks/ ../data/$project/ && mv ../../data/$project/BroadPeaks/MV411_* ../data/$project/BroadPeaks/MV411/"
   ]
  },
  {
   "cell_type": "code",
   "execution_count": null,
   "metadata": {},
   "outputs": [],
   "source": [
    "bindings = chiphelper.loadPeaks('../data/'+project+'MV4narrow/', isMacs=False,skiprows=0)"
   ]
  },
  {
   "cell_type": "code",
   "execution_count": null,
   "metadata": {},
   "outputs": [],
   "source": [
    "broadbindings = chiphelper.loadPeaks('../data/'+project+'BroadPeaks/MV411/', isMacs=False,skiprows=0)"
   ]
  },
  {
   "cell_type": "code",
   "execution_count": null,
   "metadata": {
    "slideshow": {
     "slide_type": "slide"
    }
   },
   "outputs": [],
   "source": [
    "SEgenes = pd.read_csv('../data/superenhancer/SEgenes.csv')\n",
    "CTF = pd.read_csv('../data/CTF.csv', header=None)[0].tolist()"
   ]
  },
  {
   "cell_type": "code",
   "execution_count": null,
   "metadata": {},
   "outputs": [],
   "source": [
    "CTF.extend(['GATA2','IKZF1','LYL1' ,'PU1','SMC1'])\n",
    "CTF"
   ]
  },
  {
   "cell_type": "code",
   "execution_count": null,
   "metadata": {},
   "outputs": [],
   "source": [
    "CTF = list(set(CTF))"
   ]
  },
  {
   "cell_type": "code",
   "execution_count": null,
   "metadata": {},
   "outputs": [],
   "source": [
    "peaks = !ls ../data/MV4narrow/*.narrowPeak\n",
    "broadpeaks = ! ls ../data/BroadPeaks/MV411/*.broadPeak\n",
    "peaks = set([i.split('/')[-1].split('.')[0] for i in broadpeaks]) | set([i.split('/')[-1].split('.')[0] for i in peaks])"
   ]
  },
  {
   "cell_type": "markdown",
   "metadata": {},
   "source": [
    "## preprocessing the data and renaming"
   ]
  },
  {
   "cell_type": "code",
   "execution_count": null,
   "metadata": {},
   "outputs": [],
   "source": [
    "peaks"
   ]
  },
  {
   "cell_type": "code",
   "execution_count": null,
   "metadata": {},
   "outputs": [],
   "source": [
    "set(bindings['name'])"
   ]
  },
  {
   "cell_type": "code",
   "execution_count": null,
   "metadata": {},
   "outputs": [],
   "source": [
    "bindings"
   ]
  },
  {
   "cell_type": "code",
   "execution_count": null,
   "metadata": {},
   "outputs": [],
   "source": [
    "broadbindings"
   ]
  },
  {
   "cell_type": "code",
   "execution_count": null,
   "metadata": {},
   "outputs": [],
   "source": [
    "bindings = bindings[~bindings.name.isin(set(broadbindings.name))]"
   ]
  },
  {
   "cell_type": "code",
   "execution_count": null,
   "metadata": {},
   "outputs": [],
   "source": [
    "bindings = bindings.append(broadbindings)"
   ]
  },
  {
   "cell_type": "code",
   "execution_count": null,
   "metadata": {},
   "outputs": [],
   "source": [
    "len(bindings)"
   ]
  },
  {
   "cell_type": "code",
   "execution_count": null,
   "metadata": {},
   "outputs": [],
   "source": [
    "bindings['replicate']= [i.split('-')[-1][-1] for i in bindings['name']]\n",
    "bindings['tf'] = [i.split('-')[2] for i in bindings['name']]"
   ]
  },
  {
   "cell_type": "code",
   "execution_count": null,
   "metadata": {},
   "outputs": [],
   "source": [
    "bindings['peak_number'] = ['_'.join([i.split('_')[2],i.split('_')[5]]) for i in bindings['peak_number']]"
   ]
  },
  {
   "cell_type": "code",
   "execution_count": null,
   "metadata": {},
   "outputs": [],
   "source": [
    "bindings"
   ]
  },
  {
   "cell_type": "code",
   "execution_count": null,
   "metadata": {},
   "outputs": [],
   "source": [
    "bindings.to_csv('../results/'+project+'/all_bindings.bed',sep='\\t',index=False)"
   ]
  },
  {
   "cell_type": "code",
   "execution_count": null,
   "metadata": {},
   "outputs": [],
   "source": [
    "bindings= pd.read_csv('../results/'+project+'/all_bindings.bed',sep='\\t',header=None, index_col=None,\n",
    "                     names=[\"-log10pvalue\",\"-log10qvalue\", \"chrom\", \"end\", \"foldchange\", \"name\", \"peak_number\", \"relative_summit_pos\", \"start\", \"replicate\",\"tf\"])"
   ]
  },
  {
   "cell_type": "code",
   "execution_count": null,
   "metadata": {},
   "outputs": [],
   "source": [
    "bindings"
   ]
  },
  {
   "cell_type": "code",
   "execution_count": null,
   "metadata": {},
   "outputs": [],
   "source": [
    "from gsheets import Sheets\n",
    "sheets = Sheets.from_files('~/.client_secret.json', '~/.storage.json')\n",
    "url=\"https://docs.google.com/spreadsheets/d/1yFLjYB1McU530JnLgL0QIMAKIkVl3kl0_LCHje2gk8U\"\n",
    "gsheet = sheets.get(url).sheets[2].to_frame()\n",
    "gsheet"
   ]
  },
  {
   "cell_type": "code",
   "execution_count": null,
   "metadata": {},
   "outputs": [],
   "source": [
    "bw = ! ls ../../data/bigwig\n",
    "bw"
   ]
  },
  {
   "cell_type": "code",
   "execution_count": null,
   "metadata": {},
   "outputs": [],
   "source": [
    "len(set(bindings.name))"
   ]
  },
  {
   "cell_type": "code",
   "execution_count": null,
   "metadata": {},
   "outputs": [],
   "source": [
    "len(bw)"
   ]
  },
  {
   "cell_type": "code",
   "execution_count": null,
   "metadata": {},
   "outputs": [],
   "source": [
    "# ONE off\n",
    "for i in bw[2:]:\n",
    "    a = gsheet[gsheet.id=='mp'+i.split('_')[2]].name.values[0]\n",
    "    i = '../../data/bigwig/'+i\n",
    "    a = '../../data/bigwig/'+a+'.mLb.clN.bigWig'\n",
    "    ! mv $i $a\n",
    "    print(a)"
   ]
  },
  {
   "cell_type": "code",
   "execution_count": null,
   "metadata": {},
   "outputs": [],
   "source": [
    "set(bindings.name)"
   ]
  },
  {
   "cell_type": "code",
   "execution_count": null,
   "metadata": {
    "slideshow": {
     "slide_type": "subslide"
    }
   },
   "outputs": [],
   "source": [
    "replicates = chiphelper.findReplicates(folder='../data/seqs/results/bwa/', sep='_', namings='_R([0-9])',namepos=0)"
   ]
  },
  {
   "cell_type": "markdown",
   "metadata": {
    "slideshow": {
     "slide_type": "slide"
    }
   },
   "source": [
    "## Visual inspection of the features and and look at QCs"
   ]
  },
  {
   "cell_type": "markdown",
   "metadata": {
    "slideshow": {
     "slide_type": "subslide"
    }
   },
   "source": [
    "### [igv tracks](https://igv.org/app/?sessionURL=blob:3Z3rU9rcFsb_lU6.vO.Zg0EIcvGbolinYB0vp5czHSeEGFIhscmOaJ3.790hwMbzsrZZ9rTJIx.YAfIk62HxY7Mfcnk0IvfajdzAcY3dR8MfGbvG2Kt1jIoR2FP5nPE2mdrBm7.7Z92x1aqmr_1Lvnhtx8K.POuniwtxG.9Wq7FljhJ7Ip93bswk3nLlIls1057a38PAnsWmE06rvndnDqPQHvlBLHyRCNcMI6_quUE4deNq7H6bb2J.Z843IjfmByP3_o9sTN77coPOgwiHdjD6jdtMN7EvN2GKe2H8qBiT0EliY_e_hj2ZGF8qhojkVtInHg3xcJs2QkqTeZ8qRhiN3MjYlRtvdVrNjlWzGu1m3arttNx_W9tt2bvw_NYPgnQhESXuj8qjkUQTuRIvNfL1Jhx.dR1R7Y7926u9Qb8auXEyEXF1OLOrUzfy3FHfH0Z29FAd.t7M96q9_nHt6qxmTvtD05mcmPLpD773pDdBMpmsSttefX5IpRNOQrmkEXnDv7cr25Vaq51.suyJ6G5.Zez63lgYu5ZcuZ2I8NyxJ3ILqcGKMZOFhLNeEjjCDwMpnrp2IEV3fuwP_YkvHj7Ml5CvbNXk85PQW.ivZUvlCv7nLZMfcX_iPuchDpPIcS.yBqWCFI0wmtqyTCN76.QziwZmD9LKY1U5qzWBHUXh7NS1b5YNubqVD2JTvUC3pLZqyV9T28mEf_1KH.pP.7B4H__RCCdMAqHpRI43fpNL7VufLZmq1NtvB0Eo7HlRFWNq35.FM8nXzrZ0IeXCjdJ1zRF0xlE4DWMJrFxSkusaX36doKMej6D6ql2kEogg0kNxBC1KYhBkARKkcYlG0PHJ6eUFB6HGql.0FIgh2sQfhmhjdwaHvfoBpzs7q.7QUqDu0CaK.4pb1sT4jmsCfsfpbKJ9yZ1esn4ltFbtooRACFEWigMoq4iBTzr3QsOHNokGz_kpC56amhJRSiB6KAvF0ZNVxJmiqkkPDj60SzR8Ph_u11n8qAkRKQUCiPRQHEGLkjgIqUkPDkIam2gMdQ_3T_dYEKl5EK0Foog2URxGy5o4HCFOhHQ.QUGq5wdJzYVoLR5IG0wUDlKdAxLilEjnEw6ki26PNSB1FEeUFAkjykOBFGUlMSBKP_J4ENE20Rg6GJy_v2qPr95a7.ot.f5z_sdTIUOetQCRlcdOcZD9szoOb4hBRD7HqOgN9j6ysFPZxHNrAESOslI8blllHNQQA4vn3UJi9pLhTcUXz64CDbQSD2wvG9UQM40cdtFYO.z3WDl7XSUbpBSILdJDcUwtSuKwhBhraGxiMpQ_HayrVIOUwjFUqmxwURJnf0rEVENjE46hi_80OeOQpaIMUorEEOWhQIaykjgMISYVGpuYDOUfhyyVS5BSOIbKNQ5lJXEYQowgNDYxGbLyM6QyB1IKx9AGD0UzZHEYQswWNDbhDi_bu9hjhQqWChVoLdIRZqSJAg8xW9TE4QgxV9D5BAWJ8YtOJQu0Fg.kUv2mW9bEAKmBGC7ofMKBdH7IOhqjodIFUoqEEeWhQIqykjgQIaYLGpuYDOUfixoqXSClcAyVayTKSuIwhJguaGyiMfSCnRoaKmB4JfszlHNXhhftxdBATBpe1w4Mx0dHLJxU1EApkU7DQVgoDqOsIg5CiCED7RIOn3efe7ypkYoYaC0SQqSJAiFa1MTAaAcxYtD5BAUp__xoR2UMtBYPpFLNkJY1cUBCjBl0PuFAOuvV909Z_x_tqKhBp0aCSWOjQJxWVXGAQswc9E5hkWKMTip20KkRkSrXCLWqioMUYuygdwqLVP5dhXbWogeNGhGpUu0wpKriIAUZQ2idwiLVyI_UWhihUSMitcFGCZBqcE7fChlJaJ0CItXmTKSaa5kEJcWCabOHQklKS.JgBBlI0DbRGOoP3rPCiKYKI0gpEEOkh.IYWpTEYQgxg9DYxGQof_rQVOkDKYVjqFS5w6IkDkOIoYPGJhxDn_qsP2qbKm4gpUgMUR4KZCgricMQYsqgsYnGEPPEXU0VL7yCE3aV70Rd7BN0tRAjhddzYq7B4QHvijAqTiClUJdVIjwUeVWleUkchBDjBI1NPIZ69S4LIpUn0Fqwi5NtNlHsxcnSmjgcIUYKOp.gIOUPFVpPr_K3WYsHUqlihWVNHJBQL_NH.QQFKf.ODC2VLNBaPJBKtRPDsiYOSIjhgs4nHkjH57z50Vq.QGqhQKJMFAlSVhPnwpmQKYPGJxxIn_Y5GLXXYgZCiQQRYaFAhOYVcQCCzBhIl5D45J8XtdcCBkKJhk.55kTzijj4QEYLpEs8fFj5XHstViCUUPiULpubV8TBBzJQIF1C4sMYfdbCBEKJhk_JRh9mHteGjBFIl2j4nL7vHx.zxh8VItBaIIRoE8VBtKyJgVEHMUTQ.UQD6ezy5CMrjeuoGIHWAoFEmygOpGVNHJAQwwSdT0SQWEdAdFSgQGvBQCrbMRDLmjggIcYKOp9oIJ0PurwBSSULpBQII9JDcRQtSuJAhBguaGyiMfT5cJ91JFFHxQukFIgh0kNxDC1K4jCEmDBobMIxNPh0csA6LryjMgaNGIkj2kWBJC2LYrBUSz80eDDpnKLilH9Qqm2rqEGjBuTpt41My.mAex27394cydbF6.uJ3Ot5OyuLXo6FuE3bGVvmKJHlC9u5MZN4y7VjsVUz7an9PQzsWWw64bTqe3dmGHmmXIP8ZMTVsVfryLZfp1sx4zAS7sgU98L0vj9p6e_aiCmG_sa.bMlPTeROwzt7uNYW9UWQ3vRtokxt6tH_Ba4vP34C)"
   ]
  },
  {
   "cell_type": "markdown",
   "metadata": {
    "slideshow": {
     "slide_type": "subslide"
    }
   },
   "source": [
    "### [multiQC](http://35.184.213.1:8888/view/data/results/multiqc/multiqc_report.html)"
   ]
  },
  {
   "cell_type": "markdown",
   "metadata": {
    "slideshow": {
     "slide_type": "slide"
    }
   },
   "source": [
    "### process: \n",
    "\n",
    "look at all t with a very low frip score as noted by encode. \n",
    "\n",
    "look at all peaks tracks together and see for location of intense co binding. \n",
    "\n",
    "- if we can discern peaks and if, for some reasons, some good peaks are not called by macs. \n",
    "- if looks good and we can see a lot of peaks. \n",
    "- if a lot of noise but seems consistent with replicates. \n",
    "- if just seems to have very few peaks.\n",
    "\n",
    "Validate still but flag as potentially bad.\n",
    "\n",
    "Else remove."
   ]
  },
  {
   "cell_type": "markdown",
   "metadata": {
    "slideshow": {
     "slide_type": "slide"
    }
   },
   "source": [
    "### results:"
   ]
  },
  {
   "cell_type": "code",
   "execution_count": null,
   "metadata": {
    "slideshow": {
     "slide_type": "subslide"
    }
   },
   "outputs": [],
   "source": [
    "#badquality samples:\n",
    "bad=[\n",
    "\"mp168\",\n",
    "\"mp129\",\n",
    "\"mp128\",\n",
    "\"mp773\",\n",
    "\"mp774\",\n",
    "\"mp575\",\n",
    "\"mp614\",\n",
    "\"mp714\",\n",
    "\"mp433\",\n",
    "\"mp156\",\n",
    "\"mp650\",\n",
    "\"mp604\",\n",
    "\"mp27\",\n",
    "\"mp627\",\n",
    "\"mp117\",\n",
    "\"mp771\",\n",
    "\"mp118\",\n",
    "\"mp431\",\n",
    "\"mp430\",\n",
    "\"mp324\",\n",
    "\"mp565\",\n",
    "\"mp569\",\n",
    "\"mp125\",\n",
    "\"mp627\",\n",
    "\"mp568\",\n",
    "\"mp427\",\n",
    "\"mp124\",\n",
    "\"mp716\",\n",
    "\"mp581\",\n",
    "\"mp589\",\n",
    "\"mp321\",\n",
    "\"mp601\",\n",
    "\"mp745\",\n",
    "\"mp772\",\n",
    "\"mp770\",\n",
    "\"mp590\",\n",
    "\"mp623\",\n",
    "\"mp718\"]"
   ]
  },
  {
   "cell_type": "markdown",
   "metadata": {
    "slideshow": {
     "slide_type": "subslide"
    }
   },
   "source": [
    "## merging duplicates"
   ]
  },
  {
   "cell_type": "code",
   "execution_count": null,
   "metadata": {},
   "outputs": [],
   "source": [
    "%matplotlib inline\n",
    "mergedpeak, tomergebam, remove, ratiosofunique = chiphelper.mergeReplicatePeaks(bindings,'../../data/bigwig/',markedasbad=bad, window=150, mincov=4, doPlot=True, minKL=10, cov={}, use='poisson', MINOVERLAP=0.25,lookeverywhere=True, only='',saveloc='../results/'+project+'/plots/'+version+'/')"
   ]
  },
  {
   "cell_type": "code",
   "execution_count": null,
   "metadata": {},
   "outputs": [],
   "source": [
    "tomergebam"
   ]
  },
  {
   "cell_type": "code",
   "execution_count": null,
   "metadata": {},
   "outputs": [],
   "source": [
    "mergedpeak = mergedpeak[mergedpeak.columns[[2,9,3,5,6,4,0,1,7,10]]]"
   ]
  },
  {
   "cell_type": "code",
   "execution_count": null,
   "metadata": {},
   "outputs": [],
   "source": [
    "mergedpeak.to_csv('../results/'+project+'/large/merged_replicates_'+version+'.csv.gz')"
   ]
  },
  {
   "cell_type": "code",
   "execution_count": null,
   "metadata": {},
   "outputs": [],
   "source": [
    "mergedpeak = pd.read_csv('../results/'+project+'/large/merged_replicates_'+version+'.csv.gz', index_col=0)"
   ]
  },
  {
   "cell_type": "markdown",
   "metadata": {},
   "source": [
    "## sorting and removing samples"
   ]
  },
  {
   "cell_type": "code",
   "execution_count": null,
   "metadata": {},
   "outputs": [],
   "source": [
    "bigwigs=os.listdir('../../data/bigwig/')\n",
    "for val in bigwigs:\n",
    "    for v in remove + toremove + ['scale','POLII','IGG','CTCF','INPUT']:\n",
    "        if v in val:\n",
    "            bigwigs.remove(val)\n",
    "            break\n",
    "bigwigs = ['data/bigwig/'+ i for i in bigwigs]"
   ]
  },
  {
   "cell_type": "code",
   "execution_count": null,
   "metadata": {},
   "outputs": [],
   "source": [
    "set(mergedpeak.tf)"
   ]
  },
  {
   "cell_type": "code",
   "execution_count": null,
   "metadata": {},
   "outputs": [],
   "source": [
    "mergedpeak.foldchange.min()"
   ]
  },
  {
   "cell_type": "code",
   "execution_count": null,
   "metadata": {},
   "outputs": [],
   "source": [
    "mergedpeak['name']=mergedpeak.tf"
   ]
  },
  {
   "cell_type": "code",
   "execution_count": null,
   "metadata": {},
   "outputs": [],
   "source": [
    "mergedpeak"
   ]
  },
  {
   "cell_type": "code",
   "execution_count": null,
   "metadata": {},
   "outputs": [],
   "source": [
    "## Removing bad ChIP protein\n",
    "mergedpeak = mergedpeak[~mergedpeak['name'].isin(['CDK13','GSE1'])]"
   ]
  },
  {
   "cell_type": "markdown",
   "metadata": {},
   "source": [
    "## Consensus set"
   ]
  },
  {
   "cell_type": "code",
   "execution_count": 4,
   "metadata": {},
   "outputs": [],
   "source": [
    "window = 150"
   ]
  },
  {
   "cell_type": "code",
   "execution_count": 3,
   "metadata": {},
   "outputs": [],
   "source": [
    "merging_version = \"simpleMerge\""
   ]
  },
  {
   "cell_type": "code",
   "execution_count": null,
   "metadata": {},
   "outputs": [],
   "source": [
    "merged = chiphelper.simpleMergePeaks(mergedpeak[~mergedpeak.tf.isin(['MED1','SMC1','CTCF','POLII','IRF2BP2_FLAG','IRF2BP2', 'H3K27ac', 'H3K27me3', 'H3K4me3', 'WRD5', 'H3K79me2','H3K36me3', 'H3K4me1','H3K18','H3K9ac','H3K36me2','PU1_FLAG'])], window=window)"
   ]
  },
  {
   "cell_type": "code",
   "execution_count": null,
   "metadata": {},
   "outputs": [],
   "source": [
    "window=str(window)"
   ]
  },
  {
   "cell_type": "code",
   "execution_count": null,
   "metadata": {},
   "outputs": [],
   "source": [
    "len(merged)"
   ]
  },
  {
   "cell_type": "code",
   "execution_count": null,
   "metadata": {},
   "outputs": [],
   "source": [
    "len(mergedpeak)"
   ]
  },
  {
   "cell_type": "code",
   "execution_count": null,
   "metadata": {},
   "outputs": [],
   "source": [
    "merged"
   ]
  },
  {
   "cell_type": "code",
   "execution_count": null,
   "metadata": {},
   "outputs": [],
   "source": [
    "merged.to_csv('../results/'+project+'/merged_'+version+'_'+merging_version+'_'+window+'.bed.gz', sep='\\t',index=None)"
   ]
  },
  {
   "cell_type": "code",
   "execution_count": null,
   "metadata": {},
   "outputs": [],
   "source": [
    "merged = pd.read_csv('../results/'+project+'/merged_'+version+'_'+merging_version+'_'+window+'.bed.gz', sep='\\t')"
   ]
  },
  {
   "cell_type": "markdown",
   "metadata": {},
   "source": [
    "## Plotting similarity kernels over TF binding profiles"
   ]
  },
  {
   "cell_type": "code",
   "execution_count": null,
   "metadata": {},
   "outputs": [],
   "source": [
    "fig = sns.pairplot(merged[merged.columns[8:14]], corner=True, diag_kind=\"kde\", kind=\"reg\", plot_kws ={\"scatter_kws\":{\"alpha\":.05}})\n",
    "def col_nan_scatter(x,y, **kwargs):\n",
    "    df = pd.DataFrame({'x':x[:],'y':y[:]})\n",
    "    df = df[df.sum(0)!=0]\n",
    "    x = df['x']\n",
    "    y = df['y']\n",
    "    plt.gca()\n",
    "    plt.scatter(x,y)\n",
    "def col_nan_kde_histo(x, **kwargs):\n",
    "    df = pd.DataFrame({'x':x[:]})\n",
    "    df = df[df['x']!=0]\n",
    "    x = df['x']\n",
    "    plt.gca()\n",
    "    sns.kdeplot(x)\n",
    "fig = fig.map_upper(col_nan_scatter)\n",
    "fig = fig.map_upper(col_nan_kde_histo)\n",
    "fig.savefig('../results/'+project+'/plots/'+version+'_'+merging_version+'_'+window+'_pairplot_experiments.pdf')\n",
    "plt.show()\n",
    "counts,val = np.unique(merged[merged.columns[8:]].astype(bool).sum(1).values, return_counts=True)\n",
    "fig = sns.barplot(data=pd.DataFrame(val, index=counts,columns=['counts']).T)\n",
    "fig.set_yscale(\"log\")\n",
    "fig.savefig('../results/'+project+'/plots/'+version+'_'+merging_version+'_'+window+'pairplot_experiments.pdf')\n",
    "plt.show()\n",
    "i = merged[merged.columns[8:]].astype(bool).sum(1)\n",
    "print(i.max(),i.mean(),i.min())"
   ]
  },
  {
   "cell_type": "markdown",
   "metadata": {},
   "source": [
    "## Comparison to a random distribution \n",
    "\n",
    "### computation:\n",
    "\n",
    "we are evalutating each event's probability 1 binding, 2 binding, n binding.., as a binomial over the amount of proability p_i with n retries corresponding to the size of the conscensus peak set.\n",
    "the probability p_i of this binomial is the sum of probabilities of having tf a binding with b for all possible combination of tf. \n",
    "the number of combination is k amongst n, n being 33, k going from 1 to 29\n",
    "we compute \n",
    "\n",
    "$p(a & b) = p(a)\\*p(b) =p(ab)$\n",
    "\n",
    "and \n",
    "\n",
    "$p(a & b) | p(a & c) = p(ab) + p(ac) - p(abc)$\n",
    "\n",
    "for a,b,c,d:\n",
    "\n",
    "$p(ab) + p(ac) + p(ad) + p(bc) + p(bd) + p(cd) - {3\\choose 2}*(p(abc) - p(abd) - p(bcd) - p(acd)) - {4\\choose 2}*p(abcd)$"
   ]
  },
  {
   "cell_type": "code",
   "execution_count": null,
   "metadata": {},
   "outputs": [],
   "source": [
    "#we are looking at the distribution of pseudo-enhancers per cobound regions\n",
    "counts,val = np.unique(merged[merged.columns[8:]].astype(bool).sum(1).values, return_counts=True)\n",
    "fig = sns.barplot(data=pd.DataFrame(val, index=counts,columns=['counts']).T)\n",
    "fig.set_yscale(\"log\")\n",
    "fig.figure.savefig(\"../results/\"+project+'/plots/'+version+'_'+merging_version+'_'+window+\"_cobinding_distribution.pdf\")"
   ]
  },
  {
   "cell_type": "code",
   "execution_count": null,
   "metadata": {},
   "outputs": [],
   "source": [
    "len(merged)"
   ]
  },
  {
   "cell_type": "markdown",
   "metadata": {},
   "source": [
    "now we will be making the expected distribution"
   ]
  },
  {
   "cell_type": "code",
   "execution_count": null,
   "metadata": {},
   "outputs": [],
   "source": [
    "proba = (merged[merged.columns[8:]].astype(bool).sum(0)/len(merged)).tolist()\n",
    "sums = {i:0 for i in range(1,30)}"
   ]
  },
  {
   "cell_type": "code",
   "execution_count": null,
   "metadata": {},
   "outputs": [],
   "source": [
    "for i in range(29,0,-1):\n",
    "    print(i)\n",
    "    if sums[i]> 0:\n",
    "        continue\n",
    "    print(helper.combin(33,i))\n",
    "    v=0\n",
    "    for j in itertools.combinations(proba, i):\n",
    "        v+=np.prod(j) \n",
    "    sums[i] = v"
   ]
  },
  {
   "cell_type": "code",
   "execution_count": null,
   "metadata": {},
   "outputs": [],
   "source": [
    "for i in range(29,0,-1):\n",
    "    for j in range(i+1,30):\n",
    "        icomb = helper.combin(j,i)\n",
    "        sums[i] -= icomb*sums[j]"
   ]
  },
  {
   "cell_type": "code",
   "execution_count": null,
   "metadata": {},
   "outputs": [],
   "source": [
    "sums[0] = 1-sum(list(sums.values()))"
   ]
  },
  {
   "cell_type": "code",
   "execution_count": null,
   "metadata": {},
   "outputs": [],
   "source": [
    "from scipy.stats import binom\n",
    "for i in range(29,0,-1):\n",
    "    print(i,binom.mean(len(merged), sums[i]),binom.var(len(merged), sums[i]))\n",
    "    sums[i] = [binom.mean(len(merged), sums[i]),binom.var(len(merged), sums[i])]"
   ]
  },
  {
   "cell_type": "code",
   "execution_count": null,
   "metadata": {},
   "outputs": [],
   "source": [
    "helper.dictToFile(sums,'../results/' + project + '/' + version + '_' + merging_version +  '_' + window+'_sums.json')"
   ]
  },
  {
   "cell_type": "code",
   "execution_count": null,
   "metadata": {},
   "outputs": [],
   "source": [
    "version = \"v2\"\n",
    "merging_version = \"simpleMerge\"\n",
    "window = \"150\""
   ]
  },
  {
   "cell_type": "code",
   "execution_count": null,
   "metadata": {},
   "outputs": [],
   "source": [
    "a = '../results/' + project + '/*_sums.json'\n",
    "!ls $a"
   ]
  },
  {
   "cell_type": "code",
   "execution_count": null,
   "metadata": {},
   "outputs": [],
   "source": [
    "sums = helper.fileToDict('../results/' + project + '/' + version + '_' + merging_version +  '_' + window+'_sums.json')\n",
    "sums"
   ]
  },
  {
   "cell_type": "code",
   "execution_count": null,
   "metadata": {},
   "outputs": [],
   "source": [
    "cobind = pd.DataFrame(sums).T.rename(columns={0:'mean',1:'var'})"
   ]
  },
  {
   "cell_type": "code",
   "execution_count": null,
   "metadata": {},
   "outputs": [],
   "source": [
    "merged[merged.columns[8:]].astype(bool).sum().sum()"
   ]
  },
  {
   "cell_type": "code",
   "execution_count": null,
   "metadata": {},
   "outputs": [],
   "source": [
    "(val*counts).sum()"
   ]
  },
  {
   "cell_type": "code",
   "execution_count": null,
   "metadata": {},
   "outputs": [],
   "source": [
    "int((cobind['mean'] * cobind.index.astype(int)).sum())"
   ]
  },
  {
   "cell_type": "code",
   "execution_count": null,
   "metadata": {},
   "outputs": [],
   "source": [
    "cobind.sum()"
   ]
  },
  {
   "cell_type": "code",
   "execution_count": null,
   "metadata": {},
   "outputs": [],
   "source": [
    "cobind"
   ]
  },
  {
   "cell_type": "code",
   "execution_count": null,
   "metadata": {},
   "outputs": [],
   "source": [
    "cobind['cobinding']=cobind.index\n",
    "fig = sns.barplot(\"cobinding\",\"mean\", data=cobind, ci=None)\n",
    "plt.errorbar(x=range(0,len(cobind)),y=cobind['mean'],\n",
    "            yerr=cobind['var'], fmt='none', c= 'r')\n",
    "plt.savefig(\"../results/\"+project+'/plots/'+version+'_'+merging_version+'_'+window+\"_expected_cobinding_distribution.pdf\")"
   ]
  },
  {
   "cell_type": "code",
   "execution_count": null,
   "metadata": {},
   "outputs": [],
   "source": [
    "res = pd.DataFrame()\n",
    "res['change']=val/cobind['mean']\n",
    "res['count']=list(res.index)"
   ]
  },
  {
   "cell_type": "code",
   "execution_count": null,
   "metadata": {},
   "outputs": [],
   "source": [
    "fig = sns.barplot(data=res.T).set_yscale(\"log\")\n",
    "plt.savefig(\"../results/\"+project+'/plots/'+version+'_'+merging_version+'_'+window+\"_cobinding_enrichment.pdf\")"
   ]
  },
  {
   "cell_type": "markdown",
   "metadata": {},
   "source": [
    "now plotting the enrichment"
   ]
  },
  {
   "cell_type": "code",
   "execution_count": null,
   "metadata": {},
   "outputs": [],
   "source": [
    "fig = plt.bar(res['count'],res['change'],log=True)\n",
    "plt.savefig(\"../results/\"+project+'/plots/'+version+'_'+merging_version+'_'+window + \"_cobinding_enrichment_matplotlib.pdf\")\n",
    "plt.show()"
   ]
  },
  {
   "cell_type": "code",
   "execution_count": null,
   "metadata": {},
   "outputs": [],
   "source": [
    "m =12\n",
    "fig = plt.bar(res.iloc[:m]['count'],res.iloc[:m]['change'],log=True)\n",
    "plt.savefig(\"../results/\"+project+'/plots/'+version+'_'+merging_version+'_'+window+\"_cobinding_enrichment_zoomed.pdf\")\n",
    "plt.show()"
   ]
  },
  {
   "cell_type": "markdown",
   "metadata": {},
   "source": [
    "## The cobinding Matrix"
   ]
  },
  {
   "cell_type": "code",
   "execution_count": null,
   "metadata": {},
   "outputs": [],
   "source": [
    "merged.columns[8:]"
   ]
  },
  {
   "cell_type": "code",
   "execution_count": null,
   "metadata": {},
   "outputs": [],
   "source": [
    "merging_version = \"remove_single\""
   ]
  },
  {
   "cell_type": "code",
   "execution_count": null,
   "metadata": {},
   "outputs": [],
   "source": [
    "#merged = merged.drop(columns='PU1_FLAG')\n",
    "merged = merged[merged[merged.columns[8:]].astype(bool).sum(1)>1]"
   ]
  },
  {
   "cell_type": "code",
   "execution_count": null,
   "metadata": {},
   "outputs": [],
   "source": [
    "merged[merged.columns[:8]].to_csv('../results/'+project+'/plots/'+version+'_'+merging_version+'_'+window+'_conscensus.bed.gz',sep='\\t',index=None, columns=None)"
   ]
  },
  {
   "cell_type": "markdown",
   "metadata": {},
   "source": [
    "### correlations over cobindings"
   ]
  },
  {
   "cell_type": "code",
   "execution_count": null,
   "metadata": {},
   "outputs": [],
   "source": [
    "#raw correlation over cobindings\n",
    "fig = sns.clustermap(np.corrcoef(stats.zscore(merged[merged.columns[8:]].values.T, axis=1)), figsize=(20, 20), xticklabels=merged.columns[8:], yticklabels=merged.columns[8:])\n",
    "fig.ax_col_dendrogram.set_visible(False)\n",
    "fig.fig.suptitle(\"raw correlation over cobindings\")\n",
    "fig.savefig(\"../results/\"+project+'/plots/'+version+'_'+merging_version+'_'+window+\"_correlation_cobinding_regular.pdf\")"
   ]
  },
  {
   "cell_type": "code",
   "execution_count": null,
   "metadata": {},
   "outputs": [],
   "source": [
    "rand = np.random.choice(merged.index,5000)\n",
    "viridis = cm.get_cmap('viridis', 256)"
   ]
  },
  {
   "cell_type": "code",
   "execution_count": null,
   "metadata": {},
   "outputs": [],
   "source": [
    "#clustermap of cobindings\n",
    "fig = sns.clustermap(merged[merged.columns[8:]].loc[rand].T, standard_scale=0, figsize=(30,20),xticklabels=False)\n",
    "fig.ax_col_dendrogram.set_visible(False)\n",
    "fig.fig.suptitle(\"clustermap of cobindings\")\n",
    "fig.savefig('../results/'+project+'/plots/'+version+'_'+merging_version+'_'+window+'_clustermap_cobinding_scaled.pdf')\n",
    "plt.show()"
   ]
  },
  {
   "cell_type": "markdown",
   "metadata": {
    "slideshow": {
     "slide_type": "subslide"
    }
   },
   "source": [
    "## Peak annotations"
   ]
  },
  {
   "cell_type": "code",
   "execution_count": null,
   "metadata": {},
   "outputs": [],
   "source": [
    "additional = {}\n",
    "additional['activation'] = chiphelper.simpleMergePeaks(mergedpeak[mergedpeak.tf.isin([\"H3K27ac\",'H3K79me2','H3K36me3','H3K4me3','H3K9ac','H3K4me1'])], window=10, mergedFold=\"max\")\n",
    "additional['repression'] = mergedpeak[mergedpeak.tf.isin(['H3K27me3','H3K36me2'])\n",
    "additional['IRF2BP2'] = mergedpeak[mergedpeak.tf=='IRF2BP2_FLAG']\n",
    "additional['MED1'] = mergedpeak[mergedpeak.tf=='MED1']\n",
    "additional['SMC1'] = mergedpeak[mergedpeak.tf=='SMC1']\n",
    "additional['CTCF'] = mergedpeak[mergedpeak.tf=='CTCF']\n",
    "additional['POLII'] = mergedpeak[mergedpeak.tf=='POLII']\n",
    "additional['H3K18'] = mergedpeak[mergedpeak.tf=='H3K18']\n",
    "additional['H3K36me2'] = mergedpeak[mergedpeak.tf=='H3K36me2']\n",
    "additional['WDR5'] = mergedpeak[mergedpeak.tf=='WDR5']\n",
    "additional[\"H3K27ac\"] =mergedpeak[mergedpeak.tf=='H3K27ac']\n",
    "additional[\"H3K79me2\"] =mergedpeak[mergedpeak.tf=='H3K79me2']\n",
    "additional[\"H3K36me3\"] =mergedpeak[mergedpeak.tf=='H3K36me3']\n",
    "additional[\"H3K4me3\"] =mergedpeak[mergedpeak.tf=='H3K4me3']\n",
    "additional[\"H3K9ac\"] =mergedpeak[mergedpeak.tf=='H3K9ac']\n",
    "additional[\"H3K4me1\"] =mergedpeak[mergedpeak.tf=='H3K4me1']\n",
    "additional[\"KMT2A\"] =mergedpeak[mergedpeak.tf=='KMT2A']"
   ]
  },
  {
   "cell_type": "code",
   "execution_count": null,
   "metadata": {},
   "outputs": [],
   "source": [
    "for key, val in additional.items():\n",
    "    if len(val)>1:\n",
    "        merged[key] = chiphelper.putInConscensus(merged[merged.columns[:8]],val)\n",
    "        merged = merged.replace(np.nan,0)\n",
    "        merged[key].astype(bool).sum()"
   ]
  },
  {
   "cell_type": "code",
   "execution_count": null,
   "metadata": {},
   "outputs": [],
   "source": [
    "ls = '../data/'+project+\"/BroadPeaks\"\n",
    "!ls $ls"
   ]
  },
  {
   "cell_type": "code",
   "execution_count": null,
   "metadata": {},
   "outputs": [],
   "source": [
    "# adding ATACseq\n",
    "ATAC= chiphelper.loadPeaks(peakFile='../data/'+project+'/BroadPeaks/ATAC_MV411.mRp.clN_peaks.broadPeak')"
   ]
  },
  {
   "cell_type": "code",
   "execution_count": null,
   "metadata": {},
   "outputs": [],
   "source": [
    "len(ATAC)"
   ]
  },
  {
   "cell_type": "code",
   "execution_count": null,
   "metadata": {},
   "outputs": [],
   "source": [
    "merged['ATAC'] = chiphelper.putInConscensus(merged[merged.columns[:8]],ATAC)\n",
    "merged = merged.replace(np.nan,0)"
   ]
  },
  {
   "cell_type": "code",
   "execution_count": null,
   "metadata": {},
   "outputs": [],
   "source": [
    "merged['ATAC'].astype(bool).sum()"
   ]
  },
  {
   "cell_type": "code",
   "execution_count": null,
   "metadata": {},
   "outputs": [],
   "source": [
    "#compute enhancers at TSS in the matrix (promoters)\n",
    "promoters = pd.read_csv('../data/'+project+'/compute_genes/human_epdnew_TeLy2.bed', sep='\\t',header=None).rename(columns={0:'chrom',1:'start',2:'end',3:'name',5:'strand'}).drop(4,1)"
   ]
  },
  {
   "cell_type": "code",
   "execution_count": null,
   "metadata": {},
   "outputs": [],
   "source": [
    "promoters['foldchange']=1"
   ]
  },
  {
   "cell_type": "code",
   "execution_count": null,
   "metadata": {},
   "outputs": [],
   "source": [
    "promoters['name']=[i[:-2] for i in promoters['name']]"
   ]
  },
  {
   "cell_type": "code",
   "execution_count": null,
   "metadata": {},
   "outputs": [],
   "source": [
    "merged['promoters'] = chiphelper.putInConscensus(merged[merged.columns[:8]],promoters)\n",
    "merged = merged.replace(np.nan,0)"
   ]
  },
  {
   "cell_type": "code",
   "execution_count": null,
   "metadata": {},
   "outputs": [],
   "source": [
    "merged['promoters'].astype(bool).sum()"
   ]
  },
  {
   "cell_type": "markdown",
   "metadata": {},
   "source": [
    "### adding super enhancers"
   ]
  },
  {
   "cell_type": "code",
   "execution_count": null,
   "metadata": {},
   "outputs": [],
   "source": [
    "set(bindings[bindings.tf==\"H3K27ac\"].name)"
   ]
  },
  {
   "cell_type": "code",
   "execution_count": null,
   "metadata": {},
   "outputs": [],
   "source": [
    "! mkdir ../../data/MV411_H3K27ac\n",
    "! gsutil cp gs://amlproject/Chip/results/bwa/mergedLibrary/*MV411*H3K27* ../../data/MV411_H3K27ac/\n",
    "! gsutil cp gs://amlproject/Chip/results/bwa/mergedLibrary/macs/NarrowPeaks/*MV411*H3K27* ../../data/MV411_H3K27ac/\n",
    "! gsutil cp gs://amlproject/Chip/results/bwa/mergedLibrary/macs/BroadPeaks/*MV411*H3K27* ../../data/MV411_H3K27ac/"
   ]
  },
  {
   "cell_type": "code",
   "execution_count": null,
   "metadata": {},
   "outputs": [],
   "source": [
    "peaks = [\n",
    "\"../../data/\"+project+\"/MV411_H3K27ac/mp70-MV411-H3K27ac-r2.narrowPeak\",\n",
    "\"../../data/\"+project+\"/MV411_H3K27ac/mp734-MV411_DMSO-H3K27ac-r1.narrowPeak\",\n",
    "\"../../data/\"+project+\"/MV411_H3K27ac/mp88-MV411-H3K27ac-r3.broadPeak\",\n",
    "\"../../data/\"+project+\"/MV411_H3K27ac/mp702-MV411_DMSO-H3K27ac-r1.broadPeak\",\n",
    "\"../../data/\"+project+\"/MV411_H3K27ac/mp183-MV411_DMSO-H3K27ac-r1.broadPeak\",\n",
    "\"../../data/\"+project+\"/MV411_H3K27ac/mp136-MV411-H3K27ac-r1.broadPeak\"\n",
    "]"
   ]
  },
  {
   "cell_type": "code",
   "execution_count": null,
   "metadata": {},
   "outputs": [],
   "source": [
    "for val in peaks:\n",
    "    valbed = val +\".bed\"\n",
    "    ! mv $val $valbed"
   ]
  },
  {
   "cell_type": "code",
   "execution_count": null,
   "metadata": {},
   "outputs": [],
   "source": [
    "peaks[1:]"
   ]
  },
  {
   "cell_type": "code",
   "execution_count": null,
   "metadata": {},
   "outputs": [],
   "source": [
    "! mkdir ../results/$project/ROSE/MV411/\n",
    "for peak in peaks[1:]:\n",
    "    chiphelper.MakeSuperEnhancers(peak+'.bed',\n",
    "                             bamFile='.'.join(peak.split('.')[:-1])+'.mLb.clN.sorted.bam',\n",
    "                             baiFile='.'.join(peak.split('.')[:-1])+'.mLb.clN.sorted.bam.bai',\n",
    "                             controlBam= '../../data/diffBinding_hist/INPUT_R1.mLb.clN.sorted.bam',\n",
    "                             controlBai= '../../data/diffBinding_hist/INPUT_R1.mLb.clN.sorted.bam.bai',\n",
    "                             outdir ='../results/'+project+'/ROSE/MV411/',\n",
    "                             rosePath=\"../src/ROSE/\")"
   ]
  },
  {
   "cell_type": "code",
   "execution_count": null,
   "metadata": {},
   "outputs": [],
   "source": [
    "! rm ../data/$project/MV411_H3K27ac/*.bam*"
   ]
  },
  {
   "cell_type": "code",
   "execution_count": null,
   "metadata": {},
   "outputs": [],
   "source": [
    "rose = chiphelper.ReadRoseSuperEnhancers(\"../results/\"+project+\"/ROSE/MV411/\")"
   ]
  },
  {
   "cell_type": "code",
   "execution_count": null,
   "metadata": {},
   "outputs": [],
   "source": [
    "rose = chiphelper.simpleMergePeaks(rose,window=1000).drop(columns=[\"relative_summit_pos\",\"-log10pvalue\",\"-log10qvalue\"])"
   ]
  },
  {
   "cell_type": "code",
   "execution_count": null,
   "metadata": {},
   "outputs": [],
   "source": [
    "rose = rose[rose[rose.columns[5:]].astype(bool).sum(1)>1]\n",
    "rose = rose.sort_values(by=['chrom','start','end']).reset_index(drop=True)"
   ]
  },
  {
   "cell_type": "code",
   "execution_count": null,
   "metadata": {},
   "outputs": [],
   "source": [
    "merged['super_enhancer'] = chiphelper.putInConscensus(merged[merged.columns[:8]],rose)\n",
    "merged = merged.replace(np.nan,0)"
   ]
  },
  {
   "cell_type": "code",
   "execution_count": null,
   "metadata": {},
   "outputs": [],
   "source": [
    "merged['super_enhancer'].astype(bool).sum()"
   ]
  },
  {
   "cell_type": "code",
   "execution_count": null,
   "metadata": {},
   "outputs": [],
   "source": [
    "## making regulat enhancers merged[\"regular_enhancers\"]\n",
    "merged['regular_enhancer'] = (merged['activation'].astype(bool) & ~merged[['super_enhancer','promoters']].astype(bool).sum(1).astype(bool)).astype(float)"
   ]
  },
  {
   "cell_type": "code",
   "execution_count": null,
   "metadata": {},
   "outputs": [],
   "source": [
    "set(mergedpeak.tf)"
   ]
  },
  {
   "cell_type": "markdown",
   "metadata": {},
   "source": [
    "### adding ATACseq datta"
   ]
  },
  {
   "cell_type": "code",
   "execution_count": null,
   "metadata": {},
   "outputs": [],
   "source": [
    "! cp ../temp/MV411Merged/ATAC.bed ../../data/ATACseq/ATAC_MV411.mRp.clN_peaks.broadPeak "
   ]
  },
  {
   "cell_type": "code",
   "execution_count": null,
   "metadata": {},
   "outputs": [],
   "source": [
    "#! mkdir ../results/$project/MV411Merged\n",
    "for i in set(mergedpeak.tf):\n",
    "    a = mergedpeak[mergedpeak.tf==i][['chrom','start',\"end\",'peak_number',\"foldchange\"]]\n",
    "    a['strand']='+'\n",
    "    a.to_csv(\"../results/\"+project+\"/\"+version+'_'+merging_version+'_'+window+\"_ MV411Merged/\"+i+'.bed', sep='\\t', index=False)"
   ]
  },
  {
   "cell_type": "code",
   "execution_count": null,
   "metadata": {},
   "outputs": [],
   "source": [
    "a = ATAC[['chrom','start',\"end\",\"peak_number\",'foldchange']]\n",
    "a['strand'] = '+'\n",
    "a.to_csv('../results/'+project+\"/\"+version+'_'+merging_version+'_'+window+'_MV411Merged/ATAC.bed',index=False,sep='\\t')"
   ]
  },
  {
   "cell_type": "markdown",
   "metadata": {},
   "source": [
    "### Running and adding ChromHMM"
   ]
  },
  {
   "cell_type": "code",
   "execution_count": null,
   "metadata": {},
   "outputs": [],
   "source": [
    "l = ['H3K27ac', \n",
    "     'H3K27me3', \n",
    "     \"H3K79me2\",\n",
    "     \"H3K18\",\n",
    "     \"H3K4me1\",\n",
    "     \"H3K36me3\",\n",
    "     \"H3K4me3\", \n",
    "     \"H3K9ac\",\n",
    "     \"H3K36me2\",\n",
    "     \"CTCF\", \n",
    "     'SMC1', \n",
    "     \"POLII\", \n",
    "     \"MED1\", \n",
    "     'ATAC', \n",
    "     'CEBPA',\n",
    "     \"CEBPB\",\n",
    "     \"PU1_FLAG\",\n",
    "     'KMT2A',\n",
    "     'WRD5']"
   ]
  },
  {
   "cell_type": "code",
   "execution_count": null,
   "metadata": {},
   "outputs": [],
   "source": [
    "## computing CHROMHMM\n",
    "#!mkdir ../results/chromHMM/\n",
    "chrombed = chiphelper.runChromHMM(numstates=8, outdir = '../results/chromHMM/' + version + '_'+merging_version+'_'+window+'_/', data = pd.DataFrame([['MV411'] * len(l), l,[\"AMLproject/results/\" + project + \"/\" + version + '_' + merging_version + '_'+window+'_MV411Merged/'+i+'.bed' for i in l]]).T, datatype = 'bed', folderPath=\"\", chromHMMFolderpath=\"../src/Chro mHMM/\", control_bam_dir = None)['MV411']"
   ]
  },
  {
   "cell_type": "code",
   "execution_count": null,
   "metadata": {},
   "outputs": [],
   "source": [
    "from IPython.display import Image, display\n",
    "im = ! ls ../results/$project/chromHMM/v2_all_$window/*.png\n",
    "for val in im:\n",
    "    display(Image(filename=val))"
   ]
  },
  {
   "cell_type": "code",
   "execution_count": null,
   "metadata": {},
   "outputs": [],
   "source": [
    "version = \"v2\"\n",
    "merging_version = \"all\"\n",
    "window = \"150\""
   ]
  },
  {
   "cell_type": "code",
   "execution_count": null,
   "metadata": {},
   "outputs": [],
   "source": [
    "chrombed = pd.read_csv('../results/'+project+'/chromHMM/'+version+'_'+merging_version+'_'+window+'/MV411_8_dense.bed',sep='\\t',header=None, skiprows=1).drop(columns=[4,5,6,7]).rename(columns={0:'chrom',1:'start',2:'end',3:'state',8:\"color\"})"
   ]
  },
  {
   "cell_type": "code",
   "execution_count": null,
   "metadata": {},
   "outputs": [],
   "source": [
    "chrombed['foldchange']= chrombed['state']"
   ]
  },
  {
   "cell_type": "code",
   "execution_count": null,
   "metadata": {},
   "outputs": [],
   "source": [
    "merged['HMM_states'] = chiphelper.putInConscensus(merged[merged.columns[:8]],chrombed,window=1,mergetype='first')\n",
    "merged = merged.replace(np.nan,0)"
   ]
  },
  {
   "cell_type": "code",
   "execution_count": null,
   "metadata": {},
   "outputs": [],
   "source": [
    "merged['regular_enhancer'] = merged['regular_enhancer'].astype(float)"
   ]
  },
  {
   "cell_type": "code",
   "execution_count": null,
   "metadata": {},
   "outputs": [],
   "source": [
    "merged = merged.rename(columns={'SMC1':'cohesin','MED1':'mediator','ATAC':'open regions'})\n",
    "\n",
    "for i in range(1,1+states):\n",
    "    merged['state_'+str(i)] = (merged.HMM_states==i).astype(float)\n",
    "merged = merged.drop(columns=['HMM_states'])\n",
    "\n",
    "merged = merged[list(merged.columns[:-22]) + list(merged.columns[-20:-8]) + list(merged.columns[-22:-20]) + list(merged.columns[-8:])]"
   ]
  },
  {
   "cell_type": "code",
   "execution_count": null,
   "metadata": {},
   "outputs": [],
   "source": [
    "merging_version=\"remove_single\"\n",
    "window=\"150\"\n",
    "version"
   ]
  },
  {
   "cell_type": "code",
   "execution_count": null,
   "metadata": {},
   "outputs": [],
   "source": [
    "merged.to_csv('../results/'+project+'/merged_'+version+'_'+merging_version+'_'+window+'_with_annotations.bed.gz', sep='\\t',index=None)"
   ]
  },
  {
   "cell_type": "code",
   "execution_count": null,
   "metadata": {},
   "outputs": [],
   "source": [
    "merged = pd.read_csv('../results/'+project+'/merged_'+version+'_'+merging_version+'_'+window+'_with_annotations.bed.gz', sep='\\t')"
   ]
  },
  {
   "cell_type": "markdown",
   "metadata": {},
   "source": [
    "## In depth look at the cobinding matrix\n",
    "\n",
    "Look at AUC for all ChIPs over all peaks of all ChIPs"
   ]
  },
  {
   "cell_type": "code",
   "execution_count": null,
   "metadata": {},
   "outputs": [],
   "source": [
    "# Basic Information\n",
    "info = pd.concat([merged[merged.columns[8:]].astype(bool).sum(0),\n",
    "           merged[merged.columns[8:]].max(),\n",
    "           merged[merged.columns[8:]].replace(0, np.NaN).mean(),\n",
    "          merged[merged.columns[8:]].replace(0, np.NaN).var()],axis=1).rename(columns={0:'sum',1:'max',2:'mean',3:'std'})\n",
    "info.to_csv('../results/'+project+'/'+version+'_'+merging_version+'_'+window+'info.tsv')\n",
    "info"
   ]
  },
  {
   "cell_type": "code",
   "execution_count": null,
   "metadata": {},
   "outputs": [],
   "source": [
    "endata = 21\n",
    "merged.columns[-endata:]"
   ]
  },
  {
   "cell_type": "code",
   "execution_count": null,
   "metadata": {},
   "outputs": [],
   "source": [
    "rand = np.random.choice(merged.index,5000)\n",
    "viridis = cm.get_cmap('viridis', 256)\n",
    "data = merged[merged.columns[-endata:-states]]\n",
    "for val in data.columns[:-5].tolist()+data.columns[-2:].tolist():\n",
    "    #data[val] =stats.zscore(np.log2(1+data[val]))\n",
    "    data[val] = (((data[val] -data[val].min())/ (data[val].max()))*256).astype(int)\n",
    "#print(data['HMM_states'])\n",
    "m = data.max()\n",
    "data = data.loc[rand]\n",
    "data = data/m\n",
    "for val in data.columns:\n",
    "    a = [viridis(v*256) for v in data[val]]\n",
    "    data[val] = a"
   ]
  },
  {
   "cell_type": "code",
   "execution_count": null,
   "metadata": {},
   "outputs": [],
   "source": [
    "statetocol={i: chrombed[chrombed['state']==i].iloc[0]['color'] for i in set(chrombed['state'])}\n",
    "statetocol.update({0:'0,0,0'})\n",
    "for i,v in statetocol.items():\n",
    "    statetocol[i] = tuple([int(i)/256 for i in v.split(',')])\n",
    "data['HMM_states'] = [statetocol[i] for i in data['HMM_states']]"
   ]
  },
  {
   "cell_type": "code",
   "execution_count": null,
   "metadata": {},
   "outputs": [],
   "source": [
    "#clustermap of cobindings with annotation\n",
    "fig = sns.clustermap(merged[merged.columns[8:-endata]].loc[rand].T, standard_scale=0, colors_ratio=0.018, col_colors = data, figsize=(20,15),xticklabels=False)\n",
    "fig.ax_col_dendrogram.set_visible(False)\n",
    "fig.fig.suptitle(\"clustermap of cobindings with annotation\")\n",
    "fig.savefig('../results/'+project+'/plots/'+version+'_'+merging_version+'_'+window+'_clustermap_cobinding_scaled_full_annotations.pdf')\n",
    "plt.show()"
   ]
  },
  {
   "cell_type": "code",
   "execution_count": null,
   "metadata": {},
   "outputs": [],
   "source": [
    "#sorted clustermap of cobindings with annotation\n",
    "fig = sns.clustermap(np.log2(1.01+merged[merged.columns[8:-endata]].loc[rand].T), vmin=0,vmax=1,figsize=(20,15),colors_ratio=0.018, standard_scale=0,col_colors=data, xticklabels=False)\n",
    "fig.ax_col_dendrogram.set_visible(False)\n",
    "fig.fig.suptitle(\"sorted clustermap of cobindings with annotation\")\n",
    "fig.savefig('../results/'+project+'/plots/'+version+'_'+merging_version+'_'+window+'_clustermap_cobinding_scaled_full_annotation_sorted.pdf')\n",
    "plt.show()"
   ]
  },
  {
   "cell_type": "code",
   "execution_count": null,
   "metadata": {},
   "outputs": [],
   "source": [
    "#scatter plot of distance of TF in cobinding space\n",
    "helper.scatter(TSNE(2,3).fit_transform(PCA(30).fit_transform(stats.zscore(data).T)), radi=10, labels=merged.columns[8:-endata], showlabels=True, title=\"scatter plot of distance of TF in cobinding space\", folder=\"../results/\"+project+'/plots/'+version+\"_\"+window+\"_\"+merging_version+\"_\")"
   ]
  },
  {
   "cell_type": "markdown",
   "metadata": {},
   "source": [
    "## Saving"
   ]
  },
  {
   "cell_type": "code",
   "execution_count": null,
   "metadata": {},
   "outputs": [],
   "source": [
    "%store merged\n",
    "%store promoters\n",
    "#ATAC\n",
    "%store a \n",
    "%store chrombed\n",
    "%store mergedpeak\n",
    "%store endata\n",
    "%store l"
   ]
  }
 ],
 "metadata": {
  "celltoolbar": "Diaporama",
  "kernelspec": {
   "display_name": "Python 3",
   "language": "python",
   "name": "python3"
  },
  "language_info": {
   "codemirror_mode": {
    "name": "ipython",
    "version": 3
   },
   "file_extension": ".py",
   "mimetype": "text/x-python",
   "name": "python",
   "nbconvert_exporter": "python",
   "pygments_lexer": "ipython3",
   "version": "3.8.3rc1"
  },
  "latex_envs": {
   "LaTeX_envs_menu_present": true,
   "autoclose": false,
   "autocomplete": true,
   "bibliofile": "biblio.bib",
   "cite_by": "apalike",
   "current_citInitial": 1,
   "eqLabelWithNumbers": true,
   "eqNumInitial": 1,
   "hotkeys": {
    "equation": "Ctrl-E",
    "itemize": "Ctrl-I"
   },
   "labels_anchors": false,
   "latex_user_defs": false,
   "report_style_numbering": false,
   "user_envs_cfg": false
  },
  "toc": {
   "base_numbering": 1,
   "nav_menu": {},
   "number_sections": false,
   "sideBar": true,
   "skip_h1_title": false,
   "title_cell": "Table of Contents",
   "title_sidebar": "Contents",
   "toc_cell": false,
   "toc_position": {
    "height": "372px",
    "left": "78px",
    "top": "111.6px",
    "width": "175px"
   },
   "toc_section_display": true,
   "toc_window_display": true
  },
  "varInspector": {
   "cols": {
    "lenName": 16,
    "lenType": 16,
    "lenVar": 40
   },
   "kernels_config": {
    "python": {
     "delete_cmd_postfix": "",
     "delete_cmd_prefix": "del ",
     "library": "var_list.py",
     "varRefreshCmd": "print(var_dic_list())"
    },
    "r": {
     "delete_cmd_postfix": ") ",
     "delete_cmd_prefix": "rm(",
     "library": "var_list.r",
     "varRefreshCmd": "cat(var_dic_list()) "
    }
   },
   "types_to_exclude": [
    "module",
    "function",
    "builtin_function_or_method",
    "instance",
    "_Feature"
   ],
   "window_display": false
  }
 },
 "nbformat": 4,
 "nbformat_minor": 2
}
