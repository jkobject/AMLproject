{
 "cells": [
  {
   "cell_type": "markdown",
   "metadata": {},
   "source": [
    "# Slamseq iBet spikeIn Max P paper READCOUNTS"
   ]
  },
  {
   "cell_type": "markdown",
   "metadata": {},
   "source": [
    "__you need to have run the regular notebook before__"
   ]
  },
  {
   "cell_type": "code",
   "execution_count": null,
   "metadata": {},
   "outputs": [],
   "source": [
    "from __future__ import print_function\n",
    "import os.path\n",
    "import pandas as pd\n",
    "import sys\n",
    "sys.path.insert(0, '../../')\n",
    "import seaborn as sns\n",
    "import numpy as np\n",
    "from scipy.stats import spearmanr\n",
    "\n",
    "from JKBio.Helper import *\n",
    "from JKBio.helper import pyDESeq2\n",
    "\n",
    "from bokeh.plotting import *\n",
    "from bokeh.models import HoverTool\n",
    "import matplotlib.pyplot as plt\n",
    "\n",
    "from sklearn.neighbors import KNeighborsClassifier\n",
    "from sklearn.manifold import MDS, TSNE\n",
    "from sklearn.decomposition import PCA\n",
    "from sklearn.preprocessing import scale\n",
    "#from umap import UMAP\n",
    "\n",
    "output_notebook()\n",
    "%load_ext autoreload\n",
    "%matplotlib inline\n",
    "%autoreload 2\n",
    "%load_ext rpy2.ipython"
   ]
  },
  {
   "cell_type": "markdown",
   "metadata": {},
   "source": [
    "downloading their data"
   ]
  },
  {
   "cell_type": "code",
   "execution_count": null,
   "metadata": {},
   "outputs": [],
   "source": [
    "version=\"vAll\"\n",
    "project=\"slamseqMax\"\n",
    "location= '../data/'+project+\"/\""
   ]
  },
  {
   "cell_type": "code",
   "execution_count": null,
   "metadata": {},
   "outputs": [],
   "source": [
    "%store -r res\n",
    "\n",
    "%store -r tccounts\n",
    "%store -r readcounts\n",
    "\n",
    "%store -r tccountsMyci\n",
    "%store -r tccountsMybi\n",
    "%store -r tccountsMEF2D\n",
    "\n",
    "%store -r designMS2\n",
    "%store -r designJQ1\n",
    "%store -r designMS2_JQ1\n",
    "\n",
    "%store -r designMybi30\n",
    "%store -r designMybi6\n",
    "%store -r designMybi24\n",
    "\n",
    "%store -r designMEF2D2\n",
    "%store -r designMEF2D24\n",
    "%store -r ctf\n",
    "minvar_toremove=0\n",
    "mincount_toremove=5"
   ]
  },
  {
   "cell_type": "markdown",
   "metadata": {},
   "source": [
    "### Differential gene expression analysis, PCA and GO-term enrichment\n",
    "\n",
    "For gene-level analysis, raw reads mapped to different UTR annotations of the same gene were summed up by Entrez Gene ID. Pilot studies of K562 cells with kinase inhibitors were performed as single experiments. \n",
    "\n",
    "Analysis of differential gene expression was restricted to genes with ≥ 10 reads in at least one condition for 50bp sequencing runs (flavopiridol and DMSO) or ≥ 20 reads in at least one condition for 100bp sequencing runs (mk2206, trametinib, nilotinib, trametinib + mk2206 and DMSO). For estimating differential expression, a pseudo-count of 1 raw read was added to all genes.\n",
    "\n",
    "#### All other SLAM-seq experiments were performed in triplicates and analyzed as follows. \n",
    "Differential gene expression calling was performed on raw read counts with ≥ 2 T>C conversions using DESeq2 (version 1.14.1) with default settings, and with size factors estimated on corresponding total mRNA reads for global normalization.\n",
    "\n",
    "Downstream analysis was restricted to genes passing all internal filters for FDR estimation by DESeq2. Principal component analysis was performed after variance\n",
    "stabilizing transformation on the 500 most variable genes across all conditions of a given\n",
    "experiment. GO-term enrichment analysis was performed on genes significantly and strongly downregulated (FDR ≤ 0.1, log2FC ≤ -1) in SLAM-seq upon IAA-treatment in K562MYC-AID + Tir1 by the PANTHER Overrepresentation Test (Fisher's Exact with FDR multiple test correction, release 20171205, http://pantherdb.org) on GO Ontology database Released 2017-12-27."
   ]
  },
  {
   "cell_type": "code",
   "execution_count": null,
   "metadata": {},
   "outputs": [],
   "source": [
    "scaling=\"ERCCsamplewise\""
   ]
  },
  {
   "cell_type": "markdown",
   "metadata": {},
   "source": [
    "### MYCi"
   ]
  },
  {
   "cell_type": "code",
   "execution_count": null,
   "metadata": {},
   "outputs": [],
   "source": [
    "readcountsMyci= readcounts[list(tccountsMyci.columns)]\n",
    "MS2 = [1,1,1,0,0,0,0,0,0,1,1,1]\n",
    "deseqMS2 = pyDESeq2.pyDESeq2(count_matrix=readcountsMyci[readcountsMyci.columns[np.array(MS2+[1],np.bool)]], design_matrix=designMS2[np.array(MS2,np.bool)],\n",
    "                         design_formula=\"~DMSO - VHL\",\n",
    "                         gene_column=\"genes\")\n",
    "JQ1 = [0,0,0,1,1,1,0,0,0,1,1,1]\n",
    "deseqJQ1 = pyDESeq2.pyDESeq2(count_matrix=readcountsMyci[readcountsMyci.columns[np.array(JQ1+[1],np.bool)]],\n",
    "                         design_matrix=designJQ1[np.array(JQ1,np.bool)],\n",
    "                         design_formula=\"~DMSO - VHL\",\n",
    "                         gene_column=\"genes\")\n",
    "MS2_JQ1 = [0,0,0,0,0,0,1,1,1,1,1,1]\n",
    "deseqMS2_JQ1 = pyDESeq2.pyDESeq2(count_matrix=readcountsMyci[readcountsMyci.columns[np.array(MS2_JQ1+[1],np.bool)]],                     design_matrix=designMS2_JQ1[np.array(MS2_JQ1,np.bool)],\n",
    "                         design_formula=\"~DMSO - VHL\",\n",
    "                         gene_column=\"genes\")"
   ]
  },
  {
   "cell_type": "markdown",
   "metadata": {},
   "source": [
    "### Mybi"
   ]
  },
  {
   "cell_type": "code",
   "execution_count": null,
   "metadata": {},
   "outputs": [],
   "source": [
    "readcountsMybi= readcounts[list(tccountsMybi.columns)]\n",
    "Mybi30 = [1,1,1,1,1,1,1,1,0,0,0,0,0,0,0,0,0,0,0,0,0,0]\n",
    "deseqMybi30 = pyDESeq2.pyDESeq2(count_matrix = readcountsMybi[readcountsMybi.columns[np.array(Mybi30+[1],np.bool)]],\n",
    "                         design_matrix=designMybi30[np.array(Mybi30,np.bool)],\n",
    "                         design_formula=\"~DMSO - VHL\",\n",
    "                         gene_column=\"genes\")\n",
    "Mybi6 = [0,0,0,0,0,0,0,0,1,1,1,1,1,1,1,0,0,0,0,0,0,0]\n",
    "deseqMybi6 = pyDESeq2.pyDESeq2(count_matrix = readcountsMybi[readcountsMybi.columns[np.array(Mybi6+[1],np.bool)]],\n",
    "                         design_matrix=designMybi6[np.array(Mybi6,np.bool)],\n",
    "                         design_formula=\"~DMSO - VHL\",\n",
    "                         gene_column=\"genes\")\n",
    "Mybi24 = [0,0,0,0,0,0,0,0,0,0,0,0,0,0,0,1,1,1,1,1,1,1]\n",
    "deseqMybi24 = pyDESeq2.pyDESeq2(count_matrix=readcountsMybi[readcountsMybi.columns[np.array(Mybi24+[1],np.bool)]], design_matrix=designMybi24[np.array(Mybi24,np.bool)],\n",
    "                         design_formula=\"~DMSO - VHL\",\n",
    "                         gene_column=\"genes\")"
   ]
  },
  {
   "cell_type": "markdown",
   "metadata": {},
   "source": [
    "### MEF2D"
   ]
  },
  {
   "cell_type": "code",
   "execution_count": null,
   "metadata": {},
   "outputs": [],
   "source": [
    "MEF2D2 = [1,1,1,1,1,1,1,1,0,0,0,0,0,0,0,0]\n",
    "readcountsMEF2D= readcounts[list(tccountsMEF2D.columns)]\n",
    "deseqMEF2D2 = pyDESeq2.pyDESeq2(count_matrix = readcountsMEF2D[readcountsMEF2D.columns[np.array(MEF2D2+[1],np.bool)]],\n",
    "                         design_matrix=designMEF2D2[np.array(MEF2D2,np.bool)],\n",
    "                         design_formula=\"~DMSO - VHL\",\n",
    "                         gene_column=\"genes\")\n",
    "MEF2D24 = [0,0,0,0,0,0,0,0,1,1,1,1,1,1,1,1]\n",
    "deseqMEF2D24 = pyDESeq2.pyDESeq2(count_matrix = readcountsMEF2D[readcountsMEF2D.columns[np.array(MEF2D24+[1],np.bool)]],\n",
    "                         design_matrix=designMEF2D24[np.array(MEF2D24,np.bool)],\n",
    "                         design_formula=\"~DMSO - VHL\",\n",
    "                         gene_column=\"genes\")"
   ]
  },
  {
   "cell_type": "markdown",
   "metadata": {},
   "source": [
    "## estimating size factors"
   ]
  },
  {
   "cell_type": "markdown",
   "metadata": {},
   "source": [
    "#### MYCi"
   ]
  },
  {
   "cell_type": "code",
   "execution_count": null,
   "metadata": {},
   "outputs": [],
   "source": [
    "deseqMS2.run_estimate_size_factors()\n",
    "deseqJQ1.run_estimate_size_factors()\n",
    "deseqMS2_JQ1.run_estimate_size_factors()"
   ]
  },
  {
   "cell_type": "markdown",
   "metadata": {},
   "source": [
    "#### MYBi"
   ]
  },
  {
   "cell_type": "code",
   "execution_count": null,
   "metadata": {},
   "outputs": [],
   "source": [
    "deseqMybi30.run_estimate_size_factors()\n",
    "deseqMybi6.run_estimate_size_factors()\n",
    "deseqMybi24.run_estimate_size_factors()"
   ]
  },
  {
   "cell_type": "markdown",
   "metadata": {},
   "source": [
    "#### MEF2D"
   ]
  },
  {
   "cell_type": "code",
   "execution_count": null,
   "metadata": {},
   "outputs": [],
   "source": [
    "deseqMEF2D2.run_estimate_size_factors()\n",
    "deseqMEF2D24.run_estimate_size_factors()"
   ]
  },
  {
   "cell_type": "markdown",
   "metadata": {},
   "source": [
    "## other size factor estimations"
   ]
  },
  {
   "cell_type": "code",
   "execution_count": null,
   "metadata": {},
   "outputs": [],
   "source": [
    "# from https://www.cell.com/trends/genetics/pdf/S0168-9525(13)00089-9.pdf FFROM THOUSANDS OF SAMPLES\n",
    "housekeeping1 = [\"C1orf43\", \"CHMP2A\", \"EMC7\", \"GPI\", \"PSMB2\", \"PSMB4\", \"RAB7A\", \"REEP5\", \"SNRPD3\", \"VCP\", \"VPS29\"]\n",
    "\n",
    "#https://www.ncbi.nlm.nih.gov/pmc/articles/PMC4760967/ FOR CANCER CELL LINES\n",
    "housekeeping2 = ['18S rRNA',\n",
    "'ACTB',\n",
    "'B2M',\n",
    "'G6PD',\n",
    "'GAPDH',\n",
    "'GUSB',\n",
    "'HMBS',\n",
    "'HPRT1',\n",
    "'PGK1',\n",
    "'PPIA',\n",
    "'RPL13a',\n",
    "'SDHA',\n",
    "'TBP',\n",
    "'TUBB',\n",
    "'YWHAZ']"
   ]
  },
  {
   "cell_type": "code",
   "execution_count": null,
   "metadata": {},
   "outputs": [],
   "source": [
    "housekeeping = readcounts.genes.isin(housekeeping2)"
   ]
  },
  {
   "cell_type": "code",
   "execution_count": null,
   "metadata": {},
   "outputs": [],
   "source": [
    "readcountsMybi= readcounts[readcounts.columns[16:-1]]\n",
    "np.exp(np.mean(np.log(\n",
    "    readcountsMybi[readcountsMybi.columns[np.array([1,1,1,1,0,0,0], np.bool)]].values+1), 1))"
   ]
  },
  {
   "cell_type": "code",
   "execution_count": null,
   "metadata": {},
   "outputs": [],
   "source": [
    "readcountsMybi= readcounts[readcounts.columns[16:-1]]\n",
    "\n",
    "deseqMybi.run_estimate_size_factors(controlGenes=housekeeping)"
   ]
  },
  {
   "cell_type": "code",
   "execution_count": null,
   "metadata": {},
   "outputs": [],
   "source": [
    "readcountsMEF2D= readcounts[readcounts.columns[:16]]\n",
    "\n",
    "deseqMEF2D2.run_estimate_size_factors(controlGenes=housekeeping)\n",
    "deseqMEF2D24.run_estimate_size_factors(controlGenes=housekeeping)"
   ]
  },
  {
   "cell_type": "markdown",
   "metadata": {},
   "source": [
    "## Modifying size factors"
   ]
  },
  {
   "cell_type": "code",
   "execution_count": null,
   "metadata": {},
   "outputs": [],
   "source": [
    "r"
   ]
  },
  {
   "cell_type": "code",
   "execution_count": null,
   "metadata": {},
   "outputs": [],
   "source": [
    "#### MYCi"
   ]
  },
  {
   "cell_type": "code",
   "execution_count": null,
   "metadata": {},
   "outputs": [],
   "source": [
    "sizeFact = deseqJQ1.getSizeFactors()"
   ]
  },
  {
   "cell_type": "code",
   "execution_count": null,
   "metadata": {},
   "outputs": [],
   "source": [
    "sizeFact"
   ]
  },
  {
   "cell_type": "code",
   "execution_count": null,
   "metadata": {},
   "outputs": [],
   "source": [
    "sizeFact[:3] = sizeFact[:3]* (res[[i for i in res.index if '-JQ1-' in i]].values/res[[i for i in res.index if '-DMSO-' in i]].values.mean())"
   ]
  },
  {
   "cell_type": "code",
   "execution_count": null,
   "metadata": {},
   "outputs": [],
   "source": [
    "sizeFact"
   ]
  },
  {
   "cell_type": "code",
   "execution_count": null,
   "metadata": {},
   "outputs": [],
   "source": [
    "deseqJQ1.setSizeFactors(sizeFact)"
   ]
  },
  {
   "cell_type": "code",
   "execution_count": null,
   "metadata": {},
   "outputs": [],
   "source": [
    "sizeFact = deseqMS2_JQ1.getSizeFactors()"
   ]
  },
  {
   "cell_type": "code",
   "execution_count": null,
   "metadata": {},
   "outputs": [],
   "source": [
    "sizeFact"
   ]
  },
  {
   "cell_type": "code",
   "execution_count": null,
   "metadata": {},
   "outputs": [],
   "source": [
    "sizeFact[:3] = sizeFact[:3]*(res[[i for i in res.index if '-MS2_JQ1-' in i]].values/res[[i for i in res.index if '-DMSO-' in i]].values.mean())"
   ]
  },
  {
   "cell_type": "code",
   "execution_count": null,
   "metadata": {},
   "outputs": [],
   "source": [
    "sizeFact"
   ]
  },
  {
   "cell_type": "code",
   "execution_count": null,
   "metadata": {},
   "outputs": [],
   "source": [
    "deseqMS2_JQ1.setSizeFactors(sizeFact)"
   ]
  },
  {
   "cell_type": "code",
   "execution_count": null,
   "metadata": {},
   "outputs": [],
   "source": [
    "#### MYBi"
   ]
  },
  {
   "cell_type": "code",
   "execution_count": null,
   "metadata": {},
   "outputs": [],
   "source": [
    "sizeFact = deseqMybi30.getSizeFactors()"
   ]
  },
  {
   "cell_type": "code",
   "execution_count": null,
   "metadata": {},
   "outputs": [],
   "source": [
    "sizeFact[:4] = sizeFact[:4]*(res[[i for i in res.index if '-MYBi_30m-' in i]].values/res[[i for i in res.index if '-PBS_30m-' in i]].values.mean())"
   ]
  },
  {
   "cell_type": "code",
   "execution_count": null,
   "metadata": {},
   "outputs": [],
   "source": [
    "deseqMybi30.setSizeFactors(sizeFact)"
   ]
  },
  {
   "cell_type": "code",
   "execution_count": null,
   "metadata": {},
   "outputs": [],
   "source": [
    "sizeFact = deseqMybi6.getSizeFactors()"
   ]
  },
  {
   "cell_type": "code",
   "execution_count": null,
   "metadata": {},
   "outputs": [],
   "source": [
    "sizeFact[:4] = sizeFact[:4]*(res[[i for i in res.index if '-MYBi_6h-' in i]].values/res[[i for i in res.index if '-PBS_6h-' in i]].values.mean())"
   ]
  },
  {
   "cell_type": "code",
   "execution_count": null,
   "metadata": {},
   "outputs": [],
   "source": [
    "deseqMybi6.setSizeFactors(sizeFact)"
   ]
  },
  {
   "cell_type": "code",
   "execution_count": null,
   "metadata": {},
   "outputs": [],
   "source": [
    "sizeFact = deseqMybi24.getSizeFactors()"
   ]
  },
  {
   "cell_type": "code",
   "execution_count": null,
   "metadata": {},
   "outputs": [],
   "source": [
    "readcountsMybi.columns[np.array(Mybi24+[1],np.bool)]"
   ]
  },
  {
   "cell_type": "code",
   "execution_count": null,
   "metadata": {},
   "outputs": [],
   "source": [
    "sizeFact"
   ]
  },
  {
   "cell_type": "code",
   "execution_count": null,
   "metadata": {},
   "outputs": [],
   "source": [
    "res[[i for i in res.index if '-MYBi_24h-' in i]].values"
   ]
  },
  {
   "cell_type": "code",
   "execution_count": null,
   "metadata": {},
   "outputs": [],
   "source": [
    "res[[i for i in res.index if '-PBS_24h-' in i]].values.mean()"
   ]
  },
  {
   "cell_type": "code",
   "execution_count": null,
   "metadata": {},
   "outputs": [],
   "source": [
    "(res[[i for i in res.index if '-MYBi_24h-' in i]].values/res[[i for i in res.index if '-PBS_24h-' in i]].values.mean())"
   ]
  },
  {
   "cell_type": "code",
   "execution_count": null,
   "metadata": {},
   "outputs": [],
   "source": [
    "sizeFact[4:] = sizeFact[4:]*(res[[i for i in res.index if '-MYBi_24h-' in i]].values/res[[i for i in res.index if '-PBS_24h-' in i]].values.mean())"
   ]
  },
  {
   "cell_type": "code",
   "execution_count": null,
   "metadata": {},
   "outputs": [],
   "source": [
    "sizeFact"
   ]
  },
  {
   "cell_type": "code",
   "execution_count": null,
   "metadata": {},
   "outputs": [],
   "source": [
    "deseqMybi24.setSizeFactors(sizeFact)"
   ]
  },
  {
   "cell_type": "code",
   "execution_count": null,
   "metadata": {},
   "outputs": [],
   "source": [
    "#### MEF2D"
   ]
  },
  {
   "cell_type": "code",
   "execution_count": null,
   "metadata": {},
   "outputs": [],
   "source": [
    "sizeFact = deseqMEF2D24.getSizeFactors()"
   ]
  },
  {
   "cell_type": "code",
   "execution_count": null,
   "metadata": {},
   "outputs": [],
   "source": [
    "sizeFact[4:] = sizeFact[4:]*(res[[i for i in res.index if '-VHL_24h-' in i]].values/res[[i for i in res.index if '-DMSO_24h-' in i]].values.mean())"
   ]
  },
  {
   "cell_type": "code",
   "execution_count": null,
   "metadata": {},
   "outputs": [],
   "source": [
    "deseqMEF2D24.setSizeFactors(sizeFact)"
   ]
  },
  {
   "cell_type": "markdown",
   "metadata": {},
   "source": [
    "## running it"
   ]
  },
  {
   "cell_type": "code",
   "execution_count": null,
   "metadata": {},
   "outputs": [],
   "source": [
    "deseqMybi24.run_deseq()\n",
    "deseqMybi24.get_deseq_result()\n",
    "resMybi24 = deseqMybi24.deseq_result\n",
    "resMybi24.pvalue = np.nan_to_num(np.array(resMybi24.pvalue), 1)\n",
    "resMybi24.log2FoldChange = np.nan_to_num(np.array(resMybi24.log2FoldChange), 0)\n",
    "resMybi24.log2FoldChange = -resMybi24.log2FoldChange\n",
    "resMybi24[\"gene_id\"] = resMybi24.genes"
   ]
  },
  {
   "cell_type": "code",
   "execution_count": null,
   "metadata": {},
   "outputs": [],
   "source": [
    "deseqMEF2D2.run_deseq()\n",
    "deseqMEF2D24.run_deseq()\n",
    "deseqMEF2D2.get_deseq_result()\n",
    "deseqMEF2D24.get_deseq_result()\n",
    "resMEF2D2 = deseqMEF2D2.deseq_result\n",
    "resMEF2D24 = deseqMEF2D24.deseq_result\n",
    "resMEF2D2.pvalue = np.nan_to_num(np.array(resMEF2D2.pvalue), 1)\n",
    "resMEF2D2.log2FoldChange = np.nan_to_num(np.array(resMEF2D2.log2FoldChange), 0)\n",
    "resMEF2D24.pvalue = np.nan_to_num(np.array(resMEF2D24.pvalue), 1)\n",
    "resMEF2D24.log2FoldChange = np.nan_to_num(np.array(resMEF2D24.log2FoldChange), 0)\n",
    "resMEF2D24.log2FoldChange = -resMEF2D24.log2FoldChange\n",
    "resMEF2D2.log2FoldChange = -resMEF2D2.log2FoldChange\n",
    "resMEF2D2[\"gene_id\"] = resMEF2D2.genes\n",
    "resMEF2D24[\"gene_id\"] = resMEF2D24.genes"
   ]
  },
  {
   "cell_type": "code",
   "execution_count": null,
   "metadata": {},
   "outputs": [],
   "source": [
    "deseqMS2.run_deseq()\n",
    "deseqJQ1.run_deseq()\n",
    "deseqMS2_JQ1.run_deseq()\n",
    "deseqMS2.get_deseq_result()\n",
    "deseqJQ1.get_deseq_result()\n",
    "deseqMS2_JQ1.get_deseq_result()\n",
    "resMS2 = deseqMS2.deseq_result\n",
    "resJQ1 = deseqJQ1.deseq_result\n",
    "resMS2_JQ1 = deseqMS2_JQ1.deseq_result\n",
    "resMS2.pvalue = np.nan_to_num(np.array(resMS2.pvalue), 1)\n",
    "resMS2.log2FoldChange = np.nan_to_num(np.array(resMS2.log2FoldChange), 0)\n",
    "resJQ1.pvalue = np.nan_to_num(np.array(resJQ1.pvalue), 1)\n",
    "resJQ1.log2FoldChange = np.nan_to_num(np.array(resJQ1.log2FoldChange), 0)\n",
    "resMS2_JQ1.pvalue = np.nan_to_num(np.array(resMS2_JQ1.pvalue), 1)\n",
    "resMS2_JQ1.log2FoldChange = np.nan_to_num(np.array(resMS2_JQ1.log2FoldChange), 0)\n",
    "resMS2.log2FoldChange = -resMS2.log2FoldChange\n",
    "resJQ1.log2FoldChange = -resJQ1.log2FoldChange\n",
    "resMS2_JQ1.log2FoldChange = -resMS2_JQ1.log2FoldChange\n",
    "resMS2[\"gene_id\"] = resMS2.genes\n",
    "resJQ1[\"gene_id\"] = resJQ1.genes\n",
    "resMS2_JQ1[\"gene_id\"] = resMS2_JQ1.genes"
   ]
  },
  {
   "cell_type": "code",
   "execution_count": null,
   "metadata": {},
   "outputs": [],
   "source": [
    "deseqMybi30.run_deseq()\n",
    "deseqMybi6.run_deseq()\n",
    "deseqMybi30.get_deseq_result()\n",
    "deseqMybi6.get_deseq_result()\n",
    "resMybi30 = deseqMybi30.deseq_result\n",
    "resMybi6 = deseqMybi6.deseq_result\n",
    "resMybi30.pvalue = np.nan_to_num(np.array(resMybi30.pvalue), 1)\n",
    "resMybi30.log2FoldChange = np.nan_to_num(np.array(resMybi30.log2FoldChange), 0)\n",
    "resMybi6.pvalue = np.nan_to_num(np.array(resMybi6.pvalue), 1)\n",
    "resMybi6.log2FoldChange = np.nan_to_num(np.array(resMybi6.log2FoldChange), 0)\n",
    "resMybi6.log2FoldChange = -resMybi6.log2FoldChange\n",
    "resMybi30.log2FoldChange = -resMybi30.log2FoldChange\n",
    "resMybi30[\"gene_id\"] = resMybi30.genes\n",
    "resMybi6[\"gene_id\"] = resMybi6.genes"
   ]
  },
  {
   "cell_type": "markdown",
   "metadata": {},
   "source": [
    "## PLOTS"
   ]
  },
  {
   "cell_type": "markdown",
   "metadata": {},
   "source": [
    "## Scatter plot comparison"
   ]
  },
  {
   "cell_type": "code",
   "execution_count": null,
   "metadata": {},
   "outputs": [],
   "source": [
    "mix = pd.DataFrame()\n",
    "mix[\"gene_id\"] = resMybi30[\"gene_id\"]\n",
    "mix['Mybi 30mn'] = resMybi30.log2FoldChange\n",
    "mix['Mybi 6h'] = resMybi6.log2FoldChange"
   ]
  },
  {
   "cell_type": "code",
   "execution_count": null,
   "metadata": {},
   "outputs": [],
   "source": [
    "scatter(mix[['Mybi 30mn','Mybi 6h']].values[:12000], \n",
    "               mix['gene_id'].values.tolist()[:12000], radi= 0.06, alpha=0.3,\n",
    "              colors = [0 if i in ctf else 1 for i in mix['gene_id'].values.tolist()[:12000]],\n",
    "       xname=\"Mybi 30mn\",\n",
    "    yname=\"Mybi 6h\",\n",
    "       folder='../results/'+project+\"/plots/\"+version+\"_\"+scaling+\"_\",\n",
    "       title='Mybi 30mn vs 6h differences in logFoldChange')"
   ]
  },
  {
   "cell_type": "markdown",
   "metadata": {},
   "source": [
    "## Regular volcanos"
   ]
  },
  {
   "cell_type": "code",
   "execution_count": null,
   "metadata": {},
   "outputs": [],
   "source": [
    "!rm ../results/slamseqMax/*ERCsamplewise_TotalC*"
   ]
  },
  {
   "cell_type": "code",
   "execution_count": null,
   "metadata": {},
   "outputs": [],
   "source": [
    "resMS2.to_csv(\"../results/\"+project+\"/\"+version+'_'+scaling+\"_\"+str(minvar_toremove)+'_'+str(mincount_toremove)+'_totalcounts_MS2_deseq.csv')\n",
    "resJQ1.to_csv(\"../results/\"+project+\"/\"+version+'_'+scaling+\"_\"+str(minvar_toremove)+'_'+str(mincount_toremove)+'_totalcounts_JQ1_deseq.csv')\n",
    "resMS2_JQ1.to_csv(\"../results/\"+project+\"/\"+version+'_'+scaling+\"_\"+str(minvar_toremove)+'_'+str(mincount_toremove)+'_totalcounts_MS2_JQ1_deseq.csv')"
   ]
  },
  {
   "cell_type": "code",
   "execution_count": null,
   "metadata": {},
   "outputs": [],
   "source": [
    "resMybi30.to_csv(\"../results/\"+project+\"/\"+version+'_'+scaling+'_'+str(minvar_toremove)+'_'+str(mincount_toremove)+'_Mybi_30um_deseq.csv')\n",
    "resMybi6.to_csv(\"../results/\"+project+\"/\"+version+'_'+scaling+'_'+str(minvar_toremove)+'_'+str(mincount_toremove)+'_Mybi_6h_deseq.csv')"
   ]
  },
  {
   "cell_type": "code",
   "execution_count": null,
   "metadata": {},
   "outputs": [],
   "source": [
    "resMybi24.to_csv(\"../results/\"+project+\"/\"+version+'_'+scaling+'_'+str(minvar_toremove)+'_'+str(mincount_toremove)+'_totalcounts_Mybi_24h_deseq.csv')"
   ]
  },
  {
   "cell_type": "code",
   "execution_count": null,
   "metadata": {},
   "outputs": [],
   "source": [
    "resMEF2D2.to_csv(\"../results/\"+project+\"/\"+version+'_'+scaling+'_'+str(minvar_toremove)+'_'+str(mincount_toremove)+'_totalcounts_MEF2D_2h_deseq.csv')\n",
    "resMEF2D24.to_csv(\"../results/\"+project+\"/\"+version+'_'+scaling+'_'+str(minvar_toremove)+'_'+str(mincount_toremove)+'_totalcounts_MEF2D_24h_deseq.csv')"
   ]
  },
  {
   "cell_type": "markdown",
   "metadata": {},
   "source": [
    "we can conclude that we get similar results to the slamseq myc paper although it seems that our values are a bit skewed toward higher expression than what is on the slamseq paper. It mightt be explained by the pseudo count of 1 that I did not set. Because I think it would highly bias the DESeq algorithm."
   ]
  },
  {
   "cell_type": "code",
   "execution_count": null,
   "metadata": {},
   "outputs": [],
   "source": [
    "show(volcano(resMS2,tohighlight=ctf, searchbox=True, title='DESeq results of MV411 under MS2 in volcano plot', folder='../results/'+project+'/plots/'+version+'_'+scaling+\"_\"+str(minvar_toremove)+'_'+str(mincount_toremove)))\n",
    "show(volcano(resJQ1,tohighlight=ctf, searchbox=True, title='DESeq results of MV411 under JQ1 in volcano plot', folder='../results/'+project+'/plots/'+version+'_'+scaling+\"_\"+str(minvar_toremove)+'_'+str(mincount_toremove)))\n",
    "show(volcano(resMS2_JQ1,tohighlight=ctf, searchbox=True, title='DESeq results of MV411 under MS2 and JQ1 in volcano plot', folder='../results/'+project+'/plots/'+version+'_'+scaling+\"_\"+str(minvar_toremove)+'_'+str(mincount_toremove)))"
   ]
  },
  {
   "cell_type": "markdown",
   "metadata": {},
   "source": [
    "### Mybi"
   ]
  },
  {
   "cell_type": "code",
   "execution_count": null,
   "metadata": {},
   "outputs": [],
   "source": [
    "show(volcano(resMybi30,tohighlight=ctf, searchbox=True, title=\"Mybi at 30mn\", folder='../results/'+project+'/plots/'+version+'_'+scaling+\"_\"+str(minvar_toremove)+'_'+str(mincount_toremove)))"
   ]
  },
  {
   "cell_type": "code",
   "execution_count": null,
   "metadata": {},
   "outputs": [],
   "source": [
    "show(volcano(resMybi6,tohighlight=ctf, searchbox=True, title=\"Mybi at 6h\", folder='../results/'+project+'/plots/'+version+'_'+scaling+\"_\"+str(minvar_toremove)+'_'+str(mincount_toremove),maxvalue=50))"
   ]
  },
  {
   "cell_type": "code",
   "execution_count": null,
   "metadata": {},
   "outputs": [],
   "source": [
    "volcano(resMybi24,tohighlight=ctf, searchbox=True, title=\"Mybi at 24h\", folder='../results/'+project+'/plots/'+version+'_'+scaling+\"_\"+str(minvar_toremove)+'_'+str(mincount_toremove),maxvalue=50)"
   ]
  },
  {
   "cell_type": "markdown",
   "metadata": {},
   "source": [
    "### MEF2D"
   ]
  },
  {
   "cell_type": "code",
   "execution_count": null,
   "metadata": {},
   "outputs": [],
   "source": [
    "show(volcano(resMEF2D2,tohighlight=ctf, searchbox=True, title=\"MEF2D at 2h\", folder='../results/'+project+'/plots/'+version+'_'+scaling+\"_\"+str(minvar_toremove)+'_'+str(mincount_toremove),maxvalue=50))\n",
    "show(volcano(resMEF2D24,tohighlight=ctf, searchbox=True, title=\"MEF2D at 24h\", folder='../results/'+project+'/plots/'+version+'_'+scaling+\"_\"+str(minvar_toremove)+'_'+str(mincount_toremove),maxvalue=50))"
   ]
  },
  {
   "cell_type": "markdown",
   "metadata": {},
   "source": [
    "## Comparing effects"
   ]
  },
  {
   "cell_type": "code",
   "execution_count": null,
   "metadata": {},
   "outputs": [],
   "source": [
    "resMEF2D24 = resMEF2D24.set_index('gene_id')\n",
    "resMEF2D2 = resMEF2D2.set_index('gene_id')"
   ]
  },
  {
   "cell_type": "code",
   "execution_count": null,
   "metadata": {},
   "outputs": [],
   "source": [
    "totresMEF2D24 = resMEF2D24.copy()\n",
    "totresMEF2D2 = resMEF2D2.copy()"
   ]
  },
  {
   "cell_type": "code",
   "execution_count": null,
   "metadata": {},
   "outputs": [],
   "source": [
    "%store -r resMEF2D24\n",
    "%store -r resMEF2D2"
   ]
  },
  {
   "cell_type": "code",
   "execution_count": null,
   "metadata": {},
   "outputs": [],
   "source": [
    "resMEF2D24 = resMEF2D24.set_index('gene_id')\n",
    "resMEF2D2 = resMEF2D2.set_index('gene_id')"
   ]
  },
  {
   "cell_type": "code",
   "execution_count": null,
   "metadata": {},
   "outputs": [],
   "source": []
  },
  {
   "cell_type": "code",
   "execution_count": null,
   "metadata": {},
   "outputs": [],
   "source": [
    "# The correlation is much high in totcounts than read counts\n",
    "# only the MEF2D @2h tc ccounts and MEF2D @24h totcounts have an high overlap in genes than pass padj of 0.1"
   ]
  },
  {
   "cell_type": "code",
   "execution_count": null,
   "metadata": {},
   "outputs": [],
   "source": [
    "set(tcMEF2D2.index) & set(tcMEF2D24.index)"
   ]
  },
  {
   "cell_type": "code",
   "execution_count": null,
   "metadata": {},
   "outputs": [],
   "source": [
    "set(tcMEF2D2.index) & set(MEF2D24.index)"
   ]
  },
  {
   "cell_type": "code",
   "execution_count": null,
   "metadata": {},
   "outputs": [],
   "source": [
    "set(tcMEF2D2.index) & set(MEF2D2.index)"
   ]
  },
  {
   "cell_type": "code",
   "execution_count": null,
   "metadata": {},
   "outputs": [],
   "source": [
    "set(MEF2D2.index) & set(tcMEF2D24.index)"
   ]
  },
  {
   "cell_type": "code",
   "execution_count": null,
   "metadata": {},
   "outputs": [],
   "source": [
    "# by removing genes with low pvalue we increase the correlation by a lot!"
   ]
  },
  {
   "cell_type": "code",
   "execution_count": null,
   "metadata": {},
   "outputs": [],
   "source": [
    "a = scatter(np.vstack([totresMEF2D24.loc[sim].log2FoldChange.values, resMEF2D2.loc[sim].log2FoldChange.values]).T, \n",
    "               totresMEF2D24.loc[sim].index.tolist(), radi= 0.06, alpha=0.3,\n",
    "              colors = [0 if i in ctf else 1 for i in totresMEF2D24.loc[sim].index.tolist()],\n",
    "       xname=\"total counts MEF2D @24h\",\n",
    "    yname=\"tc counts MEF2D @2h\",\n",
    "       folder='../results/'+project+\"/plots/\"+version+\"_\"+scaling+\"_\",\n",
    "       title='MEF2D tccounts 2h vs readcounts 24h differences in logFoldChange')"
   ]
  },
  {
   "cell_type": "code",
   "execution_count": null,
   "metadata": {},
   "outputs": [],
   "source": [
    "def getSimilarity(exp1, exp2, ptype = \"pvalue\", doplot=True): #could be padj\n",
    "    counts = []\n",
    "    correlations = []\n",
    "    pvalue = []\n",
    "    for val in np.exp(np.invert(list(range(-1,20)))):\n",
    "        expA = exp1[exp1[ptype]<val].log2FoldChange\n",
    "        expB = exp2[exp2[ptype]<val].log2FoldChange\n",
    "        expA = expA[expA!=0.]\n",
    "        expB = expB[expB!=0.]\n",
    "        simigenes = set(expA.index) & set(expB.index)\n",
    "        counts.append(len(simigenes))\n",
    "        if len(simigenes) < 2:\n",
    "            a = 0\n",
    "            b = 0\n",
    "        else:\n",
    "            a,b = spearmanr(expA.loc[simigenes], expB.loc[simigenes])\n",
    "        pvalue.append(b)\n",
    "        correlations.append(a)\n",
    "    ran = np.exp(np.invert(list(range(-1,20))))\n",
    "    if doplot:\n",
    "        fig, ax1 = plt.subplots()\n",
    "        ax1.set_xscale('log')\n",
    "        ax2 = ax1.twinx()\n",
    "        ax1.plot(ran, np.array(counts)+1, 'o-', color=\"blue\")\n",
    "        ax1.set_yscale('log')\n",
    "        ax2.plot(ran, correlations, 'o-', color=\"red\" )\n",
    "        ax1.set_ylabel('overlaping genes', color='b')\n",
    "        ax2.set_ylabel('correlation', color='r')\n",
    "        plt.show()\n",
    "    return counts, pvalue, correlations, ran"
   ]
  },
  {
   "cell_type": "code",
   "execution_count": null,
   "metadata": {},
   "outputs": [],
   "source": [
    "counts, pvalue, correlations, ran = getSimilarity(resMEF2D24, totresMEF2D24)"
   ]
  },
  {
   "cell_type": "code",
   "execution_count": null,
   "metadata": {},
   "outputs": [],
   "source": [
    "counts, pvalue, correlations, ran = getSimilarity(resMEF2D2, totresMEF2D24)"
   ]
  },
  {
   "cell_type": "code",
   "execution_count": null,
   "metadata": {},
   "outputs": [],
   "source": [
    "counts, pvalue, correlations, ran = getSimilarity(resMEF2D2, totresMEF2D2)"
   ]
  },
  {
   "cell_type": "code",
   "execution_count": null,
   "metadata": {},
   "outputs": [],
   "source": [
    "counts, pvalue, correlations, ran = getSimilarity(totresMEF2D2, totresMEF2D24)"
   ]
  },
  {
   "cell_type": "code",
   "execution_count": null,
   "metadata": {},
   "outputs": [],
   "source": [
    "counts, pvalue, correlations, ran = getSimilarity(resMEF2D2, resMEF2D24)"
   ]
  },
  {
   "cell_type": "code",
   "execution_count": null,
   "metadata": {},
   "outputs": [],
   "source": [
    "tcMEF2D2 = resMEF2D2[resMEF2D2.pvalue<0.05].log2FoldChange\n",
    "MEF2D24 = totresMEF2D24[totresMEF2D24.pvalue<0.05].log2FoldChange"
   ]
  },
  {
   "cell_type": "code",
   "execution_count": null,
   "metadata": {},
   "outputs": [],
   "source": [
    "sim = set(tcMEF2D2.index) & set(MEF2D24.index)"
   ]
  },
  {
   "cell_type": "code",
   "execution_count": null,
   "metadata": {},
   "outputs": [],
   "source": [
    "sim & set(ctf)"
   ]
  },
  {
   "cell_type": "code",
   "execution_count": null,
   "metadata": {},
   "outputs": [],
   "source": [
    "tcMEF2D2 = resMEF2D2[resMEF2D2.padj<0.1].log2FoldChange\n",
    "MEF2D24 = totresMEF2D24[totresMEF2D24.padj<0.1].log2FoldChange\n",
    "sim = set(tcMEF2D2.index) & set(MEF2D24.index)\n",
    "sim & set(ctf)"
   ]
  },
  {
   "cell_type": "markdown",
   "metadata": {},
   "source": [
    "## with MYB"
   ]
  },
  {
   "cell_type": "code",
   "execution_count": null,
   "metadata": {},
   "outputs": [],
   "source": [
    "resMybi24 = resMybi24.set_index('gene_id')\n",
    "resMybi6 = resMybi6.set_index('gene_id')\n",
    "resMybi30 = resMybi30.set_index('gene_id')"
   ]
  },
  {
   "cell_type": "code",
   "execution_count": null,
   "metadata": {},
   "outputs": [],
   "source": [
    "totresMybi24 = resMybi24.copy()\n",
    "totresMybi6 = resMybi6 .copy() \n",
    "totresMybi30 = resMybi30.copy()"
   ]
  },
  {
   "cell_type": "code",
   "execution_count": null,
   "metadata": {},
   "outputs": [],
   "source": [
    "%store -r resMybi24\n",
    "%store -r resMybi6\n",
    "%store -r resMybi30"
   ]
  },
  {
   "cell_type": "code",
   "execution_count": null,
   "metadata": {},
   "outputs": [],
   "source": [
    "resMybi24 = resMybi24.set_index('gene_id')\n",
    "resMybi6 = resMybi6.set_index('gene_id')\n",
    "resMybi30 = resMybi30.set_index('gene_id')"
   ]
  },
  {
   "cell_type": "code",
   "execution_count": null,
   "metadata": {},
   "outputs": [],
   "source": [
    "counts, pvalue, correlations, ran = getSimilarity(resMybi30, resMybi6)"
   ]
  },
  {
   "cell_type": "code",
   "execution_count": null,
   "metadata": {},
   "outputs": [],
   "source": [
    "counts, pvalue, correlations, ran = getSimilarity(resMybi30, totresMybi30)"
   ]
  },
  {
   "cell_type": "code",
   "execution_count": null,
   "metadata": {},
   "outputs": [],
   "source": [
    "counts, pvalue, correlations, ran = getSimilarity(resMybi30, totresMybi6)"
   ]
  },
  {
   "cell_type": "markdown",
   "metadata": {},
   "source": [
    "We can really see that although we can be fooled by the correlation at some definite moments, its patter of change according to the threshold applied provides interesting results.\n",
    "\n",
    "Once including things with only a pval below 10^-6 the correlation in stronger at 30mn-tot vs 30mn-tc than 6h-tc vs 30mn-tc.\n",
    "Same thing for 6h-tot vs 30mn-tc, But here we keep even more similar genes than for the other examples!"
   ]
  },
  {
   "cell_type": "code",
   "execution_count": null,
   "metadata": {},
   "outputs": [],
   "source": [
    "counts, pvalue, correlations, ran = getSimilarity(resMybi30, totresMybi30, \"padj\")"
   ]
  },
  {
   "cell_type": "code",
   "execution_count": null,
   "metadata": {},
   "outputs": [],
   "source": [
    "counts, pvalue, correlations, ran = getSimilarity(resMybi30, totresMybi6, \"padj\")"
   ]
  },
  {
   "cell_type": "markdown",
   "metadata": {},
   "source": [
    "Same thing using the adjusted pvalue, we see more overlapping genes in 30mn-tc vs 6h-tot than for others."
   ]
  },
  {
   "cell_type": "code",
   "execution_count": null,
   "metadata": {},
   "outputs": [],
   "source": [
    "counts, pvalue, correlations, ran = getSimilarity(resMybi6, totresMybi6, \"padj\")"
   ]
  },
  {
   "cell_type": "code",
   "execution_count": null,
   "metadata": {},
   "outputs": [],
   "source": [
    "counts, pvalue, correlations, ran = getSimilarity(resMybi6, totresMybi6)"
   ]
  },
  {
   "cell_type": "markdown",
   "metadata": {},
   "source": [
    "Even if the pvalue increase when looking at the 6h-tc vs 6h-tot, it is also due to the fact that they are the same sequencing run, the same experiment and it contains less genes."
   ]
  },
  {
   "cell_type": "code",
   "execution_count": null,
   "metadata": {},
   "outputs": [],
   "source": [
    "counts, pvalue, correlations, ran = getSimilarity(resMybi6, totresMybi24)"
   ]
  },
  {
   "cell_type": "code",
   "execution_count": null,
   "metadata": {},
   "outputs": [],
   "source": [
    "counts, pvalue, correlations, ran = getSimilarity(resMybi24, totresMybi24)"
   ]
  },
  {
   "cell_type": "code",
   "execution_count": null,
   "metadata": {},
   "outputs": [],
   "source": [
    "counts, pvalue, correlations, ran = getSimilarity(totresMybi6, totresMybi24)"
   ]
  },
  {
   "cell_type": "code",
   "execution_count": null,
   "metadata": {},
   "outputs": [],
   "source": [
    "counts, pvalue, correlations, ran = getSimilarity(resMybi, resMybi24)"
   ]
  },
  {
   "cell_type": "markdown",
   "metadata": {},
   "source": [
    "and we can see that things start to diverge at  24hs, whether it is tc counts or total counts. This can be seen by how widely different these replicates were from themselves and from the rest.\n",
    "\n",
    "This tend to show how slamseq is almost predicting for a subset of the most confident genes on DESeq, their value in 6hours from now in totalcounts.\n"
   ]
  },
  {
   "cell_type": "code",
   "execution_count": null,
   "metadata": {},
   "outputs": [],
   "source": []
  }
 ],
 "metadata": {
  "kernelspec": {
   "display_name": "Python 3",
   "language": "python",
   "name": "python3"
  },
  "language_info": {
   "codemirror_mode": {
    "name": "ipython",
    "version": 3
   },
   "file_extension": ".py",
   "mimetype": "text/x-python",
   "name": "python",
   "nbconvert_exporter": "python",
   "pygments_lexer": "ipython3",
   "version": "3.8.3rc1"
  },
  "latex_envs": {
   "LaTeX_envs_menu_present": true,
   "autoclose": false,
   "autocomplete": true,
   "bibliofile": "biblio.bib",
   "cite_by": "apalike",
   "current_citInitial": 1,
   "eqLabelWithNumbers": true,
   "eqNumInitial": 1,
   "hotkeys": {
    "equation": "Ctrl-E",
    "itemize": "Ctrl-I"
   },
   "labels_anchors": false,
   "latex_user_defs": false,
   "report_style_numbering": false,
   "user_envs_cfg": false
  },
  "toc": {
   "base_numbering": 1,
   "nav_menu": {},
   "number_sections": false,
   "sideBar": true,
   "skip_h1_title": false,
   "title_cell": "Table of Contents",
   "title_sidebar": "Contents",
   "toc_cell": false,
   "toc_position": {
    "height": "calc(100% - 180px)",
    "left": "10px",
    "top": "150px",
    "width": "230.4px"
   },
   "toc_section_display": true,
   "toc_window_display": true
  },
  "varInspector": {
   "cols": {
    "lenName": 16,
    "lenType": 16,
    "lenVar": 40
   },
   "kernels_config": {
    "python": {
     "delete_cmd_postfix": "",
     "delete_cmd_prefix": "del ",
     "library": "var_list.py",
     "varRefreshCmd": "print(var_dic_list())"
    },
    "r": {
     "delete_cmd_postfix": ") ",
     "delete_cmd_prefix": "rm(",
     "library": "var_list.r",
     "varRefreshCmd": "cat(var_dic_list()) "
    }
   },
   "types_to_exclude": [
    "module",
    "function",
    "builtin_function_or_method",
    "instance",
    "_Feature"
   ],
   "window_display": false
  }
 },
 "nbformat": 4,
 "nbformat_minor": 2
}
