{
 "cells": [
  {
   "cell_type": "code",
   "execution_count": null,
   "metadata": {},
   "outputs": [],
   "source": [
    "from __future__ import print_function\n",
    "import os.path\n",
    "import pandas as pd\n",
    "import sys\n",
    "sys.path.insert(0, '../../')\n",
    "%load_ext autoreload\n",
    "from JKBio.Helper import *\n",
    "%autoreload 2\n",
    "%load_ext rpy2.ipython\n",
    "import numpy as np\n",
    "from bokeh.plotting import *\n",
    "from bokeh.models import HoverTool\n",
    "output_notebook()\n",
    "import matplotlib.pyplot as plt\n",
    "%matplotlib inline\n",
    "import seaborn as sns\n",
    "from JKBio.helper import pyDESeq2\n",
    "from sklearn.neighbors import KNeighborsClassifier\n",
    "from sklearn.manifold import MDS, TSNE\n",
    "from sklearn.decomposition import PCA\n",
    "from sklearn.preprocessing import scale\n",
    "from umap import UMAP"
   ]
  },
  {
   "cell_type": "markdown",
   "metadata": {},
   "source": [
    "downloading their data"
   ]
  },
  {
   "cell_type": "markdown",
   "metadata": {},
   "source": [
    "# we first need to recreate out RNA matrix from slamdunk's tcount files"
   ]
  },
  {
   "cell_type": "code",
   "execution_count": null,
   "metadata": {},
   "outputs": [],
   "source": [
    "ls ../../data/slam/resIRF2BP2/"
   ]
  },
  {
   "cell_type": "code",
   "execution_count": null,
   "metadata": {},
   "outputs": [],
   "source": [
    "readcounts = pd.read_csv('../../data/slam/resIRF2BP2/readcounts.csv',index_col='genes')\n",
    "tccounts = pd.read_csv('../../data/slam/resIRF2BP2/tccounts.csv',index_col='genes')"
   ]
  },
  {
   "cell_type": "code",
   "execution_count": null,
   "metadata": {},
   "outputs": [],
   "source": [
    "readcounts.values.mean()"
   ]
  },
  {
   "cell_type": "markdown",
   "metadata": {},
   "source": [
    "# get only the most variable genes"
   ]
  },
  {
   "cell_type": "code",
   "execution_count": null,
   "metadata": {},
   "outputs": [],
   "source": [
    "len(np.argwhere(tccounts.values.var(1)>=50).ravel())"
   ]
  },
  {
   "cell_type": "code",
   "execution_count": null,
   "metadata": {},
   "outputs": [],
   "source": [
    "todrop = np.argwhere(tccounts.values.var(1)>=50).ravel()\n",
    "tccounts = tccounts.iloc[todrop]\n",
    "readcounts = readcounts.iloc[todrop]"
   ]
  },
  {
   "cell_type": "code",
   "execution_count": null,
   "metadata": {},
   "outputs": [],
   "source": [
    "#todrop=np.argwhere(readcounts.values.max(1)>=10).ravel()\n",
    "#tccounts = tccounts.iloc[todrop]\n",
    "#readcounts = readcounts.iloc[todrop]"
   ]
  },
  {
   "cell_type": "code",
   "execution_count": null,
   "metadata": {},
   "outputs": [],
   "source": [
    "len(readcounts)"
   ]
  },
  {
   "cell_type": "markdown",
   "metadata": {},
   "source": [
    "## SLAM-seq\n",
    "All SLAM-seq assays were performed at 60-70% confluency for adherent cells or\n",
    "60% of the maximum cell density counted on a hemocytometer for suspension cells. 5-7h\n",
    "prior to each assay, growth medium was aspirated and replaced. Unless stated otherwise,\n",
    "cells were pre-treated with indicated small molecule inhibitors or 100µM IAA for 30 min\n",
    "to pre-establish full target inhibition or degradation. Newly synthesized RNA was labeled\n",
    "for indicated time spans (45 min or 60 min) at a final concentration of 100µM 4-\n",
    "thiouridine (4sU, Carbosynth). Adherent cells were harvested by direct snap-freezing of\n",
    "plates on dry ice. Suspension cells were spun down and immediately snap-frozen. RNA\n",
    "extraction was performed using the RNeasy Plus Mini Kit (Qiagen). \n",
    "\n",
    "Total RNA was subjected to alkylation by iodoacetamide (Sigma, 10mM) for 15 min and RNA was repurified by ethanol precipitation. 500ng alkylated RNA were used as input for generating\n",
    "3’-end mRNA sequencing libraries using a commercially available kit (QuantSeq 3′\n",
    "mRNA-Seq Library Prep Kit FWD for Illumina and PCR Add-on Kit for Illumina,\n",
    "Lexogen). Deep sequencing was performed using HiSeq1500 and HiSeq2500 platforms\n",
    "(Illumina)."
   ]
  },
  {
   "cell_type": "markdown",
   "metadata": {},
   "source": [
    "0.06724463\n",
    "0.04916348\n",
    "0.03728357\n",
    "0.05075007\n",
    "0.03331248\n",
    "0.0346662\n",
    "0.03265504 \n",
    "0.04416262\n",
    "0.05574821\n",
    "0.05845953\n",
    "0.05531433\n",
    "0.06175393\n",
    "0.03181749 \n",
    "0.02940226 \n",
    "0.0306263\n",
    "0.04004278"
   ]
  },
  {
   "cell_type": "code",
   "execution_count": null,
   "metadata": {},
   "outputs": [],
   "source": [
    "tccounts"
   ]
  },
  {
   "cell_type": "code",
   "execution_count": null,
   "metadata": {},
   "outputs": [],
   "source": [
    "tccounts.mean()"
   ]
  },
  {
   "cell_type": "markdown",
   "metadata": {},
   "source": [
    "# lets look at the similarity accross replicates\n",
    "\n",
    "we have some outliers, else it seems to make some sense and on average, to be extremelly similar!"
   ]
  },
  {
   "cell_type": "code",
   "execution_count": null,
   "metadata": {},
   "outputs": [],
   "source": [
    "readcounts.loc['MYC']"
   ]
  },
  {
   "cell_type": "code",
   "execution_count": null,
   "metadata": {},
   "outputs": [],
   "source": [
    "%matplotlib inline\n",
    "sns.heatmap(tccounts.corr(), \n",
    "            xticklabels=tccounts.columns,\n",
    "            yticklabels=tccounts.columns)"
   ]
  },
  {
   "cell_type": "code",
   "execution_count": null,
   "metadata": {},
   "outputs": [],
   "source": [
    "scatter(UMAP(n_neighbors=2,min_dist=0.1).fit_transform(tccounts.values.T),labels=tccounts.columns, radi=1)"
   ]
  },
  {
   "cell_type": "markdown",
   "metadata": {},
   "source": [
    "very strangely, we have in non euclidean space a structure that matches the labels we have. \n",
    "We hypotesized that noise might explain the difference in correlation that we see, however it would not explain that in euclidean space, things cluster still very well but differently. \n",
    "\n",
    "As a matter of fact. real noise would not change the correlation at all. This noise has a structure. One thing can explain read count that, at low frequency transcripts, especially create a specific pattern: contamination"
   ]
  },
  {
   "cell_type": "code",
   "execution_count": null,
   "metadata": {},
   "outputs": [],
   "source": [
    "todrop = ['mr78.MV411_IRF2BP2.DMSO_6h.r1', 'mr76.MV411_IRF2BP2.DMSO_2h.r3', 'mr80.MV411_IRF2BP2.DMSO_6h.r3', 'mr74.MV411_IRF2BP2.DMSO_2h.r1', 'mr84.MV411_IRF2BP2.VHL_2h.r3']"
   ]
  },
  {
   "cell_type": "code",
   "execution_count": null,
   "metadata": {},
   "outputs": [],
   "source": [
    "tccounts.columns = [i.replace('-','.') for i in tccounts.columns]\n",
    "readcounts.columns = [i.replace('-','.') for i in readcounts.columns]"
   ]
  },
  {
   "cell_type": "code",
   "execution_count": null,
   "metadata": {},
   "outputs": [],
   "source": [
    "tccounts = tccounts.drop(columns=[c for c in tccounts.columns if c in todrop])\n",
    "readcounts = readcounts.drop(columns=[c for c in readcounts.columns if c in todrop])"
   ]
  },
  {
   "cell_type": "code",
   "execution_count": null,
   "metadata": {},
   "outputs": [],
   "source": [
    "readcounts"
   ]
  },
  {
   "cell_type": "code",
   "execution_count": null,
   "metadata": {},
   "outputs": [],
   "source": [
    "%matplotlib inline\n",
    "sort = [0,8,10,4,6,14,12,1,11,9,5,7,13,3,15,2]\n",
    "sns.heatmap(tccounts[tccounts.columns[sort]].corr(), \n",
    "            xticklabels=tccounts.columns[sort].values,\n",
    "            yticklabels=tccounts.columns[sort].values)"
   ]
  },
  {
   "cell_type": "code",
   "execution_count": null,
   "metadata": {},
   "outputs": [],
   "source": [
    "%matplotlib inline\n",
    "sns.heatmap(readcounts.corr(), \n",
    "            xticklabels=readcounts.columns,\n",
    "            yticklabels=readcounts.columns)"
   ]
  },
  {
   "cell_type": "code",
   "execution_count": null,
   "metadata": {},
   "outputs": [],
   "source": [
    "%matplotlib inline\n",
    "sort = [0,8,10,4,12,6,14,1,9,5,13,7,11,15,3,2]\n",
    "sns.heatmap(readcounts[readcounts.columns[sort]].corr(), \n",
    "            xticklabels=readcounts.columns.values[sort],\n",
    "            yticklabels=readcounts.columns.values[sort])"
   ]
  },
  {
   "cell_type": "markdown",
   "metadata": {},
   "source": [
    "read the paper for MV411 QC steps."
   ]
  },
  {
   "cell_type": "markdown",
   "metadata": {},
   "source": [
    "### A quick detour to look for clustering"
   ]
  },
  {
   "cell_type": "markdown",
   "metadata": {},
   "source": [
    "## Getting the Core TF information"
   ]
  },
  {
   "cell_type": "code",
   "execution_count": null,
   "metadata": {},
   "outputs": [],
   "source": [
    "ctf=pd.read_csv('../data/CTF.csv',header=None)[0].values.tolist()\n",
    "ctf"
   ]
  },
  {
   "cell_type": "code",
   "execution_count": null,
   "metadata": {},
   "outputs": [],
   "source": [
    "set(ctf) & set(tccounts.index)"
   ]
  },
  {
   "cell_type": "code",
   "execution_count": null,
   "metadata": {},
   "outputs": [],
   "source": [
    "ctfpos = [val for val in tccounts.index if val in ctf]\n",
    "notctfpos = [val for val in tccounts.index if val not in ctf]"
   ]
  },
  {
   "cell_type": "code",
   "execution_count": null,
   "metadata": {},
   "outputs": [],
   "source": [
    "ctfpos.extend(['EGR1','SERTAD1'])"
   ]
  },
  {
   "cell_type": "markdown",
   "metadata": {},
   "source": [
    "We find a CTF not in the dataset"
   ]
  },
  {
   "cell_type": "markdown",
   "metadata": {},
   "source": [
    "# Let's look at how they change accross time\n",
    "\n",
    "how core transcription factors change accross time when the cell is with JQ1 conditions\n",
    "\n",
    "we are looking at the difference between production of each CTF compared to the average RNA production with JQ1 and without JQ1"
   ]
  },
  {
   "cell_type": "markdown",
   "metadata": {},
   "source": [
    "## DESEQ ANALYSIS"
   ]
  },
  {
   "cell_type": "code",
   "execution_count": null,
   "metadata": {},
   "outputs": [],
   "source": [
    "readcounts[\"genes\"] = readcounts.index\n",
    "readcounts = readcounts.reset_index(drop=True)\n",
    "tccounts[\"genes\"] = tccounts.index\n",
    "tccounts = tccounts.reset_index(drop=True)"
   ]
  },
  {
   "cell_type": "code",
   "execution_count": null,
   "metadata": {},
   "outputs": [],
   "source": [
    "tccounts.iloc[140]"
   ]
  },
  {
   "cell_type": "code",
   "execution_count": null,
   "metadata": {},
   "outputs": [],
   "source": [
    "tccounts.columns"
   ]
  },
  {
   "cell_type": "code",
   "execution_count": null,
   "metadata": {},
   "outputs": [],
   "source": [
    "design_2 = pd.DataFrame(index=[i.replace('-','.') for i in tccounts.columns.values[:-1]], \n",
    "                      columns=['DMSO','VHL'], \n",
    "                      data=np.array([[1,1,0,0,0,0,0,0,0,0,0],\n",
    "                                     [0,0,0,0,1,1,1,0,0,0,0]],dtype=bool).T)"
   ]
  },
  {
   "cell_type": "code",
   "execution_count": null,
   "metadata": {},
   "outputs": [],
   "source": [
    "design_6 = pd.DataFrame(index=[i.replace('-','.') for i in tccounts.columns.values[:-1]], \n",
    "                      columns=['DMSO','VHL'], \n",
    "                      data=np.array([[0,0,1,1,0,0,0,0,0,0,0],\n",
    "                                     [0,0,0,0,0,0,0,1,1,1,1]],dtype=bool).T)"
   ]
  },
  {
   "cell_type": "markdown",
   "metadata": {},
   "source": [
    "### Differential gene expression analysis, PCA and GO-term enrichment\n",
    "\n",
    "For gene-level analysis, raw reads mapped to different UTR annotations of the same gene were summed up by Entrez Gene ID. Pilot studies of K562 cells with kinase inhibitors were performed as single experiments. \n",
    "\n",
    "Analysis of differential gene expression was restricted to genes with ≥ 10 reads in at least one condition for 50bp sequencing runs (flavopiridol and DMSO) or ≥ 20 reads in at least one condition for 100bp sequencing runs (mk2206, trametinib, nilotinib, trametinib + mk2206 and DMSO). For estimating differential expression, a pseudo-count of 1 raw read was added to all genes.\n",
    "\n",
    "#### All other SLAM-seq experiments were performed in triplicates and analyzed as follows. \n",
    "Differential gene expression calling was performed on raw read counts with ≥ 2 T>C conversions using DESeq2 (version 1.14.1) with default settings, and with size factors estimated on corresponding total mRNA reads for global normalization.\n",
    "\n",
    "Downstream analysis was restricted to genes passing all internal filters for FDR estimation by DESeq2. Principal component analysis was performed after variance\n",
    "stabilizing transformation on the 500 most variable genes across all conditions of a given\n",
    "experiment. GO-term enrichment analysis was performed on genes significantly and strongly downregulated (FDR ≤ 0.1, log2FC ≤ -1) in SLAM-seq upon IAA-treatment in K562MYC-AID + Tir1 by the PANTHER Overrepresentation Test (Fisher's Exact with FDR multiple test correction, release 20171205, http://pantherdb.org) on GO Ontology database Released 2017-12-27."
   ]
  },
  {
   "cell_type": "code",
   "execution_count": null,
   "metadata": {},
   "outputs": [],
   "source": [
    "tccounts[tccounts.genes=='MYC']"
   ]
  },
  {
   "cell_type": "code",
   "execution_count": null,
   "metadata": {},
   "outputs": [],
   "source": [
    "deseq_2 = pyDESeq2.pyDESeq2(count_matrix=tccounts[tccounts.columns[np.array([1,1,0,0,1,1,1,0,0,0,0,1],np.bool)]],\n",
    "                         design_matrix=design_2[np.array([1,1,0,0,1,1,1,0,0,0,0],np.bool)],\n",
    "                         design_formula=\"~DMSO - VHL\",\n",
    "                         gene_column=\"genes\")"
   ]
  },
  {
   "cell_type": "code",
   "execution_count": null,
   "metadata": {},
   "outputs": [],
   "source": [
    "deseq_6 = pyDESeq2.pyDESeq2(count_matrix=tccounts[tccounts.columns[np.array([0,0,1,1,0,0,0,1,1,1,1,1],np.bool)]],\n",
    "                         design_matrix=design_6[np.array([0,0,1,1,0,0,0,1,1,1,1],np.bool)],\n",
    "                         design_formula=\"~DMSO - VHL\",\n",
    "                         gene_column=\"genes\")"
   ]
  },
  {
   "cell_type": "markdown",
   "metadata": {},
   "source": [
    "why is DESeq still not finding under expression even when we clearly see underexpression at the total read count"
   ]
  },
  {
   "cell_type": "code",
   "execution_count": null,
   "metadata": {},
   "outputs": [],
   "source": [
    "scaling2 = np.log2((tccounts.mean()/readcounts.mean())[[0,1]].mean() / (tccounts.mean()/readcounts.mean())[4:7].mean())\n",
    "scaling2"
   ]
  },
  {
   "cell_type": "code",
   "execution_count": null,
   "metadata": {},
   "outputs": [],
   "source": [
    "scaling6 = np.log2((tccounts.mean()/readcounts.mean())[[2,3]].mean() / (tccounts.mean()/readcounts.mean())[7:11].mean())\n",
    "scaling6"
   ]
  },
  {
   "cell_type": "code",
   "execution_count": null,
   "metadata": {},
   "outputs": [],
   "source": [
    "deseq_2.run_estimate_size_factors(normMatrix = 3/np.array([np.exp(np.log(\n",
    "    readcounts[readcounts.columns[\n",
    "        np.array([1,1,0,0,0,0,0,0,0,0,0,0],np.bool)]].values+1).mean(1)),np.exp(np.log(\n",
    "    readcounts[readcounts.columns[\n",
    "        np.array([0,0,0,0,1,1,1,0,0,0,0,0],np.bool)]].values+1).mean(1))]))"
   ]
  },
  {
   "cell_type": "code",
   "execution_count": null,
   "metadata": {},
   "outputs": [],
   "source": [
    "deseq_6.run_estimate_size_factors(normMatrix = (readcounts[readcounts.columns[\n",
    "        np.array([0,0,1,1,0,0,0,1,1,1,1,0],np.bool)]].values+1).sum(1))"
   ]
  },
  {
   "cell_type": "code",
   "execution_count": null,
   "metadata": {},
   "outputs": [],
   "source": [
    "deseq_2.run_deseq()\n",
    "deseq_6.run_deseq()"
   ]
  },
  {
   "cell_type": "code",
   "execution_count": null,
   "metadata": {},
   "outputs": [],
   "source": [
    "deseq_2.get_deseq_result()\n",
    "deseq_6.get_deseq_result()"
   ]
  },
  {
   "cell_type": "code",
   "execution_count": null,
   "metadata": {},
   "outputs": [],
   "source": [
    "res2 = deseq_2.deseq_result\n",
    "res6 = deseq_6.deseq_result"
   ]
  },
  {
   "cell_type": "code",
   "execution_count": null,
   "metadata": {},
   "outputs": [],
   "source": [
    "res2.pvalue = np.nan_to_num(np.array(res2.pvalue), 1)\n",
    "res2.log2FoldChange = np.nan_to_num(np.array(res2.log2FoldChange), 0)\n",
    "res6.pvalue = np.nan_to_num(np.array(res6.pvalue), 1)\n",
    "res6.log2FoldChange = np.nan_to_num(np.array(res6.log2FoldChange), 0)"
   ]
  },
  {
   "cell_type": "code",
   "execution_count": null,
   "metadata": {},
   "outputs": [],
   "source": [
    "res2.log2FoldChange = -res2.log2FoldChange\n",
    "res6.log2FoldChange = -res6.log2FoldChange"
   ]
  },
  {
   "cell_type": "code",
   "execution_count": null,
   "metadata": {},
   "outputs": [],
   "source": [
    "res2[\"gene_id\"] = res2.genes\n",
    "res6[\"gene_id\"] = res6.genes"
   ]
  },
  {
   "cell_type": "code",
   "execution_count": null,
   "metadata": {},
   "outputs": [],
   "source": [
    "res2.log2FoldChange.mean() -"
   ]
  },
  {
   "cell_type": "code",
   "execution_count": null,
   "metadata": {},
   "outputs": [],
   "source": [
    "tccounts[tccounts.genes==\"CXCL8\"]"
   ]
  },
  {
   "cell_type": "code",
   "execution_count": null,
   "metadata": {},
   "outputs": [],
   "source": [
    "res6.log2FoldChange = res6.log2FoldChange - scaling6"
   ]
  },
  {
   "cell_type": "code",
   "execution_count": null,
   "metadata": {},
   "outputs": [],
   "source": [
    "show(volcano(res6,tohighlight=ctf, searchbox=True, maxvalue=20,minpval=1, minlogfold=0.05))"
   ]
  },
  {
   "cell_type": "code",
   "execution_count": null,
   "metadata": {},
   "outputs": [],
   "source": [
    "show(volcano(res2,tohighlight=ctf, searchbox=True, minpval=0.5, minlogfold=0.05))"
   ]
  },
  {
   "cell_type": "markdown",
   "metadata": {},
   "source": [
    "we can conclude that we get similar results to the slamseq myc paper although it seems that our values are a bit skewed toward higher expression than what is on the slamseq paper. It mightt be explained by the pseudo count of 1 that I did not set. Because I think it would highly bias the DESeq algorithm."
   ]
  },
  {
   "cell_type": "code",
   "execution_count": null,
   "metadata": {},
   "outputs": [],
   "source": []
  }
 ],
 "metadata": {
  "kernelspec": {
   "display_name": "Python 3",
   "language": "python",
   "name": "python3"
  },
  "language_info": {
   "codemirror_mode": {
    "name": "ipython",
    "version": 3
   },
   "file_extension": ".py",
   "mimetype": "text/x-python",
   "name": "python",
   "nbconvert_exporter": "python",
   "pygments_lexer": "ipython3",
   "version": "3.6.7"
  },
  "latex_envs": {
   "LaTeX_envs_menu_present": true,
   "autoclose": false,
   "autocomplete": true,
   "bibliofile": "biblio.bib",
   "cite_by": "apalike",
   "current_citInitial": 1,
   "eqLabelWithNumbers": true,
   "eqNumInitial": 1,
   "hotkeys": {
    "equation": "Ctrl-E",
    "itemize": "Ctrl-I"
   },
   "labels_anchors": false,
   "latex_user_defs": false,
   "report_style_numbering": false,
   "user_envs_cfg": false
  },
  "toc": {
   "base_numbering": 1,
   "nav_menu": {},
   "number_sections": false,
   "sideBar": false,
   "skip_h1_title": false,
   "title_cell": "Table of Contents",
   "title_sidebar": "Contents",
   "toc_cell": false,
   "toc_position": {},
   "toc_section_display": false,
   "toc_window_display": false
  },
  "varInspector": {
   "cols": {
    "lenName": 16,
    "lenType": 16,
    "lenVar": 40
   },
   "kernels_config": {
    "python": {
     "delete_cmd_postfix": "",
     "delete_cmd_prefix": "del ",
     "library": "var_list.py",
     "varRefreshCmd": "print(var_dic_list())"
    },
    "r": {
     "delete_cmd_postfix": ") ",
     "delete_cmd_prefix": "rm(",
     "library": "var_list.r",
     "varRefreshCmd": "cat(var_dic_list()) "
    }
   },
   "types_to_exclude": [
    "module",
    "function",
    "builtin_function_or_method",
    "instance",
    "_Feature"
   ],
   "window_display": false
  }
 },
 "nbformat": 4,
 "nbformat_minor": 2
}
