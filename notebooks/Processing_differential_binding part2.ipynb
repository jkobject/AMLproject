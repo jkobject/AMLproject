{
 "cells": [
  {
   "cell_type": "code",
   "execution_count": 324,
   "metadata": {},
   "outputs": [
    {
     "data": {
      "text/html": [
       "\n",
       "    <div class=\"bk-root\">\n",
       "        <a href=\"https://bokeh.org\" target=\"_blank\" class=\"bk-logo bk-logo-small bk-logo-notebook\"></a>\n",
       "        <span id=\"1004\">Loading BokehJS ...</span>\n",
       "    </div>"
      ]
     },
     "metadata": {},
     "output_type": "display_data"
    },
    {
     "data": {
      "application/javascript": [
       "\n",
       "(function(root) {\n",
       "  function now() {\n",
       "    return new Date();\n",
       "  }\n",
       "\n",
       "  var force = true;\n",
       "\n",
       "  if (typeof root._bokeh_onload_callbacks === \"undefined\" || force === true) {\n",
       "    root._bokeh_onload_callbacks = [];\n",
       "    root._bokeh_is_loading = undefined;\n",
       "  }\n",
       "\n",
       "  var JS_MIME_TYPE = 'application/javascript';\n",
       "  var HTML_MIME_TYPE = 'text/html';\n",
       "  var EXEC_MIME_TYPE = 'application/vnd.bokehjs_exec.v0+json';\n",
       "  var CLASS_NAME = 'output_bokeh rendered_html';\n",
       "\n",
       "  /**\n",
       "   * Render data to the DOM node\n",
       "   */\n",
       "  function render(props, node) {\n",
       "    var script = document.createElement(\"script\");\n",
       "    node.appendChild(script);\n",
       "  }\n",
       "\n",
       "  /**\n",
       "   * Handle when an output is cleared or removed\n",
       "   */\n",
       "  function handleClearOutput(event, handle) {\n",
       "    var cell = handle.cell;\n",
       "\n",
       "    var id = cell.output_area._bokeh_element_id;\n",
       "    var server_id = cell.output_area._bokeh_server_id;\n",
       "    // Clean up Bokeh references\n",
       "    if (id != null && id in Bokeh.index) {\n",
       "      Bokeh.index[id].model.document.clear();\n",
       "      delete Bokeh.index[id];\n",
       "    }\n",
       "\n",
       "    if (server_id !== undefined) {\n",
       "      // Clean up Bokeh references\n",
       "      var cmd = \"from bokeh.io.state import curstate; print(curstate().uuid_to_server['\" + server_id + \"'].get_sessions()[0].document.roots[0]._id)\";\n",
       "      cell.notebook.kernel.execute(cmd, {\n",
       "        iopub: {\n",
       "          output: function(msg) {\n",
       "            var id = msg.content.text.trim();\n",
       "            if (id in Bokeh.index) {\n",
       "              Bokeh.index[id].model.document.clear();\n",
       "              delete Bokeh.index[id];\n",
       "            }\n",
       "          }\n",
       "        }\n",
       "      });\n",
       "      // Destroy server and session\n",
       "      var cmd = \"import bokeh.io.notebook as ion; ion.destroy_server('\" + server_id + \"')\";\n",
       "      cell.notebook.kernel.execute(cmd);\n",
       "    }\n",
       "  }\n",
       "\n",
       "  /**\n",
       "   * Handle when a new output is added\n",
       "   */\n",
       "  function handleAddOutput(event, handle) {\n",
       "    var output_area = handle.output_area;\n",
       "    var output = handle.output;\n",
       "\n",
       "    // limit handleAddOutput to display_data with EXEC_MIME_TYPE content only\n",
       "    if ((output.output_type != \"display_data\") || (!output.data.hasOwnProperty(EXEC_MIME_TYPE))) {\n",
       "      return\n",
       "    }\n",
       "\n",
       "    var toinsert = output_area.element.find(\".\" + CLASS_NAME.split(' ')[0]);\n",
       "\n",
       "    if (output.metadata[EXEC_MIME_TYPE][\"id\"] !== undefined) {\n",
       "      toinsert[toinsert.length - 1].firstChild.textContent = output.data[JS_MIME_TYPE];\n",
       "      // store reference to embed id on output_area\n",
       "      output_area._bokeh_element_id = output.metadata[EXEC_MIME_TYPE][\"id\"];\n",
       "    }\n",
       "    if (output.metadata[EXEC_MIME_TYPE][\"server_id\"] !== undefined) {\n",
       "      var bk_div = document.createElement(\"div\");\n",
       "      bk_div.innerHTML = output.data[HTML_MIME_TYPE];\n",
       "      var script_attrs = bk_div.children[0].attributes;\n",
       "      for (var i = 0; i < script_attrs.length; i++) {\n",
       "        toinsert[toinsert.length - 1].firstChild.setAttribute(script_attrs[i].name, script_attrs[i].value);\n",
       "        toinsert[toinsert.length - 1].firstChild.textContent = bk_div.children[0].textContent\n",
       "      }\n",
       "      // store reference to server id on output_area\n",
       "      output_area._bokeh_server_id = output.metadata[EXEC_MIME_TYPE][\"server_id\"];\n",
       "    }\n",
       "  }\n",
       "\n",
       "  function register_renderer(events, OutputArea) {\n",
       "\n",
       "    function append_mime(data, metadata, element) {\n",
       "      // create a DOM node to render to\n",
       "      var toinsert = this.create_output_subarea(\n",
       "        metadata,\n",
       "        CLASS_NAME,\n",
       "        EXEC_MIME_TYPE\n",
       "      );\n",
       "      this.keyboard_manager.register_events(toinsert);\n",
       "      // Render to node\n",
       "      var props = {data: data, metadata: metadata[EXEC_MIME_TYPE]};\n",
       "      render(props, toinsert[toinsert.length - 1]);\n",
       "      element.append(toinsert);\n",
       "      return toinsert\n",
       "    }\n",
       "\n",
       "    /* Handle when an output is cleared or removed */\n",
       "    events.on('clear_output.CodeCell', handleClearOutput);\n",
       "    events.on('delete.Cell', handleClearOutput);\n",
       "\n",
       "    /* Handle when a new output is added */\n",
       "    events.on('output_added.OutputArea', handleAddOutput);\n",
       "\n",
       "    /**\n",
       "     * Register the mime type and append_mime function with output_area\n",
       "     */\n",
       "    OutputArea.prototype.register_mime_type(EXEC_MIME_TYPE, append_mime, {\n",
       "      /* Is output safe? */\n",
       "      safe: true,\n",
       "      /* Index of renderer in `output_area.display_order` */\n",
       "      index: 0\n",
       "    });\n",
       "  }\n",
       "\n",
       "  // register the mime type if in Jupyter Notebook environment and previously unregistered\n",
       "  if (root.Jupyter !== undefined) {\n",
       "    var events = require('base/js/events');\n",
       "    var OutputArea = require('notebook/js/outputarea').OutputArea;\n",
       "\n",
       "    if (OutputArea.prototype.mime_types().indexOf(EXEC_MIME_TYPE) == -1) {\n",
       "      register_renderer(events, OutputArea);\n",
       "    }\n",
       "  }\n",
       "\n",
       "  \n",
       "  if (typeof (root._bokeh_timeout) === \"undefined\" || force === true) {\n",
       "    root._bokeh_timeout = Date.now() + 5000;\n",
       "    root._bokeh_failed_load = false;\n",
       "  }\n",
       "\n",
       "  var NB_LOAD_WARNING = {'data': {'text/html':\n",
       "     \"<div style='background-color: #fdd'>\\n\"+\n",
       "     \"<p>\\n\"+\n",
       "     \"BokehJS does not appear to have successfully loaded. If loading BokehJS from CDN, this \\n\"+\n",
       "     \"may be due to a slow or bad network connection. Possible fixes:\\n\"+\n",
       "     \"</p>\\n\"+\n",
       "     \"<ul>\\n\"+\n",
       "     \"<li>re-rerun `output_notebook()` to attempt to load from CDN again, or</li>\\n\"+\n",
       "     \"<li>use INLINE resources instead, as so:</li>\\n\"+\n",
       "     \"</ul>\\n\"+\n",
       "     \"<code>\\n\"+\n",
       "     \"from bokeh.resources import INLINE\\n\"+\n",
       "     \"output_notebook(resources=INLINE)\\n\"+\n",
       "     \"</code>\\n\"+\n",
       "     \"</div>\"}};\n",
       "\n",
       "  function display_loaded() {\n",
       "    var el = document.getElementById(\"1004\");\n",
       "    if (el != null) {\n",
       "      el.textContent = \"BokehJS is loading...\";\n",
       "    }\n",
       "    if (root.Bokeh !== undefined) {\n",
       "      if (el != null) {\n",
       "        el.textContent = \"BokehJS \" + root.Bokeh.version + \" successfully loaded.\";\n",
       "      }\n",
       "    } else if (Date.now() < root._bokeh_timeout) {\n",
       "      setTimeout(display_loaded, 100)\n",
       "    }\n",
       "  }\n",
       "\n",
       "\n",
       "  function run_callbacks() {\n",
       "    try {\n",
       "      root._bokeh_onload_callbacks.forEach(function(callback) {\n",
       "        if (callback != null)\n",
       "          callback();\n",
       "      });\n",
       "    } finally {\n",
       "      delete root._bokeh_onload_callbacks\n",
       "    }\n",
       "    console.debug(\"Bokeh: all callbacks have finished\");\n",
       "  }\n",
       "\n",
       "  function load_libs(css_urls, js_urls, callback) {\n",
       "    if (css_urls == null) css_urls = [];\n",
       "    if (js_urls == null) js_urls = [];\n",
       "\n",
       "    root._bokeh_onload_callbacks.push(callback);\n",
       "    if (root._bokeh_is_loading > 0) {\n",
       "      console.debug(\"Bokeh: BokehJS is being loaded, scheduling callback at\", now());\n",
       "      return null;\n",
       "    }\n",
       "    if (js_urls == null || js_urls.length === 0) {\n",
       "      run_callbacks();\n",
       "      return null;\n",
       "    }\n",
       "    console.debug(\"Bokeh: BokehJS not loaded, scheduling load and callback at\", now());\n",
       "    root._bokeh_is_loading = css_urls.length + js_urls.length;\n",
       "\n",
       "    function on_load() {\n",
       "      root._bokeh_is_loading--;\n",
       "      if (root._bokeh_is_loading === 0) {\n",
       "        console.debug(\"Bokeh: all BokehJS libraries/stylesheets loaded\");\n",
       "        run_callbacks()\n",
       "      }\n",
       "    }\n",
       "\n",
       "    function on_error() {\n",
       "      console.error(\"failed to load \" + url);\n",
       "    }\n",
       "\n",
       "    for (var i = 0; i < css_urls.length; i++) {\n",
       "      var url = css_urls[i];\n",
       "      const element = document.createElement(\"link\");\n",
       "      element.onload = on_load;\n",
       "      element.onerror = on_error;\n",
       "      element.rel = \"stylesheet\";\n",
       "      element.type = \"text/css\";\n",
       "      element.href = url;\n",
       "      console.debug(\"Bokeh: injecting link tag for BokehJS stylesheet: \", url);\n",
       "      document.body.appendChild(element);\n",
       "    }\n",
       "\n",
       "    const hashes = {\"https://cdn.bokeh.org/bokeh/release/bokeh-2.0.2.min.js\": \"ufR9RFnRs6lniiaFvtJziE0YeidtAgBRH6ux2oUItHw5WTvE1zuk9uzhUU/FJXDp\", \"https://cdn.bokeh.org/bokeh/release/bokeh-widgets-2.0.2.min.js\": \"8QM/PGWBT+IssZuRcDcjzwIh1mkOmJSoNMmyYDZbCfXJg3Ap1lEvdVgFuSAwhb/J\", \"https://cdn.bokeh.org/bokeh/release/bokeh-tables-2.0.2.min.js\": \"Jm8cH3Rg0P6UeZhVY5cLy1WzKajUT9KImCY+76hEqrcJt59/d8GPvFHjCkYgnSIn\", \"https://cdn.bokeh.org/bokeh/release/bokeh-gl-2.0.2.min.js\": \"Ozhzj+SI7ywm74aOI/UajcWz+C0NjsPunEVyVIrxzYkB+jA+2tUw8x5xJCbVtK5I\"};\n",
       "\n",
       "    for (var i = 0; i < js_urls.length; i++) {\n",
       "      var url = js_urls[i];\n",
       "      var element = document.createElement('script');\n",
       "      element.onload = on_load;\n",
       "      element.onerror = on_error;\n",
       "      element.async = false;\n",
       "      element.src = url;\n",
       "      if (url in hashes) {\n",
       "        element.crossOrigin = \"anonymous\";\n",
       "        element.integrity = \"sha384-\" + hashes[url];\n",
       "      }\n",
       "      console.debug(\"Bokeh: injecting script tag for BokehJS library: \", url);\n",
       "      document.head.appendChild(element);\n",
       "    }\n",
       "  };\n",
       "\n",
       "  function inject_raw_css(css) {\n",
       "    const element = document.createElement(\"style\");\n",
       "    element.appendChild(document.createTextNode(css));\n",
       "    document.body.appendChild(element);\n",
       "  }\n",
       "\n",
       "  \n",
       "  var js_urls = [\"https://cdn.bokeh.org/bokeh/release/bokeh-2.0.2.min.js\", \"https://cdn.bokeh.org/bokeh/release/bokeh-widgets-2.0.2.min.js\", \"https://cdn.bokeh.org/bokeh/release/bokeh-tables-2.0.2.min.js\", \"https://cdn.bokeh.org/bokeh/release/bokeh-gl-2.0.2.min.js\"];\n",
       "  var css_urls = [];\n",
       "  \n",
       "\n",
       "  var inline_js = [\n",
       "    function(Bokeh) {\n",
       "      Bokeh.set_log_level(\"info\");\n",
       "    },\n",
       "    function(Bokeh) {\n",
       "    \n",
       "    \n",
       "    }\n",
       "  ];\n",
       "\n",
       "  function run_inline_js() {\n",
       "    \n",
       "    if (root.Bokeh !== undefined || force === true) {\n",
       "      \n",
       "    for (var i = 0; i < inline_js.length; i++) {\n",
       "      inline_js[i].call(root, root.Bokeh);\n",
       "    }\n",
       "    if (force === true) {\n",
       "        display_loaded();\n",
       "      }} else if (Date.now() < root._bokeh_timeout) {\n",
       "      setTimeout(run_inline_js, 100);\n",
       "    } else if (!root._bokeh_failed_load) {\n",
       "      console.log(\"Bokeh: BokehJS failed to load within specified timeout.\");\n",
       "      root._bokeh_failed_load = true;\n",
       "    } else if (force !== true) {\n",
       "      var cell = $(document.getElementById(\"1004\")).parents('.cell').data().cell;\n",
       "      cell.output_area.append_execute_result(NB_LOAD_WARNING)\n",
       "    }\n",
       "\n",
       "  }\n",
       "\n",
       "  if (root._bokeh_is_loading === 0) {\n",
       "    console.debug(\"Bokeh: BokehJS loaded, going straight to plotting\");\n",
       "    run_inline_js();\n",
       "  } else {\n",
       "    load_libs(css_urls, js_urls, function() {\n",
       "      console.debug(\"Bokeh: BokehJS plotting callback run at\", now());\n",
       "      run_inline_js();\n",
       "    });\n",
       "  }\n",
       "}(window));"
      ],
      "application/vnd.bokehjs_load.v0+json": "\n(function(root) {\n  function now() {\n    return new Date();\n  }\n\n  var force = true;\n\n  if (typeof root._bokeh_onload_callbacks === \"undefined\" || force === true) {\n    root._bokeh_onload_callbacks = [];\n    root._bokeh_is_loading = undefined;\n  }\n\n  \n\n  \n  if (typeof (root._bokeh_timeout) === \"undefined\" || force === true) {\n    root._bokeh_timeout = Date.now() + 5000;\n    root._bokeh_failed_load = false;\n  }\n\n  var NB_LOAD_WARNING = {'data': {'text/html':\n     \"<div style='background-color: #fdd'>\\n\"+\n     \"<p>\\n\"+\n     \"BokehJS does not appear to have successfully loaded. If loading BokehJS from CDN, this \\n\"+\n     \"may be due to a slow or bad network connection. Possible fixes:\\n\"+\n     \"</p>\\n\"+\n     \"<ul>\\n\"+\n     \"<li>re-rerun `output_notebook()` to attempt to load from CDN again, or</li>\\n\"+\n     \"<li>use INLINE resources instead, as so:</li>\\n\"+\n     \"</ul>\\n\"+\n     \"<code>\\n\"+\n     \"from bokeh.resources import INLINE\\n\"+\n     \"output_notebook(resources=INLINE)\\n\"+\n     \"</code>\\n\"+\n     \"</div>\"}};\n\n  function display_loaded() {\n    var el = document.getElementById(\"1004\");\n    if (el != null) {\n      el.textContent = \"BokehJS is loading...\";\n    }\n    if (root.Bokeh !== undefined) {\n      if (el != null) {\n        el.textContent = \"BokehJS \" + root.Bokeh.version + \" successfully loaded.\";\n      }\n    } else if (Date.now() < root._bokeh_timeout) {\n      setTimeout(display_loaded, 100)\n    }\n  }\n\n\n  function run_callbacks() {\n    try {\n      root._bokeh_onload_callbacks.forEach(function(callback) {\n        if (callback != null)\n          callback();\n      });\n    } finally {\n      delete root._bokeh_onload_callbacks\n    }\n    console.debug(\"Bokeh: all callbacks have finished\");\n  }\n\n  function load_libs(css_urls, js_urls, callback) {\n    if (css_urls == null) css_urls = [];\n    if (js_urls == null) js_urls = [];\n\n    root._bokeh_onload_callbacks.push(callback);\n    if (root._bokeh_is_loading > 0) {\n      console.debug(\"Bokeh: BokehJS is being loaded, scheduling callback at\", now());\n      return null;\n    }\n    if (js_urls == null || js_urls.length === 0) {\n      run_callbacks();\n      return null;\n    }\n    console.debug(\"Bokeh: BokehJS not loaded, scheduling load and callback at\", now());\n    root._bokeh_is_loading = css_urls.length + js_urls.length;\n\n    function on_load() {\n      root._bokeh_is_loading--;\n      if (root._bokeh_is_loading === 0) {\n        console.debug(\"Bokeh: all BokehJS libraries/stylesheets loaded\");\n        run_callbacks()\n      }\n    }\n\n    function on_error() {\n      console.error(\"failed to load \" + url);\n    }\n\n    for (var i = 0; i < css_urls.length; i++) {\n      var url = css_urls[i];\n      const element = document.createElement(\"link\");\n      element.onload = on_load;\n      element.onerror = on_error;\n      element.rel = \"stylesheet\";\n      element.type = \"text/css\";\n      element.href = url;\n      console.debug(\"Bokeh: injecting link tag for BokehJS stylesheet: \", url);\n      document.body.appendChild(element);\n    }\n\n    const hashes = {\"https://cdn.bokeh.org/bokeh/release/bokeh-2.0.2.min.js\": \"ufR9RFnRs6lniiaFvtJziE0YeidtAgBRH6ux2oUItHw5WTvE1zuk9uzhUU/FJXDp\", \"https://cdn.bokeh.org/bokeh/release/bokeh-widgets-2.0.2.min.js\": \"8QM/PGWBT+IssZuRcDcjzwIh1mkOmJSoNMmyYDZbCfXJg3Ap1lEvdVgFuSAwhb/J\", \"https://cdn.bokeh.org/bokeh/release/bokeh-tables-2.0.2.min.js\": \"Jm8cH3Rg0P6UeZhVY5cLy1WzKajUT9KImCY+76hEqrcJt59/d8GPvFHjCkYgnSIn\", \"https://cdn.bokeh.org/bokeh/release/bokeh-gl-2.0.2.min.js\": \"Ozhzj+SI7ywm74aOI/UajcWz+C0NjsPunEVyVIrxzYkB+jA+2tUw8x5xJCbVtK5I\"};\n\n    for (var i = 0; i < js_urls.length; i++) {\n      var url = js_urls[i];\n      var element = document.createElement('script');\n      element.onload = on_load;\n      element.onerror = on_error;\n      element.async = false;\n      element.src = url;\n      if (url in hashes) {\n        element.crossOrigin = \"anonymous\";\n        element.integrity = \"sha384-\" + hashes[url];\n      }\n      console.debug(\"Bokeh: injecting script tag for BokehJS library: \", url);\n      document.head.appendChild(element);\n    }\n  };\n\n  function inject_raw_css(css) {\n    const element = document.createElement(\"style\");\n    element.appendChild(document.createTextNode(css));\n    document.body.appendChild(element);\n  }\n\n  \n  var js_urls = [\"https://cdn.bokeh.org/bokeh/release/bokeh-2.0.2.min.js\", \"https://cdn.bokeh.org/bokeh/release/bokeh-widgets-2.0.2.min.js\", \"https://cdn.bokeh.org/bokeh/release/bokeh-tables-2.0.2.min.js\", \"https://cdn.bokeh.org/bokeh/release/bokeh-gl-2.0.2.min.js\"];\n  var css_urls = [];\n  \n\n  var inline_js = [\n    function(Bokeh) {\n      Bokeh.set_log_level(\"info\");\n    },\n    function(Bokeh) {\n    \n    \n    }\n  ];\n\n  function run_inline_js() {\n    \n    if (root.Bokeh !== undefined || force === true) {\n      \n    for (var i = 0; i < inline_js.length; i++) {\n      inline_js[i].call(root, root.Bokeh);\n    }\n    if (force === true) {\n        display_loaded();\n      }} else if (Date.now() < root._bokeh_timeout) {\n      setTimeout(run_inline_js, 100);\n    } else if (!root._bokeh_failed_load) {\n      console.log(\"Bokeh: BokehJS failed to load within specified timeout.\");\n      root._bokeh_failed_load = true;\n    } else if (force !== true) {\n      var cell = $(document.getElementById(\"1004\")).parents('.cell').data().cell;\n      cell.output_area.append_execute_result(NB_LOAD_WARNING)\n    }\n\n  }\n\n  if (root._bokeh_is_loading === 0) {\n    console.debug(\"Bokeh: BokehJS loaded, going straight to plotting\");\n    run_inline_js();\n  } else {\n    load_libs(css_urls, js_urls, function() {\n      console.debug(\"Bokeh: BokehJS plotting callback run at\", now());\n      run_inline_js();\n    });\n  }\n}(window));"
     },
     "metadata": {},
     "output_type": "display_data"
    },
    {
     "name": "stdout",
     "output_type": "stream",
     "text": [
      "The autoreload extension is already loaded. To reload it, use:\n",
      "  %reload_ext autoreload\n"
     ]
    }
   ],
   "source": [
    "import os\n",
    "import pandas as pd\n",
    "import sys\n",
    "import numpy as np\n",
    "import sys\n",
    "sys.path.insert(0, '../..')\n",
    "import itertools\n",
    "\n",
    "from JKBio import terra\n",
    "from ccle_processing.src.CCLE_postp_function import *\n",
    "from JKBio.utils import helper as h\n",
    "from JKBio.epigenetics import chipseq as chip\n",
    "\n",
    "import dalmatian as dm\n",
    "import pyBigWig\n",
    "\n",
    "from bokeh.plotting import *\n",
    "from IPython.display import IFrame\n",
    "import igv\n",
    "from biomart import BiomartServer\n",
    "import io\n",
    "\n",
    "from sklearn.manifold import MDS, TSNE\n",
    "from sklearn.decomposition import PCA\n",
    "from sklearn.preprocessing import scale\n",
    "from sklearn.cluster import AgglomerativeClustering\n",
    "from sklearn.mixture import GaussianMixture\n",
    "\n",
    "output_notebook()\n",
    "%load_ext autoreload\n",
    "%autoreload 2"
   ]
  },
  {
   "cell_type": "code",
   "execution_count": 6,
   "metadata": {},
   "outputs": [],
   "source": [
    "from gsheets import Sheets\n",
    "sheets = Sheets.from_files('~/.client_secret.json', '~/.storage.json')\n",
    "url=\"https://docs.google.com/spreadsheets/d/1yFLjYB1McU530JnLgL0QIMAKIkVl3kl0_LCHje2gk8U\"\n",
    "gsheet = sheets.get(url).sheets[2].to_frame()"
   ]
  },
  {
   "cell_type": "code",
   "execution_count": 7,
   "metadata": {},
   "outputs": [
    {
     "data": {
      "text/html": [
       "<div>\n",
       "<style scoped>\n",
       "    .dataframe tbody tr th:only-of-type {\n",
       "        vertical-align: middle;\n",
       "    }\n",
       "\n",
       "    .dataframe tbody tr th {\n",
       "        vertical-align: top;\n",
       "    }\n",
       "\n",
       "    .dataframe thead th {\n",
       "        text-align: right;\n",
       "    }\n",
       "</style>\n",
       "<table border=\"1\" class=\"dataframe\">\n",
       "  <thead>\n",
       "    <tr style=\"text-align: right;\">\n",
       "      <th></th>\n",
       "      <th>id</th>\n",
       "      <th>cell line</th>\n",
       "      <th>replicate</th>\n",
       "      <th>protein</th>\n",
       "      <th>quality</th>\n",
       "      <th>paired_end</th>\n",
       "      <th>matching input name</th>\n",
       "      <th>processed</th>\n",
       "      <th>name</th>\n",
       "      <th>previous name</th>\n",
       "      <th>...</th>\n",
       "      <th>unique mapped reads(droso)</th>\n",
       "      <th>scaling factor</th>\n",
       "      <th>Unnamed: 25</th>\n",
       "      <th>Total QC</th>\n",
       "      <th>folderNarrow</th>\n",
       "      <th>folderCompensated</th>\n",
       "      <th>folderQC</th>\n",
       "      <th>folderBroad</th>\n",
       "      <th>folder Bigwig</th>\n",
       "      <th>folder diffPeaks</th>\n",
       "    </tr>\n",
       "  </thead>\n",
       "  <tbody>\n",
       "    <tr>\n",
       "      <th>0</th>\n",
       "      <td>mp100</td>\n",
       "      <td>U937</td>\n",
       "      <td>1</td>\n",
       "      <td>INPUT</td>\n",
       "      <td>NaN</td>\n",
       "      <td>n</td>\n",
       "      <td>NaN</td>\n",
       "      <td>Y</td>\n",
       "      <td>mp100-U937-INPUT-r1</td>\n",
       "      <td>NaN</td>\n",
       "      <td>...</td>\n",
       "      <td>NaN</td>\n",
       "      <td>NaN</td>\n",
       "      <td>NaN</td>\n",
       "      <td>https://storage.cloud.google.com/amlproject/Ch...</td>\n",
       "      <td>https://console.cloud.google.com/storage/brows...</td>\n",
       "      <td>NaN</td>\n",
       "      <td>https://console.cloud.google.com/storage/brows...</td>\n",
       "      <td>https://console.cloud.google.com/storage/brows...</td>\n",
       "      <td>https://console.cloud.google.com/storage/brows...</td>\n",
       "      <td>NaN</td>\n",
       "    </tr>\n",
       "    <tr>\n",
       "      <th>1</th>\n",
       "      <td>mp101</td>\n",
       "      <td>NOMO1</td>\n",
       "      <td>1</td>\n",
       "      <td>INPUT</td>\n",
       "      <td>NaN</td>\n",
       "      <td>n</td>\n",
       "      <td>NaN</td>\n",
       "      <td>Y</td>\n",
       "      <td>mp101-NOMO1-INPUT-r1</td>\n",
       "      <td>NaN</td>\n",
       "      <td>...</td>\n",
       "      <td>NaN</td>\n",
       "      <td>NaN</td>\n",
       "      <td>NaN</td>\n",
       "      <td>NaN</td>\n",
       "      <td>NaN</td>\n",
       "      <td>NaN</td>\n",
       "      <td>NaN</td>\n",
       "      <td>NaN</td>\n",
       "      <td>NaN</td>\n",
       "      <td>NaN</td>\n",
       "    </tr>\n",
       "    <tr>\n",
       "      <th>2</th>\n",
       "      <td>mp102</td>\n",
       "      <td>UT7</td>\n",
       "      <td>1</td>\n",
       "      <td>INPUT</td>\n",
       "      <td>NaN</td>\n",
       "      <td>n</td>\n",
       "      <td>NaN</td>\n",
       "      <td>Y</td>\n",
       "      <td>mp102-UT7-INPUT-r1</td>\n",
       "      <td>NaN</td>\n",
       "      <td>...</td>\n",
       "      <td>NaN</td>\n",
       "      <td>NaN</td>\n",
       "      <td>NaN</td>\n",
       "      <td>NaN</td>\n",
       "      <td>NaN</td>\n",
       "      <td>NaN</td>\n",
       "      <td>NaN</td>\n",
       "      <td>NaN</td>\n",
       "      <td>NaN</td>\n",
       "      <td>NaN</td>\n",
       "    </tr>\n",
       "    <tr>\n",
       "      <th>3</th>\n",
       "      <td>mp106</td>\n",
       "      <td>MV411</td>\n",
       "      <td>1</td>\n",
       "      <td>MYB</td>\n",
       "      <td>x</td>\n",
       "      <td>n</td>\n",
       "      <td>mp99</td>\n",
       "      <td>Y</td>\n",
       "      <td>mp106-MV411-MYB-r1</td>\n",
       "      <td>NaN</td>\n",
       "      <td>...</td>\n",
       "      <td>NaN</td>\n",
       "      <td>NaN</td>\n",
       "      <td>NaN</td>\n",
       "      <td>NaN</td>\n",
       "      <td>NaN</td>\n",
       "      <td>NaN</td>\n",
       "      <td>NaN</td>\n",
       "      <td>NaN</td>\n",
       "      <td>NaN</td>\n",
       "      <td>NaN</td>\n",
       "    </tr>\n",
       "    <tr>\n",
       "      <th>4</th>\n",
       "      <td>mp109</td>\n",
       "      <td>M6</td>\n",
       "      <td>1</td>\n",
       "      <td>CEBPA</td>\n",
       "      <td>x</td>\n",
       "      <td>n</td>\n",
       "      <td>mp98</td>\n",
       "      <td>Y</td>\n",
       "      <td>mp109-M6-CEBPA-r1</td>\n",
       "      <td>NaN</td>\n",
       "      <td>...</td>\n",
       "      <td>NaN</td>\n",
       "      <td>NaN</td>\n",
       "      <td>NaN</td>\n",
       "      <td>NaN</td>\n",
       "      <td>NaN</td>\n",
       "      <td>NaN</td>\n",
       "      <td>NaN</td>\n",
       "      <td>NaN</td>\n",
       "      <td>NaN</td>\n",
       "      <td>NaN</td>\n",
       "    </tr>\n",
       "    <tr>\n",
       "      <th>...</th>\n",
       "      <td>...</td>\n",
       "      <td>...</td>\n",
       "      <td>...</td>\n",
       "      <td>...</td>\n",
       "      <td>...</td>\n",
       "      <td>...</td>\n",
       "      <td>...</td>\n",
       "      <td>...</td>\n",
       "      <td>...</td>\n",
       "      <td>...</td>\n",
       "      <td>...</td>\n",
       "      <td>...</td>\n",
       "      <td>...</td>\n",
       "      <td>...</td>\n",
       "      <td>...</td>\n",
       "      <td>...</td>\n",
       "      <td>...</td>\n",
       "      <td>...</td>\n",
       "      <td>...</td>\n",
       "      <td>...</td>\n",
       "      <td>...</td>\n",
       "    </tr>\n",
       "    <tr>\n",
       "      <th>373</th>\n",
       "      <td>mp916</td>\n",
       "      <td>MV411</td>\n",
       "      <td>1</td>\n",
       "      <td>E2F3</td>\n",
       "      <td>NaN</td>\n",
       "      <td>y</td>\n",
       "      <td>mp845</td>\n",
       "      <td>NaN</td>\n",
       "      <td>mp916-MV411-E2F3-r1</td>\n",
       "      <td>20201023_E2F3_MP8382_S41</td>\n",
       "      <td>...</td>\n",
       "      <td>NaN</td>\n",
       "      <td>NaN</td>\n",
       "      <td>NaN</td>\n",
       "      <td>NaN</td>\n",
       "      <td>NaN</td>\n",
       "      <td>NaN</td>\n",
       "      <td>NaN</td>\n",
       "      <td>NaN</td>\n",
       "      <td>NaN</td>\n",
       "      <td>NaN</td>\n",
       "    </tr>\n",
       "    <tr>\n",
       "      <th>374</th>\n",
       "      <td>mp917</td>\n",
       "      <td>MV411</td>\n",
       "      <td>1</td>\n",
       "      <td>SREBP1</td>\n",
       "      <td>NaN</td>\n",
       "      <td>y</td>\n",
       "      <td>mp845</td>\n",
       "      <td>NaN</td>\n",
       "      <td>mp917-MV411-SREBP1-r1</td>\n",
       "      <td>20201023_SREBP1_MP8382_S42</td>\n",
       "      <td>...</td>\n",
       "      <td>NaN</td>\n",
       "      <td>NaN</td>\n",
       "      <td>NaN</td>\n",
       "      <td>NaN</td>\n",
       "      <td>NaN</td>\n",
       "      <td>NaN</td>\n",
       "      <td>NaN</td>\n",
       "      <td>NaN</td>\n",
       "      <td>NaN</td>\n",
       "      <td>NaN</td>\n",
       "    </tr>\n",
       "    <tr>\n",
       "      <th>375</th>\n",
       "      <td>mp918</td>\n",
       "      <td>MV411_GFI_SC</td>\n",
       "      <td>1</td>\n",
       "      <td>FLAG_GFI</td>\n",
       "      <td>NaN</td>\n",
       "      <td>y</td>\n",
       "      <td>mp845</td>\n",
       "      <td>NaN</td>\n",
       "      <td>mp918-MV411_GFI_SC-FLAG_GFI-r1</td>\n",
       "      <td>20200903_1_MP8215_S101</td>\n",
       "      <td>...</td>\n",
       "      <td>NaN</td>\n",
       "      <td>NaN</td>\n",
       "      <td>NaN</td>\n",
       "      <td>NaN</td>\n",
       "      <td>NaN</td>\n",
       "      <td>NaN</td>\n",
       "      <td>NaN</td>\n",
       "      <td>NaN</td>\n",
       "      <td>NaN</td>\n",
       "      <td>NaN</td>\n",
       "    </tr>\n",
       "    <tr>\n",
       "      <th>376</th>\n",
       "      <td>mp919</td>\n",
       "      <td>MV411_MEF2D_NT_SC_63</td>\n",
       "      <td>3</td>\n",
       "      <td>FLAF_MEF2D</td>\n",
       "      <td>NaN</td>\n",
       "      <td>y</td>\n",
       "      <td>mp845</td>\n",
       "      <td>NaN</td>\n",
       "      <td>mp919-MV411_MEF2D_NT_SC_63-FLAF_MEF2D-r3</td>\n",
       "      <td>20200903_2_MP8215_S102</td>\n",
       "      <td>...</td>\n",
       "      <td>NaN</td>\n",
       "      <td>NaN</td>\n",
       "      <td>NaN</td>\n",
       "      <td>NaN</td>\n",
       "      <td>NaN</td>\n",
       "      <td>NaN</td>\n",
       "      <td>NaN</td>\n",
       "      <td>NaN</td>\n",
       "      <td>NaN</td>\n",
       "      <td>NaN</td>\n",
       "    </tr>\n",
       "    <tr>\n",
       "      <th>377</th>\n",
       "      <td>mp920</td>\n",
       "      <td>MV411</td>\n",
       "      <td>1</td>\n",
       "      <td>STAT5B</td>\n",
       "      <td>NaN</td>\n",
       "      <td>y</td>\n",
       "      <td>mp845</td>\n",
       "      <td>NaN</td>\n",
       "      <td>mp920-MV411-STAT5B-r1</td>\n",
       "      <td>20200903_3_MP8215_S103</td>\n",
       "      <td>...</td>\n",
       "      <td>NaN</td>\n",
       "      <td>NaN</td>\n",
       "      <td>NaN</td>\n",
       "      <td>NaN</td>\n",
       "      <td>NaN</td>\n",
       "      <td>NaN</td>\n",
       "      <td>NaN</td>\n",
       "      <td>NaN</td>\n",
       "      <td>NaN</td>\n",
       "      <td>NaN</td>\n",
       "    </tr>\n",
       "  </tbody>\n",
       "</table>\n",
       "<p>378 rows × 33 columns</p>\n",
       "</div>"
      ],
      "text/plain": [
       "        id             cell line  replicate     protein quality paired_end  \\\n",
       "0    mp100                  U937          1       INPUT     NaN          n   \n",
       "1    mp101                 NOMO1          1       INPUT     NaN          n   \n",
       "2    mp102                   UT7          1       INPUT     NaN          n   \n",
       "3    mp106                 MV411          1         MYB       x          n   \n",
       "4    mp109                    M6          1       CEBPA       x          n   \n",
       "..     ...                   ...        ...         ...     ...        ...   \n",
       "373  mp916                 MV411          1        E2F3     NaN          y   \n",
       "374  mp917                 MV411          1      SREBP1     NaN          y   \n",
       "375  mp918          MV411_GFI_SC          1    FLAG_GFI     NaN          y   \n",
       "376  mp919  MV411_MEF2D_NT_SC_63          3  FLAF_MEF2D     NaN          y   \n",
       "377  mp920                 MV411          1      STAT5B     NaN          y   \n",
       "\n",
       "    matching input name processed                                      name  \\\n",
       "0                   NaN         Y                       mp100-U937-INPUT-r1   \n",
       "1                   NaN         Y                      mp101-NOMO1-INPUT-r1   \n",
       "2                   NaN         Y                        mp102-UT7-INPUT-r1   \n",
       "3                  mp99         Y                        mp106-MV411-MYB-r1   \n",
       "4                  mp98         Y                         mp109-M6-CEBPA-r1   \n",
       "..                  ...       ...                                       ...   \n",
       "373               mp845       NaN                       mp916-MV411-E2F3-r1   \n",
       "374               mp845       NaN                     mp917-MV411-SREBP1-r1   \n",
       "375               mp845       NaN            mp918-MV411_GFI_SC-FLAG_GFI-r1   \n",
       "376               mp845       NaN  mp919-MV411_MEF2D_NT_SC_63-FLAF_MEF2D-r3   \n",
       "377               mp845       NaN                     mp920-MV411-STAT5B-r1   \n",
       "\n",
       "                  previous name  ... unique mapped reads(droso)  \\\n",
       "0                           NaN  ...                        NaN   \n",
       "1                           NaN  ...                        NaN   \n",
       "2                           NaN  ...                        NaN   \n",
       "3                           NaN  ...                        NaN   \n",
       "4                           NaN  ...                        NaN   \n",
       "..                          ...  ...                        ...   \n",
       "373    20201023_E2F3_MP8382_S41  ...                        NaN   \n",
       "374  20201023_SREBP1_MP8382_S42  ...                        NaN   \n",
       "375      20200903_1_MP8215_S101  ...                        NaN   \n",
       "376      20200903_2_MP8215_S102  ...                        NaN   \n",
       "377      20200903_3_MP8215_S103  ...                        NaN   \n",
       "\n",
       "    scaling factor Unnamed: 25  \\\n",
       "0              NaN         NaN   \n",
       "1              NaN         NaN   \n",
       "2              NaN         NaN   \n",
       "3              NaN         NaN   \n",
       "4              NaN         NaN   \n",
       "..             ...         ...   \n",
       "373            NaN         NaN   \n",
       "374            NaN         NaN   \n",
       "375            NaN         NaN   \n",
       "376            NaN         NaN   \n",
       "377            NaN         NaN   \n",
       "\n",
       "                                              Total QC  \\\n",
       "0    https://storage.cloud.google.com/amlproject/Ch...   \n",
       "1                                                  NaN   \n",
       "2                                                  NaN   \n",
       "3                                                  NaN   \n",
       "4                                                  NaN   \n",
       "..                                                 ...   \n",
       "373                                                NaN   \n",
       "374                                                NaN   \n",
       "375                                                NaN   \n",
       "376                                                NaN   \n",
       "377                                                NaN   \n",
       "\n",
       "                                          folderNarrow folderCompensated  \\\n",
       "0    https://console.cloud.google.com/storage/brows...               NaN   \n",
       "1                                                  NaN               NaN   \n",
       "2                                                  NaN               NaN   \n",
       "3                                                  NaN               NaN   \n",
       "4                                                  NaN               NaN   \n",
       "..                                                 ...               ...   \n",
       "373                                                NaN               NaN   \n",
       "374                                                NaN               NaN   \n",
       "375                                                NaN               NaN   \n",
       "376                                                NaN               NaN   \n",
       "377                                                NaN               NaN   \n",
       "\n",
       "                                              folderQC  \\\n",
       "0    https://console.cloud.google.com/storage/brows...   \n",
       "1                                                  NaN   \n",
       "2                                                  NaN   \n",
       "3                                                  NaN   \n",
       "4                                                  NaN   \n",
       "..                                                 ...   \n",
       "373                                                NaN   \n",
       "374                                                NaN   \n",
       "375                                                NaN   \n",
       "376                                                NaN   \n",
       "377                                                NaN   \n",
       "\n",
       "                                           folderBroad  \\\n",
       "0    https://console.cloud.google.com/storage/brows...   \n",
       "1                                                  NaN   \n",
       "2                                                  NaN   \n",
       "3                                                  NaN   \n",
       "4                                                  NaN   \n",
       "..                                                 ...   \n",
       "373                                                NaN   \n",
       "374                                                NaN   \n",
       "375                                                NaN   \n",
       "376                                                NaN   \n",
       "377                                                NaN   \n",
       "\n",
       "                                         folder Bigwig  folder diffPeaks  \n",
       "0    https://console.cloud.google.com/storage/brows...               NaN  \n",
       "1                                                  NaN               NaN  \n",
       "2                                                  NaN               NaN  \n",
       "3                                                  NaN               NaN  \n",
       "4                                                  NaN               NaN  \n",
       "..                                                 ...               ...  \n",
       "373                                                NaN               NaN  \n",
       "374                                                NaN               NaN  \n",
       "375                                                NaN               NaN  \n",
       "376                                                NaN               NaN  \n",
       "377                                                NaN               NaN  \n",
       "\n",
       "[378 rows x 33 columns]"
      ]
     },
     "execution_count": 7,
     "metadata": {},
     "output_type": "execute_result"
    }
   ],
   "source": [
    "gsheet"
   ]
  },
  {
   "cell_type": "markdown",
   "metadata": {},
   "source": [
    "## v6"
   ]
  },
  {
   "cell_type": "code",
   "execution_count": 325,
   "metadata": {},
   "outputs": [],
   "source": [
    "project=\"chipseq_MEF2D_degraded\""
   ]
  },
  {
   "cell_type": "code",
   "execution_count": null,
   "metadata": {},
   "outputs": [],
   "source": [
    "! gsutil ls gs://transfer-amlproject/201001_MP8262_fastq/ "
   ]
  },
  {
   "cell_type": "code",
   "execution_count": 326,
   "metadata": {},
   "outputs": [
    {
     "name": "stdout",
     "output_type": "stream",
     "text": [
      "gs://transfer-amlproject/200723_MP8095_fastq/\r\n",
      "gs://transfer-amlproject/201120_MP8439_fastq/\r\n",
      "gs://transfer-amlproject/201120_MP8456_fastq/\r\n",
      "gs://transfer-amlproject/201204_MP8489_fastq/\r\n",
      "gs://transfer-amlproject/201222_MP8533_fastq/\r\n",
      "gs://transfer-amlproject/201222_MP8548_fastq/\r\n",
      "gs://transfer-amlproject/Cobinding_additional/\r\n",
      "gs://transfer-amlproject/MONOMAC_synMEF2CD/\r\n",
      "gs://transfer-amlproject/RNPv5/\r\n",
      "gs://transfer-amlproject/additional_degraded_v1/\r\n",
      "gs://transfer-amlproject/chipseq_MEF2D_degraded/\r\n",
      "gs://transfer-amlproject/chipseq_MEFF2CMEF2D_degraded/\r\n",
      "gs://transfer-amlproject/slamseq_IRF8/\r\n",
      "gs://transfer-amlproject/slamseq_inhibitor_spikeins/\r\n"
     ]
    }
   ],
   "source": []
  },
  {
   "cell_type": "code",
   "execution_count": null,
   "metadata": {},
   "outputs": [],
   "source": [
    "mkdir ../data/$project/ && mkdir ../data/$project/qc/"
   ]
  },
  {
   "cell_type": "code",
   "execution_count": null,
   "metadata": {},
   "outputs": [],
   "source": [
    "!gsutil -m cp gs://transfer-amlproject/201001_MP8262_fastq/multiqc_report.html ../data/$project/qc/\n",
    "!gsutil -m cp -r gs://transfer-amlproject/201001_MP8262_fastq/Reports/ ../data/$project/qc/\n",
    "!gsutil -m cp -r gs://transfer-amlproject/201001_MP8262_fastq/multiqc_data/ ../data/$project/qc/"
   ]
  },
  {
   "cell_type": "code",
   "execution_count": null,
   "metadata": {
    "scrolled": true
   },
   "outputs": [],
   "source": [
    "! gsutil -m cp gs://transfer-amlproject/201001_MP8262_fastq/*  gs://transfer-amlproject/$project/"
   ]
  },
  {
   "cell_type": "markdown",
   "metadata": {},
   "source": [
    "### analysis"
   ]
  },
  {
   "cell_type": "code",
   "execution_count": null,
   "metadata": {
    "scrolled": true
   },
   "outputs": [],
   "source": [
    "! mkdir ../../data/$project && mkdir ../../data/$project/fastqs && gsutil -m cp gs://transfer-amlproject/$project/* ../../data/$project/fastqs"
   ]
  },
  {
   "cell_type": "code",
   "execution_count": null,
   "metadata": {},
   "outputs": [],
   "source": [
    "! rm ../../data/$project/fastqs/multiqc_report.html"
   ]
  },
  {
   "cell_type": "code",
   "execution_count": null,
   "metadata": {},
   "outputs": [],
   "source": [
    "a = ! ls ../../data/$project/fastqs\n",
    "a"
   ]
  },
  {
   "cell_type": "code",
   "execution_count": null,
   "metadata": {},
   "outputs": [],
   "source": [
    "rename = {\n",
    "\"20201001_FLAG_DMSO_MP8262_S93\": \"mp881-MV411_MEF2D_NT_SC_63_DMSO-FLAG_MEF2D-r3\",\n",
    "\"20201001_FLAG_VHL_MP8262_S99\": \"mp882-MV411_MEF2D_NT_SC_63_VHL-FLAG_MEF2D-r1\",\n",
    "\"20201001_IRF8_DMSO_MP8262_S88\": \"mp883-MV411_MEF2D_NT_SC_63_DMSO-IFR8-r1\",\n",
    "\"20201001_IRF8_VHL_MP8262_S94\": \"mp884-MV411_MEF2D_NT_SC_63_VHL-IFR8-r1\",\n",
    "\"20201001_MED1_DMSO_MP8262_S91\": \"mp885-MV411_MEF2D_NT_SC_63_DMSO-MED1-r1\",\n",
    "\"20201001_MED1_VHL_MP8262_S97\": \"mp886-MV411_MEF2D_NT_SC_63_VHL-MED1-r1\",\n",
    "\"20201001_MEF2C_DMSO_MP8262_S90\": \"mp887-MV411_MEF2D_NT_SC_63_DMSO-MEF2C-r1\",\n",
    "\"20201001_MEF2C_VHL_MP8262_S96\": \"mp888-MV411_MEF2D_NT_SC_63_VHL-MEF2C-r1\",\n",
    "\"20201001_MYC_DMSO_MP8262_S89\": \"mp889-MV411_MEF2D_NT_SC_63_DMSO-MYC-r1\",\n",
    "\"20201001_MYC_VHL_MP8262_S95\": \"mp890-MV411_MEF2D_NT_SC_63_VHL-MYC-r1\",\n",
    "\"20201001_POL_II_Total_DMSO_MP8262_S92\": \"mp891-MV411_MEF2D_NT_SC_63_DMSO-POLII-r1\",\n",
    "\"20201001_POL_II_Total_VHL_MP8262_S98\": \"mp892-MV411_MEF2D_NT_SC_63_VHL-POLII-r1\",}"
   ]
  },
  {
   "cell_type": "code",
   "execution_count": null,
   "metadata": {},
   "outputs": [],
   "source": [
    "for val in a:\n",
    "    rep = val\n",
    "    for k,v in rename.items():\n",
    "        rep = rep.replace(k,v)\n",
    "    !mv ../../data/$project/fastqs/$val ../../data/$project/fastqs/$rep"
   ]
  },
  {
   "cell_type": "code",
   "execution_count": null,
   "metadata": {},
   "outputs": [],
   "source": [
    "from gsheets import Sheets\n",
    "sheets = Sheets.from_files('~/.client_secret.json', '~/.storage.json')\n",
    "url=\"https://docs.google.com/spreadsheets/d/1yFLjYB1McU530JnLgL0QIMAKIkVl3kl0_LCHje2gk8U\"\n",
    "gsheet = sheets.get(url).sheets[2].to_frame()"
   ]
  },
  {
   "cell_type": "code",
   "execution_count": null,
   "metadata": {},
   "outputs": [],
   "source": [
    "gsheet"
   ]
  },
  {
   "cell_type": "code",
   "execution_count": null,
   "metadata": {},
   "outputs": [],
   "source": [
    "a = ! ls ../../data/$project/fastqs\n",
    "a"
   ]
  },
  {
   "cell_type": "code",
   "execution_count": null,
   "metadata": {},
   "outputs": [],
   "source": [
    "df = {\n",
    "\"fastq_1\": [],\n",
    "\"fastq_2\": [],\n",
    "\"antibody\": [],\n",
    "\"group\": [],\n",
    "\"replicate\": [],\n",
    "\"control\": []\n",
    "}\n",
    "for val in h.grouped(a,2):\n",
    "    row = gsheet[gsheet.id==val[0].split('/')[-1].split('-')[0]]\n",
    "    df['group'].append(\"MV4\"+row['name'].values[0].split('-r')[0].split('-MV4')[1])\n",
    "    df['replicate'].append(row['name'].values[0].split('-r')[1])\n",
    "    df['fastq_1'].append(project+\"/fastqs/\"+val[0])\n",
    "    df['fastq_2'].append(project+\"/fastqs/\"+val[1])\n",
    "    df['antibody'].append(row['protein'].values[0])\n",
    "    df['control'].append(\"INPUT\")\n",
    "df['group'].append('INPUT')\n",
    "df['replicate'].append(1)\n",
    "df['fastq_1'].append('ref/mp845-MV411-INPUT-r2_R1.fastq.gz')\n",
    "df['fastq_2'].append('ref/mp845-MV411-INPUT-r2_R2.fastq.gz')\n",
    "df['antibody'].append(\"\")\n",
    "df['control'].append(\"\")\n",
    "df = pd.DataFrame(df)"
   ]
  },
  {
   "cell_type": "code",
   "execution_count": null,
   "metadata": {},
   "outputs": [],
   "source": [
    "df.loc[0].tolist()"
   ]
  },
  {
   "cell_type": "code",
   "execution_count": null,
   "metadata": {},
   "outputs": [],
   "source": [
    "cat ../nextflow/chipseq_MEF2D_degraded_design.csv"
   ]
  },
  {
   "cell_type": "code",
   "execution_count": null,
   "metadata": {},
   "outputs": [],
   "source": [
    "df[df.columns[[3,4,0,1,2,5]]].to_csv('../nextflow/'+project+'_design.csv',index=False)"
   ]
  },
  {
   "cell_type": "code",
   "execution_count": null,
   "metadata": {
    "scrolled": true
   },
   "outputs": [],
   "source": [
    "! cd ../../data/ && sudo ../nextflow log ## to get access to the previous runs"
   ]
  },
  {
   "cell_type": "code",
   "execution_count": null,
   "metadata": {},
   "outputs": [],
   "source": [
    "#process chips\n",
    "! cd ../../data/ && sudo ../nextflow run nf-core/chipseq --paired_end --seq_center 'DFCI' --email 'jkobject@gmail.com' --input ../AMLproject/nextflow/$project_design.csv --genome GRCh38 --skip_preseq --max_cpus 16 -profile docker -w work -resume exotic_bartik"
   ]
  },
  {
   "cell_type": "code",
   "execution_count": null,
   "metadata": {},
   "outputs": [],
   "source": [
    "! sudo mv ../../data/results/* ../../data/$project/ && sudo rm -r ..data/work"
   ]
  },
  {
   "cell_type": "code",
   "execution_count": null,
   "metadata": {},
   "outputs": [],
   "source": [
    "ls ../../TrimGalore-0.6.5/trim_galore"
   ]
  },
  {
   "cell_type": "code",
   "execution_count": null,
   "metadata": {},
   "outputs": [],
   "source": [
    "# get scaling values\n",
    "norm, mapped = h.getSpikeInControlScales(refgenome=\"../../data/ref/reference_droso.fna\",\n",
    "fastQfolder='../../data/'+project+'/fastqs/',\n",
    "pairedEnd=True, cores=12,\n",
    "tofilter=True,\n",
    "totrim=True,\n",
    "tomap=True,\n",
    "results=\"../../data/\"+project+\"/\",\n",
    "pathtotrim_galore=\"../../TrimGalore-0.6.5/trim_galore\")\n",
    "norm, mapped"
   ]
  },
  {
   "cell_type": "code",
   "execution_count": null,
   "metadata": {},
   "outputs": [],
   "source": [
    "mapped"
   ]
  },
  {
   "cell_type": "markdown",
   "metadata": {},
   "source": [
    "computing scales from the excel sheet"
   ]
  },
  {
   "cell_type": "code",
   "execution_count": null,
   "metadata": {},
   "outputs": [],
   "source": [
    "scales = [1.0,\n",
    "1.0,\n",
    "0.9644136372,\n",
    "0.9068238696,\n",
    "1.0,\n",
    "1.0,\n",
    "0.3954022974,\n",
    "0.8368988329,\n",
    "1.0,\n",
    "1.0,\n",
    "0.5551449949,\n",
    "0.844680746]"
   ]
  },
  {
   "cell_type": "code",
   "execution_count": null,
   "metadata": {
    "scrolled": true
   },
   "outputs": [],
   "source": [
    "bams = ! ls ../../data/$project/bwa/mergedLibrary/*.bam\n",
    "bams"
   ]
  },
  {
   "cell_type": "code",
   "execution_count": null,
   "metadata": {},
   "outputs": [],
   "source": [
    "bams[6]"
   ]
  },
  {
   "cell_type": "markdown",
   "metadata": {},
   "source": [
    "### on scalled data"
   ]
  },
  {
   "cell_type": "code",
   "execution_count": null,
   "metadata": {},
   "outputs": [],
   "source": [
    "! mkdir ../../data/$project/diffPeaks/ && ! mkdir ../../data/$project/diffData/"
   ]
  },
  {
   "cell_type": "code",
   "execution_count": null,
   "metadata": {},
   "outputs": [],
   "source": [
    "! mkdir ../../data/$project/droso_aligned"
   ]
  },
  {
   "cell_type": "code",
   "execution_count": null,
   "metadata": {},
   "outputs": [],
   "source": [
    "! mv ../../data/$project/mp* ../../data/$project/droso_aligned"
   ]
  },
  {
   "cell_type": "code",
   "execution_count": null,
   "metadata": {},
   "outputs": [],
   "source": [
    "wigs = ! ls ../../data/$project/bwa/mergedLibrary/bigwig/*.bigWig"
   ]
  },
  {
   "cell_type": "code",
   "execution_count": null,
   "metadata": {},
   "outputs": [],
   "source": [
    "initscales = ! cat ../../data/$project/bwa/mergedLibrary/bigwig/scale/*.txt"
   ]
  },
  {
   "cell_type": "code",
   "execution_count": null,
   "metadata": {},
   "outputs": [],
   "source": [
    "! ls ../../data/$project/bwa/mergedLibrary/bigwig/scale/*.txt"
   ]
  },
  {
   "cell_type": "code",
   "execution_count": null,
   "metadata": {},
   "outputs": [],
   "source": [
    "rescales = [val*float(initscales[1+i]) for i, val in enumerate(scales)]"
   ]
  },
  {
   "cell_type": "code",
   "execution_count": null,
   "metadata": {},
   "outputs": [],
   "source": [
    "rescales"
   ]
  },
  {
   "cell_type": "code",
   "execution_count": null,
   "metadata": {},
   "outputs": [],
   "source": [
    "chip.bigWigFrom(bams[1:], \n",
    "                genome='GRCh38',scaling=rescales,\n",
    "               numthreads=12)"
   ]
  },
  {
   "cell_type": "code",
   "execution_count": null,
   "metadata": {
    "scrolled": false
   },
   "outputs": [],
   "source": [
    "!mkdir ../../data/$project/recalib_bigwig/ && mv bigwig/* ../../data/$project/recalib_bigwig/"
   ]
  },
  {
   "cell_type": "code",
   "execution_count": null,
   "metadata": {},
   "outputs": [],
   "source": [
    "mv bigwig/* ../../data/$project/recalib_bigwig/"
   ]
  },
  {
   "cell_type": "code",
   "execution_count": null,
   "metadata": {},
   "outputs": [],
   "source": [
    "#! gsutil -m cp -r ../../data/$project/droso_aligned gs://amlproject/Chip/$project/\n",
    "! gsutil -m cp -r ../../data/$project/recalib_bigwig gs://amlproject/Chip/$project/"
   ]
  },
  {
   "cell_type": "code",
   "execution_count": null,
   "metadata": {},
   "outputs": [],
   "source": [
    "rm -r ../../data/$project/droso_aligned/"
   ]
  },
  {
   "cell_type": "code",
   "execution_count": null,
   "metadata": {
    "scrolled": true
   },
   "outputs": [],
   "source": [
    "# diffPeak on scaled data \n",
    "for i in range(int((len(bams)-1)/2)):\n",
    "    if i==4:\n",
    "        continue\n",
    "    name1 = bams[i+1]\n",
    "    name2 = bams[i+7]\n",
    "    print('\\n')\n",
    "    print(name1,name2)\n",
    "    print(chip.fullDiffPeak(name1, name2, control1=bams[0], res_directory=\"../../data/\"+project+\"/diffPeaks/\", scaling=[scales[i],scales[i+6]], directory=\"../../data/\"+project+'/diffData/'))"
   ]
  },
  {
   "cell_type": "code",
   "execution_count": null,
   "metadata": {
    "scrolled": true
   },
   "outputs": [],
   "source": [
    "os.popen('for i in $(ls ../../data/'+project+'/diffPeaks/*.bed); \\\n",
    "            do echo $(wc -l $i); \\\n",
    "            done').read().split('\\n')"
   ]
  },
  {
   "cell_type": "code",
   "execution_count": 316,
   "metadata": {
    "scrolled": true
   },
   "outputs": [
    {
     "data": {
      "text/plain": [
       "['../../data/chipseq_MEF2D_degraded/recalib_bigwig/MV411_MEF2D_NT_SC_63_DMSO-FLAG_MEF2D_R1.bw',\n",
       " '../../data/chipseq_MEF2D_degraded/recalib_bigwig/MV411_MEF2D_NT_SC_63_DMSO-IFR8_R1.bw',\n",
       " '../../data/chipseq_MEF2D_degraded/recalib_bigwig/MV411_MEF2D_NT_SC_63_DMSO-MED1_R1.bw',\n",
       " '../../data/chipseq_MEF2D_degraded/recalib_bigwig/MV411_MEF2D_NT_SC_63_DMSO-MEF2C_R1.bw',\n",
       " '../../data/chipseq_MEF2D_degraded/recalib_bigwig/MV411_MEF2D_NT_SC_63_DMSO-MYC_R1.bw',\n",
       " '../../data/chipseq_MEF2D_degraded/recalib_bigwig/MV411_MEF2D_NT_SC_63_DMSO-POLII_R1.bw',\n",
       " '../../data/chipseq_MEF2D_degraded/recalib_bigwig/MV411_MEF2D_NT_SC_63_VHL-FLAG_MEF2D_R1.bw',\n",
       " '../../data/chipseq_MEF2D_degraded/recalib_bigwig/MV411_MEF2D_NT_SC_63_VHL-IFR8_R1.bw',\n",
       " '../../data/chipseq_MEF2D_degraded/recalib_bigwig/MV411_MEF2D_NT_SC_63_VHL-MED1_R1.bw',\n",
       " '../../data/chipseq_MEF2D_degraded/recalib_bigwig/MV411_MEF2D_NT_SC_63_VHL-MEF2C_R1.bw',\n",
       " '../../data/chipseq_MEF2D_degraded/recalib_bigwig/MV411_MEF2D_NT_SC_63_VHL-MYC_R1.bw',\n",
       " '../../data/chipseq_MEF2D_degraded/recalib_bigwig/MV411_MEF2D_NT_SC_63_VHL-POLII_R1.bw']"
      ]
     },
     "execution_count": 316,
     "metadata": {},
     "output_type": "execute_result"
    }
   ],
   "source": [
    "bw = ! ls ../../data/$project/recalib_bigwig/*\n",
    "bw"
   ]
  },
  {
   "cell_type": "code",
   "execution_count": null,
   "metadata": {},
   "outputs": [],
   "source": [
    "!mkdir ../results/$project/\n",
    "!mkdir ../results/$project/plots\n",
    "!mkdir ../results/$project/plots/heatmaps/"
   ]
  },
  {
   "cell_type": "code",
   "execution_count": 299,
   "metadata": {},
   "outputs": [
    {
     "data": {
      "text/plain": [
       "['../../data/chipseq_MEF2D_degraded/bwa/mergedLibrary/macs/broadPeak/MV411_MEF2D_NT_SC_63_DMSO-FLAG_MEF2D_R1_peaks.broadPeak',\n",
       " '../../data/chipseq_MEF2D_degraded/bwa/mergedLibrary/macs/broadPeak/MV411_MEF2D_NT_SC_63_DMSO-IFR8_R1_peaks.broadPeak',\n",
       " '../../data/chipseq_MEF2D_degraded/bwa/mergedLibrary/macs/broadPeak/MV411_MEF2D_NT_SC_63_DMSO-MED1_R1_peaks.broadPeak',\n",
       " '../../data/chipseq_MEF2D_degraded/bwa/mergedLibrary/macs/broadPeak/MV411_MEF2D_NT_SC_63_DMSO-MEF2C_R1_peaks.broadPeak',\n",
       " '../../data/chipseq_MEF2D_degraded/bwa/mergedLibrary/macs/broadPeak/MV411_MEF2D_NT_SC_63_DMSO-MYC_R1_peaks.broadPeak',\n",
       " '../../data/chipseq_MEF2D_degraded/bwa/mergedLibrary/macs/broadPeak/MV411_MEF2D_NT_SC_63_DMSO-POLII_R1_peaks.broadPeak',\n",
       " '../../data/chipseq_MEF2D_degraded/bwa/mergedLibrary/macs/broadPeak/MV411_MEF2D_NT_SC_63_VHL-FLAG_MEF2D_R1_peaks.broadPeak',\n",
       " '../../data/chipseq_MEF2D_degraded/bwa/mergedLibrary/macs/broadPeak/MV411_MEF2D_NT_SC_63_VHL-IFR8_R1_peaks.broadPeak',\n",
       " '../../data/chipseq_MEF2D_degraded/bwa/mergedLibrary/macs/broadPeak/MV411_MEF2D_NT_SC_63_VHL-MED1_R1_peaks.broadPeak',\n",
       " '../../data/chipseq_MEF2D_degraded/bwa/mergedLibrary/macs/broadPeak/MV411_MEF2D_NT_SC_63_VHL-MEF2C_R1_peaks.broadPeak',\n",
       " '../../data/chipseq_MEF2D_degraded/bwa/mergedLibrary/macs/broadPeak/MV411_MEF2D_NT_SC_63_VHL-MYC_R1_peaks.broadPeak',\n",
       " '../../data/chipseq_MEF2D_degraded/bwa/mergedLibrary/macs/broadPeak/MV411_MEF2D_NT_SC_63_VHL-POLII_R1_peaks.broadPeak']"
      ]
     },
     "execution_count": 299,
     "metadata": {},
     "output_type": "execute_result"
    }
   ],
   "source": [
    "peaks = ! ls ../../data/$project/bwa/mergedLibrary/macs/broadPeak/*.broadPeak\n",
    "peaks"
   ]
  },
  {
   "cell_type": "code",
   "execution_count": 323,
   "metadata": {},
   "outputs": [
    {
     "name": "stdout",
     "output_type": "stream",
     "text": [
      "   17422 ../../data/chipseq_MEF2D_degraded/bwa/mergedLibrary/macs/broadPeak/MV411_MEF2D_NT_SC_63_DMSO-FLAG_MEF2D_R1_peaks.broadPeak\n",
      "   33645 ../../data/chipseq_MEF2D_degraded/bwa/mergedLibrary/macs/broadPeak/MV411_MEF2D_NT_SC_63_DMSO-IFR8_R1_peaks.broadPeak\n",
      "    9513 ../../data/chipseq_MEF2D_degraded/bwa/mergedLibrary/macs/broadPeak/MV411_MEF2D_NT_SC_63_DMSO-MED1_R1_peaks.broadPeak\n",
      "   78105 ../../data/chipseq_MEF2D_degraded/bwa/mergedLibrary/macs/broadPeak/MV411_MEF2D_NT_SC_63_DMSO-MEF2C_R1_peaks.broadPeak\n",
      "   58469 ../../data/chipseq_MEF2D_degraded/bwa/mergedLibrary/macs/broadPeak/MV411_MEF2D_NT_SC_63_DMSO-MYC_R1_peaks.broadPeak\n",
      "   44301 ../../data/chipseq_MEF2D_degraded/bwa/mergedLibrary/macs/broadPeak/MV411_MEF2D_NT_SC_63_DMSO-POLII_R1_peaks.broadPeak\n",
      "    9620 ../../data/chipseq_MEF2D_degraded/bwa/mergedLibrary/macs/broadPeak/MV411_MEF2D_NT_SC_63_VHL-FLAG_MEF2D_R1_peaks.broadPeak\n",
      "   75440 ../../data/chipseq_MEF2D_degraded/bwa/mergedLibrary/macs/broadPeak/MV411_MEF2D_NT_SC_63_VHL-IFR8_R1_peaks.broadPeak\n",
      "   11893 ../../data/chipseq_MEF2D_degraded/bwa/mergedLibrary/macs/broadPeak/MV411_MEF2D_NT_SC_63_VHL-MED1_R1_peaks.broadPeak\n",
      "   11594 ../../data/chipseq_MEF2D_degraded/bwa/mergedLibrary/macs/broadPeak/MV411_MEF2D_NT_SC_63_VHL-MEF2C_R1_peaks.broadPeak\n",
      "   65644 ../../data/chipseq_MEF2D_degraded/bwa/mergedLibrary/macs/broadPeak/MV411_MEF2D_NT_SC_63_VHL-MYC_R1_peaks.broadPeak\n",
      "   46308 ../../data/chipseq_MEF2D_degraded/bwa/mergedLibrary/macs/broadPeak/MV411_MEF2D_NT_SC_63_VHL-POLII_R1_peaks.broadPeak\n",
      "  461954 total\n"
     ]
    }
   ],
   "source": [
    "! wc -l ../../data/$project/bwa/mergedLibrary/macs/broadPeak/*.broadPeak"
   ]
  },
  {
   "cell_type": "code",
   "execution_count": 300,
   "metadata": {},
   "outputs": [],
   "source": [
    "names = [\"FLAG_MEF2D\",\n",
    "\"IFR8\",\n",
    "\"MED1\",\n",
    "\"MEF2C\",\n",
    "\"MYC\",\n",
    "\"POLII\"]"
   ]
  },
  {
   "cell_type": "markdown",
   "metadata": {},
   "source": [
    "#### merging peaks VHL/DMSO"
   ]
  },
  {
   "cell_type": "code",
   "execution_count": 281,
   "metadata": {},
   "outputs": [
    {
     "name": "stdout",
     "output_type": "stream",
     "text": [
      "FLAG_MEF2D\n",
      "IFR8992604097330087655\n",
      "MED1998166567355735457\n",
      "MEF2C90656825189295454\n",
      "MYC9997770320739374655\n",
      "POLII98388565259086555\n",
      "0.99997792713748087667\r"
     ]
    }
   ],
   "source": [
    "mpeaks = []\n",
    "for i, val in enumerate(names):\n",
    "    if i<0:\n",
    "        continue\n",
    "    print(val)\n",
    "    dmso = peaks[i]\n",
    "    vhl = peaks[i+6]\n",
    "    chip.simpleMergePeaks(pd.concat([chip.loadPeaks(dmso), chip.loadPeaks(vhl)])).to_csv('../../data/' + project + '/' + val + '_genomewide_merged.bed', sep='\\t', header=False, index=False)\n",
    "    mpeaks.append('../results/'+project+'/'+val+'_genomewide_merged.bed')"
   ]
  },
  {
   "cell_type": "markdown",
   "metadata": {},
   "source": [
    "#### GENOME WIDE comparison"
   ]
  },
  {
   "cell_type": "code",
   "execution_count": null,
   "metadata": {},
   "outputs": [],
   "source": [
    "! mkdir ../../data/$project/peakplot/"
   ]
  },
  {
   "cell_type": "code",
   "execution_count": 304,
   "metadata": {
    "scrolled": true
   },
   "outputs": [
    {
     "name": "stdout",
     "output_type": "stream",
     "text": [
      "FLAG_MEF2D_DMSO\n",
      "CompletedProcess(args='computeMatrix reference-point -S ../../data/chipseq_MEF2D_degraded/recalib_bigwig/MV411_MEF2D_NT_SC_63_DMSO-FLAG_MEF2D_R1.bw  --referencePoint center --regionsFileName ../../data/chipseq_MEF2D_degraded/FLAG_MEF2D_genomewide_merged.bed  --missingDataAsZero --outFileName ../results/chipseq_MEF2D_degraded/peakplot/FLAG_MEF2D_DMSO_mat.gz --upstream 10000 --downstream 10000 --numberOfProcessors 8 && plotHeatmap --matrixFile ../results/chipseq_MEF2D_degraded/peakplot/FLAG_MEF2D_DMSO_mat.gz --outFileName ../results/chipseq_MEF2D_degraded/peakplot/FLAG_MEF2D_DMSO_mat.pdf --refPointLabel center --legendLocation lower-left --regionsLabel Macs2_Peaks --plotTitle FLAG_MEF2D_DMSO', returncode=0, stdout=b'', stderr=b'')\n",
      "FLAG_MEF2D_VHL\n",
      "CompletedProcess(args='computeMatrix reference-point -S ../../data/chipseq_MEF2D_degraded/recalib_bigwig/MV411_MEF2D_NT_SC_63_VHL-FLAG_MEF2D_R1.bw  --referencePoint center --regionsFileName ../../data/chipseq_MEF2D_degraded/FLAG_MEF2D_genomewide_merged.bed  --missingDataAsZero --outFileName ../results/chipseq_MEF2D_degraded/peakplot/FLAG_MEF2D_VHL_mat.gz --upstream 10000 --downstream 10000 --numberOfProcessors 8 && plotHeatmap --matrixFile ../results/chipseq_MEF2D_degraded/peakplot/FLAG_MEF2D_VHL_mat.gz --outFileName ../results/chipseq_MEF2D_degraded/peakplot/FLAG_MEF2D_VHL_mat.pdf --refPointLabel center --legendLocation lower-left --regionsLabel Macs2_Peaks --plotTitle FLAG_MEF2D_VHL', returncode=0, stdout=b'', stderr=b'')\n"
     ]
    }
   ],
   "source": [
    "for i, val in enumerate(bw):\n",
    "    if 'FLAG_MEF2D' not in val:\n",
    "        continue\n",
    "    name = names[i%6]+'_VHL' if i//6 else names[i]+'_DMSO' \n",
    "    print(name)\n",
    "    chip.getPeaksAt(mpeaks[i%6], bigwigs = val, bigwignames= name, peaknames=['Macs2_Peaks'], window=10000, folder=\"\", title=name, numthreads=8, refpoint=\"center\", name='../results/'+project+'/peakplot/'+name+'_mat.pdf', withDeeptools=True, torecompute=True, legendLoc=\"lower-left\")"
   ]
  },
  {
   "cell_type": "code",
   "execution_count": 320,
   "metadata": {},
   "outputs": [],
   "source": [
    "bw2 = pyBigWig.open(bw[0])\n",
    "bw3 = pyBigWig.open(bw[6])"
   ]
  },
  {
   "cell_type": "code",
   "execution_count": 322,
   "metadata": {},
   "outputs": [
    {
     "name": "stdout",
     "output_type": "stream",
     "text": [
      "chr1 2.611070575835059\n",
      "chr2 2.4901163207984234\n",
      "chr3 2.4801099275465734\n",
      "chr4 2.4046128304624106\n",
      "chr5 2.4999072446097435\n",
      "chr6 2.4723981729760176\n",
      "chr7 2.514884676701047\n",
      "chr8 2.5006485543124986\n",
      "chr9 2.554669342479402\n",
      "chr10 2.57380663667191\n",
      "chr11 2.5701022460928846\n",
      "chr12 2.5309609638187465\n",
      "chr13 2.4343115717513713\n",
      "chr14 2.5256848197384425\n",
      "chr15 2.614732885412992\n",
      "chr16 2.6951350772179152\n",
      "chr17 2.748031964143029\n",
      "chr18 2.5028350607921577\n",
      "chr19 2.792826910971921\n",
      "chr20 2.6755122365854462\n",
      "chr21 2.5366003250246623\n",
      "chr22 2.862325806184859\n",
      "chrX 2.4929401855474818\n",
      "chrY 2.3923627850482263\n",
      "chrM 0.9541127202735519\n",
      "chr1_KI270706v1_random 2.5483069713362543\n",
      "chr1_KI270707v1_random 2.850650543004876\n",
      "chr1_KI270708v1_random 2.816532402670448\n",
      "chr1_KI270709v1_random 2.8584104563145685\n",
      "chr1_KI270710v1_random 2.640047776360591\n",
      "chr1_KI270711v1_random 2.643456246664242\n",
      "chr1_KI270712v1_random 3.1880690681864174\n",
      "chr1_KI270713v1_random 2.659413091406852\n",
      "chr1_KI270714v1_random 2.93584453684882\n",
      "chr2_KI270715v1_random 1.922873981073958\n",
      "chr2_KI270716v1_random 2.012744195067605\n",
      "chr3_GL000221v1_random 2.574129293468957\n",
      "chr4_GL000008v2_random 2.631830407269542\n",
      "chr5_GL000208v1_random 2.378442497402709\n",
      "chr9_KI270717v1_random 2.0436659214861748\n",
      "chr9_KI270718v1_random 2.5696979285450814\n",
      "chr9_KI270719v1_random 2.247290880735065\n",
      "chr9_KI270720v1_random 2.421899405398131\n",
      "chr11_KI270721v1_random 3.8878400488517153\n",
      "chr14_GL000009v2_random 2.54278152440795\n",
      "chr14_GL000225v1_random 2.9422252756615754\n",
      "chr14_KI270722v1_random 2.6182313016800878\n",
      "chr14_GL000194v1_random 2.6695956634129407\n",
      "chr14_KI270723v1_random 2.7934096522664698\n",
      "chr14_KI270724v1_random 2.936674497850635\n",
      "chr14_KI270725v1_random 2.4134310674013224\n",
      "chr14_KI270726v1_random 2.4797141923062256\n",
      "chr15_KI270727v1_random 2.5111724679039353\n",
      "chr16_KI270728v1_random 2.5422694304321767\n",
      "chr17_GL000205v2_random 2.7637280998547795\n",
      "chr17_KI270729v1_random 2.415732136793215\n",
      "chr17_KI270730v1_random 2.489543700686665\n",
      "chr22_KI270731v1_random 2.386439971280879\n",
      "chr22_KI270732v1_random 2.331374905832516\n",
      "chr22_KI270733v1_random 3.8070020111228415\n",
      "chr22_KI270734v1_random 3.24712588092005\n",
      "chr22_KI270735v1_random 2.1574957228984806\n",
      "chr22_KI270736v1_random 2.58607950482733\n",
      "chr22_KI270737v1_random 2.6650570972307106\n",
      "chr22_KI270738v1_random 2.518776514162581\n",
      "chr22_KI270739v1_random 2.6824445666639427\n",
      "chrY_KI270740v1_random 2.512447509532044\n",
      "chrUn_KI270302v1 2.2319739628714235\n",
      "chrUn_KI270304v1 1.7106971958250432\n",
      "chrUn_KI270303v1 1.6503847661591655\n",
      "chrUn_KI270305v1 2.242621156360873\n",
      "chrUn_KI270322v1 3.269146985821155\n",
      "chrUn_KI270320v1 2.513437328320645\n",
      "chrUn_KI270310v1 2.430547058338298\n",
      "chrUn_KI270316v1 1.4557008062043333\n",
      "chrUn_KI270315v1 2.7255316560468157\n"
     ]
    },
    {
     "ename": "ZeroDivisionError",
     "evalue": "float division by zero",
     "output_type": "error",
     "traceback": [
      "\u001b[0;31m------------------------------------------------------\u001b[0m",
      "\u001b[0;31mZeroDivisionError\u001b[0m    Traceback (most recent call last)",
      "\u001b[0;32m<ipython-input-322-19c5366e8805>\u001b[0m in \u001b[0;36m<module>\u001b[0;34m\u001b[0m\n\u001b[1;32m      1\u001b[0m \u001b[0;32mfor\u001b[0m \u001b[0mi\u001b[0m\u001b[0;34m,\u001b[0m\u001b[0mv\u001b[0m \u001b[0;32min\u001b[0m \u001b[0mbw1\u001b[0m\u001b[0;34m.\u001b[0m\u001b[0mitems\u001b[0m\u001b[0;34m(\u001b[0m\u001b[0;34m)\u001b[0m\u001b[0;34m:\u001b[0m\u001b[0;34m\u001b[0m\u001b[0;34m\u001b[0m\u001b[0m\n\u001b[0;32m----> 2\u001b[0;31m     \u001b[0mprint\u001b[0m\u001b[0;34m(\u001b[0m\u001b[0mi\u001b[0m\u001b[0;34m,\u001b[0m\u001b[0mbw2\u001b[0m\u001b[0;34m.\u001b[0m\u001b[0mstats\u001b[0m\u001b[0;34m(\u001b[0m\u001b[0mi\u001b[0m\u001b[0;34m)\u001b[0m\u001b[0;34m[\u001b[0m\u001b[0;36m0\u001b[0m\u001b[0;34m]\u001b[0m\u001b[0;34m/\u001b[0m\u001b[0mbw3\u001b[0m\u001b[0;34m.\u001b[0m\u001b[0mstats\u001b[0m\u001b[0;34m(\u001b[0m\u001b[0mi\u001b[0m\u001b[0;34m)\u001b[0m\u001b[0;34m[\u001b[0m\u001b[0;36m0\u001b[0m\u001b[0;34m]\u001b[0m\u001b[0;34m)\u001b[0m\u001b[0;34m\u001b[0m\u001b[0;34m\u001b[0m\u001b[0m\n\u001b[0m",
      "\u001b[0;31mZeroDivisionError\u001b[0m: float division by zero"
     ]
    }
   ],
   "source": [
    "for i,v in bw1.items():\n",
    "    print(i,bw2.stats(i)[0]/bw3.stats(i)[0])"
   ]
  },
  {
   "cell_type": "markdown",
   "metadata": {},
   "source": [
    "#### making overlapping profiles"
   ]
  },
  {
   "cell_type": "code",
   "execution_count": 306,
   "metadata": {},
   "outputs": [
    {
     "name": "stdout",
     "output_type": "stream",
     "text": [
      "FLAG_MEF2D\n",
      "CompletedProcess(args='computeMatrixOperations relabel -m ../results/chipseq_MEF2D_degraded/peakplot/FLAG_MEF2D_DMSO_mat.gz -o ../results/chipseq_MEF2D_degraded/peakplot/FLAG_MEF2D_DMSO_mat.gz --groupLabels DMSO && computeMatrixOperations relabel -m ../results/chipseq_MEF2D_degraded/peakplot/FLAG_MEF2D_VHL_mat.gz -o ../results/chipseq_MEF2D_degraded/peakplot/FLAG_MEF2D_VHL_mat.gz --groupLabels VHL && computeMatrixOperations rbind -m ../results/chipseq_MEF2D_degraded/peakplot/FLAG_MEF2D_DMSO_mat.gz ../results/chipseq_MEF2D_degraded/peakplot/FLAG_MEF2D_VHL_mat.gz -o ../results/chipseq_MEF2D_degraded/FLAG_MEF2D_combined_mat.gz && plotProfile --matrixFile ../results/chipseq_MEF2D_degraded/FLAG_MEF2D_combined_mat.gz --outFileName ../results/chipseq_MEF2D_degraded/FLAG_MEF2D_combined_mat.pdf --refPointLabel center --legendLocation lower-left --plotTitle FLAG_MEF2D', returncode=0, stdout=b'', stderr=b'')\n"
     ]
    }
   ],
   "source": [
    "for i, val in enumerate(names):\n",
    "    if i >0:\n",
    "        continue\n",
    "    val1 = '../results/'+project+'/peakplot/' + val + '_DMSO_mat.gz'\n",
    "    val2 = '../results/'+project+'/peakplot/' + val + '_VHL_mat.gz'\n",
    "    print(val)\n",
    "    chip.makeProfiles(matx=[val1,val2], matnames=['DMSO','VHL'], title=val, refpoint=\"center\", name='../results/'+project+'/'+val+'_combined_mat.pdf', legendLoc=\"lower-left\",)"
   ]
  },
  {
   "cell_type": "code",
   "execution_count": null,
   "metadata": {
    "scrolled": true
   },
   "outputs": [],
   "source": [
    "cond1peak = ! ls ../../data/$project/diffPeaks/*cond1.bed\n",
    "cond2peak = ! ls ../../data/$project/diffPeaks/*cond2.bed\n",
    "commonpeak = ! ls ../../data/$project/diffPeaks/*common.bed\n",
    "cond1peak"
   ]
  },
  {
   "cell_type": "code",
   "execution_count": null,
   "metadata": {
    "scrolled": true
   },
   "outputs": [],
   "source": [
    "for i in range(int(len(bw)/2)):\n",
    "    if i <0:\n",
    "        continue\n",
    "    cl = len(bw)\n",
    "    name1 = bw[i]\n",
    "    name2 = bw[i+6]\n",
    "    peak = [cond1peak[i], commonpeak[i], cond2peak[i]]\n",
    "   # for val in peak:\n",
    "      #  chip.dropWeirdChromosomes(val)\n",
    "    name = names[i]\n",
    "    print(name1,name2)\n",
    "    chip.getPeaksAt(peak, [name1, name2], bigwignames=['DMSO', 'VHL'], peaknames=['DMSO_peaks', 'common', 'VHL_peaks'], window=3000, folder=\"\", title=name, numthreads=7, refpoint=\"center\", name='../../data/'+project+'/diffPeaks/'+name+'_mat.pdf', withDeeptools=True, torecompute=True)"
   ]
  },
  {
   "cell_type": "code",
   "execution_count": null,
   "metadata": {
    "scrolled": true
   },
   "outputs": [],
   "source": [
    "#h.createFoldersFor('../results/'+project+'/plots/scaled/diffPeaks/')\n",
    "! cp ../../data/$project/diffPeaks/*.pdf ../results/$project/plots/scaled/diffPeaks/"
   ]
  },
  {
   "cell_type": "code",
   "execution_count": null,
   "metadata": {},
   "outputs": [],
   "source": [
    "!cp ../../data/$project/peakplot/*_mat.pdf ../results/$project/plots/scaled/"
   ]
  },
  {
   "cell_type": "markdown",
   "metadata": {},
   "source": [
    "#### looking at TSS"
   ]
  },
  {
   "cell_type": "code",
   "execution_count": 11,
   "metadata": {},
   "outputs": [
    {
     "name": "stderr",
     "output_type": "stream",
     "text": [
      "/home/jeremie/.local/lib/python3.8/site-packages/IPython/core/interactiveshell.py:3062: DtypeWarning: Columns (6) have mixed types.Specify dtype option on import or set low_memory=False.\n",
      "  has_raised = await self.run_ast_nodes(code_ast.body, cell_name,\n"
     ]
    }
   ],
   "source": [
    "server = BiomartServer( \"http://www.ensembl.org/biomart\" )\n",
    "ensembl = server.datasets['hsapiens_gene_ensembl']\n",
    "ensembltss = pd.read_csv(io.StringIO(ensembl.search({\n",
    "  'attributes': ['ensembl_gene_id','gene_biotype', \"transcription_start_site\", \"3_utr_start\",\"start_position\",\"external_gene_name\", 'chromosome_name']\n",
    "}, header=1).content.decode()), sep='\\t')"
   ]
  },
  {
   "cell_type": "code",
   "execution_count": null,
   "metadata": {},
   "outputs": [],
   "source": [
    "ensmbl.show_attributes_by_page()"
   ]
  },
  {
   "cell_type": "code",
   "execution_count": 12,
   "metadata": {
    "scrolled": true
   },
   "outputs": [
    {
     "data": {
      "text/plain": [
       "'# Filtered by: padj <=0.05 in SLAM-seq at 2 or 24 hours, basemean>10, log2FC SLAM at 2 hours <-0.2'"
      ]
     },
     "execution_count": 12,
     "metadata": {},
     "output_type": "execute_result"
    }
   ],
   "source": [
    "MEF2Dtargets = h.fileToList('../results/slamseqMax/MEF2Dtargets.txt')\n",
    "MEF2Dtargets.pop(0)"
   ]
  },
  {
   "cell_type": "code",
   "execution_count": 133,
   "metadata": {},
   "outputs": [],
   "source": [
    "peaksVHL = pd.read_csv('../../data/chipseq_MEF2D_degraded/diffPeaks/MV411_MEF2D_NT_SC_63_DMSO-POLII_R1_treat_pileup_vs_MV411_MEF2D_NT_SC_63_VHL-POLII_R1_treat_pileup_c3.0_cond2.bed', sep='\\t',header=None, skiprows=1, names=['chrom','start','end','name','score'])\n",
    "peaksVHL['chrom']= [i[3:] for i in peaksVHL['chrom']]\n",
    "peaksVHL[['start','end']] = peaksVHL[['start','end']].astype(int)"
   ]
  },
  {
   "cell_type": "code",
   "execution_count": 135,
   "metadata": {},
   "outputs": [],
   "source": [
    "peaksDMSO = pd.read_csv('../../data/chipseq_MEF2D_degraded/diffPeaks/MV411_MEF2D_NT_SC_63_DMSO-POLII_R1_treat_pileup_vs_MV411_MEF2D_NT_SC_63_VHL-POLII_R1_treat_pileup_c3.0_cond1.bed', sep='\\t', header=None, skiprows=1, names=['chrom','start','end','name','score'])\n",
    "peaksDMSO['chrom']= [i[3:] for i in peaksDMSO['chrom']]\n",
    "peaksDMSO[['start','end']] = peaksDMSO[['start','end']].astype(int)"
   ]
  },
  {
   "cell_type": "code",
   "execution_count": 136,
   "metadata": {},
   "outputs": [],
   "source": [
    "peakcommon = pd.read_csv('../../data/chipseq_MEF2D_degraded/diffPeaks/MV411_MEF2D_NT_SC_63_DMSO-POLII_R1_treat_pileup_vs_MV411_MEF2D_NT_SC_63_VHL-POLII_R1_treat_pileup_c3.0_common.bed', sep='\\t',header=None, skiprows=1, names=['chrom','start','end','name','score'])\n",
    "peakcommon['chrom']= [i[3:] for i in peakcommon['chrom']]\n",
    "peakcommon[['start','end']] = peakcommon[['start','end']].astype(int)"
   ]
  },
  {
   "cell_type": "code",
   "execution_count": 16,
   "metadata": {},
   "outputs": [],
   "source": [
    "ensembltss['Chromosome/scaffold name'] = ensembltss['Chromosome/scaffold name'].astype(str)\n",
    "ensembltss = ensembltss[ensembltss['Chromosome/scaffold name'].isin(['1', '10', '11', '12', '13', '14', '15', '16', '17', '18', '19', '2', '20', '21', '22', '3', '4', '5', '6', '7', '8', '9','X','Y'])]\n",
    "ensembltss = ensembltss.drop_duplicates('Gene start (bp)')\n",
    "ensembltss = ensembltss.reset_index(drop=True)\n",
    "ensembltss = ensembltss.astype(str)\n",
    "ensembltss['loci'] = ensembltss['Transcription start site (TSS)'].astype(int)\n",
    "ensembltss['chrom'] = ensembltss['Chromosome/scaffold name']\n",
    "ensembltss = ensembltss.sort_values(by=['chrom','loci']).reset_index(drop=True)"
   ]
  },
  {
   "cell_type": "code",
   "execution_count": 143,
   "metadata": {},
   "outputs": [
    {
     "name": "stdout",
     "output_type": "stream",
     "text": [
      "100%\r"
     ]
    }
   ],
   "source": [
    "chip.substractPeaksTo(peaksDMSO, ensembltss).to_csv('../../data/'+project+'/diffPeaks/polII_DMSO_TSSonly.bed',sep='\\t',index=None,header=False)\n",
    "chip.substractPeaksTo(peakcommon, ensembltss).to_csv('../../data/'+project+'/diffPeaks/polII_common_TSSonly.bed',sep='\\t',index=None,header=False)\n",
    "chip.substractPeaksTo(peaksVHL, ensembltss).to_csv('../../data/'+project+'/diffPeaks/polII_VHL_TSSonly.bed',sep='\\t',index=None,header=False)"
   ]
  },
  {
   "cell_type": "code",
   "execution_count": 144,
   "metadata": {},
   "outputs": [
    {
     "name": "stdout",
     "output_type": "stream",
     "text": [
      "CompletedProcess(args='computeMatrix reference-point -S ../../data/chipseq_MEF2D_degraded/recalib_bigwig/MV411_MEF2D_NT_SC_63_DMSO-POLII_R1.bw ../../data/chipseq_MEF2D_degraded/recalib_bigwig/MV411_MEF2D_NT_SC_63_VHL-POLII_R1.bw  --referencePoint center --regionsFileName ../../data/chipseq_MEF2D_degraded/diffPeaks/polII_DMSO_TSSonly.bed ../../data/chipseq_MEF2D_degraded/diffPeaks/polII_common_TSSonly.bed ../../data/chipseq_MEF2D_degraded/diffPeaks/polII_VHL_TSSonly.bed --missingDataAsZero --outFileName ../../data/chipseq_MEF2D_degraded/diffPeaks/polII_with_IRF8_degron_mat.gz --upstream 3000 --downstream 3000 --numberOfProcessors 4 && plotHeatmap --matrixFile ../../data/chipseq_MEF2D_degraded/diffPeaks/polII_with_IRF8_degron_mat.gz --outFileName ../../data/chipseq_MEF2D_degraded/diffPeaks/polII_with_IRF8_degron_mat.pdf --refPointLabel center --legendLocation lower-left --regionsLabel DMSO common VHL --plotTitle polII_with_IRF8_degron', returncode=0, stdout=b'', stderr=b\"One of the groups defined in the bed file is too small.\\nGroups that are too small can't be plotted. \\nWARNING: Group 'polII_VHL_TSSonly.bed' is too small for plotting, you might want to remove it. There will likely be an error message from matplotlib regarding this below.\\n\")\n"
     ]
    }
   ],
   "source": [
    "chip.getPeaksAt(['../../data/'+project+'/diffPeaks/polII_DMSO_TSSonly.bed', '../../data/'+project+'/diffPeaks/polII_common_TSSonly.bed', '../../data/'+project+'/diffPeaks/polII_VHL_TSSonly.bed'],\n",
    "                bigwigs = ['../../data/' + project + '/recalib_bigwig/MV411_MEF2D_NT_SC_63_DMSO-POLII_R1.bw', '../../data/' + project + '/recalib_bigwig/MV411_MEF2D_NT_SC_63_VHL-POLII_R1.bw'], \n",
    "                bigwignames= ['IRF8_DMSO', 'IRF8_VHL'], \n",
    "                peaknames=['DMSO','common','VHL'], window=3000, folder=\"\", title='polII_with_IRF8_degron', numthreads=4, \n",
    "                refpoint=\"center\", \n",
    "                name='../../data/'+project+'/diffPeaks/polII_with_IRF8_degron_mat.pdf', \n",
    "                withDeeptools=True, torecompute=True, legendLoc=\"lower-left\")"
   ]
  },
  {
   "cell_type": "code",
   "execution_count": 151,
   "metadata": {},
   "outputs": [],
   "source": [
    "MEF2Dtss = ensembltss[ensembltss['Gene name'].isin(MEF2Dtargets)].reset_index(drop=True)"
   ]
  },
  {
   "cell_type": "code",
   "execution_count": 186,
   "metadata": {},
   "outputs": [],
   "source": [
    "a = ! wc -l ../../data/$project/diffPeaks/polII_DMSO_TSSonly.bed "
   ]
  },
  {
   "cell_type": "code",
   "execution_count": 187,
   "metadata": {},
   "outputs": [
    {
     "data": {
      "text/plain": [
       "(0.09885075322255009, 12878)"
      ]
     },
     "execution_count": 187,
     "metadata": {},
     "output_type": "execute_result"
    }
   ],
   "source": [
    "int(a[0].split(' ')[0])/len(peaksDMSO), len(peaksDMSO)"
   ]
  },
  {
   "cell_type": "code",
   "execution_count": 159,
   "metadata": {
    "scrolled": true
   },
   "outputs": [
    {
     "name": "stdout",
     "output_type": "stream",
     "text": [
      "100%\r"
     ]
    },
    {
     "data": {
      "text/plain": [
       "0.04556166535742341"
      ]
     },
     "execution_count": 159,
     "metadata": {},
     "output_type": "execute_result"
    }
   ],
   "source": [
    "len(chip.substractPeaksTo(peaksDMSO, MEF2Dtss))/int(a[0].split(' ')[0])"
   ]
  },
  {
   "cell_type": "code",
   "execution_count": 184,
   "metadata": {},
   "outputs": [],
   "source": [
    "a = ! wc -l ../../data/$project/diffPeaks/polII_common_TSSonly.bed "
   ]
  },
  {
   "cell_type": "code",
   "execution_count": 185,
   "metadata": {},
   "outputs": [
    {
     "data": {
      "text/plain": [
       "(0.12313008844374158, 85365)"
      ]
     },
     "execution_count": 185,
     "metadata": {},
     "output_type": "execute_result"
    }
   ],
   "source": [
    "int(a[0].split(' ')[0])/ len(peakcommon),  len(peakcommon)"
   ]
  },
  {
   "cell_type": "code",
   "execution_count": 161,
   "metadata": {},
   "outputs": [
    {
     "name": "stdout",
     "output_type": "stream",
     "text": [
      "100%\r"
     ]
    },
    {
     "data": {
      "text/plain": [
       "0.006849966701550757"
      ]
     },
     "execution_count": 161,
     "metadata": {},
     "output_type": "execute_result"
    }
   ],
   "source": [
    "len(chip.substractPeaksTo(peakcommon, MEF2Dtss))/int(a[0].split(' ')[0])"
   ]
  },
  {
   "cell_type": "code",
   "execution_count": 181,
   "metadata": {},
   "outputs": [],
   "source": [
    "a = ! wc -l ../../data/$project/diffPeaks/polII_VHL_TSSonly.bed "
   ]
  },
  {
   "cell_type": "code",
   "execution_count": 183,
   "metadata": {},
   "outputs": [
    {
     "data": {
      "text/plain": [
       "(0.05641025641025641, 390)"
      ]
     },
     "execution_count": 183,
     "metadata": {},
     "output_type": "execute_result"
    }
   ],
   "source": [
    "int(a[0].split(' ')[0])/len(peaksVHL),  len(peaksVHL)"
   ]
  },
  {
   "cell_type": "code",
   "execution_count": 163,
   "metadata": {
    "scrolled": true
   },
   "outputs": [
    {
     "name": "stdout",
     "output_type": "stream",
     "text": [
      "100%\r"
     ]
    },
    {
     "data": {
      "text/plain": [
       "0.0"
      ]
     },
     "execution_count": 163,
     "metadata": {},
     "output_type": "execute_result"
    }
   ],
   "source": [
    "len(chip.substractPeaksTo(peaksVHL, MEF2Dtss))/int(a[0].split(' ')[0])"
   ]
  },
  {
   "cell_type": "markdown",
   "metadata": {},
   "source": [
    "### on unscalled data"
   ]
  },
  {
   "cell_type": "code",
   "execution_count": null,
   "metadata": {},
   "outputs": [],
   "source": [
    "bams = !ls ../../data/$project/bwa/mergedLibrary/mp*.bam\n",
    "bams"
   ]
  },
  {
   "cell_type": "code",
   "execution_count": null,
   "metadata": {},
   "outputs": [],
   "source": [
    "! mkdir ../../data/$project/diffPeaks_unscaled"
   ]
  },
  {
   "cell_type": "code",
   "execution_count": null,
   "metadata": {},
   "outputs": [],
   "source": [
    "bams"
   ]
  },
  {
   "cell_type": "code",
   "execution_count": null,
   "metadata": {},
   "outputs": [],
   "source": [
    "#on unscalled data \n",
    "for i in range(int(len(bams[1:])/2)):\n",
    "    if i < 0:\n",
    "        continue\n",
    "    name1 = bams[1+i]\n",
    "    name2 = bams[7+i]\n",
    "    print(name1,name2)\n",
    "    chip.fullDiffPeak(name1,name2, control1='../../data/'+project+'/bwa/mergedLibrary/INPUT_R1.mLb.clN.sorted.bam', directory = \"../../data/\"+project+\"/diffData_unscaled/\", res_directory = \"../../data/\"+project+\"/diffPeaks_unscaled/\",pairedend=False)"
   ]
  },
  {
   "cell_type": "code",
   "execution_count": null,
   "metadata": {},
   "outputs": [],
   "source": [
    "bw = ! ls ../../data/$project/bwa/mergedLibrary/bigwig/*.bigWig\n",
    "bw"
   ]
  },
  {
   "cell_type": "code",
   "execution_count": null,
   "metadata": {},
   "outputs": [],
   "source": [
    "cond1peak = ! ls ../../data/$project/diffPeaks_unscaled/*cond1.bed\n",
    "cond2peak = ! ls ../../data/$project/diffPeaks_unscaled/*cond2.bed\n",
    "commonpeak = ! ls ../../data/$project/diffPeaks_unscaled/*common.bed\n",
    "commonpeak"
   ]
  },
  {
   "cell_type": "code",
   "execution_count": null,
   "metadata": {},
   "outputs": [],
   "source": [
    "names = [\"FLAG_MEF2D\",\n",
    "\"IFR8\",\n",
    "\"MED1\",\n",
    "\"MEF2C\",\n",
    "\"MYC\",\n",
    "\"POLII\"]"
   ]
  },
  {
   "cell_type": "code",
   "execution_count": null,
   "metadata": {},
   "outputs": [],
   "source": [
    "for i in range(int(len(bw)/2)):\n",
    "    name1 = bw[i]\n",
    "    name2 = bw[6+i]\n",
    "    peak = [cond1peak[i], commonpeak[i], cond2peak[i]]\n",
    "    #for val in peak:\n",
    "     #   chip.dropWeirdChromosomes(val)\n",
    "    name = names[i]\n",
    "    print(name1,name2)\n",
    "    chip.getPeaksAt(peak, [name1, name2], bigwignames=['DMSO', 'VHL'], peaknames=['DMSO_peaks', 'common', 'VHL_peaks'], window=3000, folder=\"\", title=name, numthreads=7, torecompute=True, refpoint='center', name='../../data/'+project+'/diffPeaks_unscaled/'+name+'_mat.pdf', withDeeptools=True)"
   ]
  },
  {
   "cell_type": "code",
   "execution_count": null,
   "metadata": {},
   "outputs": [],
   "source": [
    "h.createFoldersFor('../results/'+project+'/plots/unscaled/diffPeaks/')\n",
    "! cp ../../data/$project/diffPeaks_unscaled/*.pdf ../results/$project/plots/unscaled/diffPeaks/\n",
    "\n",
    "! gsutil -m cp gs://amlproject/Chip/$project/bwa/mergedLibrary/deepTools/**.pdf ../results/$project/plots/"
   ]
  },
  {
   "cell_type": "code",
   "execution_count": null,
   "metadata": {},
   "outputs": [],
   "source": [
    "! gsutil -m cp -r ../../data/$project/diffPeaks gs://amlproject/Chip/$project/\n",
    "! gsutil -m cp -r ../../data/$project/diffData gs://amlproject/Chip/$project/\n",
    "! gsutil -m cp -r ../../data/$project/diffPeaks_unscaled gs://amlproject/Chip/$project/\n",
    "! gsutil -m cp -r ../../data/$project/diffData_unscaled gs://amlproject/Chip/$project/\n",
    "! gsutil -m cp -r ../../data/$project/peakplot gs://amlproject/Chip/$project/"
   ]
  },
  {
   "cell_type": "markdown",
   "metadata": {},
   "source": [
    "## v7"
   ]
  },
  {
   "cell_type": "code",
   "execution_count": 260,
   "metadata": {},
   "outputs": [],
   "source": [
    "project=\"chipseq_MEF2CMEF2D_degraded\""
   ]
  },
  {
   "cell_type": "code",
   "execution_count": null,
   "metadata": {},
   "outputs": [],
   "source": [
    "! gsutil ls gs://transfer-amlproject/200924_MP8230_fastq/"
   ]
  },
  {
   "cell_type": "code",
   "execution_count": null,
   "metadata": {},
   "outputs": [],
   "source": [
    "mkdir ../data/$project/ && mkdir ../data/$project/qc/"
   ]
  },
  {
   "cell_type": "code",
   "execution_count": null,
   "metadata": {
    "scrolled": true
   },
   "outputs": [],
   "source": [
    "!gsutil -m cp gs://transfer-amlproject/200924_MP8230_fastq/multiqc_report.html ../data/$project/qc/\n",
    "!gsutil -m cp -r gs://transfer-amlproject/200924_MP8230_fastq/Reports/ ../data/$project/qc/\n",
    "!gsutil -m cp -r gs://transfer-amlproject/200924_MP8230_fastq/multiqc_data/ ../data/$project/qc/"
   ]
  },
  {
   "cell_type": "code",
   "execution_count": null,
   "metadata": {
    "scrolled": true
   },
   "outputs": [],
   "source": [
    "! gsutil -m cp gs://transfer-amlproject/200924_MP8230_fastq/*  gs://transfer-amlproject/$project/"
   ]
  },
  {
   "cell_type": "markdown",
   "metadata": {},
   "source": [
    "### analysis"
   ]
  },
  {
   "cell_type": "code",
   "execution_count": null,
   "metadata": {
    "scrolled": true
   },
   "outputs": [],
   "source": [
    "! mkdir ../../data/$project && mkdir ../../data/$project/fastqs && gsutil -m cp gs://transfer-amlproject/$project/* ../../data/$project/fastqs"
   ]
  },
  {
   "cell_type": "code",
   "execution_count": null,
   "metadata": {},
   "outputs": [],
   "source": [
    "! rm ../../data/$project/fastqs/multiqc_report.html"
   ]
  },
  {
   "cell_type": "code",
   "execution_count": null,
   "metadata": {},
   "outputs": [],
   "source": [
    "a = ! ls ../../data/$project/fastqs\n",
    "a"
   ]
  },
  {
   "cell_type": "code",
   "execution_count": null,
   "metadata": {},
   "outputs": [],
   "source": [
    "rename = {\n",
    "\"20200924_MP1_MP8230_S113\": \"mp893-MV411_RNP_AAVS1-H3K27AC-r3\",\n",
    "\"20200924_MP2_MP8230_S114\": \"mp894-MV411_RNP_AAVS1-H3K27AC-r4\",\n",
    "\"20200924_MP3_MP8230_S115\": \"mp895-MV411_RNP_MEF2C-H3K27AC-r1\",\n",
    "\"20200924_MP4_MP8230_S116\": \"mp896-MV411_RNP_MEF2C-H3K27AC-r2\",\n",
    "\"20200924_MP5_MP8230_S117\": \"mp897-MV411_RNP_MEF2D-H3K27AC-r3\",\n",
    "\"20200924_MP6_MP8230_S118\": \"mp898-MV411_RNP_MEF2D-H3K27AC-r4\",\n",
    "\"20200924_MP7_MP8230_S119\": \"mp899-MV411_RNP_MEF2C_MEF2D-H3K27AC-r1\",\n",
    "\"20200924_MP8_MP8230_S120\": \"mp900-MV411_RNP_MEF2C_MEF2D-H3K27AC-r2\",}"
   ]
  },
  {
   "cell_type": "code",
   "execution_count": null,
   "metadata": {},
   "outputs": [],
   "source": [
    "for val in a:\n",
    "    rep = val\n",
    "    for k,v in rename.items():\n",
    "        rep = rep.replace(k,v)\n",
    "    !mv ../../data/$project/fastqs/$val ../../data/$project/fastqs/$rep"
   ]
  },
  {
   "cell_type": "code",
   "execution_count": null,
   "metadata": {},
   "outputs": [],
   "source": [
    "from gsheets import Sheets\n",
    "sheets = Sheets.from_files('~/.client_secret.json', '~/.storage.json')\n",
    "url=\"https://docs.google.com/spreadsheets/d/1yFLjYB1McU530JnLgL0QIMAKIkVl3kl0_LCHje2gk8U\"\n",
    "gsheet = sheets.get(url).sheets[2].to_frame()"
   ]
  },
  {
   "cell_type": "code",
   "execution_count": null,
   "metadata": {},
   "outputs": [],
   "source": [
    "gsheet"
   ]
  },
  {
   "cell_type": "code",
   "execution_count": null,
   "metadata": {},
   "outputs": [],
   "source": [
    "a = ! ls ../../data/$project/fastqs\n",
    "a"
   ]
  },
  {
   "cell_type": "code",
   "execution_count": null,
   "metadata": {},
   "outputs": [],
   "source": [
    "df = {\n",
    "\"fastq_1\": [],\n",
    "\"fastq_2\": [],\n",
    "\"antibody\": [],\n",
    "\"group\": [],\n",
    "\"replicate\": [],\n",
    "\"control\": []\n",
    "}\n",
    "for val in h.grouped(a,2):\n",
    "    row = gsheet[gsheet.id==val[0].split('/')[-1].split('-')[0]]\n",
    "    df['group'].append(\"MV4\"+row['name'].values[0].split('-r')[0].split('-MV4')[1])\n",
    "    df['replicate'].append(row['name'].values[0].split('-r')[1])\n",
    "    df['fastq_1'].append(project+\"/fastqs/\"+val[0])\n",
    "    df['fastq_2'].append(project+\"/fastqs/\"+val[1])\n",
    "    df['antibody'].append(row['protein'].values[0])\n",
    "    df['control'].append(\"INPUT\")\n",
    "df['group'].append('INPUT')\n",
    "df['replicate'].append(1)\n",
    "df['fastq_1'].append('ref/mp845-MV411-INPUT-r2_R1.fastq.gz')\n",
    "df['fastq_2'].append('ref/mp845-MV411-INPUT-r2_R2.fastq.gz')\n",
    "df['antibody'].append(\"\")\n",
    "df['control'].append(\"\")\n",
    "df = pd.DataFrame(df)"
   ]
  },
  {
   "cell_type": "code",
   "execution_count": null,
   "metadata": {},
   "outputs": [],
   "source": [
    "df"
   ]
  },
  {
   "cell_type": "code",
   "execution_count": null,
   "metadata": {},
   "outputs": [],
   "source": [
    "df[df.columns[[3,4,0,1,2,5]]].to_csv('../nextflow/'+project+'_design.csv',index=False)"
   ]
  },
  {
   "cell_type": "code",
   "execution_count": null,
   "metadata": {
    "scrolled": true
   },
   "outputs": [],
   "source": [
    "! cd ../../data/ && sudo ../nextflow log ## to get access to the previous runs"
   ]
  },
  {
   "cell_type": "code",
   "execution_count": null,
   "metadata": {},
   "outputs": [],
   "source": [
    "#process chips\n",
    "! cd ../../data/ && sudo ../nextflow run nf-core/chipseq --paired_end --seq_center 'DFCI' --email 'jkobject@gmail.com' --input ../AMLproject/nextflow/$project_design.csv --genome GRCh38 --skip_preseq --max_cpus 16 -profile docker -w work -resume exotic_bartik"
   ]
  },
  {
   "cell_type": "code",
   "execution_count": null,
   "metadata": {},
   "outputs": [],
   "source": [
    "! gsutil -m cp -r gs://workamlproject/MEF2CMEF2D/output/* gs://amlproject/Chip/chipseq_MEF2CMEF2D_degraded/"
   ]
  },
  {
   "cell_type": "code",
   "execution_count": null,
   "metadata": {},
   "outputs": [],
   "source": [
    "# get scaling values\n",
    "norm, mapped = h.getSpikeInControlScales(refgenome=\"../../data/ref/reference_droso.fna\",\n",
    "fastQfolder='../../data/'+project+'/fastqs/',\n",
    "pairedEnd=True, cores=12,\n",
    "tofilter=True,\n",
    "totrim=True,\n",
    "tomap=True,\n",
    "results=\"../../data/\"+project+\"/\",\n",
    "pathtotrim_galore=\"../../TrimGalore-0.6.5/trim_galore\")\n",
    "norm, mapped"
   ]
  },
  {
   "cell_type": "markdown",
   "metadata": {},
   "source": [
    "computing scales from the excel sheet"
   ]
  },
  {
   "cell_type": "code",
   "execution_count": null,
   "metadata": {},
   "outputs": [],
   "source": [
    "scales = [1.00,\n",
    "1.00,\n",
    "0.98,\n",
    "1.08,\n",
    "0.74,\n",
    "0.99,\n",
    "1.13,\n",
    "0.94]"
   ]
  },
  {
   "cell_type": "code",
   "execution_count": null,
   "metadata": {},
   "outputs": [],
   "source": [
    "#! mkdir ../../data/$project/bwa \n",
    "#!mkdir ../../data/$project/bwa/mergedLibrary\n",
    "#!gsutil cp gs://amlproject/Chip/$project/bwa/mergedLibrary/*.ba* ../../data/$project/bwa/mergedLibrary/\n",
    "#! gsutil -m cp -r gs://amlproject/Chip/$project/bwa/mergedLibrary/bigwig/ ../../data/$project/bwa/mergedLibrary/\n",
    "! gsutil  -m cp -r gs://amlproject/Chip/$project/bwa/mergedLibrary/macs/ ../../data/$project/bwa/mergedLibrary/"
   ]
  },
  {
   "cell_type": "code",
   "execution_count": null,
   "metadata": {
    "scrolled": true
   },
   "outputs": [],
   "source": [
    "bams = ! ls ../../data/$project/bwa/mergedLibrary/*.bam\n",
    "bams"
   ]
  },
  {
   "cell_type": "markdown",
   "metadata": {},
   "source": [
    "### on scalled data"
   ]
  },
  {
   "cell_type": "code",
   "execution_count": null,
   "metadata": {},
   "outputs": [],
   "source": [
    "! mkdir ../../data/$project/diffPeaks/\n",
    "! mkdir ../../data/$project/diffData/\n",
    "! mkdir ../../data/$project/droso_aligned\n",
    "! mv ../../data/$project/mp* ../../data/$project/droso_aligned"
   ]
  },
  {
   "cell_type": "code",
   "execution_count": null,
   "metadata": {},
   "outputs": [],
   "source": [
    "wigs = ! ls ../../data/$project/bwa/mergedLibrary/bigwig/*.bigWig\n",
    "wigs"
   ]
  },
  {
   "cell_type": "code",
   "execution_count": null,
   "metadata": {
    "scrolled": true
   },
   "outputs": [],
   "source": [
    "# diffPeak on scaled data (full reprocessing)\n",
    "for i in range(len(bams[3:])):\n",
    "    if i < 3:\n",
    "        continue\n",
    "    bam1 = bams[1+(i%2)]\n",
    "    bam2 = bams[3+i]\n",
    "    print(bam1,bam2)\n",
    "    print(chip.fullDiffPeak(bam1,bam2, control1=bams[0], scaling=[1.0, scales[2+i]], directory = \"../../data/\"+project+\"/diffData/\", res_directory = \"../../data/\"+project+\"/diffPeaks/\",pairedend=True))"
   ]
  },
  {
   "cell_type": "code",
   "execution_count": null,
   "metadata": {},
   "outputs": [],
   "source": [
    "initscales = ! cat ../../data/$project/bwa/mergedLibrary/bigwig/scale/*.txt\n",
    "initscales"
   ]
  },
  {
   "cell_type": "code",
   "execution_count": null,
   "metadata": {},
   "outputs": [],
   "source": [
    "rescales = [val*float(initscales[1+i]) for i, val in enumerate(scales)]\n",
    "rescales"
   ]
  },
  {
   "cell_type": "code",
   "execution_count": null,
   "metadata": {},
   "outputs": [],
   "source": [
    "chip.bigWigFrom(bams[3:], \n",
    "                genome='GRCh38',scaling=rescales[2:],\n",
    "               numthreads=8)"
   ]
  },
  {
   "cell_type": "code",
   "execution_count": null,
   "metadata": {},
   "outputs": [],
   "source": [
    "!mkdir ../../data/$project/recalib_bigwig/ \n",
    "!mv bigwig/* ../../data/$project/recalib_bigwig/\n",
    "!cp ../../data/$project/bwa/mergedLibrary/bigwig/*AAVS1*.bigWig ../../data/$project/recalib_bigwig/"
   ]
  },
  {
   "cell_type": "code",
   "execution_count": null,
   "metadata": {},
   "outputs": [],
   "source": [
    "os.popen('for i in $(ls ../../data/'+project+'/diffPeaks/*.bed); \\\n",
    "            do echo $(wc -l $i); \\\n",
    "            done').read().split('\\n')"
   ]
  },
  {
   "cell_type": "code",
   "execution_count": 270,
   "metadata": {
    "scrolled": true
   },
   "outputs": [
    {
     "data": {
      "text/plain": [
       "['../../data/chipseq_MEF2CMEF2D_degraded/recalib_bigwig/MV411_RNP_AAVS1-H3K27AC_R1.bigWig',\n",
       " '../../data/chipseq_MEF2CMEF2D_degraded/recalib_bigwig/MV411_RNP_AAVS1-H3K27AC_R2.bigWig',\n",
       " '../../data/chipseq_MEF2CMEF2D_degraded/recalib_bigwig/MV411_RNP_MEF2C-H3K27AC_R1.bw',\n",
       " '../../data/chipseq_MEF2CMEF2D_degraded/recalib_bigwig/MV411_RNP_MEF2C-H3K27AC_R2.bw',\n",
       " '../../data/chipseq_MEF2CMEF2D_degraded/recalib_bigwig/MV411_RNP_MEF2C_MEF2D-H3K27AC_R1.bw',\n",
       " '../../data/chipseq_MEF2CMEF2D_degraded/recalib_bigwig/MV411_RNP_MEF2C_MEF2D-H3K27AC_R2.bw',\n",
       " '../../data/chipseq_MEF2CMEF2D_degraded/recalib_bigwig/MV411_RNP_MEF2D-H3K27AC_R1.bw',\n",
       " '../../data/chipseq_MEF2CMEF2D_degraded/recalib_bigwig/MV411_RNP_MEF2D-H3K27AC_R2.bw']"
      ]
     },
     "execution_count": 270,
     "metadata": {},
     "output_type": "execute_result"
    }
   ],
   "source": [
    "bw = ! ls ../../data/$project/recalib_bigwig/*\n",
    "bw"
   ]
  },
  {
   "cell_type": "code",
   "execution_count": null,
   "metadata": {},
   "outputs": [],
   "source": [
    "! gsutil -m cp -r ../../data/$project/droso_aligned gs://amlproject/Chip/$project/\n",
    "! gsutil -m cp -r ../../data/$project/recalib_bigwig gs://amlproject/Chip/$project/"
   ]
  },
  {
   "cell_type": "code",
   "execution_count": null,
   "metadata": {},
   "outputs": [],
   "source": [
    "!mkdir ../results/$project/\n",
    "!mkdir ../results/$project/plots\n",
    "!mkdir ../results/$project/plots/heatmaps/"
   ]
  },
  {
   "cell_type": "code",
   "execution_count": null,
   "metadata": {},
   "outputs": [],
   "source": [
    "# GENOME WIDE comparison"
   ]
  },
  {
   "cell_type": "code",
   "execution_count": 261,
   "metadata": {},
   "outputs": [],
   "source": [
    "peaks = ! ls ../../data/$project/bwa/mergedLibrary/macs/broadPeak/*.broadPeak"
   ]
  },
  {
   "cell_type": "code",
   "execution_count": 262,
   "metadata": {},
   "outputs": [],
   "source": [
    "names = [\"AAVS1\", \"AAVS1_v2\", \"MEF2C\",\"MEF2C_v2\",\"MEF2C-MEF2D\",\"MEF2C-MEF2D_v2\", \"MEF2D\",\"MEF2D_v2\"]"
   ]
  },
  {
   "cell_type": "markdown",
   "metadata": {},
   "source": [
    "#### merging peaks VHL/DMSO"
   ]
  },
  {
   "cell_type": "code",
   "execution_count": 265,
   "metadata": {},
   "outputs": [
    {
     "name": "stdout",
     "output_type": "stream",
     "text": [
      "MEF2C\n",
      "MEF2C_v242478222575465\n",
      "MEF2C-MEF2D16526036656\n",
      "MEF2C-MEF2D_v212734456\n",
      "MEF2D97990010351454644\n",
      "MEF2D_v268416681156453\n",
      "0.99997941772751136555\r"
     ]
    }
   ],
   "source": [
    "mpeaks = [peaks[0],peaks[1]]\n",
    "for i, val in enumerate(names[2:]):\n",
    "    if i<0:\n",
    "        continue\n",
    "    print(val)\n",
    "    dmso = peaks[i%2]\n",
    "    vhl = peaks[i+2]\n",
    "    chip.simpleMergePeaks(pd.concat([chip.loadPeaks(dmso), chip.loadPeaks(vhl)])).to_csv('../../data/' + project + '/' + val + '_genomewide_merged.bed', sep='\\t', header=False, index=False)\n",
    "    mpeaks.append('../../data/'+project+'/'+val+'_genomewide_merged.bed')"
   ]
  },
  {
   "cell_type": "markdown",
   "metadata": {},
   "source": [
    "#### GENOME WIDE comparison"
   ]
  },
  {
   "cell_type": "code",
   "execution_count": 271,
   "metadata": {
    "scrolled": true
   },
   "outputs": [
    {
     "name": "stdout",
     "output_type": "stream",
     "text": [
      "AAVS1\n",
      "CompletedProcess(args='computeMatrix reference-point -S ../../data/chipseq_MEF2CMEF2D_degraded/recalib_bigwig/MV411_RNP_AAVS1-H3K27AC_R1.bigWig  --referencePoint center --regionsFileName ../../data/chipseq_MEF2CMEF2D_degraded/bwa/mergedLibrary/macs/broadPeak/MV411_RNP_AAVS1-H3K27AC_R1_peaks.broadPeak --missingDataAsZero --outFileName ../../data/chipseq_MEF2CMEF2D_degraded/peakplot/AAVS1_mat.gz --upstream 3000 --downstream 3000 --numberOfProcessors 8 && plotHeatmap --matrixFile ../../data/chipseq_MEF2CMEF2D_degraded/peakplot/AAVS1_mat.gz --outFileName ../../data/chipseq_MEF2CMEF2D_degraded/peakplot/AAVS1_mat.pdf --refPointLabel center --legendLocation lower-left --regionsLabel Macs2_Peaks --plotTitle AAVS1', returncode=0, stdout=b'', stderr=b'')\n",
      "AAVS1_v2\n",
      "CompletedProcess(args='computeMatrix reference-point -S ../../data/chipseq_MEF2CMEF2D_degraded/recalib_bigwig/MV411_RNP_AAVS1-H3K27AC_R2.bigWig  --referencePoint center --regionsFileName ../../data/chipseq_MEF2CMEF2D_degraded/bwa/mergedLibrary/macs/broadPeak/MV411_RNP_AAVS1-H3K27AC_R2_peaks.broadPeak --missingDataAsZero --outFileName ../../data/chipseq_MEF2CMEF2D_degraded/peakplot/AAVS1_v2_mat.gz --upstream 3000 --downstream 3000 --numberOfProcessors 8 && plotHeatmap --matrixFile ../../data/chipseq_MEF2CMEF2D_degraded/peakplot/AAVS1_v2_mat.gz --outFileName ../../data/chipseq_MEF2CMEF2D_degraded/peakplot/AAVS1_v2_mat.pdf --refPointLabel center --legendLocation lower-left --regionsLabel Macs2_Peaks --plotTitle AAVS1_v2', returncode=0, stdout=b'', stderr=b'')\n",
      "MEF2C\n",
      "CompletedProcess(args='computeMatrix reference-point -S ../../data/chipseq_MEF2CMEF2D_degraded/recalib_bigwig/MV411_RNP_MEF2C-H3K27AC_R1.bw  --referencePoint center --regionsFileName ../../data/chipseq_MEF2CMEF2D_degraded/MEF2C_genomewide_merged.bed --missingDataAsZero --outFileName ../../data/chipseq_MEF2CMEF2D_degraded/peakplot/MEF2C_mat.gz --upstream 3000 --downstream 3000 --numberOfProcessors 8 && plotHeatmap --matrixFile ../../data/chipseq_MEF2CMEF2D_degraded/peakplot/MEF2C_mat.gz --outFileName ../../data/chipseq_MEF2CMEF2D_degraded/peakplot/MEF2C_mat.pdf --refPointLabel center --legendLocation lower-left --regionsLabel Macs2_Peaks --plotTitle MEF2C', returncode=0, stdout=b'', stderr=b'')\n",
      "MEF2C_v2\n",
      "CompletedProcess(args='computeMatrix reference-point -S ../../data/chipseq_MEF2CMEF2D_degraded/recalib_bigwig/MV411_RNP_MEF2C-H3K27AC_R2.bw  --referencePoint center --regionsFileName ../../data/chipseq_MEF2CMEF2D_degraded/MEF2C_v2_genomewide_merged.bed --missingDataAsZero --outFileName ../../data/chipseq_MEF2CMEF2D_degraded/peakplot/MEF2C_v2_mat.gz --upstream 3000 --downstream 3000 --numberOfProcessors 8 && plotHeatmap --matrixFile ../../data/chipseq_MEF2CMEF2D_degraded/peakplot/MEF2C_v2_mat.gz --outFileName ../../data/chipseq_MEF2CMEF2D_degraded/peakplot/MEF2C_v2_mat.pdf --refPointLabel center --legendLocation lower-left --regionsLabel Macs2_Peaks --plotTitle MEF2C_v2', returncode=0, stdout=b'', stderr=b'')\n",
      "MEF2C-MEF2D\n",
      "CompletedProcess(args='computeMatrix reference-point -S ../../data/chipseq_MEF2CMEF2D_degraded/recalib_bigwig/MV411_RNP_MEF2C_MEF2D-H3K27AC_R1.bw  --referencePoint center --regionsFileName ../../data/chipseq_MEF2CMEF2D_degraded/MEF2C-MEF2D_genomewide_merged.bed --missingDataAsZero --outFileName ../../data/chipseq_MEF2CMEF2D_degraded/peakplot/MEF2C-MEF2D_mat.gz --upstream 3000 --downstream 3000 --numberOfProcessors 8 && plotHeatmap --matrixFile ../../data/chipseq_MEF2CMEF2D_degraded/peakplot/MEF2C-MEF2D_mat.gz --outFileName ../../data/chipseq_MEF2CMEF2D_degraded/peakplot/MEF2C-MEF2D_mat.pdf --refPointLabel center --legendLocation lower-left --regionsLabel Macs2_Peaks --plotTitle MEF2C-MEF2D', returncode=0, stdout=b'', stderr=b'')\n",
      "MEF2C-MEF2D_v2\n",
      "CompletedProcess(args='computeMatrix reference-point -S ../../data/chipseq_MEF2CMEF2D_degraded/recalib_bigwig/MV411_RNP_MEF2C_MEF2D-H3K27AC_R2.bw  --referencePoint center --regionsFileName ../../data/chipseq_MEF2CMEF2D_degraded/MEF2C-MEF2D_v2_genomewide_merged.bed --missingDataAsZero --outFileName ../../data/chipseq_MEF2CMEF2D_degraded/peakplot/MEF2C-MEF2D_v2_mat.gz --upstream 3000 --downstream 3000 --numberOfProcessors 8 && plotHeatmap --matrixFile ../../data/chipseq_MEF2CMEF2D_degraded/peakplot/MEF2C-MEF2D_v2_mat.gz --outFileName ../../data/chipseq_MEF2CMEF2D_degraded/peakplot/MEF2C-MEF2D_v2_mat.pdf --refPointLabel center --legendLocation lower-left --regionsLabel Macs2_Peaks --plotTitle MEF2C-MEF2D_v2', returncode=0, stdout=b'', stderr=b'')\n",
      "MEF2D\n",
      "CompletedProcess(args='computeMatrix reference-point -S ../../data/chipseq_MEF2CMEF2D_degraded/recalib_bigwig/MV411_RNP_MEF2D-H3K27AC_R1.bw  --referencePoint center --regionsFileName ../../data/chipseq_MEF2CMEF2D_degraded/MEF2D_genomewide_merged.bed --missingDataAsZero --outFileName ../../data/chipseq_MEF2CMEF2D_degraded/peakplot/MEF2D_mat.gz --upstream 3000 --downstream 3000 --numberOfProcessors 8 && plotHeatmap --matrixFile ../../data/chipseq_MEF2CMEF2D_degraded/peakplot/MEF2D_mat.gz --outFileName ../../data/chipseq_MEF2CMEF2D_degraded/peakplot/MEF2D_mat.pdf --refPointLabel center --legendLocation lower-left --regionsLabel Macs2_Peaks --plotTitle MEF2D', returncode=0, stdout=b'', stderr=b'')\n",
      "MEF2D_v2\n",
      "CompletedProcess(args='computeMatrix reference-point -S ../../data/chipseq_MEF2CMEF2D_degraded/recalib_bigwig/MV411_RNP_MEF2D-H3K27AC_R2.bw  --referencePoint center --regionsFileName ../../data/chipseq_MEF2CMEF2D_degraded/MEF2D_v2_genomewide_merged.bed --missingDataAsZero --outFileName ../../data/chipseq_MEF2CMEF2D_degraded/peakplot/MEF2D_v2_mat.gz --upstream 3000 --downstream 3000 --numberOfProcessors 8 && plotHeatmap --matrixFile ../../data/chipseq_MEF2CMEF2D_degraded/peakplot/MEF2D_v2_mat.gz --outFileName ../../data/chipseq_MEF2CMEF2D_degraded/peakplot/MEF2D_v2_mat.pdf --refPointLabel center --legendLocation lower-left --regionsLabel Macs2_Peaks --plotTitle MEF2D_v2', returncode=0, stdout=b'', stderr=b'')\n"
     ]
    }
   ],
   "source": [
    "for i, val in enumerate(bw):\n",
    "    if i <0:\n",
    "        continue\n",
    "    name = names[i]\n",
    "    print(name)\n",
    "    chip.getPeaksAt(mpeaks[i], bigwigs = val, bigwignames= name, peaknames=['Macs2_Peaks'], window=3000, folder=\"\", title=name, numthreads=8, refpoint=\"center\", name='../results/'+project+'/peakplot/'+name+'_mat.pdf', withDeeptools=True, torecompute=True, legendLoc=\"lower-left\")"
   ]
  },
  {
   "cell_type": "markdown",
   "metadata": {},
   "source": [
    "#### making overlapping profiles"
   ]
  },
  {
   "cell_type": "code",
   "execution_count": 273,
   "metadata": {},
   "outputs": [
    {
     "name": "stdout",
     "output_type": "stream",
     "text": [
      "MEF2C\n",
      "CompletedProcess(args='computeMatrixOperations relabel -m ../../data/chipseq_MEF2CMEF2D_degraded/peakplot/AAVS1_mat.gz -o ../../data/chipseq_MEF2CMEF2D_degraded/peakplot/AAVS1_mat.gz --groupLabels DMSO && computeMatrixOperations relabel -m ../../data/chipseq_MEF2CMEF2D_degraded/peakplot/MEF2C_mat.gz -o ../../data/chipseq_MEF2CMEF2D_degraded/peakplot/MEF2C_mat.gz --groupLabels VHL && computeMatrixOperations rbind -m ../../data/chipseq_MEF2CMEF2D_degraded/peakplot/AAVS1_mat.gz ../../data/chipseq_MEF2CMEF2D_degraded/peakplot/MEF2C_mat.gz -o ../../data/chipseq_MEF2CMEF2D_degraded/MEF2C_combined_mat.gz && plotProfile --matrixFile ../../data/chipseq_MEF2CMEF2D_degraded/MEF2C_combined_mat.gz --outFileName ../../data/chipseq_MEF2CMEF2D_degraded/MEF2C_combined_mat.pdf --refPointLabel center --legendLocation lower-left --plotTitle MEF2C_on_H3K27ac', returncode=0, stdout=b'', stderr=b'')\n",
      "MEF2C_v2\n",
      "CompletedProcess(args='computeMatrixOperations relabel -m ../../data/chipseq_MEF2CMEF2D_degraded/peakplot/AAVS1_v2_mat.gz -o ../../data/chipseq_MEF2CMEF2D_degraded/peakplot/AAVS1_v2_mat.gz --groupLabels DMSO && computeMatrixOperations relabel -m ../../data/chipseq_MEF2CMEF2D_degraded/peakplot/MEF2C_v2_mat.gz -o ../../data/chipseq_MEF2CMEF2D_degraded/peakplot/MEF2C_v2_mat.gz --groupLabels VHL && computeMatrixOperations rbind -m ../../data/chipseq_MEF2CMEF2D_degraded/peakplot/AAVS1_v2_mat.gz ../../data/chipseq_MEF2CMEF2D_degraded/peakplot/MEF2C_v2_mat.gz -o ../../data/chipseq_MEF2CMEF2D_degraded/MEF2C_v2_combined_mat.gz && plotProfile --matrixFile ../../data/chipseq_MEF2CMEF2D_degraded/MEF2C_v2_combined_mat.gz --outFileName ../../data/chipseq_MEF2CMEF2D_degraded/MEF2C_v2_combined_mat.pdf --refPointLabel center --legendLocation lower-left --plotTitle MEF2C_v2_on_H3K27ac', returncode=0, stdout=b'', stderr=b'')\n",
      "MEF2C-MEF2D\n",
      "CompletedProcess(args='computeMatrixOperations relabel -m ../../data/chipseq_MEF2CMEF2D_degraded/peakplot/AAVS1_mat.gz -o ../../data/chipseq_MEF2CMEF2D_degraded/peakplot/AAVS1_mat.gz --groupLabels DMSO && computeMatrixOperations relabel -m ../../data/chipseq_MEF2CMEF2D_degraded/peakplot/MEF2C-MEF2D_mat.gz -o ../../data/chipseq_MEF2CMEF2D_degraded/peakplot/MEF2C-MEF2D_mat.gz --groupLabels VHL && computeMatrixOperations rbind -m ../../data/chipseq_MEF2CMEF2D_degraded/peakplot/AAVS1_mat.gz ../../data/chipseq_MEF2CMEF2D_degraded/peakplot/MEF2C-MEF2D_mat.gz -o ../../data/chipseq_MEF2CMEF2D_degraded/MEF2C-MEF2D_combined_mat.gz && plotProfile --matrixFile ../../data/chipseq_MEF2CMEF2D_degraded/MEF2C-MEF2D_combined_mat.gz --outFileName ../../data/chipseq_MEF2CMEF2D_degraded/MEF2C-MEF2D_combined_mat.pdf --refPointLabel center --legendLocation lower-left --plotTitle MEF2C-MEF2D_on_H3K27ac', returncode=0, stdout=b'', stderr=b'')\n",
      "MEF2C-MEF2D_v2\n",
      "CompletedProcess(args='computeMatrixOperations relabel -m ../../data/chipseq_MEF2CMEF2D_degraded/peakplot/AAVS1_v2_mat.gz -o ../../data/chipseq_MEF2CMEF2D_degraded/peakplot/AAVS1_v2_mat.gz --groupLabels DMSO && computeMatrixOperations relabel -m ../../data/chipseq_MEF2CMEF2D_degraded/peakplot/MEF2C-MEF2D_v2_mat.gz -o ../../data/chipseq_MEF2CMEF2D_degraded/peakplot/MEF2C-MEF2D_v2_mat.gz --groupLabels VHL && computeMatrixOperations rbind -m ../../data/chipseq_MEF2CMEF2D_degraded/peakplot/AAVS1_v2_mat.gz ../../data/chipseq_MEF2CMEF2D_degraded/peakplot/MEF2C-MEF2D_v2_mat.gz -o ../../data/chipseq_MEF2CMEF2D_degraded/MEF2C-MEF2D_v2_combined_mat.gz && plotProfile --matrixFile ../../data/chipseq_MEF2CMEF2D_degraded/MEF2C-MEF2D_v2_combined_mat.gz --outFileName ../../data/chipseq_MEF2CMEF2D_degraded/MEF2C-MEF2D_v2_combined_mat.pdf --refPointLabel center --legendLocation lower-left --plotTitle MEF2C-MEF2D_v2_on_H3K27ac', returncode=0, stdout=b'', stderr=b'')\n",
      "MEF2D\n",
      "CompletedProcess(args='computeMatrixOperations relabel -m ../../data/chipseq_MEF2CMEF2D_degraded/peakplot/AAVS1_mat.gz -o ../../data/chipseq_MEF2CMEF2D_degraded/peakplot/AAVS1_mat.gz --groupLabels DMSO && computeMatrixOperations relabel -m ../../data/chipseq_MEF2CMEF2D_degraded/peakplot/MEF2D_mat.gz -o ../../data/chipseq_MEF2CMEF2D_degraded/peakplot/MEF2D_mat.gz --groupLabels VHL && computeMatrixOperations rbind -m ../../data/chipseq_MEF2CMEF2D_degraded/peakplot/AAVS1_mat.gz ../../data/chipseq_MEF2CMEF2D_degraded/peakplot/MEF2D_mat.gz -o ../../data/chipseq_MEF2CMEF2D_degraded/MEF2D_combined_mat.gz && plotProfile --matrixFile ../../data/chipseq_MEF2CMEF2D_degraded/MEF2D_combined_mat.gz --outFileName ../../data/chipseq_MEF2CMEF2D_degraded/MEF2D_combined_mat.pdf --refPointLabel center --legendLocation lower-left --plotTitle MEF2D_on_H3K27ac', returncode=0, stdout=b'', stderr=b'')\n",
      "MEF2D_v2\n",
      "CompletedProcess(args='computeMatrixOperations relabel -m ../../data/chipseq_MEF2CMEF2D_degraded/peakplot/AAVS1_v2_mat.gz -o ../../data/chipseq_MEF2CMEF2D_degraded/peakplot/AAVS1_v2_mat.gz --groupLabels DMSO && computeMatrixOperations relabel -m ../../data/chipseq_MEF2CMEF2D_degraded/peakplot/MEF2D_v2_mat.gz -o ../../data/chipseq_MEF2CMEF2D_degraded/peakplot/MEF2D_v2_mat.gz --groupLabels VHL && computeMatrixOperations rbind -m ../../data/chipseq_MEF2CMEF2D_degraded/peakplot/AAVS1_v2_mat.gz ../../data/chipseq_MEF2CMEF2D_degraded/peakplot/MEF2D_v2_mat.gz -o ../../data/chipseq_MEF2CMEF2D_degraded/MEF2D_v2_combined_mat.gz && plotProfile --matrixFile ../../data/chipseq_MEF2CMEF2D_degraded/MEF2D_v2_combined_mat.gz --outFileName ../../data/chipseq_MEF2CMEF2D_degraded/MEF2D_v2_combined_mat.pdf --refPointLabel center --legendLocation lower-left --plotTitle MEF2D_v2_on_H3K27ac', returncode=0, stdout=b'', stderr=b'')\n"
     ]
    }
   ],
   "source": [
    "for i, val in enumerate(names[2:]):\n",
    "    if i <0:\n",
    "        continue\n",
    "    val1 = '../../data/'+project+'/peakplot/' + names[i%2] + '_mat.gz'\n",
    "    val2 = '../../data/'+project+'/peakplot/' + val + '_mat.gz'\n",
    "    print(val)\n",
    "    chip.makeProfiles(matx=[val1,val2], matnames=['DMSO','VHL'], title=val+'_on_H3K27ac', numthreads=8, refpoint=\"center\", name='../results/'+project+'/'+val+'_combined_mat.pdf', legendLoc=\"lower-left\")"
   ]
  },
  {
   "cell_type": "code",
   "execution_count": null,
   "metadata": {},
   "outputs": [],
   "source": [
    "h.createFoldersFor('../results/'+project+'/plots/scaled/heatmaps/')\n",
    "! cp ../../data/$project/*.pdf ../results/$project/plots/scaled/heatmaps/"
   ]
  },
  {
   "cell_type": "code",
   "execution_count": null,
   "metadata": {
    "scrolled": true
   },
   "outputs": [],
   "source": [
    "cond1peak = ! ls ../../data/$project/diffPeaks/*cond1.bed\n",
    "cond2peak = ! ls ../../data/$project/diffPeaks/*cond2.bed\n",
    "commonpeak = ! ls ../../data/$project/diffPeaks/*common.bed\n",
    "cond1peak"
   ]
  },
  {
   "cell_type": "code",
   "execution_count": null,
   "metadata": {
    "scrolled": true
   },
   "outputs": [],
   "source": [
    "for i in range(int(len(bw[2:]))):\n",
    "    if i <1:\n",
    "        continue\n",
    "    name1 = bw[i%2]\n",
    "    name2 = bw[i+2]\n",
    "    a = int(i/2)+3 if i%2 else int(i/2)\n",
    "    peak = [cond1peak[a], commonpeak[a], cond2peak[a]]\n",
    "   # for val in peak:\n",
    "      #  chip.dropWeirdChromosomes(val)\n",
    "    name = names[i+2]\n",
    "    print(name,name1,name2,a)\n",
    "    chip.getPeaksAt(peak, [name1, name2], bigwignames=['DMSO', 'VHL'], peaknames=['DMSO_peaks', 'common', 'VHL_peaks'], window=3000, folder=\"\", title=name, numthreads=7, refpoint=\"center\", name='../../data/'+project+'/diffPeaks/'+name+'_mat.pdf', withDeeptools=True, torecompute=False)"
   ]
  },
  {
   "cell_type": "code",
   "execution_count": null,
   "metadata": {},
   "outputs": [],
   "source": [
    "! mkdir ../results/additional_degraded_v1/plots/scaled/diffPeaks/\n",
    "! cp ../../data/additional_degraded_v1/diffPeaks/*.pdf ../results/additional_degraded_v1/plots/scaled/diffPeaks/"
   ]
  },
  {
   "cell_type": "markdown",
   "metadata": {},
   "source": [
    "### on unscalled data"
   ]
  },
  {
   "cell_type": "code",
   "execution_count": null,
   "metadata": {},
   "outputs": [],
   "source": [
    "bams = !ls ../../data/$project/bwa/mergedLibrary/mp*.bam\n",
    "bams"
   ]
  },
  {
   "cell_type": "code",
   "execution_count": null,
   "metadata": {},
   "outputs": [],
   "source": [
    "! mkdir ../../data/$project/diffPeaks_unscaled"
   ]
  },
  {
   "cell_type": "code",
   "execution_count": null,
   "metadata": {},
   "outputs": [],
   "source": [
    "#on unscalled data \n",
    "for i in range(int(len(bams[3:]))):\n",
    "    if i < 4:\n",
    "        continue\n",
    "    name1 = bams[1+i%2]\n",
    "    name2 = bams[3+i]\n",
    "    print(name1,name2)\n",
    "    chip.fullDiffPeak(name1,name2, control1='../../data/'+project+'/bwa/mergedLibrary/INPUT_R1.mLb.clN.sorted.bam', directory = \"../../data/\"+project+\"/diffData_unscaled/\", res_directory = \"../../data/\"+project+\"/diffPeaks_unscaled/\",pairedend=False)"
   ]
  },
  {
   "cell_type": "code",
   "execution_count": null,
   "metadata": {},
   "outputs": [],
   "source": [
    "bw = ! ls ../../data/$project/bwa/mergedLibrary/bigwig/*.bigWig\n",
    "bw"
   ]
  },
  {
   "cell_type": "code",
   "execution_count": null,
   "metadata": {},
   "outputs": [],
   "source": [
    "cond1peak = ! ls ../../data/$project/diffPeaks_unscaled/*cond1.bed\n",
    "cond2peak = ! ls ../../data/$project/diffPeaks_unscaled/*cond2.bed\n",
    "commonpeak = ! ls ../../data/$project/diffPeaks_unscaled/*common.bed\n",
    "commonpeak"
   ]
  },
  {
   "cell_type": "code",
   "execution_count": null,
   "metadata": {},
   "outputs": [],
   "source": [
    "for i in range(int(len(bw[2:]))):\n",
    "    name1 = bw[i%2]\n",
    "    name2 = bw[2+i]\n",
    "    a = int(i/2)+3 if i%2 else int(i/2)\n",
    "    peak = [cond1peak[a], commonpeak[a], cond2peak[a]]\n",
    "    #for val in peak:\n",
    "     #   chip.dropWeirdChromosomes(val)\n",
    "    name = names[i+2]\n",
    "    print(name1,name2)\n",
    "    chip.getPeaksAt(peak, [name1, name2], bigwignames=['DMSO', 'VHL'], peaknames=['DMSO_peaks', 'common', 'VHL_peaks'], window=3000, folder=\"\", title=name, numthreads=7, torecompute=True, refpoint='center', name='../../data/'+project+'/diffPeaks_unscaled/'+name+'_mat.pdf', withDeeptools=True)"
   ]
  },
  {
   "cell_type": "code",
   "execution_count": null,
   "metadata": {},
   "outputs": [],
   "source": [
    "h.createFoldersFor('../results/'+project+'/plots/unscaled/diffPeaks/')\n",
    "! cp ../../data/$project/diffPeaks_unscaled/*.pdf ../results/$project/plots/unscaled/diffPeaks/\n",
    "\n",
    "! gsutil -m cp gs://amlproject/Chip/$project/bwa/mergedLibrary/deepTools/**.pdf ../results/$project/plots/"
   ]
  },
  {
   "cell_type": "code",
   "execution_count": null,
   "metadata": {},
   "outputs": [],
   "source": [
    "! gsutil -m cp -r ../../data/$project/diffPeaks gs://amlproject/Chip/$project/\n",
    "! gsutil -m cp -r ../../data/$project/diffData gs://amlproject/Chip/$project/\n",
    "! gsutil -m cp -r ../../data/$project/diffPeaks_unscaled gs://amlproject/Chip/$project/\n",
    "! gsutil -m cp -r ../../data/$project/diffData_unscaled gs://amlproject/Chip/$project/\n",
    "! gsutil -m cp -r ../../data/$project/peakplot gs://amlproject/Chip/$project/"
   ]
  },
  {
   "cell_type": "markdown",
   "metadata": {},
   "source": [
    "## v8"
   ]
  },
  {
   "cell_type": "code",
   "execution_count": 293,
   "metadata": {},
   "outputs": [],
   "source": [
    "project=\"chipseq_IRF8_degraded\""
   ]
  },
  {
   "cell_type": "code",
   "execution_count": null,
   "metadata": {},
   "outputs": [],
   "source": [
    "fastq = ! gsutil ls gs://transfer-amlproject/201023_MP8292_fastq/\n",
    "fastq"
   ]
  },
  {
   "cell_type": "code",
   "execution_count": null,
   "metadata": {},
   "outputs": [],
   "source": [
    "mkdir ../data/$project/ && mkdir ../data/$project/qc/"
   ]
  },
  {
   "cell_type": "code",
   "execution_count": null,
   "metadata": {},
   "outputs": [],
   "source": [
    "!gsutil -m cp gs://transfer-amlproject/201023_MP8292_fastq/multiqc_report.html ../data/$project/qc/\n",
    "!gsutil -m cp -r gs://transfer-amlproject/201023_MP8292_fastq/Reports/ ../data/$project/qc/\n",
    "!gsutil -m cp -r gs://transfer-amlproject/201023_MP8292_fastq/multiqc_data/ ../data/$project/qc/"
   ]
  },
  {
   "cell_type": "code",
   "execution_count": null,
   "metadata": {},
   "outputs": [],
   "source": [
    "! gsutil -m cp gs://transfer-amlproject/201023_MP8292_fastq/*  gs://transfer-amlproject/$project/"
   ]
  },
  {
   "cell_type": "markdown",
   "metadata": {},
   "source": [
    "### analysis"
   ]
  },
  {
   "cell_type": "code",
   "execution_count": null,
   "metadata": {},
   "outputs": [],
   "source": [
    "rename = {\n",
    "\"20201023_IRF8_DMSO_MP8292_S119\": \"mp901-MV411_IRF8_NT_DMSO-IRF8-r1\",\n",
    "\"20201023_IRF8_VHL_MP8292_S125\": \"mp902-MV411_IRF8_NT_VHL-IRF8-r1\",\n",
    "\"20201023_MED1_DMSO_MP8292_S122\": \"mp903-MV411_IRF8_NT_DMSO-MED1-r1\",\n",
    "\"20201023_MED1_VHL_MP8292_S128\": \"mp904-MV411_IRF8_NT_VHL-MED1-r1\",\n",
    "\"20201023_MEF2C_DMSO_MP8292_S121\": \"mp905-MV411_IRF8_NT_DMSO-MEF2C-r1\",\n",
    "\"20201023_MEF2C_VHL_MP8292_S127\": \"mp906-MV411_IRF8_NT_VHL-MEF2C-r1\",\n",
    "\"20201023_MEF2D_DMSO_MP8292_S120\": \"mp907-MV411_IRF8_NT_DMSO-MEF2D-r1\",\n",
    "\"20201023_MEF2D_VHL_MP8292_S126\": \"mp908-MV411_IRF8_NT_VHL-MEF2D-r1\",\n",
    "\"20201023_MYC_DMSO_MP8292_S123\": \"mp909-MV411_IRF8_NT_DMSO-MYC-r1\",\n",
    "\"20201023_MYC_VHL_MP8292_S129\": \"mp910-MV411_IRF8_NT_VHL-MYC-r1\",\n",
    "\"20201023_POL_II_total_DMSO_MP8292_S124\": \"mp911-MV411_IRF8_NT_DMSO-POLII_total-r1\",\n",
    "\"20201023_POL_II_total_VHL_MP8292_S130\": \"mp912-MV411_IRF8_NT_VHL-POLII_total-r1\",}"
   ]
  },
  {
   "cell_type": "code",
   "execution_count": null,
   "metadata": {},
   "outputs": [],
   "source": [
    "for val in fastq:\n",
    "    rep = val\n",
    "    for k,v in rename.items():\n",
    "        rep = rep.replace(k,v)\n",
    "    rep = rep.replace('transfer-amlproject/201023_MP8292_fastq/',\"amlproject/Chip/\"+project+'/fastqs')\n",
    "    !gsutil cp $val $rep"
   ]
  },
  {
   "cell_type": "code",
   "execution_count": null,
   "metadata": {},
   "outputs": [],
   "source": [
    "from gsheets import Sheets\n",
    "sheets = Sheets.from_files('~/.client_secret.json', '~/.storage.json')\n",
    "url=\"https://docs.google.com/spreadsheets/d/1yFLjYB1McU530JnLgL0QIMAKIkVl3kl0_LCHje2gk8U\"\n",
    "gsheet = sheets.get(url).sheets[2].to_frame()"
   ]
  },
  {
   "cell_type": "code",
   "execution_count": null,
   "metadata": {},
   "outputs": [],
   "source": [
    "fastq = ! gsutil ls gs://amlproject/Chip/$project/fastqs/\n",
    "fastq"
   ]
  },
  {
   "cell_type": "code",
   "execution_count": null,
   "metadata": {},
   "outputs": [],
   "source": [
    "df = {\n",
    "\"fastq_1\": [],\n",
    "\"fastq_2\": [],\n",
    "\"antibody\": [],\n",
    "\"group\": [],\n",
    "\"replicate\": [],\n",
    "\"control\": []\n",
    "}\n",
    "for val in h.grouped(fastq,2):\n",
    "    row = gsheet[gsheet.id==val[0].split('/')[-1].split('-')[0]]\n",
    "    df['group'].append(\"MV4\"+row['name'].values[0].split('-r')[0].split('-MV4')[1])\n",
    "    df['replicate'].append(row['name'].values[0].split('-r')[1])\n",
    "    df['fastq_1'].append(val[0])\n",
    "    df['fastq_2'].append(val[1])\n",
    "    df['antibody'].append(row['protein'].values[0])\n",
    "    df['control'].append(\"INPUT\")\n",
    "df['group'].append('INPUT')\n",
    "df['replicate'].append(1)\n",
    "df['fastq_1'].append('gs://amlproject/Chip/IRF2BP2_degraded_rep3/fastqs/mp845-MV411-INPUT-r2_R1.fastq.gz')\n",
    "df['fastq_2'].append('gs://amlproject/Chip/IRF2BP2_degraded_rep3/fastqs/mp845-MV411-INPUT-r2_R2.fastq.gz')\n",
    "df['antibody'].append(\"\")\n",
    "df['control'].append(\"\")\n",
    "df = pd.DataFrame(df)"
   ]
  },
  {
   "cell_type": "code",
   "execution_count": null,
   "metadata": {},
   "outputs": [],
   "source": [
    "df"
   ]
  },
  {
   "cell_type": "code",
   "execution_count": null,
   "metadata": {},
   "outputs": [],
   "source": [
    "df[df.columns[[3,4,0,1,2,5]]].to_csv('../nextflow/'+project+'_design.csv',index=False)"
   ]
  },
  {
   "cell_type": "markdown",
   "metadata": {},
   "source": [
    "### about\n",
    "\n",
    "0. you need to have a google project set up with a billing account\n",
    "1. you need to activte your APIs this way: https://cloud.google.com/life-sciences/docs/tutorials/nextflow?hl=fr\n",
    "2. nextflow needs to be installed with this installation command `export NXF_MODE=google && curl https://get.nextflow.io | bash`"
   ]
  },
  {
   "cell_type": "code",
   "execution_count": null,
   "metadata": {},
   "outputs": [],
   "source": [
    "! cd ../../nextflow log ## to get access to the previous runs"
   ]
  },
  {
   "cell_type": "code",
   "execution_count": null,
   "metadata": {},
   "outputs": [],
   "source": [
    "#process chips \n",
    "! ../../nextflow run jkobject/chipseq \\\n",
    "    --paired_end \\\n",
    "    --seq_center 'DFCI' \\\n",
    "    --email 'jkobject@gmail.com' \\\n",
    "    --input ../nextflow/chipseq_IRF8_degraded_design.csv \\\n",
    "    --genome GRCh38 \\\n",
    "    --max_cpus 16 \\\n",
    "    -profile jkcloud \\ #my profile for the cloud (to edit for your account)\n",
    "    -w gs://workamlproject/IRF8res \\ #where the withinput will be stored\n",
    "    --spiking \\ #I have spiking using drosophilia genome (default)\n",
    "    --outdir gs://workamlproject/IRF8 \\ #specify aa bucket+folderr where the results will be\n",
    "    --tracedir ../nextflow/IRF8info/ \\ #you need to specify a local place for that"
   ]
  },
  {
   "cell_type": "code",
   "execution_count": null,
   "metadata": {},
   "outputs": [],
   "source": [
    "h.createFoldersFor('../../data/'+project+'/bwa/mergedLibrary/')\n",
    "!gsutil -m cp gs://amlproject/Chip/$project/bwa/mergedLibrary/*.ba* ../../data/$project/bwa/mergedLibrary/\n",
    "! gsutil -m cp -r gs://amlproject/Chip/$project/bwa/mergedLibrary/bigwig/ ../../data/$project/bwa/mergedLibrary/\n",
    "! gsutil  -m cp -r gs://amlproject/Chip/$project/bwa/mergedLibrary/macs/ ../../data/$project/bwa/mergedLibrary/"
   ]
  },
  {
   "cell_type": "markdown",
   "metadata": {},
   "source": [
    "computing scales from the excel sheet"
   ]
  },
  {
   "cell_type": "code",
   "execution_count": null,
   "metadata": {},
   "outputs": [],
   "source": [
    "scales = [\n",
    "        1.00,\n",
    "        0.79,\n",
    "        0.59,\n",
    "        1.00,\n",
    "        0.77,\n",
    "        1.00,\n",
    "        1.00,\n",
    "        0.72,\n",
    "        0.91,\n",
    "        1.00,\n",
    "        1.00,\n",
    "        0.23,\n",
    "         ]"
   ]
  },
  {
   "cell_type": "code",
   "execution_count": null,
   "metadata": {
    "scrolled": true
   },
   "outputs": [],
   "source": [
    "bams = ! ls ../../data/$project/bwa/mergedLibrary/*.bam\n",
    "bams"
   ]
  },
  {
   "cell_type": "markdown",
   "metadata": {},
   "source": [
    "### on scalled data"
   ]
  },
  {
   "cell_type": "code",
   "execution_count": null,
   "metadata": {},
   "outputs": [],
   "source": [
    "! mkdir ../../data/$project/diffPeaks/ && ! mkdir ../../data/$project/diffData/"
   ]
  },
  {
   "cell_type": "code",
   "execution_count": null,
   "metadata": {},
   "outputs": [],
   "source": [
    "wigs = ! ls ../../data/$project/bwa/mergedLibrary/bigwig/*.bigWig\n",
    "wigs"
   ]
  },
  {
   "cell_type": "code",
   "execution_count": null,
   "metadata": {
    "scrolled": true
   },
   "outputs": [],
   "source": [
    "# diffPeak on scaled data (full reprocessing)\n",
    "for i in range(int(len(bams)/2)):\n",
    "    if i < 0:\n",
    "        continue\n",
    "    bam1 = bams[1+i]\n",
    "    bam2 = bams[7+i]\n",
    "    print(bam1,bam2)\n",
    "    print(chip.fullDiffPeak(bam1,bam2, control1=bams[0], scaling=[scales[(i*2)], scales[(i*2)+1]], directory = \"../../data/\"+project+\"/diffData/\", res_directory = \"../../data/\"+project+\"/diffPeaks/\",pairedend=True))"
   ]
  },
  {
   "cell_type": "code",
   "execution_count": null,
   "metadata": {},
   "outputs": [],
   "source": [
    "initscales = ! cat ../../data/$project/bwa/mergedLibrary/bigwig/scale/*.txt\n",
    "initscales"
   ]
  },
  {
   "cell_type": "code",
   "execution_count": null,
   "metadata": {},
   "outputs": [],
   "source": [
    "rescales = [val*float(initscales[1+i]) for i, val in enumerate(scales)]\n",
    "rescales"
   ]
  },
  {
   "cell_type": "code",
   "execution_count": null,
   "metadata": {},
   "outputs": [],
   "source": [
    "chip.bigWigFrom(bams[1:], \n",
    "                genome='GRCh38',scaling=rescales,\n",
    "               numthreads=8)"
   ]
  },
  {
   "cell_type": "code",
   "execution_count": null,
   "metadata": {},
   "outputs": [],
   "source": [
    "!mkdir ../../data/$project/recalib_bigwig/"
   ]
  },
  {
   "cell_type": "code",
   "execution_count": null,
   "metadata": {
    "scrolled": false
   },
   "outputs": [],
   "source": [
    "!mv bigwig/* ../../data/$project/recalib_bigwig/"
   ]
  },
  {
   "cell_type": "code",
   "execution_count": null,
   "metadata": {
    "scrolled": true
   },
   "outputs": [],
   "source": [
    "os.popen('for i in $(ls ../../data/'+project+'/diffPeaks/*.bed); \\\n",
    "            do echo $(wc -l $i); \\\n",
    "            done').read().split('\\n')"
   ]
  },
  {
   "cell_type": "code",
   "execution_count": 294,
   "metadata": {
    "scrolled": true
   },
   "outputs": [
    {
     "data": {
      "text/plain": [
       "['../../data/chipseq_IRF8_degraded/recalib_bigwig/MV411_IRF8_NT_DMSO-IRF8_R1.bw',\n",
       " '../../data/chipseq_IRF8_degraded/recalib_bigwig/MV411_IRF8_NT_DMSO-MED1_R1.bw',\n",
       " '../../data/chipseq_IRF8_degraded/recalib_bigwig/MV411_IRF8_NT_DMSO-MEF2C_R1.bw',\n",
       " '../../data/chipseq_IRF8_degraded/recalib_bigwig/MV411_IRF8_NT_DMSO-MEF2D_R1.bw',\n",
       " '../../data/chipseq_IRF8_degraded/recalib_bigwig/MV411_IRF8_NT_DMSO-MYC_R1.bw',\n",
       " '../../data/chipseq_IRF8_degraded/recalib_bigwig/MV411_IRF8_NT_DMSO-POLII_total_R1.bw',\n",
       " '../../data/chipseq_IRF8_degraded/recalib_bigwig/MV411_IRF8_NT_VHL-IRF8_R1.bw',\n",
       " '../../data/chipseq_IRF8_degraded/recalib_bigwig/MV411_IRF8_NT_VHL-MED1_R1.bw',\n",
       " '../../data/chipseq_IRF8_degraded/recalib_bigwig/MV411_IRF8_NT_VHL-MEF2C_R1.bw',\n",
       " '../../data/chipseq_IRF8_degraded/recalib_bigwig/MV411_IRF8_NT_VHL-MEF2D_R1.bw',\n",
       " '../../data/chipseq_IRF8_degraded/recalib_bigwig/MV411_IRF8_NT_VHL-MYC_R1.bw',\n",
       " '../../data/chipseq_IRF8_degraded/recalib_bigwig/MV411_IRF8_NT_VHL-POLII_total_R1.bw']"
      ]
     },
     "execution_count": 294,
     "metadata": {},
     "output_type": "execute_result"
    }
   ],
   "source": [
    "bw = ! ls ../../data/$project/recalib_bigwig/*\n",
    "bw"
   ]
  },
  {
   "cell_type": "code",
   "execution_count": 295,
   "metadata": {},
   "outputs": [
    {
     "name": "stdout",
     "output_type": "stream",
     "text": [
      "-rw-r--r-- 1 jeremie jeremie 133M Nov  5 14:57 ../../data/chipseq_IRF8_degraded/recalib_bigwig/MV411_IRF8_NT_DMSO-IRF8_R1.bw\r\n",
      "-rw-r--r-- 1 jeremie jeremie 168M Nov  5 15:00 ../../data/chipseq_IRF8_degraded/recalib_bigwig/MV411_IRF8_NT_DMSO-MED1_R1.bw\r\n",
      "-rw-r--r-- 1 jeremie jeremie 160M Nov  5 15:03 ../../data/chipseq_IRF8_degraded/recalib_bigwig/MV411_IRF8_NT_DMSO-MEF2C_R1.bw\r\n",
      "-rw-r--r-- 1 jeremie jeremie 164M Nov  5 15:05 ../../data/chipseq_IRF8_degraded/recalib_bigwig/MV411_IRF8_NT_DMSO-MEF2D_R1.bw\r\n",
      "-rw-r--r-- 1 jeremie jeremie 168M Nov  5 15:08 ../../data/chipseq_IRF8_degraded/recalib_bigwig/MV411_IRF8_NT_DMSO-MYC_R1.bw\r\n",
      "-rw-r--r-- 1 jeremie jeremie 152M Nov  5 15:11 ../../data/chipseq_IRF8_degraded/recalib_bigwig/MV411_IRF8_NT_DMSO-POLII_total_R1.bw\r\n",
      "-rw-r--r-- 1 jeremie jeremie 150M Nov  5 15:13 ../../data/chipseq_IRF8_degraded/recalib_bigwig/MV411_IRF8_NT_VHL-IRF8_R1.bw\r\n",
      "-rw-r--r-- 1 jeremie jeremie 181M Nov  5 15:17 ../../data/chipseq_IRF8_degraded/recalib_bigwig/MV411_IRF8_NT_VHL-MED1_R1.bw\r\n",
      "-rw-r--r-- 1 jeremie jeremie 160M Nov  5 15:19 ../../data/chipseq_IRF8_degraded/recalib_bigwig/MV411_IRF8_NT_VHL-MEF2C_R1.bw\r\n",
      "-rw-r--r-- 1 jeremie jeremie 154M Nov  5 15:22 ../../data/chipseq_IRF8_degraded/recalib_bigwig/MV411_IRF8_NT_VHL-MEF2D_R1.bw\r\n",
      "-rw-r--r-- 1 jeremie jeremie 159M Nov  5 15:25 ../../data/chipseq_IRF8_degraded/recalib_bigwig/MV411_IRF8_NT_VHL-MYC_R1.bw\r\n",
      "-rw-r--r-- 1 jeremie jeremie 161M Nov  5 15:28 ../../data/chipseq_IRF8_degraded/recalib_bigwig/MV411_IRF8_NT_VHL-POLII_total_R1.bw\r\n"
     ]
    }
   ],
   "source": [
    "ls -alh ../../data/$project/recalib_bigwig/*"
   ]
  },
  {
   "cell_type": "code",
   "execution_count": null,
   "metadata": {},
   "outputs": [],
   "source": [
    "!mkdir ../results/$project/\n",
    "!mkdir ../results/$project/plots\n",
    "!mkdir ../results/$project/plots/heatmaps/"
   ]
  },
  {
   "cell_type": "code",
   "execution_count": 247,
   "metadata": {},
   "outputs": [
    {
     "data": {
      "text/plain": [
       "['../../data/chipseq_IRF8_degraded/bwa/mergedLibrary/macs/broadPeak/MV411_IRF8_NT_DMSO-IRF8_R1_peaks.broadPeak',\n",
       " '../../data/chipseq_IRF8_degraded/bwa/mergedLibrary/macs/broadPeak/MV411_IRF8_NT_DMSO-MED1_R1_peaks.broadPeak',\n",
       " '../../data/chipseq_IRF8_degraded/bwa/mergedLibrary/macs/broadPeak/MV411_IRF8_NT_DMSO-MEF2C_R1_peaks.broadPeak',\n",
       " '../../data/chipseq_IRF8_degraded/bwa/mergedLibrary/macs/broadPeak/MV411_IRF8_NT_DMSO-MEF2D_R1_peaks.broadPeak',\n",
       " '../../data/chipseq_IRF8_degraded/bwa/mergedLibrary/macs/broadPeak/MV411_IRF8_NT_DMSO-MYC_R1_peaks.broadPeak',\n",
       " '../../data/chipseq_IRF8_degraded/bwa/mergedLibrary/macs/broadPeak/MV411_IRF8_NT_DMSO-POLII_total_R1_peaks.broadPeak',\n",
       " '../../data/chipseq_IRF8_degraded/bwa/mergedLibrary/macs/broadPeak/MV411_IRF8_NT_VHL-IRF8_R1_peaks.broadPeak',\n",
       " '../../data/chipseq_IRF8_degraded/bwa/mergedLibrary/macs/broadPeak/MV411_IRF8_NT_VHL-MED1_R1_peaks.broadPeak',\n",
       " '../../data/chipseq_IRF8_degraded/bwa/mergedLibrary/macs/broadPeak/MV411_IRF8_NT_VHL-MEF2C_R1_peaks.broadPeak',\n",
       " '../../data/chipseq_IRF8_degraded/bwa/mergedLibrary/macs/broadPeak/MV411_IRF8_NT_VHL-MEF2D_R1_peaks.broadPeak',\n",
       " '../../data/chipseq_IRF8_degraded/bwa/mergedLibrary/macs/broadPeak/MV411_IRF8_NT_VHL-MYC_R1_peaks.broadPeak',\n",
       " '../../data/chipseq_IRF8_degraded/bwa/mergedLibrary/macs/broadPeak/MV411_IRF8_NT_VHL-POLII_total_R1_peaks.broadPeak']"
      ]
     },
     "execution_count": 247,
     "metadata": {},
     "output_type": "execute_result"
    }
   ],
   "source": [
    "peaks = ! ls ../../data/$project/bwa/mergedLibrary/macs/broadPeak/*.broadPeak\n",
    "peaks"
   ]
  },
  {
   "cell_type": "code",
   "execution_count": 217,
   "metadata": {},
   "outputs": [],
   "source": [
    "names = [\"IRF8\",\"MED1\",\"MEF2C\",\"MEF2D\",\"MYC\",\"POLII_total\"]"
   ]
  },
  {
   "cell_type": "markdown",
   "metadata": {},
   "source": [
    "#### merging peaks VHL/DMSO"
   ]
  },
  {
   "cell_type": "code",
   "execution_count": 255,
   "metadata": {},
   "outputs": [
    {
     "name": "stdout",
     "output_type": "stream",
     "text": [
      "IRF8\n",
      "MED1996925631014236653\n",
      "MEF2C96693012335075663\n",
      "MEF2D94242118900254446\n",
      "MYC98700454840805766\n",
      "POLII_total16513567554\n",
      "0.99996983818184563455\r"
     ]
    }
   ],
   "source": [
    "mpeaks = []\n",
    "for i, val in enumerate(names):\n",
    "    if i<0:\n",
    "        continue\n",
    "    print(val)\n",
    "    dmso = peaks[i]\n",
    "    vhl = peaks[i+6]\n",
    "    chip.simpleMergePeaks(pd.concat([chip.loadPeaks(dmso), chip.loadPeaks(vhl)])).to_csv('../../data/' + project + '/' + val + '_genomewide_merged.bed', sep='\\t', header=False, index=False)\n",
    "    mpeaks.append('../../data/'+project+'/'+val+'_genomewide_merged.bed')"
   ]
  },
  {
   "cell_type": "markdown",
   "metadata": {},
   "source": [
    "#### GENOME WIDE comparison"
   ]
  },
  {
   "cell_type": "code",
   "execution_count": 256,
   "metadata": {
    "scrolled": false
   },
   "outputs": [
    {
     "name": "stdout",
     "output_type": "stream",
     "text": [
      "IRF8_DMSO\n",
      "CompletedProcess(args='computeMatrix reference-point -S ../../data/chipseq_IRF8_degraded/recalib_bigwig/MV411_IRF8_NT_DMSO-IRF8_R1.bw  --referencePoint center --regionsFileName ../../data/chipseq_IRF8_degraded/IRF8_genomewide_merged.bed --missingDataAsZero --outFileName ../../data/chipseq_IRF8_degraded/IRF8_DMSO_mat.gz --upstream 3000 --downstream 3000 --numberOfProcessors 8 && plotHeatmap --matrixFile ../../data/chipseq_IRF8_degraded/IRF8_DMSO_mat.gz --outFileName ../../data/chipseq_IRF8_degraded/IRF8_DMSO_mat.pdf --refPointLabel center --legendLocation lower-left --regionsLabel Macs2_Peaks --plotTitle IRF8_DMSO', returncode=0, stdout=b'', stderr=b'')\n",
      "MED1_DMSO\n",
      "CompletedProcess(args='computeMatrix reference-point -S ../../data/chipseq_IRF8_degraded/recalib_bigwig/MV411_IRF8_NT_DMSO-MED1_R1.bw  --referencePoint center --regionsFileName ../../data/chipseq_IRF8_degraded/MED1_genomewide_merged.bed --missingDataAsZero --outFileName ../../data/chipseq_IRF8_degraded/MED1_DMSO_mat.gz --upstream 3000 --downstream 3000 --numberOfProcessors 8 && plotHeatmap --matrixFile ../../data/chipseq_IRF8_degraded/MED1_DMSO_mat.gz --outFileName ../../data/chipseq_IRF8_degraded/MED1_DMSO_mat.pdf --refPointLabel center --legendLocation lower-left --regionsLabel Macs2_Peaks --plotTitle MED1_DMSO', returncode=0, stdout=b'', stderr=b'')\n",
      "MEF2C_DMSO\n",
      "CompletedProcess(args='computeMatrix reference-point -S ../../data/chipseq_IRF8_degraded/recalib_bigwig/MV411_IRF8_NT_DMSO-MEF2C_R1.bw  --referencePoint center --regionsFileName ../../data/chipseq_IRF8_degraded/MEF2C_genomewide_merged.bed --missingDataAsZero --outFileName ../../data/chipseq_IRF8_degraded/MEF2C_DMSO_mat.gz --upstream 3000 --downstream 3000 --numberOfProcessors 8 && plotHeatmap --matrixFile ../../data/chipseq_IRF8_degraded/MEF2C_DMSO_mat.gz --outFileName ../../data/chipseq_IRF8_degraded/MEF2C_DMSO_mat.pdf --refPointLabel center --legendLocation lower-left --regionsLabel Macs2_Peaks --plotTitle MEF2C_DMSO', returncode=0, stdout=b'', stderr=b'')\n",
      "MEF2D_DMSO\n",
      "CompletedProcess(args='computeMatrix reference-point -S ../../data/chipseq_IRF8_degraded/recalib_bigwig/MV411_IRF8_NT_DMSO-MEF2D_R1.bw  --referencePoint center --regionsFileName ../../data/chipseq_IRF8_degraded/MEF2D_genomewide_merged.bed --missingDataAsZero --outFileName ../../data/chipseq_IRF8_degraded/MEF2D_DMSO_mat.gz --upstream 3000 --downstream 3000 --numberOfProcessors 8 && plotHeatmap --matrixFile ../../data/chipseq_IRF8_degraded/MEF2D_DMSO_mat.gz --outFileName ../../data/chipseq_IRF8_degraded/MEF2D_DMSO_mat.pdf --refPointLabel center --legendLocation lower-left --regionsLabel Macs2_Peaks --plotTitle MEF2D_DMSO', returncode=0, stdout=b'', stderr=b'')\n",
      "MYC_DMSO\n",
      "CompletedProcess(args='computeMatrix reference-point -S ../../data/chipseq_IRF8_degraded/recalib_bigwig/MV411_IRF8_NT_DMSO-MYC_R1.bw  --referencePoint center --regionsFileName ../../data/chipseq_IRF8_degraded/MYC_genomewide_merged.bed --missingDataAsZero --outFileName ../../data/chipseq_IRF8_degraded/MYC_DMSO_mat.gz --upstream 3000 --downstream 3000 --numberOfProcessors 8 && plotHeatmap --matrixFile ../../data/chipseq_IRF8_degraded/MYC_DMSO_mat.gz --outFileName ../../data/chipseq_IRF8_degraded/MYC_DMSO_mat.pdf --refPointLabel center --legendLocation lower-left --regionsLabel Macs2_Peaks --plotTitle MYC_DMSO', returncode=0, stdout=b'', stderr=b'')\n",
      "POLII_total_DMSO\n",
      "CompletedProcess(args='computeMatrix reference-point -S ../../data/chipseq_IRF8_degraded/recalib_bigwig/MV411_IRF8_NT_DMSO-POLII_total_R1.bw  --referencePoint center --regionsFileName ../../data/chipseq_IRF8_degraded/POLII_total_genomewide_merged.bed --missingDataAsZero --outFileName ../../data/chipseq_IRF8_degraded/POLII_total_DMSO_mat.gz --upstream 3000 --downstream 3000 --numberOfProcessors 8 && plotHeatmap --matrixFile ../../data/chipseq_IRF8_degraded/POLII_total_DMSO_mat.gz --outFileName ../../data/chipseq_IRF8_degraded/POLII_total_DMSO_mat.pdf --refPointLabel center --legendLocation lower-left --regionsLabel Macs2_Peaks --plotTitle POLII_total_DMSO', returncode=0, stdout=b'', stderr=b'')\n",
      "IRF8_wIRF8ko\n",
      "CompletedProcess(args='computeMatrix reference-point -S ../../data/chipseq_IRF8_degraded/recalib_bigwig/MV411_IRF8_NT_VHL-IRF8_R1.bw  --referencePoint center --regionsFileName ../../data/chipseq_IRF8_degraded/IRF8_genomewide_merged.bed --missingDataAsZero --outFileName ../../data/chipseq_IRF8_degraded/IRF8_wIRF8ko_mat.gz --upstream 3000 --downstream 3000 --numberOfProcessors 8 && plotHeatmap --matrixFile ../../data/chipseq_IRF8_degraded/IRF8_wIRF8ko_mat.gz --outFileName ../../data/chipseq_IRF8_degraded/IRF8_wIRF8ko_mat.pdf --refPointLabel center --legendLocation lower-left --regionsLabel Macs2_Peaks --plotTitle IRF8_wIRF8ko', returncode=0, stdout=b'', stderr=b'')\n",
      "MED1_wIRF8ko\n",
      "CompletedProcess(args='computeMatrix reference-point -S ../../data/chipseq_IRF8_degraded/recalib_bigwig/MV411_IRF8_NT_VHL-MED1_R1.bw  --referencePoint center --regionsFileName ../../data/chipseq_IRF8_degraded/MED1_genomewide_merged.bed --missingDataAsZero --outFileName ../../data/chipseq_IRF8_degraded/MED1_wIRF8ko_mat.gz --upstream 3000 --downstream 3000 --numberOfProcessors 8 && plotHeatmap --matrixFile ../../data/chipseq_IRF8_degraded/MED1_wIRF8ko_mat.gz --outFileName ../../data/chipseq_IRF8_degraded/MED1_wIRF8ko_mat.pdf --refPointLabel center --legendLocation lower-left --regionsLabel Macs2_Peaks --plotTitle MED1_wIRF8ko', returncode=0, stdout=b'', stderr=b'')\n",
      "MEF2C_wIRF8ko\n",
      "CompletedProcess(args='computeMatrix reference-point -S ../../data/chipseq_IRF8_degraded/recalib_bigwig/MV411_IRF8_NT_VHL-MEF2C_R1.bw  --referencePoint center --regionsFileName ../../data/chipseq_IRF8_degraded/MEF2C_genomewide_merged.bed --missingDataAsZero --outFileName ../../data/chipseq_IRF8_degraded/MEF2C_wIRF8ko_mat.gz --upstream 3000 --downstream 3000 --numberOfProcessors 8 && plotHeatmap --matrixFile ../../data/chipseq_IRF8_degraded/MEF2C_wIRF8ko_mat.gz --outFileName ../../data/chipseq_IRF8_degraded/MEF2C_wIRF8ko_mat.pdf --refPointLabel center --legendLocation lower-left --regionsLabel Macs2_Peaks --plotTitle MEF2C_wIRF8ko', returncode=0, stdout=b'', stderr=b'')\n",
      "MEF2D_wIRF8ko\n",
      "CompletedProcess(args='computeMatrix reference-point -S ../../data/chipseq_IRF8_degraded/recalib_bigwig/MV411_IRF8_NT_VHL-MEF2D_R1.bw  --referencePoint center --regionsFileName ../../data/chipseq_IRF8_degraded/MEF2D_genomewide_merged.bed --missingDataAsZero --outFileName ../../data/chipseq_IRF8_degraded/MEF2D_wIRF8ko_mat.gz --upstream 3000 --downstream 3000 --numberOfProcessors 8 && plotHeatmap --matrixFile ../../data/chipseq_IRF8_degraded/MEF2D_wIRF8ko_mat.gz --outFileName ../../data/chipseq_IRF8_degraded/MEF2D_wIRF8ko_mat.pdf --refPointLabel center --legendLocation lower-left --regionsLabel Macs2_Peaks --plotTitle MEF2D_wIRF8ko', returncode=0, stdout=b'', stderr=b'')\n",
      "MYC_wIRF8ko\n",
      "CompletedProcess(args='computeMatrix reference-point -S ../../data/chipseq_IRF8_degraded/recalib_bigwig/MV411_IRF8_NT_VHL-MYC_R1.bw  --referencePoint center --regionsFileName ../../data/chipseq_IRF8_degraded/MYC_genomewide_merged.bed --missingDataAsZero --outFileName ../../data/chipseq_IRF8_degraded/MYC_wIRF8ko_mat.gz --upstream 3000 --downstream 3000 --numberOfProcessors 8 && plotHeatmap --matrixFile ../../data/chipseq_IRF8_degraded/MYC_wIRF8ko_mat.gz --outFileName ../../data/chipseq_IRF8_degraded/MYC_wIRF8ko_mat.pdf --refPointLabel center --legendLocation lower-left --regionsLabel Macs2_Peaks --plotTitle MYC_wIRF8ko', returncode=0, stdout=b'', stderr=b'')\n",
      "POLII_total_wIRF8ko\n",
      "CompletedProcess(args='computeMatrix reference-point -S ../../data/chipseq_IRF8_degraded/recalib_bigwig/MV411_IRF8_NT_VHL-POLII_total_R1.bw  --referencePoint center --regionsFileName ../../data/chipseq_IRF8_degraded/POLII_total_genomewide_merged.bed --missingDataAsZero --outFileName ../../data/chipseq_IRF8_degraded/POLII_total_wIRF8ko_mat.gz --upstream 3000 --downstream 3000 --numberOfProcessors 8 && plotHeatmap --matrixFile ../../data/chipseq_IRF8_degraded/POLII_total_wIRF8ko_mat.gz --outFileName ../../data/chipseq_IRF8_degraded/POLII_total_wIRF8ko_mat.pdf --refPointLabel center --legendLocation lower-left --regionsLabel Macs2_Peaks --plotTitle POLII_total_wIRF8ko', returncode=0, stdout=b'', stderr=b'')\n"
     ]
    }
   ],
   "source": [
    "for i, val in enumerate(bw):\n",
    "    if i < 0:\n",
    "        continue\n",
    "    name = names[i-6]+'_wIRF8ko' if i//6 else names[i]+'_DMSO'\n",
    "    print(name)\n",
    "    chip.getPeaksAt(mpeaks[i%6], bigwigs = val, bigwignames= name, peaknames=['Macs2_Peaks'], window=3000, folder=\"\", title=name, numthreads=8, refpoint=\"center\", name='../results/'+project+'/'+name+'_mat.pdf', withDeeptools=True, torecompute=True, legendLoc=\"lower-left\")"
   ]
  },
  {
   "cell_type": "markdown",
   "metadata": {},
   "source": [
    "#### making overlapping profiles"
   ]
  },
  {
   "cell_type": "code",
   "execution_count": 258,
   "metadata": {},
   "outputs": [
    {
     "name": "stdout",
     "output_type": "stream",
     "text": [
      "IRF8\n",
      "CompletedProcess(args='computeMatrixOperations relabel -m ../../data/chipseq_IRF8_degraded/IRF8_DMSO_mat.gz -o ../../data/chipseq_IRF8_degraded/IRF8_DMSO_mat.gz --groupLabels DMSO && computeMatrixOperations relabel -m ../../data/chipseq_IRF8_degraded/IRF8_wIRF8ko_mat.gz -o ../../data/chipseq_IRF8_degraded/IRF8_wIRF8ko_mat.gz --groupLabels VHL && computeMatrixOperations rbind -m ../../data/chipseq_IRF8_degraded/IRF8_DMSO_mat.gz ../../data/chipseq_IRF8_degraded/IRF8_wIRF8ko_mat.gz -o ../../data/chipseq_IRF8_degraded/IRF8_combined_mat.gz && plotProfile --matrixFile ../../data/chipseq_IRF8_degraded/IRF8_combined_mat.gz --outFileName ../../data/chipseq_IRF8_degraded/IRF8_combined_mat.pdf --refPointLabel center --legendLocation lower-left --plotTitle IRF8', returncode=0, stdout=b'', stderr=b'')\n",
      "MED1\n",
      "CompletedProcess(args='computeMatrixOperations relabel -m ../../data/chipseq_IRF8_degraded/MED1_DMSO_mat.gz -o ../../data/chipseq_IRF8_degraded/MED1_DMSO_mat.gz --groupLabels DMSO && computeMatrixOperations relabel -m ../../data/chipseq_IRF8_degraded/MED1_wIRF8ko_mat.gz -o ../../data/chipseq_IRF8_degraded/MED1_wIRF8ko_mat.gz --groupLabels VHL && computeMatrixOperations rbind -m ../../data/chipseq_IRF8_degraded/MED1_DMSO_mat.gz ../../data/chipseq_IRF8_degraded/MED1_wIRF8ko_mat.gz -o ../../data/chipseq_IRF8_degraded/MED1_combined_mat.gz && plotProfile --matrixFile ../../data/chipseq_IRF8_degraded/MED1_combined_mat.gz --outFileName ../../data/chipseq_IRF8_degraded/MED1_combined_mat.pdf --refPointLabel center --legendLocation lower-left --plotTitle MED1', returncode=0, stdout=b'', stderr=b'')\n",
      "MEF2C\n",
      "CompletedProcess(args='computeMatrixOperations relabel -m ../../data/chipseq_IRF8_degraded/MEF2C_DMSO_mat.gz -o ../../data/chipseq_IRF8_degraded/MEF2C_DMSO_mat.gz --groupLabels DMSO && computeMatrixOperations relabel -m ../../data/chipseq_IRF8_degraded/MEF2C_wIRF8ko_mat.gz -o ../../data/chipseq_IRF8_degraded/MEF2C_wIRF8ko_mat.gz --groupLabels VHL && computeMatrixOperations rbind -m ../../data/chipseq_IRF8_degraded/MEF2C_DMSO_mat.gz ../../data/chipseq_IRF8_degraded/MEF2C_wIRF8ko_mat.gz -o ../../data/chipseq_IRF8_degraded/MEF2C_combined_mat.gz && plotProfile --matrixFile ../../data/chipseq_IRF8_degraded/MEF2C_combined_mat.gz --outFileName ../../data/chipseq_IRF8_degraded/MEF2C_combined_mat.pdf --refPointLabel center --legendLocation lower-left --plotTitle MEF2C', returncode=0, stdout=b'', stderr=b'')\n",
      "MEF2D\n",
      "CompletedProcess(args='computeMatrixOperations relabel -m ../../data/chipseq_IRF8_degraded/MEF2D_DMSO_mat.gz -o ../../data/chipseq_IRF8_degraded/MEF2D_DMSO_mat.gz --groupLabels DMSO && computeMatrixOperations relabel -m ../../data/chipseq_IRF8_degraded/MEF2D_wIRF8ko_mat.gz -o ../../data/chipseq_IRF8_degraded/MEF2D_wIRF8ko_mat.gz --groupLabels VHL && computeMatrixOperations rbind -m ../../data/chipseq_IRF8_degraded/MEF2D_DMSO_mat.gz ../../data/chipseq_IRF8_degraded/MEF2D_wIRF8ko_mat.gz -o ../../data/chipseq_IRF8_degraded/MEF2D_combined_mat.gz && plotProfile --matrixFile ../../data/chipseq_IRF8_degraded/MEF2D_combined_mat.gz --outFileName ../../data/chipseq_IRF8_degraded/MEF2D_combined_mat.pdf --refPointLabel center --legendLocation lower-left --plotTitle MEF2D', returncode=0, stdout=b'', stderr=b'')\n",
      "MYC\n",
      "CompletedProcess(args='computeMatrixOperations relabel -m ../../data/chipseq_IRF8_degraded/MYC_DMSO_mat.gz -o ../../data/chipseq_IRF8_degraded/MYC_DMSO_mat.gz --groupLabels DMSO && computeMatrixOperations relabel -m ../../data/chipseq_IRF8_degraded/MYC_wIRF8ko_mat.gz -o ../../data/chipseq_IRF8_degraded/MYC_wIRF8ko_mat.gz --groupLabels VHL && computeMatrixOperations rbind -m ../../data/chipseq_IRF8_degraded/MYC_DMSO_mat.gz ../../data/chipseq_IRF8_degraded/MYC_wIRF8ko_mat.gz -o ../../data/chipseq_IRF8_degraded/MYC_combined_mat.gz && plotProfile --matrixFile ../../data/chipseq_IRF8_degraded/MYC_combined_mat.gz --outFileName ../../data/chipseq_IRF8_degraded/MYC_combined_mat.pdf --refPointLabel center --legendLocation lower-left --plotTitle MYC', returncode=0, stdout=b'', stderr=b'')\n",
      "POLII_total\n",
      "CompletedProcess(args='computeMatrixOperations relabel -m ../../data/chipseq_IRF8_degraded/POLII_total_DMSO_mat.gz -o ../../data/chipseq_IRF8_degraded/POLII_total_DMSO_mat.gz --groupLabels DMSO && computeMatrixOperations relabel -m ../../data/chipseq_IRF8_degraded/POLII_total_wIRF8ko_mat.gz -o ../../data/chipseq_IRF8_degraded/POLII_total_wIRF8ko_mat.gz --groupLabels VHL && computeMatrixOperations rbind -m ../../data/chipseq_IRF8_degraded/POLII_total_DMSO_mat.gz ../../data/chipseq_IRF8_degraded/POLII_total_wIRF8ko_mat.gz -o ../../data/chipseq_IRF8_degraded/POLII_total_combined_mat.gz && plotProfile --matrixFile ../../data/chipseq_IRF8_degraded/POLII_total_combined_mat.gz --outFileName ../../data/chipseq_IRF8_degraded/POLII_total_combined_mat.pdf --refPointLabel center --legendLocation lower-left --plotTitle POLII_total', returncode=0, stdout=b'', stderr=b'')\n"
     ]
    }
   ],
   "source": [
    "for i, val in enumerate(names):\n",
    "    if i <0:\n",
    "        continue\n",
    "    val1 = '../../data/'+project+'/' + val + '_DMSO_mat.gz'\n",
    "    val2 = '../../data/'+project+'/' + val + '_wIRF8ko_mat.gz'\n",
    "    print(val)\n",
    "    chip.makeProfiles(matx=[val1,val2], matnames=['DMSO','VHL'], title=val, numthreads=8, refpoint=\"center\", name='../results/'+project+'/'+val+'_combined_mat.pdf', legendLoc=\"lower-left\")"
   ]
  },
  {
   "cell_type": "code",
   "execution_count": null,
   "metadata": {},
   "outputs": [],
   "source": [
    "h.createFoldersFor('../results/'+project+'/plots/scaled/heatmaps/')\n",
    "! cp ../../data/$project/*.pdf ../results/$project/plots/scaled/heatmaps/"
   ]
  },
  {
   "cell_type": "code",
   "execution_count": null,
   "metadata": {
    "scrolled": true
   },
   "outputs": [],
   "source": [
    "cond1peak = ! ls ../../data/$project/diffPeaks/*cond1.bed\n",
    "cond2peak = ! ls ../../data/$project/diffPeaks/*cond2.bed\n",
    "commonpeak = ! ls ../../data/$project/diffPeaks/*common.bed\n",
    "cond1peak"
   ]
  },
  {
   "cell_type": "code",
   "execution_count": null,
   "metadata": {
    "scrolled": true
   },
   "outputs": [],
   "source": [
    "for i in range(int(len(bw)/2)):\n",
    "    if i <0:\n",
    "        continue\n",
    "    name1 = bw[i]\n",
    "    name2 = bw[i+6]\n",
    "    peak = [cond1peak[i], commonpeak[i], cond2peak[i]]\n",
    "   # for val in peak:\n",
    "      #  chip.dropWeirdChromosomes(val)\n",
    "    name = names[i]\n",
    "    print(name1,name2)\n",
    "    chip.getPeaksAt(peak, [name1, name2], bigwignames=['DMSO', 'VHL'], peaknames=['DMSO_peaks', 'common', 'VHL_peaks'], window=3000, folder=\"\", title=name, numthreads=8, refpoint=\"center\", name='../results/'+project+'/diffPeaks/'+name+'_mat.pdf', withDeeptools=True, torecompute=False)"
   ]
  },
  {
   "cell_type": "code",
   "execution_count": null,
   "metadata": {},
   "outputs": [],
   "source": [
    "! mkdir ../results/$project/plots/scaled/diffPeaks/\n",
    "! cp ../../data/$project/diffPeaks/*.pdf ../results/$project/plots/scaled/diffPeaks/"
   ]
  },
  {
   "cell_type": "markdown",
   "metadata": {},
   "source": [
    "#### Looking at TSS"
   ]
  },
  {
   "cell_type": "code",
   "execution_count": 189,
   "metadata": {},
   "outputs": [],
   "source": [
    "IRF8targets = h.fileToList('../results/slamseqMax/IRF8targets.txt')"
   ]
  },
  {
   "cell_type": "code",
   "execution_count": 198,
   "metadata": {},
   "outputs": [
    {
     "name": "stdout",
     "output_type": "stream",
     "text": [
      "../../data/chipseq_IRF8_degraded/recalib_bigwig/MV411_IRF8_NT_DMSO-IRF8_R1.bw\r\n",
      "../../data/chipseq_IRF8_degraded/recalib_bigwig/MV411_IRF8_NT_DMSO-MED1_R1.bw\r\n",
      "../../data/chipseq_IRF8_degraded/recalib_bigwig/MV411_IRF8_NT_DMSO-MEF2C_R1.bw\r\n",
      "../../data/chipseq_IRF8_degraded/recalib_bigwig/MV411_IRF8_NT_DMSO-MEF2D_R1.bw\r\n",
      "../../data/chipseq_IRF8_degraded/recalib_bigwig/MV411_IRF8_NT_DMSO-MYC_R1.bw\r\n",
      "../../data/chipseq_IRF8_degraded/recalib_bigwig/MV411_IRF8_NT_DMSO-POLII_total_R1.bw\r\n",
      "../../data/chipseq_IRF8_degraded/recalib_bigwig/MV411_IRF8_NT_VHL-IRF8_R1.bw\r\n",
      "../../data/chipseq_IRF8_degraded/recalib_bigwig/MV411_IRF8_NT_VHL-MED1_R1.bw\r\n",
      "../../data/chipseq_IRF8_degraded/recalib_bigwig/MV411_IRF8_NT_VHL-MEF2C_R1.bw\r\n",
      "../../data/chipseq_IRF8_degraded/recalib_bigwig/MV411_IRF8_NT_VHL-MEF2D_R1.bw\r\n",
      "../../data/chipseq_IRF8_degraded/recalib_bigwig/MV411_IRF8_NT_VHL-MYC_R1.bw\r\n",
      "../../data/chipseq_IRF8_degraded/recalib_bigwig/MV411_IRF8_NT_VHL-POLII_total_R1.bw\r\n"
     ]
    }
   ],
   "source": [
    "ls ../../data/chipseq_IRF8_degraded/recalib_bigwig/*"
   ]
  },
  {
   "cell_type": "code",
   "execution_count": 192,
   "metadata": {},
   "outputs": [],
   "source": [
    "peaksVHL = pd.read_csv('../../data/chipseq_IRF8_degraded/diffPeaks/MV411_IRF8_NT_DMSO-POLII_total_R1_treat_pileup_vs_MV411_IRF8_NT_VHL-POLII_total_R1_treat_pileup_c3.0_cond2.bed', sep='\\t',header=None, skiprows=1, names=['chrom','start','end','name','score'])\n",
    "peaksVHL['chrom']= [i[3:] for i in peaksVHL['chrom']]\n",
    "peaksVHL[['start','end']] = peaksVHL[['start','end']].astype(int)"
   ]
  },
  {
   "cell_type": "code",
   "execution_count": 193,
   "metadata": {},
   "outputs": [],
   "source": [
    "peaksDMSO = pd.read_csv('../../data/chipseq_IRF8_degraded/diffPeaks/MV411_IRF8_NT_DMSO-POLII_total_R1_treat_pileup_vs_MV411_IRF8_NT_VHL-POLII_total_R1_treat_pileup_c3.0_cond1.bed', sep='\\t', header=None, skiprows=1, names=['chrom','start','end','name','score'])\n",
    "peaksDMSO['chrom']= [i[3:] for i in peaksDMSO['chrom']]\n",
    "peaksDMSO[['start','end']] = peaksDMSO[['start','end']].astype(int)"
   ]
  },
  {
   "cell_type": "code",
   "execution_count": 194,
   "metadata": {},
   "outputs": [],
   "source": [
    "peakcommon = pd.read_csv('../../data/chipseq_IRF8_degraded/diffPeaks/MV411_IRF8_NT_DMSO-POLII_total_R1_treat_pileup_vs_MV411_IRF8_NT_VHL-POLII_total_R1_treat_pileup_c3.0_common.bed', sep='\\t',header=None, skiprows=1, names=['chrom','start','end','name','score'])\n",
    "peakcommon['chrom']= [i[3:] for i in peakcommon['chrom']]\n",
    "peakcommon[['start','end']] = peakcommon[['start','end']].astype(int)"
   ]
  },
  {
   "cell_type": "code",
   "execution_count": 16,
   "metadata": {},
   "outputs": [],
   "source": [
    "ensembltss['Chromosome/scaffold name'] = ensembltss['Chromosome/scaffold name'].astype(str)\n",
    "ensembltss = ensembltss[ensembltss['Chromosome/scaffold name'].isin(['1', '10', '11', '12', '13', '14', '15', '16', '17', '18', '19', '2', '20', '21', '22', '3', '4', '5', '6', '7', '8', '9','X','Y'])]\n",
    "ensembltss = ensembltss.drop_duplicates('Gene start (bp)')\n",
    "ensembltss = ensembltss.reset_index(drop=True)\n",
    "ensembltss = ensembltss.astype(str)\n",
    "ensembltss['loci'] = ensembltss['Transcription start site (TSS)'].astype(int)\n",
    "ensembltss['chrom'] = ensembltss['Chromosome/scaffold name']\n",
    "ensembltss = ensembltss.sort_values(by=['chrom','loci']).reset_index(drop=True)"
   ]
  },
  {
   "cell_type": "code",
   "execution_count": 199,
   "metadata": {},
   "outputs": [
    {
     "name": "stdout",
     "output_type": "stream",
     "text": [
      "99%%\r"
     ]
    }
   ],
   "source": [
    "chip.substractPeaksTo(peaksDMSO, ensembltss).to_csv('../../data/'+project+'/diffPeaks/polII_DMSO_TSSonly.bed',sep='\\t',index=None,header=False)\n",
    "chip.substractPeaksTo(peakcommon, ensembltss).to_csv('../../data/'+project+'/diffPeaks/polII_common_TSSonly.bed',sep='\\t',index=None,header=False)\n",
    "chip.substractPeaksTo(peaksVHL, ensembltss).to_csv('../../data/'+project+'/diffPeaks/polII_VHL_TSSonly.bed',sep='\\t',index=None,header=False)"
   ]
  },
  {
   "cell_type": "code",
   "execution_count": 200,
   "metadata": {},
   "outputs": [
    {
     "name": "stdout",
     "output_type": "stream",
     "text": [
      "CompletedProcess(args='computeMatrix reference-point -S ../../data/chipseq_IRF8_degraded/recalib_bigwig/MV411_IRF8_NT_DMSO-POLII_total_R1.bw ../../data/chipseq_IRF8_degraded/recalib_bigwig/MV411_IRF8_NT_VHL-POLII_total_R1.bw  --referencePoint center --regionsFileName ../../data/chipseq_IRF8_degraded/diffPeaks/polII_DMSO_TSSonly.bed --missingDataAsZero --outFileName ../../data/chipseq_IRF8_degraded/diffPeaks/polII_with_IRF8_degron_mat.gz --upstream 3000 --downstream 3000 --numberOfProcessors 4 && plotHeatmap --matrixFile ../../data/chipseq_IRF8_degraded/diffPeaks/polII_with_IRF8_degron_mat.gz --outFileName ../../data/chipseq_IRF8_degraded/diffPeaks/polII_with_IRF8_degron_mat.pdf --refPointLabel center --legendLocation lower-left --regionsLabel DMSO --plotTitle polII_with_IRF8_degron', returncode=0, stdout=b'', stderr=b'')\n"
     ]
    }
   ],
   "source": [
    "chip.getPeaksAt(['../../data/'+project+'/diffPeaks/polII_DMSO_TSSonly.bed', '../../data/'+project+'/diffPeaks/polII_common_TSSonly.bed', '../../data/'+project+'/diffPeaks/polII_VHL_TSSonly.bed'],\n",
    "                bigwigs = ['../../data/chipseq_IRF8_degraded/recalib_bigwig/MV411_IRF8_NT_DMSO-POLII_total_R1.bw', '../../data/chipseq_IRF8_degraded/recalib_bigwig/MV411_IRF8_NT_VHL-POLII_total_R1.bw'], \n",
    "                bigwignames= ['IRF8_DMSO', 'IRF8_VHL'], \n",
    "                peaknames=['DMSO','common','VHL'], window=3000, folder=\"\", title='polII_with_IRF8_degron', numthreads=4, \n",
    "                refpoint=\"center\", \n",
    "                name='../../data/'+project+'/diffPeaks/polII_with_IRF8_degron_mat.pdf', \n",
    "                withDeeptools=True, torecompute=True, legendLoc=\"lower-left\")"
   ]
  },
  {
   "cell_type": "code",
   "execution_count": 201,
   "metadata": {},
   "outputs": [],
   "source": [
    "IRF8tss = ensembltss[ensembltss['Gene name'].isin(IRF8targets)].reset_index(drop=True)"
   ]
  },
  {
   "cell_type": "code",
   "execution_count": 202,
   "metadata": {},
   "outputs": [],
   "source": [
    "a = ! wc -l ../../data/$project/diffPeaks/polII_DMSO_TSSonly.bed "
   ]
  },
  {
   "cell_type": "code",
   "execution_count": 203,
   "metadata": {},
   "outputs": [
    {
     "data": {
      "text/plain": [
       "(0.29866275743707094, 27968)"
      ]
     },
     "execution_count": 203,
     "metadata": {},
     "output_type": "execute_result"
    }
   ],
   "source": [
    "int(a[0].split(' ')[0])/len(peaksDMSO), len(peaksDMSO)"
   ]
  },
  {
   "cell_type": "code",
   "execution_count": 204,
   "metadata": {
    "scrolled": true
   },
   "outputs": [
    {
     "name": "stdout",
     "output_type": "stream",
     "text": [
      "100%\r"
     ]
    },
    {
     "data": {
      "text/plain": [
       "0.004788698671136119"
      ]
     },
     "execution_count": 204,
     "metadata": {},
     "output_type": "execute_result"
    }
   ],
   "source": [
    "len(chip.substractPeaksTo(peaksDMSO, IRF8tss))/int(a[0].split(' ')[0])"
   ]
  },
  {
   "cell_type": "code",
   "execution_count": 210,
   "metadata": {},
   "outputs": [],
   "source": [
    "a = ! wc -l ../../data/$project/diffPeaks/polII_common_TSSonly.bed "
   ]
  },
  {
   "cell_type": "code",
   "execution_count": 206,
   "metadata": {},
   "outputs": [
    {
     "data": {
      "text/plain": [
       "(0.12222222222222222, 90)"
      ]
     },
     "execution_count": 206,
     "metadata": {},
     "output_type": "execute_result"
    }
   ],
   "source": [
    "int(a[0].split(' ')[0])/ len(peakcommon),  len(peakcommon)"
   ]
  },
  {
   "cell_type": "code",
   "execution_count": 207,
   "metadata": {},
   "outputs": [
    {
     "name": "stdout",
     "output_type": "stream",
     "text": [
      "1%\r",
      "2%\r",
      "2%\r",
      "3%\r",
      "4%\r",
      "5%\r",
      "6%\r",
      "6%\r",
      "7%\r",
      "8%\r",
      "8%\r",
      "8%\r",
      "9%\r",
      "11%\r",
      "12%\r",
      "12%\r",
      "12%\r",
      "12%\r",
      "13%\r",
      "14%\r",
      "15%\r",
      "16%\r",
      "17%\r",
      "18%\r",
      "18%\r",
      "19%\r",
      "21%\r",
      "22%\r",
      "23%\r",
      "24%\r",
      "25%\r",
      "25%\r",
      "26%\r",
      "27%\r",
      "27%\r",
      "28%\r",
      "28%\r",
      "28%\r",
      "28%\r",
      "28%\r",
      "28%\r",
      "29%\r",
      "31%\r",
      "31%\r",
      "31%\r",
      "32%\r",
      "33%\r",
      "34%\r",
      "35%\r",
      "36%\r",
      "37%\r",
      "38%\r",
      "38%\r",
      "39%\r",
      "41%\r",
      "42%\r",
      "43%\r",
      "43%\r",
      "44%\r",
      "45%\r",
      "46%\r",
      "47%\r",
      "48%\r",
      "48%\r",
      "48%\r",
      "48%\r",
      "49%\r",
      "51%\r",
      "52%\r",
      "52%\r",
      "52%\r",
      "52%\r",
      "53%\r",
      "53%\r",
      "54%\r",
      "55%\r",
      "55%\r",
      "55%\r",
      "56%\r",
      "57%\r",
      "58%\r",
      "58%\r",
      "59%\r",
      "61%\r",
      "62%\r",
      "62%\r",
      "62%\r",
      "63%\r",
      "64%\r",
      "65%\r",
      "66%\r",
      "66%\r",
      "67%\r",
      "67%\r",
      "68%\r",
      "68%\r",
      "68%\r",
      "69%\r",
      "69%\r",
      "71%\r",
      "71%\r",
      "72%\r",
      "72%\r",
      "73%\r",
      "73%\r",
      "74%\r",
      "74%\r",
      "75%\r",
      "76%\r",
      "77%\r",
      "77%\r",
      "77%\r",
      "77%\r",
      "78%\r",
      "78%\r",
      "79%\r",
      "81%\r",
      "82%\r",
      "83%\r",
      "84%\r",
      "85%\r",
      "86%\r",
      "86%\r",
      "86%\r",
      "87%\r",
      "88%\r",
      "89%\r",
      "89%\r",
      "91%\r",
      "91%\r",
      "92%\r",
      "93%\r",
      "94%\r",
      "95%\r",
      "95%\r",
      "96%\r",
      "97%\r",
      "98%\r"
     ]
    },
    {
     "data": {
      "text/plain": [
       "0.0"
      ]
     },
     "execution_count": 207,
     "metadata": {},
     "output_type": "execute_result"
    }
   ],
   "source": [
    "len(chip.substractPeaksTo(peakcommon, IRF8tss))/int(a[0].split(' ')[0])"
   ]
  },
  {
   "cell_type": "code",
   "execution_count": 211,
   "metadata": {},
   "outputs": [],
   "source": [
    "a = ! wc -l ../../data/$project/diffPeaks/polII_VHL_TSSonly.bed "
   ]
  },
  {
   "cell_type": "code",
   "execution_count": 213,
   "metadata": {},
   "outputs": [
    {
     "data": {
      "text/plain": [
       "0"
      ]
     },
     "execution_count": 213,
     "metadata": {},
     "output_type": "execute_result"
    }
   ],
   "source": [
    "len(peaksVHL)"
   ]
  },
  {
   "cell_type": "code",
   "execution_count": 209,
   "metadata": {},
   "outputs": [
    {
     "ename": "ZeroDivisionError",
     "evalue": "division by zero",
     "output_type": "error",
     "traceback": [
      "\u001b[0;31m---------------------------------------------------------------------------\u001b[0m",
      "\u001b[0;31mZeroDivisionError\u001b[0m                         Traceback (most recent call last)",
      "\u001b[0;32m<ipython-input-209-f5c56983008e>\u001b[0m in \u001b[0;36m<module>\u001b[0;34m\u001b[0m\n\u001b[0;32m----> 1\u001b[0;31m \u001b[0mint\u001b[0m\u001b[0;34m(\u001b[0m\u001b[0ma\u001b[0m\u001b[0;34m[\u001b[0m\u001b[0;36m0\u001b[0m\u001b[0;34m]\u001b[0m\u001b[0;34m.\u001b[0m\u001b[0msplit\u001b[0m\u001b[0;34m(\u001b[0m\u001b[0;34m' '\u001b[0m\u001b[0;34m)\u001b[0m\u001b[0;34m[\u001b[0m\u001b[0;36m0\u001b[0m\u001b[0;34m]\u001b[0m\u001b[0;34m)\u001b[0m\u001b[0;34m/\u001b[0m\u001b[0mlen\u001b[0m\u001b[0;34m(\u001b[0m\u001b[0mpeaksVHL\u001b[0m\u001b[0;34m)\u001b[0m\u001b[0;34m,\u001b[0m  \u001b[0mlen\u001b[0m\u001b[0;34m(\u001b[0m\u001b[0mpeaksVHL\u001b[0m\u001b[0;34m)\u001b[0m\u001b[0;34m\u001b[0m\u001b[0;34m\u001b[0m\u001b[0m\n\u001b[0m",
      "\u001b[0;31mZeroDivisionError\u001b[0m: division by zero"
     ]
    }
   ],
   "source": [
    "int(a[0].split(' ')[0])/len(peaksVHL),  len(peaksVHL)"
   ]
  },
  {
   "cell_type": "code",
   "execution_count": null,
   "metadata": {
    "scrolled": true
   },
   "outputs": [],
   "source": [
    "len(chip.substractPeaksTo(peaksVHL, IRF8tss))/int(a[0].split(' ')[0])"
   ]
  },
  {
   "cell_type": "markdown",
   "metadata": {},
   "source": [
    "### on unscalled data"
   ]
  },
  {
   "cell_type": "code",
   "execution_count": null,
   "metadata": {},
   "outputs": [],
   "source": [
    "! mkdir ../../data/$project/diffPeaks_unscaled"
   ]
  },
  {
   "cell_type": "code",
   "execution_count": null,
   "metadata": {},
   "outputs": [],
   "source": [
    "#on unscalled data \n",
    "for i in range(int(len(bams)/2)):\n",
    "    if i < 0:\n",
    "        continue\n",
    "    name1 = bams[i]\n",
    "    name2 = bams[6+i]\n",
    "    print(name1,name2)\n",
    "    chip.fullDiffPeak(name1,name2, control1='../../data/'+project+'/bwa/mergedLibrary/INPUT_R1.mLb.clN.sorted.bam', directory = \"../../data/\"+project+\"/diffData_unscaled/\", res_directory = \"../../data/\"+project+\"/diffPeaks_unscaled/\",pairedend=False)"
   ]
  },
  {
   "cell_type": "code",
   "execution_count": null,
   "metadata": {},
   "outputs": [],
   "source": [
    "bw = ! ls ../../data/$project/bwa/mergedLibrary/bigwig/*.bigWig\n",
    "bw"
   ]
  },
  {
   "cell_type": "code",
   "execution_count": null,
   "metadata": {},
   "outputs": [],
   "source": [
    "cond1peak = ! ls ../../data/$project/diffPeaks_unscaled/*cond1.bed\n",
    "cond2peak = ! ls ../../data/$project/diffPeaks_unscaled/*cond2.bed\n",
    "commonpeak = ! ls ../../data/$project/diffPeaks_unscaled/*common.bed\n",
    "commonpeak"
   ]
  },
  {
   "cell_type": "code",
   "execution_count": null,
   "metadata": {
    "scrolled": true
   },
   "outputs": [],
   "source": [
    "for i in range(int((len(bw)-1)/2)):\n",
    "    name1 = bw[i]\n",
    "    name2 = bw[6+i]\n",
    "    peak = [cond1peak[i], commonpeak[i], cond2peak[i]]\n",
    "    #for val in peak:\n",
    "     #   chip.dropWeirdChromosomes(val)\n",
    "    name = names[i]\n",
    "    print(name1,name2)\n",
    "    chip.getPeaksAt(peak, [name1, name2], bigwignames=['DMSO', 'VHL'], peaknames=['DMSO_peaks', 'common', 'VHL_peaks'], window=3000, folder=\"\", title=name, numthreads=8, torecompute=True, refpoint='center', name='../../data/'+project+'/diffPeaks_unscaled/'+name+'_mat.pdf', withDeeptools=True)"
   ]
  },
  {
   "cell_type": "code",
   "execution_count": null,
   "metadata": {},
   "outputs": [],
   "source": [
    "h.createFoldersFor('../results/'+project+'/plots/unscaled/diffPeaks/')\n",
    "! cp ../../data/$project/diffPeaks_unscaled/*.pdf ../results/$project/plots/unscaled/diffPeaks/\n",
    "\n",
    "! gsutil -m cp gs://amlproject/Chip/$project/bwa/mergedLibrary/deepTools/**.pdf ../results/$project/plots/"
   ]
  },
  {
   "cell_type": "code",
   "execution_count": null,
   "metadata": {},
   "outputs": [],
   "source": [
    "! gsutil -m cp -r ../../data/$project/diffPeaks gs://amlproject/Chip/$project/\n",
    "! gsutil -m cp -r ../../data/$project/diffData gs://amlproject/Chip/$project/\n",
    "! gsutil -m cp -r ../../data/$project/diffPeaks_unscaled gs://amlproject/Chip/$project/\n",
    "! gsutil -m cp -r ../../data/$project/diffData_unscaled gs://amlproject/Chip/$project/\n",
    "! gsutil -m cp -r ../../data/$project/peakplot gs://amlproject/Chip/$project/"
   ]
  },
  {
   "cell_type": "markdown",
   "metadata": {},
   "source": [
    "## v9"
   ]
  },
  {
   "cell_type": "code",
   "execution_count": 355,
   "metadata": {},
   "outputs": [],
   "source": [
    "project=\"chipseq_MF2C_degraded_v2\"\n",
    "loc= \"201222_MP8533_fastq\""
   ]
  },
  {
   "cell_type": "code",
   "execution_count": 356,
   "metadata": {
    "scrolled": true
   },
   "outputs": [
    {
     "data": {
      "text/plain": [
       "['gs://transfer-amlproject/201222_MP8533_fastq/20201222_DMSO_FLAG_24_MP8533_S18_R1_001.fastq.gz',\n",
       " 'gs://transfer-amlproject/201222_MP8533_fastq/20201222_DMSO_FLAG_24_MP8533_S18_R2_001.fastq.gz',\n",
       " 'gs://transfer-amlproject/201222_MP8533_fastq/20201222_DMSO_MED1_24_MP8533_S20_R1_001.fastq.gz',\n",
       " 'gs://transfer-amlproject/201222_MP8533_fastq/20201222_DMSO_MED1_24_MP8533_S20_R2_001.fastq.gz',\n",
       " 'gs://transfer-amlproject/201222_MP8533_fastq/20201222_DMSO_MEF2C24_MP8533_S22_R1_001.fastq.gz',\n",
       " 'gs://transfer-amlproject/201222_MP8533_fastq/20201222_DMSO_MEF2C24_MP8533_S22_R2_001.fastq.gz',\n",
       " 'gs://transfer-amlproject/201222_MP8533_fastq/20201222_DMSO_MYC_24_MP8533_S19_R1_001.fastq.gz',\n",
       " 'gs://transfer-amlproject/201222_MP8533_fastq/20201222_DMSO_MYC_24_MP8533_S19_R2_001.fastq.gz',\n",
       " 'gs://transfer-amlproject/201222_MP8533_fastq/20201222_DMSO_POL_II_24_MP8533_S21_R1_001.fastq.gz',\n",
       " 'gs://transfer-amlproject/201222_MP8533_fastq/20201222_DMSO_POL_II_24_MP8533_S21_R2_001.fastq.gz',\n",
       " 'gs://transfer-amlproject/201222_MP8533_fastq/20201222_VHL_FLAG_24_MP8533_S23_R1_001.fastq.gz',\n",
       " 'gs://transfer-amlproject/201222_MP8533_fastq/20201222_VHL_FLAG_24_MP8533_S23_R2_001.fastq.gz',\n",
       " 'gs://transfer-amlproject/201222_MP8533_fastq/20201222_VHL_MED1_24_MP8533_S25_R1_001.fastq.gz',\n",
       " 'gs://transfer-amlproject/201222_MP8533_fastq/20201222_VHL_MED1_24_MP8533_S25_R2_001.fastq.gz',\n",
       " 'gs://transfer-amlproject/201222_MP8533_fastq/20201222_VHL_MEF2C_24_MP8533_S27_R1_001.fastq.gz',\n",
       " 'gs://transfer-amlproject/201222_MP8533_fastq/20201222_VHL_MEF2C_24_MP8533_S27_R2_001.fastq.gz',\n",
       " 'gs://transfer-amlproject/201222_MP8533_fastq/20201222_VHL_MYC_24_MP8533_S24_R1_001.fastq.gz',\n",
       " 'gs://transfer-amlproject/201222_MP8533_fastq/20201222_VHL_MYC_24_MP8533_S24_R2_001.fastq.gz',\n",
       " 'gs://transfer-amlproject/201222_MP8533_fastq/20201222_VHL_POL_II_24_MP8533_S26_R1_001.fastq.gz',\n",
       " 'gs://transfer-amlproject/201222_MP8533_fastq/20201222_VHL_POL_II_24_MP8533_S26_R2_001.fastq.gz',\n",
       " 'gs://transfer-amlproject/201222_MP8533_fastq/mp921-MV411_MEF2D_NT_SC_63_DMSO-FLAG_MEF2D-r4_001.fastq.gz',\n",
       " 'gs://transfer-amlproject/201222_MP8533_fastq/mp921-MV411_MEF2D_NT_SC_63_DMSO-FLAG_MEF2D-r4_R1_001.fastq.gz',\n",
       " 'gs://transfer-amlproject/201222_MP8533_fastq/mp921-MV411_MEF2D_NT_SC_63_DMSO-FLAG_MEF2D-r4_R2_001.fastq.gz',\n",
       " 'gs://transfer-amlproject/201222_MP8533_fastq/mp922-MV411_MEF2D_NT_SC_63_DMSO-MED1-r2_001.fastq.gz',\n",
       " 'gs://transfer-amlproject/201222_MP8533_fastq/mp922-MV411_MEF2D_NT_SC_63_DMSO-MED1-r2_R1_001.fastq.gz',\n",
       " 'gs://transfer-amlproject/201222_MP8533_fastq/mp922-MV411_MEF2D_NT_SC_63_DMSO-MED1-r2_R2_001.fastq.gz',\n",
       " 'gs://transfer-amlproject/201222_MP8533_fastq/mp923-MV411_MEF2D_NT_SC_63_DMSO-MEF2C-r2_001.fastq.gz',\n",
       " 'gs://transfer-amlproject/201222_MP8533_fastq/mp923-MV411_MEF2D_NT_SC_63_DMSO-MEF2C-r2_R1_001.fastq.gz',\n",
       " 'gs://transfer-amlproject/201222_MP8533_fastq/mp923-MV411_MEF2D_NT_SC_63_DMSO-MEF2C-r2_R2_001.fastq.gz',\n",
       " 'gs://transfer-amlproject/201222_MP8533_fastq/mp924-MV411_MEF2D_NT_SC_63_DMSO-MYC-r2_001.fastq.gz',\n",
       " 'gs://transfer-amlproject/201222_MP8533_fastq/mp924-MV411_MEF2D_NT_SC_63_DMSO-MYC-r2_R1_001.fastq.gz',\n",
       " 'gs://transfer-amlproject/201222_MP8533_fastq/mp924-MV411_MEF2D_NT_SC_63_DMSO-MYC-r2_R2_001.fastq.gz',\n",
       " 'gs://transfer-amlproject/201222_MP8533_fastq/mp925-MV411_MEF2D_NT_SC_63_DMSO-POLII_total-r2_001.fastq.gz',\n",
       " 'gs://transfer-amlproject/201222_MP8533_fastq/mp925-MV411_MEF2D_NT_SC_63_DMSO-POLII_total-r2_R1_001.fastq.gz',\n",
       " 'gs://transfer-amlproject/201222_MP8533_fastq/mp925-MV411_MEF2D_NT_SC_63_DMSO-POLII_total-r2_R2_001.fastq.gz',\n",
       " 'gs://transfer-amlproject/201222_MP8533_fastq/mp926-MV411_MEF2D_NT_SC_63_VHL-FLAG_MEF2D-r4_001.fastq.gz',\n",
       " 'gs://transfer-amlproject/201222_MP8533_fastq/mp926-MV411_MEF2D_NT_SC_63_VHL-FLAG_MEF2D-r4_R1_001.fastq.gz',\n",
       " 'gs://transfer-amlproject/201222_MP8533_fastq/mp926-MV411_MEF2D_NT_SC_63_VHL-FLAG_MEF2D-r4_R2_001.fastq.gz',\n",
       " 'gs://transfer-amlproject/201222_MP8533_fastq/mp927-MV411_MEF2D_NT_SC_63_VHL-MED1-r2_001.fastq.gz',\n",
       " 'gs://transfer-amlproject/201222_MP8533_fastq/mp927-MV411_MEF2D_NT_SC_63_VHL-MED1-r2_R1_001.fastq.gz',\n",
       " 'gs://transfer-amlproject/201222_MP8533_fastq/mp927-MV411_MEF2D_NT_SC_63_VHL-MED1-r2_R2_001.fastq.gz',\n",
       " 'gs://transfer-amlproject/201222_MP8533_fastq/mp928-MV411_MEF2D_NT_SC_63_VHL-MEF2C-r2_001.fastq.gz',\n",
       " 'gs://transfer-amlproject/201222_MP8533_fastq/mp928-MV411_MEF2D_NT_SC_63_VHL-MEF2C-r2_R1_001.fastq.gz',\n",
       " 'gs://transfer-amlproject/201222_MP8533_fastq/mp928-MV411_MEF2D_NT_SC_63_VHL-MEF2C-r2_R2_001.fastq.gz',\n",
       " 'gs://transfer-amlproject/201222_MP8533_fastq/mp929-MV411_MEF2D_NT_SC_63_VHL-MYC-r2_001.fastq.gz',\n",
       " 'gs://transfer-amlproject/201222_MP8533_fastq/mp929-MV411_MEF2D_NT_SC_63_VHL-MYC-r2_R1_001.fastq.gz',\n",
       " 'gs://transfer-amlproject/201222_MP8533_fastq/mp929-MV411_MEF2D_NT_SC_63_VHL-MYC-r2_R2_001.fastq.gz',\n",
       " 'gs://transfer-amlproject/201222_MP8533_fastq/mp930-MV411_MEF2D_NT_SC_63_VHL-POLII_total-r2_001.fastq.gz',\n",
       " 'gs://transfer-amlproject/201222_MP8533_fastq/mp930-MV411_MEF2D_NT_SC_63_VHL-POLII_total-r2_R1_001.fastq.gz',\n",
       " 'gs://transfer-amlproject/201222_MP8533_fastq/mp930-MV411_MEF2D_NT_SC_63_VHL-POLII_total-r2_R2_001.fastq.gz',\n",
       " 'gs://transfer-amlproject/201222_MP8533_fastq/multiqc_report.html',\n",
       " 'gs://transfer-amlproject/201222_MP8533_fastq/Reports/',\n",
       " 'gs://transfer-amlproject/201222_MP8533_fastq/multiqc_data/']"
      ]
     },
     "execution_count": 356,
     "metadata": {},
     "output_type": "execute_result"
    }
   ],
   "source": [
    "fastq = ! gsutil ls gs://transfer-amlproject/$loc/\n",
    "fastq"
   ]
  },
  {
   "cell_type": "code",
   "execution_count": 330,
   "metadata": {},
   "outputs": [],
   "source": [
    "mkdir ../data/$project/ && mkdir ../data/$project/qc/"
   ]
  },
  {
   "cell_type": "code",
   "execution_count": 331,
   "metadata": {
    "scrolled": true
   },
   "outputs": [
    {
     "name": "stdout",
     "output_type": "stream",
     "text": [
      "Copying gs://transfer-amlproject/201222_MP8533_fastq/multiqc_report.html...\n",
      "/ [1/1 files][  1.3 MiB/  1.3 MiB] 100% Done                                    \n",
      "Operation completed over 1 objects/1.3 MiB.                                      \n",
      "Copying gs://transfer-amlproject/201222_MP8533_fastq/Reports/20201222_DMSO_FLAG_24_MP8533_S18_R1_001_fastqc.html...\n",
      "Copying gs://transfer-amlproject/201222_MP8533_fastq/Reports/20201222_DMSO_FLAG_24_MP8533_S18_R1_001_fastqc.zip...\n",
      "Copying gs://transfer-amlproject/201222_MP8533_fastq/Reports/20201222_DMSO_FLAG_24_MP8533_S18_R2_001_fastqc.html...\n",
      "Copying gs://transfer-amlproject/201222_MP8533_fastq/Reports/20201222_DMSO_MED1_24_MP8533_S20_R1_001_fastqc.html...\n",
      "Copying gs://transfer-amlproject/201222_MP8533_fastq/Reports/20201222_DMSO_FLAG_24_MP8533_S18_R2_001_fastqc.zip...\n",
      "Copying gs://transfer-amlproject/201222_MP8533_fastq/Reports/20201222_DMSO_MED1_24_MP8533_S20_R1_001_fastqc.zip...\n",
      "Copying gs://transfer-amlproject/201222_MP8533_fastq/Reports/20201222_DMSO_MED1_24_MP8533_S20_R2_001_fastqc.html...\n",
      "Copying gs://transfer-amlproject/201222_MP8533_fastq/Reports/20201222_DMSO_MED1_24_MP8533_S20_R2_001_fastqc.zip...\n",
      "Copying gs://transfer-amlproject/201222_MP8533_fastq/Reports/20201222_DMSO_MEF2C24_MP8533_S22_R1_001_fastqc.html...\n",
      "Copying gs://transfer-amlproject/201222_MP8533_fastq/Reports/20201222_DMSO_MEF2C24_MP8533_S22_R1_001_fastqc.zip...\n",
      "Copying gs://transfer-amlproject/201222_MP8533_fastq/Reports/20201222_DMSO_MEF2C24_MP8533_S22_R2_001_fastqc.html...\n",
      "Copying gs://transfer-amlproject/201222_MP8533_fastq/Reports/20201222_DMSO_MEF2C24_MP8533_S22_R2_001_fastqc.zip...\n",
      "Copying gs://transfer-amlproject/201222_MP8533_fastq/Reports/20201222_DMSO_MYC_24_MP8533_S19_R1_001_fastqc.zip...\n",
      "Copying gs://transfer-amlproject/201222_MP8533_fastq/Reports/20201222_DMSO_MYC_24_MP8533_S19_R1_001_fastqc.html...\n",
      "Copying gs://transfer-amlproject/201222_MP8533_fastq/Reports/20201222_DMSO_MYC_24_MP8533_S19_R2_001_fastqc.html...\n",
      "Copying gs://transfer-amlproject/201222_MP8533_fastq/Reports/20201222_DMSO_MYC_24_MP8533_S19_R2_001_fastqc.zip...\n",
      "Copying gs://transfer-amlproject/201222_MP8533_fastq/Reports/20201222_DMSO_POL_II_24_MP8533_S21_R1_001_fastqc.html...\n",
      "Copying gs://transfer-amlproject/201222_MP8533_fastq/Reports/20201222_DMSO_POL_II_24_MP8533_S21_R1_001_fastqc.zip...\n",
      "Copying gs://transfer-amlproject/201222_MP8533_fastq/Reports/20201222_DMSO_POL_II_24_MP8533_S21_R2_001_fastqc.html...\n",
      "Copying gs://transfer-amlproject/201222_MP8533_fastq/Reports/20201222_DMSO_POL_II_24_MP8533_S21_R2_001_fastqc.zip...\n",
      "Copying gs://transfer-amlproject/201222_MP8533_fastq/Reports/20201222_VHL_FLAG_24_MP8533_S23_R1_001_fastqc.html...\n",
      "Copying gs://transfer-amlproject/201222_MP8533_fastq/Reports/20201222_VHL_FLAG_24_MP8533_S23_R1_001_fastqc.zip...\n",
      "Copying gs://transfer-amlproject/201222_MP8533_fastq/Reports/20201222_VHL_FLAG_24_MP8533_S23_R2_001_fastqc.html...\n",
      "Copying gs://transfer-amlproject/201222_MP8533_fastq/Reports/20201222_VHL_FLAG_24_MP8533_S23_R2_001_fastqc.zip...\n",
      "Copying gs://transfer-amlproject/201222_MP8533_fastq/Reports/20201222_VHL_MED1_24_MP8533_S25_R1_001_fastqc.html...\n",
      "Copying gs://transfer-amlproject/201222_MP8533_fastq/Reports/20201222_VHL_MED1_24_MP8533_S25_R1_001_fastqc.zip...\n",
      "Copying gs://transfer-amlproject/201222_MP8533_fastq/Reports/20201222_VHL_MED1_24_MP8533_S25_R2_001_fastqc.zip...\n",
      "Copying gs://transfer-amlproject/201222_MP8533_fastq/Reports/20201222_VHL_MEF2C_24_MP8533_S27_R1_001_fastqc.html...\n",
      "Copying gs://transfer-amlproject/201222_MP8533_fastq/Reports/20201222_VHL_MED1_24_MP8533_S25_R2_001_fastqc.html...\n",
      "Copying gs://transfer-amlproject/201222_MP8533_fastq/Reports/20201222_VHL_MEF2C_24_MP8533_S27_R1_001_fastqc.zip...\n",
      "Copying gs://transfer-amlproject/201222_MP8533_fastq/Reports/20201222_VHL_MEF2C_24_MP8533_S27_R2_001_fastqc.html...\n",
      "Copying gs://transfer-amlproject/201222_MP8533_fastq/Reports/20201222_VHL_MEF2C_24_MP8533_S27_R2_001_fastqc.zip...\n",
      "Copying gs://transfer-amlproject/201222_MP8533_fastq/Reports/20201222_VHL_MYC_24_MP8533_S24_R1_001_fastqc.html...\n",
      "Copying gs://transfer-amlproject/201222_MP8533_fastq/Reports/20201222_VHL_MYC_24_MP8533_S24_R1_001_fastqc.zip...\n",
      "Copying gs://transfer-amlproject/201222_MP8533_fastq/Reports/20201222_VHL_MYC_24_MP8533_S24_R2_001_fastqc.zip...\n",
      "Copying gs://transfer-amlproject/201222_MP8533_fastq/Reports/20201222_VHL_MYC_24_MP8533_S24_R2_001_fastqc.html...\n",
      "Copying gs://transfer-amlproject/201222_MP8533_fastq/Reports/20201222_VHL_POL_II_24_MP8533_S26_R1_001_fastqc.html...\n",
      "Copying gs://transfer-amlproject/201222_MP8533_fastq/Reports/20201222_VHL_POL_II_24_MP8533_S26_R1_001_fastqc.zip...\n",
      "Copying gs://transfer-amlproject/201222_MP8533_fastq/Reports/20201222_VHL_POL_II_24_MP8533_S26_R2_001_fastqc.zip...\n",
      "Copying gs://transfer-amlproject/201222_MP8533_fastq/Reports/20201222_VHL_POL_II_24_MP8533_S26_R2_001_fastqc.html...\n",
      "- [40/40 files][ 21.4 MiB/ 21.4 MiB] 100% Done                                  \n",
      "Operation completed over 40 objects/21.4 MiB.                                    \n",
      "Copying gs://transfer-amlproject/201222_MP8533_fastq/multiqc_data/multiqc.log...\n",
      "Copying gs://transfer-amlproject/201222_MP8533_fastq/multiqc_data/multiqc_data.json...\n",
      "Copying gs://transfer-amlproject/201222_MP8533_fastq/multiqc_data/multiqc_fastqc.txt...\n",
      "Copying gs://transfer-amlproject/201222_MP8533_fastq/multiqc_data/multiqc_general_stats.txt...\n",
      "Copying gs://transfer-amlproject/201222_MP8533_fastq/multiqc_data/multiqc_qualimap_bamqc_genome_results.txt...\n",
      "Copying gs://transfer-amlproject/201222_MP8533_fastq/multiqc_data/multiqc_sources.txt...\n",
      "/ [6/6 files][  1.2 MiB/  1.2 MiB] 100% Done                                    \n",
      "Operation completed over 6 objects/1.2 MiB.                                      \n"
     ]
    }
   ],
   "source": [
    "!gsutil -m cp gs://transfer-amlproject/$loc/multiqc_report.html ../data/$project/qc/\n",
    "!gsutil -m cp -r gs://transfer-amlproject/$loc/Reports/ ../data/$project/qc/\n",
    "!gsutil -m cp -r gs://transfer-amlproject/$loc/multiqc_data/ ../data/$project/qc/"
   ]
  },
  {
   "cell_type": "code",
   "execution_count": 332,
   "metadata": {
    "scrolled": true
   },
   "outputs": [
    {
     "name": "stdout",
     "output_type": "stream",
     "text": [
      "Copying gs://transfer-amlproject/201222_MP8533_fastq/20201222_DMSO_FLAG_24_MP8533_S18_R1_001.fastq.gz [Content-Type=application/octet-stream]...\n",
      "Copying gs://transfer-amlproject/201222_MP8533_fastq/20201222_DMSO_FLAG_24_MP8533_S18_R2_001.fastq.gz [Content-Type=application/octet-stream]...\n",
      "Omitting prefix \"gs://transfer-amlproject/201222_MP8533_fastq/Reports/\". (Did you mean to do cp -r?)\n",
      "Omitting prefix \"gs://transfer-amlproject/201222_MP8533_fastq/multiqc_data/\". (Did you mean to do cp -r?)\n",
      "Copying gs://transfer-amlproject/201222_MP8533_fastq/20201222_DMSO_MED1_24_MP8533_S20_R1_001.fastq.gz [Content-Type=application/octet-stream]...\n",
      "Copying gs://transfer-amlproject/201222_MP8533_fastq/20201222_DMSO_MED1_24_MP8533_S20_R2_001.fastq.gz [Content-Type=application/octet-stream]...\n",
      "Copying gs://transfer-amlproject/201222_MP8533_fastq/20201222_DMSO_MEF2C24_MP8533_S22_R1_001.fastq.gz [Content-Type=application/octet-stream]...\n",
      "Copying gs://transfer-amlproject/201222_MP8533_fastq/20201222_DMSO_MEF2C24_MP8533_S22_R2_001.fastq.gz [Content-Type=application/octet-stream]...\n",
      "Copying gs://transfer-amlproject/201222_MP8533_fastq/20201222_DMSO_MYC_24_MP8533_S19_R1_001.fastq.gz [Content-Type=application/octet-stream]...\n",
      "Copying gs://transfer-amlproject/201222_MP8533_fastq/20201222_DMSO_MYC_24_MP8533_S19_R2_001.fastq.gz [Content-Type=application/octet-stream]...\n",
      "Copying gs://transfer-amlproject/201222_MP8533_fastq/20201222_DMSO_POL_II_24_MP8533_S21_R1_001.fastq.gz [Content-Type=application/octet-stream]...\n",
      "Copying gs://transfer-amlproject/201222_MP8533_fastq/20201222_DMSO_POL_II_24_MP8533_S21_R2_001.fastq.gz [Content-Type=application/octet-stream]...\n",
      "Copying gs://transfer-amlproject/201222_MP8533_fastq/20201222_VHL_FLAG_24_MP8533_S23_R1_001.fastq.gz [Content-Type=application/octet-stream]...\n",
      "Copying gs://transfer-amlproject/201222_MP8533_fastq/20201222_VHL_FLAG_24_MP8533_S23_R2_001.fastq.gz [Content-Type=application/octet-stream]...\n",
      "Copying gs://transfer-amlproject/201222_MP8533_fastq/20201222_VHL_MED1_24_MP8533_S25_R1_001.fastq.gz [Content-Type=application/octet-stream]...\n",
      "Copying gs://transfer-amlproject/201222_MP8533_fastq/20201222_VHL_MED1_24_MP8533_S25_R2_001.fastq.gz [Content-Type=application/octet-stream]...\n",
      "Copying gs://transfer-amlproject/201222_MP8533_fastq/20201222_VHL_MEF2C_24_MP8533_S27_R1_001.fastq.gz [Content-Type=application/octet-stream]...\n",
      "Copying gs://transfer-amlproject/201222_MP8533_fastq/20201222_VHL_MEF2C_24_MP8533_S27_R2_001.fastq.gz [Content-Type=application/octet-stream]...\n",
      "Copying gs://transfer-amlproject/201222_MP8533_fastq/20201222_VHL_MYC_24_MP8533_S24_R1_001.fastq.gz [Content-Type=application/octet-stream]...\n",
      "Copying gs://transfer-amlproject/201222_MP8533_fastq/20201222_VHL_MYC_24_MP8533_S24_R2_001.fastq.gz [Content-Type=application/octet-stream]...\n",
      "Copying gs://transfer-amlproject/201222_MP8533_fastq/20201222_VHL_POL_II_24_MP8533_S26_R1_001.fastq.gz [Content-Type=application/octet-stream]...\n",
      "Copying gs://transfer-amlproject/201222_MP8533_fastq/20201222_VHL_POL_II_24_MP8533_S26_R2_001.fastq.gz [Content-Type=application/octet-stream]...\n",
      "Copying gs://transfer-amlproject/201222_MP8533_fastq/multiqc_report.html [Content-Type=text/html]...\n",
      "- [21/21 files][ 40.4 GiB/ 40.4 GiB] 100% Done                                  \n",
      "Operation completed over 21 objects/40.4 GiB.                                    \n"
     ]
    }
   ],
   "source": [
    "! gsutil -m cp gs://transfer-amlproject/$loc/*  gs://transfer-amlproject/$project/"
   ]
  },
  {
   "cell_type": "markdown",
   "metadata": {},
   "source": [
    "### analysis"
   ]
  },
  {
   "cell_type": "code",
   "execution_count": 337,
   "metadata": {},
   "outputs": [],
   "source": [
    "rename = {\n",
    "\"20201222_DMSO_FLAG_24_MP8533_S18\": \"mp921-MV411_MEF2D_NT_SC_63_DMSO-FLAG_MEF2D-r4\",\n",
    "\"20201222_DMSO_MED1_24_MP8533_S20\": \"mp922-MV411_MEF2D_NT_SC_63_DMSO-MED1-r2\",\n",
    "\"20201222_DMSO_MEF2C24_MP8533_S22\": \"mp923-MV411_MEF2D_NT_SC_63_DMSO-MEF2C-r2\",\n",
    "\"20201222_DMSO_MYC_24_MP8533_S19\": \"mp924-MV411_MEF2D_NT_SC_63_DMSO-MYC-r2\",\n",
    "\"20201222_DMSO_POL_II_24_MP8533_S21\": \"mp925-MV411_MEF2D_NT_SC_63_DMSO-POLII_total-r2\",\n",
    "\"20201222_VHL_FLAG_24_MP8533_S23\": \"mp926-MV411_MEF2D_NT_SC_63_VHL-FLAG_MEF2D-r4\",\n",
    "\"20201222_VHL_MED1_24_MP8533_S25\": \"mp927-MV411_MEF2D_NT_SC_63_VHL-MED1-r2\",\n",
    "\"20201222_VHL_MEF2C_24_MP8533_S27\": \"mp928-MV411_MEF2D_NT_SC_63_VHL-MEF2C-r2\",\n",
    "\"20201222_VHL_MYC_24_MP8533_S24\": \"mp929-MV411_MEF2D_NT_SC_63_VHL-MYC-r2\",\n",
    "\"20201222_VHL_POL_II_24_MP8533_S26\": \"mp930-MV411_MEF2D_NT_SC_63_VHL-POLII_total-r2\",}"
   ]
  },
  {
   "cell_type": "code",
   "execution_count": 357,
   "metadata": {},
   "outputs": [
    {
     "name": "stdout",
     "output_type": "stream",
     "text": [
      "Copying gs://transfer-amlproject/201222_MP8533_fastq/20201222_DMSO_FLAG_24_MP8533_S18_R1_001.fastq.gz [Content-Type=application/octet-stream]...\n",
      "/ [1 files][  1.7 GiB/  1.7 GiB]                                                \n",
      "Operation completed over 1 objects/1.7 GiB.                                      \n",
      "Copying gs://transfer-amlproject/201222_MP8533_fastq/20201222_DMSO_FLAG_24_MP8533_S18_R2_001.fastq.gz [Content-Type=application/octet-stream]...\n",
      "/ [1 files][  1.7 GiB/  1.7 GiB]                                                \n",
      "Operation completed over 1 objects/1.7 GiB.                                      \n",
      "Copying gs://transfer-amlproject/201222_MP8533_fastq/20201222_DMSO_MED1_24_MP8533_S20_R1_001.fastq.gz [Content-Type=application/octet-stream]...\n",
      "/ [1 files][  1.9 GiB/  1.9 GiB]                                                \n",
      "Operation completed over 1 objects/1.9 GiB.                                      \n",
      "Copying gs://transfer-amlproject/201222_MP8533_fastq/20201222_DMSO_MED1_24_MP8533_S20_R2_001.fastq.gz [Content-Type=application/octet-stream]...\n",
      "/ [1 files][  1.8 GiB/  1.8 GiB]                                                \n",
      "Operation completed over 1 objects/1.8 GiB.                                      \n",
      "Copying gs://transfer-amlproject/201222_MP8533_fastq/20201222_DMSO_MEF2C24_MP8533_S22_R1_001.fastq.gz [Content-Type=application/octet-stream]...\n",
      "/ [1 files][  1.8 GiB/  1.8 GiB]                                                \n",
      "Operation completed over 1 objects/1.8 GiB.                                      \n",
      "Copying gs://transfer-amlproject/201222_MP8533_fastq/20201222_DMSO_MEF2C24_MP8533_S22_R2_001.fastq.gz [Content-Type=application/octet-stream]...\n",
      "/ [1 files][  1.7 GiB/  1.7 GiB]                                                \n",
      "Operation completed over 1 objects/1.7 GiB.                                      \n",
      "Copying gs://transfer-amlproject/201222_MP8533_fastq/20201222_DMSO_MYC_24_MP8533_S19_R1_001.fastq.gz [Content-Type=application/octet-stream]...\n",
      "/ [1 files][  2.1 GiB/  2.1 GiB]                                                \n",
      "Operation completed over 1 objects/2.1 GiB.                                      \n",
      "Copying gs://transfer-amlproject/201222_MP8533_fastq/20201222_DMSO_MYC_24_MP8533_S19_R2_001.fastq.gz [Content-Type=application/octet-stream]...\n",
      "/ [1 files][  2.1 GiB/  2.1 GiB]                                                \n",
      "Operation completed over 1 objects/2.1 GiB.                                      \n",
      "Copying gs://transfer-amlproject/201222_MP8533_fastq/20201222_DMSO_POL_II_24_MP8533_S21_R1_001.fastq.gz [Content-Type=application/octet-stream]...\n",
      "/ [1 files][  2.1 GiB/  2.1 GiB]                                                \n",
      "Operation completed over 1 objects/2.1 GiB.                                      \n",
      "Copying gs://transfer-amlproject/201222_MP8533_fastq/20201222_DMSO_POL_II_24_MP8533_S21_R2_001.fastq.gz [Content-Type=application/octet-stream]...\n",
      "/ [1 files][  2.1 GiB/  2.1 GiB]                                                \n",
      "Operation completed over 1 objects/2.1 GiB.                                      \n",
      "Copying gs://transfer-amlproject/201222_MP8533_fastq/20201222_VHL_FLAG_24_MP8533_S23_R1_001.fastq.gz [Content-Type=application/octet-stream]...\n",
      "- [1 files][  2.1 GiB/  2.1 GiB]                                                \n",
      "Operation completed over 1 objects/2.1 GiB.                                      \n",
      "Copying gs://transfer-amlproject/201222_MP8533_fastq/20201222_VHL_FLAG_24_MP8533_S23_R2_001.fastq.gz [Content-Type=application/octet-stream]...\n",
      "- [1 files][  2.1 GiB/  2.1 GiB]                                                \n",
      "Operation completed over 1 objects/2.1 GiB.                                      \n",
      "Copying gs://transfer-amlproject/201222_MP8533_fastq/20201222_VHL_MED1_24_MP8533_S25_R1_001.fastq.gz [Content-Type=application/octet-stream]...\n",
      "/ [1 files][  2.3 GiB/  2.3 GiB]                                                \n",
      "Operation completed over 1 objects/2.3 GiB.                                      \n",
      "Copying gs://transfer-amlproject/201222_MP8533_fastq/20201222_VHL_MED1_24_MP8533_S25_R2_001.fastq.gz [Content-Type=application/octet-stream]...\n",
      "/ [1 files][  2.3 GiB/  2.3 GiB]                                                \n",
      "Operation completed over 1 objects/2.3 GiB.                                      \n",
      "Copying gs://transfer-amlproject/201222_MP8533_fastq/20201222_VHL_MEF2C_24_MP8533_S27_R1_001.fastq.gz [Content-Type=application/octet-stream]...\n",
      "/ [1 files][  2.3 GiB/  2.3 GiB]                                                \n",
      "Operation completed over 1 objects/2.3 GiB.                                      \n",
      "Copying gs://transfer-amlproject/201222_MP8533_fastq/20201222_VHL_MEF2C_24_MP8533_S27_R2_001.fastq.gz [Content-Type=application/octet-stream]...\n",
      "/ [1 files][  2.3 GiB/  2.3 GiB]                                                \n",
      "Operation completed over 1 objects/2.3 GiB.                                      \n",
      "Copying gs://transfer-amlproject/201222_MP8533_fastq/20201222_VHL_MYC_24_MP8533_S24_R1_001.fastq.gz [Content-Type=application/octet-stream]...\n",
      "/ [1 files][  1.9 GiB/  1.9 GiB]                                                \n",
      "Operation completed over 1 objects/1.9 GiB.                                      \n",
      "Copying gs://transfer-amlproject/201222_MP8533_fastq/20201222_VHL_MYC_24_MP8533_S24_R2_001.fastq.gz [Content-Type=application/octet-stream]...\n",
      "/ [1 files][  1.9 GiB/  1.9 GiB]                                                \n",
      "Operation completed over 1 objects/1.9 GiB.                                      \n",
      "Copying gs://transfer-amlproject/201222_MP8533_fastq/20201222_VHL_POL_II_24_MP8533_S26_R1_001.fastq.gz [Content-Type=application/octet-stream]...\n",
      "/ [1 files][  2.1 GiB/  2.1 GiB]                                                \n",
      "Operation completed over 1 objects/2.1 GiB.                                      \n",
      "Copying gs://transfer-amlproject/201222_MP8533_fastq/20201222_VHL_POL_II_24_MP8533_S26_R2_001.fastq.gz [Content-Type=application/octet-stream]...\n",
      "/ [1 files][  2.1 GiB/  2.1 GiB]                                                \n",
      "Operation completed over 1 objects/2.1 GiB.                                      \n",
      "Copying gs://transfer-amlproject/201222_MP8533_fastq/mp921-MV411_MEF2D_NT_SC_63_DMSO-FLAG_MEF2D-r4_001.fastq.gz [Content-Type=application/octet-stream]...\n",
      "/ [1 files][  1.7 GiB/  1.7 GiB]                                                \n",
      "Operation completed over 1 objects/1.7 GiB.                                      \n",
      "Copying gs://transfer-amlproject/201222_MP8533_fastq/mp921-MV411_MEF2D_NT_SC_63_DMSO-FLAG_MEF2D-r4_R1_001.fastq.gz [Content-Type=application/octet-stream]...\n",
      "/ [1 files][  1.7 GiB/  1.7 GiB]                                                \n",
      "Operation completed over 1 objects/1.7 GiB.                                      \n",
      "Copying gs://transfer-amlproject/201222_MP8533_fastq/mp921-MV411_MEF2D_NT_SC_63_DMSO-FLAG_MEF2D-r4_R2_001.fastq.gz [Content-Type=application/octet-stream]...\n",
      "/ [1 files][  1.7 GiB/  1.7 GiB]                                                \n",
      "Operation completed over 1 objects/1.7 GiB.                                      \n",
      "Copying gs://transfer-amlproject/201222_MP8533_fastq/mp922-MV411_MEF2D_NT_SC_63_DMSO-MED1-r2_001.fastq.gz [Content-Type=application/octet-stream]...\n",
      "- [1 files][  1.9 GiB/  1.9 GiB]                                                \n",
      "Operation completed over 1 objects/1.9 GiB.                                      \n",
      "Copying gs://transfer-amlproject/201222_MP8533_fastq/mp922-MV411_MEF2D_NT_SC_63_DMSO-MED1-r2_R1_001.fastq.gz [Content-Type=application/octet-stream]...\n",
      "/ [1 files][  1.9 GiB/  1.9 GiB]                                                \n",
      "Operation completed over 1 objects/1.9 GiB.                                      \n",
      "Copying gs://transfer-amlproject/201222_MP8533_fastq/mp922-MV411_MEF2D_NT_SC_63_DMSO-MED1-r2_R2_001.fastq.gz [Content-Type=application/octet-stream]...\n",
      "/ [1 files][  1.8 GiB/  1.8 GiB]                                                \n",
      "Operation completed over 1 objects/1.8 GiB.                                      \n",
      "Copying gs://transfer-amlproject/201222_MP8533_fastq/mp923-MV411_MEF2D_NT_SC_63_DMSO-MEF2C-r2_001.fastq.gz [Content-Type=application/octet-stream]...\n"
     ]
    },
    {
     "name": "stdout",
     "output_type": "stream",
     "text": [
      "/ [1 files][  1.8 GiB/  1.8 GiB]                                                \n",
      "Operation completed over 1 objects/1.8 GiB.                                      \n",
      "Copying gs://transfer-amlproject/201222_MP8533_fastq/mp923-MV411_MEF2D_NT_SC_63_DMSO-MEF2C-r2_R1_001.fastq.gz [Content-Type=application/octet-stream]...\n",
      "/ [1 files][  1.8 GiB/  1.8 GiB]                                                \n",
      "Operation completed over 1 objects/1.8 GiB.                                      \n",
      "Copying gs://transfer-amlproject/201222_MP8533_fastq/mp923-MV411_MEF2D_NT_SC_63_DMSO-MEF2C-r2_R2_001.fastq.gz [Content-Type=application/octet-stream]...\n",
      "/ [1 files][  1.7 GiB/  1.7 GiB]                                                \n",
      "Operation completed over 1 objects/1.7 GiB.                                      \n",
      "Copying gs://transfer-amlproject/201222_MP8533_fastq/mp924-MV411_MEF2D_NT_SC_63_DMSO-MYC-r2_001.fastq.gz [Content-Type=application/octet-stream]...\n",
      "/ [1 files][  2.1 GiB/  2.1 GiB]                                                \n",
      "Operation completed over 1 objects/2.1 GiB.                                      \n",
      "Copying gs://transfer-amlproject/201222_MP8533_fastq/mp924-MV411_MEF2D_NT_SC_63_DMSO-MYC-r2_R1_001.fastq.gz [Content-Type=application/octet-stream]...\n",
      "/ [1 files][  2.1 GiB/  2.1 GiB]                                                \n",
      "Operation completed over 1 objects/2.1 GiB.                                      \n",
      "Copying gs://transfer-amlproject/201222_MP8533_fastq/mp924-MV411_MEF2D_NT_SC_63_DMSO-MYC-r2_R2_001.fastq.gz [Content-Type=application/octet-stream]...\n",
      "/ [1 files][  2.1 GiB/  2.1 GiB]                                                \n",
      "Operation completed over 1 objects/2.1 GiB.                                      \n",
      "Copying gs://transfer-amlproject/201222_MP8533_fastq/mp925-MV411_MEF2D_NT_SC_63_DMSO-POLII_total-r2_001.fastq.gz [Content-Type=application/octet-stream]...\n",
      "/ [1 files][  2.1 GiB/  2.1 GiB]                                                \n",
      "Operation completed over 1 objects/2.1 GiB.                                      \n",
      "Copying gs://transfer-amlproject/201222_MP8533_fastq/mp925-MV411_MEF2D_NT_SC_63_DMSO-POLII_total-r2_R1_001.fastq.gz [Content-Type=application/octet-stream]...\n",
      "/ [1 files][  2.1 GiB/  2.1 GiB]                                                \n",
      "Operation completed over 1 objects/2.1 GiB.                                      \n",
      "Copying gs://transfer-amlproject/201222_MP8533_fastq/mp925-MV411_MEF2D_NT_SC_63_DMSO-POLII_total-r2_R2_001.fastq.gz [Content-Type=application/octet-stream]...\n",
      "/ [1 files][  2.1 GiB/  2.1 GiB]                                                \n",
      "Operation completed over 1 objects/2.1 GiB.                                      \n",
      "Copying gs://transfer-amlproject/201222_MP8533_fastq/mp926-MV411_MEF2D_NT_SC_63_VHL-FLAG_MEF2D-r4_001.fastq.gz [Content-Type=application/octet-stream]...\n",
      "/ [1 files][  2.1 GiB/  2.1 GiB]                                                \n",
      "Operation completed over 1 objects/2.1 GiB.                                      \n",
      "Copying gs://transfer-amlproject/201222_MP8533_fastq/mp926-MV411_MEF2D_NT_SC_63_VHL-FLAG_MEF2D-r4_R1_001.fastq.gz [Content-Type=application/octet-stream]...\n",
      "/ [1 files][  2.1 GiB/  2.1 GiB]                                                \n",
      "Operation completed over 1 objects/2.1 GiB.                                      \n",
      "Copying gs://transfer-amlproject/201222_MP8533_fastq/mp926-MV411_MEF2D_NT_SC_63_VHL-FLAG_MEF2D-r4_R2_001.fastq.gz [Content-Type=application/octet-stream]...\n",
      "/ [1 files][  2.1 GiB/  2.1 GiB]                                                \n",
      "Operation completed over 1 objects/2.1 GiB.                                      \n",
      "Copying gs://transfer-amlproject/201222_MP8533_fastq/mp927-MV411_MEF2D_NT_SC_63_VHL-MED1-r2_001.fastq.gz [Content-Type=application/octet-stream]...\n",
      "/ [1 files][  2.3 GiB/  2.3 GiB]                                                \n",
      "Operation completed over 1 objects/2.3 GiB.                                      \n",
      "Copying gs://transfer-amlproject/201222_MP8533_fastq/mp927-MV411_MEF2D_NT_SC_63_VHL-MED1-r2_R1_001.fastq.gz [Content-Type=application/octet-stream]...\n",
      "/ [1 files][  2.3 GiB/  2.3 GiB]                                                \n",
      "Operation completed over 1 objects/2.3 GiB.                                      \n",
      "Copying gs://transfer-amlproject/201222_MP8533_fastq/mp927-MV411_MEF2D_NT_SC_63_VHL-MED1-r2_R2_001.fastq.gz [Content-Type=application/octet-stream]...\n",
      "/ [1 files][  2.3 GiB/  2.3 GiB]                                                \n",
      "Operation completed over 1 objects/2.3 GiB.                                      \n",
      "Copying gs://transfer-amlproject/201222_MP8533_fastq/mp928-MV411_MEF2D_NT_SC_63_VHL-MEF2C-r2_001.fastq.gz [Content-Type=application/octet-stream]...\n",
      "/ [1 files][  2.3 GiB/  2.3 GiB]                                                \n",
      "Operation completed over 1 objects/2.3 GiB.                                      \n",
      "Copying gs://transfer-amlproject/201222_MP8533_fastq/mp928-MV411_MEF2D_NT_SC_63_VHL-MEF2C-r2_R1_001.fastq.gz [Content-Type=application/octet-stream]...\n",
      "/ [1 files][  2.3 GiB/  2.3 GiB]                                                \n",
      "Operation completed over 1 objects/2.3 GiB.                                      \n",
      "Copying gs://transfer-amlproject/201222_MP8533_fastq/mp928-MV411_MEF2D_NT_SC_63_VHL-MEF2C-r2_R2_001.fastq.gz [Content-Type=application/octet-stream]...\n",
      "/ [1 files][  2.3 GiB/  2.3 GiB]                                                \n",
      "Operation completed over 1 objects/2.3 GiB.                                      \n",
      "Copying gs://transfer-amlproject/201222_MP8533_fastq/mp929-MV411_MEF2D_NT_SC_63_VHL-MYC-r2_001.fastq.gz [Content-Type=application/octet-stream]...\n",
      "/ [1 files][  1.9 GiB/  1.9 GiB]                                                \n",
      "Operation completed over 1 objects/1.9 GiB.                                      \n",
      "Copying gs://transfer-amlproject/201222_MP8533_fastq/mp929-MV411_MEF2D_NT_SC_63_VHL-MYC-r2_R1_001.fastq.gz [Content-Type=application/octet-stream]...\n",
      "/ [1 files][  1.9 GiB/  1.9 GiB]                                                \n",
      "Operation completed over 1 objects/1.9 GiB.                                      \n",
      "Copying gs://transfer-amlproject/201222_MP8533_fastq/mp929-MV411_MEF2D_NT_SC_63_VHL-MYC-r2_R2_001.fastq.gz [Content-Type=application/octet-stream]...\n",
      "/ [1 files][  1.9 GiB/  1.9 GiB]                                                \n",
      "Operation completed over 1 objects/1.9 GiB.                                      \n",
      "Copying gs://transfer-amlproject/201222_MP8533_fastq/mp930-MV411_MEF2D_NT_SC_63_VHL-POLII_total-r2_001.fastq.gz [Content-Type=application/octet-stream]...\n",
      "/ [1 files][  2.1 GiB/  2.1 GiB]                                                \n",
      "Operation completed over 1 objects/2.1 GiB.                                      \n",
      "Copying gs://transfer-amlproject/201222_MP8533_fastq/mp930-MV411_MEF2D_NT_SC_63_VHL-POLII_total-r2_R1_001.fastq.gz [Content-Type=application/octet-stream]...\n",
      "/ [1 files][  2.1 GiB/  2.1 GiB]                                                \n",
      "Operation completed over 1 objects/2.1 GiB.                                      \n",
      "Copying gs://transfer-amlproject/201222_MP8533_fastq/mp930-MV411_MEF2D_NT_SC_63_VHL-POLII_total-r2_R2_001.fastq.gz [Content-Type=application/octet-stream]...\n",
      "/ [1 files][  2.1 GiB/  2.1 GiB]                                                \n",
      "Operation completed over 1 objects/2.1 GiB.                                      \n",
      "Copying gs://transfer-amlproject/201222_MP8533_fastq/multiqc_report.html [Content-Type=text/html]...\n",
      "/ [1 files][  1.3 MiB/  1.3 MiB]                                                \n",
      "Operation completed over 1 objects/1.3 MiB.                                      \n",
      "Omitting prefix \"gs://transfer-amlproject/201222_MP8533_fastq/Reports/\". (Did you mean to do cp -r?)\n",
      "CommandException: No URLs matched\n",
      "Omitting prefix \"gs://transfer-amlproject/201222_MP8533_fastq/multiqc_data/\". (Did you mean to do cp -r?)\n",
      "CommandException: No URLs matched\n"
     ]
    }
   ],
   "source": [
    "for val in fastq:\n",
    "    rep = val\n",
    "    for k,v in rename.items():\n",
    "        rep = rep.replace(k,v)\n",
    "    rep = rep.replace('transfer-amlproject/'+loc+'/',\"amlproject/Chip/\"+project+'/fastqs/')\n",
    "    !gsutil cp $val $rep"
   ]
  },
  {
   "cell_type": "code",
   "execution_count": 335,
   "metadata": {},
   "outputs": [],
   "source": [
    "from gsheets import Sheets\n",
    "sheets = Sheets.from_files('~/.client_secret.json', '~/.storage.json')\n",
    "url=\"https://docs.google.com/spreadsheets/d/1yFLjYB1McU530JnLgL0QIMAKIkVl3kl0_LCHje2gk8U\"\n",
    "gsheet = sheets.get(url).sheets[2].to_frame()"
   ]
  },
  {
   "cell_type": "code",
   "execution_count": 360,
   "metadata": {},
   "outputs": [
    {
     "name": "stdout",
     "output_type": "stream",
     "text": [
      "Removing gs://amlproject/Chip/chipseq_MF2C_degraded_v2/fastqs/multiqc_report.html...\n",
      "/ [1 objects]                                                                   \n",
      "Operation completed over 1 objects.                                              \n"
     ]
    }
   ],
   "source": [
    "! gsutil rm 'gs://amlproject/Chip/chipseq_MF2C_degraded_v2/fastqs/multiqc_report.html'"
   ]
  },
  {
   "cell_type": "code",
   "execution_count": 367,
   "metadata": {
    "scrolled": true
   },
   "outputs": [
    {
     "data": {
      "text/plain": [
       "['gs://amlproject/Chip/chipseq_MF2C_degraded_v2/fastqs/mp921-MV411_MEF2D_NT_SC_63_DMSO-FLAG_MEF2D-r4_R1_001.fastq.gz',\n",
       " 'gs://amlproject/Chip/chipseq_MF2C_degraded_v2/fastqs/mp921-MV411_MEF2D_NT_SC_63_DMSO-FLAG_MEF2D-r4_R2_001.fastq.gz',\n",
       " 'gs://amlproject/Chip/chipseq_MF2C_degraded_v2/fastqs/mp922-MV411_MEF2D_NT_SC_63_DMSO-MED1-r2_R1_001.fastq.gz',\n",
       " 'gs://amlproject/Chip/chipseq_MF2C_degraded_v2/fastqs/mp922-MV411_MEF2D_NT_SC_63_DMSO-MED1-r2_R2_001.fastq.gz',\n",
       " 'gs://amlproject/Chip/chipseq_MF2C_degraded_v2/fastqs/mp923-MV411_MEF2D_NT_SC_63_DMSO-MEF2C-r2_R1_001.fastq.gz',\n",
       " 'gs://amlproject/Chip/chipseq_MF2C_degraded_v2/fastqs/mp923-MV411_MEF2D_NT_SC_63_DMSO-MEF2C-r2_R2_001.fastq.gz',\n",
       " 'gs://amlproject/Chip/chipseq_MF2C_degraded_v2/fastqs/mp924-MV411_MEF2D_NT_SC_63_DMSO-MYC-r2_R1_001.fastq.gz',\n",
       " 'gs://amlproject/Chip/chipseq_MF2C_degraded_v2/fastqs/mp924-MV411_MEF2D_NT_SC_63_DMSO-MYC-r2_R2_001.fastq.gz',\n",
       " 'gs://amlproject/Chip/chipseq_MF2C_degraded_v2/fastqs/mp925-MV411_MEF2D_NT_SC_63_DMSO-POLII_total-r2_R1_001.fastq.gz',\n",
       " 'gs://amlproject/Chip/chipseq_MF2C_degraded_v2/fastqs/mp925-MV411_MEF2D_NT_SC_63_DMSO-POLII_total-r2_R2_001.fastq.gz',\n",
       " 'gs://amlproject/Chip/chipseq_MF2C_degraded_v2/fastqs/mp926-MV411_MEF2D_NT_SC_63_VHL-FLAG_MEF2D-r4_R1_001.fastq.gz',\n",
       " 'gs://amlproject/Chip/chipseq_MF2C_degraded_v2/fastqs/mp926-MV411_MEF2D_NT_SC_63_VHL-FLAG_MEF2D-r4_R2_001.fastq.gz',\n",
       " 'gs://amlproject/Chip/chipseq_MF2C_degraded_v2/fastqs/mp927-MV411_MEF2D_NT_SC_63_VHL-MED1-r2_R1_001.fastq.gz',\n",
       " 'gs://amlproject/Chip/chipseq_MF2C_degraded_v2/fastqs/mp927-MV411_MEF2D_NT_SC_63_VHL-MED1-r2_R2_001.fastq.gz',\n",
       " 'gs://amlproject/Chip/chipseq_MF2C_degraded_v2/fastqs/mp928-MV411_MEF2D_NT_SC_63_VHL-MEF2C-r2_R1_001.fastq.gz',\n",
       " 'gs://amlproject/Chip/chipseq_MF2C_degraded_v2/fastqs/mp928-MV411_MEF2D_NT_SC_63_VHL-MEF2C-r2_R2_001.fastq.gz',\n",
       " 'gs://amlproject/Chip/chipseq_MF2C_degraded_v2/fastqs/mp929-MV411_MEF2D_NT_SC_63_VHL-MYC-r2_R1_001.fastq.gz',\n",
       " 'gs://amlproject/Chip/chipseq_MF2C_degraded_v2/fastqs/mp929-MV411_MEF2D_NT_SC_63_VHL-MYC-r2_R2_001.fastq.gz',\n",
       " 'gs://amlproject/Chip/chipseq_MF2C_degraded_v2/fastqs/mp930-MV411_MEF2D_NT_SC_63_VHL-POLII_total-r2_R1_001.fastq.gz',\n",
       " 'gs://amlproject/Chip/chipseq_MF2C_degraded_v2/fastqs/mp930-MV411_MEF2D_NT_SC_63_VHL-POLII_total-r2_R2_001.fastq.gz']"
      ]
     },
     "execution_count": 367,
     "metadata": {},
     "output_type": "execute_result"
    }
   ],
   "source": [
    "fastq = ! gsutil ls gs://amlproject/Chip/$project/fastqs/\n",
    "fastq"
   ]
  },
  {
   "cell_type": "code",
   "execution_count": 368,
   "metadata": {},
   "outputs": [
    {
     "data": {
      "text/html": [
       "<div>\n",
       "<style scoped>\n",
       "    .dataframe tbody tr th:only-of-type {\n",
       "        vertical-align: middle;\n",
       "    }\n",
       "\n",
       "    .dataframe tbody tr th {\n",
       "        vertical-align: top;\n",
       "    }\n",
       "\n",
       "    .dataframe thead th {\n",
       "        text-align: right;\n",
       "    }\n",
       "</style>\n",
       "<table border=\"1\" class=\"dataframe\">\n",
       "  <thead>\n",
       "    <tr style=\"text-align: right;\">\n",
       "      <th></th>\n",
       "      <th>fastq_1</th>\n",
       "      <th>fastq_2</th>\n",
       "      <th>antibody</th>\n",
       "      <th>group</th>\n",
       "      <th>replicate</th>\n",
       "      <th>control</th>\n",
       "    </tr>\n",
       "  </thead>\n",
       "  <tbody>\n",
       "    <tr>\n",
       "      <th>0</th>\n",
       "      <td>gs://amlproject/Chip/chipseq_MF2C_degraded_v2/...</td>\n",
       "      <td>gs://amlproject/Chip/chipseq_MF2C_degraded_v2/...</td>\n",
       "      <td>FLAG_MEF2D</td>\n",
       "      <td>MV411_MEF2D_NT_SC_63_DMSO-FLAG_MEF2D</td>\n",
       "      <td>1</td>\n",
       "      <td>INPUT</td>\n",
       "    </tr>\n",
       "    <tr>\n",
       "      <th>1</th>\n",
       "      <td>gs://amlproject/Chip/chipseq_MF2C_degraded_v2/...</td>\n",
       "      <td>gs://amlproject/Chip/chipseq_MF2C_degraded_v2/...</td>\n",
       "      <td>MED1</td>\n",
       "      <td>MV411_MEF2D_NT_SC_63_DMSO-MED1</td>\n",
       "      <td>1</td>\n",
       "      <td>INPUT</td>\n",
       "    </tr>\n",
       "    <tr>\n",
       "      <th>2</th>\n",
       "      <td>gs://amlproject/Chip/chipseq_MF2C_degraded_v2/...</td>\n",
       "      <td>gs://amlproject/Chip/chipseq_MF2C_degraded_v2/...</td>\n",
       "      <td>MEF2C</td>\n",
       "      <td>MV411_MEF2D_NT_SC_63_DMSO-MEF2C</td>\n",
       "      <td>1</td>\n",
       "      <td>INPUT</td>\n",
       "    </tr>\n",
       "    <tr>\n",
       "      <th>3</th>\n",
       "      <td>gs://amlproject/Chip/chipseq_MF2C_degraded_v2/...</td>\n",
       "      <td>gs://amlproject/Chip/chipseq_MF2C_degraded_v2/...</td>\n",
       "      <td>MYC</td>\n",
       "      <td>MV411_MEF2D_NT_SC_63_DMSO-MYC</td>\n",
       "      <td>1</td>\n",
       "      <td>INPUT</td>\n",
       "    </tr>\n",
       "    <tr>\n",
       "      <th>4</th>\n",
       "      <td>gs://amlproject/Chip/chipseq_MF2C_degraded_v2/...</td>\n",
       "      <td>gs://amlproject/Chip/chipseq_MF2C_degraded_v2/...</td>\n",
       "      <td>POLII_total</td>\n",
       "      <td>MV411_MEF2D_NT_SC_63_DMSO-POLII_total</td>\n",
       "      <td>1</td>\n",
       "      <td>INPUT</td>\n",
       "    </tr>\n",
       "    <tr>\n",
       "      <th>5</th>\n",
       "      <td>gs://amlproject/Chip/chipseq_MF2C_degraded_v2/...</td>\n",
       "      <td>gs://amlproject/Chip/chipseq_MF2C_degraded_v2/...</td>\n",
       "      <td>FLAG_MEF2D</td>\n",
       "      <td>MV411_MEF2D_NT_SC_63_VHL-FLAG_MEF2D</td>\n",
       "      <td>1</td>\n",
       "      <td>INPUT</td>\n",
       "    </tr>\n",
       "    <tr>\n",
       "      <th>6</th>\n",
       "      <td>gs://amlproject/Chip/chipseq_MF2C_degraded_v2/...</td>\n",
       "      <td>gs://amlproject/Chip/chipseq_MF2C_degraded_v2/...</td>\n",
       "      <td>MED1</td>\n",
       "      <td>MV411_MEF2D_NT_SC_63_VHL-MED1</td>\n",
       "      <td>1</td>\n",
       "      <td>INPUT</td>\n",
       "    </tr>\n",
       "    <tr>\n",
       "      <th>7</th>\n",
       "      <td>gs://amlproject/Chip/chipseq_MF2C_degraded_v2/...</td>\n",
       "      <td>gs://amlproject/Chip/chipseq_MF2C_degraded_v2/...</td>\n",
       "      <td>MEF2C</td>\n",
       "      <td>MV411_MEF2D_NT_SC_63_VHL-MEF2C</td>\n",
       "      <td>1</td>\n",
       "      <td>INPUT</td>\n",
       "    </tr>\n",
       "    <tr>\n",
       "      <th>8</th>\n",
       "      <td>gs://amlproject/Chip/chipseq_MF2C_degraded_v2/...</td>\n",
       "      <td>gs://amlproject/Chip/chipseq_MF2C_degraded_v2/...</td>\n",
       "      <td>MYC</td>\n",
       "      <td>MV411_MEF2D_NT_SC_63_VHL-MYC</td>\n",
       "      <td>1</td>\n",
       "      <td>INPUT</td>\n",
       "    </tr>\n",
       "    <tr>\n",
       "      <th>9</th>\n",
       "      <td>gs://amlproject/Chip/chipseq_MF2C_degraded_v2/...</td>\n",
       "      <td>gs://amlproject/Chip/chipseq_MF2C_degraded_v2/...</td>\n",
       "      <td>POLII_total</td>\n",
       "      <td>MV411_MEF2D_NT_SC_63_VHL-POLII_total</td>\n",
       "      <td>1</td>\n",
       "      <td>INPUT</td>\n",
       "    </tr>\n",
       "    <tr>\n",
       "      <th>10</th>\n",
       "      <td>gs://amlproject/Chip/IRF2BP2_degraded_rep3/fas...</td>\n",
       "      <td>gs://amlproject/Chip/IRF2BP2_degraded_rep3/fas...</td>\n",
       "      <td></td>\n",
       "      <td>INPUT</td>\n",
       "      <td>1</td>\n",
       "      <td></td>\n",
       "    </tr>\n",
       "  </tbody>\n",
       "</table>\n",
       "</div>"
      ],
      "text/plain": [
       "                                              fastq_1  \\\n",
       "0   gs://amlproject/Chip/chipseq_MF2C_degraded_v2/...   \n",
       "1   gs://amlproject/Chip/chipseq_MF2C_degraded_v2/...   \n",
       "2   gs://amlproject/Chip/chipseq_MF2C_degraded_v2/...   \n",
       "3   gs://amlproject/Chip/chipseq_MF2C_degraded_v2/...   \n",
       "4   gs://amlproject/Chip/chipseq_MF2C_degraded_v2/...   \n",
       "5   gs://amlproject/Chip/chipseq_MF2C_degraded_v2/...   \n",
       "6   gs://amlproject/Chip/chipseq_MF2C_degraded_v2/...   \n",
       "7   gs://amlproject/Chip/chipseq_MF2C_degraded_v2/...   \n",
       "8   gs://amlproject/Chip/chipseq_MF2C_degraded_v2/...   \n",
       "9   gs://amlproject/Chip/chipseq_MF2C_degraded_v2/...   \n",
       "10  gs://amlproject/Chip/IRF2BP2_degraded_rep3/fas...   \n",
       "\n",
       "                                              fastq_2     antibody  \\\n",
       "0   gs://amlproject/Chip/chipseq_MF2C_degraded_v2/...   FLAG_MEF2D   \n",
       "1   gs://amlproject/Chip/chipseq_MF2C_degraded_v2/...         MED1   \n",
       "2   gs://amlproject/Chip/chipseq_MF2C_degraded_v2/...        MEF2C   \n",
       "3   gs://amlproject/Chip/chipseq_MF2C_degraded_v2/...          MYC   \n",
       "4   gs://amlproject/Chip/chipseq_MF2C_degraded_v2/...  POLII_total   \n",
       "5   gs://amlproject/Chip/chipseq_MF2C_degraded_v2/...   FLAG_MEF2D   \n",
       "6   gs://amlproject/Chip/chipseq_MF2C_degraded_v2/...         MED1   \n",
       "7   gs://amlproject/Chip/chipseq_MF2C_degraded_v2/...        MEF2C   \n",
       "8   gs://amlproject/Chip/chipseq_MF2C_degraded_v2/...          MYC   \n",
       "9   gs://amlproject/Chip/chipseq_MF2C_degraded_v2/...  POLII_total   \n",
       "10  gs://amlproject/Chip/IRF2BP2_degraded_rep3/fas...                \n",
       "\n",
       "                                    group  replicate control  \n",
       "0    MV411_MEF2D_NT_SC_63_DMSO-FLAG_MEF2D          1   INPUT  \n",
       "1          MV411_MEF2D_NT_SC_63_DMSO-MED1          1   INPUT  \n",
       "2         MV411_MEF2D_NT_SC_63_DMSO-MEF2C          1   INPUT  \n",
       "3           MV411_MEF2D_NT_SC_63_DMSO-MYC          1   INPUT  \n",
       "4   MV411_MEF2D_NT_SC_63_DMSO-POLII_total          1   INPUT  \n",
       "5     MV411_MEF2D_NT_SC_63_VHL-FLAG_MEF2D          1   INPUT  \n",
       "6           MV411_MEF2D_NT_SC_63_VHL-MED1          1   INPUT  \n",
       "7          MV411_MEF2D_NT_SC_63_VHL-MEF2C          1   INPUT  \n",
       "8            MV411_MEF2D_NT_SC_63_VHL-MYC          1   INPUT  \n",
       "9    MV411_MEF2D_NT_SC_63_VHL-POLII_total          1   INPUT  \n",
       "10                                  INPUT          1          "
      ]
     },
     "execution_count": 368,
     "metadata": {},
     "output_type": "execute_result"
    }
   ],
   "source": [
    "df = {\n",
    "\"fastq_1\": [],\n",
    "\"fastq_2\": [],\n",
    "\"antibody\": [],\n",
    "\"group\": [],\n",
    "\"replicate\": [],\n",
    "\"control\": []\n",
    "}\n",
    "for val in h.grouped(fastq,2):\n",
    "    row = gsheet[gsheet.id==val[0].split('/')[-1].split('-')[0]]\n",
    "    df['group'].append(\"MV4\"+row['name'].values[0].split('-r')[0].split('-MV4')[1])\n",
    "    df['replicate'].append(1)\n",
    "    df['fastq_1'].append(val[0])\n",
    "    df['fastq_2'].append(val[1])\n",
    "    df['antibody'].append(row['protein'].values[0])\n",
    "    df['control'].append(\"INPUT\")\n",
    "df['group'].append('INPUT')\n",
    "df['replicate'].append(1)\n",
    "df['fastq_1'].append('gs://amlproject/Chip/IRF2BP2_degraded_rep3/fastqs/mp845-MV411-INPUT-r2_R1.fastq.gz')\n",
    "df['fastq_2'].append('gs://amlproject/Chip/IRF2BP2_degraded_rep3/fastqs/mp845-MV411-INPUT-r2_R2.fastq.gz')\n",
    "df['antibody'].append(\"\")\n",
    "df['control'].append(\"\")\n",
    "df = pd.DataFrame(df)\n",
    "df"
   ]
  },
  {
   "cell_type": "code",
   "execution_count": 369,
   "metadata": {},
   "outputs": [],
   "source": [
    "df[df.columns[[3,4,0,1,2,5]]].to_csv('../nextflow/'+project+'_design.csv',index=False)"
   ]
  },
  {
   "cell_type": "code",
   "execution_count": 370,
   "metadata": {},
   "outputs": [
    {
     "data": {
      "text/plain": [
       "'chipseq_MF2C_degraded_v2'"
      ]
     },
     "execution_count": 370,
     "metadata": {},
     "output_type": "execute_result"
    }
   ],
   "source": [
    "project"
   ]
  },
  {
   "cell_type": "markdown",
   "metadata": {},
   "source": [
    "### about\n",
    "\n",
    "0. you need to have a google project set up with a billing account\n",
    "1. you need to activte your APIs this way: https://cloud.google.com/life-sciences/docs/tutorials/nextflow?hl=fr\n",
    "2. nextflow needs to be installed with this installation command `export NXF_MODE=google && curl https://get.nextflow.io | bash`"
   ]
  },
  {
   "cell_type": "code",
   "execution_count": null,
   "metadata": {},
   "outputs": [],
   "source": [
    "! cd ../../nextflow log ## to get access to the previous runs"
   ]
  },
  {
   "cell_type": "code",
   "execution_count": null,
   "metadata": {},
   "outputs": [],
   "source": [
    "#process chips \n",
    "! cd ../../ && ./nextflow run jkobject/chipseq --paired_end --seq_center 'DFCI' --email 'jkobject@gmail.com' --input AMLproject/nextflow/chipseq_MF2C_degraded_v2_design.csv --genome GRCh38 --max_cpus 16 -profile jkcloud -w gs://workamlproject/MEF2Cv2res --spiking --outdir gs://workamlproject/MEF2C_v2 --tracedir AMLproject/nextflow/MEF2Cdegradedv2/"
   ]
  },
  {
   "cell_type": "code",
   "execution_count": 372,
   "metadata": {},
   "outputs": [
    {
     "data": {
      "text/plain": [
       "'chipseq_MF2C_degraded_v2'"
      ]
     },
     "execution_count": 372,
     "metadata": {},
     "output_type": "execute_result"
    }
   ],
   "source": [
    "project"
   ]
  },
  {
   "cell_type": "code",
   "execution_count": 375,
   "metadata": {},
   "outputs": [
    {
     "name": "stdout",
     "output_type": "stream",
     "text": [
      "Copying gs://workamlproject/MEF2C_v2/bwa/mergedLibrary/INPUT_R1.mLb.clN.sorted.bam [Content-Type=application/octet-stream]...\n",
      "Copying gs://workamlproject/MEF2C_v2/bwa/mergedLibrary/INPUT_R1.mLb.clN.sorted.bam.bai [Content-Type=application/octet-stream]...\n",
      "Copying gs://workamlproject/MEF2C_v2/bwa/mergedLibrary/MV411_MEF2D_NT_SC_63_DMSO-FLAG_MEF2D_R1.mLb.clN.sorted.bam [Content-Type=application/octet-stream]...\n",
      "Copying gs://workamlproject/MEF2C_v2/bwa/mergedLibrary/MV411_MEF2D_NT_SC_63_DMSO-FLAG_MEF2D_R1.mLb.clN.sorted.bam.bai [Content-Type=application/octet-stream]...\n",
      "Copying gs://workamlproject/MEF2C_v2/bwa/mergedLibrary/MV411_MEF2D_NT_SC_63_DMSO-MED1_R1.mLb.clN.sorted.bam [Content-Type=application/octet-stream]...\n",
      "Copying gs://workamlproject/MEF2C_v2/bwa/mergedLibrary/MV411_MEF2D_NT_SC_63_DMSO-MED1_R1.mLb.clN.sorted.bam.bai [Content-Type=application/octet-stream]...\n",
      "Copying gs://workamlproject/MEF2C_v2/bwa/mergedLibrary/MV411_MEF2D_NT_SC_63_DMSO-MEF2C_R1.mLb.clN.sorted.bam [Content-Type=application/octet-stream]...\n",
      "Copying gs://workamlproject/MEF2C_v2/bwa/mergedLibrary/MV411_MEF2D_NT_SC_63_DMSO-MEF2C_R1.mLb.clN.sorted.bam.bai [Content-Type=application/octet-stream]...\n",
      "Copying gs://workamlproject/MEF2C_v2/bwa/mergedLibrary/MV411_MEF2D_NT_SC_63_DMSO-MYC_R1.mLb.clN.sorted.bam [Content-Type=application/octet-stream]...\n",
      "Copying gs://workamlproject/MEF2C_v2/bwa/mergedLibrary/MV411_MEF2D_NT_SC_63_DMSO-MYC_R1.mLb.clN.sorted.bam.bai [Content-Type=application/octet-stream]...\n",
      "Copying gs://workamlproject/MEF2C_v2/bwa/mergedLibrary/MV411_MEF2D_NT_SC_63_DMSO-POLII_total_R1.mLb.clN.sorted.bam [Content-Type=application/octet-stream]...\n",
      "Copying gs://workamlproject/MEF2C_v2/bwa/mergedLibrary/MV411_MEF2D_NT_SC_63_DMSO-POLII_total_R1.mLb.clN.sorted.bam.bai [Content-Type=application/octet-stream]...\n",
      "Copying gs://workamlproject/MEF2C_v2/bwa/mergedLibrary/MV411_MEF2D_NT_SC_63_VHL-MED1_R1.mLb.clN.sorted.bam [Content-Type=application/octet-stream]...\n",
      "Copying gs://workamlproject/MEF2C_v2/bwa/mergedLibrary/MV411_MEF2D_NT_SC_63_VHL-FLAG_MEF2D_R1.mLb.clN.sorted.bam [Content-Type=application/octet-stream]...\n",
      "Copying gs://workamlproject/MEF2C_v2/bwa/mergedLibrary/MV411_MEF2D_NT_SC_63_VHL-FLAG_MEF2D_R1.mLb.clN.sorted.bam.bai [Content-Type=application/octet-stream]...\n",
      "Copying gs://workamlproject/MEF2C_v2/bwa/mergedLibrary/MV411_MEF2D_NT_SC_63_VHL-MED1_R1.mLb.clN.sorted.bam.bai [Content-Type=application/octet-stream]...\n",
      "Copying gs://workamlproject/MEF2C_v2/bwa/mergedLibrary/MV411_MEF2D_NT_SC_63_VHL-MEF2C_R1.mLb.clN.sorted.bam [Content-Type=application/octet-stream]...\n",
      "Copying gs://workamlproject/MEF2C_v2/bwa/mergedLibrary/MV411_MEF2D_NT_SC_63_VHL-MEF2C_R1.mLb.clN.sorted.bam.bai [Content-Type=application/octet-stream]...\n",
      "Copying gs://workamlproject/MEF2C_v2/bwa/mergedLibrary/MV411_MEF2D_NT_SC_63_VHL-MYC_R1.mLb.clN.sorted.bam [Content-Type=application/octet-stream]...\n",
      "Copying gs://workamlproject/MEF2C_v2/bwa/mergedLibrary/MV411_MEF2D_NT_SC_63_VHL-MYC_R1.mLb.clN.sorted.bam.bai [Content-Type=application/octet-stream]...\n",
      "Copying gs://workamlproject/MEF2C_v2/bwa/mergedLibrary/MV411_MEF2D_NT_SC_63_VHL-POLII_total_R1.mLb.clN.sorted.bam [Content-Type=application/octet-stream]...\n",
      "Copying gs://workamlproject/MEF2C_v2/bwa/mergedLibrary/MV411_MEF2D_NT_SC_63_VHL-POLII_total_R1.mLb.clN.sorted.bam.bai [Content-Type=application/octet-stream]...\n",
      "Copying gs://workamlproject/MEF2C_v2/bwa/mergedLibrary/bigwig/INPUT_R1.bigWig [Content-Type=application/octet-stream]...\n",
      "Copying gs://workamlproject/MEF2C_v2/bwa/mergedLibrary/bigwig/MV411_MEF2D_NT_SC_63_DMSO-FLAG_MEF2D_R1.bigWig [Content-Type=application/octet-stream]...\n",
      "Copying gs://workamlproject/MEF2C_v2/bwa/mergedLibrary/bigwig/MV411_MEF2D_NT_SC_63_DMSO-MED1_R1.bigWig [Content-Type=application/octet-stream]...\n",
      "Copying gs://workamlproject/MEF2C_v2/bwa/mergedLibrary/bigwig/MV411_MEF2D_NT_SC_63_DMSO-MEF2C_R1.bigWig [Content-Type=application/octet-stream]...\n",
      "Copying gs://workamlproject/MEF2C_v2/bwa/mergedLibrary/bigwig/MV411_MEF2D_NT_SC_63_DMSO-MYC_R1.bigWig [Content-Type=application/octet-stream]...\n",
      "Copying gs://workamlproject/MEF2C_v2/bwa/mergedLibrary/bigwig/MV411_MEF2D_NT_SC_63_DMSO-POLII_total_R1.bigWig [Content-Type=application/octet-stream]...\n",
      "Copying gs://workamlproject/MEF2C_v2/bwa/mergedLibrary/bigwig/MV411_MEF2D_NT_SC_63_VHL-MED1_R1.bigWig [Content-Type=application/octet-stream]...\n",
      "Copying gs://workamlproject/MEF2C_v2/bwa/mergedLibrary/bigwig/scale/MV411_MEF2D_NT_SC_63_DMSO-MYC_R1.scale_factor.txt [Content-Type=application/octet-stream]...\n",
      "Copying gs://workamlproject/MEF2C_v2/bwa/mergedLibrary/bigwig/MV411_MEF2D_NT_SC_63_VHL-MYC_R1.bigWig [Content-Type=application/octet-stream]...\n",
      "Copying gs://workamlproject/MEF2C_v2/bwa/mergedLibrary/bigwig/MV411_MEF2D_NT_SC_63_VHL-POLII_total_R1.bigWig [Content-Type=application/octet-stream]...\n",
      "Copying gs://workamlproject/MEF2C_v2/bwa/mergedLibrary/bigwig/scale/INPUT_R1.scale_factor.txt [Content-Type=application/octet-stream]...\n",
      "Copying gs://workamlproject/MEF2C_v2/bwa/mergedLibrary/bigwig/scale/MV411_MEF2D_NT_SC_63_DMSO-FLAG_MEF2D_R1.scale_factor.txt [Content-Type=application/octet-stream]...\n",
      "Copying gs://workamlproject/MEF2C_v2/bwa/mergedLibrary/bigwig/MV411_MEF2D_NT_SC_63_VHL-FLAG_MEF2D_R1.bigWig [Content-Type=application/octet-stream]...\n",
      "Copying gs://workamlproject/MEF2C_v2/bwa/mergedLibrary/bigwig/scale/MV411_MEF2D_NT_SC_63_DMSO-MED1_R1.scale_factor.txt [Content-Type=application/octet-stream]...\n",
      "Copying gs://workamlproject/MEF2C_v2/bwa/mergedLibrary/bigwig/MV411_MEF2D_NT_SC_63_VHL-MEF2C_R1.bigWig [Content-Type=application/octet-stream]...\n",
      "Copying gs://workamlproject/MEF2C_v2/bwa/mergedLibrary/bigwig/scale/MV411_MEF2D_NT_SC_63_DMSO-MEF2C_R1.scale_factor.txt [Content-Type=application/octet-stream]...\n",
      "Copying gs://workamlproject/MEF2C_v2/bwa/mergedLibrary/bigwig/scale/MV411_MEF2D_NT_SC_63_DMSO-POLII_total_R1.scale_factor.txt [Content-Type=application/octet-stream]...\n",
      "Copying gs://workamlproject/MEF2C_v2/bwa/mergedLibrary/bigwig/scale/MV411_MEF2D_NT_SC_63_VHL-FLAG_MEF2D_R1.scale_factor.txt [Content-Type=application/octet-stream]...\n",
      "Copying gs://workamlproject/MEF2C_v2/bwa/mergedLibrary/bigwig/scale/MV411_MEF2D_NT_SC_63_VHL-MED1_R1.scale_factor.txt [Content-Type=application/octet-stream]...\n",
      "Copying gs://workamlproject/MEF2C_v2/bwa/mergedLibrary/bigwig/scale/MV411_MEF2D_NT_SC_63_VHL-MEF2C_R1.scale_factor.txt [Content-Type=application/octet-stream]...\n",
      "Copying gs://workamlproject/MEF2C_v2/bwa/mergedLibrary/bigwig/scale/MV411_MEF2D_NT_SC_63_VHL-MYC_R1.scale_factor.txt [Content-Type=application/octet-stream]...\n",
      "Copying gs://workamlproject/MEF2C_v2/bwa/mergedLibrary/bigwig/scale/MV411_MEF2D_NT_SC_63_VHL-POLII_total_R1.scale_factor.txt [Content-Type=application/octet-stream]...\n",
      "Copying gs://workamlproject/MEF2C_v2/bwa/mergedLibrary/counts/MV411_MEF2D_NT_SC_63_DMSO-MED1_R1_T1.txt [Content-Type=application/octet-stream]...\n",
      "Copying gs://workamlproject/MEF2C_v2/bwa/mergedLibrary/counts/MV411_MEF2D_NT_SC_63_DMSO-MEF2C_R1_T1.txt [Content-Type=application/octet-stream]...\n",
      "Copying gs://workamlproject/MEF2C_v2/bwa/mergedLibrary/counts/MV411_MEF2D_NT_SC_63_DMSO-MYC_R1_T1.txt [Content-Type=application/octet-stream]...\n",
      "Copying gs://workamlproject/MEF2C_v2/bwa/mergedLibrary/counts/MV411_MEF2D_NT_SC_63_DMSO-POLII_total_R1_T1.txt [Content-Type=application/octet-stream]...\n",
      "Copying gs://workamlproject/MEF2C_v2/bwa/mergedLibrary/counts/MV411_MEF2D_NT_SC_63_VHL-FLAG_MEF2D_R1_T1.txt [Content-Type=application/octet-stream]...\n",
      "Copying gs://workamlproject/MEF2C_v2/bwa/mergedLibrary/counts/INPUT_R1_T1.txt [Content-Type=application/octet-stream]...\n",
      "Copying gs://workamlproject/MEF2C_v2/bwa/mergedLibrary/deepTools/plotFingerprint/MV411_MEF2D_NT_SC_63_DMSO-MEF2C_R1.plotFingerprint.pdf [Content-Type=application/octet-stream]...\n",
      "Copying gs://workamlproject/MEF2C_v2/bwa/mergedLibrary/deepTools/plotFingerprint/MV411_MEF2D_NT_SC_63_DMSO-POLII_total_R1.plotFingerprint.qcmetrics.txt [Content-Type=application/octet-stream]...\n",
      "Copying gs://workamlproject/MEF2C_v2/bwa/mergedLibrary/deepTools/plotFingerprint/MV411_MEF2D_NT_SC_63_VHL-MEF2C_R1.plotFingerprint.pdf [Content-Type=application/octet-stream]...\n",
      "Copying gs://workamlproject/MEF2C_v2/bwa/mergedLibrary/counts/MV411_MEF2D_NT_SC_63_VHL-MED1_R1_T1.txt [Content-Type=application/octet-stream]...\n",
      "Copying gs://workamlproject/MEF2C_v2/bwa/mergedLibrary/counts/MV411_MEF2D_NT_SC_63_VHL-MEF2C_R1_T1.txt [Content-Type=application/octet-stream]...\n",
      "Copying gs://workamlproject/MEF2C_v2/bwa/mergedLibrary/deepTools/plotFingerprint/MV411_MEF2D_NT_SC_63_VHL-MYC_R1.plotFingerprint.raw.txt [Content-Type=application/octet-stream]...\n",
      "Copying gs://workamlproject/MEF2C_v2/bwa/mergedLibrary/counts/MV411_MEF2D_NT_SC_63_VHL-MYC_R1_T1.txt [Content-Type=application/octet-stream]...\n"
     ]
    },
    {
     "name": "stdout",
     "output_type": "stream",
     "text": [
      "Copying gs://workamlproject/MEF2C_v2/bwa/mergedLibrary/deepTools/plotFingerprint/MV411_MEF2D_NT_SC_63_DMSO-FLAG_MEF2D_R1.plotFingerprint.qcmetrics.txt [Content-Type=application/octet-stream]...\n",
      "Copying gs://workamlproject/MEF2C_v2/bwa/mergedLibrary/counts/MV411_MEF2D_NT_SC_63_VHL-POLII_total_R1_T1.txt [Content-Type=application/octet-stream]...\n",
      "Copying gs://workamlproject/MEF2C_v2/bwa/mergedLibrary/deepTools/plotFingerprint/MV411_MEF2D_NT_SC_63_DMSO-FLAG_MEF2D_R1.plotFingerprint.pdf [Content-Type=application/octet-stream]...\n",
      "Copying gs://workamlproject/MEF2C_v2/bwa/mergedLibrary/deepTools/plotFingerprint/MV411_MEF2D_NT_SC_63_DMSO-MEF2C_R1.plotFingerprint.qcmetrics.txt [Content-Type=application/octet-stream]...\n",
      "Copying gs://workamlproject/MEF2C_v2/bwa/mergedLibrary/deepTools/plotFingerprint/MV411_MEF2D_NT_SC_63_DMSO-MED1_R1.plotFingerprint.pdf [Content-Type=application/octet-stream]...\n",
      "Copying gs://workamlproject/MEF2C_v2/bwa/mergedLibrary/deepTools/plotFingerprint/MV411_MEF2D_NT_SC_63_DMSO-FLAG_MEF2D_R1.plotFingerprint.raw.txt [Content-Type=application/octet-stream]...\n",
      "Copying gs://workamlproject/MEF2C_v2/bwa/mergedLibrary/deepTools/plotFingerprint/MV411_MEF2D_NT_SC_63_DMSO-MYC_R1.plotFingerprint.pdf [Content-Type=application/octet-stream]...\n",
      "Copying gs://workamlproject/MEF2C_v2/bwa/mergedLibrary/deepTools/plotFingerprint/MV411_MEF2D_NT_SC_63_DMSO-MED1_R1.plotFingerprint.qcmetrics.txt [Content-Type=application/octet-stream]...\n",
      "Copying gs://workamlproject/MEF2C_v2/bwa/mergedLibrary/deepTools/plotFingerprint/MV411_MEF2D_NT_SC_63_VHL-FLAG_MEF2D_R1.plotFingerprint.pdf [Content-Type=application/octet-stream]...\n",
      "Copying gs://workamlproject/MEF2C_v2/bwa/mergedLibrary/deepTools/plotFingerprint/MV411_MEF2D_NT_SC_63_DMSO-MYC_R1.plotFingerprint.raw.txt [Content-Type=application/octet-stream]...\n",
      "Copying gs://workamlproject/MEF2C_v2/bwa/mergedLibrary/deepTools/plotFingerprint/MV411_MEF2D_NT_SC_63_DMSO-MED1_R1.plotFingerprint.raw.txt [Content-Type=application/octet-stream]...\n",
      "Copying gs://workamlproject/MEF2C_v2/bwa/mergedLibrary/deepTools/plotFingerprint/MV411_MEF2D_NT_SC_63_DMSO-MYC_R1.plotFingerprint.qcmetrics.txt [Content-Type=application/octet-stream]...\n",
      "Copying gs://workamlproject/MEF2C_v2/bwa/mergedLibrary/deepTools/plotFingerprint/MV411_MEF2D_NT_SC_63_VHL-FLAG_MEF2D_R1.plotFingerprint.qcmetrics.txt [Content-Type=application/octet-stream]...\n",
      "Copying gs://workamlproject/MEF2C_v2/bwa/mergedLibrary/deepTools/plotFingerprint/MV411_MEF2D_NT_SC_63_DMSO-MEF2C_R1.plotFingerprint.raw.txt [Content-Type=application/octet-stream]...\n",
      "Copying gs://workamlproject/MEF2C_v2/bwa/mergedLibrary/deepTools/plotFingerprint/MV411_MEF2D_NT_SC_63_VHL-MED1_R1.plotFingerprint.pdf [Content-Type=application/octet-stream]...\n",
      "Copying gs://workamlproject/MEF2C_v2/bwa/mergedLibrary/deepTools/plotFingerprint/MV411_MEF2D_NT_SC_63_DMSO-POLII_total_R1.plotFingerprint.raw.txt [Content-Type=application/octet-stream]...\n",
      "Copying gs://workamlproject/MEF2C_v2/bwa/mergedLibrary/deepTools/plotFingerprint/MV411_MEF2D_NT_SC_63_DMSO-POLII_total_R1.plotFingerprint.pdf [Content-Type=application/octet-stream]...\n",
      "Copying gs://workamlproject/MEF2C_v2/bwa/mergedLibrary/deepTools/plotFingerprint/MV411_MEF2D_NT_SC_63_VHL-MEF2C_R1.plotFingerprint.qcmetrics.txt [Content-Type=application/octet-stream]...\n",
      "Copying gs://workamlproject/MEF2C_v2/bwa/mergedLibrary/deepTools/plotFingerprint/MV411_MEF2D_NT_SC_63_VHL-MEF2C_R1.plotFingerprint.raw.txt [Content-Type=application/octet-stream]...\n",
      "Copying gs://workamlproject/MEF2C_v2/bwa/mergedLibrary/deepTools/plotFingerprint/MV411_MEF2D_NT_SC_63_VHL-POLII_total_R1.plotFingerprint.qcmetrics.txt [Content-Type=application/octet-stream]...\n",
      "Copying gs://workamlproject/MEF2C_v2/bwa/mergedLibrary/deepTools/plotFingerprint/MV411_MEF2D_NT_SC_63_VHL-POLII_total_R1.plotFingerprint.pdf [Content-Type=application/octet-stream]...\n",
      "Copying gs://workamlproject/MEF2C_v2/bwa/mergedLibrary/deepTools/plotFingerprint/MV411_MEF2D_NT_SC_63_VHL-FLAG_MEF2D_R1.plotFingerprint.raw.txt [Content-Type=application/octet-stream]...\n",
      "Copying gs://workamlproject/MEF2C_v2/bwa/mergedLibrary/deepTools/plotProfile/INPUT_R1.computeMatrix.mat.gz [Content-Type=application/octet-stream]...\n",
      "Copying gs://workamlproject/MEF2C_v2/bwa/mergedLibrary/deepTools/plotFingerprint/MV411_MEF2D_NT_SC_63_VHL-MED1_R1.plotFingerprint.qcmetrics.txt [Content-Type=application/octet-stream]...\n",
      "Copying gs://workamlproject/MEF2C_v2/bwa/mergedLibrary/deepTools/plotFingerprint/MV411_MEF2D_NT_SC_63_VHL-MYC_R1.plotFingerprint.pdf [Content-Type=application/octet-stream]...\n",
      "Copying gs://workamlproject/MEF2C_v2/bwa/mergedLibrary/deepTools/plotProfile/INPUT_R1.computeMatrix.vals.mat.tab [Content-Type=application/octet-stream]...\n",
      "Copying gs://workamlproject/MEF2C_v2/bwa/mergedLibrary/deepTools/plotFingerprint/MV411_MEF2D_NT_SC_63_VHL-POLII_total_R1.plotFingerprint.raw.txt [Content-Type=application/octet-stream]...\n",
      "Copying gs://workamlproject/MEF2C_v2/bwa/mergedLibrary/deepTools/plotFingerprint/MV411_MEF2D_NT_SC_63_VHL-MYC_R1.plotFingerprint.qcmetrics.txt [Content-Type=application/octet-stream]...\n",
      "Copying gs://workamlproject/MEF2C_v2/bwa/mergedLibrary/deepTools/plotProfile/INPUT_R1.plotProfile.pdf [Content-Type=application/octet-stream]...\n",
      "Copying gs://workamlproject/MEF2C_v2/bwa/mergedLibrary/deepTools/plotFingerprint/MV411_MEF2D_NT_SC_63_VHL-MED1_R1.plotFingerprint.raw.txt [Content-Type=application/octet-stream]...\n",
      "Copying gs://workamlproject/MEF2C_v2/bwa/mergedLibrary/deepTools/plotProfile/INPUT_R1.plotHeatmap.mat.tab [Content-Type=application/octet-stream]...\n",
      "Copying gs://workamlproject/MEF2C_v2/bwa/mergedLibrary/deepTools/plotProfile/INPUT_R1.plotHeatmap.pdf [Content-Type=application/octet-stream]...\n",
      "Copying gs://workamlproject/MEF2C_v2/bwa/mergedLibrary/deepTools/plotProfile/INPUT_R1.plotProfile.tab [Content-Type=application/octet-stream]...\n",
      "Copying gs://workamlproject/MEF2C_v2/bwa/mergedLibrary/deepTools/plotProfile/MV411_MEF2D_NT_SC_63_DMSO-FLAG_MEF2D_R1.computeMatrix.mat.gz [Content-Type=application/octet-stream]...\n",
      "Copying gs://workamlproject/MEF2C_v2/bwa/mergedLibrary/deepTools/plotProfile/MV411_MEF2D_NT_SC_63_DMSO-FLAG_MEF2D_R1.computeMatrix.vals.mat.tab [Content-Type=application/octet-stream]...\n",
      "Copying gs://workamlproject/MEF2C_v2/bwa/mergedLibrary/deepTools/plotProfile/MV411_MEF2D_NT_SC_63_DMSO-FLAG_MEF2D_R1.plotHeatmap.mat.tab [Content-Type=application/octet-stream]...\n",
      "Copying gs://workamlproject/MEF2C_v2/bwa/mergedLibrary/deepTools/plotProfile/MV411_MEF2D_NT_SC_63_DMSO-FLAG_MEF2D_R1.plotHeatmap.pdf [Content-Type=application/octet-stream]...\n",
      "Copying gs://workamlproject/MEF2C_v2/bwa/mergedLibrary/deepTools/plotProfile/MV411_MEF2D_NT_SC_63_DMSO-FLAG_MEF2D_R1.plotProfile.pdf [Content-Type=application/octet-stream]...\n",
      "Copying gs://workamlproject/MEF2C_v2/bwa/mergedLibrary/deepTools/plotProfile/MV411_MEF2D_NT_SC_63_DMSO-FLAG_MEF2D_R1.plotProfile.tab [Content-Type=application/octet-stream]...\n",
      "Copying gs://workamlproject/MEF2C_v2/bwa/mergedLibrary/deepTools/plotProfile/MV411_MEF2D_NT_SC_63_DMSO-MED1_R1.computeMatrix.mat.gz [Content-Type=application/octet-stream]...\n",
      "Copying gs://workamlproject/MEF2C_v2/bwa/mergedLibrary/deepTools/plotProfile/MV411_MEF2D_NT_SC_63_DMSO-MED1_R1.computeMatrix.vals.mat.tab [Content-Type=application/octet-stream]...\n",
      "Copying gs://workamlproject/MEF2C_v2/bwa/mergedLibrary/deepTools/plotProfile/MV411_MEF2D_NT_SC_63_DMSO-MED1_R1.plotHeatmap.mat.tab [Content-Type=application/octet-stream]...\n",
      "Copying gs://workamlproject/MEF2C_v2/bwa/mergedLibrary/deepTools/plotProfile/MV411_MEF2D_NT_SC_63_DMSO-MED1_R1.plotHeatmap.pdf [Content-Type=application/octet-stream]...\n",
      "Copying gs://workamlproject/MEF2C_v2/bwa/mergedLibrary/deepTools/plotProfile/MV411_MEF2D_NT_SC_63_DMSO-MED1_R1.plotProfile.pdf [Content-Type=application/octet-stream]...\n",
      "Copying gs://workamlproject/MEF2C_v2/bwa/mergedLibrary/deepTools/plotProfile/MV411_MEF2D_NT_SC_63_DMSO-MED1_R1.plotProfile.tab [Content-Type=application/octet-stream]...\n",
      "Copying gs://workamlproject/MEF2C_v2/bwa/mergedLibrary/deepTools/plotProfile/MV411_MEF2D_NT_SC_63_DMSO-MEF2C_R1.computeMatrix.mat.gz [Content-Type=application/octet-stream]...\n",
      "Copying gs://workamlproject/MEF2C_v2/bwa/mergedLibrary/deepTools/plotProfile/MV411_MEF2D_NT_SC_63_DMSO-MEF2C_R1.computeMatrix.vals.mat.tab [Content-Type=application/octet-stream]...\n"
     ]
    },
    {
     "name": "stdout",
     "output_type": "stream",
     "text": [
      "Copying gs://workamlproject/MEF2C_v2/bwa/mergedLibrary/deepTools/plotProfile/MV411_MEF2D_NT_SC_63_DMSO-MEF2C_R1.plotHeatmap.mat.tab [Content-Type=application/octet-stream]...\n",
      "Copying gs://workamlproject/MEF2C_v2/bwa/mergedLibrary/deepTools/plotProfile/MV411_MEF2D_NT_SC_63_DMSO-MEF2C_R1.plotHeatmap.pdf [Content-Type=application/octet-stream]...\n",
      "Copying gs://workamlproject/MEF2C_v2/bwa/mergedLibrary/deepTools/plotProfile/MV411_MEF2D_NT_SC_63_DMSO-MEF2C_R1.plotProfile.pdf [Content-Type=application/octet-stream]...\n",
      "Copying gs://workamlproject/MEF2C_v2/bwa/mergedLibrary/deepTools/plotProfile/MV411_MEF2D_NT_SC_63_DMSO-MEF2C_R1.plotProfile.tab [Content-Type=application/octet-stream]...\n",
      "Copying gs://workamlproject/MEF2C_v2/bwa/mergedLibrary/deepTools/plotProfile/MV411_MEF2D_NT_SC_63_DMSO-MYC_R1.computeMatrix.mat.gz [Content-Type=application/octet-stream]...\n",
      "Copying gs://workamlproject/MEF2C_v2/bwa/mergedLibrary/deepTools/plotProfile/MV411_MEF2D_NT_SC_63_DMSO-MYC_R1.computeMatrix.vals.mat.tab [Content-Type=application/octet-stream]...\n",
      "Copying gs://workamlproject/MEF2C_v2/bwa/mergedLibrary/deepTools/plotProfile/MV411_MEF2D_NT_SC_63_DMSO-MYC_R1.plotHeatmap.mat.tab [Content-Type=application/octet-stream]...\n",
      "Copying gs://workamlproject/MEF2C_v2/bwa/mergedLibrary/deepTools/plotProfile/MV411_MEF2D_NT_SC_63_DMSO-MYC_R1.plotHeatmap.pdf [Content-Type=application/octet-stream]...\n",
      "Copying gs://workamlproject/MEF2C_v2/bwa/mergedLibrary/deepTools/plotProfile/MV411_MEF2D_NT_SC_63_DMSO-MYC_R1.plotProfile.pdf [Content-Type=application/octet-stream]...\n",
      "Copying gs://workamlproject/MEF2C_v2/bwa/mergedLibrary/deepTools/plotProfile/MV411_MEF2D_NT_SC_63_DMSO-POLII_total_R1.computeMatrix.mat.gz [Content-Type=application/octet-stream]...\n",
      "Copying gs://workamlproject/MEF2C_v2/bwa/mergedLibrary/deepTools/plotProfile/MV411_MEF2D_NT_SC_63_DMSO-MYC_R1.plotProfile.tab [Content-Type=application/octet-stream]...\n",
      "Copying gs://workamlproject/MEF2C_v2/bwa/mergedLibrary/deepTools/plotProfile/MV411_MEF2D_NT_SC_63_DMSO-POLII_total_R1.computeMatrix.vals.mat.tab [Content-Type=application/octet-stream]...\n",
      "Copying gs://workamlproject/MEF2C_v2/bwa/mergedLibrary/deepTools/plotProfile/MV411_MEF2D_NT_SC_63_DMSO-POLII_total_R1.plotHeatmap.mat.tab [Content-Type=application/octet-stream]...\n",
      "Copying gs://workamlproject/MEF2C_v2/bwa/mergedLibrary/deepTools/plotProfile/MV411_MEF2D_NT_SC_63_DMSO-POLII_total_R1.plotHeatmap.pdf [Content-Type=application/octet-stream]...\n",
      "Copying gs://workamlproject/MEF2C_v2/bwa/mergedLibrary/deepTools/plotProfile/MV411_MEF2D_NT_SC_63_DMSO-POLII_total_R1.plotProfile.pdf [Content-Type=application/octet-stream]...\n",
      "Copying gs://workamlproject/MEF2C_v2/bwa/mergedLibrary/deepTools/plotProfile/MV411_MEF2D_NT_SC_63_DMSO-POLII_total_R1.plotProfile.tab [Content-Type=application/octet-stream]...\n",
      "Copying gs://workamlproject/MEF2C_v2/bwa/mergedLibrary/deepTools/plotProfile/MV411_MEF2D_NT_SC_63_VHL-FLAG_MEF2D_R1.computeMatrix.mat.gz [Content-Type=application/octet-stream]...\n",
      "Copying gs://workamlproject/MEF2C_v2/bwa/mergedLibrary/deepTools/plotProfile/MV411_MEF2D_NT_SC_63_VHL-FLAG_MEF2D_R1.computeMatrix.vals.mat.tab [Content-Type=application/octet-stream]...\n",
      "Copying gs://workamlproject/MEF2C_v2/bwa/mergedLibrary/deepTools/plotProfile/MV411_MEF2D_NT_SC_63_VHL-FLAG_MEF2D_R1.plotHeatmap.mat.tab [Content-Type=application/octet-stream]...\n",
      "Copying gs://workamlproject/MEF2C_v2/bwa/mergedLibrary/deepTools/plotProfile/MV411_MEF2D_NT_SC_63_VHL-FLAG_MEF2D_R1.plotHeatmap.pdf [Content-Type=application/octet-stream]...\n",
      "Copying gs://workamlproject/MEF2C_v2/bwa/mergedLibrary/deepTools/plotProfile/MV411_MEF2D_NT_SC_63_VHL-FLAG_MEF2D_R1.plotProfile.pdf [Content-Type=application/octet-stream]...\n",
      "Copying gs://workamlproject/MEF2C_v2/bwa/mergedLibrary/deepTools/plotProfile/MV411_MEF2D_NT_SC_63_VHL-FLAG_MEF2D_R1.plotProfile.tab [Content-Type=application/octet-stream]...\n",
      "Copying gs://workamlproject/MEF2C_v2/bwa/mergedLibrary/deepTools/plotProfile/MV411_MEF2D_NT_SC_63_VHL-MED1_R1.computeMatrix.mat.gz [Content-Type=application/octet-stream]...\n",
      "Copying gs://workamlproject/MEF2C_v2/bwa/mergedLibrary/deepTools/plotProfile/MV411_MEF2D_NT_SC_63_VHL-MED1_R1.computeMatrix.vals.mat.tab [Content-Type=application/octet-stream]...\n",
      "Copying gs://workamlproject/MEF2C_v2/bwa/mergedLibrary/deepTools/plotProfile/MV411_MEF2D_NT_SC_63_VHL-MED1_R1.plotHeatmap.mat.tab [Content-Type=application/octet-stream]...\n",
      "Copying gs://workamlproject/MEF2C_v2/bwa/mergedLibrary/deepTools/plotProfile/MV411_MEF2D_NT_SC_63_VHL-MED1_R1.plotHeatmap.pdf [Content-Type=application/octet-stream]...\n",
      "Copying gs://workamlproject/MEF2C_v2/bwa/mergedLibrary/deepTools/plotProfile/MV411_MEF2D_NT_SC_63_VHL-MED1_R1.plotProfile.pdf [Content-Type=application/octet-stream]...\n",
      "Copying gs://workamlproject/MEF2C_v2/bwa/mergedLibrary/deepTools/plotProfile/MV411_MEF2D_NT_SC_63_VHL-MED1_R1.plotProfile.tab [Content-Type=application/octet-stream]...\n",
      "Copying gs://workamlproject/MEF2C_v2/bwa/mergedLibrary/deepTools/plotProfile/MV411_MEF2D_NT_SC_63_VHL-MEF2C_R1.computeMatrix.mat.gz [Content-Type=application/octet-stream]...\n",
      "Copying gs://workamlproject/MEF2C_v2/bwa/mergedLibrary/deepTools/plotProfile/MV411_MEF2D_NT_SC_63_VHL-MEF2C_R1.computeMatrix.vals.mat.tab [Content-Type=application/octet-stream]...\n",
      "Copying gs://workamlproject/MEF2C_v2/bwa/mergedLibrary/deepTools/plotProfile/MV411_MEF2D_NT_SC_63_VHL-MEF2C_R1.plotHeatmap.mat.tab [Content-Type=application/octet-stream]...\n",
      "Copying gs://workamlproject/MEF2C_v2/bwa/mergedLibrary/deepTools/plotProfile/MV411_MEF2D_NT_SC_63_VHL-MEF2C_R1.plotHeatmap.pdf [Content-Type=application/octet-stream]...\n",
      "Copying gs://workamlproject/MEF2C_v2/bwa/mergedLibrary/deepTools/plotProfile/MV411_MEF2D_NT_SC_63_VHL-MEF2C_R1.plotProfile.pdf [Content-Type=application/octet-stream]...\n",
      "Copying gs://workamlproject/MEF2C_v2/bwa/mergedLibrary/deepTools/plotProfile/MV411_MEF2D_NT_SC_63_VHL-MEF2C_R1.plotProfile.tab [Content-Type=application/octet-stream]...\n",
      "Copying gs://workamlproject/MEF2C_v2/bwa/mergedLibrary/deepTools/plotProfile/MV411_MEF2D_NT_SC_63_VHL-MYC_R1.computeMatrix.mat.gz [Content-Type=application/octet-stream]...\n",
      "Copying gs://workamlproject/MEF2C_v2/bwa/mergedLibrary/deepTools/plotProfile/MV411_MEF2D_NT_SC_63_VHL-MYC_R1.computeMatrix.vals.mat.tab [Content-Type=application/octet-stream]...\n",
      "Copying gs://workamlproject/MEF2C_v2/bwa/mergedLibrary/deepTools/plotProfile/MV411_MEF2D_NT_SC_63_VHL-MYC_R1.plotHeatmap.mat.tab [Content-Type=application/octet-stream]...\n",
      "Copying gs://workamlproject/MEF2C_v2/bwa/mergedLibrary/deepTools/plotProfile/MV411_MEF2D_NT_SC_63_VHL-MYC_R1.plotHeatmap.pdf [Content-Type=application/octet-stream]...\n",
      "Copying gs://workamlproject/MEF2C_v2/bwa/mergedLibrary/deepTools/plotProfile/MV411_MEF2D_NT_SC_63_VHL-MYC_R1.plotProfile.pdf [Content-Type=application/octet-stream]...\n",
      "Copying gs://workamlproject/MEF2C_v2/bwa/mergedLibrary/deepTools/plotProfile/MV411_MEF2D_NT_SC_63_VHL-MYC_R1.plotProfile.tab [Content-Type=application/octet-stream]...\n",
      "Copying gs://workamlproject/MEF2C_v2/bwa/mergedLibrary/deepTools/plotProfile/MV411_MEF2D_NT_SC_63_VHL-POLII_total_R1.computeMatrix.mat.gz [Content-Type=application/octet-stream]...\n",
      "Copying gs://workamlproject/MEF2C_v2/bwa/mergedLibrary/deepTools/plotProfile/MV411_MEF2D_NT_SC_63_VHL-POLII_total_R1.computeMatrix.vals.mat.tab [Content-Type=application/octet-stream]...\n",
      "Copying gs://workamlproject/MEF2C_v2/bwa/mergedLibrary/deepTools/plotProfile/MV411_MEF2D_NT_SC_63_VHL-POLII_total_R1.plotHeatmap.mat.tab [Content-Type=application/octet-stream]...\n",
      "Copying gs://workamlproject/MEF2C_v2/bwa/mergedLibrary/deepTools/plotProfile/MV411_MEF2D_NT_SC_63_VHL-POLII_total_R1.plotHeatmap.pdf [Content-Type=application/octet-stream]...\n",
      "Copying gs://workamlproject/MEF2C_v2/bwa/mergedLibrary/deepTools/plotProfile/MV411_MEF2D_NT_SC_63_VHL-POLII_total_R1.plotProfile.pdf [Content-Type=application/octet-stream]...\n",
      "Copying gs://workamlproject/MEF2C_v2/bwa/mergedLibrary/macs/broadPeak/MV411_MEF2D_NT_SC_63_DMSO-FLAG_MEF2D_R1_peaks.annotatePeaks.txt [Content-Type=application/octet-stream]...\n",
      "Copying gs://workamlproject/MEF2C_v2/bwa/mergedLibrary/deepTools/plotProfile/MV411_MEF2D_NT_SC_63_VHL-POLII_total_R1.plotProfile.tab [Content-Type=application/octet-stream]...\n",
      "Copying gs://workamlproject/MEF2C_v2/bwa/mergedLibrary/macs/broadPeak/MV411_MEF2D_NT_SC_63_DMSO-FLAG_MEF2D_R1_peaks.broadPeak [Content-Type=application/octet-stream]...\n",
      "Copying gs://workamlproject/MEF2C_v2/bwa/mergedLibrary/macs/broadPeak/MV411_MEF2D_NT_SC_63_DMSO-FLAG_MEF2D_R1_peaks.gappedPeak [Content-Type=application/octet-stream]...\n"
     ]
    },
    {
     "name": "stdout",
     "output_type": "stream",
     "text": [
      "Copying gs://workamlproject/MEF2C_v2/bwa/mergedLibrary/macs/broadPeak/MV411_MEF2D_NT_SC_63_DMSO-FLAG_MEF2D_R1_peaks.xls [Content-Type=application/octet-stream]...\n",
      "Copying gs://workamlproject/MEF2C_v2/bwa/mergedLibrary/macs/broadPeak/MV411_MEF2D_NT_SC_63_DMSO-MED1_R1_peaks.annotatePeaks.txt [Content-Type=application/octet-stream]...\n",
      "Copying gs://workamlproject/MEF2C_v2/bwa/mergedLibrary/macs/broadPeak/MV411_MEF2D_NT_SC_63_DMSO-MED1_R1_peaks.broadPeak [Content-Type=application/octet-stream]...\n",
      "Copying gs://workamlproject/MEF2C_v2/bwa/mergedLibrary/macs/broadPeak/MV411_MEF2D_NT_SC_63_DMSO-MED1_R1_peaks.gappedPeak [Content-Type=application/octet-stream]...\n",
      "Copying gs://workamlproject/MEF2C_v2/bwa/mergedLibrary/macs/broadPeak/MV411_MEF2D_NT_SC_63_DMSO-MED1_R1_peaks.xls [Content-Type=application/octet-stream]...\n",
      "Copying gs://workamlproject/MEF2C_v2/bwa/mergedLibrary/macs/broadPeak/MV411_MEF2D_NT_SC_63_DMSO-MEF2C_R1_peaks.annotatePeaks.txt [Content-Type=application/octet-stream]...\n",
      "Copying gs://workamlproject/MEF2C_v2/bwa/mergedLibrary/macs/broadPeak/MV411_MEF2D_NT_SC_63_DMSO-MEF2C_R1_peaks.broadPeak [Content-Type=application/octet-stream]...\n",
      "Copying gs://workamlproject/MEF2C_v2/bwa/mergedLibrary/macs/broadPeak/MV411_MEF2D_NT_SC_63_DMSO-MEF2C_R1_peaks.gappedPeak [Content-Type=application/octet-stream]...\n",
      "Copying gs://workamlproject/MEF2C_v2/bwa/mergedLibrary/macs/broadPeak/MV411_MEF2D_NT_SC_63_DMSO-MEF2C_R1_peaks.xls [Content-Type=application/octet-stream]...\n",
      "Copying gs://workamlproject/MEF2C_v2/bwa/mergedLibrary/macs/broadPeak/MV411_MEF2D_NT_SC_63_DMSO-MYC_R1_peaks.annotatePeaks.txt [Content-Type=application/octet-stream]...\n",
      "Copying gs://workamlproject/MEF2C_v2/bwa/mergedLibrary/macs/broadPeak/MV411_MEF2D_NT_SC_63_DMSO-MYC_R1_peaks.broadPeak [Content-Type=application/octet-stream]...\n",
      "Copying gs://workamlproject/MEF2C_v2/bwa/mergedLibrary/macs/broadPeak/MV411_MEF2D_NT_SC_63_DMSO-MYC_R1_peaks.gappedPeak [Content-Type=application/octet-stream]...\n",
      "Copying gs://workamlproject/MEF2C_v2/bwa/mergedLibrary/macs/broadPeak/MV411_MEF2D_NT_SC_63_DMSO-MYC_R1_peaks.xls [Content-Type=application/octet-stream]...\n",
      "Copying gs://workamlproject/MEF2C_v2/bwa/mergedLibrary/macs/broadPeak/MV411_MEF2D_NT_SC_63_DMSO-POLII_total_R1_peaks.annotatePeaks.txt [Content-Type=application/octet-stream]...\n",
      "Copying gs://workamlproject/MEF2C_v2/bwa/mergedLibrary/macs/broadPeak/MV411_MEF2D_NT_SC_63_DMSO-POLII_total_R1_peaks.broadPeak [Content-Type=application/octet-stream]...\n",
      "Copying gs://workamlproject/MEF2C_v2/bwa/mergedLibrary/macs/broadPeak/MV411_MEF2D_NT_SC_63_DMSO-POLII_total_R1_peaks.gappedPeak [Content-Type=application/octet-stream]...\n",
      "Copying gs://workamlproject/MEF2C_v2/bwa/mergedLibrary/macs/broadPeak/MV411_MEF2D_NT_SC_63_DMSO-POLII_total_R1_peaks.xls [Content-Type=application/octet-stream]...\n",
      "Copying gs://workamlproject/MEF2C_v2/bwa/mergedLibrary/macs/broadPeak/MV411_MEF2D_NT_SC_63_VHL-FLAG_MEF2D_R1_peaks.annotatePeaks.txt [Content-Type=application/octet-stream]...\n",
      "Copying gs://workamlproject/MEF2C_v2/bwa/mergedLibrary/macs/broadPeak/MV411_MEF2D_NT_SC_63_VHL-FLAG_MEF2D_R1_peaks.broadPeak [Content-Type=application/octet-stream]...\n",
      "Copying gs://workamlproject/MEF2C_v2/bwa/mergedLibrary/macs/broadPeak/MV411_MEF2D_NT_SC_63_VHL-FLAG_MEF2D_R1_peaks.gappedPeak [Content-Type=application/octet-stream]...\n",
      "Copying gs://workamlproject/MEF2C_v2/bwa/mergedLibrary/macs/broadPeak/MV411_MEF2D_NT_SC_63_VHL-FLAG_MEF2D_R1_peaks.xls [Content-Type=application/octet-stream]...\n",
      "Copying gs://workamlproject/MEF2C_v2/bwa/mergedLibrary/macs/broadPeak/MV411_MEF2D_NT_SC_63_VHL-MED1_R1_peaks.broadPeak [Content-Type=application/octet-stream]...\n",
      "Copying gs://workamlproject/MEF2C_v2/bwa/mergedLibrary/macs/broadPeak/MV411_MEF2D_NT_SC_63_VHL-MED1_R1_peaks.annotatePeaks.txt [Content-Type=application/octet-stream]...\n",
      "Copying gs://workamlproject/MEF2C_v2/bwa/mergedLibrary/macs/broadPeak/MV411_MEF2D_NT_SC_63_VHL-MED1_R1_peaks.gappedPeak [Content-Type=application/octet-stream]...\n",
      "Copying gs://workamlproject/MEF2C_v2/bwa/mergedLibrary/macs/broadPeak/MV411_MEF2D_NT_SC_63_VHL-MED1_R1_peaks.xls [Content-Type=application/octet-stream]...\n",
      "Copying gs://workamlproject/MEF2C_v2/bwa/mergedLibrary/macs/broadPeak/MV411_MEF2D_NT_SC_63_VHL-MEF2C_R1_peaks.annotatePeaks.txt [Content-Type=application/octet-stream]...\n",
      "Copying gs://workamlproject/MEF2C_v2/bwa/mergedLibrary/macs/broadPeak/MV411_MEF2D_NT_SC_63_VHL-MEF2C_R1_peaks.broadPeak [Content-Type=application/octet-stream]...\n",
      "Copying gs://workamlproject/MEF2C_v2/bwa/mergedLibrary/macs/broadPeak/MV411_MEF2D_NT_SC_63_VHL-MEF2C_R1_peaks.gappedPeak [Content-Type=application/octet-stream]...\n",
      "Copying gs://workamlproject/MEF2C_v2/bwa/mergedLibrary/macs/broadPeak/MV411_MEF2D_NT_SC_63_VHL-MEF2C_R1_peaks.xls [Content-Type=application/octet-stream]...\n",
      "Copying gs://workamlproject/MEF2C_v2/bwa/mergedLibrary/macs/broadPeak/MV411_MEF2D_NT_SC_63_VHL-MYC_R1_peaks.annotatePeaks.txt [Content-Type=application/octet-stream]...\n",
      "Copying gs://workamlproject/MEF2C_v2/bwa/mergedLibrary/macs/broadPeak/MV411_MEF2D_NT_SC_63_VHL-MYC_R1_peaks.broadPeak [Content-Type=application/octet-stream]...\n",
      "Copying gs://workamlproject/MEF2C_v2/bwa/mergedLibrary/macs/broadPeak/MV411_MEF2D_NT_SC_63_VHL-MYC_R1_peaks.gappedPeak [Content-Type=application/octet-stream]...\n",
      "Copying gs://workamlproject/MEF2C_v2/bwa/mergedLibrary/macs/broadPeak/MV411_MEF2D_NT_SC_63_VHL-MYC_R1_peaks.xls [Content-Type=application/octet-stream]...\n",
      "Copying gs://workamlproject/MEF2C_v2/bwa/mergedLibrary/macs/broadPeak/MV411_MEF2D_NT_SC_63_VHL-POLII_total_R1_peaks.annotatePeaks.txt [Content-Type=application/octet-stream]...\n",
      "Copying gs://workamlproject/MEF2C_v2/bwa/mergedLibrary/macs/broadPeak/MV411_MEF2D_NT_SC_63_VHL-POLII_total_R1_peaks.broadPeak [Content-Type=application/octet-stream]...\n",
      "Copying gs://workamlproject/MEF2C_v2/bwa/mergedLibrary/macs/broadPeak/MV411_MEF2D_NT_SC_63_VHL-POLII_total_R1_peaks.gappedPeak [Content-Type=application/octet-stream]...\n",
      "Copying gs://workamlproject/MEF2C_v2/bwa/mergedLibrary/macs/broadPeak/MV411_MEF2D_NT_SC_63_VHL-POLII_total_R1_peaks.xls [Content-Type=application/octet-stream]...\n",
      "Copying gs://workamlproject/MEF2C_v2/bwa/mergedLibrary/macs/broadPeak/consensus/FLAG_MEF2D/FLAG_MEF2D.consensus_peaks.annotatePeaks.txt [Content-Type=application/octet-stream]...\n",
      "Copying gs://workamlproject/MEF2C_v2/bwa/mergedLibrary/macs/broadPeak/consensus/FLAG_MEF2D/FLAG_MEF2D.consensus_peaks.bed [Content-Type=application/octet-stream]...\n",
      "Copying gs://workamlproject/MEF2C_v2/bwa/mergedLibrary/macs/broadPeak/consensus/FLAG_MEF2D/FLAG_MEF2D.consensus_peaks.boolean.annotatePeaks.txt [Content-Type=application/octet-stream]...\n",
      "Copying gs://workamlproject/MEF2C_v2/bwa/mergedLibrary/macs/broadPeak/consensus/FLAG_MEF2D/FLAG_MEF2D.consensus_peaks.boolean.intersect.plot.pdf [Content-Type=application/octet-stream]...\n",
      "Copying gs://workamlproject/MEF2C_v2/bwa/mergedLibrary/macs/broadPeak/consensus/FLAG_MEF2D/FLAG_MEF2D.consensus_peaks.boolean.intersect.txt [Content-Type=application/octet-stream]...\n",
      "Copying gs://workamlproject/MEF2C_v2/bwa/mergedLibrary/macs/broadPeak/consensus/FLAG_MEF2D/FLAG_MEF2D.consensus_peaks.boolean.txt [Content-Type=application/octet-stream]...\n",
      "Copying gs://workamlproject/MEF2C_v2/bwa/mergedLibrary/macs/broadPeak/consensus/FLAG_MEF2D/FLAG_MEF2D.consensus_peaks.featureCounts.txt [Content-Type=application/octet-stream]...\n",
      "Copying gs://workamlproject/MEF2C_v2/bwa/mergedLibrary/macs/broadPeak/consensus/FLAG_MEF2D/FLAG_MEF2D.consensus_peaks.featureCounts.txt.summary [Content-Type=application/octet-stream]...\n",
      "Copying gs://workamlproject/MEF2C_v2/bwa/mergedLibrary/macs/broadPeak/consensus/FLAG_MEF2D/FLAG_MEF2D.consensus_peaks.saf [Content-Type=application/octet-stream]...\n",
      "Copying gs://workamlproject/MEF2C_v2/bwa/mergedLibrary/macs/broadPeak/consensus/MED1/MED1.consensus_peaks.annotatePeaks.txt [Content-Type=application/octet-stream]...\n",
      "Copying gs://workamlproject/MEF2C_v2/bwa/mergedLibrary/macs/broadPeak/consensus/MED1/MED1.consensus_peaks.bed [Content-Type=application/octet-stream]...\n",
      "Copying gs://workamlproject/MEF2C_v2/bwa/mergedLibrary/macs/broadPeak/consensus/MED1/MED1.consensus_peaks.boolean.annotatePeaks.txt [Content-Type=application/octet-stream]...\n"
     ]
    },
    {
     "name": "stdout",
     "output_type": "stream",
     "text": [
      "Copying gs://workamlproject/MEF2C_v2/bwa/mergedLibrary/macs/broadPeak/consensus/MED1/MED1.consensus_peaks.boolean.intersect.txt [Content-Type=application/octet-stream]...\n",
      "Copying gs://workamlproject/MEF2C_v2/bwa/mergedLibrary/macs/broadPeak/consensus/MED1/MED1.consensus_peaks.boolean.intersect.plot.pdf [Content-Type=application/octet-stream]...\n",
      "Copying gs://workamlproject/MEF2C_v2/bwa/mergedLibrary/macs/broadPeak/consensus/MED1/MED1.consensus_peaks.boolean.txt [Content-Type=application/octet-stream]...\n",
      "Copying gs://workamlproject/MEF2C_v2/bwa/mergedLibrary/macs/broadPeak/consensus/MED1/MED1.consensus_peaks.featureCounts.txt [Content-Type=application/octet-stream]...\n",
      "Copying gs://workamlproject/MEF2C_v2/bwa/mergedLibrary/macs/broadPeak/consensus/MED1/MED1.consensus_peaks.featureCounts.txt.summary [Content-Type=application/octet-stream]...\n",
      "Copying gs://workamlproject/MEF2C_v2/bwa/mergedLibrary/macs/broadPeak/consensus/MED1/MED1.consensus_peaks.saf [Content-Type=application/octet-stream]...\n",
      "Copying gs://workamlproject/MEF2C_v2/bwa/mergedLibrary/macs/broadPeak/consensus/MEF2C/MEF2C.consensus_peaks.annotatePeaks.txt [Content-Type=application/octet-stream]...\n",
      "Copying gs://workamlproject/MEF2C_v2/bwa/mergedLibrary/macs/broadPeak/consensus/MEF2C/MEF2C.consensus_peaks.bed [Content-Type=application/octet-stream]...\n",
      "Copying gs://workamlproject/MEF2C_v2/bwa/mergedLibrary/macs/broadPeak/consensus/MEF2C/MEF2C.consensus_peaks.boolean.annotatePeaks.txt [Content-Type=application/octet-stream]...\n",
      "Copying gs://workamlproject/MEF2C_v2/bwa/mergedLibrary/macs/broadPeak/consensus/MEF2C/MEF2C.consensus_peaks.boolean.intersect.plot.pdf [Content-Type=application/octet-stream]...\n",
      "Copying gs://workamlproject/MEF2C_v2/bwa/mergedLibrary/macs/broadPeak/consensus/MEF2C/MEF2C.consensus_peaks.boolean.intersect.txt [Content-Type=application/octet-stream]...\n",
      "Copying gs://workamlproject/MEF2C_v2/bwa/mergedLibrary/macs/broadPeak/consensus/MEF2C/MEF2C.consensus_peaks.boolean.txt [Content-Type=application/octet-stream]...\n",
      "Copying gs://workamlproject/MEF2C_v2/bwa/mergedLibrary/macs/broadPeak/consensus/MEF2C/MEF2C.consensus_peaks.saf [Content-Type=application/octet-stream]...\n",
      "Copying gs://workamlproject/MEF2C_v2/bwa/mergedLibrary/macs/broadPeak/consensus/MYC/MYC.consensus_peaks.bed [Content-Type=application/octet-stream]...\n",
      "Copying gs://workamlproject/MEF2C_v2/bwa/mergedLibrary/macs/broadPeak/consensus/MYC/MYC.consensus_peaks.annotatePeaks.txt [Content-Type=application/octet-stream]...\n",
      "Copying gs://workamlproject/MEF2C_v2/bwa/mergedLibrary/macs/broadPeak/consensus/MYC/MYC.consensus_peaks.boolean.annotatePeaks.txt [Content-Type=application/octet-stream]...\n",
      "Copying gs://workamlproject/MEF2C_v2/bwa/mergedLibrary/macs/broadPeak/consensus/MEF2C/MEF2C.consensus_peaks.featureCounts.txt [Content-Type=application/octet-stream]...\n",
      "Copying gs://workamlproject/MEF2C_v2/bwa/mergedLibrary/macs/broadPeak/consensus/MEF2C/MEF2C.consensus_peaks.featureCounts.txt.summary [Content-Type=application/octet-stream]...\n",
      "Copying gs://workamlproject/MEF2C_v2/bwa/mergedLibrary/macs/broadPeak/consensus/MYC/MYC.consensus_peaks.boolean.intersect.plot.pdf [Content-Type=application/octet-stream]...\n",
      "Copying gs://workamlproject/MEF2C_v2/bwa/mergedLibrary/macs/broadPeak/consensus/MYC/MYC.consensus_peaks.boolean.intersect.txt [Content-Type=application/octet-stream]...\n",
      "Copying gs://workamlproject/MEF2C_v2/bwa/mergedLibrary/macs/broadPeak/consensus/MYC/MYC.consensus_peaks.boolean.txt [Content-Type=application/octet-stream]...\n",
      "Copying gs://workamlproject/MEF2C_v2/bwa/mergedLibrary/macs/broadPeak/consensus/MYC/MYC.consensus_peaks.featureCounts.txt [Content-Type=application/octet-stream]...\n",
      "Copying gs://workamlproject/MEF2C_v2/bwa/mergedLibrary/macs/broadPeak/consensus/MYC/MYC.consensus_peaks.featureCounts.txt.summary [Content-Type=application/octet-stream]...\n",
      "Copying gs://workamlproject/MEF2C_v2/bwa/mergedLibrary/macs/broadPeak/consensus/MYC/MYC.consensus_peaks.saf [Content-Type=application/octet-stream]...\n",
      "Copying gs://workamlproject/MEF2C_v2/bwa/mergedLibrary/macs/broadPeak/consensus/POLII_total/POLII_total.consensus_peaks.annotatePeaks.txt [Content-Type=application/octet-stream]...\n",
      "Copying gs://workamlproject/MEF2C_v2/bwa/mergedLibrary/macs/broadPeak/consensus/POLII_total/POLII_total.consensus_peaks.bed [Content-Type=application/octet-stream]...\n",
      "Copying gs://workamlproject/MEF2C_v2/bwa/mergedLibrary/macs/broadPeak/consensus/POLII_total/POLII_total.consensus_peaks.boolean.intersect.plot.pdf [Content-Type=application/octet-stream]...\n",
      "Copying gs://workamlproject/MEF2C_v2/bwa/mergedLibrary/macs/broadPeak/consensus/POLII_total/POLII_total.consensus_peaks.boolean.annotatePeaks.txt [Content-Type=application/octet-stream]...\n",
      "Copying gs://workamlproject/MEF2C_v2/bwa/mergedLibrary/macs/broadPeak/consensus/POLII_total/POLII_total.consensus_peaks.boolean.intersect.txt [Content-Type=application/octet-stream]...\n",
      "Copying gs://workamlproject/MEF2C_v2/bwa/mergedLibrary/macs/broadPeak/consensus/POLII_total/POLII_total.consensus_peaks.boolean.txt [Content-Type=application/octet-stream]...\n",
      "Copying gs://workamlproject/MEF2C_v2/bwa/mergedLibrary/macs/broadPeak/consensus/POLII_total/POLII_total.consensus_peaks.featureCounts.txt [Content-Type=application/octet-stream]...\n",
      "Copying gs://workamlproject/MEF2C_v2/bwa/mergedLibrary/macs/broadPeak/consensus/POLII_total/POLII_total.consensus_peaks.featureCounts.txt.summary [Content-Type=application/octet-stream]...\n",
      "Copying gs://workamlproject/MEF2C_v2/bwa/mergedLibrary/macs/broadPeak/consensus/POLII_total/POLII_total.consensus_peaks.saf [Content-Type=application/octet-stream]...\n",
      "Copying gs://workamlproject/MEF2C_v2/bwa/mergedLibrary/macs/broadPeak/qc/MV411_MEF2D_NT_SC_63_DMSO-FLAG_MEF2D_R1_peaks.count_mqc.tsv [Content-Type=application/octet-stream]...\n",
      "Copying gs://workamlproject/MEF2C_v2/bwa/mergedLibrary/macs/broadPeak/qc/MV411_MEF2D_NT_SC_63_DMSO-MED1_R1_peaks.FRiP_mqc.tsv [Content-Type=application/octet-stream]...\n",
      "Copying gs://workamlproject/MEF2C_v2/bwa/mergedLibrary/macs/broadPeak/qc/MV411_MEF2D_NT_SC_63_DMSO-FLAG_MEF2D_R1_peaks.FRiP_mqc.tsv [Content-Type=application/octet-stream]...\n",
      "Copying gs://workamlproject/MEF2C_v2/bwa/mergedLibrary/macs/broadPeak/qc/MV411_MEF2D_NT_SC_63_DMSO-MED1_R1_peaks.count_mqc.tsv [Content-Type=application/octet-stream]...\n",
      "Copying gs://workamlproject/MEF2C_v2/bwa/mergedLibrary/macs/broadPeak/qc/MV411_MEF2D_NT_SC_63_DMSO-MEF2C_R1_peaks.FRiP_mqc.tsv [Content-Type=application/octet-stream]...\n",
      "Copying gs://workamlproject/MEF2C_v2/bwa/mergedLibrary/macs/broadPeak/qc/MV411_MEF2D_NT_SC_63_DMSO-MEF2C_R1_peaks.count_mqc.tsv [Content-Type=application/octet-stream]...\n",
      "Copying gs://workamlproject/MEF2C_v2/bwa/mergedLibrary/macs/broadPeak/qc/MV411_MEF2D_NT_SC_63_DMSO-MYC_R1_peaks.FRiP_mqc.tsv [Content-Type=application/octet-stream]...\n",
      "Copying gs://workamlproject/MEF2C_v2/bwa/mergedLibrary/macs/broadPeak/qc/MV411_MEF2D_NT_SC_63_DMSO-MYC_R1_peaks.count_mqc.tsv [Content-Type=application/octet-stream]...\n",
      "Copying gs://workamlproject/MEF2C_v2/bwa/mergedLibrary/macs/broadPeak/qc/MV411_MEF2D_NT_SC_63_DMSO-POLII_total_R1_peaks.FRiP_mqc.tsv [Content-Type=application/octet-stream]...\n",
      "Copying gs://workamlproject/MEF2C_v2/bwa/mergedLibrary/macs/broadPeak/qc/MV411_MEF2D_NT_SC_63_DMSO-POLII_total_R1_peaks.count_mqc.tsv [Content-Type=application/octet-stream]...\n",
      "Copying gs://workamlproject/MEF2C_v2/bwa/mergedLibrary/macs/broadPeak/qc/MV411_MEF2D_NT_SC_63_VHL-FLAG_MEF2D_R1_peaks.FRiP_mqc.tsv [Content-Type=application/octet-stream]...\n",
      "Copying gs://workamlproject/MEF2C_v2/bwa/mergedLibrary/macs/broadPeak/qc/MV411_MEF2D_NT_SC_63_VHL-FLAG_MEF2D_R1_peaks.count_mqc.tsv [Content-Type=application/octet-stream]...\n",
      "Copying gs://workamlproject/MEF2C_v2/bwa/mergedLibrary/macs/broadPeak/qc/MV411_MEF2D_NT_SC_63_VHL-MED1_R1_peaks.FRiP_mqc.tsv [Content-Type=application/octet-stream]...\n",
      "Copying gs://workamlproject/MEF2C_v2/bwa/mergedLibrary/macs/broadPeak/qc/MV411_MEF2D_NT_SC_63_VHL-MED1_R1_peaks.count_mqc.tsv [Content-Type=application/octet-stream]...\n",
      "Copying gs://workamlproject/MEF2C_v2/bwa/mergedLibrary/macs/broadPeak/qc/MV411_MEF2D_NT_SC_63_VHL-MEF2C_R1_peaks.FRiP_mqc.tsv [Content-Type=application/octet-stream]...\n",
      "Copying gs://workamlproject/MEF2C_v2/bwa/mergedLibrary/macs/broadPeak/qc/MV411_MEF2D_NT_SC_63_VHL-MEF2C_R1_peaks.count_mqc.tsv [Content-Type=application/octet-stream]...\n",
      "Copying gs://workamlproject/MEF2C_v2/bwa/mergedLibrary/macs/broadPeak/qc/MV411_MEF2D_NT_SC_63_VHL-MYC_R1_peaks.count_mqc.tsv [Content-Type=application/octet-stream]...\n",
      "Copying gs://workamlproject/MEF2C_v2/bwa/mergedLibrary/macs/broadPeak/qc/MV411_MEF2D_NT_SC_63_VHL-MYC_R1_peaks.FRiP_mqc.tsv [Content-Type=application/octet-stream]...\n",
      "Copying gs://workamlproject/MEF2C_v2/bwa/mergedLibrary/macs/broadPeak/qc/MV411_MEF2D_NT_SC_63_VHL-POLII_total_R1_peaks.FRiP_mqc.tsv [Content-Type=application/octet-stream]...\n",
      "Copying gs://workamlproject/MEF2C_v2/bwa/mergedLibrary/macs/broadPeak/qc/MV411_MEF2D_NT_SC_63_VHL-POLII_total_R1_peaks.count_mqc.tsv [Content-Type=application/octet-stream]...\n",
      "Copying gs://workamlproject/MEF2C_v2/bwa/mergedLibrary/macs/broadPeak/qc/macs_annotatePeaks.plots.pdf [Content-Type=application/octet-stream]...\n"
     ]
    },
    {
     "name": "stdout",
     "output_type": "stream",
     "text": [
      "Copying gs://workamlproject/MEF2C_v2/bwa/mergedLibrary/macs/broadPeak/qc/macs_annotatePeaks.summary_mqc.tsv [Content-Type=application/octet-stream]...\n",
      "Copying gs://workamlproject/MEF2C_v2/bwa/mergedLibrary/macs/broadPeak/qc/macs_annotatePeaks.summary.txt [Content-Type=application/octet-stream]...\n",
      "Copying gs://workamlproject/MEF2C_v2/bwa/mergedLibrary/macs/broadPeak/qc/macs_peak.plots.pdf [Content-Type=application/octet-stream]...\n",
      "Copying gs://workamlproject/MEF2C_v2/bwa/mergedLibrary/macs/broadPeak/qc/macs_peak.summary.txt [Content-Type=application/octet-stream]...\n",
      "Copying gs://workamlproject/MEF2C_v2/bwa/mergedLibrary/phantompeakqualtools/INPUT_R1.spp.out [Content-Type=application/octet-stream]...\n",
      "Copying gs://workamlproject/MEF2C_v2/bwa/mergedLibrary/phantompeakqualtools/INPUT_R1.spp.pdf [Content-Type=application/octet-stream]...\n",
      "Copying gs://workamlproject/MEF2C_v2/bwa/mergedLibrary/phantompeakqualtools/INPUT_R1_spp_correlation_mqc.tsv [Content-Type=application/octet-stream]...\n",
      "Copying gs://workamlproject/MEF2C_v2/bwa/mergedLibrary/phantompeakqualtools/INPUT_R1_spp_nsc_mqc.tsv [Content-Type=application/octet-stream]...\n",
      "Copying gs://workamlproject/MEF2C_v2/bwa/mergedLibrary/phantompeakqualtools/INPUT_R1_spp_rsc_mqc.tsv [Content-Type=application/octet-stream]...\n",
      "Copying gs://workamlproject/MEF2C_v2/bwa/mergedLibrary/phantompeakqualtools/MV411_MEF2D_NT_SC_63_DMSO-FLAG_MEF2D_R1.spp.out [Content-Type=application/octet-stream]...\n",
      "Copying gs://workamlproject/MEF2C_v2/bwa/mergedLibrary/phantompeakqualtools/MV411_MEF2D_NT_SC_63_DMSO-FLAG_MEF2D_R1.spp.pdf [Content-Type=application/octet-stream]...\n",
      "Copying gs://workamlproject/MEF2C_v2/bwa/mergedLibrary/phantompeakqualtools/MV411_MEF2D_NT_SC_63_DMSO-FLAG_MEF2D_R1_spp_nsc_mqc.tsv [Content-Type=application/octet-stream]...\n",
      "Copying gs://workamlproject/MEF2C_v2/bwa/mergedLibrary/phantompeakqualtools/MV411_MEF2D_NT_SC_63_DMSO-FLAG_MEF2D_R1_spp_correlation_mqc.tsv [Content-Type=application/octet-stream]...\n",
      "Copying gs://workamlproject/MEF2C_v2/bwa/mergedLibrary/phantompeakqualtools/MV411_MEF2D_NT_SC_63_DMSO-FLAG_MEF2D_R1_spp_rsc_mqc.tsv [Content-Type=application/octet-stream]...\n",
      "Copying gs://workamlproject/MEF2C_v2/bwa/mergedLibrary/phantompeakqualtools/MV411_MEF2D_NT_SC_63_DMSO-MED1_R1.spp.out [Content-Type=application/octet-stream]...\n",
      "Copying gs://workamlproject/MEF2C_v2/bwa/mergedLibrary/phantompeakqualtools/MV411_MEF2D_NT_SC_63_DMSO-MED1_R1.spp.pdf [Content-Type=application/octet-stream]...\n",
      "Copying gs://workamlproject/MEF2C_v2/bwa/mergedLibrary/phantompeakqualtools/MV411_MEF2D_NT_SC_63_DMSO-MED1_R1_spp_correlation_mqc.tsv [Content-Type=application/octet-stream]...\n",
      "Copying gs://workamlproject/MEF2C_v2/bwa/mergedLibrary/phantompeakqualtools/MV411_MEF2D_NT_SC_63_DMSO-MED1_R1_spp_nsc_mqc.tsv [Content-Type=application/octet-stream]...\n",
      "Copying gs://workamlproject/MEF2C_v2/bwa/mergedLibrary/phantompeakqualtools/MV411_MEF2D_NT_SC_63_DMSO-MED1_R1_spp_rsc_mqc.tsv [Content-Type=application/octet-stream]...\n",
      "Copying gs://workamlproject/MEF2C_v2/bwa/mergedLibrary/phantompeakqualtools/MV411_MEF2D_NT_SC_63_DMSO-MEF2C_R1.spp.out [Content-Type=application/octet-stream]...\n",
      "Copying gs://workamlproject/MEF2C_v2/bwa/mergedLibrary/phantompeakqualtools/MV411_MEF2D_NT_SC_63_DMSO-MEF2C_R1.spp.pdf [Content-Type=application/octet-stream]...\n",
      "Copying gs://workamlproject/MEF2C_v2/bwa/mergedLibrary/phantompeakqualtools/MV411_MEF2D_NT_SC_63_DMSO-MEF2C_R1_spp_correlation_mqc.tsv [Content-Type=application/octet-stream]...\n",
      "Copying gs://workamlproject/MEF2C_v2/bwa/mergedLibrary/phantompeakqualtools/MV411_MEF2D_NT_SC_63_DMSO-MEF2C_R1_spp_nsc_mqc.tsv [Content-Type=application/octet-stream]...\n",
      "Copying gs://workamlproject/MEF2C_v2/bwa/mergedLibrary/phantompeakqualtools/MV411_MEF2D_NT_SC_63_DMSO-MEF2C_R1_spp_rsc_mqc.tsv [Content-Type=application/octet-stream]...\n",
      "Copying gs://workamlproject/MEF2C_v2/bwa/mergedLibrary/phantompeakqualtools/MV411_MEF2D_NT_SC_63_DMSO-MYC_R1.spp.out [Content-Type=application/octet-stream]...\n",
      "Copying gs://workamlproject/MEF2C_v2/bwa/mergedLibrary/phantompeakqualtools/MV411_MEF2D_NT_SC_63_DMSO-MYC_R1.spp.pdf [Content-Type=application/octet-stream]...\n",
      "Copying gs://workamlproject/MEF2C_v2/bwa/mergedLibrary/phantompeakqualtools/MV411_MEF2D_NT_SC_63_DMSO-MYC_R1_spp_correlation_mqc.tsv [Content-Type=application/octet-stream]...\n",
      "Copying gs://workamlproject/MEF2C_v2/bwa/mergedLibrary/phantompeakqualtools/MV411_MEF2D_NT_SC_63_DMSO-MYC_R1_spp_nsc_mqc.tsv [Content-Type=application/octet-stream]...\n",
      "Copying gs://workamlproject/MEF2C_v2/bwa/mergedLibrary/phantompeakqualtools/MV411_MEF2D_NT_SC_63_DMSO-MYC_R1_spp_rsc_mqc.tsv [Content-Type=application/octet-stream]...\n",
      "Copying gs://workamlproject/MEF2C_v2/bwa/mergedLibrary/phantompeakqualtools/MV411_MEF2D_NT_SC_63_DMSO-POLII_total_R1.spp.out [Content-Type=application/octet-stream]...\n",
      "Copying gs://workamlproject/MEF2C_v2/bwa/mergedLibrary/phantompeakqualtools/MV411_MEF2D_NT_SC_63_DMSO-POLII_total_R1.spp.pdf [Content-Type=application/octet-stream]...\n",
      "Copying gs://workamlproject/MEF2C_v2/bwa/mergedLibrary/phantompeakqualtools/MV411_MEF2D_NT_SC_63_DMSO-POLII_total_R1_spp_nsc_mqc.tsv [Content-Type=application/octet-stream]...\n",
      "Copying gs://workamlproject/MEF2C_v2/bwa/mergedLibrary/phantompeakqualtools/MV411_MEF2D_NT_SC_63_DMSO-POLII_total_R1_spp_correlation_mqc.tsv [Content-Type=application/octet-stream]...\n",
      "Copying gs://workamlproject/MEF2C_v2/bwa/mergedLibrary/phantompeakqualtools/MV411_MEF2D_NT_SC_63_DMSO-POLII_total_R1_spp_rsc_mqc.tsv [Content-Type=application/octet-stream]...\n",
      "Copying gs://workamlproject/MEF2C_v2/bwa/mergedLibrary/phantompeakqualtools/MV411_MEF2D_NT_SC_63_VHL-FLAG_MEF2D_R1.spp.pdf [Content-Type=application/octet-stream]...\n",
      "Copying gs://workamlproject/MEF2C_v2/bwa/mergedLibrary/phantompeakqualtools/MV411_MEF2D_NT_SC_63_VHL-FLAG_MEF2D_R1.spp.out [Content-Type=application/octet-stream]...\n",
      "Copying gs://workamlproject/MEF2C_v2/bwa/mergedLibrary/phantompeakqualtools/MV411_MEF2D_NT_SC_63_VHL-FLAG_MEF2D_R1_spp_correlation_mqc.tsv [Content-Type=application/octet-stream]...\n",
      "Copying gs://workamlproject/MEF2C_v2/bwa/mergedLibrary/phantompeakqualtools/MV411_MEF2D_NT_SC_63_VHL-FLAG_MEF2D_R1_spp_nsc_mqc.tsv [Content-Type=application/octet-stream]...\n",
      "Copying gs://workamlproject/MEF2C_v2/bwa/mergedLibrary/phantompeakqualtools/MV411_MEF2D_NT_SC_63_VHL-FLAG_MEF2D_R1_spp_rsc_mqc.tsv [Content-Type=application/octet-stream]...\n",
      "Copying gs://workamlproject/MEF2C_v2/bwa/mergedLibrary/phantompeakqualtools/MV411_MEF2D_NT_SC_63_VHL-MED1_R1.spp.out [Content-Type=application/octet-stream]...\n",
      "Copying gs://workamlproject/MEF2C_v2/bwa/mergedLibrary/phantompeakqualtools/MV411_MEF2D_NT_SC_63_VHL-MED1_R1.spp.pdf [Content-Type=application/octet-stream]...\n",
      "Copying gs://workamlproject/MEF2C_v2/bwa/mergedLibrary/phantompeakqualtools/MV411_MEF2D_NT_SC_63_VHL-MED1_R1_spp_nsc_mqc.tsv [Content-Type=application/octet-stream]...\n",
      "Copying gs://workamlproject/MEF2C_v2/bwa/mergedLibrary/phantompeakqualtools/MV411_MEF2D_NT_SC_63_VHL-MED1_R1_spp_correlation_mqc.tsv [Content-Type=application/octet-stream]...\n",
      "Copying gs://workamlproject/MEF2C_v2/bwa/mergedLibrary/phantompeakqualtools/MV411_MEF2D_NT_SC_63_VHL-MED1_R1_spp_rsc_mqc.tsv [Content-Type=application/octet-stream]...\n",
      "Copying gs://workamlproject/MEF2C_v2/bwa/mergedLibrary/phantompeakqualtools/MV411_MEF2D_NT_SC_63_VHL-MEF2C_R1.spp.out [Content-Type=application/octet-stream]...\n",
      "Copying gs://workamlproject/MEF2C_v2/bwa/mergedLibrary/phantompeakqualtools/MV411_MEF2D_NT_SC_63_VHL-MEF2C_R1.spp.pdf [Content-Type=application/octet-stream]...\n",
      "Copying gs://workamlproject/MEF2C_v2/bwa/mergedLibrary/phantompeakqualtools/MV411_MEF2D_NT_SC_63_VHL-MEF2C_R1_spp_correlation_mqc.tsv [Content-Type=application/octet-stream]...\n",
      "Copying gs://workamlproject/MEF2C_v2/bwa/mergedLibrary/phantompeakqualtools/MV411_MEF2D_NT_SC_63_VHL-MEF2C_R1_spp_nsc_mqc.tsv [Content-Type=application/octet-stream]...\n",
      "Copying gs://workamlproject/MEF2C_v2/bwa/mergedLibrary/phantompeakqualtools/MV411_MEF2D_NT_SC_63_VHL-MEF2C_R1_spp_rsc_mqc.tsv [Content-Type=application/octet-stream]...\n",
      "Copying gs://workamlproject/MEF2C_v2/bwa/mergedLibrary/phantompeakqualtools/MV411_MEF2D_NT_SC_63_VHL-MYC_R1.spp.out [Content-Type=application/octet-stream]...\n"
     ]
    },
    {
     "name": "stdout",
     "output_type": "stream",
     "text": [
      "Copying gs://workamlproject/MEF2C_v2/bwa/mergedLibrary/phantompeakqualtools/MV411_MEF2D_NT_SC_63_VHL-MYC_R1.spp.pdf [Content-Type=application/octet-stream]...\n",
      "Copying gs://workamlproject/MEF2C_v2/bwa/mergedLibrary/phantompeakqualtools/MV411_MEF2D_NT_SC_63_VHL-MYC_R1_spp_correlation_mqc.tsv [Content-Type=application/octet-stream]...\n",
      "Copying gs://workamlproject/MEF2C_v2/bwa/mergedLibrary/phantompeakqualtools/MV411_MEF2D_NT_SC_63_VHL-MYC_R1_spp_nsc_mqc.tsv [Content-Type=application/octet-stream]...\n",
      "Copying gs://workamlproject/MEF2C_v2/bwa/mergedLibrary/phantompeakqualtools/MV411_MEF2D_NT_SC_63_VHL-POLII_total_R1.spp.out [Content-Type=application/octet-stream]...\n",
      "Copying gs://workamlproject/MEF2C_v2/bwa/mergedLibrary/phantompeakqualtools/MV411_MEF2D_NT_SC_63_VHL-MYC_R1_spp_rsc_mqc.tsv [Content-Type=application/octet-stream]...\n",
      "Copying gs://workamlproject/MEF2C_v2/bwa/mergedLibrary/phantompeakqualtools/MV411_MEF2D_NT_SC_63_VHL-POLII_total_R1.spp.pdf [Content-Type=application/octet-stream]...\n",
      "Copying gs://workamlproject/MEF2C_v2/bwa/mergedLibrary/phantompeakqualtools/MV411_MEF2D_NT_SC_63_VHL-POLII_total_R1_spp_correlation_mqc.tsv [Content-Type=application/octet-stream]...\n",
      "Copying gs://workamlproject/MEF2C_v2/bwa/mergedLibrary/phantompeakqualtools/MV411_MEF2D_NT_SC_63_VHL-POLII_total_R1_spp_nsc_mqc.tsv [Content-Type=application/octet-stream]...\n",
      "Copying gs://workamlproject/MEF2C_v2/bwa/mergedLibrary/phantompeakqualtools/MV411_MEF2D_NT_SC_63_VHL-POLII_total_R1_spp_rsc_mqc.tsv [Content-Type=application/octet-stream]...\n",
      "Copying gs://workamlproject/MEF2C_v2/bwa/mergedLibrary/picard_metrics/INPUT_R1.mLb.clN.CollectMultipleMetrics.alignment_summary_metrics [Content-Type=application/octet-stream]...\n",
      "Copying gs://workamlproject/MEF2C_v2/bwa/mergedLibrary/picard_metrics/INPUT_R1.mLb.clN.CollectMultipleMetrics.base_distribution_by_cycle_metrics [Content-Type=application/octet-stream]...\n",
      "Copying gs://workamlproject/MEF2C_v2/bwa/mergedLibrary/picard_metrics/INPUT_R1.mLb.clN.CollectMultipleMetrics.insert_size_metrics [Content-Type=application/octet-stream]...\n",
      "Copying gs://workamlproject/MEF2C_v2/bwa/mergedLibrary/picard_metrics/INPUT_R1.mLb.clN.CollectMultipleMetrics.quality_by_cycle_metrics [Content-Type=application/octet-stream]...\n",
      "Copying gs://workamlproject/MEF2C_v2/bwa/mergedLibrary/picard_metrics/INPUT_R1.mLb.clN.CollectMultipleMetrics.quality_distribution_metrics [Content-Type=application/octet-stream]...\n",
      "Copying gs://workamlproject/MEF2C_v2/bwa/mergedLibrary/picard_metrics/INPUT_R1.mLb.mkD.MarkDuplicates.metrics.txt [Content-Type=application/octet-stream]...\n",
      "Copying gs://workamlproject/MEF2C_v2/bwa/mergedLibrary/picard_metrics/MV411_MEF2D_NT_SC_63_DMSO-FLAG_MEF2D_R1.mLb.clN.CollectMultipleMetrics.alignment_summary_metrics [Content-Type=application/octet-stream]...\n",
      "Copying gs://workamlproject/MEF2C_v2/bwa/mergedLibrary/picard_metrics/MV411_MEF2D_NT_SC_63_DMSO-FLAG_MEF2D_R1.mLb.clN.CollectMultipleMetrics.base_distribution_by_cycle_metrics [Content-Type=application/octet-stream]...\n",
      "Copying gs://workamlproject/MEF2C_v2/bwa/mergedLibrary/picard_metrics/MV411_MEF2D_NT_SC_63_DMSO-FLAG_MEF2D_R1.mLb.clN.CollectMultipleMetrics.insert_size_metrics [Content-Type=application/octet-stream]...\n",
      "Copying gs://workamlproject/MEF2C_v2/bwa/mergedLibrary/picard_metrics/MV411_MEF2D_NT_SC_63_DMSO-FLAG_MEF2D_R1.mLb.clN.CollectMultipleMetrics.quality_by_cycle_metrics [Content-Type=application/octet-stream]...\n",
      "Copying gs://workamlproject/MEF2C_v2/bwa/mergedLibrary/picard_metrics/MV411_MEF2D_NT_SC_63_DMSO-FLAG_MEF2D_R1.mLb.clN.CollectMultipleMetrics.quality_distribution_metrics [Content-Type=application/octet-stream]...\n",
      "Copying gs://workamlproject/MEF2C_v2/bwa/mergedLibrary/picard_metrics/MV411_MEF2D_NT_SC_63_DMSO-FLAG_MEF2D_R1.mLb.mkD.MarkDuplicates.metrics.txt [Content-Type=application/octet-stream]...\n",
      "Copying gs://workamlproject/MEF2C_v2/bwa/mergedLibrary/picard_metrics/MV411_MEF2D_NT_SC_63_DMSO-MED1_R1.mLb.clN.CollectMultipleMetrics.alignment_summary_metrics [Content-Type=application/octet-stream]...\n",
      "Copying gs://workamlproject/MEF2C_v2/bwa/mergedLibrary/picard_metrics/MV411_MEF2D_NT_SC_63_DMSO-MED1_R1.mLb.clN.CollectMultipleMetrics.base_distribution_by_cycle_metrics [Content-Type=application/octet-stream]...\n",
      "Copying gs://workamlproject/MEF2C_v2/bwa/mergedLibrary/picard_metrics/MV411_MEF2D_NT_SC_63_DMSO-MED1_R1.mLb.clN.CollectMultipleMetrics.insert_size_metrics [Content-Type=application/octet-stream]...\n",
      "Copying gs://workamlproject/MEF2C_v2/bwa/mergedLibrary/picard_metrics/MV411_MEF2D_NT_SC_63_DMSO-MED1_R1.mLb.clN.CollectMultipleMetrics.quality_by_cycle_metrics [Content-Type=application/octet-stream]...\n",
      "Copying gs://workamlproject/MEF2C_v2/bwa/mergedLibrary/picard_metrics/MV411_MEF2D_NT_SC_63_DMSO-MED1_R1.mLb.clN.CollectMultipleMetrics.quality_distribution_metrics [Content-Type=application/octet-stream]...\n",
      "Copying gs://workamlproject/MEF2C_v2/bwa/mergedLibrary/picard_metrics/MV411_MEF2D_NT_SC_63_DMSO-MED1_R1.mLb.mkD.MarkDuplicates.metrics.txt [Content-Type=application/octet-stream]...\n",
      "Copying gs://workamlproject/MEF2C_v2/bwa/mergedLibrary/picard_metrics/MV411_MEF2D_NT_SC_63_DMSO-MEF2C_R1.mLb.clN.CollectMultipleMetrics.alignment_summary_metrics [Content-Type=application/octet-stream]...\n",
      "Copying gs://workamlproject/MEF2C_v2/bwa/mergedLibrary/picard_metrics/MV411_MEF2D_NT_SC_63_DMSO-MEF2C_R1.mLb.clN.CollectMultipleMetrics.base_distribution_by_cycle_metrics [Content-Type=application/octet-stream]...\n",
      "Copying gs://workamlproject/MEF2C_v2/bwa/mergedLibrary/picard_metrics/MV411_MEF2D_NT_SC_63_DMSO-MEF2C_R1.mLb.clN.CollectMultipleMetrics.insert_size_metrics [Content-Type=application/octet-stream]...\n",
      "Copying gs://workamlproject/MEF2C_v2/bwa/mergedLibrary/picard_metrics/MV411_MEF2D_NT_SC_63_DMSO-MEF2C_R1.mLb.clN.CollectMultipleMetrics.quality_by_cycle_metrics [Content-Type=application/octet-stream]...\n",
      "Copying gs://workamlproject/MEF2C_v2/bwa/mergedLibrary/picard_metrics/MV411_MEF2D_NT_SC_63_DMSO-MEF2C_R1.mLb.clN.CollectMultipleMetrics.quality_distribution_metrics [Content-Type=application/octet-stream]...\n",
      "Copying gs://workamlproject/MEF2C_v2/bwa/mergedLibrary/picard_metrics/MV411_MEF2D_NT_SC_63_DMSO-MEF2C_R1.mLb.mkD.MarkDuplicates.metrics.txt [Content-Type=application/octet-stream]...\n",
      "Copying gs://workamlproject/MEF2C_v2/bwa/mergedLibrary/picard_metrics/MV411_MEF2D_NT_SC_63_DMSO-MYC_R1.mLb.clN.CollectMultipleMetrics.alignment_summary_metrics [Content-Type=application/octet-stream]...\n",
      "Copying gs://workamlproject/MEF2C_v2/bwa/mergedLibrary/picard_metrics/MV411_MEF2D_NT_SC_63_DMSO-MYC_R1.mLb.clN.CollectMultipleMetrics.base_distribution_by_cycle_metrics [Content-Type=application/octet-stream]...\n",
      "Copying gs://workamlproject/MEF2C_v2/bwa/mergedLibrary/picard_metrics/MV411_MEF2D_NT_SC_63_DMSO-MYC_R1.mLb.clN.CollectMultipleMetrics.insert_size_metrics [Content-Type=application/octet-stream]...\n",
      "Copying gs://workamlproject/MEF2C_v2/bwa/mergedLibrary/picard_metrics/MV411_MEF2D_NT_SC_63_DMSO-MYC_R1.mLb.clN.CollectMultipleMetrics.quality_by_cycle_metrics [Content-Type=application/octet-stream]...\n",
      "Copying gs://workamlproject/MEF2C_v2/bwa/mergedLibrary/picard_metrics/MV411_MEF2D_NT_SC_63_DMSO-MYC_R1.mLb.clN.CollectMultipleMetrics.quality_distribution_metrics [Content-Type=application/octet-stream]...\n",
      "Copying gs://workamlproject/MEF2C_v2/bwa/mergedLibrary/picard_metrics/MV411_MEF2D_NT_SC_63_DMSO-MYC_R1.mLb.mkD.MarkDuplicates.metrics.txt [Content-Type=application/octet-stream]...\n",
      "Copying gs://workamlproject/MEF2C_v2/bwa/mergedLibrary/picard_metrics/MV411_MEF2D_NT_SC_63_DMSO-POLII_total_R1.mLb.clN.CollectMultipleMetrics.alignment_summary_metrics [Content-Type=application/octet-stream]...\n",
      "Copying gs://workamlproject/MEF2C_v2/bwa/mergedLibrary/picard_metrics/MV411_MEF2D_NT_SC_63_DMSO-POLII_total_R1.mLb.clN.CollectMultipleMetrics.base_distribution_by_cycle_metrics [Content-Type=application/octet-stream]...\n",
      "Copying gs://workamlproject/MEF2C_v2/bwa/mergedLibrary/picard_metrics/MV411_MEF2D_NT_SC_63_DMSO-POLII_total_R1.mLb.clN.CollectMultipleMetrics.quality_by_cycle_metrics [Content-Type=application/octet-stream]...\n",
      "Copying gs://workamlproject/MEF2C_v2/bwa/mergedLibrary/picard_metrics/MV411_MEF2D_NT_SC_63_DMSO-POLII_total_R1.mLb.clN.CollectMultipleMetrics.insert_size_metrics [Content-Type=application/octet-stream]...\n"
     ]
    },
    {
     "name": "stdout",
     "output_type": "stream",
     "text": [
      "Copying gs://workamlproject/MEF2C_v2/bwa/mergedLibrary/picard_metrics/MV411_MEF2D_NT_SC_63_DMSO-POLII_total_R1.mLb.clN.CollectMultipleMetrics.quality_distribution_metrics [Content-Type=application/octet-stream]...\n",
      "Copying gs://workamlproject/MEF2C_v2/bwa/mergedLibrary/picard_metrics/MV411_MEF2D_NT_SC_63_DMSO-POLII_total_R1.mLb.mkD.MarkDuplicates.metrics.txt [Content-Type=application/octet-stream]...\n",
      "Copying gs://workamlproject/MEF2C_v2/bwa/mergedLibrary/picard_metrics/MV411_MEF2D_NT_SC_63_VHL-FLAG_MEF2D_R1.mLb.clN.CollectMultipleMetrics.alignment_summary_metrics [Content-Type=application/octet-stream]...\n",
      "Copying gs://workamlproject/MEF2C_v2/bwa/mergedLibrary/picard_metrics/MV411_MEF2D_NT_SC_63_VHL-FLAG_MEF2D_R1.mLb.clN.CollectMultipleMetrics.base_distribution_by_cycle_metrics [Content-Type=application/octet-stream]...\n",
      "Copying gs://workamlproject/MEF2C_v2/bwa/mergedLibrary/picard_metrics/MV411_MEF2D_NT_SC_63_VHL-FLAG_MEF2D_R1.mLb.clN.CollectMultipleMetrics.insert_size_metrics [Content-Type=application/octet-stream]...\n",
      "Copying gs://workamlproject/MEF2C_v2/bwa/mergedLibrary/picard_metrics/MV411_MEF2D_NT_SC_63_VHL-FLAG_MEF2D_R1.mLb.clN.CollectMultipleMetrics.quality_by_cycle_metrics [Content-Type=application/octet-stream]...\n",
      "Copying gs://workamlproject/MEF2C_v2/bwa/mergedLibrary/picard_metrics/MV411_MEF2D_NT_SC_63_VHL-FLAG_MEF2D_R1.mLb.clN.CollectMultipleMetrics.quality_distribution_metrics [Content-Type=application/octet-stream]...\n",
      "Copying gs://workamlproject/MEF2C_v2/bwa/mergedLibrary/picard_metrics/MV411_MEF2D_NT_SC_63_VHL-FLAG_MEF2D_R1.mLb.mkD.MarkDuplicates.metrics.txt [Content-Type=application/octet-stream]...\n",
      "Copying gs://workamlproject/MEF2C_v2/bwa/mergedLibrary/picard_metrics/MV411_MEF2D_NT_SC_63_VHL-MED1_R1.mLb.clN.CollectMultipleMetrics.base_distribution_by_cycle_metrics [Content-Type=application/octet-stream]...\n",
      "Copying gs://workamlproject/MEF2C_v2/bwa/mergedLibrary/picard_metrics/MV411_MEF2D_NT_SC_63_VHL-MED1_R1.mLb.clN.CollectMultipleMetrics.alignment_summary_metrics [Content-Type=application/octet-stream]...\n",
      "Copying gs://workamlproject/MEF2C_v2/bwa/mergedLibrary/picard_metrics/MV411_MEF2D_NT_SC_63_VHL-MED1_R1.mLb.clN.CollectMultipleMetrics.insert_size_metrics [Content-Type=application/octet-stream]...\n",
      "Copying gs://workamlproject/MEF2C_v2/bwa/mergedLibrary/picard_metrics/MV411_MEF2D_NT_SC_63_VHL-MED1_R1.mLb.clN.CollectMultipleMetrics.quality_by_cycle_metrics [Content-Type=application/octet-stream]...\n",
      "Copying gs://workamlproject/MEF2C_v2/bwa/mergedLibrary/picard_metrics/MV411_MEF2D_NT_SC_63_VHL-MED1_R1.mLb.clN.CollectMultipleMetrics.quality_distribution_metrics [Content-Type=application/octet-stream]...\n",
      "Copying gs://workamlproject/MEF2C_v2/bwa/mergedLibrary/picard_metrics/MV411_MEF2D_NT_SC_63_VHL-MED1_R1.mLb.mkD.MarkDuplicates.metrics.txt [Content-Type=application/octet-stream]...\n",
      "Copying gs://workamlproject/MEF2C_v2/bwa/mergedLibrary/picard_metrics/MV411_MEF2D_NT_SC_63_VHL-MEF2C_R1.mLb.clN.CollectMultipleMetrics.alignment_summary_metrics [Content-Type=application/octet-stream]...\n",
      "Copying gs://workamlproject/MEF2C_v2/bwa/mergedLibrary/picard_metrics/MV411_MEF2D_NT_SC_63_VHL-MEF2C_R1.mLb.clN.CollectMultipleMetrics.base_distribution_by_cycle_metrics [Content-Type=application/octet-stream]...\n",
      "Copying gs://workamlproject/MEF2C_v2/bwa/mergedLibrary/picard_metrics/MV411_MEF2D_NT_SC_63_VHL-MEF2C_R1.mLb.clN.CollectMultipleMetrics.quality_by_cycle_metrics [Content-Type=application/octet-stream]...\n",
      "Copying gs://workamlproject/MEF2C_v2/bwa/mergedLibrary/picard_metrics/MV411_MEF2D_NT_SC_63_VHL-MEF2C_R1.mLb.clN.CollectMultipleMetrics.insert_size_metrics [Content-Type=application/octet-stream]...\n",
      "Copying gs://workamlproject/MEF2C_v2/bwa/mergedLibrary/picard_metrics/MV411_MEF2D_NT_SC_63_VHL-MEF2C_R1.mLb.clN.CollectMultipleMetrics.quality_distribution_metrics [Content-Type=application/octet-stream]...\n",
      "Copying gs://workamlproject/MEF2C_v2/bwa/mergedLibrary/picard_metrics/MV411_MEF2D_NT_SC_63_VHL-MEF2C_R1.mLb.mkD.MarkDuplicates.metrics.txt [Content-Type=application/octet-stream]...\n",
      "Copying gs://workamlproject/MEF2C_v2/bwa/mergedLibrary/picard_metrics/MV411_MEF2D_NT_SC_63_VHL-MYC_R1.mLb.clN.CollectMultipleMetrics.alignment_summary_metrics [Content-Type=application/octet-stream]...\n",
      "Copying gs://workamlproject/MEF2C_v2/bwa/mergedLibrary/picard_metrics/MV411_MEF2D_NT_SC_63_VHL-MYC_R1.mLb.clN.CollectMultipleMetrics.base_distribution_by_cycle_metrics [Content-Type=application/octet-stream]...\n",
      "Copying gs://workamlproject/MEF2C_v2/bwa/mergedLibrary/picard_metrics/MV411_MEF2D_NT_SC_63_VHL-MYC_R1.mLb.clN.CollectMultipleMetrics.insert_size_metrics [Content-Type=application/octet-stream]...\n",
      "Copying gs://workamlproject/MEF2C_v2/bwa/mergedLibrary/picard_metrics/MV411_MEF2D_NT_SC_63_VHL-MYC_R1.mLb.clN.CollectMultipleMetrics.quality_by_cycle_metrics [Content-Type=application/octet-stream]...\n",
      "Copying gs://workamlproject/MEF2C_v2/bwa/mergedLibrary/picard_metrics/MV411_MEF2D_NT_SC_63_VHL-MYC_R1.mLb.clN.CollectMultipleMetrics.quality_distribution_metrics [Content-Type=application/octet-stream]...\n",
      "Copying gs://workamlproject/MEF2C_v2/bwa/mergedLibrary/picard_metrics/MV411_MEF2D_NT_SC_63_VHL-MYC_R1.mLb.mkD.MarkDuplicates.metrics.txt [Content-Type=application/octet-stream]...\n",
      "Copying gs://workamlproject/MEF2C_v2/bwa/mergedLibrary/picard_metrics/MV411_MEF2D_NT_SC_63_VHL-POLII_total_R1.mLb.clN.CollectMultipleMetrics.alignment_summary_metrics [Content-Type=application/octet-stream]...\n",
      "Copying gs://workamlproject/MEF2C_v2/bwa/mergedLibrary/picard_metrics/MV411_MEF2D_NT_SC_63_VHL-POLII_total_R1.mLb.clN.CollectMultipleMetrics.base_distribution_by_cycle_metrics [Content-Type=application/octet-stream]...\n",
      "Copying gs://workamlproject/MEF2C_v2/bwa/mergedLibrary/picard_metrics/MV411_MEF2D_NT_SC_63_VHL-POLII_total_R1.mLb.clN.CollectMultipleMetrics.quality_by_cycle_metrics [Content-Type=application/octet-stream]...\n",
      "Copying gs://workamlproject/MEF2C_v2/bwa/mergedLibrary/picard_metrics/MV411_MEF2D_NT_SC_63_VHL-POLII_total_R1.mLb.clN.CollectMultipleMetrics.insert_size_metrics [Content-Type=application/octet-stream]...\n",
      "Copying gs://workamlproject/MEF2C_v2/bwa/mergedLibrary/picard_metrics/MV411_MEF2D_NT_SC_63_VHL-POLII_total_R1.mLb.clN.CollectMultipleMetrics.quality_distribution_metrics [Content-Type=application/octet-stream]...\n",
      "Copying gs://workamlproject/MEF2C_v2/bwa/mergedLibrary/picard_metrics/MV411_MEF2D_NT_SC_63_VHL-POLII_total_R1.mLb.mkD.MarkDuplicates.metrics.txt [Content-Type=application/octet-stream]...\n",
      "Copying gs://workamlproject/MEF2C_v2/bwa/mergedLibrary/picard_metrics/pdf/INPUT_R1.mLb.clN.CollectMultipleMetrics.insert_size_histogram.pdf [Content-Type=application/octet-stream]...\n",
      "Copying gs://workamlproject/MEF2C_v2/bwa/mergedLibrary/picard_metrics/pdf/INPUT_R1.mLb.clN.CollectMultipleMetrics.quality_by_cycle.pdf [Content-Type=application/octet-stream]...\n",
      "Copying gs://workamlproject/MEF2C_v2/bwa/mergedLibrary/picard_metrics/pdf/INPUT_R1.mLb.clN.CollectMultipleMetrics.base_distribution_by_cycle.pdf [Content-Type=application/octet-stream]...\n",
      "Copying gs://workamlproject/MEF2C_v2/bwa/mergedLibrary/picard_metrics/pdf/INPUT_R1.mLb.clN.CollectMultipleMetrics.quality_distribution.pdf [Content-Type=application/octet-stream]...\n",
      "Copying gs://workamlproject/MEF2C_v2/bwa/mergedLibrary/picard_metrics/pdf/MV411_MEF2D_NT_SC_63_DMSO-FLAG_MEF2D_R1.mLb.clN.CollectMultipleMetrics.base_distribution_by_cycle.pdf [Content-Type=application/octet-stream]...\n",
      "Copying gs://workamlproject/MEF2C_v2/bwa/mergedLibrary/picard_metrics/pdf/MV411_MEF2D_NT_SC_63_DMSO-FLAG_MEF2D_R1.mLb.clN.CollectMultipleMetrics.insert_size_histogram.pdf [Content-Type=application/octet-stream]...\n",
      "Copying gs://workamlproject/MEF2C_v2/bwa/mergedLibrary/picard_metrics/pdf/MV411_MEF2D_NT_SC_63_DMSO-FLAG_MEF2D_R1.mLb.clN.CollectMultipleMetrics.quality_by_cycle.pdf [Content-Type=application/octet-stream]...\n",
      "Copying gs://workamlproject/MEF2C_v2/bwa/mergedLibrary/picard_metrics/pdf/MV411_MEF2D_NT_SC_63_DMSO-FLAG_MEF2D_R1.mLb.clN.CollectMultipleMetrics.quality_distribution.pdf [Content-Type=application/octet-stream]...\n",
      "Copying gs://workamlproject/MEF2C_v2/bwa/mergedLibrary/picard_metrics/pdf/MV411_MEF2D_NT_SC_63_DMSO-MED1_R1.mLb.clN.CollectMultipleMetrics.base_distribution_by_cycle.pdf [Content-Type=application/octet-stream]...\n",
      "Copying gs://workamlproject/MEF2C_v2/bwa/mergedLibrary/picard_metrics/pdf/MV411_MEF2D_NT_SC_63_DMSO-MED1_R1.mLb.clN.CollectMultipleMetrics.insert_size_histogram.pdf [Content-Type=application/octet-stream]...\n",
      "Copying gs://workamlproject/MEF2C_v2/bwa/mergedLibrary/picard_metrics/pdf/MV411_MEF2D_NT_SC_63_DMSO-MED1_R1.mLb.clN.CollectMultipleMetrics.quality_by_cycle.pdf [Content-Type=application/octet-stream]...\n",
      "Copying gs://workamlproject/MEF2C_v2/bwa/mergedLibrary/picard_metrics/pdf/MV411_MEF2D_NT_SC_63_DMSO-MED1_R1.mLb.clN.CollectMultipleMetrics.quality_distribution.pdf [Content-Type=application/octet-stream]...\n",
      "Copying gs://workamlproject/MEF2C_v2/bwa/mergedLibrary/picard_metrics/pdf/MV411_MEF2D_NT_SC_63_DMSO-MEF2C_R1.mLb.clN.CollectMultipleMetrics.base_distribution_by_cycle.pdf [Content-Type=application/octet-stream]...\n",
      "Copying gs://workamlproject/MEF2C_v2/bwa/mergedLibrary/picard_metrics/pdf/MV411_MEF2D_NT_SC_63_DMSO-MEF2C_R1.mLb.clN.CollectMultipleMetrics.insert_size_histogram.pdf [Content-Type=application/octet-stream]...\n",
      "Copying gs://workamlproject/MEF2C_v2/bwa/mergedLibrary/picard_metrics/pdf/MV411_MEF2D_NT_SC_63_DMSO-MEF2C_R1.mLb.clN.CollectMultipleMetrics.quality_by_cycle.pdf [Content-Type=application/octet-stream]...\n"
     ]
    },
    {
     "name": "stdout",
     "output_type": "stream",
     "text": [
      "Copying gs://workamlproject/MEF2C_v2/bwa/mergedLibrary/picard_metrics/pdf/MV411_MEF2D_NT_SC_63_DMSO-MEF2C_R1.mLb.clN.CollectMultipleMetrics.quality_distribution.pdf [Content-Type=application/octet-stream]...\n",
      "Copying gs://workamlproject/MEF2C_v2/bwa/mergedLibrary/picard_metrics/pdf/MV411_MEF2D_NT_SC_63_DMSO-MYC_R1.mLb.clN.CollectMultipleMetrics.base_distribution_by_cycle.pdf [Content-Type=application/octet-stream]...\n",
      "Copying gs://workamlproject/MEF2C_v2/bwa/mergedLibrary/picard_metrics/pdf/MV411_MEF2D_NT_SC_63_DMSO-MYC_R1.mLb.clN.CollectMultipleMetrics.insert_size_histogram.pdf [Content-Type=application/octet-stream]...\n",
      "Copying gs://workamlproject/MEF2C_v2/bwa/mergedLibrary/picard_metrics/pdf/MV411_MEF2D_NT_SC_63_DMSO-MYC_R1.mLb.clN.CollectMultipleMetrics.quality_by_cycle.pdf [Content-Type=application/octet-stream]...\n",
      "Copying gs://workamlproject/MEF2C_v2/bwa/mergedLibrary/picard_metrics/pdf/MV411_MEF2D_NT_SC_63_DMSO-MYC_R1.mLb.clN.CollectMultipleMetrics.quality_distribution.pdf [Content-Type=application/octet-stream]...\n",
      "Copying gs://workamlproject/MEF2C_v2/bwa/mergedLibrary/picard_metrics/pdf/MV411_MEF2D_NT_SC_63_DMSO-POLII_total_R1.mLb.clN.CollectMultipleMetrics.base_distribution_by_cycle.pdf [Content-Type=application/octet-stream]...\n",
      "Copying gs://workamlproject/MEF2C_v2/bwa/mergedLibrary/picard_metrics/pdf/MV411_MEF2D_NT_SC_63_DMSO-POLII_total_R1.mLb.clN.CollectMultipleMetrics.insert_size_histogram.pdf [Content-Type=application/octet-stream]...\n",
      "Copying gs://workamlproject/MEF2C_v2/bwa/mergedLibrary/picard_metrics/pdf/MV411_MEF2D_NT_SC_63_DMSO-POLII_total_R1.mLb.clN.CollectMultipleMetrics.quality_by_cycle.pdf [Content-Type=application/octet-stream]...\n",
      "Copying gs://workamlproject/MEF2C_v2/bwa/mergedLibrary/picard_metrics/pdf/MV411_MEF2D_NT_SC_63_DMSO-POLII_total_R1.mLb.clN.CollectMultipleMetrics.quality_distribution.pdf [Content-Type=application/octet-stream]...\n",
      "Copying gs://workamlproject/MEF2C_v2/bwa/mergedLibrary/picard_metrics/pdf/MV411_MEF2D_NT_SC_63_VHL-FLAG_MEF2D_R1.mLb.clN.CollectMultipleMetrics.base_distribution_by_cycle.pdf [Content-Type=application/octet-stream]...\n",
      "Copying gs://workamlproject/MEF2C_v2/bwa/mergedLibrary/picard_metrics/pdf/MV411_MEF2D_NT_SC_63_VHL-FLAG_MEF2D_R1.mLb.clN.CollectMultipleMetrics.insert_size_histogram.pdf [Content-Type=application/octet-stream]...\n",
      "Copying gs://workamlproject/MEF2C_v2/bwa/mergedLibrary/picard_metrics/pdf/MV411_MEF2D_NT_SC_63_VHL-FLAG_MEF2D_R1.mLb.clN.CollectMultipleMetrics.quality_distribution.pdf [Content-Type=application/octet-stream]...\n",
      "Copying gs://workamlproject/MEF2C_v2/bwa/mergedLibrary/picard_metrics/pdf/MV411_MEF2D_NT_SC_63_VHL-FLAG_MEF2D_R1.mLb.clN.CollectMultipleMetrics.quality_by_cycle.pdf [Content-Type=application/octet-stream]...\n",
      "Copying gs://workamlproject/MEF2C_v2/bwa/mergedLibrary/picard_metrics/pdf/MV411_MEF2D_NT_SC_63_VHL-MED1_R1.mLb.clN.CollectMultipleMetrics.insert_size_histogram.pdf [Content-Type=application/octet-stream]...\n",
      "Copying gs://workamlproject/MEF2C_v2/bwa/mergedLibrary/picard_metrics/pdf/MV411_MEF2D_NT_SC_63_VHL-MED1_R1.mLb.clN.CollectMultipleMetrics.base_distribution_by_cycle.pdf [Content-Type=application/octet-stream]...\n",
      "Copying gs://workamlproject/MEF2C_v2/bwa/mergedLibrary/picard_metrics/pdf/MV411_MEF2D_NT_SC_63_VHL-MED1_R1.mLb.clN.CollectMultipleMetrics.quality_distribution.pdf [Content-Type=application/octet-stream]...\n",
      "Copying gs://workamlproject/MEF2C_v2/bwa/mergedLibrary/picard_metrics/pdf/MV411_MEF2D_NT_SC_63_VHL-MEF2C_R1.mLb.clN.CollectMultipleMetrics.base_distribution_by_cycle.pdf [Content-Type=application/octet-stream]...\n",
      "Copying gs://workamlproject/MEF2C_v2/bwa/mergedLibrary/picard_metrics/pdf/MV411_MEF2D_NT_SC_63_VHL-MED1_R1.mLb.clN.CollectMultipleMetrics.quality_by_cycle.pdf [Content-Type=application/octet-stream]...\n",
      "Copying gs://workamlproject/MEF2C_v2/bwa/mergedLibrary/picard_metrics/pdf/MV411_MEF2D_NT_SC_63_VHL-MEF2C_R1.mLb.clN.CollectMultipleMetrics.quality_by_cycle.pdf [Content-Type=application/octet-stream]...\n",
      "Copying gs://workamlproject/MEF2C_v2/bwa/mergedLibrary/picard_metrics/pdf/MV411_MEF2D_NT_SC_63_VHL-MEF2C_R1.mLb.clN.CollectMultipleMetrics.insert_size_histogram.pdf [Content-Type=application/octet-stream]...\n",
      "Copying gs://workamlproject/MEF2C_v2/bwa/mergedLibrary/picard_metrics/pdf/MV411_MEF2D_NT_SC_63_VHL-MEF2C_R1.mLb.clN.CollectMultipleMetrics.quality_distribution.pdf [Content-Type=application/octet-stream]...\n",
      "Copying gs://workamlproject/MEF2C_v2/bwa/mergedLibrary/picard_metrics/pdf/MV411_MEF2D_NT_SC_63_VHL-MYC_R1.mLb.clN.CollectMultipleMetrics.base_distribution_by_cycle.pdf [Content-Type=application/octet-stream]...\n",
      "Copying gs://workamlproject/MEF2C_v2/bwa/mergedLibrary/picard_metrics/pdf/MV411_MEF2D_NT_SC_63_VHL-MYC_R1.mLb.clN.CollectMultipleMetrics.insert_size_histogram.pdf [Content-Type=application/octet-stream]...\n",
      "Copying gs://workamlproject/MEF2C_v2/bwa/mergedLibrary/picard_metrics/pdf/MV411_MEF2D_NT_SC_63_VHL-MYC_R1.mLb.clN.CollectMultipleMetrics.quality_by_cycle.pdf [Content-Type=application/octet-stream]...\n",
      "Copying gs://workamlproject/MEF2C_v2/bwa/mergedLibrary/picard_metrics/pdf/MV411_MEF2D_NT_SC_63_VHL-MYC_R1.mLb.clN.CollectMultipleMetrics.quality_distribution.pdf [Content-Type=application/octet-stream]...\n",
      "Copying gs://workamlproject/MEF2C_v2/bwa/mergedLibrary/picard_metrics/pdf/MV411_MEF2D_NT_SC_63_VHL-POLII_total_R1.mLb.clN.CollectMultipleMetrics.base_distribution_by_cycle.pdf [Content-Type=application/octet-stream]...\n",
      "Copying gs://workamlproject/MEF2C_v2/bwa/mergedLibrary/picard_metrics/pdf/MV411_MEF2D_NT_SC_63_VHL-POLII_total_R1.mLb.clN.CollectMultipleMetrics.insert_size_histogram.pdf [Content-Type=application/octet-stream]...\n",
      "Copying gs://workamlproject/MEF2C_v2/bwa/mergedLibrary/picard_metrics/pdf/MV411_MEF2D_NT_SC_63_VHL-POLII_total_R1.mLb.clN.CollectMultipleMetrics.quality_by_cycle.pdf [Content-Type=application/octet-stream]...\n",
      "Copying gs://workamlproject/MEF2C_v2/bwa/mergedLibrary/picard_metrics/pdf/MV411_MEF2D_NT_SC_63_VHL-POLII_total_R1.mLb.clN.CollectMultipleMetrics.quality_distribution.pdf [Content-Type=application/octet-stream]...\n",
      "Copying gs://workamlproject/MEF2C_v2/bwa/mergedLibrary/preseq/INPUT_R1.ccurve.txt [Content-Type=application/octet-stream]...\n",
      "Copying gs://workamlproject/MEF2C_v2/bwa/mergedLibrary/preseq/INPUT_R1.command.log [Content-Type=application/octet-stream]...\n",
      "Copying gs://workamlproject/MEF2C_v2/bwa/mergedLibrary/preseq/MV411_MEF2D_NT_SC_63_DMSO-FLAG_MEF2D_R1.ccurve.txt [Content-Type=application/octet-stream]...\n",
      "Copying gs://workamlproject/MEF2C_v2/bwa/mergedLibrary/preseq/MV411_MEF2D_NT_SC_63_DMSO-FLAG_MEF2D_R1.command.log [Content-Type=application/octet-stream]...\n",
      "Copying gs://workamlproject/MEF2C_v2/bwa/mergedLibrary/preseq/MV411_MEF2D_NT_SC_63_DMSO-MED1_R1.ccurve.txt [Content-Type=application/octet-stream]...\n",
      "Copying gs://workamlproject/MEF2C_v2/bwa/mergedLibrary/preseq/MV411_MEF2D_NT_SC_63_DMSO-MED1_R1.command.log [Content-Type=application/octet-stream]...\n",
      "Copying gs://workamlproject/MEF2C_v2/bwa/mergedLibrary/preseq/MV411_MEF2D_NT_SC_63_DMSO-MEF2C_R1.ccurve.txt [Content-Type=application/octet-stream]...\n",
      "Copying gs://workamlproject/MEF2C_v2/bwa/mergedLibrary/preseq/MV411_MEF2D_NT_SC_63_DMSO-MEF2C_R1.command.log [Content-Type=application/octet-stream]...\n",
      "Copying gs://workamlproject/MEF2C_v2/bwa/mergedLibrary/preseq/MV411_MEF2D_NT_SC_63_DMSO-MYC_R1.ccurve.txt [Content-Type=application/octet-stream]...\n",
      "Copying gs://workamlproject/MEF2C_v2/bwa/mergedLibrary/preseq/MV411_MEF2D_NT_SC_63_DMSO-MYC_R1.command.log [Content-Type=application/octet-stream]...\n",
      "Copying gs://workamlproject/MEF2C_v2/bwa/mergedLibrary/preseq/MV411_MEF2D_NT_SC_63_DMSO-POLII_total_R1.ccurve.txt [Content-Type=application/octet-stream]...\n",
      "Copying gs://workamlproject/MEF2C_v2/bwa/mergedLibrary/preseq/MV411_MEF2D_NT_SC_63_DMSO-POLII_total_R1.command.log [Content-Type=application/octet-stream]...\n",
      "Copying gs://workamlproject/MEF2C_v2/bwa/mergedLibrary/preseq/MV411_MEF2D_NT_SC_63_VHL-FLAG_MEF2D_R1.ccurve.txt [Content-Type=application/octet-stream]...\n",
      "Copying gs://workamlproject/MEF2C_v2/bwa/mergedLibrary/preseq/MV411_MEF2D_NT_SC_63_VHL-FLAG_MEF2D_R1.command.log [Content-Type=application/octet-stream]...\n",
      "Copying gs://workamlproject/MEF2C_v2/bwa/mergedLibrary/preseq/MV411_MEF2D_NT_SC_63_VHL-MED1_R1.command.log [Content-Type=application/octet-stream]...\n",
      "Copying gs://workamlproject/MEF2C_v2/bwa/mergedLibrary/preseq/MV411_MEF2D_NT_SC_63_VHL-MED1_R1.ccurve.txt [Content-Type=application/octet-stream]...\n"
     ]
    },
    {
     "name": "stdout",
     "output_type": "stream",
     "text": [
      "Copying gs://workamlproject/MEF2C_v2/bwa/mergedLibrary/preseq/MV411_MEF2D_NT_SC_63_VHL-MEF2C_R1.ccurve.txt [Content-Type=application/octet-stream]...\n",
      "Copying gs://workamlproject/MEF2C_v2/bwa/mergedLibrary/preseq/MV411_MEF2D_NT_SC_63_VHL-MEF2C_R1.command.log [Content-Type=application/octet-stream]...\n",
      "Copying gs://workamlproject/MEF2C_v2/bwa/mergedLibrary/preseq/MV411_MEF2D_NT_SC_63_VHL-MYC_R1.ccurve.txt [Content-Type=application/octet-stream]...\n",
      "Copying gs://workamlproject/MEF2C_v2/bwa/mergedLibrary/preseq/MV411_MEF2D_NT_SC_63_VHL-MYC_R1.command.log [Content-Type=application/octet-stream]...\n",
      "Copying gs://workamlproject/MEF2C_v2/bwa/mergedLibrary/preseq/MV411_MEF2D_NT_SC_63_VHL-POLII_total_R1.ccurve.txt [Content-Type=application/octet-stream]...\n",
      "Copying gs://workamlproject/MEF2C_v2/bwa/mergedLibrary/preseq/MV411_MEF2D_NT_SC_63_VHL-POLII_total_R1.command.log [Content-Type=application/octet-stream]...\n",
      "Copying gs://workamlproject/MEF2C_v2/bwa/mergedLibrary/samtools_stats/INPUT_R1.mLb.clN.sorted.bam.flagstat [Content-Type=application/octet-stream]...\n",
      "Copying gs://workamlproject/MEF2C_v2/bwa/mergedLibrary/samtools_stats/INPUT_R1.mLb.clN.sorted.bam.idxstats [Content-Type=application/octet-stream]...\n",
      "Copying gs://workamlproject/MEF2C_v2/bwa/mergedLibrary/samtools_stats/INPUT_R1.mLb.clN.sorted.bam.stats [Content-Type=application/octet-stream]...\n",
      "Copying gs://workamlproject/MEF2C_v2/bwa/mergedLibrary/samtools_stats/INPUT_R1.mLb.mkD.sorted.bam.flagstat [Content-Type=application/octet-stream]...\n",
      "Copying gs://workamlproject/MEF2C_v2/bwa/mergedLibrary/samtools_stats/INPUT_R1.mLb.mkD.sorted.bam.idxstats [Content-Type=application/octet-stream]...\n",
      "Copying gs://workamlproject/MEF2C_v2/bwa/mergedLibrary/samtools_stats/INPUT_R1.mLb.mkD.sorted.bam.stats [Content-Type=application/octet-stream]...\n",
      "Copying gs://workamlproject/MEF2C_v2/bwa/mergedLibrary/samtools_stats/MV411_MEF2D_NT_SC_63_DMSO-FLAG_MEF2D_R1.mLb.clN.sorted.bam.flagstat [Content-Type=application/octet-stream]...\n",
      "Copying gs://workamlproject/MEF2C_v2/bwa/mergedLibrary/samtools_stats/MV411_MEF2D_NT_SC_63_DMSO-FLAG_MEF2D_R1.mLb.clN.sorted.bam.idxstats [Content-Type=application/octet-stream]...\n",
      "Copying gs://workamlproject/MEF2C_v2/bwa/mergedLibrary/samtools_stats/MV411_MEF2D_NT_SC_63_DMSO-FLAG_MEF2D_R1.mLb.clN.sorted.bam.stats [Content-Type=application/octet-stream]...\n",
      "Copying gs://workamlproject/MEF2C_v2/bwa/mergedLibrary/samtools_stats/MV411_MEF2D_NT_SC_63_DMSO-FLAG_MEF2D_R1.mLb.mkD.sorted.bam.idxstats [Content-Type=application/octet-stream]...\n",
      "Copying gs://workamlproject/MEF2C_v2/bwa/mergedLibrary/samtools_stats/MV411_MEF2D_NT_SC_63_DMSO-FLAG_MEF2D_R1.mLb.mkD.sorted.bam.flagstat [Content-Type=application/octet-stream]...\n",
      "Copying gs://workamlproject/MEF2C_v2/bwa/mergedLibrary/samtools_stats/MV411_MEF2D_NT_SC_63_DMSO-FLAG_MEF2D_R1.mLb.mkD.sorted.bam.stats [Content-Type=application/octet-stream]...\n",
      "Copying gs://workamlproject/MEF2C_v2/bwa/mergedLibrary/samtools_stats/MV411_MEF2D_NT_SC_63_DMSO-MED1_R1.mLb.clN.sorted.bam.flagstat [Content-Type=application/octet-stream]...\n",
      "Copying gs://workamlproject/MEF2C_v2/bwa/mergedLibrary/samtools_stats/MV411_MEF2D_NT_SC_63_DMSO-MED1_R1.mLb.clN.sorted.bam.idxstats [Content-Type=application/octet-stream]...\n",
      "Copying gs://workamlproject/MEF2C_v2/bwa/mergedLibrary/samtools_stats/MV411_MEF2D_NT_SC_63_DMSO-MED1_R1.mLb.clN.sorted.bam.stats [Content-Type=application/octet-stream]...\n",
      "Copying gs://workamlproject/MEF2C_v2/bwa/mergedLibrary/samtools_stats/MV411_MEF2D_NT_SC_63_DMSO-MED1_R1.mLb.mkD.sorted.bam.flagstat [Content-Type=application/octet-stream]...\n",
      "Copying gs://workamlproject/MEF2C_v2/bwa/mergedLibrary/samtools_stats/MV411_MEF2D_NT_SC_63_DMSO-MED1_R1.mLb.mkD.sorted.bam.idxstats [Content-Type=application/octet-stream]...\n",
      "Copying gs://workamlproject/MEF2C_v2/bwa/mergedLibrary/samtools_stats/MV411_MEF2D_NT_SC_63_DMSO-MED1_R1.mLb.mkD.sorted.bam.stats [Content-Type=application/octet-stream]...\n",
      "Copying gs://workamlproject/MEF2C_v2/bwa/mergedLibrary/samtools_stats/MV411_MEF2D_NT_SC_63_DMSO-MEF2C_R1.mLb.clN.sorted.bam.flagstat [Content-Type=application/octet-stream]...\n",
      "Copying gs://workamlproject/MEF2C_v2/bwa/mergedLibrary/samtools_stats/MV411_MEF2D_NT_SC_63_DMSO-MEF2C_R1.mLb.clN.sorted.bam.idxstats [Content-Type=application/octet-stream]...\n",
      "Copying gs://workamlproject/MEF2C_v2/bwa/mergedLibrary/samtools_stats/MV411_MEF2D_NT_SC_63_DMSO-MEF2C_R1.mLb.clN.sorted.bam.stats [Content-Type=application/octet-stream]...\n",
      "Copying gs://workamlproject/MEF2C_v2/bwa/mergedLibrary/samtools_stats/MV411_MEF2D_NT_SC_63_DMSO-MEF2C_R1.mLb.mkD.sorted.bam.flagstat [Content-Type=application/octet-stream]...\n",
      "Copying gs://workamlproject/MEF2C_v2/bwa/mergedLibrary/samtools_stats/MV411_MEF2D_NT_SC_63_DMSO-MEF2C_R1.mLb.mkD.sorted.bam.idxstats [Content-Type=application/octet-stream]...\n",
      "Copying gs://workamlproject/MEF2C_v2/bwa/mergedLibrary/samtools_stats/MV411_MEF2D_NT_SC_63_DMSO-MEF2C_R1.mLb.mkD.sorted.bam.stats [Content-Type=application/octet-stream]...\n",
      "Copying gs://workamlproject/MEF2C_v2/bwa/mergedLibrary/samtools_stats/MV411_MEF2D_NT_SC_63_DMSO-MYC_R1.mLb.clN.sorted.bam.flagstat [Content-Type=application/octet-stream]...\n",
      "Copying gs://workamlproject/MEF2C_v2/bwa/mergedLibrary/samtools_stats/MV411_MEF2D_NT_SC_63_DMSO-MYC_R1.mLb.clN.sorted.bam.stats [Content-Type=application/octet-stream]...\n",
      "Copying gs://workamlproject/MEF2C_v2/bwa/mergedLibrary/samtools_stats/MV411_MEF2D_NT_SC_63_DMSO-MYC_R1.mLb.clN.sorted.bam.idxstats [Content-Type=application/octet-stream]...\n",
      "Copying gs://workamlproject/MEF2C_v2/bwa/mergedLibrary/samtools_stats/MV411_MEF2D_NT_SC_63_DMSO-MYC_R1.mLb.mkD.sorted.bam.flagstat [Content-Type=application/octet-stream]...\n",
      "Copying gs://workamlproject/MEF2C_v2/bwa/mergedLibrary/samtools_stats/MV411_MEF2D_NT_SC_63_DMSO-MYC_R1.mLb.mkD.sorted.bam.idxstats [Content-Type=application/octet-stream]...\n",
      "Copying gs://workamlproject/MEF2C_v2/bwa/mergedLibrary/samtools_stats/MV411_MEF2D_NT_SC_63_DMSO-MYC_R1.mLb.mkD.sorted.bam.stats [Content-Type=application/octet-stream]...\n",
      "Copying gs://workamlproject/MEF2C_v2/bwa/mergedLibrary/samtools_stats/MV411_MEF2D_NT_SC_63_DMSO-POLII_total_R1.mLb.clN.sorted.bam.flagstat [Content-Type=application/octet-stream]...\n",
      "Copying gs://workamlproject/MEF2C_v2/bwa/mergedLibrary/samtools_stats/MV411_MEF2D_NT_SC_63_DMSO-POLII_total_R1.mLb.clN.sorted.bam.idxstats [Content-Type=application/octet-stream]...\n",
      "Copying gs://workamlproject/MEF2C_v2/bwa/mergedLibrary/samtools_stats/MV411_MEF2D_NT_SC_63_DMSO-POLII_total_R1.mLb.clN.sorted.bam.stats [Content-Type=application/octet-stream]...\n",
      "Copying gs://workamlproject/MEF2C_v2/bwa/mergedLibrary/samtools_stats/MV411_MEF2D_NT_SC_63_DMSO-POLII_total_R1.mLb.mkD.sorted.bam.flagstat [Content-Type=application/octet-stream]...\n",
      "Copying gs://workamlproject/MEF2C_v2/bwa/mergedLibrary/samtools_stats/MV411_MEF2D_NT_SC_63_DMSO-POLII_total_R1.mLb.mkD.sorted.bam.stats [Content-Type=application/octet-stream]...\n",
      "Copying gs://workamlproject/MEF2C_v2/bwa/mergedLibrary/samtools_stats/MV411_MEF2D_NT_SC_63_DMSO-POLII_total_R1.mLb.mkD.sorted.bam.idxstats [Content-Type=application/octet-stream]...\n",
      "Copying gs://workamlproject/MEF2C_v2/bwa/mergedLibrary/samtools_stats/MV411_MEF2D_NT_SC_63_VHL-FLAG_MEF2D_R1.mLb.clN.sorted.bam.flagstat [Content-Type=application/octet-stream]...\n",
      "Copying gs://workamlproject/MEF2C_v2/bwa/mergedLibrary/samtools_stats/MV411_MEF2D_NT_SC_63_VHL-FLAG_MEF2D_R1.mLb.clN.sorted.bam.idxstats [Content-Type=application/octet-stream]...\n",
      "Copying gs://workamlproject/MEF2C_v2/bwa/mergedLibrary/samtools_stats/MV411_MEF2D_NT_SC_63_VHL-FLAG_MEF2D_R1.mLb.clN.sorted.bam.stats [Content-Type=application/octet-stream]...\n",
      "Copying gs://workamlproject/MEF2C_v2/bwa/mergedLibrary/samtools_stats/MV411_MEF2D_NT_SC_63_VHL-FLAG_MEF2D_R1.mLb.mkD.sorted.bam.flagstat [Content-Type=application/octet-stream]...\n",
      "Copying gs://workamlproject/MEF2C_v2/bwa/mergedLibrary/samtools_stats/MV411_MEF2D_NT_SC_63_VHL-FLAG_MEF2D_R1.mLb.mkD.sorted.bam.idxstats [Content-Type=application/octet-stream]...\n",
      "Copying gs://workamlproject/MEF2C_v2/bwa/mergedLibrary/samtools_stats/MV411_MEF2D_NT_SC_63_VHL-FLAG_MEF2D_R1.mLb.mkD.sorted.bam.stats [Content-Type=application/octet-stream]...\n",
      "Copying gs://workamlproject/MEF2C_v2/bwa/mergedLibrary/samtools_stats/MV411_MEF2D_NT_SC_63_VHL-MED1_R1.mLb.clN.sorted.bam.flagstat [Content-Type=application/octet-stream]...\n",
      "Copying gs://workamlproject/MEF2C_v2/bwa/mergedLibrary/samtools_stats/MV411_MEF2D_NT_SC_63_VHL-MED1_R1.mLb.clN.sorted.bam.idxstats [Content-Type=application/octet-stream]...\n",
      "Copying gs://workamlproject/MEF2C_v2/bwa/mergedLibrary/samtools_stats/MV411_MEF2D_NT_SC_63_VHL-MED1_R1.mLb.clN.sorted.bam.stats [Content-Type=application/octet-stream]...\n",
      "Copying gs://workamlproject/MEF2C_v2/bwa/mergedLibrary/samtools_stats/MV411_MEF2D_NT_SC_63_VHL-MED1_R1.mLb.mkD.sorted.bam.flagstat [Content-Type=application/octet-stream]...\n",
      "Copying gs://workamlproject/MEF2C_v2/bwa/mergedLibrary/samtools_stats/MV411_MEF2D_NT_SC_63_VHL-MED1_R1.mLb.mkD.sorted.bam.idxstats [Content-Type=application/octet-stream]...\n",
      "Copying gs://workamlproject/MEF2C_v2/bwa/mergedLibrary/samtools_stats/MV411_MEF2D_NT_SC_63_VHL-MED1_R1.mLb.mkD.sorted.bam.stats [Content-Type=application/octet-stream]...\n",
      "Copying gs://workamlproject/MEF2C_v2/bwa/mergedLibrary/samtools_stats/MV411_MEF2D_NT_SC_63_VHL-MEF2C_R1.mLb.clN.sorted.bam.flagstat [Content-Type=application/octet-stream]...\n",
      "Copying gs://workamlproject/MEF2C_v2/bwa/mergedLibrary/samtools_stats/MV411_MEF2D_NT_SC_63_VHL-MEF2C_R1.mLb.clN.sorted.bam.idxstats [Content-Type=application/octet-stream]...\n",
      "Copying gs://workamlproject/MEF2C_v2/bwa/mergedLibrary/samtools_stats/MV411_MEF2D_NT_SC_63_VHL-MEF2C_R1.mLb.clN.sorted.bam.stats [Content-Type=application/octet-stream]...\n",
      "Copying gs://workamlproject/MEF2C_v2/bwa/mergedLibrary/samtools_stats/MV411_MEF2D_NT_SC_63_VHL-MEF2C_R1.mLb.mkD.sorted.bam.flagstat [Content-Type=application/octet-stream]...\n",
      "Copying gs://workamlproject/MEF2C_v2/bwa/mergedLibrary/samtools_stats/MV411_MEF2D_NT_SC_63_VHL-MEF2C_R1.mLb.mkD.sorted.bam.idxstats [Content-Type=application/octet-stream]...\n",
      "Copying gs://workamlproject/MEF2C_v2/bwa/mergedLibrary/samtools_stats/MV411_MEF2D_NT_SC_63_VHL-MEF2C_R1.mLb.mkD.sorted.bam.stats [Content-Type=application/octet-stream]...\n",
      "Copying gs://workamlproject/MEF2C_v2/bwa/mergedLibrary/samtools_stats/MV411_MEF2D_NT_SC_63_VHL-MYC_R1.mLb.clN.sorted.bam.flagstat [Content-Type=application/octet-stream]...\n",
      "Copying gs://workamlproject/MEF2C_v2/bwa/mergedLibrary/samtools_stats/MV411_MEF2D_NT_SC_63_VHL-MYC_R1.mLb.clN.sorted.bam.idxstats [Content-Type=application/octet-stream]...\n",
      "Copying gs://workamlproject/MEF2C_v2/bwa/mergedLibrary/samtools_stats/MV411_MEF2D_NT_SC_63_VHL-MYC_R1.mLb.clN.sorted.bam.stats [Content-Type=application/octet-stream]...\n",
      "Copying gs://workamlproject/MEF2C_v2/bwa/mergedLibrary/samtools_stats/MV411_MEF2D_NT_SC_63_VHL-MYC_R1.mLb.mkD.sorted.bam.flagstat [Content-Type=application/octet-stream]...\n",
      "Copying gs://workamlproject/MEF2C_v2/bwa/mergedLibrary/samtools_stats/MV411_MEF2D_NT_SC_63_VHL-MYC_R1.mLb.mkD.sorted.bam.idxstats [Content-Type=application/octet-stream]...\n",
      "Copying gs://workamlproject/MEF2C_v2/bwa/mergedLibrary/samtools_stats/MV411_MEF2D_NT_SC_63_VHL-MYC_R1.mLb.mkD.sorted.bam.stats [Content-Type=application/octet-stream]...\n",
      "Copying gs://workamlproject/MEF2C_v2/bwa/mergedLibrary/samtools_stats/MV411_MEF2D_NT_SC_63_VHL-POLII_total_R1.mLb.clN.sorted.bam.flagstat [Content-Type=application/octet-stream]...\n",
      "Copying gs://workamlproject/MEF2C_v2/bwa/mergedLibrary/samtools_stats/MV411_MEF2D_NT_SC_63_VHL-POLII_total_R1.mLb.clN.sorted.bam.idxstats [Content-Type=application/octet-stream]...\n",
      "Copying gs://workamlproject/MEF2C_v2/bwa/mergedLibrary/samtools_stats/MV411_MEF2D_NT_SC_63_VHL-POLII_total_R1.mLb.clN.sorted.bam.stats [Content-Type=application/octet-stream]...\n",
      "Copying gs://workamlproject/MEF2C_v2/bwa/mergedLibrary/samtools_stats/MV411_MEF2D_NT_SC_63_VHL-POLII_total_R1.mLb.mkD.sorted.bam.flagstat [Content-Type=application/octet-stream]...\n",
      "Copying gs://workamlproject/MEF2C_v2/bwa/mergedLibrary/samtools_stats/MV411_MEF2D_NT_SC_63_VHL-POLII_total_R1.mLb.mkD.sorted.bam.idxstats [Content-Type=application/octet-stream]...\n",
      "Copying gs://workamlproject/MEF2C_v2/bwa/mergedLibrary/samtools_stats/MV411_MEF2D_NT_SC_63_VHL-POLII_total_R1.mLb.mkD.sorted.bam.stats [Content-Type=application/octet-stream]...\n",
      "Copying gs://workamlproject/MEF2C_v2/droso_aligned/bam/INPUT_R1_T1.Lb.bam [Content-Type=application/octet-stream]...\n",
      "Copying gs://workamlproject/MEF2C_v2/droso_aligned/bam/MV411_MEF2D_NT_SC_63_DMSO-FLAG_MEF2D_R1_T1.Lb.bam [Content-Type=application/octet-stream]...\n",
      "Copying gs://workamlproject/MEF2C_v2/droso_aligned/bam/MV411_MEF2D_NT_SC_63_DMSO-MED1_R1_T1.Lb.bam [Content-Type=application/octet-stream]...\n",
      "Copying gs://workamlproject/MEF2C_v2/droso_aligned/bam/MV411_MEF2D_NT_SC_63_DMSO-MEF2C_R1_T1.Lb.bam [Content-Type=application/octet-stream]...\n",
      "Copying gs://workamlproject/MEF2C_v2/droso_aligned/bam/MV411_MEF2D_NT_SC_63_DMSO-MYC_R1_T1.Lb.bam [Content-Type=application/octet-stream]...\n",
      "Copying gs://workamlproject/MEF2C_v2/droso_aligned/bam/MV411_MEF2D_NT_SC_63_DMSO-POLII_total_R1_T1.Lb.bam [Content-Type=application/octet-stream]...\n",
      "Copying gs://workamlproject/MEF2C_v2/droso_aligned/bam/MV411_MEF2D_NT_SC_63_VHL-FLAG_MEF2D_R1_T1.Lb.bam [Content-Type=application/octet-stream]...\n",
      "Copying gs://workamlproject/MEF2C_v2/droso_aligned/bam/MV411_MEF2D_NT_SC_63_VHL-MED1_R1_T1.Lb.bam [Content-Type=application/octet-stream]...\n",
      "Copying gs://workamlproject/MEF2C_v2/droso_aligned/bam/MV411_MEF2D_NT_SC_63_VHL-MEF2C_R1_T1.Lb.bam [Content-Type=application/octet-stream]...\n",
      "Copying gs://workamlproject/MEF2C_v2/droso_aligned/bam/MV411_MEF2D_NT_SC_63_VHL-MYC_R1_T1.Lb.bam [Content-Type=application/octet-stream]...\n",
      "Copying gs://workamlproject/MEF2C_v2/droso_aligned/counts/INPUT_R1_T1_counts.txt [Content-Type=application/octet-stream]...\n",
      "Copying gs://workamlproject/MEF2C_v2/droso_aligned/bam/MV411_MEF2D_NT_SC_63_VHL-POLII_total_R1_T1.Lb.bam [Content-Type=application/octet-stream]...\n",
      "Copying gs://workamlproject/MEF2C_v2/droso_aligned/counts/MV411_MEF2D_NT_SC_63_DMSO-FLAG_MEF2D_R1_T1_counts.txt [Content-Type=application/octet-stream]...\n",
      "Copying gs://workamlproject/MEF2C_v2/droso_aligned/counts/MV411_MEF2D_NT_SC_63_DMSO-MED1_R1_T1_counts.txt [Content-Type=application/octet-stream]...\n",
      "Copying gs://workamlproject/MEF2C_v2/droso_aligned/counts/MV411_MEF2D_NT_SC_63_DMSO-MEF2C_R1_T1_counts.txt [Content-Type=application/octet-stream]...\n",
      "Copying gs://workamlproject/MEF2C_v2/droso_aligned/counts/MV411_MEF2D_NT_SC_63_DMSO-MYC_R1_T1_counts.txt [Content-Type=application/octet-stream]...\n",
      "Copying gs://workamlproject/MEF2C_v2/droso_aligned/counts/MV411_MEF2D_NT_SC_63_DMSO-POLII_total_R1_T1_counts.txt [Content-Type=application/octet-stream]...\n",
      "Copying gs://workamlproject/MEF2C_v2/droso_aligned/counts/MV411_MEF2D_NT_SC_63_VHL-FLAG_MEF2D_R1_T1_counts.txt [Content-Type=application/octet-stream]...\n",
      "Copying gs://workamlproject/MEF2C_v2/droso_aligned/counts/MV411_MEF2D_NT_SC_63_VHL-MED1_R1_T1_counts.txt [Content-Type=application/octet-stream]...\n",
      "Copying gs://workamlproject/MEF2C_v2/droso_aligned/counts/MV411_MEF2D_NT_SC_63_VHL-MEF2C_R1_T1_counts.txt [Content-Type=application/octet-stream]...\n",
      "Copying gs://workamlproject/MEF2C_v2/droso_aligned/counts/MV411_MEF2D_NT_SC_63_VHL-MYC_R1_T1_counts.txt [Content-Type=application/octet-stream]...\n",
      "Copying gs://workamlproject/MEF2C_v2/droso_aligned/counts/MV411_MEF2D_NT_SC_63_VHL-POLII_total_R1_T1_counts.txt [Content-Type=application/octet-stream]...\n",
      "Copying gs://workamlproject/MEF2C_v2/droso_aligned/scale/INPUT_R1_T1_scaling.txt [Content-Type=application/octet-stream]...\n",
      "Copying gs://workamlproject/MEF2C_v2/droso_aligned/scale/MV411_MEF2D_NT_SC_63_DMSO-FLAG_MEF2D_R1_T1_scaling.txt [Content-Type=application/octet-stream]...\n",
      "Copying gs://workamlproject/MEF2C_v2/droso_aligned/scale/MV411_MEF2D_NT_SC_63_DMSO-MED1_R1_T1_scaling.txt [Content-Type=application/octet-stream]...\n",
      "Copying gs://workamlproject/MEF2C_v2/droso_aligned/scale/MV411_MEF2D_NT_SC_63_DMSO-MEF2C_R1_T1_scaling.txt [Content-Type=application/octet-stream]...\n",
      "Copying gs://workamlproject/MEF2C_v2/droso_aligned/scale/MV411_MEF2D_NT_SC_63_DMSO-MYC_R1_T1_scaling.txt [Content-Type=application/octet-stream]...\n"
     ]
    },
    {
     "name": "stdout",
     "output_type": "stream",
     "text": [
      "Copying gs://workamlproject/MEF2C_v2/droso_aligned/scale/MV411_MEF2D_NT_SC_63_DMSO-POLII_total_R1_T1_scaling.txt [Content-Type=application/octet-stream]...\n",
      "Copying gs://workamlproject/MEF2C_v2/droso_aligned/scale/MV411_MEF2D_NT_SC_63_VHL-FLAG_MEF2D_R1_T1_scaling.txt [Content-Type=application/octet-stream]...\n",
      "Copying gs://workamlproject/MEF2C_v2/droso_aligned/scale/MV411_MEF2D_NT_SC_63_VHL-MED1_R1_T1_scaling.txt [Content-Type=application/octet-stream]...\n",
      "Copying gs://workamlproject/MEF2C_v2/droso_aligned/scale/MV411_MEF2D_NT_SC_63_VHL-MEF2C_R1_T1_scaling.txt [Content-Type=application/octet-stream]...\n",
      "Copying gs://workamlproject/MEF2C_v2/droso_aligned/scale/MV411_MEF2D_NT_SC_63_VHL-MYC_R1_T1_scaling.txt [Content-Type=application/octet-stream]...\n",
      "Copying gs://workamlproject/MEF2C_v2/droso_aligned/scale/MV411_MEF2D_NT_SC_63_VHL-POLII_total_R1_T1_scaling.txt [Content-Type=application/octet-stream]...\n",
      "Copying gs://workamlproject/MEF2C_v2/fastqc/INPUT_R1_T1_1_fastqc.html [Content-Type=application/octet-stream]...\n",
      "Copying gs://workamlproject/MEF2C_v2/fastqc/INPUT_R1_T1_2_fastqc.html [Content-Type=application/octet-stream]...\n",
      "Copying gs://workamlproject/MEF2C_v2/fastqc/MV411_MEF2D_NT_SC_63_DMSO-FLAG_MEF2D_R1_T1_1_fastqc.html [Content-Type=application/octet-stream]...\n",
      "Copying gs://workamlproject/MEF2C_v2/fastqc/MV411_MEF2D_NT_SC_63_DMSO-FLAG_MEF2D_R1_T1_2_fastqc.html [Content-Type=application/octet-stream]...\n",
      "Copying gs://workamlproject/MEF2C_v2/fastqc/MV411_MEF2D_NT_SC_63_DMSO-MED1_R1_T1_1_fastqc.html [Content-Type=application/octet-stream]...\n",
      "Copying gs://workamlproject/MEF2C_v2/fastqc/MV411_MEF2D_NT_SC_63_DMSO-MED1_R1_T1_2_fastqc.html [Content-Type=application/octet-stream]...\n",
      "Copying gs://workamlproject/MEF2C_v2/fastqc/MV411_MEF2D_NT_SC_63_DMSO-MEF2C_R1_T1_1_fastqc.html [Content-Type=application/octet-stream]...\n",
      "Copying gs://workamlproject/MEF2C_v2/fastqc/MV411_MEF2D_NT_SC_63_DMSO-MEF2C_R1_T1_2_fastqc.html [Content-Type=application/octet-stream]...\n",
      "Copying gs://workamlproject/MEF2C_v2/fastqc/MV411_MEF2D_NT_SC_63_DMSO-MYC_R1_T1_1_fastqc.html [Content-Type=application/octet-stream]...\n",
      "Copying gs://workamlproject/MEF2C_v2/fastqc/MV411_MEF2D_NT_SC_63_DMSO-MYC_R1_T1_2_fastqc.html [Content-Type=application/octet-stream]...\n",
      "Copying gs://workamlproject/MEF2C_v2/fastqc/MV411_MEF2D_NT_SC_63_DMSO-POLII_total_R1_T1_1_fastqc.html [Content-Type=application/octet-stream]...\n",
      "Copying gs://workamlproject/MEF2C_v2/fastqc/MV411_MEF2D_NT_SC_63_DMSO-POLII_total_R1_T1_2_fastqc.html [Content-Type=application/octet-stream]...\n",
      "Copying gs://workamlproject/MEF2C_v2/fastqc/MV411_MEF2D_NT_SC_63_VHL-FLAG_MEF2D_R1_T1_1_fastqc.html [Content-Type=application/octet-stream]...\n",
      "Copying gs://workamlproject/MEF2C_v2/fastqc/MV411_MEF2D_NT_SC_63_VHL-FLAG_MEF2D_R1_T1_2_fastqc.html [Content-Type=application/octet-stream]...\n",
      "Copying gs://workamlproject/MEF2C_v2/fastqc/MV411_MEF2D_NT_SC_63_VHL-MED1_R1_T1_1_fastqc.html [Content-Type=application/octet-stream]...\n",
      "Copying gs://workamlproject/MEF2C_v2/fastqc/MV411_MEF2D_NT_SC_63_VHL-MED1_R1_T1_2_fastqc.html [Content-Type=application/octet-stream]...\n",
      "Copying gs://workamlproject/MEF2C_v2/fastqc/MV411_MEF2D_NT_SC_63_VHL-MEF2C_R1_T1_1_fastqc.html [Content-Type=application/octet-stream]...\n",
      "Copying gs://workamlproject/MEF2C_v2/fastqc/MV411_MEF2D_NT_SC_63_VHL-MEF2C_R1_T1_2_fastqc.html [Content-Type=application/octet-stream]...\n",
      "Copying gs://workamlproject/MEF2C_v2/fastqc/MV411_MEF2D_NT_SC_63_VHL-MYC_R1_T1_1_fastqc.html [Content-Type=application/octet-stream]...\n",
      "Copying gs://workamlproject/MEF2C_v2/fastqc/MV411_MEF2D_NT_SC_63_VHL-MYC_R1_T1_2_fastqc.html [Content-Type=application/octet-stream]...\n",
      "Copying gs://workamlproject/MEF2C_v2/fastqc/MV411_MEF2D_NT_SC_63_VHL-POLII_total_R1_T1_1_fastqc.html [Content-Type=application/octet-stream]...\n",
      "Copying gs://workamlproject/MEF2C_v2/fastqc/MV411_MEF2D_NT_SC_63_VHL-POLII_total_R1_T1_2_fastqc.html [Content-Type=application/octet-stream]...\n",
      "Copying gs://workamlproject/MEF2C_v2/fastqc/zips/INPUT_R1_T1_1_fastqc.zip [Content-Type=application/octet-stream]...\n",
      "Copying gs://workamlproject/MEF2C_v2/fastqc/zips/INPUT_R1_T1_2_fastqc.zip [Content-Type=application/octet-stream]...\n",
      "Copying gs://workamlproject/MEF2C_v2/fastqc/zips/MV411_MEF2D_NT_SC_63_DMSO-FLAG_MEF2D_R1_T1_1_fastqc.zip [Content-Type=application/octet-stream]...\n",
      "Copying gs://workamlproject/MEF2C_v2/fastqc/zips/MV411_MEF2D_NT_SC_63_DMSO-FLAG_MEF2D_R1_T1_2_fastqc.zip [Content-Type=application/octet-stream]...\n",
      "Copying gs://workamlproject/MEF2C_v2/fastqc/zips/MV411_MEF2D_NT_SC_63_DMSO-MED1_R1_T1_1_fastqc.zip [Content-Type=application/octet-stream]...\n",
      "Copying gs://workamlproject/MEF2C_v2/fastqc/zips/MV411_MEF2D_NT_SC_63_DMSO-MED1_R1_T1_2_fastqc.zip [Content-Type=application/octet-stream]...\n",
      "Copying gs://workamlproject/MEF2C_v2/fastqc/zips/MV411_MEF2D_NT_SC_63_DMSO-MEF2C_R1_T1_1_fastqc.zip [Content-Type=application/octet-stream]...\n",
      "Copying gs://workamlproject/MEF2C_v2/fastqc/zips/MV411_MEF2D_NT_SC_63_DMSO-MEF2C_R1_T1_2_fastqc.zip [Content-Type=application/octet-stream]...\n",
      "Copying gs://workamlproject/MEF2C_v2/fastqc/zips/MV411_MEF2D_NT_SC_63_DMSO-MYC_R1_T1_1_fastqc.zip [Content-Type=application/octet-stream]...\n",
      "Copying gs://workamlproject/MEF2C_v2/fastqc/zips/MV411_MEF2D_NT_SC_63_DMSO-MYC_R1_T1_2_fastqc.zip [Content-Type=application/octet-stream]...\n",
      "Copying gs://workamlproject/MEF2C_v2/fastqc/zips/MV411_MEF2D_NT_SC_63_DMSO-POLII_total_R1_T1_1_fastqc.zip [Content-Type=application/octet-stream]...\n",
      "Copying gs://workamlproject/MEF2C_v2/fastqc/zips/MV411_MEF2D_NT_SC_63_DMSO-POLII_total_R1_T1_2_fastqc.zip [Content-Type=application/octet-stream]...\n",
      "Copying gs://workamlproject/MEF2C_v2/fastqc/zips/MV411_MEF2D_NT_SC_63_VHL-FLAG_MEF2D_R1_T1_1_fastqc.zip [Content-Type=application/octet-stream]...\n",
      "Copying gs://workamlproject/MEF2C_v2/fastqc/zips/MV411_MEF2D_NT_SC_63_VHL-FLAG_MEF2D_R1_T1_2_fastqc.zip [Content-Type=application/octet-stream]...\n",
      "Copying gs://workamlproject/MEF2C_v2/fastqc/zips/MV411_MEF2D_NT_SC_63_VHL-MED1_R1_T1_2_fastqc.zip [Content-Type=application/octet-stream]...\n",
      "Copying gs://workamlproject/MEF2C_v2/fastqc/zips/MV411_MEF2D_NT_SC_63_VHL-MED1_R1_T1_1_fastqc.zip [Content-Type=application/octet-stream]...\n",
      "Copying gs://workamlproject/MEF2C_v2/fastqc/zips/MV411_MEF2D_NT_SC_63_VHL-MEF2C_R1_T1_2_fastqc.zip [Content-Type=application/octet-stream]...\n",
      "Copying gs://workamlproject/MEF2C_v2/fastqc/zips/MV411_MEF2D_NT_SC_63_VHL-MEF2C_R1_T1_1_fastqc.zip [Content-Type=application/octet-stream]...\n",
      "Copying gs://workamlproject/MEF2C_v2/fastqc/zips/MV411_MEF2D_NT_SC_63_VHL-MYC_R1_T1_1_fastqc.zip [Content-Type=application/octet-stream]...\n",
      "Copying gs://workamlproject/MEF2C_v2/fastqc/zips/MV411_MEF2D_NT_SC_63_VHL-MYC_R1_T1_2_fastqc.zip [Content-Type=application/octet-stream]...\n",
      "Copying gs://workamlproject/MEF2C_v2/fastqc/zips/MV411_MEF2D_NT_SC_63_VHL-POLII_total_R1_T1_1_fastqc.zip [Content-Type=application/octet-stream]...\n",
      "Copying gs://workamlproject/MEF2C_v2/fastqc/zips/MV411_MEF2D_NT_SC_63_VHL-POLII_total_R1_T1_2_fastqc.zip [Content-Type=application/octet-stream]...\n",
      "Copying gs://workamlproject/MEF2C_v2/genome/genome.fa [Content-Type=application/octet-stream]...\n",
      "Copying gs://workamlproject/MEF2C_v2/genome/genome.fa.fai [Content-Type=application/octet-stream]...\n",
      "Copying gs://workamlproject/MEF2C_v2/genome/genome.fa.include_regions.bed [Content-Type=application/octet-stream]...\n",
      "Copying gs://workamlproject/MEF2C_v2/igv/broadPeak/igv_files.txt [Content-Type=application/octet-stream]...\n",
      "Copying gs://workamlproject/MEF2C_v2/genome/genome.fa.sizes [Content-Type=application/octet-stream]...\n",
      "Copying gs://workamlproject/MEF2C_v2/igv/broadPeak/igv_session.xml [Content-Type=application/octet-stream]...\n",
      "Copying gs://workamlproject/MEF2C_v2/multiqc/broadPeak/multiqc_report.html [Content-Type=application/octet-stream]...\n",
      "Copying gs://workamlproject/MEF2C_v2/pipeline_info/design_controls.csv [Content-Type=application/octet-stream]...\n",
      "Copying gs://workamlproject/MEF2C_v2/pipeline_info/design_reads.csv [Content-Type=application/octet-stream]...\n",
      "Copying gs://workamlproject/MEF2C_v2/pipeline_info/results_description.html [Content-Type=application/octet-stream]...\n",
      "Copying gs://workamlproject/MEF2C_v2/pipeline_info/software_versions.csv [Content-Type=application/octet-stream]...\n",
      "Copying gs://workamlproject/MEF2C_v2/trim_galore/fastqc/INPUT_R1_T1_1_val_1_fastqc.html [Content-Type=application/octet-stream]...\n",
      "Copying gs://workamlproject/MEF2C_v2/trim_galore/fastqc/INPUT_R1_T1_2_val_2_fastqc.html [Content-Type=application/octet-stream]...\n",
      "Copying gs://workamlproject/MEF2C_v2/trim_galore/fastqc/MV411_MEF2D_NT_SC_63_DMSO-FLAG_MEF2D_R1_T1_1_val_1_fastqc.html [Content-Type=application/octet-stream]...\n",
      "Copying gs://workamlproject/MEF2C_v2/trim_galore/fastqc/MV411_MEF2D_NT_SC_63_DMSO-FLAG_MEF2D_R1_T1_2_val_2_fastqc.html [Content-Type=application/octet-stream]...\n",
      "Copying gs://workamlproject/MEF2C_v2/trim_galore/fastqc/MV411_MEF2D_NT_SC_63_DMSO-MED1_R1_T1_1_val_1_fastqc.html [Content-Type=application/octet-stream]...\n",
      "Copying gs://workamlproject/MEF2C_v2/trim_galore/fastqc/MV411_MEF2D_NT_SC_63_DMSO-MED1_R1_T1_2_val_2_fastqc.html [Content-Type=application/octet-stream]...\n",
      "Copying gs://workamlproject/MEF2C_v2/trim_galore/fastqc/MV411_MEF2D_NT_SC_63_DMSO-MEF2C_R1_T1_1_val_1_fastqc.html [Content-Type=application/octet-stream]...\n",
      "Copying gs://workamlproject/MEF2C_v2/trim_galore/fastqc/MV411_MEF2D_NT_SC_63_DMSO-MEF2C_R1_T1_2_val_2_fastqc.html [Content-Type=application/octet-stream]...\n",
      "Copying gs://workamlproject/MEF2C_v2/trim_galore/fastqc/MV411_MEF2D_NT_SC_63_DMSO-MYC_R1_T1_1_val_1_fastqc.html [Content-Type=application/octet-stream]...\n",
      "Copying gs://workamlproject/MEF2C_v2/trim_galore/fastqc/MV411_MEF2D_NT_SC_63_DMSO-MYC_R1_T1_2_val_2_fastqc.html [Content-Type=application/octet-stream]...\n",
      "Copying gs://workamlproject/MEF2C_v2/trim_galore/fastqc/MV411_MEF2D_NT_SC_63_DMSO-POLII_total_R1_T1_1_val_1_fastqc.html [Content-Type=application/octet-stream]...\n",
      "Copying gs://workamlproject/MEF2C_v2/trim_galore/fastqc/MV411_MEF2D_NT_SC_63_DMSO-POLII_total_R1_T1_2_val_2_fastqc.html [Content-Type=application/octet-stream]...\n",
      "Copying gs://workamlproject/MEF2C_v2/trim_galore/fastqc/MV411_MEF2D_NT_SC_63_VHL-FLAG_MEF2D_R1_T1_1_val_1_fastqc.html [Content-Type=application/octet-stream]...\n",
      "Copying gs://workamlproject/MEF2C_v2/trim_galore/fastqc/MV411_MEF2D_NT_SC_63_VHL-FLAG_MEF2D_R1_T1_2_val_2_fastqc.html [Content-Type=application/octet-stream]...\n",
      "Copying gs://workamlproject/MEF2C_v2/trim_galore/fastqc/MV411_MEF2D_NT_SC_63_VHL-MED1_R1_T1_1_val_1_fastqc.html [Content-Type=application/octet-stream]...\n",
      "Copying gs://workamlproject/MEF2C_v2/trim_galore/fastqc/MV411_MEF2D_NT_SC_63_VHL-MED1_R1_T1_2_val_2_fastqc.html [Content-Type=application/octet-stream]...\n",
      "Copying gs://workamlproject/MEF2C_v2/trim_galore/fastqc/MV411_MEF2D_NT_SC_63_VHL-MEF2C_R1_T1_1_val_1_fastqc.html [Content-Type=application/octet-stream]...\n",
      "Copying gs://workamlproject/MEF2C_v2/trim_galore/fastqc/MV411_MEF2D_NT_SC_63_VHL-MEF2C_R1_T1_2_val_2_fastqc.html [Content-Type=application/octet-stream]...\n",
      "Copying gs://workamlproject/MEF2C_v2/trim_galore/fastqc/MV411_MEF2D_NT_SC_63_VHL-MYC_R1_T1_1_val_1_fastqc.html [Content-Type=application/octet-stream]...\n",
      "Copying gs://workamlproject/MEF2C_v2/trim_galore/fastqc/MV411_MEF2D_NT_SC_63_VHL-MYC_R1_T1_2_val_2_fastqc.html [Content-Type=application/octet-stream]...\n",
      "Copying gs://workamlproject/MEF2C_v2/trim_galore/fastqc/MV411_MEF2D_NT_SC_63_VHL-POLII_total_R1_T1_1_val_1_fastqc.html [Content-Type=application/octet-stream]...\n",
      "Copying gs://workamlproject/MEF2C_v2/trim_galore/fastqc/MV411_MEF2D_NT_SC_63_VHL-POLII_total_R1_T1_2_val_2_fastqc.html [Content-Type=application/octet-stream]...\n",
      "Copying gs://workamlproject/MEF2C_v2/trim_galore/fastqc/zips/INPUT_R1_T1_1_val_1_fastqc.zip [Content-Type=application/octet-stream]...\n",
      "Copying gs://workamlproject/MEF2C_v2/trim_galore/fastqc/zips/INPUT_R1_T1_2_val_2_fastqc.zip [Content-Type=application/octet-stream]...\n",
      "Copying gs://workamlproject/MEF2C_v2/trim_galore/fastqc/zips/MV411_MEF2D_NT_SC_63_DMSO-FLAG_MEF2D_R1_T1_1_val_1_fastqc.zip [Content-Type=application/octet-stream]...\n",
      "Copying gs://workamlproject/MEF2C_v2/trim_galore/fastqc/zips/MV411_MEF2D_NT_SC_63_DMSO-FLAG_MEF2D_R1_T1_2_val_2_fastqc.zip [Content-Type=application/octet-stream]...\n",
      "Copying gs://workamlproject/MEF2C_v2/trim_galore/fastqc/zips/MV411_MEF2D_NT_SC_63_DMSO-MED1_R1_T1_1_val_1_fastqc.zip [Content-Type=application/octet-stream]...\n",
      "Copying gs://workamlproject/MEF2C_v2/trim_galore/fastqc/zips/MV411_MEF2D_NT_SC_63_DMSO-MED1_R1_T1_2_val_2_fastqc.zip [Content-Type=application/octet-stream]...\n",
      "Copying gs://workamlproject/MEF2C_v2/trim_galore/fastqc/zips/MV411_MEF2D_NT_SC_63_DMSO-MEF2C_R1_T1_1_val_1_fastqc.zip [Content-Type=application/octet-stream]...\n",
      "Copying gs://workamlproject/MEF2C_v2/trim_galore/fastqc/zips/MV411_MEF2D_NT_SC_63_DMSO-MEF2C_R1_T1_2_val_2_fastqc.zip [Content-Type=application/octet-stream]...\n",
      "Copying gs://workamlproject/MEF2C_v2/trim_galore/fastqc/zips/MV411_MEF2D_NT_SC_63_DMSO-MYC_R1_T1_1_val_1_fastqc.zip [Content-Type=application/octet-stream]...\n",
      "Copying gs://workamlproject/MEF2C_v2/trim_galore/fastqc/zips/MV411_MEF2D_NT_SC_63_DMSO-MYC_R1_T1_2_val_2_fastqc.zip [Content-Type=application/octet-stream]...\n",
      "Copying gs://workamlproject/MEF2C_v2/trim_galore/fastqc/zips/MV411_MEF2D_NT_SC_63_DMSO-POLII_total_R1_T1_1_val_1_fastqc.zip [Content-Type=application/octet-stream]...\n",
      "Copying gs://workamlproject/MEF2C_v2/trim_galore/fastqc/zips/MV411_MEF2D_NT_SC_63_DMSO-POLII_total_R1_T1_2_val_2_fastqc.zip [Content-Type=application/octet-stream]...\n",
      "Copying gs://workamlproject/MEF2C_v2/trim_galore/fastqc/zips/MV411_MEF2D_NT_SC_63_VHL-FLAG_MEF2D_R1_T1_1_val_1_fastqc.zip [Content-Type=application/octet-stream]...\n",
      "Copying gs://workamlproject/MEF2C_v2/trim_galore/fastqc/zips/MV411_MEF2D_NT_SC_63_VHL-MED1_R1_T1_1_val_1_fastqc.zip [Content-Type=application/octet-stream]...\n",
      "Copying gs://workamlproject/MEF2C_v2/trim_galore/fastqc/zips/MV411_MEF2D_NT_SC_63_VHL-MED1_R1_T1_2_val_2_fastqc.zip [Content-Type=application/octet-stream]...\n",
      "Copying gs://workamlproject/MEF2C_v2/trim_galore/fastqc/zips/MV411_MEF2D_NT_SC_63_VHL-FLAG_MEF2D_R1_T1_2_val_2_fastqc.zip [Content-Type=application/octet-stream]...\n",
      "Copying gs://workamlproject/MEF2C_v2/trim_galore/fastqc/zips/MV411_MEF2D_NT_SC_63_VHL-MYC_R1_T1_1_val_1_fastqc.zip [Content-Type=application/octet-stream]...\n",
      "Copying gs://workamlproject/MEF2C_v2/trim_galore/fastqc/zips/MV411_MEF2D_NT_SC_63_VHL-MEF2C_R1_T1_1_val_1_fastqc.zip [Content-Type=application/octet-stream]...\n",
      "Copying gs://workamlproject/MEF2C_v2/trim_galore/fastqc/zips/MV411_MEF2D_NT_SC_63_VHL-MEF2C_R1_T1_2_val_2_fastqc.zip [Content-Type=application/octet-stream]...\n",
      "Copying gs://workamlproject/MEF2C_v2/trim_galore/fastqc/zips/MV411_MEF2D_NT_SC_63_VHL-MYC_R1_T1_2_val_2_fastqc.zip [Content-Type=application/octet-stream]...\n",
      "Copying gs://workamlproject/MEF2C_v2/trim_galore/fastqc/zips/MV411_MEF2D_NT_SC_63_VHL-POLII_total_R1_T1_1_val_1_fastqc.zip [Content-Type=application/octet-stream]...\n",
      "Copying gs://workamlproject/MEF2C_v2/trim_galore/fastqc/zips/MV411_MEF2D_NT_SC_63_VHL-POLII_total_R1_T1_2_val_2_fastqc.zip [Content-Type=application/octet-stream]...\n",
      "Copying gs://workamlproject/MEF2C_v2/trim_galore/logs/INPUT_R1_T1_1.fastq.gz_trimming_report.txt [Content-Type=application/octet-stream]...\n",
      "Copying gs://workamlproject/MEF2C_v2/trim_galore/logs/INPUT_R1_T1_2.fastq.gz_trimming_report.txt [Content-Type=application/octet-stream]...\n",
      "Copying gs://workamlproject/MEF2C_v2/trim_galore/logs/MV411_MEF2D_NT_SC_63_DMSO-FLAG_MEF2D_R1_T1_1.fastq.gz_trimming_report.txt [Content-Type=application/octet-stream]...\n",
      "Copying gs://workamlproject/MEF2C_v2/trim_galore/logs/MV411_MEF2D_NT_SC_63_DMSO-FLAG_MEF2D_R1_T1_2.fastq.gz_trimming_report.txt [Content-Type=application/octet-stream]...\n",
      "Copying gs://workamlproject/MEF2C_v2/trim_galore/logs/MV411_MEF2D_NT_SC_63_DMSO-MED1_R1_T1_1.fastq.gz_trimming_report.txt [Content-Type=application/octet-stream]...\n",
      "Copying gs://workamlproject/MEF2C_v2/trim_galore/logs/MV411_MEF2D_NT_SC_63_DMSO-MEF2C_R1_T1_1.fastq.gz_trimming_report.txt [Content-Type=application/octet-stream]...\n",
      "Copying gs://workamlproject/MEF2C_v2/trim_galore/logs/MV411_MEF2D_NT_SC_63_DMSO-MED1_R1_T1_2.fastq.gz_trimming_report.txt [Content-Type=application/octet-stream]...\n"
     ]
    },
    {
     "name": "stdout",
     "output_type": "stream",
     "text": [
      "Copying gs://workamlproject/MEF2C_v2/trim_galore/logs/MV411_MEF2D_NT_SC_63_DMSO-MEF2C_R1_T1_2.fastq.gz_trimming_report.txt [Content-Type=application/octet-stream]...\n",
      "Copying gs://workamlproject/MEF2C_v2/trim_galore/logs/MV411_MEF2D_NT_SC_63_DMSO-MYC_R1_T1_1.fastq.gz_trimming_report.txt [Content-Type=application/octet-stream]...\n",
      "Copying gs://workamlproject/MEF2C_v2/trim_galore/logs/MV411_MEF2D_NT_SC_63_DMSO-MYC_R1_T1_2.fastq.gz_trimming_report.txt [Content-Type=application/octet-stream]...\n",
      "Copying gs://workamlproject/MEF2C_v2/trim_galore/logs/MV411_MEF2D_NT_SC_63_DMSO-POLII_total_R1_T1_2.fastq.gz_trimming_report.txt [Content-Type=application/octet-stream]...\n",
      "Copying gs://workamlproject/MEF2C_v2/trim_galore/logs/MV411_MEF2D_NT_SC_63_DMSO-POLII_total_R1_T1_1.fastq.gz_trimming_report.txt [Content-Type=application/octet-stream]...\n",
      "Copying gs://workamlproject/MEF2C_v2/trim_galore/logs/MV411_MEF2D_NT_SC_63_VHL-FLAG_MEF2D_R1_T1_1.fastq.gz_trimming_report.txt [Content-Type=application/octet-stream]...\n",
      "Copying gs://workamlproject/MEF2C_v2/trim_galore/logs/MV411_MEF2D_NT_SC_63_VHL-FLAG_MEF2D_R1_T1_2.fastq.gz_trimming_report.txt [Content-Type=application/octet-stream]...\n",
      "Copying gs://workamlproject/MEF2C_v2/trim_galore/logs/MV411_MEF2D_NT_SC_63_VHL-MED1_R1_T1_1.fastq.gz_trimming_report.txt [Content-Type=application/octet-stream]...\n",
      "Copying gs://workamlproject/MEF2C_v2/trim_galore/logs/MV411_MEF2D_NT_SC_63_VHL-MED1_R1_T1_2.fastq.gz_trimming_report.txt [Content-Type=application/octet-stream]...\n",
      "Copying gs://workamlproject/MEF2C_v2/trim_galore/logs/MV411_MEF2D_NT_SC_63_VHL-MEF2C_R1_T1_1.fastq.gz_trimming_report.txt [Content-Type=application/octet-stream]...\n",
      "Copying gs://workamlproject/MEF2C_v2/trim_galore/logs/MV411_MEF2D_NT_SC_63_VHL-MEF2C_R1_T1_2.fastq.gz_trimming_report.txt [Content-Type=application/octet-stream]...\n",
      "Copying gs://workamlproject/MEF2C_v2/trim_galore/logs/MV411_MEF2D_NT_SC_63_VHL-MYC_R1_T1_1.fastq.gz_trimming_report.txt [Content-Type=application/octet-stream]...\n",
      "Copying gs://workamlproject/MEF2C_v2/trim_galore/logs/MV411_MEF2D_NT_SC_63_VHL-MYC_R1_T1_2.fastq.gz_trimming_report.txt [Content-Type=application/octet-stream]...\n",
      "Copying gs://workamlproject/MEF2C_v2/trim_galore/logs/MV411_MEF2D_NT_SC_63_VHL-POLII_total_R1_T1_1.fastq.gz_trimming_report.txt [Content-Type=application/octet-stream]...\n",
      "Copying gs://workamlproject/MEF2C_v2/trim_galore/logs/MV411_MEF2D_NT_SC_63_VHL-POLII_total_R1_T1_2.fastq.gz_trimming_report.txt [Content-Type=application/octet-stream]...\n",
      "- [667/667 files][ 95.0 GiB/ 95.0 GiB] 100% Done 250.1 MiB/s ETA 00:00:00       \n",
      "Operation completed over 667 objects/95.0 GiB.                                   \n"
     ]
    }
   ],
   "source": [
    "! gsutil -m cp -r gs://workamlproject/MEF2C_v2/* gs://amlproject/Chip/$project/"
   ]
  },
  {
   "cell_type": "code",
   "execution_count": 378,
   "metadata": {},
   "outputs": [
    {
     "name": "stdout",
     "output_type": "stream",
     "text": [
      "3908252\n",
      "2509142\n",
      "2813150\n",
      "2612082\n",
      "3555936\n",
      "2880450\n",
      "3949522\n",
      "2834634\n",
      "4245238\n",
      "2777382\n",
      "721324\n",
      "gs://amlproject/Chip/chipseq_MF2C_degraded_v2/droso_aligned/counts/INPUT_R1_T1_counts.txt\n",
      "gs://amlproject/Chip/chipseq_MF2C_degraded_v2/droso_aligned/counts/MV411_MEF2D_NT_SC_63_DMSO-FLAG_MEF2D_R1_T1_counts.txt\n",
      "gs://amlproject/Chip/chipseq_MF2C_degraded_v2/droso_aligned/counts/MV411_MEF2D_NT_SC_63_DMSO-MED1_R1_T1_counts.txt\n",
      "gs://amlproject/Chip/chipseq_MF2C_degraded_v2/droso_aligned/counts/MV411_MEF2D_NT_SC_63_DMSO-MEF2C_R1_T1_counts.txt\n",
      "gs://amlproject/Chip/chipseq_MF2C_degraded_v2/droso_aligned/counts/MV411_MEF2D_NT_SC_63_DMSO-MYC_R1_T1_counts.txt\n",
      "gs://amlproject/Chip/chipseq_MF2C_degraded_v2/droso_aligned/counts/MV411_MEF2D_NT_SC_63_DMSO-POLII_total_R1_T1_counts.txt\n",
      "gs://amlproject/Chip/chipseq_MF2C_degraded_v2/droso_aligned/counts/MV411_MEF2D_NT_SC_63_VHL-FLAG_MEF2D_R1_T1_counts.txt\n",
      "gs://amlproject/Chip/chipseq_MF2C_degraded_v2/droso_aligned/counts/MV411_MEF2D_NT_SC_63_VHL-MED1_R1_T1_counts.txt\n",
      "gs://amlproject/Chip/chipseq_MF2C_degraded_v2/droso_aligned/counts/MV411_MEF2D_NT_SC_63_VHL-MEF2C_R1_T1_counts.txt\n",
      "gs://amlproject/Chip/chipseq_MF2C_degraded_v2/droso_aligned/counts/MV411_MEF2D_NT_SC_63_VHL-MYC_R1_T1_counts.txt\n",
      "gs://amlproject/Chip/chipseq_MF2C_degraded_v2/droso_aligned/counts/MV411_MEF2D_NT_SC_63_VHL-POLII_total_R1_T1_counts.txt\n"
     ]
    }
   ],
   "source": [
    "! gsutil cat gs://amlproject/Chip/$project/droso_aligned/counts/*\n",
    "! gsutil ls gs://amlproject/Chip/$project/droso_aligned/counts/"
   ]
  },
  {
   "cell_type": "code",
   "execution_count": null,
   "metadata": {},
   "outputs": [],
   "source": [
    "# now use the total counts in gs://amlproject/Chip/chipseq_MF2C_degraded_v2/multiqc/broadPeak/multiqc_report.html\n",
    "# https://console.cloud.google.com/storage/browser/amlproject/Chip/chipseq_MF2C_degraded_v2/multiqc/broadPeak/multiqc_report.html"
   ]
  },
  {
   "cell_type": "code",
   "execution_count": 379,
   "metadata": {},
   "outputs": [
    {
     "name": "stdout",
     "output_type": "stream",
     "text": [
      "Copying gs://amlproject/Chip/chipseq_MF2C_degraded_v2/bwa/mergedLibrary/INPUT_R1.mLb.clN.sorted.bam...\n",
      "Copying gs://amlproject/Chip/chipseq_MF2C_degraded_v2/bwa/mergedLibrary/INPUT_R1.mLb.clN.sorted.bam.bai...\n",
      "Copying gs://amlproject/Chip/chipseq_MF2C_degraded_v2/bwa/mergedLibrary/MV411_MEF2D_NT_SC_63_DMSO-FLAG_MEF2D_R1.mLb.clN.sorted.bam...\n",
      "Copying gs://amlproject/Chip/chipseq_MF2C_degraded_v2/bwa/mergedLibrary/MV411_MEF2D_NT_SC_63_DMSO-FLAG_MEF2D_R1.mLb.clN.sorted.bam.bai...\n",
      "Copying gs://amlproject/Chip/chipseq_MF2C_degraded_v2/bwa/mergedLibrary/MV411_MEF2D_NT_SC_63_DMSO-MED1_R1.mLb.clN.sorted.bam...\n",
      "Copying gs://amlproject/Chip/chipseq_MF2C_degraded_v2/bwa/mergedLibrary/MV411_MEF2D_NT_SC_63_DMSO-MED1_R1.mLb.clN.sorted.bam.bai...\n",
      "Copying gs://amlproject/Chip/chipseq_MF2C_degraded_v2/bwa/mergedLibrary/MV411_MEF2D_NT_SC_63_DMSO-MEF2C_R1.mLb.clN.sorted.bam...\n",
      "Copying gs://amlproject/Chip/chipseq_MF2C_degraded_v2/bwa/mergedLibrary/MV411_MEF2D_NT_SC_63_DMSO-MEF2C_R1.mLb.clN.sorted.bam.bai...\n",
      "Copying gs://amlproject/Chip/chipseq_MF2C_degraded_v2/bwa/mergedLibrary/MV411_MEF2D_NT_SC_63_DMSO-MYC_R1.mLb.clN.sorted.bam...\n",
      "Copying gs://amlproject/Chip/chipseq_MF2C_degraded_v2/bwa/mergedLibrary/MV411_MEF2D_NT_SC_63_DMSO-MYC_R1.mLb.clN.sorted.bam.bai...\n",
      "Copying gs://amlproject/Chip/chipseq_MF2C_degraded_v2/bwa/mergedLibrary/MV411_MEF2D_NT_SC_63_DMSO-POLII_total_R1.mLb.clN.sorted.bam...\n",
      "Copying gs://amlproject/Chip/chipseq_MF2C_degraded_v2/bwa/mergedLibrary/MV411_MEF2D_NT_SC_63_DMSO-POLII_total_R1.mLb.clN.sorted.bam.bai...\n",
      "Copying gs://amlproject/Chip/chipseq_MF2C_degraded_v2/bwa/mergedLibrary/MV411_MEF2D_NT_SC_63_VHL-FLAG_MEF2D_R1.mLb.clN.sorted.bam...\n",
      "Copying gs://amlproject/Chip/chipseq_MF2C_degraded_v2/bwa/mergedLibrary/MV411_MEF2D_NT_SC_63_VHL-FLAG_MEF2D_R1.mLb.clN.sorted.bam.bai...\n",
      "Copying gs://amlproject/Chip/chipseq_MF2C_degraded_v2/bwa/mergedLibrary/MV411_MEF2D_NT_SC_63_VHL-MED1_R1.mLb.clN.sorted.bam...\n",
      "Copying gs://amlproject/Chip/chipseq_MF2C_degraded_v2/bwa/mergedLibrary/MV411_MEF2D_NT_SC_63_VHL-MED1_R1.mLb.clN.sorted.bam.bai...\n",
      "Copying gs://amlproject/Chip/chipseq_MF2C_degraded_v2/bwa/mergedLibrary/MV411_MEF2D_NT_SC_63_VHL-MEF2C_R1.mLb.clN.sorted.bam...\n",
      "Copying gs://amlproject/Chip/chipseq_MF2C_degraded_v2/bwa/mergedLibrary/MV411_MEF2D_NT_SC_63_VHL-MEF2C_R1.mLb.clN.sorted.bam.bai...\n",
      "Copying gs://amlproject/Chip/chipseq_MF2C_degraded_v2/bwa/mergedLibrary/MV411_MEF2D_NT_SC_63_VHL-MYC_R1.mLb.clN.sorted.bam...\n",
      "Copying gs://amlproject/Chip/chipseq_MF2C_degraded_v2/bwa/mergedLibrary/MV411_MEF2D_NT_SC_63_VHL-MYC_R1.mLb.clN.sorted.bam.bai...\n",
      "Copying gs://amlproject/Chip/chipseq_MF2C_degraded_v2/bwa/mergedLibrary/MV411_MEF2D_NT_SC_63_VHL-POLII_total_R1.mLb.clN.sorted.bam...\n",
      "Copying gs://amlproject/Chip/chipseq_MF2C_degraded_v2/bwa/mergedLibrary/MV411_MEF2D_NT_SC_63_VHL-POLII_total_R1.mLb.clN.sorted.bam.bai...\n",
      "\\ [22/22 files][ 36.0 GiB/ 36.0 GiB] 100% Done  88.0 MiB/s ETA 00:00:00         \n",
      "Operation completed over 22 objects/36.0 GiB.                                    \n",
      "Copying gs://amlproject/Chip/chipseq_MF2C_degraded_v2/bwa/mergedLibrary/bigwig/INPUT_R1.bigWig...\n",
      "Copying gs://amlproject/Chip/chipseq_MF2C_degraded_v2/bwa/mergedLibrary/bigwig/MV411_MEF2D_NT_SC_63_DMSO-FLAG_MEF2D_R1.bigWig...\n",
      "Copying gs://amlproject/Chip/chipseq_MF2C_degraded_v2/bwa/mergedLibrary/bigwig/MV411_MEF2D_NT_SC_63_DMSO-MED1_R1.bigWig...\n",
      "Copying gs://amlproject/Chip/chipseq_MF2C_degraded_v2/bwa/mergedLibrary/bigwig/MV411_MEF2D_NT_SC_63_DMSO-MEF2C_R1.bigWig...\n",
      "Copying gs://amlproject/Chip/chipseq_MF2C_degraded_v2/bwa/mergedLibrary/bigwig/MV411_MEF2D_NT_SC_63_DMSO-MYC_R1.bigWig...\n",
      "Copying gs://amlproject/Chip/chipseq_MF2C_degraded_v2/bwa/mergedLibrary/bigwig/MV411_MEF2D_NT_SC_63_DMSO-POLII_total_R1.bigWig...\n",
      "Copying gs://amlproject/Chip/chipseq_MF2C_degraded_v2/bwa/mergedLibrary/bigwig/MV411_MEF2D_NT_SC_63_VHL-FLAG_MEF2D_R1.bigWig...\n",
      "Copying gs://amlproject/Chip/chipseq_MF2C_degraded_v2/bwa/mergedLibrary/bigwig/MV411_MEF2D_NT_SC_63_VHL-MED1_R1.bigWig...\n",
      "Copying gs://amlproject/Chip/chipseq_MF2C_degraded_v2/bwa/mergedLibrary/bigwig/MV411_MEF2D_NT_SC_63_VHL-MEF2C_R1.bigWig...\n",
      "Copying gs://amlproject/Chip/chipseq_MF2C_degraded_v2/bwa/mergedLibrary/bigwig/MV411_MEF2D_NT_SC_63_VHL-MYC_R1.bigWig...\n",
      "Copying gs://amlproject/Chip/chipseq_MF2C_degraded_v2/bwa/mergedLibrary/bigwig/MV411_MEF2D_NT_SC_63_VHL-POLII_total_R1.bigWig...\n",
      "Copying gs://amlproject/Chip/chipseq_MF2C_degraded_v2/bwa/mergedLibrary/bigwig/scale/INPUT_R1.scale_factor.txt...\n",
      "Copying gs://amlproject/Chip/chipseq_MF2C_degraded_v2/bwa/mergedLibrary/bigwig/scale/MV411_MEF2D_NT_SC_63_DMSO-FLAG_MEF2D_R1.scale_factor.txt...\n",
      "Copying gs://amlproject/Chip/chipseq_MF2C_degraded_v2/bwa/mergedLibrary/bigwig/scale/MV411_MEF2D_NT_SC_63_DMSO-MEF2C_R1.scale_factor.txt...\n",
      "Copying gs://amlproject/Chip/chipseq_MF2C_degraded_v2/bwa/mergedLibrary/bigwig/scale/MV411_MEF2D_NT_SC_63_DMSO-MED1_R1.scale_factor.txt...\n",
      "Copying gs://amlproject/Chip/chipseq_MF2C_degraded_v2/bwa/mergedLibrary/bigwig/scale/MV411_MEF2D_NT_SC_63_DMSO-MYC_R1.scale_factor.txt...\n",
      "Copying gs://amlproject/Chip/chipseq_MF2C_degraded_v2/bwa/mergedLibrary/bigwig/scale/MV411_MEF2D_NT_SC_63_DMSO-POLII_total_R1.scale_factor.txt...\n",
      "Copying gs://amlproject/Chip/chipseq_MF2C_degraded_v2/bwa/mergedLibrary/bigwig/scale/MV411_MEF2D_NT_SC_63_VHL-FLAG_MEF2D_R1.scale_factor.txt...\n",
      "Copying gs://amlproject/Chip/chipseq_MF2C_degraded_v2/bwa/mergedLibrary/bigwig/scale/MV411_MEF2D_NT_SC_63_VHL-MED1_R1.scale_factor.txt...\n",
      "Copying gs://amlproject/Chip/chipseq_MF2C_degraded_v2/bwa/mergedLibrary/bigwig/scale/MV411_MEF2D_NT_SC_63_VHL-MEF2C_R1.scale_factor.txt...\n",
      "Copying gs://amlproject/Chip/chipseq_MF2C_degraded_v2/bwa/mergedLibrary/bigwig/scale/MV411_MEF2D_NT_SC_63_VHL-MYC_R1.scale_factor.txt...\n",
      "Copying gs://amlproject/Chip/chipseq_MF2C_degraded_v2/bwa/mergedLibrary/bigwig/scale/MV411_MEF2D_NT_SC_63_VHL-POLII_total_R1.scale_factor.txt...\n",
      "/ [22/22 files][  3.0 GiB/  3.0 GiB] 100% Done 189.2 MiB/s ETA 00:00:00         \n",
      "Operation completed over 22 objects/3.0 GiB.                                     \n",
      "Copying gs://amlproject/Chip/chipseq_MF2C_degraded_v2/bwa/mergedLibrary/macs/broadPeak/MV411_MEF2D_NT_SC_63_DMSO-FLAG_MEF2D_R1_peaks.annotatePeaks.txt...\n",
      "Copying gs://amlproject/Chip/chipseq_MF2C_degraded_v2/bwa/mergedLibrary/macs/broadPeak/MV411_MEF2D_NT_SC_63_DMSO-FLAG_MEF2D_R1_peaks.broadPeak...\n",
      "Copying gs://amlproject/Chip/chipseq_MF2C_degraded_v2/bwa/mergedLibrary/macs/broadPeak/MV411_MEF2D_NT_SC_63_DMSO-FLAG_MEF2D_R1_peaks.gappedPeak...\n",
      "Copying gs://amlproject/Chip/chipseq_MF2C_degraded_v2/bwa/mergedLibrary/macs/broadPeak/MV411_MEF2D_NT_SC_63_DMSO-MED1_R1_peaks.annotatePeaks.txt...\n",
      "Copying gs://amlproject/Chip/chipseq_MF2C_degraded_v2/bwa/mergedLibrary/macs/broadPeak/MV411_MEF2D_NT_SC_63_DMSO-FLAG_MEF2D_R1_peaks.xls...\n",
      "Copying gs://amlproject/Chip/chipseq_MF2C_degraded_v2/bwa/mergedLibrary/macs/broadPeak/MV411_MEF2D_NT_SC_63_DMSO-MED1_R1_peaks.broadPeak...\n",
      "Copying gs://amlproject/Chip/chipseq_MF2C_degraded_v2/bwa/mergedLibrary/macs/broadPeak/MV411_MEF2D_NT_SC_63_DMSO-MED1_R1_peaks.gappedPeak...\n",
      "Copying gs://amlproject/Chip/chipseq_MF2C_degraded_v2/bwa/mergedLibrary/macs/broadPeak/MV411_MEF2D_NT_SC_63_DMSO-MED1_R1_peaks.xls...\n",
      "Copying gs://amlproject/Chip/chipseq_MF2C_degraded_v2/bwa/mergedLibrary/macs/broadPeak/MV411_MEF2D_NT_SC_63_DMSO-MEF2C_R1_peaks.annotatePeaks.txt...\n",
      "Copying gs://amlproject/Chip/chipseq_MF2C_degraded_v2/bwa/mergedLibrary/macs/broadPeak/MV411_MEF2D_NT_SC_63_DMSO-MEF2C_R1_peaks.broadPeak...\n",
      "Copying gs://amlproject/Chip/chipseq_MF2C_degraded_v2/bwa/mergedLibrary/macs/broadPeak/MV411_MEF2D_NT_SC_63_DMSO-MEF2C_R1_peaks.gappedPeak...\n",
      "Copying gs://amlproject/Chip/chipseq_MF2C_degraded_v2/bwa/mergedLibrary/macs/broadPeak/MV411_MEF2D_NT_SC_63_DMSO-MEF2C_R1_peaks.xls...\n",
      "Copying gs://amlproject/Chip/chipseq_MF2C_degraded_v2/bwa/mergedLibrary/macs/broadPeak/MV411_MEF2D_NT_SC_63_DMSO-MYC_R1_peaks.annotatePeaks.txt...\n",
      "Copying gs://amlproject/Chip/chipseq_MF2C_degraded_v2/bwa/mergedLibrary/macs/broadPeak/MV411_MEF2D_NT_SC_63_DMSO-MYC_R1_peaks.broadPeak...\n",
      "Copying gs://amlproject/Chip/chipseq_MF2C_degraded_v2/bwa/mergedLibrary/macs/broadPeak/MV411_MEF2D_NT_SC_63_DMSO-MYC_R1_peaks.gappedPeak...\n"
     ]
    },
    {
     "name": "stdout",
     "output_type": "stream",
     "text": [
      "Copying gs://amlproject/Chip/chipseq_MF2C_degraded_v2/bwa/mergedLibrary/macs/broadPeak/MV411_MEF2D_NT_SC_63_DMSO-MYC_R1_peaks.xls...\n",
      "Copying gs://amlproject/Chip/chipseq_MF2C_degraded_v2/bwa/mergedLibrary/macs/broadPeak/MV411_MEF2D_NT_SC_63_DMSO-POLII_total_R1_peaks.annotatePeaks.txt...\n",
      "Copying gs://amlproject/Chip/chipseq_MF2C_degraded_v2/bwa/mergedLibrary/macs/broadPeak/MV411_MEF2D_NT_SC_63_DMSO-POLII_total_R1_peaks.broadPeak...\n",
      "Copying gs://amlproject/Chip/chipseq_MF2C_degraded_v2/bwa/mergedLibrary/macs/broadPeak/MV411_MEF2D_NT_SC_63_DMSO-POLII_total_R1_peaks.gappedPeak...\n",
      "Copying gs://amlproject/Chip/chipseq_MF2C_degraded_v2/bwa/mergedLibrary/macs/broadPeak/MV411_MEF2D_NT_SC_63_DMSO-POLII_total_R1_peaks.xls...\n",
      "Copying gs://amlproject/Chip/chipseq_MF2C_degraded_v2/bwa/mergedLibrary/macs/broadPeak/MV411_MEF2D_NT_SC_63_VHL-FLAG_MEF2D_R1_peaks.annotatePeaks.txt...\n",
      "Copying gs://amlproject/Chip/chipseq_MF2C_degraded_v2/bwa/mergedLibrary/macs/broadPeak/MV411_MEF2D_NT_SC_63_VHL-FLAG_MEF2D_R1_peaks.broadPeak...\n",
      "Copying gs://amlproject/Chip/chipseq_MF2C_degraded_v2/bwa/mergedLibrary/macs/broadPeak/MV411_MEF2D_NT_SC_63_VHL-FLAG_MEF2D_R1_peaks.gappedPeak...\n",
      "Copying gs://amlproject/Chip/chipseq_MF2C_degraded_v2/bwa/mergedLibrary/macs/broadPeak/MV411_MEF2D_NT_SC_63_VHL-FLAG_MEF2D_R1_peaks.xls...\n",
      "Copying gs://amlproject/Chip/chipseq_MF2C_degraded_v2/bwa/mergedLibrary/macs/broadPeak/MV411_MEF2D_NT_SC_63_VHL-MED1_R1_peaks.annotatePeaks.txt...\n",
      "Copying gs://amlproject/Chip/chipseq_MF2C_degraded_v2/bwa/mergedLibrary/macs/broadPeak/MV411_MEF2D_NT_SC_63_VHL-MED1_R1_peaks.broadPeak...\n",
      "Copying gs://amlproject/Chip/chipseq_MF2C_degraded_v2/bwa/mergedLibrary/macs/broadPeak/MV411_MEF2D_NT_SC_63_VHL-MED1_R1_peaks.gappedPeak...\n",
      "Copying gs://amlproject/Chip/chipseq_MF2C_degraded_v2/bwa/mergedLibrary/macs/broadPeak/MV411_MEF2D_NT_SC_63_VHL-POLII_total_R1_peaks.xls...\n",
      "Copying gs://amlproject/Chip/chipseq_MF2C_degraded_v2/bwa/mergedLibrary/macs/broadPeak/MV411_MEF2D_NT_SC_63_VHL-MED1_R1_peaks.xls...\n",
      "Copying gs://amlproject/Chip/chipseq_MF2C_degraded_v2/bwa/mergedLibrary/macs/broadPeak/MV411_MEF2D_NT_SC_63_VHL-MEF2C_R1_peaks.annotatePeaks.txt...\n",
      "Copying gs://amlproject/Chip/chipseq_MF2C_degraded_v2/bwa/mergedLibrary/macs/broadPeak/MV411_MEF2D_NT_SC_63_VHL-MYC_R1_peaks.xls...\n",
      "Copying gs://amlproject/Chip/chipseq_MF2C_degraded_v2/bwa/mergedLibrary/macs/broadPeak/MV411_MEF2D_NT_SC_63_VHL-MEF2C_R1_peaks.gappedPeak...\n",
      "Copying gs://amlproject/Chip/chipseq_MF2C_degraded_v2/bwa/mergedLibrary/macs/broadPeak/MV411_MEF2D_NT_SC_63_VHL-MEF2C_R1_peaks.xls...\n",
      "Copying gs://amlproject/Chip/chipseq_MF2C_degraded_v2/bwa/mergedLibrary/macs/broadPeak/consensus/FLAG_MEF2D/FLAG_MEF2D.consensus_peaks.featureCounts.txt...\n",
      "Copying gs://amlproject/Chip/chipseq_MF2C_degraded_v2/bwa/mergedLibrary/macs/broadPeak/MV411_MEF2D_NT_SC_63_VHL-MYC_R1_peaks.broadPeak...\n",
      "Copying gs://amlproject/Chip/chipseq_MF2C_degraded_v2/bwa/mergedLibrary/macs/broadPeak/MV411_MEF2D_NT_SC_63_VHL-MYC_R1_peaks.annotatePeaks.txt...\n",
      "Copying gs://amlproject/Chip/chipseq_MF2C_degraded_v2/bwa/mergedLibrary/macs/broadPeak/MV411_MEF2D_NT_SC_63_VHL-POLII_total_R1_peaks.annotatePeaks.txt...\n",
      "Copying gs://amlproject/Chip/chipseq_MF2C_degraded_v2/bwa/mergedLibrary/macs/broadPeak/MV411_MEF2D_NT_SC_63_VHL-POLII_total_R1_peaks.broadPeak...\n",
      "Copying gs://amlproject/Chip/chipseq_MF2C_degraded_v2/bwa/mergedLibrary/macs/broadPeak/MV411_MEF2D_NT_SC_63_VHL-MYC_R1_peaks.gappedPeak...\n",
      "Copying gs://amlproject/Chip/chipseq_MF2C_degraded_v2/bwa/mergedLibrary/macs/broadPeak/MV411_MEF2D_NT_SC_63_VHL-POLII_total_R1_peaks.gappedPeak...\n",
      "Copying gs://amlproject/Chip/chipseq_MF2C_degraded_v2/bwa/mergedLibrary/macs/broadPeak/MV411_MEF2D_NT_SC_63_VHL-MEF2C_R1_peaks.broadPeak...\n",
      "Copying gs://amlproject/Chip/chipseq_MF2C_degraded_v2/bwa/mergedLibrary/macs/broadPeak/consensus/FLAG_MEF2D/FLAG_MEF2D.consensus_peaks.bed...\n",
      "Copying gs://amlproject/Chip/chipseq_MF2C_degraded_v2/bwa/mergedLibrary/macs/broadPeak/consensus/FLAG_MEF2D/FLAG_MEF2D.consensus_peaks.annotatePeaks.txt...\n",
      "Copying gs://amlproject/Chip/chipseq_MF2C_degraded_v2/bwa/mergedLibrary/macs/broadPeak/consensus/FLAG_MEF2D/FLAG_MEF2D.consensus_peaks.boolean.annotatePeaks.txt...\n",
      "Copying gs://amlproject/Chip/chipseq_MF2C_degraded_v2/bwa/mergedLibrary/macs/broadPeak/consensus/FLAG_MEF2D/FLAG_MEF2D.consensus_peaks.boolean.intersect.plot.pdf...\n",
      "Copying gs://amlproject/Chip/chipseq_MF2C_degraded_v2/bwa/mergedLibrary/macs/broadPeak/consensus/FLAG_MEF2D/FLAG_MEF2D.consensus_peaks.boolean.intersect.txt...\n",
      "Copying gs://amlproject/Chip/chipseq_MF2C_degraded_v2/bwa/mergedLibrary/macs/broadPeak/consensus/FLAG_MEF2D/FLAG_MEF2D.consensus_peaks.featureCounts.txt.summary...\n",
      "Copying gs://amlproject/Chip/chipseq_MF2C_degraded_v2/bwa/mergedLibrary/macs/broadPeak/consensus/FLAG_MEF2D/FLAG_MEF2D.consensus_peaks.saf...\n",
      "Copying gs://amlproject/Chip/chipseq_MF2C_degraded_v2/bwa/mergedLibrary/macs/broadPeak/consensus/MED1/MED1.consensus_peaks.annotatePeaks.txt...\n",
      "Copying gs://amlproject/Chip/chipseq_MF2C_degraded_v2/bwa/mergedLibrary/macs/broadPeak/consensus/MED1/MED1.consensus_peaks.boolean.annotatePeaks.txt...\n",
      "Copying gs://amlproject/Chip/chipseq_MF2C_degraded_v2/bwa/mergedLibrary/macs/broadPeak/consensus/MED1/MED1.consensus_peaks.boolean.intersect.plot.pdf...\n",
      "Copying gs://amlproject/Chip/chipseq_MF2C_degraded_v2/bwa/mergedLibrary/macs/broadPeak/consensus/MED1/MED1.consensus_peaks.boolean.intersect.txt...\n",
      "Copying gs://amlproject/Chip/chipseq_MF2C_degraded_v2/bwa/mergedLibrary/macs/broadPeak/consensus/MED1/MED1.consensus_peaks.boolean.txt...\n",
      "Copying gs://amlproject/Chip/chipseq_MF2C_degraded_v2/bwa/mergedLibrary/macs/broadPeak/consensus/FLAG_MEF2D/FLAG_MEF2D.consensus_peaks.boolean.txt...\n",
      "Copying gs://amlproject/Chip/chipseq_MF2C_degraded_v2/bwa/mergedLibrary/macs/broadPeak/consensus/MED1/MED1.consensus_peaks.bed...\n",
      "Copying gs://amlproject/Chip/chipseq_MF2C_degraded_v2/bwa/mergedLibrary/macs/broadPeak/consensus/MEF2C/MEF2C.consensus_peaks.bed...\n",
      "Copying gs://amlproject/Chip/chipseq_MF2C_degraded_v2/bwa/mergedLibrary/macs/broadPeak/consensus/MED1/MED1.consensus_peaks.featureCounts.txt.summary...\n",
      "Copying gs://amlproject/Chip/chipseq_MF2C_degraded_v2/bwa/mergedLibrary/macs/broadPeak/consensus/MEF2C/MEF2C.consensus_peaks.boolean.intersect.plot.pdf...\n",
      "Copying gs://amlproject/Chip/chipseq_MF2C_degraded_v2/bwa/mergedLibrary/macs/broadPeak/consensus/MYC/MYC.consensus_peaks.annotatePeaks.txt...\n",
      "Copying gs://amlproject/Chip/chipseq_MF2C_degraded_v2/bwa/mergedLibrary/macs/broadPeak/consensus/POLII_total/POLII_total.consensus_peaks.boolean.annotatePeaks.txt...\n",
      "Copying gs://amlproject/Chip/chipseq_MF2C_degraded_v2/bwa/mergedLibrary/macs/broadPeak/consensus/MED1/MED1.consensus_peaks.featureCounts.txt...\n",
      "Copying gs://amlproject/Chip/chipseq_MF2C_degraded_v2/bwa/mergedLibrary/macs/broadPeak/consensus/MED1/MED1.consensus_peaks.saf...\n",
      "Copying gs://amlproject/Chip/chipseq_MF2C_degraded_v2/bwa/mergedLibrary/macs/broadPeak/consensus/MEF2C/MEF2C.consensus_peaks.annotatePeaks.txt...\n",
      "Copying gs://amlproject/Chip/chipseq_MF2C_degraded_v2/bwa/mergedLibrary/macs/broadPeak/qc/MV411_MEF2D_NT_SC_63_DMSO-POLII_total_R1_peaks.count_mqc.tsv...\n",
      "Copying gs://amlproject/Chip/chipseq_MF2C_degraded_v2/bwa/mergedLibrary/macs/broadPeak/consensus/MEF2C/MEF2C.consensus_peaks.boolean.annotatePeaks.txt...\n",
      "Copying gs://amlproject/Chip/chipseq_MF2C_degraded_v2/bwa/mergedLibrary/macs/broadPeak/qc/MV411_MEF2D_NT_SC_63_VHL-FLAG_MEF2D_R1_peaks.FRiP_mqc.tsv...\n",
      "Copying gs://amlproject/Chip/chipseq_MF2C_degraded_v2/bwa/mergedLibrary/macs/broadPeak/consensus/MEF2C/MEF2C.consensus_peaks.featureCounts.txt.summary...\n",
      "Copying gs://amlproject/Chip/chipseq_MF2C_degraded_v2/bwa/mergedLibrary/macs/broadPeak/consensus/MEF2C/MEF2C.consensus_peaks.boolean.intersect.txt...\n",
      "Copying gs://amlproject/Chip/chipseq_MF2C_degraded_v2/bwa/mergedLibrary/macs/broadPeak/consensus/MEF2C/MEF2C.consensus_peaks.featureCounts.txt...\n",
      "Copying gs://amlproject/Chip/chipseq_MF2C_degraded_v2/bwa/mergedLibrary/macs/broadPeak/consensus/MYC/MYC.consensus_peaks.boolean.annotatePeaks.txt...\n",
      "Copying gs://amlproject/Chip/chipseq_MF2C_degraded_v2/bwa/mergedLibrary/macs/broadPeak/consensus/MYC/MYC.consensus_peaks.bed...\n",
      "Copying gs://amlproject/Chip/chipseq_MF2C_degraded_v2/bwa/mergedLibrary/macs/broadPeak/consensus/MEF2C/MEF2C.consensus_peaks.saf...\n",
      "Copying gs://amlproject/Chip/chipseq_MF2C_degraded_v2/bwa/mergedLibrary/macs/broadPeak/consensus/MEF2C/MEF2C.consensus_peaks.boolean.txt...\n",
      "Copying gs://amlproject/Chip/chipseq_MF2C_degraded_v2/bwa/mergedLibrary/macs/broadPeak/consensus/MYC/MYC.consensus_peaks.boolean.intersect.txt...\n",
      "Copying gs://amlproject/Chip/chipseq_MF2C_degraded_v2/bwa/mergedLibrary/macs/broadPeak/consensus/POLII_total/POLII_total.consensus_peaks.annotatePeaks.txt...\n",
      "Copying gs://amlproject/Chip/chipseq_MF2C_degraded_v2/bwa/mergedLibrary/macs/broadPeak/consensus/MYC/MYC.consensus_peaks.boolean.intersect.plot.pdf...\n",
      "Copying gs://amlproject/Chip/chipseq_MF2C_degraded_v2/bwa/mergedLibrary/macs/broadPeak/consensus/MYC/MYC.consensus_peaks.boolean.txt...\n",
      "Copying gs://amlproject/Chip/chipseq_MF2C_degraded_v2/bwa/mergedLibrary/macs/broadPeak/consensus/POLII_total/POLII_total.consensus_peaks.boolean.intersect.plot.pdf...\n",
      "Copying gs://amlproject/Chip/chipseq_MF2C_degraded_v2/bwa/mergedLibrary/macs/broadPeak/consensus/MYC/MYC.consensus_peaks.featureCounts.txt...\n",
      "Copying gs://amlproject/Chip/chipseq_MF2C_degraded_v2/bwa/mergedLibrary/macs/broadPeak/consensus/MYC/MYC.consensus_peaks.saf...\n",
      "Copying gs://amlproject/Chip/chipseq_MF2C_degraded_v2/bwa/mergedLibrary/macs/broadPeak/consensus/POLII_total/POLII_total.consensus_peaks.bed...\n",
      "Copying gs://amlproject/Chip/chipseq_MF2C_degraded_v2/bwa/mergedLibrary/macs/broadPeak/consensus/POLII_total/POLII_total.consensus_peaks.featureCounts.txt...\n",
      "Copying gs://amlproject/Chip/chipseq_MF2C_degraded_v2/bwa/mergedLibrary/macs/broadPeak/consensus/POLII_total/POLII_total.consensus_peaks.saf...\n",
      "Copying gs://amlproject/Chip/chipseq_MF2C_degraded_v2/bwa/mergedLibrary/macs/broadPeak/consensus/POLII_total/POLII_total.consensus_peaks.boolean.txt...\n"
     ]
    },
    {
     "name": "stdout",
     "output_type": "stream",
     "text": [
      "Copying gs://amlproject/Chip/chipseq_MF2C_degraded_v2/bwa/mergedLibrary/macs/broadPeak/consensus/POLII_total/POLII_total.consensus_peaks.featureCounts.txt.summary...\n",
      "Copying gs://amlproject/Chip/chipseq_MF2C_degraded_v2/bwa/mergedLibrary/macs/broadPeak/qc/MV411_MEF2D_NT_SC_63_VHL-FLAG_MEF2D_R1_peaks.count_mqc.tsv...\n",
      "Copying gs://amlproject/Chip/chipseq_MF2C_degraded_v2/bwa/mergedLibrary/macs/broadPeak/qc/MV411_MEF2D_NT_SC_63_DMSO-FLAG_MEF2D_R1_peaks.count_mqc.tsv...\n",
      "Copying gs://amlproject/Chip/chipseq_MF2C_degraded_v2/bwa/mergedLibrary/macs/broadPeak/consensus/POLII_total/POLII_total.consensus_peaks.boolean.intersect.txt...\n",
      "Copying gs://amlproject/Chip/chipseq_MF2C_degraded_v2/bwa/mergedLibrary/macs/broadPeak/qc/MV411_MEF2D_NT_SC_63_DMSO-FLAG_MEF2D_R1_peaks.FRiP_mqc.tsv...\n",
      "Copying gs://amlproject/Chip/chipseq_MF2C_degraded_v2/bwa/mergedLibrary/macs/broadPeak/qc/MV411_MEF2D_NT_SC_63_DMSO-MED1_R1_peaks.count_mqc.tsv...\n",
      "Copying gs://amlproject/Chip/chipseq_MF2C_degraded_v2/bwa/mergedLibrary/macs/broadPeak/qc/MV411_MEF2D_NT_SC_63_DMSO-MED1_R1_peaks.FRiP_mqc.tsv...\n",
      "Copying gs://amlproject/Chip/chipseq_MF2C_degraded_v2/bwa/mergedLibrary/macs/broadPeak/qc/MV411_MEF2D_NT_SC_63_DMSO-MEF2C_R1_peaks.FRiP_mqc.tsv...\n",
      "Copying gs://amlproject/Chip/chipseq_MF2C_degraded_v2/bwa/mergedLibrary/macs/broadPeak/qc/MV411_MEF2D_NT_SC_63_DMSO-MEF2C_R1_peaks.count_mqc.tsv...\n",
      "Copying gs://amlproject/Chip/chipseq_MF2C_degraded_v2/bwa/mergedLibrary/macs/broadPeak/qc/MV411_MEF2D_NT_SC_63_DMSO-MYC_R1_peaks.FRiP_mqc.tsv...\n",
      "Copying gs://amlproject/Chip/chipseq_MF2C_degraded_v2/bwa/mergedLibrary/macs/broadPeak/qc/MV411_MEF2D_NT_SC_63_DMSO-MYC_R1_peaks.count_mqc.tsv...\n",
      "Copying gs://amlproject/Chip/chipseq_MF2C_degraded_v2/bwa/mergedLibrary/macs/broadPeak/consensus/MYC/MYC.consensus_peaks.featureCounts.txt.summary...\n",
      "Copying gs://amlproject/Chip/chipseq_MF2C_degraded_v2/bwa/mergedLibrary/macs/broadPeak/qc/MV411_MEF2D_NT_SC_63_DMSO-POLII_total_R1_peaks.FRiP_mqc.tsv...\n",
      "Copying gs://amlproject/Chip/chipseq_MF2C_degraded_v2/bwa/mergedLibrary/macs/broadPeak/qc/MV411_MEF2D_NT_SC_63_VHL-MED1_R1_peaks.count_mqc.tsv...\n",
      "Copying gs://amlproject/Chip/chipseq_MF2C_degraded_v2/bwa/mergedLibrary/macs/broadPeak/qc/MV411_MEF2D_NT_SC_63_VHL-MEF2C_R1_peaks.FRiP_mqc.tsv...\n",
      "Copying gs://amlproject/Chip/chipseq_MF2C_degraded_v2/bwa/mergedLibrary/macs/broadPeak/qc/MV411_MEF2D_NT_SC_63_VHL-MED1_R1_peaks.FRiP_mqc.tsv...\n",
      "Copying gs://amlproject/Chip/chipseq_MF2C_degraded_v2/bwa/mergedLibrary/macs/broadPeak/qc/MV411_MEF2D_NT_SC_63_VHL-MEF2C_R1_peaks.count_mqc.tsv...\n",
      "Copying gs://amlproject/Chip/chipseq_MF2C_degraded_v2/bwa/mergedLibrary/macs/broadPeak/qc/MV411_MEF2D_NT_SC_63_VHL-MYC_R1_peaks.FRiP_mqc.tsv...\n",
      "Copying gs://amlproject/Chip/chipseq_MF2C_degraded_v2/bwa/mergedLibrary/macs/broadPeak/qc/MV411_MEF2D_NT_SC_63_VHL-MYC_R1_peaks.count_mqc.tsv...\n",
      "Copying gs://amlproject/Chip/chipseq_MF2C_degraded_v2/bwa/mergedLibrary/macs/broadPeak/qc/MV411_MEF2D_NT_SC_63_VHL-POLII_total_R1_peaks.FRiP_mqc.tsv...\n",
      "Copying gs://amlproject/Chip/chipseq_MF2C_degraded_v2/bwa/mergedLibrary/macs/broadPeak/qc/MV411_MEF2D_NT_SC_63_VHL-POLII_total_R1_peaks.count_mqc.tsv...\n",
      "Copying gs://amlproject/Chip/chipseq_MF2C_degraded_v2/bwa/mergedLibrary/macs/broadPeak/qc/macs_annotatePeaks.plots.pdf...\n",
      "Copying gs://amlproject/Chip/chipseq_MF2C_degraded_v2/bwa/mergedLibrary/macs/broadPeak/qc/macs_annotatePeaks.summary_mqc.tsv...\n",
      "Copying gs://amlproject/Chip/chipseq_MF2C_degraded_v2/bwa/mergedLibrary/macs/broadPeak/qc/macs_annotatePeaks.summary.txt...\n",
      "Copying gs://amlproject/Chip/chipseq_MF2C_degraded_v2/bwa/mergedLibrary/macs/broadPeak/qc/macs_peak.plots.pdf...\n",
      "Copying gs://amlproject/Chip/chipseq_MF2C_degraded_v2/bwa/mergedLibrary/macs/broadPeak/qc/macs_peak.summary.txt...\n",
      "/ [110/110 files][283.8 MiB/283.8 MiB] 100% Done                                \n",
      "Operation completed over 110 objects/283.8 MiB.                                  \n"
     ]
    }
   ],
   "source": [
    "h.createFoldersFor('../../data/'+project+'/bwa/mergedLibrary/')\n",
    "!gsutil -m cp gs://amlproject/Chip/$project/bwa/mergedLibrary/*.ba* ../../data/$project/bwa/mergedLibrary/\n",
    "! gsutil -m cp -r gs://amlproject/Chip/$project/bwa/mergedLibrary/bigwig/ ../../data/$project/bwa/mergedLibrary/\n",
    "! gsutil  -m cp -r gs://amlproject/Chip/$project/bwa/mergedLibrary/macs/ ../../data/$project/bwa/mergedLibrary/"
   ]
  },
  {
   "cell_type": "markdown",
   "metadata": {},
   "source": [
    "computing scales from the excel sheet"
   ]
  },
  {
   "cell_type": "code",
   "execution_count": 380,
   "metadata": {},
   "outputs": [],
   "source": [
    "scales = [\n",
    "1.00,\n",
    "0.79,\n",
    "1.00,\n",
    "0.86,\n",
    "0.26,\n",
    "    \n",
    "0.79,\n",
    "1.00,\n",
    "0.83,\n",
    "1.00,\n",
    "1.00,\n",
    "         ]"
   ]
  },
  {
   "cell_type": "code",
   "execution_count": 381,
   "metadata": {
    "scrolled": true
   },
   "outputs": [
    {
     "data": {
      "text/plain": [
       "['../../data/chipseq_MF2C_degraded_v2/bwa/mergedLibrary/INPUT_R1.mLb.clN.sorted.bam',\n",
       " '../../data/chipseq_MF2C_degraded_v2/bwa/mergedLibrary/MV411_MEF2D_NT_SC_63_DMSO-FLAG_MEF2D_R1.mLb.clN.sorted.bam',\n",
       " '../../data/chipseq_MF2C_degraded_v2/bwa/mergedLibrary/MV411_MEF2D_NT_SC_63_DMSO-MED1_R1.mLb.clN.sorted.bam',\n",
       " '../../data/chipseq_MF2C_degraded_v2/bwa/mergedLibrary/MV411_MEF2D_NT_SC_63_DMSO-MEF2C_R1.mLb.clN.sorted.bam',\n",
       " '../../data/chipseq_MF2C_degraded_v2/bwa/mergedLibrary/MV411_MEF2D_NT_SC_63_DMSO-MYC_R1.mLb.clN.sorted.bam',\n",
       " '../../data/chipseq_MF2C_degraded_v2/bwa/mergedLibrary/MV411_MEF2D_NT_SC_63_DMSO-POLII_total_R1.mLb.clN.sorted.bam',\n",
       " '../../data/chipseq_MF2C_degraded_v2/bwa/mergedLibrary/MV411_MEF2D_NT_SC_63_VHL-FLAG_MEF2D_R1.mLb.clN.sorted.bam',\n",
       " '../../data/chipseq_MF2C_degraded_v2/bwa/mergedLibrary/MV411_MEF2D_NT_SC_63_VHL-MED1_R1.mLb.clN.sorted.bam',\n",
       " '../../data/chipseq_MF2C_degraded_v2/bwa/mergedLibrary/MV411_MEF2D_NT_SC_63_VHL-MEF2C_R1.mLb.clN.sorted.bam',\n",
       " '../../data/chipseq_MF2C_degraded_v2/bwa/mergedLibrary/MV411_MEF2D_NT_SC_63_VHL-MYC_R1.mLb.clN.sorted.bam',\n",
       " '../../data/chipseq_MF2C_degraded_v2/bwa/mergedLibrary/MV411_MEF2D_NT_SC_63_VHL-POLII_total_R1.mLb.clN.sorted.bam']"
      ]
     },
     "execution_count": 381,
     "metadata": {},
     "output_type": "execute_result"
    }
   ],
   "source": [
    "bams = ! ls ../../data/$project/bwa/mergedLibrary/*.bam\n",
    "bams"
   ]
  },
  {
   "cell_type": "code",
   "execution_count": 395,
   "metadata": {},
   "outputs": [],
   "source": [
    "names = [\"FLAG_MEF2D\",\"MED1\",\"MEF2C\",\"MYC\",\"POLII_total\"]"
   ]
  },
  {
   "cell_type": "markdown",
   "metadata": {},
   "source": [
    "### on scalled data"
   ]
  },
  {
   "cell_type": "code",
   "execution_count": 382,
   "metadata": {},
   "outputs": [],
   "source": [
    "! mkdir ../../data/$project/diffPeaks/ && ! mkdir ../../data/$project/diffData/"
   ]
  },
  {
   "cell_type": "code",
   "execution_count": 383,
   "metadata": {},
   "outputs": [
    {
     "data": {
      "text/plain": [
       "['../../data/chipseq_MF2C_degraded_v2/bwa/mergedLibrary/bigwig/INPUT_R1.bigWig',\n",
       " '../../data/chipseq_MF2C_degraded_v2/bwa/mergedLibrary/bigwig/MV411_MEF2D_NT_SC_63_DMSO-FLAG_MEF2D_R1.bigWig',\n",
       " '../../data/chipseq_MF2C_degraded_v2/bwa/mergedLibrary/bigwig/MV411_MEF2D_NT_SC_63_DMSO-MED1_R1.bigWig',\n",
       " '../../data/chipseq_MF2C_degraded_v2/bwa/mergedLibrary/bigwig/MV411_MEF2D_NT_SC_63_DMSO-MEF2C_R1.bigWig',\n",
       " '../../data/chipseq_MF2C_degraded_v2/bwa/mergedLibrary/bigwig/MV411_MEF2D_NT_SC_63_DMSO-MYC_R1.bigWig',\n",
       " '../../data/chipseq_MF2C_degraded_v2/bwa/mergedLibrary/bigwig/MV411_MEF2D_NT_SC_63_DMSO-POLII_total_R1.bigWig',\n",
       " '../../data/chipseq_MF2C_degraded_v2/bwa/mergedLibrary/bigwig/MV411_MEF2D_NT_SC_63_VHL-FLAG_MEF2D_R1.bigWig',\n",
       " '../../data/chipseq_MF2C_degraded_v2/bwa/mergedLibrary/bigwig/MV411_MEF2D_NT_SC_63_VHL-MED1_R1.bigWig',\n",
       " '../../data/chipseq_MF2C_degraded_v2/bwa/mergedLibrary/bigwig/MV411_MEF2D_NT_SC_63_VHL-MEF2C_R1.bigWig',\n",
       " '../../data/chipseq_MF2C_degraded_v2/bwa/mergedLibrary/bigwig/MV411_MEF2D_NT_SC_63_VHL-MYC_R1.bigWig',\n",
       " '../../data/chipseq_MF2C_degraded_v2/bwa/mergedLibrary/bigwig/MV411_MEF2D_NT_SC_63_VHL-POLII_total_R1.bigWig']"
      ]
     },
     "execution_count": 383,
     "metadata": {},
     "output_type": "execute_result"
    }
   ],
   "source": [
    "wigs = ! ls ../../data/$project/bwa/mergedLibrary/bigwig/*.bigWig\n",
    "wigs"
   ]
  },
  {
   "cell_type": "code",
   "execution_count": 385,
   "metadata": {
    "scrolled": true
   },
   "outputs": [
    {
     "name": "stdout",
     "output_type": "stream",
     "text": [
      "../../data/chipseq_MF2C_degraded_v2/bwa/mergedLibrary/MV411_MEF2D_NT_SC_63_DMSO-FLAG_MEF2D_R1.mLb.clN.sorted.bam ../../data/chipseq_MF2C_degraded_v2/bwa/mergedLibrary/MV411_MEF2D_NT_SC_63_VHL-FLAG_MEF2D_R1.mLb.clN.sorted.bam\n",
      "doing diff from ../../data/chipseq_MF2C_degraded_v2/bwa/mergedLibrary/MV411_MEF2D_NT_SC_63_DMSO-FLAG_MEF2D_R1.mLb.clN.sorted.bam and ../../data/chipseq_MF2C_degraded_v2/bwa/mergedLibrary/MV411_MEF2D_NT_SC_63_VHL-FLAG_MEF2D_R1.mLb.clN.sorted.bam\n",
      "computing the fragment avg size\n",
      "191\n",
      "computing the scaling values\n",
      "b'INFO  @ Wed, 13 Jan 2021 19:19:39: \\n# Command line: callpeak -B -t ../../data/chipseq_MF2C_degraded_v2/bwa/mergedLibrary/MV411_MEF2D_NT_SC_63_DMSO-FLAG_MEF2D_R1.mLb.clN.sorted.bam -c ../../data/chipseq_MF2C_degraded_v2/bwa/mergedLibrary/INPUT_R1.mLb.clN.sorted.bam --nomodel --extsize 191 -n MV411_MEF2D_NT_SC_63_DMSO-FLAG_MEF2D_R1 --outdir ../../data/chipseq_MF2C_degraded_v2/diffData/ -f BAMPE\\n# ARGUMENTS LIST:\\n# name = MV411_MEF2D_NT_SC_63_DMSO-FLAG_MEF2D_R1\\n# format = BAMPE\\n# ChIP-seq file = [\\'../../data/chipseq_MF2C_degraded_v2/bwa/mergedLibrary/MV411_MEF2D_NT_SC_63_DMSO-FLAG_MEF2D_R1.mLb.clN.sorted.bam\\']\\n# control file = [\\'../../data/chipseq_MF2C_degraded_v2/bwa/mergedLibrary/INPUT_R1.mLb.clN.sorted.bam\\']\\n# effective genome size = 2.70e+09\\n# band width = 300\\n# model fold = [5, 50]\\n# qvalue cutoff = 5.00e-02\\n# The maximum gap between significant sites is assigned as the read length/tag size.\\n# The minimum length of peaks is assigned as the predicted fragment length \"d\".\\n# Larger dataset will be scaled towards smaller dataset.\\n# Range for calculating regional lambda is: 1000 bps and 10000 bps\\n# Broad region calling is off\\n# Paired-End mode is on\\n \\nINFO  @ Wed, 13 Jan 2021 19:19:39: #1 read fragment files... \\nINFO  @ Wed, 13 Jan 2021 19:19:39: #1 read treatment fragments... \\nINFO  @ Wed, 13 Jan 2021 19:19:44:  1000000 \\nINFO  @ Wed, 13 Jan 2021 19:19:49:  2000000 \\nINFO  @ Wed, 13 Jan 2021 19:19:54:  3000000 \\nINFO  @ Wed, 13 Jan 2021 19:19:59:  4000000 \\nINFO  @ Wed, 13 Jan 2021 19:20:04:  5000000 \\nINFO  @ Wed, 13 Jan 2021 19:20:09:  6000000 \\nINFO  @ Wed, 13 Jan 2021 19:20:14:  7000000 \\nINFO  @ Wed, 13 Jan 2021 19:20:19:  8000000 \\nINFO  @ Wed, 13 Jan 2021 19:20:24:  9000000 \\nINFO  @ Wed, 13 Jan 2021 19:20:29:  10000000 \\nINFO  @ Wed, 13 Jan 2021 19:20:34:  11000000 \\nINFO  @ Wed, 13 Jan 2021 19:20:39:  12000000 \\nINFO  @ Wed, 13 Jan 2021 19:20:44:  13000000 \\nINFO  @ Wed, 13 Jan 2021 19:20:49:  14000000 \\nINFO  @ Wed, 13 Jan 2021 19:20:54:  15000000 \\nINFO  @ Wed, 13 Jan 2021 19:21:00:  16000000 \\nINFO  @ Wed, 13 Jan 2021 19:21:05:  17000000 \\nINFO  @ Wed, 13 Jan 2021 19:21:10:  18000000 \\nINFO  @ Wed, 13 Jan 2021 19:21:15:  19000000 \\nINFO  @ Wed, 13 Jan 2021 19:21:20:  20000000 \\nINFO  @ Wed, 13 Jan 2021 19:21:26:  21000000 \\nINFO  @ Wed, 13 Jan 2021 19:21:31:  22000000 \\nINFO  @ Wed, 13 Jan 2021 19:21:36:  23000000 \\nINFO  @ Wed, 13 Jan 2021 19:21:39: 23613683 fragments have been read. \\nINFO  @ Wed, 13 Jan 2021 19:21:52: #1.2 read input fragments... \\nINFO  @ Wed, 13 Jan 2021 19:21:56:  1000000 \\nINFO  @ Wed, 13 Jan 2021 19:22:00:  2000000 \\nINFO  @ Wed, 13 Jan 2021 19:22:04:  3000000 \\nINFO  @ Wed, 13 Jan 2021 19:22:07:  4000000 \\nINFO  @ Wed, 13 Jan 2021 19:22:11:  5000000 \\nINFO  @ Wed, 13 Jan 2021 19:22:15:  6000000 \\nINFO  @ Wed, 13 Jan 2021 19:22:19:  7000000 \\nINFO  @ Wed, 13 Jan 2021 19:22:22:  8000000 \\nINFO  @ Wed, 13 Jan 2021 19:22:26:  9000000 \\nINFO  @ Wed, 13 Jan 2021 19:22:30:  10000000 \\nINFO  @ Wed, 13 Jan 2021 19:22:34:  11000000 \\nINFO  @ Wed, 13 Jan 2021 19:22:38:  12000000 \\nINFO  @ Wed, 13 Jan 2021 19:22:41:  13000000 \\nINFO  @ Wed, 13 Jan 2021 19:22:45:  14000000 \\nINFO  @ Wed, 13 Jan 2021 19:22:49:  15000000 \\nINFO  @ Wed, 13 Jan 2021 19:22:53:  16000000 \\nINFO  @ Wed, 13 Jan 2021 19:22:56:  17000000 \\nINFO  @ Wed, 13 Jan 2021 19:23:00:  18000000 \\nINFO  @ Wed, 13 Jan 2021 19:23:04:  19000000 \\nINFO  @ Wed, 13 Jan 2021 19:23:08:  20000000 \\nINFO  @ Wed, 13 Jan 2021 19:23:12:  21000000 \\nINFO  @ Wed, 13 Jan 2021 19:23:16:  22000000 \\nINFO  @ Wed, 13 Jan 2021 19:23:20:  23000000 \\nINFO  @ Wed, 13 Jan 2021 19:23:24:  24000000 \\nINFO  @ Wed, 13 Jan 2021 19:23:27:  25000000 \\nINFO  @ Wed, 13 Jan 2021 19:23:31:  26000000 \\nINFO  @ Wed, 13 Jan 2021 19:23:35:  27000000 \\nINFO  @ Wed, 13 Jan 2021 19:23:39:  28000000 \\nINFO  @ Wed, 13 Jan 2021 19:23:43:  29000000 \\nINFO  @ Wed, 13 Jan 2021 19:23:47:  30000000 \\nINFO  @ Wed, 13 Jan 2021 19:23:50:  31000000 \\nINFO  @ Wed, 13 Jan 2021 19:23:54:  32000000 \\nINFO  @ Wed, 13 Jan 2021 19:23:58:  33000000 \\nINFO  @ Wed, 13 Jan 2021 19:24:02:  34000000 \\nINFO  @ Wed, 13 Jan 2021 19:24:06:  35000000 \\nINFO  @ Wed, 13 Jan 2021 19:24:09:  36000000 \\nINFO  @ Wed, 13 Jan 2021 19:24:13:  37000000 \\nINFO  @ Wed, 13 Jan 2021 19:24:17:  38000000 \\nINFO  @ Wed, 13 Jan 2021 19:24:21:  39000000 \\nINFO  @ Wed, 13 Jan 2021 19:24:25:  40000000 \\nINFO  @ Wed, 13 Jan 2021 19:24:29:  41000000 \\nINFO  @ Wed, 13 Jan 2021 19:24:33:  42000000 \\nINFO  @ Wed, 13 Jan 2021 19:24:36:  43000000 \\nINFO  @ Wed, 13 Jan 2021 19:24:40:  44000000 \\nINFO  @ Wed, 13 Jan 2021 19:24:44:  45000000 \\nINFO  @ Wed, 13 Jan 2021 19:24:48:  46000000 \\nINFO  @ Wed, 13 Jan 2021 19:24:52:  47000000 \\nINFO  @ Wed, 13 Jan 2021 19:24:56:  48000000 \\nINFO  @ Wed, 13 Jan 2021 19:24:59:  49000000 \\nINFO  @ Wed, 13 Jan 2021 19:25:03:  50000000 \\nINFO  @ Wed, 13 Jan 2021 19:25:07:  51000000 \\nINFO  @ Wed, 13 Jan 2021 19:25:11:  52000000 \\nINFO  @ Wed, 13 Jan 2021 19:25:15:  53000000 \\nINFO  @ Wed, 13 Jan 2021 19:25:18:  54000000 \\nINFO  @ Wed, 13 Jan 2021 19:25:22:  55000000 \\nINFO  @ Wed, 13 Jan 2021 19:25:26:  56000000 \\nINFO  @ Wed, 13 Jan 2021 19:25:30:  57000000 \\nINFO  @ Wed, 13 Jan 2021 19:25:34:  58000000 \\nINFO  @ Wed, 13 Jan 2021 19:25:38:  59000000 \\nINFO  @ Wed, 13 Jan 2021 19:25:41:  60000000 \\nINFO  @ Wed, 13 Jan 2021 19:25:45:  61000000 \\nINFO  @ Wed, 13 Jan 2021 19:25:49:  62000000 \\nINFO  @ Wed, 13 Jan 2021 19:25:53:  63000000 \\nINFO  @ Wed, 13 Jan 2021 19:25:57:  64000000 \\nINFO  @ Wed, 13 Jan 2021 19:26:01:  65000000 \\nINFO  @ Wed, 13 Jan 2021 19:26:05:  66000000 \\nINFO  @ Wed, 13 Jan 2021 19:26:07: 66660428 fragments have been read. \\nINFO  @ Wed, 13 Jan 2021 19:26:51: #1 mean fragment size is determined as 215.0 bp from treatment \\nINFO  @ Wed, 13 Jan 2021 19:26:51: #1 note: mean fragment size in control is 218.7 bp -- value ignored \\nINFO  @ Wed, 13 Jan 2021 19:26:51: #1 fragment size = 215.0 \\nINFO  @ Wed, 13 Jan 2021 19:26:51: #1  total fragments in treatment: 23613683 \\nINFO  @ Wed, 13 Jan 2021 19:26:51: #1 user defined the maximum fragments... \\nINFO  @ Wed, 13 Jan 2021 19:26:51: #1 filter out redundant fragments by allowing at most 1 identical fragment(s) \\nINFO  @ Wed, 13 Jan 2021 19:27:32: #1  fragments after filtering in treatment: 23608104 \\nINFO  @ Wed, 13 Jan 2021 19:27:32: #1  Redundant rate of treatment: 0.00 \\nINFO  @ Wed, 13 Jan 2021 19:27:32: #1  total fragments in control: 66660428 \\nINFO  @ Wed, 13 Jan 2021 19:27:32: #1 user defined the maximum fragments... \\nINFO  @ Wed, 13 Jan 2021 19:27:32: #1 filter out redundant fragments by allowing at most 1 identical fragment(s) \\nINFO  @ Wed, 13 Jan 2021 19:29:29: #1  fragments after filtering in control: 66632618 \\nINFO  @ Wed, 13 Jan 2021 19:29:29: #1  Redundant rate of control: 0.00 \\nINFO  @ Wed, 13 Jan 2021 19:29:29: #1 finished! \\nINFO  @ Wed, 13 Jan 2021 19:29:29: #2 Build Peak Model... \\nINFO  @ Wed, 13 Jan 2021 19:29:29: #2 Skipped... \\nINFO  @ Wed, 13 Jan 2021 19:29:29: #3 Call peaks... \\nINFO  @ Wed, 13 Jan 2021 19:29:29: #3 Pre-compute pvalue-qvalue table... \\nINFO  @ Wed, 13 Jan 2021 19:39:08: #3 In the peak calling step, the following will be performed simultaneously: \\nINFO  @ Wed, 13 Jan 2021 19:39:08: #3   Write bedGraph files for treatment pileup (after scaling if necessary)... MV411_MEF2D_NT_SC_63_DMSO-FLAG_MEF2D_R1_treat_pileup.bdg \\nINFO  @ Wed, 13 Jan 2021 19:39:08: #3   Write bedGraph files for control lambda (after scaling if necessary)... MV411_MEF2D_NT_SC_63_DMSO-FLAG_MEF2D_R1_control_lambda.bdg \\nINFO  @ Wed, 13 Jan 2021 19:39:08: #3   Pileup will be based on sequencing depth in treatment. \\nINFO  @ Wed, 13 Jan 2021 19:39:08: #3 Call peaks for each chromosome... \\nINFO  @ Wed, 13 Jan 2021 19:45:12: #4 Write output xls file... ../../data/chipseq_MF2C_degraded_v2/diffData/MV411_MEF2D_NT_SC_63_DMSO-FLAG_MEF2D_R1_peaks.xls \\nINFO  @ Wed, 13 Jan 2021 19:45:12: #4 Write peak in narrowPeak format file... ../../data/chipseq_MF2C_degraded_v2/diffData/MV411_MEF2D_NT_SC_63_DMSO-FLAG_MEF2D_R1_peaks.narrowPeak \\nINFO  @ Wed, 13 Jan 2021 19:45:12: #4 Write summits bed file... ../../data/chipseq_MF2C_degraded_v2/diffData/MV411_MEF2D_NT_SC_63_DMSO-FLAG_MEF2D_R1_summits.bed \\nINFO  @ Wed, 13 Jan 2021 19:45:12: Done! \\n'\n"
     ]
    },
    {
     "name": "stdout",
     "output_type": "stream",
     "text": [
      "197\n",
      "computing the scaling values\n",
      "b'INFO  @ Wed, 13 Jan 2021 20:31:09: \\n# Command line: callpeak -B -t ../../data/chipseq_MF2C_degraded_v2/bwa/mergedLibrary/MV411_MEF2D_NT_SC_63_DMSO-MED1_R1.mLb.clN.sorted.bam -c ../../data/chipseq_MF2C_degraded_v2/bwa/mergedLibrary/INPUT_R1.mLb.clN.sorted.bam --nomodel --extsize 197 -n MV411_MEF2D_NT_SC_63_DMSO-MED1_R1 --outdir ../../data/chipseq_MF2C_degraded_v2/diffData/ -f BAMPE\\n# ARGUMENTS LIST:\\n# name = MV411_MEF2D_NT_SC_63_DMSO-MED1_R1\\n# format = BAMPE\\n# ChIP-seq file = [\\'../../data/chipseq_MF2C_degraded_v2/bwa/mergedLibrary/MV411_MEF2D_NT_SC_63_DMSO-MED1_R1.mLb.clN.sorted.bam\\']\\n# control file = [\\'../../data/chipseq_MF2C_degraded_v2/bwa/mergedLibrary/INPUT_R1.mLb.clN.sorted.bam\\']\\n# effective genome size = 2.70e+09\\n# band width = 300\\n# model fold = [5, 50]\\n# qvalue cutoff = 5.00e-02\\n# The maximum gap between significant sites is assigned as the read length/tag size.\\n# The minimum length of peaks is assigned as the predicted fragment length \"d\".\\n# Larger dataset will be scaled towards smaller dataset.\\n# Range for calculating regional lambda is: 1000 bps and 10000 bps\\n# Broad region calling is off\\n# Paired-End mode is on\\n \\nINFO  @ Wed, 13 Jan 2021 20:31:09: #1 read fragment files... \\nINFO  @ Wed, 13 Jan 2021 20:31:09: #1 read treatment fragments... \\nINFO  @ Wed, 13 Jan 2021 20:31:14:  1000000 \\nINFO  @ Wed, 13 Jan 2021 20:31:19:  2000000 \\nINFO  @ Wed, 13 Jan 2021 20:31:24:  3000000 \\nINFO  @ Wed, 13 Jan 2021 20:31:29:  4000000 \\nINFO  @ Wed, 13 Jan 2021 20:31:34:  5000000 \\nINFO  @ Wed, 13 Jan 2021 20:31:39:  6000000 \\nINFO  @ Wed, 13 Jan 2021 20:31:44:  7000000 \\nINFO  @ Wed, 13 Jan 2021 20:31:49:  8000000 \\nINFO  @ Wed, 13 Jan 2021 20:31:54:  9000000 \\nINFO  @ Wed, 13 Jan 2021 20:31:59:  10000000 \\nINFO  @ Wed, 13 Jan 2021 20:32:04:  11000000 \\nINFO  @ Wed, 13 Jan 2021 20:32:09:  12000000 \\nINFO  @ Wed, 13 Jan 2021 20:32:14:  13000000 \\nINFO  @ Wed, 13 Jan 2021 20:32:19:  14000000 \\nINFO  @ Wed, 13 Jan 2021 20:32:24:  15000000 \\nINFO  @ Wed, 13 Jan 2021 20:32:29:  16000000 \\nINFO  @ Wed, 13 Jan 2021 20:32:34:  17000000 \\nINFO  @ Wed, 13 Jan 2021 20:32:39:  18000000 \\nINFO  @ Wed, 13 Jan 2021 20:32:44:  19000000 \\nINFO  @ Wed, 13 Jan 2021 20:32:49:  20000000 \\nINFO  @ Wed, 13 Jan 2021 20:32:54:  21000000 \\nINFO  @ Wed, 13 Jan 2021 20:32:59:  22000000 \\nINFO  @ Wed, 13 Jan 2021 20:33:04:  23000000 \\nINFO  @ Wed, 13 Jan 2021 20:33:05: 23141768 fragments have been read. \\nINFO  @ Wed, 13 Jan 2021 20:33:18: #1.2 read input fragments... \\nINFO  @ Wed, 13 Jan 2021 20:33:22:  1000000 \\nINFO  @ Wed, 13 Jan 2021 20:33:26:  2000000 \\nINFO  @ Wed, 13 Jan 2021 20:33:30:  3000000 \\nINFO  @ Wed, 13 Jan 2021 20:33:34:  4000000 \\nINFO  @ Wed, 13 Jan 2021 20:33:38:  5000000 \\nINFO  @ Wed, 13 Jan 2021 20:33:42:  6000000 \\nINFO  @ Wed, 13 Jan 2021 20:33:46:  7000000 \\nINFO  @ Wed, 13 Jan 2021 20:33:50:  8000000 \\nINFO  @ Wed, 13 Jan 2021 20:33:54:  9000000 \\nINFO  @ Wed, 13 Jan 2021 20:33:58:  10000000 \\nINFO  @ Wed, 13 Jan 2021 20:34:02:  11000000 \\nINFO  @ Wed, 13 Jan 2021 20:34:06:  12000000 \\nINFO  @ Wed, 13 Jan 2021 20:34:10:  13000000 \\nINFO  @ Wed, 13 Jan 2021 20:34:14:  14000000 \\nINFO  @ Wed, 13 Jan 2021 20:34:18:  15000000 \\nINFO  @ Wed, 13 Jan 2021 20:34:22:  16000000 \\nINFO  @ Wed, 13 Jan 2021 20:34:26:  17000000 \\nINFO  @ Wed, 13 Jan 2021 20:34:30:  18000000 \\nINFO  @ Wed, 13 Jan 2021 20:34:34:  19000000 \\nINFO  @ Wed, 13 Jan 2021 20:34:38:  20000000 \\nINFO  @ Wed, 13 Jan 2021 20:34:42:  21000000 \\nINFO  @ Wed, 13 Jan 2021 20:34:46:  22000000 \\nINFO  @ Wed, 13 Jan 2021 20:34:50:  23000000 \\nINFO  @ Wed, 13 Jan 2021 20:34:53:  24000000 \\nINFO  @ Wed, 13 Jan 2021 20:34:57:  25000000 \\nINFO  @ Wed, 13 Jan 2021 20:35:01:  26000000 \\nINFO  @ Wed, 13 Jan 2021 20:35:05:  27000000 \\nINFO  @ Wed, 13 Jan 2021 20:35:09:  28000000 \\nINFO  @ Wed, 13 Jan 2021 20:35:13:  29000000 \\nINFO  @ Wed, 13 Jan 2021 20:35:16:  30000000 \\nINFO  @ Wed, 13 Jan 2021 20:35:20:  31000000 \\nINFO  @ Wed, 13 Jan 2021 20:35:24:  32000000 \\nINFO  @ Wed, 13 Jan 2021 20:35:28:  33000000 \\nINFO  @ Wed, 13 Jan 2021 20:35:32:  34000000 \\nINFO  @ Wed, 13 Jan 2021 20:35:36:  35000000 \\nINFO  @ Wed, 13 Jan 2021 20:35:40:  36000000 \\nINFO  @ Wed, 13 Jan 2021 20:35:43:  37000000 \\nINFO  @ Wed, 13 Jan 2021 20:35:47:  38000000 \\nINFO  @ Wed, 13 Jan 2021 20:35:51:  39000000 \\nINFO  @ Wed, 13 Jan 2021 20:35:55:  40000000 \\nINFO  @ Wed, 13 Jan 2021 20:35:59:  41000000 \\nINFO  @ Wed, 13 Jan 2021 20:36:03:  42000000 \\nINFO  @ Wed, 13 Jan 2021 20:36:06:  43000000 \\nINFO  @ Wed, 13 Jan 2021 20:36:10:  44000000 \\nINFO  @ Wed, 13 Jan 2021 20:36:14:  45000000 \\nINFO  @ Wed, 13 Jan 2021 20:36:18:  46000000 \\nINFO  @ Wed, 13 Jan 2021 20:36:22:  47000000 \\nINFO  @ Wed, 13 Jan 2021 20:36:26:  48000000 \\nINFO  @ Wed, 13 Jan 2021 20:36:29:  49000000 \\nINFO  @ Wed, 13 Jan 2021 20:36:33:  50000000 \\nINFO  @ Wed, 13 Jan 2021 20:36:37:  51000000 \\nINFO  @ Wed, 13 Jan 2021 20:36:41:  52000000 \\nINFO  @ Wed, 13 Jan 2021 20:36:45:  53000000 \\nINFO  @ Wed, 13 Jan 2021 20:36:49:  54000000 \\nINFO  @ Wed, 13 Jan 2021 20:36:53:  55000000 \\nINFO  @ Wed, 13 Jan 2021 20:36:56:  56000000 \\nINFO  @ Wed, 13 Jan 2021 20:37:00:  57000000 \\nINFO  @ Wed, 13 Jan 2021 20:37:04:  58000000 \\nINFO  @ Wed, 13 Jan 2021 20:37:08:  59000000 \\nINFO  @ Wed, 13 Jan 2021 20:37:12:  60000000 \\nINFO  @ Wed, 13 Jan 2021 20:37:16:  61000000 \\nINFO  @ Wed, 13 Jan 2021 20:37:19:  62000000 \\nINFO  @ Wed, 13 Jan 2021 20:37:23:  63000000 \\nINFO  @ Wed, 13 Jan 2021 20:37:27:  64000000 \\nINFO  @ Wed, 13 Jan 2021 20:37:31:  65000000 \\nINFO  @ Wed, 13 Jan 2021 20:37:35:  66000000 \\nINFO  @ Wed, 13 Jan 2021 20:37:38: 66660428 fragments have been read. \\nINFO  @ Wed, 13 Jan 2021 20:38:22: #1 mean fragment size is determined as 215.7 bp from treatment \\nINFO  @ Wed, 13 Jan 2021 20:38:22: #1 note: mean fragment size in control is 218.7 bp -- value ignored \\nINFO  @ Wed, 13 Jan 2021 20:38:22: #1 fragment size = 215.7 \\nINFO  @ Wed, 13 Jan 2021 20:38:22: #1  total fragments in treatment: 23141768 \\nINFO  @ Wed, 13 Jan 2021 20:38:22: #1 user defined the maximum fragments... \\nINFO  @ Wed, 13 Jan 2021 20:38:22: #1 filter out redundant fragments by allowing at most 1 identical fragment(s) \\nINFO  @ Wed, 13 Jan 2021 20:39:01: #1  fragments after filtering in treatment: 23126268 \\nINFO  @ Wed, 13 Jan 2021 20:39:01: #1  Redundant rate of treatment: 0.00 \\nINFO  @ Wed, 13 Jan 2021 20:39:01: #1  total fragments in control: 66660428 \\nINFO  @ Wed, 13 Jan 2021 20:39:01: #1 user defined the maximum fragments... \\nINFO  @ Wed, 13 Jan 2021 20:39:01: #1 filter out redundant fragments by allowing at most 1 identical fragment(s) \\nINFO  @ Wed, 13 Jan 2021 20:40:50: #1  fragments after filtering in control: 66632618 \\nINFO  @ Wed, 13 Jan 2021 20:40:50: #1  Redundant rate of control: 0.00 \\nINFO  @ Wed, 13 Jan 2021 20:40:50: #1 finished! \\nINFO  @ Wed, 13 Jan 2021 20:40:50: #2 Build Peak Model... \\nINFO  @ Wed, 13 Jan 2021 20:40:50: #2 Skipped... \\nINFO  @ Wed, 13 Jan 2021 20:40:50: #3 Call peaks... \\nINFO  @ Wed, 13 Jan 2021 20:40:50: #3 Pre-compute pvalue-qvalue table... \\nINFO  @ Wed, 13 Jan 2021 20:50:25: #3 In the peak calling step, the following will be performed simultaneously: \\nINFO  @ Wed, 13 Jan 2021 20:50:25: #3   Write bedGraph files for treatment pileup (after scaling if necessary)... MV411_MEF2D_NT_SC_63_DMSO-MED1_R1_treat_pileup.bdg \\nINFO  @ Wed, 13 Jan 2021 20:50:25: #3   Write bedGraph files for control lambda (after scaling if necessary)... MV411_MEF2D_NT_SC_63_DMSO-MED1_R1_control_lambda.bdg \\nINFO  @ Wed, 13 Jan 2021 20:50:25: #3   Pileup will be based on sequencing depth in treatment. \\nINFO  @ Wed, 13 Jan 2021 20:50:25: #3 Call peaks for each chromosome... \\nINFO  @ Wed, 13 Jan 2021 20:56:24: #4 Write output xls file... ../../data/chipseq_MF2C_degraded_v2/diffData/MV411_MEF2D_NT_SC_63_DMSO-MED1_R1_peaks.xls \\nINFO  @ Wed, 13 Jan 2021 20:56:24: #4 Write peak in narrowPeak format file... ../../data/chipseq_MF2C_degraded_v2/diffData/MV411_MEF2D_NT_SC_63_DMSO-MED1_R1_peaks.narrowPeak \\nINFO  @ Wed, 13 Jan 2021 20:56:25: #4 Write summits bed file... ../../data/chipseq_MF2C_degraded_v2/diffData/MV411_MEF2D_NT_SC_63_DMSO-MED1_R1_summits.bed \\nINFO  @ Wed, 13 Jan 2021 20:56:25: Done! \\n'\n"
     ]
    },
    {
     "name": "stdout",
     "output_type": "stream",
     "text": [
      "b'INFO  @ Wed, 13 Jan 2021 20:56:26: \\n# Command line: callpeak -B -t ../../data/chipseq_MF2C_degraded_v2/bwa/mergedLibrary/MV411_MEF2D_NT_SC_63_VHL-MED1_R1.mLb.clN.sorted.bam -c ../../data/chipseq_MF2C_degraded_v2/bwa/mergedLibrary/INPUT_R1.mLb.clN.sorted.bam --nomodel --extsize 197 -n MV411_MEF2D_NT_SC_63_VHL-MED1_R1 --outdir ../../data/chipseq_MF2C_degraded_v2/diffData/ -f BAMPE\\n# ARGUMENTS LIST:\\n# name = MV411_MEF2D_NT_SC_63_VHL-MED1_R1\\n# format = BAMPE\\n# ChIP-seq file = [\\'../../data/chipseq_MF2C_degraded_v2/bwa/mergedLibrary/MV411_MEF2D_NT_SC_63_VHL-MED1_R1.mLb.clN.sorted.bam\\']\\n# control file = [\\'../../data/chipseq_MF2C_degraded_v2/bwa/mergedLibrary/INPUT_R1.mLb.clN.sorted.bam\\']\\n# effective genome size = 2.70e+09\\n# band width = 300\\n# model fold = [5, 50]\\n# qvalue cutoff = 5.00e-02\\n# The maximum gap between significant sites is assigned as the read length/tag size.\\n# The minimum length of peaks is assigned as the predicted fragment length \"d\".\\n# Larger dataset will be scaled towards smaller dataset.\\n# Range for calculating regional lambda is: 1000 bps and 10000 bps\\n# Broad region calling is off\\n# Paired-End mode is on\\n \\nINFO  @ Wed, 13 Jan 2021 20:56:26: #1 read fragment files... \\nINFO  @ Wed, 13 Jan 2021 20:56:26: #1 read treatment fragments... \\nINFO  @ Wed, 13 Jan 2021 20:56:31:  1000000 \\nINFO  @ Wed, 13 Jan 2021 20:56:36:  2000000 \\nINFO  @ Wed, 13 Jan 2021 20:56:41:  3000000 \\nINFO  @ Wed, 13 Jan 2021 20:56:46:  4000000 \\nINFO  @ Wed, 13 Jan 2021 20:56:51:  5000000 \\nINFO  @ Wed, 13 Jan 2021 20:56:56:  6000000 \\nINFO  @ Wed, 13 Jan 2021 20:57:01:  7000000 \\nINFO  @ Wed, 13 Jan 2021 20:57:06:  8000000 \\nINFO  @ Wed, 13 Jan 2021 20:57:11:  9000000 \\nINFO  @ Wed, 13 Jan 2021 20:57:16:  10000000 \\nINFO  @ Wed, 13 Jan 2021 20:57:21:  11000000 \\nINFO  @ Wed, 13 Jan 2021 20:57:26:  12000000 \\nINFO  @ Wed, 13 Jan 2021 20:57:31:  13000000 \\nINFO  @ Wed, 13 Jan 2021 20:57:35:  14000000 \\nINFO  @ Wed, 13 Jan 2021 20:57:40:  15000000 \\nINFO  @ Wed, 13 Jan 2021 20:57:45:  16000000 \\nINFO  @ Wed, 13 Jan 2021 20:57:50:  17000000 \\nINFO  @ Wed, 13 Jan 2021 20:57:55:  18000000 \\nINFO  @ Wed, 13 Jan 2021 20:58:00:  19000000 \\nINFO  @ Wed, 13 Jan 2021 20:58:05:  20000000 \\nINFO  @ Wed, 13 Jan 2021 20:58:10:  21000000 \\nINFO  @ Wed, 13 Jan 2021 20:58:15:  22000000 \\nINFO  @ Wed, 13 Jan 2021 20:58:20:  23000000 \\nINFO  @ Wed, 13 Jan 2021 20:58:26:  24000000 \\nINFO  @ Wed, 13 Jan 2021 20:58:31:  25000000 \\nINFO  @ Wed, 13 Jan 2021 20:58:36:  26000000 \\nINFO  @ Wed, 13 Jan 2021 20:58:41:  27000000 \\nINFO  @ Wed, 13 Jan 2021 20:58:46: 27941650 fragments have been read. \\nINFO  @ Wed, 13 Jan 2021 20:59:02: #1.2 read input fragments... \\nINFO  @ Wed, 13 Jan 2021 20:59:06:  1000000 \\nINFO  @ Wed, 13 Jan 2021 20:59:09:  2000000 \\nINFO  @ Wed, 13 Jan 2021 20:59:13:  3000000 \\nINFO  @ Wed, 13 Jan 2021 20:59:17:  4000000 \\nINFO  @ Wed, 13 Jan 2021 20:59:20:  5000000 \\nINFO  @ Wed, 13 Jan 2021 20:59:24:  6000000 \\nINFO  @ Wed, 13 Jan 2021 20:59:28:  7000000 \\nINFO  @ Wed, 13 Jan 2021 20:59:32:  8000000 \\nINFO  @ Wed, 13 Jan 2021 20:59:35:  9000000 \\nINFO  @ Wed, 13 Jan 2021 20:59:39:  10000000 \\nINFO  @ Wed, 13 Jan 2021 20:59:43:  11000000 \\nINFO  @ Wed, 13 Jan 2021 20:59:46:  12000000 \\nINFO  @ Wed, 13 Jan 2021 20:59:50:  13000000 \\nINFO  @ Wed, 13 Jan 2021 20:59:54:  14000000 \\nINFO  @ Wed, 13 Jan 2021 20:59:57:  15000000 \\nINFO  @ Wed, 13 Jan 2021 21:00:01:  16000000 \\nINFO  @ Wed, 13 Jan 2021 21:00:05:  17000000 \\nINFO  @ Wed, 13 Jan 2021 21:00:09:  18000000 \\nINFO  @ Wed, 13 Jan 2021 21:00:12:  19000000 \\nINFO  @ Wed, 13 Jan 2021 21:00:16:  20000000 \\nINFO  @ Wed, 13 Jan 2021 21:00:20:  21000000 \\nINFO  @ Wed, 13 Jan 2021 21:00:24:  22000000 \\nINFO  @ Wed, 13 Jan 2021 21:00:27:  23000000 \\nINFO  @ Wed, 13 Jan 2021 21:00:31:  24000000 \\nINFO  @ Wed, 13 Jan 2021 21:00:35:  25000000 \\nINFO  @ Wed, 13 Jan 2021 21:00:38:  26000000 \\nINFO  @ Wed, 13 Jan 2021 21:00:42:  27000000 \\nINFO  @ Wed, 13 Jan 2021 21:00:46:  28000000 \\nINFO  @ Wed, 13 Jan 2021 21:00:50:  29000000 \\nINFO  @ Wed, 13 Jan 2021 21:00:53:  30000000 \\nINFO  @ Wed, 13 Jan 2021 21:00:57:  31000000 \\nINFO  @ Wed, 13 Jan 2021 21:01:01:  32000000 \\nINFO  @ Wed, 13 Jan 2021 21:01:04:  33000000 \\nINFO  @ Wed, 13 Jan 2021 21:01:08:  34000000 \\nINFO  @ Wed, 13 Jan 2021 21:01:12:  35000000 \\nINFO  @ Wed, 13 Jan 2021 21:01:15:  36000000 \\nINFO  @ Wed, 13 Jan 2021 21:01:19:  37000000 \\nINFO  @ Wed, 13 Jan 2021 21:01:23:  38000000 \\nINFO  @ Wed, 13 Jan 2021 21:01:26:  39000000 \\nINFO  @ Wed, 13 Jan 2021 21:01:30:  40000000 \\nINFO  @ Wed, 13 Jan 2021 21:01:34:  41000000 \\nINFO  @ Wed, 13 Jan 2021 21:01:38:  42000000 \\nINFO  @ Wed, 13 Jan 2021 21:01:41:  43000000 \\nINFO  @ Wed, 13 Jan 2021 21:01:45:  44000000 \\nINFO  @ Wed, 13 Jan 2021 21:01:49:  45000000 \\nINFO  @ Wed, 13 Jan 2021 21:01:52:  46000000 \\nINFO  @ Wed, 13 Jan 2021 21:01:56:  47000000 \\nINFO  @ Wed, 13 Jan 2021 21:02:00:  48000000 \\nINFO  @ Wed, 13 Jan 2021 21:02:03:  49000000 \\nINFO  @ Wed, 13 Jan 2021 21:02:07:  50000000 \\nINFO  @ Wed, 13 Jan 2021 21:02:11:  51000000 \\nINFO  @ Wed, 13 Jan 2021 21:02:15:  52000000 \\nINFO  @ Wed, 13 Jan 2021 21:02:18:  53000000 \\nINFO  @ Wed, 13 Jan 2021 21:02:22:  54000000 \\nINFO  @ Wed, 13 Jan 2021 21:02:26:  55000000 \\nINFO  @ Wed, 13 Jan 2021 21:02:31:  56000000 \\nINFO  @ Wed, 13 Jan 2021 21:02:35:  57000000 \\nINFO  @ Wed, 13 Jan 2021 21:02:39:  58000000 \\nINFO  @ Wed, 13 Jan 2021 21:02:42:  59000000 \\nINFO  @ Wed, 13 Jan 2021 21:02:46:  60000000 \\nINFO  @ Wed, 13 Jan 2021 21:02:50:  61000000 \\nINFO  @ Wed, 13 Jan 2021 21:02:54:  62000000 \\nINFO  @ Wed, 13 Jan 2021 21:02:57:  63000000 \\nINFO  @ Wed, 13 Jan 2021 21:03:01:  64000000 \\nINFO  @ Wed, 13 Jan 2021 21:03:05:  65000000 \\nINFO  @ Wed, 13 Jan 2021 21:03:09:  66000000 \\nINFO  @ Wed, 13 Jan 2021 21:03:11: 66660428 fragments have been read. \\nINFO  @ Wed, 13 Jan 2021 21:03:55: #1 mean fragment size is determined as 210.9 bp from treatment \\nINFO  @ Wed, 13 Jan 2021 21:03:55: #1 note: mean fragment size in control is 218.7 bp -- value ignored \\nINFO  @ Wed, 13 Jan 2021 21:03:55: #1 fragment size = 210.9 \\nINFO  @ Wed, 13 Jan 2021 21:03:55: #1  total fragments in treatment: 27941650 \\nINFO  @ Wed, 13 Jan 2021 21:03:55: #1 user defined the maximum fragments... \\nINFO  @ Wed, 13 Jan 2021 21:03:55: #1 filter out redundant fragments by allowing at most 1 identical fragment(s) \\nINFO  @ Wed, 13 Jan 2021 21:04:41: #1  fragments after filtering in treatment: 27929422 \\nINFO  @ Wed, 13 Jan 2021 21:04:41: #1  Redundant rate of treatment: 0.00 \\nINFO  @ Wed, 13 Jan 2021 21:04:41: #1  total fragments in control: 66660428 \\nINFO  @ Wed, 13 Jan 2021 21:04:41: #1 user defined the maximum fragments... \\nINFO  @ Wed, 13 Jan 2021 21:04:41: #1 filter out redundant fragments by allowing at most 1 identical fragment(s) \\nINFO  @ Wed, 13 Jan 2021 21:06:32: #1  fragments after filtering in control: 66632618 \\nINFO  @ Wed, 13 Jan 2021 21:06:32: #1  Redundant rate of control: 0.00 \\nINFO  @ Wed, 13 Jan 2021 21:06:32: #1 finished! \\nINFO  @ Wed, 13 Jan 2021 21:06:32: #2 Build Peak Model... \\nINFO  @ Wed, 13 Jan 2021 21:06:32: #2 Skipped... \\nINFO  @ Wed, 13 Jan 2021 21:06:32: #3 Call peaks... \\nINFO  @ Wed, 13 Jan 2021 21:06:32: #3 Pre-compute pvalue-qvalue table... \\nINFO  @ Wed, 13 Jan 2021 21:16:19: #3 In the peak calling step, the following will be performed simultaneously: \\nINFO  @ Wed, 13 Jan 2021 21:16:19: #3   Write bedGraph files for treatment pileup (after scaling if necessary)... MV411_MEF2D_NT_SC_63_VHL-MED1_R1_treat_pileup.bdg \\nINFO  @ Wed, 13 Jan 2021 21:16:19: #3   Write bedGraph files for control lambda (after scaling if necessary)... MV411_MEF2D_NT_SC_63_VHL-MED1_R1_control_lambda.bdg \\nINFO  @ Wed, 13 Jan 2021 21:16:19: #3   Pileup will be based on sequencing depth in treatment. \\nINFO  @ Wed, 13 Jan 2021 21:16:19: #3 Call peaks for each chromosome... \\nINFO  @ Wed, 13 Jan 2021 21:22:20: #4 Write output xls file... ../../data/chipseq_MF2C_degraded_v2/diffData/MV411_MEF2D_NT_SC_63_VHL-MED1_R1_peaks.xls \\nINFO  @ Wed, 13 Jan 2021 21:22:20: #4 Write peak in narrowPeak format file... ../../data/chipseq_MF2C_degraded_v2/diffData/MV411_MEF2D_NT_SC_63_VHL-MED1_R1_peaks.narrowPeak \\nINFO  @ Wed, 13 Jan 2021 21:22:20: #4 Write summits bed file... ../../data/chipseq_MF2C_degraded_v2/diffData/MV411_MEF2D_NT_SC_63_VHL-MED1_R1_summits.bed \\nINFO  @ Wed, 13 Jan 2021 21:22:20: Done! \\n'\n",
      "29273756 27929422\n",
      "doing differential peak binding\n"
     ]
    },
    {
     "name": "stdout",
     "output_type": "stream",
     "text": [
      "CompletedProcess(args='macs2 bdgdiff --t1 ../../data/chipseq_MF2C_degraded_v2/diffData/MV411_MEF2D_NT_SC_63_DMSO-MED1_R1_treat_pileup.bdg --c1 ../../data/chipseq_MF2C_degraded_v2/diffData/MV411_MEF2D_NT_SC_63_DMSO-MED1_R1_control_lambda.bdg --t2 ../../data/chipseq_MF2C_degraded_v2/diffData/MV411_MEF2D_NT_SC_63_VHL-MED1_R1_treat_pileup.bdg --c2 ../../data/chipseq_MF2C_degraded_v2/diffData/MV411_MEF2D_NT_SC_63_VHL-MED1_R1_control_lambda.bdg --d1 29273756 --d2 27929422 -g 60 -l 197 --o-prefix MV411_MEF2D_NT_SC_63_DMSO-MED1_R1_treat_pileup_vs_MV411_MEF2D_NT_SC_63_VHL-MED1_R1_treat_pileup --outdir ../../data/chipseq_MF2C_degraded_v2/diffPeaks/', returncode=0, stdout=b'', stderr=b'INFO  @ Wed, 13 Jan 2021 21:22:21: Read and build treatment 1 bedGraph... \\nINFO  @ Wed, 13 Jan 2021 21:23:09: Read and build control 1 bedGraph... \\nINFO  @ Wed, 13 Jan 2021 21:27:06: Read and build treatment 2 bedGraph... \\nINFO  @ Wed, 13 Jan 2021 21:28:02: Read and build control 2 bedGraph... \\nINFO  @ Wed, 13 Jan 2021 21:40:24: Write peaks... \\nINFO  @ Wed, 13 Jan 2021 21:40:24: Done \\n')\n",
      "../../data/chipseq_MF2C_degraded_v2/bwa/mergedLibrary/MV411_MEF2D_NT_SC_63_DMSO-MEF2C_R1.mLb.clN.sorted.bam ../../data/chipseq_MF2C_degraded_v2/bwa/mergedLibrary/MV411_MEF2D_NT_SC_63_VHL-MEF2C_R1.mLb.clN.sorted.bam\n",
      "doing diff from ../../data/chipseq_MF2C_degraded_v2/bwa/mergedLibrary/MV411_MEF2D_NT_SC_63_DMSO-MEF2C_R1.mLb.clN.sorted.bam and ../../data/chipseq_MF2C_degraded_v2/bwa/mergedLibrary/MV411_MEF2D_NT_SC_63_VHL-MEF2C_R1.mLb.clN.sorted.bam\n",
      "computing the fragment avg size\n",
      "192\n",
      "computing the scaling values\n",
      "b'INFO  @ Wed, 13 Jan 2021 21:41:57: \\n# Command line: callpeak -B -t ../../data/chipseq_MF2C_degraded_v2/bwa/mergedLibrary/MV411_MEF2D_NT_SC_63_DMSO-MEF2C_R1.mLb.clN.sorted.bam -c ../../data/chipseq_MF2C_degraded_v2/bwa/mergedLibrary/INPUT_R1.mLb.clN.sorted.bam --nomodel --extsize 192 -n MV411_MEF2D_NT_SC_63_DMSO-MEF2C_R1 --outdir ../../data/chipseq_MF2C_degraded_v2/diffData/ -f BAMPE\\n# ARGUMENTS LIST:\\n# name = MV411_MEF2D_NT_SC_63_DMSO-MEF2C_R1\\n# format = BAMPE\\n# ChIP-seq file = [\\'../../data/chipseq_MF2C_degraded_v2/bwa/mergedLibrary/MV411_MEF2D_NT_SC_63_DMSO-MEF2C_R1.mLb.clN.sorted.bam\\']\\n# control file = [\\'../../data/chipseq_MF2C_degraded_v2/bwa/mergedLibrary/INPUT_R1.mLb.clN.sorted.bam\\']\\n# effective genome size = 2.70e+09\\n# band width = 300\\n# model fold = [5, 50]\\n# qvalue cutoff = 5.00e-02\\n# The maximum gap between significant sites is assigned as the read length/tag size.\\n# The minimum length of peaks is assigned as the predicted fragment length \"d\".\\n# Larger dataset will be scaled towards smaller dataset.\\n# Range for calculating regional lambda is: 1000 bps and 10000 bps\\n# Broad region calling is off\\n# Paired-End mode is on\\n \\nINFO  @ Wed, 13 Jan 2021 21:41:57: #1 read fragment files... \\nINFO  @ Wed, 13 Jan 2021 21:41:57: #1 read treatment fragments... \\nINFO  @ Wed, 13 Jan 2021 21:42:02:  1000000 \\nINFO  @ Wed, 13 Jan 2021 21:42:07:  2000000 \\nINFO  @ Wed, 13 Jan 2021 21:42:12:  3000000 \\nINFO  @ Wed, 13 Jan 2021 21:42:17:  4000000 \\nINFO  @ Wed, 13 Jan 2021 21:42:22:  5000000 \\nINFO  @ Wed, 13 Jan 2021 21:42:27:  6000000 \\nINFO  @ Wed, 13 Jan 2021 21:42:31:  7000000 \\nINFO  @ Wed, 13 Jan 2021 21:42:36:  8000000 \\nINFO  @ Wed, 13 Jan 2021 21:42:41:  9000000 \\nINFO  @ Wed, 13 Jan 2021 21:42:46:  10000000 \\nINFO  @ Wed, 13 Jan 2021 21:42:51:  11000000 \\nINFO  @ Wed, 13 Jan 2021 21:42:56:  12000000 \\nINFO  @ Wed, 13 Jan 2021 21:43:01:  13000000 \\nINFO  @ Wed, 13 Jan 2021 21:43:06:  14000000 \\nINFO  @ Wed, 13 Jan 2021 21:43:11:  15000000 \\nINFO  @ Wed, 13 Jan 2021 21:43:15:  16000000 \\nINFO  @ Wed, 13 Jan 2021 21:43:20:  17000000 \\nINFO  @ Wed, 13 Jan 2021 21:43:22: 17381180 fragments have been read. \\nINFO  @ Wed, 13 Jan 2021 21:43:32: #1.2 read input fragments... \\nINFO  @ Wed, 13 Jan 2021 21:43:35:  1000000 \\nINFO  @ Wed, 13 Jan 2021 21:43:39:  2000000 \\nINFO  @ Wed, 13 Jan 2021 21:43:43:  3000000 \\nINFO  @ Wed, 13 Jan 2021 21:43:46:  4000000 \\nINFO  @ Wed, 13 Jan 2021 21:43:50:  5000000 \\nINFO  @ Wed, 13 Jan 2021 21:43:54:  6000000 \\nINFO  @ Wed, 13 Jan 2021 21:43:57:  7000000 \\nINFO  @ Wed, 13 Jan 2021 21:44:01:  8000000 \\nINFO  @ Wed, 13 Jan 2021 21:44:05:  9000000 \\nINFO  @ Wed, 13 Jan 2021 21:44:09:  10000000 \\nINFO  @ Wed, 13 Jan 2021 21:44:12:  11000000 \\nINFO  @ Wed, 13 Jan 2021 21:44:16:  12000000 \\nINFO  @ Wed, 13 Jan 2021 21:44:20:  13000000 \\nINFO  @ Wed, 13 Jan 2021 21:44:24:  14000000 \\nINFO  @ Wed, 13 Jan 2021 21:44:27:  15000000 \\nINFO  @ Wed, 13 Jan 2021 21:44:31:  16000000 \\nINFO  @ Wed, 13 Jan 2021 21:44:34:  17000000 \\nINFO  @ Wed, 13 Jan 2021 21:44:38:  18000000 \\nINFO  @ Wed, 13 Jan 2021 21:44:42:  19000000 \\nINFO  @ Wed, 13 Jan 2021 21:44:46:  20000000 \\nINFO  @ Wed, 13 Jan 2021 21:44:49:  21000000 \\nINFO  @ Wed, 13 Jan 2021 21:44:53:  22000000 \\nINFO  @ Wed, 13 Jan 2021 21:44:57:  23000000 \\nINFO  @ Wed, 13 Jan 2021 21:45:01:  24000000 \\nINFO  @ Wed, 13 Jan 2021 21:45:04:  25000000 \\nINFO  @ Wed, 13 Jan 2021 21:45:08:  26000000 \\nINFO  @ Wed, 13 Jan 2021 21:45:12:  27000000 \\nINFO  @ Wed, 13 Jan 2021 21:45:15:  28000000 \\nINFO  @ Wed, 13 Jan 2021 21:45:19:  29000000 \\nINFO  @ Wed, 13 Jan 2021 21:45:23:  30000000 \\nINFO  @ Wed, 13 Jan 2021 21:45:26:  31000000 \\nINFO  @ Wed, 13 Jan 2021 21:45:30:  32000000 \\nINFO  @ Wed, 13 Jan 2021 21:45:34:  33000000 \\nINFO  @ Wed, 13 Jan 2021 21:45:37:  34000000 \\nINFO  @ Wed, 13 Jan 2021 21:45:41:  35000000 \\nINFO  @ Wed, 13 Jan 2021 21:45:45:  36000000 \\nINFO  @ Wed, 13 Jan 2021 21:45:48:  37000000 \\nINFO  @ Wed, 13 Jan 2021 21:45:52:  38000000 \\nINFO  @ Wed, 13 Jan 2021 21:45:56:  39000000 \\nINFO  @ Wed, 13 Jan 2021 21:45:59:  40000000 \\nINFO  @ Wed, 13 Jan 2021 21:46:03:  41000000 \\nINFO  @ Wed, 13 Jan 2021 21:46:07:  42000000 \\nINFO  @ Wed, 13 Jan 2021 21:46:11:  43000000 \\nINFO  @ Wed, 13 Jan 2021 21:46:14:  44000000 \\nINFO  @ Wed, 13 Jan 2021 21:46:18:  45000000 \\nINFO  @ Wed, 13 Jan 2021 21:46:22:  46000000 \\nINFO  @ Wed, 13 Jan 2021 21:46:25:  47000000 \\nINFO  @ Wed, 13 Jan 2021 21:46:29:  48000000 \\nINFO  @ Wed, 13 Jan 2021 21:46:33:  49000000 \\nINFO  @ Wed, 13 Jan 2021 21:46:36:  50000000 \\nINFO  @ Wed, 13 Jan 2021 21:46:40:  51000000 \\nINFO  @ Wed, 13 Jan 2021 21:46:44:  52000000 \\nINFO  @ Wed, 13 Jan 2021 21:46:47:  53000000 \\nINFO  @ Wed, 13 Jan 2021 21:46:51:  54000000 \\nINFO  @ Wed, 13 Jan 2021 21:46:55:  55000000 \\nINFO  @ Wed, 13 Jan 2021 21:46:59:  56000000 \\nINFO  @ Wed, 13 Jan 2021 21:47:02:  57000000 \\nINFO  @ Wed, 13 Jan 2021 21:47:06:  58000000 \\nINFO  @ Wed, 13 Jan 2021 21:47:10:  59000000 \\nINFO  @ Wed, 13 Jan 2021 21:47:13:  60000000 \\nINFO  @ Wed, 13 Jan 2021 21:47:17:  61000000 \\nINFO  @ Wed, 13 Jan 2021 21:47:21:  62000000 \\nINFO  @ Wed, 13 Jan 2021 21:47:25:  63000000 \\nINFO  @ Wed, 13 Jan 2021 21:47:28:  64000000 \\nINFO  @ Wed, 13 Jan 2021 21:47:32:  65000000 \\nINFO  @ Wed, 13 Jan 2021 21:47:36:  66000000 \\nINFO  @ Wed, 13 Jan 2021 21:47:38: 66660428 fragments have been read. \\nINFO  @ Wed, 13 Jan 2021 21:48:23: #1 mean fragment size is determined as 215.2 bp from treatment \\nINFO  @ Wed, 13 Jan 2021 21:48:23: #1 note: mean fragment size in control is 218.7 bp -- value ignored \\nINFO  @ Wed, 13 Jan 2021 21:48:23: #1 fragment size = 215.2 \\nINFO  @ Wed, 13 Jan 2021 21:48:23: #1  total fragments in treatment: 17381180 \\nINFO  @ Wed, 13 Jan 2021 21:48:23: #1 user defined the maximum fragments... \\nINFO  @ Wed, 13 Jan 2021 21:48:23: #1 filter out redundant fragments by allowing at most 1 identical fragment(s) \\nINFO  @ Wed, 13 Jan 2021 21:48:51: #1  fragments after filtering in treatment: 17372573 \\nINFO  @ Wed, 13 Jan 2021 21:48:51: #1  Redundant rate of treatment: 0.00 \\nINFO  @ Wed, 13 Jan 2021 21:48:51: #1  total fragments in control: 66660428 \\nINFO  @ Wed, 13 Jan 2021 21:48:51: #1 user defined the maximum fragments... \\nINFO  @ Wed, 13 Jan 2021 21:48:51: #1 filter out redundant fragments by allowing at most 1 identical fragment(s) \\nINFO  @ Wed, 13 Jan 2021 21:50:41: #1  fragments after filtering in control: 66632618 \\nINFO  @ Wed, 13 Jan 2021 21:50:41: #1  Redundant rate of control: 0.00 \\nINFO  @ Wed, 13 Jan 2021 21:50:41: #1 finished! \\nINFO  @ Wed, 13 Jan 2021 21:50:41: #2 Build Peak Model... \\nINFO  @ Wed, 13 Jan 2021 21:50:41: #2 Skipped... \\nINFO  @ Wed, 13 Jan 2021 21:50:41: #3 Call peaks... \\nINFO  @ Wed, 13 Jan 2021 21:50:41: #3 Pre-compute pvalue-qvalue table... \\nINFO  @ Wed, 13 Jan 2021 22:00:06: #3 In the peak calling step, the following will be performed simultaneously: \\nINFO  @ Wed, 13 Jan 2021 22:00:06: #3   Write bedGraph files for treatment pileup (after scaling if necessary)... MV411_MEF2D_NT_SC_63_DMSO-MEF2C_R1_treat_pileup.bdg \\nINFO  @ Wed, 13 Jan 2021 22:00:06: #3   Write bedGraph files for control lambda (after scaling if necessary)... MV411_MEF2D_NT_SC_63_DMSO-MEF2C_R1_control_lambda.bdg \\nINFO  @ Wed, 13 Jan 2021 22:00:06: #3   Pileup will be based on sequencing depth in treatment. \\nINFO  @ Wed, 13 Jan 2021 22:00:06: #3 Call peaks for each chromosome... \\nINFO  @ Wed, 13 Jan 2021 22:05:48: #4 Write output xls file... ../../data/chipseq_MF2C_degraded_v2/diffData/MV411_MEF2D_NT_SC_63_DMSO-MEF2C_R1_peaks.xls \\nINFO  @ Wed, 13 Jan 2021 22:05:49: #4 Write peak in narrowPeak format file... ../../data/chipseq_MF2C_degraded_v2/diffData/MV411_MEF2D_NT_SC_63_DMSO-MEF2C_R1_peaks.narrowPeak \\nINFO  @ Wed, 13 Jan 2021 22:05:49: #4 Write summits bed file... ../../data/chipseq_MF2C_degraded_v2/diffData/MV411_MEF2D_NT_SC_63_DMSO-MEF2C_R1_summits.bed \\nINFO  @ Wed, 13 Jan 2021 22:05:49: Done! \\n'\n"
     ]
    },
    {
     "name": "stdout",
     "output_type": "stream",
     "text": [
      "b'INFO  @ Wed, 13 Jan 2021 22:05:50: \\n# Command line: callpeak -B -t ../../data/chipseq_MF2C_degraded_v2/bwa/mergedLibrary/MV411_MEF2D_NT_SC_63_VHL-MEF2C_R1.mLb.clN.sorted.bam -c ../../data/chipseq_MF2C_degraded_v2/bwa/mergedLibrary/INPUT_R1.mLb.clN.sorted.bam --nomodel --extsize 192 -n MV411_MEF2D_NT_SC_63_VHL-MEF2C_R1 --outdir ../../data/chipseq_MF2C_degraded_v2/diffData/ -f BAMPE\\n# ARGUMENTS LIST:\\n# name = MV411_MEF2D_NT_SC_63_VHL-MEF2C_R1\\n# format = BAMPE\\n# ChIP-seq file = [\\'../../data/chipseq_MF2C_degraded_v2/bwa/mergedLibrary/MV411_MEF2D_NT_SC_63_VHL-MEF2C_R1.mLb.clN.sorted.bam\\']\\n# control file = [\\'../../data/chipseq_MF2C_degraded_v2/bwa/mergedLibrary/INPUT_R1.mLb.clN.sorted.bam\\']\\n# effective genome size = 2.70e+09\\n# band width = 300\\n# model fold = [5, 50]\\n# qvalue cutoff = 5.00e-02\\n# The maximum gap between significant sites is assigned as the read length/tag size.\\n# The minimum length of peaks is assigned as the predicted fragment length \"d\".\\n# Larger dataset will be scaled towards smaller dataset.\\n# Range for calculating regional lambda is: 1000 bps and 10000 bps\\n# Broad region calling is off\\n# Paired-End mode is on\\n \\nINFO  @ Wed, 13 Jan 2021 22:05:50: #1 read fragment files... \\nINFO  @ Wed, 13 Jan 2021 22:05:50: #1 read treatment fragments... \\nINFO  @ Wed, 13 Jan 2021 22:05:55:  1000000 \\nINFO  @ Wed, 13 Jan 2021 22:06:00:  2000000 \\nINFO  @ Wed, 13 Jan 2021 22:06:05:  3000000 \\nINFO  @ Wed, 13 Jan 2021 22:06:10:  4000000 \\nINFO  @ Wed, 13 Jan 2021 22:06:15:  5000000 \\nINFO  @ Wed, 13 Jan 2021 22:06:20:  6000000 \\nINFO  @ Wed, 13 Jan 2021 22:06:25:  7000000 \\nINFO  @ Wed, 13 Jan 2021 22:06:30:  8000000 \\nINFO  @ Wed, 13 Jan 2021 22:06:35:  9000000 \\nINFO  @ Wed, 13 Jan 2021 22:06:40:  10000000 \\nINFO  @ Wed, 13 Jan 2021 22:06:45:  11000000 \\nINFO  @ Wed, 13 Jan 2021 22:06:50:  12000000 \\nINFO  @ Wed, 13 Jan 2021 22:06:55:  13000000 \\nINFO  @ Wed, 13 Jan 2021 22:07:00:  14000000 \\nINFO  @ Wed, 13 Jan 2021 22:07:05:  15000000 \\nINFO  @ Wed, 13 Jan 2021 22:07:10:  16000000 \\nINFO  @ Wed, 13 Jan 2021 22:07:15:  17000000 \\nINFO  @ Wed, 13 Jan 2021 22:07:20:  18000000 \\nINFO  @ Wed, 13 Jan 2021 22:07:25:  19000000 \\nINFO  @ Wed, 13 Jan 2021 22:07:30:  20000000 \\nINFO  @ Wed, 13 Jan 2021 22:07:35:  21000000 \\nINFO  @ Wed, 13 Jan 2021 22:07:40:  22000000 \\nINFO  @ Wed, 13 Jan 2021 22:07:45:  23000000 \\nINFO  @ Wed, 13 Jan 2021 22:07:47: 23353201 fragments have been read. \\nINFO  @ Wed, 13 Jan 2021 22:08:00: #1.2 read input fragments... \\nINFO  @ Wed, 13 Jan 2021 22:08:04:  1000000 \\nINFO  @ Wed, 13 Jan 2021 22:08:07:  2000000 \\nINFO  @ Wed, 13 Jan 2021 22:08:11:  3000000 \\nINFO  @ Wed, 13 Jan 2021 22:08:15:  4000000 \\nINFO  @ Wed, 13 Jan 2021 22:08:19:  5000000 \\nINFO  @ Wed, 13 Jan 2021 22:08:22:  6000000 \\nINFO  @ Wed, 13 Jan 2021 22:08:26:  7000000 \\nINFO  @ Wed, 13 Jan 2021 22:08:30:  8000000 \\nINFO  @ Wed, 13 Jan 2021 22:08:33:  9000000 \\nINFO  @ Wed, 13 Jan 2021 22:08:37:  10000000 \\nINFO  @ Wed, 13 Jan 2021 22:08:41:  11000000 \\nINFO  @ Wed, 13 Jan 2021 22:08:45:  12000000 \\nINFO  @ Wed, 13 Jan 2021 22:08:48:  13000000 \\nINFO  @ Wed, 13 Jan 2021 22:08:52:  14000000 \\nINFO  @ Wed, 13 Jan 2021 22:08:56:  15000000 \\nINFO  @ Wed, 13 Jan 2021 22:08:59:  16000000 \\nINFO  @ Wed, 13 Jan 2021 22:09:03:  17000000 \\nINFO  @ Wed, 13 Jan 2021 22:09:07:  18000000 \\nINFO  @ Wed, 13 Jan 2021 22:09:11:  19000000 \\nINFO  @ Wed, 13 Jan 2021 22:09:14:  20000000 \\nINFO  @ Wed, 13 Jan 2021 22:09:18:  21000000 \\nINFO  @ Wed, 13 Jan 2021 22:09:22:  22000000 \\nINFO  @ Wed, 13 Jan 2021 22:09:25:  23000000 \\nINFO  @ Wed, 13 Jan 2021 22:09:29:  24000000 \\nINFO  @ Wed, 13 Jan 2021 22:09:33:  25000000 \\nINFO  @ Wed, 13 Jan 2021 22:09:36:  26000000 \\nINFO  @ Wed, 13 Jan 2021 22:09:40:  27000000 \\nINFO  @ Wed, 13 Jan 2021 22:09:44:  28000000 \\nINFO  @ Wed, 13 Jan 2021 22:09:47:  29000000 \\nINFO  @ Wed, 13 Jan 2021 22:09:51:  30000000 \\nINFO  @ Wed, 13 Jan 2021 22:09:55:  31000000 \\nINFO  @ Wed, 13 Jan 2021 22:09:58:  32000000 \\nINFO  @ Wed, 13 Jan 2021 22:10:02:  33000000 \\nINFO  @ Wed, 13 Jan 2021 22:10:06:  34000000 \\nINFO  @ Wed, 13 Jan 2021 22:10:10:  35000000 \\nINFO  @ Wed, 13 Jan 2021 22:10:13:  36000000 \\nINFO  @ Wed, 13 Jan 2021 22:10:17:  37000000 \\nINFO  @ Wed, 13 Jan 2021 22:10:20:  38000000 \\nINFO  @ Wed, 13 Jan 2021 22:10:24:  39000000 \\nINFO  @ Wed, 13 Jan 2021 22:10:28:  40000000 \\nINFO  @ Wed, 13 Jan 2021 22:10:32:  41000000 \\nINFO  @ Wed, 13 Jan 2021 22:10:35:  42000000 \\nINFO  @ Wed, 13 Jan 2021 22:10:39:  43000000 \\nINFO  @ Wed, 13 Jan 2021 22:10:43:  44000000 \\nINFO  @ Wed, 13 Jan 2021 22:10:46:  45000000 \\nINFO  @ Wed, 13 Jan 2021 22:10:50:  46000000 \\nINFO  @ Wed, 13 Jan 2021 22:10:54:  47000000 \\nINFO  @ Wed, 13 Jan 2021 22:10:58:  48000000 \\nINFO  @ Wed, 13 Jan 2021 22:11:01:  49000000 \\nINFO  @ Wed, 13 Jan 2021 22:11:05:  50000000 \\nINFO  @ Wed, 13 Jan 2021 22:11:09:  51000000 \\nINFO  @ Wed, 13 Jan 2021 22:11:12:  52000000 \\nINFO  @ Wed, 13 Jan 2021 22:11:16:  53000000 \\nINFO  @ Wed, 13 Jan 2021 22:11:20:  54000000 \\nINFO  @ Wed, 13 Jan 2021 22:11:23:  55000000 \\nINFO  @ Wed, 13 Jan 2021 22:11:27:  56000000 \\nINFO  @ Wed, 13 Jan 2021 22:11:31:  57000000 \\nINFO  @ Wed, 13 Jan 2021 22:11:35:  58000000 \\nINFO  @ Wed, 13 Jan 2021 22:11:38:  59000000 \\nINFO  @ Wed, 13 Jan 2021 22:11:42:  60000000 \\nINFO  @ Wed, 13 Jan 2021 22:11:46:  61000000 \\nINFO  @ Wed, 13 Jan 2021 22:11:49:  62000000 \\nINFO  @ Wed, 13 Jan 2021 22:11:53:  63000000 \\nINFO  @ Wed, 13 Jan 2021 22:11:57:  64000000 \\nINFO  @ Wed, 13 Jan 2021 22:12:01:  65000000 \\nINFO  @ Wed, 13 Jan 2021 22:12:04:  66000000 \\nINFO  @ Wed, 13 Jan 2021 22:12:07: 66660428 fragments have been read. \\nINFO  @ Wed, 13 Jan 2021 22:12:51: #1 mean fragment size is determined as 210.2 bp from treatment \\nINFO  @ Wed, 13 Jan 2021 22:12:51: #1 note: mean fragment size in control is 218.7 bp -- value ignored \\nINFO  @ Wed, 13 Jan 2021 22:12:51: #1 fragment size = 210.2 \\nINFO  @ Wed, 13 Jan 2021 22:12:51: #1  total fragments in treatment: 23353201 \\nINFO  @ Wed, 13 Jan 2021 22:12:51: #1 user defined the maximum fragments... \\nINFO  @ Wed, 13 Jan 2021 22:12:51: #1 filter out redundant fragments by allowing at most 1 identical fragment(s) \\nINFO  @ Wed, 13 Jan 2021 22:13:29: #1  fragments after filtering in treatment: 23338240 \\nINFO  @ Wed, 13 Jan 2021 22:13:29: #1  Redundant rate of treatment: 0.00 \\nINFO  @ Wed, 13 Jan 2021 22:13:29: #1  total fragments in control: 66660428 \\nINFO  @ Wed, 13 Jan 2021 22:13:29: #1 user defined the maximum fragments... \\nINFO  @ Wed, 13 Jan 2021 22:13:29: #1 filter out redundant fragments by allowing at most 1 identical fragment(s) \\nINFO  @ Wed, 13 Jan 2021 22:15:18: #1  fragments after filtering in control: 66632618 \\nINFO  @ Wed, 13 Jan 2021 22:15:18: #1  Redundant rate of control: 0.00 \\nINFO  @ Wed, 13 Jan 2021 22:15:18: #1 finished! \\nINFO  @ Wed, 13 Jan 2021 22:15:18: #2 Build Peak Model... \\nINFO  @ Wed, 13 Jan 2021 22:15:18: #2 Skipped... \\nINFO  @ Wed, 13 Jan 2021 22:15:18: #3 Call peaks... \\nINFO  @ Wed, 13 Jan 2021 22:15:18: #3 Pre-compute pvalue-qvalue table... \\nINFO  @ Wed, 13 Jan 2021 22:24:48: #3 In the peak calling step, the following will be performed simultaneously: \\nINFO  @ Wed, 13 Jan 2021 22:24:48: #3   Write bedGraph files for treatment pileup (after scaling if necessary)... MV411_MEF2D_NT_SC_63_VHL-MEF2C_R1_treat_pileup.bdg \\nINFO  @ Wed, 13 Jan 2021 22:24:48: #3   Write bedGraph files for control lambda (after scaling if necessary)... MV411_MEF2D_NT_SC_63_VHL-MEF2C_R1_control_lambda.bdg \\nINFO  @ Wed, 13 Jan 2021 22:24:48: #3   Pileup will be based on sequencing depth in treatment. \\nINFO  @ Wed, 13 Jan 2021 22:24:48: #3 Call peaks for each chromosome... \\nINFO  @ Wed, 13 Jan 2021 22:30:39: #4 Write output xls file... ../../data/chipseq_MF2C_degraded_v2/diffData/MV411_MEF2D_NT_SC_63_VHL-MEF2C_R1_peaks.xls \\nINFO  @ Wed, 13 Jan 2021 22:30:39: #4 Write peak in narrowPeak format file... ../../data/chipseq_MF2C_degraded_v2/diffData/MV411_MEF2D_NT_SC_63_VHL-MEF2C_R1_peaks.narrowPeak \\nINFO  @ Wed, 13 Jan 2021 22:30:40: #4 Write summits bed file... ../../data/chipseq_MF2C_degraded_v2/diffData/MV411_MEF2D_NT_SC_63_VHL-MEF2C_R1_summits.bed \\nINFO  @ Wed, 13 Jan 2021 22:30:40: Done! \\n'\n",
      "17372573 28118361\n",
      "doing differential peak binding\n"
     ]
    },
    {
     "name": "stdout",
     "output_type": "stream",
     "text": [
      "CompletedProcess(args='macs2 bdgdiff --t1 ../../data/chipseq_MF2C_degraded_v2/diffData/MV411_MEF2D_NT_SC_63_DMSO-MEF2C_R1_treat_pileup.bdg --c1 ../../data/chipseq_MF2C_degraded_v2/diffData/MV411_MEF2D_NT_SC_63_DMSO-MEF2C_R1_control_lambda.bdg --t2 ../../data/chipseq_MF2C_degraded_v2/diffData/MV411_MEF2D_NT_SC_63_VHL-MEF2C_R1_treat_pileup.bdg --c2 ../../data/chipseq_MF2C_degraded_v2/diffData/MV411_MEF2D_NT_SC_63_VHL-MEF2C_R1_control_lambda.bdg --d1 17372573 --d2 28118361 -g 60 -l 192 --o-prefix MV411_MEF2D_NT_SC_63_DMSO-MEF2C_R1_treat_pileup_vs_MV411_MEF2D_NT_SC_63_VHL-MEF2C_R1_treat_pileup --outdir ../../data/chipseq_MF2C_degraded_v2/diffPeaks/', returncode=0, stdout=b'', stderr=b'INFO  @ Wed, 13 Jan 2021 22:30:41: Read and build treatment 1 bedGraph... \\nINFO  @ Wed, 13 Jan 2021 22:31:15: Read and build control 1 bedGraph... \\nINFO  @ Wed, 13 Jan 2021 22:34:59: Read and build treatment 2 bedGraph... \\nINFO  @ Wed, 13 Jan 2021 22:35:44: Read and build control 2 bedGraph... \\nINFO  @ Wed, 13 Jan 2021 22:47:34: Write peaks... \\nINFO  @ Wed, 13 Jan 2021 22:47:34: Done \\n')\n",
      "../../data/chipseq_MF2C_degraded_v2/bwa/mergedLibrary/MV411_MEF2D_NT_SC_63_DMSO-MYC_R1.mLb.clN.sorted.bam ../../data/chipseq_MF2C_degraded_v2/bwa/mergedLibrary/MV411_MEF2D_NT_SC_63_VHL-MYC_R1.mLb.clN.sorted.bam\n",
      "doing diff from ../../data/chipseq_MF2C_degraded_v2/bwa/mergedLibrary/MV411_MEF2D_NT_SC_63_DMSO-MYC_R1.mLb.clN.sorted.bam and ../../data/chipseq_MF2C_degraded_v2/bwa/mergedLibrary/MV411_MEF2D_NT_SC_63_VHL-MYC_R1.mLb.clN.sorted.bam\n",
      "computing the fragment avg size\n",
      "190\n",
      "computing the scaling values\n",
      "b'INFO  @ Wed, 13 Jan 2021 22:49:50: \\n# Command line: callpeak -B -t ../../data/chipseq_MF2C_degraded_v2/bwa/mergedLibrary/MV411_MEF2D_NT_SC_63_DMSO-MYC_R1.mLb.clN.sorted.bam -c ../../data/chipseq_MF2C_degraded_v2/bwa/mergedLibrary/INPUT_R1.mLb.clN.sorted.bam --nomodel --extsize 190 -n MV411_MEF2D_NT_SC_63_DMSO-MYC_R1 --outdir ../../data/chipseq_MF2C_degraded_v2/diffData/ -f BAMPE\\n# ARGUMENTS LIST:\\n# name = MV411_MEF2D_NT_SC_63_DMSO-MYC_R1\\n# format = BAMPE\\n# ChIP-seq file = [\\'../../data/chipseq_MF2C_degraded_v2/bwa/mergedLibrary/MV411_MEF2D_NT_SC_63_DMSO-MYC_R1.mLb.clN.sorted.bam\\']\\n# control file = [\\'../../data/chipseq_MF2C_degraded_v2/bwa/mergedLibrary/INPUT_R1.mLb.clN.sorted.bam\\']\\n# effective genome size = 2.70e+09\\n# band width = 300\\n# model fold = [5, 50]\\n# qvalue cutoff = 5.00e-02\\n# The maximum gap between significant sites is assigned as the read length/tag size.\\n# The minimum length of peaks is assigned as the predicted fragment length \"d\".\\n# Larger dataset will be scaled towards smaller dataset.\\n# Range for calculating regional lambda is: 1000 bps and 10000 bps\\n# Broad region calling is off\\n# Paired-End mode is on\\n \\nINFO  @ Wed, 13 Jan 2021 22:49:50: #1 read fragment files... \\nINFO  @ Wed, 13 Jan 2021 22:49:50: #1 read treatment fragments... \\nINFO  @ Wed, 13 Jan 2021 22:49:55:  1000000 \\nINFO  @ Wed, 13 Jan 2021 22:49:59:  2000000 \\nINFO  @ Wed, 13 Jan 2021 22:50:04:  3000000 \\nINFO  @ Wed, 13 Jan 2021 22:50:09:  4000000 \\nINFO  @ Wed, 13 Jan 2021 22:50:14:  5000000 \\nINFO  @ Wed, 13 Jan 2021 22:50:19:  6000000 \\nINFO  @ Wed, 13 Jan 2021 22:50:23:  7000000 \\nINFO  @ Wed, 13 Jan 2021 22:50:28:  8000000 \\nINFO  @ Wed, 13 Jan 2021 22:50:33:  9000000 \\nINFO  @ Wed, 13 Jan 2021 22:50:38:  10000000 \\nINFO  @ Wed, 13 Jan 2021 22:50:42:  11000000 \\nINFO  @ Wed, 13 Jan 2021 22:50:47:  12000000 \\nINFO  @ Wed, 13 Jan 2021 22:50:52:  13000000 \\nINFO  @ Wed, 13 Jan 2021 22:50:57:  14000000 \\nINFO  @ Wed, 13 Jan 2021 22:51:01:  15000000 \\nINFO  @ Wed, 13 Jan 2021 22:51:06:  16000000 \\nINFO  @ Wed, 13 Jan 2021 22:51:11:  17000000 \\nINFO  @ Wed, 13 Jan 2021 22:51:16:  18000000 \\nINFO  @ Wed, 13 Jan 2021 22:51:20:  19000000 \\nINFO  @ Wed, 13 Jan 2021 22:51:25:  20000000 \\nINFO  @ Wed, 13 Jan 2021 22:51:30:  21000000 \\nINFO  @ Wed, 13 Jan 2021 22:51:34:  22000000 \\nINFO  @ Wed, 13 Jan 2021 22:51:39:  23000000 \\nINFO  @ Wed, 13 Jan 2021 22:51:44:  24000000 \\nINFO  @ Wed, 13 Jan 2021 22:51:49:  25000000 \\nINFO  @ Wed, 13 Jan 2021 22:51:53:  26000000 \\nINFO  @ Wed, 13 Jan 2021 22:51:55: 26243016 fragments have been read. \\nINFO  @ Wed, 13 Jan 2021 22:52:10: #1.2 read input fragments... \\nINFO  @ Wed, 13 Jan 2021 22:52:14:  1000000 \\nINFO  @ Wed, 13 Jan 2021 22:52:18:  2000000 \\nINFO  @ Wed, 13 Jan 2021 22:52:21:  3000000 \\nINFO  @ Wed, 13 Jan 2021 22:52:25:  4000000 \\nINFO  @ Wed, 13 Jan 2021 22:52:29:  5000000 \\nINFO  @ Wed, 13 Jan 2021 22:52:33:  6000000 \\nINFO  @ Wed, 13 Jan 2021 22:52:36:  7000000 \\nINFO  @ Wed, 13 Jan 2021 22:52:40:  8000000 \\nINFO  @ Wed, 13 Jan 2021 22:52:44:  9000000 \\nINFO  @ Wed, 13 Jan 2021 22:52:48:  10000000 \\nINFO  @ Wed, 13 Jan 2021 22:52:52:  11000000 \\nINFO  @ Wed, 13 Jan 2021 22:52:56:  12000000 \\nINFO  @ Wed, 13 Jan 2021 22:52:59:  13000000 \\nINFO  @ Wed, 13 Jan 2021 22:53:03:  14000000 \\nINFO  @ Wed, 13 Jan 2021 22:53:07:  15000000 \\nINFO  @ Wed, 13 Jan 2021 22:53:11:  16000000 \\nINFO  @ Wed, 13 Jan 2021 22:53:14:  17000000 \\nINFO  @ Wed, 13 Jan 2021 22:53:18:  18000000 \\nINFO  @ Wed, 13 Jan 2021 22:53:22:  19000000 \\nINFO  @ Wed, 13 Jan 2021 22:53:26:  20000000 \\nINFO  @ Wed, 13 Jan 2021 22:53:29:  21000000 \\nINFO  @ Wed, 13 Jan 2021 22:53:33:  22000000 \\nINFO  @ Wed, 13 Jan 2021 22:53:37:  23000000 \\nINFO  @ Wed, 13 Jan 2021 22:53:41:  24000000 \\nINFO  @ Wed, 13 Jan 2021 22:53:45:  25000000 \\nINFO  @ Wed, 13 Jan 2021 22:53:48:  26000000 \\nINFO  @ Wed, 13 Jan 2021 22:53:52:  27000000 \\nINFO  @ Wed, 13 Jan 2021 22:53:56:  28000000 \\nINFO  @ Wed, 13 Jan 2021 22:54:00:  29000000 \\nINFO  @ Wed, 13 Jan 2021 22:54:03:  30000000 \\nINFO  @ Wed, 13 Jan 2021 22:54:07:  31000000 \\nINFO  @ Wed, 13 Jan 2021 22:54:11:  32000000 \\nINFO  @ Wed, 13 Jan 2021 22:54:15:  33000000 \\nINFO  @ Wed, 13 Jan 2021 22:54:18:  34000000 \\nINFO  @ Wed, 13 Jan 2021 22:54:22:  35000000 \\nINFO  @ Wed, 13 Jan 2021 22:54:26:  36000000 \\nINFO  @ Wed, 13 Jan 2021 22:54:30:  37000000 \\nINFO  @ Wed, 13 Jan 2021 22:54:33:  38000000 \\nINFO  @ Wed, 13 Jan 2021 22:54:37:  39000000 \\nINFO  @ Wed, 13 Jan 2021 22:54:41:  40000000 \\nINFO  @ Wed, 13 Jan 2021 22:54:45:  41000000 \\nINFO  @ Wed, 13 Jan 2021 22:54:48:  42000000 \\nINFO  @ Wed, 13 Jan 2021 22:54:52:  43000000 \\nINFO  @ Wed, 13 Jan 2021 22:54:56:  44000000 \\nINFO  @ Wed, 13 Jan 2021 22:55:00:  45000000 \\nINFO  @ Wed, 13 Jan 2021 22:55:04:  46000000 \\nINFO  @ Wed, 13 Jan 2021 22:55:07:  47000000 \\nINFO  @ Wed, 13 Jan 2021 22:55:11:  48000000 \\nINFO  @ Wed, 13 Jan 2021 22:55:15:  49000000 \\nINFO  @ Wed, 13 Jan 2021 22:55:19:  50000000 \\nINFO  @ Wed, 13 Jan 2021 22:55:22:  51000000 \\nINFO  @ Wed, 13 Jan 2021 22:55:26:  52000000 \\nINFO  @ Wed, 13 Jan 2021 22:55:30:  53000000 \\nINFO  @ Wed, 13 Jan 2021 22:55:34:  54000000 \\nINFO  @ Wed, 13 Jan 2021 22:55:38:  55000000 \\nINFO  @ Wed, 13 Jan 2021 22:55:42:  56000000 \\nINFO  @ Wed, 13 Jan 2021 22:55:46:  57000000 \\nINFO  @ Wed, 13 Jan 2021 22:55:50:  58000000 \\nINFO  @ Wed, 13 Jan 2021 22:55:54:  59000000 \\nINFO  @ Wed, 13 Jan 2021 22:55:58:  60000000 \\nINFO  @ Wed, 13 Jan 2021 22:56:02:  61000000 \\nINFO  @ Wed, 13 Jan 2021 22:56:06:  62000000 \\nINFO  @ Wed, 13 Jan 2021 22:56:10:  63000000 \\nINFO  @ Wed, 13 Jan 2021 22:56:14:  64000000 \\nINFO  @ Wed, 13 Jan 2021 22:56:18:  65000000 \\nINFO  @ Wed, 13 Jan 2021 22:56:22:  66000000 \\nINFO  @ Wed, 13 Jan 2021 22:56:25: 66660428 fragments have been read. \\nINFO  @ Wed, 13 Jan 2021 22:57:10: #1 mean fragment size is determined as 207.3 bp from treatment \\nINFO  @ Wed, 13 Jan 2021 22:57:10: #1 note: mean fragment size in control is 218.7 bp -- value ignored \\nINFO  @ Wed, 13 Jan 2021 22:57:10: #1 fragment size = 207.3 \\nINFO  @ Wed, 13 Jan 2021 22:57:10: #1  total fragments in treatment: 26243016 \\nINFO  @ Wed, 13 Jan 2021 22:57:10: #1 user defined the maximum fragments... \\nINFO  @ Wed, 13 Jan 2021 22:57:10: #1 filter out redundant fragments by allowing at most 1 identical fragment(s) \\nINFO  @ Wed, 13 Jan 2021 22:57:54: #1  fragments after filtering in treatment: 26234586 \\nINFO  @ Wed, 13 Jan 2021 22:57:54: #1  Redundant rate of treatment: 0.00 \\nINFO  @ Wed, 13 Jan 2021 22:57:54: #1  total fragments in control: 66660428 \\nINFO  @ Wed, 13 Jan 2021 22:57:54: #1 user defined the maximum fragments... \\nINFO  @ Wed, 13 Jan 2021 22:57:54: #1 filter out redundant fragments by allowing at most 1 identical fragment(s) \\nINFO  @ Wed, 13 Jan 2021 22:59:43: #1  fragments after filtering in control: 66632618 \\nINFO  @ Wed, 13 Jan 2021 22:59:43: #1  Redundant rate of control: 0.00 \\nINFO  @ Wed, 13 Jan 2021 22:59:43: #1 finished! \\nINFO  @ Wed, 13 Jan 2021 22:59:43: #2 Build Peak Model... \\nINFO  @ Wed, 13 Jan 2021 22:59:43: #2 Skipped... \\nINFO  @ Wed, 13 Jan 2021 22:59:43: #3 Call peaks... \\nINFO  @ Wed, 13 Jan 2021 22:59:43: #3 Pre-compute pvalue-qvalue table... \\nINFO  @ Wed, 13 Jan 2021 23:09:34: #3 In the peak calling step, the following will be performed simultaneously: \\nINFO  @ Wed, 13 Jan 2021 23:09:34: #3   Write bedGraph files for treatment pileup (after scaling if necessary)... MV411_MEF2D_NT_SC_63_DMSO-MYC_R1_treat_pileup.bdg \\nINFO  @ Wed, 13 Jan 2021 23:09:34: #3   Write bedGraph files for control lambda (after scaling if necessary)... MV411_MEF2D_NT_SC_63_DMSO-MYC_R1_control_lambda.bdg \\nINFO  @ Wed, 13 Jan 2021 23:09:34: #3   Pileup will be based on sequencing depth in treatment. \\nINFO  @ Wed, 13 Jan 2021 23:09:34: #3 Call peaks for each chromosome... \\nINFO  @ Wed, 13 Jan 2021 23:15:59: #4 Write output xls file... ../../data/chipseq_MF2C_degraded_v2/diffData/MV411_MEF2D_NT_SC_63_DMSO-MYC_R1_peaks.xls \\nINFO  @ Wed, 13 Jan 2021 23:15:59: #4 Write peak in narrowPeak format file... ../../data/chipseq_MF2C_degraded_v2/diffData/MV411_MEF2D_NT_SC_63_DMSO-MYC_R1_peaks.narrowPeak \\nINFO  @ Wed, 13 Jan 2021 23:15:59: #4 Write summits bed file... ../../data/chipseq_MF2C_degraded_v2/diffData/MV411_MEF2D_NT_SC_63_DMSO-MYC_R1_summits.bed \\nINFO  @ Wed, 13 Jan 2021 23:15:59: Done! \\n'\n"
     ]
    },
    {
     "name": "stdout",
     "output_type": "stream",
     "text": [
      "b'INFO  @ Wed, 13 Jan 2021 23:16:00: \\n# Command line: callpeak -B -t ../../data/chipseq_MF2C_degraded_v2/bwa/mergedLibrary/MV411_MEF2D_NT_SC_63_VHL-MYC_R1.mLb.clN.sorted.bam -c ../../data/chipseq_MF2C_degraded_v2/bwa/mergedLibrary/INPUT_R1.mLb.clN.sorted.bam --nomodel --extsize 190 -n MV411_MEF2D_NT_SC_63_VHL-MYC_R1 --outdir ../../data/chipseq_MF2C_degraded_v2/diffData/ -f BAMPE\\n# ARGUMENTS LIST:\\n# name = MV411_MEF2D_NT_SC_63_VHL-MYC_R1\\n# format = BAMPE\\n# ChIP-seq file = [\\'../../data/chipseq_MF2C_degraded_v2/bwa/mergedLibrary/MV411_MEF2D_NT_SC_63_VHL-MYC_R1.mLb.clN.sorted.bam\\']\\n# control file = [\\'../../data/chipseq_MF2C_degraded_v2/bwa/mergedLibrary/INPUT_R1.mLb.clN.sorted.bam\\']\\n# effective genome size = 2.70e+09\\n# band width = 300\\n# model fold = [5, 50]\\n# qvalue cutoff = 5.00e-02\\n# The maximum gap between significant sites is assigned as the read length/tag size.\\n# The minimum length of peaks is assigned as the predicted fragment length \"d\".\\n# Larger dataset will be scaled towards smaller dataset.\\n# Range for calculating regional lambda is: 1000 bps and 10000 bps\\n# Broad region calling is off\\n# Paired-End mode is on\\n \\nINFO  @ Wed, 13 Jan 2021 23:16:00: #1 read fragment files... \\nINFO  @ Wed, 13 Jan 2021 23:16:00: #1 read treatment fragments... \\nINFO  @ Wed, 13 Jan 2021 23:16:05:  1000000 \\nINFO  @ Wed, 13 Jan 2021 23:16:12:  2000000 \\nINFO  @ Wed, 13 Jan 2021 23:16:17:  3000000 \\nINFO  @ Wed, 13 Jan 2021 23:16:22:  4000000 \\nINFO  @ Wed, 13 Jan 2021 23:16:27:  5000000 \\nINFO  @ Wed, 13 Jan 2021 23:16:33:  6000000 \\nINFO  @ Wed, 13 Jan 2021 23:16:38:  7000000 \\nINFO  @ Wed, 13 Jan 2021 23:16:43:  8000000 \\nINFO  @ Wed, 13 Jan 2021 23:16:48:  9000000 \\nINFO  @ Wed, 13 Jan 2021 23:16:53:  10000000 \\nINFO  @ Wed, 13 Jan 2021 23:16:58:  11000000 \\nINFO  @ Wed, 13 Jan 2021 23:17:04:  12000000 \\nINFO  @ Wed, 13 Jan 2021 23:17:09:  13000000 \\nINFO  @ Wed, 13 Jan 2021 23:17:14:  14000000 \\nINFO  @ Wed, 13 Jan 2021 23:17:19:  15000000 \\nINFO  @ Wed, 13 Jan 2021 23:17:24:  16000000 \\nINFO  @ Wed, 13 Jan 2021 23:17:30:  17000000 \\nINFO  @ Wed, 13 Jan 2021 23:17:35:  18000000 \\nINFO  @ Wed, 13 Jan 2021 23:17:40:  19000000 \\nINFO  @ Wed, 13 Jan 2021 23:17:45:  20000000 \\nINFO  @ Wed, 13 Jan 2021 23:17:51:  21000000 \\nINFO  @ Wed, 13 Jan 2021 23:17:56:  22000000 \\nINFO  @ Wed, 13 Jan 2021 23:18:01:  23000000 \\nINFO  @ Wed, 13 Jan 2021 23:18:06:  24000000 \\nINFO  @ Wed, 13 Jan 2021 23:18:11:  25000000 \\nINFO  @ Wed, 13 Jan 2021 23:18:13: 25399851 fragments have been read. \\nINFO  @ Wed, 13 Jan 2021 23:18:28: #1.2 read input fragments... \\nINFO  @ Wed, 13 Jan 2021 23:18:32:  1000000 \\nINFO  @ Wed, 13 Jan 2021 23:18:36:  2000000 \\nINFO  @ Wed, 13 Jan 2021 23:18:39:  3000000 \\nINFO  @ Wed, 13 Jan 2021 23:18:43:  4000000 \\nINFO  @ Wed, 13 Jan 2021 23:18:47:  5000000 \\nINFO  @ Wed, 13 Jan 2021 23:18:51:  6000000 \\nINFO  @ Wed, 13 Jan 2021 23:18:55:  7000000 \\nINFO  @ Wed, 13 Jan 2021 23:18:59:  8000000 \\nINFO  @ Wed, 13 Jan 2021 23:19:03:  9000000 \\nINFO  @ Wed, 13 Jan 2021 23:19:07:  10000000 \\nINFO  @ Wed, 13 Jan 2021 23:19:11:  11000000 \\nINFO  @ Wed, 13 Jan 2021 23:19:15:  12000000 \\nINFO  @ Wed, 13 Jan 2021 23:19:18:  13000000 \\nINFO  @ Wed, 13 Jan 2021 23:19:22:  14000000 \\nINFO  @ Wed, 13 Jan 2021 23:19:26:  15000000 \\nINFO  @ Wed, 13 Jan 2021 23:19:30:  16000000 \\nINFO  @ Wed, 13 Jan 2021 23:19:34:  17000000 \\nINFO  @ Wed, 13 Jan 2021 23:19:38:  18000000 \\nINFO  @ Wed, 13 Jan 2021 23:19:42:  19000000 \\nINFO  @ Wed, 13 Jan 2021 23:19:46:  20000000 \\nINFO  @ Wed, 13 Jan 2021 23:19:50:  21000000 \\nINFO  @ Wed, 13 Jan 2021 23:19:53:  22000000 \\nINFO  @ Wed, 13 Jan 2021 23:19:57:  23000000 \\nINFO  @ Wed, 13 Jan 2021 23:20:01:  24000000 \\nINFO  @ Wed, 13 Jan 2021 23:20:05:  25000000 \\nINFO  @ Wed, 13 Jan 2021 23:20:09:  26000000 \\nINFO  @ Wed, 13 Jan 2021 23:20:13:  27000000 \\nINFO  @ Wed, 13 Jan 2021 23:20:16:  28000000 \\nINFO  @ Wed, 13 Jan 2021 23:20:20:  29000000 \\nINFO  @ Wed, 13 Jan 2021 23:20:24:  30000000 \\nINFO  @ Wed, 13 Jan 2021 23:20:28:  31000000 \\nINFO  @ Wed, 13 Jan 2021 23:20:32:  32000000 \\nINFO  @ Wed, 13 Jan 2021 23:20:36:  33000000 \\nINFO  @ Wed, 13 Jan 2021 23:20:40:  34000000 \\nINFO  @ Wed, 13 Jan 2021 23:20:43:  35000000 \\nINFO  @ Wed, 13 Jan 2021 23:20:47:  36000000 \\nINFO  @ Wed, 13 Jan 2021 23:20:51:  37000000 \\nINFO  @ Wed, 13 Jan 2021 23:20:55:  38000000 \\nINFO  @ Wed, 13 Jan 2021 23:20:59:  39000000 \\nINFO  @ Wed, 13 Jan 2021 23:21:02:  40000000 \\nINFO  @ Wed, 13 Jan 2021 23:21:06:  41000000 \\nINFO  @ Wed, 13 Jan 2021 23:21:10:  42000000 \\nINFO  @ Wed, 13 Jan 2021 23:21:14:  43000000 \\nINFO  @ Wed, 13 Jan 2021 23:21:18:  44000000 \\nINFO  @ Wed, 13 Jan 2021 23:21:22:  45000000 \\nINFO  @ Wed, 13 Jan 2021 23:21:26:  46000000 \\nINFO  @ Wed, 13 Jan 2021 23:21:30:  47000000 \\nINFO  @ Wed, 13 Jan 2021 23:21:34:  48000000 \\nINFO  @ Wed, 13 Jan 2021 23:21:37:  49000000 \\nINFO  @ Wed, 13 Jan 2021 23:21:41:  50000000 \\nINFO  @ Wed, 13 Jan 2021 23:21:45:  51000000 \\nINFO  @ Wed, 13 Jan 2021 23:21:49:  52000000 \\nINFO  @ Wed, 13 Jan 2021 23:21:53:  53000000 \\nINFO  @ Wed, 13 Jan 2021 23:21:57:  54000000 \\nINFO  @ Wed, 13 Jan 2021 23:22:01:  55000000 \\nINFO  @ Wed, 13 Jan 2021 23:22:05:  56000000 \\nINFO  @ Wed, 13 Jan 2021 23:22:09:  57000000 \\nINFO  @ Wed, 13 Jan 2021 23:22:13:  58000000 \\nINFO  @ Wed, 13 Jan 2021 23:22:17:  59000000 \\nINFO  @ Wed, 13 Jan 2021 23:22:21:  60000000 \\nINFO  @ Wed, 13 Jan 2021 23:22:25:  61000000 \\nINFO  @ Wed, 13 Jan 2021 23:22:29:  62000000 \\nINFO  @ Wed, 13 Jan 2021 23:22:33:  63000000 \\nINFO  @ Wed, 13 Jan 2021 23:22:37:  64000000 \\nINFO  @ Wed, 13 Jan 2021 23:22:42:  65000000 \\nINFO  @ Wed, 13 Jan 2021 23:22:46:  66000000 \\nINFO  @ Wed, 13 Jan 2021 23:22:48: 66660428 fragments have been read. \\nINFO  @ Wed, 13 Jan 2021 23:23:33: #1 mean fragment size is determined as 206.2 bp from treatment \\nINFO  @ Wed, 13 Jan 2021 23:23:33: #1 note: mean fragment size in control is 218.7 bp -- value ignored \\nINFO  @ Wed, 13 Jan 2021 23:23:33: #1 fragment size = 206.2 \\nINFO  @ Wed, 13 Jan 2021 23:23:33: #1  total fragments in treatment: 25399851 \\nINFO  @ Wed, 13 Jan 2021 23:23:33: #1 user defined the maximum fragments... \\nINFO  @ Wed, 13 Jan 2021 23:23:33: #1 filter out redundant fragments by allowing at most 1 identical fragment(s) \\nINFO  @ Wed, 13 Jan 2021 23:24:16: #1  fragments after filtering in treatment: 25391859 \\nINFO  @ Wed, 13 Jan 2021 23:24:16: #1  Redundant rate of treatment: 0.00 \\nINFO  @ Wed, 13 Jan 2021 23:24:16: #1  total fragments in control: 66660428 \\nINFO  @ Wed, 13 Jan 2021 23:24:16: #1 user defined the maximum fragments... \\nINFO  @ Wed, 13 Jan 2021 23:24:16: #1 filter out redundant fragments by allowing at most 1 identical fragment(s) \\nINFO  @ Wed, 13 Jan 2021 23:26:08: #1  fragments after filtering in control: 66632618 \\nINFO  @ Wed, 13 Jan 2021 23:26:08: #1  Redundant rate of control: 0.00 \\nINFO  @ Wed, 13 Jan 2021 23:26:08: #1 finished! \\nINFO  @ Wed, 13 Jan 2021 23:26:08: #2 Build Peak Model... \\nINFO  @ Wed, 13 Jan 2021 23:26:08: #2 Skipped... \\nINFO  @ Wed, 13 Jan 2021 23:26:08: #3 Call peaks... \\nINFO  @ Wed, 13 Jan 2021 23:26:08: #3 Pre-compute pvalue-qvalue table... \\nINFO  @ Wed, 13 Jan 2021 23:36:12: #3 In the peak calling step, the following will be performed simultaneously: \\nINFO  @ Wed, 13 Jan 2021 23:36:12: #3   Write bedGraph files for treatment pileup (after scaling if necessary)... MV411_MEF2D_NT_SC_63_VHL-MYC_R1_treat_pileup.bdg \\nINFO  @ Wed, 13 Jan 2021 23:36:12: #3   Write bedGraph files for control lambda (after scaling if necessary)... MV411_MEF2D_NT_SC_63_VHL-MYC_R1_control_lambda.bdg \\nINFO  @ Wed, 13 Jan 2021 23:36:12: #3   Pileup will be based on sequencing depth in treatment. \\nINFO  @ Wed, 13 Jan 2021 23:36:12: #3 Call peaks for each chromosome... \\nINFO  @ Wed, 13 Jan 2021 23:42:30: #4 Write output xls file... ../../data/chipseq_MF2C_degraded_v2/diffData/MV411_MEF2D_NT_SC_63_VHL-MYC_R1_peaks.xls \\nINFO  @ Wed, 13 Jan 2021 23:42:30: #4 Write peak in narrowPeak format file... ../../data/chipseq_MF2C_degraded_v2/diffData/MV411_MEF2D_NT_SC_63_VHL-MYC_R1_peaks.narrowPeak \\nINFO  @ Wed, 13 Jan 2021 23:42:30: #4 Write summits bed file... ../../data/chipseq_MF2C_degraded_v2/diffData/MV411_MEF2D_NT_SC_63_VHL-MYC_R1_summits.bed \\nINFO  @ Wed, 13 Jan 2021 23:42:30: Done! \\n'\n",
      "30505332 25391859\n",
      "doing differential peak binding\n"
     ]
    },
    {
     "name": "stdout",
     "output_type": "stream",
     "text": [
      "CompletedProcess(args='macs2 bdgdiff --t1 ../../data/chipseq_MF2C_degraded_v2/diffData/MV411_MEF2D_NT_SC_63_DMSO-MYC_R1_treat_pileup.bdg --c1 ../../data/chipseq_MF2C_degraded_v2/diffData/MV411_MEF2D_NT_SC_63_DMSO-MYC_R1_control_lambda.bdg --t2 ../../data/chipseq_MF2C_degraded_v2/diffData/MV411_MEF2D_NT_SC_63_VHL-MYC_R1_treat_pileup.bdg --c2 ../../data/chipseq_MF2C_degraded_v2/diffData/MV411_MEF2D_NT_SC_63_VHL-MYC_R1_control_lambda.bdg --d1 30505332 --d2 25391859 -g 60 -l 190 --o-prefix MV411_MEF2D_NT_SC_63_DMSO-MYC_R1_treat_pileup_vs_MV411_MEF2D_NT_SC_63_VHL-MYC_R1_treat_pileup --outdir ../../data/chipseq_MF2C_degraded_v2/diffPeaks/', returncode=0, stdout=b'', stderr=b'INFO  @ Wed, 13 Jan 2021 23:42:32: Read and build treatment 1 bedGraph... \\nINFO  @ Wed, 13 Jan 2021 23:43:21: Read and build control 1 bedGraph... \\nINFO  @ Wed, 13 Jan 2021 23:47:11: Read and build treatment 2 bedGraph... \\nINFO  @ Wed, 13 Jan 2021 23:47:56: Read and build control 2 bedGraph... \\nINFO  @ Wed, 13 Jan 2021 23:59:22: Write peaks... \\nINFO  @ Wed, 13 Jan 2021 23:59:22: Done \\n')\n",
      "../../data/chipseq_MF2C_degraded_v2/bwa/mergedLibrary/MV411_MEF2D_NT_SC_63_DMSO-POLII_total_R1.mLb.clN.sorted.bam ../../data/chipseq_MF2C_degraded_v2/bwa/mergedLibrary/MV411_MEF2D_NT_SC_63_VHL-POLII_total_R1.mLb.clN.sorted.bam\n",
      "doing diff from ../../data/chipseq_MF2C_degraded_v2/bwa/mergedLibrary/MV411_MEF2D_NT_SC_63_DMSO-POLII_total_R1.mLb.clN.sorted.bam and ../../data/chipseq_MF2C_degraded_v2/bwa/mergedLibrary/MV411_MEF2D_NT_SC_63_VHL-POLII_total_R1.mLb.clN.sorted.bam\n",
      "computing the fragment avg size\n",
      "203\n",
      "computing the scaling values\n",
      "b'INFO  @ Thu, 14 Jan 2021 00:02:15: \\n# Command line: callpeak -B -t ../../data/chipseq_MF2C_degraded_v2/bwa/mergedLibrary/MV411_MEF2D_NT_SC_63_DMSO-POLII_total_R1.mLb.clN.sorted.bam -c ../../data/chipseq_MF2C_degraded_v2/bwa/mergedLibrary/INPUT_R1.mLb.clN.sorted.bam --nomodel --extsize 203 -n MV411_MEF2D_NT_SC_63_DMSO-POLII_total_R1 --outdir ../../data/chipseq_MF2C_degraded_v2/diffData/ -f BAMPE\\n# ARGUMENTS LIST:\\n# name = MV411_MEF2D_NT_SC_63_DMSO-POLII_total_R1\\n# format = BAMPE\\n# ChIP-seq file = [\\'../../data/chipseq_MF2C_degraded_v2/bwa/mergedLibrary/MV411_MEF2D_NT_SC_63_DMSO-POLII_total_R1.mLb.clN.sorted.bam\\']\\n# control file = [\\'../../data/chipseq_MF2C_degraded_v2/bwa/mergedLibrary/INPUT_R1.mLb.clN.sorted.bam\\']\\n# effective genome size = 2.70e+09\\n# band width = 300\\n# model fold = [5, 50]\\n# qvalue cutoff = 5.00e-02\\n# The maximum gap between significant sites is assigned as the read length/tag size.\\n# The minimum length of peaks is assigned as the predicted fragment length \"d\".\\n# Larger dataset will be scaled towards smaller dataset.\\n# Range for calculating regional lambda is: 1000 bps and 10000 bps\\n# Broad region calling is off\\n# Paired-End mode is on\\n \\nINFO  @ Thu, 14 Jan 2021 00:02:15: #1 read fragment files... \\nINFO  @ Thu, 14 Jan 2021 00:02:15: #1 read treatment fragments... \\nINFO  @ Thu, 14 Jan 2021 00:02:21:  1000000 \\nINFO  @ Thu, 14 Jan 2021 00:02:26:  2000000 \\nINFO  @ Thu, 14 Jan 2021 00:02:31:  3000000 \\nINFO  @ Thu, 14 Jan 2021 00:02:36:  4000000 \\nINFO  @ Thu, 14 Jan 2021 00:02:42:  5000000 \\nINFO  @ Thu, 14 Jan 2021 00:02:47:  6000000 \\nINFO  @ Thu, 14 Jan 2021 00:02:52:  7000000 \\nINFO  @ Thu, 14 Jan 2021 00:02:57:  8000000 \\nINFO  @ Thu, 14 Jan 2021 00:03:03:  9000000 \\nINFO  @ Thu, 14 Jan 2021 00:03:08:  10000000 \\nINFO  @ Thu, 14 Jan 2021 00:03:13:  11000000 \\nINFO  @ Thu, 14 Jan 2021 00:03:18:  12000000 \\nINFO  @ Thu, 14 Jan 2021 00:03:23:  13000000 \\nINFO  @ Thu, 14 Jan 2021 00:03:29:  14000000 \\nINFO  @ Thu, 14 Jan 2021 00:03:34:  15000000 \\nINFO  @ Thu, 14 Jan 2021 00:03:39:  16000000 \\nINFO  @ Thu, 14 Jan 2021 00:03:44:  17000000 \\nINFO  @ Thu, 14 Jan 2021 00:03:50:  18000000 \\nINFO  @ Thu, 14 Jan 2021 00:03:55:  19000000 \\nINFO  @ Thu, 14 Jan 2021 00:04:00:  20000000 \\nINFO  @ Thu, 14 Jan 2021 00:04:05:  21000000 \\nINFO  @ Thu, 14 Jan 2021 00:04:10:  22000000 \\nINFO  @ Thu, 14 Jan 2021 00:04:15:  23000000 \\nINFO  @ Thu, 14 Jan 2021 00:04:20:  24000000 \\nINFO  @ Thu, 14 Jan 2021 00:04:25:  25000000 \\nINFO  @ Thu, 14 Jan 2021 00:04:30:  26000000 \\nINFO  @ Thu, 14 Jan 2021 00:04:35:  27000000 \\nINFO  @ Thu, 14 Jan 2021 00:04:40:  28000000 \\nINFO  @ Thu, 14 Jan 2021 00:04:45:  29000000 \\nINFO  @ Thu, 14 Jan 2021 00:04:50:  30000000 \\nINFO  @ Thu, 14 Jan 2021 00:04:55:  31000000 \\nINFO  @ Thu, 14 Jan 2021 00:04:56: 31071152 fragments have been read. \\nINFO  @ Thu, 14 Jan 2021 00:05:14: #1.2 read input fragments... \\nINFO  @ Thu, 14 Jan 2021 00:05:18:  1000000 \\nINFO  @ Thu, 14 Jan 2021 00:05:22:  2000000 \\nINFO  @ Thu, 14 Jan 2021 00:05:26:  3000000 \\nINFO  @ Thu, 14 Jan 2021 00:05:30:  4000000 \\nINFO  @ Thu, 14 Jan 2021 00:05:34:  5000000 \\nINFO  @ Thu, 14 Jan 2021 00:05:38:  6000000 \\nINFO  @ Thu, 14 Jan 2021 00:05:42:  7000000 \\nINFO  @ Thu, 14 Jan 2021 00:05:46:  8000000 \\nINFO  @ Thu, 14 Jan 2021 00:05:49:  9000000 \\nINFO  @ Thu, 14 Jan 2021 00:05:53:  10000000 \\nINFO  @ Thu, 14 Jan 2021 00:05:57:  11000000 \\nINFO  @ Thu, 14 Jan 2021 00:06:01:  12000000 \\nINFO  @ Thu, 14 Jan 2021 00:06:05:  13000000 \\nINFO  @ Thu, 14 Jan 2021 00:06:09:  14000000 \\nINFO  @ Thu, 14 Jan 2021 00:06:13:  15000000 \\nINFO  @ Thu, 14 Jan 2021 00:06:17:  16000000 \\nINFO  @ Thu, 14 Jan 2021 00:06:21:  17000000 \\nINFO  @ Thu, 14 Jan 2021 00:06:25:  18000000 \\nINFO  @ Thu, 14 Jan 2021 00:06:29:  19000000 \\nINFO  @ Thu, 14 Jan 2021 00:06:33:  20000000 \\nINFO  @ Thu, 14 Jan 2021 00:06:37:  21000000 \\nINFO  @ Thu, 14 Jan 2021 00:06:41:  22000000 \\nINFO  @ Thu, 14 Jan 2021 00:06:45:  23000000 \\nINFO  @ Thu, 14 Jan 2021 00:06:49:  24000000 \\nINFO  @ Thu, 14 Jan 2021 00:06:52:  25000000 \\nINFO  @ Thu, 14 Jan 2021 00:06:56:  26000000 \\nINFO  @ Thu, 14 Jan 2021 00:07:00:  27000000 \\nINFO  @ Thu, 14 Jan 2021 00:07:04:  28000000 \\nINFO  @ Thu, 14 Jan 2021 00:07:08:  29000000 \\nINFO  @ Thu, 14 Jan 2021 00:07:12:  30000000 \\nINFO  @ Thu, 14 Jan 2021 00:07:16:  31000000 \\nINFO  @ Thu, 14 Jan 2021 00:07:20:  32000000 \\nINFO  @ Thu, 14 Jan 2021 00:07:24:  33000000 \\nINFO  @ Thu, 14 Jan 2021 00:07:27:  34000000 \\nINFO  @ Thu, 14 Jan 2021 00:07:31:  35000000 \\nINFO  @ Thu, 14 Jan 2021 00:07:35:  36000000 \\nINFO  @ Thu, 14 Jan 2021 00:07:39:  37000000 \\nINFO  @ Thu, 14 Jan 2021 00:07:43:  38000000 \\nINFO  @ Thu, 14 Jan 2021 00:07:47:  39000000 \\nINFO  @ Thu, 14 Jan 2021 00:07:51:  40000000 \\nINFO  @ Thu, 14 Jan 2021 00:07:55:  41000000 \\nINFO  @ Thu, 14 Jan 2021 00:07:59:  42000000 \\nINFO  @ Thu, 14 Jan 2021 00:08:03:  43000000 \\nINFO  @ Thu, 14 Jan 2021 00:08:07:  44000000 \\nINFO  @ Thu, 14 Jan 2021 00:08:11:  45000000 \\nINFO  @ Thu, 14 Jan 2021 00:08:15:  46000000 \\nINFO  @ Thu, 14 Jan 2021 00:08:19:  47000000 \\nINFO  @ Thu, 14 Jan 2021 00:08:23:  48000000 \\nINFO  @ Thu, 14 Jan 2021 00:08:26:  49000000 \\nINFO  @ Thu, 14 Jan 2021 00:08:30:  50000000 \\nINFO  @ Thu, 14 Jan 2021 00:08:34:  51000000 \\nINFO  @ Thu, 14 Jan 2021 00:08:38:  52000000 \\nINFO  @ Thu, 14 Jan 2021 00:08:44:  53000000 \\nINFO  @ Thu, 14 Jan 2021 00:08:48:  54000000 \\nINFO  @ Thu, 14 Jan 2021 00:08:52:  55000000 \\nINFO  @ Thu, 14 Jan 2021 00:08:56:  56000000 \\nINFO  @ Thu, 14 Jan 2021 00:09:00:  57000000 \\nINFO  @ Thu, 14 Jan 2021 00:09:04:  58000000 \\nINFO  @ Thu, 14 Jan 2021 00:09:08:  59000000 \\nINFO  @ Thu, 14 Jan 2021 00:09:12:  60000000 \\nINFO  @ Thu, 14 Jan 2021 00:09:15:  61000000 \\nINFO  @ Thu, 14 Jan 2021 00:09:19:  62000000 \\nINFO  @ Thu, 14 Jan 2021 00:09:23:  63000000 \\nINFO  @ Thu, 14 Jan 2021 00:09:27:  64000000 \\nINFO  @ Thu, 14 Jan 2021 00:09:31:  65000000 \\nINFO  @ Thu, 14 Jan 2021 00:09:35:  66000000 \\nINFO  @ Thu, 14 Jan 2021 00:09:38: 66660428 fragments have been read. \\nINFO  @ Thu, 14 Jan 2021 00:10:23: #1 mean fragment size is determined as 220.4 bp from treatment \\nINFO  @ Thu, 14 Jan 2021 00:10:23: #1 note: mean fragment size in control is 218.7 bp -- value ignored \\nINFO  @ Thu, 14 Jan 2021 00:10:23: #1 fragment size = 220.4 \\nINFO  @ Thu, 14 Jan 2021 00:10:23: #1  total fragments in treatment: 31071152 \\nINFO  @ Thu, 14 Jan 2021 00:10:23: #1 user defined the maximum fragments... \\nINFO  @ Thu, 14 Jan 2021 00:10:23: #1 filter out redundant fragments by allowing at most 1 identical fragment(s) \\nINFO  @ Thu, 14 Jan 2021 00:11:14: #1  fragments after filtering in treatment: 31066099 \\nINFO  @ Thu, 14 Jan 2021 00:11:14: #1  Redundant rate of treatment: 0.00 \\nINFO  @ Thu, 14 Jan 2021 00:11:14: #1  total fragments in control: 66660428 \\nINFO  @ Thu, 14 Jan 2021 00:11:14: #1 user defined the maximum fragments... \\nINFO  @ Thu, 14 Jan 2021 00:11:14: #1 filter out redundant fragments by allowing at most 1 identical fragment(s) \\nINFO  @ Thu, 14 Jan 2021 00:13:01: #1  fragments after filtering in control: 66632618 \\nINFO  @ Thu, 14 Jan 2021 00:13:01: #1  Redundant rate of control: 0.00 \\nINFO  @ Thu, 14 Jan 2021 00:13:01: #1 finished! \\nINFO  @ Thu, 14 Jan 2021 00:13:01: #2 Build Peak Model... \\nINFO  @ Thu, 14 Jan 2021 00:13:01: #2 Skipped... \\nINFO  @ Thu, 14 Jan 2021 00:13:01: #3 Call peaks... \\nINFO  @ Thu, 14 Jan 2021 00:13:01: #3 Pre-compute pvalue-qvalue table... \\nINFO  @ Thu, 14 Jan 2021 00:22:58: #3 In the peak calling step, the following will be performed simultaneously: \\nINFO  @ Thu, 14 Jan 2021 00:22:58: #3   Write bedGraph files for treatment pileup (after scaling if necessary)... MV411_MEF2D_NT_SC_63_DMSO-POLII_total_R1_treat_pileup.bdg \\nINFO  @ Thu, 14 Jan 2021 00:22:58: #3   Write bedGraph files for control lambda (after scaling if necessary)... MV411_MEF2D_NT_SC_63_DMSO-POLII_total_R1_control_lambda.bdg \\nINFO  @ Thu, 14 Jan 2021 00:22:58: #3   Pileup will be based on sequencing depth in treatment. \\nINFO  @ Thu, 14 Jan 2021 00:22:58: #3 Call peaks for each chromosome... \\nINFO  @ Thu, 14 Jan 2021 00:30:59: #4 Write output xls file... ../../data/chipseq_MF2C_degraded_v2/diffData/MV411_MEF2D_NT_SC_63_DMSO-POLII_total_R1_peaks.xls \\nINFO  @ Thu, 14 Jan 2021 00:30:59: #4 Write peak in narrowPeak format file... ../../data/chipseq_MF2C_degraded_v2/diffData/MV411_MEF2D_NT_SC_63_DMSO-POLII_total_R1_peaks.narrowPeak \\nINFO  @ Thu, 14 Jan 2021 00:31:00: #4 Write summits bed file... ../../data/chipseq_MF2C_degraded_v2/diffData/MV411_MEF2D_NT_SC_63_DMSO-POLII_total_R1_summits.bed \\nINFO  @ Thu, 14 Jan 2021 00:31:00: Done! \\n'\n"
     ]
    },
    {
     "name": "stdout",
     "output_type": "stream",
     "text": [
      "b'INFO  @ Thu, 14 Jan 2021 00:31:01: \\n# Command line: callpeak -B -t ../../data/chipseq_MF2C_degraded_v2/bwa/mergedLibrary/MV411_MEF2D_NT_SC_63_VHL-POLII_total_R1.mLb.clN.sorted.bam -c ../../data/chipseq_MF2C_degraded_v2/bwa/mergedLibrary/INPUT_R1.mLb.clN.sorted.bam --nomodel --extsize 203 -n MV411_MEF2D_NT_SC_63_VHL-POLII_total_R1 --outdir ../../data/chipseq_MF2C_degraded_v2/diffData/ -f BAMPE\\n# ARGUMENTS LIST:\\n# name = MV411_MEF2D_NT_SC_63_VHL-POLII_total_R1\\n# format = BAMPE\\n# ChIP-seq file = [\\'../../data/chipseq_MF2C_degraded_v2/bwa/mergedLibrary/MV411_MEF2D_NT_SC_63_VHL-POLII_total_R1.mLb.clN.sorted.bam\\']\\n# control file = [\\'../../data/chipseq_MF2C_degraded_v2/bwa/mergedLibrary/INPUT_R1.mLb.clN.sorted.bam\\']\\n# effective genome size = 2.70e+09\\n# band width = 300\\n# model fold = [5, 50]\\n# qvalue cutoff = 5.00e-02\\n# The maximum gap between significant sites is assigned as the read length/tag size.\\n# The minimum length of peaks is assigned as the predicted fragment length \"d\".\\n# Larger dataset will be scaled towards smaller dataset.\\n# Range for calculating regional lambda is: 1000 bps and 10000 bps\\n# Broad region calling is off\\n# Paired-End mode is on\\n \\nINFO  @ Thu, 14 Jan 2021 00:31:01: #1 read fragment files... \\nINFO  @ Thu, 14 Jan 2021 00:31:01: #1 read treatment fragments... \\nINFO  @ Thu, 14 Jan 2021 00:31:07:  1000000 \\nINFO  @ Thu, 14 Jan 2021 00:31:13:  2000000 \\nINFO  @ Thu, 14 Jan 2021 00:31:18:  3000000 \\nINFO  @ Thu, 14 Jan 2021 00:31:23:  4000000 \\nINFO  @ Thu, 14 Jan 2021 00:31:28:  5000000 \\nINFO  @ Thu, 14 Jan 2021 00:31:34:  6000000 \\nINFO  @ Thu, 14 Jan 2021 00:31:39:  7000000 \\nINFO  @ Thu, 14 Jan 2021 00:31:44:  8000000 \\nINFO  @ Thu, 14 Jan 2021 00:31:50:  9000000 \\nINFO  @ Thu, 14 Jan 2021 00:31:55:  10000000 \\nINFO  @ Thu, 14 Jan 2021 00:32:00:  11000000 \\nINFO  @ Thu, 14 Jan 2021 00:32:05:  12000000 \\nINFO  @ Thu, 14 Jan 2021 00:32:11:  13000000 \\nINFO  @ Thu, 14 Jan 2021 00:32:16:  14000000 \\nINFO  @ Thu, 14 Jan 2021 00:32:21:  15000000 \\nINFO  @ Thu, 14 Jan 2021 00:32:26:  16000000 \\nINFO  @ Thu, 14 Jan 2021 00:32:32:  17000000 \\nINFO  @ Thu, 14 Jan 2021 00:32:37:  18000000 \\nINFO  @ Thu, 14 Jan 2021 00:32:42:  19000000 \\nINFO  @ Thu, 14 Jan 2021 00:32:47:  20000000 \\nINFO  @ Thu, 14 Jan 2021 00:32:53:  21000000 \\nINFO  @ Thu, 14 Jan 2021 00:32:58:  22000000 \\nINFO  @ Thu, 14 Jan 2021 00:33:03:  23000000 \\nINFO  @ Thu, 14 Jan 2021 00:33:08:  24000000 \\nINFO  @ Thu, 14 Jan 2021 00:33:14:  25000000 \\nINFO  @ Thu, 14 Jan 2021 00:33:19:  26000000 \\nINFO  @ Thu, 14 Jan 2021 00:33:24:  27000000 \\nINFO  @ Thu, 14 Jan 2021 00:33:29:  28000000 \\nINFO  @ Thu, 14 Jan 2021 00:33:34:  29000000 \\nINFO  @ Thu, 14 Jan 2021 00:33:39:  30000000 \\nINFO  @ Thu, 14 Jan 2021 00:33:44: 30886051 fragments have been read. \\nINFO  @ Thu, 14 Jan 2021 00:34:02: #1.2 read input fragments... \\nINFO  @ Thu, 14 Jan 2021 00:34:06:  1000000 \\nINFO  @ Thu, 14 Jan 2021 00:34:10:  2000000 \\nINFO  @ Thu, 14 Jan 2021 00:34:14:  3000000 \\nINFO  @ Thu, 14 Jan 2021 00:34:18:  4000000 \\nINFO  @ Thu, 14 Jan 2021 00:34:22:  5000000 \\nINFO  @ Thu, 14 Jan 2021 00:34:26:  6000000 \\nINFO  @ Thu, 14 Jan 2021 00:34:29:  7000000 \\nINFO  @ Thu, 14 Jan 2021 00:34:33:  8000000 \\nINFO  @ Thu, 14 Jan 2021 00:34:37:  9000000 \\nINFO  @ Thu, 14 Jan 2021 00:34:41:  10000000 \\nINFO  @ Thu, 14 Jan 2021 00:34:45:  11000000 \\nINFO  @ Thu, 14 Jan 2021 00:34:49:  12000000 \\nINFO  @ Thu, 14 Jan 2021 00:34:53:  13000000 \\nINFO  @ Thu, 14 Jan 2021 00:34:57:  14000000 \\nINFO  @ Thu, 14 Jan 2021 00:35:01:  15000000 \\nINFO  @ Thu, 14 Jan 2021 00:35:05:  16000000 \\nINFO  @ Thu, 14 Jan 2021 00:35:08:  17000000 \\nINFO  @ Thu, 14 Jan 2021 00:35:12:  18000000 \\nINFO  @ Thu, 14 Jan 2021 00:35:16:  19000000 \\nINFO  @ Thu, 14 Jan 2021 00:35:20:  20000000 \\nINFO  @ Thu, 14 Jan 2021 00:35:24:  21000000 \\nINFO  @ Thu, 14 Jan 2021 00:35:28:  22000000 \\nINFO  @ Thu, 14 Jan 2021 00:35:32:  23000000 \\nINFO  @ Thu, 14 Jan 2021 00:35:36:  24000000 \\nINFO  @ Thu, 14 Jan 2021 00:35:40:  25000000 \\nINFO  @ Thu, 14 Jan 2021 00:35:44:  26000000 \\nINFO  @ Thu, 14 Jan 2021 00:35:47:  27000000 \\nINFO  @ Thu, 14 Jan 2021 00:35:51:  28000000 \\nINFO  @ Thu, 14 Jan 2021 00:35:55:  29000000 \\nINFO  @ Thu, 14 Jan 2021 00:35:59:  30000000 \\nINFO  @ Thu, 14 Jan 2021 00:36:03:  31000000 \\nINFO  @ Thu, 14 Jan 2021 00:36:07:  32000000 \\nINFO  @ Thu, 14 Jan 2021 00:36:10:  33000000 \\nINFO  @ Thu, 14 Jan 2021 00:36:14:  34000000 \\nINFO  @ Thu, 14 Jan 2021 00:36:18:  35000000 \\nINFO  @ Thu, 14 Jan 2021 00:36:22:  36000000 \\nINFO  @ Thu, 14 Jan 2021 00:36:26:  37000000 \\nINFO  @ Thu, 14 Jan 2021 00:36:29:  38000000 \\nINFO  @ Thu, 14 Jan 2021 00:36:33:  39000000 \\nINFO  @ Thu, 14 Jan 2021 00:36:37:  40000000 \\nINFO  @ Thu, 14 Jan 2021 00:36:41:  41000000 \\nINFO  @ Thu, 14 Jan 2021 00:36:45:  42000000 \\nINFO  @ Thu, 14 Jan 2021 00:36:49:  43000000 \\nINFO  @ Thu, 14 Jan 2021 00:36:53:  44000000 \\nINFO  @ Thu, 14 Jan 2021 00:36:57:  45000000 \\nINFO  @ Thu, 14 Jan 2021 00:37:01:  46000000 \\nINFO  @ Thu, 14 Jan 2021 00:37:05:  47000000 \\nINFO  @ Thu, 14 Jan 2021 00:37:08:  48000000 \\nINFO  @ Thu, 14 Jan 2021 00:37:12:  49000000 \\nINFO  @ Thu, 14 Jan 2021 00:37:16:  50000000 \\nINFO  @ Thu, 14 Jan 2021 00:37:20:  51000000 \\nINFO  @ Thu, 14 Jan 2021 00:37:24:  52000000 \\nINFO  @ Thu, 14 Jan 2021 00:37:28:  53000000 \\nINFO  @ Thu, 14 Jan 2021 00:37:32:  54000000 \\nINFO  @ Thu, 14 Jan 2021 00:37:36:  55000000 \\nINFO  @ Thu, 14 Jan 2021 00:37:40:  56000000 \\nINFO  @ Thu, 14 Jan 2021 00:37:44:  57000000 \\nINFO  @ Thu, 14 Jan 2021 00:37:48:  58000000 \\nINFO  @ Thu, 14 Jan 2021 00:37:52:  59000000 \\nINFO  @ Thu, 14 Jan 2021 00:37:56:  60000000 \\nINFO  @ Thu, 14 Jan 2021 00:38:00:  61000000 \\nINFO  @ Thu, 14 Jan 2021 00:38:04:  62000000 \\nINFO  @ Thu, 14 Jan 2021 00:38:08:  63000000 \\nINFO  @ Thu, 14 Jan 2021 00:38:12:  64000000 \\nINFO  @ Thu, 14 Jan 2021 00:38:16:  65000000 \\nINFO  @ Thu, 14 Jan 2021 00:38:19:  66000000 \\nINFO  @ Thu, 14 Jan 2021 00:38:22: 66660428 fragments have been read. \\nINFO  @ Thu, 14 Jan 2021 00:39:07: #1 mean fragment size is determined as 206.9 bp from treatment \\nINFO  @ Thu, 14 Jan 2021 00:39:07: #1 note: mean fragment size in control is 218.7 bp -- value ignored \\nINFO  @ Thu, 14 Jan 2021 00:39:07: #1 fragment size = 206.9 \\nINFO  @ Thu, 14 Jan 2021 00:39:07: #1  total fragments in treatment: 30886051 \\nINFO  @ Thu, 14 Jan 2021 00:39:07: #1 user defined the maximum fragments... \\nINFO  @ Thu, 14 Jan 2021 00:39:07: #1 filter out redundant fragments by allowing at most 1 identical fragment(s) \\nINFO  @ Thu, 14 Jan 2021 00:39:57: #1  fragments after filtering in treatment: 30877270 \\nINFO  @ Thu, 14 Jan 2021 00:39:57: #1  Redundant rate of treatment: 0.00 \\nINFO  @ Thu, 14 Jan 2021 00:39:57: #1  total fragments in control: 66660428 \\nINFO  @ Thu, 14 Jan 2021 00:39:57: #1 user defined the maximum fragments... \\nINFO  @ Thu, 14 Jan 2021 00:39:57: #1 filter out redundant fragments by allowing at most 1 identical fragment(s) \\nINFO  @ Thu, 14 Jan 2021 00:41:48: #1  fragments after filtering in control: 66632618 \\nINFO  @ Thu, 14 Jan 2021 00:41:48: #1  Redundant rate of control: 0.00 \\nINFO  @ Thu, 14 Jan 2021 00:41:48: #1 finished! \\nINFO  @ Thu, 14 Jan 2021 00:41:48: #2 Build Peak Model... \\nINFO  @ Thu, 14 Jan 2021 00:41:48: #2 Skipped... \\nINFO  @ Thu, 14 Jan 2021 00:41:48: #3 Call peaks... \\nINFO  @ Thu, 14 Jan 2021 00:41:48: #3 Pre-compute pvalue-qvalue table... \\nINFO  @ Thu, 14 Jan 2021 00:51:54: #3 In the peak calling step, the following will be performed simultaneously: \\nINFO  @ Thu, 14 Jan 2021 00:51:54: #3   Write bedGraph files for treatment pileup (after scaling if necessary)... MV411_MEF2D_NT_SC_63_VHL-POLII_total_R1_treat_pileup.bdg \\nINFO  @ Thu, 14 Jan 2021 00:51:54: #3   Write bedGraph files for control lambda (after scaling if necessary)... MV411_MEF2D_NT_SC_63_VHL-POLII_total_R1_control_lambda.bdg \\nINFO  @ Thu, 14 Jan 2021 00:51:54: #3   Pileup will be based on sequencing depth in treatment. \\nINFO  @ Thu, 14 Jan 2021 00:51:54: #3 Call peaks for each chromosome... \\nINFO  @ Thu, 14 Jan 2021 00:59:31: #4 Write output xls file... ../../data/chipseq_MF2C_degraded_v2/diffData/MV411_MEF2D_NT_SC_63_VHL-POLII_total_R1_peaks.xls \\nINFO  @ Thu, 14 Jan 2021 00:59:31: #4 Write peak in narrowPeak format file... ../../data/chipseq_MF2C_degraded_v2/diffData/MV411_MEF2D_NT_SC_63_VHL-POLII_total_R1_peaks.narrowPeak \\nINFO  @ Thu, 14 Jan 2021 00:59:31: #4 Write summits bed file... ../../data/chipseq_MF2C_degraded_v2/diffData/MV411_MEF2D_NT_SC_63_VHL-POLII_total_R1_summits.bed \\nINFO  @ Thu, 14 Jan 2021 00:59:31: Done! \\n'\n",
      "119484996 30877270\n",
      "doing differential peak binding\n"
     ]
    },
    {
     "name": "stdout",
     "output_type": "stream",
     "text": [
      "CompletedProcess(args='macs2 bdgdiff --t1 ../../data/chipseq_MF2C_degraded_v2/diffData/MV411_MEF2D_NT_SC_63_DMSO-POLII_total_R1_treat_pileup.bdg --c1 ../../data/chipseq_MF2C_degraded_v2/diffData/MV411_MEF2D_NT_SC_63_DMSO-POLII_total_R1_control_lambda.bdg --t2 ../../data/chipseq_MF2C_degraded_v2/diffData/MV411_MEF2D_NT_SC_63_VHL-POLII_total_R1_treat_pileup.bdg --c2 ../../data/chipseq_MF2C_degraded_v2/diffData/MV411_MEF2D_NT_SC_63_VHL-POLII_total_R1_control_lambda.bdg --d1 119484996 --d2 30877270 -g 60 -l 203 --o-prefix MV411_MEF2D_NT_SC_63_DMSO-POLII_total_R1_treat_pileup_vs_MV411_MEF2D_NT_SC_63_VHL-POLII_total_R1_treat_pileup --outdir ../../data/chipseq_MF2C_degraded_v2/diffPeaks/', returncode=0, stdout=b'', stderr=b'INFO  @ Thu, 14 Jan 2021 00:59:34: Read and build treatment 1 bedGraph... \\nINFO  @ Thu, 14 Jan 2021 01:00:38: Read and build control 1 bedGraph... \\nINFO  @ Thu, 14 Jan 2021 01:04:33: Read and build treatment 2 bedGraph... \\nINFO  @ Thu, 14 Jan 2021 01:05:37: Read and build control 2 bedGraph... \\nINFO  @ Thu, 14 Jan 2021 01:19:20: Write peaks... \\nINFO  @ Thu, 14 Jan 2021 01:19:20: Done \\n')\n"
     ]
    }
   ],
   "source": [
    "# diffPeak on scaled data (full reprocessing)\n",
    "for i in range(int(len(bams)/2)):\n",
    "    if i < 0:\n",
    "        continue\n",
    "    bam1 = bams[1+i]\n",
    "    bam2 = bams[1+len(names)+i]\n",
    "    print(bam1,bam2)\n",
    "    print(chip.fullDiffPeak(bam1,bam2, control1=bams[0], scaling=[scales[i], scales[i+len(names)]], directory = \"../../data/\"+project+\"/diffData/\", res_directory = \"../../data/\"+project+\"/diffPeaks/\",pairedend=True))"
   ]
  },
  {
   "cell_type": "code",
   "execution_count": 386,
   "metadata": {},
   "outputs": [
    {
     "data": {
      "text/plain": [
       "['0.00744797',\n",
       " '0.0210728',\n",
       " '0.0214731',\n",
       " '0.0285701',\n",
       " '0.0189601',\n",
       " '0.0160234',\n",
       " '0.0245118',\n",
       " '0.0177966',\n",
       " '0.0212657',\n",
       " '0.0195866',\n",
       " '0.0160999']"
      ]
     },
     "execution_count": 386,
     "metadata": {},
     "output_type": "execute_result"
    }
   ],
   "source": [
    "initscales = ! cat ../../data/$project/bwa/mergedLibrary/bigwig/scale/*.txt\n",
    "initscales"
   ]
  },
  {
   "cell_type": "code",
   "execution_count": 387,
   "metadata": {},
   "outputs": [
    {
     "data": {
      "text/plain": [
       "[0.0210728,\n",
       " 0.016963749,\n",
       " 0.0285701,\n",
       " 0.016305686,\n",
       " 0.0041660840000000005,\n",
       " 0.019364322,\n",
       " 0.0177966,\n",
       " 0.017650530999999997,\n",
       " 0.0195866,\n",
       " 0.0160999]"
      ]
     },
     "execution_count": 387,
     "metadata": {},
     "output_type": "execute_result"
    }
   ],
   "source": [
    "rescales = [val*float(initscales[1+i]) for i, val in enumerate(scales)]\n",
    "rescales"
   ]
  },
  {
   "cell_type": "code",
   "execution_count": 388,
   "metadata": {},
   "outputs": [],
   "source": [
    "chip.bigWigFrom(bams[1:], \n",
    "                genome='GRCh38',scaling=rescales,\n",
    "               numthreads=8)"
   ]
  },
  {
   "cell_type": "code",
   "execution_count": 389,
   "metadata": {},
   "outputs": [],
   "source": [
    "!mkdir ../../data/$project/recalib_bigwig/"
   ]
  },
  {
   "cell_type": "code",
   "execution_count": 390,
   "metadata": {
    "scrolled": false
   },
   "outputs": [],
   "source": [
    "!mv bigwig/* ../../data/$project/recalib_bigwig/"
   ]
  },
  {
   "cell_type": "code",
   "execution_count": 391,
   "metadata": {
    "scrolled": true
   },
   "outputs": [
    {
     "data": {
      "text/plain": [
       "['3118 ../../data/chipseq_MF2C_degraded_v2/diffPeaks/MV411_MEF2D_NT_SC_63_DMSO-FLAG_MEF2D_R1_treat_pileup_vs_MV411_MEF2D_NT_SC_63_VHL-FLAG_MEF2D_R1_treat_pileup_c3.0_common.bed',\n",
       " '235 ../../data/chipseq_MF2C_degraded_v2/diffPeaks/MV411_MEF2D_NT_SC_63_DMSO-FLAG_MEF2D_R1_treat_pileup_vs_MV411_MEF2D_NT_SC_63_VHL-FLAG_MEF2D_R1_treat_pileup_c3.0_cond1.bed',\n",
       " '654 ../../data/chipseq_MF2C_degraded_v2/diffPeaks/MV411_MEF2D_NT_SC_63_DMSO-FLAG_MEF2D_R1_treat_pileup_vs_MV411_MEF2D_NT_SC_63_VHL-FLAG_MEF2D_R1_treat_pileup_c3.0_cond2.bed',\n",
       " '8681 ../../data/chipseq_MF2C_degraded_v2/diffPeaks/MV411_MEF2D_NT_SC_63_DMSO-MED1_R1_treat_pileup_vs_MV411_MEF2D_NT_SC_63_VHL-MED1_R1_treat_pileup_c3.0_common.bed',\n",
       " '84 ../../data/chipseq_MF2C_degraded_v2/diffPeaks/MV411_MEF2D_NT_SC_63_DMSO-MED1_R1_treat_pileup_vs_MV411_MEF2D_NT_SC_63_VHL-MED1_R1_treat_pileup_c3.0_cond1.bed',\n",
       " '236 ../../data/chipseq_MF2C_degraded_v2/diffPeaks/MV411_MEF2D_NT_SC_63_DMSO-MED1_R1_treat_pileup_vs_MV411_MEF2D_NT_SC_63_VHL-MED1_R1_treat_pileup_c3.0_cond2.bed',\n",
       " '9560 ../../data/chipseq_MF2C_degraded_v2/diffPeaks/MV411_MEF2D_NT_SC_63_DMSO-MEF2C_R1_treat_pileup_vs_MV411_MEF2D_NT_SC_63_VHL-MEF2C_R1_treat_pileup_c3.0_common.bed',\n",
       " '462 ../../data/chipseq_MF2C_degraded_v2/diffPeaks/MV411_MEF2D_NT_SC_63_DMSO-MEF2C_R1_treat_pileup_vs_MV411_MEF2D_NT_SC_63_VHL-MEF2C_R1_treat_pileup_c3.0_cond1.bed',\n",
       " '385 ../../data/chipseq_MF2C_degraded_v2/diffPeaks/MV411_MEF2D_NT_SC_63_DMSO-MEF2C_R1_treat_pileup_vs_MV411_MEF2D_NT_SC_63_VHL-MEF2C_R1_treat_pileup_c3.0_cond2.bed',\n",
       " '48711 ../../data/chipseq_MF2C_degraded_v2/diffPeaks/MV411_MEF2D_NT_SC_63_DMSO-MYC_R1_treat_pileup_vs_MV411_MEF2D_NT_SC_63_VHL-MYC_R1_treat_pileup_c3.0_common.bed',\n",
       " '174 ../../data/chipseq_MF2C_degraded_v2/diffPeaks/MV411_MEF2D_NT_SC_63_DMSO-MYC_R1_treat_pileup_vs_MV411_MEF2D_NT_SC_63_VHL-MYC_R1_treat_pileup_c3.0_cond1.bed',\n",
       " '530 ../../data/chipseq_MF2C_degraded_v2/diffPeaks/MV411_MEF2D_NT_SC_63_DMSO-MYC_R1_treat_pileup_vs_MV411_MEF2D_NT_SC_63_VHL-MYC_R1_treat_pileup_c3.0_cond2.bed',\n",
       " '1859 ../../data/chipseq_MF2C_degraded_v2/diffPeaks/MV411_MEF2D_NT_SC_63_DMSO-POLII_total_R1_treat_pileup_vs_MV411_MEF2D_NT_SC_63_VHL-POLII_total_R1_treat_pileup_c3.0_common.bed',\n",
       " '1 ../../data/chipseq_MF2C_degraded_v2/diffPeaks/MV411_MEF2D_NT_SC_63_DMSO-POLII_total_R1_treat_pileup_vs_MV411_MEF2D_NT_SC_63_VHL-POLII_total_R1_treat_pileup_c3.0_cond1.bed',\n",
       " '35420 ../../data/chipseq_MF2C_degraded_v2/diffPeaks/MV411_MEF2D_NT_SC_63_DMSO-POLII_total_R1_treat_pileup_vs_MV411_MEF2D_NT_SC_63_VHL-POLII_total_R1_treat_pileup_c3.0_cond2.bed',\n",
       " '']"
      ]
     },
     "execution_count": 391,
     "metadata": {},
     "output_type": "execute_result"
    }
   ],
   "source": [
    "os.popen('for i in $(ls ../../data/'+project+'/diffPeaks/*.bed); \\\n",
    "            do echo $(wc -l $i); \\\n",
    "            done').read().split('\\n')"
   ]
  },
  {
   "cell_type": "code",
   "execution_count": 392,
   "metadata": {
    "scrolled": true
   },
   "outputs": [
    {
     "data": {
      "text/plain": [
       "['../../data/chipseq_MF2C_degraded_v2/recalib_bigwig/MV411_MEF2D_NT_SC_63_DMSO-FLAG_MEF2D_R1.bw',\n",
       " '../../data/chipseq_MF2C_degraded_v2/recalib_bigwig/MV411_MEF2D_NT_SC_63_DMSO-MED1_R1.bw',\n",
       " '../../data/chipseq_MF2C_degraded_v2/recalib_bigwig/MV411_MEF2D_NT_SC_63_DMSO-MEF2C_R1.bw',\n",
       " '../../data/chipseq_MF2C_degraded_v2/recalib_bigwig/MV411_MEF2D_NT_SC_63_DMSO-MYC_R1.bw',\n",
       " '../../data/chipseq_MF2C_degraded_v2/recalib_bigwig/MV411_MEF2D_NT_SC_63_DMSO-POLII_total_R1.bw',\n",
       " '../../data/chipseq_MF2C_degraded_v2/recalib_bigwig/MV411_MEF2D_NT_SC_63_VHL-FLAG_MEF2D_R1.bw',\n",
       " '../../data/chipseq_MF2C_degraded_v2/recalib_bigwig/MV411_MEF2D_NT_SC_63_VHL-MED1_R1.bw',\n",
       " '../../data/chipseq_MF2C_degraded_v2/recalib_bigwig/MV411_MEF2D_NT_SC_63_VHL-MEF2C_R1.bw',\n",
       " '../../data/chipseq_MF2C_degraded_v2/recalib_bigwig/MV411_MEF2D_NT_SC_63_VHL-MYC_R1.bw',\n",
       " '../../data/chipseq_MF2C_degraded_v2/recalib_bigwig/MV411_MEF2D_NT_SC_63_VHL-POLII_total_R1.bw']"
      ]
     },
     "execution_count": 392,
     "metadata": {},
     "output_type": "execute_result"
    }
   ],
   "source": [
    "bw = ! ls ../../data/$project/recalib_bigwig/*\n",
    "bw"
   ]
  },
  {
   "cell_type": "code",
   "execution_count": 393,
   "metadata": {},
   "outputs": [],
   "source": [
    "!mkdir ../results/$project/\n",
    "!mkdir ../results/$project/plots\n",
    "!mkdir ../results/$project/plots/heatmaps/"
   ]
  },
  {
   "cell_type": "code",
   "execution_count": 394,
   "metadata": {},
   "outputs": [
    {
     "data": {
      "text/plain": [
       "['../../data/chipseq_MF2C_degraded_v2/bwa/mergedLibrary/macs/broadPeak/MV411_MEF2D_NT_SC_63_DMSO-FLAG_MEF2D_R1_peaks.broadPeak',\n",
       " '../../data/chipseq_MF2C_degraded_v2/bwa/mergedLibrary/macs/broadPeak/MV411_MEF2D_NT_SC_63_DMSO-MED1_R1_peaks.broadPeak',\n",
       " '../../data/chipseq_MF2C_degraded_v2/bwa/mergedLibrary/macs/broadPeak/MV411_MEF2D_NT_SC_63_DMSO-MEF2C_R1_peaks.broadPeak',\n",
       " '../../data/chipseq_MF2C_degraded_v2/bwa/mergedLibrary/macs/broadPeak/MV411_MEF2D_NT_SC_63_DMSO-MYC_R1_peaks.broadPeak',\n",
       " '../../data/chipseq_MF2C_degraded_v2/bwa/mergedLibrary/macs/broadPeak/MV411_MEF2D_NT_SC_63_DMSO-POLII_total_R1_peaks.broadPeak',\n",
       " '../../data/chipseq_MF2C_degraded_v2/bwa/mergedLibrary/macs/broadPeak/MV411_MEF2D_NT_SC_63_VHL-FLAG_MEF2D_R1_peaks.broadPeak',\n",
       " '../../data/chipseq_MF2C_degraded_v2/bwa/mergedLibrary/macs/broadPeak/MV411_MEF2D_NT_SC_63_VHL-MED1_R1_peaks.broadPeak',\n",
       " '../../data/chipseq_MF2C_degraded_v2/bwa/mergedLibrary/macs/broadPeak/MV411_MEF2D_NT_SC_63_VHL-MEF2C_R1_peaks.broadPeak',\n",
       " '../../data/chipseq_MF2C_degraded_v2/bwa/mergedLibrary/macs/broadPeak/MV411_MEF2D_NT_SC_63_VHL-MYC_R1_peaks.broadPeak',\n",
       " '../../data/chipseq_MF2C_degraded_v2/bwa/mergedLibrary/macs/broadPeak/MV411_MEF2D_NT_SC_63_VHL-POLII_total_R1_peaks.broadPeak']"
      ]
     },
     "execution_count": 394,
     "metadata": {},
     "output_type": "execute_result"
    }
   ],
   "source": [
    "peaks = ! ls ../../data/$project/bwa/mergedLibrary/macs/broadPeak/*.broadPeak\n",
    "peaks"
   ]
  },
  {
   "cell_type": "markdown",
   "metadata": {},
   "source": [
    "#### merging peaks VHL/DMSO"
   ]
  },
  {
   "cell_type": "code",
   "execution_count": 396,
   "metadata": {},
   "outputs": [
    {
     "name": "stdout",
     "output_type": "stream",
     "text": [
      "FLAG_MEF2D\n",
      "MED1991395258787683455\n",
      "MEF2C93916349809895656\n",
      "MYC9995676610462614454\n",
      "POLII_total80696453455\n",
      "0.99997733351466523546\r"
     ]
    }
   ],
   "source": [
    "mpeaks = []\n",
    "for i, val in enumerate(names):\n",
    "    if i<0:\n",
    "        continue\n",
    "    print(val)\n",
    "    dmso = peaks[i]\n",
    "    vhl = peaks[i+len(names)]\n",
    "    chip.simpleMergePeaks(pd.concat([chip.loadPeaks(dmso), chip.loadPeaks(vhl)])).to_csv('../../data/' + project + '/' + val + '_genomewide_merged.bed', sep='\\t', header=False, index=False)\n",
    "    mpeaks.append('../../data/'+project+'/'+val+'_genomewide_merged.bed')"
   ]
  },
  {
   "cell_type": "markdown",
   "metadata": {},
   "source": [
    "#### GENOME WIDE comparison"
   ]
  },
  {
   "cell_type": "code",
   "execution_count": 402,
   "metadata": {},
   "outputs": [],
   "source": [
    "condname=\"_MEF2D_ko\"\n",
    "dmsoname=\"_DMSO\""
   ]
  },
  {
   "cell_type": "code",
   "execution_count": 403,
   "metadata": {
    "scrolled": true
   },
   "outputs": [
    {
     "name": "stdout",
     "output_type": "stream",
     "text": [
      "FLAG_MEF2D_DMSO\n",
      "CompletedProcess(args='computeMatrix reference-point -S ../../data/chipseq_MF2C_degraded_v2/recalib_bigwig/MV411_MEF2D_NT_SC_63_DMSO-FLAG_MEF2D_R1.bw  --referencePoint center --regionsFileName ../../data/chipseq_MF2C_degraded_v2/FLAG_MEF2D_genomewide_merged.bed  --missingDataAsZero --outFileName ../../data/chipseq_MF2C_degraded_v2/FLAG_MEF2D_DMSO_mat.gz --upstream 3000 --downstream 3000 --numberOfProcessors 8 && plotHeatmap --matrixFile ../../data/chipseq_MF2C_degraded_v2/FLAG_MEF2D_DMSO_mat.gz --outFileName ../../data/chipseq_MF2C_degraded_v2/FLAG_MEF2D_DMSO_mat.pdf --refPointLabel center --legendLocation lower-left --regionsLabel Macs2_Peaks --plotTitle FLAG_MEF2D_DMSO', returncode=0, stdout=b'', stderr=b'')\n",
      "MED1_DMSO\n",
      "CompletedProcess(args='computeMatrix reference-point -S ../../data/chipseq_MF2C_degraded_v2/recalib_bigwig/MV411_MEF2D_NT_SC_63_DMSO-MED1_R1.bw  --referencePoint center --regionsFileName ../../data/chipseq_MF2C_degraded_v2/MED1_genomewide_merged.bed  --missingDataAsZero --outFileName ../../data/chipseq_MF2C_degraded_v2/MED1_DMSO_mat.gz --upstream 3000 --downstream 3000 --numberOfProcessors 8 && plotHeatmap --matrixFile ../../data/chipseq_MF2C_degraded_v2/MED1_DMSO_mat.gz --outFileName ../../data/chipseq_MF2C_degraded_v2/MED1_DMSO_mat.pdf --refPointLabel center --legendLocation lower-left --regionsLabel Macs2_Peaks --plotTitle MED1_DMSO', returncode=0, stdout=b'', stderr=b'')\n",
      "MEF2C_DMSO\n",
      "CompletedProcess(args='computeMatrix reference-point -S ../../data/chipseq_MF2C_degraded_v2/recalib_bigwig/MV411_MEF2D_NT_SC_63_DMSO-MEF2C_R1.bw  --referencePoint center --regionsFileName ../../data/chipseq_MF2C_degraded_v2/MEF2C_genomewide_merged.bed  --missingDataAsZero --outFileName ../../data/chipseq_MF2C_degraded_v2/MEF2C_DMSO_mat.gz --upstream 3000 --downstream 3000 --numberOfProcessors 8 && plotHeatmap --matrixFile ../../data/chipseq_MF2C_degraded_v2/MEF2C_DMSO_mat.gz --outFileName ../../data/chipseq_MF2C_degraded_v2/MEF2C_DMSO_mat.pdf --refPointLabel center --legendLocation lower-left --regionsLabel Macs2_Peaks --plotTitle MEF2C_DMSO', returncode=0, stdout=b'', stderr=b'')\n",
      "MYC_DMSO\n",
      "CompletedProcess(args='computeMatrix reference-point -S ../../data/chipseq_MF2C_degraded_v2/recalib_bigwig/MV411_MEF2D_NT_SC_63_DMSO-MYC_R1.bw  --referencePoint center --regionsFileName ../../data/chipseq_MF2C_degraded_v2/MYC_genomewide_merged.bed  --missingDataAsZero --outFileName ../../data/chipseq_MF2C_degraded_v2/MYC_DMSO_mat.gz --upstream 3000 --downstream 3000 --numberOfProcessors 8 && plotHeatmap --matrixFile ../../data/chipseq_MF2C_degraded_v2/MYC_DMSO_mat.gz --outFileName ../../data/chipseq_MF2C_degraded_v2/MYC_DMSO_mat.pdf --refPointLabel center --legendLocation lower-left --regionsLabel Macs2_Peaks --plotTitle MYC_DMSO', returncode=0, stdout=b'', stderr=b'')\n",
      "POLII_total_DMSO\n",
      "CompletedProcess(args='computeMatrix reference-point -S ../../data/chipseq_MF2C_degraded_v2/recalib_bigwig/MV411_MEF2D_NT_SC_63_DMSO-POLII_total_R1.bw  --referencePoint center --regionsFileName ../../data/chipseq_MF2C_degraded_v2/POLII_total_genomewide_merged.bed  --missingDataAsZero --outFileName ../../data/chipseq_MF2C_degraded_v2/POLII_total_DMSO_mat.gz --upstream 3000 --downstream 3000 --numberOfProcessors 8 && plotHeatmap --matrixFile ../../data/chipseq_MF2C_degraded_v2/POLII_total_DMSO_mat.gz --outFileName ../../data/chipseq_MF2C_degraded_v2/POLII_total_DMSO_mat.pdf --refPointLabel center --legendLocation lower-left --regionsLabel Macs2_Peaks --plotTitle POLII_total_DMSO', returncode=0, stdout=b'', stderr=b'')\n",
      "FLAG_MEF2D_MEF2D_ko\n",
      "CompletedProcess(args='computeMatrix reference-point -S ../../data/chipseq_MF2C_degraded_v2/recalib_bigwig/MV411_MEF2D_NT_SC_63_VHL-FLAG_MEF2D_R1.bw  --referencePoint center --regionsFileName ../../data/chipseq_MF2C_degraded_v2/FLAG_MEF2D_genomewide_merged.bed  --missingDataAsZero --outFileName ../../data/chipseq_MF2C_degraded_v2/FLAG_MEF2D_MEF2D_ko_mat.gz --upstream 3000 --downstream 3000 --numberOfProcessors 8 && plotHeatmap --matrixFile ../../data/chipseq_MF2C_degraded_v2/FLAG_MEF2D_MEF2D_ko_mat.gz --outFileName ../../data/chipseq_MF2C_degraded_v2/FLAG_MEF2D_MEF2D_ko_mat.pdf --refPointLabel center --legendLocation lower-left --regionsLabel Macs2_Peaks --plotTitle FLAG_MEF2D_MEF2D_ko', returncode=0, stdout=b'', stderr=b'')\n",
      "MED1_MEF2D_ko\n",
      "CompletedProcess(args='computeMatrix reference-point -S ../../data/chipseq_MF2C_degraded_v2/recalib_bigwig/MV411_MEF2D_NT_SC_63_VHL-MED1_R1.bw  --referencePoint center --regionsFileName ../../data/chipseq_MF2C_degraded_v2/MED1_genomewide_merged.bed  --missingDataAsZero --outFileName ../../data/chipseq_MF2C_degraded_v2/MED1_MEF2D_ko_mat.gz --upstream 3000 --downstream 3000 --numberOfProcessors 8 && plotHeatmap --matrixFile ../../data/chipseq_MF2C_degraded_v2/MED1_MEF2D_ko_mat.gz --outFileName ../../data/chipseq_MF2C_degraded_v2/MED1_MEF2D_ko_mat.pdf --refPointLabel center --legendLocation lower-left --regionsLabel Macs2_Peaks --plotTitle MED1_MEF2D_ko', returncode=0, stdout=b'', stderr=b'')\n",
      "MEF2C_MEF2D_ko\n",
      "CompletedProcess(args='computeMatrix reference-point -S ../../data/chipseq_MF2C_degraded_v2/recalib_bigwig/MV411_MEF2D_NT_SC_63_VHL-MEF2C_R1.bw  --referencePoint center --regionsFileName ../../data/chipseq_MF2C_degraded_v2/MEF2C_genomewide_merged.bed  --missingDataAsZero --outFileName ../../data/chipseq_MF2C_degraded_v2/MEF2C_MEF2D_ko_mat.gz --upstream 3000 --downstream 3000 --numberOfProcessors 8 && plotHeatmap --matrixFile ../../data/chipseq_MF2C_degraded_v2/MEF2C_MEF2D_ko_mat.gz --outFileName ../../data/chipseq_MF2C_degraded_v2/MEF2C_MEF2D_ko_mat.pdf --refPointLabel center --legendLocation lower-left --regionsLabel Macs2_Peaks --plotTitle MEF2C_MEF2D_ko', returncode=0, stdout=b'', stderr=b'')\n",
      "MYC_MEF2D_ko\n",
      "CompletedProcess(args='computeMatrix reference-point -S ../../data/chipseq_MF2C_degraded_v2/recalib_bigwig/MV411_MEF2D_NT_SC_63_VHL-MYC_R1.bw  --referencePoint center --regionsFileName ../../data/chipseq_MF2C_degraded_v2/MYC_genomewide_merged.bed  --missingDataAsZero --outFileName ../../data/chipseq_MF2C_degraded_v2/MYC_MEF2D_ko_mat.gz --upstream 3000 --downstream 3000 --numberOfProcessors 8 && plotHeatmap --matrixFile ../../data/chipseq_MF2C_degraded_v2/MYC_MEF2D_ko_mat.gz --outFileName ../../data/chipseq_MF2C_degraded_v2/MYC_MEF2D_ko_mat.pdf --refPointLabel center --legendLocation lower-left --regionsLabel Macs2_Peaks --plotTitle MYC_MEF2D_ko', returncode=0, stdout=b'', stderr=b'')\n",
      "POLII_total_MEF2D_ko\n",
      "CompletedProcess(args='computeMatrix reference-point -S ../../data/chipseq_MF2C_degraded_v2/recalib_bigwig/MV411_MEF2D_NT_SC_63_VHL-POLII_total_R1.bw  --referencePoint center --regionsFileName ../../data/chipseq_MF2C_degraded_v2/POLII_total_genomewide_merged.bed  --missingDataAsZero --outFileName ../../data/chipseq_MF2C_degraded_v2/POLII_total_MEF2D_ko_mat.gz --upstream 3000 --downstream 3000 --numberOfProcessors 8 && plotHeatmap --matrixFile ../../data/chipseq_MF2C_degraded_v2/POLII_total_MEF2D_ko_mat.gz --outFileName ../../data/chipseq_MF2C_degraded_v2/POLII_total_MEF2D_ko_mat.pdf --refPointLabel center --legendLocation lower-left --regionsLabel Macs2_Peaks --plotTitle POLII_total_MEF2D_ko', returncode=0, stdout=b'', stderr=b'')\n"
     ]
    }
   ],
   "source": [
    "for i, val in enumerate(bw):\n",
    "    if i < 0:\n",
    "        continue\n",
    "    name = names[i-len(names)]+condname if i//len(names) else names[i]+dmsoname\n",
    "    print(name)\n",
    "    chip.getPeaksAt(mpeaks[i%len(names)], bigwigs = val, bigwignames= name, peaknames=['Macs2_Peaks'], window=3000, folder=\"\", title=name, numthreads=8, refpoint=\"center\", name='../../data/'+project+'/'+name+'_mat.pdf', withDeeptools=True, torecompute=True, legendLoc=\"lower-left\")"
   ]
  },
  {
   "cell_type": "markdown",
   "metadata": {},
   "source": [
    "#### making overlapping profiles"
   ]
  },
  {
   "cell_type": "code",
   "execution_count": 404,
   "metadata": {},
   "outputs": [
    {
     "name": "stdout",
     "output_type": "stream",
     "text": [
      "FLAG_MEF2D\n",
      "CompletedProcess(args='computeMatrixOperations relabel -m ../../data/chipseq_MF2C_degraded_v2/FLAG_MEF2D_DMSO_mat.gz -o ../../data/chipseq_MF2C_degraded_v2/FLAG_MEF2D_DMSO_mat.gz --groupLabels DMSO && computeMatrixOperations relabel -m ../../data/chipseq_MF2C_degraded_v2/FLAG_MEF2D_MEF2D_ko_mat.gz -o ../../data/chipseq_MF2C_degraded_v2/FLAG_MEF2D_MEF2D_ko_mat.gz --groupLabels VHL && computeMatrixOperations rbind -m ../../data/chipseq_MF2C_degraded_v2/FLAG_MEF2D_DMSO_mat.gz ../../data/chipseq_MF2C_degraded_v2/FLAG_MEF2D_MEF2D_ko_mat.gz -o ../../data/chipseq_MF2C_degraded_v2/FLAG_MEF2D_combined_mat.gz && plotProfile --matrixFile ../../data/chipseq_MF2C_degraded_v2/FLAG_MEF2D_combined_mat.gz --outFileName ../../data/chipseq_MF2C_degraded_v2/FLAG_MEF2D_combined_mat.pdf --refPointLabel center --legendLocation lower-left --plotTitle FLAG_MEF2D', returncode=0, stdout=b'', stderr=b'')\n",
      "MED1\n",
      "CompletedProcess(args='computeMatrixOperations relabel -m ../../data/chipseq_MF2C_degraded_v2/MED1_DMSO_mat.gz -o ../../data/chipseq_MF2C_degraded_v2/MED1_DMSO_mat.gz --groupLabels DMSO && computeMatrixOperations relabel -m ../../data/chipseq_MF2C_degraded_v2/MED1_MEF2D_ko_mat.gz -o ../../data/chipseq_MF2C_degraded_v2/MED1_MEF2D_ko_mat.gz --groupLabels VHL && computeMatrixOperations rbind -m ../../data/chipseq_MF2C_degraded_v2/MED1_DMSO_mat.gz ../../data/chipseq_MF2C_degraded_v2/MED1_MEF2D_ko_mat.gz -o ../../data/chipseq_MF2C_degraded_v2/MED1_combined_mat.gz && plotProfile --matrixFile ../../data/chipseq_MF2C_degraded_v2/MED1_combined_mat.gz --outFileName ../../data/chipseq_MF2C_degraded_v2/MED1_combined_mat.pdf --refPointLabel center --legendLocation lower-left --plotTitle MED1', returncode=0, stdout=b'', stderr=b'')\n",
      "MEF2C\n",
      "CompletedProcess(args='computeMatrixOperations relabel -m ../../data/chipseq_MF2C_degraded_v2/MEF2C_DMSO_mat.gz -o ../../data/chipseq_MF2C_degraded_v2/MEF2C_DMSO_mat.gz --groupLabels DMSO && computeMatrixOperations relabel -m ../../data/chipseq_MF2C_degraded_v2/MEF2C_MEF2D_ko_mat.gz -o ../../data/chipseq_MF2C_degraded_v2/MEF2C_MEF2D_ko_mat.gz --groupLabels VHL && computeMatrixOperations rbind -m ../../data/chipseq_MF2C_degraded_v2/MEF2C_DMSO_mat.gz ../../data/chipseq_MF2C_degraded_v2/MEF2C_MEF2D_ko_mat.gz -o ../../data/chipseq_MF2C_degraded_v2/MEF2C_combined_mat.gz && plotProfile --matrixFile ../../data/chipseq_MF2C_degraded_v2/MEF2C_combined_mat.gz --outFileName ../../data/chipseq_MF2C_degraded_v2/MEF2C_combined_mat.pdf --refPointLabel center --legendLocation lower-left --plotTitle MEF2C', returncode=0, stdout=b'', stderr=b'')\n",
      "MYC\n",
      "CompletedProcess(args='computeMatrixOperations relabel -m ../../data/chipseq_MF2C_degraded_v2/MYC_DMSO_mat.gz -o ../../data/chipseq_MF2C_degraded_v2/MYC_DMSO_mat.gz --groupLabels DMSO && computeMatrixOperations relabel -m ../../data/chipseq_MF2C_degraded_v2/MYC_MEF2D_ko_mat.gz -o ../../data/chipseq_MF2C_degraded_v2/MYC_MEF2D_ko_mat.gz --groupLabels VHL && computeMatrixOperations rbind -m ../../data/chipseq_MF2C_degraded_v2/MYC_DMSO_mat.gz ../../data/chipseq_MF2C_degraded_v2/MYC_MEF2D_ko_mat.gz -o ../../data/chipseq_MF2C_degraded_v2/MYC_combined_mat.gz && plotProfile --matrixFile ../../data/chipseq_MF2C_degraded_v2/MYC_combined_mat.gz --outFileName ../../data/chipseq_MF2C_degraded_v2/MYC_combined_mat.pdf --refPointLabel center --legendLocation lower-left --plotTitle MYC', returncode=0, stdout=b'', stderr=b'')\n",
      "POLII_total\n",
      "CompletedProcess(args='computeMatrixOperations relabel -m ../../data/chipseq_MF2C_degraded_v2/POLII_total_DMSO_mat.gz -o ../../data/chipseq_MF2C_degraded_v2/POLII_total_DMSO_mat.gz --groupLabels DMSO && computeMatrixOperations relabel -m ../../data/chipseq_MF2C_degraded_v2/POLII_total_MEF2D_ko_mat.gz -o ../../data/chipseq_MF2C_degraded_v2/POLII_total_MEF2D_ko_mat.gz --groupLabels VHL && computeMatrixOperations rbind -m ../../data/chipseq_MF2C_degraded_v2/POLII_total_DMSO_mat.gz ../../data/chipseq_MF2C_degraded_v2/POLII_total_MEF2D_ko_mat.gz -o ../../data/chipseq_MF2C_degraded_v2/POLII_total_combined_mat.gz && plotProfile --matrixFile ../../data/chipseq_MF2C_degraded_v2/POLII_total_combined_mat.gz --outFileName ../../data/chipseq_MF2C_degraded_v2/POLII_total_combined_mat.pdf --refPointLabel center --legendLocation lower-left --plotTitle POLII_total', returncode=0, stdout=b'', stderr=b'')\n"
     ]
    }
   ],
   "source": [
    "for i, val in enumerate(names):\n",
    "    if i <0:\n",
    "        continue\n",
    "    val1 = '../../data/'+project+'/' + val +dmsoname+'_mat.gz'\n",
    "    val2 = '../../data/'+project+'/' + val +condname+'_mat.gz'\n",
    "    print(val)\n",
    "    chip.makeProfiles(matx=[val1,val2], matnames=['DMSO','VHL'], title=val, refpoint=\"center\", name='../../data/'+project+'/'+val+'_combined_mat.pdf', legendLoc=\"lower-left\")"
   ]
  },
  {
   "cell_type": "code",
   "execution_count": 405,
   "metadata": {},
   "outputs": [],
   "source": [
    "h.createFoldersFor('../results/'+project+'/plots/scaled/heatmaps/')\n",
    "! cp ../../data/$project/*.pdf ../results/$project/plots/scaled/heatmaps/"
   ]
  },
  {
   "cell_type": "code",
   "execution_count": 406,
   "metadata": {
    "scrolled": true
   },
   "outputs": [
    {
     "data": {
      "text/plain": [
       "['../../data/chipseq_MF2C_degraded_v2/diffPeaks/MV411_MEF2D_NT_SC_63_DMSO-FLAG_MEF2D_R1_treat_pileup_vs_MV411_MEF2D_NT_SC_63_VHL-FLAG_MEF2D_R1_treat_pileup_c3.0_cond1.bed',\n",
       " '../../data/chipseq_MF2C_degraded_v2/diffPeaks/MV411_MEF2D_NT_SC_63_DMSO-MED1_R1_treat_pileup_vs_MV411_MEF2D_NT_SC_63_VHL-MED1_R1_treat_pileup_c3.0_cond1.bed',\n",
       " '../../data/chipseq_MF2C_degraded_v2/diffPeaks/MV411_MEF2D_NT_SC_63_DMSO-MEF2C_R1_treat_pileup_vs_MV411_MEF2D_NT_SC_63_VHL-MEF2C_R1_treat_pileup_c3.0_cond1.bed',\n",
       " '../../data/chipseq_MF2C_degraded_v2/diffPeaks/MV411_MEF2D_NT_SC_63_DMSO-MYC_R1_treat_pileup_vs_MV411_MEF2D_NT_SC_63_VHL-MYC_R1_treat_pileup_c3.0_cond1.bed',\n",
       " '../../data/chipseq_MF2C_degraded_v2/diffPeaks/MV411_MEF2D_NT_SC_63_DMSO-POLII_total_R1_treat_pileup_vs_MV411_MEF2D_NT_SC_63_VHL-POLII_total_R1_treat_pileup_c3.0_cond1.bed']"
      ]
     },
     "execution_count": 406,
     "metadata": {},
     "output_type": "execute_result"
    }
   ],
   "source": [
    "cond1peak = ! ls ../../data/$project/diffPeaks/*cond1.bed\n",
    "cond2peak = ! ls ../../data/$project/diffPeaks/*cond2.bed\n",
    "commonpeak = ! ls ../../data/$project/diffPeaks/*common.bed\n",
    "cond1peak"
   ]
  },
  {
   "cell_type": "code",
   "execution_count": 407,
   "metadata": {
    "scrolled": true
   },
   "outputs": [
    {
     "name": "stdout",
     "output_type": "stream",
     "text": [
      "../../data/chipseq_MF2C_degraded_v2/recalib_bigwig/MV411_MEF2D_NT_SC_63_DMSO-FLAG_MEF2D_R1.bw ../../data/chipseq_MF2C_degraded_v2/recalib_bigwig/MV411_MEF2D_NT_SC_63_VHL-FLAG_MEF2D_R1.bw\n",
      "CompletedProcess(args='computeMatrix reference-point -S ../../data/chipseq_MF2C_degraded_v2/recalib_bigwig/MV411_MEF2D_NT_SC_63_DMSO-FLAG_MEF2D_R1.bw ../../data/chipseq_MF2C_degraded_v2/recalib_bigwig/MV411_MEF2D_NT_SC_63_VHL-FLAG_MEF2D_R1.bw  --referencePoint center --regionsFileName ../../data/chipseq_MF2C_degraded_v2/diffPeaks/MV411_MEF2D_NT_SC_63_DMSO-FLAG_MEF2D_R1_treat_pileup_vs_MV411_MEF2D_NT_SC_63_VHL-FLAG_MEF2D_R1_treat_pileup_c3.0_cond1.bed ../../data/chipseq_MF2C_degraded_v2/diffPeaks/MV411_MEF2D_NT_SC_63_DMSO-FLAG_MEF2D_R1_treat_pileup_vs_MV411_MEF2D_NT_SC_63_VHL-FLAG_MEF2D_R1_treat_pileup_c3.0_common.bed ../../data/chipseq_MF2C_degraded_v2/diffPeaks/MV411_MEF2D_NT_SC_63_DMSO-FLAG_MEF2D_R1_treat_pileup_vs_MV411_MEF2D_NT_SC_63_VHL-FLAG_MEF2D_R1_treat_pileup_c3.0_cond2.bed  --missingDataAsZero --outFileName ../../data/chipseq_MF2C_degraded_v2/diffPeaks/FLAG_MEF2D_mat.gz --upstream 3000 --downstream 3000 --numberOfProcessors 8 && plotHeatmap --matrixFile ../../data/chipseq_MF2C_degraded_v2/diffPeaks/FLAG_MEF2D_mat.gz --outFileName ../../data/chipseq_MF2C_degraded_v2/diffPeaks/FLAG_MEF2D_mat.pdf --refPointLabel center --regionsLabel DMSO_peaks common VHL_peaks --plotTitle FLAG_MEF2D', returncode=0, stdout=b'', stderr=b'')\n",
      "../../data/chipseq_MF2C_degraded_v2/recalib_bigwig/MV411_MEF2D_NT_SC_63_DMSO-MED1_R1.bw ../../data/chipseq_MF2C_degraded_v2/recalib_bigwig/MV411_MEF2D_NT_SC_63_VHL-MED1_R1.bw\n",
      "CompletedProcess(args='computeMatrix reference-point -S ../../data/chipseq_MF2C_degraded_v2/recalib_bigwig/MV411_MEF2D_NT_SC_63_DMSO-MED1_R1.bw ../../data/chipseq_MF2C_degraded_v2/recalib_bigwig/MV411_MEF2D_NT_SC_63_VHL-MED1_R1.bw  --referencePoint center --regionsFileName ../../data/chipseq_MF2C_degraded_v2/diffPeaks/MV411_MEF2D_NT_SC_63_DMSO-MED1_R1_treat_pileup_vs_MV411_MEF2D_NT_SC_63_VHL-MED1_R1_treat_pileup_c3.0_cond1.bed ../../data/chipseq_MF2C_degraded_v2/diffPeaks/MV411_MEF2D_NT_SC_63_DMSO-MED1_R1_treat_pileup_vs_MV411_MEF2D_NT_SC_63_VHL-MED1_R1_treat_pileup_c3.0_common.bed ../../data/chipseq_MF2C_degraded_v2/diffPeaks/MV411_MEF2D_NT_SC_63_DMSO-MED1_R1_treat_pileup_vs_MV411_MEF2D_NT_SC_63_VHL-MED1_R1_treat_pileup_c3.0_cond2.bed  --missingDataAsZero --outFileName ../../data/chipseq_MF2C_degraded_v2/diffPeaks/MED1_mat.gz --upstream 3000 --downstream 3000 --numberOfProcessors 8 && plotHeatmap --matrixFile ../../data/chipseq_MF2C_degraded_v2/diffPeaks/MED1_mat.gz --outFileName ../../data/chipseq_MF2C_degraded_v2/diffPeaks/MED1_mat.pdf --refPointLabel center --regionsLabel DMSO_peaks common VHL_peaks --plotTitle MED1', returncode=0, stdout=b'', stderr=b'')\n",
      "../../data/chipseq_MF2C_degraded_v2/recalib_bigwig/MV411_MEF2D_NT_SC_63_DMSO-MEF2C_R1.bw ../../data/chipseq_MF2C_degraded_v2/recalib_bigwig/MV411_MEF2D_NT_SC_63_VHL-MEF2C_R1.bw\n",
      "CompletedProcess(args='computeMatrix reference-point -S ../../data/chipseq_MF2C_degraded_v2/recalib_bigwig/MV411_MEF2D_NT_SC_63_DMSO-MEF2C_R1.bw ../../data/chipseq_MF2C_degraded_v2/recalib_bigwig/MV411_MEF2D_NT_SC_63_VHL-MEF2C_R1.bw  --referencePoint center --regionsFileName ../../data/chipseq_MF2C_degraded_v2/diffPeaks/MV411_MEF2D_NT_SC_63_DMSO-MEF2C_R1_treat_pileup_vs_MV411_MEF2D_NT_SC_63_VHL-MEF2C_R1_treat_pileup_c3.0_cond1.bed ../../data/chipseq_MF2C_degraded_v2/diffPeaks/MV411_MEF2D_NT_SC_63_DMSO-MEF2C_R1_treat_pileup_vs_MV411_MEF2D_NT_SC_63_VHL-MEF2C_R1_treat_pileup_c3.0_common.bed ../../data/chipseq_MF2C_degraded_v2/diffPeaks/MV411_MEF2D_NT_SC_63_DMSO-MEF2C_R1_treat_pileup_vs_MV411_MEF2D_NT_SC_63_VHL-MEF2C_R1_treat_pileup_c3.0_cond2.bed  --missingDataAsZero --outFileName ../../data/chipseq_MF2C_degraded_v2/diffPeaks/MEF2C_mat.gz --upstream 3000 --downstream 3000 --numberOfProcessors 8 && plotHeatmap --matrixFile ../../data/chipseq_MF2C_degraded_v2/diffPeaks/MEF2C_mat.gz --outFileName ../../data/chipseq_MF2C_degraded_v2/diffPeaks/MEF2C_mat.pdf --refPointLabel center --regionsLabel DMSO_peaks common VHL_peaks --plotTitle MEF2C', returncode=0, stdout=b'', stderr=b'')\n",
      "../../data/chipseq_MF2C_degraded_v2/recalib_bigwig/MV411_MEF2D_NT_SC_63_DMSO-MYC_R1.bw ../../data/chipseq_MF2C_degraded_v2/recalib_bigwig/MV411_MEF2D_NT_SC_63_VHL-MYC_R1.bw\n",
      "CompletedProcess(args='computeMatrix reference-point -S ../../data/chipseq_MF2C_degraded_v2/recalib_bigwig/MV411_MEF2D_NT_SC_63_DMSO-MYC_R1.bw ../../data/chipseq_MF2C_degraded_v2/recalib_bigwig/MV411_MEF2D_NT_SC_63_VHL-MYC_R1.bw  --referencePoint center --regionsFileName ../../data/chipseq_MF2C_degraded_v2/diffPeaks/MV411_MEF2D_NT_SC_63_DMSO-MYC_R1_treat_pileup_vs_MV411_MEF2D_NT_SC_63_VHL-MYC_R1_treat_pileup_c3.0_cond1.bed ../../data/chipseq_MF2C_degraded_v2/diffPeaks/MV411_MEF2D_NT_SC_63_DMSO-MYC_R1_treat_pileup_vs_MV411_MEF2D_NT_SC_63_VHL-MYC_R1_treat_pileup_c3.0_common.bed ../../data/chipseq_MF2C_degraded_v2/diffPeaks/MV411_MEF2D_NT_SC_63_DMSO-MYC_R1_treat_pileup_vs_MV411_MEF2D_NT_SC_63_VHL-MYC_R1_treat_pileup_c3.0_cond2.bed  --missingDataAsZero --outFileName ../../data/chipseq_MF2C_degraded_v2/diffPeaks/MYC_mat.gz --upstream 3000 --downstream 3000 --numberOfProcessors 8 && plotHeatmap --matrixFile ../../data/chipseq_MF2C_degraded_v2/diffPeaks/MYC_mat.gz --outFileName ../../data/chipseq_MF2C_degraded_v2/diffPeaks/MYC_mat.pdf --refPointLabel center --regionsLabel DMSO_peaks common VHL_peaks --plotTitle MYC', returncode=0, stdout=b'', stderr=b\"WARNING: Group 'MV411_MEF2D_NT_SC_63_DMSO-MYC_R1_treat_pileup_vs_MV411_MEF2D_NT_SC_63_VHL-MYC_R1_treat_pileup_c3.0_cond1.bed' is too small for plotting, you might want to remove it. There will likely be an error message from matplotlib regarding this below.\\n\")\n",
      "../../data/chipseq_MF2C_degraded_v2/recalib_bigwig/MV411_MEF2D_NT_SC_63_DMSO-POLII_total_R1.bw ../../data/chipseq_MF2C_degraded_v2/recalib_bigwig/MV411_MEF2D_NT_SC_63_VHL-POLII_total_R1.bw\n",
      "CompletedProcess(args='computeMatrix reference-point -S ../../data/chipseq_MF2C_degraded_v2/recalib_bigwig/MV411_MEF2D_NT_SC_63_DMSO-POLII_total_R1.bw ../../data/chipseq_MF2C_degraded_v2/recalib_bigwig/MV411_MEF2D_NT_SC_63_VHL-POLII_total_R1.bw  --referencePoint center --regionsFileName ../../data/chipseq_MF2C_degraded_v2/diffPeaks/MV411_MEF2D_NT_SC_63_DMSO-POLII_total_R1_treat_pileup_vs_MV411_MEF2D_NT_SC_63_VHL-POLII_total_R1_treat_pileup_c3.0_common.bed ../../data/chipseq_MF2C_degraded_v2/diffPeaks/MV411_MEF2D_NT_SC_63_DMSO-POLII_total_R1_treat_pileup_vs_MV411_MEF2D_NT_SC_63_VHL-POLII_total_R1_treat_pileup_c3.0_cond2.bed  --missingDataAsZero --outFileName ../../data/chipseq_MF2C_degraded_v2/diffPeaks/POLII_total_mat.gz --upstream 3000 --downstream 3000 --numberOfProcessors 8 && plotHeatmap --matrixFile ../../data/chipseq_MF2C_degraded_v2/diffPeaks/POLII_total_mat.gz --outFileName ../../data/chipseq_MF2C_degraded_v2/diffPeaks/POLII_total_mat.pdf --refPointLabel center --regionsLabel common VHL_peaks --plotTitle POLII_total', returncode=0, stdout=b'', stderr=b'')\n"
     ]
    }
   ],
   "source": [
    "for i in range(int(len(bw)/2)):\n",
    "    if i <0:\n",
    "        continue\n",
    "    name1 = bw[i]\n",
    "    name2 = bw[i+len(names)]\n",
    "    peak = [cond1peak[i], commonpeak[i], cond2peak[i]]\n",
    "   # for val in peak:\n",
    "      #  chip.dropWeirdChromosomes(val)\n",
    "    name = names[i]\n",
    "    print(name1,name2)\n",
    "    chip.getPeaksAt(peak, [name1, name2], bigwignames=['DMSO', 'VHL'], peaknames=['DMSO_peaks', 'common', 'VHL_peaks'], window=3000, folder=\"\", title=name, numthreads=8, refpoint=\"center\", name='../../data/'+project+'/diffPeaks/'+name+'_mat.pdf', withDeeptools=True, torecompute=False)"
   ]
  },
  {
   "cell_type": "code",
   "execution_count": 408,
   "metadata": {},
   "outputs": [],
   "source": [
    "! mkdir ../results/$project/plots/scaled/diffPeaks/\n",
    "! cp ../../data/$project/diffPeaks/*.pdf ../results/$project/plots/scaled/diffPeaks/"
   ]
  },
  {
   "cell_type": "markdown",
   "metadata": {},
   "source": [
    "#### Looking at TSS"
   ]
  },
  {
   "cell_type": "code",
   "execution_count": null,
   "metadata": {},
   "outputs": [],
   "source": [
    "IRF8targets = h.fileToList('../results/slamseqMax/IRF8targets.txt')"
   ]
  },
  {
   "cell_type": "code",
   "execution_count": null,
   "metadata": {},
   "outputs": [],
   "source": [
    "ls ../../data/chipseq_IRF8_degraded/recalib_bigwig/*"
   ]
  },
  {
   "cell_type": "code",
   "execution_count": null,
   "metadata": {},
   "outputs": [],
   "source": [
    "peaksVHL = pd.read_csv('../../data/chipseq_IRF8_degraded/diffPeaks/MV411_IRF8_NT_DMSO-POLII_total_R1_treat_pileup_vs_MV411_IRF8_NT_VHL-POLII_total_R1_treat_pileup_c3.0_cond2.bed', sep='\\t',header=None, skiprows=1, names=['chrom','start','end','name','score'])\n",
    "peaksVHL['chrom']= [i[3:] for i in peaksVHL['chrom']]\n",
    "peaksVHL[['start','end']] = peaksVHL[['start','end']].astype(int)"
   ]
  },
  {
   "cell_type": "code",
   "execution_count": null,
   "metadata": {},
   "outputs": [],
   "source": [
    "peaksDMSO = pd.read_csv('../../data/chipseq_IRF8_degraded/diffPeaks/MV411_IRF8_NT_DMSO-POLII_total_R1_treat_pileup_vs_MV411_IRF8_NT_VHL-POLII_total_R1_treat_pileup_c3.0_cond1.bed', sep='\\t', header=None, skiprows=1, names=['chrom','start','end','name','score'])\n",
    "peaksDMSO['chrom']= [i[3:] for i in peaksDMSO['chrom']]\n",
    "peaksDMSO[['start','end']] = peaksDMSO[['start','end']].astype(int)"
   ]
  },
  {
   "cell_type": "code",
   "execution_count": null,
   "metadata": {},
   "outputs": [],
   "source": [
    "peakcommon = pd.read_csv('../../data/chipseq_IRF8_degraded/diffPeaks/MV411_IRF8_NT_DMSO-POLII_total_R1_treat_pileup_vs_MV411_IRF8_NT_VHL-POLII_total_R1_treat_pileup_c3.0_common.bed', sep='\\t',header=None, skiprows=1, names=['chrom','start','end','name','score'])\n",
    "peakcommon['chrom']= [i[3:] for i in peakcommon['chrom']]\n",
    "peakcommon[['start','end']] = peakcommon[['start','end']].astype(int)"
   ]
  },
  {
   "cell_type": "code",
   "execution_count": null,
   "metadata": {},
   "outputs": [],
   "source": [
    "ensembltss['Chromosome/scaffold name'] = ensembltss['Chromosome/scaffold name'].astype(str)\n",
    "ensembltss = ensembltss[ensembltss['Chromosome/scaffold name'].isin(['1', '10', '11', '12', '13', '14', '15', '16', '17', '18', '19', '2', '20', '21', '22', '3', '4', '5', '6', '7', '8', '9','X','Y'])]\n",
    "ensembltss = ensembltss.drop_duplicates('Gene start (bp)')\n",
    "ensembltss = ensembltss.reset_index(drop=True)\n",
    "ensembltss = ensembltss.astype(str)\n",
    "ensembltss['loci'] = ensembltss['Transcription start site (TSS)'].astype(int)\n",
    "ensembltss['chrom'] = ensembltss['Chromosome/scaffold name']\n",
    "ensembltss = ensembltss.sort_values(by=['chrom','loci']).reset_index(drop=True)"
   ]
  },
  {
   "cell_type": "code",
   "execution_count": null,
   "metadata": {},
   "outputs": [],
   "source": [
    "chip.substractPeaksTo(peaksDMSO, ensembltss).to_csv('../../data/'+project+'/diffPeaks/polII_DMSO_TSSonly.bed',sep='\\t',index=None,header=False)\n",
    "chip.substractPeaksTo(peakcommon, ensembltss).to_csv('../../data/'+project+'/diffPeaks/polII_common_TSSonly.bed',sep='\\t',index=None,header=False)\n",
    "chip.substractPeaksTo(peaksVHL, ensembltss).to_csv('../../data/'+project+'/diffPeaks/polII_VHL_TSSonly.bed',sep='\\t',index=None,header=False)"
   ]
  },
  {
   "cell_type": "code",
   "execution_count": null,
   "metadata": {},
   "outputs": [],
   "source": [
    "chip.getPeaksAt(['../../data/'+project+'/diffPeaks/polII_DMSO_TSSonly.bed', '../../data/'+project+'/diffPeaks/polII_common_TSSonly.bed', '../../data/'+project+'/diffPeaks/polII_VHL_TSSonly.bed'],\n",
    "                bigwigs = ['../../data/chipseq_IRF8_degraded/recalib_bigwig/MV411_IRF8_NT_DMSO-POLII_total_R1.bw', '../../data/chipseq_IRF8_degraded/recalib_bigwig/MV411_IRF8_NT_VHL-POLII_total_R1.bw'], \n",
    "                bigwignames= ['IRF8_DMSO', 'IRF8_VHL'], \n",
    "                peaknames=['DMSO','common','VHL'], window=3000, folder=\"\", title='polII_with_IRF8_degron', numthreads=4, \n",
    "                refpoint=\"center\", \n",
    "                name='../../data/'+project+'/diffPeaks/polII_with_IRF8_degron_mat.pdf', \n",
    "                withDeeptools=True, torecompute=True, legendLoc=\"lower-left\")"
   ]
  },
  {
   "cell_type": "code",
   "execution_count": null,
   "metadata": {},
   "outputs": [],
   "source": [
    "IRF8tss = ensembltss[ensembltss['Gene name'].isin(IRF8targets)].reset_index(drop=True)"
   ]
  },
  {
   "cell_type": "code",
   "execution_count": null,
   "metadata": {},
   "outputs": [],
   "source": [
    "a = ! wc -l ../../data/$project/diffPeaks/polII_DMSO_TSSonly.bed "
   ]
  },
  {
   "cell_type": "code",
   "execution_count": null,
   "metadata": {},
   "outputs": [],
   "source": [
    "int(a[0].split(' ')[0])/len(peaksDMSO), len(peaksDMSO)"
   ]
  },
  {
   "cell_type": "code",
   "execution_count": null,
   "metadata": {
    "scrolled": true
   },
   "outputs": [],
   "source": [
    "len(chip.substractPeaksTo(peaksDMSO, IRF8tss))/int(a[0].split(' ')[0])"
   ]
  },
  {
   "cell_type": "code",
   "execution_count": null,
   "metadata": {},
   "outputs": [],
   "source": [
    "a = ! wc -l ../../data/$project/diffPeaks/polII_common_TSSonly.bed "
   ]
  },
  {
   "cell_type": "code",
   "execution_count": null,
   "metadata": {},
   "outputs": [],
   "source": [
    "int(a[0].split(' ')[0])/ len(peakcommon),  len(peakcommon)"
   ]
  },
  {
   "cell_type": "code",
   "execution_count": null,
   "metadata": {},
   "outputs": [],
   "source": [
    "len(chip.substractPeaksTo(peakcommon, IRF8tss))/int(a[0].split(' ')[0])"
   ]
  },
  {
   "cell_type": "code",
   "execution_count": null,
   "metadata": {},
   "outputs": [],
   "source": [
    "a = ! wc -l ../../data/$project/diffPeaks/polII_VHL_TSSonly.bed "
   ]
  },
  {
   "cell_type": "code",
   "execution_count": null,
   "metadata": {},
   "outputs": [],
   "source": [
    "len(peaksVHL)"
   ]
  },
  {
   "cell_type": "code",
   "execution_count": null,
   "metadata": {},
   "outputs": [],
   "source": [
    "int(a[0].split(' ')[0])/len(peaksVHL),  len(peaksVHL)"
   ]
  },
  {
   "cell_type": "code",
   "execution_count": null,
   "metadata": {
    "scrolled": true
   },
   "outputs": [],
   "source": [
    "len(chip.substractPeaksTo(peaksVHL, IRF8tss))/int(a[0].split(' ')[0])"
   ]
  },
  {
   "cell_type": "markdown",
   "metadata": {},
   "source": [
    "### on unscalled data"
   ]
  },
  {
   "cell_type": "code",
   "execution_count": 409,
   "metadata": {},
   "outputs": [],
   "source": [
    "! mkdir ../../data/$project/diffPeaks_unscaled"
   ]
  },
  {
   "cell_type": "code",
   "execution_count": null,
   "metadata": {},
   "outputs": [
    {
     "name": "stdout",
     "output_type": "stream",
     "text": [
      "../../data/chipseq_MF2C_degraded_v2/bwa/mergedLibrary/INPUT_R1.mLb.clN.sorted.bam ../../data/chipseq_MF2C_degraded_v2/bwa/mergedLibrary/MV411_MEF2D_NT_SC_63_DMSO-POLII_total_R1.mLb.clN.sorted.bam\n",
      "doing diff from ../../data/chipseq_MF2C_degraded_v2/bwa/mergedLibrary/INPUT_R1.mLb.clN.sorted.bam and ../../data/chipseq_MF2C_degraded_v2/bwa/mergedLibrary/MV411_MEF2D_NT_SC_63_DMSO-POLII_total_R1.mLb.clN.sorted.bam\n",
      "computing the fragment avg size\n",
      "182\n",
      "computing the scaling values\n",
      "b'INFO  @ Thu, 14 Jan 2021 15:02:47: \\n# Command line: callpeak -B -t ../../data/chipseq_MF2C_degraded_v2/bwa/mergedLibrary/INPUT_R1.mLb.clN.sorted.bam -c ../../data/chipseq_MF2C_degraded_v2/bwa/mergedLibrary/INPUT_R1.mLb.clN.sorted.bam --nomodel --extsize 182 -n INPUT_R1 --outdir ../../data/chipseq_MF2C_degraded_v2/diffData_unscaled/ -f BAM\\n# ARGUMENTS LIST:\\n# name = INPUT_R1\\n# format = BAM\\n# ChIP-seq file = [\\'../../data/chipseq_MF2C_degraded_v2/bwa/mergedLibrary/INPUT_R1.mLb.clN.sorted.bam\\']\\n# control file = [\\'../../data/chipseq_MF2C_degraded_v2/bwa/mergedLibrary/INPUT_R1.mLb.clN.sorted.bam\\']\\n# effective genome size = 2.70e+09\\n# band width = 300\\n# model fold = [5, 50]\\n# qvalue cutoff = 5.00e-02\\n# The maximum gap between significant sites is assigned as the read length/tag size.\\n# The minimum length of peaks is assigned as the predicted fragment length \"d\".\\n# Larger dataset will be scaled towards smaller dataset.\\n# Range for calculating regional lambda is: 1000 bps and 10000 bps\\n# Broad region calling is off\\n# Paired-End mode is off\\n \\nINFO  @ Thu, 14 Jan 2021 15:02:47: #1 read tag files... \\nINFO  @ Thu, 14 Jan 2021 15:02:47: #1 read treatment tags... \\nINFO  @ Thu, 14 Jan 2021 15:02:51:  1000000 \\nINFO  @ Thu, 14 Jan 2021 15:02:55:  2000000 \\nINFO  @ Thu, 14 Jan 2021 15:02:59:  3000000 \\nINFO  @ Thu, 14 Jan 2021 15:03:02:  4000000 \\nINFO  @ Thu, 14 Jan 2021 15:03:06:  5000000 \\nINFO  @ Thu, 14 Jan 2021 15:03:10:  6000000 \\nINFO  @ Thu, 14 Jan 2021 15:03:14:  7000000 \\nINFO  @ Thu, 14 Jan 2021 15:03:18:  8000000 \\nINFO  @ Thu, 14 Jan 2021 15:03:21:  9000000 \\nINFO  @ Thu, 14 Jan 2021 15:03:25:  10000000 \\nINFO  @ Thu, 14 Jan 2021 15:03:29:  11000000 \\nINFO  @ Thu, 14 Jan 2021 15:03:33:  12000000 \\nINFO  @ Thu, 14 Jan 2021 15:03:36:  13000000 \\nINFO  @ Thu, 14 Jan 2021 15:03:40:  14000000 \\nINFO  @ Thu, 14 Jan 2021 15:03:44:  15000000 \\nINFO  @ Thu, 14 Jan 2021 15:03:48:  16000000 \\nINFO  @ Thu, 14 Jan 2021 15:03:52:  17000000 \\nINFO  @ Thu, 14 Jan 2021 15:03:56:  18000000 \\nINFO  @ Thu, 14 Jan 2021 15:03:59:  19000000 \\nINFO  @ Thu, 14 Jan 2021 15:04:03:  20000000 \\nINFO  @ Thu, 14 Jan 2021 15:04:07:  21000000 \\nINFO  @ Thu, 14 Jan 2021 15:04:11:  22000000 \\nINFO  @ Thu, 14 Jan 2021 15:04:15:  23000000 \\nINFO  @ Thu, 14 Jan 2021 15:04:19:  24000000 \\nINFO  @ Thu, 14 Jan 2021 15:04:22:  25000000 \\nINFO  @ Thu, 14 Jan 2021 15:04:26:  26000000 \\nINFO  @ Thu, 14 Jan 2021 15:04:30:  27000000 \\nINFO  @ Thu, 14 Jan 2021 15:04:34:  28000000 \\nINFO  @ Thu, 14 Jan 2021 15:04:38:  29000000 \\nINFO  @ Thu, 14 Jan 2021 15:04:42:  30000000 \\nINFO  @ Thu, 14 Jan 2021 15:04:45:  31000000 \\nINFO  @ Thu, 14 Jan 2021 15:04:49:  32000000 \\nINFO  @ Thu, 14 Jan 2021 15:04:53:  33000000 \\nINFO  @ Thu, 14 Jan 2021 15:04:57:  34000000 \\nINFO  @ Thu, 14 Jan 2021 15:05:01:  35000000 \\nINFO  @ Thu, 14 Jan 2021 15:05:05:  36000000 \\nINFO  @ Thu, 14 Jan 2021 15:05:08:  37000000 \\nINFO  @ Thu, 14 Jan 2021 15:05:12:  38000000 \\nINFO  @ Thu, 14 Jan 2021 15:05:16:  39000000 \\nINFO  @ Thu, 14 Jan 2021 15:05:20:  40000000 \\nINFO  @ Thu, 14 Jan 2021 15:05:24:  41000000 \\nINFO  @ Thu, 14 Jan 2021 15:05:28:  42000000 \\nINFO  @ Thu, 14 Jan 2021 15:05:32:  43000000 \\nINFO  @ Thu, 14 Jan 2021 15:05:36:  44000000 \\nINFO  @ Thu, 14 Jan 2021 15:05:40:  45000000 \\nINFO  @ Thu, 14 Jan 2021 15:05:43:  46000000 \\nINFO  @ Thu, 14 Jan 2021 15:05:47:  47000000 \\nINFO  @ Thu, 14 Jan 2021 15:05:51:  48000000 \\nINFO  @ Thu, 14 Jan 2021 15:05:55:  49000000 \\nINFO  @ Thu, 14 Jan 2021 15:05:59:  50000000 \\nINFO  @ Thu, 14 Jan 2021 15:06:03:  51000000 \\nINFO  @ Thu, 14 Jan 2021 15:06:06:  52000000 \\nINFO  @ Thu, 14 Jan 2021 15:06:10:  53000000 \\nINFO  @ Thu, 14 Jan 2021 15:06:14:  54000000 \\nINFO  @ Thu, 14 Jan 2021 15:06:18:  55000000 \\nINFO  @ Thu, 14 Jan 2021 15:06:22:  56000000 \\nINFO  @ Thu, 14 Jan 2021 15:06:26:  57000000 \\nINFO  @ Thu, 14 Jan 2021 15:06:30:  58000000 \\nINFO  @ Thu, 14 Jan 2021 15:06:34:  59000000 \\nINFO  @ Thu, 14 Jan 2021 15:06:37:  60000000 \\nINFO  @ Thu, 14 Jan 2021 15:06:41:  61000000 \\nINFO  @ Thu, 14 Jan 2021 15:06:45:  62000000 \\nINFO  @ Thu, 14 Jan 2021 15:06:49:  63000000 \\nINFO  @ Thu, 14 Jan 2021 15:06:53:  64000000 \\nINFO  @ Thu, 14 Jan 2021 15:06:57:  65000000 \\nINFO  @ Thu, 14 Jan 2021 15:07:01:  66000000 \\nINFO  @ Thu, 14 Jan 2021 15:07:04: 66660428 reads have been read. \\nINFO  @ Thu, 14 Jan 2021 15:07:04: #1.2 read input tags... \\nINFO  @ Thu, 14 Jan 2021 15:07:08:  1000000 \\nINFO  @ Thu, 14 Jan 2021 15:07:12:  2000000 \\nINFO  @ Thu, 14 Jan 2021 15:07:16:  3000000 \\nINFO  @ Thu, 14 Jan 2021 15:07:20:  4000000 \\nINFO  @ Thu, 14 Jan 2021 15:07:23:  5000000 \\nINFO  @ Thu, 14 Jan 2021 15:07:27:  6000000 \\nINFO  @ Thu, 14 Jan 2021 15:07:31:  7000000 \\nINFO  @ Thu, 14 Jan 2021 15:07:35:  8000000 \\nINFO  @ Thu, 14 Jan 2021 15:07:39:  9000000 \\nINFO  @ Thu, 14 Jan 2021 15:07:43:  10000000 \\nINFO  @ Thu, 14 Jan 2021 15:07:47:  11000000 \\nINFO  @ Thu, 14 Jan 2021 15:07:51:  12000000 \\nINFO  @ Thu, 14 Jan 2021 15:07:55:  13000000 \\nINFO  @ Thu, 14 Jan 2021 15:07:58:  14000000 \\nINFO  @ Thu, 14 Jan 2021 15:08:02:  15000000 \\nINFO  @ Thu, 14 Jan 2021 15:08:06:  16000000 \\nINFO  @ Thu, 14 Jan 2021 15:08:10:  17000000 \\nINFO  @ Thu, 14 Jan 2021 15:08:14:  18000000 \\nINFO  @ Thu, 14 Jan 2021 15:08:17:  19000000 \\nINFO  @ Thu, 14 Jan 2021 15:08:21:  20000000 \\nINFO  @ Thu, 14 Jan 2021 15:08:25:  21000000 \\nINFO  @ Thu, 14 Jan 2021 15:08:29:  22000000 \\nINFO  @ Thu, 14 Jan 2021 15:08:33:  23000000 \\nINFO  @ Thu, 14 Jan 2021 15:08:36:  24000000 \\nINFO  @ Thu, 14 Jan 2021 15:08:40:  25000000 \\nINFO  @ Thu, 14 Jan 2021 15:08:44:  26000000 \\nINFO  @ Thu, 14 Jan 2021 15:08:48:  27000000 \\nINFO  @ Thu, 14 Jan 2021 15:08:51:  28000000 \\nINFO  @ Thu, 14 Jan 2021 15:08:55:  29000000 \\nINFO  @ Thu, 14 Jan 2021 15:08:59:  30000000 \\nINFO  @ Thu, 14 Jan 2021 15:09:03:  31000000 \\nINFO  @ Thu, 14 Jan 2021 15:09:06:  32000000 \\nINFO  @ Thu, 14 Jan 2021 15:09:10:  33000000 \\nINFO  @ Thu, 14 Jan 2021 15:09:14:  34000000 \\nINFO  @ Thu, 14 Jan 2021 15:09:18:  35000000 \\nINFO  @ Thu, 14 Jan 2021 15:09:21:  36000000 \\nINFO  @ Thu, 14 Jan 2021 15:09:25:  37000000 \\nINFO  @ Thu, 14 Jan 2021 15:09:29:  38000000 \\nINFO  @ Thu, 14 Jan 2021 15:09:32:  39000000 \\nINFO  @ Thu, 14 Jan 2021 15:09:36:  40000000 \\nINFO  @ Thu, 14 Jan 2021 15:09:40:  41000000 \\nINFO  @ Thu, 14 Jan 2021 15:09:44:  42000000 \\nINFO  @ Thu, 14 Jan 2021 15:09:48:  43000000 \\nINFO  @ Thu, 14 Jan 2021 15:09:52:  44000000 \\nINFO  @ Thu, 14 Jan 2021 15:09:55:  45000000 \\nINFO  @ Thu, 14 Jan 2021 15:09:59:  46000000 \\nINFO  @ Thu, 14 Jan 2021 15:10:03:  47000000 \\nINFO  @ Thu, 14 Jan 2021 15:10:07:  48000000 \\nINFO  @ Thu, 14 Jan 2021 15:10:10:  49000000 \\nINFO  @ Thu, 14 Jan 2021 15:10:14:  50000000 \\nINFO  @ Thu, 14 Jan 2021 15:10:18:  51000000 \\nINFO  @ Thu, 14 Jan 2021 15:10:22:  52000000 \\nINFO  @ Thu, 14 Jan 2021 15:10:25:  53000000 \\nINFO  @ Thu, 14 Jan 2021 15:10:29:  54000000 \\nINFO  @ Thu, 14 Jan 2021 15:10:33:  55000000 \\nINFO  @ Thu, 14 Jan 2021 15:10:37:  56000000 \\nINFO  @ Thu, 14 Jan 2021 15:10:40:  57000000 \\nINFO  @ Thu, 14 Jan 2021 15:10:44:  58000000 \\nINFO  @ Thu, 14 Jan 2021 15:10:48:  59000000 \\nINFO  @ Thu, 14 Jan 2021 15:10:52:  60000000 \\nINFO  @ Thu, 14 Jan 2021 15:10:56:  61000000 \\nINFO  @ Thu, 14 Jan 2021 15:10:59:  62000000 \\nINFO  @ Thu, 14 Jan 2021 15:11:03:  63000000 \\nINFO  @ Thu, 14 Jan 2021 15:11:07:  64000000 \\nINFO  @ Thu, 14 Jan 2021 15:11:11:  65000000 \\nINFO  @ Thu, 14 Jan 2021 15:11:15:  66000000 \\nINFO  @ Thu, 14 Jan 2021 15:11:18: 66660428 reads have been read. \\nINFO  @ Thu, 14 Jan 2021 15:11:18: #1 tag size is determined as 49 bps \\nINFO  @ Thu, 14 Jan 2021 15:11:18: #1 tag size = 49.0 \\nINFO  @ Thu, 14 Jan 2021 15:11:18: #1  total tags in treatment: 66660428 \\nINFO  @ Thu, 14 Jan 2021 15:11:18: #1 user defined the maximum tags... \\nINFO  @ Thu, 14 Jan 2021 15:11:18: #1 filter out redundant tags at the same location and the same strand by allowing at most 1 tag(s) \\nINFO  @ Thu, 14 Jan 2021 15:11:19: #1  tags after filtering in treatment: 65724989 \\nINFO  @ Thu, 14 Jan 2021 15:11:19: #1  Redundant rate of treatment: 0.01 \\nINFO  @ Thu, 14 Jan 2021 15:11:19: #1  total tags in control: 66660428 \\nINFO  @ Thu, 14 Jan 2021 15:11:19: #1 user defined the maximum tags... \\nINFO  @ Thu, 14 Jan 2021 15:11:19: #1 filter out redundant tags at the same location and the same strand by allowing at most 1 tag(s) \\nINFO  @ Thu, 14 Jan 2021 15:11:19: #1  tags after filtering in control: 65724989 \\nINFO  @ Thu, 14 Jan 2021 15:11:19: #1  Redundant rate of control: 0.01 \\nINFO  @ Thu, 14 Jan 2021 15:11:19: #1 finished! \\nINFO  @ Thu, 14 Jan 2021 15:11:19: #2 Build Peak Model... \\nINFO  @ Thu, 14 Jan 2021 15:11:19: #2 Skipped... \\nINFO  @ Thu, 14 Jan 2021 15:11:19: #2 Use 182 as fragment length \\nINFO  @ Thu, 14 Jan 2021 15:11:19: #3 Call peaks... \\nINFO  @ Thu, 14 Jan 2021 15:11:19: #3 Pre-compute pvalue-qvalue table... \\nINFO  @ Thu, 14 Jan 2021 15:17:31: #3 In the peak calling step, the following will be performed simultaneously: \\nINFO  @ Thu, 14 Jan 2021 15:17:31: #3   Write bedGraph files for treatment pileup (after scaling if necessary)... INPUT_R1_treat_pileup.bdg \\nINFO  @ Thu, 14 Jan 2021 15:17:31: #3   Write bedGraph files for control lambda (after scaling if necessary)... INPUT_R1_control_lambda.bdg \\nINFO  @ Thu, 14 Jan 2021 15:17:31: #3   Pileup will be based on sequencing depth in treatment. \\nINFO  @ Thu, 14 Jan 2021 15:17:31: #3 Call peaks for each chromosome... \\nINFO  @ Thu, 14 Jan 2021 15:22:23: #4 Write output xls file... ../../data/chipseq_MF2C_degraded_v2/diffData_unscaled/INPUT_R1_peaks.xls \\nINFO  @ Thu, 14 Jan 2021 15:22:23: #4 Write peak in narrowPeak format file... ../../data/chipseq_MF2C_degraded_v2/diffData_unscaled/INPUT_R1_peaks.narrowPeak \\nINFO  @ Thu, 14 Jan 2021 15:22:23: #4 Write summits bed file... ../../data/chipseq_MF2C_degraded_v2/diffData_unscaled/INPUT_R1_summits.bed \\nINFO  @ Thu, 14 Jan 2021 15:22:23: Done! \\n'\n"
     ]
    },
    {
     "name": "stdout",
     "output_type": "stream",
     "text": [
      "b'INFO  @ Thu, 14 Jan 2021 15:22:24: \\n# Command line: callpeak -B -t ../../data/chipseq_MF2C_degraded_v2/bwa/mergedLibrary/MV411_MEF2D_NT_SC_63_DMSO-POLII_total_R1.mLb.clN.sorted.bam -c ../../data/chipseq_MF2C_degraded_v2/bwa/mergedLibrary/INPUT_R1.mLb.clN.sorted.bam --nomodel --extsize 182 -n MV411_MEF2D_NT_SC_63_DMSO-POLII_total_R1 --outdir ../../data/chipseq_MF2C_degraded_v2/diffData_unscaled/ -f BAM\\n# ARGUMENTS LIST:\\n# name = MV411_MEF2D_NT_SC_63_DMSO-POLII_total_R1\\n# format = BAM\\n# ChIP-seq file = [\\'../../data/chipseq_MF2C_degraded_v2/bwa/mergedLibrary/MV411_MEF2D_NT_SC_63_DMSO-POLII_total_R1.mLb.clN.sorted.bam\\']\\n# control file = [\\'../../data/chipseq_MF2C_degraded_v2/bwa/mergedLibrary/INPUT_R1.mLb.clN.sorted.bam\\']\\n# effective genome size = 2.70e+09\\n# band width = 300\\n# model fold = [5, 50]\\n# qvalue cutoff = 5.00e-02\\n# The maximum gap between significant sites is assigned as the read length/tag size.\\n# The minimum length of peaks is assigned as the predicted fragment length \"d\".\\n# Larger dataset will be scaled towards smaller dataset.\\n# Range for calculating regional lambda is: 1000 bps and 10000 bps\\n# Broad region calling is off\\n# Paired-End mode is off\\n \\nINFO  @ Thu, 14 Jan 2021 15:22:24: #1 read tag files... \\nINFO  @ Thu, 14 Jan 2021 15:22:24: #1 read treatment tags... \\nINFO  @ Thu, 14 Jan 2021 15:22:29:  1000000 \\nINFO  @ Thu, 14 Jan 2021 15:22:34:  2000000 \\nINFO  @ Thu, 14 Jan 2021 15:22:40:  3000000 \\nINFO  @ Thu, 14 Jan 2021 15:22:45:  4000000 \\nINFO  @ Thu, 14 Jan 2021 15:22:51:  5000000 \\nINFO  @ Thu, 14 Jan 2021 15:22:56:  6000000 \\nINFO  @ Thu, 14 Jan 2021 15:23:01:  7000000 \\nINFO  @ Thu, 14 Jan 2021 15:23:06:  8000000 \\nINFO  @ Thu, 14 Jan 2021 15:23:12:  9000000 \\nINFO  @ Thu, 14 Jan 2021 15:23:17:  10000000 \\nINFO  @ Thu, 14 Jan 2021 15:23:22:  11000000 \\nINFO  @ Thu, 14 Jan 2021 15:23:27:  12000000 \\nINFO  @ Thu, 14 Jan 2021 15:23:32:  13000000 \\nINFO  @ Thu, 14 Jan 2021 15:23:37:  14000000 \\nINFO  @ Thu, 14 Jan 2021 15:23:42:  15000000 \\nINFO  @ Thu, 14 Jan 2021 15:23:48:  16000000 \\nINFO  @ Thu, 14 Jan 2021 15:23:53:  17000000 \\nINFO  @ Thu, 14 Jan 2021 15:23:58:  18000000 \\nINFO  @ Thu, 14 Jan 2021 15:24:04:  19000000 \\nINFO  @ Thu, 14 Jan 2021 15:24:09:  20000000 \\nINFO  @ Thu, 14 Jan 2021 15:24:14:  21000000 \\nINFO  @ Thu, 14 Jan 2021 15:24:19:  22000000 \\nINFO  @ Thu, 14 Jan 2021 15:24:24:  23000000 \\nINFO  @ Thu, 14 Jan 2021 15:24:30:  24000000 \\nINFO  @ Thu, 14 Jan 2021 15:24:35:  25000000 \\nINFO  @ Thu, 14 Jan 2021 15:24:40:  26000000 \\nINFO  @ Thu, 14 Jan 2021 15:24:45:  27000000 \\nINFO  @ Thu, 14 Jan 2021 15:24:50:  28000000 \\nINFO  @ Thu, 14 Jan 2021 15:24:55:  29000000 \\nINFO  @ Thu, 14 Jan 2021 15:25:00:  30000000 \\nINFO  @ Thu, 14 Jan 2021 15:25:05:  31000000 \\nINFO  @ Thu, 14 Jan 2021 15:25:06: 31071152 reads have been read. \\nINFO  @ Thu, 14 Jan 2021 15:25:06: #1.2 read input tags... \\nINFO  @ Thu, 14 Jan 2021 15:25:11:  1000000 \\nINFO  @ Thu, 14 Jan 2021 15:25:17:  2000000 \\nINFO  @ Thu, 14 Jan 2021 15:25:22:  3000000 \\nINFO  @ Thu, 14 Jan 2021 15:25:26:  4000000 \\nINFO  @ Thu, 14 Jan 2021 15:25:30:  5000000 \\nINFO  @ Thu, 14 Jan 2021 15:25:33:  6000000 \\nINFO  @ Thu, 14 Jan 2021 15:25:37:  7000000 \\nINFO  @ Thu, 14 Jan 2021 15:25:41:  8000000 \\nINFO  @ Thu, 14 Jan 2021 15:25:45:  9000000 \\nINFO  @ Thu, 14 Jan 2021 15:25:49:  10000000 \\nINFO  @ Thu, 14 Jan 2021 15:25:53:  11000000 \\nINFO  @ Thu, 14 Jan 2021 15:25:56:  12000000 \\nINFO  @ Thu, 14 Jan 2021 15:26:00:  13000000 \\nINFO  @ Thu, 14 Jan 2021 15:26:04:  14000000 \\nINFO  @ Thu, 14 Jan 2021 15:26:08:  15000000 \\nINFO  @ Thu, 14 Jan 2021 15:26:12:  16000000 \\nINFO  @ Thu, 14 Jan 2021 15:26:16:  17000000 \\nINFO  @ Thu, 14 Jan 2021 15:26:20:  18000000 \\nINFO  @ Thu, 14 Jan 2021 15:26:24:  19000000 \\nINFO  @ Thu, 14 Jan 2021 15:26:28:  20000000 \\nINFO  @ Thu, 14 Jan 2021 15:26:32:  21000000 \\nINFO  @ Thu, 14 Jan 2021 15:26:35:  22000000 \\nINFO  @ Thu, 14 Jan 2021 15:26:39:  23000000 \\nINFO  @ Thu, 14 Jan 2021 15:26:43:  24000000 \\nINFO  @ Thu, 14 Jan 2021 15:26:47:  25000000 \\nINFO  @ Thu, 14 Jan 2021 15:26:51:  26000000 \\nINFO  @ Thu, 14 Jan 2021 15:26:55:  27000000 \\nINFO  @ Thu, 14 Jan 2021 15:26:59:  28000000 \\nINFO  @ Thu, 14 Jan 2021 15:27:03:  29000000 \\nINFO  @ Thu, 14 Jan 2021 15:27:06:  30000000 \\nINFO  @ Thu, 14 Jan 2021 15:27:10:  31000000 \\nINFO  @ Thu, 14 Jan 2021 15:27:14:  32000000 \\nINFO  @ Thu, 14 Jan 2021 15:27:18:  33000000 \\nINFO  @ Thu, 14 Jan 2021 15:27:21:  34000000 \\nINFO  @ Thu, 14 Jan 2021 15:27:25:  35000000 \\nINFO  @ Thu, 14 Jan 2021 15:27:28:  36000000 \\nINFO  @ Thu, 14 Jan 2021 15:27:32:  37000000 \\nINFO  @ Thu, 14 Jan 2021 15:27:36:  38000000 \\nINFO  @ Thu, 14 Jan 2021 15:27:40:  39000000 \\nINFO  @ Thu, 14 Jan 2021 15:27:44:  40000000 \\nINFO  @ Thu, 14 Jan 2021 15:27:48:  41000000 \\nINFO  @ Thu, 14 Jan 2021 15:27:52:  42000000 \\nINFO  @ Thu, 14 Jan 2021 15:27:56:  43000000 \\nINFO  @ Thu, 14 Jan 2021 15:28:00:  44000000 \\nINFO  @ Thu, 14 Jan 2021 15:28:04:  45000000 \\nINFO  @ Thu, 14 Jan 2021 15:28:08:  46000000 \\nINFO  @ Thu, 14 Jan 2021 15:28:11:  47000000 \\nINFO  @ Thu, 14 Jan 2021 15:28:15:  48000000 \\nINFO  @ Thu, 14 Jan 2021 15:28:19:  49000000 \\nINFO  @ Thu, 14 Jan 2021 15:28:22:  50000000 \\nINFO  @ Thu, 14 Jan 2021 15:28:26:  51000000 \\nINFO  @ Thu, 14 Jan 2021 15:28:30:  52000000 \\nINFO  @ Thu, 14 Jan 2021 15:28:34:  53000000 \\nINFO  @ Thu, 14 Jan 2021 15:28:37:  54000000 \\nINFO  @ Thu, 14 Jan 2021 15:28:41:  55000000 \\nINFO  @ Thu, 14 Jan 2021 15:28:45:  56000000 \\nINFO  @ Thu, 14 Jan 2021 15:28:49:  57000000 \\nINFO  @ Thu, 14 Jan 2021 15:28:52:  58000000 \\nINFO  @ Thu, 14 Jan 2021 15:28:56:  59000000 \\nINFO  @ Thu, 14 Jan 2021 15:29:00:  60000000 \\nINFO  @ Thu, 14 Jan 2021 15:29:04:  61000000 \\nINFO  @ Thu, 14 Jan 2021 15:29:08:  62000000 \\nINFO  @ Thu, 14 Jan 2021 15:29:11:  63000000 \\nINFO  @ Thu, 14 Jan 2021 15:29:15:  64000000 \\nINFO  @ Thu, 14 Jan 2021 15:29:19:  65000000 \\nINFO  @ Thu, 14 Jan 2021 15:29:23:  66000000 \\nINFO  @ Thu, 14 Jan 2021 15:29:25: 66660428 reads have been read. \\nINFO  @ Thu, 14 Jan 2021 15:29:26: #1 tag size is determined as 97 bps \\nINFO  @ Thu, 14 Jan 2021 15:29:26: #1 tag size = 97.0 \\nINFO  @ Thu, 14 Jan 2021 15:29:26: #1  total tags in treatment: 31071152 \\nINFO  @ Thu, 14 Jan 2021 15:29:26: #1 user defined the maximum tags... \\nINFO  @ Thu, 14 Jan 2021 15:29:26: #1 filter out redundant tags at the same location and the same strand by allowing at most 1 tag(s) \\nINFO  @ Thu, 14 Jan 2021 15:29:26: #1  tags after filtering in treatment: 30564508 \\nINFO  @ Thu, 14 Jan 2021 15:29:26: #1  Redundant rate of treatment: 0.02 \\nINFO  @ Thu, 14 Jan 2021 15:29:26: #1  total tags in control: 66660428 \\nINFO  @ Thu, 14 Jan 2021 15:29:26: #1 user defined the maximum tags... \\nINFO  @ Thu, 14 Jan 2021 15:29:26: #1 filter out redundant tags at the same location and the same strand by allowing at most 1 tag(s) \\nINFO  @ Thu, 14 Jan 2021 15:29:27: #1  tags after filtering in control: 65724989 \\nINFO  @ Thu, 14 Jan 2021 15:29:27: #1  Redundant rate of control: 0.01 \\nINFO  @ Thu, 14 Jan 2021 15:29:27: #1 finished! \\nINFO  @ Thu, 14 Jan 2021 15:29:27: #2 Build Peak Model... \\nINFO  @ Thu, 14 Jan 2021 15:29:27: #2 Skipped... \\nINFO  @ Thu, 14 Jan 2021 15:29:27: #2 Use 182 as fragment length \\nINFO  @ Thu, 14 Jan 2021 15:29:27: #3 Call peaks... \\nINFO  @ Thu, 14 Jan 2021 15:29:27: #3 Pre-compute pvalue-qvalue table... \\nINFO  @ Thu, 14 Jan 2021 15:34:44: #3 In the peak calling step, the following will be performed simultaneously: \\nINFO  @ Thu, 14 Jan 2021 15:34:44: #3   Write bedGraph files for treatment pileup (after scaling if necessary)... MV411_MEF2D_NT_SC_63_DMSO-POLII_total_R1_treat_pileup.bdg \\nINFO  @ Thu, 14 Jan 2021 15:34:44: #3   Write bedGraph files for control lambda (after scaling if necessary)... MV411_MEF2D_NT_SC_63_DMSO-POLII_total_R1_control_lambda.bdg \\nINFO  @ Thu, 14 Jan 2021 15:34:44: #3   Pileup will be based on sequencing depth in treatment. \\nINFO  @ Thu, 14 Jan 2021 15:34:44: #3 Call peaks for each chromosome... \\nINFO  @ Thu, 14 Jan 2021 15:38:53: #4 Write output xls file... ../../data/chipseq_MF2C_degraded_v2/diffData_unscaled/MV411_MEF2D_NT_SC_63_DMSO-POLII_total_R1_peaks.xls \\nINFO  @ Thu, 14 Jan 2021 15:38:53: #4 Write peak in narrowPeak format file... ../../data/chipseq_MF2C_degraded_v2/diffData_unscaled/MV411_MEF2D_NT_SC_63_DMSO-POLII_total_R1_peaks.narrowPeak \\nINFO  @ Thu, 14 Jan 2021 15:38:53: #4 Write summits bed file... ../../data/chipseq_MF2C_degraded_v2/diffData_unscaled/MV411_MEF2D_NT_SC_63_DMSO-POLII_total_R1_summits.bed \\nINFO  @ Thu, 14 Jan 2021 15:38:54: Done! \\n'\n",
      "65724989 30564508\n",
      "doing differential peak binding\n"
     ]
    }
   ],
   "source": [
    "#on unscalled data \n",
    "for i in range(int(len(bams)/2)):\n",
    "    if i < 0:\n",
    "        continue\n",
    "    name1 = bams[i]\n",
    "    name2 = bams[len(names)+i]\n",
    "    print(name1,name2)\n",
    "    chip.fullDiffPeak(name1,name2, control1='../../data/'+project+'/bwa/mergedLibrary/INPUT_R1.mLb.clN.sorted.bam', directory = \"../../data/\"+project+\"/diffData_unscaled/\", res_directory = \"../../data/\"+project+\"/diffPeaks_unscaled/\",pairedend=False)"
   ]
  },
  {
   "cell_type": "code",
   "execution_count": null,
   "metadata": {},
   "outputs": [],
   "source": [
    "bw = ! ls ../../data/$project/bwa/mergedLibrary/bigwig/*.bigWig\n",
    "bw"
   ]
  },
  {
   "cell_type": "code",
   "execution_count": null,
   "metadata": {},
   "outputs": [],
   "source": [
    "cond1peak = ! ls ../../data/$project/diffPeaks_unscaled/*cond1.bed\n",
    "cond2peak = ! ls ../../data/$project/diffPeaks_unscaled/*cond2.bed\n",
    "commonpeak = ! ls ../../data/$project/diffPeaks_unscaled/*common.bed\n",
    "commonpeak"
   ]
  },
  {
   "cell_type": "code",
   "execution_count": null,
   "metadata": {
    "scrolled": true
   },
   "outputs": [],
   "source": [
    "for i in range(int((len(bw)-1)/2)):\n",
    "    name1 = bw[i]\n",
    "    name2 = bw[len(names)+i]\n",
    "    peak = [cond1peak[i], commonpeak[i], cond2peak[i]]\n",
    "    #for val in peak:\n",
    "     #   chip.dropWeirdChromosomes(val)\n",
    "    name = names[i]\n",
    "    print(name1,name2)\n",
    "    chip.getPeaksAt(peak, [name1, name2], bigwignames=['DMSO', 'VHL'], peaknames=['DMSO_peaks', 'common', 'VHL_peaks'], window=3000, folder=\"\", title=name, numthreads=8, torecompute=True, refpoint='center', name='../../data/'+project+'/diffPeaks_unscaled/'+name+'_mat.pdf', withDeeptools=True)"
   ]
  },
  {
   "cell_type": "code",
   "execution_count": null,
   "metadata": {},
   "outputs": [],
   "source": [
    "h.createFoldersFor('../results/'+project+'/plots/unscaled/diffPeaks/')\n",
    "! cp ../../data/$project/diffPeaks_unscaled/*.pdf ../results/$project/plots/unscaled/diffPeaks/\n",
    "\n",
    "! gsutil -m cp gs://amlproject/Chip/$project/bwa/mergedLibrary/deepTools/**.pdf ../results/$project/plots/"
   ]
  },
  {
   "cell_type": "code",
   "execution_count": null,
   "metadata": {},
   "outputs": [],
   "source": [
    "! gsutil -m cp -r ../../data/$project/diffPeaks gs://amlproject/Chip/$project/\n",
    "! gsutil -m cp -r ../../data/$project/diffData gs://amlproject/Chip/$project/\n",
    "! gsutil -m cp -r ../../data/$project/diffPeaks_unscaled gs://amlproject/Chip/$project/\n",
    "! gsutil -m cp -r ../../data/$project/diffData_unscaled gs://amlproject/Chip/$project/\n",
    "! gsutil -m cp -r ../../data/$project/peakplot gs://amlproject/Chip/$project/"
   ]
  },
  {
   "cell_type": "code",
   "execution_count": null,
   "metadata": {},
   "outputs": [],
   "source": []
  }
 ],
 "metadata": {
  "kernelspec": {
   "display_name": "Python 3",
   "language": "python",
   "name": "python3"
  },
  "language_info": {
   "codemirror_mode": {
    "name": "ipython",
    "version": 3
   },
   "file_extension": ".py",
   "mimetype": "text/x-python",
   "name": "python",
   "nbconvert_exporter": "python",
   "pygments_lexer": "ipython3",
   "version": "3.8.3rc1"
  },
  "latex_envs": {
   "LaTeX_envs_menu_present": true,
   "autoclose": false,
   "autocomplete": true,
   "bibliofile": "biblio.bib",
   "cite_by": "apalike",
   "current_citInitial": 1,
   "eqLabelWithNumbers": true,
   "eqNumInitial": 1,
   "hotkeys": {
    "equation": "Ctrl-E",
    "itemize": "Ctrl-I"
   },
   "labels_anchors": false,
   "latex_user_defs": false,
   "report_style_numbering": false,
   "user_envs_cfg": false
  },
  "toc": {
   "base_numbering": 1,
   "nav_menu": {},
   "number_sections": false,
   "sideBar": true,
   "skip_h1_title": false,
   "title_cell": "Table of Contents",
   "title_sidebar": "Contents",
   "toc_cell": false,
   "toc_position": {
    "height": "257.4px",
    "left": "127px",
    "top": "111.6px",
    "width": "165px"
   },
   "toc_section_display": true,
   "toc_window_display": true
  },
  "varInspector": {
   "cols": {
    "lenName": 16,
    "lenType": 16,
    "lenVar": 40
   },
   "kernels_config": {
    "python": {
     "delete_cmd_postfix": "",
     "delete_cmd_prefix": "del ",
     "library": "var_list.py",
     "varRefreshCmd": "print(var_dic_list())"
    },
    "r": {
     "delete_cmd_postfix": ") ",
     "delete_cmd_prefix": "rm(",
     "library": "var_list.r",
     "varRefreshCmd": "cat(var_dic_list()) "
    }
   },
   "types_to_exclude": [
    "module",
    "function",
    "builtin_function_or_method",
    "instance",
    "_Feature"
   ],
   "window_display": false
  }
 },
 "nbformat": 4,
 "nbformat_minor": 2
}
