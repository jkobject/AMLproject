{
 "cells": [
  {
   "cell_type": "markdown",
   "metadata": {},
   "source": [
    "# Slamseq MV411 YLK inhib"
   ]
  },
  {
   "cell_type": "code",
   "execution_count": 181,
   "metadata": {},
   "outputs": [
    {
     "data": {
      "text/html": [
       "\n",
       "    <div class=\"bk-root\">\n",
       "        <a href=\"https://bokeh.org\" target=\"_blank\" class=\"bk-logo bk-logo-small bk-logo-notebook\"></a>\n",
       "        <span id=\"1003\">Loading BokehJS ...</span>\n",
       "    </div>"
      ]
     },
     "metadata": {},
     "output_type": "display_data"
    },
    {
     "data": {
      "application/javascript": [
       "\n",
       "(function(root) {\n",
       "  function now() {\n",
       "    return new Date();\n",
       "  }\n",
       "\n",
       "  var force = true;\n",
       "\n",
       "  if (typeof root._bokeh_onload_callbacks === \"undefined\" || force === true) {\n",
       "    root._bokeh_onload_callbacks = [];\n",
       "    root._bokeh_is_loading = undefined;\n",
       "  }\n",
       "\n",
       "  var JS_MIME_TYPE = 'application/javascript';\n",
       "  var HTML_MIME_TYPE = 'text/html';\n",
       "  var EXEC_MIME_TYPE = 'application/vnd.bokehjs_exec.v0+json';\n",
       "  var CLASS_NAME = 'output_bokeh rendered_html';\n",
       "\n",
       "  /**\n",
       "   * Render data to the DOM node\n",
       "   */\n",
       "  function render(props, node) {\n",
       "    var script = document.createElement(\"script\");\n",
       "    node.appendChild(script);\n",
       "  }\n",
       "\n",
       "  /**\n",
       "   * Handle when an output is cleared or removed\n",
       "   */\n",
       "  function handleClearOutput(event, handle) {\n",
       "    var cell = handle.cell;\n",
       "\n",
       "    var id = cell.output_area._bokeh_element_id;\n",
       "    var server_id = cell.output_area._bokeh_server_id;\n",
       "    // Clean up Bokeh references\n",
       "    if (id != null && id in Bokeh.index) {\n",
       "      Bokeh.index[id].model.document.clear();\n",
       "      delete Bokeh.index[id];\n",
       "    }\n",
       "\n",
       "    if (server_id !== undefined) {\n",
       "      // Clean up Bokeh references\n",
       "      var cmd = \"from bokeh.io.state import curstate; print(curstate().uuid_to_server['\" + server_id + \"'].get_sessions()[0].document.roots[0]._id)\";\n",
       "      cell.notebook.kernel.execute(cmd, {\n",
       "        iopub: {\n",
       "          output: function(msg) {\n",
       "            var id = msg.content.text.trim();\n",
       "            if (id in Bokeh.index) {\n",
       "              Bokeh.index[id].model.document.clear();\n",
       "              delete Bokeh.index[id];\n",
       "            }\n",
       "          }\n",
       "        }\n",
       "      });\n",
       "      // Destroy server and session\n",
       "      var cmd = \"import bokeh.io.notebook as ion; ion.destroy_server('\" + server_id + \"')\";\n",
       "      cell.notebook.kernel.execute(cmd);\n",
       "    }\n",
       "  }\n",
       "\n",
       "  /**\n",
       "   * Handle when a new output is added\n",
       "   */\n",
       "  function handleAddOutput(event, handle) {\n",
       "    var output_area = handle.output_area;\n",
       "    var output = handle.output;\n",
       "\n",
       "    // limit handleAddOutput to display_data with EXEC_MIME_TYPE content only\n",
       "    if ((output.output_type != \"display_data\") || (!output.data.hasOwnProperty(EXEC_MIME_TYPE))) {\n",
       "      return\n",
       "    }\n",
       "\n",
       "    var toinsert = output_area.element.find(\".\" + CLASS_NAME.split(' ')[0]);\n",
       "\n",
       "    if (output.metadata[EXEC_MIME_TYPE][\"id\"] !== undefined) {\n",
       "      toinsert[toinsert.length - 1].firstChild.textContent = output.data[JS_MIME_TYPE];\n",
       "      // store reference to embed id on output_area\n",
       "      output_area._bokeh_element_id = output.metadata[EXEC_MIME_TYPE][\"id\"];\n",
       "    }\n",
       "    if (output.metadata[EXEC_MIME_TYPE][\"server_id\"] !== undefined) {\n",
       "      var bk_div = document.createElement(\"div\");\n",
       "      bk_div.innerHTML = output.data[HTML_MIME_TYPE];\n",
       "      var script_attrs = bk_div.children[0].attributes;\n",
       "      for (var i = 0; i < script_attrs.length; i++) {\n",
       "        toinsert[toinsert.length - 1].firstChild.setAttribute(script_attrs[i].name, script_attrs[i].value);\n",
       "        toinsert[toinsert.length - 1].firstChild.textContent = bk_div.children[0].textContent\n",
       "      }\n",
       "      // store reference to server id on output_area\n",
       "      output_area._bokeh_server_id = output.metadata[EXEC_MIME_TYPE][\"server_id\"];\n",
       "    }\n",
       "  }\n",
       "\n",
       "  function register_renderer(events, OutputArea) {\n",
       "\n",
       "    function append_mime(data, metadata, element) {\n",
       "      // create a DOM node to render to\n",
       "      var toinsert = this.create_output_subarea(\n",
       "        metadata,\n",
       "        CLASS_NAME,\n",
       "        EXEC_MIME_TYPE\n",
       "      );\n",
       "      this.keyboard_manager.register_events(toinsert);\n",
       "      // Render to node\n",
       "      var props = {data: data, metadata: metadata[EXEC_MIME_TYPE]};\n",
       "      render(props, toinsert[toinsert.length - 1]);\n",
       "      element.append(toinsert);\n",
       "      return toinsert\n",
       "    }\n",
       "\n",
       "    /* Handle when an output is cleared or removed */\n",
       "    events.on('clear_output.CodeCell', handleClearOutput);\n",
       "    events.on('delete.Cell', handleClearOutput);\n",
       "\n",
       "    /* Handle when a new output is added */\n",
       "    events.on('output_added.OutputArea', handleAddOutput);\n",
       "\n",
       "    /**\n",
       "     * Register the mime type and append_mime function with output_area\n",
       "     */\n",
       "    OutputArea.prototype.register_mime_type(EXEC_MIME_TYPE, append_mime, {\n",
       "      /* Is output safe? */\n",
       "      safe: true,\n",
       "      /* Index of renderer in `output_area.display_order` */\n",
       "      index: 0\n",
       "    });\n",
       "  }\n",
       "\n",
       "  // register the mime type if in Jupyter Notebook environment and previously unregistered\n",
       "  if (root.Jupyter !== undefined) {\n",
       "    var events = require('base/js/events');\n",
       "    var OutputArea = require('notebook/js/outputarea').OutputArea;\n",
       "\n",
       "    if (OutputArea.prototype.mime_types().indexOf(EXEC_MIME_TYPE) == -1) {\n",
       "      register_renderer(events, OutputArea);\n",
       "    }\n",
       "  }\n",
       "\n",
       "  \n",
       "  if (typeof (root._bokeh_timeout) === \"undefined\" || force === true) {\n",
       "    root._bokeh_timeout = Date.now() + 5000;\n",
       "    root._bokeh_failed_load = false;\n",
       "  }\n",
       "\n",
       "  var NB_LOAD_WARNING = {'data': {'text/html':\n",
       "     \"<div style='background-color: #fdd'>\\n\"+\n",
       "     \"<p>\\n\"+\n",
       "     \"BokehJS does not appear to have successfully loaded. If loading BokehJS from CDN, this \\n\"+\n",
       "     \"may be due to a slow or bad network connection. Possible fixes:\\n\"+\n",
       "     \"</p>\\n\"+\n",
       "     \"<ul>\\n\"+\n",
       "     \"<li>re-rerun `output_notebook()` to attempt to load from CDN again, or</li>\\n\"+\n",
       "     \"<li>use INLINE resources instead, as so:</li>\\n\"+\n",
       "     \"</ul>\\n\"+\n",
       "     \"<code>\\n\"+\n",
       "     \"from bokeh.resources import INLINE\\n\"+\n",
       "     \"output_notebook(resources=INLINE)\\n\"+\n",
       "     \"</code>\\n\"+\n",
       "     \"</div>\"}};\n",
       "\n",
       "  function display_loaded() {\n",
       "    var el = document.getElementById(\"1003\");\n",
       "    if (el != null) {\n",
       "      el.textContent = \"BokehJS is loading...\";\n",
       "    }\n",
       "    if (root.Bokeh !== undefined) {\n",
       "      if (el != null) {\n",
       "        el.textContent = \"BokehJS \" + root.Bokeh.version + \" successfully loaded.\";\n",
       "      }\n",
       "    } else if (Date.now() < root._bokeh_timeout) {\n",
       "      setTimeout(display_loaded, 100)\n",
       "    }\n",
       "  }\n",
       "\n",
       "\n",
       "  function run_callbacks() {\n",
       "    try {\n",
       "      root._bokeh_onload_callbacks.forEach(function(callback) {\n",
       "        if (callback != null)\n",
       "          callback();\n",
       "      });\n",
       "    } finally {\n",
       "      delete root._bokeh_onload_callbacks\n",
       "    }\n",
       "    console.debug(\"Bokeh: all callbacks have finished\");\n",
       "  }\n",
       "\n",
       "  function load_libs(css_urls, js_urls, callback) {\n",
       "    if (css_urls == null) css_urls = [];\n",
       "    if (js_urls == null) js_urls = [];\n",
       "\n",
       "    root._bokeh_onload_callbacks.push(callback);\n",
       "    if (root._bokeh_is_loading > 0) {\n",
       "      console.debug(\"Bokeh: BokehJS is being loaded, scheduling callback at\", now());\n",
       "      return null;\n",
       "    }\n",
       "    if (js_urls == null || js_urls.length === 0) {\n",
       "      run_callbacks();\n",
       "      return null;\n",
       "    }\n",
       "    console.debug(\"Bokeh: BokehJS not loaded, scheduling load and callback at\", now());\n",
       "    root._bokeh_is_loading = css_urls.length + js_urls.length;\n",
       "\n",
       "    function on_load() {\n",
       "      root._bokeh_is_loading--;\n",
       "      if (root._bokeh_is_loading === 0) {\n",
       "        console.debug(\"Bokeh: all BokehJS libraries/stylesheets loaded\");\n",
       "        run_callbacks()\n",
       "      }\n",
       "    }\n",
       "\n",
       "    function on_error() {\n",
       "      console.error(\"failed to load \" + url);\n",
       "    }\n",
       "\n",
       "    for (var i = 0; i < css_urls.length; i++) {\n",
       "      var url = css_urls[i];\n",
       "      const element = document.createElement(\"link\");\n",
       "      element.onload = on_load;\n",
       "      element.onerror = on_error;\n",
       "      element.rel = \"stylesheet\";\n",
       "      element.type = \"text/css\";\n",
       "      element.href = url;\n",
       "      console.debug(\"Bokeh: injecting link tag for BokehJS stylesheet: \", url);\n",
       "      document.body.appendChild(element);\n",
       "    }\n",
       "\n",
       "    const hashes = {\"https://cdn.bokeh.org/bokeh/release/bokeh-2.0.2.min.js\": \"ufR9RFnRs6lniiaFvtJziE0YeidtAgBRH6ux2oUItHw5WTvE1zuk9uzhUU/FJXDp\", \"https://cdn.bokeh.org/bokeh/release/bokeh-widgets-2.0.2.min.js\": \"8QM/PGWBT+IssZuRcDcjzwIh1mkOmJSoNMmyYDZbCfXJg3Ap1lEvdVgFuSAwhb/J\", \"https://cdn.bokeh.org/bokeh/release/bokeh-tables-2.0.2.min.js\": \"Jm8cH3Rg0P6UeZhVY5cLy1WzKajUT9KImCY+76hEqrcJt59/d8GPvFHjCkYgnSIn\", \"https://cdn.bokeh.org/bokeh/release/bokeh-gl-2.0.2.min.js\": \"Ozhzj+SI7ywm74aOI/UajcWz+C0NjsPunEVyVIrxzYkB+jA+2tUw8x5xJCbVtK5I\"};\n",
       "\n",
       "    for (var i = 0; i < js_urls.length; i++) {\n",
       "      var url = js_urls[i];\n",
       "      var element = document.createElement('script');\n",
       "      element.onload = on_load;\n",
       "      element.onerror = on_error;\n",
       "      element.async = false;\n",
       "      element.src = url;\n",
       "      if (url in hashes) {\n",
       "        element.crossOrigin = \"anonymous\";\n",
       "        element.integrity = \"sha384-\" + hashes[url];\n",
       "      }\n",
       "      console.debug(\"Bokeh: injecting script tag for BokehJS library: \", url);\n",
       "      document.head.appendChild(element);\n",
       "    }\n",
       "  };\n",
       "\n",
       "  function inject_raw_css(css) {\n",
       "    const element = document.createElement(\"style\");\n",
       "    element.appendChild(document.createTextNode(css));\n",
       "    document.body.appendChild(element);\n",
       "  }\n",
       "\n",
       "  \n",
       "  var js_urls = [\"https://cdn.bokeh.org/bokeh/release/bokeh-2.0.2.min.js\", \"https://cdn.bokeh.org/bokeh/release/bokeh-widgets-2.0.2.min.js\", \"https://cdn.bokeh.org/bokeh/release/bokeh-tables-2.0.2.min.js\", \"https://cdn.bokeh.org/bokeh/release/bokeh-gl-2.0.2.min.js\"];\n",
       "  var css_urls = [];\n",
       "  \n",
       "\n",
       "  var inline_js = [\n",
       "    function(Bokeh) {\n",
       "      Bokeh.set_log_level(\"info\");\n",
       "    },\n",
       "    function(Bokeh) {\n",
       "    \n",
       "    \n",
       "    }\n",
       "  ];\n",
       "\n",
       "  function run_inline_js() {\n",
       "    \n",
       "    if (root.Bokeh !== undefined || force === true) {\n",
       "      \n",
       "    for (var i = 0; i < inline_js.length; i++) {\n",
       "      inline_js[i].call(root, root.Bokeh);\n",
       "    }\n",
       "    if (force === true) {\n",
       "        display_loaded();\n",
       "      }} else if (Date.now() < root._bokeh_timeout) {\n",
       "      setTimeout(run_inline_js, 100);\n",
       "    } else if (!root._bokeh_failed_load) {\n",
       "      console.log(\"Bokeh: BokehJS failed to load within specified timeout.\");\n",
       "      root._bokeh_failed_load = true;\n",
       "    } else if (force !== true) {\n",
       "      var cell = $(document.getElementById(\"1003\")).parents('.cell').data().cell;\n",
       "      cell.output_area.append_execute_result(NB_LOAD_WARNING)\n",
       "    }\n",
       "\n",
       "  }\n",
       "\n",
       "  if (root._bokeh_is_loading === 0) {\n",
       "    console.debug(\"Bokeh: BokehJS loaded, going straight to plotting\");\n",
       "    run_inline_js();\n",
       "  } else {\n",
       "    load_libs(css_urls, js_urls, function() {\n",
       "      console.debug(\"Bokeh: BokehJS plotting callback run at\", now());\n",
       "      run_inline_js();\n",
       "    });\n",
       "  }\n",
       "}(window));"
      ],
      "application/vnd.bokehjs_load.v0+json": "\n(function(root) {\n  function now() {\n    return new Date();\n  }\n\n  var force = true;\n\n  if (typeof root._bokeh_onload_callbacks === \"undefined\" || force === true) {\n    root._bokeh_onload_callbacks = [];\n    root._bokeh_is_loading = undefined;\n  }\n\n  \n\n  \n  if (typeof (root._bokeh_timeout) === \"undefined\" || force === true) {\n    root._bokeh_timeout = Date.now() + 5000;\n    root._bokeh_failed_load = false;\n  }\n\n  var NB_LOAD_WARNING = {'data': {'text/html':\n     \"<div style='background-color: #fdd'>\\n\"+\n     \"<p>\\n\"+\n     \"BokehJS does not appear to have successfully loaded. If loading BokehJS from CDN, this \\n\"+\n     \"may be due to a slow or bad network connection. Possible fixes:\\n\"+\n     \"</p>\\n\"+\n     \"<ul>\\n\"+\n     \"<li>re-rerun `output_notebook()` to attempt to load from CDN again, or</li>\\n\"+\n     \"<li>use INLINE resources instead, as so:</li>\\n\"+\n     \"</ul>\\n\"+\n     \"<code>\\n\"+\n     \"from bokeh.resources import INLINE\\n\"+\n     \"output_notebook(resources=INLINE)\\n\"+\n     \"</code>\\n\"+\n     \"</div>\"}};\n\n  function display_loaded() {\n    var el = document.getElementById(\"1003\");\n    if (el != null) {\n      el.textContent = \"BokehJS is loading...\";\n    }\n    if (root.Bokeh !== undefined) {\n      if (el != null) {\n        el.textContent = \"BokehJS \" + root.Bokeh.version + \" successfully loaded.\";\n      }\n    } else if (Date.now() < root._bokeh_timeout) {\n      setTimeout(display_loaded, 100)\n    }\n  }\n\n\n  function run_callbacks() {\n    try {\n      root._bokeh_onload_callbacks.forEach(function(callback) {\n        if (callback != null)\n          callback();\n      });\n    } finally {\n      delete root._bokeh_onload_callbacks\n    }\n    console.debug(\"Bokeh: all callbacks have finished\");\n  }\n\n  function load_libs(css_urls, js_urls, callback) {\n    if (css_urls == null) css_urls = [];\n    if (js_urls == null) js_urls = [];\n\n    root._bokeh_onload_callbacks.push(callback);\n    if (root._bokeh_is_loading > 0) {\n      console.debug(\"Bokeh: BokehJS is being loaded, scheduling callback at\", now());\n      return null;\n    }\n    if (js_urls == null || js_urls.length === 0) {\n      run_callbacks();\n      return null;\n    }\n    console.debug(\"Bokeh: BokehJS not loaded, scheduling load and callback at\", now());\n    root._bokeh_is_loading = css_urls.length + js_urls.length;\n\n    function on_load() {\n      root._bokeh_is_loading--;\n      if (root._bokeh_is_loading === 0) {\n        console.debug(\"Bokeh: all BokehJS libraries/stylesheets loaded\");\n        run_callbacks()\n      }\n    }\n\n    function on_error() {\n      console.error(\"failed to load \" + url);\n    }\n\n    for (var i = 0; i < css_urls.length; i++) {\n      var url = css_urls[i];\n      const element = document.createElement(\"link\");\n      element.onload = on_load;\n      element.onerror = on_error;\n      element.rel = \"stylesheet\";\n      element.type = \"text/css\";\n      element.href = url;\n      console.debug(\"Bokeh: injecting link tag for BokehJS stylesheet: \", url);\n      document.body.appendChild(element);\n    }\n\n    const hashes = {\"https://cdn.bokeh.org/bokeh/release/bokeh-2.0.2.min.js\": \"ufR9RFnRs6lniiaFvtJziE0YeidtAgBRH6ux2oUItHw5WTvE1zuk9uzhUU/FJXDp\", \"https://cdn.bokeh.org/bokeh/release/bokeh-widgets-2.0.2.min.js\": \"8QM/PGWBT+IssZuRcDcjzwIh1mkOmJSoNMmyYDZbCfXJg3Ap1lEvdVgFuSAwhb/J\", \"https://cdn.bokeh.org/bokeh/release/bokeh-tables-2.0.2.min.js\": \"Jm8cH3Rg0P6UeZhVY5cLy1WzKajUT9KImCY+76hEqrcJt59/d8GPvFHjCkYgnSIn\", \"https://cdn.bokeh.org/bokeh/release/bokeh-gl-2.0.2.min.js\": \"Ozhzj+SI7ywm74aOI/UajcWz+C0NjsPunEVyVIrxzYkB+jA+2tUw8x5xJCbVtK5I\"};\n\n    for (var i = 0; i < js_urls.length; i++) {\n      var url = js_urls[i];\n      var element = document.createElement('script');\n      element.onload = on_load;\n      element.onerror = on_error;\n      element.async = false;\n      element.src = url;\n      if (url in hashes) {\n        element.crossOrigin = \"anonymous\";\n        element.integrity = \"sha384-\" + hashes[url];\n      }\n      console.debug(\"Bokeh: injecting script tag for BokehJS library: \", url);\n      document.head.appendChild(element);\n    }\n  };\n\n  function inject_raw_css(css) {\n    const element = document.createElement(\"style\");\n    element.appendChild(document.createTextNode(css));\n    document.body.appendChild(element);\n  }\n\n  \n  var js_urls = [\"https://cdn.bokeh.org/bokeh/release/bokeh-2.0.2.min.js\", \"https://cdn.bokeh.org/bokeh/release/bokeh-widgets-2.0.2.min.js\", \"https://cdn.bokeh.org/bokeh/release/bokeh-tables-2.0.2.min.js\", \"https://cdn.bokeh.org/bokeh/release/bokeh-gl-2.0.2.min.js\"];\n  var css_urls = [];\n  \n\n  var inline_js = [\n    function(Bokeh) {\n      Bokeh.set_log_level(\"info\");\n    },\n    function(Bokeh) {\n    \n    \n    }\n  ];\n\n  function run_inline_js() {\n    \n    if (root.Bokeh !== undefined || force === true) {\n      \n    for (var i = 0; i < inline_js.length; i++) {\n      inline_js[i].call(root, root.Bokeh);\n    }\n    if (force === true) {\n        display_loaded();\n      }} else if (Date.now() < root._bokeh_timeout) {\n      setTimeout(run_inline_js, 100);\n    } else if (!root._bokeh_failed_load) {\n      console.log(\"Bokeh: BokehJS failed to load within specified timeout.\");\n      root._bokeh_failed_load = true;\n    } else if (force !== true) {\n      var cell = $(document.getElementById(\"1003\")).parents('.cell').data().cell;\n      cell.output_area.append_execute_result(NB_LOAD_WARNING)\n    }\n\n  }\n\n  if (root._bokeh_is_loading === 0) {\n    console.debug(\"Bokeh: BokehJS loaded, going straight to plotting\");\n    run_inline_js();\n  } else {\n    load_libs(css_urls, js_urls, function() {\n      console.debug(\"Bokeh: BokehJS plotting callback run at\", now());\n      run_inline_js();\n    });\n  }\n}(window));"
     },
     "metadata": {},
     "output_type": "display_data"
    },
    {
     "name": "stdout",
     "output_type": "stream",
     "text": [
      "The autoreload extension is already loaded. To reload it, use:\n",
      "  %reload_ext autoreload\n",
      "The rpy2.ipython extension is already loaded. To reload it, use:\n",
      "  %reload_ext rpy2.ipython\n"
     ]
    }
   ],
   "source": [
    "from __future__ import print_function\n",
    "import os.path\n",
    "import pandas as pd\n",
    "import sys\n",
    "sys.path.insert(0, '../../')\n",
    "import seaborn as sns\n",
    "import numpy as np\n",
    "\n",
    "from JKBio.utils import helper as h\n",
    "from JKBio.rna import pyDESeq2\n",
    "from JKBio import rna\n",
    "\n",
    "from JKBio.utils import plot\n",
    "\n",
    "from bokeh.plotting import *\n",
    "from bokeh.models import HoverTool\n",
    "import matplotlib.pyplot as plt\n",
    "\n",
    "from sklearn.neighbors import KNeighborsClassifier\n",
    "from sklearn.manifold import MDS, TSNE\n",
    "from sklearn.decomposition import PCA\n",
    "from sklearn.preprocessing import scale\n",
    "#from umap import UMAP\n",
    "\n",
    "output_notebook()\n",
    "%load_ext autoreload\n",
    "%matplotlib inline\n",
    "%autoreload 2\n",
    "%load_ext rpy2.ipython"
   ]
  },
  {
   "cell_type": "markdown",
   "metadata": {},
   "source": [
    "downloading their data"
   ]
  },
  {
   "cell_type": "markdown",
   "metadata": {},
   "source": [
    "## downloading the data"
   ]
  },
  {
   "cell_type": "code",
   "execution_count": 2,
   "metadata": {},
   "outputs": [],
   "source": [
    "version=\"v1\"\n",
    "project=\"slamseq_YLK_MV411\"\n",
    "location= '../data/'+project+\"/\""
   ]
  },
  {
   "cell_type": "code",
   "execution_count": 3,
   "metadata": {},
   "outputs": [],
   "source": [
    "mkdir ../$location"
   ]
  },
  {
   "cell_type": "code",
   "execution_count": 5,
   "metadata": {},
   "outputs": [],
   "source": [
    "code = \"MP8439\""
   ]
  },
  {
   "cell_type": "code",
   "execution_count": 8,
   "metadata": {
    "scrolled": true
   },
   "outputs": [
    {
     "name": "stdout",
     "output_type": "stream",
     "text": [
      "gs://transfer-amlproject/201120_MP8439_fastq/._multiqc_report.html\r\n",
      "gs://transfer-amlproject/201120_MP8439_fastq/20201120_DMSO_A_MP8439_S131_R1_001.fastq.gz\r\n",
      "gs://transfer-amlproject/201120_MP8439_fastq/20201120_DMSO_A_MP8439_S131_R2_001.fastq.gz\r\n",
      "gs://transfer-amlproject/201120_MP8439_fastq/20201120_DMSO_B_MP8439_S132_R1_001.fastq.gz\r\n",
      "gs://transfer-amlproject/201120_MP8439_fastq/20201120_DMSO_B_MP8439_S132_R2_001.fastq.gz\r\n",
      "gs://transfer-amlproject/201120_MP8439_fastq/20201120_DMSO_C_MP8439_S133_R1_001.fastq.gz\r\n",
      "gs://transfer-amlproject/201120_MP8439_fastq/20201120_DMSO_C_MP8439_S133_R2_001.fastq.gz\r\n",
      "gs://transfer-amlproject/201120_MP8439_fastq/20201120_DMSO_D_MP8439_S134_R1_001.fastq.gz\r\n",
      "gs://transfer-amlproject/201120_MP8439_fastq/20201120_DMSO_D_MP8439_S134_R2_001.fastq.gz\r\n",
      "gs://transfer-amlproject/201120_MP8439_fastq/20201120_YKL_A_MP8439_S135_R1_001.fastq.gz\r\n",
      "gs://transfer-amlproject/201120_MP8439_fastq/20201120_YKL_A_MP8439_S135_R2_001.fastq.gz\r\n",
      "gs://transfer-amlproject/201120_MP8439_fastq/20201120_YKL_B_MP8439_S136_R1_001.fastq.gz\r\n",
      "gs://transfer-amlproject/201120_MP8439_fastq/20201120_YKL_B_MP8439_S136_R2_001.fastq.gz\r\n",
      "gs://transfer-amlproject/201120_MP8439_fastq/20201120_YKL_C_MP8439_S137_R1_001.fastq.gz\r\n",
      "gs://transfer-amlproject/201120_MP8439_fastq/20201120_YKL_C_MP8439_S137_R2_001.fastq.gz\r\n",
      "gs://transfer-amlproject/201120_MP8439_fastq/20201120_YKL_D_MP8439_S138_R1_001.fastq.gz\r\n",
      "gs://transfer-amlproject/201120_MP8439_fastq/20201120_YKL_D_MP8439_S138_R2_001.fastq.gz\r\n",
      "gs://transfer-amlproject/201120_MP8439_fastq/multiqc_report.html\r\n",
      "gs://transfer-amlproject/201120_MP8439_fastq/Reports/\r\n",
      "gs://transfer-amlproject/201120_MP8439_fastq/multiqc_data/\r\n"
     ]
    }
   ],
   "source": [
    "!gsutil ls gs://transfer-amlproject/201120_MP8439_fastq/"
   ]
  },
  {
   "cell_type": "code",
   "execution_count": 10,
   "metadata": {},
   "outputs": [],
   "source": [
    "! mkdir ../results/$project/"
   ]
  },
  {
   "cell_type": "code",
   "execution_count": 11,
   "metadata": {},
   "outputs": [
    {
     "name": "stdout",
     "output_type": "stream",
     "text": [
      "Copying gs://transfer-amlproject/201120_MP8439_fastq/multiqc_report.html...\n",
      "/ [1/1 files][  1.3 MiB/  1.3 MiB] 100% Done                                    \n",
      "Operation completed over 1 objects/1.3 MiB.                                      \n"
     ]
    }
   ],
   "source": [
    "! gsutil -m cp gs://transfer-amlproject/201120_MP8439_fastq/multiqc_report.html ../results/$project/"
   ]
  },
  {
   "cell_type": "markdown",
   "metadata": {},
   "source": [
    "## Running slamdunk"
   ]
  },
  {
   "cell_type": "code",
   "execution_count": 13,
   "metadata": {},
   "outputs": [
    {
     "data": {
      "text/plain": [
       "['gs://transfer-amlproject/slamseq_YLK_MV411/20201120_DMSO_A_MP8439_S131_R1_001.fastq.gz',\n",
       " 'gs://transfer-amlproject/slamseq_YLK_MV411/20201120_DMSO_A_MP8439_S131_R2_001.fastq.gz',\n",
       " 'gs://transfer-amlproject/slamseq_YLK_MV411/20201120_DMSO_B_MP8439_S132_R1_001.fastq.gz',\n",
       " 'gs://transfer-amlproject/slamseq_YLK_MV411/20201120_DMSO_B_MP8439_S132_R2_001.fastq.gz',\n",
       " 'gs://transfer-amlproject/slamseq_YLK_MV411/20201120_DMSO_C_MP8439_S133_R1_001.fastq.gz',\n",
       " 'gs://transfer-amlproject/slamseq_YLK_MV411/20201120_DMSO_C_MP8439_S133_R2_001.fastq.gz',\n",
       " 'gs://transfer-amlproject/slamseq_YLK_MV411/20201120_DMSO_D_MP8439_S134_R1_001.fastq.gz',\n",
       " 'gs://transfer-amlproject/slamseq_YLK_MV411/20201120_DMSO_D_MP8439_S134_R2_001.fastq.gz',\n",
       " 'gs://transfer-amlproject/slamseq_YLK_MV411/20201120_YKL_A_MP8439_S135_R1_001.fastq.gz',\n",
       " 'gs://transfer-amlproject/slamseq_YLK_MV411/20201120_YKL_A_MP8439_S135_R2_001.fastq.gz',\n",
       " 'gs://transfer-amlproject/slamseq_YLK_MV411/20201120_YKL_B_MP8439_S136_R1_001.fastq.gz',\n",
       " 'gs://transfer-amlproject/slamseq_YLK_MV411/20201120_YKL_B_MP8439_S136_R2_001.fastq.gz',\n",
       " 'gs://transfer-amlproject/slamseq_YLK_MV411/20201120_YKL_C_MP8439_S137_R1_001.fastq.gz',\n",
       " 'gs://transfer-amlproject/slamseq_YLK_MV411/20201120_YKL_C_MP8439_S137_R2_001.fastq.gz',\n",
       " 'gs://transfer-amlproject/slamseq_YLK_MV411/20201120_YKL_D_MP8439_S138_R1_001.fastq.gz',\n",
       " 'gs://transfer-amlproject/slamseq_YLK_MV411/20201120_YKL_D_MP8439_S138_R2_001.fastq.gz']"
      ]
     },
     "execution_count": 13,
     "metadata": {},
     "output_type": "execute_result"
    }
   ],
   "source": [
    "bams= ! gsutil ls gs://transfer-amlproject/$project/\n",
    "bams"
   ]
  },
  {
   "cell_type": "code",
   "execution_count": 12,
   "metadata": {},
   "outputs": [],
   "source": [
    "rename = {\n",
    "\"20201120_DMSO_A_MP8439_S131\": \"mr343-MV411-DMSO-r1\",\n",
    "\"20201120_DMSO_B_MP8439_S132\": \"mr344-MV411-DMSO-r2\",\n",
    "\"20201120_DMSO_C_MP8439_S133\": \"mr345-MV411-DMSO-r3\",\n",
    "\"20201120_DMSO_D_MP8439_S134\": \"mr346-MV411-DMSO-r4\",\n",
    "\"20201120_YKL_A_MP8439_S135\": \"mr347-MV411-YLK-r1\",\n",
    "\"20201120_YKL_B_MP8439_S136\": \"mr348-MV411-YLK-r2\",\n",
    "\"20201120_YKL_C_MP8439_S137\": \"mr349-MV411-YLK-r3\",\n",
    "\"20201120_YKL_D_MP8439_S138\": \"mr350-MV411-YLK-r4\",\n",
    "}"
   ]
  },
  {
   "cell_type": "code",
   "execution_count": 15,
   "metadata": {
    "scrolled": true
   },
   "outputs": [
    {
     "name": "stdout",
     "output_type": "stream",
     "text": [
      "Copying gs://transfer-amlproject/slamseq_YLK_MV411/20201120_DMSO_A_MP8439_S131_R1_001.fastq.gz [Content-Type=application/octet-stream]...\n",
      "Removing gs://transfer-amlproject/slamseq_YLK_MV411/20201120_DMSO_A_MP8439_S131_R1_001.fastq.gz...\n",
      "-\n",
      "Operation completed over 1 objects/3.0 GiB.                                      \n",
      "Copying gs://transfer-amlproject/slamseq_YLK_MV411/20201120_DMSO_A_MP8439_S131_R2_001.fastq.gz [Content-Type=application/octet-stream]...\n",
      "Removing gs://transfer-amlproject/slamseq_YLK_MV411/20201120_DMSO_A_MP8439_S131_R2_001.fastq.gz...\n",
      "\n",
      "Operation completed over 1 objects/3.0 GiB.                                      \n",
      "Copying gs://transfer-amlproject/slamseq_YLK_MV411/20201120_DMSO_B_MP8439_S132_R1_001.fastq.gz [Content-Type=application/octet-stream]...\n",
      "Removing gs://transfer-amlproject/slamseq_YLK_MV411/20201120_DMSO_B_MP8439_S132_R1_001.fastq.gz...\n",
      "\n",
      "Operation completed over 1 objects/3.9 GiB.                                      \n",
      "Copying gs://transfer-amlproject/slamseq_YLK_MV411/20201120_DMSO_B_MP8439_S132_R2_001.fastq.gz [Content-Type=application/octet-stream]...\n",
      "Removing gs://transfer-amlproject/slamseq_YLK_MV411/20201120_DMSO_B_MP8439_S132_R2_001.fastq.gz...\n",
      "\n",
      "Operation completed over 1 objects/3.9 GiB.                                      \n",
      "Copying gs://transfer-amlproject/slamseq_YLK_MV411/20201120_DMSO_C_MP8439_S133_R1_001.fastq.gz [Content-Type=application/octet-stream]...\n",
      "Removing gs://transfer-amlproject/slamseq_YLK_MV411/20201120_DMSO_C_MP8439_S133_R1_001.fastq.gz...\n",
      "\n",
      "Operation completed over 1 objects/3.5 GiB.                                      \n",
      "Copying gs://transfer-amlproject/slamseq_YLK_MV411/20201120_DMSO_C_MP8439_S133_R2_001.fastq.gz [Content-Type=application/octet-stream]...\n",
      "Removing gs://transfer-amlproject/slamseq_YLK_MV411/20201120_DMSO_C_MP8439_S133_R2_001.fastq.gz...\n",
      "\n",
      "Operation completed over 1 objects/3.5 GiB.                                      \n",
      "Copying gs://transfer-amlproject/slamseq_YLK_MV411/20201120_DMSO_D_MP8439_S134_R1_001.fastq.gz [Content-Type=application/octet-stream]...\n",
      "Removing gs://transfer-amlproject/slamseq_YLK_MV411/20201120_DMSO_D_MP8439_S134_R1_001.fastq.gz...\n",
      "\n",
      "Operation completed over 1 objects/3.1 GiB.                                      \n",
      "Copying gs://transfer-amlproject/slamseq_YLK_MV411/20201120_DMSO_D_MP8439_S134_R2_001.fastq.gz [Content-Type=application/octet-stream]...\n",
      "Removing gs://transfer-amlproject/slamseq_YLK_MV411/20201120_DMSO_D_MP8439_S134_R2_001.fastq.gz...\n",
      "\n",
      "Operation completed over 1 objects/3.1 GiB.                                      \n",
      "Copying gs://transfer-amlproject/slamseq_YLK_MV411/20201120_YKL_A_MP8439_S135_R1_001.fastq.gz [Content-Type=application/octet-stream]...\n",
      "Removing gs://transfer-amlproject/slamseq_YLK_MV411/20201120_YKL_A_MP8439_S135_R1_001.fastq.gz...\n",
      "\n",
      "Operation completed over 1 objects/1.7 GiB.                                      \n",
      "Copying gs://transfer-amlproject/slamseq_YLK_MV411/20201120_YKL_A_MP8439_S135_R2_001.fastq.gz [Content-Type=application/octet-stream]...\n",
      "Removing gs://transfer-amlproject/slamseq_YLK_MV411/20201120_YKL_A_MP8439_S135_R2_001.fastq.gz...\n",
      "\n",
      "Operation completed over 1 objects/1.7 GiB.                                      \n",
      "Copying gs://transfer-amlproject/slamseq_YLK_MV411/20201120_YKL_B_MP8439_S136_R1_001.fastq.gz [Content-Type=application/octet-stream]...\n",
      "Removing gs://transfer-amlproject/slamseq_YLK_MV411/20201120_YKL_B_MP8439_S136_R1_001.fastq.gz...\n",
      "\n",
      "Operation completed over 1 objects/2.5 GiB.                                      \n",
      "Copying gs://transfer-amlproject/slamseq_YLK_MV411/20201120_YKL_B_MP8439_S136_R2_001.fastq.gz [Content-Type=application/octet-stream]...\n",
      "Removing gs://transfer-amlproject/slamseq_YLK_MV411/20201120_YKL_B_MP8439_S136_R2_001.fastq.gz...\n",
      "\n",
      "Operation completed over 1 objects/2.5 GiB.                                      \n",
      "Copying gs://transfer-amlproject/slamseq_YLK_MV411/20201120_YKL_C_MP8439_S137_R1_001.fastq.gz [Content-Type=application/octet-stream]...\n",
      "Removing gs://transfer-amlproject/slamseq_YLK_MV411/20201120_YKL_C_MP8439_S137_R1_001.fastq.gz...\n",
      "\n",
      "Operation completed over 1 objects/2.1 GiB.                                      \n",
      "Copying gs://transfer-amlproject/slamseq_YLK_MV411/20201120_YKL_C_MP8439_S137_R2_001.fastq.gz [Content-Type=application/octet-stream]...\n",
      "Removing gs://transfer-amlproject/slamseq_YLK_MV411/20201120_YKL_C_MP8439_S137_R2_001.fastq.gz...\n",
      "\n",
      "Operation completed over 1 objects/2.1 GiB.                                      \n",
      "Copying gs://transfer-amlproject/slamseq_YLK_MV411/20201120_YKL_D_MP8439_S138_R1_001.fastq.gz [Content-Type=application/octet-stream]...\n",
      "Removing gs://transfer-amlproject/slamseq_YLK_MV411/20201120_YKL_D_MP8439_S138_R1_001.fastq.gz...\n",
      "\n",
      "Operation completed over 1 objects/3.2 GiB.                                      \n",
      "Copying gs://transfer-amlproject/slamseq_YLK_MV411/20201120_YKL_D_MP8439_S138_R2_001.fastq.gz [Content-Type=application/octet-stream]...\n",
      "Removing gs://transfer-amlproject/slamseq_YLK_MV411/20201120_YKL_D_MP8439_S138_R2_001.fastq.gz...\n",
      "\n",
      "Operation completed over 1 objects/3.3 GiB.                                      \n"
     ]
    }
   ],
   "source": [
    "for val in bams:\n",
    "    ren  = val\n",
    "    for old, new in rename.items():\n",
    "        ren = ren.replace(old, new)\n",
    "    if ren !=val:\n",
    "        ! gsutil mv $val $ren"
   ]
  },
  {
   "cell_type": "code",
   "execution_count": 16,
   "metadata": {},
   "outputs": [],
   "source": [
    "bams= ! gsutil ls gs://transfer-amlproject/$project/\n",
    "bams"
   ]
  },
  {
   "cell_type": "code",
   "execution_count": 29,
   "metadata": {},
   "outputs": [
    {
     "data": {
      "text/html": [
       "<div>\n",
       "<style scoped>\n",
       "    .dataframe tbody tr th:only-of-type {\n",
       "        vertical-align: middle;\n",
       "    }\n",
       "\n",
       "    .dataframe tbody tr th {\n",
       "        vertical-align: top;\n",
       "    }\n",
       "\n",
       "    .dataframe thead th {\n",
       "        text-align: right;\n",
       "    }\n",
       "</style>\n",
       "<table border=\"1\" class=\"dataframe\">\n",
       "  <thead>\n",
       "    <tr style=\"text-align: right;\">\n",
       "      <th></th>\n",
       "      <th>group</th>\n",
       "      <th>condition</th>\n",
       "      <th>control</th>\n",
       "      <th>reads1</th>\n",
       "      <th>reads2</th>\n",
       "      <th>name</th>\n",
       "    </tr>\n",
       "  </thead>\n",
       "  <tbody>\n",
       "    <tr>\n",
       "      <th>0</th>\n",
       "      <td>MV411</td>\n",
       "      <td>DMSO</td>\n",
       "      <td>1</td>\n",
       "      <td>gs://transfer-amlproject/slamseq_YLK_MV411/mr3...</td>\n",
       "      <td>gs://transfer-amlproject/slamseq_YLK_MV411/mr3...</td>\n",
       "      <td>mr343-MV411-DMSO</td>\n",
       "    </tr>\n",
       "    <tr>\n",
       "      <th>1</th>\n",
       "      <td>MV411</td>\n",
       "      <td>DMSO</td>\n",
       "      <td>1</td>\n",
       "      <td>gs://transfer-amlproject/slamseq_YLK_MV411/mr3...</td>\n",
       "      <td>gs://transfer-amlproject/slamseq_YLK_MV411/mr3...</td>\n",
       "      <td>mr344-MV411-DMSO</td>\n",
       "    </tr>\n",
       "    <tr>\n",
       "      <th>2</th>\n",
       "      <td>MV411</td>\n",
       "      <td>DMSO</td>\n",
       "      <td>1</td>\n",
       "      <td>gs://transfer-amlproject/slamseq_YLK_MV411/mr3...</td>\n",
       "      <td>gs://transfer-amlproject/slamseq_YLK_MV411/mr3...</td>\n",
       "      <td>mr345-MV411-DMSO</td>\n",
       "    </tr>\n",
       "    <tr>\n",
       "      <th>3</th>\n",
       "      <td>MV411</td>\n",
       "      <td>DMSO</td>\n",
       "      <td>1</td>\n",
       "      <td>gs://transfer-amlproject/slamseq_YLK_MV411/mr3...</td>\n",
       "      <td>gs://transfer-amlproject/slamseq_YLK_MV411/mr3...</td>\n",
       "      <td>mr346-MV411-DMSO</td>\n",
       "    </tr>\n",
       "    <tr>\n",
       "      <th>4</th>\n",
       "      <td>MV411</td>\n",
       "      <td>YLK</td>\n",
       "      <td>0</td>\n",
       "      <td>gs://transfer-amlproject/slamseq_YLK_MV411/mr3...</td>\n",
       "      <td>gs://transfer-amlproject/slamseq_YLK_MV411/mr3...</td>\n",
       "      <td>mr347-MV411-YLK</td>\n",
       "    </tr>\n",
       "    <tr>\n",
       "      <th>5</th>\n",
       "      <td>MV411</td>\n",
       "      <td>YLK</td>\n",
       "      <td>0</td>\n",
       "      <td>gs://transfer-amlproject/slamseq_YLK_MV411/mr3...</td>\n",
       "      <td>gs://transfer-amlproject/slamseq_YLK_MV411/mr3...</td>\n",
       "      <td>mr348-MV411-YLK</td>\n",
       "    </tr>\n",
       "    <tr>\n",
       "      <th>6</th>\n",
       "      <td>MV411</td>\n",
       "      <td>YLK</td>\n",
       "      <td>0</td>\n",
       "      <td>gs://transfer-amlproject/slamseq_YLK_MV411/mr3...</td>\n",
       "      <td>gs://transfer-amlproject/slamseq_YLK_MV411/mr3...</td>\n",
       "      <td>mr349-MV411-YLK</td>\n",
       "    </tr>\n",
       "    <tr>\n",
       "      <th>7</th>\n",
       "      <td>MV411</td>\n",
       "      <td>YLK</td>\n",
       "      <td>0</td>\n",
       "      <td>gs://transfer-amlproject/slamseq_YLK_MV411/mr3...</td>\n",
       "      <td>gs://transfer-amlproject/slamseq_YLK_MV411/mr3...</td>\n",
       "      <td>mr350-MV411-YLK</td>\n",
       "    </tr>\n",
       "  </tbody>\n",
       "</table>\n",
       "</div>"
      ],
      "text/plain": [
       "   group condition  control  \\\n",
       "0  MV411      DMSO        1   \n",
       "1  MV411      DMSO        1   \n",
       "2  MV411      DMSO        1   \n",
       "3  MV411      DMSO        1   \n",
       "4  MV411       YLK        0   \n",
       "5  MV411       YLK        0   \n",
       "6  MV411       YLK        0   \n",
       "7  MV411       YLK        0   \n",
       "\n",
       "                                              reads1  \\\n",
       "0  gs://transfer-amlproject/slamseq_YLK_MV411/mr3...   \n",
       "1  gs://transfer-amlproject/slamseq_YLK_MV411/mr3...   \n",
       "2  gs://transfer-amlproject/slamseq_YLK_MV411/mr3...   \n",
       "3  gs://transfer-amlproject/slamseq_YLK_MV411/mr3...   \n",
       "4  gs://transfer-amlproject/slamseq_YLK_MV411/mr3...   \n",
       "5  gs://transfer-amlproject/slamseq_YLK_MV411/mr3...   \n",
       "6  gs://transfer-amlproject/slamseq_YLK_MV411/mr3...   \n",
       "7  gs://transfer-amlproject/slamseq_YLK_MV411/mr3...   \n",
       "\n",
       "                                              reads2              name  \n",
       "0  gs://transfer-amlproject/slamseq_YLK_MV411/mr3...  mr343-MV411-DMSO  \n",
       "1  gs://transfer-amlproject/slamseq_YLK_MV411/mr3...  mr344-MV411-DMSO  \n",
       "2  gs://transfer-amlproject/slamseq_YLK_MV411/mr3...  mr345-MV411-DMSO  \n",
       "3  gs://transfer-amlproject/slamseq_YLK_MV411/mr3...  mr346-MV411-DMSO  \n",
       "4  gs://transfer-amlproject/slamseq_YLK_MV411/mr3...   mr347-MV411-YLK  \n",
       "5  gs://transfer-amlproject/slamseq_YLK_MV411/mr3...   mr348-MV411-YLK  \n",
       "6  gs://transfer-amlproject/slamseq_YLK_MV411/mr3...   mr349-MV411-YLK  \n",
       "7  gs://transfer-amlproject/slamseq_YLK_MV411/mr3...   mr350-MV411-YLK  "
      ]
     },
     "execution_count": 29,
     "metadata": {},
     "output_type": "execute_result"
    }
   ],
   "source": [
    "df = []\n",
    "for val1, val2 in h.grouped(bams,2):\n",
    "    df.append(['MV411', val1.split('/')[-1].split('-')[2], 1 if val1.split('/')[-1].split('-')[2]=='DMSO' else 0, val1, val2, '-'.join(val1.split('/')[-1].split('-')[:3])])\n",
    "df = pd.DataFrame(data=df, columns=['group','condition', 'control', 'reads1','reads2', 'name'])\n",
    "df.to_csv('../nextflow/'+project+'.csv', index=None)\n",
    "df"
   ]
  },
  {
   "cell_type": "code",
   "execution_count": 30,
   "metadata": {},
   "outputs": [
    {
     "name": "stdout",
     "output_type": "stream",
     "text": [
      "Copying gs://transfer-amlproject/slamseq_YLK_MV411/mr343-MV411-DMSO-r1_R1_001.fastq.gz...\n",
      "Copying gs://transfer-amlproject/slamseq_YLK_MV411/mr343-MV411-DMSO-r1_R2_001.fastq.gz...\n",
      "Copying gs://transfer-amlproject/slamseq_YLK_MV411/mr344-MV411-DMSO-r2_R1_001.fastq.gz...\n",
      "Copying gs://transfer-amlproject/slamseq_YLK_MV411/mr344-MV411-DMSO-r2_R2_001.fastq.gz...\n",
      "Copying gs://transfer-amlproject/slamseq_YLK_MV411/mr345-MV411-DMSO-r3_R1_001.fastq.gz...\n",
      "Copying gs://transfer-amlproject/slamseq_YLK_MV411/mr345-MV411-DMSO-r3_R2_001.fastq.gz...\n",
      "Copying gs://transfer-amlproject/slamseq_YLK_MV411/mr346-MV411-DMSO-r4_R1_001.fastq.gz...\n",
      "Copying gs://transfer-amlproject/slamseq_YLK_MV411/mr346-MV411-DMSO-r4_R2_001.fastq.gz...\n",
      "Copying gs://transfer-amlproject/slamseq_YLK_MV411/mr347-MV411-YLK-r1_R1_001.fastq.gz...\n",
      "Copying gs://transfer-amlproject/slamseq_YLK_MV411/mr347-MV411-YLK-r1_R2_001.fastq.gz...\n",
      "Copying gs://transfer-amlproject/slamseq_YLK_MV411/mr348-MV411-YLK-r2_R1_001.fastq.gz...\n",
      "Copying gs://transfer-amlproject/slamseq_YLK_MV411/mr348-MV411-YLK-r2_R2_001.fastq.gz...\n",
      "Copying gs://transfer-amlproject/slamseq_YLK_MV411/mr349-MV411-YLK-r3_R1_001.fastq.gz...\n",
      "Copying gs://transfer-amlproject/slamseq_YLK_MV411/mr349-MV411-YLK-r3_R2_001.fastq.gz...\n",
      "Copying gs://transfer-amlproject/slamseq_YLK_MV411/mr350-MV411-YLK-r4_R1_001.fastq.gz...\n",
      "Copying gs://transfer-amlproject/slamseq_YLK_MV411/mr350-MV411-YLK-r4_R2_001.fastq.gz...\n",
      "/ [16/16 files][ 45.8 GiB/ 45.8 GiB] 100% Done  52.8 MiB/s ETA 00:00:00         \n",
      "Operation completed over 16 objects/45.8 GiB.                                    \n"
     ]
    }
   ],
   "source": [
    "! gsutil -m cp gs://transfer-amlproject/$project/*.fastq.gz ../../data/$project/fastqs"
   ]
  },
  {
   "cell_type": "code",
   "execution_count": null,
   "metadata": {},
   "outputs": [],
   "source": [
    "! export NXF_VER=19.10.0 && export GOOGLE_APPLICATION_CREDENTIALS=aml-chipseq-rnaseq-9dcbe47182cf.json && export NXF_MODE=google && cd ../.. && ./nextflow run jkobject/slamseq --input AMLproject/nextflow/slamseq_YLK_MV411.csv -profile jkcloud --genome GRCh38_spike -w gs://workamlproject/slamseqwork --read_length 120 --outdir gs://workamlproject/slamseq_ylk --tracedir AMLproject/nextflow/slamseq_ylk/ --spiking -resume distraught_gates"
   ]
  },
  {
   "cell_type": "code",
   "execution_count": 31,
   "metadata": {
    "scrolled": true
   },
   "outputs": [
    {
     "name": "stdout",
     "output_type": "stream",
     "text": [
      "Collecting git+https://github.com/jkobject/slamdunk.git\n",
      "  Cloning https://github.com/jkobject/slamdunk.git to /tmp/pip-req-build-m0ncaac0\n",
      "Requirement already satisfied, skipping upgrade: joblib>=0.9.4 in /home/jeremie/.local/lib/python3.8/site-packages (from slamdunk==0.4.0) (0.14.1)\n",
      "Requirement already satisfied, skipping upgrade: pybedtools>=0.6.4 in /home/jeremie/.local/lib/python3.8/site-packages (from slamdunk==0.4.0) (0.8.1)\n",
      "Requirement already satisfied, skipping upgrade: intervaltree>=2.1.0 in /home/jeremie/.local/lib/python3.8/site-packages (from slamdunk==0.4.0) (3.0.2)\n",
      "Requirement already satisfied, skipping upgrade: pandas>=0.13.1 in /home/jeremie/.local/lib/python3.8/site-packages (from slamdunk==0.4.0) (1.0.3)\n",
      "Requirement already satisfied, skipping upgrade: biopython>=1.63 in /home/jeremie/.local/lib/python3.8/site-packages (from slamdunk==0.4.0) (1.77)\n",
      "Requirement already satisfied, skipping upgrade: pysam>=0.8.3 in /home/jeremie/.local/lib/python3.8/site-packages (from slamdunk==0.4.0) (0.15.4)\n",
      "Requirement already satisfied, skipping upgrade: Cython>=0.20.1 in /home/jeremie/.local/lib/python3.8/site-packages (from slamdunk==0.4.0) (0.29.17)\n",
      "Requirement already satisfied, skipping upgrade: six in /home/jeremie/.local/lib/python3.8/site-packages (from pybedtools>=0.6.4->slamdunk==0.4.0) (1.14.0)\n",
      "Requirement already satisfied, skipping upgrade: sortedcontainers<3.0,>=2.0 in /home/jeremie/.local/lib/python3.8/site-packages (from intervaltree>=2.1.0->slamdunk==0.4.0) (2.2.2)\n",
      "Requirement already satisfied, skipping upgrade: numpy>=1.13.3 in /home/jeremie/.local/lib/python3.8/site-packages (from pandas>=0.13.1->slamdunk==0.4.0) (1.18.4)\n",
      "Requirement already satisfied, skipping upgrade: pytz>=2017.2 in /home/jeremie/.local/lib/python3.8/site-packages (from pandas>=0.13.1->slamdunk==0.4.0) (2020.1)\n",
      "Requirement already satisfied, skipping upgrade: python-dateutil>=2.6.1 in /home/jeremie/.local/lib/python3.8/site-packages (from pandas>=0.13.1->slamdunk==0.4.0) (2.8.1)\n",
      "Building wheels for collected packages: slamdunk\n",
      "  Running setup.py bdist_wheel for slamdunk ... \u001b[?25ldone\n",
      "\u001b[?25h  Stored in directory: /tmp/pip-ephem-wheel-cache-icke8ysf/wheels/4c/b2/9c/e1153807b1571f6f12ee9761dcf5229ceee161c5c575b631fd\n",
      "Successfully built slamdunk\n",
      "Installing collected packages: slamdunk\n",
      "  Found existing installation: slamdunk 0.4.0\n",
      "    Uninstalling slamdunk-0.4.0:\n",
      "      Successfully uninstalled slamdunk-0.4.0\n",
      "Successfully installed slamdunk-0.4.0\n"
     ]
    }
   ],
   "source": [
    "! pip3 install git+https://github.com/jkobject/slamdunk.git --upgrade\n",
    "# please also install trimgalore and cutadapt"
   ]
  },
  {
   "cell_type": "code",
   "execution_count": 41,
   "metadata": {},
   "outputs": [
    {
     "data": {
      "text/plain": [
       "['../../data/slamseq_YLK_MV411/mr343-MV411-DMSO-r1_R1_001.fastq.gz',\n",
       " '../../data/slamseq_YLK_MV411/mr343-MV411-DMSO-r1_R2_001.fastq.gz',\n",
       " '../../data/slamseq_YLK_MV411/mr344-MV411-DMSO-r2_R1_001.fastq.gz',\n",
       " '../../data/slamseq_YLK_MV411/mr344-MV411-DMSO-r2_R2_001.fastq.gz',\n",
       " '../../data/slamseq_YLK_MV411/mr345-MV411-DMSO-r3_R1_001.fastq.gz',\n",
       " '../../data/slamseq_YLK_MV411/mr345-MV411-DMSO-r3_R2_001.fastq.gz',\n",
       " '../../data/slamseq_YLK_MV411/mr346-MV411-DMSO-r4_R1_001.fastq.gz',\n",
       " '../../data/slamseq_YLK_MV411/mr346-MV411-DMSO-r4_R2_001.fastq.gz',\n",
       " '../../data/slamseq_YLK_MV411/mr347-MV411-YLK-r1_R1_001.fastq.gz',\n",
       " '../../data/slamseq_YLK_MV411/mr347-MV411-YLK-r1_R2_001.fastq.gz',\n",
       " '../../data/slamseq_YLK_MV411/mr348-MV411-YLK-r2_R1_001.fastq.gz',\n",
       " '../../data/slamseq_YLK_MV411/mr348-MV411-YLK-r2_R2_001.fastq.gz',\n",
       " '../../data/slamseq_YLK_MV411/mr349-MV411-YLK-r3_R1_001.fastq.gz',\n",
       " '../../data/slamseq_YLK_MV411/mr349-MV411-YLK-r3_R2_001.fastq.gz',\n",
       " '../../data/slamseq_YLK_MV411/mr350-MV411-YLK-r4_R1_001.fastq.gz',\n",
       " '../../data/slamseq_YLK_MV411/mr350-MV411-YLK-r4_R2_001.fastq.gz']"
      ]
     },
     "execution_count": 41,
     "metadata": {},
     "output_type": "execute_result"
    }
   ],
   "source": [
    "folder_bams = \"../../data/\"+project+\"/fastqs/\"\n",
    "bams = ! ls ../../data/$project/*.fastq.gz\n",
    "bams"
   ]
  },
  {
   "cell_type": "code",
   "execution_count": 42,
   "metadata": {},
   "outputs": [],
   "source": [
    "h.parrun(['../../TrimGalore-0.6.5/trim_galore --paired --cores 14 --retain_unpaired -stringency 3 --illumina '+val1+ ' '+val2+' -o '+folder_bams for val1,val2 in h.grouped(bams,2)],2)"
   ]
  },
  {
   "cell_type": "code",
   "execution_count": null,
   "metadata": {},
   "outputs": [],
   "source": [
    "rm ../../data/$project/*.fastq.gz"
   ]
  },
  {
   "cell_type": "code",
   "execution_count": 44,
   "metadata": {},
   "outputs": [],
   "source": [
    "# using an ERCC ref genome (you can just append ERCC fasta to the hg38 fasta)\n",
    "refgenome=\"../../data/ref/Homo_sapiens_assembly38_ERCC92.fasta\""
   ]
  },
  {
   "cell_type": "code",
   "execution_count": 46,
   "metadata": {},
   "outputs": [
    {
     "data": {
      "text/plain": [
       "['../../data/slamseq_YLK_MV411/fastqs//mr343-MV411-DMSO-r1_R1_001_val_1.fq.gz',\n",
       " '../../data/slamseq_YLK_MV411/fastqs//mr343-MV411-DMSO-r1_R2_001_val_2.fq.gz',\n",
       " '../../data/slamseq_YLK_MV411/fastqs//mr344-MV411-DMSO-r2_R1_001_val_1.fq.gz',\n",
       " '../../data/slamseq_YLK_MV411/fastqs//mr344-MV411-DMSO-r2_R2_001_val_2.fq.gz',\n",
       " '../../data/slamseq_YLK_MV411/fastqs//mr345-MV411-DMSO-r3_R1_001_val_1.fq.gz',\n",
       " '../../data/slamseq_YLK_MV411/fastqs//mr345-MV411-DMSO-r3_R2_001_val_2.fq.gz',\n",
       " '../../data/slamseq_YLK_MV411/fastqs//mr346-MV411-DMSO-r4_R1_001_val_1.fq.gz',\n",
       " '../../data/slamseq_YLK_MV411/fastqs//mr346-MV411-DMSO-r4_R2_001_val_2.fq.gz',\n",
       " '../../data/slamseq_YLK_MV411/fastqs//mr347-MV411-YLK-r1_R1_001_val_1.fq.gz',\n",
       " '../../data/slamseq_YLK_MV411/fastqs//mr347-MV411-YLK-r1_R2_001_val_2.fq.gz',\n",
       " '../../data/slamseq_YLK_MV411/fastqs//mr348-MV411-YLK-r2_R1_001_val_1.fq.gz',\n",
       " '../../data/slamseq_YLK_MV411/fastqs//mr348-MV411-YLK-r2_R2_001_val_2.fq.gz',\n",
       " '../../data/slamseq_YLK_MV411/fastqs//mr349-MV411-YLK-r3_R1_001_val_1.fq.gz',\n",
       " '../../data/slamseq_YLK_MV411/fastqs//mr349-MV411-YLK-r3_R2_001_val_2.fq.gz',\n",
       " '../../data/slamseq_YLK_MV411/fastqs//mr350-MV411-YLK-r4_R1_001_val_1.fq.gz',\n",
       " '../../data/slamseq_YLK_MV411/fastqs//mr350-MV411-YLK-r4_R2_001_val_2.fq.gz']"
      ]
     },
     "execution_count": 46,
     "metadata": {},
     "output_type": "execute_result"
    }
   ],
   "source": [
    "bams = ! ls $folder_bams/*_val*.fq.gz\n",
    "bams"
   ]
  },
  {
   "cell_type": "code",
   "execution_count": 48,
   "metadata": {},
   "outputs": [],
   "source": [
    "# we are doing it paired end\n",
    "h.parrun(['slamdunk all -r '+refgenome+' -b ../data/Muhar_Slamseq/GSE100708_hg38_refseq_062016_ensemblv84_3UTR.bed \\\n",
    "    -o ../../data/'+project+'/res/ -t 14 -c 2 -N '+val1.split('/')[-1].split('_R')[0]+' '+val1+\" \"+val2 for val1,val2 in h.grouped(bams,2)], 2)"
   ]
  },
  {
   "cell_type": "markdown",
   "metadata": {},
   "source": [
    "## we first need to recreate out RNA matrix from slamdunk's tcount files"
   ]
  },
  {
   "cell_type": "markdown",
   "metadata": {},
   "source": [
    "### Getting counts over ERCC genome"
   ]
  },
  {
   "cell_type": "code",
   "execution_count": 51,
   "metadata": {},
   "outputs": [
    {
     "data": {
      "text/plain": [
       "['mr343-MV411-DMSO-r1_filtered.bam',\n",
       " 'mr344-MV411-DMSO-r2_filtered.bam',\n",
       " 'mr345-MV411-DMSO-r3_filtered.bam',\n",
       " 'mr346-MV411-DMSO-r4_filtered.bam',\n",
       " 'mr347-MV411-YLK-r1_filtered.bam',\n",
       " 'mr348-MV411-YLK-r2_filtered.bam',\n",
       " 'mr349-MV411-YLK-r3_filtered.bam',\n",
       " 'mr350-MV411-YLK-r4_filtered.bam']"
      ]
     },
     "execution_count": 51,
     "metadata": {},
     "output_type": "execute_result"
    }
   ],
   "source": [
    "counts = {}\n",
    "folder = \"../../data/\"+project+\"/res/filter\"\n",
    "files = ! ls $folder/*\n",
    "files = [file.split('/')[-1] for file in files if file.endswith(\".bam\")]\n",
    "files"
   ]
  },
  {
   "cell_type": "code",
   "execution_count": null,
   "metadata": {},
   "outputs": [],
   "source": [
    "ERCC = [\"ERCC-00002\", \"ERCC-00003\", \"ERCC-00004\", \"ERCC-00009\", \"ERCC-00012\", \"ERCC-00013\", \"ERCC-00014\", \"ERCC-00016\", \"ERCC-00017\", \"ERCC-00019\", \"ERCC-00022\", \"ERCC-00024\", \"ERCC-00025\", \"ERCC-00028\", \"ERCC-00031\", \"ERCC-00033\", \"ERCC-00034\", \"ERCC-00035\", \"ERCC-00039\", \"ERCC-00040\", \"ERCC-00041\", \"ERCC-00042\", \"ERCC-00043\", \"ERCC-00044\", \"ERCC-00046\", \"ERCC-00048\", \"ERCC-00051\", \"ERCC-00053\", \"ERCC-00054\", \"ERCC-00057\", \"ERCC-00058\", \"ERCC-00059\", \"ERCC-00060\", \"ERCC-00061\", \"ERCC-00062\", \"ERCC-00067\", \"ERCC-00069\", \"ERCC-00071\", \"ERCC-00073\", \"ERCC-00074\", \"ERCC-00075\", \"ERCC-00076\", \"ERCC-00077\", \"ERCC-00078\", \"ERCC-00079\", \"ERCC-00081\", \"ERCC-00083\", \"ERCC-00084\", \"ERCC-00085\", \"ERCC-00086\", \"ERCC-00092\", \"ERCC-00095\", \"ERCC-00096\", \"ERCC-00097\", \"ERCC-00098\", \"ERCC-00099\", \"ERCC-00104\", \"ERCC-00108\", \"ERCC-00109\", \"ERCC-00111\", \"ERCC-00112\", \"ERCC-00113\", \"ERCC-00116\", \"ERCC-00117\", \"ERCC-00120\", \"ERCC-00123\", \"ERCC-00126\", \"ERCC-00130\", \"ERCC-00131\", \"ERCC-00134\", \"ERCC-00136\", \"ERCC-00137\", \"ERCC-00138\", \"ERCC-00142\", \"ERCC-00143\", \"ERCC-00144\", \"ERCC-00145\", \"ERCC-00147\", \"ERCC-00148\", \"ERCC-00150\", \"ERCC-00154\", \"ERCC-00156\", \"ERCC-00157\", \"ERCC-00158\", \"ERCC-00160\", \"ERCC-00162\", \"ERCC-00163\", \"ERCC-00164\", \"ERCC-00165\", \"ERCC-00168\", \"ERCC-00170\", \"ERCC-00171\"]"
   ]
  },
  {
   "cell_type": "code",
   "execution_count": 52,
   "metadata": {},
   "outputs": [],
   "source": [
    "h.parrun([\"samtools view -hb \"+folder+\"/\"+f+\" \"+h.list_to_str(ERCC)+\" > \"+folder+\"/ERCC_\"+f for f in files],cores=10)"
   ]
  },
  {
   "cell_type": "code",
   "execution_count": 54,
   "metadata": {},
   "outputs": [],
   "source": [
    "h.parrun([\"bedtools genomecov -ibam \"+folder+\"/ERCC_\"+f+\" > \"+folder+\"/ERCC_\"+f+\".bed\" for f in files],cores=10)"
   ]
  },
  {
   "cell_type": "code",
   "execution_count": 56,
   "metadata": {},
   "outputs": [],
   "source": [
    "res  = {i:[] for i in files}\n",
    "for val in files:\n",
    "    cov = pd.read_csv(folder+\"/ERCC_\"+val+'.bed',sep=\"\\t\",header=None)\n",
    "    for i in ERCC:\n",
    "        res[val].append(cov[cov[0]==i][1].mean())\n",
    "df = pd.DataFrame(data=res,index=ERCC)"
   ]
  },
  {
   "cell_type": "code",
   "execution_count": 61,
   "metadata": {},
   "outputs": [
    {
     "data": {
      "text/plain": [
       "['89801221',\n",
       " '117227621',\n",
       " '105518865',\n",
       " '92347475',\n",
       " '48886271',\n",
       " '73119689',\n",
       " '61789625',\n",
       " '95835625']"
      ]
     },
     "execution_count": 61,
     "metadata": {},
     "output_type": "execute_result"
    }
   ],
   "source": [
    "cmd = \"for unkn in $(ls ../../data/\"+project+\"/res/filter/mr*.bam); do samtools view -c -F 260 $unkn; done\"\n",
    "totalcounts = ! $cmd\n",
    "totalcounts = [int(i) for i in totalcounts]\n",
    "totalcounts"
   ]
  },
  {
   "cell_type": "code",
   "execution_count": 124,
   "metadata": {},
   "outputs": [
    {
     "name": "stdout",
     "output_type": "stream",
     "text": [
      "../../data/slamseq_YLK_MV411/res/filter/mr343-MV411-DMSO-r1_filtered.bam\r\n",
      "../../data/slamseq_YLK_MV411/res/filter/mr344-MV411-DMSO-r2_filtered.bam\r\n",
      "../../data/slamseq_YLK_MV411/res/filter/mr345-MV411-DMSO-r3_filtered.bam\r\n",
      "../../data/slamseq_YLK_MV411/res/filter/mr346-MV411-DMSO-r4_filtered.bam\r\n",
      "../../data/slamseq_YLK_MV411/res/filter/mr347-MV411-YLK-r1_filtered.bam\r\n",
      "../../data/slamseq_YLK_MV411/res/filter/mr348-MV411-YLK-r2_filtered.bam\r\n",
      "../../data/slamseq_YLK_MV411/res/filter/mr349-MV411-YLK-r3_filtered.bam\r\n",
      "../../data/slamseq_YLK_MV411/res/filter/mr350-MV411-YLK-r4_filtered.bam\r\n"
     ]
    }
   ],
   "source": [
    "ls ../../data/$project/res/filter/mr*.bam"
   ]
  },
  {
   "cell_type": "markdown",
   "metadata": {},
   "source": [
    "## Saving the data in our bucket"
   ]
  },
  {
   "cell_type": "code",
   "execution_count": 63,
   "metadata": {},
   "outputs": [
    {
     "name": "stdout",
     "output_type": "stream",
     "text": [
      "Copying file://../../data/slamseq_YLK_MV411/fastqs/mr343-MV411-DMSO-r1_R1_001_val_1.fq.gz [Content-Type=application/octet-stream]...\n",
      "Copying file://../../data/slamseq_YLK_MV411/fastqs/mr343-MV411-DMSO-r1_R1_001.fastq.gz_trimming_report.txt [Content-Type=text/plain]...\n",
      "Copying file://../../data/slamseq_YLK_MV411/fastqs/mr343-MV411-DMSO-r1_R1_001_unpaired_1.fq.gz [Content-Type=application/octet-stream]...\n",
      "==> NOTE: You are uploading one or more large file(s), which would run\n",
      "significantly faster if you enable parallel composite uploads. This\n",
      "feature can be enabled by editing the\n",
      "\"parallel_composite_upload_threshold\" value in your .boto\n",
      "configuration file. However, note that if you do this large files will\n",
      "be uploaded as `composite objects\n",
      "<https://cloud.google.com/storage/docs/composite-objects>`_,which\n",
      "means that any user who downloads such objects will need to have a\n",
      "compiled crcmod installed (see \"gsutil help crcmod\"). This is because\n",
      "without a compiled crcmod, computing checksums on composite objects is\n",
      "so slow that gsutil disables downloads of composite objects.\n",
      "\n",
      "Copying file://../../data/slamseq_YLK_MV411/fastqs/mr343-MV411-DMSO-r1_R2_001_unpaired_2.fq.gz [Content-Type=application/octet-stream]...\n",
      "Copying file://../../data/slamseq_YLK_MV411/fastqs/mr343-MV411-DMSO-r1_R2_001.fastq.gz_trimming_report.txt [Content-Type=text/plain]...\n",
      "Copying file://../../data/slamseq_YLK_MV411/fastqs/mr343-MV411-DMSO-r1_R2_001_val_2.fq.gz [Content-Type=application/octet-stream]...\n",
      "Copying file://../../data/slamseq_YLK_MV411/fastqs/mr344-MV411-DMSO-r2_R1_001.fastq.gz_trimming_report.txt [Content-Type=text/plain]...\n",
      "Copying file://../../data/slamseq_YLK_MV411/fastqs/mr344-MV411-DMSO-r2_R1_001_unpaired_1.fq.gz [Content-Type=application/octet-stream]...\n",
      "Copying file://../../data/slamseq_YLK_MV411/fastqs/mr344-MV411-DMSO-r2_R1_001_val_1.fq.gz [Content-Type=application/octet-stream]...\n",
      "Copying file://../../data/slamseq_YLK_MV411/fastqs/mr344-MV411-DMSO-r2_R2_001.fastq.gz_trimming_report.txt [Content-Type=text/plain]...\n",
      "Copying file://../../data/slamseq_YLK_MV411/fastqs/mr344-MV411-DMSO-r2_R2_001_unpaired_2.fq.gz [Content-Type=application/octet-stream]...\n",
      "Copying file://../../data/slamseq_YLK_MV411/fastqs/mr345-MV411-DMSO-r3_R1_001_unpaired_1.fq.gz [Content-Type=application/octet-stream]...\n",
      "Copying file://../../data/slamseq_YLK_MV411/fastqs/mr345-MV411-DMSO-r3_R1_001_val_1.fq.gz [Content-Type=application/octet-stream]...\n",
      "Copying file://../../data/slamseq_YLK_MV411/fastqs/mr344-MV411-DMSO-r2_R2_001_val_2.fq.gz [Content-Type=application/octet-stream]...\n",
      "Copying file://../../data/slamseq_YLK_MV411/fastqs/mr345-MV411-DMSO-r3_R1_001.fastq.gz_trimming_report.txt [Content-Type=text/plain]...\n",
      "Copying file://../../data/slamseq_YLK_MV411/fastqs/mr345-MV411-DMSO-r3_R2_001.fastq.gz_trimming_report.txt [Content-Type=text/plain]...\n",
      "Copying file://../../data/slamseq_YLK_MV411/fastqs/mr346-MV411-DMSO-r4_R2_001.fastq.gz_trimming_report.txt [Content-Type=text/plain]...\n",
      "Copying file://../../data/slamseq_YLK_MV411/fastqs/mr346-MV411-DMSO-r4_R1_001_unpaired_1.fq.gz [Content-Type=application/octet-stream]...\n",
      "Copying file://../../data/slamseq_YLK_MV411/fastqs/mr346-MV411-DMSO-r4_R2_001_val_2.fq.gz [Content-Type=application/octet-stream]...\n",
      "Copying file://../../data/slamseq_YLK_MV411/fastqs/mr345-MV411-DMSO-r3_R2_001_unpaired_2.fq.gz [Content-Type=application/octet-stream]...\n",
      "Copying file://../../data/slamseq_YLK_MV411/fastqs/mr347-MV411-YLK-r1_R1_001_unpaired_1.fq.gz [Content-Type=application/octet-stream]...\n",
      "Copying file://../../data/slamseq_YLK_MV411/fastqs/mr345-MV411-DMSO-r3_R2_001_val_2.fq.gz [Content-Type=application/octet-stream]...\n",
      "Copying file://../../data/slamseq_YLK_MV411/fastqs/mr346-MV411-DMSO-r4_R1_001.fastq.gz_trimming_report.txt [Content-Type=text/plain]...\n",
      "Copying file://../../data/slamseq_YLK_MV411/fastqs/mr347-MV411-YLK-r1_R2_001.fastq.gz_trimming_report.txt [Content-Type=text/plain]...\n",
      "Copying file://../../data/slamseq_YLK_MV411/fastqs/mr346-MV411-DMSO-r4_R1_001_val_1.fq.gz [Content-Type=application/octet-stream]...\n",
      "Copying file://../../data/slamseq_YLK_MV411/fastqs/mr347-MV411-YLK-r1_R1_001.fastq.gz_trimming_report.txt [Content-Type=text/plain]...\n",
      "Copying file://../../data/slamseq_YLK_MV411/fastqs/mr346-MV411-DMSO-r4_R2_001_unpaired_2.fq.gz [Content-Type=application/octet-stream]...\n",
      "Copying file://../../data/slamseq_YLK_MV411/fastqs/mr347-MV411-YLK-r1_R2_001_unpaired_2.fq.gz [Content-Type=application/octet-stream]...\n",
      "Copying file://../../data/slamseq_YLK_MV411/fastqs/mr347-MV411-YLK-r1_R1_001_val_1.fq.gz [Content-Type=application/octet-stream]...\n",
      "Copying file://../../data/slamseq_YLK_MV411/fastqs/mr347-MV411-YLK-r1_R2_001_val_2.fq.gz [Content-Type=application/octet-stream]...\n",
      "Copying file://../../data/slamseq_YLK_MV411/fastqs/mr348-MV411-YLK-r2_R1_001.fastq.gz_trimming_report.txt [Content-Type=text/plain]...\n",
      "Copying file://../../data/slamseq_YLK_MV411/fastqs/mr348-MV411-YLK-r2_R1_001_unpaired_1.fq.gz [Content-Type=application/octet-stream]...\n",
      "Copying file://../../data/slamseq_YLK_MV411/fastqs/mr348-MV411-YLK-r2_R1_001_val_1.fq.gz [Content-Type=application/octet-stream]...\n",
      "Copying file://../../data/slamseq_YLK_MV411/fastqs/mr350-MV411-YLK-r4_R2_001.fastq.gz_trimming_report.txt [Content-Type=text/plain]...\n",
      "Copying file://../../data/slamseq_YLK_MV411/fastqs/mr349-MV411-YLK-r3_R2_001.fastq.gz_trimming_report.txt [Content-Type=text/plain]...\n",
      "Copying file://../../data/slamseq_YLK_MV411/fastqs/mr348-MV411-YLK-r2_R2_001.fastq.gz_trimming_report.txt [Content-Type=text/plain]...\n",
      "Copying file://../../data/slamseq_YLK_MV411/fastqs/mr348-MV411-YLK-r2_R2_001_unpaired_2.fq.gz [Content-Type=application/octet-stream]...\n",
      "Copying file://../../data/slamseq_YLK_MV411/fastqs/mr349-MV411-YLK-r3_R1_001_unpaired_1.fq.gz [Content-Type=application/octet-stream]...\n",
      "Copying file://../../data/slamseq_YLK_MV411/fastqs/mr349-MV411-YLK-r3_R1_001_val_1.fq.gz [Content-Type=application/octet-stream]...\n",
      "Copying file://../../data/slamseq_YLK_MV411/fastqs/mr350-MV411-YLK-r4_R2_001_val_2.fq.gz [Content-Type=application/octet-stream]...\n",
      "Copying file://../../data/slamseq_YLK_MV411/fastqs/mr350-MV411-YLK-r4_R2_001_unpaired_2.fq.gz [Content-Type=application/octet-stream]...\n",
      "Copying file://../../data/slamseq_YLK_MV411/fastqs/mr349-MV411-YLK-r3_R1_001.fastq.gz_trimming_report.txt [Content-Type=text/plain]...\n",
      "Copying file://../../data/slamseq_YLK_MV411/fastqs/mr348-MV411-YLK-r2_R2_001_val_2.fq.gz [Content-Type=application/octet-stream]...\n",
      "Copying file://../../data/slamseq_YLK_MV411/fastqs/mr350-MV411-YLK-r4_R1_001.fastq.gz_trimming_report.txt [Content-Type=text/plain]...\n",
      "Copying file://../../data/slamseq_YLK_MV411/fastqs/mr349-MV411-YLK-r3_R2_001_val_2.fq.gz [Content-Type=application/octet-stream]...\n",
      "Copying file://../../data/slamseq_YLK_MV411/fastqs/mr349-MV411-YLK-r3_R2_001_unpaired_2.fq.gz [Content-Type=application/octet-stream]...\n",
      "Copying file://../../data/slamseq_YLK_MV411/fastqs/mr350-MV411-YLK-r4_R1_001_unpaired_1.fq.gz [Content-Type=application/octet-stream]...\n",
      "Copying file://../../data/slamseq_YLK_MV411/fastqs/mr350-MV411-YLK-r4_R1_001_val_1.fq.gz [Content-Type=application/octet-stream]...\n",
      "/ [48/48 files][ 40.2 GiB/ 40.2 GiB] 100% Done  41.4 MiB/s ETA 00:00:00         \n",
      "Operation completed over 48 objects/40.2 GiB.                                    \n",
      "Copying file://../../data/slamseq_YLK_MV411/res/map/mr343-MV411-DMSO-r1_slamdunk_mapped.bam [Content-Type=application/octet-stream]...\n",
      "Copying file://../../data/slamseq_YLK_MV411/res/map/mr344-MV411-DMSO-r2_slamdunk_mapped.bam [Content-Type=application/octet-stream]...\n",
      "==> NOTE: You are uploading one or more large file(s), which would run\n",
      "significantly faster if you enable parallel composite uploads. This\n",
      "feature can be enabled by editing the\n",
      "\"parallel_composite_upload_threshold\" value in your .boto\n",
      "configuration file. However, note that if you do this large files will\n",
      "be uploaded as `composite objects\n",
      "<https://cloud.google.com/storage/docs/composite-objects>`_,which\n",
      "means that any user who downloads such objects will need to have a\n",
      "compiled crcmod installed (see \"gsutil help crcmod\"). This is because\n",
      "without a compiled crcmod, computing checksums on composite objects is\n",
      "so slow that gsutil disables downloads of composite objects.\n",
      "\n"
     ]
    },
    {
     "name": "stdout",
     "output_type": "stream",
     "text": [
      "Copying file://../../data/slamseq_YLK_MV411/res/map/mr343-MV411-DMSO-r1_slamdunk_mapped.log [Content-Type=application/octet-stream]...\n",
      "Copying file://../../data/slamseq_YLK_MV411/res/map/mr345-MV411-DMSO-r3_slamdunk_mapped.log [Content-Type=application/octet-stream]...\n",
      "Copying file://../../data/slamseq_YLK_MV411/res/map/mr344-MV411-DMSO-r2_slamdunk_mapped.log [Content-Type=application/octet-stream]...\n",
      "Copying file://../../data/slamseq_YLK_MV411/res/map/mr346-MV411-DMSO-r4_slamdunk_mapped.bam [Content-Type=application/octet-stream]...\n",
      "Copying file://../../data/slamseq_YLK_MV411/res/map/mr346-MV411-DMSO-r4_slamdunk_mapped.log [Content-Type=application/octet-stream]...\n",
      "Copying file://../../data/slamseq_YLK_MV411/res/map/mr347-MV411-YLK-r1_slamdunk_mapped.bam [Content-Type=application/octet-stream]...\n",
      "Copying file://../../data/slamseq_YLK_MV411/res/map/mr345-MV411-DMSO-r3_slamdunk_mapped.bam [Content-Type=application/octet-stream]...\n",
      "Copying file://../../data/slamseq_YLK_MV411/res/map/mr347-MV411-YLK-r1_slamdunk_mapped.log [Content-Type=application/octet-stream]...\n",
      "Copying file://../../data/slamseq_YLK_MV411/res/map/mr350-MV411-YLK-r4_slamdunk_mapped.log [Content-Type=application/octet-stream]...\n",
      "Copying file://../../data/slamseq_YLK_MV411/res/map/mr348-MV411-YLK-r2_slamdunk_mapped.bam [Content-Type=application/octet-stream]...\n",
      "Copying file://../../data/slamseq_YLK_MV411/res/map/mr348-MV411-YLK-r2_slamdunk_mapped.log [Content-Type=application/octet-stream]...\n",
      "Copying file://../../data/slamseq_YLK_MV411/res/map/mr349-MV411-YLK-r3_slamdunk_mapped.bam [Content-Type=application/octet-stream]...\n",
      "Copying file://../../data/slamseq_YLK_MV411/res/map/mr350-MV411-YLK-r4_slamdunk_mapped.bam [Content-Type=application/octet-stream]...\n",
      "Copying file://../../data/slamseq_YLK_MV411/res/map/mr349-MV411-YLK-r3_slamdunk_mapped.log [Content-Type=application/octet-stream]...\n",
      "\\ [16/16 files][ 67.9 GiB/ 67.9 GiB] 100% Done 121.1 MiB/s ETA 00:00:00         \n",
      "Operation completed over 16 objects/67.9 GiB.                                    \n",
      "Copying file://../../data/slamseq_YLK_MV411/res/filter/ERCC_mr343-MV411-DMSO-r1_filtered.bam [Content-Type=application/octet-stream]...\n",
      "Copying file://../../data/slamseq_YLK_MV411/res/filter/ERCC_mr343-MV411-DMSO-r1_filtered.bam.bed [Content-Type=application/octet-stream]...\n",
      "Copying file://../../data/slamseq_YLK_MV411/res/filter/ERCC_mr344-MV411-DMSO-r2_filtered.bam [Content-Type=application/octet-stream]...\n",
      "Copying file://../../data/slamseq_YLK_MV411/res/filter/ERCC_mr344-MV411-DMSO-r2_filtered.bam.bed [Content-Type=application/octet-stream]...\n",
      "Copying file://../../data/slamseq_YLK_MV411/res/filter/ERCC_mr345-MV411-DMSO-r3_filtered.bam.bed [Content-Type=application/octet-stream]...\n",
      "Copying file://../../data/slamseq_YLK_MV411/res/filter/ERCC_mr345-MV411-DMSO-r3_filtered.bam [Content-Type=application/octet-stream]...\n",
      "Copying file://../../data/slamseq_YLK_MV411/res/filter/ERCC_mr346-MV411-DMSO-r4_filtered.bam [Content-Type=application/octet-stream]...\n",
      "Copying file://../../data/slamseq_YLK_MV411/res/filter/ERCC_mr346-MV411-DMSO-r4_filtered.bam.bed [Content-Type=application/octet-stream]...\n",
      "Copying file://../../data/slamseq_YLK_MV411/res/filter/ERCC_mr347-MV411-YLK-r1_filtered.bam [Content-Type=application/octet-stream]...\n",
      "Copying file://../../data/slamseq_YLK_MV411/res/filter/ERCC_mr347-MV411-YLK-r1_filtered.bam.bed [Content-Type=application/octet-stream]...\n",
      "Copying file://../../data/slamseq_YLK_MV411/res/filter/ERCC_mr348-MV411-YLK-r2_filtered.bam [Content-Type=application/octet-stream]...\n",
      "Copying file://../../data/slamseq_YLK_MV411/res/filter/ERCC_mr350-MV411-YLK-r4_filtered.bam.bed [Content-Type=application/octet-stream]...\n",
      "Copying file://../../data/slamseq_YLK_MV411/res/filter/mr343-MV411-DMSO-r1_filtered.bam.bai [Content-Type=application/octet-stream]...\n",
      "Copying file://../../data/slamseq_YLK_MV411/res/filter/ERCC_mr348-MV411-YLK-r2_filtered.bam.bed [Content-Type=application/octet-stream]...\n",
      "Copying file://../../data/slamseq_YLK_MV411/res/filter/mr343-MV411-DMSO-r1_filtered.log [Content-Type=application/octet-stream]...\n",
      "Copying file://../../data/slamseq_YLK_MV411/res/filter/mr344-MV411-DMSO-r2_filtered.bam [Content-Type=application/octet-stream]...\n",
      "Copying file://../../data/slamseq_YLK_MV411/res/filter/ERCC_mr349-MV411-YLK-r3_filtered.bam [Content-Type=application/octet-stream]...\n",
      "Copying file://../../data/slamseq_YLK_MV411/res/filter/mr343-MV411-DMSO-r1_filtered.bam [Content-Type=application/octet-stream]...\n",
      "Copying file://../../data/slamseq_YLK_MV411/res/filter/ERCC_mr349-MV411-YLK-r3_filtered.bam.bed [Content-Type=application/octet-stream]...\n",
      "Copying file://../../data/slamseq_YLK_MV411/res/filter/ERCC_mr350-MV411-YLK-r4_filtered.bam [Content-Type=application/octet-stream]...\n",
      "==> NOTE: You are uploading one or more large file(s), which would run          \n",
      "significantly faster if you enable parallel composite uploads. This\n",
      "feature can be enabled by editing the\n",
      "\"parallel_composite_upload_threshold\" value in your .boto\n",
      "configuration file. However, note that if you do this large files will\n",
      "be uploaded as `composite objects\n",
      "<https://cloud.google.com/storage/docs/composite-objects>`_,which\n",
      "means that any user who downloads such objects will need to have a\n",
      "compiled crcmod installed (see \"gsutil help crcmod\"). This is because\n",
      "without a compiled crcmod, computing checksums on composite objects is\n",
      "so slow that gsutil disables downloads of composite objects.\n",
      "\n",
      "Copying file://../../data/slamseq_YLK_MV411/res/filter/mr344-MV411-DMSO-r2_filtered.log [Content-Type=application/octet-stream]...\n",
      "Copying file://../../data/slamseq_YLK_MV411/res/filter/mr345-MV411-DMSO-r3_filtered.log [Content-Type=application/octet-stream]...\n",
      "Copying file://../../data/slamseq_YLK_MV411/res/filter/mr344-MV411-DMSO-r2_filtered.bam.bai [Content-Type=application/octet-stream]...\n",
      "Copying file://../../data/slamseq_YLK_MV411/res/filter/mr346-MV411-DMSO-r4_filtered.bam [Content-Type=application/octet-stream]...\n",
      "Copying file://../../data/slamseq_YLK_MV411/res/filter/mr345-MV411-DMSO-r3_filtered.bam [Content-Type=application/octet-stream]...\n",
      "Copying file://../../data/slamseq_YLK_MV411/res/filter/mr345-MV411-DMSO-r3_filtered.bam.bai [Content-Type=application/octet-stream]...\n",
      "Copying file://../../data/slamseq_YLK_MV411/res/filter/mr346-MV411-DMSO-r4_filtered.log [Content-Type=application/octet-stream]...\n",
      "Copying file://../../data/slamseq_YLK_MV411/res/filter/mr346-MV411-DMSO-r4_filtered.bam.bai [Content-Type=application/octet-stream]...\n",
      "Copying file://../../data/slamseq_YLK_MV411/res/filter/mr347-MV411-YLK-r1_filtered.bam [Content-Type=application/octet-stream]...\n",
      "Copying file://../../data/slamseq_YLK_MV411/res/filter/mr347-MV411-YLK-r1_filtered.bam.bai [Content-Type=application/octet-stream]...\n",
      "Copying file://../../data/slamseq_YLK_MV411/res/filter/mr348-MV411-YLK-r2_filtered.bam [Content-Type=application/octet-stream]...\n",
      "Copying file://../../data/slamseq_YLK_MV411/res/filter/mr349-MV411-YLK-r3_filtered.bam.bai [Content-Type=application/octet-stream]...\n",
      "Copying file://../../data/slamseq_YLK_MV411/res/filter/mr349-MV411-YLK-r3_filtered.bam [Content-Type=application/octet-stream]...\n",
      "Copying file://../../data/slamseq_YLK_MV411/res/filter/mr348-MV411-YLK-r2_filtered.bam.bai [Content-Type=application/octet-stream]...\n",
      "Copying file://../../data/slamseq_YLK_MV411/res/filter/mr347-MV411-YLK-r1_filtered.log [Content-Type=application/octet-stream]...\n",
      "Copying file://../../data/slamseq_YLK_MV411/res/filter/mr348-MV411-YLK-r2_filtered.log [Content-Type=application/octet-stream]...\n",
      "Copying file://../../data/slamseq_YLK_MV411/res/filter/mr350-MV411-YLK-r4_filtered.bam.bai [Content-Type=application/octet-stream]...\n",
      "Copying file://../../data/slamseq_YLK_MV411/res/filter/mr350-MV411-YLK-r4_filtered.bam [Content-Type=application/octet-stream]...\n",
      "Copying file://../../data/slamseq_YLK_MV411/res/filter/mr349-MV411-YLK-r3_filtered.log [Content-Type=application/octet-stream]...\n",
      "Copying file://../../data/slamseq_YLK_MV411/res/filter/mr350-MV411-YLK-r4_filtered.log [Content-Type=application/octet-stream]...\n",
      "| [40/40 files][ 28.2 GiB/ 28.2 GiB] 100% Done  21.8 MiB/s ETA 00:00:00         \n",
      "Operation completed over 40 objects/28.2 GiB.                                    \n"
     ]
    },
    {
     "name": "stdout",
     "output_type": "stream",
     "text": [
      "Copying file://../../data/slamseq_YLK_MV411/res/snp/mr343-MV411-DMSO-r1_snp.log [Content-Type=application/octet-stream]...\n",
      "Copying file://../../data/slamseq_YLK_MV411/res/snp/mr343-MV411-DMSO-r1_snp.vcf [Content-Type=text/vcard]...\n",
      "Copying file://../../data/slamseq_YLK_MV411/res/snp/mr344-MV411-DMSO-r2_snp.log [Content-Type=application/octet-stream]...\n",
      "Copying file://../../data/slamseq_YLK_MV411/res/snp/mr344-MV411-DMSO-r2_snp.vcf [Content-Type=text/vcard]...\n",
      "Copying file://../../data/slamseq_YLK_MV411/res/snp/mr345-MV411-DMSO-r3_snp.log [Content-Type=application/octet-stream]...\n",
      "Copying file://../../data/slamseq_YLK_MV411/res/snp/mr345-MV411-DMSO-r3_snp.vcf [Content-Type=text/vcard]...\n",
      "Copying file://../../data/slamseq_YLK_MV411/res/snp/mr346-MV411-DMSO-r4_snp.log [Content-Type=application/octet-stream]...\n",
      "Copying file://../../data/slamseq_YLK_MV411/res/snp/mr346-MV411-DMSO-r4_snp.vcf [Content-Type=text/vcard]...\n",
      "Copying file://../../data/slamseq_YLK_MV411/res/snp/mr347-MV411-YLK-r1_snp.log [Content-Type=application/octet-stream]...\n",
      "Copying file://../../data/slamseq_YLK_MV411/res/snp/mr347-MV411-YLK-r1_snp.vcf [Content-Type=text/vcard]...\n",
      "Copying file://../../data/slamseq_YLK_MV411/res/snp/mr348-MV411-YLK-r2_snp.log [Content-Type=application/octet-stream]...\n",
      "Copying file://../../data/slamseq_YLK_MV411/res/snp/mr348-MV411-YLK-r2_snp.vcf [Content-Type=text/vcard]...\n",
      "Copying file://../../data/slamseq_YLK_MV411/res/snp/mr349-MV411-YLK-r3_snp.log [Content-Type=application/octet-stream]...\n",
      "Copying file://../../data/slamseq_YLK_MV411/res/snp/mr349-MV411-YLK-r3_snp.vcf [Content-Type=text/vcard]...\n",
      "Copying file://../../data/slamseq_YLK_MV411/res/snp/mr350-MV411-YLK-r4_snp.log [Content-Type=application/octet-stream]...\n",
      "Copying file://../../data/slamseq_YLK_MV411/res/snp/mr350-MV411-YLK-r4_snp.vcf [Content-Type=text/vcard]...\n",
      "- [16/16 files][ 95.0 MiB/ 95.0 MiB] 100% Done                                  \n",
      "Operation completed over 16 objects/95.0 MiB.                                    \n",
      "Copying file://../../data/slamseq_YLK_MV411/res/count/mr343-MV411-DMSO-r1_tcount.log [Content-Type=application/octet-stream]...\n",
      "Copying file://../../data/slamseq_YLK_MV411/res/count/mr344-MV411-DMSO-r2_tcount.tsv [Content-Type=text/tab-separated-values]...\n",
      "Copying file://../../data/slamseq_YLK_MV411/res/count/mr344-MV411-DMSO-r2_tcount_mins.bedgraph [Content-Type=application/octet-stream]...\n",
      "Copying file://../../data/slamseq_YLK_MV411/res/count/mr343-MV411-DMSO-r1_tcount.tsv [Content-Type=text/tab-separated-values]...\n",
      "Copying file://../../data/slamseq_YLK_MV411/res/count/mr344-MV411-DMSO-r2_tcount_plus.bedgraph [Content-Type=application/octet-stream]...\n",
      "Copying file://../../data/slamseq_YLK_MV411/res/count/mr343-MV411-DMSO-r1_tcount_mins.bedgraph [Content-Type=application/octet-stream]...\n",
      "Copying file://../../data/slamseq_YLK_MV411/res/count/mr344-MV411-DMSO-r2_tcount.log [Content-Type=application/octet-stream]...\n",
      "Copying file://../../data/slamseq_YLK_MV411/res/count/mr343-MV411-DMSO-r1_tcount_plus.bedgraph [Content-Type=application/octet-stream]...\n",
      "Copying file://../../data/slamseq_YLK_MV411/res/count/mr345-MV411-DMSO-r3_tcount.tsv [Content-Type=text/tab-separated-values]...\n",
      "Copying file://../../data/slamseq_YLK_MV411/res/count/mr345-MV411-DMSO-r3_tcount.log [Content-Type=application/octet-stream]...\n",
      "Copying file://../../data/slamseq_YLK_MV411/res/count/mr345-MV411-DMSO-r3_tcount_mins.bedgraph [Content-Type=application/octet-stream]...\n",
      "Copying file://../../data/slamseq_YLK_MV411/res/count/mr345-MV411-DMSO-r3_tcount_plus.bedgraph [Content-Type=application/octet-stream]...\n",
      "Copying file://../../data/slamseq_YLK_MV411/res/count/mr346-MV411-DMSO-r4_tcount.log [Content-Type=application/octet-stream]...\n",
      "Copying file://../../data/slamseq_YLK_MV411/res/count/mr346-MV411-DMSO-r4_tcount.tsv [Content-Type=text/tab-separated-values]...\n",
      "Copying file://../../data/slamseq_YLK_MV411/res/count/mr346-MV411-DMSO-r4_tcount_mins.bedgraph [Content-Type=application/octet-stream]...\n",
      "Copying file://../../data/slamseq_YLK_MV411/res/count/mr346-MV411-DMSO-r4_tcount_plus.bedgraph [Content-Type=application/octet-stream]...\n",
      "Copying file://../../data/slamseq_YLK_MV411/res/count/mr348-MV411-YLK-r2_tcount.log [Content-Type=application/octet-stream]...\n",
      "Copying file://../../data/slamseq_YLK_MV411/res/count/mr350-MV411-YLK-r4_tcount_mins.bedgraph [Content-Type=application/octet-stream]...\n",
      "Copying file://../../data/slamseq_YLK_MV411/res/count/mr347-MV411-YLK-r1_tcount.log [Content-Type=application/octet-stream]...\n",
      "Copying file://../../data/slamseq_YLK_MV411/res/count/mr350-MV411-YLK-r4_tcount_plus.bedgraph [Content-Type=application/octet-stream]...\n",
      "Copying file://../../data/slamseq_YLK_MV411/res/count/mr347-MV411-YLK-r1_tcount.tsv [Content-Type=text/tab-separated-values]...\n",
      "Copying file://../../data/slamseq_YLK_MV411/res/count/mr347-MV411-YLK-r1_tcount_mins.bedgraph [Content-Type=application/octet-stream]...\n",
      "Copying file://../../data/slamseq_YLK_MV411/res/count/mr348-MV411-YLK-r2_tcount.tsv [Content-Type=text/tab-separated-values]...\n",
      "Copying file://../../data/slamseq_YLK_MV411/res/count/mr347-MV411-YLK-r1_tcount_plus.bedgraph [Content-Type=application/octet-stream]...\n",
      "Copying file://../../data/slamseq_YLK_MV411/res/count/mr349-MV411-YLK-r3_tcount.tsv [Content-Type=text/tab-separated-values]...\n",
      "Copying file://../../data/slamseq_YLK_MV411/res/count/mr348-MV411-YLK-r2_tcount_mins.bedgraph [Content-Type=application/octet-stream]...\n",
      "Copying file://../../data/slamseq_YLK_MV411/res/count/mr348-MV411-YLK-r2_tcount_plus.bedgraph [Content-Type=application/octet-stream]...\n",
      "Copying file://../../data/slamseq_YLK_MV411/res/count/mr349-MV411-YLK-r3_tcount.log [Content-Type=application/octet-stream]...\n",
      "Copying file://../../data/slamseq_YLK_MV411/res/count/mr349-MV411-YLK-r3_tcount_mins.bedgraph [Content-Type=application/octet-stream]...\n",
      "Copying file://../../data/slamseq_YLK_MV411/res/count/mr349-MV411-YLK-r3_tcount_plus.bedgraph [Content-Type=application/octet-stream]...\n",
      "Copying file://../../data/slamseq_YLK_MV411/res/count/mr350-MV411-YLK-r4_tcount.log [Content-Type=application/octet-stream]...\n",
      "Copying file://../../data/slamseq_YLK_MV411/res/count/mr350-MV411-YLK-r4_tcount.tsv [Content-Type=text/tab-separated-values]...\n",
      "| [32/32 files][  1.3 GiB/  1.3 GiB] 100% Done                                  \n",
      "Operation completed over 32 objects/1.3 GiB.                                     \n"
     ]
    }
   ],
   "source": [
    "! gsutil -m cp ../../data/$project/fastqs/* gs://amlproject/RNA/$project/fastqs/\n",
    "! gsutil -m cp ../../data/$project/res/map/* gs://amlproject/RNA/slamseq_iBet_max/res/map/ \n",
    "! gsutil -m cp ../../data/$project/res/filter/* gs://amlproject/RNA/$project/res/filter/ \n",
    "! gsutil -m cp ../../data/$project/res/snp/* gs://amlproject/RNA/$project/res/snp/\n",
    "! gsutil -m cp ../../data/$project/res/count/* gs://amlproject/RNA/$project/res/count/"
   ]
  },
  {
   "cell_type": "code",
   "execution_count": 126,
   "metadata": {
    "scrolled": true
   },
   "outputs": [],
   "source": [
    "res = df/(np.array(totalcounts)/100000)"
   ]
  },
  {
   "cell_type": "code",
   "execution_count": 183,
   "metadata": {},
   "outputs": [
    {
     "data": {
      "text/html": [
       "<div>\n",
       "<style scoped>\n",
       "    .dataframe tbody tr th:only-of-type {\n",
       "        vertical-align: middle;\n",
       "    }\n",
       "\n",
       "    .dataframe tbody tr th {\n",
       "        vertical-align: top;\n",
       "    }\n",
       "\n",
       "    .dataframe thead th {\n",
       "        text-align: right;\n",
       "    }\n",
       "</style>\n",
       "<table border=\"1\" class=\"dataframe\">\n",
       "  <thead>\n",
       "    <tr style=\"text-align: right;\">\n",
       "      <th></th>\n",
       "      <th>mr343-MV411-DMSO-r1_filtered.bam</th>\n",
       "      <th>mr344-MV411-DMSO-r2_filtered.bam</th>\n",
       "      <th>mr345-MV411-DMSO-r3_filtered.bam</th>\n",
       "      <th>mr346-MV411-DMSO-r4_filtered.bam</th>\n",
       "      <th>mr347-MV411-YLK-r1_filtered.bam</th>\n",
       "      <th>mr348-MV411-YLK-r2_filtered.bam</th>\n",
       "      <th>mr349-MV411-YLK-r3_filtered.bam</th>\n",
       "      <th>mr350-MV411-YLK-r4_filtered.bam</th>\n",
       "    </tr>\n",
       "  </thead>\n",
       "  <tbody>\n",
       "    <tr>\n",
       "      <th>ERCC-00002</th>\n",
       "      <td>22306.447115</td>\n",
       "      <td>33596.481801</td>\n",
       "      <td>20934.812139</td>\n",
       "      <td>23955.884211</td>\n",
       "      <td>12462.001957</td>\n",
       "      <td>15260.880743</td>\n",
       "      <td>15582.170756</td>\n",
       "      <td>22239.651544</td>\n",
       "    </tr>\n",
       "    <tr>\n",
       "      <th>ERCC-00003</th>\n",
       "      <td>1565.544872</td>\n",
       "      <td>2558.020581</td>\n",
       "      <td>1340.399220</td>\n",
       "      <td>1682.882280</td>\n",
       "      <td>952.693572</td>\n",
       "      <td>1413.390604</td>\n",
       "      <td>1685.528455</td>\n",
       "      <td>1563.752246</td>\n",
       "    </tr>\n",
       "    <tr>\n",
       "      <th>ERCC-00004</th>\n",
       "      <td>1771.465934</td>\n",
       "      <td>2854.336134</td>\n",
       "      <td>1611.447727</td>\n",
       "      <td>2036.637969</td>\n",
       "      <td>1014.507042</td>\n",
       "      <td>1411.583333</td>\n",
       "      <td>1638.951501</td>\n",
       "      <td>1807.030172</td>\n",
       "    </tr>\n",
       "    <tr>\n",
       "      <th>ERCC-00009</th>\n",
       "      <td>423.015625</td>\n",
       "      <td>647.051233</td>\n",
       "      <td>396.896386</td>\n",
       "      <td>459.763441</td>\n",
       "      <td>257.798246</td>\n",
       "      <td>374.682809</td>\n",
       "      <td>380.614634</td>\n",
       "      <td>428.974771</td>\n",
       "    </tr>\n",
       "    <tr>\n",
       "      <th>ERCC-00012</th>\n",
       "      <td>0.000000</td>\n",
       "      <td>0.000000</td>\n",
       "      <td>1.000000</td>\n",
       "      <td>1.000000</td>\n",
       "      <td>0.000000</td>\n",
       "      <td>0.000000</td>\n",
       "      <td>0.000000</td>\n",
       "      <td>2.400000</td>\n",
       "    </tr>\n",
       "    <tr>\n",
       "      <th>...</th>\n",
       "      <td>...</td>\n",
       "      <td>...</td>\n",
       "      <td>...</td>\n",
       "      <td>...</td>\n",
       "      <td>...</td>\n",
       "      <td>...</td>\n",
       "      <td>...</td>\n",
       "      <td>...</td>\n",
       "    </tr>\n",
       "    <tr>\n",
       "      <th>ERCC-00164</th>\n",
       "      <td>1.500000</td>\n",
       "      <td>3.000000</td>\n",
       "      <td>1.000000</td>\n",
       "      <td>1.500000</td>\n",
       "      <td>0.000000</td>\n",
       "      <td>1.500000</td>\n",
       "      <td>2.000000</td>\n",
       "      <td>1.500000</td>\n",
       "    </tr>\n",
       "    <tr>\n",
       "      <th>ERCC-00165</th>\n",
       "      <td>44.682353</td>\n",
       "      <td>80.914062</td>\n",
       "      <td>51.494624</td>\n",
       "      <td>56.059406</td>\n",
       "      <td>31.847458</td>\n",
       "      <td>36.742424</td>\n",
       "      <td>41.652778</td>\n",
       "      <td>58.972222</td>\n",
       "    </tr>\n",
       "    <tr>\n",
       "      <th>ERCC-00168</th>\n",
       "      <td>3.000000</td>\n",
       "      <td>4.500000</td>\n",
       "      <td>1.000000</td>\n",
       "      <td>1.500000</td>\n",
       "      <td>1.500000</td>\n",
       "      <td>1.000000</td>\n",
       "      <td>1.000000</td>\n",
       "      <td>1.500000</td>\n",
       "    </tr>\n",
       "    <tr>\n",
       "      <th>ERCC-00170</th>\n",
       "      <td>3.500000</td>\n",
       "      <td>5.500000</td>\n",
       "      <td>5.500000</td>\n",
       "      <td>5.000000</td>\n",
       "      <td>2.500000</td>\n",
       "      <td>2.500000</td>\n",
       "      <td>3.000000</td>\n",
       "      <td>7.000000</td>\n",
       "    </tr>\n",
       "    <tr>\n",
       "      <th>ERCC-00171</th>\n",
       "      <td>3383.399558</td>\n",
       "      <td>5218.577731</td>\n",
       "      <td>3238.652079</td>\n",
       "      <td>3693.200436</td>\n",
       "      <td>2015.770642</td>\n",
       "      <td>2249.437939</td>\n",
       "      <td>2493.686099</td>\n",
       "      <td>3351.228070</td>\n",
       "    </tr>\n",
       "  </tbody>\n",
       "</table>\n",
       "<p>92 rows × 8 columns</p>\n",
       "</div>"
      ],
      "text/plain": [
       "            mr343-MV411-DMSO-r1_filtered.bam  \\\n",
       "ERCC-00002                      22306.447115   \n",
       "ERCC-00003                       1565.544872   \n",
       "ERCC-00004                       1771.465934   \n",
       "ERCC-00009                        423.015625   \n",
       "ERCC-00012                          0.000000   \n",
       "...                                      ...   \n",
       "ERCC-00164                          1.500000   \n",
       "ERCC-00165                         44.682353   \n",
       "ERCC-00168                          3.000000   \n",
       "ERCC-00170                          3.500000   \n",
       "ERCC-00171                       3383.399558   \n",
       "\n",
       "            mr344-MV411-DMSO-r2_filtered.bam  \\\n",
       "ERCC-00002                      33596.481801   \n",
       "ERCC-00003                       2558.020581   \n",
       "ERCC-00004                       2854.336134   \n",
       "ERCC-00009                        647.051233   \n",
       "ERCC-00012                          0.000000   \n",
       "...                                      ...   \n",
       "ERCC-00164                          3.000000   \n",
       "ERCC-00165                         80.914062   \n",
       "ERCC-00168                          4.500000   \n",
       "ERCC-00170                          5.500000   \n",
       "ERCC-00171                       5218.577731   \n",
       "\n",
       "            mr345-MV411-DMSO-r3_filtered.bam  \\\n",
       "ERCC-00002                      20934.812139   \n",
       "ERCC-00003                       1340.399220   \n",
       "ERCC-00004                       1611.447727   \n",
       "ERCC-00009                        396.896386   \n",
       "ERCC-00012                          1.000000   \n",
       "...                                      ...   \n",
       "ERCC-00164                          1.000000   \n",
       "ERCC-00165                         51.494624   \n",
       "ERCC-00168                          1.000000   \n",
       "ERCC-00170                          5.500000   \n",
       "ERCC-00171                       3238.652079   \n",
       "\n",
       "            mr346-MV411-DMSO-r4_filtered.bam  mr347-MV411-YLK-r1_filtered.bam  \\\n",
       "ERCC-00002                      23955.884211                     12462.001957   \n",
       "ERCC-00003                       1682.882280                       952.693572   \n",
       "ERCC-00004                       2036.637969                      1014.507042   \n",
       "ERCC-00009                        459.763441                       257.798246   \n",
       "ERCC-00012                          1.000000                         0.000000   \n",
       "...                                      ...                              ...   \n",
       "ERCC-00164                          1.500000                         0.000000   \n",
       "ERCC-00165                         56.059406                        31.847458   \n",
       "ERCC-00168                          1.500000                         1.500000   \n",
       "ERCC-00170                          5.000000                         2.500000   \n",
       "ERCC-00171                       3693.200436                      2015.770642   \n",
       "\n",
       "            mr348-MV411-YLK-r2_filtered.bam  mr349-MV411-YLK-r3_filtered.bam  \\\n",
       "ERCC-00002                     15260.880743                     15582.170756   \n",
       "ERCC-00003                      1413.390604                      1685.528455   \n",
       "ERCC-00004                      1411.583333                      1638.951501   \n",
       "ERCC-00009                       374.682809                       380.614634   \n",
       "ERCC-00012                         0.000000                         0.000000   \n",
       "...                                     ...                              ...   \n",
       "ERCC-00164                         1.500000                         2.000000   \n",
       "ERCC-00165                        36.742424                        41.652778   \n",
       "ERCC-00168                         1.000000                         1.000000   \n",
       "ERCC-00170                         2.500000                         3.000000   \n",
       "ERCC-00171                      2249.437939                      2493.686099   \n",
       "\n",
       "            mr350-MV411-YLK-r4_filtered.bam  \n",
       "ERCC-00002                     22239.651544  \n",
       "ERCC-00003                      1563.752246  \n",
       "ERCC-00004                      1807.030172  \n",
       "ERCC-00009                       428.974771  \n",
       "ERCC-00012                         2.400000  \n",
       "...                                     ...  \n",
       "ERCC-00164                         1.500000  \n",
       "ERCC-00165                        58.972222  \n",
       "ERCC-00168                         1.500000  \n",
       "ERCC-00170                         7.000000  \n",
       "ERCC-00171                      3351.228070  \n",
       "\n",
       "[92 rows x 8 columns]"
      ]
     },
     "execution_count": 183,
     "metadata": {},
     "output_type": "execute_result"
    }
   ],
   "source": [
    "df"
   ]
  },
  {
   "cell_type": "code",
   "execution_count": 127,
   "metadata": {},
   "outputs": [
    {
     "data": {
      "text/plain": [
       "mr343-MV411-DMSO-r1_filtered.bam    1.054479\n",
       "mr344-MV411-DMSO-r2_filtered.bam    1.244227\n",
       "mr345-MV411-DMSO-r3_filtered.bam    0.831983\n",
       "mr346-MV411-DMSO-r4_filtered.bam    1.118314\n",
       "mr347-MV411-YLK-r1_filtered.bam     1.118332\n",
       "mr348-MV411-YLK-r2_filtered.bam     0.932608\n",
       "mr349-MV411-YLK-r3_filtered.bam     1.220788\n",
       "mr350-MV411-YLK-r4_filtered.bam     0.995681\n",
       "dtype: float64"
      ]
     },
     "execution_count": 127,
     "metadata": {},
     "output_type": "execute_result"
    }
   ],
   "source": [
    "res.mean()"
   ]
  },
  {
   "cell_type": "code",
   "execution_count": 128,
   "metadata": {},
   "outputs": [],
   "source": [
    "prev=0\n",
    "r={}\n",
    "for val in [4,4]:\n",
    "    r[res.columns[prev].split('-')[2]]=[res[res.columns[prev:prev+val]].sum().mean(), res[res.columns[prev:prev+val]].sum().var()**(1/2)]\n",
    "    prev+=val"
   ]
  },
  {
   "cell_type": "code",
   "execution_count": 129,
   "metadata": {},
   "outputs": [
    {
     "data": {
      "text/plain": [
       "{'DMSO': [97.72708711152382, 15.876520839037093],\n",
       " 'YLK': [98.15039682666358, 11.809637537738645]}"
      ]
     },
     "execution_count": 129,
     "metadata": {},
     "output_type": "execute_result"
    }
   ],
   "source": [
    "r"
   ]
  },
  {
   "cell_type": "code",
   "execution_count": 130,
   "metadata": {},
   "outputs": [
    {
     "name": "stdout",
     "output_type": "stream",
     "text": [
      "mkdir: cannot create directory ‘../results/slamseq_YLK_MV411/plots/’: File exists\r\n"
     ]
    }
   ],
   "source": [
    "mkdir ../results/$project/plots/"
   ]
  },
  {
   "cell_type": "code",
   "execution_count": 131,
   "metadata": {},
   "outputs": [
    {
     "data": {
      "image/png": "[encoded data removed]",
      "text/plain": [
       "<Figure size 432x288 with 1 Axes>"
      ]
     },
     "metadata": {
      "needs_background": "light"
     },
     "output_type": "display_data"
    }
   ],
   "source": [
    "d= pd.DataFrame(data=r.values(),index=r.keys(), columns=['ERCC pseudo-counts','var'])\n",
    "d['Experiments']=d.index\n",
    "sns.barplot(\"Experiments\",\"ERCC pseudo-counts\",data=d,ci=None,)\n",
    "plt.errorbar(x=range(0,len(d)),y=d['ERCC pseudo-counts'],\n",
    "            yerr=d['var'], fmt='none', c= 'r')\n",
    "plt.xticks(rotation=60,ha='right')\n",
    "plt.savefig('../results/'+project+\"/plots/\"+version+\"_scaling_fact_with_conf.pdf\")"
   ]
  },
  {
   "cell_type": "code",
   "execution_count": 132,
   "metadata": {},
   "outputs": [],
   "source": [
    "location= '../../data/'+project+'/res/count/'\n",
    "mincount_toremove=5\n",
    "minvar_toremove=0"
   ]
  },
  {
   "cell_type": "code",
   "execution_count": 136,
   "metadata": {
    "scrolled": true
   },
   "outputs": [
    {
     "name": "stdout",
     "output_type": "stream",
     "text": [
      "found 8 files:dict_keys(['mr349-MV411-YLK-r3_tcount', 'mr343-MV411-DMSO-r1_tcount', 'mr345-MV411-DMSO-r3_tcount', 'mr347-MV411-YLK-r1_tcount', 'mr348-MV411-YLK-r2_tcount', 'mr344-MV411-DMSO-r2_tcount', 'mr346-MV411-DMSO-r4_tcount', 'mr350-MV411-YLK-r4_tcount'])\n",
      "496 182\n",
      "[345, 68] [2, 2]\n",
      "1342 521\n",
      "[581, 136] [13, 1]\n",
      "1544 566\n",
      "[631, 190] [13, 4]\n",
      "331 112\n",
      "[331, 91] [3, 1]\n",
      "577 196\n",
      "[356, 105] [1, 0]\n",
      "1982 813\n",
      "[635, 179] [8, 4]\n",
      "1529 607\n",
      "[576, 150] [7, 0]\n",
      "780 296\n",
      "[603, 169] [6, 2]\n",
      "you need access to taiga for this (https://pypi.org/project/taigapy/)\n",
      "1118 could not be parsed... we don't have all genes already\n",
      "you need access to taiga for this (https://pypi.org/project/taigapy/)\n",
      "1118 could not be parsed... we don't have all genes already\n"
     ]
    }
   ],
   "source": [
    "readcounts, tccounts = rna.readFromSlamdunk(loc=location,minvar_toremove=minvar_toremove, mincount_toremove=mincount_toremove)"
   ]
  },
  {
   "cell_type": "code",
   "execution_count": 137,
   "metadata": {},
   "outputs": [],
   "source": [
    "#feel like subsetting?\n",
    "readcounts = readcounts[readcounts.columns[:27]]\n",
    "tccounts = tccounts[tccounts.columns[:27]]"
   ]
  },
  {
   "cell_type": "markdown",
   "metadata": {},
   "source": [
    "## SLAM-seq\n",
    "All SLAM-seq assays were performed at 60-70% confluency for adherent cells or\n",
    "60% of the maximum cell density counted on a hemocytometer for suspension cells. 5-7h\n",
    "prior to each assay, growth medium was aspirated and replaced. Unless stated otherwise,\n",
    "cells were pre-treated with indicated small molecule inhibitors or 100µM IAA for 30 min\n",
    "to pre-establish full target inhibition or degradation. Newly synthesized RNA was labeled\n",
    "for indicated time spans (45 min or 60 min) at a final concentration of 100µM 4-\n",
    "thiouridine (4sU, Carbosynth). Adherent cells were harvested by direct snap-freezing of\n",
    "plates on dry ice. Suspension cells were spun down and immediately snap-frozen. RNA\n",
    "extraction was performed using the RNeasy Plus Mini Kit (Qiagen). \n",
    "\n",
    "Total RNA was subjected to alkylation by iodoacetamide (Sigma, 10mM) for 15 min and RNA was repurified by ethanol precipitation. 500ng alkylated RNA were used as input for generating\n",
    "3’-end mRNA sequencing libraries using a commercially available kit (QuantSeq 3′\n",
    "mRNA-Seq Library Prep Kit FWD for Illumina and PCR Add-on Kit for Illumina,\n",
    "Lexogen). Deep sequencing was performed using HiSeq1500 and HiSeq2500 platforms\n",
    "(Illumina)."
   ]
  },
  {
   "cell_type": "markdown",
   "metadata": {},
   "source": [
    "0.06724463\n",
    "0.04916348\n",
    "0.03728357\n",
    "0.05075007\n",
    "0.03331248\n",
    "0.0346662\n",
    "0.03265504 \n",
    "0.04416262\n",
    "0.05574821\n",
    "0.05845953\n",
    "0.05531433\n",
    "0.06175393\n",
    "0.03181749 \n",
    "0.02940226 \n",
    "0.0306263\n",
    "0.04004278"
   ]
  },
  {
   "cell_type": "code",
   "execution_count": 140,
   "metadata": {},
   "outputs": [
    {
     "data": {
      "text/html": [
       "<div>\n",
       "<style scoped>\n",
       "    .dataframe tbody tr th:only-of-type {\n",
       "        vertical-align: middle;\n",
       "    }\n",
       "\n",
       "    .dataframe tbody tr th {\n",
       "        vertical-align: top;\n",
       "    }\n",
       "\n",
       "    .dataframe thead th {\n",
       "        text-align: right;\n",
       "    }\n",
       "</style>\n",
       "<table border=\"1\" class=\"dataframe\">\n",
       "  <thead>\n",
       "    <tr style=\"text-align: right;\">\n",
       "      <th></th>\n",
       "      <th>mr343-MV411-DMSO-r1_tcount</th>\n",
       "      <th>mr344-MV411-DMSO-r2_tcount</th>\n",
       "      <th>mr345-MV411-DMSO-r3_tcount</th>\n",
       "      <th>mr346-MV411-DMSO-r4_tcount</th>\n",
       "      <th>mr347-MV411-YLK-r1_tcount</th>\n",
       "      <th>mr348-MV411-YLK-r2_tcount</th>\n",
       "      <th>mr349-MV411-YLK-r3_tcount</th>\n",
       "      <th>mr350-MV411-YLK-r4_tcount</th>\n",
       "    </tr>\n",
       "  </thead>\n",
       "  <tbody>\n",
       "    <tr>\n",
       "      <th>NAT1</th>\n",
       "      <td>114</td>\n",
       "      <td>125</td>\n",
       "      <td>96</td>\n",
       "      <td>89</td>\n",
       "      <td>55</td>\n",
       "      <td>99</td>\n",
       "      <td>66</td>\n",
       "      <td>107</td>\n",
       "    </tr>\n",
       "    <tr>\n",
       "      <th>AAMP</th>\n",
       "      <td>1281</td>\n",
       "      <td>1499</td>\n",
       "      <td>1424</td>\n",
       "      <td>1422</td>\n",
       "      <td>764</td>\n",
       "      <td>864</td>\n",
       "      <td>704</td>\n",
       "      <td>1472</td>\n",
       "    </tr>\n",
       "    <tr>\n",
       "      <th>AARS1</th>\n",
       "      <td>631</td>\n",
       "      <td>876</td>\n",
       "      <td>892</td>\n",
       "      <td>754</td>\n",
       "      <td>486</td>\n",
       "      <td>548</td>\n",
       "      <td>472</td>\n",
       "      <td>837</td>\n",
       "    </tr>\n",
       "    <tr>\n",
       "      <th>ABAT</th>\n",
       "      <td>154</td>\n",
       "      <td>208</td>\n",
       "      <td>191</td>\n",
       "      <td>162</td>\n",
       "      <td>93</td>\n",
       "      <td>144</td>\n",
       "      <td>116</td>\n",
       "      <td>151</td>\n",
       "    </tr>\n",
       "    <tr>\n",
       "      <th>ABCA1</th>\n",
       "      <td>19</td>\n",
       "      <td>37</td>\n",
       "      <td>36</td>\n",
       "      <td>21</td>\n",
       "      <td>10</td>\n",
       "      <td>26</td>\n",
       "      <td>24</td>\n",
       "      <td>31</td>\n",
       "    </tr>\n",
       "    <tr>\n",
       "      <th>...</th>\n",
       "      <td>...</td>\n",
       "      <td>...</td>\n",
       "      <td>...</td>\n",
       "      <td>...</td>\n",
       "      <td>...</td>\n",
       "      <td>...</td>\n",
       "      <td>...</td>\n",
       "      <td>...</td>\n",
       "    </tr>\n",
       "    <tr>\n",
       "      <th>107080638</th>\n",
       "      <td>413</td>\n",
       "      <td>544</td>\n",
       "      <td>503</td>\n",
       "      <td>406</td>\n",
       "      <td>249</td>\n",
       "      <td>406</td>\n",
       "      <td>277</td>\n",
       "      <td>462</td>\n",
       "    </tr>\n",
       "    <tr>\n",
       "      <th>107080644</th>\n",
       "      <td>6</td>\n",
       "      <td>1</td>\n",
       "      <td>3</td>\n",
       "      <td>3</td>\n",
       "      <td>1</td>\n",
       "      <td>3</td>\n",
       "      <td>4</td>\n",
       "      <td>1</td>\n",
       "    </tr>\n",
       "    <tr>\n",
       "      <th>BOLA2-SMG1P6</th>\n",
       "      <td>19</td>\n",
       "      <td>22</td>\n",
       "      <td>12</td>\n",
       "      <td>10</td>\n",
       "      <td>10</td>\n",
       "      <td>13</td>\n",
       "      <td>5</td>\n",
       "      <td>15</td>\n",
       "    </tr>\n",
       "    <tr>\n",
       "      <th>107303344</th>\n",
       "      <td>99</td>\n",
       "      <td>171</td>\n",
       "      <td>154</td>\n",
       "      <td>132</td>\n",
       "      <td>71</td>\n",
       "      <td>106</td>\n",
       "      <td>94</td>\n",
       "      <td>155</td>\n",
       "    </tr>\n",
       "    <tr>\n",
       "      <th>SCARNA18B</th>\n",
       "      <td>1</td>\n",
       "      <td>3</td>\n",
       "      <td>1</td>\n",
       "      <td>0</td>\n",
       "      <td>0</td>\n",
       "      <td>5</td>\n",
       "      <td>1</td>\n",
       "      <td>2</td>\n",
       "    </tr>\n",
       "  </tbody>\n",
       "</table>\n",
       "<p>14497 rows × 8 columns</p>\n",
       "</div>"
      ],
      "text/plain": [
       "              mr343-MV411-DMSO-r1_tcount  mr344-MV411-DMSO-r2_tcount  \\\n",
       "NAT1                                 114                         125   \n",
       "AAMP                                1281                        1499   \n",
       "AARS1                                631                         876   \n",
       "ABAT                                 154                         208   \n",
       "ABCA1                                 19                          37   \n",
       "...                                  ...                         ...   \n",
       "107080638                            413                         544   \n",
       "107080644                              6                           1   \n",
       "BOLA2-SMG1P6                          19                          22   \n",
       "107303344                             99                         171   \n",
       "SCARNA18B                              1                           3   \n",
       "\n",
       "              mr345-MV411-DMSO-r3_tcount  mr346-MV411-DMSO-r4_tcount  \\\n",
       "NAT1                                  96                          89   \n",
       "AAMP                                1424                        1422   \n",
       "AARS1                                892                         754   \n",
       "ABAT                                 191                         162   \n",
       "ABCA1                                 36                          21   \n",
       "...                                  ...                         ...   \n",
       "107080638                            503                         406   \n",
       "107080644                              3                           3   \n",
       "BOLA2-SMG1P6                          12                          10   \n",
       "107303344                            154                         132   \n",
       "SCARNA18B                              1                           0   \n",
       "\n",
       "              mr347-MV411-YLK-r1_tcount  mr348-MV411-YLK-r2_tcount  \\\n",
       "NAT1                                 55                         99   \n",
       "AAMP                                764                        864   \n",
       "AARS1                               486                        548   \n",
       "ABAT                                 93                        144   \n",
       "ABCA1                                10                         26   \n",
       "...                                 ...                        ...   \n",
       "107080638                           249                        406   \n",
       "107080644                             1                          3   \n",
       "BOLA2-SMG1P6                         10                         13   \n",
       "107303344                            71                        106   \n",
       "SCARNA18B                             0                          5   \n",
       "\n",
       "              mr349-MV411-YLK-r3_tcount  mr350-MV411-YLK-r4_tcount  \n",
       "NAT1                                 66                        107  \n",
       "AAMP                                704                       1472  \n",
       "AARS1                               472                        837  \n",
       "ABAT                                116                        151  \n",
       "ABCA1                                24                         31  \n",
       "...                                 ...                        ...  \n",
       "107080638                           277                        462  \n",
       "107080644                             4                          1  \n",
       "BOLA2-SMG1P6                          5                         15  \n",
       "107303344                            94                        155  \n",
       "SCARNA18B                             1                          2  \n",
       "\n",
       "[14497 rows x 8 columns]"
      ]
     },
     "execution_count": 140,
     "metadata": {},
     "output_type": "execute_result"
    }
   ],
   "source": [
    "readcounts"
   ]
  },
  {
   "cell_type": "code",
   "execution_count": 141,
   "metadata": {},
   "outputs": [
    {
     "data": {
      "text/plain": [
       "<matplotlib.axes._subplots.AxesSubplot at 0x7f1034971880>"
      ]
     },
     "execution_count": 141,
     "metadata": {},
     "output_type": "execute_result"
    },
    {
     "data": {
      "image/png": "[encoded data removed]",
      "text/plain": [
       "<Figure size 432x288 with 1 Axes>"
      ]
     },
     "metadata": {
      "needs_background": "light"
     },
     "output_type": "display_data"
    }
   ],
   "source": [
    "#what is the average of highly transcribed genes \n",
    "a = tccounts[readcounts.sum(1)>30] / readcounts[readcounts.sum(1)>30]\n",
    "a = a.fillna(0)\n",
    "a = a.max(1).tolist()\n",
    "a.sort()\n",
    "sns.kdeplot(a)"
   ]
  },
  {
   "cell_type": "code",
   "execution_count": 142,
   "metadata": {},
   "outputs": [
    {
     "data": {
      "text/plain": [
       "0.05759628657770703"
      ]
     },
     "execution_count": 142,
     "metadata": {},
     "output_type": "execute_result"
    }
   ],
   "source": [
    "np.median(a)"
   ]
  },
  {
   "cell_type": "code",
   "execution_count": 143,
   "metadata": {},
   "outputs": [],
   "source": [
    "readcounts.to_csv('../results/'+project+'/'+version+'_'+str(minvar_toremove)+'_'+str(mincount_toremove)+'_readcounts.csv',index=False)\n",
    "tccounts.to_csv('../results/'+project+'/'+version+'_'+str(minvar_toremove)+'_'+str(mincount_toremove)+'_tccounts.csv',index=False)"
   ]
  },
  {
   "cell_type": "code",
   "execution_count": 410,
   "metadata": {},
   "outputs": [],
   "source": [
    "readcounts = pd.read_csv('../results/'+project+'/'+version+'_'+str(minvar_toremove)+'_'+str(mincount_toremove)+'_readcounts.csv')\n",
    "tccounts = pd.read_csv('../results/'+project+'/'+version+'_'+str(minvar_toremove)+'_'+str(mincount_toremove)+'_tccounts.csv')"
   ]
  },
  {
   "cell_type": "markdown",
   "metadata": {},
   "source": [
    "### make more dataframes"
   ]
  },
  {
   "cell_type": "code",
   "execution_count": 144,
   "metadata": {},
   "outputs": [],
   "source": [
    "mtccounts = pd.DataFrame()\n",
    "mreadcounts = pd.DataFrame()\n",
    "for i in set([i.split('-')[2] for i in tccounts.columns]):\n",
    "    mtccounts[i] = tccounts[[v for v in tccounts.columns if i in v]].mean(1)\n",
    "    mreadcounts[i] = readcounts[[v for v in readcounts.columns if i in v]].mean(1)"
   ]
  },
  {
   "cell_type": "code",
   "execution_count": 145,
   "metadata": {},
   "outputs": [],
   "source": [
    "mtccounts.to_csv(\"../results/\"+project+'/'+version+'_'+str(minvar_toremove)+'_'+str(mincount_toremove)+\"_mean_tccounts.csv\")\n",
    "mreadcounts.to_csv(\"../results/\"+project+'/'+version+'_'+str(minvar_toremove)+'_'+str(mincount_toremove)+\"_mean_readcounts.csv\")"
   ]
  },
  {
   "cell_type": "code",
   "execution_count": 146,
   "metadata": {},
   "outputs": [],
   "source": [
    "mtccounts = pd.DataFrame()\n",
    "mreadcounts = pd.DataFrame()\n",
    "for i in set([i.split('-')[2] for i in tccounts.columns]):\n",
    "    mtccounts[i] = tccounts[[v for v in tccounts.columns if i in v]].median(1)\n",
    "    mreadcounts[i] = readcounts[[v for v in readcounts.columns if i in v]].median(1)"
   ]
  },
  {
   "cell_type": "code",
   "execution_count": 147,
   "metadata": {},
   "outputs": [],
   "source": [
    "mtccounts.to_csv(\"../results/\"+project+'/'+version+'_'+str(minvar_toremove)+'_'+str(mincount_toremove)+\"_median_tccounts.csv\")\n",
    "mreadcounts.to_csv(\"../results/\"+project+'/'+version+'_'+str(minvar_toremove)+'_'+str(mincount_toremove)+\"_median_readcounts.csv\")"
   ]
  },
  {
   "cell_type": "code",
   "execution_count": 148,
   "metadata": {},
   "outputs": [],
   "source": [
    "(tccounts/readcounts).fillna(0).to_csv(\"../results/\"+project+'/'+version+'_'+str(minvar_toremove)+'_'+str(mincount_toremove)+\"_tccounts_per_readcounts.csv\")"
   ]
  },
  {
   "cell_type": "markdown",
   "metadata": {},
   "source": [
    "# lets look at the similarity accross replicates\n",
    "\n",
    "we have some outliers, else it seems to make some sense and on average, to be extremelly similar!"
   ]
  },
  {
   "cell_type": "code",
   "execution_count": 149,
   "metadata": {},
   "outputs": [],
   "source": [
    "tccounts.columns = [i.replace('-','.') for i in tccounts.columns]\n",
    "readcounts.columns = [i.replace('-','.') for i in readcounts.columns]"
   ]
  },
  {
   "cell_type": "code",
   "execution_count": 150,
   "metadata": {},
   "outputs": [
    {
     "data": {
      "text/html": [
       "<div>\n",
       "<style scoped>\n",
       "    .dataframe tbody tr th:only-of-type {\n",
       "        vertical-align: middle;\n",
       "    }\n",
       "\n",
       "    .dataframe tbody tr th {\n",
       "        vertical-align: top;\n",
       "    }\n",
       "\n",
       "    .dataframe thead th {\n",
       "        text-align: right;\n",
       "    }\n",
       "</style>\n",
       "<table border=\"1\" class=\"dataframe\">\n",
       "  <thead>\n",
       "    <tr style=\"text-align: right;\">\n",
       "      <th></th>\n",
       "      <th>mr343.MV411.DMSO.r1_tcount</th>\n",
       "      <th>mr344.MV411.DMSO.r2_tcount</th>\n",
       "      <th>mr345.MV411.DMSO.r3_tcount</th>\n",
       "      <th>mr346.MV411.DMSO.r4_tcount</th>\n",
       "      <th>mr347.MV411.YLK.r1_tcount</th>\n",
       "      <th>mr348.MV411.YLK.r2_tcount</th>\n",
       "      <th>mr349.MV411.YLK.r3_tcount</th>\n",
       "      <th>mr350.MV411.YLK.r4_tcount</th>\n",
       "    </tr>\n",
       "  </thead>\n",
       "  <tbody>\n",
       "    <tr>\n",
       "      <th>NAT1</th>\n",
       "      <td>20</td>\n",
       "      <td>13</td>\n",
       "      <td>6</td>\n",
       "      <td>15</td>\n",
       "      <td>5</td>\n",
       "      <td>7</td>\n",
       "      <td>7</td>\n",
       "      <td>9</td>\n",
       "    </tr>\n",
       "    <tr>\n",
       "      <th>AAMP</th>\n",
       "      <td>27</td>\n",
       "      <td>24</td>\n",
       "      <td>20</td>\n",
       "      <td>29</td>\n",
       "      <td>13</td>\n",
       "      <td>15</td>\n",
       "      <td>15</td>\n",
       "      <td>24</td>\n",
       "    </tr>\n",
       "    <tr>\n",
       "      <th>AARS1</th>\n",
       "      <td>15</td>\n",
       "      <td>25</td>\n",
       "      <td>32</td>\n",
       "      <td>24</td>\n",
       "      <td>18</td>\n",
       "      <td>11</td>\n",
       "      <td>16</td>\n",
       "      <td>39</td>\n",
       "    </tr>\n",
       "    <tr>\n",
       "      <th>ABAT</th>\n",
       "      <td>4</td>\n",
       "      <td>5</td>\n",
       "      <td>7</td>\n",
       "      <td>4</td>\n",
       "      <td>0</td>\n",
       "      <td>3</td>\n",
       "      <td>3</td>\n",
       "      <td>1</td>\n",
       "    </tr>\n",
       "    <tr>\n",
       "      <th>ABCA1</th>\n",
       "      <td>9</td>\n",
       "      <td>8</td>\n",
       "      <td>7</td>\n",
       "      <td>5</td>\n",
       "      <td>3</td>\n",
       "      <td>6</td>\n",
       "      <td>5</td>\n",
       "      <td>6</td>\n",
       "    </tr>\n",
       "    <tr>\n",
       "      <th>...</th>\n",
       "      <td>...</td>\n",
       "      <td>...</td>\n",
       "      <td>...</td>\n",
       "      <td>...</td>\n",
       "      <td>...</td>\n",
       "      <td>...</td>\n",
       "      <td>...</td>\n",
       "      <td>...</td>\n",
       "    </tr>\n",
       "    <tr>\n",
       "      <th>107080638</th>\n",
       "      <td>7</td>\n",
       "      <td>4</td>\n",
       "      <td>3</td>\n",
       "      <td>4</td>\n",
       "      <td>6</td>\n",
       "      <td>8</td>\n",
       "      <td>6</td>\n",
       "      <td>6</td>\n",
       "    </tr>\n",
       "    <tr>\n",
       "      <th>107080644</th>\n",
       "      <td>0</td>\n",
       "      <td>0</td>\n",
       "      <td>0</td>\n",
       "      <td>0</td>\n",
       "      <td>0</td>\n",
       "      <td>1</td>\n",
       "      <td>0</td>\n",
       "      <td>0</td>\n",
       "    </tr>\n",
       "    <tr>\n",
       "      <th>BOLA2-SMG1P6</th>\n",
       "      <td>0</td>\n",
       "      <td>0</td>\n",
       "      <td>0</td>\n",
       "      <td>2</td>\n",
       "      <td>1</td>\n",
       "      <td>2</td>\n",
       "      <td>0</td>\n",
       "      <td>1</td>\n",
       "    </tr>\n",
       "    <tr>\n",
       "      <th>107303344</th>\n",
       "      <td>2</td>\n",
       "      <td>3</td>\n",
       "      <td>5</td>\n",
       "      <td>4</td>\n",
       "      <td>1</td>\n",
       "      <td>0</td>\n",
       "      <td>1</td>\n",
       "      <td>4</td>\n",
       "    </tr>\n",
       "    <tr>\n",
       "      <th>SCARNA18B</th>\n",
       "      <td>0</td>\n",
       "      <td>2</td>\n",
       "      <td>1</td>\n",
       "      <td>0</td>\n",
       "      <td>0</td>\n",
       "      <td>2</td>\n",
       "      <td>0</td>\n",
       "      <td>0</td>\n",
       "    </tr>\n",
       "  </tbody>\n",
       "</table>\n",
       "<p>14497 rows × 8 columns</p>\n",
       "</div>"
      ],
      "text/plain": [
       "              mr343.MV411.DMSO.r1_tcount  mr344.MV411.DMSO.r2_tcount  \\\n",
       "NAT1                                  20                          13   \n",
       "AAMP                                  27                          24   \n",
       "AARS1                                 15                          25   \n",
       "ABAT                                   4                           5   \n",
       "ABCA1                                  9                           8   \n",
       "...                                  ...                         ...   \n",
       "107080638                              7                           4   \n",
       "107080644                              0                           0   \n",
       "BOLA2-SMG1P6                           0                           0   \n",
       "107303344                              2                           3   \n",
       "SCARNA18B                              0                           2   \n",
       "\n",
       "              mr345.MV411.DMSO.r3_tcount  mr346.MV411.DMSO.r4_tcount  \\\n",
       "NAT1                                   6                          15   \n",
       "AAMP                                  20                          29   \n",
       "AARS1                                 32                          24   \n",
       "ABAT                                   7                           4   \n",
       "ABCA1                                  7                           5   \n",
       "...                                  ...                         ...   \n",
       "107080638                              3                           4   \n",
       "107080644                              0                           0   \n",
       "BOLA2-SMG1P6                           0                           2   \n",
       "107303344                              5                           4   \n",
       "SCARNA18B                              1                           0   \n",
       "\n",
       "              mr347.MV411.YLK.r1_tcount  mr348.MV411.YLK.r2_tcount  \\\n",
       "NAT1                                  5                          7   \n",
       "AAMP                                 13                         15   \n",
       "AARS1                                18                         11   \n",
       "ABAT                                  0                          3   \n",
       "ABCA1                                 3                          6   \n",
       "...                                 ...                        ...   \n",
       "107080638                             6                          8   \n",
       "107080644                             0                          1   \n",
       "BOLA2-SMG1P6                          1                          2   \n",
       "107303344                             1                          0   \n",
       "SCARNA18B                             0                          2   \n",
       "\n",
       "              mr349.MV411.YLK.r3_tcount  mr350.MV411.YLK.r4_tcount  \n",
       "NAT1                                  7                          9  \n",
       "AAMP                                 15                         24  \n",
       "AARS1                                16                         39  \n",
       "ABAT                                  3                          1  \n",
       "ABCA1                                 5                          6  \n",
       "...                                 ...                        ...  \n",
       "107080638                             6                          6  \n",
       "107080644                             0                          0  \n",
       "BOLA2-SMG1P6                          0                          1  \n",
       "107303344                             1                          4  \n",
       "SCARNA18B                             0                          0  \n",
       "\n",
       "[14497 rows x 8 columns]"
      ]
     },
     "execution_count": 150,
     "metadata": {},
     "output_type": "execute_result"
    }
   ],
   "source": [
    "tccounts"
   ]
  },
  {
   "cell_type": "code",
   "execution_count": 151,
   "metadata": {},
   "outputs": [
    {
     "data": {
      "text/plain": [
       "mr343.MV411.DMSO.r1_tcount    10.125621\n",
       "mr344.MV411.DMSO.r2_tcount    10.687586\n",
       "mr345.MV411.DMSO.r3_tcount    10.590205\n",
       "mr346.MV411.DMSO.r4_tcount    10.082057\n",
       "mr347.MV411.YLK.r1_tcount     11.008497\n",
       "mr348.MV411.YLK.r2_tcount     10.029397\n",
       "mr349.MV411.YLK.r3_tcount      9.656311\n",
       "mr350.MV411.YLK.r4_tcount      9.315082\n",
       "dtype: float64"
      ]
     },
     "execution_count": 151,
     "metadata": {},
     "output_type": "execute_result"
    }
   ],
   "source": [
    "(tccounts.loc[\"MYC\"]/tccounts.mean(0)) /(readcounts.loc[\"MYC\"]/readcounts.mean(0))"
   ]
  },
  {
   "cell_type": "code",
   "execution_count": 152,
   "metadata": {},
   "outputs": [
    {
     "data": {
      "image/png": "[encoded data removed]",
      "text/plain": [
       "<Figure size 864x864 with 2 Axes>"
      ]
     },
     "metadata": {
      "needs_background": "light"
     },
     "output_type": "display_data"
    }
   ],
   "source": [
    "%matplotlib inline\n",
    "fig, ax = plt.subplots(figsize=(12,12))\n",
    "sns.heatmap(tccounts.corr(), \n",
    "            xticklabels=tccounts.columns,\n",
    "            yticklabels=tccounts.columns, ax=ax)\n",
    "plt.savefig('../results/'+project+'/plots/'+version+'_similarity_replicates_sorted_readcounts.pdf')"
   ]
  },
  {
   "cell_type": "code",
   "execution_count": 153,
   "metadata": {},
   "outputs": [
    {
     "data": {
      "image/png": "[encoded data removed]",
      "text/plain": [
       "<Figure size 864x864 with 2 Axes>"
      ]
     },
     "metadata": {
      "needs_background": "light"
     },
     "output_type": "display_data"
    }
   ],
   "source": [
    "%matplotlib inline\n",
    "fig, ax = plt.subplots(figsize=(12,12))\n",
    "sns.heatmap(readcounts.corr(), \n",
    "            xticklabels=readcounts.columns,\n",
    "            yticklabels=readcounts.columns, ax=ax)\n",
    "plt.savefig('../results/'+project+'/plots/'+version+'_similarity_replicates.pdf')"
   ]
  },
  {
   "cell_type": "markdown",
   "metadata": {},
   "source": [
    "### A quick detour to look for clustering"
   ]
  },
  {
   "cell_type": "markdown",
   "metadata": {},
   "source": [
    "## Getting the Core TF information"
   ]
  },
  {
   "cell_type": "code",
   "execution_count": 156,
   "metadata": {
    "scrolled": true
   },
   "outputs": [
    {
     "data": {
      "text/plain": [
       "['CEBPA',\n",
       " 'E2F3',\n",
       " 'FLI1',\n",
       " 'FOSL2',\n",
       " 'GFI1',\n",
       " 'HEX',\n",
       " 'IRF8',\n",
       " 'LYL1',\n",
       " 'MEF2C',\n",
       " 'MEF2D',\n",
       " 'MEIS1',\n",
       " 'MYB',\n",
       " 'PLAGL2',\n",
       " 'RUNX1',\n",
       " 'RUNX2',\n",
       " 'RXRA',\n",
       " 'SP1',\n",
       " 'SPI1',\n",
       " 'SREBF1',\n",
       " 'STAT5B',\n",
       " 'TFAP4',\n",
       " 'ZEB2',\n",
       " 'ZFPM1',\n",
       " 'ZNF281',\n",
       " 'LMO2',\n",
       " 'ZMYND8',\n",
       " 'GATA2',\n",
       " 'MAX',\n",
       " 'MYC',\n",
       " 'ETV6',\n",
       " 'HOXA9']"
      ]
     },
     "execution_count": 156,
     "metadata": {},
     "output_type": "execute_result"
    }
   ],
   "source": [
    "ctf=pd.read_csv('../data/CRCs.txt',header=None)[0].values.tolist()\n",
    "ctf"
   ]
  },
  {
   "cell_type": "code",
   "execution_count": 158,
   "metadata": {},
   "outputs": [
    {
     "data": {
      "text/plain": [
       "{'HEX'}"
      ]
     },
     "execution_count": 158,
     "metadata": {},
     "output_type": "execute_result"
    }
   ],
   "source": [
    "set(ctf) -  set(tccounts.index)"
   ]
  },
  {
   "cell_type": "code",
   "execution_count": 157,
   "metadata": {},
   "outputs": [
    {
     "data": {
      "text/plain": [
       "{'CEBPA',\n",
       " 'E2F3',\n",
       " 'ETV6',\n",
       " 'FLI1',\n",
       " 'FOSL2',\n",
       " 'GATA2',\n",
       " 'GFI1',\n",
       " 'HOXA9',\n",
       " 'IRF8',\n",
       " 'LMO2',\n",
       " 'LYL1',\n",
       " 'MAX',\n",
       " 'MEF2C',\n",
       " 'MEF2D',\n",
       " 'MEIS1',\n",
       " 'MYB',\n",
       " 'MYC',\n",
       " 'PLAGL2',\n",
       " 'RUNX1',\n",
       " 'RUNX2',\n",
       " 'RXRA',\n",
       " 'SP1',\n",
       " 'SPI1',\n",
       " 'SREBF1',\n",
       " 'STAT5B',\n",
       " 'TFAP4',\n",
       " 'ZEB2',\n",
       " 'ZFPM1',\n",
       " 'ZMYND8',\n",
       " 'ZNF281'}"
      ]
     },
     "execution_count": 157,
     "metadata": {},
     "output_type": "execute_result"
    }
   ],
   "source": [
    "set(ctf) & set(tccounts.index)"
   ]
  },
  {
   "cell_type": "code",
   "execution_count": 159,
   "metadata": {},
   "outputs": [],
   "source": [
    "ctfpos = [val for val in tccounts.index if val in ctf]\n",
    "notctfpos = [val for val in tccounts.index if val not in ctf]"
   ]
  },
  {
   "cell_type": "markdown",
   "metadata": {},
   "source": [
    "# Let's look at how they change accross time\n",
    "\n",
    "how core transcription factors change accross time when the cell is with JQ1 conditions\n",
    "\n",
    "we are looking at the difference between production of each CTF compared to the average RNA production with JQ1 and without JQ1"
   ]
  },
  {
   "cell_type": "markdown",
   "metadata": {},
   "source": [
    "## DESEQ ANALYSIS"
   ]
  },
  {
   "cell_type": "code",
   "execution_count": 160,
   "metadata": {},
   "outputs": [],
   "source": [
    "readcounts[\"genes\"] = readcounts.index\n",
    "readcounts = readcounts.reset_index(drop=True)\n",
    "tccounts[\"genes\"] = tccounts.index\n",
    "tccounts = tccounts.reset_index(drop=True)"
   ]
  },
  {
   "cell_type": "code",
   "execution_count": 164,
   "metadata": {},
   "outputs": [],
   "source": [
    "design = pd.DataFrame(index= [i.replace('-','.') for i in tccounts.columns[:-1]], \n",
    "                      columns=['DMSO','VHL'], \n",
    "                      data=np.array([[1,1,1,1,0,0,0,0],\n",
    "                                    [0,0,0,0,1,1,1,1]],dtype=bool).T)"
   ]
  },
  {
   "cell_type": "markdown",
   "metadata": {},
   "source": [
    "### Differential gene expression analysis, PCA and GO-term enrichment\n",
    "\n",
    "For gene-level analysis, raw reads mapped to different UTR annotations of the same gene were summed up by Entrez Gene ID. Pilot studies of K562 cells with kinase inhibitors were performed as single experiments. \n",
    "\n",
    "Analysis of differential gene expression was restricted to genes with ≥ 10 reads in at least one condition for 50bp sequencing runs (flavopiridol and DMSO) or ≥ 20 reads in at least one condition for 100bp sequencing runs (mk2206, trametinib, nilotinib, trametinib + mk2206 and DMSO). For estimating differential expression, a pseudo-count of 1 raw read was added to all genes.\n",
    "\n",
    "#### All other SLAM-seq experiments were performed in triplicates and analyzed as follows. \n",
    "Differential gene expression calling was performed on raw read counts with ≥ 2 T>C conversions using DESeq2 (version 1.14.1) with default settings, and with size factors estimated on corresponding total mRNA reads for global normalization.\n",
    "\n",
    "Downstream analysis was restricted to genes passing all internal filters for FDR estimation by DESeq2. Principal component analysis was performed after variance\n",
    "stabilizing transformation on the 500 most variable genes across all conditions of a given\n",
    "experiment. GO-term enrichment analysis was performed on genes significantly and strongly downregulated (FDR ≤ 0.1, log2FC ≤ -1) in SLAM-seq upon IAA-treatment in K562MYC-AID + Tir1 by the PANTHER Overrepresentation Test (Fisher's Exact with FDR multiple test correction, release 20171205, http://pantherdb.org) on GO Ontology database Released 2017-12-27."
   ]
  },
  {
   "cell_type": "code",
   "execution_count": 165,
   "metadata": {},
   "outputs": [],
   "source": [
    "scaling=\"ERCCsamplewise\""
   ]
  },
  {
   "cell_type": "code",
   "execution_count": 167,
   "metadata": {},
   "outputs": [
    {
     "name": "stdout",
     "output_type": "stream",
     "text": [
      "you need to have R installed with the DESeq2 library installed\n",
      "3.3.2\n"
     ]
    }
   ],
   "source": [
    "loc = [1,1,1,1,1,1,1,1]\n",
    "\n",
    "deseq = pyDESeq2.pyDESeq2(count_matrix = tccounts[tccounts.columns[np.array(loc+[1],np.bool)]],\n",
    "                         design_matrix=design[np.array(loc,np.bool)],\n",
    "                         design_formula=\"~DMSO - VHL\",\n",
    "                         gene_column=\"genes\")"
   ]
  },
  {
   "cell_type": "markdown",
   "metadata": {},
   "source": [
    "## estimating size factors"
   ]
  },
  {
   "cell_type": "markdown",
   "metadata": {},
   "source": [
    "#### MEF2D"
   ]
  },
  {
   "cell_type": "code",
   "execution_count": 168,
   "metadata": {},
   "outputs": [],
   "source": [
    "deseq.run_estimate_size_factors(geoMeans = np.exp(np.mean(np.log(readcounts[tccounts.columns[\n",
    "        np.array([0,0,0,0,1,1,1,1,0],np.bool)]].values+1),1)))"
   ]
  },
  {
   "cell_type": "markdown",
   "metadata": {},
   "source": [
    "## other size factor estimations"
   ]
  },
  {
   "cell_type": "code",
   "execution_count": 135,
   "metadata": {},
   "outputs": [],
   "source": [
    "# from https://www.cell.com/trends/genetics/pdf/S0168-9525(13)00089-9.pdf FFROM THOUSANDS OF SAMPLES\n",
    "housekeeping1 = [\"C1orf43\", \"CHMP2A\", \"EMC7\", \"GPI\", \"PSMB2\", \"PSMB4\", \"RAB7A\", \"REEP5\", \"SNRPD3\", \"VCP\", \"VPS29\"]\n",
    "\n",
    "#https://www.ncbi.nlm.nih.gov/pmc/articles/PMC4760967/ FOR CANCER CELL LINES\n",
    "housekeeping2 = ['18S rRNA',\n",
    "'ACTB',\n",
    "'B2M',\n",
    "'G6PD',\n",
    "'GAPDH',\n",
    "'GUSB',\n",
    "'HMBS',\n",
    "'HPRT1',\n",
    "'PGK1',\n",
    "'PPIA',\n",
    "'RPL13a',\n",
    "'SDHA',\n",
    "'TBP',\n",
    "'TUBB',\n",
    "'YWHAZ']"
   ]
  },
  {
   "cell_type": "code",
   "execution_count": 136,
   "metadata": {},
   "outputs": [],
   "source": [
    "housekeeping = readcounts.genes.isin(housekeeping2)"
   ]
  },
  {
   "cell_type": "code",
   "execution_count": 231,
   "metadata": {},
   "outputs": [],
   "source": [
    "readcountsMybi= readcounts[readcounts.columns[16:-1]]\n",
    "\n",
    "deseqMybi.run_estimate_size_factors(geoMeans = np.exp(np.mean(np.log(\n",
    "    readcountsMybi[readcountsMybi.columns[np.array([1,1,1,1,0,0,0], np.bool)]].values+1), 1)), controlGenes=housekeeping)"
   ]
  },
  {
   "cell_type": "markdown",
   "metadata": {},
   "source": [
    "## Modifying size factors"
   ]
  },
  {
   "cell_type": "code",
   "execution_count": 169,
   "metadata": {
    "scrolled": true
   },
   "outputs": [
    {
     "data": {
      "text/plain": [
       "{'DMSO': [97.72708711152382, 15.876520839037093],\n",
       " 'YLK': [98.15039682666358, 11.809637537738645]}"
      ]
     },
     "execution_count": 169,
     "metadata": {},
     "output_type": "execute_result"
    }
   ],
   "source": [
    "r"
   ]
  },
  {
   "cell_type": "code",
   "execution_count": 170,
   "metadata": {},
   "outputs": [],
   "source": [
    "sizeFact = deseq.getSizeFactors()"
   ]
  },
  {
   "cell_type": "code",
   "execution_count": 171,
   "metadata": {},
   "outputs": [
    {
     "data": {
      "text/plain": [
       "array([1.11650586, 1.35780155, 1.16316956, 1.15412787, 0.55449175,\n",
       "       0.84021682, 0.81847341, 1.28858983])"
      ]
     },
     "execution_count": 171,
     "metadata": {},
     "output_type": "execute_result"
    }
   ],
   "source": [
    "sizeFact"
   ]
  },
  {
   "cell_type": "code",
   "execution_count": 647,
   "metadata": {},
   "outputs": [],
   "source": [
    "sizeFact[4:] = sizeFact[4:]*(res[[i for i in res.index if '-VHL_24h-' in i]].values/res[[i for i in res.index if '-DMSO_24h-' in i]].values.mean())"
   ]
  },
  {
   "cell_type": "code",
   "execution_count": 648,
   "metadata": {},
   "outputs": [],
   "source": [
    "deseq.setSizeFactors(sizeFact)"
   ]
  },
  {
   "cell_type": "markdown",
   "metadata": {},
   "source": [
    "## running it"
   ]
  },
  {
   "cell_type": "code",
   "execution_count": 172,
   "metadata": {},
   "outputs": [
    {
     "name": "stderr",
     "output_type": "stream",
     "text": [
      "R[write to console]: using pre-existing size factors\n",
      "\n",
      "R[write to console]: estimating dispersions\n",
      "\n",
      "R[write to console]: gene-wise dispersion estimates\n",
      "\n",
      "R[write to console]: mean-dispersion relationship\n",
      "\n",
      "R[write to console]: final dispersion estimates\n",
      "\n",
      "R[write to console]: fitting model and testing\n",
      "\n"
     ]
    }
   ],
   "source": [
    "deseq.run_deseq()\n",
    "deseq.get_deseq_result()\n",
    "res = deseq.deseq_result\n",
    "res.pvalue = np.nan_to_num(np.array(res.pvalue), 1)\n",
    "res.log2FoldChange = np.nan_to_num(np.array(res.log2FoldChange), 0)\n",
    "res.log2FoldChange = -res.log2FoldChange\n",
    "res[\"gene_id\"] = res.genes"
   ]
  },
  {
   "cell_type": "markdown",
   "metadata": {},
   "source": [
    "## PLOTS"
   ]
  },
  {
   "cell_type": "markdown",
   "metadata": {},
   "source": [
    "### whisker's plots"
   ]
  },
  {
   "cell_type": "code",
   "execution_count": 173,
   "metadata": {},
   "outputs": [],
   "source": [
    "%matplotlib inline"
   ]
  },
  {
   "cell_type": "code",
   "execution_count": 174,
   "metadata": {
    "scrolled": true
   },
   "outputs": [
    {
     "name": "stderr",
     "output_type": "stream",
     "text": [
      "/home/jeremie/.local/lib/python3.8/site-packages/pandas/core/generic.py:5303: SettingWithCopyWarning: \n",
      "A value is trying to be set on a copy of a slice from a DataFrame.\n",
      "Try using .loc[row_indexer,col_indexer] = value instead\n",
      "\n",
      "See the caveats in the documentation: https://pandas.pydata.org/pandas-docs/stable/user_guide/indexing.html#returning-a-view-versus-a-copy\n",
      "  self[name] = value\n",
      "<ipython-input-174-f7fcada9403f>:3: SettingWithCopyWarning: \n",
      "A value is trying to be set on a copy of a slice from a DataFrame.\n",
      "Try using .loc[row_indexer,col_indexer] = value instead\n",
      "\n",
      "See the caveats in the documentation: https://pandas.pydata.org/pandas-docs/stable/user_guide/indexing.html#returning-a-view-versus-a-copy\n",
      "  re[\"type\"] = ['ctf' if i else \"other\" for i in  re.genes.isin(ctf)]\n"
     ]
    }
   ],
   "source": [
    "re = res[res.baseMean>10]\n",
    "re.baseMean= np.log2(1+re.baseMean)\n",
    "re[\"type\"] = ['ctf' if i else \"other\" for i in  re.genes.isin(ctf)]"
   ]
  },
  {
   "cell_type": "code",
   "execution_count": 177,
   "metadata": {
    "scrolled": true
   },
   "outputs": [
    {
     "data": {
      "image/png": "[encoded data removed]",
      "text/plain": [
       "<Figure size 432x288 with 1 Axes>"
      ]
     },
     "metadata": {
      "needs_background": "light"
     },
     "output_type": "display_data"
    }
   ],
   "source": [
    "ax = sns.boxplot(data=re,x='type',y='log2FoldChange').set_title(\"YLK foldChange\")\n",
    "ax.figure.savefig('../results/'+project+\"/plots/\"+version+\"_\"+scaling+\"_whiskers_YLK_logfch.pdf\")"
   ]
  },
  {
   "cell_type": "code",
   "execution_count": 178,
   "metadata": {},
   "outputs": [
    {
     "data": {
      "image/png": "[encoded data removed]",
      "text/plain": [
       "<Figure size 432x288 with 1 Axes>"
      ]
     },
     "metadata": {
      "needs_background": "light"
     },
     "output_type": "display_data"
    }
   ],
   "source": [
    "ax =sns.boxplot(data=re,x='type',y='baseMean')\n",
    "ax.set_title(\"YLK baseMean\")\n",
    "ax.figure.savefig('../results/'+project+\"/plots/\"+version+\"_\"+scaling+\"_whiskers_YLK_baseMean.pdf\")"
   ]
  },
  {
   "cell_type": "markdown",
   "metadata": {},
   "source": [
    "## Regular volcanos"
   ]
  },
  {
   "cell_type": "code",
   "execution_count": 179,
   "metadata": {},
   "outputs": [],
   "source": [
    "res.to_csv(\"../results/\"+project+\"/\"+version+'_'+scaling+\"_\"+str(minvar_toremove)+'_'+str(mincount_toremove)+'_deseq.csv')"
   ]
  },
  {
   "cell_type": "markdown",
   "metadata": {},
   "source": [
    "we can conclude that we get similar results to the slamseq myc paper although it seems that our values are a bit skewed toward higher expression than what is on the slamseq paper. It mightt be explained by the pseudo count of 1 that I did not set. Because I think it would highly bias the DESeq algorithm."
   ]
  },
  {
   "cell_type": "code",
   "execution_count": 182,
   "metadata": {
    "scrolled": false
   },
   "outputs": [
    {
     "name": "stderr",
     "output_type": "stream",
     "text": [
      "/home/jeremie/.local/lib/python3.8/site-packages/bokeh/io/saving.py:125: UserWarning: save() called but no resources were supplied and output_file(...) was never called, defaulting to resources.CDN\n",
      "  warn(\"save() called but no resources were supplied and output_file(...) was never called, defaulting to resources.CDN\")\n",
      "/home/jeremie/.local/lib/python3.8/site-packages/bokeh/io/saving.py:138: UserWarning: save() called but no title was supplied and output_file(...) was never called, using default title 'Bokeh Plot'\n",
      "  warn(\"save() called but no title was supplied and output_file(...) was never called, using default title 'Bokeh Plot'\")\n"
     ]
    },
    {
     "data": {
      "text/html": [
       "\n",
       "\n",
       "\n",
       "\n",
       "\n",
       "\n",
       "  <div class=\"bk-root\" id=\"cdc682d9-135c-474f-ac45-5e2c3a9310fd\" data-root-id=\"1058\"></div>\n"
      ]
     },
     "metadata": {},
     "output_type": "display_data"
    },
    {
     "data": {
      "application/javascript": [
       "(function(root) {\n",
       "  function embed_document(root) {\n",
       "    \n",
       "  var docs_json = {\"fd4b19d7-8662-4314-b34f-24427d507609\":{\"roots\":{\"references\":[{\"attributes\":{\"children\":[{\"id\":\"1056\"},{\"id\":\"1005\"}]},\"id\":\"1058\",\"type\":\"Column\"},{\"attributes\":{\"fill_color\":{\"value\":null},\"size\":{\"units\":\"screen\",\"value\":7},\"x\":{\"field\":\"log2FoldChange\"},\"y\":{\"field\":\"transformed_q\"}},\"id\":\"1052\",\"type\":\"Scatter\"},{\"attributes\":{},\"id\":\"1027\",\"type\":\"SaveTool\"},{\"attributes\":{\"args\":{\"source\":{\"id\":\"1039\"}},\"code\":\"\\n      var data = source.data\\n      var value = cb_obj.value\\n      var gene_id = data.gene_id\\n      var a = -1\\n      for (i=0; i < gene_id.length; i++) {\\n          if ( gene_id[i]===value ) { a=i; console.log(i); data.size[i]=7; data.alpha[i]=1; data.color[i]='#fc8d59' }\\n      }\\n      source.data = data\\n      console.log(source)\\n      console.log(cb_obj)\\n      source.change.emit()\\n      console.log(source)\\n      \"},\"id\":\"1057\",\"type\":\"CustomJS\"},{\"attributes\":{\"fill_alpha\":{\"value\":0.1},\"fill_color\":{\"value\":null},\"line_alpha\":{\"value\":0.1},\"size\":{\"units\":\"screen\",\"value\":7},\"x\":{\"field\":\"log2FoldChange\"},\"y\":{\"field\":\"transformed_q\"}},\"id\":\"1053\",\"type\":\"Scatter\"},{\"attributes\":{\"data\":{\"alpha\":{\"__ndarray__\":\"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\",\"dtype\":\"float64\",\"shape\":[1566]},\"baseMean\":{\"__ndarray__\":\"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\",\"dtype\":\"float64\",\"shape\":[1566]},\"color\":[\"#1a9641\",\"#1a9641\",\"#1a9641\",\"#1a9641\",\"#1a9641\",\"#1a9641\",\"#1a9641\",\"#1a9641\",\"#1a9641\",\"#1a9641\",\"#1a9641\",\"#1a9641\",\"#1a9641\",\"#1a9641\",\"#1a9641\",\"#1a9641\",\"#1a9641\",\"#1a9641\",\"#1a9641\",\"#1a9641\",\"#1a9641\",\"#1a9641\",\"#1a9641\",\"#1a9641\",\"#1a9641\",\"#1a9641\",\"#1a9641\",\"#1a9641\",\"#1a9641\",\"#1a9641\",\"#1a9641\",\"#1a9641\",\"#1a9641\",\"#1a9641\",\"#1a9641\",\"#1a9641\",\"#1a9641\",\"#1a9641\",\"#1a9641\",\"#1a9641\",\"#1a9641\",\"#1a9641\",\"#1a9641\",\"#1a9641\",\"#1a9641\",\"#1a9641\",\"#1a9641\",\"#1a9641\",\"#1a9641\",\"#1a9641\",\"#1a9641\",\"#1a9641\",\"#1a9641\",\"#1a9641\",\"#1a9641\",\"#1a9641\",\"#1a9641\",\"#1a9641\",\"#1a9641\",\"#1a9641\",\"#1a9641\",\"#1a9641\",\"#1a9641\",\"#1a9641\",\"#1a9641\",\"#1a9641\",\"#1a9641\",\"#1a9641\",\"#1a9641\",\"#1a9641\",\"#1a9641\",\"#1a9641\",\"#1a9641\",\"#1a9641\",\"#1a9641\",\"#1a9641\",\"#1a9641\",\"#1a9641\",\"#1a9641\",\"#1a9641\",\"#1a9641\",\"#1a9641\",\"#1a9641\",\"#1a9641\",\"#1a9641\",\"#1a9641\",\"#1a9641\",\"#1a9641\",\"#1a9641\",\"#1a9641\",\"#1a9641\",\"#1a9641\",\"#1a9641\",\"#1a9641\",\"#1a9641\",\"#1a9641\",\"#1a9641\",\"#1a9641\",\"#1a9641\",\"#1a9641\",\"#1a9641\",\"#1a9641\",\"#1a9641\",\"#1a9641\",\"#1a9641\",\"#1a9641\",\"#1a9641\",\"#1a9641\",\"#1a9641\",\"#1a9641\",\"#1a9641\",\"#1a9641\",\"#1a9641\",\"#1a9641\",\"#1a9641\",\"#1a9641\",\"#1a9641\",\"#1a9641\",\"#1a9641\",\"#1a9641\",\"#1a9641\",\"#1a9641\",\"#1a9641\",\"#1a9641\",\"#1a9641\",\"#1a9641\",\"#1a9641\",\"#1a9641\",\"#1a9641\",\"#1a9641\",\"#1a9641\",\"#1a9641\",\"#1a9641\",\"#1a9641\",\"#1a9641\",\"#1a9641\",\"#1a9641\",\"#1a9641\",\"#1a9641\",\"#1a9641\",\"#1a9641\",\"#1a9641\",\"#1a9641\",\"#1a9641\",\"#1a9641\",\"#1a9641\",\"#1a9641\",\"#1a9641\",\"#1a9641\",\"#1a9641\",\"#1a9641\",\"#1a9641\",\"#1a9641\",\"#1a9641\",\"#1a9641\",\"#1a9641\",\"#1a9641\",\"#1a9641\",\"#1a9641\",\"#1a9641\",\"#1a9641\",\"#1a9641\",\"#1a9641\",\"#1a9641\",\"#1a9641\",\"#1a9641\",\"#1a9641\",\"#1a9641\",\"#1a9641\",\"#1a9641\",\"#1a9641\",\"#1a9641\",\"#1a9641\",\"#1a9641\",\"#1a9641\",\"#1a9641\",\"#1a9641\",\"#1a9641\",\"#1a9641\",\"#1a9641\",\"#1a9641\",\"#1a9641\",\"#1a9641\",\"#1a9641\",\"#1a9641\",\"#1a9641\",\"#1a9641\",\"#1a9641\",\"#1a9641\",\"#1a9641\",\"#1a9641\",\"#1a9641\",\"#1a9641\",\"#1a9641\",\"#1a9641\",\"#1a9641\",\"#1a9641\",\"#1a9641\",\"#1a9641\",\"#1a9641\",\"#1a9641\",\"#1a9641\",\"#1a9641\",\"#1a9641\",\"#1a9641\",\"#1a9641\",\"#1a9641\",\"#1a9641\",\"#1a9641\",\"#1a9641\",\"#1a9641\",\"#1a9641\",\"#1a9641\",\"#1a9641\",\"#1a9641\",\"#1a9641\",\"#1a9641\",\"#1a9641\",\"#1a9641\",\"#1a9641\",\"#1a9641\",\"#1a9641\",\"#1a9641\",\"#1a9641\",\"#1a9641\",\"#1a9641\",\"#1a9641\",\"#1a9641\",\"#1a9641\",\"#1a9641\",\"#1a9641\",\"#1a9641\",\"#1a9641\",\"#1a9641\",\"#1a9641\",\"#1a9641\",\"#1a9641\",\"#1a9641\",\"#1a9641\",\"#1a9641\",\"#1a9641\",\"#1a9641\",\"#1a9641\",\"#1a9641\",\"#1a9641\",\"#1a9641\",\"#1a9641\",\"#1a9641\",\"#1a9641\",\"#1a9641\",\"#1a9641\",\"#1a9641\",\"#1a9641\",\"#1a9641\",\"#1a9641\",\"#1a9641\",\"#1a9641\",\"#1a9641\",\"#1a9641\",\"#1a9641\",\"#1a9641\",\"#1a9641\",\"#1a9641\",\"#1a9641\",\"#1a9641\",\"#1a9641\",\"#1a9641\",\"#1a9641\",\"#1a9641\",\"#1a9641\",\"#1a9641\",\"#1a9641\",\"#1a9641\",\"#1a9641\",\"#1a9641\",\"#1a9641\",\"#1a9641\",\"#1a9641\",\"#1a9641\",\"#1a9641\",\"#1a9641\",\"#1a9641\",\"#1a9641\",\"#1a9641\",\"#1a9641\",\"#1a9641\",\"#1a9641\",\"#1a9641\",\"#1a9641\",\"#1a9641\",\"#1a9641\",\"#1a9641\",\"#1a9641\",\"#1a9641\",\"#1a9641\",\"#1a9641\",\"#1a9641\",\"#1a9641\",\"#1a9641\",\"#1a9641\",\"#1a9641\",\"#1a9641\",\"#1a9641\",\"#1a9641\",\"#1a9641\",\"#1a9641\",\"#1a9641\",\"#1a9641\",\"#1a9641\",\"#1a9641\",\"#1a9641\",\"#1a9641\",\"#1a9641\",\"#1a9641\",\"#1a9641\",\"#1a9641\",\"#1a9641\",\"#1a9641\",\"#1a9641\",\"#1a9641\",\"#1a9641\",\"#1a9641\",\"#1a9641\",\"#1a9641\",\"#1a9641\",\"#1a9641\",\"#1a9641\",\"#1a9641\",\"#1a9641\",\"#1a9641\",\"#1a9641\",\"#1a9641\",\"#1a9641\",\"#1a9641\",\"#1a9641\",\"#1a9641\",\"#1a9641\",\"#1a9641\",\"#1a9641\",\"#1a9641\",\"#1a9641\",\"#1a9641\",\"#1a9641\",\"#1a9641\",\"#1a9641\",\"#1a9641\",\"#1a9641\",\"#1a9641\",\"#1a9641\",\"#1a9641\",\"#1a9641\",\"#1a9641\",\"#1a9641\",\"#1a9641\",\"#1a9641\",\"#1a9641\",\"#1a9641\",\"#1a9641\",\"#1a9641\",\"#1a9641\",\"#1a9641\",\"#1a9641\",\"#1a9641\",\"#1a9641\",\"#1a9641\",\"#1a9641\",\"#1a9641\",\"#1a9641\",\"#1a9641\",\"#1a9641\",\"#1a9641\",\"#1a9641\",\"#1a9641\",\"#1a9641\",\"#1a9641\",\"#1a9641\",\"#1a9641\",\"#1a9641\",\"#1a9641\",\"#1a9641\",\"#1a9641\",\"#1a9641\",\"#1a9641\",\"#1a9641\",\"#1a9641\",\"#1a9641\",\"#1a9641\",\"#1a9641\",\"#1a9641\",\"#1a9641\",\"#1a9641\",\"#1a9641\",\"#1a9641\",\"#1a9641\",\"#1a9641\",\"#1a9641\",\"#1a9641\",\"#1a9641\",\"#1a9641\",\"#1a9641\",\"#1a9641\",\"#1a9641\",\"#1a9641\",\"#1a9641\",\"#1a9641\",\"#1a9641\",\"#1a9641\",\"#1a9641\",\"#1a9641\",\"#1a9641\",\"#1a9641\",\"#1a9641\",\"#1a9641\",\"#1a9641\",\"#1a9641\",\"#1a9641\",\"#1a9641\",\"#1a9641\",\"#1a9641\",\"#1a9641\",\"#1a9641\",\"#1a9641\",\"#1a9641\",\"#1a9641\",\"#1a9641\",\"#1a9641\",\"#1a9641\",\"#1a9641\",\"#1a9641\",\"#1a9641\",\"#1a9641\",\"#1a9641\",\"#1a9641\",\"#1a9641\",\"#1a9641\",\"#1a9641\",\"#1a9641\",\"#1a9641\",\"#1a9641\",\"#1a9641\",\"#1a9641\",\"#1a9641\",\"#1a9641\",\"#1a9641\",\"#1a9641\",\"#1a9641\",\"#1a9641\",\"#1a9641\",\"#1a9641\",\"#1a9641\",\"#1a9641\",\"#1a9641\",\"#1a9641\",\"#1a9641\",\"#1a9641\",\"#1a9641\",\"#1a9641\",\"#1a9641\",\"#1a9641\",\"#1a9641\",\"#1a9641\",\"#1a9641\",\"#1a9641\",\"#1a9641\",\"#1a9641\",\"#1a9641\",\"#1a9641\",\"#1a9641\",\"#1a9641\",\"#1a9641\",\"#1a9641\",\"#1a9641\",\"#1a9641\",\"#1a9641\",\"#1a9641\",\"#1a9641\",\"#1a9641\",\"#1a9641\",\"#1a9641\",\"#1a9641\",\"#1a9641\",\"#1a9641\",\"#1a9641\",\"#1a9641\",\"#1a9641\",\"#1a9641\",\"#1a9641\",\"#1a9641\",\"#1a9641\",\"#1a9641\",\"#1a9641\",\"#1a9641\",\"#1a9641\",\"#1a9641\",\"#1a9641\",\"#1a9641\",\"#1a9641\",\"#1a9641\",\"#1a9641\",\"#1a9641\",\"#1a9641\",\"#1a9641\",\"#1a9641\",\"#1a9641\",\"#1a9641\",\"#1a9641\",\"#1a9641\",\"#1a9641\",\"#1a9641\",\"#1a9641\",\"#1a9641\",\"#1a9641\",\"#1a9641\",\"#1a9641\",\"#1a9641\",\"#1a9641\",\"#1a9641\",\"#1a9641\",\"#1a9641\",\"#1a9641\",\"#1a9641\",\"#1a9641\",\"#1a9641\",\"#1a9641\",\"#1a9641\",\"#1a9641\",\"#1a9641\",\"#1a9641\",\"#1a9641\",\"#1a9641\",\"#1a9641\",\"#1a9641\",\"#1a9641\",\"#1a9641\",\"#1a9641\",\"#1a9641\",\"#1a9641\",\"#1a9641\",\"#1a9641\",\"#1a9641\",\"#1a9641\",\"#1a9641\",\"#1a9641\",\"#1a9641\",\"#1a9641\",\"#1a9641\",\"#1a9641\",\"#1a9641\",\"#1a9641\",\"#1a9641\",\"#1a9641\",\"#1a9641\",\"#1a9641\",\"#1a9641\",\"#1a9641\",\"#1a9641\",\"#1a9641\",\"#1a9641\",\"#1a9641\",\"#1a9641\",\"#1a9641\",\"#1a9641\",\"#1a9641\",\"#1a9641\",\"#1a9641\",\"#1a9641\",\"#1a9641\",\"#1a9641\",\"#1a9641\",\"#1a9641\",\"#1a9641\",\"#1a9641\",\"#1a9641\",\"#1a9641\",\"#1a9641\",\"#1a9641\",\"#1a9641\",\"#1a9641\",\"#1a9641\",\"#1a9641\",\"#1a9641\",\"#1a9641\",\"#1a9641\",\"#1a9641\",\"#1a9641\",\"#1a9641\",\"#1a9641\",\"#1a9641\",\"#1a9641\",\"#1a9641\",\"#1a9641\",\"#1a9641\",\"#1a9641\",\"#1a9641\",\"#1a9641\",\"#1a9641\",\"#1a9641\",\"#1a9641\",\"#1a9641\",\"#1a9641\",\"#1a9641\",\"#1a9641\",\"#1a9641\",\"#1a9641\",\"#1a9641\",\"#1a9641\",\"#1a9641\",\"#1a9641\",\"#1a9641\",\"#1a9641\",\"#1a9641\",\"#1a9641\",\"#1a9641\",\"#1a9641\",\"#1a9641\",\"#1a9641\",\"#1a9641\",\"#1a9641\",\"#1a9641\",\"#1a9641\",\"#1a9641\",\"#1a9641\",\"#1a9641\",\"#1a9641\",\"#1a9641\",\"#1a9641\",\"#1a9641\",\"#1a9641\",\"#1a9641\",\"#1a9641\",\"#1a9641\",\"#1a9641\",\"#1a9641\",\"#1a9641\",\"#1a9641\",\"#1a9641\",\"#1a9641\",\"#1a9641\",\"#1a9641\",\"#1a9641\",\"#1a9641\",\"#1a9641\",\"#1a9641\",\"#1a9641\",\"#1a9641\",\"#1a9641\",\"#1a9641\",\"#1a9641\",\"#1a9641\",\"#1a9641\",\"#1a9641\",\"#1a9641\",\"#1a9641\",\"#1a9641\",\"#1a9641\",\"#1a9641\",\"#1a9641\",\"#1a9641\",\"#1a9641\",\"#1a9641\",\"#1a9641\",\"#1a9641\",\"#1a9641\",\"#1a9641\",\"#1a9641\",\"#1a9641\",\"#1a9641\",\"#1a9641\",\"#1a9641\",\"#1a9641\",\"#1a9641\",\"#1a9641\",\"#1a9641\",\"#1a9641\",\"#1a9641\",\"#1a9641\",\"#1a9641\",\"#1a9641\",\"#1a9641\",\"#1a9641\",\"#1a9641\",\"#1a9641\",\"#1a9641\",\"#1a9641\",\"#1a9641\",\"#1a9641\",\"#1a9641\",\"#1a9641\",\"#1a9641\",\"#1a9641\",\"#1a9641\",\"#1a9641\",\"#1a9641\",\"#1a9641\",\"#1a9641\",\"#1a9641\",\"#1a9641\",\"#1a9641\",\"#1a9641\",\"#1a9641\",\"#1a9641\",\"#1a9641\",\"#1a9641\",\"#1a9641\",\"#1a9641\",\"#1a9641\",\"#1a9641\",\"#1a9641\",\"#1a9641\",\"#1a9641\",\"#1a9641\",\"#1a9641\",\"#1a9641\",\"#1a9641\",\"#1a9641\",\"#1a9641\",\"#1a9641\",\"#1a9641\",\"#1a9641\",\"#1a9641\",\"#1a9641\",\"#1a9641\",\"#1a9641\",\"#1a9641\",\"#1a9641\",\"#1a9641\",\"#1a9641\",\"#1a9641\",\"#1a9641\",\"#1a9641\",\"#1a9641\",\"#1a9641\",\"#1a9641\",\"#1a9641\",\"#1a9641\",\"#1a9641\",\"#1a9641\",\"#1a9641\",\"#1a9641\",\"#1a9641\",\"#1a9641\",\"#1a9641\",\"#1a9641\",\"#1a9641\",\"#1a9641\",\"#1a9641\",\"#1a9641\",\"#1a9641\",\"#1a9641\",\"#1a9641\",\"#1a9641\",\"#1a9641\",\"#1a9641\",\"#1a9641\",\"#1a9641\",\"#1a9641\",\"#1a9641\",\"#1a9641\",\"#1a9641\",\"#1a9641\",\"#1a9641\",\"#1a9641\",\"#1a9641\",\"#1a9641\",\"#1a9641\",\"#1a9641\",\"#1a9641\",\"#1a9641\",\"#1a9641\",\"#1a9641\",\"#1a9641\",\"#1a9641\",\"#1a9641\",\"#1a9641\",\"#1a9641\",\"#1a9641\",\"#1a9641\",\"#1a9641\",\"#1a9641\",\"#1a9641\",\"#1a9641\",\"#1a9641\",\"#1a9641\",\"#1a9641\",\"#1a9641\",\"#1a9641\",\"#1a9641\",\"#1a9641\",\"#1a9641\",\"#1a9641\",\"#1a9641\",\"#1a9641\",\"#1a9641\",\"#1a9641\",\"#1a9641\",\"#1a9641\",\"#1a9641\",\"#1a9641\",\"#1a9641\",\"#1a9641\",\"#1a9641\",\"#1a9641\",\"#1a9641\",\"#1a9641\",\"#1a9641\",\"#1a9641\",\"#1a9641\",\"#1a9641\",\"#1a9641\",\"#1a9641\",\"#1a9641\",\"#1a9641\",\"#1a9641\",\"#1a9641\",\"#1a9641\",\"#1a9641\",\"#1a9641\",\"#1a9641\",\"#1a9641\",\"#1a9641\",\"#1a9641\",\"#1a9641\",\"#1a9641\",\"#1a9641\",\"#1a9641\",\"#1a9641\",\"#1a9641\",\"#1a9641\",\"#1a9641\",\"#1a9641\",\"#1a9641\",\"#1a9641\",\"#1a9641\",\"#1a9641\",\"#1a9641\",\"#1a9641\",\"#1a9641\",\"#1a9641\",\"#1a9641\",\"#1a9641\",\"#1a9641\",\"#1a9641\",\"#1a9641\",\"#1a9641\",\"#1a9641\",\"#1a9641\",\"#1a9641\",\"#1a9641\",\"#1a9641\",\"#1a9641\",\"#1a9641\",\"#1a9641\",\"#1a9641\",\"#1a9641\",\"#1a9641\",\"#1a9641\",\"#1a9641\",\"#1a9641\",\"#1a9641\",\"#1a9641\",\"#1a9641\",\"#1a9641\",\"#1a9641\",\"#1a9641\",\"#1a9641\",\"#1a9641\",\"#1a9641\",\"#1a9641\",\"#1a9641\",\"#1a9641\",\"#1a9641\",\"#1a9641\",\"#1a9641\",\"#1a9641\",\"#1a9641\",\"#1a9641\",\"#1a9641\",\"#1a9641\",\"#1a9641\",\"#1a9641\",\"#1a9641\",\"#1a9641\",\"#1a9641\",\"#1a9641\",\"#1a9641\",\"#1a9641\",\"#1a9641\",\"#1a9641\",\"#1a9641\",\"#1a9641\",\"#1a9641\",\"#1a9641\",\"#1a9641\",\"#1a9641\",\"#1a9641\",\"#1a9641\",\"#1a9641\",\"#1a9641\",\"#1a9641\",\"#1a9641\",\"#1a9641\",\"#1a9641\",\"#1a9641\",\"#1a9641\",\"#1a9641\",\"#1a9641\",\"#1a9641\",\"#1a9641\",\"#1a9641\",\"#1a9641\",\"#1a9641\",\"#1a9641\",\"#1a9641\",\"#1a9641\",\"#1a9641\",\"#1a9641\",\"#1a9641\",\"#1a9641\",\"#1a9641\",\"#1a9641\",\"#1a9641\",\"#1a9641\",\"#1a9641\",\"#1a9641\",\"#1a9641\",\"#1a9641\",\"#1a9641\",\"#1a9641\",\"#1a9641\",\"#1a9641\",\"#1a9641\",\"#1a9641\",\"#1a9641\",\"#1a9641\",\"#1a9641\",\"#1a9641\",\"#1a9641\",\"#1a9641\",\"#1a9641\",\"#1a9641\",\"#1a9641\",\"#1a9641\",\"#1a9641\",\"#1a9641\",\"#1a9641\",\"#1a9641\",\"#1a9641\",\"#1a9641\",\"#1a9641\",\"#1a9641\",\"#1a9641\",\"#1a9641\",\"#1a9641\",\"#1a9641\",\"#1a9641\",\"#1a9641\",\"#1a9641\",\"#1a9641\",\"#1a9641\",\"#1a9641\",\"#1a9641\",\"#1a9641\",\"#1a9641\",\"#1a9641\",\"#1a9641\",\"#1a9641\",\"#1a9641\",\"#1a9641\",\"#1a9641\",\"#1a9641\",\"#1a9641\",\"#1a9641\",\"#1a9641\",\"#1a9641\",\"#1a9641\",\"#1a9641\",\"#1a9641\",\"#1a9641\",\"#1a9641\",\"#1a9641\",\"#1a9641\",\"#1a9641\",\"#1a9641\",\"#1a9641\",\"#1a9641\",\"#1a9641\",\"#1a9641\",\"#1a9641\",\"#1a9641\",\"#1a9641\",\"#1a9641\",\"#1a9641\",\"#1a9641\",\"#1a9641\",\"#1a9641\",\"#1a9641\",\"#1a9641\",\"#1a9641\",\"#1a9641\",\"#1a9641\",\"#1a9641\",\"#1a9641\",\"#1a9641\",\"#1a9641\",\"#1a9641\",\"#1a9641\",\"#1a9641\",\"#1a9641\",\"#1a9641\",\"#1a9641\",\"#1a9641\",\"#1a9641\",\"#1a9641\",\"#1a9641\",\"#1a9641\",\"#1a9641\",\"#1a9641\",\"#1a9641\",\"#1a9641\",\"#1a9641\",\"#1a9641\",\"#1a9641\",\"#1a9641\",\"#1a9641\",\"#1a9641\",\"#1a9641\",\"#1a9641\",\"#1a9641\",\"#1a9641\",\"#1a9641\",\"#1a9641\",\"#1a9641\",\"#1a9641\",\"#1a9641\",\"#1a9641\",\"#1a9641\",\"#1a9641\",\"#1a9641\",\"#1a9641\",\"#1a9641\",\"#1a9641\",\"#1a9641\",\"#1a9641\",\"#1a9641\",\"#1a9641\",\"#1a9641\",\"#1a9641\",\"#1a9641\",\"#1a9641\",\"#1a9641\",\"#1a9641\",\"#1a9641\",\"#1a9641\",\"#1a9641\",\"#1a9641\",\"#1a9641\",\"#1a9641\",\"#1a9641\",\"#1a9641\",\"#1a9641\",\"#1a9641\",\"#1a9641\",\"#1a9641\",\"#1a9641\",\"#1a9641\",\"#1a9641\",\"#1a9641\",\"#1a9641\",\"#1a9641\",\"#1a9641\",\"#1a9641\",\"#1a9641\",\"#1a9641\",\"#1a9641\",\"#1a9641\",\"#1a9641\",\"#1a9641\",\"#1a9641\",\"#1a9641\",\"#1a9641\",\"#1a9641\",\"#1a9641\",\"#1a9641\",\"#1a9641\",\"#1a9641\",\"#1a9641\",\"#1a9641\",\"#1a9641\",\"#1a9641\",\"#1a9641\",\"#1a9641\",\"#1a9641\",\"#1a9641\",\"#1a9641\",\"#1a9641\",\"#1a9641\",\"#1a9641\",\"#1a9641\",\"#1a9641\",\"#1a9641\",\"#1a9641\",\"#1a9641\",\"#1a9641\",\"#1a9641\",\"#1a9641\",\"#1a9641\",\"#1a9641\",\"#1a9641\",\"#1a9641\",\"#1a9641\",\"#1a9641\",\"#1a9641\",\"#1a9641\",\"#1a9641\",\"#1a9641\",\"#1a9641\",\"#1a9641\",\"#1a9641\",\"#1a9641\",\"#1a9641\",\"#1a9641\",\"#1a9641\",\"#1a9641\",\"#1a9641\",\"#1a9641\",\"#1a9641\",\"#1a9641\",\"#1a9641\",\"#1a9641\",\"#1a9641\",\"#1a9641\",\"#1a9641\",\"#1a9641\",\"#1a9641\",\"#1a9641\",\"#1a9641\",\"#1a9641\",\"#1a9641\",\"#1a9641\",\"#1a9641\",\"#1a9641\",\"#1a9641\",\"#1a9641\",\"#1a9641\",\"#1a9641\",\"#1a9641\",\"#1a9641\",\"#1a9641\",\"#1a9641\",\"#1a9641\",\"#1a9641\",\"#1a9641\",\"#1a9641\",\"#1a9641\",\"#1a9641\",\"#1a9641\",\"#1a9641\",\"#1a9641\",\"#1a9641\",\"#1a9641\",\"#1a9641\",\"#1a9641\",\"#1a9641\",\"#1a9641\",\"#1a9641\",\"#1a9641\",\"#1a9641\",\"#1a9641\",\"#1a9641\",\"#1a9641\",\"#1a9641\",\"#1a9641\",\"#1a9641\",\"#1a9641\",\"#1a9641\",\"#1a9641\",\"#1a9641\",\"#1a9641\",\"#1a9641\",\"#1a9641\",\"#1a9641\",\"#1a9641\",\"#1a9641\",\"#1a9641\",\"#1a9641\",\"#1a9641\",\"#1a9641\",\"#1a9641\",\"#1a9641\",\"#1a9641\",\"#1a9641\",\"#1a9641\",\"#1a9641\",\"#1a9641\",\"#1a9641\",\"#1a9641\",\"#1a9641\",\"#1a9641\",\"#1a9641\",\"#1a9641\",\"#1a9641\",\"#1a9641\",\"#1a9641\",\"#1a9641\",\"#1a9641\",\"#1a9641\",\"#1a9641\",\"#1a9641\",\"#1a9641\",\"#1a9641\",\"#1a9641\",\"#1a9641\",\"#1a9641\",\"#1a9641\",\"#1a9641\",\"#1a9641\",\"#1a9641\",\"#1a9641\",\"#1a9641\",\"#1a9641\",\"#1a9641\",\"#1a9641\",\"#1a9641\",\"#1a9641\",\"#1a9641\",\"#1a9641\",\"#1a9641\",\"#1a9641\",\"#1a9641\",\"#1a9641\",\"#1a9641\",\"#1a9641\",\"#1a9641\",\"#1a9641\",\"#1a9641\",\"#1a9641\",\"#1a9641\",\"#1a9641\",\"#1a9641\",\"#1a9641\",\"#1a9641\",\"#1a9641\",\"#1a9641\",\"#1a9641\",\"#1a9641\",\"#1a9641\",\"#1a9641\",\"#1a9641\",\"#1a9641\",\"#1a9641\",\"#1a9641\",\"#1a9641\",\"#1a9641\",\"#1a9641\",\"#1a9641\",\"#1a9641\",\"#1a9641\",\"#1a9641\",\"#1a9641\",\"#1a9641\",\"#1a9641\",\"#1a9641\",\"#1a9641\",\"#1a9641\",\"#1a9641\",\"#1a9641\",\"#1a9641\",\"#1a9641\",\"#1a9641\",\"#1a9641\",\"#1a9641\",\"#1a9641\",\"#1a9641\",\"#1a9641\",\"#1a9641\",\"#1a9641\",\"#1a9641\",\"#1a9641\",\"#1a9641\",\"#1a9641\",\"#1a9641\",\"#1a9641\",\"#1a9641\",\"#1a9641\",\"#1a9641\",\"#1a9641\",\"#1a9641\",\"#1a9641\",\"#1a9641\",\"#1a9641\",\"#1a9641\",\"#1a9641\",\"#1a9641\",\"#1a9641\",\"#1a9641\",\"#1a9641\",\"#1a9641\",\"#1a9641\",\"#1a9641\",\"#1a9641\",\"#1a9641\",\"#1a9641\",\"#1a9641\",\"#1a9641\",\"#1a9641\",\"#1a9641\",\"#1a9641\",\"#1a9641\",\"#1a9641\",\"#1a9641\",\"#1a9641\",\"#1a9641\",\"#1a9641\",\"#1a9641\",\"#1a9641\",\"#1a9641\",\"#1a9641\",\"#1a9641\",\"#1a9641\",\"#1a9641\",\"#1a9641\",\"#1a9641\",\"#1a9641\",\"#1a9641\",\"#1a9641\",\"#1a9641\",\"#1a9641\",\"#1a9641\",\"#1a9641\",\"#1a9641\",\"#1a9641\",\"#1a9641\",\"#1a9641\",\"#1a9641\",\"#1a9641\",\"#1a9641\",\"#1a9641\",\"#1a9641\",\"#1a9641\",\"#1a9641\",\"#1a9641\",\"#1a9641\",\"#1a9641\",\"#1a9641\",\"#1a9641\",\"#1a9641\",\"#1a9641\",\"#1a9641\",\"#1a9641\",\"#1a9641\",\"#1a9641\",\"#1a9641\",\"#1a9641\",\"#1a9641\",\"#1a9641\",\"#1a9641\",\"#1a9641\",\"#1a9641\",\"#1a9641\",\"#1a9641\",\"#1a9641\",\"#1a9641\",\"#1a9641\",\"#1a9641\",\"#1a9641\",\"#1a9641\",\"#1a9641\",\"#1a9641\",\"#1a9641\",\"#1a9641\",\"#1a9641\",\"#1a9641\",\"#1a9641\",\"#1a9641\",\"#1a9641\",\"#1a9641\",\"#1a9641\",\"#1a9641\",\"#1a9641\",\"#1a9641\",\"#1a9641\",\"#1a9641\",\"#1a9641\",\"#1a9641\",\"#1a9641\",\"#1a9641\",\"#1a9641\",\"#1a9641\",\"#1a9641\",\"#1a9641\",\"#1a9641\",\"#1a9641\",\"#1a9641\",\"#1a9641\",\"#1a9641\",\"#1a9641\",\"#1a9641\",\"#1a9641\",\"#1a9641\",\"#1a9641\",\"#1a9641\",\"#1a9641\",\"#1a9641\",\"#1a9641\",\"#1a9641\",\"#1a9641\",\"#1a9641\",\"#1a9641\",\"#1a9641\",\"#1a9641\",\"#1a9641\",\"#1a9641\",\"#1a9641\",\"#1a9641\",\"#1a9641\",\"#1a9641\",\"#1a9641\",\"#1a9641\",\"#1a9641\",\"#1a9641\",\"#1a9641\",\"#1a9641\",\"#1a9641\",\"#1a9641\",\"#1a9641\",\"#1a9641\",\"#1a9641\",\"#1a9641\",\"#1a9641\",\"#1a9641\",\"#1a9641\",\"#1a9641\",\"#1a9641\",\"#1a9641\",\"#1a9641\",\"#1a9641\",\"#1a9641\",\"#1a9641\",\"#1a9641\",\"#1a9641\",\"#1a9641\",\"#1a9641\",\"#1a9641\",\"#1a9641\",\"#1a9641\",\"#1a9641\",\"#1a9641\",\"#1a9641\",\"#1a9641\",\"#1a9641\",\"#1a9641\",\"#1a9641\",\"#1a9641\",\"#1a9641\",\"#1a9641\",\"#1a9641\",\"#1a9641\",\"#1a9641\",\"#1a9641\",\"#1a9641\",\"#1a9641\",\"#1a9641\",\"#1a9641\",\"#1a9641\",\"#1a9641\",\"#1a9641\",\"#1a9641\",\"#1a9641\",\"#1a9641\",\"#1a9641\",\"#1a9641\",\"#1a9641\",\"#1a9641\",\"#1a9641\",\"#1a9641\",\"#1a9641\",\"#1a9641\",\"#1a9641\",\"#1a9641\",\"#1a9641\",\"#1a9641\",\"#1a9641\",\"#1a9641\",\"#1a9641\",\"#1a9641\",\"#1a9641\",\"#1a9641\",\"#1a9641\",\"#1a9641\",\"#1a9641\",\"#1a9641\",\"#1a9641\",\"#1a9641\",\"#1a9641\",\"#1a9641\",\"#1a9641\",\"#1a9641\",\"#1a9641\",\"#1a9641\",\"#1a9641\",\"#1a9641\",\"#1a9641\",\"#1a9641\",\"#1a9641\",\"#1a9641\",\"#1a9641\",\"#1a9641\",\"#1a9641\",\"#1a9641\",\"#1a9641\",\"#1a9641\",\"#1a9641\",\"#1a9641\",\"#1a9641\",\"#1a9641\",\"#1a9641\",\"#1a9641\",\"#1a9641\",\"#1a9641\",\"#1a9641\",\"#1a9641\",\"#1a9641\",\"#1a9641\",\"#1a9641\",\"#1a9641\",\"#1a9641\",\"#1a9641\",\"#1a9641\",\"#1a9641\",\"#1a9641\",\"#1a9641\",\"#1a9641\",\"#1a9641\",\"#1a9641\",\"#1a9641\",\"#1a9641\",\"#1a9641\",\"#1a9641\",\"#1a9641\",\"#1a9641\",\"#1a9641\",\"#1a9641\",\"#1a9641\",\"#1a9641\",\"#1a9641\",\"#1a9641\",\"#1a9641\",\"#1a9641\",\"#1a9641\",\"#1a9641\",\"#1a9641\",\"#1a9641\",\"#1a9641\",\"#1a9641\",\"#1a9641\",\"#1a9641\",\"#1a9641\",\"#1a9641\",\"#1a9641\",\"#1a9641\",\"#1a9641\",\"#1a9641\",\"#1a9641\",\"#1a9641\",\"#1a9641\",\"#1a9641\"],\"gene_id\":[\"ACVR1B\",\"ACVR2B\",\"ADA\",\"ADCY9\",\"ADORA2A\",\"ADRB2\",\"GRK2\",\"AHR\",\"ALOX5AP\",\"ANXA1\",\"APBB1\",\"APOC2\",\"ARCN1\",\"ARF3\",\"ARF6\",\"RHOB\",\"RHOG\",\"ARHGAP1\",\"ARHGDIB\",\"ARNT\",\"ARRB1\",\"ARRB2\",\"ARSB\",\"STS\",\"ATF3\",\"ATP2B1\",\"ATP5MC3\",\"ATP6V1B2\",\"BACH1\",\"BARD1\",\"BCL2\",\"BCL3\",\"BCL6\",\"BDNF\",\"BID\",\"PRDM1\",\"BNIP1\",\"BNIP2\",\"BRCA1\",\"ZFP36L2\",\"KLF9\",\"BTG1\",\"BTK\",\"C3AR1\",\"CALM1\",\"CAPNS1\",\"CASP3\",\"CASP9\",\"CASP10\",\"CAT\",\"CBFA2T3\",\"RUNX3\",\"CBFB\",\"CBL\",\"CBR1\",\"CCNA2\",\"CCND2\",\"CCND3\",\"CCNF\",\"CCNG2\",\"CCNT1\",\"CD1D\",\"MS4A3\",\"CD86\",\"CDK6\",\"CDKN1A\",\"CDKN1B\",\"CDKN2B\",\"CDKN2D\",\"CEBPD\",\"CEBPG\",\"CENPA\",\"FOXN3\",\"CHML\",\"CHRM5\",\"CISH\",\"CCR1\",\"KLF6\",\"SLC31A1\",\"CPT1A\",\"CREM\",\"CRKL\",\"CSF1R\",\"CSNK1E\",\"SLC25A10\",\"CTNS\",\"CTSB\",\"CTSG\",\"CTSZ\",\"CUX1\",\"CX3CR1\",\"CYB5A\",\"CYP51A1\",\"DAD1\",\"CD55\",\"DAG1\",\"DCK\",\"GADD45A\",\"DDX3X\",\"DDX6\",\"DIAPH1\",\"DLAT\",\"DLST\",\"DOCK2\",\"DR1\",\"ARID3A\",\"RCAN1\",\"TSC22D3\",\"HBEGF\",\"DUSP1\",\"DUSP3\",\"DUSP6\",\"DVL1\",\"TOR1A\",\"E2F2\",\"GPR183\",\"EFNA3\",\"EFNB1\",\"EGR1\",\"EGR2\",\"EGR3\",\"EIF2S3\",\"EIF4EBP1\",\"EIF4EBP2\",\"ELF4\",\"ELK4\",\"EMP1\",\"ENG\",\"ETF1\",\"ETV5\",\"EYA3\",\"EZH2\",\"ACSL4\",\"PTK2B\",\"FANCF\",\"FASN\",\"FCGR2A\",\"FGR\",\"FKBP5\",\"FLT3\",\"FOS\",\"FOSB\",\"FPR2\",\"FXN\",\"FTH1\",\"FTL\",\"FUT4\",\"FUT7\",\"FYB1\",\"GALK1\",\"GAPDH\",\"GAS6\",\"GAS8\",\"GBP2\",\"NR6A1\",\"GEM\",\"B4GALT1\",\"GLS\",\"GLRX\",\"GLUL\",\"GMFB\",\"GNAI2\",\"GNAQ\",\"GNS\",\"GOLGB1\",\"CXCR3\",\"GRB2\",\"GRN\",\"NR3C1\",\"ARHGAP35\",\"GSK3B\",\"GSS\",\"GUSB\",\"HDGF\",\"HIC1\",\"HIF1A\",\"UBE2K\",\"HLX\",\"HMGB3\",\"NR4A1\",\"HMX2\",\"HNRNPA1\",\"HNRNPA2B1\",\"HNRNPF\",\"HNRNPU\",\"HRH2\",\"HSP90AA1\",\"DNAJB1\",\"HTR7\",\"IARS1\",\"ICAM4\",\"IDI1\",\"IFNAR1\",\"IGFBP4\",\"IGFBP7\",\"IL1B\",\"IL1RN\",\"IL7R\",\"IL10RA\",\"IL13RA1\",\"IMPA1\",\"INHBA\",\"INSIG1\",\"IREB2\",\"IRF1\",\"IRF2\",\"IRF4\",\"IRF5\",\"ITGA5\",\"ITGAL\",\"ITGB1\",\"JARID2\",\"JUN\",\"JUNB\",\"JUND\",\"CD82\",\"KCNG1\",\"KCNN2\",\"IPO5\",\"KRAS\",\"AFF3\",\"LAMC1\",\"LASP1\",\"LBR\",\"LDHA\",\"LIF\",\"LMNA\",\"LMNB1\",\"LPP\",\"CD180\",\"LYN\",\"LYZ\",\"MXD1\",\"SMAD3\",\"SMAD7\",\"MAFG\",\"MBP\",\"MCL1\",\"MCM6\",\"MCM7\",\"CD46\",\"MDK\",\"MDM2\",\"MEA1\",\"MECP2\",\"MAP3K1\",\"MAP3K3\",\"MGAT1\",\"MGAT2\",\"MGAT5\",\"AFDN\",\"MMP14\",\"MPP2\",\"MT1E\",\"MTHFR\",\"MX2\",\"MXI1\",\"MYBPH\",\"GADD45B\",\"MYL6\",\"PPP1R12B\",\"NAB1\",\"NAB2\",\"NAGA\",\"NDUFB1\",\"NDUFS6\",\"SEPTIN2\",\"RPL10A\",\"NFE2\",\"NFIC\",\"NFIL3\",\"NFIX\",\"NFKBIA\",\"NKTR\",\"NOTCH2\",\"PNP\",\"SLC11A2\",\"NT5E\",\"NUP98\",\"NR4A2\",\"ODC1\",\"OLR1\",\"OPA1\",\"ORC1\",\"OSM\",\"P2RX1\",\"P2RY2\",\"P2RY6\",\"FURIN\",\"PAFAH1B2\",\"PCDHGC3\",\"PDE4D\",\"PDGFA\",\"PDGFB\",\"ENPP2\",\"PER1\",\"PFDN1\",\"PFDN2\",\"PGD\",\"SERPINB8\",\"PIK3C2B\",\"PIM1\",\"PIK3CG\",\"PIK3R1\",\"PI4KB\",\"PLAU\",\"PLAUR\",\"PLCB2\",\"PLEC\",\"PLSCR1\",\"PLXNA1\",\"PMAIP1\",\"PMS2P3\",\"POLR2C\",\"POU2F1\",\"PPARA\",\"PPARD\",\"MED1\",\"PPM1A\",\"PPP1R2\",\"PPP2R5C\",\"PPP4C\",\"SRGN\",\"PRIM1\",\"PRKAB2\",\"PKIB\",\"PRKAG1\",\"PRKAR1A\",\"PRKCA\",\"PRKCB\",\"PRKCD\",\"PRKCE\",\"MAPK6\",\"MAPK8\",\"MAP2K3\",\"DNAJC3\",\"PSAP\",\"PSMA1\",\"PTAFR\",\"PTBP1\",\"PTEN\",\"PTGER4\",\"PTGS2\",\"PTPN6\",\"PTPN11\",\"PTPN14\",\"PTPRA\",\"PTPRE\",\"PTPRJ\",\"NECTIN1\",\"RAB3A\",\"RAB5B\",\"RAC2\",\"RALA\",\"RALB\",\"RARA\",\"RARG\",\"RASA1\",\"RBMS1\",\"RELB\",\"REST\",\"RGS1\",\"RGS2\",\"RGS16\",\"RNF6\",\"ABCE1\",\"RPL29\",\"RPS2\",\"RPS5\",\"RPS6\",\"RPS6KA1\",\"RPS16\",\"RREB1\",\"RTKN\",\"S100A10\",\"SAT1\",\"ATXN1\",\"SCD\",\"CLEC11A\",\"CCL2\",\"SDCBP\",\"SEL1L\",\"SET\",\"SH3BP2\",\"SIAH2\",\"ST6GAL1\",\"ST3GAL1\",\"SLA\",\"SLC1A4\",\"SLC2A1\",\"SLC2A3\",\"SLC5A3\",\"SLC7A1\",\"SLC15A2\",\"SMARCC1\",\"SMARCD1\",\"SMARCD2\",\"SNAI1\",\"SNRPG\",\"SNX1\",\"SOD2\",\"SOX4\",\"SOX12\",\"SP3\",\"SPAST\",\"SPR\",\"SRP9\",\"SSB\",\"STAT2\",\"STAT6\",\"STK4\",\"AURKA\",\"AURKAP1\",\"STX3\",\"SYK\",\"SYPL1\",\"TAF5\",\"DYNLT1\",\"TEAD3\",\"TEF\",\"TFAM\",\"TFCP2\",\"TFDP1\",\"TFRC\",\"TGFBI\",\"TGFBR1\",\"THBD\",\"THBS1\",\"KLF10\",\"TK2\",\"TLR2\",\"TMSB4X\",\"TNFAIP2\",\"TNFAIP3\",\"TNFRSF1B\",\"TOP3A\",\"TPM4\",\"TPR\",\"NR2C2\",\"TRAF1\",\"TRAF3\",\"TRAF6\",\"TRIP6\",\"TTF1\",\"TUBA4A\",\"TXNRD1\",\"TYROBP\",\"UBP1\",\"UBTF\",\"UGP2\",\"UCK2\",\"UPP1\",\"EZR\",\"WIPF1\",\"LAT2\",\"WT1\",\"XBP1\",\"XPC\",\"XPNPEP1\",\"XPO1\",\"YES1\",\"YWHAE\",\"YWHAZ\",\"ZFP36\",\"ZBTB14\",\"ZFX\",\"ZNF20\",\"ZNF24\",\"ZSCAN20\",\"ZNF37A\",\"ZNF76\",\"ZNF221\",\"ZNF121\",\"ZNF124\",\"ZNF142\",\"ZNF146\",\"TRIM25\",\"VEZF1\",\"ZKSCAN8\",\"SLC30A1\",\"ZXDA\",\"LAPTM5\",\"DAP3\",\"BTG2\",\"CXCR4\",\"FZD5\",\"ST8SIA4\",\"SEM1\",\"NR4A3\",\"BRD3\",\"MLF2\",\"KMT2D\",\"CDK2AP1\",\"GPR68\",\"SLC7A5\",\"SYMPK\",\"NRIP1\",\"ESS2\",\"AKAP17A\",\"SNN\",\"AXIN2\",\"PIP5K1A\",\"EEA1\",\"STX7\",\"CMAHP\",\"UTF1\",\"DYRK2\",\"ATRN\",\"SMARCA5\",\"OGT\",\"MAP4K3\",\"PPM1D\",\"ENC1\",\"GAS7\",\"DGKZ\",\"DGKE\",\"DGKD\",\"CST7\",\"PDXK\",\"MKNK1\",\"UNC5C\",\"OASL\",\"PCDHGB4\",\"DDX3Y\",\"TNKS\",\"IRS2\",\"PEA15\",\"GALNT4\",\"RIPK1\",\"TNFSF14\",\"TNFSF9\",\"RIPK2\",\"SNAP23\",\"NAPA\",\"TNFRSF10D\",\"TNFRSF10B\",\"CCNK\",\"CES2\",\"CD84\",\"CDK5R1\",\"LDB1\",\"DDX18\",\"HERC1\",\"MPZL1\",\"SOCS3\",\"DOK2\",\"PSTPIP2\",\"LATS1\",\"SMC3\",\"PRPF4\",\"PRPF3\",\"ARHGEF2\",\"ZW10\",\"BUB3\",\"CCPG1\",\"NOG\",\"STK17B\",\"SNORD30\",\"CD83\",\"NREP\",\"B4GALT6\",\"TGM5\",\"B4GALT5\",\"LONP1\",\"SLC9A3R1\",\"KIF3B\",\"HS6ST1\",\"SNRNP40\",\"MED26\",\"RASAL2\",\"THEMIS2\",\"MED20\",\"EEF1E1\",\"SCAMP1\",\"VPS4B\",\"BAG5\",\"BAG4\",\"RAB3D\",\"MACROH2A1\",\"IER2\",\"CYTIP\",\"RNF14\",\"ZNF592\",\"MTFR1\",\"IQCB1\",\"ZNF516\",\"LPIN2\",\"PHF14\",\"FAM53B\",\"EDEM1\",\"PCDHGA8\",\"HERPUD1\",\"KNTC1\",\"SLK\",\"ATG13\",\"KIAA0232\",\"SERTAD2\",\"CKAP5\",\"TATDN2\",\"MRPL19\",\"TRIM14\",\"ZBTB24\",\"GAB2\",\"TLK1\",\"ZBTB39\",\"ZBED4\",\"WASHC5\",\"SGSM2\",\"G3BP2\",\"KBTBD11\",\"ZBTB5\",\"LPGAT1\",\"MFN2\",\"JOSD1\",\"WDR1\",\"HS3ST3B1\",\"DMTF1\",\"KCNE3\",\"ZBTB33\",\"PDCD6\",\"BCL2L11\",\"SH2B3\",\"FRAT1\",\"RANBP9\",\"HUWE1\",\"ACTR3\",\"TSPAN2\",\"PPIF\",\"CTDSP2\",\"KIF20A\",\"ACTR1B\",\"ARL4C\",\"SUGP2\",\"ATP6AP2\",\"WASF2\",\"TSHZ1\",\"TRIM13\",\"USPL1\",\"EIF1\",\"PSMD14\",\"TRIB1\",\"DCAF7\",\"SPRY1\",\"RGS19\",\"EIF1B\",\"SF3A1\",\"TRAIP\",\"ZNF267\",\"RTN3\",\"IKZF1\",\"KLF2\",\"CITED2\",\"ST3GAL6\",\"CDIPT\",\"SLC30A9\",\"TRIM38\",\"TM9SF1\",\"CCT7\",\"IFITM2\",\"ARID3B\",\"TXNIP\",\"CELF1\",\"TCFL5\",\"RAI1\",\"KDM5B\",\"AHCYL1\",\"PLK2\",\"SRSF10\",\"ZBTB6\",\"POP4\",\"ZNF274\",\"NEK6\",\"CYSLTR1\",\"FRS2\",\"CLPX\",\"ARID5A\",\"FGL2\",\"RAB10\",\"TRAFD1\",\"PAPOLA\",\"MORF4L1\",\"MSL3\",\"KDELR1\",\"TMED2\",\"ERP29\",\"RAB32\",\"ILVBL\",\"ATF7\",\"DSTN\",\"PIM2\",\"WDR5\",\"RCAN3\",\"CDC37\",\"NUDT4\",\"STRAP\",\"RASSF1\",\"AKAP2\",\"GALNT6\",\"DUSP12\",\"PHB2\",\"EXOC3\",\"TFEC\",\"ATF5\",\"PHLDA1\",\"SCAF8\",\"ZNF652\",\"ZNF507\",\"AAK1\",\"ADNP2\",\"LMTK2\",\"FOXJ3\",\"SEPHS2\",\"SLC4A1AP\",\"KDM2A\",\"STK38L\",\"KDM4B\",\"GGA2\",\"WAPL\",\"EMC1\",\"SETD1B\",\"UHRF1BP1L\",\"TRIM35\",\"CDK19\",\"ZBTB43\",\"TBC1D2B\",\"TNRC6B\",\"HIC2\",\"CAMTA2\",\"GPATCH8\",\"KDM6B\",\"GRAMD4\",\"SEPTIN6\",\"METAP1\",\"GSE1\",\"RHOBTB2\",\"RRP12\",\"SEL1L3\",\"SIK2\",\"ANKRD28\",\"PDS5A\",\"RPRD2\",\"MINAR1\",\"ZC3H7B\",\"CLEC16A\",\"POFUT2\",\"WWC1\",\"NEMP1\",\"ICOSLG\",\"KIAA0930\",\"SATB2\",\"JADE2\",\"FRAT2\",\"SIRT1\",\"RYBP\",\"RHOQ\",\"SLC44A1\",\"ABCB10\",\"CBX6\",\"CBX5\",\"PES1\",\"BICRAL\",\"MORC3\",\"MMD\",\"PIK3R5\",\"CARHSP1\",\"OPN3\",\"PATZ1\",\"KCNE5\",\"CEMIP2\",\"PRKD3\",\"GABARAPL1\",\"IL17RA\",\"LAMP5\",\"PANX1\",\"HYPK\",\"SUN2\",\"RASGRP3\",\"ATXN10\",\"METTL7A\",\"DCAF12\",\"MPC2\",\"INTS7\",\"RCHY1\",\"ATL3\",\"SAMHD1\",\"UNC50\",\"PARS2\",\"MMACHC\",\"NECAP1\",\"REXO2\",\"PCDHGA12\",\"PPP1R16B\",\"TOR1AIP1\",\"RSL1D1\",\"FBXL3\",\"FBXW4P1\",\"FAM162A\",\"AGO1\",\"CKAP2\",\"SNORD36C\",\"CNPPD1\",\"TRMT2A\",\"DAPP1\",\"UQCRQ\",\"TAF5L\",\"ARRDC2\",\"CYTH4\",\"SNX5\",\"CPNE7\",\"BRPF3\",\"SIGLEC9\",\"KLHL20\",\"VENTX\",\"CRCP\",\"MOCS3\",\"GOLIM4\",\"MAT2B\",\"RGCC\",\"MCTS1\",\"HIPK2\",\"C16orf72\",\"WDR91\",\"ZBTB44\",\"SAP30BP\",\"MYLIP\",\"C11orf21\",\"RACGAP1\",\"SENP1\",\"HILPDA\",\"SERTAD3\",\"MDFIC\",\"SLC39A3\",\"ERO1A\",\"STOML2\",\"RRM2B\",\"PODXL2\",\"CHST11\",\"IL21R\",\"CYHR1\",\"ARHGEF3\",\"NEUROG3\",\"COPS7A\",\"STMN3\",\"PRELID3B\",\"DESI2\",\"ZBTB7B\",\"POLR1D\",\"ABHD17B\",\"METTL9\",\"ZDHHC9\",\"ZNF706\",\"IER3IP1\",\"ING4\",\"DCTN4\",\"RSL24D1\",\"NUSAP1\",\"GLRX5\",\"GLTP\",\"VRK3\",\"CCDC174\",\"IER5\",\"PLAC8\",\"MRPL35\",\"THEM6\",\"ZBTB7A\",\"COMMD10\",\"YTHDF2\",\"RNF138\",\"UBE2J1\",\"LIMA1\",\"CTDSPL2\",\"NCKIPSD\",\"CXXC5\",\"JKAMP\",\"ARMCX3\",\"AZIN1\",\"MRPL48\",\"YPEL5\",\"ASB1\",\"SARAF\",\"SUFU\",\"HECA\",\"VPS29\",\"CMPK1\",\"MSRB1\",\"CD244\",\"PHAX\",\"S1PR5\",\"CPSF2\",\"POLE3\",\"C21orf91\",\"TREM1\",\"GPR85\",\"SLC38A2\",\"RBM27\",\"SASH3\",\"ANLN\",\"MIOS\",\"MIEF1\",\"TOLLIP\",\"SMOX\",\"RHOF\",\"DDIT4\",\"MTMR12\",\"CCNJ\",\"PARP14\",\"MAP10\",\"TBC1D13\",\"RSBN1\",\"XAF1\",\"TRPM4\",\"KLHL24\",\"ZNF562\",\"WBP1L\",\"SIDT1\",\"TENT5C\",\"PGPEP1\",\"DPP8\",\"UHRF1BP1\",\"NSUN2\",\"INO80D\",\"MTMR10\",\"SLC66A1\",\"PXK\",\"CHTF8\",\"IMPAD1\",\"RNF125\",\"LPCAT2\",\"ODR4\",\"FAM120C\",\"INTS11\",\"PINX1\",\"ZSCAN2\",\"LAMTOR1\",\"PPP2R3C\",\"C14orf119\",\"FBXO34\",\"SOBP\",\"SAMD4B\",\"AGGF1\",\"ARHGAP17\",\"FANCL\",\"ELP3\",\"ARHGEF10L\",\"MSL2\",\"KLHL11\",\"ARL8B\",\"UBA6\",\"PI4K2B\",\"DDX19A\",\"RFK\",\"UFSP2\",\"NIPSNAP3B\",\"LSG1\",\"SLC22A15\",\"TBC1D2\",\"PPP4R1L\",\"NCBP3\",\"YOD1\",\"TENT5A\",\"ANKRD10\",\"ZDHHC7\",\"TBC1D22B\",\"RAB20\",\"SLC48A1\",\"NPLOC4\",\"MREG\",\"MAP7D1\",\"FAR2\",\"POLR3E\",\"INTS13\",\"ATF7IP\",\"WDR12\",\"ZNF701\",\"INAVA\",\"FOXJ2\",\"EAPP\",\"TMEM165\",\"ASH1L\",\"ZNF395\",\"RNF114\",\"BIN3\",\"APOBR\",\"PCDHGC5\",\"PCDHGC4\",\"PCDHGB7\",\"PCDHGB6\",\"PCDHGB5\",\"PCDHGB3\",\"PCDHGB2\",\"PCDHGB1\",\"PCDHGA11\",\"PCDHGA10\",\"PCDHGA9\",\"PCDHGA7\",\"PCDHGA6\",\"PCDHGA5\",\"PCDHGA4\",\"PCDHGA3\",\"PCDHGA2\",\"PCDHGA1\",\"TMX4\",\"GPCPD1\",\"BCCIP\",\"POLE4\",\"SAR1A\",\"ZC3HAV1\",\"RAD18\",\"TMEM167B\",\"C1GALT1\",\"SMARCAD1\",\"FEM1C\",\"ADPRM\",\"CDC42SE2\",\"YAE1\",\"CCDC47\",\"PDXP\",\"AGTRAP\",\"ENTPD7\",\"CYSLTR2\",\"NAT14\",\"LPAR5\",\"APMAP\",\"ADCK1\",\"SMURF1\",\"ANKRD50\",\"TTC7A\",\"SNX14\",\"C3orf14\",\"HEG1\",\"NUFIP2\",\"MIB1\",\"WDR35\",\"TAOK1\",\"NLGN2\",\"ZNF319\",\"CRAMP1\",\"MRTFA\",\"ZNF687\",\"BAHCC1\",\"USP36\",\"ZBTB2\",\"DDX55\",\"GPR107\",\"MS4A7\",\"TP53INP2\",\"ABHD17C\",\"ZNF71\",\"SCAF1\",\"MID1IP1\",\"HIVEP3\",\"PRDM12\",\"GNB4\",\"C12orf10\",\"AVPI1\",\"TGIF2\",\"PPCDC\",\"NAA35\",\"ATG101\",\"ABHD4\",\"CXorf56\",\"FAM217B\",\"CRLF2\",\"MAGEF1\",\"VSIR\",\"SLC39A8\",\"NOD2\",\"XYLT1\",\"MS4A6A\",\"PDLIM2\",\"NSD1\",\"XPO4\",\"ZMAT3\",\"ZNF106\",\"MPP5\",\"SUDS3\",\"CSRNP1\",\"NUCKS1\",\"UNKL\",\"SMAP2\",\"GAREM1\",\"S100PBP\",\"AEN\",\"DDX31\",\"ISL2\",\"SLC13A3\",\"USP46\",\"NABP1\",\"RFX7\",\"PAPOLG\",\"MRPS6\",\"PINK1\",\"ACD\",\"MARCKSL1\",\"WNK1\",\"PHACTR4\",\"FUNDC2\",\"CHID1\",\"AUNIP\",\"TRIR\",\"GID4\",\"KCTD15\",\"NOC4L\",\"ATG9A\",\"FTO\",\"DSCC1\",\"RETREG2\",\"PPDPF\",\"PLEKHF1\",\"BRCC3\",\"IRX3\",\"WDR25\",\"PAGR1\",\"ATP13A3\",\"CDC73\",\"CEP97\",\"NAA16\",\"OCEL1\",\"TMEM53\",\"SRD5A3\",\"PANK3\",\"MCPH1\",\"USB1\",\"TMEM204\",\"PLEKHF2\",\"ZYG11B\",\"OGFOD3\",\"VPS37B\",\"E2F8\",\"BBS10\",\"SLC25A22\",\"ASB13\",\"KLHL36\",\"ARMC5\",\"NAA40\",\"ZMYM1\",\"RIN3\",\"ATP8B4\",\"PRR5L\",\"ZNF696\",\"ERMP1\",\"AGPAT4-IT1\",\"RMI1\",\"PHC3\",\"VCPIP1\",\"ZNF703\",\"TTI2\",\"RNF34\",\"CHD9\",\"OPA3\",\"RAB11FIP1\",\"FAM214B\",\"PLEKHO2\",\"TRABD\",\"KLHL15\",\"DNAJC5\",\"TRAF3IP3\",\"CD276\",\"TTYH3\",\"NDFIP1\",\"ZNF436\",\"ZFP91\",\"APOL6\",\"APOL4\",\"POLR2M\",\"CSRNP2\",\"TXNDC5\",\"CDADC1\",\"SNX27\",\"TSPAN14\",\"TSC22D4\",\"VMP1\",\"NETO2\",\"CABLES2\",\"SH3BGRL3\",\"RASSF5\",\"GUCD1\",\"AMMECR1L\",\"FAM107B\",\"SESN2\",\"ZNF484\",\"FRMD8\",\"STARD3NL\",\"RASSF4\",\"FCAMR\",\"EMILIN2\",\"ENKD1\",\"NSRP1\",\"NLRC5\",\"POMK\",\"MEX3B\",\"MAF1\",\"ZDHHC18\",\"PSMG3\",\"ALKBH7\",\"LLPH\",\"PGAP4\",\"PYM1\",\"C7orf50\",\"SARNP\",\"RAB11FIP4\",\"SYVN1\",\"LCOR\",\"FAM120B\",\"MRPL43\",\"TUBB6\",\"KRBA1\",\"ZNF469\",\"FAM126A\",\"KDM2B\",\"PPP1R9B\",\"MS4A14\",\"GPT2\",\"HDGFL2\",\"PRRC2B\",\"KMT5C\",\"C19orf48\",\"NFKBID\",\"ORAI1\",\"MFSD2A\",\"ADO\",\"ZNRF1\",\"LTV1\",\"PRPF38A\",\"UBASH3B\",\"FBXL20\",\"SMIM3\",\"ZCCHC3\",\"EAF1\",\"STON2\",\"HELZ2\",\"DIXDC1\",\"ZC3H12C\",\"SSH2\",\"SELENOI\",\"MVB12B\",\"ZNF551\",\"TMEM41A\",\"MCFD2\",\"BMF\",\"N4BP2L1\",\"PYGO2\",\"PIP4P1\",\"KIFC2\",\"C12orf29\",\"CDKN2AIPNL\",\"BTF3L4\",\"ACBD5\",\"LONRF1\",\"ELMSAN1\",\"CABLES1\",\"NXPE3\",\"CALML4\",\"ARRDC4\",\"SNX29\",\"MTSS2\",\"TMEM88\",\"RCSD1\",\"ZNF764\",\"TIFA\",\"UBE2Q2\",\"ZBTB47\",\"B3GNT7\",\"TEX30\",\"ZNF561\",\"CACNA2D4\",\"ST7-AS1\",\"GCNA\",\"SYAP1\",\"TP53INP1\",\"SNX18\",\"L3HYPDH\",\"TP53RK\",\"NACC1\",\"SMIM12\",\"SLC2A13\",\"MIR155HG\",\"ERMAP\",\"MBD6\",\"CSMD3\",\"OSBPL5\",\"OSBPL8\",\"C1QTNF3\",\"ZNF618\",\"NT5C3B\",\"GBP4\",\"UHRF2\",\"ZNF689\",\"ARL11\",\"TSR3\",\"BATF2\",\"ZNF526\",\"PHACTR3\",\"OLIG1\",\"MRPL54\",\"LRG1\",\"SNORD83A\",\"TADA1\",\"FTSJ3\",\"RFFL\",\"ZNF511\",\"TMEM52B\",\"SLC15A4\",\"NAA30\",\"DCUN1D3\",\"SPATA2L\",\"SNX20\",\"CD300LB\",\"ZNF543\",\"ZNF57\",\"IRGQ\",\"CCSAP\",\"TCEANC2\",\"RNF19B\",\"LIX1L\",\"OCSTAMP\",\"CMPK2\",\"UBR3\",\"FAM43A\",\"IL17RE\",\"PPM1M\",\"LIN54\",\"GNPDA2\",\"EMB\",\"GRPEL2\",\"LSM11\",\"C5orf24\",\"MTPN\",\"UBXN2B\",\"LETM2\",\"HGSNAT\",\"NACC2\",\"SLITRK4\",\"SPIN4\",\"NOL4L\",\"SAMD10\",\"BRI3BP\",\"SOGA1\",\"SRXN1\",\"NANP\",\"STK35\",\"DCANP1\",\"SESN3\",\"ALG10B\",\"GCOM1\",\"TTBK2\",\"CMTM4\",\"CD300LF\",\"WIPF2\",\"C18orf25\",\"ZNF548\",\"ZNF555\",\"PHF13\",\"SLC30A7\",\"PDIK1L\",\"CCDC117\",\"FAM117B\",\"LINC02610\",\"MSL3P1\",\"RNF38\",\"CIDECP1\",\"NFXL1\",\"MBOAT1\",\"AMOTL1\",\"KCTD7\",\"GIMAP8\",\"ANKRD46\",\"LINC00599\",\"KIAA1958\",\"PPTC7\",\"ZFP1\",\"RETREG3\",\"RHBDL3\",\"ZNF296\",\"ZNF791\",\"CNST\",\"SPATA5\",\"ZNF92\",\"ZNF800\",\"AGO4\",\"PRXL2C\",\"ZNF367\",\"RILPL2\",\"ZFC3H1\",\"PLBD2\",\"MLKL\",\"ZNF627\",\"TET3\",\"PIKFYVE\",\"FBXO45\",\"PLD6\",\"RAB12\",\"PDE12\",\"C4orf46\",\"TAPT1\",\"C9orf72\",\"INTS6L\",\"VMA21\",\"C2orf69\",\"DIPK2A\",\"USF3\",\"SLC36A1\",\"ZCCHC24\",\"TYSND1\",\"HYLS1\",\"SLC37A2\",\"OAF\",\"REEP3\",\"ADGRG5\",\"AK9\",\"PHACTR1\",\"ZSCAN25\",\"FOXK1\",\"DAGLB\",\"ATXN7L1\",\"PRR14L\",\"SLC25A30\",\"KCTD13\",\"MIR9-3HG\",\"MCOLN2\",\"NAPSB\",\"GCSAM\",\"SNX33\",\"SBF2-AS1\",\"RASSF3\",\"GXYLT1\",\"LINC00926\",\"C16orf91\",\"TSEN54\",\"CCDC144B\",\"ZADH2\",\"ZNF776\",\"ZNF780A\",\"SIGLEC17P\",\"ZNF561-AS1\",\"FAM102B\",\"ZNF619\",\"C3orf33\",\"ZNF852\",\"DPH3\",\"SREK1IP1\",\"RPL7L1\",\"INHBA-AS1\",\"LINC00996\",\"SCAI\",\"FAM78A\",\"P2RY8\",\"TRIM59\",\"RAB37\",\"RAB7B\",\"ATP2B1-AS1\",\"NAT8L\",\"ZC3H12D\",\"ACER2\",\"NANOS1\",\"ZKSCAN2\",\"ATXN1L\",\"ZNF850\",\"ZSCAN22\",\"MTX3\",\"SOWAHD\",\"SKA2\",\"RFLNB\",\"IRF2BP2\",\"ZBTB41\",\"NHLRC2\",\"TMEM179B\",\"B3GNT8\",\"ZNF773\",\"FAM89A\",\"MAST4\",\"SLC27A1\",\"MALAT1\",\"PSMA3-AS1\",\"AMIGO3\",\"KMT5A\",\"TNFAIP8L3\",\"SCIMP\",\"BLOC1S3\",\"PLEKHM3\",\"IER5L\",\"ZNF805\",\"SUMO1P1\",\"C12orf76\",\"FOXN3-AS1\",\"ZBTB34\",\"MIR142\",\"C10orf55\",\"C8orf82\",\"PIM3\",441307,445347,\"PALM2AKAP2\",\"GIMAP6\",\"TIFAB\",\"CXorf40B\",\"ATXN7L3B\",\"PEF1\",\"FBXO48\",\"ARIH2OS\",\"NIPBL-DT\",646762,\"STMP1\",\"NORAD\",\"AFDN-DT\",\"FAM72B\",\"CD27-AS1\",\"SNORD50B\",\"PPAN-P2RY11\",\"MIR637\",\"GOLGA8O\",\"LINC01433\",\"NBPF8\",\"CCR2\",\"CASTOR2\",\"LUZP6\",\"RELL1\",\"POM121C\",\"TMEM170B\",\"GHRLOS\",\"WAKMAR2\",100130872,\"CKMT2-AS1\",\"ANKRD63\",\"ZNF717\",100132356,100133331,100272217,\"NBPF20\",100288846,\"MIR1182\",\"MIR1249\",\"BABAM2-AS1\",\"THAP9-AS1\",\"MIR3614\",\"INAFM2\",\"RPARP-AS1\",\"MHENCR\",100506606,\"TTN-AS1\",100507564,\"BLOC1S5-TXNDC5\",\"POC1B-GALNT4\",\"RPL36A-HNRNPH2\",100529207,\"DNAAF4-CCPG1\",\"HNRNPUL2-BSCL2\",\"ISY1-RAB43\",\"IPO9-AS1\",\"LINC02724\",\"GOLGA8R\",\"MMP24OS\",\"SPECC1L-ADORA2A\",101928000,101928841,\"LINC02367\",\"MIR6882\",\"MIR8072\",\"THRIL\",102723665,\"CCR5AS\",\"TPTEP2-CSNK1E\",\"SNORA86\",\"SNORD141A\",\"SNORD141B\",107080638],\"genes\":[\"ACVR1B\",\"ACVR2B\",\"ADA\",\"ADCY9\",\"ADORA2A\",\"ADRB2\",\"GRK2\",\"AHR\",\"ALOX5AP\",\"ANXA1\",\"APBB1\",\"APOC2\",\"ARCN1\",\"ARF3\",\"ARF6\",\"RHOB\",\"RHOG\",\"ARHGAP1\",\"ARHGDIB\",\"ARNT\",\"ARRB1\",\"ARRB2\",\"ARSB\",\"STS\",\"ATF3\",\"ATP2B1\",\"ATP5MC3\",\"ATP6V1B2\",\"BACH1\",\"BARD1\",\"BCL2\",\"BCL3\",\"BCL6\",\"BDNF\",\"BID\",\"PRDM1\",\"BNIP1\",\"BNIP2\",\"BRCA1\",\"ZFP36L2\",\"KLF9\",\"BTG1\",\"BTK\",\"C3AR1\",\"CALM1\",\"CAPNS1\",\"CASP3\",\"CASP9\",\"CASP10\",\"CAT\",\"CBFA2T3\",\"RUNX3\",\"CBFB\",\"CBL\",\"CBR1\",\"CCNA2\",\"CCND2\",\"CCND3\",\"CCNF\",\"CCNG2\",\"CCNT1\",\"CD1D\",\"MS4A3\",\"CD86\",\"CDK6\",\"CDKN1A\",\"CDKN1B\",\"CDKN2B\",\"CDKN2D\",\"CEBPD\",\"CEBPG\",\"CENPA\",\"FOXN3\",\"CHML\",\"CHRM5\",\"CISH\",\"CCR1\",\"KLF6\",\"SLC31A1\",\"CPT1A\",\"CREM\",\"CRKL\",\"CSF1R\",\"CSNK1E\",\"SLC25A10\",\"CTNS\",\"CTSB\",\"CTSG\",\"CTSZ\",\"CUX1\",\"CX3CR1\",\"CYB5A\",\"CYP51A1\",\"DAD1\",\"CD55\",\"DAG1\",\"DCK\",\"GADD45A\",\"DDX3X\",\"DDX6\",\"DIAPH1\",\"DLAT\",\"DLST\",\"DOCK2\",\"DR1\",\"ARID3A\",\"RCAN1\",\"TSC22D3\",\"HBEGF\",\"DUSP1\",\"DUSP3\",\"DUSP6\",\"DVL1\",\"TOR1A\",\"E2F2\",\"GPR183\",\"EFNA3\",\"EFNB1\",\"EGR1\",\"EGR2\",\"EGR3\",\"EIF2S3\",\"EIF4EBP1\",\"EIF4EBP2\",\"ELF4\",\"ELK4\",\"EMP1\",\"ENG\",\"ETF1\",\"ETV5\",\"EYA3\",\"EZH2\",\"ACSL4\",\"PTK2B\",\"FANCF\",\"FASN\",\"FCGR2A\",\"FGR\",\"FKBP5\",\"FLT3\",\"FOS\",\"FOSB\",\"FPR2\",\"FXN\",\"FTH1\",\"FTL\",\"FUT4\",\"FUT7\",\"FYB1\",\"GALK1\",\"GAPDH\",\"GAS6\",\"GAS8\",\"GBP2\",\"NR6A1\",\"GEM\",\"B4GALT1\",\"GLS\",\"GLRX\",\"GLUL\",\"GMFB\",\"GNAI2\",\"GNAQ\",\"GNS\",\"GOLGB1\",\"CXCR3\",\"GRB2\",\"GRN\",\"NR3C1\",\"ARHGAP35\",\"GSK3B\",\"GSS\",\"GUSB\",\"HDGF\",\"HIC1\",\"HIF1A\",\"UBE2K\",\"HLX\",\"HMGB3\",\"NR4A1\",\"HMX2\",\"HNRNPA1\",\"HNRNPA2B1\",\"HNRNPF\",\"HNRNPU\",\"HRH2\",\"HSP90AA1\",\"DNAJB1\",\"HTR7\",\"IARS1\",\"ICAM4\",\"IDI1\",\"IFNAR1\",\"IGFBP4\",\"IGFBP7\",\"IL1B\",\"IL1RN\",\"IL7R\",\"IL10RA\",\"IL13RA1\",\"IMPA1\",\"INHBA\",\"INSIG1\",\"IREB2\",\"IRF1\",\"IRF2\",\"IRF4\",\"IRF5\",\"ITGA5\",\"ITGAL\",\"ITGB1\",\"JARID2\",\"JUN\",\"JUNB\",\"JUND\",\"CD82\",\"KCNG1\",\"KCNN2\",\"IPO5\",\"KRAS\",\"AFF3\",\"LAMC1\",\"LASP1\",\"LBR\",\"LDHA\",\"LIF\",\"LMNA\",\"LMNB1\",\"LPP\",\"CD180\",\"LYN\",\"LYZ\",\"MXD1\",\"SMAD3\",\"SMAD7\",\"MAFG\",\"MBP\",\"MCL1\",\"MCM6\",\"MCM7\",\"CD46\",\"MDK\",\"MDM2\",\"MEA1\",\"MECP2\",\"MAP3K1\",\"MAP3K3\",\"MGAT1\",\"MGAT2\",\"MGAT5\",\"AFDN\",\"MMP14\",\"MPP2\",\"MT1E\",\"MTHFR\",\"MX2\",\"MXI1\",\"MYBPH\",\"GADD45B\",\"MYL6\",\"PPP1R12B\",\"NAB1\",\"NAB2\",\"NAGA\",\"NDUFB1\",\"NDUFS6\",\"SEPTIN2\",\"RPL10A\",\"NFE2\",\"NFIC\",\"NFIL3\",\"NFIX\",\"NFKBIA\",\"NKTR\",\"NOTCH2\",\"PNP\",\"SLC11A2\",\"NT5E\",\"NUP98\",\"NR4A2\",\"ODC1\",\"OLR1\",\"OPA1\",\"ORC1\",\"OSM\",\"P2RX1\",\"P2RY2\",\"P2RY6\",\"FURIN\",\"PAFAH1B2\",\"PCDHGC3\",\"PDE4D\",\"PDGFA\",\"PDGFB\",\"ENPP2\",\"PER1\",\"PFDN1\",\"PFDN2\",\"PGD\",\"SERPINB8\",\"PIK3C2B\",\"PIM1\",\"PIK3CG\",\"PIK3R1\",\"PI4KB\",\"PLAU\",\"PLAUR\",\"PLCB2\",\"PLEC\",\"PLSCR1\",\"PLXNA1\",\"PMAIP1\",\"PMS2P3\",\"POLR2C\",\"POU2F1\",\"PPARA\",\"PPARD\",\"MED1\",\"PPM1A\",\"PPP1R2\",\"PPP2R5C\",\"PPP4C\",\"SRGN\",\"PRIM1\",\"PRKAB2\",\"PKIB\",\"PRKAG1\",\"PRKAR1A\",\"PRKCA\",\"PRKCB\",\"PRKCD\",\"PRKCE\",\"MAPK6\",\"MAPK8\",\"MAP2K3\",\"DNAJC3\",\"PSAP\",\"PSMA1\",\"PTAFR\",\"PTBP1\",\"PTEN\",\"PTGER4\",\"PTGS2\",\"PTPN6\",\"PTPN11\",\"PTPN14\",\"PTPRA\",\"PTPRE\",\"PTPRJ\",\"NECTIN1\",\"RAB3A\",\"RAB5B\",\"RAC2\",\"RALA\",\"RALB\",\"RARA\",\"RARG\",\"RASA1\",\"RBMS1\",\"RELB\",\"REST\",\"RGS1\",\"RGS2\",\"RGS16\",\"RNF6\",\"ABCE1\",\"RPL29\",\"RPS2\",\"RPS5\",\"RPS6\",\"RPS6KA1\",\"RPS16\",\"RREB1\",\"RTKN\",\"S100A10\",\"SAT1\",\"ATXN1\",\"SCD\",\"CLEC11A\",\"CCL2\",\"SDCBP\",\"SEL1L\",\"SET\",\"SH3BP2\",\"SIAH2\",\"ST6GAL1\",\"ST3GAL1\",\"SLA\",\"SLC1A4\",\"SLC2A1\",\"SLC2A3\",\"SLC5A3\",\"SLC7A1\",\"SLC15A2\",\"SMARCC1\",\"SMARCD1\",\"SMARCD2\",\"SNAI1\",\"SNRPG\",\"SNX1\",\"SOD2\",\"SOX4\",\"SOX12\",\"SP3\",\"SPAST\",\"SPR\",\"SRP9\",\"SSB\",\"STAT2\",\"STAT6\",\"STK4\",\"AURKA\",\"AURKAP1\",\"STX3\",\"SYK\",\"SYPL1\",\"TAF5\",\"DYNLT1\",\"TEAD3\",\"TEF\",\"TFAM\",\"TFCP2\",\"TFDP1\",\"TFRC\",\"TGFBI\",\"TGFBR1\",\"THBD\",\"THBS1\",\"KLF10\",\"TK2\",\"TLR2\",\"TMSB4X\",\"TNFAIP2\",\"TNFAIP3\",\"TNFRSF1B\",\"TOP3A\",\"TPM4\",\"TPR\",\"NR2C2\",\"TRAF1\",\"TRAF3\",\"TRAF6\",\"TRIP6\",\"TTF1\",\"TUBA4A\",\"TXNRD1\",\"TYROBP\",\"UBP1\",\"UBTF\",\"UGP2\",\"UCK2\",\"UPP1\",\"EZR\",\"WIPF1\",\"LAT2\",\"WT1\",\"XBP1\",\"XPC\",\"XPNPEP1\",\"XPO1\",\"YES1\",\"YWHAE\",\"YWHAZ\",\"ZFP36\",\"ZBTB14\",\"ZFX\",\"ZNF20\",\"ZNF24\",\"ZSCAN20\",\"ZNF37A\",\"ZNF76\",\"ZNF221\",\"ZNF121\",\"ZNF124\",\"ZNF142\",\"ZNF146\",\"TRIM25\",\"VEZF1\",\"ZKSCAN8\",\"SLC30A1\",\"ZXDA\",\"LAPTM5\",\"DAP3\",\"BTG2\",\"CXCR4\",\"FZD5\",\"ST8SIA4\",\"SEM1\",\"NR4A3\",\"BRD3\",\"MLF2\",\"KMT2D\",\"CDK2AP1\",\"GPR68\",\"SLC7A5\",\"SYMPK\",\"NRIP1\",\"ESS2\",\"AKAP17A\",\"SNN\",\"AXIN2\",\"PIP5K1A\",\"EEA1\",\"STX7\",\"CMAHP\",\"UTF1\",\"DYRK2\",\"ATRN\",\"SMARCA5\",\"OGT\",\"MAP4K3\",\"PPM1D\",\"ENC1\",\"GAS7\",\"DGKZ\",\"DGKE\",\"DGKD\",\"CST7\",\"PDXK\",\"MKNK1\",\"UNC5C\",\"OASL\",\"PCDHGB4\",\"DDX3Y\",\"TNKS\",\"IRS2\",\"PEA15\",\"GALNT4\",\"RIPK1\",\"TNFSF14\",\"TNFSF9\",\"RIPK2\",\"SNAP23\",\"NAPA\",\"TNFRSF10D\",\"TNFRSF10B\",\"CCNK\",\"CES2\",\"CD84\",\"CDK5R1\",\"LDB1\",\"DDX18\",\"HERC1\",\"MPZL1\",\"SOCS3\",\"DOK2\",\"PSTPIP2\",\"LATS1\",\"SMC3\",\"PRPF4\",\"PRPF3\",\"ARHGEF2\",\"ZW10\",\"BUB3\",\"CCPG1\",\"NOG\",\"STK17B\",\"SNORD30\",\"CD83\",\"NREP\",\"B4GALT6\",\"TGM5\",\"B4GALT5\",\"LONP1\",\"SLC9A3R1\",\"KIF3B\",\"HS6ST1\",\"SNRNP40\",\"MED26\",\"RASAL2\",\"THEMIS2\",\"MED20\",\"EEF1E1\",\"SCAMP1\",\"VPS4B\",\"BAG5\",\"BAG4\",\"RAB3D\",\"MACROH2A1\",\"IER2\",\"CYTIP\",\"RNF14\",\"ZNF592\",\"MTFR1\",\"IQCB1\",\"ZNF516\",\"LPIN2\",\"PHF14\",\"FAM53B\",\"EDEM1\",\"PCDHGA8\",\"HERPUD1\",\"KNTC1\",\"SLK\",\"ATG13\",\"KIAA0232\",\"SERTAD2\",\"CKAP5\",\"TATDN2\",\"MRPL19\",\"TRIM14\",\"ZBTB24\",\"GAB2\",\"TLK1\",\"ZBTB39\",\"ZBED4\",\"WASHC5\",\"SGSM2\",\"G3BP2\",\"KBTBD11\",\"ZBTB5\",\"LPGAT1\",\"MFN2\",\"JOSD1\",\"WDR1\",\"HS3ST3B1\",\"DMTF1\",\"KCNE3\",\"ZBTB33\",\"PDCD6\",\"BCL2L11\",\"SH2B3\",\"FRAT1\",\"RANBP9\",\"HUWE1\",\"ACTR3\",\"TSPAN2\",\"PPIF\",\"CTDSP2\",\"KIF20A\",\"ACTR1B\",\"ARL4C\",\"SUGP2\",\"ATP6AP2\",\"WASF2\",\"TSHZ1\",\"TRIM13\",\"USPL1\",\"EIF1\",\"PSMD14\",\"TRIB1\",\"DCAF7\",\"SPRY1\",\"RGS19\",\"EIF1B\",\"SF3A1\",\"TRAIP\",\"ZNF267\",\"RTN3\",\"IKZF1\",\"KLF2\",\"CITED2\",\"ST3GAL6\",\"CDIPT\",\"SLC30A9\",\"TRIM38\",\"TM9SF1\",\"CCT7\",\"IFITM2\",\"ARID3B\",\"TXNIP\",\"CELF1\",\"TCFL5\",\"RAI1\",\"KDM5B\",\"AHCYL1\",\"PLK2\",\"SRSF10\",\"ZBTB6\",\"POP4\",\"ZNF274\",\"NEK6\",\"CYSLTR1\",\"FRS2\",\"CLPX\",\"ARID5A\",\"FGL2\",\"RAB10\",\"TRAFD1\",\"PAPOLA\",\"MORF4L1\",\"MSL3\",\"KDELR1\",\"TMED2\",\"ERP29\",\"RAB32\",\"ILVBL\",\"ATF7\",\"DSTN\",\"PIM2\",\"WDR5\",\"RCAN3\",\"CDC37\",\"NUDT4\",\"STRAP\",\"RASSF1\",\"AKAP2\",\"GALNT6\",\"DUSP12\",\"PHB2\",\"EXOC3\",\"TFEC\",\"ATF5\",\"PHLDA1\",\"SCAF8\",\"ZNF652\",\"ZNF507\",\"AAK1\",\"ADNP2\",\"LMTK2\",\"FOXJ3\",\"SEPHS2\",\"SLC4A1AP\",\"KDM2A\",\"STK38L\",\"KDM4B\",\"GGA2\",\"WAPL\",\"EMC1\",\"SETD1B\",\"UHRF1BP1L\",\"TRIM35\",\"CDK19\",\"ZBTB43\",\"TBC1D2B\",\"TNRC6B\",\"HIC2\",\"CAMTA2\",\"GPATCH8\",\"KDM6B\",\"GRAMD4\",\"SEPTIN6\",\"METAP1\",\"GSE1\",\"RHOBTB2\",\"RRP12\",\"SEL1L3\",\"SIK2\",\"ANKRD28\",\"PDS5A\",\"RPRD2\",\"MINAR1\",\"ZC3H7B\",\"CLEC16A\",\"POFUT2\",\"WWC1\",\"NEMP1\",\"ICOSLG\",\"KIAA0930\",\"SATB2\",\"JADE2\",\"FRAT2\",\"SIRT1\",\"RYBP\",\"RHOQ\",\"SLC44A1\",\"ABCB10\",\"CBX6\",\"CBX5\",\"PES1\",\"BICRAL\",\"MORC3\",\"MMD\",\"PIK3R5\",\"CARHSP1\",\"OPN3\",\"PATZ1\",\"KCNE5\",\"CEMIP2\",\"PRKD3\",\"GABARAPL1\",\"IL17RA\",\"LAMP5\",\"PANX1\",\"HYPK\",\"SUN2\",\"RASGRP3\",\"ATXN10\",\"METTL7A\",\"DCAF12\",\"MPC2\",\"INTS7\",\"RCHY1\",\"ATL3\",\"SAMHD1\",\"UNC50\",\"PARS2\",\"MMACHC\",\"NECAP1\",\"REXO2\",\"PCDHGA12\",\"PPP1R16B\",\"TOR1AIP1\",\"RSL1D1\",\"FBXL3\",\"FBXW4P1\",\"FAM162A\",\"AGO1\",\"CKAP2\",\"SNORD36C\",\"CNPPD1\",\"TRMT2A\",\"DAPP1\",\"UQCRQ\",\"TAF5L\",\"ARRDC2\",\"CYTH4\",\"SNX5\",\"CPNE7\",\"BRPF3\",\"SIGLEC9\",\"KLHL20\",\"VENTX\",\"CRCP\",\"MOCS3\",\"GOLIM4\",\"MAT2B\",\"RGCC\",\"MCTS1\",\"HIPK2\",\"C16orf72\",\"WDR91\",\"ZBTB44\",\"SAP30BP\",\"MYLIP\",\"C11orf21\",\"RACGAP1\",\"SENP1\",\"HILPDA\",\"SERTAD3\",\"MDFIC\",\"SLC39A3\",\"ERO1A\",\"STOML2\",\"RRM2B\",\"PODXL2\",\"CHST11\",\"IL21R\",\"CYHR1\",\"ARHGEF3\",\"NEUROG3\",\"COPS7A\",\"STMN3\",\"PRELID3B\",\"DESI2\",\"ZBTB7B\",\"POLR1D\",\"ABHD17B\",\"METTL9\",\"ZDHHC9\",\"ZNF706\",\"IER3IP1\",\"ING4\",\"DCTN4\",\"RSL24D1\",\"NUSAP1\",\"GLRX5\",\"GLTP\",\"VRK3\",\"CCDC174\",\"IER5\",\"PLAC8\",\"MRPL35\",\"THEM6\",\"ZBTB7A\",\"COMMD10\",\"YTHDF2\",\"RNF138\",\"UBE2J1\",\"LIMA1\",\"CTDSPL2\",\"NCKIPSD\",\"CXXC5\",\"JKAMP\",\"ARMCX3\",\"AZIN1\",\"MRPL48\",\"YPEL5\",\"ASB1\",\"SARAF\",\"SUFU\",\"HECA\",\"VPS29\",\"CMPK1\",\"MSRB1\",\"CD244\",\"PHAX\",\"S1PR5\",\"CPSF2\",\"POLE3\",\"C21orf91\",\"TREM1\",\"GPR85\",\"SLC38A2\",\"RBM27\",\"SASH3\",\"ANLN\",\"MIOS\",\"MIEF1\",\"TOLLIP\",\"SMOX\",\"RHOF\",\"DDIT4\",\"MTMR12\",\"CCNJ\",\"PARP14\",\"MAP10\",\"TBC1D13\",\"RSBN1\",\"XAF1\",\"TRPM4\",\"KLHL24\",\"ZNF562\",\"WBP1L\",\"SIDT1\",\"TENT5C\",\"PGPEP1\",\"DPP8\",\"UHRF1BP1\",\"NSUN2\",\"INO80D\",\"MTMR10\",\"SLC66A1\",\"PXK\",\"CHTF8\",\"IMPAD1\",\"RNF125\",\"LPCAT2\",\"ODR4\",\"FAM120C\",\"INTS11\",\"PINX1\",\"ZSCAN2\",\"LAMTOR1\",\"PPP2R3C\",\"C14orf119\",\"FBXO34\",\"SOBP\",\"SAMD4B\",\"AGGF1\",\"ARHGAP17\",\"FANCL\",\"ELP3\",\"ARHGEF10L\",\"MSL2\",\"KLHL11\",\"ARL8B\",\"UBA6\",\"PI4K2B\",\"DDX19A\",\"RFK\",\"UFSP2\",\"NIPSNAP3B\",\"LSG1\",\"SLC22A15\",\"TBC1D2\",\"PPP4R1L\",\"NCBP3\",\"YOD1\",\"TENT5A\",\"ANKRD10\",\"ZDHHC7\",\"TBC1D22B\",\"RAB20\",\"SLC48A1\",\"NPLOC4\",\"MREG\",\"MAP7D1\",\"FAR2\",\"POLR3E\",\"INTS13\",\"ATF7IP\",\"WDR12\",\"ZNF701\",\"INAVA\",\"FOXJ2\",\"EAPP\",\"TMEM165\",\"ASH1L\",\"ZNF395\",\"RNF114\",\"BIN3\",\"APOBR\",\"PCDHGC5\",\"PCDHGC4\",\"PCDHGB7\",\"PCDHGB6\",\"PCDHGB5\",\"PCDHGB3\",\"PCDHGB2\",\"PCDHGB1\",\"PCDHGA11\",\"PCDHGA10\",\"PCDHGA9\",\"PCDHGA7\",\"PCDHGA6\",\"PCDHGA5\",\"PCDHGA4\",\"PCDHGA3\",\"PCDHGA2\",\"PCDHGA1\",\"TMX4\",\"GPCPD1\",\"BCCIP\",\"POLE4\",\"SAR1A\",\"ZC3HAV1\",\"RAD18\",\"TMEM167B\",\"C1GALT1\",\"SMARCAD1\",\"FEM1C\",\"ADPRM\",\"CDC42SE2\",\"YAE1\",\"CCDC47\",\"PDXP\",\"AGTRAP\",\"ENTPD7\",\"CYSLTR2\",\"NAT14\",\"LPAR5\",\"APMAP\",\"ADCK1\",\"SMURF1\",\"ANKRD50\",\"TTC7A\",\"SNX14\",\"C3orf14\",\"HEG1\",\"NUFIP2\",\"MIB1\",\"WDR35\",\"TAOK1\",\"NLGN2\",\"ZNF319\",\"CRAMP1\",\"MRTFA\",\"ZNF687\",\"BAHCC1\",\"USP36\",\"ZBTB2\",\"DDX55\",\"GPR107\",\"MS4A7\",\"TP53INP2\",\"ABHD17C\",\"ZNF71\",\"SCAF1\",\"MID1IP1\",\"HIVEP3\",\"PRDM12\",\"GNB4\",\"C12orf10\",\"AVPI1\",\"TGIF2\",\"PPCDC\",\"NAA35\",\"ATG101\",\"ABHD4\",\"CXorf56\",\"FAM217B\",\"CRLF2\",\"MAGEF1\",\"VSIR\",\"SLC39A8\",\"NOD2\",\"XYLT1\",\"MS4A6A\",\"PDLIM2\",\"NSD1\",\"XPO4\",\"ZMAT3\",\"ZNF106\",\"MPP5\",\"SUDS3\",\"CSRNP1\",\"NUCKS1\",\"UNKL\",\"SMAP2\",\"GAREM1\",\"S100PBP\",\"AEN\",\"DDX31\",\"ISL2\",\"SLC13A3\",\"USP46\",\"NABP1\",\"RFX7\",\"PAPOLG\",\"MRPS6\",\"PINK1\",\"ACD\",\"MARCKSL1\",\"WNK1\",\"PHACTR4\",\"FUNDC2\",\"CHID1\",\"AUNIP\",\"TRIR\",\"GID4\",\"KCTD15\",\"NOC4L\",\"ATG9A\",\"FTO\",\"DSCC1\",\"RETREG2\",\"PPDPF\",\"PLEKHF1\",\"BRCC3\",\"IRX3\",\"WDR25\",\"PAGR1\",\"ATP13A3\",\"CDC73\",\"CEP97\",\"NAA16\",\"OCEL1\",\"TMEM53\",\"SRD5A3\",\"PANK3\",\"MCPH1\",\"USB1\",\"TMEM204\",\"PLEKHF2\",\"ZYG11B\",\"OGFOD3\",\"VPS37B\",\"E2F8\",\"BBS10\",\"SLC25A22\",\"ASB13\",\"KLHL36\",\"ARMC5\",\"NAA40\",\"ZMYM1\",\"RIN3\",\"ATP8B4\",\"PRR5L\",\"ZNF696\",\"ERMP1\",\"AGPAT4-IT1\",\"RMI1\",\"PHC3\",\"VCPIP1\",\"ZNF703\",\"TTI2\",\"RNF34\",\"CHD9\",\"OPA3\",\"RAB11FIP1\",\"FAM214B\",\"PLEKHO2\",\"TRABD\",\"KLHL15\",\"DNAJC5\",\"TRAF3IP3\",\"CD276\",\"TTYH3\",\"NDFIP1\",\"ZNF436\",\"ZFP91\",\"APOL6\",\"APOL4\",\"POLR2M\",\"CSRNP2\",\"TXNDC5\",\"CDADC1\",\"SNX27\",\"TSPAN14\",\"TSC22D4\",\"VMP1\",\"NETO2\",\"CABLES2\",\"SH3BGRL3\",\"RASSF5\",\"GUCD1\",\"AMMECR1L\",\"FAM107B\",\"SESN2\",\"ZNF484\",\"FRMD8\",\"STARD3NL\",\"RASSF4\",\"FCAMR\",\"EMILIN2\",\"ENKD1\",\"NSRP1\",\"NLRC5\",\"POMK\",\"MEX3B\",\"MAF1\",\"ZDHHC18\",\"PSMG3\",\"ALKBH7\",\"LLPH\",\"PGAP4\",\"PYM1\",\"C7orf50\",\"SARNP\",\"RAB11FIP4\",\"SYVN1\",\"LCOR\",\"FAM120B\",\"MRPL43\",\"TUBB6\",\"KRBA1\",\"ZNF469\",\"FAM126A\",\"KDM2B\",\"PPP1R9B\",\"MS4A14\",\"GPT2\",\"HDGFL2\",\"PRRC2B\",\"KMT5C\",\"C19orf48\",\"NFKBID\",\"ORAI1\",\"MFSD2A\",\"ADO\",\"ZNRF1\",\"LTV1\",\"PRPF38A\",\"UBASH3B\",\"FBXL20\",\"SMIM3\",\"ZCCHC3\",\"EAF1\",\"STON2\",\"HELZ2\",\"DIXDC1\",\"ZC3H12C\",\"SSH2\",\"SELENOI\",\"MVB12B\",\"ZNF551\",\"TMEM41A\",\"MCFD2\",\"BMF\",\"N4BP2L1\",\"PYGO2\",\"PIP4P1\",\"KIFC2\",\"C12orf29\",\"CDKN2AIPNL\",\"BTF3L4\",\"ACBD5\",\"LONRF1\",\"ELMSAN1\",\"CABLES1\",\"NXPE3\",\"CALML4\",\"ARRDC4\",\"SNX29\",\"MTSS2\",\"TMEM88\",\"RCSD1\",\"ZNF764\",\"TIFA\",\"UBE2Q2\",\"ZBTB47\",\"B3GNT7\",\"TEX30\",\"ZNF561\",\"CACNA2D4\",\"ST7-AS1\",\"GCNA\",\"SYAP1\",\"TP53INP1\",\"SNX18\",\"L3HYPDH\",\"TP53RK\",\"NACC1\",\"SMIM12\",\"SLC2A13\",\"MIR155HG\",\"ERMAP\",\"MBD6\",\"CSMD3\",\"OSBPL5\",\"OSBPL8\",\"C1QTNF3\",\"ZNF618\",\"NT5C3B\",\"GBP4\",\"UHRF2\",\"ZNF689\",\"ARL11\",\"TSR3\",\"BATF2\",\"ZNF526\",\"PHACTR3\",\"OLIG1\",\"MRPL54\",\"LRG1\",\"SNORD83A\",\"TADA1\",\"FTSJ3\",\"RFFL\",\"ZNF511\",\"TMEM52B\",\"SLC15A4\",\"NAA30\",\"DCUN1D3\",\"SPATA2L\",\"SNX20\",\"CD300LB\",\"ZNF543\",\"ZNF57\",\"IRGQ\",\"CCSAP\",\"TCEANC2\",\"RNF19B\",\"LIX1L\",\"OCSTAMP\",\"CMPK2\",\"UBR3\",\"FAM43A\",\"IL17RE\",\"PPM1M\",\"LIN54\",\"GNPDA2\",\"EMB\",\"GRPEL2\",\"LSM11\",\"C5orf24\",\"MTPN\",\"UBXN2B\",\"LETM2\",\"HGSNAT\",\"NACC2\",\"SLITRK4\",\"SPIN4\",\"NOL4L\",\"SAMD10\",\"BRI3BP\",\"SOGA1\",\"SRXN1\",\"NANP\",\"STK35\",\"DCANP1\",\"SESN3\",\"ALG10B\",\"GCOM1\",\"TTBK2\",\"CMTM4\",\"CD300LF\",\"WIPF2\",\"C18orf25\",\"ZNF548\",\"ZNF555\",\"PHF13\",\"SLC30A7\",\"PDIK1L\",\"CCDC117\",\"FAM117B\",\"LINC02610\",\"MSL3P1\",\"RNF38\",\"CIDECP1\",\"NFXL1\",\"MBOAT1\",\"AMOTL1\",\"KCTD7\",\"GIMAP8\",\"ANKRD46\",\"LINC00599\",\"KIAA1958\",\"PPTC7\",\"ZFP1\",\"RETREG3\",\"RHBDL3\",\"ZNF296\",\"ZNF791\",\"CNST\",\"SPATA5\",\"ZNF92\",\"ZNF800\",\"AGO4\",\"PRXL2C\",\"ZNF367\",\"RILPL2\",\"ZFC3H1\",\"PLBD2\",\"MLKL\",\"ZNF627\",\"TET3\",\"PIKFYVE\",\"FBXO45\",\"PLD6\",\"RAB12\",\"PDE12\",\"C4orf46\",\"TAPT1\",\"C9orf72\",\"INTS6L\",\"VMA21\",\"C2orf69\",\"DIPK2A\",\"USF3\",\"SLC36A1\",\"ZCCHC24\",\"TYSND1\",\"HYLS1\",\"SLC37A2\",\"OAF\",\"REEP3\",\"ADGRG5\",\"AK9\",\"PHACTR1\",\"ZSCAN25\",\"FOXK1\",\"DAGLB\",\"ATXN7L1\",\"PRR14L\",\"SLC25A30\",\"KCTD13\",\"MIR9-3HG\",\"MCOLN2\",\"NAPSB\",\"GCSAM\",\"SNX33\",\"SBF2-AS1\",\"RASSF3\",\"GXYLT1\",\"LINC00926\",\"C16orf91\",\"TSEN54\",\"CCDC144B\",\"ZADH2\",\"ZNF776\",\"ZNF780A\",\"SIGLEC17P\",\"ZNF561-AS1\",\"FAM102B\",\"ZNF619\",\"C3orf33\",\"ZNF852\",\"DPH3\",\"SREK1IP1\",\"RPL7L1\",\"INHBA-AS1\",\"LINC00996\",\"SCAI\",\"FAM78A\",\"P2RY8\",\"TRIM59\",\"RAB37\",\"RAB7B\",\"ATP2B1-AS1\",\"NAT8L\",\"ZC3H12D\",\"ACER2\",\"NANOS1\",\"ZKSCAN2\",\"ATXN1L\",\"ZNF850\",\"ZSCAN22\",\"MTX3\",\"SOWAHD\",\"SKA2\",\"RFLNB\",\"IRF2BP2\",\"ZBTB41\",\"NHLRC2\",\"TMEM179B\",\"B3GNT8\",\"ZNF773\",\"FAM89A\",\"MAST4\",\"SLC27A1\",\"MALAT1\",\"PSMA3-AS1\",\"AMIGO3\",\"KMT5A\",\"TNFAIP8L3\",\"SCIMP\",\"BLOC1S3\",\"PLEKHM3\",\"IER5L\",\"ZNF805\",\"SUMO1P1\",\"C12orf76\",\"FOXN3-AS1\",\"ZBTB34\",\"MIR142\",\"C10orf55\",\"C8orf82\",\"PIM3\",441307,445347,\"PALM2AKAP2\",\"GIMAP6\",\"TIFAB\",\"CXorf40B\",\"ATXN7L3B\",\"PEF1\",\"FBXO48\",\"ARIH2OS\",\"NIPBL-DT\",646762,\"STMP1\",\"NORAD\",\"AFDN-DT\",\"FAM72B\",\"CD27-AS1\",\"SNORD50B\",\"PPAN-P2RY11\",\"MIR637\",\"GOLGA8O\",\"LINC01433\",\"NBPF8\",\"CCR2\",\"CASTOR2\",\"LUZP6\",\"RELL1\",\"POM121C\",\"TMEM170B\",\"GHRLOS\",\"WAKMAR2\",100130872,\"CKMT2-AS1\",\"ANKRD63\",\"ZNF717\",100132356,100133331,100272217,\"NBPF20\",100288846,\"MIR1182\",\"MIR1249\",\"BABAM2-AS1\",\"THAP9-AS1\",\"MIR3614\",\"INAFM2\",\"RPARP-AS1\",\"MHENCR\",100506606,\"TTN-AS1\",100507564,\"BLOC1S5-TXNDC5\",\"POC1B-GALNT4\",\"RPL36A-HNRNPH2\",100529207,\"DNAAF4-CCPG1\",\"HNRNPUL2-BSCL2\",\"ISY1-RAB43\",\"IPO9-AS1\",\"LINC02724\",\"GOLGA8R\",\"MMP24OS\",\"SPECC1L-ADORA2A\",101928000,101928841,\"LINC02367\",\"MIR6882\",\"MIR8072\",\"THRIL\",102723665,\"CCR5AS\",\"TPTEP2-CSNK1E\",\"SNORA86\",\"SNORD141A\",\"SNORD141B\",107080638],\"index\":[\"37\",\"39\",\"44\",\"54\",\"62\",\"70\",\"71\",\"87\",\"110\",\"126\",\"139\",\"152\",\"160\",\"163\",\"167\",\"170\",\"172\",\"173\",\"177\",\"183\",\"185\",\"186\",\"188\",\"189\",\"203\",\"216\",\"228\",\"232\",\"251\",\"257\",\"267\",\"271\",\"272\",\"280\",\"284\",\"286\",\"301\",\"302\",\"310\",\"314\",\"319\",\"322\",\"323\",\"330\",\"359\",\"373\",\"383\",\"388\",\"389\",\"391\",\"395\",\"396\",\"397\",\"398\",\"402\",\"406\",\"409\",\"410\",\"412\",\"414\",\"416\",\"419\",\"426\",\"431\",\"477\",\"481\",\"482\",\"484\",\"486\",\"493\",\"495\",\"496\",\"513\",\"519\",\"523\",\"534\",\"563\",\"587\",\"588\",\"611\",\"620\",\"624\",\"634\",\"641\",\"648\",\"662\",\"667\",\"669\",\"676\",\"677\",\"678\",\"679\",\"691\",\"692\",\"693\",\"694\",\"708\",\"714\",\"719\",\"721\",\"744\",\"749\",\"754\",\"778\",\"788\",\"790\",\"794\",\"795\",\"798\",\"801\",\"803\",\"806\",\"809\",\"813\",\"815\",\"821\",\"839\",\"841\",\"847\",\"848\",\"849\",\"855\",\"860\",\"861\",\"873\",\"876\",\"879\",\"884\",\"924\",\"934\",\"943\",\"945\",\"960\",\"962\",\"965\",\"969\",\"980\",\"999\",\"1008\",\"1023\",\"1033\",\"1034\",\"1037\",\"1038\",\"1041\",\"1043\",\"1049\",\"1051\",\"1054\",\"1074\",\"1083\",\"1087\",\"1088\",\"1094\",\"1101\",\"1106\",\"1112\",\"1131\",\"1132\",\"1134\",\"1137\",\"1143\",\"1147\",\"1162\",\"1167\",\"1179\",\"1195\",\"1199\",\"1206\",\"1207\",\"1212\",\"1216\",\"1241\",\"1268\",\"1276\",\"1277\",\"1279\",\"1293\",\"1297\",\"1307\",\"1308\",\"1313\",\"1314\",\"1318\",\"1324\",\"1350\",\"1369\",\"1373\",\"1378\",\"1381\",\"1386\",\"1398\",\"1406\",\"1417\",\"1419\",\"1425\",\"1427\",\"1436\",\"1440\",\"1446\",\"1455\",\"1462\",\"1471\",\"1478\",\"1479\",\"1480\",\"1482\",\"1483\",\"1489\",\"1492\",\"1496\",\"1516\",\"1517\",\"1518\",\"1519\",\"1521\",\"1530\",\"1538\",\"1562\",\"1563\",\"1568\",\"1571\",\"1576\",\"1577\",\"1581\",\"1591\",\"1605\",\"1606\",\"1615\",\"1632\",\"1635\",\"1636\",\"1641\",\"1644\",\"1648\",\"1651\",\"1673\",\"1677\",\"1682\",\"1683\",\"1684\",\"1689\",\"1690\",\"1693\",\"1694\",\"1702\",\"1703\",\"1716\",\"1717\",\"1719\",\"1744\",\"1749\",\"1765\",\"1780\",\"1792\",\"1805\",\"1806\",\"1810\",\"1814\",\"1818\",\"1830\",\"1831\",\"1832\",\"1834\",\"1864\",\"1882\",\"1888\",\"1889\",\"1903\",\"1906\",\"1907\",\"1908\",\"1911\",\"1928\",\"1945\",\"1947\",\"1953\",\"1961\",\"1969\",\"1970\",\"1980\",\"1985\",\"1987\",\"1989\",\"1994\",\"2000\",\"2005\",\"2006\",\"2013\",\"2016\",\"2039\",\"2057\",\"2064\",\"2065\",\"2073\",\"2081\",\"2092\",\"2093\",\"2109\",\"2125\",\"2135\",\"2139\",\"2141\",\"2142\",\"2145\",\"2162\",\"2163\",\"2164\",\"2172\",\"2182\",\"2184\",\"2187\",\"2198\",\"2216\",\"2229\",\"2234\",\"2235\",\"2236\",\"2242\",\"2249\",\"2263\",\"2267\",\"2277\",\"2280\",\"2284\",\"2287\",\"2288\",\"2289\",\"2293\",\"2294\",\"2295\",\"2296\",\"2306\",\"2308\",\"2314\",\"2319\",\"2335\",\"2340\",\"2377\",\"2378\",\"2380\",\"2382\",\"2386\",\"2398\",\"2401\",\"2403\",\"2404\",\"2409\",\"2413\",\"2422\",\"2443\",\"2447\",\"2457\",\"2471\",\"2472\",\"2484\",\"2486\",\"2489\",\"2504\",\"2513\",\"2516\",\"2530\",\"2531\",\"2535\",\"2552\",\"2555\",\"2599\",\"2618\",\"2623\",\"2624\",\"2625\",\"2639\",\"2655\",\"2658\",\"2671\",\"2680\",\"2685\",\"2688\",\"2689\",\"2697\",\"2708\",\"2718\",\"2725\",\"2744\",\"2755\",\"2756\",\"2757\",\"2769\",\"2772\",\"2775\",\"2776\",\"2784\",\"2792\",\"2804\",\"2819\",\"2821\",\"2822\",\"2832\",\"2849\",\"2853\",\"2858\",\"2865\",\"2868\",\"2871\",\"2878\",\"2886\",\"2899\",\"2910\",\"2925\",\"2929\",\"2935\",\"2936\",\"2937\",\"2942\",\"2966\",\"2970\",\"2980\",\"3029\",\"3032\",\"3034\",\"3042\",\"3046\",\"3048\",\"3052\",\"3056\",\"3057\",\"3063\",\"3064\",\"3071\",\"3079\",\"3087\",\"3096\",\"3099\",\"3100\",\"3102\",\"3109\",\"3120\",\"3123\",\"3126\",\"3128\",\"3130\",\"3132\",\"3136\",\"3152\",\"3156\",\"3167\",\"3172\",\"3196\",\"3197\",\"3206\",\"3209\",\"3214\",\"3245\",\"3255\",\"3258\",\"3267\",\"3268\",\"3272\",\"3273\",\"3274\",\"3280\",\"3283\",\"3286\",\"3288\",\"3290\",\"3292\",\"3307\",\"3311\",\"3314\",\"3319\",\"3330\",\"3333\",\"3335\",\"3336\",\"3347\",\"3350\",\"3351\",\"3356\",\"3367\",\"3386\",\"3389\",\"3396\",\"3399\",\"3400\",\"3406\",\"3407\",\"3418\",\"3431\",\"3437\",\"3438\",\"3452\",\"3453\",\"3457\",\"3461\",\"3465\",\"3473\",\"3478\",\"3483\",\"3486\",\"3509\",\"3512\",\"3540\",\"3550\",\"3552\",\"3553\",\"3557\",\"3563\",\"3571\",\"3577\",\"3578\",\"3586\",\"3588\",\"3600\",\"3608\",\"3609\",\"3610\",\"3611\",\"3612\",\"3641\",\"3644\",\"3670\",\"3675\",\"3677\",\"3686\",\"3689\",\"3691\",\"3709\",\"3714\",\"3737\",\"3739\",\"3742\",\"3750\",\"3753\",\"3755\",\"3761\",\"3763\",\"3773\",\"3782\",\"3786\",\"3799\",\"3803\",\"3821\",\"3843\",\"3875\",\"3877\",\"3889\",\"3893\",\"3926\",\"3935\",\"3937\",\"3938\",\"3968\",\"3969\",\"3970\",\"3997\",\"4000\",\"4012\",\"4028\",\"4035\",\"4039\",\"4052\",\"4053\",\"4054\",\"4066\",\"4071\",\"4072\",\"4083\",\"4094\",\"4107\",\"4121\",\"4127\",\"4130\",\"4153\",\"4154\",\"4156\",\"4160\",\"4161\",\"4171\",\"4178\",\"4200\",\"4201\",\"4205\",\"4223\",\"4232\",\"4237\",\"4238\",\"4241\",\"4253\",\"4254\",\"4268\",\"4278\",\"4279\",\"4296\",\"4308\",\"4328\",\"4330\",\"4344\",\"4345\",\"4348\",\"4350\",\"4373\",\"4380\",\"4383\",\"4405\",\"4410\",\"4417\",\"4422\",\"4430\",\"4433\",\"4442\",\"4447\",\"4448\",\"4449\",\"4451\",\"4463\",\"4467\",\"4487\",\"4502\",\"4503\",\"4509\",\"4511\",\"4512\",\"4514\",\"4526\",\"4544\",\"4558\",\"4562\",\"4565\",\"4566\",\"4569\",\"4573\",\"4575\",\"4594\",\"4602\",\"4605\",\"4625\",\"4636\",\"4637\",\"4638\",\"4641\",\"4646\",\"4658\",\"4669\",\"4691\",\"4692\",\"4693\",\"4694\",\"4704\",\"4707\",\"4711\",\"4731\",\"4733\",\"4753\",\"4765\",\"4795\",\"4804\",\"4853\",\"4871\",\"4877\",\"4905\",\"4912\",\"4933\",\"4967\",\"4974\",\"4985\",\"4988\",\"4989\",\"4991\",\"4992\",\"4993\",\"4998\",\"4999\",\"5008\",\"5018\",\"5024\",\"5032\",\"5039\",\"5043\",\"5056\",\"5060\",\"5072\",\"5078\",\"5080\",\"5093\",\"5095\",\"5110\",\"5119\",\"5130\",\"5141\",\"5145\",\"5172\",\"5191\",\"5203\",\"5222\",\"5228\",\"5238\",\"5254\",\"5259\",\"5282\",\"5305\",\"5310\",\"5323\",\"5329\",\"5333\",\"5337\",\"5339\",\"5347\",\"5348\",\"5350\",\"5352\",\"5375\",\"5403\",\"5416\",\"5429\",\"5438\",\"5450\",\"5473\",\"5474\",\"5476\",\"5478\",\"5481\",\"5491\",\"5498\",\"5500\",\"5501\",\"5506\",\"5511\",\"5513\",\"5518\",\"5521\",\"5531\",\"5535\",\"5549\",\"5571\",\"5589\",\"5590\",\"5595\",\"5599\",\"5603\",\"5604\",\"5607\",\"5609\",\"5618\",\"5626\",\"5627\",\"5635\",\"5648\",\"5650\",\"5654\",\"5655\",\"5673\",\"5720\",\"5727\",\"5737\",\"5740\",\"5744\",\"5747\",\"5753\",\"5755\",\"5765\",\"5775\",\"5782\",\"5796\",\"5797\",\"5826\",\"5832\",\"5834\",\"5849\",\"5869\",\"5873\",\"5876\",\"5886\",\"5898\",\"5901\",\"5905\",\"5910\",\"5912\",\"5929\",\"5947\",\"5957\",\"5965\",\"5976\",\"5978\",\"5995\",\"6003\",\"6022\",\"6023\",\"6024\",\"6026\",\"6036\",\"6054\",\"6068\",\"6085\",\"6116\",\"6128\",\"6130\",\"6169\",\"6187\",\"6195\",\"6241\",\"6277\",\"6286\",\"6296\",\"6305\",\"6309\",\"6313\",\"6321\",\"6323\",\"6324\",\"6332\",\"6340\",\"6366\",\"6370\",\"6374\",\"6377\",\"6384\",\"6401\",\"6435\",\"6436\",\"6444\",\"6449\",\"6452\",\"6455\",\"6491\",\"6492\",\"6496\",\"6498\",\"6517\",\"6546\",\"6559\",\"6573\",\"6578\",\"6587\",\"6605\",\"6609\",\"6613\",\"6614\",\"6615\",\"6619\",\"6623\",\"6624\",\"6631\",\"6637\",\"6656\",\"6671\",\"6677\",\"6702\",\"6719\",\"6723\",\"6727\",\"6735\",\"6736\",\"6754\",\"6765\",\"6779\",\"6790\",\"6792\",\"6797\",\"6799\",\"6805\",\"6828\",\"6853\",\"6855\",\"6866\",\"6869\",\"6894\",\"6911\",\"6912\",\"6919\",\"6921\",\"6929\",\"6940\",\"6943\",\"6947\",\"6969\",\"6976\",\"7004\",\"7007\",\"7020\",\"7023\",\"7026\",\"7032\",\"7033\",\"7045\",\"7049\",\"7054\",\"7072\",\"7089\",\"7104\",\"7117\",\"7121\",\"7128\",\"7129\",\"7134\",\"7143\",\"7144\",\"7146\",\"7158\",\"7161\",\"7162\",\"7175\",\"7181\",\"7197\",\"7200\",\"7217\",\"7222\",\"7224\",\"7227\",\"7230\",\"7246\",\"7265\",\"7268\",\"7277\",\"7293\",\"7298\",\"7306\",\"7308\",\"7323\",\"7330\",\"7331\",\"7333\",\"7335\",\"7337\",\"7339\",\"7355\",\"7361\",\"7373\",\"7376\",\"7381\",\"7382\",\"7398\",\"7406\",\"7412\",\"7419\",\"7427\",\"7432\",\"7439\",\"7469\",\"7475\",\"7482\",\"7487\",\"7490\",\"7502\",\"7518\",\"7524\",\"7531\",\"7557\",\"7575\",\"7621\",\"7622\",\"7624\",\"7633\",\"7643\",\"7648\",\"7658\",\"7659\",\"7667\",\"7671\",\"7675\",\"7723\",\"7726\",\"7740\",\"7748\",\"7756\",\"7759\",\"7771\",\"7783\",\"7795\",\"7804\",\"7809\",\"7815\",\"7817\",\"7841\",\"7844\",\"7847\",\"7876\",\"7890\",\"7907\",\"7914\",\"7921\",\"7926\",\"7928\",\"7929\",\"7959\",\"7960\",\"7961\",\"7962\",\"7963\",\"7964\",\"7965\",\"7966\",\"7967\",\"7968\",\"7969\",\"7970\",\"7971\",\"7972\",\"7973\",\"7974\",\"7975\",\"7976\",\"7990\",\"7994\",\"8012\",\"8017\",\"8027\",\"8031\",\"8037\",\"8049\",\"8059\",\"8061\",\"8070\",\"8101\",\"8104\",\"8114\",\"8115\",\"8121\",\"8133\",\"8134\",\"8144\",\"8145\",\"8151\",\"8159\",\"8162\",\"8170\",\"8185\",\"8203\",\"8209\",\"8230\",\"8262\",\"8281\",\"8283\",\"8287\",\"8294\",\"8297\",\"8303\",\"8314\",\"8318\",\"8319\",\"8322\",\"8325\",\"8336\",\"8372\",\"8390\",\"8418\",\"8419\",\"8428\",\"8430\",\"8438\",\"8447\",\"8453\",\"8458\",\"8465\",\"8471\",\"8473\",\"8478\",\"8484\",\"8496\",\"8502\",\"8515\",\"8540\",\"8543\",\"8569\",\"8570\",\"8572\",\"8573\",\"8576\",\"8578\",\"8602\",\"8603\",\"8611\",\"8614\",\"8624\",\"8627\",\"8628\",\"8643\",\"8661\",\"8666\",\"8667\",\"8669\",\"8683\",\"8686\",\"8699\",\"8709\",\"8720\",\"8724\",\"8727\",\"8732\",\"8735\",\"8736\",\"8756\",\"8769\",\"8772\",\"8784\",\"8788\",\"8802\",\"8812\",\"8819\",\"8831\",\"8833\",\"8844\",\"8860\",\"8862\",\"8867\",\"8869\",\"8874\",\"8898\",\"8902\",\"8907\",\"8924\",\"8926\",\"8940\",\"8941\",\"8947\",\"8951\",\"8961\",\"8967\",\"8976\",\"8982\",\"8986\",\"8987\",\"8989\",\"8991\",\"8993\",\"9003\",\"9028\",\"9029\",\"9043\",\"9053\",\"9057\",\"9060\",\"9063\",\"9076\",\"9083\",\"9099\",\"9100\",\"9138\",\"9142\",\"9145\",\"9165\",\"9172\",\"9191\",\"9198\",\"9200\",\"9227\",\"9233\",\"9252\",\"9255\",\"9259\",\"9261\",\"9273\",\"9285\",\"9295\",\"9297\",\"9302\",\"9313\",\"9318\",\"9327\",\"9333\",\"9341\",\"9354\",\"9359\",\"9360\",\"9361\",\"9375\",\"9398\",\"9399\",\"9409\",\"9414\",\"9422\",\"9428\",\"9432\",\"9443\",\"9465\",\"9473\",\"9499\",\"9504\",\"9505\",\"9511\",\"9517\",\"9539\",\"9545\",\"9567\",\"9572\",\"9578\",\"9592\",\"9610\",\"9611\",\"9640\",\"9657\",\"9658\",\"9669\",\"9673\",\"9685\",\"9689\",\"9718\",\"9722\",\"9725\",\"9729\",\"9740\",\"9762\",\"9766\",\"9771\",\"9776\",\"9795\",\"9805\",\"9808\",\"9809\",\"9822\",\"9826\",\"9830\",\"9831\",\"9836\",\"9838\",\"9842\",\"9855\",\"9860\",\"9863\",\"9897\",\"9899\",\"9905\",\"9941\",\"9948\",\"9950\",\"9957\",\"9958\",\"9989\",\"10002\",\"10016\",\"10024\",\"10026\",\"10035\",\"10040\",\"10041\",\"10042\",\"10068\",\"10102\",\"10120\",\"10122\",\"10126\",\"10143\",\"10152\",\"10156\",\"10169\",\"10184\",\"10191\",\"10197\",\"10202\",\"10222\",\"10227\",\"10232\",\"10233\",\"10238\",\"10243\",\"10250\",\"10256\",\"10257\",\"10260\",\"10284\",\"10287\",\"10305\",\"10310\",\"10311\",\"10313\",\"10316\",\"10331\",\"10339\",\"10342\",\"10353\",\"10365\",\"10378\",\"10386\",\"10387\",\"10390\",\"10414\",\"10433\",\"10439\",\"10440\",\"10445\",\"10447\",\"10467\",\"10469\",\"10472\",\"10483\",\"10485\",\"10497\",\"10501\",\"10502\",\"10513\",\"10517\",\"10525\",\"10528\",\"10533\",\"10548\",\"10553\",\"10561\",\"10564\",\"10572\",\"10578\",\"10583\",\"10593\",\"10620\",\"10622\",\"10647\",\"10669\",\"10671\",\"10684\",\"10690\",\"10725\",\"10741\",\"10742\",\"10759\",\"10770\",\"10772\",\"10780\",\"10792\",\"10810\",\"10826\",\"10848\",\"10854\",\"10856\",\"10862\",\"10865\",\"10874\",\"10885\",\"10886\",\"10892\",\"10907\",\"10919\",\"10921\",\"10922\",\"10923\",\"10934\",\"10944\",\"10956\",\"10957\",\"10959\",\"10960\",\"10969\",\"10973\",\"10977\",\"10978\",\"10994\",\"11008\",\"11032\",\"11038\",\"11042\",\"11056\",\"11071\",\"11073\",\"11083\",\"11112\",\"11123\",\"11130\",\"11141\",\"11156\",\"11177\",\"11184\",\"11196\",\"11212\",\"11219\",\"11222\",\"11249\",\"11259\",\"11261\",\"11262\",\"11275\",\"11278\",\"11299\",\"11325\",\"11344\",\"11346\",\"11347\",\"11356\",\"11359\",\"11375\",\"11388\",\"11402\",\"11406\",\"11447\",\"11449\",\"11450\",\"11454\",\"11457\",\"11458\",\"11475\",\"11486\",\"11511\",\"11514\",\"11525\",\"11530\",\"11542\",\"11547\",\"11549\",\"11556\",\"11571\",\"11579\",\"11581\",\"11584\",\"11585\",\"11587\",\"11588\",\"11596\",\"11602\",\"11607\",\"11609\",\"11625\",\"11638\",\"11651\",\"11653\",\"11669\",\"11672\",\"11681\",\"11682\",\"11693\",\"11723\",\"11728\",\"11743\",\"11765\",\"11775\",\"11797\",\"11813\",\"11821\",\"11857\",\"11876\",\"11886\",\"11904\",\"11923\",\"11925\",\"11936\",\"11951\",\"11955\",\"11956\",\"11966\",\"11968\",\"11986\",\"12022\",\"12027\",\"12030\",\"12034\",\"12055\",\"12066\",\"12068\",\"12074\",\"12092\",\"12098\",\"12105\",\"12108\",\"12118\",\"12126\",\"12138\",\"12187\",\"12191\",\"12202\",\"12206\",\"12209\",\"12210\",\"12213\",\"12216\",\"12227\",\"12236\",\"12246\",\"12273\",\"12274\",\"12275\",\"12283\",\"12287\",\"12305\",\"12307\",\"12314\",\"12326\",\"12340\",\"12347\",\"12349\",\"12353\",\"12381\",\"12385\",\"12392\",\"12401\",\"12425\",\"12445\",\"12461\",\"12464\",\"12488\",\"12491\",\"12568\",\"12584\",\"12603\",\"12609\",\"12610\",\"12665\",\"12689\",\"12691\",\"12694\",\"12707\",\"12717\",\"12722\",\"12726\",\"12729\",\"12848\",\"12851\",\"12852\",\"12857\",\"12864\",\"12889\",\"12901\",\"12971\",\"12982\",\"13013\",\"13030\",\"13049\",\"13054\",\"13089\",\"13101\",\"13105\",\"13144\",\"13147\",\"13171\",\"13178\",\"13191\",\"13256\",\"13269\",\"13276\",\"13285\",\"13299\",\"13307\",\"13322\",\"13362\",\"13382\",\"13390\",\"13411\",\"13414\",\"13438\",\"13488\",\"13496\",\"13518\",\"13538\",\"13539\",\"13597\",\"13623\",\"13677\",\"13703\",\"13715\",\"13721\",\"13722\",\"13747\",\"13756\",\"13757\",\"13875\",\"13933\",\"13941\",\"13957\",\"13960\",\"14048\",\"14105\",\"14180\",\"14270\",\"14339\",\"14347\",\"14357\",\"14372\",\"14393\",\"14478\",\"14485\",\"14486\",\"14492\"],\"lfcSE\":{\"__ndarray__\":\"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\",\"dtype\":\"float64\",\"shape\":[1566]},\"log2FoldChange\":{\"__ndarray__\":\"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\",\"dtype\":\"float64\",\"shape\":[1566]},\"padj\":{\"__ndarray__\":\"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\",\"dtype\":\"float64\",\"shape\":[1566]},\"pvalue\":{\"__ndarray__\":\"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\",\"dtype\":\"float64\",\"shape\":[1566]},\"size\":[7,7,7,7,7,7,7,7,7,7,7,7,7,7,7,7,7,7,7,7,7,7,7,7,7,7,7,7,7,7,7,7,7,7,7,7,7,7,7,7,7,7,7,7,7,7,7,7,7,7,7,7,7,7,7,7,7,7,7,7,7,7,7,7,7,7,7,7,7,7,7,7,7,7,7,7,7,7,7,7,7,7,7,7,7,7,7,7,7,7,7,7,7,7,7,7,7,7,7,7,7,7,7,7,7,7,7,7,7,7,7,7,7,7,7,7,7,7,7,7,7,7,7,7,7,7,7,7,7,7,7,7,7,7,7,7,7,7,7,7,7,7,7,7,7,7,7,7,7,7,7,7,7,7,7,7,7,7,7,7,7,7,7,7,7,7,7,7,7,7,7,7,7,7,7,7,7,7,7,7,7,7,7,7,7,7,7,7,7,7,7,7,7,7,7,7,7,7,7,7,7,7,7,7,7,7,7,7,7,7,7,7,7,7,7,7,7,7,7,7,7,7,7,7,7,7,7,7,7,7,7,7,7,7,7,7,7,7,7,7,7,7,7,7,7,7,7,7,7,7,7,7,7,7,7,7,7,7,7,7,7,7,7,7,7,7,7,7,7,7,7,7,7,7,7,7,7,7,7,7,7,7,7,7,7,7,7,7,7,7,7,7,7,7,7,7,7,7,7,7,7,7,7,7,7,7,7,7,7,7,7,7,7,7,7,7,7,7,7,7,7,7,7,7,7,7,7,7,7,7,7,7,7,7,7,7,7,7,7,7,7,7,7,7,7,7,7,7,7,7,7,7,7,7,7,7,7,7,7,7,7,7,7,7,7,7,7,7,7,7,7,7,7,7,7,7,7,7,7,7,7,7,7,7,7,7,7,7,7,7,7,7,7,7,7,7,7,7,7,7,7,7,7,7,7,7,7,7,7,7,7,7,7,7,7,7,7,7,7,7,7,7,7,7,7,7,7,7,7,7,7,7,7,7,7,7,7,7,7,7,7,7,7,7,7,7,7,7,7,7,7,7,7,7,7,7,7,7,7,7,7,7,7,7,7,7,7,7,7,7,7,7,7,7,7,7,7,7,7,7,7,7,7,7,7,7,7,7,7,7,7,7,7,7,7,7,7,7,7,7,7,7,7,7,7,7,7,7,7,7,7,7,7,7,7,7,7,7,7,7,7,7,7,7,7,7,7,7,7,7,7,7,7,7,7,7,7,7,7,7,7,7,7,7,7,7,7,7,7,7,7,7,7,7,7,7,7,7,7,7,7,7,7,7,7,7,7,7,7,7,7,7,7,7,7,7,7,7,7,7,7,7,7,7,7,7,7,7,7,7,7,7,7,7,7,7,7,7,7,7,7,7,7,7,7,7,7,7,7,7,7,7,7,7,7,7,7,7,7,7,7,7,7,7,7,7,7,7,7,7,7,7,7,7,7,7,7,7,7,7,7,7,7,7,7,7,7,7,7,7,7,7,7,7,7,7,7,7,7,7,7,7,7,7,7,7,7,7,7,7,7,7,7,7,7,7,7,7,7,7,7,7,7,7,7,7,7,7,7,7,7,7,7,7,7,7,7,7,7,7,7,7,7,7,7,7,7,7,7,7,7,7,7,7,7,7,7,7,7,7,7,7,7,7,7,7,7,7,7,7,7,7,7,7,7,7,7,7,7,7,7,7,7,7,7,7,7,7,7,7,7,7,7,7,7,7,7,7,7,7,7,7,7,7,7,7,7,7,7,7,7,7,7,7,7,7,7,7,7,7,7,7,7,7,7,7,7,7,7,7,7,7,7,7,7,7,7,7,7,7,7,7,7,7,7,7,7,7,7,7,7,7,7,7,7,7,7,7,7,7,7,7,7,7,7,7,7,7,7,7,7,7,7,7,7,7,7,7,7,7,7,7,7,7,7,7,7,7,7,7,7,7,7,7,7,7,7,7,7,7,7,7,7,7,7,7,7,7,7,7,7,7,7,7,7,7,7,7,7,7,7,7,7,7,7,7,7,7,7,7,7,7,7,7,7,7,7,7,7,7,7,7,7,7,7,7,7,7,7,7,7,7,7,7,7,7,7,7,7,7,7,7,7,7,7,7,7,7,7,7,7,7,7,7,7,7,7,7,7,7,7,7,7,7,7,7,7,7,7,7,7,7,7,7,7,7,7,7,7,7,7,7,7,7,7,7,7,7,7,7,7,7,7,7,7,7,7,7,7,7,7,7,7,7,7,7,7,7,7,7,7,7,7,7,7,7,7,7,7,7,7,7,7,7,7,7,7,7,7,7,7,7,7,7,7,7,7,7,7,7,7,7,7,7,7,7,7,7,7,7,7,7,7,7,7,7,7,7,7,7,7,7,7,7,7,7,7,7,7,7,7,7,7,7,7,7,7,7,7,7,7,7,7,7,7,7,7,7,7,7,7,7,7,7,7,7,7,7,7,7,7,7,7,7,7,7,7,7,7,7,7,7,7,7,7,7,7,7,7,7,7,7,7,7,7,7,7,7,7,7,7,7,7,7,7,7,7,7,7,7,7,7,7,7,7,7,7,7,7,7,7,7,7,7,7,7,7,7,7,7,7,7,7,7,7,7,7,7,7,7,7,7,7,7,7,7,7,7,7,7,7,7,7,7,7,7,7,7,7,7,7,7,7,7,7,7,7,7,7,7,7,7,7,7,7,7,7,7,7,7,7,7,7,7,7,7,7,7,7,7,7,7,7,7,7,7,7,7,7,7,7,7,7,7,7,7,7,7,7,7,7,7,7,7,7,7,7,7,7,7,7,7,7,7,7,7,7,7,7,7,7,7,7,7,7,7,7,7,7,7,7,7,7,7,7,7,7,7,7,7,7,7,7,7,7,7,7,7,7,7,7,7,7,7,7,7,7,7,7,7,7,7,7,7,7,7,7,7,7,7,7,7,7,7,7,7,7,7,7,7,7,7,7,7,7,7,7,7,7,7,7,7,7,7,7,7,7,7,7,7,7,7,7,7,7,7,7,7,7,7,7,7,7,7,7,7,7,7,7,7,7,7,7,7,7,7,7,7,7,7,7,7,7,7,7,7,7,7,7,7,7,7,7,7,7,7,7,7,7,7,7,7,7,7,7,7,7,7,7,7,7,7,7,7,7,7,7,7,7,7,7,7,7,7,7,7,7,7,7,7,7,7,7,7,7,7,7,7,7,7,7,7,7,7,7,7,7,7,7,7,7,7,7,7,7,7,7,7,7,7,7,7,7,7,7,7,7,7,7,7,7,7,7,7,7,7,7,7,7,7,7,7,7,7,7,7,7,7,7,7,7,7,7,7,7,7,7,7,7,7,7,7,7,7,7,7,7,7,7,7,7,7,7,7,7,7,7,7,7,7,7,7,7,7,7,7,7,7,7,7,7,7,7,7,7,7,7,7,7,7,7,7,7,7,7,7,7,7,7,7,7,7,7,7,7,7,7,7,7,7,7,7,7,7,7,7,7,7,7,7,7,7,7,7,7,7,7,7,7,7,7,7,7,7,7,7,7,7,7,7,7,7,7,7,7,7],\"stat\":{\"__ndarray__\":\"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\",\"dtype\":\"float64\",\"shape\":[1566]},\"transformed_q\":{\"__ndarray__\":\"fhoZaCs49j/YyeqVCVv4P6P0Zsh3gP8/3njdy5yIB0BArutHFdIQQLw/d+epYBdAkqXQ6zv69T+j2zBuHKX0P05UV6LZs/M/1SrPXfrEAECCJOQUyl/6P7CG7MEs3fQ/J0q4wFWH8j+aL7I6BJsCQDmVWa4ysPg/DuNwJVvFDkC09m4CcCkDQFg30XwIO/g/pho+53SN+T915vf1X6j4PzsNoG6ypwZA8Belil/Y9z/cetdlTFn1P56fLoKNq/Y/61vn+do6C0BKiXz4bg8iQJPN5QLHqPA/TByA7/BSBkAT9XiSRln4P+ygWp266fU/DtDHRfLjCUBMSCLKqIj+P9ddTI4VPfU/A/uwkoV99z+kf0BApLMHQDVg8hPsvAJAObwsASjq9z8fYUqGixbwP/C/k4RQE/I/gujZteH7KUBpqm7K9FDwP3bPopy4ZPs/w+uLyDlZ9j9iRL7d4sIqQFoLnGCEJg5Aie0Ae7IS8j+aSaEZOlnzP9ZPM25MKwBAIOJ+DxdP8T/05xH6fIr8P9HtGqnq7Q9ACde5WJLLA0CE2R2Qxx78P3aX3is04f0/IbVJ/sDu8z/d38mu6Kb0P+q/6/jx3/0//rSqM0I3AUAxh3FWuDgIQEsrxb9V/AVA/STFBI9D8T/sYyEFxIb3PyB/xY8P+RdA5nPzCos0GECmHLQ2FBHyPyjDwKUeyPE/aQ/vassMBUBk47py1zjzP0b+i4q8jQNAKFQ7I8/ODUDThzwHnuX5P76j+nNMAQNAbhjfhw9H/D8sAdI9YQH0P1F2xdsW5PA/mYZzZSBKKECRWdC1RYkNQO0n4Dk+/wVAFP49Jd929z/3y0EDIdDxP9PF7hiQ6wZA2G2pDVec8z/zVc/9sKUjQI2Ezr4ZAfA/QEBZ8n8z8T93QsOQqwr5P3uEQCR3jwZAAp1IXbFT+D8yJlq+1CH1P3y7V7qejghAat810b8L+T9qsUJstV3wP4XNMFrYZAJAlV3eEbcgBUCsZEINRjcOQDwTcNTVtg5A/s222W0G8j9A/rJmQiD0Py0T2ttmt/0/YNWm2dfbBkAjhdQuRVL0P+e8E19gSgdAj+uaE4m98T8kRnoSB0v2P3pcVRmUYvE/+Awzk9yp+T+xPnZg62kBQMUk7CmVhDRA3Il9cScPUEBtpx9yl171P8xObps8xP4/9zhS31t9GEDnDvBV7Bv5P5jPa6mhDPA/drsiRqb4+D9n3hLAv8MEQM5j1r4J6/Q/expuCeT48D/+AoXMQj05QOKxVmU56SlAYEDCeTqKZkDYvukbfCMEQIcjiVHOZPs/pH183j7D/j/slbCYmy4ZQIEmuJqLc/Y/ffBAHO3rB0D6NufBr1obQC5JZCeTGA1AaOeK+272D0C0N9zosbf0P9Sk3NMAIvU/amFs6//U+D84sq+MhZH0P5E6/w4zo/M/2enEz7AW8j88BI9SlMkBQFBaHK1Ydv0/opAsJdfdCECC2yya+szxPxU3jGckswJAn5IofRezH0BvgaLmTVLzP4XOaVsxUvA/XMoZsoewAUDEWspExbf8P8b/sfFuMAFA+BvY0YqtAkA/LnlckXLwP/98VWnLxPc/mb1ZwGxl/z+A67NvpDP6P1a0kv0CC/w/qG5wb+QQ+T8iD88lKh/yPyQ/j2f0D/c/w8tTdjPNJECHJJxtUF3wPwsQvck5FgRA9PFbQXRHI0Bqmnd/HKkFQP92OQlhnvM/6E9Iy4c7+z9DNT358nX2P2RmQAfDYfo/4Vvsu4XtAkDjGcJun5nzP67GFrOZOfA/OWsfwtOIBECcC1hapoL9PwMX4xqTRfo/Dz1B5kSN8T/focqXxxf2P54LB4S2gPY/+q5wOciqAEBVaRxjuLAHQOKw0G/x7PM/7eGem8sJHUDhc5mobUcXQFcwpbs9z1BAUOFDOmXu9j+1Q7RgF2L1P8C2Y2+O1PA/FPKKJ9Xw8D8res3NTdEHQIAo4Gt6KPE/jv+IAx1oAkDC8GSyKB7+P8L9Ev0Z2vU/L/18kMOT8D/QdZ5dv+LzP4eAcACJYAhAI0GrJ9Zz9j8UgmyVXW78Py5ry2jemPI/Luy7gJJKFUDAiOgggWceQEA0LmrTUz5AYrQ+Hjn6I0A9o/YLN4r9PyWsYUo/d/E/nsNKkWvRRkBkEXvchNIDQP1ByzWeZQhAMntx6rZoDkC2UGvEVYn2P0W4L6BwyvI/+Lr3CbZj+D8d5nfNpg/yPxddoX/+CyNAUzH+FxodBEARkF2xNQXxP7eelYhLmCBA5kOygefX/z8PBOCRi0IZQLJLZn4E9P0/Bj4j20NB8T9aenN8FPcCQNPNVACzmvQ/gNpUbHIP8T+tzzensXXxP3FfEDETNPA/CpeVQJZZD0B9IBDQ+IT5P4B9kzNnEvc/X5jHvoK69T8Hw2cJyGgRQJie4tavOPI/vILyPaYP+D9tRgmLBskRQAUEcrxXRxxAMFFYayfqIkAiwtBspXQbQNpfpMkr2QlAjOdTY+CaB0BoU5KUoD8HQKZAJvsF7xRA1b12ngPYFUDwNYar9PjxP9djQJc9E/4/uHcXzHhU/j+Iv1JMD84EQNiRFXFiZfs/xhq1TaDC9j+6ujgQQuH7P1nSAdMNmAVAUi6z0MZe+T8EWYH/BokIQNsPamW5fPc/zUfi94mJ+j/IgpGmJJocQKX87D6CQQ1Adk8DAOnH8T9RcDZ2ki3xP10+MkT2ew1AgGQycbD18T9QzDpfJU39P/gUxfhp8fQ/Ou2MSyV1GkDxs3EMkHMBQG8WzRemD/I/jxcBGFVRB0CNVE/eY4ZCQBrBMOj3JvY/LrwMLbPr8T/OFVqtDq/3P6voexkfsfQ/COU4Jml+8T9G3ZjqJw3xPzDUNhQ7u/8/wob2v7Qw8D//8LBYQasCQAqq3ImROwVAeJ2Co3Jf8D+tW3MCmn/xP4oafnjs6glA2DMmIDPi8D+RtrF68dIDQMK7S/5FFPY/K6asQroWTUBLkkQySGwCQFZZ8/l7KBdAo5VqPAK69D/6Efg8CtwBQLPvFrWCs0VAzH1+vZ3H+z8W05DTb+geQLESoiFUkvs/IJEDlaXwBkCv7wKeJDUAQNI2zbLMZv8/hasALfB1CUBCl41JM34hQLLuSFfVPv4/9/I75i72KEAf/qn+DtUbQJzk12VkZPg/WN5U6KNl+z98NxepbIX1Pw74jJEuUANAegbE+17L8j8gjO9f0tpQQBeaVRpF/wVAVeXvo5P+EEAdutaWa/fxP9PF8XPgbTVAiHnvKkW9AkDo2rvdbXLzP1zA5Sa2OPE/kLkb9rXY+T9kET/Lrff7P/gZ9R5J7RlADikMz5MX8T+HCIDgepj0P6BZRjuUIQpAfkhwS9ml+j8TNzZUc2v6Pw3o4uPLH/I/OgTMOClSAkBEvs7EwB7zP68aa3dVMPA/YE9zDDTo9z80jwf6i3UTQPKYqZWhnPQ/DXPCrAOv9T/QiIbrF7YTQEUg3Y6m+/M/AWLY2EI0BEAaKewa+cfwP8hSjTDemfI/8gz3Lr0tAEBgQ8ro0Y70P4W6Sq4oLvs/4MAVELre8D9aFL6LTxoGQMVniUh7HvE/PLzkCekx+D9T+QvmkLzyP9W50YntSwdAs6iq0mos8z+MO6DyRwIBQHx9eWV3xRFA29+/69Z88z/JuohgKukHQEeHusjbXwNAzSQc4Ak/8j8YdR+rusjwPxLhW5lcThpANPGajQql8T/bITpHjqweQPLgIqUQy/o/Wyyea/B08z/1nNeeemAMQFbcc89mWPM/n184sakV8j9Umb4TJZcCQKDsCZ8MOPw/dvjro9i48D/Bqt5rRlXxP+xoSx7XRwBAffLiUwzz8z9Stq7tHd4aQN0IiH76sBBAQ1qlOoI89z8GiKEG/qL2Pwm9MfcwMvQ/uS7Sjesq9z+RH33va3/1P5dUtkIzFPI/+19uBFH+8z/a+iF/9bEEQHqoOhlWbfc/AfEHaAsl9D8U8Kn5ksn0PxC2aiK6vvU/2XHppEbnBUAAt0fFoCUBQCWCps5D2/o/xcQHFh9r8T8HEzXv3dkbQBUt0r7Z7P4/UMg+zRp49j9BBKjTmezyP9hPITpsjPA/S+uvI5/mAUB89IvteQbyP3hKwtAY/fg/HmDov9gOFUA1n1gRhMjyP1jDMWwjkPY/zzZfcxP8DEDX1WBGLWcGQFrxtjg6WPc/nFf5g/Yy8T+THzk+ScTyP5x2w7B6pvc/BkztB33a9D9uLi3H/ub/P1EzETT6iPE/RrkEsXEK9z8aHUPR9nn3P6CJhzoB/QhA3Gg8UTmw9T89OHvZo5H9P6Ya6MxYhfM/YNLYyaTc9j9u2b+y2rL2PwWLA8XXl/0/OYZ1w2BFBkDaH7SS8mcAQMsAGpq8RAVAKswb8SD79T8SEtbTkmj2P67HXc39pPg/Iu8rez+eB0AEo3xpUJT7P+SMNCk/O/k/0tdIt2YwA0DkXVAKBwr6PwcoyuUPU/U/rQJsEhD29z8NBgSF0mb0P5vUs+wFcPI/9PhZMB/l8j86s1BsrP36P0RmS5qpifQ/6SL4jJAkEkD5JAjGRa0sQHyvjFLY7ChAvPTF1hw4+z9duzPv4FP0P9QAnot9RxVAhN6sL554+T9BqTzQAjYcQBWMRBAOlhNAapB1X+Xn+D+XYPoBXMA1QCZCfW+5z/c/3gMwYPqR+z/gSZ//hsbxPyCvqIfCj/w/jDWaXkBf9z/2Kg0mFjjzPwaiZLjVvfU/mfRgWUhX+j8FcdIuDbYIQFQerT1rfA1ArOMD8RPN9j+EM5maaLT4P4XTs1m/6fI/To+h4PcM9z9lmMnpfyDyP8VUpG/h5AxATLjhbRgr8D+uSBr7oaMBQKZYIHvyYQRApClulu23+D/YlKMgtMz4P85sN5LbofA/CORTHeAp+T9TLaqA9ebwP3JeqAuZF/E/5pzp1/SO/j/Fcin9Y4MrQC3AmLAVU/k/P/vRXajmCEB2SLOhzk/1Pzxhtujb3/4/OCF5JWuLAEDdH9d+gBb6PyGcvCmOCPk/+0cyEvzV8z8CMkMesjPwP1TZ9jLNX/s/LdazQCPf9j/ylZpBwwbwP9AkF7XsqTNAcXbhVQTx8T9czDhZYwb3P6xIQ7RFZ/U/OgWplDFm9z/pDsAZOEgBQJ0NDfRSqPc/xJZt2RizU0D25ne3HXANQNFxpSaMpvk/Yh0Q3clZ+j8TaiOIGmvwP0Fuvjv8t0FAFpNvpDodBUBqAI7Y4PfxP5/dbpEXaQZA7j7S9RSP8D/E4uKUUbD4P8/Iu+GmURVAglykDWg08T+9Z/abWk0CQA7jw72NcPg/vEqmg4LQ9D+MoH2ZgIoPQOFfY5lgrvU/e9k6H7XxC0AUpfchENzzP2DgEaJ62/c/yTDyQBynF0CV1NPzux7yP7ABTuq+P/M/2YmyPQfQ+T8MobdnhrrzP+00DfmLG/E/GxXBc/Fh8j8/EcnoYWfyP+jCzeg5MQ5AiCllOg7i9D9mDdJmyk71P+tWkmvoUApA6g3VC8JeAEAOhgX0CfoHQKc6b7YKqfc/IiwmYjXP+j9y98MZrdcFQDSbIUehZfI/0jbNssxm/z/ZBPluoL8WQOEkrNHmy/I/QRJI1/EA9T9t/9ZYQ/TwP7MI7iJPaf8/AnaacqRW8z9qMulTBWETQNQjSPmKphdABOobIJuU9T8MVI48gk0AQNKEICeU2vc/3SWZWcyyBUBJG5YmGy8SQP3z8qZeg/M/F+kAMx4F8j/ZNm3AD9DzPyVJgwuVqgZANmLGeJvW+T+CeLfURSf5P5HusWgplfA/WA3lARVp+T8DM1QajPUjQE4pvU4h6BFAGTpfQjI28T/gWmMAEM70P+sysrrCE/A/YBM/hOdfEUCslUmFe3vxP1P/kZNojhFAL0EebAXM+T+eNc4E8GACQB+jZQ+gkQNAU07EHD1eAUB9onuKpukBQJ+RPLUWuvs/XYuFv0SIUkCT0MtWK3X4P9Fc5f9iufg/yWEPpLtC/T+GH07e1U0kQHjPtsk/Xfc/9Qu4PXH78z9U9Rnw5/jyPwB0hEb/ufs/Z/nyNdqg8j9xhBZ1H9oMQHjFC1RPLPM/0/ZHEHsGG0BshzHDGeXwP6ZkBnkGIfI/VISp1KVY+T8JZSZ4hBPzP8lHvF1XxfA/nQmw3A2X8D+kDcqE/5cWQJpJl/byH/g/zjV52fQOHUD/NYrr9HEhQDdM9U4/cwFAv7HrhoVOAUCksDG3VkIAQJRzxTDT1vM/xsUmPfcP9z/S0YPRElMaQATGfQ99X/U/FYMRMISQC0AklR+wKEIGQNI2zbLMZv8/5HKzDOgf9z9brvoQO0H2P9lDykjeJwRAu47bvI1g+D8jTS7xUc39P8Xt4/TTIxxAmeaEqH6H8T9Y/tYpHOX/P87LEZN/IwNA9bgpBGam8z/sJV47Ej32P6zX+3cyvQVA7MgbQxHtBkDHro8sHBDxP7juVjiw9vA/smYoq9iK8j8jM+nD7Tn5P/QuRumTP/E/K7mzhcas9D+W/wh6C1P1P7pRYkDoI/A/lYwLtUWD8j+aFImuB6wzQOEHGKTOgQVAvDV9tH8l8z8kpcabPlXwPzKHOlgaw/8/ioRxDUWMA0ATIByxOr38PzLUB9KhhQBAyU7LWETQIEClvyEQy+H4P97XZsccHfY/fFRLNz9y8T+qqvWHLKfwPwP9abFp0vY/FVu8TGZuAUCN0jA1wwYLQBMlQD+EnfY/VyL4qmJM9j8Af7agIiMGQHqf+I/qW/U/Yq69lHxe8z+T91v0x/78PxQFrhNTXw5AQJbpZMmEC0BEGnW+FOvyP6xcch0QPwBAg/gZgGVl8D/qc5zFfB8yQChwNmJeO/Y/7FrbfNUf/z+djyK8qrDwP+lC4I6Qzf4/8rVMEMYZ8D/k2Fd9L0v3P+Jmx/5ROPg/H2CNcHuT8D/2xvtauSYQQNlxLV3H/fs/xsvcmZsFIEDU1PTXrfLyP108yqOnr/I/Xwe6+5In9T/qKPQD0P0QQJyuZhWYxfQ/c8hvvZ2a8T+IVQFpIbL3P3XBMLmxRPY/Ifoj6UjBHED0R7Fx4RjwP0bvxL5wJARAMESTmsr58j9fxDm0PtwDQGOIvpJ6ffg/cULW7TUFAECMzxGPyjj1P67T6EUWfgBAr/r2PHKd9D97aydZSm/zP8lctfHjgQFApTFUafdv8z9QHplArKIBQMddC1jdS/Q/6iHTi/JWEkDbpOxfT6cTQAGCYC22KvY/GRvZcph78z//mlClNVTzP/DlVdYwRfM/6Cbg9uHL+D9kPll6D/zwP4YgM2tLGfA/LB+/ZaMZDkD6qbifDiL7P6y3UdklXfw/Ax2oXroP+D/6pTrhjUnwPyhvfr30TRRAcx1oJjUN/T/yctUj5y76P5Eh26a/4vs/Ga0lct2d8z8YyhOigoL2P02SO++YWvI/MjC54rniFUCEs/fc5H/zP5gypFy2Dfc/gfO6csyU8j94s9VpP5D0P9kVUKYj7/I/UyY+PmDcAEBFRuaItuYxQO+3XUmIMPs/WxrMOXev+T/00VRfAP31PwS0ZxMrRPc/1uKcmxO49T9N8G3nX072P8wKqipVUv0/5hHAkDZCDEDpnItwqbXxPz1OfZ0E8P0/MnvVnta+C0Bsm05CPxnxP0XDJT67lP8/jpB0+/mDAECjd/kYcKn7P5HZZmxiMQhAj2cgFV+f9D+SmpzEhGb8PwvWXN/S6fA/1Noahn1JCkCo9TeKfe4GQFhTz8r3sAZAYYCuz4Tm+z/uldP7mBnyP/FciFKFLPQ/QyBFsmNo/T840wAMmfDxP1TZNGAGQQdA5h9Pc1G09j+uBP00Gg37P4ycZuSN9PU/eV977sxuBEB3gYOlJlEEQBXDzxitfPw/Ap8w2UkmBkB6DYUa1Cz4Px8Y8b9BePg/gekZlqQk8z9PKxtAtr4BQBejxLu0hvI/hcWjxMLa+D/183FQeXv2P2rrMQTcRRZAN9JK3nKx9z9U5ISu4+gjQOX15zW2Yfg/+YcoNOsZB0CoD/PfNUIIQCXlHBiw7gdAiSgWBOfyA0BYPQ1rD2TwP7q0L3cZQ/I/WJAX3mPKA0CuocntR472P4mMiqV4KgxA2pW/B6DF8j8ZhQ1H6t30Pxzt8kM1wPk/+m30WmdP9T8DwbY3i80SQP62InASEPA/F7Fln40gGUCNBnf984r1P8M03+YJawlAmyj+xSFR8T9ZUIiYKsrwP9KsFhD1DgZAygR4euchDUBimHJfGDP8P7O1NFD0uxBArvu1eXo19z9Qn9PXb+sLQAZSlL3AGfw/BV1K0Fi18D9C/NEbuEsLQHE7ZJ9/6BZAORAED+JL8T8emOTMB8bxP/cY6b/FxwFAoOKPopjc9z9hp8/6LwgBQNdxbxYOBPI/U77fQNUt+D+6DABw9Or4P/rdBpMeGwJAtmJxEfm68D/SNs2yzGb/P4WdJOq6dRBAr5tfz6Nh8z+OQjxgcLDxPwfc70VAVPQ/rKc+wLQz+z9+b4vqCYoAQMhYb+TyjvQ/+m/cQmrK8j9Fy/Hi6df+P2KyopkqS/c/gfgU5MrJ8z+812h5E4oLQPyCofRiN/I/A4RnenQA9j/iKHsJ9lP6P+gwAqRVuA1Aaen/xGNVAEDDCp697RHxPw1We6g7pPg/edeqJNu2/D8ehiS4+/LyPwjwJ0d/bQVAzyFZCL84+D/sN8R+JFP3Px72Y1+VHiRAhj6knQgk9j/kLqiSue4QQNsKp802efQ/Hs5pT29V8j8UqmKjwujyP7Bp1/oXo/g/MUrpeFNTD0Dkk2UTsbXyP+W8PYjWYvc/sBO8jpUP+T8+isM0kDPyPwE2r7H6e/k/CmMD5o8OBEDr1kOswjH8PwXaEMLEJvA/CLIazp/L9T+MAjg+HtfxP9LwioKtgvc/srpv07vB9D8ok985a3T6P5IhL9hjkA5A0RqUmGhz8z9UbsjE637xP0w3jovUVg1AmsQHVIjaAUC1GqqcOTLwPzXpHWUySgNAbH4lNr509D+n4BViYij2P+StSYoAY/0/FcrQ4hIR9D86GlieaeX1PyvWAcdK4/A/gam26hnK8D/MBNt9B0zzP4jOnAc9Bvk/90eTN3EG9T+v7c1aPKzwP8LK1nJsgPQ/r2RbKl2g9z+21rpSaunyPx6w5BVEAvQ/yjlQNkop+T+cBmn7Mx72P44axYeC5vY/hc2umzVBDEDVK/T6qvPxPwTTdmjJZfU/tl6qtqlV8D9l0XCmf935P2YaRcH+vgZAkqLXwShiAUA0p3Sjqo72Px4Kx2Dn7BdAZzzcTDTV/D9RNkOht7zwP76948QT2xFAGvk6SEBH8z8JQVj9EmL0Py5cGpi7BPI/+8BjsQrE9j+07lArgN71P3JnbKeDq/c/sB2nxo3JBUBkCL5WLXj+P0ponzx8zvM/ihSlgHXY9z/SW2GyjvXxP6/K1yyC6/Q/hSUEm6SG8D/ysZLmDRb4Pwu53B9yDPQ/+/1l8+pG8z9Yj4ATFuPyPzqInvBaXgFAnGD2TfbGNEAOZmXUUzAAQBwqyAQ8ngZAgLve4E6U8D/nixeXE0LwP19UtHywFgNAfAOWsP90+T+kwOV3Q4TxP4OrW4lDsPg/n6d1jsih/z+WEmk8bAcAQP3hDRz4dTxASotQ9SIP9j/xw/qM8rkEQPaRnJVStPM/rGtttARm9T+PZnvcuvn0P0rvQ+XM3AVA2kX+Q6Jo/j/0bLazim37P4EJBxgIMv0/vFhvI06C8z+6tww0/VXyP+twPp7vcgVAzmU+F/T39T/h/fc4wnkKQNYWH8PIx/I/y20EteDh8D+ZPXHCPen6P7ikTTRbFAdA/S0HsZ5mAUA0soAvlz/xP0rMjvsVQ/M/xAzjNM/n8T8+SoeTdEn9P1tfziUeZvc/bBDcOutV9D8Si6cS+433Pw5sFdKGq/c/URsHtQ7R8j8a2gF+ThfxP97OQEmq4/I/SACd86me9T93OHMMH6v7P3451SeDT/E/lrmL1Tle8T+MwWECLZbyPxW5yUOMkPc/WlYvXTte8D9uVHZx39jwP5WJmjHgwfU/sMn9awD58z+P3hEWEKPwP40S1vTQ4Pk/V8IBn7Yo+T8VOvdeplkCQJy94+N8BPA/YTlY5e3z9z8cY5V7fGzyPzusvPzuwvI/VADgtO2g8T+TfSjQtA35P9gYXRZCL/A/Jjg9wB429j93BLw1iLP0P9jCTzvST/U/QWROhGDV8z9MaXZKlO/1P3gwUwLuKBJAe2+rtEG/9j9EL0EBtPXwP/A7yOfHyfw/LGBmlqaqLUAK+2cnE3f7P0pk7irFlPw/9pZb0O3Y8D9148fiLcbzP5uHroctfPc/0HrQLJfy8j+v34CD1BD6P1zoDSn0NwBAEJT+zsgIAECoWTAIWcEAQDPoM6wd1f0/nznTCll3EEB5JELC7rbyP2QYnnSZCfQ/wOYLB/qq9z+44QdKIV8AQN+21XP0+fE/l8A1zteC+D8MhkP5Ujj0P9I2zbLMZv8/0jbNssxm/z/SNs2yzGb/P9I2zbLMZv8/0jbNssxm/z/SNs2yzGb/P9I2zbLMZv8/0jbNssxm/z/SNs2yzGb/P9I2zbLMZv8/0jbNssxm/z/SNs2yzGb/P9I2zbLMZv8/0jbNssxm/z/SNs2yzGb/P9I2zbLMZv8/0jbNssxm/z/SNs2yzGb/P1rmMQjXRfA/Rm0bJZY5BECaXRq8LG/1P/xWdn7HbfY/dPqxCczw8D8HAdeadjUEQPAg+pLPh/Y/NvgY61wl9T/Fxe1LMCQBQMRw5cKU8fc/VXLMjl7/9D/yk98L6NT1P4dG+4SYPwBAvEGiW0BS9z/LVa4zfcLzP2ADilZ1HPA/TMibrO/+8T+Ja3B2H/MHQLnBVE/aFwJAtBe1SZFJ9z9+rwnxXVH3P/zAwAIot/I/2dRAlKgM8j+gaM+m2qAHQFbdune0d/Y/DGJvodyeEkDy6dSoCEX6P1q+9UwcR/Y/1dqoJE9W8T+DQ8lqWNMCQBzScTu6Lvg/ZnbDNuaOCECek2HZZIr5P1cp9HHnHvg/+z53hJUG+z/7S1Jvd1/yP4ofOl/8fPU/lFJz5FGaAEAQJa93Kh0CQIMyhTkrKAVAEFG158P9AEDaIdMAbhb0P97EmOXZPgBA9euwG4dHLUCokiV5KQEZQNBBLkWfz/I/yPuYm+ya8z8aX6PQArn2PyULftIyPfI//nPdA714+z/Wr0i/NdDzP5RJkR7DEgRAUtQhrjl++D/0ybA1IQwWQAMEc70Py/c/Zg3alxSQ8T+Q7nhT7qfzP3Eatm0gAPI/M23TQTOX8z/bm0MMfL70P3S47yEG7vI/fJOBfzbvC0BRiwHSNFnxPwTeof9WRQVAhHqrv2tKB0DAfy0nbgryP9Iff4OoNgBABBPEFm3TAkBgE9JMnG31P6ISqHXNvwlAkhscE8bH8D9NwHjMpYb2PzfARslqjgNAmkfBUh3o8z8Sken8ZXPxPzhbLENadiNAHy1m8WsdCkB7TYJmTG/4P4E7Uvp4LQRANpaL7std8D9sNEZH4sXzP+nUG42OV/Q/7CBTFlkoA0B8SHTYsvHzPxeMQ5P00wdAxXcZwp8g+z/hSJewEeH8P7mRZnBJawFACM7Id5JY8D9f8nt+yQPzP1NnvFWEl/s/sZgyZp3t8D9w7QJWJpkMQELoSGM/HPM/IB0QMWkp9T9aZ3l3HqoHQFQ3yUwyT/U/TpAweyAT9T+dB9iKkVn0P7ESxUpnePI/RqKeq+P58j+AkWdTlILyP/RsN4oCB/I/rRq8+BOZ9j+PCh2UANjwP0rl2rVvzPY/El9ox8p88j/+IU0V7SwGQFxq74QrzfQ/uqIFwv2i9D+xaIq5tLvzPyKLHDRY3vU/miYMtrSq/j+7bjaOn1zwPwvyuedLoPY/VmEuid4r8D+lYB2tdkPwP9M3yEt/ofE/aV+rtqBFCEAx6qh/PjrwPxp/xqtWef8/6IUxGP4/8T/aX+xKS0XxP3JfrpYbMPQ/ZxMMKF/8+T+rUDqTnK72P3tRE5MpEQFAmx0RjhbB8D8+eMW9BwHzPx1m9wb6vfA/ItG7CLwf9z/okJo/E9T4PyjCiGAh2v0/F/rVpz3m/z/rZhh4D2r1P/6alrBRSRRAyV9FkHYd+T9OBUBy33vwPwu5hG3vgfo/hsemn0aWDEBFG0FUHT75P67dnhj9kvI/vdwv916T+z9e5lPl5hQBQDt5YMSvevA/Uh5jpEq78D8XTlRuoIbxP0q6VOanB/A/6WDpJ2MF+D+gLFs5tFsEQItZsf2diAJAvFP8c2tqFEBCKQohZNHxP1fMrGHVbv0/FEEpmTsZ9j9RD7qn+RLxP1HRoG6TyANArUPODQrRHkCeYbdfmun1P2NUw3ZrIPQ/NYGzUsuUA0CF1PVnXOP6P0HJjhJ3CxFAxgjdLB7a+z9wod/MWsD7P1zFEEPrJAFADSPa3SwL8D9DKVEEWHTyP6fUO8F2jwdAe4Sv9/Iq9T902tj9AioQQJcVgkkgMvI/2/6ijkZJ/D/GnhxkXDj+PxuGhqewJfA/c0oSFC07/D/oMLPUIaL0Pzl/m1rFdAJAP8MwwIIC8D9V7m1WB9HzP4CQhvJy7P8/MEZ3BJZX8T/owjmFLDvwP0tlevEXv/o/wxx6YNwD8D/P465gwZn1P3V4qSm+d/M/QmEQJFkd9T9DJGdBaYj/P6kPAh9IP/Y/SOKxf8St8D9bSVyRCAP1PzKMIdNnqABA3HGtO4tI8D+3qR5VzSfwP5yLED/MDgFA7Lri+J/UA0BMv6+ZtAL0PxA5U4aAZfA/a4TcdtxK9T8SECmK3Af8P1ehdX3elwRAbbaAEK069T95X7zaYnv0P59+AVV1Gvo/GHJUlNFZ/j+Ppu0f0kf1P4wf/2GQufU/KEErQDSZ/j++WCiZbccJQAbLY7lZYPw/LjsQlmom8j8vqQyMM+sDQOY3Ip6QS/A/BjYyltrc9z9Qbk05eQ32PyJ1FfWxOxxAWpVO9u9m9T8AKTwWfr3zP14Ezo7ELAFAN3WGxYdYBUCGqkR+NcbzP6wZpF/atABABNNE3y8J+j8In03+QirwPzFJ+LfUaQZA8QP0Vq5nAEB2ZFr/tD3xPyzMSo2mZPg/G5qWh/Mv/D9+2RUeuGb2P/13v909zTNAlahoMQrQE0D4sCHfl9D/P+ujnxl1ufs/SOlrLR0I+T+BP4xc30T9P4qdw4bPGgVAuWlrx+ii9D/pfYQIw6QHQGSWCDkMi/o/52nOBtBR8D8kI8mE98T0P09Tnq75IvY/supbCAR68D8jmdZ78FwCQL1Xwiv3OfY/gK8V9tCrAkCKDROC3jgSQOoxkIvBFPE/HNdJb2pc/D/acDQULlr/P0XvCB475P4/rCfnBd3h8z8hEBVkHBn2P/HXZdVKEPA/5TnlgVUHFECx5qh7n6QHQCMvtle9cBBAXWB7h75A9j+yQaJT5df2P2kNqBpADjhAQmJGbYAS+T9wEQmWxZzxP95fJ3zAO/c/IFe4CRiQ8j+fpqAFWObyP0JkzyLrXhVAZHp/PqX+9z9ww0eNli8SQHvz8sDONvU/RmX+dCqTCkBKAo3k/576PwiiirRbUf8/pnOXjAZ4+T9OkcbYQ4H6P1SlyCGp0PI/4lGdaB7E8D//L7qcqSrwP5sqeRN5B/U/wDZxhtYA8j+xXlZExIXwPy3mvj62IPA/eNUeZnRX9D/CZL1mVAXyP0SYuBixLPo/RnL7KXipB0AVSn7svVoFQC/fh6p9F/I/IYuE8FAb8D+kPv+tbjL6P/rI5g8e3fI/WtJEYVO28D/YvDT+KAPxPxtFWNKtriFAmQx1b6+X9T+m5VyH2+DyPztMZLJoOf8/mMbM2Vfq9D8h8V6ou4P0P9kXcSZOh/I/E0kc8CGD+z9Bl3eMmDHzPy5o40J9OwxAD8uRMFke+j98SMjHuznzP6NBr9lw5ABAQJzC3pan8D+KBYQdPkb8P3SgCGJzbQJAoh3tutw/FECiJjknJY73P1WU6Z6ENQ9ANzLFjFVp8j9RFccYZEcMQAAr5ljDzvo/m6Uw8w1r9D/kxe4jzYL4P6ov8tEk8fA/NeXgOhnz9T/HvQmOd4MLQJYIbU67nfA/Dqukh45Z/T+oxTeYUUEJQJWUWQZEf/U/XXZRItxB8j/nKPYeGF4LQBwS6q2T+fI//psEhRgS8D/3NmUCIdTzP87VZ16Nmvg/MhDNdWwP8D+QgJeWYU8PQAGQ2fJWqANAbhMJBiaX9z8N00KMBmwAQDvcxMpZiglAsDFh6zf/+D9G9eOzk8n+P7A0c2aqvPw/d/D93tvDFUCVoHVprM4VQHIBtMrbjfM/2RyV5tt+9z/MY+xlnND8P+R2OCavX/I/5ViLOlsH9j++Bt7t1iL6P7UcMk2URANAqihzfrBW9D/T5qYV44b1P0i+oP4ITPI/mHKpvNk2+j8arS/7UXIFQDrLlGWECvE/dJLvI4DZ9z9ePhFJfMH1P0K846uYwfc/fqbSmGB2AEDaiu0ptwTwP6P+iIsMGvA/oMP6f1UM9j/EzBkfpyX2P3ggGV0E7fc/FVwnEE8QBEAIhInklGb1Py3Oef5ViwVAa/5TJFvZ8j+H+zJcDW7zP6AoEAP29PY/H41nn7/E+T/wJI6RQ/77P0bTcKi1w/Q/0fwkp1588T/u5rq8xE7xP0e3xJO2SPQ/Gvo83eiOBUCIyWoZVdIBQEiwa4fBVvI/LFZ27lJJBUCb1sfAJnz6P7NG80RKoPY/7THedFyH+z84l3HPZHnxP+5kKiylTvI/XsZrRrmkDkC2L0lyUCHxP/jGTBkh7fM/GoS2TU669j/1IhTunl8YQIPRvNBHXPI/3lwWfTGh+j+wy/3Zd6TwP5UF7bBbpPE/Kvjlm0YnEEBPbtfNnuHwP6fkhi3nqfI/nqyvY4at8j8O1iV5KV0KQDxfPpsjIwNAG34pZEzL+j8I1GsRzdICQJLvZCxs+PI/W1S+bvPe9z9iB/fxFx4BQFzMuZn88/A/w3LVbxGh8T/ozKFR3fcFQPj9nPEgIPA/VD7f+OuA8T86VPCaCKTwPxu12rY1lB1ATb6wP7BS9z9oW2vOYBr0P/lGTy7n+BBAR+lHNqscEUAkmWyIP6nwP+FvCiMAtvY/+aG/ZYp2FEAOp+qdAu/0P+PiQmhJefc/y5Ntjs6TGUC+nDgnIFT6P5zT+hX+/gBAgK5WJ3+T+z+eDQLOCl8SQJxnFi7G8PI/cQKOlNZZ8j9ja/J3E/byP7jgwIB7HQhALhc3Ff7C/z/mz7UB3XTzP4cOD0WIf/M/AWwzk8DW8z++bhvlyN72P18QMjm0u/0/HjNHGm0N9j89n6eftlv0P9BU8Xo+OPg/xXtLaM68DEB00/AQRjjyP5WSGF7DIwpAUD+gMbwxAUBGXj/DHq73P2IRr/t7MRVA30fcCkYsI0Dk4+5IeKAGQJaUkJHpNwVA54AUi0OUDEAIHlXZ7oTyPx3/Lbk5FvU/P+qMB8qI+z/Q52F8ddr2Pxp3nPpLJgBAvX2PCeYd9D9Q0VMSeObyP+KjZntPhvY/Ir7VKWEy+T90U32isAvyPzEMJHel3P4/MW8Kp7nS9z9v9sMikJT0P/STy/ZsYfU/DN21soKg9z/MO9SAqMjyP1451tKiqvc/XEe1t3P88z+gE6XIqnDxPy90ZTx/YgRAP+PcF7NT8T/k3HpyWqX3P/sTJD49QhxA22X2fK8j9D9CLyHQR1z8P9hT+JuzpfM/++6yVLoWEUA4BUsjIr7zP3FsvSZTw/U/Bmzxtbru8z9zv4tLf+nzP1ND1dUSAvE/A4idFQ1i9T9qUEVgOs/5P4xD52+Azv4/Txc62sloHEDLcyhaBXj0P4O3ufGsAQhAji58lZqb/T8zOfN81Gz5P1T1SV1VJPM/CV1qmc8DBEAyMLniueIVQGQrsnbic/k/nn926y4gBUCrM3FCTGr0P0yxWzkCYwVAoEvhwB7W+z8lzmwVKRXxP2ojuMITP/A/HCNqocF+/T+0Ds2VRF71P69z4lAXTfc/MKtOLCum8z+A9nYvgvsAQKC+5+DDXfI/WEBhYjw08T8Wx/DnUm32P1QRmMoHMvY/grusv6hh8z/EgrzvT+ryP1SoFSL0+fA/UlHc626b9j9naVix3b1AQNRYIEmyhPg/qi8q9qtk8j/lnKT7WIwAQGUgKKAUyvE/4PZs5Q75+T+wUBHXX+PyPy1OSymHqvE/7c92h41R8D88vYoGXLD1P6g1nzSyXfA/jAliVBOy+D88kngolsfwPz+4w1ihZvY/nLqVuzfX8T9xtWLgrg0CQEaNoGsHP/E/MUt9xgpB/z+ntm9ZE6ECQBLgMPjtjyJAvSjKm29L8j8SfU83+UL2P5JDRBdTMwBAr49DrC5z9D/tIujD8n77P2EKIHUHkvQ/NREDBHHR/D/Ywa9Fu93wPxJ/c4cvTQRAswjuIk9p/z+u0x4gWPPwPwQvgUvwUfE/VwxlmamKCkA1L6QlADPwP7TCeqEFIvA/VgZ5G3Ci9D9VK5X/mPn0P51O0MPJiQBAX8uH8pPM8T8lQlAr3AIQQFiFn/cOsfI/+/luFOowEECeWoMM9nXyP+H3vAzmJvI/twpq/h9H8j+eZRf5XMjxP5S4O0g13f0/+Og5eyVp+j+NhM6+GQHwP5TaCHBFifs/2swVH4429z/azBUfjjb3Pymra3cvx/A/\",\"dtype\":\"float64\",\"shape\":[1566]}},\"selected\":{\"id\":\"1064\"},\"selection_policy\":{\"id\":\"1065\"}},\"id\":\"1039\",\"type\":\"ColumnDataSource\"},{\"attributes\":{},\"id\":\"1021\",\"type\":\"BasicTicker\"},{\"attributes\":{\"overlay\":{\"id\":\"1030\"}},\"id\":\"1026\",\"type\":\"BoxZoomTool\"},{\"attributes\":{\"fill_alpha\":{\"field\":\"alpha\"},\"fill_color\":{\"field\":\"color\"},\"line_alpha\":{\"field\":\"alpha\"},\"line_color\":{\"field\":\"color\"},\"size\":{\"field\":\"size\",\"units\":\"screen\"},\"x\":{\"field\":\"log2FoldChange\"},\"y\":{\"field\":\"transformed_q\"}},\"id\":\"1041\",\"type\":\"Scatter\"},{\"attributes\":{\"js_property_callbacks\":{\"change:value\":[{\"id\":\"1057\"}]},\"title\":\"text\",\"value\":\"gene\"},\"id\":\"1056\",\"type\":\"TextInput\"},{\"attributes\":{},\"id\":\"1010\",\"type\":\"DataRange1d\"},{\"attributes\":{\"text\":\"DESeq results of MV411 under YLK inhibition as volcano plot\"},\"id\":\"1006\",\"type\":\"Title\"},{\"attributes\":{},\"id\":\"1025\",\"type\":\"WheelZoomTool\"},{\"attributes\":{},\"id\":\"1028\",\"type\":\"ResetTool\"},{\"attributes\":{\"data_source\":{\"id\":\"1039\"},\"glyph\":{\"id\":\"1041\"},\"hover_glyph\":null,\"muted_glyph\":null,\"name\":\"circles\",\"nonselection_glyph\":{\"id\":\"1042\"},\"selection_glyph\":null,\"view\":{\"id\":\"1044\"}},\"id\":\"1043\",\"type\":\"GlyphRenderer\"},{\"attributes\":{\"source\":{\"id\":\"1039\"}},\"id\":\"1044\",\"type\":\"CDSView\"},{\"attributes\":{\"axis_label\":\"-log(Q)\",\"formatter\":{\"id\":\"1061\"},\"ticker\":{\"id\":\"1021\"}},\"id\":\"1020\",\"type\":\"LinearAxis\"},{\"attributes\":{},\"id\":\"1063\",\"type\":\"BasicTickFormatter\"},{\"attributes\":{},\"id\":\"1061\",\"type\":\"BasicTickFormatter\"},{\"attributes\":{\"source\":{\"id\":\"1045\"}},\"id\":\"1050\",\"type\":\"CDSView\"},{\"attributes\":{\"source\":{\"id\":\"1045\"}},\"id\":\"1055\",\"type\":\"CDSView\"},{\"attributes\":{\"data_source\":{\"id\":\"1045\"},\"glyph\":{\"id\":\"1047\"},\"hover_glyph\":null,\"muted_glyph\":null,\"name\":\"circles\",\"nonselection_glyph\":{\"id\":\"1048\"},\"selection_glyph\":null,\"view\":{\"id\":\"1050\"}},\"id\":\"1049\",\"type\":\"GlyphRenderer\"},{\"attributes\":{},\"id\":\"1024\",\"type\":\"PanTool\"},{\"attributes\":{\"data_source\":{\"id\":\"1045\"},\"glyph\":{\"id\":\"1052\"},\"hover_glyph\":null,\"muted_glyph\":null,\"name\":\"outlines\",\"nonselection_glyph\":{\"id\":\"1053\"},\"selection_glyph\":null,\"view\":{\"id\":\"1055\"}},\"id\":\"1054\",\"type\":\"GlyphRenderer\"},{\"attributes\":{},\"id\":\"1066\",\"type\":\"Selection\"},{\"attributes\":{\"data\":{\"alpha\":{\"__ndarray__\":\"MzMzMzMz4z8zMzMzMzPjPzMzMzMzM+M/MzMzMzMz4z8zMzMzMzPjPzMzMzMzM+M/MzMzMzMz4z8zMzMzMzPjPzMzMzMzM+M/MzMzMzMz4z8zMzMzMzPjPzMzMzMzM+M/\",\"dtype\":\"float64\",\"shape\":[12]},\"baseMean\":{\"__ndarray__\":\"DthxT8U0fEClTSKvahiOQO6odhGvdZBAxwUMwzIVa0DnDJVLREV8QLtZM5mxp39AokxF7TJHhEAYFU6sRic1QGQ+1ZoVL3VAwGptEIoqd0BvHNK4BYt1QFrPFhKhv4xA\",\"dtype\":\"float64\",\"shape\":[12]},\"color\":[\"#fc8d59\",\"#fc8d59\",\"#fc8d59\",\"#fc8d59\",\"#fc8d59\",\"#fc8d59\",\"#fc8d59\",\"#fc8d59\",\"#fc8d59\",\"#fc8d59\",\"#fc8d59\",\"#fc8d59\"],\"gene_id\":[\"RUNX2\",\"RUNX1\",\"CEBPA\",\"E2F3\",\"ETV6\",\"FOSL2\",\"GFI1\",\"LYL1\",\"MYB\",\"MYC\",\"SP1\",\"ZEB2\"],\"genes\":[\"RUNX2\",\"RUNX1\",\"CEBPA\",\"E2F3\",\"ETV6\",\"FOSL2\",\"GFI1\",\"LYL1\",\"MYB\",\"MYC\",\"SP1\",\"ZEB2\"],\"index\":[\"393\",\"394\",\"491\",\"816\",\"935\",\"1035\",\"1108\",\"1634\",\"1807\",\"1811\",\"2869\",\"4378\"],\"lfcSE\":{\"__ndarray__\":\"greS7tyKuz+n+bU8vdO6P+7yuw7Xb7k/6cUabzgbvz82CtTAf5W6P2K5Ay5AIbo/IYjfZ0hrtz/M3KyngzbVP4O1f2bpNb0/nFOdnhJnvT+xwxZG2BK7P4fx9odRq74/\",\"dtype\":\"float64\",\"shape\":[12]},\"log2FoldChange\":{\"__ndarray__\":\"eZFUjYut279TPp6yIa7hvyQPlnZ9seG/hsidfkLF0L/v3yZKGn/OvzkRFT6+wtc/tp6E5Aj44r+tNk+YBVniv6edXyBoF9+/+LOhpWCN87+l3cF26XXVv+5Vnc6+9dS/\",\"dtype\":\"float64\",\"shape\":[12]},\"padj\":{\"__ndarray__\":\"8V8qAna2aD8wPioIjPbsPiX83WVUnss+tzXCx1nC1D9XoYgqufnQPxTdPt8qYoY/ZWzqu612Uz4jzyRMKZDgPx03kjhIaFQ/wg7lzp3GKDsidjxdRH6lP5WeWN2egL4/\",\"dtype\":\"float64\",\"shape\":[12]},\"pvalue\":{\"__ndarray__\":\"z7+9Cf6NDj8Hb/vVGhSCPg13aUStNVw+az5FCELJnz+hWM8V9kqWP4BxiRvgDTI/d96VpaY+2T2lsesBZ2q1P7JOPgXdq/U+ia5sQOQZmDpcaeINT+pYP/artv9Zp3k/\",\"dtype\":\"float64\",\"shape\":[12]},\"size\":[7,7,7,7,7,7,7,7,7,7,7,7],\"stat\":{\"__ndarray__\":\"yiWxyCUUEED2+Owt4BYVQEM31PQrQhZAHs15YppAAUCurVDX1FoCQCJ8rFs9GQ3AkXt+n1LrGUAWZO9vhK37P8HcLLq8BxFAY5DnBItHJUDpR7NWmV0JQHUHl+OS3gVA\",\"dtype\":\"float64\",\"shape\":[12]},\"transformed_q\":{\"__ndarray__\":\"+xgUzR7wEEB9JF3MinsbQGX1Yg9vUh5ADLd/cwUh+D8s98TdGpj6P+MV0LitegxA4Qoine0SJEB+6icaej3xP1oQ6rIlvRJAtOmO8u21OUD1GTCoK4sGQIiMRWEsoAFA\",\"dtype\":\"float64\",\"shape\":[12]}},\"selected\":{\"id\":\"1066\"},\"selection_policy\":{\"id\":\"1067\"}},\"id\":\"1045\",\"type\":\"ColumnDataSource\"},{\"attributes\":{\"fill_alpha\":{\"value\":0.1},\"fill_color\":{\"field\":\"color\"},\"line_alpha\":{\"value\":0.1},\"line_color\":{\"field\":\"color\"},\"size\":{\"field\":\"size\",\"units\":\"screen\"},\"x\":{\"field\":\"log2FoldChange\"},\"y\":{\"field\":\"transformed_q\"}},\"id\":\"1042\",\"type\":\"Scatter\"},{\"attributes\":{\"background_fill_alpha\":0.5,\"background_fill_color\":\"#DFDFE5\",\"below\":[{\"id\":\"1016\"}],\"center\":[{\"id\":\"1019\"},{\"id\":\"1023\"}],\"left\":[{\"id\":\"1020\"}],\"plot_height\":450,\"plot_width\":650,\"renderers\":[{\"id\":\"1043\"},{\"id\":\"1049\"},{\"id\":\"1054\"}],\"title\":{\"id\":\"1006\"},\"toolbar\":{\"id\":\"1031\"},\"x_range\":{\"id\":\"1008\"},\"x_scale\":{\"id\":\"1012\"},\"y_range\":{\"id\":\"1010\"},\"y_scale\":{\"id\":\"1014\"}},\"id\":\"1005\",\"subtype\":\"Figure\",\"type\":\"Plot\"},{\"attributes\":{},\"id\":\"1029\",\"type\":\"HelpTool\"},{\"attributes\":{},\"id\":\"1067\",\"type\":\"UnionRenderers\"},{\"attributes\":{\"axis_label\":\"log-fold change\",\"formatter\":{\"id\":\"1063\"},\"ticker\":{\"id\":\"1017\"}},\"id\":\"1016\",\"type\":\"LinearAxis\"},{\"attributes\":{\"axis\":{\"id\":\"1020\"},\"dimension\":1,\"grid_line_color\":\"white\",\"ticker\":null},\"id\":\"1023\",\"type\":\"Grid\"},{\"attributes\":{\"active_drag\":\"auto\",\"active_inspect\":\"auto\",\"active_multi\":null,\"active_scroll\":\"auto\",\"active_tap\":\"auto\",\"tools\":[{\"id\":\"1024\"},{\"id\":\"1025\"},{\"id\":\"1026\"},{\"id\":\"1027\"},{\"id\":\"1028\"},{\"id\":\"1029\"},{\"id\":\"1004\"}]},\"id\":\"1031\",\"type\":\"Toolbar\"},{\"attributes\":{\"axis\":{\"id\":\"1016\"},\"grid_line_color\":\"white\",\"ticker\":null},\"id\":\"1019\",\"type\":\"Grid\"},{\"attributes\":{\"fill_alpha\":{\"value\":0.1},\"fill_color\":{\"field\":\"color\"},\"line_alpha\":{\"value\":0.1},\"line_color\":{\"field\":\"color\"},\"size\":{\"field\":\"size\",\"units\":\"screen\"},\"x\":{\"field\":\"log2FoldChange\"},\"y\":{\"field\":\"transformed_q\"}},\"id\":\"1048\",\"type\":\"Scatter\"},{\"attributes\":{},\"id\":\"1017\",\"type\":\"BasicTicker\"},{\"attributes\":{},\"id\":\"1065\",\"type\":\"UnionRenderers\"},{\"attributes\":{\"callback\":null,\"names\":[\"circles\"],\"tooltips\":[[\"gene\",\"@gene_id\"]]},\"id\":\"1004\",\"type\":\"HoverTool\"},{\"attributes\":{},\"id\":\"1014\",\"type\":\"LinearScale\"},{\"attributes\":{},\"id\":\"1008\",\"type\":\"DataRange1d\"},{\"attributes\":{},\"id\":\"1064\",\"type\":\"Selection\"},{\"attributes\":{\"fill_alpha\":{\"field\":\"alpha\"},\"fill_color\":{\"field\":\"color\"},\"line_alpha\":{\"field\":\"alpha\"},\"line_color\":{\"field\":\"color\"},\"size\":{\"field\":\"size\",\"units\":\"screen\"},\"x\":{\"field\":\"log2FoldChange\"},\"y\":{\"field\":\"transformed_q\"}},\"id\":\"1047\",\"type\":\"Scatter\"},{\"attributes\":{},\"id\":\"1012\",\"type\":\"LinearScale\"},{\"attributes\":{\"bottom_units\":\"screen\",\"fill_alpha\":0.5,\"fill_color\":\"lightgrey\",\"left_units\":\"screen\",\"level\":\"overlay\",\"line_alpha\":1.0,\"line_color\":\"black\",\"line_dash\":[4,4],\"line_width\":2,\"render_mode\":\"css\",\"right_units\":\"screen\",\"top_units\":\"screen\"},\"id\":\"1030\",\"type\":\"BoxAnnotation\"}],\"root_ids\":[\"1058\"]},\"title\":\"Bokeh Application\",\"version\":\"2.0.2\"}};\n",
       "  var render_items = [{\"docid\":\"fd4b19d7-8662-4314-b34f-24427d507609\",\"root_ids\":[\"1058\"],\"roots\":{\"1058\":\"cdc682d9-135c-474f-ac45-5e2c3a9310fd\"}}];\n",
       "  root.Bokeh.embed.embed_items_notebook(docs_json, render_items);\n",
       "\n",
       "  }\n",
       "  if (root.Bokeh !== undefined) {\n",
       "    embed_document(root);\n",
       "  } else {\n",
       "    var attempts = 0;\n",
       "    var timer = setInterval(function(root) {\n",
       "      if (root.Bokeh !== undefined) {\n",
       "        clearInterval(timer);\n",
       "        embed_document(root);\n",
       "      } else {\n",
       "        attempts++;\n",
       "        if (attempts > 100) {\n",
       "          clearInterval(timer);\n",
       "          console.log(\"Bokeh: ERROR: Unable to run BokehJS code because BokehJS library is missing\");\n",
       "        }\n",
       "      }\n",
       "    }, 10, root)\n",
       "  }\n",
       "})(window);"
      ],
      "application/vnd.bokehjs_exec.v0+json": ""
     },
     "metadata": {
      "application/vnd.bokehjs_exec.v0+json": {
       "id": "1058"
      }
     },
     "output_type": "display_data"
    },
    {
     "data": {
      "text/html": [
       "<div style=\"display: table;\"><div style=\"display: table-row;\"><div style=\"display: table-cell;\"><b title=\"bokeh.models.layouts.Column\">Column</b>(</div><div style=\"display: table-cell;\">id&nbsp;=&nbsp;'1058', <span id=\"1241\" style=\"cursor: pointer;\">&hellip;)</span></div></div><div class=\"1240\" style=\"display: none;\"><div style=\"display: table-cell;\"></div><div style=\"display: table-cell;\">align&nbsp;=&nbsp;'start',</div></div><div class=\"1240\" style=\"display: none;\"><div style=\"display: table-cell;\"></div><div style=\"display: table-cell;\">aspect_ratio&nbsp;=&nbsp;None,</div></div><div class=\"1240\" style=\"display: none;\"><div style=\"display: table-cell;\"></div><div style=\"display: table-cell;\">background&nbsp;=&nbsp;None,</div></div><div class=\"1240\" style=\"display: none;\"><div style=\"display: table-cell;\"></div><div style=\"display: table-cell;\">children&nbsp;=&nbsp;[TextInput(id='1056', ...), Figure(id='1005', ...)],</div></div><div class=\"1240\" style=\"display: none;\"><div style=\"display: table-cell;\"></div><div style=\"display: table-cell;\">css_classes&nbsp;=&nbsp;[],</div></div><div class=\"1240\" style=\"display: none;\"><div style=\"display: table-cell;\"></div><div style=\"display: table-cell;\">disabled&nbsp;=&nbsp;False,</div></div><div class=\"1240\" style=\"display: none;\"><div style=\"display: table-cell;\"></div><div style=\"display: table-cell;\">height&nbsp;=&nbsp;None,</div></div><div class=\"1240\" style=\"display: none;\"><div style=\"display: table-cell;\"></div><div style=\"display: table-cell;\">height_policy&nbsp;=&nbsp;'auto',</div></div><div class=\"1240\" style=\"display: none;\"><div style=\"display: table-cell;\"></div><div style=\"display: table-cell;\">js_event_callbacks&nbsp;=&nbsp;{},</div></div><div class=\"1240\" style=\"display: none;\"><div style=\"display: table-cell;\"></div><div style=\"display: table-cell;\">js_property_callbacks&nbsp;=&nbsp;{},</div></div><div class=\"1240\" style=\"display: none;\"><div style=\"display: table-cell;\"></div><div style=\"display: table-cell;\">margin&nbsp;=&nbsp;(0, 0, 0, 0),</div></div><div class=\"1240\" style=\"display: none;\"><div style=\"display: table-cell;\"></div><div style=\"display: table-cell;\">max_height&nbsp;=&nbsp;None,</div></div><div class=\"1240\" style=\"display: none;\"><div style=\"display: table-cell;\"></div><div style=\"display: table-cell;\">max_width&nbsp;=&nbsp;None,</div></div><div class=\"1240\" style=\"display: none;\"><div style=\"display: table-cell;\"></div><div style=\"display: table-cell;\">min_height&nbsp;=&nbsp;None,</div></div><div class=\"1240\" style=\"display: none;\"><div style=\"display: table-cell;\"></div><div style=\"display: table-cell;\">min_width&nbsp;=&nbsp;None,</div></div><div class=\"1240\" style=\"display: none;\"><div style=\"display: table-cell;\"></div><div style=\"display: table-cell;\">name&nbsp;=&nbsp;None,</div></div><div class=\"1240\" style=\"display: none;\"><div style=\"display: table-cell;\"></div><div style=\"display: table-cell;\">rows&nbsp;=&nbsp;'auto',</div></div><div class=\"1240\" style=\"display: none;\"><div style=\"display: table-cell;\"></div><div style=\"display: table-cell;\">sizing_mode&nbsp;=&nbsp;None,</div></div><div class=\"1240\" style=\"display: none;\"><div style=\"display: table-cell;\"></div><div style=\"display: table-cell;\">spacing&nbsp;=&nbsp;0,</div></div><div class=\"1240\" style=\"display: none;\"><div style=\"display: table-cell;\"></div><div style=\"display: table-cell;\">subscribed_events&nbsp;=&nbsp;[],</div></div><div class=\"1240\" style=\"display: none;\"><div style=\"display: table-cell;\"></div><div style=\"display: table-cell;\">tags&nbsp;=&nbsp;[],</div></div><div class=\"1240\" style=\"display: none;\"><div style=\"display: table-cell;\"></div><div style=\"display: table-cell;\">visible&nbsp;=&nbsp;True,</div></div><div class=\"1240\" style=\"display: none;\"><div style=\"display: table-cell;\"></div><div style=\"display: table-cell;\">width&nbsp;=&nbsp;None,</div></div><div class=\"1240\" style=\"display: none;\"><div style=\"display: table-cell;\"></div><div style=\"display: table-cell;\">width_policy&nbsp;=&nbsp;'auto')</div></div></div>\n",
       "<script>\n",
       "(function() {\n",
       "  var expanded = false;\n",
       "  var ellipsis = document.getElementById(\"1241\");\n",
       "  ellipsis.addEventListener(\"click\", function() {\n",
       "    var rows = document.getElementsByClassName(\"1240\");\n",
       "    for (var i = 0; i < rows.length; i++) {\n",
       "      var el = rows[i];\n",
       "      el.style.display = expanded ? \"none\" : \"table-row\";\n",
       "    }\n",
       "    ellipsis.innerHTML = expanded ? \"&hellip;)\" : \"&lsaquo;&lsaquo;&lsaquo;\";\n",
       "    expanded = !expanded;\n",
       "  });\n",
       "})();\n",
       "</script>\n"
      ],
      "text/plain": [
       "Column(id='1058', ...)"
      ]
     },
     "execution_count": 182,
     "metadata": {},
     "output_type": "execute_result"
    }
   ],
   "source": [
    "plot.volcano(res,tohighlight=ctf, searchbox=True, title='DESeq results of MV411 under YLK inhibition as volcano plot', folder='../results/'+project+'/plots/'+version+'_'+scaling+\"_\"+str(minvar_toremove)+'_'+str(mincount_toremove))"
   ]
  },
  {
   "cell_type": "markdown",
   "metadata": {},
   "source": [
    "### Readcounts version"
   ]
  },
  {
   "cell_type": "code",
   "execution_count": 858,
   "metadata": {},
   "outputs": [
    {
     "name": "stdout",
     "output_type": "stream",
     "text": [
      "Stored 'res' (Series)\n",
      "Stored 'tccounts' (DataFrame)\n",
      "Stored 'readcounts' (DataFrame)\n",
      "Stored 'ctf' (list)\n"
     ]
    }
   ],
   "source": [
    "%store res\n",
    "\n",
    "%store tccounts\n",
    "%store readcounts\n",
    "%store ctf"
   ]
  },
  {
   "cell_type": "code",
   "execution_count": 860,
   "metadata": {},
   "outputs": [
    {
     "data": {
      "text/plain": [
       "'vAll'"
      ]
     },
     "execution_count": 860,
     "metadata": {},
     "output_type": "execute_result"
    }
   ],
   "source": [
    "version"
   ]
  }
 ],
 "metadata": {
  "kernelspec": {
   "display_name": "Python 3",
   "language": "python",
   "name": "python3"
  },
  "language_info": {
   "codemirror_mode": {
    "name": "ipython",
    "version": 3
   },
   "file_extension": ".py",
   "mimetype": "text/x-python",
   "name": "python",
   "nbconvert_exporter": "python",
   "pygments_lexer": "ipython3",
   "version": "3.8.3rc1"
  },
  "latex_envs": {
   "LaTeX_envs_menu_present": true,
   "autoclose": false,
   "autocomplete": true,
   "bibliofile": "biblio.bib",
   "cite_by": "apalike",
   "current_citInitial": 1,
   "eqLabelWithNumbers": true,
   "eqNumInitial": 1,
   "hotkeys": {
    "equation": "Ctrl-E",
    "itemize": "Ctrl-I"
   },
   "labels_anchors": false,
   "latex_user_defs": false,
   "report_style_numbering": false,
   "user_envs_cfg": false
  },
  "toc": {
   "base_numbering": 1,
   "nav_menu": {},
   "number_sections": false,
   "sideBar": true,
   "skip_h1_title": false,
   "title_cell": "Table of Contents",
   "title_sidebar": "Contents",
   "toc_cell": false,
   "toc_position": {
    "height": "calc(100% - 180px)",
    "left": "10px",
    "top": "150px",
    "width": "230.4px"
   },
   "toc_section_display": true,
   "toc_window_display": true
  },
  "varInspector": {
   "cols": {
    "lenName": 16,
    "lenType": 16,
    "lenVar": 40
   },
   "kernels_config": {
    "python": {
     "delete_cmd_postfix": "",
     "delete_cmd_prefix": "del ",
     "library": "var_list.py",
     "varRefreshCmd": "print(var_dic_list())"
    },
    "r": {
     "delete_cmd_postfix": ") ",
     "delete_cmd_prefix": "rm(",
     "library": "var_list.r",
     "varRefreshCmd": "cat(var_dic_list()) "
    }
   },
   "types_to_exclude": [
    "module",
    "function",
    "builtin_function_or_method",
    "instance",
    "_Feature"
   ],
   "window_display": false
  }
 },
 "nbformat": 4,
 "nbformat_minor": 2
}
