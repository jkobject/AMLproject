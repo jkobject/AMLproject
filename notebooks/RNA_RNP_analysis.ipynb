{
 "cells": [
  {
   "cell_type": "markdown",
   "metadata": {},
   "source": [
    "# RNP"
   ]
  },
  {
   "cell_type": "code",
   "execution_count": null,
   "metadata": {},
   "outputs": [],
   "source": [
    "from __future__ import print_function\n",
    "import os.path\n",
    "import pickle\n",
    "import pandas as pd\n",
    "import sys\n",
    "sys.path.insert(0, '../../')\n",
    "import numpy as np\n",
    "import itertools\n",
    "\n",
    "#import Datanalytics as da \n",
    "from JKBio import TerraFunction as terra\n",
    "from JKBio import Helper as h\n",
    "\n",
    "from taigapy import TaigaClient\n",
    "import dalmatian as dm\n",
    "\n",
    "from sklearn.neighbors import KNeighborsClassifier\n",
    "from sklearn.cluster import AgglomerativeClustering, DBSCAN\n",
    "from JKBio.helper import pyDESeq2\n",
    "from sklearn.manifold import MDS, TSNE\n",
    "from sklearn.decomposition import PCA\n",
    "import gseapy\n",
    "\n",
    "from sklearn.preprocessing import scale\n",
    "import networkx as nx\n",
    "import matplotlib.pyplot as plt\n",
    "import matplotlib.pyplot as plt\n",
    "from bokeh.plotting import *\n",
    "from bokeh.models import HoverTool\n",
    "import seaborn as sns\n",
    "\n",
    "%load_ext autoreload\n",
    "%autoreload 2\n",
    "%load_ext rpy2.ipython\n",
    "tc = TaigaClient()\n",
    "output_notebook()\n"
   ]
  },
  {
   "cell_type": "markdown",
   "metadata": {},
   "source": [
    "## getting data"
   ]
  },
  {
   "cell_type": "code",
   "execution_count": null,
   "metadata": {},
   "outputs": [],
   "source": [
    "! gsutil mv gs://transfer-amlproject/*MP7624* gs://transfer-amlproject/RNPv2/"
   ]
  },
  {
   "cell_type": "code",
   "execution_count": null,
   "metadata": {},
   "outputs": [],
   "source": [
    "! gsutil -m cp -r gs://transfer-amlproject/RNPv3 gs://amlproject/RNA/"
   ]
  },
  {
   "cell_type": "code",
   "execution_count": null,
   "metadata": {},
   "outputs": [],
   "source": [
    "rename={'20200723_1_MP8088_S137':\"mr220-MV411-RNP_AAVS1-r4\",\n",
    "'20200723_2_MP8088_S138':\"mr221-MV411-RNP_AAVS1-r5\",\n",
    "'20200723_3_MP8088_S139':\"mr222-MV411-RNP_AAVS1-r6\",\n",
    "'20200723_4_MP8088_S140':\"mr223-MV411-RNP_AAVS1-r7\",\n",
    "'20200723_5_MP8088_S141':\"mr224-MV411-RNP_RUNX1-r7\",\n",
    "'20200723_6_MP8088_S142':\"mr225-MV411-RNP_RUNX1-r8\",\n",
    "'20200723_7_MP8088_S143':\"mr226-MV411-RNP_RUNX1-r9\",\n",
    "'20200723_8_MP8088_S144':\"mr227-MV411-RNP_RUNX1-r10\",\n",
    "'20200723_9_MP8088_S145':\"mr228-MV411-RNP_RUNX2-r7\",\n",
    "'20200723_10_MP8088_S146':\"mr229-MV411-RNP_RUNX2-r8\",\n",
    "'20200723_11_MP8088_S147':\"mr230-MV411-RNP_RUNX2-r9\",\n",
    "'20200723_12_MP8088_S148':\"mr231-MV411-RNP_RUNX2-r10\",\n",
    "'20200723_13_MP8088_S149':\"mr232-MV411-RNP_RUNX1_RUNX2-r1\",\n",
    "'20200723_14_MP8088_S150':\"mr233-MV411-RNP_RUNX1_RUNX2-r2\",\n",
    "'20200723_15_MP8088_S151':\"mr234-MV411-RNP_RUNX1_RUNX2-r3\",\n",
    "'20200723_16_MP8088_S152':\"mr235-MV411-RNP_RUNX1_RUNX2-r4\",\n",
    "'20200723_17_MP8088_S153':\"mr236-MV411-RNP_MEF2C-r7\",\n",
    "'20200723_18_MP8088_S154':\"mr237-MV411-RNP_MEF2C-r8\",\n",
    "'20200723_19_MP8088_S155':\"mr238-MV411-RNP_MEF2C-r9\",\n",
    "'20200723_20_MP8088_S156':\"mr239-MV411-RNP_MEF2C-r10\",\n",
    "'20200723_21_MP8088_S157':\"mr240-MV411-RNP_MEF2D-r7\",\n",
    "'20200723_22_MP8088_S158':\"mr241-MV411-RNP_MEF2D-r8\",\n",
    "'20200723_23_MP8088_S159':\"mr242-MV411-RNP_MEF2D-r9\",\n",
    "'20200723_24_MP8088_S160':\"mr243-MV411-RNP_MEF2D-r10\",\n",
    "'20200723_25_MP8088_S161':\"mr244-MV411-RNP_ZMYND8-r7\",\n",
    "'20200723_26_MP8088_S162':\"mr245-MV411-RNP_ZMYND8-r8\",\n",
    "'20200723_27_MP8088_S163':\"mr246-MV411-RNP_ZMYND8-r9\",\n",
    "'20200723_28_MP8088_S164':\"mr247-MV411-RNP_ZMYND8-r10\",\n",
    "'20200723_29_MP8088_S165':\"mr248-MV411-RNP_SP1-r7\",\n",
    "'20200723_30_MP8088_S166':\"mr249-MV411-RNP_SP1-r8\",\n",
    "'20200723_31_MP8088_S167':\"mr250-MV411-RNP_SP1-r9\",\n",
    "'20200723_32_MP8088_S168':\"mr251-MV411-RNP_SP1-r10\"}"
   ]
  },
  {
   "cell_type": "code",
   "execution_count": null,
   "metadata": {},
   "outputs": [],
   "source": [
    "gcp.patternRN(rename,'gs://amlproject/RNPv2/',['.*'], test=False)"
   ]
  },
  {
   "cell_type": "code",
   "execution_count": null,
   "metadata": {},
   "outputs": [],
   "source": [
    "!gsutil mv gs://amlproject/RNPv2/mr* gs://amlproject/RNPv2/additionals/"
   ]
  },
  {
   "cell_type": "markdown",
   "metadata": {},
   "outputs": [],
   "source": [
    "sampleset='RNPv3'"
   ]
  },
  {
   "cell_type": "code",
   "execution_count": null,
   "metadata": {},
   "outputs": [],
   "source": [
    "terra.uploadFromFolder('amlproject','RNPv3/',\n",
    "                       'broad-firecloud-ccle/hg38_RNAseq',samplesetname=sampleset,\n",
    "                      fformat=\"fastqR1R2\", sep='_MP7624')"
   ]
  },
  {
   "cell_type": "markdown",
   "metadata": {},
   "source": [
    "## Processing"
   ]
  },
  {
   "cell_type": "code",
   "execution_count": null,
   "metadata": {},
   "outputs": [],
   "source": [
    "wm = dm.WorkspaceManager('broad-firecloud-ccle/hg38_RNAseq')"
   ]
  },
  {
   "cell_type": "code",
   "execution_count": null,
   "metadata": {},
   "outputs": [],
   "source": [
    "submission_id = wm.create_submission(\"star_v1-0_BETA_cfg\", sampleset, 'sample_set',expression='this.samples')\n",
    "terra.waitForSubmission('broad-firecloud-ccle/hg38_RNAseq', submission_id)"
   ]
  },
  {
   "cell_type": "code",
   "execution_count": null,
   "metadata": {},
   "outputs": [],
   "source": [
    "submission_id = wm.create_submission(\"rsem_v1-0_BETA_cfg\", \n",
    "                                      sampleset,'sample_set',expression='this.samples')\n",
    "terra.waitForSubmission('broad-firecloud-ccle/hg38_RNAseq', submission_id)"
   ]
  },
  {
   "cell_type": "code",
   "execution_count": null,
   "metadata": {},
   "outputs": [],
   "source": [
    "submission_id = wm.create_submission(\"rsem_aggregate_results_v1-0_BETA_cfg\", \n",
    "                                         sampleset)\n",
    "terra.waitForSubmission('broad-firecloud-ccle/hg38_RNAseq', submission_id)"
   ]
  },
  {
   "cell_type": "code",
   "execution_count": null,
   "metadata": {},
   "outputs": [],
   "source": [
    "results = wm.get_sample_sets().loc[sampleset]\n",
    "rsem_genes_expected_count = results['rsem_genes_expected_count']"
   ]
  },
  {
   "cell_type": "code",
   "execution_count": null,
   "metadata": {},
   "outputs": [],
   "source": [
    "project = \"RNPv2\"\n",
    "version = \"scaling_2\""
   ]
  },
  {
   "cell_type": "code",
   "execution_count": null,
   "metadata": {},
   "outputs": [],
   "source": [
    "results"
   ]
  },
  {
   "cell_type": "code",
   "execution_count": null,
   "metadata": {},
   "outputs": [],
   "source": [
    "mkdir ../../data/$project"
   ]
  },
  {
   "cell_type": "markdown",
   "metadata": {},
   "source": [
    "## Loading"
   ]
  },
  {
   "cell_type": "code",
   "execution_count": null,
   "metadata": {},
   "outputs": [],
   "source": [
    "! gsutil cp $rsem_genes_expected_count ../../data/$project/"
   ]
  },
  {
   "cell_type": "code",
   "execution_count": null,
   "metadata": {},
   "outputs": [],
   "source": [
    "file = '../../data/'+project+'/'+rsem_genes_expected_count.split('/')[-1]"
   ]
  },
  {
   "cell_type": "code",
   "execution_count": null,
   "metadata": {},
   "outputs": [],
   "source": [
    "file"
   ]
  },
  {
   "cell_type": "code",
   "execution_count": null,
   "metadata": {},
   "outputs": [],
   "source": [
    "! gunzip $file"
   ]
  },
  {
   "cell_type": "code",
   "execution_count": null,
   "metadata": {},
   "outputs": [],
   "source": [
    "file"
   ]
  },
  {
   "cell_type": "code",
   "execution_count": null,
   "metadata": {},
   "outputs": [],
   "source": [
    "rsem_genes_expected_count = pd.read_csv(file[:-3], sep='\\t')"
   ]
  },
  {
   "cell_type": "code",
   "execution_count": null,
   "metadata": {},
   "outputs": [],
   "source": [
    "rsem_genes_expected_count = pd.read_csv(\"../data/\"+project+\"/RNPv3.rsem_genes_expected_count.txt\", sep='\\t')"
   ]
  },
  {
   "cell_type": "code",
   "execution_count": null,
   "metadata": {},
   "outputs": [],
   "source": [
    "data = rsem_genes_expected_count.drop(\"transcript_id(s)\",1)"
   ]
  },
  {
   "cell_type": "code",
   "execution_count": null,
   "metadata": {},
   "outputs": [],
   "source": [
    "data[\"gene_id\"] = h.convertGenes(data['gene_id'])[0]"
   ]
  },
  {
   "cell_type": "code",
   "execution_count": null,
   "metadata": {},
   "outputs": [],
   "source": [
    "data=data.set_index('gene_id')"
   ]
  },
  {
   "cell_type": "code",
   "execution_count": null,
   "metadata": {},
   "outputs": [],
   "source": [
    "data"
   ]
  },
  {
   "cell_type": "code",
   "execution_count": null,
   "metadata": {},
   "outputs": [],
   "source": [
    "rename = {\"1\": \"mr120-MV411-RNP_IRF2BP2-r4\",\n",
    "\"2\": \"mr121-MV411-RNP_IRF2BP2-r5\",\n",
    "\"3\": \"mr122-MV411-RNP_IRF2BP2-r6\",\n",
    "\"4\": \"mr123-MV411-RNP_IRF8-r4\",\n",
    "\"5\": \"mr124-MV411-RNP_IRF8-r5\",\n",
    "\"6\": \"mr125-MV411-RNP_IRF8-r6\",\n",
    "\"7\": \"mr126-MV411-RNP_MEF2D-r4\",\n",
    "\"8\": \"mr127-MV411-RNP_MEF2D-r5\",\n",
    "\"9\": \"mr128-MV411-RNP_MEF2D-r6\",\n",
    "\"10\": \"mr129-MV411-RNP_MYC-r4\",\n",
    "\"11\": \"mr130-MV411-RNP_MYC-r5\",\n",
    "\"12\": \"mr131-MV411-RNP_MYC-r6\",\n",
    "\"13\": \"mr132-MV411-RNP_RUNX1-r4\",\n",
    "\"14\": \"mr133-MV411-RNP_RUNX1-r5\",\n",
    "\"15\": \"mr134-MV411-RNP_RUNX1-r6\",\n",
    "\"16\": \"mr135-MV411-RNP_RUNX2-r4\",\n",
    "\"17\": \"mr136-MV411-RNP_RUNX2-r5\",\n",
    "\"18\": \"mr137-MV411-RNP_RUNX2-r6\",\n",
    "\"19\": \"mr138-MV411-RNP_SPI1-r4\",\n",
    "\"20\": \"mr139-MV411-RNP_SPI1-r5\",\n",
    "\"21\": \"mr140-MV411-RNP_SPI1-r6\",\n",
    "\"22\": \"mr141-MV411-RNP_ZMYND8-r4\",\n",
    "\"23\": \"mr142-MV411-RNP_ZMYND8-r5\",\n",
    "\"24\": \"mr143-MV411-RNP_ZMYND8-r6\",\n",
    "\"25\": \"mr144-MV411-RNP_LMO2-r4\",\n",
    "\"26\": \"mr145-MV411-RNP_LMO2-r5\",\n",
    "\"27\": \"mr146-MV411-RNP_LMO2-r6\",\n",
    "\"28\": \"mr147-MV411-RNP_LYL1-r4\",\n",
    "\"29\": \"mr148-MV411-RNP_LYL1-r5\",\n",
    "\"30\": \"mr149-MV411-RNP_LYL1-r6\",\n",
    "\"31\": \"mr150-MV411-RNP_MAX-r4\",\n",
    "\"32\": \"mr151-MV411-RNP_MAX-r5\",\n",
    "\"33\": \"mr152-MV411-RNP_MAX-r6\",\n",
    "\"34\": \"mr153-MV411-RNP_ZEB2-r4\",\n",
    "\"35\": \"mr154-MV411-RNP_ZEB2-r5\",\n",
    "\"36\": \"mr155-MV411-RNP_ZEB2-r6\",\n",
    "\"37\": \"mr156-MV411-RNP_MEF2C-r4\",\n",
    "\"38\": \"mr157-MV411-RNP_MEF2C-r5\",\n",
    "\"39\": \"mr158-MV411-RNP_MEF2C-r6\",\n",
    "\"40\": \"mr159-MV411-RNP_MEIS1-r4\",\n",
    "\"41\": \"mr160-MV411-RNP_MEIS1-r5\",\n",
    "\"42\": \"mr161-MV411-RNP_MEIS1-r6\",\n",
    "\"43\": \"mr162-MV411-RNP_FLI1-r4\",\n",
    "\"44\": \"mr163-MV411-RNP_FLI1-r5\",\n",
    "\"45\": \"mr164-MV411-RNP_FLI1-r6\",\n",
    "\"46\": \"mr165-MV411-RNP_ELF2-r4\",\n",
    "\"47\": \"mr166-MV411-RNP_ELF2-r5\",\n",
    "\"48\": \"mr167-MV411-RNP_ELF2-r6\",\n",
    "\"49\": \"mr168-MV411-RNP_GFI1-r4\",\n",
    "\"50\": \"mr169-MV411-RNP_GFI1-r5\",\n",
    "\"51\": \"mr170-MV411-RNP_GFI1-r6\",\n",
    "\"52\": \"mr171-MV411-RNP_IKZF1-r4\",\n",
    "\"53\": \"mr172-MV411-RNP_IKZF1-r5\",\n",
    "\"54\": \"mr173-MV411-RNP_IKZF1-r6\",\n",
    "\"55\": \"mr174-MV411-RNP_CEBPA-r4\",\n",
    "\"56\": \"mr175-MV411-RNP_CEBPA-r5\",\n",
    "\"57\": \"mr176-MV411-RNP_CEBPA-r6\",\n",
    "\"58\": \"mr177-MV411-RNP_MYB-r4\",\n",
    "\"59\": \"mr178-MV411-RNP_MYB-r5\",\n",
    "\"60\": \"mr179-MV411-RNP_MYB-r6\",\n",
    "\"61\": \"mr180-MV411-RNP_MYBL2-r1\",\n",
    "\"62\": \"mr181-MV411-RNP_MYBL2-r2\",\n",
    "\"63\": \"mr182-MV411-RNP_MYBL2-r3\",\n",
    "\"64\": \"mr183-MV411-RNP_HOXA9-r4\",\n",
    "\"65\": \"mr184-MV411-RNP_HOXA9-r5\",\n",
    "\"66\": \"mr185-MV411-RNP_HOXA9-r6\",\n",
    "\"67\": \"mr186-MV411-RNP_AAVS1-r1\",\n",
    "\"68\": \"mr187-MV411-RNP_AAVS1-r2\",\n",
    "\"69\": \"mr188-MV411-RNP_AAVS1-r3\",\n",
    "\"70\": \"mr189-MV411-RNP_SPI1-r7\",\n",
    "\"71\": \"mr190-MV411-RNP_SP1-r4\",\n",
    "\"72\": \"mr191-MV411-RNP_SP1-r5\",\n",
    "\"73\": \"mr192-MV411-RNP_SP1-r6\"}"
   ]
  },
  {
   "cell_type": "code",
   "execution_count": null,
   "metadata": {},
   "outputs": [],
   "source": [
    "data.columns"
   ]
  },
  {
   "cell_type": "code",
   "execution_count": null,
   "metadata": {},
   "outputs": [],
   "source": [
    "data.columns = [rename[i] for i in data.columns]"
   ]
  },
  {
   "cell_type": "code",
   "execution_count": null,
   "metadata": {},
   "outputs": [],
   "source": [
    "data"
   ]
  },
  {
   "cell_type": "markdown",
   "metadata": {},
   "source": [
    "## post processing and filtering"
   ]
  },
  {
   "cell_type": "markdown",
   "metadata": {},
   "source": [
    "filter some more"
   ]
  },
  {
   "cell_type": "code",
   "execution_count": null,
   "metadata": {},
   "outputs": [],
   "source": [
    "toremove = np.argwhere(data.values.var(1)==0)\n",
    "toremove.ravel()"
   ]
  },
  {
   "cell_type": "code",
   "execution_count": null,
   "metadata": {},
   "outputs": [],
   "source": [
    "data = data.drop(data.iloc[toremove.ravel()].index,0)"
   ]
  },
  {
   "cell_type": "code",
   "execution_count": null,
   "metadata": {},
   "outputs": [],
   "source": [
    "data.shape"
   ]
  },
  {
   "cell_type": "code",
   "execution_count": null,
   "metadata": {},
   "outputs": [],
   "source": [
    "data[data.index.str.contains('ERCC')]"
   ]
  },
  {
   "cell_type": "code",
   "execution_count": null,
   "metadata": {},
   "outputs": [],
   "source": [
    "ERCC = data[~data.index.str.contains('ENSG00')]"
   ]
  },
  {
   "cell_type": "code",
   "execution_count": null,
   "metadata": {},
   "outputs": [],
   "source": [
    "ensg = data[data.index.str.contains('ENSG00')]"
   ]
  },
  {
   "cell_type": "code",
   "execution_count": null,
   "metadata": {},
   "outputs": [],
   "source": [
    "data = data[~data.index.str.contains('ENSG00')]"
   ]
  },
  {
   "cell_type": "markdown",
   "metadata": {},
   "source": [
    "renormalize the data"
   ]
  },
  {
   "cell_type": "code",
   "execution_count": null,
   "metadata": {},
   "outputs": [],
   "source": [
    "len(ERCC)"
   ]
  },
  {
   "cell_type": "code",
   "execution_count": null,
   "metadata": {},
   "outputs": [],
   "source": [
    "ERCC"
   ]
  },
  {
   "cell_type": "markdown",
   "metadata": {},
   "source": [
    "## Loading the CRC members"
   ]
  },
  {
   "cell_type": "code",
   "execution_count": null,
   "metadata": {},
   "outputs": [],
   "source": [
    "ctf=pd.read_csv('../data/CTF.csv',header=None)[0].values.tolist()\n",
    "ctf"
   ]
  },
  {
   "cell_type": "markdown",
   "metadata": {},
   "source": [
    "## Correlation analysis across replicates"
   ]
  },
  {
   "cell_type": "code",
   "execution_count": null,
   "metadata": {},
   "outputs": [],
   "source": [
    "a = data.columns.tolist()\n",
    "a.sort()\n",
    "data =data[a]"
   ]
  },
  {
   "cell_type": "code",
   "execution_count": null,
   "metadata": {},
   "outputs": [],
   "source": [
    "%matplotlib inline\n",
    "ig, ax = plt.subplots(figsize=(20,20))\n",
    "sns.heatmap(data.corr(), \n",
    "            xticklabels=data.columns,\n",
    "            yticklabels=data.columns, ax=ax)\n",
    "plt.savefig('../results/'+project+'/plots/correlation_'+version+'.pdf')"
   ]
  },
  {
   "cell_type": "code",
   "execution_count": null,
   "metadata": {},
   "outputs": [],
   "source": [
    "data.to_csv('../results/'+project+'/'+version+'_counts.csv')"
   ]
  },
  {
   "cell_type": "code",
   "execution_count": null,
   "metadata": {},
   "outputs": [],
   "source": [
    "data = pd.read_csv('../results/'+project+'/'+version+'_counts.csv',index_col=0)"
   ]
  },
  {
   "cell_type": "code",
   "execution_count": null,
   "metadata": {},
   "outputs": [],
   "source": [
    "%matplotlib inline\n",
    "sns.clustermap(data.corr(), figsize=(20, 20))\n",
    "plt.savefig('../results/'+project+'/plots/cluster_corr_count_'+version+'.pdf')"
   ]
  },
  {
   "cell_type": "code",
   "execution_count": null,
   "metadata": {},
   "outputs": [],
   "source": [
    "data.sum().tolist()"
   ]
  },
  {
   "cell_type": "code",
   "execution_count": null,
   "metadata": {},
   "outputs": [],
   "source": [
    "data.shape"
   ]
  },
  {
   "cell_type": "markdown",
   "metadata": {},
   "source": [
    "#### WES REMOVE SPI1-r4 because it looks bad"
   ]
  },
  {
   "cell_type": "code",
   "execution_count": null,
   "metadata": {},
   "outputs": [],
   "source": [
    "data= data.drop(columns=['mr138-MV411-RNP_SPI1-r4'])\n",
    "ERCC = ERCC.drop(columns=['mr138-MV411-RNP_SPI1-r4'])"
   ]
  },
  {
   "cell_type": "code",
   "execution_count": null,
   "metadata": {},
   "outputs": [],
   "source": [
    "%matplotlib inline\n",
    "sns.clustermap(data.corr(), figsize=(20, 20))\n",
    "plt.savefig('../results/'+project+'/plots/cluster_corr_count_gene_removed_'+version+'.pdf')"
   ]
  },
  {
   "cell_type": "markdown",
   "metadata": {},
   "source": [
    "## Making and running the dashboard"
   ]
  },
  {
   "cell_type": "code",
   "execution_count": null,
   "metadata": {},
   "outputs": [],
   "source": [
    "%%R\n",
    "library('erccdashboard')"
   ]
  },
  {
   "cell_type": "code",
   "execution_count": null,
   "metadata": {},
   "outputs": [],
   "source": [
    "ERCC = ERCC.astype(int)"
   ]
  },
  {
   "cell_type": "code",
   "execution_count": null,
   "metadata": {},
   "outputs": [],
   "source": [
    "ERCC['Feature'] = ERCC.index"
   ]
  },
  {
   "cell_type": "code",
   "execution_count": null,
   "metadata": {},
   "outputs": [],
   "source": [
    "ERCC"
   ]
  },
  {
   "cell_type": "code",
   "execution_count": null,
   "metadata": {},
   "outputs": [],
   "source": [
    "sns.heatmap(np.log2(ERCC[ERCC.index.str.contains('ERCC-')][['mr186-MV411-RNP_AAVS1-r1', 'mr187-MV411-RNP_AAVS1-r2', 'mr188-MV411-RNP_AAVS1-r3','mr129-MV411-RNP_MYC-r4', 'mr189-MV411-RNP_SPI1-r4', 'mr120-MV411-RNP_IRF2BP2-r4']].values / ERCC[ERCC.index.str.contains('ERCC-')][['mr186-MV411-RNP_AAVS1-r1', 'mr187-MV411-RNP_AAVS1-r2', 'mr188-MV411-RNP_AAVS1-r3','mr129-MV411-RNP_MYC-r4', 'mr189-MV411-RNP_SPI1-r4', 'mr120-MV411-RNP_IRF2BP2-r4']].values.mean(0)+1))"
   ]
  },
  {
   "cell_type": "code",
   "execution_count": null,
   "metadata": {},
   "outputs": [],
   "source": [
    "experiments = list(set([i.split('-')[2] for i in data.columns[:-1]]))\n",
    "experiments.remove(\"RNP_AAVS1\")"
   ]
  },
  {
   "cell_type": "code",
   "execution_count": null,
   "metadata": {},
   "outputs": [],
   "source": [
    "#TODO: compute the mass from concentration\n",
    "###################################################\n",
    "### code chunk number 3: defineInputData\n",
    "###################################################\n",
    "%R datType = \"count\" # \"count\" for RNA-Seq data, \"array\" for microarray data\n",
    "%R isNorm = F # flag to indicate if input expression measures are already normalized, default is FALSE \n",
    "%R -i project,version filenameRoot = paste(\"../\",project,\"/ERCCdashboard_\",version, sep = \"\", collapse = NULL) # user defined filename prefix for results files\n",
    "%R sample2Name = \"AAVS1\" # name for sample 2 in the experiment\n",
    "%R erccmix = \"Single\" # name of ERCC mixture design, \"RatioPair\" is default\n",
    "%R erccdilution = 1/100 # dilution factor used for Ambion spike-in mixtures\n",
    "%R spikeVol = 1 # volume (in microliters) of diluted spike-in mixture added to total RNA mass\n",
    "%R choseFDR = 0.1 # user defined false discovery rate (FDR), default is 0.05"
   ]
  },
  {
   "cell_type": "code",
   "execution_count": null,
   "metadata": {},
   "outputs": [],
   "source": [
    "cols = list(ERCC.columns)\n",
    "cols.sort()\n",
    "res={}\n",
    "for val in experiments:\n",
    "    d = {}\n",
    "    e=0\n",
    "    d.update({\n",
    "        'Feature':'Feature'\n",
    "    })\n",
    "    for i in cols[1:]:\n",
    "        if val+'-' in i:\n",
    "            e+=1\n",
    "            d.update({i: val.split('_')[-1]+'_'+str(e)})\n",
    "    d.update({\n",
    "        'mr186-MV411-RNP_AAVS1-r1': 'AAVS1_1',\n",
    "        'mr187-MV411-RNP_AAVS1-r2': 'AAVS1_2',\n",
    "    })\n",
    "    if len(d)==6:\n",
    "        d.update({\n",
    "            'mr188-MV411-RNP_AAVS1-r3': 'AAVS1_3'\n",
    "        })\n",
    "    a = ERCC[list(d.keys())].rename(columns=d)\n",
    "    a.to_csv('../data/ERCC_estimation.csv', index=None)\n",
    "    val = val.split('_')[-1]\n",
    "    \n",
    "    torm = '../results/'+project+'/ercc_'+version+'_'+val+'.AAVS1.All.Pvals.csv'\n",
    "    ! rm $torm \n",
    "    %R -i val print(val)\n",
    "    %R print(sample2Name)\n",
    "    %R a <- read.csv('../data/ERCC_estimation.csv')\n",
    "    %R print(head(a))\n",
    "    %R exDat = ''\n",
    "    %R totalRNAmass <- 0.5\n",
    "    try:\n",
    "        %R -i val exDat = initDat(datType = datType, isNorm = isNorm, exTable = a, filenameRoot = filenameRoot, sample1Name = val, sample2Name = sample2Name, erccmix = erccmix, erccdilution = erccdilution, spikeVol = spikeVol, totalRNAmass = totalRNAmass, choseFDR = choseFDR)\n",
    "        %R exDat = est_r_m(exDat)\n",
    "        %R exDat = dynRangePlot(exDat)\n",
    "    except Warning:\n",
    "        print(\"failed for \"+val)\n",
    "        continue\n",
    "    except:\n",
    "        print('worked for '+val)\n",
    "    %R print(summary(exDat))\n",
    "    %R grid.arrange(exDat$Figures$dynRangePlot)\n",
    "    %R grid.arrange(exDat$Figures$r_mPlot)\n",
    "    %R grid.arrange(exDat$Figures$rangeResidPlot)\n",
    "    %R -o rm rm <- exDat$Results$r_m.res$r_m.mn\n",
    "    %R -o se se <- exDat$Results$r_m.res$r_m.mnse\n",
    "    res[val] = (rm[0],se[0])"
   ]
  },
  {
   "cell_type": "code",
   "execution_count": null,
   "metadata": {},
   "outputs": [],
   "source": [
    "df= pd.DataFrame(data=res.values(),index=res.keys(), columns=['scaling','var'])\n",
    "df['RNPs']=df.index\n",
    "sns.barplot(\"RNPs\",\"scaling\",data=df,ci=None,)\n",
    "plt.errorbar(x=range(0,len(df)),y=df['scaling'],\n",
    "            yerr=df['var'], fmt='none', c= 'r')\n",
    "plt.xticks(rotation=60,ha='right')\n",
    "plt.savefig('../results/'+project+\"/plots/\"+version+\"_scaling_fact_with_conf.pdf\")"
   ]
  },
  {
   "cell_type": "code",
   "execution_count": null,
   "metadata": {},
   "outputs": [],
   "source": [
    "scaling"
   ]
  },
  {
   "cell_type": "code",
   "execution_count": null,
   "metadata": {},
   "outputs": [],
   "source": [
    "for i, v in scaling.items():\n",
    "    if abs(v[0]) > v[1]:\n",
    "        print(i, v[0])"
   ]
  },
  {
   "cell_type": "code",
   "execution_count": null,
   "metadata": {},
   "outputs": [],
   "source": [
    "ERCC[ERCC.index.str.contains('ERCC-')][[i for i in ERCC.columns if 'AAVS1' in i]].mean()"
   ]
  },
  {
   "cell_type": "code",
   "execution_count": null,
   "metadata": {},
   "outputs": [],
   "source": [
    "ERCC[ERCC.index.str.contains('ERCC-')][[i for i in ERCC.columns if 'SPI1' in i]].mean()"
   ]
  },
  {
   "cell_type": "code",
   "execution_count": null,
   "metadata": {},
   "outputs": [],
   "source": [
    "scaling = res"
   ]
  },
  {
   "cell_type": "code",
   "execution_count": null,
   "metadata": {},
   "outputs": [],
   "source": [
    "h.dictToFile(scaling,\"../results/\"+project+\"/\"+version+\"_scaling.json\")"
   ]
  },
  {
   "cell_type": "code",
   "execution_count": null,
   "metadata": {},
   "outputs": [],
   "source": [
    "scaling = h.fileToDict(\"../results/\"+project+\"/\"+version+\"_scaling.json\")"
   ]
  },
  {
   "cell_type": "code",
   "execution_count": null,
   "metadata": {},
   "outputs": [],
   "source": [
    "scaling"
   ]
  },
  {
   "cell_type": "markdown",
   "metadata": {},
   "source": [
    "## Differential expression analysis"
   ]
  },
  {
   "cell_type": "code",
   "execution_count": null,
   "metadata": {},
   "outputs": [],
   "source": [
    "data['gene_id'] = data.index"
   ]
  },
  {
   "cell_type": "code",
   "execution_count": null,
   "metadata": {},
   "outputs": [],
   "source": [
    "housekeeping = [\"C1orf43\", \"CHMP2A\", \"EMC7\", \"GPI\", \"PSMB2\", \"PSMB4\", \"RAB7A\", \"REEP5\", \"SNRPD3\", \"VCP\", \"VPS29\"]\n",
    "# from https://www.cell.com/trends/genetics/pdf/S0168-9525(13)00089-9.pdf"
   ]
  },
  {
   "cell_type": "code",
   "execution_count": null,
   "metadata": {},
   "outputs": [],
   "source": [
    "#results = {}"
   ]
  },
  {
   "cell_type": "code",
   "execution_count": null,
   "metadata": {},
   "outputs": [],
   "source": [
    "for val in experiments:  \n",
    "    print(val)\n",
    "    design = pd.DataFrame(index=data.columns[:-1], columns=['DMSO','Target'], \n",
    "                          data=np.array([[1 if 'RNP_AAVS1' in i else 0 for i in data.columns[:-1]],[1 if val+'-' in i else 0 for i in data.columns[:-1]]]).T)\n",
    "    design.index = design.index.astype(str).str.replace('-','.')\n",
    "    deseq = pyDESeq2.pyDESeq2(count_matrix=data, design_matrix = design, \n",
    "                              design_formula='~DMSO + Target', gene_column=\"gene_id\")\n",
    "    if abs(scaling[val.split('_')[1]][0]) > scaling[val.split('_')[1]][1]:\n",
    "        print(\"estimating sizeFactors for this one\")\n",
    "        deseq.run_estimate_size_factors(controlGenes=data.gene_id.str.contains(\"ERCC-\"))\n",
    "    elif val in results:\n",
    "        continue\n",
    "    deseq.run_deseq()\n",
    "    deseq.get_deseq_result()\n",
    "    r = deseq.deseq_result\n",
    "    r.pvalue = np.nan_to_num(np.array(r.pvalue), 1)\n",
    "    r.log2FoldChange = np.nan_to_num(np.array(r.log2FoldChange), 0)\n",
    "    results[val] = r"
   ]
  },
  {
   "cell_type": "markdown",
   "metadata": {},
   "source": [
    "### volcano plot with CRC members highlighted"
   ]
  },
  {
   "cell_type": "code",
   "execution_count": null,
   "metadata": {},
   "outputs": [],
   "source": [
    "results"
   ]
  },
  {
   "cell_type": "code",
   "execution_count": null,
   "metadata": {},
   "outputs": [],
   "source": [
    "for val in experiments:\n",
    "    a = h.volcano(results[val],tohighlight=ctf,title=val, maxvalue= 60, searchbox=True, showlabels=True,folder=\"../results/\"+project+\"/plots/\"+version+'_')\n",
    "    try:\n",
    "        show(a)\n",
    "    except RuntimeError:\n",
    "        show(a)"
   ]
  },
  {
   "cell_type": "code",
   "execution_count": null,
   "metadata": {},
   "outputs": [],
   "source": [
    "ls ../results/$project/plots/"
   ]
  },
  {
   "cell_type": "code",
   "execution_count": null,
   "metadata": {},
   "outputs": [],
   "source": [
    "!mkdir ../results/$project/deseq_$version\n",
    "for k, val in results.items():\n",
    "    val.to_csv('../results/'+project+'/deseq_'+version+'/'+k+\".csv\")"
   ]
  },
  {
   "cell_type": "code",
   "execution_count": null,
   "metadata": {},
   "outputs": [],
   "source": [
    "results = {}\n",
    "des = ! ls ../results/$project/deseq_$version/*.csv\n",
    "for val in des:\n",
    "    results[\"RNP_\"+val.split('RNP_')[-1].split('.')[0]] = pd.read_csv(val,index_col=0)"
   ]
  },
  {
   "cell_type": "markdown",
   "metadata": {},
   "source": [
    "## Making the ccsv file for max"
   ]
  },
  {
   "cell_type": "code",
   "execution_count": null,
   "metadata": {},
   "outputs": [],
   "source": [
    "des"
   ]
  },
  {
   "cell_type": "code",
   "execution_count": null,
   "metadata": {},
   "outputs": [],
   "source": [
    "results.keys()"
   ]
  },
  {
   "cell_type": "code",
   "execution_count": null,
   "metadata": {},
   "outputs": [],
   "source": [
    "results.pop('RNP_all')"
   ]
  },
  {
   "cell_type": "code",
   "execution_count": null,
   "metadata": {},
   "outputs": [],
   "source": [
    "tosave = pd.DataFrame(index=results['RNP_CEBPA'].index)\n",
    "for k,v in results.items():\n",
    "    tosave[k+'_fc_log2'] = v.log2FoldChange\n",
    "    tosave[k+'_padj'] = v.padj\n",
    "    tosave[k+'_pval'] = v.pvalue"
   ]
  },
  {
   "cell_type": "code",
   "execution_count": null,
   "metadata": {},
   "outputs": [],
   "source": [
    "tosave.to_csv('../results/'+project+'/deseq_RNP_all_'+version+'.csv')"
   ]
  },
  {
   "cell_type": "markdown",
   "metadata": {},
   "source": [
    "## Looking at CRC members only"
   ]
  },
  {
   "cell_type": "code",
   "execution_count": null,
   "metadata": {},
   "outputs": [],
   "source": [
    "ctf.extend(['IRF2BP2','MYBL2','IKZF1'])"
   ]
  },
  {
   "cell_type": "markdown",
   "metadata": {},
   "source": [
    "## maybe use adjusted p_value"
   ]
  },
  {
   "cell_type": "code",
   "execution_count": null,
   "metadata": {},
   "outputs": [],
   "source": [
    "deseq = pd.DataFrame(index=ctf)\n",
    "for k, val in results.items():\n",
    "    deseq[k] = [i.log2FoldChange if i.pvalue<0.05 else 0 for a, i in val.loc[ctf].iterrows()]"
   ]
  },
  {
   "cell_type": "code",
   "execution_count": null,
   "metadata": {},
   "outputs": [],
   "source": [
    "deseq"
   ]
  },
  {
   "cell_type": "code",
   "execution_count": null,
   "metadata": {},
   "outputs": [],
   "source": [
    "fig = sns.clustermap(figsize=(25,20), cmap=plt.cm.RdYlBu, data=deseq,vmin=-1,vmax=1,xticklabels=deseq.columns, yticklabels=deseq.index)\n",
    "fig.savefig('../results/'+project+'/plots/clustermap_ctf_deseq_all_scaled_'+version+'.pdf')"
   ]
  },
  {
   "cell_type": "code",
   "execution_count": null,
   "metadata": {},
   "outputs": [],
   "source": [
    "deseq.columns = [i.split('_')[1] for i in deseq.columns]\n",
    "deseq = deseq.loc[deseq.columns]"
   ]
  },
  {
   "cell_type": "code",
   "execution_count": null,
   "metadata": {},
   "outputs": [],
   "source": [
    "deseq.to_csv('../results/'+project+'/deseq_CTFmat'+version+'.csv')"
   ]
  },
  {
   "cell_type": "code",
   "execution_count": null,
   "metadata": {},
   "outputs": [],
   "source": [
    "deseq = pd.read_csv('../results/'+project+'/deseq_CTFmat'+version+'.csv',index_col=0)"
   ]
  },
  {
   "cell_type": "code",
   "execution_count": null,
   "metadata": {},
   "outputs": [],
   "source": [
    "net = nx.from_pandas_adjacency(((deseq < -0.3) | (deseq > 0.3)).T,create_using=nx.DiGraph)"
   ]
  },
  {
   "cell_type": "code",
   "execution_count": null,
   "metadata": {},
   "outputs": [],
   "source": [
    "pos = nx.nx_agraph.graphviz_layout(net, prog=\"neato\")"
   ]
  },
  {
   "cell_type": "code",
   "execution_count": null,
   "metadata": {},
   "outputs": [],
   "source": [
    "colors = ['red' if deseq.loc[i[1],i[0]]> 0 else 'blue' for i in net.edges]"
   ]
  },
  {
   "cell_type": "markdown",
   "metadata": {},
   "source": [
    "## blue is down, red is up"
   ]
  },
  {
   "cell_type": "code",
   "execution_count": null,
   "metadata": {},
   "outputs": [],
   "source": [
    "plt.figure(figsize=(8, 8))\n",
    "nx.draw(net,pos,with_labels=True,edge_color=colors)\n",
    "plt.show()\n",
    "plt.savefig(\"../results/\"+project+\"/plots/\"+version+\"_interaction_graph_binary.pdf\")"
   ]
  },
  {
   "cell_type": "code",
   "execution_count": null,
   "metadata": {},
   "outputs": [],
   "source": [
    "deseq[(deseq > -0.3) & (deseq < 0.3)]=0\n",
    "net = nx.from_pandas_adjacency(deseq.T,create_using=nx.DiGraph)"
   ]
  },
  {
   "cell_type": "code",
   "execution_count": null,
   "metadata": {},
   "outputs": [],
   "source": [
    "pos = nx.nx_agraph.graphviz_layout(net, prog='dot')"
   ]
  },
  {
   "cell_type": "code",
   "execution_count": null,
   "metadata": {},
   "outputs": [],
   "source": [
    "colors = [-deseq.loc[i[1],i[0]] for i in net.edges]"
   ]
  },
  {
   "cell_type": "code",
   "execution_count": null,
   "metadata": {},
   "outputs": [],
   "source": [
    "colors = [i/-min(colors) if i <0 else i/max(colors) for i in colors]"
   ]
  },
  {
   "cell_type": "code",
   "execution_count": null,
   "metadata": {},
   "outputs": [],
   "source": [
    "plt.figure(figsize=(8, 8))\n",
    "nx.draw(net,pos,with_labels=True, edge_color=colors,edge_cmap=plt.cm.RdYlBu)\n",
    "plt.show()\n",
    "plt.savefig(\"../results/\"+project+\"/plots/\"+version+\"_interaction_graph_continuous.pdf\")"
   ]
  },
  {
   "cell_type": "markdown",
   "metadata": {},
   "source": [
    "## We are looking for bias in the data and the replicates"
   ]
  },
  {
   "cell_type": "code",
   "execution_count": null,
   "metadata": {},
   "outputs": [],
   "source": [
    "col = {v:i for i, v in enumerate(set([i.split('-')[2] for i in data.columns[:-1]]))}"
   ]
  },
  {
   "cell_type": "code",
   "execution_count": null,
   "metadata": {},
   "outputs": [],
   "source": [
    "red = PCA(2).fit_transform(data[data.columns[:-1]].T)\n",
    "h.scatter(red, labels=data.columns[:-1], title=\"PCA plot across replicates\", radi=60000, colors=[col[i.split('-')[2]] for i in data.columns[:-1]], folder= \"../results/\"+project+\"/plots/\"+version+\"_\")"
   ]
  },
  {
   "cell_type": "code",
   "execution_count": null,
   "metadata": {},
   "outputs": [],
   "source": [
    "red = PCA(30).fit_transform(data[data.columns[:-1]].T)\n",
    "red = TSNE(2,4).fit_transform(red)\n",
    "h.scatter(red, labels=data.columns[:-1], title='TSNE plot across replicates', radi=10, colors=[col[i.split('-')[2]] for i in data.columns[:-1]], folder= \"../results/\"+project+\"/plots/\"+version+\"_\")"
   ]
  },
  {
   "cell_type": "markdown",
   "metadata": {},
   "source": [
    "mr129-MYC-r4 seems weird"
   ]
  },
  {
   "cell_type": "markdown",
   "metadata": {},
   "source": [
    "## GSEA analysis"
   ]
  },
  {
   "cell_type": "code",
   "execution_count": null,
   "metadata": {},
   "outputs": [],
   "source": [
    "data"
   ]
  },
  {
   "cell_type": "code",
   "execution_count": null,
   "metadata": {},
   "outputs": [],
   "source": [
    "res = {}"
   ]
  },
  {
   "cell_type": "code",
   "execution_count": null,
   "metadata": {},
   "outputs": [],
   "source": [
    "experiments"
   ]
  },
  {
   "cell_type": "code",
   "execution_count": null,
   "metadata": {},
   "outputs": [],
   "source": [
    "res"
   ]
  },
  {
   "cell_type": "code",
   "execution_count": null,
   "metadata": {},
   "outputs": [],
   "source": [
    "for val in experiments:\n",
    "    print(val)\n",
    "    totest = data[[v for v in data.columns[:-1] if val+'-' in v or 'AAVS1' in v]]\n",
    "    cls = ['Condition' if val+'-' in v else 'DMSO' for v in totest.columns]\n",
    "    if abs(scaling[val.split('_')[1]][0]) > 3*scaling[val.split('_')[1]][1]:\n",
    "        print(\"rescaling this one\")\n",
    "        cols = [i for i in totest.columns if val+'-' in i]\n",
    "        totest[cols] = totest[cols]*(2**scaling[val.split('_')[1]][0])\n",
    "    res[val] = gseapy.gsea(data=totest, gene_sets='WikiPathways_2013', \n",
    "                cls= cls, no_plot=False, processes=8)\n",
    "    res[val].res2d['Term'] = [i for i in res[val].res2d.index]\n",
    "    sns.barplot(data=res[val].res2d.iloc[:25], x=\"es\", y=\"Term\",\n",
    "                hue_order=\"geneset_size\").set_title(val)"
   ]
  },
  {
   "cell_type": "code",
   "execution_count": null,
   "metadata": {},
   "outputs": [],
   "source": [
    "with open('../data/'+project+'/'+version+'_wikipathway_RNPv2', 'wb') as f:\n",
    "    pickle.dump(res,f)"
   ]
  },
  {
   "cell_type": "code",
   "execution_count": null,
   "metadata": {},
   "outputs": [],
   "source": [
    "with open('../data/'+project+'/'+version+'_wikipathway_RNPv2','rb') as f:\n",
    "    res = pickle.load(f)"
   ]
  },
  {
   "cell_type": "markdown",
   "metadata": {},
   "source": [
    "### Analysis on the wiki pathways geneset"
   ]
  },
  {
   "cell_type": "code",
   "execution_count": null,
   "metadata": {},
   "outputs": [],
   "source": [
    "for val in experiments:\n",
    "    res[val].res2d['Term'] = [i[3:].split('WP')[0] for i in res[val].res2d['Term']]\n",
    "    a = sns.barplot(data=res[val].res2d.iloc[:25], x=\"es\", y=\"Term\",\n",
    "                hue_order=\"geneset_size\")\n",
    "    a.set_title(val)\n",
    "    a.figure.savefig('../results/'+ project+ '/plots/'+version + '_wikipathway_mainTerms.pdf')\n",
    "    plt.show()"
   ]
  },
  {
   "cell_type": "code",
   "execution_count": null,
   "metadata": {},
   "outputs": [],
   "source": [
    "a = set()\n",
    "for k, val in res.items():\n",
    "    a.update(set(val.res2d.index))\n",
    "a = {i:[0]*len(res) for i in a}\n",
    "for n,(k, val) in enumerate(res.items()):\n",
    "    for i,v in val.res2d.iterrows():\n",
    "        a[i][n] = v.es"
   ]
  },
  {
   "cell_type": "code",
   "execution_count": null,
   "metadata": {},
   "outputs": [],
   "source": [
    "res = pd.DataFrame(a, index=res.keys())"
   ]
  },
  {
   "cell_type": "code",
   "execution_count": null,
   "metadata": {},
   "outputs": [],
   "source": [
    "res.columns = [i[3:].split('WP')[0] for i in res.columns]"
   ]
  },
  {
   "cell_type": "code",
   "execution_count": null,
   "metadata": {},
   "outputs": [],
   "source": [
    "res.index = [i.split('_')[1] for i in res.index]"
   ]
  },
  {
   "cell_type": "code",
   "execution_count": null,
   "metadata": {},
   "outputs": [],
   "source": [
    "fig = sns.clustermap(figsize=(25,20), data=res,vmin=-1,vmax=1,xticklabels=res.columns, yticklabels=res.index)\n",
    "fig.savefig(\"../results/\"+project+\"/\"+version+\"enriched_terms_scaled_gsea.pdf\")"
   ]
  },
  {
   "cell_type": "code",
   "execution_count": null,
   "metadata": {},
   "outputs": [],
   "source": [
    "res.to_csv('../results/'+project+'/'+version+'_wikipathway_gsea_matrix.csv')"
   ]
  },
  {
   "cell_type": "code",
   "execution_count": null,
   "metadata": {},
   "outputs": [],
   "source": [
    "res = {}"
   ]
  },
  {
   "cell_type": "code",
   "execution_count": null,
   "metadata": {},
   "outputs": [],
   "source": [
    "res.keys()"
   ]
  },
  {
   "cell_type": "markdown",
   "metadata": {},
   "source": [
    "### Analysis on the entire set of pathways (biopathways)"
   ]
  },
  {
   "cell_type": "code",
   "execution_count": null,
   "metadata": {},
   "outputs": [],
   "source": [
    "for i, val in enumerate(experiments):\n",
    "    print(val)\n",
    "    totest = data[[v for v in data.columns[:-1] if val+'-' in v or 'AAVS1' in v]]\n",
    "    cls = ['Condition' if val+'-' in v else 'DMSO' for v in totest.columns]\n",
    "    if abs(scaling[val.split('_')[1]][0]) > 3*scaling[val.split('_')[1]][1]:\n",
    "        print(\"rescaling this one\")\n",
    "        cols = [i for i in totest.columns if val+'-' in i]\n",
    "        totest[cols] = totest[cols]*(2**scaling[val.split('_')[1]][0])\n",
    "    elif val in res:\n",
    "        continue\n",
    "    res[val] = gseapy.gsea(data=totest, gene_sets='GO_Biological_Process_2015', \n",
    "                cls= cls, no_plot=False, processes=8)\n",
    "    res[val].res2d['Term'] = [i for i in res[val].res2d.index]\n",
    "    plt.figure(i)\n",
    "    a = sns.barplot(data=res[val].res2d.iloc[:25], x=\"es\", y=\"Term\",\n",
    "                hue_order=\"geneset_size\")\n",
    "    a.set_title(val)\n",
    "    a.figure.savefig('../results/'+ project+ '/plots/'+version + '_gobioproc2015_mainTerms_'+val+'.pdf')"
   ]
  },
  {
   "cell_type": "code",
   "execution_count": null,
   "metadata": {},
   "outputs": [],
   "source": [
    "with open('../results/'+project+'/'+version+'_GO_Biological_Process_2015_RNPv2', 'wb') as f:\n",
    "    pickle.dump(res,f)"
   ]
  },
  {
   "cell_type": "code",
   "execution_count": null,
   "metadata": {},
   "outputs": [],
   "source": [
    "with open('../results/'+project+'/'+version+'_GO_Biological_Process_2015_RNPv2', 'wb') as f:\n",
    "    res = pickle.load(f)"
   ]
  },
  {
   "cell_type": "code",
   "execution_count": null,
   "metadata": {},
   "outputs": [],
   "source": [
    "for i, v in res.items():\n",
    "    res[i].res2d['Term'] = [i.split('(GO')[0] for i in v.res2d['Term']]"
   ]
  },
  {
   "cell_type": "markdown",
   "metadata": {},
   "source": [
    "creating matrices"
   ]
  },
  {
   "cell_type": "code",
   "execution_count": null,
   "metadata": {},
   "outputs": [],
   "source": [
    "a = set()\n",
    "for k, val in res.items():\n",
    "    a.update(set(val.res2d.Term))\n",
    "a = {i:[0]*len(res) for i in a}\n",
    "for n,(k, val) in enumerate(res.items()):\n",
    "    for i,v in val.res2d.iterrows():\n",
    "        a[v.Term][n] = v.es\n",
    "res = pd.DataFrame(a, index=res.keys())"
   ]
  },
  {
   "cell_type": "code",
   "execution_count": null,
   "metadata": {},
   "outputs": [],
   "source": [
    "fig = sns.clustermap(figsize=(25,20), data=res,vmin=-1,vmax=1, yticklabels=res.index ,cmap=plt.cm.RdYlBu)\n",
    "fig.savefig(\"../results/\"+project+\"/\"+version+\"enriched_terms_scaled_gsea_bioproc2015.pdf\")"
   ]
  },
  {
   "cell_type": "code",
   "execution_count": null,
   "metadata": {},
   "outputs": [],
   "source": [
    "model = DBSCAN(eps=0.5, min_samples=3, metric='euclidean')\n",
    "labels = model.fit_predict(res)"
   ]
  },
  {
   "cell_type": "code",
   "execution_count": null,
   "metadata": {},
   "outputs": [],
   "source": [
    "sort = labels.argsort()"
   ]
  },
  {
   "cell_type": "markdown",
   "metadata": {},
   "source": [
    "### Correlation matrix across experiment on at the gene set level"
   ]
  },
  {
   "cell_type": "code",
   "execution_count": null,
   "metadata": {},
   "outputs": [],
   "source": [
    "a = sns.clustermap(-res.T.corr(),cmap=plt.cm.RdYlBu,vmin=-1,vmax=1)\n",
    "a.savefig(\"../results/\"+project+\"/plots/\"+version+\"_clustermap_over_bioproc2015_geneset.pdf\")"
   ]
  },
  {
   "cell_type": "code",
   "execution_count": null,
   "metadata": {},
   "outputs": [],
   "source": [
    "a = h.plotCorrelationMatrix(res.values[sort], res.index[sort].tolist(), interactive=True, title=\"correlation matrix over bioproc2015 gene sets\", folder=\"../results/\"+project+\"/plots/\"+version+\"_\")#,colors=[labels[i] for i in sort]) "
   ]
  },
  {
   "cell_type": "markdown",
   "metadata": {},
   "source": [
    "### similarity distance plot over the genesets "
   ]
  },
  {
   "cell_type": "code",
   "execution_count": null,
   "metadata": {},
   "outputs": [],
   "source": [
    "red = PCA(2).fit_transform(res)\n",
    "h.scatter(red, labels=res.index, radi=1, colors=labels, title=\"PCA distance in geneset space\", showlabels=True,folder=\"../results/\"+project+\"/plots/\"+version+\"_\")"
   ]
  },
  {
   "cell_type": "code",
   "execution_count": null,
   "metadata": {},
   "outputs": [],
   "source": [
    "red = TSNE(2,2).fit_transform(res)\n",
    "h.scatter(red, labels=res.index, radi=9, colors=labels, title=\"TSNE distance in geneset space\",showlabels=True,folder=\"../results/\"+project+\"/plots/\"+version+\"_\")"
   ]
  },
  {
   "cell_type": "code",
   "execution_count": null,
   "metadata": {},
   "outputs": [],
   "source": [
    "res.to_csv('../results/'+project+'/'+version+'_biopathway_gsea.csv')"
   ]
  },
  {
   "cell_type": "code",
   "execution_count": null,
   "metadata": {},
   "outputs": [],
   "source": [
    "res = pd.read_csv('../results/'+project+'/'+version+'_biopathway_gsea.csv',index_col=0)"
   ]
  },
  {
   "cell_type": "markdown",
   "metadata": {},
   "source": [
    "## Getting the correlation at the transcriptome level"
   ]
  },
  {
   "cell_type": "code",
   "execution_count": null,
   "metadata": {},
   "outputs": [],
   "source": [
    "data = pd.DataFrame(index=results['RNP_SP1'].index.tolist())\n",
    "for i, v in results.items():\n",
    "    data[i]=v.log2FoldChange"
   ]
  },
  {
   "cell_type": "code",
   "execution_count": null,
   "metadata": {},
   "outputs": [],
   "source": [
    "model = AgglomerativeClustering(n_clusters=8,linkage=\"average\", \n",
    "                                affinity=\"cosine\", compute_full_tree=True)\n",
    "labels = model.fit_predict(data.values.T)\n",
    "ii = itertools.count(data.values.shape[1])\n",
    "tree = [{'node_id': next(ii), 'left': x[0], 'right':x[1]} for x in model.children_]\n",
    "sort = labels.argsort()"
   ]
  },
  {
   "cell_type": "code",
   "execution_count": null,
   "metadata": {},
   "outputs": [],
   "source": [
    "model = DBSCAN(eps=0.5, min_samples=3, metric='euclidean')\n",
    "labels = model.fit_predict(data.values)"
   ]
  },
  {
   "cell_type": "code",
   "execution_count": null,
   "metadata": {},
   "outputs": [],
   "source": [
    "a = sns.clustermap(data.corr())\n",
    "a.savefig(\"../results/\"+project+\"/plots/\"+version+\"_clustermap_correlation_transcriptome.pdf\")"
   ]
  },
  {
   "cell_type": "code",
   "execution_count": null,
   "metadata": {},
   "outputs": [],
   "source": [
    "a = h.plotCorrelationMatrix(data.values.T[sort], data.columns[sort].tolist(), interactive=True, title=\"transcriptome correlation\",folder= \"../results/\"+project+\"/plots/\"+version+\"_\")#,colors=[labels[i] for i in sort]) "
   ]
  },
  {
   "cell_type": "code",
   "execution_count": null,
   "metadata": {},
   "outputs": [],
   "source": [
    "## Filtered version (set to 0 genes with low p_value)"
   ]
  },
  {
   "cell_type": "code",
   "execution_count": null,
   "metadata": {},
   "outputs": [],
   "source": [
    "data = pd.DataFrame(index=results['RNP_SP1'].index.tolist())\n",
    "for i, v in results.items():\n",
    "    v.loc[v[v.pvalue>0.01].index,\"log2FoldChange\"]==0\n",
    "    data[i]=v.log2FoldChange"
   ]
  },
  {
   "cell_type": "code",
   "execution_count": null,
   "metadata": {},
   "outputs": [],
   "source": [
    "a = h.plotCorrelationMatrix(data.values.T[sort], data.columns[sort].tolist(), interactive=True, title=\"transcriptome correlation matrix over high pvalue genes\",folder=\"../results/\"+project+\"/plots/\"+version+\"_\")"
   ]
  },
  {
   "cell_type": "code",
   "execution_count": null,
   "metadata": {},
   "outputs": [],
   "source": [
    "mostvar = data[(~data.index.str.contains('ERCC-')) & (data.var(1)>4)]"
   ]
  },
  {
   "cell_type": "code",
   "execution_count": null,
   "metadata": {},
   "outputs": [],
   "source": [
    "a = sns.clustermap(-mostvar.corr(), cmap=plt.cm.RdYlBu, vmin=-1, vmax=1)\n",
    "a.savefig(\"../results/\"+project+\"/plots/\"+version+\"_clustermap_mostvariable_genes.pdf\")"
   ]
  },
  {
   "cell_type": "markdown",
   "metadata": {},
   "source": [
    "### Doing it at the CRC members' expression only"
   ]
  },
  {
   "cell_type": "code",
   "execution_count": null,
   "metadata": {},
   "outputs": [],
   "source": [
    "results_ctf = data.loc[set(['MYC',\n",
    " 'MYB',\n",
    " 'SPI1',\n",
    " 'RUNX1',\n",
    " 'IRF2BP2',\n",
    " 'FLI1',\n",
    " 'ELF2',\n",
    " 'ZEB2',\n",
    " 'GFI1',\n",
    " 'LMO2',\n",
    " 'CEBPa',\n",
    " 'MEF2D',\n",
    " 'MEF2C',\n",
    " 'IRF8',\n",
    " 'MEIS1',\n",
    " 'RUNX2',\n",
    " 'ZMYND8']) & set(data.index)].T\n",
    "model = AgglomerativeClustering(n_clusters=7,linkage=\"average\", \n",
    "                                affinity=\"cosine\", compute_full_tree=True)\n",
    "labels = model.fit_predict(results_ctf)\n",
    "ii = itertools.count(results_ctf.shape[0])\n",
    "tree = [{'node_id': next(ii), 'left': x[0], 'right':x[1]} for x in model.children_]\n",
    "sort = labels.argsort()\n",
    "h.plotCorrelationMatrix(results_ctf.values[sort], title=\"correlation matrix over similarity over CRC members aggregated with agglomerative clustering\", folder=\"../results/\"+project+'/plots/'+version+'_',names=results_ctf.index[sort].tolist(),interactive=True)"
   ]
  },
  {
   "cell_type": "code",
   "execution_count": null,
   "metadata": {},
   "outputs": [],
   "source": [
    "a = sns.clustermap(results_ctf.corr())\n",
    "a.set_title(\"clustermap of correlation matrix over similarity over CRC members\")\n",
    "a.figure.savefig('../results/'+project+'/plots/'+version+\"_clustermap_correlation_CRConly.pdf\")"
   ]
  },
  {
   "cell_type": "code",
   "execution_count": null,
   "metadata": {},
   "outputs": [],
   "source": [
    "a.fig.savefig('../results/'+project+'/plots/'+version+\"_pairplot_deseq_crconly.pdf\")"
   ]
  },
  {
   "cell_type": "code",
   "execution_count": null,
   "metadata": {},
   "outputs": [],
   "source": [
    "a = sns.pairplot(results_ctf.T)\n",
    "a.fig.suptitle(\"pairplot of differential expression of CRC members under RNP of these members\", y=1.08)\n"
   ]
  },
  {
   "cell_type": "code",
   "execution_count": null,
   "metadata": {},
   "outputs": [],
   "source": []
  }
 ],
 "metadata": {
  "kernelspec": {
   "display_name": "Python 3",
   "language": "python",
   "name": "python3"
  },
  "language_info": {
   "codemirror_mode": {
    "name": "ipython",
    "version": 3
   },
   "file_extension": ".py",
   "mimetype": "text/x-python",
   "name": "python",
   "nbconvert_exporter": "python",
   "pygments_lexer": "ipython3",
   "version": "3.8.3rc1"
  },
  "latex_envs": {
   "LaTeX_envs_menu_present": true,
   "autoclose": false,
   "autocomplete": true,
   "bibliofile": "biblio.bib",
   "cite_by": "apalike",
   "current_citInitial": 1,
   "eqLabelWithNumbers": true,
   "eqNumInitial": 1,
   "hotkeys": {
    "equation": "Ctrl-E",
    "itemize": "Ctrl-I"
   },
   "labels_anchors": false,
   "latex_user_defs": false,
   "report_style_numbering": false,
   "user_envs_cfg": false
  },
  "toc": {
   "base_numbering": 1,
   "nav_menu": {},
   "number_sections": false,
   "sideBar": true,
   "skip_h1_title": false,
   "title_cell": "Table of Contents",
   "title_sidebar": "Contents",
   "toc_cell": false,
   "toc_position": {
    "height": "calc(100% - 180px)",
    "left": "10px",
    "top": "150px",
    "width": "205.8px"
   },
   "toc_section_display": true,
   "toc_window_display": true
  },
  "varInspector": {
   "cols": {
    "lenName": 16,
    "lenType": 16,
    "lenVar": 40
   },
   "kernels_config": {
    "python": {
     "delete_cmd_postfix": "",
     "delete_cmd_prefix": "del ",
     "library": "var_list.py",
     "varRefreshCmd": "print(var_dic_list())"
    },
    "r": {
     "delete_cmd_postfix": ") ",
     "delete_cmd_prefix": "rm(",
     "library": "var_list.r",
     "varRefreshCmd": "cat(var_dic_list()) "
    }
   },
   "types_to_exclude": [
    "module",
    "function",
    "builtin_function_or_method",
    "instance",
    "_Feature"
   ],
   "window_display": false
  }
 },
 "nbformat": 4,
 "nbformat_minor": 2
}
