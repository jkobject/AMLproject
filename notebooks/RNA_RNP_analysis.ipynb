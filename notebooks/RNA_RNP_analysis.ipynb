{
 "cells": [
  {
   "cell_type": "code",
   "execution_count": 1,
   "metadata": {},
   "outputs": [
    {
     "data": {
      "text/html": [
       "\n",
       "    <div class=\"bk-root\">\n",
       "        <a href=\"https://bokeh.org\" target=\"_blank\" class=\"bk-logo bk-logo-small bk-logo-notebook\"></a>\n",
       "        <span id=\"1001\">Loading BokehJS ...</span>\n",
       "    </div>"
      ]
     },
     "metadata": {},
     "output_type": "display_data"
    },
    {
     "data": {
      "application/javascript": [
       "\n",
       "(function(root) {\n",
       "  function now() {\n",
       "    return new Date();\n",
       "  }\n",
       "\n",
       "  var force = true;\n",
       "\n",
       "  if (typeof root._bokeh_onload_callbacks === \"undefined\" || force === true) {\n",
       "    root._bokeh_onload_callbacks = [];\n",
       "    root._bokeh_is_loading = undefined;\n",
       "  }\n",
       "\n",
       "  var JS_MIME_TYPE = 'application/javascript';\n",
       "  var HTML_MIME_TYPE = 'text/html';\n",
       "  var EXEC_MIME_TYPE = 'application/vnd.bokehjs_exec.v0+json';\n",
       "  var CLASS_NAME = 'output_bokeh rendered_html';\n",
       "\n",
       "  /**\n",
       "   * Render data to the DOM node\n",
       "   */\n",
       "  function render(props, node) {\n",
       "    var script = document.createElement(\"script\");\n",
       "    node.appendChild(script);\n",
       "  }\n",
       "\n",
       "  /**\n",
       "   * Handle when an output is cleared or removed\n",
       "   */\n",
       "  function handleClearOutput(event, handle) {\n",
       "    var cell = handle.cell;\n",
       "\n",
       "    var id = cell.output_area._bokeh_element_id;\n",
       "    var server_id = cell.output_area._bokeh_server_id;\n",
       "    // Clean up Bokeh references\n",
       "    if (id != null && id in Bokeh.index) {\n",
       "      Bokeh.index[id].model.document.clear();\n",
       "      delete Bokeh.index[id];\n",
       "    }\n",
       "\n",
       "    if (server_id !== undefined) {\n",
       "      // Clean up Bokeh references\n",
       "      var cmd = \"from bokeh.io.state import curstate; print(curstate().uuid_to_server['\" + server_id + \"'].get_sessions()[0].document.roots[0]._id)\";\n",
       "      cell.notebook.kernel.execute(cmd, {\n",
       "        iopub: {\n",
       "          output: function(msg) {\n",
       "            var id = msg.content.text.trim();\n",
       "            if (id in Bokeh.index) {\n",
       "              Bokeh.index[id].model.document.clear();\n",
       "              delete Bokeh.index[id];\n",
       "            }\n",
       "          }\n",
       "        }\n",
       "      });\n",
       "      // Destroy server and session\n",
       "      var cmd = \"import bokeh.io.notebook as ion; ion.destroy_server('\" + server_id + \"')\";\n",
       "      cell.notebook.kernel.execute(cmd);\n",
       "    }\n",
       "  }\n",
       "\n",
       "  /**\n",
       "   * Handle when a new output is added\n",
       "   */\n",
       "  function handleAddOutput(event, handle) {\n",
       "    var output_area = handle.output_area;\n",
       "    var output = handle.output;\n",
       "\n",
       "    // limit handleAddOutput to display_data with EXEC_MIME_TYPE content only\n",
       "    if ((output.output_type != \"display_data\") || (!output.data.hasOwnProperty(EXEC_MIME_TYPE))) {\n",
       "      return\n",
       "    }\n",
       "\n",
       "    var toinsert = output_area.element.find(\".\" + CLASS_NAME.split(' ')[0]);\n",
       "\n",
       "    if (output.metadata[EXEC_MIME_TYPE][\"id\"] !== undefined) {\n",
       "      toinsert[toinsert.length - 1].firstChild.textContent = output.data[JS_MIME_TYPE];\n",
       "      // store reference to embed id on output_area\n",
       "      output_area._bokeh_element_id = output.metadata[EXEC_MIME_TYPE][\"id\"];\n",
       "    }\n",
       "    if (output.metadata[EXEC_MIME_TYPE][\"server_id\"] !== undefined) {\n",
       "      var bk_div = document.createElement(\"div\");\n",
       "      bk_div.innerHTML = output.data[HTML_MIME_TYPE];\n",
       "      var script_attrs = bk_div.children[0].attributes;\n",
       "      for (var i = 0; i < script_attrs.length; i++) {\n",
       "        toinsert[toinsert.length - 1].firstChild.setAttribute(script_attrs[i].name, script_attrs[i].value);\n",
       "        toinsert[toinsert.length - 1].firstChild.textContent = bk_div.children[0].textContent\n",
       "      }\n",
       "      // store reference to server id on output_area\n",
       "      output_area._bokeh_server_id = output.metadata[EXEC_MIME_TYPE][\"server_id\"];\n",
       "    }\n",
       "  }\n",
       "\n",
       "  function register_renderer(events, OutputArea) {\n",
       "\n",
       "    function append_mime(data, metadata, element) {\n",
       "      // create a DOM node to render to\n",
       "      var toinsert = this.create_output_subarea(\n",
       "        metadata,\n",
       "        CLASS_NAME,\n",
       "        EXEC_MIME_TYPE\n",
       "      );\n",
       "      this.keyboard_manager.register_events(toinsert);\n",
       "      // Render to node\n",
       "      var props = {data: data, metadata: metadata[EXEC_MIME_TYPE]};\n",
       "      render(props, toinsert[toinsert.length - 1]);\n",
       "      element.append(toinsert);\n",
       "      return toinsert\n",
       "    }\n",
       "\n",
       "    /* Handle when an output is cleared or removed */\n",
       "    events.on('clear_output.CodeCell', handleClearOutput);\n",
       "    events.on('delete.Cell', handleClearOutput);\n",
       "\n",
       "    /* Handle when a new output is added */\n",
       "    events.on('output_added.OutputArea', handleAddOutput);\n",
       "\n",
       "    /**\n",
       "     * Register the mime type and append_mime function with output_area\n",
       "     */\n",
       "    OutputArea.prototype.register_mime_type(EXEC_MIME_TYPE, append_mime, {\n",
       "      /* Is output safe? */\n",
       "      safe: true,\n",
       "      /* Index of renderer in `output_area.display_order` */\n",
       "      index: 0\n",
       "    });\n",
       "  }\n",
       "\n",
       "  // register the mime type if in Jupyter Notebook environment and previously unregistered\n",
       "  if (root.Jupyter !== undefined) {\n",
       "    var events = require('base/js/events');\n",
       "    var OutputArea = require('notebook/js/outputarea').OutputArea;\n",
       "\n",
       "    if (OutputArea.prototype.mime_types().indexOf(EXEC_MIME_TYPE) == -1) {\n",
       "      register_renderer(events, OutputArea);\n",
       "    }\n",
       "  }\n",
       "\n",
       "  \n",
       "  if (typeof (root._bokeh_timeout) === \"undefined\" || force === true) {\n",
       "    root._bokeh_timeout = Date.now() + 5000;\n",
       "    root._bokeh_failed_load = false;\n",
       "  }\n",
       "\n",
       "  var NB_LOAD_WARNING = {'data': {'text/html':\n",
       "     \"<div style='background-color: #fdd'>\\n\"+\n",
       "     \"<p>\\n\"+\n",
       "     \"BokehJS does not appear to have successfully loaded. If loading BokehJS from CDN, this \\n\"+\n",
       "     \"may be due to a slow or bad network connection. Possible fixes:\\n\"+\n",
       "     \"</p>\\n\"+\n",
       "     \"<ul>\\n\"+\n",
       "     \"<li>re-rerun `output_notebook()` to attempt to load from CDN again, or</li>\\n\"+\n",
       "     \"<li>use INLINE resources instead, as so:</li>\\n\"+\n",
       "     \"</ul>\\n\"+\n",
       "     \"<code>\\n\"+\n",
       "     \"from bokeh.resources import INLINE\\n\"+\n",
       "     \"output_notebook(resources=INLINE)\\n\"+\n",
       "     \"</code>\\n\"+\n",
       "     \"</div>\"}};\n",
       "\n",
       "  function display_loaded() {\n",
       "    var el = document.getElementById(\"1001\");\n",
       "    if (el != null) {\n",
       "      el.textContent = \"BokehJS is loading...\";\n",
       "    }\n",
       "    if (root.Bokeh !== undefined) {\n",
       "      if (el != null) {\n",
       "        el.textContent = \"BokehJS \" + root.Bokeh.version + \" successfully loaded.\";\n",
       "      }\n",
       "    } else if (Date.now() < root._bokeh_timeout) {\n",
       "      setTimeout(display_loaded, 100)\n",
       "    }\n",
       "  }\n",
       "\n",
       "\n",
       "  function run_callbacks() {\n",
       "    try {\n",
       "      root._bokeh_onload_callbacks.forEach(function(callback) {\n",
       "        if (callback != null)\n",
       "          callback();\n",
       "      });\n",
       "    } finally {\n",
       "      delete root._bokeh_onload_callbacks\n",
       "    }\n",
       "    console.debug(\"Bokeh: all callbacks have finished\");\n",
       "  }\n",
       "\n",
       "  function load_libs(css_urls, js_urls, callback) {\n",
       "    if (css_urls == null) css_urls = [];\n",
       "    if (js_urls == null) js_urls = [];\n",
       "\n",
       "    root._bokeh_onload_callbacks.push(callback);\n",
       "    if (root._bokeh_is_loading > 0) {\n",
       "      console.debug(\"Bokeh: BokehJS is being loaded, scheduling callback at\", now());\n",
       "      return null;\n",
       "    }\n",
       "    if (js_urls == null || js_urls.length === 0) {\n",
       "      run_callbacks();\n",
       "      return null;\n",
       "    }\n",
       "    console.debug(\"Bokeh: BokehJS not loaded, scheduling load and callback at\", now());\n",
       "    root._bokeh_is_loading = css_urls.length + js_urls.length;\n",
       "\n",
       "    function on_load() {\n",
       "      root._bokeh_is_loading--;\n",
       "      if (root._bokeh_is_loading === 0) {\n",
       "        console.debug(\"Bokeh: all BokehJS libraries/stylesheets loaded\");\n",
       "        run_callbacks()\n",
       "      }\n",
       "    }\n",
       "\n",
       "    function on_error() {\n",
       "      console.error(\"failed to load \" + url);\n",
       "    }\n",
       "\n",
       "    for (var i = 0; i < css_urls.length; i++) {\n",
       "      var url = css_urls[i];\n",
       "      const element = document.createElement(\"link\");\n",
       "      element.onload = on_load;\n",
       "      element.onerror = on_error;\n",
       "      element.rel = \"stylesheet\";\n",
       "      element.type = \"text/css\";\n",
       "      element.href = url;\n",
       "      console.debug(\"Bokeh: injecting link tag for BokehJS stylesheet: \", url);\n",
       "      document.body.appendChild(element);\n",
       "    }\n",
       "\n",
       "    const hashes = {\"https://cdn.bokeh.org/bokeh/release/bokeh-2.0.2.min.js\": \"ufR9RFnRs6lniiaFvtJziE0YeidtAgBRH6ux2oUItHw5WTvE1zuk9uzhUU/FJXDp\", \"https://cdn.bokeh.org/bokeh/release/bokeh-widgets-2.0.2.min.js\": \"8QM/PGWBT+IssZuRcDcjzwIh1mkOmJSoNMmyYDZbCfXJg3Ap1lEvdVgFuSAwhb/J\", \"https://cdn.bokeh.org/bokeh/release/bokeh-tables-2.0.2.min.js\": \"Jm8cH3Rg0P6UeZhVY5cLy1WzKajUT9KImCY+76hEqrcJt59/d8GPvFHjCkYgnSIn\", \"https://cdn.bokeh.org/bokeh/release/bokeh-gl-2.0.2.min.js\": \"Ozhzj+SI7ywm74aOI/UajcWz+C0NjsPunEVyVIrxzYkB+jA+2tUw8x5xJCbVtK5I\"};\n",
       "\n",
       "    for (var i = 0; i < js_urls.length; i++) {\n",
       "      var url = js_urls[i];\n",
       "      var element = document.createElement('script');\n",
       "      element.onload = on_load;\n",
       "      element.onerror = on_error;\n",
       "      element.async = false;\n",
       "      element.src = url;\n",
       "      if (url in hashes) {\n",
       "        element.crossOrigin = \"anonymous\";\n",
       "        element.integrity = \"sha384-\" + hashes[url];\n",
       "      }\n",
       "      console.debug(\"Bokeh: injecting script tag for BokehJS library: \", url);\n",
       "      document.head.appendChild(element);\n",
       "    }\n",
       "  };\n",
       "\n",
       "  function inject_raw_css(css) {\n",
       "    const element = document.createElement(\"style\");\n",
       "    element.appendChild(document.createTextNode(css));\n",
       "    document.body.appendChild(element);\n",
       "  }\n",
       "\n",
       "  \n",
       "  var js_urls = [\"https://cdn.bokeh.org/bokeh/release/bokeh-2.0.2.min.js\", \"https://cdn.bokeh.org/bokeh/release/bokeh-widgets-2.0.2.min.js\", \"https://cdn.bokeh.org/bokeh/release/bokeh-tables-2.0.2.min.js\", \"https://cdn.bokeh.org/bokeh/release/bokeh-gl-2.0.2.min.js\"];\n",
       "  var css_urls = [];\n",
       "  \n",
       "\n",
       "  var inline_js = [\n",
       "    function(Bokeh) {\n",
       "      Bokeh.set_log_level(\"info\");\n",
       "    },\n",
       "    function(Bokeh) {\n",
       "    \n",
       "    \n",
       "    }\n",
       "  ];\n",
       "\n",
       "  function run_inline_js() {\n",
       "    \n",
       "    if (root.Bokeh !== undefined || force === true) {\n",
       "      \n",
       "    for (var i = 0; i < inline_js.length; i++) {\n",
       "      inline_js[i].call(root, root.Bokeh);\n",
       "    }\n",
       "    if (force === true) {\n",
       "        display_loaded();\n",
       "      }} else if (Date.now() < root._bokeh_timeout) {\n",
       "      setTimeout(run_inline_js, 100);\n",
       "    } else if (!root._bokeh_failed_load) {\n",
       "      console.log(\"Bokeh: BokehJS failed to load within specified timeout.\");\n",
       "      root._bokeh_failed_load = true;\n",
       "    } else if (force !== true) {\n",
       "      var cell = $(document.getElementById(\"1001\")).parents('.cell').data().cell;\n",
       "      cell.output_area.append_execute_result(NB_LOAD_WARNING)\n",
       "    }\n",
       "\n",
       "  }\n",
       "\n",
       "  if (root._bokeh_is_loading === 0) {\n",
       "    console.debug(\"Bokeh: BokehJS loaded, going straight to plotting\");\n",
       "    run_inline_js();\n",
       "  } else {\n",
       "    load_libs(css_urls, js_urls, function() {\n",
       "      console.debug(\"Bokeh: BokehJS plotting callback run at\", now());\n",
       "      run_inline_js();\n",
       "    });\n",
       "  }\n",
       "}(window));"
      ],
      "application/vnd.bokehjs_load.v0+json": "\n(function(root) {\n  function now() {\n    return new Date();\n  }\n\n  var force = true;\n\n  if (typeof root._bokeh_onload_callbacks === \"undefined\" || force === true) {\n    root._bokeh_onload_callbacks = [];\n    root._bokeh_is_loading = undefined;\n  }\n\n  \n\n  \n  if (typeof (root._bokeh_timeout) === \"undefined\" || force === true) {\n    root._bokeh_timeout = Date.now() + 5000;\n    root._bokeh_failed_load = false;\n  }\n\n  var NB_LOAD_WARNING = {'data': {'text/html':\n     \"<div style='background-color: #fdd'>\\n\"+\n     \"<p>\\n\"+\n     \"BokehJS does not appear to have successfully loaded. If loading BokehJS from CDN, this \\n\"+\n     \"may be due to a slow or bad network connection. Possible fixes:\\n\"+\n     \"</p>\\n\"+\n     \"<ul>\\n\"+\n     \"<li>re-rerun `output_notebook()` to attempt to load from CDN again, or</li>\\n\"+\n     \"<li>use INLINE resources instead, as so:</li>\\n\"+\n     \"</ul>\\n\"+\n     \"<code>\\n\"+\n     \"from bokeh.resources import INLINE\\n\"+\n     \"output_notebook(resources=INLINE)\\n\"+\n     \"</code>\\n\"+\n     \"</div>\"}};\n\n  function display_loaded() {\n    var el = document.getElementById(\"1001\");\n    if (el != null) {\n      el.textContent = \"BokehJS is loading...\";\n    }\n    if (root.Bokeh !== undefined) {\n      if (el != null) {\n        el.textContent = \"BokehJS \" + root.Bokeh.version + \" successfully loaded.\";\n      }\n    } else if (Date.now() < root._bokeh_timeout) {\n      setTimeout(display_loaded, 100)\n    }\n  }\n\n\n  function run_callbacks() {\n    try {\n      root._bokeh_onload_callbacks.forEach(function(callback) {\n        if (callback != null)\n          callback();\n      });\n    } finally {\n      delete root._bokeh_onload_callbacks\n    }\n    console.debug(\"Bokeh: all callbacks have finished\");\n  }\n\n  function load_libs(css_urls, js_urls, callback) {\n    if (css_urls == null) css_urls = [];\n    if (js_urls == null) js_urls = [];\n\n    root._bokeh_onload_callbacks.push(callback);\n    if (root._bokeh_is_loading > 0) {\n      console.debug(\"Bokeh: BokehJS is being loaded, scheduling callback at\", now());\n      return null;\n    }\n    if (js_urls == null || js_urls.length === 0) {\n      run_callbacks();\n      return null;\n    }\n    console.debug(\"Bokeh: BokehJS not loaded, scheduling load and callback at\", now());\n    root._bokeh_is_loading = css_urls.length + js_urls.length;\n\n    function on_load() {\n      root._bokeh_is_loading--;\n      if (root._bokeh_is_loading === 0) {\n        console.debug(\"Bokeh: all BokehJS libraries/stylesheets loaded\");\n        run_callbacks()\n      }\n    }\n\n    function on_error() {\n      console.error(\"failed to load \" + url);\n    }\n\n    for (var i = 0; i < css_urls.length; i++) {\n      var url = css_urls[i];\n      const element = document.createElement(\"link\");\n      element.onload = on_load;\n      element.onerror = on_error;\n      element.rel = \"stylesheet\";\n      element.type = \"text/css\";\n      element.href = url;\n      console.debug(\"Bokeh: injecting link tag for BokehJS stylesheet: \", url);\n      document.body.appendChild(element);\n    }\n\n    const hashes = {\"https://cdn.bokeh.org/bokeh/release/bokeh-2.0.2.min.js\": \"ufR9RFnRs6lniiaFvtJziE0YeidtAgBRH6ux2oUItHw5WTvE1zuk9uzhUU/FJXDp\", \"https://cdn.bokeh.org/bokeh/release/bokeh-widgets-2.0.2.min.js\": \"8QM/PGWBT+IssZuRcDcjzwIh1mkOmJSoNMmyYDZbCfXJg3Ap1lEvdVgFuSAwhb/J\", \"https://cdn.bokeh.org/bokeh/release/bokeh-tables-2.0.2.min.js\": \"Jm8cH3Rg0P6UeZhVY5cLy1WzKajUT9KImCY+76hEqrcJt59/d8GPvFHjCkYgnSIn\", \"https://cdn.bokeh.org/bokeh/release/bokeh-gl-2.0.2.min.js\": \"Ozhzj+SI7ywm74aOI/UajcWz+C0NjsPunEVyVIrxzYkB+jA+2tUw8x5xJCbVtK5I\"};\n\n    for (var i = 0; i < js_urls.length; i++) {\n      var url = js_urls[i];\n      var element = document.createElement('script');\n      element.onload = on_load;\n      element.onerror = on_error;\n      element.async = false;\n      element.src = url;\n      if (url in hashes) {\n        element.crossOrigin = \"anonymous\";\n        element.integrity = \"sha384-\" + hashes[url];\n      }\n      console.debug(\"Bokeh: injecting script tag for BokehJS library: \", url);\n      document.head.appendChild(element);\n    }\n  };\n\n  function inject_raw_css(css) {\n    const element = document.createElement(\"style\");\n    element.appendChild(document.createTextNode(css));\n    document.body.appendChild(element);\n  }\n\n  \n  var js_urls = [\"https://cdn.bokeh.org/bokeh/release/bokeh-2.0.2.min.js\", \"https://cdn.bokeh.org/bokeh/release/bokeh-widgets-2.0.2.min.js\", \"https://cdn.bokeh.org/bokeh/release/bokeh-tables-2.0.2.min.js\", \"https://cdn.bokeh.org/bokeh/release/bokeh-gl-2.0.2.min.js\"];\n  var css_urls = [];\n  \n\n  var inline_js = [\n    function(Bokeh) {\n      Bokeh.set_log_level(\"info\");\n    },\n    function(Bokeh) {\n    \n    \n    }\n  ];\n\n  function run_inline_js() {\n    \n    if (root.Bokeh !== undefined || force === true) {\n      \n    for (var i = 0; i < inline_js.length; i++) {\n      inline_js[i].call(root, root.Bokeh);\n    }\n    if (force === true) {\n        display_loaded();\n      }} else if (Date.now() < root._bokeh_timeout) {\n      setTimeout(run_inline_js, 100);\n    } else if (!root._bokeh_failed_load) {\n      console.log(\"Bokeh: BokehJS failed to load within specified timeout.\");\n      root._bokeh_failed_load = true;\n    } else if (force !== true) {\n      var cell = $(document.getElementById(\"1001\")).parents('.cell').data().cell;\n      cell.output_area.append_execute_result(NB_LOAD_WARNING)\n    }\n\n  }\n\n  if (root._bokeh_is_loading === 0) {\n    console.debug(\"Bokeh: BokehJS loaded, going straight to plotting\");\n    run_inline_js();\n  } else {\n    load_libs(css_urls, js_urls, function() {\n      console.debug(\"Bokeh: BokehJS plotting callback run at\", now());\n      run_inline_js();\n    });\n  }\n}(window));"
     },
     "metadata": {},
     "output_type": "display_data"
    }
   ],
   "source": [
    "from __future__ import print_function\n",
    "import os.path\n",
    "import dalmatian as dm\n",
    "import pandas as pd\n",
    "import sys\n",
    "sys.path.insert(0, '../..')\n",
    "from JKBio import TerraFunction as terra\n",
    "%load_ext autoreload\n",
    "from JKBio import Helper as h\n",
    "%autoreload 2\n",
    "import pickle\n",
    "%load_ext rpy2.ipython\n",
    "#%load_ext rpy2.ipython\n",
    "from taigapy import TaigaClient\n",
    "tc = TaigaClient()\n",
    "import numpy as np\n",
    "import itertools\n",
    "\n",
    "from bokeh.plotting import *\n",
    "from bokeh.models import HoverTool\n",
    "output_notebook()\n",
    "import matplotlib.pyplot as plt\n",
    "%matplotlib inline\n",
    "import seaborn as sns\n",
    "import gseapy\n",
    "from JKBio.helper import pyDESeq2\n",
    "from sklearn.neighbors import KNeighborsClassifier\n",
    "from sklearn.cluster import AgglomerativeClustering\n",
    "\n",
    "from sklearn.manifold import MDS, TSNE\n",
    "from sklearn.decomposition import PCA\n",
    "from sklearn.preprocessing import scale"
   ]
  },
  {
   "cell_type": "code",
   "execution_count": 8,
   "metadata": {},
   "outputs": [
    {
     "name": "stdout",
     "output_type": "stream",
     "text": [
      "Copying gs://transfer-amlproject/20200304_10_MP7624_S10_R1_001.fastq.gz [Content-Type=application/octet-stream]...\n",
      "Copying gs://transfer-amlproject/20200304_10_MP7624_S10_R2_001.fastq.gz [Content-Type=application/octet-stream]...\n",
      "Copying gs://transfer-amlproject/20200304_11_MP7624_S11_R1_001.fastq.gz [Content-Type=application/octet-stream]...\n",
      "Copying gs://transfer-amlproject/20200304_12_MP7624_S12_R1_001.fastq.gz [Content-Type=application/octet-stream]...\n",
      "Copying gs://transfer-amlproject/20200304_11_MP7624_S11_R2_001.fastq.gz [Content-Type=application/octet-stream]...\n",
      "Copying gs://transfer-amlproject/20200304_13_MP7624_S13_R1_001.fastq.gz [Content-Type=application/octet-stream]...\n",
      "Copying gs://transfer-amlproject/20200304_12_MP7624_S12_R2_001.fastq.gz [Content-Type=application/octet-stream]...\n",
      "Copying gs://transfer-amlproject/20200304_13_MP7624_S13_R2_001.fastq.gz [Content-Type=application/octet-stream]...\n",
      "Copying gs://transfer-amlproject/20200304_14_MP7624_S14_R1_001.fastq.gz [Content-Type=application/octet-stream]...\n",
      "Copying gs://transfer-amlproject/20200304_14_MP7624_S14_R2_001.fastq.gz [Content-Type=application/octet-stream]...\n",
      "Copying gs://transfer-amlproject/20200304_17_MP7624_S17_R2_001.fastq.gz [Content-Type=application/octet-stream]...\n",
      "Copying gs://transfer-amlproject/20200304_15_MP7624_S15_R1_001.fastq.gz [Content-Type=application/octet-stream]...\n",
      "Copying gs://transfer-amlproject/20200304_16_MP7624_S16_R1_001.fastq.gz [Content-Type=application/octet-stream]...\n",
      "Copying gs://transfer-amlproject/20200304_18_MP7624_S18_R2_001.fastq.gz [Content-Type=application/octet-stream]...\n",
      "Copying gs://transfer-amlproject/20200304_16_MP7624_S16_R2_001.fastq.gz [Content-Type=application/octet-stream]...\n",
      "Copying gs://transfer-amlproject/20200304_26_MP7624_S26_R2_001.fastq.gz [Content-Type=application/octet-stream]...\n",
      "Copying gs://transfer-amlproject/20200304_18_MP7624_S18_R1_001.fastq.gz [Content-Type=application/octet-stream]...\n",
      "Copying gs://transfer-amlproject/20200304_15_MP7624_S15_R2_001.fastq.gz [Content-Type=application/octet-stream]...\n",
      "Copying gs://transfer-amlproject/20200304_27_MP7624_S27_R1_001.fastq.gz [Content-Type=application/octet-stream]...\n",
      "Copying gs://transfer-amlproject/20200304_19_MP7624_S19_R1_001.fastq.gz [Content-Type=application/octet-stream]...\n",
      "Copying gs://transfer-amlproject/20200304_19_MP7624_S19_R2_001.fastq.gz [Content-Type=application/octet-stream]...\n",
      "Copying gs://transfer-amlproject/20200304_1_MP7624_S1_R1_001.fastq.gz [Content-Type=application/octet-stream]...\n",
      "Copying gs://transfer-amlproject/20200304_20_MP7624_S20_R1_001.fastq.gz [Content-Type=application/octet-stream]...\n",
      "Copying gs://transfer-amlproject/20200304_17_MP7624_S17_R1_001.fastq.gz [Content-Type=application/octet-stream]...\n",
      "Copying gs://transfer-amlproject/20200304_1_MP7624_S1_R2_001.fastq.gz [Content-Type=application/octet-stream]...\n",
      "Copying gs://transfer-amlproject/20200304_21_MP7624_S21_R2_001.fastq.gz [Content-Type=application/octet-stream]...\n",
      "Copying gs://transfer-amlproject/20200304_21_MP7624_S21_R1_001.fastq.gz [Content-Type=application/octet-stream]...\n",
      "Copying gs://transfer-amlproject/20200304_22_MP7624_S22_R1_001.fastq.gz [Content-Type=application/octet-stream]...\n",
      "Copying gs://transfer-amlproject/20200304_25_MP7624_S25_R2_001.fastq.gz [Content-Type=application/octet-stream]...\n",
      "Copying gs://transfer-amlproject/20200304_23_MP7624_S23_R1_001.fastq.gz [Content-Type=application/octet-stream]...\n",
      "Copying gs://transfer-amlproject/20200304_24_MP7624_S24_R1_001.fastq.gz [Content-Type=application/octet-stream]...\n",
      "Copying gs://transfer-amlproject/20200304_28_MP7624_S28_R1_001.fastq.gz [Content-Type=application/octet-stream]...\n",
      "Copying gs://transfer-amlproject/20200304_24_MP7624_S24_R2_001.fastq.gz [Content-Type=application/octet-stream]...\n",
      "Copying gs://transfer-amlproject/20200304_20_MP7624_S20_R2_001.fastq.gz [Content-Type=application/octet-stream]...\n",
      "Copying gs://transfer-amlproject/20200304_25_MP7624_S25_R1_001.fastq.gz [Content-Type=application/octet-stream]...\n",
      "Copying gs://transfer-amlproject/20200304_22_MP7624_S22_R2_001.fastq.gz [Content-Type=application/octet-stream]...\n",
      "Copying gs://transfer-amlproject/20200304_27_MP7624_S27_R2_001.fastq.gz [Content-Type=application/octet-stream]...\n",
      "Copying gs://transfer-amlproject/20200304_26_MP7624_S26_R1_001.fastq.gz [Content-Type=application/octet-stream]...\n",
      "Copying gs://transfer-amlproject/20200304_23_MP7624_S23_R2_001.fastq.gz [Content-Type=application/octet-stream]...\n",
      "Copying gs://transfer-amlproject/20200304_28_MP7624_S28_R2_001.fastq.gz [Content-Type=application/octet-stream]...\n",
      "Removing gs://transfer-amlproject/20200304_21_MP7624_S21_R2_001.fastq.gz...     \n",
      "Removing gs://transfer-amlproject/20200304_24_MP7624_S24_R2_001.fastq.gz...\n",
      "Removing gs://transfer-amlproject/20200304_10_MP7624_S10_R1_001.fastq.gz...\n",
      "Removing gs://transfer-amlproject/20200304_16_MP7624_S16_R1_001.fastq.gz...\n",
      "Removing gs://transfer-amlproject/20200304_11_MP7624_S11_R2_001.fastq.gz...\n",
      "Removing gs://transfer-amlproject/20200304_12_MP7624_S12_R1_001.fastq.gz...\n",
      "Removing gs://transfer-amlproject/20200304_23_MP7624_S23_R1_001.fastq.gz...\n",
      "Removing gs://transfer-amlproject/20200304_15_MP7624_S15_R1_001.fastq.gz...     \n",
      "Removing gs://transfer-amlproject/20200304_22_MP7624_S22_R1_001.fastq.gz...     \n",
      "Removing gs://transfer-amlproject/20200304_1_MP7624_S1_R1_001.fastq.gz...       \n",
      "Removing gs://transfer-amlproject/20200304_21_MP7624_S21_R1_001.fastq.gz...     \n",
      "Removing gs://transfer-amlproject/20200304_24_MP7624_S24_R1_001.fastq.gz...     \n",
      "Removing gs://transfer-amlproject/20200304_25_MP7624_S25_R2_001.fastq.gz...     \n",
      "Removing gs://transfer-amlproject/20200304_1_MP7624_S1_R2_001.fastq.gz...\n",
      "Removing gs://transfer-amlproject/20200304_20_MP7624_S20_R1_001.fastq.gz...     \n",
      "Removing gs://transfer-amlproject/20200304_18_MP7624_S18_R2_001.fastq.gz...     \n",
      "Removing gs://transfer-amlproject/20200304_22_MP7624_S22_R2_001.fastq.gz...     \n",
      "Removing gs://transfer-amlproject/20200304_11_MP7624_S11_R1_001.fastq.gz...     \n",
      "Removing gs://transfer-amlproject/20200304_10_MP7624_S10_R2_001.fastq.gz...     \n",
      "Removing gs://transfer-amlproject/20200304_23_MP7624_S23_R2_001.fastq.gz...     \n",
      "Removing gs://transfer-amlproject/20200304_18_MP7624_S18_R1_001.fastq.gz...     \n",
      "Removing gs://transfer-amlproject/20200304_19_MP7624_S19_R1_001.fastq.gz...     \n",
      "Removing gs://transfer-amlproject/20200304_20_MP7624_S20_R2_001.fastq.gz...     \n",
      "Removing gs://transfer-amlproject/20200304_19_MP7624_S19_R2_001.fastq.gz...\n",
      "Copying gs://transfer-amlproject/20200304_29_MP7624_S29_R1_001.fastq.gz [Content-Type=application/octet-stream]...\n",
      "Copying gs://transfer-amlproject/20200304_29_MP7624_S29_R2_001.fastq.gz [Content-Type=application/octet-stream]...\n",
      "Copying gs://transfer-amlproject/20200304_2_MP7624_S2_R1_001.fastq.gz [Content-Type=application/octet-stream]...\n",
      "Removing gs://transfer-amlproject/20200304_28_MP7624_S28_R1_001.fastq.gz...\n",
      "Removing gs://transfer-amlproject/20200304_12_MP7624_S12_R2_001.fastq.gz...\n",
      "Copying gs://transfer-amlproject/20200304_2_MP7624_S2_R2_001.fastq.gz [Content-Type=application/octet-stream]...\n",
      "Removing gs://transfer-amlproject/20200304_27_MP7624_S27_R1_001.fastq.gz...\n",
      "Copying gs://transfer-amlproject/20200304_30_MP7624_S30_R1_001.fastq.gz [Content-Type=application/octet-stream]...\n",
      "Copying gs://transfer-amlproject/20200304_30_MP7624_S30_R2_001.fastq.gz [Content-Type=application/octet-stream]...\n",
      "Copying gs://transfer-amlproject/20200304_31_MP7624_S31_R1_001.fastq.gz [Content-Type=application/octet-stream]...\n",
      "Copying gs://transfer-amlproject/20200304_31_MP7624_S31_R2_001.fastq.gz [Content-Type=application/octet-stream]...\n",
      "Removing gs://transfer-amlproject/20200304_27_MP7624_S27_R2_001.fastq.gz...     \n",
      "Removing gs://transfer-amlproject/20200304_26_MP7624_S26_R1_001.fastq.gz...     \n",
      "Removing gs://transfer-amlproject/20200304_26_MP7624_S26_R2_001.fastq.gz...\n",
      "Removing gs://transfer-amlproject/20200304_28_MP7624_S28_R2_001.fastq.gz...     \n",
      "Copying gs://transfer-amlproject/20200304_32_MP7624_S32_R1_001.fastq.gz [Content-Type=application/octet-stream]...\n",
      "Copying gs://transfer-amlproject/20200304_32_MP7624_S32_R2_001.fastq.gz [Content-Type=application/octet-stream]...\n",
      "Copying gs://transfer-amlproject/20200304_33_MP7624_S33_R1_001.fastq.gz [Content-Type=application/octet-stream]...\n",
      "Copying gs://transfer-amlproject/20200304_33_MP7624_S33_R2_001.fastq.gz [Content-Type=application/octet-stream]...\n",
      "Copying gs://transfer-amlproject/20200304_34_MP7624_S34_R1_001.fastq.gz [Content-Type=application/octet-stream]...\n",
      "Copying gs://transfer-amlproject/20200304_34_MP7624_S34_R2_001.fastq.gz [Content-Type=application/octet-stream]...\n",
      "Copying gs://transfer-amlproject/20200304_35_MP7624_S35_R1_001.fastq.gz [Content-Type=application/octet-stream]...\n",
      "Removing gs://transfer-amlproject/20200304_14_MP7624_S14_R1_001.fastq.gz...\n"
     ]
    },
    {
     "name": "stdout",
     "output_type": "stream",
     "text": [
      "Copying gs://transfer-amlproject/20200304_35_MP7624_S35_R2_001.fastq.gz [Content-Type=application/octet-stream]...\n",
      "Copying gs://transfer-amlproject/20200304_36_MP7624_S36_R1_001.fastq.gz [Content-Type=application/octet-stream]...\n",
      "Removing gs://transfer-amlproject/20200304_16_MP7624_S16_R2_001.fastq.gz...     \n",
      "Removing gs://transfer-amlproject/20200304_14_MP7624_S14_R2_001.fastq.gz...\n",
      "Removing gs://transfer-amlproject/20200304_25_MP7624_S25_R1_001.fastq.gz...     \n",
      "Copying gs://transfer-amlproject/20200304_37_MP7624_S37_R1_001.fastq.gz [Content-Type=application/octet-stream]...\n",
      "Copying gs://transfer-amlproject/20200304_38_MP7624_S38_R1_001.fastq.gz [Content-Type=application/octet-stream]...\n",
      "Copying gs://transfer-amlproject/20200304_37_MP7624_S37_R2_001.fastq.gz [Content-Type=application/octet-stream]...\n",
      "Removing gs://transfer-amlproject/20200304_13_MP7624_S13_R2_001.fastq.gz...\n",
      "Copying gs://transfer-amlproject/20200304_36_MP7624_S36_R2_001.fastq.gz [Content-Type=application/octet-stream]...\n",
      "Removing gs://transfer-amlproject/20200304_17_MP7624_S17_R2_001.fastq.gz...     \n",
      "Copying gs://transfer-amlproject/20200304_38_MP7624_S38_R2_001.fastq.gz [Content-Type=application/octet-stream]...\n",
      "Removing gs://transfer-amlproject/20200304_17_MP7624_S17_R1_001.fastq.gz...     \n",
      "Removing gs://transfer-amlproject/20200304_29_MP7624_S29_R1_001.fastq.gz...\n",
      "Copying gs://transfer-amlproject/20200304_39_MP7624_S39_R1_001.fastq.gz [Content-Type=application/octet-stream]...\n",
      "Copying gs://transfer-amlproject/20200304_39_MP7624_S39_R2_001.fastq.gz [Content-Type=application/octet-stream]...\n",
      "Removing gs://transfer-amlproject/20200304_2_MP7624_S2_R2_001.fastq.gz...       \n",
      "Removing gs://transfer-amlproject/20200304_29_MP7624_S29_R2_001.fastq.gz...\n",
      "Copying gs://transfer-amlproject/20200304_3_MP7624_S3_R1_001.fastq.gz [Content-Type=application/octet-stream]...\n",
      "Copying gs://transfer-amlproject/20200304_3_MP7624_S3_R2_001.fastq.gz [Content-Type=application/octet-stream]...\n",
      "Copying gs://transfer-amlproject/20200304_40_MP7624_S40_R1_001.fastq.gz [Content-Type=application/octet-stream]...\n",
      "Copying gs://transfer-amlproject/20200304_40_MP7624_S40_R2_001.fastq.gz [Content-Type=application/octet-stream]...\n",
      "Removing gs://transfer-amlproject/20200304_15_MP7624_S15_R2_001.fastq.gz...     \n",
      "Copying gs://transfer-amlproject/20200304_41_MP7624_S41_R1_001.fastq.gz [Content-Type=application/octet-stream]...\n",
      "Copying gs://transfer-amlproject/20200304_41_MP7624_S41_R2_001.fastq.gz [Content-Type=application/octet-stream]...\n",
      "Copying gs://transfer-amlproject/20200304_42_MP7624_S42_R1_001.fastq.gz [Content-Type=application/octet-stream]...\n",
      "Removing gs://transfer-amlproject/20200304_2_MP7624_S2_R1_001.fastq.gz...       \n",
      "Copying gs://transfer-amlproject/20200304_42_MP7624_S42_R2_001.fastq.gz [Content-Type=application/octet-stream]...\n",
      "Removing gs://transfer-amlproject/20200304_30_MP7624_S30_R1_001.fastq.gz...\n",
      "Removing gs://transfer-amlproject/20200304_31_MP7624_S31_R2_001.fastq.gz...     \n",
      "Copying gs://transfer-amlproject/20200304_43_MP7624_S43_R1_001.fastq.gz [Content-Type=application/octet-stream]...\n",
      "Copying gs://transfer-amlproject/20200304_43_MP7624_S43_R2_001.fastq.gz [Content-Type=application/octet-stream]...\n",
      "Removing gs://transfer-amlproject/20200304_34_MP7624_S34_R1_001.fastq.gz...\n",
      "Removing gs://transfer-amlproject/20200304_32_MP7624_S32_R2_001.fastq.gz...     \n",
      "Removing gs://transfer-amlproject/20200304_37_MP7624_S37_R1_001.fastq.gz...\n",
      "Removing gs://transfer-amlproject/20200304_32_MP7624_S32_R1_001.fastq.gz...\n",
      "Removing gs://transfer-amlproject/20200304_33_MP7624_S33_R2_001.fastq.gz...     \n",
      "Removing gs://transfer-amlproject/20200304_35_MP7624_S35_R2_001.fastq.gz...     \n",
      "Copying gs://transfer-amlproject/20200304_44_MP7624_S44_R1_001.fastq.gz [Content-Type=application/octet-stream]...\n",
      "Copying gs://transfer-amlproject/20200304_44_MP7624_S44_R2_001.fastq.gz [Content-Type=application/octet-stream]...\n",
      "Copying gs://transfer-amlproject/20200304_45_MP7624_S45_R1_001.fastq.gz [Content-Type=application/octet-stream]...\n",
      "Copying gs://transfer-amlproject/20200304_45_MP7624_S45_R2_001.fastq.gz [Content-Type=application/octet-stream]...\n",
      "Removing gs://transfer-amlproject/20200304_36_MP7624_S36_R1_001.fastq.gz...     \n",
      "Copying gs://transfer-amlproject/20200304_46_MP7624_S46_R1_001.fastq.gz [Content-Type=application/octet-stream]...\n",
      "Removing gs://transfer-amlproject/20200304_35_MP7624_S35_R1_001.fastq.gz...     \n",
      "Copying gs://transfer-amlproject/20200304_46_MP7624_S46_R2_001.fastq.gz [Content-Type=application/octet-stream]...\n",
      "Copying gs://transfer-amlproject/20200304_47_MP7624_S47_R1_001.fastq.gz [Content-Type=application/octet-stream]...\n",
      "Removing gs://transfer-amlproject/20200304_30_MP7624_S30_R2_001.fastq.gz...     \n",
      "Removing gs://transfer-amlproject/20200304_38_MP7624_S38_R2_001.fastq.gz...\n",
      "Copying gs://transfer-amlproject/20200304_47_MP7624_S47_R2_001.fastq.gz [Content-Type=application/octet-stream]...\n",
      "Copying gs://transfer-amlproject/20200304_48_MP7624_S48_R1_001.fastq.gz [Content-Type=application/octet-stream]...\n",
      "Removing gs://transfer-amlproject/20200304_39_MP7624_S39_R1_001.fastq.gz...     \n",
      "Removing gs://transfer-amlproject/20200304_34_MP7624_S34_R2_001.fastq.gz...     \n",
      "Removing gs://transfer-amlproject/20200304_37_MP7624_S37_R2_001.fastq.gz...     \n",
      "Removing gs://transfer-amlproject/20200304_13_MP7624_S13_R1_001.fastq.gz...     \n",
      "Copying gs://transfer-amlproject/20200304_48_MP7624_S48_R2_001.fastq.gz [Content-Type=application/octet-stream]...\n",
      "Removing gs://transfer-amlproject/20200304_43_MP7624_S43_R2_001.fastq.gz...     \n",
      "Removing gs://transfer-amlproject/20200304_3_MP7624_S3_R2_001.fastq.gz...\n",
      "Removing gs://transfer-amlproject/20200304_40_MP7624_S40_R1_001.fastq.gz...\n",
      "Removing gs://transfer-amlproject/20200304_38_MP7624_S38_R1_001.fastq.gz...\n",
      "Copying gs://transfer-amlproject/20200304_49_MP7624_S49_R1_001.fastq.gz [Content-Type=application/octet-stream]...\n",
      "Copying gs://transfer-amlproject/20200304_49_MP7624_S49_R2_001.fastq.gz [Content-Type=application/octet-stream]...\n",
      "Copying gs://transfer-amlproject/20200304_4_MP7624_S4_R1_001.fastq.gz [Content-Type=application/octet-stream]...\n",
      "Removing gs://transfer-amlproject/20200304_43_MP7624_S43_R1_001.fastq.gz...     \n",
      "Copying gs://transfer-amlproject/20200304_4_MP7624_S4_R2_001.fastq.gz [Content-Type=application/octet-stream]...\n",
      "Copying gs://transfer-amlproject/20200304_50_MP7624_S50_R1_001.fastq.gz [Content-Type=application/octet-stream]...\n",
      "Removing gs://transfer-amlproject/20200304_42_MP7624_S42_R2_001.fastq.gz...     \n",
      "Copying gs://transfer-amlproject/20200304_50_MP7624_S50_R2_001.fastq.gz [Content-Type=application/octet-stream]...\n",
      "Removing gs://transfer-amlproject/20200304_42_MP7624_S42_R1_001.fastq.gz...     \n",
      "Removing gs://transfer-amlproject/20200304_41_MP7624_S41_R1_001.fastq.gz...     \n",
      "Removing gs://transfer-amlproject/20200304_3_MP7624_S3_R1_001.fastq.gz...       \n",
      "Removing gs://transfer-amlproject/20200304_39_MP7624_S39_R2_001.fastq.gz...     \n",
      "Copying gs://transfer-amlproject/20200304_51_MP7624_S51_R1_001.fastq.gz [Content-Type=application/octet-stream]...\n",
      "Copying gs://transfer-amlproject/20200304_51_MP7624_S51_R2_001.fastq.gz [Content-Type=application/octet-stream]...\n",
      "Removing gs://transfer-amlproject/20200304_40_MP7624_S40_R2_001.fastq.gz...\n",
      "Removing gs://transfer-amlproject/20200304_33_MP7624_S33_R1_001.fastq.gz...     \n",
      "Copying gs://transfer-amlproject/20200304_52_MP7624_S52_R1_001.fastq.gz [Content-Type=application/octet-stream]...\n",
      "Removing gs://transfer-amlproject/20200304_44_MP7624_S44_R2_001.fastq.gz...     \n",
      "Removing gs://transfer-amlproject/20200304_31_MP7624_S31_R1_001.fastq.gz...\n",
      "Removing gs://transfer-amlproject/20200304_45_MP7624_S45_R2_001.fastq.gz...     \n",
      "Copying gs://transfer-amlproject/20200304_52_MP7624_S52_R2_001.fastq.gz [Content-Type=application/octet-stream]...\n",
      "Removing gs://transfer-amlproject/20200304_46_MP7624_S46_R2_001.fastq.gz...\n",
      "Removing gs://transfer-amlproject/20200304_46_MP7624_S46_R1_001.fastq.gz...\n",
      "Copying gs://transfer-amlproject/20200304_53_MP7624_S53_R1_001.fastq.gz [Content-Type=application/octet-stream]...\n",
      "Copying gs://transfer-amlproject/20200304_53_MP7624_S53_R2_001.fastq.gz [Content-Type=application/octet-stream]...\n",
      "Copying gs://transfer-amlproject/20200304_54_MP7624_S54_R1_001.fastq.gz [Content-Type=application/octet-stream]...\n",
      "Copying gs://transfer-amlproject/20200304_54_MP7624_S54_R2_001.fastq.gz [Content-Type=application/octet-stream]...\n",
      "Copying gs://transfer-amlproject/20200304_55_MP7624_S55_R1_001.fastq.gz [Content-Type=application/octet-stream]...\n",
      "Removing gs://transfer-amlproject/20200304_47_MP7624_S47_R1_001.fastq.gz...     \n",
      "Copying gs://transfer-amlproject/20200304_55_MP7624_S55_R2_001.fastq.gz [Content-Type=application/octet-stream]...\n",
      "Removing gs://transfer-amlproject/20200304_48_MP7624_S48_R1_001.fastq.gz...\n",
      "Copying gs://transfer-amlproject/20200304_56_MP7624_S56_R1_001.fastq.gz [Content-Type=application/octet-stream]...\n",
      "Copying gs://transfer-amlproject/20200304_56_MP7624_S56_R2_001.fastq.gz [Content-Type=application/octet-stream]...\n"
     ]
    },
    {
     "name": "stdout",
     "output_type": "stream",
     "text": [
      "Removing gs://transfer-amlproject/20200304_47_MP7624_S47_R2_001.fastq.gz...     \n",
      "Removing gs://transfer-amlproject/20200304_50_MP7624_S50_R2_001.fastq.gz...     \n",
      "Copying gs://transfer-amlproject/20200304_57_MP7624_S57_R1_001.fastq.gz [Content-Type=application/octet-stream]...\n",
      "Removing gs://transfer-amlproject/20200304_50_MP7624_S50_R1_001.fastq.gz...     \n",
      "Copying gs://transfer-amlproject/20200304_57_MP7624_S57_R2_001.fastq.gz [Content-Type=application/octet-stream]...\n",
      "Copying gs://transfer-amlproject/20200304_58_MP7624_S58_R1_001.fastq.gz [Content-Type=application/octet-stream]...\n",
      "Copying gs://transfer-amlproject/20200304_58_MP7624_S58_R2_001.fastq.gz [Content-Type=application/octet-stream]...\n",
      "Removing gs://transfer-amlproject/20200304_45_MP7624_S45_R1_001.fastq.gz...\n",
      "Removing gs://transfer-amlproject/20200304_44_MP7624_S44_R1_001.fastq.gz...     \n",
      "Copying gs://transfer-amlproject/20200304_59_MP7624_S59_R1_001.fastq.gz [Content-Type=application/octet-stream]...\n",
      "Copying gs://transfer-amlproject/20200304_59_MP7624_S59_R2_001.fastq.gz [Content-Type=application/octet-stream]...\n",
      "Copying gs://transfer-amlproject/20200304_5_MP7624_S5_R1_001.fastq.gz [Content-Type=application/octet-stream]...\n",
      "Removing gs://transfer-amlproject/20200304_4_MP7624_S4_R1_001.fastq.gz...       \n",
      "Removing gs://transfer-amlproject/20200304_51_MP7624_S51_R2_001.fastq.gz...     \n",
      "Copying gs://transfer-amlproject/20200304_5_MP7624_S5_R2_001.fastq.gz [Content-Type=application/octet-stream]...\n",
      "Copying gs://transfer-amlproject/20200304_60_MP7624_S60_R1_001.fastq.gz [Content-Type=application/octet-stream]...\n",
      "Removing gs://transfer-amlproject/20200304_36_MP7624_S36_R2_001.fastq.gz...     \n",
      "Removing gs://transfer-amlproject/20200304_4_MP7624_S4_R2_001.fastq.gz...       \n",
      "Removing gs://transfer-amlproject/20200304_41_MP7624_S41_R2_001.fastq.gz...     \n",
      "Removing gs://transfer-amlproject/20200304_52_MP7624_S52_R1_001.fastq.gz...     \n",
      "Copying gs://transfer-amlproject/20200304_60_MP7624_S60_R2_001.fastq.gz [Content-Type=application/octet-stream]...\n",
      "Copying gs://transfer-amlproject/20200304_61_MP7624_S61_R1_001.fastq.gz [Content-Type=application/octet-stream]...\n",
      "Removing gs://transfer-amlproject/20200304_53_MP7624_S53_R2_001.fastq.gz...\n",
      "Removing gs://transfer-amlproject/20200304_52_MP7624_S52_R2_001.fastq.gz...     \n",
      "Copying gs://transfer-amlproject/20200304_61_MP7624_S61_R2_001.fastq.gz [Content-Type=application/octet-stream]...\n",
      "Copying gs://transfer-amlproject/20200304_62_MP7624_S62_R1_001.fastq.gz [Content-Type=application/octet-stream]...\n",
      "Copying gs://transfer-amlproject/20200304_62_MP7624_S62_R2_001.fastq.gz [Content-Type=application/octet-stream]...\n",
      "Removing gs://transfer-amlproject/20200304_53_MP7624_S53_R1_001.fastq.gz...     \n",
      "Removing gs://transfer-amlproject/20200304_48_MP7624_S48_R2_001.fastq.gz...     \n",
      "Copying gs://transfer-amlproject/20200304_63_MP7624_S63_R1_001.fastq.gz [Content-Type=application/octet-stream]...\n",
      "Removing gs://transfer-amlproject/20200304_56_MP7624_S56_R2_001.fastq.gz...\n",
      "Removing gs://transfer-amlproject/20200304_51_MP7624_S51_R1_001.fastq.gz...     \n",
      "Removing gs://transfer-amlproject/20200304_55_MP7624_S55_R1_001.fastq.gz...     \n",
      "Copying gs://transfer-amlproject/20200304_63_MP7624_S63_R2_001.fastq.gz [Content-Type=application/octet-stream]...\n",
      "Removing gs://transfer-amlproject/20200304_57_MP7624_S57_R1_001.fastq.gz...     \n",
      "Copying gs://transfer-amlproject/20200304_64_MP7624_S64_R1_001.fastq.gz [Content-Type=application/octet-stream]...\n",
      "Copying gs://transfer-amlproject/20200304_64_MP7624_S64_R2_001.fastq.gz [Content-Type=application/octet-stream]...\n",
      "Removing gs://transfer-amlproject/20200304_58_MP7624_S58_R1_001.fastq.gz...     \n",
      "Removing gs://transfer-amlproject/20200304_54_MP7624_S54_R1_001.fastq.gz...     \n",
      "Removing gs://transfer-amlproject/20200304_55_MP7624_S55_R2_001.fastq.gz...     \n",
      "Copying gs://transfer-amlproject/20200304_65_MP7624_S65_R1_001.fastq.gz [Content-Type=application/octet-stream]...\n",
      "Removing gs://transfer-amlproject/20200304_59_MP7624_S59_R1_001.fastq.gz...     \n",
      "Copying gs://transfer-amlproject/20200304_65_MP7624_S65_R2_001.fastq.gz [Content-Type=application/octet-stream]...\n",
      "Copying gs://transfer-amlproject/20200304_66_MP7624_S66_R1_001.fastq.gz [Content-Type=application/octet-stream]...\n",
      "Removing gs://transfer-amlproject/20200304_54_MP7624_S54_R2_001.fastq.gz...     \n",
      "Removing gs://transfer-amlproject/20200304_60_MP7624_S60_R1_001.fastq.gz...\n",
      "Removing gs://transfer-amlproject/20200304_56_MP7624_S56_R1_001.fastq.gz...     \n",
      "Removing gs://transfer-amlproject/20200304_57_MP7624_S57_R2_001.fastq.gz...     \n",
      "Copying gs://transfer-amlproject/20200304_66_MP7624_S66_R2_001.fastq.gz [Content-Type=application/octet-stream]...\n",
      "Copying gs://transfer-amlproject/20200304_67_MP7624_S67_R1_001.fastq.gz [Content-Type=application/octet-stream]...\n",
      "Copying gs://transfer-amlproject/20200304_67_MP7624_S67_R2_001.fastq.gz [Content-Type=application/octet-stream]...\n",
      "Removing gs://transfer-amlproject/20200304_59_MP7624_S59_R2_001.fastq.gz...\n",
      "Copying gs://transfer-amlproject/20200304_68_MP7624_S68_R1_001.fastq.gz [Content-Type=application/octet-stream]...\n",
      "Copying gs://transfer-amlproject/20200304_68_MP7624_S68_R2_001.fastq.gz [Content-Type=application/octet-stream]...\n",
      "Copying gs://transfer-amlproject/20200304_69_MP7624_S69_R1_001.fastq.gz [Content-Type=application/octet-stream]...\n",
      "Copying gs://transfer-amlproject/20200304_69_MP7624_S69_R2_001.fastq.gz [Content-Type=application/octet-stream]...\n",
      "Copying gs://transfer-amlproject/20200304_6_MP7624_S6_R1_001.fastq.gz [Content-Type=application/octet-stream]...\n",
      "Removing gs://transfer-amlproject/20200304_63_MP7624_S63_R1_001.fastq.gz...     \n",
      "Copying gs://transfer-amlproject/20200304_6_MP7624_S6_R2_001.fastq.gz [Content-Type=application/octet-stream]...\n",
      "Copying gs://transfer-amlproject/20200304_70_MP7624_S70_R1_001.fastq.gz [Content-Type=application/octet-stream]...\n",
      "Removing gs://transfer-amlproject/20200304_49_MP7624_S49_R2_001.fastq.gz...     \n",
      "Removing gs://transfer-amlproject/20200304_5_MP7624_S5_R1_001.fastq.gz...       \n",
      "Copying gs://transfer-amlproject/20200304_70_MP7624_S70_R2_001.fastq.gz [Content-Type=application/octet-stream]...\n",
      "Removing gs://transfer-amlproject/20200304_63_MP7624_S63_R2_001.fastq.gz...     \n",
      "Removing gs://transfer-amlproject/20200304_60_MP7624_S60_R2_001.fastq.gz...     \n",
      "Removing gs://transfer-amlproject/20200304_58_MP7624_S58_R2_001.fastq.gz...     \n",
      "Copying gs://transfer-amlproject/20200304_71_MP7624_S71_R1_001.fastq.gz [Content-Type=application/octet-stream]...\n",
      "Removing gs://transfer-amlproject/20200304_61_MP7624_S61_R1_001.fastq.gz...     \n",
      "Removing gs://transfer-amlproject/20200304_49_MP7624_S49_R1_001.fastq.gz...     \n",
      "Copying gs://transfer-amlproject/20200304_71_MP7624_S71_R2_001.fastq.gz [Content-Type=application/octet-stream]...\n",
      "Copying gs://transfer-amlproject/20200304_72_MP7624_S72_R1_001.fastq.gz [Content-Type=application/octet-stream]...\n",
      "Removing gs://transfer-amlproject/20200304_62_MP7624_S62_R1_001.fastq.gz...\n",
      "Removing gs://transfer-amlproject/20200304_62_MP7624_S62_R2_001.fastq.gz...     \n",
      "Copying gs://transfer-amlproject/20200304_72_MP7624_S72_R2_001.fastq.gz [Content-Type=application/octet-stream]...\n",
      "Copying gs://transfer-amlproject/20200304_73_MP7624_S73_R1_001.fastq.gz [Content-Type=application/octet-stream]...\n",
      "Removing gs://transfer-amlproject/20200304_61_MP7624_S61_R2_001.fastq.gz...     \n",
      "Copying gs://transfer-amlproject/20200304_73_MP7624_S73_R2_001.fastq.gz [Content-Type=application/octet-stream]...\n",
      "Copying gs://transfer-amlproject/20200304_7_MP7624_S7_R1_001.fastq.gz [Content-Type=application/octet-stream]...\n",
      "Copying gs://transfer-amlproject/20200304_7_MP7624_S7_R2_001.fastq.gz [Content-Type=application/octet-stream]...\n",
      "Removing gs://transfer-amlproject/20200304_67_MP7624_S67_R1_001.fastq.gz...     \n",
      "Copying gs://transfer-amlproject/20200304_8_MP7624_S8_R1_001.fastq.gz [Content-Type=application/octet-stream]...\n",
      "Removing gs://transfer-amlproject/20200304_65_MP7624_S65_R1_001.fastq.gz...     \n",
      "Copying gs://transfer-amlproject/20200304_8_MP7624_S8_R2_001.fastq.gz [Content-Type=application/octet-stream]...\n",
      "Copying gs://transfer-amlproject/20200304_9_MP7624_S9_R1_001.fastq.gz [Content-Type=application/octet-stream]...\n"
     ]
    },
    {
     "name": "stdout",
     "output_type": "stream",
     "text": [
      "Copying gs://transfer-amlproject/20200304_9_MP7624_S9_R2_001.fastq.gz [Content-Type=application/octet-stream]...\n",
      "Removing gs://transfer-amlproject/20200304_64_MP7624_S64_R1_001.fastq.gz...     \n",
      "Removing gs://transfer-amlproject/20200304_68_MP7624_S68_R1_001.fastq.gz...     \n",
      "Removing gs://transfer-amlproject/20200304_69_MP7624_S69_R2_001.fastq.gz...     \n",
      "Removing gs://transfer-amlproject/20200304_69_MP7624_S69_R1_001.fastq.gz...\n",
      "Removing gs://transfer-amlproject/20200304_65_MP7624_S65_R2_001.fastq.gz...\n",
      "Removing gs://transfer-amlproject/20200304_5_MP7624_S5_R2_001.fastq.gz...       \n",
      "Removing gs://transfer-amlproject/20200304_71_MP7624_S71_R1_001.fastq.gz...     \n",
      "Removing gs://transfer-amlproject/20200304_67_MP7624_S67_R2_001.fastq.gz...\n",
      "Removing gs://transfer-amlproject/20200304_64_MP7624_S64_R2_001.fastq.gz...     \n",
      "Removing gs://transfer-amlproject/20200304_71_MP7624_S71_R2_001.fastq.gz...     \n",
      "Removing gs://transfer-amlproject/20200304_6_MP7624_S6_R2_001.fastq.gz...\n",
      "Removing gs://transfer-amlproject/20200304_70_MP7624_S70_R2_001.fastq.gz...\n",
      "Removing gs://transfer-amlproject/20200304_6_MP7624_S6_R1_001.fastq.gz...       \n",
      "Removing gs://transfer-amlproject/20200304_66_MP7624_S66_R2_001.fastq.gz...     \n",
      "Removing gs://transfer-amlproject/20200304_7_MP7624_S7_R2_001.fastq.gz...       \n",
      "Removing gs://transfer-amlproject/20200304_7_MP7624_S7_R1_001.fastq.gz...       \n",
      "Removing gs://transfer-amlproject/20200304_73_MP7624_S73_R2_001.fastq.gz...     \n",
      "Removing gs://transfer-amlproject/20200304_8_MP7624_S8_R2_001.fastq.gz...\n",
      "Removing gs://transfer-amlproject/20200304_9_MP7624_S9_R1_001.fastq.gz...       \n",
      "Removing gs://transfer-amlproject/20200304_8_MP7624_S8_R1_001.fastq.gz...\n",
      "Removing gs://transfer-amlproject/20200304_72_MP7624_S72_R2_001.fastq.gz...\n",
      "Removing gs://transfer-amlproject/20200304_73_MP7624_S73_R1_001.fastq.gz...     \n",
      "Removing gs://transfer-amlproject/20200304_9_MP7624_S9_R2_001.fastq.gz...       \n",
      "Removing gs://transfer-amlproject/20200304_66_MP7624_S66_R1_001.fastq.gz...     \n",
      "Removing gs://transfer-amlproject/20200304_72_MP7624_S72_R1_001.fastq.gz...\n",
      "Removing gs://transfer-amlproject/20200304_68_MP7624_S68_R2_001.fastq.gz...     \n",
      "Removing gs://transfer-amlproject/20200304_70_MP7624_S70_R1_001.fastq.gz...     \n",
      "/ [146/146 files][240.4 GiB/240.4 GiB] 100% Done                                \n",
      "Operation completed over 146 objects/240.4 GiB.                                  \n"
     ]
    }
   ],
   "source": [
    "! gsutil -m mv gs://transfer-amlproject/*.fastq.gz gs://transfer-amlproject/RNPv3/"
   ]
  },
  {
   "cell_type": "code",
   "execution_count": 42,
   "metadata": {},
   "outputs": [],
   "source": [
    "sampleset='MAX_AML_RNP'"
   ]
  },
  {
   "cell_type": "code",
   "execution_count": 16,
   "metadata": {},
   "outputs": [
    {
     "name": "stdout",
     "output_type": "stream",
     "text": [
      "please be sure you gave access to your terra email account access to this bucket\n",
      "['RNPv3/20200304_10_MP7624_S10_R1_001.fastq.gz', 'RNPv3/20200304_10_MP7624_S10_R2_001.fastq.gz', 'RNPv3/20200304_11_MP7624_S11_R1_001.fastq.gz', 'RNPv3/20200304_11_MP7624_S11_R2_001.fastq.gz', 'RNPv3/20200304_12_MP7624_S12_R1_001.fastq.gz', 'RNPv3/20200304_12_MP7624_S12_R2_001.fastq.gz', 'RNPv3/20200304_13_MP7624_S13_R1_001.fastq.gz', 'RNPv3/20200304_13_MP7624_S13_R2_001.fastq.gz', 'RNPv3/20200304_14_MP7624_S14_R1_001.fastq.gz', 'RNPv3/20200304_14_MP7624_S14_R2_001.fastq.gz', 'RNPv3/20200304_15_MP7624_S15_R1_001.fastq.gz', 'RNPv3/20200304_15_MP7624_S15_R2_001.fastq.gz', 'RNPv3/20200304_16_MP7624_S16_R1_001.fastq.gz', 'RNPv3/20200304_16_MP7624_S16_R2_001.fastq.gz', 'RNPv3/20200304_17_MP7624_S17_R1_001.fastq.gz', 'RNPv3/20200304_17_MP7624_S17_R2_001.fastq.gz', 'RNPv3/20200304_18_MP7624_S18_R1_001.fastq.gz', 'RNPv3/20200304_18_MP7624_S18_R2_001.fastq.gz', 'RNPv3/20200304_19_MP7624_S19_R1_001.fastq.gz', 'RNPv3/20200304_19_MP7624_S19_R2_001.fastq.gz', 'RNPv3/20200304_1_MP7624_S1_R1_001.fastq.gz', 'RNPv3/20200304_1_MP7624_S1_R2_001.fastq.gz', 'RNPv3/20200304_20_MP7624_S20_R1_001.fastq.gz', 'RNPv3/20200304_20_MP7624_S20_R2_001.fastq.gz', 'RNPv3/20200304_21_MP7624_S21_R1_001.fastq.gz', 'RNPv3/20200304_21_MP7624_S21_R2_001.fastq.gz', 'RNPv3/20200304_22_MP7624_S22_R1_001.fastq.gz', 'RNPv3/20200304_22_MP7624_S22_R2_001.fastq.gz', 'RNPv3/20200304_23_MP7624_S23_R1_001.fastq.gz', 'RNPv3/20200304_23_MP7624_S23_R2_001.fastq.gz', 'RNPv3/20200304_24_MP7624_S24_R1_001.fastq.gz', 'RNPv3/20200304_24_MP7624_S24_R2_001.fastq.gz', 'RNPv3/20200304_25_MP7624_S25_R1_001.fastq.gz', 'RNPv3/20200304_25_MP7624_S25_R2_001.fastq.gz', 'RNPv3/20200304_26_MP7624_S26_R1_001.fastq.gz', 'RNPv3/20200304_26_MP7624_S26_R2_001.fastq.gz', 'RNPv3/20200304_27_MP7624_S27_R1_001.fastq.gz', 'RNPv3/20200304_27_MP7624_S27_R2_001.fastq.gz', 'RNPv3/20200304_28_MP7624_S28_R1_001.fastq.gz', 'RNPv3/20200304_28_MP7624_S28_R2_001.fastq.gz', 'RNPv3/20200304_29_MP7624_S29_R1_001.fastq.gz', 'RNPv3/20200304_29_MP7624_S29_R2_001.fastq.gz', 'RNPv3/20200304_2_MP7624_S2_R1_001.fastq.gz', 'RNPv3/20200304_2_MP7624_S2_R2_001.fastq.gz', 'RNPv3/20200304_30_MP7624_S30_R1_001.fastq.gz', 'RNPv3/20200304_30_MP7624_S30_R2_001.fastq.gz', 'RNPv3/20200304_31_MP7624_S31_R1_001.fastq.gz', 'RNPv3/20200304_31_MP7624_S31_R2_001.fastq.gz', 'RNPv3/20200304_32_MP7624_S32_R1_001.fastq.gz', 'RNPv3/20200304_32_MP7624_S32_R2_001.fastq.gz', 'RNPv3/20200304_33_MP7624_S33_R1_001.fastq.gz', 'RNPv3/20200304_33_MP7624_S33_R2_001.fastq.gz', 'RNPv3/20200304_34_MP7624_S34_R1_001.fastq.gz', 'RNPv3/20200304_34_MP7624_S34_R2_001.fastq.gz', 'RNPv3/20200304_35_MP7624_S35_R1_001.fastq.gz', 'RNPv3/20200304_35_MP7624_S35_R2_001.fastq.gz', 'RNPv3/20200304_36_MP7624_S36_R1_001.fastq.gz', 'RNPv3/20200304_36_MP7624_S36_R2_001.fastq.gz', 'RNPv3/20200304_37_MP7624_S37_R1_001.fastq.gz', 'RNPv3/20200304_37_MP7624_S37_R2_001.fastq.gz', 'RNPv3/20200304_38_MP7624_S38_R1_001.fastq.gz', 'RNPv3/20200304_38_MP7624_S38_R2_001.fastq.gz', 'RNPv3/20200304_39_MP7624_S39_R1_001.fastq.gz', 'RNPv3/20200304_39_MP7624_S39_R2_001.fastq.gz', 'RNPv3/20200304_3_MP7624_S3_R1_001.fastq.gz', 'RNPv3/20200304_3_MP7624_S3_R2_001.fastq.gz', 'RNPv3/20200304_40_MP7624_S40_R1_001.fastq.gz', 'RNPv3/20200304_40_MP7624_S40_R2_001.fastq.gz', 'RNPv3/20200304_41_MP7624_S41_R1_001.fastq.gz', 'RNPv3/20200304_41_MP7624_S41_R2_001.fastq.gz', 'RNPv3/20200304_42_MP7624_S42_R1_001.fastq.gz', 'RNPv3/20200304_42_MP7624_S42_R2_001.fastq.gz', 'RNPv3/20200304_43_MP7624_S43_R1_001.fastq.gz', 'RNPv3/20200304_43_MP7624_S43_R2_001.fastq.gz', 'RNPv3/20200304_44_MP7624_S44_R1_001.fastq.gz', 'RNPv3/20200304_44_MP7624_S44_R2_001.fastq.gz', 'RNPv3/20200304_45_MP7624_S45_R1_001.fastq.gz', 'RNPv3/20200304_45_MP7624_S45_R2_001.fastq.gz', 'RNPv3/20200304_46_MP7624_S46_R1_001.fastq.gz', 'RNPv3/20200304_46_MP7624_S46_R2_001.fastq.gz', 'RNPv3/20200304_47_MP7624_S47_R1_001.fastq.gz', 'RNPv3/20200304_47_MP7624_S47_R2_001.fastq.gz', 'RNPv3/20200304_48_MP7624_S48_R1_001.fastq.gz', 'RNPv3/20200304_48_MP7624_S48_R2_001.fastq.gz', 'RNPv3/20200304_49_MP7624_S49_R1_001.fastq.gz', 'RNPv3/20200304_49_MP7624_S49_R2_001.fastq.gz', 'RNPv3/20200304_4_MP7624_S4_R1_001.fastq.gz', 'RNPv3/20200304_4_MP7624_S4_R2_001.fastq.gz', 'RNPv3/20200304_50_MP7624_S50_R1_001.fastq.gz', 'RNPv3/20200304_50_MP7624_S50_R2_001.fastq.gz', 'RNPv3/20200304_51_MP7624_S51_R1_001.fastq.gz', 'RNPv3/20200304_51_MP7624_S51_R2_001.fastq.gz', 'RNPv3/20200304_52_MP7624_S52_R1_001.fastq.gz', 'RNPv3/20200304_52_MP7624_S52_R2_001.fastq.gz', 'RNPv3/20200304_53_MP7624_S53_R1_001.fastq.gz', 'RNPv3/20200304_53_MP7624_S53_R2_001.fastq.gz', 'RNPv3/20200304_54_MP7624_S54_R1_001.fastq.gz', 'RNPv3/20200304_54_MP7624_S54_R2_001.fastq.gz', 'RNPv3/20200304_55_MP7624_S55_R1_001.fastq.gz', 'RNPv3/20200304_55_MP7624_S55_R2_001.fastq.gz', 'RNPv3/20200304_56_MP7624_S56_R1_001.fastq.gz', 'RNPv3/20200304_56_MP7624_S56_R2_001.fastq.gz', 'RNPv3/20200304_57_MP7624_S57_R1_001.fastq.gz', 'RNPv3/20200304_57_MP7624_S57_R2_001.fastq.gz', 'RNPv3/20200304_58_MP7624_S58_R1_001.fastq.gz', 'RNPv3/20200304_58_MP7624_S58_R2_001.fastq.gz', 'RNPv3/20200304_59_MP7624_S59_R1_001.fastq.gz', 'RNPv3/20200304_59_MP7624_S59_R2_001.fastq.gz', 'RNPv3/20200304_5_MP7624_S5_R1_001.fastq.gz', 'RNPv3/20200304_5_MP7624_S5_R2_001.fastq.gz', 'RNPv3/20200304_60_MP7624_S60_R1_001.fastq.gz', 'RNPv3/20200304_60_MP7624_S60_R2_001.fastq.gz', 'RNPv3/20200304_61_MP7624_S61_R1_001.fastq.gz', 'RNPv3/20200304_61_MP7624_S61_R2_001.fastq.gz', 'RNPv3/20200304_62_MP7624_S62_R1_001.fastq.gz', 'RNPv3/20200304_62_MP7624_S62_R2_001.fastq.gz', 'RNPv3/20200304_63_MP7624_S63_R1_001.fastq.gz', 'RNPv3/20200304_63_MP7624_S63_R2_001.fastq.gz', 'RNPv3/20200304_64_MP7624_S64_R1_001.fastq.gz', 'RNPv3/20200304_64_MP7624_S64_R2_001.fastq.gz', 'RNPv3/20200304_65_MP7624_S65_R1_001.fastq.gz', 'RNPv3/20200304_65_MP7624_S65_R2_001.fastq.gz', 'RNPv3/20200304_66_MP7624_S66_R1_001.fastq.gz', 'RNPv3/20200304_66_MP7624_S66_R2_001.fastq.gz', 'RNPv3/20200304_67_MP7624_S67_R1_001.fastq.gz', 'RNPv3/20200304_67_MP7624_S67_R2_001.fastq.gz', 'RNPv3/20200304_68_MP7624_S68_R1_001.fastq.gz', 'RNPv3/20200304_68_MP7624_S68_R2_001.fastq.gz', 'RNPv3/20200304_69_MP7624_S69_R1_001.fastq.gz', 'RNPv3/20200304_69_MP7624_S69_R2_001.fastq.gz', 'RNPv3/20200304_6_MP7624_S6_R1_001.fastq.gz', 'RNPv3/20200304_6_MP7624_S6_R2_001.fastq.gz', 'RNPv3/20200304_70_MP7624_S70_R1_001.fastq.gz', 'RNPv3/20200304_70_MP7624_S70_R2_001.fastq.gz', 'RNPv3/20200304_71_MP7624_S71_R1_001.fastq.gz', 'RNPv3/20200304_71_MP7624_S71_R2_001.fastq.gz', 'RNPv3/20200304_72_MP7624_S72_R1_001.fastq.gz', 'RNPv3/20200304_72_MP7624_S72_R2_001.fastq.gz', 'RNPv3/20200304_73_MP7624_S73_R1_001.fastq.gz', 'RNPv3/20200304_73_MP7624_S73_R2_001.fastq.gz', 'RNPv3/20200304_7_MP7624_S7_R1_001.fastq.gz', 'RNPv3/20200304_7_MP7624_S7_R2_001.fastq.gz', 'RNPv3/20200304_8_MP7624_S8_R1_001.fastq.gz', 'RNPv3/20200304_8_MP7624_S8_R2_001.fastq.gz', 'RNPv3/20200304_9_MP7624_S9_R1_001.fastq.gz', 'RNPv3/20200304_9_MP7624_S9_R2_001.fastq.gz']\n",
      "> /home/jeremie/JKBio/TerraFunction.py(228)uploadFromFolder()\n",
      "    227     ipdb.set_trace()\n",
      "--> 228     df = pd.DataFrame(data)\n",
      "    229     print(df)\n",
      "\n",
      "ipdb> n\n",
      "> /home/jeremie/JKBio/TerraFunction.py(229)uploadFromFolder()\n",
      "    228     df = pd.DataFrame(data)\n",
      "--> 229     print(df)\n",
      "    230     df[\"Source\"] = source\n",
      "\n",
      "ipdb> n\n",
      "   sample_id                                             fastq1  \\\n",
      "0         10  gs://transfer-amlproject/RNPv3/20200304_10_MP7...   \n",
      "1         11  gs://transfer-amlproject/RNPv3/20200304_11_MP7...   \n",
      "2         12  gs://transfer-amlproject/RNPv3/20200304_12_MP7...   \n",
      "3         13  gs://transfer-amlproject/RNPv3/20200304_13_MP7...   \n",
      "4         14  gs://transfer-amlproject/RNPv3/20200304_14_MP7...   \n",
      "..       ...                                                ...   \n",
      "68        72  gs://transfer-amlproject/RNPv3/20200304_72_MP7...   \n",
      "69        73  gs://transfer-amlproject/RNPv3/20200304_73_MP7...   \n",
      "70         7  gs://transfer-amlproject/RNPv3/20200304_7_MP76...   \n",
      "71         8  gs://transfer-amlproject/RNPv3/20200304_8_MP76...   \n",
      "72         9  gs://transfer-amlproject/RNPv3/20200304_9_MP76...   \n",
      "\n",
      "                                               fastq2  \n",
      "0   gs://transfer-amlproject/RNPv3/20200304_10_MP7...  \n",
      "1   gs://transfer-amlproject/RNPv3/20200304_11_MP7...  \n",
      "2   gs://transfer-amlproject/RNPv3/20200304_12_MP7...  \n",
      "3   gs://transfer-amlproject/RNPv3/20200304_13_MP7...  \n",
      "4   gs://transfer-amlproject/RNPv3/20200304_14_MP7...  \n",
      "..                                                ...  \n",
      "68  gs://transfer-amlproject/RNPv3/20200304_72_MP7...  \n",
      "69  gs://transfer-amlproject/RNPv3/20200304_73_MP7...  \n",
      "70  gs://transfer-amlproject/RNPv3/20200304_7_MP76...  \n",
      "71  gs://transfer-amlproject/RNPv3/20200304_8_MP76...  \n",
      "72  gs://transfer-amlproject/RNPv3/20200304_9_MP76...  \n",
      "\n"
     ]
    },
    {
     "name": "stdout",
     "output_type": "stream",
     "text": [
      "[73 rows x 3 columns]\n",
      "> /home/jeremie/JKBio/TerraFunction.py(230)uploadFromFolder()\n",
      "    229     print(df)\n",
      "--> 230     df[\"Source\"] = source\n",
      "    231     df[\"participant\"] = data['sample_id']\n",
      "\n",
      "ipdb> c\n",
      "Successfully imported 73 participants.\n",
      "Successfully imported 73 samples.\n",
      "Successfully imported 1 sample sets:\n",
      "  * RNPv3 (73 samples)\n"
     ]
    }
   ],
   "source": [
    "terra.uploadFromFolder('transfer-amlproject','RNPv3/',\n",
    "                       'broad-firecloud-ccle/hg38_RNAseq',samplesetname=sampleset,\n",
    "                      fformat=\"fastqR1R2\",loc=1)"
   ]
  },
  {
   "cell_type": "code",
   "execution_count": 6,
   "metadata": {
    "scrolled": false
   },
   "outputs": [],
   "source": [
    "wm = dm.WorkspaceManager('broad-firecloud-ccle/hg38_RNAseq')"
   ]
  },
  {
   "cell_type": "code",
   "execution_count": 18,
   "metadata": {
    "scrolled": true
   },
   "outputs": [
    {
     "name": "stdout",
     "output_type": "stream",
     "text": [
      "Successfully created submission 8043053e-0bd6-4a55-a23e-6d4fe9b0991b.\n"
     ]
    }
   ],
   "source": [
    "submission_id = wm.create_submission(\"star_v1-0_BETA_cfg\", sampleset, 'sample_set',expression='this.samples')"
   ]
  },
  {
   "cell_type": "code",
   "execution_count": 7,
   "metadata": {},
   "outputs": [
    {
     "name": "stdout",
     "output_type": "stream",
     "text": [
      "1.0 of jobs Succeeded in submission 0.sion 0. 224 mn elapsed..\n"
     ]
    },
    {
     "data": {
      "text/plain": [
       "[]"
      ]
     },
     "execution_count": 7,
     "metadata": {},
     "output_type": "execute_result"
    }
   ],
   "source": [
    "terra.waitForSubmission('broad-firecloud-ccle/hg38_RNAseq', submission_id)"
   ]
  },
  {
   "cell_type": "code",
   "execution_count": 8,
   "metadata": {},
   "outputs": [
    {
     "name": "stdout",
     "output_type": "stream",
     "text": [
      "Successfully created submission 4450c5aa-6f67-4068-91ce-55a156c58342.\n",
      "1.0 of jobs Succeeded in submission 0.sion 0. 560 mn elapsed..\n"
     ]
    },
    {
     "data": {
      "text/plain": [
       "[]"
      ]
     },
     "execution_count": 8,
     "metadata": {},
     "output_type": "execute_result"
    }
   ],
   "source": [
    "submission_id = wm.create_submission(\"rsem_v1-0_BETA_cfg\", \n",
    "                                      sampleset,'sample_set',expression='this.samples')\n",
    "terra.waitForSubmission('broad-firecloud-ccle/hg38_RNAseq', submission_id)"
   ]
  },
  {
   "cell_type": "code",
   "execution_count": 9,
   "metadata": {},
   "outputs": [
    {
     "ename": "NameError",
     "evalue": "name 'samplesetname' is not defined",
     "output_type": "error",
     "traceback": [
      "\u001b[0;31m-----------------------------------------------\u001b[0m",
      "\u001b[0;31mNameError\u001b[0m     Traceback (most recent call last)",
      "\u001b[0;32m<ipython-input-9-6a3a324288f8>\u001b[0m in \u001b[0;36m<module>\u001b[0;34m\u001b[0m\n\u001b[1;32m      1\u001b[0m submission_id = wm.create_submission(\"rsem_aggregate_results_v1-0_BETA_cfg\", \n\u001b[0;32m----> 2\u001b[0;31m                                          samplesetname)\n\u001b[0m\u001b[1;32m      3\u001b[0m \u001b[0mterra\u001b[0m\u001b[0;34m.\u001b[0m\u001b[0mwaitForSubmission\u001b[0m\u001b[0;34m(\u001b[0m\u001b[0;34m'broad-firecloud-ccle/hg38_RNAseq'\u001b[0m\u001b[0;34m,\u001b[0m \u001b[0msubmission_id\u001b[0m\u001b[0;34m)\u001b[0m\u001b[0;34m\u001b[0m\u001b[0;34m\u001b[0m\u001b[0m\n",
      "\u001b[0;31mNameError\u001b[0m: name 'samplesetname' is not defined"
     ]
    }
   ],
   "source": [
    "submission_id = wm.create_submission(\"rsem_aggregate_results_v1-0_BETA_cfg\", \n",
    "                                         samplesetname)\n",
    "terra.waitForSubmission('broad-firecloud-ccle/hg38_RNAseq', submission_id)"
   ]
  },
  {
   "cell_type": "code",
   "execution_count": 43,
   "metadata": {},
   "outputs": [],
   "source": [
    "results = wm.get_sample_sets().loc[sampleset]\n",
    "rsem_genes_expected_count = results['rsem_genes_expected_count']"
   ]
  },
  {
   "cell_type": "code",
   "execution_count": 44,
   "metadata": {},
   "outputs": [
    {
     "data": {
      "text/plain": [
       "samples                            [BRD4-r1, BRD4-r2, BRD4-r3, CDK6-r1, CDK6-r2, ...\n",
       "rsem_transcripts_isopct            gs://fc-secure-163bcce1-14a1-4cc2-b8f8-ec8bcba...\n",
       "rsem_transcripts_tpm               gs://fc-secure-163bcce1-14a1-4cc2-b8f8-ec8bcba...\n",
       "rsem_transcripts_expected_count    gs://fc-secure-163bcce1-14a1-4cc2-b8f8-ec8bcba...\n",
       "rsem_genes_tpm                     gs://fc-secure-163bcce1-14a1-4cc2-b8f8-ec8bcba...\n",
       "rsem_genes_expected_count          gs://fc-secure-163bcce1-14a1-4cc2-b8f8-ec8bcba...\n",
       "Name: MAX_AML_RNP, dtype: object"
      ]
     },
     "execution_count": 44,
     "metadata": {},
     "output_type": "execute_result"
    }
   ],
   "source": [
    "results"
   ]
  },
  {
   "cell_type": "code",
   "execution_count": 45,
   "metadata": {},
   "outputs": [
    {
     "name": "stdout",
     "output_type": "stream",
     "text": [
      "Copying gs://fc-secure-163bcce1-14a1-4cc2-b8f8-ec8bcbabe2da/7fcfa027-1093-456b-9811-c19905978cff/rsem_aggregate_results_workflow/18cf5a35-3707-482f-bb5a-bd295fdf30aa/call-rsem_aggregate_results/MAX_AML_2.rsem_genes_expected_count.txt.gz...\n",
      "/ [1 files][  3.9 MiB/  3.9 MiB]                                                \n",
      "Operation completed over 1 objects/3.9 MiB.                                      \n"
     ]
    }
   ],
   "source": [
    "! gsutil cp $rsem_genes_expected_count ../data/"
   ]
  },
  {
   "cell_type": "code",
   "execution_count": 46,
   "metadata": {},
   "outputs": [],
   "source": [
    "file = '../data/'+rsem_genes_expected_count.split('/')[-1]"
   ]
  },
  {
   "cell_type": "code",
   "execution_count": 47,
   "metadata": {},
   "outputs": [
    {
     "data": {
      "text/plain": [
       "'../data/MAX_AML_2.rsem_genes_expected_count.txt.gz'"
      ]
     },
     "execution_count": 47,
     "metadata": {},
     "output_type": "execute_result"
    }
   ],
   "source": [
    "file"
   ]
  },
  {
   "cell_type": "code",
   "execution_count": 48,
   "metadata": {},
   "outputs": [],
   "source": [
    "! gunzip $file"
   ]
  },
  {
   "cell_type": "code",
   "execution_count": 49,
   "metadata": {},
   "outputs": [],
   "source": [
    "rsem_genes_expected_count = pd.read_csv(file[:-3], sep='\\t')"
   ]
  },
  {
   "cell_type": "code",
   "execution_count": 82,
   "metadata": {},
   "outputs": [],
   "source": [
    "data = rsem_genes_expected_count.drop(\"transcript_id(s)\",1)"
   ]
  },
  {
   "cell_type": "code",
   "execution_count": 83,
   "metadata": {},
   "outputs": [
    {
     "name": "stdout",
     "output_type": "stream",
     "text": [
      "you need access to taiga for this (https://pypi.org/project/taigapy/)\n",
      "20702 could not be parsed... we don't have all genes already\n"
     ]
    }
   ],
   "source": [
    "data[\"gene_id\"] = h.convertGenes(data['gene_id'])[0]"
   ]
  },
  {
   "cell_type": "code",
   "execution_count": 84,
   "metadata": {},
   "outputs": [],
   "source": [
    "data=data.set_index('gene_id')"
   ]
  },
  {
   "cell_type": "code",
   "execution_count": 85,
   "metadata": {},
   "outputs": [
    {
     "data": {
      "text/plain": [
       "{'BRD4',\n",
       " 'CDK6',\n",
       " 'CEBPa',\n",
       " 'ELF2',\n",
       " 'FLI1',\n",
       " 'GFI1',\n",
       " 'IKZF1',\n",
       " 'IRF2BP2',\n",
       " 'IRF8',\n",
       " 'LMO2',\n",
       " 'LYL1',\n",
       " 'MAX',\n",
       " 'MEF2C',\n",
       " 'MEF2D',\n",
       " 'MEIS1',\n",
       " 'MYB',\n",
       " 'MYC',\n",
       " 'Non',\n",
       " 'RUNX1',\n",
       " 'RUNX2',\n",
       " 'SPI1',\n",
       " 'ZEB2',\n",
       " 'ZMYND8'}"
      ]
     },
     "execution_count": 85,
     "metadata": {},
     "output_type": "execute_result"
    }
   ],
   "source": [
    "experiments = set([i.split('-')[0] for i in data.columns])\n",
    "experiments"
   ]
  },
  {
   "cell_type": "markdown",
   "metadata": {},
   "source": [
    "## pre processing "
   ]
  },
  {
   "cell_type": "markdown",
   "metadata": {},
   "source": [
    "filter some more"
   ]
  },
  {
   "cell_type": "code",
   "execution_count": 86,
   "metadata": {},
   "outputs": [
    {
     "data": {
      "text/plain": [
       "array([   24,    70,   127, ..., 58810, 58811, 58812])"
      ]
     },
     "execution_count": 86,
     "metadata": {},
     "output_type": "execute_result"
    }
   ],
   "source": [
    "toremove = np.argwhere(data.values.var(1)==0)\n",
    "toremove.ravel()"
   ]
  },
  {
   "cell_type": "code",
   "execution_count": 87,
   "metadata": {},
   "outputs": [
    {
     "data": {
      "text/plain": [
       "(19537, 1)"
      ]
     },
     "execution_count": 87,
     "metadata": {},
     "output_type": "execute_result"
    }
   ],
   "source": [
    "toremove.shape"
   ]
  },
  {
   "cell_type": "code",
   "execution_count": 88,
   "metadata": {},
   "outputs": [],
   "source": [
    "data = data.drop(data.iloc[toremove.ravel()].index,0)"
   ]
  },
  {
   "cell_type": "code",
   "execution_count": 89,
   "metadata": {},
   "outputs": [
    {
     "data": {
      "text/plain": [
       "(39240, 72)"
      ]
     },
     "execution_count": 89,
     "metadata": {},
     "output_type": "execute_result"
    }
   ],
   "source": [
    "data.shape"
   ]
  },
  {
   "cell_type": "markdown",
   "metadata": {},
   "source": [
    "renormalize the data"
   ]
  },
  {
   "cell_type": "markdown",
   "metadata": {},
   "source": [
    "## Getting the Core TF information"
   ]
  },
  {
   "cell_type": "code",
   "execution_count": 33,
   "metadata": {},
   "outputs": [
    {
     "data": {
      "text/plain": [
       "['ARID2',\n",
       " 'CEBPA',\n",
       " 'CEBPE',\n",
       " 'E2F3',\n",
       " 'FLI1',\n",
       " 'FOSL2',\n",
       " 'GFI1',\n",
       " 'GFI1B',\n",
       " 'HHEX',\n",
       " 'IRF8',\n",
       " 'LYL1',\n",
       " 'MEF2C',\n",
       " 'MEF2D',\n",
       " 'MEIS1',\n",
       " 'MTF1',\n",
       " 'MYB',\n",
       " 'MYC',\n",
       " 'PLAGL2',\n",
       " 'RUNX1',\n",
       " 'RUNX2',\n",
       " 'RXRA',\n",
       " 'SETDB1',\n",
       " 'SNAPC5',\n",
       " 'SP1',\n",
       " 'SPI1',\n",
       " 'SREBF1',\n",
       " 'STAT5B',\n",
       " 'TERF2',\n",
       " 'TFAP4',\n",
       " 'ZEB2',\n",
       " 'ZFPM1',\n",
       " 'ZMYND8',\n",
       " 'LMO2',\n",
       " 'MAX',\n",
       " 'ELF2',\n",
       " 'ETV6',\n",
       " 'HOXA9',\n",
       " 'GATA2']"
      ]
     },
     "execution_count": 33,
     "metadata": {},
     "output_type": "execute_result"
    }
   ],
   "source": [
    "ctf=pd.read_csv('../data/CTF.csv',header=None)[0].values.tolist()\n",
    "ctf"
   ]
  },
  {
   "cell_type": "code",
   "execution_count": 34,
   "metadata": {},
   "outputs": [],
   "source": [
    "genenames = data.index\n",
    "ctfpos = [i for i, val in enumerate(genenames) if val in ctf]\n",
    "notctfpos = [i for i, val in enumerate(genenames) if val not in ctf]"
   ]
  },
  {
   "cell_type": "markdown",
   "metadata": {},
   "source": [
    "We find a CTF not in the dataset"
   ]
  },
  {
   "cell_type": "code",
   "execution_count": null,
   "metadata": {},
   "outputs": [],
   "source": [
    "[val for val in ctf if val not in genenames]"
   ]
  },
  {
   "cell_type": "markdown",
   "metadata": {},
   "source": [
    "## DESEQ ANALYSIS"
   ]
  },
  {
   "cell_type": "code",
   "execution_count": 90,
   "metadata": {},
   "outputs": [],
   "source": [
    "expe = {}\n",
    "for val in experiments: \n",
    "    expe[val] = [1 if val in col else 0 for col in data.columns]"
   ]
  },
  {
   "cell_type": "code",
   "execution_count": 65,
   "metadata": {},
   "outputs": [],
   "source": [
    "data = data.reset_index()"
   ]
  },
  {
   "cell_type": "code",
   "execution_count": 67,
   "metadata": {},
   "outputs": [
    {
     "ename": "KeyError",
     "evalue": "'Non'",
     "output_type": "error",
     "traceback": [
      "\u001b[0;31m---------------------------------------------------------------------------\u001b[0m",
      "\u001b[0;31mKeyError\u001b[0m                                  Traceback (most recent call last)",
      "\u001b[0;32m<ipython-input-67-d0a98e64049d>\u001b[0m in \u001b[0;36m<module>\u001b[0;34m\u001b[0m\n\u001b[0;32m----> 1\u001b[0;31m \u001b[0mexperiments\u001b[0m\u001b[0;34m.\u001b[0m\u001b[0mremove\u001b[0m\u001b[0;34m(\u001b[0m\u001b[0;34m'Non'\u001b[0m\u001b[0;34m)\u001b[0m\u001b[0;34m\u001b[0m\u001b[0;34m\u001b[0m\u001b[0m\n\u001b[0m\u001b[1;32m      2\u001b[0m \u001b[0mresults\u001b[0m \u001b[0;34m=\u001b[0m \u001b[0;34m{\u001b[0m\u001b[0;34m}\u001b[0m\u001b[0;34m\u001b[0m\u001b[0;34m\u001b[0m\u001b[0m\n",
      "\u001b[0;31mKeyError\u001b[0m: 'Non'"
     ]
    }
   ],
   "source": [
    "experiments.remove('Non')\n",
    "results = {}"
   ]
  },
  {
   "cell_type": "code",
   "execution_count": 62,
   "metadata": {},
   "outputs": [
    {
     "data": {
      "text/plain": [
       "{'BRD4', 'CDK6', 'CEBPa', 'IKZF1', 'IRF2BP2'}"
      ]
     },
     "execution_count": 62,
     "metadata": {},
     "output_type": "execute_result"
    }
   ],
   "source": [
    "experiments - set(ctf)"
   ]
  },
  {
   "cell_type": "code",
   "execution_count": 63,
   "metadata": {},
   "outputs": [
    {
     "data": {
      "text/plain": [
       "{'BRD4',\n",
       " 'CDK6',\n",
       " 'CEBPa',\n",
       " 'ELF2',\n",
       " 'FLI1',\n",
       " 'GFI1',\n",
       " 'IKZF1',\n",
       " 'IRF2BP2',\n",
       " 'IRF8',\n",
       " 'LMO2',\n",
       " 'LYL1',\n",
       " 'MAX',\n",
       " 'MEF2C',\n",
       " 'MEF2D',\n",
       " 'MEIS1',\n",
       " 'MYB',\n",
       " 'MYC',\n",
       " 'RUNX1',\n",
       " 'RUNX2',\n",
       " 'SPI1',\n",
       " 'ZEB2',\n",
       " 'ZMYND8'}"
      ]
     },
     "execution_count": 63,
     "metadata": {},
     "output_type": "execute_result"
    }
   ],
   "source": [
    "experiments"
   ]
  },
  {
   "cell_type": "code",
   "execution_count": 66,
   "metadata": {},
   "outputs": [
    {
     "ename": "KeyError",
     "evalue": "'Non'",
     "output_type": "error",
     "traceback": [
      "\u001b[0;31m---------------------------------------------------------------------------\u001b[0m",
      "\u001b[0;31mKeyError\u001b[0m                                  Traceback (most recent call last)",
      "\u001b[0;32m<ipython-input-66-40d1cc077cde>\u001b[0m in \u001b[0;36m<module>\u001b[0;34m\u001b[0m\n\u001b[1;32m      1\u001b[0m \u001b[0;32mfor\u001b[0m \u001b[0mval\u001b[0m \u001b[0;32min\u001b[0m \u001b[0mexperiments\u001b[0m\u001b[0;34m:\u001b[0m\u001b[0;34m\u001b[0m\u001b[0;34m\u001b[0m\u001b[0m\n\u001b[1;32m      2\u001b[0m     design = pd.DataFrame(index=data.columns[1:], columns=['DMSO','Target'], \n\u001b[0;32m----> 3\u001b[0;31m                           data=np.array([expe['Non'],expe[val]]).T)\n\u001b[0m\u001b[1;32m      4\u001b[0m     \u001b[0mdesign\u001b[0m\u001b[0;34m.\u001b[0m\u001b[0mindex\u001b[0m \u001b[0;34m=\u001b[0m \u001b[0mdesign\u001b[0m\u001b[0;34m.\u001b[0m\u001b[0mindex\u001b[0m\u001b[0;34m.\u001b[0m\u001b[0mastype\u001b[0m\u001b[0;34m(\u001b[0m\u001b[0mstr\u001b[0m\u001b[0;34m)\u001b[0m\u001b[0;34m.\u001b[0m\u001b[0mstr\u001b[0m\u001b[0;34m.\u001b[0m\u001b[0mreplace\u001b[0m\u001b[0;34m(\u001b[0m\u001b[0;34m'-'\u001b[0m\u001b[0;34m,\u001b[0m\u001b[0;34m'.'\u001b[0m\u001b[0;34m)\u001b[0m\u001b[0;34m\u001b[0m\u001b[0;34m\u001b[0m\u001b[0m\n\u001b[1;32m      5\u001b[0m     deseq = pyDESeq2.pyDESeq2(count_matrix=data, design_matrix = design, \n",
      "\u001b[0;31mKeyError\u001b[0m: 'Non'"
     ]
    }
   ],
   "source": [
    "for val in experiments:  \n",
    "    design = pd.DataFrame(index=data.columns[1:], columns=['DMSO','Target'], \n",
    "                          data=np.array([expe['Non'],expe[val]]).T)\n",
    "    design.index = design.index.astype(str).str.replace('-','.')\n",
    "    deseq = pyDESeq2.pyDESeq2(count_matrix=data, design_matrix = design, \n",
    "                              design_formula='~DMSO + Target', gene_column=\"gene_id\")\n",
    "    deseq.run_deseq()\n",
    "    deseq.get_deseq_result()\n",
    "    r = deseq.deseq_result\n",
    "    r.pvalue = np.nan_to_num(np.array(r.pvalue), 1)\n",
    "    r.log2FoldChange = np.nan_to_num(np.array(r.log2FoldChange), 0)\n",
    "    results[val] = r"
   ]
  },
  {
   "cell_type": "markdown",
   "metadata": {},
   "source": [
    "## what are most downregulated (volcano)"
   ]
  },
  {
   "cell_type": "code",
   "execution_count": null,
   "metadata": {},
   "outputs": [],
   "source": [
    "MS2res.pvalue = np.nan_to_num(np.array(MS2res.pvalue), 1)\n",
    "MS2res.log2FoldChange = np.nan_to_num(np.array(MS2res.log2FoldChange), 0)\n",
    "MS2res.gene_id = convertGenes(MS2res.gene_id)[0]\n",
    "show(volcano(MS2res,tohighlight=ctf))"
   ]
  },
  {
   "cell_type": "markdown",
   "metadata": {},
   "source": [
    "## CTF (volcano)"
   ]
  },
  {
   "cell_type": "code",
   "execution_count": null,
   "metadata": {},
   "outputs": [],
   "source": [
    "results"
   ]
  },
  {
   "cell_type": "code",
   "execution_count": null,
   "metadata": {},
   "outputs": [],
   "source": [
    "for val in experiments:\n",
    "    a = volcano(results[val],tohighlight=ctf,title=val)\n",
    "    try:\n",
    "        show(a)\n",
    "    except RuntimeError:\n",
    "        show(a)"
   ]
  },
  {
   "cell_type": "code",
   "execution_count": null,
   "metadata": {},
   "outputs": [],
   "source": [
    "data = data.set_index('gene_id')"
   ]
  },
  {
   "cell_type": "markdown",
   "metadata": {},
   "source": [
    "## any bias in the data"
   ]
  },
  {
   "cell_type": "code",
   "execution_count": null,
   "metadata": {},
   "outputs": [],
   "source": [
    "red = PCA(50).fit_transform(data.T)\n",
    "a = scatter(red, labels=data.columns)"
   ]
  },
  {
   "cell_type": "code",
   "execution_count": null,
   "metadata": {},
   "outputs": [],
   "source": [
    "red.shape"
   ]
  },
  {
   "cell_type": "code",
   "execution_count": null,
   "metadata": {},
   "outputs": [],
   "source": [
    "red = TSNE(2,10).fit_transform(red)"
   ]
  },
  {
   "cell_type": "code",
   "execution_count": null,
   "metadata": {},
   "outputs": [],
   "source": [
    "a = scatter(red[:,:2], labels=data.columns, radi=10)"
   ]
  },
  {
   "cell_type": "code",
   "execution_count": null,
   "metadata": {},
   "outputs": [],
   "source": [
    "show(a)"
   ]
  },
  {
   "cell_type": "code",
   "execution_count": null,
   "metadata": {},
   "outputs": [],
   "source": [
    "dataclean = data[data.max(1) > 10].drop(['LMO2-r1','LMO2-r2','LMO2-r3'],1)"
   ]
  },
  {
   "cell_type": "code",
   "execution_count": null,
   "metadata": {},
   "outputs": [],
   "source": [
    "for val in grouped(dataclean.columns,3):\n",
    "    val = list(val)\n",
    "    dataclean[val[0].split('-')[0]] = dataclean[val].mean(1)\n",
    "    dataclean = dataclean.drop(val,1)"
   ]
  },
  {
   "cell_type": "code",
   "execution_count": null,
   "metadata": {},
   "outputs": [],
   "source": [
    "pca = PCA(20)\n",
    "red = pca.fit_transform(dataclean.T)"
   ]
  },
  {
   "cell_type": "code",
   "execution_count": null,
   "metadata": {},
   "outputs": [],
   "source": [
    "pca.explained_variance_ratio_"
   ]
  },
  {
   "cell_type": "code",
   "execution_count": null,
   "metadata": {},
   "outputs": [],
   "source": [
    "a = scatter(red[:,:2], labels=dataclean.columns, radi=4000, title='batch effect RNP')"
   ]
  },
  {
   "cell_type": "markdown",
   "metadata": {},
   "source": [
    "MAX CEBPa ZEB2 "
   ]
  },
  {
   "cell_type": "code",
   "execution_count": null,
   "metadata": {},
   "outputs": [],
   "source": [
    "show(a)"
   ]
  },
  {
   "cell_type": "code",
   "execution_count": null,
   "metadata": {},
   "outputs": [],
   "source": [
    "save(a,'data/plots/batcheffect_RNP.html')"
   ]
  },
  {
   "cell_type": "markdown",
   "metadata": {},
   "source": [
    "## GSEA analysis"
   ]
  },
  {
   "cell_type": "code",
   "execution_count": 68,
   "metadata": {},
   "outputs": [],
   "source": [
    "res = {}"
   ]
  },
  {
   "cell_type": "code",
   "execution_count": 70,
   "metadata": {},
   "outputs": [
    {
     "data": {
      "text/html": [
       "<div>\n",
       "<style scoped>\n",
       "    .dataframe tbody tr th:only-of-type {\n",
       "        vertical-align: middle;\n",
       "    }\n",
       "\n",
       "    .dataframe tbody tr th {\n",
       "        vertical-align: top;\n",
       "    }\n",
       "\n",
       "    .dataframe thead th {\n",
       "        text-align: right;\n",
       "    }\n",
       "</style>\n",
       "<table border=\"1\" class=\"dataframe\">\n",
       "  <thead>\n",
       "    <tr style=\"text-align: right;\">\n",
       "      <th></th>\n",
       "      <th>Non-target-r1</th>\n",
       "      <th>Non-target-r2</th>\n",
       "      <th>Non-target-r3</th>\n",
       "      <th>Non-target-r4</th>\n",
       "      <th>Non-target-r5</th>\n",
       "      <th>Non-target-r6</th>\n",
       "      <th>Non-target-r7</th>\n",
       "      <th>ZEB2-r1</th>\n",
       "      <th>ZEB2-r2</th>\n",
       "      <th>ZEB2-r3</th>\n",
       "    </tr>\n",
       "  </thead>\n",
       "  <tbody>\n",
       "    <tr>\n",
       "      <th>0</th>\n",
       "      <td>0.00</td>\n",
       "      <td>0.00</td>\n",
       "      <td>1.00</td>\n",
       "      <td>0.00</td>\n",
       "      <td>1.00</td>\n",
       "      <td>0.00</td>\n",
       "      <td>0.00</td>\n",
       "      <td>4.00</td>\n",
       "      <td>2.0</td>\n",
       "      <td>1.00</td>\n",
       "    </tr>\n",
       "    <tr>\n",
       "      <th>1</th>\n",
       "      <td>0.00</td>\n",
       "      <td>0.00</td>\n",
       "      <td>0.00</td>\n",
       "      <td>0.00</td>\n",
       "      <td>0.00</td>\n",
       "      <td>0.00</td>\n",
       "      <td>0.00</td>\n",
       "      <td>0.00</td>\n",
       "      <td>0.0</td>\n",
       "      <td>0.00</td>\n",
       "    </tr>\n",
       "    <tr>\n",
       "      <th>2</th>\n",
       "      <td>695.00</td>\n",
       "      <td>629.00</td>\n",
       "      <td>669.00</td>\n",
       "      <td>976.00</td>\n",
       "      <td>1035.00</td>\n",
       "      <td>1044.00</td>\n",
       "      <td>898.00</td>\n",
       "      <td>1107.00</td>\n",
       "      <td>758.0</td>\n",
       "      <td>929.00</td>\n",
       "    </tr>\n",
       "    <tr>\n",
       "      <th>3</th>\n",
       "      <td>189.23</td>\n",
       "      <td>134.64</td>\n",
       "      <td>152.49</td>\n",
       "      <td>209.93</td>\n",
       "      <td>217.91</td>\n",
       "      <td>254.92</td>\n",
       "      <td>227.88</td>\n",
       "      <td>305.21</td>\n",
       "      <td>241.5</td>\n",
       "      <td>276.69</td>\n",
       "    </tr>\n",
       "    <tr>\n",
       "      <th>4</th>\n",
       "      <td>352.77</td>\n",
       "      <td>292.36</td>\n",
       "      <td>324.51</td>\n",
       "      <td>500.07</td>\n",
       "      <td>526.09</td>\n",
       "      <td>524.08</td>\n",
       "      <td>272.12</td>\n",
       "      <td>433.79</td>\n",
       "      <td>295.5</td>\n",
       "      <td>335.31</td>\n",
       "    </tr>\n",
       "    <tr>\n",
       "      <th>...</th>\n",
       "      <td>...</td>\n",
       "      <td>...</td>\n",
       "      <td>...</td>\n",
       "      <td>...</td>\n",
       "      <td>...</td>\n",
       "      <td>...</td>\n",
       "      <td>...</td>\n",
       "      <td>...</td>\n",
       "      <td>...</td>\n",
       "      <td>...</td>\n",
       "    </tr>\n",
       "    <tr>\n",
       "      <th>39235</th>\n",
       "      <td>0.00</td>\n",
       "      <td>6.28</td>\n",
       "      <td>2.41</td>\n",
       "      <td>16.38</td>\n",
       "      <td>9.16</td>\n",
       "      <td>20.02</td>\n",
       "      <td>11.50</td>\n",
       "      <td>0.00</td>\n",
       "      <td>10.9</td>\n",
       "      <td>5.28</td>\n",
       "    </tr>\n",
       "    <tr>\n",
       "      <th>39236</th>\n",
       "      <td>0.00</td>\n",
       "      <td>0.00</td>\n",
       "      <td>0.00</td>\n",
       "      <td>0.00</td>\n",
       "      <td>0.00</td>\n",
       "      <td>0.00</td>\n",
       "      <td>0.00</td>\n",
       "      <td>0.00</td>\n",
       "      <td>0.0</td>\n",
       "      <td>0.00</td>\n",
       "    </tr>\n",
       "    <tr>\n",
       "      <th>39237</th>\n",
       "      <td>0.00</td>\n",
       "      <td>0.00</td>\n",
       "      <td>0.00</td>\n",
       "      <td>0.00</td>\n",
       "      <td>0.00</td>\n",
       "      <td>0.00</td>\n",
       "      <td>0.00</td>\n",
       "      <td>0.00</td>\n",
       "      <td>0.0</td>\n",
       "      <td>0.00</td>\n",
       "    </tr>\n",
       "    <tr>\n",
       "      <th>39238</th>\n",
       "      <td>0.00</td>\n",
       "      <td>0.00</td>\n",
       "      <td>0.00</td>\n",
       "      <td>0.00</td>\n",
       "      <td>0.00</td>\n",
       "      <td>0.00</td>\n",
       "      <td>1.00</td>\n",
       "      <td>0.00</td>\n",
       "      <td>0.0</td>\n",
       "      <td>0.00</td>\n",
       "    </tr>\n",
       "    <tr>\n",
       "      <th>39239</th>\n",
       "      <td>0.00</td>\n",
       "      <td>0.00</td>\n",
       "      <td>0.00</td>\n",
       "      <td>0.00</td>\n",
       "      <td>0.00</td>\n",
       "      <td>0.00</td>\n",
       "      <td>0.00</td>\n",
       "      <td>0.00</td>\n",
       "      <td>0.0</td>\n",
       "      <td>0.00</td>\n",
       "    </tr>\n",
       "  </tbody>\n",
       "</table>\n",
       "<p>39240 rows × 10 columns</p>\n",
       "</div>"
      ],
      "text/plain": [
       "       Non-target-r1  Non-target-r2  Non-target-r3  Non-target-r4  \\\n",
       "0               0.00           0.00           1.00           0.00   \n",
       "1               0.00           0.00           0.00           0.00   \n",
       "2             695.00         629.00         669.00         976.00   \n",
       "3             189.23         134.64         152.49         209.93   \n",
       "4             352.77         292.36         324.51         500.07   \n",
       "...              ...            ...            ...            ...   \n",
       "39235           0.00           6.28           2.41          16.38   \n",
       "39236           0.00           0.00           0.00           0.00   \n",
       "39237           0.00           0.00           0.00           0.00   \n",
       "39238           0.00           0.00           0.00           0.00   \n",
       "39239           0.00           0.00           0.00           0.00   \n",
       "\n",
       "       Non-target-r5  Non-target-r6  Non-target-r7  ZEB2-r1  ZEB2-r2  ZEB2-r3  \n",
       "0               1.00           0.00           0.00     4.00      2.0     1.00  \n",
       "1               0.00           0.00           0.00     0.00      0.0     0.00  \n",
       "2            1035.00        1044.00         898.00  1107.00    758.0   929.00  \n",
       "3             217.91         254.92         227.88   305.21    241.5   276.69  \n",
       "4             526.09         524.08         272.12   433.79    295.5   335.31  \n",
       "...              ...            ...            ...      ...      ...      ...  \n",
       "39235           9.16          20.02          11.50     0.00     10.9     5.28  \n",
       "39236           0.00           0.00           0.00     0.00      0.0     0.00  \n",
       "39237           0.00           0.00           0.00     0.00      0.0     0.00  \n",
       "39238           0.00           0.00           1.00     0.00      0.0     0.00  \n",
       "39239           0.00           0.00           0.00     0.00      0.0     0.00  \n",
       "\n",
       "[39240 rows x 10 columns]"
      ]
     },
     "execution_count": 70,
     "metadata": {},
     "output_type": "execute_result"
    }
   ],
   "source": [
    "totest"
   ]
  },
  {
   "cell_type": "code",
   "execution_count": 71,
   "metadata": {},
   "outputs": [
    {
     "data": {
      "text/plain": [
       "['DMSO',\n",
       " 'DMSO',\n",
       " 'DMSO',\n",
       " 'DMSO',\n",
       " 'DMSO',\n",
       " 'DMSO',\n",
       " 'DMSO',\n",
       " 'Condition',\n",
       " 'Condition',\n",
       " 'Condition']"
      ]
     },
     "execution_count": 71,
     "metadata": {},
     "output_type": "execute_result"
    }
   ],
   "source": [
    "cls"
   ]
  },
  {
   "cell_type": "code",
   "execution_count": 72,
   "metadata": {},
   "outputs": [
    {
     "ename": "KeyError",
     "evalue": "'ZEB2'",
     "output_type": "error",
     "traceback": [
      "\u001b[0;31m---------------------------------------------------------------------------\u001b[0m",
      "\u001b[0;31mKeyError\u001b[0m                                  Traceback (most recent call last)",
      "\u001b[0;32m<ipython-input-72-edbe59d9522e>\u001b[0m in \u001b[0;36m<module>\u001b[0;34m\u001b[0m\n\u001b[0;32m----> 1\u001b[0;31m \u001b[0mres\u001b[0m\u001b[0;34m[\u001b[0m\u001b[0mval\u001b[0m\u001b[0;34m]\u001b[0m\u001b[0;34m\u001b[0m\u001b[0;34m\u001b[0m\u001b[0m\n\u001b[0m",
      "\u001b[0;31mKeyError\u001b[0m: 'ZEB2'"
     ]
    }
   ],
   "source": [
    "res[val]"
   ]
  },
  {
   "cell_type": "code",
   "execution_count": 79,
   "metadata": {},
   "outputs": [],
   "source": [
    "data['gene_id'] = data.index"
   ]
  },
  {
   "cell_type": "code",
   "execution_count": 81,
   "metadata": {},
   "outputs": [
    {
     "data": {
      "text/html": [
       "<div>\n",
       "<style scoped>\n",
       "    .dataframe tbody tr th:only-of-type {\n",
       "        vertical-align: middle;\n",
       "    }\n",
       "\n",
       "    .dataframe tbody tr th {\n",
       "        vertical-align: top;\n",
       "    }\n",
       "\n",
       "    .dataframe thead th {\n",
       "        text-align: right;\n",
       "    }\n",
       "</style>\n",
       "<table border=\"1\" class=\"dataframe\">\n",
       "  <thead>\n",
       "    <tr style=\"text-align: right;\">\n",
       "      <th></th>\n",
       "      <th>gene_id</th>\n",
       "      <th>BRD4-r1</th>\n",
       "      <th>BRD4-r2</th>\n",
       "      <th>BRD4-r3</th>\n",
       "      <th>CDK6-r1</th>\n",
       "      <th>CDK6-r2</th>\n",
       "      <th>CDK6-r3</th>\n",
       "      <th>CEBPa-r1</th>\n",
       "      <th>CEBPa-r2</th>\n",
       "      <th>CEBPa-r3</th>\n",
       "      <th>...</th>\n",
       "      <th>RUNX2-r3</th>\n",
       "      <th>SPI1-r1</th>\n",
       "      <th>SPI1-r2</th>\n",
       "      <th>SPI1-r3</th>\n",
       "      <th>ZEB2-r1</th>\n",
       "      <th>ZEB2-r2</th>\n",
       "      <th>ZEB2-r3</th>\n",
       "      <th>ZMYND8-r1</th>\n",
       "      <th>ZMYND8-r2</th>\n",
       "      <th>ZMYND8-r3</th>\n",
       "    </tr>\n",
       "  </thead>\n",
       "  <tbody>\n",
       "    <tr>\n",
       "      <th>0</th>\n",
       "      <td>0</td>\n",
       "      <td>0.00</td>\n",
       "      <td>2.00</td>\n",
       "      <td>0.00</td>\n",
       "      <td>1.00</td>\n",
       "      <td>0.00</td>\n",
       "      <td>3.00</td>\n",
       "      <td>0.00</td>\n",
       "      <td>0.00</td>\n",
       "      <td>0.00</td>\n",
       "      <td>...</td>\n",
       "      <td>0.00</td>\n",
       "      <td>2.00</td>\n",
       "      <td>1.00</td>\n",
       "      <td>1.00</td>\n",
       "      <td>4.00</td>\n",
       "      <td>2.0</td>\n",
       "      <td>1.00</td>\n",
       "      <td>3.00</td>\n",
       "      <td>1.00</td>\n",
       "      <td>1.00</td>\n",
       "    </tr>\n",
       "    <tr>\n",
       "      <th>1</th>\n",
       "      <td>1</td>\n",
       "      <td>0.00</td>\n",
       "      <td>0.00</td>\n",
       "      <td>0.00</td>\n",
       "      <td>0.00</td>\n",
       "      <td>0.00</td>\n",
       "      <td>0.00</td>\n",
       "      <td>0.00</td>\n",
       "      <td>0.00</td>\n",
       "      <td>0.00</td>\n",
       "      <td>...</td>\n",
       "      <td>0.00</td>\n",
       "      <td>0.00</td>\n",
       "      <td>0.00</td>\n",
       "      <td>0.00</td>\n",
       "      <td>0.00</td>\n",
       "      <td>0.0</td>\n",
       "      <td>0.00</td>\n",
       "      <td>0.00</td>\n",
       "      <td>0.00</td>\n",
       "      <td>0.00</td>\n",
       "    </tr>\n",
       "    <tr>\n",
       "      <th>2</th>\n",
       "      <td>2</td>\n",
       "      <td>543.00</td>\n",
       "      <td>646.00</td>\n",
       "      <td>700.00</td>\n",
       "      <td>738.00</td>\n",
       "      <td>645.00</td>\n",
       "      <td>687.00</td>\n",
       "      <td>1079.00</td>\n",
       "      <td>1050.00</td>\n",
       "      <td>1149.00</td>\n",
       "      <td>...</td>\n",
       "      <td>873.00</td>\n",
       "      <td>903.00</td>\n",
       "      <td>749.00</td>\n",
       "      <td>701.00</td>\n",
       "      <td>1107.00</td>\n",
       "      <td>758.0</td>\n",
       "      <td>929.00</td>\n",
       "      <td>521.00</td>\n",
       "      <td>715.00</td>\n",
       "      <td>688.00</td>\n",
       "    </tr>\n",
       "    <tr>\n",
       "      <th>3</th>\n",
       "      <td>3</td>\n",
       "      <td>158.33</td>\n",
       "      <td>191.89</td>\n",
       "      <td>158.28</td>\n",
       "      <td>205.39</td>\n",
       "      <td>161.19</td>\n",
       "      <td>219.88</td>\n",
       "      <td>303.40</td>\n",
       "      <td>346.63</td>\n",
       "      <td>327.12</td>\n",
       "      <td>...</td>\n",
       "      <td>207.90</td>\n",
       "      <td>227.20</td>\n",
       "      <td>232.98</td>\n",
       "      <td>224.73</td>\n",
       "      <td>305.21</td>\n",
       "      <td>241.5</td>\n",
       "      <td>276.69</td>\n",
       "      <td>152.57</td>\n",
       "      <td>177.88</td>\n",
       "      <td>206.75</td>\n",
       "    </tr>\n",
       "    <tr>\n",
       "      <th>4</th>\n",
       "      <td>4</td>\n",
       "      <td>260.67</td>\n",
       "      <td>250.11</td>\n",
       "      <td>293.72</td>\n",
       "      <td>332.61</td>\n",
       "      <td>262.81</td>\n",
       "      <td>242.12</td>\n",
       "      <td>549.60</td>\n",
       "      <td>502.37</td>\n",
       "      <td>571.88</td>\n",
       "      <td>...</td>\n",
       "      <td>358.10</td>\n",
       "      <td>417.80</td>\n",
       "      <td>354.02</td>\n",
       "      <td>315.27</td>\n",
       "      <td>433.79</td>\n",
       "      <td>295.5</td>\n",
       "      <td>335.31</td>\n",
       "      <td>265.43</td>\n",
       "      <td>375.12</td>\n",
       "      <td>317.25</td>\n",
       "    </tr>\n",
       "    <tr>\n",
       "      <th>...</th>\n",
       "      <td>...</td>\n",
       "      <td>...</td>\n",
       "      <td>...</td>\n",
       "      <td>...</td>\n",
       "      <td>...</td>\n",
       "      <td>...</td>\n",
       "      <td>...</td>\n",
       "      <td>...</td>\n",
       "      <td>...</td>\n",
       "      <td>...</td>\n",
       "      <td>...</td>\n",
       "      <td>...</td>\n",
       "      <td>...</td>\n",
       "      <td>...</td>\n",
       "      <td>...</td>\n",
       "      <td>...</td>\n",
       "      <td>...</td>\n",
       "      <td>...</td>\n",
       "      <td>...</td>\n",
       "      <td>...</td>\n",
       "      <td>...</td>\n",
       "    </tr>\n",
       "    <tr>\n",
       "      <th>39235</th>\n",
       "      <td>39235</td>\n",
       "      <td>4.68</td>\n",
       "      <td>9.67</td>\n",
       "      <td>2.86</td>\n",
       "      <td>5.29</td>\n",
       "      <td>6.11</td>\n",
       "      <td>8.85</td>\n",
       "      <td>8.72</td>\n",
       "      <td>12.55</td>\n",
       "      <td>22.22</td>\n",
       "      <td>...</td>\n",
       "      <td>2.67</td>\n",
       "      <td>19.58</td>\n",
       "      <td>7.44</td>\n",
       "      <td>6.67</td>\n",
       "      <td>0.00</td>\n",
       "      <td>10.9</td>\n",
       "      <td>5.28</td>\n",
       "      <td>4.94</td>\n",
       "      <td>5.68</td>\n",
       "      <td>2.73</td>\n",
       "    </tr>\n",
       "    <tr>\n",
       "      <th>39236</th>\n",
       "      <td>39236</td>\n",
       "      <td>0.00</td>\n",
       "      <td>0.00</td>\n",
       "      <td>0.00</td>\n",
       "      <td>0.00</td>\n",
       "      <td>0.00</td>\n",
       "      <td>0.00</td>\n",
       "      <td>1.00</td>\n",
       "      <td>0.00</td>\n",
       "      <td>0.00</td>\n",
       "      <td>...</td>\n",
       "      <td>0.00</td>\n",
       "      <td>0.00</td>\n",
       "      <td>0.00</td>\n",
       "      <td>0.00</td>\n",
       "      <td>0.00</td>\n",
       "      <td>0.0</td>\n",
       "      <td>0.00</td>\n",
       "      <td>0.00</td>\n",
       "      <td>0.00</td>\n",
       "      <td>0.00</td>\n",
       "    </tr>\n",
       "    <tr>\n",
       "      <th>39237</th>\n",
       "      <td>39237</td>\n",
       "      <td>0.00</td>\n",
       "      <td>0.00</td>\n",
       "      <td>0.00</td>\n",
       "      <td>0.00</td>\n",
       "      <td>0.00</td>\n",
       "      <td>0.00</td>\n",
       "      <td>0.00</td>\n",
       "      <td>0.00</td>\n",
       "      <td>0.00</td>\n",
       "      <td>...</td>\n",
       "      <td>0.00</td>\n",
       "      <td>0.00</td>\n",
       "      <td>0.00</td>\n",
       "      <td>0.00</td>\n",
       "      <td>0.00</td>\n",
       "      <td>0.0</td>\n",
       "      <td>0.00</td>\n",
       "      <td>0.00</td>\n",
       "      <td>0.00</td>\n",
       "      <td>0.00</td>\n",
       "    </tr>\n",
       "    <tr>\n",
       "      <th>39238</th>\n",
       "      <td>39238</td>\n",
       "      <td>0.00</td>\n",
       "      <td>1.00</td>\n",
       "      <td>0.00</td>\n",
       "      <td>0.00</td>\n",
       "      <td>0.00</td>\n",
       "      <td>0.00</td>\n",
       "      <td>0.00</td>\n",
       "      <td>0.00</td>\n",
       "      <td>0.00</td>\n",
       "      <td>...</td>\n",
       "      <td>0.00</td>\n",
       "      <td>0.00</td>\n",
       "      <td>0.00</td>\n",
       "      <td>0.00</td>\n",
       "      <td>0.00</td>\n",
       "      <td>0.0</td>\n",
       "      <td>0.00</td>\n",
       "      <td>0.00</td>\n",
       "      <td>0.00</td>\n",
       "      <td>0.00</td>\n",
       "    </tr>\n",
       "    <tr>\n",
       "      <th>39239</th>\n",
       "      <td>39239</td>\n",
       "      <td>0.00</td>\n",
       "      <td>0.00</td>\n",
       "      <td>0.00</td>\n",
       "      <td>0.00</td>\n",
       "      <td>0.00</td>\n",
       "      <td>0.00</td>\n",
       "      <td>0.00</td>\n",
       "      <td>0.00</td>\n",
       "      <td>0.00</td>\n",
       "      <td>...</td>\n",
       "      <td>0.00</td>\n",
       "      <td>0.00</td>\n",
       "      <td>0.00</td>\n",
       "      <td>0.00</td>\n",
       "      <td>0.00</td>\n",
       "      <td>0.0</td>\n",
       "      <td>0.00</td>\n",
       "      <td>0.00</td>\n",
       "      <td>0.00</td>\n",
       "      <td>0.00</td>\n",
       "    </tr>\n",
       "  </tbody>\n",
       "</table>\n",
       "<p>39240 rows × 73 columns</p>\n",
       "</div>"
      ],
      "text/plain": [
       "       gene_id  BRD4-r1  BRD4-r2  BRD4-r3  CDK6-r1  CDK6-r2  CDK6-r3  \\\n",
       "0            0     0.00     2.00     0.00     1.00     0.00     3.00   \n",
       "1            1     0.00     0.00     0.00     0.00     0.00     0.00   \n",
       "2            2   543.00   646.00   700.00   738.00   645.00   687.00   \n",
       "3            3   158.33   191.89   158.28   205.39   161.19   219.88   \n",
       "4            4   260.67   250.11   293.72   332.61   262.81   242.12   \n",
       "...        ...      ...      ...      ...      ...      ...      ...   \n",
       "39235    39235     4.68     9.67     2.86     5.29     6.11     8.85   \n",
       "39236    39236     0.00     0.00     0.00     0.00     0.00     0.00   \n",
       "39237    39237     0.00     0.00     0.00     0.00     0.00     0.00   \n",
       "39238    39238     0.00     1.00     0.00     0.00     0.00     0.00   \n",
       "39239    39239     0.00     0.00     0.00     0.00     0.00     0.00   \n",
       "\n",
       "       CEBPa-r1  CEBPa-r2  CEBPa-r3  ...  RUNX2-r3  SPI1-r1  SPI1-r2  SPI1-r3  \\\n",
       "0          0.00      0.00      0.00  ...      0.00     2.00     1.00     1.00   \n",
       "1          0.00      0.00      0.00  ...      0.00     0.00     0.00     0.00   \n",
       "2       1079.00   1050.00   1149.00  ...    873.00   903.00   749.00   701.00   \n",
       "3        303.40    346.63    327.12  ...    207.90   227.20   232.98   224.73   \n",
       "4        549.60    502.37    571.88  ...    358.10   417.80   354.02   315.27   \n",
       "...         ...       ...       ...  ...       ...      ...      ...      ...   \n",
       "39235      8.72     12.55     22.22  ...      2.67    19.58     7.44     6.67   \n",
       "39236      1.00      0.00      0.00  ...      0.00     0.00     0.00     0.00   \n",
       "39237      0.00      0.00      0.00  ...      0.00     0.00     0.00     0.00   \n",
       "39238      0.00      0.00      0.00  ...      0.00     0.00     0.00     0.00   \n",
       "39239      0.00      0.00      0.00  ...      0.00     0.00     0.00     0.00   \n",
       "\n",
       "       ZEB2-r1  ZEB2-r2  ZEB2-r3  ZMYND8-r1  ZMYND8-r2  ZMYND8-r3  \n",
       "0         4.00      2.0     1.00       3.00       1.00       1.00  \n",
       "1         0.00      0.0     0.00       0.00       0.00       0.00  \n",
       "2      1107.00    758.0   929.00     521.00     715.00     688.00  \n",
       "3       305.21    241.5   276.69     152.57     177.88     206.75  \n",
       "4       433.79    295.5   335.31     265.43     375.12     317.25  \n",
       "...        ...      ...      ...        ...        ...        ...  \n",
       "39235     0.00     10.9     5.28       4.94       5.68       2.73  \n",
       "39236     0.00      0.0     0.00       0.00       0.00       0.00  \n",
       "39237     0.00      0.0     0.00       0.00       0.00       0.00  \n",
       "39238     0.00      0.0     0.00       0.00       0.00       0.00  \n",
       "39239     0.00      0.0     0.00       0.00       0.00       0.00  \n",
       "\n",
       "[39240 rows x 73 columns]"
      ]
     },
     "execution_count": 81,
     "metadata": {},
     "output_type": "execute_result"
    }
   ],
   "source": [
    "data"
   ]
  },
  {
   "cell_type": "code",
   "execution_count": 80,
   "metadata": {},
   "outputs": [
    {
     "name": "stdout",
     "output_type": "stream",
     "text": [
      "ZEB2\n"
     ]
    },
    {
     "name": "stderr",
     "output_type": "stream",
     "text": [
      "2020-06-05 18:18:51,134 Warning: dropping duplicated gene names, only keep the first values\n",
      "/home/jeremie/.local/lib/python3.8/site-packages/numpy/lib/arraysetops.py:569: FutureWarning: elementwise comparison failed; returning scalar instead, but in the future will perform elementwise comparison\n",
      "  mask |= (ar1 == a)\n",
      "2020-06-05 18:18:55,446 No gene sets passed through filtering condition!!!, try new parameters again!\n",
      "Note: check gene name, gmt file format, or filtering size.\n"
     ]
    },
    {
     "ename": "SystemExit",
     "evalue": "0",
     "output_type": "error",
     "traceback": [
      "An exception has occurred, use %tb to see the full traceback.\n",
      "\u001b[0;31mSystemExit\u001b[0m\u001b[0;31m:\u001b[0m 0\n"
     ]
    },
    {
     "name": "stderr",
     "output_type": "stream",
     "text": [
      "/home/jeremie/.local/lib/python3.8/site-packages/IPython/core/interactiveshell.py:3339: UserWarning: To exit: use 'exit', 'quit', or Ctrl-D.\n",
      "  warn(\"To exit: use 'exit', 'quit', or Ctrl-D.\", stacklevel=1)\n"
     ]
    }
   ],
   "source": [
    "for val in experiments:\n",
    "    print(val)\n",
    "    totest = data[[v for v in data.columns if val in v or 'Non' in v]]\n",
    "    cls = ['Condition' if val in v else 'DMSO' for v in totest.columns]\n",
    "    res[val] = gseapy.gsea(data=totest, gene_sets='WikiPathways_2013', \n",
    "                cls= cls, no_plot=False, processes=8)\n",
    "    res[val].res2d['Term'] = [i.split('_')[0][:50] for i in res[val].res2d.index]\n",
    "    \n",
    "    sns.barplot(data=res[val].res2d.iloc[:25], x=\"es\", y=\"Term\",\n",
    "                hue_order=\"geneset_size\").set_title(val)"
   ]
  },
  {
   "cell_type": "code",
   "execution_count": null,
   "metadata": {},
   "outputs": [],
   "source": [
    "with open('../data/wikipathway_RNPv1', 'wb') as f:\n",
    "    pickle.dump(res,f)"
   ]
  },
  {
   "cell_type": "code",
   "execution_count": 74,
   "metadata": {},
   "outputs": [
    {
     "ename": "FileNotFoundError",
     "evalue": "[Errno 2] No such file or directory: 'wikipathway'",
     "output_type": "error",
     "traceback": [
      "\u001b[0;31m---------------------------------------------------------------------------\u001b[0m",
      "\u001b[0;31mFileNotFoundError\u001b[0m                         Traceback (most recent call last)",
      "\u001b[0;32m<ipython-input-74-c4611fb52013>\u001b[0m in \u001b[0;36m<module>\u001b[0;34m\u001b[0m\n\u001b[0;32m----> 1\u001b[0;31m \u001b[0;32mwith\u001b[0m \u001b[0mopen\u001b[0m\u001b[0;34m(\u001b[0m\u001b[0;34m'wikipathway'\u001b[0m\u001b[0;34m,\u001b[0m\u001b[0;34m'rb'\u001b[0m\u001b[0;34m)\u001b[0m \u001b[0;32mas\u001b[0m \u001b[0mf\u001b[0m\u001b[0;34m:\u001b[0m\u001b[0;34m\u001b[0m\u001b[0;34m\u001b[0m\u001b[0m\n\u001b[0m\u001b[1;32m      2\u001b[0m     \u001b[0mres\u001b[0m \u001b[0;34m=\u001b[0m \u001b[0mpickle\u001b[0m\u001b[0;34m.\u001b[0m\u001b[0mload\u001b[0m\u001b[0;34m(\u001b[0m\u001b[0mf\u001b[0m\u001b[0;34m)\u001b[0m\u001b[0;34m\u001b[0m\u001b[0;34m\u001b[0m\u001b[0m\n",
      "\u001b[0;31mFileNotFoundError\u001b[0m: [Errno 2] No such file or directory: 'wikipathway'"
     ]
    }
   ],
   "source": [
    "with open('../data/wikipathway_RNPv1','rb') as f:\n",
    "    res = pickle.load(f)"
   ]
  },
  {
   "cell_type": "code",
   "execution_count": null,
   "metadata": {},
   "outputs": [],
   "source": [
    "for i, val in enumerate(experiments):\n",
    "    plt.figure(i)\n",
    "    res[val].res2d.Term = [' '.join(i.split('_')[1:-2]) for i in res[val].res2d.index]\n",
    "    sns.barplot(data=res[val].res2d.iloc[:25], x=\"es\", y=\"Term\",\n",
    "                hue_order=\"geneset_size\").set_title(val)"
   ]
  },
  {
   "cell_type": "code",
   "execution_count": null,
   "metadata": {},
   "outputs": [],
   "source": [
    "a = set()\n",
    "for k, val in res.items():\n",
    "    a.update(set(val.res2d.index))\n",
    "a = {i:[0]*len(res) for i in a}\n",
    "for n,(k, val) in enumerate(res.items()):\n",
    "    for i,v in val.res2d.iterrows():\n",
    "        a[i][n] = v.es\n",
    "res = pd.DataFrame(a, index=res.keys())\n",
    "fig, ax = plt.subplots(figsize=(20,15))\n",
    "sns.heatmap(ax=ax,data=res)"
   ]
  },
  {
   "cell_type": "code",
   "execution_count": null,
   "metadata": {},
   "outputs": [],
   "source": [
    "model = AgglomerativeClustering(n_clusters=6,linkage=\"average\", \n",
    "                                affinity=\"cosine\", compute_full_tree=True)\n",
    "labels = model.fit_predict(res)\n",
    "ii = itertools.count(res.shape[0])\n",
    "tree = [{'node_id': next(ii), 'left': x[0], 'right':x[1]} for x in model.children_]\n",
    "sort = labels.argsort()\n",
    "a = plotCorrelationMatrix(res.values[sort],res.index[sort].tolist(),interactive=True)"
   ]
  },
  {
   "cell_type": "code",
   "execution_count": null,
   "metadata": {},
   "outputs": [],
   "source": [
    "fig, ax = plt.subplots(figsize=(20,15))\n",
    "sns.heatmap(ax=ax,data=res)"
   ]
  },
  {
   "cell_type": "code",
   "execution_count": null,
   "metadata": {},
   "outputs": [],
   "source": [
    "fig.savefig(\"enriched_terms.png\")"
   ]
  },
  {
   "cell_type": "code",
   "execution_count": null,
   "metadata": {},
   "outputs": [],
   "source": [
    "show(a)"
   ]
  },
  {
   "cell_type": "code",
   "execution_count": 91,
   "metadata": {},
   "outputs": [
    {
     "data": {
      "text/plain": [
       "{'BRD4',\n",
       " 'CDK6',\n",
       " 'CEBPa',\n",
       " 'ELF2',\n",
       " 'FLI1',\n",
       " 'GFI1',\n",
       " 'IKZF1',\n",
       " 'IRF2BP2',\n",
       " 'IRF8',\n",
       " 'LMO2',\n",
       " 'LYL1',\n",
       " 'MAX',\n",
       " 'MEF2C',\n",
       " 'MEF2D',\n",
       " 'MEIS1',\n",
       " 'MYB',\n",
       " 'MYC',\n",
       " 'Non',\n",
       " 'RUNX1',\n",
       " 'RUNX2',\n",
       " 'SPI1',\n",
       " 'ZEB2',\n",
       " 'ZMYND8'}"
      ]
     },
     "execution_count": 91,
     "metadata": {},
     "output_type": "execute_result"
    }
   ],
   "source": [
    "experiments"
   ]
  },
  {
   "cell_type": "code",
   "execution_count": 94,
   "metadata": {},
   "outputs": [
    {
     "data": {
      "text/html": [
       "<div>\n",
       "<style scoped>\n",
       "    .dataframe tbody tr th:only-of-type {\n",
       "        vertical-align: middle;\n",
       "    }\n",
       "\n",
       "    .dataframe tbody tr th {\n",
       "        vertical-align: top;\n",
       "    }\n",
       "\n",
       "    .dataframe thead th {\n",
       "        text-align: right;\n",
       "    }\n",
       "</style>\n",
       "<table border=\"1\" class=\"dataframe\">\n",
       "  <thead>\n",
       "    <tr style=\"text-align: right;\">\n",
       "      <th></th>\n",
       "      <th>BRD4-r1</th>\n",
       "      <th>BRD4-r2</th>\n",
       "      <th>BRD4-r3</th>\n",
       "      <th>CDK6-r1</th>\n",
       "      <th>CDK6-r2</th>\n",
       "      <th>CDK6-r3</th>\n",
       "      <th>CEBPa-r1</th>\n",
       "      <th>CEBPa-r2</th>\n",
       "      <th>CEBPa-r3</th>\n",
       "      <th>ELF2-r1</th>\n",
       "      <th>...</th>\n",
       "      <th>SPI1-r1</th>\n",
       "      <th>SPI1-r2</th>\n",
       "      <th>SPI1-r3</th>\n",
       "      <th>ZEB2-r1</th>\n",
       "      <th>ZEB2-r2</th>\n",
       "      <th>ZEB2-r3</th>\n",
       "      <th>ZMYND8-r1</th>\n",
       "      <th>ZMYND8-r2</th>\n",
       "      <th>ZMYND8-r3</th>\n",
       "      <th>gene_id</th>\n",
       "    </tr>\n",
       "    <tr>\n",
       "      <th>gene_id</th>\n",
       "      <th></th>\n",
       "      <th></th>\n",
       "      <th></th>\n",
       "      <th></th>\n",
       "      <th></th>\n",
       "      <th></th>\n",
       "      <th></th>\n",
       "      <th></th>\n",
       "      <th></th>\n",
       "      <th></th>\n",
       "      <th></th>\n",
       "      <th></th>\n",
       "      <th></th>\n",
       "      <th></th>\n",
       "      <th></th>\n",
       "      <th></th>\n",
       "      <th></th>\n",
       "      <th></th>\n",
       "      <th></th>\n",
       "      <th></th>\n",
       "      <th></th>\n",
       "    </tr>\n",
       "  </thead>\n",
       "  <tbody>\n",
       "    <tr>\n",
       "      <th>TSPAN6</th>\n",
       "      <td>0.00</td>\n",
       "      <td>2.00</td>\n",
       "      <td>0.00</td>\n",
       "      <td>1.00</td>\n",
       "      <td>0.00</td>\n",
       "      <td>3.00</td>\n",
       "      <td>0.00</td>\n",
       "      <td>0.00</td>\n",
       "      <td>0.00</td>\n",
       "      <td>0.00</td>\n",
       "      <td>...</td>\n",
       "      <td>2.00</td>\n",
       "      <td>1.00</td>\n",
       "      <td>1.00</td>\n",
       "      <td>4.00</td>\n",
       "      <td>2.0</td>\n",
       "      <td>1.00</td>\n",
       "      <td>3.00</td>\n",
       "      <td>1.00</td>\n",
       "      <td>1.00</td>\n",
       "      <td>TSPAN6</td>\n",
       "    </tr>\n",
       "    <tr>\n",
       "      <th>TNMD</th>\n",
       "      <td>0.00</td>\n",
       "      <td>0.00</td>\n",
       "      <td>0.00</td>\n",
       "      <td>0.00</td>\n",
       "      <td>0.00</td>\n",
       "      <td>0.00</td>\n",
       "      <td>0.00</td>\n",
       "      <td>0.00</td>\n",
       "      <td>0.00</td>\n",
       "      <td>0.00</td>\n",
       "      <td>...</td>\n",
       "      <td>0.00</td>\n",
       "      <td>0.00</td>\n",
       "      <td>0.00</td>\n",
       "      <td>0.00</td>\n",
       "      <td>0.0</td>\n",
       "      <td>0.00</td>\n",
       "      <td>0.00</td>\n",
       "      <td>0.00</td>\n",
       "      <td>0.00</td>\n",
       "      <td>TNMD</td>\n",
       "    </tr>\n",
       "    <tr>\n",
       "      <th>DPM1</th>\n",
       "      <td>543.00</td>\n",
       "      <td>646.00</td>\n",
       "      <td>700.00</td>\n",
       "      <td>738.00</td>\n",
       "      <td>645.00</td>\n",
       "      <td>687.00</td>\n",
       "      <td>1079.00</td>\n",
       "      <td>1050.00</td>\n",
       "      <td>1149.00</td>\n",
       "      <td>613.00</td>\n",
       "      <td>...</td>\n",
       "      <td>903.00</td>\n",
       "      <td>749.00</td>\n",
       "      <td>701.00</td>\n",
       "      <td>1107.00</td>\n",
       "      <td>758.0</td>\n",
       "      <td>929.00</td>\n",
       "      <td>521.00</td>\n",
       "      <td>715.00</td>\n",
       "      <td>688.00</td>\n",
       "      <td>DPM1</td>\n",
       "    </tr>\n",
       "    <tr>\n",
       "      <th>SCYL3</th>\n",
       "      <td>158.33</td>\n",
       "      <td>191.89</td>\n",
       "      <td>158.28</td>\n",
       "      <td>205.39</td>\n",
       "      <td>161.19</td>\n",
       "      <td>219.88</td>\n",
       "      <td>303.40</td>\n",
       "      <td>346.63</td>\n",
       "      <td>327.12</td>\n",
       "      <td>195.05</td>\n",
       "      <td>...</td>\n",
       "      <td>227.20</td>\n",
       "      <td>232.98</td>\n",
       "      <td>224.73</td>\n",
       "      <td>305.21</td>\n",
       "      <td>241.5</td>\n",
       "      <td>276.69</td>\n",
       "      <td>152.57</td>\n",
       "      <td>177.88</td>\n",
       "      <td>206.75</td>\n",
       "      <td>SCYL3</td>\n",
       "    </tr>\n",
       "    <tr>\n",
       "      <th>C1orf112</th>\n",
       "      <td>260.67</td>\n",
       "      <td>250.11</td>\n",
       "      <td>293.72</td>\n",
       "      <td>332.61</td>\n",
       "      <td>262.81</td>\n",
       "      <td>242.12</td>\n",
       "      <td>549.60</td>\n",
       "      <td>502.37</td>\n",
       "      <td>571.88</td>\n",
       "      <td>286.95</td>\n",
       "      <td>...</td>\n",
       "      <td>417.80</td>\n",
       "      <td>354.02</td>\n",
       "      <td>315.27</td>\n",
       "      <td>433.79</td>\n",
       "      <td>295.5</td>\n",
       "      <td>335.31</td>\n",
       "      <td>265.43</td>\n",
       "      <td>375.12</td>\n",
       "      <td>317.25</td>\n",
       "      <td>C1orf112</td>\n",
       "    </tr>\n",
       "    <tr>\n",
       "      <th>...</th>\n",
       "      <td>...</td>\n",
       "      <td>...</td>\n",
       "      <td>...</td>\n",
       "      <td>...</td>\n",
       "      <td>...</td>\n",
       "      <td>...</td>\n",
       "      <td>...</td>\n",
       "      <td>...</td>\n",
       "      <td>...</td>\n",
       "      <td>...</td>\n",
       "      <td>...</td>\n",
       "      <td>...</td>\n",
       "      <td>...</td>\n",
       "      <td>...</td>\n",
       "      <td>...</td>\n",
       "      <td>...</td>\n",
       "      <td>...</td>\n",
       "      <td>...</td>\n",
       "      <td>...</td>\n",
       "      <td>...</td>\n",
       "      <td>...</td>\n",
       "    </tr>\n",
       "    <tr>\n",
       "      <th>ENSG00000285991</th>\n",
       "      <td>4.68</td>\n",
       "      <td>9.67</td>\n",
       "      <td>2.86</td>\n",
       "      <td>5.29</td>\n",
       "      <td>6.11</td>\n",
       "      <td>8.85</td>\n",
       "      <td>8.72</td>\n",
       "      <td>12.55</td>\n",
       "      <td>22.22</td>\n",
       "      <td>9.39</td>\n",
       "      <td>...</td>\n",
       "      <td>19.58</td>\n",
       "      <td>7.44</td>\n",
       "      <td>6.67</td>\n",
       "      <td>0.00</td>\n",
       "      <td>10.9</td>\n",
       "      <td>5.28</td>\n",
       "      <td>4.94</td>\n",
       "      <td>5.68</td>\n",
       "      <td>2.73</td>\n",
       "      <td>ENSG00000285991</td>\n",
       "    </tr>\n",
       "    <tr>\n",
       "      <th>ENSG00000285992</th>\n",
       "      <td>0.00</td>\n",
       "      <td>0.00</td>\n",
       "      <td>0.00</td>\n",
       "      <td>0.00</td>\n",
       "      <td>0.00</td>\n",
       "      <td>0.00</td>\n",
       "      <td>1.00</td>\n",
       "      <td>0.00</td>\n",
       "      <td>0.00</td>\n",
       "      <td>0.00</td>\n",
       "      <td>...</td>\n",
       "      <td>0.00</td>\n",
       "      <td>0.00</td>\n",
       "      <td>0.00</td>\n",
       "      <td>0.00</td>\n",
       "      <td>0.0</td>\n",
       "      <td>0.00</td>\n",
       "      <td>0.00</td>\n",
       "      <td>0.00</td>\n",
       "      <td>0.00</td>\n",
       "      <td>ENSG00000285992</td>\n",
       "    </tr>\n",
       "    <tr>\n",
       "      <th>ENSG00000285993</th>\n",
       "      <td>0.00</td>\n",
       "      <td>0.00</td>\n",
       "      <td>0.00</td>\n",
       "      <td>0.00</td>\n",
       "      <td>0.00</td>\n",
       "      <td>0.00</td>\n",
       "      <td>0.00</td>\n",
       "      <td>0.00</td>\n",
       "      <td>0.00</td>\n",
       "      <td>0.00</td>\n",
       "      <td>...</td>\n",
       "      <td>0.00</td>\n",
       "      <td>0.00</td>\n",
       "      <td>0.00</td>\n",
       "      <td>0.00</td>\n",
       "      <td>0.0</td>\n",
       "      <td>0.00</td>\n",
       "      <td>0.00</td>\n",
       "      <td>0.00</td>\n",
       "      <td>0.00</td>\n",
       "      <td>ENSG00000285993</td>\n",
       "    </tr>\n",
       "    <tr>\n",
       "      <th>ENSG00000285994</th>\n",
       "      <td>0.00</td>\n",
       "      <td>1.00</td>\n",
       "      <td>0.00</td>\n",
       "      <td>0.00</td>\n",
       "      <td>0.00</td>\n",
       "      <td>0.00</td>\n",
       "      <td>0.00</td>\n",
       "      <td>0.00</td>\n",
       "      <td>0.00</td>\n",
       "      <td>0.00</td>\n",
       "      <td>...</td>\n",
       "      <td>0.00</td>\n",
       "      <td>0.00</td>\n",
       "      <td>0.00</td>\n",
       "      <td>0.00</td>\n",
       "      <td>0.0</td>\n",
       "      <td>0.00</td>\n",
       "      <td>0.00</td>\n",
       "      <td>0.00</td>\n",
       "      <td>0.00</td>\n",
       "      <td>ENSG00000285994</td>\n",
       "    </tr>\n",
       "    <tr>\n",
       "      <th>ERCC-00130</th>\n",
       "      <td>0.00</td>\n",
       "      <td>0.00</td>\n",
       "      <td>0.00</td>\n",
       "      <td>0.00</td>\n",
       "      <td>0.00</td>\n",
       "      <td>0.00</td>\n",
       "      <td>0.00</td>\n",
       "      <td>0.00</td>\n",
       "      <td>0.00</td>\n",
       "      <td>0.00</td>\n",
       "      <td>...</td>\n",
       "      <td>0.00</td>\n",
       "      <td>0.00</td>\n",
       "      <td>0.00</td>\n",
       "      <td>0.00</td>\n",
       "      <td>0.0</td>\n",
       "      <td>0.00</td>\n",
       "      <td>0.00</td>\n",
       "      <td>0.00</td>\n",
       "      <td>0.00</td>\n",
       "      <td>ERCC-00130</td>\n",
       "    </tr>\n",
       "  </tbody>\n",
       "</table>\n",
       "<p>39240 rows × 73 columns</p>\n",
       "</div>"
      ],
      "text/plain": [
       "                 BRD4-r1  BRD4-r2  BRD4-r3  CDK6-r1  CDK6-r2  CDK6-r3  \\\n",
       "gene_id                                                                 \n",
       "TSPAN6              0.00     2.00     0.00     1.00     0.00     3.00   \n",
       "TNMD                0.00     0.00     0.00     0.00     0.00     0.00   \n",
       "DPM1              543.00   646.00   700.00   738.00   645.00   687.00   \n",
       "SCYL3             158.33   191.89   158.28   205.39   161.19   219.88   \n",
       "C1orf112          260.67   250.11   293.72   332.61   262.81   242.12   \n",
       "...                  ...      ...      ...      ...      ...      ...   \n",
       "ENSG00000285991     4.68     9.67     2.86     5.29     6.11     8.85   \n",
       "ENSG00000285992     0.00     0.00     0.00     0.00     0.00     0.00   \n",
       "ENSG00000285993     0.00     0.00     0.00     0.00     0.00     0.00   \n",
       "ENSG00000285994     0.00     1.00     0.00     0.00     0.00     0.00   \n",
       "ERCC-00130          0.00     0.00     0.00     0.00     0.00     0.00   \n",
       "\n",
       "                 CEBPa-r1  CEBPa-r2  CEBPa-r3  ELF2-r1  ...  SPI1-r1  SPI1-r2  \\\n",
       "gene_id                                                 ...                     \n",
       "TSPAN6               0.00      0.00      0.00     0.00  ...     2.00     1.00   \n",
       "TNMD                 0.00      0.00      0.00     0.00  ...     0.00     0.00   \n",
       "DPM1              1079.00   1050.00   1149.00   613.00  ...   903.00   749.00   \n",
       "SCYL3              303.40    346.63    327.12   195.05  ...   227.20   232.98   \n",
       "C1orf112           549.60    502.37    571.88   286.95  ...   417.80   354.02   \n",
       "...                   ...       ...       ...      ...  ...      ...      ...   \n",
       "ENSG00000285991      8.72     12.55     22.22     9.39  ...    19.58     7.44   \n",
       "ENSG00000285992      1.00      0.00      0.00     0.00  ...     0.00     0.00   \n",
       "ENSG00000285993      0.00      0.00      0.00     0.00  ...     0.00     0.00   \n",
       "ENSG00000285994      0.00      0.00      0.00     0.00  ...     0.00     0.00   \n",
       "ERCC-00130           0.00      0.00      0.00     0.00  ...     0.00     0.00   \n",
       "\n",
       "                 SPI1-r3  ZEB2-r1  ZEB2-r2  ZEB2-r3  ZMYND8-r1  ZMYND8-r2  \\\n",
       "gene_id                                                                     \n",
       "TSPAN6              1.00     4.00      2.0     1.00       3.00       1.00   \n",
       "TNMD                0.00     0.00      0.0     0.00       0.00       0.00   \n",
       "DPM1              701.00  1107.00    758.0   929.00     521.00     715.00   \n",
       "SCYL3             224.73   305.21    241.5   276.69     152.57     177.88   \n",
       "C1orf112          315.27   433.79    295.5   335.31     265.43     375.12   \n",
       "...                  ...      ...      ...      ...        ...        ...   \n",
       "ENSG00000285991     6.67     0.00     10.9     5.28       4.94       5.68   \n",
       "ENSG00000285992     0.00     0.00      0.0     0.00       0.00       0.00   \n",
       "ENSG00000285993     0.00     0.00      0.0     0.00       0.00       0.00   \n",
       "ENSG00000285994     0.00     0.00      0.0     0.00       0.00       0.00   \n",
       "ERCC-00130          0.00     0.00      0.0     0.00       0.00       0.00   \n",
       "\n",
       "                 ZMYND8-r3          gene_id  \n",
       "gene_id                                      \n",
       "TSPAN6                1.00           TSPAN6  \n",
       "TNMD                  0.00             TNMD  \n",
       "DPM1                688.00             DPM1  \n",
       "SCYL3               206.75            SCYL3  \n",
       "C1orf112            317.25         C1orf112  \n",
       "...                    ...              ...  \n",
       "ENSG00000285991       2.73  ENSG00000285991  \n",
       "ENSG00000285992       0.00  ENSG00000285992  \n",
       "ENSG00000285993       0.00  ENSG00000285993  \n",
       "ENSG00000285994       0.00  ENSG00000285994  \n",
       "ERCC-00130            0.00       ERCC-00130  \n",
       "\n",
       "[39240 rows x 73 columns]"
      ]
     },
     "execution_count": 94,
     "metadata": {},
     "output_type": "execute_result"
    }
   ],
   "source": [
    "data"
   ]
  },
  {
   "cell_type": "code",
   "execution_count": 95,
   "metadata": {},
   "outputs": [
    {
     "name": "stdout",
     "output_type": "stream",
     "text": [
      "ZEB2\n",
      "Non\n"
     ]
    },
    {
     "ename": "IndexError",
     "evalue": "list index out of range",
     "output_type": "error",
     "traceback": [
      "\u001b[0;31m---------------------------------------------------------------------------\u001b[0m",
      "\u001b[0;31mIndexError\u001b[0m                                Traceback (most recent call last)",
      "\u001b[0;32m<ipython-input-95-09e85ed07f6a>\u001b[0m in \u001b[0;36m<module>\u001b[0;34m\u001b[0m\n\u001b[1;32m      3\u001b[0m     \u001b[0mtotest\u001b[0m \u001b[0;34m=\u001b[0m \u001b[0mdata\u001b[0m\u001b[0;34m[\u001b[0m\u001b[0;34m[\u001b[0m\u001b[0mv\u001b[0m \u001b[0;32mfor\u001b[0m \u001b[0mv\u001b[0m \u001b[0;32min\u001b[0m \u001b[0mdata\u001b[0m\u001b[0;34m.\u001b[0m\u001b[0mcolumns\u001b[0m \u001b[0;32mif\u001b[0m \u001b[0mval\u001b[0m \u001b[0;32min\u001b[0m \u001b[0mv\u001b[0m \u001b[0;32mor\u001b[0m \u001b[0;34m'Non'\u001b[0m \u001b[0;32min\u001b[0m \u001b[0mv\u001b[0m\u001b[0;34m]\u001b[0m\u001b[0;34m]\u001b[0m\u001b[0;34m\u001b[0m\u001b[0;34m\u001b[0m\u001b[0m\n\u001b[1;32m      4\u001b[0m     \u001b[0mcls\u001b[0m \u001b[0;34m=\u001b[0m \u001b[0;34m[\u001b[0m\u001b[0;34m'Condition'\u001b[0m \u001b[0;32mif\u001b[0m \u001b[0mval\u001b[0m \u001b[0;32min\u001b[0m \u001b[0mv\u001b[0m \u001b[0;32melse\u001b[0m \u001b[0;34m'DMSO'\u001b[0m \u001b[0;32mfor\u001b[0m \u001b[0mv\u001b[0m \u001b[0;32min\u001b[0m \u001b[0mtotest\u001b[0m\u001b[0;34m.\u001b[0m\u001b[0mcolumns\u001b[0m\u001b[0;34m]\u001b[0m\u001b[0;34m\u001b[0m\u001b[0;34m\u001b[0m\u001b[0m\n\u001b[0;32m----> 5\u001b[0;31m     res[val] = gseapy.gsea(data=totest, gene_sets='GO_Biological_Process_2015', \n\u001b[0m\u001b[1;32m      6\u001b[0m                 cls= cls, no_plot=False, processes=6)\n\u001b[1;32m      7\u001b[0m     \u001b[0mres\u001b[0m\u001b[0;34m[\u001b[0m\u001b[0mval\u001b[0m\u001b[0;34m]\u001b[0m\u001b[0;34m.\u001b[0m\u001b[0mres2d\u001b[0m\u001b[0;34m[\u001b[0m\u001b[0;34m'Term'\u001b[0m\u001b[0;34m]\u001b[0m \u001b[0;34m=\u001b[0m \u001b[0;34m[\u001b[0m\u001b[0mi\u001b[0m\u001b[0;34m.\u001b[0m\u001b[0msplit\u001b[0m\u001b[0;34m(\u001b[0m\u001b[0;34m'_'\u001b[0m\u001b[0;34m)\u001b[0m\u001b[0;34m[\u001b[0m\u001b[0;36m0\u001b[0m\u001b[0;34m]\u001b[0m\u001b[0;34m[\u001b[0m\u001b[0;34m:\u001b[0m\u001b[0;36m50\u001b[0m\u001b[0;34m]\u001b[0m \u001b[0;32mfor\u001b[0m \u001b[0mi\u001b[0m \u001b[0;32min\u001b[0m \u001b[0mres\u001b[0m\u001b[0;34m[\u001b[0m\u001b[0mval\u001b[0m\u001b[0;34m]\u001b[0m\u001b[0;34m.\u001b[0m\u001b[0mres2d\u001b[0m\u001b[0;34m.\u001b[0m\u001b[0mindex\u001b[0m\u001b[0;34m]\u001b[0m\u001b[0;34m\u001b[0m\u001b[0;34m\u001b[0m\u001b[0m\n",
      "\u001b[0;32m~/.local/lib/python3.8/site-packages/gseapy/gsea.py\u001b[0m in \u001b[0;36mgsea\u001b[0;34m(data, gene_sets, cls, outdir, min_size, max_size, permutation_num, weighted_score_type, permutation_type, method, ascending, processes, figsize, format, graph_num, no_plot, seed, verbose)\u001b[0m\n\u001b[1;32m    950\u001b[0m               \u001b[0mweighted_score_type\u001b[0m\u001b[0;34m,\u001b[0m \u001b[0mpermutation_type\u001b[0m\u001b[0;34m,\u001b[0m \u001b[0mmethod\u001b[0m\u001b[0;34m,\u001b[0m \u001b[0mascending\u001b[0m\u001b[0;34m,\u001b[0m \u001b[0mprocesses\u001b[0m\u001b[0;34m,\u001b[0m\u001b[0;34m\u001b[0m\u001b[0;34m\u001b[0m\u001b[0m\n\u001b[1;32m    951\u001b[0m                figsize, format, graph_num, no_plot, seed, verbose)\n\u001b[0;32m--> 952\u001b[0;31m     \u001b[0mgs\u001b[0m\u001b[0;34m.\u001b[0m\u001b[0mrun\u001b[0m\u001b[0;34m(\u001b[0m\u001b[0;34m)\u001b[0m\u001b[0;34m\u001b[0m\u001b[0;34m\u001b[0m\u001b[0m\n\u001b[0m\u001b[1;32m    953\u001b[0m \u001b[0;34m\u001b[0m\u001b[0m\n\u001b[1;32m    954\u001b[0m     \u001b[0;32mreturn\u001b[0m \u001b[0mgs\u001b[0m\u001b[0;34m\u001b[0m\u001b[0;34m\u001b[0m\u001b[0m\n",
      "\u001b[0;32m~/.local/lib/python3.8/site-packages/gseapy/gsea.py\u001b[0m in \u001b[0;36mrun\u001b[0;34m(self)\u001b[0m\n\u001b[1;32m    403\u001b[0m         \u001b[0mself\u001b[0m\u001b[0;34m.\u001b[0m\u001b[0m_logger\u001b[0m\u001b[0;34m.\u001b[0m\u001b[0minfo\u001b[0m\u001b[0;34m(\u001b[0m\u001b[0;34m\"Parsing data files for GSEA.............................\"\u001b[0m\u001b[0;34m)\u001b[0m\u001b[0;34m\u001b[0m\u001b[0;34m\u001b[0m\u001b[0m\n\u001b[1;32m    404\u001b[0m         \u001b[0;31m# phenotype labels parsing\u001b[0m\u001b[0;34m\u001b[0m\u001b[0;34m\u001b[0m\u001b[0;34m\u001b[0m\u001b[0m\n\u001b[0;32m--> 405\u001b[0;31m         \u001b[0mphenoPos\u001b[0m\u001b[0;34m,\u001b[0m \u001b[0mphenoNeg\u001b[0m\u001b[0;34m,\u001b[0m \u001b[0mcls_vector\u001b[0m \u001b[0;34m=\u001b[0m \u001b[0mgsea_cls_parser\u001b[0m\u001b[0;34m(\u001b[0m\u001b[0mself\u001b[0m\u001b[0;34m.\u001b[0m\u001b[0mclasses\u001b[0m\u001b[0;34m)\u001b[0m\u001b[0;34m\u001b[0m\u001b[0;34m\u001b[0m\u001b[0m\n\u001b[0m\u001b[1;32m    406\u001b[0m         \u001b[0;31m# select correct expression genes and values.\u001b[0m\u001b[0;34m\u001b[0m\u001b[0;34m\u001b[0m\u001b[0;34m\u001b[0m\u001b[0m\n\u001b[1;32m    407\u001b[0m         \u001b[0mdat\u001b[0m\u001b[0;34m,\u001b[0m \u001b[0mcls_dict\u001b[0m \u001b[0;34m=\u001b[0m \u001b[0mself\u001b[0m\u001b[0;34m.\u001b[0m\u001b[0mload_data\u001b[0m\u001b[0;34m(\u001b[0m\u001b[0mcls_vector\u001b[0m\u001b[0;34m)\u001b[0m\u001b[0;34m\u001b[0m\u001b[0;34m\u001b[0m\u001b[0m\n",
      "\u001b[0;32m~/.local/lib/python3.8/site-packages/gseapy/parser.py\u001b[0m in \u001b[0;36mgsea_cls_parser\u001b[0;34m(cls)\u001b[0m\n\u001b[1;32m     30\u001b[0m         \u001b[0;32mraise\u001b[0m \u001b[0mException\u001b[0m\u001b[0;34m(\u001b[0m\u001b[0;34m'Error parsing sample name!'\u001b[0m\u001b[0;34m)\u001b[0m\u001b[0;34m\u001b[0m\u001b[0;34m\u001b[0m\u001b[0m\n\u001b[1;32m     31\u001b[0m \u001b[0;34m\u001b[0m\u001b[0m\n\u001b[0;32m---> 32\u001b[0;31m     \u001b[0;32mreturn\u001b[0m \u001b[0msample_name\u001b[0m\u001b[0;34m[\u001b[0m\u001b[0;36m0\u001b[0m\u001b[0;34m]\u001b[0m\u001b[0;34m,\u001b[0m \u001b[0msample_name\u001b[0m\u001b[0;34m[\u001b[0m\u001b[0;36m1\u001b[0m\u001b[0;34m]\u001b[0m\u001b[0;34m,\u001b[0m \u001b[0mclasses\u001b[0m\u001b[0;34m\u001b[0m\u001b[0;34m\u001b[0m\u001b[0m\n\u001b[0m\u001b[1;32m     33\u001b[0m \u001b[0;34m\u001b[0m\u001b[0m\n\u001b[1;32m     34\u001b[0m \u001b[0;32mdef\u001b[0m \u001b[0mgsea_edb_parser\u001b[0m\u001b[0;34m(\u001b[0m\u001b[0mresults_path\u001b[0m\u001b[0;34m)\u001b[0m\u001b[0;34m:\u001b[0m\u001b[0;34m\u001b[0m\u001b[0;34m\u001b[0m\u001b[0m\n",
      "\u001b[0;31mIndexError\u001b[0m: list index out of range"
     ]
    }
   ],
   "source": [
    "for i, val in enumerate(experiments):\n",
    "    print(val)\n",
    "    totest = data[[v for v in data.columns if val in v or 'Non' in v]]\n",
    "    cls = ['Condition' if val in v else 'DMSO' for v in totest.columns]\n",
    "    res[val] = gseapy.gsea(data=totest, gene_sets='GO_Biological_Process_2015', \n",
    "                cls= cls, no_plot=False, processes=6)\n",
    "    res[val].res2d['Term'] = [i.split('_')[0][:50] for i in res[val].res2d.index]\n",
    "    plt.figure(i)\n",
    "    sns.barplot(data=res[val].res2d.iloc[:25], x=\"es\", y=\"Term\",\n",
    "                hue_order=\"geneset_size\").set_title(val)"
   ]
  },
  {
   "cell_type": "code",
   "execution_count": null,
   "metadata": {},
   "outputs": [],
   "source": [
    "with open('GO_Biological_Process_2015', 'wb') as f:\n",
    "    pickle.dump(res,f)"
   ]
  },
  {
   "cell_type": "code",
   "execution_count": null,
   "metadata": {},
   "outputs": [],
   "source": [
    "with open('GO_Biological_Process_2015','rb') as f:\n",
    "    res = pickle.load(f)"
   ]
  },
  {
   "cell_type": "markdown",
   "metadata": {},
   "source": [
    "creating matrices"
   ]
  },
  {
   "cell_type": "code",
   "execution_count": null,
   "metadata": {},
   "outputs": [],
   "source": [
    "a = set()\n",
    "for k, val in res.items():\n",
    "    a.update(set(val.res2d.Term))\n",
    "a = {i:[0]*len(res) for i in a}\n",
    "for n,(k, val) in enumerate(res.items()):\n",
    "    for i,v in val.res2d.iterrows():\n",
    "        a[v.Term][n] = v.es\n",
    "res = pd.DataFrame(a, index=res.keys())\n",
    "fig, ax = plt.subplots(figsize=(20,15))\n",
    "sns.heatmap(ax=ax,data=res)"
   ]
  },
  {
   "cell_type": "code",
   "execution_count": null,
   "metadata": {},
   "outputs": [],
   "source": [
    "model = AgglomerativeClustering(n_clusters=5,linkage=\"average\", \n",
    "                                affinity=\"cosine\", compute_full_tree=True)\n",
    "labels = model.fit_predict(res)\n",
    "ii = itertools.count(res.shape[0])\n",
    "tree = [{'node_id': next(ii), 'left': x[0], 'right':x[1]} for x in model.children_]"
   ]
  },
  {
   "cell_type": "code",
   "execution_count": null,
   "metadata": {},
   "outputs": [],
   "source": [
    "sort = labels.argsort()"
   ]
  },
  {
   "cell_type": "code",
   "execution_count": null,
   "metadata": {},
   "outputs": [],
   "source": [
    "a = plotCorrelationMatrix(res.values[sort],res.index[sort].tolist(),interactive=True)"
   ]
  },
  {
   "cell_type": "code",
   "execution_count": null,
   "metadata": {},
   "outputs": [],
   "source": [
    "show(a)"
   ]
  },
  {
   "cell_type": "code",
   "execution_count": null,
   "metadata": {},
   "outputs": [],
   "source": [
    "cluster1= ['LMO2','LYL1','MAX','MEF2C']\n",
    "cluster2=['GFI1','FLI1','MYB','IKZF1','ELF2','CEBPa','MEIS1']\n",
    "cluster3=['IRF2BP2','MEF2C','CDK6','MEF2D','IRF8','BRD4','MYC']\n",
    "cluster4= ['RUNX1','RUNX2','ZMYND8']"
   ]
  },
  {
   "cell_type": "code",
   "execution_count": null,
   "metadata": {},
   "outputs": [],
   "source": [
    "res.loc[cluster2].mean().sort_values()"
   ]
  },
  {
   "cell_type": "code",
   "execution_count": null,
   "metadata": {},
   "outputs": [],
   "source": [
    "'GO_Molecular_Function_2015',\n",
    "'GeneSigDB',\n",
    "'ENCODE_TF_ChIP-seq_2014',\n",
    "#'Drug_Perturbations_from_GEO_2014',\n",
    "'GO_Cellular_Component_2015',\n",
    "'GO_Biological_Process_2015',\n",
    "'PPI_Hub_Proteins',\n",
    "'WikiPathways_2013',\n",
    "'TF-LOF_Expression_from_GEO',\n",
    "# msig db C2 C6 H http://software.broadinstitute.org/gsea/msigdb/annotate.jsp\n",
    "# max's crc"
   ]
  },
  {
   "cell_type": "markdown",
   "metadata": {},
   "source": [
    "## compare to the drop of CTF"
   ]
  },
  {
   "cell_type": "code",
   "execution_count": null,
   "metadata": {},
   "outputs": [],
   "source": [
    "ctf = [\n",
    " 'BRD4',\n",
    " 'CDK6',\n",
    " 'CEBPA',\n",
    " 'ELF2',\n",
    " 'FLI1',\n",
    " 'GFI1',\n",
    " 'IKZF1',\n",
    " 'IRF2BP2',\n",
    " 'IRF8',\n",
    " 'LMO2',\n",
    " 'LYL1',\n",
    " 'MAX',\n",
    " 'MEF2C',\n",
    " 'MEF2D',\n",
    " 'MEIS1',\n",
    " 'MYB',\n",
    " 'MYC',\n",
    " 'RUNX1',\n",
    " 'RUNX2',\n",
    " 'SPI1',\n",
    " 'ZEB2',\n",
    " 'ZMYND8'\n",
    "]"
   ]
  },
  {
   "cell_type": "code",
   "execution_count": null,
   "metadata": {},
   "outputs": [],
   "source": [
    "deseq = pd.DataFrame()\n",
    "for k, val in results.items():\n",
    "    deseq[k] = val.log2FoldChange\n",
    "deseq=deseq.T"
   ]
  },
  {
   "cell_type": "code",
   "execution_count": null,
   "metadata": {},
   "outputs": [],
   "source": [
    "deseq"
   ]
  },
  {
   "cell_type": "code",
   "execution_count": null,
   "metadata": {},
   "outputs": [],
   "source": [
    "a = plotCorrelationMatrix(a,\n",
    "                          deseq.index[sort].tolist(),interactive=True)"
   ]
  },
  {
   "cell_type": "code",
   "execution_count": null,
   "metadata": {},
   "outputs": [],
   "source": [
    "ctf[11] = 'CEBPa'\n",
    "ctf[]"
   ]
  },
  {
   "cell_type": "code",
   "execution_count": null,
   "metadata": {},
   "outputs": [],
   "source": [
    "ctf"
   ]
  },
  {
   "cell_type": "markdown",
   "metadata": {},
   "source": [
    "dropping ETV6 SP1  GSE1 LDB1"
   ]
  },
  {
   "cell_type": "code",
   "execution_count": null,
   "metadata": {},
   "outputs": [],
   "source": [
    "deseq.loc[['MYC',\n",
    " 'MYB',\n",
    " 'SPI1',\n",
    " 'RUNX1',\n",
    " 'IRF2BP2',\n",
    " 'FLI1',\n",
    " 'ELF2',\n",
    " 'ZEB2',\n",
    " 'GFI1',\n",
    " 'LMO2',\n",
    " 'CEBPa',\n",
    " 'MEF2D',\n",
    " 'MEF2C',\n",
    " 'IRF8',\n",
    " 'MEIS1',\n",
    " 'RUNX2',\n",
    " 'RUNX2',\n",
    " 'ZMYND8']]"
   ]
  },
  {
   "cell_type": "code",
   "execution_count": null,
   "metadata": {},
   "outputs": [],
   "source": [
    "show(a)"
   ]
  },
  {
   "cell_type": "code",
   "execution_count": null,
   "metadata": {},
   "outputs": [],
   "source": [
    "deseq_ctf = deseq.loc[['MYC',\n",
    " 'MYB',\n",
    " 'SPI1',\n",
    " 'RUNX1',\n",
    " 'IRF2BP2',\n",
    " 'FLI1',\n",
    " 'ELF2',\n",
    " 'ZEB2',\n",
    " 'GFI1',\n",
    " 'LMO2',\n",
    " 'CEBPa',\n",
    " 'MEF2D',\n",
    " 'MEF2C',\n",
    " 'IRF8',\n",
    " 'MEIS1',\n",
    " 'RUNX2',\n",
    " 'ZMYND8']]\n",
    "model = AgglomerativeClustering(n_clusters=7,linkage=\"average\", \n",
    "                                affinity=\"cosine\", compute_full_tree=True)\n",
    "labels = model.fit_predict(deseq_ctf)\n",
    "ii = itertools.count(deseq_ctf.shape[0])\n",
    "tree = [{'node_id': next(ii), 'left': x[0], 'right':x[1]} for x in model.children_]\n",
    "sort = labels.argsort()\n",
    "a = deseq_ctf.values[sort]\n",
    "a = plotCorrelationMatrix(a, deseq_ctf.index[sort].tolist(),interactive=True)"
   ]
  },
  {
   "cell_type": "code",
   "execution_count": null,
   "metadata": {},
   "outputs": [],
   "source": [
    "show(a)"
   ]
  },
  {
   "cell_type": "code",
   "execution_count": null,
   "metadata": {},
   "outputs": [],
   "source": [
    "model = AgglomerativeClustering(n_clusters=7,linkage=\"average\", \n",
    "                                affinity=\"cosine\", compute_full_tree=True)\n",
    "labels = model.fit_predict(deseq)\n",
    "ii = itertools.count(deseq.shape[0])\n",
    "tree = [{'node_id': next(ii), 'left': x[0], 'right':x[1]} for x in model.children_]\n",
    "sort = labels.argsort()\n",
    "a = deseq.values[sort]\n",
    "a = plotCorrelationMatrix(a, deseq.index[sort].tolist(),interactive=True)"
   ]
  },
  {
   "cell_type": "code",
   "execution_count": null,
   "metadata": {},
   "outputs": [],
   "source": [
    "show(a)"
   ]
  },
  {
   "cell_type": "markdown",
   "metadata": {},
   "source": [
    "tsne, pca, clustering accross TF, CRC, most var genes, both ways."
   ]
  }
 ],
 "metadata": {
  "kernelspec": {
   "display_name": "Python 3",
   "language": "python",
   "name": "python3"
  },
  "language_info": {
   "codemirror_mode": {
    "name": "ipython",
    "version": 3
   },
   "file_extension": ".py",
   "mimetype": "text/x-python",
   "name": "python",
   "nbconvert_exporter": "python",
   "pygments_lexer": "ipython3",
   "version": "3.8.3rc1"
  },
  "toc": {
   "base_numbering": 1,
   "nav_menu": {},
   "number_sections": false,
   "sideBar": false,
   "skip_h1_title": false,
   "title_cell": "Table of Contents",
   "title_sidebar": "Contents",
   "toc_cell": false,
   "toc_position": {},
   "toc_section_display": false,
   "toc_window_display": false
  },
  "varInspector": {
   "cols": {
    "lenName": 16,
    "lenType": 16,
    "lenVar": 40
   },
   "kernels_config": {
    "python": {
     "delete_cmd_postfix": "",
     "delete_cmd_prefix": "del ",
     "library": "var_list.py",
     "varRefreshCmd": "print(var_dic_list())"
    },
    "r": {
     "delete_cmd_postfix": ") ",
     "delete_cmd_prefix": "rm(",
     "library": "var_list.r",
     "varRefreshCmd": "cat(var_dic_list()) "
    }
   },
   "types_to_exclude": [
    "module",
    "function",
    "builtin_function_or_method",
    "instance",
    "_Feature"
   ],
   "window_display": false
  }
 },
 "nbformat": 4,
 "nbformat_minor": 2
}
