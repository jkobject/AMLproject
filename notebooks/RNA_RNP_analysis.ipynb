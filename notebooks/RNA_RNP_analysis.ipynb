{
 "cells": [
  {
   "cell_type": "code",
   "execution_count": null,
   "metadata": {},
   "outputs": [],
   "source": [
    "from __future__ import print_function\n",
    "import os.path\n",
    "import dalmatian as dm\n",
    "import pandas as pd\n",
    "import sys\n",
    "sys.path.insert(0, '../..')\n",
    "from JKBio import TerraFunction as terra\n",
    "%load_ext autoreload\n",
    "from JKBio import Helper as h\n",
    "%autoreload 2\n",
    "import pickle\n",
    "%load_ext rpy2.ipython\n",
    "#%load_ext rpy2.ipython\n",
    "from taigapy import TaigaClient\n",
    "tc = TaigaClient()\n",
    "import numpy as np\n",
    "import itertools\n",
    "\n",
    "from bokeh.plotting import *\n",
    "from bokeh.models import HoverTool\n",
    "output_notebook()\n",
    "import matplotlib.pyplot as plt\n",
    "%matplotlib inline\n",
    "import seaborn as sns\n",
    "import gseapy\n",
    "from JKBio.helper import pyDESeq2\n",
    "from sklearn.neighbors import KNeighborsClassifier\n",
    "from sklearn.cluster import AgglomerativeClustering\n",
    "\n",
    "from sklearn.manifold import MDS, TSNE\n",
    "from sklearn.decomposition import PCA\n",
    "from sklearn.preprocessing import scale"
   ]
  },
  {
   "cell_type": "code",
   "execution_count": null,
   "metadata": {},
   "outputs": [],
   "source": [
    "! gsutil -m mv gs://transfer-amlproject/*.fastq.gz gs://transfer-amlproject/RNPv3/"
   ]
  },
  {
   "cell_type": "code",
   "execution_count": null,
   "metadata": {},
   "outputs": [],
   "source": [
    "sampleset='RNPv3'"
   ]
  },
  {
   "cell_type": "code",
   "execution_count": null,
   "metadata": {},
   "outputs": [],
   "source": [
    "terra.uploadFromFolder('transfer-amlproject','RNPv3/',\n",
    "                       'broad-firecloud-ccle/hg38_RNAseq',samplesetname=sampleset,\n",
    "                      fformat=\"fastqR1R2\",loc=1)"
   ]
  },
  {
   "cell_type": "code",
   "execution_count": null,
   "metadata": {},
   "outputs": [],
   "source": [
    "wm = dm.WorkspaceManager('broad-firecloud-ccle/hg38_RNAseq')"
   ]
  },
  {
   "cell_type": "code",
   "execution_count": null,
   "metadata": {},
   "outputs": [],
   "source": [
    "submission_id = wm.create_submission(\"star_v1-0_BETA_cfg\", sampleset, 'sample_set',expression='this.samples')"
   ]
  },
  {
   "cell_type": "code",
   "execution_count": null,
   "metadata": {},
   "outputs": [],
   "source": [
    "terra.waitForSubmission('broad-firecloud-ccle/hg38_RNAseq', submission_id)"
   ]
  },
  {
   "cell_type": "code",
   "execution_count": null,
   "metadata": {},
   "outputs": [],
   "source": [
    "submission_id = wm.create_submission(\"rsem_v1-0_BETA_cfg\", \n",
    "                                      sampleset,'sample_set',expression='this.samples')\n",
    "terra.waitForSubmission('broad-firecloud-ccle/hg38_RNAseq', submission_id)"
   ]
  },
  {
   "cell_type": "code",
   "execution_count": null,
   "metadata": {},
   "outputs": [],
   "source": [
    "submission_id = wm.create_submission(\"rsem_aggregate_results_v1-0_BETA_cfg\", \n",
    "                                         samplesetname)\n",
    "terra.waitForSubmission('broad-firecloud-ccle/hg38_RNAseq', submission_id)"
   ]
  },
  {
   "cell_type": "code",
   "execution_count": null,
   "metadata": {},
   "outputs": [],
   "source": [
    "results = wm.get_sample_sets().loc[sampleset]\n",
    "rsem_genes_expected_count = results['rsem_genes_expected_count']"
   ]
  },
  {
   "cell_type": "code",
   "execution_count": null,
   "metadata": {},
   "outputs": [],
   "source": [
    "results"
   ]
  },
  {
   "cell_type": "code",
   "execution_count": null,
   "metadata": {},
   "outputs": [],
   "source": [
    "! gsutil cp $rsem_genes_expected_count data/"
   ]
  },
  {
   "cell_type": "code",
   "execution_count": null,
   "metadata": {},
   "outputs": [],
   "source": [
    "file = 'data/'+rsem_genes_expected_count.split('/')[-1]"
   ]
  },
  {
   "cell_type": "code",
   "execution_count": null,
   "metadata": {},
   "outputs": [],
   "source": [
    "file"
   ]
  },
  {
   "cell_type": "code",
   "execution_count": null,
   "metadata": {},
   "outputs": [],
   "source": [
    "! gunzip $file"
   ]
  },
  {
   "cell_type": "code",
   "execution_count": null,
   "metadata": {},
   "outputs": [],
   "source": [
    "rsem_genes_expected_count = pd.read_csv(file[:-3], sep='\\t')"
   ]
  },
  {
   "cell_type": "code",
   "execution_count": null,
   "metadata": {},
   "outputs": [],
   "source": [
    "data = rsem_genes_expected_count.drop(\"transcript_id(s)\",1)"
   ]
  },
  {
   "cell_type": "code",
   "execution_count": null,
   "metadata": {},
   "outputs": [],
   "source": [
    "data[\"gene_id\"] = convertGenes(data['gene_id'])[0]"
   ]
  },
  {
   "cell_type": "code",
   "execution_count": null,
   "metadata": {},
   "outputs": [],
   "source": [
    "data=data.set_index('gene_id')"
   ]
  },
  {
   "cell_type": "code",
   "execution_count": null,
   "metadata": {},
   "outputs": [],
   "source": [
    "experiments = set([i.split('-')[0] for i in data.columns])\n",
    "experiments"
   ]
  },
  {
   "cell_type": "markdown",
   "metadata": {},
   "source": [
    "## pre processing "
   ]
  },
  {
   "cell_type": "markdown",
   "metadata": {},
   "source": [
    "filter some more"
   ]
  },
  {
   "cell_type": "code",
   "execution_count": null,
   "metadata": {},
   "outputs": [],
   "source": [
    "toremove = np.argwhere(data.values.var(1)==0)\n",
    "toremove.ravel()"
   ]
  },
  {
   "cell_type": "code",
   "execution_count": null,
   "metadata": {},
   "outputs": [],
   "source": [
    "toremove.shape"
   ]
  },
  {
   "cell_type": "code",
   "execution_count": null,
   "metadata": {},
   "outputs": [],
   "source": [
    "data = data.drop(data.iloc[toremove.ravel()].index,0)"
   ]
  },
  {
   "cell_type": "code",
   "execution_count": null,
   "metadata": {},
   "outputs": [],
   "source": [
    "data.shape"
   ]
  },
  {
   "cell_type": "markdown",
   "metadata": {},
   "source": [
    "renormalize the data"
   ]
  },
  {
   "cell_type": "markdown",
   "metadata": {},
   "source": [
    "## Getting the Core TF information"
   ]
  },
  {
   "cell_type": "code",
   "execution_count": null,
   "metadata": {},
   "outputs": [],
   "source": [
    "ctf=pd.read_csv('data/CTF.csv',header=None)[0].values.tolist()\n",
    "ctf"
   ]
  },
  {
   "cell_type": "code",
   "execution_count": null,
   "metadata": {},
   "outputs": [],
   "source": [
    "genenames = data.index\n",
    "ctfpos = [i for i, val in enumerate(genenames) if val in ctf]\n",
    "notctfpos = [i for i, val in enumerate(genenames) if val not in ctf]"
   ]
  },
  {
   "cell_type": "markdown",
   "metadata": {},
   "source": [
    "We find a CTF not in the dataset"
   ]
  },
  {
   "cell_type": "code",
   "execution_count": null,
   "metadata": {},
   "outputs": [],
   "source": [
    "[val for val in ctf if val not in genenames]"
   ]
  },
  {
   "cell_type": "code",
   "execution_count": null,
   "metadata": {},
   "outputs": [],
   "source": [
    "ctf.remove('IKAROS')"
   ]
  },
  {
   "cell_type": "markdown",
   "metadata": {},
   "source": [
    "## DESEQ ANALYSIS"
   ]
  },
  {
   "cell_type": "code",
   "execution_count": null,
   "metadata": {},
   "outputs": [],
   "source": [
    "expe = {}\n",
    "for val in experiments: \n",
    "    expe[val] = [1 if val in col else 0 for col in data.columns]"
   ]
  },
  {
   "cell_type": "code",
   "execution_count": null,
   "metadata": {},
   "outputs": [],
   "source": [
    "data = data.reset_index()"
   ]
  },
  {
   "cell_type": "code",
   "execution_count": null,
   "metadata": {},
   "outputs": [],
   "source": [
    "experiments.remove('Non')\n",
    "results = {}"
   ]
  },
  {
   "cell_type": "code",
   "execution_count": null,
   "metadata": {},
   "outputs": [],
   "source": [
    "experiments - set(ctf)"
   ]
  },
  {
   "cell_type": "code",
   "execution_count": null,
   "metadata": {},
   "outputs": [],
   "source": [
    "experiments"
   ]
  },
  {
   "cell_type": "code",
   "execution_count": null,
   "metadata": {},
   "outputs": [],
   "source": [
    "for val in experiments:  \n",
    "    design = pd.DataFrame(index=data.columns[1:], columns=['DMSO','Target'], \n",
    "                          data=np.array([expe['Non'],expe[val]]).T)\n",
    "    design.index = design.index.astype(str).str.replace('-','.')\n",
    "    deseq = pyDESeq2.pyDESeq2(count_matrix=data, design_matrix = design, \n",
    "                              design_formula='~DMSO + Target', gene_column=\"gene_id\")\n",
    "    deseq.run_deseq()\n",
    "    deseq.get_deseq_result()\n",
    "    r = deseq.deseq_result\n",
    "    r.pvalue = np.nan_to_num(np.array(r.pvalue), 1)\n",
    "    r.log2FoldChange = np.nan_to_num(np.array(r.log2FoldChange), 0)\n",
    "    results[val] = r"
   ]
  },
  {
   "cell_type": "markdown",
   "metadata": {},
   "source": [
    "## what are most downregulated (volcano)"
   ]
  },
  {
   "cell_type": "code",
   "execution_count": null,
   "metadata": {},
   "outputs": [],
   "source": [
    "MS2res.pvalue = np.nan_to_num(np.array(MS2res.pvalue), 1)\n",
    "MS2res.log2FoldChange = np.nan_to_num(np.array(MS2res.log2FoldChange), 0)\n",
    "MS2res.gene_id = convertGenes(MS2res.gene_id)[0]\n",
    "show(volcano(MS2res,tohighlight=ctf))"
   ]
  },
  {
   "cell_type": "markdown",
   "metadata": {},
   "source": [
    "## CTF (volcano)"
   ]
  },
  {
   "cell_type": "code",
   "execution_count": null,
   "metadata": {},
   "outputs": [],
   "source": [
    "results"
   ]
  },
  {
   "cell_type": "code",
   "execution_count": null,
   "metadata": {},
   "outputs": [],
   "source": [
    "for val in experiments:\n",
    "    a = volcano(results[val],tohighlight=ctf,title=val)\n",
    "    try:\n",
    "        show(a)\n",
    "    except RuntimeError:\n",
    "        show(a)"
   ]
  },
  {
   "cell_type": "code",
   "execution_count": null,
   "metadata": {},
   "outputs": [],
   "source": [
    "data = data.set_index('gene_id')"
   ]
  },
  {
   "cell_type": "markdown",
   "metadata": {},
   "source": [
    "## any bias in the data"
   ]
  },
  {
   "cell_type": "code",
   "execution_count": null,
   "metadata": {},
   "outputs": [],
   "source": [
    "red = PCA(50).fit_transform(data.T)\n",
    "a = scatter(red, labels=data.columns)"
   ]
  },
  {
   "cell_type": "code",
   "execution_count": null,
   "metadata": {},
   "outputs": [],
   "source": [
    "red.shape"
   ]
  },
  {
   "cell_type": "code",
   "execution_count": null,
   "metadata": {},
   "outputs": [],
   "source": [
    "red = TSNE(2,10).fit_transform(red)"
   ]
  },
  {
   "cell_type": "code",
   "execution_count": null,
   "metadata": {},
   "outputs": [],
   "source": [
    "a = scatter(red[:,:2], labels=data.columns, radi=10)"
   ]
  },
  {
   "cell_type": "code",
   "execution_count": null,
   "metadata": {},
   "outputs": [],
   "source": [
    "show(a)"
   ]
  },
  {
   "cell_type": "code",
   "execution_count": null,
   "metadata": {},
   "outputs": [],
   "source": [
    "dataclean = data[data.max(1) > 10].drop(['LMO2-r1','LMO2-r2','LMO2-r3'],1)"
   ]
  },
  {
   "cell_type": "code",
   "execution_count": null,
   "metadata": {},
   "outputs": [],
   "source": [
    "for val in grouped(dataclean.columns,3):\n",
    "    val = list(val)\n",
    "    dataclean[val[0].split('-')[0]] = dataclean[val].mean(1)\n",
    "    dataclean = dataclean.drop(val,1)"
   ]
  },
  {
   "cell_type": "code",
   "execution_count": null,
   "metadata": {},
   "outputs": [],
   "source": [
    "pca = PCA(20)\n",
    "red = pca.fit_transform(dataclean.T)"
   ]
  },
  {
   "cell_type": "code",
   "execution_count": null,
   "metadata": {},
   "outputs": [],
   "source": [
    "pca.explained_variance_ratio_"
   ]
  },
  {
   "cell_type": "code",
   "execution_count": null,
   "metadata": {},
   "outputs": [],
   "source": [
    "a = scatter(red[:,:2], labels=dataclean.columns, radi=4000, title='batch effect RNP')"
   ]
  },
  {
   "cell_type": "markdown",
   "metadata": {},
   "source": [
    "MAX CEBPa ZEB2 "
   ]
  },
  {
   "cell_type": "code",
   "execution_count": null,
   "metadata": {},
   "outputs": [],
   "source": [
    "show(a)"
   ]
  },
  {
   "cell_type": "code",
   "execution_count": null,
   "metadata": {},
   "outputs": [],
   "source": [
    "save(a,'data/plots/batcheffect_RNP.html')"
   ]
  },
  {
   "cell_type": "markdown",
   "metadata": {},
   "source": [
    "## GSEA analysis"
   ]
  },
  {
   "cell_type": "code",
   "execution_count": null,
   "metadata": {},
   "outputs": [],
   "source": [
    "res = {}"
   ]
  },
  {
   "cell_type": "code",
   "execution_count": null,
   "metadata": {},
   "outputs": [],
   "source": [
    "for val in experiments:\n",
    "    print(val)\n",
    "    totest = data[[v for v in data.columns if val in v or 'Non' in v]]\n",
    "    cls = ['Condition' if val in v else 'DMSO' for v in totest.columns]\n",
    "    res[val] = gseapy.gsea(data=totest, gene_sets='WikiPathways_2013', \n",
    "                cls= cls, no_plot=False, processes=6)\n",
    "    res[val].res2d['Term'] = [i.split('_')[0][:50] for i in res[val].res2d.index]\n",
    "    \n",
    "    sns.barplot(data=res[val].res2d.iloc[:25], x=\"es\", y=\"Term\",\n",
    "                hue_order=\"geneset_size\").set_title(val)"
   ]
  },
  {
   "cell_type": "code",
   "execution_count": null,
   "metadata": {},
   "outputs": [],
   "source": [
    "with open('wikipathway', 'wb') as f:\n",
    "    pickle.dump(res,f)"
   ]
  },
  {
   "cell_type": "code",
   "execution_count": null,
   "metadata": {},
   "outputs": [],
   "source": [
    "with open('wikipathway','rb') as f:\n",
    "    res = pickle.load(f)"
   ]
  },
  {
   "cell_type": "code",
   "execution_count": null,
   "metadata": {},
   "outputs": [],
   "source": [
    "for i, val in enumerate(experiments):\n",
    "    plt.figure(i)\n",
    "    res[val].res2d.Term = [' '.join(i.split('_')[1:-2]) for i in res[val].res2d.index]\n",
    "    sns.barplot(data=res[val].res2d.iloc[:25], x=\"es\", y=\"Term\",\n",
    "                hue_order=\"geneset_size\").set_title(val)"
   ]
  },
  {
   "cell_type": "code",
   "execution_count": null,
   "metadata": {},
   "outputs": [],
   "source": [
    "a = set()\n",
    "for k, val in res.items():\n",
    "    a.update(set(val.res2d.index))\n",
    "a = {i:[0]*len(res) for i in a}\n",
    "for n,(k, val) in enumerate(res.items()):\n",
    "    for i,v in val.res2d.iterrows():\n",
    "        a[i][n] = v.es\n",
    "res = pd.DataFrame(a, index=res.keys())\n",
    "fig, ax = plt.subplots(figsize=(20,15))\n",
    "sns.heatmap(ax=ax,data=res)"
   ]
  },
  {
   "cell_type": "code",
   "execution_count": null,
   "metadata": {},
   "outputs": [],
   "source": [
    "model = AgglomerativeClustering(n_clusters=6,linkage=\"average\", \n",
    "                                affinity=\"cosine\", compute_full_tree=True)\n",
    "labels = model.fit_predict(res)\n",
    "ii = itertools.count(res.shape[0])\n",
    "tree = [{'node_id': next(ii), 'left': x[0], 'right':x[1]} for x in model.children_]\n",
    "sort = labels.argsort()\n",
    "a = plotCorrelationMatrix(res.values[sort],res.index[sort].tolist(),interactive=True)"
   ]
  },
  {
   "cell_type": "code",
   "execution_count": null,
   "metadata": {},
   "outputs": [],
   "source": [
    "fig, ax = plt.subplots(figsize=(20,15))\n",
    "sns.heatmap(ax=ax,data=res)"
   ]
  },
  {
   "cell_type": "code",
   "execution_count": null,
   "metadata": {},
   "outputs": [],
   "source": [
    "fig.savefig(\"enriched_terms.png\")"
   ]
  },
  {
   "cell_type": "code",
   "execution_count": null,
   "metadata": {},
   "outputs": [],
   "source": [
    "show(a)"
   ]
  },
  {
   "cell_type": "code",
   "execution_count": null,
   "metadata": {},
   "outputs": [],
   "source": [
    "fi"
   ]
  },
  {
   "cell_type": "code",
   "execution_count": null,
   "metadata": {},
   "outputs": [],
   "source": [
    "experiments"
   ]
  },
  {
   "cell_type": "code",
   "execution_count": null,
   "metadata": {},
   "outputs": [],
   "source": [
    "data"
   ]
  },
  {
   "cell_type": "code",
   "execution_count": null,
   "metadata": {},
   "outputs": [],
   "source": [
    "for i, val in enumerate(experiments):\n",
    "    print(val)\n",
    "    totest = data[[v for v in data.columns if val in v or 'Non' in v]]\n",
    "    cls = ['Condition' if val in v else 'DMSO' for v in totest.columns]\n",
    "    res[val] = gseapy.gsea(data=totest, gene_sets='GO_Biological_Process_2015', \n",
    "                cls= cls, no_plot=False, processes=6)\n",
    "    res[val].res2d['Term'] = [i.split('_')[0][:50] for i in res[val].res2d.index]\n",
    "    plt.figure(i)\n",
    "    sns.barplot(data=res[val].res2d.iloc[:25], x=\"es\", y=\"Term\",\n",
    "                hue_order=\"geneset_size\").set_title(val)"
   ]
  },
  {
   "cell_type": "code",
   "execution_count": null,
   "metadata": {},
   "outputs": [],
   "source": [
    "with open('GO_Biological_Process_2015', 'wb') as f:\n",
    "    pickle.dump(res,f)"
   ]
  },
  {
   "cell_type": "code",
   "execution_count": null,
   "metadata": {},
   "outputs": [],
   "source": [
    "with open('GO_Biological_Process_2015','rb') as f:\n",
    "    res = pickle.load(f)"
   ]
  },
  {
   "cell_type": "markdown",
   "metadata": {},
   "source": [
    "creating matrices"
   ]
  },
  {
   "cell_type": "code",
   "execution_count": null,
   "metadata": {},
   "outputs": [],
   "source": [
    "a = set()\n",
    "for k, val in res.items():\n",
    "    a.update(set(val.res2d.Term))\n",
    "a = {i:[0]*len(res) for i in a}\n",
    "for n,(k, val) in enumerate(res.items()):\n",
    "    for i,v in val.res2d.iterrows():\n",
    "        a[v.Term][n] = v.es\n",
    "res = pd.DataFrame(a, index=res.keys())\n",
    "fig, ax = plt.subplots(figsize=(20,15))\n",
    "sns.heatmap(ax=ax,data=res)"
   ]
  },
  {
   "cell_type": "code",
   "execution_count": null,
   "metadata": {},
   "outputs": [],
   "source": [
    "model = AgglomerativeClustering(n_clusters=5,linkage=\"average\", \n",
    "                                affinity=\"cosine\", compute_full_tree=True)\n",
    "labels = model.fit_predict(res)\n",
    "ii = itertools.count(res.shape[0])\n",
    "tree = [{'node_id': next(ii), 'left': x[0], 'right':x[1]} for x in model.children_]"
   ]
  },
  {
   "cell_type": "code",
   "execution_count": null,
   "metadata": {},
   "outputs": [],
   "source": [
    "sort = labels.argsort()"
   ]
  },
  {
   "cell_type": "code",
   "execution_count": null,
   "metadata": {},
   "outputs": [],
   "source": [
    "a = plotCorrelationMatrix(res.values[sort],res.index[sort].tolist(),interactive=True)"
   ]
  },
  {
   "cell_type": "code",
   "execution_count": null,
   "metadata": {},
   "outputs": [],
   "source": [
    "show(a)"
   ]
  },
  {
   "cell_type": "code",
   "execution_count": null,
   "metadata": {},
   "outputs": [],
   "source": [
    "cluster1= ['LMO2','LYL1','MAX','MEF2C']\n",
    "cluster2=['GFI1','FLI1','MYB','IKZF1','ELF2','CEBPa','MEIS1']\n",
    "cluster3=['IRF2BP2','MEF2C','CDK6','MEF2D','IRF8','BRD4','MYC']\n",
    "cluster4= ['RUNX1','RUNX2','ZMYND8']"
   ]
  },
  {
   "cell_type": "code",
   "execution_count": null,
   "metadata": {},
   "outputs": [],
   "source": [
    "res.loc[cluster2].mean().sort_values()"
   ]
  },
  {
   "cell_type": "code",
   "execution_count": null,
   "metadata": {},
   "outputs": [],
   "source": [
    "'GO_Molecular_Function_2015',\n",
    "'GeneSigDB',\n",
    "'ENCODE_TF_ChIP-seq_2014',\n",
    "#'Drug_Perturbations_from_GEO_2014',\n",
    "'GO_Cellular_Component_2015',\n",
    "'GO_Biological_Process_2015',\n",
    "'PPI_Hub_Proteins',\n",
    "'WikiPathways_2013',\n",
    "'TF-LOF_Expression_from_GEO',\n",
    "# msig db C2 C6 H http://software.broadinstitute.org/gsea/msigdb/annotate.jsp\n",
    "# max's crc"
   ]
  },
  {
   "cell_type": "markdown",
   "metadata": {},
   "source": [
    "## compare to the drop of CTF"
   ]
  },
  {
   "cell_type": "code",
   "execution_count": null,
   "metadata": {},
   "outputs": [],
   "source": [
    "ctf = [\n",
    " 'BRD4',\n",
    " 'CDK6',\n",
    " 'CEBPA',\n",
    " 'ELF2',\n",
    " 'FLI1',\n",
    " 'GFI1',\n",
    " 'IKZF1',\n",
    " 'IRF2BP2',\n",
    " 'IRF8',\n",
    " 'LMO2',\n",
    " 'LYL1',\n",
    " 'MAX',\n",
    " 'MEF2C',\n",
    " 'MEF2D',\n",
    " 'MEIS1',\n",
    " 'MYB',\n",
    " 'MYC',\n",
    " 'RUNX1',\n",
    " 'RUNX2',\n",
    " 'SPI1',\n",
    " 'ZEB2',\n",
    " 'ZMYND8'\n",
    "]"
   ]
  },
  {
   "cell_type": "code",
   "execution_count": null,
   "metadata": {},
   "outputs": [],
   "source": [
    "deseq = pd.DataFrame()\n",
    "for k, val in results.items():\n",
    "    deseq[k] = val.log2FoldChange\n",
    "deseq=deseq.T"
   ]
  },
  {
   "cell_type": "code",
   "execution_count": null,
   "metadata": {},
   "outputs": [],
   "source": [
    "deseq"
   ]
  },
  {
   "cell_type": "code",
   "execution_count": null,
   "metadata": {},
   "outputs": [],
   "source": [
    "a = plotCorrelationMatrix(a,\n",
    "                          deseq.index[sort].tolist(),interactive=True)"
   ]
  },
  {
   "cell_type": "code",
   "execution_count": null,
   "metadata": {},
   "outputs": [],
   "source": [
    "ctf[11] = 'CEBPa'\n",
    "ctf[]"
   ]
  },
  {
   "cell_type": "code",
   "execution_count": null,
   "metadata": {},
   "outputs": [],
   "source": [
    "ctf"
   ]
  },
  {
   "cell_type": "markdown",
   "metadata": {},
   "source": [
    "dropping ETV6 SP1  GSE1 LDB1"
   ]
  },
  {
   "cell_type": "code",
   "execution_count": null,
   "metadata": {},
   "outputs": [],
   "source": [
    "deseq.loc[['MYC',\n",
    " 'MYB',\n",
    " 'SPI1',\n",
    " 'RUNX1',\n",
    " 'IRF2BP2',\n",
    " 'FLI1',\n",
    " 'ELF2',\n",
    " 'ZEB2',\n",
    " 'GFI1',\n",
    " 'LMO2',\n",
    " 'CEBPa',\n",
    " 'MEF2D',\n",
    " 'MEF2C',\n",
    " 'IRF8',\n",
    " 'MEIS1',\n",
    " 'RUNX2',\n",
    " 'RUNX2',\n",
    " 'ZMYND8']]"
   ]
  },
  {
   "cell_type": "code",
   "execution_count": null,
   "metadata": {},
   "outputs": [],
   "source": [
    "show(a)"
   ]
  },
  {
   "cell_type": "code",
   "execution_count": null,
   "metadata": {},
   "outputs": [],
   "source": [
    "deseq_ctf = deseq.loc[['MYC',\n",
    " 'MYB',\n",
    " 'SPI1',\n",
    " 'RUNX1',\n",
    " 'IRF2BP2',\n",
    " 'FLI1',\n",
    " 'ELF2',\n",
    " 'ZEB2',\n",
    " 'GFI1',\n",
    " 'LMO2',\n",
    " 'CEBPa',\n",
    " 'MEF2D',\n",
    " 'MEF2C',\n",
    " 'IRF8',\n",
    " 'MEIS1',\n",
    " 'RUNX2',\n",
    " 'ZMYND8']]\n",
    "model = AgglomerativeClustering(n_clusters=7,linkage=\"average\", \n",
    "                                affinity=\"cosine\", compute_full_tree=True)\n",
    "labels = model.fit_predict(deseq_ctf)\n",
    "ii = itertools.count(deseq_ctf.shape[0])\n",
    "tree = [{'node_id': next(ii), 'left': x[0], 'right':x[1]} for x in model.children_]\n",
    "sort = labels.argsort()\n",
    "a = deseq_ctf.values[sort]\n",
    "a = plotCorrelationMatrix(a, deseq_ctf.index[sort].tolist(),interactive=True)"
   ]
  },
  {
   "cell_type": "code",
   "execution_count": null,
   "metadata": {},
   "outputs": [],
   "source": [
    "show(a)"
   ]
  },
  {
   "cell_type": "code",
   "execution_count": null,
   "metadata": {},
   "outputs": [],
   "source": [
    "model = AgglomerativeClustering(n_clusters=7,linkage=\"average\", \n",
    "                                affinity=\"cosine\", compute_full_tree=True)\n",
    "labels = model.fit_predict(deseq)\n",
    "ii = itertools.count(deseq.shape[0])\n",
    "tree = [{'node_id': next(ii), 'left': x[0], 'right':x[1]} for x in model.children_]\n",
    "sort = labels.argsort()\n",
    "a = deseq.values[sort]\n",
    "a = plotCorrelationMatrix(a, deseq.index[sort].tolist(),interactive=True)"
   ]
  },
  {
   "cell_type": "code",
   "execution_count": null,
   "metadata": {},
   "outputs": [],
   "source": [
    "show(a)"
   ]
  },
  {
   "cell_type": "markdown",
   "metadata": {},
   "source": [
    "tsne, pca, clustering accross TF, CRC, most var genes, both ways."
   ]
  }
 ],
 "metadata": {
  "kernelspec": {
   "display_name": "Python 3",
   "language": "python",
   "name": "python3"
  },
  "language_info": {
   "codemirror_mode": {
    "name": "ipython",
    "version": 3
   },
   "file_extension": ".py",
   "mimetype": "text/x-python",
   "name": "python",
   "nbconvert_exporter": "python",
   "pygments_lexer": "ipython3",
   "version": "3.7.6"
  },
  "toc": {
   "base_numbering": 1,
   "nav_menu": {},
   "number_sections": false,
   "sideBar": false,
   "skip_h1_title": false,
   "title_cell": "Table of Contents",
   "title_sidebar": "Contents",
   "toc_cell": false,
   "toc_position": {},
   "toc_section_display": false,
   "toc_window_display": false
  },
  "varInspector": {
   "cols": {
    "lenName": 16,
    "lenType": 16,
    "lenVar": 40
   },
   "kernels_config": {
    "python": {
     "delete_cmd_postfix": "",
     "delete_cmd_prefix": "del ",
     "library": "var_list.py",
     "varRefreshCmd": "print(var_dic_list())"
    },
    "r": {
     "delete_cmd_postfix": ") ",
     "delete_cmd_prefix": "rm(",
     "library": "var_list.r",
     "varRefreshCmd": "cat(var_dic_list()) "
    }
   },
   "types_to_exclude": [
    "module",
    "function",
    "builtin_function_or_method",
    "instance",
    "_Feature"
   ],
   "window_display": false
  }
 },
 "nbformat": 4,
 "nbformat_minor": 2
}
