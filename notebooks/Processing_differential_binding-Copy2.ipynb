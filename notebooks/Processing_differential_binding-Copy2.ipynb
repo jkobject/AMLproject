{
 "cells": [
  {
   "cell_type": "code",
   "execution_count": 1,
   "metadata": {},
   "outputs": [
    {
     "name": "stdout",
     "output_type": "stream",
     "text": [
      "you need to have installed JKBio in the same folder as ccle_processing\n"
     ]
    },
    {
     "data": {
      "text/html": [
       "\n",
       "    <div class=\"bk-root\">\n",
       "        <a href=\"https://bokeh.org\" target=\"_blank\" class=\"bk-logo bk-logo-small bk-logo-notebook\"></a>\n",
       "        <span id=\"1001\">Loading BokehJS ...</span>\n",
       "    </div>"
      ]
     },
     "metadata": {},
     "output_type": "display_data"
    },
    {
     "data": {
      "application/javascript": [
       "\n",
       "(function(root) {\n",
       "  function now() {\n",
       "    return new Date();\n",
       "  }\n",
       "\n",
       "  var force = true;\n",
       "\n",
       "  if (typeof root._bokeh_onload_callbacks === \"undefined\" || force === true) {\n",
       "    root._bokeh_onload_callbacks = [];\n",
       "    root._bokeh_is_loading = undefined;\n",
       "  }\n",
       "\n",
       "  var JS_MIME_TYPE = 'application/javascript';\n",
       "  var HTML_MIME_TYPE = 'text/html';\n",
       "  var EXEC_MIME_TYPE = 'application/vnd.bokehjs_exec.v0+json';\n",
       "  var CLASS_NAME = 'output_bokeh rendered_html';\n",
       "\n",
       "  /**\n",
       "   * Render data to the DOM node\n",
       "   */\n",
       "  function render(props, node) {\n",
       "    var script = document.createElement(\"script\");\n",
       "    node.appendChild(script);\n",
       "  }\n",
       "\n",
       "  /**\n",
       "   * Handle when an output is cleared or removed\n",
       "   */\n",
       "  function handleClearOutput(event, handle) {\n",
       "    var cell = handle.cell;\n",
       "\n",
       "    var id = cell.output_area._bokeh_element_id;\n",
       "    var server_id = cell.output_area._bokeh_server_id;\n",
       "    // Clean up Bokeh references\n",
       "    if (id != null && id in Bokeh.index) {\n",
       "      Bokeh.index[id].model.document.clear();\n",
       "      delete Bokeh.index[id];\n",
       "    }\n",
       "\n",
       "    if (server_id !== undefined) {\n",
       "      // Clean up Bokeh references\n",
       "      var cmd = \"from bokeh.io.state import curstate; print(curstate().uuid_to_server['\" + server_id + \"'].get_sessions()[0].document.roots[0]._id)\";\n",
       "      cell.notebook.kernel.execute(cmd, {\n",
       "        iopub: {\n",
       "          output: function(msg) {\n",
       "            var id = msg.content.text.trim();\n",
       "            if (id in Bokeh.index) {\n",
       "              Bokeh.index[id].model.document.clear();\n",
       "              delete Bokeh.index[id];\n",
       "            }\n",
       "          }\n",
       "        }\n",
       "      });\n",
       "      // Destroy server and session\n",
       "      var cmd = \"import bokeh.io.notebook as ion; ion.destroy_server('\" + server_id + \"')\";\n",
       "      cell.notebook.kernel.execute(cmd);\n",
       "    }\n",
       "  }\n",
       "\n",
       "  /**\n",
       "   * Handle when a new output is added\n",
       "   */\n",
       "  function handleAddOutput(event, handle) {\n",
       "    var output_area = handle.output_area;\n",
       "    var output = handle.output;\n",
       "\n",
       "    // limit handleAddOutput to display_data with EXEC_MIME_TYPE content only\n",
       "    if ((output.output_type != \"display_data\") || (!output.data.hasOwnProperty(EXEC_MIME_TYPE))) {\n",
       "      return\n",
       "    }\n",
       "\n",
       "    var toinsert = output_area.element.find(\".\" + CLASS_NAME.split(' ')[0]);\n",
       "\n",
       "    if (output.metadata[EXEC_MIME_TYPE][\"id\"] !== undefined) {\n",
       "      toinsert[toinsert.length - 1].firstChild.textContent = output.data[JS_MIME_TYPE];\n",
       "      // store reference to embed id on output_area\n",
       "      output_area._bokeh_element_id = output.metadata[EXEC_MIME_TYPE][\"id\"];\n",
       "    }\n",
       "    if (output.metadata[EXEC_MIME_TYPE][\"server_id\"] !== undefined) {\n",
       "      var bk_div = document.createElement(\"div\");\n",
       "      bk_div.innerHTML = output.data[HTML_MIME_TYPE];\n",
       "      var script_attrs = bk_div.children[0].attributes;\n",
       "      for (var i = 0; i < script_attrs.length; i++) {\n",
       "        toinsert[toinsert.length - 1].firstChild.setAttribute(script_attrs[i].name, script_attrs[i].value);\n",
       "        toinsert[toinsert.length - 1].firstChild.textContent = bk_div.children[0].textContent\n",
       "      }\n",
       "      // store reference to server id on output_area\n",
       "      output_area._bokeh_server_id = output.metadata[EXEC_MIME_TYPE][\"server_id\"];\n",
       "    }\n",
       "  }\n",
       "\n",
       "  function register_renderer(events, OutputArea) {\n",
       "\n",
       "    function append_mime(data, metadata, element) {\n",
       "      // create a DOM node to render to\n",
       "      var toinsert = this.create_output_subarea(\n",
       "        metadata,\n",
       "        CLASS_NAME,\n",
       "        EXEC_MIME_TYPE\n",
       "      );\n",
       "      this.keyboard_manager.register_events(toinsert);\n",
       "      // Render to node\n",
       "      var props = {data: data, metadata: metadata[EXEC_MIME_TYPE]};\n",
       "      render(props, toinsert[toinsert.length - 1]);\n",
       "      element.append(toinsert);\n",
       "      return toinsert\n",
       "    }\n",
       "\n",
       "    /* Handle when an output is cleared or removed */\n",
       "    events.on('clear_output.CodeCell', handleClearOutput);\n",
       "    events.on('delete.Cell', handleClearOutput);\n",
       "\n",
       "    /* Handle when a new output is added */\n",
       "    events.on('output_added.OutputArea', handleAddOutput);\n",
       "\n",
       "    /**\n",
       "     * Register the mime type and append_mime function with output_area\n",
       "     */\n",
       "    OutputArea.prototype.register_mime_type(EXEC_MIME_TYPE, append_mime, {\n",
       "      /* Is output safe? */\n",
       "      safe: true,\n",
       "      /* Index of renderer in `output_area.display_order` */\n",
       "      index: 0\n",
       "    });\n",
       "  }\n",
       "\n",
       "  // register the mime type if in Jupyter Notebook environment and previously unregistered\n",
       "  if (root.Jupyter !== undefined) {\n",
       "    var events = require('base/js/events');\n",
       "    var OutputArea = require('notebook/js/outputarea').OutputArea;\n",
       "\n",
       "    if (OutputArea.prototype.mime_types().indexOf(EXEC_MIME_TYPE) == -1) {\n",
       "      register_renderer(events, OutputArea);\n",
       "    }\n",
       "  }\n",
       "\n",
       "  \n",
       "  if (typeof (root._bokeh_timeout) === \"undefined\" || force === true) {\n",
       "    root._bokeh_timeout = Date.now() + 5000;\n",
       "    root._bokeh_failed_load = false;\n",
       "  }\n",
       "\n",
       "  var NB_LOAD_WARNING = {'data': {'text/html':\n",
       "     \"<div style='background-color: #fdd'>\\n\"+\n",
       "     \"<p>\\n\"+\n",
       "     \"BokehJS does not appear to have successfully loaded. If loading BokehJS from CDN, this \\n\"+\n",
       "     \"may be due to a slow or bad network connection. Possible fixes:\\n\"+\n",
       "     \"</p>\\n\"+\n",
       "     \"<ul>\\n\"+\n",
       "     \"<li>re-rerun `output_notebook()` to attempt to load from CDN again, or</li>\\n\"+\n",
       "     \"<li>use INLINE resources instead, as so:</li>\\n\"+\n",
       "     \"</ul>\\n\"+\n",
       "     \"<code>\\n\"+\n",
       "     \"from bokeh.resources import INLINE\\n\"+\n",
       "     \"output_notebook(resources=INLINE)\\n\"+\n",
       "     \"</code>\\n\"+\n",
       "     \"</div>\"}};\n",
       "\n",
       "  function display_loaded() {\n",
       "    var el = document.getElementById(\"1001\");\n",
       "    if (el != null) {\n",
       "      el.textContent = \"BokehJS is loading...\";\n",
       "    }\n",
       "    if (root.Bokeh !== undefined) {\n",
       "      if (el != null) {\n",
       "        el.textContent = \"BokehJS \" + root.Bokeh.version + \" successfully loaded.\";\n",
       "      }\n",
       "    } else if (Date.now() < root._bokeh_timeout) {\n",
       "      setTimeout(display_loaded, 100)\n",
       "    }\n",
       "  }\n",
       "\n",
       "\n",
       "  function run_callbacks() {\n",
       "    try {\n",
       "      root._bokeh_onload_callbacks.forEach(function(callback) {\n",
       "        if (callback != null)\n",
       "          callback();\n",
       "      });\n",
       "    } finally {\n",
       "      delete root._bokeh_onload_callbacks\n",
       "    }\n",
       "    console.debug(\"Bokeh: all callbacks have finished\");\n",
       "  }\n",
       "\n",
       "  function load_libs(css_urls, js_urls, callback) {\n",
       "    if (css_urls == null) css_urls = [];\n",
       "    if (js_urls == null) js_urls = [];\n",
       "\n",
       "    root._bokeh_onload_callbacks.push(callback);\n",
       "    if (root._bokeh_is_loading > 0) {\n",
       "      console.debug(\"Bokeh: BokehJS is being loaded, scheduling callback at\", now());\n",
       "      return null;\n",
       "    }\n",
       "    if (js_urls == null || js_urls.length === 0) {\n",
       "      run_callbacks();\n",
       "      return null;\n",
       "    }\n",
       "    console.debug(\"Bokeh: BokehJS not loaded, scheduling load and callback at\", now());\n",
       "    root._bokeh_is_loading = css_urls.length + js_urls.length;\n",
       "\n",
       "    function on_load() {\n",
       "      root._bokeh_is_loading--;\n",
       "      if (root._bokeh_is_loading === 0) {\n",
       "        console.debug(\"Bokeh: all BokehJS libraries/stylesheets loaded\");\n",
       "        run_callbacks()\n",
       "      }\n",
       "    }\n",
       "\n",
       "    function on_error() {\n",
       "      console.error(\"failed to load \" + url);\n",
       "    }\n",
       "\n",
       "    for (var i = 0; i < css_urls.length; i++) {\n",
       "      var url = css_urls[i];\n",
       "      const element = document.createElement(\"link\");\n",
       "      element.onload = on_load;\n",
       "      element.onerror = on_error;\n",
       "      element.rel = \"stylesheet\";\n",
       "      element.type = \"text/css\";\n",
       "      element.href = url;\n",
       "      console.debug(\"Bokeh: injecting link tag for BokehJS stylesheet: \", url);\n",
       "      document.body.appendChild(element);\n",
       "    }\n",
       "\n",
       "    const hashes = {\"https://cdn.bokeh.org/bokeh/release/bokeh-2.0.2.min.js\": \"ufR9RFnRs6lniiaFvtJziE0YeidtAgBRH6ux2oUItHw5WTvE1zuk9uzhUU/FJXDp\", \"https://cdn.bokeh.org/bokeh/release/bokeh-widgets-2.0.2.min.js\": \"8QM/PGWBT+IssZuRcDcjzwIh1mkOmJSoNMmyYDZbCfXJg3Ap1lEvdVgFuSAwhb/J\", \"https://cdn.bokeh.org/bokeh/release/bokeh-tables-2.0.2.min.js\": \"Jm8cH3Rg0P6UeZhVY5cLy1WzKajUT9KImCY+76hEqrcJt59/d8GPvFHjCkYgnSIn\", \"https://cdn.bokeh.org/bokeh/release/bokeh-gl-2.0.2.min.js\": \"Ozhzj+SI7ywm74aOI/UajcWz+C0NjsPunEVyVIrxzYkB+jA+2tUw8x5xJCbVtK5I\"};\n",
       "\n",
       "    for (var i = 0; i < js_urls.length; i++) {\n",
       "      var url = js_urls[i];\n",
       "      var element = document.createElement('script');\n",
       "      element.onload = on_load;\n",
       "      element.onerror = on_error;\n",
       "      element.async = false;\n",
       "      element.src = url;\n",
       "      if (url in hashes) {\n",
       "        element.crossOrigin = \"anonymous\";\n",
       "        element.integrity = \"sha384-\" + hashes[url];\n",
       "      }\n",
       "      console.debug(\"Bokeh: injecting script tag for BokehJS library: \", url);\n",
       "      document.head.appendChild(element);\n",
       "    }\n",
       "  };\n",
       "\n",
       "  function inject_raw_css(css) {\n",
       "    const element = document.createElement(\"style\");\n",
       "    element.appendChild(document.createTextNode(css));\n",
       "    document.body.appendChild(element);\n",
       "  }\n",
       "\n",
       "  \n",
       "  var js_urls = [\"https://cdn.bokeh.org/bokeh/release/bokeh-2.0.2.min.js\", \"https://cdn.bokeh.org/bokeh/release/bokeh-widgets-2.0.2.min.js\", \"https://cdn.bokeh.org/bokeh/release/bokeh-tables-2.0.2.min.js\", \"https://cdn.bokeh.org/bokeh/release/bokeh-gl-2.0.2.min.js\"];\n",
       "  var css_urls = [];\n",
       "  \n",
       "\n",
       "  var inline_js = [\n",
       "    function(Bokeh) {\n",
       "      Bokeh.set_log_level(\"info\");\n",
       "    },\n",
       "    function(Bokeh) {\n",
       "    \n",
       "    \n",
       "    }\n",
       "  ];\n",
       "\n",
       "  function run_inline_js() {\n",
       "    \n",
       "    if (root.Bokeh !== undefined || force === true) {\n",
       "      \n",
       "    for (var i = 0; i < inline_js.length; i++) {\n",
       "      inline_js[i].call(root, root.Bokeh);\n",
       "    }\n",
       "    if (force === true) {\n",
       "        display_loaded();\n",
       "      }} else if (Date.now() < root._bokeh_timeout) {\n",
       "      setTimeout(run_inline_js, 100);\n",
       "    } else if (!root._bokeh_failed_load) {\n",
       "      console.log(\"Bokeh: BokehJS failed to load within specified timeout.\");\n",
       "      root._bokeh_failed_load = true;\n",
       "    } else if (force !== true) {\n",
       "      var cell = $(document.getElementById(\"1001\")).parents('.cell').data().cell;\n",
       "      cell.output_area.append_execute_result(NB_LOAD_WARNING)\n",
       "    }\n",
       "\n",
       "  }\n",
       "\n",
       "  if (root._bokeh_is_loading === 0) {\n",
       "    console.debug(\"Bokeh: BokehJS loaded, going straight to plotting\");\n",
       "    run_inline_js();\n",
       "  } else {\n",
       "    load_libs(css_urls, js_urls, function() {\n",
       "      console.debug(\"Bokeh: BokehJS plotting callback run at\", now());\n",
       "      run_inline_js();\n",
       "    });\n",
       "  }\n",
       "}(window));"
      ],
      "application/vnd.bokehjs_load.v0+json": "\n(function(root) {\n  function now() {\n    return new Date();\n  }\n\n  var force = true;\n\n  if (typeof root._bokeh_onload_callbacks === \"undefined\" || force === true) {\n    root._bokeh_onload_callbacks = [];\n    root._bokeh_is_loading = undefined;\n  }\n\n  \n\n  \n  if (typeof (root._bokeh_timeout) === \"undefined\" || force === true) {\n    root._bokeh_timeout = Date.now() + 5000;\n    root._bokeh_failed_load = false;\n  }\n\n  var NB_LOAD_WARNING = {'data': {'text/html':\n     \"<div style='background-color: #fdd'>\\n\"+\n     \"<p>\\n\"+\n     \"BokehJS does not appear to have successfully loaded. If loading BokehJS from CDN, this \\n\"+\n     \"may be due to a slow or bad network connection. Possible fixes:\\n\"+\n     \"</p>\\n\"+\n     \"<ul>\\n\"+\n     \"<li>re-rerun `output_notebook()` to attempt to load from CDN again, or</li>\\n\"+\n     \"<li>use INLINE resources instead, as so:</li>\\n\"+\n     \"</ul>\\n\"+\n     \"<code>\\n\"+\n     \"from bokeh.resources import INLINE\\n\"+\n     \"output_notebook(resources=INLINE)\\n\"+\n     \"</code>\\n\"+\n     \"</div>\"}};\n\n  function display_loaded() {\n    var el = document.getElementById(\"1001\");\n    if (el != null) {\n      el.textContent = \"BokehJS is loading...\";\n    }\n    if (root.Bokeh !== undefined) {\n      if (el != null) {\n        el.textContent = \"BokehJS \" + root.Bokeh.version + \" successfully loaded.\";\n      }\n    } else if (Date.now() < root._bokeh_timeout) {\n      setTimeout(display_loaded, 100)\n    }\n  }\n\n\n  function run_callbacks() {\n    try {\n      root._bokeh_onload_callbacks.forEach(function(callback) {\n        if (callback != null)\n          callback();\n      });\n    } finally {\n      delete root._bokeh_onload_callbacks\n    }\n    console.debug(\"Bokeh: all callbacks have finished\");\n  }\n\n  function load_libs(css_urls, js_urls, callback) {\n    if (css_urls == null) css_urls = [];\n    if (js_urls == null) js_urls = [];\n\n    root._bokeh_onload_callbacks.push(callback);\n    if (root._bokeh_is_loading > 0) {\n      console.debug(\"Bokeh: BokehJS is being loaded, scheduling callback at\", now());\n      return null;\n    }\n    if (js_urls == null || js_urls.length === 0) {\n      run_callbacks();\n      return null;\n    }\n    console.debug(\"Bokeh: BokehJS not loaded, scheduling load and callback at\", now());\n    root._bokeh_is_loading = css_urls.length + js_urls.length;\n\n    function on_load() {\n      root._bokeh_is_loading--;\n      if (root._bokeh_is_loading === 0) {\n        console.debug(\"Bokeh: all BokehJS libraries/stylesheets loaded\");\n        run_callbacks()\n      }\n    }\n\n    function on_error() {\n      console.error(\"failed to load \" + url);\n    }\n\n    for (var i = 0; i < css_urls.length; i++) {\n      var url = css_urls[i];\n      const element = document.createElement(\"link\");\n      element.onload = on_load;\n      element.onerror = on_error;\n      element.rel = \"stylesheet\";\n      element.type = \"text/css\";\n      element.href = url;\n      console.debug(\"Bokeh: injecting link tag for BokehJS stylesheet: \", url);\n      document.body.appendChild(element);\n    }\n\n    const hashes = {\"https://cdn.bokeh.org/bokeh/release/bokeh-2.0.2.min.js\": \"ufR9RFnRs6lniiaFvtJziE0YeidtAgBRH6ux2oUItHw5WTvE1zuk9uzhUU/FJXDp\", \"https://cdn.bokeh.org/bokeh/release/bokeh-widgets-2.0.2.min.js\": \"8QM/PGWBT+IssZuRcDcjzwIh1mkOmJSoNMmyYDZbCfXJg3Ap1lEvdVgFuSAwhb/J\", \"https://cdn.bokeh.org/bokeh/release/bokeh-tables-2.0.2.min.js\": \"Jm8cH3Rg0P6UeZhVY5cLy1WzKajUT9KImCY+76hEqrcJt59/d8GPvFHjCkYgnSIn\", \"https://cdn.bokeh.org/bokeh/release/bokeh-gl-2.0.2.min.js\": \"Ozhzj+SI7ywm74aOI/UajcWz+C0NjsPunEVyVIrxzYkB+jA+2tUw8x5xJCbVtK5I\"};\n\n    for (var i = 0; i < js_urls.length; i++) {\n      var url = js_urls[i];\n      var element = document.createElement('script');\n      element.onload = on_load;\n      element.onerror = on_error;\n      element.async = false;\n      element.src = url;\n      if (url in hashes) {\n        element.crossOrigin = \"anonymous\";\n        element.integrity = \"sha384-\" + hashes[url];\n      }\n      console.debug(\"Bokeh: injecting script tag for BokehJS library: \", url);\n      document.head.appendChild(element);\n    }\n  };\n\n  function inject_raw_css(css) {\n    const element = document.createElement(\"style\");\n    element.appendChild(document.createTextNode(css));\n    document.body.appendChild(element);\n  }\n\n  \n  var js_urls = [\"https://cdn.bokeh.org/bokeh/release/bokeh-2.0.2.min.js\", \"https://cdn.bokeh.org/bokeh/release/bokeh-widgets-2.0.2.min.js\", \"https://cdn.bokeh.org/bokeh/release/bokeh-tables-2.0.2.min.js\", \"https://cdn.bokeh.org/bokeh/release/bokeh-gl-2.0.2.min.js\"];\n  var css_urls = [];\n  \n\n  var inline_js = [\n    function(Bokeh) {\n      Bokeh.set_log_level(\"info\");\n    },\n    function(Bokeh) {\n    \n    \n    }\n  ];\n\n  function run_inline_js() {\n    \n    if (root.Bokeh !== undefined || force === true) {\n      \n    for (var i = 0; i < inline_js.length; i++) {\n      inline_js[i].call(root, root.Bokeh);\n    }\n    if (force === true) {\n        display_loaded();\n      }} else if (Date.now() < root._bokeh_timeout) {\n      setTimeout(run_inline_js, 100);\n    } else if (!root._bokeh_failed_load) {\n      console.log(\"Bokeh: BokehJS failed to load within specified timeout.\");\n      root._bokeh_failed_load = true;\n    } else if (force !== true) {\n      var cell = $(document.getElementById(\"1001\")).parents('.cell').data().cell;\n      cell.output_area.append_execute_result(NB_LOAD_WARNING)\n    }\n\n  }\n\n  if (root._bokeh_is_loading === 0) {\n    console.debug(\"Bokeh: BokehJS loaded, going straight to plotting\");\n    run_inline_js();\n  } else {\n    load_libs(css_urls, js_urls, function() {\n      console.debug(\"Bokeh: BokehJS plotting callback run at\", now());\n      run_inline_js();\n    });\n  }\n}(window));"
     },
     "metadata": {},
     "output_type": "display_data"
    }
   ],
   "source": [
    "import os\n",
    "import pandas as pd\n",
    "import sys\n",
    "import numpy as np\n",
    "import sys\n",
    "sys.path.insert(0, '../..')\n",
    "import itertools\n",
    "\n",
    "from JKBio import TerraFunction as terra\n",
    "from ccle_processing.src.CCLE_postp_function import *\n",
    "from JKBio import Helper as h\n",
    "from JKBio.epigenetics import ChIP_helper as chip\n",
    "\n",
    "import dalmatian as dm\n",
    "import pyBigWig\n",
    "\n",
    "from bokeh.plotting import *\n",
    "from IPython.display import IFrame\n",
    "import igv\n",
    "\n",
    "from sklearn.manifold import MDS, TSNE\n",
    "from sklearn.decomposition import PCA\n",
    "from sklearn.preprocessing import scale\n",
    "from sklearn.cluster import AgglomerativeClustering\n",
    "from sklearn.mixture import GaussianMixture\n",
    "\n",
    "output_notebook()\n",
    "%load_ext autoreload\n",
    "%autoreload 2"
   ]
  },
  {
   "cell_type": "markdown",
   "metadata": {},
   "source": [
    "# ChIP"
   ]
  },
  {
   "cell_type": "code",
   "execution_count": null,
   "metadata": {},
   "outputs": [],
   "source": [
    "project=\"IRF2BP2_degron_ChIP\""
   ]
  },
  {
   "cell_type": "code",
   "execution_count": null,
   "metadata": {},
   "outputs": [],
   "source": [
    "!gsutil ls gs://amlproject/Chip/"
   ]
  },
  {
   "cell_type": "code",
   "execution_count": null,
   "metadata": {},
   "outputs": [],
   "source": [
    "# install bwa\n",
    "! mkdir ../../ref\n",
    "! curl ftp://ftp.ncbi.nlm.nih.gov/genomes/all/GCF/000/001/215/GCF_000001215.4_Release_6_plus_ISO1_MT/GCF_000001215.4_Release_6_plus_ISO1_MT_genomic.fna.gz -o ../../ref/reference_droso.fna.gz\n",
    "! gunzip ref/reference_droso.fna.gz\n",
    "! bwa index -a bwtsw ../../ref/reference_droso.fna"
   ]
  },
  {
   "cell_type": "markdown",
   "metadata": {},
   "source": [
    "## V1"
   ]
  },
  {
   "cell_type": "markdown",
   "metadata": {},
   "source": [
    "### analysis"
   ]
  },
  {
   "cell_type": "code",
   "execution_count": null,
   "metadata": {},
   "outputs": [],
   "source": [
    "rename1 = {\n",
    " 'gs://transfer-amlproject/20191211_10_MP7613_S8_R1_001.fastq.gz':\"gs://amlproject/Chip/IRF2BP2_degraded_rep1/fastqs/mp779-MV411_IRF2BP2_DMSO_6h-FLAG_IRF2BP2-r1_1.fastq.gz\",\n",
    " 'gs://transfer-amlproject/20191211_10_MP7613_S8_R2_001.fastq.gz':\"gs://amlproject/Chip/IRF2BP2_degraded_rep1/fastqs/mp779-MV411_IRF2BP2_DMSO_6h-FLAG_IRF2BP2-r1_2.fastq.gz\",\n",
    " 'gs://transfer-amlproject/20191211_11_MP7613_S9_R1_001.fastq.gz':\"gs://amlproject/Chip/IRF2BP2_degraded_rep1/fastqs/mp780-MV411_IRF2BP2_DMSO_6h-MED1-r1_1.fastq.gz\",\n",
    " 'gs://transfer-amlproject/20191211_11_MP7613_S9_R2_001.fastq.gz':\"gs://amlproject/Chip/IRF2BP2_degraded_rep1/fastqs/mp780-MV411_IRF2BP2_DMSO_6h-MED1-r1_2.fastq.gz\",\n",
    " 'gs://transfer-amlproject/20191211_12_MP7613_S10_R1_001.fastq.gz':\"gs://amlproject/Chip/IRF2BP2_degraded_rep1/fastqs/mp781-MV411_IRF2BP2_DMSO_6h-POLII_total-r1_1.fastq.gz\",\n",
    " 'gs://transfer-amlproject/20191211_12_MP7613_S10_R2_001.fastq.gz':\"gs://amlproject/Chip/IRF2BP2_degraded_rep1/fastqs/mp781-MV411_IRF2BP2_DMSO_6h-POLII_total-r1_2.fastq.gz\",\n",
    " 'gs://transfer-amlproject/20191211_13_MP7613_S11_R1_001.fastq.gz':\"gs://amlproject/Chip/IRF2BP2_degraded_rep1/fastqs/mp782-MV411_IRF2BP2_DMSO_6h-POLII_S2-r1_1.fastq.gz\",\n",
    " 'gs://transfer-amlproject/20191211_13_MP7613_S11_R2_001.fastq.gz':\"gs://amlproject/Chip/IRF2BP2_degraded_rep1/fastqs/mp782-MV411_IRF2BP2_DMSO_6h-POLII_S2-r1_2.fastq.gz\",\n",
    " 'gs://transfer-amlproject/20191211_14_MP7613_S12_R1_001.fastq.gz':\"gs://amlproject/Chip/IRF2BP2_degraded_rep1/fastqs/mp783-MV411_IRF2BP2_DMSO_6h-POLII_S5-r1_1.fastq.gz\",\n",
    " 'gs://transfer-amlproject/20191211_14_MP7613_S12_R2_001.fastq.gz':\"gs://amlproject/Chip/IRF2BP2_degraded_rep1/fastqs/mp783-MV411_IRF2BP2_DMSO_6h-POLII_S5-r1_2.fastq.gz\",\n",
    " 'gs://transfer-amlproject/20191211_15_MP7613_S13_R1_001.fastq.gz':\"gs://amlproject/Chip/IRF2BP2_degraded_rep1/fastqs/mp784-MV411_IRF2BP2_DMSO_6h-MYC-r1_1.fastq.gz\",\n",
    " 'gs://transfer-amlproject/20191211_15_MP7613_S13_R2_001.fastq.gz':\"gs://amlproject/Chip/IRF2BP2_degraded_rep1/fastqs/mp784-MV411_IRF2BP2_DMSO_6h-MYC-r1_2.fastq.gz\",\n",
    " 'gs://transfer-amlproject/20191211_16_MP7613_S14_R1_001.fastq.gz':\"gs://amlproject/Chip/IRF2BP2_degraded_rep1/fastqs/mp785-MV411_IRF2BP2_DMSO_6h-MYB-r1_1.fastq.gz\",\n",
    " 'gs://transfer-amlproject/20191211_16_MP7613_S14_R2_001.fastq.gz':\"gs://amlproject/Chip/IRF2BP2_degraded_rep1/fastqs/mp785-MV411_IRF2BP2_DMSO_6h-MYB-r1_2.fastq.gz\",\n",
    " 'gs://transfer-amlproject/20191211_1_MP7613_S1_R1_001.fastq.gz':\"gs://amlproject/Chip/IRF2BP2_degraded_rep1/fastqs/mp786-MV411_IRF2BP2_DMSO_6h-SPI1-r1_1.fastq.gz\",\n",
    " 'gs://transfer-amlproject/20191211_1_MP7613_S1_R2_001.fastq.gz':\"gs://amlproject/Chip/IRF2BP2_degraded_rep1/fastqs/mp786-MV411_IRF2BP2_DMSO_6h-SPI1-r1_2.fastq.gz\",\n",
    " 'gs://transfer-amlproject/20191211_2_MP7613_S2_R1_001.fastq.gz':\"gs://amlproject/Chip/IRF2BP2_degraded_rep1/fastqs/mp787-MV411_IRF2BP_VHL_6h-FLAG_IRF2BP2-r1_1.fastq.gz\",\n",
    " 'gs://transfer-amlproject/20191211_2_MP7613_S2_R2_001.fastq.gz':\"gs://amlproject/Chip/IRF2BP2_degraded_rep1/fastqs/mp787-MV411_IRF2BP_VHL_6h-FLAG_IRF2BP2-r1_2.fastq.gz\",\n",
    " 'gs://transfer-amlproject/20191211_3_MP7613_S3_R1_001.fastq.gz':\"gs://amlproject/Chip/IRF2BP2_degraded_rep1/fastqs/mp788-MV411_IRF2BP_VHL_6h-MED1-r1_1.fastq.gz\",\n",
    " 'gs://transfer-amlproject/20191211_3_MP7613_S3_R2_001.fastq.gz':\"gs://amlproject/Chip/IRF2BP2_degraded_rep1/fastqs/mp788-MV411_IRF2BP_VHL_6h-MED1-r1_2.fastq.gz\",\n",
    " 'gs://transfer-amlproject/20191211_4_MP7613_S4_R1_001.fastq.gz':\"gs://amlproject/Chip/IRF2BP2_degraded_rep1/fastqs/mp789-MV411_IRF2BP_VHL_6h-POLII_total-r1_1.fastq.gz\",\n",
    " 'gs://transfer-amlproject/20191211_4_MP7613_S4_R2_001.fastq.gz':\"gs://amlproject/Chip/IRF2BP2_degraded_rep1/fastqs/mp789-MV411_IRF2BP_VHL_6h-POLII_total-r1_2.fastq.gz\",\n",
    " 'gs://transfer-amlproject/20191211_5R_MP7613_S15_R1_001.fastq.gz':\"gs://amlproject/Chip/IRF2BP2_degraded_rep1/fastqs/mp790-MV411_IRF2BP_VHL_6h-POLII_S2-r1_1.fastq.gz\",\n",
    " 'gs://transfer-amlproject/20191211_5R_MP7613_S15_R2_001.fastq.gz':\"gs://amlproject/Chip/IRF2BP2_degraded_rep1/fastqs/mp790-MV411_IRF2BP_VHL_6h-POLII_S2-r1_2.fastq.gz\",\n",
    " 'gs://transfer-amlproject/20191211_6R_MP7613_S16_R1_001.fastq.gz':\"gs://amlproject/Chip/IRF2BP2_degraded_rep1/fastqs/mp791-MV411_IRF2BP_VHL_6h-POLII_S5-r1_1.fastq.gz\",\n",
    " 'gs://transfer-amlproject/20191211_6R_MP7613_S16_R2_001.fastq.gz':\"gs://amlproject/Chip/IRF2BP2_degraded_rep1/fastqs/mp791-MV411_IRF2BP_VHL_6h-POLII_S5-r1_2.fastq.gz\",\n",
    " 'gs://transfer-amlproject/20191211_7_MP7613_S5_R1_001.fastq.gz':\"gs://amlproject/Chip/IRF2BP2_degraded_rep1/fastqs/mp792-MV411_IRF2BP_VHL_6h-MYC-r1_1.fastq.gz\",\n",
    " 'gs://transfer-amlproject/20191211_7_MP7613_S5_R2_001.fastq.gz':\"gs://amlproject/Chip/IRF2BP2_degraded_rep1/fastqs/mp792-MV411_IRF2BP_VHL_6h-MYC-r1_2.fastq.gz\",\n",
    " 'gs://transfer-amlproject/20191211_8_MP7613_S6_R1_001.fastq.gz':\"gs://amlproject/Chip/IRF2BP2_degraded_rep1/fastqs/mp793-MV411_IRF2BP_VHL_6h-MYB-r1_1.fastq.gz\",\n",
    " 'gs://transfer-amlproject/20191211_8_MP7613_S6_R2_001.fastq.gz':\"gs://amlproject/Chip/IRF2BP2_degraded_rep1/fastqs/mp793-MV411_IRF2BP_VHL_6h-MYB-r1_2.fastq.gz\",\n",
    " 'gs://transfer-amlproject/20191211_9_MP7613_S7_R1_001.fastq.gz':\"gs://amlproject/Chip/IRF2BP2_degraded_rep1/fastqs/mp794-MV411_IRF2BP_VHL_6h-SPI1-r1_1.fastq.gz\",\n",
    " 'gs://transfer-amlproject/20191211_9_MP7613_S7_R2_001.fastq.gz':\"gs://amlproject/Chip/IRF2BP2_degraded_rep1/fastqs/mp794-MV411_IRF2BP_VHL_6h-SPI1-r1_2.fastq.gz\"}"
   ]
  },
  {
   "cell_type": "code",
   "execution_count": null,
   "metadata": {},
   "outputs": [],
   "source": [
    "for k, val in rename1.items():\n",
    "    os.system('gsutil mv '+k+' '+val)"
   ]
  },
  {
   "cell_type": "code",
   "execution_count": null,
   "metadata": {},
   "outputs": [],
   "source": [
    "! gsutil -m cp -r gs://amlproject/Chip/IRF2BP2_degraded_rep1 ../../data/\n",
    "inputfastq=\"gs://amlproject/Chip/fastqs/mp99-MV411-INPUT-r1.fastq.gz\"\n",
    "! gsutil cp $inputfastq ../../data/IRF2BP2_degraded_rep1/fastqs/\n",
    "a = ! ls ../../data/IRF2BP2_degraded_rep1/fastqs/"
   ]
  },
  {
   "cell_type": "code",
   "execution_count": null,
   "metadata": {},
   "outputs": [],
   "source": [
    "from gsheets import Sheets\n",
    "sheets = Sheets.from_files('~/.client_secret.json', '~/.storage.json')\n",
    "url=\"https://docs.google.com/spreadsheets/d/1yFLjYB1McU530JnLgL0QIMAKIkVl3kl0_LCHje2gk8U\"\n",
    "gsheet = sheets.get(url).sheets[2].to_frame()"
   ]
  },
  {
   "cell_type": "code",
   "execution_count": null,
   "metadata": {},
   "outputs": [],
   "source": [
    "gsheet"
   ]
  },
  {
   "cell_type": "code",
   "execution_count": null,
   "metadata": {},
   "outputs": [],
   "source": [
    "df = {\n",
    "\"fastq1\": [],\n",
    "\"fastq2\": [],\n",
    "\"antibody\": [],\n",
    "\"group\": [],\n",
    "\"replicate\": [],\n",
    "\"control\": []\n",
    "}\n",
    "for val in helper.grouped(a[:-1],2):\n",
    "    row = gsheet[gsheet.id==val[0].split('/')[-1].split('_')[0]]\n",
    "    df['group'].append((row.id.values[0] + '_'+ row.name_replicate.values[0] +\"_\"+row.protein.values[0]))\n",
    "    df['replicate'].append(1)\n",
    "    df['fastq1'].append(val[0])\n",
    "    #df['fastq2'].append(val[1])\n",
    "    df['antibody'].append(row.protein.values[0])\n",
    "    df['control'].append(\"INPUT\")\n",
    "df['group'].append('INPUT')\n",
    "df['replicate'].append(1)\n",
    "df['fastq1'].append(a[-1])\n",
    "#df['fastq2'].append(val[1])\n",
    "df['antibody'].append(\"INPUT\")\n",
    "df['control'].append(\"INPUT\")\n",
    "df = pd.DataFrame(df)"
   ]
  },
  {
   "cell_type": "code",
   "execution_count": null,
   "metadata": {},
   "outputs": [],
   "source": [
    "df[df.columns[[3,4,0,1,2,5]]].to_csv('../nextflow/design_IRF2BP2_degraded_rep1.csv')"
   ]
  },
  {
   "cell_type": "code",
   "execution_count": null,
   "metadata": {},
   "outputs": [],
   "source": [
    "#process chips\n",
    "! sudo ./nextflow run nf-core/chipseq --single_end --seq_center 'DFCI' --email 'jkobject@gmail.com' --narrow_peak --input ../nextflow/design_IRF2BP2_degraded_rep1.csv --genome GRCh38 --skip_preseq --max_cpus 24 -profile docker -w work"
   ]
  },
  {
   "cell_type": "code",
   "execution_count": null,
   "metadata": {},
   "outputs": [],
   "source": [
    "#!gsutil cp results/* ../../data/IRF2BP2_degraded_rep1/ && sudo rm -r results && sudo rm -r work"
   ]
  },
  {
   "cell_type": "code",
   "execution_count": null,
   "metadata": {},
   "outputs": [],
   "source": [
    "# get scaling values\n",
    "mappedreads, umappedreads_norm, mapped = chip.getSpikeInControlScales(refgenome=\"../../ref/reference_droso.fna\",FastQfolder='../../data/IRF2BP2_degraded_rep1/fastqs/',pairedEnd=True, cores=8)\n",
    "mappedreads, umappedreads_norm, mapped"
   ]
  },
  {
   "cell_type": "markdown",
   "metadata": {},
   "source": [
    "computing scales from the excel sheet"
   ]
  },
  {
   "cell_type": "code",
   "execution_count": null,
   "metadata": {},
   "outputs": [],
   "source": [
    "scales = [[562285,1496707],\n",
    "[1686168,7198567],\n",
    "[3642441,2612624],\n",
    "[3992589,3474812],\n",
    "[3347901,3829477],\n",
    "[6181136,989703],\n",
    "[7523840,4173047],\n",
    "[922482,1195857]]"
   ]
  },
  {
   "cell_type": "code",
   "execution_count": null,
   "metadata": {},
   "outputs": [],
   "source": [
    "scales = [[1.0, 0.3756814126], #IRF2BP2\n",
    "[1.0, 0.2342366196], #MED1\n",
    "[0.5546432407, 1.0], #MYB\n",
    "[0.1601166841, 1.0], #MYC\n",
    "[0.870315477, 1.0], #POL2S2\n",
    "[1.0, 0.8742449687], #POL2S5\n",
    "[0.7172728398, 1.0], #POL2TOT\n",
    "[1.0, 0.7713982525]] #SPI1"
   ]
  },
  {
   "cell_type": "markdown",
   "metadata": {},
   "source": [
    "### on scalled data\n"
   ]
  },
  {
   "cell_type": "code",
   "execution_count": null,
   "metadata": {},
   "outputs": [],
   "source": [
    "bams = !ls ../../data/IRF2BP2_degraded_rep1/diffData/*treat_pileup.bdg\n",
    "bams = ['_'.join(i.split('/')[-1].split('_')[:-2]) for i in bams]\n",
    "bams"
   ]
  },
  {
   "cell_type": "code",
   "execution_count": null,
   "metadata": {},
   "outputs": [],
   "source": [
    "# diffPeak on scalled data\n",
    "sizes = [220, 191, 211, 204, 285, 222, 228, 194]\n",
    "for i in range(int(len(bams)/2)):\n",
    "    name1 = bams[i]\n",
    "    name2 = bams[i+8]\n",
    "    print(name1,name2)\n",
    "    print(chip.diffPeak(name1,name2, directory= \"../../data/IRF2BP2_degraded_rep1/diffData/\", res_directory='../../data/IRF2BP2_degraded_rep1/diffPeaks/', scaling1=scales[i][1], scaling2=scales[i][0], size=size[i]))"
   ]
  },
  {
   "cell_type": "code",
   "execution_count": null,
   "metadata": {},
   "outputs": [],
   "source": [
    "# diffPeak on scalled data\n",
    "for i in range(int(len(bams[1:])/2)-1):\n",
    "    name1 = bams[1+i]\n",
    "    name2 = bams[9+i]\n",
    "    chip.fullDiffPeak(name1,name2, bams[0], scaling = scales[i],compute_size=True)"
   ]
  },
  {
   "cell_type": "code",
   "execution_count": null,
   "metadata": {},
   "outputs": [],
   "source": [
    "scales = [1.0,\n",
    "1.0,\n",
    "0.5546432407,\n",
    "0.1601166841,\n",
    "0.870315477,\n",
    "1.0,\n",
    "0.7172728398,\n",
    "1.0,\n",
    "0.3756814126,\n",
    "0.2342366196,\n",
    "1.0,\n",
    "1.0,\n",
    "1.0,\n",
    "0.8742449687,\n",
    "1.0,\n",
    "0.7713982525]"
   ]
  },
  {
   "cell_type": "code",
   "execution_count": null,
   "metadata": {},
   "outputs": [],
   "source": [
    "chip.bigWigFrom(bams[1:], genome='GRCh38',scaling=scales)"
   ]
  },
  {
   "cell_type": "code",
   "execution_count": null,
   "metadata": {},
   "outputs": [],
   "source": [
    "! mv ../../data/recalib_bigwig_rep1/* ../../data/IRF2BP2_degraded_rep1/recalib_bigwig/\n",
    "bw = ! ls ../../data/IRF2BP2_degraded_rep1/recalib_bigwig/*.bw\n",
    "bw"
   ]
  },
  {
   "cell_type": "code",
   "execution_count": null,
   "metadata": {},
   "outputs": [],
   "source": [
    "cond1peak = ! ls ../../data/IRF2BP2_degraded_rep1/diffPeaks/*cond1.bed\n",
    "cond2peak = ! ls ../../data/IRF2BP2_degraded_rep1/diffPeaks/*cond2.bed\n",
    "commonpeak = ! ls ../../data/IRF2BP2_degraded_rep1/diffPeaks/*common.bed\n",
    "commonpeak"
   ]
  },
  {
   "cell_type": "code",
   "execution_count": null,
   "metadata": {},
   "outputs": [],
   "source": [
    "names = [\"FLAG_IRF2BP2\",\"MED1\",\"MYB\",\"MYC\",\"POLII_S2\",\"POLII_S5\",\"POLII_total\",\"SPI1\"]"
   ]
  },
  {
   "cell_type": "code",
   "execution_count": null,
   "metadata": {},
   "outputs": [],
   "source": [
    "for i in range(int(len(bw)/2)):\n",
    "    if i<0:\n",
    "        continue\n",
    "    name1 = bw[i]\n",
    "    name2 = bw[8+i]\n",
    "    peak = [cond1peak[i], commonpeak[i], cond2peak[i]]\n",
    "    for val in peak:\n",
    "        chip.dropWeirdChromosomes(val)\n",
    "    name = names[i]\n",
    "    print(name1,name2)\n",
    "    chip.getPeaksAt(peak, [name1, name2], bigwignames=['DMSO', 'VHL'], peaknames=['DMSO_peaks', 'common', 'VHL_peaks'], window=3000, refpoint='center', folder=\"\", title=name, numthreads=7, torecompute=True, name='../../data/IRF2BP2_degraded_rep1/diffPeaks/'+name+'_mat.pdf', withDeeptools=True)"
   ]
  },
  {
   "cell_type": "code",
   "execution_count": null,
   "metadata": {},
   "outputs": [],
   "source": [
    "peaks = ! ls ../../data/IRF2BP2_degraded_rep1/bwa/mergedLibrary/macs/narrowPeak/*.narrowPeak\n",
    "peaks"
   ]
  },
  {
   "cell_type": "code",
   "execution_count": null,
   "metadata": {},
   "outputs": [],
   "source": [
    "names = [\"FLAG_IRF2BP2\",\"MED1\",\"MYB\",\"MYC\",\"POLII_S2\",\"POLII_S5\",\"POLII_total\",\"SPI1\"]\n",
    "names.extend([i+'_VHL' for i in names])\n",
    "names"
   ]
  },
  {
   "cell_type": "code",
   "execution_count": null,
   "metadata": {},
   "outputs": [],
   "source": [
    "for i in range(len(bw)):\n",
    "    chip.getPeaksAt(peaks[i], bw[i], window=3000, folder=\"\", title=names[i], numthreads=7, torecompute=True, onlyProfile=True, refpoint='center', name='../../data/IRF2BP2_degraded_rep1/diffPeaks/'+names[i]+'_mat_profile.pdf', withDeeptools=True)\n",
    "    chip.getPeaksAt(peaks[i], bw[i], window=3000, folder=\"\", title=names[i], numthreads=7, torecompute=True, refpoint='center',onlyProfile=True,name='../../data/IRF2BP2_degraded_rep1/diffPeaks/'+names[i]+'_mat_profile_clust3.pdf', withDeeptools=True, cluster=3)"
   ]
  },
  {
   "cell_type": "markdown",
   "metadata": {},
   "source": [
    "### on unscalled data"
   ]
  },
  {
   "cell_type": "code",
   "execution_count": null,
   "metadata": {},
   "outputs": [],
   "source": [
    "bams = !ls ../../data/IRF2BP2_degraded_rep1/bwa/mergedLibrary/mp*.bam\n",
    "bams"
   ]
  },
  {
   "cell_type": "code",
   "execution_count": null,
   "metadata": {},
   "outputs": [],
   "source": [
    "! mkdir ../../data/IRF2BP2_degraded_rep1/diffPeaks_unscaled"
   ]
  },
  {
   "cell_type": "code",
   "execution_count": null,
   "metadata": {},
   "outputs": [],
   "source": [
    "bams= list(bams)"
   ]
  },
  {
   "cell_type": "code",
   "execution_count": null,
   "metadata": {},
   "outputs": [],
   "source": [
    "bams"
   ]
  },
  {
   "cell_type": "code",
   "execution_count": null,
   "metadata": {},
   "outputs": [],
   "source": [
    "size"
   ]
  },
  {
   "cell_type": "code",
   "execution_count": null,
   "metadata": {},
   "outputs": [],
   "source": [
    "# on unscalled data \n",
    "for i in range(int((len(bams)-1)/2)-1):\n",
    "    if i < 0:\n",
    "        continue\n",
    "    name1 = bams[1+i]\n",
    "    name2 = bams[9+i]\n",
    "    chip.fullDiffPeak(name1,name2, control1=bams[0], size=size[i], compute_size=False, directory = \"../../data/IRF2BP2_degraded_rep1/diffData_unscaled/\", res_directory = \"../../data/IRF2BP2_degraded_rep1/diffPeaks_unscaled/\",pairedend=False)"
   ]
  },
  {
   "cell_type": "code",
   "execution_count": null,
   "metadata": {},
   "outputs": [],
   "source": [
    "bw = ! ls ../../data/IRF2BP2_degraded_rep1/bwa/mergedLibrary/bigwig/*.bigWig"
   ]
  },
  {
   "cell_type": "code",
   "execution_count": null,
   "metadata": {},
   "outputs": [],
   "source": [
    "commonpeak = ! ls ../../data/IRF2BP2_degraded_rep1/diffPeaks_unscaled/*common.bed\n",
    "cond1peak = ! ls ../../data/IRF2BP2_degraded_rep1/diffPeaks_unscaled/*cond1.bed\n",
    "cond2peak = ! ls ../../data/IRF2BP2_degraded_rep1/diffPeaks_unscaled/*cond2.bed\n",
    "cond2peak"
   ]
  },
  {
   "cell_type": "code",
   "execution_count": null,
   "metadata": {},
   "outputs": [],
   "source": [
    "names = [\"FLAG_IRF2BP2\",\"MED1\",\"POLII_total\",\"POLII_S2\",\"POLII_S5\",\"MYC\",\"MYB\",\"SPI1\"]"
   ]
  },
  {
   "cell_type": "code",
   "execution_count": null,
   "metadata": {},
   "outputs": [],
   "source": [
    "for i in range(int(len(bw[1:])/2)-1):\n",
    "    name1 = bw[1+i]\n",
    "    name2 = bw[9+i]\n",
    "    peak = [cond1peak[i], commonpeak[i], cond2peak[i]]\n",
    "    for val in peak:\n",
    "        chip.dropWeirdChromosomes(val)\n",
    "    name = names[i]\n",
    "    chip.getPeaksAt(peak, [name1, name2], bigwignames=['DMSO', 'VHL'], peaknames=['DMSO_peaks', 'common', 'VHL_peaks'], window=3000, title=name, numthreads=7, refpoint='center', folder=\"../../data/IRF2BP2_degraded_rep1/bwa/mergedLibrary/bigwig/\", torecompute=True, name='../../data/IRF2BP2_degraded_rep1/diffPeaks_unscaled/'+name+'_mat.pdf', withDeeptools=True)"
   ]
  },
  {
   "cell_type": "code",
   "execution_count": null,
   "metadata": {},
   "outputs": [],
   "source": [
    "! gsutil -m cp -r ../../data/IRF2BP2_degraded_rep1 gs://amlproject/Chip/\n",
    "# rm -r ../../data/IRF2BP2_degraded_rep1"
   ]
  },
  {
   "cell_type": "markdown",
   "metadata": {},
   "source": [
    "## v2"
   ]
  },
  {
   "cell_type": "code",
   "execution_count": null,
   "metadata": {},
   "outputs": [],
   "source": [
    "# mkdir ../../data/IRF2BP2_degraded_rep2/ && mkdir ../../data/IRF2BP2_degraded_rep2/fastqs && gsutil -m cp \"gs://transfer-amlproject/20191219_MP7659*\" ../../data/IRF2BP2_degraded_rep2/fastqs/"
   ]
  },
  {
   "cell_type": "markdown",
   "metadata": {},
   "source": [
    "### analysis"
   ]
  },
  {
   "cell_type": "code",
   "execution_count": null,
   "metadata": {},
   "outputs": [],
   "source": [
    "rename = {\n",
    "\"20191219_MP7659_1_S1_R1_001.fastq.gz\":\"mp795-MV411_IRF2BP2_DMSO_6h-FLAG_IRF2BP2-r2_R1.fastq.gz\",\n",
    "\"20191219_MP7659_1_S1_R2_001.fastq.gz\":\"mp795-MV411_IRF2BP2_DMSO_6h-FLAG_IRF2BP2-r2_R2.fastq.gz\",\n",
    "\"20191219_MP7659_2_S2_R1_001.fastq.gz\":\"mp796-MV411_IRF2BP2_DMSO_6h-MED1-r2_R1.fastq.gz\",\n",
    "\"20191219_MP7659_2_S2_R2_001.fastq.gz\":\"mp796-MV411_IRF2BP2_DMSO_6h-MED1-r2_R2.fastq.gz\",\n",
    "\"20191219_MP7659_3_S3_R1_001.fastq.gz\":\"mp797-MV411_IRF2BP2_DMSO_6h-POLII_total-r2_R1.fastq.gz\",\n",
    "\"20191219_MP7659_3_S3_R2_001.fastq.gz\":\"mp797-MV411_IRF2BP2_DMSO_6h-POLII_total-r2_R2.fastq.gz\",\n",
    "\"20191219_MP7659_4_S4_R1_001.fastq.gz\":\"mp798-MV411_IRF2BP2_DMSO_6h-POLII_S2-r2_R1.fastq.gz\",\n",
    "\"20191219_MP7659_4_S4_R2_001.fastq.gz\":\"mp798-MV411_IRF2BP2_DMSO_6h-POLII_S2-r2_R2.fastq.gz\",\n",
    "\"20191219_MP7659_5_S5_R1_001.fastq.gz\":\"mp799-MV411_IRF2BP2_DMSO_6h-POLII_S5-r2_R1.fastq.gz\",\n",
    "\"20191219_MP7659_5_S5_R2_001.fastq.gz\":\"mp799-MV411_IRF2BP2_DMSO_6h-POLII_S5-r2_R2.fastq.gz\",\n",
    "\"20191219_MP7659_6_S6_R1_001.fastq.gz\":\"mp800-MV411_IRF2BP2_DMSO_6h-MYC-r2_R1.fastq.gz\",\n",
    "\"20191219_MP7659_6_S6_R2_001.fastq.gz\":\"mp800-MV411_IRF2BP2_DMSO_6h-MYC-r2_R2.fastq.gz\",\n",
    "\"20191219_MP7659_7_S7_R1_001.fastq.gz\":\"mp801-MV411_IRF2BP2_DMSO_6h-MYB-r2_R1.fastq.gz\",\n",
    "\"20191219_MP7659_7_S7_R2_001.fastq.gz\":\"mp801-MV411_IRF2BP2_DMSO_6h-MYB-r2_R2.fastq.gz\",\n",
    "\"20191219_MP7659_8_S8_R1_001.fastq.gz\":\"mp802-MV411_IRF2BP2_DMSO_6h-SPI1-r2_R1.fastq.gz\",\n",
    "\"20191219_MP7659_8_S8_R2_001.fastq.gz\":\"mp802-MV411_IRF2BP2_DMSO_6h-SPI1-r2_R2.fastq.gz\",\n",
    "\"20191219_MP7659_9_S9_R1_001.fastq.gz\":\"mp803-MV411_IRF2BP_VHL_6h-FLAG_IRF2BP2-r2_R1.fastq.gz\",\n",
    "\"20191219_MP7659_9_S9_R2_001.fastq.gz\":\"mp803-MV411_IRF2BP_VHL_6h-FLAG_IRF2BP2-r2_R2.fastq.gz\",\n",
    "\"20191219_MP7659_10_S10_R1_001.fastq.gz\":\"mp804-MV411_IRF2BP_VHL_6h-MED1-r2_R1.fastq.gz\",\n",
    "\"20191219_MP7659_10_S10_R2_001.fastq.gz\":\"mp804-MV411_IRF2BP_VHL_6h-MED1-r2_R2.fastq.gz\",\n",
    "\"20191219_MP7659_11_S11_R1_001.fastq.gz\":\"mp805-MV411_IRF2BP_VHL_6h-POLII_total-r2_R1.fastq.gz\",\n",
    "\"20191219_MP7659_11_S11_R2_001.fastq.gz\":\"mp805-MV411_IRF2BP_VHL_6h-POLII_total-r2_R2.fastq.gz\",\n",
    "\"20191219_MP7659_12_S12_R1_001.fastq.gz\":\"mp806-MV411_IRF2BP_VHL_6h-POLII_S2-r2_R1.fastq.gz\",\n",
    "\"20191219_MP7659_12_S12_R2_001.fastq.gz\":\"mp806-MV411_IRF2BP_VHL_6h-POLII_S2-r2_R2.fastq.gz\",\n",
    "\"20191219_MP7659_13_S13_R1_001.fastq.gz\":\"mp807-MV411_IRF2BP_VHL_6h-POLII_S5-r2_R1.fastq.gz\",\n",
    "\"20191219_MP7659_13_S13_R2_001.fastq.gz\":\"mp807-MV411_IRF2BP_VHL_6h-POLII_S5-r2_R2.fastq.gz\",\n",
    "\"20191219_MP7659_14_S14_R1_001.fastq.gz\":\"mp808-MV411_IRF2BP_VHL_6h-MYC-r2_R1.fastq.gz\",\n",
    "\"20191219_MP7659_14_S14_R2_001.fastq.gz\":\"mp808-MV411_IRF2BP_VHL_6h-MYC-r2_R2.fastq.gz\",\n",
    "\"20191219_MP7659_15_S15_R1_001.fastq.gz\":\"mp809-MV411_IRF2BP_VHL_6h-MYB-r2_R1.fastq.gz\",\n",
    "\"20191219_MP7659_15_S15_R2_001.fastq.gz\":\"mp809-MV411_IRF2BP_VHL_6h-MYB-r2_R2.fastq.gz\",\n",
    "\"20191219_MP7659_16_S16_R1_001.fastq.gz\":\"mp810-MV411_IRF2BP_VHL_6h-SPI1-r2_R1.fastq.gz\",\n",
    "\"20191219_MP7659_16_S16_R2_001.fastq.gz\":\"mp810-MV411_IRF2BP_VHL_6h-SPI1-r2_R2.fastq.gz\"\n",
    "}"
   ]
  },
  {
   "cell_type": "code",
   "execution_count": null,
   "metadata": {},
   "outputs": [],
   "source": [
    "for k,v in rename.items():\n",
    "    ! mv ../../data/IRF2BP2_degraded_rep2/fastqs/$k ../../data/IRF2BP2_degraded_rep2/fastqs/$v\n"
   ]
  },
  {
   "cell_type": "code",
   "execution_count": null,
   "metadata": {},
   "outputs": [],
   "source": [
    "inputfastq=\"gs://amlproject/Chip/fastqs/mp99-MV411-INPUT-r1.fastq.gz\"\n",
    "! gsutil cp $inputfastq ../../data/IRF2BP2_degraded_rep2/fastqs\n",
    "a = ! ls ../../data/IRF2BP2_degraded_rep2/fastqs"
   ]
  },
  {
   "cell_type": "code",
   "execution_count": null,
   "metadata": {},
   "outputs": [],
   "source": [
    "from gsheets import Sheets\n",
    "sheets = Sheets.from_files('~/.client_secret.json', '~/.storage.json')\n",
    "url=\"https://docs.google.com/spreadsheets/d/1yFLjYB1McU530JnLgL0QIMAKIkVl3kl0_LCHje2gk8U\"\n",
    "gsheet = sheets.get(url).sheets[2].to_frame()"
   ]
  },
  {
   "cell_type": "code",
   "execution_count": null,
   "metadata": {},
   "outputs": [],
   "source": [
    "df = {\n",
    "\"fastq1\": [],\n",
    "\"fastq2\": [],\n",
    "\"antibody\": [],\n",
    "\"group\": [],\n",
    "\"replicate\": [],\n",
    "\"control\": []\n",
    "}\n",
    "for val in helper.grouped(a[:-1],2):\n",
    "    row = gsheet[gsheet.id==val[0].split('/')[-1].split('_')[0]]\n",
    "    df['group'].append((row.id.values[0] + '_'+ row.name_replicate.values[0] +\"_\"+row.protein.values[0]))\n",
    "    df['replicate'].append(1)\n",
    "    df['fastq1'].append(val[0])\n",
    "    #df['fastq2'].append(val[1])\n",
    "    df['antibody'].append(row.protein.values[0])\n",
    "    df['control'].append(\"INPUT\")\n",
    "df['group'].append('INPUT')\n",
    "df['replicate'].append(1)\n",
    "df['fastq1'].append(a[-1])\n",
    "#df['fastq2'].append(val[1])\n",
    "df['antibody'].append(\"INPUT\")\n",
    "df['control'].append(\"INPUT\")\n",
    "df = pd.DataFrame(df)"
   ]
  },
  {
   "cell_type": "code",
   "execution_count": null,
   "metadata": {},
   "outputs": [],
   "source": [
    "df[df.columns[[3,4,0,1,2,5]]].to_csv('../nextflow/IRF2BP2_degraded_rep2_design.csv')"
   ]
  },
  {
   "cell_type": "code",
   "execution_count": null,
   "metadata": {},
   "outputs": [],
   "source": [
    "#process chips\n",
    "! sudo ./nextflow run nf-core/chipseq --single_end --seq_center 'DFCI' --email 'jkobject@gmail.com' --narrow_peak --input ../nextflow/IRF2BP2_degraded_rep2_design.csv --genome GRCh38 --skip_preseq --max_cpus 24 -profile docker -w work"
   ]
  },
  {
   "cell_type": "code",
   "execution_count": null,
   "metadata": {},
   "outputs": [],
   "source": [
    "#!gsutil cp results/* ../../data/IRF2BP2_degraded_rep2/ && sudo rm -r work && sudo rm -r results"
   ]
  },
  {
   "cell_type": "code",
   "execution_count": null,
   "metadata": {},
   "outputs": [],
   "source": [
    "# get scaling values\n",
    "mappedreads, umappedreads_norm, mapped = chip.getSpikeInControlScales(refgenome=\"../../ref/reference_droso.fna\",FastQfolder='../../data/IRF2BP2_degraded_rep2/fastqs/',pairedEnd=True, cores=8)\n",
    "mappedreads, umappedreads_norm, mapped"
   ]
  },
  {
   "cell_type": "markdown",
   "metadata": {},
   "source": [
    "computing scales from the excel sheet"
   ]
  },
  {
   "cell_type": "code",
   "execution_count": null,
   "metadata": {},
   "outputs": [],
   "source": [
    "scales = [[508878,637972],\n",
    "[1929129,11595],\n",
    "[669536,429562],\n",
    "[1272730,810802],\n",
    "[743859,893304],\n",
    "[312888,1154119],\n",
    "[1086031,880901],\n",
    "[850181,1019640]]"
   ]
  },
  {
   "cell_type": "code",
   "execution_count": null,
   "metadata": {},
   "outputs": [],
   "source": [
    "scales = [[1.0, 0.7976494266],\n",
    "[0.006010484524, 1.0],\n",
    "[0.6415816327, 1.0],\n",
    "[0.6370573492, 1.0],\n",
    "[1.0, 0.8327053276],\n",
    "[1.0, 0.2711054926],\n",
    "[0.8111195721, 1.0],\n",
    "[1.0, 0.8338050685]]"
   ]
  },
  {
   "cell_type": "markdown",
   "metadata": {},
   "source": [
    "### on scalled data"
   ]
  },
  {
   "cell_type": "code",
   "execution_count": null,
   "metadata": {},
   "outputs": [],
   "source": [
    "# on scaled data\n",
    "bams = ! ls ../../IRF2BP2_degraded_rep2/bwa/mergedLibrary/*.bam\n",
    "for i in range(int(len(bams[1:])/2)-1):\n",
    "    name1 = bams[1+val]\n",
    "    name2 = bams[9+val]\n",
    "    chip.fullDiffPeak(name1,name2,control1='../../data/IRF2BP2_degraded_rep2/bwa/mergedLibrary/INPUT_R1.mLb.clN.sorted.bam', directory = \"../../data/IRF2BP2_degraded_rep2/diffData_unscaled/\", res_directory = \"../../data/IRF2BP2_degraded_rep2/diffPeaks_unscaled/\", scaling = scales[val][::-1])"
   ]
  },
  {
   "cell_type": "code",
   "execution_count": null,
   "metadata": {},
   "outputs": [],
   "source": [
    "bams = ! ls ../../data/IRF2BP2_degraded_rep2/bwa/mergedLibrary/*.bam\n",
    "bams = [i.split('/')[-1].split('.')[0] for i in bams]\n",
    "bams"
   ]
  },
  {
   "cell_type": "code",
   "execution_count": null,
   "metadata": {},
   "outputs": [],
   "source": [
    "# diffPeak on scalled data\n",
    "sizes = [220, 191, 228, 285, 222, 204, 211, 194]\n",
    "for i in range(int(len(bams[1:])/2)-1):\n",
    "    name1 = bams[1+i]\n",
    "    name2 = bams[9+i]\n",
    "    chip.diffPeak(name1,name2, directory= \"../../data/IRF2BP2_degraded_rep2/diffData/\", res_directory='../../data/IRF2BP2_degraded_rep2/diffPeaks/', scaling1=scales[i][1], scaling2=scales[i][0], size=size[i])"
   ]
  },
  {
   "cell_type": "code",
   "execution_count": null,
   "metadata": {},
   "outputs": [],
   "source": [
    "scales = [1.0,\n",
    "0.006010484524,\n",
    "0.6415816327,\n",
    "0.6370573492,\n",
    "1.0,\n",
    "1.0,\n",
    "0.8111195721,\n",
    "1.0,\n",
    "0.7976494266,\n",
    "1.0,\n",
    "1.0,\n",
    "1.0,\n",
    "0.8327053276,\n",
    "0.2711054926,\n",
    "1.0,\n",
    "0.8338050685]"
   ]
  },
  {
   "cell_type": "code",
   "execution_count": null,
   "metadata": {},
   "outputs": [],
   "source": [
    "chip.bigWigFrom(bams[1:],genome='GRCh38',scaling=scales)"
   ]
  },
  {
   "cell_type": "code",
   "execution_count": null,
   "metadata": {},
   "outputs": [],
   "source": [
    "! mv ../../data/recalib_bigwig_rep2/* ../../data/IRF2BP2_degraded_rep2/recalib_bigwig/\n",
    "bw = ! ls ../../data/IRF2BP2_degraded_rep2/recalib_bigwig/*.bw\n",
    "bw"
   ]
  },
  {
   "cell_type": "code",
   "execution_count": null,
   "metadata": {},
   "outputs": [],
   "source": [
    "cond1peak = ! ls ../../data/IRF2BP2_degraded_rep2/diffPeaks/*cond1.bed\n",
    "cond2peak = ! ls ../../data/IRF2BP2_degraded_rep2/diffPeaks/*cond2.bed\n",
    "commonpeak = ! ls ../../data/IRF2BP2_degraded_rep2/diffPeaks/*common.bed\n",
    "commonpeak"
   ]
  },
  {
   "cell_type": "code",
   "execution_count": null,
   "metadata": {},
   "outputs": [],
   "source": [
    "names = [\"FLAG_IRF2BP2\",\"MED1\",\"POLII_total\",\"POLII_S2\",\"POLII_S5\",\"MYC\",\"MYB\",\"SPI1\"]"
   ]
  },
  {
   "cell_type": "code",
   "execution_count": null,
   "metadata": {},
   "outputs": [],
   "source": [
    "for i in range(int(len(bw)/2)):\n",
    "    name1 = bw[i]\n",
    "    name2 = bw[8+i]\n",
    "    peak = [cond1peak[i], commonpeak[i], cond2peak[i]]\n",
    "    for val in peak:\n",
    "        chip.dropWeirdChromosomes(val)\n",
    "    name = names[i]\n",
    "    chip.getPeaksAt(peak, [name1, name2], bigwignames=['DMSO', 'VHL'], peaknames=['DMSO_peaks', 'common', 'VHL_peaks'], window=3000, folder=\"\", title=name, numthreads=20, name='../../data/IRF2BP2_degraded_rep2/diffPeaks/'+name+'_mat.pdf', refpoint='center', withDeeptools=True, torecompute= True,)"
   ]
  },
  {
   "cell_type": "code",
   "execution_count": null,
   "metadata": {},
   "outputs": [],
   "source": [
    "peaks = ! ls ../../data/IRF2BP2_degraded_rep2/bwa/mergedLibrary/macs/narrowPeak/*.narrowPeak\n",
    "peaks"
   ]
  },
  {
   "cell_type": "code",
   "execution_count": null,
   "metadata": {},
   "outputs": [],
   "source": [
    "names = [\"FLAG_IRF2BP2\",\"MED1\",\"POLII_total\",\"POLII_S2\",\"POLII_S5\",\"MYC\",\"MYB\",\"SPI1\"]\n",
    "names.extend([i+'_VHL' for i in names])\n",
    "names"
   ]
  },
  {
   "cell_type": "code",
   "execution_count": null,
   "metadata": {},
   "outputs": [],
   "source": [
    "bw"
   ]
  },
  {
   "cell_type": "code",
   "execution_count": null,
   "metadata": {},
   "outputs": [],
   "source": [
    "for i in range(len(bw)-1):\n",
    "    chip.getPeaksAt(peaks[i], bw[1+i], window=3000, folder=\"\", title=names[i], numthreads=7, torecompute=True, onlyProfile=True, name='../../data/IRF2BP2_degraded_rep2/diffPeaks/'+names[i]+'_mat_profile.pdf', refpoint='center', withDeeptools=True)\n",
    "    chip.getPeaksAt(peaks[i], bw[1+i], window=3000, folder=\"\", title=names[i], numthreads=7, torecompute=True, refpoint='center', onlyProfile=True, name='../../data/IRF2BP2_degraded_rep2/diffPeaks/'+names[i]+'_mat_profile_clust3.pdf', withDeeptools=True, cluster=3)"
   ]
  },
  {
   "cell_type": "markdown",
   "metadata": {},
   "source": [
    "### unscalled"
   ]
  },
  {
   "cell_type": "code",
   "execution_count": null,
   "metadata": {},
   "outputs": [],
   "source": [
    "bams = !ls ../../data/IRF2BP2_degraded_rep2/bwa/mergedLibrary/mp*.bam\n",
    "bams"
   ]
  },
  {
   "cell_type": "code",
   "execution_count": null,
   "metadata": {},
   "outputs": [],
   "source": [
    "!mkdir  ../../data/IRF2BP2_degraded_rep2/diffPeaks_unscaled\n",
    "bw = ! ../../data/IRF2BP2_degraded_rep2/bwa/mergedLibrary/bigwig/*.bigWig"
   ]
  },
  {
   "cell_type": "code",
   "execution_count": null,
   "metadata": {},
   "outputs": [],
   "source": [
    "# on unscalled data \n",
    "for i in range(int(len(bams)/2)):\n",
    "    if i <0:\n",
    "        continue\n",
    "    name1 = bams[i]\n",
    "    name2 = bams[8+i]\n",
    "    chip.fullDiffPeak(name1,name2, control1='../../data/results3/bwa/mergedLibrary/INPUT_R1.mLb.clN.sorted.bam', directory = \"../../data/IRF2BP2_degraded_rep2/diffData_unscaled/\", res_directory = \"../../data/IRF2BP2_degraded_rep2/diffPeaks_unscaled/\", pairedend=False)"
   ]
  },
  {
   "cell_type": "code",
   "execution_count": null,
   "metadata": {},
   "outputs": [],
   "source": [
    "commonpeak = ! ls ../../data/IRF2BP2_degraded_rep2/diffPeaks_unscaled/*common.bed\n",
    "cond1peak = ! ls ../../data/IRF2BP2_degraded_rep2/diffPeaks_unscaled/*cond1.bed\n",
    "cond2peak = ! ls ../../data/IRF2BP2_degraded_rep2/diffPeaks_unscaled/*cond2.bed\n",
    "cond2peak"
   ]
  },
  {
   "cell_type": "code",
   "execution_count": null,
   "metadata": {},
   "outputs": [],
   "source": [
    "names = [\"FLAG_IRF2BP2\",\"MED1\",\"POLII_total\",\"POLII_S2\",\"POLII_S5\",\"MYC\",\"MYB\",\"SPI1\"]"
   ]
  },
  {
   "cell_type": "code",
   "execution_count": null,
   "metadata": {},
   "outputs": [],
   "source": [
    "for i in range(int(len(bw[1:])/2)):\n",
    "    name1 = bw[1+i]\n",
    "    name2 = bw[9+i]\n",
    "    peak = [cond1peak[i], commonpeak[i], cond2peak[i]]\n",
    "    for val in peak:\n",
    "        chip.dropWeirdChromosomes(val)\n",
    "    name = names[i]\n",
    "    chip.getPeaksAt(peak, [name1, name2], bigwignames=['DMSO', 'VHL'], peaknames=['DMSO_peaks', 'common', 'VHL_peaks'], window=3000, title=name, numthreads=7, torecompute=True, refpoint='center', folder=\"\", name='../../data/IRF2BP2_degraded_rep2/diffPeaks_unscaled/'+name+'_mat.pdf', withDeeptools=True)"
   ]
  },
  {
   "cell_type": "code",
   "execution_count": null,
   "metadata": {},
   "outputs": [],
   "source": [
    "! gsutil -m cp -r \"../../data/IRF2BP2_degraded_rep2\" gs://amlproject/Chip/"
   ]
  },
  {
   "cell_type": "markdown",
   "metadata": {},
   "source": [
    "## v3"
   ]
  },
  {
   "cell_type": "code",
   "execution_count": null,
   "metadata": {},
   "outputs": [],
   "source": [
    "! gsutil mv gs://transfer-amlproject/*MP7781*  gs://transfer-amlproject/IRF2BP2_v3/"
   ]
  },
  {
   "cell_type": "markdown",
   "metadata": {},
   "source": [
    "### analysis"
   ]
  },
  {
   "cell_type": "code",
   "execution_count": null,
   "metadata": {},
   "outputs": [],
   "source": [
    "! mkdir ../../data/IRF2BP2_degraded_rep3 && mkdir ../../data/IRF2BP2_degraded_rep3/fastqs && gsutil -m cp gs://transfer-amlproject/IRF2BP2_v3/* ../../data/IRF2BP2_degraded_rep3/fastqs/"
   ]
  },
  {
   "cell_type": "code",
   "execution_count": null,
   "metadata": {},
   "outputs": [],
   "source": [
    "rename = {\n",
    "\"20200203_1_MP7781_S67_R1_001.fastq.gz\":\"mp831-MV411_IRF2BP_DMSO_6h-CDK8-r1_R1.fastq.gz\",\n",
    "\"20200203_1_MP7781_S67_R2_001.fastq.gz\":\"mp831-MV411_IRF2BP_DMSO_6h-CDK8-r1_R2.fastq.gz\",\n",
    "\"20200203_2_MP7781_S68_R1_001.fastq.gz\":\"mp832-MV411_IRF2BP_DMSO_6h-BRD4-r1_R1.fastq.gz\",\n",
    "\"20200203_2_MP7781_S68_R2_001.fastq.gz\":\"mp832-MV411_IRF2BP_DMSO_6h-BRD4-r1_R2.fastq.gz\",\n",
    "\"20200203_3_MP7781_S69_R1_001.fastq.gz\":\"mp833-MV411_IRF2BP_DMSO_6h-IRF8-r1_R1.fastq.gz\",\n",
    "\"20200203_3_MP7781_S69_R2_001.fastq.gz\":\"mp833-MV411_IRF2BP_DMSO_6h-IRF8-r1_R2.fastq.gz\",\n",
    "\"20200203_4_MP7781_S70_R1_001.fastq.gz\":\"mp834-MV411_IRF2BP_DMSO_6h-SMC1-r1_R1.fastq.gz\",\n",
    "\"20200203_4_MP7781_S70_R2_001.fastq.gz\":\"mp834-MV411_IRF2BP_DMSO_6h-SMC1-r1_R2.fastq.gz\",\n",
    "\"20200203_5_MP7781_S71_R2_001.fastq.gz\":\"mp835-MV411_IRF2BP_DMSO_6h-MED1-r3_R2.fastq.gz\",\n",
    "\"20200203_5_MP7781_S71_R1_001.fastq.gz\":\"mp835-MV411_IRF2BP_DMSO_6h-MED1-r3_R1.fastq.gz\",\n",
    "\"20200203_6_MP7781_S72_R1_001.fastq.gz\":\"mp836-MV411_IRF2BP_DMSO_6h-ZEB2-r1_R1.fastq.gz\",\n",
    "\"20200203_6_MP7781_S72_R2_001.fastq.gz\":\"mp836-MV411_IRF2BP_DMSO_6h-ZEB2-r1_R2.fastq.gz\",\n",
    "\"20200203_7_MP7781_S73_R1_001.fastq.gz\":\"mp837-MV411_IRF2BP_DMSO_6h-CEBPA-r1_R1.fastq.gz\",\n",
    "\"20200203_7_MP7781_S73_R2_001.fastq.gz\":\"mp837-MV411_IRF2BP_DMSO_6h-CEBPA-r1_R2.fastq.gz\",\n",
    "\"20200203_8_MP7781_S74_R1_001.fastq.gz\":\"mp838-MV411_IRF2BP_VHL_6h-CDK8-r1_R1.fastq.gz\",\n",
    "\"20200203_8_MP7781_S74_R2_001.fastq.gz\":\"mp838-MV411_IRF2BP_VHL_6h-CDK8-r1_R2.fastq.gz\",\n",
    "\"20200203_9_MP7781_S75_R1_001.fastq.gz\":\"mp839-MV411_IRF2BP_VHL_6h-BRD4-r1_R1.fastq.gz\",\n",
    "\"20200203_9_MP7781_S75_R2_001.fastq.gz\":\"mp839-MV411_IRF2BP_VHL_6h-BRD4-r1_R2.fastq.gz\",\n",
    "\"20200203_10_MP7781_S76_R2_001.fastq.gz\":\"mp840-MV411_IRF2BP_VHL_6h-IRF8-r1_R2.fastq.gz\",\n",
    "\"20200203_10_MP7781_S76_R1_001.fastq.gz\":\"mp840-MV411_IRF2BP_VHL_6h-IRF8-r1_R1.fastq.gz\",\n",
    "\"20200203_11_MP7781_S77_R1_001.fastq.gz\":\"mp841-MV411_IRF2BP_VHL_6h-SMC1-r1_R1.fastq.gz\",\n",
    "\"20200203_11_MP7781_S77_R2_001.fastq.gz\":\"mp841-MV411_IRF2BP_VHL_6h-SMC1-r1_R2.fastq.gz\",\n",
    "\"20200203_12_MP7781_S78_R1_001.fastq.gz\":\"mp842-MV411_IRF2BP_VHL_6h-MED1-r3_R1.fastq.gz\",\n",
    "\"20200203_12_MP7781_S78_R2_001.fastq.gz\":\"mp842-MV411_IRF2BP_VHL_6h-MED1-r3_R2.fastq.gz\",\n",
    "\"20200203_13_MP7781_S79_R1_001.fastq.gz\":\"mp843-MV411_IRF2BP_VHL_6h-ZEB2-r1_R1.fastq.gz\",\n",
    "\"20200203_13_MP7781_S79_R2_001.fastq.gz\":\"mp843-MV411_IRF2BP_VHL_6h-ZEB2-r1_R2.fastq.gz\",\n",
    "\"20200203_14_MP7781_S80_R2_001.fastq.gz\":\"mp844-MV411_IRF2BP_VHL_6h-CEBPA-r1_R2.fastq.gz\",\n",
    "\"20200203_14_MP7781_S80_R1_001.fastq.gz\":\"mp844-MV411_IRF2BP_VHL_6h-CEBPA-r1_R1.fastq.gz\",\n",
    "\"20200203_Input_MP7781_S81_R1_001.fastq.gz\":\"mp845-MV411_IRF2BP2_-INPUT-r1_R1.fastq.gz\",\n",
    "\"20200203_Input_MP7781_S81_R2_001.fastq.gz\":\"mp845-MV411_IRF2BP2_-INPUT-r1_R2.fastq.gz\"\n",
    "}"
   ]
  },
  {
   "cell_type": "code",
   "execution_count": null,
   "metadata": {},
   "outputs": [],
   "source": [
    "for k,v in rename.items():\n",
    "    ! mv ../../data/IRF2BP2_degraded_rep3/fastqs/$k ../../data/IRF2BP2_degraded_rep3/fastqs/$v"
   ]
  },
  {
   "cell_type": "code",
   "execution_count": null,
   "metadata": {},
   "outputs": [],
   "source": [
    "from gsheets import Sheets\n",
    "sheets = Sheets.from_files('~/.client_secret.json', '~/.storage.json')\n",
    "url=\"https://docs.google.com/spreadsheets/d/1yFLjYB1McU530JnLgL0QIMAKIkVl3kl0_LCHje2gk8U\"\n",
    "gsheet = sheets.get(url).sheets[2].to_frame()"
   ]
  },
  {
   "cell_type": "code",
   "execution_count": null,
   "metadata": {},
   "outputs": [],
   "source": [
    "a = ! ls ../../data/IRF2BP2_degraded_rep3/fastqs"
   ]
  },
  {
   "cell_type": "code",
   "execution_count": null,
   "metadata": {},
   "outputs": [],
   "source": [
    "gsheet"
   ]
  },
  {
   "cell_type": "code",
   "execution_count": null,
   "metadata": {},
   "outputs": [],
   "source": [
    "df = {\n",
    "\"fastq_1\": [],\n",
    "\"fastq_2\": [],\n",
    "\"antibody\": [],\n",
    "\"group\": [],\n",
    "\"replicate\": [],\n",
    "\"control\": []\n",
    "}\n",
    "for val in helper.grouped(a[:-2],2):\n",
    "    row = gsheet[gsheet.id==val[0].split('/')[-1].split('-')[0]]\n",
    "    df['group'].append(row['name'].values[0])\n",
    "    df['replicate'].append(1)\n",
    "    df['fastq_1'].append(val[0])\n",
    "    df['fastq_2'].append(val[1])\n",
    "    df['antibody'].append(row['protein'].values[0])\n",
    "    df['control'].append(\"INPUT\")\n",
    "df['group'].append('INPUT')\n",
    "df['replicate'].append(1)\n",
    "df['fastq_1'].append(a[-2])\n",
    "df['fastq_2'].append(a[-1])\n",
    "df['antibody'].append(\"\")\n",
    "df['control'].append(\"\")\n",
    "df = pd.DataFrame(df)"
   ]
  },
  {
   "cell_type": "code",
   "execution_count": null,
   "metadata": {},
   "outputs": [],
   "source": [
    "df"
   ]
  },
  {
   "cell_type": "code",
   "execution_count": null,
   "metadata": {},
   "outputs": [],
   "source": [
    "df[df.columns[[3,4,0,1,2,5]]].to_csv('../nextflow/IRF2BP2_degraded_rep3_design.csv',index=False)"
   ]
  },
  {
   "cell_type": "code",
   "execution_count": null,
   "metadata": {},
   "outputs": [],
   "source": [
    "#process chips\n",
    "! sudo ../nextflow run nf-core/chipseq --paired_end --seq_center 'DFCI' --email \\\n",
    "'jkobject@gmail.com' --narrow_peak --input ../nextflow/../../data/IRF2BP2_degraded_rep3_design.csv --genome GRCh38 --skip_preseq \\\n",
    "--max_cpus 24 -profile docker -w work"
   ]
  },
  {
   "cell_type": "code",
   "execution_count": null,
   "metadata": {},
   "outputs": [],
   "source": [
    "ls"
   ]
  },
  {
   "cell_type": "code",
   "execution_count": null,
   "metadata": {},
   "outputs": [],
   "source": [
    "!cp -r results/* ../../data/IRF2BP2_degraded_rep3/ && sudo rm -r work && sudo rm -r results"
   ]
  },
  {
   "cell_type": "code",
   "execution_count": null,
   "metadata": {},
   "outputs": [],
   "source": [
    "ls ../TrimGalore-0.6.5/trim_galore"
   ]
  },
  {
   "cell_type": "code",
   "execution_count": null,
   "metadata": {},
   "outputs": [],
   "source": [
    "# get scaling values\n",
    "mappedreads, umappedreads_norm = chip.getSpikeInControlScales(refgenome=\"../../ref/reference_droso.fna\",\n",
    "                                                                      fastQfolder='../../data/IRF2BP2_degraded_rep3/fastqs',\n",
    "                                                                      pairedEnd=True, cores=8,\n",
    "                                                                      tofilter=False,\n",
    "                                                                      totrim=False,\n",
    "                                                                      tomap=False,\n",
    "                                                                      pathtotrim_galore=\"../TrimGalore-0.6.5/trim_galore\")\n",
    "mappedreads, umappedreads_norm"
   ]
  },
  {
   "cell_type": "markdown",
   "metadata": {},
   "source": [
    "computing scales from the excel sheet"
   ]
  },
  {
   "cell_type": "code",
   "execution_count": null,
   "metadata": {},
   "outputs": [],
   "source": [
    "scales = [[536923,632558],\n",
    "[601370,681405],\n",
    "[2402198,1676203],\n",
    "[417892,216192],\n",
    "[1544590,1350802],\n",
    "[1174994,1376726],\n",
    "[289635,240366]]"
   ]
  },
  {
   "cell_type": "code",
   "execution_count": null,
   "metadata": {},
   "outputs": [],
   "source": [
    "scales= [[1.0, 0.8488122828],\n",
    "[1.0, 0.8825441551],\n",
    "[0.6977788675, 1.0],\n",
    "[0.5173394083, 1.0],\n",
    "[0.8745375796, 1.0],\n",
    "[1.0, 0.8534697536],\n",
    "[0.8298927961, 1.0]]"
   ]
  },
  {
   "cell_type": "code",
   "execution_count": null,
   "metadata": {},
   "outputs": [],
   "source": [
    "bams = ! ls ../../data/IRF2BP2_degraded_rep3/bwa/mergedLibrary/*.bam #../../data/results3/bwa/mergedLibrary/*.bam\n",
    "bams"
   ]
  },
  {
   "cell_type": "code",
   "execution_count": null,
   "metadata": {},
   "outputs": [],
   "source": [
    "bams[7]"
   ]
  },
  {
   "cell_type": "code",
   "execution_count": null,
   "metadata": {},
   "outputs": [],
   "source": [
    "bams = [bam1.split('/')[-1].split('.')[0] for bam1 in bams]"
   ]
  },
  {
   "cell_type": "markdown",
   "metadata": {},
   "source": [
    "### on scalled data"
   ]
  },
  {
   "cell_type": "code",
   "execution_count": null,
   "metadata": {},
   "outputs": [],
   "source": [
    "# diffPeak on scaled data\n",
    "size=[206, 218, 189, 194, 217, 217, 176]\n",
    "for i in range(int(len(bams)/2)):\n",
    "    if i<0:\n",
    "        continue\n",
    "    name1 = bams[i]\n",
    "    name2 = bams[7+i]\n",
    "    print(name1,name2)\n",
    "    chip.diffPeak(name1, name2, directory= \"../../data/IRF2BP2_degraded_rep3/diffData/\", res_directory='../../data/IRF2BP2_degraded_rep3/diffPeaks/', scaling1=scales[i][1], scaling2=scales[i][0], size=size[i])"
   ]
  },
  {
   "cell_type": "code",
   "execution_count": null,
   "metadata": {},
   "outputs": [],
   "source": [
    "os.popen('for i in $(ls ../../data/IRF2BP2_degraded_rep3/diffPeaks/*.bed); \\\n",
    "            do echo $(wc -l $i); \\\n",
    "            done').read().split('\\n')"
   ]
  },
  {
   "cell_type": "code",
   "execution_count": null,
   "metadata": {},
   "outputs": [],
   "source": [
    "# diffPeak on scaled data\n",
    "for i in range(int(len(bams)/2)):\n",
    "    if i <0:\n",
    "        continue\n",
    "    name1 = bams[i]\n",
    "    name2 = bams[7+i]\n",
    "    print(name1,name2)\n",
    "    chip.fullDiffPeak(name1,name2, control1='../../data/IRF2BP2_degraded_rep3/INPUT_R1.mLb.clN.sorted.bam', directory = \"../../data/IRF2BP2_degraded_rep3/diffData/\", res_directory = \"../../data/IRF2BP2_degraded_rep3/diffPeaks/\", isTF=True, compute_size=True, pairedend=False)"
   ]
  },
  {
   "cell_type": "code",
   "execution_count": null,
   "metadata": {},
   "outputs": [],
   "source": [
    "scales = [1.0,\n",
    "1.0,\n",
    "0.6977788675,\n",
    "0.5173394083,\n",
    "0.8745375796,\n",
    "1.0,\n",
    "0.8298927961,\n",
    "0.8488122828,\n",
    "0.8825441551,\n",
    "1.0,\n",
    "1.0,\n",
    "1.0,\n",
    "0.8534697536,\n",
    "1.0]"
   ]
  },
  {
   "cell_type": "code",
   "execution_count": null,
   "metadata": {},
   "outputs": [],
   "source": [
    "bams"
   ]
  },
  {
   "cell_type": "code",
   "execution_count": null,
   "metadata": {},
   "outputs": [],
   "source": [
    "chip.bigWigFrom(bams[1:], \n",
    "                genome='GRCh38',scaling=scales,\n",
    "               numthreads=8)"
   ]
  },
  {
   "cell_type": "code",
   "execution_count": null,
   "metadata": {},
   "outputs": [],
   "source": [
    "! mv diffPeaks ../../data/IRF2BP2_degraded_rep3\n",
    "! mv diffData ../../data/IRF2BP2_degraded_rep3"
   ]
  },
  {
   "cell_type": "code",
   "execution_count": null,
   "metadata": {},
   "outputs": [],
   "source": [
    "!mv bigwig ../../data/recalib_bigwig_3 "
   ]
  },
  {
   "cell_type": "code",
   "execution_count": null,
   "metadata": {},
   "outputs": [],
   "source": [
    "os.popen('for i in $(ls ../../data/IRF2BP2_degraded_rep3/diffPeaks); \\\n",
    "            do echo $(wc -l \"../../data/IRF2BP2_degraded_rep3/diffPeaks/\"$i); \\\n",
    "            done').read().split('\\n')"
   ]
  },
  {
   "cell_type": "code",
   "execution_count": null,
   "metadata": {},
   "outputs": [],
   "source": [
    "bw = ! ls ../../data/recalib_bigwig_3/*.bw\n",
    "bw"
   ]
  },
  {
   "cell_type": "code",
   "execution_count": null,
   "metadata": {},
   "outputs": [],
   "source": [
    "cond1peak = ! ls ../../data/IRF2BP2_degraded_rep3/diffPeaks/*cond1.bed\n",
    "cond2peak = ! ls ../../data/IRF2BP2_degraded_rep3/diffPeaks/*cond2.bed\n",
    "commonpeak = ! ls ../../data/IRF2BP2_degraded_rep3/diffPeaks/*common.bed\n",
    "cond1peak"
   ]
  },
  {
   "cell_type": "code",
   "execution_count": null,
   "metadata": {},
   "outputs": [],
   "source": [
    "names = [\"CDK8\",\"BRD4\",\"IRF8\",\"SMC1\",\"MED1\",\"ZEB2\",\"CEBPA\"]"
   ]
  },
  {
   "cell_type": "code",
   "execution_count": null,
   "metadata": {},
   "outputs": [],
   "source": [
    "for i in range(int(len(bw)/2)):\n",
    "    if i<0:\n",
    "        continue\n",
    "    name1 = bw[i]\n",
    "    name2 = bw[7+i]\n",
    "    peak = [cond1peak[i], commonpeak[i], cond2peak[i]]\n",
    "    #for val in peak:\n",
    "        #chip.dropWeirdChromosomes(val)\n",
    "    name = names[i]\n",
    "    chip.getPeaksAt(peak, [name1, name2], bigwignames=['DMSO', 'VHL'], refpoint='center', peaknames=['DMSO_peaks', 'common', 'VHL_peaks'], window=3000, folder=\"\", title=name, numthreads=14, name='../../data/IRF2BP2_degraded_rep3/diffPeaks/'+name+'_mat.pdf', withDeeptools=True, torecompute=True)"
   ]
  },
  {
   "cell_type": "code",
   "execution_count": null,
   "metadata": {},
   "outputs": [],
   "source": [
    "names = [\"CDK8\",\"BRD4\",\"IRF8\",\"SMC1\",\"MED1\",\"ZEB2\",\"CEBPA\"]\n",
    "names.extend([i+'_VHL' for i in names])\n",
    "names"
   ]
  },
  {
   "cell_type": "code",
   "execution_count": null,
   "metadata": {},
   "outputs": [],
   "source": [
    "peaks = ! ls ../../data/IRF2BP2_degraded_rep3/bwa/mergedLibrary/macs/narrowPeak/*.narrowPeak\n",
    "peaks"
   ]
  },
  {
   "cell_type": "code",
   "execution_count": null,
   "metadata": {},
   "outputs": [],
   "source": [
    "for i in range(len(bw)):\n",
    "    chip.getPeaksAt(peaks[i], bw[i], window=3000, folder=\"\", title=names[i], numthreads=7, torecompute=True, onlyProfile=True, refpoint='center', name='../../data/IRF2BP2_degraded_rep3/diffPeaks/'+names[i]+'_mat_profile.pdf', withDeeptools=True)\n",
    "    chip.getPeaksAt(peaks[i], bw[i], window=3000, folder=\"\", title=names[i], numthreads=7, torecompute=True, refpoint='center', onlyProfile=True,name='../../data/IRF2BP2_degraded_rep3/diffPeaks/'+names[i]+'_mat_profile_clust3.pdf', withDeeptools=True, cluster=3)"
   ]
  },
  {
   "cell_type": "markdown",
   "metadata": {},
   "source": [
    "### on unscalled data"
   ]
  },
  {
   "cell_type": "code",
   "execution_count": null,
   "metadata": {},
   "outputs": [],
   "source": [
    "bams = !ls ../../data/IRF2BP2_degraded_rep3/bwa/mergedLibrary/mp*.bam\n",
    "bams"
   ]
  },
  {
   "cell_type": "code",
   "execution_count": null,
   "metadata": {},
   "outputs": [],
   "source": [
    "! mkdir ../../data/IRF2BP2_degraded_rep3/diffPeaks_unscaled"
   ]
  },
  {
   "cell_type": "code",
   "execution_count": null,
   "metadata": {},
   "outputs": [],
   "source": [
    "#on unscalled data \n",
    "for i in range(int(len(bams)/2)):\n",
    "    if i < 0:\n",
    "        continue\n",
    "    name1 = bams[i]\n",
    "    name2 = bams[7+i]\n",
    "    print(name1,name2)\n",
    "    chip.fullDiffPeak(name1,name2, control1='../../data/results3/bwa/mergedLibrary/INPUT_R1.mLb.clN.sorted.bam', directory = \"../../data/IRF2BP2_degraded_rep3/diffData_unscaled/\", res_directory = \"../../data/IRF2BP2_degraded_rep3/diffPeaks_unscaled/\",pairedend=False)"
   ]
  },
  {
   "cell_type": "code",
   "execution_count": null,
   "metadata": {},
   "outputs": [],
   "source": [
    "bw = ! ls ../../data/IRF2BP2_degraded_rep3/bwa/mergedLibrary/bigwig/*.bigWig\n",
    "bw"
   ]
  },
  {
   "cell_type": "code",
   "execution_count": null,
   "metadata": {},
   "outputs": [],
   "source": [
    "cond1peak = ! ls ../../data/IRF2BP2_degraded_rep3/diffPeaks_unscaled/*cond1.bed\n",
    "cond2peak = ! ls ../../data/IRF2BP2_degraded_rep3/diffPeaks_unscaled/*cond2.bed\n",
    "commonpeak = ! ls ../../data/IRF2BP2_degraded_rep3/diffPeaks_unscaled/*common.bed\n",
    "cond1peak"
   ]
  },
  {
   "cell_type": "code",
   "execution_count": null,
   "metadata": {},
   "outputs": [],
   "source": [
    "names = [\"CDK8\",\"BRD4\",\"IRF8\",\"SMC1\",\"MED1\",\"ZEB2\",\"CEBPA\"]"
   ]
  },
  {
   "cell_type": "code",
   "execution_count": null,
   "metadata": {},
   "outputs": [],
   "source": [
    "for i in range(int((len(bw)-1)/2)):\n",
    "    if i <0:\n",
    "        continue\n",
    "    name1 = bw[1+i]\n",
    "    name2 = bw[8+i]\n",
    "    peak = [cond1peak[i], commonpeak[i], cond2peak[i]]\n",
    "    #for val in peak:\n",
    "        #chip.dropWeirdChromosomes(val)\n",
    "    name = names[i]\n",
    "    print(name1,name2)\n",
    "    chip.getPeaksAt(peak, [name1, name2], bigwignames=['DMSO', 'VHL'], peaknames=['DMSO_peaks', 'common', 'VHL_peaks'], window=3000, folder=\"\", title=name, numthreads=14, torecompute=True, refpoint=\"center\", name='../../data/IRF2BP2_degraded_rep3/diffPeaks_unscaled/'+name+'_mat.pdf', withDeeptools=True)"
   ]
  },
  {
   "cell_type": "code",
   "execution_count": null,
   "metadata": {},
   "outputs": [],
   "source": [
    "! gsutil -m cp -r \"../../data/IRF2BP2_degraded_rep3/\" gs://amlproject/Chip/"
   ]
  },
  {
   "cell_type": "markdown",
   "metadata": {},
   "source": [
    "## histones V1&2"
   ]
  },
  {
   "cell_type": "code",
   "execution_count": null,
   "metadata": {},
   "outputs": [],
   "source": [
    "bamfolder=\"../../data/IRF2BP2_degraded_histones/fastqs/\""
   ]
  },
  {
   "cell_type": "code",
   "execution_count": null,
   "metadata": {},
   "outputs": [],
   "source": [
    "! mkdir ../../data/IRF2BP2_degraded_histones && mkdir ../../data/IRF2BP2_degraded_histones/fastqs && gsutil cp \"gs://transfer-amlproject/*.fastq.gz\" $bamfolder"
   ]
  },
  {
   "cell_type": "code",
   "execution_count": null,
   "metadata": {},
   "outputs": [],
   "source": [
    "! gsutil -m cp gs://transfer-amlproject/*MP7693* gs://transfer-amlproject/IRF2BP2_hist/ && gsutil -m rm gs://transfer-amlproject/*MP7693*"
   ]
  },
  {
   "cell_type": "markdown",
   "metadata": {},
   "source": [
    "\n",
    "### analysis"
   ]
  },
  {
   "cell_type": "code",
   "execution_count": null,
   "metadata": {},
   "outputs": [],
   "source": [
    "rename = {\n",
    "    \"20200103_1_MP7693_S6_R1_001.fastq.gz\":\"mp811-MV411_IRF2BP2_DMSO_6h-H3K27ac-r1_R1.fastq.gz\",\n",
    "    \"20200103_1_MP7693_S6_R2_001.fastq.gz\":\"mp811-MV411_IRF2BP2_DMSO_6h-H3K27ac-r1.fastq.gz\",\n",
    "    \"20200103_2_MP7693_S7_R1_001.fastq.gz\":\"mp812-MV411_IRF2BP2_DMSO_6h-H3K27ac-r2_R1.fastq.gz\",\n",
    "    \"20200103_2_MP7693_S7_R2_001.fastq.gz\":\"mp812-MV411_IRF2BP2_DMSO_6h-H3K27ac-r2.fastq.gz\",\n",
    "    \"20200103_3_MP7693_S8_R1_001.fastq.gz\":\"mp813-MV411_IRF2BP2_DMSO_6h-H3K27me3-r1_R1.fastq.gz\",\n",
    "    \"20200103_3_MP7693_S8_R2_001.fastq.gz\":\"mp813-MV411_IRF2BP2_DMSO_6h-H3K27me3-r1.fastq.gz\",\n",
    "    \"20200103_4_MP7693_S9_R1_001.fastq.gz\":\"mp814-MV411_IRF2BP2_DMSO_6h-H3K27me3-r2_R1.fastq.gz\",\n",
    "    \"20200103_4_MP7693_S9_R2_001.fastq.gz\":\"mp814-MV411_IRF2BP2_DMSO_6h-H3K27me3-r2.fastq.gz\",\n",
    "    \"20200103_5_MP7693_S10_R1_001.fastq.gz\":\"mp815-MV411_IRF2BP2_DMSO_6h-H3K4me1-r1_R1.fastq.gz\",\n",
    "    \"20200103_5_MP7693_S10_R2_001.fastq.gz\":\"mp815-MV411_IRF2BP2_DMSO_6h-H3K4me1-r1.fastq.gz\",\n",
    "    \"20200103_6_MP7693_S11_R1_001.fastq.gz\":\"mp816-MV411_IRF2BP2_DMSO_6h-H3K4me1-r2_R1.fastq.gz\",\n",
    "    \"20200103_6_MP7693_S11_R2_001.fastq.gz\":\"mp816-MV411_IRF2BP2_DMSO_6h-H3K4me1-r2.fastq.gz\",\n",
    "    \"20200103_7_MP7693_S12_R1_001.fastq.gz\":\"mp817-MV411_IRF2BP2_DMSO_6h-H3K4me3-r1_R1.fastq.gz\",\n",
    "    \"20200103_7_MP7693_S12_R2_001.fastq.gz\":\"mp817-MV411_IRF2BP2_DMSO_6h-H3K4me3-r1.fastq.gz\",\n",
    "    \"20200103_8_MP7693_S13_R1_001.fastq.gz\":\"mp818-MV411_IRF2BP2_DMSO_6h-H3K4me3-r2_R1.fastq.gz\",\n",
    "    \"20200103_8_MP7693_S13_R2_001.fastq.gz\":\"mp818-MV411_IRF2BP2_DMSO_6h-H3K4me3-r2.fastq.gz\",\n",
    "    \"20200103_9_MP7693_S14_R1_001.fastq.gz\":\"mp819-MV411_IRF2BP2_DMSO_6h-H3K79me2-r1_R1.fastq.gz\",\n",
    "    \"20200103_9_MP7693_S14_R2_001.fastq.gz\":\"mp819-MV411_IRF2BP2_DMSO_6h-H3K79me2-r1.fastq.gz\",\n",
    "    \"20200103_10_MP7693_S15_R1_001.fastq.gz\":\"mp820-MV411_IRF2BP2_DMSO_6h-H3K79me2-r2_R1.fastq.gz\",\n",
    "    \"20200103_10_MP7693_S15_R2_001.fastq.gz\":\"mp820-MV411_IRF2BP2_DMSO_6h-H3K79me2-r2.fastq.gz\",\n",
    "    \"20200103_11_MP7693_S16_R1_001.fastq.gz\":\"mp821-MV411_IRF2BP2_VHL_6h-H3K27ac-r1_R1.fastq.gz\",\n",
    "    \"20200103_11_MP7693_S16_R2_001.fastq.gz\":\"mp821-MV411_IRF2BP2_VHL_6h-H3K27ac-r1.fastq.gz\",\n",
    "    \"20200103_12_MP7693_S17_R1_001.fastq.gz\":\"mp822-MV411_IRF2BP2_VHL_6h-H3K27ac-r2_R1.fastq.gz\",\n",
    "    \"20200103_12_MP7693_S17_R2_001.fastq.gz\":\"mp822-MV411_IRF2BP2_VHL_6h-H3K27ac-r2.fastq.gz\",\n",
    "    \"20200103_13_MP7693_S18_R1_001.fastq.gz\":\"mp823-MV411_IRF2BP2_VHL_6h-H3K27me3-r1_R1.fastq.gz\",\n",
    "    \"20200103_13_MP7693_S18_R2_001.fastq.gz\":\"mp823-MV411_IRF2BP2_VHL_6h-H3K27me3-r1.fastq.gz\",\n",
    "    \"20200103_14_MP7693_S19_R1_001.fastq.gz\":\"mp824-MV411_IRF2BP2_VHL_6h-H3K27me3-r2_R1.fastq.gz\",\n",
    "    \"20200103_14_MP7693_S19_R2_001.fastq.gz\":\"mp824-MV411_IRF2BP2_VHL_6h-H3K27me3-r2.fastq.gz\",\n",
    "    \"20200103_15_MP7693_S20_R1_001.fastq.gz\":\"mp825-MV411_IRF2BP2_VHL_6h-H3K4me1-r1_R1.fastq.gz\",\n",
    "    \"20200103_15_MP7693_S20_R2_001.fastq.gz\":\"mp825-MV411_IRF2BP2_VHL_6h-H3K4me1-r1.fastq.gz\",\n",
    "    \"20200103_16_MP7693_S21_R1_001.fastq.gz\":\"mp826-MV411_IRF2BP2_VHL_6h-H3K4me1-r2_R1.fastq.gz\",\n",
    "    \"20200103_16_MP7693_S21_R2_001.fastq.gz\":\"mp826-MV411_IRF2BP2_VHL_6h-H3K4me1-r2.fastq.gz\",\n",
    "    \"20200103_17_MP7693_S22_R1_001.fastq.gz\":\"mp827-MV411_IRF2BP2_VHL_6h-H3K4me3-r1_R1.fastq.gz\",\n",
    "    \"20200103_17_MP7693_S22_R2_001.fastq.gz\":\"mp827-MV411_IRF2BP2_VHL_6h-H3K4me3-r1.fastq.gz\",\n",
    "    \"20200103_18_MP7693_S23_R1_001.fastq.gz\":\"mp828-MV411_IRF2BP2_VHL_6h-H3K4me3-r2_R1.fastq.gz\",\n",
    "    \"20200103_18_MP7693_S23_R2_001.fastq.gz\":\"mp828-MV411_IRF2BP2_VHL_6h-H3K4me3-r2.fastq.gz\",\n",
    "    \"20200103_19_MP7693_S24_R1_001.fastq.gz\":\"mp829-MV411_IRF2BP2_VHL_6h-H3K79me2-r1_R1.fastq.gz\",\n",
    "    \"20200103_19_MP7693_S24_R2_001.fastq.gz\":\"mp829-MV411_IRF2BP2_VHL_6h-H3K79me2-r1.fastq.gz\",\n",
    "    \"20200103_20_MP7693_S25_R1_001.fastq.gz\":\"mp830-MV411_IRF2BP2_VHL_6h-H3K79me2-r2_R1.fastq.gz\",\n",
    "    \"20200103_20_MP7693_S25_R2_001.fastq.gz\":\"mp830-MV411_IRF2BP2_VHL_6h-H3K79me2-r2.fastq.gz\"\n",
    "}"
   ]
  },
  {
   "cell_type": "code",
   "execution_count": null,
   "metadata": {},
   "outputs": [],
   "source": [
    "! gsutil -m cp gs://transfer-amlproject/IRF2BP2_hist/* ../../data/IRF2BP2_degraded_histones/fastqs/"
   ]
  },
  {
   "cell_type": "code",
   "execution_count": null,
   "metadata": {},
   "outputs": [],
   "source": [
    "for k,v in rename.items():\n",
    "    ! mv $bamfolder$k $bamfolder$v"
   ]
  },
  {
   "cell_type": "code",
   "execution_count": null,
   "metadata": {},
   "outputs": [],
   "source": [
    "inputfastq=\"gs://amlproject/Chip/fastqs/mp99-MV411-INPUT-r1.fastq.gz\"\n",
    "! gsutil cp $inputfastq $bamfolder"
   ]
  },
  {
   "cell_type": "code",
   "execution_count": null,
   "metadata": {},
   "outputs": [],
   "source": [
    "a = ! ls $bamfolder"
   ]
  },
  {
   "cell_type": "code",
   "execution_count": null,
   "metadata": {},
   "outputs": [],
   "source": [
    "from gsheets import Sheets\n",
    "sheets = Sheets.from_files('~/.client_secret.json', '~/.storage.json')\n",
    "url=\"https://docs.google.com/spreadsheets/d/1yFLjYB1McU530JnLgL0QIMAKIkVl3kl0_LCHje2gk8U\"\n",
    "gsheet = sheets.get(url).sheets[2].to_frame()"
   ]
  },
  {
   "cell_type": "code",
   "execution_count": null,
   "metadata": {},
   "outputs": [],
   "source": [
    "df = {\n",
    "\"fastq1\": [],\n",
    "\"fastq2\": [],\n",
    "\"antibody\": [],\n",
    "\"group\": [],\n",
    "\"replicate\": [],\n",
    "\"control\": []\n",
    "}\n",
    "for val in helper.grouped(a[:-1],2):\n",
    "    row = gsheet[gsheet.id==val[0].split('/')[-1].split('_')[0]]\n",
    "    df['group'].append((row.id.values[0] + '_'+ row.name_replicate.values[0] +\"_\"+row.protein.values[0]))\n",
    "    df['replicate'].append(1)\n",
    "    df['fastq1'].append(val[0])\n",
    "    #df['fastq2'].append(val[1])\n",
    "    df['antibody'].append(row.protein.values[0])\n",
    "    df['control'].append(\"INPUT\")\n",
    "df['group'].append('INPUT')\n",
    "df['replicate'].append(1)\n",
    "df['fastq1'].append(a[-1])\n",
    "#df['fastq2'].append(val[1])\n",
    "df['antibody'].append(\"INPUT\")\n",
    "df['control'].append(\"INPUT\")\n",
    "df = pd.DataFrame(df)"
   ]
  },
  {
   "cell_type": "code",
   "execution_count": null,
   "metadata": {},
   "outputs": [],
   "source": [
    "df[df.columns[[3,4,0,1,2,5]]].to_csv('../nextflow/IRF2BP2_degraded_histones_design.csv')"
   ]
  },
  {
   "cell_type": "code",
   "execution_count": null,
   "metadata": {},
   "outputs": [],
   "source": [
    "#process chips\n",
    " ! sudo ./nextflow run nf-core/chipseq --single_end --seq_center 'DFCI' --email 'jkobject@gmail.com' --narrow_peak --input ../nextflow/IRF2BP2_degraded_histones_design.csv --genome GRCh38 --skip_preseq --max_cpus 24 -profile docker -w work"
   ]
  },
  {
   "cell_type": "code",
   "execution_count": null,
   "metadata": {},
   "outputs": [],
   "source": [
    "! mv results/* ../../data/IRF2BP2_degraded_histones/"
   ]
  },
  {
   "cell_type": "code",
   "execution_count": null,
   "metadata": {},
   "outputs": [],
   "source": [
    "bams = ! ls ../../data/IRF2BP2_degraded_hist/bwa/mergedLibrary/*.bam\n",
    "bams = [i.split('/')[-1].split('.')[0] for i in bams]\n",
    "bams"
   ]
  },
  {
   "cell_type": "code",
   "execution_count": null,
   "metadata": {},
   "outputs": [],
   "source": [
    "scales = [[191079,278272],\n",
    "[274625,494562],\n",
    "[1094016,2067804],\n",
    "[1328914,969565],\n",
    "[237779,132422],\n",
    "[162971,174092],\n",
    "[115788,187078],\n",
    "[134269,495924],\n",
    "[171890,225315],\n",
    "[188370,199911]]"
   ]
  },
  {
   "cell_type": "code",
   "execution_count": null,
   "metadata": {},
   "outputs": [],
   "source": [
    "scales = [[1.0,0.6866626897],\n",
    "[1.0,0.5552893267],\n",
    "[1.0,0.5290714207],\n",
    "[0.7295919826,1.0],\n",
    "[0.5569120906,1.0],\n",
    "[1.0,0.9361199825],\n",
    "[1.0,0.6189290029],\n",
    "[1.0,0.2707451142],\n",
    "[1.0,0.762887513],\n",
    "[1.0,0.9422693098]]"
   ]
  },
  {
   "cell_type": "markdown",
   "metadata": {},
   "source": [
    "### on scalled data"
   ]
  },
  {
   "cell_type": "code",
   "execution_count": null,
   "metadata": {},
   "outputs": [],
   "source": [
    "# diffPeak on scaled data\n",
    "size=[206, 213, 47, 272, 229, 235, 190, 196, 287, 288]\n",
    "for i in range(int(len(bams)/2)):\n",
    "    name1 = bams[1+i]\n",
    "    name2 = bams[11+i]\n",
    "    print(name1,name2)\n",
    "    chip.diffPeak(name1, name2, directory= \"../../data/IRF2BP2_degraded_hist/diffData/\", res_directory='../../data/IRF2BP2_degraded_hist/diffPeaks/', scaling1=scales[i][1], scaling2=scales[i][0], size=size[i])"
   ]
  },
  {
   "cell_type": "code",
   "execution_count": null,
   "metadata": {},
   "outputs": [],
   "source": [
    "# diffPeak on scaled data\n",
    "for i in range(int(len(bams)/2)):\n",
    "    name1 = bams[1+i]\n",
    "    name2 = bams[11+i]\n",
    "    print(name1,name2)\n",
    "    chip.fullDiffPeak(name1,name2, bams[0], scaling = scales[i], directory='../../data/IRF2BP2_degraded_hist/diffData/',\n",
    "res_directory=\"../../data/IRF2BP2_degraded_hist/diffPeaks/\", isTF=False, compute_size=True, pairedend=False)"
   ]
  },
  {
   "cell_type": "code",
   "execution_count": null,
   "metadata": {},
   "outputs": [],
   "source": [
    "scales = [1.0,\n",
    "1.0,\n",
    "1.0,\n",
    "0.7295919826,\n",
    "0.5569120906,\n",
    "1.0,\n",
    "1.0,\n",
    "1.0,\n",
    "1.0,\n",
    "1.0,\n",
    "0.6866626897,\n",
    "0.5552893267,\n",
    "0.5290714207,\n",
    "1.0,\n",
    "1.0,\n",
    "0.9361199825,\n",
    "0.6189290029,\n",
    "0.2707451142,\n",
    "0.762887513,\n",
    "0.9422693098,]"
   ]
  },
  {
   "cell_type": "code",
   "execution_count": null,
   "metadata": {},
   "outputs": [],
   "source": [
    "chip.bigWigFrom(bams[1:],genome='GRCh38',scaling=scales)"
   ]
  },
  {
   "cell_type": "code",
   "execution_count": null,
   "metadata": {},
   "outputs": [],
   "source": [
    "! mv ../../recalib_bigwig_hist/* ../../data/IRF2BP2_degraded_histones/recalib_bigwig/\n",
    "bw = ! ls ../../data/IRF2BP2_degraded_histones/recalib_bigwig/*.bw\n",
    "bw"
   ]
  },
  {
   "cell_type": "code",
   "execution_count": null,
   "metadata": {},
   "outputs": [],
   "source": [
    "! rm ../../data/IRF2BP2_degraded_hist/diffData/mp*_R1*"
   ]
  },
  {
   "cell_type": "code",
   "execution_count": null,
   "metadata": {},
   "outputs": [],
   "source": [
    "cond1peak = ! ls ../../data/IRF2BP2_degraded_hist/diffPeaks/*cond1.bed\n",
    "cond2peak = ! ls ../../data/IRF2BP2_degraded_hist/diffPeaks/*cond2.bed\n",
    "commonpeak = ! ls ../../data/IRF2BP2_degraded_hist/diffPeaks/*common.bed\n",
    "cond1peak"
   ]
  },
  {
   "cell_type": "code",
   "execution_count": null,
   "metadata": {},
   "outputs": [],
   "source": [
    "names = [\"H3K27ac\", \"H3K27ac_v2\",\"H3K27me3\",\"H3K27me3_v2\",\"H3K4me1\",\"H3K4me1_v2\", \"H3K4me3\", \"H3K4me3_v2\", \"H3K79me2\", \"H3K79me2_v2\"]"
   ]
  },
  {
   "cell_type": "code",
   "execution_count": null,
   "metadata": {},
   "outputs": [],
   "source": [
    "for i in range(int(len(bw)/2)):\n",
    "    if i < 0 : \n",
    "        continue\n",
    "    print(i)\n",
    "    name1 = bw[i]\n",
    "    name2 = bw[10+i]\n",
    "    peak = [cond1peak[i], commonpeak[i], cond2peak[i]]\n",
    "    #for val in peak:\n",
    "        #chip.dropWeirdChromosomes(val)\n",
    "    name = names[i]\n",
    "    print(name1,name2)\n",
    "    chip.getPeaksAt(peak, [name1, name2], torecompute= True, bigwignames=['DMSO', 'VHL'], peaknames=['DMSO_peaks', 'common', 'VHL_peaks'], window=3000, folder=\"\", title=name, numthreads=7, refpoint='center', name='../../data/IRF2BP2_degraded_hist/diffPeaks/'+name+'_mat.pdf', withDeeptools=True)"
   ]
  },
  {
   "cell_type": "code",
   "execution_count": null,
   "metadata": {},
   "outputs": [],
   "source": [
    "names = [\"H3K27ac\", \"H3K27ac_v2\",\"H3K27me3\",\"H3K27me3_v2\",\"H3K4me1\",\"H3K4me1_v2\", \"H3K4me3\", \"H3K4me3_v2\", \"H3K79me2\", \"H3K79me2_v2\"]\n",
    "names.extend([i+'_VHL' for i in names])\n",
    "names"
   ]
  },
  {
   "cell_type": "code",
   "execution_count": null,
   "metadata": {},
   "outputs": [],
   "source": [
    "peaks = ! ls ../../data/IRF2BP2_degraded_histones/bwa/mergedLibrary/macs/broadPeak/*.broadPeak \n",
    "peaks"
   ]
  },
  {
   "cell_type": "code",
   "execution_count": null,
   "metadata": {},
   "outputs": [],
   "source": [
    "for i in range(len(bw)):\n",
    "    chip.getPeaksAt(peaks[i], bw[i], window=3000, folder=\"\", title=names[i], numthreads=7, torecompute=True, onlyProfile=True, refpoint='center', name='../../data/IRF2BP2_degraded_hist/diffPeaks/'+names[i]+'_mat_profile.pdf', withDeeptools=True)\n",
    "    chip.getPeaksAt(peaks[i], bw[i], window=3000, folder=\"\", title=names[i], numthreads=7, torecompute=True, refpoint='center', onlyProfile=True,name='../../data/IRF2BP2_degraded_hist/diffPeaks/'+names[i]+'_mat_profile_clust3.pdf', withDeeptools=True, cluster=3)"
   ]
  },
  {
   "cell_type": "markdown",
   "metadata": {},
   "source": [
    "### on unscalled data"
   ]
  },
  {
   "cell_type": "code",
   "execution_count": null,
   "metadata": {},
   "outputs": [],
   "source": [
    "bams = !ls ../../data/IRF2BP2_degraded_hist/bwa/mergedLibrary/mp*.bam\n",
    "bams"
   ]
  },
  {
   "cell_type": "code",
   "execution_count": null,
   "metadata": {},
   "outputs": [],
   "source": [
    "bw = ! ls ../../data/IRF2BP2_degraded_histones/bwa/mergedLibrary/bigwig/*.bigWig\n",
    "bw"
   ]
  },
  {
   "cell_type": "code",
   "execution_count": null,
   "metadata": {},
   "outputs": [],
   "source": [
    "# on unscalled data \n",
    "for i in range(int((len(bams)-1)/2)):\n",
    "    name1 = bams[1+i]\n",
    "    name2 = bams[11+i]\n",
    "    chip.fullDiffPeak(name1,name2, control1='../../data/IRF2BP2_degraded_hist/INPUT_R1.mLb.clN.sorted.bam', directory = \"../../data/IRF2BP2_degraded_hist/diffData_unscaled/\", res_directory = \"../../data/IRF2BP2_degraded_hist/diffPeaks_unscaled/\",isTF=False, compute_size=True, pairedend=False)"
   ]
  },
  {
   "cell_type": "code",
   "execution_count": null,
   "metadata": {},
   "outputs": [],
   "source": [
    "cond1peak = ! ls ../../data/IRF2BP2_degraded_hist/diffPeaks_unscaled/*cond1.bed\n",
    "cond2peak = ! ls ../../data/IRF2BP2_degraded_hist/diffPeaks_unscaled/*cond2.bed\n",
    "commonpeak = ! ls ../../data/IRF2BP2_degraded_hist/diffPeaks_unscaled/*common.bed\n",
    "cond2peak"
   ]
  },
  {
   "cell_type": "code",
   "execution_count": null,
   "metadata": {},
   "outputs": [],
   "source": [
    "names = [\"H3K27ac\", \"H3K27ac_v2\",\"H3K27me3\",\"H3K27me3_v2\",\"H3K4me1\",\"H3K4me1_v2\", \"H3K4me3\", \"H3K4me3_v2\", \"H3K79me2\", \"H3K79me2_v2\"]"
   ]
  },
  {
   "cell_type": "code",
   "execution_count": null,
   "metadata": {},
   "outputs": [],
   "source": [
    "for i in range(int(len(bw)/2)):\n",
    "    if i < 0:\n",
    "        continue\n",
    "    name1 = bw[1+i]\n",
    "    name2 = bw[11+i]\n",
    "    peak = [cond1peak[i], commonpeak[i], cond2peak[i]]\n",
    "    #for val in peak:\n",
    "        #chip.dropWeirdChromosomes(val)\n",
    "    name = names[i]\n",
    "    print(name1,name2)\n",
    "    chip.getPeaksAt(peak, [name1, name2], bigwignames=['DMSO', 'VHL'], peaknames=['DMSO_peaks', 'common', 'VHL_peaks'], window=3000, folder=\"\", title=name, numthreads=10, refpoint='center', name='../../data/IRF2BP2_degraded_hist/diffPeaks_unscaled/'+name+'_mat.pdf', withDeeptools=True, torecompute=True)"
   ]
  },
  {
   "cell_type": "code",
   "execution_count": null,
   "metadata": {},
   "outputs": [],
   "source": [
    "! gsutil -m cp -r \"../../data/IRF2BP2_degraded_hist/\" gs://amlproject/Chip/"
   ]
  },
  {
   "cell_type": "code",
   "execution_count": null,
   "metadata": {},
   "outputs": [],
   "source": [
    "## on local\n",
    "! scp runningchip2.us-east1-b.aml-chipseq-rnaseq-259419:\"~/data/IRF2BP2_degraded_rep3/diffPeaks_unscaled/*.pdf\" unscaled/v3/\n",
    "! scp runningchip2.us-east1-b.aml-chipseq-rnaseq-259419:\"~/data/IRF2BP2_degraded_rep3/diffPeaks/*.pdf\" scaled/v3/\n",
    "! scp runningchip2.us-east1-b.aml-chipseq-rnaseq-259419:\"~/data/IRF2BP2_degraded_rep1/diffPeaks_unscaled/*.pdf\" unscaled/v3/\n",
    "! scp runningchip2.us-east1-b.aml-chipseq-rnaseq-259419:\"~/data/IRF2BP2_degraded_rep1/diffPeaks/*.pdf\" scaled/v1/\n",
    "! scp runningchip2.us-east1-b.aml-chipseq-rnaseq-259419:\"~/data/IRF2BP2_degraded_hist/diffPeaks_unscaled/*.pdf\" unscaled/v1/\n",
    "! scp runningchip2.us-east1-b.aml-chipseq-rnaseq-259419:\"~/data/IRF2BP2_degraded_hist/diffPeaks/*.pdf\" unscaled/v1/\n",
    "! scp runningchip2.us-east1-b.aml-chipseq-rnaseq-259419:\"~/data/IRF2BP2_degraded_rep2/diffPeaks_unscaled/*.pdf\" unscaled/v2/\n",
    "! scp runningchip2.us-east1-b.aml-chipseq-rnaseq-259419:\"~/data/IRF2BP2_degraded_rep2/diffPeaks/*.pdf\" scaled/v2/"
   ]
  },
  {
   "cell_type": "markdown",
   "metadata": {},
   "source": [
    "## v4"
   ]
  },
  {
   "cell_type": "code",
   "execution_count": null,
   "metadata": {},
   "outputs": [],
   "source": [
    "! gsutil -m mv gs://transfer-amlproject/*MP7868*  gs://transfer-amlproject/IRF2BP2_v4/"
   ]
  },
  {
   "cell_type": "markdown",
   "metadata": {},
   "source": [
    "### analysis"
   ]
  },
  {
   "cell_type": "code",
   "execution_count": null,
   "metadata": {},
   "outputs": [],
   "source": [
    "! mkdir ../../data/IRF2BP2_degraded_rep4 && mkdir ../../data/IRF2BP2_degraded_rep4/fastqs && gsutil -m cp gs://transfer-amlproject/IRF2BP2_v4/* ../../data/IRF2BP2_degraded_rep4/fastqs"
   ]
  },
  {
   "cell_type": "code",
   "execution_count": null,
   "metadata": {},
   "outputs": [],
   "source": [
    "a = ! ls ../../data/IRF2BP2_degraded_rep4/fastqs\n",
    "a"
   ]
  },
  {
   "cell_type": "code",
   "execution_count": null,
   "metadata": {},
   "outputs": [],
   "source": [
    "rename = {\n",
    "\"20200302_1_MP7868_S51_R1_001.fastq.gz\":\"mp846-MV411_IRF2BP_DMSO_6h-MED1-r4_R1.fastq.gz\", \n",
    "\"20200302_1_MP7868_S51_R2_001.fastq.gz\":\"mp846-MV411_IRF2BP_DMSO_6h-MED1-r4_R2.fastq.gz\", \n",
    "\"20200302_2_MP7868_S52_R1_001.fastq.gz\":\"mp847-MV411_IRF2BP_DMSO_6h-MED1-r5_R1.fastq.gz\", \n",
    "\"20200302_2_MP7868_S52_R2_001.fastq.gz\":\"mp847-MV411_IRF2BP_DMSO_6h-MED1-r5_R2.fastq.gz\", \n",
    "\"20200302_3_MP7868_S53_R1_001.fastq.gz\":\"mp848-MV411_IRF2BP_DMSO_6h-FLAG_IRF2BP2-r3_R1.fastq.gz\", \n",
    "\"20200302_3_MP7868_S53_R2_001.fastq.gz\":\"mp848-MV411_IRF2BP_DMSO_6h-FLAG_IRF2BP2-r3_R2.fastq.gz\",\n",
    "\"20200302_4_MP7868_S54_R1_001.fastq.gz\":\"mp849-MV411_IRF2BP_DMSO_6h-POLII_total-r3_R1.fastq.gz\",\n",
    "\"20200302_4_MP7868_S54_R2_001.fastq.gz\":\"mp849-MV411_IRF2BP_DMSO_6h-POLII_total-r3_R2.fastq.gz\",\n",
    "\"20200302_5_MP7868_S55_R1_001.fastq.gz\":\"mp850-MV411_IRF2BP_DMSO_6h-POLII_S2-r3_R1.fastq.gz\",\n",
    "\"20200302_5_MP7868_S55_R2_001.fastq.gz\":\"mp850-MV411_IRF2BP_DMSO_6h-POLII_S2-r3_R2.fastq.gz\",\n",
    "\"20200302_6_MP7868_S56_R1_001.fastq.gz\":\"mp851-MV411_IRF2BP_DMSO_6h-POLII_S5-r3_R1.fastq.gz\",\n",
    "\"20200302_6_MP7868_S56_R2_001.fastq.gz\":\"mp851-MV411_IRF2BP_DMSO_6h-POLII_S5-r3_R2.fastq.gz\",\n",
    "\"20200302_7_MP7868_S57_R1_001.fastq.gz\":\"mp852-MV411_IRF2BP_VHL_6h-MED1-r4_R1.fastq.gz\",\n",
    "\"20200302_7_MP7868_S57_R2_001.fastq.gz\":\"mp852-MV411_IRF2BP_VHL_6h-MED1-r4_R2.fastq.gz\",\n",
    "\"20200302_8_MP7868_S58_R1_001.fastq.gz\":\"mp853-MV411_IRF2BP_VHL_6h-MED1-r5_R1.fastq.gz\",\n",
    "\"20200302_8_MP7868_S58_R2_001.fastq.gz\":\"mp853-MV411_IRF2BP_VHL_6h-MED1-r5_R2.fastq.gz\",\n",
    "\"20200302_9_MP7868_S59_R1_001.fastq.gz\":\"mp854-MV411_IRF2BP_VHL_6h-FLAG_IRF2BP2-r3_R1.fastq.gz\",\n",
    "\"20200302_9_MP7868_S59_R2_001.fastq.gz\":\"mp854-MV411_IRF2BP_VHL_6h-FLAG_IRF2BP2-r3_R2.fastq.gz\", \n",
    "\"20200302_10_MP7868_S60_R1_001.fastq.gz\":\"mp855-MV411_IRF2BP_VHL_6h-POLII_total-r3_R1.fastq.gz\",\n",
    "\"20200302_10_MP7868_S60_R2_001.fastq.gz\":\"mp855-MV411_IRF2BP_VHL_6h-POLII_total-r3_R2.fastq.gz\",\n",
    "\"20200302_11_MP7868_S61_R1_001.fastq.gz\":\"mp856-MV411_IRF2BP_VHL_6h-POLII_S2-r3_R1.fastq.gz\",\n",
    "\"20200302_11_MP7868_S61_R2_001.fastq.gz\":\"mp856-MV411_IRF2BP_VHL_6h-POLII_S2-r3_R2.fastq.gz\",\n",
    "\"20200302_12_MP7868_S62_R1_001.fastq.gz\":\"mp857-MV411_IRF2BP_VHL_6h-POLII_S5-r3_R1.fastq.gz\",\n",
    "\"20200302_12_MP7868_S62_R2_001.fastq.gz\":\"mp857-MV411_IRF2BP_VHL_6h-POLII_S5-r3_R2.fastq.gz\"\n",
    "}"
   ]
  },
  {
   "cell_type": "code",
   "execution_count": null,
   "metadata": {},
   "outputs": [],
   "source": [
    "for k,v in rename.items():\n",
    "    ! mv ../../data/IRF2BP2_degraded_rep4/fastqs/$k ../../data/IRF2BP2_degraded_rep4/fastqs/$v"
   ]
  },
  {
   "cell_type": "code",
   "execution_count": null,
   "metadata": {},
   "outputs": [],
   "source": [
    "from gsheets import Sheets\n",
    "sheets = Sheets.from_files('~/.client_secret.json', '~/.storage.json')\n",
    "url=\"https://docs.google.com/spreadsheets/d/1yFLjYB1McU530JnLgL0QIMAKIkVl3kl0_LCHje2gk8U\"\n",
    "gsheet = sheets.get(url).sheets[2].to_frame()"
   ]
  },
  {
   "cell_type": "code",
   "execution_count": null,
   "metadata": {},
   "outputs": [],
   "source": [
    "gsheet"
   ]
  },
  {
   "cell_type": "code",
   "execution_count": null,
   "metadata": {},
   "outputs": [],
   "source": [
    "df = {\n",
    "\"fastq_1\": [],\n",
    "\"fastq_2\": [],\n",
    "\"antibody\": [],\n",
    "\"group\": [],\n",
    "\"replicate\": [],\n",
    "\"control\": []\n",
    "}\n",
    "for val in h.grouped(a,2):\n",
    "    row = gsheet[gsheet.id==val[0].split('/')[-1].split('-')[0]]\n",
    "    df['group'].append(row['name'].values[0])\n",
    "    df['replicate'].append(1)\n",
    "    df['fastq_1'].append(val[0])\n",
    "    df['fastq_2'].append(val[1])\n",
    "    df['antibody'].append(row['protein'].values[0])\n",
    "    df['control'].append(\"INPUT\")\n",
    "df['group'].append('INPUT')\n",
    "df['replicate'].append(1)\n",
    "df['fastq_1'].append('IRF2BP2_degraded_rep3/mp845-MV411_IRF2BP2_-INPUT-r1_R1.fastq.gz')\n",
    "df['fastq_2'].append('IRF2BP2_degraded_rep3/mp845-MV411_IRF2BP2_-INPUT-r1_R2.fastq.gz')\n",
    "df['antibody'].append(\"\")\n",
    "df['control'].append(\"\")\n",
    "df = pd.DataFrame(df)"
   ]
  },
  {
   "cell_type": "code",
   "execution_count": null,
   "metadata": {},
   "outputs": [],
   "source": [
    "df"
   ]
  },
  {
   "cell_type": "code",
   "execution_count": null,
   "metadata": {},
   "outputs": [],
   "source": [
    "df[df.columns[[3,4,0,1,2,5]]].to_csv('../nextflow/IRF2BP2_degraded_rep4_design.csv',index=False)"
   ]
  },
  {
   "cell_type": "code",
   "execution_count": null,
   "metadata": {},
   "outputs": [],
   "source": [
    "#process chips\n",
    "! sudo ../nextflow run nf-core/chipseq --paired_end --seq_center 'DFCI' --email \\\n",
    "'jkobject@gmail.com' --narrow_peak --input ../nextflow/IRF2BP2_degraded_rep4_design.csv --genome GRCh38 --skip_preseq \\\n",
    "--max_cpus 24 -profile docker -w work"
   ]
  },
  {
   "cell_type": "code",
   "execution_count": null,
   "metadata": {},
   "outputs": [],
   "source": [
    "!cp -r results/* ../../data/IRF2BP2_degraded_rep4/ && sudo rm -r work && sudo rm -r results"
   ]
  },
  {
   "cell_type": "code",
   "execution_count": null,
   "metadata": {},
   "outputs": [],
   "source": [
    "ls ../../TrimGalore-0.6.5/trim_galore"
   ]
  },
  {
   "cell_type": "code",
   "execution_count": null,
   "metadata": {},
   "outputs": [],
   "source": [
    "# get scaling values\n",
    "mappedreads, umappedreads_norm = chip.getSpikeInControlScales(refgenome=\"../../data/ref/reference_droso.fna\",\n",
    "fastQfolder='../../data/IRF2BP2_degraded_rep4/fastqs/',\n",
    "pairedEnd=True, cores=12,\n",
    "tofilter=True,\n",
    "totrim=False,\n",
    "tomap=True,\n",
    "results=\"../../data/IRF2BP2_degraded_rep4/\",\n",
    "pathtotrim_galore=\"../../TrimGalore-0.6.5/trim_galore\")\n",
    "mappedreads, umappedreads_norm"
   ]
  },
  {
   "cell_type": "markdown",
   "metadata": {},
   "source": [
    "computing scales from the excel sheet"
   ]
  },
  {
   "cell_type": "code",
   "execution_count": null,
   "metadata": {},
   "outputs": [],
   "source": [
    "bams = ! ls ../../data/IRF2BP2_degraded_rep4/bwa/mergedLibrary/*.bam\n",
    "bams"
   ]
  },
  {
   "cell_type": "code",
   "execution_count": null,
   "metadata": {},
   "outputs": [],
   "source": [
    "bams[6]"
   ]
  },
  {
   "cell_type": "markdown",
   "metadata": {},
   "source": [
    "### on scalled data"
   ]
  },
  {
   "cell_type": "code",
   "execution_count": null,
   "metadata": {},
   "outputs": [],
   "source": [
    "bams = [bam1.split('/')[-1].split('.')[0] for bam1 in bams]"
   ]
  },
  {
   "cell_type": "code",
   "execution_count": null,
   "metadata": {},
   "outputs": [],
   "source": [
    "# diffPeak on scaled data\n",
    "size=[ 208, 214, 207, 234, 296, 231]\n",
    "for i in range(int(len(bams)/2)-1):\n",
    "    name1 = bams[1+i]\n",
    "    name2 = bams[7+i]\n",
    "    print(name1,name2)\n",
    "    chip.diffPeak(name1, name2, directory= \"../../data/IRF2BP2_degraded_rep4/diffData/\", res_directory='../../data/IRF2BP2_degraded_rep4/diffPeaks/', scaling1=scales[i][1], scaling2=scales[i][0], size=size[i])"
   ]
  },
  {
   "cell_type": "code",
   "execution_count": null,
   "metadata": {},
   "outputs": [],
   "source": [
    "# diffPeak on scaled data\n",
    "for i in range(int(len(bams[1:])/2)):\n",
    "    name1 = bams[1+i]\n",
    "    name2 = bams[7+i]\n",
    "    chip.fullDiffPeak(name1,name2, control1='../../data/IRF2BP2_degraded_rep3/bwa/mergedLibrary/mp845-MV411_IRF2BP2-INPUT-r1.mLb.clN.sorted.bam', directory = \"../../data/IRF2BP2_degraded_rep4/diffData/\", res_directory = \"../../data/IRF2BP2_degraded_rep4/diffPeaks/\",pairedend=False)"
   ]
  },
  {
   "cell_type": "code",
   "execution_count": null,
   "metadata": {},
   "outputs": [],
   "source": [
    "scales = [1.0,\n",
    "1.0,\n",
    "1.0,\n",
    "1.0,\n",
    "1.0,\n",
    "0.626304048,\n",
    "0.2628507876,\n",
    "0.9021192519,\n",
    "0.1869653476,\n",
    "0.5500321887,\n",
    "0.6046056203,\n",
    "1.0]"
   ]
  },
  {
   "cell_type": "code",
   "execution_count": null,
   "metadata": {},
   "outputs": [],
   "source": [
    "bams"
   ]
  },
  {
   "cell_type": "code",
   "execution_count": null,
   "metadata": {},
   "outputs": [],
   "source": [
    "chip.bigWigFrom(bams[1:], \n",
    "                genome='GRCh38',scaling=scales,\n",
    "               numthreads=8)"
   ]
  },
  {
   "cell_type": "code",
   "execution_count": null,
   "metadata": {},
   "outputs": [],
   "source": [
    "!mv bigwig ../../data/IRF2BP2_degraded_rep4/recalib_bigwig/"
   ]
  },
  {
   "cell_type": "code",
   "execution_count": null,
   "metadata": {},
   "outputs": [],
   "source": [
    "os.popen('for i in $(ls ../../data/IRF2BP2_degraded_rep4/diffPeaks/*.bed); \\\n",
    "            do echo $(wc -l $i); \\\n",
    "            done').read().split('\\n')"
   ]
  },
  {
   "cell_type": "code",
   "execution_count": null,
   "metadata": {},
   "outputs": [],
   "source": [
    "bw = ! ls ../../data/IRF2BP2_degraded_rep4/recalib_bigwig/*.bw\n",
    "bw"
   ]
  },
  {
   "cell_type": "code",
   "execution_count": null,
   "metadata": {},
   "outputs": [],
   "source": [
    "cond1peak = ! ls ../../data/IRF2BP2_degraded_rep4/diffPeaks/*cond1.bed\n",
    "cond2peak = ! ls ../../data/IRF2BP2_degraded_rep4/diffPeaks/*cond2.bed\n",
    "commonpeak = ! ls ../../data/IRF2BP2_degraded_rep4/diffPeaks/*common.bed\n",
    "cond1peak"
   ]
  },
  {
   "cell_type": "code",
   "execution_count": null,
   "metadata": {},
   "outputs": [],
   "source": [
    "names = [\"MED1\",\"MED1_v2\",\"FLAG_IRF2BP2\",\"POLII_total\",\"POLII_S2\",\"POLII_S5\"]"
   ]
  },
  {
   "cell_type": "code",
   "execution_count": null,
   "metadata": {},
   "outputs": [],
   "source": [
    "for i in range(int(len(bw)/2)):\n",
    "    if i <0:\n",
    "        continue\n",
    "    name1 = bw[i]\n",
    "    name2 = bw[i+6]\n",
    "    peak = [cond1peak[i], commonpeak[i], cond2peak[i]]\n",
    "   # for val in peak:\n",
    "      #  chip.dropWeirdChromosomes(val)\n",
    "    name = names[i]\n",
    "    print(name1,name2)\n",
    "    chip.getPeaksAt(peak, [name1, name2], bigwignames=['DMSO', 'VHL'], peaknames=['DMSO_peaks', 'common', 'VHL_peaks'], window=3000, folder=\"\", title=name, numthreads=7, refpoint=\"center\", name='../../data/IRF2BP2_degraded_rep4/diffPeaks/'+name+'_mat.pdf', withDeeptools=True, torecompute=True)"
   ]
  },
  {
   "cell_type": "code",
   "execution_count": null,
   "metadata": {},
   "outputs": [],
   "source": [
    "peaks = ! ls ../../data/results4/bwa/mergedLibrary/macs/narrowPeak/*.narrowPeak\n",
    "peaks"
   ]
  },
  {
   "cell_type": "code",
   "execution_count": null,
   "metadata": {},
   "outputs": [],
   "source": [
    "names = [\"MED1\",\"MED1_v2\",\"FLAG_IRF2BP2\",\"POLII_total\",\"POLII_S2\",\"POLII_S5\"]\n",
    "names.extend([i+'_VHL' for i in names])\n",
    "names"
   ]
  },
  {
   "cell_type": "code",
   "execution_count": null,
   "metadata": {},
   "outputs": [],
   "source": [
    "for i in range(len(bw)):\n",
    "    chip.getPeaksAt(peaks[i], bw[i], window=3000, folder=\"\", title=names[i], numthreads=7, torecompute=True, onlyProfile=True, name='../../data/IRF2BP2_degraded_rep4/diffPeaks/'+names[i]+'_mat_profile.pdf', withDeeptools=True, refpoint=\"center\")\n",
    "    chip.getPeaksAt(peaks[i], bw[i], window=3000, folder=\"\", title=names[i], numthreads=7, torecompute=True, onlyProfile=True,name='../../data/IRF2BP2_degraded_rep4/diffPeaks/'+names[i]+'_mat_profile_clust3.pdf', withDeeptools=True, cluster=3, refpoint=\"center\")"
   ]
  },
  {
   "cell_type": "markdown",
   "metadata": {},
   "source": [
    "### on unscalled data"
   ]
  },
  {
   "cell_type": "code",
   "execution_count": null,
   "metadata": {},
   "outputs": [],
   "source": [
    "bams = !ls ../../data/results4/bwa/mergedLibrary/mp*.bam\n",
    "bams"
   ]
  },
  {
   "cell_type": "code",
   "execution_count": null,
   "metadata": {},
   "outputs": [],
   "source": [
    "! mkdir ../../data/IRF2BP2_degraded_rep4/diffPeaks_unscaled"
   ]
  },
  {
   "cell_type": "code",
   "execution_count": null,
   "metadata": {},
   "outputs": [],
   "source": [
    "#on unscalled data \n",
    "for i in range(int(len(bams)/2)):\n",
    "    if i < 5:\n",
    "        continue\n",
    "    name1 = bams[i]\n",
    "    name2 = bams[6+i]\n",
    "    print(name1,name2)\n",
    "    chip.fullDiffPeak(name1,name2, control1='../../data/results4/bwa/mergedLibrary/INPUT_R1.mLb.clN.sorted.bam', directory = \"../../data/IRF2BP2_degraded_rep4/diffData_unscaled/\", res_directory = \"../../data/IRF2BP2_degraded_rep4/diffPeaks_unscaled/\",pairedend=False)"
   ]
  },
  {
   "cell_type": "code",
   "execution_count": null,
   "metadata": {},
   "outputs": [],
   "source": [
    "bw = ! ls ../../data/results4/bwa/mergedLibrary/bigwig/*.bigWig\n",
    "bw"
   ]
  },
  {
   "cell_type": "code",
   "execution_count": null,
   "metadata": {},
   "outputs": [],
   "source": [
    "cond1peak = ! ls ../../data/IRF2BP2_degraded_rep4/diffPeaks_unscaled/*cond1.bed\n",
    "cond2peak = ! ls ../../data/IRF2BP2_degraded_rep4/diffPeaks_unscaled/*cond2.bed\n",
    "commonpeak = ! ls ../../data/IRF2BP2_degraded_rep4/diffPeaks_unscaled/*common.bed\n",
    "commonpeak"
   ]
  },
  {
   "cell_type": "code",
   "execution_count": null,
   "metadata": {},
   "outputs": [],
   "source": [
    "names = [\"MED1\",\"MED1_v2\",\"FLAG_IRF2BP2\",\"POLII_total\",\"POLII_S2\",\"POLII_S5\"]"
   ]
  },
  {
   "cell_type": "code",
   "execution_count": null,
   "metadata": {},
   "outputs": [],
   "source": [
    "for i in range(int((len(bw)-1)/2)):\n",
    "    name1 = bw[1+i]\n",
    "    name2 = bw[7+i]\n",
    "    peak = [cond1peak[i], commonpeak[i], cond2peak[i]]\n",
    "    #for val in peak:\n",
    "     #   chip.dropWeirdChromosomes(val)\n",
    "    name = names[i]\n",
    "    print(name1,name2)\n",
    "    chip.getPeaksAt(peak, [name1, name2], bigwignames=['DMSO', 'VHL'], peaknames=['DMSO_peaks', 'common', 'VHL_peaks'], window=3000, folder=\"\", title=name, numthreads=7, torecompute=True, refpoint='center', name='../../data/IRF2BP2_degraded_rep4/diffPeaks_unscaled/'+name+'_mat.pdf', withDeeptools=True)"
   ]
  },
  {
   "cell_type": "code",
   "execution_count": null,
   "metadata": {},
   "outputs": [],
   "source": [
    "! gsutil -m cp -r \"../../data/IRF2BP2_degraded_rep4\" gs://amlproject/Chip/"
   ]
  },
  {
   "cell_type": "markdown",
   "metadata": {},
   "source": [
    "## Copying data"
   ]
  },
  {
   "cell_type": "code",
   "execution_count": null,
   "metadata": {},
   "outputs": [],
   "source": [
    "mkdir ../results/$project/diffPeaks_unscaled/"
   ]
  },
  {
   "cell_type": "code",
   "execution_count": null,
   "metadata": {},
   "outputs": [],
   "source": [
    "! cp ../../data/*/diffPeaks_unscaled/*.bed ../results/$project/diffPeaks_unscaled/"
   ]
  },
  {
   "cell_type": "code",
   "execution_count": null,
   "metadata": {},
   "outputs": [],
   "source": [
    "mkdir ../results/$project/diffPeaks_scaled/"
   ]
  },
  {
   "cell_type": "code",
   "execution_count": null,
   "metadata": {},
   "outputs": [],
   "source": [
    "! cp ../../data/*/diffPeaks/*.bed ../results/$project/diffPeaks_scaled/"
   ]
  },
  {
   "cell_type": "markdown",
   "metadata": {},
   "source": [
    "## v5"
   ]
  },
  {
   "cell_type": "code",
   "execution_count": null,
   "metadata": {},
   "outputs": [],
   "source": [
    "project=\"additional_degraded_v1\""
   ]
  },
  {
   "cell_type": "code",
   "execution_count": null,
   "metadata": {},
   "outputs": [],
   "source": [
    "! gsutil ls gs://transfer-amlproject/200723_MP8095_fastq/"
   ]
  },
  {
   "cell_type": "code",
   "execution_count": null,
   "metadata": {},
   "outputs": [],
   "source": [
    "mkdir ../data/$project/qc/"
   ]
  },
  {
   "cell_type": "code",
   "execution_count": null,
   "metadata": {},
   "outputs": [],
   "source": [
    "!gsutil -m cp gs://transfer-amlproject/200723_MP8095_fastq/multiqc_report.html ../data/$project/qc/\n",
    "!gsutil -m cp -r gs://transfer-amlproject/200723_MP8095_fastq/Reports/ ../data/$project/qc/\n",
    "!gsutil -m cp -r gs://transfer-amlproject/200723_MP8095_fastq/multiqc_data/ ../data/$project/qc/"
   ]
  },
  {
   "cell_type": "code",
   "execution_count": null,
   "metadata": {
    "scrolled": true
   },
   "outputs": [],
   "source": [
    "! gsutil -m cp gs://transfer-amlproject/200723_MP8095_fastq/*  gs://transfer-amlproject/$project/"
   ]
  },
  {
   "cell_type": "markdown",
   "metadata": {},
   "source": [
    "### analysis"
   ]
  },
  {
   "cell_type": "code",
   "execution_count": null,
   "metadata": {
    "scrolled": true
   },
   "outputs": [],
   "source": [
    "! mkdir ../../data/$project && mkdir ../../data/$project/fastqs && gsutil -m cp gs://transfer-amlproject/$project/* ../../data/$project/fastqs"
   ]
  },
  {
   "cell_type": "code",
   "execution_count": null,
   "metadata": {},
   "outputs": [],
   "source": [
    "! rm ../../data/$project/fastqs/multiqc_report.html"
   ]
  },
  {
   "cell_type": "code",
   "execution_count": null,
   "metadata": {},
   "outputs": [],
   "source": [
    "a = ! ls ../../data/$project/fastqs\n",
    "a"
   ]
  },
  {
   "cell_type": "code",
   "execution_count": null,
   "metadata": {},
   "outputs": [],
   "source": [
    "rename = {\n",
    "\"20200723_1_MP8095_S211\": \"mp858-MV411_RNP_AAVS1-H3K27AC-r1\",\n",
    "\"20200723_2_MP8095_S212\": \"mp859-MV411_RNP_AAVS1-H3K27AC-r2\",\n",
    "\"20200723_3_MP8095_S213\": \"mp860-MV411_RNP_RUNX1-H3K27AC-r1\",\n",
    "\"20200723_4_MP8095_S214\": \"mp861-MV411_RNP_RUNX1-H3K27AC-r2\",\n",
    "\"20200723_5_MP8095_S215\": \"mp862-MV411_RNP_RUNX2-H3K27AC-r1\",\n",
    "\"20200723_6_MP8095_S216\": \"mp863-MV411_RNP_RUNX2-H3K27AC-r2\",\n",
    "\"20200723_7_MP8095_S217\": \"mp864-MV411_RNP_RUNX1_RUNX2-H3K27AC-r1\",\n",
    "\"20200723_8_MP8095_S218\": \"mp865-MV411_RNP_RUNX1_RUNX2-H3K27AC-r2\",\n",
    "\"20200723_9_MP8095_S219\": \"mp866-MV411_RNP_MEF2D-H3K27AC-r1\",\n",
    "\"20200723_10_MP8095_S220\": \"mp867-MV411_RNP_MEF2D-H3K27AC-r2\",\n",
    "\"20200723_11_MP8095_S221\": \"mp868-MV411_RNP_IRF8-H3K27AC-r1\",\n",
    "\"20200723_12_MP8095_S222\": \"mp869-MV411_RNP_IRF8-H3K27AC-r2\",\n",
    "\"20200723_13_MP8095_S223\": \"mp870-MV411_RNP_MYB-H3K27AC-r1\",\n",
    "\"20200723_14_MP8095_S224\": \"mp871-MV411_RNP_MYB-H3K27AC-r2\",\n",
    "\"20200723_15_MP8095_S225\": \"mp872-MV411_RNP_SPI1-H3K27AC-r1\",\n",
    "\"20200723_16_MP8095_S226\": \"mp873-MV411_RNP_SPI1-H3K27AC-r2\",\n",
    "\"20200723_1S_MP8095_S209\": \"mp874-MV411_MEF2D_NT_SC_63-FLAG_MEF2D-r2\",\n",
    "\"20200723_2S_MP8095_S210\": \"mp875-MV411_MEF2C_NT-FLAG_MEF2C-r1\"}"
   ]
  },
  {
   "cell_type": "code",
   "execution_count": null,
   "metadata": {},
   "outputs": [],
   "source": [
    "for val in a:\n",
    "    rep = val\n",
    "    for k,v in rename.items():\n",
    "        rep = rep.replace(k,v)\n",
    "    !mv ../../data/$project/fastqs/$val ../../data/$project/fastqs/$rep"
   ]
  },
  {
   "cell_type": "code",
   "execution_count": null,
   "metadata": {},
   "outputs": [],
   "source": [
    "from gsheets import Sheets\n",
    "sheets = Sheets.from_files('~/.client_secret.json', '~/.storage.json')\n",
    "url=\"https://docs.google.com/spreadsheets/d/1yFLjYB1McU530JnLgL0QIMAKIkVl3kl0_LCHje2gk8U\"\n",
    "gsheet = sheets.get(url).sheets[2].to_frame()"
   ]
  },
  {
   "cell_type": "code",
   "execution_count": null,
   "metadata": {},
   "outputs": [],
   "source": [
    "gsheet"
   ]
  },
  {
   "cell_type": "code",
   "execution_count": null,
   "metadata": {},
   "outputs": [],
   "source": [
    "a = ! ls ../../data/$project/fastqs\n",
    "a"
   ]
  },
  {
   "cell_type": "code",
   "execution_count": null,
   "metadata": {
    "scrolled": true
   },
   "outputs": [],
   "source": [
    "for val in a[-4:]:\n",
    "    !gsutil cp ../../data/$project/fastqs/$val gs://amlproject/Chip/fastqs/\n",
    "    !rm ../../data/$project/fastqs/$val"
   ]
  },
  {
   "cell_type": "code",
   "execution_count": null,
   "metadata": {},
   "outputs": [],
   "source": [
    "gcp.patternRN({'mp845-MV411_IRF2BP2_-INPUT-r1':'mp845-MV411-INPUT-r2'},'gs://amlproject/Chip/',wildcards=['**','.*'], test=False)"
   ]
  },
  {
   "cell_type": "code",
   "execution_count": null,
   "metadata": {},
   "outputs": [],
   "source": [
    "df = {\n",
    "\"fastq_1\": [],\n",
    "\"fastq_2\": [],\n",
    "\"antibody\": [],\n",
    "\"group\": [],\n",
    "\"replicate\": [],\n",
    "\"control\": []\n",
    "}\n",
    "for val in h.grouped(a[:-4],2):\n",
    "    row = gsheet[gsheet.id==val[0].split('/')[-1].split('-')[0]]\n",
    "    df['group'].append(\"MV4\"+row['name'].values[0].split('-r')[0].split('-MV4')[1])\n",
    "    df['replicate'].append(row['name'].values[0].split('-r')[1])\n",
    "    df['fastq_1'].append(project+\"/fastqs/\"+val[0])\n",
    "    df['fastq_2'].append(project+\"/fastqs/\"+val[1])\n",
    "    df['antibody'].append(row['protein'].values[0])\n",
    "    df['control'].append(\"INPUT\")\n",
    "df['group'].append('INPUT')\n",
    "df['replicate'].append(1)\n",
    "df['fastq_1'].append('ref/mp845-MV411-INPUT-r2_R1.fastq.gz')\n",
    "df['fastq_2'].append('ref/mp845-MV411-INPUT-r2_R2.fastq.gz')\n",
    "df['antibody'].append(\"\")\n",
    "df['control'].append(\"\")\n",
    "df = pd.DataFrame(df)"
   ]
  },
  {
   "cell_type": "code",
   "execution_count": null,
   "metadata": {},
   "outputs": [],
   "source": [
    "df"
   ]
  },
  {
   "cell_type": "code",
   "execution_count": null,
   "metadata": {},
   "outputs": [],
   "source": [
    "df[df.columns[[3,4,0,1,2,5]]].to_csv('../nextflow/additional_degraded_v1_design.csv',index=False)"
   ]
  },
  {
   "cell_type": "code",
   "execution_count": null,
   "metadata": {
    "scrolled": true
   },
   "outputs": [],
   "source": [
    "! cd ../../data/ && sudo ../nextflow log ## to get access to the previous runs"
   ]
  },
  {
   "cell_type": "code",
   "execution_count": null,
   "metadata": {},
   "outputs": [],
   "source": [
    "#process chips\n",
    "! cd ../../data/ && sudo ../nextflow run nf-core/chipseq --paired_end --seq_center 'DFCI' --email 'jkobject@gmail.com' --input ../AMLproject/nextflow/additional_degraded_v1_design.csv --genome GRCh38 --skip_preseq --max_cpus 16 -profile docker -w work -resume exotic_bartik"
   ]
  },
  {
   "cell_type": "code",
   "execution_count": null,
   "metadata": {},
   "outputs": [],
   "source": [
    "!cp -r ../../data/results/* ../../data/$project/ && sudo rm -r ../data/results && sudo rm -r ..data/work"
   ]
  },
  {
   "cell_type": "code",
   "execution_count": null,
   "metadata": {},
   "outputs": [],
   "source": [
    "# get scaling values\n",
    "norm, mapped = h.getSpikeInControlScales(refgenome=\"../../data/ref/reference_droso.fna\",\n",
    "fastQfolder='../../data/'+project+'/fastqs/',\n",
    "pairedEnd=True, cores=12,\n",
    "tofilter=True,\n",
    "totrim=True,\n",
    "tomap=True,\n",
    "results=\"../../data/\"+project+\"/\",\n",
    "pathtotrim_galore=\"../../TrimGalore-0.6.5/trim_galore\")\n",
    "norm, mapped"
   ]
  },
  {
   "cell_type": "markdown",
   "metadata": {},
   "source": [
    "computing scales from the excel sheet"
   ]
  },
  {
   "cell_type": "code",
   "execution_count": null,
   "metadata": {},
   "outputs": [],
   "source": [
    "scales = [0.3011826465, # 'MV411_RNP_IRF8-H3K27AC_R1',\n",
    "0.4865371752, # 'MV411_RNP_IRF8-H3K27AC_R2',\n",
    "0.5670857556, # 'MV411_RNP_MEF2D-H3K27AC_R1',\n",
    "0.7349663619, # 'MV411_RNP_MEF2D-H3K27AC_R2',\n",
    "0.7548163023, # 'MV411_RNP_MYB-H3K27AC_R1',\n",
    "0.5976325206, # 'MV411_RNP_MYB-H3K27AC_R2',\n",
    "1.400750948, # 'MV411_RNP_RUNX1-H3K27AC_R1',\n",
    "0.849637265, # 'MV411_RNP_RUNX1-H3K27AC_R2',\n",
    "0.7539535476, # 'MV411_RNP_RUNX1_RUNX2-H3K27AC_R1',\n",
    "0.6905692051, # 'MV411_RNP_RUNX1_RUNX2-H3K27AC_R2',\n",
    "1.50505384, # 'MV411_RNP_RUNX2-H3K27AC_R1',\n",
    "0.8442345485, # 'MV411_RNP_RUNX2-H3K27AC_R2',\n",
    "0.5019100631, # 'MV411_RNP_SPI1-H3K27AC_R1',\n",
    "0.8688220473, # 'MV411_RNP_SPI1-H3K27AC_R2'\n",
    "         ]"
   ]
  },
  {
   "cell_type": "code",
   "execution_count": null,
   "metadata": {
    "scrolled": true
   },
   "outputs": [],
   "source": [
    "bams = ! ls ../../data/$project/bwa/mergedLibrary/*.bam\n",
    "bams"
   ]
  },
  {
   "cell_type": "code",
   "execution_count": null,
   "metadata": {},
   "outputs": [],
   "source": [
    "bams[6]"
   ]
  },
  {
   "cell_type": "markdown",
   "metadata": {},
   "source": [
    "### on scalled data"
   ]
  },
  {
   "cell_type": "code",
   "execution_count": null,
   "metadata": {},
   "outputs": [],
   "source": [
    "! mkdir ../../data/$project/diffPeaks/ && ! mkdir ../../data/$project/diffData/"
   ]
  },
  {
   "cell_type": "code",
   "execution_count": null,
   "metadata": {},
   "outputs": [],
   "source": [
    "! mkdir ../../data/$project/droso_aligned"
   ]
  },
  {
   "cell_type": "code",
   "execution_count": null,
   "metadata": {},
   "outputs": [],
   "source": [
    "! mv ../../data/$project/mp* ../../data/$project/droso_aligned"
   ]
  },
  {
   "cell_type": "code",
   "execution_count": null,
   "metadata": {},
   "outputs": [],
   "source": [
    "wigs = ! ls ../../data/$project/bwa/mergedLibrary/bigwig/*.bigWig"
   ]
  },
  {
   "cell_type": "code",
   "execution_count": null,
   "metadata": {
    "scrolled": true
   },
   "outputs": [],
   "source": [
    "ls ../../data/$project/bwa/mergedLibrary/bigwig/"
   ]
  },
  {
   "cell_type": "code",
   "execution_count": null,
   "metadata": {},
   "outputs": [],
   "source": [
    "! gsutil -m cp -r ../../data/$project/bwa/mergedLibrary/bigwig/ gs://amlproject/Chip/$project/bwa/mergedLibrary/\n",
    "! gsutil -m cp -r ../../data/$project/droso_aligned gs://amlproject/Chip/$project/\n",
    "! gsutil -m cp -r ../../data/$project/recalib_bigwig gs://amlproject/Chip/$project/"
   ]
  },
  {
   "cell_type": "code",
   "execution_count": null,
   "metadata": {},
   "outputs": [],
   "source": [
    "for val in wigs:\n",
    "    bedg = val[:-6]+'bdg'\n",
    "    ! bigWigToBedGraph $val $bedg"
   ]
  },
  {
   "cell_type": "code",
   "execution_count": null,
   "metadata": {},
   "outputs": [],
   "source": [
    "bdg=! ls ../../data/additional_degraded_v1/bwa/mergedLibrary/bigwig/*.bdg\n",
    "bdg"
   ]
  },
  {
   "cell_type": "code",
   "execution_count": null,
   "metadata": {
    "scrolled": true
   },
   "outputs": [],
   "source": [
    "# diffPeak on scaled data \n",
    "size= 240\n",
    "for i in range(int(len(bdg)-3)):\n",
    "    name1 = bdg[1+i%2]\n",
    "    name2 = bdg[3+i]\n",
    "    print(name1,name2)\n",
    "    print(chip.diffPeak(name1, name2, control1=bdg[0], control2=bdg[0], res_directory=\"../../data/\"+project+\"/diffPeaks/\", scaling1=1, scaling2=scales[i], size=size))"
   ]
  },
  {
   "cell_type": "code",
   "execution_count": null,
   "metadata": {},
   "outputs": [],
   "source": [
    "bams"
   ]
  },
  {
   "cell_type": "code",
   "execution_count": null,
   "metadata": {},
   "outputs": [],
   "source": [
    "bams[10]"
   ]
  },
  {
   "cell_type": "code",
   "execution_count": null,
   "metadata": {
    "scrolled": true
   },
   "outputs": [],
   "source": [
    "# diffPeak on scaled data (full reprocessing)\n",
    "size= 240\n",
    "for i in range(len(bams)-3):\n",
    "    if i < 8:\n",
    "        continue\n",
    "    bam1 = bams[1+i%2]\n",
    "    bam2 = bams[3+i]\n",
    "    print(bam1,bam2)\n",
    "    print(chip.fullDiffPeak(bam1,bam2, control1=bams[0], compute_size=False, size=size, scaling=[scales[i],1], directory = \"../../data/\"+project+\"/diffData/\", res_directory = \"../../data/\"+project+\"/diffPeaks/\",pairedend=True))"
   ]
  },
  {
   "cell_type": "code",
   "execution_count": null,
   "metadata": {},
   "outputs": [],
   "source": [
    "initscales = ! cat ../../data/$project/bwa/mergedLibrary/bigwig/scale/*.txt"
   ]
  },
  {
   "cell_type": "code",
   "execution_count": null,
   "metadata": {},
   "outputs": [],
   "source": [
    "scales = [val*float(initscales[3+i]) for i, val in enumerate(scales)]"
   ]
  },
  {
   "cell_type": "code",
   "execution_count": null,
   "metadata": {
    "scrolled": true
   },
   "outputs": [],
   "source": [
    "scales"
   ]
  },
  {
   "cell_type": "code",
   "execution_count": null,
   "metadata": {},
   "outputs": [],
   "source": [
    "chip.bigWigFrom(bams[3:], \n",
    "                genome='GRCh38',scaling=scales,\n",
    "               numthreads=8)"
   ]
  },
  {
   "cell_type": "code",
   "execution_count": null,
   "metadata": {},
   "outputs": [],
   "source": [
    "ls ../../data/$project/recalib_bigwig/"
   ]
  },
  {
   "cell_type": "code",
   "execution_count": null,
   "metadata": {
    "scrolled": true
   },
   "outputs": [],
   "source": [
    "!mv bigwig/* ../../data/$project/recalib_bigwig/"
   ]
  },
  {
   "cell_type": "code",
   "execution_count": null,
   "metadata": {
    "scrolled": true
   },
   "outputs": [],
   "source": [
    "!cp ../../data/$project/bwa/mergedLibrary/bigwig/MV411_RNP_AAVS1-*.bigWig ../../data/$project/recalib_bigwig/"
   ]
  },
  {
   "cell_type": "code",
   "execution_count": null,
   "metadata": {
    "scrolled": true
   },
   "outputs": [],
   "source": [
    "os.popen('for i in $(ls ../../data/'+project+'/diffPeaks/*.bed); \\\n",
    "            do echo $(wc -l $i); \\\n",
    "            done').read().split('\\n')"
   ]
  },
  {
   "cell_type": "code",
   "execution_count": null,
   "metadata": {
    "scrolled": true
   },
   "outputs": [],
   "source": [
    "bw = ! ls ../../data/additional_degraded_v1/recalib_bigwig/*\n",
    "bw"
   ]
  },
  {
   "cell_type": "code",
   "execution_count": null,
   "metadata": {},
   "outputs": [],
   "source": [
    "!mkdir ../results/$project/\n",
    "!mkdir ../results/$project/plots\n",
    "!mkdir ../results/$project/plots/heatmaps/"
   ]
  },
  {
   "cell_type": "code",
   "execution_count": null,
   "metadata": {},
   "outputs": [],
   "source": [
    "# GENOME WIDE comparison"
   ]
  },
  {
   "cell_type": "code",
   "execution_count": null,
   "metadata": {},
   "outputs": [],
   "source": [
    "peaks = ! ls ../../data/$project/bwa/mergedLibrary/macs/broadPeak/*.broadPeak"
   ]
  },
  {
   "cell_type": "code",
   "execution_count": null,
   "metadata": {},
   "outputs": [],
   "source": [
    "names = [\"AAVS1\", \"AAVS1_v2\", \"IRF8\",\"IRF8_v2\",\"MEF2D\",\"MEF2D_v2\",\"MYB\",\"MYB_v2\",\"RUNX1\",\"RUNX1_v2\",\"RUNX1_RUNX2\",\"RUNX1_RUNX2_v2\",\"RUNX2\",\"RUNX2_v2\", \"SPI1\",\"SPI1_v2\"]"
   ]
  },
  {
   "cell_type": "code",
   "execution_count": null,
   "metadata": {
    "scrolled": true
   },
   "outputs": [],
   "source": [
    "for i, val in enumerate(bw):\n",
    "    if i <2:\n",
    "        continue\n",
    "    name = names[i]\n",
    "    print(name)\n",
    "    chip.getPeaksAt(peaks[0], bigwigs = [val,bw[0]], bigwignames= [name,\"AAVS1\"],peaknames=['Macs2_Peaks'], window=3000, folder=\"\", title=name+\"_vs_AAVS1\", numthreads=8, refpoint=\"center\", name='../../data/'+project+'/'+name+'_mat.pdf', withDeeptools=True, torecompute=True, vmax=4, legendLoc=\"lower-left\")"
   ]
  },
  {
   "cell_type": "code",
   "execution_count": null,
   "metadata": {},
   "outputs": [],
   "source": [
    "! cp ../../data/additional_degraded_v1/*.pdf ../results/$project/plots/scaled/heatmaps/"
   ]
  },
  {
   "cell_type": "code",
   "execution_count": null,
   "metadata": {
    "scrolled": true
   },
   "outputs": [],
   "source": [
    "cond1peak = ! ls ../../data/$project/diffPeaks/*cond1.bed\n",
    "cond2peak = ! ls ../../data/$project/diffPeaks/*cond2.bed\n",
    "commonpeak = ! ls ../../data/$project/diffPeaks/*common.bed\n",
    "cond1peak"
   ]
  },
  {
   "cell_type": "code",
   "execution_count": null,
   "metadata": {},
   "outputs": [],
   "source": [
    "names = [\"IRF8\", \"MEF2D\", \"MYB\",\"RUNX1\",\"RUNX1_RUNX2\",\"RUNX2\", \"SPI1\", \"IRF8_v2\", \"MEF2D_v2\", \"MYB_v2\", \"RUNX1_v2\", \"RUNX1_RUNX2_v2\", \"RUNX2_v2\", \"SPI1_v2\"]"
   ]
  },
  {
   "cell_type": "code",
   "execution_count": null,
   "metadata": {
    "scrolled": true
   },
   "outputs": [],
   "source": [
    "bw"
   ]
  },
  {
   "cell_type": "code",
   "execution_count": null,
   "metadata": {},
   "outputs": [],
   "source": [
    "bw[(6*2)+3]"
   ]
  },
  {
   "cell_type": "code",
   "execution_count": null,
   "metadata": {},
   "outputs": [],
   "source": [
    "int(len(bw[2:])/2)"
   ]
  },
  {
   "cell_type": "code",
   "execution_count": null,
   "metadata": {
    "scrolled": true
   },
   "outputs": [],
   "source": [
    "bw[round(7/6)]"
   ]
  },
  {
   "cell_type": "code",
   "execution_count": null,
   "metadata": {
    "scrolled": true
   },
   "outputs": [],
   "source": [
    "for i in range(int(len(bw[2:]))):\n",
    "    if i <8:\n",
    "        continue\n",
    "    cl = len(bw[2:])\n",
    "    name1 = bw[round(i/(cl-1))]\n",
    "    name2 = bw[((i%int(cl/2))*2)+2+round(i/(cl-1))]\n",
    "    peak = [cond1peak[i], commonpeak[i], cond2peak[i]]\n",
    "   # for val in peak:\n",
    "      #  chip.dropWeirdChromosomes(val)\n",
    "    name = names[i]\n",
    "    print(name1,name2)\n",
    "    chip.getPeaksAt(peak, [name1, name2], bigwignames=['DMSO', 'VHL'], peaknames=['DMSO_peaks', 'common', 'VHL_peaks'], window=3000, folder=\"\", title=name, numthreads=7, refpoint=\"center\", name='../../data/'+project+'/diffPeaks/'+name+'_mat.pdf', withDeeptools=True, torecompute=False)"
   ]
  },
  {
   "cell_type": "code",
   "execution_count": null,
   "metadata": {},
   "outputs": [],
   "source": [
    "! mkdir ../results/additional_degraded_v1/plots/scaled/diffPeaks/\n",
    "! cp ../../data/additional_degraded_v1/diffPeaks/*.pdf ../results/additional_degraded_v1/plots/scaled/diffPeaks/"
   ]
  },
  {
   "cell_type": "markdown",
   "metadata": {},
   "source": [
    "### on unscalled data"
   ]
  },
  {
   "cell_type": "code",
   "execution_count": null,
   "metadata": {},
   "outputs": [],
   "source": [
    "bams = !ls ../../data/$project/bwa/mergedLibrary/mp*.bam\n",
    "bams"
   ]
  },
  {
   "cell_type": "code",
   "execution_count": null,
   "metadata": {},
   "outputs": [],
   "source": [
    "! mkdir ../../data/$project/diffPeaks_unscaled"
   ]
  },
  {
   "cell_type": "code",
   "execution_count": null,
   "metadata": {},
   "outputs": [],
   "source": [
    "#on unscalled data \n",
    "for i in range(int(len(bams)/2)):\n",
    "    if i < 5:\n",
    "        continue\n",
    "    name1 = bams[i]\n",
    "    name2 = bams[6+i]\n",
    "    print(name1,name2)\n",
    "    chip.fullDiffPeak(name1,name2, control1='../../data/'+project+'/bwa/mergedLibrary/INPUT_R1.mLb.clN.sorted.bam', directory = \"../../data/\"+project+\"/diffData_unscaled/\", res_directory = \"../../data/\"+project+\"/diffPeaks_unscaled/\",pairedend=False)"
   ]
  },
  {
   "cell_type": "code",
   "execution_count": null,
   "metadata": {},
   "outputs": [],
   "source": [
    "bw = ! ls ../../data/$project/bwa/mergedLibrary/bigwig/*.bigWig\n",
    "bw"
   ]
  },
  {
   "cell_type": "code",
   "execution_count": null,
   "metadata": {},
   "outputs": [],
   "source": [
    "cond1peak = ! ls ../../data/$project/diffPeaks_unscaled/*cond1.bed\n",
    "cond2peak = ! ls ../../data/$project/diffPeaks_unscaled/*cond2.bed\n",
    "commonpeak = ! ls ../../data/$project/diffPeaks_unscaled/*common.bed\n",
    "commonpeak"
   ]
  },
  {
   "cell_type": "code",
   "execution_count": null,
   "metadata": {},
   "outputs": [],
   "source": [
    "names = [\"MED1\",\"MED1_v2\",\"FLAG_IRF2BP2\",\"POLII_total\",\"POLII_S2\",\"POLII_S5\"]"
   ]
  },
  {
   "cell_type": "code",
   "execution_count": null,
   "metadata": {},
   "outputs": [],
   "source": [
    "for i in range(int((len(bw)-1)/2)):\n",
    "    name1 = bw[1+i]\n",
    "    name2 = bw[7+i]\n",
    "    peak = [cond1peak[i], commonpeak[i], cond2peak[i]]\n",
    "    #for val in peak:\n",
    "     #   chip.dropWeirdChromosomes(val)\n",
    "    name = names[i]\n",
    "    print(name1,name2)\n",
    "    chip.getPeaksAt(peak, [name1, name2], bigwignames=['DMSO', 'VHL'], peaknames=['DMSO_peaks', 'common', 'VHL_peaks'], window=3000, folder=\"\", title=name, numthreads=7, torecompute=True, refpoint='center', name='../../data/'+project+'/diffPeaks_unscaled/'+name+'_mat.pdf', withDeeptools=True)"
   ]
  },
  {
   "cell_type": "code",
   "execution_count": null,
   "metadata": {},
   "outputs": [],
   "source": [
    "! gsutil -m cp -r \"../../data/additional_degraded_v1\" gs://amlproject/Chip/"
   ]
  },
  {
   "cell_type": "code",
   "execution_count": null,
   "metadata": {},
   "outputs": [],
   "source": [
    "! cp ../../$project/*_mat.pdf ../results/$project/unscaled/\n",
    "! cp ../../$project/*_mat.pdf ../results/$project/scaled/\n",
    "\n",
    "! cp ../../$project/*_mat.pdf ../results/$project/unscaled/\n",
    "! cp ../../$project/*_mat.pdf ../results/$project/unscaled/\n",
    "\n",
    "! cp -r ../data/$project/bwa/mergedLibrary/deepTools/plot/* ../results/$project/plots"
   ]
  },
  {
   "cell_type": "markdown",
   "metadata": {},
   "source": [
    "## v6"
   ]
  },
  {
   "cell_type": "code",
   "execution_count": null,
   "metadata": {},
   "outputs": [],
   "source": [
    "project=\"chipseq_MEF2D_degraded\""
   ]
  },
  {
   "cell_type": "code",
   "execution_count": null,
   "metadata": {},
   "outputs": [],
   "source": [
    "! gsutil ls gs://transfer-amlproject/201001_MP8262_fastq/"
   ]
  },
  {
   "cell_type": "code",
   "execution_count": null,
   "metadata": {},
   "outputs": [],
   "source": [
    "mkdir ../data/$project/ && mkdir ../data/$project/qc/"
   ]
  },
  {
   "cell_type": "code",
   "execution_count": null,
   "metadata": {},
   "outputs": [],
   "source": [
    "!gsutil -m cp gs://transfer-amlproject/201001_MP8262_fastq/multiqc_report.html ../data/$project/qc/\n",
    "!gsutil -m cp -r gs://transfer-amlproject/201001_MP8262_fastq/Reports/ ../data/$project/qc/\n",
    "!gsutil -m cp -r gs://transfer-amlproject/201001_MP8262_fastq/multiqc_data/ ../data/$project/qc/"
   ]
  },
  {
   "cell_type": "code",
   "execution_count": null,
   "metadata": {
    "scrolled": true
   },
   "outputs": [],
   "source": [
    "! gsutil -m cp gs://transfer-amlproject/201001_MP8262_fastq/*  gs://transfer-amlproject/$project/"
   ]
  },
  {
   "cell_type": "markdown",
   "metadata": {},
   "source": [
    "### analysis"
   ]
  },
  {
   "cell_type": "code",
   "execution_count": null,
   "metadata": {
    "scrolled": true
   },
   "outputs": [],
   "source": [
    "! mkdir ../../data/$project && mkdir ../../data/$project/fastqs && gsutil -m cp gs://transfer-amlproject/$project/* ../../data/$project/fastqs"
   ]
  },
  {
   "cell_type": "code",
   "execution_count": null,
   "metadata": {},
   "outputs": [],
   "source": [
    "! rm ../../data/$project/fastqs/multiqc_report.html"
   ]
  },
  {
   "cell_type": "code",
   "execution_count": null,
   "metadata": {},
   "outputs": [],
   "source": [
    "a = ! ls ../../data/$project/fastqs\n",
    "a"
   ]
  },
  {
   "cell_type": "code",
   "execution_count": null,
   "metadata": {},
   "outputs": [],
   "source": [
    "rename = {\n",
    "\"20201001_FLAG_DMSO_MP8262_S93\": \"mp881-MV411_MEF2D_NT_SC_63_DMSO-FLAG_MEF2D-r3\",\n",
    "\"20201001_FLAG_VHL_MP8262_S99\": \"mp882-MV411_MEF2D_NT_SC_63_VHL-FLAG_MEF2D-r1\",\n",
    "\"20201001_IRF8_DMSO_MP8262_S88\": \"mp883-MV411_MEF2D_NT_SC_63_DMSO-IFR8-r1\",\n",
    "\"20201001_IRF8_VHL_MP8262_S94\": \"mp884-MV411_MEF2D_NT_SC_63_VHL-IFR8-r1\",\n",
    "\"20201001_MED1_DMSO_MP8262_S91\": \"mp885-MV411_MEF2D_NT_SC_63_DMSO-MED1-r1\",\n",
    "\"20201001_MED1_VHL_MP8262_S97\": \"mp886-MV411_MEF2D_NT_SC_63_VHL-MED1-r1\",\n",
    "\"20201001_MEF2C_DMSO_MP8262_S90\": \"mp887-MV411_MEF2D_NT_SC_63_DMSO-MEF2C-r1\",\n",
    "\"20201001_MEF2C_VHL_MP8262_S96\": \"mp888-MV411_MEF2D_NT_SC_63_VHL-MEF2C-r1\",\n",
    "\"20201001_MYC_DMSO_MP8262_S89\": \"mp889-MV411_MEF2D_NT_SC_63_DMSO-MYC-r1\",\n",
    "\"20201001_MYC_VHL_MP8262_S95\": \"mp890-MV411_MEF2D_NT_SC_63_VHL-MYC-r1\",\n",
    "\"20201001_POL_II_Total_DMSO_MP8262_S92\": \"mp891-MV411_MEF2D_NT_SC_63_DMSO-POLII-r1\",\n",
    "\"20201001_POL_II_Total_VHL_MP8262_S98\": \"mp892-MV411_MEF2D_NT_SC_63_VHL-POLII-r1\",}"
   ]
  },
  {
   "cell_type": "code",
   "execution_count": null,
   "metadata": {},
   "outputs": [],
   "source": [
    "for val in a:\n",
    "    rep = val\n",
    "    for k,v in rename.items():\n",
    "        rep = rep.replace(k,v)\n",
    "    !mv ../../data/$project/fastqs/$val ../../data/$project/fastqs/$rep"
   ]
  },
  {
   "cell_type": "code",
   "execution_count": null,
   "metadata": {},
   "outputs": [],
   "source": [
    "from gsheets import Sheets\n",
    "sheets = Sheets.from_files('~/.client_secret.json', '~/.storage.json')\n",
    "url=\"https://docs.google.com/spreadsheets/d/1yFLjYB1McU530JnLgL0QIMAKIkVl3kl0_LCHje2gk8U\"\n",
    "gsheet = sheets.get(url).sheets[2].to_frame()"
   ]
  },
  {
   "cell_type": "code",
   "execution_count": null,
   "metadata": {},
   "outputs": [],
   "source": [
    "gsheet"
   ]
  },
  {
   "cell_type": "code",
   "execution_count": null,
   "metadata": {},
   "outputs": [],
   "source": [
    "a = ! ls ../../data/$project/fastqs\n",
    "a"
   ]
  },
  {
   "cell_type": "code",
   "execution_count": null,
   "metadata": {},
   "outputs": [],
   "source": [
    "df = {\n",
    "\"fastq_1\": [],\n",
    "\"fastq_2\": [],\n",
    "\"antibody\": [],\n",
    "\"group\": [],\n",
    "\"replicate\": [],\n",
    "\"control\": []\n",
    "}\n",
    "for val in h.grouped(a,2):\n",
    "    row = gsheet[gsheet.id==val[0].split('/')[-1].split('-')[0]]\n",
    "    df['group'].append(\"MV4\"+row['name'].values[0].split('-r')[0].split('-MV4')[1])\n",
    "    df['replicate'].append(row['name'].values[0].split('-r')[1])\n",
    "    df['fastq_1'].append(project+\"/fastqs/\"+val[0])\n",
    "    df['fastq_2'].append(project+\"/fastqs/\"+val[1])\n",
    "    df['antibody'].append(row['protein'].values[0])\n",
    "    df['control'].append(\"INPUT\")\n",
    "df['group'].append('INPUT')\n",
    "df['replicate'].append(1)\n",
    "df['fastq_1'].append('ref/mp845-MV411-INPUT-r2_R1.fastq.gz')\n",
    "df['fastq_2'].append('ref/mp845-MV411-INPUT-r2_R2.fastq.gz')\n",
    "df['antibody'].append(\"\")\n",
    "df['control'].append(\"\")\n",
    "df = pd.DataFrame(df)"
   ]
  },
  {
   "cell_type": "code",
   "execution_count": null,
   "metadata": {},
   "outputs": [],
   "source": [
    "df.loc[0].tolist()"
   ]
  },
  {
   "cell_type": "code",
   "execution_count": null,
   "metadata": {},
   "outputs": [],
   "source": [
    "cat ../nextflow/chipseq_MEF2D_degraded_design.csv"
   ]
  },
  {
   "cell_type": "code",
   "execution_count": null,
   "metadata": {},
   "outputs": [],
   "source": [
    "df[df.columns[[3,4,0,1,2,5]]].to_csv('../nextflow/'+project+'_design.csv',index=False)"
   ]
  },
  {
   "cell_type": "code",
   "execution_count": null,
   "metadata": {
    "scrolled": true
   },
   "outputs": [],
   "source": [
    "! cd ../../data/ && sudo ../nextflow log ## to get access to the previous runs"
   ]
  },
  {
   "cell_type": "code",
   "execution_count": null,
   "metadata": {},
   "outputs": [],
   "source": [
    "#process chips\n",
    "! cd ../../data/ && sudo ../nextflow run nf-core/chipseq --paired_end --seq_center 'DFCI' --email 'jkobject@gmail.com' --input ../AMLproject/nextflow/$project_design.csv --genome GRCh38 --skip_preseq --max_cpus 16 -profile docker -w work -resume exotic_bartik"
   ]
  },
  {
   "cell_type": "code",
   "execution_count": null,
   "metadata": {},
   "outputs": [],
   "source": [
    "! sudo mv ../../data/results/* ../../data/$project/ && sudo rm -r ..data/work"
   ]
  },
  {
   "cell_type": "code",
   "execution_count": null,
   "metadata": {},
   "outputs": [],
   "source": [
    "ls ../../TrimGalore-0.6.5/trim_galore"
   ]
  },
  {
   "cell_type": "code",
   "execution_count": null,
   "metadata": {},
   "outputs": [],
   "source": [
    "# get scaling values\n",
    "norm, mapped = h.getSpikeInControlScales(refgenome=\"../../data/ref/reference_droso.fna\",\n",
    "fastQfolder='../../data/'+project+'/fastqs/',\n",
    "pairedEnd=True, cores=12,\n",
    "tofilter=True,\n",
    "totrim=True,\n",
    "tomap=True,\n",
    "results=\"../../data/\"+project+\"/\",\n",
    "pathtotrim_galore=\"../../TrimGalore-0.6.5/trim_galore\")\n",
    "norm, mapped"
   ]
  },
  {
   "cell_type": "code",
   "execution_count": null,
   "metadata": {},
   "outputs": [],
   "source": [
    "mapped"
   ]
  },
  {
   "cell_type": "markdown",
   "metadata": {},
   "source": [
    "computing scales from the excel sheet"
   ]
  },
  {
   "cell_type": "code",
   "execution_count": null,
   "metadata": {},
   "outputs": [],
   "source": [
    "scales = [1.0,\n",
    "1.0,\n",
    "0.9644136372,\n",
    "0.9068238696,\n",
    "1.0,\n",
    "1.0,\n",
    "0.3954022974,\n",
    "0.8368988329,\n",
    "1.0,\n",
    "1.0,\n",
    "0.5551449949,\n",
    "0.844680746]"
   ]
  },
  {
   "cell_type": "code",
   "execution_count": null,
   "metadata": {
    "scrolled": true
   },
   "outputs": [],
   "source": [
    "bams = ! ls ../../data/$project/bwa/mergedLibrary/*.bam\n",
    "bams"
   ]
  },
  {
   "cell_type": "code",
   "execution_count": null,
   "metadata": {},
   "outputs": [],
   "source": [
    "bams[6]"
   ]
  },
  {
   "cell_type": "markdown",
   "metadata": {},
   "source": [
    "### on scalled data"
   ]
  },
  {
   "cell_type": "code",
   "execution_count": null,
   "metadata": {},
   "outputs": [],
   "source": [
    "! mkdir ../../data/$project/diffPeaks/ && ! mkdir ../../data/$project/diffData/"
   ]
  },
  {
   "cell_type": "code",
   "execution_count": null,
   "metadata": {},
   "outputs": [],
   "source": [
    "! mkdir ../../data/$project/droso_aligned"
   ]
  },
  {
   "cell_type": "code",
   "execution_count": null,
   "metadata": {},
   "outputs": [],
   "source": [
    "! mv ../../data/$project/mp* ../../data/$project/droso_aligned"
   ]
  },
  {
   "cell_type": "code",
   "execution_count": null,
   "metadata": {},
   "outputs": [],
   "source": [
    "wigs = ! ls ../../data/$project/bwa/mergedLibrary/bigwig/*.bigWig"
   ]
  },
  {
   "cell_type": "code",
   "execution_count": null,
   "metadata": {},
   "outputs": [],
   "source": [
    "initscales = ! cat ../../data/$project/bwa/mergedLibrary/bigwig/scale/*.txt"
   ]
  },
  {
   "cell_type": "code",
   "execution_count": null,
   "metadata": {},
   "outputs": [],
   "source": [
    "! ls ../../data/$project/bwa/mergedLibrary/bigwig/scale/*.txt"
   ]
  },
  {
   "cell_type": "code",
   "execution_count": null,
   "metadata": {},
   "outputs": [],
   "source": [
    "rescales = [val*float(initscales[1+i]) for i, val in enumerate(scales)]"
   ]
  },
  {
   "cell_type": "code",
   "execution_count": null,
   "metadata": {},
   "outputs": [],
   "source": [
    "rescales"
   ]
  },
  {
   "cell_type": "code",
   "execution_count": null,
   "metadata": {},
   "outputs": [],
   "source": [
    "chip.bigWigFrom(bams[1:], \n",
    "                genome='GRCh38',scaling=rescales,\n",
    "               numthreads=12)"
   ]
  },
  {
   "cell_type": "code",
   "execution_count": null,
   "metadata": {
    "scrolled": false
   },
   "outputs": [],
   "source": [
    "!mkdir ../../data/$project/recalib_bigwig/ && mv bigwig/* ../../data/$project/recalib_bigwig/"
   ]
  },
  {
   "cell_type": "code",
   "execution_count": null,
   "metadata": {},
   "outputs": [],
   "source": [
    "mv bigwig/* ../../data/$project/recalib_bigwig/"
   ]
  },
  {
   "cell_type": "code",
   "execution_count": null,
   "metadata": {},
   "outputs": [],
   "source": [
    "#! gsutil -m cp -r ../../data/$project/droso_aligned gs://amlproject/Chip/$project/\n",
    "! gsutil -m cp -r ../../data/$project/recalib_bigwig gs://amlproject/Chip/$project/"
   ]
  },
  {
   "cell_type": "code",
   "execution_count": null,
   "metadata": {},
   "outputs": [],
   "source": [
    "rm -r ../../data/$project/droso_aligned/"
   ]
  },
  {
   "cell_type": "code",
   "execution_count": null,
   "metadata": {
    "scrolled": true
   },
   "outputs": [],
   "source": [
    "# diffPeak on scaled data \n",
    "for i in range(int((len(bams)-1)/2)):\n",
    "    if i!=4:\n",
    "        continue\n",
    "    name1 = bams[i+1]\n",
    "    name2 = bams[i+7]\n",
    "    print('\\n')\n",
    "    print(name1,name2)\n",
    "    print(chip.fullDiffPeak(name1, name2, control1=bams[0], res_directory=\"../../data/\"+project+\"/diffPeaks/\", scaling=[scales[i],scales[i+6]], directory=\"../../data/\"+project+'/diffData/'))"
   ]
  },
  {
   "cell_type": "code",
   "execution_count": null,
   "metadata": {
    "scrolled": true
   },
   "outputs": [],
   "source": [
    "os.popen('for i in $(ls ../../data/'+project+'/diffPeaks/*.bed); \\\n",
    "            do echo $(wc -l $i); \\\n",
    "            done').read().split('\\n')"
   ]
  },
  {
   "cell_type": "code",
   "execution_count": null,
   "metadata": {
    "scrolled": false
   },
   "outputs": [],
   "source": [
    "bw = ! ls ../../data/$project/recalib_bigwig/*\n",
    "bw"
   ]
  },
  {
   "cell_type": "code",
   "execution_count": null,
   "metadata": {},
   "outputs": [],
   "source": [
    "!mkdir ../results/$project/\n",
    "!mkdir ../results/$project/plots\n",
    "!mkdir ../results/$project/plots/heatmaps/"
   ]
  },
  {
   "cell_type": "code",
   "execution_count": null,
   "metadata": {},
   "outputs": [],
   "source": [
    "# GENOME WIDE comparison"
   ]
  },
  {
   "cell_type": "code",
   "execution_count": null,
   "metadata": {},
   "outputs": [],
   "source": [
    "peaks = ! ls ../../data/$project/bwa/mergedLibrary/macs/broadPeak/*.broadPeak"
   ]
  },
  {
   "cell_type": "code",
   "execution_count": null,
   "metadata": {},
   "outputs": [],
   "source": [
    "names = [\"DMSO_FLAG_MEF2D\",\n",
    "\"DMSO_IFR8\",\n",
    "\"DMSO_MED1\",\n",
    "\"DMSO_MEF2C\",\n",
    "\"DMSO_MYC\",\n",
    "\"DMSO_POLII\",\n",
    "\"VHL_FLAG_MEF2D\",\n",
    "\"VHL_IFR8\",\n",
    "\"VHL_MED1\",\n",
    "\"VHL_MEF2C\",\n",
    "\"VHL_MYC\",\n",
    "\"VHL_POLII\"]"
   ]
  },
  {
   "cell_type": "code",
   "execution_count": null,
   "metadata": {},
   "outputs": [],
   "source": [
    "! mkdir ../../data/$project/peakplot/"
   ]
  },
  {
   "cell_type": "code",
   "execution_count": null,
   "metadata": {
    "scrolled": true
   },
   "outputs": [],
   "source": [
    "for i, val in enumerate(bw):\n",
    "    if i <0:\n",
    "        continue\n",
    "    name = names[i]\n",
    "    print(name)\n",
    "    chip.getPeaksAt(peaks[i], bigwigs = val, bigwignames= name, peaknames=['Macs2_Peaks'], window=3000, folder=\"\", title=name, numthreads=8, refpoint=\"center\", name='../../data/'+project+'/peakplot/'+name+'_mat.pdf', withDeeptools=True, torecompute=True, vmax=2.5, legendLoc=\"lower-left\")"
   ]
  },
  {
   "cell_type": "code",
   "execution_count": null,
   "metadata": {
    "scrolled": true
   },
   "outputs": [],
   "source": [
    "cond1peak = ! ls ../../data/$project/diffPeaks/*cond1.bed\n",
    "cond2peak = ! ls ../../data/$project/diffPeaks/*cond2.bed\n",
    "commonpeak = ! ls ../../data/$project/diffPeaks/*common.bed\n",
    "cond1peak"
   ]
  },
  {
   "cell_type": "code",
   "execution_count": null,
   "metadata": {},
   "outputs": [],
   "source": [
    "rm ../../data/chipseq_MEF2D_degraded/diffPeaks/MV411_MEF2D_NT_SC_63_DMSO-FLAG_MEF2D_R1_treat_pileup_vs_MV411_MEF2D_NT_SC_63_VHL-POLII_R1_tre*"
   ]
  },
  {
   "cell_type": "code",
   "execution_count": null,
   "metadata": {},
   "outputs": [],
   "source": [
    "names = [\"FLAG_MEF2D\",\n",
    "\"IFR8\",\n",
    "\"MED1\",\n",
    "\"MEF2C\",\n",
    "\"MYC\",\n",
    "\"POLII\"]"
   ]
  },
  {
   "cell_type": "code",
   "execution_count": null,
   "metadata": {
    "scrolled": true
   },
   "outputs": [],
   "source": [
    "for i in range(int(len(bw)/2)):\n",
    "    if i >=2:\n",
    "        continue\n",
    "    cl = len(bw)\n",
    "    name1 = bw[i]\n",
    "    name2 = bw[i+6]\n",
    "    peak = [cond1peak[i], commonpeak[i], cond2peak[i]]\n",
    "   # for val in peak:\n",
    "      #  chip.dropWeirdChromosomes(val)\n",
    "    name = names[i]\n",
    "    print(name1,name2)\n",
    "    chip.getPeaksAt(peak, [name1, name2], bigwignames=['DMSO', 'VHL'], peaknames=['DMSO_peaks', 'common', 'VHL_peaks'], window=3000, folder=\"\", title=name, numthreads=7, refpoint=\"center\", name='../../data/'+project+'/diffPeaks/'+name+'_mat.pdf', withDeeptools=True, torecompute=True)"
   ]
  },
  {
   "cell_type": "code",
   "execution_count": null,
   "metadata": {
    "scrolled": true
   },
   "outputs": [],
   "source": [
    "h.createFoldersFor('../results/'+project+'/plots/scaled/diffPeaks/')\n",
    "! cp ../../data/$project/diffPeaks/*.pdf ../results/$project/plots/scaled/diffPeaks/"
   ]
  },
  {
   "cell_type": "code",
   "execution_count": null,
   "metadata": {},
   "outputs": [],
   "source": [
    "!cp ../../data/$project/peakplot/*_mat.pdf ../results/$project/plots/scaled/"
   ]
  },
  {
   "cell_type": "markdown",
   "metadata": {},
   "source": [
    "### on unscalled data"
   ]
  },
  {
   "cell_type": "code",
   "execution_count": null,
   "metadata": {},
   "outputs": [],
   "source": [
    "bams = !ls ../../data/$project/bwa/mergedLibrary/mp*.bam\n",
    "bams"
   ]
  },
  {
   "cell_type": "code",
   "execution_count": null,
   "metadata": {},
   "outputs": [],
   "source": [
    "! mkdir ../../data/$project/diffPeaks_unscaled"
   ]
  },
  {
   "cell_type": "code",
   "execution_count": null,
   "metadata": {},
   "outputs": [],
   "source": [
    "bams"
   ]
  },
  {
   "cell_type": "code",
   "execution_count": null,
   "metadata": {},
   "outputs": [],
   "source": [
    "#on unscalled data \n",
    "for i in range(int(len(bams[1:])/2)):\n",
    "    if i < 0:\n",
    "        continue\n",
    "    name1 = bams[1+i]\n",
    "    name2 = bams[7+i]\n",
    "    print(name1,name2)\n",
    "    chip.fullDiffPeak(name1,name2, control1='../../data/'+project+'/bwa/mergedLibrary/INPUT_R1.mLb.clN.sorted.bam', directory = \"../../data/\"+project+\"/diffData_unscaled/\", res_directory = \"../../data/\"+project+\"/diffPeaks_unscaled/\",pairedend=False)"
   ]
  },
  {
   "cell_type": "code",
   "execution_count": null,
   "metadata": {},
   "outputs": [],
   "source": [
    "bw = ! ls ../../data/$project/bwa/mergedLibrary/bigwig/*.bigWig\n",
    "bw"
   ]
  },
  {
   "cell_type": "code",
   "execution_count": null,
   "metadata": {},
   "outputs": [],
   "source": [
    "cond1peak = ! ls ../../data/$project/diffPeaks_unscaled/*cond1.bed\n",
    "cond2peak = ! ls ../../data/$project/diffPeaks_unscaled/*cond2.bed\n",
    "commonpeak = ! ls ../../data/$project/diffPeaks_unscaled/*common.bed\n",
    "commonpeak"
   ]
  },
  {
   "cell_type": "code",
   "execution_count": null,
   "metadata": {},
   "outputs": [],
   "source": [
    "names = [\"MED1\",\"MED1_v2\",\"FLAG_IRF2BP2\",\"POLII_total\",\"POLII_S2\",\"POLII_S5\"]"
   ]
  },
  {
   "cell_type": "code",
   "execution_count": null,
   "metadata": {},
   "outputs": [],
   "source": [
    "for i in range(int((len(bw)-1)/2)):\n",
    "    name1 = bw[1+i]\n",
    "    name2 = bw[7+i]\n",
    "    peak = [cond1peak[i], commonpeak[i], cond2peak[i]]\n",
    "    #for val in peak:\n",
    "     #   chip.dropWeirdChromosomes(val)\n",
    "    name = names[i]\n",
    "    print(name1,name2)\n",
    "    chip.getPeaksAt(peak, [name1, name2], bigwignames=['DMSO', 'VHL'], peaknames=['DMSO_peaks', 'common', 'VHL_peaks'], window=3000, folder=\"\", title=name, numthreads=7, torecompute=True, refpoint='center', name='../../data/'+project+'/diffPeaks_unscaled/'+name+'_mat.pdf', withDeeptools=True)"
   ]
  },
  {
   "cell_type": "code",
   "execution_count": null,
   "metadata": {},
   "outputs": [],
   "source": [
    "! gsutil -m cp -r \"../../data/additional_degraded_v1\" gs://amlproject/Chip/"
   ]
  },
  {
   "cell_type": "code",
   "execution_count": null,
   "metadata": {},
   "outputs": [],
   "source": [
    "! cp ../../$project/*_mat.pdf ../results/$project/unscaled/\n",
    "! cp ../../$project/*_mat.pdf ../results/$project/scaled/\n",
    "\n",
    "! cp ../../$project/*_mat.pdf ../results/$project/unscaled/\n",
    "! cp ../../$project/*_mat.pdf ../results/$project/unscaled/\n",
    "\n",
    "! cp -r ../data/$project/bwa/mergedLibrary/deepTools/plot/* ../results/$project/plots"
   ]
  },
  {
   "cell_type": "markdown",
   "metadata": {},
   "source": [
    "## v7"
   ]
  },
  {
   "cell_type": "code",
   "execution_count": 2,
   "metadata": {},
   "outputs": [],
   "source": [
    "project=\"chipseq_MEF2CMEF2D_degraded\""
   ]
  },
  {
   "cell_type": "code",
   "execution_count": null,
   "metadata": {},
   "outputs": [],
   "source": [
    "! gsutil ls gs://transfer-amlproject/200924_MP8230_fastq/"
   ]
  },
  {
   "cell_type": "code",
   "execution_count": null,
   "metadata": {},
   "outputs": [],
   "source": [
    "mkdir ../data/$project/ && mkdir ../data/$project/qc/"
   ]
  },
  {
   "cell_type": "code",
   "execution_count": null,
   "metadata": {},
   "outputs": [],
   "source": [
    "!gsutil -m cp gs://transfer-amlproject/200924_MP8230_fastq/multiqc_report.html ../data/$project/qc/\n",
    "!gsutil -m cp -r gs://transfer-amlproject/200924_MP8230_fastq/Reports/ ../data/$project/qc/\n",
    "!gsutil -m cp -r gs://transfer-amlproject/200924_MP8230_fastq/multiqc_data/ ../data/$project/qc/"
   ]
  },
  {
   "cell_type": "code",
   "execution_count": null,
   "metadata": {
    "scrolled": true
   },
   "outputs": [],
   "source": [
    "! gsutil -m cp gs://transfer-amlproject/200924_MP8230_fastq/*  gs://transfer-amlproject/$project/"
   ]
  },
  {
   "cell_type": "markdown",
   "metadata": {},
   "source": [
    "### analysis"
   ]
  },
  {
   "cell_type": "code",
   "execution_count": null,
   "metadata": {
    "scrolled": true
   },
   "outputs": [],
   "source": [
    "! mkdir ../../data/$project && mkdir ../../data/$project/fastqs && gsutil -m cp gs://transfer-amlproject/$project/* ../../data/$project/fastqs"
   ]
  },
  {
   "cell_type": "code",
   "execution_count": null,
   "metadata": {},
   "outputs": [],
   "source": [
    "! rm ../../data/$project/fastqs/multiqc_report.html"
   ]
  },
  {
   "cell_type": "code",
   "execution_count": null,
   "metadata": {},
   "outputs": [],
   "source": [
    "a = ! ls ../../data/$project/fastqs\n",
    "a"
   ]
  },
  {
   "cell_type": "code",
   "execution_count": null,
   "metadata": {},
   "outputs": [],
   "source": [
    "rename = {\n",
    "\"20200924_MP1_MP8230_S113\": \"mp893-MV411_RNP_AAVS1-H3K27AC-r3\",\n",
    "\"20200924_MP2_MP8230_S114\": \"mp894-MV411_RNP_AAVS1-H3K27AC-r4\",\n",
    "\"20200924_MP3_MP8230_S115\": \"mp895-MV411_RNP_MEF2C-H3K27AC-r1\",\n",
    "\"20200924_MP4_MP8230_S116\": \"mp896-MV411_RNP_MEF2C-H3K27AC-r2\",\n",
    "\"20200924_MP5_MP8230_S117\": \"mp897-MV411_RNP_MEF2D-H3K27AC-r3\",\n",
    "\"20200924_MP6_MP8230_S118\": \"mp898-MV411_RNP_MEF2D-H3K27AC-r4\",\n",
    "\"20200924_MP7_MP8230_S119\": \"mp899-MV411_RNP_MEF2C_MEF2D-H3K27AC-r1\",\n",
    "\"20200924_MP8_MP8230_S120\": \"mp900-MV411_RNP_MEF2C_MEF2D-H3K27AC-r2\",}"
   ]
  },
  {
   "cell_type": "code",
   "execution_count": null,
   "metadata": {},
   "outputs": [],
   "source": [
    "for val in a:\n",
    "    rep = val\n",
    "    for k,v in rename.items():\n",
    "        rep = rep.replace(k,v)\n",
    "    !mv ../../data/$project/fastqs/$val ../../data/$project/fastqs/$rep"
   ]
  },
  {
   "cell_type": "code",
   "execution_count": null,
   "metadata": {},
   "outputs": [],
   "source": [
    "from gsheets import Sheets\n",
    "sheets = Sheets.from_files('~/.client_secret.json', '~/.storage.json')\n",
    "url=\"https://docs.google.com/spreadsheets/d/1yFLjYB1McU530JnLgL0QIMAKIkVl3kl0_LCHje2gk8U\"\n",
    "gsheet = sheets.get(url).sheets[2].to_frame()"
   ]
  },
  {
   "cell_type": "code",
   "execution_count": null,
   "metadata": {},
   "outputs": [],
   "source": [
    "gsheet"
   ]
  },
  {
   "cell_type": "code",
   "execution_count": null,
   "metadata": {},
   "outputs": [],
   "source": [
    "a = ! ls ../../data/$project/fastqs\n",
    "a"
   ]
  },
  {
   "cell_type": "code",
   "execution_count": null,
   "metadata": {},
   "outputs": [],
   "source": [
    "df = {\n",
    "\"fastq_1\": [],\n",
    "\"fastq_2\": [],\n",
    "\"antibody\": [],\n",
    "\"group\": [],\n",
    "\"replicate\": [],\n",
    "\"control\": []\n",
    "}\n",
    "for val in h.grouped(a,2):\n",
    "    row = gsheet[gsheet.id==val[0].split('/')[-1].split('-')[0]]\n",
    "    df['group'].append(\"MV4\"+row['name'].values[0].split('-r')[0].split('-MV4')[1])\n",
    "    df['replicate'].append(row['name'].values[0].split('-r')[1])\n",
    "    df['fastq_1'].append(project+\"/fastqs/\"+val[0])\n",
    "    df['fastq_2'].append(project+\"/fastqs/\"+val[1])\n",
    "    df['antibody'].append(row['protein'].values[0])\n",
    "    df['control'].append(\"INPUT\")\n",
    "df['group'].append('INPUT')\n",
    "df['replicate'].append(1)\n",
    "df['fastq_1'].append('ref/mp845-MV411-INPUT-r2_R1.fastq.gz')\n",
    "df['fastq_2'].append('ref/mp845-MV411-INPUT-r2_R2.fastq.gz')\n",
    "df['antibody'].append(\"\")\n",
    "df['control'].append(\"\")\n",
    "df = pd.DataFrame(df)"
   ]
  },
  {
   "cell_type": "code",
   "execution_count": null,
   "metadata": {},
   "outputs": [],
   "source": [
    "df"
   ]
  },
  {
   "cell_type": "code",
   "execution_count": null,
   "metadata": {},
   "outputs": [],
   "source": [
    "df[df.columns[[3,4,0,1,2,5]]].to_csv('../nextflow/'+project+'_design.csv',index=False)"
   ]
  },
  {
   "cell_type": "code",
   "execution_count": null,
   "metadata": {
    "scrolled": true
   },
   "outputs": [],
   "source": [
    "! cd ../../data/ && sudo ../nextflow log ## to get access to the previous runs"
   ]
  },
  {
   "cell_type": "code",
   "execution_count": null,
   "metadata": {},
   "outputs": [],
   "source": [
    "#process chips\n",
    "! cd ../../data/ && sudo ../nextflow run nf-core/chipseq --paired_end --seq_center 'DFCI' --email 'jkobject@gmail.com' --input ../AMLproject/nextflow/$project_design.csv --genome GRCh38 --skip_preseq --max_cpus 16 -profile docker -w work -resume exotic_bartik"
   ]
  },
  {
   "cell_type": "code",
   "execution_count": null,
   "metadata": {},
   "outputs": [],
   "source": [
    "! gsutil -m cp -r gs://workamlproject/MEF2CMEF2D/output/* gs://amlproject/Chip/chipseq_MEF2CMEF2D_degraded/"
   ]
  },
  {
   "cell_type": "code",
   "execution_count": 5,
   "metadata": {},
   "outputs": [
    {
     "name": "stdout",
     "output_type": "stream",
     "text": [
      "using all files from folder\n",
      "need to be name_*1, name_*2\n",
      "[('mp893-MV411_RNP_AAVS1-H3K27AC-r3_R1_001.fastq.gz', 'mp893-MV411_RNP_AAVS1-H3K27AC-r3_R2_001.fastq.gz'), ('mp894-MV411_RNP_AAVS1-H3K27AC-r4_R1_001.fastq.gz', 'mp894-MV411_RNP_AAVS1-H3K27AC-r4_R2_001.fastq.gz'), ('mp895-MV411_RNP_MEF2C-H3K27AC-r1_R1_001.fastq.gz', 'mp895-MV411_RNP_MEF2C-H3K27AC-r1_R2_001.fastq.gz'), ('mp896-MV411_RNP_MEF2C-H3K27AC-r2_R1_001.fastq.gz', 'mp896-MV411_RNP_MEF2C-H3K27AC-r2_R2_001.fastq.gz'), ('mp897-MV411_RNP_MEF2D-H3K27AC-r3_R1_001.fastq.gz', 'mp897-MV411_RNP_MEF2D-H3K27AC-r3_R2_001.fastq.gz'), ('mp898-MV411_RNP_MEF2D-H3K27AC-r4_R1_001.fastq.gz', 'mp898-MV411_RNP_MEF2D-H3K27AC-r4_R2_001.fastq.gz'), ('mp899-MV411_RNP_MEF2C_MEF2D-H3K27AC-r1_R1_001.fastq.gz', 'mp899-MV411_RNP_MEF2C_MEF2D-H3K27AC-r1_R2_001.fastq.gz'), ('mp900-MV411_RNP_MEF2C_MEF2D-H3K27AC-r2_R1_001.fastq.gz', 'mp900-MV411_RNP_MEF2C_MEF2D-H3K27AC-r2_R2_001.fastq.gz')]\n",
      "\n",
      "\n",
      "trimming\n",
      "\n",
      "\n",
      "['../../TrimGalore-0.6.5/trim_galore --paired --fastqc --gzip ../../data/chipseq_MEF2CMEF2D_degraded/fastqs/mp893-MV411_RNP_AAVS1-H3K27AC-r3_R1_001.fastq.gz ../../data/chipseq_MEF2CMEF2D_degraded/fastqs/mp893-MV411_RNP_AAVS1-H3K27AC-r3_R2_001.fastq.gz -o ../../data/chipseq_MEF2CMEF2D_degraded/', '../../TrimGalore-0.6.5/trim_galore --paired --fastqc --gzip ../../data/chipseq_MEF2CMEF2D_degraded/fastqs/mp894-MV411_RNP_AAVS1-H3K27AC-r4_R1_001.fastq.gz ../../data/chipseq_MEF2CMEF2D_degraded/fastqs/mp894-MV411_RNP_AAVS1-H3K27AC-r4_R2_001.fastq.gz -o ../../data/chipseq_MEF2CMEF2D_degraded/', '../../TrimGalore-0.6.5/trim_galore --paired --fastqc --gzip ../../data/chipseq_MEF2CMEF2D_degraded/fastqs/mp895-MV411_RNP_MEF2C-H3K27AC-r1_R1_001.fastq.gz ../../data/chipseq_MEF2CMEF2D_degraded/fastqs/mp895-MV411_RNP_MEF2C-H3K27AC-r1_R2_001.fastq.gz -o ../../data/chipseq_MEF2CMEF2D_degraded/', '../../TrimGalore-0.6.5/trim_galore --paired --fastqc --gzip ../../data/chipseq_MEF2CMEF2D_degraded/fastqs/mp896-MV411_RNP_MEF2C-H3K27AC-r2_R1_001.fastq.gz ../../data/chipseq_MEF2CMEF2D_degraded/fastqs/mp896-MV411_RNP_MEF2C-H3K27AC-r2_R2_001.fastq.gz -o ../../data/chipseq_MEF2CMEF2D_degraded/', '../../TrimGalore-0.6.5/trim_galore --paired --fastqc --gzip ../../data/chipseq_MEF2CMEF2D_degraded/fastqs/mp897-MV411_RNP_MEF2D-H3K27AC-r3_R1_001.fastq.gz ../../data/chipseq_MEF2CMEF2D_degraded/fastqs/mp897-MV411_RNP_MEF2D-H3K27AC-r3_R2_001.fastq.gz -o ../../data/chipseq_MEF2CMEF2D_degraded/', '../../TrimGalore-0.6.5/trim_galore --paired --fastqc --gzip ../../data/chipseq_MEF2CMEF2D_degraded/fastqs/mp898-MV411_RNP_MEF2D-H3K27AC-r4_R1_001.fastq.gz ../../data/chipseq_MEF2CMEF2D_degraded/fastqs/mp898-MV411_RNP_MEF2D-H3K27AC-r4_R2_001.fastq.gz -o ../../data/chipseq_MEF2CMEF2D_degraded/', '../../TrimGalore-0.6.5/trim_galore --paired --fastqc --gzip ../../data/chipseq_MEF2CMEF2D_degraded/fastqs/mp899-MV411_RNP_MEF2C_MEF2D-H3K27AC-r1_R1_001.fastq.gz ../../data/chipseq_MEF2CMEF2D_degraded/fastqs/mp899-MV411_RNP_MEF2C_MEF2D-H3K27AC-r1_R2_001.fastq.gz -o ../../data/chipseq_MEF2CMEF2D_degraded/', '../../TrimGalore-0.6.5/trim_galore --paired --fastqc --gzip ../../data/chipseq_MEF2CMEF2D_degraded/fastqs/mp900-MV411_RNP_MEF2C_MEF2D-H3K27AC-r2_R1_001.fastq.gz ../../data/chipseq_MEF2CMEF2D_degraded/fastqs/mp900-MV411_RNP_MEF2C_MEF2D-H3K27AC-r2_R2_001.fastq.gz -o ../../data/chipseq_MEF2CMEF2D_degraded/']\n",
      "\n",
      "\n",
      "mapping\n",
      "\n",
      "\n",
      "\n",
      "\n",
      "filtering\n",
      "\n",
      "\n",
      "\n",
      "\n",
      "counting\n",
      "\n",
      "\n"
     ]
    },
    {
     "data": {
      "text/plain": [
       "({'mp893-MV411_RNP_AAVS1-H3K27AC-r3_R1_001_val_1': 0.800874142220446,\n",
       "  'mp894-MV411_RNP_AAVS1-H3K27AC-r4_R1_001_val_1': 0.8266934890951878,\n",
       "  'mp895-MV411_RNP_MEF2C-H3K27AC-r1_R1_001_val_1': 0.6120332807702465,\n",
       "  'mp896-MV411_RNP_MEF2C-H3K27AC-r2_R1_001_val_1': 1.0,\n",
       "  'mp897-MV411_RNP_MEF2D-H3K27AC-r3_R1_001_val_1': 0.6238607054414793,\n",
       "  'mp898-MV411_RNP_MEF2D-H3K27AC-r4_R1_001_val_1': 0.7337483843496708,\n",
       "  'mp899-MV411_RNP_MEF2C_MEF2D-H3K27AC-r1_R1_001_val_1': 0.754332782193135,\n",
       "  'mp900-MV411_RNP_MEF2C_MEF2D-H3K27AC-r2_R1_001_val_1': 0.5908590758984396},\n",
       " {'mp893-MV411_RNP_AAVS1-H3K27AC-r3_R1_001_val_1': 1090898,\n",
       "  'mp894-MV411_RNP_AAVS1-H3K27AC-r4_R1_001_val_1': 1056827,\n",
       "  'mp895-MV411_RNP_MEF2C-H3K27AC-r1_R1_001_val_1': 1427491,\n",
       "  'mp896-MV411_RNP_MEF2C-H3K27AC-r2_R1_001_val_1': 873672,\n",
       "  'mp897-MV411_RNP_MEF2D-H3K27AC-r3_R1_001_val_1': 1400428,\n",
       "  'mp898-MV411_RNP_MEF2D-H3K27AC-r4_R1_001_val_1': 1190697,\n",
       "  'mp899-MV411_RNP_MEF2C_MEF2D-H3K27AC-r1_R1_001_val_1': 1158205,\n",
       "  'mp900-MV411_RNP_MEF2C_MEF2D-H3K27AC-r2_R1_001_val_1': 1478647})"
      ]
     },
     "execution_count": 5,
     "metadata": {},
     "output_type": "execute_result"
    }
   ],
   "source": [
    "# get scaling values\n",
    "norm, mapped = h.getSpikeInControlScales(refgenome=\"../../data/ref/reference_droso.fna\",\n",
    "fastQfolder='../../data/'+project+'/fastqs/',\n",
    "pairedEnd=True, cores=12,\n",
    "tofilter=True,\n",
    "totrim=True,\n",
    "tomap=True,\n",
    "results=\"../../data/\"+project+\"/\",\n",
    "pathtotrim_galore=\"../../TrimGalore-0.6.5/trim_galore\")\n",
    "norm, mapped"
   ]
  },
  {
   "cell_type": "markdown",
   "metadata": {},
   "source": [
    "computing scales from the excel sheet"
   ]
  },
  {
   "cell_type": "code",
   "execution_count": 33,
   "metadata": {},
   "outputs": [],
   "source": [
    "scales = [1.00,\n",
    "1.00,\n",
    "0.98,\n",
    "1.08,\n",
    "0.74,\n",
    "0.99,\n",
    "1.13,\n",
    "0.94]"
   ]
  },
  {
   "cell_type": "code",
   "execution_count": 56,
   "metadata": {},
   "outputs": [
    {
     "name": "stdout",
     "output_type": "stream",
     "text": [
      "Copying gs://amlproject/Chip/chipseq_MEF2CMEF2D_degraded/bwa/mergedLibrary/macs/broadPeak/MV411_RNP_AAVS1-H3K27AC_R1_peaks.annotatePeaks.txt...\n",
      "Copying gs://amlproject/Chip/chipseq_MEF2CMEF2D_degraded/bwa/mergedLibrary/macs/broadPeak/MV411_RNP_AAVS1-H3K27AC_R1_peaks.broadPeak...\n",
      "Copying gs://amlproject/Chip/chipseq_MEF2CMEF2D_degraded/bwa/mergedLibrary/macs/broadPeak/MV411_RNP_AAVS1-H3K27AC_R1_peaks.gappedPeak...\n",
      "Copying gs://amlproject/Chip/chipseq_MEF2CMEF2D_degraded/bwa/mergedLibrary/macs/broadPeak/MV411_RNP_AAVS1-H3K27AC_R1_peaks.xls...\n",
      "Copying gs://amlproject/Chip/chipseq_MEF2CMEF2D_degraded/bwa/mergedLibrary/macs/broadPeak/MV411_RNP_AAVS1-H3K27AC_R2_peaks.annotatePeaks.txt...\n",
      "Copying gs://amlproject/Chip/chipseq_MEF2CMEF2D_degraded/bwa/mergedLibrary/macs/broadPeak/MV411_RNP_AAVS1-H3K27AC_R2_peaks.broadPeak...\n",
      "Copying gs://amlproject/Chip/chipseq_MEF2CMEF2D_degraded/bwa/mergedLibrary/macs/broadPeak/MV411_RNP_AAVS1-H3K27AC_R2_peaks.gappedPeak...\n",
      "Copying gs://amlproject/Chip/chipseq_MEF2CMEF2D_degraded/bwa/mergedLibrary/macs/broadPeak/MV411_RNP_AAVS1-H3K27AC_R2_peaks.xls...\n",
      "Copying gs://amlproject/Chip/chipseq_MEF2CMEF2D_degraded/bwa/mergedLibrary/macs/broadPeak/MV411_RNP_MEF2C-H3K27AC_R1_peaks.annotatePeaks.txt...\n",
      "Copying gs://amlproject/Chip/chipseq_MEF2CMEF2D_degraded/bwa/mergedLibrary/macs/broadPeak/MV411_RNP_MEF2C-H3K27AC_R1_peaks.broadPeak...\n",
      "Copying gs://amlproject/Chip/chipseq_MEF2CMEF2D_degraded/bwa/mergedLibrary/macs/broadPeak/MV411_RNP_MEF2C-H3K27AC_R1_peaks.gappedPeak...\n",
      "Copying gs://amlproject/Chip/chipseq_MEF2CMEF2D_degraded/bwa/mergedLibrary/macs/broadPeak/MV411_RNP_MEF2C-H3K27AC_R2_peaks.annotatePeaks.txt...\n",
      "Copying gs://amlproject/Chip/chipseq_MEF2CMEF2D_degraded/bwa/mergedLibrary/macs/broadPeak/MV411_RNP_MEF2C-H3K27AC_R2_peaks.broadPeak...\n",
      "Copying gs://amlproject/Chip/chipseq_MEF2CMEF2D_degraded/bwa/mergedLibrary/macs/broadPeak/MV411_RNP_MEF2C-H3K27AC_R1_peaks.xls...\n",
      "Copying gs://amlproject/Chip/chipseq_MEF2CMEF2D_degraded/bwa/mergedLibrary/macs/broadPeak/MV411_RNP_MEF2C-H3K27AC_R2_peaks.gappedPeak...\n",
      "Copying gs://amlproject/Chip/chipseq_MEF2CMEF2D_degraded/bwa/mergedLibrary/macs/broadPeak/MV411_RNP_MEF2C-H3K27AC_R2_peaks.xls...\n",
      "Copying gs://amlproject/Chip/chipseq_MEF2CMEF2D_degraded/bwa/mergedLibrary/macs/broadPeak/MV411_RNP_MEF2C_MEF2D-H3K27AC_R1_peaks.annotatePeaks.txt...\n",
      "Copying gs://amlproject/Chip/chipseq_MEF2CMEF2D_degraded/bwa/mergedLibrary/macs/broadPeak/MV411_RNP_MEF2C_MEF2D-H3K27AC_R1_peaks.broadPeak...\n",
      "Copying gs://amlproject/Chip/chipseq_MEF2CMEF2D_degraded/bwa/mergedLibrary/macs/broadPeak/MV411_RNP_MEF2C_MEF2D-H3K27AC_R1_peaks.gappedPeak...\n",
      "Copying gs://amlproject/Chip/chipseq_MEF2CMEF2D_degraded/bwa/mergedLibrary/macs/broadPeak/MV411_RNP_MEF2C_MEF2D-H3K27AC_R1_peaks.xls...\n",
      "Copying gs://amlproject/Chip/chipseq_MEF2CMEF2D_degraded/bwa/mergedLibrary/macs/broadPeak/MV411_RNP_MEF2C_MEF2D-H3K27AC_R2_peaks.annotatePeaks.txt...\n",
      "Copying gs://amlproject/Chip/chipseq_MEF2CMEF2D_degraded/bwa/mergedLibrary/macs/broadPeak/MV411_RNP_MEF2C_MEF2D-H3K27AC_R2_peaks.broadPeak...\n",
      "Copying gs://amlproject/Chip/chipseq_MEF2CMEF2D_degraded/bwa/mergedLibrary/macs/broadPeak/MV411_RNP_MEF2C_MEF2D-H3K27AC_R2_peaks.gappedPeak...\n",
      "Copying gs://amlproject/Chip/chipseq_MEF2CMEF2D_degraded/bwa/mergedLibrary/macs/broadPeak/MV411_RNP_MEF2C_MEF2D-H3K27AC_R2_peaks.xls...\n",
      "Copying gs://amlproject/Chip/chipseq_MEF2CMEF2D_degraded/bwa/mergedLibrary/macs/broadPeak/MV411_RNP_MEF2D-H3K27AC_R1_peaks.annotatePeaks.txt...\n",
      "Copying gs://amlproject/Chip/chipseq_MEF2CMEF2D_degraded/bwa/mergedLibrary/macs/broadPeak/MV411_RNP_MEF2D-H3K27AC_R1_peaks.broadPeak...\n",
      "Copying gs://amlproject/Chip/chipseq_MEF2CMEF2D_degraded/bwa/mergedLibrary/macs/broadPeak/MV411_RNP_MEF2D-H3K27AC_R1_peaks.gappedPeak...\n",
      "Copying gs://amlproject/Chip/chipseq_MEF2CMEF2D_degraded/bwa/mergedLibrary/macs/broadPeak/MV411_RNP_MEF2D-H3K27AC_R1_peaks.xls...\n",
      "Copying gs://amlproject/Chip/chipseq_MEF2CMEF2D_degraded/bwa/mergedLibrary/macs/broadPeak/MV411_RNP_MEF2D-H3K27AC_R2_peaks.annotatePeaks.txt...\n",
      "Copying gs://amlproject/Chip/chipseq_MEF2CMEF2D_degraded/bwa/mergedLibrary/macs/broadPeak/MV411_RNP_MEF2D-H3K27AC_R2_peaks.broadPeak...\n",
      "Copying gs://amlproject/Chip/chipseq_MEF2CMEF2D_degraded/bwa/mergedLibrary/macs/broadPeak/MV411_RNP_MEF2D-H3K27AC_R2_peaks.gappedPeak...\n",
      "Copying gs://amlproject/Chip/chipseq_MEF2CMEF2D_degraded/bwa/mergedLibrary/macs/broadPeak/MV411_RNP_MEF2D-H3K27AC_R2_peaks.xls...\n",
      "Copying gs://amlproject/Chip/chipseq_MEF2CMEF2D_degraded/bwa/mergedLibrary/macs/broadPeak/consensus/H3K27AC/H3K27AC.consensus_peaks.annotatePeaks.txt...\n",
      "Copying gs://amlproject/Chip/chipseq_MEF2CMEF2D_degraded/bwa/mergedLibrary/macs/broadPeak/consensus/H3K27AC/H3K27AC.consensus_peaks.bed...\n",
      "Copying gs://amlproject/Chip/chipseq_MEF2CMEF2D_degraded/bwa/mergedLibrary/macs/broadPeak/consensus/H3K27AC/H3K27AC.consensus_peaks.boolean.intersect.plot.pdf...\n",
      "Copying gs://amlproject/Chip/chipseq_MEF2CMEF2D_degraded/bwa/mergedLibrary/macs/broadPeak/consensus/H3K27AC/H3K27AC.consensus_peaks.boolean.annotatePeaks.txt...\n",
      "Copying gs://amlproject/Chip/chipseq_MEF2CMEF2D_degraded/bwa/mergedLibrary/macs/broadPeak/consensus/H3K27AC/H3K27AC.consensus_peaks.boolean.intersect.txt...\n",
      "Copying gs://amlproject/Chip/chipseq_MEF2CMEF2D_degraded/bwa/mergedLibrary/macs/broadPeak/consensus/H3K27AC/H3K27AC.consensus_peaks.boolean.txt...\n",
      "Copying gs://amlproject/Chip/chipseq_MEF2CMEF2D_degraded/bwa/mergedLibrary/macs/broadPeak/consensus/H3K27AC/H3K27AC.consensus_peaks.featureCounts.txt...\n",
      "Copying gs://amlproject/Chip/chipseq_MEF2CMEF2D_degraded/bwa/mergedLibrary/macs/broadPeak/consensus/H3K27AC/H3K27AC.consensus_peaks.featureCounts.txt.summary...\n",
      "Copying gs://amlproject/Chip/chipseq_MEF2CMEF2D_degraded/bwa/mergedLibrary/macs/broadPeak/consensus/H3K27AC/H3K27AC.consensus_peaks.saf...\n",
      "Copying gs://amlproject/Chip/chipseq_MEF2CMEF2D_degraded/bwa/mergedLibrary/macs/broadPeak/qc/MV411_RNP_AAVS1-H3K27AC_R1_peaks.FRiP_mqc.tsv...\n",
      "Copying gs://amlproject/Chip/chipseq_MEF2CMEF2D_degraded/bwa/mergedLibrary/macs/broadPeak/qc/MV411_RNP_AAVS1-H3K27AC_R1_peaks.count_mqc.tsv...\n",
      "Copying gs://amlproject/Chip/chipseq_MEF2CMEF2D_degraded/bwa/mergedLibrary/macs/broadPeak/qc/MV411_RNP_AAVS1-H3K27AC_R2_peaks.FRiP_mqc.tsv...\n",
      "Copying gs://amlproject/Chip/chipseq_MEF2CMEF2D_degraded/bwa/mergedLibrary/macs/broadPeak/qc/MV411_RNP_AAVS1-H3K27AC_R2_peaks.count_mqc.tsv...\n",
      "Copying gs://amlproject/Chip/chipseq_MEF2CMEF2D_degraded/bwa/mergedLibrary/macs/broadPeak/qc/MV411_RNP_MEF2C-H3K27AC_R1_peaks.FRiP_mqc.tsv...\n",
      "Copying gs://amlproject/Chip/chipseq_MEF2CMEF2D_degraded/bwa/mergedLibrary/macs/broadPeak/qc/MV411_RNP_MEF2C-H3K27AC_R1_peaks.count_mqc.tsv...\n",
      "Copying gs://amlproject/Chip/chipseq_MEF2CMEF2D_degraded/bwa/mergedLibrary/macs/broadPeak/qc/MV411_RNP_MEF2C-H3K27AC_R2_peaks.FRiP_mqc.tsv...\n",
      "Copying gs://amlproject/Chip/chipseq_MEF2CMEF2D_degraded/bwa/mergedLibrary/macs/broadPeak/qc/MV411_RNP_MEF2C-H3K27AC_R2_peaks.count_mqc.tsv...\n",
      "Copying gs://amlproject/Chip/chipseq_MEF2CMEF2D_degraded/bwa/mergedLibrary/macs/broadPeak/qc/MV411_RNP_MEF2C_MEF2D-H3K27AC_R1_peaks.FRiP_mqc.tsv...\n",
      "Copying gs://amlproject/Chip/chipseq_MEF2CMEF2D_degraded/bwa/mergedLibrary/macs/broadPeak/qc/MV411_RNP_MEF2C_MEF2D-H3K27AC_R1_peaks.count_mqc.tsv...\n",
      "Copying gs://amlproject/Chip/chipseq_MEF2CMEF2D_degraded/bwa/mergedLibrary/macs/broadPeak/qc/MV411_RNP_MEF2C_MEF2D-H3K27AC_R2_peaks.FRiP_mqc.tsv...\n",
      "Copying gs://amlproject/Chip/chipseq_MEF2CMEF2D_degraded/bwa/mergedLibrary/macs/broadPeak/qc/MV411_RNP_MEF2C_MEF2D-H3K27AC_R2_peaks.count_mqc.tsv...\n",
      "Copying gs://amlproject/Chip/chipseq_MEF2CMEF2D_degraded/bwa/mergedLibrary/macs/broadPeak/qc/MV411_RNP_MEF2D-H3K27AC_R1_peaks.FRiP_mqc.tsv...\n",
      "Copying gs://amlproject/Chip/chipseq_MEF2CMEF2D_degraded/bwa/mergedLibrary/macs/broadPeak/qc/MV411_RNP_MEF2D-H3K27AC_R1_peaks.count_mqc.tsv...\n",
      "Copying gs://amlproject/Chip/chipseq_MEF2CMEF2D_degraded/bwa/mergedLibrary/macs/broadPeak/qc/MV411_RNP_MEF2D-H3K27AC_R2_peaks.FRiP_mqc.tsv...\n",
      "Copying gs://amlproject/Chip/chipseq_MEF2CMEF2D_degraded/bwa/mergedLibrary/macs/broadPeak/qc/MV411_RNP_MEF2D-H3K27AC_R2_peaks.count_mqc.tsv...\n",
      "Copying gs://amlproject/Chip/chipseq_MEF2CMEF2D_degraded/bwa/mergedLibrary/macs/broadPeak/qc/macs_annotatePeaks.summary.txt...\n",
      "Copying gs://amlproject/Chip/chipseq_MEF2CMEF2D_degraded/bwa/mergedLibrary/macs/broadPeak/qc/macs_annotatePeaks.plots.pdf...\n",
      "Copying gs://amlproject/Chip/chipseq_MEF2CMEF2D_degraded/bwa/mergedLibrary/macs/broadPeak/qc/macs_peak.plots.pdf...\n",
      "Copying gs://amlproject/Chip/chipseq_MEF2CMEF2D_degraded/bwa/mergedLibrary/macs/broadPeak/qc/macs_annotatePeaks.summary_mqc.tsv...\n",
      "Copying gs://amlproject/Chip/chipseq_MEF2CMEF2D_degraded/bwa/mergedLibrary/macs/broadPeak/qc/macs_peak.summary.txt...\n"
     ]
    },
    {
     "name": "stdout",
     "output_type": "stream",
     "text": [
      "- [62/62 files][254.2 MiB/254.2 MiB] 100% Done                                  \n",
      "Operation completed over 62 objects/254.2 MiB.                                   \n"
     ]
    }
   ],
   "source": [
    "#! mkdir ../../data/$project/bwa \n",
    "#!mkdir ../../data/$project/bwa/mergedLibrary\n",
    "#!gsutil cp gs://amlproject/Chip/$project/bwa/mergedLibrary/*.ba* ../../data/$project/bwa/mergedLibrary/\n",
    "#! gsutil -m cp -r gs://amlproject/Chip/$project/bwa/mergedLibrary/bigwig/ ../../data/$project/bwa/mergedLibrary/\n",
    "! gsutil  -m cp -r gs://amlproject/Chip/$project/bwa/mergedLibrary/macs/ ../../data/$project/bwa/mergedLibrary/"
   ]
  },
  {
   "cell_type": "code",
   "execution_count": 22,
   "metadata": {
    "scrolled": true
   },
   "outputs": [
    {
     "data": {
      "text/plain": [
       "['../../data/chipseq_MEF2CMEF2D_degraded/bwa/mergedLibrary/INPUT_R1.mLb.clN.sorted.bam',\n",
       " '../../data/chipseq_MEF2CMEF2D_degraded/bwa/mergedLibrary/MV411_RNP_AAVS1-H3K27AC_R1.mLb.clN.sorted.bam',\n",
       " '../../data/chipseq_MEF2CMEF2D_degraded/bwa/mergedLibrary/MV411_RNP_AAVS1-H3K27AC_R2.mLb.clN.sorted.bam',\n",
       " '../../data/chipseq_MEF2CMEF2D_degraded/bwa/mergedLibrary/MV411_RNP_MEF2C-H3K27AC_R1.mLb.clN.sorted.bam',\n",
       " '../../data/chipseq_MEF2CMEF2D_degraded/bwa/mergedLibrary/MV411_RNP_MEF2C-H3K27AC_R2.mLb.clN.sorted.bam',\n",
       " '../../data/chipseq_MEF2CMEF2D_degraded/bwa/mergedLibrary/MV411_RNP_MEF2C_MEF2D-H3K27AC_R1.mLb.clN.sorted.bam',\n",
       " '../../data/chipseq_MEF2CMEF2D_degraded/bwa/mergedLibrary/MV411_RNP_MEF2C_MEF2D-H3K27AC_R2.mLb.clN.sorted.bam',\n",
       " '../../data/chipseq_MEF2CMEF2D_degraded/bwa/mergedLibrary/MV411_RNP_MEF2D-H3K27AC_R1.mLb.clN.sorted.bam',\n",
       " '../../data/chipseq_MEF2CMEF2D_degraded/bwa/mergedLibrary/MV411_RNP_MEF2D-H3K27AC_R2.mLb.clN.sorted.bam']"
      ]
     },
     "execution_count": 22,
     "metadata": {},
     "output_type": "execute_result"
    }
   ],
   "source": [
    "bams = ! ls ../../data/$project/bwa/mergedLibrary/*.bam\n",
    "bams"
   ]
  },
  {
   "cell_type": "code",
   "execution_count": null,
   "metadata": {},
   "outputs": [],
   "source": [
    "bams[6]"
   ]
  },
  {
   "cell_type": "markdown",
   "metadata": {},
   "source": [
    "### on scalled data"
   ]
  },
  {
   "cell_type": "code",
   "execution_count": 19,
   "metadata": {},
   "outputs": [],
   "source": [
    "! mkdir ../../data/$project/diffPeaks/\n",
    "! mkdir ../../data/$project/diffData/\n",
    "! mkdir ../../data/$project/droso_aligned\n",
    "! mv ../../data/$project/mp* ../../data/$project/droso_aligned"
   ]
  },
  {
   "cell_type": "code",
   "execution_count": 26,
   "metadata": {},
   "outputs": [],
   "source": [
    "wigs = ! ls ../../data/$project/bwa/mergedLibrary/bigwig/*.bigWig\n",
    "wigs"
   ]
  },
  {
   "cell_type": "code",
   "execution_count": 73,
   "metadata": {
    "scrolled": true
   },
   "outputs": [
    {
     "name": "stdout",
     "output_type": "stream",
     "text": [
      "../../data/chipseq_MEF2CMEF2D_degraded/bwa/mergedLibrary/MV411_RNP_AAVS1-H3K27AC_R2.mLb.clN.sorted.bam ../../data/chipseq_MEF2CMEF2D_degraded/bwa/mergedLibrary/MV411_RNP_MEF2C_MEF2D-H3K27AC_R2.mLb.clN.sorted.bam\n",
      "doing diff from ../../data/chipseq_MEF2CMEF2D_degraded/bwa/mergedLibrary/MV411_RNP_AAVS1-H3K27AC_R2.mLb.clN.sorted.bam and ../../data/chipseq_MEF2CMEF2D_degraded/bwa/mergedLibrary/MV411_RNP_MEF2C_MEF2D-H3K27AC_R2.mLb.clN.sorted.bam\n",
      "computing the fragment avg size\n",
      "227\n",
      "computing the scaling values\n",
      "b'INFO  @ Tue, 03 Nov 2020 18:39:49: \\n# Command line: callpeak -B -t ../../data/chipseq_MEF2CMEF2D_degraded/bwa/mergedLibrary/MV411_RNP_AAVS1-H3K27AC_R2.mLb.clN.sorted.bam -c ../../data/chipseq_MEF2CMEF2D_degraded/bwa/mergedLibrary/INPUT_R1.mLb.clN.sorted.bam --nomodel --extsize 227 -n MV411_RNP_AAVS1-H3K27AC_R2 --outdir ../../data/chipseq_MEF2CMEF2D_degraded/diffData/ -f BAMPE\\n# ARGUMENTS LIST:\\n# name = MV411_RNP_AAVS1-H3K27AC_R2\\n# format = BAMPE\\n# ChIP-seq file = [\\'../../data/chipseq_MEF2CMEF2D_degraded/bwa/mergedLibrary/MV411_RNP_AAVS1-H3K27AC_R2.mLb.clN.sorted.bam\\']\\n# control file = [\\'../../data/chipseq_MEF2CMEF2D_degraded/bwa/mergedLibrary/INPUT_R1.mLb.clN.sorted.bam\\']\\n# effective genome size = 2.70e+09\\n# band width = 300\\n# model fold = [5, 50]\\n# qvalue cutoff = 5.00e-02\\n# The maximum gap between significant sites is assigned as the read length/tag size.\\n# The minimum length of peaks is assigned as the predicted fragment length \"d\".\\n# Larger dataset will be scaled towards smaller dataset.\\n# Range for calculating regional lambda is: 1000 bps and 10000 bps\\n# Broad region calling is off\\n# Paired-End mode is on\\n \\nINFO  @ Tue, 03 Nov 2020 18:39:49: #1 read fragment files... \\nINFO  @ Tue, 03 Nov 2020 18:39:49: #1 read treatment fragments... \\nINFO  @ Tue, 03 Nov 2020 18:39:53:  1000000 \\nINFO  @ Tue, 03 Nov 2020 18:39:57:  2000000 \\nINFO  @ Tue, 03 Nov 2020 18:40:02:  3000000 \\nINFO  @ Tue, 03 Nov 2020 18:40:06:  4000000 \\nINFO  @ Tue, 03 Nov 2020 18:40:10:  5000000 \\nINFO  @ Tue, 03 Nov 2020 18:40:15:  6000000 \\nINFO  @ Tue, 03 Nov 2020 18:40:19:  7000000 \\nINFO  @ Tue, 03 Nov 2020 18:40:23:  8000000 \\nINFO  @ Tue, 03 Nov 2020 18:40:28:  9000000 \\nINFO  @ Tue, 03 Nov 2020 18:40:32:  10000000 \\nINFO  @ Tue, 03 Nov 2020 18:40:36:  11000000 \\nINFO  @ Tue, 03 Nov 2020 18:40:41:  12000000 \\nINFO  @ Tue, 03 Nov 2020 18:40:45:  13000000 \\nINFO  @ Tue, 03 Nov 2020 18:40:49:  14000000 \\nINFO  @ Tue, 03 Nov 2020 18:40:54:  15000000 \\nINFO  @ Tue, 03 Nov 2020 18:40:58:  16000000 \\nINFO  @ Tue, 03 Nov 2020 18:41:02:  17000000 \\nINFO  @ Tue, 03 Nov 2020 18:41:06:  18000000 \\nINFO  @ Tue, 03 Nov 2020 18:41:11:  19000000 \\nINFO  @ Tue, 03 Nov 2020 18:41:15:  20000000 \\nINFO  @ Tue, 03 Nov 2020 18:41:19:  21000000 \\nINFO  @ Tue, 03 Nov 2020 18:41:22: 21660876 fragments have been read. \\nINFO  @ Tue, 03 Nov 2020 18:41:35: #1.2 read input fragments... \\nINFO  @ Tue, 03 Nov 2020 18:41:39:  1000000 \\nINFO  @ Tue, 03 Nov 2020 18:41:43:  2000000 \\nINFO  @ Tue, 03 Nov 2020 18:41:47:  3000000 \\nINFO  @ Tue, 03 Nov 2020 18:41:51:  4000000 \\nINFO  @ Tue, 03 Nov 2020 18:41:54:  5000000 \\nINFO  @ Tue, 03 Nov 2020 18:41:58:  6000000 \\nINFO  @ Tue, 03 Nov 2020 18:42:02:  7000000 \\nINFO  @ Tue, 03 Nov 2020 18:42:06:  8000000 \\nINFO  @ Tue, 03 Nov 2020 18:42:10:  9000000 \\nINFO  @ Tue, 03 Nov 2020 18:42:14:  10000000 \\nINFO  @ Tue, 03 Nov 2020 18:42:18:  11000000 \\nINFO  @ Tue, 03 Nov 2020 18:42:21:  12000000 \\nINFO  @ Tue, 03 Nov 2020 18:42:25:  13000000 \\nINFO  @ Tue, 03 Nov 2020 18:42:29:  14000000 \\nINFO  @ Tue, 03 Nov 2020 18:42:33:  15000000 \\nINFO  @ Tue, 03 Nov 2020 18:42:37:  16000000 \\nINFO  @ Tue, 03 Nov 2020 18:42:40:  17000000 \\nINFO  @ Tue, 03 Nov 2020 18:42:44:  18000000 \\nINFO  @ Tue, 03 Nov 2020 18:42:48:  19000000 \\nINFO  @ Tue, 03 Nov 2020 18:42:52:  20000000 \\nINFO  @ Tue, 03 Nov 2020 18:42:56:  21000000 \\nINFO  @ Tue, 03 Nov 2020 18:42:59:  22000000 \\nINFO  @ Tue, 03 Nov 2020 18:43:03:  23000000 \\nINFO  @ Tue, 03 Nov 2020 18:43:08:  24000000 \\nINFO  @ Tue, 03 Nov 2020 18:43:12:  25000000 \\nINFO  @ Tue, 03 Nov 2020 18:43:16:  26000000 \\nINFO  @ Tue, 03 Nov 2020 18:43:20:  27000000 \\nINFO  @ Tue, 03 Nov 2020 18:43:26:  28000000 \\nINFO  @ Tue, 03 Nov 2020 18:43:30:  29000000 \\nINFO  @ Tue, 03 Nov 2020 18:43:35:  30000000 \\nINFO  @ Tue, 03 Nov 2020 18:43:41:  31000000 \\nINFO  @ Tue, 03 Nov 2020 18:43:45:  32000000 \\nINFO  @ Tue, 03 Nov 2020 18:43:49:  33000000 \\nINFO  @ Tue, 03 Nov 2020 18:43:53:  34000000 \\nINFO  @ Tue, 03 Nov 2020 18:43:57:  35000000 \\nINFO  @ Tue, 03 Nov 2020 18:44:02:  36000000 \\nINFO  @ Tue, 03 Nov 2020 18:44:06:  37000000 \\nINFO  @ Tue, 03 Nov 2020 18:44:10:  38000000 \\nINFO  @ Tue, 03 Nov 2020 18:44:14:  39000000 \\nINFO  @ Tue, 03 Nov 2020 18:44:19:  40000000 \\nINFO  @ Tue, 03 Nov 2020 18:44:24:  41000000 \\nINFO  @ Tue, 03 Nov 2020 18:44:28:  42000000 \\nINFO  @ Tue, 03 Nov 2020 18:44:33:  43000000 \\nINFO  @ Tue, 03 Nov 2020 18:44:37:  44000000 \\nINFO  @ Tue, 03 Nov 2020 18:44:41:  45000000 \\nINFO  @ Tue, 03 Nov 2020 18:44:46:  46000000 \\nINFO  @ Tue, 03 Nov 2020 18:44:50:  47000000 \\nINFO  @ Tue, 03 Nov 2020 18:44:54:  48000000 \\nINFO  @ Tue, 03 Nov 2020 18:44:58:  49000000 \\nINFO  @ Tue, 03 Nov 2020 18:45:02:  50000000 \\nINFO  @ Tue, 03 Nov 2020 18:45:06:  51000000 \\nINFO  @ Tue, 03 Nov 2020 18:45:11:  52000000 \\nINFO  @ Tue, 03 Nov 2020 18:45:15:  53000000 \\nINFO  @ Tue, 03 Nov 2020 18:45:19:  54000000 \\nINFO  @ Tue, 03 Nov 2020 18:45:23:  55000000 \\nINFO  @ Tue, 03 Nov 2020 18:45:27:  56000000 \\nINFO  @ Tue, 03 Nov 2020 18:45:32:  57000000 \\nINFO  @ Tue, 03 Nov 2020 18:45:36:  58000000 \\nINFO  @ Tue, 03 Nov 2020 18:45:40:  59000000 \\nINFO  @ Tue, 03 Nov 2020 18:45:44:  60000000 \\nINFO  @ Tue, 03 Nov 2020 18:45:48:  61000000 \\nINFO  @ Tue, 03 Nov 2020 18:45:53:  62000000 \\nINFO  @ Tue, 03 Nov 2020 18:45:57:  63000000 \\nINFO  @ Tue, 03 Nov 2020 18:46:02:  64000000 \\nINFO  @ Tue, 03 Nov 2020 18:46:06:  65000000 \\nINFO  @ Tue, 03 Nov 2020 18:46:11:  66000000 \\nINFO  @ Tue, 03 Nov 2020 18:46:13: 66660428 fragments have been read. \\nINFO  @ Tue, 03 Nov 2020 18:46:58: #1 mean fragment size is determined as 238.6 bp from treatment \\nINFO  @ Tue, 03 Nov 2020 18:46:58: #1 note: mean fragment size in control is 218.7 bp -- value ignored \\nINFO  @ Tue, 03 Nov 2020 18:46:58: #1 fragment size = 238.6 \\nINFO  @ Tue, 03 Nov 2020 18:46:58: #1  total fragments in treatment: 21660876 \\nINFO  @ Tue, 03 Nov 2020 18:46:58: #1 user defined the maximum fragments... \\nINFO  @ Tue, 03 Nov 2020 18:46:58: #1 filter out redundant fragments by allowing at most 1 identical fragment(s) \\nINFO  @ Tue, 03 Nov 2020 18:47:34: #1  fragments after filtering in treatment: 21657574 \\nINFO  @ Tue, 03 Nov 2020 18:47:34: #1  Redundant rate of treatment: 0.00 \\nINFO  @ Tue, 03 Nov 2020 18:47:34: #1  total fragments in control: 66660428 \\nINFO  @ Tue, 03 Nov 2020 18:47:34: #1 user defined the maximum fragments... \\nINFO  @ Tue, 03 Nov 2020 18:47:34: #1 filter out redundant fragments by allowing at most 1 identical fragment(s) \\nINFO  @ Tue, 03 Nov 2020 18:49:26: #1  fragments after filtering in control: 66632618 \\nINFO  @ Tue, 03 Nov 2020 18:49:26: #1  Redundant rate of control: 0.00 \\nINFO  @ Tue, 03 Nov 2020 18:49:26: #1 finished! \\nINFO  @ Tue, 03 Nov 2020 18:49:26: #2 Build Peak Model... \\nINFO  @ Tue, 03 Nov 2020 18:49:26: #2 Skipped... \\nINFO  @ Tue, 03 Nov 2020 18:49:26: #3 Call peaks... \\nINFO  @ Tue, 03 Nov 2020 18:49:26: #3 Pre-compute pvalue-qvalue table... \\nINFO  @ Tue, 03 Nov 2020 18:59:05: #3 In the peak calling step, the following will be performed simultaneously: \\nINFO  @ Tue, 03 Nov 2020 18:59:05: #3   Write bedGraph files for treatment pileup (after scaling if necessary)... MV411_RNP_AAVS1-H3K27AC_R2_treat_pileup.bdg \\nINFO  @ Tue, 03 Nov 2020 18:59:05: #3   Write bedGraph files for control lambda (after scaling if necessary)... MV411_RNP_AAVS1-H3K27AC_R2_control_lambda.bdg \\nINFO  @ Tue, 03 Nov 2020 18:59:05: #3   Pileup will be based on sequencing depth in treatment. \\nINFO  @ Tue, 03 Nov 2020 18:59:05: #3 Call peaks for each chromosome... \\nINFO  @ Tue, 03 Nov 2020 19:05:29: #4 Write output xls file... ../../data/chipseq_MEF2CMEF2D_degraded/diffData/MV411_RNP_AAVS1-H3K27AC_R2_peaks.xls \\nINFO  @ Tue, 03 Nov 2020 19:05:29: #4 Write peak in narrowPeak format file... ../../data/chipseq_MEF2CMEF2D_degraded/diffData/MV411_RNP_AAVS1-H3K27AC_R2_peaks.narrowPeak \\nINFO  @ Tue, 03 Nov 2020 19:05:30: #4 Write summits bed file... ../../data/chipseq_MEF2CMEF2D_degraded/diffData/MV411_RNP_AAVS1-H3K27AC_R2_summits.bed \\nINFO  @ Tue, 03 Nov 2020 19:05:30: Done! \\n'\n"
     ]
    },
    {
     "name": "stdout",
     "output_type": "stream",
     "text": [
      "b'INFO  @ Tue, 03 Nov 2020 19:05:30: \\n# Command line: callpeak -B -t ../../data/chipseq_MEF2CMEF2D_degraded/bwa/mergedLibrary/MV411_RNP_MEF2C_MEF2D-H3K27AC_R2.mLb.clN.sorted.bam -c ../../data/chipseq_MEF2CMEF2D_degraded/bwa/mergedLibrary/INPUT_R1.mLb.clN.sorted.bam --nomodel --extsize 227 -n MV411_RNP_MEF2C_MEF2D-H3K27AC_R2 --outdir ../../data/chipseq_MEF2CMEF2D_degraded/diffData/ -f BAMPE\\n# ARGUMENTS LIST:\\n# name = MV411_RNP_MEF2C_MEF2D-H3K27AC_R2\\n# format = BAMPE\\n# ChIP-seq file = [\\'../../data/chipseq_MEF2CMEF2D_degraded/bwa/mergedLibrary/MV411_RNP_MEF2C_MEF2D-H3K27AC_R2.mLb.clN.sorted.bam\\']\\n# control file = [\\'../../data/chipseq_MEF2CMEF2D_degraded/bwa/mergedLibrary/INPUT_R1.mLb.clN.sorted.bam\\']\\n# effective genome size = 2.70e+09\\n# band width = 300\\n# model fold = [5, 50]\\n# qvalue cutoff = 5.00e-02\\n# The maximum gap between significant sites is assigned as the read length/tag size.\\n# The minimum length of peaks is assigned as the predicted fragment length \"d\".\\n# Larger dataset will be scaled towards smaller dataset.\\n# Range for calculating regional lambda is: 1000 bps and 10000 bps\\n# Broad region calling is off\\n# Paired-End mode is on\\n \\nINFO  @ Tue, 03 Nov 2020 19:05:30: #1 read fragment files... \\nINFO  @ Tue, 03 Nov 2020 19:05:30: #1 read treatment fragments... \\nINFO  @ Tue, 03 Nov 2020 19:05:35:  1000000 \\nINFO  @ Tue, 03 Nov 2020 19:05:39:  2000000 \\nINFO  @ Tue, 03 Nov 2020 19:05:44:  3000000 \\nINFO  @ Tue, 03 Nov 2020 19:05:48:  4000000 \\nINFO  @ Tue, 03 Nov 2020 19:05:53:  5000000 \\nINFO  @ Tue, 03 Nov 2020 19:05:57:  6000000 \\nINFO  @ Tue, 03 Nov 2020 19:06:02:  7000000 \\nINFO  @ Tue, 03 Nov 2020 19:06:06:  8000000 \\nINFO  @ Tue, 03 Nov 2020 19:06:11:  9000000 \\nINFO  @ Tue, 03 Nov 2020 19:06:15:  10000000 \\nINFO  @ Tue, 03 Nov 2020 19:06:20:  11000000 \\nINFO  @ Tue, 03 Nov 2020 19:06:24:  12000000 \\nINFO  @ Tue, 03 Nov 2020 19:06:29:  13000000 \\nINFO  @ Tue, 03 Nov 2020 19:06:33:  14000000 \\nINFO  @ Tue, 03 Nov 2020 19:06:38:  15000000 \\nINFO  @ Tue, 03 Nov 2020 19:06:43:  16000000 \\nINFO  @ Tue, 03 Nov 2020 19:06:48:  17000000 \\nINFO  @ Tue, 03 Nov 2020 19:06:53:  18000000 \\nINFO  @ Tue, 03 Nov 2020 19:06:58:  19000000 \\nINFO  @ Tue, 03 Nov 2020 19:07:03:  20000000 \\nINFO  @ Tue, 03 Nov 2020 19:07:07:  21000000 \\nINFO  @ Tue, 03 Nov 2020 19:07:12:  22000000 \\nINFO  @ Tue, 03 Nov 2020 19:07:17:  23000000 \\nINFO  @ Tue, 03 Nov 2020 19:07:21:  24000000 \\nINFO  @ Tue, 03 Nov 2020 19:07:23: 24246480 fragments have been read. \\nINFO  @ Tue, 03 Nov 2020 19:07:38: #1.2 read input fragments... \\nINFO  @ Tue, 03 Nov 2020 19:07:42:  1000000 \\nINFO  @ Tue, 03 Nov 2020 19:07:46:  2000000 \\nINFO  @ Tue, 03 Nov 2020 19:07:50:  3000000 \\nINFO  @ Tue, 03 Nov 2020 19:07:54:  4000000 \\nINFO  @ Tue, 03 Nov 2020 19:07:57:  5000000 \\nINFO  @ Tue, 03 Nov 2020 19:08:01:  6000000 \\nINFO  @ Tue, 03 Nov 2020 19:08:05:  7000000 \\nINFO  @ Tue, 03 Nov 2020 19:08:09:  8000000 \\nINFO  @ Tue, 03 Nov 2020 19:08:13:  9000000 \\nINFO  @ Tue, 03 Nov 2020 19:08:18:  10000000 \\nINFO  @ Tue, 03 Nov 2020 19:08:21:  11000000 \\nINFO  @ Tue, 03 Nov 2020 19:08:25:  12000000 \\nINFO  @ Tue, 03 Nov 2020 19:08:29:  13000000 \\nINFO  @ Tue, 03 Nov 2020 19:08:33:  14000000 \\nINFO  @ Tue, 03 Nov 2020 19:08:36:  15000000 \\nINFO  @ Tue, 03 Nov 2020 19:08:40:  16000000 \\nINFO  @ Tue, 03 Nov 2020 19:08:44:  17000000 \\nINFO  @ Tue, 03 Nov 2020 19:08:48:  18000000 \\nINFO  @ Tue, 03 Nov 2020 19:08:52:  19000000 \\nINFO  @ Tue, 03 Nov 2020 19:08:56:  20000000 \\nINFO  @ Tue, 03 Nov 2020 19:08:59:  21000000 \\nINFO  @ Tue, 03 Nov 2020 19:09:04:  22000000 \\nINFO  @ Tue, 03 Nov 2020 19:09:08:  23000000 \\nINFO  @ Tue, 03 Nov 2020 19:09:11:  24000000 \\nINFO  @ Tue, 03 Nov 2020 19:09:15:  25000000 \\nINFO  @ Tue, 03 Nov 2020 19:09:19:  26000000 \\nINFO  @ Tue, 03 Nov 2020 19:09:23:  27000000 \\nINFO  @ Tue, 03 Nov 2020 19:09:27:  28000000 \\nINFO  @ Tue, 03 Nov 2020 19:09:30:  29000000 \\nINFO  @ Tue, 03 Nov 2020 19:09:34:  30000000 \\nINFO  @ Tue, 03 Nov 2020 19:09:38:  31000000 \\nINFO  @ Tue, 03 Nov 2020 19:09:42:  32000000 \\nINFO  @ Tue, 03 Nov 2020 19:09:46:  33000000 \\nINFO  @ Tue, 03 Nov 2020 19:09:49:  34000000 \\nINFO  @ Tue, 03 Nov 2020 19:09:53:  35000000 \\nINFO  @ Tue, 03 Nov 2020 19:09:57:  36000000 \\nINFO  @ Tue, 03 Nov 2020 19:10:00:  37000000 \\nINFO  @ Tue, 03 Nov 2020 19:10:04:  38000000 \\nINFO  @ Tue, 03 Nov 2020 19:10:08:  39000000 \\nINFO  @ Tue, 03 Nov 2020 19:10:12:  40000000 \\nINFO  @ Tue, 03 Nov 2020 19:10:16:  41000000 \\nINFO  @ Tue, 03 Nov 2020 19:10:19:  42000000 \\nINFO  @ Tue, 03 Nov 2020 19:10:23:  43000000 \\nINFO  @ Tue, 03 Nov 2020 19:10:27:  44000000 \\nINFO  @ Tue, 03 Nov 2020 19:10:31:  45000000 \\nINFO  @ Tue, 03 Nov 2020 19:10:35:  46000000 \\nINFO  @ Tue, 03 Nov 2020 19:10:38:  47000000 \\nINFO  @ Tue, 03 Nov 2020 19:10:42:  48000000 \\nINFO  @ Tue, 03 Nov 2020 19:10:46:  49000000 \\nINFO  @ Tue, 03 Nov 2020 19:10:50:  50000000 \\nINFO  @ Tue, 03 Nov 2020 19:10:54:  51000000 \\nINFO  @ Tue, 03 Nov 2020 19:10:58:  52000000 \\nINFO  @ Tue, 03 Nov 2020 19:11:03:  53000000 \\nINFO  @ Tue, 03 Nov 2020 19:11:07:  54000000 \\nINFO  @ Tue, 03 Nov 2020 19:11:11:  55000000 \\nINFO  @ Tue, 03 Nov 2020 19:11:15:  56000000 \\nINFO  @ Tue, 03 Nov 2020 19:11:18:  57000000 \\nINFO  @ Tue, 03 Nov 2020 19:11:22:  58000000 \\nINFO  @ Tue, 03 Nov 2020 19:11:26:  59000000 \\nINFO  @ Tue, 03 Nov 2020 19:11:30:  60000000 \\nINFO  @ Tue, 03 Nov 2020 19:11:34:  61000000 \\nINFO  @ Tue, 03 Nov 2020 19:11:38:  62000000 \\nINFO  @ Tue, 03 Nov 2020 19:11:41:  63000000 \\nINFO  @ Tue, 03 Nov 2020 19:11:45:  64000000 \\nINFO  @ Tue, 03 Nov 2020 19:11:49:  65000000 \\nINFO  @ Tue, 03 Nov 2020 19:11:53:  66000000 \\nINFO  @ Tue, 03 Nov 2020 19:11:55: 66660428 fragments have been read. \\nINFO  @ Tue, 03 Nov 2020 19:12:41: #1 mean fragment size is determined as 239.7 bp from treatment \\nINFO  @ Tue, 03 Nov 2020 19:12:41: #1 note: mean fragment size in control is 218.7 bp -- value ignored \\nINFO  @ Tue, 03 Nov 2020 19:12:41: #1 fragment size = 239.7 \\nINFO  @ Tue, 03 Nov 2020 19:12:41: #1  total fragments in treatment: 24246480 \\nINFO  @ Tue, 03 Nov 2020 19:12:41: #1 user defined the maximum fragments... \\nINFO  @ Tue, 03 Nov 2020 19:12:41: #1 filter out redundant fragments by allowing at most 1 identical fragment(s) \\nINFO  @ Tue, 03 Nov 2020 19:13:24: #1  fragments after filtering in treatment: 24241602 \\nINFO  @ Tue, 03 Nov 2020 19:13:24: #1  Redundant rate of treatment: 0.00 \\nINFO  @ Tue, 03 Nov 2020 19:13:24: #1  total fragments in control: 66660428 \\nINFO  @ Tue, 03 Nov 2020 19:13:24: #1 user defined the maximum fragments... \\nINFO  @ Tue, 03 Nov 2020 19:13:24: #1 filter out redundant fragments by allowing at most 1 identical fragment(s) \\nINFO  @ Tue, 03 Nov 2020 19:15:19: #1  fragments after filtering in control: 66632618 \\nINFO  @ Tue, 03 Nov 2020 19:15:19: #1  Redundant rate of control: 0.00 \\nINFO  @ Tue, 03 Nov 2020 19:15:19: #1 finished! \\nINFO  @ Tue, 03 Nov 2020 19:15:19: #2 Build Peak Model... \\nINFO  @ Tue, 03 Nov 2020 19:15:19: #2 Skipped... \\nINFO  @ Tue, 03 Nov 2020 19:15:19: #3 Call peaks... \\nINFO  @ Tue, 03 Nov 2020 19:15:19: #3 Pre-compute pvalue-qvalue table... \\nINFO  @ Tue, 03 Nov 2020 19:25:33: #3 In the peak calling step, the following will be performed simultaneously: \\nINFO  @ Tue, 03 Nov 2020 19:25:33: #3   Write bedGraph files for treatment pileup (after scaling if necessary)... MV411_RNP_MEF2C_MEF2D-H3K27AC_R2_treat_pileup.bdg \\nINFO  @ Tue, 03 Nov 2020 19:25:33: #3   Write bedGraph files for control lambda (after scaling if necessary)... MV411_RNP_MEF2C_MEF2D-H3K27AC_R2_control_lambda.bdg \\nINFO  @ Tue, 03 Nov 2020 19:25:33: #3   Pileup will be based on sequencing depth in treatment. \\nINFO  @ Tue, 03 Nov 2020 19:25:33: #3 Call peaks for each chromosome... \\nINFO  @ Tue, 03 Nov 2020 19:31:45: #4 Write output xls file... ../../data/chipseq_MEF2CMEF2D_degraded/diffData/MV411_RNP_MEF2C_MEF2D-H3K27AC_R2_peaks.xls \\nINFO  @ Tue, 03 Nov 2020 19:31:45: #4 Write peak in narrowPeak format file... ../../data/chipseq_MEF2CMEF2D_degraded/diffData/MV411_RNP_MEF2C_MEF2D-H3K27AC_R2_peaks.narrowPeak \\nINFO  @ Tue, 03 Nov 2020 19:31:45: #4 Write summits bed file... ../../data/chipseq_MEF2CMEF2D_degraded/diffData/MV411_RNP_MEF2C_MEF2D-H3K27AC_R2_summits.bed \\nINFO  @ Tue, 03 Nov 2020 19:31:45: Done! \\n'\n",
      "21657574 24486466\n",
      "doing differential peak binding\n"
     ]
    },
    {
     "name": "stdout",
     "output_type": "stream",
     "text": [
      "CompletedProcess(args='macs2 bdgdiff --t1 ../../data/chipseq_MEF2CMEF2D_degraded/diffData/MV411_RNP_AAVS1-H3K27AC_R2_treat_pileup.bdg --c1 ../../data/chipseq_MEF2CMEF2D_degraded/diffData/MV411_RNP_AAVS1-H3K27AC_R2_control_lambda.bdg --t2 ../../data/chipseq_MEF2CMEF2D_degraded/diffData/MV411_RNP_MEF2C_MEF2D-H3K27AC_R2_treat_pileup.bdg --c2 ../../data/chipseq_MEF2CMEF2D_degraded/diffData/MV411_RNP_MEF2C_MEF2D-H3K27AC_R2_control_lambda.bdg --d1 21657574 --d2 24486466 -g 60 -l 227 --o-prefix MV411_RNP_AAVS1-H3K27AC_R2_treat_pileup_vs_MV411_RNP_MEF2C_MEF2D-H3K27AC_R2_treat_pileup --outdir ../../data/chipseq_MEF2CMEF2D_degraded/diffPeaks/', returncode=0, stdout=b'', stderr=b'INFO  @ Tue, 03 Nov 2020 19:31:46: Read and build treatment 1 bedGraph... \\nINFO  @ Tue, 03 Nov 2020 19:32:14: Read and build control 1 bedGraph... \\nINFO  @ Tue, 03 Nov 2020 19:35:42: Read and build treatment 2 bedGraph... \\nINFO  @ Tue, 03 Nov 2020 19:36:15: Read and build control 2 bedGraph... \\nINFO  @ Tue, 03 Nov 2020 19:47:18: Write peaks... \\nINFO  @ Tue, 03 Nov 2020 19:47:18: Done \\n')\n",
      "../../data/chipseq_MEF2CMEF2D_degraded/bwa/mergedLibrary/MV411_RNP_AAVS1-H3K27AC_R1.mLb.clN.sorted.bam ../../data/chipseq_MEF2CMEF2D_degraded/bwa/mergedLibrary/MV411_RNP_MEF2D-H3K27AC_R1.mLb.clN.sorted.bam\n",
      "doing diff from ../../data/chipseq_MEF2CMEF2D_degraded/bwa/mergedLibrary/MV411_RNP_AAVS1-H3K27AC_R1.mLb.clN.sorted.bam and ../../data/chipseq_MEF2CMEF2D_degraded/bwa/mergedLibrary/MV411_RNP_MEF2D-H3K27AC_R1.mLb.clN.sorted.bam\n",
      "computing the fragment avg size\n",
      "232\n",
      "computing the scaling values\n",
      "b'INFO  @ Tue, 03 Nov 2020 19:49:05: \\n# Command line: callpeak -B -t ../../data/chipseq_MEF2CMEF2D_degraded/bwa/mergedLibrary/MV411_RNP_AAVS1-H3K27AC_R1.mLb.clN.sorted.bam -c ../../data/chipseq_MEF2CMEF2D_degraded/bwa/mergedLibrary/INPUT_R1.mLb.clN.sorted.bam --nomodel --extsize 232 -n MV411_RNP_AAVS1-H3K27AC_R1 --outdir ../../data/chipseq_MEF2CMEF2D_degraded/diffData/ -f BAMPE\\n# ARGUMENTS LIST:\\n# name = MV411_RNP_AAVS1-H3K27AC_R1\\n# format = BAMPE\\n# ChIP-seq file = [\\'../../data/chipseq_MEF2CMEF2D_degraded/bwa/mergedLibrary/MV411_RNP_AAVS1-H3K27AC_R1.mLb.clN.sorted.bam\\']\\n# control file = [\\'../../data/chipseq_MEF2CMEF2D_degraded/bwa/mergedLibrary/INPUT_R1.mLb.clN.sorted.bam\\']\\n# effective genome size = 2.70e+09\\n# band width = 300\\n# model fold = [5, 50]\\n# qvalue cutoff = 5.00e-02\\n# The maximum gap between significant sites is assigned as the read length/tag size.\\n# The minimum length of peaks is assigned as the predicted fragment length \"d\".\\n# Larger dataset will be scaled towards smaller dataset.\\n# Range for calculating regional lambda is: 1000 bps and 10000 bps\\n# Broad region calling is off\\n# Paired-End mode is on\\n \\nINFO  @ Tue, 03 Nov 2020 19:49:05: #1 read fragment files... \\nINFO  @ Tue, 03 Nov 2020 19:49:05: #1 read treatment fragments... \\nINFO  @ Tue, 03 Nov 2020 19:49:09:  1000000 \\nINFO  @ Tue, 03 Nov 2020 19:49:13:  2000000 \\nINFO  @ Tue, 03 Nov 2020 19:49:17:  3000000 \\nINFO  @ Tue, 03 Nov 2020 19:49:22:  4000000 \\nINFO  @ Tue, 03 Nov 2020 19:49:26:  5000000 \\nINFO  @ Tue, 03 Nov 2020 19:49:30:  6000000 \\nINFO  @ Tue, 03 Nov 2020 19:49:35:  7000000 \\nINFO  @ Tue, 03 Nov 2020 19:49:39:  8000000 \\nINFO  @ Tue, 03 Nov 2020 19:49:43:  9000000 \\nINFO  @ Tue, 03 Nov 2020 19:49:47:  10000000 \\nINFO  @ Tue, 03 Nov 2020 19:49:51:  11000000 \\nINFO  @ Tue, 03 Nov 2020 19:49:56:  12000000 \\nINFO  @ Tue, 03 Nov 2020 19:50:00:  13000000 \\nINFO  @ Tue, 03 Nov 2020 19:50:04:  14000000 \\nINFO  @ Tue, 03 Nov 2020 19:50:08:  15000000 \\nINFO  @ Tue, 03 Nov 2020 19:50:13:  16000000 \\nINFO  @ Tue, 03 Nov 2020 19:50:17:  17000000 \\nINFO  @ Tue, 03 Nov 2020 19:50:21:  18000000 \\nINFO  @ Tue, 03 Nov 2020 19:50:25:  19000000 \\nINFO  @ Tue, 03 Nov 2020 19:50:29:  20000000 \\nINFO  @ Tue, 03 Nov 2020 19:50:34:  21000000 \\nINFO  @ Tue, 03 Nov 2020 19:50:38:  22000000 \\nINFO  @ Tue, 03 Nov 2020 19:50:40: 22555000 fragments have been read. \\nINFO  @ Tue, 03 Nov 2020 19:50:54: #1.2 read input fragments... \\nINFO  @ Tue, 03 Nov 2020 19:50:58:  1000000 \\nINFO  @ Tue, 03 Nov 2020 19:51:02:  2000000 \\nINFO  @ Tue, 03 Nov 2020 19:51:05:  3000000 \\nINFO  @ Tue, 03 Nov 2020 19:51:09:  4000000 \\nINFO  @ Tue, 03 Nov 2020 19:51:13:  5000000 \\nINFO  @ Tue, 03 Nov 2020 19:51:17:  6000000 \\nINFO  @ Tue, 03 Nov 2020 19:51:20:  7000000 \\nINFO  @ Tue, 03 Nov 2020 19:51:24:  8000000 \\nINFO  @ Tue, 03 Nov 2020 19:51:28:  9000000 \\nINFO  @ Tue, 03 Nov 2020 19:51:31:  10000000 \\nINFO  @ Tue, 03 Nov 2020 19:51:35:  11000000 \\nINFO  @ Tue, 03 Nov 2020 19:51:39:  12000000 \\nINFO  @ Tue, 03 Nov 2020 19:51:42:  13000000 \\nINFO  @ Tue, 03 Nov 2020 19:51:46:  14000000 \\nINFO  @ Tue, 03 Nov 2020 19:51:49:  15000000 \\nINFO  @ Tue, 03 Nov 2020 19:51:53:  16000000 \\nINFO  @ Tue, 03 Nov 2020 19:51:57:  17000000 \\nINFO  @ Tue, 03 Nov 2020 19:52:00:  18000000 \\nINFO  @ Tue, 03 Nov 2020 19:52:04:  19000000 \\nINFO  @ Tue, 03 Nov 2020 19:52:08:  20000000 \\nINFO  @ Tue, 03 Nov 2020 19:52:11:  21000000 \\nINFO  @ Tue, 03 Nov 2020 19:52:15:  22000000 \\nINFO  @ Tue, 03 Nov 2020 19:52:19:  23000000 \\nINFO  @ Tue, 03 Nov 2020 19:52:22:  24000000 \\nINFO  @ Tue, 03 Nov 2020 19:52:26:  25000000 \\nINFO  @ Tue, 03 Nov 2020 19:52:30:  26000000 \\nINFO  @ Tue, 03 Nov 2020 19:52:33:  27000000 \\nINFO  @ Tue, 03 Nov 2020 19:52:37:  28000000 \\nINFO  @ Tue, 03 Nov 2020 19:52:41:  29000000 \\nINFO  @ Tue, 03 Nov 2020 19:52:44:  30000000 \\nINFO  @ Tue, 03 Nov 2020 19:52:48:  31000000 \\nINFO  @ Tue, 03 Nov 2020 19:52:54:  32000000 \\nINFO  @ Tue, 03 Nov 2020 19:52:59:  33000000 \\nINFO  @ Tue, 03 Nov 2020 19:53:02:  34000000 \\nINFO  @ Tue, 03 Nov 2020 19:53:06:  35000000 \\nINFO  @ Tue, 03 Nov 2020 19:53:10:  36000000 \\nINFO  @ Tue, 03 Nov 2020 19:53:13:  37000000 \\nINFO  @ Tue, 03 Nov 2020 19:53:17:  38000000 \\nINFO  @ Tue, 03 Nov 2020 19:53:20:  39000000 \\nINFO  @ Tue, 03 Nov 2020 19:53:24:  40000000 \\nINFO  @ Tue, 03 Nov 2020 19:53:28:  41000000 \\nINFO  @ Tue, 03 Nov 2020 19:53:32:  42000000 \\nINFO  @ Tue, 03 Nov 2020 19:53:35:  43000000 \\nINFO  @ Tue, 03 Nov 2020 19:53:39:  44000000 \\nINFO  @ Tue, 03 Nov 2020 19:53:43:  45000000 \\nINFO  @ Tue, 03 Nov 2020 19:53:46:  46000000 \\nINFO  @ Tue, 03 Nov 2020 19:53:50:  47000000 \\nINFO  @ Tue, 03 Nov 2020 19:53:54:  48000000 \\nINFO  @ Tue, 03 Nov 2020 19:53:57:  49000000 \\nINFO  @ Tue, 03 Nov 2020 19:54:01:  50000000 \\nINFO  @ Tue, 03 Nov 2020 19:54:05:  51000000 \\nINFO  @ Tue, 03 Nov 2020 19:54:08:  52000000 \\nINFO  @ Tue, 03 Nov 2020 19:54:12:  53000000 \\nINFO  @ Tue, 03 Nov 2020 19:54:15:  54000000 \\nINFO  @ Tue, 03 Nov 2020 19:54:19:  55000000 \\nINFO  @ Tue, 03 Nov 2020 19:54:23:  56000000 \\nINFO  @ Tue, 03 Nov 2020 19:54:27:  57000000 \\nINFO  @ Tue, 03 Nov 2020 19:54:30:  58000000 \\nINFO  @ Tue, 03 Nov 2020 19:54:34:  59000000 \\nINFO  @ Tue, 03 Nov 2020 19:54:37:  60000000 \\nINFO  @ Tue, 03 Nov 2020 19:54:41:  61000000 \\nINFO  @ Tue, 03 Nov 2020 19:54:45:  62000000 \\nINFO  @ Tue, 03 Nov 2020 19:54:49:  63000000 \\nINFO  @ Tue, 03 Nov 2020 19:54:52:  64000000 \\nINFO  @ Tue, 03 Nov 2020 19:54:56:  65000000 \\nINFO  @ Tue, 03 Nov 2020 19:55:00:  66000000 \\nINFO  @ Tue, 03 Nov 2020 19:55:02: 66660428 fragments have been read. \\nINFO  @ Tue, 03 Nov 2020 19:55:46: #1 mean fragment size is determined as 243.8 bp from treatment \\nINFO  @ Tue, 03 Nov 2020 19:55:46: #1 note: mean fragment size in control is 218.7 bp -- value ignored \\nINFO  @ Tue, 03 Nov 2020 19:55:46: #1 fragment size = 243.8 \\nINFO  @ Tue, 03 Nov 2020 19:55:46: #1  total fragments in treatment: 22555000 \\nINFO  @ Tue, 03 Nov 2020 19:55:46: #1 user defined the maximum fragments... \\nINFO  @ Tue, 03 Nov 2020 19:55:46: #1 filter out redundant fragments by allowing at most 1 identical fragment(s) \\nINFO  @ Tue, 03 Nov 2020 19:56:24: #1  fragments after filtering in treatment: 22551508 \\nINFO  @ Tue, 03 Nov 2020 19:56:24: #1  Redundant rate of treatment: 0.00 \\nINFO  @ Tue, 03 Nov 2020 19:56:24: #1  total fragments in control: 66660428 \\nINFO  @ Tue, 03 Nov 2020 19:56:24: #1 user defined the maximum fragments... \\nINFO  @ Tue, 03 Nov 2020 19:56:24: #1 filter out redundant fragments by allowing at most 1 identical fragment(s) \\nINFO  @ Tue, 03 Nov 2020 19:58:15: #1  fragments after filtering in control: 66632618 \\nINFO  @ Tue, 03 Nov 2020 19:58:15: #1  Redundant rate of control: 0.00 \\nINFO  @ Tue, 03 Nov 2020 19:58:15: #1 finished! \\nINFO  @ Tue, 03 Nov 2020 19:58:15: #2 Build Peak Model... \\nINFO  @ Tue, 03 Nov 2020 19:58:15: #2 Skipped... \\nINFO  @ Tue, 03 Nov 2020 19:58:15: #3 Call peaks... \\nINFO  @ Tue, 03 Nov 2020 19:58:15: #3 Pre-compute pvalue-qvalue table... \\nINFO  @ Tue, 03 Nov 2020 20:07:48: #3 In the peak calling step, the following will be performed simultaneously: \\nINFO  @ Tue, 03 Nov 2020 20:07:48: #3   Write bedGraph files for treatment pileup (after scaling if necessary)... MV411_RNP_AAVS1-H3K27AC_R1_treat_pileup.bdg \\nINFO  @ Tue, 03 Nov 2020 20:07:48: #3   Write bedGraph files for control lambda (after scaling if necessary)... MV411_RNP_AAVS1-H3K27AC_R1_control_lambda.bdg \\nINFO  @ Tue, 03 Nov 2020 20:07:48: #3   Pileup will be based on sequencing depth in treatment. \\nINFO  @ Tue, 03 Nov 2020 20:07:48: #3 Call peaks for each chromosome... \\nINFO  @ Tue, 03 Nov 2020 20:13:57: #4 Write output xls file... ../../data/chipseq_MEF2CMEF2D_degraded/diffData/MV411_RNP_AAVS1-H3K27AC_R1_peaks.xls \\nINFO  @ Tue, 03 Nov 2020 20:13:57: #4 Write peak in narrowPeak format file... ../../data/chipseq_MEF2CMEF2D_degraded/diffData/MV411_RNP_AAVS1-H3K27AC_R1_peaks.narrowPeak \\nINFO  @ Tue, 03 Nov 2020 20:13:57: #4 Write summits bed file... ../../data/chipseq_MEF2CMEF2D_degraded/diffData/MV411_RNP_AAVS1-H3K27AC_R1_summits.bed \\nINFO  @ Tue, 03 Nov 2020 20:13:57: Done! \\n'\n"
     ]
    },
    {
     "name": "stdout",
     "output_type": "stream",
     "text": [
      "b'INFO  @ Tue, 03 Nov 2020 20:13:58: \\n# Command line: callpeak -B -t ../../data/chipseq_MEF2CMEF2D_degraded/bwa/mergedLibrary/MV411_RNP_MEF2D-H3K27AC_R1.mLb.clN.sorted.bam -c ../../data/chipseq_MEF2CMEF2D_degraded/bwa/mergedLibrary/INPUT_R1.mLb.clN.sorted.bam --nomodel --extsize 232 -n MV411_RNP_MEF2D-H3K27AC_R1 --outdir ../../data/chipseq_MEF2CMEF2D_degraded/diffData/ -f BAMPE\\n# ARGUMENTS LIST:\\n# name = MV411_RNP_MEF2D-H3K27AC_R1\\n# format = BAMPE\\n# ChIP-seq file = [\\'../../data/chipseq_MEF2CMEF2D_degraded/bwa/mergedLibrary/MV411_RNP_MEF2D-H3K27AC_R1.mLb.clN.sorted.bam\\']\\n# control file = [\\'../../data/chipseq_MEF2CMEF2D_degraded/bwa/mergedLibrary/INPUT_R1.mLb.clN.sorted.bam\\']\\n# effective genome size = 2.70e+09\\n# band width = 300\\n# model fold = [5, 50]\\n# qvalue cutoff = 5.00e-02\\n# The maximum gap between significant sites is assigned as the read length/tag size.\\n# The minimum length of peaks is assigned as the predicted fragment length \"d\".\\n# Larger dataset will be scaled towards smaller dataset.\\n# Range for calculating regional lambda is: 1000 bps and 10000 bps\\n# Broad region calling is off\\n# Paired-End mode is on\\n \\nINFO  @ Tue, 03 Nov 2020 20:13:58: #1 read fragment files... \\nINFO  @ Tue, 03 Nov 2020 20:13:58: #1 read treatment fragments... \\nINFO  @ Tue, 03 Nov 2020 20:14:02:  1000000 \\nINFO  @ Tue, 03 Nov 2020 20:14:06:  2000000 \\nINFO  @ Tue, 03 Nov 2020 20:14:11:  3000000 \\nINFO  @ Tue, 03 Nov 2020 20:14:15:  4000000 \\nINFO  @ Tue, 03 Nov 2020 20:14:19:  5000000 \\nINFO  @ Tue, 03 Nov 2020 20:14:24:  6000000 \\nINFO  @ Tue, 03 Nov 2020 20:14:28:  7000000 \\nINFO  @ Tue, 03 Nov 2020 20:14:33:  8000000 \\nINFO  @ Tue, 03 Nov 2020 20:14:37:  9000000 \\nINFO  @ Tue, 03 Nov 2020 20:14:41:  10000000 \\nINFO  @ Tue, 03 Nov 2020 20:14:46:  11000000 \\nINFO  @ Tue, 03 Nov 2020 20:14:50:  12000000 \\nINFO  @ Tue, 03 Nov 2020 20:14:54:  13000000 \\nINFO  @ Tue, 03 Nov 2020 20:14:59:  14000000 \\nINFO  @ Tue, 03 Nov 2020 20:15:03:  15000000 \\nINFO  @ Tue, 03 Nov 2020 20:15:07:  16000000 \\nINFO  @ Tue, 03 Nov 2020 20:15:12:  17000000 \\nINFO  @ Tue, 03 Nov 2020 20:15:16:  18000000 \\nINFO  @ Tue, 03 Nov 2020 20:15:21:  19000000 \\nINFO  @ Tue, 03 Nov 2020 20:15:25:  20000000 \\nINFO  @ Tue, 03 Nov 2020 20:15:29:  21000000 \\nINFO  @ Tue, 03 Nov 2020 20:15:33:  22000000 \\nINFO  @ Tue, 03 Nov 2020 20:15:38:  23000000 \\nINFO  @ Tue, 03 Nov 2020 20:15:42:  24000000 \\nINFO  @ Tue, 03 Nov 2020 20:15:46:  25000000 \\nINFO  @ Tue, 03 Nov 2020 20:15:51:  26000000 \\nINFO  @ Tue, 03 Nov 2020 20:15:55:  27000000 \\nINFO  @ Tue, 03 Nov 2020 20:15:55: 27026324 fragments have been read. \\nINFO  @ Tue, 03 Nov 2020 20:16:12: #1.2 read input fragments... \\nINFO  @ Tue, 03 Nov 2020 20:16:16:  1000000 \\nINFO  @ Tue, 03 Nov 2020 20:16:19:  2000000 \\nINFO  @ Tue, 03 Nov 2020 20:16:23:  3000000 \\nINFO  @ Tue, 03 Nov 2020 20:16:27:  4000000 \\nINFO  @ Tue, 03 Nov 2020 20:16:30:  5000000 \\nINFO  @ Tue, 03 Nov 2020 20:16:34:  6000000 \\nINFO  @ Tue, 03 Nov 2020 20:16:38:  7000000 \\nINFO  @ Tue, 03 Nov 2020 20:16:41:  8000000 \\nINFO  @ Tue, 03 Nov 2020 20:16:45:  9000000 \\nINFO  @ Tue, 03 Nov 2020 20:16:49:  10000000 \\nINFO  @ Tue, 03 Nov 2020 20:16:52:  11000000 \\nINFO  @ Tue, 03 Nov 2020 20:16:56:  12000000 \\nINFO  @ Tue, 03 Nov 2020 20:17:00:  13000000 \\nINFO  @ Tue, 03 Nov 2020 20:17:04:  14000000 \\nINFO  @ Tue, 03 Nov 2020 20:17:08:  15000000 \\nINFO  @ Tue, 03 Nov 2020 20:17:12:  16000000 \\nINFO  @ Tue, 03 Nov 2020 20:17:15:  17000000 \\nINFO  @ Tue, 03 Nov 2020 20:17:19:  18000000 \\nINFO  @ Tue, 03 Nov 2020 20:17:23:  19000000 \\nINFO  @ Tue, 03 Nov 2020 20:17:26:  20000000 \\nINFO  @ Tue, 03 Nov 2020 20:17:30:  21000000 \\nINFO  @ Tue, 03 Nov 2020 20:17:33:  22000000 \\nINFO  @ Tue, 03 Nov 2020 20:17:37:  23000000 \\nINFO  @ Tue, 03 Nov 2020 20:17:41:  24000000 \\nINFO  @ Tue, 03 Nov 2020 20:17:44:  25000000 \\nINFO  @ Tue, 03 Nov 2020 20:17:48:  26000000 \\nINFO  @ Tue, 03 Nov 2020 20:17:52:  27000000 \\nINFO  @ Tue, 03 Nov 2020 20:17:55:  28000000 \\nINFO  @ Tue, 03 Nov 2020 20:17:59:  29000000 \\nINFO  @ Tue, 03 Nov 2020 20:18:03:  30000000 \\nINFO  @ Tue, 03 Nov 2020 20:18:07:  31000000 \\nINFO  @ Tue, 03 Nov 2020 20:18:11:  32000000 \\nINFO  @ Tue, 03 Nov 2020 20:18:15:  33000000 \\nINFO  @ Tue, 03 Nov 2020 20:18:18:  34000000 \\nINFO  @ Tue, 03 Nov 2020 20:18:22:  35000000 \\nINFO  @ Tue, 03 Nov 2020 20:18:26:  36000000 \\nINFO  @ Tue, 03 Nov 2020 20:18:29:  37000000 \\nINFO  @ Tue, 03 Nov 2020 20:18:33:  38000000 \\nINFO  @ Tue, 03 Nov 2020 20:18:37:  39000000 \\nINFO  @ Tue, 03 Nov 2020 20:18:40:  40000000 \\nINFO  @ Tue, 03 Nov 2020 20:18:44:  41000000 \\nINFO  @ Tue, 03 Nov 2020 20:18:48:  42000000 \\nINFO  @ Tue, 03 Nov 2020 20:18:52:  43000000 \\nINFO  @ Tue, 03 Nov 2020 20:18:55:  44000000 \\nINFO  @ Tue, 03 Nov 2020 20:18:59:  45000000 \\nINFO  @ Tue, 03 Nov 2020 20:19:02:  46000000 \\nINFO  @ Tue, 03 Nov 2020 20:19:06:  47000000 \\nINFO  @ Tue, 03 Nov 2020 20:19:10:  48000000 \\nINFO  @ Tue, 03 Nov 2020 20:19:13:  49000000 \\nINFO  @ Tue, 03 Nov 2020 20:19:17:  50000000 \\nINFO  @ Tue, 03 Nov 2020 20:19:21:  51000000 \\nINFO  @ Tue, 03 Nov 2020 20:19:24:  52000000 \\nINFO  @ Tue, 03 Nov 2020 20:19:28:  53000000 \\nINFO  @ Tue, 03 Nov 2020 20:19:32:  54000000 \\nINFO  @ Tue, 03 Nov 2020 20:19:35:  55000000 \\nINFO  @ Tue, 03 Nov 2020 20:19:39:  56000000 \\nINFO  @ Tue, 03 Nov 2020 20:19:43:  57000000 \\nINFO  @ Tue, 03 Nov 2020 20:19:47:  58000000 \\nINFO  @ Tue, 03 Nov 2020 20:19:51:  59000000 \\nINFO  @ Tue, 03 Nov 2020 20:19:55:  60000000 \\nINFO  @ Tue, 03 Nov 2020 20:19:58:  61000000 \\nINFO  @ Tue, 03 Nov 2020 20:20:02:  62000000 \\nINFO  @ Tue, 03 Nov 2020 20:20:06:  63000000 \\nINFO  @ Tue, 03 Nov 2020 20:20:09:  64000000 \\nINFO  @ Tue, 03 Nov 2020 20:20:13:  65000000 \\nINFO  @ Tue, 03 Nov 2020 20:20:17:  66000000 \\nINFO  @ Tue, 03 Nov 2020 20:20:19: 66660428 fragments have been read. \\nINFO  @ Tue, 03 Nov 2020 20:21:04: #1 mean fragment size is determined as 231.9 bp from treatment \\nINFO  @ Tue, 03 Nov 2020 20:21:04: #1 note: mean fragment size in control is 218.7 bp -- value ignored \\nINFO  @ Tue, 03 Nov 2020 20:21:04: #1 fragment size = 231.9 \\nINFO  @ Tue, 03 Nov 2020 20:21:04: #1  total fragments in treatment: 27026324 \\nINFO  @ Tue, 03 Nov 2020 20:21:04: #1 user defined the maximum fragments... \\nINFO  @ Tue, 03 Nov 2020 20:21:04: #1 filter out redundant fragments by allowing at most 1 identical fragment(s) \\nINFO  @ Tue, 03 Nov 2020 20:21:46: #1  fragments after filtering in treatment: 27007372 \\nINFO  @ Tue, 03 Nov 2020 20:21:46: #1  Redundant rate of treatment: 0.00 \\nINFO  @ Tue, 03 Nov 2020 20:21:46: #1  total fragments in control: 66660428 \\nINFO  @ Tue, 03 Nov 2020 20:21:46: #1 user defined the maximum fragments... \\nINFO  @ Tue, 03 Nov 2020 20:21:46: #1 filter out redundant fragments by allowing at most 1 identical fragment(s) \\nINFO  @ Tue, 03 Nov 2020 20:23:32: #1  fragments after filtering in control: 66632618 \\nINFO  @ Tue, 03 Nov 2020 20:23:32: #1  Redundant rate of control: 0.00 \\nINFO  @ Tue, 03 Nov 2020 20:23:32: #1 finished! \\nINFO  @ Tue, 03 Nov 2020 20:23:32: #2 Build Peak Model... \\nINFO  @ Tue, 03 Nov 2020 20:23:32: #2 Skipped... \\nINFO  @ Tue, 03 Nov 2020 20:23:32: #3 Call peaks... \\nINFO  @ Tue, 03 Nov 2020 20:23:32: #3 Pre-compute pvalue-qvalue table... \\nINFO  @ Tue, 03 Nov 2020 20:33:28: #3 In the peak calling step, the following will be performed simultaneously: \\nINFO  @ Tue, 03 Nov 2020 20:33:28: #3   Write bedGraph files for treatment pileup (after scaling if necessary)... MV411_RNP_MEF2D-H3K27AC_R1_treat_pileup.bdg \\nINFO  @ Tue, 03 Nov 2020 20:33:28: #3   Write bedGraph files for control lambda (after scaling if necessary)... MV411_RNP_MEF2D-H3K27AC_R1_control_lambda.bdg \\nINFO  @ Tue, 03 Nov 2020 20:33:28: #3   Pileup will be based on sequencing depth in treatment. \\nINFO  @ Tue, 03 Nov 2020 20:33:28: #3 Call peaks for each chromosome... \\nINFO  @ Tue, 03 Nov 2020 20:39:33: #4 Write output xls file... ../../data/chipseq_MEF2CMEF2D_degraded/diffData/MV411_RNP_MEF2D-H3K27AC_R1_peaks.xls \\nINFO  @ Tue, 03 Nov 2020 20:39:33: #4 Write peak in narrowPeak format file... ../../data/chipseq_MEF2CMEF2D_degraded/diffData/MV411_RNP_MEF2D-H3K27AC_R1_peaks.narrowPeak \\nINFO  @ Tue, 03 Nov 2020 20:39:33: #4 Write summits bed file... ../../data/chipseq_MEF2CMEF2D_degraded/diffData/MV411_RNP_MEF2D-H3K27AC_R1_summits.bed \\nINFO  @ Tue, 03 Nov 2020 20:39:33: Done! \\n'\n",
      "22551508 23900329\n",
      "doing differential peak binding\n"
     ]
    },
    {
     "name": "stdout",
     "output_type": "stream",
     "text": [
      "CompletedProcess(args='macs2 bdgdiff --t1 ../../data/chipseq_MEF2CMEF2D_degraded/diffData/MV411_RNP_AAVS1-H3K27AC_R1_treat_pileup.bdg --c1 ../../data/chipseq_MEF2CMEF2D_degraded/diffData/MV411_RNP_AAVS1-H3K27AC_R1_control_lambda.bdg --t2 ../../data/chipseq_MEF2CMEF2D_degraded/diffData/MV411_RNP_MEF2D-H3K27AC_R1_treat_pileup.bdg --c2 ../../data/chipseq_MEF2CMEF2D_degraded/diffData/MV411_RNP_MEF2D-H3K27AC_R1_control_lambda.bdg --d1 22551508 --d2 23900329 -g 60 -l 232 --o-prefix MV411_RNP_AAVS1-H3K27AC_R1_treat_pileup_vs_MV411_RNP_MEF2D-H3K27AC_R1_treat_pileup --outdir ../../data/chipseq_MEF2CMEF2D_degraded/diffPeaks/', returncode=0, stdout=b'', stderr=b'INFO  @ Tue, 03 Nov 2020 20:39:34: Read and build treatment 1 bedGraph... \\nINFO  @ Tue, 03 Nov 2020 20:40:06: Read and build control 1 bedGraph... \\nINFO  @ Tue, 03 Nov 2020 20:43:44: Read and build treatment 2 bedGraph... \\nINFO  @ Tue, 03 Nov 2020 20:44:20: Read and build control 2 bedGraph... \\nINFO  @ Tue, 03 Nov 2020 20:57:12: Write peaks... \\nINFO  @ Tue, 03 Nov 2020 20:57:12: Done \\n')\n",
      "../../data/chipseq_MEF2CMEF2D_degraded/bwa/mergedLibrary/MV411_RNP_AAVS1-H3K27AC_R2.mLb.clN.sorted.bam ../../data/chipseq_MEF2CMEF2D_degraded/bwa/mergedLibrary/MV411_RNP_MEF2D-H3K27AC_R2.mLb.clN.sorted.bam\n",
      "doing diff from ../../data/chipseq_MEF2CMEF2D_degraded/bwa/mergedLibrary/MV411_RNP_AAVS1-H3K27AC_R2.mLb.clN.sorted.bam and ../../data/chipseq_MEF2CMEF2D_degraded/bwa/mergedLibrary/MV411_RNP_MEF2D-H3K27AC_R2.mLb.clN.sorted.bam\n",
      "computing the fragment avg size\n",
      "227\n",
      "computing the scaling values\n",
      "b'INFO  @ Tue, 03 Nov 2020 20:59:05: \\n# Command line: callpeak -B -t ../../data/chipseq_MEF2CMEF2D_degraded/bwa/mergedLibrary/MV411_RNP_AAVS1-H3K27AC_R2.mLb.clN.sorted.bam -c ../../data/chipseq_MEF2CMEF2D_degraded/bwa/mergedLibrary/INPUT_R1.mLb.clN.sorted.bam --nomodel --extsize 227 -n MV411_RNP_AAVS1-H3K27AC_R2 --outdir ../../data/chipseq_MEF2CMEF2D_degraded/diffData/ -f BAMPE\\n# ARGUMENTS LIST:\\n# name = MV411_RNP_AAVS1-H3K27AC_R2\\n# format = BAMPE\\n# ChIP-seq file = [\\'../../data/chipseq_MEF2CMEF2D_degraded/bwa/mergedLibrary/MV411_RNP_AAVS1-H3K27AC_R2.mLb.clN.sorted.bam\\']\\n# control file = [\\'../../data/chipseq_MEF2CMEF2D_degraded/bwa/mergedLibrary/INPUT_R1.mLb.clN.sorted.bam\\']\\n# effective genome size = 2.70e+09\\n# band width = 300\\n# model fold = [5, 50]\\n# qvalue cutoff = 5.00e-02\\n# The maximum gap between significant sites is assigned as the read length/tag size.\\n# The minimum length of peaks is assigned as the predicted fragment length \"d\".\\n# Larger dataset will be scaled towards smaller dataset.\\n# Range for calculating regional lambda is: 1000 bps and 10000 bps\\n# Broad region calling is off\\n# Paired-End mode is on\\n \\nINFO  @ Tue, 03 Nov 2020 20:59:05: #1 read fragment files... \\nINFO  @ Tue, 03 Nov 2020 20:59:05: #1 read treatment fragments... \\nINFO  @ Tue, 03 Nov 2020 20:59:09:  1000000 \\nINFO  @ Tue, 03 Nov 2020 20:59:14:  2000000 \\nINFO  @ Tue, 03 Nov 2020 20:59:18:  3000000 \\nINFO  @ Tue, 03 Nov 2020 20:59:22:  4000000 \\nINFO  @ Tue, 03 Nov 2020 20:59:27:  5000000 \\nINFO  @ Tue, 03 Nov 2020 20:59:31:  6000000 \\nINFO  @ Tue, 03 Nov 2020 20:59:35:  7000000 \\nINFO  @ Tue, 03 Nov 2020 20:59:39:  8000000 \\nINFO  @ Tue, 03 Nov 2020 20:59:44:  9000000 \\nINFO  @ Tue, 03 Nov 2020 20:59:48:  10000000 \\nINFO  @ Tue, 03 Nov 2020 20:59:52:  11000000 \\nINFO  @ Tue, 03 Nov 2020 20:59:57:  12000000 \\nINFO  @ Tue, 03 Nov 2020 21:00:01:  13000000 \\nINFO  @ Tue, 03 Nov 2020 21:00:05:  14000000 \\nINFO  @ Tue, 03 Nov 2020 21:00:10:  15000000 \\nINFO  @ Tue, 03 Nov 2020 21:00:14:  16000000 \\nINFO  @ Tue, 03 Nov 2020 21:00:18:  17000000 \\nINFO  @ Tue, 03 Nov 2020 21:00:23:  18000000 \\nINFO  @ Tue, 03 Nov 2020 21:00:27:  19000000 \\nINFO  @ Tue, 03 Nov 2020 21:00:31:  20000000 \\nINFO  @ Tue, 03 Nov 2020 21:00:35:  21000000 \\nINFO  @ Tue, 03 Nov 2020 21:00:38: 21660876 fragments have been read. \\nINFO  @ Tue, 03 Nov 2020 21:00:51: #1.2 read input fragments... \\nINFO  @ Tue, 03 Nov 2020 21:00:55:  1000000 \\nINFO  @ Tue, 03 Nov 2020 21:00:59:  2000000 \\nINFO  @ Tue, 03 Nov 2020 21:01:03:  3000000 \\nINFO  @ Tue, 03 Nov 2020 21:01:07:  4000000 \\nINFO  @ Tue, 03 Nov 2020 21:01:11:  5000000 \\nINFO  @ Tue, 03 Nov 2020 21:01:14:  6000000 \\nINFO  @ Tue, 03 Nov 2020 21:01:18:  7000000 \\nINFO  @ Tue, 03 Nov 2020 21:01:22:  8000000 \\nINFO  @ Tue, 03 Nov 2020 21:01:26:  9000000 \\nINFO  @ Tue, 03 Nov 2020 21:01:30:  10000000 \\nINFO  @ Tue, 03 Nov 2020 21:01:34:  11000000 \\nINFO  @ Tue, 03 Nov 2020 21:01:38:  12000000 \\nINFO  @ Tue, 03 Nov 2020 21:01:42:  13000000 \\nINFO  @ Tue, 03 Nov 2020 21:01:46:  14000000 \\nINFO  @ Tue, 03 Nov 2020 21:01:50:  15000000 \\nINFO  @ Tue, 03 Nov 2020 21:01:53:  16000000 \\nINFO  @ Tue, 03 Nov 2020 21:01:57:  17000000 \\nINFO  @ Tue, 03 Nov 2020 21:02:01:  18000000 \\nINFO  @ Tue, 03 Nov 2020 21:02:05:  19000000 \\nINFO  @ Tue, 03 Nov 2020 21:02:09:  20000000 \\nINFO  @ Tue, 03 Nov 2020 21:02:13:  21000000 \\nINFO  @ Tue, 03 Nov 2020 21:02:17:  22000000 \\nINFO  @ Tue, 03 Nov 2020 21:02:20:  23000000 \\nINFO  @ Tue, 03 Nov 2020 21:02:24:  24000000 \\nINFO  @ Tue, 03 Nov 2020 21:02:28:  25000000 \\nINFO  @ Tue, 03 Nov 2020 21:02:32:  26000000 \\nINFO  @ Tue, 03 Nov 2020 21:02:36:  27000000 \\nINFO  @ Tue, 03 Nov 2020 21:02:40:  28000000 \\nINFO  @ Tue, 03 Nov 2020 21:02:43:  29000000 \\nINFO  @ Tue, 03 Nov 2020 21:02:47:  30000000 \\nINFO  @ Tue, 03 Nov 2020 21:02:51:  31000000 \\nINFO  @ Tue, 03 Nov 2020 21:02:55:  32000000 \\nINFO  @ Tue, 03 Nov 2020 21:02:59:  33000000 \\nINFO  @ Tue, 03 Nov 2020 21:03:03:  34000000 \\nINFO  @ Tue, 03 Nov 2020 21:03:07:  35000000 \\nINFO  @ Tue, 03 Nov 2020 21:03:11:  36000000 \\nINFO  @ Tue, 03 Nov 2020 21:03:15:  37000000 \\nINFO  @ Tue, 03 Nov 2020 21:03:18:  38000000 \\nINFO  @ Tue, 03 Nov 2020 21:03:22:  39000000 \\nINFO  @ Tue, 03 Nov 2020 21:03:26:  40000000 \\nINFO  @ Tue, 03 Nov 2020 21:03:30:  41000000 \\nINFO  @ Tue, 03 Nov 2020 21:03:34:  42000000 \\nINFO  @ Tue, 03 Nov 2020 21:03:38:  43000000 \\nINFO  @ Tue, 03 Nov 2020 21:03:42:  44000000 \\nINFO  @ Tue, 03 Nov 2020 21:03:46:  45000000 \\nINFO  @ Tue, 03 Nov 2020 21:03:50:  46000000 \\nINFO  @ Tue, 03 Nov 2020 21:03:53:  47000000 \\nINFO  @ Tue, 03 Nov 2020 21:03:57:  48000000 \\nINFO  @ Tue, 03 Nov 2020 21:04:01:  49000000 \\nINFO  @ Tue, 03 Nov 2020 21:04:05:  50000000 \\nINFO  @ Tue, 03 Nov 2020 21:04:09:  51000000 \\nINFO  @ Tue, 03 Nov 2020 21:04:13:  52000000 \\nINFO  @ Tue, 03 Nov 2020 21:04:17:  53000000 \\nINFO  @ Tue, 03 Nov 2020 21:04:20:  54000000 \\nINFO  @ Tue, 03 Nov 2020 21:04:24:  55000000 \\nINFO  @ Tue, 03 Nov 2020 21:04:28:  56000000 \\nINFO  @ Tue, 03 Nov 2020 21:04:32:  57000000 \\nINFO  @ Tue, 03 Nov 2020 21:04:36:  58000000 \\nINFO  @ Tue, 03 Nov 2020 21:04:40:  59000000 \\nINFO  @ Tue, 03 Nov 2020 21:04:44:  60000000 \\nINFO  @ Tue, 03 Nov 2020 21:04:47:  61000000 \\nINFO  @ Tue, 03 Nov 2020 21:04:51:  62000000 \\nINFO  @ Tue, 03 Nov 2020 21:04:55:  63000000 \\nINFO  @ Tue, 03 Nov 2020 21:04:59:  64000000 \\nINFO  @ Tue, 03 Nov 2020 21:05:03:  65000000 \\nINFO  @ Tue, 03 Nov 2020 21:05:07:  66000000 \\nINFO  @ Tue, 03 Nov 2020 21:05:09: 66660428 fragments have been read. \\nINFO  @ Tue, 03 Nov 2020 21:05:54: #1 mean fragment size is determined as 238.6 bp from treatment \\nINFO  @ Tue, 03 Nov 2020 21:05:54: #1 note: mean fragment size in control is 218.7 bp -- value ignored \\nINFO  @ Tue, 03 Nov 2020 21:05:54: #1 fragment size = 238.6 \\nINFO  @ Tue, 03 Nov 2020 21:05:54: #1  total fragments in treatment: 21660876 \\nINFO  @ Tue, 03 Nov 2020 21:05:54: #1 user defined the maximum fragments... \\nINFO  @ Tue, 03 Nov 2020 21:05:54: #1 filter out redundant fragments by allowing at most 1 identical fragment(s) \\nINFO  @ Tue, 03 Nov 2020 21:06:30: #1  fragments after filtering in treatment: 21657574 \\nINFO  @ Tue, 03 Nov 2020 21:06:30: #1  Redundant rate of treatment: 0.00 \\nINFO  @ Tue, 03 Nov 2020 21:06:30: #1  total fragments in control: 66660428 \\nINFO  @ Tue, 03 Nov 2020 21:06:30: #1 user defined the maximum fragments... \\nINFO  @ Tue, 03 Nov 2020 21:06:30: #1 filter out redundant fragments by allowing at most 1 identical fragment(s) \\nINFO  @ Tue, 03 Nov 2020 21:08:22: #1  fragments after filtering in control: 66632618 \\nINFO  @ Tue, 03 Nov 2020 21:08:22: #1  Redundant rate of control: 0.00 \\nINFO  @ Tue, 03 Nov 2020 21:08:22: #1 finished! \\nINFO  @ Tue, 03 Nov 2020 21:08:22: #2 Build Peak Model... \\nINFO  @ Tue, 03 Nov 2020 21:08:22: #2 Skipped... \\nINFO  @ Tue, 03 Nov 2020 21:08:22: #3 Call peaks... \\nINFO  @ Tue, 03 Nov 2020 21:08:22: #3 Pre-compute pvalue-qvalue table... \\nINFO  @ Tue, 03 Nov 2020 21:17:42: #3 In the peak calling step, the following will be performed simultaneously: \\nINFO  @ Tue, 03 Nov 2020 21:17:42: #3   Write bedGraph files for treatment pileup (after scaling if necessary)... MV411_RNP_AAVS1-H3K27AC_R2_treat_pileup.bdg \\nINFO  @ Tue, 03 Nov 2020 21:17:42: #3   Write bedGraph files for control lambda (after scaling if necessary)... MV411_RNP_AAVS1-H3K27AC_R2_control_lambda.bdg \\nINFO  @ Tue, 03 Nov 2020 21:17:42: #3   Pileup will be based on sequencing depth in treatment. \\nINFO  @ Tue, 03 Nov 2020 21:17:42: #3 Call peaks for each chromosome... \\nINFO  @ Tue, 03 Nov 2020 21:23:35: #4 Write output xls file... ../../data/chipseq_MEF2CMEF2D_degraded/diffData/MV411_RNP_AAVS1-H3K27AC_R2_peaks.xls \\nINFO  @ Tue, 03 Nov 2020 21:23:35: #4 Write peak in narrowPeak format file... ../../data/chipseq_MEF2CMEF2D_degraded/diffData/MV411_RNP_AAVS1-H3K27AC_R2_peaks.narrowPeak \\nINFO  @ Tue, 03 Nov 2020 21:23:35: #4 Write summits bed file... ../../data/chipseq_MEF2CMEF2D_degraded/diffData/MV411_RNP_AAVS1-H3K27AC_R2_summits.bed \\nINFO  @ Tue, 03 Nov 2020 21:23:35: Done! \\n'\n"
     ]
    },
    {
     "name": "stdout",
     "output_type": "stream",
     "text": [
      "b'INFO  @ Tue, 03 Nov 2020 21:23:36: \\n# Command line: callpeak -B -t ../../data/chipseq_MEF2CMEF2D_degraded/bwa/mergedLibrary/MV411_RNP_MEF2D-H3K27AC_R2.mLb.clN.sorted.bam -c ../../data/chipseq_MEF2CMEF2D_degraded/bwa/mergedLibrary/INPUT_R1.mLb.clN.sorted.bam --nomodel --extsize 227 -n MV411_RNP_MEF2D-H3K27AC_R2 --outdir ../../data/chipseq_MEF2CMEF2D_degraded/diffData/ -f BAMPE\\n# ARGUMENTS LIST:\\n# name = MV411_RNP_MEF2D-H3K27AC_R2\\n# format = BAMPE\\n# ChIP-seq file = [\\'../../data/chipseq_MEF2CMEF2D_degraded/bwa/mergedLibrary/MV411_RNP_MEF2D-H3K27AC_R2.mLb.clN.sorted.bam\\']\\n# control file = [\\'../../data/chipseq_MEF2CMEF2D_degraded/bwa/mergedLibrary/INPUT_R1.mLb.clN.sorted.bam\\']\\n# effective genome size = 2.70e+09\\n# band width = 300\\n# model fold = [5, 50]\\n# qvalue cutoff = 5.00e-02\\n# The maximum gap between significant sites is assigned as the read length/tag size.\\n# The minimum length of peaks is assigned as the predicted fragment length \"d\".\\n# Larger dataset will be scaled towards smaller dataset.\\n# Range for calculating regional lambda is: 1000 bps and 10000 bps\\n# Broad region calling is off\\n# Paired-End mode is on\\n \\nINFO  @ Tue, 03 Nov 2020 21:23:36: #1 read fragment files... \\nINFO  @ Tue, 03 Nov 2020 21:23:36: #1 read treatment fragments... \\nINFO  @ Tue, 03 Nov 2020 21:23:40:  1000000 \\nINFO  @ Tue, 03 Nov 2020 21:23:45:  2000000 \\nINFO  @ Tue, 03 Nov 2020 21:23:49:  3000000 \\nINFO  @ Tue, 03 Nov 2020 21:23:53:  4000000 \\nINFO  @ Tue, 03 Nov 2020 21:23:58:  5000000 \\nINFO  @ Tue, 03 Nov 2020 21:24:02:  6000000 \\nINFO  @ Tue, 03 Nov 2020 21:24:06:  7000000 \\nINFO  @ Tue, 03 Nov 2020 21:24:11:  8000000 \\nINFO  @ Tue, 03 Nov 2020 21:24:15:  9000000 \\nINFO  @ Tue, 03 Nov 2020 21:24:19:  10000000 \\nINFO  @ Tue, 03 Nov 2020 21:24:24:  11000000 \\nINFO  @ Tue, 03 Nov 2020 21:24:28:  12000000 \\nINFO  @ Tue, 03 Nov 2020 21:24:32:  13000000 \\nINFO  @ Tue, 03 Nov 2020 21:24:37:  14000000 \\nINFO  @ Tue, 03 Nov 2020 21:24:41:  15000000 \\nINFO  @ Tue, 03 Nov 2020 21:24:45:  16000000 \\nINFO  @ Tue, 03 Nov 2020 21:24:49:  17000000 \\nINFO  @ Tue, 03 Nov 2020 21:24:54:  18000000 \\nINFO  @ Tue, 03 Nov 2020 21:24:58:  19000000 \\nINFO  @ Tue, 03 Nov 2020 21:25:04:  20000000 \\nINFO  @ Tue, 03 Nov 2020 21:25:08:  21000000 \\nINFO  @ Tue, 03 Nov 2020 21:25:13:  22000000 \\nINFO  @ Tue, 03 Nov 2020 21:25:17:  23000000 \\nINFO  @ Tue, 03 Nov 2020 21:25:21:  24000000 \\nINFO  @ Tue, 03 Nov 2020 21:25:25:  25000000 \\nINFO  @ Tue, 03 Nov 2020 21:25:29:  26000000 \\nINFO  @ Tue, 03 Nov 2020 21:25:34:  27000000 \\nINFO  @ Tue, 03 Nov 2020 21:25:38:  28000000 \\nINFO  @ Tue, 03 Nov 2020 21:25:39: 28305715 fragments have been read. \\nINFO  @ Tue, 03 Nov 2020 21:25:58: #1.2 read input fragments... \\nINFO  @ Tue, 03 Nov 2020 21:26:01:  1000000 \\nINFO  @ Tue, 03 Nov 2020 21:26:05:  2000000 \\nINFO  @ Tue, 03 Nov 2020 21:26:09:  3000000 \\nINFO  @ Tue, 03 Nov 2020 21:26:13:  4000000 \\nINFO  @ Tue, 03 Nov 2020 21:26:16:  5000000 \\nINFO  @ Tue, 03 Nov 2020 21:26:20:  6000000 \\nINFO  @ Tue, 03 Nov 2020 21:26:24:  7000000 \\nINFO  @ Tue, 03 Nov 2020 21:26:28:  8000000 \\nINFO  @ Tue, 03 Nov 2020 21:26:31:  9000000 \\nINFO  @ Tue, 03 Nov 2020 21:26:35:  10000000 \\nINFO  @ Tue, 03 Nov 2020 21:26:39:  11000000 \\nINFO  @ Tue, 03 Nov 2020 21:26:42:  12000000 \\nINFO  @ Tue, 03 Nov 2020 21:26:46:  13000000 \\nINFO  @ Tue, 03 Nov 2020 21:26:50:  14000000 \\nINFO  @ Tue, 03 Nov 2020 21:26:54:  15000000 \\nINFO  @ Tue, 03 Nov 2020 21:26:57:  16000000 \\nINFO  @ Tue, 03 Nov 2020 21:27:01:  17000000 \\nINFO  @ Tue, 03 Nov 2020 21:27:05:  18000000 \\nINFO  @ Tue, 03 Nov 2020 21:27:09:  19000000 \\nINFO  @ Tue, 03 Nov 2020 21:27:12:  20000000 \\nINFO  @ Tue, 03 Nov 2020 21:27:16:  21000000 \\nINFO  @ Tue, 03 Nov 2020 21:27:20:  22000000 \\nINFO  @ Tue, 03 Nov 2020 21:27:23:  23000000 \\nINFO  @ Tue, 03 Nov 2020 21:27:27:  24000000 \\nINFO  @ Tue, 03 Nov 2020 21:27:31:  25000000 \\nINFO  @ Tue, 03 Nov 2020 21:27:34:  26000000 \\nINFO  @ Tue, 03 Nov 2020 21:27:38:  27000000 \\nINFO  @ Tue, 03 Nov 2020 21:27:42:  28000000 \\nINFO  @ Tue, 03 Nov 2020 21:27:46:  29000000 \\nINFO  @ Tue, 03 Nov 2020 21:27:49:  30000000 \\nINFO  @ Tue, 03 Nov 2020 21:27:53:  31000000 \\nINFO  @ Tue, 03 Nov 2020 21:27:57:  32000000 \\nINFO  @ Tue, 03 Nov 2020 21:28:01:  33000000 \\nINFO  @ Tue, 03 Nov 2020 21:28:04:  34000000 \\nINFO  @ Tue, 03 Nov 2020 21:28:08:  35000000 \\nINFO  @ Tue, 03 Nov 2020 21:28:12:  36000000 \\nINFO  @ Tue, 03 Nov 2020 21:28:15:  37000000 \\nINFO  @ Tue, 03 Nov 2020 21:28:19:  38000000 \\nINFO  @ Tue, 03 Nov 2020 21:28:23:  39000000 \\nINFO  @ Tue, 03 Nov 2020 21:28:26:  40000000 \\nINFO  @ Tue, 03 Nov 2020 21:28:30:  41000000 \\nINFO  @ Tue, 03 Nov 2020 21:28:34:  42000000 \\nINFO  @ Tue, 03 Nov 2020 21:28:38:  43000000 \\nINFO  @ Tue, 03 Nov 2020 21:28:42:  44000000 \\nINFO  @ Tue, 03 Nov 2020 21:28:45:  45000000 \\nINFO  @ Tue, 03 Nov 2020 21:28:49:  46000000 \\nINFO  @ Tue, 03 Nov 2020 21:28:53:  47000000 \\nINFO  @ Tue, 03 Nov 2020 21:28:56:  48000000 \\nINFO  @ Tue, 03 Nov 2020 21:29:00:  49000000 \\nINFO  @ Tue, 03 Nov 2020 21:29:04:  50000000 \\nINFO  @ Tue, 03 Nov 2020 21:29:07:  51000000 \\nINFO  @ Tue, 03 Nov 2020 21:29:11:  52000000 \\nINFO  @ Tue, 03 Nov 2020 21:29:15:  53000000 \\nINFO  @ Tue, 03 Nov 2020 21:29:18:  54000000 \\nINFO  @ Tue, 03 Nov 2020 21:29:22:  55000000 \\nINFO  @ Tue, 03 Nov 2020 21:29:26:  56000000 \\nINFO  @ Tue, 03 Nov 2020 21:29:30:  57000000 \\nINFO  @ Tue, 03 Nov 2020 21:29:34:  58000000 \\nINFO  @ Tue, 03 Nov 2020 21:29:37:  59000000 \\nINFO  @ Tue, 03 Nov 2020 21:29:41:  60000000 \\nINFO  @ Tue, 03 Nov 2020 21:29:45:  61000000 \\nINFO  @ Tue, 03 Nov 2020 21:29:49:  62000000 \\nINFO  @ Tue, 03 Nov 2020 21:29:52:  63000000 \\nINFO  @ Tue, 03 Nov 2020 21:29:56:  64000000 \\nINFO  @ Tue, 03 Nov 2020 21:30:00:  65000000 \\nINFO  @ Tue, 03 Nov 2020 21:30:04:  66000000 \\nINFO  @ Tue, 03 Nov 2020 21:30:06: 66660428 fragments have been read. \\nINFO  @ Tue, 03 Nov 2020 21:30:50: #1 mean fragment size is determined as 244.2 bp from treatment \\nINFO  @ Tue, 03 Nov 2020 21:30:50: #1 note: mean fragment size in control is 218.7 bp -- value ignored \\nINFO  @ Tue, 03 Nov 2020 21:30:50: #1 fragment size = 244.2 \\nINFO  @ Tue, 03 Nov 2020 21:30:50: #1  total fragments in treatment: 28305715 \\nINFO  @ Tue, 03 Nov 2020 21:30:50: #1 user defined the maximum fragments... \\nINFO  @ Tue, 03 Nov 2020 21:30:50: #1 filter out redundant fragments by allowing at most 1 identical fragment(s) \\nINFO  @ Tue, 03 Nov 2020 21:31:35: #1  fragments after filtering in treatment: 28301791 \\nINFO  @ Tue, 03 Nov 2020 21:31:35: #1  Redundant rate of treatment: 0.00 \\nINFO  @ Tue, 03 Nov 2020 21:31:35: #1  total fragments in control: 66660428 \\nINFO  @ Tue, 03 Nov 2020 21:31:35: #1 user defined the maximum fragments... \\nINFO  @ Tue, 03 Nov 2020 21:31:35: #1 filter out redundant fragments by allowing at most 1 identical fragment(s) \\nINFO  @ Tue, 03 Nov 2020 21:33:33: #1  fragments after filtering in control: 66632618 \\nINFO  @ Tue, 03 Nov 2020 21:33:33: #1  Redundant rate of control: 0.00 \\nINFO  @ Tue, 03 Nov 2020 21:33:33: #1 finished! \\nINFO  @ Tue, 03 Nov 2020 21:33:33: #2 Build Peak Model... \\nINFO  @ Tue, 03 Nov 2020 21:33:33: #2 Skipped... \\nINFO  @ Tue, 03 Nov 2020 21:33:33: #3 Call peaks... \\nINFO  @ Tue, 03 Nov 2020 21:33:33: #3 Pre-compute pvalue-qvalue table... \\nINFO  @ Tue, 03 Nov 2020 21:45:26: #3 In the peak calling step, the following will be performed simultaneously: \\nINFO  @ Tue, 03 Nov 2020 21:45:26: #3   Write bedGraph files for treatment pileup (after scaling if necessary)... MV411_RNP_MEF2D-H3K27AC_R2_treat_pileup.bdg \\nINFO  @ Tue, 03 Nov 2020 21:45:26: #3   Write bedGraph files for control lambda (after scaling if necessary)... MV411_RNP_MEF2D-H3K27AC_R2_control_lambda.bdg \\nINFO  @ Tue, 03 Nov 2020 21:45:26: #3   Pileup will be based on sequencing depth in treatment. \\nINFO  @ Tue, 03 Nov 2020 21:45:26: #3 Call peaks for each chromosome... \\nINFO  @ Tue, 03 Nov 2020 21:52:09: #4 Write output xls file... ../../data/chipseq_MEF2CMEF2D_degraded/diffData/MV411_RNP_MEF2D-H3K27AC_R2_peaks.xls \\nINFO  @ Tue, 03 Nov 2020 21:52:09: #4 Write peak in narrowPeak format file... ../../data/chipseq_MEF2CMEF2D_degraded/diffData/MV411_RNP_MEF2D-H3K27AC_R2_peaks.narrowPeak \\nINFO  @ Tue, 03 Nov 2020 21:52:09: #4 Write summits bed file... ../../data/chipseq_MEF2CMEF2D_degraded/diffData/MV411_RNP_MEF2D-H3K27AC_R2_summits.bed \\nINFO  @ Tue, 03 Nov 2020 21:52:09: Done! \\n'\n",
      "21657574 30108288\n",
      "doing differential peak binding\n"
     ]
    },
    {
     "name": "stdout",
     "output_type": "stream",
     "text": [
      "CompletedProcess(args='macs2 bdgdiff --t1 ../../data/chipseq_MEF2CMEF2D_degraded/diffData/MV411_RNP_AAVS1-H3K27AC_R2_treat_pileup.bdg --c1 ../../data/chipseq_MEF2CMEF2D_degraded/diffData/MV411_RNP_AAVS1-H3K27AC_R2_control_lambda.bdg --t2 ../../data/chipseq_MEF2CMEF2D_degraded/diffData/MV411_RNP_MEF2D-H3K27AC_R2_treat_pileup.bdg --c2 ../../data/chipseq_MEF2CMEF2D_degraded/diffData/MV411_RNP_MEF2D-H3K27AC_R2_control_lambda.bdg --d1 21657574 --d2 30108288 -g 60 -l 227 --o-prefix MV411_RNP_AAVS1-H3K27AC_R2_treat_pileup_vs_MV411_RNP_MEF2D-H3K27AC_R2_treat_pileup --outdir ../../data/chipseq_MEF2CMEF2D_degraded/diffPeaks/', returncode=0, stdout=b'', stderr=b'INFO  @ Tue, 03 Nov 2020 21:52:10: Read and build treatment 1 bedGraph... \\nINFO  @ Tue, 03 Nov 2020 21:52:42: Read and build control 1 bedGraph... \\nINFO  @ Tue, 03 Nov 2020 21:56:31: Read and build treatment 2 bedGraph... \\nINFO  @ Tue, 03 Nov 2020 21:57:09: Read and build control 2 bedGraph... \\nINFO  @ Tue, 03 Nov 2020 22:10:46: Write peaks... \\nINFO  @ Tue, 03 Nov 2020 22:10:46: Done \\n')\n"
     ]
    }
   ],
   "source": [
    "# diffPeak on scaled data (full reprocessing)\n",
    "for i in range(len(bams[3:])):\n",
    "    if i < 3:\n",
    "        continue\n",
    "    bam1 = bams[1+(i%2)]\n",
    "    bam2 = bams[3+i]\n",
    "    print(bam1,bam2)\n",
    "    print(chip.fullDiffPeak(bam1,bam2, control1=bams[0], scaling=[1.0, scales[2+i]], directory = \"../../data/\"+project+\"/diffData/\", res_directory = \"../../data/\"+project+\"/diffPeaks/\",pairedend=True))"
   ]
  },
  {
   "cell_type": "code",
   "execution_count": 34,
   "metadata": {},
   "outputs": [
    {
     "data": {
      "text/plain": [
       "['0.00744797',\n",
       " '0.0220745',\n",
       " '0.0229713',\n",
       " '0.0171729',\n",
       " '0.0256825',\n",
       " '0.0234905',\n",
       " '0.0205134',\n",
       " '0.0184098',\n",
       " '0.0175858']"
      ]
     },
     "execution_count": 34,
     "metadata": {},
     "output_type": "execute_result"
    }
   ],
   "source": [
    "initscales = ! cat ../../data/$project/bwa/mergedLibrary/bigwig/scale/*.txt\n",
    "initscales"
   ]
  },
  {
   "cell_type": "code",
   "execution_count": 36,
   "metadata": {},
   "outputs": [],
   "source": [
    "rescales = [val*float(initscales[1+i]) for i, val in enumerate(scales)]"
   ]
  },
  {
   "cell_type": "code",
   "execution_count": 37,
   "metadata": {
    "scrolled": true
   },
   "outputs": [
    {
     "data": {
      "text/plain": [
       "[0.0220745,\n",
       " 0.0229713,\n",
       " 0.016829442,\n",
       " 0.0277371,\n",
       " 0.01738297,\n",
       " 0.020308266000000002,\n",
       " 0.020803073999999998,\n",
       " 0.016530651999999996]"
      ]
     },
     "execution_count": 37,
     "metadata": {},
     "output_type": "execute_result"
    }
   ],
   "source": [
    "rescales"
   ]
  },
  {
   "cell_type": "code",
   "execution_count": 38,
   "metadata": {},
   "outputs": [],
   "source": [
    "chip.bigWigFrom(bams[3:], \n",
    "                genome='GRCh38',scaling=rescales[2:],\n",
    "               numthreads=8)"
   ]
  },
  {
   "cell_type": "code",
   "execution_count": 49,
   "metadata": {
    "scrolled": true
   },
   "outputs": [],
   "source": [
    "!mkdir ../../data/$project/recalib_bigwig/ \n",
    "!mv bigwig/* ../../data/$project/recalib_bigwig/"
   ]
  },
  {
   "cell_type": "code",
   "execution_count": 65,
   "metadata": {},
   "outputs": [],
   "source": [
    "!cp ../../data/$project/bwa/mergedLibrary/bigwig/*AAVS1*.bigWig ../../data/$project/recalib_bigwig/"
   ]
  },
  {
   "cell_type": "code",
   "execution_count": 40,
   "metadata": {
    "scrolled": true
   },
   "outputs": [
    {
     "data": {
      "text/plain": [
       "['47385 ../../data/chipseq_MEF2CMEF2D_degraded/diffPeaks/MV411_RNP_AAVS1-H3K27AC_R1_treat_pileup_vs_MV411_RNP_MEF2C-H3K27AC_R1_treat_pileup_c3.0_common.bed',\n",
       " '4600 ../../data/chipseq_MEF2CMEF2D_degraded/diffPeaks/MV411_RNP_AAVS1-H3K27AC_R1_treat_pileup_vs_MV411_RNP_MEF2C-H3K27AC_R1_treat_pileup_c3.0_cond1.bed',\n",
       " '1950 ../../data/chipseq_MEF2CMEF2D_degraded/diffPeaks/MV411_RNP_AAVS1-H3K27AC_R1_treat_pileup_vs_MV411_RNP_MEF2C-H3K27AC_R1_treat_pileup_c3.0_cond2.bed',\n",
       " '36892 ../../data/chipseq_MEF2CMEF2D_degraded/diffPeaks/MV411_RNP_AAVS1-H3K27AC_R1_treat_pileup_vs_MV411_RNP_MEF2C_MEF2D-H3K27AC_R1_treat_pileup_c3.0_common.bed',\n",
       " '37084 ../../data/chipseq_MEF2CMEF2D_degraded/diffPeaks/MV411_RNP_AAVS1-H3K27AC_R1_treat_pileup_vs_MV411_RNP_MEF2C_MEF2D-H3K27AC_R1_treat_pileup_c3.0_cond1.bed',\n",
       " '1595 ../../data/chipseq_MEF2CMEF2D_degraded/diffPeaks/MV411_RNP_AAVS1-H3K27AC_R1_treat_pileup_vs_MV411_RNP_MEF2C_MEF2D-H3K27AC_R1_treat_pileup_c3.0_cond2.bed',\n",
       " '48000 ../../data/chipseq_MEF2CMEF2D_degraded/diffPeaks/MV411_RNP_AAVS1-H3K27AC_R2_treat_pileup_vs_MV411_RNP_MEF2C-H3K27AC_R2_treat_pileup_c3.0_common.bed',\n",
       " '9144 ../../data/chipseq_MEF2CMEF2D_degraded/diffPeaks/MV411_RNP_AAVS1-H3K27AC_R2_treat_pileup_vs_MV411_RNP_MEF2C-H3K27AC_R2_treat_pileup_c3.0_cond1.bed',\n",
       " '3354 ../../data/chipseq_MEF2CMEF2D_degraded/diffPeaks/MV411_RNP_AAVS1-H3K27AC_R2_treat_pileup_vs_MV411_RNP_MEF2C-H3K27AC_R2_treat_pileup_c3.0_cond2.bed',\n",
       " '']"
      ]
     },
     "execution_count": 40,
     "metadata": {},
     "output_type": "execute_result"
    }
   ],
   "source": [
    "os.popen('for i in $(ls ../../data/'+project+'/diffPeaks/*.bed); \\\n",
    "            do echo $(wc -l $i); \\\n",
    "            done').read().split('\\n')"
   ]
  },
  {
   "cell_type": "code",
   "execution_count": 66,
   "metadata": {
    "scrolled": false
   },
   "outputs": [
    {
     "data": {
      "text/plain": [
       "['../../data/chipseq_MEF2CMEF2D_degraded/recalib_bigwig/MV411_RNP_AAVS1-H3K27AC_R1.bigWig',\n",
       " '../../data/chipseq_MEF2CMEF2D_degraded/recalib_bigwig/MV411_RNP_AAVS1-H3K27AC_R2.bigWig',\n",
       " '../../data/chipseq_MEF2CMEF2D_degraded/recalib_bigwig/MV411_RNP_MEF2C-H3K27AC_R1.bw',\n",
       " '../../data/chipseq_MEF2CMEF2D_degraded/recalib_bigwig/MV411_RNP_MEF2C-H3K27AC_R2.bw',\n",
       " '../../data/chipseq_MEF2CMEF2D_degraded/recalib_bigwig/MV411_RNP_MEF2C_MEF2D-H3K27AC_R1.bw',\n",
       " '../../data/chipseq_MEF2CMEF2D_degraded/recalib_bigwig/MV411_RNP_MEF2C_MEF2D-H3K27AC_R2.bw',\n",
       " '../../data/chipseq_MEF2CMEF2D_degraded/recalib_bigwig/MV411_RNP_MEF2D-H3K27AC_R1.bw',\n",
       " '../../data/chipseq_MEF2CMEF2D_degraded/recalib_bigwig/MV411_RNP_MEF2D-H3K27AC_R2.bw']"
      ]
     },
     "execution_count": 66,
     "metadata": {},
     "output_type": "execute_result"
    }
   ],
   "source": [
    "bw = ! ls ../../data/$project/recalib_bigwig/*\n",
    "bw"
   ]
  },
  {
   "cell_type": "code",
   "execution_count": 67,
   "metadata": {},
   "outputs": [
    {
     "name": "stdout",
     "output_type": "stream",
     "text": [
      "Copying file://../../data/chipseq_MEF2CMEF2D_degraded/recalib_bigwig/MV411_RNP_MEF2C_MEF2D-H3K27AC_R2.bw [Content-Type=application/octet-stream]...\n",
      "Copying file://../../data/chipseq_MEF2CMEF2D_degraded/recalib_bigwig/MV411_RNP_MEF2C-H3K27AC_R1.bw [Content-Type=application/octet-stream]...\n",
      "Copying file://../../data/chipseq_MEF2CMEF2D_degraded/recalib_bigwig/MV411_RNP_AAVS1-H3K27AC_R1.bigWig [Content-Type=application/octet-stream]...\n",
      "Copying file://../../data/chipseq_MEF2CMEF2D_degraded/recalib_bigwig/MV411_RNP_MEF2C-H3K27AC_R2.bw [Content-Type=application/octet-stream]...\n",
      "Copying file://../../data/chipseq_MEF2CMEF2D_degraded/recalib_bigwig/MV411_RNP_MEF2C_MEF2D-H3K27AC_R1.bw [Content-Type=application/octet-stream]...\n",
      "==> NOTE: You are uploading one or more large file(s), which would run\n",
      "significantly faster if you enable parallel composite uploads. This\n",
      "feature can be enabled by editing the\n",
      "\"parallel_composite_upload_threshold\" value in your .boto\n",
      "configuration file. However, note that if you do this large files will\n",
      "be uploaded as `composite objects\n",
      "<https://cloud.google.com/storage/docs/composite-objects>`_,which\n",
      "means that any user who downloads such objects will need to have a\n",
      "compiled crcmod installed (see \"gsutil help crcmod\"). This is because\n",
      "without a compiled crcmod, computing checksums on composite objects is\n",
      "so slow that gsutil disables downloads of composite objects.\n",
      "\n",
      "Copying file://../../data/chipseq_MEF2CMEF2D_degraded/recalib_bigwig/MV411_RNP_MEF2D-H3K27AC_R1.bw [Content-Type=application/octet-stream]...\n",
      "Copying file://../../data/chipseq_MEF2CMEF2D_degraded/recalib_bigwig/MV411_RNP_AAVS1-H3K27AC_R2.bigWig [Content-Type=application/octet-stream]...\n",
      "Copying file://../../data/chipseq_MEF2CMEF2D_degraded/recalib_bigwig/MV411_RNP_MEF2D-H3K27AC_R2.bw [Content-Type=application/octet-stream]...\n",
      "| [8/8 files][979.3 MiB/979.3 MiB] 100% Done                                    \n",
      "Operation completed over 8 objects/979.3 MiB.                                    \n"
     ]
    }
   ],
   "source": [
    "! gsutil -m cp -r ../../data/$project/droso_aligned gs://amlproject/Chip/$project/\n",
    "! gsutil -m cp -r ../../data/$project/recalib_bigwig gs://amlproject/Chip/$project/"
   ]
  },
  {
   "cell_type": "code",
   "execution_count": 43,
   "metadata": {},
   "outputs": [],
   "source": [
    "!mkdir ../results/$project/\n",
    "!mkdir ../results/$project/plots\n",
    "!mkdir ../results/$project/plots/heatmaps/"
   ]
  },
  {
   "cell_type": "code",
   "execution_count": null,
   "metadata": {},
   "outputs": [],
   "source": [
    "# GENOME WIDE comparison"
   ]
  },
  {
   "cell_type": "code",
   "execution_count": 57,
   "metadata": {},
   "outputs": [
    {
     "data": {
      "text/plain": [
       "['../../data/chipseq_MEF2CMEF2D_degraded/bwa/mergedLibrary/macs/broadPeak/MV411_RNP_AAVS1-H3K27AC_R1_peaks.broadPeak',\n",
       " '../../data/chipseq_MEF2CMEF2D_degraded/bwa/mergedLibrary/macs/broadPeak/MV411_RNP_AAVS1-H3K27AC_R2_peaks.broadPeak',\n",
       " '../../data/chipseq_MEF2CMEF2D_degraded/bwa/mergedLibrary/macs/broadPeak/MV411_RNP_MEF2C-H3K27AC_R1_peaks.broadPeak',\n",
       " '../../data/chipseq_MEF2CMEF2D_degraded/bwa/mergedLibrary/macs/broadPeak/MV411_RNP_MEF2C-H3K27AC_R2_peaks.broadPeak',\n",
       " '../../data/chipseq_MEF2CMEF2D_degraded/bwa/mergedLibrary/macs/broadPeak/MV411_RNP_MEF2C_MEF2D-H3K27AC_R1_peaks.broadPeak',\n",
       " '../../data/chipseq_MEF2CMEF2D_degraded/bwa/mergedLibrary/macs/broadPeak/MV411_RNP_MEF2C_MEF2D-H3K27AC_R2_peaks.broadPeak',\n",
       " '../../data/chipseq_MEF2CMEF2D_degraded/bwa/mergedLibrary/macs/broadPeak/MV411_RNP_MEF2D-H3K27AC_R1_peaks.broadPeak',\n",
       " '../../data/chipseq_MEF2CMEF2D_degraded/bwa/mergedLibrary/macs/broadPeak/MV411_RNP_MEF2D-H3K27AC_R2_peaks.broadPeak']"
      ]
     },
     "execution_count": 57,
     "metadata": {},
     "output_type": "execute_result"
    }
   ],
   "source": [
    "peaks = ! ls ../../data/$project/bwa/mergedLibrary/macs/broadPeak/*.broadPeak\n",
    "peaks"
   ]
  },
  {
   "cell_type": "code",
   "execution_count": 69,
   "metadata": {},
   "outputs": [],
   "source": [
    "names = [\"AAVS1\", \"AAVS1_v2\", \"MEF2C\",\"MEF2C_v2\",\"MEF2C-MEF2D\",\"MEF2C-MEF2D_v2\", \"MEF2D\",\"MEF2D_v2\"]"
   ]
  },
  {
   "cell_type": "code",
   "execution_count": 58,
   "metadata": {
    "scrolled": true
   },
   "outputs": [
    {
     "name": "stdout",
     "output_type": "stream",
     "text": [
      "AAVS1\n",
      "CompletedProcess(args='computeMatrix reference-point -S ../../data/chipseq_MEF2CMEF2D_degraded/recalib_bigwig/MV411_RNP_MEF2C-H3K27AC_R1.bw  --referencePoint center --regionsFileName ../../data/chipseq_MEF2CMEF2D_degraded/bwa/mergedLibrary/macs/broadPeak/MV411_RNP_AAVS1-H3K27AC_R1_peaks.broadPeak --missingDataAsZero --outFileName ../../data/chipseq_MEF2CMEF2D_degraded/peakplot/AAVS1_mat.gz --upstream 3000 --downstream 3000 --numberOfProcessors 8 && plotHeatmap --matrixFile ../../data/chipseq_MEF2CMEF2D_degraded/peakplot/AAVS1_mat.gz --outFileName ../../data/chipseq_MEF2CMEF2D_degraded/peakplot/AAVS1_mat.pdf --refPointLabel center -max 2.5 --legendLocation lower-left --regionsLabel Macs2_Peaks --plotTitle AAVS1', returncode=0, stdout=b'', stderr=b'')\n",
      "AAVS1_v2\n",
      "CompletedProcess(args='computeMatrix reference-point -S ../../data/chipseq_MEF2CMEF2D_degraded/recalib_bigwig/MV411_RNP_MEF2C-H3K27AC_R2.bw  --referencePoint center --regionsFileName ../../data/chipseq_MEF2CMEF2D_degraded/bwa/mergedLibrary/macs/broadPeak/MV411_RNP_AAVS1-H3K27AC_R2_peaks.broadPeak --missingDataAsZero --outFileName ../../data/chipseq_MEF2CMEF2D_degraded/peakplot/AAVS1_v2_mat.gz --upstream 3000 --downstream 3000 --numberOfProcessors 8 && plotHeatmap --matrixFile ../../data/chipseq_MEF2CMEF2D_degraded/peakplot/AAVS1_v2_mat.gz --outFileName ../../data/chipseq_MEF2CMEF2D_degraded/peakplot/AAVS1_v2_mat.pdf --refPointLabel center -max 2.5 --legendLocation lower-left --regionsLabel Macs2_Peaks --plotTitle AAVS1_v2', returncode=0, stdout=b'', stderr=b'')\n",
      "MEF2C\n",
      "CompletedProcess(args='computeMatrix reference-point -S ../../data/chipseq_MEF2CMEF2D_degraded/recalib_bigwig/MV411_RNP_MEF2C_MEF2D-H3K27AC_R1.bw  --referencePoint center --regionsFileName ../../data/chipseq_MEF2CMEF2D_degraded/bwa/mergedLibrary/macs/broadPeak/MV411_RNP_MEF2C-H3K27AC_R1_peaks.broadPeak --missingDataAsZero --outFileName ../../data/chipseq_MEF2CMEF2D_degraded/peakplot/MEF2C_mat.gz --upstream 3000 --downstream 3000 --numberOfProcessors 8 && plotHeatmap --matrixFile ../../data/chipseq_MEF2CMEF2D_degraded/peakplot/MEF2C_mat.gz --outFileName ../../data/chipseq_MEF2CMEF2D_degraded/peakplot/MEF2C_mat.pdf --refPointLabel center -max 2.5 --legendLocation lower-left --regionsLabel Macs2_Peaks --plotTitle MEF2C', returncode=0, stdout=b'', stderr=b'')\n",
      "MEF2C_v2\n",
      "CompletedProcess(args='computeMatrix reference-point -S ../../data/chipseq_MEF2CMEF2D_degraded/recalib_bigwig/MV411_RNP_MEF2C_MEF2D-H3K27AC_R2.bw  --referencePoint center --regionsFileName ../../data/chipseq_MEF2CMEF2D_degraded/bwa/mergedLibrary/macs/broadPeak/MV411_RNP_MEF2C-H3K27AC_R2_peaks.broadPeak --missingDataAsZero --outFileName ../../data/chipseq_MEF2CMEF2D_degraded/peakplot/MEF2C_v2_mat.gz --upstream 3000 --downstream 3000 --numberOfProcessors 8 && plotHeatmap --matrixFile ../../data/chipseq_MEF2CMEF2D_degraded/peakplot/MEF2C_v2_mat.gz --outFileName ../../data/chipseq_MEF2CMEF2D_degraded/peakplot/MEF2C_v2_mat.pdf --refPointLabel center -max 2.5 --legendLocation lower-left --regionsLabel Macs2_Peaks --plotTitle MEF2C_v2', returncode=0, stdout=b'', stderr=b'')\n",
      "MEF2C-MEF2D\n",
      "CompletedProcess(args='computeMatrix reference-point -S ../../data/chipseq_MEF2CMEF2D_degraded/recalib_bigwig/MV411_RNP_MEF2D-H3K27AC_R1.bw  --referencePoint center --regionsFileName ../../data/chipseq_MEF2CMEF2D_degraded/bwa/mergedLibrary/macs/broadPeak/MV411_RNP_MEF2C_MEF2D-H3K27AC_R1_peaks.broadPeak --missingDataAsZero --outFileName ../../data/chipseq_MEF2CMEF2D_degraded/peakplot/MEF2C-MEF2D_mat.gz --upstream 3000 --downstream 3000 --numberOfProcessors 8 && plotHeatmap --matrixFile ../../data/chipseq_MEF2CMEF2D_degraded/peakplot/MEF2C-MEF2D_mat.gz --outFileName ../../data/chipseq_MEF2CMEF2D_degraded/peakplot/MEF2C-MEF2D_mat.pdf --refPointLabel center -max 2.5 --legendLocation lower-left --regionsLabel Macs2_Peaks --plotTitle MEF2C-MEF2D', returncode=0, stdout=b'', stderr=b'')\n",
      "MEF2C-MEF2D_v2\n",
      "CompletedProcess(args='computeMatrix reference-point -S ../../data/chipseq_MEF2CMEF2D_degraded/recalib_bigwig/MV411_RNP_MEF2D-H3K27AC_R2.bw  --referencePoint center --regionsFileName ../../data/chipseq_MEF2CMEF2D_degraded/bwa/mergedLibrary/macs/broadPeak/MV411_RNP_MEF2C_MEF2D-H3K27AC_R2_peaks.broadPeak --missingDataAsZero --outFileName ../../data/chipseq_MEF2CMEF2D_degraded/peakplot/MEF2C-MEF2D_v2_mat.gz --upstream 3000 --downstream 3000 --numberOfProcessors 8 && plotHeatmap --matrixFile ../../data/chipseq_MEF2CMEF2D_degraded/peakplot/MEF2C-MEF2D_v2_mat.gz --outFileName ../../data/chipseq_MEF2CMEF2D_degraded/peakplot/MEF2C-MEF2D_v2_mat.pdf --refPointLabel center -max 2.5 --legendLocation lower-left --regionsLabel Macs2_Peaks --plotTitle MEF2C-MEF2D_v2', returncode=0, stdout=b'', stderr=b'')\n"
     ]
    }
   ],
   "source": [
    "for i, val in enumerate(bw):\n",
    "    if i <0:\n",
    "        continue\n",
    "    name = names[i]\n",
    "    print(name)\n",
    "    chip.getPeaksAt(peaks[i], bigwigs = val, bigwignames= name, peaknames=['Macs2_Peaks'], window=3000, folder=\"\", title=name, numthreads=8, refpoint=\"center\", name='../../data/'+project+'/peakplot/'+name+'_mat.pdf', withDeeptools=True, torecompute=True, vmax=2.5, legendLoc=\"lower-left\")"
   ]
  },
  {
   "cell_type": "code",
   "execution_count": 61,
   "metadata": {},
   "outputs": [],
   "source": [
    "h.createFoldersFor('../results/'+project+'/plots/scaled/heatmaps/')"
   ]
  },
  {
   "cell_type": "code",
   "execution_count": 62,
   "metadata": {},
   "outputs": [],
   "source": [
    "! cp ../../data/$project/peakplot/*.pdf ../results/$project/plots/scaled/heatmaps/"
   ]
  },
  {
   "cell_type": "code",
   "execution_count": 75,
   "metadata": {
    "scrolled": true
   },
   "outputs": [
    {
     "data": {
      "text/plain": [
       "['../../data/chipseq_MEF2CMEF2D_degraded/diffPeaks/MV411_RNP_AAVS1-H3K27AC_R1_treat_pileup_vs_MV411_RNP_MEF2C-H3K27AC_R1_treat_pileup_c3.0_cond1.bed',\n",
       " '../../data/chipseq_MEF2CMEF2D_degraded/diffPeaks/MV411_RNP_AAVS1-H3K27AC_R1_treat_pileup_vs_MV411_RNP_MEF2C_MEF2D-H3K27AC_R1_treat_pileup_c3.0_cond1.bed',\n",
       " '../../data/chipseq_MEF2CMEF2D_degraded/diffPeaks/MV411_RNP_AAVS1-H3K27AC_R1_treat_pileup_vs_MV411_RNP_MEF2D-H3K27AC_R1_treat_pileup_c3.0_cond1.bed',\n",
       " '../../data/chipseq_MEF2CMEF2D_degraded/diffPeaks/MV411_RNP_AAVS1-H3K27AC_R2_treat_pileup_vs_MV411_RNP_MEF2C-H3K27AC_R2_treat_pileup_c3.0_cond1.bed',\n",
       " '../../data/chipseq_MEF2CMEF2D_degraded/diffPeaks/MV411_RNP_AAVS1-H3K27AC_R2_treat_pileup_vs_MV411_RNP_MEF2C_MEF2D-H3K27AC_R2_treat_pileup_c3.0_cond1.bed',\n",
       " '../../data/chipseq_MEF2CMEF2D_degraded/diffPeaks/MV411_RNP_AAVS1-H3K27AC_R2_treat_pileup_vs_MV411_RNP_MEF2D-H3K27AC_R2_treat_pileup_c3.0_cond1.bed']"
      ]
     },
     "execution_count": 75,
     "metadata": {},
     "output_type": "execute_result"
    }
   ],
   "source": [
    "cond1peak = ! ls ../../data/$project/diffPeaks/*cond1.bed\n",
    "cond2peak = ! ls ../../data/$project/diffPeaks/*cond2.bed\n",
    "commonpeak = ! ls ../../data/$project/diffPeaks/*common.bed\n",
    "cond1peak"
   ]
  },
  {
   "cell_type": "code",
   "execution_count": 82,
   "metadata": {
    "scrolled": true
   },
   "outputs": [
    {
     "name": "stdout",
     "output_type": "stream",
     "text": [
      "MEF2C_v2 ../../data/chipseq_MEF2CMEF2D_degraded/recalib_bigwig/MV411_RNP_AAVS1-H3K27AC_R2.bigWig ../../data/chipseq_MEF2CMEF2D_degraded/recalib_bigwig/MV411_RNP_MEF2C-H3K27AC_R2.bw 3\n",
      "CompletedProcess(args='plotHeatmap --matrixFile ../../data/chipseq_MEF2CMEF2D_degraded/diffPeaks/MEF2C_v2_mat.gz --outFileName ../../data/chipseq_MEF2CMEF2D_degraded/diffPeaks/MEF2C_v2_mat.pdf --refPointLabel center --regionsLabel DMSO_peaks common VHL_peaks --plotTitle MEF2C_v2', returncode=0, stdout=b'', stderr=b'')\n",
      "MEF2C-MEF2D ../../data/chipseq_MEF2CMEF2D_degraded/recalib_bigwig/MV411_RNP_AAVS1-H3K27AC_R1.bigWig ../../data/chipseq_MEF2CMEF2D_degraded/recalib_bigwig/MV411_RNP_MEF2C_MEF2D-H3K27AC_R1.bw 1\n",
      "CompletedProcess(args='plotHeatmap --matrixFile ../../data/chipseq_MEF2CMEF2D_degraded/diffPeaks/MEF2C-MEF2D_mat.gz --outFileName ../../data/chipseq_MEF2CMEF2D_degraded/diffPeaks/MEF2C-MEF2D_mat.pdf --refPointLabel center --regionsLabel DMSO_peaks common VHL_peaks --plotTitle MEF2C-MEF2D', returncode=0, stdout=b'', stderr=b'')\n",
      "MEF2C-MEF2D_v2 ../../data/chipseq_MEF2CMEF2D_degraded/recalib_bigwig/MV411_RNP_AAVS1-H3K27AC_R2.bigWig ../../data/chipseq_MEF2CMEF2D_degraded/recalib_bigwig/MV411_RNP_MEF2C_MEF2D-H3K27AC_R2.bw 4\n",
      "CompletedProcess(args='plotHeatmap --matrixFile ../../data/chipseq_MEF2CMEF2D_degraded/diffPeaks/MEF2C-MEF2D_v2_mat.gz --outFileName ../../data/chipseq_MEF2CMEF2D_degraded/diffPeaks/MEF2C-MEF2D_v2_mat.pdf --refPointLabel center --regionsLabel DMSO_peaks common VHL_peaks --plotTitle MEF2C-MEF2D_v2', returncode=0, stdout=b'', stderr=b'')\n",
      "MEF2D ../../data/chipseq_MEF2CMEF2D_degraded/recalib_bigwig/MV411_RNP_AAVS1-H3K27AC_R1.bigWig ../../data/chipseq_MEF2CMEF2D_degraded/recalib_bigwig/MV411_RNP_MEF2D-H3K27AC_R1.bw 2\n",
      "CompletedProcess(args='computeMatrix reference-point -S ../../data/chipseq_MEF2CMEF2D_degraded/recalib_bigwig/MV411_RNP_AAVS1-H3K27AC_R1.bigWig ../../data/chipseq_MEF2CMEF2D_degraded/recalib_bigwig/MV411_RNP_MEF2D-H3K27AC_R1.bw  --referencePoint center --regionsFileName ../../data/chipseq_MEF2CMEF2D_degraded/diffPeaks/MV411_RNP_AAVS1-H3K27AC_R1_treat_pileup_vs_MV411_RNP_MEF2D-H3K27AC_R1_treat_pileup_c3.0_cond1.bed ../../data/chipseq_MEF2CMEF2D_degraded/diffPeaks/MV411_RNP_AAVS1-H3K27AC_R1_treat_pileup_vs_MV411_RNP_MEF2D-H3K27AC_R1_treat_pileup_c3.0_common.bed ../../data/chipseq_MEF2CMEF2D_degraded/diffPeaks/MV411_RNP_AAVS1-H3K27AC_R1_treat_pileup_vs_MV411_RNP_MEF2D-H3K27AC_R1_treat_pileup_c3.0_cond2.bed --missingDataAsZero --outFileName ../../data/chipseq_MEF2CMEF2D_degraded/diffPeaks/MEF2D_mat.gz --upstream 3000 --downstream 3000 --numberOfProcessors 7 && plotHeatmap --matrixFile ../../data/chipseq_MEF2CMEF2D_degraded/diffPeaks/MEF2D_mat.gz --outFileName ../../data/chipseq_MEF2CMEF2D_degraded/diffPeaks/MEF2D_mat.pdf --refPointLabel center --regionsLabel DMSO_peaks common VHL_peaks --plotTitle MEF2D', returncode=0, stdout=b'', stderr=b'\\nThe following chromosome names did not match between the bigwig files\\nchromosome\\tlength\\nchrUn_KI270387v1\\t      1537\\nchrUn_KI270336v1\\t      1026\\nchrUn_KI270392v1\\t       971\\nchrUn_KI270379v1\\t      1045\\nchrUn_KI270338v1\\t      1428\\nchrUn_KI270386v1\\t      1788\\nchrUn_KI270374v1\\t      2656\\nchrUn_KI270375v1\\t      2378\\nchrUn_KI270371v1\\t      2805\\nchrUn_KI270395v1\\t      1143\\nchrUn_KI270317v1\\t     37690\\nchrUn_KI270752v1\\t     27745\\nchrUn_KI270394v1\\t       970\\nchrUn_KI270381v1\\t      1930\\nchrUn_KI270337v1\\t      1121\\nchrUn_KI270373v1\\t      1451\\nchrUn_KI270548v1\\t      1599\\nchrUn_KI270412v1\\t      1179\\n         chrEBV\\t    171823\\nchrUn_KI270396v1\\t      1880\\nchrUn_KI270425v1\\t      1884\\nchrUn_KI270334v1\\t      1368\\nchrUn_KI270530v1\\t      2168\\nchrUn_KI270333v1\\t      2699\\nchrUn_KI270376v1\\t      1136\\nchrUn_KI270329v1\\t      1040\\nchrUn_KI270335v1\\t      1048\\nchrUn_KI270378v1\\t      1048\\nchrUn_KI270385v1\\t       990\\nchrUn_KI270424v1\\t      2140\\nchrUn_KI270305v1\\t      1472\\nchrUn_KI270372v1\\t      1650\\nchrUn_KI270390v1\\t      2387\\nchrUn_KI270316v1\\t      1444\\nchrUn_KI270393v1\\t      1308\\nchrUn_KI270312v1\\t       998\\nchrUn_KI270340v1\\t      1428\\nchrUn_KI270423v1\\t       981\\n')\n",
      "MEF2D_v2 ../../data/chipseq_MEF2CMEF2D_degraded/recalib_bigwig/MV411_RNP_AAVS1-H3K27AC_R2.bigWig ../../data/chipseq_MEF2CMEF2D_degraded/recalib_bigwig/MV411_RNP_MEF2D-H3K27AC_R2.bw 5\n",
      "CompletedProcess(args='computeMatrix reference-point -S ../../data/chipseq_MEF2CMEF2D_degraded/recalib_bigwig/MV411_RNP_AAVS1-H3K27AC_R2.bigWig ../../data/chipseq_MEF2CMEF2D_degraded/recalib_bigwig/MV411_RNP_MEF2D-H3K27AC_R2.bw  --referencePoint center --regionsFileName ../../data/chipseq_MEF2CMEF2D_degraded/diffPeaks/MV411_RNP_AAVS1-H3K27AC_R2_treat_pileup_vs_MV411_RNP_MEF2D-H3K27AC_R2_treat_pileup_c3.0_cond1.bed ../../data/chipseq_MEF2CMEF2D_degraded/diffPeaks/MV411_RNP_AAVS1-H3K27AC_R2_treat_pileup_vs_MV411_RNP_MEF2D-H3K27AC_R2_treat_pileup_c3.0_common.bed ../../data/chipseq_MEF2CMEF2D_degraded/diffPeaks/MV411_RNP_AAVS1-H3K27AC_R2_treat_pileup_vs_MV411_RNP_MEF2D-H3K27AC_R2_treat_pileup_c3.0_cond2.bed --missingDataAsZero --outFileName ../../data/chipseq_MEF2CMEF2D_degraded/diffPeaks/MEF2D_v2_mat.gz --upstream 3000 --downstream 3000 --numberOfProcessors 7 && plotHeatmap --matrixFile ../../data/chipseq_MEF2CMEF2D_degraded/diffPeaks/MEF2D_v2_mat.gz --outFileName ../../data/chipseq_MEF2CMEF2D_degraded/diffPeaks/MEF2D_v2_mat.pdf --refPointLabel center --regionsLabel DMSO_peaks common VHL_peaks --plotTitle MEF2D_v2', returncode=0, stdout=b'', stderr=b'\\nThe following chromosome names did not match between the bigwig files\\nchromosome\\tlength\\nchrUn_KI270414v1\\t      2489\\nchrUn_KI270528v1\\t      2983\\nchrUn_KI270372v1\\t      1650\\nchrUn_KI270374v1\\t      2656\\nchrUn_KI270315v1\\t      2276\\nchrUn_KI270423v1\\t       981\\nchrUn_KI270387v1\\t      1537\\nchrUn_KI270429v1\\t      1361\\nchrUn_KI270425v1\\t      1884\\nchrUn_KI270379v1\\t      1045\\nchrUn_KI270383v1\\t      1750\\nchrUn_KI270548v1\\t      1599\\nchrUn_KI270376v1\\t      1136\\nchrUn_KI270579v1\\t     31033\\nchrUn_KI270375v1\\t      2378\\nchrUn_KI270390v1\\t      2387\\nchrUn_KI270417v1\\t      2043\\nchrUn_KI270393v1\\t      1308\\nchrUn_KI270424v1\\t      2140\\nchrUn_KI270389v1\\t      1298\\nchrUn_KI270335v1\\t      1048\\nchrUn_KI270381v1\\t      1930\\nchrUn_KI270302v1\\t      2274\\nchrUn_KI270388v1\\t      1216\\nchrUn_KI270334v1\\t      1368\\nchrUn_KI270378v1\\t      1048\\nchrUn_KI270333v1\\t      2699\\nchrUn_KI270386v1\\t      1788\\nchrUn_KI270466v1\\t      1233\\nchrUn_KI270336v1\\t      1026\\nchrUn_KI270752v1\\t     27745\\nchrUn_KI270419v1\\t      1029\\nchrUn_KI270392v1\\t       971\\nchrUn_KI270384v1\\t      1658\\nchrUn_KI270373v1\\t      1451\\nchrUn_KI270317v1\\t     37690\\nchrUn_KI270338v1\\t      1428\\nchrUn_KI270340v1\\t      1428\\nchrUn_KI270530v1\\t      2168\\nchrUn_KI270329v1\\t      1040\\nchrUn_KI270337v1\\t      1121\\nchrUn_KI270364v1\\t      2855\\nchrUn_KI270422v1\\t      1445\\nchrUn_KI270385v1\\t       990\\n')\n"
     ]
    }
   ],
   "source": [
    "for i in range(int(len(bw[2:]))):\n",
    "    if i <1:\n",
    "        continue\n",
    "    name1 = bw[i%2]\n",
    "    name2 = bw[i+2]\n",
    "    a = int(i/2)+3 if i%2 else int(i/2)\n",
    "    peak = [cond1peak[a], commonpeak[a], cond2peak[a]]\n",
    "   # for val in peak:\n",
    "      #  chip.dropWeirdChromosomes(val)\n",
    "    name = names[i+2]\n",
    "    print(name,name1,name2,a)\n",
    "    chip.getPeaksAt(peak, [name1, name2], bigwignames=['DMSO', 'VHL'], peaknames=['DMSO_peaks', 'common', 'VHL_peaks'], window=3000, folder=\"\", title=name, numthreads=7, refpoint=\"center\", name='../../data/'+project+'/diffPeaks/'+name+'_mat.pdf', withDeeptools=True, torecompute=False)"
   ]
  },
  {
   "cell_type": "code",
   "execution_count": 83,
   "metadata": {},
   "outputs": [],
   "source": [
    "! mkdir ../results/$project/plots/scaled/diffPeaks/\n",
    "! cp ../../data/$project/diffPeaks/*.pdf ../results/$project/plots/scaled/diffPeaks/"
   ]
  },
  {
   "cell_type": "markdown",
   "metadata": {},
   "source": [
    "### on unscalled data"
   ]
  },
  {
   "cell_type": "code",
   "execution_count": 85,
   "metadata": {},
   "outputs": [
    {
     "data": {
      "text/plain": [
       "['../../data/chipseq_MEF2CMEF2D_degraded/bwa/mergedLibrary/INPUT_R1.mLb.clN.sorted.bam',\n",
       " '../../data/chipseq_MEF2CMEF2D_degraded/bwa/mergedLibrary/MV411_RNP_AAVS1-H3K27AC_R1.mLb.clN.sorted.bam',\n",
       " '../../data/chipseq_MEF2CMEF2D_degraded/bwa/mergedLibrary/MV411_RNP_AAVS1-H3K27AC_R2.mLb.clN.sorted.bam',\n",
       " '../../data/chipseq_MEF2CMEF2D_degraded/bwa/mergedLibrary/MV411_RNP_MEF2C-H3K27AC_R1.mLb.clN.sorted.bam',\n",
       " '../../data/chipseq_MEF2CMEF2D_degraded/bwa/mergedLibrary/MV411_RNP_MEF2C-H3K27AC_R2.mLb.clN.sorted.bam',\n",
       " '../../data/chipseq_MEF2CMEF2D_degraded/bwa/mergedLibrary/MV411_RNP_MEF2C_MEF2D-H3K27AC_R1.mLb.clN.sorted.bam',\n",
       " '../../data/chipseq_MEF2CMEF2D_degraded/bwa/mergedLibrary/MV411_RNP_MEF2C_MEF2D-H3K27AC_R2.mLb.clN.sorted.bam',\n",
       " '../../data/chipseq_MEF2CMEF2D_degraded/bwa/mergedLibrary/MV411_RNP_MEF2D-H3K27AC_R1.mLb.clN.sorted.bam',\n",
       " '../../data/chipseq_MEF2CMEF2D_degraded/bwa/mergedLibrary/MV411_RNP_MEF2D-H3K27AC_R2.mLb.clN.sorted.bam']"
      ]
     },
     "execution_count": 85,
     "metadata": {},
     "output_type": "execute_result"
    }
   ],
   "source": [
    "bams = ! ls ../../data/$project/bwa/mergedLibrary/*.bam\n",
    "bams"
   ]
  },
  {
   "cell_type": "code",
   "execution_count": 86,
   "metadata": {},
   "outputs": [],
   "source": [
    "! mkdir ../../data/$project/diffPeaks_unscaled"
   ]
  },
  {
   "cell_type": "code",
   "execution_count": 89,
   "metadata": {},
   "outputs": [
    {
     "name": "stdout",
     "output_type": "stream",
     "text": [
      "../../data/chipseq_MEF2CMEF2D_degraded/bwa/mergedLibrary/MV411_RNP_AAVS1-H3K27AC_R1.mLb.clN.sorted.bam ../../data/chipseq_MEF2CMEF2D_degraded/bwa/mergedLibrary/MV411_RNP_MEF2D-H3K27AC_R1.mLb.clN.sorted.bam\n",
      "doing diff from ../../data/chipseq_MEF2CMEF2D_degraded/bwa/mergedLibrary/MV411_RNP_AAVS1-H3K27AC_R1.mLb.clN.sorted.bam and ../../data/chipseq_MEF2CMEF2D_degraded/bwa/mergedLibrary/MV411_RNP_MEF2D-H3K27AC_R1.mLb.clN.sorted.bam\n",
      "computing the fragment avg size\n",
      "232\n",
      "computing the scaling values\n",
      "b'INFO  @ Thu, 05 Nov 2020 15:10:13: \\n# Command line: callpeak -B -t ../../data/chipseq_MEF2CMEF2D_degraded/bwa/mergedLibrary/MV411_RNP_AAVS1-H3K27AC_R1.mLb.clN.sorted.bam -c ../../data/chipseq_MEF2CMEF2D_degraded/bwa/mergedLibrary/INPUT_R1.mLb.clN.sorted.bam --nomodel --extsize 232 -n MV411_RNP_AAVS1-H3K27AC_R1 --outdir ../../data/chipseq_MEF2CMEF2D_degraded/diffData_unscaled/ -f BAM\\n# ARGUMENTS LIST:\\n# name = MV411_RNP_AAVS1-H3K27AC_R1\\n# format = BAM\\n# ChIP-seq file = [\\'../../data/chipseq_MEF2CMEF2D_degraded/bwa/mergedLibrary/MV411_RNP_AAVS1-H3K27AC_R1.mLb.clN.sorted.bam\\']\\n# control file = [\\'../../data/chipseq_MEF2CMEF2D_degraded/bwa/mergedLibrary/INPUT_R1.mLb.clN.sorted.bam\\']\\n# effective genome size = 2.70e+09\\n# band width = 300\\n# model fold = [5, 50]\\n# qvalue cutoff = 5.00e-02\\n# The maximum gap between significant sites is assigned as the read length/tag size.\\n# The minimum length of peaks is assigned as the predicted fragment length \"d\".\\n# Larger dataset will be scaled towards smaller dataset.\\n# Range for calculating regional lambda is: 1000 bps and 10000 bps\\n# Broad region calling is off\\n# Paired-End mode is off\\n \\nINFO  @ Thu, 05 Nov 2020 15:10:13: #1 read tag files... \\nINFO  @ Thu, 05 Nov 2020 15:10:13: #1 read treatment tags... \\nINFO  @ Thu, 05 Nov 2020 15:10:17:  1000000 \\nINFO  @ Thu, 05 Nov 2020 15:10:21:  2000000 \\nINFO  @ Thu, 05 Nov 2020 15:10:25:  3000000 \\nINFO  @ Thu, 05 Nov 2020 15:10:29:  4000000 \\nINFO  @ Thu, 05 Nov 2020 15:10:33:  5000000 \\nINFO  @ Thu, 05 Nov 2020 15:10:38:  6000000 \\nINFO  @ Thu, 05 Nov 2020 15:10:42:  7000000 \\nINFO  @ Thu, 05 Nov 2020 15:10:46:  8000000 \\nINFO  @ Thu, 05 Nov 2020 15:10:50:  9000000 \\nINFO  @ Thu, 05 Nov 2020 15:10:54:  10000000 \\nINFO  @ Thu, 05 Nov 2020 15:10:58:  11000000 \\nINFO  @ Thu, 05 Nov 2020 15:11:02:  12000000 \\nINFO  @ Thu, 05 Nov 2020 15:11:07:  13000000 \\nINFO  @ Thu, 05 Nov 2020 15:11:11:  14000000 \\nINFO  @ Thu, 05 Nov 2020 15:11:15:  15000000 \\nINFO  @ Thu, 05 Nov 2020 15:11:19:  16000000 \\nINFO  @ Thu, 05 Nov 2020 15:11:23:  17000000 \\nINFO  @ Thu, 05 Nov 2020 15:11:27:  18000000 \\nINFO  @ Thu, 05 Nov 2020 15:11:31:  19000000 \\nINFO  @ Thu, 05 Nov 2020 15:11:35:  20000000 \\nINFO  @ Thu, 05 Nov 2020 15:11:39:  21000000 \\nINFO  @ Thu, 05 Nov 2020 15:11:44:  22000000 \\nINFO  @ Thu, 05 Nov 2020 15:11:46: 22555000 reads have been read. \\nINFO  @ Thu, 05 Nov 2020 15:11:47: #1.2 read input tags... \\nINFO  @ Thu, 05 Nov 2020 15:11:50:  1000000 \\nINFO  @ Thu, 05 Nov 2020 15:11:54:  2000000 \\nINFO  @ Thu, 05 Nov 2020 15:11:58:  3000000 \\nINFO  @ Thu, 05 Nov 2020 15:12:01:  4000000 \\nINFO  @ Thu, 05 Nov 2020 15:12:05:  5000000 \\nINFO  @ Thu, 05 Nov 2020 15:12:09:  6000000 \\nINFO  @ Thu, 05 Nov 2020 15:12:12:  7000000 \\nINFO  @ Thu, 05 Nov 2020 15:12:16:  8000000 \\nINFO  @ Thu, 05 Nov 2020 15:12:20:  9000000 \\nINFO  @ Thu, 05 Nov 2020 15:12:23:  10000000 \\nINFO  @ Thu, 05 Nov 2020 15:12:27:  11000000 \\nINFO  @ Thu, 05 Nov 2020 15:12:30:  12000000 \\nINFO  @ Thu, 05 Nov 2020 15:12:34:  13000000 \\nINFO  @ Thu, 05 Nov 2020 15:12:38:  14000000 \\nINFO  @ Thu, 05 Nov 2020 15:12:41:  15000000 \\nINFO  @ Thu, 05 Nov 2020 15:12:45:  16000000 \\nINFO  @ Thu, 05 Nov 2020 15:12:49:  17000000 \\nINFO  @ Thu, 05 Nov 2020 15:12:52:  18000000 \\nINFO  @ Thu, 05 Nov 2020 15:12:56:  19000000 \\nINFO  @ Thu, 05 Nov 2020 15:12:59:  20000000 \\nINFO  @ Thu, 05 Nov 2020 15:13:03:  21000000 \\nINFO  @ Thu, 05 Nov 2020 15:13:07:  22000000 \\nINFO  @ Thu, 05 Nov 2020 15:13:10:  23000000 \\nINFO  @ Thu, 05 Nov 2020 15:13:14:  24000000 \\nINFO  @ Thu, 05 Nov 2020 15:13:18:  25000000 \\nINFO  @ Thu, 05 Nov 2020 15:13:21:  26000000 \\nINFO  @ Thu, 05 Nov 2020 15:13:25:  27000000 \\nINFO  @ Thu, 05 Nov 2020 15:13:28:  28000000 \\nINFO  @ Thu, 05 Nov 2020 15:13:32:  29000000 \\nINFO  @ Thu, 05 Nov 2020 15:13:36:  30000000 \\nINFO  @ Thu, 05 Nov 2020 15:13:39:  31000000 \\nINFO  @ Thu, 05 Nov 2020 15:13:43:  32000000 \\nINFO  @ Thu, 05 Nov 2020 15:13:47:  33000000 \\nINFO  @ Thu, 05 Nov 2020 15:13:50:  34000000 \\nINFO  @ Thu, 05 Nov 2020 15:13:54:  35000000 \\nINFO  @ Thu, 05 Nov 2020 15:13:58:  36000000 \\nINFO  @ Thu, 05 Nov 2020 15:14:01:  37000000 \\nINFO  @ Thu, 05 Nov 2020 15:14:05:  38000000 \\nINFO  @ Thu, 05 Nov 2020 15:14:08:  39000000 \\nINFO  @ Thu, 05 Nov 2020 15:14:12:  40000000 \\nINFO  @ Thu, 05 Nov 2020 15:14:16:  41000000 \\nINFO  @ Thu, 05 Nov 2020 15:14:20:  42000000 \\nINFO  @ Thu, 05 Nov 2020 15:14:23:  43000000 \\nINFO  @ Thu, 05 Nov 2020 15:14:27:  44000000 \\nINFO  @ Thu, 05 Nov 2020 15:14:31:  45000000 \\nINFO  @ Thu, 05 Nov 2020 15:14:35:  46000000 \\nINFO  @ Thu, 05 Nov 2020 15:14:38:  47000000 \\nINFO  @ Thu, 05 Nov 2020 15:14:42:  48000000 \\nINFO  @ Thu, 05 Nov 2020 15:14:46:  49000000 \\nINFO  @ Thu, 05 Nov 2020 15:14:49:  50000000 \\nINFO  @ Thu, 05 Nov 2020 15:14:53:  51000000 \\nINFO  @ Thu, 05 Nov 2020 15:14:57:  52000000 \\nINFO  @ Thu, 05 Nov 2020 15:15:01:  53000000 \\nINFO  @ Thu, 05 Nov 2020 15:15:04:  54000000 \\nINFO  @ Thu, 05 Nov 2020 15:15:08:  55000000 \\nINFO  @ Thu, 05 Nov 2020 15:15:12:  56000000 \\nINFO  @ Thu, 05 Nov 2020 15:15:15:  57000000 \\nINFO  @ Thu, 05 Nov 2020 15:15:19:  58000000 \\nINFO  @ Thu, 05 Nov 2020 15:15:23:  59000000 \\nINFO  @ Thu, 05 Nov 2020 15:15:26:  60000000 \\nINFO  @ Thu, 05 Nov 2020 15:15:30:  61000000 \\nINFO  @ Thu, 05 Nov 2020 15:15:34:  62000000 \\nINFO  @ Thu, 05 Nov 2020 15:15:38:  63000000 \\nINFO  @ Thu, 05 Nov 2020 15:15:41:  64000000 \\nINFO  @ Thu, 05 Nov 2020 15:15:45:  65000000 \\nINFO  @ Thu, 05 Nov 2020 15:15:49:  66000000 \\nINFO  @ Thu, 05 Nov 2020 15:15:52: 66660428 reads have been read. \\nINFO  @ Thu, 05 Nov 2020 15:15:52: #1 tag size is determined as 99 bps \\nINFO  @ Thu, 05 Nov 2020 15:15:52: #1 tag size = 99.0 \\nINFO  @ Thu, 05 Nov 2020 15:15:52: #1  total tags in treatment: 22555000 \\nINFO  @ Thu, 05 Nov 2020 15:15:52: #1 user defined the maximum tags... \\nINFO  @ Thu, 05 Nov 2020 15:15:52: #1 filter out redundant tags at the same location and the same strand by allowing at most 1 tag(s) \\nINFO  @ Thu, 05 Nov 2020 15:15:52: #1  tags after filtering in treatment: 20393585 \\nINFO  @ Thu, 05 Nov 2020 15:15:52: #1  Redundant rate of treatment: 0.10 \\nINFO  @ Thu, 05 Nov 2020 15:15:52: #1  total tags in control: 66660428 \\nINFO  @ Thu, 05 Nov 2020 15:15:52: #1 user defined the maximum tags... \\nINFO  @ Thu, 05 Nov 2020 15:15:52: #1 filter out redundant tags at the same location and the same strand by allowing at most 1 tag(s) \\nINFO  @ Thu, 05 Nov 2020 15:15:53: #1  tags after filtering in control: 65724989 \\nINFO  @ Thu, 05 Nov 2020 15:15:53: #1  Redundant rate of control: 0.01 \\nINFO  @ Thu, 05 Nov 2020 15:15:53: #1 finished! \\nINFO  @ Thu, 05 Nov 2020 15:15:53: #2 Build Peak Model... \\nINFO  @ Thu, 05 Nov 2020 15:15:53: #2 Skipped... \\nINFO  @ Thu, 05 Nov 2020 15:15:53: #2 Use 232 as fragment length \\nINFO  @ Thu, 05 Nov 2020 15:15:53: #3 Call peaks... \\nINFO  @ Thu, 05 Nov 2020 15:15:53: #3 Pre-compute pvalue-qvalue table... \\nINFO  @ Thu, 05 Nov 2020 15:20:46: #3 In the peak calling step, the following will be performed simultaneously: \\nINFO  @ Thu, 05 Nov 2020 15:20:46: #3   Write bedGraph files for treatment pileup (after scaling if necessary)... MV411_RNP_AAVS1-H3K27AC_R1_treat_pileup.bdg \\nINFO  @ Thu, 05 Nov 2020 15:20:46: #3   Write bedGraph files for control lambda (after scaling if necessary)... MV411_RNP_AAVS1-H3K27AC_R1_control_lambda.bdg \\nINFO  @ Thu, 05 Nov 2020 15:20:46: #3   Pileup will be based on sequencing depth in treatment. \\nINFO  @ Thu, 05 Nov 2020 15:20:46: #3 Call peaks for each chromosome... \\nINFO  @ Thu, 05 Nov 2020 15:24:38: #4 Write output xls file... ../../data/chipseq_MEF2CMEF2D_degraded/diffData_unscaled/MV411_RNP_AAVS1-H3K27AC_R1_peaks.xls \\nINFO  @ Thu, 05 Nov 2020 15:24:39: #4 Write peak in narrowPeak format file... ../../data/chipseq_MEF2CMEF2D_degraded/diffData_unscaled/MV411_RNP_AAVS1-H3K27AC_R1_peaks.narrowPeak \\nINFO  @ Thu, 05 Nov 2020 15:24:39: #4 Write summits bed file... ../../data/chipseq_MEF2CMEF2D_degraded/diffData_unscaled/MV411_RNP_AAVS1-H3K27AC_R1_summits.bed \\nINFO  @ Thu, 05 Nov 2020 15:24:39: Done! \\n'\n"
     ]
    },
    {
     "name": "stdout",
     "output_type": "stream",
     "text": [
      "b'INFO  @ Thu, 05 Nov 2020 15:24:39: \\n# Command line: callpeak -B -t ../../data/chipseq_MEF2CMEF2D_degraded/bwa/mergedLibrary/MV411_RNP_MEF2D-H3K27AC_R1.mLb.clN.sorted.bam -c ../../data/chipseq_MEF2CMEF2D_degraded/bwa/mergedLibrary/INPUT_R1.mLb.clN.sorted.bam --nomodel --extsize 232 -n MV411_RNP_MEF2D-H3K27AC_R1 --outdir ../../data/chipseq_MEF2CMEF2D_degraded/diffData_unscaled/ -f BAM\\n# ARGUMENTS LIST:\\n# name = MV411_RNP_MEF2D-H3K27AC_R1\\n# format = BAM\\n# ChIP-seq file = [\\'../../data/chipseq_MEF2CMEF2D_degraded/bwa/mergedLibrary/MV411_RNP_MEF2D-H3K27AC_R1.mLb.clN.sorted.bam\\']\\n# control file = [\\'../../data/chipseq_MEF2CMEF2D_degraded/bwa/mergedLibrary/INPUT_R1.mLb.clN.sorted.bam\\']\\n# effective genome size = 2.70e+09\\n# band width = 300\\n# model fold = [5, 50]\\n# qvalue cutoff = 5.00e-02\\n# The maximum gap between significant sites is assigned as the read length/tag size.\\n# The minimum length of peaks is assigned as the predicted fragment length \"d\".\\n# Larger dataset will be scaled towards smaller dataset.\\n# Range for calculating regional lambda is: 1000 bps and 10000 bps\\n# Broad region calling is off\\n# Paired-End mode is off\\n \\nINFO  @ Thu, 05 Nov 2020 15:24:39: #1 read tag files... \\nINFO  @ Thu, 05 Nov 2020 15:24:39: #1 read treatment tags... \\nINFO  @ Thu, 05 Nov 2020 15:24:44:  1000000 \\nINFO  @ Thu, 05 Nov 2020 15:24:48:  2000000 \\nINFO  @ Thu, 05 Nov 2020 15:24:52:  3000000 \\nINFO  @ Thu, 05 Nov 2020 15:24:57:  4000000 \\nINFO  @ Thu, 05 Nov 2020 15:25:01:  5000000 \\nINFO  @ Thu, 05 Nov 2020 15:25:05:  6000000 \\nINFO  @ Thu, 05 Nov 2020 15:25:10:  7000000 \\nINFO  @ Thu, 05 Nov 2020 15:25:14:  8000000 \\nINFO  @ Thu, 05 Nov 2020 15:25:19:  9000000 \\nINFO  @ Thu, 05 Nov 2020 15:25:23:  10000000 \\nINFO  @ Thu, 05 Nov 2020 15:25:27:  11000000 \\nINFO  @ Thu, 05 Nov 2020 15:25:32:  12000000 \\nINFO  @ Thu, 05 Nov 2020 15:25:36:  13000000 \\nINFO  @ Thu, 05 Nov 2020 15:25:40:  14000000 \\nINFO  @ Thu, 05 Nov 2020 15:25:45:  15000000 \\nINFO  @ Thu, 05 Nov 2020 15:25:49:  16000000 \\nINFO  @ Thu, 05 Nov 2020 15:25:53:  17000000 \\nINFO  @ Thu, 05 Nov 2020 15:25:58:  18000000 \\nINFO  @ Thu, 05 Nov 2020 15:26:02:  19000000 \\nINFO  @ Thu, 05 Nov 2020 15:26:06:  20000000 \\nINFO  @ Thu, 05 Nov 2020 15:26:11:  21000000 \\nINFO  @ Thu, 05 Nov 2020 15:26:16:  22000000 \\nINFO  @ Thu, 05 Nov 2020 15:26:20:  23000000 \\nINFO  @ Thu, 05 Nov 2020 15:26:24:  24000000 \\nINFO  @ Thu, 05 Nov 2020 15:26:28:  25000000 \\nINFO  @ Thu, 05 Nov 2020 15:26:33:  26000000 \\nINFO  @ Thu, 05 Nov 2020 15:26:37:  27000000 \\nINFO  @ Thu, 05 Nov 2020 15:26:37: 27026324 reads have been read. \\nINFO  @ Thu, 05 Nov 2020 15:26:38: #1.2 read input tags... \\nINFO  @ Thu, 05 Nov 2020 15:26:41:  1000000 \\nINFO  @ Thu, 05 Nov 2020 15:26:45:  2000000 \\nINFO  @ Thu, 05 Nov 2020 15:26:49:  3000000 \\nINFO  @ Thu, 05 Nov 2020 15:26:52:  4000000 \\nINFO  @ Thu, 05 Nov 2020 15:26:56:  5000000 \\nINFO  @ Thu, 05 Nov 2020 15:27:00:  6000000 \\nINFO  @ Thu, 05 Nov 2020 15:27:03:  7000000 \\nINFO  @ Thu, 05 Nov 2020 15:27:07:  8000000 \\nINFO  @ Thu, 05 Nov 2020 15:27:10:  9000000 \\nINFO  @ Thu, 05 Nov 2020 15:27:14:  10000000 \\nINFO  @ Thu, 05 Nov 2020 15:27:18:  11000000 \\nINFO  @ Thu, 05 Nov 2020 15:27:21:  12000000 \\nINFO  @ Thu, 05 Nov 2020 15:27:25:  13000000 \\nINFO  @ Thu, 05 Nov 2020 15:27:29:  14000000 \\nINFO  @ Thu, 05 Nov 2020 15:27:32:  15000000 \\nINFO  @ Thu, 05 Nov 2020 15:27:36:  16000000 \\nINFO  @ Thu, 05 Nov 2020 15:27:39:  17000000 \\nINFO  @ Thu, 05 Nov 2020 15:27:43:  18000000 \\nINFO  @ Thu, 05 Nov 2020 15:27:47:  19000000 \\nINFO  @ Thu, 05 Nov 2020 15:27:50:  20000000 \\nINFO  @ Thu, 05 Nov 2020 15:27:54:  21000000 \\nINFO  @ Thu, 05 Nov 2020 15:27:57:  22000000 \\nINFO  @ Thu, 05 Nov 2020 15:28:01:  23000000 \\nINFO  @ Thu, 05 Nov 2020 15:28:05:  24000000 \\nINFO  @ Thu, 05 Nov 2020 15:28:08:  25000000 \\nINFO  @ Thu, 05 Nov 2020 15:28:12:  26000000 \\nINFO  @ Thu, 05 Nov 2020 15:28:16:  27000000 \\nINFO  @ Thu, 05 Nov 2020 15:28:19:  28000000 \\nINFO  @ Thu, 05 Nov 2020 15:28:23:  29000000 \\nINFO  @ Thu, 05 Nov 2020 15:28:27:  30000000 \\nINFO  @ Thu, 05 Nov 2020 15:28:30:  31000000 \\nINFO  @ Thu, 05 Nov 2020 15:28:34:  32000000 \\nINFO  @ Thu, 05 Nov 2020 15:28:38:  33000000 \\nINFO  @ Thu, 05 Nov 2020 15:28:41:  34000000 \\nINFO  @ Thu, 05 Nov 2020 15:28:45:  35000000 \\nINFO  @ Thu, 05 Nov 2020 15:28:48:  36000000 \\nINFO  @ Thu, 05 Nov 2020 15:28:52:  37000000 \\nINFO  @ Thu, 05 Nov 2020 15:28:55:  38000000 \\nINFO  @ Thu, 05 Nov 2020 15:28:59:  39000000 \\nINFO  @ Thu, 05 Nov 2020 15:29:03:  40000000 \\nINFO  @ Thu, 05 Nov 2020 15:29:06:  41000000 \\nINFO  @ Thu, 05 Nov 2020 15:29:10:  42000000 \\nINFO  @ Thu, 05 Nov 2020 15:29:14:  43000000 \\nINFO  @ Thu, 05 Nov 2020 15:29:17:  44000000 \\nINFO  @ Thu, 05 Nov 2020 15:29:21:  45000000 \\nINFO  @ Thu, 05 Nov 2020 15:29:25:  46000000 \\nINFO  @ Thu, 05 Nov 2020 15:29:28:  47000000 \\nINFO  @ Thu, 05 Nov 2020 15:29:32:  48000000 \\nINFO  @ Thu, 05 Nov 2020 15:29:35:  49000000 \\nINFO  @ Thu, 05 Nov 2020 15:29:39:  50000000 \\nINFO  @ Thu, 05 Nov 2020 15:29:43:  51000000 \\nINFO  @ Thu, 05 Nov 2020 15:29:46:  52000000 \\nINFO  @ Thu, 05 Nov 2020 15:29:50:  53000000 \\nINFO  @ Thu, 05 Nov 2020 15:29:54:  54000000 \\nINFO  @ Thu, 05 Nov 2020 15:29:57:  55000000 \\nINFO  @ Thu, 05 Nov 2020 15:30:01:  56000000 \\nINFO  @ Thu, 05 Nov 2020 15:30:05:  57000000 \\nINFO  @ Thu, 05 Nov 2020 15:30:08:  58000000 \\nINFO  @ Thu, 05 Nov 2020 15:30:12:  59000000 \\nINFO  @ Thu, 05 Nov 2020 15:30:16:  60000000 \\nINFO  @ Thu, 05 Nov 2020 15:30:19:  61000000 \\nINFO  @ Thu, 05 Nov 2020 15:30:23:  62000000 \\nINFO  @ Thu, 05 Nov 2020 15:30:27:  63000000 \\nINFO  @ Thu, 05 Nov 2020 15:30:30:  64000000 \\nINFO  @ Thu, 05 Nov 2020 15:30:34:  65000000 \\nINFO  @ Thu, 05 Nov 2020 15:30:38:  66000000 \\nINFO  @ Thu, 05 Nov 2020 15:30:40: 66660428 reads have been read. \\nINFO  @ Thu, 05 Nov 2020 15:30:41: #1 tag size is determined as 99 bps \\nINFO  @ Thu, 05 Nov 2020 15:30:41: #1 tag size = 99.0 \\nINFO  @ Thu, 05 Nov 2020 15:30:41: #1  total tags in treatment: 27026324 \\nINFO  @ Thu, 05 Nov 2020 15:30:41: #1 user defined the maximum tags... \\nINFO  @ Thu, 05 Nov 2020 15:30:41: #1 filter out redundant tags at the same location and the same strand by allowing at most 1 tag(s) \\nINFO  @ Thu, 05 Nov 2020 15:30:41: #1  tags after filtering in treatment: 24302833 \\nINFO  @ Thu, 05 Nov 2020 15:30:41: #1  Redundant rate of treatment: 0.10 \\nINFO  @ Thu, 05 Nov 2020 15:30:41: #1  total tags in control: 66660428 \\nINFO  @ Thu, 05 Nov 2020 15:30:41: #1 user defined the maximum tags... \\nINFO  @ Thu, 05 Nov 2020 15:30:41: #1 filter out redundant tags at the same location and the same strand by allowing at most 1 tag(s) \\nINFO  @ Thu, 05 Nov 2020 15:30:41: #1  tags after filtering in control: 65724989 \\nINFO  @ Thu, 05 Nov 2020 15:30:41: #1  Redundant rate of control: 0.01 \\nINFO  @ Thu, 05 Nov 2020 15:30:41: #1 finished! \\nINFO  @ Thu, 05 Nov 2020 15:30:41: #2 Build Peak Model... \\nINFO  @ Thu, 05 Nov 2020 15:30:41: #2 Skipped... \\nINFO  @ Thu, 05 Nov 2020 15:30:41: #2 Use 232 as fragment length \\nINFO  @ Thu, 05 Nov 2020 15:30:41: #3 Call peaks... \\nINFO  @ Thu, 05 Nov 2020 15:30:41: #3 Pre-compute pvalue-qvalue table... \\nINFO  @ Thu, 05 Nov 2020 15:35:27: #3 In the peak calling step, the following will be performed simultaneously: \\nINFO  @ Thu, 05 Nov 2020 15:35:27: #3   Write bedGraph files for treatment pileup (after scaling if necessary)... MV411_RNP_MEF2D-H3K27AC_R1_treat_pileup.bdg \\nINFO  @ Thu, 05 Nov 2020 15:35:27: #3   Write bedGraph files for control lambda (after scaling if necessary)... MV411_RNP_MEF2D-H3K27AC_R1_control_lambda.bdg \\nINFO  @ Thu, 05 Nov 2020 15:35:27: #3   Pileup will be based on sequencing depth in treatment. \\nINFO  @ Thu, 05 Nov 2020 15:35:27: #3 Call peaks for each chromosome... \\nINFO  @ Thu, 05 Nov 2020 15:39:26: #4 Write output xls file... ../../data/chipseq_MEF2CMEF2D_degraded/diffData_unscaled/MV411_RNP_MEF2D-H3K27AC_R1_peaks.xls \\nINFO  @ Thu, 05 Nov 2020 15:39:26: #4 Write peak in narrowPeak format file... ../../data/chipseq_MEF2CMEF2D_degraded/diffData_unscaled/MV411_RNP_MEF2D-H3K27AC_R1_peaks.narrowPeak \\nINFO  @ Thu, 05 Nov 2020 15:39:27: #4 Write summits bed file... ../../data/chipseq_MEF2CMEF2D_degraded/diffData_unscaled/MV411_RNP_MEF2D-H3K27AC_R1_summits.bed \\nINFO  @ Thu, 05 Nov 2020 15:39:27: Done! \\n'\n",
      "20393585 24302833\n",
      "doing differential peak binding\n"
     ]
    },
    {
     "name": "stdout",
     "output_type": "stream",
     "text": [
      "../../data/chipseq_MEF2CMEF2D_degraded/bwa/mergedLibrary/MV411_RNP_AAVS1-H3K27AC_R2.mLb.clN.sorted.bam ../../data/chipseq_MEF2CMEF2D_degraded/bwa/mergedLibrary/MV411_RNP_MEF2D-H3K27AC_R2.mLb.clN.sorted.bam\n",
      "doing diff from ../../data/chipseq_MEF2CMEF2D_degraded/bwa/mergedLibrary/MV411_RNP_AAVS1-H3K27AC_R2.mLb.clN.sorted.bam and ../../data/chipseq_MEF2CMEF2D_degraded/bwa/mergedLibrary/MV411_RNP_MEF2D-H3K27AC_R2.mLb.clN.sorted.bam\n",
      "computing the fragment avg size\n",
      "227\n",
      "computing the scaling values\n",
      "b'INFO  @ Thu, 05 Nov 2020 15:52:27: \\n# Command line: callpeak -B -t ../../data/chipseq_MEF2CMEF2D_degraded/bwa/mergedLibrary/MV411_RNP_AAVS1-H3K27AC_R2.mLb.clN.sorted.bam -c ../../data/chipseq_MEF2CMEF2D_degraded/bwa/mergedLibrary/INPUT_R1.mLb.clN.sorted.bam --nomodel --extsize 227 -n MV411_RNP_AAVS1-H3K27AC_R2 --outdir ../../data/chipseq_MEF2CMEF2D_degraded/diffData_unscaled/ -f BAM\\n# ARGUMENTS LIST:\\n# name = MV411_RNP_AAVS1-H3K27AC_R2\\n# format = BAM\\n# ChIP-seq file = [\\'../../data/chipseq_MEF2CMEF2D_degraded/bwa/mergedLibrary/MV411_RNP_AAVS1-H3K27AC_R2.mLb.clN.sorted.bam\\']\\n# control file = [\\'../../data/chipseq_MEF2CMEF2D_degraded/bwa/mergedLibrary/INPUT_R1.mLb.clN.sorted.bam\\']\\n# effective genome size = 2.70e+09\\n# band width = 300\\n# model fold = [5, 50]\\n# qvalue cutoff = 5.00e-02\\n# The maximum gap between significant sites is assigned as the read length/tag size.\\n# The minimum length of peaks is assigned as the predicted fragment length \"d\".\\n# Larger dataset will be scaled towards smaller dataset.\\n# Range for calculating regional lambda is: 1000 bps and 10000 bps\\n# Broad region calling is off\\n# Paired-End mode is off\\n \\nINFO  @ Thu, 05 Nov 2020 15:52:27: #1 read tag files... \\nINFO  @ Thu, 05 Nov 2020 15:52:27: #1 read treatment tags... \\nINFO  @ Thu, 05 Nov 2020 15:52:32:  1000000 \\nINFO  @ Thu, 05 Nov 2020 15:52:37:  2000000 \\nINFO  @ Thu, 05 Nov 2020 15:52:41:  3000000 \\nINFO  @ Thu, 05 Nov 2020 15:52:46:  4000000 \\nINFO  @ Thu, 05 Nov 2020 15:52:50:  5000000 \\nINFO  @ Thu, 05 Nov 2020 15:52:55:  6000000 \\nINFO  @ Thu, 05 Nov 2020 15:52:59:  7000000 \\nINFO  @ Thu, 05 Nov 2020 15:53:04:  8000000 \\nINFO  @ Thu, 05 Nov 2020 15:53:08:  9000000 \\nINFO  @ Thu, 05 Nov 2020 15:53:13:  10000000 \\nINFO  @ Thu, 05 Nov 2020 15:53:18:  11000000 \\nINFO  @ Thu, 05 Nov 2020 15:53:22:  12000000 \\nINFO  @ Thu, 05 Nov 2020 15:53:26:  13000000 \\nINFO  @ Thu, 05 Nov 2020 15:53:31:  14000000 \\nINFO  @ Thu, 05 Nov 2020 15:53:35:  15000000 \\nINFO  @ Thu, 05 Nov 2020 15:53:40:  16000000 \\nINFO  @ Thu, 05 Nov 2020 15:53:44:  17000000 \\nINFO  @ Thu, 05 Nov 2020 15:53:49:  18000000 \\nINFO  @ Thu, 05 Nov 2020 15:53:53:  19000000 \\nINFO  @ Thu, 05 Nov 2020 15:53:57:  20000000 \\nINFO  @ Thu, 05 Nov 2020 15:54:03:  21000000 \\nINFO  @ Thu, 05 Nov 2020 15:54:06: 21660876 reads have been read. \\nINFO  @ Thu, 05 Nov 2020 15:54:06: #1.2 read input tags... \\nINFO  @ Thu, 05 Nov 2020 15:54:10:  1000000 \\nINFO  @ Thu, 05 Nov 2020 15:54:14:  2000000 \\nINFO  @ Thu, 05 Nov 2020 15:54:18:  3000000 \\nINFO  @ Thu, 05 Nov 2020 15:54:22:  4000000 \\nINFO  @ Thu, 05 Nov 2020 15:54:26:  5000000 \\nINFO  @ Thu, 05 Nov 2020 15:54:30:  6000000 \\nINFO  @ Thu, 05 Nov 2020 15:54:33:  7000000 \\nINFO  @ Thu, 05 Nov 2020 15:54:37:  8000000 \\nINFO  @ Thu, 05 Nov 2020 15:54:41:  9000000 \\nINFO  @ Thu, 05 Nov 2020 15:54:45:  10000000 \\nINFO  @ Thu, 05 Nov 2020 15:54:49:  11000000 \\nINFO  @ Thu, 05 Nov 2020 15:54:52:  12000000 \\nINFO  @ Thu, 05 Nov 2020 15:54:56:  13000000 \\nINFO  @ Thu, 05 Nov 2020 15:55:00:  14000000 \\nINFO  @ Thu, 05 Nov 2020 15:55:04:  15000000 \\nINFO  @ Thu, 05 Nov 2020 15:55:08:  16000000 \\nINFO  @ Thu, 05 Nov 2020 15:55:12:  17000000 \\nINFO  @ Thu, 05 Nov 2020 15:55:15:  18000000 \\nINFO  @ Thu, 05 Nov 2020 15:55:19:  19000000 \\nINFO  @ Thu, 05 Nov 2020 15:55:23:  20000000 \\nINFO  @ Thu, 05 Nov 2020 15:55:27:  21000000 \\nINFO  @ Thu, 05 Nov 2020 15:55:31:  22000000 \\nINFO  @ Thu, 05 Nov 2020 15:55:35:  23000000 \\nINFO  @ Thu, 05 Nov 2020 15:55:39:  24000000 \\nINFO  @ Thu, 05 Nov 2020 15:55:42:  25000000 \\nINFO  @ Thu, 05 Nov 2020 15:55:46:  26000000 \\nINFO  @ Thu, 05 Nov 2020 15:55:50:  27000000 \\nINFO  @ Thu, 05 Nov 2020 15:55:54:  28000000 \\nINFO  @ Thu, 05 Nov 2020 15:55:58:  29000000 \\nINFO  @ Thu, 05 Nov 2020 15:56:01:  30000000 \\nINFO  @ Thu, 05 Nov 2020 15:56:05:  31000000 \\nINFO  @ Thu, 05 Nov 2020 15:56:10:  32000000 \\nINFO  @ Thu, 05 Nov 2020 15:56:14:  33000000 \\nINFO  @ Thu, 05 Nov 2020 15:56:17:  34000000 \\nINFO  @ Thu, 05 Nov 2020 15:56:21:  35000000 \\nINFO  @ Thu, 05 Nov 2020 15:56:25:  36000000 \\nINFO  @ Thu, 05 Nov 2020 15:56:29:  37000000 \\nINFO  @ Thu, 05 Nov 2020 15:56:33:  38000000 \\nINFO  @ Thu, 05 Nov 2020 15:56:36:  39000000 \\nINFO  @ Thu, 05 Nov 2020 15:56:40:  40000000 \\nINFO  @ Thu, 05 Nov 2020 15:56:44:  41000000 \\nINFO  @ Thu, 05 Nov 2020 15:56:48:  42000000 \\nINFO  @ Thu, 05 Nov 2020 15:56:52:  43000000 \\nINFO  @ Thu, 05 Nov 2020 15:56:56:  44000000 \\nINFO  @ Thu, 05 Nov 2020 15:57:00:  45000000 \\nINFO  @ Thu, 05 Nov 2020 15:57:04:  46000000 \\nINFO  @ Thu, 05 Nov 2020 15:57:08:  47000000 \\nINFO  @ Thu, 05 Nov 2020 15:57:12:  48000000 \\nINFO  @ Thu, 05 Nov 2020 15:57:16:  49000000 \\nINFO  @ Thu, 05 Nov 2020 15:57:19:  50000000 \\nINFO  @ Thu, 05 Nov 2020 15:57:23:  51000000 \\nINFO  @ Thu, 05 Nov 2020 15:57:27:  52000000 \\nINFO  @ Thu, 05 Nov 2020 15:57:31:  53000000 \\nINFO  @ Thu, 05 Nov 2020 15:57:35:  54000000 \\nINFO  @ Thu, 05 Nov 2020 15:57:39:  55000000 \\nINFO  @ Thu, 05 Nov 2020 15:57:43:  56000000 \\nINFO  @ Thu, 05 Nov 2020 15:57:47:  57000000 \\nINFO  @ Thu, 05 Nov 2020 15:57:51:  58000000 \\nINFO  @ Thu, 05 Nov 2020 15:57:55:  59000000 \\nINFO  @ Thu, 05 Nov 2020 15:57:59:  60000000 \\nINFO  @ Thu, 05 Nov 2020 15:58:03:  61000000 \\nINFO  @ Thu, 05 Nov 2020 15:58:07:  62000000 \\nINFO  @ Thu, 05 Nov 2020 15:58:11:  63000000 \\nINFO  @ Thu, 05 Nov 2020 15:58:15:  64000000 \\nINFO  @ Thu, 05 Nov 2020 15:58:19:  65000000 \\nINFO  @ Thu, 05 Nov 2020 15:58:23:  66000000 \\nINFO  @ Thu, 05 Nov 2020 15:58:25: 66660428 reads have been read. \\nINFO  @ Thu, 05 Nov 2020 15:58:26: #1 tag size is determined as 99 bps \\nINFO  @ Thu, 05 Nov 2020 15:58:26: #1 tag size = 99.0 \\nINFO  @ Thu, 05 Nov 2020 15:58:26: #1  total tags in treatment: 21660876 \\nINFO  @ Thu, 05 Nov 2020 15:58:26: #1 user defined the maximum tags... \\nINFO  @ Thu, 05 Nov 2020 15:58:26: #1 filter out redundant tags at the same location and the same strand by allowing at most 1 tag(s) \\nINFO  @ Thu, 05 Nov 2020 15:58:26: #1  tags after filtering in treatment: 19303884 \\nINFO  @ Thu, 05 Nov 2020 15:58:26: #1  Redundant rate of treatment: 0.11 \\nINFO  @ Thu, 05 Nov 2020 15:58:26: #1  total tags in control: 66660428 \\nINFO  @ Thu, 05 Nov 2020 15:58:26: #1 user defined the maximum tags... \\nINFO  @ Thu, 05 Nov 2020 15:58:26: #1 filter out redundant tags at the same location and the same strand by allowing at most 1 tag(s) \\nINFO  @ Thu, 05 Nov 2020 15:58:27: #1  tags after filtering in control: 65724989 \\nINFO  @ Thu, 05 Nov 2020 15:58:27: #1  Redundant rate of control: 0.01 \\nINFO  @ Thu, 05 Nov 2020 15:58:27: #1 finished! \\nINFO  @ Thu, 05 Nov 2020 15:58:27: #2 Build Peak Model... \\nINFO  @ Thu, 05 Nov 2020 15:58:27: #2 Skipped... \\nINFO  @ Thu, 05 Nov 2020 15:58:27: #2 Use 227 as fragment length \\nINFO  @ Thu, 05 Nov 2020 15:58:27: #3 Call peaks... \\nINFO  @ Thu, 05 Nov 2020 15:58:27: #3 Pre-compute pvalue-qvalue table... \\nINFO  @ Thu, 05 Nov 2020 16:03:45: #3 In the peak calling step, the following will be performed simultaneously: \\nINFO  @ Thu, 05 Nov 2020 16:03:45: #3   Write bedGraph files for treatment pileup (after scaling if necessary)... MV411_RNP_AAVS1-H3K27AC_R2_treat_pileup.bdg \\nINFO  @ Thu, 05 Nov 2020 16:03:45: #3   Write bedGraph files for control lambda (after scaling if necessary)... MV411_RNP_AAVS1-H3K27AC_R2_control_lambda.bdg \\nINFO  @ Thu, 05 Nov 2020 16:03:45: #3   Pileup will be based on sequencing depth in treatment. \\nINFO  @ Thu, 05 Nov 2020 16:03:45: #3 Call peaks for each chromosome... \\nINFO  @ Thu, 05 Nov 2020 16:08:07: #4 Write output xls file... ../../data/chipseq_MEF2CMEF2D_degraded/diffData_unscaled/MV411_RNP_AAVS1-H3K27AC_R2_peaks.xls \\nINFO  @ Thu, 05 Nov 2020 16:08:07: #4 Write peak in narrowPeak format file... ../../data/chipseq_MEF2CMEF2D_degraded/diffData_unscaled/MV411_RNP_AAVS1-H3K27AC_R2_peaks.narrowPeak \\nINFO  @ Thu, 05 Nov 2020 16:08:07: #4 Write summits bed file... ../../data/chipseq_MEF2CMEF2D_degraded/diffData_unscaled/MV411_RNP_AAVS1-H3K27AC_R2_summits.bed \\nINFO  @ Thu, 05 Nov 2020 16:08:07: Done! \\n'\n"
     ]
    },
    {
     "name": "stdout",
     "output_type": "stream",
     "text": [
      "b'INFO  @ Thu, 05 Nov 2020 16:08:08: \\n# Command line: callpeak -B -t ../../data/chipseq_MEF2CMEF2D_degraded/bwa/mergedLibrary/MV411_RNP_MEF2D-H3K27AC_R2.mLb.clN.sorted.bam -c ../../data/chipseq_MEF2CMEF2D_degraded/bwa/mergedLibrary/INPUT_R1.mLb.clN.sorted.bam --nomodel --extsize 227 -n MV411_RNP_MEF2D-H3K27AC_R2 --outdir ../../data/chipseq_MEF2CMEF2D_degraded/diffData_unscaled/ -f BAM\\n# ARGUMENTS LIST:\\n# name = MV411_RNP_MEF2D-H3K27AC_R2\\n# format = BAM\\n# ChIP-seq file = [\\'../../data/chipseq_MEF2CMEF2D_degraded/bwa/mergedLibrary/MV411_RNP_MEF2D-H3K27AC_R2.mLb.clN.sorted.bam\\']\\n# control file = [\\'../../data/chipseq_MEF2CMEF2D_degraded/bwa/mergedLibrary/INPUT_R1.mLb.clN.sorted.bam\\']\\n# effective genome size = 2.70e+09\\n# band width = 300\\n# model fold = [5, 50]\\n# qvalue cutoff = 5.00e-02\\n# The maximum gap between significant sites is assigned as the read length/tag size.\\n# The minimum length of peaks is assigned as the predicted fragment length \"d\".\\n# Larger dataset will be scaled towards smaller dataset.\\n# Range for calculating regional lambda is: 1000 bps and 10000 bps\\n# Broad region calling is off\\n# Paired-End mode is off\\n \\nINFO  @ Thu, 05 Nov 2020 16:08:08: #1 read tag files... \\nINFO  @ Thu, 05 Nov 2020 16:08:08: #1 read treatment tags... \\nINFO  @ Thu, 05 Nov 2020 16:08:13:  1000000 \\nINFO  @ Thu, 05 Nov 2020 16:08:18:  2000000 \\nINFO  @ Thu, 05 Nov 2020 16:08:22:  3000000 \\nINFO  @ Thu, 05 Nov 2020 16:08:27:  4000000 \\nINFO  @ Thu, 05 Nov 2020 16:08:32:  5000000 \\nINFO  @ Thu, 05 Nov 2020 16:08:36:  6000000 \\nINFO  @ Thu, 05 Nov 2020 16:08:41:  7000000 \\nINFO  @ Thu, 05 Nov 2020 16:08:46:  8000000 \\nINFO  @ Thu, 05 Nov 2020 16:08:51:  9000000 \\nINFO  @ Thu, 05 Nov 2020 16:08:55:  10000000 \\nINFO  @ Thu, 05 Nov 2020 16:09:00:  11000000 \\nINFO  @ Thu, 05 Nov 2020 16:09:05:  12000000 \\nINFO  @ Thu, 05 Nov 2020 16:09:09:  13000000 \\nINFO  @ Thu, 05 Nov 2020 16:09:14:  14000000 \\nINFO  @ Thu, 05 Nov 2020 16:09:19:  15000000 \\nINFO  @ Thu, 05 Nov 2020 16:09:24:  16000000 \\nINFO  @ Thu, 05 Nov 2020 16:09:28:  17000000 \\nINFO  @ Thu, 05 Nov 2020 16:09:33:  18000000 \\nINFO  @ Thu, 05 Nov 2020 16:09:38:  19000000 \\nINFO  @ Thu, 05 Nov 2020 16:09:43:  20000000 \\nINFO  @ Thu, 05 Nov 2020 16:09:48:  21000000 \\nINFO  @ Thu, 05 Nov 2020 16:09:52:  22000000 \\nINFO  @ Thu, 05 Nov 2020 16:09:57:  23000000 \\nINFO  @ Thu, 05 Nov 2020 16:10:02:  24000000 \\nINFO  @ Thu, 05 Nov 2020 16:10:06:  25000000 \\nINFO  @ Thu, 05 Nov 2020 16:10:11:  26000000 \\nINFO  @ Thu, 05 Nov 2020 16:10:16:  27000000 \\nINFO  @ Thu, 05 Nov 2020 16:10:20:  28000000 \\nINFO  @ Thu, 05 Nov 2020 16:10:22: 28305715 reads have been read. \\nINFO  @ Thu, 05 Nov 2020 16:10:22: #1.2 read input tags... \\nINFO  @ Thu, 05 Nov 2020 16:10:26:  1000000 \\nINFO  @ Thu, 05 Nov 2020 16:10:30:  2000000 \\nINFO  @ Thu, 05 Nov 2020 16:10:34:  3000000 \\nINFO  @ Thu, 05 Nov 2020 16:10:38:  4000000 \\nINFO  @ Thu, 05 Nov 2020 16:10:42:  5000000 \\nINFO  @ Thu, 05 Nov 2020 16:10:46:  6000000 \\nINFO  @ Thu, 05 Nov 2020 16:10:50:  7000000 \\nINFO  @ Thu, 05 Nov 2020 16:10:54:  8000000 \\nINFO  @ Thu, 05 Nov 2020 16:10:57:  9000000 \\nINFO  @ Thu, 05 Nov 2020 16:11:01:  10000000 \\nINFO  @ Thu, 05 Nov 2020 16:11:05:  11000000 \\nINFO  @ Thu, 05 Nov 2020 16:11:09:  12000000 \\nINFO  @ Thu, 05 Nov 2020 16:11:13:  13000000 \\nINFO  @ Thu, 05 Nov 2020 16:11:17:  14000000 \\nINFO  @ Thu, 05 Nov 2020 16:11:21:  15000000 \\nINFO  @ Thu, 05 Nov 2020 16:11:24:  16000000 \\nINFO  @ Thu, 05 Nov 2020 16:11:28:  17000000 \\nINFO  @ Thu, 05 Nov 2020 16:11:32:  18000000 \\nINFO  @ Thu, 05 Nov 2020 16:11:36:  19000000 \\nINFO  @ Thu, 05 Nov 2020 16:11:40:  20000000 \\nINFO  @ Thu, 05 Nov 2020 16:11:44:  21000000 \\nINFO  @ Thu, 05 Nov 2020 16:11:48:  22000000 \\nINFO  @ Thu, 05 Nov 2020 16:11:52:  23000000 \\nINFO  @ Thu, 05 Nov 2020 16:11:56:  24000000 \\nINFO  @ Thu, 05 Nov 2020 16:12:00:  25000000 \\nINFO  @ Thu, 05 Nov 2020 16:12:04:  26000000 \\nINFO  @ Thu, 05 Nov 2020 16:12:08:  27000000 \\nINFO  @ Thu, 05 Nov 2020 16:12:12:  28000000 \\nINFO  @ Thu, 05 Nov 2020 16:12:16:  29000000 \\nINFO  @ Thu, 05 Nov 2020 16:12:20:  30000000 \\nINFO  @ Thu, 05 Nov 2020 16:12:23:  31000000 \\nINFO  @ Thu, 05 Nov 2020 16:12:27:  32000000 \\nINFO  @ Thu, 05 Nov 2020 16:12:31:  33000000 \\nINFO  @ Thu, 05 Nov 2020 16:12:35:  34000000 \\nINFO  @ Thu, 05 Nov 2020 16:12:39:  35000000 \\nINFO  @ Thu, 05 Nov 2020 16:12:43:  36000000 \\nINFO  @ Thu, 05 Nov 2020 16:12:47:  37000000 \\nINFO  @ Thu, 05 Nov 2020 16:12:51:  38000000 \\nINFO  @ Thu, 05 Nov 2020 16:12:55:  39000000 \\nINFO  @ Thu, 05 Nov 2020 16:12:58:  40000000 \\nINFO  @ Thu, 05 Nov 2020 16:13:02:  41000000 \\nINFO  @ Thu, 05 Nov 2020 16:13:06:  42000000 \\nINFO  @ Thu, 05 Nov 2020 16:13:10:  43000000 \\nINFO  @ Thu, 05 Nov 2020 16:13:14:  44000000 \\nINFO  @ Thu, 05 Nov 2020 16:13:18:  45000000 \\nINFO  @ Thu, 05 Nov 2020 16:13:22:  46000000 \\nINFO  @ Thu, 05 Nov 2020 16:13:26:  47000000 \\nINFO  @ Thu, 05 Nov 2020 16:13:30:  48000000 \\nINFO  @ Thu, 05 Nov 2020 16:13:34:  49000000 \\nINFO  @ Thu, 05 Nov 2020 16:13:38:  50000000 \\nINFO  @ Thu, 05 Nov 2020 16:13:42:  51000000 \\nINFO  @ Thu, 05 Nov 2020 16:13:46:  52000000 \\nINFO  @ Thu, 05 Nov 2020 16:13:49:  53000000 \\nINFO  @ Thu, 05 Nov 2020 16:13:53:  54000000 \\nINFO  @ Thu, 05 Nov 2020 16:13:57:  55000000 \\nINFO  @ Thu, 05 Nov 2020 16:14:01:  56000000 \\nINFO  @ Thu, 05 Nov 2020 16:14:05:  57000000 \\nINFO  @ Thu, 05 Nov 2020 16:14:09:  58000000 \\nINFO  @ Thu, 05 Nov 2020 16:14:13:  59000000 \\nINFO  @ Thu, 05 Nov 2020 16:14:17:  60000000 \\nINFO  @ Thu, 05 Nov 2020 16:14:21:  61000000 \\nINFO  @ Thu, 05 Nov 2020 16:14:25:  62000000 \\nINFO  @ Thu, 05 Nov 2020 16:14:28:  63000000 \\nINFO  @ Thu, 05 Nov 2020 16:14:32:  64000000 \\nINFO  @ Thu, 05 Nov 2020 16:14:36:  65000000 \\nINFO  @ Thu, 05 Nov 2020 16:14:40:  66000000 \\nINFO  @ Thu, 05 Nov 2020 16:14:43: 66660428 reads have been read. \\nINFO  @ Thu, 05 Nov 2020 16:14:44: #1 tag size is determined as 99 bps \\nINFO  @ Thu, 05 Nov 2020 16:14:44: #1 tag size = 99.0 \\nINFO  @ Thu, 05 Nov 2020 16:14:44: #1  total tags in treatment: 28305715 \\nINFO  @ Thu, 05 Nov 2020 16:14:44: #1 user defined the maximum tags... \\nINFO  @ Thu, 05 Nov 2020 16:14:44: #1 filter out redundant tags at the same location and the same strand by allowing at most 1 tag(s) \\nINFO  @ Thu, 05 Nov 2020 16:14:44: #1  tags after filtering in treatment: 24854439 \\nINFO  @ Thu, 05 Nov 2020 16:14:44: #1  Redundant rate of treatment: 0.12 \\nINFO  @ Thu, 05 Nov 2020 16:14:44: #1  total tags in control: 66660428 \\nINFO  @ Thu, 05 Nov 2020 16:14:44: #1 user defined the maximum tags... \\nINFO  @ Thu, 05 Nov 2020 16:14:44: #1 filter out redundant tags at the same location and the same strand by allowing at most 1 tag(s) \\nINFO  @ Thu, 05 Nov 2020 16:14:44: #1  tags after filtering in control: 65724989 \\nINFO  @ Thu, 05 Nov 2020 16:14:44: #1  Redundant rate of control: 0.01 \\nINFO  @ Thu, 05 Nov 2020 16:14:44: #1 finished! \\nINFO  @ Thu, 05 Nov 2020 16:14:44: #2 Build Peak Model... \\nINFO  @ Thu, 05 Nov 2020 16:14:44: #2 Skipped... \\nINFO  @ Thu, 05 Nov 2020 16:14:44: #2 Use 227 as fragment length \\nINFO  @ Thu, 05 Nov 2020 16:14:44: #3 Call peaks... \\nINFO  @ Thu, 05 Nov 2020 16:14:44: #3 Pre-compute pvalue-qvalue table... \\nINFO  @ Thu, 05 Nov 2020 16:20:22: #3 In the peak calling step, the following will be performed simultaneously: \\nINFO  @ Thu, 05 Nov 2020 16:20:22: #3   Write bedGraph files for treatment pileup (after scaling if necessary)... MV411_RNP_MEF2D-H3K27AC_R2_treat_pileup.bdg \\nINFO  @ Thu, 05 Nov 2020 16:20:22: #3   Write bedGraph files for control lambda (after scaling if necessary)... MV411_RNP_MEF2D-H3K27AC_R2_control_lambda.bdg \\nINFO  @ Thu, 05 Nov 2020 16:20:22: #3   Pileup will be based on sequencing depth in treatment. \\nINFO  @ Thu, 05 Nov 2020 16:20:22: #3 Call peaks for each chromosome... \\nINFO  @ Thu, 05 Nov 2020 16:24:42: #4 Write output xls file... ../../data/chipseq_MEF2CMEF2D_degraded/diffData_unscaled/MV411_RNP_MEF2D-H3K27AC_R2_peaks.xls \\nINFO  @ Thu, 05 Nov 2020 16:24:43: #4 Write peak in narrowPeak format file... ../../data/chipseq_MEF2CMEF2D_degraded/diffData_unscaled/MV411_RNP_MEF2D-H3K27AC_R2_peaks.narrowPeak \\nINFO  @ Thu, 05 Nov 2020 16:24:43: #4 Write summits bed file... ../../data/chipseq_MEF2CMEF2D_degraded/diffData_unscaled/MV411_RNP_MEF2D-H3K27AC_R2_summits.bed \\nINFO  @ Thu, 05 Nov 2020 16:24:43: Done! \\n'\n",
      "19303884 24854439\n",
      "doing differential peak binding\n"
     ]
    }
   ],
   "source": [
    "#on unscalled data \n",
    "for i in range(int(len(bams[3:]))):\n",
    "    if i < 4:\n",
    "        continue\n",
    "    name1 = bams[1+i%2]\n",
    "    name2 = bams[3+i]\n",
    "    print(name1,name2)\n",
    "    chip.fullDiffPeak(name1,name2, control1='../../data/'+project+'/bwa/mergedLibrary/INPUT_R1.mLb.clN.sorted.bam', directory = \"../../data/\"+project+\"/diffData_unscaled/\", res_directory = \"../../data/\"+project+\"/diffPeaks_unscaled/\",pairedend=False)"
   ]
  },
  {
   "cell_type": "code",
   "execution_count": 90,
   "metadata": {},
   "outputs": [
    {
     "data": {
      "text/plain": [
       "['../../data/chipseq_MEF2CMEF2D_degraded/diffPeaks_unscaled/MV411_RNP_AAVS1-H3K27AC_R1_treat_pileup_vs_MV411_RNP_MEF2C-H3K27AC_R1_treat_pileup_c3.0_common.bed',\n",
       " '../../data/chipseq_MEF2CMEF2D_degraded/diffPeaks_unscaled/MV411_RNP_AAVS1-H3K27AC_R1_treat_pileup_vs_MV411_RNP_MEF2C_MEF2D-H3K27AC_R1_treat_pileup_c3.0_common.bed',\n",
       " '../../data/chipseq_MEF2CMEF2D_degraded/diffPeaks_unscaled/MV411_RNP_AAVS1-H3K27AC_R1_treat_pileup_vs_MV411_RNP_MEF2D-H3K27AC_R1_treat_pileup_c3.0_common.bed',\n",
       " '../../data/chipseq_MEF2CMEF2D_degraded/diffPeaks_unscaled/MV411_RNP_AAVS1-H3K27AC_R2_treat_pileup_vs_MV411_RNP_MEF2C-H3K27AC_R2_treat_pileup_c3.0_common.bed',\n",
       " '../../data/chipseq_MEF2CMEF2D_degraded/diffPeaks_unscaled/MV411_RNP_AAVS1-H3K27AC_R2_treat_pileup_vs_MV411_RNP_MEF2C_MEF2D-H3K27AC_R2_treat_pileup_c3.0_common.bed',\n",
       " '../../data/chipseq_MEF2CMEF2D_degraded/diffPeaks_unscaled/MV411_RNP_AAVS1-H3K27AC_R2_treat_pileup_vs_MV411_RNP_MEF2D-H3K27AC_R2_treat_pileup_c3.0_common.bed']"
      ]
     },
     "execution_count": 90,
     "metadata": {},
     "output_type": "execute_result"
    }
   ],
   "source": [
    "cond1peak = ! ls ../../data/$project/diffPeaks_unscaled/*cond1.bed\n",
    "cond2peak = ! ls ../../data/$project/diffPeaks_unscaled/*cond2.bed\n",
    "commonpeak = ! ls ../../data/$project/diffPeaks_unscaled/*common.bed\n",
    "commonpeak"
   ]
  },
  {
   "cell_type": "code",
   "execution_count": 91,
   "metadata": {},
   "outputs": [
    {
     "data": {
      "text/plain": [
       "['../../data/chipseq_MEF2CMEF2D_degraded/recalib_bigwig/MV411_RNP_AAVS1-H3K27AC_R1.bigWig',\n",
       " '../../data/chipseq_MEF2CMEF2D_degraded/recalib_bigwig/MV411_RNP_AAVS1-H3K27AC_R2.bigWig',\n",
       " '../../data/chipseq_MEF2CMEF2D_degraded/recalib_bigwig/MV411_RNP_MEF2C-H3K27AC_R1.bw',\n",
       " '../../data/chipseq_MEF2CMEF2D_degraded/recalib_bigwig/MV411_RNP_MEF2C-H3K27AC_R2.bw',\n",
       " '../../data/chipseq_MEF2CMEF2D_degraded/recalib_bigwig/MV411_RNP_MEF2C_MEF2D-H3K27AC_R1.bw',\n",
       " '../../data/chipseq_MEF2CMEF2D_degraded/recalib_bigwig/MV411_RNP_MEF2C_MEF2D-H3K27AC_R2.bw',\n",
       " '../../data/chipseq_MEF2CMEF2D_degraded/recalib_bigwig/MV411_RNP_MEF2D-H3K27AC_R1.bw',\n",
       " '../../data/chipseq_MEF2CMEF2D_degraded/recalib_bigwig/MV411_RNP_MEF2D-H3K27AC_R2.bw']"
      ]
     },
     "execution_count": 91,
     "metadata": {},
     "output_type": "execute_result"
    }
   ],
   "source": [
    "bw"
   ]
  },
  {
   "cell_type": "code",
   "execution_count": 93,
   "metadata": {},
   "outputs": [
    {
     "name": "stdout",
     "output_type": "stream",
     "text": [
      "../../data/chipseq_MEF2CMEF2D_degraded/recalib_bigwig/MV411_RNP_AAVS1-H3K27AC_R1.bigWig ../../data/chipseq_MEF2CMEF2D_degraded/recalib_bigwig/MV411_RNP_MEF2C-H3K27AC_R1.bw\n",
      "CompletedProcess(args='computeMatrix reference-point -S ../../data/chipseq_MEF2CMEF2D_degraded/recalib_bigwig/MV411_RNP_AAVS1-H3K27AC_R1.bigWig ../../data/chipseq_MEF2CMEF2D_degraded/recalib_bigwig/MV411_RNP_MEF2C-H3K27AC_R1.bw  --referencePoint center --regionsFileName ../../data/chipseq_MEF2CMEF2D_degraded/diffPeaks_unscaled/MV411_RNP_AAVS1-H3K27AC_R1_treat_pileup_vs_MV411_RNP_MEF2C-H3K27AC_R1_treat_pileup_c3.0_cond1.bed ../../data/chipseq_MEF2CMEF2D_degraded/diffPeaks_unscaled/MV411_RNP_AAVS1-H3K27AC_R1_treat_pileup_vs_MV411_RNP_MEF2C-H3K27AC_R1_treat_pileup_c3.0_common.bed ../../data/chipseq_MEF2CMEF2D_degraded/diffPeaks_unscaled/MV411_RNP_AAVS1-H3K27AC_R1_treat_pileup_vs_MV411_RNP_MEF2C-H3K27AC_R1_treat_pileup_c3.0_cond2.bed --missingDataAsZero --outFileName ../../data/chipseq_MEF2CMEF2D_degraded/diffPeaks_unscaled/MEF2C_mat.gz --upstream 3000 --downstream 3000 --numberOfProcessors 7 && plotHeatmap --matrixFile ../../data/chipseq_MEF2CMEF2D_degraded/diffPeaks_unscaled/MEF2C_mat.gz --outFileName ../../data/chipseq_MEF2CMEF2D_degraded/diffPeaks_unscaled/MEF2C_mat.pdf --refPointLabel center --regionsLabel DMSO_peaks common VHL_peaks --plotTitle MEF2C', returncode=0, stdout=b'', stderr=b'\\nThe following chromosome names did not match between the bigwig files\\nchromosome\\tlength\\nchrUn_KI270340v1\\t      1428\\nchrUn_KI270375v1\\t      2378\\nchrUn_KI270423v1\\t       981\\nchrUn_KI270396v1\\t      1880\\nchrUn_KI270329v1\\t      1040\\nchrUn_KI270390v1\\t      2387\\nchrUn_KI270372v1\\t      1650\\nchrUn_KI270373v1\\t      1451\\nchrUn_KI270548v1\\t      1599\\nchrUn_KI270425v1\\t      1884\\nchrUn_KI270334v1\\t      1368\\nchrUn_KI270333v1\\t      2699\\nchrUn_KI270337v1\\t      1121\\nchrUn_KI270378v1\\t      1048\\nchrUn_KI270379v1\\t      1045\\n         chrEBV\\t    171823\\nchrUn_KI270386v1\\t      1788\\nchrUn_KI270335v1\\t      1048\\nchrUn_KI270371v1\\t      2805\\nchrUn_KI270376v1\\t      1136\\nchrUn_KI270312v1\\t       998\\nchrUn_KI270317v1\\t     37690\\nchrUn_KI270305v1\\t      1472\\nchrUn_KI270424v1\\t      2140\\nchrUn_KI270385v1\\t       990\\nchrUn_KI270393v1\\t      1308\\nchrUn_KI270412v1\\t      1179\\nchrUn_KI270316v1\\t      1444\\nchrUn_KI270374v1\\t      2656\\nchrUn_KI270381v1\\t      1930\\nchrUn_KI270394v1\\t       970\\nchrUn_KI270338v1\\t      1428\\nchrUn_KI270530v1\\t      2168\\nchrUn_KI270387v1\\t      1537\\nchrUn_KI270336v1\\t      1026\\nchrUn_KI270395v1\\t      1143\\nchrUn_KI270392v1\\t       971\\nchrUn_KI270752v1\\t     27745\\n')\n",
      "../../data/chipseq_MEF2CMEF2D_degraded/recalib_bigwig/MV411_RNP_AAVS1-H3K27AC_R2.bigWig ../../data/chipseq_MEF2CMEF2D_degraded/recalib_bigwig/MV411_RNP_MEF2C-H3K27AC_R2.bw\n",
      "CompletedProcess(args='computeMatrix reference-point -S ../../data/chipseq_MEF2CMEF2D_degraded/recalib_bigwig/MV411_RNP_AAVS1-H3K27AC_R2.bigWig ../../data/chipseq_MEF2CMEF2D_degraded/recalib_bigwig/MV411_RNP_MEF2C-H3K27AC_R2.bw  --referencePoint center --regionsFileName ../../data/chipseq_MEF2CMEF2D_degraded/diffPeaks_unscaled/MV411_RNP_AAVS1-H3K27AC_R2_treat_pileup_vs_MV411_RNP_MEF2C-H3K27AC_R2_treat_pileup_c3.0_cond1.bed ../../data/chipseq_MEF2CMEF2D_degraded/diffPeaks_unscaled/MV411_RNP_AAVS1-H3K27AC_R2_treat_pileup_vs_MV411_RNP_MEF2C-H3K27AC_R2_treat_pileup_c3.0_common.bed ../../data/chipseq_MEF2CMEF2D_degraded/diffPeaks_unscaled/MV411_RNP_AAVS1-H3K27AC_R2_treat_pileup_vs_MV411_RNP_MEF2C-H3K27AC_R2_treat_pileup_c3.0_cond2.bed --missingDataAsZero --outFileName ../../data/chipseq_MEF2CMEF2D_degraded/diffPeaks_unscaled/MEF2C_v2_mat.gz --upstream 3000 --downstream 3000 --numberOfProcessors 7 && plotHeatmap --matrixFile ../../data/chipseq_MEF2CMEF2D_degraded/diffPeaks_unscaled/MEF2C_v2_mat.gz --outFileName ../../data/chipseq_MEF2CMEF2D_degraded/diffPeaks_unscaled/MEF2C_v2_mat.pdf --refPointLabel center --regionsLabel DMSO_peaks common VHL_peaks --plotTitle MEF2C_v2', returncode=0, stdout=b'', stderr=b'\\nThe following chromosome names did not match between the bigwig files\\nchromosome\\tlength\\nchrUn_KI270389v1\\t      1298\\nchrUn_KI270579v1\\t     31033\\nchrUn_KI270337v1\\t      1121\\nchrUn_KI270414v1\\t      2489\\nchrUn_KI270393v1\\t      1308\\nchrUn_KI270429v1\\t      1361\\nchrUn_KI270423v1\\t       981\\nchrUn_KI270530v1\\t      2168\\nchrUn_KI270466v1\\t      1233\\nchrUn_KI270388v1\\t      1216\\nchrUn_KI270338v1\\t      1428\\nchrUn_KI270383v1\\t      1750\\nchrUn_KI270752v1\\t     27745\\nchrUn_KI270390v1\\t      2387\\nchrUn_KI270329v1\\t      1040\\nchrUn_KI270548v1\\t      1599\\nchrUn_KI270419v1\\t      1029\\nchrUn_KI270387v1\\t      1537\\nchrUn_KI270386v1\\t      1788\\nchrUn_KI270340v1\\t      1428\\nchrUn_KI270378v1\\t      1048\\nchrUn_KI270384v1\\t      1658\\nchrUn_KI270425v1\\t      1884\\nchrUn_KI270374v1\\t      2656\\nchrUn_KI270422v1\\t      1445\\nchrUn_KI270376v1\\t      1136\\nchrUn_KI270372v1\\t      1650\\nchrUn_KI270392v1\\t       971\\nchrUn_KI270373v1\\t      1451\\nchrUn_KI270317v1\\t     37690\\nchrUn_KI270333v1\\t      2699\\nchrUn_KI270424v1\\t      2140\\nchrUn_KI270335v1\\t      1048\\nchrUn_KI270385v1\\t       990\\nchrUn_KI270364v1\\t      2855\\nchrUn_KI270336v1\\t      1026\\nchrUn_KI270334v1\\t      1368\\nchrUn_KI270528v1\\t      2983\\nchrUn_KI270315v1\\t      2276\\nchrUn_KI270379v1\\t      1045\\nchrUn_KI270417v1\\t      2043\\nchrUn_KI270381v1\\t      1930\\nchrUn_KI270375v1\\t      2378\\nchrUn_KI270302v1\\t      2274\\n')\n",
      "../../data/chipseq_MEF2CMEF2D_degraded/recalib_bigwig/MV411_RNP_AAVS1-H3K27AC_R1.bigWig ../../data/chipseq_MEF2CMEF2D_degraded/recalib_bigwig/MV411_RNP_MEF2C_MEF2D-H3K27AC_R1.bw\n",
      "CompletedProcess(args='computeMatrix reference-point -S ../../data/chipseq_MEF2CMEF2D_degraded/recalib_bigwig/MV411_RNP_AAVS1-H3K27AC_R1.bigWig ../../data/chipseq_MEF2CMEF2D_degraded/recalib_bigwig/MV411_RNP_MEF2C_MEF2D-H3K27AC_R1.bw  --referencePoint center --regionsFileName ../../data/chipseq_MEF2CMEF2D_degraded/diffPeaks_unscaled/MV411_RNP_AAVS1-H3K27AC_R1_treat_pileup_vs_MV411_RNP_MEF2C_MEF2D-H3K27AC_R1_treat_pileup_c3.0_cond1.bed ../../data/chipseq_MEF2CMEF2D_degraded/diffPeaks_unscaled/MV411_RNP_AAVS1-H3K27AC_R1_treat_pileup_vs_MV411_RNP_MEF2C_MEF2D-H3K27AC_R1_treat_pileup_c3.0_common.bed ../../data/chipseq_MEF2CMEF2D_degraded/diffPeaks_unscaled/MV411_RNP_AAVS1-H3K27AC_R1_treat_pileup_vs_MV411_RNP_MEF2C_MEF2D-H3K27AC_R1_treat_pileup_c3.0_cond2.bed --missingDataAsZero --outFileName ../../data/chipseq_MEF2CMEF2D_degraded/diffPeaks_unscaled/MEF2C-MEF2D_mat.gz --upstream 3000 --downstream 3000 --numberOfProcessors 7 && plotHeatmap --matrixFile ../../data/chipseq_MEF2CMEF2D_degraded/diffPeaks_unscaled/MEF2C-MEF2D_mat.gz --outFileName ../../data/chipseq_MEF2CMEF2D_degraded/diffPeaks_unscaled/MEF2C-MEF2D_mat.pdf --refPointLabel center --regionsLabel DMSO_peaks common VHL_peaks --plotTitle MEF2C-MEF2D', returncode=0, stdout=b'', stderr=b'\\nThe following chromosome names did not match between the bigwig files\\nchromosome\\tlength\\nchrUn_KI270393v1\\t      1308\\nchrUn_KI270338v1\\t      1428\\nchrUn_KI270390v1\\t      2387\\nchrUn_KI270548v1\\t      1599\\nchrUn_KI270337v1\\t      1121\\nchrUn_KI270376v1\\t      1136\\nchrUn_KI270316v1\\t      1444\\nchrUn_KI270335v1\\t      1048\\nchrUn_KI270386v1\\t      1788\\n         chrEBV\\t    171823\\nchrUn_KI270424v1\\t      2140\\nchrUn_KI270372v1\\t      1650\\nchrUn_KI270394v1\\t       970\\nchrUn_KI270412v1\\t      1179\\nchrUn_KI270375v1\\t      2378\\nchrUn_KI270392v1\\t       971\\nchrUn_KI270423v1\\t       981\\nchrUn_KI270312v1\\t       998\\nchrUn_KI270379v1\\t      1045\\nchrUn_KI270305v1\\t      1472\\nchrUn_KI270374v1\\t      2656\\nchrUn_KI270396v1\\t      1880\\nchrUn_KI270329v1\\t      1040\\nchrUn_KI270373v1\\t      1451\\nchrUn_KI270371v1\\t      2805\\nchrUn_KI270752v1\\t     27745\\nchrUn_KI270340v1\\t      1428\\nchrUn_KI270385v1\\t       990\\nchrUn_KI270336v1\\t      1026\\nchrUn_KI270333v1\\t      2699\\nchrUn_KI270530v1\\t      2168\\nchrUn_KI270317v1\\t     37690\\nchrUn_KI270381v1\\t      1930\\nchrUn_KI270395v1\\t      1143\\nchrUn_KI270387v1\\t      1537\\nchrUn_KI270334v1\\t      1368\\nchrUn_KI270425v1\\t      1884\\nchrUn_KI270378v1\\t      1048\\n')\n",
      "../../data/chipseq_MEF2CMEF2D_degraded/recalib_bigwig/MV411_RNP_AAVS1-H3K27AC_R2.bigWig ../../data/chipseq_MEF2CMEF2D_degraded/recalib_bigwig/MV411_RNP_MEF2C_MEF2D-H3K27AC_R2.bw\n"
     ]
    },
    {
     "name": "stdout",
     "output_type": "stream",
     "text": [
      "CompletedProcess(args='computeMatrix reference-point -S ../../data/chipseq_MEF2CMEF2D_degraded/recalib_bigwig/MV411_RNP_AAVS1-H3K27AC_R2.bigWig ../../data/chipseq_MEF2CMEF2D_degraded/recalib_bigwig/MV411_RNP_MEF2C_MEF2D-H3K27AC_R2.bw  --referencePoint center --regionsFileName ../../data/chipseq_MEF2CMEF2D_degraded/diffPeaks_unscaled/MV411_RNP_AAVS1-H3K27AC_R2_treat_pileup_vs_MV411_RNP_MEF2C_MEF2D-H3K27AC_R2_treat_pileup_c3.0_cond1.bed ../../data/chipseq_MEF2CMEF2D_degraded/diffPeaks_unscaled/MV411_RNP_AAVS1-H3K27AC_R2_treat_pileup_vs_MV411_RNP_MEF2C_MEF2D-H3K27AC_R2_treat_pileup_c3.0_common.bed ../../data/chipseq_MEF2CMEF2D_degraded/diffPeaks_unscaled/MV411_RNP_AAVS1-H3K27AC_R2_treat_pileup_vs_MV411_RNP_MEF2C_MEF2D-H3K27AC_R2_treat_pileup_c3.0_cond2.bed --missingDataAsZero --outFileName ../../data/chipseq_MEF2CMEF2D_degraded/diffPeaks_unscaled/MEF2C-MEF2D_v2_mat.gz --upstream 3000 --downstream 3000 --numberOfProcessors 7 && plotHeatmap --matrixFile ../../data/chipseq_MEF2CMEF2D_degraded/diffPeaks_unscaled/MEF2C-MEF2D_v2_mat.gz --outFileName ../../data/chipseq_MEF2CMEF2D_degraded/diffPeaks_unscaled/MEF2C-MEF2D_v2_mat.pdf --refPointLabel center --regionsLabel DMSO_peaks common VHL_peaks --plotTitle MEF2C-MEF2D_v2', returncode=0, stdout=b'', stderr=b'\\nThe following chromosome names did not match between the bigwig files\\nchromosome\\tlength\\nchrUn_KI270422v1\\t      1445\\nchrUn_KI270383v1\\t      1750\\nchrUn_KI270752v1\\t     27745\\nchrUn_KI270381v1\\t      1930\\nchrUn_KI270379v1\\t      1045\\nchrUn_KI270375v1\\t      2378\\nchrUn_KI270390v1\\t      2387\\nchrUn_KI270579v1\\t     31033\\nchrUn_KI270423v1\\t       981\\nchrUn_KI270429v1\\t      1361\\nchrUn_KI270338v1\\t      1428\\nchrUn_KI270384v1\\t      1658\\nchrUn_KI270333v1\\t      2699\\nchrUn_KI270386v1\\t      1788\\nchrUn_KI270424v1\\t      2140\\nchrUn_KI270302v1\\t      2274\\nchrUn_KI270392v1\\t       971\\nchrUn_KI270417v1\\t      2043\\nchrUn_KI270336v1\\t      1026\\nchrUn_KI270317v1\\t     37690\\nchrUn_KI270335v1\\t      1048\\nchrUn_KI270528v1\\t      2983\\nchrUn_KI270530v1\\t      2168\\nchrUn_KI270393v1\\t      1308\\nchrUn_KI270378v1\\t      1048\\nchrUn_KI270364v1\\t      2855\\nchrUn_KI270337v1\\t      1121\\nchrUn_KI270334v1\\t      1368\\nchrUn_KI270414v1\\t      2489\\nchrUn_KI270387v1\\t      1537\\nchrUn_KI270385v1\\t       990\\nchrUn_KI270419v1\\t      1029\\nchrUn_KI270340v1\\t      1428\\nchrUn_KI270372v1\\t      1650\\nchrUn_KI270315v1\\t      2276\\nchrUn_KI270389v1\\t      1298\\nchrUn_KI270425v1\\t      1884\\nchrUn_KI270388v1\\t      1216\\nchrUn_KI270466v1\\t      1233\\nchrUn_KI270373v1\\t      1451\\nchrUn_KI270376v1\\t      1136\\nchrUn_KI270548v1\\t      1599\\nchrUn_KI270329v1\\t      1040\\nchrUn_KI270374v1\\t      2656\\n')\n",
      "../../data/chipseq_MEF2CMEF2D_degraded/recalib_bigwig/MV411_RNP_AAVS1-H3K27AC_R1.bigWig ../../data/chipseq_MEF2CMEF2D_degraded/recalib_bigwig/MV411_RNP_MEF2D-H3K27AC_R1.bw\n",
      "CompletedProcess(args='computeMatrix reference-point -S ../../data/chipseq_MEF2CMEF2D_degraded/recalib_bigwig/MV411_RNP_AAVS1-H3K27AC_R1.bigWig ../../data/chipseq_MEF2CMEF2D_degraded/recalib_bigwig/MV411_RNP_MEF2D-H3K27AC_R1.bw  --referencePoint center --regionsFileName ../../data/chipseq_MEF2CMEF2D_degraded/diffPeaks_unscaled/MV411_RNP_AAVS1-H3K27AC_R1_treat_pileup_vs_MV411_RNP_MEF2D-H3K27AC_R1_treat_pileup_c3.0_cond1.bed ../../data/chipseq_MEF2CMEF2D_degraded/diffPeaks_unscaled/MV411_RNP_AAVS1-H3K27AC_R1_treat_pileup_vs_MV411_RNP_MEF2D-H3K27AC_R1_treat_pileup_c3.0_common.bed ../../data/chipseq_MEF2CMEF2D_degraded/diffPeaks_unscaled/MV411_RNP_AAVS1-H3K27AC_R1_treat_pileup_vs_MV411_RNP_MEF2D-H3K27AC_R1_treat_pileup_c3.0_cond2.bed --missingDataAsZero --outFileName ../../data/chipseq_MEF2CMEF2D_degraded/diffPeaks_unscaled/MEF2D_mat.gz --upstream 3000 --downstream 3000 --numberOfProcessors 7 && plotHeatmap --matrixFile ../../data/chipseq_MEF2CMEF2D_degraded/diffPeaks_unscaled/MEF2D_mat.gz --outFileName ../../data/chipseq_MEF2CMEF2D_degraded/diffPeaks_unscaled/MEF2D_mat.pdf --refPointLabel center --regionsLabel DMSO_peaks common VHL_peaks --plotTitle MEF2D', returncode=0, stdout=b'', stderr=b'\\nThe following chromosome names did not match between the bigwig files\\nchromosome\\tlength\\n         chrEBV\\t    171823\\nchrUn_KI270335v1\\t      1048\\nchrUn_KI270372v1\\t      1650\\nchrUn_KI270376v1\\t      1136\\nchrUn_KI270393v1\\t      1308\\nchrUn_KI270378v1\\t      1048\\nchrUn_KI270423v1\\t       981\\nchrUn_KI270386v1\\t      1788\\nchrUn_KI270373v1\\t      1451\\nchrUn_KI270337v1\\t      1121\\nchrUn_KI270530v1\\t      2168\\nchrUn_KI270385v1\\t       990\\nchrUn_KI270336v1\\t      1026\\nchrUn_KI270334v1\\t      1368\\nchrUn_KI270390v1\\t      2387\\nchrUn_KI270305v1\\t      1472\\nchrUn_KI270374v1\\t      2656\\nchrUn_KI270396v1\\t      1880\\nchrUn_KI270375v1\\t      2378\\nchrUn_KI270412v1\\t      1179\\nchrUn_KI270329v1\\t      1040\\nchrUn_KI270338v1\\t      1428\\nchrUn_KI270312v1\\t       998\\nchrUn_KI270395v1\\t      1143\\nchrUn_KI270424v1\\t      2140\\nchrUn_KI270394v1\\t       970\\nchrUn_KI270392v1\\t       971\\nchrUn_KI270387v1\\t      1537\\nchrUn_KI270381v1\\t      1930\\nchrUn_KI270317v1\\t     37690\\nchrUn_KI270371v1\\t      2805\\nchrUn_KI270316v1\\t      1444\\nchrUn_KI270752v1\\t     27745\\nchrUn_KI270340v1\\t      1428\\nchrUn_KI270379v1\\t      1045\\nchrUn_KI270425v1\\t      1884\\nchrUn_KI270548v1\\t      1599\\nchrUn_KI270333v1\\t      2699\\n')\n",
      "../../data/chipseq_MEF2CMEF2D_degraded/recalib_bigwig/MV411_RNP_AAVS1-H3K27AC_R2.bigWig ../../data/chipseq_MEF2CMEF2D_degraded/recalib_bigwig/MV411_RNP_MEF2D-H3K27AC_R2.bw\n",
      "CompletedProcess(args='computeMatrix reference-point -S ../../data/chipseq_MEF2CMEF2D_degraded/recalib_bigwig/MV411_RNP_AAVS1-H3K27AC_R2.bigWig ../../data/chipseq_MEF2CMEF2D_degraded/recalib_bigwig/MV411_RNP_MEF2D-H3K27AC_R2.bw  --referencePoint center --regionsFileName ../../data/chipseq_MEF2CMEF2D_degraded/diffPeaks_unscaled/MV411_RNP_AAVS1-H3K27AC_R2_treat_pileup_vs_MV411_RNP_MEF2D-H3K27AC_R2_treat_pileup_c3.0_cond1.bed ../../data/chipseq_MEF2CMEF2D_degraded/diffPeaks_unscaled/MV411_RNP_AAVS1-H3K27AC_R2_treat_pileup_vs_MV411_RNP_MEF2D-H3K27AC_R2_treat_pileup_c3.0_common.bed ../../data/chipseq_MEF2CMEF2D_degraded/diffPeaks_unscaled/MV411_RNP_AAVS1-H3K27AC_R2_treat_pileup_vs_MV411_RNP_MEF2D-H3K27AC_R2_treat_pileup_c3.0_cond2.bed --missingDataAsZero --outFileName ../../data/chipseq_MEF2CMEF2D_degraded/diffPeaks_unscaled/MEF2D_v2_mat.gz --upstream 3000 --downstream 3000 --numberOfProcessors 7 && plotHeatmap --matrixFile ../../data/chipseq_MEF2CMEF2D_degraded/diffPeaks_unscaled/MEF2D_v2_mat.gz --outFileName ../../data/chipseq_MEF2CMEF2D_degraded/diffPeaks_unscaled/MEF2D_v2_mat.pdf --refPointLabel center --regionsLabel DMSO_peaks common VHL_peaks --plotTitle MEF2D_v2', returncode=0, stdout=b'', stderr=b'\\nThe following chromosome names did not match between the bigwig files\\nchromosome\\tlength\\nchrUn_KI270334v1\\t      1368\\nchrUn_KI270425v1\\t      1884\\nchrUn_KI270423v1\\t       981\\nchrUn_KI270338v1\\t      1428\\nchrUn_KI270364v1\\t      2855\\nchrUn_KI270375v1\\t      2378\\nchrUn_KI270381v1\\t      1930\\nchrUn_KI270393v1\\t      1308\\nchrUn_KI270386v1\\t      1788\\nchrUn_KI270333v1\\t      2699\\nchrUn_KI270530v1\\t      2168\\nchrUn_KI270422v1\\t      1445\\nchrUn_KI270548v1\\t      1599\\nchrUn_KI270384v1\\t      1658\\nchrUn_KI270392v1\\t       971\\nchrUn_KI270383v1\\t      1750\\nchrUn_KI270389v1\\t      1298\\nchrUn_KI270424v1\\t      2140\\nchrUn_KI270528v1\\t      2983\\nchrUn_KI270329v1\\t      1040\\nchrUn_KI270335v1\\t      1048\\nchrUn_KI270579v1\\t     31033\\nchrUn_KI270390v1\\t      2387\\nchrUn_KI270340v1\\t      1428\\nchrUn_KI270419v1\\t      1029\\nchrUn_KI270387v1\\t      1537\\nchrUn_KI270388v1\\t      1216\\nchrUn_KI270302v1\\t      2274\\nchrUn_KI270379v1\\t      1045\\nchrUn_KI270372v1\\t      1650\\nchrUn_KI270374v1\\t      2656\\nchrUn_KI270752v1\\t     27745\\nchrUn_KI270378v1\\t      1048\\nchrUn_KI270336v1\\t      1026\\nchrUn_KI270385v1\\t       990\\nchrUn_KI270429v1\\t      1361\\nchrUn_KI270417v1\\t      2043\\nchrUn_KI270466v1\\t      1233\\nchrUn_KI270317v1\\t     37690\\nchrUn_KI270376v1\\t      1136\\nchrUn_KI270337v1\\t      1121\\nchrUn_KI270373v1\\t      1451\\nchrUn_KI270414v1\\t      2489\\nchrUn_KI270315v1\\t      2276\\n')\n"
     ]
    }
   ],
   "source": [
    "for i in range(int(len(bw[2:]))):\n",
    "    name1 = bw[i%2]\n",
    "    name2 = bw[2+i]\n",
    "    a = int(i/2)+3 if i%2 else int(i/2)\n",
    "    peak = [cond1peak[a], commonpeak[a], cond2peak[a]]\n",
    "    #for val in peak:\n",
    "     #   chip.dropWeirdChromosomes(val)\n",
    "    name = names[i+2]\n",
    "    print(name1,name2)\n",
    "    chip.getPeaksAt(peak, [name1, name2], bigwignames=['DMSO', 'VHL'], peaknames=['DMSO_peaks', 'common', 'VHL_peaks'], window=3000, folder=\"\", title=name, numthreads=7, torecompute=True, refpoint='center', name='../../data/'+project+'/diffPeaks_unscaled/'+name+'_mat.pdf', withDeeptools=True)"
   ]
  },
  {
   "cell_type": "code",
   "execution_count": 94,
   "metadata": {
    "scrolled": true
   },
   "outputs": [
    {
     "name": "stdout",
     "output_type": "stream",
     "text": [
      "Copying gs://amlproject/Chip/chipseq_MEF2CMEF2D_degraded/bwa/mergedLibrary/deepTools/plotFingerprint/MV411_RNP_AAVS1-H3K27AC_R1.plotFingerprint.pdf...\n",
      "Copying gs://amlproject/Chip/chipseq_MEF2CMEF2D_degraded/bwa/mergedLibrary/deepTools/plotFingerprint/MV411_RNP_AAVS1-H3K27AC_R2.plotFingerprint.pdf...\n",
      "Copying gs://amlproject/Chip/chipseq_MEF2CMEF2D_degraded/bwa/mergedLibrary/deepTools/plotFingerprint/MV411_RNP_MEF2C-H3K27AC_R1.plotFingerprint.pdf...\n",
      "Copying gs://amlproject/Chip/chipseq_MEF2CMEF2D_degraded/bwa/mergedLibrary/deepTools/plotFingerprint/MV411_RNP_MEF2C-H3K27AC_R2.plotFingerprint.pdf...\n",
      "Copying gs://amlproject/Chip/chipseq_MEF2CMEF2D_degraded/bwa/mergedLibrary/deepTools/plotFingerprint/MV411_RNP_MEF2C_MEF2D-H3K27AC_R1.plotFingerprint.pdf...\n",
      "Copying gs://amlproject/Chip/chipseq_MEF2CMEF2D_degraded/bwa/mergedLibrary/deepTools/plotFingerprint/MV411_RNP_MEF2C_MEF2D-H3K27AC_R2.plotFingerprint.pdf...\n",
      "Copying gs://amlproject/Chip/chipseq_MEF2CMEF2D_degraded/bwa/mergedLibrary/deepTools/plotFingerprint/MV411_RNP_MEF2D-H3K27AC_R1.plotFingerprint.pdf...\n",
      "Copying gs://amlproject/Chip/chipseq_MEF2CMEF2D_degraded/bwa/mergedLibrary/deepTools/plotFingerprint/MV411_RNP_MEF2D-H3K27AC_R2.plotFingerprint.pdf...\n",
      "Copying gs://amlproject/Chip/chipseq_MEF2CMEF2D_degraded/bwa/mergedLibrary/deepTools/plotProfile/INPUT_R1.plotHeatmap.pdf...\n",
      "Copying gs://amlproject/Chip/chipseq_MEF2CMEF2D_degraded/bwa/mergedLibrary/deepTools/plotProfile/INPUT_R1.plotProfile.pdf...\n",
      "Copying gs://amlproject/Chip/chipseq_MEF2CMEF2D_degraded/bwa/mergedLibrary/deepTools/plotProfile/MV411_RNP_AAVS1-H3K27AC_R1.plotHeatmap.pdf...\n",
      "Copying gs://amlproject/Chip/chipseq_MEF2CMEF2D_degraded/bwa/mergedLibrary/deepTools/plotProfile/MV411_RNP_AAVS1-H3K27AC_R1.plotProfile.pdf...\n",
      "Copying gs://amlproject/Chip/chipseq_MEF2CMEF2D_degraded/bwa/mergedLibrary/deepTools/plotProfile/MV411_RNP_AAVS1-H3K27AC_R2.plotProfile.pdf...\n",
      "Copying gs://amlproject/Chip/chipseq_MEF2CMEF2D_degraded/bwa/mergedLibrary/deepTools/plotProfile/MV411_RNP_AAVS1-H3K27AC_R2.plotHeatmap.pdf...\n",
      "Copying gs://amlproject/Chip/chipseq_MEF2CMEF2D_degraded/bwa/mergedLibrary/deepTools/plotProfile/MV411_RNP_MEF2C-H3K27AC_R1.plotHeatmap.pdf...\n",
      "Copying gs://amlproject/Chip/chipseq_MEF2CMEF2D_degraded/bwa/mergedLibrary/deepTools/plotProfile/MV411_RNP_MEF2C-H3K27AC_R1.plotProfile.pdf...\n",
      "Copying gs://amlproject/Chip/chipseq_MEF2CMEF2D_degraded/bwa/mergedLibrary/deepTools/plotProfile/MV411_RNP_MEF2C-H3K27AC_R2.plotHeatmap.pdf...\n",
      "Copying gs://amlproject/Chip/chipseq_MEF2CMEF2D_degraded/bwa/mergedLibrary/deepTools/plotProfile/MV411_RNP_MEF2C_MEF2D-H3K27AC_R1.plotHeatmap.pdf...\n",
      "Copying gs://amlproject/Chip/chipseq_MEF2CMEF2D_degraded/bwa/mergedLibrary/deepTools/plotProfile/MV411_RNP_MEF2C-H3K27AC_R2.plotProfile.pdf...\n",
      "Copying gs://amlproject/Chip/chipseq_MEF2CMEF2D_degraded/bwa/mergedLibrary/deepTools/plotProfile/MV411_RNP_MEF2C_MEF2D-H3K27AC_R1.plotProfile.pdf...\n",
      "Copying gs://amlproject/Chip/chipseq_MEF2CMEF2D_degraded/bwa/mergedLibrary/deepTools/plotProfile/MV411_RNP_MEF2C_MEF2D-H3K27AC_R2.plotProfile.pdf...\n",
      "Copying gs://amlproject/Chip/chipseq_MEF2CMEF2D_degraded/bwa/mergedLibrary/deepTools/plotProfile/MV411_RNP_MEF2C_MEF2D-H3K27AC_R2.plotHeatmap.pdf...\n",
      "Copying gs://amlproject/Chip/chipseq_MEF2CMEF2D_degraded/bwa/mergedLibrary/deepTools/plotProfile/MV411_RNP_MEF2D-H3K27AC_R1.plotHeatmap.pdf...\n",
      "Copying gs://amlproject/Chip/chipseq_MEF2CMEF2D_degraded/bwa/mergedLibrary/deepTools/plotProfile/MV411_RNP_MEF2D-H3K27AC_R2.plotHeatmap.pdf...\n",
      "Copying gs://amlproject/Chip/chipseq_MEF2CMEF2D_degraded/bwa/mergedLibrary/deepTools/plotProfile/MV411_RNP_MEF2D-H3K27AC_R1.plotProfile.pdf...\n",
      "Copying gs://amlproject/Chip/chipseq_MEF2CMEF2D_degraded/bwa/mergedLibrary/deepTools/plotProfile/MV411_RNP_MEF2D-H3K27AC_R2.plotProfile.pdf...\n",
      "- [26/26 files][ 10.0 MiB/ 10.0 MiB] 100% Done                                  \n",
      "Operation completed over 26 objects/10.0 MiB.                                    \n"
     ]
    }
   ],
   "source": [
    "h.createFoldersFor('../results/'+project+'/plots/unscaled/diffPeaks/')\n",
    "! cp ../../data/$project/diffPeaks_unscaled/*.pdf ../results/$project/plots/unscaled/diffPeaks/\n",
    "\n",
    "! gsutil -m cp gs://amlproject/Chip/$project/bwa/mergedLibrary/deepTools/**.pdf ../results/$project/plots/"
   ]
  },
  {
   "cell_type": "code",
   "execution_count": 95,
   "metadata": {},
   "outputs": [
    {
     "name": "stdout",
     "output_type": "stream",
     "text": [
      "Copying file://../../data/chipseq_MEF2CMEF2D_degraded/diffPeaks/MV411_RNP_AAVS1-H3K27AC_R1_treat_pileup_vs_MV411_RNP_MEF2C-H3K27AC_R1_treat_pileup_c3.0_cond2.bed [Content-Type=application/octet-stream]...\n",
      "Copying file://../../data/chipseq_MEF2CMEF2D_degraded/diffPeaks/MV411_RNP_AAVS1-H3K27AC_R1_treat_pileup_vs_MV411_RNP_MEF2D-H3K27AC_R1_treat_pileup_c3.0_cond1.bed [Content-Type=application/octet-stream]...\n",
      "Copying file://../../data/chipseq_MEF2CMEF2D_degraded/diffPeaks/MEF2C_v2_mat.gz [Content-Type=application/octet-stream]...\n",
      "Copying file://../../data/chipseq_MEF2CMEF2D_degraded/diffPeaks/MV411_RNP_AAVS1-H3K27AC_R1_treat_pileup_vs_MV411_RNP_MEF2C_MEF2D-H3K27AC_R1_treat_pileup_c3.0_cond1.bed [Content-Type=application/octet-stream]...\n",
      "Copying file://../../data/chipseq_MEF2CMEF2D_degraded/diffPeaks/MV411_RNP_AAVS1-H3K27AC_R2_treat_pileup_vs_MV411_RNP_MEF2D-H3K27AC_R2_treat_pileup_c3.0_cond1.bed [Content-Type=application/octet-stream]...\n",
      "Copying file://../../data/chipseq_MEF2CMEF2D_degraded/diffPeaks/MV411_RNP_AAVS1-H3K27AC_R2_treat_pileup_vs_MV411_RNP_MEF2D-H3K27AC_R2_treat_pileup_c3.0_common.bed [Content-Type=application/octet-stream]...\n",
      "Copying file://../../data/chipseq_MEF2CMEF2D_degraded/diffPeaks/MV411_RNP_AAVS1-H3K27AC_R2_treat_pileup_vs_MV411_RNP_MEF2C_MEF2D-H3K27AC_R2_treat_pileup_c3.0_common.bed [Content-Type=application/octet-stream]...\n",
      "Copying file://../../data/chipseq_MEF2CMEF2D_degraded/diffPeaks/MEF2C_v2_mat.pdf [Content-Type=application/pdf]...\n",
      "Copying file://../../data/chipseq_MEF2CMEF2D_degraded/diffPeaks/MEF2D_v2_mat.gz [Content-Type=application/octet-stream]...\n",
      "Copying file://../../data/chipseq_MEF2CMEF2D_degraded/diffPeaks/MV411_RNP_AAVS1-H3K27AC_R2_treat_pileup_vs_MV411_RNP_MEF2C-H3K27AC_R2_treat_pileup_c3.0_cond2.bed [Content-Type=application/octet-stream]...\n",
      "Copying file://../../data/chipseq_MEF2CMEF2D_degraded/diffPeaks/MV411_RNP_AAVS1-H3K27AC_R2_treat_pileup_vs_MV411_RNP_MEF2D-H3K27AC_R2_treat_pileup_c3.0_cond2.bed [Content-Type=application/octet-stream]...\n",
      "Copying file://../../data/chipseq_MEF2CMEF2D_degraded/diffPeaks/MEF2C-MEF2D_v2_mat.pdf [Content-Type=application/pdf]...\n",
      "Copying file://../../data/chipseq_MEF2CMEF2D_degraded/diffPeaks/MEF2C-MEF2D_mat.pdf [Content-Type=application/pdf]...\n",
      "Copying file://../../data/chipseq_MEF2CMEF2D_degraded/diffPeaks/MV411_RNP_AAVS1-H3K27AC_R1_treat_pileup_vs_MV411_RNP_MEF2C_MEF2D-H3K27AC_R1_treat_pileup_c3.0_common.bed [Content-Type=application/octet-stream]...\n",
      "Copying file://../../data/chipseq_MEF2CMEF2D_degraded/diffPeaks/MV411_RNP_AAVS1-H3K27AC_R2_treat_pileup_vs_MV411_RNP_MEF2C-H3K27AC_R2_treat_pileup_c3.0_cond1.bed [Content-Type=application/octet-stream]...\n",
      "Copying file://../../data/chipseq_MEF2CMEF2D_degraded/diffPeaks/MEF2C-MEF2D_v2_mat.gz [Content-Type=application/octet-stream]...\n",
      "Copying file://../../data/chipseq_MEF2CMEF2D_degraded/diffPeaks/MEF2C-MEF2D_mat.gz [Content-Type=application/octet-stream]...\n",
      "Copying file://../../data/chipseq_MEF2CMEF2D_degraded/diffPeaks/MV411_RNP_AAVS1-H3K27AC_R1_treat_pileup_vs_MV411_RNP_MEF2C-H3K27AC_R1_treat_pileup_c3.0_cond1.bed [Content-Type=application/octet-stream]...\n",
      "Copying file://../../data/chipseq_MEF2CMEF2D_degraded/diffPeaks/MEF2C_mat.gz [Content-Type=application/octet-stream]...\n",
      "Copying file://../../data/chipseq_MEF2CMEF2D_degraded/diffPeaks/MEF2C_mat.pdf [Content-Type=application/pdf]...\n",
      "Copying file://../../data/chipseq_MEF2CMEF2D_degraded/diffPeaks/MV411_RNP_AAVS1-H3K27AC_R2_treat_pileup_vs_MV411_RNP_MEF2C_MEF2D-H3K27AC_R2_treat_pileup_c3.0_cond1.bed [Content-Type=application/octet-stream]...\n",
      "Copying file://../../data/chipseq_MEF2CMEF2D_degraded/diffPeaks/MV411_RNP_AAVS1-H3K27AC_R2_treat_pileup_vs_MV411_RNP_MEF2C_MEF2D-H3K27AC_R2_treat_pileup_c3.0_cond2.bed [Content-Type=application/octet-stream]...\n",
      "Copying file://../../data/chipseq_MEF2CMEF2D_degraded/diffPeaks/MEF2D_v2_mat.pdf [Content-Type=application/pdf]...\n",
      "Copying file://../../data/chipseq_MEF2CMEF2D_degraded/diffPeaks/MV411_RNP_AAVS1-H3K27AC_R1_treat_pileup_vs_MV411_RNP_MEF2D-H3K27AC_R1_treat_pileup_c3.0_cond2.bed [Content-Type=application/octet-stream]...\n",
      "Copying file://../../data/chipseq_MEF2CMEF2D_degraded/diffPeaks/MV411_RNP_AAVS1-H3K27AC_R1_treat_pileup_vs_MV411_RNP_MEF2C-H3K27AC_R1_treat_pileup_c3.0_common.bed [Content-Type=application/octet-stream]...\n",
      "Copying file://../../data/chipseq_MEF2CMEF2D_degraded/diffPeaks/MEF2D_mat.gz [Content-Type=application/octet-stream]...\n",
      "Copying file://../../data/chipseq_MEF2CMEF2D_degraded/diffPeaks/MV411_RNP_AAVS1-H3K27AC_R1_treat_pileup_vs_MV411_RNP_MEF2D-H3K27AC_R1_treat_pileup_c3.0_common.bed [Content-Type=application/octet-stream]...\n",
      "Copying file://../../data/chipseq_MEF2CMEF2D_degraded/diffPeaks/MV411_RNP_AAVS1-H3K27AC_R1_treat_pileup_vs_MV411_RNP_MEF2C_MEF2D-H3K27AC_R1_treat_pileup_c3.0_cond2.bed [Content-Type=application/octet-stream]...\n",
      "Copying file://../../data/chipseq_MEF2CMEF2D_degraded/diffPeaks/MV411_RNP_AAVS1-H3K27AC_R2_treat_pileup_vs_MV411_RNP_MEF2C-H3K27AC_R2_treat_pileup_c3.0_common.bed [Content-Type=application/octet-stream]...\n",
      "Copying file://../../data/chipseq_MEF2CMEF2D_degraded/diffPeaks/MEF2D_mat.pdf [Content-Type=application/pdf]...\n",
      "- [30/30 files][561.6 MiB/561.6 MiB] 100% Done                                  \n",
      "Operation completed over 30 objects/561.6 MiB.                                   \n",
      "Copying file://../../data/chipseq_MEF2CMEF2D_degraded/diffData/MV411_RNP_MEF2C-H3K27AC_R2_summits.bed [Content-Type=application/octet-stream]...\n",
      "Copying file://../../data/chipseq_MEF2CMEF2D_degraded/diffData/MV411_RNP_AAVS1-H3K27AC_R1_peaks.narrowPeak [Content-Type=application/octet-stream]...\n",
      "Copying file://../../data/chipseq_MEF2CMEF2D_degraded/diffData/MV411_RNP_MEF2C-H3K27AC_R2_treat_pileup.bdg [Content-Type=application/octet-stream]...\n",
      "Copying file://../../data/chipseq_MEF2CMEF2D_degraded/diffData/MV411_RNP_MEF2D-H3K27AC_R2_peaks.xls [Content-Type=application/vnd.ms-excel]...\n",
      "Copying file://../../data/chipseq_MEF2CMEF2D_degraded/diffData/MV411_RNP_MEF2C_MEF2D-H3K27AC_R2_peaks.narrowPeak [Content-Type=application/octet-stream]...\n",
      "==> NOTE: You are uploading one or more large file(s), which would run\n",
      "significantly faster if you enable parallel composite uploads. This\n",
      "feature can be enabled by editing the\n",
      "\"parallel_composite_upload_threshold\" value in your .boto\n",
      "configuration file. However, note that if you do this large files will\n",
      "be uploaded as `composite objects\n",
      "<https://cloud.google.com/storage/docs/composite-objects>`_,which\n",
      "means that any user who downloads such objects will need to have a\n",
      "compiled crcmod installed (see \"gsutil help crcmod\"). This is because\n",
      "without a compiled crcmod, computing checksums on composite objects is\n",
      "so slow that gsutil disables downloads of composite objects.\n",
      "\n",
      "Copying file://../../data/chipseq_MEF2CMEF2D_degraded/diffData/MV411_RNP_MEF2C_MEF2D-H3K27AC_R2_control_lambda.bdg [Content-Type=application/octet-stream]...\n",
      "Copying file://../../data/chipseq_MEF2CMEF2D_degraded/diffData/MV411_RNP_AAVS1-H3K27AC_R2_treat_pileup.bdg [Content-Type=application/octet-stream]...\n",
      "Copying file://../../data/chipseq_MEF2CMEF2D_degraded/diffData/MV411_RNP_MEF2C_MEF2D-H3K27AC_R1_treat_pileup.bdg [Content-Type=application/octet-stream]...\n",
      "Copying file://../../data/chipseq_MEF2CMEF2D_degraded/diffData/MV411_RNP_MEF2C-H3K27AC_R1_treat_pileup.bdg [Content-Type=application/octet-stream]...\n",
      "Copying file://../../data/chipseq_MEF2CMEF2D_degraded/diffData/MV411_RNP_MEF2C_MEF2D-H3K27AC_R1_summits.bed [Content-Type=application/octet-stream]...\n",
      "Copying file://../../data/chipseq_MEF2CMEF2D_degraded/diffData/MV411_RNP_MEF2D-H3K27AC_R1_peaks.xls [Content-Type=application/vnd.ms-excel]...\n",
      "Copying file://../../data/chipseq_MEF2CMEF2D_degraded/diffData/MV411_RNP_MEF2D-H3K27AC_R2_treat_pileup.bdg [Content-Type=application/octet-stream]...\n",
      "Copying file://../../data/chipseq_MEF2CMEF2D_degraded/diffData/MV411_RNP_MEF2C-H3K27AC_R1_control_lambda.bdg [Content-Type=application/octet-stream]...\n",
      "Copying file://../../data/chipseq_MEF2CMEF2D_degraded/diffData/MV411_RNP_MEF2D-H3K27AC_R1_treat_pileup.bdg [Content-Type=application/octet-stream]...\n",
      "Copying file://../../data/chipseq_MEF2CMEF2D_degraded/diffData/MV411_RNP_AAVS1-H3K27AC_R2_control_lambda.bdg [Content-Type=application/octet-stream]...\n",
      "Copying file://../../data/chipseq_MEF2CMEF2D_degraded/diffData/MV411_RNP_MEF2C_MEF2D-H3K27AC_R2_summits.bed [Content-Type=application/octet-stream]...\n",
      "Copying file://../../data/chipseq_MEF2CMEF2D_degraded/diffData/MV411_RNP_MEF2C-H3K27AC_R2_peaks.xls [Content-Type=application/vnd.ms-excel]...\n"
     ]
    },
    {
     "name": "stdout",
     "output_type": "stream",
     "text": [
      "Copying file://../../data/chipseq_MEF2CMEF2D_degraded/diffData/MV411_RNP_AAVS1-H3K27AC_R2_peaks.narrowPeak [Content-Type=application/octet-stream]...\n",
      "Copying file://../../data/chipseq_MEF2CMEF2D_degraded/diffData/MV411_RNP_MEF2C_MEF2D-H3K27AC_R2_peaks.xls [Content-Type=application/vnd.ms-excel]...\n",
      "Copying file://../../data/chipseq_MEF2CMEF2D_degraded/diffData/MV411_RNP_MEF2D-H3K27AC_R2_control_lambda.bdg [Content-Type=application/octet-stream]...\n",
      "Copying file://../../data/chipseq_MEF2CMEF2D_degraded/diffData/MV411_RNP_MEF2C-H3K27AC_R2_control_lambda.bdg [Content-Type=application/octet-stream]...\n",
      "Copying file://../../data/chipseq_MEF2CMEF2D_degraded/diffData/MV411_RNP_MEF2C_MEF2D-H3K27AC_R1_control_lambda.bdg [Content-Type=application/octet-stream]...\n",
      "Copying file://../../data/chipseq_MEF2CMEF2D_degraded/diffData/MV411_RNP_MEF2C_MEF2D-H3K27AC_R1_peaks.narrowPeak [Content-Type=application/octet-stream]...\n",
      "Copying file://../../data/chipseq_MEF2CMEF2D_degraded/diffData/MV411_RNP_MEF2D-H3K27AC_R2_peaks.narrowPeak [Content-Type=application/octet-stream]...\n",
      "Copying file://../../data/chipseq_MEF2CMEF2D_degraded/diffData/MV411_RNP_MEF2C_MEF2D-H3K27AC_R2_treat_pileup.bdg [Content-Type=application/octet-stream]...\n",
      "Copying file://../../data/chipseq_MEF2CMEF2D_degraded/diffData/MV411_RNP_MEF2D-H3K27AC_R2_summits.bed [Content-Type=application/octet-stream]...\n",
      "Copying file://../../data/chipseq_MEF2CMEF2D_degraded/diffData/MV411_RNP_AAVS1-H3K27AC_R1_control_lambda.bdg [Content-Type=application/octet-stream]...\n",
      "Copying file://../../data/chipseq_MEF2CMEF2D_degraded/diffData/MV411_RNP_AAVS1-H3K27AC_R1_treat_pileup.bdg [Content-Type=application/octet-stream]...\n",
      "Copying file://../../data/chipseq_MEF2CMEF2D_degraded/diffData/MV411_RNP_MEF2C-H3K27AC_R1_peaks.xls [Content-Type=application/vnd.ms-excel]...\n",
      "Copying file://../../data/chipseq_MEF2CMEF2D_degraded/diffData/MV411_RNP_MEF2C-H3K27AC_R1_peaks.narrowPeak [Content-Type=application/octet-stream]...\n",
      "Copying file://../../data/chipseq_MEF2CMEF2D_degraded/diffData/MV411_RNP_AAVS1-H3K27AC_R2_peaks.xls [Content-Type=application/vnd.ms-excel]...\n",
      "Copying file://../../data/chipseq_MEF2CMEF2D_degraded/diffData/MV411_RNP_AAVS1-H3K27AC_R1_peaks.xls [Content-Type=application/vnd.ms-excel]...\n",
      "Copying file://../../data/chipseq_MEF2CMEF2D_degraded/diffData/MV411_RNP_MEF2D-H3K27AC_R1_summits.bed [Content-Type=application/octet-stream]...\n",
      "Copying file://../../data/chipseq_MEF2CMEF2D_degraded/diffData/MV411_RNP_MEF2C_MEF2D-H3K27AC_R1_peaks.xls [Content-Type=application/vnd.ms-excel]...\n",
      "Copying file://../../data/chipseq_MEF2CMEF2D_degraded/diffData/MV411_RNP_MEF2D-H3K27AC_R1_peaks.narrowPeak [Content-Type=application/octet-stream]...\n",
      "Copying file://../../data/chipseq_MEF2CMEF2D_degraded/diffData/MV411_RNP_MEF2C-H3K27AC_R1_summits.bed [Content-Type=application/octet-stream]...\n",
      "Copying file://../../data/chipseq_MEF2CMEF2D_degraded/diffData/MV411_RNP_MEF2C-H3K27AC_R2_peaks.narrowPeak [Content-Type=application/octet-stream]...\n",
      "Copying file://../../data/chipseq_MEF2CMEF2D_degraded/diffData/MV411_RNP_MEF2D-H3K27AC_R1_control_lambda.bdg [Content-Type=application/octet-stream]...\n",
      "Copying file://../../data/chipseq_MEF2CMEF2D_degraded/diffData/MV411_RNP_AAVS1-H3K27AC_R2_summits.bed [Content-Type=application/octet-stream]...\n",
      "Copying file://../../data/chipseq_MEF2CMEF2D_degraded/diffData/MV411_RNP_AAVS1-H3K27AC_R1_summits.bed [Content-Type=application/octet-stream]...\n",
      "\\ [40/40 files][ 56.2 GiB/ 56.2 GiB] 100% Done 160.4 MiB/s ETA 00:00:00         \n",
      "Operation completed over 40 objects/56.2 GiB.                                    \n",
      "Copying file://../../data/chipseq_MEF2CMEF2D_degraded/diffPeaks_unscaled/MV411_RNP_AAVS1-H3K27AC_R1_treat_pileup_vs_MV411_RNP_MEF2C-H3K27AC_R1_treat_pileup_c3.0_cond2.bed [Content-Type=application/octet-stream]...\n",
      "Copying file://../../data/chipseq_MEF2CMEF2D_degraded/diffPeaks_unscaled/MV411_RNP_AAVS1-H3K27AC_R2_treat_pileup_vs_MV411_RNP_MEF2D-H3K27AC_R2_treat_pileup_c3.0_common.bed [Content-Type=application/octet-stream]...\n",
      "Copying file://../../data/chipseq_MEF2CMEF2D_degraded/diffPeaks_unscaled/MEF2D_v2_mat.gz [Content-Type=application/octet-stream]...\n",
      "Copying file://../../data/chipseq_MEF2CMEF2D_degraded/diffPeaks_unscaled/MV411_RNP_AAVS1-H3K27AC_R1_treat_pileup_vs_MV411_RNP_MEF2D-H3K27AC_R1_treat_pileup_c3.0_cond1.bed [Content-Type=application/octet-stream]...\n",
      "Copying file://../../data/chipseq_MEF2CMEF2D_degraded/diffPeaks_unscaled/MEF2C_v2_mat.gz [Content-Type=application/octet-stream]...\n",
      "Copying file://../../data/chipseq_MEF2CMEF2D_degraded/diffPeaks_unscaled/MV411_RNP_AAVS1-H3K27AC_R2_treat_pileup_vs_MV411_RNP_MEF2D-H3K27AC_R2_treat_pileup_c3.0_cond1.bed [Content-Type=application/octet-stream]...\n",
      "Copying file://../../data/chipseq_MEF2CMEF2D_degraded/diffPeaks_unscaled/MV411_RNP_AAVS1-H3K27AC_R2_treat_pileup_vs_MV411_RNP_MEF2C-H3K27AC_R2_treat_pileup_c3.0_cond2.bed [Content-Type=application/octet-stream]...\n",
      "Copying file://../../data/chipseq_MEF2CMEF2D_degraded/diffPeaks_unscaled/MV411_RNP_AAVS1-H3K27AC_R1_treat_pileup_vs_MV411_RNP_MEF2C_MEF2D-H3K27AC_R1_treat_pileup_c3.0_cond1.bed [Content-Type=application/octet-stream]...\n",
      "Copying file://../../data/chipseq_MEF2CMEF2D_degraded/diffPeaks_unscaled/MV411_RNP_AAVS1-H3K27AC_R2_treat_pileup_vs_MV411_RNP_MEF2D-H3K27AC_R2_treat_pileup_c3.0_cond2.bed [Content-Type=application/octet-stream]...\n",
      "Copying file://../../data/chipseq_MEF2CMEF2D_degraded/diffPeaks_unscaled/MEF2C-MEF2D_mat.pdf [Content-Type=application/pdf]...\n",
      "Copying file://../../data/chipseq_MEF2CMEF2D_degraded/diffPeaks_unscaled/MV411_RNP_AAVS1-H3K27AC_R2_treat_pileup_vs_MV411_RNP_MEF2C_MEF2D-H3K27AC_R2_treat_pileup_c3.0_common.bed [Content-Type=application/octet-stream]...\n",
      "Copying file://../../data/chipseq_MEF2CMEF2D_degraded/diffPeaks_unscaled/MEF2C-MEF2D_v2_mat.pdf [Content-Type=application/pdf]...\n",
      "Copying file://../../data/chipseq_MEF2CMEF2D_degraded/diffPeaks_unscaled/MV411_RNP_AAVS1-H3K27AC_R1_treat_pileup_vs_MV411_RNP_MEF2C_MEF2D-H3K27AC_R1_treat_pileup_c3.0_common.bed [Content-Type=application/octet-stream]...\n",
      "Copying file://../../data/chipseq_MEF2CMEF2D_degraded/diffPeaks_unscaled/MV411_RNP_AAVS1-H3K27AC_R2_treat_pileup_vs_MV411_RNP_MEF2C-H3K27AC_R2_treat_pileup_c3.0_cond1.bed [Content-Type=application/octet-stream]...\n",
      "Copying file://../../data/chipseq_MEF2CMEF2D_degraded/diffPeaks_unscaled/MEF2C_v2_mat.pdf [Content-Type=application/pdf]...\n",
      "Copying file://../../data/chipseq_MEF2CMEF2D_degraded/diffPeaks_unscaled/MEF2C-MEF2D_v2_mat.gz [Content-Type=application/octet-stream]...\n",
      "Copying file://../../data/chipseq_MEF2CMEF2D_degraded/diffPeaks_unscaled/MEF2C_mat.pdf [Content-Type=application/pdf]...\n",
      "Copying file://../../data/chipseq_MEF2CMEF2D_degraded/diffPeaks_unscaled/MEF2C-MEF2D_mat.gz [Content-Type=application/octet-stream]...\n",
      "Copying file://../../data/chipseq_MEF2CMEF2D_degraded/diffPeaks_unscaled/MV411_RNP_AAVS1-H3K27AC_R1_treat_pileup_vs_MV411_RNP_MEF2C-H3K27AC_R1_treat_pileup_c3.0_cond1.bed [Content-Type=application/octet-stream]...\n",
      "Copying file://../../data/chipseq_MEF2CMEF2D_degraded/diffPeaks_unscaled/MEF2C_mat.gz [Content-Type=application/octet-stream]...\n",
      "Copying file://../../data/chipseq_MEF2CMEF2D_degraded/diffPeaks_unscaled/MV411_RNP_AAVS1-H3K27AC_R2_treat_pileup_vs_MV411_RNP_MEF2C_MEF2D-H3K27AC_R2_treat_pileup_c3.0_cond1.bed [Content-Type=application/octet-stream]...\n",
      "Copying file://../../data/chipseq_MEF2CMEF2D_degraded/diffPeaks_unscaled/MV411_RNP_AAVS1-H3K27AC_R2_treat_pileup_vs_MV411_RNP_MEF2C_MEF2D-H3K27AC_R2_treat_pileup_c3.0_cond2.bed [Content-Type=application/octet-stream]...\n",
      "Copying file://../../data/chipseq_MEF2CMEF2D_degraded/diffPeaks_unscaled/MV411_RNP_AAVS1-H3K27AC_R1_treat_pileup_vs_MV411_RNP_MEF2C-H3K27AC_R1_treat_pileup_c3.0_common.bed [Content-Type=application/octet-stream]...\n",
      "Copying file://../../data/chipseq_MEF2CMEF2D_degraded/diffPeaks_unscaled/MV411_RNP_AAVS1-H3K27AC_R1_treat_pileup_vs_MV411_RNP_MEF2D-H3K27AC_R1_treat_pileup_c3.0_cond2.bed [Content-Type=application/octet-stream]...\n",
      "Copying file://../../data/chipseq_MEF2CMEF2D_degraded/diffPeaks_unscaled/MEF2D_v2_mat.pdf [Content-Type=application/pdf]...\n",
      "Copying file://../../data/chipseq_MEF2CMEF2D_degraded/diffPeaks_unscaled/MEF2D_mat.gz [Content-Type=application/octet-stream]...\n"
     ]
    },
    {
     "name": "stdout",
     "output_type": "stream",
     "text": [
      "Copying file://../../data/chipseq_MEF2CMEF2D_degraded/diffPeaks_unscaled/MV411_RNP_AAVS1-H3K27AC_R1_treat_pileup_vs_MV411_RNP_MEF2C_MEF2D-H3K27AC_R1_treat_pileup_c3.0_cond2.bed [Content-Type=application/octet-stream]...\n",
      "Copying file://../../data/chipseq_MEF2CMEF2D_degraded/diffPeaks_unscaled/MV411_RNP_AAVS1-H3K27AC_R1_treat_pileup_vs_MV411_RNP_MEF2D-H3K27AC_R1_treat_pileup_c3.0_common.bed [Content-Type=application/octet-stream]...\n",
      "Copying file://../../data/chipseq_MEF2CMEF2D_degraded/diffPeaks_unscaled/MV411_RNP_AAVS1-H3K27AC_R2_treat_pileup_vs_MV411_RNP_MEF2C-H3K27AC_R2_treat_pileup_c3.0_common.bed [Content-Type=application/octet-stream]...\n",
      "Copying file://../../data/chipseq_MEF2CMEF2D_degraded/diffPeaks_unscaled/MEF2D_mat.pdf [Content-Type=application/pdf]...\n",
      "| [30/30 files][579.8 MiB/579.8 MiB] 100% Done                                  \n",
      "Operation completed over 30 objects/579.8 MiB.                                   \n",
      "Copying file://../../data/chipseq_MEF2CMEF2D_degraded/diffData_unscaled/MV411_RNP_MEF2C-H3K27AC_R2_summits.bed [Content-Type=application/octet-stream]...\n",
      "Copying file://../../data/chipseq_MEF2CMEF2D_degraded/diffData_unscaled/MV411_RNP_AAVS1-H3K27AC_R1_peaks.narrowPeak [Content-Type=application/octet-stream]...\n",
      "Copying file://../../data/chipseq_MEF2CMEF2D_degraded/diffData_unscaled/MV411_RNP_MEF2C-H3K27AC_R2_treat_pileup.bdg [Content-Type=application/octet-stream]...\n",
      "Copying file://../../data/chipseq_MEF2CMEF2D_degraded/diffData_unscaled/MV411_RNP_MEF2C_MEF2D-H3K27AC_R2_peaks.narrowPeak [Content-Type=application/octet-stream]...\n",
      "Copying file://../../data/chipseq_MEF2CMEF2D_degraded/diffData_unscaled/MV411_RNP_MEF2D-H3K27AC_R2_peaks.xls [Content-Type=application/vnd.ms-excel]...\n",
      "==> NOTE: You are uploading one or more large file(s), which would run          \n",
      "significantly faster if you enable parallel composite uploads. This\n",
      "feature can be enabled by editing the\n",
      "\"parallel_composite_upload_threshold\" value in your .boto\n",
      "configuration file. However, note that if you do this large files will\n",
      "be uploaded as `composite objects\n",
      "<https://cloud.google.com/storage/docs/composite-objects>`_,which\n",
      "means that any user who downloads such objects will need to have a\n",
      "compiled crcmod installed (see \"gsutil help crcmod\"). This is because\n",
      "without a compiled crcmod, computing checksums on composite objects is\n",
      "so slow that gsutil disables downloads of composite objects.\n",
      "\n",
      "Copying file://../../data/chipseq_MEF2CMEF2D_degraded/diffData_unscaled/MV411_RNP_MEF2C_MEF2D-H3K27AC_R2_control_lambda.bdg [Content-Type=application/octet-stream]...\n",
      "Copying file://../../data/chipseq_MEF2CMEF2D_degraded/diffData_unscaled/MV411_RNP_MEF2C_MEF2D-H3K27AC_R2_summits.bed [Content-Type=application/octet-stream]...\n",
      "Copying file://../../data/chipseq_MEF2CMEF2D_degraded/diffData_unscaled/MV411_RNP_MEF2C_MEF2D-H3K27AC_R1_treat_pileup.bdg [Content-Type=application/octet-stream]...\n",
      "Copying file://../../data/chipseq_MEF2CMEF2D_degraded/diffData_unscaled/MV411_RNP_MEF2D-H3K27AC_R1_treat_pileup.bdg [Content-Type=application/octet-stream]...\n",
      "Copying file://../../data/chipseq_MEF2CMEF2D_degraded/diffData_unscaled/MV411_RNP_MEF2C-H3K27AC_R1_control_lambda.bdg [Content-Type=application/octet-stream]...\n",
      "Copying file://../../data/chipseq_MEF2CMEF2D_degraded/diffData_unscaled/MV411_RNP_AAVS1-H3K27AC_R2_control_lambda.bdg [Content-Type=application/octet-stream]...\n",
      "Copying file://../../data/chipseq_MEF2CMEF2D_degraded/diffData_unscaled/MV411_RNP_MEF2D-H3K27AC_R2_treat_pileup.bdg [Content-Type=application/octet-stream]...\n",
      "Copying file://../../data/chipseq_MEF2CMEF2D_degraded/diffData_unscaled/MV411_RNP_MEF2C-H3K27AC_R1_treat_pileup.bdg [Content-Type=application/octet-stream]...\n",
      "Copying file://../../data/chipseq_MEF2CMEF2D_degraded/diffData_unscaled/MV411_RNP_MEF2C-H3K27AC_R2_peaks.xls [Content-Type=application/vnd.ms-excel]...\n",
      "Copying file://../../data/chipseq_MEF2CMEF2D_degraded/diffData_unscaled/MV411_RNP_AAVS1-H3K27AC_R2_treat_pileup.bdg [Content-Type=application/octet-stream]...\n",
      "Copying file://../../data/chipseq_MEF2CMEF2D_degraded/diffData_unscaled/MV411_RNP_MEF2C_MEF2D-H3K27AC_R1_summits.bed [Content-Type=application/octet-stream]...\n",
      "Copying file://../../data/chipseq_MEF2CMEF2D_degraded/diffData_unscaled/MV411_RNP_MEF2D-H3K27AC_R1_peaks.xls [Content-Type=application/vnd.ms-excel]...\n",
      "Copying file://../../data/chipseq_MEF2CMEF2D_degraded/diffData_unscaled/MV411_RNP_AAVS1-H3K27AC_R2_peaks.narrowPeak [Content-Type=application/octet-stream]...\n",
      "Copying file://../../data/chipseq_MEF2CMEF2D_degraded/diffData_unscaled/MV411_RNP_MEF2C_MEF2D-H3K27AC_R2_peaks.xls [Content-Type=application/vnd.ms-excel]...\n",
      "Copying file://../../data/chipseq_MEF2CMEF2D_degraded/diffData_unscaled/MV411_RNP_MEF2D-H3K27AC_R2_control_lambda.bdg [Content-Type=application/octet-stream]...\n",
      "Copying file://../../data/chipseq_MEF2CMEF2D_degraded/diffData_unscaled/MV411_RNP_MEF2C-H3K27AC_R1_peaks.narrowPeak [Content-Type=application/octet-stream]...\n",
      "Copying file://../../data/chipseq_MEF2CMEF2D_degraded/diffData_unscaled/MV411_RNP_AAVS1-H3K27AC_R1_peaks.xls [Content-Type=application/vnd.ms-excel]...\n",
      "Copying file://../../data/chipseq_MEF2CMEF2D_degraded/diffData_unscaled/MV411_RNP_MEF2C_MEF2D-H3K27AC_R1_control_lambda.bdg [Content-Type=application/octet-stream]...\n",
      "Copying file://../../data/chipseq_MEF2CMEF2D_degraded/diffData_unscaled/MV411_RNP_MEF2D-H3K27AC_R1_summits.bed [Content-Type=application/octet-stream]...\n",
      "Copying file://../../data/chipseq_MEF2CMEF2D_degraded/diffData_unscaled/MV411_RNP_MEF2C-H3K27AC_R2_control_lambda.bdg [Content-Type=application/octet-stream]...\n",
      "Copying file://../../data/chipseq_MEF2CMEF2D_degraded/diffData_unscaled/MV411_RNP_MEF2D-H3K27AC_R2_peaks.narrowPeak [Content-Type=application/octet-stream]...\n",
      "Copying file://../../data/chipseq_MEF2CMEF2D_degraded/diffData_unscaled/MV411_RNP_MEF2C_MEF2D-H3K27AC_R1_peaks.xls [Content-Type=application/vnd.ms-excel]...\n",
      "Copying file://../../data/chipseq_MEF2CMEF2D_degraded/diffData_unscaled/MV411_RNP_MEF2C-H3K27AC_R1_peaks.xls [Content-Type=application/vnd.ms-excel]...\n",
      "Copying file://../../data/chipseq_MEF2CMEF2D_degraded/diffData_unscaled/MV411_RNP_MEF2D-H3K27AC_R1_peaks.narrowPeak [Content-Type=application/octet-stream]...\n",
      "Copying file://../../data/chipseq_MEF2CMEF2D_degraded/diffData_unscaled/MV411_RNP_MEF2C_MEF2D-H3K27AC_R1_peaks.narrowPeak [Content-Type=application/octet-stream]...\n",
      "Copying file://../../data/chipseq_MEF2CMEF2D_degraded/diffData_unscaled/MV411_RNP_MEF2C_MEF2D-H3K27AC_R2_treat_pileup.bdg [Content-Type=application/octet-stream]...\n",
      "Copying file://../../data/chipseq_MEF2CMEF2D_degraded/diffData_unscaled/MV411_RNP_MEF2D-H3K27AC_R2_summits.bed [Content-Type=application/octet-stream]...\n",
      "Copying file://../../data/chipseq_MEF2CMEF2D_degraded/diffData_unscaled/MV411_RNP_AAVS1-H3K27AC_R1_treat_pileup.bdg [Content-Type=application/octet-stream]...\n",
      "Copying file://../../data/chipseq_MEF2CMEF2D_degraded/diffData_unscaled/MV411_RNP_AAVS1-H3K27AC_R1_control_lambda.bdg [Content-Type=application/octet-stream]...\n",
      "Copying file://../../data/chipseq_MEF2CMEF2D_degraded/diffData_unscaled/MV411_RNP_AAVS1-H3K27AC_R2_peaks.xls [Content-Type=application/vnd.ms-excel]...\n",
      "Copying file://../../data/chipseq_MEF2CMEF2D_degraded/diffData_unscaled/MV411_RNP_AAVS1-H3K27AC_R1_summits.bed [Content-Type=application/octet-stream]...\n",
      "Copying file://../../data/chipseq_MEF2CMEF2D_degraded/diffData_unscaled/MV411_RNP_AAVS1-H3K27AC_R2_summits.bed [Content-Type=application/octet-stream]...\n",
      "Copying file://../../data/chipseq_MEF2CMEF2D_degraded/diffData_unscaled/MV411_RNP_MEF2C-H3K27AC_R1_summits.bed [Content-Type=application/octet-stream]...\n",
      "Copying file://../../data/chipseq_MEF2CMEF2D_degraded/diffData_unscaled/MV411_RNP_MEF2D-H3K27AC_R1_control_lambda.bdg [Content-Type=application/octet-stream]...\n",
      "Copying file://../../data/chipseq_MEF2CMEF2D_degraded/diffData_unscaled/MV411_RNP_MEF2C-H3K27AC_R2_peaks.narrowPeak [Content-Type=application/octet-stream]...\n",
      "| [40/40 files][ 35.7 GiB/ 35.7 GiB] 100% Done 127.5 MiB/s ETA 00:00:00         \n",
      "Operation completed over 40 objects/35.7 GiB.                                    \n",
      "Copying file://../../data/chipseq_MEF2CMEF2D_degraded/peakplot/MEF2C_v2_mat.gz [Content-Type=application/octet-stream]...\n"
     ]
    },
    {
     "name": "stdout",
     "output_type": "stream",
     "text": [
      "Copying file://../../data/chipseq_MEF2CMEF2D_degraded/peakplot/MEF2C-MEF2D_v2_mat.gz [Content-Type=application/octet-stream]...\n",
      "Copying file://../../data/chipseq_MEF2CMEF2D_degraded/peakplot/MEF2C_mat.pdf [Content-Type=application/pdf]...\n",
      "Copying file://../../data/chipseq_MEF2CMEF2D_degraded/peakplot/MEF2C-MEF2D_mat.gz [Content-Type=application/octet-stream]...\n",
      "Copying file://../../data/chipseq_MEF2CMEF2D_degraded/peakplot/MEF2C_v2_mat.pdf [Content-Type=application/pdf]...\n",
      "Copying file://../../data/chipseq_MEF2CMEF2D_degraded/peakplot/AAVS1_mat.pdf [Content-Type=application/pdf]...\n",
      "Copying file://../../data/chipseq_MEF2CMEF2D_degraded/peakplot/MEF2C-MEF2D_mat.pdf [Content-Type=application/pdf]...\n",
      "Copying file://../../data/chipseq_MEF2CMEF2D_degraded/peakplot/MEF2C-MEF2D_v2_mat.pdf [Content-Type=application/pdf]...\n",
      "Copying file://../../data/chipseq_MEF2CMEF2D_degraded/peakplot/AAVS1_mat.gz [Content-Type=application/octet-stream]...\n",
      "Copying file://../../data/chipseq_MEF2CMEF2D_degraded/peakplot/MEF2C_mat.gz [Content-Type=application/octet-stream]...\n",
      "Copying file://../../data/chipseq_MEF2CMEF2D_degraded/peakplot/AAVS1_v2_mat.pdf [Content-Type=application/pdf]...\n",
      "Copying file://../../data/chipseq_MEF2CMEF2D_degraded/peakplot/AAVS1_v2_mat.gz [Content-Type=application/octet-stream]...\n",
      "\\ [12/12 files][104.6 MiB/104.6 MiB] 100% Done                                  \n",
      "Operation completed over 12 objects/104.6 MiB.                                   \n"
     ]
    }
   ],
   "source": [
    "! gsutil -m cp -r ../../data/$project/diffPeaks gs://amlproject/Chip/$project/\n",
    "! gsutil -m cp -r ../../data/$project/diffData gs://amlproject/Chip/$project/\n",
    "! gsutil -m cp -r ../../data/$project/diffPeaks_unscaled gs://amlproject/Chip/$project/\n",
    "! gsutil -m cp -r ../../data/$project/diffData_unscaled gs://amlproject/Chip/$project/\n",
    "! gsutil -m cp -r ../../data/$project/peakplot gs://amlproject/Chip/$project/"
   ]
  },
  {
   "cell_type": "markdown",
   "metadata": {},
   "source": [
    "## v8"
   ]
  },
  {
   "cell_type": "code",
   "execution_count": null,
   "metadata": {},
   "outputs": [],
   "source": [
    "project=\"chipseq_IRF8_degraded\""
   ]
  },
  {
   "cell_type": "code",
   "execution_count": null,
   "metadata": {},
   "outputs": [],
   "source": [
    "fastq = ! gsutil ls gs://transfer-amlproject/201023_MP8292_fastq/\n",
    "fastq"
   ]
  },
  {
   "cell_type": "code",
   "execution_count": null,
   "metadata": {},
   "outputs": [],
   "source": [
    "mkdir ../data/$project/ && mkdir ../data/$project/qc/"
   ]
  },
  {
   "cell_type": "code",
   "execution_count": null,
   "metadata": {},
   "outputs": [],
   "source": [
    "!gsutil -m cp gs://transfer-amlproject/201023_MP8292_fastq/multiqc_report.html ../data/$project/qc/\n",
    "!gsutil -m cp -r gs://transfer-amlproject/201023_MP8292_fastq/Reports/ ../data/$project/qc/\n",
    "!gsutil -m cp -r gs://transfer-amlproject/201023_MP8292_fastq/multiqc_data/ ../data/$project/qc/"
   ]
  },
  {
   "cell_type": "code",
   "execution_count": null,
   "metadata": {},
   "outputs": [],
   "source": [
    "! gsutil -m cp gs://transfer-amlproject/201023_MP8292_fastq/*  gs://transfer-amlproject/$project/"
   ]
  },
  {
   "cell_type": "markdown",
   "metadata": {},
   "source": [
    "### analysis"
   ]
  },
  {
   "cell_type": "code",
   "execution_count": null,
   "metadata": {},
   "outputs": [],
   "source": [
    "rename = {\n",
    "\"20201023_IRF8_DMSO_MP8292_S119\": \"mp901-MV411_IRF8_NT_DMSO-IRF8-r1\",\n",
    "\"20201023_IRF8_VHL_MP8292_S125\": \"mp902-MV411_IRF8_NT_VHL-IRF8-r1\",\n",
    "\"20201023_MED1_DMSO_MP8292_S122\": \"mp903-MV411_IRF8_NT_DMSO-MED1-r1\",\n",
    "\"20201023_MED1_VHL_MP8292_S128\": \"mp904-MV411_IRF8_NT_VHL-MED1-r1\",\n",
    "\"20201023_MEF2C_DMSO_MP8292_S121\": \"mp905-MV411_IRF8_NT_DMSO-MEF2C-r1\",\n",
    "\"20201023_MEF2C_VHL_MP8292_S127\": \"mp906-MV411_IRF8_NT_VHL-MEF2C-r1\",\n",
    "\"20201023_MEF2D_DMSO_MP8292_S120\": \"mp907-MV411_IRF8_NT_DMSO-MEF2D-r1\",\n",
    "\"20201023_MEF2D_VHL_MP8292_S126\": \"mp908-MV411_IRF8_NT_VHL-MEF2D-r1\",\n",
    "\"20201023_MYC_DMSO_MP8292_S123\": \"mp909-MV411_IRF8_NT_DMSO-MYC-r1\",\n",
    "\"20201023_MYC_VHL_MP8292_S129\": \"mp910-MV411_IRF8_NT_VHL-MYC-r1\",\n",
    "\"20201023_POL_II_total_DMSO_MP8292_S124\": \"mp911-MV411_IRF8_NT_DMSO-POLII_total-r1\",\n",
    "\"20201023_POL_II_total_VHL_MP8292_S130\": \"mp912-MV411_IRF8_NT_VHL-POLII_total-r1\",}"
   ]
  },
  {
   "cell_type": "code",
   "execution_count": null,
   "metadata": {},
   "outputs": [],
   "source": [
    "for val in fastq:\n",
    "    rep = val\n",
    "    for k,v in rename.items():\n",
    "        rep = rep.replace(k,v)\n",
    "    rep = rep.replace('transfer-amlproject/201023_MP8292_fastq/',\"amlproject/Chip/\"+project+'/fastqs')\n",
    "    !gsutil cp $val $rep"
   ]
  },
  {
   "cell_type": "code",
   "execution_count": null,
   "metadata": {},
   "outputs": [],
   "source": [
    "from gsheets import Sheets\n",
    "sheets = Sheets.from_files('~/.client_secret.json', '~/.storage.json')\n",
    "url=\"https://docs.google.com/spreadsheets/d/1yFLjYB1McU530JnLgL0QIMAKIkVl3kl0_LCHje2gk8U\"\n",
    "gsheet = sheets.get(url).sheets[2].to_frame()"
   ]
  },
  {
   "cell_type": "code",
   "execution_count": null,
   "metadata": {},
   "outputs": [],
   "source": [
    "fastq = ! gsutil ls gs://amlproject/Chip/$project/fastqs/\n",
    "fastq"
   ]
  },
  {
   "cell_type": "code",
   "execution_count": null,
   "metadata": {},
   "outputs": [],
   "source": [
    "df = {\n",
    "\"fastq_1\": [],\n",
    "\"fastq_2\": [],\n",
    "\"antibody\": [],\n",
    "\"group\": [],\n",
    "\"replicate\": [],\n",
    "\"control\": []\n",
    "}\n",
    "for val in h.grouped(fastq,2):\n",
    "    row = gsheet[gsheet.id==val[0].split('/')[-1].split('-')[0]]\n",
    "    df['group'].append(\"MV4\"+row['name'].values[0].split('-r')[0].split('-MV4')[1])\n",
    "    df['replicate'].append(row['name'].values[0].split('-r')[1])\n",
    "    df['fastq_1'].append(val[0])\n",
    "    df['fastq_2'].append(val[1])\n",
    "    df['antibody'].append(row['protein'].values[0])\n",
    "    df['control'].append(\"INPUT\")\n",
    "df['group'].append('INPUT')\n",
    "df['replicate'].append(1)\n",
    "df['fastq_1'].append('gs://amlproject/Chip/IRF2BP2_degraded_rep3/fastqs/mp845-MV411-INPUT-r2_R1.fastq.gz')\n",
    "df['fastq_2'].append('gs://amlproject/Chip/IRF2BP2_degraded_rep3/fastqs/mp845-MV411-INPUT-r2_R2.fastq.gz')\n",
    "df['antibody'].append(\"\")\n",
    "df['control'].append(\"\")\n",
    "df = pd.DataFrame(df)"
   ]
  },
  {
   "cell_type": "code",
   "execution_count": null,
   "metadata": {},
   "outputs": [],
   "source": [
    "df"
   ]
  },
  {
   "cell_type": "code",
   "execution_count": null,
   "metadata": {},
   "outputs": [],
   "source": [
    "df[df.columns[[3,4,0,1,2,5]]].to_csv('../nextflow/'+project+'_design.csv',index=False)"
   ]
  },
  {
   "cell_type": "markdown",
   "metadata": {},
   "source": [
    "### about\n",
    "\n",
    "0. you need to have a google project set up with a billing account\n",
    "1. you need to activte your APIs this way: https://cloud.google.com/life-sciences/docs/tutorials/nextflow?hl=fr\n",
    "2. nextflow needs to be installed with this installation command `export NXF_MODE=google && curl https://get.nextflow.io | bash`"
   ]
  },
  {
   "cell_type": "markdown",
   "metadata": {},
   "source": [
    "3. you then need to create a local coffig file: `echo \"params.outdir='YOUROUTDIR'\\nregion='an_available_region_in_gcp'\\nlocation='an_available_region_in_googlelifesciennce'\\nproject='your_project_id'\\nworkdir='WHERE_throughput_is_saved'\" >> custom_local_config.config`"
   ]
  },
  {
   "cell_type": "code",
   "execution_count": null,
   "metadata": {},
   "outputs": [],
   "source": [
    "! cd ../../nextflow log ## to get access to the previous runs"
   ]
  },
  {
   "cell_type": "code",
   "execution_count": null,
   "metadata": {},
   "outputs": [],
   "source": [
    "#process chips \n",
    "! ../../nextflow run jkobject/chipseq \\\n",
    "    --paired_end \\\n",
    "    --seq_center 'DFCI' \\\n",
    "    --email 'jkobject@gmail.com' \\\n",
    "    --input ../nextflow/chipseq_IRF8_degraded_design.csv \\\n",
    "    --genome GRCh38 \\\n",
    "    --max_cpus 16 \\\n",
    "    -profile jkcloud \\ #my profile for the cloud (to edit for your account)\n",
    "    -w gs://workamlproject/IRF8res \\ #where the withinput will be stored\n",
    "    --spiking \\ #I have spiking using drosophilia genome (default)\n",
    "    --outdir gs://workamlproject/IRF8 \\ #specify aa bucket+folderr where the results will be\n",
    "    --tracedir ../nextflow/IRF8info/ \\ #you need to specify a local place for that\n",
    "    #--custom_local_config custom_local.config"
   ]
  },
  {
   "cell_type": "code",
   "execution_count": null,
   "metadata": {},
   "outputs": [],
   "source": [
    "!cp -r ../../data/results/* ../../data/$project/ && sudo rm -r ../data/results && sudo rm -r ..data/work"
   ]
  },
  {
   "cell_type": "code",
   "execution_count": null,
   "metadata": {},
   "outputs": [],
   "source": [
    "# get scaling values\n",
    "norm, mapped = h.getSpikeInControlScales(refgenome=\"../../data/ref/reference_droso.fna\",\n",
    "fastQfolder='../../data/'+project+'/fastqs/',\n",
    "pairedEnd=True, cores=12,\n",
    "tofilter=True,\n",
    "totrim=True,\n",
    "tomap=True,\n",
    "results=\"../../data/\"+project+\"/\",\n",
    "pathtotrim_galore=\"../../TrimGalore-0.6.5/trim_galore\")\n",
    "norm, mapped"
   ]
  },
  {
   "cell_type": "markdown",
   "metadata": {},
   "source": [
    "computing scales from the excel sheet"
   ]
  },
  {
   "cell_type": "code",
   "execution_count": null,
   "metadata": {},
   "outputs": [],
   "source": [
    "scales = [0.3011826465, # 'MV411_RNP_IRF8-H3K27AC_R1',\n",
    "0.4865371752, # 'MV411_RNP_IRF8-H3K27AC_R2',\n",
    "0.5670857556, # 'MV411_RNP_MEF2D-H3K27AC_R1',\n",
    "0.7349663619, # 'MV411_RNP_MEF2D-H3K27AC_R2',\n",
    "0.7548163023, # 'MV411_RNP_MYB-H3K27AC_R1',\n",
    "0.5976325206, # 'MV411_RNP_MYB-H3K27AC_R2',\n",
    "1.400750948, # 'MV411_RNP_RUNX1-H3K27AC_R1',\n",
    "0.849637265, # 'MV411_RNP_RUNX1-H3K27AC_R2',\n",
    "0.7539535476, # 'MV411_RNP_RUNX1_RUNX2-H3K27AC_R1',\n",
    "0.6905692051, # 'MV411_RNP_RUNX1_RUNX2-H3K27AC_R2',\n",
    "1.50505384, # 'MV411_RNP_RUNX2-H3K27AC_R1',\n",
    "0.8442345485, # 'MV411_RNP_RUNX2-H3K27AC_R2',\n",
    "0.5019100631, # 'MV411_RNP_SPI1-H3K27AC_R1',\n",
    "0.8688220473, # 'MV411_RNP_SPI1-H3K27AC_R2'\n",
    "         ]"
   ]
  },
  {
   "cell_type": "code",
   "execution_count": null,
   "metadata": {
    "scrolled": true
   },
   "outputs": [],
   "source": [
    "bams = ! ls ../../data/$project/bwa/mergedLibrary/*.bam\n",
    "bams"
   ]
  },
  {
   "cell_type": "code",
   "execution_count": null,
   "metadata": {},
   "outputs": [],
   "source": [
    "bams[6]"
   ]
  },
  {
   "cell_type": "markdown",
   "metadata": {},
   "source": [
    "### on scalled data"
   ]
  },
  {
   "cell_type": "code",
   "execution_count": null,
   "metadata": {},
   "outputs": [],
   "source": [
    "! mkdir ../../data/$project/diffPeaks/ && ! mkdir ../../data/$project/diffData/"
   ]
  },
  {
   "cell_type": "code",
   "execution_count": null,
   "metadata": {},
   "outputs": [],
   "source": [
    "! mkdir ../../data/$project/droso_aligned"
   ]
  },
  {
   "cell_type": "code",
   "execution_count": null,
   "metadata": {},
   "outputs": [],
   "source": [
    "! mv ../../data/$project/mp* ../../data/$project/droso_aligned"
   ]
  },
  {
   "cell_type": "code",
   "execution_count": null,
   "metadata": {},
   "outputs": [],
   "source": [
    "wigs = ! ls ../../data/$project/bwa/mergedLibrary/bigwig/*.bigWig"
   ]
  },
  {
   "cell_type": "code",
   "execution_count": null,
   "metadata": {
    "scrolled": true
   },
   "outputs": [],
   "source": [
    "ls ../../data/$project/bwa/mergedLibrary/bigwig/"
   ]
  },
  {
   "cell_type": "code",
   "execution_count": null,
   "metadata": {},
   "outputs": [],
   "source": [
    "! gsutil -m cp -r ../../data/$project/bwa/mergedLibrary/bigwig/ gs://amlproject/Chip/$project/bwa/mergedLibrary/\n",
    "! gsutil -m cp -r ../../data/$project/droso_aligned gs://amlproject/Chip/$project/\n",
    "! gsutil -m cp -r ../../data/$project/recalib_bigwig gs://amlproject/Chip/$project/"
   ]
  },
  {
   "cell_type": "code",
   "execution_count": null,
   "metadata": {},
   "outputs": [],
   "source": [
    "for val in wigs:\n",
    "    bedg = val[:-6]+'bdg'\n",
    "    ! bigWigToBedGraph $val $bedg"
   ]
  },
  {
   "cell_type": "code",
   "execution_count": null,
   "metadata": {},
   "outputs": [],
   "source": [
    "bdg=! ls ../../data/additional_degraded_v1/bwa/mergedLibrary/bigwig/*.bdg\n",
    "bdg"
   ]
  },
  {
   "cell_type": "code",
   "execution_count": null,
   "metadata": {
    "scrolled": true
   },
   "outputs": [],
   "source": [
    "# diffPeak on scaled data \n",
    "size= 240\n",
    "for i in range(int(len(bdg)-3)):\n",
    "    name1 = bdg[1+i%2]\n",
    "    name2 = bdg[3+i]\n",
    "    print(name1,name2)\n",
    "    print(chip.diffPeak(name1, name2, control1=bdg[0], control2=bdg[0], res_directory=\"../../data/\"+project+\"/diffPeaks/\", scaling1=1, scaling2=scales[i], size=size))"
   ]
  },
  {
   "cell_type": "code",
   "execution_count": null,
   "metadata": {},
   "outputs": [],
   "source": [
    "bams"
   ]
  },
  {
   "cell_type": "code",
   "execution_count": null,
   "metadata": {},
   "outputs": [],
   "source": [
    "bams[10]"
   ]
  },
  {
   "cell_type": "code",
   "execution_count": null,
   "metadata": {
    "scrolled": true
   },
   "outputs": [],
   "source": [
    "# diffPeak on scaled data (full reprocessing)\n",
    "size= 240\n",
    "for i in range(len(bams)-3):\n",
    "    if i < 8:\n",
    "        continue\n",
    "    bam1 = bams[1+i%2]\n",
    "    bam2 = bams[3+i]\n",
    "    print(bam1,bam2)\n",
    "    print(chip.fullDiffPeak(bam1,bam2, control1=bams[0], compute_size=False, size=size, scaling=[scales[i],1], directory = \"../../data/\"+project+\"/diffData/\", res_directory = \"../../data/\"+project+\"/diffPeaks/\",pairedend=True))"
   ]
  },
  {
   "cell_type": "code",
   "execution_count": null,
   "metadata": {},
   "outputs": [],
   "source": [
    "initscales = ! cat ../../data/$project/bwa/mergedLibrary/bigwig/scale/*.txt"
   ]
  },
  {
   "cell_type": "code",
   "execution_count": null,
   "metadata": {},
   "outputs": [],
   "source": [
    "scales = [val*float(initscales[3+i]) for i, val in enumerate(scales)]"
   ]
  },
  {
   "cell_type": "code",
   "execution_count": null,
   "metadata": {
    "scrolled": true
   },
   "outputs": [],
   "source": [
    "scales"
   ]
  },
  {
   "cell_type": "code",
   "execution_count": null,
   "metadata": {},
   "outputs": [],
   "source": [
    "chip.bigWigFrom(bams[3:], \n",
    "                genome='GRCh38',scaling=scales,\n",
    "               numthreads=8)"
   ]
  },
  {
   "cell_type": "code",
   "execution_count": null,
   "metadata": {},
   "outputs": [],
   "source": [
    "ls ../../data/$project/recalib_bigwig/"
   ]
  },
  {
   "cell_type": "code",
   "execution_count": null,
   "metadata": {
    "scrolled": true
   },
   "outputs": [],
   "source": [
    "!mv bigwig/* ../../data/$project/recalib_bigwig/"
   ]
  },
  {
   "cell_type": "code",
   "execution_count": null,
   "metadata": {
    "scrolled": true
   },
   "outputs": [],
   "source": [
    "!cp ../../data/$project/bwa/mergedLibrary/bigwig/MV411_RNP_AAVS1-*.bigWig ../../data/$project/recalib_bigwig/"
   ]
  },
  {
   "cell_type": "code",
   "execution_count": null,
   "metadata": {
    "scrolled": true
   },
   "outputs": [],
   "source": [
    "os.popen('for i in $(ls ../../data/'+project+'/diffPeaks/*.bed); \\\n",
    "            do echo $(wc -l $i); \\\n",
    "            done').read().split('\\n')"
   ]
  },
  {
   "cell_type": "code",
   "execution_count": null,
   "metadata": {
    "scrolled": true
   },
   "outputs": [],
   "source": [
    "bw = ! ls ../../data/additional_degraded_v1/recalib_bigwig/*\n",
    "bw"
   ]
  },
  {
   "cell_type": "code",
   "execution_count": null,
   "metadata": {},
   "outputs": [],
   "source": [
    "!mkdir ../results/$project/\n",
    "!mkdir ../results/$project/plots\n",
    "!mkdir ../results/$project/plots/heatmaps/"
   ]
  },
  {
   "cell_type": "code",
   "execution_count": null,
   "metadata": {},
   "outputs": [],
   "source": [
    "# GENOME WIDE comparison"
   ]
  },
  {
   "cell_type": "code",
   "execution_count": null,
   "metadata": {},
   "outputs": [],
   "source": [
    "peaks = ! ls ../../data/$project/bwa/mergedLibrary/macs/broadPeak/*.broadPeak"
   ]
  },
  {
   "cell_type": "code",
   "execution_count": null,
   "metadata": {},
   "outputs": [],
   "source": [
    "names = [\"AAVS1\", \"AAVS1_v2\", \"IRF8\",\"IRF8_v2\",\"MEF2D\",\"MEF2D_v2\",\"MYB\",\"MYB_v2\",\"RUNX1\",\"RUNX1_v2\",\"RUNX1_RUNX2\",\"RUNX1_RUNX2_v2\",\"RUNX2\",\"RUNX2_v2\", \"SPI1\",\"SPI1_v2\"]"
   ]
  },
  {
   "cell_type": "code",
   "execution_count": null,
   "metadata": {
    "scrolled": true
   },
   "outputs": [],
   "source": [
    "for i, val in enumerate(bw):\n",
    "    if i <2:\n",
    "        continue\n",
    "    name = names[i]\n",
    "    print(name)\n",
    "    chip.getPeaksAt(peaks[0], bigwigs = [val,bw[0]], bigwignames= [name,\"AAVS1\"],peaknames=['Macs2_Peaks'], window=3000, folder=\"\", title=name+\"_vs_AAVS1\", numthreads=8, refpoint=\"center\", name='../../data/'+project+'/'+name+'_mat.pdf', withDeeptools=True, torecompute=True, vmax=4, legendLoc=\"lower-left\")"
   ]
  },
  {
   "cell_type": "code",
   "execution_count": null,
   "metadata": {},
   "outputs": [],
   "source": [
    "! cp ../../data/additional_degraded_v1/*.pdf ../results/$project/plots/scaled/heatmaps/"
   ]
  },
  {
   "cell_type": "code",
   "execution_count": null,
   "metadata": {
    "scrolled": true
   },
   "outputs": [],
   "source": [
    "cond1peak = ! ls ../../data/$project/diffPeaks/*cond1.bed\n",
    "cond2peak = ! ls ../../data/$project/diffPeaks/*cond2.bed\n",
    "commonpeak = ! ls ../../data/$project/diffPeaks/*common.bed\n",
    "cond1peak"
   ]
  },
  {
   "cell_type": "code",
   "execution_count": null,
   "metadata": {},
   "outputs": [],
   "source": [
    "names = [\"IRF8\", \"MEF2D\", \"MYB\",\"RUNX1\",\"RUNX1_RUNX2\",\"RUNX2\", \"SPI1\", \"IRF8_v2\", \"MEF2D_v2\", \"MYB_v2\", \"RUNX1_v2\", \"RUNX1_RUNX2_v2\", \"RUNX2_v2\", \"SPI1_v2\"]"
   ]
  },
  {
   "cell_type": "code",
   "execution_count": null,
   "metadata": {
    "scrolled": true
   },
   "outputs": [],
   "source": [
    "bw"
   ]
  },
  {
   "cell_type": "code",
   "execution_count": null,
   "metadata": {},
   "outputs": [],
   "source": [
    "bw[(6*2)+3]"
   ]
  },
  {
   "cell_type": "code",
   "execution_count": null,
   "metadata": {},
   "outputs": [],
   "source": [
    "int(len(bw[2:])/2)"
   ]
  },
  {
   "cell_type": "code",
   "execution_count": null,
   "metadata": {
    "scrolled": true
   },
   "outputs": [],
   "source": [
    "bw[round(7/6)]"
   ]
  },
  {
   "cell_type": "code",
   "execution_count": null,
   "metadata": {
    "scrolled": true
   },
   "outputs": [],
   "source": [
    "for i in range(int(len(bw[2:]))):\n",
    "    if i <8:\n",
    "        continue\n",
    "    cl = len(bw[2:])\n",
    "    name1 = bw[round(i/(cl-1))]\n",
    "    name2 = bw[((i%int(cl/2))*2)+2+round(i/(cl-1))]\n",
    "    peak = [cond1peak[i], commonpeak[i], cond2peak[i]]\n",
    "   # for val in peak:\n",
    "      #  chip.dropWeirdChromosomes(val)\n",
    "    name = names[i]\n",
    "    print(name1,name2)\n",
    "    chip.getPeaksAt(peak, [name1, name2], bigwignames=['DMSO', 'VHL'], peaknames=['DMSO_peaks', 'common', 'VHL_peaks'], window=3000, folder=\"\", title=name, numthreads=7, refpoint=\"center\", name='../../data/'+project+'/diffPeaks/'+name+'_mat.pdf', withDeeptools=True, torecompute=False)"
   ]
  },
  {
   "cell_type": "code",
   "execution_count": null,
   "metadata": {},
   "outputs": [],
   "source": [
    "! mkdir ../results/additional_degraded_v1/plots/scaled/diffPeaks/\n",
    "! cp ../../data/additional_degraded_v1/diffPeaks/*.pdf ../results/additional_degraded_v1/plots/scaled/diffPeaks/"
   ]
  },
  {
   "cell_type": "markdown",
   "metadata": {},
   "source": [
    "### on unscalled data"
   ]
  },
  {
   "cell_type": "code",
   "execution_count": null,
   "metadata": {},
   "outputs": [],
   "source": [
    "bams = !ls ../../data/$project/bwa/mergedLibrary/mp*.bam\n",
    "bams"
   ]
  },
  {
   "cell_type": "code",
   "execution_count": null,
   "metadata": {},
   "outputs": [],
   "source": [
    "! mkdir ../../data/$project/diffPeaks_unscaled"
   ]
  },
  {
   "cell_type": "code",
   "execution_count": null,
   "metadata": {},
   "outputs": [],
   "source": [
    "#on unscalled data \n",
    "for i in range(int(len(bams)/2)):\n",
    "    if i < 5:\n",
    "        continue\n",
    "    name1 = bams[i]\n",
    "    name2 = bams[6+i]\n",
    "    print(name1,name2)\n",
    "    chip.fullDiffPeak(name1,name2, control1='../../data/'+project+'/bwa/mergedLibrary/INPUT_R1.mLb.clN.sorted.bam', directory = \"../../data/\"+project+\"/diffData_unscaled/\", res_directory = \"../../data/\"+project+\"/diffPeaks_unscaled/\",pairedend=False)"
   ]
  },
  {
   "cell_type": "code",
   "execution_count": null,
   "metadata": {},
   "outputs": [],
   "source": [
    "bw = ! ls ../../data/$project/bwa/mergedLibrary/bigwig/*.bigWig\n",
    "bw"
   ]
  },
  {
   "cell_type": "code",
   "execution_count": null,
   "metadata": {},
   "outputs": [],
   "source": [
    "cond1peak = ! ls ../../data/$project/diffPeaks_unscaled/*cond1.bed\n",
    "cond2peak = ! ls ../../data/$project/diffPeaks_unscaled/*cond2.bed\n",
    "commonpeak = ! ls ../../data/$project/diffPeaks_unscaled/*common.bed\n",
    "commonpeak"
   ]
  },
  {
   "cell_type": "code",
   "execution_count": null,
   "metadata": {},
   "outputs": [],
   "source": [
    "names = [\"MED1\",\"MED1_v2\",\"FLAG_IRF2BP2\",\"POLII_total\",\"POLII_S2\",\"POLII_S5\"]"
   ]
  },
  {
   "cell_type": "code",
   "execution_count": null,
   "metadata": {},
   "outputs": [],
   "source": [
    "for i in range(int((len(bw)-1)/2)):\n",
    "    name1 = bw[1+i]\n",
    "    name2 = bw[7+i]\n",
    "    peak = [cond1peak[i], commonpeak[i], cond2peak[i]]\n",
    "    #for val in peak:\n",
    "     #   chip.dropWeirdChromosomes(val)\n",
    "    name = names[i]\n",
    "    print(name1,name2)\n",
    "    chip.getPeaksAt(peak, [name1, name2], bigwignames=['DMSO', 'VHL'], peaknames=['DMSO_peaks', 'common', 'VHL_peaks'], window=3000, folder=\"\", title=name, numthreads=7, torecompute=True, refpoint='center', name='../../data/'+project+'/diffPeaks_unscaled/'+name+'_mat.pdf', withDeeptools=True)"
   ]
  },
  {
   "cell_type": "code",
   "execution_count": null,
   "metadata": {},
   "outputs": [],
   "source": [
    "! gsutil -m cp -r \"../../data/additional_degraded_v1\" gs://amlproject/Chip/"
   ]
  },
  {
   "cell_type": "code",
   "execution_count": null,
   "metadata": {},
   "outputs": [],
   "source": [
    "! cp ../../$project/*_mat.pdf ../results/$project/unscaled/\n",
    "! cp ../../$project/*_mat.pdf ../results/$project/scaled/\n",
    "\n",
    "! cp ../../$project/*_mat.pdf ../results/$project/unscaled/\n",
    "! cp ../../$project/*_mat.pdf ../results/$project/unscaled/\n",
    "\n",
    "! cp -r ../data/$project/bwa/mergedLibrary/deepTools/plot/* ../results/$project/plots"
   ]
  }
 ],
 "metadata": {
  "kernelspec": {
   "display_name": "Python 3",
   "language": "python",
   "name": "python3"
  },
  "language_info": {
   "codemirror_mode": {
    "name": "ipython",
    "version": 3
   },
   "file_extension": ".py",
   "mimetype": "text/x-python",
   "name": "python",
   "nbconvert_exporter": "python",
   "pygments_lexer": "ipython3",
   "version": "3.8.3rc1"
  },
  "latex_envs": {
   "LaTeX_envs_menu_present": true,
   "autoclose": false,
   "autocomplete": true,
   "bibliofile": "biblio.bib",
   "cite_by": "apalike",
   "current_citInitial": 1,
   "eqLabelWithNumbers": true,
   "eqNumInitial": 1,
   "hotkeys": {
    "equation": "Ctrl-E",
    "itemize": "Ctrl-I"
   },
   "labels_anchors": false,
   "latex_user_defs": false,
   "report_style_numbering": false,
   "user_envs_cfg": false
  },
  "toc": {
   "base_numbering": 1,
   "nav_menu": {},
   "number_sections": false,
   "sideBar": true,
   "skip_h1_title": false,
   "title_cell": "Table of Contents",
   "title_sidebar": "Contents",
   "toc_cell": false,
   "toc_position": {
    "height": "257.4px",
    "left": "127px",
    "top": "111.6px",
    "width": "165px"
   },
   "toc_section_display": true,
   "toc_window_display": true
  },
  "varInspector": {
   "cols": {
    "lenName": 16,
    "lenType": 16,
    "lenVar": 40
   },
   "kernels_config": {
    "python": {
     "delete_cmd_postfix": "",
     "delete_cmd_prefix": "del ",
     "library": "var_list.py",
     "varRefreshCmd": "print(var_dic_list())"
    },
    "r": {
     "delete_cmd_postfix": ") ",
     "delete_cmd_prefix": "rm(",
     "library": "var_list.r",
     "varRefreshCmd": "cat(var_dic_list()) "
    }
   },
   "types_to_exclude": [
    "module",
    "function",
    "builtin_function_or_method",
    "instance",
    "_Feature"
   ],
   "window_display": false
  }
 },
 "nbformat": 4,
 "nbformat_minor": 2
}
