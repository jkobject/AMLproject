{
 "cells": [
  {
   "cell_type": "code",
   "execution_count": null,
   "metadata": {},
   "outputs": [],
   "source": [
    "from __future__ import print_function\n",
    "import os.path\n",
    "import dalmatian as dm\n",
    "import pandas as pd\n",
    "import gseapy\n",
    "from gseapy.plot import gseaplot, heatmap, barplot, dotplot\n",
    "import sys\n",
    "sys.path.insert(0, '..')\n",
    "import Datanalytics as da \n",
    "import TerraFunction as terra\n",
    "%load_ext autoreload\n",
    "from Helper import *\n",
    "%autoreload 2\n",
    "%load_ext rpy2.ipython\n",
    "from taigapy import TaigaClient\n",
    "tc = TaigaClient()\n",
    "import numpy as np\n",
    "from bokeh.plotting import *\n",
    "from bokeh.models import HoverTool\n",
    "output_notebook()\n",
    "import matplotlib.pyplot as plt\n",
    "%matplotlib inline\n",
    "import seaborn as sns\n",
    "from helper import pyDESeq2\n",
    "from sklearn.neighbors import KNeighborsClassifier\n",
    "from sklearn.manifold import MDS, TSNE\n",
    "from sklearn.decomposition import PCA\n",
    "from sklearn.preprocessing import scale\n",
    "from umap import UMAP"
   ]
  },
  {
   "cell_type": "markdown",
   "metadata": {},
   "source": [
    "### downloading from [terra](gs://fc-secure-639c94ba-2b0d-4960-92fc-9cd50046a968/326e42a6-1778-459e-9a95-e5dbc8c1bb67/rsem_aggregate_results_workflow/fc5be1ee-8888-4036-8aaf-df5770b4fefa/call-rsem_aggregate_results/MAX_AMLproject.rsem_genes_expected_count.txt.gz) and unziping "
   ]
  },
  {
   "cell_type": "code",
   "execution_count": null,
   "metadata": {},
   "outputs": [],
   "source": [
    "# biggest change genes across time point\n",
    "# GSEA\n",
    "#counts = pd.read_csv(\"data/expression.MAX_AMLproject.counts.tsv\", sep='\\t')\n",
    "counts = pd.read_csv(\"data/MAX_AMLproject.rsem_genes_expected_count.txt\", sep='\\t')\n",
    "#transcripts = pd.read_csv(\"data/expression.MAX_AMLproject.transcripts.tsv\", sep='\\t')b"
   ]
  },
  {
   "cell_type": "code",
   "execution_count": null,
   "metadata": {},
   "outputs": [],
   "source": [
    "counts.shape"
   ]
  },
  {
   "cell_type": "code",
   "execution_count": null,
   "metadata": {},
   "outputs": [],
   "source": [
    "# we have a number of non zero similar to nb of prot coding genes\n",
    "np.count_nonzero(counts.values[:,2:])/30"
   ]
  },
  {
   "cell_type": "code",
   "execution_count": null,
   "metadata": {},
   "outputs": [],
   "source": [
    "counts.columns"
   ]
  },
  {
   "cell_type": "markdown",
   "metadata": {},
   "source": [
    "filter some more"
   ]
  },
  {
   "cell_type": "code",
   "execution_count": null,
   "metadata": {},
   "outputs": [],
   "source": [
    "toremove = np.argwhere(counts[counts.columns.values[2:]].values.var(1)==0)\n",
    "toremove.ravel()"
   ]
  },
  {
   "cell_type": "code",
   "execution_count": null,
   "metadata": {},
   "outputs": [],
   "source": [
    "counts = counts.drop(counts.index[toremove.ravel()],0)\n",
    "counts = counts.reset_index()\n",
    "counts = counts.drop(columns='index')"
   ]
  },
  {
   "cell_type": "code",
   "execution_count": null,
   "metadata": {},
   "outputs": [],
   "source": [
    "toremove = np.argwhere(counts[counts.columns.values[2:]].values.max(1)==0)\n",
    "toremove.ravel()"
   ]
  },
  {
   "cell_type": "code",
   "execution_count": null,
   "metadata": {},
   "outputs": [],
   "source": [
    "counts = counts.drop(counts.index[toremove.ravel()],0)\n",
    "counts = counts.reset_index()\n",
    "counts = counts.drop(columns='index')"
   ]
  },
  {
   "cell_type": "code",
   "execution_count": null,
   "metadata": {},
   "outputs": [],
   "source": [
    "counts = counts.drop('transcript_id(s)',1)\n",
    "counts['gene_id'] = convertGenes(counts['gene_id'])[0]"
   ]
  },
  {
   "cell_type": "markdown",
   "metadata": {},
   "source": [
    "The avg amount of expressed genes in the samples"
   ]
  },
  {
   "cell_type": "code",
   "execution_count": null,
   "metadata": {},
   "outputs": [],
   "source": [
    "np.count_nonzero(counts.values[:,2:])/30"
   ]
  },
  {
   "cell_type": "markdown",
   "metadata": {},
   "source": [
    "finding the different experiments"
   ]
  },
  {
   "cell_type": "code",
   "execution_count": null,
   "metadata": {},
   "outputs": [],
   "source": [
    "DMSO = '1'\n",
    "MS2 = '2'\n",
    "JQ1 = '3'\n",
    "MS2_JQ1 = '4'\n",
    "START = '0'"
   ]
  },
  {
   "cell_type": "code",
   "execution_count": null,
   "metadata": {},
   "outputs": [],
   "source": [
    "counts.columns"
   ]
  },
  {
   "cell_type": "code",
   "execution_count": null,
   "metadata": {},
   "outputs": [],
   "source": [
    "counts"
   ]
  },
  {
   "cell_type": "code",
   "execution_count": null,
   "metadata": {},
   "outputs": [],
   "source": [
    "DMSO = [val[0]==DMSO for val in counts.columns.values]\n",
    "DMSO_t = [int(val.split('-')[1][:-1]) if val[0]==DMSO else 0 for val in counts.columns.values]\n",
    "START = [val[0]==START for val in counts.columns.values]\n",
    "MS2_t = [int(val.split('-')[1][:-1]) if val[0]==MS2 else 0 for val in counts.columns.values]\n",
    "MS2_24 = [val == 24 for val in MS2_t]\n",
    "MS2 = [val[0]==MS2 for val in counts.columns.values]\n",
    "MS2_JQ1_t = [int(val.split('-')[1][:-1]) if val[0]==MS2_JQ1 else 0 for val in counts.columns.values]\n",
    "MS2_JQ1 = [val[0]==MS2_JQ1 for val in counts.columns.values]\n",
    "JQ1_t = [int(val.split('-')[1][:-1]) if val[0]==JQ1 else 0 for val in counts.columns.values]\n",
    "JQ1 = [val[0]==JQ1 for val in counts.columns.values]"
   ]
  },
  {
   "cell_type": "code",
   "execution_count": null,
   "metadata": {},
   "outputs": [],
   "source": [
    "checks = [('0','0h'),('1','-8h'),('1','-24h'),('2','-2h'),('2','-4h'),('2','-8h'),\n",
    "          ('2','-16h'),('2','-24h'),('3','-8h'),('4','-8h')]"
   ]
  },
  {
   "cell_type": "code",
   "execution_count": null,
   "metadata": {},
   "outputs": [],
   "source": [
    "design = pd.DataFrame(columns=counts.columns.values[1:], \n",
    "                      index=['START','DMSO_8','DMSO_24','MS2_2','MS2_4','MS2_8', 'MS2_16', 'MS2_24', 'JQ1_8', 'MS2_JQ1_8'], \n",
    "                      data=np.array(\n",
    "                          [[1 if check[0]== val[0] and check[1] in val else 0 for val in counts.columns.values[1:]] for check in checks]))"
   ]
  },
  {
   "cell_type": "code",
   "execution_count": null,
   "metadata": {},
   "outputs": [],
   "source": [
    "design = design.T"
   ]
  },
  {
   "cell_type": "code",
   "execution_count": null,
   "metadata": {},
   "outputs": [],
   "source": [
    "design.index = ['X'+i.replace('-','.') for i in design.index]"
   ]
  },
  {
   "cell_type": "code",
   "execution_count": null,
   "metadata": {},
   "outputs": [],
   "source": [
    "res = {}"
   ]
  },
  {
   "cell_type": "code",
   "execution_count": null,
   "metadata": {},
   "outputs": [],
   "source": [
    "counts"
   ]
  },
  {
   "cell_type": "code",
   "execution_count": null,
   "metadata": {},
   "outputs": [],
   "source": [
    "design"
   ]
  },
  {
   "cell_type": "code",
   "execution_count": null,
   "metadata": {},
   "outputs": [],
   "source": [
    "design.sum(0)"
   ]
  },
  {
   "cell_type": "code",
   "execution_count": null,
   "metadata": {},
   "outputs": [],
   "source": [
    "for val in design.columns.values[1:]:\n",
    "    cols = [counts.columns[1:][i] for i, a in enumerate(design[['START',val]].values.sum(1)) if a]+['gene_id']\n",
    "    print(cols, val)\n",
    "    data = counts[cols]\n",
    "    data.columns = ['X'+i.replace('-','.') for i in data.columns]\n",
    "    d = design[['START',val]][design[['START',val]].sum(1)==1]\n",
    "    deseq = pyDESeq2.pyDESeq2(count_matrix=data,\n",
    "                              design_matrix = d,\n",
    "             design_formula=\"~START - \"+val,\n",
    "             gene_column=\"Xgene_id\")\n",
    "    deseq.run_deseq()\n",
    "    deseq.get_deseq_result()\n",
    "    MS2res = deseq.deseq_result\n",
    "    MS2res.pvalue = np.nan_to_num(np.array(MS2res.pvalue), 1)\n",
    "    MS2res.log2FoldChange = - np.nan_to_num(np.array(MS2res.log2FoldChange), 0)\n",
    "    res[val] = MS2res"
   ]
  },
  {
   "cell_type": "code",
   "execution_count": null,
   "metadata": {},
   "outputs": [],
   "source": [
    "res.keys()"
   ]
  },
  {
   "cell_type": "code",
   "execution_count": null,
   "metadata": {},
   "outputs": [],
   "source": [
    "ctf=pd.read_csv('data/CTF.csv',header=None)[0].values.tolist()\n",
    "ctf.remove('IKAROS')\n",
    "ctf"
   ]
  },
  {
   "cell_type": "code",
   "execution_count": null,
   "metadata": {},
   "outputs": [],
   "source": [
    "for k, val in res.items():\n",
    "    a = volcano(val.rename(columns={'Xgene_id':'gene_id'}),tohighlight=ctf,title=k)\n",
    "    try:\n",
    "        show(a)\n",
    "        save(a,k+'.html')\n",
    "    except RuntimeError:\n",
    "        show(a)"
   ]
  },
  {
   "cell_type": "code",
   "execution_count": null,
   "metadata": {},
   "outputs": [],
   "source": []
  },
  {
   "cell_type": "code",
   "execution_count": null,
   "metadata": {},
   "outputs": [],
   "source": [
    "for val in design.columns.values[4:]:\n",
    "    cols = [counts.columns[1:][i] for i, a in enumerate(design[['DMSO_8',val]].values.sum(1)) if a]+['gene_id']\n",
    "    print(cols, val)\n",
    "    data = counts[cols]\n",
    "    data.columns = ['X'+i.replace('-','.') for i in data.columns]\n",
    "    d = design[['DMSO_8',val]][design[['DMSO_8',val]].sum(1)==1]\n",
    "    deseq = pyDESeq2.pyDESeq2(count_matrix=data,\n",
    "                              design_matrix = d,\n",
    "             design_formula=\"~DMSO_8 - \"+val,\n",
    "             gene_column=\"Xgene_id\")\n",
    "    deseq.run_deseq()\n",
    "    deseq.get_deseq_result()\n",
    "    MS2res = deseq.deseq_result\n",
    "    MS2res.pvalue = np.nan_to_num(np.array(MS2res.pvalue), 1)\n",
    "    MS2res.log2FoldChange = - np.nan_to_num(np.array(MS2res.log2FoldChange), 0)\n",
    "    res[val] = MS2res"
   ]
  },
  {
   "cell_type": "code",
   "execution_count": null,
   "metadata": {},
   "outputs": [],
   "source": [
    "for k, val in res.items():\n",
    "    if k in ['MS2_4','MS2_8','MS2_16','MS2_24','JQ1_8','MS2_JQ1_8']:\n",
    "        a = volcano(val.rename(columns={'Xgene_id':'gene_id'}),tohighlight=ctf,title=k)\n",
    "        try:\n",
    "            show(a)\n",
    "            save(a,k+'.html')\n",
    "        except RuntimeError:\n",
    "            show(a)"
   ]
  },
  {
   "cell_type": "code",
   "execution_count": null,
   "metadata": {},
   "outputs": [],
   "source": [
    "for val in design.columns[[6,7]]:\n",
    "    cols = [counts.columns[1:][i] for i, a in enumerate(design[['DMSO_24',val]].values.sum(1)) if a]+['gene_id']\n",
    "    print(cols, val)\n",
    "    data = counts[cols]\n",
    "    data.columns = ['X'+i.replace('-','.') for i in data.columns]\n",
    "    d = design[['DMSO_24',val]][design[['DMSO_24',val]].sum(1)==1]\n",
    "    deseq = pyDESeq2.pyDESeq2(count_matrix=data,\n",
    "                              design_matrix = d,\n",
    "             design_formula=\"~DMSO_24 - \"+val,\n",
    "             gene_column=\"Xgene_id\")\n",
    "    deseq.run_deseq()\n",
    "    deseq.get_deseq_result()\n",
    "    MS2res = deseq.deseq_result\n",
    "    MS2res.pvalue = np.nan_to_num(np.array(MS2res.pvalue), 1)\n",
    "    MS2res.log2FoldChange = - np.nan_to_num(np.array(MS2res.log2FoldChange), 0)\n",
    "    res[val] = MS2res"
   ]
  },
  {
   "cell_type": "code",
   "execution_count": null,
   "metadata": {},
   "outputs": [],
   "source": [
    "for k, val in res.items():\n",
    "    if k in ['MS2_16','MS2_24']:\n",
    "        a = volcano(val.rename(columns={'Xgene_id':'gene_id'}),tohighlight=ctf,title=k)\n",
    "        try:\n",
    "            show(a)\n",
    "            save(a,k+'.html')\n",
    "        except RuntimeError:\n",
    "            show(a)"
   ]
  },
  {
   "cell_type": "markdown",
   "metadata": {},
   "source": [
    "## GSEA"
   ]
  },
  {
   "cell_type": "code",
   "execution_count": null,
   "metadata": {},
   "outputs": [],
   "source": [
    "counts = counts.set_index('gene_id')"
   ]
  },
  {
   "cell_type": "code",
   "execution_count": null,
   "metadata": {},
   "outputs": [],
   "source": [
    "checks"
   ]
  },
  {
   "cell_type": "code",
   "execution_count": null,
   "metadata": {},
   "outputs": [],
   "source": [
    "names = list(res.keys())"
   ]
  },
  {
   "cell_type": "code",
   "execution_count": null,
   "metadata": {},
   "outputs": [],
   "source": [
    "res={}"
   ]
  },
  {
   "cell_type": "code",
   "execution_count": null,
   "metadata": {},
   "outputs": [],
   "source": [
    "for i, check in enumerate(checks[1:]): \n",
    "    print(check)\n",
    "    val = names[i]\n",
    "    totest = counts[[v for v in counts.columns if check[0] in v and check[1] in v or '0h' in v]]\n",
    "    cls = ['DMSO' if '0h' in v else 'Condition' for v in totest.columns]\n",
    "    res[val] = gseapy.gsea(data=totest, gene_sets='data/apoptosis.gmt', \n",
    "                cls= cls, no_plot=False, processes=6)\n",
    "    gseaplot(res[val].ranking, term=val, **res[val].results[terms[0]])"
   ]
  },
  {
   "cell_type": "code",
   "execution_count": null,
   "metadata": {},
   "outputs": [],
   "source": [
    "for i, check in enumerate(checks[1:]): \n",
    "    print(check)\n",
    "    val = names[i]\n",
    "    #totest = counts[[v for v in counts.columns if check[0] in v and check[1] in v or '0h' in v]]\n",
    "    #cls = ['DMSO' if '0h' in v else 'Condition' for v in totest.columns]\n",
    "    #res[val] = gseapy.gsea(data=totest, gene_sets='GO_Biological_Process_2015', \n",
    "    #            cls= cls, no_plot=False, processes=6)\n",
    "    #res[val].res2d['Term'] = [i.split('(GO')[0][:50] for i in res[val].res2d.index]\n",
    "    sns.barplot(data=res[val].res2d.iloc[:25], x=\"es\", y=\"Term\",\n",
    "                hue_order=\"geneset_size\").set_title(val)"
   ]
  },
  {
   "cell_type": "code",
   "execution_count": null,
   "metadata": {},
   "outputs": [],
   "source": [
    "val = names[0]\n",
    "sns.barplot(data=res[val].res2d.iloc[:25], x=\"es\", y=\"Term\",\n",
    "            hue_order=\"geneset_size\").set_title(val)"
   ]
  },
  {
   "cell_type": "code",
   "execution_count": null,
   "metadata": {},
   "outputs": [],
   "source": [
    "val = names[1]\n",
    "sns.barplot(data=res[val].res2d.iloc[:25], x=\"es\", y=\"Term\",\n",
    "            hue_order=\"geneset_size\").set_title(val)"
   ]
  },
  {
   "cell_type": "code",
   "execution_count": null,
   "metadata": {},
   "outputs": [],
   "source": [
    "val = names[2]\n",
    "sns.barplot(data=res[val].res2d.iloc[:25], x=\"es\", y=\"Term\",\n",
    "            hue_order=\"geneset_size\").set_title(val)"
   ]
  },
  {
   "cell_type": "code",
   "execution_count": null,
   "metadata": {},
   "outputs": [],
   "source": [
    "val = names[3]\n",
    "sns.barplot(data=res[val].res2d.iloc[:25], x=\"es\", y=\"Term\",\n",
    "            hue_order=\"geneset_size\").set_title(val)"
   ]
  },
  {
   "cell_type": "code",
   "execution_count": null,
   "metadata": {},
   "outputs": [],
   "source": [
    "val = names[4]\n",
    "sns.barplot(data=res[val].res2d.iloc[:25], x=\"es\", y=\"Term\",\n",
    "            hue_order=\"geneset_size\").set_title(val)"
   ]
  },
  {
   "cell_type": "code",
   "execution_count": null,
   "metadata": {},
   "outputs": [],
   "source": [
    "val = names[5]\n",
    "sns.barplot(data=res[val].res2d.iloc[:25], x=\"es\", y=\"Term\",\n",
    "            hue_order=\"geneset_size\").set_title(val)"
   ]
  },
  {
   "cell_type": "code",
   "execution_count": null,
   "metadata": {},
   "outputs": [],
   "source": [
    "val = names[6]\n",
    "sns.barplot(data=res[val].res2d.iloc[:25], x=\"es\", y=\"Term\",\n",
    "            hue_order=\"geneset_size\").set_title(val)"
   ]
  },
  {
   "cell_type": "code",
   "execution_count": null,
   "metadata": {},
   "outputs": [],
   "source": [
    "val = names[7]\n",
    "sns.barplot(data=res[val].res2d.iloc[:25], x=\"es\", y=\"Term\",\n",
    "            hue_order=\"geneset_size\").set_title(val)"
   ]
  },
  {
   "cell_type": "markdown",
   "metadata": {},
   "source": [
    "## Results\n",
    "\n",
    "It seems looking at both plottings of raw RNA data and Differential Expression analysis, that the RNA seq experiment is sound except for the DMSO at 8h and 24h which seemed to have been either contaminated or misslabelled.\n",
    "\n",
    "\n",
    "We cannot see much differential expression after 16h due to a likely transcriptional collapse destroying our signal. "
   ]
  },
  {
   "cell_type": "code",
   "execution_count": null,
   "metadata": {},
   "outputs": [],
   "source": [
    "res"
   ]
  },
  {
   "cell_type": "code",
   "execution_count": null,
   "metadata": {},
   "outputs": [],
   "source": [
    "names"
   ]
  },
  {
   "cell_type": "code",
   "execution_count": null,
   "metadata": {},
   "outputs": [],
   "source": []
  }
 ],
 "metadata": {
  "kernelspec": {
   "display_name": "Python 3",
   "language": "python",
   "name": "python3"
  },
  "language_info": {
   "codemirror_mode": {
    "name": "ipython",
    "version": 3
   },
   "file_extension": ".py",
   "mimetype": "text/x-python",
   "name": "python",
   "nbconvert_exporter": "python",
   "pygments_lexer": "ipython3",
   "version": "3.7.6"
  },
  "latex_envs": {
   "LaTeX_envs_menu_present": true,
   "autoclose": false,
   "autocomplete": true,
   "bibliofile": "biblio.bib",
   "cite_by": "apalike",
   "current_citInitial": 1,
   "eqLabelWithNumbers": true,
   "eqNumInitial": 1,
   "hotkeys": {
    "equation": "Ctrl-E",
    "itemize": "Ctrl-I"
   },
   "labels_anchors": false,
   "latex_user_defs": false,
   "report_style_numbering": false,
   "user_envs_cfg": false
  },
  "toc": {
   "base_numbering": 1,
   "nav_menu": {},
   "number_sections": false,
   "sideBar": false,
   "skip_h1_title": false,
   "title_cell": "Table of Contents",
   "title_sidebar": "Contents",
   "toc_cell": false,
   "toc_position": {},
   "toc_section_display": false,
   "toc_window_display": false
  },
  "varInspector": {
   "cols": {
    "lenName": 16,
    "lenType": 16,
    "lenVar": 40
   },
   "kernels_config": {
    "python": {
     "delete_cmd_postfix": "",
     "delete_cmd_prefix": "del ",
     "library": "var_list.py",
     "varRefreshCmd": "print(var_dic_list())"
    },
    "r": {
     "delete_cmd_postfix": ") ",
     "delete_cmd_prefix": "rm(",
     "library": "var_list.r",
     "varRefreshCmd": "cat(var_dic_list()) "
    }
   },
   "types_to_exclude": [
    "module",
    "function",
    "builtin_function_or_method",
    "instance",
    "_Feature"
   ],
   "window_display": false
  }
 },
 "nbformat": 4,
 "nbformat_minor": 2
}
