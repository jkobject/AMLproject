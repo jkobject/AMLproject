{
 "cells": [
  {
   "cell_type": "code",
   "execution_count": null,
   "metadata": {},
   "outputs": [],
   "source": [
    "! export GCS_OAUTH_TOKEN=`gcloud auth application-default print-access-token` && samtools index gs://fc-secure-012d088c-f039-4d36-bde5-ee9b1b76b912/3de5b1e8-6e51-43c2-86bc-57578caf78c8/FixMateInformationWf/c605f310-6354-43d8-bd1d-980a2ebab768/call-FixMateInformation/SANGER_BC1_HAEMATOPOIETIC_AND_LYMPHOID_TISSUE.fixmate_LENIENT.bam"
   ]
  },
  {
   "cell_type": "code",
   "execution_count": null,
   "metadata": {},
   "outputs": [],
   "source": [
    "!gsutil ls -al gs://fc-secure-012d088c-f039-4d36-bde5-ee9b1b76b912/3de5b1e8-6e51-43c2-86bc-57578caf78c8/FixMateInformationWf/c605f310-6354-43d8-bd1d-980a2ebab768/call-FixMateInformation/SANGER_BC1_HAEMATOPOIETIC_AND_LYMPHOID_TISSUE.fixmate_LENIENT.bam.bai"
   ]
  },
  {
   "cell_type": "code",
   "execution_count": null,
   "metadata": {},
   "outputs": [],
   "source": []
  }
 ],
 "metadata": {
  "kernelspec": {
   "display_name": "Python 3",
   "language": "python",
   "name": "python3"
  },
  "language_info": {
   "codemirror_mode": {
    "name": "ipython",
    "version": 3
   },
   "file_extension": ".py",
   "mimetype": "text/x-python",
   "name": "python",
   "nbconvert_exporter": "python",
   "pygments_lexer": "ipython3",
   "version": "3.7.6"
  },
  "toc": {
   "base_numbering": 1,
   "nav_menu": {},
   "number_sections": true,
   "sideBar": true,
   "skip_h1_title": false,
   "title_cell": "Table of Contents",
   "title_sidebar": "Contents",
   "toc_cell": false,
   "toc_position": {},
   "toc_section_display": true,
   "toc_window_display": false
  }
 },
 "nbformat": 4,
 "nbformat_minor": 4
}
