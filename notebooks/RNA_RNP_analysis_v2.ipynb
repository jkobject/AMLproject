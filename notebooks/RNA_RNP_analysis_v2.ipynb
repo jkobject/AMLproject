{
 "cells": [
  {
   "cell_type": "code",
   "execution_count": null,
   "metadata": {},
   "outputs": [],
   "source": [
    "from __future__ import print_function\n",
    "import os.path\n",
    "import dalmatian as dm\n",
    "import pandas as pd\n",
    "import sys\n",
    "sys.path.insert(0, '../../')\n",
    "#import Datanalytics as da \n",
    "from JKBio import TerraFunction as terra\n",
    "%load_ext autoreload\n",
    "%autoreload 2\n",
    "from JKBio import Helper as h\n",
    "\n",
    "import pickle\n",
    "from taigapy import TaigaClient\n",
    "tc = TaigaClient()\n",
    "import numpy as np\n",
    "import itertools\n",
    "\n",
    "from bokeh.plotting import *\n",
    "from bokeh.models import HoverTool\n",
    "output_notebook()\n",
    "import matplotlib.pyplot as plt\n",
    "%load_ext rpy2.ipython\n",
    "import seaborn as sns\n",
    "import gseapy\n",
    "from JKBio.helper import pyDESeq2\n",
    "from sklearn.neighbors import KNeighborsClassifier\n",
    "from sklearn.cluster import AgglomerativeClustering\n",
    "\n",
    "from sklearn.manifold import MDS, TSNE\n",
    "from sklearn.decomposition import PCA\n",
    "from sklearn.preprocessing import scale"
   ]
  },
  {
   "cell_type": "markdown",
   "metadata": {},
   "source": [
    "## getting data"
   ]
  },
  {
   "cell_type": "code",
   "execution_count": null,
   "metadata": {},
   "outputs": [],
   "source": [
    "! gsutil mv gs://transfer-amlproject/*MP7624* gs://transfer-amlproject/RNPv2/"
   ]
  },
  {
   "cell_type": "code",
   "execution_count": null,
   "metadata": {},
   "outputs": [],
   "source": [
    "! gsutil -m cp -r gs://transfer-amlproject/RNPv3 gs://amlproject/RNA/"
   ]
  },
  {
   "cell_type": "code",
   "execution_count": null,
   "metadata": {},
   "outputs": [],
   "source": [
    "! gsutil ls gs://amlproject/"
   ]
  },
  {
   "cell_type": "code",
   "execution_count": null,
   "metadata": {},
   "outputs": [],
   "source": [
    "sampleset='RNPv3'"
   ]
  },
  {
   "cell_type": "code",
   "execution_count": null,
   "metadata": {},
   "outputs": [],
   "source": [
    "terra.uploadFromFolder('amlproject','RNPv2/',\n",
    "                       'broad-firecloud-ccle/hg38_RNAseq',samplesetname=sampleset,\n",
    "                      fformat=\"fastqR1R2\", sep='_MP7624')"
   ]
  },
  {
   "cell_type": "markdown",
   "metadata": {},
   "source": [
    "## Processing"
   ]
  },
  {
   "cell_type": "code",
   "execution_count": null,
   "metadata": {},
   "outputs": [],
   "source": [
    "wm = dm.WorkspaceManager('broad-firecloud-ccle/hg38_RNAseq')"
   ]
  },
  {
   "cell_type": "code",
   "execution_count": null,
   "metadata": {},
   "outputs": [],
   "source": [
    "submission_id = wm.create_submission(\"star_v1-0_BETA_cfg\", sampleset, 'sample_set',expression='this.samples')\n",
    "terra.waitForSubmission('broad-firecloud-ccle/hg38_RNAseq', submission_id)"
   ]
  },
  {
   "cell_type": "code",
   "execution_count": null,
   "metadata": {},
   "outputs": [],
   "source": [
    "submission_id = wm.create_submission(\"rsem_v1-0_BETA_cfg\", \n",
    "                                      sampleset,'sample_set',expression='this.samples')\n",
    "terra.waitForSubmission('broad-firecloud-ccle/hg38_RNAseq', submission_id)"
   ]
  },
  {
   "cell_type": "code",
   "execution_count": null,
   "metadata": {},
   "outputs": [],
   "source": [
    "submission_id = wm.create_submission(\"rsem_aggregate_results_v1-0_BETA_cfg\", \n",
    "                                         sampleset)\n",
    "terra.waitForSubmission('broad-firecloud-ccle/hg38_RNAseq', submission_id)"
   ]
  },
  {
   "cell_type": "code",
   "execution_count": null,
   "metadata": {},
   "outputs": [],
   "source": [
    "results = wm.get_sample_sets().loc[sampleset]\n",
    "rsem_genes_expected_count = results['rsem_genes_expected_count']"
   ]
  },
  {
   "cell_type": "code",
   "execution_count": null,
   "metadata": {},
   "outputs": [],
   "source": [
    "results"
   ]
  },
  {
   "cell_type": "code",
   "execution_count": null,
   "metadata": {},
   "outputs": [],
   "source": [
    "mkdir ../../data/RNPv3"
   ]
  },
  {
   "cell_type": "code",
   "execution_count": null,
   "metadata": {},
   "outputs": [],
   "source": [
    "! gsutil cp $rsem_genes_expected_count ../../data/RNPv3/"
   ]
  },
  {
   "cell_type": "code",
   "execution_count": null,
   "metadata": {},
   "outputs": [],
   "source": [
    "file = '../../data/RNPv3/'+rsem_genes_expected_count.split('/')[-1]"
   ]
  },
  {
   "cell_type": "code",
   "execution_count": null,
   "metadata": {},
   "outputs": [],
   "source": [
    "file"
   ]
  },
  {
   "cell_type": "code",
   "execution_count": null,
   "metadata": {},
   "outputs": [],
   "source": [
    "! gunzip $file"
   ]
  },
  {
   "cell_type": "markdown",
   "metadata": {},
   "source": [
    "## getting spike in scales"
   ]
  },
  {
   "cell_type": "code",
   "execution_count": null,
   "metadata": {},
   "outputs": [],
   "source": [
    "dd"
   ]
  },
  {
   "cell_type": "code",
   "execution_count": null,
   "metadata": {},
   "outputs": [],
   "source": [
    "! bwa index -a bwtsw ../data/ERCC92/ERCC92.fa"
   ]
  },
  {
   "cell_type": "code",
   "execution_count": null,
   "metadata": {},
   "outputs": [],
   "source": [
    "! samtools faidx ../data/ERCC92/ERCC92.fa"
   ]
  },
  {
   "cell_type": "code",
   "execution_count": null,
   "metadata": {},
   "outputs": [],
   "source": [
    "from JKBio import Helper as h"
   ]
  },
  {
   "cell_type": "code",
   "execution_count": null,
   "metadata": {},
   "outputs": [],
   "source": [
    "! ../../TrimGalore-0.6.5/trim_galore"
   ]
  },
  {
   "cell_type": "code",
   "execution_count": null,
   "metadata": {},
   "outputs": [],
   "source": [
    "ls -alh res"
   ]
  },
  {
   "cell_type": "code",
   "execution_count": null,
   "metadata": {},
   "outputs": [],
   "source": [
    "fastqs = !ls res/*.sam"
   ]
  },
  {
   "cell_type": "code",
   "execution_count": null,
   "metadata": {},
   "outputs": [],
   "source": [
    "h.parrun(['samtools sort '+i+' -@ 8 -o '+i.split('.')[0]+'.sorted.bam' for i in fastqs], cores=1, add=['rm '+i for i in fastqs])"
   ]
  },
  {
   "cell_type": "code",
   "execution_count": null,
   "metadata": {},
   "outputs": [],
   "source": [
    "fastqs = !ls res/*.bam\n",
    "fastqs = [v for i ,v in enumerate(fastqs) if i <30]\n",
    "fastqs"
   ]
  },
  {
   "cell_type": "code",
   "execution_count": null,
   "metadata": {},
   "outputs": [],
   "source": [
    "h.getSpikeInControlScales('../data/ERCC92/ERCC92.fa', fastq=list(fastqs), mapper='bwa', pairedEnd=True, cores=10, pathtosam='samtools', pathtotrim_galore='../../TrimGalore-0.6.5/trim_galore', pathtobwa='bwa',totrim=False, tomap=False, tofilter=True, results='res/', toremove=True)"
   ]
  },
  {
   "cell_type": "code",
   "execution_count": null,
   "metadata": {},
   "outputs": [],
   "source": [
    "for f in h.grouped(fastqs, 2):\n",
    "    print(f[0])"
   ]
  },
  {
   "cell_type": "markdown",
   "metadata": {},
   "source": [
    "## Analysis"
   ]
  },
  {
   "cell_type": "code",
   "execution_count": null,
   "metadata": {},
   "outputs": [],
   "source": [
    "file"
   ]
  },
  {
   "cell_type": "code",
   "execution_count": null,
   "metadata": {},
   "outputs": [],
   "source": [
    "rsem_genes_expected_count = pd.read_csv(file[:-3], sep='\\t')"
   ]
  },
  {
   "cell_type": "code",
   "execution_count": null,
   "metadata": {},
   "outputs": [],
   "source": [
    "rsem_genes_expected_count = pd.read_csv(\"../../data/RNPv3/RNPv3.rsem_genes_expected_count.txt\", sep='\\t')"
   ]
  },
  {
   "cell_type": "code",
   "execution_count": null,
   "metadata": {},
   "outputs": [],
   "source": [
    "data = rsem_genes_expected_count.drop(\"transcript_id(s)\",1)"
   ]
  },
  {
   "cell_type": "code",
   "execution_count": null,
   "metadata": {},
   "outputs": [],
   "source": [
    "data[\"gene_id\"] = h.convertGenes(data['gene_id'])[0]"
   ]
  },
  {
   "cell_type": "code",
   "execution_count": null,
   "metadata": {},
   "outputs": [],
   "source": [
    "data=data.set_index('gene_id')"
   ]
  },
  {
   "cell_type": "code",
   "execution_count": null,
   "metadata": {},
   "outputs": [],
   "source": [
    "data"
   ]
  },
  {
   "cell_type": "code",
   "execution_count": null,
   "metadata": {},
   "outputs": [],
   "source": [
    "rename = {\"1\": \"mr120-MV411-RNP_IRF2BP2-r4\",\n",
    "\"2\": \"mr121-MV411-RNP_IRF2BP2-r5\",\n",
    "\"3\": \"mr122-MV411-RNP_IRF2BP2-r6\",\n",
    "\"4\": \"mr123-MV411-RNP_IRF8-r4\",\n",
    "\"5\": \"mr124-MV411-RNP_IRF8-r5\",\n",
    "\"6\": \"mr125-MV411-RNP_IRF8-r6\",\n",
    "\"7\": \"mr126-MV411-RNP_MEF2D-r4\",\n",
    "\"8\": \"mr127-MV411-RNP_MEF2D-r5\",\n",
    "\"9\": \"mr128-MV411-RNP_MEF2D-r6\",\n",
    "\"10\": \"mr129-MV411-RNP_MYC-r4\",\n",
    "\"11\": \"mr130-MV411-RNP_MYC-r5\",\n",
    "\"12\": \"mr131-MV411-RNP_MYC-r6\",\n",
    "\"13\": \"mr132-MV411-RNP_RUNX1-r4\",\n",
    "\"14\": \"mr133-MV411-RNP_RUNX1-r5\",\n",
    "\"15\": \"mr134-MV411-RNP_RUNX1-r6\",\n",
    "\"16\": \"mr135-MV411-RNP_RUNX2-r4\",\n",
    "\"17\": \"mr136-MV411-RNP_RUNX2-r5\",\n",
    "\"18\": \"mr137-MV411-RNP_RUNX2-r6\",\n",
    "\"19\": \"mr138-MV411-RNP_SPI1-r4\",\n",
    "\"20\": \"mr139-MV411-RNP_SPI1-r5\",\n",
    "\"21\": \"mr140-MV411-RNP_SPI1-r6\",\n",
    "\"22\": \"mr141-MV411-RNP_ZMYND8-r4\",\n",
    "\"23\": \"mr142-MV411-RNP_ZMYND8-r5\",\n",
    "\"24\": \"mr143-MV411-RNP_ZMYND8-r6\",\n",
    "\"25\": \"mr144-MV411-RNP_LMO2-r4\",\n",
    "\"26\": \"mr145-MV411-RNP_LMO2-r5\",\n",
    "\"27\": \"mr146-MV411-RNP_LMO2-r6\",\n",
    "\"28\": \"mr147-MV411-RNP_LYL1-r4\",\n",
    "\"29\": \"mr148-MV411-RNP_LYL1-r5\",\n",
    "\"30\": \"mr149-MV411-RNP_LYL1-r6\",\n",
    "\"31\": \"mr150-MV411-RNP_MAX-r4\",\n",
    "\"32\": \"mr151-MV411-RNP_MAX-r5\",\n",
    "\"33\": \"mr152-MV411-RNP_MAX-r6\",\n",
    "\"34\": \"mr153-MV411-RNP_ZEB2-r4\",\n",
    "\"35\": \"mr154-MV411-RNP_ZEB2-r5\",\n",
    "\"36\": \"mr155-MV411-RNP_ZEB2-r6\",\n",
    "\"37\": \"mr156-MV411-RNP_MEF2C-r4\",\n",
    "\"38\": \"mr157-MV411-RNP_MEF2C-r5\",\n",
    "\"39\": \"mr158-MV411-RNP_MEF2C-r6\",\n",
    "\"40\": \"mr159-MV411-RNP_MEIS1-r4\",\n",
    "\"41\": \"mr160-MV411-RNP_MEIS1-r5\",\n",
    "\"42\": \"mr161-MV411-RNP_MEIS1-r6\",\n",
    "\"43\": \"mr162-MV411-RNP_FLI1-r4\",\n",
    "\"44\": \"mr163-MV411-RNP_FLI1-r5\",\n",
    "\"45\": \"mr164-MV411-RNP_FLI1-r6\",\n",
    "\"46\": \"mr165-MV411-RNP_ELF2-r4\",\n",
    "\"47\": \"mr166-MV411-RNP_ELF2-r5\",\n",
    "\"48\": \"mr167-MV411-RNP_ELF2-r6\",\n",
    "\"49\": \"mr168-MV411-RNP_GFI1-r4\",\n",
    "\"50\": \"mr169-MV411-RNP_GFI1-r5\",\n",
    "\"51\": \"mr170-MV411-RNP_GFI1-r6\",\n",
    "\"52\": \"mr171-MV411-RNP_IKZF1-r4\",\n",
    "\"53\": \"mr172-MV411-RNP_IKZF1-r5\",\n",
    "\"54\": \"mr173-MV411-RNP_IKZF1-r6\",\n",
    "\"55\": \"mr174-MV411-RNP_CEBPA-r4\",\n",
    "\"56\": \"mr175-MV411-RNP_CEBPA-r5\",\n",
    "\"57\": \"mr176-MV411-RNP_CEBPA-r6\",\n",
    "\"58\": \"mr177-MV411-RNP_MYB-r4\",\n",
    "\"59\": \"mr178-MV411-RNP_MYB-r5\",\n",
    "\"60\": \"mr179-MV411-RNP_MYB-r6\",\n",
    "\"61\": \"mr180-MV411-RNP_MYBL2-r1\",\n",
    "\"62\": \"mr181-MV411-RNP_MYBL2-r2\",\n",
    "\"63\": \"mr182-MV411-RNP_MYBL2-r3\",\n",
    "\"64\": \"mr183-MV411-RNP_HOXA9-r4\",\n",
    "\"65\": \"mr184-MV411-RNP_HOXA9-r5\",\n",
    "\"66\": \"mr185-MV411-RNP_HOXA9-r6\",\n",
    "\"67\": \"mr186-MV411-RNP_AAVS1-r1\",\n",
    "\"68\": \"mr187-MV411-RNP_AAVS1-r2\",\n",
    "\"69\": \"mr188-MV411-RNP_AAVS1-r3\",\n",
    "\"70\": \"mr189-MV411-RNP_SP1-r4\",\n",
    "\"71\": \"mr190-MV411-RNP_SP1-r5\",\n",
    "\"72\": \"mr191-MV411-RNP_SP1-r6\",\n",
    "\"73\": \"mr192-MV411-RNP_SP1-r7\"}"
   ]
  },
  {
   "cell_type": "code",
   "execution_count": null,
   "metadata": {},
   "outputs": [],
   "source": [
    "data.columns"
   ]
  },
  {
   "cell_type": "code",
   "execution_count": null,
   "metadata": {},
   "outputs": [],
   "source": [
    "data.columns = [rename[i] for i in data.columns]"
   ]
  },
  {
   "cell_type": "code",
   "execution_count": null,
   "metadata": {},
   "outputs": [],
   "source": [
    "data"
   ]
  },
  {
   "cell_type": "markdown",
   "metadata": {},
   "source": [
    "## pre processing "
   ]
  },
  {
   "cell_type": "markdown",
   "metadata": {},
   "source": [
    "filter some more"
   ]
  },
  {
   "cell_type": "code",
   "execution_count": null,
   "metadata": {},
   "outputs": [],
   "source": [
    "toremove = np.argwhere(data.values.var(1)==0)\n",
    "toremove.ravel()"
   ]
  },
  {
   "cell_type": "code",
   "execution_count": null,
   "metadata": {},
   "outputs": [],
   "source": [
    "toremove.shape"
   ]
  },
  {
   "cell_type": "code",
   "execution_count": null,
   "metadata": {},
   "outputs": [],
   "source": [
    "data = data.drop(data.iloc[toremove.ravel()].index,0)"
   ]
  },
  {
   "cell_type": "code",
   "execution_count": null,
   "metadata": {},
   "outputs": [],
   "source": [
    "data.shape"
   ]
  },
  {
   "cell_type": "code",
   "execution_count": null,
   "metadata": {},
   "outputs": [],
   "source": [
    "ERCC = data[~data.index.str.contains('ENSG00')]"
   ]
  },
  {
   "cell_type": "code",
   "execution_count": null,
   "metadata": {},
   "outputs": [],
   "source": [
    "data = data[~data.index.str.contains('ERCC-')]"
   ]
  },
  {
   "cell_type": "code",
   "execution_count": null,
   "metadata": {},
   "outputs": [],
   "source": [
    "ensg = data[data.index.str.contains('ENSG00')]"
   ]
  },
  {
   "cell_type": "code",
   "execution_count": null,
   "metadata": {},
   "outputs": [],
   "source": [
    "data = data[~data.index.str.contains('ENSG00')]"
   ]
  },
  {
   "cell_type": "markdown",
   "metadata": {},
   "source": [
    "renormalize the data"
   ]
  },
  {
   "cell_type": "code",
   "execution_count": null,
   "metadata": {},
   "outputs": [],
   "source": [
    "len(ERCC)"
   ]
  },
  {
   "cell_type": "markdown",
   "metadata": {},
   "source": [
    "## Getting the Core TF information"
   ]
  },
  {
   "cell_type": "code",
   "execution_count": null,
   "metadata": {},
   "outputs": [],
   "source": [
    "ctf=pd.read_csv('../data/CTF.csv',header=None)[0].values.tolist()\n",
    "ctf"
   ]
  },
  {
   "cell_type": "markdown",
   "metadata": {},
   "source": [
    "## correlation filtering"
   ]
  },
  {
   "cell_type": "markdown",
   "metadata": {},
   "source": [
    "## Making and running the dashboard"
   ]
  },
  {
   "cell_type": "code",
   "execution_count": null,
   "metadata": {},
   "outputs": [],
   "source": [
    "%%R\n",
    "library('erccdashboard')"
   ]
  },
  {
   "cell_type": "code",
   "execution_count": null,
   "metadata": {},
   "outputs": [],
   "source": [
    "ERCC = ERCC.astype(int)"
   ]
  },
  {
   "cell_type": "code",
   "execution_count": null,
   "metadata": {},
   "outputs": [],
   "source": [
    "ERCC['Feature'] = ERCC.index"
   ]
  },
  {
   "cell_type": "code",
   "execution_count": null,
   "metadata": {},
   "outputs": [],
   "source": [
    "ERCC"
   ]
  },
  {
   "cell_type": "code",
   "execution_count": null,
   "metadata": {},
   "outputs": [],
   "source": [
    "experiments = list(set([i.split('-')[2] for i in ERCC.columns[:-1]]))\n",
    "experiments.remove(\"RNP_AAVS1\")"
   ]
  },
  {
   "cell_type": "code",
   "execution_count": null,
   "metadata": {},
   "outputs": [],
   "source": [
    "from rpy2.robjects.packages import importr\n",
    "erccdashboard = importr('erccdashboard')"
   ]
  },
  {
   "cell_type": "code",
   "execution_count": null,
   "metadata": {},
   "outputs": [],
   "source": [
    "#TODO: compute the mass from concentration\n",
    "###################################################\n",
    "### code chunk number 3: defineInputData\n",
    "###################################################\n",
    "%R datType = \"count\" # \"count\" for RNA-Seq data, \"array\" for microarray data\n",
    "%R isNorm = False # flag to indicate if input expression measures are already\n",
    "               # normalized, default is FALSE \n",
    "%R filenameRoot = \"RNPv2\" # user defined filename prefix for results files\n",
    "%R sample2Name = \"AAAVS1\" # name for sample 2 in the experiment\n",
    "%R erccmix = \"RatioPair\" # name of ERCC mixture design, \"RatioPair\" is default\n",
    "%R erccdilution = 1/100 # dilution factor used for Ambion spike-in mixtures\n",
    "%R spikeVol = 1 # volume (in microliters) of diluted spike-in mixture added to \n",
    "             #   total RNA mass\n",
    "%R totalRNAmass = 0.500 # mass (in micrograms) of total RNA \n",
    "%R choseFDR = 0.1 # user defined false discovery rate (FDR), default is 0.05"
   ]
  },
  {
   "cell_type": "code",
   "execution_count": null,
   "metadata": {},
   "outputs": [],
   "source": [
    "cols = list(ERCC.columns)\n",
    "cols.sort()\n",
    "for val in experiments:\n",
    "    d = {}\n",
    "    e=0\n",
    "    d.update({\n",
    "        'Feature':'Feature'\n",
    "    })\n",
    "    for i in cols:\n",
    "        if val in i:\n",
    "            e+=1\n",
    "            d.update({i: val.split('_')[-1]+'_'+str(e)})\n",
    "    d.update({\n",
    "        'mr186-MV411-RNP_AAVS1-r1': 'AAAVS1_1',\n",
    "        'mr187-MV411-RNP_AAVS1-r2': 'AAAVS1_2',\n",
    "        'mr188-MV411-RNP_AAVS1-r3': 'AAAVS1_3'\n",
    "    })\n",
    "    a = ERCC[list(d.keys())].rename(columns=d)\n",
    "    a.to_csv('../data/ERCC_estimation.csv', index=None)\n",
    "    val = val.split('_')[-1]\n",
    "    torm = 'RNPv2.'+val+'.AAAVS1.All.Pvals.csv'\n",
    "    ! rm $torm \n",
    "    %R -i val print(val)\n",
    "    %R print(sample2Name)\n",
    "    %R a <- read.csv('../data/ERCC_estimation.csv')\n",
    "    %R print(head(a))\n",
    "    %R exDat = ''\n",
    "    try:\n",
    "        %R -i val exDat = runDashboard(datType=datType, isNorm = isNorm, exTable=a, filenameRoot=filenameRoot, sample1Name=val, sample2Name=sample2Name, erccmix=erccmix, erccdilution=erccdilution, spikeVol=spikeVol, totalRNAmass=totalRNAmass, choseFDR=choseFDR)\n",
    "    except Warning:\n",
    "        print(\"failed for \"+val)\n",
    "        continue\n",
    "    except:\n",
    "        print('worked for '+val)\n",
    "    %R print(summary(exDat))\n",
    "    %R grid.arrange(exDat$Figures$dynRangePlot)\n",
    "    %R grid.arrange(exDat$Figures$rocPlot)\n",
    "    %R grid.arrange(exDat$Figures$lodrERCCPlot)\n",
    "    %R grid.arrange(exDat$Figures$maPlot)"
   ]
  },
  {
   "cell_type": "code",
   "execution_count": null,
   "metadata": {},
   "outputs": [],
   "source": [
    "%matplotlib inline\n",
    "ig, ax = plt.subplots(figsize=(10,10))\n",
    "sns.heatmap(data.corr(), \n",
    "            xticklabels=data.columns,\n",
    "            yticklabels=data.columns, ax=ax)"
   ]
  },
  {
   "cell_type": "code",
   "execution_count": null,
   "metadata": {},
   "outputs": [],
   "source": [
    "model = AgglomerativeClustering(n_clusters=15,linkage=\"average\", \n",
    "                                affinity=\"cosine\", compute_full_tree=True)\n",
    "labels = model.fit_predict(data.corr())\n",
    "ii = itertools.count(data.shape[0])\n",
    "tree = [{'node_id': next(ii), 'left': x[0], 'right':x[1]} for x in model.children_]\n",
    "sort = labels.argsort()"
   ]
  },
  {
   "cell_type": "code",
   "execution_count": null,
   "metadata": {},
   "outputs": [],
   "source": [
    "%matplotlib inline\n",
    "\n",
    "sns.clustermap(data.corr(), figsize=(20, 20))\n",
    "\n",
    "plt.savefig('../data/RNPv2_cluster_count.pdf')"
   ]
  },
  {
   "cell_type": "code",
   "execution_count": null,
   "metadata": {},
   "outputs": [],
   "source": [
    "data.sum().tolist()"
   ]
  },
  {
   "cell_type": "code",
   "execution_count": null,
   "metadata": {},
   "outputs": [],
   "source": [
    "data.shape"
   ]
  },
  {
   "cell_type": "markdown",
   "metadata": {},
   "source": [
    "## DESEQ ANALYSIS"
   ]
  },
  {
   "cell_type": "code",
   "execution_count": null,
   "metadata": {},
   "outputs": [],
   "source": [
    "data"
   ]
  },
  {
   "cell_type": "code",
   "execution_count": null,
   "metadata": {},
   "outputs": [],
   "source": [
    "experiments = list(set([i.split('-')[2] for i in data.columns[:-1]]))"
   ]
  },
  {
   "cell_type": "code",
   "execution_count": null,
   "metadata": {},
   "outputs": [],
   "source": [
    "experiments.remove(\"RNP_AAVS1\")"
   ]
  },
  {
   "cell_type": "code",
   "execution_count": null,
   "metadata": {},
   "outputs": [],
   "source": [
    "data['gene_id'] = data.index"
   ]
  },
  {
   "cell_type": "code",
   "execution_count": null,
   "metadata": {},
   "outputs": [],
   "source": [
    "experiments"
   ]
  },
  {
   "cell_type": "code",
   "execution_count": null,
   "metadata": {},
   "outputs": [],
   "source": [
    "data.columns"
   ]
  },
  {
   "cell_type": "code",
   "execution_count": null,
   "metadata": {},
   "outputs": [],
   "source": [
    "for val in experiments:  \n",
    "    design = pd.DataFrame(index=data.columns[:-1], columns=['DMSO','Target'], \n",
    "                          data=np.array([[1 if 'RNP_AAVS1' in i else 0 for i in data.columns[:-1]],[1 if val in i else 0 for i in data.columns[:-1]]]).T)\n",
    "    design.index = design.index.astype(str).str.replace('-','.')\n",
    "    deseq = pyDESeq2.pyDESeq2(count_matrix=data, design_matrix = design, \n",
    "                              design_formula='~DMSO + Target', gene_column=\"gene_id\")\n",
    "    deseq.run_deseq()\n",
    "    deseq.get_deseq_result()\n",
    "    r = deseq.deseq_result\n",
    "    r.pvalue = np.nan_to_num(np.array(r.pvalue), 1)\n",
    "    r.log2FoldChange = np.nan_to_num(np.array(r.log2FoldChange), 0)\n",
    "    results[val] = r"
   ]
  },
  {
   "cell_type": "markdown",
   "metadata": {},
   "source": [
    "## CTF (volcano)"
   ]
  },
  {
   "cell_type": "code",
   "execution_count": null,
   "metadata": {},
   "outputs": [],
   "source": [
    "results"
   ]
  },
  {
   "cell_type": "code",
   "execution_count": null,
   "metadata": {},
   "outputs": [],
   "source": [
    "for val in experiments:\n",
    "    a = h.volcano(results[val],tohighlight=ctf,title=val, maxvalue= 60, searchbox=True, minlogfold=0.5)\n",
    "    try:\n",
    "        show(a)\n",
    "    except RuntimeError:\n",
    "        show(a)"
   ]
  },
  {
   "cell_type": "markdown",
   "metadata": {},
   "source": [
    "## any bias in the data"
   ]
  },
  {
   "cell_type": "code",
   "execution_count": null,
   "metadata": {},
   "outputs": [],
   "source": [
    "datad = data"
   ]
  },
  {
   "cell_type": "code",
   "execution_count": null,
   "metadata": {},
   "outputs": [],
   "source": [
    "data = data.drop(columns='mr129-MV411-RNP_MYC-r4')"
   ]
  },
  {
   "cell_type": "code",
   "execution_count": null,
   "metadata": {},
   "outputs": [],
   "source": [
    "col = {v:i for i, v in enumerate(set([i.split('-')[2] for i in data.columns[:-1]]))}"
   ]
  },
  {
   "cell_type": "code",
   "execution_count": null,
   "metadata": {},
   "outputs": [],
   "source": [
    "red = PCA(2).fit_transform(data[data.columns[:-1]].T)\n",
    "h.scatter(red, labels=data.columns[:-1], radi=60000, colors=[col[i.split('-')[2]] for i in data.columns[:-1]])"
   ]
  },
  {
   "cell_type": "code",
   "execution_count": null,
   "metadata": {},
   "outputs": [],
   "source": [
    "red = PCA(30).fit_transform(data[data.columns[:-1]].T)\n",
    "red = TSNE(2,4).fit_transform(red)"
   ]
  },
  {
   "cell_type": "code",
   "execution_count": null,
   "metadata": {},
   "outputs": [],
   "source": [
    "red.shape"
   ]
  },
  {
   "cell_type": "markdown",
   "metadata": {},
   "source": [
    "mr129-MYC-r4 seems weird"
   ]
  },
  {
   "cell_type": "code",
   "execution_count": null,
   "metadata": {},
   "outputs": [],
   "source": [
    "h.scatter(red, labels=data.columns[:-1], radi=10, colors=[col[i.split('-')[2]] for i in data.columns[:-1]])"
   ]
  },
  {
   "cell_type": "code",
   "execution_count": null,
   "metadata": {},
   "outputs": [],
   "source": [
    "pca = PCA(20)\n",
    "red = pca.fit_transform(data.T)"
   ]
  },
  {
   "cell_type": "code",
   "execution_count": null,
   "metadata": {},
   "outputs": [],
   "source": [
    "pca.explained_variance_ratio_"
   ]
  },
  {
   "cell_type": "markdown",
   "metadata": {},
   "source": [
    "## GSEA analysis"
   ]
  },
  {
   "cell_type": "code",
   "execution_count": null,
   "metadata": {},
   "outputs": [],
   "source": [
    "data"
   ]
  },
  {
   "cell_type": "code",
   "execution_count": null,
   "metadata": {},
   "outputs": [],
   "source": [
    "res = {}"
   ]
  },
  {
   "cell_type": "code",
   "execution_count": null,
   "metadata": {},
   "outputs": [],
   "source": [
    "experiments"
   ]
  },
  {
   "cell_type": "code",
   "execution_count": null,
   "metadata": {},
   "outputs": [],
   "source": [
    "for val in experiments:\n",
    "    print(val)\n",
    "    totest = data[[v for v in data.columns[:-1] if val in v or 'AAVS1' in v]]\n",
    "    cls = ['Condition' if val in v else 'DMSO' for v in totest.columns]\n",
    "    res[val] = gseapy.gsea(data=totest, gene_sets='WikiPathways_2013', \n",
    "                cls= cls, no_plot=False, processes=10)\n",
    "    res[val].res2d['Term'] = [i for i in res[val].res2d.index]\n",
    "    sns.barplot(data=res[val].res2d.iloc[:25], x=\"es\", y=\"Term\",\n",
    "                hue_order=\"geneset_size\").set_title(val)"
   ]
  },
  {
   "cell_type": "code",
   "execution_count": null,
   "metadata": {},
   "outputs": [],
   "source": [
    "with open('../data/pathways/wikipathway_RNPv2', 'wb') as f:\n",
    "    pickle.dump(res,f)"
   ]
  },
  {
   "cell_type": "code",
   "execution_count": null,
   "metadata": {},
   "outputs": [],
   "source": [
    "with open('../data/pathways/wikipathway_RNPv2','rb') as f:\n",
    "    res = pickle.load(f)"
   ]
  },
  {
   "cell_type": "code",
   "execution_count": null,
   "metadata": {},
   "outputs": [],
   "source": [
    "import matplotlib.pyplot as plt\n",
    "%matplotlib inline\n",
    "for val in experiments:\n",
    "    res[val].res2d['Term'] = [i[3:].split('WP')[0] for i in res[val].res2d['Term']]\n",
    "    sns.barplot(data=res[val].res2d.iloc[:25], x=\"es\", y=\"Term\",\n",
    "                hue_order=\"geneset_size\").set_title(val)\n",
    "    plt.show()"
   ]
  },
  {
   "cell_type": "code",
   "execution_count": null,
   "metadata": {},
   "outputs": [],
   "source": [
    "a = set()\n",
    "for k, val in res.items():\n",
    "    a.update(set(val.res2d.index))\n",
    "a = {i:[0]*len(res) for i in a}\n",
    "for n,(k, val) in enumerate(res.items()):\n",
    "    for i,v in val.res2d.iterrows():\n",
    "        a[i][n] = v.es"
   ]
  },
  {
   "cell_type": "code",
   "execution_count": null,
   "metadata": {},
   "outputs": [],
   "source": [
    "res = pd.DataFrame(a, index=res.keys())"
   ]
  },
  {
   "cell_type": "code",
   "execution_count": null,
   "metadata": {},
   "outputs": [],
   "source": [
    "res.index = [i[3:].split('WP')[0] for i in res.index]"
   ]
  },
  {
   "cell_type": "code",
   "execution_count": null,
   "metadata": {},
   "outputs": [],
   "source": [
    "res.index = [i.split('-')[2] for i in res.columns]"
   ]
  },
  {
   "cell_type": "code",
   "execution_count": null,
   "metadata": {},
   "outputs": [],
   "source": [
    "sns.clustermap(figsize=(25,20), data=res,vmin=-1,vmax=1,xticklabels=res.columns, yticklabels=res.index)"
   ]
  },
  {
   "cell_type": "code",
   "execution_count": null,
   "metadata": {},
   "outputs": [],
   "source": [
    "fig.savefig(\"enriched_terms.png\")"
   ]
  },
  {
   "cell_type": "code",
   "execution_count": null,
   "metadata": {},
   "outputs": [],
   "source": [
    "res = {}"
   ]
  },
  {
   "cell_type": "code",
   "execution_count": null,
   "metadata": {},
   "outputs": [],
   "source": [
    "totest"
   ]
  },
  {
   "cell_type": "code",
   "execution_count": null,
   "metadata": {},
   "outputs": [],
   "source": [
    "cls"
   ]
  },
  {
   "cell_type": "code",
   "execution_count": null,
   "metadata": {},
   "outputs": [],
   "source": [
    "res.keys()"
   ]
  },
  {
   "cell_type": "code",
   "execution_count": null,
   "metadata": {},
   "outputs": [],
   "source": [
    "for i, val in enumerate(experiments[4:]):\n",
    "    print(val)\n",
    "    if val in res:\n",
    "        continue\n",
    "    totest = data[[v for v in data.columns[:-1] if val in v or 'AAVS1' in v]]\n",
    "    cls = ['Condition' if val in v else 'DMSO' for v in totest.columns]\n",
    "    res[val] = gseapy.gsea(data=totest, gene_sets='GO_Biological_Process_2015', \n",
    "                cls= cls, no_plot=False, processes=6)\n",
    "    res[val].res2d['Term'] = [i for i in res[val].res2d.index]\n",
    "    plt.figure(i)\n",
    "    sns.barplot(data=res[val].res2d.iloc[:25], x=\"es\", y=\"Term\",\n",
    "                hue_order=\"geneset_size\").set_title(val)"
   ]
  },
  {
   "cell_type": "code",
   "execution_count": null,
   "metadata": {},
   "outputs": [],
   "source": [
    "with open('../data/pathways/GO_Biological_Process_2015_RNPv2', 'wb') as f:\n",
    "    pickle.dump(res,f)"
   ]
  },
  {
   "cell_type": "code",
   "execution_count": null,
   "metadata": {},
   "outputs": [],
   "source": [
    "with open('../data/pathways/GO_Biological_Process_2015_RNPv2','rb') as f:\n",
    "    res = pickle.load(f)"
   ]
  },
  {
   "cell_type": "markdown",
   "metadata": {},
   "source": [
    "creating matrices"
   ]
  },
  {
   "cell_type": "code",
   "execution_count": null,
   "metadata": {},
   "outputs": [],
   "source": [
    "a = set()\n",
    "for k, val in res.items():\n",
    "    a.update(set(val.res2d.Term))\n",
    "a = {i:[0]*len(res) for i in a}\n",
    "for n,(k, val) in enumerate(res.items()):\n",
    "    for i,v in val.res2d.iterrows():\n",
    "        a[v.Term][n] = v.es\n",
    "res = pd.DataFrame(a, index=res.keys())\n",
    "fig, ax = plt.subplots(figsize=(20,15))\n",
    "sns.heatmap(ax=ax,data=res)"
   ]
  },
  {
   "cell_type": "code",
   "execution_count": null,
   "metadata": {},
   "outputs": [],
   "source": [
    "model = AgglomerativeClustering(n_clusters=8,linkage=\"average\", \n",
    "                                affinity=\"cosine\", compute_full_tree=True)\n",
    "labels = model.fit_predict(res)\n",
    "ii = itertools.count(res.shape[0])\n",
    "tree = [{'node_id': next(ii), 'left': x[0], 'right':x[1]} for x in model.children_]"
   ]
  },
  {
   "cell_type": "code",
   "execution_count": null,
   "metadata": {},
   "outputs": [],
   "source": [
    "sort = labels.argsort()"
   ]
  },
  {
   "cell_type": "code",
   "execution_count": null,
   "metadata": {},
   "outputs": [],
   "source": [
    "a = h.plotCorrelationMatrix(res.values[sort],res.index[sort].tolist(),interactive=True,title=\"RNP2_bioproc_corr\")"
   ]
  },
  {
   "cell_type": "code",
   "execution_count": null,
   "metadata": {},
   "outputs": [],
   "source": [
    "cluster1= ['LMO2','LYL1','MAX','MEF2C']\n",
    "cluster2=['GFI1','FLI1','MYB','IKZF1','ELF2','CEBPa','MEIS1']\n",
    "cluster3=['IRF2BP2','MEF2C','CDK6','MEF2D','IRF8','BRD4','MYC']\n",
    "cluster4= ['RUNX1','RUNX2','ZMYND8']"
   ]
  },
  {
   "cell_type": "code",
   "execution_count": null,
   "metadata": {},
   "outputs": [],
   "source": [
    "res.loc[cluster2].mean().sort_values()"
   ]
  },
  {
   "cell_type": "code",
   "execution_count": null,
   "metadata": {},
   "outputs": [],
   "source": [
    "'GO_Molecular_Function_2015',\n",
    "'GeneSigDB',\n",
    "'ENCODE_TF_ChIP-seq_2014',\n",
    "#'Drug_Perturbations_from_GEO_2014',\n",
    "'GO_Cellular_Component_2015',\n",
    "'GO_Biological_Process_2015',\n",
    "'PPI_Hub_Proteins',\n",
    "'WikiPathways_2013',\n",
    "'TF-LOF_Expression_from_GEO',\n",
    "# msig db C2 C6 H http://software.broadinstitute.org/gsea/msigdb/annotate.jsp\n",
    "# max's crc"
   ]
  },
  {
   "cell_type": "markdown",
   "metadata": {},
   "source": [
    "## compare to the drop of CTF"
   ]
  },
  {
   "cell_type": "code",
   "execution_count": null,
   "metadata": {},
   "outputs": [],
   "source": [
    "ctf = [\n",
    " 'BRD4',\n",
    " 'CDK6',\n",
    " 'CEBPA',\n",
    " 'ELF2',\n",
    " 'FLI1',\n",
    " 'GFI1',\n",
    " 'IKZF1',\n",
    " 'IRF2BP2',\n",
    " 'IRF8',\n",
    " 'LMO2',\n",
    " 'LYL1',\n",
    " 'MAX',\n",
    " 'MEF2C',\n",
    " 'MEF2D',\n",
    " 'MEIS1',\n",
    " 'MYB',\n",
    " 'MYC',\n",
    " 'RUNX1',\n",
    " 'RUNX2',\n",
    " 'SPI1',\n",
    " 'ZEB2',\n",
    " 'ZMYND8'\n",
    "]"
   ]
  },
  {
   "cell_type": "code",
   "execution_count": null,
   "metadata": {},
   "outputs": [],
   "source": [
    "deseq = pd.DataFrame()\n",
    "for k, val in results.items():\n",
    "    deseq[k] = val.log2FoldChange\n",
    "deseq=deseq.T"
   ]
  },
  {
   "cell_type": "code",
   "execution_count": null,
   "metadata": {},
   "outputs": [],
   "source": [
    "deseq"
   ]
  },
  {
   "cell_type": "code",
   "execution_count": null,
   "metadata": {},
   "outputs": [],
   "source": [
    "a = plotCorrelationMatrix(a, deseq.index[sort].tolist(),interactive=True)"
   ]
  },
  {
   "cell_type": "code",
   "execution_count": null,
   "metadata": {},
   "outputs": [],
   "source": [
    "ctf[11] = 'CEBPa'\n",
    "ctf[]"
   ]
  },
  {
   "cell_type": "code",
   "execution_count": null,
   "metadata": {},
   "outputs": [],
   "source": [
    "ctf"
   ]
  },
  {
   "cell_type": "markdown",
   "metadata": {},
   "source": [
    "dropping ETV6 SP1  GSE1 LDB1"
   ]
  },
  {
   "cell_type": "code",
   "execution_count": null,
   "metadata": {},
   "outputs": [],
   "source": [
    "deseq.loc[['MYC',\n",
    " 'MYB',\n",
    " 'SPI1',\n",
    " 'RUNX1',\n",
    " 'IRF2BP2',\n",
    " 'FLI1',\n",
    " 'ELF2',\n",
    " 'ZEB2',\n",
    " 'GFI1',\n",
    " 'LMO2',\n",
    " 'CEBPa',\n",
    " 'MEF2D',\n",
    " 'MEF2C',\n",
    " 'IRF8',\n",
    " 'MEIS1',\n",
    " 'RUNX2',\n",
    " 'RUNX2',\n",
    " 'ZMYND8']]"
   ]
  },
  {
   "cell_type": "code",
   "execution_count": null,
   "metadata": {},
   "outputs": [],
   "source": [
    "show(a)"
   ]
  },
  {
   "cell_type": "code",
   "execution_count": null,
   "metadata": {},
   "outputs": [],
   "source": [
    "deseq_ctf = deseq.loc[['MYC',\n",
    " 'MYB',\n",
    " 'SPI1',\n",
    " 'RUNX1',\n",
    " 'IRF2BP2',\n",
    " 'FLI1',\n",
    " 'ELF2',\n",
    " 'ZEB2',\n",
    " 'GFI1',\n",
    " 'LMO2',\n",
    " 'CEBPa',\n",
    " 'MEF2D',\n",
    " 'MEF2C',\n",
    " 'IRF8',\n",
    " 'MEIS1',\n",
    " 'RUNX2',\n",
    " 'ZMYND8']]\n",
    "model = AgglomerativeClustering(n_clusters=7,linkage=\"average\", \n",
    "                                affinity=\"cosine\", compute_full_tree=True)\n",
    "labels = model.fit_predict(deseq_ctf)\n",
    "ii = itertools.count(deseq_ctf.shape[0])\n",
    "tree = [{'node_id': next(ii), 'left': x[0], 'right':x[1]} for x in model.children_]\n",
    "sort = labels.argsort()\n",
    "a = deseq_ctf.values[sort]\n",
    "a = plotCorrelationMatrix(a, deseq_ctf.index[sort].tolist(),interactive=True)"
   ]
  },
  {
   "cell_type": "code",
   "execution_count": null,
   "metadata": {},
   "outputs": [],
   "source": [
    "show(a)"
   ]
  },
  {
   "cell_type": "code",
   "execution_count": null,
   "metadata": {},
   "outputs": [],
   "source": [
    "model = AgglomerativeClustering(n_clusters=7,linkage=\"average\", \n",
    "                                affinity=\"cosine\", compute_full_tree=True)\n",
    "labels = model.fit_predict(deseq)\n",
    "ii = itertools.count(deseq.shape[0])\n",
    "tree = [{'node_id': next(ii), 'left': x[0], 'right':x[1]} for x in model.children_]\n",
    "sort = labels.argsort()\n",
    "a = deseq.values[sort]\n",
    "a = plotCorrelationMatrix(a, deseq.index[sort].tolist(),interactive=True)"
   ]
  },
  {
   "cell_type": "code",
   "execution_count": null,
   "metadata": {},
   "outputs": [],
   "source": [
    "show(a)"
   ]
  },
  {
   "cell_type": "markdown",
   "metadata": {},
   "source": [
    "tsne, pca, clustering accross TF, CRC, most var genes, both ways."
   ]
  }
 ],
 "metadata": {
  "kernelspec": {
   "display_name": "Python 3",
   "language": "python",
   "name": "python3"
  },
  "language_info": {
   "codemirror_mode": {
    "name": "ipython",
    "version": 3
   },
   "file_extension": ".py",
   "mimetype": "text/x-python",
   "name": "python",
   "nbconvert_exporter": "python",
   "pygments_lexer": "ipython3",
   "version": "3.8.3rc1"
  },
  "toc": {
   "base_numbering": 1,
   "nav_menu": {},
   "number_sections": false,
   "sideBar": true,
   "skip_h1_title": false,
   "title_cell": "Table of Contents",
   "title_sidebar": "Contents",
   "toc_cell": false,
   "toc_position": {
    "height": "calc(100% - 180px)",
    "left": "10px",
    "top": "150px",
    "width": "205.8px"
   },
   "toc_section_display": true,
   "toc_window_display": true
  },
  "varInspector": {
   "cols": {
    "lenName": 16,
    "lenType": 16,
    "lenVar": 40
   },
   "kernels_config": {
    "python": {
     "delete_cmd_postfix": "",
     "delete_cmd_prefix": "del ",
     "library": "var_list.py",
     "varRefreshCmd": "print(var_dic_list())"
    },
    "r": {
     "delete_cmd_postfix": ") ",
     "delete_cmd_prefix": "rm(",
     "library": "var_list.r",
     "varRefreshCmd": "cat(var_dic_list()) "
    }
   },
   "types_to_exclude": [
    "module",
    "function",
    "builtin_function_or_method",
    "instance",
    "_Feature"
   ],
   "window_display": false
  }
 },
 "nbformat": 4,
 "nbformat_minor": 2
}
