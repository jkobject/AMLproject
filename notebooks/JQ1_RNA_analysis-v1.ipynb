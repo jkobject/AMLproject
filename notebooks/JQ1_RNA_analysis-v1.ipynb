{
 "cells": [
  {
   "cell_type": "code",
   "execution_count": null,
   "metadata": {},
   "outputs": [],
   "source": [
    "from __future__ import print_function\n",
    "import os.path\n",
    "import dalmatian as dm\n",
    "import pandas as pd\n",
    "import sys\n",
    "sys.path.insert(0, '../JKBio/')\n",
    "import Datanalytics as da \n",
    "import TerraFunction as terra\n",
    "%load_ext autoreload\n",
    "from Helper import *\n",
    "%autoreload 2\n",
    "%load_ext rpy2.ipython\n",
    "#%load_ext rpy2.ipython\n",
    "from taigapy import TaigaClient\n",
    "tc = TaigaClient()\n",
    "import numpy as np\n",
    "from bokeh.plotting import *\n",
    "from bokeh.models import HoverTool\n",
    "output_notebook()\n",
    "import matplotlib.pyplot as plt\n",
    "%matplotlib inline\n",
    "import seaborn as sns\n",
    "from helper import pyDESeq2\n",
    "from sklearn.neighbors import KNeighborsClassifier\n",
    "from sklearn.manifold import MDS, TSNE\n",
    "from sklearn.decomposition import PCA\n",
    "from sklearn.preprocessing import scale\n",
    "from umap import UMAP"
   ]
  },
  {
   "cell_type": "code",
   "execution_count": null,
   "metadata": {},
   "outputs": [],
   "source": [
    "! pip install umap-learn"
   ]
  },
  {
   "cell_type": "code",
   "execution_count": null,
   "metadata": {},
   "outputs": [],
   "source": [
    "# biggest change genes across time point\n",
    "# GSEA\n",
    "#counts = pd.read_csv(\"data/expression.MAX_AMLproject.counts.tsv\", sep='\\t')\n",
    "counts = pd.read_csv(\"data/MAX_AMLproject.rsem_genes_expected_count.txt\", sep='\\t')\n",
    "#transcripts = pd.read_csv(\"data/expression.MAX_AMLproject.transcripts.tsv\", sep='\\t')b"
   ]
  },
  {
   "cell_type": "code",
   "execution_count": null,
   "metadata": {},
   "outputs": [],
   "source": [
    "counts.shape"
   ]
  },
  {
   "cell_type": "code",
   "execution_count": null,
   "metadata": {},
   "outputs": [],
   "source": [
    "# we have a number of non zero similar to nb of prot coding genes\n",
    "np.count_nonzero(counts.values[:,2:])/30"
   ]
  },
  {
   "cell_type": "code",
   "execution_count": null,
   "metadata": {},
   "outputs": [],
   "source": [
    "counts.columns"
   ]
  },
  {
   "cell_type": "code",
   "execution_count": null,
   "metadata": {},
   "outputs": [],
   "source": [
    "filtered = filterProteinCoding(listofgenes = counts['gene_id'].values, idtype = \"ensembl_gene_id\")\n",
    "len(filtered)"
   ]
  },
  {
   "cell_type": "code",
   "execution_count": null,
   "metadata": {},
   "outputs": [],
   "source": [
    "counts = counts.iloc[filtered]"
   ]
  },
  {
   "cell_type": "markdown",
   "metadata": {},
   "source": [
    "filter some more"
   ]
  },
  {
   "cell_type": "code",
   "execution_count": null,
   "metadata": {},
   "outputs": [],
   "source": [
    "toremove = np.argwhere(counts[counts.columns.values[2:]].values.var(1)==0)\n",
    "toremove.ravel()"
   ]
  },
  {
   "cell_type": "code",
   "execution_count": null,
   "metadata": {},
   "outputs": [],
   "source": [
    "counts = counts.drop(counts.index[toremove.ravel()],0)\n",
    "counts = counts.reset_index()\n",
    "counts = counts.drop(columns='index')"
   ]
  },
  {
   "cell_type": "markdown",
   "metadata": {},
   "source": [
    "renormalize the data"
   ]
  },
  {
   "cell_type": "code",
   "execution_count": null,
   "metadata": {},
   "outputs": [],
   "source": [
    "data = counts[counts.columns.values[2:]].values\n",
    "data = np.log2(1+ data)"
   ]
  },
  {
   "cell_type": "markdown",
   "metadata": {},
   "source": [
    "The avg amount of expressed genes in the samples"
   ]
  },
  {
   "cell_type": "code",
   "execution_count": null,
   "metadata": {},
   "outputs": [],
   "source": [
    "np.count_nonzero(counts.values[:,2:])/30"
   ]
  },
  {
   "cell_type": "code",
   "execution_count": null,
   "metadata": {},
   "outputs": [],
   "source": [
    "counts = pd.DataFrame(data.T,columns=counts['gene_id'],index=counts.columns.values[2:])"
   ]
  },
  {
   "cell_type": "markdown",
   "metadata": {},
   "source": [
    "finding the different experiments"
   ]
  },
  {
   "cell_type": "code",
   "execution_count": null,
   "metadata": {},
   "outputs": [],
   "source": [
    "DMSO = '1'\n",
    "MS2 = '2'\n",
    "JQ1 = '3'\n",
    "MS2_JQ1 = '4'\n",
    "START = '0'"
   ]
  },
  {
   "cell_type": "code",
   "execution_count": null,
   "metadata": {},
   "outputs": [],
   "source": [
    "counts"
   ]
  },
  {
   "cell_type": "code",
   "execution_count": null,
   "metadata": {},
   "outputs": [],
   "source": [
    "counts['type'] = [val[0] for val in counts.index.values]"
   ]
  },
  {
   "cell_type": "code",
   "execution_count": null,
   "metadata": {},
   "outputs": [],
   "source": [
    "counts['DMSO'] = [val[0]==DMSO for val in counts.index.values]\n",
    "counts['MS2'] = [val[0]==MS2 for val in counts.index.values]\n",
    "counts['JQ1'] = [val[0]==JQ1 for val in counts.index.values]\n",
    "counts['MS2_JQ1'] = [val[0]==MS2_JQ1 for val in counts.index.values]\n",
    "counts['START'] = [val[0]==START for val in counts.index.values]"
   ]
  },
  {
   "cell_type": "code",
   "execution_count": null,
   "metadata": {},
   "outputs": [],
   "source": [
    "START = counts.loc[[val for val in counts.index if START == val[0]]]\n",
    "DMSO = pd.concat([START, counts.loc[[val for val in counts.index if DMSO == val[0]]]])\n",
    "MS2 = pd.concat([START, counts.loc[[val for val in counts.index if MS2 == val[0]]]])\n",
    "JQ1 = pd.concat([START, counts.loc[[val for val in counts.index if JQ1 == val[0]]]])\n",
    "MS2_JQ1 = pd.concat([START, counts.loc[[val for val in counts.index if MS2_JQ1 == val[0]]]])"
   ]
  },
  {
   "cell_type": "markdown",
   "metadata": {},
   "source": [
    "## some plotting"
   ]
  },
  {
   "cell_type": "code",
   "execution_count": null,
   "metadata": {},
   "outputs": [],
   "source": [
    "scatter(MDS(2).fit_transform(counts.values[:,:-6]), counts.index.values, counts['type'].values)"
   ]
  },
  {
   "cell_type": "code",
   "execution_count": null,
   "metadata": {},
   "outputs": [],
   "source": [
    "scatter(TSNE(2,10).fit_transform(counts.values[:,:-6]), counts.index.values, counts['type'].values)"
   ]
  },
  {
   "cell_type": "markdown",
   "metadata": {},
   "source": [
    "# lets look at the similarity accross replicates\n",
    "\n",
    "we have some outliers, else it seems to make some sense and on average, to be extremelly similar!"
   ]
  },
  {
   "cell_type": "code",
   "execution_count": null,
   "metadata": {},
   "outputs": [],
   "source": [
    "MS2repA = MS2.loc[[val for val in MS2.index if 'A' in val[:-4]]][MS2.columns.values[:-6]]\n",
    "MS2repB = MS2.loc[[val for val in MS2.index if 'B' in val[:-4]]][MS2.columns.values[:-6]]\n",
    "MS2repC = MS2.loc[[val for val in MS2.index if 'C' in val[:-4]]][MS2.columns.values[:-6]]"
   ]
  },
  {
   "cell_type": "code",
   "execution_count": null,
   "metadata": {},
   "outputs": [],
   "source": [
    "# reordering\n",
    "MS2repA = MS2repA.loc[MS2repA.index.values[[0,3,4,5,1,2]]]\n",
    "MS2repB = MS2repB.loc[MS2repB.index.values[[0,3,4,5,1,2]]]\n",
    "MS2repC = MS2repC.loc[MS2repC.index.values[[0,3,4,5,1,2]]]"
   ]
  },
  {
   "cell_type": "code",
   "execution_count": null,
   "metadata": {},
   "outputs": [],
   "source": [
    "MS2repA.mean(1)"
   ]
  },
  {
   "cell_type": "code",
   "execution_count": null,
   "metadata": {},
   "outputs": [],
   "source": [
    "MS2repB.mean(1)"
   ]
  },
  {
   "cell_type": "code",
   "execution_count": null,
   "metadata": {},
   "outputs": [],
   "source": [
    "MS2repC.mean(1)"
   ]
  },
  {
   "cell_type": "code",
   "execution_count": null,
   "metadata": {},
   "outputs": [],
   "source": [
    "mostvargenesA = np.argsort(MS2repA.var(0).values)\n",
    "mostvargenesB = np.argsort(MS2repB.var(0).values)\n",
    "mostvargenesC = np.argsort(MS2repC.var(0).values)"
   ]
  },
  {
   "cell_type": "code",
   "execution_count": null,
   "metadata": {},
   "outputs": [],
   "source": [
    "mostvargenesC"
   ]
  },
  {
   "cell_type": "markdown",
   "metadata": {},
   "source": [
    "Do we have a good overlap?\n",
    "- we do only if we first remove the non prot coding genes..."
   ]
  },
  {
   "cell_type": "code",
   "execution_count": null,
   "metadata": {},
   "outputs": [],
   "source": [
    "commonvar = set(counts.columns.values[mostvargenesA[:2000]].tolist()) & set(counts.columns.values[mostvargenesB[:2000]].tolist()) & set(counts.columns.values[mostvargenesC[:2000]].tolist())\n",
    "len(commonvar)"
   ]
  },
  {
   "cell_type": "code",
   "execution_count": null,
   "metadata": {},
   "outputs": [],
   "source": [
    "DMSO = DMSO.loc[DMSO.index.values[[0,1,2,4,6,8,3,5,7]]][DMSO.columns.values[:-6]]"
   ]
  },
  {
   "cell_type": "code",
   "execution_count": null,
   "metadata": {},
   "outputs": [],
   "source": [
    "prev = tc.get(name='depmap-expression-87f8', version=7, file='DM19Q2.tpm')"
   ]
  },
  {
   "cell_type": "code",
   "execution_count": null,
   "metadata": {},
   "outputs": [],
   "source": [
    "prev.columns"
   ]
  },
  {
   "cell_type": "code",
   "execution_count": null,
   "metadata": {},
   "outputs": [],
   "source": [
    "DMSO = DMSO.append(pd.DataFrame(data=prev['ACH-000045'].apply(lambda x : np.log2(x+1)).tolist(),index=prev.gene_id, columns=['ACH-000045']).T,sort=True).dropna(1)"
   ]
  },
  {
   "cell_type": "code",
   "execution_count": null,
   "metadata": {},
   "outputs": [],
   "source": [
    "sns.heatmap(DMSO.T.corr(), \n",
    "            xticklabels=DMSO.index.values,\n",
    "            yticklabels=DMSO.index.values)"
   ]
  },
  {
   "cell_type": "markdown",
   "metadata": {},
   "source": [
    "### A quick detour to look for clustering"
   ]
  },
  {
   "cell_type": "code",
   "execution_count": null,
   "metadata": {},
   "outputs": [],
   "source": [
    "prev = prev.set_index(\"gene_id\")"
   ]
  },
  {
   "cell_type": "code",
   "execution_count": null,
   "metadata": {},
   "outputs": [],
   "source": [
    "data = pd.concat([prev.T.drop('transcript_id(s)').astype(np.float).apply(lambda x: np.log2(x+1)), DMSO])"
   ]
  },
  {
   "cell_type": "code",
   "execution_count": null,
   "metadata": {},
   "outputs": [],
   "source": [
    "metadata = tc.get(name='sample-info-19q2-3c18', file='achiles_sample_info_full')"
   ]
  },
  {
   "cell_type": "code",
   "execution_count": null,
   "metadata": {},
   "outputs": [],
   "source": [
    "data.shape"
   ]
  },
  {
   "cell_type": "code",
   "execution_count": null,
   "metadata": {},
   "outputs": [],
   "source": [
    "testlabels = ['Leukemia']*10\n",
    "trainlabels = [metadata[metadata[\"DepMap_ID\"]==val][\"disease\"].values[0] for val in data.index[:1288]]"
   ]
  },
  {
   "cell_type": "code",
   "execution_count": null,
   "metadata": {},
   "outputs": [],
   "source": [
    "data = data.dropna(1)"
   ]
  },
  {
   "cell_type": "code",
   "execution_count": null,
   "metadata": {},
   "outputs": [],
   "source": [
    "data.shape"
   ]
  },
  {
   "cell_type": "code",
   "execution_count": null,
   "metadata": {},
   "outputs": [],
   "source": [
    "pca = PCA(50).fit(scale(data.values, axis=0, with_std=False))\n",
    "dimred = pca.transform(scale(data.values, axis=0, with_std=False))"
   ]
  },
  {
   "cell_type": "code",
   "execution_count": null,
   "metadata": {},
   "outputs": [],
   "source": [
    "dimred.shape"
   ]
  },
  {
   "cell_type": "code",
   "execution_count": null,
   "metadata": {},
   "outputs": [],
   "source": [
    "# learn KNN classifier to the metadata diseases\n",
    "neigh = KNeighborsClassifier(n_neighbors=4)\n",
    "neigh.fit(dimred[:-10], trainlabels) \n",
    "predicted = neigh.predict(dimred[-10:])"
   ]
  },
  {
   "cell_type": "code",
   "execution_count": null,
   "metadata": {},
   "outputs": [],
   "source": [
    "predicted"
   ]
  },
  {
   "cell_type": "code",
   "execution_count": null,
   "metadata": {},
   "outputs": [],
   "source": [
    "data"
   ]
  },
  {
   "cell_type": "code",
   "execution_count": null,
   "metadata": {},
   "outputs": [],
   "source": [
    "colors=[0]*1288\n",
    "colors.extend([1,2,1,2,1,2,1,1,1,3])"
   ]
  },
  {
   "cell_type": "code",
   "execution_count": null,
   "metadata": {},
   "outputs": [],
   "source": [
    "dimred = TSNE(2,150).fit_transform(dimred)"
   ]
  },
  {
   "cell_type": "code",
   "execution_count": null,
   "metadata": {},
   "outputs": [],
   "source": [
    "len(colors)"
   ]
  },
  {
   "cell_type": "code",
   "execution_count": null,
   "metadata": {},
   "outputs": [],
   "source": [
    "dimred.shape"
   ]
  },
  {
   "cell_type": "code",
   "execution_count": null,
   "metadata": {},
   "outputs": [],
   "source": [
    "scatter(dimred, labels=trainlabels+testlabels, colors=colors, radi=0.4)"
   ]
  },
  {
   "cell_type": "code",
   "execution_count": null,
   "metadata": {},
   "outputs": [],
   "source": [
    "MS2 = MS2.loc[MS2.index.values[[0,1,2,5,10,15,6,11,16,7,12,17,3,8,13,4,9,14]]][MS2.columns.values[:-6]]"
   ]
  },
  {
   "cell_type": "code",
   "execution_count": null,
   "metadata": {},
   "outputs": [],
   "source": [
    "MS2red = pca.transform(scale(MS2.values, axis=0, with_std=False))"
   ]
  },
  {
   "cell_type": "code",
   "execution_count": null,
   "metadata": {},
   "outputs": [],
   "source": [
    "sns.heatmap(np.corrcoef(MS2red), \n",
    "            xticklabels=MS2.index.values,\n",
    "            yticklabels=MS2.index.values)"
   ]
  },
  {
   "cell_type": "code",
   "execution_count": null,
   "metadata": {},
   "outputs": [],
   "source": [
    "JQ1 = JQ1[JQ1.columns.values[:-6]]"
   ]
  },
  {
   "cell_type": "code",
   "execution_count": null,
   "metadata": {},
   "outputs": [],
   "source": [
    "JQ1red = pca.transform(scale(JQ1.values, axis=0, with_std=False))"
   ]
  },
  {
   "cell_type": "code",
   "execution_count": null,
   "metadata": {},
   "outputs": [],
   "source": [
    "sns.heatmap(np.corrcoef(JQ1red), \n",
    "            xticklabels=JQ1.index.values,\n",
    "            yticklabels=JQ1.index.values)"
   ]
  },
  {
   "cell_type": "code",
   "execution_count": null,
   "metadata": {},
   "outputs": [],
   "source": [
    "MS2_JQ1 = MS2_JQ1[MS2_JQ1.columns.values[:-6]]"
   ]
  },
  {
   "cell_type": "code",
   "execution_count": null,
   "metadata": {},
   "outputs": [],
   "source": [
    "MS2_JQ1red = pca.transform(scale(MS2_JQ1.values, axis=0, with_std=False))"
   ]
  },
  {
   "cell_type": "code",
   "execution_count": null,
   "metadata": {},
   "outputs": [],
   "source": [
    "sns.heatmap(np.corrcoef(MS2_JQ1red),\n",
    "            xticklabels=MS2_JQ1.index.values,\n",
    "            yticklabels=MS2_JQ1.index.values)"
   ]
  },
  {
   "cell_type": "markdown",
   "metadata": {},
   "source": [
    "## Getting the Core TF information"
   ]
  },
  {
   "cell_type": "code",
   "execution_count": null,
   "metadata": {},
   "outputs": [],
   "source": [
    "ctf=pd.read_csv('CTF.csv',header=None)[0].values.tolist()\n",
    "ctf"
   ]
  },
  {
   "cell_type": "code",
   "execution_count": null,
   "metadata": {},
   "outputs": [],
   "source": [
    "genenames, notparsed = convertGenes(counts.columns.values)"
   ]
  },
  {
   "cell_type": "code",
   "execution_count": null,
   "metadata": {},
   "outputs": [],
   "source": [
    "genenames = np.array(genenames).tolist()"
   ]
  },
  {
   "cell_type": "code",
   "execution_count": null,
   "metadata": {},
   "outputs": [],
   "source": [
    "ctfpos = [genenames.index(val) for val in ctf if val in genenames]\n",
    "notctfpos = [i for i, val in enumerate(genenames) if val not in ctf]"
   ]
  },
  {
   "cell_type": "markdown",
   "metadata": {},
   "source": [
    "We find a CTF not in the dataset"
   ]
  },
  {
   "cell_type": "code",
   "execution_count": null,
   "metadata": {},
   "outputs": [],
   "source": [
    "[val for val in ctf if val not in genenames]"
   ]
  },
  {
   "cell_type": "code",
   "execution_count": null,
   "metadata": {},
   "outputs": [],
   "source": [
    "ctf.remove('IKAROS')"
   ]
  },
  {
   "cell_type": "markdown",
   "metadata": {},
   "source": [
    "# Let's look at how they change accross time\n",
    "\n",
    "how core transcription factors change accross time when the cell is with MS2 Condition\n",
    "\n",
    "first line is avg count of CTF and line 2 is avg count of protein coding genes "
   ]
  },
  {
   "cell_type": "code",
   "execution_count": null,
   "metadata": {},
   "outputs": [],
   "source": [
    "ctf_var = MS2repA.values[:,ctfpos].mean(1)\n",
    "mean_var = MS2repA.values.mean(1)"
   ]
  },
  {
   "cell_type": "code",
   "execution_count": null,
   "metadata": {},
   "outputs": [],
   "source": [
    "sns.lineplot(data=[ctf_var, mean_var])"
   ]
  },
  {
   "cell_type": "code",
   "execution_count": null,
   "metadata": {},
   "outputs": [],
   "source": [
    "ctf_var = MS2repB.values[:,ctfpos].mean(1)\n",
    "mean_var = MS2repB.values.mean(1)"
   ]
  },
  {
   "cell_type": "code",
   "execution_count": null,
   "metadata": {},
   "outputs": [],
   "source": [
    "sns.lineplot(data=[ctf_var, mean_var])"
   ]
  },
  {
   "cell_type": "markdown",
   "metadata": {},
   "source": [
    "# we can verify per tf \n",
    "\n",
    "but we expect to find the same results"
   ]
  },
  {
   "cell_type": "code",
   "execution_count": null,
   "metadata": {},
   "outputs": [],
   "source": [
    "ctf.append('all other gene coding')"
   ]
  },
  {
   "cell_type": "code",
   "execution_count": null,
   "metadata": {},
   "outputs": [],
   "source": [
    "from bokeh.models import Legend, LegendItem\n",
    "\n",
    "ctf_var = MS2repC.values[:,ctfpos]\n",
    "mean_var = MS2repC.values[:,notctfpos].mean(1)\n",
    "data = np.vstack((ctf_var.T, mean_var.T))\n",
    "source = ColumnDataSource(data=dict(\n",
    "    y=data.tolist(),\n",
    "    x=[np.linspace(0, data.shape[1]-1, data.shape[1]).tolist()]*data.shape[0],\n",
    "    color= viridis(data.shape[0]),\n",
    "    name=ctf\n",
    "))\n",
    "p = figure()\n",
    "r = p.multi_line('x','y',color='color',hover_line_color='blue', source=source)\n",
    "legend = Legend(items=[LegendItem(label=val, renderers=[r], index=i) for i, val in enumerate(ctf)])\n",
    "p.add_layout(legend)\n",
    "p.add_tools(HoverTool(show_arrow=False, line_policy='next', tooltips=[\n",
    "    ('TF', '@name'),\n",
    "]))\n",
    "show(p)"
   ]
  },
  {
   "cell_type": "markdown",
   "metadata": {},
   "source": [
    "## DESEQ ANALYSIS"
   ]
  },
  {
   "cell_type": "code",
   "execution_count": null,
   "metadata": {},
   "outputs": [],
   "source": [
    "# biggest change genes across time point\n",
    "# GSEA\n",
    "# counts = pd.read_csv(\"data/expression.MAX_AMLproject.counts.tsv\", sep='\\t')\n",
    " counts = pd.read_csv(\"data/expression.MAX_AMLproject.tpm.tsv\", sep='\\t')\n",
    "#transcripts = pd.read_csv(\"data/expression.MAX_AMLproject.transcripts.tsv\", sep='\\t')b"
   ]
  },
  {
   "cell_type": "code",
   "execution_count": null,
   "metadata": {},
   "outputs": [],
   "source": [
    "counts = counts.iloc[filtered]"
   ]
  },
  {
   "cell_type": "code",
   "execution_count": null,
   "metadata": {},
   "outputs": [],
   "source": [
    "#filter some more\n",
    "toremove = np.argwhere(counts[counts.columns.values[2:]].values.var(1)==0)"
   ]
  },
  {
   "cell_type": "code",
   "execution_count": null,
   "metadata": {},
   "outputs": [],
   "source": [
    "counts = counts.drop(counts.index[toremove.ravel()],0)\n",
    "counts = counts.reset_index()\n",
    "counts = counts.drop(columns='index')"
   ]
  },
  {
   "cell_type": "code",
   "execution_count": null,
   "metadata": {},
   "outputs": [],
   "source": [
    "counts = counts.drop('transcript_id(s)',1)"
   ]
  },
  {
   "cell_type": "code",
   "execution_count": null,
   "metadata": {},
   "outputs": [],
   "source": [
    "counts[counts.columns[1:]]"
   ]
  },
  {
   "cell_type": "code",
   "execution_count": null,
   "metadata": {},
   "outputs": [],
   "source": [
    "counts[counts.columns[1:]] = counts[counts.columns[1:]].astype(float).apply(lambda x: np.log2(x+1))\n",
    "counts[counts.columns[1:]] = scale(counts[counts.columns[1:]].values, axis=1, with_std=False)"
   ]
  },
  {
   "cell_type": "code",
   "execution_count": null,
   "metadata": {},
   "outputs": [],
   "source": [
    "START = '0'\n",
    "MS2 = '2'\n",
    "JQ1 = '3'\n",
    "MS2_JQ1 = '4'\n",
    "DMSO = '1'"
   ]
  },
  {
   "cell_type": "code",
   "execution_count": null,
   "metadata": {},
   "outputs": [],
   "source": [
    "DMSO = [val[0]==DMSO for val in counts.columns.values]\n",
    "DMSO_t = [int(val.split('-')[1][:-1]) if val[0]==DMSO else 0 for val in counts.columns.values]\n",
    "START = [val[0]==START for val in counts.columns.values]\n",
    "MS2_t = [int(val.split('-')[1][:-1]) if val[0]==MS2 else 0 for val in counts.columns.values]\n",
    "MS2_24 = [val == 24 for val in MS2_t]\n",
    "MS2 = [val[0]==MS2 for val in counts.columns.values]\n",
    "MS2_JQ1_t = [int(val.split('-')[1][:-1]) if val[0]==MS2_JQ1 else 0 for val in counts.columns.values]\n",
    "MS2_JQ1 = [val[0]==MS2_JQ1 for val in counts.columns.values]\n",
    "JQ1_t = [int(val.split('-')[1][:-1]) if val[0]==JQ1 else 0 for val in counts.columns.values]\n",
    "JQ1 = [val[0]==JQ1 for val in counts.columns.values]"
   ]
  },
  {
   "cell_type": "code",
   "execution_count": null,
   "metadata": {},
   "outputs": [],
   "source": [
    "design = pd.DataFrame(index=counts.columns.values[1:], \n",
    "                      columns=['START','DMSO','DMSO_t','MS2','MS2_t','MS2_24', 'MS2_JQ1', 'MS2_JQ1_t', 'JQ1', 'JQ1_t'], \n",
    "                      data=np.array([START, DMSO, DMSO_t, MS2, MS2_t, MS2_24, MS2_JQ1, MS2_JQ1_t, JQ1, JQ1_t]).T[1:])"
   ]
  },
  {
   "cell_type": "code",
   "execution_count": null,
   "metadata": {},
   "outputs": [],
   "source": [
    "design.index = 'X' + design.index.astype(str).str.replace('-','.')"
   ]
  },
  {
   "cell_type": "code",
   "execution_count": null,
   "metadata": {},
   "outputs": [],
   "source": [
    "design"
   ]
  },
  {
   "cell_type": "code",
   "execution_count": null,
   "metadata": {},
   "outputs": [],
   "source": [
    "deseq = pyDESeq2.pyDESeq2(count_matrix=counts,\n",
    "                          design_matrix = design,\n",
    "         design_formula=\"~ START + MS2_t\",\n",
    "         gene_column=\"gene_id\")"
   ]
  },
  {
   "cell_type": "code",
   "execution_count": null,
   "metadata": {},
   "outputs": [],
   "source": [
    "deseq.run_deseq()"
   ]
  },
  {
   "cell_type": "code",
   "execution_count": null,
   "metadata": {},
   "outputs": [],
   "source": [
    "deseq.get_deseq_result()"
   ]
  },
  {
   "cell_type": "code",
   "execution_count": null,
   "metadata": {},
   "outputs": [],
   "source": [
    "MS2res = deseq.deseq_result"
   ]
  },
  {
   "cell_type": "code",
   "execution_count": null,
   "metadata": {},
   "outputs": [],
   "source": [
    "MS2res.pvalue = np.nan_to_num(np.array(MS2res.pvalue), 1)\n",
    "MS2res.log2FoldChange = np.nan_to_num(np.array(MS2res.log2FoldChange), 0)"
   ]
  },
  {
   "cell_type": "code",
   "execution_count": null,
   "metadata": {},
   "outputs": [],
   "source": [
    "MS2res.gene_id = convertGenes(MS2res.gene_id)[0]"
   ]
  },
  {
   "cell_type": "code",
   "execution_count": null,
   "metadata": {},
   "outputs": [],
   "source": [
    "show(volcano(MS2res,tohighlight=ctf))"
   ]
  },
  {
   "cell_type": "code",
   "execution_count": null,
   "metadata": {},
   "outputs": [],
   "source": [
    "deseq = pyDESeq2.pyDESeq2(count_matrix=counts.drop('transcript_id(s)',1),\n",
    "                          design_matrix = design,\n",
    "         design_formula=\"~ START + MS2_24\",\n",
    "         gene_column=\"gene_id\")\n",
    "deseq.run_deseq()\n",
    "deseq.get_deseq_result()\n",
    "MS2res = deseq.deseq_result"
   ]
  },
  {
   "cell_type": "code",
   "execution_count": null,
   "metadata": {},
   "outputs": [],
   "source": [
    "MS2res.pvalue = np.nan_to_num(np.array(MS2res.pvalue), 1)\n",
    "MS2res.log2FoldChange = np.nan_to_num(np.array(MS2res.log2FoldChange), 0)\n",
    "MS2res.gene_id = convertGenes(MS2res.gene_id)[0]\n",
    "show(volcano(MS2res,tohighlight=ctf))"
   ]
  },
  {
   "cell_type": "code",
   "execution_count": null,
   "metadata": {},
   "outputs": [],
   "source": [
    "deseq = pyDESeq2.pyDESeq2(count_matrix=counts.drop('transcript_id(s)',1),\n",
    "                          design_matrix = design,\n",
    "         design_formula=\"~ START + JQ1\",\n",
    "         gene_column=\"gene_id\")\n",
    "deseq.run_deseq()\n",
    "deseq.get_deseq_result()\n",
    "JQ1res = deseq.deseq_result"
   ]
  },
  {
   "cell_type": "code",
   "execution_count": null,
   "metadata": {},
   "outputs": [],
   "source": [
    "JQ1res.pvalue = np.nan_to_num(np.array(JQ1res.pvalue), 1)\n",
    "JQ1res.log2FoldChange = np.nan_to_num(np.array(JQ1res.log2FoldChange), 0)\n",
    "JQ1res.gene_id = convertGenes(JQ1res.gene_id)[0]\n",
    "show(volcano(JQ1res,tohighlight=ctf))"
   ]
  },
  {
   "cell_type": "code",
   "execution_count": null,
   "metadata": {},
   "outputs": [],
   "source": [
    "deseq = pyDESeq2.pyDESeq2(count_matrix=counts.drop('transcript_id(s)',1),\n",
    "                          design_matrix = design,\n",
    "         design_formula=\"~ START + MS2_JQ1\",\n",
    "         gene_column=\"gene_id\")\n",
    "deseq.run_deseq()\n",
    "deseq.get_deseq_result()\n",
    "MS2_JQ1 = deseq.deseq_result"
   ]
  },
  {
   "cell_type": "code",
   "execution_count": null,
   "metadata": {},
   "outputs": [],
   "source": [
    "MS2_JQ1.pvalue = np.nan_to_num(np.array(MS2_JQ1.pvalue), 1)\n",
    "MS2_JQ1.log2FoldChange = np.nan_to_num(np.array(MS2_JQ1.log2FoldChange), 0)\n",
    "MS2_JQ1.gene_id = convertGenes(MS2_JQ1.gene_id)[0]\n",
    "show(volcano(MS2_JQ1,tohighlight=ctf))"
   ]
  },
  {
   "cell_type": "markdown",
   "metadata": {},
   "source": [
    "## Results\n",
    "\n",
    "It seems looking at both plottings of raw RNA data and Differential Expression analysis, that the RNA seq experiment is sound.\n",
    "\n",
    "However it does not completly match to the theory. We can see some of the CTF as showing differential expression but they are not the most differentially expressed ones. \n",
    "This could amount to noise. \n",
    "\n",
    "It seems however, looking at the TNSE and MDS plots, that the samples underwent a transcriptional adaptation to the presence of different element. This state change could be attributable to the CTFs. But it seemed to be a transcriptional adaptation rather than transcriptional collapse. Moreover, given the experimental set up (using PCR, renormalizing the RNA) it might be difficult to see transcriptional collaps.\n",
    "\n",
    "### DESEQ2\n",
    "\n",
    "you might have seen that more complex variance analysis can be achieved. However it seems that with the little data at hand and the assumption that these more complex models will achieve, staying on a simpler differential expression formula allows better results. I have tried a few and it seemed to confirm this suspicion (or I would need to provide a better model than DESEQ has to offer) limma.voom?"
   ]
  }
 ],
 "metadata": {
  "kernelspec": {
   "display_name": "Python 3",
   "language": "python",
   "name": "python3"
  },
  "language_info": {
   "codemirror_mode": {
    "name": "ipython",
    "version": 3
   },
   "file_extension": ".py",
   "mimetype": "text/x-python",
   "name": "python",
   "nbconvert_exporter": "python",
   "pygments_lexer": "ipython3",
   "version": "3.7.3"
  }
 },
 "nbformat": 4,
 "nbformat_minor": 2
}
