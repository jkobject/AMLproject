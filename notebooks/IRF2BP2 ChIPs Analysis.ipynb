{
 "cells": [
  {
   "cell_type": "markdown",
   "metadata": {},
   "source": [
    "# IRF2BP2 CHIPS"
   ]
  },
  {
   "cell_type": "code",
   "execution_count": null,
   "metadata": {},
   "outputs": [],
   "source": [
    "import os\n",
    "from IPython.display import IFrame\n",
    "import pandas as pd\n",
    "import sys\n",
    "sys.path.append('..')\n",
    "from JKBio.epigenetics import ChIP_helper as chip\n",
    "from JKBio import Helper as helper\n",
    "import igv\n",
    "import numpy as np\n",
    "import pyBigWig\n",
    "import itertools\n",
    "from sklearn.cluster import AgglomerativeClustering\n",
    "from sklearn.mixture import GaussianMixture\n",
    "from bokeh.plotting import *\n",
    "from sklearn.manifold import MDS, TSNE\n",
    "from sklearn.decomposition import PCA\n",
    "from sklearn.preprocessing import scale\n",
    "output_notebook()\n",
    "%load_ext autoreload\n",
    "%autoreload 2"
   ]
  },
  {
   "cell_type": "code",
   "execution_count": null,
   "metadata": {},
   "outputs": [],
   "source": [
    "bfolder = '../data/recalib_bigwig_rep1/'\n",
    "folder = '../data/diffBinding_rep1/diffPeaks/'"
   ]
  },
  {
   "cell_type": "code",
   "execution_count": null,
   "metadata": {},
   "outputs": [],
   "source": [
    " ! ls -alh $folder"
   ]
  },
  {
   "cell_type": "code",
   "execution_count": null,
   "metadata": {},
   "outputs": [],
   "source": [
    "peaks = ! ls $folder"
   ]
  },
  {
   "cell_type": "code",
   "execution_count": null,
   "metadata": {},
   "outputs": [],
   "source": [
    "bigwig = ! ls $bfolder\n",
    "num = 8"
   ]
  },
  {
   "cell_type": "code",
   "execution_count": null,
   "metadata": {},
   "outputs": [],
   "source": [
    "bigwig"
   ]
  },
  {
   "cell_type": "code",
   "execution_count": null,
   "metadata": {},
   "outputs": [],
   "source": [
    "bigwig=[(bfolder+bigwig[i],bfolder+bigwig[i+num]) for i in range(num)]"
   ]
  },
  {
   "cell_type": "code",
   "execution_count": null,
   "metadata": {},
   "outputs": [],
   "source": [
    "bigwig"
   ]
  },
  {
   "cell_type": "code",
   "execution_count": null,
   "metadata": {},
   "outputs": [],
   "source": [
    "peaks = [p for p in helper.grouped([folder+p for p in peaks],3)]"
   ]
  },
  {
   "cell_type": "code",
   "execution_count": null,
   "metadata": {},
   "outputs": [],
   "source": [
    "! mkdir temp"
   ]
  },
  {
   "cell_type": "code",
   "execution_count": null,
   "metadata": {},
   "outputs": [],
   "source": [
    "cov = {}\n",
    "fig = {}\n",
    "for i,peak in enumerate(peaks):\n",
    "    p = pd.read_csv(peak[1],sep='\\t',skiprows=1,header=None,\n",
    "            names=['chrom','start','end','name','foldchange']).sort_values(by='foldchange',ascending=False).iloc[:500]\n",
    "    p2 =pd.read_csv(peak[0],sep='\\t',skiprows=1,header=None,\n",
    "            names=['chrom','start','end','name','foldchange']).iloc[:500]\n",
    "    p = p.append(p2)\n",
    "    p2 =pd.read_csv(peak[2],sep='\\t',skiprows=1,header=None,\n",
    "            names=['chrom','start','end','name','foldchange']).sort_values(by='foldchange',ascending=True).iloc[-500:]\n",
    "    p = p.append(p2)\n",
    "    \n",
    "    cov.update(chip.computePeaksAt(p,bigwig[i], window=1000, numpeaks=1500, numthreads=8,\n",
    "                   width=5, length=10, name='temp/peaksat'+str(i)+'.png', sort=False)[0])"
   ]
  },
  {
   "cell_type": "code",
   "execution_count": null,
   "metadata": {},
   "outputs": [],
   "source": [
    "for k,i in cov.items():\n",
    "    print(k, i.max())"
   ]
  },
  {
   "cell_type": "code",
   "execution_count": null,
   "metadata": {},
   "outputs": [],
   "source": [
    "pd.read_csv(peak[1],sep='\\t')"
   ]
  },
  {
   "cell_type": "code",
   "execution_count": null,
   "metadata": {},
   "outputs": [],
   "source": []
  }
 ],
 "metadata": {
  "kernelspec": {
   "display_name": "Python 3",
   "language": "python",
   "name": "python3"
  },
  "language_info": {
   "codemirror_mode": {
    "name": "ipython",
    "version": 3
   },
   "file_extension": ".py",
   "mimetype": "text/x-python",
   "name": "python",
   "nbconvert_exporter": "python",
   "pygments_lexer": "ipython3",
   "version": "3.7.6"
  }
 },
 "nbformat": 4,
 "nbformat_minor": 2
}
